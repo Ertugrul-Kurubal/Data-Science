{
 "cells": [
  {
   "cell_type": "code",
   "execution_count": 1,
   "metadata": {},
   "outputs": [],
   "source": [
    "import numpy as np\n",
    "import pandas as pd\n",
    "import seaborn as sns\n",
    "import matplotlib.pyplot as plt\n",
    "\n",
    "%matplotlib inline\n",
    "#%matplotlib notebook\n",
    "#plt.rcParams[\"figure.figsize\"] = (10,6)\n",
    "import warnings\n",
    "warnings.filterwarnings(\"ignore\")\n",
    "warnings.warn(\"this will not show\")\n",
    "pd.set_option('display.float_format', lambda x: '%.3f' % x)\n",
    "pd.options.display.max_rows = 200\n",
    "pd.options.display.max_columns = 100"
   ]
  },
  {
   "cell_type": "code",
   "execution_count": 2,
   "metadata": {},
   "outputs": [
    {
     "data": {
      "text/html": [
       "<div>\n",
       "<style scoped>\n",
       "    .dataframe tbody tr th:only-of-type {\n",
       "        vertical-align: middle;\n",
       "    }\n",
       "\n",
       "    .dataframe tbody tr th {\n",
       "        vertical-align: top;\n",
       "    }\n",
       "\n",
       "    .dataframe thead th {\n",
       "        text-align: right;\n",
       "    }\n",
       "</style>\n",
       "<table border=\"1\" class=\"dataframe\">\n",
       "  <thead>\n",
       "    <tr style=\"text-align: right;\">\n",
       "      <th></th>\n",
       "      <th>Age</th>\n",
       "      <th>Gender</th>\n",
       "      <th>Status</th>\n",
       "      <th>WBC</th>\n",
       "      <th>LYM</th>\n",
       "      <th>HGB</th>\n",
       "      <th>PLT Sayısı</th>\n",
       "      <th>MPV</th>\n",
       "      <th>BASO</th>\n",
       "      <th>EOS</th>\n",
       "      <th>NEUT</th>\n",
       "      <th>ALBUMİN</th>\n",
       "      <th>ALT</th>\n",
       "      <th>AST</th>\n",
       "      <th>CK</th>\n",
       "      <th>ÜRE</th>\n",
       "      <th>KREATİN</th>\n",
       "      <th>CRP</th>\n",
       "      <th>FERRİTİN</th>\n",
       "      <th>D-DİMER</th>\n",
       "      <th>PTZ</th>\n",
       "      <th>INR</th>\n",
       "      <th>paCO2</th>\n",
       "      <th>O2</th>\n",
       "      <th>PROKALSİTONİN</th>\n",
       "    </tr>\n",
       "  </thead>\n",
       "  <tbody>\n",
       "    <tr>\n",
       "      <th>0</th>\n",
       "      <td>62.000</td>\n",
       "      <td>0.000</td>\n",
       "      <td>0.000</td>\n",
       "      <td>7.190</td>\n",
       "      <td>2.220</td>\n",
       "      <td>14.400</td>\n",
       "      <td>435</td>\n",
       "      <td>9.200</td>\n",
       "      <td>0.030</td>\n",
       "      <td>0.250</td>\n",
       "      <td>4.150</td>\n",
       "      <td>43</td>\n",
       "      <td>24.000</td>\n",
       "      <td>25.000</td>\n",
       "      <td>144.000</td>\n",
       "      <td>39.000</td>\n",
       "      <td>0.770</td>\n",
       "      <td>3.700</td>\n",
       "      <td>359.000</td>\n",
       "      <td>153.000</td>\n",
       "      <td>34.000</td>\n",
       "      <td>3.140</td>\n",
       "      <td>18.900</td>\n",
       "      <td>43.000</td>\n",
       "      <td>0.040</td>\n",
       "    </tr>\n",
       "    <tr>\n",
       "      <th>1</th>\n",
       "      <td>NaN</td>\n",
       "      <td>NaN</td>\n",
       "      <td>NaN</td>\n",
       "      <td>5.160</td>\n",
       "      <td>0.870</td>\n",
       "      <td>11.800</td>\n",
       "      <td>219</td>\n",
       "      <td>8.300</td>\n",
       "      <td>0.020</td>\n",
       "      <td>0.000</td>\n",
       "      <td>3.890</td>\n",
       "      <td>29</td>\n",
       "      <td>20.000</td>\n",
       "      <td>33.000</td>\n",
       "      <td>517.000</td>\n",
       "      <td>19.000</td>\n",
       "      <td>0.900</td>\n",
       "      <td>27.400</td>\n",
       "      <td>933.000</td>\n",
       "      <td>251.000</td>\n",
       "      <td>11.700</td>\n",
       "      <td>1.090</td>\n",
       "      <td>NaN</td>\n",
       "      <td>NaN</td>\n",
       "      <td>0.060</td>\n",
       "    </tr>\n",
       "    <tr>\n",
       "      <th>2</th>\n",
       "      <td>NaN</td>\n",
       "      <td>NaN</td>\n",
       "      <td>NaN</td>\n",
       "      <td>7.280</td>\n",
       "      <td>0.850</td>\n",
       "      <td>12.200</td>\n",
       "      <td>285</td>\n",
       "      <td>9.200</td>\n",
       "      <td>0.010</td>\n",
       "      <td>0.000</td>\n",
       "      <td>6.040</td>\n",
       "      <td>30</td>\n",
       "      <td>23.000</td>\n",
       "      <td>34.000</td>\n",
       "      <td>282.000</td>\n",
       "      <td>22.000</td>\n",
       "      <td>0.790</td>\n",
       "      <td>47.800</td>\n",
       "      <td>194.000</td>\n",
       "      <td>257.000</td>\n",
       "      <td>13.800</td>\n",
       "      <td>1.290</td>\n",
       "      <td>49.000</td>\n",
       "      <td>33.200</td>\n",
       "      <td>0.040</td>\n",
       "    </tr>\n",
       "    <tr>\n",
       "      <th>3</th>\n",
       "      <td>NaN</td>\n",
       "      <td>NaN</td>\n",
       "      <td>NaN</td>\n",
       "      <td>7.750</td>\n",
       "      <td>0.990</td>\n",
       "      <td>12.900</td>\n",
       "      <td>322</td>\n",
       "      <td>9.200</td>\n",
       "      <td>0.010</td>\n",
       "      <td>0.000</td>\n",
       "      <td>6.350</td>\n",
       "      <td>30</td>\n",
       "      <td>23.000</td>\n",
       "      <td>31.000</td>\n",
       "      <td>167.000</td>\n",
       "      <td>19.000</td>\n",
       "      <td>0.840</td>\n",
       "      <td>111.800</td>\n",
       "      <td>231.000</td>\n",
       "      <td>225.000</td>\n",
       "      <td>12.900</td>\n",
       "      <td>1.200</td>\n",
       "      <td>45.400</td>\n",
       "      <td>48.500</td>\n",
       "      <td>0.090</td>\n",
       "    </tr>\n",
       "    <tr>\n",
       "      <th>4</th>\n",
       "      <td>NaN</td>\n",
       "      <td>NaN</td>\n",
       "      <td>NaN</td>\n",
       "      <td>8.740</td>\n",
       "      <td>0.900</td>\n",
       "      <td>11.600</td>\n",
       "      <td>412</td>\n",
       "      <td>9.200</td>\n",
       "      <td>0.030</td>\n",
       "      <td>0.010</td>\n",
       "      <td>6.930</td>\n",
       "      <td>26</td>\n",
       "      <td>28.000</td>\n",
       "      <td>36.000</td>\n",
       "      <td>70.000</td>\n",
       "      <td>18.000</td>\n",
       "      <td>0.850</td>\n",
       "      <td>81.600</td>\n",
       "      <td>185.000</td>\n",
       "      <td>287.000</td>\n",
       "      <td>12.700</td>\n",
       "      <td>1.180</td>\n",
       "      <td>44.600</td>\n",
       "      <td>47.000</td>\n",
       "      <td>0.070</td>\n",
       "    </tr>\n",
       "  </tbody>\n",
       "</table>\n",
       "</div>"
      ],
      "text/plain": [
       "     Age  Gender  Status   WBC   LYM    HGB  PLT Sayısı   MPV  BASO   EOS  \\\n",
       "0 62.000   0.000   0.000 7.190 2.220 14.400         435 9.200 0.030 0.250   \n",
       "1    NaN     NaN     NaN 5.160 0.870 11.800         219 8.300 0.020 0.000   \n",
       "2    NaN     NaN     NaN 7.280 0.850 12.200         285 9.200 0.010 0.000   \n",
       "3    NaN     NaN     NaN 7.750 0.990 12.900         322 9.200 0.010 0.000   \n",
       "4    NaN     NaN     NaN 8.740 0.900 11.600         412 9.200 0.030 0.010   \n",
       "\n",
       "   NEUT  ALBUMİN    ALT    AST      CK    ÜRE  KREATİN     CRP  FERRİTİN  \\\n",
       "0 4.150       43 24.000 25.000 144.000 39.000    0.770   3.700   359.000   \n",
       "1 3.890       29 20.000 33.000 517.000 19.000    0.900  27.400   933.000   \n",
       "2 6.040       30 23.000 34.000 282.000 22.000    0.790  47.800   194.000   \n",
       "3 6.350       30 23.000 31.000 167.000 19.000    0.840 111.800   231.000   \n",
       "4 6.930       26 28.000 36.000  70.000 18.000    0.850  81.600   185.000   \n",
       "\n",
       "   D-DİMER    PTZ   INR  paCO2     O2  PROKALSİTONİN  \n",
       "0  153.000 34.000 3.140 18.900 43.000          0.040  \n",
       "1  251.000 11.700 1.090    NaN    NaN          0.060  \n",
       "2  257.000 13.800 1.290 49.000 33.200          0.040  \n",
       "3  225.000 12.900 1.200 45.400 48.500          0.090  \n",
       "4  287.000 12.700 1.180 44.600 47.000          0.070  "
      ]
     },
     "execution_count": 2,
     "metadata": {},
     "output_type": "execute_result"
    }
   ],
   "source": [
    "df = pd.read_csv (\"covid_all.csv\")\n",
    "df.head()"
   ]
  },
  {
   "cell_type": "code",
   "execution_count": 3,
   "metadata": {},
   "outputs": [
    {
     "data": {
      "text/plain": [
       "(25934, 25)"
      ]
     },
     "execution_count": 3,
     "metadata": {},
     "output_type": "execute_result"
    }
   ],
   "source": [
    "df.shape"
   ]
  },
  {
   "cell_type": "code",
   "execution_count": 4,
   "metadata": {},
   "outputs": [
    {
     "name": "stdout",
     "output_type": "stream",
     "text": [
      "<class 'pandas.core.frame.DataFrame'>\n",
      "RangeIndex: 25934 entries, 0 to 25933\n",
      "Data columns (total 25 columns):\n",
      " #   Column         Non-Null Count  Dtype  \n",
      "---  ------         --------------  -----  \n",
      " 0   Age            3965 non-null   float64\n",
      " 1   Gender         3965 non-null   float64\n",
      " 2   Status         3965 non-null   float64\n",
      " 3   WBC            25932 non-null  float64\n",
      " 4   LYM            25877 non-null  float64\n",
      " 5   HGB            25925 non-null  float64\n",
      " 6   PLT Sayısı     25934 non-null  int64  \n",
      " 7   MPV            25928 non-null  float64\n",
      " 8   BASO           25932 non-null  float64\n",
      " 9   EOS            25930 non-null  float64\n",
      " 10  NEUT           25928 non-null  float64\n",
      " 11  ALBUMİN        25934 non-null  int64  \n",
      " 12  ALT            25934 non-null  float64\n",
      " 13  AST            25934 non-null  float64\n",
      " 14  CK             25932 non-null  float64\n",
      " 15  ÜRE            25934 non-null  float64\n",
      " 16  KREATİN        25934 non-null  float64\n",
      " 17  CRP            25934 non-null  float64\n",
      " 18  FERRİTİN       25933 non-null  float64\n",
      " 19  D-DİMER        25888 non-null  float64\n",
      " 20  PTZ            25902 non-null  float64\n",
      " 21  INR            25902 non-null  float64\n",
      " 22  paCO2          25421 non-null  float64\n",
      " 23  O2             25388 non-null  float64\n",
      " 24  PROKALSİTONİN  25934 non-null  float64\n",
      "dtypes: float64(23), int64(2)\n",
      "memory usage: 4.9 MB\n"
     ]
    }
   ],
   "source": [
    "df.info()"
   ]
  },
  {
   "cell_type": "code",
   "execution_count": 5,
   "metadata": {},
   "outputs": [
    {
     "data": {
      "text/plain": [
       "Age              21969\n",
       "Gender           21969\n",
       "Status           21969\n",
       "WBC                  2\n",
       "LYM                 57\n",
       "HGB                  9\n",
       "PLT Sayısı           0\n",
       "MPV                  6\n",
       "BASO                 2\n",
       "EOS                  4\n",
       "NEUT                 6\n",
       "ALBUMİN              0\n",
       "ALT                  0\n",
       "AST                  0\n",
       "CK                   2\n",
       "ÜRE                  0\n",
       "KREATİN              0\n",
       "CRP                  0\n",
       "FERRİTİN             1\n",
       "D-DİMER             46\n",
       "PTZ                 32\n",
       "INR                 32\n",
       "paCO2              513\n",
       "O2                 546\n",
       "PROKALSİTONİN        0\n",
       "dtype: int64"
      ]
     },
     "execution_count": 5,
     "metadata": {},
     "output_type": "execute_result"
    }
   ],
   "source": [
    "df.isnull().sum()"
   ]
  },
  {
   "cell_type": "code",
   "execution_count": 6,
   "metadata": {},
   "outputs": [
    {
     "data": {
      "text/plain": [
       "0.000    3495\n",
       "1.000     470\n",
       "Name: Status, dtype: int64"
      ]
     },
     "execution_count": 6,
     "metadata": {},
     "output_type": "execute_result"
    }
   ],
   "source": [
    "df.Status.value_counts()"
   ]
  },
  {
   "cell_type": "code",
   "execution_count": 7,
   "metadata": {},
   "outputs": [],
   "source": [
    "df.dropna(inplace=True)"
   ]
  },
  {
   "cell_type": "code",
   "execution_count": 8,
   "metadata": {},
   "outputs": [
    {
     "data": {
      "text/plain": [
       "(3774, 25)"
      ]
     },
     "execution_count": 8,
     "metadata": {},
     "output_type": "execute_result"
    }
   ],
   "source": [
    "df.shape"
   ]
  },
  {
   "cell_type": "code",
   "execution_count": 9,
   "metadata": {},
   "outputs": [
    {
     "data": {
      "text/plain": [
       "0.000    3313\n",
       "1.000     461\n",
       "Name: Status, dtype: int64"
      ]
     },
     "execution_count": 9,
     "metadata": {},
     "output_type": "execute_result"
    }
   ],
   "source": [
    "df.Status.value_counts()"
   ]
  },
  {
   "cell_type": "code",
   "execution_count": 10,
   "metadata": {},
   "outputs": [
    {
     "data": {
      "image/png": "[encoded data removed]",
      "text/plain": [
       "<Figure size 432x288 with 1 Axes>"
      ]
     },
     "metadata": {
      "needs_background": "light"
     },
     "output_type": "display_data"
    }
   ],
   "source": [
    "sns.countplot(df.Status);"
   ]
  },
  {
   "cell_type": "code",
   "execution_count": 11,
   "metadata": {},
   "outputs": [
    {
     "data": {
      "text/html": [
       "<div>\n",
       "<style scoped>\n",
       "    .dataframe tbody tr th:only-of-type {\n",
       "        vertical-align: middle;\n",
       "    }\n",
       "\n",
       "    .dataframe tbody tr th {\n",
       "        vertical-align: top;\n",
       "    }\n",
       "\n",
       "    .dataframe thead th {\n",
       "        text-align: right;\n",
       "    }\n",
       "</style>\n",
       "<table border=\"1\" class=\"dataframe\">\n",
       "  <thead>\n",
       "    <tr style=\"text-align: right;\">\n",
       "      <th></th>\n",
       "      <th>count</th>\n",
       "      <th>mean</th>\n",
       "      <th>std</th>\n",
       "      <th>min</th>\n",
       "      <th>25%</th>\n",
       "      <th>50%</th>\n",
       "      <th>75%</th>\n",
       "      <th>max</th>\n",
       "    </tr>\n",
       "  </thead>\n",
       "  <tbody>\n",
       "    <tr>\n",
       "      <th>Age</th>\n",
       "      <td>3774.000</td>\n",
       "      <td>55.728</td>\n",
       "      <td>17.168</td>\n",
       "      <td>1.000</td>\n",
       "      <td>43.000</td>\n",
       "      <td>56.000</td>\n",
       "      <td>69.000</td>\n",
       "      <td>108.000</td>\n",
       "    </tr>\n",
       "    <tr>\n",
       "      <th>Gender</th>\n",
       "      <td>3774.000</td>\n",
       "      <td>0.491</td>\n",
       "      <td>0.500</td>\n",
       "      <td>0.000</td>\n",
       "      <td>0.000</td>\n",
       "      <td>0.000</td>\n",
       "      <td>1.000</td>\n",
       "      <td>1.000</td>\n",
       "    </tr>\n",
       "    <tr>\n",
       "      <th>Status</th>\n",
       "      <td>3774.000</td>\n",
       "      <td>0.122</td>\n",
       "      <td>0.328</td>\n",
       "      <td>0.000</td>\n",
       "      <td>0.000</td>\n",
       "      <td>0.000</td>\n",
       "      <td>0.000</td>\n",
       "      <td>1.000</td>\n",
       "    </tr>\n",
       "    <tr>\n",
       "      <th>WBC</th>\n",
       "      <td>3774.000</td>\n",
       "      <td>7.781</td>\n",
       "      <td>4.403</td>\n",
       "      <td>0.160</td>\n",
       "      <td>5.100</td>\n",
       "      <td>6.820</td>\n",
       "      <td>9.238</td>\n",
       "      <td>111.070</td>\n",
       "    </tr>\n",
       "    <tr>\n",
       "      <th>LYM</th>\n",
       "      <td>3774.000</td>\n",
       "      <td>1.414</td>\n",
       "      <td>1.935</td>\n",
       "      <td>0.000</td>\n",
       "      <td>0.840</td>\n",
       "      <td>1.210</td>\n",
       "      <td>1.710</td>\n",
       "      <td>98.650</td>\n",
       "    </tr>\n",
       "    <tr>\n",
       "      <th>HGB</th>\n",
       "      <td>3774.000</td>\n",
       "      <td>13.373</td>\n",
       "      <td>1.964</td>\n",
       "      <td>1.600</td>\n",
       "      <td>12.200</td>\n",
       "      <td>13.500</td>\n",
       "      <td>14.700</td>\n",
       "      <td>21.300</td>\n",
       "    </tr>\n",
       "    <tr>\n",
       "      <th>PLT Sayısı</th>\n",
       "      <td>3774.000</td>\n",
       "      <td>228.478</td>\n",
       "      <td>86.362</td>\n",
       "      <td>19.000</td>\n",
       "      <td>171.000</td>\n",
       "      <td>214.000</td>\n",
       "      <td>269.000</td>\n",
       "      <td>750.000</td>\n",
       "    </tr>\n",
       "    <tr>\n",
       "      <th>MPV</th>\n",
       "      <td>3774.000</td>\n",
       "      <td>10.182</td>\n",
       "      <td>1.109</td>\n",
       "      <td>7.200</td>\n",
       "      <td>9.400</td>\n",
       "      <td>10.100</td>\n",
       "      <td>10.900</td>\n",
       "      <td>15.200</td>\n",
       "    </tr>\n",
       "    <tr>\n",
       "      <th>BASO</th>\n",
       "      <td>3774.000</td>\n",
       "      <td>0.021</td>\n",
       "      <td>0.020</td>\n",
       "      <td>0.000</td>\n",
       "      <td>0.010</td>\n",
       "      <td>0.020</td>\n",
       "      <td>0.030</td>\n",
       "      <td>0.450</td>\n",
       "    </tr>\n",
       "    <tr>\n",
       "      <th>EOS</th>\n",
       "      <td>3774.000</td>\n",
       "      <td>0.057</td>\n",
       "      <td>0.204</td>\n",
       "      <td>0.000</td>\n",
       "      <td>0.000</td>\n",
       "      <td>0.010</td>\n",
       "      <td>0.050</td>\n",
       "      <td>7.000</td>\n",
       "    </tr>\n",
       "    <tr>\n",
       "      <th>NEUT</th>\n",
       "      <td>3774.000</td>\n",
       "      <td>5.815</td>\n",
       "      <td>3.762</td>\n",
       "      <td>0.110</td>\n",
       "      <td>3.380</td>\n",
       "      <td>4.750</td>\n",
       "      <td>7.040</td>\n",
       "      <td>38.590</td>\n",
       "    </tr>\n",
       "    <tr>\n",
       "      <th>ALBUMİN</th>\n",
       "      <td>3774.000</td>\n",
       "      <td>30.300</td>\n",
       "      <td>6.497</td>\n",
       "      <td>5.000</td>\n",
       "      <td>26.000</td>\n",
       "      <td>30.000</td>\n",
       "      <td>35.000</td>\n",
       "      <td>52.000</td>\n",
       "    </tr>\n",
       "    <tr>\n",
       "      <th>ALT</th>\n",
       "      <td>3774.000</td>\n",
       "      <td>51.310</td>\n",
       "      <td>169.825</td>\n",
       "      <td>6.000</td>\n",
       "      <td>16.000</td>\n",
       "      <td>26.000</td>\n",
       "      <td>46.000</td>\n",
       "      <td>4113.000</td>\n",
       "    </tr>\n",
       "    <tr>\n",
       "      <th>AST</th>\n",
       "      <td>3774.000</td>\n",
       "      <td>61.136</td>\n",
       "      <td>265.137</td>\n",
       "      <td>3.000</td>\n",
       "      <td>19.000</td>\n",
       "      <td>27.000</td>\n",
       "      <td>43.000</td>\n",
       "      <td>4202.000</td>\n",
       "    </tr>\n",
       "    <tr>\n",
       "      <th>CK</th>\n",
       "      <td>3774.000</td>\n",
       "      <td>234.592</td>\n",
       "      <td>1367.703</td>\n",
       "      <td>7.000</td>\n",
       "      <td>35.000</td>\n",
       "      <td>64.000</td>\n",
       "      <td>148.000</td>\n",
       "      <td>42670.000</td>\n",
       "    </tr>\n",
       "    <tr>\n",
       "      <th>ÜRE</th>\n",
       "      <td>3774.000</td>\n",
       "      <td>53.026</td>\n",
       "      <td>46.154</td>\n",
       "      <td>2.000</td>\n",
       "      <td>26.000</td>\n",
       "      <td>37.000</td>\n",
       "      <td>59.000</td>\n",
       "      <td>274.000</td>\n",
       "    </tr>\n",
       "    <tr>\n",
       "      <th>KREATİN</th>\n",
       "      <td>3774.000</td>\n",
       "      <td>1.348</td>\n",
       "      <td>1.549</td>\n",
       "      <td>0.200</td>\n",
       "      <td>0.720</td>\n",
       "      <td>0.840</td>\n",
       "      <td>1.160</td>\n",
       "      <td>18.220</td>\n",
       "    </tr>\n",
       "    <tr>\n",
       "      <th>CRP</th>\n",
       "      <td>3774.000</td>\n",
       "      <td>59.397</td>\n",
       "      <td>64.660</td>\n",
       "      <td>2.000</td>\n",
       "      <td>10.300</td>\n",
       "      <td>36.600</td>\n",
       "      <td>89.275</td>\n",
       "      <td>350.000</td>\n",
       "    </tr>\n",
       "    <tr>\n",
       "      <th>FERRİTİN</th>\n",
       "      <td>3774.000</td>\n",
       "      <td>298.542</td>\n",
       "      <td>286.793</td>\n",
       "      <td>1.000</td>\n",
       "      <td>20.000</td>\n",
       "      <td>225.000</td>\n",
       "      <td>496.000</td>\n",
       "      <td>1500.000</td>\n",
       "    </tr>\n",
       "    <tr>\n",
       "      <th>D-DİMER</th>\n",
       "      <td>3774.000</td>\n",
       "      <td>979.565</td>\n",
       "      <td>3401.074</td>\n",
       "      <td>0.000</td>\n",
       "      <td>107.000</td>\n",
       "      <td>246.000</td>\n",
       "      <td>546.750</td>\n",
       "      <td>50107.000</td>\n",
       "    </tr>\n",
       "    <tr>\n",
       "      <th>PTZ</th>\n",
       "      <td>3774.000</td>\n",
       "      <td>14.918</td>\n",
       "      <td>9.859</td>\n",
       "      <td>0.000</td>\n",
       "      <td>12.000</td>\n",
       "      <td>13.000</td>\n",
       "      <td>14.600</td>\n",
       "      <td>200.200</td>\n",
       "    </tr>\n",
       "    <tr>\n",
       "      <th>INR</th>\n",
       "      <td>3774.000</td>\n",
       "      <td>1.386</td>\n",
       "      <td>0.894</td>\n",
       "      <td>0.000</td>\n",
       "      <td>1.130</td>\n",
       "      <td>1.210</td>\n",
       "      <td>1.360</td>\n",
       "      <td>18.170</td>\n",
       "    </tr>\n",
       "    <tr>\n",
       "      <th>paCO2</th>\n",
       "      <td>3774.000</td>\n",
       "      <td>45.487</td>\n",
       "      <td>16.439</td>\n",
       "      <td>5.400</td>\n",
       "      <td>35.900</td>\n",
       "      <td>41.300</td>\n",
       "      <td>49.700</td>\n",
       "      <td>228.000</td>\n",
       "    </tr>\n",
       "    <tr>\n",
       "      <th>O2</th>\n",
       "      <td>3774.000</td>\n",
       "      <td>45.150</td>\n",
       "      <td>22.907</td>\n",
       "      <td>6.700</td>\n",
       "      <td>32.000</td>\n",
       "      <td>40.900</td>\n",
       "      <td>51.200</td>\n",
       "      <td>427.000</td>\n",
       "    </tr>\n",
       "    <tr>\n",
       "      <th>PROKALSİTONİN</th>\n",
       "      <td>3774.000</td>\n",
       "      <td>1.267</td>\n",
       "      <td>6.818</td>\n",
       "      <td>0.010</td>\n",
       "      <td>0.050</td>\n",
       "      <td>0.100</td>\n",
       "      <td>0.290</td>\n",
       "      <td>100.000</td>\n",
       "    </tr>\n",
       "  </tbody>\n",
       "</table>\n",
       "</div>"
      ],
      "text/plain": [
       "                 count    mean      std    min     25%     50%     75%  \\\n",
       "Age           3774.000  55.728   17.168  1.000  43.000  56.000  69.000   \n",
       "Gender        3774.000   0.491    0.500  0.000   0.000   0.000   1.000   \n",
       "Status        3774.000   0.122    0.328  0.000   0.000   0.000   0.000   \n",
       "WBC           3774.000   7.781    4.403  0.160   5.100   6.820   9.238   \n",
       "LYM           3774.000   1.414    1.935  0.000   0.840   1.210   1.710   \n",
       "HGB           3774.000  13.373    1.964  1.600  12.200  13.500  14.700   \n",
       "PLT Sayısı    3774.000 228.478   86.362 19.000 171.000 214.000 269.000   \n",
       "MPV           3774.000  10.182    1.109  7.200   9.400  10.100  10.900   \n",
       "BASO          3774.000   0.021    0.020  0.000   0.010   0.020   0.030   \n",
       "EOS           3774.000   0.057    0.204  0.000   0.000   0.010   0.050   \n",
       "NEUT          3774.000   5.815    3.762  0.110   3.380   4.750   7.040   \n",
       "ALBUMİN       3774.000  30.300    6.497  5.000  26.000  30.000  35.000   \n",
       "ALT           3774.000  51.310  169.825  6.000  16.000  26.000  46.000   \n",
       "AST           3774.000  61.136  265.137  3.000  19.000  27.000  43.000   \n",
       "CK            3774.000 234.592 1367.703  7.000  35.000  64.000 148.000   \n",
       "ÜRE           3774.000  53.026   46.154  2.000  26.000  37.000  59.000   \n",
       "KREATİN       3774.000   1.348    1.549  0.200   0.720   0.840   1.160   \n",
       "CRP           3774.000  59.397   64.660  2.000  10.300  36.600  89.275   \n",
       "FERRİTİN      3774.000 298.542  286.793  1.000  20.000 225.000 496.000   \n",
       "D-DİMER       3774.000 979.565 3401.074  0.000 107.000 246.000 546.750   \n",
       "PTZ           3774.000  14.918    9.859  0.000  12.000  13.000  14.600   \n",
       "INR           3774.000   1.386    0.894  0.000   1.130   1.210   1.360   \n",
       "paCO2         3774.000  45.487   16.439  5.400  35.900  41.300  49.700   \n",
       "O2            3774.000  45.150   22.907  6.700  32.000  40.900  51.200   \n",
       "PROKALSİTONİN 3774.000   1.267    6.818  0.010   0.050   0.100   0.290   \n",
       "\n",
       "                    max  \n",
       "Age             108.000  \n",
       "Gender            1.000  \n",
       "Status            1.000  \n",
       "WBC             111.070  \n",
       "LYM              98.650  \n",
       "HGB              21.300  \n",
       "PLT Sayısı      750.000  \n",
       "MPV              15.200  \n",
       "BASO              0.450  \n",
       "EOS               7.000  \n",
       "NEUT             38.590  \n",
       "ALBUMİN          52.000  \n",
       "ALT            4113.000  \n",
       "AST            4202.000  \n",
       "CK            42670.000  \n",
       "ÜRE             274.000  \n",
       "KREATİN          18.220  \n",
       "CRP             350.000  \n",
       "FERRİTİN       1500.000  \n",
       "D-DİMER       50107.000  \n",
       "PTZ             200.200  \n",
       "INR              18.170  \n",
       "paCO2           228.000  \n",
       "O2              427.000  \n",
       "PROKALSİTONİN   100.000  "
      ]
     },
     "execution_count": 11,
     "metadata": {},
     "output_type": "execute_result"
    }
   ],
   "source": [
    "df.describe().T"
   ]
  },
  {
   "cell_type": "code",
   "execution_count": 12,
   "metadata": {},
   "outputs": [
    {
     "data": {
      "text/plain": [
       "<AxesSubplot:xlabel='Gender', ylabel='count'>"
      ]
     },
     "execution_count": 12,
     "metadata": {},
     "output_type": "execute_result"
    },
    {
     "data": {
      "image/png": "[encoded data removed]",
      "text/plain": [
       "<Figure size 432x288 with 1 Axes>"
      ]
     },
     "metadata": {
      "needs_background": "light"
     },
     "output_type": "display_data"
    }
   ],
   "source": [
    "sns.countplot(x=\"Gender\", hue=\"Status\", data=df)"
   ]
  },
  {
   "cell_type": "code",
   "execution_count": 13,
   "metadata": {},
   "outputs": [
    {
     "data": {
      "text/html": [
       "<div>\n",
       "<style scoped>\n",
       "    .dataframe tbody tr th:only-of-type {\n",
       "        vertical-align: middle;\n",
       "    }\n",
       "\n",
       "    .dataframe tbody tr th {\n",
       "        vertical-align: top;\n",
       "    }\n",
       "\n",
       "    .dataframe thead th {\n",
       "        text-align: right;\n",
       "    }\n",
       "</style>\n",
       "<table border=\"1\" class=\"dataframe\">\n",
       "  <thead>\n",
       "    <tr style=\"text-align: right;\">\n",
       "      <th></th>\n",
       "      <th>Status</th>\n",
       "      <th>0.000</th>\n",
       "      <th>1.000</th>\n",
       "    </tr>\n",
       "  </thead>\n",
       "  <tbody>\n",
       "    <tr>\n",
       "      <th rowspan=\"8\" valign=\"top\">Age</th>\n",
       "      <th>count</th>\n",
       "      <td>3313.000</td>\n",
       "      <td>461.000</td>\n",
       "    </tr>\n",
       "    <tr>\n",
       "      <th>mean</th>\n",
       "      <td>53.771</td>\n",
       "      <td>69.790</td>\n",
       "    </tr>\n",
       "    <tr>\n",
       "      <th>std</th>\n",
       "      <td>16.717</td>\n",
       "      <td>13.401</td>\n",
       "    </tr>\n",
       "    <tr>\n",
       "      <th>min</th>\n",
       "      <td>1.000</td>\n",
       "      <td>23.000</td>\n",
       "    </tr>\n",
       "    <tr>\n",
       "      <th>25%</th>\n",
       "      <td>42.000</td>\n",
       "      <td>62.000</td>\n",
       "    </tr>\n",
       "    <tr>\n",
       "      <th>50%</th>\n",
       "      <td>55.000</td>\n",
       "      <td>71.000</td>\n",
       "    </tr>\n",
       "    <tr>\n",
       "      <th>75%</th>\n",
       "      <td>66.000</td>\n",
       "      <td>80.000</td>\n",
       "    </tr>\n",
       "    <tr>\n",
       "      <th>max</th>\n",
       "      <td>108.000</td>\n",
       "      <td>99.000</td>\n",
       "    </tr>\n",
       "    <tr>\n",
       "      <th rowspan=\"8\" valign=\"top\">Gender</th>\n",
       "      <th>count</th>\n",
       "      <td>3313.000</td>\n",
       "      <td>461.000</td>\n",
       "    </tr>\n",
       "    <tr>\n",
       "      <th>mean</th>\n",
       "      <td>0.483</td>\n",
       "      <td>0.549</td>\n",
       "    </tr>\n",
       "    <tr>\n",
       "      <th>std</th>\n",
       "      <td>0.500</td>\n",
       "      <td>0.498</td>\n",
       "    </tr>\n",
       "    <tr>\n",
       "      <th>min</th>\n",
       "      <td>0.000</td>\n",
       "      <td>0.000</td>\n",
       "    </tr>\n",
       "    <tr>\n",
       "      <th>25%</th>\n",
       "      <td>0.000</td>\n",
       "      <td>0.000</td>\n",
       "    </tr>\n",
       "    <tr>\n",
       "      <th>50%</th>\n",
       "      <td>0.000</td>\n",
       "      <td>1.000</td>\n",
       "    </tr>\n",
       "    <tr>\n",
       "      <th>75%</th>\n",
       "      <td>1.000</td>\n",
       "      <td>1.000</td>\n",
       "    </tr>\n",
       "    <tr>\n",
       "      <th>max</th>\n",
       "      <td>1.000</td>\n",
       "      <td>1.000</td>\n",
       "    </tr>\n",
       "    <tr>\n",
       "      <th rowspan=\"8\" valign=\"top\">WBC</th>\n",
       "      <th>count</th>\n",
       "      <td>3313.000</td>\n",
       "      <td>461.000</td>\n",
       "    </tr>\n",
       "    <tr>\n",
       "      <th>mean</th>\n",
       "      <td>7.420</td>\n",
       "      <td>10.378</td>\n",
       "    </tr>\n",
       "    <tr>\n",
       "      <th>std</th>\n",
       "      <td>4.037</td>\n",
       "      <td>5.830</td>\n",
       "    </tr>\n",
       "    <tr>\n",
       "      <th>min</th>\n",
       "      <td>0.160</td>\n",
       "      <td>1.490</td>\n",
       "    </tr>\n",
       "    <tr>\n",
       "      <th>25%</th>\n",
       "      <td>5.030</td>\n",
       "      <td>6.120</td>\n",
       "    </tr>\n",
       "    <tr>\n",
       "      <th>50%</th>\n",
       "      <td>6.630</td>\n",
       "      <td>9.060</td>\n",
       "    </tr>\n",
       "    <tr>\n",
       "      <th>75%</th>\n",
       "      <td>8.830</td>\n",
       "      <td>13.490</td>\n",
       "    </tr>\n",
       "    <tr>\n",
       "      <th>max</th>\n",
       "      <td>111.070</td>\n",
       "      <td>47.200</td>\n",
       "    </tr>\n",
       "    <tr>\n",
       "      <th rowspan=\"8\" valign=\"top\">LYM</th>\n",
       "      <th>count</th>\n",
       "      <td>3313.000</td>\n",
       "      <td>461.000</td>\n",
       "    </tr>\n",
       "    <tr>\n",
       "      <th>mean</th>\n",
       "      <td>1.455</td>\n",
       "      <td>1.122</td>\n",
       "    </tr>\n",
       "    <tr>\n",
       "      <th>std</th>\n",
       "      <td>1.933</td>\n",
       "      <td>1.928</td>\n",
       "    </tr>\n",
       "    <tr>\n",
       "      <th>min</th>\n",
       "      <td>0.040</td>\n",
       "      <td>0.000</td>\n",
       "    </tr>\n",
       "    <tr>\n",
       "      <th>25%</th>\n",
       "      <td>0.900</td>\n",
       "      <td>0.530</td>\n",
       "    </tr>\n",
       "    <tr>\n",
       "      <th>50%</th>\n",
       "      <td>1.260</td>\n",
       "      <td>0.800</td>\n",
       "    </tr>\n",
       "    <tr>\n",
       "      <th>75%</th>\n",
       "      <td>1.770</td>\n",
       "      <td>1.280</td>\n",
       "    </tr>\n",
       "    <tr>\n",
       "      <th>max</th>\n",
       "      <td>98.650</td>\n",
       "      <td>37.170</td>\n",
       "    </tr>\n",
       "    <tr>\n",
       "      <th rowspan=\"8\" valign=\"top\">HGB</th>\n",
       "      <th>count</th>\n",
       "      <td>3313.000</td>\n",
       "      <td>461.000</td>\n",
       "    </tr>\n",
       "    <tr>\n",
       "      <th>mean</th>\n",
       "      <td>13.475</td>\n",
       "      <td>12.644</td>\n",
       "    </tr>\n",
       "    <tr>\n",
       "      <th>std</th>\n",
       "      <td>1.906</td>\n",
       "      <td>2.204</td>\n",
       "    </tr>\n",
       "    <tr>\n",
       "      <th>min</th>\n",
       "      <td>1.600</td>\n",
       "      <td>6.400</td>\n",
       "    </tr>\n",
       "    <tr>\n",
       "      <th>25%</th>\n",
       "      <td>12.400</td>\n",
       "      <td>11.200</td>\n",
       "    </tr>\n",
       "    <tr>\n",
       "      <th>50%</th>\n",
       "      <td>13.600</td>\n",
       "      <td>12.700</td>\n",
       "    </tr>\n",
       "    <tr>\n",
       "      <th>75%</th>\n",
       "      <td>14.800</td>\n",
       "      <td>14.000</td>\n",
       "    </tr>\n",
       "    <tr>\n",
       "      <th>max</th>\n",
       "      <td>21.300</td>\n",
       "      <td>19.200</td>\n",
       "    </tr>\n",
       "    <tr>\n",
       "      <th rowspan=\"8\" valign=\"top\">PLT Sayısı</th>\n",
       "      <th>count</th>\n",
       "      <td>3313.000</td>\n",
       "      <td>461.000</td>\n",
       "    </tr>\n",
       "    <tr>\n",
       "      <th>mean</th>\n",
       "      <td>229.039</td>\n",
       "      <td>224.449</td>\n",
       "    </tr>\n",
       "    <tr>\n",
       "      <th>std</th>\n",
       "      <td>84.821</td>\n",
       "      <td>96.720</td>\n",
       "    </tr>\n",
       "    <tr>\n",
       "      <th>min</th>\n",
       "      <td>19.000</td>\n",
       "      <td>26.000</td>\n",
       "    </tr>\n",
       "    <tr>\n",
       "      <th>25%</th>\n",
       "      <td>172.000</td>\n",
       "      <td>159.000</td>\n",
       "    </tr>\n",
       "    <tr>\n",
       "      <th>50%</th>\n",
       "      <td>215.000</td>\n",
       "      <td>206.000</td>\n",
       "    </tr>\n",
       "    <tr>\n",
       "      <th>75%</th>\n",
       "      <td>268.000</td>\n",
       "      <td>277.000</td>\n",
       "    </tr>\n",
       "    <tr>\n",
       "      <th>max</th>\n",
       "      <td>750.000</td>\n",
       "      <td>723.000</td>\n",
       "    </tr>\n",
       "    <tr>\n",
       "      <th rowspan=\"8\" valign=\"top\">MPV</th>\n",
       "      <th>count</th>\n",
       "      <td>3313.000</td>\n",
       "      <td>461.000</td>\n",
       "    </tr>\n",
       "    <tr>\n",
       "      <th>mean</th>\n",
       "      <td>10.164</td>\n",
       "      <td>10.316</td>\n",
       "    </tr>\n",
       "    <tr>\n",
       "      <th>std</th>\n",
       "      <td>1.102</td>\n",
       "      <td>1.152</td>\n",
       "    </tr>\n",
       "    <tr>\n",
       "      <th>min</th>\n",
       "      <td>7.200</td>\n",
       "      <td>7.200</td>\n",
       "    </tr>\n",
       "    <tr>\n",
       "      <th>25%</th>\n",
       "      <td>9.400</td>\n",
       "      <td>9.500</td>\n",
       "    </tr>\n",
       "    <tr>\n",
       "      <th>50%</th>\n",
       "      <td>10.100</td>\n",
       "      <td>10.200</td>\n",
       "    </tr>\n",
       "    <tr>\n",
       "      <th>75%</th>\n",
       "      <td>10.800</td>\n",
       "      <td>11.100</td>\n",
       "    </tr>\n",
       "    <tr>\n",
       "      <th>max</th>\n",
       "      <td>15.200</td>\n",
       "      <td>13.800</td>\n",
       "    </tr>\n",
       "    <tr>\n",
       "      <th rowspan=\"8\" valign=\"top\">BASO</th>\n",
       "      <th>count</th>\n",
       "      <td>3313.000</td>\n",
       "      <td>461.000</td>\n",
       "    </tr>\n",
       "    <tr>\n",
       "      <th>mean</th>\n",
       "      <td>0.020</td>\n",
       "      <td>0.028</td>\n",
       "    </tr>\n",
       "    <tr>\n",
       "      <th>std</th>\n",
       "      <td>0.017</td>\n",
       "      <td>0.031</td>\n",
       "    </tr>\n",
       "    <tr>\n",
       "      <th>min</th>\n",
       "      <td>0.000</td>\n",
       "      <td>0.000</td>\n",
       "    </tr>\n",
       "    <tr>\n",
       "      <th>25%</th>\n",
       "      <td>0.010</td>\n",
       "      <td>0.010</td>\n",
       "    </tr>\n",
       "    <tr>\n",
       "      <th>50%</th>\n",
       "      <td>0.020</td>\n",
       "      <td>0.020</td>\n",
       "    </tr>\n",
       "    <tr>\n",
       "      <th>75%</th>\n",
       "      <td>0.030</td>\n",
       "      <td>0.030</td>\n",
       "    </tr>\n",
       "    <tr>\n",
       "      <th>max</th>\n",
       "      <td>0.270</td>\n",
       "      <td>0.450</td>\n",
       "    </tr>\n",
       "    <tr>\n",
       "      <th rowspan=\"8\" valign=\"top\">EOS</th>\n",
       "      <th>count</th>\n",
       "      <td>3313.000</td>\n",
       "      <td>461.000</td>\n",
       "    </tr>\n",
       "    <tr>\n",
       "      <th>mean</th>\n",
       "      <td>0.056</td>\n",
       "      <td>0.067</td>\n",
       "    </tr>\n",
       "    <tr>\n",
       "      <th>std</th>\n",
       "      <td>0.130</td>\n",
       "      <td>0.467</td>\n",
       "    </tr>\n",
       "    <tr>\n",
       "      <th>min</th>\n",
       "      <td>0.000</td>\n",
       "      <td>0.000</td>\n",
       "    </tr>\n",
       "    <tr>\n",
       "      <th>25%</th>\n",
       "      <td>0.000</td>\n",
       "      <td>0.000</td>\n",
       "    </tr>\n",
       "    <tr>\n",
       "      <th>50%</th>\n",
       "      <td>0.010</td>\n",
       "      <td>0.000</td>\n",
       "    </tr>\n",
       "    <tr>\n",
       "      <th>75%</th>\n",
       "      <td>0.050</td>\n",
       "      <td>0.010</td>\n",
       "    </tr>\n",
       "    <tr>\n",
       "      <th>max</th>\n",
       "      <td>1.920</td>\n",
       "      <td>7.000</td>\n",
       "    </tr>\n",
       "    <tr>\n",
       "      <th rowspan=\"8\" valign=\"top\">NEUT</th>\n",
       "      <th>count</th>\n",
       "      <td>3313.000</td>\n",
       "      <td>461.000</td>\n",
       "    </tr>\n",
       "    <tr>\n",
       "      <th>mean</th>\n",
       "      <td>5.423</td>\n",
       "      <td>8.628</td>\n",
       "    </tr>\n",
       "    <tr>\n",
       "      <th>std</th>\n",
       "      <td>3.319</td>\n",
       "      <td>5.265</td>\n",
       "    </tr>\n",
       "    <tr>\n",
       "      <th>min</th>\n",
       "      <td>0.110</td>\n",
       "      <td>0.540</td>\n",
       "    </tr>\n",
       "    <tr>\n",
       "      <th>25%</th>\n",
       "      <td>3.280</td>\n",
       "      <td>4.570</td>\n",
       "    </tr>\n",
       "    <tr>\n",
       "      <th>50%</th>\n",
       "      <td>4.570</td>\n",
       "      <td>7.550</td>\n",
       "    </tr>\n",
       "    <tr>\n",
       "      <th>75%</th>\n",
       "      <td>6.520</td>\n",
       "      <td>11.350</td>\n",
       "    </tr>\n",
       "    <tr>\n",
       "      <th>max</th>\n",
       "      <td>38.590</td>\n",
       "      <td>38.220</td>\n",
       "    </tr>\n",
       "    <tr>\n",
       "      <th rowspan=\"8\" valign=\"top\">ALBUMİN</th>\n",
       "      <th>count</th>\n",
       "      <td>3313.000</td>\n",
       "      <td>461.000</td>\n",
       "    </tr>\n",
       "    <tr>\n",
       "      <th>mean</th>\n",
       "      <td>30.611</td>\n",
       "      <td>28.067</td>\n",
       "    </tr>\n",
       "    <tr>\n",
       "      <th>std</th>\n",
       "      <td>6.508</td>\n",
       "      <td>5.961</td>\n",
       "    </tr>\n",
       "    <tr>\n",
       "      <th>min</th>\n",
       "      <td>5.000</td>\n",
       "      <td>13.000</td>\n",
       "    </tr>\n",
       "    <tr>\n",
       "      <th>25%</th>\n",
       "      <td>26.000</td>\n",
       "      <td>24.000</td>\n",
       "    </tr>\n",
       "    <tr>\n",
       "      <th>50%</th>\n",
       "      <td>30.000</td>\n",
       "      <td>27.000</td>\n",
       "    </tr>\n",
       "    <tr>\n",
       "      <th>75%</th>\n",
       "      <td>35.000</td>\n",
       "      <td>32.000</td>\n",
       "    </tr>\n",
       "    <tr>\n",
       "      <th>max</th>\n",
       "      <td>52.000</td>\n",
       "      <td>44.000</td>\n",
       "    </tr>\n",
       "    <tr>\n",
       "      <th rowspan=\"8\" valign=\"top\">ALT</th>\n",
       "      <th>count</th>\n",
       "      <td>3313.000</td>\n",
       "      <td>461.000</td>\n",
       "    </tr>\n",
       "    <tr>\n",
       "      <th>mean</th>\n",
       "      <td>51.574</td>\n",
       "      <td>49.416</td>\n",
       "    </tr>\n",
       "    <tr>\n",
       "      <th>std</th>\n",
       "      <td>177.379</td>\n",
       "      <td>100.081</td>\n",
       "    </tr>\n",
       "    <tr>\n",
       "      <th>min</th>\n",
       "      <td>6.000</td>\n",
       "      <td>6.000</td>\n",
       "    </tr>\n",
       "    <tr>\n",
       "      <th>25%</th>\n",
       "      <td>16.000</td>\n",
       "      <td>17.000</td>\n",
       "    </tr>\n",
       "    <tr>\n",
       "      <th>50%</th>\n",
       "      <td>25.800</td>\n",
       "      <td>28.000</td>\n",
       "    </tr>\n",
       "    <tr>\n",
       "      <th>75%</th>\n",
       "      <td>45.000</td>\n",
       "      <td>49.000</td>\n",
       "    </tr>\n",
       "    <tr>\n",
       "      <th>max</th>\n",
       "      <td>4113.000</td>\n",
       "      <td>1217.000</td>\n",
       "    </tr>\n",
       "    <tr>\n",
       "      <th rowspan=\"8\" valign=\"top\">AST</th>\n",
       "      <th>count</th>\n",
       "      <td>3313.000</td>\n",
       "      <td>461.000</td>\n",
       "    </tr>\n",
       "    <tr>\n",
       "      <th>mean</th>\n",
       "      <td>58.073</td>\n",
       "      <td>83.145</td>\n",
       "    </tr>\n",
       "    <tr>\n",
       "      <th>std</th>\n",
       "      <td>250.438</td>\n",
       "      <td>352.788</td>\n",
       "    </tr>\n",
       "    <tr>\n",
       "      <th>min</th>\n",
       "      <td>3.000</td>\n",
       "      <td>7.000</td>\n",
       "    </tr>\n",
       "    <tr>\n",
       "      <th>25%</th>\n",
       "      <td>19.000</td>\n",
       "      <td>20.000</td>\n",
       "    </tr>\n",
       "    <tr>\n",
       "      <th>50%</th>\n",
       "      <td>27.000</td>\n",
       "      <td>29.000</td>\n",
       "    </tr>\n",
       "    <tr>\n",
       "      <th>75%</th>\n",
       "      <td>43.000</td>\n",
       "      <td>45.000</td>\n",
       "    </tr>\n",
       "    <tr>\n",
       "      <th>max</th>\n",
       "      <td>4202.000</td>\n",
       "      <td>4202.000</td>\n",
       "    </tr>\n",
       "    <tr>\n",
       "      <th rowspan=\"8\" valign=\"top\">CK</th>\n",
       "      <th>count</th>\n",
       "      <td>3313.000</td>\n",
       "      <td>461.000</td>\n",
       "    </tr>\n",
       "    <tr>\n",
       "      <th>mean</th>\n",
       "      <td>223.349</td>\n",
       "      <td>315.388</td>\n",
       "    </tr>\n",
       "    <tr>\n",
       "      <th>std</th>\n",
       "      <td>1244.130</td>\n",
       "      <td>2047.202</td>\n",
       "    </tr>\n",
       "    <tr>\n",
       "      <th>min</th>\n",
       "      <td>7.000</td>\n",
       "      <td>7.000</td>\n",
       "    </tr>\n",
       "    <tr>\n",
       "      <th>25%</th>\n",
       "      <td>35.000</td>\n",
       "      <td>38.000</td>\n",
       "    </tr>\n",
       "    <tr>\n",
       "      <th>50%</th>\n",
       "      <td>64.000</td>\n",
       "      <td>74.000</td>\n",
       "    </tr>\n",
       "    <tr>\n",
       "      <th>75%</th>\n",
       "      <td>145.000</td>\n",
       "      <td>179.000</td>\n",
       "    </tr>\n",
       "    <tr>\n",
       "      <th>max</th>\n",
       "      <td>42670.000</td>\n",
       "      <td>42670.000</td>\n",
       "    </tr>\n",
       "    <tr>\n",
       "      <th rowspan=\"8\" valign=\"top\">ÜRE</th>\n",
       "      <th>count</th>\n",
       "      <td>3313.000</td>\n",
       "      <td>461.000</td>\n",
       "    </tr>\n",
       "    <tr>\n",
       "      <th>mean</th>\n",
       "      <td>51.956</td>\n",
       "      <td>60.718</td>\n",
       "    </tr>\n",
       "    <tr>\n",
       "      <th>std</th>\n",
       "      <td>45.572</td>\n",
       "      <td>49.514</td>\n",
       "    </tr>\n",
       "    <tr>\n",
       "      <th>min</th>\n",
       "      <td>2.000</td>\n",
       "      <td>3.000</td>\n",
       "    </tr>\n",
       "    <tr>\n",
       "      <th>25%</th>\n",
       "      <td>26.000</td>\n",
       "      <td>29.000</td>\n",
       "    </tr>\n",
       "    <tr>\n",
       "      <th>50%</th>\n",
       "      <td>37.000</td>\n",
       "      <td>44.000</td>\n",
       "    </tr>\n",
       "    <tr>\n",
       "      <th>75%</th>\n",
       "      <td>56.000</td>\n",
       "      <td>73.000</td>\n",
       "    </tr>\n",
       "    <tr>\n",
       "      <th>max</th>\n",
       "      <td>274.000</td>\n",
       "      <td>274.000</td>\n",
       "    </tr>\n",
       "    <tr>\n",
       "      <th rowspan=\"8\" valign=\"top\">KREATİN</th>\n",
       "      <th>count</th>\n",
       "      <td>3313.000</td>\n",
       "      <td>461.000</td>\n",
       "    </tr>\n",
       "    <tr>\n",
       "      <th>mean</th>\n",
       "      <td>1.339</td>\n",
       "      <td>1.411</td>\n",
       "    </tr>\n",
       "    <tr>\n",
       "      <th>std</th>\n",
       "      <td>1.540</td>\n",
       "      <td>1.609</td>\n",
       "    </tr>\n",
       "    <tr>\n",
       "      <th>min</th>\n",
       "      <td>0.290</td>\n",
       "      <td>0.200</td>\n",
       "    </tr>\n",
       "    <tr>\n",
       "      <th>25%</th>\n",
       "      <td>0.720</td>\n",
       "      <td>0.710</td>\n",
       "    </tr>\n",
       "    <tr>\n",
       "      <th>50%</th>\n",
       "      <td>0.840</td>\n",
       "      <td>0.860</td>\n",
       "    </tr>\n",
       "    <tr>\n",
       "      <th>75%</th>\n",
       "      <td>1.150</td>\n",
       "      <td>1.270</td>\n",
       "    </tr>\n",
       "    <tr>\n",
       "      <th>max</th>\n",
       "      <td>18.220</td>\n",
       "      <td>12.210</td>\n",
       "    </tr>\n",
       "    <tr>\n",
       "      <th rowspan=\"8\" valign=\"top\">CRP</th>\n",
       "      <th>count</th>\n",
       "      <td>3313.000</td>\n",
       "      <td>461.000</td>\n",
       "    </tr>\n",
       "    <tr>\n",
       "      <th>mean</th>\n",
       "      <td>57.743</td>\n",
       "      <td>71.285</td>\n",
       "    </tr>\n",
       "    <tr>\n",
       "      <th>std</th>\n",
       "      <td>63.753</td>\n",
       "      <td>69.766</td>\n",
       "    </tr>\n",
       "    <tr>\n",
       "      <th>min</th>\n",
       "      <td>2.000</td>\n",
       "      <td>2.000</td>\n",
       "    </tr>\n",
       "    <tr>\n",
       "      <th>25%</th>\n",
       "      <td>9.700</td>\n",
       "      <td>15.400</td>\n",
       "    </tr>\n",
       "    <tr>\n",
       "      <th>50%</th>\n",
       "      <td>34.500</td>\n",
       "      <td>52.800</td>\n",
       "    </tr>\n",
       "    <tr>\n",
       "      <th>75%</th>\n",
       "      <td>86.300</td>\n",
       "      <td>108.300</td>\n",
       "    </tr>\n",
       "    <tr>\n",
       "      <th>max</th>\n",
       "      <td>350.000</td>\n",
       "      <td>350.000</td>\n",
       "    </tr>\n",
       "    <tr>\n",
       "      <th rowspan=\"8\" valign=\"top\">FERRİTİN</th>\n",
       "      <th>count</th>\n",
       "      <td>3313.000</td>\n",
       "      <td>461.000</td>\n",
       "    </tr>\n",
       "    <tr>\n",
       "      <th>mean</th>\n",
       "      <td>299.126</td>\n",
       "      <td>294.345</td>\n",
       "    </tr>\n",
       "    <tr>\n",
       "      <th>std</th>\n",
       "      <td>286.845</td>\n",
       "      <td>286.695</td>\n",
       "    </tr>\n",
       "    <tr>\n",
       "      <th>min</th>\n",
       "      <td>1.004</td>\n",
       "      <td>1.000</td>\n",
       "    </tr>\n",
       "    <tr>\n",
       "      <th>25%</th>\n",
       "      <td>20.000</td>\n",
       "      <td>17.340</td>\n",
       "    </tr>\n",
       "    <tr>\n",
       "      <th>50%</th>\n",
       "      <td>226.000</td>\n",
       "      <td>218.000</td>\n",
       "    </tr>\n",
       "    <tr>\n",
       "      <th>75%</th>\n",
       "      <td>495.000</td>\n",
       "      <td>505.000</td>\n",
       "    </tr>\n",
       "    <tr>\n",
       "      <th>max</th>\n",
       "      <td>1500.000</td>\n",
       "      <td>1162.000</td>\n",
       "    </tr>\n",
       "    <tr>\n",
       "      <th rowspan=\"8\" valign=\"top\">D-DİMER</th>\n",
       "      <th>count</th>\n",
       "      <td>3313.000</td>\n",
       "      <td>461.000</td>\n",
       "    </tr>\n",
       "    <tr>\n",
       "      <th>mean</th>\n",
       "      <td>998.477</td>\n",
       "      <td>843.654</td>\n",
       "    </tr>\n",
       "    <tr>\n",
       "      <th>std</th>\n",
       "      <td>3437.082</td>\n",
       "      <td>3130.255</td>\n",
       "    </tr>\n",
       "    <tr>\n",
       "      <th>min</th>\n",
       "      <td>0.150</td>\n",
       "      <td>0.000</td>\n",
       "    </tr>\n",
       "    <tr>\n",
       "      <th>25%</th>\n",
       "      <td>124.000</td>\n",
       "      <td>1.600</td>\n",
       "    </tr>\n",
       "    <tr>\n",
       "      <th>50%</th>\n",
       "      <td>257.000</td>\n",
       "      <td>154.000</td>\n",
       "    </tr>\n",
       "    <tr>\n",
       "      <th>75%</th>\n",
       "      <td>561.000</td>\n",
       "      <td>461.000</td>\n",
       "    </tr>\n",
       "    <tr>\n",
       "      <th>max</th>\n",
       "      <td>50107.000</td>\n",
       "      <td>39125.000</td>\n",
       "    </tr>\n",
       "    <tr>\n",
       "      <th rowspan=\"8\" valign=\"top\">PTZ</th>\n",
       "      <th>count</th>\n",
       "      <td>3313.000</td>\n",
       "      <td>461.000</td>\n",
       "    </tr>\n",
       "    <tr>\n",
       "      <th>mean</th>\n",
       "      <td>15.031</td>\n",
       "      <td>14.108</td>\n",
       "    </tr>\n",
       "    <tr>\n",
       "      <th>std</th>\n",
       "      <td>10.406</td>\n",
       "      <td>4.104</td>\n",
       "    </tr>\n",
       "    <tr>\n",
       "      <th>min</th>\n",
       "      <td>0.000</td>\n",
       "      <td>10.000</td>\n",
       "    </tr>\n",
       "    <tr>\n",
       "      <th>25%</th>\n",
       "      <td>12.000</td>\n",
       "      <td>12.100</td>\n",
       "    </tr>\n",
       "    <tr>\n",
       "      <th>50%</th>\n",
       "      <td>13.000</td>\n",
       "      <td>13.100</td>\n",
       "    </tr>\n",
       "    <tr>\n",
       "      <th>75%</th>\n",
       "      <td>14.500</td>\n",
       "      <td>14.800</td>\n",
       "    </tr>\n",
       "    <tr>\n",
       "      <th>max</th>\n",
       "      <td>200.200</td>\n",
       "      <td>46.500</td>\n",
       "    </tr>\n",
       "    <tr>\n",
       "      <th rowspan=\"8\" valign=\"top\">INR</th>\n",
       "      <th>count</th>\n",
       "      <td>3313.000</td>\n",
       "      <td>461.000</td>\n",
       "    </tr>\n",
       "    <tr>\n",
       "      <th>mean</th>\n",
       "      <td>1.393</td>\n",
       "      <td>1.334</td>\n",
       "    </tr>\n",
       "    <tr>\n",
       "      <th>std</th>\n",
       "      <td>0.931</td>\n",
       "      <td>0.558</td>\n",
       "    </tr>\n",
       "    <tr>\n",
       "      <th>min</th>\n",
       "      <td>0.000</td>\n",
       "      <td>0.930</td>\n",
       "    </tr>\n",
       "    <tr>\n",
       "      <th>25%</th>\n",
       "      <td>1.130</td>\n",
       "      <td>1.130</td>\n",
       "    </tr>\n",
       "    <tr>\n",
       "      <th>50%</th>\n",
       "      <td>1.210</td>\n",
       "      <td>1.220</td>\n",
       "    </tr>\n",
       "    <tr>\n",
       "      <th>75%</th>\n",
       "      <td>1.350</td>\n",
       "      <td>1.380</td>\n",
       "    </tr>\n",
       "    <tr>\n",
       "      <th>max</th>\n",
       "      <td>18.170</td>\n",
       "      <td>7.830</td>\n",
       "    </tr>\n",
       "    <tr>\n",
       "      <th rowspan=\"8\" valign=\"top\">paCO2</th>\n",
       "      <th>count</th>\n",
       "      <td>3313.000</td>\n",
       "      <td>461.000</td>\n",
       "    </tr>\n",
       "    <tr>\n",
       "      <th>mean</th>\n",
       "      <td>45.220</td>\n",
       "      <td>47.400</td>\n",
       "    </tr>\n",
       "    <tr>\n",
       "      <th>std</th>\n",
       "      <td>16.125</td>\n",
       "      <td>18.444</td>\n",
       "    </tr>\n",
       "    <tr>\n",
       "      <th>min</th>\n",
       "      <td>5.400</td>\n",
       "      <td>10.000</td>\n",
       "    </tr>\n",
       "    <tr>\n",
       "      <th>25%</th>\n",
       "      <td>35.900</td>\n",
       "      <td>35.700</td>\n",
       "    </tr>\n",
       "    <tr>\n",
       "      <th>50%</th>\n",
       "      <td>41.100</td>\n",
       "      <td>42.500</td>\n",
       "    </tr>\n",
       "    <tr>\n",
       "      <th>75%</th>\n",
       "      <td>49.200</td>\n",
       "      <td>54.000</td>\n",
       "    </tr>\n",
       "    <tr>\n",
       "      <th>max</th>\n",
       "      <td>228.000</td>\n",
       "      <td>176.000</td>\n",
       "    </tr>\n",
       "    <tr>\n",
       "      <th rowspan=\"8\" valign=\"top\">O2</th>\n",
       "      <th>count</th>\n",
       "      <td>3313.000</td>\n",
       "      <td>461.000</td>\n",
       "    </tr>\n",
       "    <tr>\n",
       "      <th>mean</th>\n",
       "      <td>45.081</td>\n",
       "      <td>45.647</td>\n",
       "    </tr>\n",
       "    <tr>\n",
       "      <th>std</th>\n",
       "      <td>23.364</td>\n",
       "      <td>19.322</td>\n",
       "    </tr>\n",
       "    <tr>\n",
       "      <th>min</th>\n",
       "      <td>6.700</td>\n",
       "      <td>15.500</td>\n",
       "    </tr>\n",
       "    <tr>\n",
       "      <th>25%</th>\n",
       "      <td>31.800</td>\n",
       "      <td>33.800</td>\n",
       "    </tr>\n",
       "    <tr>\n",
       "      <th>50%</th>\n",
       "      <td>40.600</td>\n",
       "      <td>41.700</td>\n",
       "    </tr>\n",
       "    <tr>\n",
       "      <th>75%</th>\n",
       "      <td>51.000</td>\n",
       "      <td>52.300</td>\n",
       "    </tr>\n",
       "    <tr>\n",
       "      <th>max</th>\n",
       "      <td>427.000</td>\n",
       "      <td>140.000</td>\n",
       "    </tr>\n",
       "    <tr>\n",
       "      <th rowspan=\"8\" valign=\"top\">PROKALSİTONİN</th>\n",
       "      <th>count</th>\n",
       "      <td>3313.000</td>\n",
       "      <td>461.000</td>\n",
       "    </tr>\n",
       "    <tr>\n",
       "      <th>mean</th>\n",
       "      <td>1.210</td>\n",
       "      <td>1.680</td>\n",
       "    </tr>\n",
       "    <tr>\n",
       "      <th>std</th>\n",
       "      <td>6.546</td>\n",
       "      <td>8.518</td>\n",
       "    </tr>\n",
       "    <tr>\n",
       "      <th>min</th>\n",
       "      <td>0.010</td>\n",
       "      <td>0.020</td>\n",
       "    </tr>\n",
       "    <tr>\n",
       "      <th>25%</th>\n",
       "      <td>0.050</td>\n",
       "      <td>0.060</td>\n",
       "    </tr>\n",
       "    <tr>\n",
       "      <th>50%</th>\n",
       "      <td>0.100</td>\n",
       "      <td>0.110</td>\n",
       "    </tr>\n",
       "    <tr>\n",
       "      <th>75%</th>\n",
       "      <td>0.290</td>\n",
       "      <td>0.340</td>\n",
       "    </tr>\n",
       "    <tr>\n",
       "      <th>max</th>\n",
       "      <td>100.000</td>\n",
       "      <td>100.000</td>\n",
       "    </tr>\n",
       "  </tbody>\n",
       "</table>\n",
       "</div>"
      ],
      "text/plain": [
       "Status                  0.000     1.000\n",
       "Age           count  3313.000   461.000\n",
       "              mean     53.771    69.790\n",
       "              std      16.717    13.401\n",
       "              min       1.000    23.000\n",
       "              25%      42.000    62.000\n",
       "              50%      55.000    71.000\n",
       "              75%      66.000    80.000\n",
       "              max     108.000    99.000\n",
       "Gender        count  3313.000   461.000\n",
       "              mean      0.483     0.549\n",
       "              std       0.500     0.498\n",
       "              min       0.000     0.000\n",
       "              25%       0.000     0.000\n",
       "              50%       0.000     1.000\n",
       "              75%       1.000     1.000\n",
       "              max       1.000     1.000\n",
       "WBC           count  3313.000   461.000\n",
       "              mean      7.420    10.378\n",
       "              std       4.037     5.830\n",
       "              min       0.160     1.490\n",
       "              25%       5.030     6.120\n",
       "              50%       6.630     9.060\n",
       "              75%       8.830    13.490\n",
       "              max     111.070    47.200\n",
       "LYM           count  3313.000   461.000\n",
       "              mean      1.455     1.122\n",
       "              std       1.933     1.928\n",
       "              min       0.040     0.000\n",
       "              25%       0.900     0.530\n",
       "              50%       1.260     0.800\n",
       "              75%       1.770     1.280\n",
       "              max      98.650    37.170\n",
       "HGB           count  3313.000   461.000\n",
       "              mean     13.475    12.644\n",
       "              std       1.906     2.204\n",
       "              min       1.600     6.400\n",
       "              25%      12.400    11.200\n",
       "              50%      13.600    12.700\n",
       "              75%      14.800    14.000\n",
       "              max      21.300    19.200\n",
       "PLT Sayısı    count  3313.000   461.000\n",
       "              mean    229.039   224.449\n",
       "              std      84.821    96.720\n",
       "              min      19.000    26.000\n",
       "              25%     172.000   159.000\n",
       "              50%     215.000   206.000\n",
       "              75%     268.000   277.000\n",
       "              max     750.000   723.000\n",
       "MPV           count  3313.000   461.000\n",
       "              mean     10.164    10.316\n",
       "              std       1.102     1.152\n",
       "              min       7.200     7.200\n",
       "              25%       9.400     9.500\n",
       "              50%      10.100    10.200\n",
       "              75%      10.800    11.100\n",
       "              max      15.200    13.800\n",
       "BASO          count  3313.000   461.000\n",
       "              mean      0.020     0.028\n",
       "              std       0.017     0.031\n",
       "              min       0.000     0.000\n",
       "              25%       0.010     0.010\n",
       "              50%       0.020     0.020\n",
       "              75%       0.030     0.030\n",
       "              max       0.270     0.450\n",
       "EOS           count  3313.000   461.000\n",
       "              mean      0.056     0.067\n",
       "              std       0.130     0.467\n",
       "              min       0.000     0.000\n",
       "              25%       0.000     0.000\n",
       "              50%       0.010     0.000\n",
       "              75%       0.050     0.010\n",
       "              max       1.920     7.000\n",
       "NEUT          count  3313.000   461.000\n",
       "              mean      5.423     8.628\n",
       "              std       3.319     5.265\n",
       "              min       0.110     0.540\n",
       "              25%       3.280     4.570\n",
       "              50%       4.570     7.550\n",
       "              75%       6.520    11.350\n",
       "              max      38.590    38.220\n",
       "ALBUMİN       count  3313.000   461.000\n",
       "              mean     30.611    28.067\n",
       "              std       6.508     5.961\n",
       "              min       5.000    13.000\n",
       "              25%      26.000    24.000\n",
       "              50%      30.000    27.000\n",
       "              75%      35.000    32.000\n",
       "              max      52.000    44.000\n",
       "ALT           count  3313.000   461.000\n",
       "              mean     51.574    49.416\n",
       "              std     177.379   100.081\n",
       "              min       6.000     6.000\n",
       "              25%      16.000    17.000\n",
       "              50%      25.800    28.000\n",
       "              75%      45.000    49.000\n",
       "              max    4113.000  1217.000\n",
       "AST           count  3313.000   461.000\n",
       "              mean     58.073    83.145\n",
       "              std     250.438   352.788\n",
       "              min       3.000     7.000\n",
       "              25%      19.000    20.000\n",
       "              50%      27.000    29.000\n",
       "              75%      43.000    45.000\n",
       "              max    4202.000  4202.000\n",
       "CK            count  3313.000   461.000\n",
       "              mean    223.349   315.388\n",
       "              std    1244.130  2047.202\n",
       "              min       7.000     7.000\n",
       "              25%      35.000    38.000\n",
       "              50%      64.000    74.000\n",
       "              75%     145.000   179.000\n",
       "              max   42670.000 42670.000\n",
       "ÜRE           count  3313.000   461.000\n",
       "              mean     51.956    60.718\n",
       "              std      45.572    49.514\n",
       "              min       2.000     3.000\n",
       "              25%      26.000    29.000\n",
       "              50%      37.000    44.000\n",
       "              75%      56.000    73.000\n",
       "              max     274.000   274.000\n",
       "KREATİN       count  3313.000   461.000\n",
       "              mean      1.339     1.411\n",
       "              std       1.540     1.609\n",
       "              min       0.290     0.200\n",
       "              25%       0.720     0.710\n",
       "              50%       0.840     0.860\n",
       "              75%       1.150     1.270\n",
       "              max      18.220    12.210\n",
       "CRP           count  3313.000   461.000\n",
       "              mean     57.743    71.285\n",
       "              std      63.753    69.766\n",
       "              min       2.000     2.000\n",
       "              25%       9.700    15.400\n",
       "              50%      34.500    52.800\n",
       "              75%      86.300   108.300\n",
       "              max     350.000   350.000\n",
       "FERRİTİN      count  3313.000   461.000\n",
       "              mean    299.126   294.345\n",
       "              std     286.845   286.695\n",
       "              min       1.004     1.000\n",
       "              25%      20.000    17.340\n",
       "              50%     226.000   218.000\n",
       "              75%     495.000   505.000\n",
       "              max    1500.000  1162.000\n",
       "D-DİMER       count  3313.000   461.000\n",
       "              mean    998.477   843.654\n",
       "              std    3437.082  3130.255\n",
       "              min       0.150     0.000\n",
       "              25%     124.000     1.600\n",
       "              50%     257.000   154.000\n",
       "              75%     561.000   461.000\n",
       "              max   50107.000 39125.000\n",
       "PTZ           count  3313.000   461.000\n",
       "              mean     15.031    14.108\n",
       "              std      10.406     4.104\n",
       "              min       0.000    10.000\n",
       "              25%      12.000    12.100\n",
       "              50%      13.000    13.100\n",
       "              75%      14.500    14.800\n",
       "              max     200.200    46.500\n",
       "INR           count  3313.000   461.000\n",
       "              mean      1.393     1.334\n",
       "              std       0.931     0.558\n",
       "              min       0.000     0.930\n",
       "              25%       1.130     1.130\n",
       "              50%       1.210     1.220\n",
       "              75%       1.350     1.380\n",
       "              max      18.170     7.830\n",
       "paCO2         count  3313.000   461.000\n",
       "              mean     45.220    47.400\n",
       "              std      16.125    18.444\n",
       "              min       5.400    10.000\n",
       "              25%      35.900    35.700\n",
       "              50%      41.100    42.500\n",
       "              75%      49.200    54.000\n",
       "              max     228.000   176.000\n",
       "O2            count  3313.000   461.000\n",
       "              mean     45.081    45.647\n",
       "              std      23.364    19.322\n",
       "              min       6.700    15.500\n",
       "              25%      31.800    33.800\n",
       "              50%      40.600    41.700\n",
       "              75%      51.000    52.300\n",
       "              max     427.000   140.000\n",
       "PROKALSİTONİN count  3313.000   461.000\n",
       "              mean      1.210     1.680\n",
       "              std       6.546     8.518\n",
       "              min       0.010     0.020\n",
       "              25%       0.050     0.060\n",
       "              50%       0.100     0.110\n",
       "              75%       0.290     0.340\n",
       "              max     100.000   100.000"
      ]
     },
     "execution_count": 13,
     "metadata": {},
     "output_type": "execute_result"
    }
   ],
   "source": [
    "df.groupby(\"Status\").describe().T"
   ]
  },
  {
   "cell_type": "code",
   "execution_count": 14,
   "metadata": {},
   "outputs": [
    {
     "data": {
      "text/plain": [
       "<AxesSubplot:xlabel='Status,Age'>"
      ]
     },
     "execution_count": 14,
     "metadata": {},
     "output_type": "execute_result"
    },
    {
     "data": {
      "image/png": "[encoded data removed]",
      "text/plain": [
       "<Figure size 1440x648 with 1 Axes>"
      ]
     },
     "metadata": {
      "needs_background": "light"
     },
     "output_type": "display_data"
    }
   ],
   "source": [
    "plt.figure(figsize=(20,9))\n",
    "df.groupby(\"Status\").Age.value_counts().plot(kind=\"bar\")"
   ]
  },
  {
   "cell_type": "code",
   "execution_count": 15,
   "metadata": {},
   "outputs": [
    {
     "data": {
      "image/png": "[encoded data removed]",
      "text/plain": [
       "<Figure size 1800x936 with 2 Axes>"
      ]
     },
     "metadata": {
      "needs_background": "light"
     },
     "output_type": "display_data"
    }
   ],
   "source": [
    "corr_matrix = df.corr()\n",
    "\n",
    "font_title = {'family': 'times new roman',\n",
    "              'color': 'darkred',\n",
    "              'weight': 'bold',\n",
    "              'size': 14}\n",
    "\n",
    "plt.figure(figsize=(25, 13))\n",
    "sns.heatmap(corr_matrix, square=True, annot=True, linewidths=.5, vmin=-1, vmax=1, cmap='viridis')\n",
    "plt.title(\"Correlation Matrix\", fontdict=font_title)\n",
    "plt.show()"
   ]
  },
  {
   "cell_type": "code",
   "execution_count": 16,
   "metadata": {},
   "outputs": [
    {
     "data": {
      "text/plain": [
       "(7, 25)"
      ]
     },
     "execution_count": 16,
     "metadata": {},
     "output_type": "execute_result"
    }
   ],
   "source": [
    "df[df.Age < 15].shape"
   ]
  },
  {
   "cell_type": "code",
   "execution_count": 17,
   "metadata": {},
   "outputs": [
    {
     "data": {
      "text/html": [
       "<div>\n",
       "<style scoped>\n",
       "    .dataframe tbody tr th:only-of-type {\n",
       "        vertical-align: middle;\n",
       "    }\n",
       "\n",
       "    .dataframe tbody tr th {\n",
       "        vertical-align: top;\n",
       "    }\n",
       "\n",
       "    .dataframe thead th {\n",
       "        text-align: right;\n",
       "    }\n",
       "</style>\n",
       "<table border=\"1\" class=\"dataframe\">\n",
       "  <thead>\n",
       "    <tr style=\"text-align: right;\">\n",
       "      <th></th>\n",
       "      <th>Age</th>\n",
       "      <th>Gender</th>\n",
       "      <th>Status</th>\n",
       "      <th>WBC</th>\n",
       "      <th>LYM</th>\n",
       "      <th>HGB</th>\n",
       "      <th>PLT Sayısı</th>\n",
       "      <th>MPV</th>\n",
       "      <th>BASO</th>\n",
       "      <th>EOS</th>\n",
       "      <th>NEUT</th>\n",
       "      <th>ALBUMİN</th>\n",
       "      <th>ALT</th>\n",
       "      <th>AST</th>\n",
       "      <th>CK</th>\n",
       "      <th>ÜRE</th>\n",
       "      <th>KREATİN</th>\n",
       "      <th>CRP</th>\n",
       "      <th>FERRİTİN</th>\n",
       "      <th>D-DİMER</th>\n",
       "      <th>PTZ</th>\n",
       "      <th>INR</th>\n",
       "      <th>paCO2</th>\n",
       "      <th>O2</th>\n",
       "      <th>PROKALSİTONİN</th>\n",
       "    </tr>\n",
       "  </thead>\n",
       "  <tbody>\n",
       "    <tr>\n",
       "      <th>10164</th>\n",
       "      <td>14.000</td>\n",
       "      <td>1.000</td>\n",
       "      <td>0.000</td>\n",
       "      <td>9.300</td>\n",
       "      <td>3.100</td>\n",
       "      <td>15.000</td>\n",
       "      <td>296</td>\n",
       "      <td>10.400</td>\n",
       "      <td>0.020</td>\n",
       "      <td>0.150</td>\n",
       "      <td>5.420</td>\n",
       "      <td>47</td>\n",
       "      <td>11.000</td>\n",
       "      <td>14.000</td>\n",
       "      <td>95.000</td>\n",
       "      <td>36.000</td>\n",
       "      <td>0.800</td>\n",
       "      <td>2.000</td>\n",
       "      <td>348.000</td>\n",
       "      <td>247.000</td>\n",
       "      <td>12.600</td>\n",
       "      <td>1.180</td>\n",
       "      <td>53.600</td>\n",
       "      <td>24.300</td>\n",
       "      <td>0.040</td>\n",
       "    </tr>\n",
       "    <tr>\n",
       "      <th>15861</th>\n",
       "      <td>9.000</td>\n",
       "      <td>1.000</td>\n",
       "      <td>0.000</td>\n",
       "      <td>5.640</td>\n",
       "      <td>2.890</td>\n",
       "      <td>14.000</td>\n",
       "      <td>269</td>\n",
       "      <td>9.900</td>\n",
       "      <td>0.020</td>\n",
       "      <td>0.170</td>\n",
       "      <td>2.200</td>\n",
       "      <td>34</td>\n",
       "      <td>9.000</td>\n",
       "      <td>16.000</td>\n",
       "      <td>232.000</td>\n",
       "      <td>34.000</td>\n",
       "      <td>0.720</td>\n",
       "      <td>5.500</td>\n",
       "      <td>2.000</td>\n",
       "      <td>104.000</td>\n",
       "      <td>16.800</td>\n",
       "      <td>1.560</td>\n",
       "      <td>39.800</td>\n",
       "      <td>23.700</td>\n",
       "      <td>0.050</td>\n",
       "    </tr>\n",
       "    <tr>\n",
       "      <th>16223</th>\n",
       "      <td>10.000</td>\n",
       "      <td>1.000</td>\n",
       "      <td>0.000</td>\n",
       "      <td>4.840</td>\n",
       "      <td>2.220</td>\n",
       "      <td>11.600</td>\n",
       "      <td>246</td>\n",
       "      <td>12.100</td>\n",
       "      <td>0.010</td>\n",
       "      <td>0.010</td>\n",
       "      <td>2.160</td>\n",
       "      <td>22</td>\n",
       "      <td>72.000</td>\n",
       "      <td>55.000</td>\n",
       "      <td>322.000</td>\n",
       "      <td>55.000</td>\n",
       "      <td>1.760</td>\n",
       "      <td>34.700</td>\n",
       "      <td>553.000</td>\n",
       "      <td>589.000</td>\n",
       "      <td>12.000</td>\n",
       "      <td>1.120</td>\n",
       "      <td>44.900</td>\n",
       "      <td>41.600</td>\n",
       "      <td>0.190</td>\n",
       "    </tr>\n",
       "    <tr>\n",
       "      <th>16280</th>\n",
       "      <td>8.000</td>\n",
       "      <td>1.000</td>\n",
       "      <td>0.000</td>\n",
       "      <td>3.880</td>\n",
       "      <td>1.980</td>\n",
       "      <td>13.500</td>\n",
       "      <td>183</td>\n",
       "      <td>11.200</td>\n",
       "      <td>0.010</td>\n",
       "      <td>0.040</td>\n",
       "      <td>1.530</td>\n",
       "      <td>42</td>\n",
       "      <td>91.000</td>\n",
       "      <td>15.000</td>\n",
       "      <td>137.000</td>\n",
       "      <td>43.000</td>\n",
       "      <td>0.870</td>\n",
       "      <td>171.600</td>\n",
       "      <td>590.000</td>\n",
       "      <td>219.000</td>\n",
       "      <td>16.900</td>\n",
       "      <td>1.570</td>\n",
       "      <td>32.700</td>\n",
       "      <td>26.500</td>\n",
       "      <td>0.110</td>\n",
       "    </tr>\n",
       "    <tr>\n",
       "      <th>25280</th>\n",
       "      <td>4.000</td>\n",
       "      <td>1.000</td>\n",
       "      <td>0.000</td>\n",
       "      <td>5.650</td>\n",
       "      <td>0.820</td>\n",
       "      <td>11.600</td>\n",
       "      <td>238</td>\n",
       "      <td>9.400</td>\n",
       "      <td>0.010</td>\n",
       "      <td>0.000</td>\n",
       "      <td>4.460</td>\n",
       "      <td>19</td>\n",
       "      <td>10.000</td>\n",
       "      <td>27.000</td>\n",
       "      <td>96.000</td>\n",
       "      <td>36.000</td>\n",
       "      <td>0.760</td>\n",
       "      <td>51.200</td>\n",
       "      <td>419.000</td>\n",
       "      <td>0.150</td>\n",
       "      <td>10.900</td>\n",
       "      <td>1.020</td>\n",
       "      <td>73.500</td>\n",
       "      <td>36.300</td>\n",
       "      <td>0.170</td>\n",
       "    </tr>\n",
       "    <tr>\n",
       "      <th>25798</th>\n",
       "      <td>5.000</td>\n",
       "      <td>0.000</td>\n",
       "      <td>0.000</td>\n",
       "      <td>7.870</td>\n",
       "      <td>3.490</td>\n",
       "      <td>12.200</td>\n",
       "      <td>563</td>\n",
       "      <td>8.700</td>\n",
       "      <td>0.010</td>\n",
       "      <td>0.100</td>\n",
       "      <td>3.460</td>\n",
       "      <td>23</td>\n",
       "      <td>13.000</td>\n",
       "      <td>86.000</td>\n",
       "      <td>374.000</td>\n",
       "      <td>4.000</td>\n",
       "      <td>0.790</td>\n",
       "      <td>82.400</td>\n",
       "      <td>805.000</td>\n",
       "      <td>0.290</td>\n",
       "      <td>18.600</td>\n",
       "      <td>1.770</td>\n",
       "      <td>84.700</td>\n",
       "      <td>41.800</td>\n",
       "      <td>0.160</td>\n",
       "    </tr>\n",
       "    <tr>\n",
       "      <th>25932</th>\n",
       "      <td>1.000</td>\n",
       "      <td>0.000</td>\n",
       "      <td>0.000</td>\n",
       "      <td>7.680</td>\n",
       "      <td>1.720</td>\n",
       "      <td>10.900</td>\n",
       "      <td>208</td>\n",
       "      <td>9.700</td>\n",
       "      <td>0.030</td>\n",
       "      <td>0.030</td>\n",
       "      <td>5.540</td>\n",
       "      <td>15</td>\n",
       "      <td>22.000</td>\n",
       "      <td>240.000</td>\n",
       "      <td>115.000</td>\n",
       "      <td>55.000</td>\n",
       "      <td>0.730</td>\n",
       "      <td>35.800</td>\n",
       "      <td>638.000</td>\n",
       "      <td>1.450</td>\n",
       "      <td>12.600</td>\n",
       "      <td>1.130</td>\n",
       "      <td>67.900</td>\n",
       "      <td>48.300</td>\n",
       "      <td>0.090</td>\n",
       "    </tr>\n",
       "  </tbody>\n",
       "</table>\n",
       "</div>"
      ],
      "text/plain": [
       "         Age  Gender  Status   WBC   LYM    HGB  PLT Sayısı    MPV  BASO  \\\n",
       "10164 14.000   1.000   0.000 9.300 3.100 15.000         296 10.400 0.020   \n",
       "15861  9.000   1.000   0.000 5.640 2.890 14.000         269  9.900 0.020   \n",
       "16223 10.000   1.000   0.000 4.840 2.220 11.600         246 12.100 0.010   \n",
       "16280  8.000   1.000   0.000 3.880 1.980 13.500         183 11.200 0.010   \n",
       "25280  4.000   1.000   0.000 5.650 0.820 11.600         238  9.400 0.010   \n",
       "25798  5.000   0.000   0.000 7.870 3.490 12.200         563  8.700 0.010   \n",
       "25932  1.000   0.000   0.000 7.680 1.720 10.900         208  9.700 0.030   \n",
       "\n",
       "        EOS  NEUT  ALBUMİN    ALT     AST      CK    ÜRE  KREATİN     CRP  \\\n",
       "10164 0.150 5.420       47 11.000  14.000  95.000 36.000    0.800   2.000   \n",
       "15861 0.170 2.200       34  9.000  16.000 232.000 34.000    0.720   5.500   \n",
       "16223 0.010 2.160       22 72.000  55.000 322.000 55.000    1.760  34.700   \n",
       "16280 0.040 1.530       42 91.000  15.000 137.000 43.000    0.870 171.600   \n",
       "25280 0.000 4.460       19 10.000  27.000  96.000 36.000    0.760  51.200   \n",
       "25798 0.100 3.460       23 13.000  86.000 374.000  4.000    0.790  82.400   \n",
       "25932 0.030 5.540       15 22.000 240.000 115.000 55.000    0.730  35.800   \n",
       "\n",
       "       FERRİTİN  D-DİMER    PTZ   INR  paCO2     O2  PROKALSİTONİN  \n",
       "10164   348.000  247.000 12.600 1.180 53.600 24.300          0.040  \n",
       "15861     2.000  104.000 16.800 1.560 39.800 23.700          0.050  \n",
       "16223   553.000  589.000 12.000 1.120 44.900 41.600          0.190  \n",
       "16280   590.000  219.000 16.900 1.570 32.700 26.500          0.110  \n",
       "25280   419.000    0.150 10.900 1.020 73.500 36.300          0.170  \n",
       "25798   805.000    0.290 18.600 1.770 84.700 41.800          0.160  \n",
       "25932   638.000    1.450 12.600 1.130 67.900 48.300          0.090  "
      ]
     },
     "execution_count": 17,
     "metadata": {},
     "output_type": "execute_result"
    }
   ],
   "source": [
    "df[df.Age < 15]"
   ]
  },
  {
   "cell_type": "markdown",
   "metadata": {},
   "source": [
    "# TRAIN / TEST SPLIT"
   ]
  },
  {
   "cell_type": "code",
   "execution_count": 18,
   "metadata": {},
   "outputs": [],
   "source": [
    "X= df.drop(\"Status\", axis=1)\n",
    "y= df.Status"
   ]
  },
  {
   "cell_type": "code",
   "execution_count": 19,
   "metadata": {},
   "outputs": [],
   "source": [
    "from sklearn.model_selection import train_test_split\n",
    "from sklearn.preprocessing import StandardScaler"
   ]
  },
  {
   "cell_type": "code",
   "execution_count": 20,
   "metadata": {},
   "outputs": [],
   "source": [
    "X_train, X_test, y_train, y_test = train_test_split(X, y, test_size=0.15, stratify = y, random_state=101)"
   ]
  },
  {
   "cell_type": "markdown",
   "metadata": {},
   "source": [
    "# SCALING"
   ]
  },
  {
   "cell_type": "code",
   "execution_count": 21,
   "metadata": {},
   "outputs": [],
   "source": [
    "scaler = StandardScaler()"
   ]
  },
  {
   "cell_type": "code",
   "execution_count": 22,
   "metadata": {},
   "outputs": [],
   "source": [
    "X_train_scaled = scaler.fit_transform(X_train)\n",
    "X_test_scaled = scaler.transform(X_test)"
   ]
  },
  {
   "cell_type": "markdown",
   "metadata": {},
   "source": [
    "# LOGISTIC REGRESSION"
   ]
  },
  {
   "cell_type": "code",
   "execution_count": 23,
   "metadata": {},
   "outputs": [],
   "source": [
    "from sklearn.linear_model import LogisticRegression\n",
    "from sklearn.metrics import confusion_matrix, classification_report, accuracy_score, recall_score, f1_score, roc_auc_score\n",
    "from sklearn.metrics import plot_roc_curve, plot_precision_recall_curve, roc_auc_score, auc, roc_curve"
   ]
  },
  {
   "cell_type": "code",
   "execution_count": 24,
   "metadata": {},
   "outputs": [
    {
     "name": "stdout",
     "output_type": "stream",
     "text": [
      "[[487  11]\n",
      " [ 53  16]]\n",
      "-------------------------------------------------------\n",
      "              precision    recall  f1-score   support\n",
      "\n",
      "         0.0       0.90      0.98      0.94       498\n",
      "         1.0       0.59      0.23      0.33        69\n",
      "\n",
      "    accuracy                           0.89       567\n",
      "   macro avg       0.75      0.60      0.64       567\n",
      "weighted avg       0.86      0.89      0.86       567\n",
      "\n"
     ]
    }
   ],
   "source": [
    "log_model=LogisticRegression()\n",
    "log_model.fit(X_train_scaled, y_train)\n",
    "y_pred_proba=log_model.predict_proba(X_test_scaled)\n",
    "y_pred=log_model.predict(X_test_scaled)\n",
    "log_recall = recall_score(y_test, y_pred)\n",
    "log_f1 = f1_score(y_test, y_pred)\n",
    "log_auc = roc_auc_score(y_test, y_pred_proba[:,1])\n",
    "print(confusion_matrix(y_test, y_pred))\n",
    "print(\"-------------------------------------------------------\")\n",
    "print(classification_report(y_test, y_pred))"
   ]
  },
  {
   "cell_type": "code",
   "execution_count": 25,
   "metadata": {},
   "outputs": [
    {
     "data": {
      "image/png": "[encoded data removed]",
      "text/plain": [
       "<Figure size 432x288 with 1 Axes>"
      ]
     },
     "metadata": {
      "needs_background": "light"
     },
     "output_type": "display_data"
    }
   ],
   "source": [
    "plot_roc_curve(log_model, X_test_scaled, y_test);"
   ]
  },
  {
   "cell_type": "code",
   "execution_count": 26,
   "metadata": {},
   "outputs": [
    {
     "data": {
      "text/plain": [
       "0.8248355741807811"
      ]
     },
     "execution_count": 26,
     "metadata": {},
     "output_type": "execute_result"
    }
   ],
   "source": [
    "roc_auc_score(y_test, y_pred_proba[:,1])"
   ]
  },
  {
   "cell_type": "code",
   "execution_count": 27,
   "metadata": {},
   "outputs": [],
   "source": [
    "fp_rate, tp_rate, thresholds = roc_curve(y_test, y_pred_proba[:,1])"
   ]
  },
  {
   "cell_type": "code",
   "execution_count": 28,
   "metadata": {},
   "outputs": [
    {
     "data": {
      "text/plain": [
       "0.11218571217571163"
      ]
     },
     "execution_count": 28,
     "metadata": {},
     "output_type": "execute_result"
    }
   ],
   "source": [
    "optimal_idx = np.argmax(tp_rate - fp_rate)\n",
    "optimal_threshold = thresholds[optimal_idx]\n",
    "optimal_threshold"
   ]
  },
  {
   "cell_type": "code",
   "execution_count": 29,
   "metadata": {},
   "outputs": [],
   "source": [
    "y_pred2 = [1 if i >= optimal_threshold else 0 for i in y_pred_proba[:,1]]"
   ]
  },
  {
   "cell_type": "code",
   "execution_count": 30,
   "metadata": {},
   "outputs": [
    {
     "name": "stdout",
     "output_type": "stream",
     "text": [
      "[[366 132]\n",
      " [ 13  56]]\n",
      "-------------------------------------------------------\n",
      "              precision    recall  f1-score   support\n",
      "\n",
      "         0.0       0.97      0.73      0.83       498\n",
      "         1.0       0.30      0.81      0.44        69\n",
      "\n",
      "    accuracy                           0.74       567\n",
      "   macro avg       0.63      0.77      0.64       567\n",
      "weighted avg       0.88      0.74      0.79       567\n",
      "\n"
     ]
    }
   ],
   "source": [
    "print(confusion_matrix(y_test, y_pred2))\n",
    "print(\"-------------------------------------------------------\")\n",
    "print(classification_report(y_test, y_pred2))"
   ]
  },
  {
   "cell_type": "code",
   "execution_count": 31,
   "metadata": {},
   "outputs": [
    {
     "name": "stdout",
     "output_type": "stream",
     "text": [
      "[[487  11]\n",
      " [ 53  16]]\n",
      "-------------------------------------------------------\n",
      "              precision    recall  f1-score   support\n",
      "\n",
      "         0.0       0.90      0.98      0.94       498\n",
      "         1.0       0.59      0.23      0.33        69\n",
      "\n",
      "    accuracy                           0.89       567\n",
      "   macro avg       0.75      0.60      0.64       567\n",
      "weighted avg       0.86      0.89      0.86       567\n",
      "\n"
     ]
    }
   ],
   "source": [
    "print(confusion_matrix(y_test, y_pred))\n",
    "print(\"-------------------------------------------------------\")\n",
    "print(classification_report(y_test, y_pred))"
   ]
  },
  {
   "cell_type": "code",
   "execution_count": 32,
   "metadata": {},
   "outputs": [],
   "source": [
    "log_recall = recall_score(y_test, y_pred2)\n",
    "log_f1 = f1_score(y_test, y_pred2)\n",
    "log_auc = roc_auc_score(y_test, y_pred_proba[:,1])"
   ]
  },
  {
   "cell_type": "markdown",
   "metadata": {},
   "source": [
    "# KNN (k-NEAREST NEIGHBORS)"
   ]
  },
  {
   "cell_type": "code",
   "execution_count": 33,
   "metadata": {},
   "outputs": [],
   "source": [
    "from sklearn.neighbors import KNeighborsClassifier"
   ]
  },
  {
   "cell_type": "code",
   "execution_count": 34,
   "metadata": {},
   "outputs": [],
   "source": [
    "test_error_rates = []\n",
    "\n",
    "for k in range(1,20):\n",
    "    knn_model = KNeighborsClassifier(n_neighbors=k)\n",
    "    knn_model.fit(X_train_scaled, y_train) \n",
    "    y_pred = knn_model.predict(X_test_scaled)\n",
    "    \n",
    "    test_error = 1 - accuracy_score(y_test,y_pred)\n",
    "    test_error_rates.append(test_error)"
   ]
  },
  {
   "cell_type": "code",
   "execution_count": 35,
   "metadata": {},
   "outputs": [
    {
     "data": {
      "text/plain": [
       "<matplotlib.collections.LineCollection at 0x23fb3509c88>"
      ]
     },
     "execution_count": 35,
     "metadata": {},
     "output_type": "execute_result"
    },
    {
     "data": {
      "image/png": "[encoded data removed]",
      "text/plain": [
       "<Figure size 1080x576 with 1 Axes>"
      ]
     },
     "metadata": {
      "needs_background": "light"
     },
     "output_type": "display_data"
    }
   ],
   "source": [
    "plt.figure(figsize=(15,8))\n",
    "plt.plot(range(1,20), test_error_rates, color='blue', linestyle='--', marker='o',\n",
    "         markerfacecolor='red', markersize=10)\n",
    "plt.title('Error Rate vs. K Value')\n",
    "plt.xlabel('K_values')\n",
    "plt.ylabel('Error Rate')\n",
    "plt.hlines(y=0.05, xmin = 0, xmax = 30, colors= 'r', linestyles=\"--\")\n",
    "plt.hlines(y=0.06, xmin = 0, xmax = 30, colors= 'r', linestyles=\"--\")"
   ]
  },
  {
   "cell_type": "code",
   "execution_count": 36,
   "metadata": {},
   "outputs": [
    {
     "name": "stdout",
     "output_type": "stream",
     "text": [
      "[[493   5]\n",
      " [ 61   8]]\n",
      "--------------------------------------------------------\n",
      "              precision    recall  f1-score   support\n",
      "\n",
      "         0.0       0.89      0.99      0.94       498\n",
      "         1.0       0.62      0.12      0.20        69\n",
      "\n",
      "    accuracy                           0.88       567\n",
      "   macro avg       0.75      0.55      0.57       567\n",
      "weighted avg       0.86      0.88      0.85       567\n",
      "\n"
     ]
    }
   ],
   "source": [
    "knn_model = KNeighborsClassifier(n_neighbors=7)\n",
    "knn_model.fit(X_train_scaled, y_train)\n",
    "y_pred_proba=knn_model.predict_proba(X_test_scaled)\n",
    "y_pred=knn_model.predict(X_test_scaled)\n",
    "knn_recall = recall_score(y_test, y_pred)\n",
    "knn_f1 = f1_score(y_test, y_pred)\n",
    "knn_auc = roc_auc_score(y_test, y_pred_proba[:,1])\n",
    "print(confusion_matrix(y_test, y_pred))\n",
    "print(\"--------------------------------------------------------\")\n",
    "print(classification_report(y_test, y_pred))"
   ]
  },
  {
   "cell_type": "code",
   "execution_count": 37,
   "metadata": {},
   "outputs": [
    {
     "data": {
      "image/png": "[encoded data removed]",
      "text/plain": [
       "<Figure size 432x288 with 1 Axes>"
      ]
     },
     "metadata": {
      "needs_background": "light"
     },
     "output_type": "display_data"
    }
   ],
   "source": [
    "plot_roc_curve(knn_model, X_test_scaled, y_test);"
   ]
  },
  {
   "cell_type": "code",
   "execution_count": 38,
   "metadata": {},
   "outputs": [
    {
     "data": {
      "text/plain": [
       "0.7396251673360107"
      ]
     },
     "execution_count": 38,
     "metadata": {},
     "output_type": "execute_result"
    }
   ],
   "source": [
    "roc_auc_score(y_test, y_pred_proba[:,1])"
   ]
  },
  {
   "cell_type": "code",
   "execution_count": 39,
   "metadata": {},
   "outputs": [],
   "source": [
    "fp_rate, tp_rate, thresholds = roc_curve(y_test, y_pred_proba[:,1])"
   ]
  },
  {
   "cell_type": "code",
   "execution_count": 40,
   "metadata": {},
   "outputs": [
    {
     "data": {
      "text/plain": [
       "0.14285714285714285"
      ]
     },
     "execution_count": 40,
     "metadata": {},
     "output_type": "execute_result"
    }
   ],
   "source": [
    "optimal_idx = np.argmax(tp_rate - fp_rate)\n",
    "optimal_threshold = thresholds[optimal_idx]\n",
    "optimal_threshold"
   ]
  },
  {
   "cell_type": "code",
   "execution_count": 41,
   "metadata": {},
   "outputs": [],
   "source": [
    "y_pred2 = [1 if i >= optimal_threshold else 0 for i in y_pred_proba[:,1]]"
   ]
  },
  {
   "cell_type": "code",
   "execution_count": 42,
   "metadata": {},
   "outputs": [
    {
     "name": "stdout",
     "output_type": "stream",
     "text": [
      "[[316 182]\n",
      " [ 18  51]]\n",
      "-------------------------------------------------------\n",
      "              precision    recall  f1-score   support\n",
      "\n",
      "         0.0       0.95      0.63      0.76       498\n",
      "         1.0       0.22      0.74      0.34        69\n",
      "\n",
      "    accuracy                           0.65       567\n",
      "   macro avg       0.58      0.69      0.55       567\n",
      "weighted avg       0.86      0.65      0.71       567\n",
      "\n"
     ]
    }
   ],
   "source": [
    "print(confusion_matrix(y_test, y_pred2))\n",
    "print(\"-------------------------------------------------------\")\n",
    "print(classification_report(y_test, y_pred2))"
   ]
  },
  {
   "cell_type": "code",
   "execution_count": 43,
   "metadata": {},
   "outputs": [
    {
     "name": "stdout",
     "output_type": "stream",
     "text": [
      "[[493   5]\n",
      " [ 61   8]]\n",
      "-------------------------------------------------------\n",
      "              precision    recall  f1-score   support\n",
      "\n",
      "         0.0       0.89      0.99      0.94       498\n",
      "         1.0       0.62      0.12      0.20        69\n",
      "\n",
      "    accuracy                           0.88       567\n",
      "   macro avg       0.75      0.55      0.57       567\n",
      "weighted avg       0.86      0.88      0.85       567\n",
      "\n"
     ]
    }
   ],
   "source": [
    "print(confusion_matrix(y_test, y_pred))\n",
    "print(\"-------------------------------------------------------\")\n",
    "print(classification_report(y_test, y_pred))"
   ]
  },
  {
   "cell_type": "code",
   "execution_count": 44,
   "metadata": {},
   "outputs": [],
   "source": [
    "knn_recall = recall_score(y_test, y_pred2)\n",
    "knn_f1 = f1_score(y_test, y_pred2)\n",
    "knn_auc = roc_auc_score(y_test, y_pred_proba[:,1])"
   ]
  },
  {
   "cell_type": "markdown",
   "metadata": {},
   "source": [
    "# SVM (SUPPORT VECTOR MACHINE)"
   ]
  },
  {
   "cell_type": "code",
   "execution_count": 45,
   "metadata": {},
   "outputs": [],
   "source": [
    "from sklearn.svm import SVC, LinearSVC"
   ]
  },
  {
   "cell_type": "code",
   "execution_count": 46,
   "metadata": {},
   "outputs": [
    {
     "name": "stdout",
     "output_type": "stream",
     "text": [
      "[[491   7]\n",
      " [ 59  10]]\n",
      "--------------------------------------------------------\n",
      "              precision    recall  f1-score   support\n",
      "\n",
      "         0.0       0.89      0.99      0.94       498\n",
      "         1.0       0.59      0.14      0.23        69\n",
      "\n",
      "    accuracy                           0.88       567\n",
      "   macro avg       0.74      0.57      0.58       567\n",
      "weighted avg       0.86      0.88      0.85       567\n",
      "\n"
     ]
    }
   ],
   "source": [
    "svm_model = LinearSVC()\n",
    "svm_model.fit(X_train_scaled, y_train)\n",
    "y_pred_proba=svm_model.decision_function(X_test_scaled)\n",
    "#y_pred_proba=svm_model.predict_proba(X_test_scaled)\n",
    "y_pred=svm_model.predict(X_test_scaled)\n",
    "svm_recall = recall_score(y_test, y_pred)\n",
    "svm_f1 = f1_score(y_test, y_pred)\n",
    "svm_auc = roc_auc_score(y_test, y_pred_proba)\n",
    "print(confusion_matrix(y_test, y_pred))\n",
    "print(\"--------------------------------------------------------\")\n",
    "print(classification_report(y_test, y_pred))"
   ]
  },
  {
   "cell_type": "code",
   "execution_count": 47,
   "metadata": {},
   "outputs": [
    {
     "data": {
      "image/png": "[encoded data removed]",
      "text/plain": [
       "<Figure size 432x288 with 1 Axes>"
      ]
     },
     "metadata": {
      "needs_background": "light"
     },
     "output_type": "display_data"
    }
   ],
   "source": [
    "plot_roc_curve(svm_model, X_test_scaled, y_test);"
   ]
  },
  {
   "cell_type": "code",
   "execution_count": 48,
   "metadata": {},
   "outputs": [
    {
     "data": {
      "text/plain": [
       "0.822449217158489"
      ]
     },
     "execution_count": 48,
     "metadata": {},
     "output_type": "execute_result"
    }
   ],
   "source": [
    "roc_auc_score(y_test, y_pred_proba)"
   ]
  },
  {
   "cell_type": "code",
   "execution_count": 49,
   "metadata": {},
   "outputs": [],
   "source": [
    "fp_rate, tp_rate, thresholds = roc_curve(y_test, y_pred_proba)"
   ]
  },
  {
   "cell_type": "code",
   "execution_count": 50,
   "metadata": {},
   "outputs": [
    {
     "data": {
      "text/plain": [
       "-0.7139550302207113"
      ]
     },
     "execution_count": 50,
     "metadata": {},
     "output_type": "execute_result"
    }
   ],
   "source": [
    "optimal_idx = np.argmax(tp_rate - fp_rate)\n",
    "optimal_threshold = thresholds[optimal_idx]\n",
    "optimal_threshold"
   ]
  },
  {
   "cell_type": "code",
   "execution_count": 51,
   "metadata": {},
   "outputs": [],
   "source": [
    "y_pred2 = [1 if i >= optimal_threshold else 0 for i in y_pred_proba]"
   ]
  },
  {
   "cell_type": "code",
   "execution_count": 52,
   "metadata": {},
   "outputs": [
    {
     "name": "stdout",
     "output_type": "stream",
     "text": [
      "[[353 145]\n",
      " [ 10  59]]\n",
      "-------------------------------------------------------\n",
      "              precision    recall  f1-score   support\n",
      "\n",
      "         0.0       0.97      0.71      0.82       498\n",
      "         1.0       0.29      0.86      0.43        69\n",
      "\n",
      "    accuracy                           0.73       567\n",
      "   macro avg       0.63      0.78      0.63       567\n",
      "weighted avg       0.89      0.73      0.77       567\n",
      "\n"
     ]
    }
   ],
   "source": [
    "print(confusion_matrix(y_test, y_pred2))\n",
    "print(\"-------------------------------------------------------\")\n",
    "print(classification_report(y_test, y_pred2))"
   ]
  },
  {
   "cell_type": "code",
   "execution_count": 53,
   "metadata": {},
   "outputs": [
    {
     "name": "stdout",
     "output_type": "stream",
     "text": [
      "[[491   7]\n",
      " [ 59  10]]\n",
      "-------------------------------------------------------\n",
      "              precision    recall  f1-score   support\n",
      "\n",
      "         0.0       0.89      0.99      0.94       498\n",
      "         1.0       0.59      0.14      0.23        69\n",
      "\n",
      "    accuracy                           0.88       567\n",
      "   macro avg       0.74      0.57      0.58       567\n",
      "weighted avg       0.86      0.88      0.85       567\n",
      "\n"
     ]
    }
   ],
   "source": [
    "print(confusion_matrix(y_test, y_pred))\n",
    "print(\"-------------------------------------------------------\")\n",
    "print(classification_report(y_test, y_pred))"
   ]
  },
  {
   "cell_type": "code",
   "execution_count": 54,
   "metadata": {},
   "outputs": [],
   "source": [
    "svm_recall = recall_score(y_test, y_pred2)\n",
    "svm_f1 = f1_score(y_test, y_pred2)\n",
    "svm_auc = roc_auc_score(y_test, y_pred_proba)"
   ]
  },
  {
   "cell_type": "markdown",
   "metadata": {},
   "source": [
    "# DECISON TREE"
   ]
  },
  {
   "cell_type": "code",
   "execution_count": 55,
   "metadata": {},
   "outputs": [],
   "source": [
    "from sklearn.tree import DecisionTreeClassifier"
   ]
  },
  {
   "cell_type": "code",
   "execution_count": 56,
   "metadata": {},
   "outputs": [
    {
     "name": "stdout",
     "output_type": "stream",
     "text": [
      "[[439  59]\n",
      " [ 44  25]]\n",
      "--------------------------------------------------------\n",
      "              precision    recall  f1-score   support\n",
      "\n",
      "         0.0       0.91      0.88      0.90       498\n",
      "         1.0       0.30      0.36      0.33        69\n",
      "\n",
      "    accuracy                           0.82       567\n",
      "   macro avg       0.60      0.62      0.61       567\n",
      "weighted avg       0.83      0.82      0.83       567\n",
      "\n"
     ]
    }
   ],
   "source": [
    "dt_model = DecisionTreeClassifier()\n",
    "dt_model.fit(X_train_scaled, y_train)\n",
    "y_pred_proba=dt_model.predict_proba(X_test_scaled)\n",
    "y_pred=dt_model.predict(X_test_scaled)\n",
    "dt_recall = recall_score(y_test, y_pred)\n",
    "dt_f1 = f1_score(y_test, y_pred)\n",
    "dt_auc = roc_auc_score(y_test, y_pred_proba[:,1])\n",
    "print(confusion_matrix(y_test, y_pred))\n",
    "print(\"--------------------------------------------------------\")\n",
    "print(classification_report(y_test, y_pred))"
   ]
  },
  {
   "cell_type": "code",
   "execution_count": 57,
   "metadata": {},
   "outputs": [
    {
     "data": {
      "image/png": "[encoded data removed]",
      "text/plain": [
       "<Figure size 432x288 with 1 Axes>"
      ]
     },
     "metadata": {
      "needs_background": "light"
     },
     "output_type": "display_data"
    }
   ],
   "source": [
    "plot_roc_curve(dt_model, X_test_scaled, y_test);"
   ]
  },
  {
   "cell_type": "code",
   "execution_count": 58,
   "metadata": {},
   "outputs": [
    {
     "data": {
      "text/plain": [
       "0.6219224724986905"
      ]
     },
     "execution_count": 58,
     "metadata": {},
     "output_type": "execute_result"
    }
   ],
   "source": [
    "roc_auc_score(y_test, y_pred_proba[:,1])"
   ]
  },
  {
   "cell_type": "markdown",
   "metadata": {},
   "source": [
    "# RANDOM FOREST"
   ]
  },
  {
   "cell_type": "code",
   "execution_count": 59,
   "metadata": {},
   "outputs": [],
   "source": [
    "from sklearn.ensemble import RandomForestClassifier"
   ]
  },
  {
   "cell_type": "code",
   "execution_count": 60,
   "metadata": {},
   "outputs": [
    {
     "name": "stdout",
     "output_type": "stream",
     "text": [
      "[[493   5]\n",
      " [ 61   8]]\n",
      "--------------------------------------------------------\n",
      "              precision    recall  f1-score   support\n",
      "\n",
      "         0.0       0.89      0.99      0.94       498\n",
      "         1.0       0.62      0.12      0.20        69\n",
      "\n",
      "    accuracy                           0.88       567\n",
      "   macro avg       0.75      0.55      0.57       567\n",
      "weighted avg       0.86      0.88      0.85       567\n",
      "\n"
     ]
    }
   ],
   "source": [
    "rf_model = RandomForestClassifier()\n",
    "rf_model.fit(X_train_scaled, y_train)\n",
    "y_pred_proba=rf_model.predict_proba(X_test_scaled)\n",
    "y_pred=rf_model.predict(X_test_scaled)\n",
    "rf_recall = recall_score(y_test, y_pred)\n",
    "rf_f1 = f1_score(y_test, y_pred)\n",
    "rf_auc = roc_auc_score(y_test, y_pred_proba[:,1])\n",
    "print(confusion_matrix(y_test, y_pred))\n",
    "print(\"--------------------------------------------------------\")\n",
    "print(classification_report(y_test, y_pred))"
   ]
  },
  {
   "cell_type": "code",
   "execution_count": 61,
   "metadata": {},
   "outputs": [
    {
     "data": {
      "image/png": "[encoded data removed]",
      "text/plain": [
       "<Figure size 432x288 with 1 Axes>"
      ]
     },
     "metadata": {
      "needs_background": "light"
     },
     "output_type": "display_data"
    }
   ],
   "source": [
    "plot_roc_curve(rf_model, X_test_scaled, y_test);"
   ]
  },
  {
   "cell_type": "code",
   "execution_count": 62,
   "metadata": {},
   "outputs": [
    {
     "data": {
      "text/plain": [
       "0.8302776322682034"
      ]
     },
     "execution_count": 62,
     "metadata": {},
     "output_type": "execute_result"
    }
   ],
   "source": [
    "roc_auc_score(y_test, y_pred_proba[:,1])"
   ]
  },
  {
   "cell_type": "code",
   "execution_count": 63,
   "metadata": {},
   "outputs": [],
   "source": [
    "fp_rate, tp_rate, thresholds = roc_curve(y_test, y_pred_proba[:,1])"
   ]
  },
  {
   "cell_type": "code",
   "execution_count": 64,
   "metadata": {},
   "outputs": [
    {
     "data": {
      "text/plain": [
       "0.15"
      ]
     },
     "execution_count": 64,
     "metadata": {},
     "output_type": "execute_result"
    }
   ],
   "source": [
    "optimal_idx = np.argmax(tp_rate - fp_rate)\n",
    "optimal_threshold = thresholds[optimal_idx]\n",
    "optimal_threshold"
   ]
  },
  {
   "cell_type": "code",
   "execution_count": 65,
   "metadata": {},
   "outputs": [],
   "source": [
    "y_pred2 = [1 if i >= optimal_threshold else 0 for i in y_pred_proba[:,1]]"
   ]
  },
  {
   "cell_type": "code",
   "execution_count": 66,
   "metadata": {},
   "outputs": [
    {
     "name": "stdout",
     "output_type": "stream",
     "text": [
      "[[373 125]\n",
      " [ 16  53]]\n",
      "-------------------------------------------------------\n",
      "              precision    recall  f1-score   support\n",
      "\n",
      "         0.0       0.96      0.75      0.84       498\n",
      "         1.0       0.30      0.77      0.43        69\n",
      "\n",
      "    accuracy                           0.75       567\n",
      "   macro avg       0.63      0.76      0.64       567\n",
      "weighted avg       0.88      0.75      0.79       567\n",
      "\n"
     ]
    }
   ],
   "source": [
    "print(confusion_matrix(y_test, y_pred2))\n",
    "print(\"-------------------------------------------------------\")\n",
    "print(classification_report(y_test, y_pred2))"
   ]
  },
  {
   "cell_type": "code",
   "execution_count": 67,
   "metadata": {},
   "outputs": [
    {
     "name": "stdout",
     "output_type": "stream",
     "text": [
      "[[493   5]\n",
      " [ 61   8]]\n",
      "-------------------------------------------------------\n",
      "              precision    recall  f1-score   support\n",
      "\n",
      "         0.0       0.89      0.99      0.94       498\n",
      "         1.0       0.62      0.12      0.20        69\n",
      "\n",
      "    accuracy                           0.88       567\n",
      "   macro avg       0.75      0.55      0.57       567\n",
      "weighted avg       0.86      0.88      0.85       567\n",
      "\n"
     ]
    }
   ],
   "source": [
    "print(confusion_matrix(y_test, y_pred))\n",
    "print(\"-------------------------------------------------------\")\n",
    "print(classification_report(y_test, y_pred))"
   ]
  },
  {
   "cell_type": "code",
   "execution_count": 68,
   "metadata": {},
   "outputs": [],
   "source": [
    "rf_recall = recall_score(y_test, y_pred2)\n",
    "rf_f1 = f1_score(y_test, y_pred2)\n",
    "rf_auc = roc_auc_score(y_test, y_pred_proba[:,1])"
   ]
  },
  {
   "cell_type": "markdown",
   "metadata": {},
   "source": [
    "# ADABOOST"
   ]
  },
  {
   "cell_type": "code",
   "execution_count": 69,
   "metadata": {},
   "outputs": [],
   "source": [
    "from sklearn.ensemble import AdaBoostClassifier"
   ]
  },
  {
   "cell_type": "code",
   "execution_count": 70,
   "metadata": {},
   "outputs": [
    {
     "name": "stdout",
     "output_type": "stream",
     "text": [
      "[[475  23]\n",
      " [ 51  18]]\n",
      "--------------------------------------------------------\n",
      "              precision    recall  f1-score   support\n",
      "\n",
      "         0.0       0.90      0.95      0.93       498\n",
      "         1.0       0.44      0.26      0.33        69\n",
      "\n",
      "    accuracy                           0.87       567\n",
      "   macro avg       0.67      0.61      0.63       567\n",
      "weighted avg       0.85      0.87      0.85       567\n",
      "\n"
     ]
    }
   ],
   "source": [
    "ada_model = AdaBoostClassifier()\n",
    "ada_model.fit(X_train_scaled, y_train)\n",
    "y_pred_proba=ada_model.predict_proba(X_test_scaled)\n",
    "y_pred=ada_model.predict(X_test_scaled)\n",
    "ada_recall = recall_score(y_test, y_pred)\n",
    "ada_f1 = f1_score(y_test, y_pred)\n",
    "ada_auc = roc_auc_score(y_test, y_pred_proba[:,1])\n",
    "print(confusion_matrix(y_test, y_pred))\n",
    "print(\"--------------------------------------------------------\")\n",
    "print(classification_report(y_test, y_pred))"
   ]
  },
  {
   "cell_type": "code",
   "execution_count": 71,
   "metadata": {},
   "outputs": [
    {
     "data": {
      "image/png": "[encoded data removed]",
      "text/plain": [
       "<Figure size 432x288 with 1 Axes>"
      ]
     },
     "metadata": {
      "needs_background": "light"
     },
     "output_type": "display_data"
    }
   ],
   "source": [
    "plot_roc_curve(ada_model, X_test_scaled, y_test);"
   ]
  },
  {
   "cell_type": "code",
   "execution_count": 72,
   "metadata": {},
   "outputs": [
    {
     "data": {
      "text/plain": [
       "0.8379896397182934"
      ]
     },
     "execution_count": 72,
     "metadata": {},
     "output_type": "execute_result"
    }
   ],
   "source": [
    "roc_auc_score(y_test, y_pred_proba[:,1])"
   ]
  },
  {
   "cell_type": "code",
   "execution_count": 73,
   "metadata": {},
   "outputs": [],
   "source": [
    "fp_rate, tp_rate, thresholds = roc_curve(y_test, y_pred_proba[:,1])"
   ]
  },
  {
   "cell_type": "code",
   "execution_count": 74,
   "metadata": {},
   "outputs": [
    {
     "data": {
      "text/plain": [
       "0.4884735731153188"
      ]
     },
     "execution_count": 74,
     "metadata": {},
     "output_type": "execute_result"
    }
   ],
   "source": [
    "optimal_idx = np.argmax(tp_rate - fp_rate)\n",
    "optimal_threshold = thresholds[optimal_idx]\n",
    "optimal_threshold"
   ]
  },
  {
   "cell_type": "code",
   "execution_count": 75,
   "metadata": {},
   "outputs": [],
   "source": [
    "y_pred2 = [1 if i >= optimal_threshold else 0 for i in y_pred_proba[:,1]]"
   ]
  },
  {
   "cell_type": "code",
   "execution_count": 76,
   "metadata": {},
   "outputs": [
    {
     "name": "stdout",
     "output_type": "stream",
     "text": [
      "[[376 122]\n",
      " [ 12  57]]\n",
      "-------------------------------------------------------\n",
      "              precision    recall  f1-score   support\n",
      "\n",
      "         0.0       0.97      0.76      0.85       498\n",
      "         1.0       0.32      0.83      0.46        69\n",
      "\n",
      "    accuracy                           0.76       567\n",
      "   macro avg       0.64      0.79      0.65       567\n",
      "weighted avg       0.89      0.76      0.80       567\n",
      "\n"
     ]
    }
   ],
   "source": [
    "print(confusion_matrix(y_test, y_pred2))\n",
    "print(\"-------------------------------------------------------\")\n",
    "print(classification_report(y_test, y_pred2))"
   ]
  },
  {
   "cell_type": "code",
   "execution_count": 77,
   "metadata": {},
   "outputs": [
    {
     "name": "stdout",
     "output_type": "stream",
     "text": [
      "[[475  23]\n",
      " [ 51  18]]\n",
      "-------------------------------------------------------\n",
      "              precision    recall  f1-score   support\n",
      "\n",
      "         0.0       0.90      0.95      0.93       498\n",
      "         1.0       0.44      0.26      0.33        69\n",
      "\n",
      "    accuracy                           0.87       567\n",
      "   macro avg       0.67      0.61      0.63       567\n",
      "weighted avg       0.85      0.87      0.85       567\n",
      "\n"
     ]
    }
   ],
   "source": [
    "print(confusion_matrix(y_test, y_pred))\n",
    "print(\"-------------------------------------------------------\")\n",
    "print(classification_report(y_test, y_pred))"
   ]
  },
  {
   "cell_type": "code",
   "execution_count": 78,
   "metadata": {},
   "outputs": [],
   "source": [
    "ada_recall = recall_score(y_test, y_pred2)\n",
    "ada_f1 = f1_score(y_test, y_pred2)\n",
    "ada_auc = roc_auc_score(y_test, y_pred_proba[:,1])"
   ]
  },
  {
   "cell_type": "markdown",
   "metadata": {},
   "source": [
    "# XGBOOST"
   ]
  },
  {
   "cell_type": "code",
   "execution_count": 79,
   "metadata": {},
   "outputs": [],
   "source": [
    "from xgboost import XGBClassifier"
   ]
  },
  {
   "cell_type": "code",
   "execution_count": 80,
   "metadata": {},
   "outputs": [
    {
     "name": "stdout",
     "output_type": "stream",
     "text": [
      "[01:41:36] WARNING: C:/Users/Administrator/workspace/xgboost-win64_release_1.4.0/src/learner.cc:1095: Starting in XGBoost 1.3.0, the default evaluation metric used with the objective 'binary:logistic' was changed from 'error' to 'logloss'. Explicitly set eval_metric if you'd like to restore the old behavior.\n",
      "[[480  18]\n",
      " [ 50  19]]\n",
      "--------------------------------------------------------\n",
      "              precision    recall  f1-score   support\n",
      "\n",
      "         0.0       0.91      0.96      0.93       498\n",
      "         1.0       0.51      0.28      0.36        69\n",
      "\n",
      "    accuracy                           0.88       567\n",
      "   macro avg       0.71      0.62      0.65       567\n",
      "weighted avg       0.86      0.88      0.86       567\n",
      "\n"
     ]
    }
   ],
   "source": [
    "xgb_model = XGBClassifier()\n",
    "xgb_model.fit(X_train_scaled, y_train)\n",
    "y_pred_proba=xgb_model.predict_proba(X_test_scaled)\n",
    "y_pred=xgb_model.predict(X_test_scaled)\n",
    "xgb_recall = recall_score(y_test, y_pred)\n",
    "xgb_f1 = f1_score(y_test, y_pred)\n",
    "xgb_auc = roc_auc_score(y_test, y_pred_proba[:,1])\n",
    "print(confusion_matrix(y_test, y_pred))\n",
    "print(\"--------------------------------------------------------\")\n",
    "print(classification_report(y_test, y_pred))"
   ]
  },
  {
   "cell_type": "code",
   "execution_count": 81,
   "metadata": {},
   "outputs": [
    {
     "data": {
      "image/png": "[encoded data removed]",
      "text/plain": [
       "<Figure size 432x288 with 1 Axes>"
      ]
     },
     "metadata": {
      "needs_background": "light"
     },
     "output_type": "display_data"
    }
   ],
   "source": [
    "plot_roc_curve(xgb_model, X_test_scaled, y_test);"
   ]
  },
  {
   "cell_type": "code",
   "execution_count": 82,
   "metadata": {},
   "outputs": [
    {
     "data": {
      "text/plain": [
       "0.8280658867353472"
      ]
     },
     "execution_count": 82,
     "metadata": {},
     "output_type": "execute_result"
    }
   ],
   "source": [
    "roc_auc_score(y_test, y_pred_proba[:,1])"
   ]
  },
  {
   "cell_type": "code",
   "execution_count": 83,
   "metadata": {},
   "outputs": [],
   "source": [
    "fp_rate, tp_rate, thresholds = roc_curve(y_test, y_pred_proba[:,1])"
   ]
  },
  {
   "cell_type": "code",
   "execution_count": 84,
   "metadata": {},
   "outputs": [
    {
     "data": {
      "text/plain": [
       "0.052637164"
      ]
     },
     "execution_count": 84,
     "metadata": {},
     "output_type": "execute_result"
    }
   ],
   "source": [
    "optimal_idx = np.argmax(tp_rate - fp_rate)\n",
    "optimal_threshold = thresholds[optimal_idx]\n",
    "optimal_threshold"
   ]
  },
  {
   "cell_type": "code",
   "execution_count": 85,
   "metadata": {},
   "outputs": [],
   "source": [
    "y_pred2 = [1 if i >= optimal_threshold else 0 for i in y_pred_proba[:,1]]"
   ]
  },
  {
   "cell_type": "code",
   "execution_count": 86,
   "metadata": {},
   "outputs": [
    {
     "name": "stdout",
     "output_type": "stream",
     "text": [
      "[[415  83]\n",
      " [ 20  49]]\n",
      "-------------------------------------------------------\n",
      "              precision    recall  f1-score   support\n",
      "\n",
      "         0.0       0.95      0.83      0.89       498\n",
      "         1.0       0.37      0.71      0.49        69\n",
      "\n",
      "    accuracy                           0.82       567\n",
      "   macro avg       0.66      0.77      0.69       567\n",
      "weighted avg       0.88      0.82      0.84       567\n",
      "\n"
     ]
    }
   ],
   "source": [
    "print(confusion_matrix(y_test, y_pred2))\n",
    "print(\"-------------------------------------------------------\")\n",
    "print(classification_report(y_test, y_pred2))"
   ]
  },
  {
   "cell_type": "code",
   "execution_count": 87,
   "metadata": {},
   "outputs": [
    {
     "name": "stdout",
     "output_type": "stream",
     "text": [
      "[[480  18]\n",
      " [ 50  19]]\n",
      "-------------------------------------------------------\n",
      "              precision    recall  f1-score   support\n",
      "\n",
      "         0.0       0.91      0.96      0.93       498\n",
      "         1.0       0.51      0.28      0.36        69\n",
      "\n",
      "    accuracy                           0.88       567\n",
      "   macro avg       0.71      0.62      0.65       567\n",
      "weighted avg       0.86      0.88      0.86       567\n",
      "\n"
     ]
    }
   ],
   "source": [
    "print(confusion_matrix(y_test, y_pred))\n",
    "print(\"-------------------------------------------------------\")\n",
    "print(classification_report(y_test, y_pred))"
   ]
  },
  {
   "cell_type": "code",
   "execution_count": 88,
   "metadata": {},
   "outputs": [],
   "source": [
    "xgb_recall = recall_score(y_test, y_pred2)\n",
    "xgb_f1 = f1_score(y_test, y_pred2)\n",
    "xgb_auc = roc_auc_score(y_test, y_pred_proba[:,1])"
   ]
  },
  {
   "cell_type": "markdown",
   "metadata": {},
   "source": [
    "# Comparing"
   ]
  },
  {
   "cell_type": "code",
   "execution_count": 89,
   "metadata": {},
   "outputs": [
    {
     "data": {
      "image/png": "[encoded data removed]",
      "text/plain": [
       "<Figure size 1080x1080 with 3 Axes>"
      ]
     },
     "metadata": {
      "needs_background": "light"
     },
     "output_type": "display_data"
    }
   ],
   "source": [
    "compare = pd.DataFrame({\"Model\": [\"LogReg\", \"KNN\", \"SVM\", \"Decision Tree\", \"Random Forest\", \"AdaBoost\", \"XGBoost\"],\n",
    "                        \"Recall\": [log_recall, knn_recall, svm_recall, dt_recall, rf_recall, ada_recall, xgb_recall],\n",
    "                        \"F1_Score\": [log_f1, knn_f1, svm_f1, dt_f1, rf_f1, ada_f1, xgb_f1],\n",
    "                        \"ROC_AUC_Score\": [log_auc, knn_auc, svm_auc, dt_auc, rf_auc, ada_auc, xgb_auc]})\n",
    "\n",
    "def labels(ax):\n",
    "    for p in ax.patches:\n",
    "        width = p.get_width()                        # get bar length\n",
    "        ax.text(width,                               # set the text at 1 unit right of the bar\n",
    "                p.get_y() + p.get_height() / 2,      # get Y coordinate + X coordinate / 2\n",
    "                '{:1.2f}'.format(width),             # set variable to display, 2 decimals\n",
    "                ha = 'left',                         # horizontal alignment\n",
    "                va = 'center')                       # vertical alignment\n",
    "    \n",
    "plt.figure(figsize=(15,15))\n",
    "plt.subplot(311)\n",
    "compare = compare.sort_values(by=\"Recall\", ascending=False)\n",
    "ax=sns.barplot(x=\"Recall\", y=\"Model\", data=compare, palette=\"Blues_d\")\n",
    "labels(ax)\n",
    "\n",
    "plt.subplot(312)\n",
    "compare = compare.sort_values(by=\"F1_Score\", ascending=False)\n",
    "ax=sns.barplot(x=\"F1_Score\", y=\"Model\", data=compare, palette=\"Blues_d\")\n",
    "labels(ax)\n",
    "\n",
    "plt.subplot(313)\n",
    "compare = compare.sort_values(by=\"ROC_AUC_Score\", ascending=False)\n",
    "ax=sns.barplot(x=\"ROC_AUC_Score\", y=\"Model\", data=compare, palette=\"Blues_d\")\n",
    "labels(ax)\n",
    "plt.show()"
   ]
  },
  {
   "cell_type": "markdown",
   "metadata": {},
   "source": [
    "# ANN"
   ]
  },
  {
   "cell_type": "code",
   "execution_count": 90,
   "metadata": {},
   "outputs": [],
   "source": [
    "import tensorflow as tf\n",
    "from tensorflow.keras.models import Sequential\n",
    "from tensorflow.keras.layers import Dense, Activation\n",
    "from tensorflow.keras.callbacks import EarlyStopping\n",
    "from tensorflow.keras.optimizers import Adam"
   ]
  },
  {
   "cell_type": "code",
   "execution_count": 91,
   "metadata": {},
   "outputs": [
    {
     "data": {
      "text/plain": [
       "(3207, 24)"
      ]
     },
     "execution_count": 91,
     "metadata": {},
     "output_type": "execute_result"
    }
   ],
   "source": [
    "X_train.shape"
   ]
  },
  {
   "cell_type": "code",
   "execution_count": 92,
   "metadata": {},
   "outputs": [],
   "source": [
    "model = Sequential()\n",
    "model.add(Dense(24, activation=\"relu\"))\n",
    "model.add(Dense(24, activation=\"relu\"))\n",
    "model.add(Dense(1, activation=\"sigmoid\"))\n",
    "\n",
    "opt = Adam(lr = 0.0001)\n",
    "model.compile(loss=\"binary_crossentropy\", optimizer=opt, metrics=[\"accuracy\"])"
   ]
  },
  {
   "cell_type": "code",
   "execution_count": 93,
   "metadata": {},
   "outputs": [],
   "source": [
    "early_stop = EarlyStopping(monitor=\"val_loss\", mode=\"auto\", verbose=1, patience = 25)"
   ]
  },
  {
   "cell_type": "code",
   "execution_count": 94,
   "metadata": {},
   "outputs": [
    {
     "name": "stdout",
     "output_type": "stream",
     "text": [
      "Epoch 1/500\n",
      "101/101 [==============================] - 1s 5ms/step - loss: 0.8999 - accuracy: 0.2289 - val_loss: 0.7877 - val_accuracy: 0.3439\n",
      "Epoch 2/500\n",
      "101/101 [==============================] - 0s 3ms/step - loss: 0.7380 - accuracy: 0.4743 - val_loss: 0.6607 - val_accuracy: 0.6667\n",
      "Epoch 3/500\n",
      "101/101 [==============================] - 0s 3ms/step - loss: 0.6270 - accuracy: 0.7281 - val_loss: 0.5757 - val_accuracy: 0.8078\n",
      "Epoch 4/500\n",
      "101/101 [==============================] - 0s 4ms/step - loss: 0.5512 - accuracy: 0.8307 - val_loss: 0.5169 - val_accuracy: 0.8483\n",
      "Epoch 5/500\n",
      "101/101 [==============================] - 0s 4ms/step - loss: 0.4999 - accuracy: 0.8597 - val_loss: 0.4768 - val_accuracy: 0.8695\n",
      "Epoch 6/500\n",
      "101/101 [==============================] - 0s 3ms/step - loss: 0.4627 - accuracy: 0.8728 - val_loss: 0.4467 - val_accuracy: 0.8783\n",
      "Epoch 7/500\n",
      "101/101 [==============================] - 0s 3ms/step - loss: 0.4349 - accuracy: 0.8750 - val_loss: 0.4240 - val_accuracy: 0.8801\n",
      "Epoch 8/500\n",
      "101/101 [==============================] - 0s 4ms/step - loss: 0.4140 - accuracy: 0.8778 - val_loss: 0.4066 - val_accuracy: 0.8801\n",
      "Epoch 9/500\n",
      "101/101 [==============================] - 0s 3ms/step - loss: 0.3976 - accuracy: 0.8781 - val_loss: 0.3932 - val_accuracy: 0.8801\n",
      "Epoch 10/500\n",
      "101/101 [==============================] - 0s 3ms/step - loss: 0.3840 - accuracy: 0.8781 - val_loss: 0.3819 - val_accuracy: 0.8783\n",
      "Epoch 11/500\n",
      "101/101 [==============================] - 0s 3ms/step - loss: 0.3729 - accuracy: 0.8781 - val_loss: 0.3724 - val_accuracy: 0.8801\n",
      "Epoch 12/500\n",
      "101/101 [==============================] - 0s 3ms/step - loss: 0.3634 - accuracy: 0.8784 - val_loss: 0.3646 - val_accuracy: 0.8801\n",
      "Epoch 13/500\n",
      "101/101 [==============================] - 0s 3ms/step - loss: 0.3553 - accuracy: 0.8784 - val_loss: 0.3577 - val_accuracy: 0.8801\n",
      "Epoch 14/500\n",
      "101/101 [==============================] - 0s 3ms/step - loss: 0.3482 - accuracy: 0.8778 - val_loss: 0.3518 - val_accuracy: 0.8801\n",
      "Epoch 15/500\n",
      "101/101 [==============================] - 0s 3ms/step - loss: 0.3419 - accuracy: 0.8781 - val_loss: 0.3467 - val_accuracy: 0.8801\n",
      "Epoch 16/500\n",
      "101/101 [==============================] - 0s 3ms/step - loss: 0.3364 - accuracy: 0.8787 - val_loss: 0.3423 - val_accuracy: 0.8801\n",
      "Epoch 17/500\n",
      "101/101 [==============================] - 0s 3ms/step - loss: 0.3313 - accuracy: 0.8781 - val_loss: 0.3383 - val_accuracy: 0.8818\n",
      "Epoch 18/500\n",
      "101/101 [==============================] - 0s 3ms/step - loss: 0.3267 - accuracy: 0.8778 - val_loss: 0.3348 - val_accuracy: 0.8801\n",
      "Epoch 19/500\n",
      "101/101 [==============================] - 0s 3ms/step - loss: 0.3225 - accuracy: 0.8790 - val_loss: 0.3318 - val_accuracy: 0.8818\n",
      "Epoch 20/500\n",
      "101/101 [==============================] - 0s 3ms/step - loss: 0.3187 - accuracy: 0.8793 - val_loss: 0.3290 - val_accuracy: 0.8783\n",
      "Epoch 21/500\n",
      "101/101 [==============================] - 0s 3ms/step - loss: 0.3153 - accuracy: 0.8793 - val_loss: 0.3267 - val_accuracy: 0.8801\n",
      "Epoch 22/500\n",
      "101/101 [==============================] - 0s 4ms/step - loss: 0.3122 - accuracy: 0.8800 - val_loss: 0.3246 - val_accuracy: 0.8783\n",
      "Epoch 23/500\n",
      "101/101 [==============================] - 0s 3ms/step - loss: 0.3094 - accuracy: 0.8806 - val_loss: 0.3228 - val_accuracy: 0.8801\n",
      "Epoch 24/500\n",
      "101/101 [==============================] - 0s 4ms/step - loss: 0.3068 - accuracy: 0.8812 - val_loss: 0.3210 - val_accuracy: 0.8801\n",
      "Epoch 25/500\n",
      "101/101 [==============================] - 0s 3ms/step - loss: 0.3046 - accuracy: 0.8824 - val_loss: 0.3195 - val_accuracy: 0.8783\n",
      "Epoch 26/500\n",
      "101/101 [==============================] - 0s 4ms/step - loss: 0.3024 - accuracy: 0.8834 - val_loss: 0.3183 - val_accuracy: 0.8801\n",
      "Epoch 27/500\n",
      "101/101 [==============================] - 0s 3ms/step - loss: 0.3005 - accuracy: 0.8840 - val_loss: 0.3171 - val_accuracy: 0.8801\n",
      "Epoch 28/500\n",
      "101/101 [==============================] - 0s 3ms/step - loss: 0.2987 - accuracy: 0.8846 - val_loss: 0.3161 - val_accuracy: 0.8783\n",
      "Epoch 29/500\n",
      "101/101 [==============================] - 0s 3ms/step - loss: 0.2971 - accuracy: 0.8849 - val_loss: 0.3154 - val_accuracy: 0.8783\n",
      "Epoch 30/500\n",
      "101/101 [==============================] - 0s 3ms/step - loss: 0.2955 - accuracy: 0.8859 - val_loss: 0.3145 - val_accuracy: 0.8783\n",
      "Epoch 31/500\n",
      "101/101 [==============================] - 0s 3ms/step - loss: 0.2940 - accuracy: 0.8865 - val_loss: 0.3138 - val_accuracy: 0.8765\n",
      "Epoch 32/500\n",
      "101/101 [==============================] - 0s 3ms/step - loss: 0.2927 - accuracy: 0.8871 - val_loss: 0.3132 - val_accuracy: 0.8765\n",
      "Epoch 33/500\n",
      "101/101 [==============================] - 0s 3ms/step - loss: 0.2914 - accuracy: 0.8871 - val_loss: 0.3127 - val_accuracy: 0.8783\n",
      "Epoch 34/500\n",
      "101/101 [==============================] - 0s 3ms/step - loss: 0.2902 - accuracy: 0.8868 - val_loss: 0.3123 - val_accuracy: 0.8801\n",
      "Epoch 35/500\n",
      "101/101 [==============================] - 0s 3ms/step - loss: 0.2890 - accuracy: 0.8874 - val_loss: 0.3117 - val_accuracy: 0.8801\n",
      "Epoch 36/500\n",
      "101/101 [==============================] - 0s 4ms/step - loss: 0.2880 - accuracy: 0.8874 - val_loss: 0.3115 - val_accuracy: 0.8783\n",
      "Epoch 37/500\n",
      "101/101 [==============================] - 0s 3ms/step - loss: 0.2871 - accuracy: 0.8871 - val_loss: 0.3110 - val_accuracy: 0.8783\n",
      "Epoch 38/500\n",
      "101/101 [==============================] - 0s 4ms/step - loss: 0.2862 - accuracy: 0.8874 - val_loss: 0.3109 - val_accuracy: 0.8783\n",
      "Epoch 39/500\n",
      "101/101 [==============================] - 0s 4ms/step - loss: 0.2853 - accuracy: 0.8871 - val_loss: 0.3106 - val_accuracy: 0.8783\n",
      "Epoch 40/500\n",
      "101/101 [==============================] - 0s 3ms/step - loss: 0.2846 - accuracy: 0.8874 - val_loss: 0.3103 - val_accuracy: 0.8783\n",
      "Epoch 41/500\n",
      "101/101 [==============================] - 0s 4ms/step - loss: 0.2836 - accuracy: 0.8884 - val_loss: 0.3101 - val_accuracy: 0.8801\n",
      "Epoch 42/500\n",
      "101/101 [==============================] - 0s 3ms/step - loss: 0.2829 - accuracy: 0.8881 - val_loss: 0.3099 - val_accuracy: 0.8801\n",
      "Epoch 43/500\n",
      "101/101 [==============================] - 0s 4ms/step - loss: 0.2822 - accuracy: 0.8890 - val_loss: 0.3097 - val_accuracy: 0.8801\n",
      "Epoch 44/500\n",
      "101/101 [==============================] - 0s 3ms/step - loss: 0.2816 - accuracy: 0.8893 - val_loss: 0.3096 - val_accuracy: 0.8801\n",
      "Epoch 45/500\n",
      "101/101 [==============================] - 0s 4ms/step - loss: 0.2809 - accuracy: 0.8893 - val_loss: 0.3094 - val_accuracy: 0.8818\n",
      "Epoch 46/500\n",
      "101/101 [==============================] - 0s 4ms/step - loss: 0.2803 - accuracy: 0.8893 - val_loss: 0.3093 - val_accuracy: 0.8836\n",
      "Epoch 47/500\n",
      "101/101 [==============================] - 0s 3ms/step - loss: 0.2797 - accuracy: 0.8899 - val_loss: 0.3091 - val_accuracy: 0.8836\n",
      "Epoch 48/500\n",
      "101/101 [==============================] - 0s 3ms/step - loss: 0.2791 - accuracy: 0.8906 - val_loss: 0.3092 - val_accuracy: 0.8801\n",
      "Epoch 49/500\n",
      "101/101 [==============================] - 0s 4ms/step - loss: 0.2786 - accuracy: 0.8909 - val_loss: 0.3090 - val_accuracy: 0.8801\n",
      "Epoch 50/500\n",
      "101/101 [==============================] - 0s 3ms/step - loss: 0.2782 - accuracy: 0.8902 - val_loss: 0.3089 - val_accuracy: 0.8801\n",
      "Epoch 51/500\n",
      "101/101 [==============================] - 0s 3ms/step - loss: 0.2776 - accuracy: 0.8915 - val_loss: 0.3088 - val_accuracy: 0.8783\n",
      "Epoch 52/500\n",
      "101/101 [==============================] - 0s 3ms/step - loss: 0.2772 - accuracy: 0.8918 - val_loss: 0.3087 - val_accuracy: 0.8783\n",
      "Epoch 53/500\n",
      "101/101 [==============================] - 0s 3ms/step - loss: 0.2768 - accuracy: 0.8921 - val_loss: 0.3086 - val_accuracy: 0.8783\n",
      "Epoch 54/500\n",
      "101/101 [==============================] - 0s 3ms/step - loss: 0.2763 - accuracy: 0.8915 - val_loss: 0.3085 - val_accuracy: 0.8801\n",
      "Epoch 55/500\n",
      "101/101 [==============================] - 0s 3ms/step - loss: 0.2759 - accuracy: 0.8934 - val_loss: 0.3084 - val_accuracy: 0.8801\n",
      "Epoch 56/500\n",
      "101/101 [==============================] - 0s 3ms/step - loss: 0.2755 - accuracy: 0.8918 - val_loss: 0.3085 - val_accuracy: 0.8783\n",
      "Epoch 57/500\n",
      "101/101 [==============================] - 0s 3ms/step - loss: 0.2750 - accuracy: 0.8930 - val_loss: 0.3084 - val_accuracy: 0.8765\n"
     ]
    },
    {
     "name": "stdout",
     "output_type": "stream",
     "text": [
      "Epoch 58/500\n",
      "101/101 [==============================] - 0s 3ms/step - loss: 0.2746 - accuracy: 0.8927 - val_loss: 0.3083 - val_accuracy: 0.8783\n",
      "Epoch 59/500\n",
      "101/101 [==============================] - 0s 3ms/step - loss: 0.2742 - accuracy: 0.8930 - val_loss: 0.3083 - val_accuracy: 0.8765\n",
      "Epoch 60/500\n",
      "101/101 [==============================] - 0s 3ms/step - loss: 0.2738 - accuracy: 0.8930 - val_loss: 0.3082 - val_accuracy: 0.8783\n",
      "Epoch 61/500\n",
      "101/101 [==============================] - 0s 3ms/step - loss: 0.2734 - accuracy: 0.8927 - val_loss: 0.3081 - val_accuracy: 0.8748\n",
      "Epoch 62/500\n",
      "101/101 [==============================] - 0s 3ms/step - loss: 0.2732 - accuracy: 0.8937 - val_loss: 0.3082 - val_accuracy: 0.8765\n",
      "Epoch 63/500\n",
      "101/101 [==============================] - 0s 3ms/step - loss: 0.2727 - accuracy: 0.8934 - val_loss: 0.3081 - val_accuracy: 0.8765\n",
      "Epoch 64/500\n",
      "101/101 [==============================] - 0s 3ms/step - loss: 0.2723 - accuracy: 0.8930 - val_loss: 0.3081 - val_accuracy: 0.8765\n",
      "Epoch 65/500\n",
      "101/101 [==============================] - 0s 3ms/step - loss: 0.2719 - accuracy: 0.8930 - val_loss: 0.3082 - val_accuracy: 0.8765\n",
      "Epoch 66/500\n",
      "101/101 [==============================] - 0s 3ms/step - loss: 0.2715 - accuracy: 0.8934 - val_loss: 0.3081 - val_accuracy: 0.8765\n",
      "Epoch 67/500\n",
      "101/101 [==============================] - 0s 3ms/step - loss: 0.2713 - accuracy: 0.8934 - val_loss: 0.3079 - val_accuracy: 0.8765\n",
      "Epoch 68/500\n",
      "101/101 [==============================] - 0s 4ms/step - loss: 0.2709 - accuracy: 0.8937 - val_loss: 0.3079 - val_accuracy: 0.8765\n",
      "Epoch 69/500\n",
      "101/101 [==============================] - 0s 3ms/step - loss: 0.2706 - accuracy: 0.8924 - val_loss: 0.3080 - val_accuracy: 0.8748\n",
      "Epoch 70/500\n",
      "101/101 [==============================] - 0s 3ms/step - loss: 0.2702 - accuracy: 0.8930 - val_loss: 0.3079 - val_accuracy: 0.8748\n",
      "Epoch 71/500\n",
      "101/101 [==============================] - 0s 3ms/step - loss: 0.2698 - accuracy: 0.8946 - val_loss: 0.3078 - val_accuracy: 0.8748\n",
      "Epoch 72/500\n",
      "101/101 [==============================] - 0s 3ms/step - loss: 0.2695 - accuracy: 0.8943 - val_loss: 0.3077 - val_accuracy: 0.8748\n",
      "Epoch 73/500\n",
      "101/101 [==============================] - 0s 3ms/step - loss: 0.2692 - accuracy: 0.8943 - val_loss: 0.3079 - val_accuracy: 0.8765\n",
      "Epoch 74/500\n",
      "101/101 [==============================] - 0s 4ms/step - loss: 0.2689 - accuracy: 0.8940 - val_loss: 0.3079 - val_accuracy: 0.8765\n",
      "Epoch 75/500\n",
      "101/101 [==============================] - 0s 4ms/step - loss: 0.2686 - accuracy: 0.8949 - val_loss: 0.3078 - val_accuracy: 0.8748\n",
      "Epoch 76/500\n",
      "101/101 [==============================] - 0s 3ms/step - loss: 0.2683 - accuracy: 0.8946 - val_loss: 0.3078 - val_accuracy: 0.8765\n",
      "Epoch 77/500\n",
      "101/101 [==============================] - 0s 3ms/step - loss: 0.2680 - accuracy: 0.8940 - val_loss: 0.3077 - val_accuracy: 0.8748\n",
      "Epoch 78/500\n",
      "101/101 [==============================] - 0s 3ms/step - loss: 0.2676 - accuracy: 0.8946 - val_loss: 0.3076 - val_accuracy: 0.8748\n",
      "Epoch 79/500\n",
      "101/101 [==============================] - 0s 4ms/step - loss: 0.2673 - accuracy: 0.8940 - val_loss: 0.3075 - val_accuracy: 0.8783\n",
      "Epoch 80/500\n",
      "101/101 [==============================] - 0s 3ms/step - loss: 0.2670 - accuracy: 0.8943 - val_loss: 0.3075 - val_accuracy: 0.8783\n",
      "Epoch 81/500\n",
      "101/101 [==============================] - 0s 3ms/step - loss: 0.2667 - accuracy: 0.8949 - val_loss: 0.3075 - val_accuracy: 0.8783\n",
      "Epoch 82/500\n",
      "101/101 [==============================] - 0s 3ms/step - loss: 0.2664 - accuracy: 0.8940 - val_loss: 0.3076 - val_accuracy: 0.8783\n",
      "Epoch 83/500\n",
      "101/101 [==============================] - 0s 3ms/step - loss: 0.2661 - accuracy: 0.8959 - val_loss: 0.3075 - val_accuracy: 0.8783\n",
      "Epoch 84/500\n",
      "101/101 [==============================] - 0s 4ms/step - loss: 0.2658 - accuracy: 0.8943 - val_loss: 0.3076 - val_accuracy: 0.8783\n",
      "Epoch 85/500\n",
      "101/101 [==============================] - 0s 3ms/step - loss: 0.2655 - accuracy: 0.8946 - val_loss: 0.3075 - val_accuracy: 0.8783\n",
      "Epoch 86/500\n",
      "101/101 [==============================] - 0s 3ms/step - loss: 0.2652 - accuracy: 0.8952 - val_loss: 0.3075 - val_accuracy: 0.8765\n",
      "Epoch 87/500\n",
      "101/101 [==============================] - 0s 3ms/step - loss: 0.2649 - accuracy: 0.8952 - val_loss: 0.3075 - val_accuracy: 0.8765\n",
      "Epoch 88/500\n",
      "101/101 [==============================] - 0s 3ms/step - loss: 0.2646 - accuracy: 0.8959 - val_loss: 0.3075 - val_accuracy: 0.8765\n",
      "Epoch 89/500\n",
      "101/101 [==============================] - 0s 3ms/step - loss: 0.2643 - accuracy: 0.8965 - val_loss: 0.3077 - val_accuracy: 0.8765\n",
      "Epoch 90/500\n",
      "101/101 [==============================] - 0s 3ms/step - loss: 0.2640 - accuracy: 0.8959 - val_loss: 0.3075 - val_accuracy: 0.8765\n",
      "Epoch 91/500\n",
      "101/101 [==============================] - 0s 3ms/step - loss: 0.2637 - accuracy: 0.8968 - val_loss: 0.3075 - val_accuracy: 0.8801\n",
      "Epoch 92/500\n",
      "101/101 [==============================] - 0s 3ms/step - loss: 0.2635 - accuracy: 0.8965 - val_loss: 0.3075 - val_accuracy: 0.8765\n",
      "Epoch 93/500\n",
      "101/101 [==============================] - 0s 3ms/step - loss: 0.2632 - accuracy: 0.8962 - val_loss: 0.3074 - val_accuracy: 0.8801\n",
      "Epoch 94/500\n",
      "101/101 [==============================] - 0s 3ms/step - loss: 0.2629 - accuracy: 0.8977 - val_loss: 0.3075 - val_accuracy: 0.8801\n",
      "Epoch 95/500\n",
      "101/101 [==============================] - 0s 3ms/step - loss: 0.2626 - accuracy: 0.8977 - val_loss: 0.3075 - val_accuracy: 0.8801\n",
      "Epoch 96/500\n",
      "101/101 [==============================] - 0s 4ms/step - loss: 0.2622 - accuracy: 0.8974 - val_loss: 0.3074 - val_accuracy: 0.8801\n",
      "Epoch 97/500\n",
      "101/101 [==============================] - 0s 4ms/step - loss: 0.2620 - accuracy: 0.8971 - val_loss: 0.3074 - val_accuracy: 0.8801\n",
      "Epoch 98/500\n",
      "101/101 [==============================] - 0s 3ms/step - loss: 0.2617 - accuracy: 0.8974 - val_loss: 0.3075 - val_accuracy: 0.8801\n",
      "Epoch 99/500\n",
      "101/101 [==============================] - 0s 3ms/step - loss: 0.2615 - accuracy: 0.8968 - val_loss: 0.3074 - val_accuracy: 0.8801\n",
      "Epoch 100/500\n",
      "101/101 [==============================] - 0s 3ms/step - loss: 0.2611 - accuracy: 0.8980 - val_loss: 0.3074 - val_accuracy: 0.8801\n",
      "Epoch 101/500\n",
      "101/101 [==============================] - 0s 3ms/step - loss: 0.2608 - accuracy: 0.8980 - val_loss: 0.3074 - val_accuracy: 0.8801\n",
      "Epoch 102/500\n",
      "101/101 [==============================] - 0s 3ms/step - loss: 0.2606 - accuracy: 0.8977 - val_loss: 0.3073 - val_accuracy: 0.8801\n",
      "Epoch 103/500\n",
      "101/101 [==============================] - 0s 3ms/step - loss: 0.2603 - accuracy: 0.8983 - val_loss: 0.3073 - val_accuracy: 0.8801\n",
      "Epoch 104/500\n",
      "101/101 [==============================] - 0s 4ms/step - loss: 0.2600 - accuracy: 0.8990 - val_loss: 0.3075 - val_accuracy: 0.8801\n",
      "Epoch 105/500\n",
      "101/101 [==============================] - 0s 3ms/step - loss: 0.2598 - accuracy: 0.8983 - val_loss: 0.3075 - val_accuracy: 0.8801\n",
      "Epoch 106/500\n",
      "101/101 [==============================] - 0s 3ms/step - loss: 0.2596 - accuracy: 0.8977 - val_loss: 0.3074 - val_accuracy: 0.8801\n",
      "Epoch 107/500\n",
      "101/101 [==============================] - 0s 3ms/step - loss: 0.2593 - accuracy: 0.8987 - val_loss: 0.3076 - val_accuracy: 0.8818\n",
      "Epoch 108/500\n",
      "101/101 [==============================] - 0s 3ms/step - loss: 0.2590 - accuracy: 0.8983 - val_loss: 0.3074 - val_accuracy: 0.8801\n",
      "Epoch 109/500\n",
      "101/101 [==============================] - 0s 3ms/step - loss: 0.2587 - accuracy: 0.8990 - val_loss: 0.3074 - val_accuracy: 0.8818\n",
      "Epoch 110/500\n",
      "101/101 [==============================] - 0s 3ms/step - loss: 0.2585 - accuracy: 0.8993 - val_loss: 0.3075 - val_accuracy: 0.8818\n",
      "Epoch 111/500\n",
      "101/101 [==============================] - 0s 3ms/step - loss: 0.2582 - accuracy: 0.8983 - val_loss: 0.3075 - val_accuracy: 0.8818\n",
      "Epoch 112/500\n",
      "101/101 [==============================] - 0s 3ms/step - loss: 0.2580 - accuracy: 0.8990 - val_loss: 0.3075 - val_accuracy: 0.8818\n",
      "Epoch 113/500\n",
      "101/101 [==============================] - 0s 3ms/step - loss: 0.2579 - accuracy: 0.8993 - val_loss: 0.3075 - val_accuracy: 0.8818\n",
      "Epoch 114/500\n",
      "101/101 [==============================] - 0s 3ms/step - loss: 0.2575 - accuracy: 0.8990 - val_loss: 0.3074 - val_accuracy: 0.8818\n"
     ]
    },
    {
     "name": "stdout",
     "output_type": "stream",
     "text": [
      "Epoch 115/500\n",
      "101/101 [==============================] - 0s 3ms/step - loss: 0.2572 - accuracy: 0.8993 - val_loss: 0.3076 - val_accuracy: 0.8818\n",
      "Epoch 116/500\n",
      "101/101 [==============================] - 0s 3ms/step - loss: 0.2570 - accuracy: 0.8996 - val_loss: 0.3077 - val_accuracy: 0.8818\n",
      "Epoch 117/500\n",
      "101/101 [==============================] - 0s 3ms/step - loss: 0.2567 - accuracy: 0.8990 - val_loss: 0.3077 - val_accuracy: 0.8801\n",
      "Epoch 118/500\n",
      "101/101 [==============================] - 0s 3ms/step - loss: 0.2565 - accuracy: 0.8996 - val_loss: 0.3077 - val_accuracy: 0.8801\n",
      "Epoch 119/500\n",
      "101/101 [==============================] - 0s 3ms/step - loss: 0.2562 - accuracy: 0.8996 - val_loss: 0.3077 - val_accuracy: 0.8801\n",
      "Epoch 120/500\n",
      "101/101 [==============================] - 0s 3ms/step - loss: 0.2559 - accuracy: 0.8990 - val_loss: 0.3078 - val_accuracy: 0.8801\n",
      "Epoch 121/500\n",
      "101/101 [==============================] - 0s 3ms/step - loss: 0.2557 - accuracy: 0.8993 - val_loss: 0.3079 - val_accuracy: 0.8818\n",
      "Epoch 122/500\n",
      "101/101 [==============================] - 0s 3ms/step - loss: 0.2554 - accuracy: 0.8996 - val_loss: 0.3080 - val_accuracy: 0.8801\n",
      "Epoch 123/500\n",
      "101/101 [==============================] - 0s 3ms/step - loss: 0.2553 - accuracy: 0.8999 - val_loss: 0.3080 - val_accuracy: 0.8801\n",
      "Epoch 124/500\n",
      "101/101 [==============================] - 0s 3ms/step - loss: 0.2550 - accuracy: 0.8996 - val_loss: 0.3081 - val_accuracy: 0.8801\n",
      "Epoch 125/500\n",
      "101/101 [==============================] - 0s 4ms/step - loss: 0.2547 - accuracy: 0.8996 - val_loss: 0.3080 - val_accuracy: 0.8801\n",
      "Epoch 126/500\n",
      "101/101 [==============================] - 0s 3ms/step - loss: 0.2545 - accuracy: 0.9002 - val_loss: 0.3082 - val_accuracy: 0.8801\n",
      "Epoch 127/500\n",
      "101/101 [==============================] - 0s 3ms/step - loss: 0.2543 - accuracy: 0.8999 - val_loss: 0.3083 - val_accuracy: 0.8801\n",
      "Epoch 00127: early stopping\n"
     ]
    },
    {
     "data": {
      "text/plain": [
       "<tensorflow.python.keras.callbacks.History at 0x23fbbd06648>"
      ]
     },
     "execution_count": 94,
     "metadata": {},
     "output_type": "execute_result"
    }
   ],
   "source": [
    "model.fit(x=X_train_scaled, y=y_train, batch_size = 32, epochs=500, validation_data=(X_test_scaled, y_test), verbose=1, callbacks = [early_stop])"
   ]
  },
  {
   "cell_type": "code",
   "execution_count": 95,
   "metadata": {},
   "outputs": [
    {
     "data": {
      "image/png": "[encoded data removed]",
      "text/plain": [
       "<Figure size 432x288 with 1 Axes>"
      ]
     },
     "metadata": {
      "needs_background": "light"
     },
     "output_type": "display_data"
    }
   ],
   "source": [
    "model_loss = pd.DataFrame(model.history.history)\n",
    "model_loss.plot();"
   ]
  },
  {
   "cell_type": "code",
   "execution_count": 96,
   "metadata": {},
   "outputs": [
    {
     "name": "stdout",
     "output_type": "stream",
     "text": [
      "[[384 114]\n",
      " [ 53  16]]\n",
      "              precision    recall  f1-score   support\n",
      "\n",
      "         0.0       0.88      0.77      0.82       498\n",
      "         1.0       0.12      0.23      0.16        69\n",
      "\n",
      "    accuracy                           0.71       567\n",
      "   macro avg       0.50      0.50      0.49       567\n",
      "weighted avg       0.79      0.71      0.74       567\n",
      "\n"
     ]
    }
   ],
   "source": [
    "y_pred = model.predict_classes(X_test)\n",
    "print(confusion_matrix(y_test, y_pred))\n",
    "print(classification_report(y_test, y_pred))"
   ]
  },
  {
   "cell_type": "markdown",
   "metadata": {},
   "source": [
    "# SMOTE"
   ]
  },
  {
   "cell_type": "code",
   "execution_count": 97,
   "metadata": {},
   "outputs": [],
   "source": [
    "from imblearn.over_sampling import SMOTE"
   ]
  },
  {
   "cell_type": "code",
   "execution_count": 98,
   "metadata": {},
   "outputs": [],
   "source": [
    "from sklearn.preprocessing import StandardScaler, MinMaxScaler, RobustScaler"
   ]
  },
  {
   "cell_type": "code",
   "execution_count": 99,
   "metadata": {},
   "outputs": [
    {
     "data": {
      "text/plain": [
       "0.000    2815\n",
       "1.000    2815\n",
       "Name: Status, dtype: int64"
      ]
     },
     "execution_count": 99,
     "metadata": {},
     "output_type": "execute_result"
    }
   ],
   "source": [
    "sm = SMOTE(random_state=42)\n",
    "X_train, y_train = sm.fit_resample(X_train, y_train)\n",
    "y_train.value_counts()"
   ]
  },
  {
   "cell_type": "code",
   "execution_count": 100,
   "metadata": {},
   "outputs": [],
   "source": [
    "X_train_scaled = scaler.fit_transform(X_train)\n",
    "X_test_scaled = scaler.transform(X_test)"
   ]
  },
  {
   "cell_type": "markdown",
   "metadata": {},
   "source": [
    "# LOGISTIC REGRESSION"
   ]
  },
  {
   "cell_type": "code",
   "execution_count": 101,
   "metadata": {},
   "outputs": [
    {
     "name": "stdout",
     "output_type": "stream",
     "text": [
      "[[383 115]\n",
      " [ 19  50]]\n",
      "-------------------------------------------------------\n",
      "              precision    recall  f1-score   support\n",
      "\n",
      "         0.0       0.95      0.77      0.85       498\n",
      "         1.0       0.30      0.72      0.43        69\n",
      "\n",
      "    accuracy                           0.76       567\n",
      "   macro avg       0.63      0.75      0.64       567\n",
      "weighted avg       0.87      0.76      0.80       567\n",
      "\n"
     ]
    }
   ],
   "source": [
    "log_model=LogisticRegression()\n",
    "log_model.fit(X_train_scaled, y_train)\n",
    "y_pred_proba=log_model.predict_proba(X_test_scaled)\n",
    "y_pred=log_model.predict(X_test_scaled)\n",
    "log_recall = recall_score(y_test, y_pred)\n",
    "log_f1 = f1_score(y_test, y_pred)\n",
    "log_auc = roc_auc_score(y_test, y_pred_proba[:,1])\n",
    "print(confusion_matrix(y_test, y_pred))\n",
    "print(\"-------------------------------------------------------\")\n",
    "print(classification_report(y_test, y_pred))"
   ]
  },
  {
   "cell_type": "code",
   "execution_count": 102,
   "metadata": {},
   "outputs": [
    {
     "data": {
      "image/png": "[encoded data removed]",
      "text/plain": [
       "<Figure size 432x288 with 1 Axes>"
      ]
     },
     "metadata": {
      "needs_background": "light"
     },
     "output_type": "display_data"
    }
   ],
   "source": [
    "plot_roc_curve(log_model, X_test_scaled, y_test);"
   ]
  },
  {
   "cell_type": "code",
   "execution_count": 103,
   "metadata": {},
   "outputs": [
    {
     "data": {
      "text/plain": [
       "0.820644898434317"
      ]
     },
     "execution_count": 103,
     "metadata": {},
     "output_type": "execute_result"
    }
   ],
   "source": [
    "roc_auc_score(y_test, y_pred_proba[:,1])"
   ]
  },
  {
   "cell_type": "code",
   "execution_count": 104,
   "metadata": {},
   "outputs": [],
   "source": [
    "fp_rate, tp_rate, thresholds = roc_curve(y_test, y_pred_proba[:,1])"
   ]
  },
  {
   "cell_type": "code",
   "execution_count": 105,
   "metadata": {},
   "outputs": [
    {
     "data": {
      "text/plain": [
       "0.4317582285505185"
      ]
     },
     "execution_count": 105,
     "metadata": {},
     "output_type": "execute_result"
    }
   ],
   "source": [
    "optimal_idx = np.argmax(tp_rate - fp_rate)\n",
    "optimal_threshold = thresholds[optimal_idx]\n",
    "optimal_threshold"
   ]
  },
  {
   "cell_type": "code",
   "execution_count": 106,
   "metadata": {},
   "outputs": [],
   "source": [
    "y_pred2 = [1 if i >= optimal_threshold else 0 for i in y_pred_proba[:,1]]"
   ]
  },
  {
   "cell_type": "code",
   "execution_count": 107,
   "metadata": {},
   "outputs": [
    {
     "name": "stdout",
     "output_type": "stream",
     "text": [
      "[[357 141]\n",
      " [ 10  59]]\n",
      "-------------------------------------------------------\n",
      "              precision    recall  f1-score   support\n",
      "\n",
      "         0.0       0.97      0.72      0.83       498\n",
      "         1.0       0.29      0.86      0.44        69\n",
      "\n",
      "    accuracy                           0.73       567\n",
      "   macro avg       0.63      0.79      0.63       567\n",
      "weighted avg       0.89      0.73      0.78       567\n",
      "\n"
     ]
    }
   ],
   "source": [
    "print(confusion_matrix(y_test, y_pred2))\n",
    "print(\"-------------------------------------------------------\")\n",
    "print(classification_report(y_test, y_pred2))"
   ]
  },
  {
   "cell_type": "code",
   "execution_count": 108,
   "metadata": {},
   "outputs": [
    {
     "name": "stdout",
     "output_type": "stream",
     "text": [
      "[[383 115]\n",
      " [ 19  50]]\n",
      "-------------------------------------------------------\n",
      "              precision    recall  f1-score   support\n",
      "\n",
      "         0.0       0.95      0.77      0.85       498\n",
      "         1.0       0.30      0.72      0.43        69\n",
      "\n",
      "    accuracy                           0.76       567\n",
      "   macro avg       0.63      0.75      0.64       567\n",
      "weighted avg       0.87      0.76      0.80       567\n",
      "\n"
     ]
    }
   ],
   "source": [
    "print(confusion_matrix(y_test, y_pred))\n",
    "print(\"-------------------------------------------------------\")\n",
    "print(classification_report(y_test, y_pred))"
   ]
  },
  {
   "cell_type": "code",
   "execution_count": 109,
   "metadata": {},
   "outputs": [],
   "source": [
    "log_recall = recall_score(y_test, y_pred2)\n",
    "log_f1 = f1_score(y_test, y_pred2)\n",
    "log_auc = roc_auc_score(y_test, y_pred_proba[:,1])"
   ]
  },
  {
   "cell_type": "markdown",
   "metadata": {},
   "source": [
    "# KNN (k-NEAREST NEIGHBORS)"
   ]
  },
  {
   "cell_type": "code",
   "execution_count": 110,
   "metadata": {},
   "outputs": [],
   "source": [
    "from sklearn.neighbors import KNeighborsClassifier"
   ]
  },
  {
   "cell_type": "code",
   "execution_count": 111,
   "metadata": {},
   "outputs": [],
   "source": [
    "test_error_rates = []\n",
    "\n",
    "for k in range(1,20):\n",
    "    knn_model = KNeighborsClassifier(n_neighbors=k)\n",
    "    knn_model.fit(X_train_scaled, y_train) \n",
    "    y_pred = knn_model.predict(X_test_scaled)\n",
    "    \n",
    "    test_error = 1 - accuracy_score(y_test,y_pred)\n",
    "    test_error_rates.append(test_error)"
   ]
  },
  {
   "cell_type": "code",
   "execution_count": 112,
   "metadata": {},
   "outputs": [
    {
     "data": {
      "text/plain": [
       "<matplotlib.collections.LineCollection at 0x23fbe391b48>"
      ]
     },
     "execution_count": 112,
     "metadata": {},
     "output_type": "execute_result"
    },
    {
     "data": {
      "image/png": "[encoded data removed]",
      "text/plain": [
       "<Figure size 1080x576 with 1 Axes>"
      ]
     },
     "metadata": {
      "needs_background": "light"
     },
     "output_type": "display_data"
    }
   ],
   "source": [
    "plt.figure(figsize=(15,8))\n",
    "plt.plot(range(1,20), test_error_rates, color='blue', linestyle='--', marker='o',\n",
    "         markerfacecolor='red', markersize=10)\n",
    "plt.title('Error Rate vs. K Value')\n",
    "plt.xlabel('K_values')\n",
    "plt.ylabel('Error Rate')\n",
    "plt.hlines(y=0.05, xmin = 0, xmax = 30, colors= 'r', linestyles=\"--\")\n",
    "plt.hlines(y=0.06, xmin = 0, xmax = 30, colors= 'r', linestyles=\"--\")"
   ]
  },
  {
   "cell_type": "code",
   "execution_count": 113,
   "metadata": {},
   "outputs": [
    {
     "name": "stdout",
     "output_type": "stream",
     "text": [
      "[[428  70]\n",
      " [ 42  27]]\n",
      "--------------------------------------------------------\n",
      "              precision    recall  f1-score   support\n",
      "\n",
      "         0.0       0.91      0.86      0.88       498\n",
      "         1.0       0.28      0.39      0.33        69\n",
      "\n",
      "    accuracy                           0.80       567\n",
      "   macro avg       0.59      0.63      0.60       567\n",
      "weighted avg       0.83      0.80      0.82       567\n",
      "\n"
     ]
    }
   ],
   "source": [
    "knn_model = KNeighborsClassifier(n_neighbors=2)\n",
    "knn_model.fit(X_train_scaled, y_train)\n",
    "y_pred_proba=knn_model.predict_proba(X_test_scaled)\n",
    "y_pred=knn_model.predict(X_test_scaled)\n",
    "knn_recall = recall_score(y_test, y_pred)\n",
    "knn_f1 = f1_score(y_test, y_pred)\n",
    "knn_auc = roc_auc_score(y_test, y_pred_proba[:,1])\n",
    "print(confusion_matrix(y_test, y_pred))\n",
    "print(\"--------------------------------------------------------\")\n",
    "print(classification_report(y_test, y_pred))"
   ]
  },
  {
   "cell_type": "code",
   "execution_count": 114,
   "metadata": {},
   "outputs": [
    {
     "data": {
      "image/png": "[encoded data removed]",
      "text/plain": [
       "<Figure size 432x288 with 1 Axes>"
      ]
     },
     "metadata": {
      "needs_background": "light"
     },
     "output_type": "display_data"
    }
   ],
   "source": [
    "plot_roc_curve(knn_model, X_test_scaled, y_test);"
   ]
  },
  {
   "cell_type": "code",
   "execution_count": 115,
   "metadata": {},
   "outputs": [
    {
     "data": {
      "text/plain": [
       "0.6674524183691286"
      ]
     },
     "execution_count": 115,
     "metadata": {},
     "output_type": "execute_result"
    }
   ],
   "source": [
    "roc_auc_score(y_test, y_pred_proba[:,1])"
   ]
  },
  {
   "cell_type": "code",
   "execution_count": 116,
   "metadata": {},
   "outputs": [],
   "source": [
    "fp_rate, tp_rate, thresholds = roc_curve(y_test, y_pred_proba[:,1])"
   ]
  },
  {
   "cell_type": "code",
   "execution_count": 117,
   "metadata": {},
   "outputs": [
    {
     "data": {
      "text/plain": [
       "0.5"
      ]
     },
     "execution_count": 117,
     "metadata": {},
     "output_type": "execute_result"
    }
   ],
   "source": [
    "optimal_idx = np.argmax(tp_rate - fp_rate)\n",
    "optimal_threshold = thresholds[optimal_idx]\n",
    "optimal_threshold"
   ]
  },
  {
   "cell_type": "code",
   "execution_count": 118,
   "metadata": {},
   "outputs": [],
   "source": [
    "y_pred2 = [1 if i >= optimal_threshold else 0 for i in y_pred_proba[:,1]]"
   ]
  },
  {
   "cell_type": "code",
   "execution_count": 119,
   "metadata": {},
   "outputs": [
    {
     "name": "stdout",
     "output_type": "stream",
     "text": [
      "[[344 154]\n",
      " [ 27  42]]\n",
      "-------------------------------------------------------\n",
      "              precision    recall  f1-score   support\n",
      "\n",
      "         0.0       0.93      0.69      0.79       498\n",
      "         1.0       0.21      0.61      0.32        69\n",
      "\n",
      "    accuracy                           0.68       567\n",
      "   macro avg       0.57      0.65      0.55       567\n",
      "weighted avg       0.84      0.68      0.73       567\n",
      "\n"
     ]
    }
   ],
   "source": [
    "print(confusion_matrix(y_test, y_pred2))\n",
    "print(\"-------------------------------------------------------\")\n",
    "print(classification_report(y_test, y_pred2))"
   ]
  },
  {
   "cell_type": "code",
   "execution_count": 120,
   "metadata": {},
   "outputs": [
    {
     "name": "stdout",
     "output_type": "stream",
     "text": [
      "[[428  70]\n",
      " [ 42  27]]\n",
      "-------------------------------------------------------\n",
      "              precision    recall  f1-score   support\n",
      "\n",
      "         0.0       0.91      0.86      0.88       498\n",
      "         1.0       0.28      0.39      0.33        69\n",
      "\n",
      "    accuracy                           0.80       567\n",
      "   macro avg       0.59      0.63      0.60       567\n",
      "weighted avg       0.83      0.80      0.82       567\n",
      "\n"
     ]
    }
   ],
   "source": [
    "print(confusion_matrix(y_test, y_pred))\n",
    "print(\"-------------------------------------------------------\")\n",
    "print(classification_report(y_test, y_pred))"
   ]
  },
  {
   "cell_type": "code",
   "execution_count": 121,
   "metadata": {},
   "outputs": [],
   "source": [
    "knn_recall = recall_score(y_test, y_pred2)\n",
    "knn_f1 = f1_score(y_test, y_pred2)\n",
    "knn_auc = roc_auc_score(y_test, y_pred_proba[:,1])"
   ]
  },
  {
   "cell_type": "markdown",
   "metadata": {},
   "source": [
    "# SVM (SUPPORT VECTOR MACHINE)"
   ]
  },
  {
   "cell_type": "code",
   "execution_count": 122,
   "metadata": {},
   "outputs": [],
   "source": [
    "from sklearn.svm import SVC, LinearSVC"
   ]
  },
  {
   "cell_type": "code",
   "execution_count": 123,
   "metadata": {},
   "outputs": [
    {
     "name": "stdout",
     "output_type": "stream",
     "text": [
      "[[383 115]\n",
      " [ 19  50]]\n",
      "--------------------------------------------------------\n",
      "              precision    recall  f1-score   support\n",
      "\n",
      "         0.0       0.95      0.77      0.85       498\n",
      "         1.0       0.30      0.72      0.43        69\n",
      "\n",
      "    accuracy                           0.76       567\n",
      "   macro avg       0.63      0.75      0.64       567\n",
      "weighted avg       0.87      0.76      0.80       567\n",
      "\n"
     ]
    }
   ],
   "source": [
    "svm_model = LinearSVC()\n",
    "svm_model.fit(X_train_scaled, y_train)\n",
    "y_pred_proba=svm_model.decision_function(X_test_scaled)\n",
    "#y_pred_proba=svm_model.predict_proba(X_test_scaled)\n",
    "y_pred=svm_model.predict(X_test_scaled)\n",
    "svm_recall = recall_score(y_test, y_pred)\n",
    "svm_f1 = f1_score(y_test, y_pred)\n",
    "svm_auc = roc_auc_score(y_test, y_pred_proba)\n",
    "print(confusion_matrix(y_test, y_pred))\n",
    "print(\"--------------------------------------------------------\")\n",
    "print(classification_report(y_test, y_pred))"
   ]
  },
  {
   "cell_type": "code",
   "execution_count": 124,
   "metadata": {},
   "outputs": [
    {
     "data": {
      "image/png": "[encoded data removed]",
      "text/plain": [
       "<Figure size 432x288 with 1 Axes>"
      ]
     },
     "metadata": {
      "needs_background": "light"
     },
     "output_type": "display_data"
    }
   ],
   "source": [
    "plot_roc_curve(svm_model, X_test_scaled, y_test);"
   ]
  },
  {
   "cell_type": "code",
   "execution_count": 125,
   "metadata": {},
   "outputs": [
    {
     "data": {
      "text/plain": [
       "0.822303707583959"
      ]
     },
     "execution_count": 125,
     "metadata": {},
     "output_type": "execute_result"
    }
   ],
   "source": [
    "roc_auc_score(y_test, y_pred_proba)"
   ]
  },
  {
   "cell_type": "code",
   "execution_count": 126,
   "metadata": {},
   "outputs": [],
   "source": [
    "fp_rate, tp_rate, thresholds = roc_curve(y_test, y_pred_proba)"
   ]
  },
  {
   "cell_type": "code",
   "execution_count": 127,
   "metadata": {},
   "outputs": [
    {
     "data": {
      "text/plain": [
       "-0.09365821184846976"
      ]
     },
     "execution_count": 127,
     "metadata": {},
     "output_type": "execute_result"
    }
   ],
   "source": [
    "optimal_idx = np.argmax(tp_rate - fp_rate)\n",
    "optimal_threshold = thresholds[optimal_idx]\n",
    "optimal_threshold"
   ]
  },
  {
   "cell_type": "code",
   "execution_count": 128,
   "metadata": {},
   "outputs": [],
   "source": [
    "y_pred2 = [1 if i >= optimal_threshold else 0 for i in y_pred_proba]"
   ]
  },
  {
   "cell_type": "code",
   "execution_count": 129,
   "metadata": {},
   "outputs": [
    {
     "name": "stdout",
     "output_type": "stream",
     "text": [
      "[[357 141]\n",
      " [ 10  59]]\n",
      "-------------------------------------------------------\n",
      "              precision    recall  f1-score   support\n",
      "\n",
      "         0.0       0.97      0.72      0.83       498\n",
      "         1.0       0.29      0.86      0.44        69\n",
      "\n",
      "    accuracy                           0.73       567\n",
      "   macro avg       0.63      0.79      0.63       567\n",
      "weighted avg       0.89      0.73      0.78       567\n",
      "\n"
     ]
    }
   ],
   "source": [
    "print(confusion_matrix(y_test, y_pred2))\n",
    "print(\"-------------------------------------------------------\")\n",
    "print(classification_report(y_test, y_pred2))"
   ]
  },
  {
   "cell_type": "code",
   "execution_count": 130,
   "metadata": {},
   "outputs": [
    {
     "name": "stdout",
     "output_type": "stream",
     "text": [
      "[[383 115]\n",
      " [ 19  50]]\n",
      "-------------------------------------------------------\n",
      "              precision    recall  f1-score   support\n",
      "\n",
      "         0.0       0.95      0.77      0.85       498\n",
      "         1.0       0.30      0.72      0.43        69\n",
      "\n",
      "    accuracy                           0.76       567\n",
      "   macro avg       0.63      0.75      0.64       567\n",
      "weighted avg       0.87      0.76      0.80       567\n",
      "\n"
     ]
    }
   ],
   "source": [
    "print(confusion_matrix(y_test, y_pred))\n",
    "print(\"-------------------------------------------------------\")\n",
    "print(classification_report(y_test, y_pred))"
   ]
  },
  {
   "cell_type": "code",
   "execution_count": 131,
   "metadata": {},
   "outputs": [],
   "source": [
    "svm_recall = recall_score(y_test, y_pred2)\n",
    "svm_f1 = f1_score(y_test, y_pred2)\n",
    "svm_auc = roc_auc_score(y_test, y_pred_proba)"
   ]
  },
  {
   "cell_type": "markdown",
   "metadata": {},
   "source": [
    "# DECISON TREE"
   ]
  },
  {
   "cell_type": "code",
   "execution_count": 132,
   "metadata": {},
   "outputs": [],
   "source": [
    "from sklearn.tree import DecisionTreeClassifier"
   ]
  },
  {
   "cell_type": "code",
   "execution_count": 133,
   "metadata": {},
   "outputs": [
    {
     "name": "stdout",
     "output_type": "stream",
     "text": [
      "[[419  79]\n",
      " [ 40  29]]\n",
      "--------------------------------------------------------\n",
      "              precision    recall  f1-score   support\n",
      "\n",
      "         0.0       0.91      0.84      0.88       498\n",
      "         1.0       0.27      0.42      0.33        69\n",
      "\n",
      "    accuracy                           0.79       567\n",
      "   macro avg       0.59      0.63      0.60       567\n",
      "weighted avg       0.83      0.79      0.81       567\n",
      "\n"
     ]
    }
   ],
   "source": [
    "dt_model = DecisionTreeClassifier()\n",
    "dt_model.fit(X_train_scaled, y_train)\n",
    "y_pred_proba=dt_model.predict_proba(X_test_scaled)\n",
    "y_pred=dt_model.predict(X_test_scaled)\n",
    "dt_recall = recall_score(y_test, y_pred)\n",
    "dt_f1 = f1_score(y_test, y_pred)\n",
    "dt_auc = roc_auc_score(y_test, y_pred_proba[:,1])\n",
    "print(confusion_matrix(y_test, y_pred))\n",
    "print(\"--------------------------------------------------------\")\n",
    "print(classification_report(y_test, y_pred))"
   ]
  },
  {
   "cell_type": "code",
   "execution_count": 134,
   "metadata": {},
   "outputs": [
    {
     "data": {
      "image/png": "[encoded data removed]",
      "text/plain": [
       "<Figure size 432x288 with 1 Axes>"
      ]
     },
     "metadata": {
      "needs_background": "light"
     },
     "output_type": "display_data"
    }
   ],
   "source": [
    "plot_roc_curve(dt_model, X_test_scaled, y_test);"
   ]
  },
  {
   "cell_type": "code",
   "execution_count": 135,
   "metadata": {},
   "outputs": [
    {
     "data": {
      "text/plain": [
       "0.6308276584599267"
      ]
     },
     "execution_count": 135,
     "metadata": {},
     "output_type": "execute_result"
    }
   ],
   "source": [
    "roc_auc_score(y_test, y_pred_proba[:,1])"
   ]
  },
  {
   "cell_type": "markdown",
   "metadata": {},
   "source": [
    "# RANDOM FOREST"
   ]
  },
  {
   "cell_type": "code",
   "execution_count": 136,
   "metadata": {},
   "outputs": [],
   "source": [
    "from sklearn.ensemble import RandomForestClassifier"
   ]
  },
  {
   "cell_type": "code",
   "execution_count": 137,
   "metadata": {},
   "outputs": [
    {
     "name": "stdout",
     "output_type": "stream",
     "text": [
      "[[460  38]\n",
      " [ 36  33]]\n",
      "--------------------------------------------------------\n",
      "              precision    recall  f1-score   support\n",
      "\n",
      "         0.0       0.93      0.92      0.93       498\n",
      "         1.0       0.46      0.48      0.47        69\n",
      "\n",
      "    accuracy                           0.87       567\n",
      "   macro avg       0.70      0.70      0.70       567\n",
      "weighted avg       0.87      0.87      0.87       567\n",
      "\n"
     ]
    }
   ],
   "source": [
    "rf_model = RandomForestClassifier()\n",
    "rf_model.fit(X_train_scaled, y_train)\n",
    "y_pred_proba=rf_model.predict_proba(X_test_scaled)\n",
    "y_pred=rf_model.predict(X_test_scaled)\n",
    "rf_recall = recall_score(y_test, y_pred)\n",
    "rf_f1 = f1_score(y_test, y_pred)\n",
    "rf_auc = roc_auc_score(y_test, y_pred_proba[:,1])\n",
    "print(confusion_matrix(y_test, y_pred))\n",
    "print(\"--------------------------------------------------------\")\n",
    "print(classification_report(y_test, y_pred))"
   ]
  },
  {
   "cell_type": "code",
   "execution_count": 138,
   "metadata": {},
   "outputs": [
    {
     "data": {
      "image/png": "[encoded data removed]",
      "text/plain": [
       "<Figure size 432x288 with 1 Axes>"
      ]
     },
     "metadata": {
      "needs_background": "light"
     },
     "output_type": "display_data"
    }
   ],
   "source": [
    "plot_roc_curve(rf_model, X_test_scaled, y_test);"
   ]
  },
  {
   "cell_type": "code",
   "execution_count": 139,
   "metadata": {},
   "outputs": [
    {
     "data": {
      "text/plain": [
       "0.8373784995052674"
      ]
     },
     "execution_count": 139,
     "metadata": {},
     "output_type": "execute_result"
    }
   ],
   "source": [
    "roc_auc_score(y_test, y_pred_proba[:,1])"
   ]
  },
  {
   "cell_type": "code",
   "execution_count": 140,
   "metadata": {},
   "outputs": [],
   "source": [
    "fp_rate, tp_rate, thresholds = roc_curve(y_test, y_pred_proba[:,1])"
   ]
  },
  {
   "cell_type": "code",
   "execution_count": 141,
   "metadata": {},
   "outputs": [
    {
     "data": {
      "text/plain": [
       "0.29"
      ]
     },
     "execution_count": 141,
     "metadata": {},
     "output_type": "execute_result"
    }
   ],
   "source": [
    "optimal_idx = np.argmax(tp_rate - fp_rate)\n",
    "optimal_threshold = thresholds[optimal_idx]\n",
    "optimal_threshold"
   ]
  },
  {
   "cell_type": "code",
   "execution_count": 142,
   "metadata": {},
   "outputs": [],
   "source": [
    "y_pred2 = [1 if i >= optimal_threshold else 0 for i in y_pred_proba[:,1]]"
   ]
  },
  {
   "cell_type": "code",
   "execution_count": 143,
   "metadata": {},
   "outputs": [
    {
     "name": "stdout",
     "output_type": "stream",
     "text": [
      "[[363 135]\n",
      " [ 10  59]]\n",
      "-------------------------------------------------------\n",
      "              precision    recall  f1-score   support\n",
      "\n",
      "         0.0       0.97      0.73      0.83       498\n",
      "         1.0       0.30      0.86      0.45        69\n",
      "\n",
      "    accuracy                           0.74       567\n",
      "   macro avg       0.64      0.79      0.64       567\n",
      "weighted avg       0.89      0.74      0.79       567\n",
      "\n"
     ]
    }
   ],
   "source": [
    "print(confusion_matrix(y_test, y_pred2))\n",
    "print(\"-------------------------------------------------------\")\n",
    "print(classification_report(y_test, y_pred2))"
   ]
  },
  {
   "cell_type": "code",
   "execution_count": 144,
   "metadata": {},
   "outputs": [
    {
     "name": "stdout",
     "output_type": "stream",
     "text": [
      "[[460  38]\n",
      " [ 36  33]]\n",
      "-------------------------------------------------------\n",
      "              precision    recall  f1-score   support\n",
      "\n",
      "         0.0       0.93      0.92      0.93       498\n",
      "         1.0       0.46      0.48      0.47        69\n",
      "\n",
      "    accuracy                           0.87       567\n",
      "   macro avg       0.70      0.70      0.70       567\n",
      "weighted avg       0.87      0.87      0.87       567\n",
      "\n"
     ]
    }
   ],
   "source": [
    "print(confusion_matrix(y_test, y_pred))\n",
    "print(\"-------------------------------------------------------\")\n",
    "print(classification_report(y_test, y_pred))"
   ]
  },
  {
   "cell_type": "code",
   "execution_count": 145,
   "metadata": {},
   "outputs": [],
   "source": [
    "rf_recall = recall_score(y_test, y_pred2)\n",
    "rf_f1 = f1_score(y_test, y_pred2)\n",
    "rf_auc = roc_auc_score(y_test, y_pred_proba[:,1])"
   ]
  },
  {
   "cell_type": "markdown",
   "metadata": {},
   "source": [
    "# ADABOOST"
   ]
  },
  {
   "cell_type": "code",
   "execution_count": 146,
   "metadata": {},
   "outputs": [],
   "source": [
    "from sklearn.ensemble import AdaBoostClassifier"
   ]
  },
  {
   "cell_type": "code",
   "execution_count": 147,
   "metadata": {},
   "outputs": [
    {
     "name": "stdout",
     "output_type": "stream",
     "text": [
      "[[428  70]\n",
      " [ 33  36]]\n",
      "--------------------------------------------------------\n",
      "              precision    recall  f1-score   support\n",
      "\n",
      "         0.0       0.93      0.86      0.89       498\n",
      "         1.0       0.34      0.52      0.41        69\n",
      "\n",
      "    accuracy                           0.82       567\n",
      "   macro avg       0.63      0.69      0.65       567\n",
      "weighted avg       0.86      0.82      0.83       567\n",
      "\n"
     ]
    }
   ],
   "source": [
    "ada_model = AdaBoostClassifier()\n",
    "ada_model.fit(X_train_scaled, y_train)\n",
    "y_pred_proba=ada_model.predict_proba(X_test_scaled)\n",
    "y_pred=ada_model.predict(X_test_scaled)\n",
    "ada_recall = recall_score(y_test, y_pred)\n",
    "ada_f1 = f1_score(y_test, y_pred)\n",
    "ada_auc = roc_auc_score(y_test, y_pred_proba[:,1])\n",
    "print(confusion_matrix(y_test, y_pred))\n",
    "print(\"--------------------------------------------------------\")\n",
    "print(classification_report(y_test, y_pred))"
   ]
  },
  {
   "cell_type": "code",
   "execution_count": 148,
   "metadata": {},
   "outputs": [
    {
     "data": {
      "image/png": "[encoded data removed]",
      "text/plain": [
       "<Figure size 432x288 with 1 Axes>"
      ]
     },
     "metadata": {
      "needs_background": "light"
     },
     "output_type": "display_data"
    }
   ],
   "source": [
    "plot_roc_curve(ada_model, X_test_scaled, y_test);"
   ]
  },
  {
   "cell_type": "code",
   "execution_count": 149,
   "metadata": {},
   "outputs": [
    {
     "data": {
      "text/plain": [
       "0.8070252022583086"
      ]
     },
     "execution_count": 149,
     "metadata": {},
     "output_type": "execute_result"
    }
   ],
   "source": [
    "roc_auc_score(y_test, y_pred_proba[:,1])"
   ]
  },
  {
   "cell_type": "code",
   "execution_count": 150,
   "metadata": {},
   "outputs": [],
   "source": [
    "fp_rate, tp_rate, thresholds = roc_curve(y_test, y_pred_proba[:,1])"
   ]
  },
  {
   "cell_type": "code",
   "execution_count": 151,
   "metadata": {},
   "outputs": [
    {
     "data": {
      "text/plain": [
       "0.49392015205345763"
      ]
     },
     "execution_count": 151,
     "metadata": {},
     "output_type": "execute_result"
    }
   ],
   "source": [
    "optimal_idx = np.argmax(tp_rate - fp_rate)\n",
    "optimal_threshold = thresholds[optimal_idx]\n",
    "optimal_threshold"
   ]
  },
  {
   "cell_type": "code",
   "execution_count": 152,
   "metadata": {},
   "outputs": [],
   "source": [
    "y_pred2 = [1 if i >= optimal_threshold else 0 for i in y_pred_proba[:,1]]"
   ]
  },
  {
   "cell_type": "code",
   "execution_count": 153,
   "metadata": {},
   "outputs": [
    {
     "name": "stdout",
     "output_type": "stream",
     "text": [
      "[[363 135]\n",
      " [ 15  54]]\n",
      "-------------------------------------------------------\n",
      "              precision    recall  f1-score   support\n",
      "\n",
      "         0.0       0.96      0.73      0.83       498\n",
      "         1.0       0.29      0.78      0.42        69\n",
      "\n",
      "    accuracy                           0.74       567\n",
      "   macro avg       0.62      0.76      0.62       567\n",
      "weighted avg       0.88      0.74      0.78       567\n",
      "\n"
     ]
    }
   ],
   "source": [
    "print(confusion_matrix(y_test, y_pred2))\n",
    "print(\"-------------------------------------------------------\")\n",
    "print(classification_report(y_test, y_pred2))"
   ]
  },
  {
   "cell_type": "code",
   "execution_count": 154,
   "metadata": {},
   "outputs": [
    {
     "name": "stdout",
     "output_type": "stream",
     "text": [
      "[[428  70]\n",
      " [ 33  36]]\n",
      "-------------------------------------------------------\n",
      "              precision    recall  f1-score   support\n",
      "\n",
      "         0.0       0.93      0.86      0.89       498\n",
      "         1.0       0.34      0.52      0.41        69\n",
      "\n",
      "    accuracy                           0.82       567\n",
      "   macro avg       0.63      0.69      0.65       567\n",
      "weighted avg       0.86      0.82      0.83       567\n",
      "\n"
     ]
    }
   ],
   "source": [
    "print(confusion_matrix(y_test, y_pred))\n",
    "print(\"-------------------------------------------------------\")\n",
    "print(classification_report(y_test, y_pred))"
   ]
  },
  {
   "cell_type": "code",
   "execution_count": 155,
   "metadata": {},
   "outputs": [],
   "source": [
    "ada_recall = recall_score(y_test, y_pred2)\n",
    "ada_f1 = f1_score(y_test, y_pred2)\n",
    "ada_auc = roc_auc_score(y_test, y_pred_proba[:,1])"
   ]
  },
  {
   "cell_type": "markdown",
   "metadata": {},
   "source": [
    "# XGBOOST"
   ]
  },
  {
   "cell_type": "code",
   "execution_count": 156,
   "metadata": {},
   "outputs": [],
   "source": [
    "from xgboost import XGBClassifier"
   ]
  },
  {
   "cell_type": "code",
   "execution_count": 157,
   "metadata": {},
   "outputs": [
    {
     "name": "stdout",
     "output_type": "stream",
     "text": [
      "[01:31:46] WARNING: C:/Users/Administrator/workspace/xgboost-win64_release_1.4.0/src/learner.cc:1095: Starting in XGBoost 1.3.0, the default evaluation metric used with the objective 'binary:logistic' was changed from 'error' to 'logloss'. Explicitly set eval_metric if you'd like to restore the old behavior.\n",
      "[[471  27]\n",
      " [ 44  25]]\n",
      "--------------------------------------------------------\n",
      "              precision    recall  f1-score   support\n",
      "\n",
      "         0.0       0.91      0.95      0.93       498\n",
      "         1.0       0.48      0.36      0.41        69\n",
      "\n",
      "    accuracy                           0.87       567\n",
      "   macro avg       0.70      0.65      0.67       567\n",
      "weighted avg       0.86      0.87      0.87       567\n",
      "\n"
     ]
    }
   ],
   "source": [
    "xgb_model = XGBClassifier()\n",
    "xgb_model.fit(X_train_scaled, y_train)\n",
    "y_pred_proba=xgb_model.predict_proba(X_test_scaled)\n",
    "y_pred=xgb_model.predict(X_test_scaled)\n",
    "xgb_recall = recall_score(y_test, y_pred)\n",
    "xgb_f1 = f1_score(y_test, y_pred)\n",
    "xgb_auc = roc_auc_score(y_test, y_pred_proba[:,1])\n",
    "print(confusion_matrix(y_test, y_pred))\n",
    "print(\"--------------------------------------------------------\")\n",
    "print(classification_report(y_test, y_pred))"
   ]
  },
  {
   "cell_type": "code",
   "execution_count": 158,
   "metadata": {},
   "outputs": [
    {
     "data": {
      "image/png": "[encoded data removed]",
      "text/plain": [
       "<Figure size 432x288 with 1 Axes>"
      ]
     },
     "metadata": {
      "needs_background": "light"
     },
     "output_type": "display_data"
    }
   ],
   "source": [
    "plot_roc_curve(xgb_model, X_test_scaled, y_test);"
   ]
  },
  {
   "cell_type": "code",
   "execution_count": 159,
   "metadata": {},
   "outputs": [
    {
     "data": {
      "text/plain": [
       "0.8253303067341832"
      ]
     },
     "execution_count": 159,
     "metadata": {},
     "output_type": "execute_result"
    }
   ],
   "source": [
    "roc_auc_score(y_test, y_pred_proba[:,1])"
   ]
  },
  {
   "cell_type": "code",
   "execution_count": 160,
   "metadata": {},
   "outputs": [],
   "source": [
    "fp_rate, tp_rate, thresholds = roc_curve(y_test, y_pred_proba[:,1])"
   ]
  },
  {
   "cell_type": "code",
   "execution_count": 161,
   "metadata": {},
   "outputs": [
    {
     "data": {
      "text/plain": [
       "0.026234096"
      ]
     },
     "execution_count": 161,
     "metadata": {},
     "output_type": "execute_result"
    }
   ],
   "source": [
    "optimal_idx = np.argmax(tp_rate - fp_rate)\n",
    "optimal_threshold = thresholds[optimal_idx]\n",
    "optimal_threshold"
   ]
  },
  {
   "cell_type": "code",
   "execution_count": 162,
   "metadata": {},
   "outputs": [],
   "source": [
    "y_pred2 = [1 if i >= optimal_threshold else 0 for i in y_pred_proba[:,1]]"
   ]
  },
  {
   "cell_type": "code",
   "execution_count": 163,
   "metadata": {},
   "outputs": [
    {
     "name": "stdout",
     "output_type": "stream",
     "text": [
      "[[355 143]\n",
      " [ 13  56]]\n",
      "-------------------------------------------------------\n",
      "              precision    recall  f1-score   support\n",
      "\n",
      "         0.0       0.96      0.71      0.82       498\n",
      "         1.0       0.28      0.81      0.42        69\n",
      "\n",
      "    accuracy                           0.72       567\n",
      "   macro avg       0.62      0.76      0.62       567\n",
      "weighted avg       0.88      0.72      0.77       567\n",
      "\n"
     ]
    }
   ],
   "source": [
    "print(confusion_matrix(y_test, y_pred2))\n",
    "print(\"-------------------------------------------------------\")\n",
    "print(classification_report(y_test, y_pred2))"
   ]
  },
  {
   "cell_type": "code",
   "execution_count": 164,
   "metadata": {},
   "outputs": [
    {
     "name": "stdout",
     "output_type": "stream",
     "text": [
      "[[471  27]\n",
      " [ 44  25]]\n",
      "-------------------------------------------------------\n",
      "              precision    recall  f1-score   support\n",
      "\n",
      "         0.0       0.91      0.95      0.93       498\n",
      "         1.0       0.48      0.36      0.41        69\n",
      "\n",
      "    accuracy                           0.87       567\n",
      "   macro avg       0.70      0.65      0.67       567\n",
      "weighted avg       0.86      0.87      0.87       567\n",
      "\n"
     ]
    }
   ],
   "source": [
    "print(confusion_matrix(y_test, y_pred))\n",
    "print(\"-------------------------------------------------------\")\n",
    "print(classification_report(y_test, y_pred))"
   ]
  },
  {
   "cell_type": "code",
   "execution_count": 165,
   "metadata": {},
   "outputs": [],
   "source": [
    "xgb_recall = recall_score(y_test, y_pred2)\n",
    "xgb_f1 = f1_score(y_test, y_pred2)\n",
    "xgb_auc = roc_auc_score(y_test, y_pred_proba[:,1])"
   ]
  },
  {
   "cell_type": "markdown",
   "metadata": {},
   "source": [
    "# Comparing"
   ]
  },
  {
   "cell_type": "code",
   "execution_count": 166,
   "metadata": {},
   "outputs": [
    {
     "data": {
      "image/png": "[encoded data removed]",
      "text/plain": [
       "<Figure size 1080x1080 with 3 Axes>"
      ]
     },
     "metadata": {
      "needs_background": "light"
     },
     "output_type": "display_data"
    }
   ],
   "source": [
    "compare = pd.DataFrame({\"Model\": [\"LogReg\", \"KNN\", \"SVM\", \"Decision Tree\", \"Random Forest\", \"AdaBoost\", \"XGBoost\"],\n",
    "                        \"Recall\": [log_recall, knn_recall, svm_recall, dt_recall, rf_recall, ada_recall, xgb_recall],\n",
    "                        \"F1_Score\": [log_f1, knn_f1, svm_f1, dt_f1, rf_f1, ada_f1, xgb_f1],\n",
    "                        \"ROC_AUC_Score\": [log_auc, knn_auc, svm_auc, dt_auc, rf_auc, ada_auc, xgb_auc]})\n",
    "\n",
    "def labels(ax):\n",
    "    for p in ax.patches:\n",
    "        width = p.get_width()                        # get bar length\n",
    "        ax.text(width,                               # set the text at 1 unit right of the bar\n",
    "                p.get_y() + p.get_height() / 2,      # get Y coordinate + X coordinate / 2\n",
    "                '{:1.2f}'.format(width),             # set variable to display, 2 decimals\n",
    "                ha = 'left',                         # horizontal alignment\n",
    "                va = 'center')                       # vertical alignment\n",
    "    \n",
    "plt.figure(figsize=(15,15))\n",
    "plt.subplot(311)\n",
    "compare = compare.sort_values(by=\"Recall\", ascending=False)\n",
    "ax=sns.barplot(x=\"Recall\", y=\"Model\", data=compare, palette=\"Blues_d\")\n",
    "labels(ax)\n",
    "\n",
    "plt.subplot(312)\n",
    "compare = compare.sort_values(by=\"F1_Score\", ascending=False)\n",
    "ax=sns.barplot(x=\"F1_Score\", y=\"Model\", data=compare, palette=\"Blues_d\")\n",
    "labels(ax)\n",
    "\n",
    "plt.subplot(313)\n",
    "compare = compare.sort_values(by=\"ROC_AUC_Score\", ascending=False)\n",
    "ax=sns.barplot(x=\"ROC_AUC_Score\", y=\"Model\", data=compare, palette=\"Blues_d\")\n",
    "labels(ax)\n",
    "plt.show()"
   ]
  },
  {
   "cell_type": "markdown",
   "metadata": {},
   "source": [
    "# ANN"
   ]
  },
  {
   "cell_type": "code",
   "execution_count": 167,
   "metadata": {},
   "outputs": [],
   "source": [
    "import tensorflow as tf\n",
    "from tensorflow.keras.models import Sequential\n",
    "from tensorflow.keras.layers import Dense, Activation\n",
    "from tensorflow.keras.callbacks import EarlyStopping\n",
    "from tensorflow.keras.optimizers import Adam"
   ]
  },
  {
   "cell_type": "code",
   "execution_count": 168,
   "metadata": {},
   "outputs": [
    {
     "data": {
      "text/plain": [
       "(5630, 24)"
      ]
     },
     "execution_count": 168,
     "metadata": {},
     "output_type": "execute_result"
    }
   ],
   "source": [
    "X_train.shape"
   ]
  },
  {
   "cell_type": "code",
   "execution_count": 169,
   "metadata": {},
   "outputs": [],
   "source": [
    "model = Sequential()\n",
    "model.add(Dense(24, activation=\"relu\"))\n",
    "model.add(Dense(24, activation=\"relu\"))\n",
    "model.add(Dense(1, activation=\"sigmoid\"))\n",
    "\n",
    "opt = Adam(lr = 0.0001)\n",
    "model.compile(loss=\"binary_crossentropy\", optimizer=opt, metrics=[\"accuracy\"])"
   ]
  },
  {
   "cell_type": "code",
   "execution_count": 170,
   "metadata": {},
   "outputs": [],
   "source": [
    "early_stop = EarlyStopping(monitor=\"val_loss\", mode=\"auto\", verbose=1, patience = 15)"
   ]
  },
  {
   "cell_type": "code",
   "execution_count": 171,
   "metadata": {},
   "outputs": [
    {
     "name": "stdout",
     "output_type": "stream",
     "text": [
      "Epoch 1/500\n",
      "176/176 [==============================] - 1s 4ms/step - loss: 0.7432 - accuracy: 0.5096 - val_loss: 0.8059 - val_accuracy: 0.3298\n",
      "Epoch 2/500\n",
      "176/176 [==============================] - 0s 3ms/step - loss: 0.6859 - accuracy: 0.5845 - val_loss: 0.7140 - val_accuracy: 0.5026\n",
      "Epoch 3/500\n",
      "176/176 [==============================] - 1s 3ms/step - loss: 0.6475 - accuracy: 0.6490 - val_loss: 0.6535 - val_accuracy: 0.6032\n",
      "Epoch 4/500\n",
      "176/176 [==============================] - 1s 3ms/step - loss: 0.6156 - accuracy: 0.6954 - val_loss: 0.6127 - val_accuracy: 0.6684\n",
      "Epoch 5/500\n",
      "176/176 [==============================] - 0s 3ms/step - loss: 0.5868 - accuracy: 0.7208 - val_loss: 0.5801 - val_accuracy: 0.7108\n",
      "Epoch 6/500\n",
      "176/176 [==============================] - 0s 2ms/step - loss: 0.5610 - accuracy: 0.7426 - val_loss: 0.5542 - val_accuracy: 0.7284\n",
      "Epoch 7/500\n",
      "176/176 [==============================] - 1s 3ms/step - loss: 0.5387 - accuracy: 0.7531 - val_loss: 0.5363 - val_accuracy: 0.7372\n",
      "Epoch 8/500\n",
      "176/176 [==============================] - 0s 3ms/step - loss: 0.5203 - accuracy: 0.7622 - val_loss: 0.5231 - val_accuracy: 0.7372\n",
      "Epoch 9/500\n",
      "176/176 [==============================] - 0s 3ms/step - loss: 0.5055 - accuracy: 0.7693 - val_loss: 0.5154 - val_accuracy: 0.7460\n",
      "Epoch 10/500\n",
      "176/176 [==============================] - 0s 3ms/step - loss: 0.4938 - accuracy: 0.7750 - val_loss: 0.5063 - val_accuracy: 0.7531\n",
      "Epoch 11/500\n",
      "176/176 [==============================] - 0s 3ms/step - loss: 0.4847 - accuracy: 0.7750 - val_loss: 0.5028 - val_accuracy: 0.7566\n",
      "Epoch 12/500\n",
      "176/176 [==============================] - 0s 3ms/step - loss: 0.4775 - accuracy: 0.7787 - val_loss: 0.5025 - val_accuracy: 0.7531\n",
      "Epoch 13/500\n",
      "176/176 [==============================] - 0s 3ms/step - loss: 0.4717 - accuracy: 0.7789 - val_loss: 0.5032 - val_accuracy: 0.7513\n",
      "Epoch 14/500\n",
      "176/176 [==============================] - 0s 3ms/step - loss: 0.4670 - accuracy: 0.7805 - val_loss: 0.4944 - val_accuracy: 0.7584\n",
      "Epoch 15/500\n",
      "176/176 [==============================] - 0s 3ms/step - loss: 0.4631 - accuracy: 0.7812 - val_loss: 0.4943 - val_accuracy: 0.7619\n",
      "Epoch 16/500\n",
      "176/176 [==============================] - 0s 3ms/step - loss: 0.4597 - accuracy: 0.7822 - val_loss: 0.4961 - val_accuracy: 0.7637\n",
      "Epoch 17/500\n",
      "176/176 [==============================] - 0s 3ms/step - loss: 0.4567 - accuracy: 0.7842 - val_loss: 0.4951 - val_accuracy: 0.7637\n",
      "Epoch 18/500\n",
      "176/176 [==============================] - 0s 3ms/step - loss: 0.4540 - accuracy: 0.7863 - val_loss: 0.4932 - val_accuracy: 0.7654\n",
      "Epoch 19/500\n",
      "176/176 [==============================] - 1s 3ms/step - loss: 0.4514 - accuracy: 0.7876 - val_loss: 0.4949 - val_accuracy: 0.7619\n",
      "Epoch 20/500\n",
      "176/176 [==============================] - 1s 3ms/step - loss: 0.4491 - accuracy: 0.7886 - val_loss: 0.4933 - val_accuracy: 0.7601\n",
      "Epoch 21/500\n",
      "176/176 [==============================] - 0s 3ms/step - loss: 0.4468 - accuracy: 0.7904 - val_loss: 0.4928 - val_accuracy: 0.7619\n",
      "Epoch 22/500\n",
      "176/176 [==============================] - 1s 3ms/step - loss: 0.4446 - accuracy: 0.7908 - val_loss: 0.4929 - val_accuracy: 0.7584\n",
      "Epoch 23/500\n",
      "176/176 [==============================] - 0s 3ms/step - loss: 0.4425 - accuracy: 0.7927 - val_loss: 0.4944 - val_accuracy: 0.7584\n",
      "Epoch 24/500\n",
      "176/176 [==============================] - 0s 3ms/step - loss: 0.4406 - accuracy: 0.7933 - val_loss: 0.4945 - val_accuracy: 0.7601\n",
      "Epoch 25/500\n",
      "176/176 [==============================] - 0s 3ms/step - loss: 0.4386 - accuracy: 0.7950 - val_loss: 0.4931 - val_accuracy: 0.7584\n",
      "Epoch 26/500\n",
      "176/176 [==============================] - 1s 3ms/step - loss: 0.4368 - accuracy: 0.7947 - val_loss: 0.4914 - val_accuracy: 0.7601\n",
      "Epoch 27/500\n",
      "176/176 [==============================] - 0s 3ms/step - loss: 0.4349 - accuracy: 0.7972 - val_loss: 0.4917 - val_accuracy: 0.7584\n",
      "Epoch 28/500\n",
      "176/176 [==============================] - 0s 3ms/step - loss: 0.4331 - accuracy: 0.7991 - val_loss: 0.4944 - val_accuracy: 0.7566\n",
      "Epoch 29/500\n",
      "176/176 [==============================] - 0s 3ms/step - loss: 0.4312 - accuracy: 0.8002 - val_loss: 0.4933 - val_accuracy: 0.7531\n",
      "Epoch 30/500\n",
      "176/176 [==============================] - 0s 2ms/step - loss: 0.4295 - accuracy: 0.8000 - val_loss: 0.4917 - val_accuracy: 0.7513\n",
      "Epoch 31/500\n",
      "176/176 [==============================] - 1s 3ms/step - loss: 0.4279 - accuracy: 0.8023 - val_loss: 0.4905 - val_accuracy: 0.7531\n",
      "Epoch 32/500\n",
      "176/176 [==============================] - 1s 3ms/step - loss: 0.4260 - accuracy: 0.8039 - val_loss: 0.4881 - val_accuracy: 0.7531\n",
      "Epoch 33/500\n",
      "176/176 [==============================] - 0s 3ms/step - loss: 0.4243 - accuracy: 0.8055 - val_loss: 0.4893 - val_accuracy: 0.7531\n",
      "Epoch 34/500\n",
      "176/176 [==============================] - 0s 3ms/step - loss: 0.4227 - accuracy: 0.8059 - val_loss: 0.4872 - val_accuracy: 0.7531\n",
      "Epoch 35/500\n",
      "176/176 [==============================] - 1s 3ms/step - loss: 0.4210 - accuracy: 0.8080 - val_loss: 0.4860 - val_accuracy: 0.7549\n",
      "Epoch 36/500\n",
      "176/176 [==============================] - 0s 3ms/step - loss: 0.4194 - accuracy: 0.8085 - val_loss: 0.4909 - val_accuracy: 0.7549\n",
      "Epoch 37/500\n",
      "176/176 [==============================] - 1s 3ms/step - loss: 0.4178 - accuracy: 0.8107 - val_loss: 0.4865 - val_accuracy: 0.7584\n",
      "Epoch 38/500\n",
      "176/176 [==============================] - 1s 4ms/step - loss: 0.4162 - accuracy: 0.8114 - val_loss: 0.4902 - val_accuracy: 0.7549\n",
      "Epoch 39/500\n",
      "176/176 [==============================] - 0s 3ms/step - loss: 0.4146 - accuracy: 0.8133 - val_loss: 0.4898 - val_accuracy: 0.7566\n",
      "Epoch 40/500\n",
      "176/176 [==============================] - 1s 3ms/step - loss: 0.4131 - accuracy: 0.8137 - val_loss: 0.4867 - val_accuracy: 0.7601\n",
      "Epoch 41/500\n",
      "176/176 [==============================] - 0s 3ms/step - loss: 0.4116 - accuracy: 0.8142 - val_loss: 0.4895 - val_accuracy: 0.7584\n",
      "Epoch 42/500\n",
      "176/176 [==============================] - 0s 3ms/step - loss: 0.4100 - accuracy: 0.8171 - val_loss: 0.4849 - val_accuracy: 0.7601\n",
      "Epoch 43/500\n",
      "176/176 [==============================] - 0s 3ms/step - loss: 0.4086 - accuracy: 0.8171 - val_loss: 0.4905 - val_accuracy: 0.7584\n",
      "Epoch 44/500\n",
      "176/176 [==============================] - 0s 3ms/step - loss: 0.4072 - accuracy: 0.8187 - val_loss: 0.4859 - val_accuracy: 0.7619\n",
      "Epoch 45/500\n",
      "176/176 [==============================] - 0s 3ms/step - loss: 0.4058 - accuracy: 0.8206 - val_loss: 0.4846 - val_accuracy: 0.7601\n",
      "Epoch 46/500\n",
      "176/176 [==============================] - 0s 3ms/step - loss: 0.4043 - accuracy: 0.8199 - val_loss: 0.4882 - val_accuracy: 0.7584\n",
      "Epoch 47/500\n",
      "176/176 [==============================] - 0s 3ms/step - loss: 0.4029 - accuracy: 0.8213 - val_loss: 0.4869 - val_accuracy: 0.7601\n",
      "Epoch 48/500\n",
      "176/176 [==============================] - 0s 3ms/step - loss: 0.4015 - accuracy: 0.8218 - val_loss: 0.4833 - val_accuracy: 0.7637\n",
      "Epoch 49/500\n",
      "176/176 [==============================] - 0s 2ms/step - loss: 0.4001 - accuracy: 0.8226 - val_loss: 0.4841 - val_accuracy: 0.7654\n",
      "Epoch 50/500\n",
      "176/176 [==============================] - 0s 2ms/step - loss: 0.3986 - accuracy: 0.8231 - val_loss: 0.4844 - val_accuracy: 0.7654\n",
      "Epoch 51/500\n",
      "176/176 [==============================] - 0s 2ms/step - loss: 0.3972 - accuracy: 0.8227 - val_loss: 0.4846 - val_accuracy: 0.7654\n",
      "Epoch 52/500\n",
      "176/176 [==============================] - 0s 2ms/step - loss: 0.3958 - accuracy: 0.8238 - val_loss: 0.4873 - val_accuracy: 0.7637\n",
      "Epoch 53/500\n",
      "176/176 [==============================] - 0s 2ms/step - loss: 0.3943 - accuracy: 0.8259 - val_loss: 0.4849 - val_accuracy: 0.7619\n",
      "Epoch 54/500\n",
      "176/176 [==============================] - 0s 3ms/step - loss: 0.3930 - accuracy: 0.8270 - val_loss: 0.4846 - val_accuracy: 0.7619\n",
      "Epoch 55/500\n",
      "176/176 [==============================] - 0s 2ms/step - loss: 0.3916 - accuracy: 0.8268 - val_loss: 0.4857 - val_accuracy: 0.7619\n",
      "Epoch 56/500\n",
      "176/176 [==============================] - 0s 2ms/step - loss: 0.3902 - accuracy: 0.8291 - val_loss: 0.4853 - val_accuracy: 0.7601\n",
      "Epoch 57/500\n",
      "176/176 [==============================] - 0s 2ms/step - loss: 0.3889 - accuracy: 0.8304 - val_loss: 0.4807 - val_accuracy: 0.7637\n"
     ]
    },
    {
     "name": "stdout",
     "output_type": "stream",
     "text": [
      "Epoch 58/500\n",
      "176/176 [==============================] - 0s 3ms/step - loss: 0.3875 - accuracy: 0.8304 - val_loss: 0.4840 - val_accuracy: 0.7601\n",
      "Epoch 59/500\n",
      "176/176 [==============================] - 0s 2ms/step - loss: 0.3862 - accuracy: 0.8321 - val_loss: 0.4817 - val_accuracy: 0.7619\n",
      "Epoch 60/500\n",
      "176/176 [==============================] - 0s 2ms/step - loss: 0.3848 - accuracy: 0.8325 - val_loss: 0.4780 - val_accuracy: 0.7672\n",
      "Epoch 61/500\n",
      "176/176 [==============================] - 0s 2ms/step - loss: 0.3835 - accuracy: 0.8334 - val_loss: 0.4839 - val_accuracy: 0.7637\n",
      "Epoch 62/500\n",
      "176/176 [==============================] - 0s 2ms/step - loss: 0.3822 - accuracy: 0.8339 - val_loss: 0.4834 - val_accuracy: 0.7637\n",
      "Epoch 63/500\n",
      "176/176 [==============================] - 0s 3ms/step - loss: 0.3809 - accuracy: 0.8345 - val_loss: 0.4860 - val_accuracy: 0.7637\n",
      "Epoch 64/500\n",
      "176/176 [==============================] - 0s 2ms/step - loss: 0.3797 - accuracy: 0.8353 - val_loss: 0.4827 - val_accuracy: 0.7654\n",
      "Epoch 65/500\n",
      "176/176 [==============================] - 0s 2ms/step - loss: 0.3784 - accuracy: 0.8364 - val_loss: 0.4780 - val_accuracy: 0.7654\n",
      "Epoch 66/500\n",
      "176/176 [==============================] - 0s 2ms/step - loss: 0.3771 - accuracy: 0.8371 - val_loss: 0.4803 - val_accuracy: 0.7672\n",
      "Epoch 67/500\n",
      "176/176 [==============================] - 0s 2ms/step - loss: 0.3758 - accuracy: 0.8380 - val_loss: 0.4741 - val_accuracy: 0.7672\n",
      "Epoch 68/500\n",
      "176/176 [==============================] - 0s 2ms/step - loss: 0.3747 - accuracy: 0.8384 - val_loss: 0.4763 - val_accuracy: 0.7672\n",
      "Epoch 69/500\n",
      "176/176 [==============================] - 0s 3ms/step - loss: 0.3734 - accuracy: 0.8385 - val_loss: 0.4787 - val_accuracy: 0.7672\n",
      "Epoch 70/500\n",
      "176/176 [==============================] - 0s 2ms/step - loss: 0.3721 - accuracy: 0.8400 - val_loss: 0.4797 - val_accuracy: 0.7672\n",
      "Epoch 71/500\n",
      "176/176 [==============================] - 1s 4ms/step - loss: 0.3708 - accuracy: 0.8410 - val_loss: 0.4782 - val_accuracy: 0.7654\n",
      "Epoch 72/500\n",
      "176/176 [==============================] - 1s 4ms/step - loss: 0.3696 - accuracy: 0.8419 - val_loss: 0.4792 - val_accuracy: 0.7619\n",
      "Epoch 73/500\n",
      "176/176 [==============================] - 1s 3ms/step - loss: 0.3683 - accuracy: 0.8426 - val_loss: 0.4738 - val_accuracy: 0.7672\n",
      "Epoch 74/500\n",
      "176/176 [==============================] - 1s 5ms/step - loss: 0.3670 - accuracy: 0.8423 - val_loss: 0.4783 - val_accuracy: 0.7637\n",
      "Epoch 75/500\n",
      "176/176 [==============================] - 1s 4ms/step - loss: 0.3657 - accuracy: 0.8451 - val_loss: 0.4707 - val_accuracy: 0.7690\n",
      "Epoch 76/500\n",
      "176/176 [==============================] - 1s 4ms/step - loss: 0.3646 - accuracy: 0.8455 - val_loss: 0.4761 - val_accuracy: 0.7654\n",
      "Epoch 77/500\n",
      "176/176 [==============================] - 1s 4ms/step - loss: 0.3634 - accuracy: 0.8460 - val_loss: 0.4749 - val_accuracy: 0.7672\n",
      "Epoch 78/500\n",
      "176/176 [==============================] - 1s 4ms/step - loss: 0.3622 - accuracy: 0.8476 - val_loss: 0.4728 - val_accuracy: 0.7690\n",
      "Epoch 79/500\n",
      "176/176 [==============================] - 1s 4ms/step - loss: 0.3610 - accuracy: 0.8485 - val_loss: 0.4737 - val_accuracy: 0.7690\n",
      "Epoch 80/500\n",
      "176/176 [==============================] - 1s 4ms/step - loss: 0.3598 - accuracy: 0.8496 - val_loss: 0.4746 - val_accuracy: 0.7654\n",
      "Epoch 81/500\n",
      "176/176 [==============================] - 1s 4ms/step - loss: 0.3586 - accuracy: 0.8501 - val_loss: 0.4720 - val_accuracy: 0.7690\n",
      "Epoch 82/500\n",
      "176/176 [==============================] - 1s 4ms/step - loss: 0.3574 - accuracy: 0.8512 - val_loss: 0.4705 - val_accuracy: 0.7725\n",
      "Epoch 83/500\n",
      "176/176 [==============================] - 1s 3ms/step - loss: 0.3562 - accuracy: 0.8512 - val_loss: 0.4731 - val_accuracy: 0.7690\n",
      "Epoch 84/500\n",
      "176/176 [==============================] - 1s 3ms/step - loss: 0.3551 - accuracy: 0.8508 - val_loss: 0.4741 - val_accuracy: 0.7707\n",
      "Epoch 85/500\n",
      "176/176 [==============================] - 1s 3ms/step - loss: 0.3539 - accuracy: 0.8528 - val_loss: 0.4704 - val_accuracy: 0.7707\n",
      "Epoch 86/500\n",
      "176/176 [==============================] - 1s 3ms/step - loss: 0.3528 - accuracy: 0.8522 - val_loss: 0.4704 - val_accuracy: 0.7743\n",
      "Epoch 87/500\n",
      "176/176 [==============================] - 1s 3ms/step - loss: 0.3516 - accuracy: 0.8542 - val_loss: 0.4744 - val_accuracy: 0.7725\n",
      "Epoch 88/500\n",
      "176/176 [==============================] - 1s 4ms/step - loss: 0.3504 - accuracy: 0.8540 - val_loss: 0.4744 - val_accuracy: 0.7743\n",
      "Epoch 89/500\n",
      "176/176 [==============================] - 1s 4ms/step - loss: 0.3493 - accuracy: 0.8545 - val_loss: 0.4734 - val_accuracy: 0.7743\n",
      "Epoch 90/500\n",
      "176/176 [==============================] - 1s 4ms/step - loss: 0.3482 - accuracy: 0.8551 - val_loss: 0.4720 - val_accuracy: 0.7743\n",
      "Epoch 91/500\n",
      "176/176 [==============================] - 1s 4ms/step - loss: 0.3470 - accuracy: 0.8567 - val_loss: 0.4764 - val_accuracy: 0.7743\n",
      "Epoch 92/500\n",
      "176/176 [==============================] - 1s 3ms/step - loss: 0.3461 - accuracy: 0.8579 - val_loss: 0.4719 - val_accuracy: 0.7743\n",
      "Epoch 93/500\n",
      "176/176 [==============================] - 1s 3ms/step - loss: 0.3450 - accuracy: 0.8575 - val_loss: 0.4720 - val_accuracy: 0.7760\n",
      "Epoch 94/500\n",
      "176/176 [==============================] - 1s 3ms/step - loss: 0.3438 - accuracy: 0.8579 - val_loss: 0.4713 - val_accuracy: 0.7778\n",
      "Epoch 95/500\n",
      "176/176 [==============================] - 1s 3ms/step - loss: 0.3427 - accuracy: 0.8590 - val_loss: 0.4725 - val_accuracy: 0.7743\n",
      "Epoch 96/500\n",
      "176/176 [==============================] - 1s 3ms/step - loss: 0.3417 - accuracy: 0.8599 - val_loss: 0.4748 - val_accuracy: 0.7743\n",
      "Epoch 97/500\n",
      "176/176 [==============================] - 1s 3ms/step - loss: 0.3407 - accuracy: 0.8607 - val_loss: 0.4712 - val_accuracy: 0.7760\n",
      "Epoch 98/500\n",
      "176/176 [==============================] - 1s 3ms/step - loss: 0.3396 - accuracy: 0.8611 - val_loss: 0.4701 - val_accuracy: 0.7760\n",
      "Epoch 99/500\n",
      "176/176 [==============================] - 1s 3ms/step - loss: 0.3387 - accuracy: 0.8606 - val_loss: 0.4710 - val_accuracy: 0.7743\n",
      "Epoch 100/500\n",
      "176/176 [==============================] - 1s 3ms/step - loss: 0.3376 - accuracy: 0.8623 - val_loss: 0.4676 - val_accuracy: 0.7743\n",
      "Epoch 101/500\n",
      "176/176 [==============================] - 1s 3ms/step - loss: 0.3367 - accuracy: 0.8618 - val_loss: 0.4664 - val_accuracy: 0.7725\n",
      "Epoch 102/500\n",
      "176/176 [==============================] - 1s 3ms/step - loss: 0.3357 - accuracy: 0.8636 - val_loss: 0.4702 - val_accuracy: 0.7725\n",
      "Epoch 103/500\n",
      "176/176 [==============================] - 1s 4ms/step - loss: 0.3348 - accuracy: 0.8634 - val_loss: 0.4721 - val_accuracy: 0.7725\n",
      "Epoch 104/500\n",
      "176/176 [==============================] - 1s 3ms/step - loss: 0.3339 - accuracy: 0.8647 - val_loss: 0.4718 - val_accuracy: 0.7725\n",
      "Epoch 105/500\n",
      "176/176 [==============================] - 1s 3ms/step - loss: 0.3329 - accuracy: 0.8654 - val_loss: 0.4713 - val_accuracy: 0.7743\n",
      "Epoch 106/500\n",
      "176/176 [==============================] - 1s 3ms/step - loss: 0.3319 - accuracy: 0.8652 - val_loss: 0.4726 - val_accuracy: 0.7725\n",
      "Epoch 107/500\n",
      "176/176 [==============================] - 1s 3ms/step - loss: 0.3311 - accuracy: 0.8666 - val_loss: 0.4725 - val_accuracy: 0.7778\n",
      "Epoch 108/500\n",
      "176/176 [==============================] - 1s 3ms/step - loss: 0.3301 - accuracy: 0.8659 - val_loss: 0.4738 - val_accuracy: 0.7743\n",
      "Epoch 109/500\n",
      "176/176 [==============================] - 1s 3ms/step - loss: 0.3292 - accuracy: 0.8661 - val_loss: 0.4705 - val_accuracy: 0.7778\n",
      "Epoch 110/500\n",
      "176/176 [==============================] - 1s 3ms/step - loss: 0.3284 - accuracy: 0.8682 - val_loss: 0.4661 - val_accuracy: 0.7848\n",
      "Epoch 111/500\n",
      "176/176 [==============================] - 1s 3ms/step - loss: 0.3276 - accuracy: 0.8679 - val_loss: 0.4712 - val_accuracy: 0.7813\n",
      "Epoch 112/500\n",
      "176/176 [==============================] - 1s 3ms/step - loss: 0.3266 - accuracy: 0.8682 - val_loss: 0.4757 - val_accuracy: 0.7778\n",
      "Epoch 113/500\n",
      "176/176 [==============================] - 1s 3ms/step - loss: 0.3258 - accuracy: 0.8689 - val_loss: 0.4696 - val_accuracy: 0.7813\n",
      "Epoch 114/500\n",
      "176/176 [==============================] - 1s 3ms/step - loss: 0.3249 - accuracy: 0.8691 - val_loss: 0.4708 - val_accuracy: 0.7795\n"
     ]
    },
    {
     "name": "stdout",
     "output_type": "stream",
     "text": [
      "Epoch 115/500\n",
      "176/176 [==============================] - 1s 3ms/step - loss: 0.3241 - accuracy: 0.8709 - val_loss: 0.4729 - val_accuracy: 0.7795\n",
      "Epoch 116/500\n",
      "176/176 [==============================] - 1s 3ms/step - loss: 0.3233 - accuracy: 0.8702 - val_loss: 0.4707 - val_accuracy: 0.7848\n",
      "Epoch 117/500\n",
      "176/176 [==============================] - 1s 3ms/step - loss: 0.3224 - accuracy: 0.8703 - val_loss: 0.4727 - val_accuracy: 0.7848\n",
      "Epoch 118/500\n",
      "176/176 [==============================] - 1s 3ms/step - loss: 0.3216 - accuracy: 0.8712 - val_loss: 0.4757 - val_accuracy: 0.7795\n",
      "Epoch 119/500\n",
      "176/176 [==============================] - 1s 3ms/step - loss: 0.3207 - accuracy: 0.8721 - val_loss: 0.4708 - val_accuracy: 0.7866\n",
      "Epoch 120/500\n",
      "176/176 [==============================] - 1s 3ms/step - loss: 0.3199 - accuracy: 0.8716 - val_loss: 0.4685 - val_accuracy: 0.7972\n",
      "Epoch 121/500\n",
      "176/176 [==============================] - 1s 3ms/step - loss: 0.3191 - accuracy: 0.8716 - val_loss: 0.4746 - val_accuracy: 0.7866\n",
      "Epoch 122/500\n",
      "176/176 [==============================] - 1s 3ms/step - loss: 0.3183 - accuracy: 0.8728 - val_loss: 0.4669 - val_accuracy: 0.7937\n",
      "Epoch 123/500\n",
      "176/176 [==============================] - 1s 3ms/step - loss: 0.3175 - accuracy: 0.8728 - val_loss: 0.4757 - val_accuracy: 0.7866\n",
      "Epoch 124/500\n",
      "176/176 [==============================] - 1s 3ms/step - loss: 0.3167 - accuracy: 0.8750 - val_loss: 0.4741 - val_accuracy: 0.7866\n",
      "Epoch 125/500\n",
      "176/176 [==============================] - 1s 4ms/step - loss: 0.3160 - accuracy: 0.8746 - val_loss: 0.4729 - val_accuracy: 0.7901\n",
      "Epoch 00125: early stopping\n"
     ]
    },
    {
     "data": {
      "text/plain": [
       "<tensorflow.python.keras.callbacks.History at 0x1de358ead88>"
      ]
     },
     "execution_count": 171,
     "metadata": {},
     "output_type": "execute_result"
    }
   ],
   "source": [
    "model.fit(x=X_train_scaled, y=y_train, batch_size = 32, epochs=500, validation_data=(X_test_scaled, y_test), verbose=1, callbacks = [early_stop])"
   ]
  },
  {
   "cell_type": "code",
   "execution_count": 172,
   "metadata": {},
   "outputs": [
    {
     "data": {
      "image/png": "[encoded data removed]",
      "text/plain": [
       "<Figure size 432x288 with 1 Axes>"
      ]
     },
     "metadata": {
      "needs_background": "light"
     },
     "output_type": "display_data"
    }
   ],
   "source": [
    "model_loss = pd.DataFrame(model.history.history)\n",
    "model_loss.plot();"
   ]
  },
  {
   "cell_type": "code",
   "execution_count": 173,
   "metadata": {},
   "outputs": [
    {
     "name": "stdout",
     "output_type": "stream",
     "text": [
      "[[477  21]\n",
      " [ 62   7]]\n",
      "              precision    recall  f1-score   support\n",
      "\n",
      "         0.0       0.88      0.96      0.92       498\n",
      "         1.0       0.25      0.10      0.14        69\n",
      "\n",
      "    accuracy                           0.85       567\n",
      "   macro avg       0.57      0.53      0.53       567\n",
      "weighted avg       0.81      0.85      0.83       567\n",
      "\n"
     ]
    }
   ],
   "source": [
    "y_pred = model.predict_classes(X_test)\n",
    "print(confusion_matrix(y_test, y_pred))\n",
    "print(classification_report(y_test, y_pred))"
   ]
  },
  {
   "cell_type": "code",
   "execution_count": null,
   "metadata": {},
   "outputs": [],
   "source": []
  },
  {
   "cell_type": "code",
   "execution_count": null,
   "metadata": {},
   "outputs": [],
   "source": []
  }
 ],
 "metadata": {
  "kernelspec": {
   "display_name": "Python 3",
   "language": "python",
   "name": "python3"
  },
  "language_info": {
   "codemirror_mode": {
    "name": "ipython",
    "version": 3
   },
   "file_extension": ".py",
   "mimetype": "text/x-python",
   "name": "python",
   "nbconvert_exporter": "python",
   "pygments_lexer": "ipython3",
   "version": "3.7.6"
  }
 },
 "nbformat": 4,
 "nbformat_minor": 4
}
