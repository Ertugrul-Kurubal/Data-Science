{
 "metadata": {
  "language_info": {
   "codemirror_mode": {
    "name": "ipython",
    "version": 3
   },
   "file_extension": ".py",
   "mimetype": "text/x-python",
   "name": "python",
   "nbconvert_exporter": "python",
   "pygments_lexer": "ipython3",
   "version": "3.9.0-final"
  },
  "orig_nbformat": 2,
  "kernelspec": {
   "name": "python390jvsc74a57bd043a9cd95aa030499ef934e4da31e07dde54f3fc3a1fd0cc4aeef7f16459ee2ac",
   "display_name": "Python 3.9.0 64-bit"
  }
 },
 "nbformat": 4,
 "nbformat_minor": 2,
 "cells": [
  {
   "cell_type": "code",
   "execution_count": 1,
   "metadata": {},
   "outputs": [],
   "source": [
    "import pandas as pd \n",
    "import numpy as np \n",
    "import matplotlib.pyplot as plt \n",
    "import seaborn as sns"
   ]
  },
  {
   "cell_type": "code",
   "execution_count": 2,
   "metadata": {},
   "outputs": [],
   "source": [
    "df1 = pd.read_csv(\"sample_submission.csv\")\n",
    "df2 = pd.read_csv(\"test.csv\")\n",
    "df3 = pd.read_csv(\"train.csv\")"
   ]
  },
  {
   "cell_type": "code",
   "execution_count": 3,
   "metadata": {},
   "outputs": [
    {
     "output_type": "execute_result",
     "data": {
      "text/plain": [
       "     Id      SalePrice\n",
       "0  1461  169277.052498\n",
       "1  1462  187758.393989\n",
       "2  1463  183583.683570\n",
       "3  1464  179317.477511\n",
       "4  1465  150730.079977"
      ],
      "text/html": "<div>\n<style scoped>\n    .dataframe tbody tr th:only-of-type {\n        vertical-align: middle;\n    }\n\n    .dataframe tbody tr th {\n        vertical-align: top;\n    }\n\n    .dataframe thead th {\n        text-align: right;\n    }\n</style>\n<table border=\"1\" class=\"dataframe\">\n  <thead>\n    <tr style=\"text-align: right;\">\n      <th></th>\n      <th>Id</th>\n      <th>SalePrice</th>\n    </tr>\n  </thead>\n  <tbody>\n    <tr>\n      <th>0</th>\n      <td>1461</td>\n      <td>169277.052498</td>\n    </tr>\n    <tr>\n      <th>1</th>\n      <td>1462</td>\n      <td>187758.393989</td>\n    </tr>\n    <tr>\n      <th>2</th>\n      <td>1463</td>\n      <td>183583.683570</td>\n    </tr>\n    <tr>\n      <th>3</th>\n      <td>1464</td>\n      <td>179317.477511</td>\n    </tr>\n    <tr>\n      <th>4</th>\n      <td>1465</td>\n      <td>150730.079977</td>\n    </tr>\n  </tbody>\n</table>\n</div>"
     },
     "metadata": {},
     "execution_count": 3
    }
   ],
   "source": [
    "df1.head()"
   ]
  },
  {
   "cell_type": "code",
   "execution_count": 5,
   "metadata": {},
   "outputs": [
    {
     "output_type": "execute_result",
     "data": {
      "text/plain": [
       "     Id  MSSubClass MSZoning  LotFrontage  LotArea Street Alley LotShape  \\\n",
       "0  1461          20       RH         80.0    11622   Pave   NaN      Reg   \n",
       "1  1462          20       RL         81.0    14267   Pave   NaN      IR1   \n",
       "2  1463          60       RL         74.0    13830   Pave   NaN      IR1   \n",
       "3  1464          60       RL         78.0     9978   Pave   NaN      IR1   \n",
       "4  1465         120       RL         43.0     5005   Pave   NaN      IR1   \n",
       "\n",
       "  LandContour Utilities  ... ScreenPorch PoolArea PoolQC  Fence MiscFeature  \\\n",
       "0         Lvl    AllPub  ...         120        0    NaN  MnPrv         NaN   \n",
       "1         Lvl    AllPub  ...           0        0    NaN    NaN        Gar2   \n",
       "2         Lvl    AllPub  ...           0        0    NaN  MnPrv         NaN   \n",
       "3         Lvl    AllPub  ...           0        0    NaN    NaN         NaN   \n",
       "4         HLS    AllPub  ...         144        0    NaN    NaN         NaN   \n",
       "\n",
       "  MiscVal MoSold  YrSold  SaleType  SaleCondition  \n",
       "0       0      6    2010        WD         Normal  \n",
       "1   12500      6    2010        WD         Normal  \n",
       "2       0      3    2010        WD         Normal  \n",
       "3       0      6    2010        WD         Normal  \n",
       "4       0      1    2010        WD         Normal  \n",
       "\n",
       "[5 rows x 80 columns]"
      ],
      "text/html": "<div>\n<style scoped>\n    .dataframe tbody tr th:only-of-type {\n        vertical-align: middle;\n    }\n\n    .dataframe tbody tr th {\n        vertical-align: top;\n    }\n\n    .dataframe thead th {\n        text-align: right;\n    }\n</style>\n<table border=\"1\" class=\"dataframe\">\n  <thead>\n    <tr style=\"text-align: right;\">\n      <th></th>\n      <th>Id</th>\n      <th>MSSubClass</th>\n      <th>MSZoning</th>\n      <th>LotFrontage</th>\n      <th>LotArea</th>\n      <th>Street</th>\n      <th>Alley</th>\n      <th>LotShape</th>\n      <th>LandContour</th>\n      <th>Utilities</th>\n      <th>...</th>\n      <th>ScreenPorch</th>\n      <th>PoolArea</th>\n      <th>PoolQC</th>\n      <th>Fence</th>\n      <th>MiscFeature</th>\n      <th>MiscVal</th>\n      <th>MoSold</th>\n      <th>YrSold</th>\n      <th>SaleType</th>\n      <th>SaleCondition</th>\n    </tr>\n  </thead>\n  <tbody>\n    <tr>\n      <th>0</th>\n      <td>1461</td>\n      <td>20</td>\n      <td>RH</td>\n      <td>80.0</td>\n      <td>11622</td>\n      <td>Pave</td>\n      <td>NaN</td>\n      <td>Reg</td>\n      <td>Lvl</td>\n      <td>AllPub</td>\n      <td>...</td>\n      <td>120</td>\n      <td>0</td>\n      <td>NaN</td>\n      <td>MnPrv</td>\n      <td>NaN</td>\n      <td>0</td>\n      <td>6</td>\n      <td>2010</td>\n      <td>WD</td>\n      <td>Normal</td>\n    </tr>\n    <tr>\n      <th>1</th>\n      <td>1462</td>\n      <td>20</td>\n      <td>RL</td>\n      <td>81.0</td>\n      <td>14267</td>\n      <td>Pave</td>\n      <td>NaN</td>\n      <td>IR1</td>\n      <td>Lvl</td>\n      <td>AllPub</td>\n      <td>...</td>\n      <td>0</td>\n      <td>0</td>\n      <td>NaN</td>\n      <td>NaN</td>\n      <td>Gar2</td>\n      <td>12500</td>\n      <td>6</td>\n      <td>2010</td>\n      <td>WD</td>\n      <td>Normal</td>\n    </tr>\n    <tr>\n      <th>2</th>\n      <td>1463</td>\n      <td>60</td>\n      <td>RL</td>\n      <td>74.0</td>\n      <td>13830</td>\n      <td>Pave</td>\n      <td>NaN</td>\n      <td>IR1</td>\n      <td>Lvl</td>\n      <td>AllPub</td>\n      <td>...</td>\n      <td>0</td>\n      <td>0</td>\n      <td>NaN</td>\n      <td>MnPrv</td>\n      <td>NaN</td>\n      <td>0</td>\n      <td>3</td>\n      <td>2010</td>\n      <td>WD</td>\n      <td>Normal</td>\n    </tr>\n    <tr>\n      <th>3</th>\n      <td>1464</td>\n      <td>60</td>\n      <td>RL</td>\n      <td>78.0</td>\n      <td>9978</td>\n      <td>Pave</td>\n      <td>NaN</td>\n      <td>IR1</td>\n      <td>Lvl</td>\n      <td>AllPub</td>\n      <td>...</td>\n      <td>0</td>\n      <td>0</td>\n      <td>NaN</td>\n      <td>NaN</td>\n      <td>NaN</td>\n      <td>0</td>\n      <td>6</td>\n      <td>2010</td>\n      <td>WD</td>\n      <td>Normal</td>\n    </tr>\n    <tr>\n      <th>4</th>\n      <td>1465</td>\n      <td>120</td>\n      <td>RL</td>\n      <td>43.0</td>\n      <td>5005</td>\n      <td>Pave</td>\n      <td>NaN</td>\n      <td>IR1</td>\n      <td>HLS</td>\n      <td>AllPub</td>\n      <td>...</td>\n      <td>144</td>\n      <td>0</td>\n      <td>NaN</td>\n      <td>NaN</td>\n      <td>NaN</td>\n      <td>0</td>\n      <td>1</td>\n      <td>2010</td>\n      <td>WD</td>\n      <td>Normal</td>\n    </tr>\n  </tbody>\n</table>\n<p>5 rows × 80 columns</p>\n</div>"
     },
     "metadata": {},
     "execution_count": 5
    }
   ],
   "source": [
    "df2.head()"
   ]
  },
  {
   "cell_type": "code",
   "execution_count": 6,
   "metadata": {},
   "outputs": [
    {
     "output_type": "execute_result",
     "data": {
      "text/plain": [
       "   Id  MSSubClass MSZoning  LotFrontage  LotArea Street Alley LotShape  \\\n",
       "0   1          60       RL         65.0     8450   Pave   NaN      Reg   \n",
       "1   2          20       RL         80.0     9600   Pave   NaN      Reg   \n",
       "2   3          60       RL         68.0    11250   Pave   NaN      IR1   \n",
       "3   4          70       RL         60.0     9550   Pave   NaN      IR1   \n",
       "4   5          60       RL         84.0    14260   Pave   NaN      IR1   \n",
       "\n",
       "  LandContour Utilities  ... PoolArea PoolQC Fence MiscFeature MiscVal MoSold  \\\n",
       "0         Lvl    AllPub  ...        0    NaN   NaN         NaN       0      2   \n",
       "1         Lvl    AllPub  ...        0    NaN   NaN         NaN       0      5   \n",
       "2         Lvl    AllPub  ...        0    NaN   NaN         NaN       0      9   \n",
       "3         Lvl    AllPub  ...        0    NaN   NaN         NaN       0      2   \n",
       "4         Lvl    AllPub  ...        0    NaN   NaN         NaN       0     12   \n",
       "\n",
       "  YrSold  SaleType  SaleCondition  SalePrice  \n",
       "0   2008        WD         Normal     208500  \n",
       "1   2007        WD         Normal     181500  \n",
       "2   2008        WD         Normal     223500  \n",
       "3   2006        WD        Abnorml     140000  \n",
       "4   2008        WD         Normal     250000  \n",
       "\n",
       "[5 rows x 81 columns]"
      ],
      "text/html": "<div>\n<style scoped>\n    .dataframe tbody tr th:only-of-type {\n        vertical-align: middle;\n    }\n\n    .dataframe tbody tr th {\n        vertical-align: top;\n    }\n\n    .dataframe thead th {\n        text-align: right;\n    }\n</style>\n<table border=\"1\" class=\"dataframe\">\n  <thead>\n    <tr style=\"text-align: right;\">\n      <th></th>\n      <th>Id</th>\n      <th>MSSubClass</th>\n      <th>MSZoning</th>\n      <th>LotFrontage</th>\n      <th>LotArea</th>\n      <th>Street</th>\n      <th>Alley</th>\n      <th>LotShape</th>\n      <th>LandContour</th>\n      <th>Utilities</th>\n      <th>...</th>\n      <th>PoolArea</th>\n      <th>PoolQC</th>\n      <th>Fence</th>\n      <th>MiscFeature</th>\n      <th>MiscVal</th>\n      <th>MoSold</th>\n      <th>YrSold</th>\n      <th>SaleType</th>\n      <th>SaleCondition</th>\n      <th>SalePrice</th>\n    </tr>\n  </thead>\n  <tbody>\n    <tr>\n      <th>0</th>\n      <td>1</td>\n      <td>60</td>\n      <td>RL</td>\n      <td>65.0</td>\n      <td>8450</td>\n      <td>Pave</td>\n      <td>NaN</td>\n      <td>Reg</td>\n      <td>Lvl</td>\n      <td>AllPub</td>\n      <td>...</td>\n      <td>0</td>\n      <td>NaN</td>\n      <td>NaN</td>\n      <td>NaN</td>\n      <td>0</td>\n      <td>2</td>\n      <td>2008</td>\n      <td>WD</td>\n      <td>Normal</td>\n      <td>208500</td>\n    </tr>\n    <tr>\n      <th>1</th>\n      <td>2</td>\n      <td>20</td>\n      <td>RL</td>\n      <td>80.0</td>\n      <td>9600</td>\n      <td>Pave</td>\n      <td>NaN</td>\n      <td>Reg</td>\n      <td>Lvl</td>\n      <td>AllPub</td>\n      <td>...</td>\n      <td>0</td>\n      <td>NaN</td>\n      <td>NaN</td>\n      <td>NaN</td>\n      <td>0</td>\n      <td>5</td>\n      <td>2007</td>\n      <td>WD</td>\n      <td>Normal</td>\n      <td>181500</td>\n    </tr>\n    <tr>\n      <th>2</th>\n      <td>3</td>\n      <td>60</td>\n      <td>RL</td>\n      <td>68.0</td>\n      <td>11250</td>\n      <td>Pave</td>\n      <td>NaN</td>\n      <td>IR1</td>\n      <td>Lvl</td>\n      <td>AllPub</td>\n      <td>...</td>\n      <td>0</td>\n      <td>NaN</td>\n      <td>NaN</td>\n      <td>NaN</td>\n      <td>0</td>\n      <td>9</td>\n      <td>2008</td>\n      <td>WD</td>\n      <td>Normal</td>\n      <td>223500</td>\n    </tr>\n    <tr>\n      <th>3</th>\n      <td>4</td>\n      <td>70</td>\n      <td>RL</td>\n      <td>60.0</td>\n      <td>9550</td>\n      <td>Pave</td>\n      <td>NaN</td>\n      <td>IR1</td>\n      <td>Lvl</td>\n      <td>AllPub</td>\n      <td>...</td>\n      <td>0</td>\n      <td>NaN</td>\n      <td>NaN</td>\n      <td>NaN</td>\n      <td>0</td>\n      <td>2</td>\n      <td>2006</td>\n      <td>WD</td>\n      <td>Abnorml</td>\n      <td>140000</td>\n    </tr>\n    <tr>\n      <th>4</th>\n      <td>5</td>\n      <td>60</td>\n      <td>RL</td>\n      <td>84.0</td>\n      <td>14260</td>\n      <td>Pave</td>\n      <td>NaN</td>\n      <td>IR1</td>\n      <td>Lvl</td>\n      <td>AllPub</td>\n      <td>...</td>\n      <td>0</td>\n      <td>NaN</td>\n      <td>NaN</td>\n      <td>NaN</td>\n      <td>0</td>\n      <td>12</td>\n      <td>2008</td>\n      <td>WD</td>\n      <td>Normal</td>\n      <td>250000</td>\n    </tr>\n  </tbody>\n</table>\n<p>5 rows × 81 columns</p>\n</div>"
     },
     "metadata": {},
     "execution_count": 6
    }
   ],
   "source": [
    "df3.head()"
   ]
  },
  {
   "cell_type": "code",
   "execution_count": 8,
   "metadata": {},
   "outputs": [
    {
     "output_type": "stream",
     "name": "stdout",
     "text": [
      "<class 'pandas.core.frame.DataFrame'>\nRangeIndex: 1459 entries, 0 to 1458\nData columns (total 2 columns):\n #   Column     Non-Null Count  Dtype  \n---  ------     --------------  -----  \n 0   Id         1459 non-null   int64  \n 1   SalePrice  1459 non-null   float64\ndtypes: float64(1), int64(1)\nmemory usage: 22.9 KB\n"
     ]
    }
   ],
   "source": [
    "df1.info()"
   ]
  },
  {
   "cell_type": "code",
   "execution_count": 7,
   "metadata": {},
   "outputs": [
    {
     "output_type": "stream",
     "name": "stdout",
     "text": [
      "<class 'pandas.core.frame.DataFrame'>\nRangeIndex: 1459 entries, 0 to 1458\nData columns (total 80 columns):\n #   Column         Non-Null Count  Dtype  \n---  ------         --------------  -----  \n 0   Id             1459 non-null   int64  \n 1   MSSubClass     1459 non-null   int64  \n 2   MSZoning       1455 non-null   object \n 3   LotFrontage    1232 non-null   float64\n 4   LotArea        1459 non-null   int64  \n 5   Street         1459 non-null   object \n 6   Alley          107 non-null    object \n 7   LotShape       1459 non-null   object \n 8   LandContour    1459 non-null   object \n 9   Utilities      1457 non-null   object \n 10  LotConfig      1459 non-null   object \n 11  LandSlope      1459 non-null   object \n 12  Neighborhood   1459 non-null   object \n 13  Condition1     1459 non-null   object \n 14  Condition2     1459 non-null   object \n 15  BldgType       1459 non-null   object \n 16  HouseStyle     1459 non-null   object \n 17  OverallQual    1459 non-null   int64  \n 18  OverallCond    1459 non-null   int64  \n 19  YearBuilt      1459 non-null   int64  \n 20  YearRemodAdd   1459 non-null   int64  \n 21  RoofStyle      1459 non-null   object \n 22  RoofMatl       1459 non-null   object \n 23  Exterior1st    1458 non-null   object \n 24  Exterior2nd    1458 non-null   object \n 25  MasVnrType     1443 non-null   object \n 26  MasVnrArea     1444 non-null   float64\n 27  ExterQual      1459 non-null   object \n 28  ExterCond      1459 non-null   object \n 29  Foundation     1459 non-null   object \n 30  BsmtQual       1415 non-null   object \n 31  BsmtCond       1414 non-null   object \n 32  BsmtExposure   1415 non-null   object \n 33  BsmtFinType1   1417 non-null   object \n 34  BsmtFinSF1     1458 non-null   float64\n 35  BsmtFinType2   1417 non-null   object \n 36  BsmtFinSF2     1458 non-null   float64\n 37  BsmtUnfSF      1458 non-null   float64\n 38  TotalBsmtSF    1458 non-null   float64\n 39  Heating        1459 non-null   object \n 40  HeatingQC      1459 non-null   object \n 41  CentralAir     1459 non-null   object \n 42  Electrical     1459 non-null   object \n 43  1stFlrSF       1459 non-null   int64  \n 44  2ndFlrSF       1459 non-null   int64  \n 45  LowQualFinSF   1459 non-null   int64  \n 46  GrLivArea      1459 non-null   int64  \n 47  BsmtFullBath   1457 non-null   float64\n 48  BsmtHalfBath   1457 non-null   float64\n 49  FullBath       1459 non-null   int64  \n 50  HalfBath       1459 non-null   int64  \n 51  BedroomAbvGr   1459 non-null   int64  \n 52  KitchenAbvGr   1459 non-null   int64  \n 53  KitchenQual    1458 non-null   object \n 54  TotRmsAbvGrd   1459 non-null   int64  \n 55  Functional     1457 non-null   object \n 56  Fireplaces     1459 non-null   int64  \n 57  FireplaceQu    729 non-null    object \n 58  GarageType     1383 non-null   object \n 59  GarageYrBlt    1381 non-null   float64\n 60  GarageFinish   1381 non-null   object \n 61  GarageCars     1458 non-null   float64\n 62  GarageArea     1458 non-null   float64\n 63  GarageQual     1381 non-null   object \n 64  GarageCond     1381 non-null   object \n 65  PavedDrive     1459 non-null   object \n 66  WoodDeckSF     1459 non-null   int64  \n 67  OpenPorchSF    1459 non-null   int64  \n 68  EnclosedPorch  1459 non-null   int64  \n 69  3SsnPorch      1459 non-null   int64  \n 70  ScreenPorch    1459 non-null   int64  \n 71  PoolArea       1459 non-null   int64  \n 72  PoolQC         3 non-null      object \n 73  Fence          290 non-null    object \n 74  MiscFeature    51 non-null     object \n 75  MiscVal        1459 non-null   int64  \n 76  MoSold         1459 non-null   int64  \n 77  YrSold         1459 non-null   int64  \n 78  SaleType       1458 non-null   object \n 79  SaleCondition  1459 non-null   object \ndtypes: float64(11), int64(26), object(43)\nmemory usage: 912.0+ KB\n"
     ]
    }
   ],
   "source": [
    "df2.info()"
   ]
  },
  {
   "cell_type": "code",
   "execution_count": 9,
   "metadata": {},
   "outputs": [
    {
     "output_type": "stream",
     "name": "stdout",
     "text": [
      "<class 'pandas.core.frame.DataFrame'>\nRangeIndex: 1460 entries, 0 to 1459\nData columns (total 81 columns):\n #   Column         Non-Null Count  Dtype  \n---  ------         --------------  -----  \n 0   Id             1460 non-null   int64  \n 1   MSSubClass     1460 non-null   int64  \n 2   MSZoning       1460 non-null   object \n 3   LotFrontage    1201 non-null   float64\n 4   LotArea        1460 non-null   int64  \n 5   Street         1460 non-null   object \n 6   Alley          91 non-null     object \n 7   LotShape       1460 non-null   object \n 8   LandContour    1460 non-null   object \n 9   Utilities      1460 non-null   object \n 10  LotConfig      1460 non-null   object \n 11  LandSlope      1460 non-null   object \n 12  Neighborhood   1460 non-null   object \n 13  Condition1     1460 non-null   object \n 14  Condition2     1460 non-null   object \n 15  BldgType       1460 non-null   object \n 16  HouseStyle     1460 non-null   object \n 17  OverallQual    1460 non-null   int64  \n 18  OverallCond    1460 non-null   int64  \n 19  YearBuilt      1460 non-null   int64  \n 20  YearRemodAdd   1460 non-null   int64  \n 21  RoofStyle      1460 non-null   object \n 22  RoofMatl       1460 non-null   object \n 23  Exterior1st    1460 non-null   object \n 24  Exterior2nd    1460 non-null   object \n 25  MasVnrType     1452 non-null   object \n 26  MasVnrArea     1452 non-null   float64\n 27  ExterQual      1460 non-null   object \n 28  ExterCond      1460 non-null   object \n 29  Foundation     1460 non-null   object \n 30  BsmtQual       1423 non-null   object \n 31  BsmtCond       1423 non-null   object \n 32  BsmtExposure   1422 non-null   object \n 33  BsmtFinType1   1423 non-null   object \n 34  BsmtFinSF1     1460 non-null   int64  \n 35  BsmtFinType2   1422 non-null   object \n 36  BsmtFinSF2     1460 non-null   int64  \n 37  BsmtUnfSF      1460 non-null   int64  \n 38  TotalBsmtSF    1460 non-null   int64  \n 39  Heating        1460 non-null   object \n 40  HeatingQC      1460 non-null   object \n 41  CentralAir     1460 non-null   object \n 42  Electrical     1459 non-null   object \n 43  1stFlrSF       1460 non-null   int64  \n 44  2ndFlrSF       1460 non-null   int64  \n 45  LowQualFinSF   1460 non-null   int64  \n 46  GrLivArea      1460 non-null   int64  \n 47  BsmtFullBath   1460 non-null   int64  \n 48  BsmtHalfBath   1460 non-null   int64  \n 49  FullBath       1460 non-null   int64  \n 50  HalfBath       1460 non-null   int64  \n 51  BedroomAbvGr   1460 non-null   int64  \n 52  KitchenAbvGr   1460 non-null   int64  \n 53  KitchenQual    1460 non-null   object \n 54  TotRmsAbvGrd   1460 non-null   int64  \n 55  Functional     1460 non-null   object \n 56  Fireplaces     1460 non-null   int64  \n 57  FireplaceQu    770 non-null    object \n 58  GarageType     1379 non-null   object \n 59  GarageYrBlt    1379 non-null   float64\n 60  GarageFinish   1379 non-null   object \n 61  GarageCars     1460 non-null   int64  \n 62  GarageArea     1460 non-null   int64  \n 63  GarageQual     1379 non-null   object \n 64  GarageCond     1379 non-null   object \n 65  PavedDrive     1460 non-null   object \n 66  WoodDeckSF     1460 non-null   int64  \n 67  OpenPorchSF    1460 non-null   int64  \n 68  EnclosedPorch  1460 non-null   int64  \n 69  3SsnPorch      1460 non-null   int64  \n 70  ScreenPorch    1460 non-null   int64  \n 71  PoolArea       1460 non-null   int64  \n 72  PoolQC         7 non-null      object \n 73  Fence          281 non-null    object \n 74  MiscFeature    54 non-null     object \n 75  MiscVal        1460 non-null   int64  \n 76  MoSold         1460 non-null   int64  \n 77  YrSold         1460 non-null   int64  \n 78  SaleType       1460 non-null   object \n 79  SaleCondition  1460 non-null   object \n 80  SalePrice      1460 non-null   int64  \ndtypes: float64(3), int64(35), object(43)\nmemory usage: 924.0+ KB\n"
     ]
    }
   ],
   "source": [
    "df3.info()"
   ]
  },
  {
   "cell_type": "code",
   "execution_count": 5,
   "metadata": {},
   "outputs": [
    {
     "output_type": "execute_result",
     "data": {
      "text/plain": [
       "        Id  MSSubClass MSZoning  LotFrontage  LotArea Street Alley LotShape  \\\n",
       "5        6          50       RL         85.0    14115   Pave   NaN      IR1   \n",
       "7        8          60       RL          NaN    10382   Pave   NaN      IR1   \n",
       "16      17          20       RL          NaN    11241   Pave   NaN      IR1   \n",
       "17      18          90       RL         72.0    10791   Pave   NaN      Reg   \n",
       "51      52          50       RM         52.0     6240   Pave   NaN      Reg   \n",
       "84      85          80       RL          NaN     8530   Pave   NaN      IR1   \n",
       "95      96          60       RL          NaN     9765   Pave   NaN      IR2   \n",
       "98      99          30       RL         85.0    10625   Pave   NaN      Reg   \n",
       "99     100          20       RL         77.0     9320   Pave   NaN      IR1   \n",
       "106    107          30       RM         60.0    10800   Pave  Grvl      Reg   \n",
       "214    215          60       RL          NaN    10900   Pave   NaN      IR1   \n",
       "249    250          50       RL          NaN   159000   Pave   NaN      IR2   \n",
       "250    251          30       RL         55.0     5350   Pave   NaN      IR1   \n",
       "335    336         190       RL          NaN   164660   Grvl   NaN      IR1   \n",
       "338    339          20       RL         91.0    14145   Pave   NaN      Reg   \n",
       "346    347          20       RL          NaN    12772   Pave   NaN      IR1   \n",
       "392    393          20       RL          NaN     8339   Pave   NaN      IR1   \n",
       "439    440          50       RL         67.0    12354   Pave  Grvl      Reg   \n",
       "499    500          20       RL         70.0     7535   Pave   NaN      IR1   \n",
       "502    503          20       RL         70.0     9170   Pave   NaN      Reg   \n",
       "510    511          20       RL         75.0    14559   Pave   NaN      Reg   \n",
       "539    540          20       RL          NaN    11423   Pave   NaN      Reg   \n",
       "589    590          40       RM         50.0     9100   Pave   NaN      Reg   \n",
       "611    612          80       RL          NaN    10395   Pave   NaN      IR1   \n",
       "626    627          20       RL          NaN    12342   Pave   NaN      IR1   \n",
       "634    635          90       RL         64.0     6979   Pave   NaN      Reg   \n",
       "705    706         190       RM         70.0     5600   Pave   NaN      Reg   \n",
       "725    726          20       RL         60.0     6960   Pave   NaN      Reg   \n",
       "733    734          20       RL         80.0    10000   Pave   NaN      Reg   \n",
       "760    761          20       RL         70.0     9100   Pave   NaN      Reg   \n",
       "766    767          60       RL         80.0    10421   Pave   NaN      Reg   \n",
       "767    768          50       RL         75.0    12508   Pave   NaN      IR1   \n",
       "786    787          50       RM         60.0    10800   Pave   NaN      Reg   \n",
       "794    795          60       RL          NaN    10832   Pave   NaN      IR1   \n",
       "800    801          60       RL         79.0    12798   Pave   NaN      IR1   \n",
       "812    813          20  C (all)         66.0     8712   Grvl   NaN      Reg   \n",
       "813    814          20       RL         75.0     9750   Pave   NaN      Reg   \n",
       "867    868          20       RL         85.0     6970   Pave   NaN      Reg   \n",
       "873    874          40       RL         60.0    12144   Pave   NaN      Reg   \n",
       "878    879          85       RL         88.0    11782   Pave   NaN      IR1   \n",
       "890    891          50       RL         60.0     8064   Pave   NaN      Reg   \n",
       "912    913          30       RM         51.0     6120   Pave   NaN      Reg   \n",
       "953    954          60       RL          NaN    11075   Pave   NaN      IR1   \n",
       "1061  1062          30  C (all)        120.0    18000   Grvl   NaN      Reg   \n",
       "1076  1077          50       RL         60.0    10800   Pave  Grvl      Reg   \n",
       "1083  1084          20       RL         80.0     8800   Pave   NaN      Reg   \n",
       "1171  1172          20       RL         76.0     9120   Pave   NaN      Reg   \n",
       "1200  1201          20       RL         71.0     9353   Pave   NaN      Reg   \n",
       "1210  1211          60       RL         70.0    11218   Pave   NaN      Reg   \n",
       "1230  1231          90       RL          NaN    18890   Pave   NaN      IR1   \n",
       "1252  1253          20       RL         62.0     9858   Pave   NaN      Reg   \n",
       "1328  1329          50       RM         60.0    10440   Pave  Grvl      Reg   \n",
       "1386  1387          60       RL         80.0    16692   Pave   NaN      IR1   \n",
       "1457  1458          70       RL         66.0     9042   Pave   NaN      Reg   \n",
       "\n",
       "     LandContour Utilities  ... PoolArea PoolQC  Fence MiscFeature MiscVal  \\\n",
       "5            Lvl    AllPub  ...        0    NaN  MnPrv        Shed     700   \n",
       "7            Lvl    AllPub  ...        0    NaN    NaN        Shed     350   \n",
       "16           Lvl    AllPub  ...        0    NaN    NaN        Shed     700   \n",
       "17           Lvl    AllPub  ...        0    NaN    NaN        Shed     500   \n",
       "51           Lvl    AllPub  ...        0    NaN  MnPrv        Shed     400   \n",
       "84           Lvl    AllPub  ...        0    NaN    NaN        Shed     700   \n",
       "95           Lvl    AllPub  ...        0    NaN    NaN        Shed     480   \n",
       "98           Lvl    AllPub  ...        0    NaN    NaN        Shed     400   \n",
       "99           Lvl    AllPub  ...        0    NaN    NaN        Shed     400   \n",
       "106          Lvl    AllPub  ...        0    NaN    NaN        Shed     450   \n",
       "214          Lvl    AllPub  ...        0    NaN  MnPrv        Shed     450   \n",
       "249          Low    AllPub  ...        0    NaN    NaN        Shed     500   \n",
       "250          Lvl    AllPub  ...        0    NaN   GdWo        Shed     450   \n",
       "335          HLS    AllPub  ...        0    NaN    NaN        Shed     700   \n",
       "338          Lvl    AllPub  ...        0    NaN    NaN        Shed     400   \n",
       "346          Lvl    AllPub  ...        0    NaN    NaN        Gar2   15500   \n",
       "392          Lvl    AllPub  ...        0    NaN  MnPrv        Shed    1200   \n",
       "439          Lvl    AllPub  ...        0    NaN  GdPrv        Shed     800   \n",
       "499          Lvl    AllPub  ...        0    NaN   MnWw        Shed     480   \n",
       "502          Lvl    AllPub  ...        0    NaN  GdPrv        Shed     400   \n",
       "510          Lvl    AllPub  ...        0    NaN    NaN        Shed    2000   \n",
       "539          Lvl    AllPub  ...        0    NaN  MnPrv        Shed    2000   \n",
       "589          Lvl    AllPub  ...        0    NaN    NaN        Shed     600   \n",
       "611          Lvl    AllPub  ...        0    NaN  MnPrv        Shed     500   \n",
       "626          Lvl    AllPub  ...        0    NaN   GdWo        Shed     600   \n",
       "634          Lvl    AllPub  ...        0    NaN  GdPrv        Shed     600   \n",
       "705          Lvl    AllPub  ...        0    NaN    NaN        Othr    3500   \n",
       "725          Lvl    AllPub  ...        0    NaN    NaN        Shed     500   \n",
       "733          Lvl    AllPub  ...        0    NaN   GdWo        Shed     400   \n",
       "760          Lvl    AllPub  ...        0    NaN    NaN        Shed     450   \n",
       "766          Lvl    AllPub  ...        0    NaN  MnPrv        Shed     500   \n",
       "767          Lvl    AllPub  ...        0    NaN    NaN        Shed    1300   \n",
       "786          Lvl    AllPub  ...        0    NaN    NaN        Shed    1200   \n",
       "794          Lvl    AllPub  ...        0    NaN    NaN        Shed     500   \n",
       "800          HLS    AllPub  ...        0    NaN    NaN        Shed     400   \n",
       "812          Bnk    AllPub  ...        0    NaN    NaN        Shed      54   \n",
       "813          Lvl    AllPub  ...        0    NaN    NaN        Shed     500   \n",
       "867          Lvl    AllPub  ...        0    NaN    NaN        Shed     400   \n",
       "873          Lvl    AllPub  ...        0    NaN    NaN        Othr       0   \n",
       "878          Lvl    AllPub  ...        0    NaN  MnPrv        Shed     400   \n",
       "890          Lvl    AllPub  ...        0    NaN  MnPrv        Shed    2000   \n",
       "912          Lvl    AllPub  ...        0    NaN  MnPrv        Shed     620   \n",
       "953          Lvl    AllPub  ...        0    NaN  MnPrv        Shed     400   \n",
       "1061         Low    AllPub  ...        0    NaN    NaN        Shed     560   \n",
       "1076         Lvl    AllPub  ...        0    NaN    NaN        Shed     500   \n",
       "1083         Lvl    AllPub  ...        0    NaN  MnPrv        Shed     700   \n",
       "1171         Lvl    AllPub  ...        0    NaN    NaN        Shed    1400   \n",
       "1200         Lvl    AllPub  ...        0    NaN    NaN        Shed       0   \n",
       "1210         Lvl    AllPub  ...        0    NaN  GdPrv        Shed     400   \n",
       "1230         Lvl    AllPub  ...        0    NaN    NaN        Gar2    8300   \n",
       "1252         Lvl    AllPub  ...        0    NaN   GdWo        Shed     600   \n",
       "1328         Lvl    AllPub  ...        0    NaN  MnPrv        Shed    1150   \n",
       "1386         Lvl    AllPub  ...      519     Fa  MnPrv        TenC    2000   \n",
       "1457         Lvl    AllPub  ...        0    NaN  GdPrv        Shed    2500   \n",
       "\n",
       "     MoSold YrSold  SaleType  SaleCondition  SalePrice  \n",
       "5        10   2009        WD         Normal     143000  \n",
       "7        11   2009        WD         Normal     200000  \n",
       "16        3   2010        WD         Normal     149000  \n",
       "17       10   2006        WD         Normal      90000  \n",
       "51        9   2006        WD         Normal     114500  \n",
       "84        5   2009        WD         Normal     168500  \n",
       "95        4   2009        WD         Normal     185000  \n",
       "98        5   2010       COD        Abnorml      83000  \n",
       "99        1   2010        WD         Normal     128950  \n",
       "106       8   2007        WD         Normal     100000  \n",
       "214       3   2010        WD         Normal     161750  \n",
       "249       6   2007        WD         Normal     277000  \n",
       "250       5   2010        WD         Normal      76500  \n",
       "335       8   2008        WD         Normal     228950  \n",
       "338       5   2006        WD         Normal     202500  \n",
       "346       4   2007        WD         Normal     151500  \n",
       "392       7   2007        WD         Normal     106500  \n",
       "439       8   2009     ConLI         Normal     110000  \n",
       "499       6   2007        WD         Normal     120000  \n",
       "502       4   2007        WD         Normal     140000  \n",
       "510       6   2009        WD         Normal     164900  \n",
       "539       5   2010        WD         Normal     272000  \n",
       "589       8   2008        WD         Normal      79500  \n",
       "611       7   2007        WD         Normal     148000  \n",
       "626       8   2007        WD         Normal     139900  \n",
       "634       6   2010        WD         Normal     144000  \n",
       "705       7   2010        WD         Normal      55000  \n",
       "725      11   2009        WD         Normal     120500  \n",
       "733       3   2009        WD         Normal     131400  \n",
       "760      10   2009        WD         Normal     127500  \n",
       "766       3   2010        WD         Normal     196500  \n",
       "767       7   2008        WD         Normal     160000  \n",
       "786       6   2010        WD         Normal     139000  \n",
       "794      10   2008        WD         Normal     194500  \n",
       "800       5   2008        WD         Normal     200000  \n",
       "812       6   2010        WD         Alloca      55993  \n",
       "813       4   2007       COD         Normal     157900  \n",
       "867       5   2007        WD         Normal     129000  \n",
       "873       9   2009        WD         Normal     133000  \n",
       "878       6   2010        WD         Normal     148000  \n",
       "890       7   2007        WD         Normal     122900  \n",
       "912       7   2006        WD        Abnorml      88000  \n",
       "953       9   2008        WD         Normal     172000  \n",
       "1061      8   2008     ConLD         Normal      81000  \n",
       "1076      4   2006        WD         Normal     170000  \n",
       "1083      3   2006        WD         Normal     160000  \n",
       "1171     11   2008        WD         Normal     163000  \n",
       "1200      7   2006       Oth        Abnorml     116050  \n",
       "1210      5   2010        WD         Normal     189000  \n",
       "1230      8   2007        WD         Normal     190000  \n",
       "1252     11   2009        WD         Normal     130000  \n",
       "1328      6   2008        WD         Normal     256000  \n",
       "1386      7   2006        WD         Normal     250000  \n",
       "1457      5   2010        WD         Normal     266500  \n",
       "\n",
       "[54 rows x 81 columns]"
      ],
      "text/html": "<div>\n<style scoped>\n    .dataframe tbody tr th:only-of-type {\n        vertical-align: middle;\n    }\n\n    .dataframe tbody tr th {\n        vertical-align: top;\n    }\n\n    .dataframe thead th {\n        text-align: right;\n    }\n</style>\n<table border=\"1\" class=\"dataframe\">\n  <thead>\n    <tr style=\"text-align: right;\">\n      <th></th>\n      <th>Id</th>\n      <th>MSSubClass</th>\n      <th>MSZoning</th>\n      <th>LotFrontage</th>\n      <th>LotArea</th>\n      <th>Street</th>\n      <th>Alley</th>\n      <th>LotShape</th>\n      <th>LandContour</th>\n      <th>Utilities</th>\n      <th>...</th>\n      <th>PoolArea</th>\n      <th>PoolQC</th>\n      <th>Fence</th>\n      <th>MiscFeature</th>\n      <th>MiscVal</th>\n      <th>MoSold</th>\n      <th>YrSold</th>\n      <th>SaleType</th>\n      <th>SaleCondition</th>\n      <th>SalePrice</th>\n    </tr>\n  </thead>\n  <tbody>\n    <tr>\n      <th>5</th>\n      <td>6</td>\n      <td>50</td>\n      <td>RL</td>\n      <td>85.0</td>\n      <td>14115</td>\n      <td>Pave</td>\n      <td>NaN</td>\n      <td>IR1</td>\n      <td>Lvl</td>\n      <td>AllPub</td>\n      <td>...</td>\n      <td>0</td>\n      <td>NaN</td>\n      <td>MnPrv</td>\n      <td>Shed</td>\n      <td>700</td>\n      <td>10</td>\n      <td>2009</td>\n      <td>WD</td>\n      <td>Normal</td>\n      <td>143000</td>\n    </tr>\n    <tr>\n      <th>7</th>\n      <td>8</td>\n      <td>60</td>\n      <td>RL</td>\n      <td>NaN</td>\n      <td>10382</td>\n      <td>Pave</td>\n      <td>NaN</td>\n      <td>IR1</td>\n      <td>Lvl</td>\n      <td>AllPub</td>\n      <td>...</td>\n      <td>0</td>\n      <td>NaN</td>\n      <td>NaN</td>\n      <td>Shed</td>\n      <td>350</td>\n      <td>11</td>\n      <td>2009</td>\n      <td>WD</td>\n      <td>Normal</td>\n      <td>200000</td>\n    </tr>\n    <tr>\n      <th>16</th>\n      <td>17</td>\n      <td>20</td>\n      <td>RL</td>\n      <td>NaN</td>\n      <td>11241</td>\n      <td>Pave</td>\n      <td>NaN</td>\n      <td>IR1</td>\n      <td>Lvl</td>\n      <td>AllPub</td>\n      <td>...</td>\n      <td>0</td>\n      <td>NaN</td>\n      <td>NaN</td>\n      <td>Shed</td>\n      <td>700</td>\n      <td>3</td>\n      <td>2010</td>\n      <td>WD</td>\n      <td>Normal</td>\n      <td>149000</td>\n    </tr>\n    <tr>\n      <th>17</th>\n      <td>18</td>\n      <td>90</td>\n      <td>RL</td>\n      <td>72.0</td>\n      <td>10791</td>\n      <td>Pave</td>\n      <td>NaN</td>\n      <td>Reg</td>\n      <td>Lvl</td>\n      <td>AllPub</td>\n      <td>...</td>\n      <td>0</td>\n      <td>NaN</td>\n      <td>NaN</td>\n      <td>Shed</td>\n      <td>500</td>\n      <td>10</td>\n      <td>2006</td>\n      <td>WD</td>\n      <td>Normal</td>\n      <td>90000</td>\n    </tr>\n    <tr>\n      <th>51</th>\n      <td>52</td>\n      <td>50</td>\n      <td>RM</td>\n      <td>52.0</td>\n      <td>6240</td>\n      <td>Pave</td>\n      <td>NaN</td>\n      <td>Reg</td>\n      <td>Lvl</td>\n      <td>AllPub</td>\n      <td>...</td>\n      <td>0</td>\n      <td>NaN</td>\n      <td>MnPrv</td>\n      <td>Shed</td>\n      <td>400</td>\n      <td>9</td>\n      <td>2006</td>\n      <td>WD</td>\n      <td>Normal</td>\n      <td>114500</td>\n    </tr>\n    <tr>\n      <th>84</th>\n      <td>85</td>\n      <td>80</td>\n      <td>RL</td>\n      <td>NaN</td>\n      <td>8530</td>\n      <td>Pave</td>\n      <td>NaN</td>\n      <td>IR1</td>\n      <td>Lvl</td>\n      <td>AllPub</td>\n      <td>...</td>\n      <td>0</td>\n      <td>NaN</td>\n      <td>NaN</td>\n      <td>Shed</td>\n      <td>700</td>\n      <td>5</td>\n      <td>2009</td>\n      <td>WD</td>\n      <td>Normal</td>\n      <td>168500</td>\n    </tr>\n    <tr>\n      <th>95</th>\n      <td>96</td>\n      <td>60</td>\n      <td>RL</td>\n      <td>NaN</td>\n      <td>9765</td>\n      <td>Pave</td>\n      <td>NaN</td>\n      <td>IR2</td>\n      <td>Lvl</td>\n      <td>AllPub</td>\n      <td>...</td>\n      <td>0</td>\n      <td>NaN</td>\n      <td>NaN</td>\n      <td>Shed</td>\n      <td>480</td>\n      <td>4</td>\n      <td>2009</td>\n      <td>WD</td>\n      <td>Normal</td>\n      <td>185000</td>\n    </tr>\n    <tr>\n      <th>98</th>\n      <td>99</td>\n      <td>30</td>\n      <td>RL</td>\n      <td>85.0</td>\n      <td>10625</td>\n      <td>Pave</td>\n      <td>NaN</td>\n      <td>Reg</td>\n      <td>Lvl</td>\n      <td>AllPub</td>\n      <td>...</td>\n      <td>0</td>\n      <td>NaN</td>\n      <td>NaN</td>\n      <td>Shed</td>\n      <td>400</td>\n      <td>5</td>\n      <td>2010</td>\n      <td>COD</td>\n      <td>Abnorml</td>\n      <td>83000</td>\n    </tr>\n    <tr>\n      <th>99</th>\n      <td>100</td>\n      <td>20</td>\n      <td>RL</td>\n      <td>77.0</td>\n      <td>9320</td>\n      <td>Pave</td>\n      <td>NaN</td>\n      <td>IR1</td>\n      <td>Lvl</td>\n      <td>AllPub</td>\n      <td>...</td>\n      <td>0</td>\n      <td>NaN</td>\n      <td>NaN</td>\n      <td>Shed</td>\n      <td>400</td>\n      <td>1</td>\n      <td>2010</td>\n      <td>WD</td>\n      <td>Normal</td>\n      <td>128950</td>\n    </tr>\n    <tr>\n      <th>106</th>\n      <td>107</td>\n      <td>30</td>\n      <td>RM</td>\n      <td>60.0</td>\n      <td>10800</td>\n      <td>Pave</td>\n      <td>Grvl</td>\n      <td>Reg</td>\n      <td>Lvl</td>\n      <td>AllPub</td>\n      <td>...</td>\n      <td>0</td>\n      <td>NaN</td>\n      <td>NaN</td>\n      <td>Shed</td>\n      <td>450</td>\n      <td>8</td>\n      <td>2007</td>\n      <td>WD</td>\n      <td>Normal</td>\n      <td>100000</td>\n    </tr>\n    <tr>\n      <th>214</th>\n      <td>215</td>\n      <td>60</td>\n      <td>RL</td>\n      <td>NaN</td>\n      <td>10900</td>\n      <td>Pave</td>\n      <td>NaN</td>\n      <td>IR1</td>\n      <td>Lvl</td>\n      <td>AllPub</td>\n      <td>...</td>\n      <td>0</td>\n      <td>NaN</td>\n      <td>MnPrv</td>\n      <td>Shed</td>\n      <td>450</td>\n      <td>3</td>\n      <td>2010</td>\n      <td>WD</td>\n      <td>Normal</td>\n      <td>161750</td>\n    </tr>\n    <tr>\n      <th>249</th>\n      <td>250</td>\n      <td>50</td>\n      <td>RL</td>\n      <td>NaN</td>\n      <td>159000</td>\n      <td>Pave</td>\n      <td>NaN</td>\n      <td>IR2</td>\n      <td>Low</td>\n      <td>AllPub</td>\n      <td>...</td>\n      <td>0</td>\n      <td>NaN</td>\n      <td>NaN</td>\n      <td>Shed</td>\n      <td>500</td>\n      <td>6</td>\n      <td>2007</td>\n      <td>WD</td>\n      <td>Normal</td>\n      <td>277000</td>\n    </tr>\n    <tr>\n      <th>250</th>\n      <td>251</td>\n      <td>30</td>\n      <td>RL</td>\n      <td>55.0</td>\n      <td>5350</td>\n      <td>Pave</td>\n      <td>NaN</td>\n      <td>IR1</td>\n      <td>Lvl</td>\n      <td>AllPub</td>\n      <td>...</td>\n      <td>0</td>\n      <td>NaN</td>\n      <td>GdWo</td>\n      <td>Shed</td>\n      <td>450</td>\n      <td>5</td>\n      <td>2010</td>\n      <td>WD</td>\n      <td>Normal</td>\n      <td>76500</td>\n    </tr>\n    <tr>\n      <th>335</th>\n      <td>336</td>\n      <td>190</td>\n      <td>RL</td>\n      <td>NaN</td>\n      <td>164660</td>\n      <td>Grvl</td>\n      <td>NaN</td>\n      <td>IR1</td>\n      <td>HLS</td>\n      <td>AllPub</td>\n      <td>...</td>\n      <td>0</td>\n      <td>NaN</td>\n      <td>NaN</td>\n      <td>Shed</td>\n      <td>700</td>\n      <td>8</td>\n      <td>2008</td>\n      <td>WD</td>\n      <td>Normal</td>\n      <td>228950</td>\n    </tr>\n    <tr>\n      <th>338</th>\n      <td>339</td>\n      <td>20</td>\n      <td>RL</td>\n      <td>91.0</td>\n      <td>14145</td>\n      <td>Pave</td>\n      <td>NaN</td>\n      <td>Reg</td>\n      <td>Lvl</td>\n      <td>AllPub</td>\n      <td>...</td>\n      <td>0</td>\n      <td>NaN</td>\n      <td>NaN</td>\n      <td>Shed</td>\n      <td>400</td>\n      <td>5</td>\n      <td>2006</td>\n      <td>WD</td>\n      <td>Normal</td>\n      <td>202500</td>\n    </tr>\n    <tr>\n      <th>346</th>\n      <td>347</td>\n      <td>20</td>\n      <td>RL</td>\n      <td>NaN</td>\n      <td>12772</td>\n      <td>Pave</td>\n      <td>NaN</td>\n      <td>IR1</td>\n      <td>Lvl</td>\n      <td>AllPub</td>\n      <td>...</td>\n      <td>0</td>\n      <td>NaN</td>\n      <td>NaN</td>\n      <td>Gar2</td>\n      <td>15500</td>\n      <td>4</td>\n      <td>2007</td>\n      <td>WD</td>\n      <td>Normal</td>\n      <td>151500</td>\n    </tr>\n    <tr>\n      <th>392</th>\n      <td>393</td>\n      <td>20</td>\n      <td>RL</td>\n      <td>NaN</td>\n      <td>8339</td>\n      <td>Pave</td>\n      <td>NaN</td>\n      <td>IR1</td>\n      <td>Lvl</td>\n      <td>AllPub</td>\n      <td>...</td>\n      <td>0</td>\n      <td>NaN</td>\n      <td>MnPrv</td>\n      <td>Shed</td>\n      <td>1200</td>\n      <td>7</td>\n      <td>2007</td>\n      <td>WD</td>\n      <td>Normal</td>\n      <td>106500</td>\n    </tr>\n    <tr>\n      <th>439</th>\n      <td>440</td>\n      <td>50</td>\n      <td>RL</td>\n      <td>67.0</td>\n      <td>12354</td>\n      <td>Pave</td>\n      <td>Grvl</td>\n      <td>Reg</td>\n      <td>Lvl</td>\n      <td>AllPub</td>\n      <td>...</td>\n      <td>0</td>\n      <td>NaN</td>\n      <td>GdPrv</td>\n      <td>Shed</td>\n      <td>800</td>\n      <td>8</td>\n      <td>2009</td>\n      <td>ConLI</td>\n      <td>Normal</td>\n      <td>110000</td>\n    </tr>\n    <tr>\n      <th>499</th>\n      <td>500</td>\n      <td>20</td>\n      <td>RL</td>\n      <td>70.0</td>\n      <td>7535</td>\n      <td>Pave</td>\n      <td>NaN</td>\n      <td>IR1</td>\n      <td>Lvl</td>\n      <td>AllPub</td>\n      <td>...</td>\n      <td>0</td>\n      <td>NaN</td>\n      <td>MnWw</td>\n      <td>Shed</td>\n      <td>480</td>\n      <td>6</td>\n      <td>2007</td>\n      <td>WD</td>\n      <td>Normal</td>\n      <td>120000</td>\n    </tr>\n    <tr>\n      <th>502</th>\n      <td>503</td>\n      <td>20</td>\n      <td>RL</td>\n      <td>70.0</td>\n      <td>9170</td>\n      <td>Pave</td>\n      <td>NaN</td>\n      <td>Reg</td>\n      <td>Lvl</td>\n      <td>AllPub</td>\n      <td>...</td>\n      <td>0</td>\n      <td>NaN</td>\n      <td>GdPrv</td>\n      <td>Shed</td>\n      <td>400</td>\n      <td>4</td>\n      <td>2007</td>\n      <td>WD</td>\n      <td>Normal</td>\n      <td>140000</td>\n    </tr>\n    <tr>\n      <th>510</th>\n      <td>511</td>\n      <td>20</td>\n      <td>RL</td>\n      <td>75.0</td>\n      <td>14559</td>\n      <td>Pave</td>\n      <td>NaN</td>\n      <td>Reg</td>\n      <td>Lvl</td>\n      <td>AllPub</td>\n      <td>...</td>\n      <td>0</td>\n      <td>NaN</td>\n      <td>NaN</td>\n      <td>Shed</td>\n      <td>2000</td>\n      <td>6</td>\n      <td>2009</td>\n      <td>WD</td>\n      <td>Normal</td>\n      <td>164900</td>\n    </tr>\n    <tr>\n      <th>539</th>\n      <td>540</td>\n      <td>20</td>\n      <td>RL</td>\n      <td>NaN</td>\n      <td>11423</td>\n      <td>Pave</td>\n      <td>NaN</td>\n      <td>Reg</td>\n      <td>Lvl</td>\n      <td>AllPub</td>\n      <td>...</td>\n      <td>0</td>\n      <td>NaN</td>\n      <td>MnPrv</td>\n      <td>Shed</td>\n      <td>2000</td>\n      <td>5</td>\n      <td>2010</td>\n      <td>WD</td>\n      <td>Normal</td>\n      <td>272000</td>\n    </tr>\n    <tr>\n      <th>589</th>\n      <td>590</td>\n      <td>40</td>\n      <td>RM</td>\n      <td>50.0</td>\n      <td>9100</td>\n      <td>Pave</td>\n      <td>NaN</td>\n      <td>Reg</td>\n      <td>Lvl</td>\n      <td>AllPub</td>\n      <td>...</td>\n      <td>0</td>\n      <td>NaN</td>\n      <td>NaN</td>\n      <td>Shed</td>\n      <td>600</td>\n      <td>8</td>\n      <td>2008</td>\n      <td>WD</td>\n      <td>Normal</td>\n      <td>79500</td>\n    </tr>\n    <tr>\n      <th>611</th>\n      <td>612</td>\n      <td>80</td>\n      <td>RL</td>\n      <td>NaN</td>\n      <td>10395</td>\n      <td>Pave</td>\n      <td>NaN</td>\n      <td>IR1</td>\n      <td>Lvl</td>\n      <td>AllPub</td>\n      <td>...</td>\n      <td>0</td>\n      <td>NaN</td>\n      <td>MnPrv</td>\n      <td>Shed</td>\n      <td>500</td>\n      <td>7</td>\n      <td>2007</td>\n      <td>WD</td>\n      <td>Normal</td>\n      <td>148000</td>\n    </tr>\n    <tr>\n      <th>626</th>\n      <td>627</td>\n      <td>20</td>\n      <td>RL</td>\n      <td>NaN</td>\n      <td>12342</td>\n      <td>Pave</td>\n      <td>NaN</td>\n      <td>IR1</td>\n      <td>Lvl</td>\n      <td>AllPub</td>\n      <td>...</td>\n      <td>0</td>\n      <td>NaN</td>\n      <td>GdWo</td>\n      <td>Shed</td>\n      <td>600</td>\n      <td>8</td>\n      <td>2007</td>\n      <td>WD</td>\n      <td>Normal</td>\n      <td>139900</td>\n    </tr>\n    <tr>\n      <th>634</th>\n      <td>635</td>\n      <td>90</td>\n      <td>RL</td>\n      <td>64.0</td>\n      <td>6979</td>\n      <td>Pave</td>\n      <td>NaN</td>\n      <td>Reg</td>\n      <td>Lvl</td>\n      <td>AllPub</td>\n      <td>...</td>\n      <td>0</td>\n      <td>NaN</td>\n      <td>GdPrv</td>\n      <td>Shed</td>\n      <td>600</td>\n      <td>6</td>\n      <td>2010</td>\n      <td>WD</td>\n      <td>Normal</td>\n      <td>144000</td>\n    </tr>\n    <tr>\n      <th>705</th>\n      <td>706</td>\n      <td>190</td>\n      <td>RM</td>\n      <td>70.0</td>\n      <td>5600</td>\n      <td>Pave</td>\n      <td>NaN</td>\n      <td>Reg</td>\n      <td>Lvl</td>\n      <td>AllPub</td>\n      <td>...</td>\n      <td>0</td>\n      <td>NaN</td>\n      <td>NaN</td>\n      <td>Othr</td>\n      <td>3500</td>\n      <td>7</td>\n      <td>2010</td>\n      <td>WD</td>\n      <td>Normal</td>\n      <td>55000</td>\n    </tr>\n    <tr>\n      <th>725</th>\n      <td>726</td>\n      <td>20</td>\n      <td>RL</td>\n      <td>60.0</td>\n      <td>6960</td>\n      <td>Pave</td>\n      <td>NaN</td>\n      <td>Reg</td>\n      <td>Lvl</td>\n      <td>AllPub</td>\n      <td>...</td>\n      <td>0</td>\n      <td>NaN</td>\n      <td>NaN</td>\n      <td>Shed</td>\n      <td>500</td>\n      <td>11</td>\n      <td>2009</td>\n      <td>WD</td>\n      <td>Normal</td>\n      <td>120500</td>\n    </tr>\n    <tr>\n      <th>733</th>\n      <td>734</td>\n      <td>20</td>\n      <td>RL</td>\n      <td>80.0</td>\n      <td>10000</td>\n      <td>Pave</td>\n      <td>NaN</td>\n      <td>Reg</td>\n      <td>Lvl</td>\n      <td>AllPub</td>\n      <td>...</td>\n      <td>0</td>\n      <td>NaN</td>\n      <td>GdWo</td>\n      <td>Shed</td>\n      <td>400</td>\n      <td>3</td>\n      <td>2009</td>\n      <td>WD</td>\n      <td>Normal</td>\n      <td>131400</td>\n    </tr>\n    <tr>\n      <th>760</th>\n      <td>761</td>\n      <td>20</td>\n      <td>RL</td>\n      <td>70.0</td>\n      <td>9100</td>\n      <td>Pave</td>\n      <td>NaN</td>\n      <td>Reg</td>\n      <td>Lvl</td>\n      <td>AllPub</td>\n      <td>...</td>\n      <td>0</td>\n      <td>NaN</td>\n      <td>NaN</td>\n      <td>Shed</td>\n      <td>450</td>\n      <td>10</td>\n      <td>2009</td>\n      <td>WD</td>\n      <td>Normal</td>\n      <td>127500</td>\n    </tr>\n    <tr>\n      <th>766</th>\n      <td>767</td>\n      <td>60</td>\n      <td>RL</td>\n      <td>80.0</td>\n      <td>10421</td>\n      <td>Pave</td>\n      <td>NaN</td>\n      <td>Reg</td>\n      <td>Lvl</td>\n      <td>AllPub</td>\n      <td>...</td>\n      <td>0</td>\n      <td>NaN</td>\n      <td>MnPrv</td>\n      <td>Shed</td>\n      <td>500</td>\n      <td>3</td>\n      <td>2010</td>\n      <td>WD</td>\n      <td>Normal</td>\n      <td>196500</td>\n    </tr>\n    <tr>\n      <th>767</th>\n      <td>768</td>\n      <td>50</td>\n      <td>RL</td>\n      <td>75.0</td>\n      <td>12508</td>\n      <td>Pave</td>\n      <td>NaN</td>\n      <td>IR1</td>\n      <td>Lvl</td>\n      <td>AllPub</td>\n      <td>...</td>\n      <td>0</td>\n      <td>NaN</td>\n      <td>NaN</td>\n      <td>Shed</td>\n      <td>1300</td>\n      <td>7</td>\n      <td>2008</td>\n      <td>WD</td>\n      <td>Normal</td>\n      <td>160000</td>\n    </tr>\n    <tr>\n      <th>786</th>\n      <td>787</td>\n      <td>50</td>\n      <td>RM</td>\n      <td>60.0</td>\n      <td>10800</td>\n      <td>Pave</td>\n      <td>NaN</td>\n      <td>Reg</td>\n      <td>Lvl</td>\n      <td>AllPub</td>\n      <td>...</td>\n      <td>0</td>\n      <td>NaN</td>\n      <td>NaN</td>\n      <td>Shed</td>\n      <td>1200</td>\n      <td>6</td>\n      <td>2010</td>\n      <td>WD</td>\n      <td>Normal</td>\n      <td>139000</td>\n    </tr>\n    <tr>\n      <th>794</th>\n      <td>795</td>\n      <td>60</td>\n      <td>RL</td>\n      <td>NaN</td>\n      <td>10832</td>\n      <td>Pave</td>\n      <td>NaN</td>\n      <td>IR1</td>\n      <td>Lvl</td>\n      <td>AllPub</td>\n      <td>...</td>\n      <td>0</td>\n      <td>NaN</td>\n      <td>NaN</td>\n      <td>Shed</td>\n      <td>500</td>\n      <td>10</td>\n      <td>2008</td>\n      <td>WD</td>\n      <td>Normal</td>\n      <td>194500</td>\n    </tr>\n    <tr>\n      <th>800</th>\n      <td>801</td>\n      <td>60</td>\n      <td>RL</td>\n      <td>79.0</td>\n      <td>12798</td>\n      <td>Pave</td>\n      <td>NaN</td>\n      <td>IR1</td>\n      <td>HLS</td>\n      <td>AllPub</td>\n      <td>...</td>\n      <td>0</td>\n      <td>NaN</td>\n      <td>NaN</td>\n      <td>Shed</td>\n      <td>400</td>\n      <td>5</td>\n      <td>2008</td>\n      <td>WD</td>\n      <td>Normal</td>\n      <td>200000</td>\n    </tr>\n    <tr>\n      <th>812</th>\n      <td>813</td>\n      <td>20</td>\n      <td>C (all)</td>\n      <td>66.0</td>\n      <td>8712</td>\n      <td>Grvl</td>\n      <td>NaN</td>\n      <td>Reg</td>\n      <td>Bnk</td>\n      <td>AllPub</td>\n      <td>...</td>\n      <td>0</td>\n      <td>NaN</td>\n      <td>NaN</td>\n      <td>Shed</td>\n      <td>54</td>\n      <td>6</td>\n      <td>2010</td>\n      <td>WD</td>\n      <td>Alloca</td>\n      <td>55993</td>\n    </tr>\n    <tr>\n      <th>813</th>\n      <td>814</td>\n      <td>20</td>\n      <td>RL</td>\n      <td>75.0</td>\n      <td>9750</td>\n      <td>Pave</td>\n      <td>NaN</td>\n      <td>Reg</td>\n      <td>Lvl</td>\n      <td>AllPub</td>\n      <td>...</td>\n      <td>0</td>\n      <td>NaN</td>\n      <td>NaN</td>\n      <td>Shed</td>\n      <td>500</td>\n      <td>4</td>\n      <td>2007</td>\n      <td>COD</td>\n      <td>Normal</td>\n      <td>157900</td>\n    </tr>\n    <tr>\n      <th>867</th>\n      <td>868</td>\n      <td>20</td>\n      <td>RL</td>\n      <td>85.0</td>\n      <td>6970</td>\n      <td>Pave</td>\n      <td>NaN</td>\n      <td>Reg</td>\n      <td>Lvl</td>\n      <td>AllPub</td>\n      <td>...</td>\n      <td>0</td>\n      <td>NaN</td>\n      <td>NaN</td>\n      <td>Shed</td>\n      <td>400</td>\n      <td>5</td>\n      <td>2007</td>\n      <td>WD</td>\n      <td>Normal</td>\n      <td>129000</td>\n    </tr>\n    <tr>\n      <th>873</th>\n      <td>874</td>\n      <td>40</td>\n      <td>RL</td>\n      <td>60.0</td>\n      <td>12144</td>\n      <td>Pave</td>\n      <td>NaN</td>\n      <td>Reg</td>\n      <td>Lvl</td>\n      <td>AllPub</td>\n      <td>...</td>\n      <td>0</td>\n      <td>NaN</td>\n      <td>NaN</td>\n      <td>Othr</td>\n      <td>0</td>\n      <td>9</td>\n      <td>2009</td>\n      <td>WD</td>\n      <td>Normal</td>\n      <td>133000</td>\n    </tr>\n    <tr>\n      <th>878</th>\n      <td>879</td>\n      <td>85</td>\n      <td>RL</td>\n      <td>88.0</td>\n      <td>11782</td>\n      <td>Pave</td>\n      <td>NaN</td>\n      <td>IR1</td>\n      <td>Lvl</td>\n      <td>AllPub</td>\n      <td>...</td>\n      <td>0</td>\n      <td>NaN</td>\n      <td>MnPrv</td>\n      <td>Shed</td>\n      <td>400</td>\n      <td>6</td>\n      <td>2010</td>\n      <td>WD</td>\n      <td>Normal</td>\n      <td>148000</td>\n    </tr>\n    <tr>\n      <th>890</th>\n      <td>891</td>\n      <td>50</td>\n      <td>RL</td>\n      <td>60.0</td>\n      <td>8064</td>\n      <td>Pave</td>\n      <td>NaN</td>\n      <td>Reg</td>\n      <td>Lvl</td>\n      <td>AllPub</td>\n      <td>...</td>\n      <td>0</td>\n      <td>NaN</td>\n      <td>MnPrv</td>\n      <td>Shed</td>\n      <td>2000</td>\n      <td>7</td>\n      <td>2007</td>\n      <td>WD</td>\n      <td>Normal</td>\n      <td>122900</td>\n    </tr>\n    <tr>\n      <th>912</th>\n      <td>913</td>\n      <td>30</td>\n      <td>RM</td>\n      <td>51.0</td>\n      <td>6120</td>\n      <td>Pave</td>\n      <td>NaN</td>\n      <td>Reg</td>\n      <td>Lvl</td>\n      <td>AllPub</td>\n      <td>...</td>\n      <td>0</td>\n      <td>NaN</td>\n      <td>MnPrv</td>\n      <td>Shed</td>\n      <td>620</td>\n      <td>7</td>\n      <td>2006</td>\n      <td>WD</td>\n      <td>Abnorml</td>\n      <td>88000</td>\n    </tr>\n    <tr>\n      <th>953</th>\n      <td>954</td>\n      <td>60</td>\n      <td>RL</td>\n      <td>NaN</td>\n      <td>11075</td>\n      <td>Pave</td>\n      <td>NaN</td>\n      <td>IR1</td>\n      <td>Lvl</td>\n      <td>AllPub</td>\n      <td>...</td>\n      <td>0</td>\n      <td>NaN</td>\n      <td>MnPrv</td>\n      <td>Shed</td>\n      <td>400</td>\n      <td>9</td>\n      <td>2008</td>\n      <td>WD</td>\n      <td>Normal</td>\n      <td>172000</td>\n    </tr>\n    <tr>\n      <th>1061</th>\n      <td>1062</td>\n      <td>30</td>\n      <td>C (all)</td>\n      <td>120.0</td>\n      <td>18000</td>\n      <td>Grvl</td>\n      <td>NaN</td>\n      <td>Reg</td>\n      <td>Low</td>\n      <td>AllPub</td>\n      <td>...</td>\n      <td>0</td>\n      <td>NaN</td>\n      <td>NaN</td>\n      <td>Shed</td>\n      <td>560</td>\n      <td>8</td>\n      <td>2008</td>\n      <td>ConLD</td>\n      <td>Normal</td>\n      <td>81000</td>\n    </tr>\n    <tr>\n      <th>1076</th>\n      <td>1077</td>\n      <td>50</td>\n      <td>RL</td>\n      <td>60.0</td>\n      <td>10800</td>\n      <td>Pave</td>\n      <td>Grvl</td>\n      <td>Reg</td>\n      <td>Lvl</td>\n      <td>AllPub</td>\n      <td>...</td>\n      <td>0</td>\n      <td>NaN</td>\n      <td>NaN</td>\n      <td>Shed</td>\n      <td>500</td>\n      <td>4</td>\n      <td>2006</td>\n      <td>WD</td>\n      <td>Normal</td>\n      <td>170000</td>\n    </tr>\n    <tr>\n      <th>1083</th>\n      <td>1084</td>\n      <td>20</td>\n      <td>RL</td>\n      <td>80.0</td>\n      <td>8800</td>\n      <td>Pave</td>\n      <td>NaN</td>\n      <td>Reg</td>\n      <td>Lvl</td>\n      <td>AllPub</td>\n      <td>...</td>\n      <td>0</td>\n      <td>NaN</td>\n      <td>MnPrv</td>\n      <td>Shed</td>\n      <td>700</td>\n      <td>3</td>\n      <td>2006</td>\n      <td>WD</td>\n      <td>Normal</td>\n      <td>160000</td>\n    </tr>\n    <tr>\n      <th>1171</th>\n      <td>1172</td>\n      <td>20</td>\n      <td>RL</td>\n      <td>76.0</td>\n      <td>9120</td>\n      <td>Pave</td>\n      <td>NaN</td>\n      <td>Reg</td>\n      <td>Lvl</td>\n      <td>AllPub</td>\n      <td>...</td>\n      <td>0</td>\n      <td>NaN</td>\n      <td>NaN</td>\n      <td>Shed</td>\n      <td>1400</td>\n      <td>11</td>\n      <td>2008</td>\n      <td>WD</td>\n      <td>Normal</td>\n      <td>163000</td>\n    </tr>\n    <tr>\n      <th>1200</th>\n      <td>1201</td>\n      <td>20</td>\n      <td>RL</td>\n      <td>71.0</td>\n      <td>9353</td>\n      <td>Pave</td>\n      <td>NaN</td>\n      <td>Reg</td>\n      <td>Lvl</td>\n      <td>AllPub</td>\n      <td>...</td>\n      <td>0</td>\n      <td>NaN</td>\n      <td>NaN</td>\n      <td>Shed</td>\n      <td>0</td>\n      <td>7</td>\n      <td>2006</td>\n      <td>Oth</td>\n      <td>Abnorml</td>\n      <td>116050</td>\n    </tr>\n    <tr>\n      <th>1210</th>\n      <td>1211</td>\n      <td>60</td>\n      <td>RL</td>\n      <td>70.0</td>\n      <td>11218</td>\n      <td>Pave</td>\n      <td>NaN</td>\n      <td>Reg</td>\n      <td>Lvl</td>\n      <td>AllPub</td>\n      <td>...</td>\n      <td>0</td>\n      <td>NaN</td>\n      <td>GdPrv</td>\n      <td>Shed</td>\n      <td>400</td>\n      <td>5</td>\n      <td>2010</td>\n      <td>WD</td>\n      <td>Normal</td>\n      <td>189000</td>\n    </tr>\n    <tr>\n      <th>1230</th>\n      <td>1231</td>\n      <td>90</td>\n      <td>RL</td>\n      <td>NaN</td>\n      <td>18890</td>\n      <td>Pave</td>\n      <td>NaN</td>\n      <td>IR1</td>\n      <td>Lvl</td>\n      <td>AllPub</td>\n      <td>...</td>\n      <td>0</td>\n      <td>NaN</td>\n      <td>NaN</td>\n      <td>Gar2</td>\n      <td>8300</td>\n      <td>8</td>\n      <td>2007</td>\n      <td>WD</td>\n      <td>Normal</td>\n      <td>190000</td>\n    </tr>\n    <tr>\n      <th>1252</th>\n      <td>1253</td>\n      <td>20</td>\n      <td>RL</td>\n      <td>62.0</td>\n      <td>9858</td>\n      <td>Pave</td>\n      <td>NaN</td>\n      <td>Reg</td>\n      <td>Lvl</td>\n      <td>AllPub</td>\n      <td>...</td>\n      <td>0</td>\n      <td>NaN</td>\n      <td>GdWo</td>\n      <td>Shed</td>\n      <td>600</td>\n      <td>11</td>\n      <td>2009</td>\n      <td>WD</td>\n      <td>Normal</td>\n      <td>130000</td>\n    </tr>\n    <tr>\n      <th>1328</th>\n      <td>1329</td>\n      <td>50</td>\n      <td>RM</td>\n      <td>60.0</td>\n      <td>10440</td>\n      <td>Pave</td>\n      <td>Grvl</td>\n      <td>Reg</td>\n      <td>Lvl</td>\n      <td>AllPub</td>\n      <td>...</td>\n      <td>0</td>\n      <td>NaN</td>\n      <td>MnPrv</td>\n      <td>Shed</td>\n      <td>1150</td>\n      <td>6</td>\n      <td>2008</td>\n      <td>WD</td>\n      <td>Normal</td>\n      <td>256000</td>\n    </tr>\n    <tr>\n      <th>1386</th>\n      <td>1387</td>\n      <td>60</td>\n      <td>RL</td>\n      <td>80.0</td>\n      <td>16692</td>\n      <td>Pave</td>\n      <td>NaN</td>\n      <td>IR1</td>\n      <td>Lvl</td>\n      <td>AllPub</td>\n      <td>...</td>\n      <td>519</td>\n      <td>Fa</td>\n      <td>MnPrv</td>\n      <td>TenC</td>\n      <td>2000</td>\n      <td>7</td>\n      <td>2006</td>\n      <td>WD</td>\n      <td>Normal</td>\n      <td>250000</td>\n    </tr>\n    <tr>\n      <th>1457</th>\n      <td>1458</td>\n      <td>70</td>\n      <td>RL</td>\n      <td>66.0</td>\n      <td>9042</td>\n      <td>Pave</td>\n      <td>NaN</td>\n      <td>Reg</td>\n      <td>Lvl</td>\n      <td>AllPub</td>\n      <td>...</td>\n      <td>0</td>\n      <td>NaN</td>\n      <td>GdPrv</td>\n      <td>Shed</td>\n      <td>2500</td>\n      <td>5</td>\n      <td>2010</td>\n      <td>WD</td>\n      <td>Normal</td>\n      <td>266500</td>\n    </tr>\n  </tbody>\n</table>\n<p>54 rows × 81 columns</p>\n</div>"
     },
     "metadata": {},
     "execution_count": 5
    }
   ],
   "source": [
    "df3[df3.MiscFeature.notnull()]"
   ]
  },
  {
   "cell_type": "code",
   "execution_count": 6,
   "metadata": {},
   "outputs": [
    {
     "output_type": "execute_result",
     "data": {
      "text/plain": [
       "        Id  MSSubClass MSZoning  LotFrontage  LotArea Street Alley LotShape  \\\n",
       "197    198          75       RL        174.0    25419   Pave   NaN      Reg   \n",
       "810    811          20       RL         78.0    10140   Pave   NaN      Reg   \n",
       "1170  1171          80       RL         76.0     9880   Pave   NaN      Reg   \n",
       "1182  1183          60       RL        160.0    15623   Pave   NaN      IR1   \n",
       "1298  1299          60       RL        313.0    63887   Pave   NaN      IR3   \n",
       "1386  1387          60       RL         80.0    16692   Pave   NaN      IR1   \n",
       "1423  1424          80       RL          NaN    19690   Pave   NaN      IR1   \n",
       "\n",
       "     LandContour Utilities  ... PoolArea PoolQC  Fence MiscFeature MiscVal  \\\n",
       "197          Lvl    AllPub  ...      512     Ex  GdPrv         NaN       0   \n",
       "810          Lvl    AllPub  ...      648     Fa  GdPrv         NaN       0   \n",
       "1170         Lvl    AllPub  ...      576     Gd  GdPrv         NaN       0   \n",
       "1182         Lvl    AllPub  ...      555     Ex  MnPrv         NaN       0   \n",
       "1298         Bnk    AllPub  ...      480     Gd    NaN         NaN       0   \n",
       "1386         Lvl    AllPub  ...      519     Fa  MnPrv        TenC    2000   \n",
       "1423         Lvl    AllPub  ...      738     Gd  GdPrv         NaN       0   \n",
       "\n",
       "     MoSold YrSold  SaleType  SaleCondition  SalePrice  \n",
       "197       3   2006        WD        Abnorml     235000  \n",
       "810       1   2006        WD         Normal     181000  \n",
       "1170      7   2008        WD         Normal     171000  \n",
       "1182      7   2007        WD        Abnorml     745000  \n",
       "1298      1   2008       New        Partial     160000  \n",
       "1386      7   2006        WD         Normal     250000  \n",
       "1423      8   2006        WD         Alloca     274970  \n",
       "\n",
       "[7 rows x 81 columns]"
      ],
      "text/html": "<div>\n<style scoped>\n    .dataframe tbody tr th:only-of-type {\n        vertical-align: middle;\n    }\n\n    .dataframe tbody tr th {\n        vertical-align: top;\n    }\n\n    .dataframe thead th {\n        text-align: right;\n    }\n</style>\n<table border=\"1\" class=\"dataframe\">\n  <thead>\n    <tr style=\"text-align: right;\">\n      <th></th>\n      <th>Id</th>\n      <th>MSSubClass</th>\n      <th>MSZoning</th>\n      <th>LotFrontage</th>\n      <th>LotArea</th>\n      <th>Street</th>\n      <th>Alley</th>\n      <th>LotShape</th>\n      <th>LandContour</th>\n      <th>Utilities</th>\n      <th>...</th>\n      <th>PoolArea</th>\n      <th>PoolQC</th>\n      <th>Fence</th>\n      <th>MiscFeature</th>\n      <th>MiscVal</th>\n      <th>MoSold</th>\n      <th>YrSold</th>\n      <th>SaleType</th>\n      <th>SaleCondition</th>\n      <th>SalePrice</th>\n    </tr>\n  </thead>\n  <tbody>\n    <tr>\n      <th>197</th>\n      <td>198</td>\n      <td>75</td>\n      <td>RL</td>\n      <td>174.0</td>\n      <td>25419</td>\n      <td>Pave</td>\n      <td>NaN</td>\n      <td>Reg</td>\n      <td>Lvl</td>\n      <td>AllPub</td>\n      <td>...</td>\n      <td>512</td>\n      <td>Ex</td>\n      <td>GdPrv</td>\n      <td>NaN</td>\n      <td>0</td>\n      <td>3</td>\n      <td>2006</td>\n      <td>WD</td>\n      <td>Abnorml</td>\n      <td>235000</td>\n    </tr>\n    <tr>\n      <th>810</th>\n      <td>811</td>\n      <td>20</td>\n      <td>RL</td>\n      <td>78.0</td>\n      <td>10140</td>\n      <td>Pave</td>\n      <td>NaN</td>\n      <td>Reg</td>\n      <td>Lvl</td>\n      <td>AllPub</td>\n      <td>...</td>\n      <td>648</td>\n      <td>Fa</td>\n      <td>GdPrv</td>\n      <td>NaN</td>\n      <td>0</td>\n      <td>1</td>\n      <td>2006</td>\n      <td>WD</td>\n      <td>Normal</td>\n      <td>181000</td>\n    </tr>\n    <tr>\n      <th>1170</th>\n      <td>1171</td>\n      <td>80</td>\n      <td>RL</td>\n      <td>76.0</td>\n      <td>9880</td>\n      <td>Pave</td>\n      <td>NaN</td>\n      <td>Reg</td>\n      <td>Lvl</td>\n      <td>AllPub</td>\n      <td>...</td>\n      <td>576</td>\n      <td>Gd</td>\n      <td>GdPrv</td>\n      <td>NaN</td>\n      <td>0</td>\n      <td>7</td>\n      <td>2008</td>\n      <td>WD</td>\n      <td>Normal</td>\n      <td>171000</td>\n    </tr>\n    <tr>\n      <th>1182</th>\n      <td>1183</td>\n      <td>60</td>\n      <td>RL</td>\n      <td>160.0</td>\n      <td>15623</td>\n      <td>Pave</td>\n      <td>NaN</td>\n      <td>IR1</td>\n      <td>Lvl</td>\n      <td>AllPub</td>\n      <td>...</td>\n      <td>555</td>\n      <td>Ex</td>\n      <td>MnPrv</td>\n      <td>NaN</td>\n      <td>0</td>\n      <td>7</td>\n      <td>2007</td>\n      <td>WD</td>\n      <td>Abnorml</td>\n      <td>745000</td>\n    </tr>\n    <tr>\n      <th>1298</th>\n      <td>1299</td>\n      <td>60</td>\n      <td>RL</td>\n      <td>313.0</td>\n      <td>63887</td>\n      <td>Pave</td>\n      <td>NaN</td>\n      <td>IR3</td>\n      <td>Bnk</td>\n      <td>AllPub</td>\n      <td>...</td>\n      <td>480</td>\n      <td>Gd</td>\n      <td>NaN</td>\n      <td>NaN</td>\n      <td>0</td>\n      <td>1</td>\n      <td>2008</td>\n      <td>New</td>\n      <td>Partial</td>\n      <td>160000</td>\n    </tr>\n    <tr>\n      <th>1386</th>\n      <td>1387</td>\n      <td>60</td>\n      <td>RL</td>\n      <td>80.0</td>\n      <td>16692</td>\n      <td>Pave</td>\n      <td>NaN</td>\n      <td>IR1</td>\n      <td>Lvl</td>\n      <td>AllPub</td>\n      <td>...</td>\n      <td>519</td>\n      <td>Fa</td>\n      <td>MnPrv</td>\n      <td>TenC</td>\n      <td>2000</td>\n      <td>7</td>\n      <td>2006</td>\n      <td>WD</td>\n      <td>Normal</td>\n      <td>250000</td>\n    </tr>\n    <tr>\n      <th>1423</th>\n      <td>1424</td>\n      <td>80</td>\n      <td>RL</td>\n      <td>NaN</td>\n      <td>19690</td>\n      <td>Pave</td>\n      <td>NaN</td>\n      <td>IR1</td>\n      <td>Lvl</td>\n      <td>AllPub</td>\n      <td>...</td>\n      <td>738</td>\n      <td>Gd</td>\n      <td>GdPrv</td>\n      <td>NaN</td>\n      <td>0</td>\n      <td>8</td>\n      <td>2006</td>\n      <td>WD</td>\n      <td>Alloca</td>\n      <td>274970</td>\n    </tr>\n  </tbody>\n</table>\n<p>7 rows × 81 columns</p>\n</div>"
     },
     "metadata": {},
     "execution_count": 6
    }
   ],
   "source": [
    "df3[df3.PoolQC.notnull()]"
   ]
  },
  {
   "cell_type": "code",
   "execution_count": null,
   "metadata": {},
   "outputs": [],
   "source": []
  }
 ]
}