{
 "metadata": {
  "language_info": {
   "codemirror_mode": {
    "name": "ipython",
    "version": 3
   },
   "file_extension": ".py",
   "mimetype": "text/x-python",
   "name": "python",
   "nbconvert_exporter": "python",
   "pygments_lexer": "ipython3",
   "version": "3.9.0-final"
  },
  "orig_nbformat": 2,
  "kernelspec": {
   "name": "python390jvsc74a57bd043a9cd95aa030499ef934e4da31e07dde54f3fc3a1fd0cc4aeef7f16459ee2ac",
   "display_name": "Python 3.9.0 64-bit"
  }
 },
 "nbformat": 4,
 "nbformat_minor": 2,
 "cells": [
  {
   "cell_type": "code",
   "execution_count": 1,
   "metadata": {},
   "outputs": [],
   "source": [
    "import pandas as pd \n",
    "import numpy as np \n",
    "import matplotlib.pyplot as plt \n",
    "import seaborn as sns"
   ]
  },
  {
   "cell_type": "code",
   "execution_count": 2,
   "metadata": {},
   "outputs": [],
   "source": [
    "df1 = pd.read_csv(\"sample_submission.csv\")\n",
    "df2 = pd.read_csv(\"test.csv\")\n",
    "df3 = pd.read_csv(\"train.csv\")"
   ]
  },
  {
   "cell_type": "code",
   "execution_count": 3,
   "metadata": {},
   "outputs": [
    {
     "output_type": "execute_result",
     "data": {
      "text/plain": [
       "     Id      SalePrice\n",
       "0  1461  169277.052498\n",
       "1  1462  187758.393989\n",
       "2  1463  183583.683570\n",
       "3  1464  179317.477511\n",
       "4  1465  150730.079977"
      ],
      "text/html": "<div>\n<style scoped>\n    .dataframe tbody tr th:only-of-type {\n        vertical-align: middle;\n    }\n\n    .dataframe tbody tr th {\n        vertical-align: top;\n    }\n\n    .dataframe thead th {\n        text-align: right;\n    }\n</style>\n<table border=\"1\" class=\"dataframe\">\n  <thead>\n    <tr style=\"text-align: right;\">\n      <th></th>\n      <th>Id</th>\n      <th>SalePrice</th>\n    </tr>\n  </thead>\n  <tbody>\n    <tr>\n      <th>0</th>\n      <td>1461</td>\n      <td>169277.052498</td>\n    </tr>\n    <tr>\n      <th>1</th>\n      <td>1462</td>\n      <td>187758.393989</td>\n    </tr>\n    <tr>\n      <th>2</th>\n      <td>1463</td>\n      <td>183583.683570</td>\n    </tr>\n    <tr>\n      <th>3</th>\n      <td>1464</td>\n      <td>179317.477511</td>\n    </tr>\n    <tr>\n      <th>4</th>\n      <td>1465</td>\n      <td>150730.079977</td>\n    </tr>\n  </tbody>\n</table>\n</div>"
     },
     "metadata": {},
     "execution_count": 3
    }
   ],
   "source": [
    "df1.head()"
   ]
  },
  {
   "cell_type": "code",
   "execution_count": 5,
   "metadata": {},
   "outputs": [
    {
     "output_type": "execute_result",
     "data": {
      "text/plain": [
       "     Id  MSSubClass MSZoning  LotFrontage  LotArea Street Alley LotShape  \\\n",
       "0  1461          20       RH         80.0    11622   Pave   NaN      Reg   \n",
       "1  1462          20       RL         81.0    14267   Pave   NaN      IR1   \n",
       "2  1463          60       RL         74.0    13830   Pave   NaN      IR1   \n",
       "3  1464          60       RL         78.0     9978   Pave   NaN      IR1   \n",
       "4  1465         120       RL         43.0     5005   Pave   NaN      IR1   \n",
       "\n",
       "  LandContour Utilities  ... ScreenPorch PoolArea PoolQC  Fence MiscFeature  \\\n",
       "0         Lvl    AllPub  ...         120        0    NaN  MnPrv         NaN   \n",
       "1         Lvl    AllPub  ...           0        0    NaN    NaN        Gar2   \n",
       "2         Lvl    AllPub  ...           0        0    NaN  MnPrv         NaN   \n",
       "3         Lvl    AllPub  ...           0        0    NaN    NaN         NaN   \n",
       "4         HLS    AllPub  ...         144        0    NaN    NaN         NaN   \n",
       "\n",
       "  MiscVal MoSold  YrSold  SaleType  SaleCondition  \n",
       "0       0      6    2010        WD         Normal  \n",
       "1   12500      6    2010        WD         Normal  \n",
       "2       0      3    2010        WD         Normal  \n",
       "3       0      6    2010        WD         Normal  \n",
       "4       0      1    2010        WD         Normal  \n",
       "\n",
       "[5 rows x 80 columns]"
      ],
      "text/html": "<div>\n<style scoped>\n    .dataframe tbody tr th:only-of-type {\n        vertical-align: middle;\n    }\n\n    .dataframe tbody tr th {\n        vertical-align: top;\n    }\n\n    .dataframe thead th {\n        text-align: right;\n    }\n</style>\n<table border=\"1\" class=\"dataframe\">\n  <thead>\n    <tr style=\"text-align: right;\">\n      <th></th>\n      <th>Id</th>\n      <th>MSSubClass</th>\n      <th>MSZoning</th>\n      <th>LotFrontage</th>\n      <th>LotArea</th>\n      <th>Street</th>\n      <th>Alley</th>\n      <th>LotShape</th>\n      <th>LandContour</th>\n      <th>Utilities</th>\n      <th>...</th>\n      <th>ScreenPorch</th>\n      <th>PoolArea</th>\n      <th>PoolQC</th>\n      <th>Fence</th>\n      <th>MiscFeature</th>\n      <th>MiscVal</th>\n      <th>MoSold</th>\n      <th>YrSold</th>\n      <th>SaleType</th>\n      <th>SaleCondition</th>\n    </tr>\n  </thead>\n  <tbody>\n    <tr>\n      <th>0</th>\n      <td>1461</td>\n      <td>20</td>\n      <td>RH</td>\n      <td>80.0</td>\n      <td>11622</td>\n      <td>Pave</td>\n      <td>NaN</td>\n      <td>Reg</td>\n      <td>Lvl</td>\n      <td>AllPub</td>\n      <td>...</td>\n      <td>120</td>\n      <td>0</td>\n      <td>NaN</td>\n      <td>MnPrv</td>\n      <td>NaN</td>\n      <td>0</td>\n      <td>6</td>\n      <td>2010</td>\n      <td>WD</td>\n      <td>Normal</td>\n    </tr>\n    <tr>\n      <th>1</th>\n      <td>1462</td>\n      <td>20</td>\n      <td>RL</td>\n      <td>81.0</td>\n      <td>14267</td>\n      <td>Pave</td>\n      <td>NaN</td>\n      <td>IR1</td>\n      <td>Lvl</td>\n      <td>AllPub</td>\n      <td>...</td>\n      <td>0</td>\n      <td>0</td>\n      <td>NaN</td>\n      <td>NaN</td>\n      <td>Gar2</td>\n      <td>12500</td>\n      <td>6</td>\n      <td>2010</td>\n      <td>WD</td>\n      <td>Normal</td>\n    </tr>\n    <tr>\n      <th>2</th>\n      <td>1463</td>\n      <td>60</td>\n      <td>RL</td>\n      <td>74.0</td>\n      <td>13830</td>\n      <td>Pave</td>\n      <td>NaN</td>\n      <td>IR1</td>\n      <td>Lvl</td>\n      <td>AllPub</td>\n      <td>...</td>\n      <td>0</td>\n      <td>0</td>\n      <td>NaN</td>\n      <td>MnPrv</td>\n      <td>NaN</td>\n      <td>0</td>\n      <td>3</td>\n      <td>2010</td>\n      <td>WD</td>\n      <td>Normal</td>\n    </tr>\n    <tr>\n      <th>3</th>\n      <td>1464</td>\n      <td>60</td>\n      <td>RL</td>\n      <td>78.0</td>\n      <td>9978</td>\n      <td>Pave</td>\n      <td>NaN</td>\n      <td>IR1</td>\n      <td>Lvl</td>\n      <td>AllPub</td>\n      <td>...</td>\n      <td>0</td>\n      <td>0</td>\n      <td>NaN</td>\n      <td>NaN</td>\n      <td>NaN</td>\n      <td>0</td>\n      <td>6</td>\n      <td>2010</td>\n      <td>WD</td>\n      <td>Normal</td>\n    </tr>\n    <tr>\n      <th>4</th>\n      <td>1465</td>\n      <td>120</td>\n      <td>RL</td>\n      <td>43.0</td>\n      <td>5005</td>\n      <td>Pave</td>\n      <td>NaN</td>\n      <td>IR1</td>\n      <td>HLS</td>\n      <td>AllPub</td>\n      <td>...</td>\n      <td>144</td>\n      <td>0</td>\n      <td>NaN</td>\n      <td>NaN</td>\n      <td>NaN</td>\n      <td>0</td>\n      <td>1</td>\n      <td>2010</td>\n      <td>WD</td>\n      <td>Normal</td>\n    </tr>\n  </tbody>\n</table>\n<p>5 rows × 80 columns</p>\n</div>"
     },
     "metadata": {},
     "execution_count": 5
    }
   ],
   "source": [
    "df2.head()"
   ]
  },
  {
   "cell_type": "code",
   "execution_count": 6,
   "metadata": {},
   "outputs": [
    {
     "output_type": "execute_result",
     "data": {
      "text/plain": [
       "   Id  MSSubClass MSZoning  LotFrontage  LotArea Street Alley LotShape  \\\n",
       "0   1          60       RL         65.0     8450   Pave   NaN      Reg   \n",
       "1   2          20       RL         80.0     9600   Pave   NaN      Reg   \n",
       "2   3          60       RL         68.0    11250   Pave   NaN      IR1   \n",
       "3   4          70       RL         60.0     9550   Pave   NaN      IR1   \n",
       "4   5          60       RL         84.0    14260   Pave   NaN      IR1   \n",
       "\n",
       "  LandContour Utilities  ... PoolArea PoolQC Fence MiscFeature MiscVal MoSold  \\\n",
       "0         Lvl    AllPub  ...        0    NaN   NaN         NaN       0      2   \n",
       "1         Lvl    AllPub  ...        0    NaN   NaN         NaN       0      5   \n",
       "2         Lvl    AllPub  ...        0    NaN   NaN         NaN       0      9   \n",
       "3         Lvl    AllPub  ...        0    NaN   NaN         NaN       0      2   \n",
       "4         Lvl    AllPub  ...        0    NaN   NaN         NaN       0     12   \n",
       "\n",
       "  YrSold  SaleType  SaleCondition  SalePrice  \n",
       "0   2008        WD         Normal     208500  \n",
       "1   2007        WD         Normal     181500  \n",
       "2   2008        WD         Normal     223500  \n",
       "3   2006        WD        Abnorml     140000  \n",
       "4   2008        WD         Normal     250000  \n",
       "\n",
       "[5 rows x 81 columns]"
      ],
      "text/html": "<div>\n<style scoped>\n    .dataframe tbody tr th:only-of-type {\n        vertical-align: middle;\n    }\n\n    .dataframe tbody tr th {\n        vertical-align: top;\n    }\n\n    .dataframe thead th {\n        text-align: right;\n    }\n</style>\n<table border=\"1\" class=\"dataframe\">\n  <thead>\n    <tr style=\"text-align: right;\">\n      <th></th>\n      <th>Id</th>\n      <th>MSSubClass</th>\n      <th>MSZoning</th>\n      <th>LotFrontage</th>\n      <th>LotArea</th>\n      <th>Street</th>\n      <th>Alley</th>\n      <th>LotShape</th>\n      <th>LandContour</th>\n      <th>Utilities</th>\n      <th>...</th>\n      <th>PoolArea</th>\n      <th>PoolQC</th>\n      <th>Fence</th>\n      <th>MiscFeature</th>\n      <th>MiscVal</th>\n      <th>MoSold</th>\n      <th>YrSold</th>\n      <th>SaleType</th>\n      <th>SaleCondition</th>\n      <th>SalePrice</th>\n    </tr>\n  </thead>\n  <tbody>\n    <tr>\n      <th>0</th>\n      <td>1</td>\n      <td>60</td>\n      <td>RL</td>\n      <td>65.0</td>\n      <td>8450</td>\n      <td>Pave</td>\n      <td>NaN</td>\n      <td>Reg</td>\n      <td>Lvl</td>\n      <td>AllPub</td>\n      <td>...</td>\n      <td>0</td>\n      <td>NaN</td>\n      <td>NaN</td>\n      <td>NaN</td>\n      <td>0</td>\n      <td>2</td>\n      <td>2008</td>\n      <td>WD</td>\n      <td>Normal</td>\n      <td>208500</td>\n    </tr>\n    <tr>\n      <th>1</th>\n      <td>2</td>\n      <td>20</td>\n      <td>RL</td>\n      <td>80.0</td>\n      <td>9600</td>\n      <td>Pave</td>\n      <td>NaN</td>\n      <td>Reg</td>\n      <td>Lvl</td>\n      <td>AllPub</td>\n      <td>...</td>\n      <td>0</td>\n      <td>NaN</td>\n      <td>NaN</td>\n      <td>NaN</td>\n      <td>0</td>\n      <td>5</td>\n      <td>2007</td>\n      <td>WD</td>\n      <td>Normal</td>\n      <td>181500</td>\n    </tr>\n    <tr>\n      <th>2</th>\n      <td>3</td>\n      <td>60</td>\n      <td>RL</td>\n      <td>68.0</td>\n      <td>11250</td>\n      <td>Pave</td>\n      <td>NaN</td>\n      <td>IR1</td>\n      <td>Lvl</td>\n      <td>AllPub</td>\n      <td>...</td>\n      <td>0</td>\n      <td>NaN</td>\n      <td>NaN</td>\n      <td>NaN</td>\n      <td>0</td>\n      <td>9</td>\n      <td>2008</td>\n      <td>WD</td>\n      <td>Normal</td>\n      <td>223500</td>\n    </tr>\n    <tr>\n      <th>3</th>\n      <td>4</td>\n      <td>70</td>\n      <td>RL</td>\n      <td>60.0</td>\n      <td>9550</td>\n      <td>Pave</td>\n      <td>NaN</td>\n      <td>IR1</td>\n      <td>Lvl</td>\n      <td>AllPub</td>\n      <td>...</td>\n      <td>0</td>\n      <td>NaN</td>\n      <td>NaN</td>\n      <td>NaN</td>\n      <td>0</td>\n      <td>2</td>\n      <td>2006</td>\n      <td>WD</td>\n      <td>Abnorml</td>\n      <td>140000</td>\n    </tr>\n    <tr>\n      <th>4</th>\n      <td>5</td>\n      <td>60</td>\n      <td>RL</td>\n      <td>84.0</td>\n      <td>14260</td>\n      <td>Pave</td>\n      <td>NaN</td>\n      <td>IR1</td>\n      <td>Lvl</td>\n      <td>AllPub</td>\n      <td>...</td>\n      <td>0</td>\n      <td>NaN</td>\n      <td>NaN</td>\n      <td>NaN</td>\n      <td>0</td>\n      <td>12</td>\n      <td>2008</td>\n      <td>WD</td>\n      <td>Normal</td>\n      <td>250000</td>\n    </tr>\n  </tbody>\n</table>\n<p>5 rows × 81 columns</p>\n</div>"
     },
     "metadata": {},
     "execution_count": 6
    }
   ],
   "source": [
    "df3.head()"
   ]
  },
  {
   "cell_type": "code",
   "execution_count": 8,
   "metadata": {},
   "outputs": [
    {
     "output_type": "stream",
     "name": "stdout",
     "text": [
      "<class 'pandas.core.frame.DataFrame'>\nRangeIndex: 1459 entries, 0 to 1458\nData columns (total 2 columns):\n #   Column     Non-Null Count  Dtype  \n---  ------     --------------  -----  \n 0   Id         1459 non-null   int64  \n 1   SalePrice  1459 non-null   float64\ndtypes: float64(1), int64(1)\nmemory usage: 22.9 KB\n"
     ]
    }
   ],
   "source": [
    "df1.info()"
   ]
  },
  {
   "cell_type": "code",
   "execution_count": 7,
   "metadata": {},
   "outputs": [
    {
     "output_type": "stream",
     "name": "stdout",
     "text": [
      "<class 'pandas.core.frame.DataFrame'>\nRangeIndex: 1459 entries, 0 to 1458\nData columns (total 80 columns):\n #   Column         Non-Null Count  Dtype  \n---  ------         --------------  -----  \n 0   Id             1459 non-null   int64  \n 1   MSSubClass     1459 non-null   int64  \n 2   MSZoning       1455 non-null   object \n 3   LotFrontage    1232 non-null   float64\n 4   LotArea        1459 non-null   int64  \n 5   Street         1459 non-null   object \n 6   Alley          107 non-null    object \n 7   LotShape       1459 non-null   object \n 8   LandContour    1459 non-null   object \n 9   Utilities      1457 non-null   object \n 10  LotConfig      1459 non-null   object \n 11  LandSlope      1459 non-null   object \n 12  Neighborhood   1459 non-null   object \n 13  Condition1     1459 non-null   object \n 14  Condition2     1459 non-null   object \n 15  BldgType       1459 non-null   object \n 16  HouseStyle     1459 non-null   object \n 17  OverallQual    1459 non-null   int64  \n 18  OverallCond    1459 non-null   int64  \n 19  YearBuilt      1459 non-null   int64  \n 20  YearRemodAdd   1459 non-null   int64  \n 21  RoofStyle      1459 non-null   object \n 22  RoofMatl       1459 non-null   object \n 23  Exterior1st    1458 non-null   object \n 24  Exterior2nd    1458 non-null   object \n 25  MasVnrType     1443 non-null   object \n 26  MasVnrArea     1444 non-null   float64\n 27  ExterQual      1459 non-null   object \n 28  ExterCond      1459 non-null   object \n 29  Foundation     1459 non-null   object \n 30  BsmtQual       1415 non-null   object \n 31  BsmtCond       1414 non-null   object \n 32  BsmtExposure   1415 non-null   object \n 33  BsmtFinType1   1417 non-null   object \n 34  BsmtFinSF1     1458 non-null   float64\n 35  BsmtFinType2   1417 non-null   object \n 36  BsmtFinSF2     1458 non-null   float64\n 37  BsmtUnfSF      1458 non-null   float64\n 38  TotalBsmtSF    1458 non-null   float64\n 39  Heating        1459 non-null   object \n 40  HeatingQC      1459 non-null   object \n 41  CentralAir     1459 non-null   object \n 42  Electrical     1459 non-null   object \n 43  1stFlrSF       1459 non-null   int64  \n 44  2ndFlrSF       1459 non-null   int64  \n 45  LowQualFinSF   1459 non-null   int64  \n 46  GrLivArea      1459 non-null   int64  \n 47  BsmtFullBath   1457 non-null   float64\n 48  BsmtHalfBath   1457 non-null   float64\n 49  FullBath       1459 non-null   int64  \n 50  HalfBath       1459 non-null   int64  \n 51  BedroomAbvGr   1459 non-null   int64  \n 52  KitchenAbvGr   1459 non-null   int64  \n 53  KitchenQual    1458 non-null   object \n 54  TotRmsAbvGrd   1459 non-null   int64  \n 55  Functional     1457 non-null   object \n 56  Fireplaces     1459 non-null   int64  \n 57  FireplaceQu    729 non-null    object \n 58  GarageType     1383 non-null   object \n 59  GarageYrBlt    1381 non-null   float64\n 60  GarageFinish   1381 non-null   object \n 61  GarageCars     1458 non-null   float64\n 62  GarageArea     1458 non-null   float64\n 63  GarageQual     1381 non-null   object \n 64  GarageCond     1381 non-null   object \n 65  PavedDrive     1459 non-null   object \n 66  WoodDeckSF     1459 non-null   int64  \n 67  OpenPorchSF    1459 non-null   int64  \n 68  EnclosedPorch  1459 non-null   int64  \n 69  3SsnPorch      1459 non-null   int64  \n 70  ScreenPorch    1459 non-null   int64  \n 71  PoolArea       1459 non-null   int64  \n 72  PoolQC         3 non-null      object \n 73  Fence          290 non-null    object \n 74  MiscFeature    51 non-null     object \n 75  MiscVal        1459 non-null   int64  \n 76  MoSold         1459 non-null   int64  \n 77  YrSold         1459 non-null   int64  \n 78  SaleType       1458 non-null   object \n 79  SaleCondition  1459 non-null   object \ndtypes: float64(11), int64(26), object(43)\nmemory usage: 912.0+ KB\n"
     ]
    }
   ],
   "source": [
    "df2.info()"
   ]
  },
  {
   "cell_type": "code",
   "execution_count": 9,
   "metadata": {},
   "outputs": [
    {
     "output_type": "stream",
     "name": "stdout",
     "text": [
      "<class 'pandas.core.frame.DataFrame'>\nRangeIndex: 1460 entries, 0 to 1459\nData columns (total 81 columns):\n #   Column         Non-Null Count  Dtype  \n---  ------         --------------  -----  \n 0   Id             1460 non-null   int64  \n 1   MSSubClass     1460 non-null   int64  \n 2   MSZoning       1460 non-null   object \n 3   LotFrontage    1201 non-null   float64\n 4   LotArea        1460 non-null   int64  \n 5   Street         1460 non-null   object \n 6   Alley          91 non-null     object \n 7   LotShape       1460 non-null   object \n 8   LandContour    1460 non-null   object \n 9   Utilities      1460 non-null   object \n 10  LotConfig      1460 non-null   object \n 11  LandSlope      1460 non-null   object \n 12  Neighborhood   1460 non-null   object \n 13  Condition1     1460 non-null   object \n 14  Condition2     1460 non-null   object \n 15  BldgType       1460 non-null   object \n 16  HouseStyle     1460 non-null   object \n 17  OverallQual    1460 non-null   int64  \n 18  OverallCond    1460 non-null   int64  \n 19  YearBuilt      1460 non-null   int64  \n 20  YearRemodAdd   1460 non-null   int64  \n 21  RoofStyle      1460 non-null   object \n 22  RoofMatl       1460 non-null   object \n 23  Exterior1st    1460 non-null   object \n 24  Exterior2nd    1460 non-null   object \n 25  MasVnrType     1452 non-null   object \n 26  MasVnrArea     1452 non-null   float64\n 27  ExterQual      1460 non-null   object \n 28  ExterCond      1460 non-null   object \n 29  Foundation     1460 non-null   object \n 30  BsmtQual       1423 non-null   object \n 31  BsmtCond       1423 non-null   object \n 32  BsmtExposure   1422 non-null   object \n 33  BsmtFinType1   1423 non-null   object \n 34  BsmtFinSF1     1460 non-null   int64  \n 35  BsmtFinType2   1422 non-null   object \n 36  BsmtFinSF2     1460 non-null   int64  \n 37  BsmtUnfSF      1460 non-null   int64  \n 38  TotalBsmtSF    1460 non-null   int64  \n 39  Heating        1460 non-null   object \n 40  HeatingQC      1460 non-null   object \n 41  CentralAir     1460 non-null   object \n 42  Electrical     1459 non-null   object \n 43  1stFlrSF       1460 non-null   int64  \n 44  2ndFlrSF       1460 non-null   int64  \n 45  LowQualFinSF   1460 non-null   int64  \n 46  GrLivArea      1460 non-null   int64  \n 47  BsmtFullBath   1460 non-null   int64  \n 48  BsmtHalfBath   1460 non-null   int64  \n 49  FullBath       1460 non-null   int64  \n 50  HalfBath       1460 non-null   int64  \n 51  BedroomAbvGr   1460 non-null   int64  \n 52  KitchenAbvGr   1460 non-null   int64  \n 53  KitchenQual    1460 non-null   object \n 54  TotRmsAbvGrd   1460 non-null   int64  \n 55  Functional     1460 non-null   object \n 56  Fireplaces     1460 non-null   int64  \n 57  FireplaceQu    770 non-null    object \n 58  GarageType     1379 non-null   object \n 59  GarageYrBlt    1379 non-null   float64\n 60  GarageFinish   1379 non-null   object \n 61  GarageCars     1460 non-null   int64  \n 62  GarageArea     1460 non-null   int64  \n 63  GarageQual     1379 non-null   object \n 64  GarageCond     1379 non-null   object \n 65  PavedDrive     1460 non-null   object \n 66  WoodDeckSF     1460 non-null   int64  \n 67  OpenPorchSF    1460 non-null   int64  \n 68  EnclosedPorch  1460 non-null   int64  \n 69  3SsnPorch      1460 non-null   int64  \n 70  ScreenPorch    1460 non-null   int64  \n 71  PoolArea       1460 non-null   int64  \n 72  PoolQC         7 non-null      object \n 73  Fence          281 non-null    object \n 74  MiscFeature    54 non-null     object \n 75  MiscVal        1460 non-null   int64  \n 76  MoSold         1460 non-null   int64  \n 77  YrSold         1460 non-null   int64  \n 78  SaleType       1460 non-null   object \n 79  SaleCondition  1460 non-null   object \n 80  SalePrice      1460 non-null   int64  \ndtypes: float64(3), int64(35), object(43)\nmemory usage: 924.0+ KB\n"
     ]
    }
   ],
   "source": [
    "df3.info()"
   ]
  },
  {
   "cell_type": "code",
   "execution_count": 6,
   "metadata": {},
   "outputs": [
    {
     "output_type": "execute_result",
     "data": {
      "text/plain": [
       "        Id  MSSubClass MSZoning  LotFrontage  LotArea Street Alley LotShape  \\\n",
       "197    198          75       RL        174.0    25419   Pave   NaN      Reg   \n",
       "810    811          20       RL         78.0    10140   Pave   NaN      Reg   \n",
       "1170  1171          80       RL         76.0     9880   Pave   NaN      Reg   \n",
       "1182  1183          60       RL        160.0    15623   Pave   NaN      IR1   \n",
       "1298  1299          60       RL        313.0    63887   Pave   NaN      IR3   \n",
       "1386  1387          60       RL         80.0    16692   Pave   NaN      IR1   \n",
       "1423  1424          80       RL          NaN    19690   Pave   NaN      IR1   \n",
       "\n",
       "     LandContour Utilities  ... PoolArea PoolQC  Fence MiscFeature MiscVal  \\\n",
       "197          Lvl    AllPub  ...      512     Ex  GdPrv         NaN       0   \n",
       "810          Lvl    AllPub  ...      648     Fa  GdPrv         NaN       0   \n",
       "1170         Lvl    AllPub  ...      576     Gd  GdPrv         NaN       0   \n",
       "1182         Lvl    AllPub  ...      555     Ex  MnPrv         NaN       0   \n",
       "1298         Bnk    AllPub  ...      480     Gd    NaN         NaN       0   \n",
       "1386         Lvl    AllPub  ...      519     Fa  MnPrv        TenC    2000   \n",
       "1423         Lvl    AllPub  ...      738     Gd  GdPrv         NaN       0   \n",
       "\n",
       "     MoSold YrSold  SaleType  SaleCondition  SalePrice  \n",
       "197       3   2006        WD        Abnorml     235000  \n",
       "810       1   2006        WD         Normal     181000  \n",
       "1170      7   2008        WD         Normal     171000  \n",
       "1182      7   2007        WD        Abnorml     745000  \n",
       "1298      1   2008       New        Partial     160000  \n",
       "1386      7   2006        WD         Normal     250000  \n",
       "1423      8   2006        WD         Alloca     274970  \n",
       "\n",
       "[7 rows x 81 columns]"
      ],
      "text/html": "<div>\n<style scoped>\n    .dataframe tbody tr th:only-of-type {\n        vertical-align: middle;\n    }\n\n    .dataframe tbody tr th {\n        vertical-align: top;\n    }\n\n    .dataframe thead th {\n        text-align: right;\n    }\n</style>\n<table border=\"1\" class=\"dataframe\">\n  <thead>\n    <tr style=\"text-align: right;\">\n      <th></th>\n      <th>Id</th>\n      <th>MSSubClass</th>\n      <th>MSZoning</th>\n      <th>LotFrontage</th>\n      <th>LotArea</th>\n      <th>Street</th>\n      <th>Alley</th>\n      <th>LotShape</th>\n      <th>LandContour</th>\n      <th>Utilities</th>\n      <th>...</th>\n      <th>PoolArea</th>\n      <th>PoolQC</th>\n      <th>Fence</th>\n      <th>MiscFeature</th>\n      <th>MiscVal</th>\n      <th>MoSold</th>\n      <th>YrSold</th>\n      <th>SaleType</th>\n      <th>SaleCondition</th>\n      <th>SalePrice</th>\n    </tr>\n  </thead>\n  <tbody>\n    <tr>\n      <th>197</th>\n      <td>198</td>\n      <td>75</td>\n      <td>RL</td>\n      <td>174.0</td>\n      <td>25419</td>\n      <td>Pave</td>\n      <td>NaN</td>\n      <td>Reg</td>\n      <td>Lvl</td>\n      <td>AllPub</td>\n      <td>...</td>\n      <td>512</td>\n      <td>Ex</td>\n      <td>GdPrv</td>\n      <td>NaN</td>\n      <td>0</td>\n      <td>3</td>\n      <td>2006</td>\n      <td>WD</td>\n      <td>Abnorml</td>\n      <td>235000</td>\n    </tr>\n    <tr>\n      <th>810</th>\n      <td>811</td>\n      <td>20</td>\n      <td>RL</td>\n      <td>78.0</td>\n      <td>10140</td>\n      <td>Pave</td>\n      <td>NaN</td>\n      <td>Reg</td>\n      <td>Lvl</td>\n      <td>AllPub</td>\n      <td>...</td>\n      <td>648</td>\n      <td>Fa</td>\n      <td>GdPrv</td>\n      <td>NaN</td>\n      <td>0</td>\n      <td>1</td>\n      <td>2006</td>\n      <td>WD</td>\n      <td>Normal</td>\n      <td>181000</td>\n    </tr>\n    <tr>\n      <th>1170</th>\n      <td>1171</td>\n      <td>80</td>\n      <td>RL</td>\n      <td>76.0</td>\n      <td>9880</td>\n      <td>Pave</td>\n      <td>NaN</td>\n      <td>Reg</td>\n      <td>Lvl</td>\n      <td>AllPub</td>\n      <td>...</td>\n      <td>576</td>\n      <td>Gd</td>\n      <td>GdPrv</td>\n      <td>NaN</td>\n      <td>0</td>\n      <td>7</td>\n      <td>2008</td>\n      <td>WD</td>\n      <td>Normal</td>\n      <td>171000</td>\n    </tr>\n    <tr>\n      <th>1182</th>\n      <td>1183</td>\n      <td>60</td>\n      <td>RL</td>\n      <td>160.0</td>\n      <td>15623</td>\n      <td>Pave</td>\n      <td>NaN</td>\n      <td>IR1</td>\n      <td>Lvl</td>\n      <td>AllPub</td>\n      <td>...</td>\n      <td>555</td>\n      <td>Ex</td>\n      <td>MnPrv</td>\n      <td>NaN</td>\n      <td>0</td>\n      <td>7</td>\n      <td>2007</td>\n      <td>WD</td>\n      <td>Abnorml</td>\n      <td>745000</td>\n    </tr>\n    <tr>\n      <th>1298</th>\n      <td>1299</td>\n      <td>60</td>\n      <td>RL</td>\n      <td>313.0</td>\n      <td>63887</td>\n      <td>Pave</td>\n      <td>NaN</td>\n      <td>IR3</td>\n      <td>Bnk</td>\n      <td>AllPub</td>\n      <td>...</td>\n      <td>480</td>\n      <td>Gd</td>\n      <td>NaN</td>\n      <td>NaN</td>\n      <td>0</td>\n      <td>1</td>\n      <td>2008</td>\n      <td>New</td>\n      <td>Partial</td>\n      <td>160000</td>\n    </tr>\n    <tr>\n      <th>1386</th>\n      <td>1387</td>\n      <td>60</td>\n      <td>RL</td>\n      <td>80.0</td>\n      <td>16692</td>\n      <td>Pave</td>\n      <td>NaN</td>\n      <td>IR1</td>\n      <td>Lvl</td>\n      <td>AllPub</td>\n      <td>...</td>\n      <td>519</td>\n      <td>Fa</td>\n      <td>MnPrv</td>\n      <td>TenC</td>\n      <td>2000</td>\n      <td>7</td>\n      <td>2006</td>\n      <td>WD</td>\n      <td>Normal</td>\n      <td>250000</td>\n    </tr>\n    <tr>\n      <th>1423</th>\n      <td>1424</td>\n      <td>80</td>\n      <td>RL</td>\n      <td>NaN</td>\n      <td>19690</td>\n      <td>Pave</td>\n      <td>NaN</td>\n      <td>IR1</td>\n      <td>Lvl</td>\n      <td>AllPub</td>\n      <td>...</td>\n      <td>738</td>\n      <td>Gd</td>\n      <td>GdPrv</td>\n      <td>NaN</td>\n      <td>0</td>\n      <td>8</td>\n      <td>2006</td>\n      <td>WD</td>\n      <td>Alloca</td>\n      <td>274970</td>\n    </tr>\n  </tbody>\n</table>\n<p>7 rows × 81 columns</p>\n</div>"
     },
     "metadata": {},
     "execution_count": 6
    }
   ],
   "source": [
    "df3[df3.PoolQC.notnull()]"
   ]
  },
  {
   "cell_type": "code",
   "execution_count": 7,
   "metadata": {},
   "outputs": [
    {
     "output_type": "execute_result",
     "data": {
      "text/plain": [
       "        Id  MSSubClass MSZoning  LotFrontage  LotArea Street Alley LotShape  \\\n",
       "21      22          45       RM         57.0     7449   Pave  Grvl      Reg   \n",
       "30      31          70  C (all)         50.0     8500   Pave  Pave      Reg   \n",
       "56      57         160       FV         24.0     2645   Pave  Pave      Reg   \n",
       "79      80          50       RM         60.0    10440   Pave  Grvl      Reg   \n",
       "87      88         160       FV         40.0     3951   Pave  Pave      Reg   \n",
       "...    ...         ...      ...          ...      ...    ...   ...      ...   \n",
       "1404  1405          50       RL         60.0    10410   Pave  Grvl      Reg   \n",
       "1414  1415          50       RL         64.0    13053   Pave  Pave      Reg   \n",
       "1427  1428          50       RL         60.0    10930   Pave  Grvl      Reg   \n",
       "1432  1433          30       RL         60.0    10800   Pave  Grvl      Reg   \n",
       "1454  1455          20       FV         62.0     7500   Pave  Pave      Reg   \n",
       "\n",
       "     LandContour Utilities  ... PoolArea PoolQC  Fence MiscFeature MiscVal  \\\n",
       "21           Bnk    AllPub  ...        0    NaN  GdPrv         NaN       0   \n",
       "30           Lvl    AllPub  ...        0    NaN  MnPrv         NaN       0   \n",
       "56           Lvl    AllPub  ...        0    NaN    NaN         NaN       0   \n",
       "79           Lvl    AllPub  ...        0    NaN  MnPrv         NaN       0   \n",
       "87           Lvl    AllPub  ...        0    NaN    NaN         NaN       0   \n",
       "...          ...       ...  ...      ...    ...    ...         ...     ...   \n",
       "1404         Lvl    AllPub  ...        0    NaN  MnPrv         NaN       0   \n",
       "1414         Bnk    AllPub  ...        0    NaN    NaN         NaN       0   \n",
       "1427         Bnk    AllPub  ...        0    NaN    NaN         NaN       0   \n",
       "1432         Lvl    AllPub  ...        0    NaN    NaN         NaN       0   \n",
       "1454         Lvl    AllPub  ...        0    NaN    NaN         NaN       0   \n",
       "\n",
       "     MoSold YrSold  SaleType  SaleCondition  SalePrice  \n",
       "21        6   2007        WD         Normal     139400  \n",
       "30        7   2008        WD         Normal      40000  \n",
       "56        8   2009        WD        Abnorml     172500  \n",
       "79        5   2009        WD         Normal     110000  \n",
       "87        6   2009       New        Partial     164500  \n",
       "...     ...    ...       ...            ...        ...  \n",
       "1404      1   2006        WD         Family     105000  \n",
       "1414      6   2008        WD         Normal     207000  \n",
       "1427      4   2008        WD         Normal     140000  \n",
       "1432      8   2007        WD         Normal      64500  \n",
       "1454     10   2009        WD         Normal     185000  \n",
       "\n",
       "[91 rows x 81 columns]"
      ],
      "text/html": "<div>\n<style scoped>\n    .dataframe tbody tr th:only-of-type {\n        vertical-align: middle;\n    }\n\n    .dataframe tbody tr th {\n        vertical-align: top;\n    }\n\n    .dataframe thead th {\n        text-align: right;\n    }\n</style>\n<table border=\"1\" class=\"dataframe\">\n  <thead>\n    <tr style=\"text-align: right;\">\n      <th></th>\n      <th>Id</th>\n      <th>MSSubClass</th>\n      <th>MSZoning</th>\n      <th>LotFrontage</th>\n      <th>LotArea</th>\n      <th>Street</th>\n      <th>Alley</th>\n      <th>LotShape</th>\n      <th>LandContour</th>\n      <th>Utilities</th>\n      <th>...</th>\n      <th>PoolArea</th>\n      <th>PoolQC</th>\n      <th>Fence</th>\n      <th>MiscFeature</th>\n      <th>MiscVal</th>\n      <th>MoSold</th>\n      <th>YrSold</th>\n      <th>SaleType</th>\n      <th>SaleCondition</th>\n      <th>SalePrice</th>\n    </tr>\n  </thead>\n  <tbody>\n    <tr>\n      <th>21</th>\n      <td>22</td>\n      <td>45</td>\n      <td>RM</td>\n      <td>57.0</td>\n      <td>7449</td>\n      <td>Pave</td>\n      <td>Grvl</td>\n      <td>Reg</td>\n      <td>Bnk</td>\n      <td>AllPub</td>\n      <td>...</td>\n      <td>0</td>\n      <td>NaN</td>\n      <td>GdPrv</td>\n      <td>NaN</td>\n      <td>0</td>\n      <td>6</td>\n      <td>2007</td>\n      <td>WD</td>\n      <td>Normal</td>\n      <td>139400</td>\n    </tr>\n    <tr>\n      <th>30</th>\n      <td>31</td>\n      <td>70</td>\n      <td>C (all)</td>\n      <td>50.0</td>\n      <td>8500</td>\n      <td>Pave</td>\n      <td>Pave</td>\n      <td>Reg</td>\n      <td>Lvl</td>\n      <td>AllPub</td>\n      <td>...</td>\n      <td>0</td>\n      <td>NaN</td>\n      <td>MnPrv</td>\n      <td>NaN</td>\n      <td>0</td>\n      <td>7</td>\n      <td>2008</td>\n      <td>WD</td>\n      <td>Normal</td>\n      <td>40000</td>\n    </tr>\n    <tr>\n      <th>56</th>\n      <td>57</td>\n      <td>160</td>\n      <td>FV</td>\n      <td>24.0</td>\n      <td>2645</td>\n      <td>Pave</td>\n      <td>Pave</td>\n      <td>Reg</td>\n      <td>Lvl</td>\n      <td>AllPub</td>\n      <td>...</td>\n      <td>0</td>\n      <td>NaN</td>\n      <td>NaN</td>\n      <td>NaN</td>\n      <td>0</td>\n      <td>8</td>\n      <td>2009</td>\n      <td>WD</td>\n      <td>Abnorml</td>\n      <td>172500</td>\n    </tr>\n    <tr>\n      <th>79</th>\n      <td>80</td>\n      <td>50</td>\n      <td>RM</td>\n      <td>60.0</td>\n      <td>10440</td>\n      <td>Pave</td>\n      <td>Grvl</td>\n      <td>Reg</td>\n      <td>Lvl</td>\n      <td>AllPub</td>\n      <td>...</td>\n      <td>0</td>\n      <td>NaN</td>\n      <td>MnPrv</td>\n      <td>NaN</td>\n      <td>0</td>\n      <td>5</td>\n      <td>2009</td>\n      <td>WD</td>\n      <td>Normal</td>\n      <td>110000</td>\n    </tr>\n    <tr>\n      <th>87</th>\n      <td>88</td>\n      <td>160</td>\n      <td>FV</td>\n      <td>40.0</td>\n      <td>3951</td>\n      <td>Pave</td>\n      <td>Pave</td>\n      <td>Reg</td>\n      <td>Lvl</td>\n      <td>AllPub</td>\n      <td>...</td>\n      <td>0</td>\n      <td>NaN</td>\n      <td>NaN</td>\n      <td>NaN</td>\n      <td>0</td>\n      <td>6</td>\n      <td>2009</td>\n      <td>New</td>\n      <td>Partial</td>\n      <td>164500</td>\n    </tr>\n    <tr>\n      <th>...</th>\n      <td>...</td>\n      <td>...</td>\n      <td>...</td>\n      <td>...</td>\n      <td>...</td>\n      <td>...</td>\n      <td>...</td>\n      <td>...</td>\n      <td>...</td>\n      <td>...</td>\n      <td>...</td>\n      <td>...</td>\n      <td>...</td>\n      <td>...</td>\n      <td>...</td>\n      <td>...</td>\n      <td>...</td>\n      <td>...</td>\n      <td>...</td>\n      <td>...</td>\n      <td>...</td>\n    </tr>\n    <tr>\n      <th>1404</th>\n      <td>1405</td>\n      <td>50</td>\n      <td>RL</td>\n      <td>60.0</td>\n      <td>10410</td>\n      <td>Pave</td>\n      <td>Grvl</td>\n      <td>Reg</td>\n      <td>Lvl</td>\n      <td>AllPub</td>\n      <td>...</td>\n      <td>0</td>\n      <td>NaN</td>\n      <td>MnPrv</td>\n      <td>NaN</td>\n      <td>0</td>\n      <td>1</td>\n      <td>2006</td>\n      <td>WD</td>\n      <td>Family</td>\n      <td>105000</td>\n    </tr>\n    <tr>\n      <th>1414</th>\n      <td>1415</td>\n      <td>50</td>\n      <td>RL</td>\n      <td>64.0</td>\n      <td>13053</td>\n      <td>Pave</td>\n      <td>Pave</td>\n      <td>Reg</td>\n      <td>Bnk</td>\n      <td>AllPub</td>\n      <td>...</td>\n      <td>0</td>\n      <td>NaN</td>\n      <td>NaN</td>\n      <td>NaN</td>\n      <td>0</td>\n      <td>6</td>\n      <td>2008</td>\n      <td>WD</td>\n      <td>Normal</td>\n      <td>207000</td>\n    </tr>\n    <tr>\n      <th>1427</th>\n      <td>1428</td>\n      <td>50</td>\n      <td>RL</td>\n      <td>60.0</td>\n      <td>10930</td>\n      <td>Pave</td>\n      <td>Grvl</td>\n      <td>Reg</td>\n      <td>Bnk</td>\n      <td>AllPub</td>\n      <td>...</td>\n      <td>0</td>\n      <td>NaN</td>\n      <td>NaN</td>\n      <td>NaN</td>\n      <td>0</td>\n      <td>4</td>\n      <td>2008</td>\n      <td>WD</td>\n      <td>Normal</td>\n      <td>140000</td>\n    </tr>\n    <tr>\n      <th>1432</th>\n      <td>1433</td>\n      <td>30</td>\n      <td>RL</td>\n      <td>60.0</td>\n      <td>10800</td>\n      <td>Pave</td>\n      <td>Grvl</td>\n      <td>Reg</td>\n      <td>Lvl</td>\n      <td>AllPub</td>\n      <td>...</td>\n      <td>0</td>\n      <td>NaN</td>\n      <td>NaN</td>\n      <td>NaN</td>\n      <td>0</td>\n      <td>8</td>\n      <td>2007</td>\n      <td>WD</td>\n      <td>Normal</td>\n      <td>64500</td>\n    </tr>\n    <tr>\n      <th>1454</th>\n      <td>1455</td>\n      <td>20</td>\n      <td>FV</td>\n      <td>62.0</td>\n      <td>7500</td>\n      <td>Pave</td>\n      <td>Pave</td>\n      <td>Reg</td>\n      <td>Lvl</td>\n      <td>AllPub</td>\n      <td>...</td>\n      <td>0</td>\n      <td>NaN</td>\n      <td>NaN</td>\n      <td>NaN</td>\n      <td>0</td>\n      <td>10</td>\n      <td>2009</td>\n      <td>WD</td>\n      <td>Normal</td>\n      <td>185000</td>\n    </tr>\n  </tbody>\n</table>\n<p>91 rows × 81 columns</p>\n</div>"
     },
     "metadata": {},
     "execution_count": 7
    }
   ],
   "source": [
    "df3[df3.Alley.notnull()]"
   ]
  },
  {
   "cell_type": "code",
   "execution_count": 10,
   "metadata": {},
   "outputs": [
    {
     "output_type": "execute_result",
     "data": {
      "text/plain": [
       "        Id  MSSubClass MSZoning  LotFrontage  LotArea Street Alley LotShape  \\\n",
       "5        6          50       RL         85.0    14115   Pave   NaN      IR1   \n",
       "14      15          20       RL          NaN    10920   Pave   NaN      IR1   \n",
       "15      16          45       RM         51.0     6120   Pave   NaN      Reg   \n",
       "19      20          20       RL         70.0     7560   Pave   NaN      Reg   \n",
       "21      22          45       RM         57.0     7449   Pave  Grvl      Reg   \n",
       "...    ...         ...      ...          ...      ...    ...   ...      ...   \n",
       "1436  1437          20       RL         60.0     9000   Pave   NaN      Reg   \n",
       "1438  1439          20       RM         90.0     7407   Pave   NaN      Reg   \n",
       "1448  1449          50       RL         70.0    11767   Pave   NaN      Reg   \n",
       "1456  1457          20       RL         85.0    13175   Pave   NaN      Reg   \n",
       "1457  1458          70       RL         66.0     9042   Pave   NaN      Reg   \n",
       "\n",
       "     LandContour Utilities  ... PoolArea PoolQC  Fence MiscFeature MiscVal  \\\n",
       "5            Lvl    AllPub  ...        0    NaN  MnPrv        Shed     700   \n",
       "14           Lvl    AllPub  ...        0    NaN   GdWo         NaN       0   \n",
       "15           Lvl    AllPub  ...        0    NaN  GdPrv         NaN       0   \n",
       "19           Lvl    AllPub  ...        0    NaN  MnPrv         NaN       0   \n",
       "21           Bnk    AllPub  ...        0    NaN  GdPrv         NaN       0   \n",
       "...          ...       ...  ...      ...    ...    ...         ...     ...   \n",
       "1436         Lvl    AllPub  ...        0    NaN   GdWo         NaN       0   \n",
       "1438         Lvl    AllPub  ...        0    NaN  MnPrv         NaN       0   \n",
       "1448         Lvl    AllPub  ...        0    NaN   GdWo         NaN       0   \n",
       "1456         Lvl    AllPub  ...        0    NaN  MnPrv         NaN       0   \n",
       "1457         Lvl    AllPub  ...        0    NaN  GdPrv        Shed    2500   \n",
       "\n",
       "     MoSold YrSold  SaleType  SaleCondition  SalePrice  \n",
       "5        10   2009        WD         Normal     143000  \n",
       "14        5   2008        WD         Normal     157000  \n",
       "15        7   2007        WD         Normal     132000  \n",
       "19        5   2009       COD        Abnorml     139000  \n",
       "21        6   2007        WD         Normal     139400  \n",
       "...     ...    ...       ...            ...        ...  \n",
       "1436      5   2007        WD         Normal     120500  \n",
       "1438      4   2010        WD         Normal     149700  \n",
       "1448      5   2007        WD         Normal     112000  \n",
       "1456      2   2010        WD         Normal     210000  \n",
       "1457      5   2010        WD         Normal     266500  \n",
       "\n",
       "[281 rows x 81 columns]"
      ],
      "text/html": "<div>\n<style scoped>\n    .dataframe tbody tr th:only-of-type {\n        vertical-align: middle;\n    }\n\n    .dataframe tbody tr th {\n        vertical-align: top;\n    }\n\n    .dataframe thead th {\n        text-align: right;\n    }\n</style>\n<table border=\"1\" class=\"dataframe\">\n  <thead>\n    <tr style=\"text-align: right;\">\n      <th></th>\n      <th>Id</th>\n      <th>MSSubClass</th>\n      <th>MSZoning</th>\n      <th>LotFrontage</th>\n      <th>LotArea</th>\n      <th>Street</th>\n      <th>Alley</th>\n      <th>LotShape</th>\n      <th>LandContour</th>\n      <th>Utilities</th>\n      <th>...</th>\n      <th>PoolArea</th>\n      <th>PoolQC</th>\n      <th>Fence</th>\n      <th>MiscFeature</th>\n      <th>MiscVal</th>\n      <th>MoSold</th>\n      <th>YrSold</th>\n      <th>SaleType</th>\n      <th>SaleCondition</th>\n      <th>SalePrice</th>\n    </tr>\n  </thead>\n  <tbody>\n    <tr>\n      <th>5</th>\n      <td>6</td>\n      <td>50</td>\n      <td>RL</td>\n      <td>85.0</td>\n      <td>14115</td>\n      <td>Pave</td>\n      <td>NaN</td>\n      <td>IR1</td>\n      <td>Lvl</td>\n      <td>AllPub</td>\n      <td>...</td>\n      <td>0</td>\n      <td>NaN</td>\n      <td>MnPrv</td>\n      <td>Shed</td>\n      <td>700</td>\n      <td>10</td>\n      <td>2009</td>\n      <td>WD</td>\n      <td>Normal</td>\n      <td>143000</td>\n    </tr>\n    <tr>\n      <th>14</th>\n      <td>15</td>\n      <td>20</td>\n      <td>RL</td>\n      <td>NaN</td>\n      <td>10920</td>\n      <td>Pave</td>\n      <td>NaN</td>\n      <td>IR1</td>\n      <td>Lvl</td>\n      <td>AllPub</td>\n      <td>...</td>\n      <td>0</td>\n      <td>NaN</td>\n      <td>GdWo</td>\n      <td>NaN</td>\n      <td>0</td>\n      <td>5</td>\n      <td>2008</td>\n      <td>WD</td>\n      <td>Normal</td>\n      <td>157000</td>\n    </tr>\n    <tr>\n      <th>15</th>\n      <td>16</td>\n      <td>45</td>\n      <td>RM</td>\n      <td>51.0</td>\n      <td>6120</td>\n      <td>Pave</td>\n      <td>NaN</td>\n      <td>Reg</td>\n      <td>Lvl</td>\n      <td>AllPub</td>\n      <td>...</td>\n      <td>0</td>\n      <td>NaN</td>\n      <td>GdPrv</td>\n      <td>NaN</td>\n      <td>0</td>\n      <td>7</td>\n      <td>2007</td>\n      <td>WD</td>\n      <td>Normal</td>\n      <td>132000</td>\n    </tr>\n    <tr>\n      <th>19</th>\n      <td>20</td>\n      <td>20</td>\n      <td>RL</td>\n      <td>70.0</td>\n      <td>7560</td>\n      <td>Pave</td>\n      <td>NaN</td>\n      <td>Reg</td>\n      <td>Lvl</td>\n      <td>AllPub</td>\n      <td>...</td>\n      <td>0</td>\n      <td>NaN</td>\n      <td>MnPrv</td>\n      <td>NaN</td>\n      <td>0</td>\n      <td>5</td>\n      <td>2009</td>\n      <td>COD</td>\n      <td>Abnorml</td>\n      <td>139000</td>\n    </tr>\n    <tr>\n      <th>21</th>\n      <td>22</td>\n      <td>45</td>\n      <td>RM</td>\n      <td>57.0</td>\n      <td>7449</td>\n      <td>Pave</td>\n      <td>Grvl</td>\n      <td>Reg</td>\n      <td>Bnk</td>\n      <td>AllPub</td>\n      <td>...</td>\n      <td>0</td>\n      <td>NaN</td>\n      <td>GdPrv</td>\n      <td>NaN</td>\n      <td>0</td>\n      <td>6</td>\n      <td>2007</td>\n      <td>WD</td>\n      <td>Normal</td>\n      <td>139400</td>\n    </tr>\n    <tr>\n      <th>...</th>\n      <td>...</td>\n      <td>...</td>\n      <td>...</td>\n      <td>...</td>\n      <td>...</td>\n      <td>...</td>\n      <td>...</td>\n      <td>...</td>\n      <td>...</td>\n      <td>...</td>\n      <td>...</td>\n      <td>...</td>\n      <td>...</td>\n      <td>...</td>\n      <td>...</td>\n      <td>...</td>\n      <td>...</td>\n      <td>...</td>\n      <td>...</td>\n      <td>...</td>\n      <td>...</td>\n    </tr>\n    <tr>\n      <th>1436</th>\n      <td>1437</td>\n      <td>20</td>\n      <td>RL</td>\n      <td>60.0</td>\n      <td>9000</td>\n      <td>Pave</td>\n      <td>NaN</td>\n      <td>Reg</td>\n      <td>Lvl</td>\n      <td>AllPub</td>\n      <td>...</td>\n      <td>0</td>\n      <td>NaN</td>\n      <td>GdWo</td>\n      <td>NaN</td>\n      <td>0</td>\n      <td>5</td>\n      <td>2007</td>\n      <td>WD</td>\n      <td>Normal</td>\n      <td>120500</td>\n    </tr>\n    <tr>\n      <th>1438</th>\n      <td>1439</td>\n      <td>20</td>\n      <td>RM</td>\n      <td>90.0</td>\n      <td>7407</td>\n      <td>Pave</td>\n      <td>NaN</td>\n      <td>Reg</td>\n      <td>Lvl</td>\n      <td>AllPub</td>\n      <td>...</td>\n      <td>0</td>\n      <td>NaN</td>\n      <td>MnPrv</td>\n      <td>NaN</td>\n      <td>0</td>\n      <td>4</td>\n      <td>2010</td>\n      <td>WD</td>\n      <td>Normal</td>\n      <td>149700</td>\n    </tr>\n    <tr>\n      <th>1448</th>\n      <td>1449</td>\n      <td>50</td>\n      <td>RL</td>\n      <td>70.0</td>\n      <td>11767</td>\n      <td>Pave</td>\n      <td>NaN</td>\n      <td>Reg</td>\n      <td>Lvl</td>\n      <td>AllPub</td>\n      <td>...</td>\n      <td>0</td>\n      <td>NaN</td>\n      <td>GdWo</td>\n      <td>NaN</td>\n      <td>0</td>\n      <td>5</td>\n      <td>2007</td>\n      <td>WD</td>\n      <td>Normal</td>\n      <td>112000</td>\n    </tr>\n    <tr>\n      <th>1456</th>\n      <td>1457</td>\n      <td>20</td>\n      <td>RL</td>\n      <td>85.0</td>\n      <td>13175</td>\n      <td>Pave</td>\n      <td>NaN</td>\n      <td>Reg</td>\n      <td>Lvl</td>\n      <td>AllPub</td>\n      <td>...</td>\n      <td>0</td>\n      <td>NaN</td>\n      <td>MnPrv</td>\n      <td>NaN</td>\n      <td>0</td>\n      <td>2</td>\n      <td>2010</td>\n      <td>WD</td>\n      <td>Normal</td>\n      <td>210000</td>\n    </tr>\n    <tr>\n      <th>1457</th>\n      <td>1458</td>\n      <td>70</td>\n      <td>RL</td>\n      <td>66.0</td>\n      <td>9042</td>\n      <td>Pave</td>\n      <td>NaN</td>\n      <td>Reg</td>\n      <td>Lvl</td>\n      <td>AllPub</td>\n      <td>...</td>\n      <td>0</td>\n      <td>NaN</td>\n      <td>GdPrv</td>\n      <td>Shed</td>\n      <td>2500</td>\n      <td>5</td>\n      <td>2010</td>\n      <td>WD</td>\n      <td>Normal</td>\n      <td>266500</td>\n    </tr>\n  </tbody>\n</table>\n<p>281 rows × 81 columns</p>\n</div>"
     },
     "metadata": {},
     "execution_count": 10
    }
   ],
   "source": [
    "df3[df3.Fence.notnull()]"
   ]
  },
  {
   "cell_type": "code",
   "execution_count": 11,
   "metadata": {},
   "outputs": [
    {
     "output_type": "execute_result",
     "data": {
      "text/plain": [
       "5       MnPrv\n",
       "14       GdWo\n",
       "15      GdPrv\n",
       "19      MnPrv\n",
       "21      GdPrv\n",
       "        ...  \n",
       "1436     GdWo\n",
       "1438    MnPrv\n",
       "1448     GdWo\n",
       "1456    MnPrv\n",
       "1457    GdPrv\n",
       "Name: Fence, Length: 281, dtype: object"
      ]
     },
     "metadata": {},
     "execution_count": 11
    }
   ],
   "source": [
    "df3[df3.Fence.notnull()][\"Fence\"]"
   ]
  },
  {
   "cell_type": "code",
   "execution_count": null,
   "metadata": {},
   "outputs": [],
   "source": []
  }
 ]
}