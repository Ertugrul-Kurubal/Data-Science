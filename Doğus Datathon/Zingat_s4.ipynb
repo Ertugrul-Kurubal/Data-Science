{
  "nbformat": 4,
  "nbformat_minor": 0,
  "metadata": {
    "kernelspec": {
      "display_name": "Python 3",
      "language": "python",
      "name": "python3"
    },
    "language_info": {
      "codemirror_mode": {
        "name": "ipython",
        "version": 3
      },
      "file_extension": ".py",
      "mimetype": "text/x-python",
      "name": "python",
      "nbconvert_exporter": "python",
      "pygments_lexer": "ipython3",
      "version": "3.8.11"
    },
    "colab": {
      "name": "Zingat s4",
      "provenance": [],
      "collapsed_sections": [
        "xTPpVayac3Ss",
        "r0zgJ_m2c3Su",
        "s7GpK8l-c3Sw",
        "IRJPF1_pc3Sx",
        "6rZ_l6Bic3S1",
        "aWjfapTEc3S3",
        "AmZ7yRQ8c3TF",
        "lSvJ1kfuc3TP",
        "GVpPxLkwc3TR",
        "TaFRZYD5c3TS",
        "EB-uVVvOc3TS",
        "kMidUJT6c3TT",
        "MnTc2c1Zc3TW",
        "LimANTXFc3To",
        "R0YQGrFJc3Tp",
        "IC8MMPzYc3Tr"
      ]
    }
  },
  "cells": [
    {
      "cell_type": "markdown",
      "metadata": {
        "id": "GdQ2RkbTc3SN"
      },
      "source": [
        "## 1. Import Modules, Load Data and Data Review"
      ]
    },
    {
      "cell_type": "code",
      "metadata": {
        "id": "VZYfZ0ckc3SU"
      },
      "source": [
        "import numpy as np\n",
        "import pandas as pd\n",
        "import seaborn as sns\n",
        "import matplotlib.pyplot as plt\n",
        "pd.set_option('display.max_columns', 500)\n",
        "pd.set_option('display.max_rows', 200)\n",
        "import warnings\n",
        "warnings.filterwarnings(\"ignore\")\n",
        "pd.options.display.float_format = '{:.10f}'.format\n",
        "np.set_printoptions(precision=None, suppress=True)"
      ],
      "execution_count": null,
      "outputs": []
    },
    {
      "cell_type": "code",
      "metadata": {
        "colab": {
          "base_uri": "https://localhost:8080/"
        },
        "id": "M72rVYSzdKBk",
        "outputId": "20ded751-b8fa-4a4b-9620-5c93252a4bd1"
      },
      "source": [
        "from google.colab import files\n",
        "from google.colab import drive\n",
        "drive.mount('/content/gdrive')"
      ],
      "execution_count": null,
      "outputs": [
        {
          "output_type": "stream",
          "name": "stdout",
          "text": [
            "Mounted at /content/gdrive\n"
          ]
        }
      ]
    },
    {
      "cell_type": "code",
      "metadata": {
        "id": "_EdBLEa8f3df"
      },
      "source": [
        "# !pip install -q kaggle\n",
        "# files.upload()\n",
        "# ! mkdir ~/.kaggle\n",
        "# ! cp /content/kaggle/kaggle.json ~/.kaggle/\n",
        "#! kaggle datasets list\n",
        "#  ! kaggle competitions download -c dogus-teknoloji-zingat\n",
        "# ! mkdir train\n",
        "# ! unzip /content/zingat_usecase_trainset.csv.zip -d train\n",
        "# ! unzip /content/zingat_usecase_testset_null.csv.zip -d train"
      ],
      "execution_count": null,
      "outputs": []
    },
    {
      "cell_type": "code",
      "metadata": {
        "id": "cOae4OLVc3SZ"
      },
      "source": [
        "df = pd.read_csv(\"/content/gdrive/MyDrive/DATA/train/zingat_usecase_trainset.csv\")"
      ],
      "execution_count": null,
      "outputs": []
    },
    {
      "cell_type": "code",
      "metadata": {
        "id": "LZ3r8z8Tc3Sa"
      },
      "source": [
        "df.head()"
      ],
      "execution_count": null,
      "outputs": []
    },
    {
      "cell_type": "code",
      "metadata": {
        "id": "3AwQe4HEtomk"
      },
      "source": [
        "df = df.convert_dtypes()"
      ],
      "execution_count": null,
      "outputs": []
    },
    {
      "cell_type": "code",
      "metadata": {
        "id": "588ITNnGc3Se"
      },
      "source": [
        "df.info()"
      ],
      "execution_count": null,
      "outputs": []
    },
    {
      "cell_type": "code",
      "metadata": {
        "id": "sb4-R4fwc3Sg",
        "colab": {
          "base_uri": "https://localhost:8080/"
        },
        "outputId": "e529f19d-e28f-4c9b-c934-e3256fee653f"
      },
      "source": [
        "df.shape"
      ],
      "execution_count": null,
      "outputs": [
        {
          "output_type": "execute_result",
          "data": {
            "text/plain": [
              "(64573, 21)"
            ]
          },
          "metadata": {},
          "execution_count": 5
        }
      ]
    },
    {
      "cell_type": "code",
      "metadata": {
        "id": "UMzSSJ98c3Sh",
        "colab": {
          "base_uri": "https://localhost:8080/"
        },
        "outputId": "f220f005-b37d-4f1e-b124-cb2328d3cbff"
      },
      "source": [
        "df.isna().sum().all()"
      ],
      "execution_count": null,
      "outputs": [
        {
          "output_type": "execute_result",
          "data": {
            "text/plain": [
              "False"
            ]
          },
          "metadata": {},
          "execution_count": 10
        }
      ]
    },
    {
      "cell_type": "code",
      "metadata": {
        "id": "tQpUJ4nBc3Sj",
        "colab": {
          "base_uri": "https://localhost:8080/"
        },
        "outputId": "d02a110d-9101-45e8-91fb-301d4f584b0d"
      },
      "source": [
        "df.duplicated().any()"
      ],
      "execution_count": null,
      "outputs": [
        {
          "output_type": "execute_result",
          "data": {
            "text/plain": [
              "False"
            ]
          },
          "metadata": {},
          "execution_count": 6
        }
      ]
    },
    {
      "cell_type": "code",
      "metadata": {
        "id": "C4mXvlt9t5HS"
      },
      "source": [
        "# dolar_kuru = pd.read_csv('/content/gdrive/MyDrive/DATA/train/Dolar_Kuru.csv')"
      ],
      "execution_count": null,
      "outputs": []
    },
    {
      "cell_type": "code",
      "metadata": {
        "id": "iNf84qeOuviR"
      },
      "source": [
        "# df = df.join(dolar_kuru.set_index('Tarih'), on='tarih')\n",
        "# df"
      ],
      "execution_count": null,
      "outputs": []
    },
    {
      "cell_type": "markdown",
      "metadata": {
        "id": "9izOCDKyc3Sk"
      },
      "source": [
        "## Feature Engineering"
      ]
    },
    {
      "cell_type": "markdown",
      "metadata": {
        "id": "9tT0YpUTc3Sl"
      },
      "source": [
        "#### Ilan_ID"
      ]
    },
    {
      "cell_type": "code",
      "metadata": {
        "id": "u2TmScDsc3Sn",
        "colab": {
          "base_uri": "https://localhost:8080/"
        },
        "outputId": "b324e1d3-a463-4379-a46d-6d54957915a8"
      },
      "source": [
        "df.Ilan_ID.nunique()"
      ],
      "execution_count": null,
      "outputs": [
        {
          "output_type": "execute_result",
          "data": {
            "text/plain": [
              "64573"
            ]
          },
          "metadata": {},
          "execution_count": 7
        }
      ]
    },
    {
      "cell_type": "code",
      "metadata": {
        "id": "KbEjUtQbc3So"
      },
      "source": [
        "df.drop(\"Ilan_ID\", axis=1, inplace=True)"
      ],
      "execution_count": null,
      "outputs": []
    },
    {
      "cell_type": "markdown",
      "metadata": {
        "id": "F4_hrz3hc3So"
      },
      "source": [
        "Ilan_ID her satırda farklı bir değer olduğu için düşürüldü"
      ]
    },
    {
      "cell_type": "code",
      "metadata": {
        "id": "BtKZAHGmc3Sp"
      },
      "source": [
        "df.rename(columns={\"path\": \"adres\",             # Sütun isimleri kullanım kolaylığı açısından değiştirildi\n",
        "                   \"güncel_fiyat\": \"fiyat\",\n",
        "                   \"odasayısı\": \"oda_sayısı\",\n",
        "                   \"brütm²\": \"brüt_m2\",\n",
        "                   \"netm²\": \"net_m2\",\n",
        "                   \"emlaktipi\": \"emlak_tipi\",\n",
        "                   \"binayaşı\": \"bina_yaşı\",\n",
        "                   \"bulunduğukat\": \"bulunduğu_kat\",\n",
        "                   \"binadakikatsayısı\": \"kat_sayısı\",\n",
        "                   \"isıtmatipi\": \"ısıtma_tipi\",\n",
        "                   \"banyosayisi\": \"banyo_sayısı\",\n",
        "                   \"İnterkom\": \"interkom\",\n",
        "                   \"depremyönetmeliğineuygun\": \"deprem_yönetmeliğine_uygun\",\n",
        "                   \"Çocukoyunalanı\": \"çocuk_oyun_alanı\",\n",
        "                   \"giyinmeodası\": \"giyinme_odası\",\n",
        "                   \"ebeveynbanyosu\": \"ebeveyn_banyosu\"}, inplace=True)"
      ],
      "execution_count": null,
      "outputs": []
    },
    {
      "cell_type": "markdown",
      "metadata": {
        "id": "7fk1fVEUc3Sr"
      },
      "source": [
        "#### tarih"
      ]
    },
    {
      "cell_type": "code",
      "metadata": {
        "id": "W2V_JCK_c3Sr",
        "colab": {
          "base_uri": "https://localhost:8080/",
          "height": 360
        },
        "outputId": "34639509-386b-4257-c488-af03cf58f35f"
      },
      "source": [
        "df['tarih'] = pd.to_datetime(df['tarih']) # Tarih sütunu yıl ve ay olmak üzere iki farklı sütuna ayrıldı\n",
        "df['yıl'] = df['tarih'].apply(lambda date : date.year)\n",
        "df['ay'] = df['tarih'].apply(lambda date : date.month)\n",
        "df = df.drop('tarih', axis=1)\n",
        "df.head()"
      ],
      "execution_count": null,
      "outputs": [
        {
          "output_type": "execute_result",
          "data": {
            "text/html": [
              "<div>\n",
              "<style scoped>\n",
              "    .dataframe tbody tr th:only-of-type {\n",
              "        vertical-align: middle;\n",
              "    }\n",
              "\n",
              "    .dataframe tbody tr th {\n",
              "        vertical-align: top;\n",
              "    }\n",
              "\n",
              "    .dataframe thead th {\n",
              "        text-align: right;\n",
              "    }\n",
              "</style>\n",
              "<table border=\"1\" class=\"dataframe\">\n",
              "  <thead>\n",
              "    <tr style=\"text-align: right;\">\n",
              "      <th></th>\n",
              "      <th>adres</th>\n",
              "      <th>fiyat</th>\n",
              "      <th>oda_sayısı</th>\n",
              "      <th>brüt_m2</th>\n",
              "      <th>net_m2</th>\n",
              "      <th>emlak_tipi</th>\n",
              "      <th>bina_yaşı</th>\n",
              "      <th>bulunduğu_kat</th>\n",
              "      <th>kat_sayısı</th>\n",
              "      <th>ısıtma_tipi</th>\n",
              "      <th>banyo_sayısı</th>\n",
              "      <th>manzara</th>\n",
              "      <th>otopark</th>\n",
              "      <th>interkom</th>\n",
              "      <th>deprem_yönetmeliğine_uygun</th>\n",
              "      <th>asansör</th>\n",
              "      <th>çocuk_oyun_alanı</th>\n",
              "      <th>giyinme_odası</th>\n",
              "      <th>ebeveyn_banyosu</th>\n",
              "      <th>yıl</th>\n",
              "      <th>ay</th>\n",
              "    </tr>\n",
              "  </thead>\n",
              "  <tbody>\n",
              "    <tr>\n",
              "      <th>0</th>\n",
              "      <td>İstanbul/Beylikdüzü/Adnan Kahveci</td>\n",
              "      <td>1050000 TRY</td>\n",
              "      <td>5+2</td>\n",
              "      <td>380</td>\n",
              "      <td>370</td>\n",
              "      <td>Daire</td>\n",
              "      <td>16-20 arası</td>\n",
              "      <td>12</td>\n",
              "      <td>10-20 arası</td>\n",
              "      <td>Kombi (Doğalgaz)</td>\n",
              "      <td>3</td>\n",
              "      <td>Cadde,Deniz,Göl</td>\n",
              "      <td>Var (Ücretsiz, Kapalı)</td>\n",
              "      <td>VAR</td>\n",
              "      <td>VAR</td>\n",
              "      <td>VAR</td>\n",
              "      <td>VAR</td>\n",
              "      <td>VAR</td>\n",
              "      <td>VAR</td>\n",
              "      <td>2019</td>\n",
              "      <td>1</td>\n",
              "    </tr>\n",
              "    <tr>\n",
              "      <th>1</th>\n",
              "      <td>İstanbul/Kadıköy/Erenköy</td>\n",
              "      <td>547500 TRY</td>\n",
              "      <td>2+1</td>\n",
              "      <td>65</td>\n",
              "      <td>55</td>\n",
              "      <td>Daire</td>\n",
              "      <td>0</td>\n",
              "      <td>1</td>\n",
              "      <td>7</td>\n",
              "      <td>Kombi (Doğalgaz)</td>\n",
              "      <td>1</td>\n",
              "      <td>_</td>\n",
              "      <td>-</td>\n",
              "      <td>VAR</td>\n",
              "      <td>YOK</td>\n",
              "      <td>VAR</td>\n",
              "      <td>YOK</td>\n",
              "      <td>YOK</td>\n",
              "      <td>YOK</td>\n",
              "      <td>2019</td>\n",
              "      <td>1</td>\n",
              "    </tr>\n",
              "    <tr>\n",
              "      <th>2</th>\n",
              "      <td>İstanbul/Beylikdüzü/Adnan Kahveci</td>\n",
              "      <td>440000 TRY</td>\n",
              "      <td>3+1</td>\n",
              "      <td>205</td>\n",
              "      <td>197</td>\n",
              "      <td>Daire</td>\n",
              "      <td>11-15 arası</td>\n",
              "      <td>2</td>\n",
              "      <td>10-20 arası</td>\n",
              "      <td>Kombi (Doğalgaz)</td>\n",
              "      <td>2</td>\n",
              "      <td>Cadde,Şehir</td>\n",
              "      <td>Var (Ücretsiz, Kapalı)</td>\n",
              "      <td>VAR</td>\n",
              "      <td>VAR</td>\n",
              "      <td>VAR</td>\n",
              "      <td>YOK</td>\n",
              "      <td>YOK</td>\n",
              "      <td>VAR</td>\n",
              "      <td>2019</td>\n",
              "      <td>1</td>\n",
              "    </tr>\n",
              "    <tr>\n",
              "      <th>3</th>\n",
              "      <td>İstanbul/Beşiktaş/Nisbetiye</td>\n",
              "      <td>1450000 TRY</td>\n",
              "      <td>3+1</td>\n",
              "      <td>150</td>\n",
              "      <td>130</td>\n",
              "      <td>Daire</td>\n",
              "      <td>26-30 arası</td>\n",
              "      <td>3</td>\n",
              "      <td>5</td>\n",
              "      <td>Merkezi Sistem (Isı Payı Ölçer)</td>\n",
              "      <td>2</td>\n",
              "      <td>Cadde,Şehir</td>\n",
              "      <td>Var (Ücretsiz, Açık)</td>\n",
              "      <td>YOK</td>\n",
              "      <td>YOK</td>\n",
              "      <td>VAR</td>\n",
              "      <td>YOK</td>\n",
              "      <td>YOK</td>\n",
              "      <td>VAR</td>\n",
              "      <td>2019</td>\n",
              "      <td>1</td>\n",
              "    </tr>\n",
              "    <tr>\n",
              "      <th>4</th>\n",
              "      <td>İstanbul/Beylikdüzü/Cumhuriyet</td>\n",
              "      <td>169000 TRY</td>\n",
              "      <td>2+1</td>\n",
              "      <td>70</td>\n",
              "      <td>65</td>\n",
              "      <td>Daire</td>\n",
              "      <td>1</td>\n",
              "      <td>Kot 1</td>\n",
              "      <td>6</td>\n",
              "      <td>Kombi (Doğalgaz)</td>\n",
              "      <td>1</td>\n",
              "      <td>Boğaz,Deniz,Göl,Doğa</td>\n",
              "      <td>Var</td>\n",
              "      <td>VAR</td>\n",
              "      <td>YOK</td>\n",
              "      <td>VAR</td>\n",
              "      <td>YOK</td>\n",
              "      <td>VAR</td>\n",
              "      <td>VAR</td>\n",
              "      <td>2019</td>\n",
              "      <td>1</td>\n",
              "    </tr>\n",
              "  </tbody>\n",
              "</table>\n",
              "</div>"
            ],
            "text/plain": [
              "                               adres        fiyat oda_sayısı  brüt_m2  net_m2  \\\n",
              "0  İstanbul/Beylikdüzü/Adnan Kahveci  1050000 TRY        5+2      380     370   \n",
              "1           İstanbul/Kadıköy/Erenköy   547500 TRY        2+1       65      55   \n",
              "2  İstanbul/Beylikdüzü/Adnan Kahveci   440000 TRY        3+1      205     197   \n",
              "3        İstanbul/Beşiktaş/Nisbetiye  1450000 TRY        3+1      150     130   \n",
              "4     İstanbul/Beylikdüzü/Cumhuriyet   169000 TRY        2+1       70      65   \n",
              "\n",
              "  emlak_tipi    bina_yaşı bulunduğu_kat   kat_sayısı  \\\n",
              "0      Daire  16-20 arası            12  10-20 arası   \n",
              "1      Daire            0             1            7   \n",
              "2      Daire  11-15 arası             2  10-20 arası   \n",
              "3      Daire  26-30 arası             3            5   \n",
              "4      Daire            1         Kot 1            6   \n",
              "\n",
              "                       ısıtma_tipi banyo_sayısı               manzara  \\\n",
              "0                 Kombi (Doğalgaz)            3       Cadde,Deniz,Göl   \n",
              "1                 Kombi (Doğalgaz)            1                     _   \n",
              "2                 Kombi (Doğalgaz)            2           Cadde,Şehir   \n",
              "3  Merkezi Sistem (Isı Payı Ölçer)            2           Cadde,Şehir   \n",
              "4                 Kombi (Doğalgaz)            1  Boğaz,Deniz,Göl,Doğa   \n",
              "\n",
              "                  otopark interkom deprem_yönetmeliğine_uygun asansör  \\\n",
              "0  Var (Ücretsiz, Kapalı)      VAR                        VAR     VAR   \n",
              "1                       -      VAR                        YOK     VAR   \n",
              "2  Var (Ücretsiz, Kapalı)      VAR                        VAR     VAR   \n",
              "3    Var (Ücretsiz, Açık)      YOK                        YOK     VAR   \n",
              "4                     Var      VAR                        YOK     VAR   \n",
              "\n",
              "  çocuk_oyun_alanı giyinme_odası ebeveyn_banyosu   yıl  ay  \n",
              "0              VAR           VAR             VAR  2019   1  \n",
              "1              YOK           YOK             YOK  2019   1  \n",
              "2              YOK           YOK             VAR  2019   1  \n",
              "3              YOK           YOK             VAR  2019   1  \n",
              "4              YOK           VAR             VAR  2019   1  "
            ]
          },
          "metadata": {},
          "execution_count": 10
        }
      ]
    },
    {
      "cell_type": "markdown",
      "metadata": {
        "id": "xTPpVayac3Ss"
      },
      "source": [
        "#### fiyat"
      ]
    },
    {
      "cell_type": "code",
      "metadata": {
        "id": "yLlky68Fc3St"
      },
      "source": [
        "df['fiyat'] = df['fiyat'].str.replace(' TRY', '').astype(\"int64\") # Fiyat sütunu integer olarak değiştirild."
      ],
      "execution_count": null,
      "outputs": []
    },
    {
      "cell_type": "code",
      "metadata": {
        "id": "t-dg6xV-c3St"
      },
      "source": [
        "df.info()"
      ],
      "execution_count": null,
      "outputs": []
    },
    {
      "cell_type": "markdown",
      "metadata": {
        "id": "r0zgJ_m2c3Su"
      },
      "source": [
        "#### interkom, deprem_yönetmeliğine_uygun, asansör, çocuk_oyun_alanı, giyinme_odası, ebeveyn_banyosu"
      ]
    },
    {
      "cell_type": "code",
      "metadata": {
        "id": "rInul59bc3Sv"
      },
      "source": [
        "ls = [\"interkom\", \"deprem_yönetmeliğine_uygun\", \"asansör\", # VAR ve YOK olarak belirtilen altı özellik 1 ve 0 olarak değiştirildi\n",
        "      \"çocuk_oyun_alanı\", \"giyinme_odası\", \"ebeveyn_banyosu\"]\n",
        "for i in ls:\n",
        "    df[i] = df[i].map({'VAR': 1, 'YOK': 0})"
      ],
      "execution_count": null,
      "outputs": []
    },
    {
      "cell_type": "code",
      "metadata": {
        "id": "LB1rMxNpc3Sv"
      },
      "source": [
        "df.head()"
      ],
      "execution_count": null,
      "outputs": []
    },
    {
      "cell_type": "markdown",
      "metadata": {
        "id": "s7GpK8l-c3Sw"
      },
      "source": [
        "#### adres\n",
        "Mahalleye kadar detaylı olan adres satırı sadece ilçe/mahalle kalacak şekilde sadeleştirildi"
      ]
    },
    {
      "cell_type": "code",
      "metadata": {
        "id": "uuAsVRYdc3Sx"
      },
      "source": [
        "# df.adres = df.adres.str.split('/', expand=True)[0].astype(\n",
        "#     str) + \"/\" + df.adres.str.split('/', expand=True)[1].astype(str)"
      ],
      "execution_count": null,
      "outputs": []
    },
    {
      "cell_type": "code",
      "metadata": {
        "id": "6K6dMGMiQg70"
      },
      "source": [
        "# df = df.groupby('adres').filter(lambda x : len(x)>=20)"
      ],
      "execution_count": null,
      "outputs": []
    },
    {
      "cell_type": "markdown",
      "metadata": {
        "id": "IRJPF1_pc3Sx"
      },
      "source": [
        "#### oda_sayısı\n",
        "oda_sayısı sütunu toplandı."
      ]
    },
    {
      "cell_type": "code",
      "metadata": {
        "id": "bF_QM6bec3Sy"
      },
      "source": [
        "df['oda_sayısı'] = df['oda_sayısı'].replace(\"-\",\"0+0\")"
      ],
      "execution_count": null,
      "outputs": []
    },
    {
      "cell_type": "code",
      "metadata": {
        "id": "Wfawh9jSc3Sz"
      },
      "source": [
        "df[\"oda_sayısı\"] = df.oda_sayısı.str.split('+', expand=True)[0].astype(\"int64\") + df.oda_sayısı.str.split('+', expand=True)[1].astype(\"int64\") "
      ],
      "execution_count": null,
      "outputs": []
    },
    {
      "cell_type": "code",
      "metadata": {
        "id": "oMrSHu7Sc3S0",
        "colab": {
          "base_uri": "https://localhost:8080/",
          "height": 360
        },
        "outputId": "1bc17043-67f5-4d92-ad69-17f06b2dd6ff"
      },
      "source": [
        "df.head()"
      ],
      "execution_count": null,
      "outputs": [
        {
          "output_type": "execute_result",
          "data": {
            "text/html": [
              "<div>\n",
              "<style scoped>\n",
              "    .dataframe tbody tr th:only-of-type {\n",
              "        vertical-align: middle;\n",
              "    }\n",
              "\n",
              "    .dataframe tbody tr th {\n",
              "        vertical-align: top;\n",
              "    }\n",
              "\n",
              "    .dataframe thead th {\n",
              "        text-align: right;\n",
              "    }\n",
              "</style>\n",
              "<table border=\"1\" class=\"dataframe\">\n",
              "  <thead>\n",
              "    <tr style=\"text-align: right;\">\n",
              "      <th></th>\n",
              "      <th>adres</th>\n",
              "      <th>fiyat</th>\n",
              "      <th>oda_sayısı</th>\n",
              "      <th>brüt_m2</th>\n",
              "      <th>net_m2</th>\n",
              "      <th>emlak_tipi</th>\n",
              "      <th>bina_yaşı</th>\n",
              "      <th>bulunduğu_kat</th>\n",
              "      <th>kat_sayısı</th>\n",
              "      <th>ısıtma_tipi</th>\n",
              "      <th>banyo_sayısı</th>\n",
              "      <th>manzara</th>\n",
              "      <th>otopark</th>\n",
              "      <th>interkom</th>\n",
              "      <th>deprem_yönetmeliğine_uygun</th>\n",
              "      <th>asansör</th>\n",
              "      <th>çocuk_oyun_alanı</th>\n",
              "      <th>giyinme_odası</th>\n",
              "      <th>ebeveyn_banyosu</th>\n",
              "      <th>yıl</th>\n",
              "      <th>ay</th>\n",
              "    </tr>\n",
              "  </thead>\n",
              "  <tbody>\n",
              "    <tr>\n",
              "      <th>0</th>\n",
              "      <td>İstanbul/Beylikdüzü/Adnan Kahveci</td>\n",
              "      <td>1050000</td>\n",
              "      <td>7</td>\n",
              "      <td>380</td>\n",
              "      <td>370</td>\n",
              "      <td>Daire</td>\n",
              "      <td>16-20 arası</td>\n",
              "      <td>12</td>\n",
              "      <td>10-20 arası</td>\n",
              "      <td>Kombi (Doğalgaz)</td>\n",
              "      <td>3</td>\n",
              "      <td>Cadde,Deniz,Göl</td>\n",
              "      <td>Var (Ücretsiz, Kapalı)</td>\n",
              "      <td>1</td>\n",
              "      <td>1</td>\n",
              "      <td>1</td>\n",
              "      <td>1</td>\n",
              "      <td>1</td>\n",
              "      <td>1</td>\n",
              "      <td>2019</td>\n",
              "      <td>1</td>\n",
              "    </tr>\n",
              "    <tr>\n",
              "      <th>1</th>\n",
              "      <td>İstanbul/Kadıköy/Erenköy</td>\n",
              "      <td>547500</td>\n",
              "      <td>3</td>\n",
              "      <td>65</td>\n",
              "      <td>55</td>\n",
              "      <td>Daire</td>\n",
              "      <td>0</td>\n",
              "      <td>1</td>\n",
              "      <td>7</td>\n",
              "      <td>Kombi (Doğalgaz)</td>\n",
              "      <td>1</td>\n",
              "      <td>_</td>\n",
              "      <td>-</td>\n",
              "      <td>1</td>\n",
              "      <td>0</td>\n",
              "      <td>1</td>\n",
              "      <td>0</td>\n",
              "      <td>0</td>\n",
              "      <td>0</td>\n",
              "      <td>2019</td>\n",
              "      <td>1</td>\n",
              "    </tr>\n",
              "    <tr>\n",
              "      <th>2</th>\n",
              "      <td>İstanbul/Beylikdüzü/Adnan Kahveci</td>\n",
              "      <td>440000</td>\n",
              "      <td>4</td>\n",
              "      <td>205</td>\n",
              "      <td>197</td>\n",
              "      <td>Daire</td>\n",
              "      <td>11-15 arası</td>\n",
              "      <td>2</td>\n",
              "      <td>10-20 arası</td>\n",
              "      <td>Kombi (Doğalgaz)</td>\n",
              "      <td>2</td>\n",
              "      <td>Cadde,Şehir</td>\n",
              "      <td>Var (Ücretsiz, Kapalı)</td>\n",
              "      <td>1</td>\n",
              "      <td>1</td>\n",
              "      <td>1</td>\n",
              "      <td>0</td>\n",
              "      <td>0</td>\n",
              "      <td>1</td>\n",
              "      <td>2019</td>\n",
              "      <td>1</td>\n",
              "    </tr>\n",
              "    <tr>\n",
              "      <th>3</th>\n",
              "      <td>İstanbul/Beşiktaş/Nisbetiye</td>\n",
              "      <td>1450000</td>\n",
              "      <td>4</td>\n",
              "      <td>150</td>\n",
              "      <td>130</td>\n",
              "      <td>Daire</td>\n",
              "      <td>26-30 arası</td>\n",
              "      <td>3</td>\n",
              "      <td>5</td>\n",
              "      <td>Merkezi Sistem (Isı Payı Ölçer)</td>\n",
              "      <td>2</td>\n",
              "      <td>Cadde,Şehir</td>\n",
              "      <td>Var (Ücretsiz, Açık)</td>\n",
              "      <td>0</td>\n",
              "      <td>0</td>\n",
              "      <td>1</td>\n",
              "      <td>0</td>\n",
              "      <td>0</td>\n",
              "      <td>1</td>\n",
              "      <td>2019</td>\n",
              "      <td>1</td>\n",
              "    </tr>\n",
              "    <tr>\n",
              "      <th>4</th>\n",
              "      <td>İstanbul/Beylikdüzü/Cumhuriyet</td>\n",
              "      <td>169000</td>\n",
              "      <td>3</td>\n",
              "      <td>70</td>\n",
              "      <td>65</td>\n",
              "      <td>Daire</td>\n",
              "      <td>1</td>\n",
              "      <td>Kot 1</td>\n",
              "      <td>6</td>\n",
              "      <td>Kombi (Doğalgaz)</td>\n",
              "      <td>1</td>\n",
              "      <td>Boğaz,Deniz,Göl,Doğa</td>\n",
              "      <td>Var</td>\n",
              "      <td>1</td>\n",
              "      <td>0</td>\n",
              "      <td>1</td>\n",
              "      <td>0</td>\n",
              "      <td>1</td>\n",
              "      <td>1</td>\n",
              "      <td>2019</td>\n",
              "      <td>1</td>\n",
              "    </tr>\n",
              "  </tbody>\n",
              "</table>\n",
              "</div>"
            ],
            "text/plain": [
              "                               adres    fiyat  oda_sayısı  brüt_m2  net_m2  \\\n",
              "0  İstanbul/Beylikdüzü/Adnan Kahveci  1050000           7      380     370   \n",
              "1           İstanbul/Kadıköy/Erenköy   547500           3       65      55   \n",
              "2  İstanbul/Beylikdüzü/Adnan Kahveci   440000           4      205     197   \n",
              "3        İstanbul/Beşiktaş/Nisbetiye  1450000           4      150     130   \n",
              "4     İstanbul/Beylikdüzü/Cumhuriyet   169000           3       70      65   \n",
              "\n",
              "  emlak_tipi    bina_yaşı bulunduğu_kat   kat_sayısı  \\\n",
              "0      Daire  16-20 arası            12  10-20 arası   \n",
              "1      Daire            0             1            7   \n",
              "2      Daire  11-15 arası             2  10-20 arası   \n",
              "3      Daire  26-30 arası             3            5   \n",
              "4      Daire            1         Kot 1            6   \n",
              "\n",
              "                       ısıtma_tipi banyo_sayısı               manzara  \\\n",
              "0                 Kombi (Doğalgaz)            3       Cadde,Deniz,Göl   \n",
              "1                 Kombi (Doğalgaz)            1                     _   \n",
              "2                 Kombi (Doğalgaz)            2           Cadde,Şehir   \n",
              "3  Merkezi Sistem (Isı Payı Ölçer)            2           Cadde,Şehir   \n",
              "4                 Kombi (Doğalgaz)            1  Boğaz,Deniz,Göl,Doğa   \n",
              "\n",
              "                  otopark  interkom  deprem_yönetmeliğine_uygun  asansör  \\\n",
              "0  Var (Ücretsiz, Kapalı)         1                           1        1   \n",
              "1                       -         1                           0        1   \n",
              "2  Var (Ücretsiz, Kapalı)         1                           1        1   \n",
              "3    Var (Ücretsiz, Açık)         0                           0        1   \n",
              "4                     Var         1                           0        1   \n",
              "\n",
              "   çocuk_oyun_alanı  giyinme_odası  ebeveyn_banyosu   yıl  ay  \n",
              "0                 1              1                1  2019   1  \n",
              "1                 0              0                0  2019   1  \n",
              "2                 0              0                1  2019   1  \n",
              "3                 0              0                1  2019   1  \n",
              "4                 0              1                1  2019   1  "
            ]
          },
          "metadata": {},
          "execution_count": 15
        }
      ]
    },
    {
      "cell_type": "code",
      "metadata": {
        "colab": {
          "base_uri": "https://localhost:8080/",
          "height": 795
        },
        "id": "4Cy4n-wovVBB",
        "outputId": "a883fc34-bb08-4eb2-d451-e52cd1e06a9f"
      },
      "source": [
        "df[df['oda_sayısı'] == 1149]"
      ],
      "execution_count": null,
      "outputs": [
        {
          "output_type": "execute_result",
          "data": {
            "text/html": [
              "<div>\n",
              "<style scoped>\n",
              "    .dataframe tbody tr th:only-of-type {\n",
              "        vertical-align: middle;\n",
              "    }\n",
              "\n",
              "    .dataframe tbody tr th {\n",
              "        vertical-align: top;\n",
              "    }\n",
              "\n",
              "    .dataframe thead th {\n",
              "        text-align: right;\n",
              "    }\n",
              "</style>\n",
              "<table border=\"1\" class=\"dataframe\">\n",
              "  <thead>\n",
              "    <tr style=\"text-align: right;\">\n",
              "      <th></th>\n",
              "      <th>adres</th>\n",
              "      <th>fiyat</th>\n",
              "      <th>oda_sayısı</th>\n",
              "      <th>brüt_m2</th>\n",
              "      <th>net_m2</th>\n",
              "      <th>emlak_tipi</th>\n",
              "      <th>bina_yaşı</th>\n",
              "      <th>bulunduğu_kat</th>\n",
              "      <th>kat_sayısı</th>\n",
              "      <th>ısıtma_tipi</th>\n",
              "      <th>banyo_sayısı</th>\n",
              "      <th>manzara</th>\n",
              "      <th>otopark</th>\n",
              "      <th>interkom</th>\n",
              "      <th>deprem_yönetmeliğine_uygun</th>\n",
              "      <th>asansör</th>\n",
              "      <th>çocuk_oyun_alanı</th>\n",
              "      <th>giyinme_odası</th>\n",
              "      <th>ebeveyn_banyosu</th>\n",
              "      <th>yıl</th>\n",
              "      <th>ay</th>\n",
              "    </tr>\n",
              "  </thead>\n",
              "  <tbody>\n",
              "    <tr>\n",
              "      <th>2076</th>\n",
              "      <td>İzmir/Konak/Çankaya</td>\n",
              "      <td>985000</td>\n",
              "      <td>1149</td>\n",
              "      <td>167</td>\n",
              "      <td>115</td>\n",
              "      <td>Daire</td>\n",
              "      <td>36-40 arası</td>\n",
              "      <td>8</td>\n",
              "      <td>8</td>\n",
              "      <td>Klima</td>\n",
              "      <td>0</td>\n",
              "      <td>_</td>\n",
              "      <td>-</td>\n",
              "      <td>0</td>\n",
              "      <td>0</td>\n",
              "      <td>0</td>\n",
              "      <td>0</td>\n",
              "      <td>0</td>\n",
              "      <td>0</td>\n",
              "      <td>2019</td>\n",
              "      <td>1</td>\n",
              "    </tr>\n",
              "    <tr>\n",
              "      <th>2079</th>\n",
              "      <td>İzmir/Karabağlar/General Kazım Özalp</td>\n",
              "      <td>330000</td>\n",
              "      <td>1149</td>\n",
              "      <td>85</td>\n",
              "      <td>70</td>\n",
              "      <td>Daire</td>\n",
              "      <td>0</td>\n",
              "      <td>1</td>\n",
              "      <td>10-20 arası</td>\n",
              "      <td>Kombi (Doğalgaz)</td>\n",
              "      <td>1</td>\n",
              "      <td>_</td>\n",
              "      <td>Var (Ücretsiz, Açık)</td>\n",
              "      <td>0</td>\n",
              "      <td>0</td>\n",
              "      <td>0</td>\n",
              "      <td>0</td>\n",
              "      <td>0</td>\n",
              "      <td>0</td>\n",
              "      <td>2019</td>\n",
              "      <td>1</td>\n",
              "    </tr>\n",
              "    <tr>\n",
              "      <th>2587</th>\n",
              "      <td>İzmir/Karabağlar/Vatan</td>\n",
              "      <td>190000</td>\n",
              "      <td>1149</td>\n",
              "      <td>90</td>\n",
              "      <td>80</td>\n",
              "      <td>Daire</td>\n",
              "      <td>4</td>\n",
              "      <td>Yüksek Giriş</td>\n",
              "      <td>4</td>\n",
              "      <td>Kombi (Doğalgaz)</td>\n",
              "      <td>1</td>\n",
              "      <td>_</td>\n",
              "      <td>-</td>\n",
              "      <td>0</td>\n",
              "      <td>0</td>\n",
              "      <td>0</td>\n",
              "      <td>0</td>\n",
              "      <td>0</td>\n",
              "      <td>0</td>\n",
              "      <td>2019</td>\n",
              "      <td>1</td>\n",
              "    </tr>\n",
              "    <tr>\n",
              "      <th>7127</th>\n",
              "      <td>İzmir/Karabağlar/Bahçelievler</td>\n",
              "      <td>345000</td>\n",
              "      <td>1149</td>\n",
              "      <td>85</td>\n",
              "      <td>80</td>\n",
              "      <td>Daire</td>\n",
              "      <td>31-35 arası</td>\n",
              "      <td>1</td>\n",
              "      <td>3</td>\n",
              "      <td>Kombi (Doğalgaz)</td>\n",
              "      <td>1</td>\n",
              "      <td>_</td>\n",
              "      <td>-</td>\n",
              "      <td>0</td>\n",
              "      <td>0</td>\n",
              "      <td>0</td>\n",
              "      <td>0</td>\n",
              "      <td>0</td>\n",
              "      <td>0</td>\n",
              "      <td>2019</td>\n",
              "      <td>2</td>\n",
              "    </tr>\n",
              "    <tr>\n",
              "      <th>11197</th>\n",
              "      <td>İstanbul/Pendik/Çınardere</td>\n",
              "      <td>315000</td>\n",
              "      <td>1149</td>\n",
              "      <td>90</td>\n",
              "      <td>75</td>\n",
              "      <td>Daire</td>\n",
              "      <td>4</td>\n",
              "      <td>3</td>\n",
              "      <td>4</td>\n",
              "      <td>Kombi (Doğalgaz)</td>\n",
              "      <td>2</td>\n",
              "      <td>_</td>\n",
              "      <td>-</td>\n",
              "      <td>0</td>\n",
              "      <td>0</td>\n",
              "      <td>0</td>\n",
              "      <td>0</td>\n",
              "      <td>0</td>\n",
              "      <td>0</td>\n",
              "      <td>2019</td>\n",
              "      <td>3</td>\n",
              "    </tr>\n",
              "    <tr>\n",
              "      <th>12822</th>\n",
              "      <td>İstanbul/Kadıköy/Suadiye</td>\n",
              "      <td>925000</td>\n",
              "      <td>1149</td>\n",
              "      <td>115</td>\n",
              "      <td>90</td>\n",
              "      <td>Daire</td>\n",
              "      <td>0</td>\n",
              "      <td>13</td>\n",
              "      <td>10-20 arası</td>\n",
              "      <td>Merkezi Sistem (Isı Payı Ölçer)</td>\n",
              "      <td>1</td>\n",
              "      <td>Doğa,Şehir</td>\n",
              "      <td>Var (Ücretsiz, Açık)</td>\n",
              "      <td>0</td>\n",
              "      <td>0</td>\n",
              "      <td>0</td>\n",
              "      <td>0</td>\n",
              "      <td>0</td>\n",
              "      <td>1</td>\n",
              "      <td>2019</td>\n",
              "      <td>4</td>\n",
              "    </tr>\n",
              "    <tr>\n",
              "      <th>24017</th>\n",
              "      <td>İzmir/Bornova/Yeşilova</td>\n",
              "      <td>850000</td>\n",
              "      <td>1149</td>\n",
              "      <td>180</td>\n",
              "      <td>125</td>\n",
              "      <td>Rezidans</td>\n",
              "      <td>0</td>\n",
              "      <td>5</td>\n",
              "      <td>9</td>\n",
              "      <td>Merkezi Sistem (Isı Payı Ölçer)</td>\n",
              "      <td>1</td>\n",
              "      <td>_</td>\n",
              "      <td>Var (Ücretsiz, Açık)</td>\n",
              "      <td>1</td>\n",
              "      <td>1</td>\n",
              "      <td>0</td>\n",
              "      <td>0</td>\n",
              "      <td>0</td>\n",
              "      <td>0</td>\n",
              "      <td>2019</td>\n",
              "      <td>7</td>\n",
              "    </tr>\n",
              "    <tr>\n",
              "      <th>25776</th>\n",
              "      <td>İzmir/Çiğli/Evka-2</td>\n",
              "      <td>207000</td>\n",
              "      <td>1149</td>\n",
              "      <td>80</td>\n",
              "      <td>70</td>\n",
              "      <td>Daire</td>\n",
              "      <td>26-30 arası</td>\n",
              "      <td>5</td>\n",
              "      <td>5</td>\n",
              "      <td>Yok</td>\n",
              "      <td>1</td>\n",
              "      <td>_</td>\n",
              "      <td>-</td>\n",
              "      <td>0</td>\n",
              "      <td>0</td>\n",
              "      <td>0</td>\n",
              "      <td>0</td>\n",
              "      <td>0</td>\n",
              "      <td>0</td>\n",
              "      <td>2019</td>\n",
              "      <td>7</td>\n",
              "    </tr>\n",
              "    <tr>\n",
              "      <th>30765</th>\n",
              "      <td>İzmir/Çeşme/Altınyunus</td>\n",
              "      <td>990000</td>\n",
              "      <td>1149</td>\n",
              "      <td>95</td>\n",
              "      <td>80</td>\n",
              "      <td>Daire</td>\n",
              "      <td>21-25 arası</td>\n",
              "      <td>1</td>\n",
              "      <td>3</td>\n",
              "      <td>Klima</td>\n",
              "      <td>1</td>\n",
              "      <td>_</td>\n",
              "      <td>Var (Ücretsiz, Açık)</td>\n",
              "      <td>0</td>\n",
              "      <td>0</td>\n",
              "      <td>0</td>\n",
              "      <td>0</td>\n",
              "      <td>0</td>\n",
              "      <td>0</td>\n",
              "      <td>2019</td>\n",
              "      <td>9</td>\n",
              "    </tr>\n",
              "    <tr>\n",
              "      <th>36728</th>\n",
              "      <td>İstanbul/Beşiktaş/Levent</td>\n",
              "      <td>1350000</td>\n",
              "      <td>1149</td>\n",
              "      <td>120</td>\n",
              "      <td>110</td>\n",
              "      <td>Daire</td>\n",
              "      <td>26-30 arası</td>\n",
              "      <td>Giriş Katı</td>\n",
              "      <td>10-20 arası</td>\n",
              "      <td>Merkezi Sistem</td>\n",
              "      <td>2</td>\n",
              "      <td>_</td>\n",
              "      <td>-</td>\n",
              "      <td>0</td>\n",
              "      <td>0</td>\n",
              "      <td>0</td>\n",
              "      <td>0</td>\n",
              "      <td>0</td>\n",
              "      <td>1</td>\n",
              "      <td>2019</td>\n",
              "      <td>10</td>\n",
              "    </tr>\n",
              "    <tr>\n",
              "      <th>37470</th>\n",
              "      <td>İstanbul/Beşiktaş/Levent</td>\n",
              "      <td>1350000</td>\n",
              "      <td>1149</td>\n",
              "      <td>120</td>\n",
              "      <td>110</td>\n",
              "      <td>Daire</td>\n",
              "      <td>26-30 arası</td>\n",
              "      <td>Giriş Katı</td>\n",
              "      <td>10-20 arası</td>\n",
              "      <td>Merkezi Sistem</td>\n",
              "      <td>2</td>\n",
              "      <td>_</td>\n",
              "      <td>-</td>\n",
              "      <td>0</td>\n",
              "      <td>0</td>\n",
              "      <td>0</td>\n",
              "      <td>0</td>\n",
              "      <td>0</td>\n",
              "      <td>1</td>\n",
              "      <td>2019</td>\n",
              "      <td>10</td>\n",
              "    </tr>\n",
              "    <tr>\n",
              "      <th>37538</th>\n",
              "      <td>İstanbul/Beylikdüzü/Sahil</td>\n",
              "      <td>575000</td>\n",
              "      <td>1149</td>\n",
              "      <td>145</td>\n",
              "      <td>115</td>\n",
              "      <td>Daire</td>\n",
              "      <td>0</td>\n",
              "      <td>1</td>\n",
              "      <td>4</td>\n",
              "      <td>Kombi (Doğalgaz)</td>\n",
              "      <td>2</td>\n",
              "      <td>Deniz,Doğa,Deniz</td>\n",
              "      <td>Var (Ücretsiz, Kapalı)</td>\n",
              "      <td>1</td>\n",
              "      <td>0</td>\n",
              "      <td>0</td>\n",
              "      <td>0</td>\n",
              "      <td>0</td>\n",
              "      <td>1</td>\n",
              "      <td>2019</td>\n",
              "      <td>10</td>\n",
              "    </tr>\n",
              "    <tr>\n",
              "      <th>40336</th>\n",
              "      <td>İstanbul/Kadıköy/Suadiye</td>\n",
              "      <td>850000</td>\n",
              "      <td>1149</td>\n",
              "      <td>122</td>\n",
              "      <td>90</td>\n",
              "      <td>Daire</td>\n",
              "      <td>0</td>\n",
              "      <td>4</td>\n",
              "      <td>10-20 arası</td>\n",
              "      <td>Kombi (Doğalgaz)</td>\n",
              "      <td>1</td>\n",
              "      <td>Şehir,Şehir</td>\n",
              "      <td>Var (Ücretsiz, Kapalı)</td>\n",
              "      <td>1</td>\n",
              "      <td>1</td>\n",
              "      <td>0</td>\n",
              "      <td>0</td>\n",
              "      <td>0</td>\n",
              "      <td>0</td>\n",
              "      <td>2019</td>\n",
              "      <td>11</td>\n",
              "    </tr>\n",
              "  </tbody>\n",
              "</table>\n",
              "</div>"
            ],
            "text/plain": [
              "                                      adres    fiyat  oda_sayısı  brüt_m2  \\\n",
              "2076                    İzmir/Konak/Çankaya   985000        1149      167   \n",
              "2079   İzmir/Karabağlar/General Kazım Özalp   330000        1149       85   \n",
              "2587                 İzmir/Karabağlar/Vatan   190000        1149       90   \n",
              "7127          İzmir/Karabağlar/Bahçelievler   345000        1149       85   \n",
              "11197             İstanbul/Pendik/Çınardere   315000        1149       90   \n",
              "12822              İstanbul/Kadıköy/Suadiye   925000        1149      115   \n",
              "24017                İzmir/Bornova/Yeşilova   850000        1149      180   \n",
              "25776                    İzmir/Çiğli/Evka-2   207000        1149       80   \n",
              "30765                İzmir/Çeşme/Altınyunus   990000        1149       95   \n",
              "36728              İstanbul/Beşiktaş/Levent  1350000        1149      120   \n",
              "37470              İstanbul/Beşiktaş/Levent  1350000        1149      120   \n",
              "37538             İstanbul/Beylikdüzü/Sahil   575000        1149      145   \n",
              "40336              İstanbul/Kadıköy/Suadiye   850000        1149      122   \n",
              "\n",
              "       net_m2 emlak_tipi    bina_yaşı bulunduğu_kat   kat_sayısı  \\\n",
              "2076      115      Daire  36-40 arası             8            8   \n",
              "2079       70      Daire            0             1  10-20 arası   \n",
              "2587       80      Daire            4  Yüksek Giriş            4   \n",
              "7127       80      Daire  31-35 arası             1            3   \n",
              "11197      75      Daire            4             3            4   \n",
              "12822      90      Daire            0            13  10-20 arası   \n",
              "24017     125   Rezidans            0             5            9   \n",
              "25776      70      Daire  26-30 arası             5            5   \n",
              "30765      80      Daire  21-25 arası             1            3   \n",
              "36728     110      Daire  26-30 arası    Giriş Katı  10-20 arası   \n",
              "37470     110      Daire  26-30 arası    Giriş Katı  10-20 arası   \n",
              "37538     115      Daire            0             1            4   \n",
              "40336      90      Daire            0             4  10-20 arası   \n",
              "\n",
              "                           ısıtma_tipi banyo_sayısı           manzara  \\\n",
              "2076                             Klima            0                 _   \n",
              "2079                  Kombi (Doğalgaz)            1                 _   \n",
              "2587                  Kombi (Doğalgaz)            1                 _   \n",
              "7127                  Kombi (Doğalgaz)            1                 _   \n",
              "11197                 Kombi (Doğalgaz)            2                 _   \n",
              "12822  Merkezi Sistem (Isı Payı Ölçer)            1        Doğa,Şehir   \n",
              "24017  Merkezi Sistem (Isı Payı Ölçer)            1                 _   \n",
              "25776                              Yok            1                 _   \n",
              "30765                            Klima            1                 _   \n",
              "36728                   Merkezi Sistem            2                 _   \n",
              "37470                   Merkezi Sistem            2                 _   \n",
              "37538                 Kombi (Doğalgaz)            2  Deniz,Doğa,Deniz   \n",
              "40336                 Kombi (Doğalgaz)            1       Şehir,Şehir   \n",
              "\n",
              "                      otopark  interkom  deprem_yönetmeliğine_uygun  asansör  \\\n",
              "2076                        -         0                           0        0   \n",
              "2079     Var (Ücretsiz, Açık)         0                           0        0   \n",
              "2587                        -         0                           0        0   \n",
              "7127                        -         0                           0        0   \n",
              "11197                       -         0                           0        0   \n",
              "12822    Var (Ücretsiz, Açık)         0                           0        0   \n",
              "24017    Var (Ücretsiz, Açık)         1                           1        0   \n",
              "25776                       -         0                           0        0   \n",
              "30765    Var (Ücretsiz, Açık)         0                           0        0   \n",
              "36728                       -         0                           0        0   \n",
              "37470                       -         0                           0        0   \n",
              "37538  Var (Ücretsiz, Kapalı)         1                           0        0   \n",
              "40336  Var (Ücretsiz, Kapalı)         1                           1        0   \n",
              "\n",
              "       çocuk_oyun_alanı  giyinme_odası  ebeveyn_banyosu   yıl  ay  \n",
              "2076                  0              0                0  2019   1  \n",
              "2079                  0              0                0  2019   1  \n",
              "2587                  0              0                0  2019   1  \n",
              "7127                  0              0                0  2019   2  \n",
              "11197                 0              0                0  2019   3  \n",
              "12822                 0              0                1  2019   4  \n",
              "24017                 0              0                0  2019   7  \n",
              "25776                 0              0                0  2019   7  \n",
              "30765                 0              0                0  2019   9  \n",
              "36728                 0              0                1  2019  10  \n",
              "37470                 0              0                1  2019  10  \n",
              "37538                 0              0                1  2019  10  \n",
              "40336                 0              0                0  2019  11  "
            ]
          },
          "metadata": {},
          "execution_count": 16
        }
      ]
    },
    {
      "cell_type": "code",
      "metadata": {
        "id": "oiJ2Lg1-vkiZ"
      },
      "source": [
        "df['oda_sayısı'] = df['oda_sayısı'].where(df['oda_sayısı'] != 1149, 0)"
      ],
      "execution_count": null,
      "outputs": []
    },
    {
      "cell_type": "markdown",
      "metadata": {
        "id": "6rZ_l6Bic3S1"
      },
      "source": [
        "#### otopark\n",
        "otopark sütununda var içerenler 1 diğerleri 0 olarak düzeltildi"
      ]
    },
    {
      "cell_type": "code",
      "metadata": {
        "id": "qP_sG84Sc3S2"
      },
      "source": [
        "df.otopark = df.otopark.str.contains(\"Var\").astype(\"int32\")"
      ],
      "execution_count": null,
      "outputs": []
    },
    {
      "cell_type": "code",
      "metadata": {
        "scrolled": true,
        "id": "oMTG55FNc3S2",
        "colab": {
          "base_uri": "https://localhost:8080/"
        },
        "outputId": "497b926b-8740-474f-f985-dd64a9ef3c8e"
      },
      "source": [
        "df.head()"
      ],
      "execution_count": null,
      "outputs": [
        {
          "output_type": "execute_result",
          "data": {
            "text/html": [
              "<div>\n",
              "<style scoped>\n",
              "    .dataframe tbody tr th:only-of-type {\n",
              "        vertical-align: middle;\n",
              "    }\n",
              "\n",
              "    .dataframe tbody tr th {\n",
              "        vertical-align: top;\n",
              "    }\n",
              "\n",
              "    .dataframe thead th {\n",
              "        text-align: right;\n",
              "    }\n",
              "</style>\n",
              "<table border=\"1\" class=\"dataframe\">\n",
              "  <thead>\n",
              "    <tr style=\"text-align: right;\">\n",
              "      <th></th>\n",
              "      <th>adres</th>\n",
              "      <th>fiyat</th>\n",
              "      <th>oda_sayısı</th>\n",
              "      <th>brüt_m2</th>\n",
              "      <th>net_m2</th>\n",
              "      <th>emlak_tipi</th>\n",
              "      <th>bina_yaşı</th>\n",
              "      <th>bulunduğu_kat</th>\n",
              "      <th>kat_sayısı</th>\n",
              "      <th>ısıtma_tipi</th>\n",
              "      <th>banyo_sayısı</th>\n",
              "      <th>manzara</th>\n",
              "      <th>otopark</th>\n",
              "      <th>interkom</th>\n",
              "      <th>deprem_yönetmeliğine_uygun</th>\n",
              "      <th>asansör</th>\n",
              "      <th>çocuk_oyun_alanı</th>\n",
              "      <th>giyinme_odası</th>\n",
              "      <th>ebeveyn_banyosu</th>\n",
              "      <th>ay</th>\n",
              "    </tr>\n",
              "  </thead>\n",
              "  <tbody>\n",
              "    <tr>\n",
              "      <th>0</th>\n",
              "      <td>İstanbul/Beylikdüzü</td>\n",
              "      <td>1050000</td>\n",
              "      <td>7</td>\n",
              "      <td>380</td>\n",
              "      <td>370</td>\n",
              "      <td>Daire</td>\n",
              "      <td>16-20 arası</td>\n",
              "      <td>12</td>\n",
              "      <td>10-20 arası</td>\n",
              "      <td>Kombi (Doğalgaz)</td>\n",
              "      <td>3</td>\n",
              "      <td>Cadde,Deniz,Göl</td>\n",
              "      <td>1</td>\n",
              "      <td>1</td>\n",
              "      <td>1</td>\n",
              "      <td>1</td>\n",
              "      <td>1</td>\n",
              "      <td>1</td>\n",
              "      <td>1</td>\n",
              "      <td>1</td>\n",
              "    </tr>\n",
              "    <tr>\n",
              "      <th>1</th>\n",
              "      <td>İstanbul/Kadıköy</td>\n",
              "      <td>547500</td>\n",
              "      <td>3</td>\n",
              "      <td>65</td>\n",
              "      <td>55</td>\n",
              "      <td>Daire</td>\n",
              "      <td>0</td>\n",
              "      <td>1</td>\n",
              "      <td>7</td>\n",
              "      <td>Kombi (Doğalgaz)</td>\n",
              "      <td>1</td>\n",
              "      <td>_</td>\n",
              "      <td>0</td>\n",
              "      <td>1</td>\n",
              "      <td>0</td>\n",
              "      <td>1</td>\n",
              "      <td>0</td>\n",
              "      <td>0</td>\n",
              "      <td>0</td>\n",
              "      <td>1</td>\n",
              "    </tr>\n",
              "    <tr>\n",
              "      <th>2</th>\n",
              "      <td>İstanbul/Beylikdüzü</td>\n",
              "      <td>440000</td>\n",
              "      <td>4</td>\n",
              "      <td>205</td>\n",
              "      <td>197</td>\n",
              "      <td>Daire</td>\n",
              "      <td>11-15 arası</td>\n",
              "      <td>2</td>\n",
              "      <td>10-20 arası</td>\n",
              "      <td>Kombi (Doğalgaz)</td>\n",
              "      <td>2</td>\n",
              "      <td>Cadde,Şehir</td>\n",
              "      <td>1</td>\n",
              "      <td>1</td>\n",
              "      <td>1</td>\n",
              "      <td>1</td>\n",
              "      <td>0</td>\n",
              "      <td>0</td>\n",
              "      <td>1</td>\n",
              "      <td>1</td>\n",
              "    </tr>\n",
              "    <tr>\n",
              "      <th>3</th>\n",
              "      <td>İstanbul/Beşiktaş</td>\n",
              "      <td>1450000</td>\n",
              "      <td>4</td>\n",
              "      <td>150</td>\n",
              "      <td>130</td>\n",
              "      <td>Daire</td>\n",
              "      <td>26-30 arası</td>\n",
              "      <td>3</td>\n",
              "      <td>5</td>\n",
              "      <td>Merkezi Sistem (Isı Payı Ölçer)</td>\n",
              "      <td>2</td>\n",
              "      <td>Cadde,Şehir</td>\n",
              "      <td>1</td>\n",
              "      <td>0</td>\n",
              "      <td>0</td>\n",
              "      <td>1</td>\n",
              "      <td>0</td>\n",
              "      <td>0</td>\n",
              "      <td>1</td>\n",
              "      <td>1</td>\n",
              "    </tr>\n",
              "    <tr>\n",
              "      <th>4</th>\n",
              "      <td>İstanbul/Beylikdüzü</td>\n",
              "      <td>169000</td>\n",
              "      <td>3</td>\n",
              "      <td>70</td>\n",
              "      <td>65</td>\n",
              "      <td>Daire</td>\n",
              "      <td>1</td>\n",
              "      <td>Kot 1</td>\n",
              "      <td>6</td>\n",
              "      <td>Kombi (Doğalgaz)</td>\n",
              "      <td>1</td>\n",
              "      <td>Boğaz,Deniz,Göl,Doğa</td>\n",
              "      <td>1</td>\n",
              "      <td>1</td>\n",
              "      <td>0</td>\n",
              "      <td>1</td>\n",
              "      <td>0</td>\n",
              "      <td>1</td>\n",
              "      <td>1</td>\n",
              "      <td>1</td>\n",
              "    </tr>\n",
              "  </tbody>\n",
              "</table>\n",
              "</div>"
            ],
            "text/plain": [
              "                 adres    fiyat  oda_sayısı  brüt_m2  net_m2 emlak_tipi  \\\n",
              "0  İstanbul/Beylikdüzü  1050000           7      380     370      Daire   \n",
              "1     İstanbul/Kadıköy   547500           3       65      55      Daire   \n",
              "2  İstanbul/Beylikdüzü   440000           4      205     197      Daire   \n",
              "3    İstanbul/Beşiktaş  1450000           4      150     130      Daire   \n",
              "4  İstanbul/Beylikdüzü   169000           3       70      65      Daire   \n",
              "\n",
              "     bina_yaşı bulunduğu_kat   kat_sayısı                      ısıtma_tipi  \\\n",
              "0  16-20 arası            12  10-20 arası                 Kombi (Doğalgaz)   \n",
              "1            0             1            7                 Kombi (Doğalgaz)   \n",
              "2  11-15 arası             2  10-20 arası                 Kombi (Doğalgaz)   \n",
              "3  26-30 arası             3            5  Merkezi Sistem (Isı Payı Ölçer)   \n",
              "4            1         Kot 1            6                 Kombi (Doğalgaz)   \n",
              "\n",
              "  banyo_sayısı               manzara  otopark  interkom  \\\n",
              "0            3       Cadde,Deniz,Göl        1         1   \n",
              "1            1                     _        0         1   \n",
              "2            2           Cadde,Şehir        1         1   \n",
              "3            2           Cadde,Şehir        1         0   \n",
              "4            1  Boğaz,Deniz,Göl,Doğa        1         1   \n",
              "\n",
              "   deprem_yönetmeliğine_uygun  asansör  çocuk_oyun_alanı  giyinme_odası  \\\n",
              "0                           1        1                 1              1   \n",
              "1                           0        1                 0              0   \n",
              "2                           1        1                 0              0   \n",
              "3                           0        1                 0              0   \n",
              "4                           0        1                 0              1   \n",
              "\n",
              "   ebeveyn_banyosu  ay  \n",
              "0                1   1  \n",
              "1                0   1  \n",
              "2                1   1  \n",
              "3                1   1  \n",
              "4                1   1  "
            ]
          },
          "metadata": {},
          "execution_count": 29
        }
      ]
    },
    {
      "cell_type": "markdown",
      "metadata": {
        "id": "aWjfapTEc3S3"
      },
      "source": [
        "#### manzara\n",
        "manzaralar ayrı sütunlara ayrıldı manzara değeri olmayanlar bilinmiyor olarak değiştirildi"
      ]
    },
    {
      "cell_type": "code",
      "metadata": {
        "id": "oQYifyfnc3S4",
        "colab": {
          "base_uri": "https://localhost:8080/"
        },
        "outputId": "67c4170b-bdb6-4ba7-a19b-b62b1f34b18f"
      },
      "source": [
        "df.manzara.value_counts()"
      ],
      "execution_count": null,
      "outputs": [
        {
          "output_type": "execute_result",
          "data": {
            "text/plain": [
              "_                                                                        41713\n",
              "Şehir                                                                     7631\n",
              "Doğa,Şehir                                                                2092\n",
              "Cadde,Şehir                                                               1018\n",
              "Boğaz,Cadde,Deniz,Havuz,Park,Şehir,Yeşil Alan,Göl,Nehir,Vadi,Dağ,Doğa      960\n",
              "                                                                         ...  \n",
              "Boğaz,Cadde,Deniz,Havuz,Park,Şehir,Yeşil Alan,Nehir,Doğa                     1\n",
              "Boğaz,Park,Şehir,Yeşil Alan,Göl,Nehir,Vadi                                   1\n",
              "Göl,Deniz,Şehir                                                              1\n",
              "Boğaz,Cadde,Dağ,Doğa,Göl,Vadi,Yeşil Alan                                     1\n",
              "Cadde,Havuz,Park,Şehir,Göl,Dağ,Doğa                                          1\n",
              "Name: manzara, Length: 917, dtype: Int64"
            ]
          },
          "metadata": {},
          "execution_count": 19
        }
      ]
    },
    {
      "cell_type": "code",
      "metadata": {
        "id": "16iVusUmc3S4"
      },
      "source": [
        "df[\"manzara_boğaz\"] = 0\n",
        "df[\"manzara_cadde\"] = 0\n",
        "df[\"manzara_dağ\"] = 0\n",
        "df[\"manzara_deniz\"] = 0\n",
        "df[\"manzara_doğa\"] = 0\n",
        "df[\"manzara_göl\"] = 0\n",
        "df[\"manzara_havuz\"] = 0\n",
        "df[\"manzara_nehir\"] = 0\n",
        "df[\"manzara_park\"] = 0\n",
        "df[\"manzara_şehir\"] = 0\n",
        "df[\"manzara_vadi\"] = 0\n",
        "df[\"manzara_yeşilalan\"] = 0\n",
        "df[\"manzara_bilinmiyor\"] = 0"
      ],
      "execution_count": null,
      "outputs": []
    },
    {
      "cell_type": "code",
      "metadata": {
        "scrolled": true,
        "id": "yP3wNTFfc3S5"
      },
      "source": [
        "for ind, item in zip(df.manzara.index, df.manzara):\n",
        "    if \"Boğaz\" in item:\n",
        "        df.at[ind,'manzara_boğaz'] = 1\n",
        "    if \"Cadde\" in item:\n",
        "        df.at[ind,'manzara_cadde'] = 1\n",
        "    if \"Dağ\" in item:\n",
        "        df.at[ind,'manzara_dağ'] = 1\n",
        "    if \"Deniz\" in item:\n",
        "        df.at[ind,'manzara_deniz'] = 1\n",
        "    if \"Doğa\" in item:\n",
        "        df.at[ind,'manzara_doğa'] = 1\n",
        "    if \"Göl\" in item:\n",
        "        df.at[ind,'manzara_göl'] = 1\n",
        "    if \"Havuz\" in item:\n",
        "        df.at[ind,'manzara_havuz'] = 1\n",
        "    if \"Nehir\" in item:\n",
        "        df.at[ind,'manzara_nehir'] = 1\n",
        "    if \"Park\" in item:\n",
        "        df.at[ind,'manzara_park'] = 1\n",
        "    if \"Şehir\" in item:\n",
        "        df.at[ind,'manzara_şehir'] = 1\n",
        "    if \"Vadi\" in item:\n",
        "        df.at[ind,'manzara_vadi'] = 1\n",
        "    if \"Yeşil Alan\" in item:\n",
        "        df.at[ind,'manzara_yeşilalan'] = 1\n",
        "    if \"_\" in item:\n",
        "        df.at[ind,'manzara_bilinmiyor'] = 1"
      ],
      "execution_count": null,
      "outputs": []
    },
    {
      "cell_type": "code",
      "metadata": {
        "id": "gWJacDlPc3S6"
      },
      "source": [
        "df.head()"
      ],
      "execution_count": null,
      "outputs": []
    },
    {
      "cell_type": "code",
      "metadata": {
        "id": "Orbmy7uFc3S6"
      },
      "source": [
        "df.drop(\"manzara\", axis=1, inplace=True)"
      ],
      "execution_count": null,
      "outputs": []
    },
    {
      "cell_type": "markdown",
      "metadata": {
        "id": "nDjHHKBPc3S7"
      },
      "source": [
        "### Data Cleaning"
      ]
    },
    {
      "cell_type": "markdown",
      "metadata": {
        "id": "k72i1PXBc3S8"
      },
      "source": [
        "> **Adres**"
      ]
    },
    {
      "cell_type": "code",
      "metadata": {
        "id": "q-ySyhBBc3S8"
      },
      "source": [
        "df = df.groupby('adres').filter(lambda x : len(x)>=20)"
      ],
      "execution_count": null,
      "outputs": []
    },
    {
      "cell_type": "code",
      "metadata": {
        "id": "wYWbv6ZLc3S8",
        "colab": {
          "base_uri": "https://localhost:8080/"
        },
        "outputId": "adb9802c-ef64-4f3b-b619-9d79fd7bd9e9"
      },
      "source": [
        "df.shape"
      ],
      "execution_count": null,
      "outputs": [
        {
          "output_type": "execute_result",
          "data": {
            "text/plain": [
              "(64562, 32)"
            ]
          },
          "metadata": {},
          "execution_count": 36
        }
      ]
    },
    {
      "cell_type": "markdown",
      "metadata": {
        "id": "8HVhSyohc3S9"
      },
      "source": [
        "Adres olarak eğitime yeterli sayıda verisi olmayan değerler düşürüldü"
      ]
    },
    {
      "cell_type": "markdown",
      "metadata": {
        "id": "ApZ_T94Gc3S9"
      },
      "source": [
        ">#### oda_sayısı"
      ]
    },
    {
      "cell_type": "code",
      "metadata": {
        "scrolled": true,
        "id": "CZ60B6Ybc3S9",
        "colab": {
          "base_uri": "https://localhost:8080/"
        },
        "outputId": "1b27d8b3-49af-460b-87ff-e1f4d719f7d7"
      },
      "source": [
        "df.oda_sayısı.value_counts()"
      ],
      "execution_count": null,
      "outputs": [
        {
          "output_type": "execute_result",
          "data": {
            "text/plain": [
              "4     25261\n",
              "3     23733\n",
              "5      5735\n",
              "2      5041\n",
              "6      2617\n",
              "7      1107\n",
              "8       413\n",
              "1       282\n",
              "9       155\n",
              "10      114\n",
              "0        51\n",
              "11       28\n",
              "12       20\n",
              "14        8\n",
              "13        5\n",
              "23        2\n",
              "25        1\n",
              "Name: oda_sayısı, dtype: int64"
            ]
          },
          "metadata": {},
          "execution_count": 23
        }
      ]
    },
    {
      "cell_type": "code",
      "metadata": {
        "id": "nWEUJap7c3S-"
      },
      "source": [
        "df = df.groupby('oda_sayısı').filter(lambda x : len(x)>20)"
      ],
      "execution_count": null,
      "outputs": []
    },
    {
      "cell_type": "code",
      "metadata": {
        "id": "6ogXkefhc3S-",
        "colab": {
          "base_uri": "https://localhost:8080/"
        },
        "outputId": "54a7acfc-a654-44d6-8a1d-367163f8fd43"
      },
      "source": [
        "df.oda_sayısı.value_counts()"
      ],
      "execution_count": null,
      "outputs": [
        {
          "output_type": "execute_result",
          "data": {
            "text/plain": [
              "4     25261\n",
              "3     23733\n",
              "5      5735\n",
              "2      5041\n",
              "6      2617\n",
              "7      1107\n",
              "8       413\n",
              "1       282\n",
              "9       155\n",
              "10      114\n",
              "0        51\n",
              "11       28\n",
              "Name: oda_sayısı, dtype: int64"
            ]
          },
          "metadata": {},
          "execution_count": 25
        }
      ]
    },
    {
      "cell_type": "markdown",
      "metadata": {
        "id": "wI228lR-c3S_"
      },
      "source": [
        "oda sayısı olarak eğitime yeterli sayıda verisi olmayan değerler düşürüldü"
      ]
    },
    {
      "cell_type": "markdown",
      "metadata": {
        "id": "NU6y4hAkc3S_"
      },
      "source": [
        "#### brüt_m2"
      ]
    },
    {
      "cell_type": "code",
      "metadata": {
        "id": "-JKVJ2IPc3TA",
        "colab": {
          "base_uri": "https://localhost:8080/",
          "height": 280
        },
        "outputId": "b93f1d02-8e1e-485a-b70a-9d3321c33c33"
      },
      "source": [
        "sns.boxplot(df.brüt_m2);"
      ],
      "execution_count": null,
      "outputs": [
        {
          "output_type": "display_data",
          "data": {
            "image/png": "[encoded data removed]",
            "text/plain": [
              "<Figure size 432x288 with 1 Axes>"
            ]
          },
          "metadata": {
            "needs_background": "light"
          }
        }
      ]
    },
    {
      "cell_type": "code",
      "metadata": {
        "id": "rELJP4B0c3TA",
        "colab": {
          "base_uri": "https://localhost:8080/",
          "height": 1000
        },
        "outputId": "27d38593-2f78-4d32-fc48-0a5c68fb0954"
      },
      "source": [
        "df[df.brüt_m2 < df.net_m2]"
      ],
      "execution_count": null,
      "outputs": [
        {
          "output_type": "execute_result",
          "data": {
            "text/html": [
              "<div>\n",
              "<style scoped>\n",
              "    .dataframe tbody tr th:only-of-type {\n",
              "        vertical-align: middle;\n",
              "    }\n",
              "\n",
              "    .dataframe tbody tr th {\n",
              "        vertical-align: top;\n",
              "    }\n",
              "\n",
              "    .dataframe thead th {\n",
              "        text-align: right;\n",
              "    }\n",
              "</style>\n",
              "<table border=\"1\" class=\"dataframe\">\n",
              "  <thead>\n",
              "    <tr style=\"text-align: right;\">\n",
              "      <th></th>\n",
              "      <th>adres</th>\n",
              "      <th>fiyat</th>\n",
              "      <th>oda_sayısı</th>\n",
              "      <th>brüt_m2</th>\n",
              "      <th>net_m2</th>\n",
              "      <th>emlak_tipi</th>\n",
              "      <th>bina_yaşı</th>\n",
              "      <th>bulunduğu_kat</th>\n",
              "      <th>kat_sayısı</th>\n",
              "      <th>ısıtma_tipi</th>\n",
              "      <th>banyo_sayısı</th>\n",
              "      <th>otopark</th>\n",
              "      <th>interkom</th>\n",
              "      <th>deprem_yönetmeliğine_uygun</th>\n",
              "      <th>asansör</th>\n",
              "      <th>çocuk_oyun_alanı</th>\n",
              "      <th>giyinme_odası</th>\n",
              "      <th>ebeveyn_banyosu</th>\n",
              "      <th>yıl</th>\n",
              "      <th>ay</th>\n",
              "      <th>manzara_boğaz</th>\n",
              "      <th>manzara_cadde</th>\n",
              "      <th>manzara_dağ</th>\n",
              "      <th>manzara_deniz</th>\n",
              "      <th>manzara_doğa</th>\n",
              "      <th>manzara_göl</th>\n",
              "      <th>manzara_havuz</th>\n",
              "      <th>manzara_nehir</th>\n",
              "      <th>manzara_park</th>\n",
              "      <th>manzara_şehir</th>\n",
              "      <th>manzara_vadi</th>\n",
              "      <th>manzara_yeşilalan</th>\n",
              "      <th>manzara_bilinmiyor</th>\n",
              "    </tr>\n",
              "  </thead>\n",
              "  <tbody>\n",
              "    <tr>\n",
              "      <th>1250</th>\n",
              "      <td>İzmir/Kemalpaşa/Cumhuriyet</td>\n",
              "      <td>1650000</td>\n",
              "      <td>10</td>\n",
              "      <td>1</td>\n",
              "      <td>600</td>\n",
              "      <td>Köşk / Konak / Yalı</td>\n",
              "      <td>0</td>\n",
              "      <td>-</td>\n",
              "      <td>3</td>\n",
              "      <td>Klima</td>\n",
              "      <td>3</td>\n",
              "      <td>0</td>\n",
              "      <td>0</td>\n",
              "      <td>0</td>\n",
              "      <td>0</td>\n",
              "      <td>0</td>\n",
              "      <td>0</td>\n",
              "      <td>1</td>\n",
              "      <td>2019</td>\n",
              "      <td>1</td>\n",
              "      <td>0</td>\n",
              "      <td>0</td>\n",
              "      <td>0</td>\n",
              "      <td>0</td>\n",
              "      <td>0</td>\n",
              "      <td>0</td>\n",
              "      <td>0</td>\n",
              "      <td>0</td>\n",
              "      <td>0</td>\n",
              "      <td>0</td>\n",
              "      <td>0</td>\n",
              "      <td>0</td>\n",
              "      <td>1</td>\n",
              "    </tr>\n",
              "    <tr>\n",
              "      <th>5294</th>\n",
              "      <td>İstanbul/Beşiktaş/Bebek</td>\n",
              "      <td>45000000</td>\n",
              "      <td>9</td>\n",
              "      <td>1</td>\n",
              "      <td>950</td>\n",
              "      <td>Villa</td>\n",
              "      <td>21-25 arası</td>\n",
              "      <td>Müstakil</td>\n",
              "      <td>4</td>\n",
              "      <td>Klima</td>\n",
              "      <td>4</td>\n",
              "      <td>1</td>\n",
              "      <td>1</td>\n",
              "      <td>0</td>\n",
              "      <td>1</td>\n",
              "      <td>0</td>\n",
              "      <td>1</td>\n",
              "      <td>1</td>\n",
              "      <td>2019</td>\n",
              "      <td>2</td>\n",
              "      <td>1</td>\n",
              "      <td>0</td>\n",
              "      <td>0</td>\n",
              "      <td>1</td>\n",
              "      <td>1</td>\n",
              "      <td>0</td>\n",
              "      <td>0</td>\n",
              "      <td>0</td>\n",
              "      <td>0</td>\n",
              "      <td>0</td>\n",
              "      <td>0</td>\n",
              "      <td>0</td>\n",
              "      <td>0</td>\n",
              "    </tr>\n",
              "    <tr>\n",
              "      <th>6491</th>\n",
              "      <td>İzmir/Çeşme/Dalyan</td>\n",
              "      <td>1250000</td>\n",
              "      <td>4</td>\n",
              "      <td>120</td>\n",
              "      <td>300</td>\n",
              "      <td>Villa</td>\n",
              "      <td>6-10 arası</td>\n",
              "      <td>-</td>\n",
              "      <td>2</td>\n",
              "      <td>-</td>\n",
              "      <td>2</td>\n",
              "      <td>0</td>\n",
              "      <td>0</td>\n",
              "      <td>0</td>\n",
              "      <td>0</td>\n",
              "      <td>0</td>\n",
              "      <td>0</td>\n",
              "      <td>0</td>\n",
              "      <td>2019</td>\n",
              "      <td>2</td>\n",
              "      <td>0</td>\n",
              "      <td>0</td>\n",
              "      <td>0</td>\n",
              "      <td>0</td>\n",
              "      <td>0</td>\n",
              "      <td>0</td>\n",
              "      <td>0</td>\n",
              "      <td>0</td>\n",
              "      <td>0</td>\n",
              "      <td>0</td>\n",
              "      <td>0</td>\n",
              "      <td>0</td>\n",
              "      <td>1</td>\n",
              "    </tr>\n",
              "    <tr>\n",
              "      <th>8902</th>\n",
              "      <td>İstanbul/Beşiktaş/Ulus</td>\n",
              "      <td>27000000</td>\n",
              "      <td>6</td>\n",
              "      <td>1</td>\n",
              "      <td>309</td>\n",
              "      <td>Villa</td>\n",
              "      <td>16-20 arası</td>\n",
              "      <td>Müstakil</td>\n",
              "      <td>3</td>\n",
              "      <td>Kombi (Doğalgaz)</td>\n",
              "      <td>3</td>\n",
              "      <td>1</td>\n",
              "      <td>0</td>\n",
              "      <td>0</td>\n",
              "      <td>0</td>\n",
              "      <td>0</td>\n",
              "      <td>0</td>\n",
              "      <td>0</td>\n",
              "      <td>2019</td>\n",
              "      <td>3</td>\n",
              "      <td>0</td>\n",
              "      <td>0</td>\n",
              "      <td>0</td>\n",
              "      <td>0</td>\n",
              "      <td>1</td>\n",
              "      <td>0</td>\n",
              "      <td>0</td>\n",
              "      <td>0</td>\n",
              "      <td>0</td>\n",
              "      <td>0</td>\n",
              "      <td>0</td>\n",
              "      <td>0</td>\n",
              "      <td>0</td>\n",
              "    </tr>\n",
              "    <tr>\n",
              "      <th>13020</th>\n",
              "      <td>İzmir/Çeşme/Ardıç</td>\n",
              "      <td>17000000</td>\n",
              "      <td>6</td>\n",
              "      <td>1</td>\n",
              "      <td>300</td>\n",
              "      <td>Villa</td>\n",
              "      <td>6-10 arası</td>\n",
              "      <td>Müstakil</td>\n",
              "      <td>2</td>\n",
              "      <td>Kat Kaloriferi</td>\n",
              "      <td>5</td>\n",
              "      <td>0</td>\n",
              "      <td>0</td>\n",
              "      <td>0</td>\n",
              "      <td>0</td>\n",
              "      <td>0</td>\n",
              "      <td>0</td>\n",
              "      <td>0</td>\n",
              "      <td>2019</td>\n",
              "      <td>4</td>\n",
              "      <td>0</td>\n",
              "      <td>0</td>\n",
              "      <td>0</td>\n",
              "      <td>0</td>\n",
              "      <td>0</td>\n",
              "      <td>0</td>\n",
              "      <td>0</td>\n",
              "      <td>0</td>\n",
              "      <td>0</td>\n",
              "      <td>0</td>\n",
              "      <td>0</td>\n",
              "      <td>0</td>\n",
              "      <td>1</td>\n",
              "    </tr>\n",
              "    <tr>\n",
              "      <th>13029</th>\n",
              "      <td>İzmir/Çeşme/Ilıca</td>\n",
              "      <td>3900000</td>\n",
              "      <td>7</td>\n",
              "      <td>1</td>\n",
              "      <td>350</td>\n",
              "      <td>Villa</td>\n",
              "      <td>6-10 arası</td>\n",
              "      <td>Müstakil</td>\n",
              "      <td>2</td>\n",
              "      <td>Klima</td>\n",
              "      <td>6 ve üzeri</td>\n",
              "      <td>0</td>\n",
              "      <td>0</td>\n",
              "      <td>0</td>\n",
              "      <td>0</td>\n",
              "      <td>0</td>\n",
              "      <td>0</td>\n",
              "      <td>0</td>\n",
              "      <td>2019</td>\n",
              "      <td>4</td>\n",
              "      <td>0</td>\n",
              "      <td>0</td>\n",
              "      <td>0</td>\n",
              "      <td>0</td>\n",
              "      <td>0</td>\n",
              "      <td>0</td>\n",
              "      <td>0</td>\n",
              "      <td>0</td>\n",
              "      <td>0</td>\n",
              "      <td>0</td>\n",
              "      <td>0</td>\n",
              "      <td>0</td>\n",
              "      <td>1</td>\n",
              "    </tr>\n",
              "    <tr>\n",
              "      <th>13033</th>\n",
              "      <td>İzmir/Çeşme/Musalla</td>\n",
              "      <td>12900000</td>\n",
              "      <td>9</td>\n",
              "      <td>5</td>\n",
              "      <td>550</td>\n",
              "      <td>Köşk / Konak / Yalı</td>\n",
              "      <td>0</td>\n",
              "      <td>-</td>\n",
              "      <td>2</td>\n",
              "      <td>Yerden Isıtma</td>\n",
              "      <td>6 ve üzeri</td>\n",
              "      <td>0</td>\n",
              "      <td>0</td>\n",
              "      <td>0</td>\n",
              "      <td>0</td>\n",
              "      <td>0</td>\n",
              "      <td>0</td>\n",
              "      <td>1</td>\n",
              "      <td>2019</td>\n",
              "      <td>4</td>\n",
              "      <td>0</td>\n",
              "      <td>0</td>\n",
              "      <td>0</td>\n",
              "      <td>0</td>\n",
              "      <td>0</td>\n",
              "      <td>0</td>\n",
              "      <td>0</td>\n",
              "      <td>0</td>\n",
              "      <td>0</td>\n",
              "      <td>0</td>\n",
              "      <td>0</td>\n",
              "      <td>0</td>\n",
              "      <td>1</td>\n",
              "    </tr>\n",
              "    <tr>\n",
              "      <th>14828</th>\n",
              "      <td>İzmir/Karabağlar/Refet Bele</td>\n",
              "      <td>235000</td>\n",
              "      <td>3</td>\n",
              "      <td>98</td>\n",
              "      <td>100</td>\n",
              "      <td>Daire</td>\n",
              "      <td>5</td>\n",
              "      <td>3</td>\n",
              "      <td>3</td>\n",
              "      <td>Kombi (Doğalgaz)</td>\n",
              "      <td>1</td>\n",
              "      <td>0</td>\n",
              "      <td>1</td>\n",
              "      <td>0</td>\n",
              "      <td>0</td>\n",
              "      <td>0</td>\n",
              "      <td>0</td>\n",
              "      <td>0</td>\n",
              "      <td>2019</td>\n",
              "      <td>4</td>\n",
              "      <td>0</td>\n",
              "      <td>0</td>\n",
              "      <td>0</td>\n",
              "      <td>0</td>\n",
              "      <td>0</td>\n",
              "      <td>0</td>\n",
              "      <td>0</td>\n",
              "      <td>0</td>\n",
              "      <td>0</td>\n",
              "      <td>0</td>\n",
              "      <td>0</td>\n",
              "      <td>0</td>\n",
              "      <td>1</td>\n",
              "    </tr>\n",
              "    <tr>\n",
              "      <th>16647</th>\n",
              "      <td>İzmir/Çeşme/Ilıca</td>\n",
              "      <td>3900000</td>\n",
              "      <td>7</td>\n",
              "      <td>1</td>\n",
              "      <td>350</td>\n",
              "      <td>Villa</td>\n",
              "      <td>6-10 arası</td>\n",
              "      <td>Müstakil</td>\n",
              "      <td>2</td>\n",
              "      <td>Klima</td>\n",
              "      <td>6 ve üzeri</td>\n",
              "      <td>0</td>\n",
              "      <td>0</td>\n",
              "      <td>0</td>\n",
              "      <td>0</td>\n",
              "      <td>0</td>\n",
              "      <td>0</td>\n",
              "      <td>0</td>\n",
              "      <td>2019</td>\n",
              "      <td>5</td>\n",
              "      <td>0</td>\n",
              "      <td>0</td>\n",
              "      <td>0</td>\n",
              "      <td>0</td>\n",
              "      <td>0</td>\n",
              "      <td>0</td>\n",
              "      <td>0</td>\n",
              "      <td>0</td>\n",
              "      <td>0</td>\n",
              "      <td>0</td>\n",
              "      <td>0</td>\n",
              "      <td>0</td>\n",
              "      <td>1</td>\n",
              "    </tr>\n",
              "    <tr>\n",
              "      <th>34195</th>\n",
              "      <td>İzmir/Seferihisar/Cumhuriyet</td>\n",
              "      <td>250000</td>\n",
              "      <td>3</td>\n",
              "      <td>70</td>\n",
              "      <td>90</td>\n",
              "      <td>Yazlık</td>\n",
              "      <td>11-15 arası</td>\n",
              "      <td>Bahçe katı</td>\n",
              "      <td>3</td>\n",
              "      <td>Klima</td>\n",
              "      <td>1</td>\n",
              "      <td>0</td>\n",
              "      <td>0</td>\n",
              "      <td>0</td>\n",
              "      <td>0</td>\n",
              "      <td>0</td>\n",
              "      <td>0</td>\n",
              "      <td>0</td>\n",
              "      <td>2019</td>\n",
              "      <td>9</td>\n",
              "      <td>0</td>\n",
              "      <td>0</td>\n",
              "      <td>0</td>\n",
              "      <td>0</td>\n",
              "      <td>0</td>\n",
              "      <td>0</td>\n",
              "      <td>0</td>\n",
              "      <td>0</td>\n",
              "      <td>0</td>\n",
              "      <td>0</td>\n",
              "      <td>0</td>\n",
              "      <td>0</td>\n",
              "      <td>1</td>\n",
              "    </tr>\n",
              "    <tr>\n",
              "      <th>34223</th>\n",
              "      <td>İzmir/Seferihisar/Bengiler</td>\n",
              "      <td>310000</td>\n",
              "      <td>3</td>\n",
              "      <td>70</td>\n",
              "      <td>100</td>\n",
              "      <td>Yazlık</td>\n",
              "      <td>16-20 arası</td>\n",
              "      <td>Komple</td>\n",
              "      <td>2</td>\n",
              "      <td>Yok</td>\n",
              "      <td>1</td>\n",
              "      <td>0</td>\n",
              "      <td>0</td>\n",
              "      <td>0</td>\n",
              "      <td>0</td>\n",
              "      <td>0</td>\n",
              "      <td>0</td>\n",
              "      <td>0</td>\n",
              "      <td>2019</td>\n",
              "      <td>9</td>\n",
              "      <td>0</td>\n",
              "      <td>0</td>\n",
              "      <td>0</td>\n",
              "      <td>0</td>\n",
              "      <td>0</td>\n",
              "      <td>0</td>\n",
              "      <td>0</td>\n",
              "      <td>0</td>\n",
              "      <td>0</td>\n",
              "      <td>0</td>\n",
              "      <td>0</td>\n",
              "      <td>0</td>\n",
              "      <td>1</td>\n",
              "    </tr>\n",
              "    <tr>\n",
              "      <th>34305</th>\n",
              "      <td>İzmir/Seferihisar/Mersin Alanı</td>\n",
              "      <td>425000</td>\n",
              "      <td>4</td>\n",
              "      <td>110</td>\n",
              "      <td>120</td>\n",
              "      <td>Yazlık</td>\n",
              "      <td>0</td>\n",
              "      <td>-</td>\n",
              "      <td>3</td>\n",
              "      <td>Klima</td>\n",
              "      <td>1</td>\n",
              "      <td>0</td>\n",
              "      <td>0</td>\n",
              "      <td>0</td>\n",
              "      <td>0</td>\n",
              "      <td>0</td>\n",
              "      <td>0</td>\n",
              "      <td>0</td>\n",
              "      <td>2019</td>\n",
              "      <td>9</td>\n",
              "      <td>0</td>\n",
              "      <td>0</td>\n",
              "      <td>0</td>\n",
              "      <td>0</td>\n",
              "      <td>0</td>\n",
              "      <td>0</td>\n",
              "      <td>0</td>\n",
              "      <td>0</td>\n",
              "      <td>0</td>\n",
              "      <td>0</td>\n",
              "      <td>0</td>\n",
              "      <td>0</td>\n",
              "      <td>1</td>\n",
              "    </tr>\n",
              "    <tr>\n",
              "      <th>34310</th>\n",
              "      <td>İzmir/Seferihisar/Bengiler</td>\n",
              "      <td>590000</td>\n",
              "      <td>4</td>\n",
              "      <td>80</td>\n",
              "      <td>110</td>\n",
              "      <td>Yazlık</td>\n",
              "      <td>1</td>\n",
              "      <td>Komple</td>\n",
              "      <td>3</td>\n",
              "      <td>Yok</td>\n",
              "      <td>1</td>\n",
              "      <td>0</td>\n",
              "      <td>0</td>\n",
              "      <td>0</td>\n",
              "      <td>0</td>\n",
              "      <td>0</td>\n",
              "      <td>0</td>\n",
              "      <td>0</td>\n",
              "      <td>2019</td>\n",
              "      <td>9</td>\n",
              "      <td>0</td>\n",
              "      <td>0</td>\n",
              "      <td>0</td>\n",
              "      <td>0</td>\n",
              "      <td>0</td>\n",
              "      <td>0</td>\n",
              "      <td>0</td>\n",
              "      <td>0</td>\n",
              "      <td>0</td>\n",
              "      <td>0</td>\n",
              "      <td>0</td>\n",
              "      <td>0</td>\n",
              "      <td>1</td>\n",
              "    </tr>\n",
              "    <tr>\n",
              "      <th>34408</th>\n",
              "      <td>İzmir/Seferihisar/Cumhuriyet</td>\n",
              "      <td>440000</td>\n",
              "      <td>4</td>\n",
              "      <td>80</td>\n",
              "      <td>100</td>\n",
              "      <td>Yazlık</td>\n",
              "      <td>0</td>\n",
              "      <td>Komple</td>\n",
              "      <td>2</td>\n",
              "      <td>Klima</td>\n",
              "      <td>1</td>\n",
              "      <td>0</td>\n",
              "      <td>0</td>\n",
              "      <td>0</td>\n",
              "      <td>0</td>\n",
              "      <td>0</td>\n",
              "      <td>0</td>\n",
              "      <td>0</td>\n",
              "      <td>2019</td>\n",
              "      <td>9</td>\n",
              "      <td>0</td>\n",
              "      <td>0</td>\n",
              "      <td>0</td>\n",
              "      <td>0</td>\n",
              "      <td>0</td>\n",
              "      <td>0</td>\n",
              "      <td>0</td>\n",
              "      <td>0</td>\n",
              "      <td>0</td>\n",
              "      <td>0</td>\n",
              "      <td>0</td>\n",
              "      <td>0</td>\n",
              "      <td>1</td>\n",
              "    </tr>\n",
              "    <tr>\n",
              "      <th>34417</th>\n",
              "      <td>İzmir/Menderes/Gümüldür Cumhuriyet</td>\n",
              "      <td>300000</td>\n",
              "      <td>3</td>\n",
              "      <td>60</td>\n",
              "      <td>70</td>\n",
              "      <td>Daire</td>\n",
              "      <td>0</td>\n",
              "      <td>Zemin Kat</td>\n",
              "      <td>4</td>\n",
              "      <td>Klima</td>\n",
              "      <td>1</td>\n",
              "      <td>0</td>\n",
              "      <td>0</td>\n",
              "      <td>0</td>\n",
              "      <td>0</td>\n",
              "      <td>0</td>\n",
              "      <td>0</td>\n",
              "      <td>0</td>\n",
              "      <td>2019</td>\n",
              "      <td>9</td>\n",
              "      <td>0</td>\n",
              "      <td>0</td>\n",
              "      <td>0</td>\n",
              "      <td>0</td>\n",
              "      <td>0</td>\n",
              "      <td>0</td>\n",
              "      <td>0</td>\n",
              "      <td>0</td>\n",
              "      <td>0</td>\n",
              "      <td>0</td>\n",
              "      <td>0</td>\n",
              "      <td>0</td>\n",
              "      <td>1</td>\n",
              "    </tr>\n",
              "    <tr>\n",
              "      <th>36094</th>\n",
              "      <td>İstanbul/Kadıköy/Suadiye</td>\n",
              "      <td>2650000</td>\n",
              "      <td>4</td>\n",
              "      <td>120</td>\n",
              "      <td>125</td>\n",
              "      <td>Daire</td>\n",
              "      <td>0</td>\n",
              "      <td>6</td>\n",
              "      <td>10-20 arası</td>\n",
              "      <td>Kombi (Doğalgaz)</td>\n",
              "      <td>2</td>\n",
              "      <td>0</td>\n",
              "      <td>1</td>\n",
              "      <td>1</td>\n",
              "      <td>1</td>\n",
              "      <td>0</td>\n",
              "      <td>1</td>\n",
              "      <td>0</td>\n",
              "      <td>2019</td>\n",
              "      <td>10</td>\n",
              "      <td>0</td>\n",
              "      <td>1</td>\n",
              "      <td>0</td>\n",
              "      <td>0</td>\n",
              "      <td>1</td>\n",
              "      <td>0</td>\n",
              "      <td>0</td>\n",
              "      <td>0</td>\n",
              "      <td>0</td>\n",
              "      <td>1</td>\n",
              "      <td>0</td>\n",
              "      <td>0</td>\n",
              "      <td>0</td>\n",
              "    </tr>\n",
              "    <tr>\n",
              "      <th>38070</th>\n",
              "      <td>İstanbul/Pendik/Emirli</td>\n",
              "      <td>13750000</td>\n",
              "      <td>8</td>\n",
              "      <td>11</td>\n",
              "      <td>600</td>\n",
              "      <td>Çiftlik Evi</td>\n",
              "      <td>11-15 arası</td>\n",
              "      <td>-</td>\n",
              "      <td>3</td>\n",
              "      <td>Kat Kaloriferi</td>\n",
              "      <td>4</td>\n",
              "      <td>0</td>\n",
              "      <td>0</td>\n",
              "      <td>0</td>\n",
              "      <td>0</td>\n",
              "      <td>0</td>\n",
              "      <td>0</td>\n",
              "      <td>1</td>\n",
              "      <td>2019</td>\n",
              "      <td>10</td>\n",
              "      <td>0</td>\n",
              "      <td>0</td>\n",
              "      <td>0</td>\n",
              "      <td>0</td>\n",
              "      <td>1</td>\n",
              "      <td>1</td>\n",
              "      <td>0</td>\n",
              "      <td>0</td>\n",
              "      <td>0</td>\n",
              "      <td>1</td>\n",
              "      <td>0</td>\n",
              "      <td>0</td>\n",
              "      <td>0</td>\n",
              "    </tr>\n",
              "    <tr>\n",
              "      <th>43910</th>\n",
              "      <td>İstanbul/Pendik/Yenişehir</td>\n",
              "      <td>435000</td>\n",
              "      <td>3</td>\n",
              "      <td>91</td>\n",
              "      <td>100</td>\n",
              "      <td>Daire</td>\n",
              "      <td>2</td>\n",
              "      <td>8</td>\n",
              "      <td>8</td>\n",
              "      <td>Merkezi Sistem (Isı Payı Ölçer)</td>\n",
              "      <td>1</td>\n",
              "      <td>1</td>\n",
              "      <td>1</td>\n",
              "      <td>0</td>\n",
              "      <td>1</td>\n",
              "      <td>0</td>\n",
              "      <td>0</td>\n",
              "      <td>0</td>\n",
              "      <td>2019</td>\n",
              "      <td>11</td>\n",
              "      <td>0</td>\n",
              "      <td>0</td>\n",
              "      <td>0</td>\n",
              "      <td>0</td>\n",
              "      <td>0</td>\n",
              "      <td>0</td>\n",
              "      <td>0</td>\n",
              "      <td>0</td>\n",
              "      <td>0</td>\n",
              "      <td>0</td>\n",
              "      <td>0</td>\n",
              "      <td>0</td>\n",
              "      <td>1</td>\n",
              "    </tr>\n",
              "    <tr>\n",
              "      <th>46614</th>\n",
              "      <td>İstanbul/Beşiktaş/Cihannüma</td>\n",
              "      <td>1600000</td>\n",
              "      <td>4</td>\n",
              "      <td>115</td>\n",
              "      <td>130</td>\n",
              "      <td>Daire</td>\n",
              "      <td>0</td>\n",
              "      <td>5</td>\n",
              "      <td>6</td>\n",
              "      <td>Kombi (Doğalgaz)</td>\n",
              "      <td>1</td>\n",
              "      <td>0</td>\n",
              "      <td>0</td>\n",
              "      <td>0</td>\n",
              "      <td>0</td>\n",
              "      <td>0</td>\n",
              "      <td>0</td>\n",
              "      <td>0</td>\n",
              "      <td>2019</td>\n",
              "      <td>12</td>\n",
              "      <td>0</td>\n",
              "      <td>0</td>\n",
              "      <td>0</td>\n",
              "      <td>0</td>\n",
              "      <td>0</td>\n",
              "      <td>0</td>\n",
              "      <td>0</td>\n",
              "      <td>0</td>\n",
              "      <td>0</td>\n",
              "      <td>0</td>\n",
              "      <td>0</td>\n",
              "      <td>0</td>\n",
              "      <td>1</td>\n",
              "    </tr>\n",
              "    <tr>\n",
              "      <th>55043</th>\n",
              "      <td>İzmir/Buca/Çamlıkule</td>\n",
              "      <td>300000</td>\n",
              "      <td>3</td>\n",
              "      <td>90</td>\n",
              "      <td>95</td>\n",
              "      <td>Daire</td>\n",
              "      <td>0</td>\n",
              "      <td>Kot 2</td>\n",
              "      <td>2</td>\n",
              "      <td>Kombi (Doğalgaz)</td>\n",
              "      <td>1</td>\n",
              "      <td>1</td>\n",
              "      <td>0</td>\n",
              "      <td>0</td>\n",
              "      <td>0</td>\n",
              "      <td>0</td>\n",
              "      <td>0</td>\n",
              "      <td>0</td>\n",
              "      <td>2020</td>\n",
              "      <td>2</td>\n",
              "      <td>0</td>\n",
              "      <td>0</td>\n",
              "      <td>0</td>\n",
              "      <td>0</td>\n",
              "      <td>0</td>\n",
              "      <td>0</td>\n",
              "      <td>0</td>\n",
              "      <td>0</td>\n",
              "      <td>0</td>\n",
              "      <td>0</td>\n",
              "      <td>0</td>\n",
              "      <td>0</td>\n",
              "      <td>1</td>\n",
              "    </tr>\n",
              "    <tr>\n",
              "      <th>56082</th>\n",
              "      <td>İzmir/Konak/Mithatpaşa</td>\n",
              "      <td>1650000</td>\n",
              "      <td>5</td>\n",
              "      <td>107</td>\n",
              "      <td>244</td>\n",
              "      <td>Köşk / Konak / Yalı</td>\n",
              "      <td>-</td>\n",
              "      <td>-</td>\n",
              "      <td>3</td>\n",
              "      <td>Kombi (Doğalgaz)</td>\n",
              "      <td>2</td>\n",
              "      <td>0</td>\n",
              "      <td>0</td>\n",
              "      <td>0</td>\n",
              "      <td>0</td>\n",
              "      <td>0</td>\n",
              "      <td>0</td>\n",
              "      <td>1</td>\n",
              "      <td>2020</td>\n",
              "      <td>2</td>\n",
              "      <td>0</td>\n",
              "      <td>0</td>\n",
              "      <td>0</td>\n",
              "      <td>0</td>\n",
              "      <td>0</td>\n",
              "      <td>0</td>\n",
              "      <td>0</td>\n",
              "      <td>0</td>\n",
              "      <td>0</td>\n",
              "      <td>0</td>\n",
              "      <td>0</td>\n",
              "      <td>0</td>\n",
              "      <td>1</td>\n",
              "    </tr>\n",
              "    <tr>\n",
              "      <th>59788</th>\n",
              "      <td>İzmir/Foça/Cumhuriyet</td>\n",
              "      <td>400000</td>\n",
              "      <td>3</td>\n",
              "      <td>60</td>\n",
              "      <td>90</td>\n",
              "      <td>Villa</td>\n",
              "      <td>0</td>\n",
              "      <td>1</td>\n",
              "      <td>2</td>\n",
              "      <td>Kombi (Elektrikli)</td>\n",
              "      <td>2</td>\n",
              "      <td>0</td>\n",
              "      <td>0</td>\n",
              "      <td>0</td>\n",
              "      <td>0</td>\n",
              "      <td>0</td>\n",
              "      <td>0</td>\n",
              "      <td>0</td>\n",
              "      <td>2020</td>\n",
              "      <td>3</td>\n",
              "      <td>0</td>\n",
              "      <td>0</td>\n",
              "      <td>0</td>\n",
              "      <td>0</td>\n",
              "      <td>0</td>\n",
              "      <td>0</td>\n",
              "      <td>0</td>\n",
              "      <td>0</td>\n",
              "      <td>0</td>\n",
              "      <td>0</td>\n",
              "      <td>0</td>\n",
              "      <td>0</td>\n",
              "      <td>1</td>\n",
              "    </tr>\n",
              "    <tr>\n",
              "      <th>59816</th>\n",
              "      <td>İzmir/Menemen/Irmak</td>\n",
              "      <td>310000</td>\n",
              "      <td>4</td>\n",
              "      <td>35</td>\n",
              "      <td>130</td>\n",
              "      <td>Daire</td>\n",
              "      <td>0</td>\n",
              "      <td>4</td>\n",
              "      <td>7</td>\n",
              "      <td>Kombi (Doğalgaz)</td>\n",
              "      <td>2</td>\n",
              "      <td>1</td>\n",
              "      <td>1</td>\n",
              "      <td>0</td>\n",
              "      <td>1</td>\n",
              "      <td>0</td>\n",
              "      <td>0</td>\n",
              "      <td>0</td>\n",
              "      <td>2020</td>\n",
              "      <td>3</td>\n",
              "      <td>0</td>\n",
              "      <td>0</td>\n",
              "      <td>0</td>\n",
              "      <td>0</td>\n",
              "      <td>0</td>\n",
              "      <td>0</td>\n",
              "      <td>0</td>\n",
              "      <td>0</td>\n",
              "      <td>0</td>\n",
              "      <td>0</td>\n",
              "      <td>0</td>\n",
              "      <td>0</td>\n",
              "      <td>1</td>\n",
              "    </tr>\n",
              "    <tr>\n",
              "      <th>60218</th>\n",
              "      <td>İstanbul/Beşiktaş/Levent</td>\n",
              "      <td>25000000</td>\n",
              "      <td>0</td>\n",
              "      <td>553</td>\n",
              "      <td>656</td>\n",
              "      <td>Villa</td>\n",
              "      <td>31-35 arası</td>\n",
              "      <td>-</td>\n",
              "      <td>4</td>\n",
              "      <td>Kombi (Doğalgaz)</td>\n",
              "      <td>-</td>\n",
              "      <td>0</td>\n",
              "      <td>0</td>\n",
              "      <td>0</td>\n",
              "      <td>1</td>\n",
              "      <td>0</td>\n",
              "      <td>0</td>\n",
              "      <td>0</td>\n",
              "      <td>2020</td>\n",
              "      <td>3</td>\n",
              "      <td>0</td>\n",
              "      <td>0</td>\n",
              "      <td>0</td>\n",
              "      <td>0</td>\n",
              "      <td>0</td>\n",
              "      <td>0</td>\n",
              "      <td>0</td>\n",
              "      <td>0</td>\n",
              "      <td>0</td>\n",
              "      <td>0</td>\n",
              "      <td>0</td>\n",
              "      <td>0</td>\n",
              "      <td>1</td>\n",
              "    </tr>\n",
              "    <tr>\n",
              "      <th>60442</th>\n",
              "      <td>İzmir/Çeşme/Alaçatı</td>\n",
              "      <td>12000000</td>\n",
              "      <td>7</td>\n",
              "      <td>145</td>\n",
              "      <td>290</td>\n",
              "      <td>Köşk / Konak / Yalı</td>\n",
              "      <td>-</td>\n",
              "      <td>-</td>\n",
              "      <td>2</td>\n",
              "      <td>Klima</td>\n",
              "      <td>2</td>\n",
              "      <td>0</td>\n",
              "      <td>0</td>\n",
              "      <td>0</td>\n",
              "      <td>0</td>\n",
              "      <td>0</td>\n",
              "      <td>0</td>\n",
              "      <td>0</td>\n",
              "      <td>2020</td>\n",
              "      <td>3</td>\n",
              "      <td>0</td>\n",
              "      <td>0</td>\n",
              "      <td>0</td>\n",
              "      <td>0</td>\n",
              "      <td>0</td>\n",
              "      <td>0</td>\n",
              "      <td>0</td>\n",
              "      <td>0</td>\n",
              "      <td>0</td>\n",
              "      <td>0</td>\n",
              "      <td>0</td>\n",
              "      <td>0</td>\n",
              "      <td>1</td>\n",
              "    </tr>\n",
              "    <tr>\n",
              "      <th>63206</th>\n",
              "      <td>İzmir/Konak/Çankaya</td>\n",
              "      <td>2450000</td>\n",
              "      <td>9</td>\n",
              "      <td>200</td>\n",
              "      <td>250</td>\n",
              "      <td>Köşk / Konak / Yalı</td>\n",
              "      <td>-</td>\n",
              "      <td>-</td>\n",
              "      <td>3</td>\n",
              "      <td>Kombi (Doğalgaz)</td>\n",
              "      <td>2</td>\n",
              "      <td>0</td>\n",
              "      <td>0</td>\n",
              "      <td>0</td>\n",
              "      <td>0</td>\n",
              "      <td>0</td>\n",
              "      <td>0</td>\n",
              "      <td>0</td>\n",
              "      <td>2020</td>\n",
              "      <td>4</td>\n",
              "      <td>0</td>\n",
              "      <td>0</td>\n",
              "      <td>0</td>\n",
              "      <td>0</td>\n",
              "      <td>0</td>\n",
              "      <td>0</td>\n",
              "      <td>0</td>\n",
              "      <td>0</td>\n",
              "      <td>0</td>\n",
              "      <td>0</td>\n",
              "      <td>0</td>\n",
              "      <td>0</td>\n",
              "      <td>1</td>\n",
              "    </tr>\n",
              "    <tr>\n",
              "      <th>63212</th>\n",
              "      <td>İzmir/Konak/Çankaya</td>\n",
              "      <td>915000</td>\n",
              "      <td>11</td>\n",
              "      <td>171</td>\n",
              "      <td>231</td>\n",
              "      <td>Köşk / Konak / Yalı</td>\n",
              "      <td>40 ve üzeri</td>\n",
              "      <td>-</td>\n",
              "      <td>3</td>\n",
              "      <td>Kombi (Doğalgaz)</td>\n",
              "      <td>4</td>\n",
              "      <td>0</td>\n",
              "      <td>0</td>\n",
              "      <td>0</td>\n",
              "      <td>0</td>\n",
              "      <td>0</td>\n",
              "      <td>0</td>\n",
              "      <td>0</td>\n",
              "      <td>2020</td>\n",
              "      <td>4</td>\n",
              "      <td>0</td>\n",
              "      <td>0</td>\n",
              "      <td>0</td>\n",
              "      <td>0</td>\n",
              "      <td>0</td>\n",
              "      <td>0</td>\n",
              "      <td>0</td>\n",
              "      <td>0</td>\n",
              "      <td>0</td>\n",
              "      <td>0</td>\n",
              "      <td>0</td>\n",
              "      <td>0</td>\n",
              "      <td>1</td>\n",
              "    </tr>\n",
              "    <tr>\n",
              "      <th>63830</th>\n",
              "      <td>İzmir/Çeşme/Alaçatı</td>\n",
              "      <td>3950000</td>\n",
              "      <td>6</td>\n",
              "      <td>170</td>\n",
              "      <td>200</td>\n",
              "      <td>Köşk / Konak / Yalı</td>\n",
              "      <td>-</td>\n",
              "      <td>-</td>\n",
              "      <td>2</td>\n",
              "      <td>Soba (Kömür)</td>\n",
              "      <td>2</td>\n",
              "      <td>0</td>\n",
              "      <td>0</td>\n",
              "      <td>0</td>\n",
              "      <td>0</td>\n",
              "      <td>0</td>\n",
              "      <td>0</td>\n",
              "      <td>0</td>\n",
              "      <td>2020</td>\n",
              "      <td>4</td>\n",
              "      <td>0</td>\n",
              "      <td>0</td>\n",
              "      <td>0</td>\n",
              "      <td>0</td>\n",
              "      <td>0</td>\n",
              "      <td>0</td>\n",
              "      <td>0</td>\n",
              "      <td>0</td>\n",
              "      <td>0</td>\n",
              "      <td>0</td>\n",
              "      <td>0</td>\n",
              "      <td>0</td>\n",
              "      <td>1</td>\n",
              "    </tr>\n",
              "  </tbody>\n",
              "</table>\n",
              "</div>"
            ],
            "text/plain": [
              "                                    adres     fiyat  oda_sayısı  brüt_m2  \\\n",
              "1250           İzmir/Kemalpaşa/Cumhuriyet   1650000          10        1   \n",
              "5294              İstanbul/Beşiktaş/Bebek  45000000           9        1   \n",
              "6491                   İzmir/Çeşme/Dalyan   1250000           4      120   \n",
              "8902               İstanbul/Beşiktaş/Ulus  27000000           6        1   \n",
              "13020                   İzmir/Çeşme/Ardıç  17000000           6        1   \n",
              "13029                   İzmir/Çeşme/Ilıca   3900000           7        1   \n",
              "13033                 İzmir/Çeşme/Musalla  12900000           9        5   \n",
              "14828         İzmir/Karabağlar/Refet Bele    235000           3       98   \n",
              "16647                   İzmir/Çeşme/Ilıca   3900000           7        1   \n",
              "34195        İzmir/Seferihisar/Cumhuriyet    250000           3       70   \n",
              "34223          İzmir/Seferihisar/Bengiler    310000           3       70   \n",
              "34305      İzmir/Seferihisar/Mersin Alanı    425000           4      110   \n",
              "34310          İzmir/Seferihisar/Bengiler    590000           4       80   \n",
              "34408        İzmir/Seferihisar/Cumhuriyet    440000           4       80   \n",
              "34417  İzmir/Menderes/Gümüldür Cumhuriyet    300000           3       60   \n",
              "36094            İstanbul/Kadıköy/Suadiye   2650000           4      120   \n",
              "38070              İstanbul/Pendik/Emirli  13750000           8       11   \n",
              "43910           İstanbul/Pendik/Yenişehir    435000           3       91   \n",
              "46614         İstanbul/Beşiktaş/Cihannüma   1600000           4      115   \n",
              "55043                İzmir/Buca/Çamlıkule    300000           3       90   \n",
              "56082              İzmir/Konak/Mithatpaşa   1650000           5      107   \n",
              "59788               İzmir/Foça/Cumhuriyet    400000           3       60   \n",
              "59816                 İzmir/Menemen/Irmak    310000           4       35   \n",
              "60218            İstanbul/Beşiktaş/Levent  25000000           0      553   \n",
              "60442                 İzmir/Çeşme/Alaçatı  12000000           7      145   \n",
              "63206                 İzmir/Konak/Çankaya   2450000           9      200   \n",
              "63212                 İzmir/Konak/Çankaya    915000          11      171   \n",
              "63830                 İzmir/Çeşme/Alaçatı   3950000           6      170   \n",
              "\n",
              "       net_m2           emlak_tipi    bina_yaşı bulunduğu_kat   kat_sayısı  \\\n",
              "1250      600  Köşk / Konak / Yalı            0             -            3   \n",
              "5294      950                Villa  21-25 arası      Müstakil            4   \n",
              "6491      300                Villa   6-10 arası             -            2   \n",
              "8902      309                Villa  16-20 arası      Müstakil            3   \n",
              "13020     300                Villa   6-10 arası      Müstakil            2   \n",
              "13029     350                Villa   6-10 arası      Müstakil            2   \n",
              "13033     550  Köşk / Konak / Yalı            0             -            2   \n",
              "14828     100                Daire            5             3            3   \n",
              "16647     350                Villa   6-10 arası      Müstakil            2   \n",
              "34195      90               Yazlık  11-15 arası    Bahçe katı            3   \n",
              "34223     100               Yazlık  16-20 arası        Komple            2   \n",
              "34305     120               Yazlık            0             -            3   \n",
              "34310     110               Yazlık            1        Komple            3   \n",
              "34408     100               Yazlık            0        Komple            2   \n",
              "34417      70                Daire            0     Zemin Kat            4   \n",
              "36094     125                Daire            0             6  10-20 arası   \n",
              "38070     600          Çiftlik Evi  11-15 arası             -            3   \n",
              "43910     100                Daire            2             8            8   \n",
              "46614     130                Daire            0             5            6   \n",
              "55043      95                Daire            0         Kot 2            2   \n",
              "56082     244  Köşk / Konak / Yalı            -             -            3   \n",
              "59788      90                Villa            0             1            2   \n",
              "59816     130                Daire            0             4            7   \n",
              "60218     656                Villa  31-35 arası             -            4   \n",
              "60442     290  Köşk / Konak / Yalı            -             -            2   \n",
              "63206     250  Köşk / Konak / Yalı            -             -            3   \n",
              "63212     231  Köşk / Konak / Yalı  40 ve üzeri             -            3   \n",
              "63830     200  Köşk / Konak / Yalı            -             -            2   \n",
              "\n",
              "                           ısıtma_tipi banyo_sayısı  otopark  interkom  \\\n",
              "1250                             Klima            3        0         0   \n",
              "5294                             Klima            4        1         1   \n",
              "6491                                 -            2        0         0   \n",
              "8902                  Kombi (Doğalgaz)            3        1         0   \n",
              "13020                   Kat Kaloriferi            5        0         0   \n",
              "13029                            Klima   6 ve üzeri        0         0   \n",
              "13033                    Yerden Isıtma   6 ve üzeri        0         0   \n",
              "14828                 Kombi (Doğalgaz)            1        0         1   \n",
              "16647                            Klima   6 ve üzeri        0         0   \n",
              "34195                            Klima            1        0         0   \n",
              "34223                              Yok            1        0         0   \n",
              "34305                            Klima            1        0         0   \n",
              "34310                              Yok            1        0         0   \n",
              "34408                            Klima            1        0         0   \n",
              "34417                            Klima            1        0         0   \n",
              "36094                 Kombi (Doğalgaz)            2        0         1   \n",
              "38070                   Kat Kaloriferi            4        0         0   \n",
              "43910  Merkezi Sistem (Isı Payı Ölçer)            1        1         1   \n",
              "46614                 Kombi (Doğalgaz)            1        0         0   \n",
              "55043                 Kombi (Doğalgaz)            1        1         0   \n",
              "56082                 Kombi (Doğalgaz)            2        0         0   \n",
              "59788               Kombi (Elektrikli)            2        0         0   \n",
              "59816                 Kombi (Doğalgaz)            2        1         1   \n",
              "60218                 Kombi (Doğalgaz)            -        0         0   \n",
              "60442                            Klima            2        0         0   \n",
              "63206                 Kombi (Doğalgaz)            2        0         0   \n",
              "63212                 Kombi (Doğalgaz)            4        0         0   \n",
              "63830                     Soba (Kömür)            2        0         0   \n",
              "\n",
              "       deprem_yönetmeliğine_uygun  asansör  çocuk_oyun_alanı  giyinme_odası  \\\n",
              "1250                            0        0                 0              0   \n",
              "5294                            0        1                 0              1   \n",
              "6491                            0        0                 0              0   \n",
              "8902                            0        0                 0              0   \n",
              "13020                           0        0                 0              0   \n",
              "13029                           0        0                 0              0   \n",
              "13033                           0        0                 0              0   \n",
              "14828                           0        0                 0              0   \n",
              "16647                           0        0                 0              0   \n",
              "34195                           0        0                 0              0   \n",
              "34223                           0        0                 0              0   \n",
              "34305                           0        0                 0              0   \n",
              "34310                           0        0                 0              0   \n",
              "34408                           0        0                 0              0   \n",
              "34417                           0        0                 0              0   \n",
              "36094                           1        1                 0              1   \n",
              "38070                           0        0                 0              0   \n",
              "43910                           0        1                 0              0   \n",
              "46614                           0        0                 0              0   \n",
              "55043                           0        0                 0              0   \n",
              "56082                           0        0                 0              0   \n",
              "59788                           0        0                 0              0   \n",
              "59816                           0        1                 0              0   \n",
              "60218                           0        1                 0              0   \n",
              "60442                           0        0                 0              0   \n",
              "63206                           0        0                 0              0   \n",
              "63212                           0        0                 0              0   \n",
              "63830                           0        0                 0              0   \n",
              "\n",
              "       ebeveyn_banyosu   yıl  ay  manzara_boğaz  manzara_cadde  manzara_dağ  \\\n",
              "1250                 1  2019   1              0              0            0   \n",
              "5294                 1  2019   2              1              0            0   \n",
              "6491                 0  2019   2              0              0            0   \n",
              "8902                 0  2019   3              0              0            0   \n",
              "13020                0  2019   4              0              0            0   \n",
              "13029                0  2019   4              0              0            0   \n",
              "13033                1  2019   4              0              0            0   \n",
              "14828                0  2019   4              0              0            0   \n",
              "16647                0  2019   5              0              0            0   \n",
              "34195                0  2019   9              0              0            0   \n",
              "34223                0  2019   9              0              0            0   \n",
              "34305                0  2019   9              0              0            0   \n",
              "34310                0  2019   9              0              0            0   \n",
              "34408                0  2019   9              0              0            0   \n",
              "34417                0  2019   9              0              0            0   \n",
              "36094                0  2019  10              0              1            0   \n",
              "38070                1  2019  10              0              0            0   \n",
              "43910                0  2019  11              0              0            0   \n",
              "46614                0  2019  12              0              0            0   \n",
              "55043                0  2020   2              0              0            0   \n",
              "56082                1  2020   2              0              0            0   \n",
              "59788                0  2020   3              0              0            0   \n",
              "59816                0  2020   3              0              0            0   \n",
              "60218                0  2020   3              0              0            0   \n",
              "60442                0  2020   3              0              0            0   \n",
              "63206                0  2020   4              0              0            0   \n",
              "63212                0  2020   4              0              0            0   \n",
              "63830                0  2020   4              0              0            0   \n",
              "\n",
              "       manzara_deniz  manzara_doğa  manzara_göl  manzara_havuz  manzara_nehir  \\\n",
              "1250               0             0            0              0              0   \n",
              "5294               1             1            0              0              0   \n",
              "6491               0             0            0              0              0   \n",
              "8902               0             1            0              0              0   \n",
              "13020              0             0            0              0              0   \n",
              "13029              0             0            0              0              0   \n",
              "13033              0             0            0              0              0   \n",
              "14828              0             0            0              0              0   \n",
              "16647              0             0            0              0              0   \n",
              "34195              0             0            0              0              0   \n",
              "34223              0             0            0              0              0   \n",
              "34305              0             0            0              0              0   \n",
              "34310              0             0            0              0              0   \n",
              "34408              0             0            0              0              0   \n",
              "34417              0             0            0              0              0   \n",
              "36094              0             1            0              0              0   \n",
              "38070              0             1            1              0              0   \n",
              "43910              0             0            0              0              0   \n",
              "46614              0             0            0              0              0   \n",
              "55043              0             0            0              0              0   \n",
              "56082              0             0            0              0              0   \n",
              "59788              0             0            0              0              0   \n",
              "59816              0             0            0              0              0   \n",
              "60218              0             0            0              0              0   \n",
              "60442              0             0            0              0              0   \n",
              "63206              0             0            0              0              0   \n",
              "63212              0             0            0              0              0   \n",
              "63830              0             0            0              0              0   \n",
              "\n",
              "       manzara_park  manzara_şehir  manzara_vadi  manzara_yeşilalan  \\\n",
              "1250              0              0             0                  0   \n",
              "5294              0              0             0                  0   \n",
              "6491              0              0             0                  0   \n",
              "8902              0              0             0                  0   \n",
              "13020             0              0             0                  0   \n",
              "13029             0              0             0                  0   \n",
              "13033             0              0             0                  0   \n",
              "14828             0              0             0                  0   \n",
              "16647             0              0             0                  0   \n",
              "34195             0              0             0                  0   \n",
              "34223             0              0             0                  0   \n",
              "34305             0              0             0                  0   \n",
              "34310             0              0             0                  0   \n",
              "34408             0              0             0                  0   \n",
              "34417             0              0             0                  0   \n",
              "36094             0              1             0                  0   \n",
              "38070             0              1             0                  0   \n",
              "43910             0              0             0                  0   \n",
              "46614             0              0             0                  0   \n",
              "55043             0              0             0                  0   \n",
              "56082             0              0             0                  0   \n",
              "59788             0              0             0                  0   \n",
              "59816             0              0             0                  0   \n",
              "60218             0              0             0                  0   \n",
              "60442             0              0             0                  0   \n",
              "63206             0              0             0                  0   \n",
              "63212             0              0             0                  0   \n",
              "63830             0              0             0                  0   \n",
              "\n",
              "       manzara_bilinmiyor  \n",
              "1250                    1  \n",
              "5294                    0  \n",
              "6491                    1  \n",
              "8902                    0  \n",
              "13020                   1  \n",
              "13029                   1  \n",
              "13033                   1  \n",
              "14828                   1  \n",
              "16647                   1  \n",
              "34195                   1  \n",
              "34223                   1  \n",
              "34305                   1  \n",
              "34310                   1  \n",
              "34408                   1  \n",
              "34417                   1  \n",
              "36094                   0  \n",
              "38070                   0  \n",
              "43910                   1  \n",
              "46614                   1  \n",
              "55043                   1  \n",
              "56082                   1  \n",
              "59788                   1  \n",
              "59816                   1  \n",
              "60218                   1  \n",
              "60442                   1  \n",
              "63206                   1  \n",
              "63212                   1  \n",
              "63830                   1  "
            ]
          },
          "metadata": {},
          "execution_count": 27
        }
      ]
    },
    {
      "cell_type": "code",
      "metadata": {
        "id": "xUDRaFQac3TA"
      },
      "source": [
        "for i in range(df.shape[0]):\n",
        "    if df.brüt_m2.iloc[i] < df.net_m2.iloc[i]:\n",
        "        df.brüt_m2.iloc[i] = df.net_m2.iloc[i]"
      ],
      "execution_count": null,
      "outputs": []
    },
    {
      "cell_type": "markdown",
      "metadata": {
        "id": "APs6tTsEc3TB"
      },
      "source": [
        "Brüt metrekare net metkrekareden küçük olamayacağı için bu durumda olan satırlarda ikisi eşitlendi"
      ]
    },
    {
      "cell_type": "code",
      "metadata": {
        "id": "NIcuDlYfWjym"
      },
      "source": [
        ""
      ],
      "execution_count": null,
      "outputs": []
    },
    {
      "cell_type": "markdown",
      "metadata": {
        "id": "Qz5LRBTu12bO"
      },
      "source": [
        "***Veri emlak tipine göre bölünecek***"
      ]
    },
    {
      "cell_type": "code",
      "metadata": {
        "colab": {
          "base_uri": "https://localhost:8080/"
        },
        "id": "UU0Mw2uK1n2K",
        "outputId": "9ba7f88c-fc69-45fc-c80d-b93351d89a5d"
      },
      "source": [
        "df['emlak_tipi'].unique()"
      ],
      "execution_count": null,
      "outputs": [
        {
          "output_type": "execute_result",
          "data": {
            "text/plain": [
              "<StringArray>\n",
              "[              'Daire',         'Müstakil Ev',               'Villa',\n",
              "              'Yazlık',            'Rezidans',         'Çiftlik Evi',\n",
              " 'Köşk / Konak / Yalı',        'Yalı Dairesi',        'Prefabrik Ev']\n",
              "Length: 9, dtype: string"
            ]
          },
          "metadata": {},
          "execution_count": 30
        }
      ]
    },
    {
      "cell_type": "code",
      "metadata": {
        "colab": {
          "base_uri": "https://localhost:8080/"
        },
        "id": "WRFqw9Xr5DKV",
        "outputId": "84eb433f-6ed5-4cea-931b-989fe6e60b97"
      },
      "source": [
        "df.shape"
      ],
      "execution_count": null,
      "outputs": [
        {
          "output_type": "execute_result",
          "data": {
            "text/plain": [
              "(64537, 33)"
            ]
          },
          "metadata": {},
          "execution_count": 31
        }
      ]
    },
    {
      "cell_type": "code",
      "metadata": {
        "id": "sorp7GLr1noK"
      },
      "source": [
        "df_daire = df[df['emlak_tipi']=='Daire']\n",
        "df_köşk_konak_yalı = df[df['emlak_tipi']=='Köşk / Konak / Yalı']\n",
        "df_müstakil = df[df['emlak_tipi']=='Müstakil Ev']\n",
        "df_prefabrik = df[df['emlak_tipi']=='Prefabrik Ev']\n",
        "df_rezidans = df[df['emlak_tipi']=='Rezidans']\n",
        "df_villa = df[df['emlak_tipi']=='Villa']\n",
        "df_yalı_dairesi = df[df['emlak_tipi']=='Yalı Dairesi']\n",
        "df_yazlık = df[df['emlak_tipi']=='Yazlık']\n",
        "df_çiftlik = df[df['emlak_tipi']=='Çiftlik Evi']"
      ],
      "execution_count": null,
      "outputs": []
    },
    {
      "cell_type": "code",
      "metadata": {
        "id": "40DxVj0292KE"
      },
      "source": [
        "list_df = [df_daire, df_köşk_konak_yalı, df_müstakil, df_prefabrik, df_rezidans, df_villa, df_yalı_dairesi, df_yazlık, df_çiftlik] "
      ],
      "execution_count": null,
      "outputs": []
    },
    {
      "cell_type": "code",
      "metadata": {
        "id": "RWxcqS83Ag2B"
      },
      "source": [
        "df_daire.name = 'Daire'\n",
        "df_köşk_konak_yalı.name = 'Köşk/Konak/Yalı'\n",
        "df_müstakil.name = 'Müstakil'\n",
        "df_prefabrik.name = 'Prefabrik'\n",
        "df_rezidans.name = 'Rezidans'\n",
        "df_villa.name = 'Villa'\n",
        "df_yalı_dairesi.name = 'Yalı Dairesi'\n",
        "df_yazlık.name = 'Yazlık'\n",
        "df_çiftlik.name = 'Çiftlik Evi'"
      ],
      "execution_count": null,
      "outputs": []
    },
    {
      "cell_type": "code",
      "metadata": {
        "colab": {
          "base_uri": "https://localhost:8080/"
        },
        "id": "nsp1kdgpFqFw",
        "outputId": "c08c0363-c18e-44b2-fad8-8780eb2d6eb7"
      },
      "source": [
        "sum = 0\n",
        "for i in list_df:\n",
        "  sum += i.shape[0]\n",
        "print(sum)\n"
      ],
      "execution_count": null,
      "outputs": [
        {
          "output_type": "stream",
          "name": "stdout",
          "text": [
            "64537\n"
          ]
        }
      ]
    },
    {
      "cell_type": "code",
      "metadata": {
        "colab": {
          "base_uri": "https://localhost:8080/"
        },
        "id": "4Ta_Y9F_5P3A",
        "outputId": "620d2c93-b9da-4ea9-b2a3-b0f2f07cf8a4"
      },
      "source": [
        "df.columns"
      ],
      "execution_count": null,
      "outputs": [
        {
          "output_type": "execute_result",
          "data": {
            "text/plain": [
              "Index(['adres', 'fiyat', 'oda_sayısı', 'brüt_m2', 'net_m2', 'emlak_tipi',\n",
              "       'bina_yaşı', 'bulunduğu_kat', 'kat_sayısı', 'ısıtma_tipi',\n",
              "       'banyo_sayısı', 'otopark', 'interkom', 'deprem_yönetmeliğine_uygun',\n",
              "       'asansör', 'çocuk_oyun_alanı', 'giyinme_odası', 'ebeveyn_banyosu',\n",
              "       'Ilan_ID', 'yıl', 'ay', 'manzara_boğaz', 'manzara_cadde', 'manzara_dağ',\n",
              "       'manzara_deniz', 'manzara_doğa', 'manzara_göl', 'manzara_havuz',\n",
              "       'manzara_nehir', 'manzara_park', 'manzara_şehir', 'manzara_vadi',\n",
              "       'manzara_yeşilalan', 'manzara_bilinmiyor'],\n",
              "      dtype='object')"
            ]
          },
          "metadata": {},
          "execution_count": 23
        }
      ]
    },
    {
      "cell_type": "code",
      "metadata": {
        "colab": {
          "base_uri": "https://localhost:8080/"
        },
        "id": "I9WvCodu5Pax",
        "outputId": "07f90b3b-e996-418f-dd22-a2bfce3db763"
      },
      "source": [
        "df.dtypes"
      ],
      "execution_count": null,
      "outputs": [
        {
          "output_type": "execute_result",
          "data": {
            "text/plain": [
              "adres                         string\n",
              "fiyat                          int64\n",
              "oda_sayısı                     int64\n",
              "brüt_m2                        Int64\n",
              "net_m2                         Int64\n",
              "emlak_tipi                    string\n",
              "bina_yaşı                     string\n",
              "bulunduğu_kat                 string\n",
              "kat_sayısı                    string\n",
              "ısıtma_tipi                   string\n",
              "banyo_sayısı                  string\n",
              "otopark                        int32\n",
              "interkom                       int64\n",
              "deprem_yönetmeliğine_uygun     int64\n",
              "asansör                        int64\n",
              "çocuk_oyun_alanı               int64\n",
              "giyinme_odası                  int64\n",
              "ebeveyn_banyosu                int64\n",
              "Ilan_ID                        Int64\n",
              "yıl                            int64\n",
              "ay                             int64\n",
              "manzara_boğaz                  int64\n",
              "manzara_cadde                  int64\n",
              "manzara_dağ                    int64\n",
              "manzara_deniz                  int64\n",
              "manzara_doğa                   int64\n",
              "manzara_göl                    int64\n",
              "manzara_havuz                  int64\n",
              "manzara_nehir                  int64\n",
              "manzara_park                   int64\n",
              "manzara_şehir                  int64\n",
              "manzara_vadi                   int64\n",
              "manzara_yeşilalan              int64\n",
              "manzara_bilinmiyor             int64\n",
              "dtype: object"
            ]
          },
          "metadata": {},
          "execution_count": 38
        }
      ]
    },
    {
      "cell_type": "code",
      "metadata": {
        "id": "9ewXYWV178Oe"
      },
      "source": [
        "noissy_columns = ['brüt_m2', 'net_m2', 'fiyat']"
      ],
      "execution_count": null,
      "outputs": []
    },
    {
      "cell_type": "code",
      "metadata": {
        "colab": {
          "base_uri": "https://localhost:8080/",
          "height": 1000
        },
        "id": "m5cfNMXs78K_",
        "outputId": "b4841cce-55ef-4576-f1b6-7a14cd5afe35"
      },
      "source": [
        "for dframe in list_df:\n",
        "  fig, ax =plt.subplots(1,3,figsize=(18,5))\n",
        "  plt.title(dframe.name)\n",
        "  for ind, col in enumerate(noissy_columns):\n",
        "    sns.boxplot(data = dframe, x = col, ax =ax[ind])\n",
        "  \n",
        "plt.show()"
      ],
      "execution_count": null,
      "outputs": [
        {
          "output_type": "display_data",
          "data": {
            "image/png": "[encoded data removed]",
            "text/plain": [
              "<Figure size 1296x360 with 3 Axes>"
            ]
          },
          "metadata": {
            "needs_background": "light"
          }
        },
        {
          "output_type": "display_data",
          "data": {
            "image/png": "[encoded data removed]",
            "text/plain": [
              "<Figure size 1296x360 with 3 Axes>"
            ]
          },
          "metadata": {
            "needs_background": "light"
          }
        },
        {
          "output_type": "display_data",
          "data": {
            "image/png": "[encoded data removed]",
            "text/plain": [
              "<Figure size 1296x360 with 3 Axes>"
            ]
          },
          "metadata": {
            "needs_background": "light"
          }
        },
        {
          "output_type": "display_data",
          "data": {
            "image/png": "[encoded data removed]",
            "text/plain": [
              "<Figure size 1296x360 with 3 Axes>"
            ]
          },
          "metadata": {
            "needs_background": "light"
          }
        },
        {
          "output_type": "display_data",
          "data": {
            "image/png": "[encoded data removed]",
            "text/plain": [
              "<Figure size 1296x360 with 3 Axes>"
            ]
          },
          "metadata": {
            "needs_background": "light"
          }
        },
        {
          "output_type": "display_data",
          "data": {
            "image/png": "[encoded data removed]",
            "text/plain": [
              "<Figure size 1296x360 with 3 Axes>"
            ]
          },
          "metadata": {
            "needs_background": "light"
          }
        },
        {
          "output_type": "display_data",
          "data": {
            "image/png": "[encoded data removed]",
            "text/plain": [
              "<Figure size 1296x360 with 3 Axes>"
            ]
          },
          "metadata": {
            "needs_background": "light"
          }
        },
        {
          "output_type": "display_data",
          "data": {
            "image/png": "[encoded data removed]",
            "text/plain": [
              "<Figure size 1296x360 with 3 Axes>"
            ]
          },
          "metadata": {
            "needs_background": "light"
          }
        },
        {
          "output_type": "display_data",
          "data": {
            "image/png": "[encoded data removed]",
            "text/plain": [
              "<Figure size 1296x360 with 3 Axes>"
            ]
          },
          "metadata": {
            "needs_background": "light"
          }
        }
      ]
    },
    {
      "cell_type": "code",
      "metadata": {
        "id": "K0HrV6jL78HT"
      },
      "source": [
        "# from scipy.stats.mstats import winsorize"
      ],
      "execution_count": null,
      "outputs": []
    },
    {
      "cell_type": "code",
      "metadata": {
        "id": "MnBjqVU478D6"
      },
      "source": [
        "# for dframe in list_df:\n",
        "#   for ind, col in enumerate(noissy_columns):\n",
        "#     print('{}:{}, {} columns quantiles;'.format(ind, dframe.name, col) )\n",
        "#     for i in range(1,6):\n",
        "#       print('Q {} : {}, Quantile {} : {}'.format((i * 0.05), dframe[col].quantile((i * 0.05)), (1- (i * 0.05)), dframe[col].quantile(1 - (i * 0.05))),)\n",
        "#     print()\n"
      ],
      "execution_count": null,
      "outputs": []
    },
    {
      "cell_type": "code",
      "metadata": {
        "id": "aIg-qDXT78AH"
      },
      "source": [
        "def upper_lower_lim(column):\n",
        "  \"\"\"Claculates upper and lower limits for 1.5 IQR \"\"\"\n",
        "  Q1 = column.quantile(0.25)\n",
        "  Q3 = column.quantile(0.75)\n",
        "  IQR = Q3 - Q1\n",
        "  lower_lim = Q1 - 1.5 * IQR\n",
        "  upper_lim = Q3 + 1.5 * IQR\n",
        "  return lower_lim, upper_lim\n",
        "\n",
        "def soften_outliers(column):\n",
        "  '''It pulls data other than 1.5 IQR to 1.5 iqr.'''\n",
        "  low, up = upper_lower_lim(column)\n",
        "  def check_location(num, low, up):\n",
        "    if num < low:\n",
        "      return low\n",
        "    elif num > up:\n",
        "      return up\n",
        "    else:\n",
        "      return num\n",
        "  return column.apply(check_location, low=low, up=up)"
      ],
      "execution_count": null,
      "outputs": []
    },
    {
      "cell_type": "code",
      "metadata": {
        "id": "Q924LTQHhw4j"
      },
      "source": [
        "for df_ in list_df:\n",
        "  for col in noissy_columns:\n",
        "    df_[col] = soften_outliers(df_[col])\n"
      ],
      "execution_count": null,
      "outputs": []
    },
    {
      "cell_type": "code",
      "metadata": {
        "colab": {
          "base_uri": "https://localhost:8080/",
          "height": 1000
        },
        "id": "36EJiolB77kU",
        "outputId": "116d40d9-7d8f-4bf3-ac99-a2868b6238de"
      },
      "source": [
        "for dframe in list_df:\n",
        "  fig, ax =plt.subplots(1,3,figsize=(18,5))\n",
        "  plt.title(dframe.name)\n",
        "  for ind, col in enumerate(noissy_columns):\n",
        "    sns.boxplot(data = dframe, x = col, ax =ax[ind])\n",
        "  \n",
        "plt.show()"
      ],
      "execution_count": null,
      "outputs": [
        {
          "output_type": "display_data",
          "data": {
            "image/png": "[encoded data removed]",
            "text/plain": [
              "<Figure size 1296x360 with 3 Axes>"
            ]
          },
          "metadata": {
            "needs_background": "light"
          }
        },
        {
          "output_type": "display_data",
          "data": {
            "image/png": "[encoded data removed]",
            "text/plain": [
              "<Figure size 1296x360 with 3 Axes>"
            ]
          },
          "metadata": {
            "needs_background": "light"
          }
        },
        {
          "output_type": "display_data",
          "data": {
            "image/png": "[encoded data removed]",
            "text/plain": [
              "<Figure size 1296x360 with 3 Axes>"
            ]
          },
          "metadata": {
            "needs_background": "light"
          }
        },
        {
          "output_type": "display_data",
          "data": {
            "image/png": "[encoded data removed]",
            "text/plain": [
              "<Figure size 1296x360 with 3 Axes>"
            ]
          },
          "metadata": {
            "needs_background": "light"
          }
        },
        {
          "output_type": "display_data",
          "data": {
            "image/png": "[encoded data removed]",
            "text/plain": [
              "<Figure size 1296x360 with 3 Axes>"
            ]
          },
          "metadata": {
            "needs_background": "light"
          }
        },
        {
          "output_type": "display_data",
          "data": {
            "image/png": "[encoded data removed]",
            "text/plain": [
              "<Figure size 1296x360 with 3 Axes>"
            ]
          },
          "metadata": {
            "needs_background": "light"
          }
        },
        {
          "output_type": "display_data",
          "data": {
            "image/png": "[encoded data removed]",
            "text/plain": [
              "<Figure size 1296x360 with 3 Axes>"
            ]
          },
          "metadata": {
            "needs_background": "light"
          }
        },
        {
          "output_type": "display_data",
          "data": {
            "image/png": "[encoded data removed]",
            "text/plain": [
              "<Figure size 1296x360 with 3 Axes>"
            ]
          },
          "metadata": {
            "needs_background": "light"
          }
        },
        {
          "output_type": "display_data",
          "data": {
            "image/png": "[encoded data removed]",
            "text/plain": [
              "<Figure size 1296x360 with 3 Axes>"
            ]
          },
          "metadata": {
            "needs_background": "light"
          }
        }
      ]
    },
    {
      "cell_type": "code",
      "metadata": {
        "id": "j77sVvPxtkoR"
      },
      "source": [
        "df = pd.concat(list_df)"
      ],
      "execution_count": null,
      "outputs": []
    },
    {
      "cell_type": "code",
      "metadata": {
        "colab": {
          "base_uri": "https://localhost:8080/"
        },
        "id": "9M-hRvUEtkYd",
        "outputId": "f8077907-a189-44ae-fb66-02d260d0083b"
      },
      "source": [
        "type(list_df)"
      ],
      "execution_count": null,
      "outputs": [
        {
          "output_type": "execute_result",
          "data": {
            "text/plain": [
              "list"
            ]
          },
          "metadata": {},
          "execution_count": 90
        }
      ]
    },
    {
      "cell_type": "code",
      "metadata": {
        "id": "-Hyw8vvbWr89",
        "colab": {
          "base_uri": "https://localhost:8080/"
        },
        "outputId": "8f307678-3053-48d7-f6f0-628d5a93bf08"
      },
      "source": [
        "len(df)"
      ],
      "execution_count": null,
      "outputs": [
        {
          "output_type": "execute_result",
          "data": {
            "text/plain": [
              "64537"
            ]
          },
          "metadata": {},
          "execution_count": 42
        }
      ]
    },
    {
      "cell_type": "code",
      "metadata": {
        "colab": {
          "base_uri": "https://localhost:8080/"
        },
        "id": "SiD7Q1nWzm7H",
        "outputId": "318ba0ca-4cdb-4bec-e2e6-b17f0e6a8548"
      },
      "source": [
        "df.columns"
      ],
      "execution_count": null,
      "outputs": [
        {
          "output_type": "execute_result",
          "data": {
            "text/plain": [
              "Index(['adres', 'fiyat', 'oda_sayısı', 'brüt_m2', 'net_m2', 'emlak_tipi',\n",
              "       'bina_yaşı', 'bulunduğu_kat', 'kat_sayısı', 'ısıtma_tipi',\n",
              "       'banyo_sayısı', 'otopark', 'interkom', 'deprem_yönetmeliğine_uygun',\n",
              "       'asansör', 'çocuk_oyun_alanı', 'giyinme_odası', 'ebeveyn_banyosu',\n",
              "       'yıl', 'ay', 'manzara_boğaz', 'manzara_cadde', 'manzara_dağ',\n",
              "       'manzara_deniz', 'manzara_doğa', 'manzara_göl', 'manzara_havuz',\n",
              "       'manzara_nehir', 'manzara_park', 'manzara_şehir', 'manzara_vadi',\n",
              "       'manzara_yeşilalan', 'manzara_bilinmiyor'],\n",
              "      dtype='object')"
            ]
          },
          "metadata": {},
          "execution_count": 43
        }
      ]
    },
    {
      "cell_type": "code",
      "metadata": {
        "colab": {
          "base_uri": "https://localhost:8080/"
        },
        "id": "0er6VfaLzrvE",
        "outputId": "4a86bd30-f8c3-43f3-aca3-a442c906d42b"
      },
      "source": [
        "df.adres.value_counts()"
      ],
      "execution_count": null,
      "outputs": [
        {
          "output_type": "execute_result",
          "data": {
            "text/plain": [
              "İstanbul/Beylikdüzü/Cumhuriyet           5715\n",
              "İstanbul/Beylikdüzü/Yakuplu              2220\n",
              "İstanbul/Kadıköy/Suadiye                 1879\n",
              "İstanbul/Beylikdüzü/Adnan Kahveci        1828\n",
              "İstanbul/Beylikdüzü/Beylikdüzü OSB       1497\n",
              "                                         ... \n",
              "İzmir/Menemen/Maltepe Serbest Bölgesi       1\n",
              "İzmir/Buca/29 Ekim                          1\n",
              "İzmir/Menemen/Hasanlar                      1\n",
              "İzmir/Seferihisar/Gödence                   1\n",
              "İzmir/Tire/Yenioba                          1\n",
              "Name: adres, Length: 828, dtype: Int64"
            ]
          },
          "metadata": {},
          "execution_count": 44
        }
      ]
    },
    {
      "cell_type": "code",
      "metadata": {
        "id": "ME_YxaFD0Aqn"
      },
      "source": [
        "df = df.groupby('adres').filter(lambda x : len(x)>=20)"
      ],
      "execution_count": null,
      "outputs": []
    },
    {
      "cell_type": "code",
      "metadata": {
        "id": "rXWbVlS50Ac6"
      },
      "source": [
        ""
      ],
      "execution_count": null,
      "outputs": []
    },
    {
      "cell_type": "markdown",
      "metadata": {
        "id": "AmZ7yRQ8c3TF"
      },
      "source": [
        "#### net_m2"
      ]
    },
    {
      "cell_type": "code",
      "metadata": {
        "id": "67OaRngTbdqv"
      },
      "source": [
        ""
      ],
      "execution_count": null,
      "outputs": []
    },
    {
      "cell_type": "markdown",
      "metadata": {
        "id": "jJPV0Muvc3TI"
      },
      "source": [
        "#### Fiyat"
      ]
    },
    {
      "cell_type": "code",
      "metadata": {
        "id": "XLd5NfSzc3TK",
        "colab": {
          "base_uri": "https://localhost:8080/"
        },
        "outputId": "70e6774e-775b-48a6-876a-6fa9881835f7"
      },
      "source": [
        "df.shape"
      ],
      "execution_count": null,
      "outputs": [
        {
          "output_type": "execute_result",
          "data": {
            "text/plain": [
              "(62518, 33)"
            ]
          },
          "metadata": {},
          "execution_count": 50
        }
      ]
    },
    {
      "cell_type": "code",
      "metadata": {
        "id": "ruY8kNYLc3TL",
        "colab": {
          "base_uri": "https://localhost:8080/",
          "height": 382
        },
        "outputId": "59876420-c46f-4637-e322-93e7987e08a4"
      },
      "source": [
        "plt.figure(figsize=(10,4),dpi=100)\n",
        "sns.boxplot(x=\"fiyat\",y=\"emlak_tipi\", data=df);"
      ],
      "execution_count": null,
      "outputs": [
        {
          "output_type": "display_data",
          "data": {
            "image/png": "[encoded data removed]",
            "text/plain": [
              "<Figure size 1000x400 with 1 Axes>"
            ]
          },
          "metadata": {
            "needs_background": "light"
          }
        }
      ]
    },
    {
      "cell_type": "code",
      "metadata": {
        "id": "1J9VimTrc3TM",
        "colab": {
          "base_uri": "https://localhost:8080/"
        },
        "outputId": "b3d7af56-0a55-4f8d-fa7f-0e039d4edc42"
      },
      "source": [
        "df.info()"
      ],
      "execution_count": null,
      "outputs": [
        {
          "output_type": "stream",
          "name": "stdout",
          "text": [
            "<class 'pandas.core.frame.DataFrame'>\n",
            "Int64Index: 64415 entries, 0 to 64572\n",
            "Data columns (total 32 columns):\n",
            " #   Column                      Non-Null Count  Dtype \n",
            "---  ------                      --------------  ----- \n",
            " 0   adres                       64415 non-null  object\n",
            " 1   fiyat                       64415 non-null  int64 \n",
            " 2   oda_sayısı                  64415 non-null  int64 \n",
            " 3   brüt_m2                     64415 non-null  object\n",
            " 4   net_m2                      64415 non-null  object\n",
            " 5   emlak_tipi                  64415 non-null  string\n",
            " 6   bina_yaşı                   64415 non-null  string\n",
            " 7   bulunduğu_kat               64415 non-null  string\n",
            " 8   kat_sayısı                  64415 non-null  string\n",
            " 9   ısıtma_tipi                 64415 non-null  string\n",
            " 10  banyo_sayısı                64415 non-null  string\n",
            " 11  otopark                     64415 non-null  int64 \n",
            " 12  interkom                    64415 non-null  int64 \n",
            " 13  deprem_yönetmeliğine_uygun  64415 non-null  int64 \n",
            " 14  asansör                     64415 non-null  int64 \n",
            " 15  çocuk_oyun_alanı            64415 non-null  int64 \n",
            " 16  giyinme_odası               64415 non-null  int64 \n",
            " 17  ebeveyn_banyosu             64415 non-null  int64 \n",
            " 18  ay                          64415 non-null  int64 \n",
            " 19  manzara_boğaz               64415 non-null  int64 \n",
            " 20  manzara_cadde               64415 non-null  int64 \n",
            " 21  manzara_dağ                 64415 non-null  int64 \n",
            " 22  manzara_deniz               64415 non-null  int64 \n",
            " 23  manzara_doğa                64415 non-null  int64 \n",
            " 24  manzara_göl                 64415 non-null  int64 \n",
            " 25  manzara_havuz               64415 non-null  int64 \n",
            " 26  manzara_nehir               64415 non-null  int64 \n",
            " 27  manzara_park                64415 non-null  int64 \n",
            " 28  manzara_şehir               64415 non-null  int64 \n",
            " 29  manzara_vadi                64415 non-null  int64 \n",
            " 30  manzara_yeşilalan           64415 non-null  int64 \n",
            " 31  manzara_bilinmiyor          64415 non-null  int64 \n",
            "dtypes: int64(23), object(3), string(6)\n",
            "memory usage: 18.7+ MB\n"
          ]
        }
      ]
    },
    {
      "cell_type": "code",
      "metadata": {
        "scrolled": true,
        "id": "p1G7NrPtc3TN",
        "colab": {
          "base_uri": "https://localhost:8080/",
          "height": 519
        },
        "outputId": "843a9b8f-b160-4cc8-a9dd-4a20dcbde82e"
      },
      "source": [
        "plt.figure(figsize=(8,6))\n",
        "sns.heatmap(df.corr());"
      ],
      "execution_count": null,
      "outputs": [
        {
          "output_type": "display_data",
          "data": {
            "image/png": "[encoded data removed]",
            "text/plain": [
              "<Figure size 576x432 with 2 Axes>"
            ]
          },
          "metadata": {
            "needs_background": "light"
          }
        }
      ]
    },
    {
      "cell_type": "code",
      "metadata": {
        "scrolled": true,
        "id": "sRxdjI5kc3TO",
        "colab": {
          "base_uri": "https://localhost:8080/",
          "height": 307
        },
        "outputId": "261bcac3-a31e-41ad-90d8-0de4cc473c8a"
      },
      "source": [
        "sns.distplot(df.fiyat)"
      ],
      "execution_count": null,
      "outputs": [
        {
          "output_type": "execute_result",
          "data": {
            "text/plain": [
              "<matplotlib.axes._subplots.AxesSubplot at 0x7fb23dc32810>"
            ]
          },
          "metadata": {},
          "execution_count": 53
        },
        {
          "output_type": "display_data",
          "data": {
            "image/png": "[encoded data removed]",
            "text/plain": [
              "<Figure size 432x288 with 1 Axes>"
            ]
          },
          "metadata": {
            "needs_background": "light"
          }
        }
      ]
    },
    {
      "cell_type": "code",
      "metadata": {
        "id": "PWSg6luGc3TO",
        "colab": {
          "base_uri": "https://localhost:8080/",
          "height": 636
        },
        "outputId": "adcc1376-0691-48f7-b1f6-97e6bc75fe6d"
      },
      "source": [
        "corr_by_price = df.corr()[\"fiyat\"].sort_values()[:-1]\n",
        "\n",
        "plt.figure(figsize=(20, 10))\n",
        "sns.barplot(x=corr_by_price.index, y=corr_by_price)\n",
        "plt.xticks(rotation=90)\n",
        "plt.tight_layout()"
      ],
      "execution_count": null,
      "outputs": [
        {
          "output_type": "display_data",
          "data": {
            "image/png": "[encoded data removed]",
            "text/plain": [
              "<Figure size 1440x720 with 1 Axes>"
            ]
          },
          "metadata": {
            "needs_background": "light"
          }
        }
      ]
    },
    {
      "cell_type": "code",
      "metadata": {
        "colab": {
          "base_uri": "https://localhost:8080/"
        },
        "id": "g754EdmJsAWq",
        "outputId": "5927eaf3-19fb-453e-bf5a-b773d58af448"
      },
      "source": [
        "for col in df.select_dtypes(exclude=['number']):\n",
        "    print(col + ' :')\n",
        "    print(df[col].value_counts())\n",
        "    print('-------------------------------')"
      ],
      "execution_count": null,
      "outputs": [
        {
          "output_type": "stream",
          "name": "stdout",
          "text": [
            "adres :\n",
            "İstanbul/Beylikdüzü/Cumhuriyet        5715\n",
            "İstanbul/Beylikdüzü/Yakuplu           2220\n",
            "İstanbul/Kadıköy/Suadiye              1879\n",
            "İstanbul/Beylikdüzü/Adnan Kahveci     1828\n",
            "İstanbul/Beylikdüzü/Beylikdüzü OSB    1497\n",
            "                                      ... \n",
            "İzmir/Bergama/Bahçelievler              20\n",
            "İzmir/Bornova/Yakaköy                   20\n",
            "İzmir/Narlıdere/Sahilevleri             20\n",
            "İstanbul/Beşiktaş/Kültür                20\n",
            "İzmir/Çiğli/Uğur Mumcu                  20\n",
            "Name: adres, Length: 420, dtype: Int64\n",
            "-------------------------------\n",
            "emlak_tipi :\n",
            "Daire                  55185\n",
            "Villa                   4073\n",
            "Rezidans                1091\n",
            "Yazlık                   996\n",
            "Müstakil Ev              907\n",
            "Prefabrik Ev             140\n",
            "Yalı Dairesi              70\n",
            "Köşk / Konak / Yalı       33\n",
            "Çiftlik Evi               23\n",
            "Name: emlak_tipi, dtype: Int64\n",
            "-------------------------------\n",
            "bina_yaşı :\n",
            "0              27599\n",
            "6-10 arası      5522\n",
            "16-20 arası     3610\n",
            "1               3470\n",
            "21-25 arası     3113\n",
            "11-15 arası     3025\n",
            "26-30 arası     3008\n",
            "2               2729\n",
            "4               2534\n",
            "3               2343\n",
            "-               2200\n",
            "31-35 arası     1640\n",
            "5               1266\n",
            "36-40 arası      275\n",
            "40 ve üzeri      184\n",
            "Name: bina_yaşı, dtype: Int64\n",
            "-------------------------------\n",
            "bulunduğu_kat :\n",
            "2               10342\n",
            "3                8423\n",
            "1                5928\n",
            "4                5776\n",
            "-                3969\n",
            "5                3753\n",
            "Bahçe katı       3409\n",
            "Müstakil         3369\n",
            "Yüksek Giriş     3270\n",
            "6                2022\n",
            "7                1717\n",
            "Giriş Katı       1687\n",
            "8                1373\n",
            "9                1124\n",
            "10                877\n",
            "Komple            664\n",
            "11                652\n",
            "Kot 1             585\n",
            "Zemin Kat         540\n",
            "Kot 2             466\n",
            "12                424\n",
            "Çatı Katı         344\n",
            "13                336\n",
            "Kot 3             269\n",
            "14                266\n",
            "20 ve üzeri       211\n",
            "Kot 4             170\n",
            "15                131\n",
            "En Üst Kat         94\n",
            "16                 87\n",
            "17                 83\n",
            "18                 47\n",
            "Teras Kat          47\n",
            "Bodrum Kat         40\n",
            "19                 23\n",
            "Name: bulunduğu_kat, dtype: Int64\n",
            "-------------------------------\n",
            "kat_sayısı :\n",
            "5              13195\n",
            "4              12687\n",
            "3               7593\n",
            "10-20 arası     5365\n",
            "6               4921\n",
            "2               3372\n",
            "7               3267\n",
            "8               2902\n",
            "-               2739\n",
            "9               2724\n",
            "10              2246\n",
            "20 ve üzeri     1063\n",
            "1                444\n",
            "Name: kat_sayısı, dtype: Int64\n",
            "-------------------------------\n",
            "ısıtma_tipi :\n",
            "Kombi (Doğalgaz)                   35528\n",
            "Klima                               9949\n",
            "Merkezi Sistem (Isı Payı Ölçer)     5031\n",
            "-                                   2465\n",
            "Merkezi Sistem                      2438\n",
            "Kalorifer (Doğalgaz)                1510\n",
            "Yok                                 1408\n",
            "Yerden Isıtma                       1203\n",
            "Kat Kaloriferi                       770\n",
            "Jeotermal                            623\n",
            "Soba (Kömür)                         578\n",
            "Kombi (Elektrikli)                   379\n",
            "Fancoil                              253\n",
            "Soba (Doğalgaz)                      231\n",
            "Kalorifer (Kömür)                     73\n",
            "Güneş Enerjisi                        47\n",
            "Kalorifer (Akaryakıt)                 32\n",
            "Name: ısıtma_tipi, dtype: Int64\n",
            "-------------------------------\n",
            "banyo_sayısı :\n",
            "1             34239\n",
            "2             22524\n",
            "3              3790\n",
            "4              1048\n",
            "5               320\n",
            "0               307\n",
            "6 ve üzeri      178\n",
            "-               112\n",
            "Name: banyo_sayısı, dtype: Int64\n",
            "-------------------------------\n"
          ]
        }
      ]
    },
    {
      "cell_type": "code",
      "metadata": {
        "colab": {
          "base_uri": "https://localhost:8080/"
        },
        "id": "0PFUQmV46iZH",
        "outputId": "51f93c97-327c-4981-f7e8-7991b0440b1d"
      },
      "source": [
        "df.columns"
      ],
      "execution_count": null,
      "outputs": [
        {
          "output_type": "execute_result",
          "data": {
            "text/plain": [
              "Index(['adres', 'fiyat', 'oda_sayısı', 'brüt_m2', 'net_m2', 'emlak_tipi',\n",
              "       'bina_yaşı', 'bulunduğu_kat', 'kat_sayısı', 'ısıtma_tipi',\n",
              "       'banyo_sayısı', 'otopark', 'interkom', 'deprem_yönetmeliğine_uygun',\n",
              "       'asansör', 'çocuk_oyun_alanı', 'giyinme_odası', 'ebeveyn_banyosu',\n",
              "       'yıl', 'ay', 'manzara_boğaz', 'manzara_cadde', 'manzara_dağ',\n",
              "       'manzara_deniz', 'manzara_doğa', 'manzara_göl', 'manzara_havuz',\n",
              "       'manzara_nehir', 'manzara_park', 'manzara_şehir', 'manzara_vadi',\n",
              "       'manzara_yeşilalan', 'manzara_bilinmiyor'],\n",
              "      dtype='object')"
            ]
          },
          "metadata": {},
          "execution_count": 57
        }
      ]
    },
    {
      "cell_type": "code",
      "metadata": {
        "colab": {
          "base_uri": "https://localhost:8080/"
        },
        "id": "fJKhvPx76vlz",
        "outputId": "7cfb9282-9f63-40c3-d303-bcb0fdacefec"
      },
      "source": [
        "df.info()"
      ],
      "execution_count": null,
      "outputs": [
        {
          "output_type": "stream",
          "name": "stdout",
          "text": [
            "<class 'pandas.core.frame.DataFrame'>\n",
            "Int64Index: 62518 entries, 0 to 63784\n",
            "Data columns (total 33 columns):\n",
            " #   Column                      Non-Null Count  Dtype  \n",
            "---  ------                      --------------  -----  \n",
            " 0   adres                       62518 non-null  string \n",
            " 1   fiyat                       62518 non-null  float64\n",
            " 2   oda_sayısı                  62518 non-null  int64  \n",
            " 3   brüt_m2                     62518 non-null  float64\n",
            " 4   net_m2                      62518 non-null  float64\n",
            " 5   emlak_tipi                  62518 non-null  string \n",
            " 6   bina_yaşı                   62518 non-null  string \n",
            " 7   bulunduğu_kat               62518 non-null  string \n",
            " 8   kat_sayısı                  62518 non-null  string \n",
            " 9   ısıtma_tipi                 62518 non-null  string \n",
            " 10  banyo_sayısı                62518 non-null  string \n",
            " 11  otopark                     62518 non-null  int32  \n",
            " 12  interkom                    62518 non-null  int64  \n",
            " 13  deprem_yönetmeliğine_uygun  62518 non-null  int64  \n",
            " 14  asansör                     62518 non-null  int64  \n",
            " 15  çocuk_oyun_alanı            62518 non-null  int64  \n",
            " 16  giyinme_odası               62518 non-null  int64  \n",
            " 17  ebeveyn_banyosu             62518 non-null  int64  \n",
            " 18  yıl                         62518 non-null  int64  \n",
            " 19  ay                          62518 non-null  int64  \n",
            " 20  manzara_boğaz               62518 non-null  int64  \n",
            " 21  manzara_cadde               62518 non-null  int64  \n",
            " 22  manzara_dağ                 62518 non-null  int64  \n",
            " 23  manzara_deniz               62518 non-null  int64  \n",
            " 24  manzara_doğa                62518 non-null  int64  \n",
            " 25  manzara_göl                 62518 non-null  int64  \n",
            " 26  manzara_havuz               62518 non-null  int64  \n",
            " 27  manzara_nehir               62518 non-null  int64  \n",
            " 28  manzara_park                62518 non-null  int64  \n",
            " 29  manzara_şehir               62518 non-null  int64  \n",
            " 30  manzara_vadi                62518 non-null  int64  \n",
            " 31  manzara_yeşilalan           62518 non-null  int64  \n",
            " 32  manzara_bilinmiyor          62518 non-null  int64  \n",
            "dtypes: float64(3), int32(1), int64(22), string(7)\n",
            "memory usage: 18.5 MB\n"
          ]
        }
      ]
    },
    {
      "cell_type": "code",
      "metadata": {
        "id": "vhM_pqA0c3TO"
      },
      "source": [
        "df = pd.get_dummies(data=df, columns=[\"adres\", \n",
        "                                 \"emlak_tipi\", \n",
        "                                 \"bina_yaşı\", \n",
        "                                 \"bulunduğu_kat\", \n",
        "                                \"kat_sayısı\",\n",
        "                                \"ısıtma_tipi\",\n",
        "                                \"banyo_sayısı\"])"
      ],
      "execution_count": null,
      "outputs": []
    },
    {
      "cell_type": "code",
      "metadata": {
        "id": "MqDPDbPLr-7z"
      },
      "source": [
        ""
      ],
      "execution_count": null,
      "outputs": []
    },
    {
      "cell_type": "markdown",
      "metadata": {
        "id": "ai2RYpu0c3TP"
      },
      "source": [
        "## Data Pre-processing"
      ]
    },
    {
      "cell_type": "markdown",
      "metadata": {
        "id": "lSvJ1kfuc3TP"
      },
      "source": [
        "#### Train-Test Split"
      ]
    },
    {
      "cell_type": "code",
      "metadata": {
        "id": "jclrq5Lgc3TP"
      },
      "source": [
        "X = df.drop(\"fiyat\", axis=1)\n",
        "y = df[\"fiyat\"]"
      ],
      "execution_count": null,
      "outputs": []
    },
    {
      "cell_type": "code",
      "metadata": {
        "id": "YzbBsS4q02zZ"
      },
      "source": [
        "from sklearn.model_selection import train_test_split \n",
        "X_train, X_test, y_train, y_test = train_test_split(X, y, test_size=0.2, random_state=42)"
      ],
      "execution_count": null,
      "outputs": []
    },
    {
      "cell_type": "code",
      "metadata": {
        "id": "HfNs8dP6c3TQ"
      },
      "source": [
        "X_train_columns = X_train.columns"
      ],
      "execution_count": null,
      "outputs": []
    },
    {
      "cell_type": "code",
      "metadata": {
        "scrolled": true,
        "id": "tEKdEG2yc3TQ",
        "colab": {
          "base_uri": "https://localhost:8080/"
        },
        "outputId": "ac9a245c-c688-4222-d720-41192f19867a"
      },
      "source": [
        "X_train_columns"
      ],
      "execution_count": null,
      "outputs": [
        {
          "output_type": "execute_result",
          "data": {
            "text/plain": [
              "Index(['oda_sayısı', 'brüt_m2', 'net_m2', 'otopark', 'interkom',\n",
              "       'deprem_yönetmeliğine_uygun', 'asansör', 'çocuk_oyun_alanı',\n",
              "       'giyinme_odası', 'ebeveyn_banyosu',\n",
              "       ...\n",
              "       'ısıtma_tipi_Yerden Isıtma', 'ısıtma_tipi_Yok', 'banyo_sayısı_-',\n",
              "       'banyo_sayısı_0', 'banyo_sayısı_1', 'banyo_sayısı_2', 'banyo_sayısı_3',\n",
              "       'banyo_sayısı_4', 'banyo_sayısı_5', 'banyo_sayısı_6 ve üzeri'],\n",
              "      dtype='object', length=542)"
            ]
          },
          "metadata": {},
          "execution_count": 63
        }
      ]
    },
    {
      "cell_type": "markdown",
      "metadata": {
        "id": "GVpPxLkwc3TR"
      },
      "source": [
        "#### Scaler"
      ]
    },
    {
      "cell_type": "code",
      "metadata": {
        "id": "1C4v8hWyc3TR"
      },
      "source": [
        "from sklearn.preprocessing import RobustScaler, StandardScaler\n",
        "scaler = RobustScaler()\n",
        "scaler.fit(X_train)\n",
        "X_train_scaled = scaler.transform(X_train)\n",
        "X_test_scaled = scaler.transform(X_test)"
      ],
      "execution_count": null,
      "outputs": []
    },
    {
      "cell_type": "markdown",
      "metadata": {
        "id": "TaFRZYD5c3TS"
      },
      "source": [
        "#### Evaluation Metrics"
      ]
    },
    {
      "cell_type": "code",
      "metadata": {
        "id": "TlVg6jD6c3TS"
      },
      "source": [
        "from sklearn.metrics import mean_squared_error, mean_absolute_error, r2_score\n",
        "def eval_metrics(actual, pred):\n",
        "    rmse = np.sqrt(mean_squared_error(actual, pred))\n",
        "    mae = mean_absolute_error(actual, pred)\n",
        "    mse = mean_squared_error(actual, pred)\n",
        "    score = r2_score(actual, pred)\n",
        "    return print(\"r2_score:\", score, \"\\n\", \"mae:\", mae, \"\\n\", \"mse:\", mse, \"\\n\", \"rmse:\", rmse)"
      ],
      "execution_count": null,
      "outputs": []
    },
    {
      "cell_type": "markdown",
      "metadata": {
        "id": "EB-uVVvOc3TS"
      },
      "source": [
        "#### Linear Regression"
      ]
    },
    {
      "cell_type": "code",
      "metadata": {
        "id": "9rjkiDCPc3TT"
      },
      "source": [
        "# from sklearn.linear_model import LinearRegression\n",
        "# lm = LinearRegression(n_jobs=-1)\n",
        "# lm.fit(X_train, y_train)\n",
        "# y_pred = lm.predict(X_test)\n",
        "# eval_metrics(y_test, y_pred)"
      ],
      "execution_count": null,
      "outputs": []
    },
    {
      "cell_type": "markdown",
      "metadata": {
        "id": "kMidUJT6c3TT"
      },
      "source": [
        "#### Ridge Regression"
      ]
    },
    {
      "cell_type": "code",
      "metadata": {
        "id": "rkd6-H8Oc3TT"
      },
      "source": [
        "# from sklearn.linear_model import Ridge\n",
        "# ridge_model = Ridge()\n",
        "# ridge_model.fit(X_train, y_train)\n",
        "# y_pred = ridge_model.predict(X_test)\n",
        "# eval_metrics(y_test, y_pred)"
      ],
      "execution_count": null,
      "outputs": []
    },
    {
      "cell_type": "markdown",
      "metadata": {
        "id": "MnTc2c1Zc3TW"
      },
      "source": [
        "#### Lasso Regression"
      ]
    },
    {
      "cell_type": "code",
      "metadata": {
        "id": "2rus1BjRc3TX"
      },
      "source": [
        "# from sklearn.linear_model import Lasso, LassoCV\n",
        "# lasso_model = Lasso()\n",
        "# lasso_model.fit(X_train, y_train)\n",
        "# y_pred = lasso_model.predict(X_test)\n",
        "# eval_metrics(y_test, y_pred)"
      ],
      "execution_count": null,
      "outputs": []
    },
    {
      "cell_type": "code",
      "metadata": {
        "id": "traMFX6mc3TY"
      },
      "source": [
        "# alpha_space = np.linspace(1330, 1340, 100)\n",
        "# alpha_space"
      ],
      "execution_count": null,
      "outputs": []
    },
    {
      "cell_type": "code",
      "metadata": {
        "id": "4UL9YUj_c3TZ"
      },
      "source": [
        "# lasso_cv_model = LassoCV(alphas=alpha_space,  cv=10,\n",
        "#                          max_iter=100000, n_jobs=-1).fit(X_train, y_train)"
      ],
      "execution_count": null,
      "outputs": []
    },
    {
      "cell_type": "code",
      "metadata": {
        "id": "9NANERKKc3TZ"
      },
      "source": [
        "# lasso_cv_model.alpha_"
      ],
      "execution_count": null,
      "outputs": []
    },
    {
      "cell_type": "code",
      "metadata": {
        "id": "Fl-UJPE_c3Ta"
      },
      "source": [
        "# y_pred = lasso_cv_model.predict(X_test)"
      ],
      "execution_count": null,
      "outputs": []
    },
    {
      "cell_type": "code",
      "metadata": {
        "id": "B7XupnH9c3Ta"
      },
      "source": [
        "# eval_metrics(y_test, y_pred)"
      ],
      "execution_count": null,
      "outputs": []
    },
    {
      "cell_type": "markdown",
      "metadata": {
        "id": "4k5w7nLoc3Tb"
      },
      "source": [
        "#### RandomForest"
      ]
    },
    {
      "cell_type": "code",
      "metadata": {
        "scrolled": false,
        "id": "Jm7AqKS4c3Tc",
        "colab": {
          "base_uri": "https://localhost:8080/"
        },
        "outputId": "bfc5d003-9aa5-453e-ad47-9b03d1061658"
      },
      "source": [
        "from sklearn.ensemble import RandomForestRegressor\n",
        "rf_model = RandomForestRegressor(n_jobs=-1)\n",
        "rf_model.fit(X_train_scaled, y_train)\n",
        "y_pred = rf_model.predict(X_test_scaled)\n",
        "eval_metrics(y_test, y_pred)"
      ],
      "execution_count": null,
      "outputs": [
        {
          "output_type": "stream",
          "name": "stdout",
          "text": [
            "r2_score: 0.8717018223488194 \n",
            " mae: 122282.53910781242 \n",
            " mse: 118611458669.87468 \n",
            " rmse: 344400.1432489172\n"
          ]
        }
      ]
    },
    {
      "cell_type": "markdown",
      "metadata": {
        "id": "LimANTXFc3To"
      },
      "source": [
        "#### XGBoost"
      ]
    },
    {
      "cell_type": "code",
      "metadata": {
        "id": "RYuDnXsac3Tp",
        "colab": {
          "base_uri": "https://localhost:8080/"
        },
        "outputId": "7697600b-7dde-4714-cdc7-65f9d65b751a"
      },
      "source": [
        "from xgboost import XGBRegressor\n",
        "xgb_model = XGBRegressor(n_jobs=-1)\n",
        "xgb_model.fit(X_train_scaled, y_train)\n",
        "y_pred= xgb_model.predict(X_test_scaled)\n",
        "eval_metrics(y_test, y_pred)"
      ],
      "execution_count": null,
      "outputs": [
        {
          "output_type": "stream",
          "name": "stdout",
          "text": [
            "[15:53:51] WARNING: /workspace/src/objective/regression_obj.cu:152: reg:linear is now deprecated in favor of reg:squarederror.\n",
            "r2_score: 0.8372445011256386 \n",
            " mae: 192914.54331988763 \n",
            " mse: 150467196662.11502 \n",
            " rmse: 387901.0139998541\n"
          ]
        }
      ]
    },
    {
      "cell_type": "markdown",
      "metadata": {
        "id": "R0YQGrFJc3Tp"
      },
      "source": [
        "#### CatBoost"
      ]
    },
    {
      "cell_type": "code",
      "metadata": {
        "id": "7Nx8MDG2c3Tp",
        "colab": {
          "base_uri": "https://localhost:8080/"
        },
        "outputId": "1de5c65b-9a27-4a53-8e31-2f2f786df40b"
      },
      "source": [
        "#!pip3 install catboost\n",
        "from catboost import CatBoostRegressor\n",
        "cb_model = CatBoostRegressor(verbose=False)\n",
        "cb_model.fit(X_train_scaled, y_train)\n",
        "y_pred= cb_model.predict(X_test_scaled)\n",
        "eval_metrics(y_test, y_pred)"
      ],
      "execution_count": null,
      "outputs": [
        {
          "output_type": "stream",
          "name": "stdout",
          "text": [
            "r2_score: 0.9058952159799751 \n",
            " mae: 134098.32238719266 \n",
            " mse: 86999721311.52054 \n",
            " rmse: 294957.1516534572\n"
          ]
        }
      ]
    },
    {
      "cell_type": "code",
      "metadata": {
        "id": "THcWbfXiSuWd"
      },
      "source": [
        "import pickle\n",
        "with open('/content/gdrive/MyDrive/DATA/rfmodel4.pickle', 'wb') as handle:\n",
        "    pickle.dump(rf_model, handle, protocol=pickle.HIGHEST_PROTOCOL)\n",
        "with open('/content/gdrive/MyDrive/DATA/cbmodel4.pickle', 'wb') as handle:\n",
        "    pickle.dump(cb_model, handle, protocol=pickle.HIGHEST_PROTOCOL)"
      ],
      "execution_count": null,
      "outputs": []
    },
    {
      "cell_type": "markdown",
      "metadata": {
        "id": "gr5nPi50Rvr5"
      },
      "source": [
        "**Bütün Data**`"
      ]
    },
    {
      "cell_type": "code",
      "metadata": {
        "id": "Aom1ujTUc3Tc"
      },
      "source": [
        "X_scaled = scaler.transform(X)"
      ],
      "execution_count": null,
      "outputs": []
    },
    {
      "cell_type": "code",
      "metadata": {
        "id": "2uwDm2Y4c3Td"
      },
      "source": [
        "# rf2_model = RandomForestRegressor(n_jobs=-1)\n",
        "# rf2_model.fit(X_scaled, y)\n",
        "# cb2_model = CatBoostRegressor(verbose=False)\n",
        "# cb2_model.fit(X_scaled, y)\n",
        "\n"
      ],
      "execution_count": null,
      "outputs": []
    },
    {
      "cell_type": "code",
      "metadata": {
        "id": "V6eRuQvac3Te"
      },
      "source": [
        "y_pred = rf_model.predict(X_scaled)"
      ],
      "execution_count": null,
      "outputs": []
    },
    {
      "cell_type": "code",
      "metadata": {
        "scrolled": true,
        "id": "GLFHr7P2c3Te",
        "colab": {
          "base_uri": "https://localhost:8080/",
          "height": 359
        },
        "outputId": "0c5a66c7-4f46-4f75-d36c-c0cb34330bfa"
      },
      "source": [
        "my_dict = {\"Actual\" : y, \"Pred\" : y_pred.reshape(-1,)}\n",
        "compare = pd.DataFrame(my_dict)\n",
        "compare.sample(10)"
      ],
      "execution_count": null,
      "outputs": [
        {
          "output_type": "execute_result",
          "data": {
            "text/html": [
              "<div>\n",
              "<style scoped>\n",
              "    .dataframe tbody tr th:only-of-type {\n",
              "        vertical-align: middle;\n",
              "    }\n",
              "\n",
              "    .dataframe tbody tr th {\n",
              "        vertical-align: top;\n",
              "    }\n",
              "\n",
              "    .dataframe thead th {\n",
              "        text-align: right;\n",
              "    }\n",
              "</style>\n",
              "<table border=\"1\" class=\"dataframe\">\n",
              "  <thead>\n",
              "    <tr style=\"text-align: right;\">\n",
              "      <th></th>\n",
              "      <th>Actual</th>\n",
              "      <th>Pred</th>\n",
              "    </tr>\n",
              "  </thead>\n",
              "  <tbody>\n",
              "    <tr>\n",
              "      <th>30176</th>\n",
              "      <td>290000</td>\n",
              "      <td>315780.0000000000</td>\n",
              "    </tr>\n",
              "    <tr>\n",
              "      <th>56086</th>\n",
              "      <td>250000</td>\n",
              "      <td>255605.0000000000</td>\n",
              "    </tr>\n",
              "    <tr>\n",
              "      <th>15498</th>\n",
              "      <td>140000</td>\n",
              "      <td>143725.0000000000</td>\n",
              "    </tr>\n",
              "    <tr>\n",
              "      <th>44318</th>\n",
              "      <td>340000</td>\n",
              "      <td>352007.5000000000</td>\n",
              "    </tr>\n",
              "    <tr>\n",
              "      <th>38289</th>\n",
              "      <td>1950000</td>\n",
              "      <td>1724600.0000000000</td>\n",
              "    </tr>\n",
              "    <tr>\n",
              "      <th>63991</th>\n",
              "      <td>219000</td>\n",
              "      <td>204333.3333333333</td>\n",
              "    </tr>\n",
              "    <tr>\n",
              "      <th>58100</th>\n",
              "      <td>2100000</td>\n",
              "      <td>1541000.0000000000</td>\n",
              "    </tr>\n",
              "    <tr>\n",
              "      <th>37252</th>\n",
              "      <td>103000</td>\n",
              "      <td>107420.0000000000</td>\n",
              "    </tr>\n",
              "    <tr>\n",
              "      <th>55202</th>\n",
              "      <td>1450000</td>\n",
              "      <td>1419050.0000000000</td>\n",
              "    </tr>\n",
              "    <tr>\n",
              "      <th>44450</th>\n",
              "      <td>350000</td>\n",
              "      <td>381050.0000000000</td>\n",
              "    </tr>\n",
              "  </tbody>\n",
              "</table>\n",
              "</div>"
            ],
            "text/plain": [
              "        Actual               Pred\n",
              "30176   290000  315780.0000000000\n",
              "56086   250000  255605.0000000000\n",
              "15498   140000  143725.0000000000\n",
              "44318   340000  352007.5000000000\n",
              "38289  1950000 1724600.0000000000\n",
              "63991   219000  204333.3333333333\n",
              "58100  2100000 1541000.0000000000\n",
              "37252   103000  107420.0000000000\n",
              "55202  1450000 1419050.0000000000\n",
              "44450   350000  381050.0000000000"
            ]
          },
          "metadata": {},
          "execution_count": 96
        }
      ]
    },
    {
      "cell_type": "code",
      "metadata": {
        "id": "IRqljNfvc3Tf",
        "colab": {
          "base_uri": "https://localhost:8080/"
        },
        "outputId": "a5799956-62a4-4a36-ca78-9b0125bafc69"
      },
      "source": [
        "eval_metrics(y, y_pred)"
      ],
      "execution_count": null,
      "outputs": [
        {
          "output_type": "stream",
          "name": "stdout",
          "text": [
            "r2_score: 0.9773802768397849 \n",
            " mae: 96336.09612239392 \n",
            " mse: 226237368721.6406 \n",
            " rmse: 475644.1618706579\n"
          ]
        }
      ]
    },
    {
      "cell_type": "code",
      "metadata": {
        "id": "KzaEKfODc3Tg"
      },
      "source": [
        "compare[\"Diff\"] = compare.Actual - compare.Pred"
      ],
      "execution_count": null,
      "outputs": []
    },
    {
      "cell_type": "code",
      "metadata": {
        "id": "Gc4iVMB-c3Tg",
        "colab": {
          "base_uri": "https://localhost:8080/"
        },
        "outputId": "6e4434a5-df98-4f72-b4b8-e33b676d19df"
      },
      "source": [
        "compare.Pred.sort_values()"
      ],
      "execution_count": null,
      "outputs": [
        {
          "output_type": "execute_result",
          "data": {
            "text/plain": [
              "28130        6586.8750000000\n",
              "28128        6727.5000000000\n",
              "28140        6896.0000000000\n",
              "26244        7327.9166666667\n",
              "26179        7865.4166666667\n",
              "                ...         \n",
              "11887    99486000.0000000000\n",
              "56140   112759000.0000000000\n",
              "25810   144119500.0000000000\n",
              "60117   146808500.0000000000\n",
              "62339   169719000.0000000000\n",
              "Name: Pred, Length: 64415, dtype: float64"
            ]
          },
          "metadata": {},
          "execution_count": 99
        }
      ]
    },
    {
      "cell_type": "code",
      "metadata": {
        "id": "fTaKpptlc3Th",
        "colab": {
          "base_uri": "https://localhost:8080/"
        },
        "outputId": "3495a509-a182-415d-b01f-9008d3c5eeec"
      },
      "source": [
        "compare[\"Diff\"][compare.Diff < -5000000].sort_values()"
      ],
      "execution_count": null,
      "outputs": [
        {
          "output_type": "execute_result",
          "data": {
            "text/plain": [
              "60099   -18345000.0000000000\n",
              "11785   -17518000.0000000000\n",
              "63737   -17495000.0000000000\n",
              "43473   -17258000.0000000000\n",
              "25899   -14020100.0000000000\n",
              "8929    -12117500.0000000000\n",
              "5195    -12065000.0000000000\n",
              "53179   -10742750.0000000000\n",
              "42394   -10717500.0000000000\n",
              "51230   -10660550.0000000000\n",
              "45636    -9912000.0000000000\n",
              "5291     -9021000.0000000000\n",
              "7444     -8293500.0000000000\n",
              "41530    -8080500.0000000000\n",
              "60278    -7727450.0000000000\n",
              "25891    -7515000.0000000000\n",
              "62380    -7455000.0000000000\n",
              "62399    -7250000.0000000000\n",
              "60282    -7231000.0000000000\n",
              "64497    -7060960.0000000000\n",
              "43285    -6947500.0000000000\n",
              "62371    -6701950.0000000000\n",
              "60625    -6531000.0000000000\n",
              "14737    -6457900.0000000000\n",
              "62363    -6455000.0000000000\n",
              "39171    -6444200.0000000000\n",
              "41164    -6234500.0000000000\n",
              "26880    -5716300.0000000000\n",
              "8886     -5280000.0000000000\n",
              "8490     -5242000.0000000000\n",
              "5206     -5215000.0000000000\n",
              "1673     -5176000.0000000000\n",
              "Name: Diff, dtype: float64"
            ]
          },
          "metadata": {},
          "execution_count": 100
        }
      ]
    },
    {
      "cell_type": "code",
      "metadata": {
        "id": "ZkTrMNU2c3Ti"
      },
      "source": [
        "df.iloc[51097]"
      ],
      "execution_count": null,
      "outputs": []
    },
    {
      "cell_type": "code",
      "metadata": {
        "id": "lDMiyRcWc3Ti",
        "collapsed": true
      },
      "source": [
        "# df_test = pd.read_csv(\"Hazır_test_verisi.csv\")"
      ],
      "execution_count": null,
      "outputs": []
    },
    {
      "cell_type": "code",
      "metadata": {
        "id": "QahVNuatc3Ti"
      },
      "source": [
        "df_test.head()"
      ],
      "execution_count": null,
      "outputs": []
    },
    {
      "cell_type": "code",
      "metadata": {
        "id": "FR2uqueIc3Tj"
      },
      "source": [
        "df_test.info()"
      ],
      "execution_count": null,
      "outputs": []
    },
    {
      "cell_type": "code",
      "metadata": {
        "id": "rE0JwiBSc3Tj"
      },
      "source": [
        "df_test = pd.get_dummies(df_test).reindex(columns=X_train_columns, fill_value=0)"
      ],
      "execution_count": null,
      "outputs": []
    },
    {
      "cell_type": "code",
      "metadata": {
        "id": "gzS70fwuc3Tj"
      },
      "source": [
        "df_test = scaler.transform(df_test)"
      ],
      "execution_count": null,
      "outputs": []
    },
    {
      "cell_type": "code",
      "metadata": {
        "id": "Nd0XZHOFc3Tk"
      },
      "source": [
        "final_pred = rf_model.predict(df_test)"
      ],
      "execution_count": null,
      "outputs": []
    },
    {
      "cell_type": "code",
      "metadata": {
        "id": "Hyi0yegAc3Tl"
      },
      "source": [
        "final_pred.shape"
      ],
      "execution_count": null,
      "outputs": []
    },
    {
      "cell_type": "code",
      "metadata": {
        "id": "hBgiOijgc3Tl"
      },
      "source": [
        "submission = pd.read_csv(\"sample_submission_zingat.csv\")"
      ],
      "execution_count": null,
      "outputs": []
    },
    {
      "cell_type": "code",
      "metadata": {
        "id": "KkOIPXk2c3Tm"
      },
      "source": [
        "submission.head()"
      ],
      "execution_count": null,
      "outputs": []
    },
    {
      "cell_type": "code",
      "metadata": {
        "id": "u6QeIIUGc3Tm"
      },
      "source": [
        "submission[\"Expected\"] = final_pred"
      ],
      "execution_count": null,
      "outputs": []
    },
    {
      "cell_type": "code",
      "metadata": {
        "id": "eBQb6pMjc3Tn"
      },
      "source": [
        "submission.head()"
      ],
      "execution_count": null,
      "outputs": []
    },
    {
      "cell_type": "code",
      "metadata": {
        "id": "CcoX5YpWc3To"
      },
      "source": [
        "submission.to_csv(\"Submission_V1.csv\", index=False)"
      ],
      "execution_count": null,
      "outputs": []
    },
    {
      "cell_type": "code",
      "metadata": {
        "id": "dEKeHyaqc3To"
      },
      "source": [
        ""
      ],
      "execution_count": null,
      "outputs": []
    },
    {
      "cell_type": "code",
      "metadata": {
        "id": "lOGbkRerc3To"
      },
      "source": [
        ""
      ],
      "execution_count": null,
      "outputs": []
    },
    {
      "cell_type": "markdown",
      "metadata": {
        "id": "KXLz8qgmc3Tq"
      },
      "source": [
        "### Deep Learning"
      ]
    },
    {
      "cell_type": "code",
      "metadata": {
        "id": "pHWMHDqvc3Tq"
      },
      "source": [
        "from tensorflow.keras.models import Sequential\n",
        "from tensorflow.keras.layers import Dense, Activation\n",
        "from tensorflow.keras.optimizers import Adam"
      ],
      "execution_count": null,
      "outputs": []
    },
    {
      "cell_type": "code",
      "metadata": {
        "id": "pKDiPwWXc3Tq",
        "outputId": "8e4d2220-0ac5-4cef-9730-ac99f776a451"
      },
      "source": [
        "X_train.shape"
      ],
      "execution_count": null,
      "outputs": [
        {
          "data": {
            "text/plain": [
              "(51524, 147)"
            ]
          },
          "execution_count": 98,
          "metadata": {},
          "output_type": "execute_result"
        }
      ]
    },
    {
      "cell_type": "code",
      "metadata": {
        "id": "4Tlolitjc3Tr"
      },
      "source": [
        "model = Sequential()\n",
        "\n",
        "model.add(Dense(147, activation = 'relu'))\n",
        "model.add(Dense(147, activation = 'relu'))\n",
        "model.add(Dense(147, activation = 'relu'))\n",
        "model.add(Dense(1))\n",
        "\n",
        "model.compile(optimizer='adam', loss='mse')"
      ],
      "execution_count": null,
      "outputs": []
    },
    {
      "cell_type": "code",
      "metadata": {
        "id": "qYPlF_8Bc3Tr",
        "outputId": "224de204-1bfe-49b4-b39c-f79bdfa89500"
      },
      "source": [
        "model.fit(x=X_train, y=y_train, validation_data=(X_test, y_test), batch_size=128, epochs=700)"
      ],
      "execution_count": null,
      "outputs": [
        {
          "name": "stdout",
          "output_type": "stream",
          "text": [
            "Epoch 1/700\n",
            "403/403 [==============================] - 1s 1ms/step - loss: 2728935030784.0000 - val_loss: 1972254277632.0000\n",
            "Epoch 2/700\n",
            "403/403 [==============================] - 1s 2ms/step - loss: 2701968015360.0000 - val_loss: 1967219408896.0000\n",
            "Epoch 3/700\n",
            "403/403 [==============================] - 1s 1ms/step - loss: 2689108279296.0000 - val_loss: 1958917439488.0000\n",
            "Epoch 4/700\n",
            "403/403 [==============================] - 1s 1ms/step - loss: 2732740050944.0000 - val_loss: 1971005161472.0000\n",
            "Epoch 5/700\n",
            "403/403 [==============================] - 1s 2ms/step - loss: 2676526153728.0000 - val_loss: 1977255329792.0000\n",
            "Epoch 6/700\n",
            "403/403 [==============================] - 1s 1ms/step - loss: 2659079684096.0000 - val_loss: 1963391451136.0000\n",
            "Epoch 7/700\n",
            "403/403 [==============================] - 1s 2ms/step - loss: 2658960670720.0000 - val_loss: 1970730958848.0000\n",
            "Epoch 8/700\n",
            "403/403 [==============================] - 1s 2ms/step - loss: 2623312494592.0000 - val_loss: 1977121505280.0000\n",
            "Epoch 9/700\n",
            "403/403 [==============================] - 1s 2ms/step - loss: 2616242208768.0000 - val_loss: 1963531436032.0000\n",
            "Epoch 10/700\n",
            "403/403 [==============================] - 1s 2ms/step - loss: 2656407912448.0000 - val_loss: 1974264528896.0000\n",
            "Epoch 11/700\n",
            "403/403 [==============================] - 1s 1ms/step - loss: 2578327535616.0000 - val_loss: 1974179725312.0000\n",
            "Epoch 12/700\n",
            "403/403 [==============================] - 1s 2ms/step - loss: 2580158349312.0000 - val_loss: 1977479200768.0000\n",
            "Epoch 13/700\n",
            "403/403 [==============================] - 1s 2ms/step - loss: 2546876022784.0000 - val_loss: 1974724853760.0000\n",
            "Epoch 14/700\n",
            "403/403 [==============================] - 1s 1ms/step - loss: 2634231840768.0000 - val_loss: 1980137996288.0000\n",
            "Epoch 15/700\n",
            "403/403 [==============================] - 1s 1ms/step - loss: 2499516825600.0000 - val_loss: 2017581989888.0000\n",
            "Epoch 16/700\n",
            "403/403 [==============================] - 1s 1ms/step - loss: 2507765710848.0000 - val_loss: 1968669458432.0000\n",
            "Epoch 17/700\n",
            "403/403 [==============================] - 1s 1ms/step - loss: 2514164645888.0000 - val_loss: 1998263681024.0000\n",
            "Epoch 18/700\n",
            "403/403 [==============================] - 1s 1ms/step - loss: 2505244409856.0000 - val_loss: 1983717179392.0000\n",
            "Epoch 19/700\n",
            "403/403 [==============================] - 1s 1ms/step - loss: 2473651339264.0000 - val_loss: 2003732922368.0000\n",
            "Epoch 20/700\n",
            "403/403 [==============================] - 1s 1ms/step - loss: 2448154689536.0000 - val_loss: 2010538311680.0000\n",
            "Epoch 21/700\n",
            "403/403 [==============================] - 1s 1ms/step - loss: 2492052275200.0000 - val_loss: 1982265556992.0000\n",
            "Epoch 22/700\n",
            "403/403 [==============================] - 1s 1ms/step - loss: 2438612385792.0000 - val_loss: 1989046829056.0000\n",
            "Epoch 23/700\n",
            "403/403 [==============================] - 1s 1ms/step - loss: 2426529906688.0000 - val_loss: 2000678420480.0000\n",
            "Epoch 24/700\n",
            "403/403 [==============================] - 1s 1ms/step - loss: 2405411848192.0000 - val_loss: 1998414151680.0000\n",
            "Epoch 25/700\n",
            "403/403 [==============================] - 1s 1ms/step - loss: 2380929433600.0000 - val_loss: 2006248194048.0000\n",
            "Epoch 26/700\n",
            "403/403 [==============================] - 1s 1ms/step - loss: 2419264847872.0000 - val_loss: 2019054714880.0000\n",
            "Epoch 27/700\n",
            "403/403 [==============================] - 1s 1ms/step - loss: 2414474428416.0000 - val_loss: 1991282524160.0000\n",
            "Epoch 28/700\n",
            "403/403 [==============================] - 1s 1ms/step - loss: 2352580657152.0000 - val_loss: 2006048178176.0000\n",
            "Epoch 29/700\n",
            "403/403 [==============================] - 1s 1ms/step - loss: 2365905174528.0000 - val_loss: 2003824672768.0000\n",
            "Epoch 30/700\n",
            "403/403 [==============================] - 1s 1ms/step - loss: 2289427283968.0000 - val_loss: 2008972656640.0000\n",
            "Epoch 31/700\n",
            "403/403 [==============================] - 1s 2ms/step - loss: 2319201599488.0000 - val_loss: 2012294152192.0000\n",
            "Epoch 32/700\n",
            "403/403 [==============================] - 1s 2ms/step - loss: 2323524354048.0000 - val_loss: 2045202006016.0000\n",
            "Epoch 33/700\n",
            "403/403 [==============================] - 1s 1ms/step - loss: 2327164223488.0000 - val_loss: 2017441480704.0000\n",
            "Epoch 34/700\n",
            "403/403 [==============================] - 1s 1ms/step - loss: 2262582165504.0000 - val_loss: 1995405393920.0000\n",
            "Epoch 35/700\n",
            "403/403 [==============================] - 1s 1ms/step - loss: 2320918118400.0000 - val_loss: 2021880496128.0000\n",
            "Epoch 36/700\n",
            "403/403 [==============================] - 1s 1ms/step - loss: 2254264598528.0000 - val_loss: 2036508262400.0000\n",
            "Epoch 37/700\n",
            "403/403 [==============================] - 1s 2ms/step - loss: 2259914326016.0000 - val_loss: 2024989917184.0000\n",
            "Epoch 38/700\n",
            "403/403 [==============================] - 1s 2ms/step - loss: 2207373852672.0000 - val_loss: 2047866044416.0000\n",
            "Epoch 39/700\n",
            "403/403 [==============================] - 1s 2ms/step - loss: 2303958974464.0000 - val_loss: 2054892552192.0000\n",
            "Epoch 40/700\n",
            "403/403 [==============================] - 1s 2ms/step - loss: 2176490536960.0000 - val_loss: 2076796780544.0000\n",
            "Epoch 41/700\n",
            "403/403 [==============================] - 1s 2ms/step - loss: 2222801027072.0000 - val_loss: 2047126798336.0000\n",
            "Epoch 42/700\n",
            "403/403 [==============================] - 1s 2ms/step - loss: 2167514988544.0000 - val_loss: 2049850605568.0000\n",
            "Epoch 43/700\n",
            "403/403 [==============================] - 1s 2ms/step - loss: 2160233021440.0000 - val_loss: 2027496800256.0000\n",
            "Epoch 44/700\n",
            "403/403 [==============================] - 1s 1ms/step - loss: 2161419747328.0000 - val_loss: 2044761341952.0000\n",
            "Epoch 45/700\n",
            "403/403 [==============================] - 1s 2ms/step - loss: 2152177860608.0000 - val_loss: 2046185963520.0000\n",
            "Epoch 46/700\n",
            "403/403 [==============================] - 1s 2ms/step - loss: 2126764179456.0000 - val_loss: 2048076939264.0000\n",
            "Epoch 47/700\n",
            "403/403 [==============================] - 1s 2ms/step - loss: 2095452258304.0000 - val_loss: 2080140689408.0000\n",
            "Epoch 48/700\n",
            "403/403 [==============================] - 1s 2ms/step - loss: 2165300396032.0000 - val_loss: 2060883197952.0000\n",
            "Epoch 49/700\n",
            "403/403 [==============================] - 1s 2ms/step - loss: 2097987190784.0000 - val_loss: 2064548757504.0000\n",
            "Epoch 50/700\n",
            "403/403 [==============================] - 1s 2ms/step - loss: 2120248590336.0000 - val_loss: 2059200364544.0000\n",
            "Epoch 51/700\n",
            "403/403 [==============================] - 1s 2ms/step - loss: 2091120459776.0000 - val_loss: 2058812129280.0000\n",
            "Epoch 52/700\n",
            "403/403 [==============================] - 1s 2ms/step - loss: 2030756691968.0000 - val_loss: 2060397969408.0000\n",
            "Epoch 53/700\n",
            "403/403 [==============================] - 1s 2ms/step - loss: 2126883454976.0000 - val_loss: 2052018536448.0000\n",
            "Epoch 54/700\n",
            "403/403 [==============================] - 1s 2ms/step - loss: 2020887363584.0000 - val_loss: 2090865786880.0000\n",
            "Epoch 55/700\n",
            "403/403 [==============================] - 1s 1ms/step - loss: 2010288750592.0000 - val_loss: 2089563717632.0000\n",
            "Epoch 56/700\n",
            "403/403 [==============================] - 1s 1ms/step - loss: 2001730797568.0000 - val_loss: 2106668613632.0000\n",
            "Epoch 57/700\n",
            "403/403 [==============================] - 1s 2ms/step - loss: 1996235210752.0000 - val_loss: 2083622748160.0000\n",
            "Epoch 58/700\n",
            "403/403 [==============================] - 1s 2ms/step - loss: 2013902143488.0000 - val_loss: 2075071086592.0000\n",
            "Epoch 59/700\n",
            "403/403 [==============================] - 1s 2ms/step - loss: 1946074611712.0000 - val_loss: 2067010420736.0000\n",
            "Epoch 60/700\n",
            "403/403 [==============================] - 1s 1ms/step - loss: 1964001460224.0000 - val_loss: 2100828700672.0000\n",
            "Epoch 61/700\n",
            "403/403 [==============================] - 1s 2ms/step - loss: 1911071047680.0000 - val_loss: 2090044358656.0000\n",
            "Epoch 62/700\n",
            "403/403 [==============================] - 1s 2ms/step - loss: 1937093951488.0000 - val_loss: 2111028723712.0000\n",
            "Epoch 63/700\n",
            "403/403 [==============================] - 1s 2ms/step - loss: 1921571618816.0000 - val_loss: 2102343630848.0000\n",
            "Epoch 64/700\n",
            "403/403 [==============================] - 1s 1ms/step - loss: 1897954410496.0000 - val_loss: 2090112122880.0000\n",
            "Epoch 65/700\n",
            "403/403 [==============================] - 1s 1ms/step - loss: 1905977982976.0000 - val_loss: 2106598096896.0000\n",
            "Epoch 66/700\n"
          ]
        },
        {
          "name": "stdout",
          "output_type": "stream",
          "text": [
            "403/403 [==============================] - 1s 2ms/step - loss: 1899928223744.0000 - val_loss: 2125020659712.0000\n",
            "Epoch 67/700\n",
            "403/403 [==============================] - 1s 2ms/step - loss: 1900888981504.0000 - val_loss: 2106673725440.0000\n",
            "Epoch 68/700\n",
            "403/403 [==============================] - 1s 2ms/step - loss: 1890526167040.0000 - val_loss: 2126705328128.0000\n",
            "Epoch 69/700\n",
            "403/403 [==============================] - 1s 2ms/step - loss: 1836485836800.0000 - val_loss: 2129627709440.0000\n",
            "Epoch 70/700\n",
            "403/403 [==============================] - 1s 2ms/step - loss: 1834420011008.0000 - val_loss: 2169003966464.0000\n",
            "Epoch 71/700\n",
            "403/403 [==============================] - 1s 2ms/step - loss: 1796122083328.0000 - val_loss: 2184837332992.0000\n",
            "Epoch 72/700\n",
            "403/403 [==============================] - 1s 1ms/step - loss: 1842511609856.0000 - val_loss: 2172994322432.0000\n",
            "Epoch 73/700\n",
            "403/403 [==============================] - 1s 2ms/step - loss: 1813735407616.0000 - val_loss: 2135103242240.0000\n",
            "Epoch 74/700\n",
            "403/403 [==============================] - 1s 1ms/step - loss: 1865288515584.0000 - val_loss: 2158778908672.0000\n",
            "Epoch 75/700\n",
            "403/403 [==============================] - 1s 1ms/step - loss: 1785936871424.0000 - val_loss: 2206705123328.0000\n",
            "Epoch 76/700\n",
            "403/403 [==============================] - 1s 1ms/step - loss: 1765797527552.0000 - val_loss: 2157958922240.0000\n",
            "Epoch 77/700\n",
            "403/403 [==============================] - 1s 2ms/step - loss: 1796184080384.0000 - val_loss: 2122483892224.0000\n",
            "Epoch 78/700\n",
            "403/403 [==============================] - 1s 1ms/step - loss: 1735717289984.0000 - val_loss: 2223523233792.0000\n",
            "Epoch 79/700\n",
            "403/403 [==============================] - 1s 1ms/step - loss: 1805698465792.0000 - val_loss: 2172219817984.0000\n",
            "Epoch 80/700\n",
            "403/403 [==============================] - 1s 1ms/step - loss: 1778793185280.0000 - val_loss: 2199181066240.0000\n",
            "Epoch 81/700\n",
            "403/403 [==============================] - 1s 2ms/step - loss: 1724566077440.0000 - val_loss: 2160535797760.0000\n",
            "Epoch 82/700\n",
            "403/403 [==============================] - 1s 2ms/step - loss: 1691149402112.0000 - val_loss: 2170524794880.0000\n",
            "Epoch 83/700\n",
            "403/403 [==============================] - 1s 2ms/step - loss: 1675181424640.0000 - val_loss: 2181584912384.0000\n",
            "Epoch 84/700\n",
            "403/403 [==============================] - 1s 2ms/step - loss: 1789642145792.0000 - val_loss: 2154884759552.0000\n",
            "Epoch 85/700\n",
            "403/403 [==============================] - 1s 2ms/step - loss: 1679790702592.0000 - val_loss: 2171019722752.0000\n",
            "Epoch 86/700\n",
            "403/403 [==============================] - 1s 2ms/step - loss: 1753010536448.0000 - val_loss: 2180584308736.0000\n",
            "Epoch 87/700\n",
            "403/403 [==============================] - 1s 2ms/step - loss: 1707529863168.0000 - val_loss: 2178826502144.0000\n",
            "Epoch 88/700\n",
            "403/403 [==============================] - 1s 2ms/step - loss: 1667819241472.0000 - val_loss: 2186261430272.0000\n",
            "Epoch 89/700\n",
            "403/403 [==============================] - 1s 2ms/step - loss: 1673893773312.0000 - val_loss: 2139024261120.0000\n",
            "Epoch 90/700\n",
            "403/403 [==============================] - 1s 2ms/step - loss: 1639161528320.0000 - val_loss: 2140257255424.0000\n",
            "Epoch 91/700\n",
            "403/403 [==============================] - 1s 2ms/step - loss: 1615912632320.0000 - val_loss: 2169732071424.0000\n",
            "Epoch 92/700\n",
            "403/403 [==============================] - 1s 2ms/step - loss: 1664432078848.0000 - val_loss: 2185820241920.0000\n",
            "Epoch 93/700\n",
            "403/403 [==============================] - 1s 2ms/step - loss: 1617061871616.0000 - val_loss: 2199940235264.0000\n",
            "Epoch 94/700\n",
            "403/403 [==============================] - 1s 2ms/step - loss: 1584776871936.0000 - val_loss: 2190849736704.0000\n",
            "Epoch 95/700\n",
            "403/403 [==============================] - 1s 1ms/step - loss: 1609125068800.0000 - val_loss: 2174198611968.0000\n",
            "Epoch 96/700\n",
            "403/403 [==============================] - 1s 2ms/step - loss: 1565280305152.0000 - val_loss: 2154880696320.0000\n",
            "Epoch 97/700\n",
            "403/403 [==============================] - 1s 2ms/step - loss: 1613964771328.0000 - val_loss: 2290099159040.0000\n",
            "Epoch 98/700\n",
            "403/403 [==============================] - 1s 2ms/step - loss: 1585020272640.0000 - val_loss: 2199706664960.0000\n",
            "Epoch 99/700\n",
            "403/403 [==============================] - 1s 2ms/step - loss: 1580577849344.0000 - val_loss: 2210074984448.0000\n",
            "Epoch 100/700\n",
            "403/403 [==============================] - 1s 2ms/step - loss: 1535004639232.0000 - val_loss: 2162991169536.0000\n",
            "Epoch 101/700\n",
            "403/403 [==============================] - 1s 2ms/step - loss: 1551850405888.0000 - val_loss: 2195359662080.0000\n",
            "Epoch 102/700\n",
            "403/403 [==============================] - 1s 2ms/step - loss: 1517389873152.0000 - val_loss: 2251746181120.0000\n",
            "Epoch 103/700\n",
            "403/403 [==============================] - 1s 2ms/step - loss: 1600116621312.0000 - val_loss: 2209739440128.0000\n",
            "Epoch 104/700\n",
            "403/403 [==============================] - 1s 2ms/step - loss: 1521094230016.0000 - val_loss: 2200230952960.0000\n",
            "Epoch 105/700\n",
            "403/403 [==============================] - 1s 2ms/step - loss: 1467363229696.0000 - val_loss: 2163608649728.0000\n",
            "Epoch 106/700\n",
            "403/403 [==============================] - 1s 2ms/step - loss: 1575685455872.0000 - val_loss: 2190168424448.0000\n",
            "Epoch 107/700\n",
            "403/403 [==============================] - 1s 2ms/step - loss: 1530911129600.0000 - val_loss: 2221600145408.0000\n",
            "Epoch 108/700\n",
            "403/403 [==============================] - 1s 2ms/step - loss: 1465692717056.0000 - val_loss: 2203899658240.0000\n",
            "Epoch 109/700\n",
            "403/403 [==============================] - 1s 2ms/step - loss: 1499101003776.0000 - val_loss: 2161140826112.0000\n",
            "Epoch 110/700\n",
            "403/403 [==============================] - 1s 2ms/step - loss: 1448712601600.0000 - val_loss: 2174023237632.0000\n",
            "Epoch 111/700\n",
            "403/403 [==============================] - 1s 2ms/step - loss: 1464459198464.0000 - val_loss: 2198047162368.0000\n",
            "Epoch 112/700\n",
            "403/403 [==============================] - 1s 2ms/step - loss: 1477800493056.0000 - val_loss: 2182019284992.0000\n",
            "Epoch 113/700\n",
            "403/403 [==============================] - 1s 1ms/step - loss: 1449628139520.0000 - val_loss: 2240335052800.0000\n",
            "Epoch 114/700\n",
            "403/403 [==============================] - 1s 2ms/step - loss: 1422301986816.0000 - val_loss: 2195742654464.0000\n",
            "Epoch 115/700\n",
            "403/403 [==============================] - 1s 2ms/step - loss: 1440342999040.0000 - val_loss: 2221839745024.0000\n",
            "Epoch 116/700\n",
            "403/403 [==============================] - 1s 2ms/step - loss: 1396836270080.0000 - val_loss: 2274846310400.0000\n",
            "Epoch 117/700\n",
            "403/403 [==============================] - 1s 1ms/step - loss: 1447688667136.0000 - val_loss: 2204368109568.0000\n",
            "Epoch 118/700\n",
            "403/403 [==============================] - 1s 2ms/step - loss: 1382017400832.0000 - val_loss: 2291070140416.0000\n",
            "Epoch 119/700\n",
            "403/403 [==============================] - 1s 2ms/step - loss: 1437089398784.0000 - val_loss: 2245439258624.0000\n",
            "Epoch 120/700\n",
            "403/403 [==============================] - 1s 2ms/step - loss: 1406761304064.0000 - val_loss: 2211998334976.0000\n",
            "Epoch 121/700\n",
            "403/403 [==============================] - 1s 2ms/step - loss: 1370525532160.0000 - val_loss: 2263313809408.0000\n",
            "Epoch 122/700\n",
            "403/403 [==============================] - 1s 2ms/step - loss: 1341498982400.0000 - val_loss: 2193224499200.0000\n",
            "Epoch 123/700\n",
            "403/403 [==============================] - 1s 2ms/step - loss: 1374155964416.0000 - val_loss: 2202415661056.0000\n",
            "Epoch 124/700\n",
            "403/403 [==============================] - 1s 2ms/step - loss: 1348133453824.0000 - val_loss: 2292269187072.0000\n",
            "Epoch 125/700\n",
            "403/403 [==============================] - 1s 1ms/step - loss: 1335520657408.0000 - val_loss: 2316320112640.0000\n",
            "Epoch 126/700\n",
            "403/403 [==============================] - 1s 2ms/step - loss: 1344817987584.0000 - val_loss: 2289472372736.0000\n",
            "Epoch 127/700\n",
            "403/403 [==============================] - 1s 2ms/step - loss: 1358352744448.0000 - val_loss: 2227335069696.0000\n",
            "Epoch 128/700\n",
            "403/403 [==============================] - 1s 2ms/step - loss: 1343321014272.0000 - val_loss: 2247092076544.0000\n",
            "Epoch 129/700\n",
            "403/403 [==============================] - 1s 2ms/step - loss: 1309494738944.0000 - val_loss: 2244123033600.0000\n",
            "Epoch 130/700\n",
            "403/403 [==============================] - 1s 2ms/step - loss: 1347678240768.0000 - val_loss: 2243085729792.0000\n"
          ]
        },
        {
          "name": "stdout",
          "output_type": "stream",
          "text": [
            "Epoch 131/700\n",
            "403/403 [==============================] - 1s 2ms/step - loss: 1300421935104.0000 - val_loss: 2362086785024.0000\n",
            "Epoch 132/700\n",
            "403/403 [==============================] - 1s 2ms/step - loss: 1266626592768.0000 - val_loss: 2216352022528.0000\n",
            "Epoch 133/700\n",
            "403/403 [==============================] - 1s 1ms/step - loss: 1286896353280.0000 - val_loss: 2238900862976.0000\n",
            "Epoch 134/700\n",
            "403/403 [==============================] - 1s 2ms/step - loss: 1286616645632.0000 - val_loss: 2228878573568.0000\n",
            "Epoch 135/700\n",
            "403/403 [==============================] - 1s 2ms/step - loss: 1283997040640.0000 - val_loss: 2205432676352.0000\n",
            "Epoch 136/700\n",
            "403/403 [==============================] - 1s 2ms/step - loss: 1301060780032.0000 - val_loss: 2215792869376.0000\n",
            "Epoch 137/700\n",
            "403/403 [==============================] - 1s 2ms/step - loss: 1222908706816.0000 - val_loss: 2215021903872.0000\n",
            "Epoch 138/700\n",
            "403/403 [==============================] - 1s 1ms/step - loss: 1254106857472.0000 - val_loss: 2302976983040.0000\n",
            "Epoch 139/700\n",
            "403/403 [==============================] - 1s 1ms/step - loss: 1340667461632.0000 - val_loss: 2257518854144.0000\n",
            "Epoch 140/700\n",
            "403/403 [==============================] - 1s 1ms/step - loss: 1281431830528.0000 - val_loss: 2275115008000.0000\n",
            "Epoch 141/700\n",
            "403/403 [==============================] - 1s 1ms/step - loss: 1219000401920.0000 - val_loss: 2246765707264.0000\n",
            "Epoch 142/700\n",
            "403/403 [==============================] - 1s 1ms/step - loss: 1208239783936.0000 - val_loss: 2299773845504.0000\n",
            "Epoch 143/700\n",
            "403/403 [==============================] - 1s 1ms/step - loss: 1251160621056.0000 - val_loss: 2251639488512.0000\n",
            "Epoch 144/700\n",
            "403/403 [==============================] - 1s 1ms/step - loss: 1195107287040.0000 - val_loss: 2248122826752.0000\n",
            "Epoch 145/700\n",
            "403/403 [==============================] - 1s 1ms/step - loss: 1217861124096.0000 - val_loss: 2266219413504.0000\n",
            "Epoch 146/700\n",
            "403/403 [==============================] - 1s 2ms/step - loss: 1213617930240.0000 - val_loss: 2267513094144.0000\n",
            "Epoch 147/700\n",
            "403/403 [==============================] - 1s 1ms/step - loss: 1177584533504.0000 - val_loss: 2234038616064.0000\n",
            "Epoch 148/700\n",
            "403/403 [==============================] - 1s 1ms/step - loss: 1182865424384.0000 - val_loss: 2245493522432.0000\n",
            "Epoch 149/700\n",
            "403/403 [==============================] - 1s 2ms/step - loss: 1250791915520.0000 - val_loss: 2287982608384.0000\n",
            "Epoch 150/700\n",
            "403/403 [==============================] - 1s 2ms/step - loss: 1172804730880.0000 - val_loss: 2258181554176.0000\n",
            "Epoch 151/700\n",
            "403/403 [==============================] - 1s 2ms/step - loss: 1169959944192.0000 - val_loss: 2245201494016.0000\n",
            "Epoch 152/700\n",
            "403/403 [==============================] - 1s 2ms/step - loss: 1170936561664.0000 - val_loss: 2313938272256.0000\n",
            "Epoch 153/700\n",
            "403/403 [==============================] - 1s 1ms/step - loss: 1139743784960.0000 - val_loss: 2230280781824.0000\n",
            "Epoch 154/700\n",
            "403/403 [==============================] - 1s 2ms/step - loss: 1130503864320.0000 - val_loss: 2264601722880.0000\n",
            "Epoch 155/700\n",
            "403/403 [==============================] - 1s 2ms/step - loss: 1232130408448.0000 - val_loss: 2294869655552.0000\n",
            "Epoch 156/700\n",
            "403/403 [==============================] - 1s 2ms/step - loss: 1144261312512.0000 - val_loss: 2267310194688.0000\n",
            "Epoch 157/700\n",
            "403/403 [==============================] - 1s 1ms/step - loss: 1126088048640.0000 - val_loss: 2229347549184.0000\n",
            "Epoch 158/700\n",
            "403/403 [==============================] - 1s 2ms/step - loss: 1146098286592.0000 - val_loss: 2275565895680.0000\n",
            "Epoch 159/700\n",
            "403/403 [==============================] - 1s 2ms/step - loss: 1130627465216.0000 - val_loss: 2318176878592.0000\n",
            "Epoch 160/700\n",
            "403/403 [==============================] - 1s 2ms/step - loss: 1102383808512.0000 - val_loss: 2230606364672.0000\n",
            "Epoch 161/700\n",
            "403/403 [==============================] - 1s 2ms/step - loss: 1129879961600.0000 - val_loss: 2229322907648.0000\n",
            "Epoch 162/700\n",
            "403/403 [==============================] - 1s 2ms/step - loss: 1100471205888.0000 - val_loss: 2270855692288.0000\n",
            "Epoch 163/700\n",
            "403/403 [==============================] - 1s 2ms/step - loss: 1107092307968.0000 - val_loss: 2264677482496.0000\n",
            "Epoch 164/700\n",
            "403/403 [==============================] - 1s 2ms/step - loss: 1047766630400.0000 - val_loss: 2350767407104.0000\n",
            "Epoch 165/700\n",
            "403/403 [==============================] - 1s 1ms/step - loss: 1069610434560.0000 - val_loss: 2293345812480.0000\n",
            "Epoch 166/700\n",
            "403/403 [==============================] - 1s 2ms/step - loss: 1331479969792.0000 - val_loss: 2285155647488.0000\n",
            "Epoch 167/700\n",
            "403/403 [==============================] - 1s 2ms/step - loss: 1104052224000.0000 - val_loss: 2258168446976.0000\n",
            "Epoch 168/700\n",
            "403/403 [==============================] - 1s 2ms/step - loss: 1069880377344.0000 - val_loss: 2261100527616.0000\n",
            "Epoch 169/700\n",
            "403/403 [==============================] - 1s 2ms/step - loss: 1048783093760.0000 - val_loss: 2256217571328.0000\n",
            "Epoch 170/700\n",
            "403/403 [==============================] - 1s 1ms/step - loss: 1018276806656.0000 - val_loss: 2291446841344.0000\n",
            "Epoch 171/700\n",
            "403/403 [==============================] - 1s 1ms/step - loss: 1011078660096.0000 - val_loss: 2222020100096.0000\n",
            "Epoch 172/700\n",
            "403/403 [==============================] - 1s 2ms/step - loss: 1038383185920.0000 - val_loss: 2262029041664.0000\n",
            "Epoch 173/700\n",
            "403/403 [==============================] - 1s 2ms/step - loss: 1059272589312.0000 - val_loss: 2276358881280.0000\n",
            "Epoch 174/700\n",
            "403/403 [==============================] - 1s 2ms/step - loss: 1055940411392.0000 - val_loss: 2298668122112.0000\n",
            "Epoch 175/700\n",
            "403/403 [==============================] - 1s 2ms/step - loss: 1006176436224.0000 - val_loss: 2230372007936.0000\n",
            "Epoch 176/700\n",
            "403/403 [==============================] - 1s 2ms/step - loss: 968676081664.0000 - val_loss: 2321415405568.0000\n",
            "Epoch 177/700\n",
            "403/403 [==============================] - 1s 2ms/step - loss: 1177611665408.0000 - val_loss: 2299450359808.0000\n",
            "Epoch 178/700\n",
            "403/403 [==============================] - 1s 2ms/step - loss: 1013960474624.0000 - val_loss: 2332855631872.0000\n",
            "Epoch 179/700\n",
            "403/403 [==============================] - 1s 1ms/step - loss: 991658639360.0000 - val_loss: 2297552437248.0000\n",
            "Epoch 180/700\n",
            "403/403 [==============================] - 1s 1ms/step - loss: 970703962112.0000 - val_loss: 2238808064000.0000\n",
            "Epoch 181/700\n",
            "403/403 [==============================] - 1s 2ms/step - loss: 969782591488.0000 - val_loss: 2188249006080.0000\n",
            "Epoch 182/700\n",
            "403/403 [==============================] - 1s 2ms/step - loss: 984808816640.0000 - val_loss: 2249746808832.0000\n",
            "Epoch 183/700\n",
            "403/403 [==============================] - 1s 2ms/step - loss: 977265426432.0000 - val_loss: 2224040706048.0000\n",
            "Epoch 184/700\n",
            "403/403 [==============================] - 1s 1ms/step - loss: 985791463424.0000 - val_loss: 2280740093952.0000\n",
            "Epoch 185/700\n",
            "403/403 [==============================] - 1s 2ms/step - loss: 943195029504.0000 - val_loss: 2312657698816.0000\n",
            "Epoch 186/700\n",
            "403/403 [==============================] - 1s 2ms/step - loss: 986653786112.0000 - val_loss: 2287369191424.0000\n",
            "Epoch 187/700\n",
            "403/403 [==============================] - 1s 2ms/step - loss: 951360815104.0000 - val_loss: 2309548670976.0000\n",
            "Epoch 188/700\n",
            "403/403 [==============================] - 1s 2ms/step - loss: 953577832448.0000 - val_loss: 2267327496192.0000\n",
            "Epoch 189/700\n",
            "403/403 [==============================] - 1s 1ms/step - loss: 972402130944.0000 - val_loss: 2244860182528.0000\n",
            "Epoch 190/700\n",
            "403/403 [==============================] - 1s 1ms/step - loss: 917769486336.0000 - val_loss: 2269357015040.0000\n",
            "Epoch 191/700\n",
            "403/403 [==============================] - 1s 1ms/step - loss: 946414878720.0000 - val_loss: 2194529452032.0000\n",
            "Epoch 192/700\n",
            "403/403 [==============================] - 1s 1ms/step - loss: 897625292800.0000 - val_loss: 2146640855040.0000\n",
            "Epoch 193/700\n",
            "403/403 [==============================] - 1s 1ms/step - loss: 936297299968.0000 - val_loss: 2276177215488.0000\n",
            "Epoch 194/700\n",
            "403/403 [==============================] - 1s 1ms/step - loss: 1089695580160.0000 - val_loss: 2204258271232.0000\n",
            "Epoch 195/700\n",
            "403/403 [==============================] - 1s 1ms/step - loss: 994787393536.0000 - val_loss: 2225949638656.0000\n",
            "Epoch 196/700\n",
            "403/403 [==============================] - 1s 1ms/step - loss: 928224313344.0000 - val_loss: 2209581105152.0000\n",
            "Epoch 197/700\n",
            "403/403 [==============================] - 1s 1ms/step - loss: 915531825152.0000 - val_loss: 2232512675840.0000\n",
            "Epoch 198/700\n",
            "403/403 [==============================] - 1s 1ms/step - loss: 876697747456.0000 - val_loss: 2147482861568.0000\n",
            "Epoch 199/700\n",
            "403/403 [==============================] - 1s 2ms/step - loss: 871295877120.0000 - val_loss: 2205670703104.0000\n",
            "Epoch 200/700\n",
            "403/403 [==============================] - 1s 2ms/step - loss: 873961816064.0000 - val_loss: 2143343083520.0000\n",
            "Epoch 201/700\n",
            "403/403 [==============================] - 1s 2ms/step - loss: 897988427776.0000 - val_loss: 2177799290880.0000\n",
            "Epoch 202/700\n",
            "403/403 [==============================] - 1s 2ms/step - loss: 868562305024.0000 - val_loss: 2181419761664.0000\n",
            "Epoch 203/700\n",
            "403/403 [==============================] - 1s 2ms/step - loss: 897267269632.0000 - val_loss: 2183823622144.0000\n",
            "Epoch 204/700\n",
            "403/403 [==============================] - 1s 2ms/step - loss: 912401825792.0000 - val_loss: 2213462147072.0000\n",
            "Epoch 205/700\n",
            "403/403 [==============================] - 1s 2ms/step - loss: 854384050176.0000 - val_loss: 2156828819456.0000\n",
            "Epoch 206/700\n",
            "403/403 [==============================] - 1s 2ms/step - loss: 844378800128.0000 - val_loss: 2270384095232.0000\n",
            "Epoch 207/700\n",
            "403/403 [==============================] - 1s 2ms/step - loss: 848454025216.0000 - val_loss: 2179184066560.0000\n",
            "Epoch 208/700\n",
            "403/403 [==============================] - 1s 2ms/step - loss: 860606889984.0000 - val_loss: 2251201183744.0000\n",
            "Epoch 209/700\n",
            "403/403 [==============================] - 1s 2ms/step - loss: 849449713664.0000 - val_loss: 2372658528256.0000\n",
            "Epoch 210/700\n",
            "403/403 [==============================] - 1s 1ms/step - loss: 842217488384.0000 - val_loss: 2227776258048.0000\n",
            "Epoch 211/700\n",
            "403/403 [==============================] - 1s 1ms/step - loss: 825576062976.0000 - val_loss: 2115859251200.0000\n",
            "Epoch 212/700\n",
            "403/403 [==============================] - 1s 1ms/step - loss: 905301786624.0000 - val_loss: 2152656404480.0000\n",
            "Epoch 213/700\n",
            "403/403 [==============================] - 1s 2ms/step - loss: 833635287040.0000 - val_loss: 2267936456704.0000\n",
            "Epoch 214/700\n",
            "403/403 [==============================] - 1s 2ms/step - loss: 797706813440.0000 - val_loss: 2125988364288.0000\n",
            "Epoch 215/700\n",
            "403/403 [==============================] - 1s 2ms/step - loss: 814835695616.0000 - val_loss: 2099786022912.0000\n",
            "Epoch 216/700\n",
            "403/403 [==============================] - 1s 2ms/step - loss: 795628535808.0000 - val_loss: 2149938495488.0000\n",
            "Epoch 217/700\n",
            "403/403 [==============================] - 1s 2ms/step - loss: 834752217088.0000 - val_loss: 2224534585344.0000\n",
            "Epoch 218/700\n",
            "403/403 [==============================] - 1s 2ms/step - loss: 822172712960.0000 - val_loss: 2180058054656.0000\n",
            "Epoch 219/700\n",
            "403/403 [==============================] - 1s 1ms/step - loss: 810118807552.0000 - val_loss: 2139283652608.0000\n",
            "Epoch 220/700\n",
            "403/403 [==============================] - 1s 1ms/step - loss: 779879055360.0000 - val_loss: 2315654266880.0000\n",
            "Epoch 221/700\n",
            "403/403 [==============================] - 1s 2ms/step - loss: 885266317312.0000 - val_loss: 2246702792704.0000\n",
            "Epoch 222/700\n",
            "403/403 [==============================] - 1s 1ms/step - loss: 803402022912.0000 - val_loss: 2181083955200.0000\n",
            "Epoch 223/700\n",
            "403/403 [==============================] - 1s 2ms/step - loss: 783215362048.0000 - val_loss: 2130744442880.0000\n",
            "Epoch 224/700\n",
            "403/403 [==============================] - 1s 2ms/step - loss: 791185981440.0000 - val_loss: 2135259217920.0000\n",
            "Epoch 225/700\n",
            "403/403 [==============================] - 1s 2ms/step - loss: 785162174464.0000 - val_loss: 2141727883264.0000\n",
            "Epoch 226/700\n",
            "403/403 [==============================] - 1s 2ms/step - loss: 771766943744.0000 - val_loss: 2125342048256.0000\n",
            "Epoch 227/700\n",
            "403/403 [==============================] - 1s 2ms/step - loss: 761488080896.0000 - val_loss: 2128319741952.0000\n",
            "Epoch 228/700\n",
            "403/403 [==============================] - 1s 2ms/step - loss: 766552113152.0000 - val_loss: 2109420077056.0000\n",
            "Epoch 229/700\n",
            "403/403 [==============================] - 1s 2ms/step - loss: 732803694592.0000 - val_loss: 2266468450304.0000\n",
            "Epoch 230/700\n",
            "403/403 [==============================] - 1s 2ms/step - loss: 1012066091008.0000 - val_loss: 2158128267264.0000\n",
            "Epoch 231/700\n",
            "403/403 [==============================] - 1s 2ms/step - loss: 776256225280.0000 - val_loss: 2320866738176.0000\n",
            "Epoch 232/700\n",
            "403/403 [==============================] - 1s 1ms/step - loss: 776038580224.0000 - val_loss: 2179583311872.0000\n",
            "Epoch 233/700\n",
            "403/403 [==============================] - 1s 2ms/step - loss: 748889440256.0000 - val_loss: 2220788285440.0000\n",
            "Epoch 234/700\n",
            "403/403 [==============================] - 1s 2ms/step - loss: 736129974272.0000 - val_loss: 2102672359424.0000\n",
            "Epoch 235/700\n",
            "403/403 [==============================] - 1s 1ms/step - loss: 731320811520.0000 - val_loss: 2099964936192.0000\n",
            "Epoch 236/700\n",
            "403/403 [==============================] - 1s 1ms/step - loss: 713161113600.0000 - val_loss: 2077353050112.0000\n",
            "Epoch 237/700\n",
            "403/403 [==============================] - 1s 2ms/step - loss: 794867400704.0000 - val_loss: 2136288133120.0000\n",
            "Epoch 238/700\n",
            "403/403 [==============================] - 1s 2ms/step - loss: 790562078720.0000 - val_loss: 2152598208512.0000\n",
            "Epoch 239/700\n",
            "403/403 [==============================] - 1s 1ms/step - loss: 742840532992.0000 - val_loss: 2136342134784.0000\n",
            "Epoch 240/700\n",
            "403/403 [==============================] - 1s 1ms/step - loss: 710319865856.0000 - val_loss: 2217428910080.0000\n",
            "Epoch 241/700\n",
            "403/403 [==============================] - 1s 1ms/step - loss: 709687771136.0000 - val_loss: 2076661907456.0000\n",
            "Epoch 242/700\n",
            "403/403 [==============================] - 1s 1ms/step - loss: 725746057216.0000 - val_loss: 2114952757248.0000\n",
            "Epoch 243/700\n",
            "403/403 [==============================] - 1s 1ms/step - loss: 700489072640.0000 - val_loss: 2111582633984.0000\n",
            "Epoch 244/700\n",
            "403/403 [==============================] - 1s 1ms/step - loss: 681793683456.0000 - val_loss: 2083516317696.0000\n",
            "Epoch 245/700\n",
            "403/403 [==============================] - 1s 1ms/step - loss: 688243408896.0000 - val_loss: 2078637686784.0000\n",
            "Epoch 246/700\n",
            "403/403 [==============================] - 1s 2ms/step - loss: 761035096064.0000 - val_loss: 2098035949568.0000\n",
            "Epoch 247/700\n",
            "403/403 [==============================] - 1s 2ms/step - loss: 703108743168.0000 - val_loss: 2077338632192.0000\n",
            "Epoch 248/700\n",
            "403/403 [==============================] - 1s 2ms/step - loss: 690144477184.0000 - val_loss: 2052870766592.0000\n",
            "Epoch 249/700\n",
            "403/403 [==============================] - 1s 1ms/step - loss: 669959323648.0000 - val_loss: 2098868387840.0000\n",
            "Epoch 250/700\n",
            "403/403 [==============================] - 1s 2ms/step - loss: 674695151616.0000 - val_loss: 2087132725248.0000\n",
            "Epoch 251/700\n",
            "403/403 [==============================] - 1s 2ms/step - loss: 663601479680.0000 - val_loss: 2058295443456.0000\n",
            "Epoch 252/700\n",
            "403/403 [==============================] - 1s 2ms/step - loss: 780804030464.0000 - val_loss: 2092775112704.0000\n",
            "Epoch 253/700\n",
            "403/403 [==============================] - 1s 2ms/step - loss: 716086378496.0000 - val_loss: 2102937387008.0000\n",
            "Epoch 254/700\n",
            "403/403 [==============================] - 1s 2ms/step - loss: 674132066304.0000 - val_loss: 2089095266304.0000\n",
            "Epoch 255/700\n",
            "403/403 [==============================] - 1s 2ms/step - loss: 665785270272.0000 - val_loss: 2144922238976.0000\n",
            "Epoch 256/700\n",
            "403/403 [==============================] - 1s 2ms/step - loss: 670481121280.0000 - val_loss: 2073769279488.0000\n",
            "Epoch 257/700\n",
            "403/403 [==============================] - 1s 2ms/step - loss: 642509111296.0000 - val_loss: 2028739493888.0000\n",
            "Epoch 258/700\n",
            "403/403 [==============================] - 1s 1ms/step - loss: 661272526848.0000 - val_loss: 2050076311552.0000\n",
            "Epoch 259/700\n",
            "403/403 [==============================] - 1s 1ms/step - loss: 659461505024.0000 - val_loss: 2053508169728.0000\n",
            "Epoch 260/700\n"
          ]
        },
        {
          "name": "stdout",
          "output_type": "stream",
          "text": [
            "403/403 [==============================] - 1s 1ms/step - loss: 673989001216.0000 - val_loss: 2064855990272.0000\n",
            "Epoch 261/700\n",
            "403/403 [==============================] - 1s 1ms/step - loss: 652886474752.0000 - val_loss: 2050706112512.0000\n",
            "Epoch 262/700\n",
            "403/403 [==============================] - 1s 1ms/step - loss: 631630528512.0000 - val_loss: 2136884903936.0000\n",
            "Epoch 263/700\n",
            "403/403 [==============================] - 1s 1ms/step - loss: 643528523776.0000 - val_loss: 2088167538688.0000\n",
            "Epoch 264/700\n",
            "403/403 [==============================] - 1s 1ms/step - loss: 742756450304.0000 - val_loss: 2139074985984.0000\n",
            "Epoch 265/700\n",
            "403/403 [==============================] - 1s 2ms/step - loss: 631833886720.0000 - val_loss: 2041621250048.0000\n",
            "Epoch 266/700\n",
            "403/403 [==============================] - 1s 2ms/step - loss: 634803388416.0000 - val_loss: 2045957373952.0000\n",
            "Epoch 267/700\n",
            "403/403 [==============================] - 1s 2ms/step - loss: 620540395520.0000 - val_loss: 2036608270336.0000\n",
            "Epoch 268/700\n",
            "403/403 [==============================] - 1s 1ms/step - loss: 610793750528.0000 - val_loss: 2008828870656.0000\n",
            "Epoch 269/700\n",
            "403/403 [==============================] - 1s 2ms/step - loss: 609850359808.0000 - val_loss: 2035319177216.0000\n",
            "Epoch 270/700\n",
            "403/403 [==============================] - 1s 2ms/step - loss: 619359436800.0000 - val_loss: 2091003019264.0000\n",
            "Epoch 271/700\n",
            "403/403 [==============================] - 1s 2ms/step - loss: 621613481984.0000 - val_loss: 2052256956416.0000\n",
            "Epoch 272/700\n",
            "403/403 [==============================] - 1s 2ms/step - loss: 598308618240.0000 - val_loss: 2206152785920.0000\n",
            "Epoch 273/700\n",
            "403/403 [==============================] - 1s 2ms/step - loss: 641756495872.0000 - val_loss: 2154077356032.0000\n",
            "Epoch 274/700\n",
            "403/403 [==============================] - 1s 2ms/step - loss: 617677979648.0000 - val_loss: 2148591992832.0000\n",
            "Epoch 275/700\n",
            "403/403 [==============================] - 1s 2ms/step - loss: 610378711040.0000 - val_loss: 2104505270272.0000\n",
            "Epoch 276/700\n",
            "403/403 [==============================] - 1s 2ms/step - loss: 586106929152.0000 - val_loss: 2016981942272.0000\n",
            "Epoch 277/700\n",
            "403/403 [==============================] - 1s 2ms/step - loss: 612532682752.0000 - val_loss: 2027048534016.0000\n",
            "Epoch 278/700\n",
            "403/403 [==============================] - 1s 1ms/step - loss: 593415569408.0000 - val_loss: 2035588399104.0000\n",
            "Epoch 279/700\n",
            "403/403 [==============================] - 1s 1ms/step - loss: 585502949376.0000 - val_loss: 2081671741440.0000\n",
            "Epoch 280/700\n",
            "403/403 [==============================] - 1s 1ms/step - loss: 577901887488.0000 - val_loss: 2034262999040.0000\n",
            "Epoch 281/700\n",
            "403/403 [==============================] - 1s 1ms/step - loss: 777114484736.0000 - val_loss: 2061395951616.0000\n",
            "Epoch 282/700\n",
            "403/403 [==============================] - 1s 1ms/step - loss: 611305848832.0000 - val_loss: 2095406383104.0000\n",
            "Epoch 283/700\n",
            "403/403 [==============================] - 1s 1ms/step - loss: 579244392448.0000 - val_loss: 2213208653824.0000\n",
            "Epoch 284/700\n",
            "403/403 [==============================] - 1s 1ms/step - loss: 588834275328.0000 - val_loss: 2106602291200.0000\n",
            "Epoch 285/700\n",
            "403/403 [==============================] - 1s 1ms/step - loss: 577248624640.0000 - val_loss: 2092220547072.0000\n",
            "Epoch 286/700\n",
            "403/403 [==============================] - 1s 1ms/step - loss: 566396125184.0000 - val_loss: 2044360261632.0000\n",
            "Epoch 287/700\n",
            "403/403 [==============================] - 1s 1ms/step - loss: 562380275712.0000 - val_loss: 2025555361792.0000\n",
            "Epoch 288/700\n",
            "403/403 [==============================] - 1s 1ms/step - loss: 574670045184.0000 - val_loss: 2003206012928.0000\n",
            "Epoch 289/700\n",
            "403/403 [==============================] - 1s 1ms/step - loss: 555532681216.0000 - val_loss: 2010023198720.0000\n",
            "Epoch 290/700\n",
            "403/403 [==============================] - 1s 1ms/step - loss: 544607993856.0000 - val_loss: 2052039376896.0000\n",
            "Epoch 291/700\n",
            "403/403 [==============================] - 1s 1ms/step - loss: 613240471552.0000 - val_loss: 2003009011712.0000\n",
            "Epoch 292/700\n",
            "403/403 [==============================] - 1s 1ms/step - loss: 553197633536.0000 - val_loss: 1997995507712.0000\n",
            "Epoch 293/700\n",
            "403/403 [==============================] - 1s 1ms/step - loss: 550452264960.0000 - val_loss: 2086235275264.0000\n",
            "Epoch 294/700\n",
            "403/403 [==============================] - 1s 2ms/step - loss: 546408398848.0000 - val_loss: 2000960487424.0000\n",
            "Epoch 295/700\n",
            "403/403 [==============================] - 1s 2ms/step - loss: 530435080192.0000 - val_loss: 1967711191040.0000\n",
            "Epoch 296/700\n",
            "403/403 [==============================] - 1s 2ms/step - loss: 551253639168.0000 - val_loss: 1972131594240.0000\n",
            "Epoch 297/700\n",
            "403/403 [==============================] - 1s 2ms/step - loss: 736589119488.0000 - val_loss: 2017906393088.0000\n",
            "Epoch 298/700\n",
            "403/403 [==============================] - 1s 2ms/step - loss: 568835309568.0000 - val_loss: 2061005357056.0000\n",
            "Epoch 299/700\n",
            "403/403 [==============================] - 1s 1ms/step - loss: 531570065408.0000 - val_loss: 2135062609920.0000\n",
            "Epoch 300/700\n",
            "403/403 [==============================] - 1s 1ms/step - loss: 521729998848.0000 - val_loss: 2185789702144.0000\n",
            "Epoch 301/700\n",
            "403/403 [==============================] - 1s 1ms/step - loss: 519708540928.0000 - val_loss: 1994311729152.0000\n",
            "Epoch 302/700\n",
            "403/403 [==============================] - 1s 1ms/step - loss: 519367622656.0000 - val_loss: 2042129022976.0000\n",
            "Epoch 303/700\n",
            "403/403 [==============================] - 1s 2ms/step - loss: 528919429120.0000 - val_loss: 1991081984000.0000\n",
            "Epoch 304/700\n",
            "403/403 [==============================] - 1s 1ms/step - loss: 514322989056.0000 - val_loss: 1955193815040.0000\n",
            "Epoch 305/700\n",
            "403/403 [==============================] - 1s 2ms/step - loss: 504711249920.0000 - val_loss: 1973215821824.0000\n",
            "Epoch 306/700\n",
            "403/403 [==============================] - 1s 1ms/step - loss: 532474593280.0000 - val_loss: 2005182578688.0000\n",
            "Epoch 307/700\n",
            "403/403 [==============================] - 1s 1ms/step - loss: 508548087808.0000 - val_loss: 2050587492352.0000\n",
            "Epoch 308/700\n",
            "403/403 [==============================] - 1s 1ms/step - loss: 512991756288.0000 - val_loss: 1989798920192.0000\n",
            "Epoch 309/700\n",
            "403/403 [==============================] - 1s 1ms/step - loss: 505975767040.0000 - val_loss: 2008310480896.0000\n",
            "Epoch 310/700\n",
            "403/403 [==============================] - 1s 1ms/step - loss: 510376148992.0000 - val_loss: 2038887481344.0000\n",
            "Epoch 311/700\n",
            "403/403 [==============================] - 1s 2ms/step - loss: 526344421376.0000 - val_loss: 1981315153920.0000\n",
            "Epoch 312/700\n",
            "403/403 [==============================] - 1s 1ms/step - loss: 513951596544.0000 - val_loss: 2015384961024.0000\n",
            "Epoch 313/700\n",
            "403/403 [==============================] - 1s 1ms/step - loss: 508825075712.0000 - val_loss: 1936964059136.0000\n",
            "Epoch 314/700\n",
            "403/403 [==============================] - 1s 1ms/step - loss: 492744212480.0000 - val_loss: 2023077445632.0000\n",
            "Epoch 315/700\n",
            "403/403 [==============================] - 1s 1ms/step - loss: 495215640576.0000 - val_loss: 1932025004032.0000\n",
            "Epoch 316/700\n",
            "403/403 [==============================] - 1s 2ms/step - loss: 495024701440.0000 - val_loss: 1965985628160.0000\n",
            "Epoch 317/700\n",
            "403/403 [==============================] - 1s 2ms/step - loss: 472625840128.0000 - val_loss: 1978756497408.0000\n",
            "Epoch 318/700\n",
            "403/403 [==============================] - 1s 2ms/step - loss: 481242644480.0000 - val_loss: 2074078740480.0000\n",
            "Epoch 319/700\n",
            "403/403 [==============================] - 1s 2ms/step - loss: 467250741248.0000 - val_loss: 1921872429056.0000\n",
            "Epoch 320/700\n",
            "403/403 [==============================] - 1s 2ms/step - loss: 493074186240.0000 - val_loss: 1941563637760.0000\n",
            "Epoch 321/700\n",
            "403/403 [==============================] - 1s 2ms/step - loss: 468457455616.0000 - val_loss: 1958343868416.0000\n",
            "Epoch 322/700\n",
            "403/403 [==============================] - 1s 2ms/step - loss: 452851204096.0000 - val_loss: 1983431573504.0000\n",
            "Epoch 323/700\n",
            "403/403 [==============================] - 1s 2ms/step - loss: 472248057856.0000 - val_loss: 1930847191040.0000\n",
            "Epoch 324/700\n",
            "403/403 [==============================] - 1s 2ms/step - loss: 479344361472.0000 - val_loss: 1943864213504.0000\n",
            "Epoch 325/700\n",
            "403/403 [==============================] - 1s 1ms/step - loss: 466123325440.0000 - val_loss: 1936026501120.0000\n",
            "Epoch 326/700\n",
            "403/403 [==============================] - 1s 1ms/step - loss: 455947059200.0000 - val_loss: 1976022728704.0000\n",
            "Epoch 327/700\n",
            "403/403 [==============================] - 1s 1ms/step - loss: 517725454336.0000 - val_loss: 1959037239296.0000\n",
            "Epoch 328/700\n",
            "403/403 [==============================] - 1s 1ms/step - loss: 509382197248.0000 - val_loss: 2065371627520.0000\n",
            "Epoch 329/700\n",
            "403/403 [==============================] - 1s 1ms/step - loss: 473500352512.0000 - val_loss: 2052986896384.0000\n",
            "Epoch 330/700\n",
            "403/403 [==============================] - 1s 1ms/step - loss: 442457554944.0000 - val_loss: 2003072057344.0000\n",
            "Epoch 331/700\n",
            "403/403 [==============================] - 1s 1ms/step - loss: 446965383168.0000 - val_loss: 2014691065856.0000\n",
            "Epoch 332/700\n",
            "403/403 [==============================] - 1s 1ms/step - loss: 443881029632.0000 - val_loss: 1963788468224.0000\n",
            "Epoch 333/700\n",
            "403/403 [==============================] - 1s 1ms/step - loss: 427505123328.0000 - val_loss: 2244169695232.0000\n",
            "Epoch 334/700\n",
            "403/403 [==============================] - 1s 2ms/step - loss: 520295481344.0000 - val_loss: 1999426813952.0000\n",
            "Epoch 335/700\n",
            "403/403 [==============================] - 1s 2ms/step - loss: 446169481216.0000 - val_loss: 2021768036352.0000\n",
            "Epoch 336/700\n",
            "403/403 [==============================] - 1s 2ms/step - loss: 456804597760.0000 - val_loss: 1946636517376.0000\n",
            "Epoch 337/700\n",
            "403/403 [==============================] - 1s 1ms/step - loss: 436030406656.0000 - val_loss: 1989069111296.0000\n",
            "Epoch 338/700\n",
            "403/403 [==============================] - 1s 1ms/step - loss: 421891997696.0000 - val_loss: 1971103858688.0000\n",
            "Epoch 339/700\n",
            "403/403 [==============================] - 1s 2ms/step - loss: 414836817920.0000 - val_loss: 2043299889152.0000\n",
            "Epoch 340/700\n",
            "403/403 [==============================] - 1s 1ms/step - loss: 454520274944.0000 - val_loss: 1952601341952.0000\n",
            "Epoch 341/700\n",
            "403/403 [==============================] - 1s 1ms/step - loss: 425725165568.0000 - val_loss: 1953540603904.0000\n",
            "Epoch 342/700\n",
            "403/403 [==============================] - 1s 1ms/step - loss: 441098731520.0000 - val_loss: 1985855488000.0000\n",
            "Epoch 343/700\n",
            "403/403 [==============================] - 1s 2ms/step - loss: 418973581312.0000 - val_loss: 2009732087808.0000\n",
            "Epoch 344/700\n",
            "403/403 [==============================] - 1s 2ms/step - loss: 435725205504.0000 - val_loss: 1954636234752.0000\n",
            "Epoch 345/700\n",
            "403/403 [==============================] - 1s 1ms/step - loss: 425879896064.0000 - val_loss: 1988700012544.0000\n",
            "Epoch 346/700\n",
            "403/403 [==============================] - 1s 1ms/step - loss: 516996399104.0000 - val_loss: 2014992531456.0000\n",
            "Epoch 347/700\n",
            "403/403 [==============================] - 1s 1ms/step - loss: 433294770176.0000 - val_loss: 2031106260992.0000\n",
            "Epoch 348/700\n",
            "403/403 [==============================] - 1s 1ms/step - loss: 410811072512.0000 - val_loss: 2065442799616.0000\n",
            "Epoch 349/700\n",
            "403/403 [==============================] - 1s 1ms/step - loss: 417964818432.0000 - val_loss: 2113120108544.0000\n",
            "Epoch 350/700\n",
            "403/403 [==============================] - 1s 1ms/step - loss: 404700233728.0000 - val_loss: 2008242192384.0000\n",
            "Epoch 351/700\n",
            "403/403 [==============================] - 1s 2ms/step - loss: 407018373120.0000 - val_loss: 1964981223424.0000\n",
            "Epoch 352/700\n",
            "403/403 [==============================] - 1s 1ms/step - loss: 394095329280.0000 - val_loss: 1968287776768.0000\n",
            "Epoch 353/700\n",
            "403/403 [==============================] - 1s 2ms/step - loss: 382906531840.0000 - val_loss: 2102785343488.0000\n",
            "Epoch 354/700\n",
            "403/403 [==============================] - 1s 2ms/step - loss: 403074383872.0000 - val_loss: 1965016219648.0000\n",
            "Epoch 355/700\n",
            "403/403 [==============================] - 1s 1ms/step - loss: 389556011008.0000 - val_loss: 1980315992064.0000\n",
            "Epoch 356/700\n",
            "403/403 [==============================] - 1s 1ms/step - loss: 387839098880.0000 - val_loss: 2000070377472.0000\n",
            "Epoch 357/700\n",
            "403/403 [==============================] - 1s 1ms/step - loss: 377079595008.0000 - val_loss: 1962678681600.0000\n",
            "Epoch 358/700\n",
            "403/403 [==============================] - 1s 2ms/step - loss: 385973813248.0000 - val_loss: 1921373962240.0000\n",
            "Epoch 359/700\n",
            "403/403 [==============================] - 1s 2ms/step - loss: 388063821824.0000 - val_loss: 1956992516096.0000\n",
            "Epoch 360/700\n",
            "403/403 [==============================] - 1s 2ms/step - loss: 423032029184.0000 - val_loss: 1996138479616.0000\n",
            "Epoch 361/700\n",
            "403/403 [==============================] - 1s 2ms/step - loss: 376075550720.0000 - val_loss: 1997656817664.0000\n",
            "Epoch 362/700\n",
            "403/403 [==============================] - 1s 2ms/step - loss: 382070980608.0000 - val_loss: 1986265350144.0000\n",
            "Epoch 363/700\n",
            "403/403 [==============================] - 1s 2ms/step - loss: 376599805952.0000 - val_loss: 1987061874688.0000\n",
            "Epoch 364/700\n",
            "403/403 [==============================] - 1s 1ms/step - loss: 379407859712.0000 - val_loss: 1985848147968.0000\n",
            "Epoch 365/700\n",
            "403/403 [==============================] - 1s 1ms/step - loss: 387712778240.0000 - val_loss: 1968850862080.0000\n",
            "Epoch 366/700\n",
            "403/403 [==============================] - 1s 2ms/step - loss: 417989066752.0000 - val_loss: 2030086258688.0000\n",
            "Epoch 367/700\n",
            "403/403 [==============================] - 1s 2ms/step - loss: 366218051584.0000 - val_loss: 2090776002560.0000\n",
            "Epoch 368/700\n",
            "403/403 [==============================] - 1s 2ms/step - loss: 356012720128.0000 - val_loss: 1974238969856.0000\n",
            "Epoch 369/700\n",
            "403/403 [==============================] - 1s 2ms/step - loss: 367908290560.0000 - val_loss: 2059498815488.0000\n",
            "Epoch 370/700\n",
            "403/403 [==============================] - 1s 1ms/step - loss: 381255286784.0000 - val_loss: 2100788199424.0000\n",
            "Epoch 371/700\n",
            "403/403 [==============================] - 1s 1ms/step - loss: 349225943040.0000 - val_loss: 1930570498048.0000\n",
            "Epoch 372/700\n",
            "403/403 [==============================] - 1s 1ms/step - loss: 362208952320.0000 - val_loss: 1948200075264.0000\n",
            "Epoch 373/700\n",
            "403/403 [==============================] - 1s 1ms/step - loss: 350066311168.0000 - val_loss: 1987491528704.0000\n",
            "Epoch 374/700\n",
            "403/403 [==============================] - 1s 1ms/step - loss: 356362682368.0000 - val_loss: 2001537466368.0000\n",
            "Epoch 375/700\n",
            "403/403 [==============================] - 1s 2ms/step - loss: 345015484416.0000 - val_loss: 1934999683072.0000\n",
            "Epoch 376/700\n",
            "403/403 [==============================] - 1s 2ms/step - loss: 367919136768.0000 - val_loss: 2025710419968.0000\n",
            "Epoch 377/700\n",
            "403/403 [==============================] - 1s 1ms/step - loss: 362928832512.0000 - val_loss: 2061870170112.0000\n",
            "Epoch 378/700\n",
            "403/403 [==============================] - 1s 1ms/step - loss: 348275179520.0000 - val_loss: 1992710815744.0000\n",
            "Epoch 379/700\n",
            "403/403 [==============================] - 1s 2ms/step - loss: 343533944832.0000 - val_loss: 2090449502208.0000\n",
            "Epoch 380/700\n",
            "403/403 [==============================] - 1s 2ms/step - loss: 362413490176.0000 - val_loss: 1979523268608.0000\n",
            "Epoch 381/700\n",
            "403/403 [==============================] - 1s 2ms/step - loss: 343200956416.0000 - val_loss: 2007092690944.0000\n",
            "Epoch 382/700\n",
            "403/403 [==============================] - 1s 2ms/step - loss: 336732815360.0000 - val_loss: 2040942428160.0000\n",
            "Epoch 383/700\n",
            "403/403 [==============================] - 1s 2ms/step - loss: 359888453632.0000 - val_loss: 2000757587968.0000\n",
            "Epoch 384/700\n",
            "403/403 [==============================] - 1s 2ms/step - loss: 360545976320.0000 - val_loss: 2001194188800.0000\n",
            "Epoch 385/700\n",
            "403/403 [==============================] - 1s 2ms/step - loss: 334858846208.0000 - val_loss: 2027542675456.0000\n",
            "Epoch 386/700\n",
            "403/403 [==============================] - 1s 2ms/step - loss: 331788091392.0000 - val_loss: 1962025287680.0000\n",
            "Epoch 387/700\n",
            "403/403 [==============================] - 1s 2ms/step - loss: 344995856384.0000 - val_loss: 1971548585984.0000\n",
            "Epoch 388/700\n",
            "403/403 [==============================] - 1s 2ms/step - loss: 363575050240.0000 - val_loss: 1986567864320.0000\n",
            "Epoch 389/700\n",
            "403/403 [==============================] - 1s 1ms/step - loss: 331038195712.0000 - val_loss: 2022204506112.0000\n",
            "Epoch 390/700\n"
          ]
        },
        {
          "name": "stdout",
          "output_type": "stream",
          "text": [
            "403/403 [==============================] - 1s 2ms/step - loss: 333777043456.0000 - val_loss: 1996876808192.0000\n",
            "Epoch 391/700\n",
            "403/403 [==============================] - 1s 2ms/step - loss: 313416548352.0000 - val_loss: 2068556414976.0000\n",
            "Epoch 392/700\n",
            "403/403 [==============================] - 1s 1ms/step - loss: 306886574080.0000 - val_loss: 2246212583424.0000\n",
            "Epoch 393/700\n",
            "403/403 [==============================] - 1s 2ms/step - loss: 317185359872.0000 - val_loss: 2013990748160.0000\n",
            "Epoch 394/700\n",
            "403/403 [==============================] - 1s 2ms/step - loss: 321839071232.0000 - val_loss: 1969059266560.0000\n",
            "Epoch 395/700\n",
            "403/403 [==============================] - 1s 1ms/step - loss: 344235081728.0000 - val_loss: 2042600751104.0000\n",
            "Epoch 396/700\n",
            "403/403 [==============================] - 1s 1ms/step - loss: 328854241280.0000 - val_loss: 2048825098240.0000\n",
            "Epoch 397/700\n",
            "403/403 [==============================] - 1s 1ms/step - loss: 314840481792.0000 - val_loss: 2004409516032.0000\n",
            "Epoch 398/700\n",
            "403/403 [==============================] - 1s 2ms/step - loss: 335626502144.0000 - val_loss: 2112188186624.0000\n",
            "Epoch 399/700\n",
            "403/403 [==============================] - 1s 2ms/step - loss: 336715743232.0000 - val_loss: 2032268738560.0000\n",
            "Epoch 400/700\n",
            "403/403 [==============================] - 1s 1ms/step - loss: 304432316416.0000 - val_loss: 2039771037696.0000\n",
            "Epoch 401/700\n",
            "403/403 [==============================] - 1s 1ms/step - loss: 311381327872.0000 - val_loss: 2009047236608.0000\n",
            "Epoch 402/700\n",
            "403/403 [==============================] - 1s 2ms/step - loss: 303409332224.0000 - val_loss: 2132688502784.0000\n",
            "Epoch 403/700\n",
            "403/403 [==============================] - 1s 2ms/step - loss: 331678056448.0000 - val_loss: 2076091088896.0000\n",
            "Epoch 404/700\n",
            "403/403 [==============================] - 1s 1ms/step - loss: 309013381120.0000 - val_loss: 1969155342336.0000\n",
            "Epoch 405/700\n",
            "403/403 [==============================] - 1s 1ms/step - loss: 293584764928.0000 - val_loss: 2080054706176.0000\n",
            "Epoch 406/700\n",
            "403/403 [==============================] - 1s 2ms/step - loss: 301534117888.0000 - val_loss: 2051275489280.0000\n",
            "Epoch 407/700\n",
            "403/403 [==============================] - 1s 2ms/step - loss: 292957913088.0000 - val_loss: 2087616905216.0000\n",
            "Epoch 408/700\n",
            "403/403 [==============================] - 1s 1ms/step - loss: 303883452416.0000 - val_loss: 2218535157760.0000\n",
            "Epoch 409/700\n",
            "403/403 [==============================] - 1s 1ms/step - loss: 285687152640.0000 - val_loss: 2062417526784.0000\n",
            "Epoch 410/700\n",
            "403/403 [==============================] - 1s 2ms/step - loss: 295475740672.0000 - val_loss: 2054826360832.0000\n",
            "Epoch 411/700\n",
            "403/403 [==============================] - 1s 2ms/step - loss: 311176691712.0000 - val_loss: 1979653947392.0000\n",
            "Epoch 412/700\n",
            "403/403 [==============================] - 1s 2ms/step - loss: 285351182336.0000 - val_loss: 2007233724416.0000\n",
            "Epoch 413/700\n",
            "403/403 [==============================] - 1s 2ms/step - loss: 293857263616.0000 - val_loss: 2038116909056.0000\n",
            "Epoch 414/700\n",
            "403/403 [==============================] - 1s 2ms/step - loss: 290664972288.0000 - val_loss: 2074851672064.0000\n",
            "Epoch 415/700\n",
            "403/403 [==============================] - 1s 1ms/step - loss: 304746790912.0000 - val_loss: 2090726981632.0000\n",
            "Epoch 416/700\n",
            "403/403 [==============================] - 1s 2ms/step - loss: 300315443200.0000 - val_loss: 2204190375936.0000\n",
            "Epoch 417/700\n",
            "403/403 [==============================] - 1s 2ms/step - loss: 274935119872.0000 - val_loss: 2098617384960.0000\n",
            "Epoch 418/700\n",
            "403/403 [==============================] - 1s 1ms/step - loss: 273975902208.0000 - val_loss: 2086257426432.0000\n",
            "Epoch 419/700\n",
            "403/403 [==============================] - 1s 2ms/step - loss: 270240333824.0000 - val_loss: 2005813428224.0000\n",
            "Epoch 420/700\n",
            "403/403 [==============================] - 1s 2ms/step - loss: 270321319936.0000 - val_loss: 2122829660160.0000\n",
            "Epoch 421/700\n",
            "403/403 [==============================] - 1s 2ms/step - loss: 260029808640.0000 - val_loss: 2010041024512.0000\n",
            "Epoch 422/700\n",
            "403/403 [==============================] - 1s 2ms/step - loss: 285392306176.0000 - val_loss: 1996952698880.0000\n",
            "Epoch 423/700\n",
            "403/403 [==============================] - 1s 2ms/step - loss: 268127633408.0000 - val_loss: 2121566650368.0000\n",
            "Epoch 424/700\n",
            "403/403 [==============================] - 1s 2ms/step - loss: 284592013312.0000 - val_loss: 2091645009920.0000\n",
            "Epoch 425/700\n",
            "403/403 [==============================] - 1s 2ms/step - loss: 270543732736.0000 - val_loss: 2131637174272.0000\n",
            "Epoch 426/700\n",
            "403/403 [==============================] - 1s 2ms/step - loss: 260954046464.0000 - val_loss: 2083817390080.0000\n",
            "Epoch 427/700\n",
            "403/403 [==============================] - 1s 2ms/step - loss: 261452513280.0000 - val_loss: 2139078000640.0000\n",
            "Epoch 428/700\n",
            "403/403 [==============================] - 1s 1ms/step - loss: 268458770432.0000 - val_loss: 2032633511936.0000\n",
            "Epoch 429/700\n",
            "403/403 [==============================] - 1s 1ms/step - loss: 284981002240.0000 - val_loss: 2020033429504.0000\n",
            "Epoch 430/700\n",
            "403/403 [==============================] - 1s 2ms/step - loss: 256785367040.0000 - val_loss: 2095546105856.0000\n",
            "Epoch 431/700\n",
            "403/403 [==============================] - 1s 2ms/step - loss: 249023250432.0000 - val_loss: 2001165352960.0000\n",
            "Epoch 432/700\n",
            "403/403 [==============================] - 1s 1ms/step - loss: 274473992192.0000 - val_loss: 2138235731968.0000\n",
            "Epoch 433/700\n",
            "403/403 [==============================] - 1s 2ms/step - loss: 242781257728.0000 - val_loss: 2114098167808.0000\n",
            "Epoch 434/700\n",
            "403/403 [==============================] - 1s 2ms/step - loss: 268980125696.0000 - val_loss: 2087793459200.0000\n",
            "Epoch 435/700\n",
            "403/403 [==============================] - 1s 1ms/step - loss: 280640487424.0000 - val_loss: 2108940484608.0000\n",
            "Epoch 436/700\n",
            "403/403 [==============================] - 1s 1ms/step - loss: 260301029376.0000 - val_loss: 2017686978560.0000\n",
            "Epoch 437/700\n",
            "403/403 [==============================] - 1s 1ms/step - loss: 268702875648.0000 - val_loss: 2138610597888.0000\n",
            "Epoch 438/700\n",
            "403/403 [==============================] - 1s 1ms/step - loss: 257844461568.0000 - val_loss: 2118519226368.0000\n",
            "Epoch 439/700\n",
            "403/403 [==============================] - 1s 1ms/step - loss: 255552028672.0000 - val_loss: 2029013565440.0000\n",
            "Epoch 440/700\n",
            "403/403 [==============================] - 1s 1ms/step - loss: 235948965888.0000 - val_loss: 2327872536576.0000\n",
            "Epoch 441/700\n",
            "403/403 [==============================] - 1s 1ms/step - loss: 251597864960.0000 - val_loss: 2052345167872.0000\n",
            "Epoch 442/700\n",
            "403/403 [==============================] - 1s 1ms/step - loss: 245283028992.0000 - val_loss: 2019598270464.0000\n",
            "Epoch 443/700\n",
            "403/403 [==============================] - 1s 2ms/step - loss: 238670020608.0000 - val_loss: 2426890878976.0000\n",
            "Epoch 444/700\n",
            "403/403 [==============================] - 1s 2ms/step - loss: 266078388224.0000 - val_loss: 2115178332160.0000\n",
            "Epoch 445/700\n",
            "403/403 [==============================] - 1s 2ms/step - loss: 284178186240.0000 - val_loss: 2087627915264.0000\n",
            "Epoch 446/700\n",
            "403/403 [==============================] - 1s 2ms/step - loss: 258458107904.0000 - val_loss: 2138206896128.0000\n",
            "Epoch 447/700\n",
            "403/403 [==============================] - 1s 2ms/step - loss: 230818496512.0000 - val_loss: 2227866959872.0000\n",
            "Epoch 448/700\n",
            "403/403 [==============================] - 1s 2ms/step - loss: 237828784128.0000 - val_loss: 2025024126976.0000\n",
            "Epoch 449/700\n",
            "403/403 [==============================] - 1s 2ms/step - loss: 231279263744.0000 - val_loss: 2030203568128.0000\n",
            "Epoch 450/700\n",
            "403/403 [==============================] - 1s 2ms/step - loss: 237395017728.0000 - val_loss: 2202894860288.0000\n",
            "Epoch 451/700\n",
            "403/403 [==============================] - 1s 2ms/step - loss: 233523347456.0000 - val_loss: 2054710886400.0000\n",
            "Epoch 452/700\n",
            "403/403 [==============================] - 1s 2ms/step - loss: 261461032960.0000 - val_loss: 2105751240704.0000\n",
            "Epoch 453/700\n",
            "403/403 [==============================] - 1s 2ms/step - loss: 250938949632.0000 - val_loss: 2150873038848.0000\n",
            "Epoch 454/700\n",
            "403/403 [==============================] - 1s 1ms/step - loss: 232457306112.0000 - val_loss: 2040097931264.0000\n",
            "Epoch 455/700\n",
            "403/403 [==============================] - 1s 1ms/step - loss: 229716410368.0000 - val_loss: 2055366377472.0000\n",
            "Epoch 456/700\n",
            "403/403 [==============================] - 1s 1ms/step - loss: 218982236160.0000 - val_loss: 2067734331392.0000\n",
            "Epoch 457/700\n",
            "403/403 [==============================] - 1s 1ms/step - loss: 229857427456.0000 - val_loss: 2189938655232.0000\n",
            "Epoch 458/700\n",
            "403/403 [==============================] - 1s 1ms/step - loss: 255876907008.0000 - val_loss: 2097669079040.0000\n",
            "Epoch 459/700\n",
            "403/403 [==============================] - 1s 1ms/step - loss: 272946806784.0000 - val_loss: 2141819764736.0000\n",
            "Epoch 460/700\n",
            "403/403 [==============================] - 1s 1ms/step - loss: 229851103232.0000 - val_loss: 2132196851712.0000\n",
            "Epoch 461/700\n",
            "403/403 [==============================] - 1s 2ms/step - loss: 213082963968.0000 - val_loss: 2156958973952.0000\n",
            "Epoch 462/700\n",
            "403/403 [==============================] - 1s 1ms/step - loss: 215200563200.0000 - val_loss: 2097850744832.0000\n",
            "Epoch 463/700\n",
            "403/403 [==============================] - 1s 1ms/step - loss: 232433434624.0000 - val_loss: 2171323416576.0000\n",
            "Epoch 464/700\n",
            "403/403 [==============================] - 1s 1ms/step - loss: 209144889344.0000 - val_loss: 2074680229888.0000\n",
            "Epoch 465/700\n",
            "403/403 [==============================] - 1s 1ms/step - loss: 222702239744.0000 - val_loss: 2243347873792.0000\n",
            "Epoch 466/700\n",
            "403/403 [==============================] - 1s 1ms/step - loss: 214386524160.0000 - val_loss: 2184123121664.0000\n",
            "Epoch 467/700\n",
            "403/403 [==============================] - 1s 1ms/step - loss: 205903003648.0000 - val_loss: 2232853987328.0000\n",
            "Epoch 468/700\n",
            "403/403 [==============================] - 1s 1ms/step - loss: 205218512896.0000 - val_loss: 2163589382144.0000\n",
            "Epoch 469/700\n",
            "403/403 [==============================] - 1s 1ms/step - loss: 203792400384.0000 - val_loss: 2265290637312.0000\n",
            "Epoch 470/700\n",
            "403/403 [==============================] - 1s 1ms/step - loss: 231832731648.0000 - val_loss: 2153394601984.0000\n",
            "Epoch 471/700\n",
            "403/403 [==============================] - 1s 1ms/step - loss: 228981325824.0000 - val_loss: 2336569163776.0000\n",
            "Epoch 472/700\n",
            "403/403 [==============================] - 1s 1ms/step - loss: 215364829184.0000 - val_loss: 2164770865152.0000\n",
            "Epoch 473/700\n",
            "403/403 [==============================] - 1s 1ms/step - loss: 199293698048.0000 - val_loss: 2136551849984.0000\n",
            "Epoch 474/700\n",
            "403/403 [==============================] - 1s 1ms/step - loss: 208390717440.0000 - val_loss: 2319646195712.0000\n",
            "Epoch 475/700\n",
            "403/403 [==============================] - 1s 2ms/step - loss: 290079113216.0000 - val_loss: 2158825439232.0000\n",
            "Epoch 476/700\n",
            "403/403 [==============================] - 1s 2ms/step - loss: 198862028800.0000 - val_loss: 2127450734592.0000\n",
            "Epoch 477/700\n",
            "403/403 [==============================] - 1s 1ms/step - loss: 210444042240.0000 - val_loss: 2092180963328.0000\n",
            "Epoch 478/700\n",
            "403/403 [==============================] - 1s 2ms/step - loss: 195474702336.0000 - val_loss: 2156499697664.0000\n",
            "Epoch 479/700\n",
            "403/403 [==============================] - 1s 1ms/step - loss: 206759657472.0000 - val_loss: 2222323924992.0000\n",
            "Epoch 480/700\n",
            "403/403 [==============================] - 1s 1ms/step - loss: 195301015552.0000 - val_loss: 2158824521728.0000\n",
            "Epoch 481/700\n",
            "403/403 [==============================] - 1s 2ms/step - loss: 192439582720.0000 - val_loss: 2250352361472.0000\n",
            "Epoch 482/700\n",
            "403/403 [==============================] - 1s 2ms/step - loss: 204431327232.0000 - val_loss: 2325381906432.0000\n",
            "Epoch 483/700\n",
            "403/403 [==============================] - 1s 2ms/step - loss: 218607304704.0000 - val_loss: 2169872056320.0000\n",
            "Epoch 484/700\n",
            "403/403 [==============================] - 1s 1ms/step - loss: 217773260800.0000 - val_loss: 2231927308288.0000\n",
            "Epoch 485/700\n",
            "403/403 [==============================] - 1s 2ms/step - loss: 204225462272.0000 - val_loss: 2286277623808.0000\n",
            "Epoch 486/700\n",
            "403/403 [==============================] - 1s 2ms/step - loss: 192187138048.0000 - val_loss: 2239964119040.0000\n",
            "Epoch 487/700\n",
            "403/403 [==============================] - 1s 2ms/step - loss: 207724576768.0000 - val_loss: 2226573803520.0000\n",
            "Epoch 488/700\n",
            "403/403 [==============================] - 1s 2ms/step - loss: 207223341056.0000 - val_loss: 2234861223936.0000\n",
            "Epoch 489/700\n",
            "403/403 [==============================] - 1s 2ms/step - loss: 202188161024.0000 - val_loss: 2209160101888.0000\n",
            "Epoch 490/700\n",
            "403/403 [==============================] - 1s 1ms/step - loss: 187167997952.0000 - val_loss: 2206871584768.0000\n",
            "Epoch 491/700\n",
            "403/403 [==============================] - 1s 2ms/step - loss: 276168278016.0000 - val_loss: 2272664485888.0000\n",
            "Epoch 492/700\n",
            "403/403 [==============================] - 1s 1ms/step - loss: 194346876928.0000 - val_loss: 2334667309056.0000\n",
            "Epoch 493/700\n",
            "403/403 [==============================] - 1s 2ms/step - loss: 182417932288.0000 - val_loss: 2209104527360.0000\n",
            "Epoch 494/700\n",
            "403/403 [==============================] - 1s 2ms/step - loss: 182402711552.0000 - val_loss: 2138313195520.0000\n",
            "Epoch 495/700\n",
            "403/403 [==============================] - 1s 2ms/step - loss: 180997472256.0000 - val_loss: 2245210931200.0000\n",
            "Epoch 496/700\n",
            "403/403 [==============================] - 1s 2ms/step - loss: 179910672384.0000 - val_loss: 2209653194752.0000\n",
            "Epoch 497/700\n",
            "403/403 [==============================] - 1s 2ms/step - loss: 188041248768.0000 - val_loss: 2369616871424.0000\n",
            "Epoch 498/700\n",
            "403/403 [==============================] - 1s 2ms/step - loss: 179619332096.0000 - val_loss: 2168969625600.0000\n",
            "Epoch 499/700\n",
            "403/403 [==============================] - 1s 2ms/step - loss: 180864647168.0000 - val_loss: 2253341589504.0000\n",
            "Epoch 500/700\n",
            "403/403 [==============================] - 1s 2ms/step - loss: 184292835328.0000 - val_loss: 2218488758272.0000\n",
            "Epoch 501/700\n",
            "403/403 [==============================] - 1s 2ms/step - loss: 221349281792.0000 - val_loss: 2258785796096.0000\n",
            "Epoch 502/700\n",
            "403/403 [==============================] - 1s 2ms/step - loss: 240375349248.0000 - val_loss: 2220924076032.0000\n",
            "Epoch 503/700\n",
            "403/403 [==============================] - 1s 1ms/step - loss: 211689963520.0000 - val_loss: 2191700393984.0000\n",
            "Epoch 504/700\n",
            "403/403 [==============================] - 1s 1ms/step - loss: 188976431104.0000 - val_loss: 2143120130048.0000\n",
            "Epoch 505/700\n",
            "403/403 [==============================] - 1s 2ms/step - loss: 188267495424.0000 - val_loss: 2172807938048.0000\n",
            "Epoch 506/700\n",
            "403/403 [==============================] - 1s 1ms/step - loss: 203156144128.0000 - val_loss: 2294753525760.0000\n",
            "Epoch 507/700\n",
            "403/403 [==============================] - 1s 1ms/step - loss: 189433675776.0000 - val_loss: 2280561836032.0000\n",
            "Epoch 508/700\n",
            "403/403 [==============================] - 1s 2ms/step - loss: 177110401024.0000 - val_loss: 2269771202560.0000\n",
            "Epoch 509/700\n",
            "403/403 [==============================] - 1s 2ms/step - loss: 199936999424.0000 - val_loss: 2632757805056.0000\n",
            "Epoch 510/700\n",
            "403/403 [==============================] - 1s 2ms/step - loss: 178504597504.0000 - val_loss: 2381927940096.0000\n",
            "Epoch 511/700\n",
            "403/403 [==============================] - 1s 2ms/step - loss: 181304180736.0000 - val_loss: 2270528536576.0000\n",
            "Epoch 512/700\n",
            "403/403 [==============================] - 1s 1ms/step - loss: 195235282944.0000 - val_loss: 2315343364096.0000\n",
            "Epoch 513/700\n",
            "403/403 [==============================] - 1s 2ms/step - loss: 185039716352.0000 - val_loss: 2253092028416.0000\n",
            "Epoch 514/700\n",
            "403/403 [==============================] - 1s 2ms/step - loss: 173028982784.0000 - val_loss: 2252530778112.0000\n",
            "Epoch 515/700\n",
            "403/403 [==============================] - 1s 2ms/step - loss: 189436723200.0000 - val_loss: 2322629394432.0000\n",
            "Epoch 516/700\n",
            "403/403 [==============================] - 1s 2ms/step - loss: 232387756032.0000 - val_loss: 2207022579712.0000\n",
            "Epoch 517/700\n",
            "403/403 [==============================] - 1s 2ms/step - loss: 180894744576.0000 - val_loss: 2307589668864.0000\n",
            "Epoch 518/700\n",
            "403/403 [==============================] - 1s 2ms/step - loss: 175671836672.0000 - val_loss: 2169906135040.0000\n",
            "Epoch 519/700\n",
            "403/403 [==============================] - 1s 2ms/step - loss: 208743677952.0000 - val_loss: 2370421391360.0000\n",
            "Epoch 520/700\n"
          ]
        },
        {
          "name": "stdout",
          "output_type": "stream",
          "text": [
            "403/403 [==============================] - 1s 2ms/step - loss: 206432206848.0000 - val_loss: 2216351498240.0000\n",
            "Epoch 521/700\n",
            "403/403 [==============================] - 1s 1ms/step - loss: 179425869824.0000 - val_loss: 2321376870400.0000\n",
            "Epoch 522/700\n",
            "403/403 [==============================] - 1s 2ms/step - loss: 169218097152.0000 - val_loss: 2179468361728.0000\n",
            "Epoch 523/700\n",
            "403/403 [==============================] - 1s 1ms/step - loss: 187286077440.0000 - val_loss: 2310990725120.0000\n",
            "Epoch 524/700\n",
            "403/403 [==============================] - 1s 2ms/step - loss: 194380759040.0000 - val_loss: 2279818395648.0000\n",
            "Epoch 525/700\n",
            "403/403 [==============================] - 1s 2ms/step - loss: 195365994496.0000 - val_loss: 2341801558016.0000\n",
            "Epoch 526/700\n",
            "403/403 [==============================] - 1s 2ms/step - loss: 203436589056.0000 - val_loss: 2297895583744.0000\n",
            "Epoch 527/700\n",
            "403/403 [==============================] - 1s 1ms/step - loss: 204131500032.0000 - val_loss: 2283845713920.0000\n",
            "Epoch 528/700\n",
            "403/403 [==============================] - 1s 1ms/step - loss: 179962822656.0000 - val_loss: 2290767888384.0000\n",
            "Epoch 529/700\n",
            "403/403 [==============================] - 1s 2ms/step - loss: 176012361728.0000 - val_loss: 2257210310656.0000\n",
            "Epoch 530/700\n",
            "403/403 [==============================] - 1s 2ms/step - loss: 178958352384.0000 - val_loss: 2201258819584.0000\n",
            "Epoch 531/700\n",
            "403/403 [==============================] - 1s 2ms/step - loss: 172132614144.0000 - val_loss: 2208147701760.0000\n",
            "Epoch 532/700\n",
            "403/403 [==============================] - 1s 2ms/step - loss: 197940592640.0000 - val_loss: 2232161665024.0000\n",
            "Epoch 533/700\n",
            "403/403 [==============================] - 1s 2ms/step - loss: 194363359232.0000 - val_loss: 2421251899392.0000\n",
            "Epoch 534/700\n",
            "403/403 [==============================] - 1s 1ms/step - loss: 196047749120.0000 - val_loss: 2223060811776.0000\n",
            "Epoch 535/700\n",
            "403/403 [==============================] - 1s 2ms/step - loss: 197831671808.0000 - val_loss: 2239532105728.0000\n",
            "Epoch 536/700\n",
            "403/403 [==============================] - 1s 2ms/step - loss: 190112006144.0000 - val_loss: 2239749160960.0000\n",
            "Epoch 537/700\n",
            "403/403 [==============================] - 1s 2ms/step - loss: 210311626752.0000 - val_loss: 2287249391616.0000\n",
            "Epoch 538/700\n",
            "403/403 [==============================] - 1s 2ms/step - loss: 206990098432.0000 - val_loss: 2177582891008.0000\n",
            "Epoch 539/700\n",
            "403/403 [==============================] - 1s 2ms/step - loss: 193743093760.0000 - val_loss: 2260552384512.0000\n",
            "Epoch 540/700\n",
            "403/403 [==============================] - 1s 2ms/step - loss: 173844414464.0000 - val_loss: 2251210883072.0000\n",
            "Epoch 541/700\n",
            "403/403 [==============================] - 1s 1ms/step - loss: 190957355008.0000 - val_loss: 2509668876288.0000\n",
            "Epoch 542/700\n",
            "403/403 [==============================] - 1s 1ms/step - loss: 173929054208.0000 - val_loss: 2239751520256.0000\n",
            "Epoch 543/700\n",
            "403/403 [==============================] - 1s 2ms/step - loss: 169518465024.0000 - val_loss: 2235861303296.0000\n",
            "Epoch 544/700\n",
            "403/403 [==============================] - 1s 2ms/step - loss: 195095576576.0000 - val_loss: 2274623225856.0000\n",
            "Epoch 545/700\n",
            "403/403 [==============================] - 1s 2ms/step - loss: 181640085504.0000 - val_loss: 2243810033664.0000\n",
            "Epoch 546/700\n",
            "403/403 [==============================] - 1s 1ms/step - loss: 172420186112.0000 - val_loss: 2218928898048.0000\n",
            "Epoch 547/700\n",
            "403/403 [==============================] - 1s 2ms/step - loss: 180165378048.0000 - val_loss: 2291981877248.0000\n",
            "Epoch 548/700\n",
            "403/403 [==============================] - 1s 2ms/step - loss: 161847984128.0000 - val_loss: 2220601376768.0000\n",
            "Epoch 549/700\n",
            "403/403 [==============================] - 1s 2ms/step - loss: 158495948800.0000 - val_loss: 2235959345152.0000\n",
            "Epoch 550/700\n",
            "403/403 [==============================] - 1s 2ms/step - loss: 181106868224.0000 - val_loss: 2152083488768.0000\n",
            "Epoch 551/700\n",
            "403/403 [==============================] - 1s 2ms/step - loss: 197684576256.0000 - val_loss: 2341224841216.0000\n",
            "Epoch 552/700\n",
            "403/403 [==============================] - 1s 2ms/step - loss: 189764255744.0000 - val_loss: 2189538230272.0000\n",
            "Epoch 553/700\n",
            "403/403 [==============================] - 1s 2ms/step - loss: 184050319360.0000 - val_loss: 2526091673600.0000\n",
            "Epoch 554/700\n",
            "403/403 [==============================] - 1s 2ms/step - loss: 185181323264.0000 - val_loss: 2398495440896.0000\n",
            "Epoch 555/700\n",
            "403/403 [==============================] - 1s 2ms/step - loss: 210114822144.0000 - val_loss: 2299819458560.0000\n",
            "Epoch 556/700\n",
            "403/403 [==============================] - 1s 2ms/step - loss: 185277415424.0000 - val_loss: 2338817835008.0000\n",
            "Epoch 557/700\n",
            "403/403 [==============================] - 1s 2ms/step - loss: 172032360448.0000 - val_loss: 2280561836032.0000\n",
            "Epoch 558/700\n",
            "403/403 [==============================] - 1s 2ms/step - loss: 160677347328.0000 - val_loss: 2245667586048.0000\n",
            "Epoch 559/700\n",
            "403/403 [==============================] - 1s 2ms/step - loss: 165566562304.0000 - val_loss: 2382576222208.0000\n",
            "Epoch 560/700\n",
            "403/403 [==============================] - 1s 2ms/step - loss: 203903827968.0000 - val_loss: 2222273855488.0000\n",
            "Epoch 561/700\n",
            "403/403 [==============================] - 1s 1ms/step - loss: 205648461824.0000 - val_loss: 2245505056768.0000\n",
            "Epoch 562/700\n",
            "403/403 [==============================] - 1s 1ms/step - loss: 189180264448.0000 - val_loss: 2179842572288.0000\n",
            "Epoch 563/700\n",
            "403/403 [==============================] - 1s 2ms/step - loss: 190528782336.0000 - val_loss: 2248515780608.0000\n",
            "Epoch 564/700\n",
            "403/403 [==============================] - 1s 2ms/step - loss: 166307512320.0000 - val_loss: 2196842610688.0000\n",
            "Epoch 565/700\n",
            "403/403 [==============================] - 1s 2ms/step - loss: 167793033216.0000 - val_loss: 2284702138368.0000\n",
            "Epoch 566/700\n",
            "403/403 [==============================] - 1s 2ms/step - loss: 200197570560.0000 - val_loss: 2480716644352.0000\n",
            "Epoch 567/700\n",
            "403/403 [==============================] - 1s 1ms/step - loss: 175529115648.0000 - val_loss: 2189091536896.0000\n",
            "Epoch 568/700\n",
            "403/403 [==============================] - 1s 2ms/step - loss: 161907523584.0000 - val_loss: 2224755310592.0000\n",
            "Epoch 569/700\n",
            "403/403 [==============================] - 1s 1ms/step - loss: 166246514688.0000 - val_loss: 2200805572608.0000\n",
            "Epoch 570/700\n",
            "403/403 [==============================] - 1s 1ms/step - loss: 155414872064.0000 - val_loss: 2321005936640.0000\n",
            "Epoch 571/700\n",
            "403/403 [==============================] - 1s 2ms/step - loss: 171789434880.0000 - val_loss: 2209537327104.0000\n",
            "Epoch 572/700\n",
            "403/403 [==============================] - 1s 2ms/step - loss: 174219378688.0000 - val_loss: 2353150820352.0000\n",
            "Epoch 573/700\n",
            "403/403 [==============================] - 1s 2ms/step - loss: 233828810752.0000 - val_loss: 2250669555712.0000\n",
            "Epoch 574/700\n",
            "403/403 [==============================] - 1s 2ms/step - loss: 180945928192.0000 - val_loss: 2389350023168.0000\n",
            "Epoch 575/700\n",
            "403/403 [==============================] - 1s 2ms/step - loss: 168773713920.0000 - val_loss: 2283034640384.0000\n",
            "Epoch 576/700\n",
            "403/403 [==============================] - 1s 1ms/step - loss: 169693134848.0000 - val_loss: 2283361796096.0000\n",
            "Epoch 577/700\n",
            "403/403 [==============================] - 1s 1ms/step - loss: 164652646400.0000 - val_loss: 2179956473856.0000\n",
            "Epoch 578/700\n",
            "403/403 [==============================] - 1s 1ms/step - loss: 153878020096.0000 - val_loss: 2309333188608.0000\n",
            "Epoch 579/700\n",
            "403/403 [==============================] - 1s 1ms/step - loss: 168221638656.0000 - val_loss: 2265062834176.0000\n",
            "Epoch 580/700\n",
            "403/403 [==============================] - 1s 1ms/step - loss: 157563387904.0000 - val_loss: 2368168263680.0000\n",
            "Epoch 581/700\n",
            "403/403 [==============================] - 1s 2ms/step - loss: 169361014784.0000 - val_loss: 2345808429056.0000\n",
            "Epoch 582/700\n",
            "403/403 [==============================] - 1s 2ms/step - loss: 179579158528.0000 - val_loss: 2220109594624.0000\n",
            "Epoch 583/700\n",
            "403/403 [==============================] - 1s 2ms/step - loss: 174234091520.0000 - val_loss: 2269791125504.0000\n",
            "Epoch 584/700\n",
            "403/403 [==============================] - 1s 2ms/step - loss: 163518267392.0000 - val_loss: 2273763655680.0000\n",
            "Epoch 585/700\n",
            "403/403 [==============================] - 1s 2ms/step - loss: 206648033280.0000 - val_loss: 2330244677632.0000\n",
            "Epoch 586/700\n",
            "403/403 [==============================] - 1s 2ms/step - loss: 170910908416.0000 - val_loss: 2272276512768.0000\n",
            "Epoch 587/700\n",
            "403/403 [==============================] - 1s 1ms/step - loss: 163253452800.0000 - val_loss: 2242943123456.0000\n",
            "Epoch 588/700\n",
            "403/403 [==============================] - 1s 2ms/step - loss: 173139509248.0000 - val_loss: 2313614786560.0000\n",
            "Epoch 589/700\n",
            "403/403 [==============================] - 1s 1ms/step - loss: 165773606912.0000 - val_loss: 2282105339904.0000\n",
            "Epoch 590/700\n",
            "403/403 [==============================] - 1s 2ms/step - loss: 174060879872.0000 - val_loss: 2361355403264.0000\n",
            "Epoch 591/700\n",
            "403/403 [==============================] - 1s 2ms/step - loss: 188055830528.0000 - val_loss: 2313692643328.0000\n",
            "Epoch 592/700\n",
            "403/403 [==============================] - 1s 1ms/step - loss: 162147926016.0000 - val_loss: 2315322392576.0000\n",
            "Epoch 593/700\n",
            "403/403 [==============================] - 1s 2ms/step - loss: 184458821632.0000 - val_loss: 2263233069056.0000\n",
            "Epoch 594/700\n",
            "403/403 [==============================] - 1s 1ms/step - loss: 198853066752.0000 - val_loss: 2269456629760.0000\n",
            "Epoch 595/700\n",
            "403/403 [==============================] - 1s 1ms/step - loss: 172510986240.0000 - val_loss: 2319673720832.0000\n",
            "Epoch 596/700\n",
            "403/403 [==============================] - 1s 1ms/step - loss: 179723042816.0000 - val_loss: 2340935434240.0000\n",
            "Epoch 597/700\n",
            "403/403 [==============================] - 1s 1ms/step - loss: 164444733440.0000 - val_loss: 2279716683776.0000\n",
            "Epoch 598/700\n",
            "403/403 [==============================] - 1s 2ms/step - loss: 158662246400.0000 - val_loss: 2268711354368.0000\n",
            "Epoch 599/700\n",
            "403/403 [==============================] - 1s 2ms/step - loss: 169776316416.0000 - val_loss: 2424743395328.0000\n",
            "Epoch 600/700\n",
            "403/403 [==============================] - 1s 2ms/step - loss: 167132987392.0000 - val_loss: 2269747871744.0000\n",
            "Epoch 601/700\n",
            "403/403 [==============================] - 1s 2ms/step - loss: 168544813056.0000 - val_loss: 2241676443648.0000\n",
            "Epoch 602/700\n",
            "403/403 [==============================] - 1s 2ms/step - loss: 162246410240.0000 - val_loss: 2265373736960.0000\n",
            "Epoch 603/700\n",
            "403/403 [==============================] - 1s 2ms/step - loss: 188873097216.0000 - val_loss: 2376767897600.0000\n",
            "Epoch 604/700\n",
            "403/403 [==============================] - 1s 2ms/step - loss: 172750897152.0000 - val_loss: 2330573668352.0000\n",
            "Epoch 605/700\n",
            "403/403 [==============================] - 1s 2ms/step - loss: 185148063744.0000 - val_loss: 2333259595776.0000\n",
            "Epoch 606/700\n",
            "403/403 [==============================] - 1s 2ms/step - loss: 182884646912.0000 - val_loss: 2695825981440.0000\n",
            "Epoch 607/700\n",
            "403/403 [==============================] - 1s 2ms/step - loss: 182487760896.0000 - val_loss: 2359725129728.0000\n",
            "Epoch 608/700\n",
            "403/403 [==============================] - 1s 2ms/step - loss: 192246431744.0000 - val_loss: 2348754141184.0000\n",
            "Epoch 609/700\n",
            "403/403 [==============================] - 1s 2ms/step - loss: 160172146688.0000 - val_loss: 2219901190144.0000\n",
            "Epoch 610/700\n",
            "403/403 [==============================] - 1s 2ms/step - loss: 173670662144.0000 - val_loss: 2358735536128.0000\n",
            "Epoch 611/700\n",
            "403/403 [==============================] - 1s 2ms/step - loss: 188331737088.0000 - val_loss: 2234465910784.0000\n",
            "Epoch 612/700\n",
            "403/403 [==============================] - 1s 2ms/step - loss: 177552474112.0000 - val_loss: 2315374297088.0000\n",
            "Epoch 613/700\n",
            "403/403 [==============================] - 1s 2ms/step - loss: 173802291200.0000 - val_loss: 2216973041664.0000\n",
            "Epoch 614/700\n",
            "403/403 [==============================] - 1s 2ms/step - loss: 186036207616.0000 - val_loss: 2247267450880.0000\n",
            "Epoch 615/700\n",
            "403/403 [==============================] - 1s 2ms/step - loss: 176892428288.0000 - val_loss: 2185014149120.0000\n",
            "Epoch 616/700\n",
            "403/403 [==============================] - 1s 2ms/step - loss: 164330225664.0000 - val_loss: 2337314177024.0000\n",
            "Epoch 617/700\n",
            "403/403 [==============================] - 1s 2ms/step - loss: 160351928320.0000 - val_loss: 2418303565824.0000\n",
            "Epoch 618/700\n",
            "403/403 [==============================] - 1s 2ms/step - loss: 175970254848.0000 - val_loss: 2342155976704.0000\n",
            "Epoch 619/700\n",
            "403/403 [==============================] - 1s 2ms/step - loss: 197590417408.0000 - val_loss: 2313238085632.0000\n",
            "Epoch 620/700\n",
            "403/403 [==============================] - 1s 2ms/step - loss: 174174158848.0000 - val_loss: 2332757327872.0000\n",
            "Epoch 621/700\n",
            "403/403 [==============================] - 1s 2ms/step - loss: 155345289216.0000 - val_loss: 2371125248000.0000\n",
            "Epoch 622/700\n",
            "403/403 [==============================] - 1s 2ms/step - loss: 160088375296.0000 - val_loss: 2247470874624.0000\n",
            "Epoch 623/700\n",
            "403/403 [==============================] - 1s 2ms/step - loss: 172720914432.0000 - val_loss: 2418121900032.0000\n",
            "Epoch 624/700\n",
            "403/403 [==============================] - 1s 1ms/step - loss: 169160818688.0000 - val_loss: 2331496939520.0000\n",
            "Epoch 625/700\n",
            "403/403 [==============================] - 1s 1ms/step - loss: 177207558144.0000 - val_loss: 2283082612736.0000\n",
            "Epoch 626/700\n",
            "403/403 [==============================] - 1s 1ms/step - loss: 199107379200.0000 - val_loss: 2330507345920.0000\n",
            "Epoch 627/700\n",
            "403/403 [==============================] - 1s 2ms/step - loss: 154680999936.0000 - val_loss: 2232718983168.0000\n",
            "Epoch 628/700\n",
            "403/403 [==============================] - 1s 2ms/step - loss: 161726627840.0000 - val_loss: 2356652015616.0000\n",
            "Epoch 629/700\n",
            "403/403 [==============================] - 1s 2ms/step - loss: 156366143488.0000 - val_loss: 2393620873216.0000\n",
            "Epoch 630/700\n",
            "403/403 [==============================] - 1s 2ms/step - loss: 156021587968.0000 - val_loss: 2286461648896.0000\n",
            "Epoch 631/700\n",
            "403/403 [==============================] - 1s 2ms/step - loss: 183526998016.0000 - val_loss: 2263445143552.0000\n",
            "Epoch 632/700\n",
            "403/403 [==============================] - 1s 2ms/step - loss: 170788782080.0000 - val_loss: 2322333171712.0000\n",
            "Epoch 633/700\n",
            "403/403 [==============================] - 1s 2ms/step - loss: 167671840768.0000 - val_loss: 2328025628672.0000\n",
            "Epoch 634/700\n",
            "403/403 [==============================] - 1s 2ms/step - loss: 165329059840.0000 - val_loss: 2391570120704.0000\n",
            "Epoch 635/700\n",
            "403/403 [==============================] - 1s 1ms/step - loss: 183016030208.0000 - val_loss: 2149261639680.0000\n",
            "Epoch 636/700\n",
            "403/403 [==============================] - 1s 1ms/step - loss: 183581097984.0000 - val_loss: 2337767686144.0000\n",
            "Epoch 637/700\n",
            "403/403 [==============================] - 1s 2ms/step - loss: 197712805888.0000 - val_loss: 2380864946176.0000\n",
            "Epoch 638/700\n",
            "403/403 [==============================] - 1s 2ms/step - loss: 185865256960.0000 - val_loss: 2296041177088.0000\n",
            "Epoch 639/700\n",
            "403/403 [==============================] - 1s 1ms/step - loss: 173125402624.0000 - val_loss: 2194402967552.0000\n",
            "Epoch 640/700\n",
            "403/403 [==============================] - 1s 2ms/step - loss: 177284890624.0000 - val_loss: 2419055132672.0000\n",
            "Epoch 641/700\n",
            "403/403 [==============================] - 1s 2ms/step - loss: 197228560384.0000 - val_loss: 2306264268800.0000\n",
            "Epoch 642/700\n",
            "403/403 [==============================] - 1s 1ms/step - loss: 172712067072.0000 - val_loss: 2368597131264.0000\n",
            "Epoch 643/700\n",
            "403/403 [==============================] - 1s 1ms/step - loss: 169215705088.0000 - val_loss: 2246389792768.0000\n",
            "Epoch 644/700\n",
            "403/403 [==============================] - 1s 2ms/step - loss: 163703275520.0000 - val_loss: 2255904571392.0000\n",
            "Epoch 645/700\n",
            "403/403 [==============================] - 1s 2ms/step - loss: 159091376128.0000 - val_loss: 2285699334144.0000\n",
            "Epoch 646/700\n",
            "403/403 [==============================] - 1s 2ms/step - loss: 154121109504.0000 - val_loss: 2205399646208.0000\n",
            "Epoch 647/700\n",
            "403/403 [==============================] - 1s 2ms/step - loss: 166330253312.0000 - val_loss: 2558673551360.0000\n",
            "Epoch 648/700\n",
            "403/403 [==============================] - 1s 2ms/step - loss: 187568111616.0000 - val_loss: 2334102388736.0000\n",
            "Epoch 649/700\n",
            "403/403 [==============================] - 1s 2ms/step - loss: 163289088000.0000 - val_loss: 2248809906176.0000\n",
            "Epoch 650/700\n"
          ]
        },
        {
          "name": "stdout",
          "output_type": "stream",
          "text": [
            "403/403 [==============================] - 1s 2ms/step - loss: 177234608128.0000 - val_loss: 2312459255808.0000\n",
            "Epoch 651/700\n",
            "403/403 [==============================] - 1s 1ms/step - loss: 193050591232.0000 - val_loss: 2423443161088.0000\n",
            "Epoch 652/700\n",
            "403/403 [==============================] - 1s 1ms/step - loss: 169263661056.0000 - val_loss: 2277191188480.0000\n",
            "Epoch 653/700\n",
            "403/403 [==============================] - 1s 1ms/step - loss: 141415284736.0000 - val_loss: 2172649603072.0000\n",
            "Epoch 654/700\n",
            "403/403 [==============================] - 1s 1ms/step - loss: 145253941248.0000 - val_loss: 2305867382784.0000\n",
            "Epoch 655/700\n",
            "403/403 [==============================] - 1s 2ms/step - loss: 152044224512.0000 - val_loss: 2255572959232.0000\n",
            "Epoch 656/700\n",
            "403/403 [==============================] - 1s 2ms/step - loss: 182842884096.0000 - val_loss: 2278103187456.0000\n",
            "Epoch 657/700\n",
            "403/403 [==============================] - 1s 2ms/step - loss: 160176209920.0000 - val_loss: 2587741126656.0000\n",
            "Epoch 658/700\n",
            "403/403 [==============================] - 1s 2ms/step - loss: 180598816768.0000 - val_loss: 2329600065536.0000\n",
            "Epoch 659/700\n",
            "403/403 [==============================] - 1s 2ms/step - loss: 166894256128.0000 - val_loss: 2270183292928.0000\n",
            "Epoch 660/700\n",
            "403/403 [==============================] - 1s 2ms/step - loss: 155567374336.0000 - val_loss: 2236942123008.0000\n",
            "Epoch 661/700\n",
            "403/403 [==============================] - 1s 2ms/step - loss: 190049157120.0000 - val_loss: 2242640347136.0000\n",
            "Epoch 662/700\n",
            "403/403 [==============================] - 1s 1ms/step - loss: 196210704384.0000 - val_loss: 2282369056768.0000\n",
            "Epoch 663/700\n",
            "403/403 [==============================] - 1s 2ms/step - loss: 141787807744.0000 - val_loss: 2177309474816.0000\n",
            "Epoch 664/700\n",
            "403/403 [==============================] - 1s 1ms/step - loss: 146566529024.0000 - val_loss: 2355165396992.0000\n",
            "Epoch 665/700\n",
            "403/403 [==============================] - 1s 1ms/step - loss: 150652469248.0000 - val_loss: 2242346483712.0000\n",
            "Epoch 666/700\n",
            "403/403 [==============================] - 1s 2ms/step - loss: 176794419200.0000 - val_loss: 2317102612480.0000\n",
            "Epoch 667/700\n",
            "403/403 [==============================] - 1s 1ms/step - loss: 186109149184.0000 - val_loss: 2269475504128.0000\n",
            "Epoch 668/700\n",
            "403/403 [==============================] - 1s 2ms/step - loss: 172260016128.0000 - val_loss: 2312881831936.0000\n",
            "Epoch 669/700\n",
            "403/403 [==============================] - 1s 2ms/step - loss: 166252462080.0000 - val_loss: 2251243913216.0000\n",
            "Epoch 670/700\n",
            "403/403 [==============================] - 1s 2ms/step - loss: 175657844736.0000 - val_loss: 2217612410880.0000\n",
            "Epoch 671/700\n",
            "403/403 [==============================] - 1s 2ms/step - loss: 156471803904.0000 - val_loss: 2343718354944.0000\n",
            "Epoch 672/700\n",
            "403/403 [==============================] - 1s 2ms/step - loss: 137326649344.0000 - val_loss: 2385753669632.0000\n",
            "Epoch 673/700\n",
            "403/403 [==============================] - 1s 2ms/step - loss: 161429831680.0000 - val_loss: 2175708823552.0000\n",
            "Epoch 674/700\n",
            "403/403 [==============================] - 1s 2ms/step - loss: 228871766016.0000 - val_loss: 2270691328000.0000\n",
            "Epoch 675/700\n",
            "403/403 [==============================] - 1s 1ms/step - loss: 168559902720.0000 - val_loss: 2263969693696.0000\n",
            "Epoch 676/700\n",
            "403/403 [==============================] - 1s 2ms/step - loss: 157268901888.0000 - val_loss: 2314517610496.0000\n",
            "Epoch 677/700\n",
            "403/403 [==============================] - 1s 2ms/step - loss: 153299648512.0000 - val_loss: 2315050549248.0000\n",
            "Epoch 678/700\n",
            "403/403 [==============================] - 1s 1ms/step - loss: 158907793408.0000 - val_loss: 2341986107392.0000\n",
            "Epoch 679/700\n",
            "403/403 [==============================] - 1s 2ms/step - loss: 148903084032.0000 - val_loss: 2328634064896.0000\n",
            "Epoch 680/700\n",
            "403/403 [==============================] - 1s 2ms/step - loss: 183566811136.0000 - val_loss: 2329594560512.0000\n",
            "Epoch 681/700\n",
            "403/403 [==============================] - 1s 1ms/step - loss: 174236844032.0000 - val_loss: 2387642679296.0000\n",
            "Epoch 682/700\n",
            "403/403 [==============================] - 1s 1ms/step - loss: 147106332672.0000 - val_loss: 2292690452480.0000\n",
            "Epoch 683/700\n",
            "403/403 [==============================] - 1s 1ms/step - loss: 195251191808.0000 - val_loss: 2221969768448.0000\n",
            "Epoch 684/700\n",
            "403/403 [==============================] - 1s 1ms/step - loss: 152583274496.0000 - val_loss: 2291597049856.0000\n",
            "Epoch 685/700\n",
            "403/403 [==============================] - 1s 1ms/step - loss: 148021723136.0000 - val_loss: 2291827212288.0000\n",
            "Epoch 686/700\n",
            "403/403 [==============================] - 1s 1ms/step - loss: 180341604352.0000 - val_loss: 2368666337280.0000\n",
            "Epoch 687/700\n",
            "403/403 [==============================] - 1s 2ms/step - loss: 196327800832.0000 - val_loss: 2254068514816.0000\n",
            "Epoch 688/700\n",
            "403/403 [==============================] - 1s 2ms/step - loss: 171066720256.0000 - val_loss: 2302888116224.0000\n",
            "Epoch 689/700\n",
            "403/403 [==============================] - 1s 2ms/step - loss: 154326564864.0000 - val_loss: 2270303092736.0000\n",
            "Epoch 690/700\n",
            "403/403 [==============================] - 1s 2ms/step - loss: 166176538624.0000 - val_loss: 2369173323776.0000\n",
            "Epoch 691/700\n",
            "403/403 [==============================] - 1s 2ms/step - loss: 156410986496.0000 - val_loss: 2272244006912.0000\n",
            "Epoch 692/700\n",
            "403/403 [==============================] - 1s 1ms/step - loss: 153623625728.0000 - val_loss: 2352362815488.0000\n",
            "Epoch 693/700\n",
            "403/403 [==============================] - 1s 2ms/step - loss: 157329145856.0000 - val_loss: 2202396524544.0000\n",
            "Epoch 694/700\n",
            "403/403 [==============================] - 1s 2ms/step - loss: 178868912128.0000 - val_loss: 2260663009280.0000\n",
            "Epoch 695/700\n",
            "403/403 [==============================] - 1s 2ms/step - loss: 168051310592.0000 - val_loss: 2268505309184.0000\n",
            "Epoch 696/700\n",
            "403/403 [==============================] - 1s 2ms/step - loss: 163225878528.0000 - val_loss: 2296363876352.0000\n",
            "Epoch 697/700\n",
            "403/403 [==============================] - 1s 2ms/step - loss: 168017133568.0000 - val_loss: 2207186157568.0000\n",
            "Epoch 698/700\n",
            "403/403 [==============================] - 1s 2ms/step - loss: 167585234944.0000 - val_loss: 2273769684992.0000\n",
            "Epoch 699/700\n",
            "403/403 [==============================] - 1s 2ms/step - loss: 154712129536.0000 - val_loss: 2278053904384.0000\n",
            "Epoch 700/700\n",
            "403/403 [==============================] - 1s 2ms/step - loss: 158728011776.0000 - val_loss: 2364226404352.0000\n"
          ]
        },
        {
          "data": {
            "text/plain": [
              "<tensorflow.python.keras.callbacks.History at 0x1ae344fbd90>"
            ]
          },
          "execution_count": 101,
          "metadata": {},
          "output_type": "execute_result"
        }
      ]
    },
    {
      "cell_type": "markdown",
      "metadata": {
        "id": "IC8MMPzYc3Tr"
      },
      "source": [
        "#### Model Performance"
      ]
    },
    {
      "cell_type": "code",
      "metadata": {
        "id": "KbdXZvX0c3Ts"
      },
      "source": [
        "y_pred = model.predict(X_test)"
      ],
      "execution_count": null,
      "outputs": []
    },
    {
      "cell_type": "code",
      "metadata": {
        "id": "rUmobTf-c3Ts",
        "outputId": "a83603fa-5d85-4463-968a-cd916876e03e"
      },
      "source": [
        "eval_metrics(y_test,y_pred)"
      ],
      "execution_count": null,
      "outputs": [
        {
          "name": "stdout",
          "output_type": "stream",
          "text": [
            "r2_score: 0.7115348148980936 \n",
            " mae: 324110.6433248947 \n",
            " mse: 2364225923885.405 \n",
            " rmse: 1537603.9554727364\n"
          ]
        }
      ]
    },
    {
      "cell_type": "code",
      "metadata": {
        "id": "5UM5mkfNc3Ts",
        "outputId": "84929014-2c8a-41b2-c8ff-675ffbd20a93"
      },
      "source": [
        "model.evaluate(X_test, y_test, verbose=0)"
      ],
      "execution_count": null,
      "outputs": [
        {
          "data": {
            "text/plain": [
              "2364226666496.0"
            ]
          },
          "execution_count": 106,
          "metadata": {},
          "output_type": "execute_result"
        }
      ]
    },
    {
      "cell_type": "code",
      "metadata": {
        "id": "KG_Ocli0c3Tt",
        "outputId": "27149dca-565d-4fce-822a-6e4f7f8d7322"
      },
      "source": [
        "my_dict = {\"Actual\" : y_test, \"Pred\" : y_pred.reshape(-1,)}\n",
        "compare = pd.DataFrame(my_dict)\n",
        "compare.sample(10)"
      ],
      "execution_count": null,
      "outputs": [
        {
          "data": {
            "text/html": [
              "<div>\n",
              "<style scoped>\n",
              "    .dataframe tbody tr th:only-of-type {\n",
              "        vertical-align: middle;\n",
              "    }\n",
              "\n",
              "    .dataframe tbody tr th {\n",
              "        vertical-align: top;\n",
              "    }\n",
              "\n",
              "    .dataframe thead th {\n",
              "        text-align: right;\n",
              "    }\n",
              "</style>\n",
              "<table border=\"1\" class=\"dataframe\">\n",
              "  <thead>\n",
              "    <tr style=\"text-align: right;\">\n",
              "      <th></th>\n",
              "      <th>Actual</th>\n",
              "      <th>Pred</th>\n",
              "    </tr>\n",
              "  </thead>\n",
              "  <tbody>\n",
              "    <tr>\n",
              "      <th>12758</th>\n",
              "      <td>380000</td>\n",
              "      <td>3.397514e+05</td>\n",
              "    </tr>\n",
              "    <tr>\n",
              "      <th>38610</th>\n",
              "      <td>700000</td>\n",
              "      <td>7.209528e+05</td>\n",
              "    </tr>\n",
              "    <tr>\n",
              "      <th>31502</th>\n",
              "      <td>197000</td>\n",
              "      <td>3.426473e+05</td>\n",
              "    </tr>\n",
              "    <tr>\n",
              "      <th>52576</th>\n",
              "      <td>380000</td>\n",
              "      <td>5.318059e+05</td>\n",
              "    </tr>\n",
              "    <tr>\n",
              "      <th>30762</th>\n",
              "      <td>259000</td>\n",
              "      <td>2.794569e+05</td>\n",
              "    </tr>\n",
              "    <tr>\n",
              "      <th>29034</th>\n",
              "      <td>770000</td>\n",
              "      <td>4.504471e+05</td>\n",
              "    </tr>\n",
              "    <tr>\n",
              "      <th>58186</th>\n",
              "      <td>1750000</td>\n",
              "      <td>1.838531e+06</td>\n",
              "    </tr>\n",
              "    <tr>\n",
              "      <th>29423</th>\n",
              "      <td>170000</td>\n",
              "      <td>1.955809e+05</td>\n",
              "    </tr>\n",
              "    <tr>\n",
              "      <th>12283</th>\n",
              "      <td>184000</td>\n",
              "      <td>1.955809e+05</td>\n",
              "    </tr>\n",
              "    <tr>\n",
              "      <th>15992</th>\n",
              "      <td>1980000</td>\n",
              "      <td>1.473174e+06</td>\n",
              "    </tr>\n",
              "  </tbody>\n",
              "</table>\n",
              "</div>"
            ],
            "text/plain": [
              "        Actual          Pred\n",
              "12758   380000  3.397514e+05\n",
              "38610   700000  7.209528e+05\n",
              "31502   197000  3.426473e+05\n",
              "52576   380000  5.318059e+05\n",
              "30762   259000  2.794569e+05\n",
              "29034   770000  4.504471e+05\n",
              "58186  1750000  1.838531e+06\n",
              "29423   170000  1.955809e+05\n",
              "12283   184000  1.955809e+05\n",
              "15992  1980000  1.473174e+06"
            ]
          },
          "execution_count": 108,
          "metadata": {},
          "output_type": "execute_result"
        }
      ]
    },
    {
      "cell_type": "code",
      "metadata": {
        "id": "Feuej_rIc3Tt",
        "outputId": "900ba0c9-e1f5-40e6-99b1-773caf4b7f0a"
      },
      "source": [
        "compare.plot(x=\"Actual\", y=\"Pred\", kind=\"scatter\")"
      ],
      "execution_count": null,
      "outputs": [
        {
          "name": "stderr",
          "output_type": "stream",
          "text": [
            "*c* argument looks like a single numeric RGB or RGBA sequence, which should be avoided as value-mapping will have precedence in case its length matches with *x* & *y*.  Please use the *color* keyword-argument or provide a 2D array with a single row if you intend to specify the same RGB or RGBA value for all points.\n"
          ]
        },
        {
          "data": {
            "text/plain": [
              "<AxesSubplot:xlabel='Actual', ylabel='Pred'>"
            ]
          },
          "execution_count": 109,
          "metadata": {},
          "output_type": "execute_result"
        },
        {
          "data": {
            "image/png": "[encoded data removed]",
            "text/plain": [
              "<Figure size 576x396 with 1 Axes>"
            ]
          },
          "metadata": {},
          "output_type": "display_data"
        }
      ]
    },
    {
      "cell_type": "code",
      "metadata": {
        "id": "e9dAAAqZc3Tu",
        "outputId": "2307cb3f-6916-4932-b548-6ce6c1403995"
      },
      "source": [
        "# Our predictions\n",
        "plt.scatter(y_test, y_pred)\n",
        "\n",
        "# Perfect predictions\n",
        "plt.plot(y_test, y_test, 'r');"
      ],
      "execution_count": null,
      "outputs": [
        {
          "data": {
            "image/png": "[encoded data removed]",
            "text/plain": [
              "<Figure size 576x396 with 1 Axes>"
            ]
          },
          "metadata": {},
          "output_type": "display_data"
        }
      ]
    },
    {
      "cell_type": "code",
      "metadata": {
        "id": "cH_lJDbVc3Tu",
        "outputId": "f81f5048-9bac-4db4-efcf-1d1969f98296"
      },
      "source": [
        "errors = y_test.values.reshape(-1, 1) - y_pred\n",
        "sns.distplot(errors);"
      ],
      "execution_count": null,
      "outputs": [
        {
          "data": {
            "image/png": "[encoded data removed]",
            "text/plain": [
              "<Figure size 576x396 with 1 Axes>"
            ]
          },
          "metadata": {},
          "output_type": "display_data"
        }
      ]
    },
    {
      "cell_type": "code",
      "metadata": {
        "id": "7bZZbNbTc3Tu"
      },
      "source": [
        "from sklearn.svm import SVR\n",
        "from sklearn.model_selection import GridSearchCV"
      ],
      "execution_count": null,
      "outputs": []
    },
    {
      "cell_type": "code",
      "metadata": {
        "id": "F3VprkVHc3Tv"
      },
      "source": [
        "def run_model(model, X_train, y_train, X_test, y_test):\n",
        "    \n",
        "    # FIT MODEL TRAINING\n",
        "    model.fit(X_train,y_train)\n",
        "    \n",
        "    # GET METRICS\n",
        "    preds = model.predict(X_test)\n",
        "    eval_metrics(y_test, preds)\n",
        "    \n",
        "    # PLOT RESULTS MODEL SIGNAL RANGE\n",
        "    signal_range = np.arange(0,100)\n",
        "    output = model.predict(signal_range.reshape(-1,1))\n",
        "    \n",
        "    \n",
        "    plt.figure(figsize=(12,8),dpi=150)\n",
        "    sns.scatterplot(x='Signal',y='Density',data=df,color='black')\n",
        "    plt.plot(signal_range,output)"
      ],
      "execution_count": null,
      "outputs": []
    },
    {
      "cell_type": "code",
      "metadata": {
        "id": "e-0nIzCzc3Tw"
      },
      "source": [
        "svr = SVR()\n",
        "param_grid = {\"C\": [0.01,0.1,1,5,10,100,1000], \"gamma\":[\"auto\",\"scale\"]}\n",
        "\n",
        "grid = GridSearchCV(svr,param_grid)\n",
        "run_model(grid, X_train, y_train, X_test, y_test)"
      ],
      "execution_count": null,
      "outputs": []
    },
    {
      "cell_type": "code",
      "metadata": {
        "id": "Sgs-C9-5c3Tw"
      },
      "source": [
        ""
      ],
      "execution_count": null,
      "outputs": []
    }
  ]
}