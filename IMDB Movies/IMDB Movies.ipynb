{
 "metadata": {
  "language_info": {
   "codemirror_mode": {
    "name": "ipython",
    "version": 3
   },
   "file_extension": ".py",
   "mimetype": "text/x-python",
   "name": "python",
   "nbconvert_exporter": "python",
   "pygments_lexer": "ipython3",
   "version": "3.9.0-final"
  },
  "orig_nbformat": 2,
  "kernelspec": {
   "name": "python390jvsc74a57bd043a9cd95aa030499ef934e4da31e07dde54f3fc3a1fd0cc4aeef7f16459ee2ac",
   "display_name": "Python 3.9.0 64-bit"
  }
 },
 "nbformat": 4,
 "nbformat_minor": 2,
 "cells": [
  {
   "cell_type": "code",
   "execution_count": 1,
   "metadata": {},
   "outputs": [],
   "source": [
    "import pandas as pd\n",
    "import numpy as np \n",
    "import matplotlib.pyplot as plt \n",
    "import seaborn as sns"
   ]
  },
  {
   "cell_type": "code",
   "execution_count": 2,
   "metadata": {},
   "outputs": [],
   "source": [
    "df = pd.read_csv(\"movies_metadata.csv\")"
   ]
  },
  {
   "cell_type": "code",
   "execution_count": 3,
   "metadata": {},
   "outputs": [
    {
     "output_type": "execute_result",
     "data": {
      "text/plain": [
       "   adult                              belongs_to_collection    budget  \\\n",
       "0  False  {'id': 10194, 'name': 'Toy Story Collection', ...  30000000   \n",
       "1  False                                                NaN  65000000   \n",
       "2  False  {'id': 119050, 'name': 'Grumpy Old Men Collect...         0   \n",
       "3  False                                                NaN  16000000   \n",
       "4  False  {'id': 96871, 'name': 'Father of the Bride Col...         0   \n",
       "\n",
       "                                              genres  \\\n",
       "0  [{'id': 16, 'name': 'Animation'}, {'id': 35, '...   \n",
       "1  [{'id': 12, 'name': 'Adventure'}, {'id': 14, '...   \n",
       "2  [{'id': 10749, 'name': 'Romance'}, {'id': 35, ...   \n",
       "3  [{'id': 35, 'name': 'Comedy'}, {'id': 18, 'nam...   \n",
       "4                     [{'id': 35, 'name': 'Comedy'}]   \n",
       "\n",
       "                               homepage     id    imdb_id original_language  \\\n",
       "0  http://toystory.disney.com/toy-story    862  tt0114709                en   \n",
       "1                                   NaN   8844  tt0113497                en   \n",
       "2                                   NaN  15602  tt0113228                en   \n",
       "3                                   NaN  31357  tt0114885                en   \n",
       "4                                   NaN  11862  tt0113041                en   \n",
       "\n",
       "                original_title  \\\n",
       "0                    Toy Story   \n",
       "1                      Jumanji   \n",
       "2             Grumpier Old Men   \n",
       "3            Waiting to Exhale   \n",
       "4  Father of the Bride Part II   \n",
       "\n",
       "                                            overview  ...  release_date  \\\n",
       "0  Led by Woody, Andy's toys live happily in his ...  ...    1995-10-30   \n",
       "1  When siblings Judy and Peter discover an encha...  ...    1995-12-15   \n",
       "2  A family wedding reignites the ancient feud be...  ...    1995-12-22   \n",
       "3  Cheated on, mistreated and stepped on, the wom...  ...    1995-12-22   \n",
       "4  Just when George Banks has recovered from his ...  ...    1995-02-10   \n",
       "\n",
       "     revenue runtime                                   spoken_languages  \\\n",
       "0  373554033    81.0           [{'iso_639_1': 'en', 'name': 'English'}]   \n",
       "1  262797249   104.0  [{'iso_639_1': 'en', 'name': 'English'}, {'iso...   \n",
       "2          0   101.0           [{'iso_639_1': 'en', 'name': 'English'}]   \n",
       "3   81452156   127.0           [{'iso_639_1': 'en', 'name': 'English'}]   \n",
       "4   76578911   106.0           [{'iso_639_1': 'en', 'name': 'English'}]   \n",
       "\n",
       "     status                                            tagline  \\\n",
       "0  Released                                                NaN   \n",
       "1  Released          Roll the dice and unleash the excitement!   \n",
       "2  Released  Still Yelling. Still Fighting. Still Ready for...   \n",
       "3  Released  Friends are the people who let you be yourself...   \n",
       "4  Released  Just When His World Is Back To Normal... He's ...   \n",
       "\n",
       "                         title  video vote_average vote_count  \n",
       "0                    Toy Story  False          7.7       5415  \n",
       "1                      Jumanji  False          6.9       2413  \n",
       "2             Grumpier Old Men  False          6.5         92  \n",
       "3            Waiting to Exhale  False          6.1         34  \n",
       "4  Father of the Bride Part II  False          5.7        173  \n",
       "\n",
       "[5 rows x 24 columns]"
      ],
      "text/html": "<div>\n<style scoped>\n    .dataframe tbody tr th:only-of-type {\n        vertical-align: middle;\n    }\n\n    .dataframe tbody tr th {\n        vertical-align: top;\n    }\n\n    .dataframe thead th {\n        text-align: right;\n    }\n</style>\n<table border=\"1\" class=\"dataframe\">\n  <thead>\n    <tr style=\"text-align: right;\">\n      <th></th>\n      <th>adult</th>\n      <th>belongs_to_collection</th>\n      <th>budget</th>\n      <th>genres</th>\n      <th>homepage</th>\n      <th>id</th>\n      <th>imdb_id</th>\n      <th>original_language</th>\n      <th>original_title</th>\n      <th>overview</th>\n      <th>...</th>\n      <th>release_date</th>\n      <th>revenue</th>\n      <th>runtime</th>\n      <th>spoken_languages</th>\n      <th>status</th>\n      <th>tagline</th>\n      <th>title</th>\n      <th>video</th>\n      <th>vote_average</th>\n      <th>vote_count</th>\n    </tr>\n  </thead>\n  <tbody>\n    <tr>\n      <th>0</th>\n      <td>False</td>\n      <td>{'id': 10194, 'name': 'Toy Story Collection', ...</td>\n      <td>30000000</td>\n      <td>[{'id': 16, 'name': 'Animation'}, {'id': 35, '...</td>\n      <td>http://toystory.disney.com/toy-story</td>\n      <td>862</td>\n      <td>tt0114709</td>\n      <td>en</td>\n      <td>Toy Story</td>\n      <td>Led by Woody, Andy's toys live happily in his ...</td>\n      <td>...</td>\n      <td>1995-10-30</td>\n      <td>373554033</td>\n      <td>81.0</td>\n      <td>[{'iso_639_1': 'en', 'name': 'English'}]</td>\n      <td>Released</td>\n      <td>NaN</td>\n      <td>Toy Story</td>\n      <td>False</td>\n      <td>7.7</td>\n      <td>5415</td>\n    </tr>\n    <tr>\n      <th>1</th>\n      <td>False</td>\n      <td>NaN</td>\n      <td>65000000</td>\n      <td>[{'id': 12, 'name': 'Adventure'}, {'id': 14, '...</td>\n      <td>NaN</td>\n      <td>8844</td>\n      <td>tt0113497</td>\n      <td>en</td>\n      <td>Jumanji</td>\n      <td>When siblings Judy and Peter discover an encha...</td>\n      <td>...</td>\n      <td>1995-12-15</td>\n      <td>262797249</td>\n      <td>104.0</td>\n      <td>[{'iso_639_1': 'en', 'name': 'English'}, {'iso...</td>\n      <td>Released</td>\n      <td>Roll the dice and unleash the excitement!</td>\n      <td>Jumanji</td>\n      <td>False</td>\n      <td>6.9</td>\n      <td>2413</td>\n    </tr>\n    <tr>\n      <th>2</th>\n      <td>False</td>\n      <td>{'id': 119050, 'name': 'Grumpy Old Men Collect...</td>\n      <td>0</td>\n      <td>[{'id': 10749, 'name': 'Romance'}, {'id': 35, ...</td>\n      <td>NaN</td>\n      <td>15602</td>\n      <td>tt0113228</td>\n      <td>en</td>\n      <td>Grumpier Old Men</td>\n      <td>A family wedding reignites the ancient feud be...</td>\n      <td>...</td>\n      <td>1995-12-22</td>\n      <td>0</td>\n      <td>101.0</td>\n      <td>[{'iso_639_1': 'en', 'name': 'English'}]</td>\n      <td>Released</td>\n      <td>Still Yelling. Still Fighting. Still Ready for...</td>\n      <td>Grumpier Old Men</td>\n      <td>False</td>\n      <td>6.5</td>\n      <td>92</td>\n    </tr>\n    <tr>\n      <th>3</th>\n      <td>False</td>\n      <td>NaN</td>\n      <td>16000000</td>\n      <td>[{'id': 35, 'name': 'Comedy'}, {'id': 18, 'nam...</td>\n      <td>NaN</td>\n      <td>31357</td>\n      <td>tt0114885</td>\n      <td>en</td>\n      <td>Waiting to Exhale</td>\n      <td>Cheated on, mistreated and stepped on, the wom...</td>\n      <td>...</td>\n      <td>1995-12-22</td>\n      <td>81452156</td>\n      <td>127.0</td>\n      <td>[{'iso_639_1': 'en', 'name': 'English'}]</td>\n      <td>Released</td>\n      <td>Friends are the people who let you be yourself...</td>\n      <td>Waiting to Exhale</td>\n      <td>False</td>\n      <td>6.1</td>\n      <td>34</td>\n    </tr>\n    <tr>\n      <th>4</th>\n      <td>False</td>\n      <td>{'id': 96871, 'name': 'Father of the Bride Col...</td>\n      <td>0</td>\n      <td>[{'id': 35, 'name': 'Comedy'}]</td>\n      <td>NaN</td>\n      <td>11862</td>\n      <td>tt0113041</td>\n      <td>en</td>\n      <td>Father of the Bride Part II</td>\n      <td>Just when George Banks has recovered from his ...</td>\n      <td>...</td>\n      <td>1995-02-10</td>\n      <td>76578911</td>\n      <td>106.0</td>\n      <td>[{'iso_639_1': 'en', 'name': 'English'}]</td>\n      <td>Released</td>\n      <td>Just When His World Is Back To Normal... He's ...</td>\n      <td>Father of the Bride Part II</td>\n      <td>False</td>\n      <td>5.7</td>\n      <td>173</td>\n    </tr>\n  </tbody>\n</table>\n<p>5 rows × 24 columns</p>\n</div>"
     },
     "metadata": {},
     "execution_count": 3
    }
   ],
   "source": [
    "df.head()"
   ]
  },
  {
   "source": [
    "1) Write a Python Pandas program to get the columns of the DataFrame (movies_metadata.csv file)."
   ],
   "cell_type": "markdown",
   "metadata": {}
  },
  {
   "cell_type": "code",
   "execution_count": 4,
   "metadata": {},
   "outputs": [
    {
     "output_type": "execute_result",
     "data": {
      "text/plain": [
       "Index(['adult', 'belongs_to_collection', 'budget', 'genres', 'homepage', 'id',\n",
       "       'imdb_id', 'original_language', 'original_title', 'overview',\n",
       "       'popularity', 'poster_path', 'production_companies',\n",
       "       'production_countries', 'release_date', 'revenue', 'runtime',\n",
       "       'spoken_languages', 'status', 'tagline', 'title', 'video',\n",
       "       'vote_average', 'vote_count'],\n",
       "      dtype='object')"
      ]
     },
     "metadata": {},
     "execution_count": 4
    }
   ],
   "source": [
    "df.columns"
   ]
  },
  {
   "source": [
    "2) Write a Pandas program to get the information of the DataFrame (movies_metadata.csv file)including data types and memory usage."
   ],
   "cell_type": "markdown",
   "metadata": {}
  },
  {
   "cell_type": "code",
   "execution_count": 5,
   "metadata": {},
   "outputs": [
    {
     "output_type": "stream",
     "name": "stdout",
     "text": [
      "<class 'pandas.core.frame.DataFrame'>\nRangeIndex: 50 entries, 0 to 49\nData columns (total 24 columns):\n #   Column                 Non-Null Count  Dtype  \n---  ------                 --------------  -----  \n 0   adult                  50 non-null     bool   \n 1   belongs_to_collection  10 non-null     object \n 2   budget                 50 non-null     int64  \n 3   genres                 50 non-null     object \n 4   homepage               5 non-null      object \n 5   id                     50 non-null     int64  \n 6   imdb_id                50 non-null     object \n 7   original_language      50 non-null     object \n 8   original_title         50 non-null     object \n 9   overview               49 non-null     object \n 10  popularity             50 non-null     float64\n 11  poster_path            50 non-null     object \n 12  production_companies   50 non-null     object \n 13  production_countries   50 non-null     object \n 14  release_date           50 non-null     object \n 15  revenue                50 non-null     int64  \n 16  runtime                50 non-null     float64\n 17  spoken_languages       50 non-null     object \n 18  status                 50 non-null     object \n 19  tagline                41 non-null     object \n 20  title                  50 non-null     object \n 21  video                  50 non-null     bool   \n 22  vote_average           50 non-null     float64\n 23  vote_count             50 non-null     int64  \ndtypes: bool(2), float64(3), int64(4), object(15)\nmemory usage: 8.8+ KB\n"
     ]
    }
   ],
   "source": [
    "df.info()"
   ]
  },
  {
   "source": [
    "3) Write a Pandas program to get the details of the third movie of the DataFrame (movies_metadata.csv file)."
   ],
   "cell_type": "markdown",
   "metadata": {}
  },
  {
   "cell_type": "code",
   "execution_count": 6,
   "metadata": {},
   "outputs": [
    {
     "output_type": "execute_result",
     "data": {
      "text/plain": [
       "adult                                                                False\n",
       "belongs_to_collection    {'id': 119050, 'name': 'Grumpy Old Men Collect...\n",
       "budget                                                                   0\n",
       "genres                   [{'id': 10749, 'name': 'Romance'}, {'id': 35, ...\n",
       "homepage                                                               NaN\n",
       "id                                                                   15602\n",
       "imdb_id                                                          tt0113228\n",
       "original_language                                                       en\n",
       "original_title                                            Grumpier Old Men\n",
       "overview                 A family wedding reignites the ancient feud be...\n",
       "popularity                                                         11.7129\n",
       "poster_path                               /6ksm1sjKMFLbO7UY2i6G1ju9SML.jpg\n",
       "production_companies     [{'name': 'Warner Bros.', 'id': 6194}, {'name'...\n",
       "production_countries     [{'iso_3166_1': 'US', 'name': 'United States o...\n",
       "release_date                                                    1995-12-22\n",
       "revenue                                                                  0\n",
       "runtime                                                              101.0\n",
       "spoken_languages                  [{'iso_639_1': 'en', 'name': 'English'}]\n",
       "status                                                            Released\n",
       "tagline                  Still Yelling. Still Fighting. Still Ready for...\n",
       "title                                                     Grumpier Old Men\n",
       "video                                                                False\n",
       "vote_average                                                           6.5\n",
       "vote_count                                                              92\n",
       "Name: 2, dtype: object"
      ]
     },
     "metadata": {},
     "execution_count": 6
    }
   ],
   "source": [
    "df.iloc[2]"
   ]
  },
  {
   "source": [
    "4) Write a Pandas program to count the number of rows and columns of the DataFrame (movies_metadata.csv file)."
   ],
   "cell_type": "markdown",
   "metadata": {}
  },
  {
   "cell_type": "code",
   "execution_count": 7,
   "metadata": {},
   "outputs": [
    {
     "output_type": "execute_result",
     "data": {
      "text/plain": [
       "(50, 24)"
      ]
     },
     "metadata": {},
     "execution_count": 7
    }
   ],
   "source": [
    "df.shape"
   ]
  },
  {
   "source": [
    "5) Write a Pandas program to get the details of the columns title and genres of the DataFrame."
   ],
   "cell_type": "markdown",
   "metadata": {}
  },
  {
   "cell_type": "code",
   "execution_count": 8,
   "metadata": {},
   "outputs": [
    {
     "output_type": "execute_result",
     "data": {
      "text/plain": [
       "                             title  \\\n",
       "0                        Toy Story   \n",
       "1                          Jumanji   \n",
       "2                 Grumpier Old Men   \n",
       "3                Waiting to Exhale   \n",
       "4      Father of the Bride Part II   \n",
       "5                             Heat   \n",
       "6                          Sabrina   \n",
       "7                     Tom and Huck   \n",
       "8                     Sudden Death   \n",
       "9                        GoldenEye   \n",
       "10          The American President   \n",
       "11     Dracula: Dead and Loving It   \n",
       "12                           Balto   \n",
       "13                           Nixon   \n",
       "14                Cutthroat Island   \n",
       "15                          Casino   \n",
       "16           Sense and Sensibility   \n",
       "17                      Four Rooms   \n",
       "18  Ace Ventura: When Nature Calls   \n",
       "19                     Money Train   \n",
       "20                      Get Shorty   \n",
       "21                         Copycat   \n",
       "22                       Assassins   \n",
       "23                          Powder   \n",
       "24               Leaving Las Vegas   \n",
       "25                         Othello   \n",
       "26                    Now and Then   \n",
       "27                      Persuasion   \n",
       "28       The City of Lost Children   \n",
       "29                  Shanghai Triad   \n",
       "30                 Dangerous Minds   \n",
       "31                  Twelve Monkeys   \n",
       "32                Wings of Courage   \n",
       "33                            Babe   \n",
       "34                      Carrington   \n",
       "35                Dead Man Walking   \n",
       "36          Across the Sea of Time   \n",
       "37                    It Takes Two   \n",
       "38                        Clueless   \n",
       "39        Cry, the Beloved Country   \n",
       "40                     Richard III   \n",
       "41                 Dead Presidents   \n",
       "42                     Restoration   \n",
       "43                   Mortal Kombat   \n",
       "44                      To Die For   \n",
       "45   How To Make An American Quilt   \n",
       "46                           Se7en   \n",
       "47                      Pocahontas   \n",
       "48           When Night Is Falling   \n",
       "49              The Usual Suspects   \n",
       "\n",
       "                                               genres  \n",
       "0   [{'id': 16, 'name': 'Animation'}, {'id': 35, '...  \n",
       "1   [{'id': 12, 'name': 'Adventure'}, {'id': 14, '...  \n",
       "2   [{'id': 10749, 'name': 'Romance'}, {'id': 35, ...  \n",
       "3   [{'id': 35, 'name': 'Comedy'}, {'id': 18, 'nam...  \n",
       "4                      [{'id': 35, 'name': 'Comedy'}]  \n",
       "5   [{'id': 28, 'name': 'Action'}, {'id': 80, 'nam...  \n",
       "6   [{'id': 35, 'name': 'Comedy'}, {'id': 10749, '...  \n",
       "7   [{'id': 28, 'name': 'Action'}, {'id': 12, 'nam...  \n",
       "8   [{'id': 28, 'name': 'Action'}, {'id': 12, 'nam...  \n",
       "9   [{'id': 12, 'name': 'Adventure'}, {'id': 28, '...  \n",
       "10  [{'id': 35, 'name': 'Comedy'}, {'id': 18, 'nam...  \n",
       "11  [{'id': 35, 'name': 'Comedy'}, {'id': 27, 'nam...  \n",
       "12  [{'id': 10751, 'name': 'Family'}, {'id': 16, '...  \n",
       "13  [{'id': 36, 'name': 'History'}, {'id': 18, 'na...  \n",
       "14  [{'id': 28, 'name': 'Action'}, {'id': 12, 'nam...  \n",
       "15  [{'id': 18, 'name': 'Drama'}, {'id': 80, 'name...  \n",
       "16  [{'id': 18, 'name': 'Drama'}, {'id': 10749, 'n...  \n",
       "17  [{'id': 80, 'name': 'Crime'}, {'id': 35, 'name...  \n",
       "18  [{'id': 80, 'name': 'Crime'}, {'id': 35, 'name...  \n",
       "19  [{'id': 28, 'name': 'Action'}, {'id': 35, 'nam...  \n",
       "20  [{'id': 35, 'name': 'Comedy'}, {'id': 53, 'nam...  \n",
       "21  [{'id': 18, 'name': 'Drama'}, {'id': 53, 'name...  \n",
       "22  [{'id': 28, 'name': 'Action'}, {'id': 12, 'nam...  \n",
       "23  [{'id': 18, 'name': 'Drama'}, {'id': 14, 'name...  \n",
       "24  [{'id': 18, 'name': 'Drama'}, {'id': 10749, 'n...  \n",
       "25                      [{'id': 18, 'name': 'Drama'}]  \n",
       "26  [{'id': 35, 'name': 'Comedy'}, {'id': 18, 'nam...  \n",
       "27  [{'id': 18, 'name': 'Drama'}, {'id': 10749, 'n...  \n",
       "28  [{'id': 14, 'name': 'Fantasy'}, {'id': 878, 'n...  \n",
       "29  [{'id': 18, 'name': 'Drama'}, {'id': 80, 'name...  \n",
       "30  [{'id': 18, 'name': 'Drama'}, {'id': 80, 'name...  \n",
       "31  [{'id': 878, 'name': 'Science Fiction'}, {'id'...  \n",
       "32  [{'id': 10749, 'name': 'Romance'}, {'id': 12, ...  \n",
       "33  [{'id': 14, 'name': 'Fantasy'}, {'id': 18, 'na...  \n",
       "34  [{'id': 36, 'name': 'History'}, {'id': 18, 'na...  \n",
       "35                      [{'id': 18, 'name': 'Drama'}]  \n",
       "36  [{'id': 12, 'name': 'Adventure'}, {'id': 36, '...  \n",
       "37  [{'id': 35, 'name': 'Comedy'}, {'id': 10751, '...  \n",
       "38  [{'id': 35, 'name': 'Comedy'}, {'id': 18, 'nam...  \n",
       "39                      [{'id': 18, 'name': 'Drama'}]  \n",
       "40  [{'id': 18, 'name': 'Drama'}, {'id': 10752, 'n...  \n",
       "41  [{'id': 28, 'name': 'Action'}, {'id': 80, 'nam...  \n",
       "42  [{'id': 18, 'name': 'Drama'}, {'id': 10749, 'n...  \n",
       "43  [{'id': 28, 'name': 'Action'}, {'id': 14, 'nam...  \n",
       "44  [{'id': 14, 'name': 'Fantasy'}, {'id': 18, 'na...  \n",
       "45  [{'id': 18, 'name': 'Drama'}, {'id': 10749, 'n...  \n",
       "46  [{'id': 80, 'name': 'Crime'}, {'id': 9648, 'na...  \n",
       "47  [{'id': 12, 'name': 'Adventure'}, {'id': 16, '...  \n",
       "48  [{'id': 18, 'name': 'Drama'}, {'id': 10749, 'n...  \n",
       "49  [{'id': 18, 'name': 'Drama'}, {'id': 80, 'name...  "
      ],
      "text/html": "<div>\n<style scoped>\n    .dataframe tbody tr th:only-of-type {\n        vertical-align: middle;\n    }\n\n    .dataframe tbody tr th {\n        vertical-align: top;\n    }\n\n    .dataframe thead th {\n        text-align: right;\n    }\n</style>\n<table border=\"1\" class=\"dataframe\">\n  <thead>\n    <tr style=\"text-align: right;\">\n      <th></th>\n      <th>title</th>\n      <th>genres</th>\n    </tr>\n  </thead>\n  <tbody>\n    <tr>\n      <th>0</th>\n      <td>Toy Story</td>\n      <td>[{'id': 16, 'name': 'Animation'}, {'id': 35, '...</td>\n    </tr>\n    <tr>\n      <th>1</th>\n      <td>Jumanji</td>\n      <td>[{'id': 12, 'name': 'Adventure'}, {'id': 14, '...</td>\n    </tr>\n    <tr>\n      <th>2</th>\n      <td>Grumpier Old Men</td>\n      <td>[{'id': 10749, 'name': 'Romance'}, {'id': 35, ...</td>\n    </tr>\n    <tr>\n      <th>3</th>\n      <td>Waiting to Exhale</td>\n      <td>[{'id': 35, 'name': 'Comedy'}, {'id': 18, 'nam...</td>\n    </tr>\n    <tr>\n      <th>4</th>\n      <td>Father of the Bride Part II</td>\n      <td>[{'id': 35, 'name': 'Comedy'}]</td>\n    </tr>\n    <tr>\n      <th>5</th>\n      <td>Heat</td>\n      <td>[{'id': 28, 'name': 'Action'}, {'id': 80, 'nam...</td>\n    </tr>\n    <tr>\n      <th>6</th>\n      <td>Sabrina</td>\n      <td>[{'id': 35, 'name': 'Comedy'}, {'id': 10749, '...</td>\n    </tr>\n    <tr>\n      <th>7</th>\n      <td>Tom and Huck</td>\n      <td>[{'id': 28, 'name': 'Action'}, {'id': 12, 'nam...</td>\n    </tr>\n    <tr>\n      <th>8</th>\n      <td>Sudden Death</td>\n      <td>[{'id': 28, 'name': 'Action'}, {'id': 12, 'nam...</td>\n    </tr>\n    <tr>\n      <th>9</th>\n      <td>GoldenEye</td>\n      <td>[{'id': 12, 'name': 'Adventure'}, {'id': 28, '...</td>\n    </tr>\n    <tr>\n      <th>10</th>\n      <td>The American President</td>\n      <td>[{'id': 35, 'name': 'Comedy'}, {'id': 18, 'nam...</td>\n    </tr>\n    <tr>\n      <th>11</th>\n      <td>Dracula: Dead and Loving It</td>\n      <td>[{'id': 35, 'name': 'Comedy'}, {'id': 27, 'nam...</td>\n    </tr>\n    <tr>\n      <th>12</th>\n      <td>Balto</td>\n      <td>[{'id': 10751, 'name': 'Family'}, {'id': 16, '...</td>\n    </tr>\n    <tr>\n      <th>13</th>\n      <td>Nixon</td>\n      <td>[{'id': 36, 'name': 'History'}, {'id': 18, 'na...</td>\n    </tr>\n    <tr>\n      <th>14</th>\n      <td>Cutthroat Island</td>\n      <td>[{'id': 28, 'name': 'Action'}, {'id': 12, 'nam...</td>\n    </tr>\n    <tr>\n      <th>15</th>\n      <td>Casino</td>\n      <td>[{'id': 18, 'name': 'Drama'}, {'id': 80, 'name...</td>\n    </tr>\n    <tr>\n      <th>16</th>\n      <td>Sense and Sensibility</td>\n      <td>[{'id': 18, 'name': 'Drama'}, {'id': 10749, 'n...</td>\n    </tr>\n    <tr>\n      <th>17</th>\n      <td>Four Rooms</td>\n      <td>[{'id': 80, 'name': 'Crime'}, {'id': 35, 'name...</td>\n    </tr>\n    <tr>\n      <th>18</th>\n      <td>Ace Ventura: When Nature Calls</td>\n      <td>[{'id': 80, 'name': 'Crime'}, {'id': 35, 'name...</td>\n    </tr>\n    <tr>\n      <th>19</th>\n      <td>Money Train</td>\n      <td>[{'id': 28, 'name': 'Action'}, {'id': 35, 'nam...</td>\n    </tr>\n    <tr>\n      <th>20</th>\n      <td>Get Shorty</td>\n      <td>[{'id': 35, 'name': 'Comedy'}, {'id': 53, 'nam...</td>\n    </tr>\n    <tr>\n      <th>21</th>\n      <td>Copycat</td>\n      <td>[{'id': 18, 'name': 'Drama'}, {'id': 53, 'name...</td>\n    </tr>\n    <tr>\n      <th>22</th>\n      <td>Assassins</td>\n      <td>[{'id': 28, 'name': 'Action'}, {'id': 12, 'nam...</td>\n    </tr>\n    <tr>\n      <th>23</th>\n      <td>Powder</td>\n      <td>[{'id': 18, 'name': 'Drama'}, {'id': 14, 'name...</td>\n    </tr>\n    <tr>\n      <th>24</th>\n      <td>Leaving Las Vegas</td>\n      <td>[{'id': 18, 'name': 'Drama'}, {'id': 10749, 'n...</td>\n    </tr>\n    <tr>\n      <th>25</th>\n      <td>Othello</td>\n      <td>[{'id': 18, 'name': 'Drama'}]</td>\n    </tr>\n    <tr>\n      <th>26</th>\n      <td>Now and Then</td>\n      <td>[{'id': 35, 'name': 'Comedy'}, {'id': 18, 'nam...</td>\n    </tr>\n    <tr>\n      <th>27</th>\n      <td>Persuasion</td>\n      <td>[{'id': 18, 'name': 'Drama'}, {'id': 10749, 'n...</td>\n    </tr>\n    <tr>\n      <th>28</th>\n      <td>The City of Lost Children</td>\n      <td>[{'id': 14, 'name': 'Fantasy'}, {'id': 878, 'n...</td>\n    </tr>\n    <tr>\n      <th>29</th>\n      <td>Shanghai Triad</td>\n      <td>[{'id': 18, 'name': 'Drama'}, {'id': 80, 'name...</td>\n    </tr>\n    <tr>\n      <th>30</th>\n      <td>Dangerous Minds</td>\n      <td>[{'id': 18, 'name': 'Drama'}, {'id': 80, 'name...</td>\n    </tr>\n    <tr>\n      <th>31</th>\n      <td>Twelve Monkeys</td>\n      <td>[{'id': 878, 'name': 'Science Fiction'}, {'id'...</td>\n    </tr>\n    <tr>\n      <th>32</th>\n      <td>Wings of Courage</td>\n      <td>[{'id': 10749, 'name': 'Romance'}, {'id': 12, ...</td>\n    </tr>\n    <tr>\n      <th>33</th>\n      <td>Babe</td>\n      <td>[{'id': 14, 'name': 'Fantasy'}, {'id': 18, 'na...</td>\n    </tr>\n    <tr>\n      <th>34</th>\n      <td>Carrington</td>\n      <td>[{'id': 36, 'name': 'History'}, {'id': 18, 'na...</td>\n    </tr>\n    <tr>\n      <th>35</th>\n      <td>Dead Man Walking</td>\n      <td>[{'id': 18, 'name': 'Drama'}]</td>\n    </tr>\n    <tr>\n      <th>36</th>\n      <td>Across the Sea of Time</td>\n      <td>[{'id': 12, 'name': 'Adventure'}, {'id': 36, '...</td>\n    </tr>\n    <tr>\n      <th>37</th>\n      <td>It Takes Two</td>\n      <td>[{'id': 35, 'name': 'Comedy'}, {'id': 10751, '...</td>\n    </tr>\n    <tr>\n      <th>38</th>\n      <td>Clueless</td>\n      <td>[{'id': 35, 'name': 'Comedy'}, {'id': 18, 'nam...</td>\n    </tr>\n    <tr>\n      <th>39</th>\n      <td>Cry, the Beloved Country</td>\n      <td>[{'id': 18, 'name': 'Drama'}]</td>\n    </tr>\n    <tr>\n      <th>40</th>\n      <td>Richard III</td>\n      <td>[{'id': 18, 'name': 'Drama'}, {'id': 10752, 'n...</td>\n    </tr>\n    <tr>\n      <th>41</th>\n      <td>Dead Presidents</td>\n      <td>[{'id': 28, 'name': 'Action'}, {'id': 80, 'nam...</td>\n    </tr>\n    <tr>\n      <th>42</th>\n      <td>Restoration</td>\n      <td>[{'id': 18, 'name': 'Drama'}, {'id': 10749, 'n...</td>\n    </tr>\n    <tr>\n      <th>43</th>\n      <td>Mortal Kombat</td>\n      <td>[{'id': 28, 'name': 'Action'}, {'id': 14, 'nam...</td>\n    </tr>\n    <tr>\n      <th>44</th>\n      <td>To Die For</td>\n      <td>[{'id': 14, 'name': 'Fantasy'}, {'id': 18, 'na...</td>\n    </tr>\n    <tr>\n      <th>45</th>\n      <td>How To Make An American Quilt</td>\n      <td>[{'id': 18, 'name': 'Drama'}, {'id': 10749, 'n...</td>\n    </tr>\n    <tr>\n      <th>46</th>\n      <td>Se7en</td>\n      <td>[{'id': 80, 'name': 'Crime'}, {'id': 9648, 'na...</td>\n    </tr>\n    <tr>\n      <th>47</th>\n      <td>Pocahontas</td>\n      <td>[{'id': 12, 'name': 'Adventure'}, {'id': 16, '...</td>\n    </tr>\n    <tr>\n      <th>48</th>\n      <td>When Night Is Falling</td>\n      <td>[{'id': 18, 'name': 'Drama'}, {'id': 10749, 'n...</td>\n    </tr>\n    <tr>\n      <th>49</th>\n      <td>The Usual Suspects</td>\n      <td>[{'id': 18, 'name': 'Drama'}, {'id': 80, 'name...</td>\n    </tr>\n  </tbody>\n</table>\n</div>"
     },
     "metadata": {},
     "execution_count": 8
    }
   ],
   "source": [
    "df[[\"title\",\"genres\"]]"
   ]
  },
  {
   "source": [
    "6) Write a Pandas program to get the details of the movie with title 'Grumpier Old Men'."
   ],
   "cell_type": "markdown",
   "metadata": {}
  },
  {
   "cell_type": "code",
   "execution_count": 16,
   "metadata": {},
   "outputs": [
    {
     "output_type": "execute_result",
     "data": {
      "text/plain": [
       "   adult                              belongs_to_collection  budget  \\\n",
       "2  False  {'id': 119050, 'name': 'Grumpy Old Men Collect...       0   \n",
       "\n",
       "                                              genres homepage     id  \\\n",
       "2  [{'id': 10749, 'name': 'Romance'}, {'id': 35, ...      NaN  15602   \n",
       "\n",
       "     imdb_id original_language    original_title  \\\n",
       "2  tt0113228                en  Grumpier Old Men   \n",
       "\n",
       "                                            overview  ...  release_date  \\\n",
       "2  A family wedding reignites the ancient feud be...  ...    1995-12-22   \n",
       "\n",
       "  revenue runtime                          spoken_languages    status  \\\n",
       "2       0   101.0  [{'iso_639_1': 'en', 'name': 'English'}]  Released   \n",
       "\n",
       "                                             tagline             title  video  \\\n",
       "2  Still Yelling. Still Fighting. Still Ready for...  Grumpier Old Men  False   \n",
       "\n",
       "  vote_average vote_count  \n",
       "2          6.5         92  \n",
       "\n",
       "[1 rows x 24 columns]"
      ],
      "text/html": "<div>\n<style scoped>\n    .dataframe tbody tr th:only-of-type {\n        vertical-align: middle;\n    }\n\n    .dataframe tbody tr th {\n        vertical-align: top;\n    }\n\n    .dataframe thead th {\n        text-align: right;\n    }\n</style>\n<table border=\"1\" class=\"dataframe\">\n  <thead>\n    <tr style=\"text-align: right;\">\n      <th></th>\n      <th>adult</th>\n      <th>belongs_to_collection</th>\n      <th>budget</th>\n      <th>genres</th>\n      <th>homepage</th>\n      <th>id</th>\n      <th>imdb_id</th>\n      <th>original_language</th>\n      <th>original_title</th>\n      <th>overview</th>\n      <th>...</th>\n      <th>release_date</th>\n      <th>revenue</th>\n      <th>runtime</th>\n      <th>spoken_languages</th>\n      <th>status</th>\n      <th>tagline</th>\n      <th>title</th>\n      <th>video</th>\n      <th>vote_average</th>\n      <th>vote_count</th>\n    </tr>\n  </thead>\n  <tbody>\n    <tr>\n      <th>2</th>\n      <td>False</td>\n      <td>{'id': 119050, 'name': 'Grumpy Old Men Collect...</td>\n      <td>0</td>\n      <td>[{'id': 10749, 'name': 'Romance'}, {'id': 35, ...</td>\n      <td>NaN</td>\n      <td>15602</td>\n      <td>tt0113228</td>\n      <td>en</td>\n      <td>Grumpier Old Men</td>\n      <td>A family wedding reignites the ancient feud be...</td>\n      <td>...</td>\n      <td>1995-12-22</td>\n      <td>0</td>\n      <td>101.0</td>\n      <td>[{'iso_639_1': 'en', 'name': 'English'}]</td>\n      <td>Released</td>\n      <td>Still Yelling. Still Fighting. Still Ready for...</td>\n      <td>Grumpier Old Men</td>\n      <td>False</td>\n      <td>6.5</td>\n      <td>92</td>\n    </tr>\n  </tbody>\n</table>\n<p>1 rows × 24 columns</p>\n</div>"
     },
     "metadata": {},
     "execution_count": 16
    }
   ],
   "source": [
    "df[df[\"title\"] ==\"Grumpier Old Men\"]"
   ]
  },
  {
   "cell_type": "code",
   "execution_count": 18,
   "metadata": {},
   "outputs": [],
   "source": [
    "df = df.set_index(\"title\")"
   ]
  },
  {
   "cell_type": "code",
   "execution_count": 19,
   "metadata": {},
   "outputs": [
    {
     "output_type": "execute_result",
     "data": {
      "text/plain": [
       "adult                                                                False\n",
       "belongs_to_collection    {'id': 119050, 'name': 'Grumpy Old Men Collect...\n",
       "budget                                                                   0\n",
       "genres                   [{'id': 10749, 'name': 'Romance'}, {'id': 35, ...\n",
       "homepage                                                               NaN\n",
       "id                                                                   15602\n",
       "imdb_id                                                          tt0113228\n",
       "original_language                                                       en\n",
       "original_title                                            Grumpier Old Men\n",
       "overview                 A family wedding reignites the ancient feud be...\n",
       "popularity                                                         11.7129\n",
       "poster_path                               /6ksm1sjKMFLbO7UY2i6G1ju9SML.jpg\n",
       "production_companies     [{'name': 'Warner Bros.', 'id': 6194}, {'name'...\n",
       "production_countries     [{'iso_3166_1': 'US', 'name': 'United States o...\n",
       "release_date                                                    1995-12-22\n",
       "revenue                                                                  0\n",
       "runtime                                                              101.0\n",
       "spoken_languages                  [{'iso_639_1': 'en', 'name': 'English'}]\n",
       "status                                                            Released\n",
       "tagline                  Still Yelling. Still Fighting. Still Ready for...\n",
       "video                                                                False\n",
       "vote_average                                                           6.5\n",
       "vote_count                                                              92\n",
       "Name: Grumpier Old Men, dtype: object"
      ]
     },
     "metadata": {},
     "execution_count": 19
    }
   ],
   "source": [
    "df.loc[\"Grumpier Old Men\"]"
   ]
  },
  {
   "cell_type": "code",
   "execution_count": null,
   "metadata": {},
   "outputs": [],
   "source": []
  }
 ]
}