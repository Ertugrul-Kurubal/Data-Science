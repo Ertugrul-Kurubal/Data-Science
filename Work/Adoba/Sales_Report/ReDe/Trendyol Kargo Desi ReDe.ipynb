{
 "cells": [
  {
   "cell_type": "markdown",
   "metadata": {},
   "source": [
    "### Trendyol Kargo Desi"
   ]
  },
  {
   "cell_type": "code",
   "execution_count": null,
   "metadata": {},
   "outputs": [],
   "source": [
    "# pip install pandas"
   ]
  },
  {
   "cell_type": "code",
   "execution_count": null,
   "metadata": {},
   "outputs": [],
   "source": [
    "import numpy as np\n",
    "import pandas as pd\n",
    "import math"
   ]
  },
  {
   "cell_type": "code",
   "execution_count": null,
   "metadata": {},
   "outputs": [],
   "source": [
    "df_kargo = pd.read_excel(r\"C:\\Users\\user\\Desktop\\Data Analysis\\Adoba\\Sales_Report\\Data\\Trendyol\\Kargo\\trendyol kargo.xlsx\")\n",
    "df_kargo.sample(5)"
   ]
  },
  {
   "cell_type": "code",
   "execution_count": null,
   "metadata": {},
   "outputs": [],
   "source": [
    "df_kargo.info()"
   ]
  },
  {
   "cell_type": "code",
   "execution_count": null,
   "metadata": {},
   "outputs": [],
   "source": [
    "df_kargo.columns"
   ]
  },
  {
   "cell_type": "code",
   "execution_count": null,
   "metadata": {},
   "outputs": [],
   "source": [
    "df_kargo2 = df_kargo.drop_duplicates(subset=\"Paket No\")\n",
    "df_kargo2 = df_kargo2.reset_index(drop=True)\n",
    "df_kargo2.head(5)"
   ]
  },
  {
   "cell_type": "code",
   "execution_count": null,
   "metadata": {},
   "outputs": [],
   "source": [
    "df_kargo2.info()"
   ]
  },
  {
   "cell_type": "code",
   "execution_count": null,
   "metadata": {},
   "outputs": [],
   "source": [
    "df_kargo2 = df_kargo2.dropna(subset=\"Kargodan alınan desi\")\n",
    "df_kargo2.reset_index(drop=True, inplace=True)\n",
    "df_kargo2.head(5)"
   ]
  },
  {
   "cell_type": "code",
   "execution_count": null,
   "metadata": {},
   "outputs": [],
   "source": []
  },
  {
   "cell_type": "markdown",
   "metadata": {},
   "source": [
    "#### Duplicated"
   ]
  },
  {
   "cell_type": "code",
   "execution_count": null,
   "metadata": {},
   "outputs": [],
   "source": [
    "df_prod_barkod = df_kargo2[[\"Barkod\",\"Ürün Adı\"]]\n",
    "df_prod_barkod = df_prod_barkod.drop_duplicates()\n",
    "df_prod_barkod = df_prod_barkod.reset_index(drop=True)\n",
    "df_prod_barkod"
   ]
  },
  {
   "cell_type": "code",
   "execution_count": null,
   "metadata": {},
   "outputs": [],
   "source": [
    "df_prod_barkod[\"Ürün Adı\"].nunique()"
   ]
  },
  {
   "cell_type": "code",
   "execution_count": null,
   "metadata": {},
   "outputs": [],
   "source": [
    "df_barkod_sort = df_prod_barkod.sort_values(by=\"Barkod\")\n",
    "df_barkod_sort = df_barkod_sort.reset_index(drop=True)\n",
    "df_barkod_sort"
   ]
  },
  {
   "cell_type": "code",
   "execution_count": null,
   "metadata": {},
   "outputs": [],
   "source": [
    "# df_barkod_sort.to_excel(r\"C:\\Users\\user\\Downloads\\Trendyol Kargo Ürün Barkod.xlsx\", index=False)"
   ]
  },
  {
   "cell_type": "code",
   "execution_count": null,
   "metadata": {},
   "outputs": [],
   "source": []
  },
  {
   "cell_type": "code",
   "execution_count": null,
   "metadata": {},
   "outputs": [],
   "source": [
    "df_barkod_sort_dup =  df_barkod_sort[df_barkod_sort[\"Barkod\"].duplicated(keep=False)]\n",
    "# df_barkod_sort_dup = df_barkod_sort[df_barkod_sort[\"Barkod\"].duplicated()]\n",
    "df_barkod_sort_dup"
   ]
  },
  {
   "cell_type": "code",
   "execution_count": null,
   "metadata": {},
   "outputs": [],
   "source": [
    "# df_barkod_sort_dup.to_excel(r\"C:\\Users\\user\\Downloads\\Trendyol Kargo Barkod Tekrar.xlsx\", index=False)"
   ]
  },
  {
   "cell_type": "code",
   "execution_count": null,
   "metadata": {},
   "outputs": [],
   "source": []
  },
  {
   "cell_type": "code",
   "execution_count": null,
   "metadata": {},
   "outputs": [],
   "source": [
    "df_prod_sort = df_prod_barkod.sort_values(by=\"Ürün Adı\")\n",
    "df_prod_sort = df_prod_sort.reset_index(drop=True)\n",
    "df_prod_sort"
   ]
  },
  {
   "cell_type": "code",
   "execution_count": null,
   "metadata": {},
   "outputs": [],
   "source": [
    "df_prod_sort_dup = df_prod_sort[df_prod_sort[\"Ürün Adı\"].duplicated(keep=False)]\n",
    "# df_prod_sort_dup = df_prod_sort[df_prod_sort[\"Ürün Adı\"].duplicated()]\n",
    "df_prod_sort_dup"
   ]
  },
  {
   "cell_type": "code",
   "execution_count": null,
   "metadata": {},
   "outputs": [],
   "source": [
    "# df_prod_sort_dup.to_excel(r\"C:\\Users\\user\\Downloads\\Trendyol Kargo Ürün Tekrar.xlsx\", index=False)"
   ]
  },
  {
   "cell_type": "code",
   "execution_count": null,
   "metadata": {},
   "outputs": [],
   "source": []
  },
  {
   "cell_type": "markdown",
   "metadata": {},
   "source": [
    "#### 1 Adet "
   ]
  },
  {
   "cell_type": "code",
   "execution_count": null,
   "metadata": {},
   "outputs": [],
   "source": [
    "df_kargo3 = df_kargo2[df_kargo2[\"Adet\"] == 1]\n",
    "df_kargo3 = df_kargo3.reset_index(drop=True)\n",
    "df_kargo3.head(5)"
   ]
  },
  {
   "cell_type": "code",
   "execution_count": null,
   "metadata": {},
   "outputs": [],
   "source": [
    "df_kargo3[\"Ürün Adı\"].nunique()"
   ]
  },
  {
   "cell_type": "code",
   "execution_count": null,
   "metadata": {},
   "outputs": [],
   "source": [
    "df_kargo3[\"Barkod\"].nunique()"
   ]
  },
  {
   "cell_type": "code",
   "execution_count": null,
   "metadata": {},
   "outputs": [],
   "source": [
    "df_kargo3.columns"
   ]
  },
  {
   "cell_type": "code",
   "execution_count": null,
   "metadata": {},
   "outputs": [],
   "source": []
  },
  {
   "cell_type": "markdown",
   "metadata": {},
   "source": [
    "#### Groupby Min Max Mean Most Freq"
   ]
  },
  {
   "cell_type": "markdown",
   "metadata": {},
   "source": [
    "###### Value Count"
   ]
  },
  {
   "cell_type": "code",
   "execution_count": null,
   "metadata": {},
   "outputs": [],
   "source": [
    "df_kargo_val_count = df_kargo3.groupby(\"Ürün Adı\")[[\"Kargodan alınan desi\"]].value_counts().reset_index()\n",
    "df_kargo_val_count"
   ]
  },
  {
   "cell_type": "code",
   "execution_count": null,
   "metadata": {},
   "outputs": [],
   "source": [
    "# df_kargo_val_count[\"Ürün Adı\"].fillna(method='ffill')  # fill nan value with prev values"
   ]
  },
  {
   "cell_type": "code",
   "execution_count": null,
   "metadata": {},
   "outputs": [],
   "source": [
    "df_kargo_val_count_sort = df_kargo_val_count.sort_values(by=['Ürün Adı', 'Kargodan alınan desi'], ascending=False)  # Not: bir sonraki idmax en büyük ilk değeri aldığından ascending son değer için.   \n",
    "df_kargo_val_count_sort.reset_index(drop=True, inplace=True)                                            \n",
    "df_kargo_val_count_sort"
   ]
  },
  {
   "cell_type": "code",
   "execution_count": null,
   "metadata": {},
   "outputs": [],
   "source": [
    "idx = df_kargo_val_count_sort.groupby('Ürün Adı')['count'].idxmax()\n",
    "idx"
   ]
  },
  {
   "cell_type": "code",
   "execution_count": null,
   "metadata": {},
   "outputs": [],
   "source": [
    "df_kargo_desi_most_freq = df_kargo_val_count_sort.loc[idx]\n",
    "df_kargo_desi_most_freq.reset_index(drop=True, inplace=True)\n",
    "df_kargo_desi_most_freq = df_kargo_desi_most_freq.rename(columns={\"Kargodan alınan desi\":\"kargo desi en sık\"})\n",
    "df_kargo_desi_most_freq"
   ]
  },
  {
   "cell_type": "code",
   "execution_count": null,
   "metadata": {},
   "outputs": [],
   "source": []
  },
  {
   "cell_type": "code",
   "execution_count": null,
   "metadata": {},
   "outputs": [],
   "source": [
    "# temp\n",
    "set1 = set(df_kargo_desi_most_freq[\"Ürün Adı\"])"
   ]
  },
  {
   "cell_type": "code",
   "execution_count": null,
   "metadata": {},
   "outputs": [],
   "source": []
  },
  {
   "cell_type": "markdown",
   "metadata": {},
   "source": [
    "###### Mean"
   ]
  },
  {
   "cell_type": "code",
   "execution_count": null,
   "metadata": {},
   "outputs": [],
   "source": [
    "df_kargo_desi_mean = df_kargo3.groupby(\"Ürün Adı\")[[\"Kargodan alınan desi\"]].mean()\n",
    "df_kargo_desi_mean.reset_index(inplace=True)\n",
    "df_kargo_desi_mean.rename(columns={\"Kargodan alınan desi\":\"kargo desi ortalama\"}, inplace=True)\n",
    "df_kargo_desi_mean[\"kargo desi ortalama\"] = df_kargo_desi_mean[\"kargo desi ortalama\"].apply(lambda x: round(x,1))\n",
    "df_kargo_desi_mean"
   ]
  },
  {
   "cell_type": "code",
   "execution_count": null,
   "metadata": {},
   "outputs": [],
   "source": []
  },
  {
   "cell_type": "code",
   "execution_count": null,
   "metadata": {},
   "outputs": [],
   "source": [
    "# temp\n",
    "set2 = set(df_kargo_desi_mean[\"Ürün Adı\"])"
   ]
  },
  {
   "cell_type": "code",
   "execution_count": null,
   "metadata": {},
   "outputs": [],
   "source": [
    "# temp\n",
    "diff_list = list(set2.difference(set1))\n",
    "diff_list"
   ]
  },
  {
   "cell_type": "code",
   "execution_count": null,
   "metadata": {},
   "outputs": [],
   "source": [
    "# temp\n",
    "df_kargo3[df_kargo3[\"Ürün Adı\"].isin(diff_list)]"
   ]
  },
  {
   "cell_type": "code",
   "execution_count": null,
   "metadata": {},
   "outputs": [],
   "source": []
  },
  {
   "cell_type": "markdown",
   "metadata": {},
   "source": [
    "###### Max"
   ]
  },
  {
   "cell_type": "code",
   "execution_count": null,
   "metadata": {},
   "outputs": [],
   "source": [
    "df_kargo_desi_max = df_kargo3.groupby(\"Ürün Adı\")[[\"Kargodan alınan desi\"]].max()\n",
    "df_kargo_desi_max.reset_index(inplace=True)\n",
    "df_kargo_desi_max.rename(columns={\"Kargodan alınan desi\":\"kargo desi max\"}, inplace=True)\n",
    "df_kargo_desi_max"
   ]
  },
  {
   "cell_type": "markdown",
   "metadata": {},
   "source": [
    "###### Min"
   ]
  },
  {
   "cell_type": "code",
   "execution_count": null,
   "metadata": {},
   "outputs": [],
   "source": [
    "df_kargo_desi_min = df_kargo3.groupby(\"Ürün Adı\")[[\"Kargodan alınan desi\"]].min()\n",
    "df_kargo_desi_min.reset_index(inplace=True)\n",
    "df_kargo_desi_min.rename(columns={\"Kargodan alınan desi\":\"kargo desi min\"}, inplace=True)\n",
    "df_kargo_desi_min"
   ]
  },
  {
   "cell_type": "code",
   "execution_count": null,
   "metadata": {},
   "outputs": [],
   "source": [
    "df_kargo4 = df_kargo3.sort_values(by=\"Barkod\")\n",
    "df_kargo4 = df_kargo4.reset_index(drop=True)\n",
    "df_kargo4.head(5)"
   ]
  },
  {
   "cell_type": "code",
   "execution_count": null,
   "metadata": {},
   "outputs": [],
   "source": [
    "df_kargo4 = df_kargo4.drop_duplicates(subset=[\"Barkod\",\"Ürün Adı\",\"Kargo Firması\"])\n",
    "df_kargo4.reset_index(drop=True, inplace=True)\n",
    "df_kargo4.head(5)"
   ]
  },
  {
   "cell_type": "code",
   "execution_count": null,
   "metadata": {},
   "outputs": [],
   "source": [
    "df_kargo_desi_min_merge = pd.merge(df_kargo4, df_kargo_desi_min, how=\"left\", on=\"Ürün Adı\")\n",
    "df_kargo_desi_min_merge.head(5)"
   ]
  },
  {
   "cell_type": "code",
   "execution_count": null,
   "metadata": {},
   "outputs": [],
   "source": [
    "df_kargo_desi_min_max_merge = pd.merge(df_kargo_desi_min_merge, df_kargo_desi_max, how=\"left\", on=\"Ürün Adı\")\n",
    "df_kargo_desi_min_max_merge.head(5)"
   ]
  },
  {
   "cell_type": "code",
   "execution_count": null,
   "metadata": {},
   "outputs": [],
   "source": [
    "df_kargo_desi_min_max_mean_merge = pd.merge(df_kargo_desi_min_max_merge, df_kargo_desi_mean, how=\"left\", on=\"Ürün Adı\")\n",
    "df_kargo_desi_min_max_mean_merge.head(5)"
   ]
  },
  {
   "cell_type": "code",
   "execution_count": null,
   "metadata": {},
   "outputs": [],
   "source": [
    "# df_kargo_desi_min_max_mean_merge.to_excel(r\"C:\\Users\\user\\Downloads\\Trendyol Kargo Desi Min Max Ortalama.xlsx\", index=False)"
   ]
  },
  {
   "cell_type": "code",
   "execution_count": null,
   "metadata": {},
   "outputs": [],
   "source": [
    "df_kargo_desi_min_max_mean_most_merge = pd.merge(df_kargo_desi_min_max_mean_merge, df_kargo_desi_most_freq, how=\"left\", on=\"Ürün Adı\")\n",
    "df_kargo_desi_min_max_mean_most_merge.head(5)"
   ]
  },
  {
   "cell_type": "code",
   "execution_count": null,
   "metadata": {},
   "outputs": [],
   "source": [
    "# df_kargo_desi_min_max_mean_most_merge.to_excel(r\"C:\\Users\\user\\Downloads\\Trendyol Kargo Desi Min Max Ortalama En Sık.xlsx\", index=False)"
   ]
  },
  {
   "cell_type": "code",
   "execution_count": null,
   "metadata": {},
   "outputs": [],
   "source": []
  },
  {
   "cell_type": "markdown",
   "metadata": {},
   "source": [
    "#### Kargo Desi Fiyat Ekleme"
   ]
  },
  {
   "cell_type": "code",
   "execution_count": null,
   "metadata": {},
   "outputs": [],
   "source": [
    "df_kargo_desi_fiyat = pd.read_excel(r\"C:\\Users\\user\\Desktop\\Data Analysis\\Adoba\\Sales_Report\\Data\\Kargo\\Kargo Desi Fiyatları (29.07.2024).xlsx\")\n",
    "df_kargo_desi_fiyat"
   ]
  },
  {
   "cell_type": "code",
   "execution_count": null,
   "metadata": {},
   "outputs": [],
   "source": [
    "df_kargo_desi_fiyat.columns"
   ]
  },
  {
   "cell_type": "code",
   "execution_count": null,
   "metadata": {},
   "outputs": [],
   "source": [
    "# kargo_list = ['Aras', 'MNG', 'PTT', 'Sendeo', 'Sürat', 'TEX', 'Yurtiçi','Borusan', 'CEVA', 'Horoz']"
   ]
  },
  {
   "cell_type": "code",
   "execution_count": null,
   "metadata": {},
   "outputs": [],
   "source": [
    "# for kargo in kargo_list:\n",
    "#     df_kargo_desi_fiyat2[f\"{kargo}\"] = df_kargo_desi_fiyat2[f\"{kargo}\"]*1.20\n",
    "# df_kargo_desi_fiyat2"
   ]
  },
  {
   "cell_type": "code",
   "execution_count": null,
   "metadata": {},
   "outputs": [],
   "source": [
    "df_kargo_desi_fiyat2 = pd.melt(df_kargo_desi_fiyat, id_vars=['Desi/KG'], value_vars=['Aras','MNG','PTT','Sendeo','Sürat','TEX','Yurtiçi','Borusan','CEVA','Horoz'])\n",
    "df_kargo_desi_fiyat2"
   ]
  },
  {
   "cell_type": "code",
   "execution_count": null,
   "metadata": {},
   "outputs": [],
   "source": [
    "df_kargo_desi_fiyat2 = df_kargo_desi_fiyat2.rename(columns={\"variable\":\"Kargo Firması\",\"value\":\"Kargo Fiyat\"})\n",
    "df_kargo_desi_fiyat2"
   ]
  },
  {
   "cell_type": "code",
   "execution_count": null,
   "metadata": {},
   "outputs": [],
   "source": []
  },
  {
   "cell_type": "code",
   "execution_count": null,
   "metadata": {},
   "outputs": [],
   "source": [
    "df_trend_kargo = pd.read_excel(r\"C:\\Users\\user\\Downloads\\Trendyol Kargo Desi Min Max Ortalama En Sık.xlsx\")\n",
    "df_trend_kargo.head(5)"
   ]
  },
  {
   "cell_type": "code",
   "execution_count": null,
   "metadata": {},
   "outputs": [],
   "source": [
    "df_trend_kargo[\"Kargo Firması\"].unique()"
   ]
  },
  {
   "cell_type": "code",
   "execution_count": null,
   "metadata": {},
   "outputs": [],
   "source": [
    "def change_kargo_name(var):\n",
    "    '''\n",
    "    This function converts cargo names.\n",
    "    '''\n",
    "    if var == \"Trendyol Express Marketplace\":\n",
    "        return 'TEX'\n",
    "    elif var == \"MNG Kargo Marketplace\":\n",
    "        return 'MNG'\n",
    "    elif var == 'Yurtiçi Kargo Marketplace':\n",
    "        return 'Yurtiçi'\n",
    "    elif var == 'PTT Kargo Marketplace':\n",
    "        return 'PTT'\n",
    "    elif var == 'Sürat Kargo Marketplace':\n",
    "        return 'Sürat'\n",
    "    else:\n",
    "        return var"
   ]
  },
  {
   "cell_type": "code",
   "execution_count": null,
   "metadata": {},
   "outputs": [],
   "source": [
    "df_trend_kargo[\"Kargo Firması\"] = df_trend_kargo[\"Kargo Firması\"].apply(lambda var: change_kargo_name(var))\n",
    "df_trend_kargo.head(5)"
   ]
  },
  {
   "cell_type": "code",
   "execution_count": null,
   "metadata": {},
   "outputs": [],
   "source": [
    "df_trend_kargo2 = df_trend_kargo.dropna(subset=\"Kargodan alınan desi\")\n",
    "df_trend_kargo2.head(5)"
   ]
  },
  {
   "cell_type": "code",
   "execution_count": null,
   "metadata": {},
   "outputs": [],
   "source": [
    "math.ceil(4)"
   ]
  },
  {
   "cell_type": "code",
   "execution_count": null,
   "metadata": {},
   "outputs": [],
   "source": [
    "df_trend_kargo2.loc[:,\"kargo desi min\"] = df_trend_kargo2.loc[:,\"kargo desi min\"].apply(lambda x: math.ceil(x))\n",
    "df_trend_kargo2.loc[:,\"kargo desi max\"] = df_trend_kargo2.loc[:,\"kargo desi max\"].apply(lambda x: math.ceil(x))\n",
    "df_trend_kargo2.loc[:,\"kargo desi ortalama\"] = df_trend_kargo2.loc[:,\"kargo desi ortalama\"].apply(lambda x: math.ceil(x))\n",
    "df_trend_kargo2.loc[:,\"kargo desi en sık\"] = df_trend_kargo2.loc[:,\"kargo desi en sık\"].apply(lambda x: math.ceil(x))\n",
    "df_trend_kargo2.reset_index(drop=True, inplace=True)\n",
    "df_trend_kargo2.head(5)"
   ]
  },
  {
   "cell_type": "code",
   "execution_count": null,
   "metadata": {},
   "outputs": [],
   "source": [
    "df_kargo_desi_fiyat2.head(5)"
   ]
  },
  {
   "cell_type": "code",
   "execution_count": null,
   "metadata": {},
   "outputs": [],
   "source": [
    "# 1 way cargo price\n",
    "df_trend_kargo_desi_min = pd.merge(df_trend_kargo2, df_kargo_desi_fiyat2, how='left', left_on=['kargo desi min','Kargo Firması'], right_on=['Desi/KG','Kargo Firması']).drop('Desi/KG', axis=1)\n",
    "df_trend_kargo_desi_min.rename(columns={\"Kargo Fiyat\":\"Kargo Fiyat Min\"}, inplace=True)\n",
    "df_trend_kargo_desi_min.head(5)"
   ]
  },
  {
   "cell_type": "code",
   "execution_count": null,
   "metadata": {},
   "outputs": [],
   "source": [
    "df_trend_kargo_desi_min_max = pd.merge(df_trend_kargo_desi_min, df_kargo_desi_fiyat2, how='left', left_on=['kargo desi max','Kargo Firması'], right_on=['Desi/KG','Kargo Firması']).drop('Desi/KG', axis=1)\n",
    "df_trend_kargo_desi_min_max.rename(columns={\"Kargo Fiyat\":\"Kargo Fiyat Max\"}, inplace=True)\n",
    "df_trend_kargo_desi_min_max.head(5)"
   ]
  },
  {
   "cell_type": "code",
   "execution_count": null,
   "metadata": {},
   "outputs": [],
   "source": [
    "df_trend_kargo_desi_min_max_mean = pd.merge(df_trend_kargo_desi_min_max, df_kargo_desi_fiyat2, how='left', left_on=['kargo desi ortalama','Kargo Firması'], right_on=['Desi/KG','Kargo Firması']).drop('Desi/KG', axis=1)\n",
    "df_trend_kargo_desi_min_max_mean.rename(columns={\"Kargo Fiyat\":\"Kargo Fiyat Ortalama\"}, inplace=True)\n",
    "df_trend_kargo_desi_min_max_mean.head(5)"
   ]
  },
  {
   "cell_type": "code",
   "execution_count": null,
   "metadata": {},
   "outputs": [],
   "source": [
    "df_trend_kargo_desi_min_max_mean_most = pd.merge(df_trend_kargo_desi_min_max_mean, df_kargo_desi_fiyat2, how='left', left_on=['kargo desi en sık','Kargo Firması'], right_on=['Desi/KG','Kargo Firması']).drop('Desi/KG', axis=1)\n",
    "df_trend_kargo_desi_min_max_mean_most.rename(columns={\"Kargo Fiyat\":\"Kargo Fiyat En Sık\"}, inplace=True)\n",
    "df_trend_kargo_desi_min_max_mean_most.head(5)"
   ]
  },
  {
   "cell_type": "code",
   "execution_count": null,
   "metadata": {},
   "outputs": [],
   "source": [
    "# # 2 way cargo price\n",
    "# df_trend_kargo2.loc[:,\"Kargo Fiyat Min\"] = df_trend_kargo2.apply(lambda row: df_kargo_desi_fiyat[df_kargo_desi_fiyat.loc[:,\"Desi/KG\"] == row[\"kargo desi min\"]][f\"{row[\"Kargo Firması\"]}\"].values[0], axis=1)\n",
    "# df_trend_kargo2.loc[:,\"Kargo Fiyat Max\"] = df_trend_kargo2.apply(lambda row: df_kargo_desi_fiyat[df_kargo_desi_fiyat.loc[:,\"Desi/KG\"] == row[\"kargo desi max\"]][f\"{row[\"Kargo Firması\"]}\"].values[0], axis=1)\n",
    "# df_trend_kargo2.loc[:,\"Kargo Fiyat Ortalama\"] = df_trend_kargo2.apply(lambda row: df_kargo_desi_fiyat[df_kargo_desi_fiyat.loc[:,\"Desi/KG\"] == row[\"kargo desi ortalama\"]][f\"{row[\"Kargo Firması\"]}\"].values[0], axis=1)\n",
    "# df_trend_kargo2.loc[:,\"Kargo Fiyat En Sık\"] = df_trend_kargo2.apply(lambda row: df_kargo_desi_fiyat[df_kargo_desi_fiyat.loc[:,\"Desi/KG\"] == row[\"kargo desi en sık\"]][f\"{row[\"Kargo Firması\"]}\"].values[0], axis=1)\n",
    "# df_trend_kargo_desi_min_max_mean = df_trend_kargo2\n",
    "# df_trend_kargo_desi_min_max_mean"
   ]
  },
  {
   "cell_type": "code",
   "execution_count": null,
   "metadata": {},
   "outputs": [],
   "source": [
    "# df_trend_kargo_desi_min_max_mean_most.to_excel(r\"C:\\Users\\user\\Downloads\\Trendyol Kargo Desi Min Max Ortalama En Sık Fiyat3.xlsx\", index=False)"
   ]
  },
  {
   "cell_type": "code",
   "execution_count": null,
   "metadata": {},
   "outputs": [],
   "source": []
  },
  {
   "cell_type": "code",
   "execution_count": null,
   "metadata": {},
   "outputs": [],
   "source": []
  },
  {
   "cell_type": "code",
   "execution_count": null,
   "metadata": {},
   "outputs": [],
   "source": []
  },
  {
   "cell_type": "markdown",
   "metadata": {},
   "source": [
    "##### Temp"
   ]
  },
  {
   "cell_type": "code",
   "execution_count": null,
   "metadata": {},
   "outputs": [],
   "source": [
    "df_trend_kargo2"
   ]
  },
  {
   "cell_type": "code",
   "execution_count": null,
   "metadata": {},
   "outputs": [],
   "source": [
    "df_kargo_desi_fiyat"
   ]
  },
  {
   "cell_type": "code",
   "execution_count": null,
   "metadata": {},
   "outputs": [],
   "source": [
    "df_kargo_desi_fiyat[df_kargo_desi_fiyat[\"Desi/KG\"] == 2][f\"Sendeo\"].values[0]"
   ]
  },
  {
   "cell_type": "code",
   "execution_count": null,
   "metadata": {},
   "outputs": [],
   "source": [
    "df_trend_kargo2"
   ]
  },
  {
   "cell_type": "code",
   "execution_count": null,
   "metadata": {},
   "outputs": [],
   "source": [
    "df_trend_kargo2[\"kargo desi min\"]"
   ]
  },
  {
   "cell_type": "code",
   "execution_count": null,
   "metadata": {},
   "outputs": [],
   "source": [
    "df_trend_kargo2.loc[:,\"Kargo Fiyat Min\"] = df_trend_kargo2.apply(lambda row: df_kargo_desi_fiyat[df_kargo_desi_fiyat[\"Desi/KG\"] == row[\"kargo desi min\"]][f\"{row[\"Kargo Firması\"]}\"].values[0], axis=1)\n",
    "df_trend_kargo2.loc[:,\"Kargo Fiyat Max\"] = df_trend_kargo2.apply(lambda row: df_kargo_desi_fiyat[df_kargo_desi_fiyat[\"Desi/KG\"] == row[\"kargo desi max\"]][f\"{row[\"Kargo Firması\"]}\"].values[0], axis=1)\n",
    "df_trend_kargo2.loc[:,\"Kargo Fiyat Ortalama\"] = df_trend_kargo2.apply(lambda row: df_kargo_desi_fiyat[df_kargo_desi_fiyat[\"Desi/KG\"] == row[\"kargo desi ortalama\"]][f\"{row[\"Kargo Firması\"]}\"].values[0], axis=1)\n",
    "df_trend_kargo2"
   ]
  },
  {
   "cell_type": "code",
   "execution_count": null,
   "metadata": {},
   "outputs": [],
   "source": []
  }
 ],
 "metadata": {
  "kernelspec": {
   "display_name": "Python 3",
   "language": "python",
   "name": "python3"
  },
  "language_info": {
   "codemirror_mode": {
    "name": "ipython",
    "version": 3
   },
   "file_extension": ".py",
   "mimetype": "text/x-python",
   "name": "python",
   "nbconvert_exporter": "python",
   "pygments_lexer": "ipython3",
   "version": "3.12.4"
  }
 },
 "nbformat": 4,
 "nbformat_minor": 2
}
