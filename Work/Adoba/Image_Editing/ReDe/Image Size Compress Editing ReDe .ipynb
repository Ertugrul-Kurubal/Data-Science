{
 "cells": [
  {
   "cell_type": "markdown",
   "metadata": {},
   "source": [
    "### Image Size Compress Editing"
   ]
  },
  {
   "cell_type": "code",
   "execution_count": 1,
   "metadata": {},
   "outputs": [],
   "source": [
    "# pip install imutils"
   ]
  },
  {
   "cell_type": "code",
   "execution_count": 10,
   "metadata": {},
   "outputs": [],
   "source": [
    "import PIL\n",
    "from PIL import Image\n",
    "import pandas as pd\n",
    "import numpy as np\n",
    "import os\n",
    "import sys\n",
    "import imutils\n",
    "import matplotlib.pyplot as plt\n",
    "%matplotlib inline\n",
    "from pathlib import Path\n",
    "import shutil\n",
    "import os \n",
    "from os.path import isfile, join\n",
    "import glob\n",
    "import time\n",
    "import cv2"
   ]
  },
  {
   "cell_type": "code",
   "execution_count": null,
   "metadata": {},
   "outputs": [],
   "source": []
  },
  {
   "cell_type": "markdown",
   "metadata": {},
   "source": [
    "#### Image Compress"
   ]
  },
  {
   "cell_type": "code",
   "execution_count": 34,
   "metadata": {},
   "outputs": [],
   "source": [
    "def compress_image(input_path, output_path, quality=80):\n",
    "    # Resmi aç\n",
    "    with Image.open(input_path) as img:\n",
    "        # RGB moduna dönüştür (gerekirse)\n",
    "        img = img.convert('RGB')\n",
    "        # Sıkıştırılmış resmi kaydet\n",
    "        #img.save(output_path, 'JPEG', optimize=True, quality=quality)  # JPG\n",
    "        img.save(output_path, 'WEBP', optimize=True, quality=quality)   # WEBP"
   ]
  },
  {
   "cell_type": "code",
   "execution_count": 35,
   "metadata": {},
   "outputs": [],
   "source": [
    "input_image = r'C:\\Users\\user\\Desktop\\Data Analysis\\Adoba\\Image_Editing\\Data\\Test_Data\\MONTREAL-QUEBEC.jpeg'\n",
    "output_image = r'C:\\Users\\user\\Desktop\\Data Analysis\\Adoba\\Image_Editing\\Result\\Test_Result\\MONTREAL-QUEBEC2.webp'"
   ]
  },
  {
   "cell_type": "code",
   "execution_count": 36,
   "metadata": {},
   "outputs": [],
   "source": [
    "compress_image(input_image, output_image, quality=80)"
   ]
  },
  {
   "cell_type": "code",
   "execution_count": null,
   "metadata": {},
   "outputs": [],
   "source": []
  },
  {
   "cell_type": "code",
   "execution_count": 37,
   "metadata": {},
   "outputs": [],
   "source": [
    "input_image_path = r\"C:\\Users\\user\\Desktop\\Data Analysis\\Adoba\\Image_Editing\\Data\\Test_Data\"\n",
    "output_image_path = r\"C:\\Users\\user\\Desktop\\Data Analysis\\Adoba\\Image_Editing\\Result\\Test_Result\\Test\"\n",
    "Path(output_image_path).mkdir(parents=True, exist_ok=True)"
   ]
  },
  {
   "cell_type": "code",
   "execution_count": 38,
   "metadata": {},
   "outputs": [
    {
     "data": {
      "text/plain": [
       "['C:\\\\Users\\\\user\\\\Desktop\\\\Data Analysis\\\\Adoba\\\\Image_Editing\\\\Data\\\\Test_Data\\\\MONTREAL-QUEBEC-Resize.jpg',\n",
       " 'C:\\\\Users\\\\user\\\\Desktop\\\\Data Analysis\\\\Adoba\\\\Image_Editing\\\\Data\\\\Test_Data\\\\MONTREAL-QUEBEC.jpeg',\n",
       " 'C:\\\\Users\\\\user\\\\Desktop\\\\Data Analysis\\\\Adoba\\\\Image_Editing\\\\Data\\\\Test_Data\\\\MONTREAL-QUEBEC2.jpeg',\n",
       " 'C:\\\\Users\\\\user\\\\Desktop\\\\Data Analysis\\\\Adoba\\\\Image_Editing\\\\Data\\\\Test_Data\\\\MONTREAL-QUEBEC3.webp',\n",
       " 'C:\\\\Users\\\\user\\\\Desktop\\\\Data Analysis\\\\Adoba\\\\Image_Editing\\\\Data\\\\Test_Data\\\\Road.jpg',\n",
       " 'C:\\\\Users\\\\user\\\\Desktop\\\\Data Analysis\\\\Adoba\\\\Image_Editing\\\\Data\\\\Test_Data\\\\vancouver-house-1.webp',\n",
       " 'C:\\\\Users\\\\user\\\\Desktop\\\\Data Analysis\\\\Adoba\\\\Image_Editing\\\\Data\\\\Test_Data\\\\vancouver-house-12.jpeg',\n",
       " 'C:\\\\Users\\\\user\\\\Desktop\\\\Data Analysis\\\\Adoba\\\\Image_Editing\\\\Data\\\\Test_Data\\\\vancouver-house-13.webp']"
      ]
     },
     "execution_count": 38,
     "metadata": {},
     "output_type": "execute_result"
    }
   ],
   "source": [
    "image_file_list = glob.glob(fr\"{input_image_path}\\*\")\n",
    "image_file_list"
   ]
  },
  {
   "cell_type": "code",
   "execution_count": 39,
   "metadata": {},
   "outputs": [],
   "source": [
    "result_path = f\"{output_image_path}\"\n",
    "Path(result_path).mkdir(parents=True, exist_ok=True)\n",
    "for img_file in image_file_list:\n",
    "    img_file_name = os.path.basename(f\"{img_file}\")\n",
    "    img_file_no_ext = os.path.splitext(img_file_name)[0]\n",
    "    output_image = f\"{result_path}\\\\{img_file_no_ext}.webp\"\n",
    "    compress_image(img_file, output_image, quality=80)"
   ]
  },
  {
   "cell_type": "code",
   "execution_count": null,
   "metadata": {},
   "outputs": [],
   "source": []
  },
  {
   "cell_type": "code",
   "execution_count": null,
   "metadata": {},
   "outputs": [],
   "source": []
  },
  {
   "cell_type": "markdown",
   "metadata": {},
   "source": [
    "#### OS Path Test"
   ]
  },
  {
   "cell_type": "code",
   "execution_count": 40,
   "metadata": {},
   "outputs": [
    {
     "data": {
      "text/plain": [
       "['C:\\\\Users\\\\user\\\\Desktop\\\\Data Analysis\\\\Adoba\\\\Image_Editing\\\\Data\\\\Test_Data\\\\MONTREAL-QUEBEC-Resize.jpg',\n",
       " 'C:\\\\Users\\\\user\\\\Desktop\\\\Data Analysis\\\\Adoba\\\\Image_Editing\\\\Data\\\\Test_Data\\\\MONTREAL-QUEBEC.jpeg',\n",
       " 'C:\\\\Users\\\\user\\\\Desktop\\\\Data Analysis\\\\Adoba\\\\Image_Editing\\\\Data\\\\Test_Data\\\\MONTREAL-QUEBEC2.jpeg',\n",
       " 'C:\\\\Users\\\\user\\\\Desktop\\\\Data Analysis\\\\Adoba\\\\Image_Editing\\\\Data\\\\Test_Data\\\\MONTREAL-QUEBEC3.webp',\n",
       " 'C:\\\\Users\\\\user\\\\Desktop\\\\Data Analysis\\\\Adoba\\\\Image_Editing\\\\Data\\\\Test_Data\\\\Road.jpg',\n",
       " 'C:\\\\Users\\\\user\\\\Desktop\\\\Data Analysis\\\\Adoba\\\\Image_Editing\\\\Data\\\\Test_Data\\\\vancouver-house-1.webp',\n",
       " 'C:\\\\Users\\\\user\\\\Desktop\\\\Data Analysis\\\\Adoba\\\\Image_Editing\\\\Data\\\\Test_Data\\\\vancouver-house-12.jpeg',\n",
       " 'C:\\\\Users\\\\user\\\\Desktop\\\\Data Analysis\\\\Adoba\\\\Image_Editing\\\\Data\\\\Test_Data\\\\vancouver-house-13.webp']"
      ]
     },
     "execution_count": 40,
     "metadata": {},
     "output_type": "execute_result"
    }
   ],
   "source": [
    "glob.glob(r\"C:\\Users\\user\\Desktop\\Data Analysis\\Adoba\\Image_Editing\\Data\\Test_Data\\*\")"
   ]
  },
  {
   "cell_type": "code",
   "execution_count": 41,
   "metadata": {},
   "outputs": [
    {
     "data": {
      "text/plain": [
       "['MONTREAL-QUEBEC-Resize.jpg',\n",
       " 'MONTREAL-QUEBEC.jpeg',\n",
       " 'MONTREAL-QUEBEC2.jpeg',\n",
       " 'MONTREAL-QUEBEC3.webp',\n",
       " 'Road.jpg',\n",
       " 'vancouver-house-1.webp',\n",
       " 'vancouver-house-12.jpeg',\n",
       " 'vancouver-house-13.webp']"
      ]
     },
     "execution_count": 41,
     "metadata": {},
     "output_type": "execute_result"
    }
   ],
   "source": [
    "os.listdir(r\"C:\\Users\\user\\Desktop\\Data Analysis\\Adoba\\Image_Editing\\Data\\Test_Data\")"
   ]
  },
  {
   "cell_type": "code",
   "execution_count": 42,
   "metadata": {},
   "outputs": [
    {
     "data": {
      "text/plain": [
       "'C:\\\\Users\\\\user\\\\Desktop\\\\Data Analysis\\\\Adoba\\\\Image_Editing\\\\Data\\\\Test_Data'"
      ]
     },
     "execution_count": 42,
     "metadata": {},
     "output_type": "execute_result"
    }
   ],
   "source": [
    "os.path.dirname(r\"C:\\Users\\user\\Desktop\\Data Analysis\\Adoba\\Image_Editing\\Data\\Test_Data\\MONTREAL-QUEBEC.jpeg\")"
   ]
  },
  {
   "cell_type": "code",
   "execution_count": 43,
   "metadata": {},
   "outputs": [
    {
     "data": {
      "text/plain": [
       "'MONTREAL-QUEBEC.jpeg'"
      ]
     },
     "execution_count": 43,
     "metadata": {},
     "output_type": "execute_result"
    }
   ],
   "source": [
    "os.path.basename(r\"C:\\Users\\user\\Desktop\\Data Analysis\\Adoba\\Image_Editing\\Data\\Test_Data\\MONTREAL-QUEBEC.jpeg\")"
   ]
  },
  {
   "cell_type": "code",
   "execution_count": 44,
   "metadata": {},
   "outputs": [
    {
     "data": {
      "text/plain": [
       "'file'"
      ]
     },
     "execution_count": 44,
     "metadata": {},
     "output_type": "execute_result"
    }
   ],
   "source": [
    "os.path.splitext(os.path.basename(\"/path/to/file.txt\"))[0]"
   ]
  },
  {
   "cell_type": "code",
   "execution_count": 45,
   "metadata": {},
   "outputs": [
    {
     "data": {
      "text/plain": [
       "'.txt'"
      ]
     },
     "execution_count": 45,
     "metadata": {},
     "output_type": "execute_result"
    }
   ],
   "source": [
    "os.path.splitext(os.path.basename(\"/path/to/file.txt\"))[1]"
   ]
  },
  {
   "cell_type": "code",
   "execution_count": null,
   "metadata": {},
   "outputs": [],
   "source": []
  },
  {
   "cell_type": "code",
   "execution_count": null,
   "metadata": {},
   "outputs": [],
   "source": []
  },
  {
   "cell_type": "markdown",
   "metadata": {},
   "source": [
    "#### OpenCV Image Resize"
   ]
  },
  {
   "cell_type": "code",
   "execution_count": 46,
   "metadata": {},
   "outputs": [],
   "source": [
    "def image_resize(image, width = None, height = None, inter = cv2.INTER_AREA):\n",
    "    # initialize the dimensions of the image to be resized and\n",
    "    # grab the image size\n",
    "    dim = None\n",
    "    (h, w) = image.shape[:2]\n",
    "\n",
    "    # if both the width and height are None, then return the\n",
    "    # original image\n",
    "    if width is None and height is None:\n",
    "        return image\n",
    "\n",
    "    # check to see if the width is None\n",
    "    if width is None:\n",
    "        # calculate the ratio of the height and construct the\n",
    "        # dimensions\n",
    "        r = height / float(h)\n",
    "        dim = (int(w * r), height)\n",
    "\n",
    "    # otherwise, the height is None\n",
    "    else:\n",
    "        # calculate the ratio of the width and construct the\n",
    "        # dimensions\n",
    "        r = width / float(w)\n",
    "        dim = (width, int(h * r))\n",
    "\n",
    "    # resize the image\n",
    "    resized = cv2.resize(image, dim, interpolation = inter)\n",
    "\n",
    "    # return the resized image\n",
    "    return resized"
   ]
  },
  {
   "cell_type": "code",
   "execution_count": 47,
   "metadata": {},
   "outputs": [],
   "source": [
    "img = cv2.imread(r\"C:\\Users\\user\\Desktop\\Data Analysis\\Adoba\\Image_Editing\\Data\\Test_Data\\MONTREAL-QUEBEC.jpeg\")  # Note: Not working file path if any turkish character in file path name\n",
    "# img"
   ]
  },
  {
   "cell_type": "code",
   "execution_count": 48,
   "metadata": {},
   "outputs": [
    {
     "data": {
      "text/plain": [
       "array([[[162, 144, 157],\n",
       "        [161, 144, 159],\n",
       "        [161, 145, 158],\n",
       "        ...,\n",
       "        [115, 149, 191],\n",
       "        [114, 148, 191],\n",
       "        [119, 151, 188]],\n",
       "\n",
       "       [[161, 145, 158],\n",
       "        [161, 145, 159],\n",
       "        [161, 145, 158],\n",
       "        ...,\n",
       "        [114, 148, 191],\n",
       "        [114, 148, 191],\n",
       "        [120, 151, 189]],\n",
       "\n",
       "       [[160, 145, 157],\n",
       "        [162, 145, 158],\n",
       "        [160, 147, 158],\n",
       "        ...,\n",
       "        [115, 149, 192],\n",
       "        [115, 149, 192],\n",
       "        [118, 151, 188]],\n",
       "\n",
       "       ...,\n",
       "\n",
       "       [[ 21, 137,  94],\n",
       "        [ 19, 135,  94],\n",
       "        [ 25, 149, 104],\n",
       "        ...,\n",
       "        [ 72,  83,  96],\n",
       "        [ 72,  83,  94],\n",
       "        [105, 119, 130]],\n",
       "\n",
       "       [[ 25, 145, 101],\n",
       "        [ 26, 148, 102],\n",
       "        [ 27, 159, 110],\n",
       "        ...,\n",
       "        [ 75,  87, 100],\n",
       "        [ 76,  87, 100],\n",
       "        [107, 121, 134]],\n",
       "\n",
       "       [[ 79, 171, 137],\n",
       "        [ 78, 181, 143],\n",
       "        [ 78, 172, 138],\n",
       "        ...,\n",
       "        [114, 128, 138],\n",
       "        [113, 127, 137],\n",
       "        [137, 153, 163]]], dtype=uint8)"
      ]
     },
     "execution_count": 48,
     "metadata": {},
     "output_type": "execute_result"
    }
   ],
   "source": [
    "image = image_resize(img, width = 1280, height = None, inter = cv2.INTER_AREA)\n",
    "image"
   ]
  },
  {
   "cell_type": "code",
   "execution_count": null,
   "metadata": {},
   "outputs": [],
   "source": []
  },
  {
   "cell_type": "code",
   "execution_count": null,
   "metadata": {},
   "outputs": [],
   "source": []
  },
  {
   "cell_type": "markdown",
   "metadata": {},
   "source": [
    "#### PIL Image Resize"
   ]
  },
  {
   "cell_type": "code",
   "execution_count": 49,
   "metadata": {},
   "outputs": [],
   "source": [
    "input_image = r\"C:\\Users\\user\\Desktop\\Data Analysis\\Adoba\\Image_Editing\\Data\\Test_Data\\MONTREAL-QUEBEC.jpeg\""
   ]
  },
  {
   "cell_type": "code",
   "execution_count": 50,
   "metadata": {},
   "outputs": [],
   "source": [
    "im = Image.open(input_image)\n",
    "width, height = im.size\n",
    "im = im.resize((width//2, height//2))"
   ]
  },
  {
   "cell_type": "code",
   "execution_count": 51,
   "metadata": {},
   "outputs": [],
   "source": [
    "im.save(\"MONTREAL-QUEBEC-Resize.jpeg\")\n",
    "im.save(\"MONTREAL-QUEBEC-Resize.webp\")"
   ]
  },
  {
   "cell_type": "code",
   "execution_count": null,
   "metadata": {},
   "outputs": [],
   "source": []
  },
  {
   "cell_type": "markdown",
   "metadata": {},
   "source": [
    "##### For Loop"
   ]
  },
  {
   "cell_type": "code",
   "execution_count": 52,
   "metadata": {},
   "outputs": [],
   "source": [
    "input_image_path = r\"C:\\Users\\user\\Desktop\\Data Analysis\\Adoba\\Image_Editing\\Data\\Test_Data\"\n",
    "output_image_path = r\"C:\\Users\\user\\Desktop\\Data Analysis\\Adoba\\Image_Editing\\Result\\Test_Result\\Test2\"\n",
    "Path(output_image_path).mkdir(parents=True, exist_ok=True)"
   ]
  },
  {
   "cell_type": "code",
   "execution_count": 53,
   "metadata": {},
   "outputs": [
    {
     "data": {
      "text/plain": [
       "['C:\\\\Users\\\\user\\\\Desktop\\\\Data Analysis\\\\Adoba\\\\Image_Editing\\\\Data\\\\Test_Data\\\\MONTREAL-QUEBEC-Resize.jpg',\n",
       " 'C:\\\\Users\\\\user\\\\Desktop\\\\Data Analysis\\\\Adoba\\\\Image_Editing\\\\Data\\\\Test_Data\\\\MONTREAL-QUEBEC.jpeg',\n",
       " 'C:\\\\Users\\\\user\\\\Desktop\\\\Data Analysis\\\\Adoba\\\\Image_Editing\\\\Data\\\\Test_Data\\\\MONTREAL-QUEBEC2.jpeg',\n",
       " 'C:\\\\Users\\\\user\\\\Desktop\\\\Data Analysis\\\\Adoba\\\\Image_Editing\\\\Data\\\\Test_Data\\\\MONTREAL-QUEBEC3.webp',\n",
       " 'C:\\\\Users\\\\user\\\\Desktop\\\\Data Analysis\\\\Adoba\\\\Image_Editing\\\\Data\\\\Test_Data\\\\Road.jpg',\n",
       " 'C:\\\\Users\\\\user\\\\Desktop\\\\Data Analysis\\\\Adoba\\\\Image_Editing\\\\Data\\\\Test_Data\\\\vancouver-house-1.webp',\n",
       " 'C:\\\\Users\\\\user\\\\Desktop\\\\Data Analysis\\\\Adoba\\\\Image_Editing\\\\Data\\\\Test_Data\\\\vancouver-house-12.jpeg',\n",
       " 'C:\\\\Users\\\\user\\\\Desktop\\\\Data Analysis\\\\Adoba\\\\Image_Editing\\\\Data\\\\Test_Data\\\\vancouver-house-13.webp']"
      ]
     },
     "execution_count": 53,
     "metadata": {},
     "output_type": "execute_result"
    }
   ],
   "source": [
    "image_file_list = glob.glob(fr\"{input_image_path}\\*\")\n",
    "image_file_list"
   ]
  },
  {
   "cell_type": "code",
   "execution_count": 54,
   "metadata": {},
   "outputs": [],
   "source": [
    "# result_path = f\"{input_image_path}\\\\Test2\"\n",
    "# Path(result_path).mkdir(parents=True, exist_ok=True)"
   ]
  },
  {
   "cell_type": "code",
   "execution_count": 55,
   "metadata": {},
   "outputs": [],
   "source": [
    "# all_files = []\n",
    "# success_file = []\n",
    "error_files = []\n",
    "width_fixed = 1280\n",
    "result_path = f\"{output_image_path}\"\n",
    "Path(result_path).mkdir(parents=True, exist_ok=True)\n",
    "for img_file in image_file_list:\n",
    "    img_file_name = os.path.basename(f\"{img_file}\")\n",
    "    img_file_no_ext = os.path.splitext(img_file_name)[0]\n",
    "    # all_files.append(img_file_name)\n",
    "    im = Image.open(img_file)\n",
    "    width, height = im.size\n",
    "    try:\n",
    "        if width <= width_fixed:\n",
    "            #im.save(f\"{result_path}\\\\{img_file_name}\")\n",
    "            im.save(f\"{result_path}\\\\{img_file_no_ext}.webp\")\n",
    "            # success_file.append(img_file_name)\n",
    "        else:\n",
    "            width_var = int(width_fixed)\n",
    "            height_var = int((width_fixed/width)*height)\n",
    "            im = im.resize((width_var, height_var))\n",
    "            #im.save(f\"{result_path}\\\\{img_file_name}\")\n",
    "            im.save(f\"{result_path}\\\\{img_file_no_ext}.webp\")\n",
    "            # success_file.append(img_file_name)\n",
    "    except:\n",
    "        # pass\n",
    "        error_files.append(img_file_name)\n",
    "    \n",
    "# print(list(set(all_files).difference(set(success_file))))    "
   ]
  },
  {
   "cell_type": "code",
   "execution_count": null,
   "metadata": {},
   "outputs": [],
   "source": []
  },
  {
   "cell_type": "markdown",
   "metadata": {},
   "source": [
    "##### Function"
   ]
  },
  {
   "cell_type": "code",
   "execution_count": 56,
   "metadata": {},
   "outputs": [],
   "source": [
    "input_image_path = r\"C:\\Users\\user\\Desktop\\Data Analysis\\Adoba\\Image_Editing\\Data\\Test_Data\"\n",
    "output_image_path = r\"C:\\Users\\user\\Desktop\\Data Analysis\\Adoba\\Image_Editing\\Result\\Test_Result\\Test3\"\n",
    "Path(output_image_path).mkdir(parents=True, exist_ok=True)"
   ]
  },
  {
   "cell_type": "code",
   "execution_count": 8,
   "metadata": {},
   "outputs": [],
   "source": [
    "def image_resize(input_image_path, output_image_path, width_fixed = 1280):\n",
    "    image_file_list = glob.glob(fr\"{input_image_path}\\*\")\n",
    "    error_files = []\n",
    "    # width_fixed = 1280\n",
    "    result_path = f\"{output_image_path}\"\n",
    "    Path(result_path).mkdir(parents=True, exist_ok=True)\n",
    "    for img_file in image_file_list:\n",
    "        img_file_name = os.path.basename(f\"{img_file}\")\n",
    "        img_file_no_ext = os.path.splitext(img_file_name)[0]\n",
    "        im = Image.open(img_file)\n",
    "        width, height = im.size\n",
    "        try:\n",
    "            if width <= width_fixed:\n",
    "                im.save(f\"{result_path}\\\\{img_file_no_ext}.webp\")\n",
    "            else:\n",
    "                width_var = int(width_fixed)\n",
    "                height_var = int((width_fixed/width)*height)\n",
    "                im = im.resize((width_var, height_var))\n",
    "                im.save(f\"{result_path}\\\\{img_file_no_ext}.webp\")\n",
    "        except:\n",
    "            error_files.append(img_file_name)\n",
    "    \n",
    "    return error_files"
   ]
  },
  {
   "cell_type": "code",
   "execution_count": 9,
   "metadata": {},
   "outputs": [
    {
     "data": {
      "text/plain": [
       "[]"
      ]
     },
     "execution_count": 9,
     "metadata": {},
     "output_type": "execute_result"
    }
   ],
   "source": [
    "image_resize(input_image_path, output_image_path, width_fixed = 1280)"
   ]
  },
  {
   "cell_type": "code",
   "execution_count": null,
   "metadata": {},
   "outputs": [],
   "source": []
  },
  {
   "cell_type": "code",
   "execution_count": null,
   "metadata": {},
   "outputs": [],
   "source": []
  },
  {
   "cell_type": "markdown",
   "metadata": {},
   "source": [
    "#### Test"
   ]
  },
  {
   "cell_type": "code",
   "execution_count": 59,
   "metadata": {},
   "outputs": [
    {
     "name": "stdout",
     "output_type": "stream",
     "text": [
      "1823 2735 3\n"
     ]
    }
   ],
   "source": [
    "import numpy as np\n",
    "import cv2\n",
    "img = cv2.imread('MONTREAL-QUEBEC-Resize.webp')\n",
    "height, width, channels = img.shape\n",
    "print(height, width, channels)"
   ]
  },
  {
   "cell_type": "code",
   "execution_count": null,
   "metadata": {},
   "outputs": [],
   "source": []
  },
  {
   "cell_type": "markdown",
   "metadata": {},
   "source": [
    "#### Test 2"
   ]
  },
  {
   "cell_type": "code",
   "execution_count": 11,
   "metadata": {},
   "outputs": [
    {
     "name": "stdout",
     "output_type": "stream",
     "text": [
      "(1200, 1800)\n"
     ]
    }
   ],
   "source": [
    "aspect_ratio_width = 2\n",
    "aspect_ratio_height = 3\n",
    "basewidth = 1200\n",
    "size_width = int(basewidth)\n",
    "size_heigth = int((basewidth/aspect_ratio_width)*aspect_ratio_height)\n",
    "size = (size_width,size_heigth) \n",
    "print(size)"
   ]
  },
  {
   "cell_type": "code",
   "execution_count": 12,
   "metadata": {},
   "outputs": [
    {
     "data": {
      "text/plain": [
       "<matplotlib.image.AxesImage at 0x1c7fb6fd3a0>"
      ]
     },
     "execution_count": 12,
     "metadata": {},
     "output_type": "execute_result"
    },
    {
     "data": {
      "image/png": "[encoded data removed]",
      "text/plain": [
       "<Figure size 640x480 with 1 Axes>"
      ]
     },
     "metadata": {},
     "output_type": "display_data"
    }
   ],
   "source": [
    "img = Image.open(r'C:\\Users\\user\\Desktop\\Hegel REVO-VP-5KW\\Hegel REVO-VP-5KW-5.jpg')\n",
    "plt.imshow(img)"
   ]
  },
  {
   "cell_type": "code",
   "execution_count": 13,
   "metadata": {},
   "outputs": [],
   "source": [
    "width, height = img.size\n",
    "height_var = int(height/aspect_ratio_height)\n",
    "width_var = int(width/aspect_ratio_width)\n",
    "\n",
    "if height_var == width_var:\n",
    "    img_var = img.resize(size, Image.LANCZOS)\n",
    "elif width_var > height_var:\n",
    "    crop_width = int(abs((width-(height_var*aspect_ratio_width))/2))\n",
    "    box = (crop_width,0,width-crop_width,height)  # left, top, right, bottom\n",
    "    img_crop = img.crop(box)  \n",
    "    img_var = img_crop.resize(size, Image.LANCZOS)\n",
    "elif width_var < height_var:\n",
    "    crop_height = int(abs((height-(width_var*aspect_ratio_height))/2))\n",
    "    box = (0,crop_height,width,height-crop_height)  # left, top, right, bottom\n",
    "    img_crop = img.crop(box)  # left, top, right, bottom\n",
    "    img_var = img_crop.resize(size, Image.LANCZOS)\n",
    "else:\n",
    "    img_var = img\n",
    "\n",
    "img_var.save(r\"C:\\Users\\user\\Desktop\\Hegel REVO-VP-5KW\\Hegel REVO-VP-5KW-5 edit.jpg\")"
   ]
  },
  {
   "cell_type": "code",
   "execution_count": null,
   "metadata": {},
   "outputs": [],
   "source": []
  },
  {
   "cell_type": "code",
   "execution_count": 14,
   "metadata": {},
   "outputs": [],
   "source": [
    "def convert_image_to_jpg_crop_size(filename_list, data_folder_name, data_path, out_folder_name, out_path):\n",
    "    '''\n",
    "    convert_image_to_jpg_crop_size(filename_list, data_folder_name, data_path, out_folder_name, out_path)\\n\n",
    "    filename_list is image filename list. data_folder_name, data_path, out_folder_name and out_path are path and folder in string.\\n\n",
    "    ex.\\n\n",
    "    path = f\"/media/kurubal/SSD/Data Scientist/Data Science/Data-Scientist/Work/Modern Ways/Image Audio/Product\"\\n\n",
    "    image_path = f\"/media/kurubal/SSD/Data Scientist/Data Science/Data-Scientist/Work/Modern Ways/Image Audio/Product\"\\n\n",
    "    convert_image_to_jpg_crop_size(word_list, image_data_folder_name, image_data_path, \"Image_JPG_Crop\", data_path)\n",
    "    '''\n",
    "    aspect_ratio_width = 16\n",
    "    aspect_ratio_height = 9\n",
    "    basewidth = 1600\n",
    "    size_width = int(basewidth)\n",
    "    size_heigth = int((basewidth/aspect_ratio_width)*aspect_ratio_height)\n",
    "    size = (size_width,size_heigth)\n",
    "\n",
    "    result_path = f\"{out_path}/{out_folder_name}\"\n",
    "    result_path2 = f\"{out_path}/Images_JPG\"\n",
    "    data_folder_path = f\"{data_path}/{data_folder_name}\"\n",
    "    Path(result_path).mkdir(parents=True, exist_ok=True)\n",
    "    Path(result_path2).mkdir(parents=True, exist_ok=True)\n",
    "\n",
    "    files=[f for f in os.listdir(data_folder_path) if isfile(join(data_folder_path,f))]     \n",
    "    for i in range(len(files)):\n",
    "        #text = f\"{text}\"\n",
    "        pathfilename=data_folder_path+'/'+files[i]\n",
    "        filename_without_ext = os.path.splitext(files[i])[0]\n",
    "        try:\n",
    "            if isfile(f\"{result_path2}/{filename_without_ext}.jpg\"):\n",
    "                pass\n",
    "            else:\n",
    "                img = Image.open(pathfilename)\n",
    "                img2 = img.convert(\"RGB\")\n",
    "                img2.save(f\"{result_path2}/{filename_without_ext}.jpg\")\n",
    "                time.sleep(0.1)\n",
    "        except:\n",
    "            print(\"Oops!\", sys.exc_info()[0], \"occurred.\")\n",
    "\n",
    "    for filename in filename_list:    \n",
    "        if isfile(f\"{result_path}/{filename}.jpg\"):\n",
    "            pass\n",
    "        else:\n",
    "            try:\n",
    "                img3 = Image.open(f\"{result_path2}/{filename}.jpg\")  # ???\n",
    "                width, height = img3.size\n",
    "                height_var = int(height/aspect_ratio_height)\n",
    "                width_var = int(width/aspect_ratio_width)\n",
    "\n",
    "                if height_var == width_var:\n",
    "                    img_var = img3.resize(size, Image.LANCZOS)\n",
    "                elif width_var > height_var:\n",
    "                    crop_width = int(abs((width-(height_var*aspect_ratio_width))/2))\n",
    "                    box = (crop_width,0,width-crop_width,height)  # left, top, right, bottom\n",
    "                    img_crop = img3.crop(box)  \n",
    "                    img_var = img_crop.resize(size, Image.LANCZOS)\n",
    "                elif width_var < height_var:\n",
    "                    crop_height = int(abs((height-(width_var*aspect_ratio_height))/2))\n",
    "                    box = (0,crop_height,width,height-crop_height)  # left, top, right, bottom\n",
    "                    img_crop = img3.crop(box)  # left, top, right, bottom\n",
    "                    img_var = img_crop.resize(size, Image.LANCZOS)\n",
    "                else:\n",
    "                    img_var = img3\n",
    "\n",
    "                img_var.save(f\"{result_path}/{filename}.jpg\")\n",
    "\n",
    "            except:\n",
    "                print(\"Oops!\", sys.exc_info()[0], \"occurred.\")"
   ]
  },
  {
   "cell_type": "code",
   "execution_count": 16,
   "metadata": {},
   "outputs": [],
   "source": [
    "filename_list = [\"Hegel REVO-VP-5KW-5\",\"Hegel REVO-VP-5KW\"]"
   ]
  },
  {
   "cell_type": "code",
   "execution_count": 17,
   "metadata": {},
   "outputs": [],
   "source": [
    "data_folder_name = \"Hegel REVO-VP-5KW\"\n",
    "data_path = r\"C:\\Users\\user\\Desktop\"\n",
    "out_folder_name = \"Edit\"\n",
    "out_path = r\"C:\\Users\\user\\Desktop\\New\""
   ]
  },
  {
   "cell_type": "code",
   "execution_count": 18,
   "metadata": {},
   "outputs": [],
   "source": [
    "convert_image_to_jpg_crop_size(filename_list, data_folder_name, data_path, out_folder_name, out_path)"
   ]
  },
  {
   "cell_type": "code",
   "execution_count": null,
   "metadata": {},
   "outputs": [],
   "source": []
  },
  {
   "cell_type": "code",
   "execution_count": null,
   "metadata": {},
   "outputs": [],
   "source": []
  },
  {
   "cell_type": "code",
   "execution_count": null,
   "metadata": {},
   "outputs": [],
   "source": []
  },
  {
   "cell_type": "markdown",
   "metadata": {},
   "source": [
    "### Solar Image Aspect Ratio"
   ]
  },
  {
   "cell_type": "code",
   "execution_count": 1,
   "metadata": {},
   "outputs": [],
   "source": [
    "import PIL\n",
    "from PIL import Image\n",
    "import pandas as pd\n",
    "import numpy as np\n",
    "import os\n",
    "import sys\n",
    "import imutils\n",
    "import matplotlib.pyplot as plt\n",
    "%matplotlib inline\n",
    "from pathlib import Path\n",
    "import shutil\n",
    "import os \n",
    "from os.path import isfile, join\n",
    "import glob\n",
    "import time\n",
    "import cv2"
   ]
  },
  {
   "cell_type": "code",
   "execution_count": null,
   "metadata": {},
   "outputs": [],
   "source": []
  },
  {
   "cell_type": "markdown",
   "metadata": {},
   "source": [
    "#### Functions"
   ]
  },
  {
   "cell_type": "code",
   "execution_count": 2,
   "metadata": {},
   "outputs": [],
   "source": [
    "def image_padding_aspect_ratio(data_folder_name, data_path, out_folder_name, out_path, padding_color = (0,0,0), aspect_ratio_width = 16, aspect_ratio_height = 9):\n",
    "       '''\n",
    "       image_padding_aspect_ratio(data_folder_name, data_path, out_folder_name, out_path, padding_color = (0,0,0), aspect_ratio_width = 16, aspect_ratio_height = 9)\\n\n",
    "       data_folder_name, data_path, out_folder_name, out_path are path and folder in string(str). others are cv2 parameter and image aspect ratio parameter.\\n\n",
    "       ex.\\n\n",
    "       output_path = f\"/home/kurubal/Documents/Modern Ways/Project/{lang_folder.capitalize()}/Image Audio Video/Data/28 Words\"\\n\n",
    "       image_path = f\"/home/kurubal/Documents/Modern Ways/Project/{lang_folder.capitalize()}/Image Audio Video/Data/28 Words\"\\n\n",
    "       image_padding_aspect_ratio(\"Images_SV_Rename\", image_path, \"Images_SV\", output_path, padding_color = (0,0,0), aspect_ratio_width = 16, aspect_ratio_height = 9)\n",
    "       '''\n",
    "       error_file_list = []\n",
    "       result_path = f\"{out_path}/{out_folder_name}\"\n",
    "       data_folder_path = f\"{data_path}/{data_folder_name}\"\n",
    "       Path(result_path).mkdir(parents=True, exist_ok=True)\n",
    "       files=[f for f in os.listdir(data_folder_path) if isfile(join(data_folder_path,f))]   \n",
    "       for i in range(len(files)):       \n",
    "          pathfilename=data_folder_path+'/'+files[i]\n",
    "          #filename_without_ext = os.path.splitext(files[i])[0]\n",
    "          #text = f\"{text}\"\n",
    "          if isfile(f\"{result_path}/{files[i]}\"):\n",
    "                 pass\n",
    "          else:\n",
    "                 try:\n",
    "                        img = cv2.imread(f\"{pathfilename}\")\n",
    "                        old_image_height, old_image_width, channels = img.shape  # 2718  1988\n",
    "\n",
    "                        #aspect_ratio_width = 16\n",
    "                        #aspect_ratio_height = 9\n",
    "\n",
    "                        if (old_image_height/aspect_ratio_height) > (old_image_width/aspect_ratio_width):\n",
    "                               new_image_width = int((old_image_height/aspect_ratio_height)*aspect_ratio_width)\n",
    "                               new_image_height = int(old_image_height)\n",
    "                        elif (old_image_height/aspect_ratio_height) < (old_image_width/aspect_ratio_width):\n",
    "                               new_image_width = int(old_image_width)\n",
    "                               new_image_height = int((old_image_width/aspect_ratio_width)*aspect_ratio_height)\n",
    "                        elif (old_image_height/aspect_ratio_height) == (old_image_width/aspect_ratio_width):\n",
    "                               new_image_width = int((old_image_height/aspect_ratio_height)*aspect_ratio_width)\n",
    "                               new_image_height = int(old_image_height)\n",
    "                        else:\n",
    "                               new_image_width = old_image_width\n",
    "                               new_image_height = old_image_height\n",
    "\n",
    "                        color = padding_color\n",
    "                        result = np.full((new_image_height,new_image_width, channels), color, dtype=np.uint8)\n",
    "\n",
    "                        # compute center offset\n",
    "                        x_center = (new_image_width - old_image_width) // 2\n",
    "                        y_center = (new_image_height - old_image_height) // 2\n",
    "\n",
    "                        # copy img image into center of result image\n",
    "                        result[y_center:y_center+old_image_height, x_center:x_center+old_image_width] = img            \n",
    "\n",
    "                        cv2.imwrite(f\"{result_path}/{files[i]}\", result)\n",
    "                 except:\n",
    "                        print(\"Oops!\", sys.exc_info()[0], \"occurred.\")\n",
    "                        error_file_list.append(files[i])\n",
    "                        \n",
    "       return error_file_list\n"
   ]
  },
  {
   "cell_type": "code",
   "execution_count": 3,
   "metadata": {},
   "outputs": [],
   "source": [
    "def convert_image_to_jpg_crop_size(data_folder_name, data_path, out_folder_name, out_path, basewidth = 1800, aspect_ratio_width = 2, aspect_ratio_height = 3):\n",
    "    '''\n",
    "    convert_image_to_jpg_crop_size(filename_list, data_folder_name, data_path, out_folder_name, out_path)\\n\n",
    "    filename_list is string image filename list. data_folder_name, data_path, out_folder_name and out_path are path and folder in string.\\n\n",
    "    ex.\\n\n",
    "    path = f\"/media/kurubal/SSD/Data Scientist/Data Science/Data-Scientist/Work/Modern Ways/Image Audio/Product\"\\n\n",
    "    image_path = f\"/media/kurubal/SSD/Data Scientist/Data Science/Data-Scientist/Work/Modern Ways/Image Audio/Product\"\\n\n",
    "    convert_image_to_jpg_crop_size(word_group_list1, \"Images\", image_data_path, \"Image_JPG_Crop\", data_path)\n",
    "    '''\n",
    "    # aspect_ratio_width = 16\n",
    "    # aspect_ratio_height = 9\n",
    "    # basewidth = 1600\n",
    "\n",
    "    size_width = int(basewidth)\n",
    "    size_heigth = int((basewidth/aspect_ratio_width)*aspect_ratio_height)\n",
    "    size = (size_width,size_heigth)\n",
    "\n",
    "    result_path = f\"{out_path}/{out_folder_name}\"\n",
    "    result_path2 = f\"{out_path}/{data_folder_name}_WEBP\"  # _WEBP, _JPG\n",
    "    data_folder_path = f\"{data_path}/{data_folder_name}\"\n",
    "    Path(result_path).mkdir(parents=True, exist_ok=True)\n",
    "    Path(result_path2).mkdir(parents=True, exist_ok=True)\n",
    "\n",
    "    files=[f for f in os.listdir(data_folder_path) if isfile(join(data_folder_path,f))]     \n",
    "    for i in range(len(files)):\n",
    "        #text = f\"{text}\"\n",
    "        pathfilename=data_folder_path+'/'+files[i]\n",
    "        filename_without_ext = os.path.splitext(files[i])[0]\n",
    "        try:\n",
    "            if isfile(f\"{result_path2}/{filename_without_ext}.webp\"):  # .jpg .webp\n",
    "                pass\n",
    "            else:\n",
    "                img = Image.open(pathfilename)\n",
    "                img2 = img.convert(\"RGB\")\n",
    "                img2.save(f\"{result_path2}/{filename_without_ext}.webp\")  # .jpg .webp\n",
    "                time.sleep(0.1)\n",
    "        except:\n",
    "            print(\"Oops!\", sys.exc_info()[0], \"occurred.\")\n",
    "\n",
    "    files2=[f for f in os.listdir(result_path2) if isfile(join(result_path2,f))] \n",
    "    for j in range(len(files2)):\n",
    "        pathfilename2=result_path2+'/'+files2[j]\n",
    "        filename_without_ext2 = os.path.splitext(files2[j])[0]    \n",
    "        if isfile(f\"{result_path}/{filename_without_ext2}.webp\"):  # .jpg .webp\n",
    "            pass\n",
    "        else:\n",
    "            try:\n",
    "                img3 = Image.open(pathfilename2)  # ???\n",
    "                width, height = img3.size\n",
    "                height_var = int(height/aspect_ratio_height)\n",
    "                width_var = int(width/aspect_ratio_width)\n",
    "\n",
    "                if height_var == width_var:\n",
    "                    img_var = img3.resize(size, Image.LANCZOS)\n",
    "                elif width_var > height_var:\n",
    "                    crop_width = int(abs((width-(height_var*aspect_ratio_width))/2))\n",
    "                    box = (crop_width,0,width-crop_width,height)  # left, top, right, bottom\n",
    "                    img_crop = img3.crop(box)  \n",
    "                    img_var = img_crop.resize(size, Image.LANCZOS)\n",
    "                elif width_var < height_var:\n",
    "                    crop_height = int(abs((height-(width_var*aspect_ratio_height))/2))\n",
    "                    box = (0,crop_height,width,height-crop_height)  # left, top, right, bottom\n",
    "                    img_crop = img3.crop(box)  # left, top, right, bottom\n",
    "                    img_var = img_crop.resize(size, Image.LANCZOS)\n",
    "                else:\n",
    "                    img_var = img3\n",
    "\n",
    "                img_var.save(f\"{result_path}/{filename_without_ext2}.webp\")  # .jpg .webp\n",
    "\n",
    "            except:\n",
    "                print(\"Oops!\", sys.exc_info()[0], \"occurred.\")"
   ]
  },
  {
   "cell_type": "code",
   "execution_count": null,
   "metadata": {},
   "outputs": [],
   "source": []
  },
  {
   "cell_type": "markdown",
   "metadata": {},
   "source": [
    "#### Data Folder"
   ]
  },
  {
   "cell_type": "code",
   "execution_count": 9,
   "metadata": {},
   "outputs": [],
   "source": [
    "image_data_folder = r\"C:\\Users\\user\\Desktop\\Solar Zirve Image Burak\""
   ]
  },
  {
   "cell_type": "code",
   "execution_count": 10,
   "metadata": {},
   "outputs": [
    {
     "data": {
      "text/plain": [
       "['C:\\\\Users\\\\user\\\\Desktop\\\\Solar Zirve Image Burak\\\\3HR210-801.8A',\n",
       " 'C:\\\\Users\\\\user\\\\Desktop\\\\Solar Zirve Image Burak\\\\4US1100-964C',\n",
       " 'C:\\\\Users\\\\user\\\\Desktop\\\\Solar Zirve Image Burak\\\\4US1300-957.5D',\n",
       " 'C:\\\\Users\\\\user\\\\Desktop\\\\Solar Zirve Image Burak\\\\4US1500-1157.5E4US1500-1157.5E',\n",
       " 'C:\\\\Users\\\\user\\\\Desktop\\\\Solar Zirve Image Burak\\\\4US1500-2034.5E',\n",
       " 'C:\\\\Users\\\\user\\\\Desktop\\\\Solar Zirve Image Burak\\\\4US750-804B',\n",
       " 'C:\\\\Users\\\\user\\\\Desktop\\\\Solar Zirve Image Burak\\\\4USH2200-12511H',\n",
       " 'C:\\\\Users\\\\user\\\\Desktop\\\\Solar Zirve Image Burak\\\\4USH2200-21011H',\n",
       " 'C:\\\\Users\\\\user\\\\Desktop\\\\Solar Zirve Image Burak\\\\4USH2200-2307.5H',\n",
       " 'C:\\\\Users\\\\user\\\\Desktop\\\\Solar Zirve Image Burak\\\\BS-MC4',\n",
       " 'C:\\\\Users\\\\user\\\\Desktop\\\\Solar Zirve Image Burak\\\\CPM-H2200-2575H',\n",
       " 'C:\\\\Users\\\\user\\\\Desktop\\\\Solar Zirve Image Burak\\\\HG12-100',\n",
       " 'C:\\\\Users\\\\user\\\\Desktop\\\\Solar Zirve Image Burak\\\\HG12-150',\n",
       " 'C:\\\\Users\\\\user\\\\Desktop\\\\Solar Zirve Image Burak\\\\HG12-200',\n",
       " 'C:\\\\Users\\\\user\\\\Desktop\\\\Solar Zirve Image Burak\\\\HGEX12-16',\n",
       " 'C:\\\\Users\\\\user\\\\Desktop\\\\Solar Zirve Image Burak\\\\HGEX12-38',\n",
       " 'C:\\\\Users\\\\user\\\\Desktop\\\\Solar Zirve Image Burak\\\\HGEX6-225',\n",
       " 'C:\\\\Users\\\\user\\\\Desktop\\\\Solar Zirve Image Burak\\\\HGX12-100',\n",
       " 'C:\\\\Users\\\\user\\\\Desktop\\\\Solar Zirve Image Burak\\\\HGX12-150',\n",
       " 'C:\\\\Users\\\\user\\\\Desktop\\\\Solar Zirve Image Burak\\\\HGX12-200',\n",
       " 'C:\\\\Users\\\\user\\\\Desktop\\\\Solar Zirve Image Burak\\\\HX-50B',\n",
       " 'C:\\\\Users\\\\user\\\\Desktop\\\\Solar Zirve Image Burak\\\\KON-02',\n",
       " 'C:\\\\Users\\\\user\\\\Desktop\\\\Solar Zirve Image Burak\\\\KON-02Y',\n",
       " 'C:\\\\Users\\\\user\\\\Desktop\\\\Solar Zirve Image Burak\\\\KON-03',\n",
       " 'C:\\\\Users\\\\user\\\\Desktop\\\\Solar Zirve Image Burak\\\\KON-03Y',\n",
       " 'C:\\\\Users\\\\user\\\\Desktop\\\\Solar Zirve Image Burak\\\\KP-M8-10',\n",
       " 'C:\\\\Users\\\\user\\\\Desktop\\\\Solar Zirve Image Burak\\\\KP-M8-25',\n",
       " 'C:\\\\Users\\\\user\\\\Desktop\\\\Solar Zirve Image Burak\\\\KS-2546',\n",
       " 'C:\\\\Users\\\\user\\\\Desktop\\\\Solar Zirve Image Burak\\\\MC4-SIKMA',\n",
       " 'C:\\\\Users\\\\user\\\\Desktop\\\\Solar Zirve Image Burak\\\\MC4-TOOL',\n",
       " 'C:\\\\Users\\\\user\\\\Desktop\\\\Solar Zirve Image Burak\\\\MON-0101',\n",
       " 'C:\\\\Users\\\\user\\\\Desktop\\\\Solar Zirve Image Burak\\\\MON-0201',\n",
       " 'C:\\\\Users\\\\user\\\\Desktop\\\\Solar Zirve Image Burak\\\\MON-03B',\n",
       " 'C:\\\\Users\\\\user\\\\Desktop\\\\Solar Zirve Image Burak\\\\NT1-160A',\n",
       " 'C:\\\\Users\\\\user\\\\Desktop\\\\Solar Zirve Image Burak\\\\PV-15MC',\n",
       " 'C:\\\\Users\\\\user\\\\Desktop\\\\Solar Zirve Image Burak\\\\PV-15MCO',\n",
       " 'C:\\\\Users\\\\user\\\\Desktop\\\\Solar Zirve Image Burak\\\\SCPM1100-1527C',\n",
       " 'C:\\\\Users\\\\user\\\\Desktop\\\\Solar Zirve Image Burak\\\\SCPM1500-1755E',\n",
       " 'C:\\\\Users\\\\user\\\\Desktop\\\\Solar Zirve Image Burak\\\\SCPM550-256B',\n",
       " 'C:\\\\Users\\\\user\\\\Desktop\\\\Solar Zirve Image Burak\\\\SK-10K',\n",
       " 'C:\\\\Users\\\\user\\\\Desktop\\\\Solar Zirve Image Burak\\\\SK-10S',\n",
       " 'C:\\\\Users\\\\user\\\\Desktop\\\\Solar Zirve Image Burak\\\\SK-16K',\n",
       " 'C:\\\\Users\\\\user\\\\Desktop\\\\Solar Zirve Image Burak\\\\SK-16S',\n",
       " 'C:\\\\Users\\\\user\\\\Desktop\\\\Solar Zirve Image Burak\\\\SK-25K',\n",
       " 'C:\\\\Users\\\\user\\\\Desktop\\\\Solar Zirve Image Burak\\\\SK-25S',\n",
       " 'C:\\\\Users\\\\user\\\\Desktop\\\\Solar Zirve Image Burak\\\\SK-4K',\n",
       " 'C:\\\\Users\\\\user\\\\Desktop\\\\Solar Zirve Image Burak\\\\SK-4S',\n",
       " 'C:\\\\Users\\\\user\\\\Desktop\\\\Solar Zirve Image Burak\\\\SK-6K',\n",
       " 'C:\\\\Users\\\\user\\\\Desktop\\\\Solar Zirve Image Burak\\\\SK-6S',\n",
       " 'C:\\\\Users\\\\user\\\\Desktop\\\\Solar Zirve Image Burak\\\\SL-100AL-BT',\n",
       " 'C:\\\\Users\\\\user\\\\Desktop\\\\Solar Zirve Image Burak\\\\SL-100AR-BT',\n",
       " 'C:\\\\Users\\\\user\\\\Desktop\\\\Solar Zirve Image Burak\\\\SPE-140-SG',\n",
       " 'C:\\\\Users\\\\user\\\\Desktop\\\\Solar Zirve Image Burak\\\\SPM110',\n",
       " 'C:\\\\Users\\\\user\\\\Desktop\\\\Solar Zirve Image Burak\\\\SPM155',\n",
       " 'C:\\\\Users\\\\user\\\\Desktop\\\\Solar Zirve Image Burak\\\\SPM205',\n",
       " 'C:\\\\Users\\\\user\\\\Desktop\\\\Solar Zirve Image Burak\\\\SPM205-HC',\n",
       " 'C:\\\\Users\\\\user\\\\Desktop\\\\Solar Zirve Image Burak\\\\SPM230',\n",
       " 'C:\\\\Users\\\\user\\\\Desktop\\\\Solar Zirve Image Burak\\\\SPM25',\n",
       " 'C:\\\\Users\\\\user\\\\Desktop\\\\Solar Zirve Image Burak\\\\SPM340',\n",
       " 'C:\\\\Users\\\\user\\\\Desktop\\\\Solar Zirve Image Burak\\\\SPM410',\n",
       " 'C:\\\\Users\\\\user\\\\Desktop\\\\Solar Zirve Image Burak\\\\SPM455-HC',\n",
       " 'C:\\\\Users\\\\user\\\\Desktop\\\\Solar Zirve Image Burak\\\\SPM50',\n",
       " 'C:\\\\Users\\\\user\\\\Desktop\\\\Solar Zirve Image Burak\\\\SPM540-HC',\n",
       " 'C:\\\\Users\\\\user\\\\Desktop\\\\Solar Zirve Image Burak\\\\SPM550-HC2',\n",
       " 'C:\\\\Users\\\\user\\\\Desktop\\\\Solar Zirve Image Burak\\\\TRLiF 12100P',\n",
       " 'C:\\\\Users\\\\user\\\\Desktop\\\\Solar Zirve Image Burak\\\\TRLiF 12150P',\n",
       " 'C:\\\\Users\\\\user\\\\Desktop\\\\Solar Zirve Image Burak\\\\TRLiF 12200P',\n",
       " 'C:\\\\Users\\\\user\\\\Desktop\\\\Solar Zirve Image Burak\\\\YRL7-125DC-100A',\n",
       " 'C:\\\\Users\\\\user\\\\Desktop\\\\Solar Zirve Image Burak\\\\YRL7-63DC-16A',\n",
       " 'C:\\\\Users\\\\user\\\\Desktop\\\\Solar Zirve Image Burak\\\\YRL7-63DC-40A',\n",
       " 'C:\\\\Users\\\\user\\\\Desktop\\\\Solar Zirve Image Burak\\\\YROPV-160-80A',\n",
       " 'C:\\\\Users\\\\user\\\\Desktop\\\\Solar Zirve Image Burak\\\\YROPV-30-15A',\n",
       " 'C:\\\\Users\\\\user\\\\Desktop\\\\Solar Zirve Image Burak\\\\YROPV-30-20A',\n",
       " 'C:\\\\Users\\\\user\\\\Desktop\\\\Solar Zirve Image Burak\\\\YROPV-30-32A',\n",
       " 'C:\\\\Users\\\\user\\\\Desktop\\\\Solar Zirve Image Burak\\\\YROPV-30-S']"
      ]
     },
     "execution_count": 10,
     "metadata": {},
     "output_type": "execute_result"
    }
   ],
   "source": [
    "image_folder_path_list = glob.glob(rf\"{image_data_folder}\\*\")\n",
    "image_folder_path_list"
   ]
  },
  {
   "cell_type": "code",
   "execution_count": 11,
   "metadata": {},
   "outputs": [],
   "source": [
    "# for image_folder_path in image_folder_path_list:\n",
    "#     data_path = os.path.dirname(image_folder_path)\n",
    "#     data_folder_name = os.path.basename(image_folder_path)\n",
    "#     out_path = image_folder_path\n",
    "#     out_folder_name = \"Edit\"\n",
    "#     print(out_path)"
   ]
  },
  {
   "cell_type": "code",
   "execution_count": 12,
   "metadata": {},
   "outputs": [],
   "source": [
    "# for image_folder_path in image_folder_path_list:\n",
    "#     try:\n",
    "#         data_path = os.path.dirname(image_folder_path)\n",
    "#         data_folder_name = os.path.basename(image_folder_path)\n",
    "#         out_path = image_folder_path\n",
    "#         out_folder_name = \"Edit\"\n",
    "#         image_padding_aspect_ratio(data_folder_name, data_path, out_folder_name, out_path, padding_color = (255,255,255), aspect_ratio_width = 2, aspect_ratio_height = 3)\n",
    "#     except:\n",
    "#         pass"
   ]
  },
  {
   "cell_type": "code",
   "execution_count": null,
   "metadata": {},
   "outputs": [],
   "source": []
  },
  {
   "cell_type": "code",
   "execution_count": 13,
   "metadata": {},
   "outputs": [
    {
     "name": "stdout",
     "output_type": "stream",
     "text": [
      "Oops! <class 'AttributeError'> occurred.\n",
      "Oops! <class 'AttributeError'> occurred.\n",
      "Oops! <class 'AttributeError'> occurred.\n",
      "Oops! <class 'AttributeError'> occurred.\n",
      "Oops! <class 'AttributeError'> occurred.\n",
      "Oops! <class 'AttributeError'> occurred.\n",
      "Oops! <class 'AttributeError'> occurred.\n",
      "Oops! <class 'AttributeError'> occurred.\n",
      "Oops! <class 'AttributeError'> occurred.\n",
      "Oops! <class 'AttributeError'> occurred.\n",
      "Oops! <class 'AttributeError'> occurred.\n",
      "Oops! <class 'AttributeError'> occurred.\n",
      "Oops! <class 'AttributeError'> occurred.\n",
      "Oops! <class 'AttributeError'> occurred.\n",
      "Oops! <class 'AttributeError'> occurred.\n",
      "Oops! <class 'AttributeError'> occurred.\n",
      "Oops! <class 'AttributeError'> occurred.\n",
      "Oops! <class 'AttributeError'> occurred.\n",
      "Oops! <class 'AttributeError'> occurred.\n",
      "Oops! <class 'AttributeError'> occurred.\n",
      "Oops! <class 'AttributeError'> occurred.\n",
      "Oops! <class 'AttributeError'> occurred.\n",
      "Oops! <class 'AttributeError'> occurred.\n",
      "Oops! <class 'AttributeError'> occurred.\n",
      "Oops! <class 'AttributeError'> occurred.\n",
      "Oops! <class 'AttributeError'> occurred.\n",
      "Oops! <class 'AttributeError'> occurred.\n",
      "Oops! <class 'AttributeError'> occurred.\n",
      "Oops! <class 'AttributeError'> occurred.\n",
      "Oops! <class 'AttributeError'> occurred.\n",
      "Oops! <class 'AttributeError'> occurred.\n",
      "Oops! <class 'AttributeError'> occurred.\n",
      "Oops! <class 'AttributeError'> occurred.\n",
      "Oops! <class 'AttributeError'> occurred.\n",
      "Oops! <class 'AttributeError'> occurred.\n",
      "Oops! <class 'AttributeError'> occurred.\n"
     ]
    }
   ],
   "source": [
    "for image_folder_path in image_folder_path_list:\n",
    "    try:\n",
    "        aspect_data_path = os.path.dirname(image_folder_path)\n",
    "        aspect_data_folder_name = os.path.basename(image_folder_path)\n",
    "        aspect_out_path = image_folder_path\n",
    "        aspect_out_folder_name = \"Edit_Temp\"\n",
    "        crop_data_path = aspect_out_path\n",
    "        crop_data_folder_name = aspect_out_folder_name\n",
    "        crop_out_path = image_folder_path\n",
    "        crop_out_folder_name = \"1200X1800_Webp\"\n",
    "        image_padding_aspect_ratio(aspect_data_folder_name, aspect_data_path, aspect_out_folder_name, aspect_out_path, padding_color = (255,255,255), aspect_ratio_width = 2, aspect_ratio_height = 3)\n",
    "        convert_image_to_jpg_crop_size(crop_data_folder_name, crop_data_path, crop_out_folder_name, crop_out_path, basewidth = 1200, aspect_ratio_width = 2, aspect_ratio_height = 3)\n",
    "    except:\n",
    "        pass"
   ]
  },
  {
   "cell_type": "code",
   "execution_count": null,
   "metadata": {},
   "outputs": [],
   "source": []
  },
  {
   "cell_type": "code",
   "execution_count": null,
   "metadata": {},
   "outputs": [],
   "source": []
  },
  {
   "cell_type": "code",
   "execution_count": null,
   "metadata": {},
   "outputs": [],
   "source": []
  },
  {
   "cell_type": "code",
   "execution_count": null,
   "metadata": {},
   "outputs": [],
   "source": []
  },
  {
   "cell_type": "markdown",
   "metadata": {},
   "source": [
    "#### Test"
   ]
  },
  {
   "cell_type": "code",
   "execution_count": 8,
   "metadata": {},
   "outputs": [],
   "source": [
    "data_folder_name = \"HGEX6-225\"\n",
    "data_path = r\"C:\\Users\\user\\Desktop\\Burak\"\n",
    "out_folder_name = \"Edit\"\n",
    "out_path = r\"C:\\Users\\user\\Desktop\\Burak\\HGEX6-225\""
   ]
  },
  {
   "cell_type": "code",
   "execution_count": 9,
   "metadata": {},
   "outputs": [
    {
     "data": {
      "text/plain": [
       "[]"
      ]
     },
     "execution_count": 9,
     "metadata": {},
     "output_type": "execute_result"
    }
   ],
   "source": [
    "image_padding_aspect_ratio(data_folder_name, data_path, out_folder_name, out_path, padding_color = (255,255,255), aspect_ratio_width = 2, aspect_ratio_height = 3)"
   ]
  },
  {
   "cell_type": "code",
   "execution_count": null,
   "metadata": {},
   "outputs": [],
   "source": []
  },
  {
   "cell_type": "code",
   "execution_count": null,
   "metadata": {},
   "outputs": [
    {
     "data": {
      "text/plain": [
       "'C:\\\\Users\\\\user\\\\Desktop\\\\Solar Image2\\\\Betatek WP80D-BT'"
      ]
     },
     "metadata": {},
     "output_type": "display_data"
    }
   ],
   "source": [
    "var = image_folder_list[5]\n",
    "var"
   ]
  },
  {
   "cell_type": "code",
   "execution_count": null,
   "metadata": {},
   "outputs": [
    {
     "data": {
      "text/plain": [
       "'Betatek WP80D-BT'"
      ]
     },
     "metadata": {},
     "output_type": "display_data"
    }
   ],
   "source": [
    "os.path.basename(var)"
   ]
  },
  {
   "cell_type": "code",
   "execution_count": null,
   "metadata": {},
   "outputs": [
    {
     "data": {
      "text/plain": [
       "'C:\\\\Users\\\\user\\\\Desktop\\\\Solar Image2\\\\Betatek WP80D-BT'"
      ]
     },
     "metadata": {},
     "output_type": "display_data"
    }
   ],
   "source": [
    "os.path.splitext(var)[0]"
   ]
  },
  {
   "cell_type": "code",
   "execution_count": null,
   "metadata": {},
   "outputs": [
    {
     "data": {
      "text/plain": [
       "'C:\\\\Users\\\\user\\\\Desktop\\\\Solar Image2'"
      ]
     },
     "metadata": {},
     "output_type": "display_data"
    }
   ],
   "source": [
    "os.path.dirname(var)"
   ]
  },
  {
   "cell_type": "code",
   "execution_count": null,
   "metadata": {},
   "outputs": [],
   "source": []
  },
  {
   "cell_type": "code",
   "execution_count": 58,
   "metadata": {},
   "outputs": [
    {
     "data": {
      "text/plain": [
       "'C:\\\\Users\\\\user\\\\Desktop\\\\Solar Image2\\\\Betatek WP80D-BT'"
      ]
     },
     "execution_count": 58,
     "metadata": {},
     "output_type": "execute_result"
    }
   ],
   "source": [
    "var = image_folder_list[5]\n",
    "var"
   ]
  },
  {
   "cell_type": "code",
   "execution_count": 59,
   "metadata": {},
   "outputs": [
    {
     "data": {
      "text/plain": [
       "'C:\\\\Users\\\\user\\\\Desktop\\\\Solar Image2'"
      ]
     },
     "execution_count": 59,
     "metadata": {},
     "output_type": "execute_result"
    }
   ],
   "source": [
    "data_path = os.path.dirname(var)\n",
    "data_path"
   ]
  },
  {
   "cell_type": "code",
   "execution_count": 60,
   "metadata": {},
   "outputs": [
    {
     "data": {
      "text/plain": [
       "'Betatek WP80D-BT'"
      ]
     },
     "execution_count": 60,
     "metadata": {},
     "output_type": "execute_result"
    }
   ],
   "source": [
    "data_folder_name = os.path.basename(var)\n",
    "data_folder_name"
   ]
  },
  {
   "cell_type": "code",
   "execution_count": 61,
   "metadata": {},
   "outputs": [
    {
     "data": {
      "text/plain": [
       "'C:\\\\Users\\\\user\\\\Desktop\\\\Solar Image2\\\\Betatek WP80D-BT'"
      ]
     },
     "execution_count": 61,
     "metadata": {},
     "output_type": "execute_result"
    }
   ],
   "source": [
    "out_path = var\n",
    "out_path"
   ]
  },
  {
   "cell_type": "code",
   "execution_count": 64,
   "metadata": {},
   "outputs": [
    {
     "data": {
      "text/plain": [
       "'C:\\\\Users\\\\user\\\\Desktop\\\\Solar Image2\\\\Betatek WP80D-BT\\\\Edit'"
      ]
     },
     "execution_count": 64,
     "metadata": {},
     "output_type": "execute_result"
    }
   ],
   "source": [
    "out_folder_name = rf\"{var}\\Edit\"\n",
    "out_folder_name"
   ]
  },
  {
   "cell_type": "code",
   "execution_count": null,
   "metadata": {},
   "outputs": [],
   "source": [
    "data_path = os.path.dirname(image_folder_path)\n",
    "data_folder_name = os.path.basename(image_folder_path)\n",
    "out_path = image_folder_path\n",
    "out_folder_name = rf\"{image_folder_path}\\\\Edit\""
   ]
  },
  {
   "cell_type": "code",
   "execution_count": null,
   "metadata": {},
   "outputs": [],
   "source": []
  },
  {
   "cell_type": "code",
   "execution_count": null,
   "metadata": {},
   "outputs": [],
   "source": []
  }
 ],
 "metadata": {
  "kernelspec": {
   "display_name": "Python 3",
   "language": "python",
   "name": "python3"
  },
  "language_info": {
   "codemirror_mode": {
    "name": "ipython",
    "version": 3
   },
   "file_extension": ".py",
   "mimetype": "text/x-python",
   "name": "python",
   "nbconvert_exporter": "python",
   "pygments_lexer": "ipython3",
   "version": "3.12.4"
  }
 },
 "nbformat": 4,
 "nbformat_minor": 2
}
