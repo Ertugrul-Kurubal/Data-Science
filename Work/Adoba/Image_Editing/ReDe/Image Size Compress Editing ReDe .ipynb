{
 "cells": [
  {
   "cell_type": "markdown",
   "metadata": {},
   "source": [
    "### Image Size Compress Editing"
   ]
  },
  {
   "cell_type": "code",
   "execution_count": 32,
   "metadata": {},
   "outputs": [],
   "source": [
    "# pip install imutils"
   ]
  },
  {
   "cell_type": "code",
   "execution_count": 33,
   "metadata": {},
   "outputs": [],
   "source": [
    "from PIL import Image\n",
    "import os\n",
    "import glob\n",
    "import cv2\n",
    "import numpy as np\n",
    "import imutils\n",
    "from pathlib import Path"
   ]
  },
  {
   "cell_type": "code",
   "execution_count": null,
   "metadata": {},
   "outputs": [],
   "source": []
  },
  {
   "cell_type": "markdown",
   "metadata": {},
   "source": [
    "#### Image Compress"
   ]
  },
  {
   "cell_type": "code",
   "execution_count": 34,
   "metadata": {},
   "outputs": [],
   "source": [
    "def compress_image(input_path, output_path, quality=80):\n",
    "    # Resmi aç\n",
    "    with Image.open(input_path) as img:\n",
    "        # RGB moduna dönüştür (gerekirse)\n",
    "        img = img.convert('RGB')\n",
    "        # Sıkıştırılmış resmi kaydet\n",
    "        #img.save(output_path, 'JPEG', optimize=True, quality=quality)  # JPG\n",
    "        img.save(output_path, 'WEBP', optimize=True, quality=quality)   # WEBP"
   ]
  },
  {
   "cell_type": "code",
   "execution_count": 35,
   "metadata": {},
   "outputs": [],
   "source": [
    "input_image = r'C:\\Users\\user\\Desktop\\Data Analysis\\Adoba\\Image_Editing\\Data\\Test_Data\\MONTREAL-QUEBEC.jpeg'\n",
    "output_image = r'C:\\Users\\user\\Desktop\\Data Analysis\\Adoba\\Image_Editing\\Result\\Test_Result\\MONTREAL-QUEBEC2.webp'"
   ]
  },
  {
   "cell_type": "code",
   "execution_count": 36,
   "metadata": {},
   "outputs": [],
   "source": [
    "compress_image(input_image, output_image, quality=80)"
   ]
  },
  {
   "cell_type": "code",
   "execution_count": null,
   "metadata": {},
   "outputs": [],
   "source": []
  },
  {
   "cell_type": "code",
   "execution_count": 37,
   "metadata": {},
   "outputs": [],
   "source": [
    "input_image_path = r\"C:\\Users\\user\\Desktop\\Data Analysis\\Adoba\\Image_Editing\\Data\\Test_Data\"\n",
    "output_image_path = r\"C:\\Users\\user\\Desktop\\Data Analysis\\Adoba\\Image_Editing\\Result\\Test_Result\\Test\"\n",
    "Path(output_image_path).mkdir(parents=True, exist_ok=True)"
   ]
  },
  {
   "cell_type": "code",
   "execution_count": 38,
   "metadata": {},
   "outputs": [
    {
     "data": {
      "text/plain": [
       "['C:\\\\Users\\\\user\\\\Desktop\\\\Data Analysis\\\\Adoba\\\\Image_Editing\\\\Data\\\\Test_Data\\\\MONTREAL-QUEBEC-Resize.jpg',\n",
       " 'C:\\\\Users\\\\user\\\\Desktop\\\\Data Analysis\\\\Adoba\\\\Image_Editing\\\\Data\\\\Test_Data\\\\MONTREAL-QUEBEC.jpeg',\n",
       " 'C:\\\\Users\\\\user\\\\Desktop\\\\Data Analysis\\\\Adoba\\\\Image_Editing\\\\Data\\\\Test_Data\\\\MONTREAL-QUEBEC2.jpeg',\n",
       " 'C:\\\\Users\\\\user\\\\Desktop\\\\Data Analysis\\\\Adoba\\\\Image_Editing\\\\Data\\\\Test_Data\\\\MONTREAL-QUEBEC3.webp',\n",
       " 'C:\\\\Users\\\\user\\\\Desktop\\\\Data Analysis\\\\Adoba\\\\Image_Editing\\\\Data\\\\Test_Data\\\\Road.jpg',\n",
       " 'C:\\\\Users\\\\user\\\\Desktop\\\\Data Analysis\\\\Adoba\\\\Image_Editing\\\\Data\\\\Test_Data\\\\vancouver-house-1.webp',\n",
       " 'C:\\\\Users\\\\user\\\\Desktop\\\\Data Analysis\\\\Adoba\\\\Image_Editing\\\\Data\\\\Test_Data\\\\vancouver-house-12.jpeg',\n",
       " 'C:\\\\Users\\\\user\\\\Desktop\\\\Data Analysis\\\\Adoba\\\\Image_Editing\\\\Data\\\\Test_Data\\\\vancouver-house-13.webp']"
      ]
     },
     "execution_count": 38,
     "metadata": {},
     "output_type": "execute_result"
    }
   ],
   "source": [
    "image_file_list = glob.glob(fr\"{input_image_path}\\*\")\n",
    "image_file_list"
   ]
  },
  {
   "cell_type": "code",
   "execution_count": 39,
   "metadata": {},
   "outputs": [],
   "source": [
    "result_path = f\"{output_image_path}\"\n",
    "Path(result_path).mkdir(parents=True, exist_ok=True)\n",
    "for img_file in image_file_list:\n",
    "    img_file_name = os.path.basename(f\"{img_file}\")\n",
    "    img_file_no_ext = os.path.splitext(img_file_name)[0]\n",
    "    output_image = f\"{result_path}\\\\{img_file_no_ext}.webp\"\n",
    "    compress_image(img_file, output_image, quality=80)"
   ]
  },
  {
   "cell_type": "code",
   "execution_count": null,
   "metadata": {},
   "outputs": [],
   "source": []
  },
  {
   "cell_type": "code",
   "execution_count": null,
   "metadata": {},
   "outputs": [],
   "source": []
  },
  {
   "cell_type": "markdown",
   "metadata": {},
   "source": [
    "#### OS Path Test"
   ]
  },
  {
   "cell_type": "code",
   "execution_count": 40,
   "metadata": {},
   "outputs": [
    {
     "data": {
      "text/plain": [
       "['C:\\\\Users\\\\user\\\\Desktop\\\\Data Analysis\\\\Adoba\\\\Image_Editing\\\\Data\\\\Test_Data\\\\MONTREAL-QUEBEC-Resize.jpg',\n",
       " 'C:\\\\Users\\\\user\\\\Desktop\\\\Data Analysis\\\\Adoba\\\\Image_Editing\\\\Data\\\\Test_Data\\\\MONTREAL-QUEBEC.jpeg',\n",
       " 'C:\\\\Users\\\\user\\\\Desktop\\\\Data Analysis\\\\Adoba\\\\Image_Editing\\\\Data\\\\Test_Data\\\\MONTREAL-QUEBEC2.jpeg',\n",
       " 'C:\\\\Users\\\\user\\\\Desktop\\\\Data Analysis\\\\Adoba\\\\Image_Editing\\\\Data\\\\Test_Data\\\\MONTREAL-QUEBEC3.webp',\n",
       " 'C:\\\\Users\\\\user\\\\Desktop\\\\Data Analysis\\\\Adoba\\\\Image_Editing\\\\Data\\\\Test_Data\\\\Road.jpg',\n",
       " 'C:\\\\Users\\\\user\\\\Desktop\\\\Data Analysis\\\\Adoba\\\\Image_Editing\\\\Data\\\\Test_Data\\\\vancouver-house-1.webp',\n",
       " 'C:\\\\Users\\\\user\\\\Desktop\\\\Data Analysis\\\\Adoba\\\\Image_Editing\\\\Data\\\\Test_Data\\\\vancouver-house-12.jpeg',\n",
       " 'C:\\\\Users\\\\user\\\\Desktop\\\\Data Analysis\\\\Adoba\\\\Image_Editing\\\\Data\\\\Test_Data\\\\vancouver-house-13.webp']"
      ]
     },
     "execution_count": 40,
     "metadata": {},
     "output_type": "execute_result"
    }
   ],
   "source": [
    "glob.glob(r\"C:\\Users\\user\\Desktop\\Data Analysis\\Adoba\\Image_Editing\\Data\\Test_Data\\*\")"
   ]
  },
  {
   "cell_type": "code",
   "execution_count": 41,
   "metadata": {},
   "outputs": [
    {
     "data": {
      "text/plain": [
       "['MONTREAL-QUEBEC-Resize.jpg',\n",
       " 'MONTREAL-QUEBEC.jpeg',\n",
       " 'MONTREAL-QUEBEC2.jpeg',\n",
       " 'MONTREAL-QUEBEC3.webp',\n",
       " 'Road.jpg',\n",
       " 'vancouver-house-1.webp',\n",
       " 'vancouver-house-12.jpeg',\n",
       " 'vancouver-house-13.webp']"
      ]
     },
     "execution_count": 41,
     "metadata": {},
     "output_type": "execute_result"
    }
   ],
   "source": [
    "os.listdir(r\"C:\\Users\\user\\Desktop\\Data Analysis\\Adoba\\Image_Editing\\Data\\Test_Data\")"
   ]
  },
  {
   "cell_type": "code",
   "execution_count": 42,
   "metadata": {},
   "outputs": [
    {
     "data": {
      "text/plain": [
       "'C:\\\\Users\\\\user\\\\Desktop\\\\Data Analysis\\\\Adoba\\\\Image_Editing\\\\Data\\\\Test_Data'"
      ]
     },
     "execution_count": 42,
     "metadata": {},
     "output_type": "execute_result"
    }
   ],
   "source": [
    "os.path.dirname(r\"C:\\Users\\user\\Desktop\\Data Analysis\\Adoba\\Image_Editing\\Data\\Test_Data\\MONTREAL-QUEBEC.jpeg\")"
   ]
  },
  {
   "cell_type": "code",
   "execution_count": 43,
   "metadata": {},
   "outputs": [
    {
     "data": {
      "text/plain": [
       "'MONTREAL-QUEBEC.jpeg'"
      ]
     },
     "execution_count": 43,
     "metadata": {},
     "output_type": "execute_result"
    }
   ],
   "source": [
    "os.path.basename(r\"C:\\Users\\user\\Desktop\\Data Analysis\\Adoba\\Image_Editing\\Data\\Test_Data\\MONTREAL-QUEBEC.jpeg\")"
   ]
  },
  {
   "cell_type": "code",
   "execution_count": 44,
   "metadata": {},
   "outputs": [
    {
     "data": {
      "text/plain": [
       "'file'"
      ]
     },
     "execution_count": 44,
     "metadata": {},
     "output_type": "execute_result"
    }
   ],
   "source": [
    "os.path.splitext(os.path.basename(\"/path/to/file.txt\"))[0]"
   ]
  },
  {
   "cell_type": "code",
   "execution_count": 45,
   "metadata": {},
   "outputs": [
    {
     "data": {
      "text/plain": [
       "'.txt'"
      ]
     },
     "execution_count": 45,
     "metadata": {},
     "output_type": "execute_result"
    }
   ],
   "source": [
    "os.path.splitext(os.path.basename(\"/path/to/file.txt\"))[1]"
   ]
  },
  {
   "cell_type": "code",
   "execution_count": null,
   "metadata": {},
   "outputs": [],
   "source": []
  },
  {
   "cell_type": "code",
   "execution_count": null,
   "metadata": {},
   "outputs": [],
   "source": []
  },
  {
   "cell_type": "markdown",
   "metadata": {},
   "source": [
    "#### OpenCV Image Resize"
   ]
  },
  {
   "cell_type": "code",
   "execution_count": 46,
   "metadata": {},
   "outputs": [],
   "source": [
    "def image_resize(image, width = None, height = None, inter = cv2.INTER_AREA):\n",
    "    # initialize the dimensions of the image to be resized and\n",
    "    # grab the image size\n",
    "    dim = None\n",
    "    (h, w) = image.shape[:2]\n",
    "\n",
    "    # if both the width and height are None, then return the\n",
    "    # original image\n",
    "    if width is None and height is None:\n",
    "        return image\n",
    "\n",
    "    # check to see if the width is None\n",
    "    if width is None:\n",
    "        # calculate the ratio of the height and construct the\n",
    "        # dimensions\n",
    "        r = height / float(h)\n",
    "        dim = (int(w * r), height)\n",
    "\n",
    "    # otherwise, the height is None\n",
    "    else:\n",
    "        # calculate the ratio of the width and construct the\n",
    "        # dimensions\n",
    "        r = width / float(w)\n",
    "        dim = (width, int(h * r))\n",
    "\n",
    "    # resize the image\n",
    "    resized = cv2.resize(image, dim, interpolation = inter)\n",
    "\n",
    "    # return the resized image\n",
    "    return resized"
   ]
  },
  {
   "cell_type": "code",
   "execution_count": 47,
   "metadata": {},
   "outputs": [],
   "source": [
    "img = cv2.imread(r\"C:\\Users\\user\\Desktop\\Data Analysis\\Adoba\\Image_Editing\\Data\\Test_Data\\MONTREAL-QUEBEC.jpeg\")  # Note: Not working file path if any turkish character in file path name\n",
    "# img"
   ]
  },
  {
   "cell_type": "code",
   "execution_count": 48,
   "metadata": {},
   "outputs": [
    {
     "data": {
      "text/plain": [
       "array([[[162, 144, 157],\n",
       "        [161, 144, 159],\n",
       "        [161, 145, 158],\n",
       "        ...,\n",
       "        [115, 149, 191],\n",
       "        [114, 148, 191],\n",
       "        [119, 151, 188]],\n",
       "\n",
       "       [[161, 145, 158],\n",
       "        [161, 145, 159],\n",
       "        [161, 145, 158],\n",
       "        ...,\n",
       "        [114, 148, 191],\n",
       "        [114, 148, 191],\n",
       "        [120, 151, 189]],\n",
       "\n",
       "       [[160, 145, 157],\n",
       "        [162, 145, 158],\n",
       "        [160, 147, 158],\n",
       "        ...,\n",
       "        [115, 149, 192],\n",
       "        [115, 149, 192],\n",
       "        [118, 151, 188]],\n",
       "\n",
       "       ...,\n",
       "\n",
       "       [[ 21, 137,  94],\n",
       "        [ 19, 135,  94],\n",
       "        [ 25, 149, 104],\n",
       "        ...,\n",
       "        [ 72,  83,  96],\n",
       "        [ 72,  83,  94],\n",
       "        [105, 119, 130]],\n",
       "\n",
       "       [[ 25, 145, 101],\n",
       "        [ 26, 148, 102],\n",
       "        [ 27, 159, 110],\n",
       "        ...,\n",
       "        [ 75,  87, 100],\n",
       "        [ 76,  87, 100],\n",
       "        [107, 121, 134]],\n",
       "\n",
       "       [[ 79, 171, 137],\n",
       "        [ 78, 181, 143],\n",
       "        [ 78, 172, 138],\n",
       "        ...,\n",
       "        [114, 128, 138],\n",
       "        [113, 127, 137],\n",
       "        [137, 153, 163]]], dtype=uint8)"
      ]
     },
     "execution_count": 48,
     "metadata": {},
     "output_type": "execute_result"
    }
   ],
   "source": [
    "image = image_resize(img, width = 1280, height = None, inter = cv2.INTER_AREA)\n",
    "image"
   ]
  },
  {
   "cell_type": "code",
   "execution_count": null,
   "metadata": {},
   "outputs": [],
   "source": []
  },
  {
   "cell_type": "code",
   "execution_count": null,
   "metadata": {},
   "outputs": [],
   "source": []
  },
  {
   "cell_type": "markdown",
   "metadata": {},
   "source": [
    "#### PIL Image Resize"
   ]
  },
  {
   "cell_type": "code",
   "execution_count": 49,
   "metadata": {},
   "outputs": [],
   "source": [
    "input_image = r\"C:\\Users\\user\\Desktop\\Data Analysis\\Adoba\\Image_Editing\\Data\\Test_Data\\MONTREAL-QUEBEC.jpeg\""
   ]
  },
  {
   "cell_type": "code",
   "execution_count": 50,
   "metadata": {},
   "outputs": [],
   "source": [
    "im = Image.open(input_image)\n",
    "width, height = im.size\n",
    "im = im.resize((width//2, height//2))"
   ]
  },
  {
   "cell_type": "code",
   "execution_count": 51,
   "metadata": {},
   "outputs": [],
   "source": [
    "im.save(\"MONTREAL-QUEBEC-Resize.jpeg\")\n",
    "im.save(\"MONTREAL-QUEBEC-Resize.webp\")"
   ]
  },
  {
   "cell_type": "code",
   "execution_count": null,
   "metadata": {},
   "outputs": [],
   "source": []
  },
  {
   "cell_type": "markdown",
   "metadata": {},
   "source": [
    "##### For Loop"
   ]
  },
  {
   "cell_type": "code",
   "execution_count": 52,
   "metadata": {},
   "outputs": [],
   "source": [
    "input_image_path = r\"C:\\Users\\user\\Desktop\\Data Analysis\\Adoba\\Image_Editing\\Data\\Test_Data\"\n",
    "output_image_path = r\"C:\\Users\\user\\Desktop\\Data Analysis\\Adoba\\Image_Editing\\Result\\Test_Result\\Test2\"\n",
    "Path(output_image_path).mkdir(parents=True, exist_ok=True)"
   ]
  },
  {
   "cell_type": "code",
   "execution_count": 53,
   "metadata": {},
   "outputs": [
    {
     "data": {
      "text/plain": [
       "['C:\\\\Users\\\\user\\\\Desktop\\\\Data Analysis\\\\Adoba\\\\Image_Editing\\\\Data\\\\Test_Data\\\\MONTREAL-QUEBEC-Resize.jpg',\n",
       " 'C:\\\\Users\\\\user\\\\Desktop\\\\Data Analysis\\\\Adoba\\\\Image_Editing\\\\Data\\\\Test_Data\\\\MONTREAL-QUEBEC.jpeg',\n",
       " 'C:\\\\Users\\\\user\\\\Desktop\\\\Data Analysis\\\\Adoba\\\\Image_Editing\\\\Data\\\\Test_Data\\\\MONTREAL-QUEBEC2.jpeg',\n",
       " 'C:\\\\Users\\\\user\\\\Desktop\\\\Data Analysis\\\\Adoba\\\\Image_Editing\\\\Data\\\\Test_Data\\\\MONTREAL-QUEBEC3.webp',\n",
       " 'C:\\\\Users\\\\user\\\\Desktop\\\\Data Analysis\\\\Adoba\\\\Image_Editing\\\\Data\\\\Test_Data\\\\Road.jpg',\n",
       " 'C:\\\\Users\\\\user\\\\Desktop\\\\Data Analysis\\\\Adoba\\\\Image_Editing\\\\Data\\\\Test_Data\\\\vancouver-house-1.webp',\n",
       " 'C:\\\\Users\\\\user\\\\Desktop\\\\Data Analysis\\\\Adoba\\\\Image_Editing\\\\Data\\\\Test_Data\\\\vancouver-house-12.jpeg',\n",
       " 'C:\\\\Users\\\\user\\\\Desktop\\\\Data Analysis\\\\Adoba\\\\Image_Editing\\\\Data\\\\Test_Data\\\\vancouver-house-13.webp']"
      ]
     },
     "execution_count": 53,
     "metadata": {},
     "output_type": "execute_result"
    }
   ],
   "source": [
    "image_file_list = glob.glob(fr\"{input_image_path}\\*\")\n",
    "image_file_list"
   ]
  },
  {
   "cell_type": "code",
   "execution_count": 54,
   "metadata": {},
   "outputs": [],
   "source": [
    "# result_path = f\"{input_image_path}\\\\Test2\"\n",
    "# Path(result_path).mkdir(parents=True, exist_ok=True)"
   ]
  },
  {
   "cell_type": "code",
   "execution_count": 55,
   "metadata": {},
   "outputs": [],
   "source": [
    "# all_files = []\n",
    "# success_file = []\n",
    "error_files = []\n",
    "width_fixed = 1280\n",
    "result_path = f\"{output_image_path}\"\n",
    "Path(result_path).mkdir(parents=True, exist_ok=True)\n",
    "for img_file in image_file_list:\n",
    "    img_file_name = os.path.basename(f\"{img_file}\")\n",
    "    img_file_no_ext = os.path.splitext(img_file_name)[0]\n",
    "    # all_files.append(img_file_name)\n",
    "    im = Image.open(img_file)\n",
    "    width, height = im.size\n",
    "    try:\n",
    "        if width <= width_fixed:\n",
    "            #im.save(f\"{result_path}\\\\{img_file_name}\")\n",
    "            im.save(f\"{result_path}\\\\{img_file_no_ext}.webp\")\n",
    "            # success_file.append(img_file_name)\n",
    "        else:\n",
    "            width_var = int(width_fixed)\n",
    "            height_var = int((width_fixed/width)*height)\n",
    "            im = im.resize((width_var, height_var))\n",
    "            #im.save(f\"{result_path}\\\\{img_file_name}\")\n",
    "            im.save(f\"{result_path}\\\\{img_file_no_ext}.webp\")\n",
    "            # success_file.append(img_file_name)\n",
    "    except:\n",
    "        # pass\n",
    "        error_files.append(img_file_name)\n",
    "    \n",
    "# print(list(set(all_files).difference(set(success_file))))    "
   ]
  },
  {
   "cell_type": "code",
   "execution_count": null,
   "metadata": {},
   "outputs": [],
   "source": []
  },
  {
   "cell_type": "markdown",
   "metadata": {},
   "source": [
    "##### Function"
   ]
  },
  {
   "cell_type": "code",
   "execution_count": 56,
   "metadata": {},
   "outputs": [],
   "source": [
    "input_image_path = r\"C:\\Users\\user\\Desktop\\Data Analysis\\Adoba\\Image_Editing\\Data\\Test_Data\"\n",
    "output_image_path = r\"C:\\Users\\user\\Desktop\\Data Analysis\\Adoba\\Image_Editing\\Result\\Test_Result\\Test3\"\n",
    "Path(output_image_path).mkdir(parents=True, exist_ok=True)"
   ]
  },
  {
   "cell_type": "code",
   "execution_count": 57,
   "metadata": {},
   "outputs": [],
   "source": [
    "def image_resize(input_image_path, output_image_path, width_fixed = 1280):\n",
    "    image_file_list = glob.glob(fr\"{input_image_path}\\*\")\n",
    "    error_files = []\n",
    "    # width_fixed = 1280\n",
    "    result_path = f\"{output_image_path}\"\n",
    "    Path(result_path).mkdir(parents=True, exist_ok=True)\n",
    "    for img_file in image_file_list:\n",
    "        img_file_name = os.path.basename(f\"{img_file}\")\n",
    "        img_file_no_ext = os.path.splitext(img_file_name)[0]\n",
    "        im = Image.open(img_file)\n",
    "        width, height = im.size\n",
    "        try:\n",
    "            if width <= width_fixed:\n",
    "                im.save(f\"{result_path}\\\\{img_file_no_ext}.webp\")\n",
    "            else:\n",
    "                width_var = int(width_fixed)\n",
    "                height_var = int((width_fixed/width)*height)\n",
    "                im = im.resize((width_var, height_var))\n",
    "                im.save(f\"{result_path}\\\\{img_file_no_ext}.webp\")\n",
    "        except:\n",
    "            error_files.append(img_file_name)\n",
    "    \n",
    "    return error_files"
   ]
  },
  {
   "cell_type": "code",
   "execution_count": 58,
   "metadata": {},
   "outputs": [
    {
     "data": {
      "text/plain": [
       "[]"
      ]
     },
     "execution_count": 58,
     "metadata": {},
     "output_type": "execute_result"
    }
   ],
   "source": [
    "image_resize(input_image_path, output_image_path, width_fixed = 1280)"
   ]
  },
  {
   "cell_type": "code",
   "execution_count": null,
   "metadata": {},
   "outputs": [],
   "source": []
  },
  {
   "cell_type": "code",
   "execution_count": null,
   "metadata": {},
   "outputs": [],
   "source": []
  },
  {
   "cell_type": "markdown",
   "metadata": {},
   "source": [
    "#### Test"
   ]
  },
  {
   "cell_type": "code",
   "execution_count": 59,
   "metadata": {},
   "outputs": [
    {
     "name": "stdout",
     "output_type": "stream",
     "text": [
      "1823 2735 3\n"
     ]
    }
   ],
   "source": [
    "import numpy as np\n",
    "import cv2\n",
    "img = cv2.imread('MONTREAL-QUEBEC-Resize.webp')\n",
    "height, width, channels = img.shape\n",
    "print(height, width, channels)"
   ]
  },
  {
   "cell_type": "code",
   "execution_count": null,
   "metadata": {},
   "outputs": [],
   "source": []
  },
  {
   "cell_type": "code",
   "execution_count": null,
   "metadata": {},
   "outputs": [],
   "source": []
  },
  {
   "cell_type": "code",
   "execution_count": null,
   "metadata": {},
   "outputs": [],
   "source": []
  },
  {
   "cell_type": "code",
   "execution_count": null,
   "metadata": {},
   "outputs": [],
   "source": []
  }
 ],
 "metadata": {
  "kernelspec": {
   "display_name": "Python 3",
   "language": "python",
   "name": "python3"
  },
  "language_info": {
   "codemirror_mode": {
    "name": "ipython",
    "version": 3
   },
   "file_extension": ".py",
   "mimetype": "text/x-python",
   "name": "python",
   "nbconvert_exporter": "python",
   "pygments_lexer": "ipython3",
   "version": "3.12.4"
  }
 },
 "nbformat": 4,
 "nbformat_minor": 2
}
