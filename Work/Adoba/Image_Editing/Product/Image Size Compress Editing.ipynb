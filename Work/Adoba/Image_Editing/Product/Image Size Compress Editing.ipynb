{
 "cells": [
  {
   "cell_type": "markdown",
   "metadata": {},
   "source": [
    "### Image Size Compress Editing"
   ]
  },
  {
   "cell_type": "code",
   "execution_count": 1,
   "metadata": {},
   "outputs": [],
   "source": [
    "# pip install imutils"
   ]
  },
  {
   "cell_type": "code",
   "execution_count": 2,
   "metadata": {},
   "outputs": [],
   "source": [
    "import PIL\n",
    "from PIL import Image\n",
    "import pandas as pd\n",
    "import numpy as np\n",
    "import os\n",
    "import sys\n",
    "import imutils\n",
    "import matplotlib.pyplot as plt\n",
    "%matplotlib inline\n",
    "from pathlib import Path\n",
    "import shutil\n",
    "import os \n",
    "from os.path import isfile, join\n",
    "import glob\n",
    "import time\n",
    "import cv2"
   ]
  },
  {
   "cell_type": "code",
   "execution_count": null,
   "metadata": {},
   "outputs": [],
   "source": []
  },
  {
   "cell_type": "markdown",
   "metadata": {},
   "source": [
    "#### Functions"
   ]
  },
  {
   "cell_type": "code",
   "execution_count": 3,
   "metadata": {},
   "outputs": [],
   "source": [
    "def compress_image(input_path, output_path, quality=80):\n",
    "    # Resmi aç\n",
    "    with Image.open(input_path) as img:\n",
    "        # RGB moduna dönüştür (gerekirse)\n",
    "        img = img.convert('RGB')\n",
    "        # Sıkıştırılmış resmi kaydet\n",
    "        #img.save(output_path, 'JPEG', optimize=True, quality=quality)  # JPG\n",
    "        img.save(output_path, 'WEBP', optimize=True, quality=quality)   # WEBP"
   ]
  },
  {
   "cell_type": "code",
   "execution_count": null,
   "metadata": {},
   "outputs": [],
   "source": []
  },
  {
   "cell_type": "markdown",
   "metadata": {},
   "source": [
    "#### Data Folder And Process"
   ]
  },
  {
   "cell_type": "code",
   "execution_count": 4,
   "metadata": {},
   "outputs": [],
   "source": [
    "input_image_path = r\"C:\\Users\\user\\Desktop\\Data Analysis\\Adoba\\Image_Editing\\Data\\Test_Data\"\n",
    "output_image_path = r\"C:\\Users\\user\\Desktop\\Data Analysis\\Adoba\\Image_Editing\\Result\\Test_Result\\Test\"\n",
    "Path(output_image_path).mkdir(parents=True, exist_ok=True)"
   ]
  },
  {
   "cell_type": "code",
   "execution_count": 5,
   "metadata": {},
   "outputs": [
    {
     "data": {
      "text/plain": [
       "['C:\\\\Users\\\\user\\\\Desktop\\\\Data Analysis\\\\Adoba\\\\Image_Editing\\\\Data\\\\Test_Data\\\\MONTREAL-QUEBEC-Resize.jpg',\n",
       " 'C:\\\\Users\\\\user\\\\Desktop\\\\Data Analysis\\\\Adoba\\\\Image_Editing\\\\Data\\\\Test_Data\\\\MONTREAL-QUEBEC.jpeg',\n",
       " 'C:\\\\Users\\\\user\\\\Desktop\\\\Data Analysis\\\\Adoba\\\\Image_Editing\\\\Data\\\\Test_Data\\\\MONTREAL-QUEBEC2.jpeg',\n",
       " 'C:\\\\Users\\\\user\\\\Desktop\\\\Data Analysis\\\\Adoba\\\\Image_Editing\\\\Data\\\\Test_Data\\\\MONTREAL-QUEBEC3.webp',\n",
       " 'C:\\\\Users\\\\user\\\\Desktop\\\\Data Analysis\\\\Adoba\\\\Image_Editing\\\\Data\\\\Test_Data\\\\Road.jpg',\n",
       " 'C:\\\\Users\\\\user\\\\Desktop\\\\Data Analysis\\\\Adoba\\\\Image_Editing\\\\Data\\\\Test_Data\\\\vancouver-house-1.webp',\n",
       " 'C:\\\\Users\\\\user\\\\Desktop\\\\Data Analysis\\\\Adoba\\\\Image_Editing\\\\Data\\\\Test_Data\\\\vancouver-house-12.jpeg',\n",
       " 'C:\\\\Users\\\\user\\\\Desktop\\\\Data Analysis\\\\Adoba\\\\Image_Editing\\\\Data\\\\Test_Data\\\\vancouver-house-13.webp']"
      ]
     },
     "execution_count": 5,
     "metadata": {},
     "output_type": "execute_result"
    }
   ],
   "source": [
    "image_file_list = glob.glob(fr\"{input_image_path}\\*\")\n",
    "image_file_list"
   ]
  },
  {
   "cell_type": "code",
   "execution_count": 6,
   "metadata": {},
   "outputs": [],
   "source": [
    "result_path = f\"{output_image_path}\"\n",
    "Path(result_path).mkdir(parents=True, exist_ok=True)\n",
    "for img_file in image_file_list:\n",
    "    img_file_name = os.path.basename(f\"{img_file}\")\n",
    "    img_file_no_ext = os.path.splitext(img_file_name)[0]\n",
    "    output_image = f\"{result_path}\\\\{img_file_no_ext}.webp\"\n",
    "    compress_image(img_file, output_image, quality=80)"
   ]
  },
  {
   "cell_type": "code",
   "execution_count": null,
   "metadata": {},
   "outputs": [],
   "source": []
  },
  {
   "cell_type": "markdown",
   "metadata": {},
   "source": [
    "### Solar Image Aspect Ratio"
   ]
  },
  {
   "cell_type": "code",
   "execution_count": 7,
   "metadata": {},
   "outputs": [],
   "source": [
    "import PIL\n",
    "from PIL import Image\n",
    "import pandas as pd\n",
    "import numpy as np\n",
    "import os\n",
    "import sys\n",
    "import imutils\n",
    "import matplotlib.pyplot as plt\n",
    "%matplotlib inline\n",
    "from pathlib import Path\n",
    "import shutil\n",
    "import os \n",
    "from os.path import isfile, join\n",
    "import glob\n",
    "import time\n",
    "import cv2"
   ]
  },
  {
   "cell_type": "code",
   "execution_count": null,
   "metadata": {},
   "outputs": [],
   "source": []
  },
  {
   "cell_type": "markdown",
   "metadata": {},
   "source": [
    "#### Functions"
   ]
  },
  {
   "cell_type": "code",
   "execution_count": 8,
   "metadata": {},
   "outputs": [],
   "source": [
    "def image_padding_aspect_ratio(data_folder_name, data_path, out_folder_name, out_path, padding_color = (0,0,0), aspect_ratio_width = 16, aspect_ratio_height = 9):\n",
    "       '''\n",
    "       image_padding_aspect_ratio(data_folder_name, data_path, out_folder_name, out_path, padding_color = (0,0,0), aspect_ratio_width = 16, aspect_ratio_height = 9)\\n\n",
    "       data_folder_name, data_path, out_folder_name, out_path are path and folder in string(str). others are cv2 parameter and image aspect ratio parameter.\\n\n",
    "       ex.\\n\n",
    "       output_path = f\"/home/kurubal/Documents/Modern Ways/Project/{lang_folder.capitalize()}/Image Audio Video/Data/28 Words\"\\n\n",
    "       image_path = f\"/home/kurubal/Documents/Modern Ways/Project/{lang_folder.capitalize()}/Image Audio Video/Data/28 Words\"\\n\n",
    "       image_padding_aspect_ratio(\"Images_SV_Rename\", image_path, \"Images_SV\", output_path, padding_color = (0,0,0), aspect_ratio_width = 16, aspect_ratio_height = 9)\n",
    "       '''\n",
    "       error_file_list = []\n",
    "       result_path = f\"{out_path}/{out_folder_name}\"\n",
    "       data_folder_path = f\"{data_path}/{data_folder_name}\"\n",
    "       Path(result_path).mkdir(parents=True, exist_ok=True)\n",
    "       files=[f for f in os.listdir(data_folder_path) if isfile(join(data_folder_path,f))]   \n",
    "       for i in range(len(files)):       \n",
    "          pathfilename=data_folder_path+'/'+files[i]\n",
    "          #filename_without_ext = os.path.splitext(files[i])[0]\n",
    "          #text = f\"{text}\"\n",
    "          if isfile(f\"{result_path}/{files[i]}\"):\n",
    "                 pass\n",
    "          else:\n",
    "                 try:\n",
    "                        img = cv2.imread(f\"{pathfilename}\")\n",
    "                        old_image_height, old_image_width, channels = img.shape  # 2718  1988\n",
    "\n",
    "                        #aspect_ratio_width = 16\n",
    "                        #aspect_ratio_height = 9\n",
    "\n",
    "                        if (old_image_height/aspect_ratio_height) > (old_image_width/aspect_ratio_width):\n",
    "                               new_image_width = int((old_image_height/aspect_ratio_height)*aspect_ratio_width)\n",
    "                               new_image_height = int(old_image_height)\n",
    "                        elif (old_image_height/aspect_ratio_height) < (old_image_width/aspect_ratio_width):\n",
    "                               new_image_width = int(old_image_width)\n",
    "                               new_image_height = int((old_image_width/aspect_ratio_width)*aspect_ratio_height)\n",
    "                        elif (old_image_height/aspect_ratio_height) == (old_image_width/aspect_ratio_width):\n",
    "                               new_image_width = int((old_image_height/aspect_ratio_height)*aspect_ratio_width)\n",
    "                               new_image_height = int(old_image_height)\n",
    "                        else:\n",
    "                               new_image_width = old_image_width\n",
    "                               new_image_height = old_image_height\n",
    "\n",
    "                        color = padding_color\n",
    "                        result = np.full((new_image_height,new_image_width, channels), color, dtype=np.uint8)\n",
    "\n",
    "                        # compute center offset\n",
    "                        x_center = (new_image_width - old_image_width) // 2\n",
    "                        y_center = (new_image_height - old_image_height) // 2\n",
    "\n",
    "                        # copy img image into center of result image\n",
    "                        result[y_center:y_center+old_image_height, x_center:x_center+old_image_width] = img            \n",
    "\n",
    "                        cv2.imwrite(f\"{result_path}/{files[i]}\", result)\n",
    "                 except:\n",
    "                        print(\"Oops!\", sys.exc_info()[0], \"occurred.\")\n",
    "                        error_file_list.append(files[i])\n",
    "                        \n",
    "       return error_file_list"
   ]
  },
  {
   "cell_type": "code",
   "execution_count": 9,
   "metadata": {},
   "outputs": [],
   "source": [
    "def convert_image_to_jpg_crop_size(data_folder_name, data_path, out_folder_name, out_path, basewidth = 1800, aspect_ratio_width = 2, aspect_ratio_height = 3):  # For WEBP\n",
    "    '''\n",
    "    convert_image_to_jpg_crop_size(filename_list, data_folder_name, data_path, out_folder_name, out_path)\\n\n",
    "    filename_list is string image filename list. data_folder_name, data_path, out_folder_name and out_path are path and folder in string.\\n\n",
    "    ex.\\n\n",
    "    path = f\"/media/kurubal/SSD/Data Scientist/Data Science/Data-Scientist/Work/Modern Ways/Image Audio/Product\"\\n\n",
    "    image_path = f\"/media/kurubal/SSD/Data Scientist/Data Science/Data-Scientist/Work/Modern Ways/Image Audio/Product\"\\n\n",
    "    convert_image_to_jpg_crop_size(word_group_list1, \"Images\", image_data_path, \"Image_JPG_Crop\", data_path)\n",
    "    '''\n",
    "    # aspect_ratio_width = 16\n",
    "    # aspect_ratio_height = 9\n",
    "    # basewidth = 1600\n",
    "\n",
    "    size_width = int(basewidth)\n",
    "    size_heigth = int((basewidth/aspect_ratio_width)*aspect_ratio_height)\n",
    "    size = (size_width,size_heigth)\n",
    "\n",
    "    result_path = f\"{out_path}/{out_folder_name}\"\n",
    "    result_path2 = f\"{out_path}/{data_folder_name}_WEBP\"  # _WEBP, _JPG\n",
    "    data_folder_path = f\"{data_path}/{data_folder_name}\"\n",
    "    Path(result_path).mkdir(parents=True, exist_ok=True)\n",
    "    Path(result_path2).mkdir(parents=True, exist_ok=True)\n",
    "\n",
    "    files=[f for f in os.listdir(data_folder_path) if isfile(join(data_folder_path,f))]     \n",
    "    for i in range(len(files)):\n",
    "        #text = f\"{text}\"\n",
    "        pathfilename=data_folder_path+'/'+files[i]\n",
    "        filename_without_ext = os.path.splitext(files[i])[0]\n",
    "        try:\n",
    "            if isfile(f\"{result_path2}/{filename_without_ext}.webp\"):  # .jpg .webp\n",
    "                pass\n",
    "            else:\n",
    "                img = Image.open(pathfilename)\n",
    "                img2 = img.convert(\"RGB\")\n",
    "                img2.save(f\"{result_path2}/{filename_without_ext}.webp\")  # .jpg .webp\n",
    "                time.sleep(0.1)\n",
    "        except:\n",
    "            print(\"Oops!\", sys.exc_info()[0], \"occurred.\")\n",
    "\n",
    "    files2=[f for f in os.listdir(result_path2) if isfile(join(result_path2,f))] \n",
    "    for j in range(len(files2)):\n",
    "        pathfilename2=result_path2+'/'+files2[j]\n",
    "        filename_without_ext2 = os.path.splitext(files2[j])[0]    \n",
    "        if isfile(f\"{result_path}/{filename_without_ext2}.webp\"):  # .jpg .webp\n",
    "            pass\n",
    "        else:\n",
    "            try:\n",
    "                img3 = Image.open(pathfilename2)  # ???\n",
    "                width, height = img3.size\n",
    "                height_var = int(height/aspect_ratio_height)\n",
    "                width_var = int(width/aspect_ratio_width)\n",
    "\n",
    "                if height_var == width_var:\n",
    "                    img_var = img3.resize(size, Image.LANCZOS)\n",
    "                elif width_var > height_var:\n",
    "                    crop_width = int(abs((width-(height_var*aspect_ratio_width))/2))\n",
    "                    box = (crop_width,0,width-crop_width,height)  # left, top, right, bottom\n",
    "                    img_crop = img3.crop(box)  \n",
    "                    img_var = img_crop.resize(size, Image.LANCZOS)\n",
    "                elif width_var < height_var:\n",
    "                    crop_height = int(abs((height-(width_var*aspect_ratio_height))/2))\n",
    "                    box = (0,crop_height,width,height-crop_height)  # left, top, right, bottom\n",
    "                    img_crop = img3.crop(box)  # left, top, right, bottom\n",
    "                    img_var = img_crop.resize(size, Image.LANCZOS)\n",
    "                else:\n",
    "                    img_var = img3\n",
    "\n",
    "                img_var.save(f\"{result_path}/{filename_without_ext2}.webp\")  # .jpg .webp\n",
    "\n",
    "            except:\n",
    "                print(\"Oops!\", sys.exc_info()[0], \"occurred.\")"
   ]
  },
  {
   "cell_type": "code",
   "execution_count": 10,
   "metadata": {},
   "outputs": [],
   "source": [
    "def convert_image_to_jpg_crop_size2(data_folder_name, data_path, out_folder_name, out_path, basewidth = 1800, aspect_ratio_width = 2, aspect_ratio_height = 3):  # For JPG\n",
    "    '''\n",
    "    convert_image_to_jpg_crop_size(filename_list, data_folder_name, data_path, out_folder_name, out_path)\\n\n",
    "    filename_list is string image filename list. data_folder_name, data_path, out_folder_name and out_path are path and folder in string.\\n\n",
    "    ex.\\n\n",
    "    path = f\"/media/kurubal/SSD/Data Scientist/Data Science/Data-Scientist/Work/Modern Ways/Image Audio/Product\"\\n\n",
    "    image_path = f\"/media/kurubal/SSD/Data Scientist/Data Science/Data-Scientist/Work/Modern Ways/Image Audio/Product\"\\n\n",
    "    convert_image_to_jpg_crop_size(word_group_list1, \"Images\", image_data_path, \"Image_JPG_Crop\", data_path)\n",
    "    '''\n",
    "    # aspect_ratio_width = 16\n",
    "    # aspect_ratio_height = 9\n",
    "    # basewidth = 1600\n",
    "\n",
    "    size_width = int(basewidth)\n",
    "    size_heigth = int((basewidth/aspect_ratio_width)*aspect_ratio_height)\n",
    "    size = (size_width,size_heigth)\n",
    "\n",
    "    result_path = f\"{out_path}/{out_folder_name}\"\n",
    "    result_path2 = f\"{out_path}/{data_folder_name}_JPG\"  # _WEBP, _JPG\n",
    "    data_folder_path = f\"{data_path}/{data_folder_name}\"\n",
    "    Path(result_path).mkdir(parents=True, exist_ok=True)\n",
    "    Path(result_path2).mkdir(parents=True, exist_ok=True)\n",
    "\n",
    "    files=[f for f in os.listdir(data_folder_path) if isfile(join(data_folder_path,f))]     \n",
    "    for i in range(len(files)):\n",
    "        #text = f\"{text}\"\n",
    "        pathfilename=data_folder_path+'/'+files[i]\n",
    "        filename_without_ext = os.path.splitext(files[i])[0]\n",
    "        try:\n",
    "            if isfile(f\"{result_path2}/{filename_without_ext}.jpg\"):  # .jpg .webp\n",
    "                pass\n",
    "            else:\n",
    "                img = Image.open(pathfilename)\n",
    "                img2 = img.convert(\"RGB\")\n",
    "                img2.save(f\"{result_path2}/{filename_without_ext}.jpg\")  # .jpg .webp\n",
    "                time.sleep(0.1)\n",
    "        except:\n",
    "            print(\"Oops!\", sys.exc_info()[0], \"occurred.\")\n",
    "\n",
    "    files2=[f for f in os.listdir(result_path2) if isfile(join(result_path2,f))] \n",
    "    for j in range(len(files2)):\n",
    "        pathfilename2=result_path2+'/'+files2[j]\n",
    "        filename_without_ext2 = os.path.splitext(files2[j])[0]    \n",
    "        if isfile(f\"{result_path}/{filename_without_ext2}.jpg\"):  # .jpg .webp\n",
    "            pass\n",
    "        else:\n",
    "            try:\n",
    "                img3 = Image.open(pathfilename2)  # ???\n",
    "                width, height = img3.size\n",
    "                height_var = int(height/aspect_ratio_height)\n",
    "                width_var = int(width/aspect_ratio_width)\n",
    "\n",
    "                if height_var == width_var:\n",
    "                    img_var = img3.resize(size, Image.LANCZOS)\n",
    "                elif width_var > height_var:\n",
    "                    crop_width = int(abs((width-(height_var*aspect_ratio_width))/2))\n",
    "                    box = (crop_width,0,width-crop_width,height)  # left, top, right, bottom\n",
    "                    img_crop = img3.crop(box)  \n",
    "                    img_var = img_crop.resize(size, Image.LANCZOS)\n",
    "                elif width_var < height_var:\n",
    "                    crop_height = int(abs((height-(width_var*aspect_ratio_height))/2))\n",
    "                    box = (0,crop_height,width,height-crop_height)  # left, top, right, bottom\n",
    "                    img_crop = img3.crop(box)  # left, top, right, bottom\n",
    "                    img_var = img_crop.resize(size, Image.LANCZOS)\n",
    "                else:\n",
    "                    img_var = img3\n",
    "\n",
    "                img_var.save(f\"{result_path}/{filename_without_ext2}.jpg\")  # .jpg .webp\n",
    "\n",
    "            except:\n",
    "                print(\"Oops!\", sys.exc_info()[0], \"occurred.\")"
   ]
  },
  {
   "cell_type": "code",
   "execution_count": null,
   "metadata": {},
   "outputs": [],
   "source": []
  },
  {
   "cell_type": "markdown",
   "metadata": {},
   "source": [
    "#### Data Folder"
   ]
  },
  {
   "cell_type": "code",
   "execution_count": 16,
   "metadata": {},
   "outputs": [],
   "source": [
    "image_data_folder = r\"C:\\Users\\user\\Desktop\\burakaz\""
   ]
  },
  {
   "cell_type": "code",
   "execution_count": 17,
   "metadata": {},
   "outputs": [
    {
     "data": {
      "text/plain": [
       "['C:\\\\Users\\\\user\\\\Desktop\\\\burakaz\\\\100 A MPPT Charge Controller  100 A 12V48V',\n",
       " 'C:\\\\Users\\\\user\\\\Desktop\\\\burakaz\\\\1000-12W',\n",
       " 'C:\\\\Users\\\\user\\\\Desktop\\\\burakaz\\\\10A PWM Charge Controller 1224 Auto option',\n",
       " 'C:\\\\Users\\\\user\\\\Desktop\\\\burakaz\\\\110 A Diode',\n",
       " 'C:\\\\Users\\\\user\\\\Desktop\\\\burakaz\\\\12,8V 100Ah LFP Battery',\n",
       " 'C:\\\\Users\\\\user\\\\Desktop\\\\burakaz\\\\12V  2000W Pure Sine',\n",
       " 'C:\\\\Users\\\\user\\\\Desktop\\\\burakaz\\\\12V 1000W Pure Sine',\n",
       " 'C:\\\\Users\\\\user\\\\Desktop\\\\burakaz\\\\12V 1000W Pure Sine UPS Inverter',\n",
       " 'C:\\\\Users\\\\user\\\\Desktop\\\\burakaz\\\\12V 100Ah Solar Gel Battery, Deep Cycle',\n",
       " 'C:\\\\Users\\\\user\\\\Desktop\\\\burakaz\\\\12V 1500W Pure Sine Inverter',\n",
       " 'C:\\\\Users\\\\user\\\\Desktop\\\\burakaz\\\\12V 1500W Pure Sine UPS Inverter',\n",
       " 'C:\\\\Users\\\\user\\\\Desktop\\\\burakaz\\\\12V 150Ah Solar Gel Battery',\n",
       " 'C:\\\\Users\\\\user\\\\Desktop\\\\burakaz\\\\12V 200Ah Solar Gel Battery',\n",
       " 'C:\\\\Users\\\\user\\\\Desktop\\\\burakaz\\\\12V 2500W Pure Sine Inverter',\n",
       " 'C:\\\\Users\\\\user\\\\Desktop\\\\burakaz\\\\12V 3000W Pure Sine Inverter',\n",
       " 'C:\\\\Users\\\\user\\\\Desktop\\\\burakaz\\\\12V 4000W Pure Sine Inverter',\n",
       " 'C:\\\\Users\\\\user\\\\Desktop\\\\burakaz\\\\12V 600W Pure Sine Inverter',\n",
       " 'C:\\\\Users\\\\user\\\\Desktop\\\\burakaz\\\\12V 600W Pure Sine UPS Inverter',\n",
       " 'C:\\\\Users\\\\user\\\\Desktop\\\\burakaz\\\\20 A MPPT Charge Controller  20 A 12V24V',\n",
       " 'C:\\\\Users\\\\user\\\\Desktop\\\\burakaz\\\\20 A PWM Charge Controller  1224 auto option',\n",
       " 'C:\\\\Users\\\\user\\\\Desktop\\\\burakaz\\\\2000-12W',\n",
       " 'C:\\\\Users\\\\user\\\\Desktop\\\\burakaz\\\\24V 1500W Pure Sine',\n",
       " 'C:\\\\Users\\\\user\\\\Desktop\\\\burakaz\\\\24V 3000W Pure Sine Inverter',\n",
       " 'C:\\\\Users\\\\user\\\\Desktop\\\\burakaz\\\\25,6V 100Ah LFP Battery',\n",
       " 'C:\\\\Users\\\\user\\\\Desktop\\\\burakaz\\\\2500-12W',\n",
       " 'C:\\\\Users\\\\user\\\\Desktop\\\\burakaz\\\\30 A MPPT Charge Controller  30 A 12V24V',\n",
       " 'C:\\\\Users\\\\user\\\\Desktop\\\\burakaz\\\\300-12W',\n",
       " 'C:\\\\Users\\\\user\\\\Desktop\\\\burakaz\\\\30A PWM Charge Controller 1224 Auto option',\n",
       " 'C:\\\\Users\\\\user\\\\Desktop\\\\burakaz\\\\3hp 2.2kw Mono Phase Solar Pump Driver INPUT220V',\n",
       " 'C:\\\\Users\\\\user\\\\Desktop\\\\burakaz\\\\40 A MPPT Charge Controller  40 A 12V24V',\n",
       " 'C:\\\\Users\\\\user\\\\Desktop\\\\burakaz\\\\40A PWM Charge Controller 1224 Auto option',\n",
       " 'C:\\\\Users\\\\user\\\\Desktop\\\\burakaz\\\\5.5 HP 4kw Mono Phase Solar Pump Driver INPUT220V',\n",
       " 'C:\\\\Users\\\\user\\\\Desktop\\\\burakaz\\\\51,2 V 100Ah Lithium Rack Battery',\n",
       " 'C:\\\\Users\\\\user\\\\Desktop\\\\burakaz\\\\51,2 V 50Ah Lithium Rack Battery',\n",
       " 'C:\\\\Users\\\\user\\\\Desktop\\\\burakaz\\\\55 A Diode',\n",
       " 'C:\\\\Users\\\\user\\\\Desktop\\\\burakaz\\\\60 A MPPT Charge Controller  60 A 12V48V',\n",
       " 'C:\\\\Users\\\\user\\\\Desktop\\\\burakaz\\\\600-12W',\n",
       " 'C:\\\\Users\\\\user\\\\Desktop\\\\burakaz\\\\6mm Solar Cable',\n",
       " 'C:\\\\Users\\\\user\\\\Desktop\\\\burakaz\\\\80 A MPPT Charge Controller  80 A 12V48V',\n",
       " 'C:\\\\Users\\\\user\\\\Desktop\\\\burakaz\\\\Diode Heat Sink',\n",
       " 'C:\\\\Users\\\\user\\\\Desktop\\\\burakaz\\\\INFINI-PRO SERIES MPPT ONOFF GRID SMART HYBRID INVERTER-11kw-15KW-30KW',\n",
       " 'C:\\\\Users\\\\user\\\\Desktop\\\\burakaz\\\\MAX SERIES SMART MPPT OFF-GRID INVERTER-8.2KW-10.2KW',\n",
       " 'C:\\\\Users\\\\user\\\\Desktop\\\\burakaz\\\\MAX-II SERIES SMART MPPT INVERTER-8KW-11KW',\n",
       " 'C:\\\\Users\\\\user\\\\Desktop\\\\burakaz\\\\MC4 Solar Connector Set',\n",
       " 'C:\\\\Users\\\\user\\\\Desktop\\\\burakaz\\\\MC4-PENSE',\n",
       " 'C:\\\\Users\\\\user\\\\Desktop\\\\burakaz\\\\NM-ECO SERIES SMART MPPT OFF-GRID INVERTER-4.2KW-6.2KW',\n",
       " 'C:\\\\Users\\\\user\\\\Desktop\\\\burakaz\\\\NML SERIES SMART MPPT OFF-GRID INVERTER-1.6KW-3KW',\n",
       " 'C:\\\\Users\\\\user\\\\Desktop\\\\burakaz\\\\NMS SERIES MPPT OFF-GRID SMART INVERTER-1KW-1.5KW',\n",
       " 'C:\\\\Users\\\\user\\\\Desktop\\\\burakaz\\\\SLVM-1500-12',\n",
       " 'C:\\\\Users\\\\user\\\\Desktop\\\\burakaz\\\\SLVM-1500-24',\n",
       " 'C:\\\\Users\\\\user\\\\Desktop\\\\burakaz\\\\SLVM-3000-24',\n",
       " 'C:\\\\Users\\\\user\\\\Desktop\\\\burakaz\\\\Solinved 16A 1000V DC Cylindrical Fuse',\n",
       " 'C:\\\\Users\\\\user\\\\Desktop\\\\burakaz\\\\Solinved 205 W Monocrystalline Solar Panel',\n",
       " 'C:\\\\Users\\\\user\\\\Desktop\\\\burakaz\\\\Solinved 3 HP 2.2 kW Monofaze(3x220)',\n",
       " 'C:\\\\Users\\\\user\\\\Desktop\\\\burakaz\\\\Solinved 32A Solar PV DC Sigorta',\n",
       " 'C:\\\\Users\\\\user\\\\Desktop\\\\burakaz\\\\Solinved 455 W Half Cut Monocrystalline',\n",
       " 'C:\\\\Users\\\\user\\\\Desktop\\\\burakaz\\\\Solinved 5.5 HP 4 kW Monofaze (1x220)',\n",
       " 'C:\\\\Users\\\\user\\\\Desktop\\\\burakaz\\\\Solinved 550 W Half Cut Monocrystalline',\n",
       " 'C:\\\\Users\\\\user\\\\Desktop\\\\burakaz\\\\Solinved DC Kartuş (Sigorta Yuvası)',\n",
       " 'C:\\\\Users\\\\user\\\\Desktop\\\\burakaz\\\\SOLINVED DKP-TYPE 1 PANEL (1,5kW- 5,5kW)',\n",
       " 'C:\\\\Users\\\\user\\\\Desktop\\\\burakaz\\\\SOLINVED DKP-TYPE 2 PANEL (7,5kW- 15kW)',\n",
       " 'C:\\\\Users\\\\user\\\\Desktop\\\\burakaz\\\\SOLINVED DKP-TYPE 3 PANEL (18,5kW- 22kW)',\n",
       " 'C:\\\\Users\\\\user\\\\Desktop\\\\burakaz\\\\SOLINVED DKP-TYPE 4 PANEL (30kW- 37kW)',\n",
       " 'C:\\\\Users\\\\user\\\\Desktop\\\\burakaz\\\\SOLINVED DKP-TYPE 5 PANEL (45kW- 55kW)',\n",
       " 'C:\\\\Users\\\\user\\\\Desktop\\\\burakaz\\\\SOLINVED DKP-TYPE 6 PANEL (75kW- 110kW)',\n",
       " 'C:\\\\Users\\\\user\\\\Desktop\\\\burakaz\\\\solinved-51-2v-100ah-lithium-ion-battery']"
      ]
     },
     "execution_count": 17,
     "metadata": {},
     "output_type": "execute_result"
    }
   ],
   "source": [
    "image_folder_path_list = glob.glob(rf\"{image_data_folder}\\*\")\n",
    "image_folder_path_list"
   ]
  },
  {
   "cell_type": "code",
   "execution_count": 18,
   "metadata": {},
   "outputs": [],
   "source": [
    "# for image_folder_path in image_folder_path_list:\n",
    "#     data_path = os.path.dirname(image_folder_path)\n",
    "#     data_folder_name = os.path.basename(image_folder_path)\n",
    "#     out_path = image_folder_path\n",
    "#     out_folder_name = \"Edit\"\n",
    "#     print(out_path)"
   ]
  },
  {
   "cell_type": "code",
   "execution_count": 19,
   "metadata": {},
   "outputs": [],
   "source": [
    "# for image_folder_path in image_folder_path_list:\n",
    "#     try:\n",
    "#         data_path = os.path.dirname(image_folder_path)\n",
    "#         data_folder_name = os.path.basename(image_folder_path)\n",
    "#         out_path = image_folder_path\n",
    "#         out_folder_name = \"Edit\"\n",
    "#         image_padding_aspect_ratio(data_folder_name, data_path, out_folder_name, out_path, padding_color = (255,255,255), aspect_ratio_width = 2, aspect_ratio_height = 3)\n",
    "#     except:\n",
    "#         pass"
   ]
  },
  {
   "cell_type": "code",
   "execution_count": null,
   "metadata": {},
   "outputs": [],
   "source": []
  },
  {
   "cell_type": "code",
   "execution_count": 20,
   "metadata": {},
   "outputs": [
    {
     "name": "stdout",
     "output_type": "stream",
     "text": [
      "Oops! <class 'AttributeError'> occurred.\n",
      "Oops! <class 'AttributeError'> occurred.\n",
      "Oops! <class 'AttributeError'> occurred.\n",
      "Oops! <class 'AttributeError'> occurred.\n",
      "Oops! <class 'AttributeError'> occurred.\n",
      "Oops! <class 'AttributeError'> occurred.\n",
      "Oops! <class 'AttributeError'> occurred.\n",
      "Oops! <class 'AttributeError'> occurred.\n",
      "Oops! <class 'AttributeError'> occurred.\n",
      "Oops! <class 'AttributeError'> occurred.\n",
      "Oops! <class 'AttributeError'> occurred.\n",
      "Oops! <class 'AttributeError'> occurred.\n",
      "Oops! <class 'AttributeError'> occurred.\n",
      "Oops! <class 'AttributeError'> occurred.\n"
     ]
    }
   ],
   "source": [
    "for image_folder_path in image_folder_path_list:\n",
    "    try:\n",
    "        aspect_data_path = os.path.dirname(image_folder_path)\n",
    "        aspect_data_folder_name = os.path.basename(image_folder_path)\n",
    "        aspect_out_path = image_folder_path\n",
    "        aspect_out_folder_name = \"Edit_Temp\"\n",
    "        crop_data_path = aspect_out_path\n",
    "        crop_data_folder_name = aspect_out_folder_name\n",
    "        crop_out_path = image_folder_path\n",
    "        crop_out_folder_name = \"1200X1800_Webp\"  # For WEBP\n",
    "        # crop_out_folder_name = \"1200X1800_JPG\"  # For JPG\n",
    "        image_padding_aspect_ratio(aspect_data_folder_name, aspect_data_path, aspect_out_folder_name, aspect_out_path, padding_color = (255,255,255), aspect_ratio_width = 2, aspect_ratio_height = 3)\n",
    "        convert_image_to_jpg_crop_size(crop_data_folder_name, crop_data_path, crop_out_folder_name, crop_out_path, basewidth = 1200, aspect_ratio_width = 2, aspect_ratio_height = 3)  # For WEBP\n",
    "        # convert_image_to_jpg_crop_size2(crop_data_folder_name, crop_data_path, crop_out_folder_name, crop_out_path, basewidth = 1200, aspect_ratio_width = 2, aspect_ratio_height = 3)  # For JPG\n",
    "    except:\n",
    "        pass"
   ]
  },
  {
   "cell_type": "code",
   "execution_count": null,
   "metadata": {},
   "outputs": [],
   "source": []
  },
  {
   "cell_type": "code",
   "execution_count": null,
   "metadata": {},
   "outputs": [],
   "source": []
  },
  {
   "cell_type": "code",
   "execution_count": null,
   "metadata": {},
   "outputs": [],
   "source": []
  }
 ],
 "metadata": {
  "kernelspec": {
   "display_name": "Python 3",
   "language": "python",
   "name": "python3"
  },
  "language_info": {
   "codemirror_mode": {
    "name": "ipython",
    "version": 3
   },
   "file_extension": ".py",
   "mimetype": "text/x-python",
   "name": "python",
   "nbconvert_exporter": "python",
   "pygments_lexer": "ipython3",
   "version": "3.12.4"
  }
 },
 "nbformat": 4,
 "nbformat_minor": 2
}
