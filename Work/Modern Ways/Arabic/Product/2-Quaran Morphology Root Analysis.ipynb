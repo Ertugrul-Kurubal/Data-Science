{
 "cells": [
  {
   "cell_type": "markdown",
   "metadata": {},
   "source": [
    "### Morphology Root Analysis"
   ]
  },
  {
   "cell_type": "code",
   "execution_count": null,
   "metadata": {},
   "outputs": [],
   "source": [
    "import pandas as pd\n",
    "import numpy as np\n",
    "import re\n",
    "from camel_tools.utils.charmap import CharMapper\n",
    "from lang_trans.arabic import buckwalter"
   ]
  },
  {
   "cell_type": "code",
   "execution_count": null,
   "metadata": {},
   "outputs": [],
   "source": [
    "# buckwalter text clean for simple before transString\n",
    "def clean_ex(text):\n",
    "    buckwalter_out = re.sub(r'''([PJVG\\.:;,!\\+\\^\\]\\[@#FNKauio`~\"%-])''', \"\", text) # difference from clean\n",
    "    return buckwalter_out"
   ]
  },
  {
   "cell_type": "code",
   "execution_count": null,
   "metadata": {},
   "outputs": [],
   "source": [
    "# Arabic Encoding Extended\n",
    "# -*- coding: utf-8 -*-\n",
    "\n",
    "# Arabic Transliteration based on Buckwalter\n",
    "# dictionary source is buckwalter2unicode.py http://www.redhat.com/archives/fedora-extras-commits/2007-June/msg03617.html \n",
    "\n",
    "buck2uni = {\"'\": u\"\\u0621\", # hamza-on-the-line\n",
    "            \"|\": u\"\\u0622\", # madda\n",
    "            \">\": u\"\\u0623\", # hamza-on-'alif\n",
    "            \"&\": u\"\\u0624\", # hamza-on-waaw\n",
    "            \"<\": u\"\\u0625\", # hamza-under-'alif\n",
    "            \"}\": u\"\\u0626\", # hamza-on-yaa'\n",
    "            \"A\": u\"\\u0627\", # bare 'alif\n",
    "            \"b\": u\"\\u0628\", # baa'\n",
    "            \"p\": u\"\\u0629\", # taa' marbuuTa\n",
    "            \"t\": u\"\\u062A\", # taa'\n",
    "            \"v\": u\"\\u062B\", # thaa'\n",
    "            \"j\": u\"\\u062C\", # jiim\n",
    "            \"H\": u\"\\u062D\", # Haa'\n",
    "            \"x\": u\"\\u062E\", # khaa'\n",
    "            \"d\": u\"\\u062F\", # daal\n",
    "            \"*\": u\"\\u0630\", # dhaal\n",
    "            \"r\": u\"\\u0631\", # raa'\n",
    "            \"z\": u\"\\u0632\", # zaay\n",
    "            \"s\": u\"\\u0633\", # siin\n",
    "            \"$\": u\"\\u0634\", # shiin\n",
    "            \"S\": u\"\\u0635\", # Saad\n",
    "            \"D\": u\"\\u0636\", # Daad\n",
    "            \"T\": u\"\\u0637\", # Taa'\n",
    "            \"Z\": u\"\\u0638\", # Zaa' (DHaa')\n",
    "            \"E\": u\"\\u0639\", # cayn\n",
    "            \"g\": u\"\\u063A\", # ghayn\n",
    "            \"_\": u\"\\u0640\", # taTwiil\n",
    "            \"f\": u\"\\u0641\", # faa'\n",
    "            \"q\": u\"\\u0642\", # qaaf\n",
    "            \"k\": u\"\\u0643\", # kaaf\n",
    "            \"l\": u\"\\u0644\", # laam\n",
    "            \"m\": u\"\\u0645\", # miim\n",
    "            \"n\": u\"\\u0646\", # nuun\n",
    "            \"h\": u\"\\u0647\", # haa'\n",
    "            \"w\": u\"\\u0648\", # waaw\n",
    "            \"Y\": u\"\\u0649\", # 'alif maqSuura\n",
    "            \"y\": u\"\\u064A\", # yaa'\n",
    "            \"F\": u\"\\u064B\", # fatHatayn\n",
    "            \"N\": u\"\\u064C\", # Dammatayn\n",
    "            \"K\": u\"\\u064D\", # kasratayn\n",
    "            \"a\": u\"\\u064E\", # fatHa\n",
    "            \"u\": u\"\\u064F\", # Damma\n",
    "            \"i\": u\"\\u0650\", # kasra\n",
    "            \"~\": u\"\\u0651\", # shaddah\n",
    "            \"o\": u\"\\u0652\", # sukuun\n",
    "            \"^\": u\"\\u0653\", # maddah\n",
    "            \"#\": u\"\\u0654\", # hamzaabove            \n",
    "            \"`\": u\"\\u0670\", # dagger 'alif\n",
    "            \"{\": u\"\\u0671\", # waSla\n",
    "            \"P\": u\"\\u067E\", # arabicletterpeh\n",
    "            \"J\": u\"\\u0686\", \n",
    "            \"V\": u\"\\u06A4\", # arabicletterveh\n",
    "            \"G\": u\"\\u06AF\", # arabiclettergaf\n",
    "            \":\": u\"\\u06DC\", # smallhighseen\n",
    "            \"@\": u\"\\u06DF\", # smallhighroundedzero\n",
    "            \"\\\"\": u\"\\u06E0\", # smallhighuprightrectangularzero\n",
    "            \"[\": u\"\\u06E2\", # smallhighmeemisolatedform\n",
    "            \";\": u\"\\u06E3\", # smalllowseen\n",
    "            \",\": u\"\\u06E5\", # smallwaw\n",
    "            \".\": u\"\\u06E6\", # smallya\n",
    "            \"!\": u\"\\u06E8\", # smallhighnoon\n",
    "            \"-\": u\"\\u06EA\", # emptycentrelowstop\n",
    "            \"+\": u\"\\u06EB\", # emptycentrehighstop\n",
    "            \"%\": u\"\\u06EC\", # roundedhighstopwithfilledcentre\n",
    "            \"]\": u\"\\u06ED\", # smalllowmeem           \n",
    "}\n",
    "\n",
    "def transString(string, reverse=0):\n",
    "    '''Given a Unicode string, transliterate into Buckwalter. To go from\n",
    "    Buckwalter back to Unicode, set reverse=1'''\n",
    "\n",
    "    for k, v in buck2uni.items():\n",
    "      if not reverse:\n",
    "            string = string.replace(v, k)\n",
    "      else:\n",
    "            string = string.replace(k, v)\n",
    "\n",
    "    return string"
   ]
  },
  {
   "cell_type": "code",
   "execution_count": null,
   "metadata": {},
   "outputs": [],
   "source": [
    "with open(\"/media/kurubal/SSD/Data Scientist/Work/Modern Ways/Project/Arabic/Quaran/Data/Quranic Corpus Morphology.txt\", \"r\", encoding=\"utf8\") as file:\n",
    "    text_line = file.readlines()"
   ]
  },
  {
   "cell_type": "code",
   "execution_count": null,
   "metadata": {},
   "outputs": [],
   "source": [
    "text_line"
   ]
  },
  {
   "cell_type": "code",
   "execution_count": null,
   "metadata": {},
   "outputs": [],
   "source": [
    "df_morp_all = pd.DataFrame(text_line)\n",
    "df_morp_all"
   ]
  },
  {
   "cell_type": "code",
   "execution_count": null,
   "metadata": {},
   "outputs": [],
   "source": [
    "df_morp_all = df_morp_all[0].str.split(\"\\t\", n=-1, expand=True)\n",
    "df_morp_all"
   ]
  },
  {
   "cell_type": "code",
   "execution_count": null,
   "metadata": {},
   "outputs": [],
   "source": [
    "df_morp_all[3] = df_morp_all[3].apply(lambda x: x.strip(\"\\n\"))\n",
    "df_morp_all"
   ]
  },
  {
   "cell_type": "code",
   "execution_count": null,
   "metadata": {},
   "outputs": [],
   "source": [
    "df_morp_all.columns = df_morp_all.iloc[0]\n",
    "df_morp_all.drop(df_morp_all.index[0], inplace=True)\n",
    "df_morp_all.iloc[:,0] = df_morp_all.iloc[:,0].apply(lambda x: x.strip(\"()\"))\n",
    "df_morp_all"
   ]
  },
  {
   "cell_type": "code",
   "execution_count": null,
   "metadata": {},
   "outputs": [],
   "source": [
    "df_morp_root = df_morp_all[df_morp_all.FEATURES.str.contains(\"ROOT\")]\n",
    "df_morp_root"
   ]
  },
  {
   "cell_type": "code",
   "execution_count": null,
   "metadata": {},
   "outputs": [],
   "source": [
    "df_morp_root.iloc[:,3] = df_morp_root.iloc[:,3].apply(lambda x: x+\"|\")\n",
    "df_morp_root"
   ]
  },
  {
   "cell_type": "code",
   "execution_count": null,
   "metadata": {},
   "outputs": [],
   "source": [
    "df_morp_root[\"ROOT\"] = df_morp_root.FEATURES.apply(lambda x: re.findall(r\"\\|ROOT:(.*?)\\|\", x))\n",
    "df_morp_root"
   ]
  },
  {
   "cell_type": "code",
   "execution_count": null,
   "metadata": {},
   "outputs": [],
   "source": [
    "df_morp_root.loc[:,\"ROOT\"] = df_morp_root.loc[:,\"ROOT\"].apply(lambda x: \"\".join(x))\n",
    "df_morp_root"
   ]
  },
  {
   "cell_type": "code",
   "execution_count": null,
   "metadata": {},
   "outputs": [],
   "source": [
    "df_morp_root.columns = map(str.lower,df_morp_root.columns) # OR df_morp_root.columns = [x.lower() for x in df_morp_root.columns]"
   ]
  },
  {
   "cell_type": "code",
   "execution_count": null,
   "metadata": {},
   "outputs": [],
   "source": [
    "df_morp_root[\"root_arabic\"] = df_morp_root.iloc[:,4].apply(lambda x: transString(x, 1))\n",
    "df_morp_root"
   ]
  },
  {
   "cell_type": "code",
   "execution_count": null,
   "metadata": {},
   "outputs": [],
   "source": [
    "df_morp_root_nav = df_morp_root.iloc[:,0].str.split(\":\", n=-1, expand=True)\n",
    "df_morp_root_nav.rename(columns={0:\"num_1\",1:\"num_2\",2:\"num_3\",3:\"num_4\"}, inplace=True)\n",
    "df_morp_root_nav"
   ]
  },
  {
   "cell_type": "code",
   "execution_count": null,
   "metadata": {},
   "outputs": [],
   "source": [
    "df_morp_root_nav[[\"form\",\"tag\",\"root\",\"root_arabic\"]] = df_morp_root.iloc[:,[1,2,4,5]]\n",
    "df_morp_root_nav"
   ]
  },
  {
   "cell_type": "code",
   "execution_count": null,
   "metadata": {},
   "outputs": [],
   "source": [
    "#df_morp_root_nav.to_excel(\"Arabic_Root_Morphology.xlsx\", sheet_name=\"Arabic_Root\", index=False) "
   ]
  },
  {
   "cell_type": "code",
   "execution_count": null,
   "metadata": {},
   "outputs": [],
   "source": [
    "df_morp_root_nav[\"nav\"] = df_morp_root_nav[\"num_1\"].astype(\"str\")+\":\"+df_morp_root_nav[\"num_2\"].astype(\"str\")+\":\"+df_morp_root_nav[\"num_3\"].astype(\"str\")\n",
    "df_morp_root_nav"
   ]
  },
  {
   "cell_type": "code",
   "execution_count": null,
   "metadata": {},
   "outputs": [],
   "source": [
    "df_morp_root_nav = df_morp_root_nav.iloc[:,[4,5,6,7,8]]\n",
    "df_morp_root_nav"
   ]
  },
  {
   "cell_type": "code",
   "execution_count": null,
   "metadata": {},
   "outputs": [],
   "source": [
    "#df_morp_root_nav.to_excel(\"Arabic_Root_Navigation_Morphology.xlsx\", sheet_name=\"Arabic_Root\", index=False)"
   ]
  },
  {
   "cell_type": "code",
   "execution_count": null,
   "metadata": {},
   "outputs": [],
   "source": [
    "df_morp_root_count = pd.DataFrame(df_morp_root_nav.root.value_counts(ascending=False))\n",
    "df_morp_root_count.reset_index(inplace=True)\n",
    "df_morp_root_count.rename(columns={\"index\":\"root\",\"root\":\"frequency\"}, inplace=True)\n",
    "df_morp_root_count"
   ]
  },
  {
   "cell_type": "code",
   "execution_count": null,
   "metadata": {},
   "outputs": [],
   "source": [
    "df_morp_root_count[\"root_arabic\"] = df_morp_root_count[\"root\"].apply(lambda x: transString(x, 1))\n",
    "df_morp_root_count = df_morp_root_count.iloc[:,[0,2,1]]\n",
    "df_morp_root_count"
   ]
  },
  {
   "cell_type": "code",
   "execution_count": null,
   "metadata": {},
   "outputs": [],
   "source": [
    "#df_morp_root_count.to_excel(\"Arabic_Root_Frequency_Morphology.xlsx\", sheet_name=\"Arabic_Root_Frequency\", index=False)"
   ]
  },
  {
   "cell_type": "code",
   "execution_count": null,
   "metadata": {},
   "outputs": [],
   "source": [
    "df_morp_root_nav_freq = pd.merge(df_morp_root_nav,df_morp_root_count,how=\"inner\",on=\"root\")\n",
    "df_morp_root_nav_freq"
   ]
  },
  {
   "cell_type": "code",
   "execution_count": null,
   "metadata": {},
   "outputs": [],
   "source": [
    "df_morp_root_freq_nav_all = df_morp_root_nav_freq.groupby([\"root\",\"root_arabic_x\",\"frequency\"])[\"nav\"].apply(\", \".join).reset_index().sort_values(by=\"frequency\", ascending=False)\n",
    "df_morp_root_freq_nav_all.rename(columns={\"root_arabic_x\":\"root_arabic\"}, inplace=True)\n",
    "df_morp_root_freq_nav_all.reset_index(drop=True, inplace=True)\n",
    "df_morp_root_freq_nav_all"
   ]
  },
  {
   "cell_type": "code",
   "execution_count": null,
   "metadata": {},
   "outputs": [],
   "source": [
    "#df_morp_root_freq_nav_all.to_excel(\"Arabic_Root_Frequency_And_Nav_Morphology.xlsx\", sheet_name=\"Arabic_Root_Frequency_Nav\", index=False)"
   ]
  },
  {
   "cell_type": "code",
   "execution_count": null,
   "metadata": {},
   "outputs": [],
   "source": []
  },
  {
   "cell_type": "code",
   "execution_count": null,
   "metadata": {},
   "outputs": [],
   "source": []
  }
 ],
 "metadata": {
  "language_info": {
   "name": "python"
  },
  "orig_nbformat": 4
 },
 "nbformat": 4,
 "nbformat_minor": 2
}
