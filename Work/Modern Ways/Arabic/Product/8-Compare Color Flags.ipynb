{
 "cells": [
  {
   "cell_type": "markdown",
   "metadata": {},
   "source": [
    "### Compare Color Flags"
   ]
  },
  {
   "cell_type": "code",
   "execution_count": 2,
   "metadata": {},
   "outputs": [],
   "source": [
    "import pandas as pd\n",
    "import numpy as np\n",
    "import re"
   ]
  },
  {
   "cell_type": "code",
   "execution_count": 3,
   "metadata": {},
   "outputs": [
    {
     "data": {
      "text/html": [
       "<div>\n",
       "<style scoped>\n",
       "    .dataframe tbody tr th:only-of-type {\n",
       "        vertical-align: middle;\n",
       "    }\n",
       "\n",
       "    .dataframe tbody tr th {\n",
       "        vertical-align: top;\n",
       "    }\n",
       "\n",
       "    .dataframe thead th {\n",
       "        text-align: right;\n",
       "    }\n",
       "</style>\n",
       "<table border=\"1\" class=\"dataframe\">\n",
       "  <thead>\n",
       "    <tr style=\"text-align: right;\">\n",
       "      <th></th>\n",
       "      <th>num_1</th>\n",
       "      <th>num_2</th>\n",
       "      <th>num_3</th>\n",
       "      <th>arabic_word_tanzil_clean</th>\n",
       "      <th>buckwalter_word_tanzil_clean</th>\n",
       "      <th>arabic_word_tanzil_plain</th>\n",
       "      <th>buckwalter_word_tanzil_plain</th>\n",
       "      <th>root</th>\n",
       "      <th>root_arabic</th>\n",
       "      <th>index</th>\n",
       "      <th>first_100_word</th>\n",
       "      <th>100_200_word</th>\n",
       "      <th>first_200_word</th>\n",
       "      <th>first_100_twogram</th>\n",
       "      <th>100_200_twogram</th>\n",
       "      <th>first_200_twogram</th>\n",
       "      <th>first_100_threegram</th>\n",
       "      <th>100_200_threegram</th>\n",
       "      <th>first_200_threegram</th>\n",
       "      <th>root_flag</th>\n",
       "    </tr>\n",
       "  </thead>\n",
       "  <tbody>\n",
       "    <tr>\n",
       "      <th>0</th>\n",
       "      <td>1</td>\n",
       "      <td>1</td>\n",
       "      <td>1</td>\n",
       "      <td>بسم</td>\n",
       "      <td>bsm</td>\n",
       "      <td>بِسْمِ</td>\n",
       "      <td>bisomi</td>\n",
       "      <td>smw</td>\n",
       "      <td>سمو</td>\n",
       "      <td>0</td>\n",
       "      <td>1</td>\n",
       "      <td>0</td>\n",
       "      <td>1</td>\n",
       "      <td>2</td>\n",
       "      <td>0</td>\n",
       "      <td>2</td>\n",
       "      <td>3</td>\n",
       "      <td>0</td>\n",
       "      <td>3</td>\n",
       "      <td>4</td>\n",
       "    </tr>\n",
       "    <tr>\n",
       "      <th>1</th>\n",
       "      <td>1</td>\n",
       "      <td>1</td>\n",
       "      <td>2</td>\n",
       "      <td>الله</td>\n",
       "      <td>Allh</td>\n",
       "      <td>اللَّهِ</td>\n",
       "      <td>All~ahi</td>\n",
       "      <td>Alh</td>\n",
       "      <td>اله</td>\n",
       "      <td>1</td>\n",
       "      <td>1</td>\n",
       "      <td>0</td>\n",
       "      <td>1</td>\n",
       "      <td>2</td>\n",
       "      <td>0</td>\n",
       "      <td>2</td>\n",
       "      <td>3</td>\n",
       "      <td>0</td>\n",
       "      <td>3</td>\n",
       "      <td>4</td>\n",
       "    </tr>\n",
       "    <tr>\n",
       "      <th>2</th>\n",
       "      <td>1</td>\n",
       "      <td>1</td>\n",
       "      <td>3</td>\n",
       "      <td>الرحمن</td>\n",
       "      <td>AlrHmn</td>\n",
       "      <td>الرَّحْمَٰنِ</td>\n",
       "      <td>Alr~aHoma`ni</td>\n",
       "      <td>rHm</td>\n",
       "      <td>رحم</td>\n",
       "      <td>2</td>\n",
       "      <td>1</td>\n",
       "      <td>0</td>\n",
       "      <td>1</td>\n",
       "      <td>2</td>\n",
       "      <td>0</td>\n",
       "      <td>2</td>\n",
       "      <td>3</td>\n",
       "      <td>0</td>\n",
       "      <td>3</td>\n",
       "      <td>4</td>\n",
       "    </tr>\n",
       "    <tr>\n",
       "      <th>3</th>\n",
       "      <td>1</td>\n",
       "      <td>1</td>\n",
       "      <td>4</td>\n",
       "      <td>الرحيم</td>\n",
       "      <td>AlrHym</td>\n",
       "      <td>الرَّحِيمِ</td>\n",
       "      <td>Alr~aHiymi</td>\n",
       "      <td>rHm</td>\n",
       "      <td>رحم</td>\n",
       "      <td>3</td>\n",
       "      <td>1</td>\n",
       "      <td>0</td>\n",
       "      <td>1</td>\n",
       "      <td>2</td>\n",
       "      <td>0</td>\n",
       "      <td>2</td>\n",
       "      <td>3</td>\n",
       "      <td>0</td>\n",
       "      <td>3</td>\n",
       "      <td>4</td>\n",
       "    </tr>\n",
       "    <tr>\n",
       "      <th>4</th>\n",
       "      <td>1</td>\n",
       "      <td>2</td>\n",
       "      <td>1</td>\n",
       "      <td>الحمد</td>\n",
       "      <td>AlHmd</td>\n",
       "      <td>الْحَمْدُ</td>\n",
       "      <td>AloHamodu</td>\n",
       "      <td>Hmd</td>\n",
       "      <td>حمد</td>\n",
       "      <td>4</td>\n",
       "      <td>0</td>\n",
       "      <td>0</td>\n",
       "      <td>0</td>\n",
       "      <td>0</td>\n",
       "      <td>2</td>\n",
       "      <td>2</td>\n",
       "      <td>0</td>\n",
       "      <td>0</td>\n",
       "      <td>0</td>\n",
       "      <td>4</td>\n",
       "    </tr>\n",
       "    <tr>\n",
       "      <th>...</th>\n",
       "      <td>...</td>\n",
       "      <td>...</td>\n",
       "      <td>...</td>\n",
       "      <td>...</td>\n",
       "      <td>...</td>\n",
       "      <td>...</td>\n",
       "      <td>...</td>\n",
       "      <td>...</td>\n",
       "      <td>...</td>\n",
       "      <td>...</td>\n",
       "      <td>...</td>\n",
       "      <td>...</td>\n",
       "      <td>...</td>\n",
       "      <td>...</td>\n",
       "      <td>...</td>\n",
       "      <td>...</td>\n",
       "      <td>...</td>\n",
       "      <td>...</td>\n",
       "      <td>...</td>\n",
       "      <td>...</td>\n",
       "    </tr>\n",
       "    <tr>\n",
       "      <th>78244</th>\n",
       "      <td>114</td>\n",
       "      <td>5</td>\n",
       "      <td>4</td>\n",
       "      <td>صدور</td>\n",
       "      <td>Sdwr</td>\n",
       "      <td>صُدُورِ</td>\n",
       "      <td>Suduwri</td>\n",
       "      <td>Sdr</td>\n",
       "      <td>صدر</td>\n",
       "      <td>78244</td>\n",
       "      <td>0</td>\n",
       "      <td>0</td>\n",
       "      <td>0</td>\n",
       "      <td>0</td>\n",
       "      <td>0</td>\n",
       "      <td>0</td>\n",
       "      <td>0</td>\n",
       "      <td>0</td>\n",
       "      <td>0</td>\n",
       "      <td>4</td>\n",
       "    </tr>\n",
       "    <tr>\n",
       "      <th>78245</th>\n",
       "      <td>114</td>\n",
       "      <td>5</td>\n",
       "      <td>5</td>\n",
       "      <td>الناس</td>\n",
       "      <td>AlnAs</td>\n",
       "      <td>النَّاسِ</td>\n",
       "      <td>Aln~aAsi</td>\n",
       "      <td>nws</td>\n",
       "      <td>نوس</td>\n",
       "      <td>78245</td>\n",
       "      <td>1</td>\n",
       "      <td>0</td>\n",
       "      <td>1</td>\n",
       "      <td>0</td>\n",
       "      <td>0</td>\n",
       "      <td>0</td>\n",
       "      <td>0</td>\n",
       "      <td>0</td>\n",
       "      <td>0</td>\n",
       "      <td>4</td>\n",
       "    </tr>\n",
       "    <tr>\n",
       "      <th>78246</th>\n",
       "      <td>114</td>\n",
       "      <td>6</td>\n",
       "      <td>1</td>\n",
       "      <td>من</td>\n",
       "      <td>mn</td>\n",
       "      <td>مِنَ</td>\n",
       "      <td>mina</td>\n",
       "      <td>NaN</td>\n",
       "      <td>NaN</td>\n",
       "      <td>78246</td>\n",
       "      <td>1</td>\n",
       "      <td>0</td>\n",
       "      <td>1</td>\n",
       "      <td>0</td>\n",
       "      <td>0</td>\n",
       "      <td>0</td>\n",
       "      <td>0</td>\n",
       "      <td>0</td>\n",
       "      <td>0</td>\n",
       "      <td>0</td>\n",
       "    </tr>\n",
       "    <tr>\n",
       "      <th>78247</th>\n",
       "      <td>114</td>\n",
       "      <td>6</td>\n",
       "      <td>2</td>\n",
       "      <td>الجنة</td>\n",
       "      <td>Aljnp</td>\n",
       "      <td>الْجِنَّةِ</td>\n",
       "      <td>Alojin~api</td>\n",
       "      <td>jnn</td>\n",
       "      <td>جنن</td>\n",
       "      <td>78247</td>\n",
       "      <td>0</td>\n",
       "      <td>1</td>\n",
       "      <td>1</td>\n",
       "      <td>0</td>\n",
       "      <td>0</td>\n",
       "      <td>0</td>\n",
       "      <td>0</td>\n",
       "      <td>0</td>\n",
       "      <td>0</td>\n",
       "      <td>4</td>\n",
       "    </tr>\n",
       "    <tr>\n",
       "      <th>78248</th>\n",
       "      <td>114</td>\n",
       "      <td>6</td>\n",
       "      <td>3</td>\n",
       "      <td>والناس</td>\n",
       "      <td>wAlnAs</td>\n",
       "      <td>وَالنَّاسِ</td>\n",
       "      <td>waAln~aAsi</td>\n",
       "      <td>nws</td>\n",
       "      <td>نوس</td>\n",
       "      <td>78248</td>\n",
       "      <td>0</td>\n",
       "      <td>0</td>\n",
       "      <td>0</td>\n",
       "      <td>0</td>\n",
       "      <td>0</td>\n",
       "      <td>0</td>\n",
       "      <td>0</td>\n",
       "      <td>0</td>\n",
       "      <td>0</td>\n",
       "      <td>4</td>\n",
       "    </tr>\n",
       "  </tbody>\n",
       "</table>\n",
       "<p>78249 rows × 20 columns</p>\n",
       "</div>"
      ],
      "text/plain": [
       "       num_1  num_2  num_3 arabic_word_tanzil_clean  \\\n",
       "0          1      1      1                      بسم   \n",
       "1          1      1      2                     الله   \n",
       "2          1      1      3                   الرحمن   \n",
       "3          1      1      4                   الرحيم   \n",
       "4          1      2      1                    الحمد   \n",
       "...      ...    ...    ...                      ...   \n",
       "78244    114      5      4                     صدور   \n",
       "78245    114      5      5                    الناس   \n",
       "78246    114      6      1                       من   \n",
       "78247    114      6      2                    الجنة   \n",
       "78248    114      6      3                   والناس   \n",
       "\n",
       "      buckwalter_word_tanzil_clean arabic_word_tanzil_plain  \\\n",
       "0                              bsm                   بِسْمِ   \n",
       "1                             Allh                  اللَّهِ   \n",
       "2                           AlrHmn             الرَّحْمَٰنِ   \n",
       "3                           AlrHym               الرَّحِيمِ   \n",
       "4                            AlHmd                الْحَمْدُ   \n",
       "...                            ...                      ...   \n",
       "78244                         Sdwr                  صُدُورِ   \n",
       "78245                        AlnAs                 النَّاسِ   \n",
       "78246                           mn                     مِنَ   \n",
       "78247                        Aljnp               الْجِنَّةِ   \n",
       "78248                       wAlnAs               وَالنَّاسِ   \n",
       "\n",
       "      buckwalter_word_tanzil_plain root root_arabic  index  first_100_word  \\\n",
       "0                           bisomi  smw         سمو      0               1   \n",
       "1                          All~ahi  Alh         اله      1               1   \n",
       "2                     Alr~aHoma`ni  rHm         رحم      2               1   \n",
       "3                       Alr~aHiymi  rHm         رحم      3               1   \n",
       "4                        AloHamodu  Hmd         حمد      4               0   \n",
       "...                            ...  ...         ...    ...             ...   \n",
       "78244                      Suduwri  Sdr         صدر  78244               0   \n",
       "78245                     Aln~aAsi  nws         نوس  78245               1   \n",
       "78246                         mina  NaN         NaN  78246               1   \n",
       "78247                   Alojin~api  jnn         جنن  78247               0   \n",
       "78248                   waAln~aAsi  nws         نوس  78248               0   \n",
       "\n",
       "       100_200_word  first_200_word  first_100_twogram  100_200_twogram  \\\n",
       "0                 0               1                  2                0   \n",
       "1                 0               1                  2                0   \n",
       "2                 0               1                  2                0   \n",
       "3                 0               1                  2                0   \n",
       "4                 0               0                  0                2   \n",
       "...             ...             ...                ...              ...   \n",
       "78244             0               0                  0                0   \n",
       "78245             0               1                  0                0   \n",
       "78246             0               1                  0                0   \n",
       "78247             1               1                  0                0   \n",
       "78248             0               0                  0                0   \n",
       "\n",
       "       first_200_twogram  first_100_threegram  100_200_threegram  \\\n",
       "0                      2                    3                  0   \n",
       "1                      2                    3                  0   \n",
       "2                      2                    3                  0   \n",
       "3                      2                    3                  0   \n",
       "4                      2                    0                  0   \n",
       "...                  ...                  ...                ...   \n",
       "78244                  0                    0                  0   \n",
       "78245                  0                    0                  0   \n",
       "78246                  0                    0                  0   \n",
       "78247                  0                    0                  0   \n",
       "78248                  0                    0                  0   \n",
       "\n",
       "       first_200_threegram  root_flag  \n",
       "0                        3          4  \n",
       "1                        3          4  \n",
       "2                        3          4  \n",
       "3                        3          4  \n",
       "4                        0          4  \n",
       "...                    ...        ...  \n",
       "78244                    0          4  \n",
       "78245                    0          4  \n",
       "78246                    0          0  \n",
       "78247                    0          4  \n",
       "78248                    0          4  \n",
       "\n",
       "[78249 rows x 20 columns]"
      ]
     },
     "execution_count": 3,
     "metadata": {},
     "output_type": "execute_result"
    }
   ],
   "source": [
    "df_all_color_flag = pd.read_excel(\"/media/kurubal/SSD/Data Scientist/Work/Modern Ways/Project/Arabic/Quaran/Text/Result/7-Deployment/Arabic_Buckwalter_Word_Root_First_100_200_Word_NGram_Root_Color_Flag.xlsx\")\n",
    "df_all_color_flag"
   ]
  },
  {
   "cell_type": "code",
   "execution_count": 4,
   "metadata": {},
   "outputs": [],
   "source": [
    "df_first_100_word = df_all_color_flag[df_all_color_flag.first_100_word == 1]\n",
    "#df_first_100_word"
   ]
  },
  {
   "cell_type": "code",
   "execution_count": 5,
   "metadata": {},
   "outputs": [
    {
     "data": {
      "text/plain": [
       "29644"
      ]
     },
     "execution_count": 5,
     "metadata": {},
     "output_type": "execute_result"
    }
   ],
   "source": [
    "set_first_100_word = set(df_first_100_word.index)\n",
    "len(set_first_100_word)"
   ]
  },
  {
   "cell_type": "code",
   "execution_count": 6,
   "metadata": {},
   "outputs": [],
   "source": [
    "df_100_200_word = df_all_color_flag[df_all_color_flag[\"100_200_word\"] == 1]\n",
    "#df_100_200_word"
   ]
  },
  {
   "cell_type": "code",
   "execution_count": 7,
   "metadata": {},
   "outputs": [
    {
     "data": {
      "text/plain": [
       "6876"
      ]
     },
     "execution_count": 7,
     "metadata": {},
     "output_type": "execute_result"
    }
   ],
   "source": [
    "set_100_200_word = set(df_100_200_word.index)\n",
    "len(set_100_200_word)"
   ]
  },
  {
   "cell_type": "code",
   "execution_count": 8,
   "metadata": {},
   "outputs": [],
   "source": [
    "df_first_200_word = df_all_color_flag[df_all_color_flag[\"first_200_word\"] == 1]\n",
    "#df_first_200_word"
   ]
  },
  {
   "cell_type": "code",
   "execution_count": 9,
   "metadata": {},
   "outputs": [
    {
     "data": {
      "text/plain": [
       "36520"
      ]
     },
     "execution_count": 9,
     "metadata": {},
     "output_type": "execute_result"
    }
   ],
   "source": [
    "set_first_200_word = set(df_first_200_word.index)\n",
    "len(set_first_200_word)"
   ]
  },
  {
   "cell_type": "code",
   "execution_count": 10,
   "metadata": {},
   "outputs": [],
   "source": [
    "df_first_100_twogram = df_all_color_flag[df_all_color_flag[\"first_100_twogram\"] == 2]\n",
    "#df_first_100_twogram"
   ]
  },
  {
   "cell_type": "code",
   "execution_count": 11,
   "metadata": {},
   "outputs": [
    {
     "data": {
      "text/plain": [
       "9459"
      ]
     },
     "execution_count": 11,
     "metadata": {},
     "output_type": "execute_result"
    }
   ],
   "source": [
    "set_first_100_twogram = set(df_first_100_twogram.index)\n",
    "len(set_first_100_twogram)"
   ]
  },
  {
   "cell_type": "code",
   "execution_count": 12,
   "metadata": {},
   "outputs": [],
   "source": [
    "df_100_200_twogram = df_all_color_flag[df_all_color_flag[\"100_200_twogram\"] == 2]\n",
    "#df_100_200_twogram"
   ]
  },
  {
   "cell_type": "code",
   "execution_count": 13,
   "metadata": {},
   "outputs": [
    {
     "data": {
      "text/plain": [
       "4359"
      ]
     },
     "execution_count": 13,
     "metadata": {},
     "output_type": "execute_result"
    }
   ],
   "source": [
    "set_100_200_twogram = set(df_100_200_twogram.index)\n",
    "len(set_100_200_twogram)"
   ]
  },
  {
   "cell_type": "code",
   "execution_count": 14,
   "metadata": {},
   "outputs": [],
   "source": [
    "df_first_200_twogram = df_all_color_flag[df_all_color_flag[\"first_200_twogram\"] == 2]\n",
    "#df_first_200_twogram"
   ]
  },
  {
   "cell_type": "code",
   "execution_count": 15,
   "metadata": {},
   "outputs": [
    {
     "data": {
      "text/plain": [
       "13026"
      ]
     },
     "execution_count": 15,
     "metadata": {},
     "output_type": "execute_result"
    }
   ],
   "source": [
    "set_first_200_twogram = set(df_first_200_twogram.index)\n",
    "len(set_first_200_twogram)"
   ]
  },
  {
   "cell_type": "code",
   "execution_count": 16,
   "metadata": {},
   "outputs": [],
   "source": [
    "df_first_100_threegram = df_all_color_flag[df_all_color_flag[\"first_100_threegram\"] == 3]\n",
    "#df_first_100_threegram"
   ]
  },
  {
   "cell_type": "code",
   "execution_count": 17,
   "metadata": {},
   "outputs": [
    {
     "data": {
      "text/plain": [
       "5612"
      ]
     },
     "execution_count": 17,
     "metadata": {},
     "output_type": "execute_result"
    }
   ],
   "source": [
    "set_first_100_threegram = set(df_first_100_threegram.index)\n",
    "len(set_first_100_threegram)"
   ]
  },
  {
   "cell_type": "code",
   "execution_count": 18,
   "metadata": {},
   "outputs": [],
   "source": [
    "df_100_200_threegram = df_all_color_flag[df_all_color_flag[\"100_200_threegram\"] == 3]\n",
    "#df_100_200_threegram"
   ]
  },
  {
   "cell_type": "code",
   "execution_count": 19,
   "metadata": {},
   "outputs": [
    {
     "data": {
      "text/plain": [
       "2633"
      ]
     },
     "execution_count": 19,
     "metadata": {},
     "output_type": "execute_result"
    }
   ],
   "source": [
    "set_100_200_threegram = set(df_100_200_threegram.index)\n",
    "len(set_100_200_threegram)"
   ]
  },
  {
   "cell_type": "code",
   "execution_count": 20,
   "metadata": {},
   "outputs": [],
   "source": [
    "df_first_200_threegram = df_all_color_flag[df_all_color_flag[\"first_200_threegram\"] == 3]\n",
    "#df_first_200_threegram"
   ]
  },
  {
   "cell_type": "code",
   "execution_count": 21,
   "metadata": {},
   "outputs": [
    {
     "data": {
      "text/plain": [
       "7583"
      ]
     },
     "execution_count": 21,
     "metadata": {},
     "output_type": "execute_result"
    }
   ],
   "source": [
    "set_first_200_threegram = set(df_first_200_threegram.index)\n",
    "len(set_first_200_threegram)"
   ]
  },
  {
   "cell_type": "code",
   "execution_count": 22,
   "metadata": {},
   "outputs": [],
   "source": [
    "df_root = df_all_color_flag[df_all_color_flag[\"root_flag\"] == 4]\n",
    "#df_root"
   ]
  },
  {
   "cell_type": "code",
   "execution_count": 23,
   "metadata": {},
   "outputs": [
    {
     "data": {
      "text/plain": [
       "49968"
      ]
     },
     "execution_count": 23,
     "metadata": {},
     "output_type": "execute_result"
    }
   ],
   "source": [
    "set_root = set(df_root.index)\n",
    "len(set_root)"
   ]
  },
  {
   "cell_type": "code",
   "execution_count": null,
   "metadata": {},
   "outputs": [],
   "source": [
    "set_first_100_word"
   ]
  },
  {
   "cell_type": "code",
   "execution_count": null,
   "metadata": {},
   "outputs": [],
   "source": [
    "set_100_200_word"
   ]
  },
  {
   "cell_type": "code",
   "execution_count": null,
   "metadata": {},
   "outputs": [],
   "source": [
    "set_first_200_word"
   ]
  },
  {
   "cell_type": "code",
   "execution_count": null,
   "metadata": {},
   "outputs": [],
   "source": [
    "set_first_100_twogram"
   ]
  },
  {
   "cell_type": "code",
   "execution_count": null,
   "metadata": {},
   "outputs": [],
   "source": [
    "set_100_200_twogram"
   ]
  },
  {
   "cell_type": "code",
   "execution_count": null,
   "metadata": {},
   "outputs": [],
   "source": [
    "set_first_200_twogram"
   ]
  },
  {
   "cell_type": "code",
   "execution_count": null,
   "metadata": {},
   "outputs": [],
   "source": [
    "set_first_100_threegram"
   ]
  },
  {
   "cell_type": "code",
   "execution_count": null,
   "metadata": {},
   "outputs": [],
   "source": [
    "set_100_200_threegram"
   ]
  },
  {
   "cell_type": "code",
   "execution_count": null,
   "metadata": {},
   "outputs": [],
   "source": [
    "set_first_200_threegram"
   ]
  },
  {
   "cell_type": "code",
   "execution_count": null,
   "metadata": {},
   "outputs": [],
   "source": [
    "set_root"
   ]
  },
  {
   "cell_type": "code",
   "execution_count": null,
   "metadata": {},
   "outputs": [],
   "source": []
  }
 ],
 "metadata": {
  "interpreter": {
   "hash": "651d507d70892fab0fc6529d935cd476f6e2eb1791525b76da6cc8da34bc0503"
  },
  "kernelspec": {
   "display_name": "Python 3.9.5 ('py39')",
   "language": "python",
   "name": "python3"
  },
  "language_info": {
   "codemirror_mode": {
    "name": "ipython",
    "version": 3
   },
   "file_extension": ".py",
   "mimetype": "text/x-python",
   "name": "python",
   "nbconvert_exporter": "python",
   "pygments_lexer": "ipython3",
   "version": "3.9.5"
  },
  "orig_nbformat": 4
 },
 "nbformat": 4,
 "nbformat_minor": 2
}
