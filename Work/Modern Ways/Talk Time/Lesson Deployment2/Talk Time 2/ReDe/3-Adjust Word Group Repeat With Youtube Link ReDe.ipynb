{
 "cells": [
  {
   "cell_type": "markdown",
   "metadata": {},
   "source": [
    "### Adjust Word Group Repeat With Youtube Link"
   ]
  },
  {
   "cell_type": "code",
   "execution_count": 1,
   "metadata": {},
   "outputs": [],
   "source": [
    "import os\n",
    "import multiprocessing\n",
    "#import multiprocessing as mp\n",
    "from multiprocessing import Process, Manager, Pool, Queue\n",
    "from itertools import islice\n",
    "from collections import Counter\n",
    "import re\n",
    "import pandas as pd\n",
    "import numpy as np\n",
    "import glob\n",
    "import nltk\n",
    "from nltk import word_tokenize\n",
    "from nltk import ngrams\n",
    "from functools import reduce\n",
    "from pathlib import Path\n",
    "import shutil"
   ]
  },
  {
   "cell_type": "code",
   "execution_count": 2,
   "metadata": {},
   "outputs": [
    {
     "name": "stdout",
     "output_type": "stream",
     "text": [
      "Number of CPU cores: 16\n"
     ]
    }
   ],
   "source": [
    "nprocs = multiprocessing.cpu_count()\n",
    "print(f\"Number of CPU cores: {nprocs}\")"
   ]
  },
  {
   "cell_type": "code",
   "execution_count": 3,
   "metadata": {},
   "outputs": [],
   "source": [
    "# language pair\n",
    "lang_folder = \"Turkish\"  # Arabic, English, French, German, Turkish, Spanish, Portuguese, Dutch, Italian ==> target language for learner\n",
    "#lang_pair = \"Intersect\"  # Arabic, English, French, German, Turkish, Spanish, Portuguese, Dutch, Italian ==> native language\n",
    "\n",
    "# adding native word to shared word\n",
    "word_start = 0  # 0 native word start index\n",
    "word_end = 1000  # 28 native word end index\n",
    "\n",
    "# file extention\n",
    "file_ext = \"Fourgram\""
   ]
  },
  {
   "cell_type": "code",
   "execution_count": 4,
   "metadata": {},
   "outputs": [],
   "source": [
    "def df_col_value_join_comma(df, df_columns_list):\n",
    "    '''\n",
    "    df_col_value_join_comma(df_test, [\"video_id\",\"start_time\",\"end_time\"])\\n\n",
    "    function used for selected column value join with comma in one row\n",
    "    '''\n",
    "    column_value_list = []\n",
    "    for column in df_columns_list:\n",
    "        list_var = df[f\"{column}\"].to_list()\n",
    "        list_var_string = [str(x) for x in list_var] \n",
    "        list_var_join = \",\".join(list_var_string)\n",
    "        column_value_list.append(list_var_join)\n",
    "\n",
    "    df_result = pd.DataFrame([[column_value_list[0],column_value_list[1],column_value_list[2]]], columns=df_columns_list)\n",
    "\n",
    "    return df_result"
   ]
  },
  {
   "cell_type": "code",
   "execution_count": 5,
   "metadata": {},
   "outputs": [],
   "source": [
    "path = f\"/media/kurubal/SSD1/Data Scientist/Work/Modern Ways/Project/{lang_folder.capitalize()}/\\\n",
    "Talk Time/Talk Time 2/Result/3-Adjust Word Group Repeat With Youtube Link\"\n",
    "\n",
    "Path(path).mkdir(parents=True, exist_ok=True)"
   ]
  },
  {
   "cell_type": "code",
   "execution_count": 6,
   "metadata": {},
   "outputs": [],
   "source": [
    "path_folder_file = \"/media/kurubal/SSD1/Data Scientist/Work/Modern Ways/Project/Turkish/Talk Time/Talk Time 2/Result/2-Find Word Group Youtube Link/Turkish_Fourgram_With_1000_Word_Selected_Count_Manuel.xlsx\"\n",
    "sheet = \"Sheet1\"  # Sheet1"
   ]
  },
  {
   "cell_type": "code",
   "execution_count": 7,
   "metadata": {},
   "outputs": [
    {
     "data": {
      "text/html": [
       "<div>\n",
       "<style scoped>\n",
       "    .dataframe tbody tr th:only-of-type {\n",
       "        vertical-align: middle;\n",
       "    }\n",
       "\n",
       "    .dataframe tbody tr th {\n",
       "        vertical-align: top;\n",
       "    }\n",
       "\n",
       "    .dataframe thead th {\n",
       "        text-align: right;\n",
       "    }\n",
       "</style>\n",
       "<table border=\"1\" class=\"dataframe\">\n",
       "  <thead>\n",
       "    <tr style=\"text-align: right;\">\n",
       "      <th></th>\n",
       "      <th>search_string</th>\n",
       "      <th>start_time</th>\n",
       "      <th>end_time</th>\n",
       "      <th>sentence</th>\n",
       "      <th>video_id</th>\n",
       "      <th>video_url</th>\n",
       "      <th>count</th>\n",
       "    </tr>\n",
       "  </thead>\n",
       "  <tbody>\n",
       "    <tr>\n",
       "      <th>0</th>\n",
       "      <td>en son ne zaman</td>\n",
       "      <td>618</td>\n",
       "      <td>621</td>\n",
       "      <td>en son ne zaman gerçekten rahatsız oldun öneml...</td>\n",
       "      <td>eec5mG_90bk</td>\n",
       "      <td>https://www.youtube.com/watch?v=eec5mG_90bk&amp;t=...</td>\n",
       "      <td>7</td>\n",
       "    </tr>\n",
       "    <tr>\n",
       "      <th>1</th>\n",
       "      <td>en son ne zaman</td>\n",
       "      <td>218</td>\n",
       "      <td>220</td>\n",
       "      <td>en son ne zaman bir bağış kumbarasına para att...</td>\n",
       "      <td>MyyM0EDVlCg</td>\n",
       "      <td>https://www.youtube.com/watch?v=MyyM0EDVlCg&amp;t=...</td>\n",
       "      <td>7</td>\n",
       "    </tr>\n",
       "    <tr>\n",
       "      <th>2</th>\n",
       "      <td>en son ne zaman</td>\n",
       "      <td>8315</td>\n",
       "      <td>8318</td>\n",
       "      <td>sen en son ne zaman i stanbula geldin nenem</td>\n",
       "      <td>Bbaal2Neohk</td>\n",
       "      <td>https://www.youtube.com/watch?v=Bbaal2Neohk&amp;t=...</td>\n",
       "      <td>7</td>\n",
       "    </tr>\n",
       "    <tr>\n",
       "      <th>3</th>\n",
       "      <td>en son ne zaman</td>\n",
       "      <td>625</td>\n",
       "      <td>628</td>\n",
       "      <td>şimdi şunu soruyorum en son ne zaman det gördünüz</td>\n",
       "      <td>85RxQHZkluE</td>\n",
       "      <td>https://www.youtube.com/watch?v=85RxQHZkluE&amp;t=...</td>\n",
       "      <td>7</td>\n",
       "    </tr>\n",
       "    <tr>\n",
       "      <th>4</th>\n",
       "      <td>en son ne zaman</td>\n",
       "      <td>38</td>\n",
       "      <td>41</td>\n",
       "      <td>size desem ki en son ne zaman haksızlığa uğrad...</td>\n",
       "      <td>BhGXfFsxgsQ</td>\n",
       "      <td>https://www.youtube.com/watch?v=BhGXfFsxgsQ&amp;t=38s</td>\n",
       "      <td>7</td>\n",
       "    </tr>\n",
       "    <tr>\n",
       "      <th>...</th>\n",
       "      <td>...</td>\n",
       "      <td>...</td>\n",
       "      <td>...</td>\n",
       "      <td>...</td>\n",
       "      <td>...</td>\n",
       "      <td>...</td>\n",
       "      <td>...</td>\n",
       "    </tr>\n",
       "    <tr>\n",
       "      <th>69</th>\n",
       "      <td>bu da ne böyle</td>\n",
       "      <td>3192</td>\n",
       "      <td>3195</td>\n",
       "      <td>bu da ne böyle</td>\n",
       "      <td>sMEBFgBFmy8</td>\n",
       "      <td>https://www.youtube.com/watch?v=sMEBFgBFmy8&amp;t=...</td>\n",
       "      <td>4</td>\n",
       "    </tr>\n",
       "    <tr>\n",
       "      <th>70</th>\n",
       "      <td>bir sorun mu var</td>\n",
       "      <td>2646</td>\n",
       "      <td>2648</td>\n",
       "      <td>i yi akşamlar hayırdır bu saatte böyle gelmişs...</td>\n",
       "      <td>i_fb_jHCUE8</td>\n",
       "      <td>https://www.youtube.com/watch?v=i_fb_jHCUE8&amp;t=...</td>\n",
       "      <td>4</td>\n",
       "    </tr>\n",
       "    <tr>\n",
       "      <th>71</th>\n",
       "      <td>bir sorun mu var</td>\n",
       "      <td>7198</td>\n",
       "      <td>7200</td>\n",
       "      <td>bir sorun mu var hanımefendi yanlış nik h</td>\n",
       "      <td>HhLIORa1NKg</td>\n",
       "      <td>https://www.youtube.com/watch?v=HhLIORa1NKg&amp;t=...</td>\n",
       "      <td>4</td>\n",
       "    </tr>\n",
       "    <tr>\n",
       "      <th>72</th>\n",
       "      <td>bir sorun mu var</td>\n",
       "      <td>772</td>\n",
       "      <td>774</td>\n",
       "      <td>bir sorun mu var mert</td>\n",
       "      <td>qe8TjfIqZ8Y</td>\n",
       "      <td>https://www.youtube.com/watch?v=qe8TjfIqZ8Y&amp;t=...</td>\n",
       "      <td>4</td>\n",
       "    </tr>\n",
       "    <tr>\n",
       "      <th>73</th>\n",
       "      <td>bir sorun mu var</td>\n",
       "      <td>5062</td>\n",
       "      <td>5064</td>\n",
       "      <td>i yi misin bir sorun mu var</td>\n",
       "      <td>g6yvs1f4S1s</td>\n",
       "      <td>https://www.youtube.com/watch?v=g6yvs1f4S1s&amp;t=...</td>\n",
       "      <td>4</td>\n",
       "    </tr>\n",
       "  </tbody>\n",
       "</table>\n",
       "<p>74 rows × 7 columns</p>\n",
       "</div>"
      ],
      "text/plain": [
       "       search_string  start_time  end_time  \\\n",
       "0    en son ne zaman         618       621   \n",
       "1    en son ne zaman         218       220   \n",
       "2    en son ne zaman        8315      8318   \n",
       "3    en son ne zaman         625       628   \n",
       "4    en son ne zaman          38        41   \n",
       "..               ...         ...       ...   \n",
       "69    bu da ne böyle        3192      3195   \n",
       "70  bir sorun mu var        2646      2648   \n",
       "71  bir sorun mu var        7198      7200   \n",
       "72  bir sorun mu var         772       774   \n",
       "73  bir sorun mu var        5062      5064   \n",
       "\n",
       "                                             sentence     video_id  \\\n",
       "0   en son ne zaman gerçekten rahatsız oldun öneml...  eec5mG_90bk   \n",
       "1   en son ne zaman bir bağış kumbarasına para att...  MyyM0EDVlCg   \n",
       "2         sen en son ne zaman i stanbula geldin nenem  Bbaal2Neohk   \n",
       "3   şimdi şunu soruyorum en son ne zaman det gördünüz  85RxQHZkluE   \n",
       "4   size desem ki en son ne zaman haksızlığa uğrad...  BhGXfFsxgsQ   \n",
       "..                                                ...          ...   \n",
       "69                                     bu da ne böyle  sMEBFgBFmy8   \n",
       "70  i yi akşamlar hayırdır bu saatte böyle gelmişs...  i_fb_jHCUE8   \n",
       "71          bir sorun mu var hanımefendi yanlış nik h  HhLIORa1NKg   \n",
       "72                              bir sorun mu var mert  qe8TjfIqZ8Y   \n",
       "73                        i yi misin bir sorun mu var  g6yvs1f4S1s   \n",
       "\n",
       "                                            video_url  count  \n",
       "0   https://www.youtube.com/watch?v=eec5mG_90bk&t=...      7  \n",
       "1   https://www.youtube.com/watch?v=MyyM0EDVlCg&t=...      7  \n",
       "2   https://www.youtube.com/watch?v=Bbaal2Neohk&t=...      7  \n",
       "3   https://www.youtube.com/watch?v=85RxQHZkluE&t=...      7  \n",
       "4   https://www.youtube.com/watch?v=BhGXfFsxgsQ&t=38s      7  \n",
       "..                                                ...    ...  \n",
       "69  https://www.youtube.com/watch?v=sMEBFgBFmy8&t=...      4  \n",
       "70  https://www.youtube.com/watch?v=i_fb_jHCUE8&t=...      4  \n",
       "71  https://www.youtube.com/watch?v=HhLIORa1NKg&t=...      4  \n",
       "72  https://www.youtube.com/watch?v=qe8TjfIqZ8Y&t=...      4  \n",
       "73  https://www.youtube.com/watch?v=g6yvs1f4S1s&t=...      4  \n",
       "\n",
       "[74 rows x 7 columns]"
      ]
     },
     "execution_count": 7,
     "metadata": {},
     "output_type": "execute_result"
    }
   ],
   "source": [
    "df_word_group_time_loc = pd.read_excel(f\"{path_folder_file}\", sheet_name=f\"{sheet}\")\n",
    "#df_word_group_time_loc = pd.read_excel(f\"Twogram Threegram Youtube Link Selected_Manuel.xlsx\")   \n",
    "df_word_group_time_loc"
   ]
  },
  {
   "cell_type": "code",
   "execution_count": 8,
   "metadata": {},
   "outputs": [
    {
     "data": {
      "text/plain": [
       "14"
      ]
     },
     "execution_count": 8,
     "metadata": {},
     "output_type": "execute_result"
    }
   ],
   "source": [
    "search_list = df_word_group_time_loc.iloc[:,0].unique()\n",
    "len(search_list)"
   ]
  },
  {
   "cell_type": "code",
   "execution_count": 9,
   "metadata": {},
   "outputs": [
    {
     "data": {
      "text/html": [
       "<div>\n",
       "<style scoped>\n",
       "    .dataframe tbody tr th:only-of-type {\n",
       "        vertical-align: middle;\n",
       "    }\n",
       "\n",
       "    .dataframe tbody tr th {\n",
       "        vertical-align: top;\n",
       "    }\n",
       "\n",
       "    .dataframe thead th {\n",
       "        text-align: right;\n",
       "    }\n",
       "</style>\n",
       "<table border=\"1\" class=\"dataframe\">\n",
       "  <thead>\n",
       "    <tr style=\"text-align: right;\">\n",
       "      <th></th>\n",
       "      <th>search_string</th>\n",
       "      <th>start_time</th>\n",
       "      <th>end_time</th>\n",
       "      <th>sentence</th>\n",
       "      <th>video_id</th>\n",
       "      <th>video_url</th>\n",
       "    </tr>\n",
       "  </thead>\n",
       "  <tbody>\n",
       "    <tr>\n",
       "      <th>0</th>\n",
       "      <td>repeat</td>\n",
       "      <td>5</td>\n",
       "      <td>7</td>\n",
       "      <td>repeat_again</td>\n",
       "      <td>Q-8I-uMUMYA</td>\n",
       "      <td>https://www.youtube.com/watch?v=Q-8I-uMUMYA&amp;t=0s</td>\n",
       "    </tr>\n",
       "  </tbody>\n",
       "</table>\n",
       "</div>"
      ],
      "text/plain": [
       "  search_string  start_time  end_time      sentence     video_id  \\\n",
       "0        repeat           5         7  repeat_again  Q-8I-uMUMYA   \n",
       "\n",
       "                                          video_url  \n",
       "0  https://www.youtube.com/watch?v=Q-8I-uMUMYA&t=0s  "
      ]
     },
     "execution_count": 9,
     "metadata": {},
     "output_type": "execute_result"
    }
   ],
   "source": [
    "# other option \n",
    "# mUf7VNqChac =>  black screen\n",
    "# 0_CDMstFg7M => 10sn\n",
    "# bj1JRuyYeco => 20sn\n",
    "# cElhIDdGz7M => screensaver\n",
    "default_video_id = \"Q-8I-uMUMYA\"\n",
    "df_link_default = pd.DataFrame(data=[[\"repeat\",5,7,\"repeat_again\",f\"{default_video_id}\",f\"https://www.youtube.com/watch?v={default_video_id}&t=0s\"]], columns=[\"search_string\",\"start_time\",\"end_time\",\"sentence\",\"video_id\",\"video_url\"])\n",
    "df_link_default"
   ]
  },
  {
   "cell_type": "code",
   "execution_count": 10,
   "metadata": {},
   "outputs": [],
   "source": [
    "## All word group result convert to join result in one row\n",
    "#df_result_repeat = pd.DataFrame()\n",
    "#for word_group in search_list:\n",
    "#    # for repeat 1\n",
    "#    df_word_group_search_repeat1 = df_word_group_time_loc[df_word_group_time_loc[\"search_string\"] == word_group]\n",
    "#    # for repeat 2\n",
    "#    try:\n",
    "#        df_word_group_search_repeat2 = df_word_group_time_loc[df_word_group_time_loc[\"search_string\"] == word_group].sample(1)\n",
    "#    except:\n",
    "#        df_word_group_search_repeat2 = df_word_group_time_loc[df_word_group_time_loc[\"search_string\"] == word_group].tail(1)\n",
    "#    df_word_group_search_repeat2.reset_index(drop=True, inplace=True)   \n",
    "#    # repeat block\n",
    "#    for i in range(len(df_word_group_search_repeat1)):        \n",
    "#        df_result_repeat = pd.concat([df_result_repeat,df_word_group_search_repeat1.iloc[[i,]]], axis=0)\n",
    "#\n",
    "#    try:\n",
    "#        df_link_default_var = df_link_default\n",
    "#        word_time_diff_var = df_word_group_search_repeat2.loc[0 ,\"end_time\"] - df_word_group_search_repeat2.loc[0 ,\"start_time\"]\n",
    "#        if word_time_diff_var < 4:\n",
    "#            word_time_diff_var2 = 3\n",
    "#        else:\n",
    "#            word_time_diff_var2 = word_time_diff_var+1.0\n",
    "#\n",
    "#        df_link_default_var.loc[0,\"end_time\"] = df_link_default_var.loc[0,\"start_time\"] + word_time_diff_var2\n",
    "#    except:\n",
    "#        pass\n",
    "#\n",
    "#    for j in range(3):\n",
    "#        df_result_repeat = pd.concat([df_result_repeat,df_word_group_search_repeat2], axis=0)\n",
    "#        df_result_repeat = pd.concat([df_result_repeat,df_link_default_var], axis=0)\n",
    "#\n",
    "#df_result_repeat.reset_index(drop=True, inplace=True)\n",
    "#df_result_repeat_join = df_col_value_join_comma(df_result_repeat, [\"video_id\",\"start_time\",\"end_time\"])\n",
    "#\n",
    "#df_result_repeat.to_excel(f\"{lang_folder.capitalize()}_{word_end}_Word_Talk_Time2.xlsx\", index=False)\n",
    "#df_result_repeat_join.to_excel(f\"{lang_folder.capitalize()}_{word_end}_Word_Talk_Time_Join2.xlsx\", index=False)"
   ]
  },
  {
   "cell_type": "code",
   "execution_count": 11,
   "metadata": {},
   "outputs": [],
   "source": [
    "#df_result_repeat"
   ]
  },
  {
   "cell_type": "code",
   "execution_count": 12,
   "metadata": {},
   "outputs": [],
   "source": [
    "#(df_result_repeat[\"end_time\"].sum()-df_result_repeat[\"start_time\"].sum())/60"
   ]
  },
  {
   "cell_type": "code",
   "execution_count": 13,
   "metadata": {},
   "outputs": [],
   "source": [
    "# Each word group result convert to join result in one row\n",
    "df_all_join_result = pd.DataFrame()\n",
    "seq_num = 0  # option\n",
    "for word_group in search_list:\n",
    "    df_result_repeat = pd.DataFrame()\n",
    "    # for repeat 1\n",
    "    df_word_group_search_repeat1 = df_word_group_time_loc[df_word_group_time_loc[\"search_string\"] == word_group]\n",
    "    # for repeat 2\n",
    "    try:\n",
    "        df_word_group_search_repeat2 = df_word_group_time_loc[df_word_group_time_loc[\"search_string\"] == word_group].sample(1)\n",
    "    except:\n",
    "        df_word_group_search_repeat2 = df_word_group_time_loc[df_word_group_time_loc[\"search_string\"] == word_group].tail(1)\n",
    "    df_word_group_search_repeat2.reset_index(drop=True, inplace=True)   \n",
    "    # repeat block\n",
    "    for i in range(len(df_word_group_search_repeat1)):        \n",
    "        df_result_repeat = pd.concat([df_result_repeat,df_word_group_search_repeat1.iloc[[i,]]], axis=0)\n",
    "\n",
    "    try:\n",
    "        df_link_default_var = df_link_default\n",
    "        word_time_diff_var = df_word_group_search_repeat2.loc[0 ,\"end_time\"] - df_word_group_search_repeat2.loc[0 ,\"start_time\"]\n",
    "        if word_time_diff_var < 4:\n",
    "            word_time_diff_var2 = 3\n",
    "        else:\n",
    "            word_time_diff_var2 = word_time_diff_var+1.0\n",
    "\n",
    "        df_link_default_var.loc[0,\"end_time\"] = df_link_default_var.loc[0,\"start_time\"] + word_time_diff_var2\n",
    "    except:\n",
    "        pass\n",
    "\n",
    "    for j in range(3):\n",
    "        df_result_repeat = pd.concat([df_result_repeat,df_word_group_search_repeat2], axis=0)\n",
    "        df_result_repeat = pd.concat([df_result_repeat,df_link_default_var], axis=0)\n",
    "        df_result_repeat.reset_index(drop=True, inplace=True)\n",
    "\n",
    "    df_result_repeat_var = df_col_value_join_comma(df_result_repeat, [\"video_id\",\"start_time\",\"end_time\"]) \n",
    "    df_result_repeat_var.loc[0,[\"search_string\"]] = f\"{word_group}\"  # option for search string\n",
    "    df_result_repeat_var.loc[0,[\"count\"]] = df_result_repeat.loc[0,\"count\"] # option for count num     \n",
    "    df_all_join_result = pd.concat([df_all_join_result,df_result_repeat_var], axis=0)\n",
    "\n",
    "df_all_join_result.reset_index(drop=True, inplace=True)\n",
    "df_all_join_result.to_excel(f\"{lang_folder.capitalize()}_{word_end}_Word_Youtube_Talk_Time_Join_{file_ext}.xlsx\", index=False)\n"
   ]
  },
  {
   "cell_type": "code",
   "execution_count": 14,
   "metadata": {},
   "outputs": [
    {
     "data": {
      "text/html": [
       "<div>\n",
       "<style scoped>\n",
       "    .dataframe tbody tr th:only-of-type {\n",
       "        vertical-align: middle;\n",
       "    }\n",
       "\n",
       "    .dataframe tbody tr th {\n",
       "        vertical-align: top;\n",
       "    }\n",
       "\n",
       "    .dataframe thead th {\n",
       "        text-align: right;\n",
       "    }\n",
       "</style>\n",
       "<table border=\"1\" class=\"dataframe\">\n",
       "  <thead>\n",
       "    <tr style=\"text-align: right;\">\n",
       "      <th></th>\n",
       "      <th>video_id</th>\n",
       "      <th>start_time</th>\n",
       "      <th>end_time</th>\n",
       "      <th>search_string</th>\n",
       "      <th>count</th>\n",
       "    </tr>\n",
       "  </thead>\n",
       "  <tbody>\n",
       "    <tr>\n",
       "      <th>0</th>\n",
       "      <td>eec5mG_90bk,MyyM0EDVlCg,Bbaal2Neohk,85RxQHZklu...</td>\n",
       "      <td>618,218,8315,625,38,132,472,8315,5,8315,5,8315,5</td>\n",
       "      <td>621,220,8318,628,41,135,474,8318,8,8318,8,8318,8</td>\n",
       "      <td>en son ne zaman</td>\n",
       "      <td>7.0</td>\n",
       "    </tr>\n",
       "    <tr>\n",
       "      <th>1</th>\n",
       "      <td>gQg3cyWahgc,_JDO9FKXZ88,lNwXQrpMfhM,259wx6vTLz...</td>\n",
       "      <td>7840,5802,1550,4352,833,5500,748,1550,5,1550,5...</td>\n",
       "      <td>7842,5804,1552,4354,835,5501,750,1552,8,1552,8...</td>\n",
       "      <td>bir şey var mı</td>\n",
       "      <td>7.0</td>\n",
       "    </tr>\n",
       "    <tr>\n",
       "      <th>2</th>\n",
       "      <td>pLifvTWuvHg,gE85fd99w44,6Eypw0D5r78,SdycpaKESd...</td>\n",
       "      <td>7823,107,5968,2615,523,3488,1492,3488,5,3488,5...</td>\n",
       "      <td>7825,109,5970,2619,525,3490,1494,3490,8,3490,8...</td>\n",
       "      <td>bir şey mi oldu</td>\n",
       "      <td>7.0</td>\n",
       "    </tr>\n",
       "    <tr>\n",
       "      <th>3</th>\n",
       "      <td>Aq7s33k_17A,Tm4hNlWWa_8,jhmfLDWagSk,6teAhXTWps...</td>\n",
       "      <td>72,650,370,2966,509,521,860,2966,5,2966,5,2966,5</td>\n",
       "      <td>74,653,372,2968,511,524,862,2968,8,2968,8,2968,8</td>\n",
       "      <td>bir şey daha var</td>\n",
       "      <td>7.0</td>\n",
       "    </tr>\n",
       "    <tr>\n",
       "      <th>4</th>\n",
       "      <td>9GbYnL0tvcg,cUAQrHbbpZ8,cUAQrHbbpZ8,1iByM08Mvq...</td>\n",
       "      <td>1886,1696,2447,6004,1056,1098,6004,5,6004,5,60...</td>\n",
       "      <td>1889,1700,2450,6007,1059,1101,6007,8,6007,8,60...</td>\n",
       "      <td>seni görmek çok güzel</td>\n",
       "      <td>6.0</td>\n",
       "    </tr>\n",
       "    <tr>\n",
       "      <th>5</th>\n",
       "      <td>UEUJAgUgP_Q,UGyGF6BzXTM,EC4gKcDZvug,l7xSPH97zv...</td>\n",
       "      <td>1688,694,1395,252,272,252,5,252,5,252,5</td>\n",
       "      <td>1691,697,1398,255,274,255,8,255,8,255,8</td>\n",
       "      <td>çok güzel değil mi</td>\n",
       "      <td>5.0</td>\n",
       "    </tr>\n",
       "    <tr>\n",
       "      <th>6</th>\n",
       "      <td>NudrNCdBxAE,WluihGTzAzs,6O8r2LsU_cc,BPFVcPmoot...</td>\n",
       "      <td>463,161,92,565,221,565,5,565,5,565,5</td>\n",
       "      <td>465,163,95,567,223,567,8,567,8,567,8</td>\n",
       "      <td>o kadar da kötü</td>\n",
       "      <td>5.0</td>\n",
       "    </tr>\n",
       "    <tr>\n",
       "      <th>7</th>\n",
       "      <td>gIgjKheyn3o,A3y7gcwGWCw,2urfZXpi6n0,UakI2BMHoJ...</td>\n",
       "      <td>2072,716,1298,3709,105,716,5,716,5,716,5</td>\n",
       "      <td>2074,719,1301,3711,107,719,8,719,8,719,8</td>\n",
       "      <td>bunu daha önce de</td>\n",
       "      <td>5.0</td>\n",
       "    </tr>\n",
       "    <tr>\n",
       "      <th>8</th>\n",
       "      <td>LMHUJ60Fsho,NV1Izihxbks,oWyqKDfhtgo,EFy7Qr4mmZ...</td>\n",
       "      <td>78,106,510,475,4855,475,5,475,5,475,5</td>\n",
       "      <td>80,109,513,478,4857,478,8,478,8,478,8</td>\n",
       "      <td>bana yardım eder misin</td>\n",
       "      <td>5.0</td>\n",
       "    </tr>\n",
       "    <tr>\n",
       "      <th>9</th>\n",
       "      <td>wa6FhuUXTRs,sXm5UoYzLZU,pUUoRExmU1E,pZTreTu_HF...</td>\n",
       "      <td>1474,330,413,145,1474,5,1474,5,1474,5</td>\n",
       "      <td>1477,332,416,147,1477,8,1477,8,1477,8</td>\n",
       "      <td>o kadar basit değil</td>\n",
       "      <td>4.0</td>\n",
       "    </tr>\n",
       "    <tr>\n",
       "      <th>10</th>\n",
       "      <td>bq28s1uiSIw,GRBLdO2Y7rk,Sr17L23OkV0,EYlDo1Zdqw...</td>\n",
       "      <td>576,189,426,605,605,5,605,5,605,5</td>\n",
       "      <td>579,192,428,607,607,8,607,8,607,8</td>\n",
       "      <td>daha önce hiç böyle</td>\n",
       "      <td>4.0</td>\n",
       "    </tr>\n",
       "    <tr>\n",
       "      <th>11</th>\n",
       "      <td>x5qorvklF0s,BytiOxxvNUY,9QPQ96yFLho,eBPCWZsoHx...</td>\n",
       "      <td>146,52,458,486,458,5,458,5,458,5</td>\n",
       "      <td>149,54,460,488,460,8,460,8,460,8</td>\n",
       "      <td>bu da ne demek</td>\n",
       "      <td>4.0</td>\n",
       "    </tr>\n",
       "    <tr>\n",
       "      <th>12</th>\n",
       "      <td>_srfsUOpKig,eXhF5s8iuh8,3sqBlmCqhpY,sMEBFgBFmy...</td>\n",
       "      <td>2380,1271,2769,3192,2380,5,2380,5,2380,5</td>\n",
       "      <td>2382,1273,2773,3195,2382,8,2382,8,2382,8</td>\n",
       "      <td>bu da ne böyle</td>\n",
       "      <td>4.0</td>\n",
       "    </tr>\n",
       "    <tr>\n",
       "      <th>13</th>\n",
       "      <td>i_fb_jHCUE8,HhLIORa1NKg,qe8TjfIqZ8Y,g6yvs1f4S1...</td>\n",
       "      <td>2646,7198,772,5062,772,5,772,5,772,5</td>\n",
       "      <td>2648,7200,774,5064,774,8,774,8,774,8</td>\n",
       "      <td>bir sorun mu var</td>\n",
       "      <td>4.0</td>\n",
       "    </tr>\n",
       "  </tbody>\n",
       "</table>\n",
       "</div>"
      ],
      "text/plain": [
       "                                             video_id  \\\n",
       "0   eec5mG_90bk,MyyM0EDVlCg,Bbaal2Neohk,85RxQHZklu...   \n",
       "1   gQg3cyWahgc,_JDO9FKXZ88,lNwXQrpMfhM,259wx6vTLz...   \n",
       "2   pLifvTWuvHg,gE85fd99w44,6Eypw0D5r78,SdycpaKESd...   \n",
       "3   Aq7s33k_17A,Tm4hNlWWa_8,jhmfLDWagSk,6teAhXTWps...   \n",
       "4   9GbYnL0tvcg,cUAQrHbbpZ8,cUAQrHbbpZ8,1iByM08Mvq...   \n",
       "5   UEUJAgUgP_Q,UGyGF6BzXTM,EC4gKcDZvug,l7xSPH97zv...   \n",
       "6   NudrNCdBxAE,WluihGTzAzs,6O8r2LsU_cc,BPFVcPmoot...   \n",
       "7   gIgjKheyn3o,A3y7gcwGWCw,2urfZXpi6n0,UakI2BMHoJ...   \n",
       "8   LMHUJ60Fsho,NV1Izihxbks,oWyqKDfhtgo,EFy7Qr4mmZ...   \n",
       "9   wa6FhuUXTRs,sXm5UoYzLZU,pUUoRExmU1E,pZTreTu_HF...   \n",
       "10  bq28s1uiSIw,GRBLdO2Y7rk,Sr17L23OkV0,EYlDo1Zdqw...   \n",
       "11  x5qorvklF0s,BytiOxxvNUY,9QPQ96yFLho,eBPCWZsoHx...   \n",
       "12  _srfsUOpKig,eXhF5s8iuh8,3sqBlmCqhpY,sMEBFgBFmy...   \n",
       "13  i_fb_jHCUE8,HhLIORa1NKg,qe8TjfIqZ8Y,g6yvs1f4S1...   \n",
       "\n",
       "                                           start_time  \\\n",
       "0    618,218,8315,625,38,132,472,8315,5,8315,5,8315,5   \n",
       "1   7840,5802,1550,4352,833,5500,748,1550,5,1550,5...   \n",
       "2   7823,107,5968,2615,523,3488,1492,3488,5,3488,5...   \n",
       "3    72,650,370,2966,509,521,860,2966,5,2966,5,2966,5   \n",
       "4   1886,1696,2447,6004,1056,1098,6004,5,6004,5,60...   \n",
       "5             1688,694,1395,252,272,252,5,252,5,252,5   \n",
       "6                463,161,92,565,221,565,5,565,5,565,5   \n",
       "7            2072,716,1298,3709,105,716,5,716,5,716,5   \n",
       "8               78,106,510,475,4855,475,5,475,5,475,5   \n",
       "9               1474,330,413,145,1474,5,1474,5,1474,5   \n",
       "10                  576,189,426,605,605,5,605,5,605,5   \n",
       "11                   146,52,458,486,458,5,458,5,458,5   \n",
       "12           2380,1271,2769,3192,2380,5,2380,5,2380,5   \n",
       "13               2646,7198,772,5062,772,5,772,5,772,5   \n",
       "\n",
       "                                             end_time           search_string  \\\n",
       "0    621,220,8318,628,41,135,474,8318,8,8318,8,8318,8         en son ne zaman   \n",
       "1   7842,5804,1552,4354,835,5501,750,1552,8,1552,8...          bir şey var mı   \n",
       "2   7825,109,5970,2619,525,3490,1494,3490,8,3490,8...         bir şey mi oldu   \n",
       "3    74,653,372,2968,511,524,862,2968,8,2968,8,2968,8        bir şey daha var   \n",
       "4   1889,1700,2450,6007,1059,1101,6007,8,6007,8,60...   seni görmek çok güzel   \n",
       "5             1691,697,1398,255,274,255,8,255,8,255,8      çok güzel değil mi   \n",
       "6                465,163,95,567,223,567,8,567,8,567,8         o kadar da kötü   \n",
       "7            2074,719,1301,3711,107,719,8,719,8,719,8       bunu daha önce de   \n",
       "8               80,109,513,478,4857,478,8,478,8,478,8  bana yardım eder misin   \n",
       "9               1477,332,416,147,1477,8,1477,8,1477,8     o kadar basit değil   \n",
       "10                  579,192,428,607,607,8,607,8,607,8     daha önce hiç böyle   \n",
       "11                   149,54,460,488,460,8,460,8,460,8          bu da ne demek   \n",
       "12           2382,1273,2773,3195,2382,8,2382,8,2382,8          bu da ne böyle   \n",
       "13               2648,7200,774,5064,774,8,774,8,774,8        bir sorun mu var   \n",
       "\n",
       "    count  \n",
       "0     7.0  \n",
       "1     7.0  \n",
       "2     7.0  \n",
       "3     7.0  \n",
       "4     6.0  \n",
       "5     5.0  \n",
       "6     5.0  \n",
       "7     5.0  \n",
       "8     5.0  \n",
       "9     4.0  \n",
       "10    4.0  \n",
       "11    4.0  \n",
       "12    4.0  \n",
       "13    4.0  "
      ]
     },
     "execution_count": 14,
     "metadata": {},
     "output_type": "execute_result"
    }
   ],
   "source": [
    "df_all_join_result"
   ]
  },
  {
   "cell_type": "code",
   "execution_count": null,
   "metadata": {},
   "outputs": [],
   "source": []
  },
  {
   "cell_type": "markdown",
   "metadata": {},
   "source": [
    "#### Copy Move And Delete"
   ]
  },
  {
   "cell_type": "code",
   "execution_count": 15,
   "metadata": {},
   "outputs": [
    {
     "data": {
      "text/plain": [
       "['Turkish_1000_Word_Youtube_Talk_Time_Join_Fourgram.xlsx']"
      ]
     },
     "execution_count": 15,
     "metadata": {},
     "output_type": "execute_result"
    }
   ],
   "source": [
    "output_file = glob.glob(f\"{lang_folder.capitalize()}_{word_end}_Word_Youtube_Talk_Time_Join_{file_ext}.xlsx\")\n",
    "output_file"
   ]
  },
  {
   "cell_type": "code",
   "execution_count": 16,
   "metadata": {},
   "outputs": [],
   "source": [
    "for k in output_file:\n",
    "    source = k # source directory\n",
    "    destination = path\n",
    "    shutil.copy2(source, destination)"
   ]
  },
  {
   "cell_type": "code",
   "execution_count": 17,
   "metadata": {},
   "outputs": [],
   "source": [
    "for i in output_file:\n",
    "    try:\n",
    "        os.remove(i)\n",
    "    except:\n",
    "        pass"
   ]
  },
  {
   "cell_type": "code",
   "execution_count": null,
   "metadata": {},
   "outputs": [],
   "source": []
  },
  {
   "cell_type": "code",
   "execution_count": null,
   "metadata": {},
   "outputs": [],
   "source": []
  },
  {
   "cell_type": "code",
   "execution_count": null,
   "metadata": {},
   "outputs": [],
   "source": []
  },
  {
   "cell_type": "markdown",
   "metadata": {},
   "source": [
    "#### Temp"
   ]
  },
  {
   "cell_type": "code",
   "execution_count": null,
   "metadata": {},
   "outputs": [],
   "source": [
    "import pandas as pd\n",
    "import numpy as np"
   ]
  },
  {
   "cell_type": "code",
   "execution_count": null,
   "metadata": {},
   "outputs": [],
   "source": [
    "path_folder_file2 = \"/media/kurubal/SSD1/Data Scientist/Work/Modern Ways/Project/Turkish/Talk Time/Talk Time 2/Result/2-Find Word Group Youtube Link/Turkish_Fourgram_With_1000_Word_Selected_Manuel.xlsx\"\n",
    "sheet2 = \"Sheet1\"  # Sheet1"
   ]
  },
  {
   "cell_type": "code",
   "execution_count": null,
   "metadata": {},
   "outputs": [],
   "source": [
    "df = pd.read_excel(f\"{path_folder_file2}\", sheet_name=f\"{sheet2}\")\n",
    "df"
   ]
  },
  {
   "cell_type": "code",
   "execution_count": null,
   "metadata": {},
   "outputs": [],
   "source": [
    "df_count = df.groupby([\"search_string\"])[[\"search_string\"]].count()\n",
    "df_count.rename(columns={\"search_string\":\"count\"}, inplace=True)\n",
    "df_count.sort_values(by=\"count\", ascending=False, inplace=True)\n",
    "df_count.reset_index(inplace=True)\n",
    "df_count"
   ]
  },
  {
   "cell_type": "code",
   "execution_count": null,
   "metadata": {},
   "outputs": [],
   "source": [
    "df_count_merge = pd.merge(df, df_count, how=\"inner\",on= \"search_string\")\n",
    "df_count_merge.sort_values(by=[\"count\",\"search_string\"], ascending=False, inplace=True)\n",
    "df_count_merge.reset_index(drop=True, inplace=True)\n",
    "df_count_merge"
   ]
  },
  {
   "cell_type": "code",
   "execution_count": null,
   "metadata": {},
   "outputs": [],
   "source": [
    "df_count_merge[\"search_string\"].nunique()"
   ]
  },
  {
   "cell_type": "code",
   "execution_count": null,
   "metadata": {},
   "outputs": [],
   "source": [
    "df_count_merge[df_count_merge[\"count\"] == 1]"
   ]
  },
  {
   "cell_type": "code",
   "execution_count": null,
   "metadata": {},
   "outputs": [],
   "source": [
    "df_count_merge.to_excel(\"Turkish_Fourgram_With_1000_Word_Selected_Count_Manuel.xlsx\", index=False)"
   ]
  },
  {
   "cell_type": "code",
   "execution_count": null,
   "metadata": {},
   "outputs": [],
   "source": []
  },
  {
   "cell_type": "code",
   "execution_count": null,
   "metadata": {},
   "outputs": [],
   "source": [
    "df_word_group_time_loc_manuel = pd.read_excel(f\"Twogram Threegram Youtube Link Selected_Count_Manuel.xlsx\")\n",
    "df_word_group_time_loc_manuel.sort_values(by=[\"count\",\"search_string\"],inplace=True, ascending=False)\n",
    "df_word_group_time_loc_manuel.reset_index(drop=True, inplace=True)\n",
    "df_word_group_time_loc_manuel"
   ]
  },
  {
   "cell_type": "code",
   "execution_count": null,
   "metadata": {},
   "outputs": [],
   "source": [
    "df_word_group_time_loc_manuel.to_excel(\"Twogram Threegram Youtube Link Selected_Manuel.xlsx\", index=False)"
   ]
  },
  {
   "cell_type": "code",
   "execution_count": null,
   "metadata": {},
   "outputs": [],
   "source": []
  }
 ],
 "metadata": {
  "kernelspec": {
   "display_name": "Python 3.9.5 ('py39')",
   "language": "python",
   "name": "python3"
  },
  "language_info": {
   "codemirror_mode": {
    "name": "ipython",
    "version": 3
   },
   "file_extension": ".py",
   "mimetype": "text/x-python",
   "name": "python",
   "nbconvert_exporter": "python",
   "pygments_lexer": "ipython3",
   "version": "3.9.5"
  },
  "orig_nbformat": 4,
  "vscode": {
   "interpreter": {
    "hash": "651d507d70892fab0fc6529d935cd476f6e2eb1791525b76da6cc8da34bc0503"
   }
  }
 },
 "nbformat": 4,
 "nbformat_minor": 2
}
