{
 "cells": [
  {
   "cell_type": "code",
   "execution_count": 1,
   "source": [
    "# !pip install opustools"
   ],
   "outputs": [
    {
     "output_type": "stream",
     "name": "stdout",
     "text": [
      "Requirement already satisfied: opustools in c:\\users\\ertuğrul\\appdata\\local\\programs\\python\\python39\\lib\\site-packages (1.2.1)\n"
     ]
    }
   ],
   "metadata": {}
  },
  {
   "cell_type": "code",
   "execution_count": 1,
   "source": [
    "import numpy as np\r\n",
    "import pandas as pd\r\n",
    "import time\r\n",
    "import opustools"
   ],
   "outputs": [],
   "metadata": {}
  },
  {
   "cell_type": "code",
   "execution_count": 2,
   "source": [
    "from opustools import OpusRead"
   ],
   "outputs": [],
   "metadata": {}
  },
  {
   "cell_type": "code",
   "execution_count": 3,
   "source": [
    "import opustools_pkg"
   ],
   "outputs": [],
   "metadata": {}
  },
  {
   "cell_type": "code",
   "execution_count": 6,
   "source": [
    "opus_reader = opustools_pkg.OpusRead(\r\n",
    "    directory='en-tr.xml.gz',\r\n",
    "    source='en',\r\n",
    "    target='tr')\r\n",
    "opus_reader.printPairs()"
   ],
   "outputs": [
    {
     "output_type": "stream",
     "name": "stdout",
     "text": [
      "\n",
      "Alignment file /proj/nlpl/data/OPUS\\en-tr.xml.gz\\latest\\xml\\en-tr.xml.gz not found. The following files are available for downloading:\n",
      "\n",
      "\n",
      "   0 KB Total size\n",
      "No alignment file \"/proj/nlpl/data/OPUS\\en-tr.xml.gz\\latest\\xml\\en-tr.xml.gz\" or \".\\en-tr.xml.gz_latest_xml_en-tr.xml.gz\" found\n"
     ]
    }
   ],
   "metadata": {}
  },
  {
   "cell_type": "code",
   "execution_count": 9,
   "source": [
    "opus_reader = OpusRead(\r\n",
    "    directory='en-tr.xml.gz',\r\n",
    "    source='en',\r\n",
    "    target='tr')\r\n",
    "opus_reader.printPairs()"
   ],
   "outputs": [
    {
     "output_type": "stream",
     "name": "stdout",
     "text": [
      "No alignment file \"/projappl/nlpl/data/OPUS\\en-tr.xml.gz\\latest\\xml\\en-tr.xml.gz\" or \".\\en-tr.xml.gz_latest_xml_en-tr.xml.gz\" found\n",
      "The following files are available for downloading:\n",
      "\n",
      "\n",
      "   0 KB Total size\n"
     ]
    },
    {
     "output_type": "error",
     "ename": "FileNotFoundError",
     "evalue": "No alignment file \"/projappl/nlpl/data/OPUS\\en-tr.xml.gz\\latest\\xml\\en-tr.xml.gz\" or \".\\en-tr.xml.gz_latest_xml_en-tr.xml.gz\" found",
     "traceback": [
      "\u001b[1;31m---------------------------------------------------------------------------\u001b[0m",
      "\u001b[1;31mFileNotFoundError\u001b[0m                         Traceback (most recent call last)",
      "\u001b[1;32m<ipython-input-9-d1eee843601c>\u001b[0m in \u001b[0;36m<module>\u001b[1;34m\u001b[0m\n\u001b[1;32m----> 1\u001b[1;33m opus_reader = OpusRead(\n\u001b[0m\u001b[0;32m      2\u001b[0m     \u001b[0mdirectory\u001b[0m\u001b[1;33m=\u001b[0m\u001b[1;34m'en-tr.xml.gz'\u001b[0m\u001b[1;33m,\u001b[0m\u001b[1;33m\u001b[0m\u001b[1;33m\u001b[0m\u001b[0m\n\u001b[0;32m      3\u001b[0m     \u001b[0msource\u001b[0m\u001b[1;33m=\u001b[0m\u001b[1;34m'en'\u001b[0m\u001b[1;33m,\u001b[0m\u001b[1;33m\u001b[0m\u001b[1;33m\u001b[0m\u001b[0m\n\u001b[0;32m      4\u001b[0m     target='tr')\n\u001b[0;32m      5\u001b[0m \u001b[0mopus_reader\u001b[0m\u001b[1;33m.\u001b[0m\u001b[0mprintPairs\u001b[0m\u001b[1;33m(\u001b[0m\u001b[1;33m)\u001b[0m\u001b[1;33m\u001b[0m\u001b[1;33m\u001b[0m\u001b[0m\n",
      "\u001b[1;32m~\\AppData\\Local\\Programs\\Python\\Python39\\lib\\site-packages\\opustools\\opus_read.py\u001b[0m in \u001b[0;36m__init__\u001b[1;34m(self, directory, source, target, release, preprocess, maximum, src_range, tgt_range, attribute, threshold, leave_non_alignments_out, write, write_mode, print_file_names, root_directory, alignment_file, source_zip, target_zip, change_moses_delimiter, print_annotations, source_annotations, target_annotations, change_annotation_delimiter, src_cld2, trg_cld2, src_langid, trg_langid, write_ids, suppress_prompts, download_dir, preserve_inline_tags, n, N, verbose)\u001b[0m\n\u001b[0;32m    193\u001b[0m                 preprocess, self.fromto, self.verbose, suppress_prompts)\n\u001b[0;32m    194\u001b[0m \u001b[1;33m\u001b[0m\u001b[0m\n\u001b[1;32m--> 195\u001b[1;33m         \u001b[0mself\u001b[0m\u001b[1;33m.\u001b[0m\u001b[0malignment\u001b[0m \u001b[1;33m=\u001b[0m \u001b[0mself\u001b[0m\u001b[1;33m.\u001b[0m\u001b[0mof_handler\u001b[0m\u001b[1;33m.\u001b[0m\u001b[0mopen_alignment_file\u001b[0m\u001b[1;33m(\u001b[0m\u001b[0mself\u001b[0m\u001b[1;33m.\u001b[0m\u001b[0malignment\u001b[0m\u001b[1;33m)\u001b[0m\u001b[1;33m\u001b[0m\u001b[1;33m\u001b[0m\u001b[0m\n\u001b[0m\u001b[0;32m    196\u001b[0m         self.alignmentParser = AlignmentParser(self.alignment,\n\u001b[0;32m    197\u001b[0m                 \u001b[1;33m(\u001b[0m\u001b[0msrc_range\u001b[0m\u001b[1;33m,\u001b[0m \u001b[0mtgt_range\u001b[0m\u001b[1;33m)\u001b[0m\u001b[1;33m,\u001b[0m \u001b[0mattribute\u001b[0m\u001b[1;33m,\u001b[0m \u001b[0mthreshold\u001b[0m\u001b[1;33m,\u001b[0m\u001b[1;33m\u001b[0m\u001b[1;33m\u001b[0m\u001b[0m\n",
      "\u001b[1;32m~\\AppData\\Local\\Programs\\Python\\Python39\\lib\\site-packages\\opustools\\opus_file_handler.py\u001b[0m in \u001b[0;36mopen_alignment_file\u001b[1;34m(self, align_name)\u001b[0m\n\u001b[0;32m     65\u001b[0m                     local_align_name, mode='r', encoding='utf-8')\n\u001b[0;32m     66\u001b[0m             \u001b[1;32melse\u001b[0m\u001b[1;33m:\u001b[0m\u001b[1;33m\u001b[0m\u001b[1;33m\u001b[0m\u001b[0m\n\u001b[1;32m---> 67\u001b[1;33m                 raise FileNotFoundError('No alignment file \"{default}\" or'\n\u001b[0m\u001b[0;32m     68\u001b[0m                         ' \"{downloaded}\" found'.format(\n\u001b[0;32m     69\u001b[0m                         default=align_name, downloaded=local_align_name))\n",
      "\u001b[1;31mFileNotFoundError\u001b[0m: No alignment file \"/projappl/nlpl/data/OPUS\\en-tr.xml.gz\\latest\\xml\\en-tr.xml.gz\" or \".\\en-tr.xml.gz_latest_xml_en-tr.xml.gz\" found"
     ]
    }
   ],
   "metadata": {}
  },
  {
   "cell_type": "code",
   "execution_count": null,
   "source": [],
   "outputs": [],
   "metadata": {}
  }
 ],
 "metadata": {
  "orig_nbformat": 4,
  "language_info": {
   "name": "python",
   "version": "3.9.0",
   "mimetype": "text/x-python",
   "codemirror_mode": {
    "name": "ipython",
    "version": 3
   },
   "pygments_lexer": "ipython3",
   "nbconvert_exporter": "python",
   "file_extension": ".py"
  },
  "kernelspec": {
   "name": "python3",
   "display_name": "Python 3.9.0 64-bit (system)"
  },
  "interpreter": {
   "hash": "43a9cd95aa030499ef934e4da31e07dde54f3fc3a1fd0cc4aeef7f16459ee2ac"
  }
 },
 "nbformat": 4,
 "nbformat_minor": 2
}