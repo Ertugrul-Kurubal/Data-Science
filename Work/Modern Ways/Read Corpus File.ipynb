{
 "cells": [
  {
   "cell_type": "code",
   "execution_count": 1,
   "metadata": {},
   "outputs": [
    {
     "name": "stdout",
     "output_type": "stream",
     "text": [
      "Requirement already satisfied: pip in c:\\users\\ertuğrul\\appdata\\local\\programs\\python\\python39\\lib\\site-packages (21.2.4)\n",
      "Requirement already satisfied: setuptools in c:\\users\\ertuğrul\\appdata\\local\\programs\\python\\python39\\lib\\site-packages (49.2.1)\n",
      "Collecting setuptools\n",
      "  Downloading setuptools-58.2.0-py3-none-any.whl (946 kB)\n",
      "Requirement already satisfied: wheel in c:\\users\\ertuğrul\\appdata\\local\\programs\\python\\python39\\lib\\site-packages (0.36.2)\n",
      "Collecting wheel\n",
      "  Downloading wheel-0.37.0-py2.py3-none-any.whl (35 kB)\n",
      "Installing collected packages: wheel, setuptools\n",
      "  Attempting uninstall: wheel\n",
      "    Found existing installation: wheel 0.36.2\n",
      "    Uninstalling wheel-0.36.2:\n",
      "      Successfully uninstalled wheel-0.36.2\n",
      "  Attempting uninstall: setuptools\n",
      "    Found existing installation: setuptools 49.2.1\n",
      "    Uninstalling setuptools-49.2.1:\n",
      "      Successfully uninstalled setuptools-49.2.1\n",
      "Successfully installed setuptools-58.2.0 wheel-0.37.0\n"
     ]
    }
   ],
   "source": [
    "# !pip install opustools\n",
    "# !pip install opustools-pkg\n",
    "!pip install -U pip setuptools wheel"
   ]
  },
  {
   "cell_type": "code",
   "execution_count": 1,
   "metadata": {},
   "outputs": [],
   "source": [
    "import numpy as np\n",
    "import pandas as pd\n",
    "import time\n",
    "import opustools\n",
    "import opustools_pkg\n",
    "from opustools import OpusRead"
   ]
  },
  {
   "cell_type": "code",
   "execution_count": 3,
   "metadata": {},
   "outputs": [
    {
     "name": "stdout",
     "output_type": "stream",
     "text": [
      "\n",
      "Alignment file /proj/nlpl/data/OPUS\\en-ru.xml.gz\\latest\\xml\\en-ru.xml.gz not found. The following files are available for downloading:\n",
      "\n",
      "\n",
      "   0 KB Total size\n",
      "No alignment file \"/proj/nlpl/data/OPUS\\en-ru.xml.gz\\latest\\xml\\en-ru.xml.gz\" or \".\\en-ru.xml.gz_latest_xml_en-ru.xml.gz\" found\n"
     ]
    }
   ],
   "source": [
    "opus_reader = opustools_pkg.OpusRead(\n",
    "    directory='en-ru.xml.gz',\n",
    "    source='en',\n",
    "    target='ru')\n",
    "opus_reader.printPairs()"
   ]
  },
  {
   "cell_type": "code",
   "execution_count": 12,
   "metadata": {},
   "outputs": [],
   "source": [
    "# opus_reader = OpusRead(\n",
    "#     directory='en-tr.xml',\n",
    "#     source='en',\n",
    "#     target='tr')\n",
    "# opus_reader.printPairs()"
   ]
  },
  {
   "cell_type": "code",
   "execution_count": null,
   "metadata": {},
   "outputs": [],
   "source": []
  }
 ],
 "metadata": {
  "interpreter": {
   "hash": "43a9cd95aa030499ef934e4da31e07dde54f3fc3a1fd0cc4aeef7f16459ee2ac"
  },
  "kernelspec": {
   "display_name": "Python 3.9.0 64-bit (system)",
   "name": "python3"
  },
  "language_info": {
   "codemirror_mode": {
    "name": "ipython",
    "version": 3
   },
   "file_extension": ".py",
   "mimetype": "text/x-python",
   "name": "python",
   "nbconvert_exporter": "python",
   "pygments_lexer": "ipython3",
   "version": "3.9.0"
  },
  "orig_nbformat": 4
 },
 "nbformat": 4,
 "nbformat_minor": 2
}
