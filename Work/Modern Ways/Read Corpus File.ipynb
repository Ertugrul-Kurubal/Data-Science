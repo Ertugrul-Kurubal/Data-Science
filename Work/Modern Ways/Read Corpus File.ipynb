{
 "cells": [
  {
   "cell_type": "code",
   "execution_count": 10,
   "metadata": {},
   "outputs": [
    {
     "name": "stdout",
     "output_type": "stream",
     "text": [
      "Collecting opustools-pkg\n",
      "  Downloading opustools_pkg-0.0.52-py3-none-any.whl (80 kB)\n",
      "Installing collected packages: opustools-pkg\n",
      "Successfully installed opustools-pkg-0.0.52\n"
     ]
    }
   ],
   "source": [
    "# !pip install opustools\n",
    "# !pip install opustools-pkg"
   ]
  },
  {
   "cell_type": "code",
   "execution_count": 1,
   "metadata": {},
   "outputs": [],
   "source": [
    "import numpy as np\n",
    "import pandas as pd\n",
    "import time\n",
    "import opustools\n",
    "import opustools_pkg\n",
    "from opustools import OpusRead"
   ]
  },
  {
   "cell_type": "code",
   "execution_count": 18,
   "metadata": {},
   "outputs": [
    {
     "name": "stdout",
     "output_type": "stream",
     "text": [
      "\n",
      "Alignment file /proj/nlpl/data/OPUS\\en-tr.xml.gz\\latest\\xml\\en-tr.xml.gz not found. The following files are available for downloading:\n",
      "\n",
      "\n",
      "   0 KB Total size\n",
      "No alignment file \"/proj/nlpl/data/OPUS\\en-tr.xml.gz\\latest\\xml\\en-tr.xml.gz\" or \".\\en-tr.xml.gz_latest_xml_en-tr.xml.gz\" found\n"
     ]
    }
   ],
   "source": [
    "opus_reader = opustools_pkg.OpusRead(\n",
    "    directory='en-tr.xml.gz',\n",
    "    source='en',\n",
    "    target='tr')\n",
    "opus_reader.printPairs()"
   ]
  },
  {
   "cell_type": "code",
   "execution_count": null,
   "metadata": {},
   "outputs": [],
   "source": []
  },
  {
   "cell_type": "code",
   "execution_count": 12,
   "metadata": {},
   "outputs": [],
   "source": [
    "# opus_reader = OpusRead(\n",
    "#     directory='en-tr.xml',\n",
    "#     source='en',\n",
    "#     target='tr')\n",
    "# opus_reader.printPairs()"
   ]
  },
  {
   "cell_type": "code",
   "execution_count": null,
   "metadata": {},
   "outputs": [],
   "source": []
  }
 ],
 "metadata": {
  "interpreter": {
   "hash": "43a9cd95aa030499ef934e4da31e07dde54f3fc3a1fd0cc4aeef7f16459ee2ac"
  },
  "kernelspec": {
   "display_name": "Python 3.9.0 64-bit (system)",
   "name": "python3"
  },
  "language_info": {
   "codemirror_mode": {
    "name": "ipython",
    "version": 3
   },
   "file_extension": ".py",
   "mimetype": "text/x-python",
   "name": "python",
   "nbconvert_exporter": "python",
   "pygments_lexer": "ipython3",
   "version": "3.9.0"
  },
  "orig_nbformat": 4
 },
 "nbformat": 4,
 "nbformat_minor": 2
}
