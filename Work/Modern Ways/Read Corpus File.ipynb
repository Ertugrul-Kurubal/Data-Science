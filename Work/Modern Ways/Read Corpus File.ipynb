{
 "cells": [
  {
   "cell_type": "code",
   "execution_count": 10,
   "source": [
    "# !pip install opustools\r\n",
    "# !pip install opustools-pkg"
   ],
   "outputs": [
    {
     "output_type": "stream",
     "name": "stdout",
     "text": [
      "Collecting opustools-pkg\n",
      "  Downloading opustools_pkg-0.0.52-py3-none-any.whl (80 kB)\n",
      "Installing collected packages: opustools-pkg\n",
      "Successfully installed opustools-pkg-0.0.52\n"
     ]
    }
   ],
   "metadata": {}
  },
  {
   "cell_type": "code",
   "execution_count": 1,
   "source": [
    "import numpy as np\r\n",
    "import pandas as pd\r\n",
    "import time\r\n",
    "import opustools"
   ],
   "outputs": [],
   "metadata": {}
  },
  {
   "cell_type": "code",
   "execution_count": 2,
   "source": [
    "from opustools import OpusRead"
   ],
   "outputs": [],
   "metadata": {}
  },
  {
   "cell_type": "code",
   "execution_count": 3,
   "source": [
    "import opustools_pkg"
   ],
   "outputs": [],
   "metadata": {}
  },
  {
   "cell_type": "code",
   "execution_count": 18,
   "source": [
    "opus_reader = opustools_pkg.OpusRead(\r\n",
    "    directory='en-tr.xml.gz',\r\n",
    "    source='en',\r\n",
    "    target='tr')\r\n",
    "opus_reader.printPairs()"
   ],
   "outputs": [
    {
     "output_type": "stream",
     "name": "stdout",
     "text": [
      "\n",
      "Alignment file /proj/nlpl/data/OPUS\\en-tr.xml.gz\\latest\\xml\\en-tr.xml.gz not found. The following files are available for downloading:\n",
      "\n",
      "\n",
      "   0 KB Total size\n",
      "No alignment file \"/proj/nlpl/data/OPUS\\en-tr.xml.gz\\latest\\xml\\en-tr.xml.gz\" or \".\\en-tr.xml.gz_latest_xml_en-tr.xml.gz\" found\n"
     ]
    }
   ],
   "metadata": {}
  },
  {
   "cell_type": "code",
   "execution_count": 12,
   "source": [
    "# opus_reader = OpusRead(\r\n",
    "#     directory='en-tr.xml',\r\n",
    "#     source='en',\r\n",
    "#     target='tr')\r\n",
    "# opus_reader.printPairs()"
   ],
   "outputs": [],
   "metadata": {}
  },
  {
   "cell_type": "code",
   "execution_count": null,
   "source": [],
   "outputs": [],
   "metadata": {}
  }
 ],
 "metadata": {
  "orig_nbformat": 4,
  "language_info": {
   "name": "python",
   "version": "3.9.0",
   "mimetype": "text/x-python",
   "codemirror_mode": {
    "name": "ipython",
    "version": 3
   },
   "pygments_lexer": "ipython3",
   "nbconvert_exporter": "python",
   "file_extension": ".py"
  },
  "kernelspec": {
   "name": "python3",
   "display_name": "Python 3.9.0 64-bit (system)"
  },
  "interpreter": {
   "hash": "43a9cd95aa030499ef934e4da31e07dde54f3fc3a1fd0cc4aeef7f16459ee2ac"
  }
 },
 "nbformat": 4,
 "nbformat_minor": 2
}