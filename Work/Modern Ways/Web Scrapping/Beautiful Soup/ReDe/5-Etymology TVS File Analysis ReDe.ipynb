{
 "cells": [
  {
   "cell_type": "markdown",
   "metadata": {},
   "source": [
    "### Etymology TVS File"
   ]
  },
  {
   "cell_type": "code",
   "execution_count": null,
   "metadata": {},
   "outputs": [],
   "source": [
    "import pandas as pd\n",
    "import numpy as np\n",
    "import glob\n",
    "import re\n",
    "import nltk\n",
    "from nltk import word_tokenize\n",
    "from pathlib import Path\n",
    "import shutil"
   ]
  },
  {
   "cell_type": "markdown",
   "metadata": {},
   "source": [
    "#### Read TVS And Convert"
   ]
  },
  {
   "cell_type": "code",
   "execution_count": null,
   "metadata": {},
   "outputs": [],
   "source": [
    "#df_tvs = pd.read_csv(\"/media/kurubal/SSD/Data Scientist/Work/Modern Ways/Project/Web Scrapping/Data/All/etymwn.tsv\", sep=\"\\t\")\n",
    "#df_tvs.rename(columns={\"aaq: Pawanobskewi\":\"column_1\",\"rel:etymological_origin_of\":\"column_2\",\"eng: Penobscot\":\"column_3\"}, inplace=True)\n",
    "#df_tvs"
   ]
  },
  {
   "cell_type": "code",
   "execution_count": null,
   "metadata": {},
   "outputs": [],
   "source": [
    "#def low_func(x):\n",
    "#    try:\n",
    "#        var_out = x.lower()\n",
    "#    except:\n",
    "#        var_out = x\n",
    "#    return var_out "
   ]
  },
  {
   "cell_type": "code",
   "execution_count": null,
   "metadata": {},
   "outputs": [],
   "source": [
    "#def strip_func(x):\n",
    "#    try:\n",
    "#        var_out = x.strip()\n",
    "#    except:\n",
    "#        var_out = x\n",
    "#    return var_out "
   ]
  },
  {
   "cell_type": "code",
   "execution_count": null,
   "metadata": {},
   "outputs": [],
   "source": [
    "#df_col_1 = df_tvs[\"column_1\"].str.split(\":\", n=-1, expand=True)\n",
    "#df_col_1 = df_col_1.iloc[:,[0,1]]\n",
    "#df_col_1.rename(columns={0:\"lang\",1:\"term\"}, inplace=True)\n",
    "#df_col_2 = df_tvs[\"column_2\"].str.split(\":\", n=-1, expand=True)\n",
    "#df_col_2 = df_col_2.iloc[:,[1]]\n",
    "#df_col_2.rename(columns={1:\"reltype\"}, inplace=True)\n",
    "#df_col_3 = df_tvs[\"column_3\"].str.split(\":\", n=-1, expand=True)\n",
    "#df_col_3 = df_col_3.iloc[:,[0,1]]\n",
    "#df_col_3.rename(columns={0:\"related_lang\",1:\"related_term\"}, inplace=True)"
   ]
  },
  {
   "cell_type": "code",
   "execution_count": null,
   "metadata": {},
   "outputs": [],
   "source": [
    "#df_tvs_expand =  pd.concat([df_col_1,df_col_2,df_col_3], axis=1)\n",
    "#df_tvs_expand"
   ]
  },
  {
   "cell_type": "code",
   "execution_count": null,
   "metadata": {},
   "outputs": [],
   "source": [
    "#df_tvs_expand[\"lang\"] = df_tvs_expand[\"lang\"].apply(lambda x: low_func(x))\n",
    "#df_tvs_expand[\"lang\"] = df_tvs_expand[\"lang\"].apply(lambda x: strip_func(x))\n",
    "#df_tvs_expand[\"term\"] = df_tvs_expand[\"term\"].apply(lambda x: low_func(x))\n",
    "#df_tvs_expand[\"term\"] = df_tvs_expand[\"term\"].apply(lambda x: strip_func(x))\n",
    "#df_tvs_expand[\"reltype\"] = df_tvs_expand[\"reltype\"].apply(lambda x: low_func(x))\n",
    "#df_tvs_expand[\"reltype\"] = df_tvs_expand[\"reltype\"].apply(lambda x: strip_func(x))\n",
    "#df_tvs_expand[\"related_lang\"] = df_tvs_expand[\"related_lang\"].apply(lambda x: low_func(x))\n",
    "#df_tvs_expand[\"related_lang\"] = df_tvs_expand[\"related_lang\"].apply(lambda x: strip_func(x))\n",
    "#df_tvs_expand[\"related_term\"] = df_tvs_expand[\"related_term\"].apply(lambda x: low_func(x))\n",
    "#df_tvs_expand[\"related_term\"] = df_tvs_expand[\"related_term\"].apply(lambda x: strip_func(x))"
   ]
  },
  {
   "cell_type": "code",
   "execution_count": null,
   "metadata": {},
   "outputs": [],
   "source": [
    "#df_tvs_expand.to_csv(\"/media/kurubal/SSD/Data Scientist/Work/Modern Ways/Project/Web Scrapping/Data/All/etymwn.csv\", index=False)"
   ]
  },
  {
   "cell_type": "markdown",
   "metadata": {},
   "source": [
    "#### Read CSV File"
   ]
  },
  {
   "cell_type": "markdown",
   "metadata": {},
   "source": [
    "##### Part 1"
   ]
  },
  {
   "cell_type": "code",
   "execution_count": null,
   "metadata": {},
   "outputs": [],
   "source": [
    "df_etymology = pd.read_csv(\"/media/kurubal/SSD/Data Scientist/Work/Modern Ways/Project/Web Scrapping/Data/All/etymwn.csv\")\n",
    "df_etymology"
   ]
  },
  {
   "cell_type": "code",
   "execution_count": null,
   "metadata": {},
   "outputs": [],
   "source": [
    "lang_1 = \"tur\"  # tur, eng, fra, deu, por, spa, ita, nld, ara, rus\n",
    "lang_2 = \"eng\"  # tur, eng, fra, deu, por, spa, ita, nld, ara, rus\n",
    "\n",
    "if lang_1 == \"tur\":\n",
    "    lang_3 = \"Turkish\"\n",
    "elif lang_1 == \"eng\":\n",
    "    lang_3 = \"English\"\n",
    "elif lang_1 == \"fra\":\n",
    "    lang_3 = \"French\"\n",
    "elif lang_1 == \"deu\":\n",
    "    lang_3 = \"German\"\n",
    "elif lang_1 == \"por\":\n",
    "    lang_3 = \"Portuguese\"\n",
    "elif lang_1 == \"spa\":\n",
    "    lang_3 = \"Spanish\"\n",
    "elif lang_1 == \"ita\":\n",
    "    lang_3 = \"Italian\"\n",
    "elif lang_1 == \"nld\":\n",
    "    lang_3 = \"Dutch\"\n",
    "elif lang_1 == \"ara\":\n",
    "    lang_3 = \"Arabic\"\n",
    "elif lang_1 == \"rus\":\n",
    "    lang_3 = \"Russian\"\n",
    "else:\n",
    "    pass\n",
    "\n",
    "if lang_2 == \"tur\":\n",
    "    lang_4 = \"Turkish\"\n",
    "elif lang_2 == \"eng\":\n",
    "    lang_4 = \"English\"\n",
    "elif lang_2 == \"fra\":\n",
    "    lang_4 = \"French\"\n",
    "elif lang_2 == \"deu\":\n",
    "    lang_4 = \"German\"\n",
    "elif lang_2 == \"por\":\n",
    "    lang_4 = \"Portuguese\"\n",
    "elif lang_2 == \"spa\":\n",
    "    lang_4 = \"Spanish\"\n",
    "elif lang_2 == \"ita\":\n",
    "    lang_4 = \"Italian\"\n",
    "elif lang_2 == \"nld\":\n",
    "    lang_4 = \"Dutch\"\n",
    "elif lang_2 == \"ara\":\n",
    "    lang_4 = \"Arabic\"\n",
    "elif lang_2 == \"rus\":\n",
    "    lang_4 = \"Russian\"\n",
    "else:\n",
    "    pass\n",
    "\n",
    "print(f\"{lang_1}\\n{lang_2}\\n{lang_3}\\n{lang_4}\")"
   ]
  },
  {
   "cell_type": "code",
   "execution_count": null,
   "metadata": {},
   "outputs": [],
   "source": [
    "#Path(f\"/media/kurubal/SSD/Data Scientist/Work/Modern Ways/Project/Web Scrapping/Result/{lang_3.capitalize()}\").mkdir(parents=True, exist_ok=True) "
   ]
  },
  {
   "cell_type": "code",
   "execution_count": null,
   "metadata": {},
   "outputs": [],
   "source": [
    "df_lang1 = df_etymology[df_etymology.lang == f\"{lang_1.lower()}\"]\n",
    "df_lang1.reset_index(drop=True, inplace=True)\n",
    "df_lang1 = df_lang1[~(df_lang1[\"related_lang\"] == f\"{lang_1.lower()}\")]\n",
    "df_lang1 = df_lang1[~(df_lang1[\"related_lang\"] == f\"{lang_2.lower()}\")]\n",
    "df_lang1"
   ]
  },
  {
   "cell_type": "code",
   "execution_count": null,
   "metadata": {},
   "outputs": [],
   "source": [
    "df_lang2 = df_etymology[df_etymology.lang == f\"{lang_2.lower()}\"]\n",
    "df_lang2.reset_index(drop=True, inplace=True)\n",
    "df_lang2 = df_lang2[~(df_lang2[\"related_lang\"] == f\"{lang_1.lower()}\")]\n",
    "df_lang2 = df_lang2[~(df_lang2[\"related_lang\"] == f\"{lang_2.lower()}\")]\n",
    "df_lang2"
   ]
  },
  {
   "cell_type": "code",
   "execution_count": null,
   "metadata": {},
   "outputs": [],
   "source": [
    "df_lang1_lang2 = pd.merge(df_lang1,df_lang2,how=\"inner\",on=[\"related_lang\",\"related_term\"])\n",
    "df_lang1_lang2.drop_duplicates(inplace=True)\n",
    "df_lang1_lang2.reset_index(drop=True, inplace=True)\n",
    "df_lang1_lang2"
   ]
  },
  {
   "cell_type": "code",
   "execution_count": null,
   "metadata": {},
   "outputs": [],
   "source": [
    "df_lang1_lang2_result1 = df_lang1_lang2.loc[:,[\"term_x\",\"term_y\"]]\n",
    "df_lang1_lang2_result1.rename(columns={\"term_x\":\"dict_entry_main\",\"term_y\":f\"{lang_4.lower()}_word\"}, inplace=True)\n",
    "df_lang1_lang2_result1.reset_index(drop=True, inplace=True)\n",
    "df_lang1_lang2_result1"
   ]
  },
  {
   "cell_type": "markdown",
   "metadata": {},
   "source": [
    "##### Part 2"
   ]
  },
  {
   "cell_type": "code",
   "execution_count": null,
   "metadata": {},
   "outputs": [],
   "source": [
    "df_lang1_lang2_result2 = df_etymology[(df_etymology[\"lang\"] == f\"{lang_1.lower()}\") & (df_etymology[\"related_lang\"] == f\"{lang_2.lower()}\")]\n",
    "df_lang1_lang2_result2"
   ]
  },
  {
   "cell_type": "code",
   "execution_count": null,
   "metadata": {},
   "outputs": [],
   "source": [
    "df_lang1_lang2_result2 = df_lang1_lang2_result2.loc[:,[\"term\",\"related_term\"]]\n",
    "df_lang1_lang2_result2.rename(columns={\"term\":\"dict_entry_main\",\"related_term\":f\"{lang_4.lower()}_word\"}, inplace=True)\n",
    "df_lang1_lang2_result2.reset_index(drop=True, inplace=True)\n",
    "df_lang1_lang2_result2"
   ]
  },
  {
   "cell_type": "markdown",
   "metadata": {},
   "source": [
    "##### Concat Part 1 And Part 2"
   ]
  },
  {
   "cell_type": "code",
   "execution_count": null,
   "metadata": {},
   "outputs": [],
   "source": [
    "#df_part1_part2_concat = pd.concat([df_lang1_lang2_word_check,df_lang1_lang2_word_check2], axis=0)\n",
    "df_part1_part2_concat = pd.concat([df_lang1_lang2_result1,df_lang1_lang2_result2], axis=0)\n",
    "df_part1_part2_concat.drop_duplicates(inplace=True)\n",
    "df_part1_part2_concat.reset_index(drop=True, inplace=True)\n",
    "df_part1_part2_concat"
   ]
  },
  {
   "cell_type": "code",
   "execution_count": null,
   "metadata": {},
   "outputs": [],
   "source": [
    "df_part1_part2_concat.to_excel(f\"/media/kurubal/SSD/Data Scientist/Work/Modern Ways/Project/Web Scrapping/Result/{lang_3.capitalize()}/{lang_3.capitalize()}_And_{lang_4.capitalize()}_Etymologeek_Concat_Result2.xlsx\", index=False)"
   ]
  },
  {
   "cell_type": "code",
   "execution_count": null,
   "metadata": {},
   "outputs": [],
   "source": []
  },
  {
   "cell_type": "code",
   "execution_count": null,
   "metadata": {},
   "outputs": [],
   "source": []
  },
  {
   "cell_type": "code",
   "execution_count": null,
   "metadata": {},
   "outputs": [],
   "source": []
  },
  {
   "cell_type": "code",
   "execution_count": null,
   "metadata": {},
   "outputs": [],
   "source": []
  }
 ],
 "metadata": {
  "interpreter": {
   "hash": "651d507d70892fab0fc6529d935cd476f6e2eb1791525b76da6cc8da34bc0503"
  },
  "kernelspec": {
   "display_name": "Python 3.9.5 ('py39')",
   "language": "python",
   "name": "python3"
  },
  "language_info": {
   "codemirror_mode": {
    "name": "ipython",
    "version": 3
   },
   "file_extension": ".py",
   "mimetype": "text/x-python",
   "name": "python",
   "nbconvert_exporter": "python",
   "pygments_lexer": "ipython3",
   "version": "3.9.5"
  },
  "orig_nbformat": 4
 },
 "nbformat": 4,
 "nbformat_minor": 2
}
