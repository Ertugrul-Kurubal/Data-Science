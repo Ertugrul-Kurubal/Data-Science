{
 "cells": [
  {
   "cell_type": "markdown",
   "metadata": {},
   "source": [
    "### Etymology Concat Result Merge"
   ]
  },
  {
   "cell_type": "code",
   "execution_count": 1,
   "metadata": {},
   "outputs": [],
   "source": [
    "import pandas as pd\n",
    "import numpy as np\n",
    "import glob\n",
    "import re\n",
    "import nltk\n",
    "from nltk import word_tokenize\n",
    "from pathlib import Path\n",
    "import shutil"
   ]
  },
  {
   "cell_type": "code",
   "execution_count": null,
   "metadata": {},
   "outputs": [],
   "source": [
    "lang_1 = \"Turkish\"  # English, Turkish, German, French, Spanish, Arabic, Russian, Portuguese, Dutch, Italian \n",
    "lang_2 = \"English\"  # English, Turkish, German, French, Spanish, Arabic, Russian, Portuguese, Dutch, Italian\n",
    "\n",
    "if lang_2 == \"English\":\n",
    "    lang_3 = \"English (eng)\"\n",
    "elif lang_2 == \"Turkish\":\n",
    "    lang_3 = \"Turkish (tur)\"\n",
    "elif lang_2 == \"German\":\n",
    "    lang_3 = \"German (deu)\"\n",
    "elif lang_2 == \"French\":\n",
    "    lang_3 = \"French (fra)\"\n",
    "elif lang_2 == \"Spanish\":\n",
    "    lang_3 = \"Spanish (spa)\"\n",
    "elif lang_2 == \"Arabic\":\n",
    "    lang_3 = \"Arabic (ara)\"\n",
    "elif lang_2 == \"Russian\":\n",
    "    lang_3 = \"Russian (rus)\"\n",
    "elif lang_2 == \"Portuguese\":\n",
    "    lang_3 = \"Portuguese (por)\"\n",
    "elif lang_2 == \"Dutch\":\n",
    "    lang_3 = \"Dutch (nld)\"\n",
    "elif lang_2 == \"Italian\":\n",
    "    lang_3 = \"Italian (ita)\"\n",
    "else:\n",
    "    pass\n",
    "\n",
    "print(f\"{lang_1}\\n{lang_2}\\n{lang_3}\")"
   ]
  },
  {
   "cell_type": "code",
   "execution_count": null,
   "metadata": {},
   "outputs": [],
   "source": [
    "df_concat1 = pd.read_excel(f\"/media/kurubal/SSD/Data Scientist/Work/Modern Ways/Project/Web Scrapping/Result/{lang_1.capitalize()}/{lang_1.capitalize()}_And_{lang_2.capitalize()}_Etymologeek_Concat_Result1.xlsx\")\n",
    "df_concat1"
   ]
  },
  {
   "cell_type": "code",
   "execution_count": null,
   "metadata": {},
   "outputs": [],
   "source": [
    "df_concat2 = pd.read_excel(f\"/media/kurubal/SSD/Data Scientist/Work/Modern Ways/Project/Web Scrapping/Result/{lang_1.capitalize()}/{lang_1.capitalize()}_And_{lang_2.capitalize()}_Etymologeek_Concat_Result2.xlsx\")\n",
    "df_concat2"
   ]
  },
  {
   "cell_type": "code",
   "execution_count": null,
   "metadata": {},
   "outputs": [],
   "source": [
    "df_merge_result = pd.concat([df_concat1,df_concat1], axis=0)\n",
    "df_merge_result.drop_duplicates(inplace=True)\n",
    "df_merge_result.reset_index(drop=True, inplace=True)\n",
    "df_merge_result"
   ]
  },
  {
   "cell_type": "code",
   "execution_count": null,
   "metadata": {},
   "outputs": [],
   "source": [
    "df_merge_result.to_excel(f\"/media/kurubal/SSD/Data Scientist/Work/Modern Ways/Project/Web Scrapping/Result/{lang_1.capitalize()}/{lang_1.capitalize()}_And_{lang_3.capitalize()}_Etymologeek_Result_All.xlsx\", index=False)"
   ]
  },
  {
   "cell_type": "code",
   "execution_count": null,
   "metadata": {},
   "outputs": [],
   "source": []
  }
 ],
 "metadata": {
  "interpreter": {
   "hash": "651d507d70892fab0fc6529d935cd476f6e2eb1791525b76da6cc8da34bc0503"
  },
  "kernelspec": {
   "display_name": "Python 3.9.5 ('py39')",
   "language": "python",
   "name": "python3"
  },
  "language_info": {
   "codemirror_mode": {
    "name": "ipython",
    "version": 3
   },
   "file_extension": ".py",
   "mimetype": "text/x-python",
   "name": "python",
   "nbconvert_exporter": "python",
   "pygments_lexer": "ipython3",
   "version": "3.9.5"
  },
  "orig_nbformat": 4
 },
 "nbformat": 4,
 "nbformat_minor": 2
}
