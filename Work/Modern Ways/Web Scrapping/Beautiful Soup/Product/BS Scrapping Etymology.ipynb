{
 "cells": [
  {
   "cell_type": "markdown",
   "metadata": {},
   "source": [
    "### Etymology"
   ]
  },
  {
   "cell_type": "code",
   "execution_count": null,
   "metadata": {},
   "outputs": [],
   "source": [
    "import pandas as pd\n",
    "from urllib.request import urlopen\n",
    "from bs4 import BeautifulSoup\n",
    "from json2html import *\n",
    "import re\n",
    "import requests\n",
    "from urllib.request import Request, urlopen\n",
    "from urllib import parse"
   ]
  },
  {
   "cell_type": "code",
   "execution_count": null,
   "metadata": {},
   "outputs": [],
   "source": [
    "response = requests.get(\"https://etymologeek.com/search/all/algebra\")\n",
    "response"
   ]
  },
  {
   "cell_type": "code",
   "execution_count": null,
   "metadata": {},
   "outputs": [],
   "source": [
    "soup = BeautifulSoup(response.content, 'lxml')"
   ]
  },
  {
   "cell_type": "code",
   "execution_count": null,
   "metadata": {},
   "outputs": [],
   "source": [
    "word = soup.find('tbody', attrs={\"id\":\"tb\"})\n",
    "word"
   ]
  },
  {
   "cell_type": "code",
   "execution_count": null,
   "metadata": {},
   "outputs": [],
   "source": [
    "dict_word = word.findAll('td', attrs={\"data-th\":\"Dic. entry\"})\n",
    "dict_word"
   ]
  },
  {
   "cell_type": "code",
   "execution_count": null,
   "metadata": {},
   "outputs": [],
   "source": [
    "lang = word.findAll('td', attrs={\"data-th\":\"Language\"})\n",
    "lang"
   ]
  },
  {
   "cell_type": "code",
   "execution_count": null,
   "metadata": {},
   "outputs": [],
   "source": [
    "definition = word.findAll('td', attrs={\"data-th\":\"Definition\"})\n",
    "definition"
   ]
  },
  {
   "cell_type": "code",
   "execution_count": null,
   "metadata": {},
   "outputs": [],
   "source": [
    "a_href = word.findAll('td', attrs={\"data-th\":\"Dic. entry\"})\n",
    "a_href"
   ]
  },
  {
   "cell_type": "code",
   "execution_count": null,
   "metadata": {},
   "outputs": [],
   "source": [
    "iter_values = zip(dict_word, lang, definition, a_href)"
   ]
  },
  {
   "cell_type": "code",
   "execution_count": null,
   "metadata": {},
   "outputs": [],
   "source": [
    "result_list = []\n",
    "for i, j, k, m in iter_values:\n",
    "    var1 = i.string\n",
    "    var2 = j.string\n",
    "    var3 = k.string\n",
    "    var4 = m.find('a').get('href')\n",
    "    result_list.append([var1,var2,var3, var4])"
   ]
  },
  {
   "cell_type": "code",
   "execution_count": null,
   "metadata": {},
   "outputs": [],
   "source": [
    "pd.DataFrame(result_list)"
   ]
  },
  {
   "cell_type": "code",
   "execution_count": null,
   "metadata": {},
   "outputs": [],
   "source": []
  },
  {
   "cell_type": "markdown",
   "metadata": {},
   "source": [
    "#### For Loop"
   ]
  },
  {
   "cell_type": "code",
   "execution_count": null,
   "metadata": {},
   "outputs": [],
   "source": [
    "import pandas as pd\n",
    "import numpy as np\n",
    "import nltk\n",
    "from nltk.stem import WordNetLemmatizer\n",
    "from urllib.request import urlopen\n",
    "from bs4 import BeautifulSoup\n",
    "from json2html import *\n",
    "import re\n",
    "import requests\n",
    "from urllib.request import Request, urlopen\n",
    "from urllib import parse\n",
    "nltk.download('wordnet')\n",
    "nltk.download('omw-1.4')"
   ]
  },
  {
   "cell_type": "code",
   "execution_count": null,
   "metadata": {},
   "outputs": [],
   "source": [
    "df_word = pd.read_excel(\"/media/kurubal/SSD/Data Scientist/Work/Modern Ways/Project/English/Result/Word/Merge/Word_Merge2.xlsx\")\n",
    "df_word = df_word.head(10000)\n",
    "df_word"
   ]
  },
  {
   "cell_type": "code",
   "execution_count": null,
   "metadata": {},
   "outputs": [],
   "source": [
    "word_lemma = []\n",
    "for word in df_word[\"word\"]:\n",
    "    word_lemma.append(WordNetLemmatizer().lemmatize(word))\n",
    "    word_unique = set(word_lemma)"
   ]
  },
  {
   "cell_type": "code",
   "execution_count": null,
   "metadata": {},
   "outputs": [],
   "source": [
    "len(word_lemma)"
   ]
  },
  {
   "cell_type": "code",
   "execution_count": null,
   "metadata": {},
   "outputs": [],
   "source": [
    "len(word_unique)"
   ]
  },
  {
   "cell_type": "code",
   "execution_count": null,
   "metadata": {},
   "outputs": [],
   "source": [
    "result_list = []\n",
    "for i in word_unique:\n",
    "#for i in word_list:\n",
    "    try:\n",
    "        response = requests.get(f\"https://etymologeek.com/search/all/{i}\")\n",
    "        soup = BeautifulSoup(response.content, 'lxml')\n",
    "        word = soup.find('tbody', attrs={\"id\":\"tb\"})\n",
    "        dict_word = word.findAll('td', attrs={\"data-th\":\"Dic. entry\"})\n",
    "        lang = word.findAll('td', attrs={\"data-th\":\"Language\"})\n",
    "        definition = word.findAll('td', attrs={\"data-th\":\"Definition\"})\n",
    "        a_href = word.findAll('td', attrs={\"data-th\":\"Dic. entry\"})\n",
    "        iter_values = zip(dict_word, lang, definition, a_href)\n",
    "        for a, b, c, d in iter_values:\n",
    "            var1 = a.get_text()\n",
    "            var2 = b.get_text()  # string\n",
    "            var3 = c.get_text()  # string\n",
    "            var4 = d.find('a').get('href')\n",
    "            var5 = f\"https://etymologeek.com{var4}\"\n",
    "            result_list.append([i, var1, var2, var3, var5])\n",
    "    except:\n",
    "        pass\n",
    "\n",
    "df_result = pd.DataFrame(result_list)\n",
    "df_result.rename(columns={0:\"search_word\", 1:\"dict_entry\", 2:\"language\", 3:\"definition\", 4:\"href\"}, inplace=True)\n",
    "df_result"
   ]
  },
  {
   "cell_type": "code",
   "execution_count": null,
   "metadata": {},
   "outputs": [],
   "source": [
    "df_result.to_excel(\"English_Etymologeek_Main_Result.xlsx\", index=False)"
   ]
  },
  {
   "cell_type": "code",
   "execution_count": null,
   "metadata": {},
   "outputs": [],
   "source": []
  },
  {
   "cell_type": "code",
   "execution_count": null,
   "metadata": {},
   "outputs": [],
   "source": [
    "df_main_word = pd.read_excel(\"English_Etymologeek_Main_Result.xlsx\")\n",
    "df_main_word"
   ]
  },
  {
   "cell_type": "code",
   "execution_count": null,
   "metadata": {},
   "outputs": [],
   "source": [
    "df_main_word.search_word.nunique()"
   ]
  },
  {
   "cell_type": "code",
   "execution_count": null,
   "metadata": {},
   "outputs": [],
   "source": [
    "df_main_word.language.nunique()"
   ]
  },
  {
   "cell_type": "code",
   "execution_count": null,
   "metadata": {},
   "outputs": [],
   "source": [
    "search_word = df_main_word[\"search_word\"].to_list()\n",
    "dict_entry_main = df_main_word[\"dict_entry\"].to_list()\n",
    "language_main = df_main_word[\"language\"].to_list()\n",
    "definition_main = df_main_word[\"definition\"].to_list()\t\n",
    "href_url = df_main_word[\"href\"].to_list()\n",
    "main_iter_values = zip(search_word, dict_entry_main, language_main, definition_main, href_url)\n",
    "result_list2 = []\n",
    "for search, dict_ent, lang_main, def_main, href in main_iter_values:\n",
    "    try:\n",
    "        response = requests.get(f\"{href}\")\n",
    "        soup = BeautifulSoup(response.content, 'lxml')\n",
    "        word = soup.find('tbody', attrs={\"id\":\"tb\"})\n",
    "        dict_entry = word.findAll('td', attrs={\"data-th\":\"Dic. entry\"})\n",
    "        lang = word.findAll('td', attrs={\"data-th\":\"Language\"})\n",
    "        definition = word.findAll('td', attrs={\"data-th\":\"Definition\"})\n",
    "        iter_values = zip(dict_entry, lang, definition)\n",
    "        for a, b, c in iter_values:\n",
    "            var1 = a.get_text()\n",
    "            var2 = b.get_text()\n",
    "            var3 = c.get_text()\n",
    "            result_list2.append([search, dict_ent, lang_main, def_main, var1, var2, var3])\n",
    "    except:\n",
    "        pass\n",
    "\n",
    "df_result2 = pd.DataFrame(result_list2)\n",
    "df_result2.rename(columns={0:\"search_word\", 1:\"dict_entry_main\", 2:\"language_main\", 3:\"definition_main\", 4:\"dict_entry\", 5:\"language\", 6:\"definition\"}, inplace=True)\n",
    "df_result2"
   ]
  },
  {
   "cell_type": "code",
   "execution_count": null,
   "metadata": {},
   "outputs": [],
   "source": [
    "df_result2.language_main = df_result2.language_main.apply(lambda x: x.strip())\n",
    "df_result2.language = df_result2.language.apply(lambda x: x.strip())"
   ]
  },
  {
   "cell_type": "code",
   "execution_count": null,
   "metadata": {},
   "outputs": [],
   "source": [
    "df_result2.language_main.unique()"
   ]
  },
  {
   "cell_type": "code",
   "execution_count": null,
   "metadata": {},
   "outputs": [],
   "source": [
    "df_result2.language.unique()"
   ]
  },
  {
   "cell_type": "code",
   "execution_count": null,
   "metadata": {},
   "outputs": [],
   "source": [
    "df_result2.to_excel(\"English_Etymologeek_Main_And_Additional_Result.xlsx\", index=False)"
   ]
  },
  {
   "cell_type": "code",
   "execution_count": null,
   "metadata": {},
   "outputs": [],
   "source": [
    "df_lang_pair = df_result2[(df_result2[\"language_main\"] == \"English\") & (df_result2[\"language\"] == \"French (fra)\")]\n",
    "df_lang_pair"
   ]
  },
  {
   "cell_type": "code",
   "execution_count": null,
   "metadata": {},
   "outputs": [],
   "source": [
    "df_lang_pair.to_excel(\"English_And_French_Etymologeek_Result.xlsx\", index=False)"
   ]
  }
 ],
 "metadata": {
  "interpreter": {
   "hash": "651d507d70892fab0fc6529d935cd476f6e2eb1791525b76da6cc8da34bc0503"
  },
  "kernelspec": {
   "display_name": "Python 3.9.5 ('py39')",
   "language": "python",
   "name": "python3"
  },
  "language_info": {
   "name": "python",
   "version": "3.9.5"
  },
  "orig_nbformat": 4
 },
 "nbformat": 4,
 "nbformat_minor": 2
}
