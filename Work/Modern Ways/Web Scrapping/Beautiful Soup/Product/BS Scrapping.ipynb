{
 "cells": [
  {
   "cell_type": "markdown",
   "metadata": {},
   "source": [
    "### Web Scrapping"
   ]
  },
  {
   "cell_type": "code",
   "execution_count": null,
   "metadata": {},
   "outputs": [],
   "source": [
    "# !pip install --upgrade pip\n",
    "# !pip install beautifulsoup4 --upgrade\n",
    "# pip install lxml\n",
    "# pip install html5lib"
   ]
  },
  {
   "cell_type": "code",
   "execution_count": 1,
   "metadata": {},
   "outputs": [],
   "source": [
    "import pandas as pd\n",
    "from urllib.request import urlopen\n",
    "from bs4 import BeautifulSoup\n",
    "from json2html import *\n",
    "import re\n",
    "import requests\n",
    "from urllib.request import Request, urlopen\n",
    "from urllib import parse\n",
    "import glob"
   ]
  },
  {
   "cell_type": "markdown",
   "metadata": {},
   "source": [
    "#### External HTML File From Browser Element Section "
   ]
  },
  {
   "cell_type": "code",
   "execution_count": 202,
   "metadata": {},
   "outputs": [],
   "source": [
    "lang = \"bangla\"  # indonesian, turkish, russian, english, urdu, hindi, bangla\n",
    "surah = \"al jaathiya\"  # al faatiha, al baqara, aal i imraan ...\n",
    "folder = f\"{surah}-45\"  # al faatiha-1, al baqara-2, aal i imraan-3 ...\n",
    "file = f\"{surah.lower()}_{lang.lower()}\""
   ]
  },
  {
   "cell_type": "code",
   "execution_count": 203,
   "metadata": {},
   "outputs": [
    {
     "data": {
      "text/html": [
       "<div>\n",
       "<style scoped>\n",
       "    .dataframe tbody tr th:only-of-type {\n",
       "        vertical-align: middle;\n",
       "    }\n",
       "\n",
       "    .dataframe tbody tr th {\n",
       "        vertical-align: top;\n",
       "    }\n",
       "\n",
       "    .dataframe thead th {\n",
       "        text-align: right;\n",
       "    }\n",
       "</style>\n",
       "<table border=\"1\" class=\"dataframe\">\n",
       "  <thead>\n",
       "    <tr style=\"text-align: right;\">\n",
       "      <th></th>\n",
       "      <th>arabic</th>\n",
       "      <th>transliterate</th>\n",
       "      <th>translate_bangla</th>\n",
       "    </tr>\n",
       "  </thead>\n",
       "  <tbody>\n",
       "    <tr>\n",
       "      <th>0</th>\n",
       "      <td>حمٓ</td>\n",
       "      <td>ha-meem</td>\n",
       "      <td>হা-মীম</td>\n",
       "    </tr>\n",
       "    <tr>\n",
       "      <th>1</th>\n",
       "      <td>تَنزِيلُ</td>\n",
       "      <td>tanzilu</td>\n",
       "      <td>অবতীর্ণ করা</td>\n",
       "    </tr>\n",
       "    <tr>\n",
       "      <th>2</th>\n",
       "      <td>ٱلۡكِتَٰبِ</td>\n",
       "      <td>al-kitabi</td>\n",
       "      <td>এই কিতাব</td>\n",
       "    </tr>\n",
       "    <tr>\n",
       "      <th>3</th>\n",
       "      <td>مِنَ</td>\n",
       "      <td>mina</td>\n",
       "      <td>পক্ষ হতে</td>\n",
       "    </tr>\n",
       "    <tr>\n",
       "      <th>4</th>\n",
       "      <td>ٱللَّهِ</td>\n",
       "      <td>al-lahi</td>\n",
       "      <td>আল্লাহর</td>\n",
       "    </tr>\n",
       "    <tr>\n",
       "      <th>...</th>\n",
       "      <td>...</td>\n",
       "      <td>...</td>\n",
       "      <td>...</td>\n",
       "    </tr>\n",
       "    <tr>\n",
       "      <th>483</th>\n",
       "      <td>ٱلسَّمَٰوَٰتِ</td>\n",
       "      <td>al-samawati</td>\n",
       "      <td>আকাশের</td>\n",
       "    </tr>\n",
       "    <tr>\n",
       "      <th>484</th>\n",
       "      <td>وَٱلۡأَرۡضِۖ</td>\n",
       "      <td>wal-ardi</td>\n",
       "      <td>এবং পৃথিবীর</td>\n",
       "    </tr>\n",
       "    <tr>\n",
       "      <th>485</th>\n",
       "      <td>وَهُوَ</td>\n",
       "      <td>wahuwa</td>\n",
       "      <td>এবং তিনিই</td>\n",
       "    </tr>\n",
       "    <tr>\n",
       "      <th>486</th>\n",
       "      <td>ٱلۡعَزِيزُ</td>\n",
       "      <td>al-'azizu</td>\n",
       "      <td>পরাক্রমশালী</td>\n",
       "    </tr>\n",
       "    <tr>\n",
       "      <th>487</th>\n",
       "      <td>ٱلۡحَكِيمُ</td>\n",
       "      <td>al-hakimu</td>\n",
       "      <td>প্রজ্ঞাময়</td>\n",
       "    </tr>\n",
       "  </tbody>\n",
       "</table>\n",
       "<p>488 rows × 3 columns</p>\n",
       "</div>"
      ],
      "text/plain": [
       "            arabic transliterate translate_bangla\n",
       "0              حمٓ       ha-meem           হা-মীম\n",
       "1         تَنزِيلُ       tanzilu      অবতীর্ণ করা\n",
       "2       ٱلۡكِتَٰبِ     al-kitabi         এই কিতাব\n",
       "3             مِنَ          mina         পক্ষ হতে\n",
       "4          ٱللَّهِ       al-lahi          আল্লাহর\n",
       "..             ...           ...              ...\n",
       "483  ٱلسَّمَٰوَٰتِ   al-samawati           আকাশের\n",
       "484   وَٱلۡأَرۡضِۖ      wal-ardi      এবং পৃথিবীর\n",
       "485         وَهُوَ        wahuwa        এবং তিনিই\n",
       "486     ٱلۡعَزِيزُ     al-'azizu      পরাক্রমশালী\n",
       "487     ٱلۡحَكِيمُ     al-hakimu       প্রজ্ঞাময়\n",
       "\n",
       "[488 rows x 3 columns]"
      ]
     },
     "execution_count": 203,
     "metadata": {},
     "output_type": "execute_result"
    }
   ],
   "source": [
    "HTMLFile = open(f\"/media/kurubal/SSD/Data Scientist/Work/Modern Ways/Project/Arabic/Quaran/Web Scrapping/Data/{folder.lower().capitalize()}/{file.lower()}.html\", \"r\") # ayahs-block\n",
    "\n",
    "content = HTMLFile.read()\n",
    "\n",
    "soup = BeautifulSoup(content, 'lxml')\n",
    "\n",
    "ayah_word = soup.findAll('span', attrs={\"class\":\"single-word\"})\n",
    "\n",
    "word_list = []\n",
    "for word in ayah_word:\n",
    "    var1 = word.find('span', attrs={\"class\":\"word-arabic word-arabic-uthmani-hafs\"})\n",
    "    #try:\n",
    "    #    #arabic = var1.get_text()\n",
    "    #    arabic = var1.string\n",
    "    #except:\n",
    "    #    arabic = \"\"\n",
    "    #arabic = var1.get_text()\n",
    "    arabic = var1.string\n",
    "    var2 = word.find('span', attrs={\"class\":\"word-transliteration\"})\n",
    "    transliterate = var2.string\n",
    "    var3 = word.find('span', attrs={\"class\":\"word-translation\"})\n",
    "    translate = var3.string\n",
    "    word_list.append((arabic, transliterate, translate))\n",
    "\n",
    "df_word_list = pd.DataFrame(word_list)\n",
    "df_word_list.rename(columns={0:\"arabic\", 1:\"transliterate\", 2:f\"translate_{lang.lower()}\"}, inplace=True)\n",
    "df_word_list"
   ]
  },
  {
   "cell_type": "code",
   "execution_count": 204,
   "metadata": {},
   "outputs": [],
   "source": [
    "df_word_list.to_excel(f\"{surah.lower().capitalize()}_Arabic_Transliterate_Translate_Words_{lang.lower().capitalize()}.xlsx\", index=False)"
   ]
  },
  {
   "cell_type": "code",
   "execution_count": null,
   "metadata": {},
   "outputs": [],
   "source": []
  },
  {
   "cell_type": "markdown",
   "metadata": {},
   "source": [
    "#### Merge Word All Translate"
   ]
  },
  {
   "cell_type": "code",
   "execution_count": 205,
   "metadata": {},
   "outputs": [
    {
     "data": {
      "text/plain": [
       "['Al jaathiya_Arabic_Transliterate_Translate_Words_Indonesian.xlsx',\n",
       " 'Al jaathiya_Arabic_Transliterate_Translate_Words_Turkish.xlsx',\n",
       " 'Al jaathiya_Arabic_Transliterate_Translate_Words_Russian.xlsx',\n",
       " 'Al jaathiya_Arabic_Transliterate_Translate_Words_English.xlsx',\n",
       " 'Al jaathiya_Arabic_Transliterate_Translate_Words_Urdu.xlsx',\n",
       " 'Al jaathiya_Arabic_Transliterate_Translate_Words_Hindi.xlsx',\n",
       " 'Al jaathiya_Arabic_Transliterate_Translate_Words_Bangla.xlsx']"
      ]
     },
     "execution_count": 205,
     "metadata": {},
     "output_type": "execute_result"
    }
   ],
   "source": [
    "all_trans_file = glob.glob(f\"{surah.lower().capitalize()}*\")\n",
    "all_trans_file"
   ]
  },
  {
   "cell_type": "code",
   "execution_count": 206,
   "metadata": {},
   "outputs": [
    {
     "data": {
      "text/html": [
       "<div>\n",
       "<style scoped>\n",
       "    .dataframe tbody tr th:only-of-type {\n",
       "        vertical-align: middle;\n",
       "    }\n",
       "\n",
       "    .dataframe tbody tr th {\n",
       "        vertical-align: top;\n",
       "    }\n",
       "\n",
       "    .dataframe thead th {\n",
       "        text-align: right;\n",
       "    }\n",
       "</style>\n",
       "<table border=\"1\" class=\"dataframe\">\n",
       "  <thead>\n",
       "    <tr style=\"text-align: right;\">\n",
       "      <th></th>\n",
       "      <th>arabic</th>\n",
       "      <th>transliterate</th>\n",
       "      <th>translate_english</th>\n",
       "      <th>translate_urdu</th>\n",
       "      <th>translate_hindi</th>\n",
       "      <th>translate_indonesian</th>\n",
       "      <th>translate_bangla</th>\n",
       "      <th>translate_turkish</th>\n",
       "      <th>translate_russian</th>\n",
       "    </tr>\n",
       "  </thead>\n",
       "  <tbody>\n",
       "    <tr>\n",
       "      <th>0</th>\n",
       "      <td>حمٓ</td>\n",
       "      <td>ha-meem</td>\n",
       "      <td>Ha Meem</td>\n",
       "      <td>ها ميم</td>\n",
       "      <td>ح م</td>\n",
       "      <td>Haa miim</td>\n",
       "      <td>হা-মীম</td>\n",
       "      <td>Hâ Mîm</td>\n",
       "      <td>Ха мим</td>\n",
       "    </tr>\n",
       "    <tr>\n",
       "      <th>1</th>\n",
       "      <td>تَنزِيلُ</td>\n",
       "      <td>tanzilu</td>\n",
       "      <td>(The) revelation</td>\n",
       "      <td>نازل کرتا ہے</td>\n",
       "      <td>नाज़िल करना है</td>\n",
       "      <td>turunnya</td>\n",
       "      <td>অবতীর্ণ করা</td>\n",
       "      <td>indirilmesi</td>\n",
       "      <td>Ниспослание</td>\n",
       "    </tr>\n",
       "    <tr>\n",
       "      <th>2</th>\n",
       "      <td>ٱلۡكِتَٰبِ</td>\n",
       "      <td>al-kitabi</td>\n",
       "      <td>(of) the Book</td>\n",
       "      <td>کتاب کا</td>\n",
       "      <td>किताब का</td>\n",
       "      <td>kitab</td>\n",
       "      <td>এই কিতাব</td>\n",
       "      <td>Kitabın</td>\n",
       "      <td>Книги</td>\n",
       "    </tr>\n",
       "    <tr>\n",
       "      <th>3</th>\n",
       "      <td>مِنَ</td>\n",
       "      <td>mina</td>\n",
       "      <td>(is) from</td>\n",
       "      <td>طرف</td>\n",
       "      <td>*</td>\n",
       "      <td>dari</td>\n",
       "      <td>পক্ষ হতে</td>\n",
       "      <td>(tarafın)dandır</td>\n",
       "      <td>от</td>\n",
       "    </tr>\n",
       "    <tr>\n",
       "      <th>4</th>\n",
       "      <td>ٱللَّهِ</td>\n",
       "      <td>al-lahi</td>\n",
       "      <td>Allah</td>\n",
       "      <td>اللہ کی</td>\n",
       "      <td>अल्लाह की तरफ़ से</td>\n",
       "      <td>Allah</td>\n",
       "      <td>আল্লাহর</td>\n",
       "      <td>Allah</td>\n",
       "      <td>Аллаха</td>\n",
       "    </tr>\n",
       "    <tr>\n",
       "      <th>...</th>\n",
       "      <td>...</td>\n",
       "      <td>...</td>\n",
       "      <td>...</td>\n",
       "      <td>...</td>\n",
       "      <td>...</td>\n",
       "      <td>...</td>\n",
       "      <td>...</td>\n",
       "      <td>...</td>\n",
       "      <td>...</td>\n",
       "    </tr>\n",
       "    <tr>\n",
       "      <th>483</th>\n",
       "      <td>ٱلسَّمَٰوَٰتِ</td>\n",
       "      <td>al-samawati</td>\n",
       "      <td>the heavens</td>\n",
       "      <td>آسمانوں</td>\n",
       "      <td>आसमानों में</td>\n",
       "      <td>langit(jamak)</td>\n",
       "      <td>আকাশের</td>\n",
       "      <td>*</td>\n",
       "      <td>небесах</td>\n",
       "    </tr>\n",
       "    <tr>\n",
       "      <th>484</th>\n",
       "      <td>وَٱلۡأَرۡضِۖ</td>\n",
       "      <td>wal-ardi</td>\n",
       "      <td>and the earth</td>\n",
       "      <td>اور زمین میں</td>\n",
       "      <td>और ज़मीन में</td>\n",
       "      <td>dan bumi</td>\n",
       "      <td>এবং পৃথিবীর</td>\n",
       "      <td>ve yerde</td>\n",
       "      <td>и (на) земле</td>\n",
       "    </tr>\n",
       "    <tr>\n",
       "      <th>485</th>\n",
       "      <td>وَهُوَ</td>\n",
       "      <td>wahuwa</td>\n",
       "      <td>and He</td>\n",
       "      <td>اور وہ</td>\n",
       "      <td>और वो</td>\n",
       "      <td>dan Dia</td>\n",
       "      <td>এবং তিনিই</td>\n",
       "      <td>ve O</td>\n",
       "      <td>и Он</td>\n",
       "    </tr>\n",
       "    <tr>\n",
       "      <th>486</th>\n",
       "      <td>ٱلۡعَزِيزُ</td>\n",
       "      <td>al-'azizu</td>\n",
       "      <td>(is) the All-Mighty</td>\n",
       "      <td>غالب ہے،</td>\n",
       "      <td>बहुत ज़बरदस्त है</td>\n",
       "      <td>Maha Perkasa</td>\n",
       "      <td>পরাক্রমশালী</td>\n",
       "      <td>azizdir</td>\n",
       "      <td>Величественный</td>\n",
       "    </tr>\n",
       "    <tr>\n",
       "      <th>487</th>\n",
       "      <td>ٱلۡحَكِيمُ</td>\n",
       "      <td>al-hakimu</td>\n",
       "      <td>the All-Wise</td>\n",
       "      <td>حکمت والا ہے</td>\n",
       "      <td>ख़ूब हिकमत वाला है</td>\n",
       "      <td>Maha Bijaksana</td>\n",
       "      <td>প্রজ্ঞাময়</td>\n",
       "      <td>hakimdir</td>\n",
       "      <td>Мудрый</td>\n",
       "    </tr>\n",
       "  </tbody>\n",
       "</table>\n",
       "<p>488 rows × 9 columns</p>\n",
       "</div>"
      ],
      "text/plain": [
       "            arabic transliterate    translate_english translate_urdu  \\\n",
       "0              حمٓ       ha-meem              Ha Meem         ها ميم   \n",
       "1         تَنزِيلُ       tanzilu     (The) revelation   نازل کرتا ہے   \n",
       "2       ٱلۡكِتَٰبِ     al-kitabi        (of) the Book        کتاب کا   \n",
       "3             مِنَ          mina            (is) from            طرف   \n",
       "4          ٱللَّهِ       al-lahi                Allah        اللہ کی   \n",
       "..             ...           ...                  ...            ...   \n",
       "483  ٱلسَّمَٰوَٰتِ   al-samawati          the heavens        آسمانوں   \n",
       "484   وَٱلۡأَرۡضِۖ      wal-ardi        and the earth   اور زمین میں   \n",
       "485         وَهُوَ        wahuwa               and He         اور وہ   \n",
       "486     ٱلۡعَزِيزُ     al-'azizu  (is) the All-Mighty       غالب ہے،   \n",
       "487     ٱلۡحَكِيمُ     al-hakimu         the All-Wise   حکمت والا ہے   \n",
       "\n",
       "        translate_hindi translate_indonesian translate_bangla  \\\n",
       "0                  ح م              Haa miim           হা-মীম   \n",
       "1        नाज़िल करना है             turunnya      অবতীর্ণ করা   \n",
       "2             किताब का                 kitab         এই কিতাব   \n",
       "3                     *                 dari         পক্ষ হতে   \n",
       "4    अल्लाह की तरफ़ से                 Allah          আল্লাহর   \n",
       "..                  ...                  ...              ...   \n",
       "483         आसमानों में        langit(jamak)           আকাশের   \n",
       "484       और ज़मीन में              dan bumi      এবং পৃথিবীর   \n",
       "485              और वो               dan Dia        এবং তিনিই   \n",
       "486   बहुत ज़बरदस्त है          Maha Perkasa      পরাক্রমশালী   \n",
       "487  ख़ूब हिकमत वाला है       Maha Bijaksana       প্রজ্ঞাময়   \n",
       "\n",
       "    translate_turkish translate_russian  \n",
       "0              Hâ Mîm            Ха мим  \n",
       "1         indirilmesi       Ниспослание  \n",
       "2             Kitabın             Книги  \n",
       "3     (tarafın)dandır                от  \n",
       "4               Allah            Аллаха  \n",
       "..                ...               ...  \n",
       "483                 *           небесах  \n",
       "484          ve yerde      и (на) земле  \n",
       "485              ve O              и Он  \n",
       "486           azizdir    Величественный  \n",
       "487          hakimdir            Мудрый  \n",
       "\n",
       "[488 rows x 9 columns]"
      ]
     },
     "execution_count": 206,
     "metadata": {},
     "output_type": "execute_result"
    }
   ],
   "source": [
    "df_master = pd.read_excel(all_trans_file[0])\n",
    "for i in all_trans_file[1:]:\n",
    "    df_var = pd.read_excel(f\"{i}\")\n",
    "    #df_master = pd.merge(df_master, df_var, how=\"left\", on=[\"arabic\",\"transliterate\"])\n",
    "    df_master = pd.concat([df_master,df_var.iloc[:,2]], axis=1)\n",
    "    #df_master = df_master.join(df_var, how=\"left\", lsuffix=[\"arabic\",\"transliterate\"],rsuffix=[\"arabic\",\"transliterate\"])\n",
    "    #df_master.drop_duplicates(inplace=True)\n",
    "    df_master.reset_index(drop=True, inplace=True)\n",
    "df_master = df_master[[\"arabic\",\"transliterate\",\"translate_english\",\"translate_urdu\",\"translate_hindi\",\"translate_indonesian\",\"translate_bangla\",\"translate_turkish\",\"translate_russian\"]]\n",
    "df_master"
   ]
  },
  {
   "cell_type": "code",
   "execution_count": 207,
   "metadata": {},
   "outputs": [],
   "source": [
    "df_master.to_excel(f\"{surah.lower().capitalize()}_Arabic_Transliterate_Translate_Words_Languages_Concat.xlsx\", index=False)"
   ]
  },
  {
   "cell_type": "code",
   "execution_count": null,
   "metadata": {},
   "outputs": [],
   "source": []
  },
  {
   "cell_type": "markdown",
   "metadata": {},
   "source": [
    "#### Merge Surah All Translate"
   ]
  },
  {
   "cell_type": "code",
   "execution_count": null,
   "metadata": {},
   "outputs": [],
   "source": [
    "def add_info(df,surah_name, surah_num, index):\n",
    "    for i in range(len(df)):\n",
    "        df[\"surah latin\"] = surah_name\n",
    "        df[\"surah\"] = surah_num\n",
    "        df.loc[i,\"index\"] = i+index\n",
    "    return df"
   ]
  },
  {
   "cell_type": "code",
   "execution_count": null,
   "metadata": {},
   "outputs": [],
   "source": [
    "df_faatir = pd.read_excel(\"/media/kurubal/SSD/Data Scientist/Work/Modern Ways/Project/Arabic/Quaran/Web Scrapping/Result/Faatir-35/Faatir_Arabic_Transliterate_Translate_Words_Languages_Concat.xlsx\")\n",
    "df_faatir"
   ]
  },
  {
   "cell_type": "code",
   "execution_count": null,
   "metadata": {},
   "outputs": [],
   "source": [
    "df_faatir = add_info(df_faatir, \"Fatir\", 35, 56320)\n",
    "df_faatir = df_faatir.iloc[:,[10,9,0,1,2,3,4,5,6,7,8,11]]\n",
    "df_faatir"
   ]
  },
  {
   "cell_type": "code",
   "execution_count": null,
   "metadata": {},
   "outputs": [],
   "source": []
  },
  {
   "cell_type": "code",
   "execution_count": null,
   "metadata": {},
   "outputs": [],
   "source": [
    "df_yaseen = pd.read_excel(\"/media/kurubal/SSD/Data Scientist/Work/Modern Ways/Project/Arabic/Quaran/Web Scrapping/Result/Yaseen-36/Yaseen_Arabic_Transliterate_Translate_Words_Languages_Concat.xlsx\")\n",
    "df_yaseen"
   ]
  },
  {
   "cell_type": "code",
   "execution_count": null,
   "metadata": {},
   "outputs": [],
   "source": [
    "df_yaseen = add_info(df_yaseen, \"Ya Seen\", 36, 57102)\n",
    "df_yaseen = df_yaseen.iloc[:,[10,9,0,1,2,3,4,5,6,7,8,11]]\n",
    "df_yaseen"
   ]
  },
  {
   "cell_type": "code",
   "execution_count": null,
   "metadata": {},
   "outputs": [],
   "source": []
  },
  {
   "cell_type": "code",
   "execution_count": null,
   "metadata": {},
   "outputs": [],
   "source": [
    "df_saaffaat = pd.read_excel(\"/media/kurubal/SSD/Data Scientist/Work/Modern Ways/Project/Arabic/Quaran/Web Scrapping/Result/As Saaffaat-37/As saaffaat_Arabic_Transliterate_Translate_Words_Languages_Concat.xlsx\")\n",
    "df_saaffaat"
   ]
  },
  {
   "cell_type": "code",
   "execution_count": null,
   "metadata": {},
   "outputs": [],
   "source": [
    "df_saaffaat = add_info(df_saaffaat, \"As-Saffat\", 37, 57836)\n",
    "df_saaffaat = df_saaffaat.iloc[:,[10,9,0,1,2,3,4,5,6,7,8,11]]\n",
    "df_saaffaat"
   ]
  },
  {
   "cell_type": "code",
   "execution_count": null,
   "metadata": {},
   "outputs": [],
   "source": []
  },
  {
   "cell_type": "code",
   "execution_count": null,
   "metadata": {},
   "outputs": [],
   "source": [
    "df_saad = pd.read_excel(\"/media/kurubal/SSD/Data Scientist/Work/Modern Ways/Project/Arabic/Quaran/Web Scrapping/Result/Saad-38/Saad_Arabic_Transliterate_Translate_Words_Languages_Concat.xlsx\")\n",
    "df_saad"
   ]
  },
  {
   "cell_type": "code",
   "execution_count": null,
   "metadata": {},
   "outputs": [],
   "source": [
    "df_saad = add_info(df_saad, \"Sad\", 38, 58705)\n",
    "df_saad = df_saad.iloc[:,[10,9,0,1,2,3,4,5,6,7,8,11]]\n",
    "df_saad"
   ]
  },
  {
   "cell_type": "code",
   "execution_count": null,
   "metadata": {},
   "outputs": [],
   "source": []
  },
  {
   "cell_type": "code",
   "execution_count": null,
   "metadata": {},
   "outputs": [],
   "source": [
    "df_zumar = pd.read_excel(\"/media/kurubal/SSD/Data Scientist/Work/Modern Ways/Project/Arabic/Quaran/Web Scrapping/Result/Az Zumar-39/Az zumar_Arabic_Transliterate_Translate_Words_Languages_Concat.xlsx\")\n",
    "df_zumar"
   ]
  },
  {
   "cell_type": "code",
   "execution_count": null,
   "metadata": {},
   "outputs": [],
   "source": [
    "df_zumar = add_info(df_zumar, \"Az-Zumar\", 39, 59444)\n",
    "df_zumar = df_zumar.iloc[:,[10,9,0,1,2,3,4,5,6,7,8,11]]\n",
    "df_zumar"
   ]
  },
  {
   "cell_type": "code",
   "execution_count": null,
   "metadata": {},
   "outputs": [],
   "source": [
    "df_surah_merge = pd.concat([df_faatir,df_yaseen,df_saaffaat,df_saad,df_zumar], axis=0)\n",
    "df_surah_merge"
   ]
  },
  {
   "cell_type": "code",
   "execution_count": null,
   "metadata": {},
   "outputs": [],
   "source": [
    "df_surah_merge.to_excel(\"Faatir_Yaseen_Saaffaat_Saad_Zumar_Surah_Translate_Concat.xlsx\", index=False)"
   ]
  },
  {
   "cell_type": "code",
   "execution_count": null,
   "metadata": {},
   "outputs": [],
   "source": []
  },
  {
   "cell_type": "code",
   "execution_count": null,
   "metadata": {},
   "outputs": [],
   "source": []
  },
  {
   "cell_type": "code",
   "execution_count": null,
   "metadata": {},
   "outputs": [],
   "source": []
  }
 ],
 "metadata": {
  "interpreter": {
   "hash": "651d507d70892fab0fc6529d935cd476f6e2eb1791525b76da6cc8da34bc0503"
  },
  "kernelspec": {
   "display_name": "Python 3.9.5 ('py39')",
   "language": "python",
   "name": "python3"
  },
  "language_info": {
   "codemirror_mode": {
    "name": "ipython",
    "version": 3
   },
   "file_extension": ".py",
   "mimetype": "text/x-python",
   "name": "python",
   "nbconvert_exporter": "python",
   "pygments_lexer": "ipython3",
   "version": "3.9.5"
  },
  "orig_nbformat": 4
 },
 "nbformat": 4,
 "nbformat_minor": 2
}
