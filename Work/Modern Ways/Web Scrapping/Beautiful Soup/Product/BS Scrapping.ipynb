{
 "cells": [
  {
   "cell_type": "markdown",
   "metadata": {},
   "source": [
    "### Web Scrapping"
   ]
  },
  {
   "cell_type": "code",
   "execution_count": null,
   "metadata": {},
   "outputs": [],
   "source": [
    "# !pip install --upgrade pip\n",
    "# !pip install beautifulsoup4 --upgrade\n",
    "# pip install lxml\n",
    "# pip install html5lib"
   ]
  },
  {
   "cell_type": "code",
   "execution_count": 1,
   "metadata": {},
   "outputs": [],
   "source": [
    "import pandas as pd\n",
    "from urllib.request import urlopen\n",
    "from bs4 import BeautifulSoup\n",
    "from json2html import *\n",
    "import re\n",
    "import requests\n",
    "from urllib.request import Request, urlopen\n",
    "from urllib import parse\n",
    "import glob"
   ]
  },
  {
   "cell_type": "markdown",
   "metadata": {},
   "source": [
    "#### External HTML File From Browser Element Section "
   ]
  },
  {
   "cell_type": "code",
   "execution_count": 34,
   "metadata": {},
   "outputs": [],
   "source": [
    "lang = \"indonesian\"  # indonesian, turkish, russian, english, urdu, hindi, bangla\n",
    "surah = \"al ahzaab\"  # al faatiha, al baqara, aal i imraan ...\n",
    "folder = f\"{surah}-33\"  # al faatiha-1, al baqara-2, aal i imraan-3 ...\n",
    "file = f\"{surah.lower()}_{lang.lower()}\""
   ]
  },
  {
   "cell_type": "code",
   "execution_count": 35,
   "metadata": {},
   "outputs": [
    {
     "data": {
      "text/html": [
       "<div>\n",
       "<style scoped>\n",
       "    .dataframe tbody tr th:only-of-type {\n",
       "        vertical-align: middle;\n",
       "    }\n",
       "\n",
       "    .dataframe tbody tr th {\n",
       "        vertical-align: top;\n",
       "    }\n",
       "\n",
       "    .dataframe thead th {\n",
       "        text-align: right;\n",
       "    }\n",
       "</style>\n",
       "<table border=\"1\" class=\"dataframe\">\n",
       "  <thead>\n",
       "    <tr style=\"text-align: right;\">\n",
       "      <th></th>\n",
       "      <th>arabic</th>\n",
       "      <th>transliterate</th>\n",
       "      <th>translate_indonesian</th>\n",
       "    </tr>\n",
       "  </thead>\n",
       "  <tbody>\n",
       "    <tr>\n",
       "      <th>0</th>\n",
       "      <td>يَـٰٓأَيُّهَا</td>\n",
       "      <td>yaayyuha</td>\n",
       "      <td>wahai</td>\n",
       "    </tr>\n",
       "    <tr>\n",
       "      <th>1</th>\n",
       "      <td>ٱلنَّبِيُّ</td>\n",
       "      <td>al-nabiyu</td>\n",
       "      <td>Nabi</td>\n",
       "    </tr>\n",
       "    <tr>\n",
       "      <th>2</th>\n",
       "      <td>ٱتَّقِ</td>\n",
       "      <td>ittaqi</td>\n",
       "      <td>bertakwalah</td>\n",
       "    </tr>\n",
       "    <tr>\n",
       "      <th>3</th>\n",
       "      <td>ٱللَّهَ</td>\n",
       "      <td>al-laha</td>\n",
       "      <td>Allah</td>\n",
       "    </tr>\n",
       "    <tr>\n",
       "      <th>4</th>\n",
       "      <td>وَلَا</td>\n",
       "      <td>wala</td>\n",
       "      <td>dan jangan</td>\n",
       "    </tr>\n",
       "    <tr>\n",
       "      <th>...</th>\n",
       "      <td>...</td>\n",
       "      <td>...</td>\n",
       "      <td>...</td>\n",
       "    </tr>\n",
       "    <tr>\n",
       "      <th>1282</th>\n",
       "      <td>وَٱلۡمُؤۡمِنَٰتِۗ</td>\n",
       "      <td>wal-mu'minati</td>\n",
       "      <td>orang beriman perempuan</td>\n",
       "    </tr>\n",
       "    <tr>\n",
       "      <th>1283</th>\n",
       "      <td>وَكَانَ</td>\n",
       "      <td>wakana</td>\n",
       "      <td>dan adalah</td>\n",
       "    </tr>\n",
       "    <tr>\n",
       "      <th>1284</th>\n",
       "      <td>ٱللَّهُ</td>\n",
       "      <td>al-lahu</td>\n",
       "      <td>Allah</td>\n",
       "    </tr>\n",
       "    <tr>\n",
       "      <th>1285</th>\n",
       "      <td>غَفُورٗا</td>\n",
       "      <td>ghafuran</td>\n",
       "      <td>Maha Pengampun</td>\n",
       "    </tr>\n",
       "    <tr>\n",
       "      <th>1286</th>\n",
       "      <td>رَّحِيمَۢا</td>\n",
       "      <td>rahiman</td>\n",
       "      <td>Maha Penyayang</td>\n",
       "    </tr>\n",
       "  </tbody>\n",
       "</table>\n",
       "<p>1287 rows × 3 columns</p>\n",
       "</div>"
      ],
      "text/plain": [
       "                 arabic  transliterate     translate_indonesian\n",
       "0         يَـٰٓأَيُّهَا       yaayyuha                    wahai\n",
       "1            ٱلنَّبِيُّ      al-nabiyu                     Nabi\n",
       "2                ٱتَّقِ         ittaqi              bertakwalah\n",
       "3               ٱللَّهَ        al-laha                    Allah\n",
       "4                 وَلَا           wala               dan jangan\n",
       "...                 ...            ...                      ...\n",
       "1282  وَٱلۡمُؤۡمِنَٰتِۗ  wal-mu'minati  orang beriman perempuan\n",
       "1283            وَكَانَ         wakana               dan adalah\n",
       "1284            ٱللَّهُ        al-lahu                    Allah\n",
       "1285           غَفُورٗا       ghafuran           Maha Pengampun\n",
       "1286         رَّحِيمَۢا        rahiman           Maha Penyayang\n",
       "\n",
       "[1287 rows x 3 columns]"
      ]
     },
     "execution_count": 35,
     "metadata": {},
     "output_type": "execute_result"
    }
   ],
   "source": [
    "HTMLFile = open(f\"/media/kurubal/SSD/Data Scientist/Work/Modern Ways/Project/Arabic/Quaran/Web Scrapping/Data/{folder.lower().capitalize()}/{file.lower()}.html\", \"r\") # ayahs-block\n",
    "\n",
    "content = HTMLFile.read()\n",
    "\n",
    "soup = BeautifulSoup(content, 'lxml')\n",
    "\n",
    "ayah_word = soup.findAll('span', attrs={\"class\":\"single-word\"})\n",
    "\n",
    "word_list = []\n",
    "for word in ayah_word:\n",
    "    var1 = word.find('span', attrs={\"class\":\"word-arabic word-arabic-uthmani-hafs\"})\n",
    "    #try:\n",
    "    #    #arabic = var1.get_text()\n",
    "    #    arabic = var1.string\n",
    "    #except:\n",
    "    #    arabic = \"\"\n",
    "    #arabic = var1.get_text()\n",
    "    arabic = var1.string\n",
    "    var2 = word.find('span', attrs={\"class\":\"word-transliteration\"})\n",
    "    transliterate = var2.string\n",
    "    var3 = word.find('span', attrs={\"class\":\"word-translation\"})\n",
    "    translate = var3.string\n",
    "    word_list.append((arabic, transliterate, translate))\n",
    "\n",
    "df_word_list = pd.DataFrame(word_list)\n",
    "df_word_list.rename(columns={0:\"arabic\", 1:\"transliterate\", 2:f\"translate_{lang.lower()}\"}, inplace=True)\n",
    "df_word_list"
   ]
  },
  {
   "cell_type": "code",
   "execution_count": 36,
   "metadata": {},
   "outputs": [],
   "source": [
    "df_word_list.to_excel(f\"{surah.lower().capitalize()}_Arabic_Transliterate_Translate_Words_{lang.lower().capitalize()}.xlsx\", index=False)"
   ]
  },
  {
   "cell_type": "code",
   "execution_count": null,
   "metadata": {},
   "outputs": [],
   "source": []
  },
  {
   "cell_type": "markdown",
   "metadata": {},
   "source": [
    "#### Merge Word All Translate"
   ]
  },
  {
   "cell_type": "code",
   "execution_count": 37,
   "metadata": {},
   "outputs": [
    {
     "data": {
      "text/plain": [
       "['Al ahzaab_Arabic_Transliterate_Translate_Words_Bangla.xlsx',\n",
       " 'Al ahzaab_Arabic_Transliterate_Translate_Words_Hindi.xlsx',\n",
       " 'Al ahzaab_Arabic_Transliterate_Translate_Words_Urdu.xlsx',\n",
       " 'Al ahzaab_Arabic_Transliterate_Translate_Words_English.xlsx',\n",
       " 'Al ahzaab_Arabic_Transliterate_Translate_Words_Russian.xlsx',\n",
       " 'Al ahzaab_Arabic_Transliterate_Translate_Words_Turkish.xlsx',\n",
       " 'Al ahzaab_Arabic_Transliterate_Translate_Words_Indonesian.xlsx']"
      ]
     },
     "execution_count": 37,
     "metadata": {},
     "output_type": "execute_result"
    }
   ],
   "source": [
    "all_trans_file = glob.glob(f\"{surah.lower().capitalize()}*\")\n",
    "all_trans_file"
   ]
  },
  {
   "cell_type": "code",
   "execution_count": 38,
   "metadata": {},
   "outputs": [
    {
     "data": {
      "text/html": [
       "<div>\n",
       "<style scoped>\n",
       "    .dataframe tbody tr th:only-of-type {\n",
       "        vertical-align: middle;\n",
       "    }\n",
       "\n",
       "    .dataframe tbody tr th {\n",
       "        vertical-align: top;\n",
       "    }\n",
       "\n",
       "    .dataframe thead th {\n",
       "        text-align: right;\n",
       "    }\n",
       "</style>\n",
       "<table border=\"1\" class=\"dataframe\">\n",
       "  <thead>\n",
       "    <tr style=\"text-align: right;\">\n",
       "      <th></th>\n",
       "      <th>arabic</th>\n",
       "      <th>transliterate</th>\n",
       "      <th>translate_english</th>\n",
       "      <th>translate_urdu</th>\n",
       "      <th>translate_hindi</th>\n",
       "      <th>translate_indonesian</th>\n",
       "      <th>translate_bangla</th>\n",
       "      <th>translate_turkish</th>\n",
       "      <th>translate_russian</th>\n",
       "    </tr>\n",
       "  </thead>\n",
       "  <tbody>\n",
       "    <tr>\n",
       "      <th>0</th>\n",
       "      <td>يَـٰٓأَيُّهَا</td>\n",
       "      <td>yaayyuha</td>\n",
       "      <td>O (Prophet)</td>\n",
       "      <td>اے</td>\n",
       "      <td>ऐ</td>\n",
       "      <td>wahai</td>\n",
       "      <td>হে</td>\n",
       "      <td>ey</td>\n",
       "      <td>О</td>\n",
       "    </tr>\n",
       "    <tr>\n",
       "      <th>1</th>\n",
       "      <td>ٱلنَّبِيُّ</td>\n",
       "      <td>al-nabiyu</td>\n",
       "      <td>(O) Prophet</td>\n",
       "      <td>نبی (صلی اللہ علیہ وآلہ وسلم)</td>\n",
       "      <td>नबी</td>\n",
       "      <td>Nabi</td>\n",
       "      <td>নাবী</td>\n",
       "      <td>peygamber</td>\n",
       "      <td>Пророк!</td>\n",
       "    </tr>\n",
       "    <tr>\n",
       "      <th>2</th>\n",
       "      <td>ٱتَّقِ</td>\n",
       "      <td>ittaqi</td>\n",
       "      <td>Fear</td>\n",
       "      <td>تقوی اختیار کیجیے</td>\n",
       "      <td>डरिए</td>\n",
       "      <td>bertakwalah</td>\n",
       "      <td>ভয় করো</td>\n",
       "      <td>kork</td>\n",
       "      <td>Остерегайся</td>\n",
       "    </tr>\n",
       "    <tr>\n",
       "      <th>3</th>\n",
       "      <td>ٱللَّهَ</td>\n",
       "      <td>al-laha</td>\n",
       "      <td>Allah</td>\n",
       "      <td>اللہ کا</td>\n",
       "      <td>अल्लाह से</td>\n",
       "      <td>Allah</td>\n",
       "      <td>আল্লাহকে</td>\n",
       "      <td>Allah'tan</td>\n",
       "      <td>Аллаха</td>\n",
       "    </tr>\n",
       "    <tr>\n",
       "      <th>4</th>\n",
       "      <td>وَلَا</td>\n",
       "      <td>wala</td>\n",
       "      <td>and (do) not</td>\n",
       "      <td>اور نہ</td>\n",
       "      <td>और ना</td>\n",
       "      <td>dan jangan</td>\n",
       "      <td>এবং না</td>\n",
       "      <td>ve asla</td>\n",
       "      <td>и не</td>\n",
       "    </tr>\n",
       "    <tr>\n",
       "      <th>...</th>\n",
       "      <td>...</td>\n",
       "      <td>...</td>\n",
       "      <td>...</td>\n",
       "      <td>...</td>\n",
       "      <td>...</td>\n",
       "      <td>...</td>\n",
       "      <td>...</td>\n",
       "      <td>...</td>\n",
       "      <td>...</td>\n",
       "    </tr>\n",
       "    <tr>\n",
       "      <th>1282</th>\n",
       "      <td>وَٱلۡمُؤۡمِنَٰتِۗ</td>\n",
       "      <td>wal-mu'minati</td>\n",
       "      <td>and the believing women</td>\n",
       "      <td>اور مومن عورتوں پر</td>\n",
       "      <td>और मोमिन औरतों पर</td>\n",
       "      <td>orang beriman perempuan</td>\n",
       "      <td>ও মু’মিন নারীদেরকে</td>\n",
       "      <td>ve inanan kadınları</td>\n",
       "      <td>и верующих (женщин).</td>\n",
       "    </tr>\n",
       "    <tr>\n",
       "      <th>1283</th>\n",
       "      <td>وَكَانَ</td>\n",
       "      <td>wakana</td>\n",
       "      <td>And Allah is</td>\n",
       "      <td>اور ہے</td>\n",
       "      <td>और है</td>\n",
       "      <td>dan adalah</td>\n",
       "      <td>এবং হলেন</td>\n",
       "      <td>ve</td>\n",
       "      <td>И является</td>\n",
       "    </tr>\n",
       "    <tr>\n",
       "      <th>1284</th>\n",
       "      <td>ٱللَّهُ</td>\n",
       "      <td>al-lahu</td>\n",
       "      <td>And Allah is</td>\n",
       "      <td>اللہ تعالیٰ</td>\n",
       "      <td>अल्लाह</td>\n",
       "      <td>Allah</td>\n",
       "      <td>আল্লাহ</td>\n",
       "      <td>Allah</td>\n",
       "      <td>Аллах</td>\n",
       "    </tr>\n",
       "    <tr>\n",
       "      <th>1285</th>\n",
       "      <td>غَفُورٗا</td>\n",
       "      <td>ghafuran</td>\n",
       "      <td>Oft-Forgiving</td>\n",
       "      <td>غفور</td>\n",
       "      <td>बहुत बख़्शने वाला</td>\n",
       "      <td>Maha Pengampun</td>\n",
       "      <td>ক্ষমাশীল</td>\n",
       "      <td>çok bağışlayandır</td>\n",
       "      <td>прощающим,</td>\n",
       "    </tr>\n",
       "    <tr>\n",
       "      <th>1286</th>\n",
       "      <td>رَّحِيمَۢا</td>\n",
       "      <td>rahiman</td>\n",
       "      <td>Most Merciful</td>\n",
       "      <td>رحیم</td>\n",
       "      <td>निहायत रहम करने वाला</td>\n",
       "      <td>Maha Penyayang</td>\n",
       "      <td>পরম দয়ালু</td>\n",
       "      <td>çok esirgeyendir</td>\n",
       "      <td>милосердным.</td>\n",
       "    </tr>\n",
       "  </tbody>\n",
       "</table>\n",
       "<p>1287 rows × 9 columns</p>\n",
       "</div>"
      ],
      "text/plain": [
       "                 arabic  transliterate        translate_english  \\\n",
       "0         يَـٰٓأَيُّهَا       yaayyuha              O (Prophet)   \n",
       "1            ٱلنَّبِيُّ      al-nabiyu              (O) Prophet   \n",
       "2                ٱتَّقِ         ittaqi                     Fear   \n",
       "3               ٱللَّهَ        al-laha                    Allah   \n",
       "4                 وَلَا           wala             and (do) not   \n",
       "...                 ...            ...                      ...   \n",
       "1282  وَٱلۡمُؤۡمِنَٰتِۗ  wal-mu'minati  and the believing women   \n",
       "1283            وَكَانَ         wakana             And Allah is   \n",
       "1284            ٱللَّهُ        al-lahu             And Allah is   \n",
       "1285           غَفُورٗا       ghafuran            Oft-Forgiving   \n",
       "1286         رَّحِيمَۢا        rahiman            Most Merciful   \n",
       "\n",
       "                     translate_urdu       translate_hindi  \\\n",
       "0                                اے                     ऐ   \n",
       "1     نبی (صلی اللہ علیہ وآلہ وسلم)                   नबी   \n",
       "2                 تقوی اختیار کیجیے                  डरिए   \n",
       "3                           اللہ کا            अल्लाह से    \n",
       "4                            اور نہ                और ना    \n",
       "...                             ...                   ...   \n",
       "1282             اور مومن عورتوں پر     और मोमिन औरतों पर   \n",
       "1283                         اور ہے                और है    \n",
       "1284                    اللہ تعالیٰ               अल्लाह    \n",
       "1285                           غفور     बहुत बख़्शने वाला   \n",
       "1286                           رحیم  निहायत रहम करने वाला   \n",
       "\n",
       "         translate_indonesian    translate_bangla    translate_turkish  \\\n",
       "0                       wahai                  হে                   ey   \n",
       "1                        Nabi                নাবী            peygamber   \n",
       "2                 bertakwalah              ভয় করো                 kork   \n",
       "3                       Allah            আল্লাহকে            Allah'tan   \n",
       "4                  dan jangan              এবং না              ve asla   \n",
       "...                       ...                 ...                  ...   \n",
       "1282  orang beriman perempuan  ও মু’মিন নারীদেরকে  ve inanan kadınları   \n",
       "1283               dan adalah            এবং হলেন                   ve   \n",
       "1284                    Allah              আল্লাহ                Allah   \n",
       "1285           Maha Pengampun            ক্ষমাশীল    çok bağışlayandır   \n",
       "1286           Maha Penyayang           পরম দয়ালু     çok esirgeyendir   \n",
       "\n",
       "         translate_russian  \n",
       "0                        О  \n",
       "1                  Пророк!  \n",
       "2              Остерегайся  \n",
       "3                   Аллаха  \n",
       "4                     и не  \n",
       "...                    ...  \n",
       "1282  и верующих (женщин).  \n",
       "1283            И является  \n",
       "1284                 Аллах  \n",
       "1285            прощающим,  \n",
       "1286          милосердным.  \n",
       "\n",
       "[1287 rows x 9 columns]"
      ]
     },
     "execution_count": 38,
     "metadata": {},
     "output_type": "execute_result"
    }
   ],
   "source": [
    "df_master = pd.read_excel(all_trans_file[0])\n",
    "for i in all_trans_file[1:]:\n",
    "    df_var = pd.read_excel(f\"{i}\")\n",
    "    #df_master = pd.merge(df_master, df_var, how=\"left\", on=[\"arabic\",\"transliterate\"])\n",
    "    df_master = pd.concat([df_master,df_var.iloc[:,2]], axis=1)\n",
    "    #df_master = df_master.join(df_var, how=\"left\", lsuffix=[\"arabic\",\"transliterate\"],rsuffix=[\"arabic\",\"transliterate\"])\n",
    "    #df_master.drop_duplicates(inplace=True)\n",
    "    df_master.reset_index(drop=True, inplace=True)\n",
    "df_master = df_master[[\"arabic\",\"transliterate\",\"translate_english\",\"translate_urdu\",\"translate_hindi\",\"translate_indonesian\",\"translate_bangla\",\"translate_turkish\",\"translate_russian\"]]\n",
    "df_master"
   ]
  },
  {
   "cell_type": "code",
   "execution_count": 39,
   "metadata": {},
   "outputs": [],
   "source": [
    "df_master.to_excel(f\"{surah.lower().capitalize()}_Arabic_Transliterate_Translate_Words_Languages_Concat.xlsx\", index=False)"
   ]
  },
  {
   "cell_type": "code",
   "execution_count": null,
   "metadata": {},
   "outputs": [],
   "source": []
  },
  {
   "cell_type": "markdown",
   "metadata": {},
   "source": [
    "#### Merge Surah All Translate"
   ]
  },
  {
   "cell_type": "code",
   "execution_count": null,
   "metadata": {},
   "outputs": [],
   "source": [
    "def add_info(df,surah_name, surah_num, index):\n",
    "    for i in range(len(df)):\n",
    "        df[\"surah latin\"] = surah_name\n",
    "        df[\"surah\"] = surah_num\n",
    "        df.loc[i,\"index\"] = i+index\n",
    "    return df"
   ]
  },
  {
   "cell_type": "code",
   "execution_count": null,
   "metadata": {},
   "outputs": [],
   "source": [
    "df_faatir = pd.read_excel(\"/media/kurubal/SSD/Data Scientist/Work/Modern Ways/Project/Arabic/Quaran/Web Scrapping/Result/Faatir-35/Faatir_Arabic_Transliterate_Translate_Words_Languages_Concat.xlsx\")\n",
    "df_faatir"
   ]
  },
  {
   "cell_type": "code",
   "execution_count": null,
   "metadata": {},
   "outputs": [],
   "source": [
    "df_faatir = add_info(df_faatir, \"Fatir\", 35, 56320)\n",
    "df_faatir = df_faatir.iloc[:,[10,9,0,1,2,3,4,5,6,7,8,11]]\n",
    "df_faatir"
   ]
  },
  {
   "cell_type": "code",
   "execution_count": null,
   "metadata": {},
   "outputs": [],
   "source": []
  },
  {
   "cell_type": "code",
   "execution_count": null,
   "metadata": {},
   "outputs": [],
   "source": [
    "df_yaseen = pd.read_excel(\"/media/kurubal/SSD/Data Scientist/Work/Modern Ways/Project/Arabic/Quaran/Web Scrapping/Result/Yaseen-36/Yaseen_Arabic_Transliterate_Translate_Words_Languages_Concat.xlsx\")\n",
    "df_yaseen"
   ]
  },
  {
   "cell_type": "code",
   "execution_count": null,
   "metadata": {},
   "outputs": [],
   "source": [
    "df_yaseen = add_info(df_yaseen, \"Ya Seen\", 36, 57102)\n",
    "df_yaseen = df_yaseen.iloc[:,[10,9,0,1,2,3,4,5,6,7,8,11]]\n",
    "df_yaseen"
   ]
  },
  {
   "cell_type": "code",
   "execution_count": null,
   "metadata": {},
   "outputs": [],
   "source": []
  },
  {
   "cell_type": "code",
   "execution_count": null,
   "metadata": {},
   "outputs": [],
   "source": [
    "df_saaffaat = pd.read_excel(\"/media/kurubal/SSD/Data Scientist/Work/Modern Ways/Project/Arabic/Quaran/Web Scrapping/Result/As Saaffaat-37/As saaffaat_Arabic_Transliterate_Translate_Words_Languages_Concat.xlsx\")\n",
    "df_saaffaat"
   ]
  },
  {
   "cell_type": "code",
   "execution_count": null,
   "metadata": {},
   "outputs": [],
   "source": [
    "df_saaffaat = add_info(df_saaffaat, \"As-Saffat\", 37, 57836)\n",
    "df_saaffaat = df_saaffaat.iloc[:,[10,9,0,1,2,3,4,5,6,7,8,11]]\n",
    "df_saaffaat"
   ]
  },
  {
   "cell_type": "code",
   "execution_count": null,
   "metadata": {},
   "outputs": [],
   "source": []
  },
  {
   "cell_type": "code",
   "execution_count": null,
   "metadata": {},
   "outputs": [],
   "source": [
    "df_saad = pd.read_excel(\"/media/kurubal/SSD/Data Scientist/Work/Modern Ways/Project/Arabic/Quaran/Web Scrapping/Result/Saad-38/Saad_Arabic_Transliterate_Translate_Words_Languages_Concat.xlsx\")\n",
    "df_saad"
   ]
  },
  {
   "cell_type": "code",
   "execution_count": null,
   "metadata": {},
   "outputs": [],
   "source": [
    "df_saad = add_info(df_saad, \"Sad\", 38, 58705)\n",
    "df_saad = df_saad.iloc[:,[10,9,0,1,2,3,4,5,6,7,8,11]]\n",
    "df_saad"
   ]
  },
  {
   "cell_type": "code",
   "execution_count": null,
   "metadata": {},
   "outputs": [],
   "source": []
  },
  {
   "cell_type": "code",
   "execution_count": null,
   "metadata": {},
   "outputs": [],
   "source": [
    "df_zumar = pd.read_excel(\"/media/kurubal/SSD/Data Scientist/Work/Modern Ways/Project/Arabic/Quaran/Web Scrapping/Result/Az Zumar-39/Az zumar_Arabic_Transliterate_Translate_Words_Languages_Concat.xlsx\")\n",
    "df_zumar"
   ]
  },
  {
   "cell_type": "code",
   "execution_count": null,
   "metadata": {},
   "outputs": [],
   "source": [
    "df_zumar = add_info(df_zumar, \"Az-Zumar\", 39, 59444)\n",
    "df_zumar = df_zumar.iloc[:,[10,9,0,1,2,3,4,5,6,7,8,11]]\n",
    "df_zumar"
   ]
  },
  {
   "cell_type": "code",
   "execution_count": null,
   "metadata": {},
   "outputs": [],
   "source": [
    "df_surah_merge = pd.concat([df_faatir,df_yaseen,df_saaffaat,df_saad,df_zumar], axis=0)\n",
    "df_surah_merge"
   ]
  },
  {
   "cell_type": "code",
   "execution_count": null,
   "metadata": {},
   "outputs": [],
   "source": [
    "df_surah_merge.to_excel(\"Faatir_Yaseen_Saaffaat_Saad_Zumar_Surah_Translate_Concat.xlsx\", index=False)"
   ]
  },
  {
   "cell_type": "code",
   "execution_count": null,
   "metadata": {},
   "outputs": [],
   "source": []
  },
  {
   "cell_type": "code",
   "execution_count": null,
   "metadata": {},
   "outputs": [],
   "source": []
  },
  {
   "cell_type": "code",
   "execution_count": null,
   "metadata": {},
   "outputs": [],
   "source": []
  }
 ],
 "metadata": {
  "interpreter": {
   "hash": "651d507d70892fab0fc6529d935cd476f6e2eb1791525b76da6cc8da34bc0503"
  },
  "kernelspec": {
   "display_name": "Python 3.9.5 ('py39')",
   "language": "python",
   "name": "python3"
  },
  "language_info": {
   "codemirror_mode": {
    "name": "ipython",
    "version": 3
   },
   "file_extension": ".py",
   "mimetype": "text/x-python",
   "name": "python",
   "nbconvert_exporter": "python",
   "pygments_lexer": "ipython3",
   "version": "3.9.5"
  },
  "orig_nbformat": 4
 },
 "nbformat": 4,
 "nbformat_minor": 2
}
