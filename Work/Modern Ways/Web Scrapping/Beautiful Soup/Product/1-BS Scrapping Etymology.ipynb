{
 "cells": [
  {
   "cell_type": "markdown",
   "metadata": {},
   "source": [
    "### Etymology"
   ]
  },
  {
   "cell_type": "code",
   "execution_count": 1,
   "metadata": {},
   "outputs": [
    {
     "name": "stderr",
     "output_type": "stream",
     "text": [
      "[nltk_data] Downloading package wordnet to /home/kurubal/nltk_data...\n",
      "[nltk_data]   Package wordnet is already up-to-date!\n",
      "[nltk_data] Downloading package omw-1.4 to /home/kurubal/nltk_data...\n",
      "[nltk_data]   Package omw-1.4 is already up-to-date!\n"
     ]
    },
    {
     "data": {
      "text/plain": [
       "True"
      ]
     },
     "execution_count": 1,
     "metadata": {},
     "output_type": "execute_result"
    }
   ],
   "source": [
    "import pandas as pd\n",
    "import numpy as np\n",
    "import glob\n",
    "import nltk\n",
    "from nltk.stem import WordNetLemmatizer\n",
    "from urllib.request import urlopen\n",
    "from bs4 import BeautifulSoup\n",
    "from json2html import *\n",
    "import re\n",
    "import requests\n",
    "from urllib.request import Request, urlopen\n",
    "from urllib import parse\n",
    "nltk.download('wordnet')\n",
    "nltk.download('omw-1.4')"
   ]
  },
  {
   "cell_type": "code",
   "execution_count": 2,
   "metadata": {},
   "outputs": [],
   "source": [
    "lang_folder = \"Turkish\""
   ]
  },
  {
   "cell_type": "code",
   "execution_count": 13,
   "metadata": {},
   "outputs": [
    {
     "data": {
      "text/html": [
       "<div>\n",
       "<style scoped>\n",
       "    .dataframe tbody tr th:only-of-type {\n",
       "        vertical-align: middle;\n",
       "    }\n",
       "\n",
       "    .dataframe tbody tr th {\n",
       "        vertical-align: top;\n",
       "    }\n",
       "\n",
       "    .dataframe thead th {\n",
       "        text-align: right;\n",
       "    }\n",
       "</style>\n",
       "<table border=\"1\" class=\"dataframe\">\n",
       "  <thead>\n",
       "    <tr style=\"text-align: right;\">\n",
       "      <th></th>\n",
       "      <th>word</th>\n",
       "      <th>frequency</th>\n",
       "    </tr>\n",
       "  </thead>\n",
       "  <tbody>\n",
       "    <tr>\n",
       "      <th>0</th>\n",
       "      <td>que</td>\n",
       "      <td>37853284</td>\n",
       "    </tr>\n",
       "    <tr>\n",
       "      <th>1</th>\n",
       "      <td>de</td>\n",
       "      <td>37809537</td>\n",
       "    </tr>\n",
       "    <tr>\n",
       "      <th>2</th>\n",
       "      <td>no</td>\n",
       "      <td>33043466</td>\n",
       "    </tr>\n",
       "    <tr>\n",
       "      <th>3</th>\n",
       "      <td>a</td>\n",
       "      <td>25439588</td>\n",
       "    </tr>\n",
       "    <tr>\n",
       "      <th>4</th>\n",
       "      <td>la</td>\n",
       "      <td>24024343</td>\n",
       "    </tr>\n",
       "    <tr>\n",
       "      <th>...</th>\n",
       "      <td>...</td>\n",
       "      <td>...</td>\n",
       "    </tr>\n",
       "    <tr>\n",
       "      <th>9995</th>\n",
       "      <td>tácticas</td>\n",
       "      <td>6193</td>\n",
       "    </tr>\n",
       "    <tr>\n",
       "      <th>9996</th>\n",
       "      <td>dobles</td>\n",
       "      <td>6191</td>\n",
       "    </tr>\n",
       "    <tr>\n",
       "      <th>9997</th>\n",
       "      <td>ollie</td>\n",
       "      <td>6190</td>\n",
       "    </tr>\n",
       "    <tr>\n",
       "      <th>9998</th>\n",
       "      <td>gerald</td>\n",
       "      <td>6190</td>\n",
       "    </tr>\n",
       "    <tr>\n",
       "      <th>9999</th>\n",
       "      <td>cultural</td>\n",
       "      <td>6189</td>\n",
       "    </tr>\n",
       "  </tbody>\n",
       "</table>\n",
       "<p>10000 rows × 2 columns</p>\n",
       "</div>"
      ],
      "text/plain": [
       "          word  frequency\n",
       "0          que   37853284\n",
       "1           de   37809537\n",
       "2           no   33043466\n",
       "3            a   25439588\n",
       "4           la   24024343\n",
       "...        ...        ...\n",
       "9995  tácticas       6193\n",
       "9996    dobles       6191\n",
       "9997     ollie       6190\n",
       "9998    gerald       6190\n",
       "9999  cultural       6189\n",
       "\n",
       "[10000 rows x 2 columns]"
      ]
     },
     "execution_count": 13,
     "metadata": {},
     "output_type": "execute_result"
    }
   ],
   "source": [
    "df_word = pd.read_excel(f\"/media/kurubal/SSD/Data Scientist/Work/Modern Ways/Project/{lang_folder.capitalize()}/Result/Word/Merge/Word_Merge2.xlsx\")\n",
    "#df_word = pd.read_csv(f\"/media/kurubal/SSD/Data Scientist/Work/Modern Ways/Project/{lang_folder.lower().capitalize()}/Result/Word/Merge/Word_Merge2.csv\")\n",
    "df_word = df_word.head(10000)\n",
    "df_word"
   ]
  },
  {
   "cell_type": "code",
   "execution_count": 64,
   "metadata": {},
   "outputs": [],
   "source": [
    "#word_lemma = []\n",
    "#for word in df_word[\"word\"]:\n",
    "#    word_lemma.append(WordNetLemmatizer().lemmatize(word))\n",
    "#    word_unique = set(word_lemma)"
   ]
  },
  {
   "cell_type": "code",
   "execution_count": 65,
   "metadata": {},
   "outputs": [],
   "source": [
    "#len(word_lemma)"
   ]
  },
  {
   "cell_type": "code",
   "execution_count": 66,
   "metadata": {},
   "outputs": [],
   "source": [
    "#len(word_unique)"
   ]
  },
  {
   "cell_type": "code",
   "execution_count": 14,
   "metadata": {},
   "outputs": [],
   "source": [
    "word_list = df_word[\"word\"].to_list()"
   ]
  },
  {
   "cell_type": "code",
   "execution_count": 15,
   "metadata": {},
   "outputs": [],
   "source": [
    "result_list = []\n",
    "#for i in word_unique:\n",
    "for i in word_list:\n",
    "    try:\n",
    "        response = requests.get(f\"https://etymologeek.com/search/all/{i}\")\n",
    "        soup = BeautifulSoup(response.content, 'lxml')\n",
    "        word = soup.find('tbody', attrs={\"id\":\"tb\"})\n",
    "        dict_word = word.findAll('td', attrs={\"data-th\":\"Dic. entry\"})\n",
    "        lang = word.findAll('td', attrs={\"data-th\":\"Language\"})\n",
    "        definition = word.findAll('td', attrs={\"data-th\":\"Definition\"})\n",
    "        a_href = word.findAll('td', attrs={\"data-th\":\"Dic. entry\"})\n",
    "        iter_values = zip(dict_word, lang, definition, a_href)\n",
    "        for a, b, c, d in iter_values:\n",
    "            var1 = a.get_text()\n",
    "            var2 = b.get_text()  # string\n",
    "            var3 = c.get_text()  # string\n",
    "            var4 = d.find('a').get('href')\n",
    "            var5 = f\"https://etymologeek.com{var4}\"\n",
    "            result_list.append([i, var1, var2, var3, var5])\n",
    "    except:\n",
    "        pass\n",
    "\n",
    "df_result = pd.DataFrame(result_list)\n",
    "df_result.rename(columns={0:\"search_word\", 1:\"dict_entry\", 2:\"language\", 3:\"definition\", 4:\"href\"}, inplace=True)\n",
    "df_result"
   ]
  },
  {
   "cell_type": "code",
   "execution_count": 11,
   "metadata": {},
   "outputs": [],
   "source": [
    "df_result.to_excel(f\"{lang_folder.capitalize()}_Etymologeek_Main_Result.xlsx\", index=False)"
   ]
  },
  {
   "cell_type": "code",
   "execution_count": null,
   "metadata": {},
   "outputs": [],
   "source": []
  },
  {
   "cell_type": "markdown",
   "metadata": {},
   "source": [
    "#### Scrapping Additional Info"
   ]
  },
  {
   "cell_type": "code",
   "execution_count": 38,
   "metadata": {},
   "outputs": [
    {
     "data": {
      "text/html": [
       "<div>\n",
       "<style scoped>\n",
       "    .dataframe tbody tr th:only-of-type {\n",
       "        vertical-align: middle;\n",
       "    }\n",
       "\n",
       "    .dataframe tbody tr th {\n",
       "        vertical-align: top;\n",
       "    }\n",
       "\n",
       "    .dataframe thead th {\n",
       "        text-align: right;\n",
       "    }\n",
       "</style>\n",
       "<table border=\"1\" class=\"dataframe\">\n",
       "  <thead>\n",
       "    <tr style=\"text-align: right;\">\n",
       "      <th></th>\n",
       "      <th>search_word</th>\n",
       "      <th>dict_entry</th>\n",
       "      <th>language</th>\n",
       "      <th>definition</th>\n",
       "      <th>href</th>\n",
       "    </tr>\n",
       "  </thead>\n",
       "  <tbody>\n",
       "    <tr>\n",
       "      <th>0</th>\n",
       "      <td>لا</td>\n",
       "      <td>لا</td>\n",
       "      <td>Arabic</td>\n",
       "      <td>(Conjunction Prefix Particle) Not, and not Non...</td>\n",
       "      <td>https://etymologeek.com/ara/لا</td>\n",
       "    </tr>\n",
       "    <tr>\n",
       "      <th>1</th>\n",
       "      <td>لا</td>\n",
       "      <td>لا</td>\n",
       "      <td>Persian</td>\n",
       "      <td>(Noun) (music) A, La (the sixth note of the fi...</td>\n",
       "      <td>https://etymologeek.com/fas/لا</td>\n",
       "    </tr>\n",
       "    <tr>\n",
       "      <th>2</th>\n",
       "      <td>لا</td>\n",
       "      <td>لا</td>\n",
       "      <td>Gurani</td>\n",
       "      <td>NaN</td>\n",
       "      <td>https://etymologeek.com/hac/لا</td>\n",
       "    </tr>\n",
       "    <tr>\n",
       "      <th>3</th>\n",
       "      <td>لا</td>\n",
       "      <td>لاءوتن</td>\n",
       "      <td>Malay</td>\n",
       "      <td>(Noun) Ocean (one of the five large bodies of ...</td>\n",
       "      <td>https://etymologeek.com/msa/لاءوتن</td>\n",
       "    </tr>\n",
       "    <tr>\n",
       "      <th>4</th>\n",
       "      <td>لا</td>\n",
       "      <td>لابھ</td>\n",
       "      <td>Urdu</td>\n",
       "      <td>(Noun) Advantage. Gain. Profit.Advantage. Gain...</td>\n",
       "      <td>https://etymologeek.com/urd/لابھ</td>\n",
       "    </tr>\n",
       "    <tr>\n",
       "      <th>...</th>\n",
       "      <td>...</td>\n",
       "      <td>...</td>\n",
       "      <td>...</td>\n",
       "      <td>...</td>\n",
       "      <td>...</td>\n",
       "    </tr>\n",
       "    <tr>\n",
       "      <th>4078</th>\n",
       "      <td>العربية</td>\n",
       "      <td>العربية</td>\n",
       "      <td>Arabic</td>\n",
       "      <td>(Proper noun) The Arabic language.The Arabic l...</td>\n",
       "      <td>https://etymologeek.com/ara/العربية</td>\n",
       "    </tr>\n",
       "    <tr>\n",
       "      <th>4079</th>\n",
       "      <td>إلين</td>\n",
       "      <td>إلين</td>\n",
       "      <td>Hijazi Arabic</td>\n",
       "      <td>(Preposition) Until.Until.</td>\n",
       "      <td>https://etymologeek.com/acw/إلين</td>\n",
       "    </tr>\n",
       "    <tr>\n",
       "      <th>4080</th>\n",
       "      <td>إلين</td>\n",
       "      <td>إلينا</td>\n",
       "      <td>Arabic</td>\n",
       "      <td>(Adverb) To us.To us.</td>\n",
       "      <td>https://etymologeek.com/ara/إلينا</td>\n",
       "    </tr>\n",
       "    <tr>\n",
       "      <th>4081</th>\n",
       "      <td>مستقر</td>\n",
       "      <td>مستقر</td>\n",
       "      <td>Arabic</td>\n",
       "      <td>(Noun) Fixed domicile, fixed residence, fixed ...</td>\n",
       "      <td>https://etymologeek.com/ara/مستقر</td>\n",
       "    </tr>\n",
       "    <tr>\n",
       "      <th>4082</th>\n",
       "      <td>صيني</td>\n",
       "      <td>صينية</td>\n",
       "      <td>Arabic</td>\n",
       "      <td>(Noun) (usually definite) Chinese language.(us...</td>\n",
       "      <td>https://etymologeek.com/ara/صينية</td>\n",
       "    </tr>\n",
       "  </tbody>\n",
       "</table>\n",
       "<p>4083 rows × 5 columns</p>\n",
       "</div>"
      ],
      "text/plain": [
       "     search_word dict_entry        language  \\\n",
       "0             لا         لا          Arabic   \n",
       "1             لا         لا         Persian   \n",
       "2             لا         لا          Gurani   \n",
       "3             لا     لاءوتن           Malay   \n",
       "4             لا       لابھ            Urdu   \n",
       "...          ...        ...             ...   \n",
       "4078     العربية    العربية          Arabic   \n",
       "4079        إلين       إلين   Hijazi Arabic   \n",
       "4080        إلين      إلينا          Arabic   \n",
       "4081       مستقر      مستقر          Arabic   \n",
       "4082        صيني      صينية          Arabic   \n",
       "\n",
       "                                             definition  \\\n",
       "0     (Conjunction Prefix Particle) Not, and not Non...   \n",
       "1     (Noun) (music) A, La (the sixth note of the fi...   \n",
       "2                                                   NaN   \n",
       "3     (Noun) Ocean (one of the five large bodies of ...   \n",
       "4     (Noun) Advantage. Gain. Profit.Advantage. Gain...   \n",
       "...                                                 ...   \n",
       "4078  (Proper noun) The Arabic language.The Arabic l...   \n",
       "4079                         (Preposition) Until.Until.   \n",
       "4080                              (Adverb) To us.To us.   \n",
       "4081  (Noun) Fixed domicile, fixed residence, fixed ...   \n",
       "4082  (Noun) (usually definite) Chinese language.(us...   \n",
       "\n",
       "                                     href  \n",
       "0          https://etymologeek.com/ara/لا  \n",
       "1          https://etymologeek.com/fas/لا  \n",
       "2          https://etymologeek.com/hac/لا  \n",
       "3      https://etymologeek.com/msa/لاءوتن  \n",
       "4        https://etymologeek.com/urd/لابھ  \n",
       "...                                   ...  \n",
       "4078  https://etymologeek.com/ara/العربية  \n",
       "4079     https://etymologeek.com/acw/إلين  \n",
       "4080    https://etymologeek.com/ara/إلينا  \n",
       "4081    https://etymologeek.com/ara/مستقر  \n",
       "4082    https://etymologeek.com/ara/صينية  \n",
       "\n",
       "[4083 rows x 5 columns]"
      ]
     },
     "execution_count": 38,
     "metadata": {},
     "output_type": "execute_result"
    }
   ],
   "source": [
    "df_main_word = pd.read_excel(f\"{lang_folder.capitalize()}_Etymologeek_Main_Result.xlsx\")\n",
    "df_main_word"
   ]
  },
  {
   "cell_type": "code",
   "execution_count": 39,
   "metadata": {},
   "outputs": [
    {
     "data": {
      "text/plain": [
       "1415"
      ]
     },
     "execution_count": 39,
     "metadata": {},
     "output_type": "execute_result"
    }
   ],
   "source": [
    "df_main_word.search_word.nunique()"
   ]
  },
  {
   "cell_type": "code",
   "execution_count": 40,
   "metadata": {},
   "outputs": [
    {
     "data": {
      "text/plain": [
       "62"
      ]
     },
     "execution_count": 40,
     "metadata": {},
     "output_type": "execute_result"
    }
   ],
   "source": [
    "df_main_word.language.nunique()"
   ]
  },
  {
   "cell_type": "code",
   "execution_count": 41,
   "metadata": {},
   "outputs": [
    {
     "data": {
      "text/html": [
       "<div>\n",
       "<style scoped>\n",
       "    .dataframe tbody tr th:only-of-type {\n",
       "        vertical-align: middle;\n",
       "    }\n",
       "\n",
       "    .dataframe tbody tr th {\n",
       "        vertical-align: top;\n",
       "    }\n",
       "\n",
       "    .dataframe thead th {\n",
       "        text-align: right;\n",
       "    }\n",
       "</style>\n",
       "<table border=\"1\" class=\"dataframe\">\n",
       "  <thead>\n",
       "    <tr style=\"text-align: right;\">\n",
       "      <th></th>\n",
       "      <th>search_word</th>\n",
       "      <th>dict_entry_main</th>\n",
       "      <th>language_main</th>\n",
       "      <th>definition_main</th>\n",
       "      <th>dict_entry</th>\n",
       "      <th>language</th>\n",
       "      <th>definition</th>\n",
       "    </tr>\n",
       "  </thead>\n",
       "  <tbody>\n",
       "    <tr>\n",
       "      <th>0</th>\n",
       "      <td>لا</td>\n",
       "      <td>لا</td>\n",
       "      <td>Arabic</td>\n",
       "      <td>(Conjunction Prefix Particle) Not, and not Non...</td>\n",
       "      <td>ليس</td>\n",
       "      <td>Arabic (ara)</td>\n",
       "      <td>(copulative) not to be. Not to exist; (third p...</td>\n",
       "    </tr>\n",
       "    <tr>\n",
       "      <th>1</th>\n",
       "      <td>لا</td>\n",
       "      <td>لا</td>\n",
       "      <td>Arabic</td>\n",
       "      <td>(Conjunction Prefix Particle) Not, and not Non...</td>\n",
       "      <td>*lā</td>\n",
       "      <td>Proto-Semitic (sem-pro)</td>\n",
       "      <td>No Not.</td>\n",
       "    </tr>\n",
       "    <tr>\n",
       "      <th>2</th>\n",
       "      <td>لا</td>\n",
       "      <td>لا</td>\n",
       "      <td>Arabic</td>\n",
       "      <td>(Conjunction Prefix Particle) Not, and not Non...</td>\n",
       "      <td>لا</td>\n",
       "      <td>Arabic (ara)</td>\n",
       "      <td>Not, and not Non-, un-, in- Do not; expresses ...</td>\n",
       "    </tr>\n",
       "    <tr>\n",
       "      <th>3</th>\n",
       "      <td>لا</td>\n",
       "      <td>لا</td>\n",
       "      <td>Persian</td>\n",
       "      <td>(Noun) (music) A, La (the sixth note of the fi...</td>\n",
       "      <td>لا</td>\n",
       "      <td>Persian</td>\n",
       "      <td>(Noun) (music) A, La (the sixth note of the fi...</td>\n",
       "    </tr>\n",
       "    <tr>\n",
       "      <th>4</th>\n",
       "      <td>لا</td>\n",
       "      <td>لا</td>\n",
       "      <td>Persian</td>\n",
       "      <td>(Noun) (music) A, La (the sixth note of the fi...</td>\n",
       "      <td>لا</td>\n",
       "      <td>Persian</td>\n",
       "      <td>(Particle) (rare) un-.(rare) un-.</td>\n",
       "    </tr>\n",
       "    <tr>\n",
       "      <th>...</th>\n",
       "      <td>...</td>\n",
       "      <td>...</td>\n",
       "      <td>...</td>\n",
       "      <td>...</td>\n",
       "      <td>...</td>\n",
       "      <td>...</td>\n",
       "      <td>...</td>\n",
       "    </tr>\n",
       "    <tr>\n",
       "      <th>12031</th>\n",
       "      <td>إلين</td>\n",
       "      <td>إلينا</td>\n",
       "      <td>Arabic</td>\n",
       "      <td>(Adverb) To us.To us.</td>\n",
       "      <td>إلينا</td>\n",
       "      <td>Arabic (ara)</td>\n",
       "      <td>To us.</td>\n",
       "    </tr>\n",
       "    <tr>\n",
       "      <th>12032</th>\n",
       "      <td>مستقر</td>\n",
       "      <td>مستقر</td>\n",
       "      <td>Arabic</td>\n",
       "      <td>(Noun) Fixed domicile, fixed residence, fixed ...</td>\n",
       "      <td>مستقر</td>\n",
       "      <td>Arabic</td>\n",
       "      <td>(Adjective) Confessing. Firm, solid, stable. F...</td>\n",
       "    </tr>\n",
       "    <tr>\n",
       "      <th>12033</th>\n",
       "      <td>مستقر</td>\n",
       "      <td>مستقر</td>\n",
       "      <td>Arabic</td>\n",
       "      <td>(Noun) Fixed domicile, fixed residence, fixed ...</td>\n",
       "      <td>مستقر</td>\n",
       "      <td>Arabic</td>\n",
       "      <td>(Noun) Fixed domicile, fixed residence, fixed ...</td>\n",
       "    </tr>\n",
       "    <tr>\n",
       "      <th>12034</th>\n",
       "      <td>صيني</td>\n",
       "      <td>صينية</td>\n",
       "      <td>Arabic</td>\n",
       "      <td>(Noun) (usually definite) Chinese language.(us...</td>\n",
       "      <td>لُغَة صِينِيَّة</td>\n",
       "      <td>Arabic (ara)</td>\n",
       "      <td></td>\n",
       "    </tr>\n",
       "    <tr>\n",
       "      <th>12035</th>\n",
       "      <td>صيني</td>\n",
       "      <td>صينية</td>\n",
       "      <td>Arabic</td>\n",
       "      <td>(Noun) (usually definite) Chinese language.(us...</td>\n",
       "      <td>صينية</td>\n",
       "      <td>Arabic (ara)</td>\n",
       "      <td>(usually definite) Chinese language.</td>\n",
       "    </tr>\n",
       "  </tbody>\n",
       "</table>\n",
       "<p>12036 rows × 7 columns</p>\n",
       "</div>"
      ],
      "text/plain": [
       "      search_word dict_entry_main language_main  \\\n",
       "0              لا              لا        Arabic   \n",
       "1              لا              لا        Arabic   \n",
       "2              لا              لا        Arabic   \n",
       "3              لا              لا       Persian   \n",
       "4              لا              لا       Persian   \n",
       "...           ...             ...           ...   \n",
       "12031        إلين           إلينا        Arabic   \n",
       "12032       مستقر           مستقر        Arabic   \n",
       "12033       مستقر           مستقر        Arabic   \n",
       "12034        صيني           صينية        Arabic   \n",
       "12035        صيني           صينية        Arabic   \n",
       "\n",
       "                                         definition_main       dict_entry  \\\n",
       "0      (Conjunction Prefix Particle) Not, and not Non...              ليس   \n",
       "1      (Conjunction Prefix Particle) Not, and not Non...              *lā   \n",
       "2      (Conjunction Prefix Particle) Not, and not Non...               لا   \n",
       "3      (Noun) (music) A, La (the sixth note of the fi...               لا   \n",
       "4      (Noun) (music) A, La (the sixth note of the fi...               لا   \n",
       "...                                                  ...              ...   \n",
       "12031                              (Adverb) To us.To us.            إلينا   \n",
       "12032  (Noun) Fixed domicile, fixed residence, fixed ...            مستقر   \n",
       "12033  (Noun) Fixed domicile, fixed residence, fixed ...            مستقر   \n",
       "12034  (Noun) (usually definite) Chinese language.(us...  لُغَة صِينِيَّة   \n",
       "12035  (Noun) (usually definite) Chinese language.(us...            صينية   \n",
       "\n",
       "                       language  \\\n",
       "0                  Arabic (ara)   \n",
       "1       Proto-Semitic (sem-pro)   \n",
       "2                  Arabic (ara)   \n",
       "3                       Persian   \n",
       "4                       Persian   \n",
       "...                         ...   \n",
       "12031              Arabic (ara)   \n",
       "12032                    Arabic   \n",
       "12033                    Arabic   \n",
       "12034              Arabic (ara)   \n",
       "12035              Arabic (ara)   \n",
       "\n",
       "                                              definition  \n",
       "0      (copulative) not to be. Not to exist; (third p...  \n",
       "1                                                No Not.  \n",
       "2      Not, and not Non-, un-, in- Do not; expresses ...  \n",
       "3      (Noun) (music) A, La (the sixth note of the fi...  \n",
       "4                      (Particle) (rare) un-.(rare) un-.  \n",
       "...                                                  ...  \n",
       "12031                                             To us.  \n",
       "12032  (Adjective) Confessing. Firm, solid, stable. F...  \n",
       "12033  (Noun) Fixed domicile, fixed residence, fixed ...  \n",
       "12034                                                     \n",
       "12035               (usually definite) Chinese language.  \n",
       "\n",
       "[12036 rows x 7 columns]"
      ]
     },
     "execution_count": 41,
     "metadata": {},
     "output_type": "execute_result"
    }
   ],
   "source": [
    "search_word = df_main_word[\"search_word\"].to_list()\n",
    "dict_entry_main = df_main_word[\"dict_entry\"].to_list()\n",
    "language_main = df_main_word[\"language\"].to_list()\n",
    "definition_main = df_main_word[\"definition\"].to_list()\t\n",
    "href_url = df_main_word[\"href\"].to_list()\n",
    "main_iter_values = zip(search_word, dict_entry_main, language_main, definition_main, href_url)\n",
    "result_list2 = []\n",
    "for search, dict_ent, lang_main, def_main, href in main_iter_values:\n",
    "    try:\n",
    "        response = requests.get(f\"{href}\")\n",
    "        soup = BeautifulSoup(response.content, 'lxml')\n",
    "        word = soup.find('tbody', attrs={\"id\":\"tb\"})\n",
    "        dict_entry = word.findAll('td', attrs={\"data-th\":\"Dic. entry\"})\n",
    "        lang = word.findAll('td', attrs={\"data-th\":\"Language\"})\n",
    "        definition = word.findAll('td', attrs={\"data-th\":\"Definition\"})\n",
    "        iter_values = zip(dict_entry, lang, definition)\n",
    "        for a, b, c in iter_values:\n",
    "            var1 = a.get_text()\n",
    "            var2 = b.get_text()\n",
    "            var3 = c.get_text()\n",
    "            result_list2.append([search, dict_ent, lang_main, def_main, var1, var2, var3])\n",
    "    except:\n",
    "        pass\n",
    "\n",
    "df_result2 = pd.DataFrame(result_list2)\n",
    "df_result2.rename(columns={0:\"search_word\", 1:\"dict_entry_main\", 2:\"language_main\", 3:\"definition_main\", 4:\"dict_entry\", 5:\"language\", 6:\"definition\"}, inplace=True)\n",
    "df_result2"
   ]
  },
  {
   "cell_type": "code",
   "execution_count": 42,
   "metadata": {},
   "outputs": [],
   "source": [
    "df_result2.language_main = df_result2.language_main.apply(lambda x: x.strip())\n",
    "df_result2.language = df_result2.language.apply(lambda x: x.strip())"
   ]
  },
  {
   "cell_type": "code",
   "execution_count": 45,
   "metadata": {},
   "outputs": [],
   "source": [
    "df_result2.to_excel(f\"{lang_folder.capitalize()}_Etymologeek_Main_And_Additional_Result.xlsx\", index=False)"
   ]
  },
  {
   "cell_type": "code",
   "execution_count": null,
   "metadata": {},
   "outputs": [],
   "source": []
  },
  {
   "cell_type": "markdown",
   "metadata": {},
   "source": [
    "#### Another Data Process "
   ]
  },
  {
   "cell_type": "code",
   "execution_count": null,
   "metadata": {},
   "outputs": [],
   "source": [
    "df_another = pd.read_csv(\"/media/kurubal/SSD/Data Scientist/Work/Modern Ways/Project/Web Scrapping/Data/All/etymology.csv\")\n",
    "df_another"
   ]
  },
  {
   "cell_type": "code",
   "execution_count": null,
   "metadata": {},
   "outputs": [],
   "source": [
    "df_select = df_another.loc[:,[\"lang\",\"term\",\"reltype\",\"related_lang\",\"related_term\"]]\n",
    "df_select"
   ]
  },
  {
   "cell_type": "code",
   "execution_count": null,
   "metadata": {},
   "outputs": [],
   "source": [
    "df_select.isnull().sum()"
   ]
  },
  {
   "cell_type": "code",
   "execution_count": null,
   "metadata": {},
   "outputs": [],
   "source": [
    "df_select.drop_duplicates(inplace=True)\n",
    "df_select.dropna(inplace=True)\n",
    "df_select.reset_index(drop=True, inplace=True)\n",
    "df_select"
   ]
  },
  {
   "cell_type": "code",
   "execution_count": null,
   "metadata": {},
   "outputs": [],
   "source": [
    "#df_select.to_csv(\"/media/kurubal/SSD/Data Scientist/Work/Modern Ways/Project/Web Scrapping/Data/All/etymology_clean.csv\", index=False)"
   ]
  },
  {
   "cell_type": "code",
   "execution_count": null,
   "metadata": {},
   "outputs": [],
   "source": []
  },
  {
   "cell_type": "markdown",
   "metadata": {},
   "source": [
    "##### Sample Process"
   ]
  },
  {
   "cell_type": "code",
   "execution_count": null,
   "metadata": {},
   "outputs": [],
   "source": [
    "df_clean = pd.read_csv(\"/media/kurubal/SSD/Data Scientist/Work/Modern Ways/Project/Web Scrapping/Data/All/etymology_clean.csv\")\n",
    "df_clean = df_clean.head(150000)\n",
    "df_clean"
   ]
  },
  {
   "cell_type": "code",
   "execution_count": null,
   "metadata": {},
   "outputs": [],
   "source": [
    "df_clean[\"lang\"] = df_clean[\"lang\"].apply(lambda x: x.capitalize())\n",
    "df_clean[\"lang\"] = df_clean[\"lang\"].apply(lambda x: x.strip())\n",
    "df_clean[\"term\"] = df_clean[\"term\"].apply(lambda x: x.lower())\n",
    "df_clean[\"term\"] = df_clean[\"term\"].apply(lambda x: x.strip())\n",
    "df_clean[\"related_lang\"] = df_clean[\"lang\"].apply(lambda x: x.capitalize())\n",
    "df_clean[\"related_lang\"] = df_clean[\"lang\"].apply(lambda x: x.strip())\n",
    "df_clean[\"related_term\"] = df_clean[\"related_term\"].apply(lambda x: x.lower())\n",
    "df_clean[\"related_term\"] = df_clean[\"related_term\"].apply(lambda x: x.strip())  # clean whitespace"
   ]
  },
  {
   "cell_type": "code",
   "execution_count": null,
   "metadata": {},
   "outputs": [],
   "source": [
    "result_list = []\n",
    "for i in range(len(df_clean)):\n",
    "    lang_11 = df_clean.loc[i,\"lang\"]\n",
    "    term_11 = df_clean.loc[i,\"term\"]\n",
    "    reltype_11\t= df_clean.loc[i,\"reltype\"]\n",
    "    lang_12 = df_clean.loc[i,\"related_lang\"]\n",
    "    term_12 = df_clean.loc[i,\"related_term\"]\n",
    "    \n",
    "    try:\n",
    "        df_var = df_clean[(df_clean[\"term\"] == f\"{term_12}\")]\n",
    "        df_var.reset_index(drop=True, inplace=True)\n",
    "        j = 0\n",
    "        while j < len(df_var):                    \n",
    "            lang_21 = df_var.loc[j,\"lang\"]\n",
    "            term_21 = df_var.loc[j,\"term\"]\n",
    "            #reltype_21\t= df_var.loc[j,\"reltype\"]\n",
    "            lang_22 = df_var.loc[j,\"related_lang\"]\n",
    "            term_22 = df_var.loc[j,\"related_term\"]\n",
    "            if ((f\"{lang_21}\" == f\"{lang_12}\") & (f\"{term_21}\" == f\"{term_12}\")):\n",
    "                result_list.append([lang_11,term_11,reltype_11,lang_22,term_22])\n",
    "            else:\n",
    "                result_list.append([lang_11,term_11,reltype_11,lang_12,term_12])\n",
    "            \n",
    "            j+=1\n",
    "    except:\n",
    "        result_list.append([lang_11,term_11,reltype_11,lang_12,term_12])"
   ]
  },
  {
   "cell_type": "code",
   "execution_count": null,
   "metadata": {},
   "outputs": [],
   "source": [
    "df_result = pd.DataFrame(result_list, columns=[\"lang\",\"term\",\"reltype\",\"related_lang\",\"related_term\"])\n",
    "df_result.drop_duplicates(inplace=True)\n",
    "df_result.reset_index(drop=True,inplace=True)\n",
    "df_result"
   ]
  },
  {
   "cell_type": "code",
   "execution_count": null,
   "metadata": {},
   "outputs": [],
   "source": [
    "#df_result.to_csv(\"etymology_cross_check_sample.csv\", index=False)"
   ]
  },
  {
   "cell_type": "code",
   "execution_count": null,
   "metadata": {},
   "outputs": [],
   "source": []
  },
  {
   "cell_type": "markdown",
   "metadata": {},
   "source": [
    "##### Multi Process"
   ]
  },
  {
   "cell_type": "code",
   "execution_count": null,
   "metadata": {},
   "outputs": [],
   "source": [
    "import os\n",
    "import multiprocessing\n",
    "#import multiprocessing as mp\n",
    "from multiprocessing import Process, Manager, Pool, Queue\n",
    "from itertools import islice\n",
    "import re\n",
    "import pandas as pd\n",
    "import numpy as np"
   ]
  },
  {
   "cell_type": "code",
   "execution_count": null,
   "metadata": {},
   "outputs": [],
   "source": [
    "nprocs = multiprocessing.cpu_count()\n",
    "print(f\"Number of CPU cores: {nprocs}\")"
   ]
  },
  {
   "cell_type": "code",
   "execution_count": null,
   "metadata": {},
   "outputs": [],
   "source": [
    "df_clean = pd.read_csv(\"/media/kurubal/SSD/Data Scientist/Work/Modern Ways/Project/Web Scrapping/Data/All/etymology_clean.csv\")\n",
    "#df_clean = df_clean.head(150000)\n",
    "df_clean"
   ]
  },
  {
   "cell_type": "code",
   "execution_count": null,
   "metadata": {},
   "outputs": [],
   "source": [
    "df_clean[\"lang\"] = df_clean[\"lang\"].apply(lambda x: x.capitalize())\n",
    "df_clean[\"lang\"] = df_clean[\"lang\"].apply(lambda x: x.strip())\n",
    "df_clean[\"term\"] = df_clean[\"term\"].apply(lambda x: x.lower())\n",
    "df_clean[\"term\"] = df_clean[\"term\"].apply(lambda x: x.strip())\n",
    "df_clean[\"related_lang\"] = df_clean[\"lang\"].apply(lambda x: x.capitalize())\n",
    "df_clean[\"related_lang\"] = df_clean[\"lang\"].apply(lambda x: x.strip())\n",
    "df_clean[\"related_term\"] = df_clean[\"related_term\"].apply(lambda x: x.lower())\n",
    "df_clean[\"related_term\"] = df_clean[\"related_term\"].apply(lambda x: x.strip()) "
   ]
  },
  {
   "cell_type": "code",
   "execution_count": null,
   "metadata": {},
   "outputs": [],
   "source": [
    "d_list = range(len(df_clean))"
   ]
  },
  {
   "cell_type": "code",
   "execution_count": null,
   "metadata": {},
   "outputs": [],
   "source": [
    "resultlist = []"
   ]
  },
  {
   "cell_type": "code",
   "execution_count": null,
   "metadata": {},
   "outputs": [],
   "source": [
    "#import os\n",
    "#from multiprocessing import Process, Manager, Pool, Queue\n",
    "manager = multiprocessing.Manager()\n",
    "resultlist = manager.list()\n",
    "\n",
    "def cross_check(i):\n",
    "    lang_11 = df_clean.loc[i,\"lang\"]\n",
    "    term_11 = df_clean.loc[i,\"term\"]\n",
    "    reltype_11\t= df_clean.loc[i,\"reltype\"]\n",
    "    lang_12 = df_clean.loc[i,\"related_lang\"]\n",
    "    term_12 = df_clean.loc[i,\"related_term\"]\n",
    "    \n",
    "    try:\n",
    "        df_var = df_clean[(df_clean[\"term\"] == f\"{term_12}\")]\n",
    "        df_var.reset_index(drop=True, inplace=True)\n",
    "        j = 0\n",
    "        while j < len(df_var):                    \n",
    "            lang_21 = df_var.loc[j,\"lang\"]\n",
    "            term_21 = df_var.loc[j,\"term\"]\n",
    "            #reltype_21\t= df_var.loc[j,\"reltype\"]\n",
    "            lang_22 = df_var.loc[j,\"related_lang\"]\n",
    "            term_22 = df_var.loc[j,\"related_term\"]\n",
    "            if ((f\"{lang_21}\" == f\"{lang_12}\") & (f\"{term_21}\" == f\"{term_12}\")):\n",
    "                resultlist.append([lang_11,term_11,reltype_11,lang_22,term_22])\n",
    "            else:\n",
    "                resultlist.append([lang_11,term_11,reltype_11,lang_12,term_12])\n",
    "            \n",
    "            j+=1\n",
    "    except:\n",
    "        resultlist.append([lang_11,term_11,reltype_11,lang_12,term_12])\n",
    "\n",
    "if __name__ == '__main__':\n",
    "    # with Pool(16) as p:\n",
    "    with Pool(nprocs) as p: # Pool number CPU sayısına eşit olursa tüm CPU lar çalışır\n",
    "        p.map(cross_check, d_list) # string_word liste"
   ]
  },
  {
   "cell_type": "code",
   "execution_count": null,
   "metadata": {},
   "outputs": [],
   "source": [
    "result_list = list(resultlist)\n",
    "df_result = pd.DataFrame(result_list, columns=[\"lang\",\"term\",\"reltype\",\"related_lang\",\"related_term\"])\n",
    "df_result.drop_duplicates(inplace=True)\n",
    "df_result.reset_index(drop=True,inplace=True)\n",
    "df_result"
   ]
  },
  {
   "cell_type": "code",
   "execution_count": null,
   "metadata": {},
   "outputs": [],
   "source": [
    "df_result.to_csv(\"etymology_cross_check.csv\", index=False)"
   ]
  },
  {
   "cell_type": "code",
   "execution_count": null,
   "metadata": {},
   "outputs": [],
   "source": []
  },
  {
   "cell_type": "code",
   "execution_count": null,
   "metadata": {},
   "outputs": [],
   "source": []
  }
 ],
 "metadata": {
  "interpreter": {
   "hash": "651d507d70892fab0fc6529d935cd476f6e2eb1791525b76da6cc8da34bc0503"
  },
  "kernelspec": {
   "display_name": "Python 3.9.5 ('py39')",
   "language": "python",
   "name": "python3"
  },
  "language_info": {
   "codemirror_mode": {
    "name": "ipython",
    "version": 3
   },
   "file_extension": ".py",
   "mimetype": "text/x-python",
   "name": "python",
   "nbconvert_exporter": "python",
   "pygments_lexer": "ipython3",
   "version": "3.9.5"
  },
  "orig_nbformat": 4
 },
 "nbformat": 4,
 "nbformat_minor": 2
}
