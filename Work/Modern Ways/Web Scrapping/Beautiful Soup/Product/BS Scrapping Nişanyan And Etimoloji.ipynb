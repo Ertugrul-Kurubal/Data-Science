{
 "cells": [
  {
   "attachments": {},
   "cell_type": "markdown",
   "metadata": {},
   "source": [
    "### Etymology"
   ]
  },
  {
   "cell_type": "code",
   "execution_count": null,
   "metadata": {},
   "outputs": [],
   "source": [
    "#!pip install html5lib"
   ]
  },
  {
   "cell_type": "code",
   "execution_count": 1,
   "metadata": {},
   "outputs": [],
   "source": [
    "import pandas as pd\n",
    "import numpy as np\n",
    "import glob\n",
    "import nltk\n",
    "from nltk.stem import WordNetLemmatizer\n",
    "from urllib.request import urlopen\n",
    "from bs4 import BeautifulSoup\n",
    "from json2html import *\n",
    "import re\n",
    "import requests\n",
    "from urllib.request import Request, urlopen\n",
    "from urllib import parse\n",
    "#nltk.download('wordnet')\n",
    "#nltk.download('omw-1.4')"
   ]
  },
  {
   "cell_type": "code",
   "execution_count": null,
   "metadata": {},
   "outputs": [],
   "source": [
    "lang_folder = \"Turkish\""
   ]
  },
  {
   "cell_type": "code",
   "execution_count": null,
   "metadata": {},
   "outputs": [],
   "source": [
    "df_word = pd.read_excel(f\"/media/kurubal/SSD/Data Scientist/Work/Modern Ways/Project/{lang_folder.capitalize()}/Result/Word/Merge/Word_Merge2.xlsx\")\n",
    "#df_word = pd.read_csv(f\"/media/kurubal/SSD/Data Scientist/Work/Modern Ways/Project/{lang_folder.lower().capitalize()}/Result/Word/Merge/Word_Merge2.csv\")\n",
    "df_word = df_word.head(10000)\n",
    "df_word"
   ]
  },
  {
   "cell_type": "code",
   "execution_count": null,
   "metadata": {},
   "outputs": [],
   "source": [
    "word_list = df_word[\"word\"].to_list()"
   ]
  },
  {
   "cell_type": "code",
   "execution_count": null,
   "metadata": {},
   "outputs": [],
   "source": []
  },
  {
   "attachments": {},
   "cell_type": "markdown",
   "metadata": {},
   "source": [
    "#### Nisanyan"
   ]
  },
  {
   "cell_type": "code",
   "execution_count": 2,
   "metadata": {},
   "outputs": [],
   "source": [
    "response = requests.get(f\"https://www.nisanyansozluk.com/kelime/armut\")"
   ]
  },
  {
   "cell_type": "code",
   "execution_count": 3,
   "metadata": {},
   "outputs": [],
   "source": [
    "soup = BeautifulSoup(response.content, 'html5lib')\n",
    "#soup"
   ]
  },
  {
   "cell_type": "code",
   "execution_count": 4,
   "metadata": {},
   "outputs": [],
   "source": [
    "#print(soup.prettify())"
   ]
  },
  {
   "cell_type": "code",
   "execution_count": 5,
   "metadata": {},
   "outputs": [
    {
     "data": {
      "text/plain": [
       "[<div data-reactroot=\"\" id=\"__next\"><div><div class=\"sc-fe47d614-0 hWINya\"></div></div></div>,\n",
       " <div><div class=\"sc-fe47d614-0 hWINya\"></div></div>,\n",
       " <div class=\"sc-fe47d614-0 hWINya\"></div>]"
      ]
     },
     "execution_count": 5,
     "metadata": {},
     "output_type": "execute_result"
    }
   ],
   "source": [
    "soup.select('div', attrs={\"class\":\"sc-7f314b79-12 fjUfSp\"})"
   ]
  },
  {
   "cell_type": "code",
   "execution_count": 6,
   "metadata": {},
   "outputs": [],
   "source": [
    "data = soup.find('div', attrs={\"class\":\"sc-7f314b79-12 fjUfSp\"})\n",
    "data"
   ]
  },
  {
   "cell_type": "code",
   "execution_count": null,
   "metadata": {},
   "outputs": [],
   "source": []
  },
  {
   "attachments": {},
   "cell_type": "markdown",
   "metadata": {},
   "source": [
    "#### Etimoloji Türkçe"
   ]
  },
  {
   "cell_type": "code",
   "execution_count": null,
   "metadata": {},
   "outputs": [],
   "source": [
    "result_list = []\n",
    "#for i in word_unique:\n",
    "for i in word_list:\n",
    "    try:\n",
    "        response = requests.get(f\"https://www.etimolojiturkce.com/kelime/{i}\")\n",
    "        soup = BeautifulSoup(response.content, 'lxml')\n",
    "        data = soup.find('div', attrs={\"class\":\"holder\"})\n",
    "        data_main = data.find('div', attrs={\"class\":\"main\"})\n",
    "        word = data_main.find('h1').get_text() \n",
    "        all_paraf = data_main.find_all('p')        \n",
    "        koken = all_paraf[3].get_text()\n",
    "        span = all_paraf[3].span\n",
    "        all_b = span.find_all('b')\n",
    "        lang = all_b[0].get_text()\n",
    "        lang_root = all_b[-1].get_text()\n",
    "\n",
    "        result_list.append([i, word, lang, koken, lang_root])    \n",
    "                \n",
    "        #iter_values = zip(word3, koken2)\n",
    "        #for a, b in iter_values:\n",
    "        #    var1 = a  # span\n",
    "        #    var2 = b  # string\n",
    "        #   \n",
    "        #    result_list.append([i, var1, var2])\n",
    "    except:\n",
    "        pass\n",
    "\n",
    "df_result = pd.DataFrame(result_list)\n",
    "df_result.rename(columns={0:\"search_word\", 1:\"word\", 2:\"lang\",3:\"koken\",4:\"lang_root\"}, inplace=True)\n",
    "df_result"
   ]
  },
  {
   "cell_type": "code",
   "execution_count": null,
   "metadata": {},
   "outputs": [],
   "source": []
  },
  {
   "cell_type": "code",
   "execution_count": null,
   "metadata": {},
   "outputs": [],
   "source": []
  },
  {
   "cell_type": "code",
   "execution_count": null,
   "metadata": {},
   "outputs": [],
   "source": []
  }
 ],
 "metadata": {
  "interpreter": {
   "hash": "651d507d70892fab0fc6529d935cd476f6e2eb1791525b76da6cc8da34bc0503"
  },
  "kernelspec": {
   "display_name": "Python 3.9.5 ('py39')",
   "language": "python",
   "name": "python3"
  },
  "language_info": {
   "codemirror_mode": {
    "name": "ipython",
    "version": 3
   },
   "file_extension": ".py",
   "mimetype": "text/x-python",
   "name": "python",
   "nbconvert_exporter": "python",
   "pygments_lexer": "ipython3",
   "version": "3.9.5"
  },
  "orig_nbformat": 4
 },
 "nbformat": 4,
 "nbformat_minor": 2
}
