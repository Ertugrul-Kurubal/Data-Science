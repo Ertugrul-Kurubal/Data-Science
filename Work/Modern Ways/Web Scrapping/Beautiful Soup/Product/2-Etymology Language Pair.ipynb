{
 "cells": [
  {
   "cell_type": "markdown",
   "metadata": {},
   "source": [
    "### Etymology Language Pair"
   ]
  },
  {
   "cell_type": "code",
   "execution_count": 1,
   "metadata": {},
   "outputs": [],
   "source": [
    "import pandas as pd\n",
    "import numpy as np\n",
    "import glob\n",
    "import nltk\n",
    "from nltk import word_tokenize"
   ]
  },
  {
   "cell_type": "markdown",
   "metadata": {},
   "source": [
    "#### Single Language Pair"
   ]
  },
  {
   "cell_type": "code",
   "execution_count": 2,
   "metadata": {},
   "outputs": [],
   "source": [
    "lang_folder = \"Turkish\""
   ]
  },
  {
   "cell_type": "code",
   "execution_count": 3,
   "metadata": {},
   "outputs": [
    {
     "data": {
      "text/html": [
       "<div>\n",
       "<style scoped>\n",
       "    .dataframe tbody tr th:only-of-type {\n",
       "        vertical-align: middle;\n",
       "    }\n",
       "\n",
       "    .dataframe tbody tr th {\n",
       "        vertical-align: top;\n",
       "    }\n",
       "\n",
       "    .dataframe thead th {\n",
       "        text-align: right;\n",
       "    }\n",
       "</style>\n",
       "<table border=\"1\" class=\"dataframe\">\n",
       "  <thead>\n",
       "    <tr style=\"text-align: right;\">\n",
       "      <th></th>\n",
       "      <th>search_word</th>\n",
       "      <th>dict_entry_main</th>\n",
       "      <th>language_main</th>\n",
       "      <th>definition_main</th>\n",
       "      <th>dict_entry</th>\n",
       "      <th>language</th>\n",
       "      <th>definition</th>\n",
       "    </tr>\n",
       "  </thead>\n",
       "  <tbody>\n",
       "    <tr>\n",
       "      <th>0</th>\n",
       "      <td>bir</td>\n",
       "      <td>bir</td>\n",
       "      <td>Crimean Tatar</td>\n",
       "      <td>(Numeral) (cardinal) one.(cardinal) one.</td>\n",
       "      <td>*bīr</td>\n",
       "      <td>Proto-Turkic (trk-pro)</td>\n",
       "      <td>One.</td>\n",
       "    </tr>\n",
       "    <tr>\n",
       "      <th>1</th>\n",
       "      <td>bir</td>\n",
       "      <td>bir</td>\n",
       "      <td>Crimean Tatar</td>\n",
       "      <td>(Numeral) (cardinal) one.(cardinal) one.</td>\n",
       "      <td>bir</td>\n",
       "      <td>Crimean Tatar (crh)</td>\n",
       "      <td>(cardinal) one.</td>\n",
       "    </tr>\n",
       "    <tr>\n",
       "      <th>2</th>\n",
       "      <td>bir</td>\n",
       "      <td>bir</td>\n",
       "      <td>Middle English</td>\n",
       "      <td>(Noun) A charge on an account.. A strong or fa...</td>\n",
       "      <td>*buriz</td>\n",
       "      <td>Proto-Germanic (gem-pro)</td>\n",
       "      <td>Male offspring; son.</td>\n",
       "    </tr>\n",
       "    <tr>\n",
       "      <th>3</th>\n",
       "      <td>bir</td>\n",
       "      <td>bir</td>\n",
       "      <td>Middle English</td>\n",
       "      <td>(Noun) A charge on an account.. A strong or fa...</td>\n",
       "      <td>*bʰrewh₁-</td>\n",
       "      <td>Proto-Indo-European (ine-pro)</td>\n",
       "      <td>NaN</td>\n",
       "    </tr>\n",
       "    <tr>\n",
       "      <th>4</th>\n",
       "      <td>bir</td>\n",
       "      <td>bir</td>\n",
       "      <td>Middle English</td>\n",
       "      <td>(Noun) A charge on an account.. A strong or fa...</td>\n",
       "      <td>*buriz</td>\n",
       "      <td>Proto-Germanic (gem-pro)</td>\n",
       "      <td>Elevation; hill.</td>\n",
       "    </tr>\n",
       "    <tr>\n",
       "      <th>...</th>\n",
       "      <td>...</td>\n",
       "      <td>...</td>\n",
       "      <td>...</td>\n",
       "      <td>...</td>\n",
       "      <td>...</td>\n",
       "      <td>...</td>\n",
       "      <td>...</td>\n",
       "    </tr>\n",
       "    <tr>\n",
       "      <th>54274</th>\n",
       "      <td>şah</td>\n",
       "      <td>şahin</td>\n",
       "      <td>Turkish</td>\n",
       "      <td>(Noun) Buteo.Buteo.</td>\n",
       "      <td>şahin</td>\n",
       "      <td>Turkish (tur)</td>\n",
       "      <td>Buteo.</td>\n",
       "    </tr>\n",
       "    <tr>\n",
       "      <th>54275</th>\n",
       "      <td>şah</td>\n",
       "      <td>şahıs</td>\n",
       "      <td>Turkish</td>\n",
       "      <td>(Noun) Person.Person.</td>\n",
       "      <td>شخص</td>\n",
       "      <td>Arabic (ara)</td>\n",
       "      <td>Figure, character. Person, individual. Someone...</td>\n",
       "    </tr>\n",
       "    <tr>\n",
       "      <th>54276</th>\n",
       "      <td>şah</td>\n",
       "      <td>şahıs</td>\n",
       "      <td>Turkish</td>\n",
       "      <td>(Noun) Person.Person.</td>\n",
       "      <td>şahıs</td>\n",
       "      <td>Turkish (tur)</td>\n",
       "      <td>Person.</td>\n",
       "    </tr>\n",
       "    <tr>\n",
       "      <th>54277</th>\n",
       "      <td>şah</td>\n",
       "      <td>şahsi</td>\n",
       "      <td>Turkish</td>\n",
       "      <td>(Adjective) Personal.Personal.</td>\n",
       "      <td>شخصی</td>\n",
       "      <td>Persian (fas)</td>\n",
       "      <td>Personal.</td>\n",
       "    </tr>\n",
       "    <tr>\n",
       "      <th>54278</th>\n",
       "      <td>şah</td>\n",
       "      <td>şahsi</td>\n",
       "      <td>Turkish</td>\n",
       "      <td>(Adjective) Personal.Personal.</td>\n",
       "      <td>şahsi</td>\n",
       "      <td>Turkish (tur)</td>\n",
       "      <td>Personal.</td>\n",
       "    </tr>\n",
       "  </tbody>\n",
       "</table>\n",
       "<p>54279 rows × 7 columns</p>\n",
       "</div>"
      ],
      "text/plain": [
       "      search_word dict_entry_main   language_main  \\\n",
       "0             bir             bir   Crimean Tatar   \n",
       "1             bir             bir   Crimean Tatar   \n",
       "2             bir             bir  Middle English   \n",
       "3             bir             bir  Middle English   \n",
       "4             bir             bir  Middle English   \n",
       "...           ...             ...             ...   \n",
       "54274         şah           şahin         Turkish   \n",
       "54275         şah           şahıs         Turkish   \n",
       "54276         şah           şahıs         Turkish   \n",
       "54277         şah           şahsi         Turkish   \n",
       "54278         şah           şahsi         Turkish   \n",
       "\n",
       "                                         definition_main dict_entry  \\\n",
       "0               (Numeral) (cardinal) one.(cardinal) one.       *bīr   \n",
       "1               (Numeral) (cardinal) one.(cardinal) one.        bir   \n",
       "2      (Noun) A charge on an account.. A strong or fa...     *buriz   \n",
       "3      (Noun) A charge on an account.. A strong or fa...  *bʰrewh₁-   \n",
       "4      (Noun) A charge on an account.. A strong or fa...     *buriz   \n",
       "...                                                  ...        ...   \n",
       "54274                                (Noun) Buteo.Buteo.      şahin   \n",
       "54275                              (Noun) Person.Person.        شخص   \n",
       "54276                              (Noun) Person.Person.      şahıs   \n",
       "54277                     (Adjective) Personal.Personal.       شخصی   \n",
       "54278                     (Adjective) Personal.Personal.      şahsi   \n",
       "\n",
       "                            language  \\\n",
       "0             Proto-Turkic (trk-pro)   \n",
       "1                Crimean Tatar (crh)   \n",
       "2           Proto-Germanic (gem-pro)   \n",
       "3      Proto-Indo-European (ine-pro)   \n",
       "4           Proto-Germanic (gem-pro)   \n",
       "...                              ...   \n",
       "54274                  Turkish (tur)   \n",
       "54275                   Arabic (ara)   \n",
       "54276                  Turkish (tur)   \n",
       "54277                  Persian (fas)   \n",
       "54278                  Turkish (tur)   \n",
       "\n",
       "                                              definition  \n",
       "0                                                   One.  \n",
       "1                                        (cardinal) one.  \n",
       "2                                   Male offspring; son.  \n",
       "3                                                    NaN  \n",
       "4                                       Elevation; hill.  \n",
       "...                                                  ...  \n",
       "54274                                             Buteo.  \n",
       "54275  Figure, character. Person, individual. Someone...  \n",
       "54276                                            Person.  \n",
       "54277                                          Personal.  \n",
       "54278                                          Personal.  \n",
       "\n",
       "[54279 rows x 7 columns]"
      ]
     },
     "execution_count": 3,
     "metadata": {},
     "output_type": "execute_result"
    }
   ],
   "source": [
    "df_result2 = pd.read_excel(f\"/media/kurubal/SSD/Data Scientist/Work/Modern Ways/Project/Web Scrapping/Data/{lang_folder.capitalize()}/{lang_folder.capitalize()}_Etymologeek_Main_And_Additional_Result.xlsx\")\n",
    "df_result2"
   ]
  },
  {
   "cell_type": "code",
   "execution_count": null,
   "metadata": {},
   "outputs": [],
   "source": [
    "df_result2.language_main.unique()"
   ]
  },
  {
   "cell_type": "code",
   "execution_count": null,
   "metadata": {},
   "outputs": [],
   "source": [
    "df_result2.language.unique()"
   ]
  },
  {
   "cell_type": "code",
   "execution_count": null,
   "metadata": {},
   "outputs": [],
   "source": [
    "lang_pair = \"Arabic (ara)\""
   ]
  },
  {
   "cell_type": "code",
   "execution_count": null,
   "metadata": {},
   "outputs": [],
   "source": [
    "df_lang_pair = df_result2[(df_result2[\"language_main\"] == f\"{lang_folder.capitalize()}\") & (df_result2[\"language\"] == f\"{lang_pair.capitalize()}\")]\n",
    "df_lang_pair"
   ]
  },
  {
   "cell_type": "code",
   "execution_count": null,
   "metadata": {},
   "outputs": [],
   "source": [
    "df_lang_pair = df_lang_pair.drop_duplicates(subset=\"dict_entry_main\")\n",
    "df_lang_pair.reset_index(drop=True, inplace=True)\n",
    "df_lang_pair"
   ]
  },
  {
   "cell_type": "code",
   "execution_count": null,
   "metadata": {},
   "outputs": [],
   "source": [
    "#df_lang_pair.to_excel(f\"{lang_folder.capitalize()}_And_{lang_pair.capitalize()}_Etymologeek_Result.xlsx\", index=False)"
   ]
  },
  {
   "cell_type": "code",
   "execution_count": null,
   "metadata": {},
   "outputs": [],
   "source": []
  },
  {
   "cell_type": "markdown",
   "metadata": {},
   "source": [
    "#### Multi File Langauge Pair"
   ]
  },
  {
   "cell_type": "code",
   "execution_count": null,
   "metadata": {},
   "outputs": [],
   "source": [
    "all_etymologeek_file = glob.glob(\"/media/kurubal/SSD/Data Scientist/Work/Modern Ways/Project/Web Scrapping/Data/*/*_Etymologeek_Main_And_Additional_Result.xlsx\")\n",
    "all_etymologeek_file"
   ]
  },
  {
   "cell_type": "code",
   "execution_count": null,
   "metadata": {},
   "outputs": [],
   "source": [
    "df_etymologeek_all = pd.DataFrame()\n",
    "for i in all_etymologeek_file:\n",
    "    df_var = pd.read_excel(f\"{i}\")\n",
    "    df_etymologeek_all = pd.concat([df_etymologeek_all, df_var], axis=0)\n",
    "df_etymologeek_all.drop_duplicates(inplace=True)\n",
    "df_etymologeek_all.reset_index(drop=True, inplace=True)\n",
    "df_etymologeek_all"
   ]
  },
  {
   "cell_type": "code",
   "execution_count": null,
   "metadata": {},
   "outputs": [],
   "source": [
    "#df_etymologeek_all.to_excel(\"All_Etymology_Language_Pair_Result.xlsx\", index=False)"
   ]
  },
  {
   "cell_type": "code",
   "execution_count": null,
   "metadata": {},
   "outputs": [],
   "source": [
    "df_etymologeek_all = pd.read_excel(\"/media/kurubal/SSD/Data Scientist/Work/Modern Ways/Project/Web Scrapping/Result/All/All_Etymology_Language_Pair_Result.xlsx\")\n",
    "df_etymologeek_all"
   ]
  },
  {
   "cell_type": "code",
   "execution_count": null,
   "metadata": {},
   "outputs": [],
   "source": [
    "df_etymologeek_all[\"language_main\"].unique()"
   ]
  },
  {
   "cell_type": "code",
   "execution_count": null,
   "metadata": {},
   "outputs": [],
   "source": [
    "df_etymologeek_all[\"language\"].unique()"
   ]
  },
  {
   "cell_type": "code",
   "execution_count": null,
   "metadata": {},
   "outputs": [],
   "source": [
    "lang_1 = \"Turkish\"\n",
    "lang_2 = \"Arabic (ara)\""
   ]
  },
  {
   "cell_type": "code",
   "execution_count": null,
   "metadata": {},
   "outputs": [],
   "source": [
    "df_lang_pair_all = df_etymologeek_all[(df_etymologeek_all[\"language_main\"] == f\"{lang_1.capitalize()}\") & (df_etymologeek_all[\"language\"] == f\"{lang_2.capitalize()}\")]\n",
    "df_lang_pair_all"
   ]
  },
  {
   "cell_type": "code",
   "execution_count": null,
   "metadata": {},
   "outputs": [],
   "source": [
    "df_lang_pair_all = df_lang_pair_all.drop_duplicates(subset=\"dict_entry_main\")\n",
    "df_lang_pair_all.reset_index(drop=True, inplace=True)\n",
    "df_lang_pair_all"
   ]
  },
  {
   "cell_type": "code",
   "execution_count": null,
   "metadata": {},
   "outputs": [],
   "source": [
    "#df_lang_pair_all.to_excel(f\"{lang_1.capitalize()}_And_{lang_2.capitalize()}_Etymologeek_Result_All.xlsx\", index=False)"
   ]
  },
  {
   "cell_type": "code",
   "execution_count": null,
   "metadata": {},
   "outputs": [],
   "source": []
  },
  {
   "cell_type": "code",
   "execution_count": null,
   "metadata": {},
   "outputs": [],
   "source": []
  },
  {
   "cell_type": "code",
   "execution_count": null,
   "metadata": {},
   "outputs": [],
   "source": []
  },
  {
   "cell_type": "code",
   "execution_count": null,
   "metadata": {},
   "outputs": [],
   "source": []
  },
  {
   "cell_type": "code",
   "execution_count": null,
   "metadata": {},
   "outputs": [],
   "source": []
  },
  {
   "cell_type": "code",
   "execution_count": null,
   "metadata": {},
   "outputs": [],
   "source": []
  },
  {
   "cell_type": "code",
   "execution_count": null,
   "metadata": {},
   "outputs": [],
   "source": []
  }
 ],
 "metadata": {
  "interpreter": {
   "hash": "31f2aee4e71d21fbe5cf8b01ff0e069b9275f58929596ceb00d14d90e3e16cd6"
  },
  "kernelspec": {
   "display_name": "Python 3.8.10 64-bit",
   "language": "python",
   "name": "python3"
  },
  "language_info": {
   "codemirror_mode": {
    "name": "ipython",
    "version": 3
   },
   "file_extension": ".py",
   "mimetype": "text/x-python",
   "name": "python",
   "nbconvert_exporter": "python",
   "pygments_lexer": "ipython3",
   "version": "3.9.5"
  },
  "orig_nbformat": 4
 },
 "nbformat": 4,
 "nbformat_minor": 2
}
