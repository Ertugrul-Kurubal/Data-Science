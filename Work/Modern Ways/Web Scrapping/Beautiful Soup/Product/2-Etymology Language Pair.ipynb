{
 "cells": [
  {
   "cell_type": "markdown",
   "metadata": {},
   "source": [
    "### Etymology Language Pair"
   ]
  },
  {
   "cell_type": "code",
   "execution_count": null,
   "metadata": {},
   "outputs": [],
   "source": [
    "import pandas as pd\n",
    "import numpy as np\n",
    "import glob\n",
    "import nltk\n",
    "from nltk import word_tokenize"
   ]
  },
  {
   "cell_type": "markdown",
   "metadata": {},
   "source": [
    "#### All Etymology File Concat"
   ]
  },
  {
   "cell_type": "code",
   "execution_count": null,
   "metadata": {},
   "outputs": [],
   "source": [
    "all_etymologeek_file = glob.glob(\"/media/kurubal/SSD/Data Scientist/Work/Modern Ways/Project/Web Scrapping/Data/*/*_Etymologeek_Main_And_Additional_Result.xlsx\")\n",
    "all_etymologeek_file"
   ]
  },
  {
   "cell_type": "code",
   "execution_count": null,
   "metadata": {},
   "outputs": [],
   "source": [
    "df_etymologeek_all = pd.DataFrame()\n",
    "for i in all_etymologeek_file:\n",
    "    df_var = pd.read_excel(f\"{i}\")\n",
    "    df_etymologeek_all = pd.concat([df_etymologeek_all, df_var], axis=0)\n",
    "df_etymologeek_all.drop_duplicates(inplace=True)\n",
    "df_etymologeek_all.reset_index(drop=True, inplace=True)\n",
    "df_etymologeek_all"
   ]
  },
  {
   "cell_type": "code",
   "execution_count": null,
   "metadata": {},
   "outputs": [],
   "source": [
    "#df_etymologeek_all.to_excel(\"All_Etymology_Language_Pair_Result.xlsx\", index=False)"
   ]
  },
  {
   "cell_type": "code",
   "execution_count": null,
   "metadata": {},
   "outputs": [],
   "source": []
  },
  {
   "cell_type": "markdown",
   "metadata": {},
   "source": [
    "#### Read Etymologeek All Data"
   ]
  },
  {
   "cell_type": "code",
   "execution_count": null,
   "metadata": {},
   "outputs": [],
   "source": [
    "df_etymologeek_all = pd.read_excel(\"/media/kurubal/SSD/Data Scientist/Work/Modern Ways/Project/Web Scrapping/Data/All/All_Etymology_Language_Pair_Result.xlsx\")\n",
    "df_etymologeek_all"
   ]
  },
  {
   "cell_type": "code",
   "execution_count": null,
   "metadata": {},
   "outputs": [],
   "source": [
    "#df_etymologeek_all[\"language_main\"].unique()"
   ]
  },
  {
   "cell_type": "code",
   "execution_count": null,
   "metadata": {},
   "outputs": [],
   "source": [
    "#df_etymologeek_all[\"language\"].unique()"
   ]
  },
  {
   "cell_type": "code",
   "execution_count": null,
   "metadata": {},
   "outputs": [],
   "source": [
    "lang_1 = \"Turkish\"  # English, Turkish, German, French, Spanish, Arabic, Russian, Portuguese, Dutch, Italian\n",
    "lang_2 = \"Dutch (nld)\"  # English (eng), Turkish (tur), German (deu), French (fra), Spanish (spa), Arabic (ara), Russian (rus), \n",
    "                          # Portuguese (por), Dutch (nld), Italian (ita)"
   ]
  },
  {
   "cell_type": "code",
   "execution_count": null,
   "metadata": {},
   "outputs": [],
   "source": [
    "df_lang_pair1 = df_etymologeek_all[(df_etymologeek_all[\"language_main\"] == f\"{lang_1.capitalize()}\") & (df_etymologeek_all[\"language\"] == f\"{lang_2.capitalize()}\")]\n",
    "df_lang_pair1"
   ]
  },
  {
   "cell_type": "code",
   "execution_count": null,
   "metadata": {},
   "outputs": [],
   "source": [
    "df_lang_pair1[\"dict_entry_main\"] = df_lang_pair1[\"dict_entry_main\"].apply(lambda x: x.lower())\n",
    "df_lang_pair1[\"dict_entry\"] = df_lang_pair1[\"dict_entry\"].apply(lambda x: x.lower())\n",
    "df_lang_pair1 = df_lang_pair1.drop_duplicates(subset=\"dict_entry_main\")\n",
    "df_lang_pair1.reset_index(drop=True, inplace=True)\n",
    "df_lang_pair1"
   ]
  },
  {
   "cell_type": "code",
   "execution_count": null,
   "metadata": {},
   "outputs": [],
   "source": [
    "#df_lang_pair1.to_excel(f\"{lang_1.capitalize()}_And_{lang_2.capitalize()}_Etymologeek_Result1.xlsx\", index=False)  # {lang_1.capitalize()}_And_{lang_2.capitalize()}_Etymologeek_Result_All.xlsx"
   ]
  },
  {
   "cell_type": "code",
   "execution_count": null,
   "metadata": {},
   "outputs": [],
   "source": []
  },
  {
   "cell_type": "markdown",
   "metadata": {},
   "source": [
    "#### Read Github Cross Data"
   ]
  },
  {
   "cell_type": "markdown",
   "metadata": {},
   "source": [
    "##### Part 1"
   ]
  },
  {
   "cell_type": "code",
   "execution_count": null,
   "metadata": {},
   "outputs": [],
   "source": [
    "df_github_cross = pd.read_csv(\"/media/kurubal/SSD/Data Scientist/Work/Modern Ways/Project/Web Scrapping/Data/All/etymology_cross_check2.csv\")\n",
    "df_github_cross"
   ]
  },
  {
   "cell_type": "code",
   "execution_count": null,
   "metadata": {},
   "outputs": [],
   "source": [
    "lang_1 = \"Italian\"  # English, Turkish, German, French, Spanish, Arabic, Russian, Portuguese, Dutch, Italian\n",
    "lang_2 = \"Dutch\"  # English, Turkish, German, French, Spanish, Arabic, Russian, Portuguese, Dutch, Italian"
   ]
  },
  {
   "cell_type": "code",
   "execution_count": null,
   "metadata": {},
   "outputs": [],
   "source": [
    "df_lang1 = df_github_cross[(df_github_cross[\"lang\"] == f\"{lang_1.capitalize()}\")] \n",
    "df_lang1"
   ]
  },
  {
   "cell_type": "code",
   "execution_count": null,
   "metadata": {},
   "outputs": [],
   "source": [
    "df_lang2 = df_github_cross[(df_github_cross[\"lang\"] == f\"{lang_2.capitalize()}\")]\n",
    "df_lang2[\"term\"] = df_lang2[\"term\"].apply(lambda x: x.lower())\n",
    "df_lang2.rename(columns={\"term\":\"word\"}, inplace=True)\n",
    "df_lang2"
   ]
  },
  {
   "cell_type": "code",
   "execution_count": null,
   "metadata": {},
   "outputs": [],
   "source": [
    "df_word = pd.read_excel(f\"/media/kurubal/SSD/Data Scientist/Work/Modern Ways/Project/{lang_2.capitalize()}/Result/Word/Merge/Word_Merge2.xlsx\")\n",
    "df_word = df_word.head(40000)\n",
    "df_word = df_word.loc[:,[\"word\"]]\n",
    "df_word"
   ]
  },
  {
   "cell_type": "code",
   "execution_count": null,
   "metadata": {},
   "outputs": [],
   "source": [
    "df_lang2 = pd.merge(df_lang2,df_word,how=\"inner\",on=\"word\")\n",
    "df_lang2"
   ]
  },
  {
   "cell_type": "code",
   "execution_count": null,
   "metadata": {},
   "outputs": [],
   "source": [
    "set_lang1 = set(df_lang1[\"related_term_id\"])\n",
    "set_lang2= set(df_lang2[\"related_term_id\"])"
   ]
  },
  {
   "cell_type": "code",
   "execution_count": null,
   "metadata": {},
   "outputs": [],
   "source": [
    "df_pair_etymology = pd.DataFrame(set_lang1.intersection(set_lang2),columns=[\"related_term_id\"])\n",
    "df_pair_etymology"
   ]
  },
  {
   "cell_type": "code",
   "execution_count": null,
   "metadata": {},
   "outputs": [],
   "source": [
    "df_etymology_merge = pd.merge(df_github_cross,df_pair_etymology,how=\"inner\",on=\"related_term_id\")\n",
    "df_etymology_merge.drop_duplicates(inplace=True)\n",
    "df_etymology_merge"
   ]
  },
  {
   "cell_type": "code",
   "execution_count": null,
   "metadata": {},
   "outputs": [],
   "source": [
    "df_etymology_merge = df_etymology_merge[df_etymology_merge[\"reltype\"] == \"derived_from\"]\n",
    "df_etymology_merge"
   ]
  },
  {
   "cell_type": "code",
   "execution_count": null,
   "metadata": {},
   "outputs": [],
   "source": [
    "df_etymology_merge = df_etymology_merge[~df_etymology_merge[\"related_term\"].str.contains(fr\"(?:\\s|^)\\*|\\-(?:\\s|$)\", na=True)]\n",
    "df_etymology_merge"
   ]
  },
  {
   "cell_type": "code",
   "execution_count": null,
   "metadata": {},
   "outputs": [],
   "source": [
    "df_lang1_result = df_etymology_merge[(df_etymology_merge[\"lang\"]==f\"{lang_1.capitalize()}\")]\n",
    "df_lang1_result.drop_duplicates(inplace=True)\n",
    "df_lang1_result.reset_index(drop=True, inplace=True)\n",
    "df_lang1_result"
   ]
  },
  {
   "cell_type": "code",
   "execution_count": null,
   "metadata": {},
   "outputs": [],
   "source": [
    "df_lang1_result[\"term\"] = df_lang1_result[\"term\"].apply(lambda x: x.lower())\n",
    "df_lang1_result[\"related_term\"] = df_lang1_result[\"related_term\"].apply(lambda x: x.lower())"
   ]
  },
  {
   "cell_type": "code",
   "execution_count": null,
   "metadata": {},
   "outputs": [],
   "source": [
    "df_lang1_result.to_excel(f\"{lang_1.capitalize()}_And_{lang_2.capitalize()}_Etymologeek_Result2.xlsx\", index=False)"
   ]
  },
  {
   "cell_type": "code",
   "execution_count": null,
   "metadata": {},
   "outputs": [],
   "source": []
  },
  {
   "cell_type": "markdown",
   "metadata": {},
   "source": [
    "##### Part 2"
   ]
  },
  {
   "cell_type": "code",
   "execution_count": null,
   "metadata": {},
   "outputs": [],
   "source": [
    "df_github_clean = pd.read_csv(\"/media/kurubal/SSD/Data Scientist/Work/Modern Ways/Project/Web Scrapping/Data/All/etymology_clean.csv\")\n",
    "df_github_clean"
   ]
  },
  {
   "cell_type": "code",
   "execution_count": null,
   "metadata": {},
   "outputs": [],
   "source": [
    "#lang_1 = \"English\"  # English, Turkish, German, French, Spanish, Arabic, Russian, Portuguese, Dutch, Italian\n",
    "#lang_2 = \"Turkish\"  # English, Turkish, German, French, Spanish, Arabic, Russian, Portuguese, Dutch, Italian"
   ]
  },
  {
   "cell_type": "code",
   "execution_count": null,
   "metadata": {},
   "outputs": [],
   "source": [
    "df_lang1_lang2 = df_github_clean[(df_github_clean[\"lang\"] == f\"{lang_1.capitalize()}\") & (df_github_clean[\"related_lang\"] == f\"{lang_2.capitalize()}\")]\n",
    "df_lang1_lang2[\"term\"] = df_lang1_lang2[\"term\"].apply(lambda x: x.lower())\n",
    "df_lang1_lang2[\"related_term\"] = df_lang1_lang2[\"related_term\"].apply(lambda x: x.lower())\n",
    "df_lang1_lang2.reset_index(drop=True, inplace=True)\n",
    "df_lang1_lang2"
   ]
  },
  {
   "cell_type": "code",
   "execution_count": null,
   "metadata": {},
   "outputs": [],
   "source": [
    "df_word = pd.read_excel(f\"/media/kurubal/SSD/Data Scientist/Work/Modern Ways/Project/{lang_2.capitalize()}/Result/Word/Merge/Word_Merge2.xlsx\")\n",
    "df_word = df_word.head(40000)\n",
    "df_word = df_word.loc[:,[\"word\"]]\n",
    "df_word.rename(columns={\"word\":\"related_term\"}, inplace=True)\n",
    "df_word"
   ]
  },
  {
   "cell_type": "code",
   "execution_count": null,
   "metadata": {},
   "outputs": [],
   "source": [
    "df_lang1_lang2 = pd.merge(df_lang1_lang2,df_word, how=\"inner\", on=\"related_term\")\n",
    "df_lang1_lang2"
   ]
  },
  {
   "cell_type": "code",
   "execution_count": null,
   "metadata": {},
   "outputs": [],
   "source": [
    "df_lang1_lang2.to_excel(f\"{lang_1.capitalize()}_And_{lang_2.capitalize()}_Etymologeek_Result3.xlsx\", index=False)"
   ]
  },
  {
   "cell_type": "code",
   "execution_count": null,
   "metadata": {},
   "outputs": [],
   "source": []
  },
  {
   "cell_type": "markdown",
   "metadata": {},
   "source": [
    "##### Part 3"
   ]
  },
  {
   "cell_type": "code",
   "execution_count": null,
   "metadata": {},
   "outputs": [],
   "source": [
    "df_github_cross = pd.read_csv(\"/media/kurubal/SSD/Data Scientist/Work/Modern Ways/Project/Web Scrapping/Data/All/etymology_cross_check2.csv\")\n",
    "df_github_cross"
   ]
  },
  {
   "cell_type": "code",
   "execution_count": null,
   "metadata": {},
   "outputs": [],
   "source": [
    "#lang_1 = \"Turkish\"  # English, Turkish, German, French, Spanish, Arabic, Russian, Portuguese, Dutch, Italian\n",
    "#lang_2 = \"Portuguese\"  # English, Turkish, German, French, Spanish, Arabic, Russian, Portuguese, Dutch, Italian"
   ]
  },
  {
   "cell_type": "code",
   "execution_count": null,
   "metadata": {},
   "outputs": [],
   "source": [
    "df_lang_pair2 = df_github_cross[(df_github_cross[\"lang\"] == f\"{lang_1.capitalize()}\") & (df_github_cross[\"related_lang\"] == f\"{lang_2.capitalize()}\")]\n",
    "df_lang_pair2.drop_duplicates(inplace=True)\n",
    "df_lang_pair2.reset_index(drop=True, inplace=True)\n",
    "df_lang_pair2"
   ]
  },
  {
   "cell_type": "code",
   "execution_count": null,
   "metadata": {},
   "outputs": [],
   "source": [
    "df_lang_pair2[\"term\"] = df_lang_pair2[\"term\"].apply(lambda x: x.lower())\n",
    "df_lang_pair2[\"related_term\"] = df_lang_pair2[\"related_term\"].apply(lambda x: x.lower())"
   ]
  },
  {
   "cell_type": "code",
   "execution_count": null,
   "metadata": {},
   "outputs": [],
   "source": [
    "#df_lang_pair2 = df_lang_pair2.drop_duplicates(subset=\"term\")\n",
    "#df_lang_pair2.reset_index(drop=True, inplace=True)\n",
    "#df_lang_pair2"
   ]
  },
  {
   "cell_type": "code",
   "execution_count": null,
   "metadata": {},
   "outputs": [],
   "source": [
    "df_word = pd.read_excel(f\"/media/kurubal/SSD/Data Scientist/Work/Modern Ways/Project/{lang_2.capitalize()}/Result/Word/Merge/Word_Merge2.xlsx\")\n",
    "df_word = df_word.head(40000)\n",
    "df_word = df_word.loc[:,[\"word\"]]\n",
    "df_word.rename(columns={\"word\":\"related_term\"}, inplace=True)\n",
    "df_word"
   ]
  },
  {
   "cell_type": "code",
   "execution_count": null,
   "metadata": {},
   "outputs": [],
   "source": [
    "df_lang_pair2 = pd.merge(df_lang_pair2,df_word, how=\"inner\", on=\"related_term\")\n",
    "df_lang_pair2 = df_lang_pair2[(df_lang_pair2[\"reltype\"] == \"cognate_of\") | (df_lang_pair2[\"reltype\"] == \"etymologically_related_to\") | (df_lang_pair2[\"reltype\"] == \"derived_from\") | (df_lang_pair2[\"reltype\"] == \"borrowed_from\")]\n",
    "df_lang_pair2 = df_lang_pair2.loc[:,[\"lang\",\"term\",\"reltype\",\"related_lang\",\"related_term\"]]\n",
    "df_lang_pair2.reset_index(drop=True, inplace=True)\n",
    "df_lang_pair2"
   ]
  },
  {
   "cell_type": "code",
   "execution_count": null,
   "metadata": {},
   "outputs": [],
   "source": [
    "df_lang_pair2.to_excel(f\"{lang_1.capitalize()}_And_{lang_2.capitalize()}_Etymologeek_Result4.xlsx\", index=False)"
   ]
  },
  {
   "cell_type": "code",
   "execution_count": null,
   "metadata": {},
   "outputs": [],
   "source": []
  }
 ],
 "metadata": {
  "interpreter": {
   "hash": "651d507d70892fab0fc6529d935cd476f6e2eb1791525b76da6cc8da34bc0503"
  },
  "kernelspec": {
   "display_name": "Python 3.9.5 ('py39')",
   "language": "python",
   "name": "python3"
  },
  "language_info": {
   "codemirror_mode": {
    "name": "ipython",
    "version": 3
   },
   "file_extension": ".py",
   "mimetype": "text/x-python",
   "name": "python",
   "nbconvert_exporter": "python",
   "pygments_lexer": "ipython3",
   "version": "3.9.5"
  },
  "orig_nbformat": 4
 },
 "nbformat": 4,
 "nbformat_minor": 2
}
