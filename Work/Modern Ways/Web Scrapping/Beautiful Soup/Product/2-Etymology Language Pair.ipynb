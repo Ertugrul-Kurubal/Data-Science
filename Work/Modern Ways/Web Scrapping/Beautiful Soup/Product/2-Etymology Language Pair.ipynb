{
 "cells": [
  {
   "cell_type": "markdown",
   "metadata": {},
   "source": [
    "### Etymology Language Pair"
   ]
  },
  {
   "cell_type": "code",
   "execution_count": 1,
   "metadata": {},
   "outputs": [],
   "source": [
    "import pandas as pd\n",
    "import numpy as np\n",
    "import glob\n",
    "import nltk\n",
    "from nltk import word_tokenize"
   ]
  },
  {
   "cell_type": "markdown",
   "metadata": {},
   "source": [
    "#### Single Language Pair"
   ]
  },
  {
   "cell_type": "code",
   "execution_count": null,
   "metadata": {},
   "outputs": [],
   "source": [
    "lang_folder = \"English\""
   ]
  },
  {
   "cell_type": "code",
   "execution_count": null,
   "metadata": {},
   "outputs": [],
   "source": [
    "df_result2 = pd.read_excel(f\"/media/kurubal/SSD/Data Scientist/Work/Modern Ways/Project/Web Scrapping/Data/{lang_folder.capitalize()}/{lang_folder.capitalize()}_Etymologeek_Main_And_Additional_Result.xlsx\")\n",
    "df_result2"
   ]
  },
  {
   "cell_type": "code",
   "execution_count": null,
   "metadata": {},
   "outputs": [],
   "source": [
    "#df_result2.language_main.unique()"
   ]
  },
  {
   "cell_type": "code",
   "execution_count": null,
   "metadata": {},
   "outputs": [],
   "source": [
    "#df_result2.language.unique()"
   ]
  },
  {
   "cell_type": "code",
   "execution_count": null,
   "metadata": {},
   "outputs": [],
   "source": [
    "lang_pair = \"Turkish (tur)\"  # English (eng), Turkish (tur), German (deu), French (fra), Spanish (spa), Arabic (ara), Russian (rus), Portuguese (por), Dutch (nld), Italian (ita)"
   ]
  },
  {
   "cell_type": "code",
   "execution_count": null,
   "metadata": {},
   "outputs": [],
   "source": [
    "df_lang_pair = df_result2[(df_result2[\"language_main\"] == f\"{lang_folder.capitalize()}\") & (df_result2[\"language\"] == f\"{lang_pair.capitalize()}\")]\n",
    "df_lang_pair"
   ]
  },
  {
   "cell_type": "code",
   "execution_count": null,
   "metadata": {},
   "outputs": [],
   "source": [
    "df_lang_pair = df_lang_pair.drop_duplicates(subset=\"dict_entry_main\")\n",
    "df_lang_pair.reset_index(drop=True, inplace=True)\n",
    "df_lang_pair"
   ]
  },
  {
   "cell_type": "code",
   "execution_count": null,
   "metadata": {},
   "outputs": [],
   "source": [
    "#df_lang_pair.to_excel(f\"{lang_folder.capitalize()}_And_{lang_pair.capitalize()}_Etymologeek_Result.xlsx\", index=False)"
   ]
  },
  {
   "cell_type": "code",
   "execution_count": null,
   "metadata": {},
   "outputs": [],
   "source": []
  },
  {
   "cell_type": "markdown",
   "metadata": {},
   "source": [
    "#### Multi File Langauge Pair"
   ]
  },
  {
   "cell_type": "code",
   "execution_count": null,
   "metadata": {},
   "outputs": [],
   "source": [
    "#all_etymologeek_file = glob.glob(\"/media/kurubal/SSD/Data Scientist/Work/Modern Ways/Project/Web Scrapping/Data/*/*_Etymologeek_Main_And_Additional_Result.xlsx\")\n",
    "#all_etymologeek_file"
   ]
  },
  {
   "cell_type": "code",
   "execution_count": null,
   "metadata": {},
   "outputs": [],
   "source": [
    "#df_etymologeek_all = pd.DataFrame()\n",
    "#for i in all_etymologeek_file:\n",
    "#    df_var = pd.read_excel(f\"{i}\")\n",
    "#    df_etymologeek_all = pd.concat([df_etymologeek_all, df_var], axis=0)\n",
    "#df_etymologeek_all.drop_duplicates(inplace=True)\n",
    "#df_etymologeek_all.reset_index(drop=True, inplace=True)\n",
    "#df_etymologeek_all"
   ]
  },
  {
   "cell_type": "code",
   "execution_count": null,
   "metadata": {},
   "outputs": [],
   "source": [
    "#df_etymologeek_all.to_excel(\"All_Etymology_Language_Pair_Result.xlsx\", index=False)"
   ]
  },
  {
   "cell_type": "code",
   "execution_count": null,
   "metadata": {},
   "outputs": [],
   "source": []
  },
  {
   "cell_type": "markdown",
   "metadata": {},
   "source": [
    "#### Read All Data"
   ]
  },
  {
   "cell_type": "code",
   "execution_count": null,
   "metadata": {},
   "outputs": [],
   "source": [
    "df_etymologeek_all = pd.read_excel(\"/media/kurubal/SSD/Data Scientist/Work/Modern Ways/Project/Web Scrapping/Data/All/All_Etymology_Language_Pair_Result.xlsx\")\n",
    "df_etymologeek_all"
   ]
  },
  {
   "cell_type": "code",
   "execution_count": null,
   "metadata": {},
   "outputs": [],
   "source": [
    "#df_etymologeek_all[\"language_main\"].unique()"
   ]
  },
  {
   "cell_type": "code",
   "execution_count": null,
   "metadata": {},
   "outputs": [],
   "source": [
    "#df_etymologeek_all[\"language\"].unique()"
   ]
  },
  {
   "cell_type": "code",
   "execution_count": null,
   "metadata": {},
   "outputs": [],
   "source": [
    "lang_1 = \"Italian\"  # English, Turkish, German, French, Spanish, Arabic, Russian, Portuguese, Dutch, Italian\n",
    "lang_2 = \"Dutch (nld)\"  # English (eng), Turkish (tur), German (deu), French (fra), Spanish (spa), Arabic (ara), Russian (rus), \n",
    "                          # Portuguese (por), Dutch (nld), Italian (ita)"
   ]
  },
  {
   "cell_type": "code",
   "execution_count": null,
   "metadata": {},
   "outputs": [],
   "source": [
    "df_lang_pair_all = df_etymologeek_all[(df_etymologeek_all[\"language_main\"] == f\"{lang_1.capitalize()}\") & (df_etymologeek_all[\"language\"] == f\"{lang_2.capitalize()}\")]\n",
    "df_lang_pair_all"
   ]
  },
  {
   "cell_type": "code",
   "execution_count": null,
   "metadata": {},
   "outputs": [],
   "source": [
    "df_lang_pair_all = df_lang_pair_all.drop_duplicates(subset=\"dict_entry_main\")\n",
    "df_lang_pair_all.reset_index(drop=True, inplace=True)\n",
    "df_lang_pair_all"
   ]
  },
  {
   "cell_type": "code",
   "execution_count": null,
   "metadata": {},
   "outputs": [],
   "source": [
    "df_lang_pair_all.to_excel(f\"{lang_1.capitalize()}_And_{lang_2.capitalize()}_Etymologeek_Result_All.xlsx\", index=False)"
   ]
  },
  {
   "cell_type": "code",
   "execution_count": null,
   "metadata": {},
   "outputs": [],
   "source": []
  },
  {
   "cell_type": "markdown",
   "metadata": {},
   "source": [
    "#### Read Another Data"
   ]
  },
  {
   "cell_type": "code",
   "execution_count": 2,
   "metadata": {},
   "outputs": [
    {
     "data": {
      "text/html": [
       "<div>\n",
       "<style scoped>\n",
       "    .dataframe tbody tr th:only-of-type {\n",
       "        vertical-align: middle;\n",
       "    }\n",
       "\n",
       "    .dataframe tbody tr th {\n",
       "        vertical-align: top;\n",
       "    }\n",
       "\n",
       "    .dataframe thead th {\n",
       "        text-align: right;\n",
       "    }\n",
       "</style>\n",
       "<table border=\"1\" class=\"dataframe\">\n",
       "  <thead>\n",
       "    <tr style=\"text-align: right;\">\n",
       "      <th></th>\n",
       "      <th>lang</th>\n",
       "      <th>term</th>\n",
       "      <th>reltype</th>\n",
       "      <th>related_lang</th>\n",
       "      <th>related_term</th>\n",
       "    </tr>\n",
       "  </thead>\n",
       "  <tbody>\n",
       "    <tr>\n",
       "      <th>0</th>\n",
       "      <td>English</td>\n",
       "      <td>thesaurus</td>\n",
       "      <td>borrowed_from</td>\n",
       "      <td>Latin</td>\n",
       "      <td>thēsaurus</td>\n",
       "    </tr>\n",
       "    <tr>\n",
       "      <th>1</th>\n",
       "      <td>English</td>\n",
       "      <td>thesaurus</td>\n",
       "      <td>derived_from</td>\n",
       "      <td>Ancient Greek</td>\n",
       "      <td>θησαυρός</td>\n",
       "    </tr>\n",
       "    <tr>\n",
       "      <th>2</th>\n",
       "      <td>English</td>\n",
       "      <td>thesaurus</td>\n",
       "      <td>doublet_with</td>\n",
       "      <td>English</td>\n",
       "      <td>treasure</td>\n",
       "    </tr>\n",
       "    <tr>\n",
       "      <th>3</th>\n",
       "      <td>Latin</td>\n",
       "      <td>thesaurus</td>\n",
       "      <td>derived_from</td>\n",
       "      <td>Ancient Greek</td>\n",
       "      <td>θησαυρός</td>\n",
       "    </tr>\n",
       "    <tr>\n",
       "      <th>4</th>\n",
       "      <td>English</td>\n",
       "      <td>portmanteau</td>\n",
       "      <td>has_root</td>\n",
       "      <td>Proto-Indo-European</td>\n",
       "      <td>*per- (fare)</td>\n",
       "    </tr>\n",
       "    <tr>\n",
       "      <th>...</th>\n",
       "      <td>...</td>\n",
       "      <td>...</td>\n",
       "      <td>...</td>\n",
       "      <td>...</td>\n",
       "      <td>...</td>\n",
       "    </tr>\n",
       "    <tr>\n",
       "      <th>3484911</th>\n",
       "      <td>English</td>\n",
       "      <td>Boell</td>\n",
       "      <td>borrowed_from</td>\n",
       "      <td>Danish</td>\n",
       "      <td>Bøll</td>\n",
       "    </tr>\n",
       "    <tr>\n",
       "      <th>3484912</th>\n",
       "      <td>English</td>\n",
       "      <td>Boell</td>\n",
       "      <td>borrowed_from</td>\n",
       "      <td>German</td>\n",
       "      <td>Böll</td>\n",
       "    </tr>\n",
       "    <tr>\n",
       "      <th>3484913</th>\n",
       "      <td>South Levantine Arabic</td>\n",
       "      <td>بالمية</td>\n",
       "      <td>has_affix</td>\n",
       "      <td>South Levantine Arabic</td>\n",
       "      <td>بـ</td>\n",
       "    </tr>\n",
       "    <tr>\n",
       "      <th>3484914</th>\n",
       "      <td>South Levantine Arabic</td>\n",
       "      <td>بالمية</td>\n",
       "      <td>has_affix</td>\n",
       "      <td>South Levantine Arabic</td>\n",
       "      <td>الميّة</td>\n",
       "    </tr>\n",
       "    <tr>\n",
       "      <th>3484915</th>\n",
       "      <td>English</td>\n",
       "      <td>Cooler</td>\n",
       "      <td>derived_from</td>\n",
       "      <td>German</td>\n",
       "      <td>Kühler</td>\n",
       "    </tr>\n",
       "  </tbody>\n",
       "</table>\n",
       "<p>3484916 rows × 5 columns</p>\n",
       "</div>"
      ],
      "text/plain": [
       "                           lang         term        reltype  \\\n",
       "0                       English    thesaurus  borrowed_from   \n",
       "1                       English    thesaurus   derived_from   \n",
       "2                       English    thesaurus   doublet_with   \n",
       "3                         Latin    thesaurus   derived_from   \n",
       "4                       English  portmanteau       has_root   \n",
       "...                         ...          ...            ...   \n",
       "3484911                 English        Boell  borrowed_from   \n",
       "3484912                 English        Boell  borrowed_from   \n",
       "3484913  South Levantine Arabic       بالمية      has_affix   \n",
       "3484914  South Levantine Arabic       بالمية      has_affix   \n",
       "3484915                 English       Cooler   derived_from   \n",
       "\n",
       "                   related_lang  related_term  \n",
       "0                         Latin     thēsaurus  \n",
       "1                 Ancient Greek      θησαυρός  \n",
       "2                       English      treasure  \n",
       "3                 Ancient Greek      θησαυρός  \n",
       "4           Proto-Indo-European  *per- (fare)  \n",
       "...                         ...           ...  \n",
       "3484911                  Danish          Bøll  \n",
       "3484912                  German          Böll  \n",
       "3484913  South Levantine Arabic            بـ  \n",
       "3484914  South Levantine Arabic        الميّة  \n",
       "3484915                  German        Kühler  \n",
       "\n",
       "[3484916 rows x 5 columns]"
      ]
     },
     "execution_count": 2,
     "metadata": {},
     "output_type": "execute_result"
    }
   ],
   "source": [
    "df_clean = pd.read_csv(\"/media/kurubal/SSD/Data Scientist/Work/Modern Ways/Project/Web Scrapping/Data/All/etymology_clean.csv\")\n",
    "#df_clean = df_clean.head(150000)\n",
    "df_clean"
   ]
  },
  {
   "cell_type": "code",
   "execution_count": 3,
   "metadata": {},
   "outputs": [],
   "source": [
    "df_clean[\"lang\"] = df_clean[\"lang\"].apply(lambda x: x.capitalize())\n",
    "df_clean[\"term\"] = df_clean[\"term\"].apply(lambda x: x.lower())\n",
    "df_clean[\"related_lang\"] = df_clean[\"lang\"].apply(lambda x: x.capitalize())\n",
    "df_clean[\"related_term\"] = df_clean[\"related_term\"].apply(lambda x: x.lower())"
   ]
  },
  {
   "cell_type": "code",
   "execution_count": 5,
   "metadata": {},
   "outputs": [],
   "source": [
    "result_list = []\n",
    "for i in range(len(df_clean)):\n",
    "    lang_11 = df_clean.loc[i,\"lang\"]\n",
    "    term_11 = df_clean.loc[i,\"term\"]\n",
    "    reltype_11\t= df_clean.loc[i,\"reltype\"]\n",
    "    lang_12 = df_clean.loc[i,\"related_lang\"]\n",
    "    term_12 = df_clean.loc[i,\"related_term\"]\n",
    "    \n",
    "    try:\n",
    "        df_var = df_clean[(df_clean[\"term\"] == f\"{term_12}\")]\n",
    "        df_var.reset_index(drop=True, inplace=True)\n",
    "        j = 0\n",
    "        while j < len(df_var):                    \n",
    "            lang_21 = df_var.loc[j,\"lang\"]\n",
    "            term_21 = df_var.loc[j,\"term\"]\n",
    "            #reltype_21\t= df_var.loc[j,\"reltype\"]\n",
    "            lang_22 = df_var.loc[j,\"related_lang\"]\n",
    "            term_22 = df_var.loc[j,\"related_term\"]\n",
    "            if ((f\"{lang_21}\" == f\"{lang_12}\") & (f\"{term_21}\" == f\"{term_12}\")):\n",
    "                #lang_12 = lang_22\n",
    "                #term_12 = term_22\n",
    "                #result_list.append([lang_11,term_11,reltype_11,lang_12,term_12])\n",
    "                result_list.append([lang_11,term_11,reltype_11,lang_22,term_22])\n",
    "            else:\n",
    "                #lang_12 = lang_12\n",
    "                #term_12 = term_12\n",
    "                result_list.append([lang_11,term_11,reltype_11,lang_12,term_12])\n",
    "            \n",
    "            j+=1\n",
    "    except:\n",
    "        result_list.append([lang_11,term_11,reltype_11,lang_12,term_12])"
   ]
  },
  {
   "cell_type": "code",
   "execution_count": null,
   "metadata": {},
   "outputs": [],
   "source": [
    "df_result = pd.DataFrame(result_list, columns=[\"lang\",\"term\",\"reltype\",\"related_lang\",\"related_term\"])\n",
    "df_result.drop_duplicates(inplace=True)\n",
    "df_result.reset_index(drop=True,inplace=True)\n",
    "df_result"
   ]
  },
  {
   "cell_type": "code",
   "execution_count": null,
   "metadata": {},
   "outputs": [],
   "source": [
    "df_result.to_csv(\"Etymology_Cross_Check.csv\", index=False)"
   ]
  },
  {
   "cell_type": "code",
   "execution_count": null,
   "metadata": {},
   "outputs": [],
   "source": []
  },
  {
   "cell_type": "code",
   "execution_count": null,
   "metadata": {},
   "outputs": [],
   "source": []
  }
 ],
 "metadata": {
  "interpreter": {
   "hash": "31f2aee4e71d21fbe5cf8b01ff0e069b9275f58929596ceb00d14d90e3e16cd6"
  },
  "kernelspec": {
   "display_name": "Python 3.8.10 64-bit",
   "language": "python",
   "name": "python3"
  },
  "language_info": {
   "codemirror_mode": {
    "name": "ipython",
    "version": 3
   },
   "file_extension": ".py",
   "mimetype": "text/x-python",
   "name": "python",
   "nbconvert_exporter": "python",
   "pygments_lexer": "ipython3",
   "version": "3.9.5"
  },
  "orig_nbformat": 4
 },
 "nbformat": 4,
 "nbformat_minor": 2
}
