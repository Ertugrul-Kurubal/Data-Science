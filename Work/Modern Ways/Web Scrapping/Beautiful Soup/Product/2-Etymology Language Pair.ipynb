{
 "cells": [
  {
   "cell_type": "markdown",
   "metadata": {},
   "source": [
    "### Etymology Language Pair"
   ]
  },
  {
   "cell_type": "code",
   "execution_count": 1,
   "metadata": {},
   "outputs": [],
   "source": [
    "import pandas as pd\n",
    "import numpy as np\n",
    "import glob\n",
    "import nltk\n",
    "from nltk import word_tokenize"
   ]
  },
  {
   "cell_type": "markdown",
   "metadata": {},
   "source": [
    "#### All Etymology File Concat"
   ]
  },
  {
   "cell_type": "code",
   "execution_count": 2,
   "metadata": {},
   "outputs": [
    {
     "data": {
      "text/plain": [
       "['/media/kurubal/SSD/Data Scientist/Work/Modern Ways/Project/Web Scrapping/Data/Turkish/Turkish_Etymologeek_Main_And_Additional_Result.xlsx',\n",
       " '/media/kurubal/SSD/Data Scientist/Work/Modern Ways/Project/Web Scrapping/Data/Dutch/Dutch_Etymologeek_Main_And_Additional_Result.xlsx',\n",
       " '/media/kurubal/SSD/Data Scientist/Work/Modern Ways/Project/Web Scrapping/Data/Portuguese/Portuguese_Etymologeek_Main_And_Additional_Result.xlsx',\n",
       " '/media/kurubal/SSD/Data Scientist/Work/Modern Ways/Project/Web Scrapping/Data/English/English_Etymologeek_Main_And_Additional_Result.xlsx',\n",
       " '/media/kurubal/SSD/Data Scientist/Work/Modern Ways/Project/Web Scrapping/Data/German/German_Etymologeek_Main_And_Additional_Result.xlsx',\n",
       " '/media/kurubal/SSD/Data Scientist/Work/Modern Ways/Project/Web Scrapping/Data/Spanish/Spanish_Etymologeek_Main_And_Additional_Result.xlsx',\n",
       " '/media/kurubal/SSD/Data Scientist/Work/Modern Ways/Project/Web Scrapping/Data/French/French_Etymologeek_Main_And_Additional_Result.xlsx',\n",
       " '/media/kurubal/SSD/Data Scientist/Work/Modern Ways/Project/Web Scrapping/Data/Italian/Italian_Etymologeek_Main_And_Additional_Result.xlsx',\n",
       " '/media/kurubal/SSD/Data Scientist/Work/Modern Ways/Project/Web Scrapping/Data/Arabic/Arabic_Etymologeek_Main_And_Additional_Result.xlsx']"
      ]
     },
     "execution_count": 2,
     "metadata": {},
     "output_type": "execute_result"
    }
   ],
   "source": [
    "all_etymologeek_file = glob.glob(\"/media/kurubal/SSD/Data Scientist/Work/Modern Ways/Project/Web Scrapping/Data/*/*_Etymologeek_Main_And_Additional_Result.xlsx\")\n",
    "all_etymologeek_file"
   ]
  },
  {
   "cell_type": "code",
   "execution_count": 3,
   "metadata": {},
   "outputs": [
    {
     "data": {
      "text/html": [
       "<div>\n",
       "<style scoped>\n",
       "    .dataframe tbody tr th:only-of-type {\n",
       "        vertical-align: middle;\n",
       "    }\n",
       "\n",
       "    .dataframe tbody tr th {\n",
       "        vertical-align: top;\n",
       "    }\n",
       "\n",
       "    .dataframe thead th {\n",
       "        text-align: right;\n",
       "    }\n",
       "</style>\n",
       "<table border=\"1\" class=\"dataframe\">\n",
       "  <thead>\n",
       "    <tr style=\"text-align: right;\">\n",
       "      <th></th>\n",
       "      <th>search_word</th>\n",
       "      <th>dict_entry_main</th>\n",
       "      <th>language_main</th>\n",
       "      <th>definition_main</th>\n",
       "      <th>dict_entry</th>\n",
       "      <th>language</th>\n",
       "      <th>definition</th>\n",
       "    </tr>\n",
       "  </thead>\n",
       "  <tbody>\n",
       "    <tr>\n",
       "      <th>0</th>\n",
       "      <td>bir</td>\n",
       "      <td>bir</td>\n",
       "      <td>Crimean Tatar</td>\n",
       "      <td>(Numeral) (cardinal) one.(cardinal) one.</td>\n",
       "      <td>*bīr</td>\n",
       "      <td>Proto-Turkic (trk-pro)</td>\n",
       "      <td>One.</td>\n",
       "    </tr>\n",
       "    <tr>\n",
       "      <th>1</th>\n",
       "      <td>bir</td>\n",
       "      <td>bir</td>\n",
       "      <td>Crimean Tatar</td>\n",
       "      <td>(Numeral) (cardinal) one.(cardinal) one.</td>\n",
       "      <td>bir</td>\n",
       "      <td>Crimean Tatar (crh)</td>\n",
       "      <td>(cardinal) one.</td>\n",
       "    </tr>\n",
       "    <tr>\n",
       "      <th>2</th>\n",
       "      <td>bir</td>\n",
       "      <td>bir</td>\n",
       "      <td>Middle English</td>\n",
       "      <td>(Noun) A charge on an account.. A strong or fa...</td>\n",
       "      <td>*buriz</td>\n",
       "      <td>Proto-Germanic (gem-pro)</td>\n",
       "      <td>Male offspring; son.</td>\n",
       "    </tr>\n",
       "    <tr>\n",
       "      <th>3</th>\n",
       "      <td>bir</td>\n",
       "      <td>bir</td>\n",
       "      <td>Middle English</td>\n",
       "      <td>(Noun) A charge on an account.. A strong or fa...</td>\n",
       "      <td>*bʰrewh₁-</td>\n",
       "      <td>Proto-Indo-European (ine-pro)</td>\n",
       "      <td>NaN</td>\n",
       "    </tr>\n",
       "    <tr>\n",
       "      <th>4</th>\n",
       "      <td>bir</td>\n",
       "      <td>bir</td>\n",
       "      <td>Middle English</td>\n",
       "      <td>(Noun) A charge on an account.. A strong or fa...</td>\n",
       "      <td>*buriz</td>\n",
       "      <td>Proto-Germanic (gem-pro)</td>\n",
       "      <td>Elevation; hill.</td>\n",
       "    </tr>\n",
       "    <tr>\n",
       "      <th>...</th>\n",
       "      <td>...</td>\n",
       "      <td>...</td>\n",
       "      <td>...</td>\n",
       "      <td>...</td>\n",
       "      <td>...</td>\n",
       "      <td>...</td>\n",
       "      <td>...</td>\n",
       "    </tr>\n",
       "    <tr>\n",
       "      <th>668525</th>\n",
       "      <td>إلين</td>\n",
       "      <td>إلينا</td>\n",
       "      <td>Arabic</td>\n",
       "      <td>(Adverb) To us.To us.</td>\n",
       "      <td>إلينا</td>\n",
       "      <td>Arabic (ara)</td>\n",
       "      <td>To us.</td>\n",
       "    </tr>\n",
       "    <tr>\n",
       "      <th>668526</th>\n",
       "      <td>مستقر</td>\n",
       "      <td>مستقر</td>\n",
       "      <td>Arabic</td>\n",
       "      <td>(Noun) Fixed domicile, fixed residence, fixed ...</td>\n",
       "      <td>مستقر</td>\n",
       "      <td>Arabic</td>\n",
       "      <td>(Adjective) Confessing. Firm, solid, stable. F...</td>\n",
       "    </tr>\n",
       "    <tr>\n",
       "      <th>668527</th>\n",
       "      <td>مستقر</td>\n",
       "      <td>مستقر</td>\n",
       "      <td>Arabic</td>\n",
       "      <td>(Noun) Fixed domicile, fixed residence, fixed ...</td>\n",
       "      <td>مستقر</td>\n",
       "      <td>Arabic</td>\n",
       "      <td>(Noun) Fixed domicile, fixed residence, fixed ...</td>\n",
       "    </tr>\n",
       "    <tr>\n",
       "      <th>668528</th>\n",
       "      <td>صيني</td>\n",
       "      <td>صينية</td>\n",
       "      <td>Arabic</td>\n",
       "      <td>(Noun) (usually definite) Chinese language.(us...</td>\n",
       "      <td>لُغَة صِينِيَّة</td>\n",
       "      <td>Arabic (ara)</td>\n",
       "      <td>NaN</td>\n",
       "    </tr>\n",
       "    <tr>\n",
       "      <th>668529</th>\n",
       "      <td>صيني</td>\n",
       "      <td>صينية</td>\n",
       "      <td>Arabic</td>\n",
       "      <td>(Noun) (usually definite) Chinese language.(us...</td>\n",
       "      <td>صينية</td>\n",
       "      <td>Arabic (ara)</td>\n",
       "      <td>(usually definite) Chinese language.</td>\n",
       "    </tr>\n",
       "  </tbody>\n",
       "</table>\n",
       "<p>668530 rows × 7 columns</p>\n",
       "</div>"
      ],
      "text/plain": [
       "       search_word dict_entry_main   language_main  \\\n",
       "0              bir             bir   Crimean Tatar   \n",
       "1              bir             bir   Crimean Tatar   \n",
       "2              bir             bir  Middle English   \n",
       "3              bir             bir  Middle English   \n",
       "4              bir             bir  Middle English   \n",
       "...            ...             ...             ...   \n",
       "668525        إلين           إلينا          Arabic   \n",
       "668526       مستقر           مستقر          Arabic   \n",
       "668527       مستقر           مستقر          Arabic   \n",
       "668528        صيني           صينية          Arabic   \n",
       "668529        صيني           صينية          Arabic   \n",
       "\n",
       "                                          definition_main       dict_entry  \\\n",
       "0                (Numeral) (cardinal) one.(cardinal) one.             *bīr   \n",
       "1                (Numeral) (cardinal) one.(cardinal) one.              bir   \n",
       "2       (Noun) A charge on an account.. A strong or fa...           *buriz   \n",
       "3       (Noun) A charge on an account.. A strong or fa...        *bʰrewh₁-   \n",
       "4       (Noun) A charge on an account.. A strong or fa...           *buriz   \n",
       "...                                                   ...              ...   \n",
       "668525                              (Adverb) To us.To us.            إلينا   \n",
       "668526  (Noun) Fixed domicile, fixed residence, fixed ...            مستقر   \n",
       "668527  (Noun) Fixed domicile, fixed residence, fixed ...            مستقر   \n",
       "668528  (Noun) (usually definite) Chinese language.(us...  لُغَة صِينِيَّة   \n",
       "668529  (Noun) (usually definite) Chinese language.(us...            صينية   \n",
       "\n",
       "                             language  \\\n",
       "0              Proto-Turkic (trk-pro)   \n",
       "1                 Crimean Tatar (crh)   \n",
       "2            Proto-Germanic (gem-pro)   \n",
       "3       Proto-Indo-European (ine-pro)   \n",
       "4            Proto-Germanic (gem-pro)   \n",
       "...                               ...   \n",
       "668525                   Arabic (ara)   \n",
       "668526                         Arabic   \n",
       "668527                         Arabic   \n",
       "668528                   Arabic (ara)   \n",
       "668529                   Arabic (ara)   \n",
       "\n",
       "                                               definition  \n",
       "0                                                    One.  \n",
       "1                                         (cardinal) one.  \n",
       "2                                    Male offspring; son.  \n",
       "3                                                     NaN  \n",
       "4                                        Elevation; hill.  \n",
       "...                                                   ...  \n",
       "668525                                             To us.  \n",
       "668526  (Adjective) Confessing. Firm, solid, stable. F...  \n",
       "668527  (Noun) Fixed domicile, fixed residence, fixed ...  \n",
       "668528                                                NaN  \n",
       "668529               (usually definite) Chinese language.  \n",
       "\n",
       "[668530 rows x 7 columns]"
      ]
     },
     "execution_count": 3,
     "metadata": {},
     "output_type": "execute_result"
    }
   ],
   "source": [
    "df_etymologeek_all = pd.DataFrame()\n",
    "for i in all_etymologeek_file:\n",
    "    df_var = pd.read_excel(f\"{i}\")\n",
    "    df_etymologeek_all = pd.concat([df_etymologeek_all, df_var], axis=0)\n",
    "df_etymologeek_all.drop_duplicates(inplace=True)\n",
    "df_etymologeek_all.reset_index(drop=True, inplace=True)\n",
    "df_etymologeek_all"
   ]
  },
  {
   "cell_type": "code",
   "execution_count": null,
   "metadata": {},
   "outputs": [],
   "source": [
    "#df_etymologeek_all.to_excel(\"All_Etymology_Language_Pair_Result.xlsx\", index=False)"
   ]
  },
  {
   "cell_type": "code",
   "execution_count": null,
   "metadata": {},
   "outputs": [],
   "source": []
  },
  {
   "cell_type": "markdown",
   "metadata": {},
   "source": [
    "#### Read Etymologeek All Data"
   ]
  },
  {
   "cell_type": "code",
   "execution_count": null,
   "metadata": {},
   "outputs": [],
   "source": [
    "df_etymologeek_all = pd.read_excel(\"/media/kurubal/SSD/Data Scientist/Work/Modern Ways/Project/Web Scrapping/Data/All/All_Etymology_Language_Pair_Result.xlsx\")\n",
    "df_etymologeek_all"
   ]
  },
  {
   "cell_type": "code",
   "execution_count": null,
   "metadata": {},
   "outputs": [],
   "source": [
    "#df_etymologeek_all[\"language_main\"].unique()"
   ]
  },
  {
   "cell_type": "code",
   "execution_count": null,
   "metadata": {},
   "outputs": [],
   "source": [
    "#df_etymologeek_all[\"language\"].unique()"
   ]
  },
  {
   "cell_type": "code",
   "execution_count": null,
   "metadata": {},
   "outputs": [],
   "source": [
    "lang_1 = \"Italian\"  # English, Turkish, German, French, Spanish, Arabic, Russian, Portuguese, Dutch, Italian\n",
    "lang_2 = \"Dutch (nld)\"  # English (eng), Turkish (tur), German (deu), French (fra), Spanish (spa), Arabic (ara), Russian (rus), \n",
    "                          # Portuguese (por), Dutch (nld), Italian (ita)"
   ]
  },
  {
   "cell_type": "code",
   "execution_count": null,
   "metadata": {},
   "outputs": [],
   "source": [
    "df_lang_pair1 = df_etymologeek_all[(df_etymologeek_all[\"language_main\"] == f\"{lang_1.capitalize()}\") & (df_etymologeek_all[\"language\"] == f\"{lang_2.capitalize()}\")]\n",
    "df_lang_pair1"
   ]
  },
  {
   "cell_type": "code",
   "execution_count": null,
   "metadata": {},
   "outputs": [],
   "source": [
    "df_lang_pair1 = df_lang_pair1.drop_duplicates(subset=\"dict_entry_main\")\n",
    "df_lang_pair1.reset_index(drop=True, inplace=True)\n",
    "df_lang_pair1"
   ]
  },
  {
   "cell_type": "code",
   "execution_count": null,
   "metadata": {},
   "outputs": [],
   "source": [
    "df_lang_pair1.to_excel(f\"{lang_1.capitalize()}_And_{lang_2.capitalize()}_Etymologeek_Result1.xlsx\", index=False)  # {lang_1.capitalize()}_And_{lang_2.capitalize()}_Etymologeek_Result_All.xlsx"
   ]
  },
  {
   "cell_type": "code",
   "execution_count": null,
   "metadata": {},
   "outputs": [],
   "source": []
  },
  {
   "cell_type": "markdown",
   "metadata": {},
   "source": [
    "#### Read Github Cross Data"
   ]
  },
  {
   "cell_type": "code",
   "execution_count": null,
   "metadata": {},
   "outputs": [],
   "source": [
    "df_github_cross = pd.read_csv(\"/media/kurubal/SSD/Data Scientist/Work/Modern Ways/Project/Web Scrapping/Data/All/etymology_cross_check.csv\")\n",
    "#df_github_cross = df_github_cross.head(150000)\n",
    "df_github_cross"
   ]
  },
  {
   "cell_type": "code",
   "execution_count": null,
   "metadata": {},
   "outputs": [],
   "source": [
    "df_github_cross.columns"
   ]
  },
  {
   "cell_type": "code",
   "execution_count": null,
   "metadata": {},
   "outputs": [],
   "source": [
    "df_github_cross[df_github_cross[\"lang\"] == f\"Turkish\"]"
   ]
  },
  {
   "cell_type": "code",
   "execution_count": null,
   "metadata": {},
   "outputs": [],
   "source": [
    "lang_1 = \"English\"  # English, Turkish, German, French, Spanish, Arabic, Russian, Portuguese, Dutch, Italian\n",
    "lang_2 = \"Turkish\"  # English, Turkish, German, French, Spanish, Arabic, Russian, Portuguese, Dutch, Italian"
   ]
  },
  {
   "cell_type": "code",
   "execution_count": null,
   "metadata": {},
   "outputs": [],
   "source": [
    "df_lang_pair2 = df_github_cross[(df_github_cross[\"lang\"] == f\"{lang_1.capitalize()}\") & (df_github_cross[\"related_lang\"] == f\"{lang_2.capitalize()}\")]\n",
    "df_lang_pair2"
   ]
  },
  {
   "cell_type": "code",
   "execution_count": null,
   "metadata": {},
   "outputs": [],
   "source": []
  },
  {
   "cell_type": "code",
   "execution_count": null,
   "metadata": {},
   "outputs": [],
   "source": [
    "df_lang_pair2.to_excel(f\"{lang_1.capitalize()}_And_{lang_2.capitalize()}_Etymologeek_Result2.xlsx\", index=False)"
   ]
  }
 ],
 "metadata": {
  "interpreter": {
   "hash": "651d507d70892fab0fc6529d935cd476f6e2eb1791525b76da6cc8da34bc0503"
  },
  "kernelspec": {
   "display_name": "Python 3.9.5 ('py39')",
   "language": "python",
   "name": "python3"
  },
  "language_info": {
   "codemirror_mode": {
    "name": "ipython",
    "version": 3
   },
   "file_extension": ".py",
   "mimetype": "text/x-python",
   "name": "python",
   "nbconvert_exporter": "python",
   "pygments_lexer": "ipython3",
   "version": "3.9.5"
  },
  "orig_nbformat": 4
 },
 "nbformat": 4,
 "nbformat_minor": 2
}
