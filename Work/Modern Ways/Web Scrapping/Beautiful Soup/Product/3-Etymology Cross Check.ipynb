{
 "cells": [
  {
   "cell_type": "markdown",
   "metadata": {},
   "source": [
    "### Etymology Cross Check"
   ]
  },
  {
   "cell_type": "code",
   "execution_count": 2,
   "metadata": {},
   "outputs": [],
   "source": [
    "import pandas as pd\n",
    "import numpy as np\n",
    "import glob\n",
    "import re\n",
    "import nltk\n",
    "from nltk import word_tokenize"
   ]
  },
  {
   "cell_type": "code",
   "execution_count": 3,
   "metadata": {},
   "outputs": [],
   "source": [
    "lang_1 = \"Turkish\"  # English, Turkish, German, French, Spanish, Arabic, Russian, Portuguese, Dutch, Italian\n",
    "lang_2 = \"Portuguese (por)\"  # English (eng), Turkish (tur), German (deu), French (fra), Spanish (spa), Arabic (ara), Russian (rus), \n",
    "                          # Portuguese (por), Dutch (nld), Italian (ita)"
   ]
  },
  {
   "cell_type": "code",
   "execution_count": 1,
   "metadata": {},
   "outputs": [],
   "source": [
    "#df = pd.read_csv(\"/media/kurubal/SSD/Data Scientist/Work/Modern Ways/Project/Web Scrapping/Data/All/etymology.csv\")\n",
    "#df"
   ]
  },
  {
   "cell_type": "code",
   "execution_count": 6,
   "metadata": {},
   "outputs": [
    {
     "data": {
      "text/plain": [
       "['/media/kurubal/SSD/Data Scientist/Work/Modern Ways/Project/Web Scrapping/Result/Turkish/Turkish_And_Dutch (nld)_Etymologeek_Result_All.xlsx',\n",
       " '/media/kurubal/SSD/Data Scientist/Work/Modern Ways/Project/Web Scrapping/Result/Turkish/Turkish_And_Arabic (ara)_Etymologeek_Result_All.xlsx',\n",
       " '/media/kurubal/SSD/Data Scientist/Work/Modern Ways/Project/Web Scrapping/Result/Turkish/Turkish_And_English (eng)_Etymologeek_Result_All.xlsx',\n",
       " '/media/kurubal/SSD/Data Scientist/Work/Modern Ways/Project/Web Scrapping/Result/Turkish/Turkish_And_French (fra)_Etymologeek_Result_All.xlsx',\n",
       " '/media/kurubal/SSD/Data Scientist/Work/Modern Ways/Project/Web Scrapping/Result/Turkish/Turkish_And_Italian (ita)_Etymologeek_Result_All.xlsx',\n",
       " '/media/kurubal/SSD/Data Scientist/Work/Modern Ways/Project/Web Scrapping/Result/Turkish/Turkish_And_Portuguese (por)_Etymologeek_Result_All.xlsx',\n",
       " '/media/kurubal/SSD/Data Scientist/Work/Modern Ways/Project/Web Scrapping/Result/Turkish/Turkish_And_Spanish (spa)_Etymologeek_Result_All.xlsx',\n",
       " '/media/kurubal/SSD/Data Scientist/Work/Modern Ways/Project/Web Scrapping/Result/Turkish/Turkish_And_German (deu)_Etymologeek_Result_All.xlsx']"
      ]
     },
     "execution_count": 6,
     "metadata": {},
     "output_type": "execute_result"
    }
   ],
   "source": [
    "lang_1_file = glob.glob(f\"/media/kurubal/SSD/Data Scientist/Work/Modern Ways/Project/Web Scrapping/Result/*/{lang_1}_And_*_Etymologeek_Result_All.xlsx\")\n",
    "lang_1_file"
   ]
  },
  {
   "cell_type": "code",
   "execution_count": 10,
   "metadata": {},
   "outputs": [
    {
     "data": {
      "text/html": [
       "<div>\n",
       "<style scoped>\n",
       "    .dataframe tbody tr th:only-of-type {\n",
       "        vertical-align: middle;\n",
       "    }\n",
       "\n",
       "    .dataframe tbody tr th {\n",
       "        vertical-align: top;\n",
       "    }\n",
       "\n",
       "    .dataframe thead th {\n",
       "        text-align: right;\n",
       "    }\n",
       "</style>\n",
       "<table border=\"1\" class=\"dataframe\">\n",
       "  <thead>\n",
       "    <tr style=\"text-align: right;\">\n",
       "      <th></th>\n",
       "      <th>search_word</th>\n",
       "      <th>dict_entry_main</th>\n",
       "      <th>language_main</th>\n",
       "      <th>definition_main</th>\n",
       "      <th>dict_entry</th>\n",
       "      <th>language</th>\n",
       "      <th>definition</th>\n",
       "    </tr>\n",
       "  </thead>\n",
       "  <tbody>\n",
       "    <tr>\n",
       "      <th>0</th>\n",
       "      <td>şans</td>\n",
       "      <td>şans</td>\n",
       "      <td>Turkish</td>\n",
       "      <td>(Noun) Fortune. Luck.Fortune. Luck.</td>\n",
       "      <td>dice</td>\n",
       "      <td>Dutch (nld)</td>\n",
       "      <td>NaN</td>\n",
       "    </tr>\n",
       "    <tr>\n",
       "      <th>1</th>\n",
       "      <td>loca</td>\n",
       "      <td>loca</td>\n",
       "      <td>Turkish</td>\n",
       "      <td>(Noun) (masonic) lodge. Box (in theaters).(mas...</td>\n",
       "      <td>laubja</td>\n",
       "      <td>Dutch (nld)</td>\n",
       "      <td>NaN</td>\n",
       "    </tr>\n",
       "    <tr>\n",
       "      <th>2</th>\n",
       "      <td>mı</td>\n",
       "      <td>mıknatıs</td>\n",
       "      <td>Turkish</td>\n",
       "      <td>(Noun) Magnet.Magnet.</td>\n",
       "      <td>مِغْنَاطِيس</td>\n",
       "      <td>Arabic (ara)</td>\n",
       "      <td>NaN</td>\n",
       "    </tr>\n",
       "    <tr>\n",
       "      <th>3</th>\n",
       "      <td>mı</td>\n",
       "      <td>mısdak</td>\n",
       "      <td>Turkish</td>\n",
       "      <td>(Noun) (obsolete) criterion.(obsolete) criterion.</td>\n",
       "      <td>مِصْدَاق</td>\n",
       "      <td>Arabic (ara)</td>\n",
       "      <td>NaN</td>\n",
       "    </tr>\n",
       "    <tr>\n",
       "      <th>4</th>\n",
       "      <td>şey</td>\n",
       "      <td>şey</td>\n",
       "      <td>Turkish</td>\n",
       "      <td>(Noun Interjection) (slang) genital organ. Thi...</td>\n",
       "      <td>شَيْئاً</td>\n",
       "      <td>Arabic (ara)</td>\n",
       "      <td>NaN</td>\n",
       "    </tr>\n",
       "    <tr>\n",
       "      <th>...</th>\n",
       "      <td>...</td>\n",
       "      <td>...</td>\n",
       "      <td>...</td>\n",
       "      <td>...</td>\n",
       "      <td>...</td>\n",
       "      <td>...</td>\n",
       "      <td>...</td>\n",
       "    </tr>\n",
       "    <tr>\n",
       "      <th>732</th>\n",
       "      <td>vermut</td>\n",
       "      <td>vermut</td>\n",
       "      <td>Turkish</td>\n",
       "      <td>(Noun)</td>\n",
       "      <td>wermut</td>\n",
       "      <td>German (deu)</td>\n",
       "      <td>Vermouth is an aromatized fortified wine, flav...</td>\n",
       "    </tr>\n",
       "    <tr>\n",
       "      <th>733</th>\n",
       "      <td>panzer</td>\n",
       "      <td>panzer</td>\n",
       "      <td>Turkish</td>\n",
       "      <td>(Noun)</td>\n",
       "      <td>panzer</td>\n",
       "      <td>German (deu)</td>\n",
       "      <td>A tank is an armoured fighting vehicle intende...</td>\n",
       "    </tr>\n",
       "    <tr>\n",
       "      <th>734</th>\n",
       "      <td>tonymayster</td>\n",
       "      <td>tonymayster</td>\n",
       "      <td>Turkish</td>\n",
       "      <td>(Noun)</td>\n",
       "      <td>tonmeister</td>\n",
       "      <td>German (deu)</td>\n",
       "      <td>Tonmeister</td>\n",
       "    </tr>\n",
       "    <tr>\n",
       "      <th>735</th>\n",
       "      <td>filinta</td>\n",
       "      <td>filinta</td>\n",
       "      <td>Turkish</td>\n",
       "      <td>(Noun)</td>\n",
       "      <td>flinte</td>\n",
       "      <td>German (deu)</td>\n",
       "      <td>Flinte</td>\n",
       "    </tr>\n",
       "    <tr>\n",
       "      <th>736</th>\n",
       "      <td>kuvars</td>\n",
       "      <td>kuvars</td>\n",
       "      <td>Turkish</td>\n",
       "      <td>(Noun)</td>\n",
       "      <td>quarz</td>\n",
       "      <td>German (deu)</td>\n",
       "      <td>Quartz is a hard, crystalline mineral composed...</td>\n",
       "    </tr>\n",
       "  </tbody>\n",
       "</table>\n",
       "<p>737 rows × 7 columns</p>\n",
       "</div>"
      ],
      "text/plain": [
       "     search_word dict_entry_main language_main  \\\n",
       "0           şans            şans       Turkish   \n",
       "1           loca            loca       Turkish   \n",
       "2             mı        mıknatıs       Turkish   \n",
       "3             mı          mısdak       Turkish   \n",
       "4            şey             şey       Turkish   \n",
       "..           ...             ...           ...   \n",
       "732       vermut          vermut       Turkish   \n",
       "733       panzer          panzer       Turkish   \n",
       "734  tonymayster     tonymayster       Turkish   \n",
       "735      filinta         filinta       Turkish   \n",
       "736       kuvars          kuvars       Turkish   \n",
       "\n",
       "                                       definition_main   dict_entry  \\\n",
       "0                  (Noun) Fortune. Luck.Fortune. Luck.         dice   \n",
       "1    (Noun) (masonic) lodge. Box (in theaters).(mas...       laubja   \n",
       "2                                (Noun) Magnet.Magnet.  مِغْنَاطِيس   \n",
       "3    (Noun) (obsolete) criterion.(obsolete) criterion.     مِصْدَاق   \n",
       "4    (Noun Interjection) (slang) genital organ. Thi...      شَيْئاً   \n",
       "..                                                 ...          ...   \n",
       "732                                             (Noun)       wermut   \n",
       "733                                             (Noun)       panzer   \n",
       "734                                             (Noun)   tonmeister   \n",
       "735                                             (Noun)       flinte   \n",
       "736                                             (Noun)        quarz   \n",
       "\n",
       "         language                                         definition  \n",
       "0     Dutch (nld)                                                NaN  \n",
       "1     Dutch (nld)                                                NaN  \n",
       "2    Arabic (ara)                                                NaN  \n",
       "3    Arabic (ara)                                                NaN  \n",
       "4    Arabic (ara)                                                NaN  \n",
       "..            ...                                                ...  \n",
       "732  German (deu)  Vermouth is an aromatized fortified wine, flav...  \n",
       "733  German (deu)  A tank is an armoured fighting vehicle intende...  \n",
       "734  German (deu)                                         Tonmeister  \n",
       "735  German (deu)                                             Flinte  \n",
       "736  German (deu)  Quartz is a hard, crystalline mineral composed...  \n",
       "\n",
       "[737 rows x 7 columns]"
      ]
     },
     "execution_count": 10,
     "metadata": {},
     "output_type": "execute_result"
    }
   ],
   "source": [
    "df_lang_1 = pd.DataFrame()\n",
    "for i in lang_1_file:\n",
    "    df_var = pd.read_excel(f\"{i}\")\n",
    "    df_lang_1 = pd.concat([df_lang_1,df_var], axis=0)\n",
    "    df_lang_1.reset_index(drop=True, inplace=True)\n",
    "df_lang_1"
   ]
  },
  {
   "cell_type": "code",
   "execution_count": 7,
   "metadata": {},
   "outputs": [
    {
     "data": {
      "text/plain": [
       "['/media/kurubal/SSD/Data Scientist/Work/Modern Ways/Project/Web Scrapping/Result/Turkish/Turkish_And_Portuguese (por)_Etymologeek_Result_All.xlsx',\n",
       " '/media/kurubal/SSD/Data Scientist/Work/Modern Ways/Project/Web Scrapping/Result/English/English_And_Portuguese (por)_Etymologeek_Result_All.xlsx',\n",
       " '/media/kurubal/SSD/Data Scientist/Work/Modern Ways/Project/Web Scrapping/Result/German/German_And_Portuguese (por)_Etymologeek_Result_All.xlsx',\n",
       " '/media/kurubal/SSD/Data Scientist/Work/Modern Ways/Project/Web Scrapping/Result/French/French_And_Portuguese (por)_Etymologeek_Result_All.xlsx',\n",
       " '/media/kurubal/SSD/Data Scientist/Work/Modern Ways/Project/Web Scrapping/Result/Spanish/Spanish_And_Portuguese (por)_Etymologeek_Result_All.xlsx',\n",
       " '/media/kurubal/SSD/Data Scientist/Work/Modern Ways/Project/Web Scrapping/Result/Arabic/Arabic_And_Portuguese (por)_Etymologeek_Result_All.xlsx',\n",
       " '/media/kurubal/SSD/Data Scientist/Work/Modern Ways/Project/Web Scrapping/Result/Russian/Russian_And_Portuguese (por)_Etymologeek_Result_All.xlsx',\n",
       " '/media/kurubal/SSD/Data Scientist/Work/Modern Ways/Project/Web Scrapping/Result/Dutch/Dutch_And_Portuguese (por)_Etymologeek_Result_All.xlsx',\n",
       " '/media/kurubal/SSD/Data Scientist/Work/Modern Ways/Project/Web Scrapping/Result/Italian/Italian_And_Portuguese (por)_Etymologeek_Result_All.xlsx']"
      ]
     },
     "execution_count": 7,
     "metadata": {},
     "output_type": "execute_result"
    }
   ],
   "source": [
    "lang_2_file = glob.glob(f\"/media/kurubal/SSD/Data Scientist/Work/Modern Ways/Project/Web Scrapping/Result/*/*_And_{lang_2}_Etymologeek_Result_All.xlsx\")\n",
    "lang_2_file"
   ]
  },
  {
   "cell_type": "code",
   "execution_count": null,
   "metadata": {},
   "outputs": [],
   "source": []
  }
 ],
 "metadata": {
  "interpreter": {
   "hash": "651d507d70892fab0fc6529d935cd476f6e2eb1791525b76da6cc8da34bc0503"
  },
  "kernelspec": {
   "display_name": "Python 3.9.5 ('py39')",
   "language": "python",
   "name": "python3"
  },
  "language_info": {
   "codemirror_mode": {
    "name": "ipython",
    "version": 3
   },
   "file_extension": ".py",
   "mimetype": "text/x-python",
   "name": "python",
   "nbconvert_exporter": "python",
   "pygments_lexer": "ipython3",
   "version": "3.9.5"
  },
  "orig_nbformat": 4
 },
 "nbformat": 4,
 "nbformat_minor": 2
}
