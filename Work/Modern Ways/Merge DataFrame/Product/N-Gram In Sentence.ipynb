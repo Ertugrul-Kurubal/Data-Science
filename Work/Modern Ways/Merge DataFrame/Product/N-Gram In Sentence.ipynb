{
 "cells": [
  {
   "cell_type": "code",
   "execution_count": 18,
   "metadata": {},
   "outputs": [],
   "source": [
    "import numpy as np\n",
    "import pandas as pd\n",
    "import re\n",
    "import nltk"
   ]
  },
  {
   "cell_type": "code",
   "execution_count": 24,
   "metadata": {},
   "outputs": [],
   "source": [
    "ngram_list = ['bir bu', 'ne dedin', 'için mi', 'o neden', 'ben de', 'çok ama', 'seni seviyorum']"
   ]
  },
  {
   "cell_type": "code",
   "execution_count": 25,
   "metadata": {},
   "outputs": [],
   "source": [
    "sent_list = ['ben de seni seviyorum', 'ne dedin sen', 'frank bir bu eksik', 'ne diyorsun sen', 'o neden gelmiyor']"
   ]
  },
  {
   "cell_type": "code",
   "execution_count": 19,
   "metadata": {},
   "outputs": [
    {
     "data": {
      "text/plain": [
       "0    ben de seni seviyorum\n",
       "1             ne dedin sen\n",
       "2       frank bir bu eksik\n",
       "3          ne diyorsun sen\n",
       "4         O neden gelmiyor\n",
       "dtype: object"
      ]
     },
     "execution_count": 19,
     "metadata": {},
     "output_type": "execute_result"
    }
   ],
   "source": [
    "sent_series = pd.Series(sent_list)\n",
    "sent_series"
   ]
  },
  {
   "cell_type": "code",
   "execution_count": 23,
   "metadata": {},
   "outputs": [
    {
     "data": {
      "text/plain": [
       "0     True\n",
       "1    False\n",
       "2    False\n",
       "3    False\n",
       "4    False\n",
       "dtype: bool"
      ]
     },
     "execution_count": 23,
     "metadata": {},
     "output_type": "execute_result"
    }
   ],
   "source": [
    "sent_series.str.contains(\"ben de\")"
   ]
  },
  {
   "cell_type": "markdown",
   "metadata": {},
   "source": [
    "#### 1 st Way"
   ]
  },
  {
   "cell_type": "code",
   "execution_count": 29,
   "metadata": {},
   "outputs": [
    {
     "name": "stdout",
     "output_type": "stream",
     "text": [
      "['ben de seni seviyorum', 'ben de seni seviyorum', 'ne dedin sen', 'frank bir bu eksik', 'o neden gelmiyor']\n"
     ]
    }
   ],
   "source": [
    "result_sent_list = []\n",
    "for i in sent_list:\n",
    "    for j in ngram_list:\n",
    "        if j in i:\n",
    "            result_sent_list.append(i)\n",
    "print(result_sent_list)"
   ]
  },
  {
   "cell_type": "markdown",
   "metadata": {},
   "source": [
    "#### 2 nd Way"
   ]
  },
  {
   "cell_type": "code",
   "execution_count": 28,
   "metadata": {},
   "outputs": [
    {
     "name": "stdout",
     "output_type": "stream",
     "text": [
      "{'o neden gelmiyor', 'ne dedin sen', 'ben de seni seviyorum', 'frank bir bu eksik'}\n"
     ]
    }
   ],
   "source": [
    "result_sent_set = set()\n",
    "for i in sent_list:\n",
    "    for j in ngram_list:\n",
    "        if j in i:\n",
    "            result_sent_set.add(i)\n",
    "print(result_sent_set)"
   ]
  },
  {
   "cell_type": "code",
   "execution_count": null,
   "metadata": {},
   "outputs": [],
   "source": []
  }
 ],
 "metadata": {
  "interpreter": {
   "hash": "31f2aee4e71d21fbe5cf8b01ff0e069b9275f58929596ceb00d14d90e3e16cd6"
  },
  "kernelspec": {
   "display_name": "Python 3.8.10 64-bit",
   "language": "python",
   "name": "python3"
  },
  "language_info": {
   "codemirror_mode": {
    "name": "ipython",
    "version": 3
   },
   "file_extension": ".py",
   "mimetype": "text/x-python",
   "name": "python",
   "nbconvert_exporter": "python",
   "pygments_lexer": "ipython3",
   "version": "3.9.5"
  },
  "orig_nbformat": 4
 },
 "nbformat": 4,
 "nbformat_minor": 2
}
