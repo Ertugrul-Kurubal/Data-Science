{
 "cells": [
  {
   "cell_type": "markdown",
   "metadata": {},
   "source": [
    "### Youtube Videoid"
   ]
  },
  {
   "cell_type": "code",
   "execution_count": null,
   "metadata": {},
   "outputs": [],
   "source": [
    "# pip install --upgrade google-api-python-client\n",
    "# pip install --upgrade google-auth-oauthlib google-auth-httplib2\n",
    "#!pip install json2html"
   ]
  },
  {
   "cell_type": "code",
   "execution_count": null,
   "metadata": {},
   "outputs": [],
   "source": [
    "import pandas as pd\n",
    "import json \n",
    "import re"
   ]
  },
  {
   "cell_type": "code",
   "execution_count": null,
   "metadata": {},
   "outputs": [],
   "source": [
    "from googleapiclient.discovery import build \n",
    "\n",
    "api_key = \"AIzaSyA3oohdkwOh9sxB7u5gkybRL6\"\n",
    "\n",
    "youtube = build('youtube', 'v3', developerKey=api_key)\n",
    "\n",
    "previous_request = youtube.search().list(\n",
    "        maxResults=50,\n",
    "        part=\"snippet\",\n",
    "        location=\"40.042126, 30.650741\",\n",
    "        locationRadius=\"400km\",\n",
    "        order=\"viewCount\",\n",
    "        relevanceLanguage=\"TR\",\n",
    "        type=\"video\",\n",
    "        videoCaption=\"closedCaption\",\n",
    "        videoEmbeddable=\"true\",\n",
    "        videoLicense=\"any\",\n",
    "        videoSyndicated=\"true\",\n",
    "        videoType=\"any\"       \n",
    "    )\n",
    "\n",
    "previous_response = previous_request.execute()\n",
    "token = previous_response.get('nextPageToken')\n",
    "page_list = []\n",
    "page_list.append(previous_response)\n",
    "page_num = 3\n",
    "i = 0\n",
    "while i < page_num:\n",
    "    new_request = youtube.search().list(\n",
    "        maxResults=50,\n",
    "        part=\"snippet\",\n",
    "        location=\"40.042126, 30.650741\",\n",
    "        locationRadius=\"400km\",\n",
    "        order=\"viewCount\",\n",
    "        relevanceLanguage=\"TR\",\n",
    "        type=\"video\",\n",
    "        videoCaption=\"closedCaption\",\n",
    "        videoEmbeddable=\"true\",\n",
    "        videoLicense=\"any\",\n",
    "        videoSyndicated=\"true\",\n",
    "        videoType=\"any\",\n",
    "        pageToken=token        \n",
    "    )\n",
    "    new_response = new_request.execute()\n",
    "    token = new_response.get('nextPageToken')\n",
    "    page_list.append(new_response)\n",
    "    i += 1\n",
    "\n",
    "json_object = json.dumps(page_list, indent = 4)\n",
    "print(json_object) "
   ]
  },
  {
   "cell_type": "code",
   "execution_count": null,
   "metadata": {},
   "outputs": [],
   "source": [
    "# Daily Quota \n",
    "from googleapiclient.discovery import build \n",
    "\n",
    "api_key = \"AIzaSyA3oohdkwOh9sxB7u5gky\"\n",
    "\n",
    "youtube = build('youtube', 'v3', developerKey=api_key)\n",
    "\n",
    "token = \"CDIQAA\"\n",
    "while True:\n",
    "    new_request = youtube.search().list(\n",
    "        maxResults=50,\n",
    "        part=\"snippet\",\n",
    "        location=\"40.042126, 30.650741\",\n",
    "        locationRadius=\"400km\",\n",
    "        order=\"viewCount\",\n",
    "        relevanceLanguage=\"TR\",\n",
    "        type=\"video\",\n",
    "        videoCaption=\"closedCaption\",\n",
    "        videoEmbeddable=\"true\",\n",
    "        videoLicense=\"any\",\n",
    "        videoSyndicated=\"true\",\n",
    "        videoType=\"any\",\n",
    "        pageToken=token        \n",
    "    )\n",
    "    new_response = new_request.execute()\n",
    "    token = new_response.get('nextPageToken')\n",
    "    page_list.append(new_response)\n",
    "    i += 1\n",
    "\n",
    "json_object = json.dumps(page_list, indent = 4)\n",
    "print(json_object) "
   ]
  },
  {
   "cell_type": "markdown",
   "metadata": {},
   "source": [
    "#### Convert Json HTML"
   ]
  },
  {
   "cell_type": "code",
   "execution_count": null,
   "metadata": {},
   "outputs": [],
   "source": [
    "from json2html import *"
   ]
  },
  {
   "cell_type": "code",
   "execution_count": null,
   "metadata": {},
   "outputs": [],
   "source": [
    "data_processed = json.loads(json_object)\n",
    "formatted_table = json2html.convert(json = data_processed) # json2html.convert(json = data_processed)"
   ]
  },
  {
   "cell_type": "code",
   "execution_count": null,
   "metadata": {},
   "outputs": [],
   "source": [
    "result_file = open(\"YoutubeSearchResult.html\",\"w\")\n",
    "result_file.write(formatted_table)\n",
    "result_file.close()"
   ]
  },
  {
   "cell_type": "markdown",
   "metadata": {},
   "source": [
    "#### Video Items"
   ]
  },
  {
   "cell_type": "code",
   "execution_count": null,
   "metadata": {},
   "outputs": [],
   "source": [
    "video_items = re.findall(r'(\"videoId\": \"\\w+.\")', json_object)\n",
    "print(video_items)"
   ]
  },
  {
   "cell_type": "code",
   "execution_count": null,
   "metadata": {},
   "outputs": [],
   "source": [
    "print(len(video_items))"
   ]
  },
  {
   "cell_type": "code",
   "execution_count": null,
   "metadata": {},
   "outputs": [],
   "source": [
    "videoid_df = pd.DataFrame(video_items)\n",
    "videoid_df = videoid_df.rename(columns={0:\"id\"})\n",
    "videoid_df"
   ]
  },
  {
   "cell_type": "code",
   "execution_count": null,
   "metadata": {},
   "outputs": [],
   "source": [
    "videoid_df.id = videoid_df.id.str.split(':', expand=True)[1].astype(str)\n",
    "videoid_df.id = videoid_df.id.str.replace('[^\\w\\s]','')\n",
    "videoid_df.id = videoid_df.id.id.apply(lambda x: x.strip())\n",
    "videoid_df"
   ]
  },
  {
   "cell_type": "code",
   "execution_count": null,
   "metadata": {},
   "outputs": [],
   "source": [
    "videoid_list = videoid_df.id.to_list()\n",
    "videoid_list"
   ]
  },
  {
   "cell_type": "markdown",
   "metadata": {},
   "source": [
    "#### Finding Caption ID With Video ID"
   ]
  },
  {
   "cell_type": "code",
   "execution_count": null,
   "metadata": {},
   "outputs": [],
   "source": [
    "from googleapiclient.discovery import build\n",
    "\n",
    "api_key = \"AIzaSyA3oohdkwOh9sxB7u5gk\"\n",
    "\n",
    "youtube = build('youtube', 'v3', developerKey=api_key)\n",
    "\n",
    "request = youtube.captions().list(\n",
    "        part=\"id\",\n",
    "        videoId = \"DKTAB8HgIwc\"\n",
    "    )\n",
    "response = request.execute()\n",
    "json_object = json.dumps(response, indent = 4) \n",
    "\n",
    "#with open('data.json', 'w') as outfile:\n",
    "#    json.dump(json_object, outfile)\n",
    "\n",
    "print(json_object)"
   ]
  },
  {
   "cell_type": "code",
   "execution_count": null,
   "metadata": {},
   "outputs": [],
   "source": []
  },
  {
   "cell_type": "code",
   "execution_count": null,
   "metadata": {},
   "outputs": [],
   "source": []
  }
 ],
 "metadata": {
  "interpreter": {
   "hash": "651d507d70892fab0fc6529d935cd476f6e2eb1791525b76da6cc8da34bc0503"
  },
  "kernelspec": {
   "display_name": "Python 3.9.5 64-bit ('py39': conda)",
   "name": "python3"
  },
  "language_info": {
   "codemirror_mode": {
    "name": "ipython",
    "version": 3
   },
   "file_extension": ".py",
   "mimetype": "text/x-python",
   "name": "python",
   "nbconvert_exporter": "python",
   "pygments_lexer": "ipython3",
   "version": "3.9.5"
  },
  "orig_nbformat": 4
 },
 "nbformat": 4,
 "nbformat_minor": 2
}
