{
 "cells": [
  {
   "cell_type": "markdown",
   "metadata": {},
   "source": [
    "### Youtube Sentence With Word And Order With Timestamp"
   ]
  },
  {
   "cell_type": "code",
   "execution_count": null,
   "metadata": {},
   "outputs": [],
   "source": [
    "import os\n",
    "import multiprocessing\n",
    "#import multiprocessing as mp\n",
    "from multiprocessing import Process, Manager, Pool, Queue\n",
    "from itertools import islice\n",
    "import re\n",
    "import pandas as pd\n",
    "import numpy as np"
   ]
  },
  {
   "cell_type": "code",
   "execution_count": null,
   "metadata": {},
   "outputs": [],
   "source": [
    "nprocs = multiprocessing.cpu_count()\n",
    "print(f\"Number of CPU cores: {nprocs}\")"
   ]
  },
  {
   "cell_type": "code",
   "execution_count": null,
   "metadata": {},
   "outputs": [],
   "source": [
    "word_num = 300\n",
    "df_word = pd.read_csv(\"/media/kurubal/SSD/Data Scientist/Work/Modern Ways/Project/Youtube/Result/Turkish/Word Tokenize Merge/Youtube_Word_Tokenize_Merge.csv\") # word merge dataframe\n",
    "df_word = df_word.head(word_num)\n",
    "df_word"
   ]
  },
  {
   "cell_type": "code",
   "execution_count": null,
   "metadata": {},
   "outputs": [],
   "source": [
    "data_kind = \"sentence\"\n",
    "df_sent = pd.read_csv(f\"/media/kurubal/SSD/Data Scientist/Work/Modern Ways/Project/Youtube/Result/Turkish/Sentence Clean Merge/Clean_Youtube_{data_kind.lower().capitalize()}_Merge_Result.csv\")\n",
    "df_sent"
   ]
  },
  {
   "cell_type": "code",
   "execution_count": null,
   "metadata": {},
   "outputs": [],
   "source": [
    "word_list = df_word.iloc[:,0].values.tolist()"
   ]
  },
  {
   "cell_type": "code",
   "execution_count": null,
   "metadata": {},
   "outputs": [],
   "source": [
    "sent_list  = df_sent.iloc[:,2].values.tolist()"
   ]
  },
  {
   "cell_type": "code",
   "execution_count": null,
   "metadata": {},
   "outputs": [],
   "source": [
    "resultlist = []"
   ]
  },
  {
   "cell_type": "code",
   "execution_count": null,
   "metadata": {},
   "outputs": [],
   "source": [
    "#import os\n",
    "#from multiprocessing import Process, Manager, Pool, Queue\n",
    "manager = multiprocessing.Manager()\n",
    "resultlist = manager.list()\n",
    "\n",
    "def word_in_wordgroup(sent_list):\n",
    "    mergelist = []\n",
    "    try:\n",
    "        word = sent_list.split()\n",
    "    except:\n",
    "        pass\n",
    "    var1 = range(len(word))\n",
    "    for j in var1:\n",
    "        if word[j] in word_list:\n",
    "            mergelist.append(word[j])\n",
    "            if len(mergelist) == len(word):\n",
    "                    resultlist.append(sent_list)\n",
    "                        \n",
    "if __name__ == '__main__':\n",
    "    # with Pool(16) as p:\n",
    "    with Pool(nprocs) as p: # Pool number CPU sayısına eşit olursa tüm CPU lar çalışır\n",
    "        p.map(word_in_wordgroup, sent_list) # string_word liste"
   ]
  },
  {
   "cell_type": "code",
   "execution_count": null,
   "metadata": {},
   "outputs": [],
   "source": [
    "result_list = list(resultlist)\n",
    "df_result = pd.DataFrame(result_list)\n",
    "df_result.drop_duplicates(inplace=True)\n",
    "df_result = df_result.rename(columns = {0: f\"{data_kind.lower()}\"})\n",
    "df_sent_merge = pd.merge(df_result, df_sent, how=\"inner\", on=f\"{data_kind.lower()}\")\n",
    "df_sent_merge.drop_duplicates(inplace=True)\n",
    "df_sent_with_words = df_sent_merge.sort_values(by=[\"video_id\",\"start_time\"], ascending=True)\n",
    "df_sent_with_words.reset_index(drop=True, inplace=True)\n",
    "df_sent_with_words"
   ]
  },
  {
   "cell_type": "code",
   "execution_count": null,
   "metadata": {},
   "outputs": [],
   "source": [
    "#df_merge_result.to_csv(f\"Youtube_{data_kind.capitalize()}_With_{word_num}_Words.csv\", index=False)"
   ]
  },
  {
   "cell_type": "code",
   "execution_count": null,
   "metadata": {},
   "outputs": [],
   "source": [
    "df_sent_with_words[\"with_word\"] = 1\n",
    "df_sent_with_words"
   ]
  },
  {
   "cell_type": "code",
   "execution_count": null,
   "metadata": {},
   "outputs": [],
   "source": [
    "df_with_word = pd.merge(df_sent, df_sent_with_words, how=\"left\", on=[\"sentence\",\"start_time\",\"end_time\",\"video_id\"])\n",
    "df_with_word.fillna(0, inplace=True)\n",
    "df_with_word"
   ]
  },
  {
   "cell_type": "code",
   "execution_count": null,
   "metadata": {},
   "outputs": [],
   "source": [
    "df_with_word.with_word.value_counts()"
   ]
  },
  {
   "cell_type": "code",
   "execution_count": null,
   "metadata": {},
   "outputs": [],
   "source": [
    "# First Code Running For All Sentence\n",
    "zeros = []\n",
    "ones = []\n",
    "zero_list = []\n",
    "one_list = []\n",
    "for i in range(len(df_with_word)):    \n",
    "    if df_with_word.loc[i,\"with_word\"] == 0:\n",
    "        zeros.append(i)\n",
    "        try:\n",
    "            one_list.append((ones[0],len(ones)))\n",
    "        except:\n",
    "            pass\n",
    "        ones = []\n",
    "    else:\n",
    "        ones.append(i)\n",
    "        try:\n",
    "            zero_list.append((zeros[0],len(zeros)))\n",
    "        except:\n",
    "            pass\n",
    "        zeros = []\n",
    "try:\n",
    "    one_list.append((ones[0],len(ones)))\n",
    "except:\n",
    "    pass\n",
    "try:\n",
    "    zero_list.append((zeros[0],len(zeros)))\n",
    "except:\n",
    "    pass"
   ]
  },
  {
   "cell_type": "code",
   "execution_count": null,
   "metadata": {},
   "outputs": [],
   "source": [
    "# Try Code (will test)\n",
    "zeros = []\n",
    "ones = []\n",
    "zero_list = []\n",
    "one_list = []\n",
    "for i in range(len(df_with_word)):\n",
    "    videoid = df_with_word.loc[i,\"video_id\"]    \n",
    "    if df_with_word.loc[i,\"with_word\"] == 0:\n",
    "        zeros.append(i)\n",
    "        try:\n",
    "            one_list.append((ones[0],len(ones)))\n",
    "        except:\n",
    "            pass\n",
    "        ones = []\n",
    "    else:\n",
    "        ones.append(i)\n",
    "        try:\n",
    "            zero_list.append((zeros[0],len(zeros)))\n",
    "        except:\n",
    "            pass\n",
    "        zeros = []\n",
    "\n",
    "    if df_with_word.loc[i+1,\"video_id\"] != videoid:\n",
    "        try:\n",
    "            one_list.append((ones[0],len(ones)))\n",
    "            ones = []\n",
    "        except:\n",
    "            pass\n",
    "        try:\n",
    "            zero_list.append((zeros[0],len(zeros)))\n",
    "            zeros = []\n",
    "        except:\n",
    "            pass\n",
    "    else:\n",
    "        pass\n",
    "\n",
    "try:\n",
    "    one_list.append((ones[0],len(ones)))\n",
    "except:\n",
    "    pass\n",
    "try:\n",
    "    zero_list.append((zeros[0],len(zeros)))\n",
    "except:\n",
    "    pass"
   ]
  },
  {
   "cell_type": "code",
   "execution_count": null,
   "metadata": {},
   "outputs": [],
   "source": [
    "len(one_list)"
   ]
  },
  {
   "cell_type": "code",
   "execution_count": null,
   "metadata": {},
   "outputs": [],
   "source": [
    "len(zero_list)"
   ]
  },
  {
   "cell_type": "code",
   "execution_count": null,
   "metadata": {},
   "outputs": [],
   "source": [
    "df_one = pd.DataFrame(one_list)\n",
    "df_one.rename(columns={0:\"index\",1:\"length\"}, inplace=True)\n",
    "df_one.drop_duplicates(inplace=True)\n",
    "df_one"
   ]
  },
  {
   "cell_type": "code",
   "execution_count": null,
   "metadata": {},
   "outputs": [],
   "source": [
    "df_one[1].sum()"
   ]
  },
  {
   "cell_type": "code",
   "execution_count": null,
   "metadata": {},
   "outputs": [],
   "source": [
    "df_one.sort_values(by=\"length\", ascending=False)"
   ]
  },
  {
   "cell_type": "code",
   "execution_count": null,
   "metadata": {},
   "outputs": [],
   "source": [
    "df_zero = pd.DataFrame(zero_list)\n",
    "df_zero.rename(columns={0:\"index\",1:\"length\"}, inplace=True)\n",
    "df_zero.drop_duplicates(inplace=True)\n",
    "df_zero"
   ]
  },
  {
   "cell_type": "code",
   "execution_count": null,
   "metadata": {},
   "outputs": [],
   "source": [
    "df_zero[1].sum()"
   ]
  },
  {
   "cell_type": "code",
   "execution_count": null,
   "metadata": {},
   "outputs": [],
   "source": []
  },
  {
   "cell_type": "code",
   "execution_count": null,
   "metadata": {},
   "outputs": [],
   "source": []
  },
  {
   "cell_type": "code",
   "execution_count": null,
   "metadata": {},
   "outputs": [],
   "source": []
  },
  {
   "cell_type": "code",
   "execution_count": null,
   "metadata": {},
   "outputs": [],
   "source": [
    "df_word_result = pd.DataFrame()\n",
    "for i in word_list:\n",
    "    word_in_video = df_sent_with_words[df_sent_with_words.sentence.str.contains(fr\"(?:\\s|^){i}(?:\\s|$)\", na=True)] # try and except will try for sample \n",
    "    word_in_video.insert(0,\"word\",i)\n",
    "    df_word_result = pd.concat([df_word_result,word_in_video], axis=0)\n",
    "df_word_result.reset_index(drop=True, inplace=True)\n",
    "df_word_result = df_word_result.sort_values(by=[\"video_id\",\"start_time\"], ascending=True)\n",
    "df_word_result.reset_index(drop=True, inplace=True)\n",
    "df_word_result"
   ]
  },
  {
   "cell_type": "code",
   "execution_count": null,
   "metadata": {},
   "outputs": [],
   "source": [
    "#df_word_result.to_csv(f\"Youtube_{data_kind.capitalize()}_With_{word_num}_Word_And_Words.csv\", index=False)"
   ]
  },
  {
   "cell_type": "code",
   "execution_count": null,
   "metadata": {},
   "outputs": [],
   "source": [
    "df_group = pd.DataFrame(df_word_result.groupby(\"video_id\")[\"word\"].nunique())\n",
    "df_group.reset_index(inplace=True)\n",
    "df_group.rename(columns={\"word\":\"frequency\"}, inplace=True)\n",
    "df_group.sort_values(by=\"frequency\", ascending=False, inplace=True)\n",
    "df_group.reset_index(drop=True, inplace=True)\n",
    "df_group "
   ]
  },
  {
   "cell_type": "code",
   "execution_count": null,
   "metadata": {},
   "outputs": [],
   "source": [
    "df_word_result[df_word_result.video_id == \"UDDfBEUGY60\"]"
   ]
  },
  {
   "cell_type": "code",
   "execution_count": null,
   "metadata": {},
   "outputs": [],
   "source": []
  },
  {
   "cell_type": "code",
   "execution_count": null,
   "metadata": {},
   "outputs": [],
   "source": []
  },
  {
   "cell_type": "code",
   "execution_count": null,
   "metadata": {},
   "outputs": [],
   "source": []
  }
 ],
 "metadata": {
  "language_info": {
   "name": "python"
  },
  "orig_nbformat": 4
 },
 "nbformat": 4,
 "nbformat_minor": 2
}
