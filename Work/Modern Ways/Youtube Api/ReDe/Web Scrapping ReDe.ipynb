{
 "cells": [
  {
   "cell_type": "code",
   "execution_count": 1,
   "metadata": {},
   "outputs": [],
   "source": [
    "import pandas as pd\n",
    "import numpy as np\n",
    "import matplotlib.pyplot as plt\n",
    "import json \n",
    "\n",
    "%matplotlib inline\n",
    "\n",
    "from urllib.request import urlopen\n",
    "from bs4 import BeautifulSoup\n",
    "from json2html import *\n",
    "import re"
   ]
  },
  {
   "cell_type": "code",
   "execution_count": 2,
   "metadata": {},
   "outputs": [],
   "source": [
    "videoid = [\"JR7nKXxUVtM\",\"DKTAB8HgIwc\"]"
   ]
  },
  {
   "cell_type": "code",
   "execution_count": 3,
   "metadata": {},
   "outputs": [
    {
     "name": "stdout",
     "output_type": "stream",
     "text": [
      "['', '']\n"
     ]
    }
   ],
   "source": [
    "xml_list = []\n",
    "error_id = []\n",
    "lang = \"tr\"\n",
    "for i in videoid:\n",
    "    try:\n",
    "        url = f\"https://www.youtube.com/api/timedtext?&v={i}&lang={lang}\"\n",
    "        html = urlopen(url)\n",
    "        soup = BeautifulSoup(html)\n",
    "        #xml_list.append(soup) \n",
    "        xml_list.append(soup.prettify()) # prettify() convert xml\n",
    "    except:\n",
    "        error_id.append(i)\n",
    "print(xml_list)"
   ]
  },
  {
   "cell_type": "code",
   "execution_count": 4,
   "metadata": {},
   "outputs": [
    {
     "name": "stdout",
     "output_type": "stream",
     "text": [
      "[]\n"
     ]
    }
   ],
   "source": [
    "print(error_id)"
   ]
  },
  {
   "cell_type": "code",
   "execution_count": 5,
   "metadata": {},
   "outputs": [
    {
     "data": {
      "text/plain": [
       "'<?xml version=\"1.0\" encoding=\"utf-8\" ?>\\n<html>\\n <body>\\n  <transcript>\\n   <text dur=\"19.3\" start=\"0\">\\n    (Gitar intro çalıyor)\\n   </text>\\n   <text dur=\"19.2\" start=\"19.36\">\\n    (Orkestra da müziğe dahil oluyor)\\n   </text>\\n   <text dur=\"4.66\" start=\"38.6\">\\n    Dam başında sarı çiçek oy oy\\n   </text>\\n   <text dur=\"4.7\" start=\"43.38\">\\n    Dam başında sarı çiçek oy oy\\n   </text>\\n   <text dur=\"4.8\" start=\"48.14\">\\n    Burdan kalkıp Ürgüp&amp;#39;e göçek\\nNenni de Feride&amp;#39;m\\n   </text>\\n   <text dur=\"4.72\" start=\"52.98\">\\n    Burdan kalkıp Ürgüp&amp;#39;e göçek\\nNenni de Feride&amp;#39;m\\n   </text>\\n   <text dur=\"4.68\" start=\"57.76\">\\n    Ürgüp&amp;#39;e vardığımız gece oy oy\\n   </text>\\n   <text dur=\"4.64\" start=\"62.58\">\\n    Ürgüp&amp;#39;e vardığımız gece oy oy\\n   </text>\\n   <text dur=\"4.9\" start=\"67.22\">\\n    Hak yoluna kurban kesek\\nNenni de Feride&amp;#39;m\\n   </text>\\n   <text dur=\"4.72\" start=\"72.16\">\\n    Hak yoluna kurban kesek\\nNenni de Feride&amp;#39;m\\n   </text>\\n   <text dur=\"4.78\" start=\"76.94\">\\n    Hak yoluna kurban kesek\\nNenni de Feride&amp;#39;m\\n   </text>\\n   <text dur=\"4.48\" start=\"81.92\">\\n    Hak yoluna kurban kesek\\nNenni de Feride&amp;#39;m\\n   </text>\\n   <text dur=\"28.8\" start=\"86.4\">\\n    (Orkestra / Akustik gitar ve Saxophone melodi çalıyor)\\n   </text>\\n   <text dur=\"4.32\" start=\"115.36\">\\n    Gidiyorum işte gör oy oy\\n   </text>\\n   <text dur=\"4.52\" start=\"120.08\">\\n    Gidiyorum işte gör oy oy\\n   </text>\\n   <text dur=\"4.56\" start=\"124.92\">\\n    Hayalde gör düşte gör\\nNenni de Feride&amp;#39;m\\n   </text>\\n   <text dur=\"4.56\" start=\"129.64\">\\n    Hayalde gör düşte gör\\nNenni de Feride&amp;#39;m\\n   </text>\\n   <text dur=\"4.48\" start=\"134.44\">\\n    Gıymatımı (kıymetimi) bilmedin oy oy\\n   </text>\\n   <text dur=\"4.74\" start=\"139.2\">\\n    Gıymatımı (kıymetimi) bilmedin oy oy\\n   </text>\\n   <text dur=\"4.58\" start=\"144.12\">\\n    Bir kötüye düş de gör\\nNenni de Feride&amp;#39;m\\n   </text>\\n   <text dur=\"4.66\" start=\"148.92\">\\n    Bir kötüye düş de gör\\nNenni de Feride&amp;#39;m\\n   </text>\\n   <text dur=\"4.66\" start=\"153.74\">\\n    Bir kötüye düş de gör\\nNenni de Feride&amp;#39;m\\n   </text>\\n   <text dur=\"4.66\" start=\"158.54\">\\n    Bir kötüye düş de gör\\nNenni de Feride&amp;#39;m\\n   </text>\\n   <text dur=\"18.98\" start=\"163.36\">\\n    Percussion (Djembe) Emprovize\\n   </text>\\n   <text dur=\"26.38\" start=\"182.56\">\\n    (Orkestra / Akustik gitar ve Saxophone melodi çalıyor)\\n(outro)\\n   </text>\\n   <text dur=\"8.66\" start=\"208.94\">\\n    Nenni de Feride&amp;#39;m\\nIslık...\\n   </text>\\n  </transcript>\\n </body>\\n</html>'"
      ]
     },
     "execution_count": 5,
     "metadata": {},
     "output_type": "execute_result"
    }
   ],
   "source": [
    "xml_list[1]"
   ]
  },
  {
   "cell_type": "code",
   "execution_count": 6,
   "metadata": {},
   "outputs": [
    {
     "name": "stdout",
     "output_type": "stream",
     "text": [
      "\"<?xml version=\\\"1.0\\\" encoding=\\\"utf-8\\\" ?>\\n<html>\\n <body>\\n  <transcript>\\n   <text dur=\\\"19.3\\\" start=\\\"0\\\">\\n    (Gitar intro \\u00e7al\\u0131yor)\\n   </text>\\n   <text dur=\\\"19.2\\\" start=\\\"19.36\\\">\\n    (Orkestra da m\\u00fczi\\u011fe dahil oluyor)\\n   </text>\\n   <text dur=\\\"4.66\\\" start=\\\"38.6\\\">\\n    Dam ba\\u015f\\u0131nda sar\\u0131 \\u00e7i\\u00e7ek oy oy\\n   </text>\\n   <text dur=\\\"4.7\\\" start=\\\"43.38\\\">\\n    Dam ba\\u015f\\u0131nda sar\\u0131 \\u00e7i\\u00e7ek oy oy\\n   </text>\\n   <text dur=\\\"4.8\\\" start=\\\"48.14\\\">\\n    Burdan kalk\\u0131p \\u00dcrg\\u00fcp&amp;#39;e g\\u00f6\\u00e7ek\\nNenni de Feride&amp;#39;m\\n   </text>\\n   <text dur=\\\"4.72\\\" start=\\\"52.98\\\">\\n    Burdan kalk\\u0131p \\u00dcrg\\u00fcp&amp;#39;e g\\u00f6\\u00e7ek\\nNenni de Feride&amp;#39;m\\n   </text>\\n   <text dur=\\\"4.68\\\" start=\\\"57.76\\\">\\n    \\u00dcrg\\u00fcp&amp;#39;e vard\\u0131\\u011f\\u0131m\\u0131z gece oy oy\\n   </text>\\n   <text dur=\\\"4.64\\\" start=\\\"62.58\\\">\\n    \\u00dcrg\\u00fcp&amp;#39;e vard\\u0131\\u011f\\u0131m\\u0131z gece oy oy\\n   </text>\\n   <text dur=\\\"4.9\\\" start=\\\"67.22\\\">\\n    Hak yoluna kurban kesek\\nNenni de Feride&amp;#39;m\\n   </text>\\n   <text dur=\\\"4.72\\\" start=\\\"72.16\\\">\\n    Hak yoluna kurban kesek\\nNenni de Feride&amp;#39;m\\n   </text>\\n   <text dur=\\\"4.78\\\" start=\\\"76.94\\\">\\n    Hak yoluna kurban kesek\\nNenni de Feride&amp;#39;m\\n   </text>\\n   <text dur=\\\"4.48\\\" start=\\\"81.92\\\">\\n    Hak yoluna kurban kesek\\nNenni de Feride&amp;#39;m\\n   </text>\\n   <text dur=\\\"28.8\\\" start=\\\"86.4\\\">\\n    (Orkestra / Akustik gitar ve Saxophone melodi \\u00e7al\\u0131yor)\\n   </text>\\n   <text dur=\\\"4.32\\\" start=\\\"115.36\\\">\\n    Gidiyorum i\\u015fte g\\u00f6r oy oy\\n   </text>\\n   <text dur=\\\"4.52\\\" start=\\\"120.08\\\">\\n    Gidiyorum i\\u015fte g\\u00f6r oy oy\\n   </text>\\n   <text dur=\\\"4.56\\\" start=\\\"124.92\\\">\\n    Hayalde g\\u00f6r d\\u00fc\\u015fte g\\u00f6r\\nNenni de Feride&amp;#39;m\\n   </text>\\n   <text dur=\\\"4.56\\\" start=\\\"129.64\\\">\\n    Hayalde g\\u00f6r d\\u00fc\\u015fte g\\u00f6r\\nNenni de Feride&amp;#39;m\\n   </text>\\n   <text dur=\\\"4.48\\\" start=\\\"134.44\\\">\\n    G\\u0131ymat\\u0131m\\u0131 (k\\u0131ymetimi) bilmedin oy oy\\n   </text>\\n   <text dur=\\\"4.74\\\" start=\\\"139.2\\\">\\n    G\\u0131ymat\\u0131m\\u0131 (k\\u0131ymetimi) bilmedin oy oy\\n   </text>\\n   <text dur=\\\"4.58\\\" start=\\\"144.12\\\">\\n    Bir k\\u00f6t\\u00fcye d\\u00fc\\u015f de g\\u00f6r\\nNenni de Feride&amp;#39;m\\n   </text>\\n   <text dur=\\\"4.66\\\" start=\\\"148.92\\\">\\n    Bir k\\u00f6t\\u00fcye d\\u00fc\\u015f de g\\u00f6r\\nNenni de Feride&amp;#39;m\\n   </text>\\n   <text dur=\\\"4.66\\\" start=\\\"153.74\\\">\\n    Bir k\\u00f6t\\u00fcye d\\u00fc\\u015f de g\\u00f6r\\nNenni de Feride&amp;#39;m\\n   </text>\\n   <text dur=\\\"4.66\\\" start=\\\"158.54\\\">\\n    Bir k\\u00f6t\\u00fcye d\\u00fc\\u015f de g\\u00f6r\\nNenni de Feride&amp;#39;m\\n   </text>\\n   <text dur=\\\"18.98\\\" start=\\\"163.36\\\">\\n    Percussion (Djembe) Emprovize\\n   </text>\\n   <text dur=\\\"26.38\\\" start=\\\"182.56\\\">\\n    (Orkestra / Akustik gitar ve Saxophone melodi \\u00e7al\\u0131yor)\\n(outro)\\n   </text>\\n   <text dur=\\\"8.66\\\" start=\\\"208.94\\\">\\n    Nenni de Feride&amp;#39;m\\nIsl\\u0131k...\\n   </text>\\n  </transcript>\\n </body>\\n</html>\"\n"
     ]
    }
   ],
   "source": [
    "json_object = json.dumps(xml_list[1], indent = 4)\n",
    "print(json_object) "
   ]
  },
  {
   "cell_type": "code",
   "execution_count": 2,
   "metadata": {},
   "outputs": [],
   "source": [
    "from json2html import *"
   ]
  },
  {
   "cell_type": "code",
   "execution_count": 18,
   "metadata": {},
   "outputs": [],
   "source": [
    "data_processed = json.loads(json_object)\n",
    "formatted_table = json2html.convert(json = data_processed)"
   ]
  },
  {
   "cell_type": "code",
   "execution_count": 19,
   "metadata": {},
   "outputs": [],
   "source": [
    "your_file = open(\"YoutubeTextResult.html\",\"w\")\n",
    "your_file.write(formatted_table)\n",
    "your_file.close()"
   ]
  },
  {
   "cell_type": "code",
   "execution_count": null,
   "metadata": {},
   "outputs": [],
   "source": []
  },
  {
   "cell_type": "markdown",
   "metadata": {},
   "source": [
    "#### Concat XML"
   ]
  },
  {
   "cell_type": "code",
   "execution_count": 20,
   "metadata": {},
   "outputs": [],
   "source": [
    "text = f'{xml_list[0]}' + \"\\n\" + f'{xml_list[1]}'"
   ]
  },
  {
   "cell_type": "code",
   "execution_count": 21,
   "metadata": {},
   "outputs": [
    {
     "data": {
      "text/plain": [
       "'<?xml version=\"1.0\" encoding=\"utf-8\" ?>\\n<html>\\n <body>\\n  <transcript>\\n   <text dur=\"0.66\" start=\"6.68\">\\n    &amp;quot;Sen kimsin peki?&amp;quot;\\n   </text>\\n   <text dur=\"1.26\" start=\"7.34\">\\n    &amp;quot;Parolayı söyle&amp;quot;\\n   </text>\\n   <text dur=\"1.62\" start=\"9.44\">\\n    &amp;quot;Ya ben kim olacağım?&amp;quot;\\n   </text>\\n   <text dur=\"0.8\" start=\"11.06\">\\n    &amp;quot;Keloğlan&amp;#39;ım&amp;quot;\\n   </text>\\n   <text dur=\"0.5\" start=\"13.38\">\\n    Ey\\n   </text>\\n   <text dur=\"3.12\" start=\"36.22\">\\n    Uyan güzel aç gözünü\\n   </text>\\n   <text dur=\"2.64\" start=\"39.38\">\\n    Dinle aşıkın sözünü\\n   </text>\\n   <text dur=\"3.12\" start=\"42.04\">\\n    Vermişim  sana özümü\\n   </text>\\n   <text dur=\"2.92\" start=\"45.24\">\\n    Benim aykızım sultanım\\n   </text>\\n   <text dur=\"0.5\" start=\"51.98\">\\n    Uyan uyan...\\n   </text>\\n   <text dur=\"3.32\" start=\"57.2\">\\n    Uyan uyan uyan uyan...\\n   </text>\\n   <text dur=\"2.94\" start=\"72.18\">\\n    Vuruldum sana düşümde\\n   </text>\\n   <text dur=\"2.76\" start=\"75.22\">\\n    Hem baharım hem kışımda\\n   </text>\\n   <text dur=\"3.16\" start=\"78.06\">\\n    Bir sevda şu kel başımda\\n   </text>\\n   <text dur=\"2.76\" start=\"81.28\">\\n    Benim aykızım sultanım\\n   </text>\\n   <text dur=\"1.16\" start=\"87.84\">\\n    Uyan uyan...\\n   </text>\\n   <text dur=\"2.78\" start=\"93.4\">\\n    Uyan uyan uyan uyan...\\n   </text>\\n   <text dur=\"2.48\" start=\"108.58\">\\n    Sen sultansın ben bir kelim\\n   </text>\\n   <text dur=\"2.82\" start=\"111.14\">\\n    Bağlı ayağımla elim\\n   </text>\\n   <text dur=\"3.22\" start=\"114\">\\n    Sevdim seni durmaz dilim\\n   </text>\\n   <text dur=\"2.74\" start=\"117.28\">\\n    Benim aykızım sultanım\\n   </text>\\n   <text dur=\"1.14\" start=\"121.22\">\\n    &amp;quot;Uyan uyan&amp;quot;\\n   </text>\\n   <text dur=\"0.76\" start=\"122.36\">\\n    &amp;quot;Haydi&amp;quot;\\n   </text>\\n   <text dur=\"0.5\" start=\"123.68\">\\n    &amp;quot;Uyan&amp;quot;\\n   </text>\\n   <text dur=\"2.28\" start=\"129.54\">\\n    Uyan uyan uyan uyan...\\n   </text>\\n   <text dur=\"1.4\" start=\"136.72\">\\n    &amp;quot;Uyan uyan...&amp;quot;\\n   </text>\\n   <text dur=\"2\" start=\"147.66\">\\n    Uyan uyan uyan uyan...\\n   </text>\\n   <text dur=\"0.5\" start=\"155.42\">\\n    &amp;quot;Reynmen&amp;quot;\\n   </text>\\n   <text dur=\"0.5\" start=\"158.34\">\\n    &amp;quot;Sultan&amp;quot;\\n   </text>\\n   <text dur=\"1.24\" start=\"165.22\">\\n    &amp;quot;Uyanmıyo ya...&amp;quot;\\n   </text>\\n  </transcript>\\n </body>\\n</html>\\n<?xml version=\"1.0\" encoding=\"utf-8\" ?>\\n<html>\\n <body>\\n  <transcript>\\n   <text dur=\"19.3\" start=\"0\">\\n    (Gitar intro çalıyor)\\n   </text>\\n   <text dur=\"19.2\" start=\"19.36\">\\n    (Orkestra da müziğe dahil oluyor)\\n   </text>\\n   <text dur=\"4.66\" start=\"38.6\">\\n    Dam başında sarı çiçek oy oy\\n   </text>\\n   <text dur=\"4.7\" start=\"43.38\">\\n    Dam başında sarı çiçek oy oy\\n   </text>\\n   <text dur=\"4.8\" start=\"48.14\">\\n    Burdan kalkıp Ürgüp&amp;#39;e göçek\\nNenni de Feride&amp;#39;m\\n   </text>\\n   <text dur=\"4.72\" start=\"52.98\">\\n    Burdan kalkıp Ürgüp&amp;#39;e göçek\\nNenni de Feride&amp;#39;m\\n   </text>\\n   <text dur=\"4.68\" start=\"57.76\">\\n    Ürgüp&amp;#39;e vardığımız gece oy oy\\n   </text>\\n   <text dur=\"4.64\" start=\"62.58\">\\n    Ürgüp&amp;#39;e vardığımız gece oy oy\\n   </text>\\n   <text dur=\"4.9\" start=\"67.22\">\\n    Hak yoluna kurban kesek\\nNenni de Feride&amp;#39;m\\n   </text>\\n   <text dur=\"4.72\" start=\"72.16\">\\n    Hak yoluna kurban kesek\\nNenni de Feride&amp;#39;m\\n   </text>\\n   <text dur=\"4.78\" start=\"76.94\">\\n    Hak yoluna kurban kesek\\nNenni de Feride&amp;#39;m\\n   </text>\\n   <text dur=\"4.48\" start=\"81.92\">\\n    Hak yoluna kurban kesek\\nNenni de Feride&amp;#39;m\\n   </text>\\n   <text dur=\"28.8\" start=\"86.4\">\\n    (Orkestra / Akustik gitar ve Saxophone melodi çalıyor)\\n   </text>\\n   <text dur=\"4.32\" start=\"115.36\">\\n    Gidiyorum işte gör oy oy\\n   </text>\\n   <text dur=\"4.52\" start=\"120.08\">\\n    Gidiyorum işte gör oy oy\\n   </text>\\n   <text dur=\"4.56\" start=\"124.92\">\\n    Hayalde gör düşte gör\\nNenni de Feride&amp;#39;m\\n   </text>\\n   <text dur=\"4.56\" start=\"129.64\">\\n    Hayalde gör düşte gör\\nNenni de Feride&amp;#39;m\\n   </text>\\n   <text dur=\"4.48\" start=\"134.44\">\\n    Gıymatımı (kıymetimi) bilmedin oy oy\\n   </text>\\n   <text dur=\"4.74\" start=\"139.2\">\\n    Gıymatımı (kıymetimi) bilmedin oy oy\\n   </text>\\n   <text dur=\"4.58\" start=\"144.12\">\\n    Bir kötüye düş de gör\\nNenni de Feride&amp;#39;m\\n   </text>\\n   <text dur=\"4.66\" start=\"148.92\">\\n    Bir kötüye düş de gör\\nNenni de Feride&amp;#39;m\\n   </text>\\n   <text dur=\"4.66\" start=\"153.74\">\\n    Bir kötüye düş de gör\\nNenni de Feride&amp;#39;m\\n   </text>\\n   <text dur=\"4.66\" start=\"158.54\">\\n    Bir kötüye düş de gör\\nNenni de Feride&amp;#39;m\\n   </text>\\n   <text dur=\"18.98\" start=\"163.36\">\\n    Percussion (Djembe) Emprovize\\n   </text>\\n   <text dur=\"26.38\" start=\"182.56\">\\n    (Orkestra / Akustik gitar ve Saxophone melodi çalıyor)\\n(outro)\\n   </text>\\n   <text dur=\"8.66\" start=\"208.94\">\\n    Nenni de Feride&amp;#39;m\\nIslık...\\n   </text>\\n  </transcript>\\n </body>\\n</html>'"
      ]
     },
     "execution_count": 21,
     "metadata": {},
     "output_type": "execute_result"
    }
   ],
   "source": [
    "text"
   ]
  },
  {
   "cell_type": "code",
   "execution_count": null,
   "metadata": {},
   "outputs": [],
   "source": []
  },
  {
   "cell_type": "markdown",
   "metadata": {},
   "source": [
    "#### XML Read Write"
   ]
  },
  {
   "cell_type": "code",
   "execution_count": 4,
   "metadata": {},
   "outputs": [
    {
     "name": "stdout",
     "output_type": "stream",
     "text": [
      "\n"
     ]
    }
   ],
   "source": [
    "url = \"https://www.youtube.com/api/timedtext?&v=JR7nKXxUVtM&lang=tr\"\n",
    "html = urlopen(url)\n",
    "soup = BeautifulSoup(html)\n",
    "text = soup.prettify()\n",
    "print(text)"
   ]
  },
  {
   "cell_type": "code",
   "execution_count": 18,
   "metadata": {},
   "outputs": [],
   "source": [
    "with open(\"text.xml\",'w',encoding = 'utf-8') as f:\n",
    "   f.write(text)"
   ]
  },
  {
   "cell_type": "code",
   "execution_count": 19,
   "metadata": {},
   "outputs": [],
   "source": [
    "with open('text.xml', 'r') as f:\n",
    "    data = f.read()"
   ]
  },
  {
   "cell_type": "code",
   "execution_count": 22,
   "metadata": {},
   "outputs": [
    {
     "data": {
      "text/plain": [
       "'<?xml version=\"1.0\" encoding=\"utf-8\" ?>\\n<html>\\n <body>\\n  <transcript>\\n   <text dur=\"0.66\" start=\"6.68\">\\n    &amp;quot;Sen kimsin peki?&amp;quot;\\n   </text>\\n   <text dur=\"1.26\" start=\"7.34\">\\n    &amp;quot;Parolayı söyle&amp;quot;\\n   </text>\\n   <text dur=\"1.62\" start=\"9.44\">\\n    &amp;quot;Ya ben kim olacağım?&amp;quot;\\n   </text>\\n   <text dur=\"0.8\" start=\"11.06\">\\n    &amp;quot;Keloğlan&amp;#39;ım&amp;quot;\\n   </text>\\n   <text dur=\"0.5\" start=\"13.38\">\\n    Ey\\n   </text>\\n   <text dur=\"3.12\" start=\"36.22\">\\n    Uyan güzel aç gözünü\\n   </text>\\n   <text dur=\"2.64\" start=\"39.38\">\\n    Dinle aşıkın sözünü\\n   </text>\\n   <text dur=\"3.12\" start=\"42.04\">\\n    Vermişim  sana özümü\\n   </text>\\n   <text dur=\"2.92\" start=\"45.24\">\\n    Benim aykızım sultanım\\n   </text>\\n   <text dur=\"0.5\" start=\"51.98\">\\n    Uyan uyan...\\n   </text>\\n   <text dur=\"3.32\" start=\"57.2\">\\n    Uyan uyan uyan uyan...\\n   </text>\\n   <text dur=\"2.94\" start=\"72.18\">\\n    Vuruldum sana düşümde\\n   </text>\\n   <text dur=\"2.76\" start=\"75.22\">\\n    Hem baharım hem kışımda\\n   </text>\\n   <text dur=\"3.16\" start=\"78.06\">\\n    Bir sevda şu kel başımda\\n   </text>\\n   <text dur=\"2.76\" start=\"81.28\">\\n    Benim aykızım sultanım\\n   </text>\\n   <text dur=\"1.16\" start=\"87.84\">\\n    Uyan uyan...\\n   </text>\\n   <text dur=\"2.78\" start=\"93.4\">\\n    Uyan uyan uyan uyan...\\n   </text>\\n   <text dur=\"2.48\" start=\"108.58\">\\n    Sen sultansın ben bir kelim\\n   </text>\\n   <text dur=\"2.82\" start=\"111.14\">\\n    Bağlı ayağımla elim\\n   </text>\\n   <text dur=\"3.22\" start=\"114\">\\n    Sevdim seni durmaz dilim\\n   </text>\\n   <text dur=\"2.74\" start=\"117.28\">\\n    Benim aykızım sultanım\\n   </text>\\n   <text dur=\"1.14\" start=\"121.22\">\\n    &amp;quot;Uyan uyan&amp;quot;\\n   </text>\\n   <text dur=\"0.76\" start=\"122.36\">\\n    &amp;quot;Haydi&amp;quot;\\n   </text>\\n   <text dur=\"0.5\" start=\"123.68\">\\n    &amp;quot;Uyan&amp;quot;\\n   </text>\\n   <text dur=\"2.28\" start=\"129.54\">\\n    Uyan uyan uyan uyan...\\n   </text>\\n   <text dur=\"1.4\" start=\"136.72\">\\n    &amp;quot;Uyan uyan...&amp;quot;\\n   </text>\\n   <text dur=\"2\" start=\"147.66\">\\n    Uyan uyan uyan uyan...\\n   </text>\\n   <text dur=\"0.5\" start=\"155.42\">\\n    &amp;quot;Reynmen&amp;quot;\\n   </text>\\n   <text dur=\"0.5\" start=\"158.34\">\\n    &amp;quot;Sultan&amp;quot;\\n   </text>\\n   <text dur=\"1.24\" start=\"165.22\">\\n    &amp;quot;Uyanmıyo ya...&amp;quot;\\n   </text>\\n  </transcript>\\n </body>\\n</html>'"
      ]
     },
     "execution_count": 22,
     "metadata": {},
     "output_type": "execute_result"
    }
   ],
   "source": [
    "data"
   ]
  },
  {
   "cell_type": "code",
   "execution_count": 23,
   "metadata": {},
   "outputs": [
    {
     "data": {
      "text/plain": [
       "'<?xml'"
      ]
     },
     "execution_count": 23,
     "metadata": {},
     "output_type": "execute_result"
    }
   ],
   "source": [
    "data[:5]"
   ]
  },
  {
   "cell_type": "code",
   "execution_count": 24,
   "metadata": {},
   "outputs": [
    {
     "data": {
      "text/plain": [
       "<?xml version=\"1.0\" encoding=\"utf-8\" ?>\n",
       "<html>\n",
       "<body>\n",
       "<transcript>\n",
       "<text dur=\"0.66\" start=\"6.68\">\n",
       "    &amp;quot;Sen kimsin peki?&amp;quot;\n",
       "   </text>\n",
       "<text dur=\"1.26\" start=\"7.34\">\n",
       "    &amp;quot;Parolayı söyle&amp;quot;\n",
       "   </text>\n",
       "<text dur=\"1.62\" start=\"9.44\">\n",
       "    &amp;quot;Ya ben kim olacağım?&amp;quot;\n",
       "   </text>\n",
       "<text dur=\"0.8\" start=\"11.06\">\n",
       "    &amp;quot;Keloğlan&amp;#39;ım&amp;quot;\n",
       "   </text>\n",
       "<text dur=\"0.5\" start=\"13.38\">\n",
       "    Ey\n",
       "   </text>\n",
       "<text dur=\"3.12\" start=\"36.22\">\n",
       "    Uyan güzel aç gözünü\n",
       "   </text>\n",
       "<text dur=\"2.64\" start=\"39.38\">\n",
       "    Dinle aşıkın sözünü\n",
       "   </text>\n",
       "<text dur=\"3.12\" start=\"42.04\">\n",
       "    Vermişim  sana özümü\n",
       "   </text>\n",
       "<text dur=\"2.92\" start=\"45.24\">\n",
       "    Benim aykızım sultanım\n",
       "   </text>\n",
       "<text dur=\"0.5\" start=\"51.98\">\n",
       "    Uyan uyan...\n",
       "   </text>\n",
       "<text dur=\"3.32\" start=\"57.2\">\n",
       "    Uyan uyan uyan uyan...\n",
       "   </text>\n",
       "<text dur=\"2.94\" start=\"72.18\">\n",
       "    Vuruldum sana düşümde\n",
       "   </text>\n",
       "<text dur=\"2.76\" start=\"75.22\">\n",
       "    Hem baharım hem kışımda\n",
       "   </text>\n",
       "<text dur=\"3.16\" start=\"78.06\">\n",
       "    Bir sevda şu kel başımda\n",
       "   </text>\n",
       "<text dur=\"2.76\" start=\"81.28\">\n",
       "    Benim aykızım sultanım\n",
       "   </text>\n",
       "<text dur=\"1.16\" start=\"87.84\">\n",
       "    Uyan uyan...\n",
       "   </text>\n",
       "<text dur=\"2.78\" start=\"93.4\">\n",
       "    Uyan uyan uyan uyan...\n",
       "   </text>\n",
       "<text dur=\"2.48\" start=\"108.58\">\n",
       "    Sen sultansın ben bir kelim\n",
       "   </text>\n",
       "<text dur=\"2.82\" start=\"111.14\">\n",
       "    Bağlı ayağımla elim\n",
       "   </text>\n",
       "<text dur=\"3.22\" start=\"114\">\n",
       "    Sevdim seni durmaz dilim\n",
       "   </text>\n",
       "<text dur=\"2.74\" start=\"117.28\">\n",
       "    Benim aykızım sultanım\n",
       "   </text>\n",
       "<text dur=\"1.14\" start=\"121.22\">\n",
       "    &amp;quot;Uyan uyan&amp;quot;\n",
       "   </text>\n",
       "<text dur=\"0.76\" start=\"122.36\">\n",
       "    &amp;quot;Haydi&amp;quot;\n",
       "   </text>\n",
       "<text dur=\"0.5\" start=\"123.68\">\n",
       "    &amp;quot;Uyan&amp;quot;\n",
       "   </text>\n",
       "<text dur=\"2.28\" start=\"129.54\">\n",
       "    Uyan uyan uyan uyan...\n",
       "   </text>\n",
       "<text dur=\"1.4\" start=\"136.72\">\n",
       "    &amp;quot;Uyan uyan...&amp;quot;\n",
       "   </text>\n",
       "<text dur=\"2\" start=\"147.66\">\n",
       "    Uyan uyan uyan uyan...\n",
       "   </text>\n",
       "<text dur=\"0.5\" start=\"155.42\">\n",
       "    &amp;quot;Reynmen&amp;quot;\n",
       "   </text>\n",
       "<text dur=\"0.5\" start=\"158.34\">\n",
       "    &amp;quot;Sultan&amp;quot;\n",
       "   </text>\n",
       "<text dur=\"1.24\" start=\"165.22\">\n",
       "    &amp;quot;Uyanmıyo ya...&amp;quot;\n",
       "   </text>\n",
       "</transcript>\n",
       "</body>\n",
       "</html>"
      ]
     },
     "execution_count": 24,
     "metadata": {},
     "output_type": "execute_result"
    }
   ],
   "source": [
    "soup = BeautifulSoup(data, 'html.parser')\n",
    "soup"
   ]
  },
  {
   "cell_type": "code",
   "execution_count": 25,
   "metadata": {},
   "outputs": [],
   "source": [
    "www = soup.find_all('w')"
   ]
  },
  {
   "cell_type": "code",
   "execution_count": 45,
   "metadata": {},
   "outputs": [
    {
     "data": {
      "text/plain": [
       "[]"
      ]
     },
     "execution_count": 45,
     "metadata": {},
     "output_type": "execute_result"
    }
   ],
   "source": [
    "[w.text.strip().replace('\\n', ' ') for w in www]"
   ]
  },
  {
   "cell_type": "code",
   "execution_count": 46,
   "metadata": {},
   "outputs": [],
   "source": [
    "sss = soup.find_all('s');"
   ]
  },
  {
   "cell_type": "code",
   "execution_count": 47,
   "metadata": {},
   "outputs": [
    {
     "data": {
      "text/plain": [
       "[]"
      ]
     },
     "execution_count": 47,
     "metadata": {},
     "output_type": "execute_result"
    }
   ],
   "source": [
    "[s.text.strip().replace('\\n', ' ') for s in sss]"
   ]
  },
  {
   "cell_type": "code",
   "execution_count": null,
   "metadata": {},
   "outputs": [],
   "source": []
  },
  {
   "cell_type": "markdown",
   "metadata": {},
   "source": [
    "#### Scrapping Text"
   ]
  },
  {
   "cell_type": "code",
   "execution_count": 16,
   "metadata": {},
   "outputs": [
    {
     "name": "stdout",
     "output_type": "stream",
     "text": [
      "&quot;Sen kimsin peki?&quot;&quot;Parolayı söyle&quot;&quot;Ya ben kim olacağım?&quot;&quot;Keloğlan&#39;ım&quot;EyUyan güzel aç gözünüDinle aşıkın sözünüVermişim  sana özümüBenim aykızım sultanımUyan uyan...Uyan uyan uyan uyan...Vuruldum sana düşümdeHem baharım hem kışımdaBir sevda şu kel başımdaBenim aykızım sultanımUyan uyan...Uyan uyan uyan uyan...Sen sultansın ben bir kelimBağlı ayağımla elimSevdim seni durmaz dilimBenim aykızım sultanım&quot;Uyan uyan&quot;&quot;Haydi&quot;&quot;Uyan&quot;Uyan uyan uyan uyan...&quot;Uyan uyan...&quot;Uyan uyan uyan uyan...&quot;Reynmen&quot;&quot;Sultan&quot;&quot;Uyanmıyo ya...&quot;\n"
     ]
    }
   ],
   "source": [
    "url = \"https://www.youtube.com/api/timedtext?&v=JR7nKXxUVtM&lang=tr\"\n",
    "html = urlopen(url)\n",
    "soup = BeautifulSoup(html)\n",
    "text = soup.text\n",
    "print(text)"
   ]
  },
  {
   "cell_type": "code",
   "execution_count": null,
   "metadata": {},
   "outputs": [],
   "source": []
  },
  {
   "cell_type": "markdown",
   "metadata": {},
   "source": [
    "#### Scrapping From HTML"
   ]
  },
  {
   "cell_type": "code",
   "execution_count": 38,
   "metadata": {},
   "outputs": [
    {
     "data": {
      "text/plain": [
       "[]"
      ]
     },
     "execution_count": 38,
     "metadata": {},
     "output_type": "execute_result"
    }
   ],
   "source": [
    "url = \"https://www.youtube.com/watch?v=DKTAB8HgIwc\"\n",
    "html = urlopen(url)\n",
    "soup = BeautifulSoup(html, 'html.parser')\n",
    "#text = soup.find_all('ytd-app')\n",
    "#text2 = soup.find_all('ytd-app')\n",
    "text = soup.find_all('div', class_='cue-group style-scope ytd-transcript-body-renderer active')\n",
    "text"
   ]
  },
  {
   "cell_type": "code",
   "execution_count": null,
   "metadata": {},
   "outputs": [],
   "source": []
  },
  {
   "cell_type": "markdown",
   "metadata": {},
   "source": [
    "#### XML Concat Func"
   ]
  },
  {
   "cell_type": "code",
   "execution_count": null,
   "metadata": {},
   "outputs": [],
   "source": [
    "import os, os.path, sys\n",
    "import glob\n",
    "from xml.etree import ElementTree\n",
    "\n",
    "def run(files):\n",
    "    xml_files = glob.glob(files +\"/*.xml\")\n",
    "    xml_element_tree = None\n",
    "    for xml_file in xml_files:\n",
    "        data = ElementTree.parse(xml_file).getroot()\n",
    "        # print ElementTree.tostring(data)\n",
    "        for result in data.iter('results'):\n",
    "            if xml_element_tree is None:\n",
    "                xml_element_tree = data \n",
    "                insertion_point = xml_element_tree.findall(\"./results\")[0]\n",
    "            else:\n",
    "                insertion_point.extend(result) \n",
    "    if xml_element_tree is not None:\n",
    "        print ElementTree.tostring(xml_element_tree)"
   ]
  },
  {
   "cell_type": "code",
   "execution_count": null,
   "metadata": {},
   "outputs": [],
   "source": [
    "import os, re\n",
    "\n",
    "file = 'm384-import-11.xml'\n",
    "filenames = ['M384_0201_output.xml','M384_0202_output.xml','M384_0203_output.xml','M384_0204_output.xml','M384_0205_output.xml','M384_0206_output.xml','M384_0207_output.xml','M384_0208_output.xml','M384_0209_output.xml','M384_0210_output.xml','M384_0211_output.xml','M384_0212_output.xml','M384_0213_output.xml','M384_0214_output.xml','M384_0215_output.xml','M384_0216_output.xml','M384_0217_output.xml','M384_0218_output.xml','M384_0219_output.xml','M384_0220_output.xml']\n",
    "\n",
    "counter = 2\n",
    "outputfile = file\n",
    "\n",
    "for fname in filenames:  \t\n",
    "\tin_size = (os.stat(fname).st_size / 1000000)\n",
    "\ttry:\n",
    "\t\tout_size = (os.stat(file).st_size / 1000000)\n",
    "\texcept OSError:\n",
    "\t\tout_size = 0\n",
    "\tif (in_size + out_size) > 75:\n",
    "\t\tfile = re.split('\\.', outputfile)[0] + '_' + str(counter) + '.xml'\n",
    "\t\tcounter = counter + 1\n",
    "\twith open(file, 'a') as outfile:   \n",
    "\t\twith open(fname) as infile:\n",
    "\t\t\tfor line in infile:\n",
    "\t\t\t\toutfile.write(line)"
   ]
  },
  {
   "cell_type": "code",
   "execution_count": null,
   "metadata": {},
   "outputs": [],
   "source": []
  },
  {
   "cell_type": "markdown",
   "metadata": {},
   "source": [
    "#### Scraping YouTube with BeautifulSoup and Python3"
   ]
  },
  {
   "cell_type": "code",
   "execution_count": 39,
   "metadata": {},
   "outputs": [],
   "source": [
    "from bs4 import BeautifulSoup\n",
    "import requests\n",
    "import json"
   ]
  },
  {
   "cell_type": "code",
   "execution_count": 40,
   "metadata": {},
   "outputs": [],
   "source": [
    "youtube_url = \"https://www.youtube.com/watch?v=DKTAB8HgIwc\"\n",
    "response = requests.request(\"GET\", youtube_url)"
   ]
  },
  {
   "cell_type": "code",
   "execution_count": 41,
   "metadata": {},
   "outputs": [],
   "source": [
    "soup = BeautifulSoup(response.text, \"html.parser\")\n",
    "body = soup.find_all(\"body\")[0]\n",
    "scripts = body.find_all(\"script\")"
   ]
  },
  {
   "cell_type": "code",
   "execution_count": 42,
   "metadata": {},
   "outputs": [],
   "source": [
    "result = json.loads(scripts[0].string[30:-1])"
   ]
  },
  {
   "cell_type": "code",
   "execution_count": 43,
   "metadata": {},
   "outputs": [
    {
     "data": {
      "text/plain": [
       "dict_keys(['responseContext', 'playabilityStatus', 'streamingData', 'playerAds', 'playbackTracking', 'captions', 'videoDetails', 'annotations', 'playerConfig', 'storyboards', 'microformat', 'cards', 'trackingParams', 'attestation', 'messages', 'endscreen', 'adPlacements', 'frameworkUpdates'])"
      ]
     },
     "execution_count": 43,
     "metadata": {},
     "output_type": "execute_result"
    }
   ],
   "source": [
    "result.keys()"
   ]
  },
  {
   "cell_type": "code",
   "execution_count": 44,
   "metadata": {},
   "outputs": [
    {
     "data": {
      "text/plain": [
       "[{'itag': 18,\n",
       "  'mimeType': 'video/mp4; codecs=\"avc1.42001E, mp4a.40.2\"',\n",
       "  'bitrate': 633389,\n",
       "  'width': 640,\n",
       "  'height': 360,\n",
       "  'lastModified': '1574953504016448',\n",
       "  'contentLength': '17231351',\n",
       "  'quality': 'medium',\n",
       "  'fps': 25,\n",
       "  'qualityLabel': '360p',\n",
       "  'projectionType': 'RECTANGULAR',\n",
       "  'averageBitrate': 633252,\n",
       "  'audioQuality': 'AUDIO_QUALITY_LOW',\n",
       "  'approxDurationMs': '217687',\n",
       "  'audioSampleRate': '44100',\n",
       "  'audioChannels': 2,\n",
       "  'signatureCipher': 's=%3DcU%3DcU8DlunpZcapqD2rYhtKiw0EhxdGfzGcy3FMr1svucrAEiAnG_XKkOdhyivS5wNT05d4tB8QxPs0870QBOG037qVJOAhIgRw8JQ0qOAqOA&sp=sig&url=https://r8---sn-u0g3uxax3-pnuk.googlevideo.com/videoplayback%3Fexpire%3D1636401865%26ei%3DaC6JYYv9OceG1wKgrYHQBw%26ip%3D81.214.163.190%26id%3Do-APVAp_C8tfFu5kdgsU19aLAR_mHR4th6aPy7s46hLqaX%26itag%3D18%26source%3Dyoutube%26requiressl%3Dyes%26mh%3DyI%26mm%3D31%252C29%26mn%3Dsn-u0g3uxax3-pnuk%252Csn-nv47lnsy%26ms%3Dau%252Crdu%26mv%3Dm%26mvi%3D8%26pl%3D21%26initcwndbps%3D715000%26vprv%3D1%26mime%3Dvideo%252Fmp4%26ns%3DGG0-3m9OBNJaCM_hXz19xq8G%26gir%3Dyes%26clen%3D17231351%26ratebypass%3Dyes%26dur%3D217.687%26lmt%3D1574953504016448%26mt%3D1636379819%26fvip%3D1%26fexp%3D24001373%252C24007246%26c%3DWEB%26txp%3D5531432%26n%3DoAqHHWAOwvxoOnN9%26sparams%3Dexpire%252Cei%252Cip%252Cid%252Citag%252Csource%252Crequiressl%252Cvprv%252Cmime%252Cns%252Cgir%252Cclen%252Cratebypass%252Cdur%252Clmt%26lsparams%3Dmh%252Cmm%252Cmn%252Cms%252Cmv%252Cmvi%252Cpl%252Cinitcwndbps%26lsig%3DAG3C_xAwRQIhALaUAws_D42UaCgEt_v0dOUHXZrGzmjwU2g0UE4-27LWAiB00kLgEgrMjUyuL6NRJj6qBAaMH9XVTQND8Pmq-8LPSA%253D%253D'}]"
      ]
     },
     "execution_count": 44,
     "metadata": {},
     "output_type": "execute_result"
    }
   ],
   "source": [
    "result['streamingData'].keys()\n",
    "result['streamingData']['formats']"
   ]
  },
  {
   "cell_type": "code",
   "execution_count": 50,
   "metadata": {},
   "outputs": [
    {
     "data": {
      "text/plain": [
       "dict_keys(['playerCaptionsRenderer', 'playerCaptionsTracklistRenderer'])"
      ]
     },
     "execution_count": 50,
     "metadata": {},
     "output_type": "execute_result"
    }
   ],
   "source": [
    "result['captions'].keys()"
   ]
  },
  {
   "cell_type": "code",
   "execution_count": 49,
   "metadata": {},
   "outputs": [
    {
     "data": {
      "text/plain": [
       "{'playerCaptionsRenderer': {'baseUrl': 'https://www.youtube.com/api/timedtext?v=DKTAB8HgIwc&asr_langs=de,en,es,fr,id,it,ja,ko,nl,pt,ru,tr,vi&caps=asr&exp=xftt,xctw&xoaf=5&hl=tr&ip=0.0.0.0&ipbits=0&expire=1636405465&sparams=ip,ipbits,expire,v,asr_langs,caps,exp,xoaf&signature=02485420EBB4A28C284A08F39B87730FE3B1BDDA.CFA1010B3D0560440E4A9FF3DC2E9F6C7FA57C41&key=yt8',\n",
       "  'visibility': 'UNKNOWN'},\n",
       " 'playerCaptionsTracklistRenderer': {'captionTracks': [{'baseUrl': 'https://www.youtube.com/api/timedtext?v=DKTAB8HgIwc&asr_langs=de,en,es,fr,id,it,ja,ko,nl,pt,ru,tr,vi&caps=asr&exp=xftt,xctw&xoaf=5&hl=tr&ip=0.0.0.0&ipbits=0&expire=1636405465&sparams=ip,ipbits,expire,v,asr_langs,caps,exp,xoaf&signature=1B7A298DDC0B9A6DC0ADC2F33E897E573231BE79.BFFB025AF13B67043D80662729AF602E7B95B703&key=yt8&lang=tr',\n",
       "    'name': {'simpleText': 'Türkçe'},\n",
       "    'vssId': '.tr',\n",
       "    'languageCode': 'tr',\n",
       "    'isTranslatable': True}],\n",
       "  'audioTracks': [{'captionTrackIndices': [0],\n",
       "    'defaultCaptionTrackIndex': 0,\n",
       "    'visibility': 'UNKNOWN',\n",
       "    'hasDefaultTrack': True,\n",
       "    'captionsInitialState': 'CAPTIONS_INITIAL_STATE_OFF_RECOMMENDED'}],\n",
       "  'translationLanguages': [{'languageCode': 'af',\n",
       "    'languageName': {'simpleText': 'Afrikaanca'}},\n",
       "   {'languageCode': 'de', 'languageName': {'simpleText': 'Almanca'}},\n",
       "   {'languageCode': 'am', 'languageName': {'simpleText': 'Amharca'}},\n",
       "   {'languageCode': 'ar', 'languageName': {'simpleText': 'Arapça'}},\n",
       "   {'languageCode': 'sq', 'languageName': {'simpleText': 'Arnavutça'}},\n",
       "   {'languageCode': 'az', 'languageName': {'simpleText': 'Azerbaycan Dili'}},\n",
       "   {'languageCode': 'eu', 'languageName': {'simpleText': 'Baskça'}},\n",
       "   {'languageCode': 'fy', 'languageName': {'simpleText': 'Batı Frizcesi'}},\n",
       "   {'languageCode': 'be', 'languageName': {'simpleText': 'Belarusça'}},\n",
       "   {'languageCode': 'bn', 'languageName': {'simpleText': 'Bengalce'}},\n",
       "   {'languageCode': 'my', 'languageName': {'simpleText': 'Birman Dili'}},\n",
       "   {'languageCode': 'bs', 'languageName': {'simpleText': 'Boşnakça'}},\n",
       "   {'languageCode': 'bg', 'languageName': {'simpleText': 'Bulgarca'}},\n",
       "   {'languageCode': 'jv', 'languageName': {'simpleText': 'Cava Dili'}},\n",
       "   {'languageCode': 'cs', 'languageName': {'simpleText': 'Çekçe'}},\n",
       "   {'languageCode': 'zh-Hans',\n",
       "    'languageName': {'simpleText': 'Çince (Basitleştirilmiş)'}},\n",
       "   {'languageCode': 'zh-Hant',\n",
       "    'languageName': {'simpleText': 'Çince (Geleneksel)'}},\n",
       "   {'languageCode': 'da', 'languageName': {'simpleText': 'Danca'}},\n",
       "   {'languageCode': 'id', 'languageName': {'simpleText': 'Endonezce'}},\n",
       "   {'languageCode': 'hy', 'languageName': {'simpleText': 'Ermenice'}},\n",
       "   {'languageCode': 'eo', 'languageName': {'simpleText': 'Esperanto'}},\n",
       "   {'languageCode': 'et', 'languageName': {'simpleText': 'Estonca'}},\n",
       "   {'languageCode': 'fa', 'languageName': {'simpleText': 'Farsça'}},\n",
       "   {'languageCode': 'nl', 'languageName': {'simpleText': 'Felemenkçe'}},\n",
       "   {'languageCode': 'fil', 'languageName': {'simpleText': 'Filipince'}},\n",
       "   {'languageCode': 'fi', 'languageName': {'simpleText': 'Fince'}},\n",
       "   {'languageCode': 'fr', 'languageName': {'simpleText': 'Fransızca'}},\n",
       "   {'languageCode': 'cy', 'languageName': {'simpleText': 'Galce'}},\n",
       "   {'languageCode': 'gl', 'languageName': {'simpleText': 'Galiçyaca'}},\n",
       "   {'languageCode': 'gu', 'languageName': {'simpleText': 'Güceratça'}},\n",
       "   {'languageCode': 'st', 'languageName': {'simpleText': 'Güney Sotho Dili'}},\n",
       "   {'languageCode': 'ka', 'languageName': {'simpleText': 'Gürcüce'}},\n",
       "   {'languageCode': 'ht', 'languageName': {'simpleText': 'Haiti Kreyolu'}},\n",
       "   {'languageCode': 'ha', 'languageName': {'simpleText': 'Hausa Dili'}},\n",
       "   {'languageCode': 'haw', 'languageName': {'simpleText': 'Hawaii Dili'}},\n",
       "   {'languageCode': 'hr', 'languageName': {'simpleText': 'Hırvatça'}},\n",
       "   {'languageCode': 'hi', 'languageName': {'simpleText': 'Hintçe'}},\n",
       "   {'languageCode': 'hmn', 'languageName': {'simpleText': 'Hmong'}},\n",
       "   {'languageCode': 'ig', 'languageName': {'simpleText': 'İbo Dili'}},\n",
       "   {'languageCode': 'iw', 'languageName': {'simpleText': 'İbranice'}},\n",
       "   {'languageCode': 'en', 'languageName': {'simpleText': 'İngilizce'}},\n",
       "   {'languageCode': 'ga', 'languageName': {'simpleText': 'İrlandaca'}},\n",
       "   {'languageCode': 'gd', 'languageName': {'simpleText': 'İskoç Gaelcesi'}},\n",
       "   {'languageCode': 'es', 'languageName': {'simpleText': 'İspanyolca'}},\n",
       "   {'languageCode': 'sv', 'languageName': {'simpleText': 'İsveççe'}},\n",
       "   {'languageCode': 'it', 'languageName': {'simpleText': 'İtalyanca'}},\n",
       "   {'languageCode': 'is', 'languageName': {'simpleText': 'İzlandaca'}},\n",
       "   {'languageCode': 'ja', 'languageName': {'simpleText': 'Japonca'}},\n",
       "   {'languageCode': 'kn', 'languageName': {'simpleText': 'Kannada Dili'}},\n",
       "   {'languageCode': 'ca', 'languageName': {'simpleText': 'Katalanca'}},\n",
       "   {'languageCode': 'kk', 'languageName': {'simpleText': 'Kazakça'}},\n",
       "   {'languageCode': 'km', 'languageName': {'simpleText': 'Khmer Dili'}},\n",
       "   {'languageCode': 'ky', 'languageName': {'simpleText': 'Kırgızca'}},\n",
       "   {'languageCode': 'rw', 'languageName': {'simpleText': 'Kinyarwanda'}},\n",
       "   {'languageCode': 'ko', 'languageName': {'simpleText': 'Korece'}},\n",
       "   {'languageCode': 'co', 'languageName': {'simpleText': 'Korsikaca'}},\n",
       "   {'languageCode': 'ku', 'languageName': {'simpleText': 'Kürtçe'}},\n",
       "   {'languageCode': 'lo', 'languageName': {'simpleText': 'Lao Dili'}},\n",
       "   {'languageCode': 'la', 'languageName': {'simpleText': 'Latince'}},\n",
       "   {'languageCode': 'pl', 'languageName': {'simpleText': 'Lehçe'}},\n",
       "   {'languageCode': 'lv', 'languageName': {'simpleText': 'Letonca'}},\n",
       "   {'languageCode': 'lt', 'languageName': {'simpleText': 'Litvanca'}},\n",
       "   {'languageCode': 'lb', 'languageName': {'simpleText': 'Lüksemburgca'}},\n",
       "   {'languageCode': 'hu', 'languageName': {'simpleText': 'Macarca'}},\n",
       "   {'languageCode': 'mk', 'languageName': {'simpleText': 'Makedonca'}},\n",
       "   {'languageCode': 'ml', 'languageName': {'simpleText': 'Malayalam Dili'}},\n",
       "   {'languageCode': 'ms', 'languageName': {'simpleText': 'Malayca'}},\n",
       "   {'languageCode': 'mg', 'languageName': {'simpleText': 'Malgaşça'}},\n",
       "   {'languageCode': 'mt', 'languageName': {'simpleText': 'Maltaca'}},\n",
       "   {'languageCode': 'mi', 'languageName': {'simpleText': 'Maori Dili'}},\n",
       "   {'languageCode': 'mr', 'languageName': {'simpleText': 'Marathi Dili'}},\n",
       "   {'languageCode': 'mn', 'languageName': {'simpleText': 'Moğolca'}},\n",
       "   {'languageCode': 'ne', 'languageName': {'simpleText': 'Nepalce'}},\n",
       "   {'languageCode': 'no', 'languageName': {'simpleText': 'Norveççe'}},\n",
       "   {'languageCode': 'ny', 'languageName': {'simpleText': 'Nyanja'}},\n",
       "   {'languageCode': 'or', 'languageName': {'simpleText': 'Oriya Dili'}},\n",
       "   {'languageCode': 'uz', 'languageName': {'simpleText': 'Özbekçe'}},\n",
       "   {'languageCode': 'pa', 'languageName': {'simpleText': 'Pencapça'}},\n",
       "   {'languageCode': 'ps', 'languageName': {'simpleText': 'Peştuca'}},\n",
       "   {'languageCode': 'pt', 'languageName': {'simpleText': 'Portekizce'}},\n",
       "   {'languageCode': 'ro', 'languageName': {'simpleText': 'Rumence'}},\n",
       "   {'languageCode': 'ru', 'languageName': {'simpleText': 'Rusça'}},\n",
       "   {'languageCode': 'sm', 'languageName': {'simpleText': 'Samoa Dili'}},\n",
       "   {'languageCode': 'ceb', 'languageName': {'simpleText': 'Sebuano Dili'}},\n",
       "   {'languageCode': 'sr', 'languageName': {'simpleText': 'Sırpça'}},\n",
       "   {'languageCode': 'sd', 'languageName': {'simpleText': 'Sindhi Dili'}},\n",
       "   {'languageCode': 'si', 'languageName': {'simpleText': 'Sinhali Dili'}},\n",
       "   {'languageCode': 'sk', 'languageName': {'simpleText': 'Slovakça'}},\n",
       "   {'languageCode': 'sl', 'languageName': {'simpleText': 'Slovence'}},\n",
       "   {'languageCode': 'so', 'languageName': {'simpleText': 'Somalice'}},\n",
       "   {'languageCode': 'su', 'languageName': {'simpleText': 'Sunda Dili'}},\n",
       "   {'languageCode': 'sw', 'languageName': {'simpleText': 'Svahili Dili'}},\n",
       "   {'languageCode': 'sn', 'languageName': {'simpleText': 'Şona Dili'}},\n",
       "   {'languageCode': 'tg', 'languageName': {'simpleText': 'Tacikçe'}},\n",
       "   {'languageCode': 'ta', 'languageName': {'simpleText': 'Tamilce'}},\n",
       "   {'languageCode': 'tt', 'languageName': {'simpleText': 'Tatarca'}},\n",
       "   {'languageCode': 'th', 'languageName': {'simpleText': 'Tayca'}},\n",
       "   {'languageCode': 'te', 'languageName': {'simpleText': 'Telugu Dili'}},\n",
       "   {'languageCode': 'tr', 'languageName': {'simpleText': 'Türkçe'}},\n",
       "   {'languageCode': 'tk', 'languageName': {'simpleText': 'Türkmence'}},\n",
       "   {'languageCode': 'uk', 'languageName': {'simpleText': 'Ukraynaca'}},\n",
       "   {'languageCode': 'ur', 'languageName': {'simpleText': 'Urduca'}},\n",
       "   {'languageCode': 'ug', 'languageName': {'simpleText': 'Uygurca'}},\n",
       "   {'languageCode': 'vi', 'languageName': {'simpleText': 'Vietnamca'}},\n",
       "   {'languageCode': 'yi', 'languageName': {'simpleText': 'Yidiş'}},\n",
       "   {'languageCode': 'yo', 'languageName': {'simpleText': 'Yorubaca'}},\n",
       "   {'languageCode': 'el', 'languageName': {'simpleText': 'Yunanca'}},\n",
       "   {'languageCode': 'xh', 'languageName': {'simpleText': 'Zosa Dili'}},\n",
       "   {'languageCode': 'zu', 'languageName': {'simpleText': 'Zuluca'}}],\n",
       "  'defaultAudioTrackIndex': 0}}"
      ]
     },
     "execution_count": 49,
     "metadata": {},
     "output_type": "execute_result"
    }
   ],
   "source": [
    "result['captions']"
   ]
  },
  {
   "cell_type": "code",
   "execution_count": null,
   "metadata": {},
   "outputs": [],
   "source": [
    "from bs4 import BeautifulSoup\n",
    "import requests\n",
    "import json\n",
    " \n",
    "youtube_url = \"https://www.youtube.com/watch?v=ZYxLt1-waik\"\n",
    "response = requests.request(\"GET\", youtube_url)\n",
    "soup = BeautifulSoup(response.text, \"html.parser\")\n",
    "body = soup.find_all(\"body\")[0]\n",
    "scripts = body.find_all(\"script\")\n",
    " \n",
    "result = json.loads(scripts[0].string[30:-1])\n",
    " \n",
    "print(result['streamingData']['formats'][0]['itag'])\n",
    "print(result['streamingData']['formats'][0]['url'])\n",
    "print(result['streamingData']['formats'][0]['width'])\n",
    "print(result['streamingData']['formats'][0]['height'])"
   ]
  },
  {
   "cell_type": "code",
   "execution_count": null,
   "metadata": {},
   "outputs": [],
   "source": []
  },
  {
   "cell_type": "markdown",
   "metadata": {},
   "source": [
    "#### ElementTree"
   ]
  },
  {
   "cell_type": "code",
   "execution_count": 5,
   "metadata": {},
   "outputs": [
    {
     "name": "stdout",
     "output_type": "stream",
     "text": [
      "document\n",
      "{'id': '2'}\n"
     ]
    }
   ],
   "source": [
    "import xml.etree.ElementTree as ET \n",
    "mytree = ET.parse('Sample.xml')\n",
    "myroot = mytree.getroot()\n",
    "print(myroot.tag)\n",
    "print(myroot[1].attrib)"
   ]
  },
  {
   "cell_type": "markdown",
   "metadata": {},
   "source": [
    "#### XML To DataFrame"
   ]
  },
  {
   "cell_type": "code",
   "execution_count": 8,
   "metadata": {},
   "outputs": [],
   "source": [
    "xtree = ET.parse(\"Sample.xml\")\n",
    "xroot = xtree.getroot()"
   ]
  },
  {
   "cell_type": "code",
   "execution_count": null,
   "metadata": {},
   "outputs": [],
   "source": [
    "#for node in xroot: \n",
    "#    s_name = node.attrib.get(\"name\")\n",
    "#    s_mail = node.find(\"email\").text\n",
    "#    s_grade = node.find(\"grade\").text\n",
    "#    s_age = node.find(\"age\").text"
   ]
  },
  {
   "cell_type": "code",
   "execution_count": null,
   "metadata": {},
   "outputs": [],
   "source": [
    "for node in xroot: \n",
    "    id = node.attrib.get(\"id\")\n",
    "    value = node.find(\"value\")"
   ]
  },
  {
   "cell_type": "code",
   "execution_count": 11,
   "metadata": {},
   "outputs": [],
   "source": [
    "import pandas as pd \n",
    "import xml.etree.ElementTree as et \n",
    "\n",
    "xtree = et.parse(\"Sample.xml\")\n",
    "xroot = xtree.getroot() \n",
    "\n",
    "df_cols = [\"id\", \"value\"]\n",
    "rows = []\n",
    "\n",
    "for node in xroot: \n",
    "    id = node.attrib.get(\"id\")\n",
    "    value = node.find(\"value\") # if node is not None else None \n",
    "    \n",
    "    rows.append({\"id\": id, \"value\": value})\n",
    "\n",
    "out_df = pd.DataFrame(rows, columns = df_cols)"
   ]
  },
  {
   "cell_type": "code",
   "execution_count": 12,
   "metadata": {},
   "outputs": [
    {
     "data": {
      "text/html": [
       "<div>\n",
       "<style scoped>\n",
       "    .dataframe tbody tr th:only-of-type {\n",
       "        vertical-align: middle;\n",
       "    }\n",
       "\n",
       "    .dataframe tbody tr th {\n",
       "        vertical-align: top;\n",
       "    }\n",
       "\n",
       "    .dataframe thead th {\n",
       "        text-align: right;\n",
       "    }\n",
       "</style>\n",
       "<table border=\"1\" class=\"dataframe\">\n",
       "  <thead>\n",
       "    <tr style=\"text-align: right;\">\n",
       "      <th></th>\n",
       "      <th>id</th>\n",
       "      <th>value</th>\n",
       "    </tr>\n",
       "  </thead>\n",
       "  <tbody>\n",
       "    <tr>\n",
       "      <th>0</th>\n",
       "      <td>1</td>\n",
       "      <td>None</td>\n",
       "    </tr>\n",
       "    <tr>\n",
       "      <th>1</th>\n",
       "      <td>2</td>\n",
       "      <td>None</td>\n",
       "    </tr>\n",
       "    <tr>\n",
       "      <th>2</th>\n",
       "      <td>3</td>\n",
       "      <td>None</td>\n",
       "    </tr>\n",
       "    <tr>\n",
       "      <th>3</th>\n",
       "      <td>4</td>\n",
       "      <td>None</td>\n",
       "    </tr>\n",
       "    <tr>\n",
       "      <th>4</th>\n",
       "      <td>5</td>\n",
       "      <td>None</td>\n",
       "    </tr>\n",
       "    <tr>\n",
       "      <th>...</th>\n",
       "      <td>...</td>\n",
       "      <td>...</td>\n",
       "    </tr>\n",
       "    <tr>\n",
       "      <th>2198</th>\n",
       "      <td>2199</td>\n",
       "      <td>None</td>\n",
       "    </tr>\n",
       "    <tr>\n",
       "      <th>2199</th>\n",
       "      <td>2200</td>\n",
       "      <td>None</td>\n",
       "    </tr>\n",
       "    <tr>\n",
       "      <th>2200</th>\n",
       "      <td>2201</td>\n",
       "      <td>None</td>\n",
       "    </tr>\n",
       "    <tr>\n",
       "      <th>2201</th>\n",
       "      <td>2202</td>\n",
       "      <td>None</td>\n",
       "    </tr>\n",
       "    <tr>\n",
       "      <th>2202</th>\n",
       "      <td>None</td>\n",
       "      <td>None</td>\n",
       "    </tr>\n",
       "  </tbody>\n",
       "</table>\n",
       "<p>2203 rows × 2 columns</p>\n",
       "</div>"
      ],
      "text/plain": [
       "        id value\n",
       "0        1  None\n",
       "1        2  None\n",
       "2        3  None\n",
       "3        4  None\n",
       "4        5  None\n",
       "...    ...   ...\n",
       "2198  2199  None\n",
       "2199  2200  None\n",
       "2200  2201  None\n",
       "2201  2202  None\n",
       "2202  None  None\n",
       "\n",
       "[2203 rows x 2 columns]"
      ]
     },
     "execution_count": 12,
     "metadata": {},
     "output_type": "execute_result"
    }
   ],
   "source": [
    "out_df"
   ]
  },
  {
   "cell_type": "markdown",
   "metadata": {},
   "source": [
    "#### Pytube"
   ]
  },
  {
   "cell_type": "code",
   "execution_count": 13,
   "metadata": {},
   "outputs": [],
   "source": [
    "from pytube import YouTube"
   ]
  },
  {
   "cell_type": "code",
   "execution_count": 14,
   "metadata": {},
   "outputs": [],
   "source": [
    "url = 'https://www.youtube.com/watch?v=DKTAB8HgIwc'\n",
    "video_src = YouTube(url)"
   ]
  },
  {
   "cell_type": "code",
   "execution_count": 15,
   "metadata": {},
   "outputs": [
    {
     "name": "stdout",
     "output_type": "stream",
     "text": [
      "All Avaible Captions : \n",
      " {'tr': <Caption lang=\"Turkish\" code=\"tr\">}\n"
     ]
    }
   ],
   "source": [
    "print(\"All Avaible Captions : \\n\",video_src.captions)"
   ]
  },
  {
   "cell_type": "code",
   "execution_count": 19,
   "metadata": {},
   "outputs": [
    {
     "name": "stdout",
     "output_type": "stream",
     "text": [
      "<?xml version=\"1.0\" encoding=\"utf-8\" ?><timedtext format=\"3\">\n",
      "<body>\n",
      "<p t=\"0\" d=\"19300\">(Gitar intro çalıyor)</p>\n",
      "<p t=\"19360\" d=\"19200\">(Orkestra da müziğe dahil oluyor)</p>\n",
      "<p t=\"38600\" d=\"4660\">Dam başında sarı çiçek oy oy</p>\n",
      "<p t=\"43380\" d=\"4700\">Dam başında sarı çiçek oy oy</p>\n",
      "<p t=\"48140\" d=\"4800\">Burdan kalkıp Ürgüp&#39;e göçek\n",
      "Nenni de Feride&#39;m</p>\n",
      "<p t=\"52980\" d=\"4720\">Burdan kalkıp Ürgüp&#39;e göçek\n",
      "Nenni de Feride&#39;m</p>\n",
      "<p t=\"57760\" d=\"4680\">Ürgüp&#39;e vardığımız gece oy oy</p>\n",
      "<p t=\"62580\" d=\"4640\">Ürgüp&#39;e vardığımız gece oy oy</p>\n",
      "<p t=\"67220\" d=\"4900\">Hak yoluna kurban kesek\n",
      "Nenni de Feride&#39;m</p>\n",
      "<p t=\"72160\" d=\"4720\">Hak yoluna kurban kesek\n",
      "Nenni de Feride&#39;m</p>\n",
      "<p t=\"76940\" d=\"4780\">Hak yoluna kurban kesek\n",
      "Nenni de Feride&#39;m</p>\n",
      "<p t=\"81920\" d=\"4480\">Hak yoluna kurban kesek\n",
      "Nenni de Feride&#39;m</p>\n",
      "<p t=\"86400\" d=\"28800\">(Orkestra / Akustik gitar ve Saxophone melodi çalıyor)</p>\n",
      "<p t=\"115360\" d=\"4320\">Gidiyorum işte gör oy oy</p>\n",
      "<p t=\"120080\" d=\"4520\">Gidiyorum işte gör oy oy</p>\n",
      "<p t=\"124920\" d=\"4560\">Hayalde gör düşte gör\n",
      "Nenni de Feride&#39;m</p>\n",
      "<p t=\"129640\" d=\"4560\">Hayalde gör düşte gör\n",
      "Nenni de Feride&#39;m</p>\n",
      "<p t=\"134440\" d=\"4480\">Gıymatımı (kıymetimi) bilmedin oy oy</p>\n",
      "<p t=\"139200\" d=\"4740\">Gıymatımı (kıymetimi) bilmedin oy oy</p>\n",
      "<p t=\"144120\" d=\"4580\">Bir kötüye düş de gör\n",
      "Nenni de Feride&#39;m</p>\n",
      "<p t=\"148920\" d=\"4660\">Bir kötüye düş de gör\n",
      "Nenni de Feride&#39;m</p>\n",
      "<p t=\"153740\" d=\"4660\">Bir kötüye düş de gör\n",
      "Nenni de Feride&#39;m</p>\n",
      "<p t=\"158540\" d=\"4660\">Bir kötüye düş de gör\n",
      "Nenni de Feride&#39;m</p>\n",
      "<p t=\"163360\" d=\"18980\">Percussion (Djembe) Emprovize</p>\n",
      "<p t=\"182560\" d=\"26380\">(Orkestra / Akustik gitar ve Saxophone melodi çalıyor)\n",
      "(outro)</p>\n",
      "<p t=\"208940\" d=\"8660\">Nenni de Feride&#39;m\n",
      "Islık...</p>\n",
      "</body>\n",
      "</timedtext>\n",
      "\n"
     ]
    }
   ],
   "source": [
    "tr_caption_data = video_src.captions['tr']\n",
    "print(tr_caption_data.xml_captions)"
   ]
  },
  {
   "cell_type": "code",
   "execution_count": null,
   "metadata": {},
   "outputs": [],
   "source": []
  },
  {
   "cell_type": "code",
   "execution_count": 10,
   "metadata": {},
   "outputs": [],
   "source": [
    "import pandas as pd \n",
    "import xml.etree.ElementTree as et \n",
    "\n",
    "xtree = et.parse(\"text.xml\")\n",
    "xroot = xtree.getroot() \n",
    "\n",
    "df_cols = [\"t\", \"d\", \"value\"]\n",
    "rows = []\n",
    "\n",
    "for node in xroot: \n",
    "    t = node.attrib.get(\"t\")\n",
    "    d = node.attrib.get(\"d\")\n",
    "    value = node.findtext('p') # if node is not None else None \n",
    "    \n",
    "    rows.append({\"t\": t, \"d\": d, \"value\": value})\n",
    "\n",
    "out_df = pd.DataFrame(rows, columns = df_cols)"
   ]
  },
  {
   "cell_type": "markdown",
   "metadata": {},
   "source": [
    "#### YTTC Download"
   ]
  },
  {
   "cell_type": "code",
   "execution_count": null,
   "metadata": {},
   "outputs": [],
   "source": [
    "from ytcc.download import Download"
   ]
  },
  {
   "cell_type": "code",
   "execution_count": null,
   "metadata": {},
   "outputs": [],
   "source": [
    "video_id = 'jNQXAC9IVRw'\n",
    "download = Download()\n",
    "# Language is optional and default to \"en\"\n",
    "# YouTube uses \"en\",\"fr\" not \"en-US\", \"fr-FR\"\n",
    "captions = download.get_captions(video_id, 'en')"
   ]
  },
  {
   "cell_type": "code",
   "execution_count": null,
   "metadata": {},
   "outputs": [],
   "source": []
  }
 ],
 "metadata": {
  "interpreter": {
   "hash": "651d507d70892fab0fc6529d935cd476f6e2eb1791525b76da6cc8da34bc0503"
  },
  "kernelspec": {
   "display_name": "Python 3.9.5 64-bit ('py39': conda)",
   "name": "python3"
  },
  "language_info": {
   "codemirror_mode": {
    "name": "ipython",
    "version": 3
   },
   "file_extension": ".py",
   "mimetype": "text/x-python",
   "name": "python",
   "nbconvert_exporter": "python",
   "pygments_lexer": "ipython3",
   "version": "3.9.5"
  },
  "orig_nbformat": 4
 },
 "nbformat": 4,
 "nbformat_minor": 2
}
