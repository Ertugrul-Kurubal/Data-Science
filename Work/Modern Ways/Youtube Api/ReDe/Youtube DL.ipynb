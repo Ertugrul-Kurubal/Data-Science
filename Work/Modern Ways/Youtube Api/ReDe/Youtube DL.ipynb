{
 "cells": [
  {
   "cell_type": "code",
   "execution_count": null,
   "metadata": {},
   "outputs": [],
   "source": [
    "#!pip install youtube-dl"
   ]
  },
  {
   "cell_type": "code",
   "execution_count": 37,
   "metadata": {},
   "outputs": [],
   "source": [
    "import pandas as pd\n",
    "import numpy as np\n",
    "import re\n",
    "import youtube_dl"
   ]
  },
  {
   "cell_type": "code",
   "execution_count": 51,
   "metadata": {},
   "outputs": [
    {
     "name": "stdout",
     "output_type": "stream",
     "text": [
      "[youtube] Fu9OTkHtmrw: Downloading webpage\n"
     ]
    },
    {
     "name": "stderr",
     "output_type": "stream",
     "text": [
      "WARNING: tr subtitles not available for Fu9OTkHtmrw\n"
     ]
    }
   ],
   "source": [
    "ydl_opts = {'subtitleslangs':['tr'],'writesubtitles':True,'skip_download':True, 'outtmpl':f'subt'}\n",
    "var_out = youtube_dl.YoutubeDL(ydl_opts).download([f\"https://www.youtube.com/watch?v=Fu9OTkHtmrw\"])"
   ]
  },
  {
   "cell_type": "code",
   "execution_count": 52,
   "metadata": {},
   "outputs": [
    {
     "name": "stdout",
     "output_type": "stream",
     "text": [
      "[youtube] WdX1_wNUj0E: Downloading webpage\n",
      "[info] Writing video subtitles to: subt0.tr.vtt\n",
      "[youtube] Fu9OTkHtmrw: Downloading webpage\n"
     ]
    },
    {
     "name": "stderr",
     "output_type": "stream",
     "text": [
      "WARNING: tr subtitles not available for Fu9OTkHtmrw\n"
     ]
    },
    {
     "name": "stdout",
     "output_type": "stream",
     "text": [
      "[youtube] DKTAB8HgIwc: Downloading webpage\n",
      "[info] Writing video subtitles to: subt2.tr.vtt\n",
      "[\"WEBVTT\\nKind: captions\\nLanguage: tr\\n\\n00:00:01.056 --> 00:00:04.244\\nBu videoda Darıca ve Adalar arasında dalış\\n\\n00:00:04.534 --> 00:00:06.420\\nküçük balıkların değişimi\\n\\n00:00:06.808 --> 00:00:08.780\\nilk defa göreceğiniz detaylar\\n\\n00:00:10.388 --> 00:00:12.388\\nve balık avı izleyeceksiniz\\n\\n00:00:17.600 --> 00:00:18.682\\nDarıca\\n\\n00:00:22.730 --> 00:00:25.689\\nİstanbul'a yakın Kocaeli'nin bir ilçesi\\n\\n00:00:27.887 --> 00:00:30.714\\nbeş metrelik kumluk bir alana dalış yapıyorum\\n\\n00:00:44.779 --> 00:00:49.652\\nbiraz ilerlediğinde uzun ağzıyla kumu eşeleyen büyük bir vatoz\\n\\n00:00:54.205 --> 00:00:57.265\\nMarmara'da pek rastlanılmayan Kartal Vatozu\\n\\n00:00:57.632 --> 00:00:59.673\\ndiğer adıyla Fulya Balığı\\n\\n00:01:03.447 --> 00:01:07.730\\nuzun kuyruk ve ağız yapısı ile kolayca ayırt edilebilir\\n\\n00:01:11.641 --> 00:01:14.717\\nbu tür daha çok okyanuslarda ve Akdeniz'de görülür\\n\\n00:01:19.467 --> 00:01:23.250\\nMarmara'ya kadar gelen bu tür insanlar için zararsızdır\\n\\n00:01:31.469 --> 00:01:32.638\\nDeniz hıyarı\\n\\n00:01:34.836 --> 00:01:37.772\\nbu ise Marmara'da gördüğümüz yıldızlardan farklı\\n\\n00:01:38.008 --> 00:01:40.312\\nastropecten türü bir denizyıldızı\\n\\n00:01:52.238 --> 00:01:54.028\\ndev midiye planın dibindeki\\n\\n00:01:54.029 --> 00:01:57.947\\ngenelde gördüğümüz denizyıldızı türü Asterias rubens\\n\\n00:02:00.945 --> 00:02:01.963\\nküçük pinna\\n\\n00:02:06.178 --> 00:02:07.137\\nAnemon\\n\\n00:02:09.569 --> 00:02:11.141\\nkestane ve midyeler\\n\\n00:02:16.500 --> 00:02:17.580\\nMarmara'da \\n\\n00:02:17.580 --> 00:02:20.812\\nburada olduğu gibi güneş gören bazı bölgelerde de\\n\\n00:02:20.910 --> 00:02:23.134\\ndeniz çayırları ile karşılaşıyorum\\n\\n00:02:35.453 --> 00:02:38.697\\nbu küçük iki balıkta eşkina yavrusu\\n\\n00:02:45.678 --> 00:02:50.134\\nboyutlarda olanlar genellikle deniz marulların arasında yaşıyor\\n\\n00:03:02.508 --> 00:03:08.009\\neşkiyaların daha küçük hali ve büyükleri birbirinden çok farklı\\n\\n00:03:15.640 --> 00:03:18.320\\nfarklılık birçok tür için geçerli\\n\\n00:03:19.571 --> 00:03:22.088\\nbu yeşil balıkta kikla yavrusu\\n\\n00:03:26.379 --> 00:03:27.826\\nyazılı hani yavrusu\\n\\n00:03:35.717 --> 00:03:38.220\\nsaklandığını sanan lapin\\n\\n00:03:44.146 --> 00:03:46.745\\ngemilerin balast suyu ile sularımıza gelen\\n\\n00:03:46.745 --> 00:03:50.095\\nhamsi kırıklığına sebep olan Mnemiopsis leidyi\\n\\n00:03:50.355 --> 00:03:52.355\\ndiğer adıyla deniz cevizi\\n\\n00:03:53.608 --> 00:03:55.847\\nyine aynı yollardan sonradan gelen\\n\\n00:03:56.119 --> 00:03:57.904\\nBeroe ovata denizanası\\n\\n00:03:59.337 --> 00:04:02.392\\ndeniz cevizlerini yutarak hapsediyor\\n\\n00:04:06.120 --> 00:04:08.698\\nardından parçalayarak sindiriyor\\n\\n00:04:09.367 --> 00:04:12.121\\ndenizanalarının beyni ve gözleri yoktur\\n\\n00:04:13.008 --> 00:04:17.708\\nfakat beroe ovatalar mnemiopsis'leri bularak dengeyi sağlıyor\\n\\n00:04:22.492 --> 00:04:25.669\\nbu ikili arasındaki besin zinciri sayesinde\\n\\n00:04:25.755 --> 00:04:28.780\\nküçük balık popülasyonu tekrar dengelendi\\n\\n00:04:41.590 --> 00:04:44.222\\n15 metrede batmış bir tekne\\n\\n00:04:56.738 --> 00:04:59.447\\n8 metre de beton bloklar\\n\\n00:05:11.140 --> 00:05:15.267\\ndevam eden boru hattını destekleyen bu betonların aralarında\\n\\n00:05:15.268 --> 00:05:16.492\\nkikla'lar var\\n\\n00:05:25.525 --> 00:05:27.711\\nilerledikçe derinlik arttığı için\\n\\n00:05:27.711 --> 00:05:31.523\\nyukarı çıkacağım anda iri bir kikla'ya atış yapıyorum\\n\\n00:05:39.934 --> 00:05:44.295\\nküçüğü tamamen yeşil olan kikla'nın avlanabilir boydaki hali\\n\\n00:05:56.070 --> 00:05:56.958\\nPendik\\n\\n00:06:00.180 --> 00:06:04.909\\naşağı indiğimde 10. saniyede gördüğüm balığı atış yapıyorum\\n\\n00:06:22.788 --> 00:06:25.899\\nsessizce yosunların arasında inip gizlenmek\\n\\n00:06:26.050 --> 00:06:29.058\\nbalığı ürkütmeden atış fırsatı veriyor\\n\\n00:06:36.000 --> 00:06:38.658\\nkiloya yakın Baltabaş Karagöz\\n\\n00:06:46.740 --> 00:06:51.613\\nDiplodus sargus Akdeniz Bölgesi'nde Sargoz olarak da bilinir\\n\\n00:07:09.449 --> 00:07:13.562\\ntekrar saklanarak bekliyorum bu kez Kefaller geçiyor\\n\\n00:07:26.609 --> 00:07:29.320\\ndaha derine inip çağrı yapıyorum\\n\\n00:07:31.810 --> 00:07:33.621\\ngelen Mırmır sürüsü\\n\\n00:08:23.722 --> 00:08:27.621\\nagaşonda ses çıkartarak balıkları çekmeye çalışıyorum\\n\\n00:08:37.262 --> 00:08:41.104\\nbir dakika sonra balık göremeyince ilerliyorum\\n\\n00:08:42.871 --> 00:08:46.292\\nyükseleceğim anda Karagöz sürüsü geliyor\\n\\n00:09:04.014 --> 00:09:05.018\\nıska\\n\\n00:09:09.740 --> 00:09:12.924\\ntekrar beklerken bu kez soldan geldiler\\n\\n00:09:21.144 --> 00:09:23.015\\nve isabetli atış\\n\\n00:09:40.139 --> 00:09:42.879\\niri bir Sivriburun Karagöz\\n\\n00:09:52.570 --> 00:09:56.098\\nAdalar bölgesinde Büyük Ada'nın güneyindeki\\n\\n00:09:56.227 --> 00:09:58.534\\n Tavşan Adası'na dalış yapıyoruz\\n\\n00:10:01.300 --> 00:10:05.734\\nadanın güney batısı 10 metreden 40 metreye derinleşiyor\\n\\n00:10:09.623 --> 00:10:13.558\\nkayaların arasında küçük sargozlar ve kiklalar var\\n\\n00:10:23.296 --> 00:10:24.540\\niri bir kikla\\n\\n00:10:33.525 --> 00:10:37.546\\nen çok karşılaşılan vatoz türlerinden dikenli vatoz\\n\\n00:10:40.300 --> 00:10:43.679\\nkayaların üzerinde büyük deniz süngeri\\n\\n00:10:50.519 --> 00:10:53.794\\nbirçok boyutta ve renkte süngerler\\n\\n00:11:02.938 --> 00:11:04.575\\nDişi Karabaş balığı\\n\\n00:11:17.310 --> 00:11:22.044\\nBurada da aynı şekilde Deniz cevizi ve Beroe ovatalar\\n\\n00:11:22.044 --> 00:11:24.044\\nyüze yakın bolca bulunuyor\\n\\n00:11:39.462 --> 00:11:43.313\\nparıldayan bu canlılar muazzam dengenin birer ürünü\\n\\n00:11:52.560 --> 00:11:56.460\\nbu Beroe ovata ikinci Minemiopsis'i yiyor\\n\\n00:12:04.900 --> 00:12:08.355\\nsindirimi tamamlayan uç kısımdan dışkılıyor\\n\\n00:12:13.196 --> 00:12:16.772\\nyüzeyde Papaz ve küçük Karagözler\\n\\n00:12:21.105 --> 00:12:25.028\\n40 metre doğru derinleşen bölgede dalış yapıyorum\\n\\n00:12:28.643 --> 00:12:31.764\\n10 metreden sonra soğuk ve karanlık\\n\\n00:12:35.871 --> 00:12:38.937\\n3mm kıyafetle üşüdüğüm için geri dönüyorum\\n\\n00:12:49.082 --> 00:12:51.273\\nçok sayıda papaz balığı var\\n\\n00:13:06.139 --> 00:13:09.764\\nburadaki bir oyukta eğlenmeyi de ihmal etmiyoruz\\n\\n00:13:14.116 --> 00:13:17.860\\nadanın kuzey tarafı ise 1-2 metre derinlikte\\n\\n00:13:23.629 --> 00:13:27.134\\nNeandros ve Balıkçı Adası olarak da bilinen bu adada\\n\\n00:13:27.387 --> 00:13:29.123\\n bolca Deniz örümceği var\\n\\n00:13:30.709 --> 00:13:32.903\\ndiğer yengeçler ısırmaya çalışır\\n\\n00:13:33.476 --> 00:13:35.665\\nfakat bu tür çok çekingendir\\n\\n00:13:37.230 --> 00:13:39.230\\nbir üzerinde bitki oluşmuş bu örümcek\\n\\n00:13:39.695 --> 00:13:42.190\\nve benzeri canlıların korunabilmesi için\\n\\n00:13:42.190 --> 00:13:44.785\\nbu ada Nisan 2021'de\\n\\n00:13:44.786 --> 00:13:49.717\\nCumhurbaşkanlığı kararı ile kesin korunacak alan ilan edilmiştir\\n\\n00:14:01.672 --> 00:14:07.522\\nkuzeye doğru ilerlediğimizde zeminde sadece midye ve kestaneler var\\n\\n00:14:19.579 --> 00:14:21.197\\nburadan Büyükada'ya\\n\\n00:14:21.197 --> 00:14:24.785\\nPendik'te ağladığımız balıklardan pişirmek için geçiyoruz\\n\\n00:14:52.160 --> 00:14:59.550\\nburada bırakılan çöplerin dışında temiz ve huzurlu bir yer\\n\\n00:15:27.662 --> 00:15:30.140\\nvideoyu faydalı bulduysanız beğenmeyi\\n\\n00:15:30.356 --> 00:15:32.950\\nsonraki videolar için abone olmayı unutmayın.\\n\\n\", \"WEBVTT\\nKind: captions\\nLanguage: tr\\n\\n00:00:00.000 --> 00:00:19.300\\n(Gitar intro çalıyor)\\n\\n00:00:19.360 --> 00:00:38.560\\n(Orkestra da müziğe dahil oluyor)\\n\\n00:00:38.600 --> 00:00:43.260\\nDam başında sarı çiçek oy oy\\n\\n00:00:43.380 --> 00:00:48.080\\nDam başında sarı çiçek oy oy\\n\\n00:00:48.140 --> 00:00:52.940\\nBurdan kalkıp Ürgüp'e göçek\\nNenni de Feride'm\\n\\n00:00:52.980 --> 00:00:57.700\\nBurdan kalkıp Ürgüp'e göçek\\nNenni de Feride'm\\n\\n00:00:57.760 --> 00:01:02.440\\nÜrgüp'e vardığımız gece oy oy\\n\\n00:01:02.580 --> 00:01:07.220\\nÜrgüp'e vardığımız gece oy oy\\n\\n00:01:07.220 --> 00:01:12.120\\nHak yoluna kurban kesek\\nNenni de Feride'm\\n\\n00:01:12.160 --> 00:01:16.880\\nHak yoluna kurban kesek\\nNenni de Feride'm\\n\\n00:01:16.940 --> 00:01:21.720\\nHak yoluna kurban kesek\\nNenni de Feride'm\\n\\n00:01:21.920 --> 00:01:26.400\\nHak yoluna kurban kesek\\nNenni de Feride'm\\n\\n00:01:26.400 --> 00:01:55.200\\n(Orkestra / Akustik gitar ve Saxophone melodi çalıyor)\\n\\n00:01:55.360 --> 00:01:59.680\\nGidiyorum işte gör oy oy\\n\\n00:02:00.080 --> 00:02:04.600\\nGidiyorum işte gör oy oy\\n\\n00:02:04.920 --> 00:02:09.480\\nHayalde gör düşte gör\\nNenni de Feride'm\\n\\n00:02:09.640 --> 00:02:14.200\\nHayalde gör düşte gör\\nNenni de Feride'm\\n\\n00:02:14.440 --> 00:02:18.920\\nGıymatımı (kıymetimi) bilmedin oy oy\\n\\n00:02:19.200 --> 00:02:23.940\\nGıymatımı (kıymetimi) bilmedin oy oy\\n\\n00:02:24.120 --> 00:02:28.700\\nBir kötüye düş de gör\\nNenni de Feride'm\\n\\n00:02:28.920 --> 00:02:33.580\\nBir kötüye düş de gör\\nNenni de Feride'm\\n\\n00:02:33.740 --> 00:02:38.400\\nBir kötüye düş de gör\\nNenni de Feride'm\\n\\n00:02:38.540 --> 00:02:43.200\\nBir kötüye düş de gör\\nNenni de Feride'm\\n\\n00:02:43.360 --> 00:03:02.340\\nPercussion (Djembe) Emprovize\\n\\n00:03:02.560 --> 00:03:28.940\\n(Orkestra / Akustik gitar ve Saxophone melodi çalıyor)\\n(outro)\\n\\n00:03:28.940 --> 00:03:37.600\\nNenni de Feride'm\\nIslık...\\n\\n\"]\n"
     ]
    }
   ],
   "source": [
    "import os\n",
    "import glob\n",
    "videolist = [\"WdX1_wNUj0E\",\"Fu9OTkHtmrw\",\"DKTAB8HgIwc\"]\n",
    "count_1 = 0\n",
    "text_list = []\n",
    "down_video_list = []\n",
    "for i in videolist:\n",
    "    try:\n",
    "        ydl_opts = {'subtitleslangs':['tr'],'writesubtitles':True,'skip_download':True, 'outtmpl':f'subt{count_1}'}\n",
    "        var_out = youtube_dl.YoutubeDL(ydl_opts).download([f\"https://www.youtube.com/watch?v={i}\"])\n",
    "    except:\n",
    "        pass\n",
    "    #down_file = glob.glob('*.vtt')\n",
    "    down_file = glob.glob('subt*')\n",
    "    for j in down_file:\n",
    "        try:\n",
    "            with open(f\"{j}\", encoding='utf8') as file:\n",
    "                text = file.read()\n",
    "                text_list.append(text)\n",
    "                down_video_list.append(i) \n",
    "        except:\n",
    "            pass\n",
    "        os.remove(j) \n",
    "    count_1 += 1\n",
    "print(text_list)              \n",
    "    "
   ]
  },
  {
   "cell_type": "code",
   "execution_count": 53,
   "metadata": {},
   "outputs": [
    {
     "data": {
      "text/plain": [
       "['WdX1_wNUj0E', 'DKTAB8HgIwc']"
      ]
     },
     "execution_count": 53,
     "metadata": {},
     "output_type": "execute_result"
    }
   ],
   "source": [
    "down_video_list"
   ]
  },
  {
   "cell_type": "code",
   "execution_count": 40,
   "metadata": {},
   "outputs": [
    {
     "data": {
      "text/plain": [
       "\"WEBVTT\\nKind: captions\\nLanguage: tr\\n\\n00:00:01.056 --> 00:00:04.244\\nBu videoda Darıca ve Adalar arasında dalış\\n\\n00:00:04.534 --> 00:00:06.420\\nküçük balıkların değişimi\\n\\n00:00:06.808 --> 00:00:08.780\\nilk defa göreceğiniz detaylar\\n\\n00:00:10.388 --> 00:00:12.388\\nve balık avı izleyeceksiniz\\n\\n00:00:17.600 --> 00:00:18.682\\nDarıca\\n\\n00:00:22.730 --> 00:00:25.689\\nİstanbul'a yakın Kocaeli'nin bir ilçesi\\n\\n00:00:27.887 --> 00:00:30.714\\nbeş metrelik kumluk bir alana dalış yapıyorum\\n\\n00:00:44.779 --> 00:00:49.652\\nbiraz ilerlediğinde uzun ağzıyla kumu eşeleyen büyük bir vatoz\\n\\n00:00:54.205 --> 00:00:57.265\\nMarmara'da pek rastlanılmayan Kartal Vatozu\\n\\n00:00:57.632 --> 00:00:59.673\\ndiğer adıyla Fulya Balığı\\n\\n00:01:03.447 --> 00:01:07.730\\nuzun kuyruk ve ağız yapısı ile kolayca ayırt edilebilir\\n\\n00:01:11.641 --> 00:01:14.717\\nbu tür daha çok okyanuslarda ve Akdeniz'de görülür\\n\\n00:01:19.467 --> 00:01:23.250\\nMarmara'ya kadar gelen bu tür insanlar için zararsızdır\\n\\n00:01:31.469 --> 00:01:32.638\\nDeniz hıyarı\\n\\n00:01:34.836 --> 00:01:37.772\\nbu ise Marmara'da gördüğümüz yıldızlardan farklı\\n\\n00:01:38.008 --> 00:01:40.312\\nastropecten türü bir denizyıldızı\\n\\n00:01:52.238 --> 00:01:54.028\\ndev midiye planın dibindeki\\n\\n00:01:54.029 --> 00:01:57.947\\ngenelde gördüğümüz denizyıldızı türü Asterias rubens\\n\\n00:02:00.945 --> 00:02:01.963\\nküçük pinna\\n\\n00:02:06.178 --> 00:02:07.137\\nAnemon\\n\\n00:02:09.569 --> 00:02:11.141\\nkestane ve midyeler\\n\\n00:02:16.500 --> 00:02:17.580\\nMarmara'da \\n\\n00:02:17.580 --> 00:02:20.812\\nburada olduğu gibi güneş gören bazı bölgelerde de\\n\\n00:02:20.910 --> 00:02:23.134\\ndeniz çayırları ile karşılaşıyorum\\n\\n00:02:35.453 --> 00:02:38.697\\nbu küçük iki balıkta eşkina yavrusu\\n\\n00:02:45.678 --> 00:02:50.134\\nboyutlarda olanlar genellikle deniz marulların arasında yaşıyor\\n\\n00:03:02.508 --> 00:03:08.009\\neşkiyaların daha küçük hali ve büyükleri birbirinden çok farklı\\n\\n00:03:15.640 --> 00:03:18.320\\nfarklılık birçok tür için geçerli\\n\\n00:03:19.571 --> 00:03:22.088\\nbu yeşil balıkta kikla yavrusu\\n\\n00:03:26.379 --> 00:03:27.826\\nyazılı hani yavrusu\\n\\n00:03:35.717 --> 00:03:38.220\\nsaklandığını sanan lapin\\n\\n00:03:44.146 --> 00:03:46.745\\ngemilerin balast suyu ile sularımıza gelen\\n\\n00:03:46.745 --> 00:03:50.095\\nhamsi kırıklığına sebep olan Mnemiopsis leidyi\\n\\n00:03:50.355 --> 00:03:52.355\\ndiğer adıyla deniz cevizi\\n\\n00:03:53.608 --> 00:03:55.847\\nyine aynı yollardan sonradan gelen\\n\\n00:03:56.119 --> 00:03:57.904\\nBeroe ovata denizanası\\n\\n00:03:59.337 --> 00:04:02.392\\ndeniz cevizlerini yutarak hapsediyor\\n\\n00:04:06.120 --> 00:04:08.698\\nardından parçalayarak sindiriyor\\n\\n00:04:09.367 --> 00:04:12.121\\ndenizanalarının beyni ve gözleri yoktur\\n\\n00:04:13.008 --> 00:04:17.708\\nfakat beroe ovatalar mnemiopsis'leri bularak dengeyi sağlıyor\\n\\n00:04:22.492 --> 00:04:25.669\\nbu ikili arasındaki besin zinciri sayesinde\\n\\n00:04:25.755 --> 00:04:28.780\\nküçük balık popülasyonu tekrar dengelendi\\n\\n00:04:41.590 --> 00:04:44.222\\n15 metrede batmış bir tekne\\n\\n00:04:56.738 --> 00:04:59.447\\n8 metre de beton bloklar\\n\\n00:05:11.140 --> 00:05:15.267\\ndevam eden boru hattını destekleyen bu betonların aralarında\\n\\n00:05:15.268 --> 00:05:16.492\\nkikla'lar var\\n\\n00:05:25.525 --> 00:05:27.711\\nilerledikçe derinlik arttığı için\\n\\n00:05:27.711 --> 00:05:31.523\\nyukarı çıkacağım anda iri bir kikla'ya atış yapıyorum\\n\\n00:05:39.934 --> 00:05:44.295\\nküçüğü tamamen yeşil olan kikla'nın avlanabilir boydaki hali\\n\\n00:05:56.070 --> 00:05:56.958\\nPendik\\n\\n00:06:00.180 --> 00:06:04.909\\naşağı indiğimde 10. saniyede gördüğüm balığı atış yapıyorum\\n\\n00:06:22.788 --> 00:06:25.899\\nsessizce yosunların arasında inip gizlenmek\\n\\n00:06:26.050 --> 00:06:29.058\\nbalığı ürkütmeden atış fırsatı veriyor\\n\\n00:06:36.000 --> 00:06:38.658\\nkiloya yakın Baltabaş Karagöz\\n\\n00:06:46.740 --> 00:06:51.613\\nDiplodus sargus Akdeniz Bölgesi'nde Sargoz olarak da bilinir\\n\\n00:07:09.449 --> 00:07:13.562\\ntekrar saklanarak bekliyorum bu kez Kefaller geçiyor\\n\\n00:07:26.609 --> 00:07:29.320\\ndaha derine inip çağrı yapıyorum\\n\\n00:07:31.810 --> 00:07:33.621\\ngelen Mırmır sürüsü\\n\\n00:08:23.722 --> 00:08:27.621\\nagaşonda ses çıkartarak balıkları çekmeye çalışıyorum\\n\\n00:08:37.262 --> 00:08:41.104\\nbir dakika sonra balık göremeyince ilerliyorum\\n\\n00:08:42.871 --> 00:08:46.292\\nyükseleceğim anda Karagöz sürüsü geliyor\\n\\n00:09:04.014 --> 00:09:05.018\\nıska\\n\\n00:09:09.740 --> 00:09:12.924\\ntekrar beklerken bu kez soldan geldiler\\n\\n00:09:21.144 --> 00:09:23.015\\nve isabetli atış\\n\\n00:09:40.139 --> 00:09:42.879\\niri bir Sivriburun Karagöz\\n\\n00:09:52.570 --> 00:09:56.098\\nAdalar bölgesinde Büyük Ada'nın güneyindeki\\n\\n00:09:56.227 --> 00:09:58.534\\n Tavşan Adası'na dalış yapıyoruz\\n\\n00:10:01.300 --> 00:10:05.734\\nadanın güney batısı 10 metreden 40 metreye derinleşiyor\\n\\n00:10:09.623 --> 00:10:13.558\\nkayaların arasında küçük sargozlar ve kiklalar var\\n\\n00:10:23.296 --> 00:10:24.540\\niri bir kikla\\n\\n00:10:33.525 --> 00:10:37.546\\nen çok karşılaşılan vatoz türlerinden dikenli vatoz\\n\\n00:10:40.300 --> 00:10:43.679\\nkayaların üzerinde büyük deniz süngeri\\n\\n00:10:50.519 --> 00:10:53.794\\nbirçok boyutta ve renkte süngerler\\n\\n00:11:02.938 --> 00:11:04.575\\nDişi Karabaş balığı\\n\\n00:11:17.310 --> 00:11:22.044\\nBurada da aynı şekilde Deniz cevizi ve Beroe ovatalar\\n\\n00:11:22.044 --> 00:11:24.044\\nyüze yakın bolca bulunuyor\\n\\n00:11:39.462 --> 00:11:43.313\\nparıldayan bu canlılar muazzam dengenin birer ürünü\\n\\n00:11:52.560 --> 00:11:56.460\\nbu Beroe ovata ikinci Minemiopsis'i yiyor\\n\\n00:12:04.900 --> 00:12:08.355\\nsindirimi tamamlayan uç kısımdan dışkılıyor\\n\\n00:12:13.196 --> 00:12:16.772\\nyüzeyde Papaz ve küçük Karagözler\\n\\n00:12:21.105 --> 00:12:25.028\\n40 metre doğru derinleşen bölgede dalış yapıyorum\\n\\n00:12:28.643 --> 00:12:31.764\\n10 metreden sonra soğuk ve karanlık\\n\\n00:12:35.871 --> 00:12:38.937\\n3mm kıyafetle üşüdüğüm için geri dönüyorum\\n\\n00:12:49.082 --> 00:12:51.273\\nçok sayıda papaz balığı var\\n\\n00:13:06.139 --> 00:13:09.764\\nburadaki bir oyukta eğlenmeyi de ihmal etmiyoruz\\n\\n00:13:14.116 --> 00:13:17.860\\nadanın kuzey tarafı ise 1-2 metre derinlikte\\n\\n00:13:23.629 --> 00:13:27.134\\nNeandros ve Balıkçı Adası olarak da bilinen bu adada\\n\\n00:13:27.387 --> 00:13:29.123\\n bolca Deniz örümceği var\\n\\n00:13:30.709 --> 00:13:32.903\\ndiğer yengeçler ısırmaya çalışır\\n\\n00:13:33.476 --> 00:13:35.665\\nfakat bu tür çok çekingendir\\n\\n00:13:37.230 --> 00:13:39.230\\nbir üzerinde bitki oluşmuş bu örümcek\\n\\n00:13:39.695 --> 00:13:42.190\\nve benzeri canlıların korunabilmesi için\\n\\n00:13:42.190 --> 00:13:44.785\\nbu ada Nisan 2021'de\\n\\n00:13:44.786 --> 00:13:49.717\\nCumhurbaşkanlığı kararı ile kesin korunacak alan ilan edilmiştir\\n\\n00:14:01.672 --> 00:14:07.522\\nkuzeye doğru ilerlediğimizde zeminde sadece midye ve kestaneler var\\n\\n00:14:19.579 --> 00:14:21.197\\nburadan Büyükada'ya\\n\\n00:14:21.197 --> 00:14:24.785\\nPendik'te ağladığımız balıklardan pişirmek için geçiyoruz\\n\\n00:14:52.160 --> 00:14:59.550\\nburada bırakılan çöplerin dışında temiz ve huzurlu bir yer\\n\\n00:15:27.662 --> 00:15:30.140\\nvideoyu faydalı bulduysanız beğenmeyi\\n\\n00:15:30.356 --> 00:15:32.950\\nsonraki videolar için abone olmayı unutmayın.\\n\\n WEBVTT\\nKind: captions\\nLanguage: tr\\n\\n00:00:00.000 --> 00:00:19.300\\n(Gitar intro çalıyor)\\n\\n00:00:19.360 --> 00:00:38.560\\n(Orkestra da müziğe dahil oluyor)\\n\\n00:00:38.600 --> 00:00:43.260\\nDam başında sarı çiçek oy oy\\n\\n00:00:43.380 --> 00:00:48.080\\nDam başında sarı çiçek oy oy\\n\\n00:00:48.140 --> 00:00:52.940\\nBurdan kalkıp Ürgüp'e göçek\\nNenni de Feride'm\\n\\n00:00:52.980 --> 00:00:57.700\\nBurdan kalkıp Ürgüp'e göçek\\nNenni de Feride'm\\n\\n00:00:57.760 --> 00:01:02.440\\nÜrgüp'e vardığımız gece oy oy\\n\\n00:01:02.580 --> 00:01:07.220\\nÜrgüp'e vardığımız gece oy oy\\n\\n00:01:07.220 --> 00:01:12.120\\nHak yoluna kurban kesek\\nNenni de Feride'm\\n\\n00:01:12.160 --> 00:01:16.880\\nHak yoluna kurban kesek\\nNenni de Feride'm\\n\\n00:01:16.940 --> 00:01:21.720\\nHak yoluna kurban kesek\\nNenni de Feride'm\\n\\n00:01:21.920 --> 00:01:26.400\\nHak yoluna kurban kesek\\nNenni de Feride'm\\n\\n00:01:26.400 --> 00:01:55.200\\n(Orkestra / Akustik gitar ve Saxophone melodi çalıyor)\\n\\n00:01:55.360 --> 00:01:59.680\\nGidiyorum işte gör oy oy\\n\\n00:02:00.080 --> 00:02:04.600\\nGidiyorum işte gör oy oy\\n\\n00:02:04.920 --> 00:02:09.480\\nHayalde gör düşte gör\\nNenni de Feride'm\\n\\n00:02:09.640 --> 00:02:14.200\\nHayalde gör düşte gör\\nNenni de Feride'm\\n\\n00:02:14.440 --> 00:02:18.920\\nGıymatımı (kıymetimi) bilmedin oy oy\\n\\n00:02:19.200 --> 00:02:23.940\\nGıymatımı (kıymetimi) bilmedin oy oy\\n\\n00:02:24.120 --> 00:02:28.700\\nBir kötüye düş de gör\\nNenni de Feride'm\\n\\n00:02:28.920 --> 00:02:33.580\\nBir kötüye düş de gör\\nNenni de Feride'm\\n\\n00:02:33.740 --> 00:02:38.400\\nBir kötüye düş de gör\\nNenni de Feride'm\\n\\n00:02:38.540 --> 00:02:43.200\\nBir kötüye düş de gör\\nNenni de Feride'm\\n\\n00:02:43.360 --> 00:03:02.340\\nPercussion (Djembe) Emprovize\\n\\n00:03:02.560 --> 00:03:28.940\\n(Orkestra / Akustik gitar ve Saxophone melodi çalıyor)\\n(outro)\\n\\n00:03:28.940 --> 00:03:37.600\\nNenni de Feride'm\\nIslık...\\n\\n\""
      ]
     },
     "execution_count": 40,
     "metadata": {},
     "output_type": "execute_result"
    }
   ],
   "source": [
    "text = \" \".join(text_list)\n",
    "text"
   ]
  },
  {
   "cell_type": "code",
   "execution_count": 41,
   "metadata": {},
   "outputs": [
    {
     "data": {
      "text/plain": [
       "\"WEBVTT\\nKind: captions\\nLanguage: tr\\n\\n00:00:01.056 --> 00:00:04.244\\nBu videoda Darıca ve Adalar arasında dalış\\n\\n00:00:04.534 --> 00:00:06.420\\nküçük balıkların değişimi\\n\\n00:00:06.808 --> 00:00:08.780\\nilk defa göreceğiniz detaylar\\n\\n00:00:10.388 --> 00:00:12.388\\nve balık avı izleyeceksiniz\\n\\n00:00:17.600 --> 00:00:18.682\\nDarıca\\n\\n00:00:22.730 --> 00:00:25.689\\nİstanbul'a yakın Kocaeli'nin bir ilçesi\\n\\n00:00:27.887 --> 00:00:30.714\\nbeş metrelik kumluk bir alana dalış yapıyorum\\n\\n00:00:44.779 --> 00:00:49.652\\nbiraz ilerlediğinde uzun ağzıyla kumu eşeleyen büyük bir vatoz\\n\\n00:00:54.205 --> 00:00:57.265\\nMarmara'da pek rastlanılmayan Kartal Vatozu\\n\\n00:00:57.632 --> 00:00:59.673\\ndiğer adıyla Fulya Balığı\\n\\n00:01:03.447 --> 00:01:07.730\\nuzun kuyruk ve ağız yapısı ile kolayca ayırt edilebilir\\n\\n00:01:11.641 --> 00:01:14.717\\nbu tür daha çok okyanuslarda ve Akdeniz'de görülür\\n\\n00:01:19.467 --> 00:01:23.250\\nMarmara'ya kadar gelen bu tür insanlar için zararsızdır\\n\\n00:01:31.469 --> 00:01:32.638\\nDeniz hıyarı\\n\\n00:01:34.836 --> 00:01:37.772\\nbu ise Marmara'da gördüğümüz yıldızlardan farklı\\n\\n00:01:38.008 --> 00:01:40.312\\nastropecten türü bir denizyıldızı\\n\\n00:01:52.238 --> 00:01:54.028\\ndev midiye planın dibindeki\\n\\n00:01:54.029 --> 00:01:57.947\\ngenelde gördüğümüz denizyıldızı türü Asterias rubens\\n\\n00:02:00.945 --> 00:02:01.963\\nküçük pinna\\n\\n00:02:06.178 --> 00:02:07.137\\nAnemon\\n\\n00:02:09.569 --> 00:02:11.141\\nkestane ve midyeler\\n\\n00:02:16.500 --> 00:02:17.580\\nMarmara'da \\n\\n00:02:17.580 --> 00:02:20.812\\nburada olduğu gibi güneş gören bazı bölgelerde de\\n\\n00:02:20.910 --> 00:02:23.134\\ndeniz çayırları ile karşılaşıyorum\\n\\n00:02:35.453 --> 00:02:38.697\\nbu küçük iki balıkta eşkina yavrusu\\n\\n00:02:45.678 --> 00:02:50.134\\nboyutlarda olanlar genellikle deniz marulların arasında yaşıyor\\n\\n00:03:02.508 --> 00:03:08.009\\neşkiyaların daha küçük hali ve büyükleri birbirinden çok farklı\\n\\n00:03:15.640 --> 00:03:18.320\\nfarklılık birçok tür için geçerli\\n\\n00:03:19.571 --> 00:03:22.088\\nbu yeşil balıkta kikla yavrusu\\n\\n00:03:26.379 --> 00:03:27.826\\nyazılı hani yavrusu\\n\\n00:03:35.717 --> 00:03:38.220\\nsaklandığını sanan lapin\\n\\n00:03:44.146 --> 00:03:46.745\\ngemilerin balast suyu ile sularımıza gelen\\n\\n00:03:46.745 --> 00:03:50.095\\nhamsi kırıklığına sebep olan Mnemiopsis leidyi\\n\\n00:03:50.355 --> 00:03:52.355\\ndiğer adıyla deniz cevizi\\n\\n00:03:53.608 --> 00:03:55.847\\nyine aynı yollardan sonradan gelen\\n\\n00:03:56.119 --> 00:03:57.904\\nBeroe ovata denizanası\\n\\n00:03:59.337 --> 00:04:02.392\\ndeniz cevizlerini yutarak hapsediyor\\n\\n00:04:06.120 --> 00:04:08.698\\nardından parçalayarak sindiriyor\\n\\n00:04:09.367 --> 00:04:12.121\\ndenizanalarının beyni ve gözleri yoktur\\n\\n00:04:13.008 --> 00:04:17.708\\nfakat beroe ovatalar mnemiopsis'leri bularak dengeyi sağlıyor\\n\\n00:04:22.492 --> 00:04:25.669\\nbu ikili arasındaki besin zinciri sayesinde\\n\\n00:04:25.755 --> 00:04:28.780\\nküçük balık popülasyonu tekrar dengelendi\\n\\n00:04:41.590 --> 00:04:44.222\\n15 metrede batmış bir tekne\\n\\n00:04:56.738 --> 00:04:59.447\\n8 metre de beton bloklar\\n\\n00:05:11.140 --> 00:05:15.267\\ndevam eden boru hattını destekleyen bu betonların aralarında\\n\\n00:05:15.268 --> 00:05:16.492\\nkikla'lar var\\n\\n00:05:25.525 --> 00:05:27.711\\nilerledikçe derinlik arttığı için\\n\\n00:05:27.711 --> 00:05:31.523\\nyukarı çıkacağım anda iri bir kikla'ya atış yapıyorum\\n\\n00:05:39.934 --> 00:05:44.295\\nküçüğü tamamen yeşil olan kikla'nın avlanabilir boydaki hali\\n\\n00:05:56.070 --> 00:05:56.958\\nPendik\\n\\n00:06:00.180 --> 00:06:04.909\\naşağı indiğimde 10. saniyede gördüğüm balığı atış yapıyorum\\n\\n00:06:22.788 --> 00:06:25.899\\nsessizce yosunların arasında inip gizlenmek\\n\\n00:06:26.050 --> 00:06:29.058\\nbalığı ürkütmeden atış fırsatı veriyor\\n\\n00:06:36.000 --> 00:06:38.658\\nkiloya yakın Baltabaş Karagöz\\n\\n00:06:46.740 --> 00:06:51.613\\nDiplodus sargus Akdeniz Bölgesi'nde Sargoz olarak da bilinir\\n\\n00:07:09.449 --> 00:07:13.562\\ntekrar saklanarak bekliyorum bu kez Kefaller geçiyor\\n\\n00:07:26.609 --> 00:07:29.320\\ndaha derine inip çağrı yapıyorum\\n\\n00:07:31.810 --> 00:07:33.621\\ngelen Mırmır sürüsü\\n\\n00:08:23.722 --> 00:08:27.621\\nagaşonda ses çıkartarak balıkları çekmeye çalışıyorum\\n\\n00:08:37.262 --> 00:08:41.104\\nbir dakika sonra balık göremeyince ilerliyorum\\n\\n00:08:42.871 --> 00:08:46.292\\nyükseleceğim anda Karagöz sürüsü geliyor\\n\\n00:09:04.014 --> 00:09:05.018\\nıska\\n\\n00:09:09.740 --> 00:09:12.924\\ntekrar beklerken bu kez soldan geldiler\\n\\n00:09:21.144 --> 00:09:23.015\\nve isabetli atış\\n\\n00:09:40.139 --> 00:09:42.879\\niri bir Sivriburun Karagöz\\n\\n00:09:52.570 --> 00:09:56.098\\nAdalar bölgesinde Büyük Ada'nın güneyindeki\\n\\n00:09:56.227 --> 00:09:58.534\\n Tavşan Adası'na dalış yapıyoruz\\n\\n00:10:01.300 --> 00:10:05.734\\nadanın güney batısı 10 metreden 40 metreye derinleşiyor\\n\\n00:10:09.623 --> 00:10:13.558\\nkayaların arasında küçük sargozlar ve kiklalar var\\n\\n00:10:23.296 --> 00:10:24.540\\niri bir kikla\\n\\n00:10:33.525 --> 00:10:37.546\\nen çok karşılaşılan vatoz türlerinden dikenli vatoz\\n\\n00:10:40.300 --> 00:10:43.679\\nkayaların üzerinde büyük deniz süngeri\\n\\n00:10:50.519 --> 00:10:53.794\\nbirçok boyutta ve renkte süngerler\\n\\n00:11:02.938 --> 00:11:04.575\\nDişi Karabaş balığı\\n\\n00:11:17.310 --> 00:11:22.044\\nBurada da aynı şekilde Deniz cevizi ve Beroe ovatalar\\n\\n00:11:22.044 --> 00:11:24.044\\nyüze yakın bolca bulunuyor\\n\\n00:11:39.462 --> 00:11:43.313\\nparıldayan bu canlılar muazzam dengenin birer ürünü\\n\\n00:11:52.560 --> 00:11:56.460\\nbu Beroe ovata ikinci Minemiopsis'i yiyor\\n\\n00:12:04.900 --> 00:12:08.355\\nsindirimi tamamlayan uç kısımdan dışkılıyor\\n\\n00:12:13.196 --> 00:12:16.772\\nyüzeyde Papaz ve küçük Karagözler\\n\\n00:12:21.105 --> 00:12:25.028\\n40 metre doğru derinleşen bölgede dalış yapıyorum\\n\\n00:12:28.643 --> 00:12:31.764\\n10 metreden sonra soğuk ve karanlık\\n\\n00:12:35.871 --> 00:12:38.937\\n3mm kıyafetle üşüdüğüm için geri dönüyorum\\n\\n00:12:49.082 --> 00:12:51.273\\nçok sayıda papaz balığı var\\n\\n00:13:06.139 --> 00:13:09.764\\nburadaki bir oyukta eğlenmeyi de ihmal etmiyoruz\\n\\n00:13:14.116 --> 00:13:17.860\\nadanın kuzey tarafı ise 1-2 metre derinlikte\\n\\n00:13:23.629 --> 00:13:27.134\\nNeandros ve Balıkçı Adası olarak da bilinen bu adada\\n\\n00:13:27.387 --> 00:13:29.123\\n bolca Deniz örümceği var\\n\\n00:13:30.709 --> 00:13:32.903\\ndiğer yengeçler ısırmaya çalışır\\n\\n00:13:33.476 --> 00:13:35.665\\nfakat bu tür çok çekingendir\\n\\n00:13:37.230 --> 00:13:39.230\\nbir üzerinde bitki oluşmuş bu örümcek\\n\\n00:13:39.695 --> 00:13:42.190\\nve benzeri canlıların korunabilmesi için\\n\\n00:13:42.190 --> 00:13:44.785\\nbu ada Nisan 2021'de\\n\\n00:13:44.786 --> 00:13:49.717\\nCumhurbaşkanlığı kararı ile kesin korunacak alan ilan edilmiştir\\n\\n00:14:01.672 --> 00:14:07.522\\nkuzeye doğru ilerlediğimizde zeminde sadece midye ve kestaneler var\\n\\n00:14:19.579 --> 00:14:21.197\\nburadan Büyükada'ya\\n\\n00:14:21.197 --> 00:14:24.785\\nPendik'te ağladığımız balıklardan pişirmek için geçiyoruz\\n\\n00:14:52.160 --> 00:14:59.550\\nburada bırakılan çöplerin dışında temiz ve huzurlu bir yer\\n\\n00:15:27.662 --> 00:15:30.140\\nvideoyu faydalı bulduysanız beğenmeyi\\n\\n00:15:30.356 --> 00:15:32.950\\nsonraki videolar için abone olmayı unutmayın.\\n\\n WEBVTT\\nKind: captions\\nLanguage: tr\\n\\n00:00:00.000 --> 00:00:19.300\\n\\n\\n00:00:19.360 --> 00:00:38.560\\n\\n\\n00:00:38.600 --> 00:00:43.260\\nDam başında sarı çiçek oy oy\\n\\n00:00:43.380 --> 00:00:48.080\\nDam başında sarı çiçek oy oy\\n\\n00:00:48.140 --> 00:00:52.940\\nBurdan kalkıp Ürgüp'e göçek\\nNenni de Feride'm\\n\\n00:00:52.980 --> 00:00:57.700\\nBurdan kalkıp Ürgüp'e göçek\\nNenni de Feride'm\\n\\n00:00:57.760 --> 00:01:02.440\\nÜrgüp'e vardığımız gece oy oy\\n\\n00:01:02.580 --> 00:01:07.220\\nÜrgüp'e vardığımız gece oy oy\\n\\n00:01:07.220 --> 00:01:12.120\\nHak yoluna kurban kesek\\nNenni de Feride'm\\n\\n00:01:12.160 --> 00:01:16.880\\nHak yoluna kurban kesek\\nNenni de Feride'm\\n\\n00:01:16.940 --> 00:01:21.720\\nHak yoluna kurban kesek\\nNenni de Feride'm\\n\\n00:01:21.920 --> 00:01:26.400\\nHak yoluna kurban kesek\\nNenni de Feride'm\\n\\n00:01:26.400 --> 00:01:55.200\\n\\n\\n00:01:55.360 --> 00:01:59.680\\nGidiyorum işte gör oy oy\\n\\n00:02:00.080 --> 00:02:04.600\\nGidiyorum işte gör oy oy\\n\\n00:02:04.920 --> 00:02:09.480\\nHayalde gör düşte gör\\nNenni de Feride'm\\n\\n00:02:09.640 --> 00:02:14.200\\nHayalde gör düşte gör\\nNenni de Feride'm\\n\\n00:02:14.440 --> 00:02:18.920\\nGıymatımı  bilmedin oy oy\\n\\n00:02:19.200 --> 00:02:23.940\\nGıymatımı  bilmedin oy oy\\n\\n00:02:24.120 --> 00:02:28.700\\nBir kötüye düş de gör\\nNenni de Feride'm\\n\\n00:02:28.920 --> 00:02:33.580\\nBir kötüye düş de gör\\nNenni de Feride'm\\n\\n00:02:33.740 --> 00:02:38.400\\nBir kötüye düş de gör\\nNenni de Feride'm\\n\\n00:02:38.540 --> 00:02:43.200\\nBir kötüye düş de gör\\nNenni de Feride'm\\n\\n00:02:43.360 --> 00:03:02.340\\nPercussion  Emprovize\\n\\n00:03:02.560 --> 00:03:28.940\\n\\n\\n\\n00:03:28.940 --> 00:03:37.600\\nNenni de Feride'm\\nIslık...\\n\\n\""
      ]
     },
     "execution_count": 41,
     "metadata": {},
     "output_type": "execute_result"
    }
   ],
   "source": [
    "text_data_clean_brackets = re.sub('[\\(\\[\\{].*?[\\)\\]\\}]', '', text)\n",
    "text_data_clean_brackets"
   ]
  },
  {
   "cell_type": "code",
   "execution_count": 42,
   "metadata": {},
   "outputs": [
    {
     "data": {
      "text/plain": [
       "\"WEBVTT Kind: captions Language: tr 00: 00: 01. 056  00: 00: 04. 244 Bu  videoda  Darıca  ve  Adalar  arasında  dalış 00: 00: 04. 534  00: 00: 06. 420 küçük  balıkların  değişimi 00: 00: 06. 808  00: 00: 08. 780 ilk  defa  göreceğiniz  detaylar 00: 00: 10. 388  00: 00: 12. 388 ve  balık  avı  izleyeceksiniz 00: 00: 17. 600  00: 00: 18. 682 Darıca 00: 00: 22. 730  00: 00: 25. 689 İstanbul' a  yakın  Kocaeli' nin  bir  ilçesi 00: 00: 27. 887  00: 00: 30. 714 beş  metrelik  kumluk  bir  alana  dalış  yapıyorum 00: 00: 44. 779  00: 00: 49. 652 biraz  ilerlediğinde  uzun  ağzıyla  kumu  eşeleyen  büyük  bir  vatoz 00: 00: 54. 205  00: 00: 57. 265 Marmara' da  pek  rastlanılmayan  Kartal  Vatozu 00: 00: 57. 632  00: 00: 59. 673 diğer  adıyla  Fulya  Balığı 00: 01: 03. 447  00: 01: 07. 730 uzun  kuyruk  ve  ağız  yapısı  ile  kolayca  ayırt  edilebilir 00: 01: 11. 641  00: 01: 14. 717 bu  tür  daha  çok  okyanuslarda  ve  Akdeniz' de  görülür 00: 01: 19. 467  00: 01: 23. 250 Marmara' ya  kadar  gelen  bu  tür  insanlar  için  zararsızdır 00: 01: 31. 469  00: 01: 32. 638 Deniz  hıyarı 00: 01: 34. 836  00: 01: 37. 772 bu  ise  Marmara' da  gördüğümüz  yıldızlardan  farklı 00: 01: 38. 008  00: 01: 40. 312 astropecten  türü  bir  denizyıldızı 00: 01: 52. 238  00: 01: 54. 028 dev  midiye  planın  dibindeki 00: 01: 54. 029  00: 01: 57. 947 genelde  gördüğümüz  denizyıldızı  türü  Asterias  rubens 00: 02: 00. 945  00: 02: 01. 963 küçük  pinna 00: 02: 06. 178  00: 02: 07. 137 Anemon 00: 02: 09. 569  00: 02: 11. 141 kestane  ve  midyeler 00: 02: 16. 500  00: 02: 17. 580 Marmara' da  00: 02: 17. 580  00: 02: 20. 812 burada  olduğu  gibi  güneş  gören  bazı  bölgelerde  de 00: 02: 20. 910  00: 02: 23. 134 deniz  çayırları  ile  karşılaşıyorum 00: 02: 35. 453  00: 02: 38. 697 bu  küçük  iki  balıkta  eşkina  yavrusu 00: 02: 45. 678  00: 02: 50. 134 boyutlarda  olanlar  genellikle  deniz  marulların  arasında  yaşıyor 00: 03: 02. 508  00: 03: 08. 009 eşkiyaların  daha  küçük  hali  ve  büyükleri  birbirinden  çok  farklı 00: 03: 15. 640  00: 03: 18. 320 farklılık  birçok  tür  için  geçerli 00: 03: 19. 571  00: 03: 22. 088 bu  yeşil  balıkta  kikla  yavrusu 00: 03: 26. 379  00: 03: 27. 826 yazılı  hani  yavrusu 00: 03: 35. 717  00: 03: 38. 220 saklandığını  sanan  lapin 00: 03: 44. 146  00: 03: 46. 745 gemilerin  balast  suyu  ile  sularımıza  gelen 00: 03: 46. 745  00: 03: 50. 095 hamsi  kırıklığına  sebep  olan  Mnemiopsis  leidyi 00: 03: 50. 355  00: 03: 52. 355 diğer  adıyla  deniz  cevizi 00: 03: 53. 608  00: 03: 55. 847 yine  aynı  yollardan  sonradan  gelen 00: 03: 56. 119  00: 03: 57. 904 Beroe  ovata  denizanası 00: 03: 59. 337  00: 04: 02. 392 deniz  cevizlerini  yutarak  hapsediyor 00: 04: 06. 120  00: 04: 08. 698 ardından  parçalayarak  sindiriyor 00: 04: 09. 367  00: 04: 12. 121 denizanalarının  beyni  ve  gözleri  yoktur 00: 04: 13. 008  00: 04: 17. 708 fakat  beroe  ovatalar  mnemiopsis' leri  bularak  dengeyi  sağlıyor 00: 04: 22. 492  00: 04: 25. 669 bu  ikili  arasındaki  besin  zinciri  sayesinde 00: 04: 25. 755  00: 04: 28. 780 küçük  balık  popülasyonu  tekrar  dengelendi 00: 04: 41. 590  00: 04: 44. 222 15  metrede  batmış  bir  tekne 00: 04: 56. 738  00: 04: 59. 447 8  metre  de  beton  bloklar 00: 05: 11. 140  00: 05: 15. 267 devam  eden  boru  hattını  destekleyen  bu  betonların  aralarında 00: 05: 15. 268  00: 05: 16. 492 kikla' lar  var 00: 05: 25. 525  00: 05: 27. 711 ilerledikçe  derinlik  arttığı  için 00: 05: 27. 711  00: 05: 31. 523 yukarı  çıkacağım  anda  iri  bir  kikla' ya  atış  yapıyorum 00: 05: 39. 934  00: 05: 44. 295 küçüğü  tamamen  yeşil  olan  kikla' nın  avlanabilir  boydaki  hali 00: 05: 56. 070  00: 05: 56. 958 Pendik 00: 06: 00. 180  00: 06: 04. 909 aşağı  indiğimde  10. saniyede  gördüğüm  balığı  atış  yapıyorum 00: 06: 22. 788  00: 06: 25. 899 sessizce  yosunların  arasında  inip  gizlenmek 00: 06: 26. 050  00: 06: 29. 058 balığı  ürkütmeden  atış  fırsatı  veriyor 00: 06: 36. 000  00: 06: 38. 658 kiloya  yakın  Baltabaş  Karagöz 00: 06: 46. 740  00: 06: 51. 613 Diplodus  sargus  Akdeniz  Bölgesi' nde  Sargoz  olarak  da  bilinir 00: 07: 09. 449  00: 07: 13. 562 tekrar  saklanarak  bekliyorum  bu  kez  Kefaller  geçiyor 00: 07: 26. 609  00: 07: 29. 320 daha  derine  inip  çağrı  yapıyorum 00: 07: 31. 810  00: 07: 33. 621 gelen  Mırmır  sürüsü 00: 08: 23. 722  00: 08: 27. 621 agaşonda  ses  çıkartarak  balıkları  çekmeye  çalışıyorum 00: 08: 37. 262  00: 08: 41. 104 bir  dakika  sonra  balık  göremeyince  ilerliyorum 00: 08: 42. 871  00: 08: 46. 292 yükseleceğim  anda  Karagöz  sürüsü  geliyor 00: 09: 04. 014  00: 09: 05. 018 ıska 00: 09: 09. 740  00: 09: 12. 924 tekrar  beklerken  bu  kez  soldan  geldiler 00: 09: 21. 144  00: 09: 23. 015 ve  isabetli  atış 00: 09: 40. 139  00: 09: 42. 879 iri  bir  Sivriburun  Karagöz 00: 09: 52. 570  00: 09: 56. 098 Adalar  bölgesinde  Büyük  Ada' nın  güneyindeki 00: 09: 56. 227  00: 09: 58. 534 Tavşan  Adası' na  dalış  yapıyoruz 00: 10: 01. 300  00: 10: 05. 734 adanın  güney  batısı  10  metreden  40  metreye  derinleşiyor 00: 10: 09. 623  00: 10: 13. 558 kayaların  arasında  küçük  sargozlar  ve  kiklalar  var 00: 10: 23. 296  00: 10: 24. 540 iri  bir  kikla 00: 10: 33. 525  00: 10: 37. 546 en  çok  karşılaşılan  vatoz  türlerinden  dikenli  vatoz 00: 10: 40. 300  00: 10: 43. 679 kayaların  üzerinde  büyük  deniz  süngeri 00: 10: 50. 519  00: 10: 53. 794 birçok  boyutta  ve  renkte  süngerler 00: 11: 02. 938  00: 11: 04. 575 Dişi  Karabaş  balığı 00: 11: 17. 310  00: 11: 22. 044 Burada  da  aynı  şekilde  Deniz  cevizi  ve  Beroe  ovatalar 00: 11: 22. 044  00: 11: 24. 044 yüze  yakın  bolca  bulunuyor 00: 11: 39. 462  00: 11: 43. 313 parıldayan  bu  canlılar  muazzam  dengenin  birer  ürünü 00: 11: 52. 560  00: 11: 56. 460 bu  Beroe  ovata  ikinci  Minemiopsis' i  yiyor 00: 12: 04. 900  00: 12: 08. 355 sindirimi  tamamlayan  uç  kısımdan  dışkılıyor 00: 12: 13. 196  00: 12: 16. 772 yüzeyde  Papaz  ve  küçük  Karagözler 00: 12: 21. 105  00: 12: 25. 028 40  metre  doğru  derinleşen  bölgede  dalış  yapıyorum 00: 12: 28. 643  00: 12: 31. 764 10  metreden  sonra  soğuk  ve  karanlık 00: 12: 35. 871  00: 12: 38. 937 3mm  kıyafetle  üşüdüğüm  için  geri  dönüyorum 00: 12: 49. 082  00: 12: 51. 273 çok  sayıda  papaz  balığı  var 00: 13: 06. 139  00: 13: 09. 764 buradaki  bir  oyukta  eğlenmeyi  de  ihmal  etmiyoruz 00: 13: 14. 116  00: 13: 17. 860 adanın  kuzey  tarafı  ise  1- 2  metre  derinlikte 00: 13: 23. 629  00: 13: 27. 134 Neandros  ve  Balıkçı  Adası  olarak  da  bilinen  bu  adada 00: 13: 27. 387  00: 13: 29. 123 bolca  Deniz  örümceği  var 00: 13: 30. 709  00: 13: 32. 903 diğer  yengeçler  ısırmaya  çalışır 00: 13: 33. 476  00: 13: 35. 665 fakat  bu  tür  çok  çekingendir 00: 13: 37. 230  00: 13: 39. 230 bir  üzerinde  bitki  oluşmuş  bu  örümcek 00: 13: 39. 695  00: 13: 42. 190 ve  benzeri  canlıların  korunabilmesi  için 00: 13: 42. 190  00: 13: 44. 785 bu  ada  Nisan  2021' de 00: 13: 44. 786  00: 13: 49. 717 Cumhurbaşkanlığı  kararı  ile  kesin  korunacak  alan  ilan  edilmiştir 00: 14: 01. 672  00: 14: 07. 522 kuzeye  doğru  ilerlediğimizde  zeminde  sadece  midye  ve  kestaneler  var 00: 14: 19. 579  00: 14: 21. 197 buradan  Büyükada' ya 00: 14: 21. 197  00: 14: 24. 785 Pendik' te  ağladığımız  balıklardan  pişirmek  için  geçiyoruz 00: 14: 52. 160  00: 14: 59. 550 burada  bırakılan  çöplerin  dışında  temiz  ve  huzurlu  bir  yer 00: 15: 27. 662  00: 15: 30. 140 videoyu  faydalı  bulduysanız  beğenmeyi 00: 15: 30. 356  00: 15: 32. 950 sonraki  videolar  için  abone  olmayı  unutmayın. WEBVTT Kind: captions Language: tr 00: 00: 00. 000  00: 00: 19. 300 00: 00: 19. 360  00: 00: 38. 560 00: 00: 38. 600  00: 00: 43. 260 Dam  başında  sarı  çiçek  oy  oy 00: 00: 43. 380  00: 00: 48. 080 Dam  başında  sarı  çiçek  oy  oy 00: 00: 48. 140  00: 00: 52. 940 Burdan  kalkıp  Ürgüp' e  göçek Nenni  de  Feride' 00: 00: 52. 980  00: 00: 57. 700 Burdan  kalkıp  Ürgüp' e  göçek Nenni  de  Feride' 00: 00: 57. 760  00: 01: 02. 440 Ürgüp' e  vardığımız  gece  oy  oy 00: 01: 02. 580  00: 01: 07. 220 Ürgüp' e  vardığımız  gece  oy  oy 00: 01: 07. 220  00: 01: 12. 120 Hak  yoluna  kurban  kesek Nenni  de  Feride' 00: 01: 12. 160  00: 01: 16. 880 Hak  yoluna  kurban  kesek Nenni  de  Feride' 00: 01: 16. 940  00: 01: 21. 720 Hak  yoluna  kurban  kesek Nenni  de  Feride' 00: 01: 21. 920  00: 01: 26. 400 Hak  yoluna  kurban  kesek Nenni  de  Feride' 00: 01: 26. 400  00: 01: 55. 200 00: 01: 55. 360  00: 01: 59. 680 Gidiyorum  işte  gör  oy  oy 00: 02: 00. 080  00: 02: 04. 600 Gidiyorum  işte  gör  oy  oy 00: 02: 04. 920  00: 02: 09. 480 Hayalde  gör  düşte  gör Nenni  de  Feride' 00: 02: 09. 640  00: 02: 14. 200 Hayalde  gör  düşte  gör Nenni  de  Feride' 00: 02: 14. 440  00: 02: 18. 920 Gıymatımı  bilmedin  oy  oy 00: 02: 19. 200  00: 02: 23. 940 Gıymatımı  bilmedin  oy  oy 00: 02: 24. 120  00: 02: 28. 700 Bir  kötüye  düş  de  gör Nenni  de  Feride' 00: 02: 28. 920  00: 02: 33. 580 Bir  kötüye  düş  de  gör Nenni  de  Feride' 00: 02: 33. 740  00: 02: 38. 400 Bir  kötüye  düş  de  gör Nenni  de  Feride' 00: 02: 38. 540  00: 02: 43. 200 Bir  kötüye  düş  de  gör Nenni  de  Feride' 00: 02: 43. 360  00: 03: 02. 340 Percussion  Emprovize 00: 03: 02. 560  00: 03: 28. 940 00: 03: 28. 940  00: 03: 37. 600 Nenni  de  Feride' Islık.\""
      ]
     },
     "execution_count": 42,
     "metadata": {},
     "output_type": "execute_result"
    }
   ],
   "source": [
    "var1 = re.findall(r'\\w+.', text_data_clean_brackets)\n",
    "var2 = \" \".join(var1)\n",
    "var2"
   ]
  },
  {
   "cell_type": "code",
   "execution_count": 43,
   "metadata": {},
   "outputs": [
    {
     "data": {
      "text/plain": [
       "\"WEBVTT Kind: captions Language: tr : : .   : : .  Bu  videoda  Darıca  ve  Adalar  arasında  dalış : : .   : : .  küçük  balıkların  değişimi : : .   : : .  ilk  defa  göreceğiniz  detaylar : : .   : : .  ve  balık  avı  izleyeceksiniz : : .   : : .  Darıca : : .   : : .  İstanbul' a  yakın  Kocaeli' nin  bir  ilçesi : : .   : : .  beş  metrelik  kumluk  bir  alana  dalış  yapıyorum : : .   : : .  biraz  ilerlediğinde  uzun  ağzıyla  kumu  eşeleyen  büyük  bir  vatoz : : .   : : .  Marmara' da  pek  rastlanılmayan  Kartal  Vatozu : : .   : : .  diğer  adıyla  Fulya  Balığı : : .   : : .  uzun  kuyruk  ve  ağız  yapısı  ile  kolayca  ayırt  edilebilir : : .   : : .  bu  tür  daha  çok  okyanuslarda  ve  Akdeniz' de  görülür : : .   : : .  Marmara' ya  kadar  gelen  bu  tür  insanlar  için  zararsızdır : : .   : : .  Deniz  hıyarı : : .   : : .  bu  ise  Marmara' da  gördüğümüz  yıldızlardan  farklı : : .   : : .  astropecten  türü  bir  denizyıldızı : : .   : : .  dev  midiye  planın  dibindeki : : .   : : .  genelde  gördüğümüz  denizyıldızı  türü  Asterias  rubens : : .   : : .  küçük  pinna : : .   : : .  Anemon : : .   : : .  kestane  ve  midyeler : : .   : : .  Marmara' da  : : .   : : .  burada  olduğu  gibi  güneş  gören  bazı  bölgelerde  de : : .   : : .  deniz  çayırları  ile  karşılaşıyorum : : .   : : .  bu  küçük  iki  balıkta  eşkina  yavrusu : : .   : : .  boyutlarda  olanlar  genellikle  deniz  marulların  arasında  yaşıyor : : .   : : .  eşkiyaların  daha  küçük  hali  ve  büyükleri  birbirinden  çok  farklı : : .   : : .  farklılık  birçok  tür  için  geçerli : : .   : : .  bu  yeşil  balıkta  kikla  yavrusu : : .   : : .  yazılı  hani  yavrusu : : .   : : .  saklandığını  sanan  lapin : : .   : : .  gemilerin  balast  suyu  ile  sularımıza  gelen : : .   : : .  hamsi  kırıklığına  sebep  olan  Mnemiopsis  leidyi : : .   : : .  diğer  adıyla  deniz  cevizi : : .   : : .  yine  aynı  yollardan  sonradan  gelen : : .   : : .  Beroe  ovata  denizanası : : .   : : .  deniz  cevizlerini  yutarak  hapsediyor : : .   : : .  ardından  parçalayarak  sindiriyor : : .   : : .  denizanalarının  beyni  ve  gözleri  yoktur : : .   : : .  fakat  beroe  ovatalar  mnemiopsis' leri  bularak  dengeyi  sağlıyor : : .   : : .  bu  ikili  arasındaki  besin  zinciri  sayesinde : : .   : : .  küçük  balık  popülasyonu  tekrar  dengelendi : : .   : : .    metrede  batmış  bir  tekne : : .   : : .    metre  de  beton  bloklar : : .   : : .  devam  eden  boru  hattını  destekleyen  bu  betonların  aralarında : : .   : : .  kikla' lar  var : : .   : : .  ilerledikçe  derinlik  arttığı  için : : .   : : .  yukarı  çıkacağım  anda  iri  bir  kikla' ya  atış  yapıyorum : : .   : : .  küçüğü  tamamen  yeşil  olan  kikla' nın  avlanabilir  boydaki  hali : : .   : : .  Pendik : : .   : : .  aşağı  indiğimde  . saniyede  gördüğüm  balığı  atış  yapıyorum : : .   : : .  sessizce  yosunların  arasında  inip  gizlenmek : : .   : : .  balığı  ürkütmeden  atış  fırsatı  veriyor : : .   : : .  kiloya  yakın  Baltabaş  Karagöz : : .   : : .  Diplodus  sargus  Akdeniz  Bölgesi' nde  Sargoz  olarak  da  bilinir : : .   : : .  tekrar  saklanarak  bekliyorum  bu  kez  Kefaller  geçiyor : : .   : : .  daha  derine  inip  çağrı  yapıyorum : : .   : : .  gelen  Mırmır  sürüsü : : .   : : .  agaşonda  ses  çıkartarak  balıkları  çekmeye  çalışıyorum : : .   : : .  bir  dakika  sonra  balık  göremeyince  ilerliyorum : : .   : : .  yükseleceğim  anda  Karagöz  sürüsü  geliyor : : .   : : .  ıska : : .   : : .  tekrar  beklerken  bu  kez  soldan  geldiler : : .   : : .  ve  isabetli  atış : : .   : : .  iri  bir  Sivriburun  Karagöz : : .   : : .  Adalar  bölgesinde  Büyük  Ada' nın  güneyindeki : : .   : : .  Tavşan  Adası' na  dalış  yapıyoruz : : .   : : .  adanın  güney  batısı    metreden    metreye  derinleşiyor : : .   : : .  kayaların  arasında  küçük  sargozlar  ve  kiklalar  var : : .   : : .  iri  bir  kikla : : .   : : .  en  çok  karşılaşılan  vatoz  türlerinden  dikenli  vatoz : : .   : : .  kayaların  üzerinde  büyük  deniz  süngeri : : .   : : .  birçok  boyutta  ve  renkte  süngerler : : .   : : .  Dişi  Karabaş  balığı : : .   : : .  Burada  da  aynı  şekilde  Deniz  cevizi  ve  Beroe  ovatalar : : .   : : .  yüze  yakın  bolca  bulunuyor : : .   : : .  parıldayan  bu  canlılar  muazzam  dengenin  birer  ürünü : : .   : : .  bu  Beroe  ovata  ikinci  Minemiopsis' i  yiyor : : .   : : .  sindirimi  tamamlayan  uç  kısımdan  dışkılıyor : : .   : : .  yüzeyde  Papaz  ve  küçük  Karagözler : : .   : : .    metre  doğru  derinleşen  bölgede  dalış  yapıyorum : : .   : : .    metreden  sonra  soğuk  ve  karanlık : : .   : : .  mm  kıyafetle  üşüdüğüm  için  geri  dönüyorum : : .   : : .  çok  sayıda  papaz  balığı  var : : .   : : .  buradaki  bir  oyukta  eğlenmeyi  de  ihmal  etmiyoruz : : .   : : .  adanın  kuzey  tarafı  ise  -   metre  derinlikte : : .   : : .  Neandros  ve  Balıkçı  Adası  olarak  da  bilinen  bu  adada : : .   : : .  bolca  Deniz  örümceği  var : : .   : : .  diğer  yengeçler  ısırmaya  çalışır : : .   : : .  fakat  bu  tür  çok  çekingendir : : .   : : .  bir  üzerinde  bitki  oluşmuş  bu  örümcek : : .   : : .  ve  benzeri  canlıların  korunabilmesi  için : : .   : : .  bu  ada  Nisan  ' de : : .   : : .  Cumhurbaşkanlığı  kararı  ile  kesin  korunacak  alan  ilan  edilmiştir : : .   : : .  kuzeye  doğru  ilerlediğimizde  zeminde  sadece  midye  ve  kestaneler  var : : .   : : .  buradan  Büyükada' ya : : .   : : .  Pendik' te  ağladığımız  balıklardan  pişirmek  için  geçiyoruz : : .   : : .  burada  bırakılan  çöplerin  dışında  temiz  ve  huzurlu  bir  yer : : .   : : .  videoyu  faydalı  bulduysanız  beğenmeyi : : .   : : .  sonraki  videolar  için  abone  olmayı  unutmayın. WEBVTT Kind: captions Language: tr : : .   : : .  : : .   : : .  : : .   : : .  Dam  başında  sarı  çiçek  oy  oy : : .   : : .  Dam  başında  sarı  çiçek  oy  oy : : .   : : .  Burdan  kalkıp  Ürgüp' e  göçek Nenni  de  Feride' : : .   : : .  Burdan  kalkıp  Ürgüp' e  göçek Nenni  de  Feride' : : .   : : .  Ürgüp' e  vardığımız  gece  oy  oy : : .   : : .  Ürgüp' e  vardığımız  gece  oy  oy : : .   : : .  Hak  yoluna  kurban  kesek Nenni  de  Feride' : : .   : : .  Hak  yoluna  kurban  kesek Nenni  de  Feride' : : .   : : .  Hak  yoluna  kurban  kesek Nenni  de  Feride' : : .   : : .  Hak  yoluna  kurban  kesek Nenni  de  Feride' : : .   : : .  : : .   : : .  Gidiyorum  işte  gör  oy  oy : : .   : : .  Gidiyorum  işte  gör  oy  oy : : .   : : .  Hayalde  gör  düşte  gör Nenni  de  Feride' : : .   : : .  Hayalde  gör  düşte  gör Nenni  de  Feride' : : .   : : .  Gıymatımı  bilmedin  oy  oy : : .   : : .  Gıymatımı  bilmedin  oy  oy : : .   : : .  Bir  kötüye  düş  de  gör Nenni  de  Feride' : : .   : : .  Bir  kötüye  düş  de  gör Nenni  de  Feride' : : .   : : .  Bir  kötüye  düş  de  gör Nenni  de  Feride' : : .   : : .  Bir  kötüye  düş  de  gör Nenni  de  Feride' : : .   : : .  Percussion  Emprovize : : .   : : .  : : .   : : .  Nenni  de  Feride' Islık.\""
      ]
     },
     "execution_count": 43,
     "metadata": {},
     "output_type": "execute_result"
    }
   ],
   "source": [
    "var3 = re.sub(r'[0-9]', '', var2) # Remove digit\n",
    "var3"
   ]
  },
  {
   "cell_type": "code",
   "execution_count": 44,
   "metadata": {},
   "outputs": [
    {
     "data": {
      "text/plain": [
       "\"   .     .  Bu  videoda  Darıca  ve  Adalar  arasında  dalış   .     .  küçük  balıkların  değişimi   .     .  ilk  defa  göreceğiniz  detaylar   .     .  ve  balık  avı  izleyeceksiniz   .     .  Darıca   .     .  İstanbul' a  yakın  Kocaeli' nin  bir  ilçesi   .     .  beş  metrelik  kumluk  bir  alana  dalış  yapıyorum   .     .  biraz  ilerlediğinde  uzun  ağzıyla  kumu  eşeleyen  büyük  bir  vatoz   .     .  Marmara' da  pek  rastlanılmayan  Kartal  Vatozu   .     .  diğer  adıyla  Fulya  Balığı   .     .  uzun  kuyruk  ve  ağız  yapısı  ile  kolayca  ayırt  edilebilir   .     .  bu  tür  daha  çok  okyanuslarda  ve  Akdeniz' de  görülür   .     .  Marmara' ya  kadar  gelen  bu  tür  insanlar  için  zararsızdır   .     .  Deniz  hıyarı   .     .  bu  ise  Marmara' da  gördüğümüz  yıldızlardan  farklı   .     .  astropecten  türü  bir  denizyıldızı   .     .  dev  midiye  planın  dibindeki   .     .  genelde  gördüğümüz  denizyıldızı  türü  Asterias  rubens   .     .  küçük  pinna   .     .  Anemon   .     .  kestane  ve  midyeler   .     .  Marmara' da    .     .  burada  olduğu  gibi  güneş  gören  bazı  bölgelerde  de   .     .  deniz  çayırları  ile  karşılaşıyorum   .     .  bu  küçük  iki  balıkta  eşkina  yavrusu   .     .  boyutlarda  olanlar  genellikle  deniz  marulların  arasında  yaşıyor   .     .  eşkiyaların  daha  küçük  hali  ve  büyükleri  birbirinden  çok  farklı   .     .  farklılık  birçok  tür  için  geçerli   .     .  bu  yeşil  balıkta  kikla  yavrusu   .     .  yazılı  hani  yavrusu   .     .  saklandığını  sanan  lapin   .     .  gemilerin  balast  suyu  ile  sularımıza  gelen   .     .  hamsi  kırıklığına  sebep  olan  Mnemiopsis  leidyi   .     .  diğer  adıyla  deniz  cevizi   .     .  yine  aynı  yollardan  sonradan  gelen   .     .  Beroe  ovata  denizanası   .     .  deniz  cevizlerini  yutarak  hapsediyor   .     .  ardından  parçalayarak  sindiriyor   .     .  denizanalarının  beyni  ve  gözleri  yoktur   .     .  fakat  beroe  ovatalar  mnemiopsis' leri  bularak  dengeyi  sağlıyor   .     .  bu  ikili  arasındaki  besin  zinciri  sayesinde   .     .  küçük  balık  popülasyonu  tekrar  dengelendi   .     .    metrede  batmış  bir  tekne   .     .    metre  de  beton  bloklar   .     .  devam  eden  boru  hattını  destekleyen  bu  betonların  aralarında   .     .  kikla' lar  var   .     .  ilerledikçe  derinlik  arttığı  için   .     .  yukarı  çıkacağım  anda  iri  bir  kikla' ya  atış  yapıyorum   .     .  küçüğü  tamamen  yeşil  olan  kikla' nın  avlanabilir  boydaki  hali   .     .  Pendik   .     .  aşağı  indiğimde  . saniyede  gördüğüm  balığı  atış  yapıyorum   .     .  sessizce  yosunların  arasında  inip  gizlenmek   .     .  balığı  ürkütmeden  atış  fırsatı  veriyor   .     .  kiloya  yakın  Baltabaş  Karagöz   .     .  Diplodus  sargus  Akdeniz  Bölgesi' nde  Sargoz  olarak  da  bilinir   .     .  tekrar  saklanarak  bekliyorum  bu  kez  Kefaller  geçiyor   .     .  daha  derine  inip  çağrı  yapıyorum   .     .  gelen  Mırmır  sürüsü   .     .  agaşonda  ses  çıkartarak  balıkları  çekmeye  çalışıyorum   .     .  bir  dakika  sonra  balık  göremeyince  ilerliyorum   .     .  yükseleceğim  anda  Karagöz  sürüsü  geliyor   .     .  ıska   .     .  tekrar  beklerken  bu  kez  soldan  geldiler   .     .  ve  isabetli  atış   .     .  iri  bir  Sivriburun  Karagöz   .     .  Adalar  bölgesinde  Büyük  Ada' nın  güneyindeki   .     .  Tavşan  Adası' na  dalış  yapıyoruz   .     .  adanın  güney  batısı    metreden    metreye  derinleşiyor   .     .  kayaların  arasında  küçük  sargozlar  ve  kiklalar  var   .     .  iri  bir  kikla   .     .  en  çok  karşılaşılan  vatoz  türlerinden  dikenli  vatoz   .     .  kayaların  üzerinde  büyük  deniz  süngeri   .     .  birçok  boyutta  ve  renkte  süngerler   .     .  Dişi  Karabaş  balığı   .     .  Burada  da  aynı  şekilde  Deniz  cevizi  ve  Beroe  ovatalar   .     .  yüze  yakın  bolca  bulunuyor   .     .  parıldayan  bu  canlılar  muazzam  dengenin  birer  ürünü   .     .  bu  Beroe  ovata  ikinci  Minemiopsis' i  yiyor   .     .  sindirimi  tamamlayan  uç  kısımdan  dışkılıyor   .     .  yüzeyde  Papaz  ve  küçük  Karagözler   .     .    metre  doğru  derinleşen  bölgede  dalış  yapıyorum   .     .    metreden  sonra  soğuk  ve  karanlık   .     .  mm  kıyafetle  üşüdüğüm  için  geri  dönüyorum   .     .  çok  sayıda  papaz  balığı  var   .     .  buradaki  bir  oyukta  eğlenmeyi  de  ihmal  etmiyoruz   .     .  adanın  kuzey  tarafı  ise     metre  derinlikte   .     .  Neandros  ve  Balıkçı  Adası  olarak  da  bilinen  bu  adada   .     .  bolca  Deniz  örümceği  var   .     .  diğer  yengeçler  ısırmaya  çalışır   .     .  fakat  bu  tür  çok  çekingendir   .     .  bir  üzerinde  bitki  oluşmuş  bu  örümcek   .     .  ve  benzeri  canlıların  korunabilmesi  için   .     .  bu  ada  Nisan  ' de   .     .  Cumhurbaşkanlığı  kararı  ile  kesin  korunacak  alan  ilan  edilmiştir   .     .  kuzeye  doğru  ilerlediğimizde  zeminde  sadece  midye  ve  kestaneler  var   .     .  buradan  Büyükada' ya   .     .  Pendik' te  ağladığımız  balıklardan  pişirmek  için  geçiyoruz   .     .  burada  bırakılan  çöplerin  dışında  temiz  ve  huzurlu  bir  yer   .     .  videoyu  faydalı  bulduysanız  beğenmeyi   .     .  sonraki  videolar  için  abone  olmayı  unutmayın.    .     .    .     .    .     .  Dam  başında  sarı  çiçek  oy  oy   .     .  Dam  başında  sarı  çiçek  oy  oy   .     .  Burdan  kalkıp  Ürgüp' e  göçek Nenni  de  Feride'   .     .  Burdan  kalkıp  Ürgüp' e  göçek Nenni  de  Feride'   .     .  Ürgüp' e  vardığımız  gece  oy  oy   .     .  Ürgüp' e  vardığımız  gece  oy  oy   .     .  Hak  yoluna  kurban  kesek Nenni  de  Feride'   .     .  Hak  yoluna  kurban  kesek Nenni  de  Feride'   .     .  Hak  yoluna  kurban  kesek Nenni  de  Feride'   .     .  Hak  yoluna  kurban  kesek Nenni  de  Feride'   .     .    .     .  Gidiyorum  işte  gör  oy  oy   .     .  Gidiyorum  işte  gör  oy  oy   .     .  Hayalde  gör  düşte  gör Nenni  de  Feride'   .     .  Hayalde  gör  düşte  gör Nenni  de  Feride'   .     .  Gıymatımı  bilmedin  oy  oy   .     .  Gıymatımı  bilmedin  oy  oy   .     .  Bir  kötüye  düş  de  gör Nenni  de  Feride'   .     .  Bir  kötüye  düş  de  gör Nenni  de  Feride'   .     .  Bir  kötüye  düş  de  gör Nenni  de  Feride'   .     .  Bir  kötüye  düş  de  gör Nenni  de  Feride'   .     .  Percussion  Emprovize   .     .    .     .  Nenni  de  Feride' Islık.\""
      ]
     },
     "execution_count": 44,
     "metadata": {},
     "output_type": "execute_result"
    }
   ],
   "source": [
    "custom_char = [\"-\",\"#\",\"~\",\"*\",\"/\",\"WEBVTT Kind: captions Language: en\", \"WEBVTT Kind: captions Language: tr\",\":\"]\n",
    "for i in custom_char:\n",
    "    var3 = var3.replace(i, '')  # must be equal each other\n",
    "var3"
   ]
  },
  {
   "cell_type": "code",
   "execution_count": null,
   "metadata": {},
   "outputs": [],
   "source": []
  },
  {
   "cell_type": "code",
   "execution_count": null,
   "metadata": {},
   "outputs": [],
   "source": [
    "video_items = re.findall(r'(\"videoId\": \"\\w+.\")', json_object)\n",
    "print(video_items)"
   ]
  },
  {
   "cell_type": "code",
   "execution_count": null,
   "metadata": {},
   "outputs": [],
   "source": [
    "00:00:00.000 --> 00:00:19.300"
   ]
  },
  {
   "cell_type": "code",
   "execution_count": 21,
   "metadata": {},
   "outputs": [
    {
     "name": "stdout",
     "output_type": "stream",
     "text": [
      "['00:00:00.000 --> 00:00:19.300', '00:00:19.360 --> 00:00:38.560', '00:00:38.600 --> 00:00:43.260', '00:00:43.380 --> 00:00:48.080', '00:00:48.140 --> 00:00:52.940', '00:00:52.980 --> 00:00:57.700', '00:00:57.760 --> 00:01:02.440', '00:01:02.580 --> 00:01:07.220', '00:01:07.220 --> 00:01:12.120', '00:01:12.160 --> 00:01:16.880', '00:01:16.940 --> 00:01:21.720', '00:01:21.920 --> 00:01:26.400', '00:01:26.400 --> 00:01:55.200', '00:01:55.360 --> 00:01:59.680', '00:02:00.080 --> 00:02:04.600', '00:02:04.920 --> 00:02:09.480', '00:02:09.640 --> 00:02:14.200', '00:02:14.440 --> 00:02:18.920', '00:02:19.200 --> 00:02:23.940', '00:02:24.120 --> 00:02:28.700', '00:02:28.920 --> 00:02:33.580', '00:02:33.740 --> 00:02:38.400', '00:02:38.540 --> 00:02:43.200', '00:02:43.360 --> 00:03:02.340', '00:03:02.560 --> 00:03:28.940', '00:03:28.940 --> 00:03:37.600']\n"
     ]
    }
   ],
   "source": [
    "video_items = re.findall(r\"(\\d\\d:\\d\\d:\\d\\d.\\d\\d\\d --> \\d\\d:\\d\\d:\\d\\d.\\d\\d\\d)\", text)\n",
    "print(video_items)"
   ]
  },
  {
   "cell_type": "code",
   "execution_count": 35,
   "metadata": {},
   "outputs": [
    {
     "data": {
      "text/plain": [
       "\"WEBVTT\\nKind: captions\\nLanguage: tr\\n\\n00:00:00.000 --> 00:00:19.300\\n(Gitar intro çalıyor)\\n\\n00:00:19.360 --> 00:00:38.560\\n(Orkestra da müziğe dahil oluyor)\\n\\n00:00:38.600 --> 00:00:43.260\\nDam başında sarı çiçek oy oy\\n\\n00:00:43.380 --> 00:00:48.080\\nDam başında sarı çiçek oy oy\\n\\n00:00:48.140 --> 00:00:52.940\\nBurdan kalkıp Ürgüp'e göçek\\nNenni de Feride'm\\n\\n00:00:52.980 --> 00:00:57.700\\nBurdan kalkıp Ürgüp'e göçek\\nNenni de Feride'm\\n\\n00:00:57.760 --> 00:01:02.440\\nÜrgüp'e vardığımız gece oy oy\\n\\n00:01:02.580 --> 00:01:07.220\\nÜrgüp'e vardığımız gece oy oy\\n\\n00:01:07.220 --> 00:01:12.120\\nHak yoluna kurban kesek\\nNenni de Feride'm\\n\\n00:01:12.160 --> 00:01:16.880\\nHak yoluna kurban kesek\\nNenni de Feride'm\\n\\n00:01:16.940 --> 00:01:21.720\\nHak yoluna kurban kesek\\nNenni de Feride'm\\n\\n00:01:21.920 --> 00:01:26.400\\nHak yoluna kurban kesek\\nNenni de Feride'm\\n\\n00:01:26.400 --> 00:01:55.200\\n(Orkestra / Akustik gitar ve Saxophone melodi çalıyor)\\n\\n00:01:55.360 --> 00:01:59.680\\nGidiyorum işte gör oy oy\\n\\n00:02:00.080 --> 00:02:04.600\\nGidiyorum işte gör oy oy\\n\\n00:02:04.920 --> 00:02:09.480\\nHayalde gör düşte gör\\nNenni de Feride'm\\n\\n00:02:09.640 --> 00:02:14.200\\nHayalde gör düşte gör\\nNenni de Feride'm\\n\\n00:02:14.440 --> 00:02:18.920\\nGıymatımı (kıymetimi) bilmedin oy oy\\n\\n00:02:19.200 --> 00:02:23.940\\nGıymatımı (kıymetimi) bilmedin oy oy\\n\\n00:02:24.120 --> 00:02:28.700\\nBir kötüye düş de gör\\nNenni de Feride'm\\n\\n00:02:28.920 --> 00:02:33.580\\nBir kötüye düş de gör\\nNenni de Feride'm\\n\\n00:02:33.740 --> 00:02:38.400\\nBir kötüye düş de gör\\nNenni de Feride'm\\n\\n00:02:38.540 --> 00:02:43.200\\nBir kötüye düş de gör\\nNenni de Feride'm\\n\\n00:02:43.360 --> 00:03:02.340\\nPercussion (Djembe) Emprovize\\n\\n00:03:02.560 --> 00:03:28.940\\n(Orkestra / Akustik gitar ve Saxophone melodi çalıyor)\\n(outro)\\n\\n00:03:28.940 --> 00:03:37.600\\nNenni de Feride'm\\nIslık...\\n\\n\""
      ]
     },
     "execution_count": 35,
     "metadata": {},
     "output_type": "execute_result"
    }
   ],
   "source": [
    "text"
   ]
  },
  {
   "cell_type": "code",
   "execution_count": 36,
   "metadata": {},
   "outputs": [],
   "source": [
    "var = re.search(r\"(\\d\\d:\\d\\d:\\d\\d.\\d\\d\\d --> \\d\\d:\\d\\d:\\d\\d.\\d\\d\\d)(.*?)(\\d\\d:\\d\\d:\\d\\d.\\d\\d\\d --> \\d\\d:\\d\\d:\\d\\d.\\d\\d\\d)\", text)"
   ]
  },
  {
   "cell_type": "code",
   "execution_count": null,
   "metadata": {},
   "outputs": [],
   "source": [
    "(\\d\\d:\\d\\d:\\d\\d.\\d\\d\\d --> \\d\\d:\\d\\d:\\d\\d.\\d\\d\\d\\\\n\\w+)"
   ]
  },
  {
   "cell_type": "code",
   "execution_count": null,
   "metadata": {},
   "outputs": [],
   "source": [
    "\\d\\d:\\d\\d:\\d\\d.\\d\\d\\d --> \\d\\d:\\d\\d:\\d\\d.\\d\\d\\d\\\\n(.*?)\\\\n"
   ]
  }
 ],
 "metadata": {
  "interpreter": {
   "hash": "651d507d70892fab0fc6529d935cd476f6e2eb1791525b76da6cc8da34bc0503"
  },
  "kernelspec": {
   "display_name": "Python 3.9.5 64-bit ('py39': conda)",
   "language": "python",
   "name": "python3"
  },
  "language_info": {
   "codemirror_mode": {
    "name": "ipython",
    "version": 3
   },
   "file_extension": ".py",
   "mimetype": "text/x-python",
   "name": "python",
   "nbconvert_exporter": "python",
   "pygments_lexer": "ipython3",
   "version": "3.9.5"
  },
  "orig_nbformat": 4
 },
 "nbformat": 4,
 "nbformat_minor": 2
}
