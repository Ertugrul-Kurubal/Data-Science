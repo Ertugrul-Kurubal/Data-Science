{
 "cells": [
  {
   "cell_type": "code",
   "execution_count": null,
   "metadata": {},
   "outputs": [],
   "source": [
    "#!pip install youtube-dl"
   ]
  },
  {
   "cell_type": "code",
   "execution_count": null,
   "metadata": {},
   "outputs": [],
   "source": [
    "import youtube_dl"
   ]
  },
  {
   "cell_type": "code",
   "execution_count": null,
   "metadata": {},
   "outputs": [],
   "source": [
    "import os\n",
    "import glob\n",
    "videolist = [\"Fu9OTkHtmrw\",\"DKTAB8HgIwc\"]\n",
    "count_1 = 0\n",
    "text_list = []\n",
    "for i in videolist:\n",
    "    try:\n",
    "        ydl_opts = {'writesubtitles':True,'merge_output_format':'txt','skip_download':True, 'outtmpl':f'subt{count_1}'}\n",
    "        var_out = youtube_dl.YoutubeDL(ydl_opts).download([f\"https://www.youtube.com/watch?v={i}\"])\n",
    "    except:\n",
    "        pass\n",
    "    down_file = glob.glob('*.vtt')\n",
    "    for j in down_file:\n",
    "        try:\n",
    "            with open(f\"{j}\", encoding='utf8') as file:\n",
    "                text = file.read()\n",
    "                text_list.append(text) \n",
    "        except:\n",
    "            pass\n",
    "        os.remove(j) \n",
    "    count_1 += 1\n",
    "print(text_list)              \n",
    "    "
   ]
  },
  {
   "cell_type": "code",
   "execution_count": null,
   "metadata": {},
   "outputs": [],
   "source": [
    "text = \" \".join(text_list)\n",
    "text"
   ]
  },
  {
   "cell_type": "code",
   "execution_count": null,
   "metadata": {},
   "outputs": [],
   "source": [
    "text_data_clean_brackets = re.sub('[\\(\\[\\{].*?[\\)\\]\\}]', '', text)\n",
    "text_data_clean_brackets"
   ]
  },
  {
   "cell_type": "code",
   "execution_count": null,
   "metadata": {},
   "outputs": [],
   "source": [
    "var1 = re.findall(r'\\w+.', text_data_clean_brackets)\n",
    "var2 = \" \".join(var1)\n",
    "var2"
   ]
  },
  {
   "cell_type": "code",
   "execution_count": null,
   "metadata": {},
   "outputs": [],
   "source": []
  },
  {
   "cell_type": "code",
   "execution_count": null,
   "metadata": {},
   "outputs": [],
   "source": []
  },
  {
   "cell_type": "code",
   "execution_count": null,
   "metadata": {},
   "outputs": [],
   "source": []
  }
 ],
 "metadata": {
  "language_info": {
   "name": "python"
  },
  "orig_nbformat": 4
 },
 "nbformat": 4,
 "nbformat_minor": 2
}
