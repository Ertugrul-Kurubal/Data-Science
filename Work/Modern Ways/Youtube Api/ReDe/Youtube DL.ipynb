{
 "cells": [
  {
   "cell_type": "code",
   "execution_count": null,
   "metadata": {},
   "outputs": [],
   "source": [
    "#!pip install youtube-dl"
   ]
  },
  {
   "cell_type": "code",
   "execution_count": 1,
   "metadata": {},
   "outputs": [],
   "source": [
    "import pandas as pd\n",
    "import numpy as np\n",
    "import re\n",
    "import youtube_dl"
   ]
  },
  {
   "cell_type": "code",
   "execution_count": 2,
   "metadata": {},
   "outputs": [
    {
     "name": "stdout",
     "output_type": "stream",
     "text": [
      "[youtube] Fu9OTkHtmrw: Downloading webpage\n",
      "[info] Writing video subtitles to: subt0.en.vtt\n",
      "[youtube] DKTAB8HgIwc: Downloading webpage\n",
      "[info] Writing video subtitles to: subt1.tr.vtt\n",
      "['WEBVTT\\nKind: captions\\nLanguage: en\\n\\n00:00:01.360 --> 00:00:07.410\\nNinni de kuzum bebeğim\\n\\n00:00:07.410 --> 00:00:14.110\\nMis gibi uyu bebeğim\\n\\n00:00:14.110 --> 00:00:19.720\\nUsul usul yavaşça\\n\\n00:00:19.720 --> 00:00:25.780\\nMeleklerin yanında\\n\\n00:00:25.880 --> 00:00:31.420\\nBahçeler yeşerecek\\n\\n00:00:31.520 --> 00:00:37.180\\nKuzuma yemiş verecek\\n\\n00:00:37.240 --> 00:00:43.100\\nHasır beşikte uykuda\\n\\n00:00:43.100 --> 00:00:49.000\\nPamuk rüyalar görecek\\n\\n00:00:49.020 --> 00:00:55.170\\nNinni de kuzum bebeğim\\n\\n00:00:55.170 --> 00:01:01.420\\nMis gibi uyu bebeğim\\n\\n00:01:01.480 --> 00:01:07.440\\nNinni de kuzum bebeğim\\n\\n00:01:07.520 --> 00:01:13.680\\nMis gibi uyu bebeğim\\n\\n00:01:13.760 --> 00:01:19.500\\nNinni de kuzum bebeğim\\n\\n00:01:19.500 --> 00:01:25.440\\nMis gibi uyu bebeğim\\n\\n00:01:25.580 --> 00:01:31.180\\nUsul usul yavaşça\\n\\n00:01:31.280 --> 00:01:36.800\\nMeleklerin yanında\\n\\n00:01:36.880 --> 00:01:42.460\\nBaşucunda kuşlarla\\n\\n00:01:42.620 --> 00:01:48.160\\nSaçlarında rüzgarla\\n\\n00:01:48.160 --> 00:01:53.700\\nUyusun güzel bebek\\n\\n00:01:53.780 --> 00:01:59.620\\nBüyüsün güzel bebek\\n\\n00:01:59.640 --> 00:02:05.360\\nNinni de kuzum bebeğim\\n\\n00:02:05.400 --> 00:02:11.580\\nMis gibi uyu bebeğim\\n\\n00:02:11.680 --> 00:02:17.740\\nNinni de kuzum bebeğim\\n\\n00:02:17.820 --> 00:02:24.140\\nMis gibi uyu bebeğim\\n\\n', \"WEBVTT\\nKind: captions\\nLanguage: tr\\n\\n00:00:00.000 --> 00:00:19.300\\n(Gitar intro çalıyor)\\n\\n00:00:19.360 --> 00:00:38.560\\n(Orkestra da müziğe dahil oluyor)\\n\\n00:00:38.600 --> 00:00:43.260\\nDam başında sarı çiçek oy oy\\n\\n00:00:43.380 --> 00:00:48.080\\nDam başında sarı çiçek oy oy\\n\\n00:00:48.140 --> 00:00:52.940\\nBurdan kalkıp Ürgüp'e göçek\\nNenni de Feride'm\\n\\n00:00:52.980 --> 00:00:57.700\\nBurdan kalkıp Ürgüp'e göçek\\nNenni de Feride'm\\n\\n00:00:57.760 --> 00:01:02.440\\nÜrgüp'e vardığımız gece oy oy\\n\\n00:01:02.580 --> 00:01:07.220\\nÜrgüp'e vardığımız gece oy oy\\n\\n00:01:07.220 --> 00:01:12.120\\nHak yoluna kurban kesek\\nNenni de Feride'm\\n\\n00:01:12.160 --> 00:01:16.880\\nHak yoluna kurban kesek\\nNenni de Feride'm\\n\\n00:01:16.940 --> 00:01:21.720\\nHak yoluna kurban kesek\\nNenni de Feride'm\\n\\n00:01:21.920 --> 00:01:26.400\\nHak yoluna kurban kesek\\nNenni de Feride'm\\n\\n00:01:26.400 --> 00:01:55.200\\n(Orkestra / Akustik gitar ve Saxophone melodi çalıyor)\\n\\n00:01:55.360 --> 00:01:59.680\\nGidiyorum işte gör oy oy\\n\\n00:02:00.080 --> 00:02:04.600\\nGidiyorum işte gör oy oy\\n\\n00:02:04.920 --> 00:02:09.480\\nHayalde gör düşte gör\\nNenni de Feride'm\\n\\n00:02:09.640 --> 00:02:14.200\\nHayalde gör düşte gör\\nNenni de Feride'm\\n\\n00:02:14.440 --> 00:02:18.920\\nGıymatımı (kıymetimi) bilmedin oy oy\\n\\n00:02:19.200 --> 00:02:23.940\\nGıymatımı (kıymetimi) bilmedin oy oy\\n\\n00:02:24.120 --> 00:02:28.700\\nBir kötüye düş de gör\\nNenni de Feride'm\\n\\n00:02:28.920 --> 00:02:33.580\\nBir kötüye düş de gör\\nNenni de Feride'm\\n\\n00:02:33.740 --> 00:02:38.400\\nBir kötüye düş de gör\\nNenni de Feride'm\\n\\n00:02:38.540 --> 00:02:43.200\\nBir kötüye düş de gör\\nNenni de Feride'm\\n\\n00:02:43.360 --> 00:03:02.340\\nPercussion (Djembe) Emprovize\\n\\n00:03:02.560 --> 00:03:28.940\\n(Orkestra / Akustik gitar ve Saxophone melodi çalıyor)\\n(outro)\\n\\n00:03:28.940 --> 00:03:37.600\\nNenni de Feride'm\\nIslık...\\n\\n\"]\n"
     ]
    }
   ],
   "source": [
    "import os\n",
    "import glob\n",
    "videolist = [\"Fu9OTkHtmrw\",\"DKTAB8HgIwc\"]\n",
    "count_1 = 0\n",
    "text_list = []\n",
    "for i in videolist:\n",
    "    try:\n",
    "        ydl_opts = {'writesubtitles':True,'merge_output_format':'txt','skip_download':True, 'outtmpl':f'subt{count_1}'}\n",
    "        var_out = youtube_dl.YoutubeDL(ydl_opts).download([f\"https://www.youtube.com/watch?v={i}\"])\n",
    "    except:\n",
    "        pass\n",
    "    #down_file = glob.glob('*.vtt')\n",
    "    down_file = glob.glob('subt*')\n",
    "    for j in down_file:\n",
    "        try:\n",
    "            with open(f\"{j}\", encoding='utf8') as file:\n",
    "                text = file.read()\n",
    "                text_list.append(text) \n",
    "        except:\n",
    "            pass\n",
    "        os.remove(j) \n",
    "    count_1 += 1\n",
    "print(text_list)              \n",
    "    "
   ]
  },
  {
   "cell_type": "code",
   "execution_count": 3,
   "metadata": {},
   "outputs": [
    {
     "data": {
      "text/plain": [
       "\"WEBVTT\\nKind: captions\\nLanguage: en\\n\\n00:00:01.360 --> 00:00:07.410\\nNinni de kuzum bebeğim\\n\\n00:00:07.410 --> 00:00:14.110\\nMis gibi uyu bebeğim\\n\\n00:00:14.110 --> 00:00:19.720\\nUsul usul yavaşça\\n\\n00:00:19.720 --> 00:00:25.780\\nMeleklerin yanında\\n\\n00:00:25.880 --> 00:00:31.420\\nBahçeler yeşerecek\\n\\n00:00:31.520 --> 00:00:37.180\\nKuzuma yemiş verecek\\n\\n00:00:37.240 --> 00:00:43.100\\nHasır beşikte uykuda\\n\\n00:00:43.100 --> 00:00:49.000\\nPamuk rüyalar görecek\\n\\n00:00:49.020 --> 00:00:55.170\\nNinni de kuzum bebeğim\\n\\n00:00:55.170 --> 00:01:01.420\\nMis gibi uyu bebeğim\\n\\n00:01:01.480 --> 00:01:07.440\\nNinni de kuzum bebeğim\\n\\n00:01:07.520 --> 00:01:13.680\\nMis gibi uyu bebeğim\\n\\n00:01:13.760 --> 00:01:19.500\\nNinni de kuzum bebeğim\\n\\n00:01:19.500 --> 00:01:25.440\\nMis gibi uyu bebeğim\\n\\n00:01:25.580 --> 00:01:31.180\\nUsul usul yavaşça\\n\\n00:01:31.280 --> 00:01:36.800\\nMeleklerin yanında\\n\\n00:01:36.880 --> 00:01:42.460\\nBaşucunda kuşlarla\\n\\n00:01:42.620 --> 00:01:48.160\\nSaçlarında rüzgarla\\n\\n00:01:48.160 --> 00:01:53.700\\nUyusun güzel bebek\\n\\n00:01:53.780 --> 00:01:59.620\\nBüyüsün güzel bebek\\n\\n00:01:59.640 --> 00:02:05.360\\nNinni de kuzum bebeğim\\n\\n00:02:05.400 --> 00:02:11.580\\nMis gibi uyu bebeğim\\n\\n00:02:11.680 --> 00:02:17.740\\nNinni de kuzum bebeğim\\n\\n00:02:17.820 --> 00:02:24.140\\nMis gibi uyu bebeğim\\n\\n WEBVTT\\nKind: captions\\nLanguage: tr\\n\\n00:00:00.000 --> 00:00:19.300\\n(Gitar intro çalıyor)\\n\\n00:00:19.360 --> 00:00:38.560\\n(Orkestra da müziğe dahil oluyor)\\n\\n00:00:38.600 --> 00:00:43.260\\nDam başında sarı çiçek oy oy\\n\\n00:00:43.380 --> 00:00:48.080\\nDam başında sarı çiçek oy oy\\n\\n00:00:48.140 --> 00:00:52.940\\nBurdan kalkıp Ürgüp'e göçek\\nNenni de Feride'm\\n\\n00:00:52.980 --> 00:00:57.700\\nBurdan kalkıp Ürgüp'e göçek\\nNenni de Feride'm\\n\\n00:00:57.760 --> 00:01:02.440\\nÜrgüp'e vardığımız gece oy oy\\n\\n00:01:02.580 --> 00:01:07.220\\nÜrgüp'e vardığımız gece oy oy\\n\\n00:01:07.220 --> 00:01:12.120\\nHak yoluna kurban kesek\\nNenni de Feride'm\\n\\n00:01:12.160 --> 00:01:16.880\\nHak yoluna kurban kesek\\nNenni de Feride'm\\n\\n00:01:16.940 --> 00:01:21.720\\nHak yoluna kurban kesek\\nNenni de Feride'm\\n\\n00:01:21.920 --> 00:01:26.400\\nHak yoluna kurban kesek\\nNenni de Feride'm\\n\\n00:01:26.400 --> 00:01:55.200\\n(Orkestra / Akustik gitar ve Saxophone melodi çalıyor)\\n\\n00:01:55.360 --> 00:01:59.680\\nGidiyorum işte gör oy oy\\n\\n00:02:00.080 --> 00:02:04.600\\nGidiyorum işte gör oy oy\\n\\n00:02:04.920 --> 00:02:09.480\\nHayalde gör düşte gör\\nNenni de Feride'm\\n\\n00:02:09.640 --> 00:02:14.200\\nHayalde gör düşte gör\\nNenni de Feride'm\\n\\n00:02:14.440 --> 00:02:18.920\\nGıymatımı (kıymetimi) bilmedin oy oy\\n\\n00:02:19.200 --> 00:02:23.940\\nGıymatımı (kıymetimi) bilmedin oy oy\\n\\n00:02:24.120 --> 00:02:28.700\\nBir kötüye düş de gör\\nNenni de Feride'm\\n\\n00:02:28.920 --> 00:02:33.580\\nBir kötüye düş de gör\\nNenni de Feride'm\\n\\n00:02:33.740 --> 00:02:38.400\\nBir kötüye düş de gör\\nNenni de Feride'm\\n\\n00:02:38.540 --> 00:02:43.200\\nBir kötüye düş de gör\\nNenni de Feride'm\\n\\n00:02:43.360 --> 00:03:02.340\\nPercussion (Djembe) Emprovize\\n\\n00:03:02.560 --> 00:03:28.940\\n(Orkestra / Akustik gitar ve Saxophone melodi çalıyor)\\n(outro)\\n\\n00:03:28.940 --> 00:03:37.600\\nNenni de Feride'm\\nIslık...\\n\\n\""
      ]
     },
     "execution_count": 3,
     "metadata": {},
     "output_type": "execute_result"
    }
   ],
   "source": [
    "text = \" \".join(text_list)\n",
    "text"
   ]
  },
  {
   "cell_type": "code",
   "execution_count": 4,
   "metadata": {},
   "outputs": [
    {
     "data": {
      "text/plain": [
       "\"WEBVTT\\nKind: captions\\nLanguage: en\\n\\n00:00:01.360 --> 00:00:07.410\\nNinni de kuzum bebeğim\\n\\n00:00:07.410 --> 00:00:14.110\\nMis gibi uyu bebeğim\\n\\n00:00:14.110 --> 00:00:19.720\\nUsul usul yavaşça\\n\\n00:00:19.720 --> 00:00:25.780\\nMeleklerin yanında\\n\\n00:00:25.880 --> 00:00:31.420\\nBahçeler yeşerecek\\n\\n00:00:31.520 --> 00:00:37.180\\nKuzuma yemiş verecek\\n\\n00:00:37.240 --> 00:00:43.100\\nHasır beşikte uykuda\\n\\n00:00:43.100 --> 00:00:49.000\\nPamuk rüyalar görecek\\n\\n00:00:49.020 --> 00:00:55.170\\nNinni de kuzum bebeğim\\n\\n00:00:55.170 --> 00:01:01.420\\nMis gibi uyu bebeğim\\n\\n00:01:01.480 --> 00:01:07.440\\nNinni de kuzum bebeğim\\n\\n00:01:07.520 --> 00:01:13.680\\nMis gibi uyu bebeğim\\n\\n00:01:13.760 --> 00:01:19.500\\nNinni de kuzum bebeğim\\n\\n00:01:19.500 --> 00:01:25.440\\nMis gibi uyu bebeğim\\n\\n00:01:25.580 --> 00:01:31.180\\nUsul usul yavaşça\\n\\n00:01:31.280 --> 00:01:36.800\\nMeleklerin yanında\\n\\n00:01:36.880 --> 00:01:42.460\\nBaşucunda kuşlarla\\n\\n00:01:42.620 --> 00:01:48.160\\nSaçlarında rüzgarla\\n\\n00:01:48.160 --> 00:01:53.700\\nUyusun güzel bebek\\n\\n00:01:53.780 --> 00:01:59.620\\nBüyüsün güzel bebek\\n\\n00:01:59.640 --> 00:02:05.360\\nNinni de kuzum bebeğim\\n\\n00:02:05.400 --> 00:02:11.580\\nMis gibi uyu bebeğim\\n\\n00:02:11.680 --> 00:02:17.740\\nNinni de kuzum bebeğim\\n\\n00:02:17.820 --> 00:02:24.140\\nMis gibi uyu bebeğim\\n\\n WEBVTT\\nKind: captions\\nLanguage: tr\\n\\n00:00:00.000 --> 00:00:19.300\\n\\n\\n00:00:19.360 --> 00:00:38.560\\n\\n\\n00:00:38.600 --> 00:00:43.260\\nDam başında sarı çiçek oy oy\\n\\n00:00:43.380 --> 00:00:48.080\\nDam başında sarı çiçek oy oy\\n\\n00:00:48.140 --> 00:00:52.940\\nBurdan kalkıp Ürgüp'e göçek\\nNenni de Feride'm\\n\\n00:00:52.980 --> 00:00:57.700\\nBurdan kalkıp Ürgüp'e göçek\\nNenni de Feride'm\\n\\n00:00:57.760 --> 00:01:02.440\\nÜrgüp'e vardığımız gece oy oy\\n\\n00:01:02.580 --> 00:01:07.220\\nÜrgüp'e vardığımız gece oy oy\\n\\n00:01:07.220 --> 00:01:12.120\\nHak yoluna kurban kesek\\nNenni de Feride'm\\n\\n00:01:12.160 --> 00:01:16.880\\nHak yoluna kurban kesek\\nNenni de Feride'm\\n\\n00:01:16.940 --> 00:01:21.720\\nHak yoluna kurban kesek\\nNenni de Feride'm\\n\\n00:01:21.920 --> 00:01:26.400\\nHak yoluna kurban kesek\\nNenni de Feride'm\\n\\n00:01:26.400 --> 00:01:55.200\\n\\n\\n00:01:55.360 --> 00:01:59.680\\nGidiyorum işte gör oy oy\\n\\n00:02:00.080 --> 00:02:04.600\\nGidiyorum işte gör oy oy\\n\\n00:02:04.920 --> 00:02:09.480\\nHayalde gör düşte gör\\nNenni de Feride'm\\n\\n00:02:09.640 --> 00:02:14.200\\nHayalde gör düşte gör\\nNenni de Feride'm\\n\\n00:02:14.440 --> 00:02:18.920\\nGıymatımı  bilmedin oy oy\\n\\n00:02:19.200 --> 00:02:23.940\\nGıymatımı  bilmedin oy oy\\n\\n00:02:24.120 --> 00:02:28.700\\nBir kötüye düş de gör\\nNenni de Feride'm\\n\\n00:02:28.920 --> 00:02:33.580\\nBir kötüye düş de gör\\nNenni de Feride'm\\n\\n00:02:33.740 --> 00:02:38.400\\nBir kötüye düş de gör\\nNenni de Feride'm\\n\\n00:02:38.540 --> 00:02:43.200\\nBir kötüye düş de gör\\nNenni de Feride'm\\n\\n00:02:43.360 --> 00:03:02.340\\nPercussion  Emprovize\\n\\n00:03:02.560 --> 00:03:28.940\\n\\n\\n\\n00:03:28.940 --> 00:03:37.600\\nNenni de Feride'm\\nIslık...\\n\\n\""
      ]
     },
     "execution_count": 4,
     "metadata": {},
     "output_type": "execute_result"
    }
   ],
   "source": [
    "text_data_clean_brackets = re.sub('[\\(\\[\\{].*?[\\)\\]\\}]', '', text)\n",
    "text_data_clean_brackets"
   ]
  },
  {
   "cell_type": "code",
   "execution_count": 5,
   "metadata": {},
   "outputs": [
    {
     "data": {
      "text/plain": [
       "\"WEBVTT Kind: captions Language: en 00: 00: 01. 360  00: 00: 07. 410 Ninni  de  kuzum  bebeğim 00: 00: 07. 410  00: 00: 14. 110 Mis  gibi  uyu  bebeğim 00: 00: 14. 110  00: 00: 19. 720 Usul  usul  yavaşça 00: 00: 19. 720  00: 00: 25. 780 Meleklerin  yanında 00: 00: 25. 880  00: 00: 31. 420 Bahçeler  yeşerecek 00: 00: 31. 520  00: 00: 37. 180 Kuzuma  yemiş  verecek 00: 00: 37. 240  00: 00: 43. 100 Hasır  beşikte  uykuda 00: 00: 43. 100  00: 00: 49. 000 Pamuk  rüyalar  görecek 00: 00: 49. 020  00: 00: 55. 170 Ninni  de  kuzum  bebeğim 00: 00: 55. 170  00: 01: 01. 420 Mis  gibi  uyu  bebeğim 00: 01: 01. 480  00: 01: 07. 440 Ninni  de  kuzum  bebeğim 00: 01: 07. 520  00: 01: 13. 680 Mis  gibi  uyu  bebeğim 00: 01: 13. 760  00: 01: 19. 500 Ninni  de  kuzum  bebeğim 00: 01: 19. 500  00: 01: 25. 440 Mis  gibi  uyu  bebeğim 00: 01: 25. 580  00: 01: 31. 180 Usul  usul  yavaşça 00: 01: 31. 280  00: 01: 36. 800 Meleklerin  yanında 00: 01: 36. 880  00: 01: 42. 460 Başucunda  kuşlarla 00: 01: 42. 620  00: 01: 48. 160 Saçlarında  rüzgarla 00: 01: 48. 160  00: 01: 53. 700 Uyusun  güzel  bebek 00: 01: 53. 780  00: 01: 59. 620 Büyüsün  güzel  bebek 00: 01: 59. 640  00: 02: 05. 360 Ninni  de  kuzum  bebeğim 00: 02: 05. 400  00: 02: 11. 580 Mis  gibi  uyu  bebeğim 00: 02: 11. 680  00: 02: 17. 740 Ninni  de  kuzum  bebeğim 00: 02: 17. 820  00: 02: 24. 140 Mis  gibi  uyu  bebeğim WEBVTT Kind: captions Language: tr 00: 00: 00. 000  00: 00: 19. 300 00: 00: 19. 360  00: 00: 38. 560 00: 00: 38. 600  00: 00: 43. 260 Dam  başında  sarı  çiçek  oy  oy 00: 00: 43. 380  00: 00: 48. 080 Dam  başında  sarı  çiçek  oy  oy 00: 00: 48. 140  00: 00: 52. 940 Burdan  kalkıp  Ürgüp' e  göçek Nenni  de  Feride' 00: 00: 52. 980  00: 00: 57. 700 Burdan  kalkıp  Ürgüp' e  göçek Nenni  de  Feride' 00: 00: 57. 760  00: 01: 02. 440 Ürgüp' e  vardığımız  gece  oy  oy 00: 01: 02. 580  00: 01: 07. 220 Ürgüp' e  vardığımız  gece  oy  oy 00: 01: 07. 220  00: 01: 12. 120 Hak  yoluna  kurban  kesek Nenni  de  Feride' 00: 01: 12. 160  00: 01: 16. 880 Hak  yoluna  kurban  kesek Nenni  de  Feride' 00: 01: 16. 940  00: 01: 21. 720 Hak  yoluna  kurban  kesek Nenni  de  Feride' 00: 01: 21. 920  00: 01: 26. 400 Hak  yoluna  kurban  kesek Nenni  de  Feride' 00: 01: 26. 400  00: 01: 55. 200 00: 01: 55. 360  00: 01: 59. 680 Gidiyorum  işte  gör  oy  oy 00: 02: 00. 080  00: 02: 04. 600 Gidiyorum  işte  gör  oy  oy 00: 02: 04. 920  00: 02: 09. 480 Hayalde  gör  düşte  gör Nenni  de  Feride' 00: 02: 09. 640  00: 02: 14. 200 Hayalde  gör  düşte  gör Nenni  de  Feride' 00: 02: 14. 440  00: 02: 18. 920 Gıymatımı  bilmedin  oy  oy 00: 02: 19. 200  00: 02: 23. 940 Gıymatımı  bilmedin  oy  oy 00: 02: 24. 120  00: 02: 28. 700 Bir  kötüye  düş  de  gör Nenni  de  Feride' 00: 02: 28. 920  00: 02: 33. 580 Bir  kötüye  düş  de  gör Nenni  de  Feride' 00: 02: 33. 740  00: 02: 38. 400 Bir  kötüye  düş  de  gör Nenni  de  Feride' 00: 02: 38. 540  00: 02: 43. 200 Bir  kötüye  düş  de  gör Nenni  de  Feride' 00: 02: 43. 360  00: 03: 02. 340 Percussion  Emprovize 00: 03: 02. 560  00: 03: 28. 940 00: 03: 28. 940  00: 03: 37. 600 Nenni  de  Feride' Islık.\""
      ]
     },
     "execution_count": 5,
     "metadata": {},
     "output_type": "execute_result"
    }
   ],
   "source": [
    "var1 = re.findall(r'\\w+.', text_data_clean_brackets)\n",
    "var2 = \" \".join(var1)\n",
    "var2"
   ]
  },
  {
   "cell_type": "code",
   "execution_count": 6,
   "metadata": {},
   "outputs": [
    {
     "data": {
      "text/plain": [
       "\"WEBVTT Kind: captions Language: en : : .   : : .  Ninni  de  kuzum  bebeğim : : .   : : .  Mis  gibi  uyu  bebeğim : : .   : : .  Usul  usul  yavaşça : : .   : : .  Meleklerin  yanında : : .   : : .  Bahçeler  yeşerecek : : .   : : .  Kuzuma  yemiş  verecek : : .   : : .  Hasır  beşikte  uykuda : : .   : : .  Pamuk  rüyalar  görecek : : .   : : .  Ninni  de  kuzum  bebeğim : : .   : : .  Mis  gibi  uyu  bebeğim : : .   : : .  Ninni  de  kuzum  bebeğim : : .   : : .  Mis  gibi  uyu  bebeğim : : .   : : .  Ninni  de  kuzum  bebeğim : : .   : : .  Mis  gibi  uyu  bebeğim : : .   : : .  Usul  usul  yavaşça : : .   : : .  Meleklerin  yanında : : .   : : .  Başucunda  kuşlarla : : .   : : .  Saçlarında  rüzgarla : : .   : : .  Uyusun  güzel  bebek : : .   : : .  Büyüsün  güzel  bebek : : .   : : .  Ninni  de  kuzum  bebeğim : : .   : : .  Mis  gibi  uyu  bebeğim : : .   : : .  Ninni  de  kuzum  bebeğim : : .   : : .  Mis  gibi  uyu  bebeğim WEBVTT Kind: captions Language: tr : : .   : : .  : : .   : : .  : : .   : : .  Dam  başında  sarı  çiçek  oy  oy : : .   : : .  Dam  başında  sarı  çiçek  oy  oy : : .   : : .  Burdan  kalkıp  Ürgüp' e  göçek Nenni  de  Feride' : : .   : : .  Burdan  kalkıp  Ürgüp' e  göçek Nenni  de  Feride' : : .   : : .  Ürgüp' e  vardığımız  gece  oy  oy : : .   : : .  Ürgüp' e  vardığımız  gece  oy  oy : : .   : : .  Hak  yoluna  kurban  kesek Nenni  de  Feride' : : .   : : .  Hak  yoluna  kurban  kesek Nenni  de  Feride' : : .   : : .  Hak  yoluna  kurban  kesek Nenni  de  Feride' : : .   : : .  Hak  yoluna  kurban  kesek Nenni  de  Feride' : : .   : : .  : : .   : : .  Gidiyorum  işte  gör  oy  oy : : .   : : .  Gidiyorum  işte  gör  oy  oy : : .   : : .  Hayalde  gör  düşte  gör Nenni  de  Feride' : : .   : : .  Hayalde  gör  düşte  gör Nenni  de  Feride' : : .   : : .  Gıymatımı  bilmedin  oy  oy : : .   : : .  Gıymatımı  bilmedin  oy  oy : : .   : : .  Bir  kötüye  düş  de  gör Nenni  de  Feride' : : .   : : .  Bir  kötüye  düş  de  gör Nenni  de  Feride' : : .   : : .  Bir  kötüye  düş  de  gör Nenni  de  Feride' : : .   : : .  Bir  kötüye  düş  de  gör Nenni  de  Feride' : : .   : : .  Percussion  Emprovize : : .   : : .  : : .   : : .  Nenni  de  Feride' Islık.\""
      ]
     },
     "execution_count": 6,
     "metadata": {},
     "output_type": "execute_result"
    }
   ],
   "source": [
    "var3 = re.sub(r'[0-9]', '', var2) # Remove digit\n",
    "var3"
   ]
  },
  {
   "cell_type": "code",
   "execution_count": 7,
   "metadata": {},
   "outputs": [
    {
     "data": {
      "text/plain": [
       "\"   .     .  Ninni  de  kuzum  bebeğim   .     .  Mis  gibi  uyu  bebeğim   .     .  Usul  usul  yavaşça   .     .  Meleklerin  yanında   .     .  Bahçeler  yeşerecek   .     .  Kuzuma  yemiş  verecek   .     .  Hasır  beşikte  uykuda   .     .  Pamuk  rüyalar  görecek   .     .  Ninni  de  kuzum  bebeğim   .     .  Mis  gibi  uyu  bebeğim   .     .  Ninni  de  kuzum  bebeğim   .     .  Mis  gibi  uyu  bebeğim   .     .  Ninni  de  kuzum  bebeğim   .     .  Mis  gibi  uyu  bebeğim   .     .  Usul  usul  yavaşça   .     .  Meleklerin  yanında   .     .  Başucunda  kuşlarla   .     .  Saçlarında  rüzgarla   .     .  Uyusun  güzel  bebek   .     .  Büyüsün  güzel  bebek   .     .  Ninni  de  kuzum  bebeğim   .     .  Mis  gibi  uyu  bebeğim   .     .  Ninni  de  kuzum  bebeğim   .     .  Mis  gibi  uyu  bebeğim    .     .    .     .    .     .  Dam  başında  sarı  çiçek  oy  oy   .     .  Dam  başında  sarı  çiçek  oy  oy   .     .  Burdan  kalkıp  Ürgüp' e  göçek Nenni  de  Feride'   .     .  Burdan  kalkıp  Ürgüp' e  göçek Nenni  de  Feride'   .     .  Ürgüp' e  vardığımız  gece  oy  oy   .     .  Ürgüp' e  vardığımız  gece  oy  oy   .     .  Hak  yoluna  kurban  kesek Nenni  de  Feride'   .     .  Hak  yoluna  kurban  kesek Nenni  de  Feride'   .     .  Hak  yoluna  kurban  kesek Nenni  de  Feride'   .     .  Hak  yoluna  kurban  kesek Nenni  de  Feride'   .     .    .     .  Gidiyorum  işte  gör  oy  oy   .     .  Gidiyorum  işte  gör  oy  oy   .     .  Hayalde  gör  düşte  gör Nenni  de  Feride'   .     .  Hayalde  gör  düşte  gör Nenni  de  Feride'   .     .  Gıymatımı  bilmedin  oy  oy   .     .  Gıymatımı  bilmedin  oy  oy   .     .  Bir  kötüye  düş  de  gör Nenni  de  Feride'   .     .  Bir  kötüye  düş  de  gör Nenni  de  Feride'   .     .  Bir  kötüye  düş  de  gör Nenni  de  Feride'   .     .  Bir  kötüye  düş  de  gör Nenni  de  Feride'   .     .  Percussion  Emprovize   .     .    .     .  Nenni  de  Feride' Islık.\""
      ]
     },
     "execution_count": 7,
     "metadata": {},
     "output_type": "execute_result"
    }
   ],
   "source": [
    "custom_char = [\"-\",\"#\",\"~\",\"*\",\"/\",\"WEBVTT Kind: captions Language: en\", \"WEBVTT Kind: captions Language: tr\",\":\"]\n",
    "for i in custom_char:\n",
    "    var3 = var3.replace(i, '')  # must be equal each other\n",
    "var3"
   ]
  },
  {
   "cell_type": "code",
   "execution_count": null,
   "metadata": {},
   "outputs": [],
   "source": []
  }
 ],
 "metadata": {
  "interpreter": {
   "hash": "651d507d70892fab0fc6529d935cd476f6e2eb1791525b76da6cc8da34bc0503"
  },
  "kernelspec": {
   "display_name": "Python 3.9.5 64-bit ('py39': conda)",
   "language": "python",
   "name": "python3"
  },
  "language_info": {
   "codemirror_mode": {
    "name": "ipython",
    "version": 3
   },
   "file_extension": ".py",
   "mimetype": "text/x-python",
   "name": "python",
   "nbconvert_exporter": "python",
   "pygments_lexer": "ipython3",
   "version": "3.9.5"
  },
  "orig_nbformat": 4
 },
 "nbformat": 4,
 "nbformat_minor": 2
}
