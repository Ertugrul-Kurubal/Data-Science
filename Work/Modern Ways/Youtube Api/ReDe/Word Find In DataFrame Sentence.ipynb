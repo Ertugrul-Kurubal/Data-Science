{
 "cells": [
  {
   "cell_type": "markdown",
   "metadata": {},
   "source": [
    "### Word In DataFrame"
   ]
  },
  {
   "cell_type": "code",
   "execution_count": 1,
   "metadata": {},
   "outputs": [],
   "source": [
    "import pandas as pd\n",
    "import numpy as np"
   ]
  },
  {
   "cell_type": "code",
   "execution_count": 318,
   "metadata": {},
   "outputs": [
    {
     "data": {
      "text/html": [
       "<div>\n",
       "<style scoped>\n",
       "    .dataframe tbody tr th:only-of-type {\n",
       "        vertical-align: middle;\n",
       "    }\n",
       "\n",
       "    .dataframe tbody tr th {\n",
       "        vertical-align: top;\n",
       "    }\n",
       "\n",
       "    .dataframe thead th {\n",
       "        text-align: right;\n",
       "    }\n",
       "</style>\n",
       "<table border=\"1\" class=\"dataframe\">\n",
       "  <thead>\n",
       "    <tr style=\"text-align: right;\">\n",
       "      <th></th>\n",
       "      <th>start_time</th>\n",
       "      <th>end_time</th>\n",
       "      <th>sentence</th>\n",
       "      <th>video_id</th>\n",
       "    </tr>\n",
       "  </thead>\n",
       "  <tbody>\n",
       "    <tr>\n",
       "      <th>0</th>\n",
       "      <td>00:00:01.056</td>\n",
       "      <td>00:00:04.244</td>\n",
       "      <td>bu  videoda  darıca  ve  adalar  arasında  dalış</td>\n",
       "      <td>WdX1_wNUj0E</td>\n",
       "    </tr>\n",
       "    <tr>\n",
       "      <th>1</th>\n",
       "      <td>00:00:04.534</td>\n",
       "      <td>00:00:06.420</td>\n",
       "      <td>küçük  balıkların  değişimi</td>\n",
       "      <td>WdX1_wNUj0E</td>\n",
       "    </tr>\n",
       "    <tr>\n",
       "      <th>2</th>\n",
       "      <td>00:00:06.808</td>\n",
       "      <td>00:00:08.780</td>\n",
       "      <td>ilk  defa  göreceğiniz  detaylar</td>\n",
       "      <td>WdX1_wNUj0E</td>\n",
       "    </tr>\n",
       "    <tr>\n",
       "      <th>3</th>\n",
       "      <td>00:00:10.388</td>\n",
       "      <td>00:00:12.388</td>\n",
       "      <td>ve  balık  avı  izleyeceksiniz</td>\n",
       "      <td>WdX1_wNUj0E</td>\n",
       "    </tr>\n",
       "    <tr>\n",
       "      <th>4</th>\n",
       "      <td>00:00:17.600</td>\n",
       "      <td>00:00:18.682</td>\n",
       "      <td>darıca</td>\n",
       "      <td>WdX1_wNUj0E</td>\n",
       "    </tr>\n",
       "    <tr>\n",
       "      <th>...</th>\n",
       "      <td>...</td>\n",
       "      <td>...</td>\n",
       "      <td>...</td>\n",
       "      <td>...</td>\n",
       "    </tr>\n",
       "    <tr>\n",
       "      <th>468</th>\n",
       "      <td>00:03:54.800</td>\n",
       "      <td>00:03:59.300</td>\n",
       "      <td>hani  her  şeyindim, bensiz  sen  yoktun.</td>\n",
       "      <td>c1QvY3X64qM</td>\n",
       "    </tr>\n",
       "    <tr>\n",
       "      <th>469</th>\n",
       "      <td>00:03:59.300</td>\n",
       "      <td>00:04:01.940</td>\n",
       "      <td>ayrılamazdık  ya.</td>\n",
       "      <td>c1QvY3X64qM</td>\n",
       "    </tr>\n",
       "    <tr>\n",
       "      <th>470</th>\n",
       "      <td>00:04:02.840</td>\n",
       "      <td>00:04:07.560</td>\n",
       "      <td>gül  dudaklım, sihir  gözlüm.</td>\n",
       "      <td>c1QvY3X64qM</td>\n",
       "    </tr>\n",
       "    <tr>\n",
       "      <th>471</th>\n",
       "      <td>00:04:07.560</td>\n",
       "      <td>00:04:08.960</td>\n",
       "      <td>dön.</td>\n",
       "      <td>c1QvY3X64qM</td>\n",
       "    </tr>\n",
       "    <tr>\n",
       "      <th>472</th>\n",
       "      <td>00:04:10.320</td>\n",
       "      <td>00:04:22.780</td>\n",
       "      <td>bugünüm  sensiz  geçti.</td>\n",
       "      <td>c1QvY3X64qM</td>\n",
       "    </tr>\n",
       "  </tbody>\n",
       "</table>\n",
       "<p>473 rows × 4 columns</p>\n",
       "</div>"
      ],
      "text/plain": [
       "       start_time      end_time  \\\n",
       "0    00:00:01.056  00:00:04.244   \n",
       "1    00:00:04.534  00:00:06.420   \n",
       "2    00:00:06.808  00:00:08.780   \n",
       "3    00:00:10.388  00:00:12.388   \n",
       "4    00:00:17.600  00:00:18.682   \n",
       "..            ...           ...   \n",
       "468  00:03:54.800  00:03:59.300   \n",
       "469  00:03:59.300  00:04:01.940   \n",
       "470  00:04:02.840  00:04:07.560   \n",
       "471  00:04:07.560  00:04:08.960   \n",
       "472  00:04:10.320  00:04:22.780   \n",
       "\n",
       "                                             sentence     video_id  \n",
       "0    bu  videoda  darıca  ve  adalar  arasında  dalış  WdX1_wNUj0E  \n",
       "1                         küçük  balıkların  değişimi  WdX1_wNUj0E  \n",
       "2                    ilk  defa  göreceğiniz  detaylar  WdX1_wNUj0E  \n",
       "3                      ve  balık  avı  izleyeceksiniz  WdX1_wNUj0E  \n",
       "4                                              darıca  WdX1_wNUj0E  \n",
       "..                                                ...          ...  \n",
       "468         hani  her  şeyindim, bensiz  sen  yoktun.  c1QvY3X64qM  \n",
       "469                                 ayrılamazdık  ya.  c1QvY3X64qM  \n",
       "470                     gül  dudaklım, sihir  gözlüm.  c1QvY3X64qM  \n",
       "471                                              dön.  c1QvY3X64qM  \n",
       "472                           bugünüm  sensiz  geçti.  c1QvY3X64qM  \n",
       "\n",
       "[473 rows x 4 columns]"
      ]
     },
     "execution_count": 318,
     "metadata": {},
     "output_type": "execute_result"
    }
   ],
   "source": [
    "df_youtube_sentence = pd.read_csv(\"YoutubeDL_Sentence_DF.csv\")\n",
    "df_youtube_sentence"
   ]
  },
  {
   "cell_type": "markdown",
   "metadata": {},
   "source": [
    "#### Word"
   ]
  },
  {
   "cell_type": "code",
   "execution_count": 319,
   "metadata": {},
   "outputs": [],
   "source": [
    "#df_youtube_sentence.sentence.filter()"
   ]
  },
  {
   "cell_type": "code",
   "execution_count": 320,
   "metadata": {},
   "outputs": [
    {
     "data": {
      "text/html": [
       "<div>\n",
       "<style scoped>\n",
       "    .dataframe tbody tr th:only-of-type {\n",
       "        vertical-align: middle;\n",
       "    }\n",
       "\n",
       "    .dataframe tbody tr th {\n",
       "        vertical-align: top;\n",
       "    }\n",
       "\n",
       "    .dataframe thead th {\n",
       "        text-align: right;\n",
       "    }\n",
       "</style>\n",
       "<table border=\"1\" class=\"dataframe\">\n",
       "  <thead>\n",
       "    <tr style=\"text-align: right;\">\n",
       "      <th></th>\n",
       "      <th>start_time</th>\n",
       "      <th>end_time</th>\n",
       "      <th>sentence</th>\n",
       "      <th>video_id</th>\n",
       "    </tr>\n",
       "  </thead>\n",
       "  <tbody>\n",
       "    <tr>\n",
       "      <th>27</th>\n",
       "      <td>00:03:15.640</td>\n",
       "      <td>00:03:18.320</td>\n",
       "      <td>farklılık  birçok  tür  için  geçerli</td>\n",
       "      <td>WdX1_wNUj0E</td>\n",
       "    </tr>\n",
       "    <tr>\n",
       "      <th>53</th>\n",
       "      <td>00:07:09.449</td>\n",
       "      <td>00:07:13.562</td>\n",
       "      <td>tekrar  saklanarak  bekliyorum  bu  kez  kefal...</td>\n",
       "      <td>WdX1_wNUj0E</td>\n",
       "    </tr>\n",
       "    <tr>\n",
       "      <th>83</th>\n",
       "      <td>00:13:30.709</td>\n",
       "      <td>00:13:32.903</td>\n",
       "      <td>diğer  yengeçler  ısırmaya  çalışır</td>\n",
       "      <td>WdX1_wNUj0E</td>\n",
       "    </tr>\n",
       "    <tr>\n",
       "      <th>91</th>\n",
       "      <td>00:14:21.197</td>\n",
       "      <td>00:14:24.785</td>\n",
       "      <td>pendik' te  ağladığımız  balıklardan  pişirmek...</td>\n",
       "      <td>WdX1_wNUj0E</td>\n",
       "    </tr>\n",
       "    <tr>\n",
       "      <th>289</th>\n",
       "      <td>00:11:01.910</td>\n",
       "      <td>00:11:03.910</td>\n",
       "      <td>hadi  geçmiş  olsun, güle  güle.</td>\n",
       "      <td>4CxHodWJCAc</td>\n",
       "    </tr>\n",
       "  </tbody>\n",
       "</table>\n",
       "</div>"
      ],
      "text/plain": [
       "       start_time      end_time  \\\n",
       "27   00:03:15.640  00:03:18.320   \n",
       "53   00:07:09.449  00:07:13.562   \n",
       "83   00:13:30.709  00:13:32.903   \n",
       "91   00:14:21.197  00:14:24.785   \n",
       "289  00:11:01.910  00:11:03.910   \n",
       "\n",
       "                                              sentence     video_id  \n",
       "27               farklılık  birçok  tür  için  geçerli  WdX1_wNUj0E  \n",
       "53   tekrar  saklanarak  bekliyorum  bu  kez  kefal...  WdX1_wNUj0E  \n",
       "83                 diğer  yengeçler  ısırmaya  çalışır  WdX1_wNUj0E  \n",
       "91   pendik' te  ağladığımız  balıklardan  pişirmek...  WdX1_wNUj0E  \n",
       "289                   hadi  geçmiş  olsun, güle  güle.  4CxHodWJCAc  "
      ]
     },
     "execution_count": 320,
     "metadata": {},
     "output_type": "execute_result"
    }
   ],
   "source": [
    "df_youtube_sentence[df_youtube_sentence.sentence.str.contains(\"geç\", na=True)].head(5) # .sample(5, random_state=1) # replace=True"
   ]
  },
  {
   "cell_type": "code",
   "execution_count": 321,
   "metadata": {},
   "outputs": [
    {
     "data": {
      "text/html": [
       "<div>\n",
       "<style scoped>\n",
       "    .dataframe tbody tr th:only-of-type {\n",
       "        vertical-align: middle;\n",
       "    }\n",
       "\n",
       "    .dataframe tbody tr th {\n",
       "        vertical-align: top;\n",
       "    }\n",
       "\n",
       "    .dataframe thead th {\n",
       "        text-align: right;\n",
       "    }\n",
       "</style>\n",
       "<table border=\"1\" class=\"dataframe\">\n",
       "  <thead>\n",
       "    <tr style=\"text-align: right;\">\n",
       "      <th></th>\n",
       "      <th>start_time</th>\n",
       "      <th>end_time</th>\n",
       "      <th>sentence</th>\n",
       "      <th>video_id</th>\n",
       "    </tr>\n",
       "  </thead>\n",
       "  <tbody>\n",
       "    <tr>\n",
       "      <th>289</th>\n",
       "      <td>00:11:01.910</td>\n",
       "      <td>00:11:03.910</td>\n",
       "      <td>hadi  geçmiş  olsun, güle  güle.</td>\n",
       "      <td>4CxHodWJCAc</td>\n",
       "    </tr>\n",
       "    <tr>\n",
       "      <th>423</th>\n",
       "      <td>00:09:32.389</td>\n",
       "      <td>00:09:37.304</td>\n",
       "      <td>evet  bu  harika  muayene  bitti  sona  erdi. ...</td>\n",
       "      <td>gOq59m1pUi4</td>\n",
       "    </tr>\n",
       "    <tr>\n",
       "      <th>433</th>\n",
       "      <td>00:11:04.126</td>\n",
       "      <td>00:11:08.533</td>\n",
       "      <td>evet, çok  geçmiş  olsun. çok  teşekkür  ederiz.</td>\n",
       "      <td>gOq59m1pUi4</td>\n",
       "    </tr>\n",
       "  </tbody>\n",
       "</table>\n",
       "</div>"
      ],
      "text/plain": [
       "       start_time      end_time  \\\n",
       "289  00:11:01.910  00:11:03.910   \n",
       "423  00:09:32.389  00:09:37.304   \n",
       "433  00:11:04.126  00:11:08.533   \n",
       "\n",
       "                                              sentence     video_id  \n",
       "289                   hadi  geçmiş  olsun, güle  güle.  4CxHodWJCAc  \n",
       "423  evet  bu  harika  muayene  bitti  sona  erdi. ...  gOq59m1pUi4  \n",
       "433   evet, çok  geçmiş  olsun. çok  teşekkür  ederiz.  gOq59m1pUi4  "
      ]
     },
     "execution_count": 321,
     "metadata": {},
     "output_type": "execute_result"
    }
   ],
   "source": [
    "df_youtube_sentence[df_youtube_sentence.sentence.str.contains(r'(?:\\s|^)geçmiş(?:\\s|$)', na=True)].head(5) # Exact match"
   ]
  },
  {
   "cell_type": "code",
   "execution_count": 322,
   "metadata": {},
   "outputs": [
    {
     "data": {
      "text/html": [
       "<div>\n",
       "<style scoped>\n",
       "    .dataframe tbody tr th:only-of-type {\n",
       "        vertical-align: middle;\n",
       "    }\n",
       "\n",
       "    .dataframe tbody tr th {\n",
       "        vertical-align: top;\n",
       "    }\n",
       "\n",
       "    .dataframe thead th {\n",
       "        text-align: right;\n",
       "    }\n",
       "</style>\n",
       "<table border=\"1\" class=\"dataframe\">\n",
       "  <thead>\n",
       "    <tr style=\"text-align: right;\">\n",
       "      <th></th>\n",
       "      <th>start_time</th>\n",
       "      <th>end_time</th>\n",
       "      <th>sentence</th>\n",
       "      <th>video_id</th>\n",
       "    </tr>\n",
       "  </thead>\n",
       "  <tbody>\n",
       "    <tr>\n",
       "      <th>289</th>\n",
       "      <td>00:11:01.910</td>\n",
       "      <td>00:11:03.910</td>\n",
       "      <td>hadi  geçmiş  olsun, güle  güle.</td>\n",
       "      <td>4CxHodWJCAc</td>\n",
       "    </tr>\n",
       "    <tr>\n",
       "      <th>423</th>\n",
       "      <td>00:09:32.389</td>\n",
       "      <td>00:09:37.304</td>\n",
       "      <td>evet  bu  harika  muayene  bitti  sona  erdi. ...</td>\n",
       "      <td>gOq59m1pUi4</td>\n",
       "    </tr>\n",
       "    <tr>\n",
       "      <th>433</th>\n",
       "      <td>00:11:04.126</td>\n",
       "      <td>00:11:08.533</td>\n",
       "      <td>evet, çok  geçmiş  olsun. çok  teşekkür  ederiz.</td>\n",
       "      <td>gOq59m1pUi4</td>\n",
       "    </tr>\n",
       "  </tbody>\n",
       "</table>\n",
       "</div>"
      ],
      "text/plain": [
       "       start_time      end_time  \\\n",
       "289  00:11:01.910  00:11:03.910   \n",
       "423  00:09:32.389  00:09:37.304   \n",
       "433  00:11:04.126  00:11:08.533   \n",
       "\n",
       "                                              sentence     video_id  \n",
       "289                   hadi  geçmiş  olsun, güle  güle.  4CxHodWJCAc  \n",
       "423  evet  bu  harika  muayene  bitti  sona  erdi. ...  gOq59m1pUi4  \n",
       "433   evet, çok  geçmiş  olsun. çok  teşekkür  ederiz.  gOq59m1pUi4  "
      ]
     },
     "execution_count": 322,
     "metadata": {},
     "output_type": "execute_result"
    }
   ],
   "source": [
    "df_youtube_sentence[df_youtube_sentence.sentence.str.contains(fr\"(?:\\s|^){'geçmiş'}(?:\\s|$)\", na=True)].head(5) # f string"
   ]
  },
  {
   "cell_type": "code",
   "execution_count": 323,
   "metadata": {},
   "outputs": [],
   "source": [
    "word_list = ['geçmiş','yengeçler','küçük','ahmet','darıca','yüzgeçleri', 'güle', 'göreceğiniz', 'bensiz']"
   ]
  },
  {
   "cell_type": "code",
   "execution_count": 324,
   "metadata": {},
   "outputs": [],
   "source": [
    "result_df = pd.DataFrame()\n",
    "for i in word_list:\n",
    "    word_in_video = df_youtube_sentence[df_youtube_sentence.sentence.str.contains(fr\"(?:\\s|^){i}(?:\\s|$)\", na=True)].head(5)\n",
    "    word_in_video.insert(0,\"word\",i)\n",
    "    result_df = pd.concat([result_df,word_in_video], axis=0)"
   ]
  },
  {
   "cell_type": "code",
   "execution_count": 325,
   "metadata": {},
   "outputs": [],
   "source": [
    "# sample_df.drop_duplicates(subset = ['word'], keep = 'first', inplace = True) "
   ]
  },
  {
   "cell_type": "code",
   "execution_count": 326,
   "metadata": {},
   "outputs": [
    {
     "data": {
      "text/html": [
       "<div>\n",
       "<style scoped>\n",
       "    .dataframe tbody tr th:only-of-type {\n",
       "        vertical-align: middle;\n",
       "    }\n",
       "\n",
       "    .dataframe tbody tr th {\n",
       "        vertical-align: top;\n",
       "    }\n",
       "\n",
       "    .dataframe thead th {\n",
       "        text-align: right;\n",
       "    }\n",
       "</style>\n",
       "<table border=\"1\" class=\"dataframe\">\n",
       "  <thead>\n",
       "    <tr style=\"text-align: right;\">\n",
       "      <th></th>\n",
       "      <th>word</th>\n",
       "      <th>start_time</th>\n",
       "      <th>end_time</th>\n",
       "      <th>sentence</th>\n",
       "      <th>video_id</th>\n",
       "    </tr>\n",
       "  </thead>\n",
       "  <tbody>\n",
       "    <tr>\n",
       "      <th>289</th>\n",
       "      <td>geçmiş</td>\n",
       "      <td>00:11:01.910</td>\n",
       "      <td>00:11:03.910</td>\n",
       "      <td>hadi  geçmiş  olsun, güle  güle.</td>\n",
       "      <td>4CxHodWJCAc</td>\n",
       "    </tr>\n",
       "    <tr>\n",
       "      <th>423</th>\n",
       "      <td>geçmiş</td>\n",
       "      <td>00:09:32.389</td>\n",
       "      <td>00:09:37.304</td>\n",
       "      <td>evet  bu  harika  muayene  bitti  sona  erdi. ...</td>\n",
       "      <td>gOq59m1pUi4</td>\n",
       "    </tr>\n",
       "    <tr>\n",
       "      <th>433</th>\n",
       "      <td>geçmiş</td>\n",
       "      <td>00:11:04.126</td>\n",
       "      <td>00:11:08.533</td>\n",
       "      <td>evet, çok  geçmiş  olsun. çok  teşekkür  ederiz.</td>\n",
       "      <td>gOq59m1pUi4</td>\n",
       "    </tr>\n",
       "    <tr>\n",
       "      <th>83</th>\n",
       "      <td>yengeçler</td>\n",
       "      <td>00:13:30.709</td>\n",
       "      <td>00:13:32.903</td>\n",
       "      <td>diğer  yengeçler  ısırmaya  çalışır</td>\n",
       "      <td>WdX1_wNUj0E</td>\n",
       "    </tr>\n",
       "    <tr>\n",
       "      <th>1</th>\n",
       "      <td>küçük</td>\n",
       "      <td>00:00:04.534</td>\n",
       "      <td>00:00:06.420</td>\n",
       "      <td>küçük  balıkların  değişimi</td>\n",
       "      <td>WdX1_wNUj0E</td>\n",
       "    </tr>\n",
       "    <tr>\n",
       "      <th>18</th>\n",
       "      <td>küçük</td>\n",
       "      <td>00:02:00.945</td>\n",
       "      <td>00:02:01.963</td>\n",
       "      <td>küçük  pinna</td>\n",
       "      <td>WdX1_wNUj0E</td>\n",
       "    </tr>\n",
       "    <tr>\n",
       "      <th>24</th>\n",
       "      <td>küçük</td>\n",
       "      <td>00:02:35.453</td>\n",
       "      <td>00:02:38.697</td>\n",
       "      <td>bu  küçük  iki  balıkta  eşkina  yavrusu</td>\n",
       "      <td>WdX1_wNUj0E</td>\n",
       "    </tr>\n",
       "    <tr>\n",
       "      <th>26</th>\n",
       "      <td>küçük</td>\n",
       "      <td>00:03:02.508</td>\n",
       "      <td>00:03:08.009</td>\n",
       "      <td>eşkiyaların  daha  küçük  hali  ve  büyükleri ...</td>\n",
       "      <td>WdX1_wNUj0E</td>\n",
       "    </tr>\n",
       "    <tr>\n",
       "      <th>41</th>\n",
       "      <td>küçük</td>\n",
       "      <td>00:04:25.755</td>\n",
       "      <td>00:04:28.780</td>\n",
       "      <td>küçük  balık  popülasyonu  tekrar  dengelendi</td>\n",
       "      <td>WdX1_wNUj0E</td>\n",
       "    </tr>\n",
       "    <tr>\n",
       "      <th>0</th>\n",
       "      <td>darıca</td>\n",
       "      <td>00:00:01.056</td>\n",
       "      <td>00:00:04.244</td>\n",
       "      <td>bu  videoda  darıca  ve  adalar  arasında  dalış</td>\n",
       "      <td>WdX1_wNUj0E</td>\n",
       "    </tr>\n",
       "    <tr>\n",
       "      <th>4</th>\n",
       "      <td>darıca</td>\n",
       "      <td>00:00:17.600</td>\n",
       "      <td>00:00:18.682</td>\n",
       "      <td>darıca</td>\n",
       "      <td>WdX1_wNUj0E</td>\n",
       "    </tr>\n",
       "    <tr>\n",
       "      <th>289</th>\n",
       "      <td>güle</td>\n",
       "      <td>00:11:01.910</td>\n",
       "      <td>00:11:03.910</td>\n",
       "      <td>hadi  geçmiş  olsun, güle  güle.</td>\n",
       "      <td>4CxHodWJCAc</td>\n",
       "    </tr>\n",
       "    <tr>\n",
       "      <th>291</th>\n",
       "      <td>güle</td>\n",
       "      <td>00:11:06.503</td>\n",
       "      <td>00:11:08.065</td>\n",
       "      <td>güle  güle  anneciğim. darası  alınmış  mıydı?</td>\n",
       "      <td>4CxHodWJCAc</td>\n",
       "    </tr>\n",
       "    <tr>\n",
       "      <th>306</th>\n",
       "      <td>güle</td>\n",
       "      <td>00:11:53.433</td>\n",
       "      <td>00:11:54.943</td>\n",
       "      <td>haydi  güle  güle.</td>\n",
       "      <td>4CxHodWJCAc</td>\n",
       "    </tr>\n",
       "    <tr>\n",
       "      <th>2</th>\n",
       "      <td>göreceğiniz</td>\n",
       "      <td>00:00:06.808</td>\n",
       "      <td>00:00:08.780</td>\n",
       "      <td>ilk  defa  göreceğiniz  detaylar</td>\n",
       "      <td>WdX1_wNUj0E</td>\n",
       "    </tr>\n",
       "    <tr>\n",
       "      <th>438</th>\n",
       "      <td>bensiz</td>\n",
       "      <td>00:01:13.200</td>\n",
       "      <td>00:01:17.620</td>\n",
       "      <td>hani  her  şeyindim, bensiz  sen  yoktun.</td>\n",
       "      <td>c1QvY3X64qM</td>\n",
       "    </tr>\n",
       "    <tr>\n",
       "      <th>454</th>\n",
       "      <td>bensiz</td>\n",
       "      <td>00:02:56.180</td>\n",
       "      <td>00:03:00.560</td>\n",
       "      <td>hani  her  şeyindim, bensiz  sen  yoktun.</td>\n",
       "      <td>c1QvY3X64qM</td>\n",
       "    </tr>\n",
       "    <tr>\n",
       "      <th>468</th>\n",
       "      <td>bensiz</td>\n",
       "      <td>00:03:54.800</td>\n",
       "      <td>00:03:59.300</td>\n",
       "      <td>hani  her  şeyindim, bensiz  sen  yoktun.</td>\n",
       "      <td>c1QvY3X64qM</td>\n",
       "    </tr>\n",
       "  </tbody>\n",
       "</table>\n",
       "</div>"
      ],
      "text/plain": [
       "            word    start_time      end_time  \\\n",
       "289       geçmiş  00:11:01.910  00:11:03.910   \n",
       "423       geçmiş  00:09:32.389  00:09:37.304   \n",
       "433       geçmiş  00:11:04.126  00:11:08.533   \n",
       "83     yengeçler  00:13:30.709  00:13:32.903   \n",
       "1          küçük  00:00:04.534  00:00:06.420   \n",
       "18         küçük  00:02:00.945  00:02:01.963   \n",
       "24         küçük  00:02:35.453  00:02:38.697   \n",
       "26         küçük  00:03:02.508  00:03:08.009   \n",
       "41         küçük  00:04:25.755  00:04:28.780   \n",
       "0         darıca  00:00:01.056  00:00:04.244   \n",
       "4         darıca  00:00:17.600  00:00:18.682   \n",
       "289         güle  00:11:01.910  00:11:03.910   \n",
       "291         güle  00:11:06.503  00:11:08.065   \n",
       "306         güle  00:11:53.433  00:11:54.943   \n",
       "2    göreceğiniz  00:00:06.808  00:00:08.780   \n",
       "438       bensiz  00:01:13.200  00:01:17.620   \n",
       "454       bensiz  00:02:56.180  00:03:00.560   \n",
       "468       bensiz  00:03:54.800  00:03:59.300   \n",
       "\n",
       "                                              sentence     video_id  \n",
       "289                   hadi  geçmiş  olsun, güle  güle.  4CxHodWJCAc  \n",
       "423  evet  bu  harika  muayene  bitti  sona  erdi. ...  gOq59m1pUi4  \n",
       "433   evet, çok  geçmiş  olsun. çok  teşekkür  ederiz.  gOq59m1pUi4  \n",
       "83                 diğer  yengeçler  ısırmaya  çalışır  WdX1_wNUj0E  \n",
       "1                          küçük  balıkların  değişimi  WdX1_wNUj0E  \n",
       "18                                        küçük  pinna  WdX1_wNUj0E  \n",
       "24            bu  küçük  iki  balıkta  eşkina  yavrusu  WdX1_wNUj0E  \n",
       "26   eşkiyaların  daha  küçük  hali  ve  büyükleri ...  WdX1_wNUj0E  \n",
       "41       küçük  balık  popülasyonu  tekrar  dengelendi  WdX1_wNUj0E  \n",
       "0     bu  videoda  darıca  ve  adalar  arasında  dalış  WdX1_wNUj0E  \n",
       "4                                               darıca  WdX1_wNUj0E  \n",
       "289                   hadi  geçmiş  olsun, güle  güle.  4CxHodWJCAc  \n",
       "291     güle  güle  anneciğim. darası  alınmış  mıydı?  4CxHodWJCAc  \n",
       "306                                 haydi  güle  güle.  4CxHodWJCAc  \n",
       "2                     ilk  defa  göreceğiniz  detaylar  WdX1_wNUj0E  \n",
       "438          hani  her  şeyindim, bensiz  sen  yoktun.  c1QvY3X64qM  \n",
       "454          hani  her  şeyindim, bensiz  sen  yoktun.  c1QvY3X64qM  \n",
       "468          hani  her  şeyindim, bensiz  sen  yoktun.  c1QvY3X64qM  "
      ]
     },
     "execution_count": 326,
     "metadata": {},
     "output_type": "execute_result"
    }
   ],
   "source": [
    "result_df"
   ]
  },
  {
   "cell_type": "code",
   "execution_count": 327,
   "metadata": {},
   "outputs": [
    {
     "name": "stderr",
     "output_type": "stream",
     "text": [
      "/home/kurubal/anaconda3/envs/py39/lib/python3.9/site-packages/pandas/core/apply.py:507: FutureWarning: Dropping invalid columns in DataFrameGroupBy.mean is deprecated. In a future version, a TypeError will be raised. Before calling .mean, select only columns which should be valid for the function.\n",
      "  return self._try_aggregate_string_function(obj, f, *self.args, **self.kwargs)\n"
     ]
    },
    {
     "data": {
      "text/html": [
       "<div>\n",
       "<style scoped>\n",
       "    .dataframe tbody tr th:only-of-type {\n",
       "        vertical-align: middle;\n",
       "    }\n",
       "\n",
       "    .dataframe tbody tr th {\n",
       "        vertical-align: top;\n",
       "    }\n",
       "\n",
       "    .dataframe thead th {\n",
       "        text-align: right;\n",
       "    }\n",
       "</style>\n",
       "<table border=\"1\" class=\"dataframe\">\n",
       "  <thead>\n",
       "    <tr style=\"text-align: right;\">\n",
       "      <th></th>\n",
       "    </tr>\n",
       "    <tr>\n",
       "      <th>word</th>\n",
       "    </tr>\n",
       "  </thead>\n",
       "  <tbody>\n",
       "    <tr>\n",
       "      <th>bensiz</th>\n",
       "    </tr>\n",
       "    <tr>\n",
       "      <th>darıca</th>\n",
       "    </tr>\n",
       "    <tr>\n",
       "      <th>geçmiş</th>\n",
       "    </tr>\n",
       "    <tr>\n",
       "      <th>göreceğiniz</th>\n",
       "    </tr>\n",
       "    <tr>\n",
       "      <th>güle</th>\n",
       "    </tr>\n",
       "    <tr>\n",
       "      <th>küçük</th>\n",
       "    </tr>\n",
       "    <tr>\n",
       "      <th>yengeçler</th>\n",
       "    </tr>\n",
       "  </tbody>\n",
       "</table>\n",
       "</div>"
      ],
      "text/plain": [
       "Empty DataFrame\n",
       "Columns: []\n",
       "Index: [bensiz, darıca, geçmiş, göreceğiniz, güle, küçük, yengeçler]"
      ]
     },
     "execution_count": 327,
     "metadata": {},
     "output_type": "execute_result"
    }
   ],
   "source": [
    "pd.pivot_table(result_df, index=[\"word\"]) # ???"
   ]
  },
  {
   "cell_type": "markdown",
   "metadata": {},
   "source": [
    "#### Sentence"
   ]
  },
  {
   "cell_type": "code",
   "execution_count": 328,
   "metadata": {},
   "outputs": [],
   "source": [
    "ngram_list = ['diğer yengeçler', 'bir bu', 'ne dedin', 'için mi', 'o neden', 'ben de', 'çok ama', 'seni seviyorum','videoda darıca', 'hani her']"
   ]
  },
  {
   "cell_type": "code",
   "execution_count": 333,
   "metadata": {},
   "outputs": [],
   "source": [
    "result_sent_list = []\n",
    "for i in df_youtube_sentence.sentence:\n",
    "    for j in ngram_list:\n",
    "        if j in i:\n",
    "            result_sent_list.append(i)\n",
    "#print(result_sent_list)"
   ]
  },
  {
   "cell_type": "code",
   "execution_count": 334,
   "metadata": {},
   "outputs": [
    {
     "data": {
      "text/html": [
       "<div>\n",
       "<style scoped>\n",
       "    .dataframe tbody tr th:only-of-type {\n",
       "        vertical-align: middle;\n",
       "    }\n",
       "\n",
       "    .dataframe tbody tr th {\n",
       "        vertical-align: top;\n",
       "    }\n",
       "\n",
       "    .dataframe thead th {\n",
       "        text-align: right;\n",
       "    }\n",
       "</style>\n",
       "<table border=\"1\" class=\"dataframe\">\n",
       "  <thead>\n",
       "    <tr style=\"text-align: right;\">\n",
       "      <th></th>\n",
       "    </tr>\n",
       "  </thead>\n",
       "  <tbody>\n",
       "  </tbody>\n",
       "</table>\n",
       "</div>"
      ],
      "text/plain": [
       "Empty DataFrame\n",
       "Columns: []\n",
       "Index: []"
      ]
     },
     "execution_count": 334,
     "metadata": {},
     "output_type": "execute_result"
    }
   ],
   "source": [
    "pd.DataFrame(result_sent_list)"
   ]
  },
  {
   "cell_type": "code",
   "execution_count": 344,
   "metadata": {},
   "outputs": [
    {
     "data": {
      "text/html": [
       "<div>\n",
       "<style scoped>\n",
       "    .dataframe tbody tr th:only-of-type {\n",
       "        vertical-align: middle;\n",
       "    }\n",
       "\n",
       "    .dataframe tbody tr th {\n",
       "        vertical-align: top;\n",
       "    }\n",
       "\n",
       "    .dataframe thead th {\n",
       "        text-align: right;\n",
       "    }\n",
       "</style>\n",
       "<table border=\"1\" class=\"dataframe\">\n",
       "  <thead>\n",
       "    <tr style=\"text-align: right;\">\n",
       "      <th></th>\n",
       "      <th>start_time</th>\n",
       "      <th>end_time</th>\n",
       "      <th>sentence</th>\n",
       "      <th>video_id</th>\n",
       "    </tr>\n",
       "  </thead>\n",
       "  <tbody>\n",
       "  </tbody>\n",
       "</table>\n",
       "</div>"
      ],
      "text/plain": [
       "Empty DataFrame\n",
       "Columns: [start_time, end_time, sentence, video_id]\n",
       "Index: []"
      ]
     },
     "execution_count": 344,
     "metadata": {},
     "output_type": "execute_result"
    }
   ],
   "source": [
    "df_youtube_sentence[df_youtube_sentence.sentence.str.contains('gül du')]"
   ]
  },
  {
   "cell_type": "code",
   "execution_count": 337,
   "metadata": {},
   "outputs": [
    {
     "data": {
      "text/html": [
       "<div>\n",
       "<style scoped>\n",
       "    .dataframe tbody tr th:only-of-type {\n",
       "        vertical-align: middle;\n",
       "    }\n",
       "\n",
       "    .dataframe tbody tr th {\n",
       "        vertical-align: top;\n",
       "    }\n",
       "\n",
       "    .dataframe thead th {\n",
       "        text-align: right;\n",
       "    }\n",
       "</style>\n",
       "<table border=\"1\" class=\"dataframe\">\n",
       "  <thead>\n",
       "    <tr style=\"text-align: right;\">\n",
       "      <th></th>\n",
       "      <th>start_time</th>\n",
       "      <th>end_time</th>\n",
       "      <th>sentence</th>\n",
       "      <th>video_id</th>\n",
       "    </tr>\n",
       "  </thead>\n",
       "  <tbody>\n",
       "  </tbody>\n",
       "</table>\n",
       "</div>"
      ],
      "text/plain": [
       "Empty DataFrame\n",
       "Columns: [start_time, end_time, sentence, video_id]\n",
       "Index: []"
      ]
     },
     "execution_count": 337,
     "metadata": {},
     "output_type": "execute_result"
    }
   ],
   "source": [
    "df_youtube_sentence[df_youtube_sentence.sentence.str.contains('gül dudaklım')].head(5)"
   ]
  },
  {
   "cell_type": "code",
   "execution_count": null,
   "metadata": {},
   "outputs": [],
   "source": []
  },
  {
   "cell_type": "code",
   "execution_count": null,
   "metadata": {},
   "outputs": [],
   "source": []
  },
  {
   "cell_type": "code",
   "execution_count": null,
   "metadata": {},
   "outputs": [],
   "source": []
  },
  {
   "cell_type": "code",
   "execution_count": 239,
   "metadata": {},
   "outputs": [
    {
     "name": "stderr",
     "output_type": "stream",
     "text": [
      "/tmp/ipykernel_26419/4289891598.py:1: UserWarning: This pattern has match groups. To actually get the groups, use str.extract.\n",
      "  df_youtube_sentence[df_youtube_sentence.sentence.str.contains(r\"(^.*geçmiş olsun.*)\", na=True)].head(5)\n"
     ]
    },
    {
     "data": {
      "text/html": [
       "<div>\n",
       "<style scoped>\n",
       "    .dataframe tbody tr th:only-of-type {\n",
       "        vertical-align: middle;\n",
       "    }\n",
       "\n",
       "    .dataframe tbody tr th {\n",
       "        vertical-align: top;\n",
       "    }\n",
       "\n",
       "    .dataframe thead th {\n",
       "        text-align: right;\n",
       "    }\n",
       "</style>\n",
       "<table border=\"1\" class=\"dataframe\">\n",
       "  <thead>\n",
       "    <tr style=\"text-align: right;\">\n",
       "      <th></th>\n",
       "      <th>start_time</th>\n",
       "      <th>end_time</th>\n",
       "      <th>sentence</th>\n",
       "      <th>video_id</th>\n",
       "    </tr>\n",
       "  </thead>\n",
       "  <tbody>\n",
       "  </tbody>\n",
       "</table>\n",
       "</div>"
      ],
      "text/plain": [
       "Empty DataFrame\n",
       "Columns: [start_time, end_time, sentence, video_id]\n",
       "Index: []"
      ]
     },
     "execution_count": 239,
     "metadata": {},
     "output_type": "execute_result"
    }
   ],
   "source": [
    "df_youtube_sentence[df_youtube_sentence.sentence.str.contains(r\"(^.*geçmiş olsun.*)\", na=True)].head(5)"
   ]
  },
  {
   "cell_type": "code",
   "execution_count": 248,
   "metadata": {},
   "outputs": [
    {
     "data": {
      "text/html": [
       "<div>\n",
       "<style scoped>\n",
       "    .dataframe tbody tr th:only-of-type {\n",
       "        vertical-align: middle;\n",
       "    }\n",
       "\n",
       "    .dataframe tbody tr th {\n",
       "        vertical-align: top;\n",
       "    }\n",
       "\n",
       "    .dataframe thead th {\n",
       "        text-align: right;\n",
       "    }\n",
       "</style>\n",
       "<table border=\"1\" class=\"dataframe\">\n",
       "  <thead>\n",
       "    <tr style=\"text-align: right;\">\n",
       "      <th></th>\n",
       "      <th>start_time</th>\n",
       "      <th>end_time</th>\n",
       "      <th>sentence</th>\n",
       "      <th>video_id</th>\n",
       "    </tr>\n",
       "  </thead>\n",
       "  <tbody>\n",
       "    <tr>\n",
       "      <th>1</th>\n",
       "      <td>00:00:04.534</td>\n",
       "      <td>00:00:06.420</td>\n",
       "      <td>küçük  balıkların  değişimi</td>\n",
       "      <td>WdX1_wNUj0E</td>\n",
       "    </tr>\n",
       "    <tr>\n",
       "      <th>2</th>\n",
       "      <td>00:00:06.808</td>\n",
       "      <td>00:00:08.780</td>\n",
       "      <td>ilk  defa  göreceğiniz  detaylar</td>\n",
       "      <td>WdX1_wNUj0E</td>\n",
       "    </tr>\n",
       "    <tr>\n",
       "      <th>4</th>\n",
       "      <td>00:00:17.600</td>\n",
       "      <td>00:00:18.682</td>\n",
       "      <td>darıca</td>\n",
       "      <td>WdX1_wNUj0E</td>\n",
       "    </tr>\n",
       "    <tr>\n",
       "      <th>5</th>\n",
       "      <td>00:00:22.730</td>\n",
       "      <td>00:00:25.689</td>\n",
       "      <td>i̇stanbul' a  yakın  kocaeli' nin  bir  ilçesi</td>\n",
       "      <td>WdX1_wNUj0E</td>\n",
       "    </tr>\n",
       "    <tr>\n",
       "      <th>9</th>\n",
       "      <td>00:00:57.632</td>\n",
       "      <td>00:00:59.673</td>\n",
       "      <td>diğer  adıyla  fulya  balığı</td>\n",
       "      <td>WdX1_wNUj0E</td>\n",
       "    </tr>\n",
       "    <tr>\n",
       "      <th>...</th>\n",
       "      <td>...</td>\n",
       "      <td>...</td>\n",
       "      <td>...</td>\n",
       "      <td>...</td>\n",
       "    </tr>\n",
       "    <tr>\n",
       "      <th>459</th>\n",
       "      <td>00:03:15.080</td>\n",
       "      <td>00:03:17.980</td>\n",
       "      <td>doyamam  senin  sevgine.</td>\n",
       "      <td>c1QvY3X64qM</td>\n",
       "    </tr>\n",
       "    <tr>\n",
       "      <th>465</th>\n",
       "      <td>00:03:45.140</td>\n",
       "      <td>00:03:47.720</td>\n",
       "      <td>ayrılamazdık  ya.</td>\n",
       "      <td>c1QvY3X64qM</td>\n",
       "    </tr>\n",
       "    <tr>\n",
       "      <th>467</th>\n",
       "      <td>00:03:53.160</td>\n",
       "      <td>00:03:54.400</td>\n",
       "      <td>dön.</td>\n",
       "      <td>c1QvY3X64qM</td>\n",
       "    </tr>\n",
       "    <tr>\n",
       "      <th>469</th>\n",
       "      <td>00:03:59.300</td>\n",
       "      <td>00:04:01.940</td>\n",
       "      <td>ayrılamazdık  ya.</td>\n",
       "      <td>c1QvY3X64qM</td>\n",
       "    </tr>\n",
       "    <tr>\n",
       "      <th>471</th>\n",
       "      <td>00:04:07.560</td>\n",
       "      <td>00:04:08.960</td>\n",
       "      <td>dön.</td>\n",
       "      <td>c1QvY3X64qM</td>\n",
       "    </tr>\n",
       "  </tbody>\n",
       "</table>\n",
       "<p>130 rows × 4 columns</p>\n",
       "</div>"
      ],
      "text/plain": [
       "       start_time      end_time  \\\n",
       "1    00:00:04.534  00:00:06.420   \n",
       "2    00:00:06.808  00:00:08.780   \n",
       "4    00:00:17.600  00:00:18.682   \n",
       "5    00:00:22.730  00:00:25.689   \n",
       "9    00:00:57.632  00:00:59.673   \n",
       "..            ...           ...   \n",
       "459  00:03:15.080  00:03:17.980   \n",
       "465  00:03:45.140  00:03:47.720   \n",
       "467  00:03:53.160  00:03:54.400   \n",
       "469  00:03:59.300  00:04:01.940   \n",
       "471  00:04:07.560  00:04:08.960   \n",
       "\n",
       "                                           sentence     video_id  \n",
       "1                       küçük  balıkların  değişimi  WdX1_wNUj0E  \n",
       "2                  ilk  defa  göreceğiniz  detaylar  WdX1_wNUj0E  \n",
       "4                                            darıca  WdX1_wNUj0E  \n",
       "5    i̇stanbul' a  yakın  kocaeli' nin  bir  ilçesi  WdX1_wNUj0E  \n",
       "9                      diğer  adıyla  fulya  balığı  WdX1_wNUj0E  \n",
       "..                                              ...          ...  \n",
       "459                        doyamam  senin  sevgine.  c1QvY3X64qM  \n",
       "465                               ayrılamazdık  ya.  c1QvY3X64qM  \n",
       "467                                            dön.  c1QvY3X64qM  \n",
       "469                               ayrılamazdık  ya.  c1QvY3X64qM  \n",
       "471                                            dön.  c1QvY3X64qM  \n",
       "\n",
       "[130 rows x 4 columns]"
      ]
     },
     "execution_count": 248,
     "metadata": {},
     "output_type": "execute_result"
    }
   ],
   "source": [
    "df_youtube_sentence[df_youtube_sentence.sentence.str.match(r'([ilk defa])')==True]"
   ]
  },
  {
   "cell_type": "code",
   "execution_count": 221,
   "metadata": {},
   "outputs": [
    {
     "data": {
      "text/html": [
       "<div>\n",
       "<style scoped>\n",
       "    .dataframe tbody tr th:only-of-type {\n",
       "        vertical-align: middle;\n",
       "    }\n",
       "\n",
       "    .dataframe tbody tr th {\n",
       "        vertical-align: top;\n",
       "    }\n",
       "\n",
       "    .dataframe thead th {\n",
       "        text-align: right;\n",
       "    }\n",
       "</style>\n",
       "<table border=\"1\" class=\"dataframe\">\n",
       "  <thead>\n",
       "    <tr style=\"text-align: right;\">\n",
       "      <th></th>\n",
       "      <th>start_time</th>\n",
       "      <th>end_time</th>\n",
       "      <th>sentence</th>\n",
       "      <th>video_id</th>\n",
       "    </tr>\n",
       "  </thead>\n",
       "  <tbody>\n",
       "  </tbody>\n",
       "</table>\n",
       "</div>"
      ],
      "text/plain": [
       "Empty DataFrame\n",
       "Columns: [start_time, end_time, sentence, video_id]\n",
       "Index: []"
      ]
     },
     "execution_count": 221,
     "metadata": {},
     "output_type": "execute_result"
    }
   ],
   "source": [
    "df_youtube_sentence[df_youtube_sentence.sentence.str.contains(r'(?:\\s|^)\\\\geçmiş\\\\olsun(?:\\s|$)', na=True)].head(5)"
   ]
  },
  {
   "cell_type": "code",
   "execution_count": 307,
   "metadata": {},
   "outputs": [
    {
     "ename": "error",
     "evalue": "unbalanced parenthesis at position 13",
     "output_type": "error",
     "traceback": [
      "\u001b[0;31m---------------------------------------------------------------------------\u001b[0m",
      "\u001b[0;31merror\u001b[0m                                     Traceback (most recent call last)",
      "\u001b[0;32m/tmp/ipykernel_26419/1186812893.py\u001b[0m in \u001b[0;36m<module>\u001b[0;34m\u001b[0m\n\u001b[0;32m----> 1\u001b[0;31m \u001b[0mdf_youtube_sentence\u001b[0m\u001b[0;34m[\u001b[0m\u001b[0mdf_youtube_sentence\u001b[0m\u001b[0;34m.\u001b[0m\u001b[0msentence\u001b[0m\u001b[0;34m.\u001b[0m\u001b[0mstr\u001b[0m\u001b[0;34m.\u001b[0m\u001b[0mmatch\u001b[0m\u001b[0;34m(\u001b[0m\u001b[0;34m\"[hadi geçmiş])\"\u001b[0m\u001b[0;34m)\u001b[0m\u001b[0;34m]\u001b[0m\u001b[0;34m\u001b[0m\u001b[0;34m\u001b[0m\u001b[0m\n\u001b[0m",
      "\u001b[0;32m~/anaconda3/envs/py39/lib/python3.9/site-packages/pandas/core/strings/accessor.py\u001b[0m in \u001b[0;36mwrapper\u001b[0;34m(self, *args, **kwargs)\u001b[0m\n\u001b[1;32m    114\u001b[0m                 )\n\u001b[1;32m    115\u001b[0m                 \u001b[0;32mraise\u001b[0m \u001b[0mTypeError\u001b[0m\u001b[0;34m(\u001b[0m\u001b[0mmsg\u001b[0m\u001b[0;34m)\u001b[0m\u001b[0;34m\u001b[0m\u001b[0;34m\u001b[0m\u001b[0m\n\u001b[0;32m--> 116\u001b[0;31m             \u001b[0;32mreturn\u001b[0m \u001b[0mfunc\u001b[0m\u001b[0;34m(\u001b[0m\u001b[0mself\u001b[0m\u001b[0;34m,\u001b[0m \u001b[0;34m*\u001b[0m\u001b[0margs\u001b[0m\u001b[0;34m,\u001b[0m \u001b[0;34m**\u001b[0m\u001b[0mkwargs\u001b[0m\u001b[0;34m)\u001b[0m\u001b[0;34m\u001b[0m\u001b[0;34m\u001b[0m\u001b[0m\n\u001b[0m\u001b[1;32m    117\u001b[0m \u001b[0;34m\u001b[0m\u001b[0m\n\u001b[1;32m    118\u001b[0m         \u001b[0mwrapper\u001b[0m\u001b[0;34m.\u001b[0m\u001b[0m__name__\u001b[0m \u001b[0;34m=\u001b[0m \u001b[0mfunc_name\u001b[0m\u001b[0;34m\u001b[0m\u001b[0;34m\u001b[0m\u001b[0m\n",
      "\u001b[0;32m~/anaconda3/envs/py39/lib/python3.9/site-packages/pandas/core/strings/accessor.py\u001b[0m in \u001b[0;36mmatch\u001b[0;34m(self, pat, case, flags, na)\u001b[0m\n\u001b[1;32m   1191\u001b[0m         \u001b[0mextract\u001b[0m \u001b[0;34m:\u001b[0m \u001b[0mExtract\u001b[0m \u001b[0mmatched\u001b[0m \u001b[0mgroups\u001b[0m\u001b[0;34m.\u001b[0m\u001b[0;34m\u001b[0m\u001b[0;34m\u001b[0m\u001b[0m\n\u001b[1;32m   1192\u001b[0m         \"\"\"\n\u001b[0;32m-> 1193\u001b[0;31m         \u001b[0mresult\u001b[0m \u001b[0;34m=\u001b[0m \u001b[0mself\u001b[0m\u001b[0;34m.\u001b[0m\u001b[0m_data\u001b[0m\u001b[0;34m.\u001b[0m\u001b[0marray\u001b[0m\u001b[0;34m.\u001b[0m\u001b[0m_str_match\u001b[0m\u001b[0;34m(\u001b[0m\u001b[0mpat\u001b[0m\u001b[0;34m,\u001b[0m \u001b[0mcase\u001b[0m\u001b[0;34m=\u001b[0m\u001b[0mcase\u001b[0m\u001b[0;34m,\u001b[0m \u001b[0mflags\u001b[0m\u001b[0;34m=\u001b[0m\u001b[0mflags\u001b[0m\u001b[0;34m,\u001b[0m \u001b[0mna\u001b[0m\u001b[0;34m=\u001b[0m\u001b[0mna\u001b[0m\u001b[0;34m)\u001b[0m\u001b[0;34m\u001b[0m\u001b[0;34m\u001b[0m\u001b[0m\n\u001b[0m\u001b[1;32m   1194\u001b[0m         \u001b[0;32mreturn\u001b[0m \u001b[0mself\u001b[0m\u001b[0;34m.\u001b[0m\u001b[0m_wrap_result\u001b[0m\u001b[0;34m(\u001b[0m\u001b[0mresult\u001b[0m\u001b[0;34m,\u001b[0m \u001b[0mfill_value\u001b[0m\u001b[0;34m=\u001b[0m\u001b[0mna\u001b[0m\u001b[0;34m,\u001b[0m \u001b[0mreturns_string\u001b[0m\u001b[0;34m=\u001b[0m\u001b[0;32mFalse\u001b[0m\u001b[0;34m)\u001b[0m\u001b[0;34m\u001b[0m\u001b[0;34m\u001b[0m\u001b[0m\n\u001b[1;32m   1195\u001b[0m \u001b[0;34m\u001b[0m\u001b[0m\n",
      "\u001b[0;32m~/anaconda3/envs/py39/lib/python3.9/site-packages/pandas/core/strings/object_array.py\u001b[0m in \u001b[0;36m_str_match\u001b[0;34m(self, pat, case, flags, na)\u001b[0m\n\u001b[1;32m    197\u001b[0m             \u001b[0mflags\u001b[0m \u001b[0;34m|=\u001b[0m \u001b[0mre\u001b[0m\u001b[0;34m.\u001b[0m\u001b[0mIGNORECASE\u001b[0m\u001b[0;34m\u001b[0m\u001b[0;34m\u001b[0m\u001b[0m\n\u001b[1;32m    198\u001b[0m \u001b[0;34m\u001b[0m\u001b[0m\n\u001b[0;32m--> 199\u001b[0;31m         \u001b[0mregex\u001b[0m \u001b[0;34m=\u001b[0m \u001b[0mre\u001b[0m\u001b[0;34m.\u001b[0m\u001b[0mcompile\u001b[0m\u001b[0;34m(\u001b[0m\u001b[0mpat\u001b[0m\u001b[0;34m,\u001b[0m \u001b[0mflags\u001b[0m\u001b[0;34m=\u001b[0m\u001b[0mflags\u001b[0m\u001b[0;34m)\u001b[0m\u001b[0;34m\u001b[0m\u001b[0;34m\u001b[0m\u001b[0m\n\u001b[0m\u001b[1;32m    200\u001b[0m \u001b[0;34m\u001b[0m\u001b[0m\n\u001b[1;32m    201\u001b[0m         \u001b[0mf\u001b[0m \u001b[0;34m=\u001b[0m \u001b[0;32mlambda\u001b[0m \u001b[0mx\u001b[0m\u001b[0;34m:\u001b[0m \u001b[0mregex\u001b[0m\u001b[0;34m.\u001b[0m\u001b[0mmatch\u001b[0m\u001b[0;34m(\u001b[0m\u001b[0mx\u001b[0m\u001b[0;34m)\u001b[0m \u001b[0;32mis\u001b[0m \u001b[0;32mnot\u001b[0m \u001b[0;32mNone\u001b[0m\u001b[0;34m\u001b[0m\u001b[0;34m\u001b[0m\u001b[0m\n",
      "\u001b[0;32m~/anaconda3/envs/py39/lib/python3.9/re.py\u001b[0m in \u001b[0;36mcompile\u001b[0;34m(pattern, flags)\u001b[0m\n\u001b[1;32m    250\u001b[0m \u001b[0;32mdef\u001b[0m \u001b[0mcompile\u001b[0m\u001b[0;34m(\u001b[0m\u001b[0mpattern\u001b[0m\u001b[0;34m,\u001b[0m \u001b[0mflags\u001b[0m\u001b[0;34m=\u001b[0m\u001b[0;36m0\u001b[0m\u001b[0;34m)\u001b[0m\u001b[0;34m:\u001b[0m\u001b[0;34m\u001b[0m\u001b[0;34m\u001b[0m\u001b[0m\n\u001b[1;32m    251\u001b[0m     \u001b[0;34m\"Compile a regular expression pattern, returning a Pattern object.\"\u001b[0m\u001b[0;34m\u001b[0m\u001b[0;34m\u001b[0m\u001b[0m\n\u001b[0;32m--> 252\u001b[0;31m     \u001b[0;32mreturn\u001b[0m \u001b[0m_compile\u001b[0m\u001b[0;34m(\u001b[0m\u001b[0mpattern\u001b[0m\u001b[0;34m,\u001b[0m \u001b[0mflags\u001b[0m\u001b[0;34m)\u001b[0m\u001b[0;34m\u001b[0m\u001b[0;34m\u001b[0m\u001b[0m\n\u001b[0m\u001b[1;32m    253\u001b[0m \u001b[0;34m\u001b[0m\u001b[0m\n\u001b[1;32m    254\u001b[0m \u001b[0;32mdef\u001b[0m \u001b[0mpurge\u001b[0m\u001b[0;34m(\u001b[0m\u001b[0;34m)\u001b[0m\u001b[0;34m:\u001b[0m\u001b[0;34m\u001b[0m\u001b[0;34m\u001b[0m\u001b[0m\n",
      "\u001b[0;32m~/anaconda3/envs/py39/lib/python3.9/re.py\u001b[0m in \u001b[0;36m_compile\u001b[0;34m(pattern, flags)\u001b[0m\n\u001b[1;32m    302\u001b[0m     \u001b[0;32mif\u001b[0m \u001b[0;32mnot\u001b[0m \u001b[0msre_compile\u001b[0m\u001b[0;34m.\u001b[0m\u001b[0misstring\u001b[0m\u001b[0;34m(\u001b[0m\u001b[0mpattern\u001b[0m\u001b[0;34m)\u001b[0m\u001b[0;34m:\u001b[0m\u001b[0;34m\u001b[0m\u001b[0;34m\u001b[0m\u001b[0m\n\u001b[1;32m    303\u001b[0m         \u001b[0;32mraise\u001b[0m \u001b[0mTypeError\u001b[0m\u001b[0;34m(\u001b[0m\u001b[0;34m\"first argument must be string or compiled pattern\"\u001b[0m\u001b[0;34m)\u001b[0m\u001b[0;34m\u001b[0m\u001b[0;34m\u001b[0m\u001b[0m\n\u001b[0;32m--> 304\u001b[0;31m     \u001b[0mp\u001b[0m \u001b[0;34m=\u001b[0m \u001b[0msre_compile\u001b[0m\u001b[0;34m.\u001b[0m\u001b[0mcompile\u001b[0m\u001b[0;34m(\u001b[0m\u001b[0mpattern\u001b[0m\u001b[0;34m,\u001b[0m \u001b[0mflags\u001b[0m\u001b[0;34m)\u001b[0m\u001b[0;34m\u001b[0m\u001b[0;34m\u001b[0m\u001b[0m\n\u001b[0m\u001b[1;32m    305\u001b[0m     \u001b[0;32mif\u001b[0m \u001b[0;32mnot\u001b[0m \u001b[0;34m(\u001b[0m\u001b[0mflags\u001b[0m \u001b[0;34m&\u001b[0m \u001b[0mDEBUG\u001b[0m\u001b[0;34m)\u001b[0m\u001b[0;34m:\u001b[0m\u001b[0;34m\u001b[0m\u001b[0;34m\u001b[0m\u001b[0m\n\u001b[1;32m    306\u001b[0m         \u001b[0;32mif\u001b[0m \u001b[0mlen\u001b[0m\u001b[0;34m(\u001b[0m\u001b[0m_cache\u001b[0m\u001b[0;34m)\u001b[0m \u001b[0;34m>=\u001b[0m \u001b[0m_MAXCACHE\u001b[0m\u001b[0;34m:\u001b[0m\u001b[0;34m\u001b[0m\u001b[0;34m\u001b[0m\u001b[0m\n",
      "\u001b[0;32m~/anaconda3/envs/py39/lib/python3.9/sre_compile.py\u001b[0m in \u001b[0;36mcompile\u001b[0;34m(p, flags)\u001b[0m\n\u001b[1;32m    762\u001b[0m     \u001b[0;32mif\u001b[0m \u001b[0misstring\u001b[0m\u001b[0;34m(\u001b[0m\u001b[0mp\u001b[0m\u001b[0;34m)\u001b[0m\u001b[0;34m:\u001b[0m\u001b[0;34m\u001b[0m\u001b[0;34m\u001b[0m\u001b[0m\n\u001b[1;32m    763\u001b[0m         \u001b[0mpattern\u001b[0m \u001b[0;34m=\u001b[0m \u001b[0mp\u001b[0m\u001b[0;34m\u001b[0m\u001b[0;34m\u001b[0m\u001b[0m\n\u001b[0;32m--> 764\u001b[0;31m         \u001b[0mp\u001b[0m \u001b[0;34m=\u001b[0m \u001b[0msre_parse\u001b[0m\u001b[0;34m.\u001b[0m\u001b[0mparse\u001b[0m\u001b[0;34m(\u001b[0m\u001b[0mp\u001b[0m\u001b[0;34m,\u001b[0m \u001b[0mflags\u001b[0m\u001b[0;34m)\u001b[0m\u001b[0;34m\u001b[0m\u001b[0;34m\u001b[0m\u001b[0m\n\u001b[0m\u001b[1;32m    765\u001b[0m     \u001b[0;32melse\u001b[0m\u001b[0;34m:\u001b[0m\u001b[0;34m\u001b[0m\u001b[0;34m\u001b[0m\u001b[0m\n\u001b[1;32m    766\u001b[0m         \u001b[0mpattern\u001b[0m \u001b[0;34m=\u001b[0m \u001b[0;32mNone\u001b[0m\u001b[0;34m\u001b[0m\u001b[0;34m\u001b[0m\u001b[0m\n",
      "\u001b[0;32m~/anaconda3/envs/py39/lib/python3.9/sre_parse.py\u001b[0m in \u001b[0;36mparse\u001b[0;34m(str, flags, state)\u001b[0m\n\u001b[1;32m    960\u001b[0m     \u001b[0;32mif\u001b[0m \u001b[0msource\u001b[0m\u001b[0;34m.\u001b[0m\u001b[0mnext\u001b[0m \u001b[0;32mis\u001b[0m \u001b[0;32mnot\u001b[0m \u001b[0;32mNone\u001b[0m\u001b[0;34m:\u001b[0m\u001b[0;34m\u001b[0m\u001b[0;34m\u001b[0m\u001b[0m\n\u001b[1;32m    961\u001b[0m         \u001b[0;32massert\u001b[0m \u001b[0msource\u001b[0m\u001b[0;34m.\u001b[0m\u001b[0mnext\u001b[0m \u001b[0;34m==\u001b[0m \u001b[0;34m\")\"\u001b[0m\u001b[0;34m\u001b[0m\u001b[0;34m\u001b[0m\u001b[0m\n\u001b[0;32m--> 962\u001b[0;31m         \u001b[0;32mraise\u001b[0m \u001b[0msource\u001b[0m\u001b[0;34m.\u001b[0m\u001b[0merror\u001b[0m\u001b[0;34m(\u001b[0m\u001b[0;34m\"unbalanced parenthesis\"\u001b[0m\u001b[0;34m)\u001b[0m\u001b[0;34m\u001b[0m\u001b[0;34m\u001b[0m\u001b[0m\n\u001b[0m\u001b[1;32m    963\u001b[0m \u001b[0;34m\u001b[0m\u001b[0m\n\u001b[1;32m    964\u001b[0m     \u001b[0;32mif\u001b[0m \u001b[0mflags\u001b[0m \u001b[0;34m&\u001b[0m \u001b[0mSRE_FLAG_DEBUG\u001b[0m\u001b[0;34m:\u001b[0m\u001b[0;34m\u001b[0m\u001b[0;34m\u001b[0m\u001b[0m\n",
      "\u001b[0;31merror\u001b[0m: unbalanced parenthesis at position 13"
     ]
    }
   ],
   "source": [
    "df_youtube_sentence[df_youtube_sentence.sentence.str.match(\"[hadi geçmiş])\")]"
   ]
  },
  {
   "cell_type": "code",
   "execution_count": null,
   "metadata": {},
   "outputs": [],
   "source": [
    "r'(^w{5})'"
   ]
  },
  {
   "cell_type": "code",
   "execution_count": 252,
   "metadata": {},
   "outputs": [
    {
     "ename": "AttributeError",
     "evalue": "'str' object has no attribute 'str'",
     "output_type": "error",
     "traceback": [
      "\u001b[0;31m---------------------------------------------------------------------------\u001b[0m",
      "\u001b[0;31mAttributeError\u001b[0m                            Traceback (most recent call last)",
      "\u001b[0;32m/tmp/ipykernel_26419/2173374075.py\u001b[0m in \u001b[0;36m<module>\u001b[0;34m\u001b[0m\n\u001b[1;32m      1\u001b[0m \u001b[0msent_list\u001b[0m \u001b[0;34m=\u001b[0m \u001b[0;34m[\u001b[0m\u001b[0;34m]\u001b[0m\u001b[0;34m\u001b[0m\u001b[0;34m\u001b[0m\u001b[0m\n\u001b[1;32m      2\u001b[0m \u001b[0;32mfor\u001b[0m \u001b[0mi\u001b[0m \u001b[0;32min\u001b[0m \u001b[0mdf_youtube_sentence\u001b[0m\u001b[0;34m.\u001b[0m\u001b[0msentence\u001b[0m\u001b[0;34m:\u001b[0m\u001b[0;34m\u001b[0m\u001b[0;34m\u001b[0m\u001b[0m\n\u001b[0;32m----> 3\u001b[0;31m     \u001b[0;32mif\u001b[0m \u001b[0mi\u001b[0m\u001b[0;34m.\u001b[0m\u001b[0mstr\u001b[0m\u001b[0;34m.\u001b[0m\u001b[0mcontains\u001b[0m\u001b[0;34m(\u001b[0m\u001b[0;34mr'([ilk defa])'\u001b[0m\u001b[0;34m,\u001b[0m \u001b[0mna\u001b[0m\u001b[0;34m=\u001b[0m\u001b[0;32mTrue\u001b[0m\u001b[0;34m)\u001b[0m\u001b[0;34m:\u001b[0m\u001b[0;34m\u001b[0m\u001b[0;34m\u001b[0m\u001b[0m\n\u001b[0m\u001b[1;32m      4\u001b[0m         \u001b[0msent_list\u001b[0m\u001b[0;34m.\u001b[0m\u001b[0mappend\u001b[0m\u001b[0;34m(\u001b[0m\u001b[0mi\u001b[0m\u001b[0;34m)\u001b[0m\u001b[0;34m\u001b[0m\u001b[0;34m\u001b[0m\u001b[0m\n",
      "\u001b[0;31mAttributeError\u001b[0m: 'str' object has no attribute 'str'"
     ]
    }
   ],
   "source": [
    "sent_list = []\n",
    "for i in df_youtube_sentence.sentence:\n",
    "    if i.str.contains(r'([ilk defa])', na=True):\n",
    "        sent_list.append(i)"
   ]
  },
  {
   "cell_type": "code",
   "execution_count": 254,
   "metadata": {},
   "outputs": [],
   "source": [
    "sentence_1 = \"ilk defa göreceğiniz\""
   ]
  },
  {
   "cell_type": "code",
   "execution_count": 256,
   "metadata": {},
   "outputs": [
    {
     "ename": "AttributeError",
     "evalue": "'str' object has no attribute 'contains'",
     "output_type": "error",
     "traceback": [
      "\u001b[0;31m---------------------------------------------------------------------------\u001b[0m",
      "\u001b[0;31mAttributeError\u001b[0m                            Traceback (most recent call last)",
      "\u001b[0;32m/tmp/ipykernel_26419/1302926573.py\u001b[0m in \u001b[0;36m<module>\u001b[0;34m\u001b[0m\n\u001b[0;32m----> 1\u001b[0;31m \u001b[0msentence_1\u001b[0m\u001b[0;34m.\u001b[0m\u001b[0mcontains\u001b[0m\u001b[0;34m(\u001b[0m\u001b[0;34mr'([ilk defa])'\u001b[0m\u001b[0;34m,\u001b[0m \u001b[0mna\u001b[0m\u001b[0;34m=\u001b[0m\u001b[0;32mTrue\u001b[0m\u001b[0;34m)\u001b[0m\u001b[0;34m\u001b[0m\u001b[0;34m\u001b[0m\u001b[0m\n\u001b[0m",
      "\u001b[0;31mAttributeError\u001b[0m: 'str' object has no attribute 'contains'"
     ]
    }
   ],
   "source": [
    "sentence_1.contains(r'([ilk defa])', na=True)"
   ]
  },
  {
   "cell_type": "code",
   "execution_count": null,
   "metadata": {},
   "outputs": [],
   "source": [
    "re.compile(r'''[.!?]['\"]?s{1,2}(?=[A-Z])''')"
   ]
  }
 ],
 "metadata": {
  "interpreter": {
   "hash": "651d507d70892fab0fc6529d935cd476f6e2eb1791525b76da6cc8da34bc0503"
  },
  "kernelspec": {
   "display_name": "Python 3.9.5 64-bit ('py39': conda)",
   "language": "python",
   "name": "python3"
  },
  "language_info": {
   "codemirror_mode": {
    "name": "ipython",
    "version": 3
   },
   "file_extension": ".py",
   "mimetype": "text/x-python",
   "name": "python",
   "nbconvert_exporter": "python",
   "pygments_lexer": "ipython3",
   "version": "3.9.5"
  },
  "orig_nbformat": 4
 },
 "nbformat": 4,
 "nbformat_minor": 2
}
