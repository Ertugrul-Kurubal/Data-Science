{
 "cells": [
  {
   "cell_type": "code",
   "execution_count": 10,
   "metadata": {},
   "outputs": [],
   "source": [
    "import pandas as pd\n",
    "import numpy as np\n",
    "import matplotlib.pyplot as plt\n",
    "import json \n",
    "\n",
    "%matplotlib inline\n",
    "\n",
    "from urllib.request import urlopen\n",
    "from bs4 import BeautifulSoup\n",
    "from json2html import *\n",
    "import re"
   ]
  },
  {
   "cell_type": "code",
   "execution_count": 11,
   "metadata": {},
   "outputs": [],
   "source": [
    "videoid = [\"JR7nKXxUVtM\",\"DKTAB8HgIwc\"]"
   ]
  },
  {
   "cell_type": "code",
   "execution_count": 12,
   "metadata": {},
   "outputs": [
    {
     "name": "stdout",
     "output_type": "stream",
     "text": [
      "['<?xml version=\"1.0\" encoding=\"utf-8\" ?>\\n<html>\\n <body>\\n  <transcript>\\n   <text dur=\"0.66\" start=\"6.68\">\\n    &amp;quot;Sen kimsin peki?&amp;quot;\\n   </text>\\n   <text dur=\"1.26\" start=\"7.34\">\\n    &amp;quot;Parolayı söyle&amp;quot;\\n   </text>\\n   <text dur=\"1.62\" start=\"9.44\">\\n    &amp;quot;Ya ben kim olacağım?&amp;quot;\\n   </text>\\n   <text dur=\"0.8\" start=\"11.06\">\\n    &amp;quot;Keloğlan&amp;#39;ım&amp;quot;\\n   </text>\\n   <text dur=\"0.5\" start=\"13.38\">\\n    Ey\\n   </text>\\n   <text dur=\"3.12\" start=\"36.22\">\\n    Uyan güzel aç gözünü\\n   </text>\\n   <text dur=\"2.64\" start=\"39.38\">\\n    Dinle aşıkın sözünü\\n   </text>\\n   <text dur=\"3.12\" start=\"42.04\">\\n    Vermişim  sana özümü\\n   </text>\\n   <text dur=\"2.92\" start=\"45.24\">\\n    Benim aykızım sultanım\\n   </text>\\n   <text dur=\"0.5\" start=\"51.98\">\\n    Uyan uyan...\\n   </text>\\n   <text dur=\"3.32\" start=\"57.2\">\\n    Uyan uyan uyan uyan...\\n   </text>\\n   <text dur=\"2.94\" start=\"72.18\">\\n    Vuruldum sana düşümde\\n   </text>\\n   <text dur=\"2.76\" start=\"75.22\">\\n    Hem baharım hem kışımda\\n   </text>\\n   <text dur=\"3.16\" start=\"78.06\">\\n    Bir sevda şu kel başımda\\n   </text>\\n   <text dur=\"2.76\" start=\"81.28\">\\n    Benim aykızım sultanım\\n   </text>\\n   <text dur=\"1.16\" start=\"87.84\">\\n    Uyan uyan...\\n   </text>\\n   <text dur=\"2.78\" start=\"93.4\">\\n    Uyan uyan uyan uyan...\\n   </text>\\n   <text dur=\"2.48\" start=\"108.58\">\\n    Sen sultansın ben bir kelim\\n   </text>\\n   <text dur=\"2.82\" start=\"111.14\">\\n    Bağlı ayağımla elim\\n   </text>\\n   <text dur=\"3.22\" start=\"114\">\\n    Sevdim seni durmaz dilim\\n   </text>\\n   <text dur=\"2.74\" start=\"117.28\">\\n    Benim aykızım sultanım\\n   </text>\\n   <text dur=\"1.14\" start=\"121.22\">\\n    &amp;quot;Uyan uyan&amp;quot;\\n   </text>\\n   <text dur=\"0.76\" start=\"122.36\">\\n    &amp;quot;Haydi&amp;quot;\\n   </text>\\n   <text dur=\"0.5\" start=\"123.68\">\\n    &amp;quot;Uyan&amp;quot;\\n   </text>\\n   <text dur=\"2.28\" start=\"129.54\">\\n    Uyan uyan uyan uyan...\\n   </text>\\n   <text dur=\"1.4\" start=\"136.72\">\\n    &amp;quot;Uyan uyan...&amp;quot;\\n   </text>\\n   <text dur=\"2\" start=\"147.66\">\\n    Uyan uyan uyan uyan...\\n   </text>\\n   <text dur=\"0.5\" start=\"155.42\">\\n    &amp;quot;Reynmen&amp;quot;\\n   </text>\\n   <text dur=\"0.5\" start=\"158.34\">\\n    &amp;quot;Sultan&amp;quot;\\n   </text>\\n   <text dur=\"1.24\" start=\"165.22\">\\n    &amp;quot;Uyanmıyo ya...&amp;quot;\\n   </text>\\n  </transcript>\\n </body>\\n</html>', '<?xml version=\"1.0\" encoding=\"utf-8\" ?>\\n<html>\\n <body>\\n  <transcript>\\n   <text dur=\"19.3\" start=\"0\">\\n    (Gitar intro çalıyor)\\n   </text>\\n   <text dur=\"19.2\" start=\"19.36\">\\n    (Orkestra da müziğe dahil oluyor)\\n   </text>\\n   <text dur=\"4.66\" start=\"38.6\">\\n    Dam başında sarı çiçek oy oy\\n   </text>\\n   <text dur=\"4.7\" start=\"43.38\">\\n    Dam başında sarı çiçek oy oy\\n   </text>\\n   <text dur=\"4.8\" start=\"48.14\">\\n    Burdan kalkıp Ürgüp&amp;#39;e göçek\\nNenni de Feride&amp;#39;m\\n   </text>\\n   <text dur=\"4.72\" start=\"52.98\">\\n    Burdan kalkıp Ürgüp&amp;#39;e göçek\\nNenni de Feride&amp;#39;m\\n   </text>\\n   <text dur=\"4.68\" start=\"57.76\">\\n    Ürgüp&amp;#39;e vardığımız gece oy oy\\n   </text>\\n   <text dur=\"4.64\" start=\"62.58\">\\n    Ürgüp&amp;#39;e vardığımız gece oy oy\\n   </text>\\n   <text dur=\"4.9\" start=\"67.22\">\\n    Hak yoluna kurban kesek\\nNenni de Feride&amp;#39;m\\n   </text>\\n   <text dur=\"4.72\" start=\"72.16\">\\n    Hak yoluna kurban kesek\\nNenni de Feride&amp;#39;m\\n   </text>\\n   <text dur=\"4.78\" start=\"76.94\">\\n    Hak yoluna kurban kesek\\nNenni de Feride&amp;#39;m\\n   </text>\\n   <text dur=\"4.48\" start=\"81.92\">\\n    Hak yoluna kurban kesek\\nNenni de Feride&amp;#39;m\\n   </text>\\n   <text dur=\"28.8\" start=\"86.4\">\\n    (Orkestra / Akustik gitar ve Saxophone melodi çalıyor)\\n   </text>\\n   <text dur=\"4.32\" start=\"115.36\">\\n    Gidiyorum işte gör oy oy\\n   </text>\\n   <text dur=\"4.52\" start=\"120.08\">\\n    Gidiyorum işte gör oy oy\\n   </text>\\n   <text dur=\"4.56\" start=\"124.92\">\\n    Hayalde gör düşte gör\\nNenni de Feride&amp;#39;m\\n   </text>\\n   <text dur=\"4.56\" start=\"129.64\">\\n    Hayalde gör düşte gör\\nNenni de Feride&amp;#39;m\\n   </text>\\n   <text dur=\"4.48\" start=\"134.44\">\\n    Gıymatımı (kıymetimi) bilmedin oy oy\\n   </text>\\n   <text dur=\"4.74\" start=\"139.2\">\\n    Gıymatımı (kıymetimi) bilmedin oy oy\\n   </text>\\n   <text dur=\"4.58\" start=\"144.12\">\\n    Bir kötüye düş de gör\\nNenni de Feride&amp;#39;m\\n   </text>\\n   <text dur=\"4.66\" start=\"148.92\">\\n    Bir kötüye düş de gör\\nNenni de Feride&amp;#39;m\\n   </text>\\n   <text dur=\"4.66\" start=\"153.74\">\\n    Bir kötüye düş de gör\\nNenni de Feride&amp;#39;m\\n   </text>\\n   <text dur=\"4.66\" start=\"158.54\">\\n    Bir kötüye düş de gör\\nNenni de Feride&amp;#39;m\\n   </text>\\n   <text dur=\"18.98\" start=\"163.36\">\\n    Percussion (Djembe) Emprovize\\n   </text>\\n   <text dur=\"26.38\" start=\"182.56\">\\n    (Orkestra / Akustik gitar ve Saxophone melodi çalıyor)\\n(outro)\\n   </text>\\n   <text dur=\"8.66\" start=\"208.94\">\\n    Nenni de Feride&amp;#39;m\\nIslık...\\n   </text>\\n  </transcript>\\n </body>\\n</html>']\n"
     ]
    }
   ],
   "source": [
    "xml_list = []\n",
    "error_id = []\n",
    "lang = \"tr\"\n",
    "for i in videoid:\n",
    "    try:\n",
    "        url = f\"https://www.youtube.com/api/timedtext?&v={i}&lang={lang}\"\n",
    "        html = urlopen(url)\n",
    "        soup = BeautifulSoup(html)\n",
    "        xml_list.append(soup.prettify()) # prettify() convert xml\n",
    "    except:\n",
    "        error_id.append(i)\n",
    "print(xml_list)"
   ]
  },
  {
   "cell_type": "code",
   "execution_count": 13,
   "metadata": {},
   "outputs": [
    {
     "name": "stdout",
     "output_type": "stream",
     "text": [
      "[]\n"
     ]
    }
   ],
   "source": [
    "print(error_id)"
   ]
  },
  {
   "cell_type": "code",
   "execution_count": 14,
   "metadata": {},
   "outputs": [
    {
     "data": {
      "text/plain": [
       "'<?xml version=\"1.0\" encoding=\"utf-8\" ?>\\n<html>\\n <body>\\n  <transcript>\\n   <text dur=\"0.66\" start=\"6.68\">\\n    &amp;quot;Sen kimsin peki?&amp;quot;\\n   </text>\\n   <text dur=\"1.26\" start=\"7.34\">\\n    &amp;quot;Parolayı söyle&amp;quot;\\n   </text>\\n   <text dur=\"1.62\" start=\"9.44\">\\n    &amp;quot;Ya ben kim olacağım?&amp;quot;\\n   </text>\\n   <text dur=\"0.8\" start=\"11.06\">\\n    &amp;quot;Keloğlan&amp;#39;ım&amp;quot;\\n   </text>\\n   <text dur=\"0.5\" start=\"13.38\">\\n    Ey\\n   </text>\\n   <text dur=\"3.12\" start=\"36.22\">\\n    Uyan güzel aç gözünü\\n   </text>\\n   <text dur=\"2.64\" start=\"39.38\">\\n    Dinle aşıkın sözünü\\n   </text>\\n   <text dur=\"3.12\" start=\"42.04\">\\n    Vermişim  sana özümü\\n   </text>\\n   <text dur=\"2.92\" start=\"45.24\">\\n    Benim aykızım sultanım\\n   </text>\\n   <text dur=\"0.5\" start=\"51.98\">\\n    Uyan uyan...\\n   </text>\\n   <text dur=\"3.32\" start=\"57.2\">\\n    Uyan uyan uyan uyan...\\n   </text>\\n   <text dur=\"2.94\" start=\"72.18\">\\n    Vuruldum sana düşümde\\n   </text>\\n   <text dur=\"2.76\" start=\"75.22\">\\n    Hem baharım hem kışımda\\n   </text>\\n   <text dur=\"3.16\" start=\"78.06\">\\n    Bir sevda şu kel başımda\\n   </text>\\n   <text dur=\"2.76\" start=\"81.28\">\\n    Benim aykızım sultanım\\n   </text>\\n   <text dur=\"1.16\" start=\"87.84\">\\n    Uyan uyan...\\n   </text>\\n   <text dur=\"2.78\" start=\"93.4\">\\n    Uyan uyan uyan uyan...\\n   </text>\\n   <text dur=\"2.48\" start=\"108.58\">\\n    Sen sultansın ben bir kelim\\n   </text>\\n   <text dur=\"2.82\" start=\"111.14\">\\n    Bağlı ayağımla elim\\n   </text>\\n   <text dur=\"3.22\" start=\"114\">\\n    Sevdim seni durmaz dilim\\n   </text>\\n   <text dur=\"2.74\" start=\"117.28\">\\n    Benim aykızım sultanım\\n   </text>\\n   <text dur=\"1.14\" start=\"121.22\">\\n    &amp;quot;Uyan uyan&amp;quot;\\n   </text>\\n   <text dur=\"0.76\" start=\"122.36\">\\n    &amp;quot;Haydi&amp;quot;\\n   </text>\\n   <text dur=\"0.5\" start=\"123.68\">\\n    &amp;quot;Uyan&amp;quot;\\n   </text>\\n   <text dur=\"2.28\" start=\"129.54\">\\n    Uyan uyan uyan uyan...\\n   </text>\\n   <text dur=\"1.4\" start=\"136.72\">\\n    &amp;quot;Uyan uyan...&amp;quot;\\n   </text>\\n   <text dur=\"2\" start=\"147.66\">\\n    Uyan uyan uyan uyan...\\n   </text>\\n   <text dur=\"0.5\" start=\"155.42\">\\n    &amp;quot;Reynmen&amp;quot;\\n   </text>\\n   <text dur=\"0.5\" start=\"158.34\">\\n    &amp;quot;Sultan&amp;quot;\\n   </text>\\n   <text dur=\"1.24\" start=\"165.22\">\\n    &amp;quot;Uyanmıyo ya...&amp;quot;\\n   </text>\\n  </transcript>\\n </body>\\n</html> <?xml version=\"1.0\" encoding=\"utf-8\" ?>\\n<html>\\n <body>\\n  <transcript>\\n   <text dur=\"19.3\" start=\"0\">\\n    (Gitar intro çalıyor)\\n   </text>\\n   <text dur=\"19.2\" start=\"19.36\">\\n    (Orkestra da müziğe dahil oluyor)\\n   </text>\\n   <text dur=\"4.66\" start=\"38.6\">\\n    Dam başında sarı çiçek oy oy\\n   </text>\\n   <text dur=\"4.7\" start=\"43.38\">\\n    Dam başında sarı çiçek oy oy\\n   </text>\\n   <text dur=\"4.8\" start=\"48.14\">\\n    Burdan kalkıp Ürgüp&amp;#39;e göçek\\nNenni de Feride&amp;#39;m\\n   </text>\\n   <text dur=\"4.72\" start=\"52.98\">\\n    Burdan kalkıp Ürgüp&amp;#39;e göçek\\nNenni de Feride&amp;#39;m\\n   </text>\\n   <text dur=\"4.68\" start=\"57.76\">\\n    Ürgüp&amp;#39;e vardığımız gece oy oy\\n   </text>\\n   <text dur=\"4.64\" start=\"62.58\">\\n    Ürgüp&amp;#39;e vardığımız gece oy oy\\n   </text>\\n   <text dur=\"4.9\" start=\"67.22\">\\n    Hak yoluna kurban kesek\\nNenni de Feride&amp;#39;m\\n   </text>\\n   <text dur=\"4.72\" start=\"72.16\">\\n    Hak yoluna kurban kesek\\nNenni de Feride&amp;#39;m\\n   </text>\\n   <text dur=\"4.78\" start=\"76.94\">\\n    Hak yoluna kurban kesek\\nNenni de Feride&amp;#39;m\\n   </text>\\n   <text dur=\"4.48\" start=\"81.92\">\\n    Hak yoluna kurban kesek\\nNenni de Feride&amp;#39;m\\n   </text>\\n   <text dur=\"28.8\" start=\"86.4\">\\n    (Orkestra / Akustik gitar ve Saxophone melodi çalıyor)\\n   </text>\\n   <text dur=\"4.32\" start=\"115.36\">\\n    Gidiyorum işte gör oy oy\\n   </text>\\n   <text dur=\"4.52\" start=\"120.08\">\\n    Gidiyorum işte gör oy oy\\n   </text>\\n   <text dur=\"4.56\" start=\"124.92\">\\n    Hayalde gör düşte gör\\nNenni de Feride&amp;#39;m\\n   </text>\\n   <text dur=\"4.56\" start=\"129.64\">\\n    Hayalde gör düşte gör\\nNenni de Feride&amp;#39;m\\n   </text>\\n   <text dur=\"4.48\" start=\"134.44\">\\n    Gıymatımı (kıymetimi) bilmedin oy oy\\n   </text>\\n   <text dur=\"4.74\" start=\"139.2\">\\n    Gıymatımı (kıymetimi) bilmedin oy oy\\n   </text>\\n   <text dur=\"4.58\" start=\"144.12\">\\n    Bir kötüye düş de gör\\nNenni de Feride&amp;#39;m\\n   </text>\\n   <text dur=\"4.66\" start=\"148.92\">\\n    Bir kötüye düş de gör\\nNenni de Feride&amp;#39;m\\n   </text>\\n   <text dur=\"4.66\" start=\"153.74\">\\n    Bir kötüye düş de gör\\nNenni de Feride&amp;#39;m\\n   </text>\\n   <text dur=\"4.66\" start=\"158.54\">\\n    Bir kötüye düş de gör\\nNenni de Feride&amp;#39;m\\n   </text>\\n   <text dur=\"18.98\" start=\"163.36\">\\n    Percussion (Djembe) Emprovize\\n   </text>\\n   <text dur=\"26.38\" start=\"182.56\">\\n    (Orkestra / Akustik gitar ve Saxophone melodi çalıyor)\\n(outro)\\n   </text>\\n   <text dur=\"8.66\" start=\"208.94\">\\n    Nenni de Feride&amp;#39;m\\nIslık...\\n   </text>\\n  </transcript>\\n </body>\\n</html>'"
      ]
     },
     "execution_count": 14,
     "metadata": {},
     "output_type": "execute_result"
    }
   ],
   "source": [
    "text = \" \".join(xml_list)\n",
    "text"
   ]
  },
  {
   "cell_type": "code",
   "execution_count": 36,
   "metadata": {},
   "outputs": [],
   "source": [
    "with open(\"text.xml\",'w',encoding = 'utf-8') as f:\n",
    "   f.write(text)"
   ]
  },
  {
   "cell_type": "code",
   "execution_count": null,
   "metadata": {},
   "outputs": [],
   "source": []
  },
  {
   "cell_type": "code",
   "execution_count": 7,
   "metadata": {},
   "outputs": [
    {
     "name": "stdout",
     "output_type": "stream",
     "text": [
      "<?xml version=\"1.0\" encoding=\"utf-8\" ?>\n",
      "<html>\n",
      " <body>\n",
      "  <transcript>\n",
      "   <text dur=\"0.66\" start=\"6.68\">\n",
      "    &amp;quot;Sen kimsin peki?&amp;quot;\n",
      "   </text>\n",
      "   <text dur=\"1.26\" start=\"7.34\">\n",
      "    &amp;quot;Parolayı söyle&amp;quot;\n",
      "   </text>\n",
      "   <text dur=\"1.62\" start=\"9.44\">\n",
      "    &amp;quot;Ya ben kim olacağım?&amp;quot;\n",
      "   </text>\n",
      "   <text dur=\"0.8\" start=\"11.06\">\n",
      "    &amp;quot;Keloğlan&amp;#39;ım&amp;quot;\n",
      "   </text>\n",
      "   <text dur=\"0.5\" start=\"13.38\">\n",
      "    Ey\n",
      "   </text>\n",
      "   <text dur=\"3.12\" start=\"36.22\">\n",
      "    Uyan güzel aç gözünü\n",
      "   </text>\n",
      "   <text dur=\"2.64\" start=\"39.38\">\n",
      "    Dinle aşıkın sözünü\n",
      "   </text>\n",
      "   <text dur=\"3.12\" start=\"42.04\">\n",
      "    Vermişim  sana özümü\n",
      "   </text>\n",
      "   <text dur=\"2.92\" start=\"45.24\">\n",
      "    Benim aykızım sultanım\n",
      "   </text>\n",
      "   <text dur=\"0.5\" start=\"51.98\">\n",
      "    Uyan uyan...\n",
      "   </text>\n",
      "   <text dur=\"3.32\" start=\"57.2\">\n",
      "    Uyan uyan uyan uyan...\n",
      "   </text>\n",
      "   <text dur=\"2.94\" start=\"72.18\">\n",
      "    Vuruldum sana düşümde\n",
      "   </text>\n",
      "   <text dur=\"2.76\" start=\"75.22\">\n",
      "    Hem baharım hem kışımda\n",
      "   </text>\n",
      "   <text dur=\"3.16\" start=\"78.06\">\n",
      "    Bir sevda şu kel başımda\n",
      "   </text>\n",
      "   <text dur=\"2.76\" start=\"81.28\">\n",
      "    Benim aykızım sultanım\n",
      "   </text>\n",
      "   <text dur=\"1.16\" start=\"87.84\">\n",
      "    Uyan uyan...\n",
      "   </text>\n",
      "   <text dur=\"2.78\" start=\"93.4\">\n",
      "    Uyan uyan uyan uyan...\n",
      "   </text>\n",
      "   <text dur=\"2.48\" start=\"108.58\">\n",
      "    Sen sultansın ben bir kelim\n",
      "   </text>\n",
      "   <text dur=\"2.82\" start=\"111.14\">\n",
      "    Bağlı ayağımla elim\n",
      "   </text>\n",
      "   <text dur=\"3.22\" start=\"114\">\n",
      "    Sevdim seni durmaz dilim\n",
      "   </text>\n",
      "   <text dur=\"2.74\" start=\"117.28\">\n",
      "    Benim aykızım sultanım\n",
      "   </text>\n",
      "   <text dur=\"1.14\" start=\"121.22\">\n",
      "    &amp;quot;Uyan uyan&amp;quot;\n",
      "   </text>\n",
      "   <text dur=\"0.76\" start=\"122.36\">\n",
      "    &amp;quot;Haydi&amp;quot;\n",
      "   </text>\n",
      "   <text dur=\"0.5\" start=\"123.68\">\n",
      "    &amp;quot;Uyan&amp;quot;\n",
      "   </text>\n",
      "   <text dur=\"2.28\" start=\"129.54\">\n",
      "    Uyan uyan uyan uyan...\n",
      "   </text>\n",
      "   <text dur=\"1.4\" start=\"136.72\">\n",
      "    &amp;quot;Uyan uyan...&amp;quot;\n",
      "   </text>\n",
      "   <text dur=\"2\" start=\"147.66\">\n",
      "    Uyan uyan uyan uyan...\n",
      "   </text>\n",
      "   <text dur=\"0.5\" start=\"155.42\">\n",
      "    &amp;quot;Reynmen&amp;quot;\n",
      "   </text>\n",
      "   <text dur=\"0.5\" start=\"158.34\">\n",
      "    &amp;quot;Sultan&amp;quot;\n",
      "   </text>\n",
      "   <text dur=\"1.24\" start=\"165.22\">\n",
      "    &amp;quot;Uyanmıyo ya...&amp;quot;\n",
      "   </text>\n",
      "  </transcript>\n",
      " </body>\n",
      "</html>\n"
     ]
    }
   ],
   "source": [
    "url = \"https://www.youtube.com/api/timedtext?&v=JR7nKXxUVtM&lang=tr\"\n",
    "html = urlopen(url)\n",
    "soup = BeautifulSoup(html)\n",
    "text = soup.prettify()\n",
    "print(text)"
   ]
  },
  {
   "cell_type": "code",
   "execution_count": 38,
   "metadata": {},
   "outputs": [],
   "source": [
    "with open(\"text.xml\",'w',encoding = 'utf-8') as f:\n",
    "   f.write(text)"
   ]
  },
  {
   "cell_type": "code",
   "execution_count": 39,
   "metadata": {},
   "outputs": [],
   "source": [
    "with open('text.xml', 'r') as f:\n",
    "    data = f.read()"
   ]
  },
  {
   "cell_type": "code",
   "execution_count": 40,
   "metadata": {},
   "outputs": [
    {
     "data": {
      "text/plain": [
       "'<?xml version=\"1.0\" encoding=\"utf-8\" ?>\\n<html>\\n <body>\\n  <transcript>\\n   <text dur=\"0.66\" start=\"6.68\">\\n    &amp;quot;Sen kimsin peki?&amp;quot;\\n   </text>\\n   <text dur=\"1.26\" start=\"7.34\">\\n    &amp;quot;Parolayı söyle&amp;quot;\\n   </text>\\n   <text dur=\"1.62\" start=\"9.44\">\\n    &amp;quot;Ya ben kim olacağım?&amp;quot;\\n   </text>\\n   <text dur=\"0.8\" start=\"11.06\">\\n    &amp;quot;Keloğlan&amp;#39;ım&amp;quot;\\n   </text>\\n   <text dur=\"0.5\" start=\"13.38\">\\n    Ey\\n   </text>\\n   <text dur=\"3.12\" start=\"36.22\">\\n    Uyan güzel aç gözünü\\n   </text>\\n   <text dur=\"2.64\" start=\"39.38\">\\n    Dinle aşıkın sözünü\\n   </text>\\n   <text dur=\"3.12\" start=\"42.04\">\\n    Vermişim  sana özümü\\n   </text>\\n   <text dur=\"2.92\" start=\"45.24\">\\n    Benim aykızım sultanım\\n   </text>\\n   <text dur=\"0.5\" start=\"51.98\">\\n    Uyan uyan...\\n   </text>\\n   <text dur=\"3.32\" start=\"57.2\">\\n    Uyan uyan uyan uyan...\\n   </text>\\n   <text dur=\"2.94\" start=\"72.18\">\\n    Vuruldum sana düşümde\\n   </text>\\n   <text dur=\"2.76\" start=\"75.22\">\\n    Hem baharım hem kışımda\\n   </text>\\n   <text dur=\"3.16\" start=\"78.06\">\\n    Bir sevda şu kel başımda\\n   </text>\\n   <text dur=\"2.76\" start=\"81.28\">\\n    Benim aykızım sultanım\\n   </text>\\n   <text dur=\"1.16\" start=\"87.84\">\\n    Uyan uyan...\\n   </text>\\n   <text dur=\"2.78\" start=\"93.4\">\\n    Uyan uyan uyan uyan...\\n   </text>\\n   <text dur=\"2.48\" start=\"108.58\">\\n    Sen sultansın ben bir kelim\\n   </text>\\n   <text dur=\"2.82\" start=\"111.14\">\\n    Bağlı ayağımla elim\\n   </text>\\n   <text dur=\"3.22\" start=\"114\">\\n    Sevdim seni durmaz dilim\\n   </text>\\n   <text dur=\"2.74\" start=\"117.28\">\\n    Benim aykızım sultanım\\n   </text>\\n   <text dur=\"1.14\" start=\"121.22\">\\n    &amp;quot;Uyan uyan&amp;quot;\\n   </text>\\n   <text dur=\"0.76\" start=\"122.36\">\\n    &amp;quot;Haydi&amp;quot;\\n   </text>\\n   <text dur=\"0.5\" start=\"123.68\">\\n    &amp;quot;Uyan&amp;quot;\\n   </text>\\n   <text dur=\"2.28\" start=\"129.54\">\\n    Uyan uyan uyan uyan...\\n   </text>\\n   <text dur=\"1.4\" start=\"136.72\">\\n    &amp;quot;Uyan uyan...&amp;quot;\\n   </text>\\n   <text dur=\"2\" start=\"147.66\">\\n    Uyan uyan uyan uyan...\\n   </text>\\n   <text dur=\"0.5\" start=\"155.42\">\\n    &amp;quot;Reynmen&amp;quot;\\n   </text>\\n   <text dur=\"0.5\" start=\"158.34\">\\n    &amp;quot;Sultan&amp;quot;\\n   </text>\\n   <text dur=\"1.24\" start=\"165.22\">\\n    &amp;quot;Uyanmıyo ya...&amp;quot;\\n   </text>\\n  </transcript>\\n </body>\\n</html>'"
      ]
     },
     "execution_count": 40,
     "metadata": {},
     "output_type": "execute_result"
    }
   ],
   "source": [
    "data"
   ]
  },
  {
   "cell_type": "code",
   "execution_count": 41,
   "metadata": {},
   "outputs": [
    {
     "data": {
      "text/plain": [
       "'<?xml'"
      ]
     },
     "execution_count": 41,
     "metadata": {},
     "output_type": "execute_result"
    }
   ],
   "source": [
    "data[:5]"
   ]
  },
  {
   "cell_type": "code",
   "execution_count": 43,
   "metadata": {},
   "outputs": [
    {
     "data": {
      "text/plain": [
       "<?xml version=\"1.0\" encoding=\"utf-8\" ?>\n",
       "<html>\n",
       "<body>\n",
       "<transcript>\n",
       "<text dur=\"0.66\" start=\"6.68\">\n",
       "    &amp;quot;Sen kimsin peki?&amp;quot;\n",
       "   </text>\n",
       "<text dur=\"1.26\" start=\"7.34\">\n",
       "    &amp;quot;Parolayı söyle&amp;quot;\n",
       "   </text>\n",
       "<text dur=\"1.62\" start=\"9.44\">\n",
       "    &amp;quot;Ya ben kim olacağım?&amp;quot;\n",
       "   </text>\n",
       "<text dur=\"0.8\" start=\"11.06\">\n",
       "    &amp;quot;Keloğlan&amp;#39;ım&amp;quot;\n",
       "   </text>\n",
       "<text dur=\"0.5\" start=\"13.38\">\n",
       "    Ey\n",
       "   </text>\n",
       "<text dur=\"3.12\" start=\"36.22\">\n",
       "    Uyan güzel aç gözünü\n",
       "   </text>\n",
       "<text dur=\"2.64\" start=\"39.38\">\n",
       "    Dinle aşıkın sözünü\n",
       "   </text>\n",
       "<text dur=\"3.12\" start=\"42.04\">\n",
       "    Vermişim  sana özümü\n",
       "   </text>\n",
       "<text dur=\"2.92\" start=\"45.24\">\n",
       "    Benim aykızım sultanım\n",
       "   </text>\n",
       "<text dur=\"0.5\" start=\"51.98\">\n",
       "    Uyan uyan...\n",
       "   </text>\n",
       "<text dur=\"3.32\" start=\"57.2\">\n",
       "    Uyan uyan uyan uyan...\n",
       "   </text>\n",
       "<text dur=\"2.94\" start=\"72.18\">\n",
       "    Vuruldum sana düşümde\n",
       "   </text>\n",
       "<text dur=\"2.76\" start=\"75.22\">\n",
       "    Hem baharım hem kışımda\n",
       "   </text>\n",
       "<text dur=\"3.16\" start=\"78.06\">\n",
       "    Bir sevda şu kel başımda\n",
       "   </text>\n",
       "<text dur=\"2.76\" start=\"81.28\">\n",
       "    Benim aykızım sultanım\n",
       "   </text>\n",
       "<text dur=\"1.16\" start=\"87.84\">\n",
       "    Uyan uyan...\n",
       "   </text>\n",
       "<text dur=\"2.78\" start=\"93.4\">\n",
       "    Uyan uyan uyan uyan...\n",
       "   </text>\n",
       "<text dur=\"2.48\" start=\"108.58\">\n",
       "    Sen sultansın ben bir kelim\n",
       "   </text>\n",
       "<text dur=\"2.82\" start=\"111.14\">\n",
       "    Bağlı ayağımla elim\n",
       "   </text>\n",
       "<text dur=\"3.22\" start=\"114\">\n",
       "    Sevdim seni durmaz dilim\n",
       "   </text>\n",
       "<text dur=\"2.74\" start=\"117.28\">\n",
       "    Benim aykızım sultanım\n",
       "   </text>\n",
       "<text dur=\"1.14\" start=\"121.22\">\n",
       "    &amp;quot;Uyan uyan&amp;quot;\n",
       "   </text>\n",
       "<text dur=\"0.76\" start=\"122.36\">\n",
       "    &amp;quot;Haydi&amp;quot;\n",
       "   </text>\n",
       "<text dur=\"0.5\" start=\"123.68\">\n",
       "    &amp;quot;Uyan&amp;quot;\n",
       "   </text>\n",
       "<text dur=\"2.28\" start=\"129.54\">\n",
       "    Uyan uyan uyan uyan...\n",
       "   </text>\n",
       "<text dur=\"1.4\" start=\"136.72\">\n",
       "    &amp;quot;Uyan uyan...&amp;quot;\n",
       "   </text>\n",
       "<text dur=\"2\" start=\"147.66\">\n",
       "    Uyan uyan uyan uyan...\n",
       "   </text>\n",
       "<text dur=\"0.5\" start=\"155.42\">\n",
       "    &amp;quot;Reynmen&amp;quot;\n",
       "   </text>\n",
       "<text dur=\"0.5\" start=\"158.34\">\n",
       "    &amp;quot;Sultan&amp;quot;\n",
       "   </text>\n",
       "<text dur=\"1.24\" start=\"165.22\">\n",
       "    &amp;quot;Uyanmıyo ya...&amp;quot;\n",
       "   </text>\n",
       "</transcript>\n",
       "</body>\n",
       "</html>"
      ]
     },
     "execution_count": 43,
     "metadata": {},
     "output_type": "execute_result"
    }
   ],
   "source": [
    "soup = BeautifulSoup(data, 'html.parser')\n",
    "soup"
   ]
  },
  {
   "cell_type": "code",
   "execution_count": 44,
   "metadata": {},
   "outputs": [],
   "source": [
    "www = soup.find_all('w')"
   ]
  },
  {
   "cell_type": "code",
   "execution_count": 45,
   "metadata": {},
   "outputs": [
    {
     "data": {
      "text/plain": [
       "[]"
      ]
     },
     "execution_count": 45,
     "metadata": {},
     "output_type": "execute_result"
    }
   ],
   "source": [
    "[w.text.strip().replace('\\n', ' ') for w in www]"
   ]
  },
  {
   "cell_type": "code",
   "execution_count": 46,
   "metadata": {},
   "outputs": [],
   "source": [
    "sss = soup.find_all('s');"
   ]
  },
  {
   "cell_type": "code",
   "execution_count": 47,
   "metadata": {},
   "outputs": [
    {
     "data": {
      "text/plain": [
       "[]"
      ]
     },
     "execution_count": 47,
     "metadata": {},
     "output_type": "execute_result"
    }
   ],
   "source": [
    "[s.text.strip().replace('\\n', ' ') for s in sss]"
   ]
  },
  {
   "cell_type": "code",
   "execution_count": null,
   "metadata": {},
   "outputs": [],
   "source": []
  },
  {
   "cell_type": "code",
   "execution_count": null,
   "metadata": {},
   "outputs": [],
   "source": [
    "import os, os.path, sys\n",
    "import glob\n",
    "from xml.etree import ElementTree\n",
    "\n",
    "def run(files):\n",
    "    xml_files = glob.glob(files +\"/*.xml\")\n",
    "    xml_element_tree = None\n",
    "    for xml_file in xml_files:\n",
    "        data = ElementTree.parse(xml_file).getroot()\n",
    "        # print ElementTree.tostring(data)\n",
    "        for result in data.iter('results'):\n",
    "            if xml_element_tree is None:\n",
    "                xml_element_tree = data \n",
    "                insertion_point = xml_element_tree.findall(\"./results\")[0]\n",
    "            else:\n",
    "                insertion_point.extend(result) \n",
    "    if xml_element_tree is not None:\n",
    "        print ElementTree.tostring(xml_element_tree)"
   ]
  },
  {
   "cell_type": "code",
   "execution_count": null,
   "metadata": {},
   "outputs": [],
   "source": [
    "import os, re\n",
    "\n",
    "file = 'm384-import-11.xml'\n",
    "filenames = ['M384_0201_output.xml','M384_0202_output.xml','M384_0203_output.xml','M384_0204_output.xml','M384_0205_output.xml','M384_0206_output.xml','M384_0207_output.xml','M384_0208_output.xml','M384_0209_output.xml','M384_0210_output.xml','M384_0211_output.xml','M384_0212_output.xml','M384_0213_output.xml','M384_0214_output.xml','M384_0215_output.xml','M384_0216_output.xml','M384_0217_output.xml','M384_0218_output.xml','M384_0219_output.xml','M384_0220_output.xml']\n",
    "\n",
    "counter = 2\n",
    "outputfile = file\n",
    "\n",
    "for fname in filenames:  \t\n",
    "\tin_size = (os.stat(fname).st_size / 1000000)\n",
    "\ttry:\n",
    "\t\tout_size = (os.stat(file).st_size / 1000000)\n",
    "\texcept OSError:\n",
    "\t\tout_size = 0\n",
    "\tif (in_size + out_size) > 75:\n",
    "\t\tfile = re.split('\\.', outputfile)[0] + '_' + str(counter) + '.xml'\n",
    "\t\tcounter = counter + 1\n",
    "\twith open(file, 'a') as outfile:   \n",
    "\t\twith open(fname) as infile:\n",
    "\t\t\tfor line in infile:\n",
    "\t\t\t\toutfile.write(line)"
   ]
  }
 ],
 "metadata": {
  "interpreter": {
   "hash": "651d507d70892fab0fc6529d935cd476f6e2eb1791525b76da6cc8da34bc0503"
  },
  "kernelspec": {
   "display_name": "Python 3.9.5 64-bit ('py39': conda)",
   "name": "python3"
  },
  "language_info": {
   "codemirror_mode": {
    "name": "ipython",
    "version": 3
   },
   "file_extension": ".py",
   "mimetype": "text/x-python",
   "name": "python",
   "nbconvert_exporter": "python",
   "pygments_lexer": "ipython3",
   "version": "3.9.5"
  },
  "orig_nbformat": 4
 },
 "nbformat": 4,
 "nbformat_minor": 2
}
