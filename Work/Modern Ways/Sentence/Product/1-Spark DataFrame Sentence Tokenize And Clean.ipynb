{
 "cells": [
  {
   "cell_type": "markdown",
   "metadata": {},
   "source": [
    "### Spark Sentence Detector"
   ]
  },
  {
   "cell_type": "code",
   "execution_count": null,
   "metadata": {},
   "outputs": [],
   "source": [
    "#!pip install sparknlp"
   ]
  },
  {
   "cell_type": "code",
   "execution_count": null,
   "metadata": {},
   "outputs": [],
   "source": [
    "from pyspark.ml import PipelineModel\n",
    "from sparknlp.annotator import *\n",
    "from sparknlp.base import *\n",
    "import sparknlp\n",
    "from pyspark.ml import Pipeline\n",
    "import pandas as pd\n",
    "import re\n",
    "import nltk\n",
    "from nltk import word_tokenize\n",
    "#pd.set_option(\"display.max_colwidth\", 0)"
   ]
  },
  {
   "cell_type": "code",
   "execution_count": null,
   "metadata": {},
   "outputs": [],
   "source": [
    "from pyspark.sql import SparkSession"
   ]
  },
  {
   "cell_type": "code",
   "execution_count": null,
   "metadata": {},
   "outputs": [],
   "source": [
    "builder = SparkSession.builder\\\n",
    "        .appName(\"Spark NLP Licensed\")\\\n",
    "        .master(\"local[*]\")\\\n",
    "        .config(\"spark.driver.memory\", \"24G\")\\\n",
    "        .config(\"spark.driver.maxResultSize\", \"2048GB\")\\\n",
    "        .config(\"spark.serializer\", \"org.apache.spark.serializer.KryoSerializer\")\\\n",
    "        .config(\"spark.kryoserializer.buffer.max\", \"2000M\")\\\n",
    "        .config(\"spark.jars.packages\", \"com.johnsnowlabs.nlp:spark-nlp_2.12:3.3.2\")\n",
    "\n",
    "spark = builder.getOrCreate()"
   ]
  },
  {
   "cell_type": "code",
   "execution_count": null,
   "metadata": {},
   "outputs": [],
   "source": [
    "spark"
   ]
  },
  {
   "cell_type": "code",
   "execution_count": null,
   "metadata": {},
   "outputs": [],
   "source": [
    "#textFiles = spark.sparkContext.wholeTextFiles(\"oncology_notes/*\")\n",
    "\n",
    "#df = textFiles.toDF(schema=['path','text'])\n",
    "#df.show()"
   ]
  },
  {
   "cell_type": "code",
   "execution_count": null,
   "metadata": {},
   "outputs": [],
   "source": [
    "# custom character alphabet \n",
    "tr = re.compile(r\"[abcçdefgğhıijklmnoöprsştuüvyzqxw0123456789\\.\\?\\{\\}\\[\\]\\(\\),:;!'\\\"\\$`]+\", re.IGNORECASE|re.UNICODE) # Turkish filters='!\"#$%&()*+,-./:;<=>?@[\\\\]^_`{|}~\\t\\n0123456789'\n",
    "en = re.compile(r\"[abcdefghıijklmnopqrstxuvwyz0123456789\\.\\?\\{\\}\\[\\]\\(\\),:;!'\\\"\\$`]+\", re.IGNORECASE|re.UNICODE) # English\n",
    "nl = re.compile(r\"[abcdefghıijklmnopqrstxuvwyzāăēĕīĭōŏūŭ0123456789\\.\\?\\{\\}\\[\\]\\(\\),:;!'\\\"\\$`]+\", re.IGNORECASE|re.UNICODE) # Dutch (Flemenk)\n",
    "fr = re.compile(r\"[abcçdefghıijklmnopqrstxuvwyzàâæèéêëîïôœùûüÿ0123456789\\.\\?\\{\\}\\[\\]\\(\\),:;!'\\\"\\$`]+\", re.IGNORECASE|re.UNICODE) # French\n",
    "de = re.compile(r\"[abcdefghıijklmnopqrstxuvwyzäöüßé0123456789\\.\\?\\{\\}\\[\\]\\(\\),:;!'\\\"\\$`]+\", re.IGNORECASE|re.UNICODE) # Deutch\n",
    "es = re.compile(r\"[abcdefghıijklmnopqrstxuvwyzñáéíóú0123456789\\.\\?\\{\\}\\[\\]\\(\\),:;!'\\\"\\$`]+\", re.IGNORECASE|re.UNICODE) # Spanish (¿¡)\n",
    "pt = re.compile(r\"[abcçdefghıijklmnopqrstxuvwyzàáâãéêíóôõú0123456789\\.\\?\\{\\}\\[\\]\\(\\),:;!'\\\"\\$`]+\", re.IGNORECASE|re.UNICODE) # Portuguese\n",
    "it = re.compile(r\"[abcdefghıijklmnopqrstxuvwyzàéèìòùî0123456789\\.\\?\\{\\}\\[\\]\\(\\),:;!'\\\"\\$`]+\", re.IGNORECASE|re.UNICODE) # Italian\n",
    "ar = re.compile(r\"[ٿصؼۤڳڲؿڎػڠجڿ٬ٸؽؒؓطۄڀۂؘؔتٚڛےٝڜؖڦ٫ډ۰زۇٖۀ،لۓ۱عٮێڔ۶ؚۧۜڤۏ٤إٞٷؗۖ؈ژۣؕؑٴأۻڸۺگاڴڹۯ؉ْڌ٣؍ي٧؟ـٟړۅؐڶُىڽېًۢؠضۚڄٛڏٱۦ٩س٦ڼڂٔۘ٠ښٌٍ۬ٳ۾ٲږذۋٵٜ٘ڞڅںٗهڣۿپڒۥۗڋیؙم؞ثۨ۹ٹڵڪظٶۭ١۔ڭەڨحٕ؎ٺڷٰ۪۫۲ڻڥۛڑڟټآڡغګ؊ّ٢ٯڧڮ؏ۮ؋ؤ٪ؾڗۼق۟دکوِڰڐۃ۽ہفر۷ڇ٭چڝ۴بۈٽڕۡھ۸٨ةٓڃئ؛ڬٙڙڢڱۊَۆۉځ۠ۍۑۙڊنءڈٻش٥ڍ؇۵ك۳خ\\.\\?\\{\\}\\[\\]\\(\\)\\\"\\$\\ا0123456789,':;\\\"`]+\", re.IGNORECASE|re.UNICODE) # Arabic"
   ]
  },
  {
   "cell_type": "code",
   "execution_count": null,
   "metadata": {},
   "outputs": [],
   "source": [
    "part_number = 1\n",
    "text_name = \"tr\"\n",
    "custom_alp = tr\n",
    "sentence_tokenize_name = f\"Spark_Sentence_Tokenize{part_number}\""
   ]
  },
  {
   "cell_type": "code",
   "execution_count": null,
   "metadata": {},
   "outputs": [],
   "source": [
    "df = spark.read.text(f'/media/kurubal/SSD/Data Scientist/Work/Modern Ways/Project/Turkish/Pyspark/{text_name}{part_number}.txt').toDF('text') # text data must be without text pre process"
   ]
  },
  {
   "cell_type": "code",
   "execution_count": null,
   "metadata": {},
   "outputs": [],
   "source": [
    "df.select(\"text\").head(1)"
   ]
  },
  {
   "cell_type": "code",
   "execution_count": null,
   "metadata": {},
   "outputs": [],
   "source": [
    "df.rdd.getNumPartitions()"
   ]
  },
  {
   "cell_type": "code",
   "execution_count": null,
   "metadata": {},
   "outputs": [],
   "source": [
    "df = df.repartition(200)"
   ]
  },
  {
   "cell_type": "code",
   "execution_count": null,
   "metadata": {},
   "outputs": [],
   "source": [
    "df.rdd.getNumPartitions()"
   ]
  },
  {
   "cell_type": "code",
   "execution_count": null,
   "metadata": {},
   "outputs": [],
   "source": [
    "documenter = DocumentAssembler()\\\n",
    "    .setInputCol(\"text\")\\\n",
    "    .setOutputCol(\"document\")\n",
    "    \n",
    "sentencerDL = SentenceDetectorDLModel\\\n",
    "    .pretrained(\"sentence_detector_dl\", \"xx\") \\\n",
    "    .setInputCols([\"document\"]) \\\n",
    "    .setOutputCol(\"sentences\")\n",
    "\n",
    "model = PipelineModel(stages=[documenter, sentencerDL])"
   ]
  },
  {
   "cell_type": "code",
   "execution_count": null,
   "metadata": {},
   "outputs": [],
   "source": [
    "result = model.transform(df)"
   ]
  },
  {
   "cell_type": "code",
   "execution_count": null,
   "metadata": {},
   "outputs": [],
   "source": [
    "result.show()"
   ]
  },
  {
   "cell_type": "code",
   "execution_count": null,
   "metadata": {},
   "outputs": [],
   "source": [
    "result.printSchema()"
   ]
  },
  {
   "cell_type": "code",
   "execution_count": null,
   "metadata": {},
   "outputs": [],
   "source": [
    "pd_res = result.select(\"sentences.result\").toPandas()\n",
    "pd_res"
   ]
  },
  {
   "cell_type": "code",
   "execution_count": null,
   "metadata": {},
   "outputs": [],
   "source": [
    "pd_res.to_csv(f\"{sentence_tokenize_name}.csv\", index=False)"
   ]
  },
  {
   "cell_type": "markdown",
   "metadata": {},
   "source": [
    "#### Clean DataFrame Sentence"
   ]
  },
  {
   "cell_type": "code",
   "execution_count": null,
   "metadata": {},
   "outputs": [],
   "source": [
    "#!pip install modin[ray]"
   ]
  },
  {
   "cell_type": "code",
   "execution_count": null,
   "metadata": {},
   "outputs": [],
   "source": [
    "import ray  # ayrı olarak çalıştırılmalı\n",
    "ray.init() "
   ]
  },
  {
   "cell_type": "code",
   "execution_count": null,
   "metadata": {},
   "outputs": [],
   "source": [
    "import modin.pandas as pd"
   ]
  },
  {
   "cell_type": "code",
   "execution_count": null,
   "metadata": {},
   "outputs": [],
   "source": [
    "df2 = pd.read_csv(f\"{sentence_tokenize_name}.csv\")\n",
    "df2"
   ]
  },
  {
   "cell_type": "code",
   "execution_count": null,
   "metadata": {},
   "outputs": [],
   "source": []
  },
  {
   "cell_type": "code",
   "execution_count": null,
   "metadata": {},
   "outputs": [],
   "source": [
    "## will test \n",
    "#def clean_text(text):\n",
    "#    apostro = re.compile(re.escape(\"\\'\"), re.IGNORECASE)\n",
    "#    text2 = apostro.sub(\" \\'\", text)\n",
    "#    text3 = re.findall(custom_alp, text2)\n",
    "#    text4 = \" \".join(text3)\n",
    "#    clean_brackets = text4.strip(\"[]\")\n",
    "#    clean_brackets_data = re.sub('[\\(\\[\\{].*?[\\)\\]\\}]', '', clean_brackets, re.UNICODE)\n",
    "#    clean_punc = re.sub(r'[^\\w\\s]','',clean_brackets_data, re.UNICODE)\n",
    "#    text_clean_list = re.findall(r'\\w+', clean_punc, re.UNICODE)\n",
    "#    #alpha_num = [w for w in text_clean_list if w.isalnum()]\n",
    "#    text_result = (\" \".join(text_clean_list)).lower()\n",
    "#    return text_result "
   ]
  },
  {
   "cell_type": "code",
   "execution_count": null,
   "metadata": {},
   "outputs": [],
   "source": []
  },
  {
   "cell_type": "code",
   "execution_count": null,
   "metadata": {},
   "outputs": [],
   "source": [
    "def clean_text(text):\n",
    "    clean_brackets = text.strip(\"[]\")\n",
    "    clean_brackets_data = re.sub('[\\(\\[\\{].*?[\\)\\]\\}]', '', clean_brackets, re.UNICODE)\n",
    "    clean_punc = re.sub(r'[^\\w\\s]','',clean_brackets_data, re.UNICODE)\n",
    "    text_clean_list = re.findall(r'\\w+', clean_punc, re.UNICODE)\n",
    "    #alpha_num = [w for w in text_clean_list if w.isalnum()]\n",
    "    text_result = (\" \".join(text_clean_list)).lower()\n",
    "    return text_result "
   ]
  },
  {
   "cell_type": "code",
   "execution_count": null,
   "metadata": {},
   "outputs": [],
   "source": [
    "sent_list = []\n",
    "for x in df2.result:\n",
    "    x = clean_text(x)\n",
    "    sent_list.append(x)  "
   ]
  },
  {
   "cell_type": "code",
   "execution_count": null,
   "metadata": {},
   "outputs": [],
   "source": [
    "df_clean = pd.DataFrame(sent_list)\n",
    "df_clean.head()"
   ]
  },
  {
   "cell_type": "code",
   "execution_count": null,
   "metadata": {},
   "outputs": [],
   "source": [
    "df_clean = df_clean.rename(columns={0:\"sentence\"})\n",
    "df_clean"
   ]
  },
  {
   "cell_type": "code",
   "execution_count": null,
   "metadata": {},
   "outputs": [],
   "source": [
    "df_clean.drop(df_clean[df_clean.sentence == \"\"].index, inplace=True)"
   ]
  },
  {
   "cell_type": "code",
   "execution_count": null,
   "metadata": {},
   "outputs": [],
   "source": [
    "sent_count = df_clean.sentence.value_counts().sort_values(ascending=False)\n",
    "#sent_count"
   ]
  },
  {
   "cell_type": "code",
   "execution_count": null,
   "metadata": {},
   "outputs": [],
   "source": [
    "sent_count_df = pd.DataFrame(sent_count).reset_index()\n",
    "sent_count_df.rename(columns={\"index\":\"sentence\", \"sentence\":\"frequency\"}, inplace=True)"
   ]
  },
  {
   "cell_type": "code",
   "execution_count": null,
   "metadata": {},
   "outputs": [],
   "source": [
    "total_frequency = sent_count_df.frequency.sum()"
   ]
  },
  {
   "cell_type": "code",
   "execution_count": null,
   "metadata": {},
   "outputs": [],
   "source": [
    "sent_count_df[\"ratio\"] = (sent_count_df.frequency/total_frequency)*100"
   ]
  },
  {
   "cell_type": "code",
   "execution_count": null,
   "metadata": {},
   "outputs": [],
   "source": [
    "def sentence_lenght(sentence):\n",
    "    word_var2 = re.findall(r'\\w+', sentence, re.UNICODE)\n",
    "    if len(word_var2) <= 10:\n",
    "        return sentence\n",
    "    else:\n",
    "        return \"sentence is bigger than ten word\""
   ]
  },
  {
   "cell_type": "code",
   "execution_count": null,
   "metadata": {},
   "outputs": [],
   "source": [
    "sent_count_df.sentence = sent_count_df.sentence.apply(sentence_lenght)"
   ]
  },
  {
   "cell_type": "code",
   "execution_count": null,
   "metadata": {},
   "outputs": [],
   "source": [
    "sent_count_df.drop(sent_count_df[sent_count_df.sentence == \"sentence is bigger than ten word\"].index, axis=0, inplace=True)\n",
    "sent_count_df.reset_index(drop=True, inplace=True)"
   ]
  },
  {
   "cell_type": "code",
   "execution_count": null,
   "metadata": {},
   "outputs": [],
   "source": [
    "df_result = sent_count_df[sent_count_df.frequency>1]"
   ]
  },
  {
   "cell_type": "code",
   "execution_count": null,
   "metadata": {},
   "outputs": [],
   "source": [
    "df_result.to_csv(f\"Clean_{sentence_tokenize_name}.csv\", index=False)"
   ]
  },
  {
   "cell_type": "code",
   "execution_count": null,
   "metadata": {},
   "outputs": [],
   "source": []
  },
  {
   "cell_type": "code",
   "execution_count": null,
   "metadata": {},
   "outputs": [],
   "source": []
  }
 ],
 "metadata": {
  "interpreter": {
   "hash": "b028e842a5e27131c8fd76b55be4806230674bc3ed30a0f4f18cf125f13e83aa"
  },
  "kernelspec": {
   "display_name": "Python 3.9.7 64-bit ('pyspark': conda)",
   "language": "python",
   "name": "python3"
  },
  "language_info": {
   "codemirror_mode": {
    "name": "ipython",
    "version": 3
   },
   "file_extension": ".py",
   "mimetype": "text/x-python",
   "name": "python",
   "nbconvert_exporter": "python",
   "pygments_lexer": "ipython3",
   "version": "3.9.7"
  }
 },
 "nbformat": 4,
 "nbformat_minor": 2
}
