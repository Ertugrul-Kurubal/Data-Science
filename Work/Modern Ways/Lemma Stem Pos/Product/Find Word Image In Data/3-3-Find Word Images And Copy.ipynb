{
 "cells": [
  {
   "attachments": {},
   "cell_type": "markdown",
   "metadata": {},
   "source": [
    "### Find Word Images And Copy"
   ]
  },
  {
   "cell_type": "code",
   "execution_count": 7,
   "metadata": {},
   "outputs": [],
   "source": [
    "import os\n",
    "import sys\n",
    "import pandas as pd\n",
    "import numpy as np\n",
    "import re\n",
    "import glob\n",
    "from pathlib import Path\n",
    "import shutil\n",
    "from os.path import isfile, join"
   ]
  },
  {
   "cell_type": "code",
   "execution_count": 8,
   "metadata": {},
   "outputs": [],
   "source": [
    "# language pair\n",
    "lang_folder = \"Turkish\"  # Arabic, English, French, German, Turkish, Spanish, Portuguese, Dutch, Italian ==> target language for learner\n",
    "#lang_pair = \"English\"  # Arabic, English, French, German, Turkish, Spanish, Portuguese, Dutch, Italian ==> native language"
   ]
  },
  {
   "cell_type": "code",
   "execution_count": 9,
   "metadata": {},
   "outputs": [],
   "source": [
    "word_lemma_data_path = f\"/media/kurubal/SSD/Data Scientist/Work/Modern Ways/Project/{lang_folder.capitalize()}/\\\n",
    "Lemma Stem POS/Result/3-2-Word In Visual Genome Merge\"\n",
    "\n",
    "path = f\"/media/kurubal/SSD/Data Scientist/Work/Modern Ways/Project/{lang_folder.capitalize()}/\\\n",
    "Lemma Stem POS/Result/3-3-Find Word Images And Copy\"\n",
    "\n",
    "Path(path).mkdir(parents=True, exist_ok=True)"
   ]
  },
  {
   "cell_type": "code",
   "execution_count": 10,
   "metadata": {},
   "outputs": [],
   "source": [
    "def word_group_dataframe(df, search_list, target_column, sample_num):\n",
    "    '''\n",
    "    word_group_dataframe(df_youtube_sentence, search_list, \"sentence\", 6)\\n\n",
    "    df_youtube_sentence is dataframe and \"sentence\" is its column for external searching_list\n",
    "    ''' \n",
    "    df_search_result = pd.DataFrame()\n",
    "    for j in search_list:\n",
    "        df_select = df[df[f\"{target_column}\"].str.contains(fr\"(?:\\s|^){j}(?:\\s|$)\", na=False, regex=True)]\n",
    "        #df_select.sort_values(f\"{target_column}\",key=lambda x:x.str.len(), inplace=True).head(sample_num)\n",
    "        df_select = df_select.sort_values(f\"{target_column}\",key=lambda x:x.str.len()).head(sample_num)               \n",
    "        df_select.insert(0,\"search_string\",j)\n",
    "        df_search_result = pd.concat([df_search_result,df_select], axis=0)\n",
    "    df_search_result.reset_index(inplace=True, drop=True)\n",
    "    \n",
    "    return df_search_result"
   ]
  },
  {
   "cell_type": "code",
   "execution_count": 11,
   "metadata": {},
   "outputs": [],
   "source": [
    "def word_group_dataframe_all(df, search_list, target_column):\n",
    "    '''\n",
    "    word_group_dataframe(df_youtube_sentence, search_list, \"sentence\", 6)\\n\n",
    "    df_youtube_sentence is dataframe and \"sentence\" is its column for external searching_list\n",
    "    ''' \n",
    "    df_search_result = pd.DataFrame()\n",
    "    for j in search_list:\n",
    "        df_select = df[df[f\"{target_column}\"].str.contains(fr\"(?:\\s|^){j}(?:\\s|$)\", na=False, regex=True)]\n",
    "        #df_select.sort_values(f\"{target_column}\",key=lambda x:x.str.len(), inplace=True)\n",
    "        df_select = df_select.sort_values(f\"{target_column}\",key=lambda x:x.str.len())\n",
    "        df_select.insert(0,\"search_string\",j)\n",
    "        df_search_result = pd.concat([df_search_result,df_select], axis=0)        \n",
    "    df_search_result.reset_index(inplace=True, drop=True)\n",
    "    \n",
    "    return df_search_result"
   ]
  },
  {
   "cell_type": "code",
   "execution_count": null,
   "metadata": {},
   "outputs": [],
   "source": []
  },
  {
   "attachments": {},
   "cell_type": "markdown",
   "metadata": {},
   "source": [
    "#### Visual Genome Word Lemma Translate Data"
   ]
  },
  {
   "cell_type": "code",
   "execution_count": 12,
   "metadata": {},
   "outputs": [
    {
     "data": {
      "text/html": [
       "<div>\n",
       "<style scoped>\n",
       "    .dataframe tbody tr th:only-of-type {\n",
       "        vertical-align: middle;\n",
       "    }\n",
       "\n",
       "    .dataframe tbody tr th {\n",
       "        vertical-align: top;\n",
       "    }\n",
       "\n",
       "    .dataframe thead th {\n",
       "        text-align: right;\n",
       "    }\n",
       "</style>\n",
       "<table border=\"1\" class=\"dataframe\">\n",
       "  <thead>\n",
       "    <tr style=\"text-align: right;\">\n",
       "      <th></th>\n",
       "      <th>POS1</th>\n",
       "      <th>POS2</th>\n",
       "      <th>word</th>\n",
       "      <th>lemma.spacy</th>\n",
       "      <th>stem</th>\n",
       "      <th>word_en_translate</th>\n",
       "      <th>lemma_en_translate</th>\n",
       "      <th>frequency</th>\n",
       "      <th>search_text</th>\n",
       "      <th>image_id</th>\n",
       "    </tr>\n",
       "  </thead>\n",
       "  <tbody>\n",
       "    <tr>\n",
       "      <th>0</th>\n",
       "      <td>NUM</td>\n",
       "      <td>NaN</td>\n",
       "      <td>bir</td>\n",
       "      <td>bir</td>\n",
       "      <td>bir</td>\n",
       "      <td>a</td>\n",
       "      <td>a</td>\n",
       "      <td>18835735</td>\n",
       "      <td>a</td>\n",
       "      <td>2390994</td>\n",
       "    </tr>\n",
       "    <tr>\n",
       "      <th>1</th>\n",
       "      <td>NUM</td>\n",
       "      <td>NaN</td>\n",
       "      <td>bir</td>\n",
       "      <td>bir</td>\n",
       "      <td>bir</td>\n",
       "      <td>a</td>\n",
       "      <td>a</td>\n",
       "      <td>18835735</td>\n",
       "      <td>a</td>\n",
       "      <td>2348965</td>\n",
       "    </tr>\n",
       "    <tr>\n",
       "      <th>2</th>\n",
       "      <td>NUM</td>\n",
       "      <td>NaN</td>\n",
       "      <td>bir</td>\n",
       "      <td>bir</td>\n",
       "      <td>bir</td>\n",
       "      <td>a</td>\n",
       "      <td>a</td>\n",
       "      <td>18835735</td>\n",
       "      <td>a</td>\n",
       "      <td>2349861</td>\n",
       "    </tr>\n",
       "    <tr>\n",
       "      <th>3</th>\n",
       "      <td>NUM</td>\n",
       "      <td>NaN</td>\n",
       "      <td>bir</td>\n",
       "      <td>bir</td>\n",
       "      <td>bir</td>\n",
       "      <td>a</td>\n",
       "      <td>a</td>\n",
       "      <td>18835735</td>\n",
       "      <td>a</td>\n",
       "      <td>2349866</td>\n",
       "    </tr>\n",
       "    <tr>\n",
       "      <th>4</th>\n",
       "      <td>NUM</td>\n",
       "      <td>NaN</td>\n",
       "      <td>bir</td>\n",
       "      <td>bir</td>\n",
       "      <td>bir</td>\n",
       "      <td>a</td>\n",
       "      <td>a</td>\n",
       "      <td>18835735</td>\n",
       "      <td>a</td>\n",
       "      <td>2349935</td>\n",
       "    </tr>\n",
       "    <tr>\n",
       "      <th>...</th>\n",
       "      <td>...</td>\n",
       "      <td>...</td>\n",
       "      <td>...</td>\n",
       "      <td>...</td>\n",
       "      <td>...</td>\n",
       "      <td>...</td>\n",
       "      <td>...</td>\n",
       "      <td>...</td>\n",
       "      <td>...</td>\n",
       "      <td>...</td>\n",
       "    </tr>\n",
       "    <tr>\n",
       "      <th>176316</th>\n",
       "      <td>VERB</td>\n",
       "      <td>NaN</td>\n",
       "      <td>çekilin</td>\n",
       "      <td>çek</td>\n",
       "      <td>çek</td>\n",
       "      <td>withdraw</td>\n",
       "      <td>check</td>\n",
       "      <td>69201</td>\n",
       "      <td>airport check in kiosks</td>\n",
       "      <td>2317616</td>\n",
       "    </tr>\n",
       "    <tr>\n",
       "      <th>176317</th>\n",
       "      <td>VERB</td>\n",
       "      <td>NaN</td>\n",
       "      <td>çekilin</td>\n",
       "      <td>çek</td>\n",
       "      <td>çek</td>\n",
       "      <td>withdraw</td>\n",
       "      <td>check</td>\n",
       "      <td>69201</td>\n",
       "      <td>red check of tablecloth</td>\n",
       "      <td>2400604</td>\n",
       "    </tr>\n",
       "    <tr>\n",
       "      <th>176318</th>\n",
       "      <td>VERB</td>\n",
       "      <td>NaN</td>\n",
       "      <td>çekilin</td>\n",
       "      <td>çek</td>\n",
       "      <td>çek</td>\n",
       "      <td>withdraw</td>\n",
       "      <td>check</td>\n",
       "      <td>69201</td>\n",
       "      <td>a check is on the table</td>\n",
       "      <td>2386272</td>\n",
       "    </tr>\n",
       "    <tr>\n",
       "      <th>176319</th>\n",
       "      <td>VERB</td>\n",
       "      <td>NaN</td>\n",
       "      <td>çekilin</td>\n",
       "      <td>çek</td>\n",
       "      <td>çek</td>\n",
       "      <td>withdraw</td>\n",
       "      <td>check</td>\n",
       "      <td>69201</td>\n",
       "      <td>cleats with white check</td>\n",
       "      <td>2371210</td>\n",
       "    </tr>\n",
       "    <tr>\n",
       "      <th>176320</th>\n",
       "      <td>VERB</td>\n",
       "      <td>NaN</td>\n",
       "      <td>çekilin</td>\n",
       "      <td>çek</td>\n",
       "      <td>çek</td>\n",
       "      <td>withdraw</td>\n",
       "      <td>check</td>\n",
       "      <td>69201</td>\n",
       "      <td>check number on receipt</td>\n",
       "      <td>2404231</td>\n",
       "    </tr>\n",
       "  </tbody>\n",
       "</table>\n",
       "<p>176321 rows × 10 columns</p>\n",
       "</div>"
      ],
      "text/plain": [
       "        POS1 POS2     word  ... frequency              search_text image_id\n",
       "0        NUM  NaN      bir  ...  18835735                        a  2390994\n",
       "1        NUM  NaN      bir  ...  18835735                        a  2348965\n",
       "2        NUM  NaN      bir  ...  18835735                        a  2349861\n",
       "3        NUM  NaN      bir  ...  18835735                        a  2349866\n",
       "4        NUM  NaN      bir  ...  18835735                        a  2349935\n",
       "...      ...  ...      ...  ...       ...                      ...      ...\n",
       "176316  VERB  NaN  çekilin  ...     69201  airport check in kiosks  2317616\n",
       "176317  VERB  NaN  çekilin  ...     69201  red check of tablecloth  2400604\n",
       "176318  VERB  NaN  çekilin  ...     69201  a check is on the table  2386272\n",
       "176319  VERB  NaN  çekilin  ...     69201  cleats with white check  2371210\n",
       "176320  VERB  NaN  çekilin  ...     69201  check number on receipt  2404231\n",
       "\n",
       "[176321 rows x 10 columns]"
      ]
     },
     "execution_count": 12,
     "metadata": {},
     "output_type": "execute_result"
    }
   ],
   "source": [
    "df_genome_word_lemma_concat = pd.read_csv(f\"{word_lemma_data_path}/Visual_Genome_Word_Lemma_Search_Result.csv\")\n",
    "df_genome_word_lemma_concat"
   ]
  },
  {
   "cell_type": "code",
   "execution_count": null,
   "metadata": {},
   "outputs": [],
   "source": []
  },
  {
   "cell_type": "code",
   "execution_count": null,
   "metadata": {},
   "outputs": [],
   "source": []
  },
  {
   "cell_type": "code",
   "execution_count": null,
   "metadata": {},
   "outputs": [],
   "source": []
  },
  {
   "attachments": {},
   "cell_type": "markdown",
   "metadata": {},
   "source": [
    "#### Copy Move And Delete"
   ]
  },
  {
   "cell_type": "code",
   "execution_count": 46,
   "metadata": {},
   "outputs": [
    {
     "data": {
      "text/plain": [
       "['Visual_Genome_Question_Answers_Word_Result2.csv',\n",
       " 'Visual_Genome_Question_Answers_Lemma_Result2.csv']"
      ]
     },
     "execution_count": 46,
     "metadata": {},
     "output_type": "execute_result"
    }
   ],
   "source": [
    "output_file = glob.glob(f\"Visual_Genome_*_Result*.csv\")\n",
    "output_file"
   ]
  },
  {
   "cell_type": "code",
   "execution_count": 47,
   "metadata": {},
   "outputs": [],
   "source": [
    "for l in output_file:\n",
    "    source = l # source directory\n",
    "    destination = path\n",
    "    shutil.copy2(source, destination)"
   ]
  },
  {
   "cell_type": "code",
   "execution_count": 48,
   "metadata": {},
   "outputs": [],
   "source": [
    "for j in output_file:\n",
    "    try:\n",
    "        os.remove(j)\n",
    "    except:\n",
    "        pass"
   ]
  },
  {
   "cell_type": "code",
   "execution_count": null,
   "metadata": {},
   "outputs": [],
   "source": []
  },
  {
   "cell_type": "code",
   "execution_count": null,
   "metadata": {},
   "outputs": [],
   "source": []
  },
  {
   "cell_type": "code",
   "execution_count": null,
   "metadata": {},
   "outputs": [],
   "source": []
  },
  {
   "cell_type": "code",
   "execution_count": null,
   "metadata": {},
   "outputs": [],
   "source": []
  },
  {
   "cell_type": "code",
   "execution_count": null,
   "metadata": {},
   "outputs": [],
   "source": []
  }
 ],
 "metadata": {
  "kernelspec": {
   "display_name": "py39",
   "language": "python",
   "name": "python3"
  },
  "language_info": {
   "codemirror_mode": {
    "name": "ipython",
    "version": 3
   },
   "file_extension": ".py",
   "mimetype": "text/x-python",
   "name": "python",
   "nbconvert_exporter": "python",
   "pygments_lexer": "ipython3",
   "version": "3.9.5"
  },
  "orig_nbformat": 4,
  "vscode": {
   "interpreter": {
    "hash": "651d507d70892fab0fc6529d935cd476f6e2eb1791525b76da6cc8da34bc0503"
   }
  }
 },
 "nbformat": 4,
 "nbformat_minor": 2
}
