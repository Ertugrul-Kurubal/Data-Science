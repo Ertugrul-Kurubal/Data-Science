{
 "cells": [
  {
   "attachments": {},
   "cell_type": "markdown",
   "metadata": {},
   "source": [
    "### Word Select Process"
   ]
  },
  {
   "cell_type": "code",
   "execution_count": 2,
   "metadata": {},
   "outputs": [],
   "source": [
    "import os\n",
    "import sys\n",
    "import pandas as pd\n",
    "import numpy as np\n",
    "import re\n",
    "import glob\n",
    "from pathlib import Path\n",
    "import shutil\n",
    "from os.path import isfile, join"
   ]
  },
  {
   "cell_type": "code",
   "execution_count": 3,
   "metadata": {},
   "outputs": [],
   "source": [
    "# language pair\n",
    "lang_folder = \"Turkish\"  # Arabic, English, French, German, Turkish, Spanish, Portuguese, Dutch, Italian ==> target language for learner\n",
    "#lang_pair = \"English\"  # Arabic, English, French, German, Turkish, Spanish, Portuguese, Dutch, Italian ==> native language"
   ]
  },
  {
   "cell_type": "code",
   "execution_count": 4,
   "metadata": {},
   "outputs": [],
   "source": [
    "path = f\"/media/kurubal/SSD1/Data Scientist/Work/Modern Ways/Project/{lang_folder.capitalize()}/\\\n",
    "Lemma Stem POS/Result/2-Word Select Process\"\n",
    "\n",
    "Path(path).mkdir(parents=True, exist_ok=True)"
   ]
  },
  {
   "cell_type": "code",
   "execution_count": 5,
   "metadata": {},
   "outputs": [],
   "source": [
    "def lower_strip_func(x):\n",
    "    try:\n",
    "        var_low = str(x).lower()\n",
    "        var_out = var_low.strip()\n",
    "    except:\n",
    "        var_out = x\n",
    "    return var_out "
   ]
  },
  {
   "attachments": {},
   "cell_type": "markdown",
   "metadata": {},
   "source": [
    "#### Word Select Lower Strip"
   ]
  },
  {
   "cell_type": "code",
   "execution_count": 6,
   "metadata": {},
   "outputs": [
    {
     "data": {
      "text/html": [
       "<div>\n",
       "<style scoped>\n",
       "    .dataframe tbody tr th:only-of-type {\n",
       "        vertical-align: middle;\n",
       "    }\n",
       "\n",
       "    .dataframe tbody tr th {\n",
       "        vertical-align: top;\n",
       "    }\n",
       "\n",
       "    .dataframe thead th {\n",
       "        text-align: right;\n",
       "    }\n",
       "</style>\n",
       "<table border=\"1\" class=\"dataframe\">\n",
       "  <thead>\n",
       "    <tr style=\"text-align: right;\">\n",
       "      <th></th>\n",
       "      <th>pos.ud_imst</th>\n",
       "      <th>word</th>\n",
       "      <th>frequency</th>\n",
       "      <th>lemma.spacylookup</th>\n",
       "      <th>stem</th>\n",
       "      <th>word_en_translate</th>\n",
       "      <th>lemma_en_translate</th>\n",
       "    </tr>\n",
       "  </thead>\n",
       "  <tbody>\n",
       "    <tr>\n",
       "      <th>0</th>\n",
       "      <td>NUM</td>\n",
       "      <td>bir</td>\n",
       "      <td>18835735</td>\n",
       "      <td>bir</td>\n",
       "      <td>NaN</td>\n",
       "      <td>a</td>\n",
       "      <td>a</td>\n",
       "    </tr>\n",
       "    <tr>\n",
       "      <th>1</th>\n",
       "      <td>DET</td>\n",
       "      <td>bu</td>\n",
       "      <td>11062659</td>\n",
       "      <td>bu</td>\n",
       "      <td>NaN</td>\n",
       "      <td>this</td>\n",
       "      <td>this</td>\n",
       "    </tr>\n",
       "    <tr>\n",
       "      <th>2</th>\n",
       "      <td>PRON</td>\n",
       "      <td>ne</td>\n",
       "      <td>8025880</td>\n",
       "      <td>ne</td>\n",
       "      <td>NaN</td>\n",
       "      <td>What</td>\n",
       "      <td>What</td>\n",
       "    </tr>\n",
       "    <tr>\n",
       "      <th>3</th>\n",
       "      <td>CCONJ</td>\n",
       "      <td>ve</td>\n",
       "      <td>7766036</td>\n",
       "      <td>ve</td>\n",
       "      <td>NaN</td>\n",
       "      <td>and</td>\n",
       "      <td>and</td>\n",
       "    </tr>\n",
       "    <tr>\n",
       "      <th>4</th>\n",
       "      <td>ADP</td>\n",
       "      <td>için</td>\n",
       "      <td>5484109</td>\n",
       "      <td>için</td>\n",
       "      <td>NaN</td>\n",
       "      <td>for</td>\n",
       "      <td>for</td>\n",
       "    </tr>\n",
       "    <tr>\n",
       "      <th>...</th>\n",
       "      <td>...</td>\n",
       "      <td>...</td>\n",
       "      <td>...</td>\n",
       "      <td>...</td>\n",
       "      <td>...</td>\n",
       "      <td>...</td>\n",
       "      <td>...</td>\n",
       "    </tr>\n",
       "    <tr>\n",
       "      <th>44995</th>\n",
       "      <td>NOUN</td>\n",
       "      <td>hayırbu</td>\n",
       "      <td>871</td>\n",
       "      <td>hayırbu</td>\n",
       "      <td>NaN</td>\n",
       "      <td>no</td>\n",
       "      <td>no</td>\n",
       "    </tr>\n",
       "    <tr>\n",
       "      <th>44996</th>\n",
       "      <td>NOUN</td>\n",
       "      <td>konferansına</td>\n",
       "      <td>871</td>\n",
       "      <td>konferans</td>\n",
       "      <td>NaN</td>\n",
       "      <td>to the conference</td>\n",
       "      <td>conference</td>\n",
       "    </tr>\n",
       "    <tr>\n",
       "      <th>44997</th>\n",
       "      <td>NOUN</td>\n",
       "      <td>kardeşisin</td>\n",
       "      <td>871</td>\n",
       "      <td>kardeş</td>\n",
       "      <td>NaN</td>\n",
       "      <td>your brother</td>\n",
       "      <td>brother</td>\n",
       "    </tr>\n",
       "    <tr>\n",
       "      <th>44998</th>\n",
       "      <td>VERB</td>\n",
       "      <td>kaldırıyorsun</td>\n",
       "      <td>871</td>\n",
       "      <td>kaldır</td>\n",
       "      <td>NaN</td>\n",
       "      <td>you remove</td>\n",
       "      <td>lift</td>\n",
       "    </tr>\n",
       "    <tr>\n",
       "      <th>44999</th>\n",
       "      <td>NOUN</td>\n",
       "      <td>kuzenlerim</td>\n",
       "      <td>871</td>\n",
       "      <td>kuzen</td>\n",
       "      <td>NaN</td>\n",
       "      <td>NaN</td>\n",
       "      <td>NaN</td>\n",
       "    </tr>\n",
       "  </tbody>\n",
       "</table>\n",
       "<p>45000 rows × 7 columns</p>\n",
       "</div>"
      ],
      "text/plain": [
       "      pos.ud_imst           word  frequency lemma.spacylookup  stem  \\\n",
       "0             NUM            bir   18835735               bir   NaN   \n",
       "1             DET             bu   11062659                bu   NaN   \n",
       "2            PRON             ne    8025880                ne   NaN   \n",
       "3           CCONJ             ve    7766036                ve   NaN   \n",
       "4             ADP           için    5484109              için   NaN   \n",
       "...           ...            ...        ...               ...   ...   \n",
       "44995        NOUN        hayırbu        871           hayırbu   NaN   \n",
       "44996        NOUN   konferansına        871         konferans   NaN   \n",
       "44997        NOUN     kardeşisin        871            kardeş   NaN   \n",
       "44998        VERB  kaldırıyorsun        871            kaldır   NaN   \n",
       "44999        NOUN     kuzenlerim        871             kuzen   NaN   \n",
       "\n",
       "       word_en_translate lemma_en_translate  \n",
       "0                      a                  a  \n",
       "1                   this               this  \n",
       "2                   What               What  \n",
       "3                    and                and  \n",
       "4                   for                for   \n",
       "...                  ...                ...  \n",
       "44995                 no                 no  \n",
       "44996  to the conference         conference  \n",
       "44997       your brother            brother  \n",
       "44998         you remove               lift  \n",
       "44999                NaN                NaN  \n",
       "\n",
       "[45000 rows x 7 columns]"
      ]
     },
     "execution_count": 6,
     "metadata": {},
     "output_type": "execute_result"
    }
   ],
   "source": [
    "df_word_select = pd.read_excel(f\"/media/kurubal/SSD1/Data Scientist/Work/Modern Ways/Project/{lang_folder.capitalize()}/Lemma Stem POS/Data/Word Select/Turkish_45000_Lemma_Pos.xlsx\")\n",
    "df_word_select"
   ]
  },
  {
   "cell_type": "code",
   "execution_count": 7,
   "metadata": {},
   "outputs": [],
   "source": [
    "df_word_select[\"lemma.spacylookup\"] = df_word_select[\"lemma.spacylookup\"].apply(lambda x: lower_strip_func(x))\n",
    "df_word_select[\"word_en_translate\"] = df_word_select[\"word_en_translate\"].apply(lambda x: lower_strip_func(x))\n",
    "df_word_select[\"lemma_en_translate\"] = df_word_select[\"lemma_en_translate\"].apply(lambda x: lower_strip_func(x))\n",
    "df_word_select"
   ]
  },
  {
   "cell_type": "code",
   "execution_count": 9,
   "metadata": {},
   "outputs": [],
   "source": [
    "df_word_select.to_excel(f\"{lang_folder.capitalize()}_45000_Lemma_Pos_Process.xlsx\", index=False)"
   ]
  },
  {
   "cell_type": "code",
   "execution_count": null,
   "metadata": {},
   "outputs": [],
   "source": []
  },
  {
   "attachments": {},
   "cell_type": "markdown",
   "metadata": {},
   "source": [
    "#### Copy Move And Delete"
   ]
  },
  {
   "cell_type": "code",
   "execution_count": 5,
   "metadata": {},
   "outputs": [
    {
     "data": {
      "text/plain": [
       "['Turkish_45000_Lemma_Pos_Process.xlsx']"
      ]
     },
     "execution_count": 5,
     "metadata": {},
     "output_type": "execute_result"
    }
   ],
   "source": [
    "output_file = glob.glob(f\"{lang_folder.capitalize()}_45000_Lemma_Pos_Process.xlsx\")\n",
    "output_file"
   ]
  },
  {
   "cell_type": "code",
   "execution_count": 6,
   "metadata": {},
   "outputs": [],
   "source": [
    "for l in output_file:\n",
    "    source = l # source directory\n",
    "    destination = path\n",
    "    shutil.copy2(source, destination)"
   ]
  },
  {
   "cell_type": "code",
   "execution_count": 7,
   "metadata": {},
   "outputs": [],
   "source": [
    "for j in output_file:\n",
    "    try:\n",
    "        os.remove(j)\n",
    "    except:\n",
    "        pass"
   ]
  },
  {
   "cell_type": "code",
   "execution_count": null,
   "metadata": {},
   "outputs": [],
   "source": []
  }
 ],
 "metadata": {
  "kernelspec": {
   "display_name": "py39",
   "language": "python",
   "name": "python3"
  },
  "language_info": {
   "codemirror_mode": {
    "name": "ipython",
    "version": 3
   },
   "file_extension": ".py",
   "mimetype": "text/x-python",
   "name": "python",
   "nbconvert_exporter": "python",
   "pygments_lexer": "ipython3",
   "version": "3.9.5 (default, Jun  4 2021, 12:28:51) \n[GCC 7.5.0]"
  },
  "orig_nbformat": 4,
  "vscode": {
   "interpreter": {
    "hash": "651d507d70892fab0fc6529d935cd476f6e2eb1791525b76da6cc8da34bc0503"
   }
  }
 },
 "nbformat": 4,
 "nbformat_minor": 2
}
