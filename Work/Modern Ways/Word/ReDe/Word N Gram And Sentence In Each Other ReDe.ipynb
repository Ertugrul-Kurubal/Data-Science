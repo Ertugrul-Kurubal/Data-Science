{
 "cells": [
  {
   "cell_type": "markdown",
   "metadata": {},
   "source": [
    "### Word N Gram And Sentence In Each Other"
   ]
  },
  {
   "cell_type": "code",
   "execution_count": 1,
   "metadata": {},
   "outputs": [],
   "source": [
    "import pandas as pd\n",
    "import numpy as np\n",
    "import re\n",
    "import nltk"
   ]
  },
  {
   "cell_type": "code",
   "execution_count": 2,
   "metadata": {},
   "outputs": [],
   "source": [
    "#!pip install unicodedata2 "
   ]
  },
  {
   "cell_type": "code",
   "execution_count": 3,
   "metadata": {},
   "outputs": [],
   "source": [
    "word_num = 300"
   ]
  },
  {
   "cell_type": "code",
   "execution_count": 4,
   "metadata": {},
   "outputs": [
    {
     "data": {
      "text/html": [
       "<div>\n",
       "<style scoped>\n",
       "    .dataframe tbody tr th:only-of-type {\n",
       "        vertical-align: middle;\n",
       "    }\n",
       "\n",
       "    .dataframe tbody tr th {\n",
       "        vertical-align: top;\n",
       "    }\n",
       "\n",
       "    .dataframe thead th {\n",
       "        text-align: right;\n",
       "    }\n",
       "</style>\n",
       "<table border=\"1\" class=\"dataframe\">\n",
       "  <thead>\n",
       "    <tr style=\"text-align: right;\">\n",
       "      <th></th>\n",
       "      <th>word</th>\n",
       "      <th>frequency</th>\n",
       "    </tr>\n",
       "  </thead>\n",
       "  <tbody>\n",
       "    <tr>\n",
       "      <th>0</th>\n",
       "      <td>bir</td>\n",
       "      <td>18835735</td>\n",
       "    </tr>\n",
       "    <tr>\n",
       "      <th>1</th>\n",
       "      <td>bu</td>\n",
       "      <td>11062659</td>\n",
       "    </tr>\n",
       "    <tr>\n",
       "      <th>2</th>\n",
       "      <td>ne</td>\n",
       "      <td>8025880</td>\n",
       "    </tr>\n",
       "    <tr>\n",
       "      <th>3</th>\n",
       "      <td>ve</td>\n",
       "      <td>7766036</td>\n",
       "    </tr>\n",
       "    <tr>\n",
       "      <th>4</th>\n",
       "      <td>için</td>\n",
       "      <td>5484109</td>\n",
       "    </tr>\n",
       "    <tr>\n",
       "      <th>...</th>\n",
       "      <td>...</td>\n",
       "      <td>...</td>\n",
       "    </tr>\n",
       "    <tr>\n",
       "      <th>295</th>\n",
       "      <td>mutlu</td>\n",
       "      <td>254555</td>\n",
       "    </tr>\n",
       "    <tr>\n",
       "      <th>296</th>\n",
       "      <td>ondan</td>\n",
       "      <td>252864</td>\n",
       "    </tr>\n",
       "    <tr>\n",
       "      <th>297</th>\n",
       "      <td>eminim</td>\n",
       "      <td>252546</td>\n",
       "    </tr>\n",
       "    <tr>\n",
       "      <th>298</th>\n",
       "      <td>insan</td>\n",
       "      <td>252056</td>\n",
       "    </tr>\n",
       "    <tr>\n",
       "      <th>299</th>\n",
       "      <td>gördüm</td>\n",
       "      <td>251150</td>\n",
       "    </tr>\n",
       "  </tbody>\n",
       "</table>\n",
       "<p>300 rows × 2 columns</p>\n",
       "</div>"
      ],
      "text/plain": [
       "       word  frequency\n",
       "0       bir   18835735\n",
       "1        bu   11062659\n",
       "2        ne    8025880\n",
       "3        ve    7766036\n",
       "4      için    5484109\n",
       "..      ...        ...\n",
       "295   mutlu     254555\n",
       "296   ondan     252864\n",
       "297  eminim     252546\n",
       "298   insan     252056\n",
       "299  gördüm     251150\n",
       "\n",
       "[300 rows x 2 columns]"
      ]
     },
     "execution_count": 4,
     "metadata": {},
     "output_type": "execute_result"
    }
   ],
   "source": [
    "df_word = pd.read_csv(\"/media/kurubal/SSD/Data Scientist/Work/Modern Ways/Project/Turkish/NLTK/Result/Word/Merge_Word/Word_Merge.csv\")\n",
    "df_word = df_word.head(word_num)\n",
    "df_word"
   ]
  },
  {
   "cell_type": "code",
   "execution_count": 5,
   "metadata": {},
   "outputs": [],
   "source": [
    "word_list = df_word.iloc[:,0].values.tolist()"
   ]
  },
  {
   "cell_type": "code",
   "execution_count": 6,
   "metadata": {},
   "outputs": [
    {
     "data": {
      "text/html": [
       "<div>\n",
       "<style scoped>\n",
       "    .dataframe tbody tr th:only-of-type {\n",
       "        vertical-align: middle;\n",
       "    }\n",
       "\n",
       "    .dataframe tbody tr th {\n",
       "        vertical-align: top;\n",
       "    }\n",
       "\n",
       "    .dataframe thead th {\n",
       "        text-align: right;\n",
       "    }\n",
       "</style>\n",
       "<table border=\"1\" class=\"dataframe\">\n",
       "  <thead>\n",
       "    <tr style=\"text-align: right;\">\n",
       "      <th></th>\n",
       "      <th>sentence</th>\n",
       "      <th>frequency</th>\n",
       "      <th>code</th>\n",
       "    </tr>\n",
       "  </thead>\n",
       "  <tbody>\n",
       "    <tr>\n",
       "      <th>0</th>\n",
       "      <td>evet</td>\n",
       "      <td>1948596</td>\n",
       "      <td>G1-L4-F1948596-0</td>\n",
       "    </tr>\n",
       "    <tr>\n",
       "      <th>1</th>\n",
       "      <td>fikret</td>\n",
       "      <td>1533918</td>\n",
       "      <td>G1-L6-F1533918-1</td>\n",
       "    </tr>\n",
       "    <tr>\n",
       "      <th>2</th>\n",
       "      <td>hayır</td>\n",
       "      <td>1250401</td>\n",
       "      <td>G1-L5-F1250401-2</td>\n",
       "    </tr>\n",
       "    <tr>\n",
       "      <th>3</th>\n",
       "      <td>tamam</td>\n",
       "      <td>882921</td>\n",
       "      <td>G1-L5-F882921-3</td>\n",
       "    </tr>\n",
       "    <tr>\n",
       "      <th>4</th>\n",
       "      <td>ne</td>\n",
       "      <td>753105</td>\n",
       "      <td>G1-L2-F753105-4</td>\n",
       "    </tr>\n",
       "    <tr>\n",
       "      <th>...</th>\n",
       "      <td>...</td>\n",
       "      <td>...</td>\n",
       "      <td>...</td>\n",
       "    </tr>\n",
       "    <tr>\n",
       "      <th>2913965</th>\n",
       "      <td>hayır ben bir pikap kamyon alacağım</td>\n",
       "      <td>6</td>\n",
       "      <td>G6-L35-F6-2913965</td>\n",
       "    </tr>\n",
       "    <tr>\n",
       "      <th>2913966</th>\n",
       "      <td>eminim uydurmuştur</td>\n",
       "      <td>6</td>\n",
       "      <td>G2-L18-F6-2913966</td>\n",
       "    </tr>\n",
       "    <tr>\n",
       "      <th>2913967</th>\n",
       "      <td>hemen bir kement ile onu yakalar ve aşağı çekerim</td>\n",
       "      <td>6</td>\n",
       "      <td>G9-L49-F6-2913967</td>\n",
       "    </tr>\n",
       "    <tr>\n",
       "      <th>2913968</th>\n",
       "      <td>tabii gerçek bir profesyonel o</td>\n",
       "      <td>6</td>\n",
       "      <td>G5-L30-F6-2913968</td>\n",
       "    </tr>\n",
       "    <tr>\n",
       "      <th>2913969</th>\n",
       "      <td>_ adı fikret</td>\n",
       "      <td>6</td>\n",
       "      <td>G3-L12-F6-2913969</td>\n",
       "    </tr>\n",
       "  </tbody>\n",
       "</table>\n",
       "<p>2913970 rows × 3 columns</p>\n",
       "</div>"
      ],
      "text/plain": [
       "                                                  sentence  frequency  \\\n",
       "0                                                     evet    1948596   \n",
       "1                                                   fikret    1533918   \n",
       "2                                                    hayır    1250401   \n",
       "3                                                    tamam     882921   \n",
       "4                                                       ne     753105   \n",
       "...                                                    ...        ...   \n",
       "2913965                hayır ben bir pikap kamyon alacağım          6   \n",
       "2913966                                 eminim uydurmuştur          6   \n",
       "2913967  hemen bir kement ile onu yakalar ve aşağı çekerim          6   \n",
       "2913968                     tabii gerçek bir profesyonel o          6   \n",
       "2913969                                       _ adı fikret          6   \n",
       "\n",
       "                      code  \n",
       "0         G1-L4-F1948596-0  \n",
       "1         G1-L6-F1533918-1  \n",
       "2         G1-L5-F1250401-2  \n",
       "3          G1-L5-F882921-3  \n",
       "4          G1-L2-F753105-4  \n",
       "...                    ...  \n",
       "2913965  G6-L35-F6-2913965  \n",
       "2913966  G2-L18-F6-2913966  \n",
       "2913967  G9-L49-F6-2913967  \n",
       "2913968  G5-L30-F6-2913968  \n",
       "2913969  G3-L12-F6-2913969  \n",
       "\n",
       "[2913970 rows x 3 columns]"
      ]
     },
     "execution_count": 6,
     "metadata": {},
     "output_type": "execute_result"
    }
   ],
   "source": [
    "df_sent_code = pd.read_csv(\"/media/kurubal/SSD/Data Scientist/Work/Modern Ways/Project/Turkish/Pyspark/Result/Sentence/Spark Turkish Sentence Merge/Clean_Spark_Sentence_Merge_Result2_Code.csv\")\n",
    "df_sent_code = df_sent_code.iloc[:,1:4]\n",
    "df_sent_code"
   ]
  },
  {
   "cell_type": "code",
   "execution_count": 7,
   "metadata": {},
   "outputs": [],
   "source": [
    "sent_list  = df_sent_code.iloc[:,0].values.tolist()"
   ]
  },
  {
   "cell_type": "code",
   "execution_count": 20,
   "metadata": {},
   "outputs": [],
   "source": [
    "def string_in_each(d_list):\n",
    "    resultlist = []\n",
    "    for i in d_list:\n",
    "        mergelist = []\n",
    "        try:\n",
    "            word = i.split()\n",
    "        except:\n",
    "            pass\n",
    "        var1 = range(len(word))\n",
    "        for j in var1:\n",
    "            if word[j] in word_list:\n",
    "                mergelist.append(word[j])\n",
    "                if len(mergelist) == len(word):\n",
    "                        resultlist.append(i)\n",
    "    return resultlist"
   ]
  },
  {
   "cell_type": "code",
   "execution_count": null,
   "metadata": {},
   "outputs": [],
   "source": [
    "# 1 Way\n",
    "data_kind = \"sentence\"\n",
    "resultlist = []\n",
    "for i in sent_list:\n",
    "    mergelist = []\n",
    "    try:\n",
    "        word = i.split()\n",
    "    except:\n",
    "        pass\n",
    "    var1 = range(len(word))\n",
    "    for j in var1:\n",
    "        if word[j] in word_list:\n",
    "            mergelist.append(word[j])\n",
    "            if len(mergelist) == len(word):\n",
    "                    resultlist.append(i)"
   ]
  },
  {
   "cell_type": "code",
   "execution_count": 21,
   "metadata": {},
   "outputs": [],
   "source": [
    "# 2 Way\n",
    "data_kind = \"sentence\"\n",
    "resultlist = string_in_each(sent_list)"
   ]
  },
  {
   "cell_type": "code",
   "execution_count": 22,
   "metadata": {},
   "outputs": [
    {
     "data": {
      "text/html": [
       "<div>\n",
       "<style scoped>\n",
       "    .dataframe tbody tr th:only-of-type {\n",
       "        vertical-align: middle;\n",
       "    }\n",
       "\n",
       "    .dataframe tbody tr th {\n",
       "        vertical-align: top;\n",
       "    }\n",
       "\n",
       "    .dataframe thead th {\n",
       "        text-align: right;\n",
       "    }\n",
       "</style>\n",
       "<table border=\"1\" class=\"dataframe\">\n",
       "  <thead>\n",
       "    <tr style=\"text-align: right;\">\n",
       "      <th></th>\n",
       "      <th>sentence</th>\n",
       "      <th>frequency</th>\n",
       "      <th>code</th>\n",
       "    </tr>\n",
       "  </thead>\n",
       "  <tbody>\n",
       "    <tr>\n",
       "      <th>0</th>\n",
       "      <td>evet</td>\n",
       "      <td>1948596</td>\n",
       "      <td>G1-L4-F1948596-0</td>\n",
       "    </tr>\n",
       "    <tr>\n",
       "      <th>1</th>\n",
       "      <td>hayır</td>\n",
       "      <td>1250401</td>\n",
       "      <td>G1-L5-F1250401-2</td>\n",
       "    </tr>\n",
       "    <tr>\n",
       "      <th>2</th>\n",
       "      <td>tamam</td>\n",
       "      <td>882921</td>\n",
       "      <td>G1-L5-F882921-3</td>\n",
       "    </tr>\n",
       "    <tr>\n",
       "      <th>3</th>\n",
       "      <td>ne</td>\n",
       "      <td>753105</td>\n",
       "      <td>G1-L2-F753105-4</td>\n",
       "    </tr>\n",
       "    <tr>\n",
       "      <th>4</th>\n",
       "      <td>teşekkürler</td>\n",
       "      <td>343527</td>\n",
       "      <td>G1-L11-F343527-5</td>\n",
       "    </tr>\n",
       "    <tr>\n",
       "      <th>...</th>\n",
       "      <td>...</td>\n",
       "      <td>...</td>\n",
       "      <td>...</td>\n",
       "    </tr>\n",
       "    <tr>\n",
       "      <th>68886</th>\n",
       "      <td>bize tek gereken bu</td>\n",
       "      <td>6</td>\n",
       "      <td>G4-L19-F6-2854680</td>\n",
       "    </tr>\n",
       "    <tr>\n",
       "      <th>68885</th>\n",
       "      <td>ve bu iyi bir şey değil mi</td>\n",
       "      <td>6</td>\n",
       "      <td>G7-L26-F6-2854591</td>\n",
       "    </tr>\n",
       "    <tr>\n",
       "      <th>68884</th>\n",
       "      <td>bize biraz zaman ver olur mu</td>\n",
       "      <td>6</td>\n",
       "      <td>G6-L28-F6-2854551</td>\n",
       "    </tr>\n",
       "    <tr>\n",
       "      <th>68883</th>\n",
       "      <td>bir gün senin de olacak</td>\n",
       "      <td>6</td>\n",
       "      <td>G5-L23-F6-2854424</td>\n",
       "    </tr>\n",
       "    <tr>\n",
       "      <th>69801</th>\n",
       "      <td>bir dakika biliyorum</td>\n",
       "      <td>6</td>\n",
       "      <td>G3-L20-F6-2913958</td>\n",
       "    </tr>\n",
       "  </tbody>\n",
       "</table>\n",
       "<p>69802 rows × 3 columns</p>\n",
       "</div>"
      ],
      "text/plain": [
       "                           sentence  frequency               code\n",
       "0                              evet    1948596   G1-L4-F1948596-0\n",
       "1                             hayır    1250401   G1-L5-F1250401-2\n",
       "2                             tamam     882921    G1-L5-F882921-3\n",
       "3                                ne     753105    G1-L2-F753105-4\n",
       "4                       teşekkürler     343527   G1-L11-F343527-5\n",
       "...                             ...        ...                ...\n",
       "68886           bize tek gereken bu          6  G4-L19-F6-2854680\n",
       "68885    ve bu iyi bir şey değil mi          6  G7-L26-F6-2854591\n",
       "68884  bize biraz zaman ver olur mu          6  G6-L28-F6-2854551\n",
       "68883       bir gün senin de olacak          6  G5-L23-F6-2854424\n",
       "69801          bir dakika biliyorum          6  G3-L20-F6-2913958\n",
       "\n",
       "[69802 rows x 3 columns]"
      ]
     },
     "execution_count": 22,
     "metadata": {},
     "output_type": "execute_result"
    }
   ],
   "source": [
    "df_result_sent = pd.DataFrame(resultlist)\n",
    "df_result_sent = df_result_sent.rename(columns = {0: f\"{data_kind}\"})\n",
    "df_merge_sent = pd.merge(df_result_sent, df_sent_code, how=\"left\", on=f\"{data_kind}\")\n",
    "df_n_sent = df_merge_sent.sort_values(by=\"frequency\", ascending=False)\n",
    "df_n_sent"
   ]
  },
  {
   "cell_type": "code",
   "execution_count": null,
   "metadata": {},
   "outputs": [],
   "source": [
    "#df_n_sent.to_csv(f\"{data_kind.capitalize()}_With_{word_num}_Word.csv\", index=False)"
   ]
  },
  {
   "cell_type": "code",
   "execution_count": null,
   "metadata": {},
   "outputs": [],
   "source": []
  },
  {
   "cell_type": "code",
   "execution_count": 23,
   "metadata": {},
   "outputs": [
    {
     "data": {
      "text/html": [
       "<div>\n",
       "<style scoped>\n",
       "    .dataframe tbody tr th:only-of-type {\n",
       "        vertical-align: middle;\n",
       "    }\n",
       "\n",
       "    .dataframe tbody tr th {\n",
       "        vertical-align: top;\n",
       "    }\n",
       "\n",
       "    .dataframe thead th {\n",
       "        text-align: right;\n",
       "    }\n",
       "</style>\n",
       "<table border=\"1\" class=\"dataframe\">\n",
       "  <thead>\n",
       "    <tr style=\"text-align: right;\">\n",
       "      <th></th>\n",
       "      <th>twogram</th>\n",
       "      <th>frequency</th>\n",
       "    </tr>\n",
       "  </thead>\n",
       "  <tbody>\n",
       "    <tr>\n",
       "      <th>0</th>\n",
       "      <td>teşekkür ederim</td>\n",
       "      <td>244149</td>\n",
       "    </tr>\n",
       "    <tr>\n",
       "      <th>1</th>\n",
       "      <td>öyle mi</td>\n",
       "      <td>209900</td>\n",
       "    </tr>\n",
       "    <tr>\n",
       "      <th>2</th>\n",
       "      <td>ne oldu</td>\n",
       "      <td>195799</td>\n",
       "    </tr>\n",
       "    <tr>\n",
       "      <th>3</th>\n",
       "      <td>aman tanrım</td>\n",
       "      <td>189521</td>\n",
       "    </tr>\n",
       "    <tr>\n",
       "      <th>4</th>\n",
       "      <td>özür dilerim</td>\n",
       "      <td>153784</td>\n",
       "    </tr>\n",
       "    <tr>\n",
       "      <th>...</th>\n",
       "      <td>...</td>\n",
       "      <td>...</td>\n",
       "    </tr>\n",
       "    <tr>\n",
       "      <th>2992945</th>\n",
       "      <td>robina fikret</td>\n",
       "      <td>3</td>\n",
       "    </tr>\n",
       "    <tr>\n",
       "      <th>2992946</th>\n",
       "      <td>arı fikret</td>\n",
       "      <td>3</td>\n",
       "    </tr>\n",
       "    <tr>\n",
       "      <th>2992947</th>\n",
       "      <td>piskopos fikret</td>\n",
       "      <td>3</td>\n",
       "    </tr>\n",
       "    <tr>\n",
       "      <th>2992948</th>\n",
       "      <td>fikret collinsdi</td>\n",
       "      <td>3</td>\n",
       "    </tr>\n",
       "    <tr>\n",
       "      <th>2992949</th>\n",
       "      <td>fikret lumley</td>\n",
       "      <td>3</td>\n",
       "    </tr>\n",
       "  </tbody>\n",
       "</table>\n",
       "<p>2992950 rows × 2 columns</p>\n",
       "</div>"
      ],
      "text/plain": [
       "                  twogram  frequency\n",
       "0         teşekkür ederim     244149\n",
       "1                 öyle mi     209900\n",
       "2                 ne oldu     195799\n",
       "3             aman tanrım     189521\n",
       "4            özür dilerim     153784\n",
       "...                   ...        ...\n",
       "2992945     robina fikret          3\n",
       "2992946        arı fikret          3\n",
       "2992947   piskopos fikret          3\n",
       "2992948  fikret collinsdi          3\n",
       "2992949     fikret lumley          3\n",
       "\n",
       "[2992950 rows x 2 columns]"
      ]
     },
     "execution_count": 23,
     "metadata": {},
     "output_type": "execute_result"
    }
   ],
   "source": [
    "df_two = pd.read_csv(\"/media/kurubal/SSD/Data Scientist/Work/Modern Ways/Project/Turkish/Pyspark/Result/N Gram/Merge/Twogram_Merge.csv\")\n",
    "df_two"
   ]
  },
  {
   "cell_type": "code",
   "execution_count": 24,
   "metadata": {},
   "outputs": [],
   "source": [
    "two_list  = df_two.iloc[:,0].values.tolist()"
   ]
  },
  {
   "cell_type": "code",
   "execution_count": null,
   "metadata": {},
   "outputs": [],
   "source": [
    "# 1 Way\n",
    "data_kind = \"twogram\"\n",
    "resultlist = []\n",
    "for i in two_list:\n",
    "    mergelist = []\n",
    "    try:\n",
    "        word = i.split()\n",
    "    except:\n",
    "        pass\n",
    "    var1 = range(len(word))\n",
    "    for j in var1:\n",
    "        if word[j] in word_list:\n",
    "            mergelist.append(word[j])\n",
    "            if len(mergelist) == len(word):\n",
    "                    resultlist.append(i)"
   ]
  },
  {
   "cell_type": "code",
   "execution_count": 25,
   "metadata": {},
   "outputs": [],
   "source": [
    "# 2 Way\n",
    "data_kind = \"twogram\"\n",
    "resultlist = string_in_each(two_list)"
   ]
  },
  {
   "cell_type": "code",
   "execution_count": 27,
   "metadata": {},
   "outputs": [
    {
     "data": {
      "text/html": [
       "<div>\n",
       "<style scoped>\n",
       "    .dataframe tbody tr th:only-of-type {\n",
       "        vertical-align: middle;\n",
       "    }\n",
       "\n",
       "    .dataframe tbody tr th {\n",
       "        vertical-align: top;\n",
       "    }\n",
       "\n",
       "    .dataframe thead th {\n",
       "        text-align: right;\n",
       "    }\n",
       "</style>\n",
       "<table border=\"1\" class=\"dataframe\">\n",
       "  <thead>\n",
       "    <tr style=\"text-align: right;\">\n",
       "      <th></th>\n",
       "      <th>twogram</th>\n",
       "      <th>frequency</th>\n",
       "    </tr>\n",
       "  </thead>\n",
       "  <tbody>\n",
       "    <tr>\n",
       "      <th>0</th>\n",
       "      <td>teşekkür ederim</td>\n",
       "      <td>244149</td>\n",
       "    </tr>\n",
       "    <tr>\n",
       "      <th>1</th>\n",
       "      <td>öyle mi</td>\n",
       "      <td>209900</td>\n",
       "    </tr>\n",
       "    <tr>\n",
       "      <th>2</th>\n",
       "      <td>ne oldu</td>\n",
       "      <td>195799</td>\n",
       "    </tr>\n",
       "    <tr>\n",
       "      <th>3</th>\n",
       "      <td>aman tanrım</td>\n",
       "      <td>189521</td>\n",
       "    </tr>\n",
       "    <tr>\n",
       "      <th>4</th>\n",
       "      <td>özür dilerim</td>\n",
       "      <td>153784</td>\n",
       "    </tr>\n",
       "    <tr>\n",
       "      <th>...</th>\n",
       "      <td>...</td>\n",
       "      <td>...</td>\n",
       "    </tr>\n",
       "    <tr>\n",
       "      <th>173763</th>\n",
       "      <td>biz buradan devam</td>\n",
       "      <td>11</td>\n",
       "    </tr>\n",
       "    <tr>\n",
       "      <th>173764</th>\n",
       "      <td>biz daha oraya</td>\n",
       "      <td>11</td>\n",
       "    </tr>\n",
       "    <tr>\n",
       "      <th>173765</th>\n",
       "      <td>biz de bizi</td>\n",
       "      <td>11</td>\n",
       "    </tr>\n",
       "    <tr>\n",
       "      <th>173766</th>\n",
       "      <td>bak bakalım gerçek</td>\n",
       "      <td>11</td>\n",
       "    </tr>\n",
       "    <tr>\n",
       "      <th>180203</th>\n",
       "      <td>yani benim kız</td>\n",
       "      <td>11</td>\n",
       "    </tr>\n",
       "  </tbody>\n",
       "</table>\n",
       "<p>180204 rows × 2 columns</p>\n",
       "</div>"
      ],
      "text/plain": [
       "                   twogram  frequency\n",
       "0          teşekkür ederim     244149\n",
       "1                  öyle mi     209900\n",
       "2                  ne oldu     195799\n",
       "3              aman tanrım     189521\n",
       "4             özür dilerim     153784\n",
       "...                    ...        ...\n",
       "173763   biz buradan devam         11\n",
       "173764      biz daha oraya         11\n",
       "173765         biz de bizi         11\n",
       "173766  bak bakalım gerçek         11\n",
       "180203      yani benim kız         11\n",
       "\n",
       "[180204 rows x 2 columns]"
      ]
     },
     "execution_count": 27,
     "metadata": {},
     "output_type": "execute_result"
    }
   ],
   "source": [
    "df_result_two = pd.DataFrame(resultlist)\n",
    "df_result_two = df_result_two.rename(columns = {0: f\"{data_kind}\"})\n",
    "df_merge_two = pd.merge(df_result_two, df_two, how=\"left\", on=f\"{data_kind}\")\n",
    "df_n_two = df_merge_two.sort_values(by=\"frequency\", ascending=False)\n",
    "df_n_two"
   ]
  },
  {
   "cell_type": "code",
   "execution_count": null,
   "metadata": {},
   "outputs": [],
   "source": [
    "#df_n_two.to_csv(f\"{data_kind.capitalize()}_With_{word_num}_Word.csv\", index=False)"
   ]
  },
  {
   "cell_type": "code",
   "execution_count": null,
   "metadata": {},
   "outputs": [],
   "source": []
  },
  {
   "cell_type": "code",
   "execution_count": null,
   "metadata": {},
   "outputs": [],
   "source": [
    "df_three = pd.read_csv(\"/media/kurubal/SSD/Data Scientist/Work/Modern Ways/Project/Turkish/Pyspark/Result/N Gram/Merge/Threegram_Merge.csv\")\n",
    "df_three"
   ]
  },
  {
   "cell_type": "code",
   "execution_count": null,
   "metadata": {},
   "outputs": [],
   "source": [
    "three_list  = df_three.iloc[:,0].values.tolist()"
   ]
  },
  {
   "cell_type": "code",
   "execution_count": null,
   "metadata": {},
   "outputs": [],
   "source": [
    "data_kind = \"threegram\"\n",
    "resultlist = []\n",
    "for i in three_list:\n",
    "    mergelist = []\n",
    "    try:\n",
    "        word = i.split()\n",
    "    except:\n",
    "        pass\n",
    "    var1 = range(len(word))\n",
    "    for j in var1:\n",
    "        if word[j] in word_list:\n",
    "            mergelist.append(word[j])\n",
    "            if len(mergelist) == len(word):\n",
    "                    resultlist.append(i)"
   ]
  },
  {
   "cell_type": "code",
   "execution_count": null,
   "metadata": {},
   "outputs": [],
   "source": [
    "df_result_three = pd.DataFrame(resultlist)\n",
    "df_result_three = df_result_three.rename(columns = {0: f\"{data_kind}\"})\n",
    "df_merge_three = pd.merge(df_result_three, df_three, how=\"left\", on=f\"{data_kind}\")\n",
    "df_n_three = df_merge_three.sort_values(by=\"frequency\", ascending=False)\n",
    "df_n_three"
   ]
  },
  {
   "cell_type": "code",
   "execution_count": null,
   "metadata": {},
   "outputs": [],
   "source": [
    "#df_n_three.to_csv(f\"{data_kind.capitalize()}_With_{word_num}_Word.csv\", index=False)"
   ]
  },
  {
   "cell_type": "code",
   "execution_count": null,
   "metadata": {},
   "outputs": [],
   "source": []
  },
  {
   "cell_type": "code",
   "execution_count": null,
   "metadata": {},
   "outputs": [],
   "source": [
    "df_four = pd.read_csv(\"/media/kurubal/SSD/Data Scientist/Work/Modern Ways/Project/Turkish/Pyspark/Result/N Gram/Merge/Fourgram_Merge.csv\")\n",
    "df_four"
   ]
  },
  {
   "cell_type": "code",
   "execution_count": null,
   "metadata": {},
   "outputs": [],
   "source": [
    "four_list  = df_four.iloc[:,0].values.tolist()"
   ]
  },
  {
   "cell_type": "code",
   "execution_count": null,
   "metadata": {},
   "outputs": [],
   "source": [
    "data_kind = \"fourgram\"\n",
    "resultlist = []\n",
    "for i in four_list:\n",
    "    mergelist = []\n",
    "    try:\n",
    "        word = i.split()\n",
    "    except:\n",
    "        pass\n",
    "    var1 = range(len(word))\n",
    "    for j in var1:\n",
    "        if word[j] in word_list:\n",
    "            mergelist.append(word[j])\n",
    "            if len(mergelist) == len(word):\n",
    "                    resultlist.append(i)"
   ]
  },
  {
   "cell_type": "code",
   "execution_count": null,
   "metadata": {},
   "outputs": [],
   "source": [
    "df_result_four = pd.DataFrame(resultlist)\n",
    "df_result_four = df_result_four.rename(columns = {0: f\"{data_kind}\"})\n",
    "df_merge_four = pd.merge(df_result_four, df_sent_code, how=\"left\", on=f\"{data_kind}\")\n",
    "df_n_four = df_merge_four.sort_values(by=\"frequency\", ascending=False)\n",
    "df_n_four"
   ]
  },
  {
   "cell_type": "code",
   "execution_count": null,
   "metadata": {},
   "outputs": [],
   "source": [
    "#df_n_four.to_csv(f\"{data_kind.capitalize()}_With_{word_num}_Word.csv\", index=False)"
   ]
  },
  {
   "cell_type": "code",
   "execution_count": null,
   "metadata": {},
   "outputs": [],
   "source": []
  },
  {
   "cell_type": "code",
   "execution_count": null,
   "metadata": {},
   "outputs": [],
   "source": [
    "df_five = pd.read_csv(\"/media/kurubal/SSD/Data Scientist/Work/Modern Ways/Project/Turkish/Pyspark/Result/N Gram/Merge/Fivegram_Merge.csv\")\n",
    "df_five"
   ]
  },
  {
   "cell_type": "code",
   "execution_count": null,
   "metadata": {},
   "outputs": [],
   "source": [
    "five_list  = df_five.iloc[:,0].values.tolist()"
   ]
  },
  {
   "cell_type": "code",
   "execution_count": null,
   "metadata": {},
   "outputs": [],
   "source": [
    "data_kind = \"fivegram\"\n",
    "resultlist = []\n",
    "for i in five_list:\n",
    "    mergelist = []\n",
    "    try:\n",
    "        word = i.split()\n",
    "    except:\n",
    "        pass\n",
    "    var1 = range(len(word))\n",
    "    for j in var1:\n",
    "        if word[j] in word_list:\n",
    "            mergelist.append(word[j])\n",
    "            if len(mergelist) == len(word):\n",
    "                    resultlist.append(i)"
   ]
  },
  {
   "cell_type": "code",
   "execution_count": null,
   "metadata": {},
   "outputs": [],
   "source": [
    "df_result_five = pd.DataFrame(resultlist)\n",
    "df_result_five = df_result_five.rename(columns = {0: f\"{data_kind}\"})\n",
    "df_merge_five = pd.merge(df_result_five, df_sent_code, how=\"left\", on=f\"{data_kind}\")\n",
    "df_n_five = df_merge_five.sort_values(by=\"frequency\", ascending=False)\n",
    "df_n_five"
   ]
  },
  {
   "cell_type": "code",
   "execution_count": null,
   "metadata": {},
   "outputs": [],
   "source": [
    "#df_n_five.to_csv(f\"{data_kind.capitalize()}_With_{word_num}_Word.csv\", index=False)"
   ]
  },
  {
   "cell_type": "code",
   "execution_count": null,
   "metadata": {},
   "outputs": [],
   "source": []
  },
  {
   "cell_type": "code",
   "execution_count": null,
   "metadata": {},
   "outputs": [],
   "source": [
    "ngram_list = df_two.iloc[:,0].to_list()"
   ]
  },
  {
   "cell_type": "code",
   "execution_count": null,
   "metadata": {},
   "outputs": [],
   "source": [
    "df_sent_result = pd.DataFrame()\n",
    "for i in ngram_list:\n",
    "    ngram_in_sent = df_sent_code[df_sent_code.iloc[:,0].str.contains(fr\"(^|\\s){i}(\\s|$)\")]\n",
    "    ngram_in_sent.insert(0,\"ngram\",i)\n",
    "    df_sent_result = pd.concat([df_sent_result,ngram_in_sent], axis=0)"
   ]
  },
  {
   "cell_type": "code",
   "execution_count": null,
   "metadata": {},
   "outputs": [],
   "source": []
  },
  {
   "cell_type": "code",
   "execution_count": null,
   "metadata": {},
   "outputs": [],
   "source": []
  },
  {
   "cell_type": "code",
   "execution_count": null,
   "metadata": {},
   "outputs": [],
   "source": []
  },
  {
   "cell_type": "code",
   "execution_count": null,
   "metadata": {},
   "outputs": [],
   "source": []
  },
  {
   "cell_type": "code",
   "execution_count": null,
   "metadata": {},
   "outputs": [],
   "source": []
  },
  {
   "cell_type": "code",
   "execution_count": null,
   "metadata": {},
   "outputs": [],
   "source": []
  },
  {
   "cell_type": "code",
   "execution_count": null,
   "metadata": {},
   "outputs": [],
   "source": []
  },
  {
   "cell_type": "code",
   "execution_count": null,
   "metadata": {},
   "outputs": [],
   "source": []
  },
  {
   "cell_type": "code",
   "execution_count": null,
   "metadata": {},
   "outputs": [],
   "source": []
  },
  {
   "cell_type": "code",
   "execution_count": null,
   "metadata": {},
   "outputs": [],
   "source": []
  },
  {
   "cell_type": "code",
   "execution_count": null,
   "metadata": {},
   "outputs": [],
   "source": []
  },
  {
   "cell_type": "code",
   "execution_count": null,
   "metadata": {},
   "outputs": [],
   "source": []
  }
 ],
 "metadata": {
  "kernelspec": {
   "display_name": "Python 3",
   "language": "python",
   "name": "python3"
  },
  "language_info": {
   "codemirror_mode": {
    "name": "ipython",
    "version": 3
   },
   "file_extension": ".py",
   "mimetype": "text/x-python",
   "name": "python",
   "nbconvert_exporter": "python",
   "pygments_lexer": "ipython3",
   "version": "3.9.5"
  }
 },
 "nbformat": 4,
 "nbformat_minor": 4
}
