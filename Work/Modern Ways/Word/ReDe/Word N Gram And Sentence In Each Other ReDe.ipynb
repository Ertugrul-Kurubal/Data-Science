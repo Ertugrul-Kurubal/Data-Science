{
 "cells": [
  {
   "cell_type": "markdown",
   "metadata": {},
   "source": [
    "### Word N Gram And Sentence In Each Other"
   ]
  },
  {
   "cell_type": "code",
   "execution_count": 1,
   "metadata": {},
   "outputs": [],
   "source": [
    "import pandas as pd\n",
    "import numpy as np\n",
    "import re\n",
    "import nltk"
   ]
  },
  {
   "cell_type": "code",
   "execution_count": null,
   "metadata": {},
   "outputs": [],
   "source": [
    "#!pip install unicodedata2 "
   ]
  },
  {
   "cell_type": "code",
   "execution_count": 3,
   "metadata": {},
   "outputs": [
    {
     "data": {
      "text/html": [
       "<div>\n",
       "<style scoped>\n",
       "    .dataframe tbody tr th:only-of-type {\n",
       "        vertical-align: middle;\n",
       "    }\n",
       "\n",
       "    .dataframe tbody tr th {\n",
       "        vertical-align: top;\n",
       "    }\n",
       "\n",
       "    .dataframe thead th {\n",
       "        text-align: right;\n",
       "    }\n",
       "</style>\n",
       "<table border=\"1\" class=\"dataframe\">\n",
       "  <thead>\n",
       "    <tr style=\"text-align: right;\">\n",
       "      <th></th>\n",
       "      <th>sentence</th>\n",
       "      <th>frequency</th>\n",
       "      <th>code</th>\n",
       "    </tr>\n",
       "  </thead>\n",
       "  <tbody>\n",
       "    <tr>\n",
       "      <th>0</th>\n",
       "      <td>evet</td>\n",
       "      <td>1948596</td>\n",
       "      <td>G1-L4-F1948596-0</td>\n",
       "    </tr>\n",
       "    <tr>\n",
       "      <th>1</th>\n",
       "      <td>fikret</td>\n",
       "      <td>1533918</td>\n",
       "      <td>G1-L6-F1533918-1</td>\n",
       "    </tr>\n",
       "    <tr>\n",
       "      <th>2</th>\n",
       "      <td>hayır</td>\n",
       "      <td>1250401</td>\n",
       "      <td>G1-L5-F1250401-2</td>\n",
       "    </tr>\n",
       "    <tr>\n",
       "      <th>3</th>\n",
       "      <td>tamam</td>\n",
       "      <td>882921</td>\n",
       "      <td>G1-L5-F882921-3</td>\n",
       "    </tr>\n",
       "    <tr>\n",
       "      <th>4</th>\n",
       "      <td>ne</td>\n",
       "      <td>753105</td>\n",
       "      <td>G1-L2-F753105-4</td>\n",
       "    </tr>\n",
       "    <tr>\n",
       "      <th>...</th>\n",
       "      <td>...</td>\n",
       "      <td>...</td>\n",
       "      <td>...</td>\n",
       "    </tr>\n",
       "    <tr>\n",
       "      <th>2913965</th>\n",
       "      <td>hayır ben bir pikap kamyon alacağım</td>\n",
       "      <td>6</td>\n",
       "      <td>G6-L35-F6-2913965</td>\n",
       "    </tr>\n",
       "    <tr>\n",
       "      <th>2913966</th>\n",
       "      <td>eminim uydurmuştur</td>\n",
       "      <td>6</td>\n",
       "      <td>G2-L18-F6-2913966</td>\n",
       "    </tr>\n",
       "    <tr>\n",
       "      <th>2913967</th>\n",
       "      <td>hemen bir kement ile onu yakalar ve aşağı çekerim</td>\n",
       "      <td>6</td>\n",
       "      <td>G9-L49-F6-2913967</td>\n",
       "    </tr>\n",
       "    <tr>\n",
       "      <th>2913968</th>\n",
       "      <td>tabii gerçek bir profesyonel o</td>\n",
       "      <td>6</td>\n",
       "      <td>G5-L30-F6-2913968</td>\n",
       "    </tr>\n",
       "    <tr>\n",
       "      <th>2913969</th>\n",
       "      <td>_ adı fikret</td>\n",
       "      <td>6</td>\n",
       "      <td>G3-L12-F6-2913969</td>\n",
       "    </tr>\n",
       "  </tbody>\n",
       "</table>\n",
       "<p>2913970 rows × 3 columns</p>\n",
       "</div>"
      ],
      "text/plain": [
       "                                                  sentence  frequency  \\\n",
       "0                                                     evet    1948596   \n",
       "1                                                   fikret    1533918   \n",
       "2                                                    hayır    1250401   \n",
       "3                                                    tamam     882921   \n",
       "4                                                       ne     753105   \n",
       "...                                                    ...        ...   \n",
       "2913965                hayır ben bir pikap kamyon alacağım          6   \n",
       "2913966                                 eminim uydurmuştur          6   \n",
       "2913967  hemen bir kement ile onu yakalar ve aşağı çekerim          6   \n",
       "2913968                     tabii gerçek bir profesyonel o          6   \n",
       "2913969                                       _ adı fikret          6   \n",
       "\n",
       "                      code  \n",
       "0         G1-L4-F1948596-0  \n",
       "1         G1-L6-F1533918-1  \n",
       "2         G1-L5-F1250401-2  \n",
       "3          G1-L5-F882921-3  \n",
       "4          G1-L2-F753105-4  \n",
       "...                    ...  \n",
       "2913965  G6-L35-F6-2913965  \n",
       "2913966  G2-L18-F6-2913966  \n",
       "2913967  G9-L49-F6-2913967  \n",
       "2913968  G5-L30-F6-2913968  \n",
       "2913969  G3-L12-F6-2913969  \n",
       "\n",
       "[2913970 rows x 3 columns]"
      ]
     },
     "execution_count": 3,
     "metadata": {},
     "output_type": "execute_result"
    }
   ],
   "source": [
    "df_sent_code = pd.read_csv(\"/media/kurubal/SSD/Data Scientist/Work/Modern Ways/Project/Turkish/Pyspark/Result/Sentence/Spark Turkish Sentence Merge/Clean_Spark_Sentence_Merge_Result2_Code.csv\")\n",
    "df_sent_code = df_sent_code.iloc[:,1:4]\n",
    "df_sent_code"
   ]
  },
  {
   "cell_type": "code",
   "execution_count": null,
   "metadata": {},
   "outputs": [],
   "source": [
    "data_kind = \"word\""
   ]
  },
  {
   "cell_type": "code",
   "execution_count": null,
   "metadata": {},
   "outputs": [],
   "source": [
    "df = pd.read_csv(f\"/media/kurubal/SSD/Data Scientist/Work/Modern Ways/Project/French/Result/Sentence/Merge/{data_kind.capitalize()}_Merge_Result2.csv\")\n",
    "df"
   ]
  },
  {
   "cell_type": "code",
   "execution_count": null,
   "metadata": {},
   "outputs": [],
   "source": [
    "word_list = df.iloc[:,0].values.tolist()\n",
    "#print(word_list)"
   ]
  },
  {
   "cell_type": "code",
   "execution_count": null,
   "metadata": {},
   "outputs": [],
   "source": [
    "sent_ngram_list  = df.iloc[:,0].values.tolist()\n",
    "#print(sentencence_list)"
   ]
  },
  {
   "cell_type": "code",
   "execution_count": null,
   "metadata": {},
   "outputs": [],
   "source": [
    "len(sent_ngram_list )"
   ]
  },
  {
   "cell_type": "code",
   "execution_count": null,
   "metadata": {},
   "outputs": [],
   "source": [
    "len (resultlist)"
   ]
  },
  {
   "cell_type": "code",
   "execution_count": null,
   "metadata": {},
   "outputs": [],
   "source": [
    "df_result = pd.DataFrame(resultlist)\n",
    "df_result.head()"
   ]
  },
  {
   "cell_type": "code",
   "execution_count": null,
   "metadata": {},
   "outputs": [],
   "source": [
    "df_result = df_result.rename(columns = {0: f\"{data_kind}\"})\n",
    "df_result"
   ]
  },
  {
   "cell_type": "code",
   "execution_count": null,
   "metadata": {},
   "outputs": [],
   "source": [
    "df_merge = pd.merge(df_result, df, how=\"left\", on=f\"{data_kind}\")\n",
    "df_merge"
   ]
  },
  {
   "cell_type": "code",
   "execution_count": null,
   "metadata": {},
   "outputs": [],
   "source": [
    "df_merge = df_merge.sort_values(by=\"frequency\", ascending=False)\n",
    "df_merge"
   ]
  },
  {
   "cell_type": "code",
   "execution_count": null,
   "metadata": {},
   "outputs": [],
   "source": [
    "df_merge.to_csv(f\"{data_kind.capitalize()}_With_{word_num}_Word.csv\", index=False)"
   ]
  },
  {
   "cell_type": "code",
   "execution_count": null,
   "metadata": {},
   "outputs": [],
   "source": [
    "df_word.to_excel(f\"Word_{word_num}.xlsx\", sheet_name='Word', index=False)"
   ]
  },
  {
   "cell_type": "code",
   "execution_count": null,
   "metadata": {},
   "outputs": [],
   "source": []
  },
  {
   "cell_type": "code",
   "execution_count": null,
   "metadata": {},
   "outputs": [],
   "source": []
  },
  {
   "cell_type": "code",
   "execution_count": null,
   "metadata": {},
   "outputs": [],
   "source": []
  },
  {
   "cell_type": "code",
   "execution_count": null,
   "metadata": {},
   "outputs": [],
   "source": []
  },
  {
   "cell_type": "code",
   "execution_count": null,
   "metadata": {},
   "outputs": [],
   "source": []
  },
  {
   "cell_type": "code",
   "execution_count": null,
   "metadata": {},
   "outputs": [],
   "source": []
  },
  {
   "cell_type": "code",
   "execution_count": null,
   "metadata": {},
   "outputs": [],
   "source": []
  },
  {
   "cell_type": "code",
   "execution_count": null,
   "metadata": {},
   "outputs": [],
   "source": []
  },
  {
   "cell_type": "code",
   "execution_count": null,
   "metadata": {},
   "outputs": [],
   "source": []
  },
  {
   "cell_type": "code",
   "execution_count": null,
   "metadata": {},
   "outputs": [],
   "source": []
  },
  {
   "cell_type": "code",
   "execution_count": null,
   "metadata": {},
   "outputs": [],
   "source": []
  },
  {
   "cell_type": "code",
   "execution_count": null,
   "metadata": {},
   "outputs": [],
   "source": []
  },
  {
   "cell_type": "code",
   "execution_count": null,
   "metadata": {},
   "outputs": [],
   "source": []
  },
  {
   "cell_type": "code",
   "execution_count": null,
   "metadata": {},
   "outputs": [],
   "source": []
  }
 ],
 "metadata": {
  "kernelspec": {
   "display_name": "Python 3",
   "language": "python",
   "name": "python3"
  },
  "language_info": {
   "codemirror_mode": {
    "name": "ipython",
    "version": 3
   },
   "file_extension": ".py",
   "mimetype": "text/x-python",
   "name": "python",
   "nbconvert_exporter": "python",
   "pygments_lexer": "ipython3",
   "version": "3.9.5"
  }
 },
 "nbformat": 4,
 "nbformat_minor": 4
}
