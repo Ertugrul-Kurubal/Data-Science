{
 "cells": [
  {
   "cell_type": "code",
   "execution_count": null,
   "id": "9c555a6d",
   "metadata": {},
   "outputs": [],
   "source": [
    "import numpy as np\n",
    "import pandas as pd\n",
    "import re\n",
    "import nltk\n",
    "from nltk import word_tokenize, sent_tokenize\n",
    "from nltk.tokenize import sent_tokenize, word_tokenize\n",
    "from cleantext import clean\n",
    "from nltk.stem import WordNetLemmatizer\n",
    "from openpyxl.workbook import Workbook\n",
    "nltk.download('tagsets')\n",
    "nltk.download('wordnet')\n",
    "nltk.download('punkt')\n",
    "nltk.help.upenn_tagset('NNP')\n",
    "nltk.help.upenn_tagset('NN')\n",
    "nltk.download('maxent_ne_chunker')\n",
    "nltk.download('words')\n",
    "nltk.download('averaged_perceptron_tagger')"
   ]
  },
  {
   "cell_type": "code",
   "execution_count": null,
   "id": "ed985279",
   "metadata": {},
   "outputs": [],
   "source": [
    "try:\n",
    "  with open(\"/home/ubuntu/Workspace/fr1.txt\", \"r\", encoding=\"utf-8\") as file:\n",
    "    text_data = file.read()\n",
    "except:\n",
    "  print(\"There is not such a file  or path is incorrect\")"
   ]
  },
  {
   "cell_type": "code",
   "execution_count": null,
   "id": "b0817dac",
   "metadata": {},
   "outputs": [],
   "source": [
    "#text_data"
   ]
  },
  {
   "cell_type": "code",
   "execution_count": null,
   "id": "36db6be3",
   "metadata": {},
   "outputs": [],
   "source": [
    "text_data_clean_brackets = re.sub('[\\(\\[\\{].*?[\\)\\]\\}]', '', text_data)"
   ]
  },
  {
   "cell_type": "code",
   "execution_count": null,
   "id": "f9042057",
   "metadata": {},
   "outputs": [],
   "source": [
    "custom_char = [\"-\",\"#\",\":\",\"+\",\"~\",\"*\",\"/\",\"&quot;\",\"&\",\"'\"] # ???\n",
    "for i in custom_char:\n",
    "    text_data_clean_brackets = text_data_clean_brackets.replace(i, '')  # must be equal each other\n",
    "#text_data_clean_brackets"
   ]
  },
  {
   "cell_type": "code",
   "execution_count": null,
   "id": "80444a5a",
   "metadata": {},
   "outputs": [],
   "source": [
    "#var1 = re.findall(r'\\w+', text_data_clean_brackets)\n",
    "#var2 = \" \".join(var1)\n",
    "#text_data_clean_punc_alone = var2"
   ]
  },
  {
   "cell_type": "code",
   "execution_count": null,
   "id": "c57e4cce",
   "metadata": {},
   "outputs": [],
   "source": [
    "text_data_clean = clean(text_data_clean_brackets,\n",
    "                        fix_unicode=True,\n",
    "                        to_ascii=False,\n",
    "                        lower=False,\n",
    "                        normalize_whitespace=True,\n",
    "                        no_line_breaks=True,\n",
    "                        strip_lines=False,\n",
    "                        keep_two_line_breaks=False,\n",
    "                        no_urls=True,\n",
    "                        no_emails=True,\n",
    "                        no_phone_numbers=True,\n",
    "                        no_numbers=True,\n",
    "                        no_digits=True,\n",
    "                        no_currency_symbols=True,\n",
    "                        no_punct=True,\n",
    "                        no_emoji=True,\n",
    "                        replace_with_url='',\n",
    "                        replace_with_email='',\n",
    "                        replace_with_phone_number='',\n",
    "                        replace_with_number='',\n",
    "                        replace_with_digit='',\n",
    "                        replace_with_currency_symbol='',\n",
    "                        replace_with_punct=''\n",
    "                        )"
   ]
  },
  {
   "cell_type": "code",
   "execution_count": null,
   "id": "4c7c3c37",
   "metadata": {},
   "outputs": [],
   "source": [
    "word_tokens = nltk.word_tokenize(text_data_clean)"
   ]
  },
  {
   "cell_type": "code",
   "execution_count": null,
   "id": "d80ef83a",
   "metadata": {},
   "outputs": [],
   "source": [
    "capital_word = pd.Series(word_tokens)"
   ]
  },
  {
   "cell_type": "code",
   "execution_count": null,
   "id": "227e26a1",
   "metadata": {},
   "outputs": [],
   "source": [
    "capital_word = capital_word.value_counts().sort_values(ascending=False)"
   ]
  },
  {
   "cell_type": "code",
   "execution_count": null,
   "id": "e2794015",
   "metadata": {},
   "outputs": [],
   "source": [
    "df_capital = pd.DataFrame(capital_word)"
   ]
  },
  {
   "cell_type": "code",
   "execution_count": null,
   "id": "873dd0ae",
   "metadata": {},
   "outputs": [],
   "source": [
    "df_capital = df_capital.reset_index()"
   ]
  },
  {
   "cell_type": "code",
   "execution_count": null,
   "id": "850adeb3",
   "metadata": {},
   "outputs": [],
   "source": [
    "df_capital = df_capital.rename(columns={\"index\": \"word\", 0 : \"frequency\"})"
   ]
  },
  {
   "cell_type": "code",
   "execution_count": null,
   "id": "674ebd3a",
   "metadata": {},
   "outputs": [],
   "source": [
    "df_capital.to_csv(\"Not_Apply_Lower_Word1.csv\", index=False)"
   ]
  },
  {
   "cell_type": "code",
   "execution_count": null,
   "id": "bdee4b6f",
   "metadata": {},
   "outputs": [],
   "source": [
    "lower_list = []\n",
    "for i in word_tokens:\n",
    "    lower_list.append(i.lower())"
   ]
  },
  {
   "cell_type": "code",
   "execution_count": null,
   "id": "24c17fa0",
   "metadata": {},
   "outputs": [],
   "source": [
    "tokens_without_punc = pd.Series(lower_list)\n",
    "#tokens_without_punc"
   ]
  },
  {
   "cell_type": "code",
   "execution_count": null,
   "id": "d3eb8e92",
   "metadata": {},
   "outputs": [],
   "source": [
    "tokens_without_punc = tokens_without_punc.value_counts().sort_values(ascending=False)"
   ]
  },
  {
   "cell_type": "code",
   "execution_count": null,
   "id": "0782e349",
   "metadata": {},
   "outputs": [],
   "source": [
    "freq_word_df = pd.DataFrame(tokens_without_punc)"
   ]
  },
  {
   "cell_type": "code",
   "execution_count": null,
   "id": "6e6acd46",
   "metadata": {},
   "outputs": [],
   "source": [
    "freq_word_df = freq_word_df.reset_index()"
   ]
  },
  {
   "cell_type": "code",
   "execution_count": null,
   "id": "d9c25ad6",
   "metadata": {},
   "outputs": [],
   "source": [
    "freq_word_df = freq_word_df.rename(columns={\"index\": \"word\", 0 : \"frequency\"})"
   ]
  },
  {
   "cell_type": "code",
   "execution_count": null,
   "id": "aeba2f6c",
   "metadata": {},
   "outputs": [],
   "source": [
    "freq_word_df[\"ratio\"] = round((freq_word_df.frequency/(sum(freq_word_df.frequency))*100),7)"
   ]
  },
  {
   "cell_type": "code",
   "execution_count": null,
   "id": "4b82ca73",
   "metadata": {},
   "outputs": [],
   "source": [
    "freq_word_df[\"cumul_ratio\"] = np.cumsum(freq_word_df[\"ratio\"])"
   ]
  },
  {
   "cell_type": "code",
   "execution_count": null,
   "id": "56c387af",
   "metadata": {},
   "outputs": [],
   "source": [
    "#freq_word_df"
   ]
  },
  {
   "cell_type": "code",
   "execution_count": null,
   "id": "77f63285",
   "metadata": {},
   "outputs": [],
   "source": [
    "#freq_word_df_1b = freq_word_df.head(1000000)"
   ]
  },
  {
   "cell_type": "code",
   "execution_count": null,
   "id": "894d3247",
   "metadata": {},
   "outputs": [],
   "source": [
    "freq_word_df_5 = freq_word_df[freq_word_df.frequency>=5]"
   ]
  },
  {
   "cell_type": "code",
   "execution_count": null,
   "id": "09810ca7",
   "metadata": {},
   "outputs": [],
   "source": [
    "#freq_word_df_5"
   ]
  },
  {
   "cell_type": "code",
   "execution_count": null,
   "id": "2a33a8f2",
   "metadata": {},
   "outputs": [],
   "source": [
    "freq_word_df_5.to_csv(\"Word_Tokenize_FR1.csv\", index=False)"
   ]
  },
  {
   "cell_type": "code",
   "execution_count": null,
   "id": "bb7eb0b9",
   "metadata": {},
   "outputs": [],
   "source": [
    "freq_word_df.to_csv(\"Word_Tokenize_Full_FR1.csv\", index=False)"
   ]
  },
  {
   "cell_type": "code",
   "execution_count": null,
   "id": "59a8c2d6",
   "metadata": {},
   "outputs": [],
   "source": []
  }
 ],
 "metadata": {
  "kernelspec": {
   "display_name": "Python 3 (ipykernel)",
   "language": "python",
   "name": "python3"
  },
  "language_info": {
   "codemirror_mode": {
    "name": "ipython",
    "version": 3
   },
   "file_extension": ".py",
   "mimetype": "text/x-python",
   "name": "python",
   "nbconvert_exporter": "python",
   "pygments_lexer": "ipython3",
   "version": "3.8.10"
  }
 },
 "nbformat": 4,
 "nbformat_minor": 5
}
