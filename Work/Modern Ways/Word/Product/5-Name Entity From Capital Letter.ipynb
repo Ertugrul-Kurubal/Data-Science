{
 "cells": [
  {
   "cell_type": "markdown",
   "metadata": {},
   "source": [
    "### Name Entity From Capital Letter Words"
   ]
  },
  {
   "cell_type": "code",
   "execution_count": null,
   "metadata": {},
   "outputs": [],
   "source": [
    "#!pip install kneed"
   ]
  },
  {
   "cell_type": "code",
   "execution_count": 1,
   "metadata": {},
   "outputs": [],
   "source": [
    "import pandas as pd\n",
    "import numpy as np\n",
    "import re\n",
    "from kneed import KneeLocator"
   ]
  },
  {
   "cell_type": "markdown",
   "metadata": {},
   "source": [
    "#### Capital Letter Word And Lower Letter Word"
   ]
  },
  {
   "cell_type": "code",
   "execution_count": 2,
   "metadata": {},
   "outputs": [
    {
     "data": {
      "text/html": [
       "<div>\n",
       "<style scoped>\n",
       "    .dataframe tbody tr th:only-of-type {\n",
       "        vertical-align: middle;\n",
       "    }\n",
       "\n",
       "    .dataframe tbody tr th {\n",
       "        vertical-align: top;\n",
       "    }\n",
       "\n",
       "    .dataframe thead th {\n",
       "        text-align: right;\n",
       "    }\n",
       "</style>\n",
       "<table border=\"1\" class=\"dataframe\">\n",
       "  <thead>\n",
       "    <tr style=\"text-align: right;\">\n",
       "      <th></th>\n",
       "      <th>word</th>\n",
       "      <th>frequency</th>\n",
       "      <th>ratio</th>\n",
       "      <th>cumul_ratio</th>\n",
       "    </tr>\n",
       "  </thead>\n",
       "  <tbody>\n",
       "    <tr>\n",
       "      <th>0</th>\n",
       "      <td>I</td>\n",
       "      <td>93652765</td>\n",
       "      <td>3.692194e+00</td>\n",
       "      <td>3.692194</td>\n",
       "    </tr>\n",
       "    <tr>\n",
       "      <th>1</th>\n",
       "      <td>you</td>\n",
       "      <td>75979154</td>\n",
       "      <td>2.995424e+00</td>\n",
       "      <td>6.687618</td>\n",
       "    </tr>\n",
       "    <tr>\n",
       "      <th>2</th>\n",
       "      <td>the</td>\n",
       "      <td>67943057</td>\n",
       "      <td>2.678607e+00</td>\n",
       "      <td>9.366225</td>\n",
       "    </tr>\n",
       "    <tr>\n",
       "      <th>3</th>\n",
       "      <td>to</td>\n",
       "      <td>56467428</td>\n",
       "      <td>2.226188e+00</td>\n",
       "      <td>11.592414</td>\n",
       "    </tr>\n",
       "    <tr>\n",
       "      <th>4</th>\n",
       "      <td>s</td>\n",
       "      <td>50166433</td>\n",
       "      <td>1.977776e+00</td>\n",
       "      <td>13.570190</td>\n",
       "    </tr>\n",
       "    <tr>\n",
       "      <th>...</th>\n",
       "      <td>...</td>\n",
       "      <td>...</td>\n",
       "      <td>...</td>\n",
       "      <td>...</td>\n",
       "    </tr>\n",
       "    <tr>\n",
       "      <th>3157922</th>\n",
       "      <td>includingnataliamallory</td>\n",
       "      <td>1</td>\n",
       "      <td>3.942429e-08</td>\n",
       "      <td>100.000000</td>\n",
       "    </tr>\n",
       "    <tr>\n",
       "      <th>3157923</th>\n",
       "      <td>Plaiedes</td>\n",
       "      <td>1</td>\n",
       "      <td>3.942429e-08</td>\n",
       "      <td>100.000000</td>\n",
       "    </tr>\n",
       "    <tr>\n",
       "      <th>3157924</th>\n",
       "      <td>includingmyfriendBrida</td>\n",
       "      <td>1</td>\n",
       "      <td>3.942429e-08</td>\n",
       "      <td>100.000000</td>\n",
       "    </tr>\n",
       "    <tr>\n",
       "      <th>3157925</th>\n",
       "      <td>includingmyfavorite</td>\n",
       "      <td>1</td>\n",
       "      <td>3.942429e-08</td>\n",
       "      <td>100.000000</td>\n",
       "    </tr>\n",
       "    <tr>\n",
       "      <th>3157926</th>\n",
       "      <td>aeroelastico</td>\n",
       "      <td>1</td>\n",
       "      <td>3.942429e-08</td>\n",
       "      <td>100.000000</td>\n",
       "    </tr>\n",
       "  </tbody>\n",
       "</table>\n",
       "<p>3157927 rows × 4 columns</p>\n",
       "</div>"
      ],
      "text/plain": [
       "                            word  frequency         ratio  cumul_ratio\n",
       "0                              I   93652765  3.692194e+00     3.692194\n",
       "1                            you   75979154  2.995424e+00     6.687618\n",
       "2                            the   67943057  2.678607e+00     9.366225\n",
       "3                             to   56467428  2.226188e+00    11.592414\n",
       "4                              s   50166433  1.977776e+00    13.570190\n",
       "...                          ...        ...           ...          ...\n",
       "3157922  includingnataliamallory          1  3.942429e-08   100.000000\n",
       "3157923                 Plaiedes          1  3.942429e-08   100.000000\n",
       "3157924   includingmyfriendBrida          1  3.942429e-08   100.000000\n",
       "3157925      includingmyfavorite          1  3.942429e-08   100.000000\n",
       "3157926             aeroelastico          1  3.942429e-08   100.000000\n",
       "\n",
       "[3157927 rows x 4 columns]"
      ]
     },
     "execution_count": 2,
     "metadata": {},
     "output_type": "execute_result"
    }
   ],
   "source": [
    "df = pd.read_csv(\"/media/kurubal/SSD/Data Scientist/Work/Modern Ways/Project/English/Result/Word/Capital/Not_Apply_Lower_Word_Merge_Result.csv\") # Not apply lower technique\n",
    "df"
   ]
  },
  {
   "cell_type": "code",
   "execution_count": 3,
   "metadata": {},
   "outputs": [],
   "source": [
    "df = df[df.iloc[:,1]>=5]"
   ]
  },
  {
   "cell_type": "code",
   "execution_count": 4,
   "metadata": {},
   "outputs": [],
   "source": [
    "def word_length(var):\n",
    "    var = str(var)\n",
    "    if len(var) <= 12:\n",
    "        return var\n",
    "    else:\n",
    "        return \"word is bigger than adjust value\""
   ]
  },
  {
   "cell_type": "code",
   "execution_count": 5,
   "metadata": {},
   "outputs": [],
   "source": [
    "df = pd.DataFrame(df.iloc[:,0].apply(lambda x: word_length(x)))"
   ]
  },
  {
   "cell_type": "code",
   "execution_count": 6,
   "metadata": {},
   "outputs": [
    {
     "data": {
      "text/html": [
       "<div>\n",
       "<style scoped>\n",
       "    .dataframe tbody tr th:only-of-type {\n",
       "        vertical-align: middle;\n",
       "    }\n",
       "\n",
       "    .dataframe tbody tr th {\n",
       "        vertical-align: top;\n",
       "    }\n",
       "\n",
       "    .dataframe thead th {\n",
       "        text-align: right;\n",
       "    }\n",
       "</style>\n",
       "<table border=\"1\" class=\"dataframe\">\n",
       "  <thead>\n",
       "    <tr style=\"text-align: right;\">\n",
       "      <th></th>\n",
       "      <th>word</th>\n",
       "    </tr>\n",
       "  </thead>\n",
       "  <tbody>\n",
       "    <tr>\n",
       "      <th>0</th>\n",
       "      <td>I</td>\n",
       "    </tr>\n",
       "    <tr>\n",
       "      <th>1</th>\n",
       "      <td>you</td>\n",
       "    </tr>\n",
       "    <tr>\n",
       "      <th>2</th>\n",
       "      <td>the</td>\n",
       "    </tr>\n",
       "    <tr>\n",
       "      <th>3</th>\n",
       "      <td>to</td>\n",
       "    </tr>\n",
       "    <tr>\n",
       "      <th>4</th>\n",
       "      <td>s</td>\n",
       "    </tr>\n",
       "    <tr>\n",
       "      <th>...</th>\n",
       "      <td>...</td>\n",
       "    </tr>\n",
       "    <tr>\n",
       "      <th>870708</th>\n",
       "      <td>ddoit</td>\n",
       "    </tr>\n",
       "    <tr>\n",
       "      <th>870709</th>\n",
       "      <td>innere</td>\n",
       "    </tr>\n",
       "    <tr>\n",
       "      <th>870710</th>\n",
       "      <td>fminus</td>\n",
       "    </tr>\n",
       "    <tr>\n",
       "      <th>870711</th>\n",
       "      <td>Conquestus</td>\n",
       "    </tr>\n",
       "    <tr>\n",
       "      <th>870712</th>\n",
       "      <td>unorg</td>\n",
       "    </tr>\n",
       "  </tbody>\n",
       "</table>\n",
       "<p>870713 rows × 1 columns</p>\n",
       "</div>"
      ],
      "text/plain": [
       "              word\n",
       "0                I\n",
       "1              you\n",
       "2              the\n",
       "3               to\n",
       "4                s\n",
       "...            ...\n",
       "870708       ddoit\n",
       "870709      innere\n",
       "870710      fminus\n",
       "870711  Conquestus\n",
       "870712       unorg\n",
       "\n",
       "[870713 rows x 1 columns]"
      ]
     },
     "execution_count": 6,
     "metadata": {},
     "output_type": "execute_result"
    }
   ],
   "source": [
    "df.drop(df[df.iloc[:,0] == \"word is bigger than adjust value\"].index, axis=0, inplace=True)\n",
    "df.reset_index(drop=True, inplace=True)\n",
    "df"
   ]
  },
  {
   "cell_type": "code",
   "execution_count": 7,
   "metadata": {},
   "outputs": [],
   "source": [
    "capital_word_list = []\n",
    "lower_word_list = []\n",
    "for i in df.iloc[:,0]:\n",
    "    i = str(i)\n",
    "    if i[0].isupper():\n",
    "        capital_word_list.append(i)\n",
    "    else:\n",
    "        lower_word_list.append(i)"
   ]
  },
  {
   "cell_type": "code",
   "execution_count": 8,
   "metadata": {},
   "outputs": [
    {
     "data": {
      "text/html": [
       "<div>\n",
       "<style scoped>\n",
       "    .dataframe tbody tr th:only-of-type {\n",
       "        vertical-align: middle;\n",
       "    }\n",
       "\n",
       "    .dataframe tbody tr th {\n",
       "        vertical-align: top;\n",
       "    }\n",
       "\n",
       "    .dataframe thead th {\n",
       "        text-align: right;\n",
       "    }\n",
       "</style>\n",
       "<table border=\"1\" class=\"dataframe\">\n",
       "  <thead>\n",
       "    <tr style=\"text-align: right;\">\n",
       "      <th></th>\n",
       "      <th>word</th>\n",
       "    </tr>\n",
       "  </thead>\n",
       "  <tbody>\n",
       "    <tr>\n",
       "      <th>0</th>\n",
       "      <td>I</td>\n",
       "    </tr>\n",
       "    <tr>\n",
       "      <th>1</th>\n",
       "      <td>You</td>\n",
       "    </tr>\n",
       "    <tr>\n",
       "      <th>2</th>\n",
       "      <td>It</td>\n",
       "    </tr>\n",
       "    <tr>\n",
       "      <th>3</th>\n",
       "      <td>What</td>\n",
       "    </tr>\n",
       "    <tr>\n",
       "      <th>4</th>\n",
       "      <td>We</td>\n",
       "    </tr>\n",
       "    <tr>\n",
       "      <th>...</th>\n",
       "      <td>...</td>\n",
       "    </tr>\n",
       "    <tr>\n",
       "      <th>518943</th>\n",
       "      <td>Treportoni</td>\n",
       "    </tr>\n",
       "    <tr>\n",
       "      <th>518944</th>\n",
       "      <td>Ikemizu</td>\n",
       "    </tr>\n",
       "    <tr>\n",
       "      <th>518945</th>\n",
       "      <td>Morningma</td>\n",
       "    </tr>\n",
       "    <tr>\n",
       "      <th>518946</th>\n",
       "      <td>Yourone</td>\n",
       "    </tr>\n",
       "    <tr>\n",
       "      <th>518947</th>\n",
       "      <td>Conquestus</td>\n",
       "    </tr>\n",
       "  </tbody>\n",
       "</table>\n",
       "<p>518948 rows × 1 columns</p>\n",
       "</div>"
      ],
      "text/plain": [
       "              word\n",
       "0                I\n",
       "1              You\n",
       "2               It\n",
       "3             What\n",
       "4               We\n",
       "...            ...\n",
       "518943  Treportoni\n",
       "518944     Ikemizu\n",
       "518945   Morningma\n",
       "518946     Yourone\n",
       "518947  Conquestus\n",
       "\n",
       "[518948 rows x 1 columns]"
      ]
     },
     "execution_count": 8,
     "metadata": {},
     "output_type": "execute_result"
    }
   ],
   "source": [
    "df_capital = pd.DataFrame(capital_word_list)\n",
    "df_capital.rename(columns={0:\"word\"}, inplace=True)\n",
    "df_capital = pd.DataFrame(df_capital.iloc[:,0].apply(lambda x: x.capitalize()))\n",
    "df_capital"
   ]
  },
  {
   "cell_type": "code",
   "execution_count": 9,
   "metadata": {},
   "outputs": [
    {
     "data": {
      "text/html": [
       "<div>\n",
       "<style scoped>\n",
       "    .dataframe tbody tr th:only-of-type {\n",
       "        vertical-align: middle;\n",
       "    }\n",
       "\n",
       "    .dataframe tbody tr th {\n",
       "        vertical-align: top;\n",
       "    }\n",
       "\n",
       "    .dataframe thead th {\n",
       "        text-align: right;\n",
       "    }\n",
       "</style>\n",
       "<table border=\"1\" class=\"dataframe\">\n",
       "  <thead>\n",
       "    <tr style=\"text-align: right;\">\n",
       "      <th></th>\n",
       "      <th>word</th>\n",
       "    </tr>\n",
       "  </thead>\n",
       "  <tbody>\n",
       "    <tr>\n",
       "      <th>0</th>\n",
       "      <td>i</td>\n",
       "    </tr>\n",
       "    <tr>\n",
       "      <th>1</th>\n",
       "      <td>you</td>\n",
       "    </tr>\n",
       "    <tr>\n",
       "      <th>2</th>\n",
       "      <td>it</td>\n",
       "    </tr>\n",
       "    <tr>\n",
       "      <th>3</th>\n",
       "      <td>what</td>\n",
       "    </tr>\n",
       "    <tr>\n",
       "      <th>4</th>\n",
       "      <td>we</td>\n",
       "    </tr>\n",
       "    <tr>\n",
       "      <th>...</th>\n",
       "      <td>...</td>\n",
       "    </tr>\n",
       "    <tr>\n",
       "      <th>518943</th>\n",
       "      <td>treportoni</td>\n",
       "    </tr>\n",
       "    <tr>\n",
       "      <th>518944</th>\n",
       "      <td>ikemizu</td>\n",
       "    </tr>\n",
       "    <tr>\n",
       "      <th>518945</th>\n",
       "      <td>morningma</td>\n",
       "    </tr>\n",
       "    <tr>\n",
       "      <th>518946</th>\n",
       "      <td>yourone</td>\n",
       "    </tr>\n",
       "    <tr>\n",
       "      <th>518947</th>\n",
       "      <td>conquestus</td>\n",
       "    </tr>\n",
       "  </tbody>\n",
       "</table>\n",
       "<p>518948 rows × 1 columns</p>\n",
       "</div>"
      ],
      "text/plain": [
       "              word\n",
       "0                i\n",
       "1              you\n",
       "2               it\n",
       "3             what\n",
       "4               we\n",
       "...            ...\n",
       "518943  treportoni\n",
       "518944     ikemizu\n",
       "518945   morningma\n",
       "518946     yourone\n",
       "518947  conquestus\n",
       "\n",
       "[518948 rows x 1 columns]"
      ]
     },
     "execution_count": 9,
     "metadata": {},
     "output_type": "execute_result"
    }
   ],
   "source": [
    "df_capital_to_lower = pd.DataFrame(df_capital.iloc[:,0].apply(lambda x : x.lower()))\n",
    "df_capital_to_lower"
   ]
  },
  {
   "cell_type": "code",
   "execution_count": 10,
   "metadata": {},
   "outputs": [
    {
     "data": {
      "text/html": [
       "<div>\n",
       "<style scoped>\n",
       "    .dataframe tbody tr th:only-of-type {\n",
       "        vertical-align: middle;\n",
       "    }\n",
       "\n",
       "    .dataframe tbody tr th {\n",
       "        vertical-align: top;\n",
       "    }\n",
       "\n",
       "    .dataframe thead th {\n",
       "        text-align: right;\n",
       "    }\n",
       "</style>\n",
       "<table border=\"1\" class=\"dataframe\">\n",
       "  <thead>\n",
       "    <tr style=\"text-align: right;\">\n",
       "      <th></th>\n",
       "      <th>word</th>\n",
       "    </tr>\n",
       "  </thead>\n",
       "  <tbody>\n",
       "    <tr>\n",
       "      <th>0</th>\n",
       "      <td>you</td>\n",
       "    </tr>\n",
       "    <tr>\n",
       "      <th>1</th>\n",
       "      <td>the</td>\n",
       "    </tr>\n",
       "    <tr>\n",
       "      <th>2</th>\n",
       "      <td>to</td>\n",
       "    </tr>\n",
       "    <tr>\n",
       "      <th>3</th>\n",
       "      <td>s</td>\n",
       "    </tr>\n",
       "    <tr>\n",
       "      <th>4</th>\n",
       "      <td>not</td>\n",
       "    </tr>\n",
       "    <tr>\n",
       "      <th>...</th>\n",
       "      <td>...</td>\n",
       "    </tr>\n",
       "    <tr>\n",
       "      <th>351760</th>\n",
       "      <td>heavybrowed</td>\n",
       "    </tr>\n",
       "    <tr>\n",
       "      <th>351761</th>\n",
       "      <td>ddoit</td>\n",
       "    </tr>\n",
       "    <tr>\n",
       "      <th>351762</th>\n",
       "      <td>innere</td>\n",
       "    </tr>\n",
       "    <tr>\n",
       "      <th>351763</th>\n",
       "      <td>fminus</td>\n",
       "    </tr>\n",
       "    <tr>\n",
       "      <th>351764</th>\n",
       "      <td>unorg</td>\n",
       "    </tr>\n",
       "  </tbody>\n",
       "</table>\n",
       "<p>351765 rows × 1 columns</p>\n",
       "</div>"
      ],
      "text/plain": [
       "               word\n",
       "0               you\n",
       "1               the\n",
       "2                to\n",
       "3                 s\n",
       "4               not\n",
       "...             ...\n",
       "351760  heavybrowed\n",
       "351761        ddoit\n",
       "351762       innere\n",
       "351763       fminus\n",
       "351764        unorg\n",
       "\n",
       "[351765 rows x 1 columns]"
      ]
     },
     "execution_count": 10,
     "metadata": {},
     "output_type": "execute_result"
    }
   ],
   "source": [
    "df_lower = pd.DataFrame(lower_word_list)\n",
    "df_lower.rename(columns={0:\"word\"}, inplace=True)\n",
    "df_lower"
   ]
  },
  {
   "cell_type": "code",
   "execution_count": 11,
   "metadata": {},
   "outputs": [
    {
     "data": {
      "text/html": [
       "<div>\n",
       "<style scoped>\n",
       "    .dataframe tbody tr th:only-of-type {\n",
       "        vertical-align: middle;\n",
       "    }\n",
       "\n",
       "    .dataframe tbody tr th {\n",
       "        vertical-align: top;\n",
       "    }\n",
       "\n",
       "    .dataframe thead th {\n",
       "        text-align: right;\n",
       "    }\n",
       "</style>\n",
       "<table border=\"1\" class=\"dataframe\">\n",
       "  <thead>\n",
       "    <tr style=\"text-align: right;\">\n",
       "      <th></th>\n",
       "      <th>word</th>\n",
       "    </tr>\n",
       "  </thead>\n",
       "  <tbody>\n",
       "    <tr>\n",
       "      <th>0</th>\n",
       "      <td>you</td>\n",
       "    </tr>\n",
       "    <tr>\n",
       "      <th>1</th>\n",
       "      <td>the</td>\n",
       "    </tr>\n",
       "    <tr>\n",
       "      <th>2</th>\n",
       "      <td>to</td>\n",
       "    </tr>\n",
       "    <tr>\n",
       "      <th>3</th>\n",
       "      <td>s</td>\n",
       "    </tr>\n",
       "    <tr>\n",
       "      <th>4</th>\n",
       "      <td>not</td>\n",
       "    </tr>\n",
       "    <tr>\n",
       "      <th>...</th>\n",
       "      <td>...</td>\n",
       "    </tr>\n",
       "    <tr>\n",
       "      <th>351760</th>\n",
       "      <td>heavybrowed</td>\n",
       "    </tr>\n",
       "    <tr>\n",
       "      <th>351761</th>\n",
       "      <td>ddoit</td>\n",
       "    </tr>\n",
       "    <tr>\n",
       "      <th>351762</th>\n",
       "      <td>innere</td>\n",
       "    </tr>\n",
       "    <tr>\n",
       "      <th>351763</th>\n",
       "      <td>fminus</td>\n",
       "    </tr>\n",
       "    <tr>\n",
       "      <th>351764</th>\n",
       "      <td>unorg</td>\n",
       "    </tr>\n",
       "  </tbody>\n",
       "</table>\n",
       "<p>351765 rows × 1 columns</p>\n",
       "</div>"
      ],
      "text/plain": [
       "               word\n",
       "0               you\n",
       "1               the\n",
       "2                to\n",
       "3                 s\n",
       "4               not\n",
       "...             ...\n",
       "351760  heavybrowed\n",
       "351761        ddoit\n",
       "351762       innere\n",
       "351763       fminus\n",
       "351764        unorg\n",
       "\n",
       "[351765 rows x 1 columns]"
      ]
     },
     "execution_count": 11,
     "metadata": {},
     "output_type": "execute_result"
    }
   ],
   "source": [
    "df_lower_to_lower = pd.DataFrame(df_lower.iloc[:,0].apply(lambda x : x.lower()))\n",
    "df_lower_to_lower"
   ]
  },
  {
   "cell_type": "code",
   "execution_count": 12,
   "metadata": {},
   "outputs": [],
   "source": [
    "capital_set = set(df_capital_to_lower.iloc[:,0])"
   ]
  },
  {
   "cell_type": "code",
   "execution_count": 13,
   "metadata": {},
   "outputs": [],
   "source": [
    "lower_set = set(df_lower_to_lower.iloc[:,0])"
   ]
  },
  {
   "cell_type": "code",
   "execution_count": 14,
   "metadata": {},
   "outputs": [
    {
     "data": {
      "text/html": [
       "<div>\n",
       "<style scoped>\n",
       "    .dataframe tbody tr th:only-of-type {\n",
       "        vertical-align: middle;\n",
       "    }\n",
       "\n",
       "    .dataframe tbody tr th {\n",
       "        vertical-align: top;\n",
       "    }\n",
       "\n",
       "    .dataframe thead th {\n",
       "        text-align: right;\n",
       "    }\n",
       "</style>\n",
       "<table border=\"1\" class=\"dataframe\">\n",
       "  <thead>\n",
       "    <tr style=\"text-align: right;\">\n",
       "      <th></th>\n",
       "      <th>word</th>\n",
       "    </tr>\n",
       "  </thead>\n",
       "  <tbody>\n",
       "    <tr>\n",
       "      <th>0</th>\n",
       "      <td>okishima</td>\n",
       "    </tr>\n",
       "    <tr>\n",
       "      <th>1</th>\n",
       "      <td>keerikadan</td>\n",
       "    </tr>\n",
       "    <tr>\n",
       "      <th>2</th>\n",
       "      <td>goniec</td>\n",
       "    </tr>\n",
       "    <tr>\n",
       "      <th>3</th>\n",
       "      <td>elona</td>\n",
       "    </tr>\n",
       "    <tr>\n",
       "      <th>4</th>\n",
       "      <td>hephep</td>\n",
       "    </tr>\n",
       "    <tr>\n",
       "      <th>...</th>\n",
       "      <td>...</td>\n",
       "    </tr>\n",
       "    <tr>\n",
       "      <th>296487</th>\n",
       "      <td>nagast</td>\n",
       "    </tr>\n",
       "    <tr>\n",
       "      <th>296488</th>\n",
       "      <td>tronçais</td>\n",
       "    </tr>\n",
       "    <tr>\n",
       "      <th>296489</th>\n",
       "      <td>kwitnys</td>\n",
       "    </tr>\n",
       "    <tr>\n",
       "      <th>296490</th>\n",
       "      <td>debenhams</td>\n",
       "    </tr>\n",
       "    <tr>\n",
       "      <th>296491</th>\n",
       "      <td>parizot</td>\n",
       "    </tr>\n",
       "  </tbody>\n",
       "</table>\n",
       "<p>296492 rows × 1 columns</p>\n",
       "</div>"
      ],
      "text/plain": [
       "              word\n",
       "0         okishima\n",
       "1       keerikadan\n",
       "2           goniec\n",
       "3            elona\n",
       "4           hephep\n",
       "...            ...\n",
       "296487      nagast\n",
       "296488    tronçais\n",
       "296489     kwitnys\n",
       "296490   debenhams\n",
       "296491     parizot\n",
       "\n",
       "[296492 rows x 1 columns]"
      ]
     },
     "execution_count": 14,
     "metadata": {},
     "output_type": "execute_result"
    }
   ],
   "source": [
    "df_all_capital = pd.DataFrame(capital_set.difference(lower_set)) # compare capital letter word and lower letter word\n",
    "df_all_capital.rename(columns={0:\"word\"}, inplace=True)\n",
    "#df_all_capital = pd.DataFrame(df_all_capital.iloc[:,0].apply(lambda x: x.capitalize()))\n",
    "df_all_capital"
   ]
  },
  {
   "cell_type": "code",
   "execution_count": 15,
   "metadata": {},
   "outputs": [],
   "source": [
    "# Check result with all capital word\n",
    "# df_merge = pd.merge(df_capital, df_all_capital, how=\"inner\", on=\"word\")\n",
    "# df_merge.drop_duplicates(inplace=True)\n",
    "# df_merge.reset_index(drop=True, inplace=True)\n",
    "# df_merge"
   ]
  },
  {
   "cell_type": "code",
   "execution_count": 16,
   "metadata": {},
   "outputs": [],
   "source": [
    "df_all_capital.to_excel(\"All_Capital_Letter_Word.xlsx\", sheet_name=\"Word\", index=False)"
   ]
  },
  {
   "cell_type": "code",
   "execution_count": null,
   "metadata": {},
   "outputs": [],
   "source": []
  },
  {
   "cell_type": "markdown",
   "metadata": {},
   "source": [
    "#### Sentence First Word Analysis"
   ]
  },
  {
   "cell_type": "code",
   "execution_count": 17,
   "metadata": {},
   "outputs": [
    {
     "data": {
      "text/html": [
       "<div>\n",
       "<style scoped>\n",
       "    .dataframe tbody tr th:only-of-type {\n",
       "        vertical-align: middle;\n",
       "    }\n",
       "\n",
       "    .dataframe tbody tr th {\n",
       "        vertical-align: top;\n",
       "    }\n",
       "\n",
       "    .dataframe thead th {\n",
       "        text-align: right;\n",
       "    }\n",
       "</style>\n",
       "<table border=\"1\" class=\"dataframe\">\n",
       "  <thead>\n",
       "    <tr style=\"text-align: right;\">\n",
       "      <th></th>\n",
       "      <th>sentence</th>\n",
       "      <th>frequency</th>\n",
       "    </tr>\n",
       "  </thead>\n",
       "  <tbody>\n",
       "    <tr>\n",
       "      <th>0</th>\n",
       "      <td>no</td>\n",
       "      <td>3360789</td>\n",
       "    </tr>\n",
       "    <tr>\n",
       "      <th>1</th>\n",
       "      <td>yeah</td>\n",
       "      <td>3200757</td>\n",
       "    </tr>\n",
       "    <tr>\n",
       "      <th>2</th>\n",
       "      <td>yes</td>\n",
       "      <td>2042693</td>\n",
       "    </tr>\n",
       "    <tr>\n",
       "      <th>3</th>\n",
       "      <td>what</td>\n",
       "      <td>2013276</td>\n",
       "    </tr>\n",
       "    <tr>\n",
       "      <th>4</th>\n",
       "      <td>okay</td>\n",
       "      <td>1800201</td>\n",
       "    </tr>\n",
       "    <tr>\n",
       "      <th>...</th>\n",
       "      <td>...</td>\n",
       "      <td>...</td>\n",
       "    </tr>\n",
       "    <tr>\n",
       "      <th>16268905</th>\n",
       "      <td>tonight s party that s included</td>\n",
       "      <td>4</td>\n",
       "    </tr>\n",
       "    <tr>\n",
       "      <th>16268906</th>\n",
       "      <td>if the class signs on</td>\n",
       "      <td>4</td>\n",
       "    </tr>\n",
       "    <tr>\n",
       "      <th>16268907</th>\n",
       "      <td>her presence gives us an advantage to continue...</td>\n",
       "      <td>4</td>\n",
       "    </tr>\n",
       "    <tr>\n",
       "      <th>16268908</th>\n",
       "      <td>that s exactly what you can use</td>\n",
       "      <td>4</td>\n",
       "    </tr>\n",
       "    <tr>\n",
       "      <th>16268909</th>\n",
       "      <td>that s for harry</td>\n",
       "      <td>4</td>\n",
       "    </tr>\n",
       "  </tbody>\n",
       "</table>\n",
       "<p>16268910 rows × 2 columns</p>\n",
       "</div>"
      ],
      "text/plain": [
       "                                                   sentence  frequency\n",
       "0                                                        no    3360789\n",
       "1                                                      yeah    3200757\n",
       "2                                                       yes    2042693\n",
       "3                                                      what    2013276\n",
       "4                                                      okay    1800201\n",
       "...                                                     ...        ...\n",
       "16268905                    tonight s party that s included          4\n",
       "16268906                              if the class signs on          4\n",
       "16268907  her presence gives us an advantage to continue...          4\n",
       "16268908                    that s exactly what you can use          4\n",
       "16268909                                   that s for harry          4\n",
       "\n",
       "[16268910 rows x 2 columns]"
      ]
     },
     "execution_count": 17,
     "metadata": {},
     "output_type": "execute_result"
    }
   ],
   "source": [
    "df_sent = pd.read_csv(\"/media/kurubal/SSD/Data Scientist/Work/Modern Ways/Project/English/Result/Sentence/Merge/Sentence_Merge.csv\")\n",
    "df_sent"
   ]
  },
  {
   "cell_type": "code",
   "execution_count": null,
   "metadata": {},
   "outputs": [],
   "source": [
    "#df_sent = df_sent[df_sent.iloc[:,1]>=5]"
   ]
  },
  {
   "cell_type": "code",
   "execution_count": 18,
   "metadata": {},
   "outputs": [],
   "source": [
    "first_words = []\n",
    "for i in df_sent.iloc[:,0]: # Select sentence first word\n",
    "    words = re.findall(\"\\w+\", i, re.UNICODE)\n",
    "    first_words.append(words[0])"
   ]
  },
  {
   "cell_type": "code",
   "execution_count": null,
   "metadata": {},
   "outputs": [],
   "source": [
    "first_ser = pd.Series(first_words)\n",
    "first_ser"
   ]
  },
  {
   "cell_type": "code",
   "execution_count": null,
   "metadata": {},
   "outputs": [],
   "source": [
    "df_first = pd.DataFrame(first_ser.value_counts(ascending=False))\n",
    "df_first.reset_index(inplace=True)\n",
    "df_first.rename(columns={\"index\":\"word\", 0:\"frequency\"}, inplace=True)\n",
    "df_first"
   ]
  },
  {
   "cell_type": "code",
   "execution_count": null,
   "metadata": {},
   "outputs": [],
   "source": [
    "set_first = set(df_first.iloc[:,0])"
   ]
  },
  {
   "cell_type": "code",
   "execution_count": null,
   "metadata": {},
   "outputs": [],
   "source": [
    "set_all_capital = set(df_all_capital.iloc[:,0])"
   ]
  },
  {
   "cell_type": "code",
   "execution_count": null,
   "metadata": {},
   "outputs": [],
   "source": [
    "df_all_spec = pd.DataFrame(set_all_capital.difference(set_first)) # Capital letter word and first sentence word\n",
    "df_all_spec.rename(columns={0:\"word\"}, inplace=True)\n",
    "df_all_spec"
   ]
  },
  {
   "cell_type": "code",
   "execution_count": null,
   "metadata": {},
   "outputs": [],
   "source": [
    "df_all_spec.to_excel(\"Special_Name_Exactly.xlsx\", sheet_name=\"Spec_Name\", index=False)"
   ]
  },
  {
   "cell_type": "markdown",
   "metadata": {},
   "source": [
    "#### Spec Name Knee Point"
   ]
  },
  {
   "cell_type": "code",
   "execution_count": null,
   "metadata": {},
   "outputs": [],
   "source": [
    "df_word = pd.read_csv(\"/media/kurubal/SSD/Data Scientist/Work/Modern Ways/Project/French/Result/Word/Merge/French_Word_Merge_Result2.csv\")\n",
    "df_word"
   ]
  },
  {
   "cell_type": "code",
   "execution_count": null,
   "metadata": {},
   "outputs": [],
   "source": [
    "df_all_spec_freq = pd.merge(df_word, df_all_spec, how=\"inner\", on=\"word\")\n",
    "df_all_spec_freq"
   ]
  },
  {
   "cell_type": "code",
   "execution_count": null,
   "metadata": {},
   "outputs": [],
   "source": [
    "total_freq_spec = df_all_spec_freq.iloc[:,1].sum()\n",
    "total_freq_spec"
   ]
  },
  {
   "cell_type": "code",
   "execution_count": null,
   "metadata": {},
   "outputs": [],
   "source": [
    "df_all_spec_freq[\"ratio\"] = round(((df_all_spec_freq.iloc[:,1]/total_freq_spec)*100),7)\n",
    "df_all_spec_freq"
   ]
  },
  {
   "cell_type": "code",
   "execution_count": null,
   "metadata": {},
   "outputs": [],
   "source": [
    "df_all_spec_freq[\"cumul_ratio\"] = np.cumsum(df_all_spec_freq.iloc[:,2])\n",
    "df_all_spec_freq"
   ]
  },
  {
   "cell_type": "code",
   "execution_count": null,
   "metadata": {},
   "outputs": [],
   "source": [
    "spec_kneedle = KneeLocator(x=df_all_spec_freq.cumul_ratio.index, y=df_all_spec_freq.cumul_ratio, S=1.0, curve=\"concave\", direction=\"increasing\")\n",
    "spec_kneedle.plot_knee()"
   ]
  },
  {
   "cell_type": "code",
   "execution_count": null,
   "metadata": {},
   "outputs": [],
   "source": [
    "print(round(spec_kneedle.knee_y))"
   ]
  },
  {
   "cell_type": "code",
   "execution_count": null,
   "metadata": {},
   "outputs": [],
   "source": [
    "knee_point_spec = round(spec_kneedle.knee_y)"
   ]
  },
  {
   "cell_type": "code",
   "execution_count": null,
   "metadata": {},
   "outputs": [],
   "source": [
    "df_spec_knee = df_all_spec_freq[df_all_spec_freq.cumul_ratio <= knee_point_spec]\n",
    "df_spec_knee"
   ]
  },
  {
   "cell_type": "code",
   "execution_count": null,
   "metadata": {},
   "outputs": [],
   "source": [
    "df_spec_knee.to_excel(\"Special_Name_Exactly_Knee.xlsx\", sheet_name=\"Spec_Name\", index=False)"
   ]
  },
  {
   "cell_type": "markdown",
   "metadata": {},
   "source": [
    "#### Sentence First Word Knee Point"
   ]
  },
  {
   "cell_type": "code",
   "execution_count": null,
   "metadata": {},
   "outputs": [],
   "source": [
    "df_first = df_first[df_first.iloc[:,1]>=5]"
   ]
  },
  {
   "cell_type": "code",
   "execution_count": null,
   "metadata": {},
   "outputs": [],
   "source": [
    "total_freq_first = df_first.iloc[:,1].sum()\n",
    "total_freq_first"
   ]
  },
  {
   "cell_type": "code",
   "execution_count": null,
   "metadata": {},
   "outputs": [],
   "source": [
    "df_first[\"ratio\"] = round(((df_first.iloc[:,1]/total_freq_first)*100),7)\n",
    "df_first"
   ]
  },
  {
   "cell_type": "code",
   "execution_count": null,
   "metadata": {},
   "outputs": [],
   "source": [
    "df_first[\"cumul_ratio\"] = np.cumsum(df_first.iloc[:,2])\n",
    "df_first"
   ]
  },
  {
   "cell_type": "code",
   "execution_count": null,
   "metadata": {},
   "outputs": [],
   "source": [
    "first_kneedle = KneeLocator(x=df_first.cumul_ratio.index, y=df_first.cumul_ratio, S=1.0, curve=\"concave\", direction=\"increasing\")\n",
    "first_kneedle.plot_knee()"
   ]
  },
  {
   "cell_type": "code",
   "execution_count": null,
   "metadata": {},
   "outputs": [],
   "source": [
    "print(round(first_kneedle.knee_y))"
   ]
  },
  {
   "cell_type": "code",
   "execution_count": null,
   "metadata": {},
   "outputs": [],
   "source": [
    "knee_point_first = round(first_kneedle.knee_y)"
   ]
  },
  {
   "cell_type": "code",
   "execution_count": null,
   "metadata": {},
   "outputs": [],
   "source": [
    "df_first_knee = df_first[df_first.cumul_ratio <= knee_point_first]\n",
    "df_first_knee"
   ]
  },
  {
   "cell_type": "code",
   "execution_count": null,
   "metadata": {},
   "outputs": [],
   "source": [
    "df_first_knee.to_excel(\"First_Word_Knee.xlsx\", sheet_name=\"Word\", index=False)"
   ]
  },
  {
   "cell_type": "code",
   "execution_count": null,
   "metadata": {},
   "outputs": [],
   "source": [
    "df_first_no_knee = df_first[df_first.cumul_ratio > knee_point_first]\n",
    "df_first_no_knee.reset_index(drop=True, inplace=True)\n",
    "df_first_no_knee = df_first_no_knee.iloc[:,0:2]\n",
    "df_first_no_knee"
   ]
  },
  {
   "cell_type": "code",
   "execution_count": null,
   "metadata": {},
   "outputs": [],
   "source": [
    "#df_first_no_knee.to_excel(\"First_Word_No_Knee.xlsx\", sheet_name=\"Word\", index=False)"
   ]
  },
  {
   "cell_type": "code",
   "execution_count": null,
   "metadata": {},
   "outputs": [],
   "source": [
    "set_first_knee = set(df_first_knee.iloc[:,0])"
   ]
  },
  {
   "cell_type": "code",
   "execution_count": null,
   "metadata": {},
   "outputs": [],
   "source": [
    "set_first_no_knee = set(df_first_no_knee.iloc[:,0])"
   ]
  },
  {
   "cell_type": "code",
   "execution_count": null,
   "metadata": {},
   "outputs": [],
   "source": [
    "#set_all_capital = set(df_all_capital.iloc[:,0])"
   ]
  },
  {
   "cell_type": "code",
   "execution_count": null,
   "metadata": {},
   "outputs": [],
   "source": [
    "df_all_knee = pd.DataFrame(set_all_capital.difference(set_first_knee)) # Capital letter word and first sentenc word knee analysis\n",
    "df_all_knee.rename(columns={0:\"word\"}, inplace=True)\n",
    "df_all_knee"
   ]
  },
  {
   "cell_type": "markdown",
   "metadata": {},
   "source": [
    "#### First 40 000 Word And Capital Letter Word Analysis"
   ]
  },
  {
   "cell_type": "code",
   "execution_count": null,
   "metadata": {},
   "outputs": [],
   "source": [
    "df_word = pd.read_csv(\"/media/kurubal/SSD/Data Scientist/Work/Modern Ways/Project/French/Result/Word/Merge/French_Word_Merge_Result2.csv\")\n",
    "df_word = df_word.head(40000)\n",
    "df_word"
   ]
  },
  {
   "cell_type": "code",
   "execution_count": null,
   "metadata": {},
   "outputs": [],
   "source": [
    "set_word = set(df_word.iloc[:,0])"
   ]
  },
  {
   "cell_type": "code",
   "execution_count": null,
   "metadata": {},
   "outputs": [],
   "source": [
    "set_all_knee = set(df_all_knee.iloc[:,0])"
   ]
  },
  {
   "cell_type": "code",
   "execution_count": null,
   "metadata": {},
   "outputs": [],
   "source": [
    "df_word_capital = pd.DataFrame(set_word.intersection(set_all_knee))\n",
    "df_word_capital.rename(columns={0:\"word\"}, inplace=True)\n",
    "df_word_capital"
   ]
  },
  {
   "cell_type": "code",
   "execution_count": null,
   "metadata": {},
   "outputs": [],
   "source": [
    "df_word_capital.to_excel(\"Word_And_Capital_Letter_Word_Intersect.xlsx\", sheet_name=\"Word_Capital\", index=False)"
   ]
  },
  {
   "cell_type": "code",
   "execution_count": null,
   "metadata": {},
   "outputs": [],
   "source": []
  }
 ],
 "metadata": {
  "interpreter": {
   "hash": "dee98d46828ee19b29600c86b301abe70cd9ca024f8cc08840440df39802f8b5"
  },
  "kernelspec": {
   "display_name": "Python 3.9.7 64-bit ('pyspark_env': conda)",
   "language": "python",
   "name": "python3"
  },
  "language_info": {
   "codemirror_mode": {
    "name": "ipython",
    "version": 3
   },
   "file_extension": ".py",
   "mimetype": "text/x-python",
   "name": "python",
   "nbconvert_exporter": "python",
   "pygments_lexer": "ipython3",
   "version": "3.9.7"
  },
  "orig_nbformat": 4
 },
 "nbformat": 4,
 "nbformat_minor": 2
}
