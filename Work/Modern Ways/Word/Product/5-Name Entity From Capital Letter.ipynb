{
 "cells": [
  {
   "cell_type": "markdown",
   "metadata": {},
   "source": [
    "### Name Entity From Capital Letter Words"
   ]
  },
  {
   "cell_type": "code",
   "execution_count": null,
   "metadata": {},
   "outputs": [],
   "source": [
    "#!pip install kneed"
   ]
  },
  {
   "cell_type": "code",
   "execution_count": 66,
   "metadata": {},
   "outputs": [],
   "source": [
    "import pandas as pd\n",
    "import numpy as np\n",
    "import re\n",
    "from kneed import KneeLocator"
   ]
  },
  {
   "cell_type": "markdown",
   "metadata": {},
   "source": [
    "#### Capital Letter Word And Lower Letter Word"
   ]
  },
  {
   "cell_type": "code",
   "execution_count": 67,
   "metadata": {},
   "outputs": [
    {
     "data": {
      "text/html": [
       "<div>\n",
       "<style scoped>\n",
       "    .dataframe tbody tr th:only-of-type {\n",
       "        vertical-align: middle;\n",
       "    }\n",
       "\n",
       "    .dataframe tbody tr th {\n",
       "        vertical-align: top;\n",
       "    }\n",
       "\n",
       "    .dataframe thead th {\n",
       "        text-align: right;\n",
       "    }\n",
       "</style>\n",
       "<table border=\"1\" class=\"dataframe\">\n",
       "  <thead>\n",
       "    <tr style=\"text-align: right;\">\n",
       "      <th></th>\n",
       "      <th>word</th>\n",
       "      <th>frequency</th>\n",
       "    </tr>\n",
       "  </thead>\n",
       "  <tbody>\n",
       "    <tr>\n",
       "      <th>0</th>\n",
       "      <td>de</td>\n",
       "      <td>3981257</td>\n",
       "    </tr>\n",
       "    <tr>\n",
       "      <th>1</th>\n",
       "      <td>pas</td>\n",
       "      <td>2693790</td>\n",
       "    </tr>\n",
       "    <tr>\n",
       "      <th>2</th>\n",
       "      <td>Je</td>\n",
       "      <td>2606215</td>\n",
       "    </tr>\n",
       "    <tr>\n",
       "      <th>3</th>\n",
       "      <td>le</td>\n",
       "      <td>2262594</td>\n",
       "    </tr>\n",
       "    <tr>\n",
       "      <th>4</th>\n",
       "      <td>la</td>\n",
       "      <td>2187456</td>\n",
       "    </tr>\n",
       "    <tr>\n",
       "      <th>...</th>\n",
       "      <td>...</td>\n",
       "      <td>...</td>\n",
       "    </tr>\n",
       "    <tr>\n",
       "      <th>597028</th>\n",
       "      <td>commelundesplusieursvictimes</td>\n",
       "      <td>1</td>\n",
       "    </tr>\n",
       "    <tr>\n",
       "      <th>597029</th>\n",
       "      <td>Morceauxassezpourfairequatre</td>\n",
       "      <td>1</td>\n",
       "    </tr>\n",
       "    <tr>\n",
       "      <th>597030</th>\n",
       "      <td>WilliamEastonaété</td>\n",
       "      <td>1</td>\n",
       "    </tr>\n",
       "    <tr>\n",
       "      <th>597031</th>\n",
       "      <td>quivousdétruire</td>\n",
       "      <td>1</td>\n",
       "    </tr>\n",
       "    <tr>\n",
       "      <th>597032</th>\n",
       "      <td>Lyohmeahwe</td>\n",
       "      <td>1</td>\n",
       "    </tr>\n",
       "  </tbody>\n",
       "</table>\n",
       "<p>597033 rows × 2 columns</p>\n",
       "</div>"
      ],
      "text/plain": [
       "                                word  frequency\n",
       "0                                 de    3981257\n",
       "1                                pas    2693790\n",
       "2                                 Je    2606215\n",
       "3                                 le    2262594\n",
       "4                                 la    2187456\n",
       "...                              ...        ...\n",
       "597028  commelundesplusieursvictimes          1\n",
       "597029  Morceauxassezpourfairequatre          1\n",
       "597030             WilliamEastonaété          1\n",
       "597031               quivousdétruire          1\n",
       "597032                    Lyohmeahwe          1\n",
       "\n",
       "[597033 rows x 2 columns]"
      ]
     },
     "execution_count": 67,
     "metadata": {},
     "output_type": "execute_result"
    }
   ],
   "source": [
    "df = pd.read_csv(\"/media/kurubal/SSD/Data Scientist/Work/Modern Ways/Project/French/Result/Word/Data/Not_Apply_Lower_Word1.csv\") # Not apply lower technique\n",
    "df"
   ]
  },
  {
   "cell_type": "code",
   "execution_count": 68,
   "metadata": {},
   "outputs": [],
   "source": [
    "df = df[df.iloc[:,1]>=5]"
   ]
  },
  {
   "cell_type": "code",
   "execution_count": 69,
   "metadata": {},
   "outputs": [],
   "source": [
    "def word_length(var):\n",
    "    var = str(var)\n",
    "    if len(var) <= 12:\n",
    "        return var\n",
    "    else:\n",
    "        return \"word is bigger than adjust value\""
   ]
  },
  {
   "cell_type": "code",
   "execution_count": 70,
   "metadata": {},
   "outputs": [],
   "source": [
    "df = pd.DataFrame(df.iloc[:,0].apply(lambda x: word_length(x)))"
   ]
  },
  {
   "cell_type": "code",
   "execution_count": 71,
   "metadata": {},
   "outputs": [
    {
     "data": {
      "text/html": [
       "<div>\n",
       "<style scoped>\n",
       "    .dataframe tbody tr th:only-of-type {\n",
       "        vertical-align: middle;\n",
       "    }\n",
       "\n",
       "    .dataframe tbody tr th {\n",
       "        vertical-align: top;\n",
       "    }\n",
       "\n",
       "    .dataframe thead th {\n",
       "        text-align: right;\n",
       "    }\n",
       "</style>\n",
       "<table border=\"1\" class=\"dataframe\">\n",
       "  <thead>\n",
       "    <tr style=\"text-align: right;\">\n",
       "      <th></th>\n",
       "      <th>word</th>\n",
       "    </tr>\n",
       "  </thead>\n",
       "  <tbody>\n",
       "    <tr>\n",
       "      <th>0</th>\n",
       "      <td>de</td>\n",
       "    </tr>\n",
       "    <tr>\n",
       "      <th>1</th>\n",
       "      <td>pas</td>\n",
       "    </tr>\n",
       "    <tr>\n",
       "      <th>2</th>\n",
       "      <td>Je</td>\n",
       "    </tr>\n",
       "    <tr>\n",
       "      <th>3</th>\n",
       "      <td>le</td>\n",
       "    </tr>\n",
       "    <tr>\n",
       "      <th>4</th>\n",
       "      <td>la</td>\n",
       "    </tr>\n",
       "    <tr>\n",
       "      <th>...</th>\n",
       "      <td>...</td>\n",
       "    </tr>\n",
       "    <tr>\n",
       "      <th>221091</th>\n",
       "      <td>spécieuse</td>\n",
       "    </tr>\n",
       "    <tr>\n",
       "      <th>221092</th>\n",
       "      <td>Yippitykiyay</td>\n",
       "    </tr>\n",
       "    <tr>\n",
       "      <th>221093</th>\n",
       "      <td>galbes</td>\n",
       "    </tr>\n",
       "    <tr>\n",
       "      <th>221094</th>\n",
       "      <td>Gaelou</td>\n",
       "    </tr>\n",
       "    <tr>\n",
       "      <th>221095</th>\n",
       "      <td>mokus</td>\n",
       "    </tr>\n",
       "  </tbody>\n",
       "</table>\n",
       "<p>221096 rows × 1 columns</p>\n",
       "</div>"
      ],
      "text/plain": [
       "                word\n",
       "0                 de\n",
       "1                pas\n",
       "2                 Je\n",
       "3                 le\n",
       "4                 la\n",
       "...              ...\n",
       "221091     spécieuse\n",
       "221092  Yippitykiyay\n",
       "221093        galbes\n",
       "221094        Gaelou\n",
       "221095         mokus\n",
       "\n",
       "[221096 rows x 1 columns]"
      ]
     },
     "execution_count": 71,
     "metadata": {},
     "output_type": "execute_result"
    }
   ],
   "source": [
    "df.drop(df[df.iloc[:,0] == \"word is bigger than adjust value\"].index, axis=0, inplace=True)\n",
    "df.reset_index(drop=True, inplace=True)\n",
    "df"
   ]
  },
  {
   "cell_type": "code",
   "execution_count": 72,
   "metadata": {},
   "outputs": [],
   "source": [
    "capital_word_list = []\n",
    "lower_word_list = []\n",
    "for i in df.iloc[:,0]:\n",
    "    i = str(i)\n",
    "    if i[0].isupper():\n",
    "        capital_word_list.append(i)\n",
    "    else:\n",
    "        lower_word_list.append(i)"
   ]
  },
  {
   "cell_type": "code",
   "execution_count": 73,
   "metadata": {},
   "outputs": [
    {
     "data": {
      "text/html": [
       "<div>\n",
       "<style scoped>\n",
       "    .dataframe tbody tr th:only-of-type {\n",
       "        vertical-align: middle;\n",
       "    }\n",
       "\n",
       "    .dataframe tbody tr th {\n",
       "        vertical-align: top;\n",
       "    }\n",
       "\n",
       "    .dataframe thead th {\n",
       "        text-align: right;\n",
       "    }\n",
       "</style>\n",
       "<table border=\"1\" class=\"dataframe\">\n",
       "  <thead>\n",
       "    <tr style=\"text-align: right;\">\n",
       "      <th></th>\n",
       "      <th>word</th>\n",
       "    </tr>\n",
       "  </thead>\n",
       "  <tbody>\n",
       "    <tr>\n",
       "      <th>0</th>\n",
       "      <td>Je</td>\n",
       "    </tr>\n",
       "    <tr>\n",
       "      <th>1</th>\n",
       "      <td>Cest</td>\n",
       "    </tr>\n",
       "    <tr>\n",
       "      <th>2</th>\n",
       "      <td>Tu</td>\n",
       "    </tr>\n",
       "    <tr>\n",
       "      <th>3</th>\n",
       "      <td>Il</td>\n",
       "    </tr>\n",
       "    <tr>\n",
       "      <th>4</th>\n",
       "      <td>Vous</td>\n",
       "    </tr>\n",
       "    <tr>\n",
       "      <th>...</th>\n",
       "      <td>...</td>\n",
       "    </tr>\n",
       "    <tr>\n",
       "      <th>102094</th>\n",
       "      <td>Wyvold</td>\n",
       "    </tr>\n",
       "    <tr>\n",
       "      <th>102095</th>\n",
       "      <td>Rodéo</td>\n",
       "    </tr>\n",
       "    <tr>\n",
       "      <th>102096</th>\n",
       "      <td>Amateur</td>\n",
       "    </tr>\n",
       "    <tr>\n",
       "      <th>102097</th>\n",
       "      <td>Yippitykiyay</td>\n",
       "    </tr>\n",
       "    <tr>\n",
       "      <th>102098</th>\n",
       "      <td>Gaelou</td>\n",
       "    </tr>\n",
       "  </tbody>\n",
       "</table>\n",
       "<p>102099 rows × 1 columns</p>\n",
       "</div>"
      ],
      "text/plain": [
       "                word\n",
       "0                 Je\n",
       "1               Cest\n",
       "2                 Tu\n",
       "3                 Il\n",
       "4               Vous\n",
       "...              ...\n",
       "102094        Wyvold\n",
       "102095         Rodéo\n",
       "102096       Amateur\n",
       "102097  Yippitykiyay\n",
       "102098        Gaelou\n",
       "\n",
       "[102099 rows x 1 columns]"
      ]
     },
     "execution_count": 73,
     "metadata": {},
     "output_type": "execute_result"
    }
   ],
   "source": [
    "df_capital = pd.DataFrame(capital_word_list)\n",
    "df_capital.rename(columns={0:\"word\"}, inplace=True)\n",
    "df_capital = pd.DataFrame(df_capital.iloc[:,0].apply(lambda x: x.capitalize()))\n",
    "df_capital"
   ]
  },
  {
   "cell_type": "code",
   "execution_count": 74,
   "metadata": {},
   "outputs": [
    {
     "data": {
      "text/html": [
       "<div>\n",
       "<style scoped>\n",
       "    .dataframe tbody tr th:only-of-type {\n",
       "        vertical-align: middle;\n",
       "    }\n",
       "\n",
       "    .dataframe tbody tr th {\n",
       "        vertical-align: top;\n",
       "    }\n",
       "\n",
       "    .dataframe thead th {\n",
       "        text-align: right;\n",
       "    }\n",
       "</style>\n",
       "<table border=\"1\" class=\"dataframe\">\n",
       "  <thead>\n",
       "    <tr style=\"text-align: right;\">\n",
       "      <th></th>\n",
       "      <th>word</th>\n",
       "    </tr>\n",
       "  </thead>\n",
       "  <tbody>\n",
       "    <tr>\n",
       "      <th>0</th>\n",
       "      <td>je</td>\n",
       "    </tr>\n",
       "    <tr>\n",
       "      <th>1</th>\n",
       "      <td>cest</td>\n",
       "    </tr>\n",
       "    <tr>\n",
       "      <th>2</th>\n",
       "      <td>tu</td>\n",
       "    </tr>\n",
       "    <tr>\n",
       "      <th>3</th>\n",
       "      <td>il</td>\n",
       "    </tr>\n",
       "    <tr>\n",
       "      <th>4</th>\n",
       "      <td>vous</td>\n",
       "    </tr>\n",
       "    <tr>\n",
       "      <th>...</th>\n",
       "      <td>...</td>\n",
       "    </tr>\n",
       "    <tr>\n",
       "      <th>102094</th>\n",
       "      <td>wyvold</td>\n",
       "    </tr>\n",
       "    <tr>\n",
       "      <th>102095</th>\n",
       "      <td>rodéo</td>\n",
       "    </tr>\n",
       "    <tr>\n",
       "      <th>102096</th>\n",
       "      <td>amateur</td>\n",
       "    </tr>\n",
       "    <tr>\n",
       "      <th>102097</th>\n",
       "      <td>yippitykiyay</td>\n",
       "    </tr>\n",
       "    <tr>\n",
       "      <th>102098</th>\n",
       "      <td>gaelou</td>\n",
       "    </tr>\n",
       "  </tbody>\n",
       "</table>\n",
       "<p>102099 rows × 1 columns</p>\n",
       "</div>"
      ],
      "text/plain": [
       "                word\n",
       "0                 je\n",
       "1               cest\n",
       "2                 tu\n",
       "3                 il\n",
       "4               vous\n",
       "...              ...\n",
       "102094        wyvold\n",
       "102095         rodéo\n",
       "102096       amateur\n",
       "102097  yippitykiyay\n",
       "102098        gaelou\n",
       "\n",
       "[102099 rows x 1 columns]"
      ]
     },
     "execution_count": 74,
     "metadata": {},
     "output_type": "execute_result"
    }
   ],
   "source": [
    "df_capital_to_lower = pd.DataFrame(df_capital.iloc[:,0].apply(lambda x : x.lower()))\n",
    "df_capital_to_lower"
   ]
  },
  {
   "cell_type": "code",
   "execution_count": 75,
   "metadata": {},
   "outputs": [
    {
     "data": {
      "text/html": [
       "<div>\n",
       "<style scoped>\n",
       "    .dataframe tbody tr th:only-of-type {\n",
       "        vertical-align: middle;\n",
       "    }\n",
       "\n",
       "    .dataframe tbody tr th {\n",
       "        vertical-align: top;\n",
       "    }\n",
       "\n",
       "    .dataframe thead th {\n",
       "        text-align: right;\n",
       "    }\n",
       "</style>\n",
       "<table border=\"1\" class=\"dataframe\">\n",
       "  <thead>\n",
       "    <tr style=\"text-align: right;\">\n",
       "      <th></th>\n",
       "      <th>word</th>\n",
       "    </tr>\n",
       "  </thead>\n",
       "  <tbody>\n",
       "    <tr>\n",
       "      <th>0</th>\n",
       "      <td>de</td>\n",
       "    </tr>\n",
       "    <tr>\n",
       "      <th>1</th>\n",
       "      <td>pas</td>\n",
       "    </tr>\n",
       "    <tr>\n",
       "      <th>2</th>\n",
       "      <td>le</td>\n",
       "    </tr>\n",
       "    <tr>\n",
       "      <th>3</th>\n",
       "      <td>la</td>\n",
       "    </tr>\n",
       "    <tr>\n",
       "      <th>4</th>\n",
       "      <td>que</td>\n",
       "    </tr>\n",
       "    <tr>\n",
       "      <th>...</th>\n",
       "      <td>...</td>\n",
       "    </tr>\n",
       "    <tr>\n",
       "      <th>118992</th>\n",
       "      <td>jaifait</td>\n",
       "    </tr>\n",
       "    <tr>\n",
       "      <th>118993</th>\n",
       "      <td>impatienter</td>\n",
       "    </tr>\n",
       "    <tr>\n",
       "      <th>118994</th>\n",
       "      <td>spécieuse</td>\n",
       "    </tr>\n",
       "    <tr>\n",
       "      <th>118995</th>\n",
       "      <td>galbes</td>\n",
       "    </tr>\n",
       "    <tr>\n",
       "      <th>118996</th>\n",
       "      <td>mokus</td>\n",
       "    </tr>\n",
       "  </tbody>\n",
       "</table>\n",
       "<p>118997 rows × 1 columns</p>\n",
       "</div>"
      ],
      "text/plain": [
       "               word\n",
       "0                de\n",
       "1               pas\n",
       "2                le\n",
       "3                la\n",
       "4               que\n",
       "...             ...\n",
       "118992      jaifait\n",
       "118993  impatienter\n",
       "118994    spécieuse\n",
       "118995       galbes\n",
       "118996        mokus\n",
       "\n",
       "[118997 rows x 1 columns]"
      ]
     },
     "execution_count": 75,
     "metadata": {},
     "output_type": "execute_result"
    }
   ],
   "source": [
    "df_lower = pd.DataFrame(lower_word_list)\n",
    "df_lower.rename(columns={0:\"word\"}, inplace=True)\n",
    "df_lower"
   ]
  },
  {
   "cell_type": "code",
   "execution_count": 76,
   "metadata": {},
   "outputs": [
    {
     "data": {
      "text/html": [
       "<div>\n",
       "<style scoped>\n",
       "    .dataframe tbody tr th:only-of-type {\n",
       "        vertical-align: middle;\n",
       "    }\n",
       "\n",
       "    .dataframe tbody tr th {\n",
       "        vertical-align: top;\n",
       "    }\n",
       "\n",
       "    .dataframe thead th {\n",
       "        text-align: right;\n",
       "    }\n",
       "</style>\n",
       "<table border=\"1\" class=\"dataframe\">\n",
       "  <thead>\n",
       "    <tr style=\"text-align: right;\">\n",
       "      <th></th>\n",
       "      <th>word</th>\n",
       "    </tr>\n",
       "  </thead>\n",
       "  <tbody>\n",
       "    <tr>\n",
       "      <th>0</th>\n",
       "      <td>de</td>\n",
       "    </tr>\n",
       "    <tr>\n",
       "      <th>1</th>\n",
       "      <td>pas</td>\n",
       "    </tr>\n",
       "    <tr>\n",
       "      <th>2</th>\n",
       "      <td>le</td>\n",
       "    </tr>\n",
       "    <tr>\n",
       "      <th>3</th>\n",
       "      <td>la</td>\n",
       "    </tr>\n",
       "    <tr>\n",
       "      <th>4</th>\n",
       "      <td>que</td>\n",
       "    </tr>\n",
       "    <tr>\n",
       "      <th>...</th>\n",
       "      <td>...</td>\n",
       "    </tr>\n",
       "    <tr>\n",
       "      <th>118992</th>\n",
       "      <td>jaifait</td>\n",
       "    </tr>\n",
       "    <tr>\n",
       "      <th>118993</th>\n",
       "      <td>impatienter</td>\n",
       "    </tr>\n",
       "    <tr>\n",
       "      <th>118994</th>\n",
       "      <td>spécieuse</td>\n",
       "    </tr>\n",
       "    <tr>\n",
       "      <th>118995</th>\n",
       "      <td>galbes</td>\n",
       "    </tr>\n",
       "    <tr>\n",
       "      <th>118996</th>\n",
       "      <td>mokus</td>\n",
       "    </tr>\n",
       "  </tbody>\n",
       "</table>\n",
       "<p>118997 rows × 1 columns</p>\n",
       "</div>"
      ],
      "text/plain": [
       "               word\n",
       "0                de\n",
       "1               pas\n",
       "2                le\n",
       "3                la\n",
       "4               que\n",
       "...             ...\n",
       "118992      jaifait\n",
       "118993  impatienter\n",
       "118994    spécieuse\n",
       "118995       galbes\n",
       "118996        mokus\n",
       "\n",
       "[118997 rows x 1 columns]"
      ]
     },
     "execution_count": 76,
     "metadata": {},
     "output_type": "execute_result"
    }
   ],
   "source": [
    "df_lower_to_lower = pd.DataFrame(df_lower.iloc[:,0].apply(lambda x : x.lower()))\n",
    "df_lower_to_lower"
   ]
  },
  {
   "cell_type": "code",
   "execution_count": null,
   "metadata": {},
   "outputs": [],
   "source": [
    "capital_set = set(df_capital_to_lower.iloc[:,0])"
   ]
  },
  {
   "cell_type": "code",
   "execution_count": null,
   "metadata": {},
   "outputs": [],
   "source": [
    "lower_set = set(df_lower_to_lower.iloc[:,0])"
   ]
  },
  {
   "cell_type": "code",
   "execution_count": null,
   "metadata": {},
   "outputs": [],
   "source": [
    "df_all_capital = pd.DataFrame(capital_set.difference(lower_set)) # compare capital letter word and lower letter word\n",
    "df_all_capital.rename(columns={0:\"word\"}, inplace=True)\n",
    "#df_all_capital = pd.DataFrame(df_all_capital.iloc[:,0].apply(lambda x: x.capitalize()))\n",
    "df_all_capital"
   ]
  },
  {
   "cell_type": "code",
   "execution_count": null,
   "metadata": {},
   "outputs": [],
   "source": [
    "# Check result with all capital word\n",
    "# df_merge = pd.merge(df_capital, df_all_capital, how=\"inner\", on=\"word\")\n",
    "# df_merge.drop_duplicates(inplace=True)\n",
    "# df_merge.reset_index(drop=True, inplace=True)\n",
    "# df_merge"
   ]
  },
  {
   "cell_type": "code",
   "execution_count": null,
   "metadata": {},
   "outputs": [],
   "source": [
    "df_all_capital.to_excel(\"All_Capital_Letter_Word.xlsx\", sheet_name=\"Word\", index=False)"
   ]
  },
  {
   "cell_type": "code",
   "execution_count": null,
   "metadata": {},
   "outputs": [],
   "source": []
  },
  {
   "cell_type": "markdown",
   "metadata": {},
   "source": [
    "#### Sentence First Word Analysis"
   ]
  },
  {
   "cell_type": "code",
   "execution_count": null,
   "metadata": {},
   "outputs": [],
   "source": [
    "df_sent = pd.read_csv(\"/media/kurubal/SSD/Data Scientist/Work/Modern Ways/Project/French/Result/Sentence/Merge/Sentence_Merge_Result2.csv\")\n",
    "df_sent"
   ]
  },
  {
   "cell_type": "code",
   "execution_count": null,
   "metadata": {},
   "outputs": [],
   "source": [
    "#df_sent = df_sent[df_sent.iloc[:,1]>=5]"
   ]
  },
  {
   "cell_type": "code",
   "execution_count": null,
   "metadata": {},
   "outputs": [],
   "source": [
    "first_words = []\n",
    "for i in df_sent.iloc[:,0]: # Select sentence first word\n",
    "    words = re.findall(\"\\w+\", i)\n",
    "    first_words.append(words[0])"
   ]
  },
  {
   "cell_type": "code",
   "execution_count": null,
   "metadata": {},
   "outputs": [],
   "source": [
    "first_ser = pd.Series(first_words)\n",
    "first_ser"
   ]
  },
  {
   "cell_type": "code",
   "execution_count": null,
   "metadata": {},
   "outputs": [],
   "source": [
    "df_first = pd.DataFrame(first_ser.value_counts(ascending=False))\n",
    "df_first.reset_index(inplace=True)\n",
    "df_first.rename(columns={\"index\":\"word\", 0:\"frequency\"}, inplace=True)\n",
    "df_first"
   ]
  },
  {
   "cell_type": "code",
   "execution_count": null,
   "metadata": {},
   "outputs": [],
   "source": [
    "set_first = set(df_first.iloc[:,0])"
   ]
  },
  {
   "cell_type": "code",
   "execution_count": null,
   "metadata": {},
   "outputs": [],
   "source": [
    "set_all_capital = set(df_all_capital.iloc[:,0])"
   ]
  },
  {
   "cell_type": "code",
   "execution_count": null,
   "metadata": {},
   "outputs": [],
   "source": [
    "df_all_spec = pd.DataFrame(set_all_capital.difference(set_first)) # Capital letter word and first sentence word\n",
    "df_all_spec.rename(columns={0:\"word\"}, inplace=True)\n",
    "df_all_spec"
   ]
  },
  {
   "cell_type": "code",
   "execution_count": null,
   "metadata": {},
   "outputs": [],
   "source": [
    "df_all_spec.to_excel(\"Special_Name_Exactly.xlsx\", sheet_name=\"Spec_Name\", index=False)"
   ]
  },
  {
   "cell_type": "markdown",
   "metadata": {},
   "source": [
    "#### Spec Name Knee Point"
   ]
  },
  {
   "cell_type": "code",
   "execution_count": null,
   "metadata": {},
   "outputs": [],
   "source": [
    "df_word = pd.read_csv(\"/media/kurubal/SSD/Data Scientist/Work/Modern Ways/Project/French/Result/Word/Merge/French_Word_Merge_Result2.csv\")\n",
    "df_word"
   ]
  },
  {
   "cell_type": "code",
   "execution_count": null,
   "metadata": {},
   "outputs": [],
   "source": [
    "df_all_spec_freq = pd.merge(df_word, df_all_spec, how=\"inner\", on=\"word\")\n",
    "df_all_spec_freq"
   ]
  },
  {
   "cell_type": "code",
   "execution_count": null,
   "metadata": {},
   "outputs": [],
   "source": [
    "total_freq_spec = df_all_spec_freq.iloc[:,1].sum()\n",
    "total_freq_spec"
   ]
  },
  {
   "cell_type": "code",
   "execution_count": null,
   "metadata": {},
   "outputs": [],
   "source": [
    "df_all_spec_freq[\"ratio\"] = round(((df_all_spec_freq.iloc[:,1]/total_freq_spec)*100),7)\n",
    "df_all_spec_freq"
   ]
  },
  {
   "cell_type": "code",
   "execution_count": null,
   "metadata": {},
   "outputs": [],
   "source": [
    "df_all_spec_freq[\"cumul_ratio\"] = np.cumsum(df_all_spec_freq.iloc[:,2])\n",
    "df_all_spec_freq"
   ]
  },
  {
   "cell_type": "code",
   "execution_count": null,
   "metadata": {},
   "outputs": [],
   "source": [
    "spec_kneedle = KneeLocator(x=df_all_spec_freq.cumul_ratio.index, y=df_all_spec_freq.cumul_ratio, S=1.0, curve=\"concave\", direction=\"increasing\")\n",
    "spec_kneedle.plot_knee()"
   ]
  },
  {
   "cell_type": "code",
   "execution_count": null,
   "metadata": {},
   "outputs": [],
   "source": [
    "print(round(spec_kneedle.knee_y))"
   ]
  },
  {
   "cell_type": "code",
   "execution_count": null,
   "metadata": {},
   "outputs": [],
   "source": [
    "knee_point_spec = round(spec_kneedle.knee_y)"
   ]
  },
  {
   "cell_type": "code",
   "execution_count": null,
   "metadata": {},
   "outputs": [],
   "source": [
    "df_spec_knee = df_all_spec_freq[df_all_spec_freq.cumul_ratio <= knee_point_spec]\n",
    "df_spec_knee"
   ]
  },
  {
   "cell_type": "code",
   "execution_count": null,
   "metadata": {},
   "outputs": [],
   "source": [
    "df_spec_knee.to_excel(\"Special_Name_Exactly_Knee.xlsx\", sheet_name=\"Spec_Name\", index=False)"
   ]
  },
  {
   "cell_type": "markdown",
   "metadata": {},
   "source": [
    "#### Sentence First Word Knee Point"
   ]
  },
  {
   "cell_type": "code",
   "execution_count": null,
   "metadata": {},
   "outputs": [],
   "source": [
    "df_first = df_first[df_first.iloc[:,1]>=5]"
   ]
  },
  {
   "cell_type": "code",
   "execution_count": null,
   "metadata": {},
   "outputs": [],
   "source": [
    "total_freq_first = df_first.iloc[:,1].sum()\n",
    "total_freq_first"
   ]
  },
  {
   "cell_type": "code",
   "execution_count": null,
   "metadata": {},
   "outputs": [],
   "source": [
    "df_first[\"ratio\"] = round(((df_first.iloc[:,1]/total_freq_first)*100),7)\n",
    "df_first"
   ]
  },
  {
   "cell_type": "code",
   "execution_count": null,
   "metadata": {},
   "outputs": [],
   "source": [
    "df_first[\"cumul_ratio\"] = np.cumsum(df_first.iloc[:,2])\n",
    "df_first"
   ]
  },
  {
   "cell_type": "code",
   "execution_count": null,
   "metadata": {},
   "outputs": [],
   "source": [
    "first_kneedle = KneeLocator(x=df_first.cumul_ratio.index, y=df_first.cumul_ratio, S=1.0, curve=\"concave\", direction=\"increasing\")\n",
    "first_kneedle.plot_knee()"
   ]
  },
  {
   "cell_type": "code",
   "execution_count": null,
   "metadata": {},
   "outputs": [],
   "source": [
    "print(round(first_kneedle.knee_y))"
   ]
  },
  {
   "cell_type": "code",
   "execution_count": null,
   "metadata": {},
   "outputs": [],
   "source": [
    "knee_point_first = round(first_kneedle.knee_y)"
   ]
  },
  {
   "cell_type": "code",
   "execution_count": null,
   "metadata": {},
   "outputs": [],
   "source": [
    "df_first_knee = df_first[df_first.cumul_ratio <= knee_point_first]\n",
    "df_first_knee"
   ]
  },
  {
   "cell_type": "code",
   "execution_count": null,
   "metadata": {},
   "outputs": [],
   "source": [
    "#df_first_knee.to_excel(\"First_Word_Knee.xlsx\", sheet_name=\"Word\", index=False)"
   ]
  },
  {
   "cell_type": "code",
   "execution_count": null,
   "metadata": {},
   "outputs": [],
   "source": [
    "df_first_no_knee = df_first[df_first.cumul_ratio > knee_point_first]\n",
    "df_first_no_knee.reset_index(drop=True, inplace=True)\n",
    "df_first_no_knee = df_first_no_knee.iloc[:,0:2]\n",
    "df_first_no_knee"
   ]
  },
  {
   "cell_type": "code",
   "execution_count": null,
   "metadata": {},
   "outputs": [],
   "source": [
    "#df_first_no_knee.to_excel(\"First_Word_No_Knee.xlsx\", sheet_name=\"Word\", index=False)"
   ]
  },
  {
   "cell_type": "code",
   "execution_count": null,
   "metadata": {},
   "outputs": [],
   "source": [
    "set_first_knee = set(df_first_knee.iloc[:,0])"
   ]
  },
  {
   "cell_type": "code",
   "execution_count": null,
   "metadata": {},
   "outputs": [],
   "source": [
    "set_first_no_knee = set(df_first_no_knee.iloc[:,0])"
   ]
  },
  {
   "cell_type": "code",
   "execution_count": null,
   "metadata": {},
   "outputs": [],
   "source": [
    "#set_all_capital = set(df_all_capital.iloc[:,0])"
   ]
  },
  {
   "cell_type": "code",
   "execution_count": null,
   "metadata": {},
   "outputs": [],
   "source": [
    "df_all_knee = pd.DataFrame(set_all_capital.difference(set_first_knee)) # Capital letter word and first sentenc word knee analysis\n",
    "df_all_knee.rename(columns={0:\"word\"}, inplace=True)\n",
    "df_all_knee"
   ]
  },
  {
   "cell_type": "markdown",
   "metadata": {},
   "source": [
    "#### First 40 000 Word And Capital Letter Word Analysis"
   ]
  },
  {
   "cell_type": "code",
   "execution_count": null,
   "metadata": {},
   "outputs": [],
   "source": [
    "df_word = pd.read_csv(\"/media/kurubal/SSD/Data Scientist/Work/Modern Ways/Project/French/Result/Word/Merge/French_Word_Merge_Result2.csv\")\n",
    "df_word = df_word.head(40000)\n",
    "df_word"
   ]
  },
  {
   "cell_type": "code",
   "execution_count": null,
   "metadata": {},
   "outputs": [],
   "source": [
    "set_word = set(df_word.iloc[:,0])"
   ]
  },
  {
   "cell_type": "code",
   "execution_count": null,
   "metadata": {},
   "outputs": [],
   "source": [
    "set_all_knee = set(df_all_knee.iloc[:,0])"
   ]
  },
  {
   "cell_type": "code",
   "execution_count": null,
   "metadata": {},
   "outputs": [],
   "source": [
    "df_word_capital = pd.DataFrame(set_word.intersection(set_all_knee))\n",
    "df_word_capital"
   ]
  },
  {
   "cell_type": "code",
   "execution_count": null,
   "metadata": {},
   "outputs": [],
   "source": [
    "df_word_capital.to_excel(\"Word_And_Capital_Letter_Word_Intersect.xlsx\", sheet_name=\"Word_Cağital\", index=False)"
   ]
  },
  {
   "cell_type": "code",
   "execution_count": null,
   "metadata": {},
   "outputs": [],
   "source": []
  }
 ],
 "metadata": {
  "interpreter": {
   "hash": "dee98d46828ee19b29600c86b301abe70cd9ca024f8cc08840440df39802f8b5"
  },
  "kernelspec": {
   "display_name": "Python 3.9.7 64-bit ('pyspark_env': conda)",
   "language": "python",
   "name": "python3"
  },
  "language_info": {
   "codemirror_mode": {
    "name": "ipython",
    "version": 3
   },
   "file_extension": ".py",
   "mimetype": "text/x-python",
   "name": "python",
   "nbconvert_exporter": "python",
   "pygments_lexer": "ipython3",
   "version": "3.9.7"
  },
  "orig_nbformat": 4
 },
 "nbformat": 4,
 "nbformat_minor": 2
}
