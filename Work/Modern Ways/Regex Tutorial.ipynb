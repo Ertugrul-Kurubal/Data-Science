{
 "cells": [
  {
   "cell_type": "code",
   "execution_count": 1,
   "metadata": {},
   "outputs": [],
   "source": [
    "import numpy as np\n",
    "import pandas as pd\n",
    "import matplotlib.pyplot as plt\n",
    "import seaborn as sns\n",
    "import re"
   ]
  },
  {
   "cell_type": "code",
   "execution_count": 2,
   "metadata": {},
   "outputs": [
    {
     "name": "stdout",
     "output_type": "stream",
     "text": [
      "There is not such a file  or path is incorrect\n"
     ]
    }
   ],
   "source": [
    "# try:\n",
    "#   with open(\"af.txt\", \"r\", encoding=\"utf-8\") as file:\n",
    "#     text_data = file.read() # Plain text\n",
    "#     print(text_data)\n",
    "# except:\n",
    "#   print(\"There is not such a file  or path is incorrect\")"
   ]
  },
  {
   "cell_type": "code",
   "execution_count": 14,
   "metadata": {},
   "outputs": [
    {
     "name": "stdout",
     "output_type": "stream",
     "text": [
      "There is not such a file  or path is incorrect\n"
     ]
    }
   ],
   "source": [
    "try:\n",
    "  with open(\"af.txt\", \"r\", encoding=\"utf-8\") as file:\n",
    "    text_data = file.realines(1000) # As list \n",
    "    print(text_data)\n",
    "except:\n",
    "  print(\"There is not such a file  or path is incorrect\")"
   ]
  },
  {
   "cell_type": "code",
   "execution_count": 13,
   "metadata": {},
   "outputs": [
    {
     "data": {
      "text/plain": [
       "\"I       s               u               n       o       g               d       a       a       r       ,               G       r       a       a       f               A       n       d       r       a       s       s       y       ?       \\n       J       a       ,               U               M       a       j       e       s       t       e       i       t       \\n       -               W       a       a       r       n       a       t       o       e               g       a       a       n               o       n       s               n       o       u       ?       \\n       -               e       k               d       i       n       k               h       i       e       r       n       a       t       o       e       \\n       N       e       e       ,               e       k               d       i       n       k               h       i       e       r       h       e       e       n       \\n       E       k               d       i       n       k               o       n       s               i       s               v       e       r       d       w       a       a       l       \\n       E       k               i       s               b       e       v       r       e       e       s               u               i       s               r       e       g       ,               o       n       s               m       o       e       t               o       m       d       r       a       a       i       \\n       N       e       e       ,               e       k               h       o       u               n       i       e               v       a       n               v       e       r       l       o       o       r               n       i       e       ,               k       o       m               o       n       s               r       u       s               '       n               r       u       k       k       i       e       \\n       G       r       a       a       g       ,               U               M       a       j       e       s       t       e       i       t       \\n       H       i       e       r       ,               U               M       a       j       e       s       t       e       i       t       \\n       D       a       n       k       i       e       \\n       H       u       l       l       e               s       a       l               w       o       n       d       e       r               w       a       a       r               o       n       s               i       s       \\n       H       u       l       l       e               s       a       l               b       l       y               w       e       e       s               d       a       t               o       n       s               v       e       r       d       w       a       a       l               h       e       t       \\n       O       n       s               i       s               g       e       w       o       o       n       l       i       k               e       e       r       s       t       e       \\n       G       r       a       a       f               A       n       d       r       a       s       s       y       ,               e       k               k       a       n               j       o       u               n       i       e               v       e       r       t       e       l               h       o       e               g       e       l       u       k       k       i       g               e       k               i       n               H       o       n       g       a       r       y       e               i       s               n       i       e       \\n       E       k               i       s               b       l       y       ,               U               M       a       j       e       s       t       e       i       t       \\n       H       i       e       r               v       o       e       l               e       k               s       o               v       r       y               s       o       o       s               i       n               P       o       s       s       e       n       h       o       f       e       n       \\n       I       n               O       o       s       t       e       n       r       y       k       ,               s       o       u               d       i       t               v       i       r               m       y               o       n       m       o       o       n       t       l       i       k               w       e       e       s               o       m               o       n       b       e       s       k       e       r       m       d               t       e               r       y       ,               d       a       a       r               s       o       u               t       e       n               m       i       n       s       t       e               2       0               g       e       h       e       i       m       e               p       o       l       i       s       i       e               w       e       e       s               a       g       t       e       r               d       i       e               b       o       m       e               e       n               b       o       s       s       e       ,               w       a       t               s       e       k       e       r       m       a       a       k               n       i       k       s               s       l       e       g               g       e       b       e       u       r               n       i       e       \\n       H       i       e       r               i       s               U               M       a       j       e       s       t       e       i       t               o       n       d       e       r               m       y               p       e       r       s       o       o       n       l       i       k       e               b       e       s       k       e       r       m       i       n       g       \\n       J       a       ,               m       a       a       r               d       i       s               n       i       e               n       e       t               h       i       e       r       d       i       e               g       e       v       o       e       l               v       a       n               v       r       y       h       e       i       d               w       a       t               H       o       n       g       a       r       y       e               s       o               l       e       k       k       e       r               m       a       a       k               n       i       e       ;       \\n       H       i       e       r               h       e       t               e       k               m       y               k       i       n       d               n       e       t               v       i       r               m       y       s       e       l       f       \\n       D       i       e               k       l       e       i       n       t       j       i       e               p       r       a       a       t               a       l               '       n               p       a       a       r               w       o       o       r       d       e               H       o       n       g       a       a       r       s       \\n       E       k               h       e       t               d       i       t               v       e       r       n       e       e       m       \\n       K       o       m               o       n       s               g       a       a       n               s       t       a       p               b       i       e       t       j       i       e       \\n       U               p       e       r       d               h       e       t               m       o       o       i               g       e       s       p       r       i       n       g       \\n       U       i       t       s       t       e       k       e       n       d       !       \\n       B       a       i       e               g       o       e       d       !       \\n       H       e       t               G       r       a       a       f               B       a       t       t\""
      ]
     },
     "execution_count": 13,
     "metadata": {},
     "output_type": "execute_result"
    }
   ],
   "source": [
    "text_data = \" \".join(text_data)\n",
    "text_data"
   ]
  },
  {
   "cell_type": "code",
   "execution_count": null,
   "metadata": {},
   "outputs": [],
   "source": []
  }
 ],
 "metadata": {
  "interpreter": {
   "hash": "43a9cd95aa030499ef934e4da31e07dde54f3fc3a1fd0cc4aeef7f16459ee2ac"
  },
  "kernelspec": {
   "display_name": "Python 3.9.0 64-bit (system)",
   "name": "python3"
  },
  "language_info": {
   "codemirror_mode": {
    "name": "ipython",
    "version": 3
   },
   "file_extension": ".py",
   "mimetype": "text/x-python",
   "name": "python",
   "nbconvert_exporter": "python",
   "pygments_lexer": "ipython3",
   "version": "3.9.0"
  },
  "orig_nbformat": 4
 },
 "nbformat": 4,
 "nbformat_minor": 2
}
