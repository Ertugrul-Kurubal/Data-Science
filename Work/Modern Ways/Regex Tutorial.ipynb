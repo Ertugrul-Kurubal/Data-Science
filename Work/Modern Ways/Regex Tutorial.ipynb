{
 "cells": [
  {
   "cell_type": "code",
   "execution_count": null,
   "metadata": {},
   "outputs": [],
   "source": [
    "import numpy as np\n",
    "import pandas as pd\n",
    "import matplotlib.pyplot as plt\n",
    "import seaborn as sns\n",
    "import re"
   ]
  },
  {
   "cell_type": "code",
   "execution_count": null,
   "metadata": {},
   "outputs": [],
   "source": [
    "try:\n",
    "  with open(\"ca.txt\", \"r\", encoding=\"utf-8\") as file:\n",
    "    sample_text = file.read()\n",
    "    print(sample_text)\n",
    "except:\n",
    "  print(\"There is not such a file  or path is incorrect\")"
   ]
  }
 ],
 "metadata": {
  "language_info": {
   "name": "python"
  },
  "orig_nbformat": 4
 },
 "nbformat": 4,
 "nbformat_minor": 2
}
