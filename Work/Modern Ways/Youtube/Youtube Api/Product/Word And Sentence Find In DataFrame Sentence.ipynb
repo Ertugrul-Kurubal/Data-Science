{
 "cells": [
  {
   "cell_type": "markdown",
   "metadata": {},
   "source": [
    "### Word In DataFrame"
   ]
  },
  {
   "cell_type": "code",
   "execution_count": 1,
   "metadata": {},
   "outputs": [],
   "source": [
    "import pandas as pd\n",
    "import numpy as np"
   ]
  },
  {
   "cell_type": "code",
   "execution_count": 2,
   "metadata": {},
   "outputs": [
    {
     "data": {
      "text/html": [
       "<div>\n",
       "<style scoped>\n",
       "    .dataframe tbody tr th:only-of-type {\n",
       "        vertical-align: middle;\n",
       "    }\n",
       "\n",
       "    .dataframe tbody tr th {\n",
       "        vertical-align: top;\n",
       "    }\n",
       "\n",
       "    .dataframe thead th {\n",
       "        text-align: right;\n",
       "    }\n",
       "</style>\n",
       "<table border=\"1\" class=\"dataframe\">\n",
       "  <thead>\n",
       "    <tr style=\"text-align: right;\">\n",
       "      <th></th>\n",
       "      <th>start_time</th>\n",
       "      <th>end_time</th>\n",
       "      <th>sentence</th>\n",
       "      <th>video_id</th>\n",
       "    </tr>\n",
       "  </thead>\n",
       "  <tbody>\n",
       "    <tr>\n",
       "      <th>0</th>\n",
       "      <td>00:00:06.680</td>\n",
       "      <td>00:00:07.340</td>\n",
       "      <td>sen kimsin peki</td>\n",
       "      <td>JR7nKXxUVtM</td>\n",
       "    </tr>\n",
       "    <tr>\n",
       "      <th>1</th>\n",
       "      <td>00:00:07.340</td>\n",
       "      <td>00:00:08.600</td>\n",
       "      <td>parolayı söyle</td>\n",
       "      <td>JR7nKXxUVtM</td>\n",
       "    </tr>\n",
       "    <tr>\n",
       "      <th>2</th>\n",
       "      <td>00:00:09.440</td>\n",
       "      <td>00:00:11.060</td>\n",
       "      <td>ya ben kim olacağım</td>\n",
       "      <td>JR7nKXxUVtM</td>\n",
       "    </tr>\n",
       "    <tr>\n",
       "      <th>3</th>\n",
       "      <td>00:00:11.060</td>\n",
       "      <td>00:00:11.860</td>\n",
       "      <td>keloğlan ım</td>\n",
       "      <td>JR7nKXxUVtM</td>\n",
       "    </tr>\n",
       "    <tr>\n",
       "      <th>4</th>\n",
       "      <td>00:00:13.380</td>\n",
       "      <td>00:00:13.880</td>\n",
       "      <td>ey</td>\n",
       "      <td>JR7nKXxUVtM</td>\n",
       "    </tr>\n",
       "    <tr>\n",
       "      <th>...</th>\n",
       "      <td>...</td>\n",
       "      <td>...</td>\n",
       "      <td>...</td>\n",
       "      <td>...</td>\n",
       "    </tr>\n",
       "    <tr>\n",
       "      <th>387903</th>\n",
       "      <td>00:02:11.720</td>\n",
       "      <td>00:02:14.440</td>\n",
       "      <td>gözlerin bir an bile çıkmadı aklımdan</td>\n",
       "      <td>7R3K6EDaBGE</td>\n",
       "    </tr>\n",
       "    <tr>\n",
       "      <th>387904</th>\n",
       "      <td>00:02:15.560</td>\n",
       "      <td>00:02:19.320</td>\n",
       "      <td>koynumdaysa hala o ufak bin lira</td>\n",
       "      <td>7R3K6EDaBGE</td>\n",
       "    </tr>\n",
       "    <tr>\n",
       "      <th>387905</th>\n",
       "      <td>00:02:20.320</td>\n",
       "      <td>00:02:21.200</td>\n",
       "      <td>sahi</td>\n",
       "      <td>7R3K6EDaBGE</td>\n",
       "    </tr>\n",
       "    <tr>\n",
       "      <th>387906</th>\n",
       "      <td>00:02:21.720</td>\n",
       "      <td>00:02:24.480</td>\n",
       "      <td>diğer eşi sende mi hala</td>\n",
       "      <td>7R3K6EDaBGE</td>\n",
       "    </tr>\n",
       "    <tr>\n",
       "      <th>387907</th>\n",
       "      <td>00:02:30.000</td>\n",
       "      <td>00:02:35.000</td>\n",
       "      <td>ufak bin lira</td>\n",
       "      <td>7R3K6EDaBGE</td>\n",
       "    </tr>\n",
       "  </tbody>\n",
       "</table>\n",
       "<p>387908 rows × 4 columns</p>\n",
       "</div>"
      ],
      "text/plain": [
       "          start_time      end_time                               sentence  \\\n",
       "0       00:00:06.680  00:00:07.340                        sen kimsin peki   \n",
       "1       00:00:07.340  00:00:08.600                         parolayı söyle   \n",
       "2       00:00:09.440  00:00:11.060                    ya ben kim olacağım   \n",
       "3       00:00:11.060  00:00:11.860                            keloğlan ım   \n",
       "4       00:00:13.380  00:00:13.880                                     ey   \n",
       "...              ...           ...                                    ...   \n",
       "387903  00:02:11.720  00:02:14.440  gözlerin bir an bile çıkmadı aklımdan   \n",
       "387904  00:02:15.560  00:02:19.320       koynumdaysa hala o ufak bin lira   \n",
       "387905  00:02:20.320  00:02:21.200                                   sahi   \n",
       "387906  00:02:21.720  00:02:24.480                diğer eşi sende mi hala   \n",
       "387907  00:02:30.000  00:02:35.000                          ufak bin lira   \n",
       "\n",
       "           video_id  \n",
       "0       JR7nKXxUVtM  \n",
       "1       JR7nKXxUVtM  \n",
       "2       JR7nKXxUVtM  \n",
       "3       JR7nKXxUVtM  \n",
       "4       JR7nKXxUVtM  \n",
       "...             ...  \n",
       "387903  7R3K6EDaBGE  \n",
       "387904  7R3K6EDaBGE  \n",
       "387905  7R3K6EDaBGE  \n",
       "387906  7R3K6EDaBGE  \n",
       "387907  7R3K6EDaBGE  \n",
       "\n",
       "[387908 rows x 4 columns]"
      ]
     },
     "execution_count": 2,
     "metadata": {},
     "output_type": "execute_result"
    }
   ],
   "source": [
    "df_youtube_sentence = pd.read_csv(\"Clean_Youtube_Sentence_Merge_Result.csv\")\n",
    "df_youtube_sentence"
   ]
  },
  {
   "cell_type": "markdown",
   "metadata": {},
   "source": [
    "#### Word"
   ]
  },
  {
   "cell_type": "code",
   "execution_count": 15,
   "metadata": {},
   "outputs": [],
   "source": [
    "#word_list = ['geçmiş','yengeçler','küçük','tarık','darıca','yüzgeçleri', 'güle', 'göreceğiniz', 'bensiz']\n",
    "word_list = ['her şey yolunda']"
   ]
  },
  {
   "cell_type": "code",
   "execution_count": 16,
   "metadata": {},
   "outputs": [],
   "source": [
    "df_word_result = pd.DataFrame()\n",
    "for i in word_list:\n",
    "    word_in_video = df_youtube_sentence[df_youtube_sentence.sentence.str.contains(fr\"(?:\\s|^){i}(?:\\s|$)\", na=True)].head(10)\n",
    "    word_in_video.insert(0,\"word\",i)\n",
    "    df_word_result = pd.concat([df_word_result,word_in_video], axis=0)"
   ]
  },
  {
   "cell_type": "code",
   "execution_count": 18,
   "metadata": {},
   "outputs": [
    {
     "data": {
      "text/html": [
       "<div>\n",
       "<style scoped>\n",
       "    .dataframe tbody tr th:only-of-type {\n",
       "        vertical-align: middle;\n",
       "    }\n",
       "\n",
       "    .dataframe tbody tr th {\n",
       "        vertical-align: top;\n",
       "    }\n",
       "\n",
       "    .dataframe thead th {\n",
       "        text-align: right;\n",
       "    }\n",
       "</style>\n",
       "<table border=\"1\" class=\"dataframe\">\n",
       "  <thead>\n",
       "    <tr style=\"text-align: right;\">\n",
       "      <th></th>\n",
       "      <th>word</th>\n",
       "      <th>start_time</th>\n",
       "      <th>end_time</th>\n",
       "      <th>sentence</th>\n",
       "      <th>video_id</th>\n",
       "    </tr>\n",
       "  </thead>\n",
       "  <tbody>\n",
       "    <tr>\n",
       "      <th>14074</th>\n",
       "      <td>her şey yolunda</td>\n",
       "      <td>00:01:07.294</td>\n",
       "      <td>00:01:12.004</td>\n",
       "      <td>nasıl gidiyor o iyi her şey yolunda</td>\n",
       "      <td>ud9s8aerIJE</td>\n",
       "    </tr>\n",
       "    <tr>\n",
       "      <th>17464</th>\n",
       "      <td>her şey yolunda</td>\n",
       "      <td>00:02:23.287</td>\n",
       "      <td>00:02:33.391</td>\n",
       "      <td>herhangi bir şikayetiniz yok değil mi her şey ...</td>\n",
       "      <td>gOq59m1pUi4</td>\n",
       "    </tr>\n",
       "    <tr>\n",
       "      <th>18950</th>\n",
       "      <td>her şey yolunda</td>\n",
       "      <td>00:16:16.820</td>\n",
       "      <td>00:16:18.020</td>\n",
       "      <td>her şey yolunda mı</td>\n",
       "      <td>6FtA8_D7Ynw</td>\n",
       "    </tr>\n",
       "    <tr>\n",
       "      <th>21154</th>\n",
       "      <td>her şey yolunda</td>\n",
       "      <td>00:05:32.360</td>\n",
       "      <td>00:05:33.780</td>\n",
       "      <td>sevgi her şey yolunda mı</td>\n",
       "      <td>OPfevmWgETE</td>\n",
       "    </tr>\n",
       "    <tr>\n",
       "      <th>26088</th>\n",
       "      <td>her şey yolunda</td>\n",
       "      <td>00:05:15.280</td>\n",
       "      <td>00:05:20.149</td>\n",
       "      <td>kısa bir inceleme ile her şey yolunda görünüyo...</td>\n",
       "      <td>_20u1qh4nSk</td>\n",
       "    </tr>\n",
       "    <tr>\n",
       "      <th>26404</th>\n",
       "      <td>her şey yolunda</td>\n",
       "      <td>00:02:24.938</td>\n",
       "      <td>00:02:27.559</td>\n",
       "      <td>herhangi bir şikayetimiz yok değil mi her şey ...</td>\n",
       "      <td>BsRzeONLa28</td>\n",
       "    </tr>\n",
       "    <tr>\n",
       "      <th>30510</th>\n",
       "      <td>her şey yolunda</td>\n",
       "      <td>00:07:40.320</td>\n",
       "      <td>00:07:42.860</td>\n",
       "      <td>sıkıntı yok gayet iyi her şey yolunda</td>\n",
       "      <td>CNPzcVvZ1nU</td>\n",
       "    </tr>\n",
       "    <tr>\n",
       "      <th>31492</th>\n",
       "      <td>her şey yolunda</td>\n",
       "      <td>00:17:19.348</td>\n",
       "      <td>00:17:25.208</td>\n",
       "      <td>endişelenme her şey yolunda dedi ve sonra başk...</td>\n",
       "      <td>b39EUtXn88M</td>\n",
       "    </tr>\n",
       "    <tr>\n",
       "      <th>32330</th>\n",
       "      <td>her şey yolunda</td>\n",
       "      <td>00:08:30.080</td>\n",
       "      <td>00:08:33.695</td>\n",
       "      <td>sonra her şey yolunda sonra görüşürüz kendine ...</td>\n",
       "      <td>FCStjeSY5R0</td>\n",
       "    </tr>\n",
       "    <tr>\n",
       "      <th>32871</th>\n",
       "      <td>her şey yolunda</td>\n",
       "      <td>00:23:04.160</td>\n",
       "      <td>00:23:07.380</td>\n",
       "      <td>mamasını da yemiş her şey yolunda dün serum al...</td>\n",
       "      <td>GjlduZjqHxA</td>\n",
       "    </tr>\n",
       "  </tbody>\n",
       "</table>\n",
       "</div>"
      ],
      "text/plain": [
       "                  word    start_time      end_time  \\\n",
       "14074  her şey yolunda  00:01:07.294  00:01:12.004   \n",
       "17464  her şey yolunda  00:02:23.287  00:02:33.391   \n",
       "18950  her şey yolunda  00:16:16.820  00:16:18.020   \n",
       "21154  her şey yolunda  00:05:32.360  00:05:33.780   \n",
       "26088  her şey yolunda  00:05:15.280  00:05:20.149   \n",
       "26404  her şey yolunda  00:02:24.938  00:02:27.559   \n",
       "30510  her şey yolunda  00:07:40.320  00:07:42.860   \n",
       "31492  her şey yolunda  00:17:19.348  00:17:25.208   \n",
       "32330  her şey yolunda  00:08:30.080  00:08:33.695   \n",
       "32871  her şey yolunda  00:23:04.160  00:23:07.380   \n",
       "\n",
       "                                                sentence     video_id  \n",
       "14074                nasıl gidiyor o iyi her şey yolunda  ud9s8aerIJE  \n",
       "17464  herhangi bir şikayetiniz yok değil mi her şey ...  gOq59m1pUi4  \n",
       "18950                                 her şey yolunda mı  6FtA8_D7Ynw  \n",
       "21154                           sevgi her şey yolunda mı  OPfevmWgETE  \n",
       "26088  kısa bir inceleme ile her şey yolunda görünüyo...  _20u1qh4nSk  \n",
       "26404  herhangi bir şikayetimiz yok değil mi her şey ...  BsRzeONLa28  \n",
       "30510              sıkıntı yok gayet iyi her şey yolunda  CNPzcVvZ1nU  \n",
       "31492  endişelenme her şey yolunda dedi ve sonra başk...  b39EUtXn88M  \n",
       "32330  sonra her şey yolunda sonra görüşürüz kendine ...  FCStjeSY5R0  \n",
       "32871  mamasını da yemiş her şey yolunda dün serum al...  GjlduZjqHxA  "
      ]
     },
     "execution_count": 18,
     "metadata": {},
     "output_type": "execute_result"
    }
   ],
   "source": [
    "df_word_result"
   ]
  },
  {
   "cell_type": "code",
   "execution_count": 19,
   "metadata": {},
   "outputs": [],
   "source": [
    "df_word_result.to_excel(\"Youtube_Sample.xlsx\", index=False)"
   ]
  },
  {
   "cell_type": "code",
   "execution_count": 20,
   "metadata": {},
   "outputs": [
    {
     "data": {
      "text/plain": [
       "['ud9s8aerIJE',\n",
       " 'gOq59m1pUi4',\n",
       " '6FtA8_D7Ynw',\n",
       " 'OPfevmWgETE',\n",
       " '_20u1qh4nSk',\n",
       " 'BsRzeONLa28',\n",
       " 'CNPzcVvZ1nU',\n",
       " 'b39EUtXn88M',\n",
       " 'FCStjeSY5R0',\n",
       " 'GjlduZjqHxA']"
      ]
     },
     "execution_count": 20,
     "metadata": {},
     "output_type": "execute_result"
    }
   ],
   "source": [
    "df_word_result.video_id.to_list()"
   ]
  },
  {
   "cell_type": "code",
   "execution_count": 21,
   "metadata": {},
   "outputs": [
    {
     "data": {
      "text/plain": [
       "['00:01:07.294',\n",
       " '00:02:23.287',\n",
       " '00:16:16.820',\n",
       " '00:05:32.360',\n",
       " '00:05:15.280',\n",
       " '00:02:24.938',\n",
       " '00:07:40.320',\n",
       " '00:17:19.348',\n",
       " '00:08:30.080',\n",
       " '00:23:04.160']"
      ]
     },
     "execution_count": 21,
     "metadata": {},
     "output_type": "execute_result"
    }
   ],
   "source": [
    "df_word_result.start_time.to_list()"
   ]
  },
  {
   "cell_type": "code",
   "execution_count": 22,
   "metadata": {},
   "outputs": [
    {
     "data": {
      "text/plain": [
       "['00:01:12.004',\n",
       " '00:02:33.391',\n",
       " '00:16:18.020',\n",
       " '00:05:33.780',\n",
       " '00:05:20.149',\n",
       " '00:02:27.559',\n",
       " '00:07:42.860',\n",
       " '00:17:25.208',\n",
       " '00:08:33.695',\n",
       " '00:23:07.380']"
      ]
     },
     "execution_count": 22,
     "metadata": {},
     "output_type": "execute_result"
    }
   ],
   "source": [
    "df_word_result.end_time.to_list()"
   ]
  },
  {
   "cell_type": "code",
   "execution_count": null,
   "metadata": {},
   "outputs": [],
   "source": [
    "for i in range(len(df_word_result)):\n",
    "    start_time = df_word_result.iloc[:,1]\n",
    "    end_time = df_word_result.iloc[:,2]\n",
    "    video_id = df_word_result.iloc[:,4]    "
   ]
  },
  {
   "cell_type": "markdown",
   "metadata": {},
   "source": [
    "#### Sentence N-Gram"
   ]
  },
  {
   "cell_type": "code",
   "execution_count": 21,
   "metadata": {},
   "outputs": [],
   "source": [
    "sent_list = [\"metrelik  kumluk\", \"hadi  geçmiş  olsun\", \"bugünüm  sensiz  geçti\"]"
   ]
  },
  {
   "cell_type": "code",
   "execution_count": 22,
   "metadata": {},
   "outputs": [],
   "source": [
    "df_sent_result = pd.DataFrame()\n",
    "for i in sent_list:\n",
    "    sent_in_video = df_youtube_sentence[df_youtube_sentence.sentence.str.contains(fr\"\\s{i}\\s\", na=True)].head(10)\n",
    "    sent_in_video.insert(0,\"sent_ngram\",i)\n",
    "    df_sent_result = pd.concat([df_sent_result,sent_in_video], axis=0)"
   ]
  },
  {
   "cell_type": "code",
   "execution_count": 23,
   "metadata": {},
   "outputs": [
    {
     "data": {
      "text/html": [
       "<div>\n",
       "<style scoped>\n",
       "    .dataframe tbody tr th:only-of-type {\n",
       "        vertical-align: middle;\n",
       "    }\n",
       "\n",
       "    .dataframe tbody tr th {\n",
       "        vertical-align: top;\n",
       "    }\n",
       "\n",
       "    .dataframe thead th {\n",
       "        text-align: right;\n",
       "    }\n",
       "</style>\n",
       "<table border=\"1\" class=\"dataframe\">\n",
       "  <thead>\n",
       "    <tr style=\"text-align: right;\">\n",
       "      <th></th>\n",
       "      <th>sent_ngram</th>\n",
       "      <th>start_time</th>\n",
       "      <th>end_time</th>\n",
       "      <th>sentence</th>\n",
       "      <th>video_id</th>\n",
       "    </tr>\n",
       "  </thead>\n",
       "  <tbody>\n",
       "    <tr>\n",
       "      <th>6</th>\n",
       "      <td>metrelik  kumluk</td>\n",
       "      <td>00:00:27.887</td>\n",
       "      <td>00:00:30.714</td>\n",
       "      <td>beş  metrelik  kumluk  bir  alana  dalış  yapı...</td>\n",
       "      <td>WdX1_wNUj0E</td>\n",
       "    </tr>\n",
       "    <tr>\n",
       "      <th>289</th>\n",
       "      <td>hadi  geçmiş  olsun</td>\n",
       "      <td>00:11:01.910</td>\n",
       "      <td>00:11:03.910</td>\n",
       "      <td>hadi  geçmiş  olsun, güle  güle.</td>\n",
       "      <td>4CxHodWJCAc</td>\n",
       "    </tr>\n",
       "    <tr>\n",
       "      <th>434</th>\n",
       "      <td>bugünüm  sensiz  geçti</td>\n",
       "      <td>00:00:44.060</td>\n",
       "      <td>00:00:50.000</td>\n",
       "      <td>bugünüm  sensiz  geçti.</td>\n",
       "      <td>c1QvY3X64qM</td>\n",
       "    </tr>\n",
       "    <tr>\n",
       "      <th>472</th>\n",
       "      <td>bugünüm  sensiz  geçti</td>\n",
       "      <td>00:04:10.320</td>\n",
       "      <td>00:04:22.780</td>\n",
       "      <td>bugünüm  sensiz  geçti.</td>\n",
       "      <td>c1QvY3X64qM</td>\n",
       "    </tr>\n",
       "  </tbody>\n",
       "</table>\n",
       "</div>"
      ],
      "text/plain": [
       "                 sent_ngram    start_time      end_time  \\\n",
       "6          metrelik  kumluk  00:00:27.887  00:00:30.714   \n",
       "289     hadi  geçmiş  olsun  00:11:01.910  00:11:03.910   \n",
       "434  bugünüm  sensiz  geçti  00:00:44.060  00:00:50.000   \n",
       "472  bugünüm  sensiz  geçti  00:04:10.320  00:04:22.780   \n",
       "\n",
       "                                              sentence     video_id  \n",
       "6    beş  metrelik  kumluk  bir  alana  dalış  yapı...  WdX1_wNUj0E  \n",
       "289                   hadi  geçmiş  olsun, güle  güle.  4CxHodWJCAc  \n",
       "434                            bugünüm  sensiz  geçti.  c1QvY3X64qM  \n",
       "472                            bugünüm  sensiz  geçti.  c1QvY3X64qM  "
      ]
     },
     "execution_count": 23,
     "metadata": {},
     "output_type": "execute_result"
    }
   ],
   "source": [
    "df_sent_result"
   ]
  },
  {
   "cell_type": "code",
   "execution_count": null,
   "metadata": {},
   "outputs": [],
   "source": []
  }
 ],
 "metadata": {
  "interpreter": {
   "hash": "651d507d70892fab0fc6529d935cd476f6e2eb1791525b76da6cc8da34bc0503"
  },
  "kernelspec": {
   "display_name": "Python 3.9.5 64-bit ('py39': conda)",
   "language": "python",
   "name": "python3"
  },
  "language_info": {
   "codemirror_mode": {
    "name": "ipython",
    "version": 3
   },
   "file_extension": ".py",
   "mimetype": "text/x-python",
   "name": "python",
   "nbconvert_exporter": "python",
   "pygments_lexer": "ipython3",
   "version": "3.9.5"
  },
  "orig_nbformat": 4
 },
 "nbformat": 4,
 "nbformat_minor": 2
}
