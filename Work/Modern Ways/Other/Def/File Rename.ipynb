{
 "cells": [
  {
   "attachments": {},
   "cell_type": "markdown",
   "metadata": {},
   "source": [
    "### File Rename"
   ]
  },
  {
   "attachments": {},
   "cell_type": "markdown",
   "metadata": {},
   "source": [
    "This notebook is used to clean renaming files."
   ]
  },
  {
   "cell_type": "code",
   "execution_count": 12,
   "metadata": {},
   "outputs": [],
   "source": [
    "import unicodedata\n",
    "import os\n",
    "#import os.path\n",
    "import sys\n",
    "import re\n",
    "import numpy as np\n",
    "import pandas as pd\n",
    "from pathlib import Path\n",
    "import nltk\n",
    "from nltk import word_tokenize \n",
    "import shutil\n",
    "from os.path import isfile, join"
   ]
  },
  {
   "cell_type": "code",
   "execution_count": 13,
   "metadata": {},
   "outputs": [],
   "source": [
    "# custom character alphabet for word\n",
    "tr = re.compile(r\"[abcçdefgğhıijklmnoöprsştuüvyzqxw]+\", re.IGNORECASE|re.UNICODE) # Turkish filters='!\"#$%&()*+,-./:;<=>?@[\\\\]^_`{|}~\\t\\n0123456789'\n",
    "en = re.compile(r\"[abcdefghıijklmnopqrstxuvwyz]+\", re.IGNORECASE|re.UNICODE) # English\n",
    "nl = re.compile(r\"[abcdefghıijklmnopqrstxuvwyzāăēĕīĭōŏūŭ]+\", re.IGNORECASE|re.UNICODE) # Dutch (Flemenk)\n",
    "fr = re.compile(r\"[abcçdefghıijklmnopqrstxuvwyzàâæèéêëîïôœùûüÿ]+\", re.IGNORECASE|re.UNICODE) # French\n",
    "de = re.compile(r\"[abcdefghıijklmnopqrstxuvwyzäöüß]+\", re.IGNORECASE|re.UNICODE) # German\n",
    "es = re.compile(r\"[abcdefghıijklmnopqrstxuvwyzñáéíóú]+\", re.IGNORECASE|re.UNICODE) # Spanish (¿¡)\n",
    "pt = re.compile(r\"[abcçdefghıijklmnopqrstxuvwyzàáâãéêíóôõú]+\", re.IGNORECASE|re.UNICODE) # Portuguese\n",
    "it = re.compile(r\"[abcdefghıijklmnopqrstxuvwyzàéèìòùî]+\", re.IGNORECASE|re.UNICODE) # Italian\n",
    "ar = re.compile(r\"[ٿصؼۤڳڲؿڎػڠجڿ٬ٸؽؒؓطۄڀۂؘؔتٚڛےٝڜؖڦ٫ډ۰زۇٖۀ،لۓعٮێڔ۶ؚۧۜڤۏإٞٷؗۖ؈ژۣؕؑٴأۻڸۺگاڴڹۯ؉ْڌ؍ي؟ـٟړۅؐڶُىڽېًۢؠضۚڄٛڏٱۦ٩س٦ڼڂٔۘ٠ښٌٍ۬ٳ۾ٲږذۋٵٜ٘ڞڅںٗهڣۿپڒۥۗڋیؙم؞ثۨٹڵڪظٶۭ١ڭەڨحٕ؎ٺڷٰ۪۫ڻڥۛڑڟټآڡغګ؊ّٯڧڮ؏ۮ؋ؤ٪ؾڗۼق۟دکوِڰڐۃ۽ہفرڇچڝ۴بۈٽڕۡھةٓڃئ؛ڬٙڙڢڱۊَۆۉځ۠ۍۑۙڊنءڈٻشڍ؇۵كخ\\ا]+\", re.IGNORECASE|re.UNICODE) # Arabic"
   ]
  },
  {
   "cell_type": "code",
   "execution_count": 14,
   "metadata": {},
   "outputs": [
    {
     "name": "stdout",
     "output_type": "stream",
     "text": [
      "Turkish\n",
      "re.compile('[abcçdefgğhıijklmnoöprsştuüvyzqxw]+', re.IGNORECASE)\n"
     ]
    }
   ],
   "source": [
    "folder_name = \"Turkish\"  # English, Turkish, German, French, Spanish, Arabic, Portuguese, Dutch, Italian\n",
    " \n",
    "if folder_name == \"English\":\n",
    "    custom_alp = en\n",
    "elif folder_name == \"Turkish\":\n",
    "    custom_alp = tr\n",
    "elif folder_name == \"German\":\n",
    "    custom_alp = de\n",
    "elif folder_name == \"French\":\n",
    "    custom_alp = fr\n",
    "elif folder_name == \"Spanish\":\n",
    "    custom_alp = es\n",
    "elif folder_name == \"Arabic\":\n",
    "    custom_alp = ar\n",
    "elif folder_name == \"Portuguese\":\n",
    "    custom_alp = pt\n",
    "elif folder_name == \"Dutch\":\n",
    "    custom_alp = nl\n",
    "elif folder_name == \"Italian\":\n",
    "    custom_alp = it\n",
    "else:\n",
    "    pass\n",
    "#custom_alp = tr  # en, tr, de, fr, es, ar, pt, nl, it\n",
    "print(f\"{folder_name}\\n{custom_alp}\") "
   ]
  },
  {
   "cell_type": "code",
   "execution_count": null,
   "metadata": {},
   "outputs": [],
   "source": []
  },
  {
   "attachments": {},
   "cell_type": "markdown",
   "metadata": {},
   "source": [
    "#### Functions"
   ]
  },
  {
   "cell_type": "code",
   "execution_count": 15,
   "metadata": {},
   "outputs": [],
   "source": [
    "def convert_one_character_letter(text):\n",
    "    '''\n",
    "    This function converts two byte occupy of letter to one byte unicode character without any visual change \\n\n",
    "    like as Turkish character ç,ş,ö,ğ. \\n\n",
    "    convert_one_character_letter(text): text is any string word or sentence.\n",
    "    '''\n",
    "    new_text = unicodedata.normalize('NFC', f\"{text}\")\n",
    "    return new_text"
   ]
  },
  {
   "cell_type": "code",
   "execution_count": 17,
   "metadata": {},
   "outputs": [],
   "source": [
    "def clean_text_pro(text, custom_alp): # for only string in specific language\n",
    "    #text_clean = re.findall(custom_alp, text)\n",
    "    text_clean = re.findall(custom_alp, str(text))\n",
    "    text_result = \" \".join(text_clean)\n",
    "    return text_result"
   ]
  },
  {
   "cell_type": "code",
   "execution_count": 24,
   "metadata": {},
   "outputs": [],
   "source": [
    "def rename_edit_file(file_path, rename_edit_folder=\"Rename\", old_file_del = False, rename_file_orj = True, file_name_ref = \"Sample\", file_ref_start = 1):\n",
    "    '''\n",
    "    rename_edit_file(file_path, rename_edit_folder=\"Rename\", old_file_del = False, rename_file_orj = True, file_name_ref = \"Sample\", file_ref_start = 1)\\n\n",
    "    '''\n",
    "    file_path_var = os.path.dirname(f\"{file_path}\")\n",
    "    file_path_rename = os.path.join(file_path_var, rename_edit_folder)\n",
    "    Path(file_path_rename).mkdir(parents=True, exist_ok=True)\n",
    "    file_list = os.listdir(file_path)\n",
    "\n",
    "    for file in file_list:\n",
    "    # file and extention\n",
    "        file_without_ext = os.path.splitext(file)[0]\n",
    "        file_ext = os.path.splitext(file)[1]\n",
    "        # file clean and join\n",
    "        file_without_ext_one = convert_one_character_letter(file_without_ext)\n",
    "        file_without_ext_clean = clean_text_pro(file_without_ext_one, custom_alp)\n",
    "        # filename tokenize\n",
    "        word_list = word_tokenize(file_without_ext_clean)\n",
    "        file_without_ext_new = \" \".join(word_list)\n",
    "        #file_new = f\"{file_without_ext_new.lower()}{file_ext}\"\n",
    "        file_new = f\"{file_without_ext_new.title()}{file_ext}\"  # title() for each words begin capital letter\n",
    "        file_new_var = f\"{file_name_ref.title()}{file_ref_start}{file_ext}\"\n",
    "        # check move rename delete\n",
    "        if isfile(f\"{file_path_rename}/{file_new}\"):\n",
    "            pass\n",
    "        else:\n",
    "            source_file = f\"{file_path}/{file}\"\n",
    "            destination_path = f\"{file_path_rename}\"        \n",
    "            shutil.copy2(source_file, destination_path)\n",
    "            if old_file_del:\n",
    "                os.remove(source_file)\n",
    "            else:\n",
    "                pass\n",
    "            if rename_file_orj:\n",
    "                source_dest_file = f\"{destination_path}/{file}\"\n",
    "                target_dest_file = f\"{destination_path}/{file_new}\"\n",
    "                os.rename(source_dest_file, target_dest_file)\n",
    "            else:\n",
    "                source_dest_file = f\"{destination_path}/{file}\"\n",
    "                target_dest_file = f\"{destination_path}/{file_new_var}\"\n",
    "                os.rename(source_dest_file, target_dest_file)\n",
    "        file_ref_start +=1"
   ]
  },
  {
   "cell_type": "code",
   "execution_count": null,
   "metadata": {},
   "outputs": [],
   "source": []
  },
  {
   "attachments": {},
   "cell_type": "markdown",
   "metadata": {},
   "source": [
    "#### Files"
   ]
  },
  {
   "cell_type": "code",
   "execution_count": null,
   "metadata": {},
   "outputs": [
    {
     "data": {
      "text/plain": [
       "'C:\\\\Users\\\\Ertuğrul\\\\Documents\\\\Spec\\\\Yeni'"
      ]
     },
     "execution_count": 25,
     "metadata": {},
     "output_type": "execute_result"
    }
   ],
   "source": [
    "file_path = \"C:\\\\Users\\\\Ertuğrul\\\\Documents\\\\Spec\\\\Yeni\"  # r\"C:\\Users\\Ertuğrul\\Documents\"\n",
    "file_path"
   ]
  },
  {
   "cell_type": "code",
   "execution_count": 28,
   "metadata": {},
   "outputs": [],
   "source": [
    "rename_edit_file(file_path, rename_edit_folder=\"Images\", old_file_del = False, rename_file_orj = False, file_name_ref = \"Sample\", file_ref_start = 1)"
   ]
  },
  {
   "cell_type": "code",
   "execution_count": null,
   "metadata": {},
   "outputs": [],
   "source": []
  },
  {
   "cell_type": "code",
   "execution_count": null,
   "metadata": {},
   "outputs": [],
   "source": []
  },
  {
   "cell_type": "code",
   "execution_count": null,
   "metadata": {},
   "outputs": [],
   "source": []
  },
  {
   "cell_type": "code",
   "execution_count": null,
   "metadata": {},
   "outputs": [],
   "source": []
  },
  {
   "cell_type": "code",
   "execution_count": null,
   "metadata": {},
   "outputs": [],
   "source": []
  },
  {
   "attachments": {},
   "cell_type": "markdown",
   "metadata": {},
   "source": [
    "#### Temp"
   ]
  },
  {
   "cell_type": "code",
   "execution_count": null,
   "metadata": {},
   "outputs": [],
   "source": [
    "file_path = r\"C:\\Users\\Ertuğrul\\Documents\""
   ]
  },
  {
   "cell_type": "code",
   "execution_count": null,
   "metadata": {},
   "outputs": [
    {
     "data": {
      "text/plain": [
       "'C:\\\\Users\\\\Ertuğrul'"
      ]
     },
     "metadata": {},
     "output_type": "display_data"
    }
   ],
   "source": [
    "file_path_var = os.path.dirname(f\"{file_path}\")\n",
    "file_path_var"
   ]
  },
  {
   "cell_type": "code",
   "execution_count": null,
   "metadata": {},
   "outputs": [],
   "source": [
    "rename_edit_folder=\"Raname\""
   ]
  },
  {
   "cell_type": "code",
   "execution_count": null,
   "metadata": {},
   "outputs": [
    {
     "data": {
      "text/plain": [
       "'C:\\\\Users\\\\Ertuğrul\\\\Raname'"
      ]
     },
     "metadata": {},
     "output_type": "display_data"
    }
   ],
   "source": [
    "file_path_rename = os.path.join(file_path_var, rename_edit_folder)\n",
    "file_path_rename"
   ]
  },
  {
   "cell_type": "code",
   "execution_count": null,
   "metadata": {},
   "outputs": [],
   "source": []
  }
 ],
 "metadata": {
  "kernelspec": {
   "display_name": "Python 3.9.5 ('py39')",
   "language": "python",
   "name": "python3"
  },
  "language_info": {
   "codemirror_mode": {
    "name": "ipython",
    "version": 3
   },
   "file_extension": ".py",
   "mimetype": "text/x-python",
   "name": "python",
   "nbconvert_exporter": "python",
   "pygments_lexer": "ipython3",
   "version": "3.9.0"
  },
  "vscode": {
   "interpreter": {
    "hash": "651d507d70892fab0fc6529d935cd476f6e2eb1791525b76da6cc8da34bc0503"
   }
  }
 },
 "nbformat": 4,
 "nbformat_minor": 2
}
