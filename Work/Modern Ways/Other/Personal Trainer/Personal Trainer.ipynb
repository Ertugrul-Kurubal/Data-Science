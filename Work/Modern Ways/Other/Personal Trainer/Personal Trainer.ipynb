{
 "cells": [
  {
   "cell_type": "markdown",
   "metadata": {},
   "source": [
    "### Trainer Sample"
   ]
  },
  {
   "cell_type": "markdown",
   "metadata": {},
   "source": [
    "#### Solo Learn"
   ]
  },
  {
   "cell_type": "markdown",
   "metadata": {},
   "source": [
    "##### Exceptions & Files"
   ]
  },
  {
   "cell_type": "code",
   "execution_count": 4,
   "metadata": {},
   "outputs": [
    {
     "name": "stdout",
     "output_type": "stream",
     "text": [
      "5.0\n",
      "Finished\n"
     ]
    }
   ],
   "source": [
    "try:\n",
    "    variable = 10\n",
    "    print (10 / 2)\n",
    "except ZeroDivisionError:\n",
    "    print(\"Error\")\n",
    "print(\"Finished\")"
   ]
  },
  {
   "cell_type": "code",
   "execution_count": 5,
   "metadata": {},
   "outputs": [
    {
     "name": "stdout",
     "output_type": "stream",
     "text": [
      "Error occurred\n"
     ]
    }
   ],
   "source": [
    "try:\n",
    "    variable = 10\n",
    "    print(variable + \"hello\")\n",
    "    print(variable / 2)\n",
    "except ZeroDivisionError:\n",
    "    print(\"Divided by zero\")\n",
    "except (ValueError, TypeError):\n",
    "    print(\"Error occurred\")"
   ]
  },
  {
   "cell_type": "code",
   "execution_count": 7,
   "metadata": {},
   "outputs": [
    {
     "name": "stdout",
     "output_type": "stream",
     "text": [
      "Divided by zero\n"
     ]
    }
   ],
   "source": [
    "try:\n",
    "    meaning = 42\n",
    "    print(meaning / 0)\n",
    "    print(\"the meaning of life\")\n",
    "except (ValueError, TypeError):\n",
    "    print(\"ValueError or TypeError occurred\")\n",
    "except ZeroDivisionError:\n",
    "    print(\"Divided by zero\")"
   ]
  },
  {
   "cell_type": "code",
   "execution_count": 9,
   "metadata": {},
   "outputs": [
    {
     "name": "stdout",
     "output_type": "stream",
     "text": [
      "PIN code is creeated\n"
     ]
    }
   ],
   "source": [
    "pin = input()\n",
    "try:\n",
    "\t#your code goes here\n",
    "\tif pin.isnumeric():\n",
    "\t\tprint(\"PIN code is creeated\")\n",
    "\telse:\n",
    "\t\tprint(\"Please enter a number\")\t\n",
    "\n",
    "except ValueError:\n",
    "\t#and here\n",
    "\tprint(\"Error\")"
   ]
  },
  {
   "cell_type": "code",
   "execution_count": 3,
   "metadata": {},
   "outputs": [
    {
     "name": "stdout",
     "output_type": "stream",
     "text": [
      "Invalid number\n",
      "Have a good day\n"
     ]
    }
   ],
   "source": [
    "coffee = [\"Café Latte\", \"Caffe Americano\", \"Espresso\", \"Cappuccino\", \"Macchiato\"]\n",
    "\n",
    "choice = int(input())\n",
    "\n",
    "try:\n",
    "\t#your code goes here\n",
    "    select = coffee[choice]\n",
    "    print(f\"{select}\")\t\n",
    "\t\n",
    "except:\n",
    "\t#and here\n",
    "\tprint(\"Invalid number\")\n",
    "finally:\n",
    "\t#and finally here\n",
    "    print(\"Have a good day\")"
   ]
  },
  {
   "cell_type": "code",
   "execution_count": 4,
   "metadata": {},
   "outputs": [
    {
     "ename": "ValueError",
     "evalue": "",
     "output_type": "error",
     "traceback": [
      "\u001b[1;31m---------------------------------------------------------------------------\u001b[0m",
      "\u001b[1;31mZeroDivisionError\u001b[0m                         Traceback (most recent call last)",
      "\u001b[1;32m<ipython-input-4-1aeb8c2bad0b>\u001b[0m in \u001b[0;36m<module>\u001b[1;34m\u001b[0m\n\u001b[0;32m      1\u001b[0m \u001b[1;32mtry\u001b[0m\u001b[1;33m:\u001b[0m\u001b[1;33m\u001b[0m\u001b[1;33m\u001b[0m\u001b[0m\n\u001b[1;32m----> 2\u001b[1;33m     \u001b[0mprint\u001b[0m\u001b[1;33m(\u001b[0m\u001b[1;36m1\u001b[0m \u001b[1;33m/\u001b[0m \u001b[1;36m0\u001b[0m\u001b[1;33m)\u001b[0m\u001b[1;33m\u001b[0m\u001b[1;33m\u001b[0m\u001b[0m\n\u001b[0m\u001b[0;32m      3\u001b[0m \u001b[1;32mexcept\u001b[0m \u001b[0mZeroDivisionError\u001b[0m\u001b[1;33m:\u001b[0m\u001b[1;33m\u001b[0m\u001b[1;33m\u001b[0m\u001b[0m\n",
      "\u001b[1;31mZeroDivisionError\u001b[0m: division by zero",
      "\nDuring handling of the above exception, another exception occurred:\n",
      "\u001b[1;31mValueError\u001b[0m                                Traceback (most recent call last)",
      "\u001b[1;32m<ipython-input-4-1aeb8c2bad0b>\u001b[0m in \u001b[0;36m<module>\u001b[1;34m\u001b[0m\n\u001b[0;32m      2\u001b[0m     \u001b[0mprint\u001b[0m\u001b[1;33m(\u001b[0m\u001b[1;36m1\u001b[0m \u001b[1;33m/\u001b[0m \u001b[1;36m0\u001b[0m\u001b[1;33m)\u001b[0m\u001b[1;33m\u001b[0m\u001b[1;33m\u001b[0m\u001b[0m\n\u001b[0;32m      3\u001b[0m \u001b[1;32mexcept\u001b[0m \u001b[0mZeroDivisionError\u001b[0m\u001b[1;33m:\u001b[0m\u001b[1;33m\u001b[0m\u001b[1;33m\u001b[0m\u001b[0m\n\u001b[1;32m----> 4\u001b[1;33m     \u001b[1;32mraise\u001b[0m \u001b[0mValueError\u001b[0m\u001b[1;33m\u001b[0m\u001b[1;33m\u001b[0m\u001b[0m\n\u001b[0m",
      "\u001b[1;31mValueError\u001b[0m: "
     ]
    }
   ],
   "source": [
    "try:\n",
    "    print(1 / 0)\n",
    "except ZeroDivisionError:\n",
    "    raise ValueError"
   ]
  },
  {
   "cell_type": "code",
   "execution_count": 12,
   "metadata": {},
   "outputs": [
    {
     "name": "stdout",
     "output_type": "stream",
     "text": [
      "0\n",
      "1\n"
     ]
    },
    {
     "ename": "AssertionError",
     "evalue": "",
     "output_type": "error",
     "traceback": [
      "\u001b[1;31m---------------------------------------------------------------------------\u001b[0m",
      "\u001b[1;31mAssertionError\u001b[0m                            Traceback (most recent call last)",
      "\u001b[1;32m<ipython-input-12-4fb8d33a8986>\u001b[0m in \u001b[0;36m<module>\u001b[1;34m\u001b[0m\n\u001b[0;32m      2\u001b[0m \u001b[1;32massert\u001b[0m \u001b[1;34m\"h\"\u001b[0m \u001b[1;33m!=\u001b[0m \u001b[1;34m\"w\"\u001b[0m\u001b[1;33m\u001b[0m\u001b[1;33m\u001b[0m\u001b[0m\n\u001b[0;32m      3\u001b[0m \u001b[0mprint\u001b[0m \u001b[1;33m(\u001b[0m\u001b[1;36m1\u001b[0m\u001b[1;33m)\u001b[0m\u001b[1;33m\u001b[0m\u001b[1;33m\u001b[0m\u001b[0m\n\u001b[1;32m----> 4\u001b[1;33m \u001b[1;32massert\u001b[0m \u001b[1;32mFalse\u001b[0m\u001b[1;33m\u001b[0m\u001b[1;33m\u001b[0m\u001b[0m\n\u001b[0m\u001b[0;32m      5\u001b[0m \u001b[0mprint\u001b[0m\u001b[1;33m(\u001b[0m\u001b[1;36m2\u001b[0m\u001b[1;33m)\u001b[0m\u001b[1;33m\u001b[0m\u001b[1;33m\u001b[0m\u001b[0m\n\u001b[0;32m      6\u001b[0m \u001b[1;32massert\u001b[0m \u001b[1;32mTrue\u001b[0m\u001b[1;33m\u001b[0m\u001b[1;33m\u001b[0m\u001b[0m\n",
      "\u001b[1;31mAssertionError\u001b[0m: "
     ]
    }
   ],
   "source": [
    "print(0)\n",
    "assert \"h\" != \"w\"\n",
    "print (1)\n",
    "assert False\n",
    "print(2)\n",
    "assert True\n",
    "print(3)"
   ]
  },
  {
   "cell_type": "code",
   "execution_count": 14,
   "metadata": {},
   "outputs": [],
   "source": [
    "def my_func(x):\n",
    "    assert x > 0, \"Error!\"\n",
    "    print(x)"
   ]
  },
  {
   "cell_type": "code",
   "execution_count": 17,
   "metadata": {},
   "outputs": [
    {
     "name": "stdout",
     "output_type": "stream",
     "text": [
      "5\n"
     ]
    }
   ],
   "source": [
    "my_func(5)"
   ]
  },
  {
   "cell_type": "code",
   "execution_count": null,
   "metadata": {},
   "outputs": [],
   "source": [
    "file = open(\"filename.txt\", \"r\")\n",
    "for i in range(21):\n",
    "    print(file.read(4))\n",
    "file.close()"
   ]
  },
  {
   "cell_type": "code",
   "execution_count": null,
   "metadata": {},
   "outputs": [],
   "source": [
    "file = open(\"filename.txt\", \"r\")\n",
    "file.read()\n",
    "print(\"Re-reading\")\n",
    "print(file.read())\n",
    "print(\"Finished\")\n",
    "file.close()"
   ]
  },
  {
   "cell_type": "code",
   "execution_count": null,
   "metadata": {},
   "outputs": [],
   "source": [
    "file = open(\"filename.txt\", \"r\")\n",
    "\n",
    "for line in file:\n",
    "    print(line)\n",
    "\n",
    "file.close()"
   ]
  },
  {
   "cell_type": "code",
   "execution_count": null,
   "metadata": {},
   "outputs": [],
   "source": [
    "# Tom has done pull ups every day and recorded his results. He recorded each day's results in a new line, \n",
    "# so that each line represents each day he has done pull ups.\n",
    "# Create a program that takes n number as input and outputs the n-th days result (starting from 0).\n",
    "\n",
    "file = open(\"/usercode/files/pull_ups.txt\")\n",
    "n = int(input())\n",
    "\n",
    "#your code goes here\n",
    "pull_ups_list = []\n",
    "for line in file:\n",
    "    pull_ups_list.append(line)\n",
    "text = pull_ups_list[n]\n",
    "print(text)\n",
    "\n",
    "file.close()"
   ]
  },
  {
   "cell_type": "code",
   "execution_count": 5,
   "metadata": {},
   "outputs": [],
   "source": [
    "text = \"ali ata bak\""
   ]
  },
  {
   "cell_type": "code",
   "execution_count": 8,
   "metadata": {},
   "outputs": [],
   "source": [
    "text = text.replace(text[2],'s')"
   ]
  },
  {
   "cell_type": "code",
   "execution_count": 9,
   "metadata": {},
   "outputs": [
    {
     "name": "stdout",
     "output_type": "stream",
     "text": [
      "s\n"
     ]
    }
   ],
   "source": [
    "print(text[2])"
   ]
  },
  {
   "cell_type": "code",
   "execution_count": 11,
   "metadata": {},
   "outputs": [
    {
     "name": "stdout",
     "output_type": "stream",
     "text": [
      "John\n",
      "Oscar\n",
      "Jacob\n",
      "\n"
     ]
    }
   ],
   "source": [
    "names = [\"John\", \"Oscar\", \"Jacob\"]\n",
    "\n",
    "file = open(\"names.txt\", \"w+\")\n",
    "#write down the names into the file\n",
    "for name in names:\n",
    "    file.write(f\"{name}\\n\")\n",
    "\n",
    "file.close()\n",
    "\n",
    "file= open(\"names.txt\", \"r\")\n",
    "#output the content of file in console\n",
    "text = file.read()\n",
    "print(text)\n",
    "\n",
    "file.close()"
   ]
  },
  {
   "cell_type": "code",
   "execution_count": 12,
   "metadata": {},
   "outputs": [
    {
     "name": "stdout",
     "output_type": "stream",
     "text": [
      "John\n",
      "Oscar\n",
      "Jacob\n",
      "\n"
     ]
    }
   ],
   "source": [
    "names = [\"John\", \"Oscar\", \"Jacob\"]\n",
    "\n",
    "file = open(\"names.txt\", \"w+\")\n",
    "#write down the names into the file\n",
    "\n",
    "name_list = []\n",
    "for name in names:\n",
    "    name_list.append(f\"{name}\\n\")\n",
    "name_text = \"\".join(name_list)\n",
    "\n",
    "file.write(f\"{name_text}\")\n",
    "\n",
    "file.close()\n",
    "\n",
    "file= open(\"names.txt\", \"r\")\n",
    "#output the content of file in console\n",
    "text = file.read()\n",
    "print(text)\n",
    "\n",
    "file.close()"
   ]
  },
  {
   "cell_type": "code",
   "execution_count": 13,
   "metadata": {},
   "outputs": [
    {
     "name": "stdout",
     "output_type": "stream",
     "text": [
      "1\n",
      "3\n",
      "4\n"
     ]
    }
   ],
   "source": [
    "try:\n",
    "    print(1)\n",
    "    print(20 / 0)\n",
    "    print(2)\n",
    "except ZeroDivisionError:\n",
    "    print(3)\n",
    "finally:\n",
    "    print(4)"
   ]
  },
  {
   "cell_type": "code",
   "execution_count": 2,
   "metadata": {},
   "outputs": [
    {
     "name": "stdout",
     "output_type": "stream",
     "text": [
      "1\n",
      "3\n"
     ]
    }
   ],
   "source": [
    "try:\n",
    "    print(1)\n",
    "    assert 2 + 2 == 5\n",
    "except AssertionError:\n",
    "    print(3)\n",
    "except:\n",
    "    print(4)"
   ]
  },
  {
   "cell_type": "code",
   "execution_count": 4,
   "metadata": {},
   "outputs": [],
   "source": [
    "assert 2 + 2 == 4"
   ]
  },
  {
   "cell_type": "code",
   "execution_count": null,
   "metadata": {},
   "outputs": [],
   "source": [
    "file = open(\"/usercode/files/books.txt\", \"r\")\n",
    "\n",
    "#your code goes here\n",
    "book_list = file.readlines()\n",
    "for book in book_list:\n",
    "    book = book.strip()\n",
    "    first_letter = book[0]\n",
    "    name_length = len(book)\n",
    "    book_name = f\"{first_letter}{name_length}\"\n",
    "    print(book_name)\n",
    "\n",
    "file.close()"
   ]
  },
  {
   "cell_type": "code",
   "execution_count": 13,
   "metadata": {},
   "outputs": [],
   "source": [
    "book_list = [\"Harry Potter\\n\",\"The Hunger Games\\n\",\"Pride and Prejudice\\n\",\"Gone with the Wind\\n\",\"Some book\\n\",\"Another book\"]"
   ]
  },
  {
   "cell_type": "code",
   "execution_count": 15,
   "metadata": {},
   "outputs": [
    {
     "name": "stdout",
     "output_type": "stream",
     "text": [
      "H12\n",
      "T16\n",
      "P19\n",
      "G18\n",
      "S9\n",
      "A12\n"
     ]
    }
   ],
   "source": [
    "#book_list = file.readlines()\n",
    "for book in book_list:\n",
    "    book = book.strip()\n",
    "    first_letter = book[0]\n",
    "    name_length = len(book)\n",
    "    book_name = f\"{first_letter}{name_length}\"\n",
    "    print(book_name)"
   ]
  },
  {
   "cell_type": "code",
   "execution_count": null,
   "metadata": {},
   "outputs": [],
   "source": []
  },
  {
   "cell_type": "markdown",
   "metadata": {},
   "source": [
    "##### More Types"
   ]
  },
  {
   "cell_type": "code",
   "execution_count": 16,
   "metadata": {},
   "outputs": [
    {
     "name": "stdout",
     "output_type": "stream",
     "text": [
      "Hi!\n",
      "None\n"
     ]
    }
   ],
   "source": [
    "def some_func():\n",
    "  print(\"Hi!\")\n",
    "\n",
    "var = some_func()\n",
    "print(var)"
   ]
  },
  {
   "cell_type": "code",
   "execution_count": 17,
   "metadata": {},
   "outputs": [
    {
     "name": "stdout",
     "output_type": "stream",
     "text": [
      "\n",
      "1\n"
     ]
    }
   ],
   "source": [
    "foo = print()\n",
    "if foo == None:\n",
    "    print(1)\n",
    "else:\n",
    "    print(2)"
   ]
  },
  {
   "cell_type": "code",
   "execution_count": 18,
   "metadata": {},
   "outputs": [
    {
     "name": "stdout",
     "output_type": "stream",
     "text": [
      "[255, 0, 0]\n"
     ]
    },
    {
     "ename": "KeyError",
     "evalue": "'yellow'",
     "output_type": "error",
     "traceback": [
      "\u001b[1;31m---------------------------------------------------------------------------\u001b[0m",
      "\u001b[1;31mKeyError\u001b[0m                                  Traceback (most recent call last)",
      "\u001b[1;32m<ipython-input-18-a9dad115fdda>\u001b[0m in \u001b[0;36m<module>\u001b[1;34m\u001b[0m\n\u001b[0;32m      6\u001b[0m \u001b[1;33m\u001b[0m\u001b[0m\n\u001b[0;32m      7\u001b[0m \u001b[0mprint\u001b[0m\u001b[1;33m(\u001b[0m\u001b[0mprimary\u001b[0m\u001b[1;33m[\u001b[0m\u001b[1;34m\"red\"\u001b[0m\u001b[1;33m]\u001b[0m\u001b[1;33m)\u001b[0m\u001b[1;33m\u001b[0m\u001b[1;33m\u001b[0m\u001b[0m\n\u001b[1;32m----> 8\u001b[1;33m \u001b[0mprint\u001b[0m\u001b[1;33m(\u001b[0m\u001b[0mprimary\u001b[0m\u001b[1;33m[\u001b[0m\u001b[1;34m\"yellow\"\u001b[0m\u001b[1;33m]\u001b[0m\u001b[1;33m)\u001b[0m\u001b[1;33m\u001b[0m\u001b[1;33m\u001b[0m\u001b[0m\n\u001b[0m",
      "\u001b[1;31mKeyError\u001b[0m: 'yellow'"
     ]
    }
   ],
   "source": [
    "primary = {\n",
    "  \"red\": [255, 0, 0], \n",
    "  \"green\": [0, 255, 0], \n",
    "  \"blue\": [0, 0, 255], \n",
    "}\n",
    "\n",
    "print(primary[\"red\"])\n",
    "print(primary[\"yellow\"])"
   ]
  },
  {
   "cell_type": "code",
   "execution_count": 20,
   "metadata": {},
   "outputs": [
    {
     "ename": "KeyError",
     "evalue": "0",
     "output_type": "error",
     "traceback": [
      "\u001b[1;31m---------------------------------------------------------------------------\u001b[0m",
      "\u001b[1;31mKeyError\u001b[0m                                  Traceback (most recent call last)",
      "\u001b[1;32m<ipython-input-20-44061ec6feed>\u001b[0m in \u001b[0;36m<module>\u001b[1;34m\u001b[0m\n\u001b[0;32m      1\u001b[0m \u001b[0mtest\u001b[0m \u001b[1;33m=\u001b[0m \u001b[1;33m{\u001b[0m\u001b[1;33m}\u001b[0m\u001b[1;33m\u001b[0m\u001b[1;33m\u001b[0m\u001b[0m\n\u001b[1;32m----> 2\u001b[1;33m \u001b[0mprint\u001b[0m\u001b[1;33m(\u001b[0m\u001b[0mtest\u001b[0m\u001b[1;33m[\u001b[0m\u001b[1;36m0\u001b[0m\u001b[1;33m]\u001b[0m\u001b[1;33m)\u001b[0m\u001b[1;33m\u001b[0m\u001b[1;33m\u001b[0m\u001b[0m\n\u001b[0m",
      "\u001b[1;31mKeyError\u001b[0m: 0"
     ]
    }
   ],
   "source": [
    "test = { }\n",
    "print(test[0])"
   ]
  },
  {
   "cell_type": "code",
   "execution_count": 21,
   "metadata": {},
   "outputs": [
    {
     "ename": "TypeError",
     "evalue": "unhashable type: 'list'",
     "output_type": "error",
     "traceback": [
      "\u001b[1;31m---------------------------------------------------------------------------\u001b[0m",
      "\u001b[1;31mTypeError\u001b[0m                                 Traceback (most recent call last)",
      "\u001b[1;32m<ipython-input-21-4999e6c58e6f>\u001b[0m in \u001b[0;36m<module>\u001b[1;34m\u001b[0m\n\u001b[1;32m----> 1\u001b[1;33m bad_dict = {\n\u001b[0m\u001b[0;32m      2\u001b[0m   \u001b[1;33m[\u001b[0m\u001b[1;36m1\u001b[0m\u001b[1;33m,\u001b[0m \u001b[1;36m2\u001b[0m\u001b[1;33m,\u001b[0m \u001b[1;36m3\u001b[0m\u001b[1;33m]\u001b[0m\u001b[1;33m:\u001b[0m \u001b[1;34m\"one two three\"\u001b[0m\u001b[1;33m,\u001b[0m\u001b[1;33m\u001b[0m\u001b[1;33m\u001b[0m\u001b[0m\n\u001b[0;32m      3\u001b[0m }\n",
      "\u001b[1;31mTypeError\u001b[0m: unhashable type: 'list'"
     ]
    }
   ],
   "source": [
    "bad_dict = {\n",
    "  [1, 2, 3]: \"one two three\", \n",
    "}"
   ]
  },
  {
   "cell_type": "code",
   "execution_count": 23,
   "metadata": {},
   "outputs": [],
   "source": [
    "store = {\"Orange\": 2, \"Watermelon\": 0, \"Apple\": 8, \"Banana\": 42}"
   ]
  },
  {
   "cell_type": "code",
   "execution_count": 24,
   "metadata": {},
   "outputs": [
    {
     "name": "stdout",
     "output_type": "stream",
     "text": [
      "Orange\n",
      "Watermelon\n",
      "Apple\n",
      "Banana\n"
     ]
    }
   ],
   "source": [
    "for key in store.keys():\n",
    "    print(key)"
   ]
  },
  {
   "cell_type": "code",
   "execution_count": 25,
   "metadata": {},
   "outputs": [
    {
     "name": "stdout",
     "output_type": "stream",
     "text": [
      "2\n",
      "0\n",
      "8\n",
      "42\n"
     ]
    }
   ],
   "source": [
    "for key in store.keys():\n",
    "    print(store[key])"
   ]
  },
  {
   "cell_type": "code",
   "execution_count": 26,
   "metadata": {},
   "outputs": [
    {
     "name": "stdout",
     "output_type": "stream",
     "text": [
      "{1: 1, 2: 4, 3: 9, 4: 16, 8: 64}\n"
     ]
    }
   ],
   "source": [
    "squares = {1: 1, 2: 4, 3: \"error\", 4: 16,}\n",
    "squares[8] = 64\n",
    "squares[3] = 9\n",
    "print(squares)"
   ]
  },
  {
   "cell_type": "code",
   "execution_count": 27,
   "metadata": {},
   "outputs": [
    {
     "name": "stdout",
     "output_type": "stream",
     "text": [
      "17\n"
     ]
    }
   ],
   "source": [
    "primes = {1: 2, 2: 3, 4: 7, 7:17}\n",
    "print(primes[primes[4]])"
   ]
  },
  {
   "cell_type": "code",
   "execution_count": 28,
   "metadata": {},
   "outputs": [
    {
     "name": "stdout",
     "output_type": "stream",
     "text": [
      "True\n",
      "False\n",
      "True\n"
     ]
    }
   ],
   "source": [
    "nums = {\n",
    "  1: \"one\",\n",
    "  2: \"two\",\n",
    "  3: \"three\",\n",
    "}\n",
    "print(1 in nums)\n",
    "print(\"three\" in nums)\n",
    "print(4 not in nums)"
   ]
  },
  {
   "cell_type": "code",
   "execution_count": 29,
   "metadata": {},
   "outputs": [
    {
     "name": "stdout",
     "output_type": "stream",
     "text": [
      "[2, 3, 4]\n",
      "None\n",
      "not in dictionary\n"
     ]
    }
   ],
   "source": [
    "pairs = {1: \"apple\",\n",
    "  \"orange\": [2, 3, 4], \n",
    "  True: False, \n",
    "  None: \"True\",\n",
    "}\n",
    "\n",
    "print(pairs.get(\"orange\"))\n",
    "print(pairs.get(7))\n",
    "print(pairs.get(12345, \"not in dictionary\"))"
   ]
  },
  {
   "cell_type": "code",
   "execution_count": 30,
   "metadata": {},
   "outputs": [
    {
     "name": "stdout",
     "output_type": "stream",
     "text": [
      "Adventure Fiction\n"
     ]
    }
   ],
   "source": [
    "books = {\n",
    "    \"Life of Pi\": \"Adventure Fiction\", \n",
    "    \"The Three Musketeers\": \"Historical Adventure\",\n",
    "    \"Watchmen\": \"Comics\", \n",
    "    \"Bird Box\": \"Horror\",\n",
    "    \"Harry Potter\":\"Fantasy Fiction\",\n",
    "    \"Good Omens\": \"Comedy\"\n",
    "}\n",
    "\n",
    "book = input()\n",
    "\n",
    "#change this part to use the .get() method\n",
    "if book in books:\n",
    "    print(books.get(f\"{book}\"))\n",
    "else:\n",
    "    print(\"Book not found\")"
   ]
  },
  {
   "cell_type": "code",
   "execution_count": 31,
   "metadata": {},
   "outputs": [
    {
     "name": "stdout",
     "output_type": "stream",
     "text": [
      "8\n"
     ]
    }
   ],
   "source": [
    "fib = {1: 1, 2: 1, 3: 2, 4: 3}\n",
    "print(fib.get(4, 0) + fib.get(7, 5))"
   ]
  },
  {
   "cell_type": "code",
   "execution_count": 32,
   "metadata": {},
   "outputs": [
    {
     "data": {
      "text/plain": [
       "3"
      ]
     },
     "execution_count": 32,
     "metadata": {},
     "output_type": "execute_result"
    }
   ],
   "source": [
    "fib.get(4, 0)"
   ]
  },
  {
   "cell_type": "code",
   "execution_count": 33,
   "metadata": {},
   "outputs": [
    {
     "data": {
      "text/plain": [
       "5"
      ]
     },
     "execution_count": 33,
     "metadata": {},
     "output_type": "execute_result"
    }
   ],
   "source": [
    "fib.get(7, 5)"
   ]
  },
  {
   "cell_type": "code",
   "execution_count": 5,
   "metadata": {},
   "outputs": [
    {
     "name": "stdout",
     "output_type": "stream",
     "text": [
      "131.10682667199293\n"
     ]
    }
   ],
   "source": [
    "import math\n",
    "\n",
    "p1 = (23, -88)  # x, y coordinates point\n",
    "p2 = (6, 42)    # x, y coordinates point\n",
    "a = abs(p2[0]-p1[0])\n",
    "b = abs(p2[1]-p1[1])\n",
    "c = (a*a) + (b*b)\n",
    "print(math.sqrt(c))\n",
    "#your code goes here"
   ]
  },
  {
   "cell_type": "code",
   "execution_count": 3,
   "metadata": {},
   "outputs": [
    {
     "data": {
      "text/plain": [
       "11.40175425099138"
      ]
     },
     "execution_count": 3,
     "metadata": {},
     "output_type": "execute_result"
    }
   ],
   "source": [
    "math.sqrt(b)"
   ]
  },
  {
   "cell_type": "code",
   "execution_count": 6,
   "metadata": {},
   "outputs": [
    {
     "name": "stdout",
     "output_type": "stream",
     "text": [
      "[49, 36]\n"
     ]
    }
   ],
   "source": [
    "sqs = [0, 1, 4, 9, 16, 25, 36, 49, 64, 81]\n",
    "print(sqs[7:5:-1])"
   ]
  },
  {
   "cell_type": "code",
   "execution_count": null,
   "metadata": {},
   "outputs": [],
   "source": [
    "even = [2*i for i in range(10**100)]  # for MemoryError"
   ]
  },
  {
   "cell_type": "code",
   "execution_count": 8,
   "metadata": {},
   "outputs": [
    {
     "name": "stdout",
     "output_type": "stream",
     "text": [
      "[0, 15, 30]\n"
     ]
    }
   ],
   "source": [
    "x = int(input())\n",
    "multiple_3_and_5_list = [i for i in range(x) if i%3 == 0 and i%5 == 0 ]\n",
    "print(multiple_3_and_5_list) "
   ]
  },
  {
   "cell_type": "code",
   "execution_count": 9,
   "metadata": {},
   "outputs": [
    {
     "name": "stdout",
     "output_type": "stream",
     "text": [
      "5, 12\n"
     ]
    }
   ],
   "source": [
    "a = \"{x}, {y}\".format(x=5, y=12)\n",
    "print(a)"
   ]
  },
  {
   "cell_type": "code",
   "execution_count": 10,
   "metadata": {},
   "outputs": [
    {
     "name": "stdout",
     "output_type": "stream",
     "text": [
      "Ertuğrul is 32 years old\n"
     ]
    }
   ],
   "source": [
    "name = input()\n",
    "age = int(input())\n",
    "name_age = \"{0} is {1} years old\".format(name, age)\n",
    "print(name_age)"
   ]
  },
  {
   "cell_type": "code",
   "execution_count": 1,
   "metadata": {},
   "outputs": [
    {
     "name": "stdout",
     "output_type": "stream",
     "text": [
      "30\n"
     ]
    }
   ],
   "source": [
    "a=min([sum([11, 22]), max(abs(-30), 2)])\n",
    "print(a)"
   ]
  },
  {
   "cell_type": "code",
   "execution_count": 2,
   "metadata": {},
   "outputs": [
    {
     "name": "stdout",
     "output_type": "stream",
     "text": [
      "All larger than 5\n",
      "At least one is even\n",
      "(0, 55)\n",
      "(1, 44)\n",
      "(2, 33)\n",
      "(3, 22)\n",
      "(4, 11)\n"
     ]
    }
   ],
   "source": [
    "nums = [55, 44, 33, 22, 11]\n",
    "\n",
    "if all([i > 5 for i in nums]):\n",
    "   print(\"All larger than 5\")\n",
    "\n",
    "if any([i % 2 == 0 for i in nums]):\n",
    "   print(\"At least one is even\")\n",
    "\n",
    "for v in enumerate(nums):\n",
    "   print(v)"
   ]
  },
  {
   "cell_type": "code",
   "execution_count": 3,
   "metadata": {},
   "outputs": [
    {
     "name": "stdout",
     "output_type": "stream",
     "text": [
      "2\n"
     ]
    }
   ],
   "source": [
    "txt = input()\n",
    "txt = txt.replace(\"#\", \" \")\n",
    "print(txt)"
   ]
  },
  {
   "cell_type": "code",
   "execution_count": 4,
   "metadata": {},
   "outputs": [
    {
     "name": "stdout",
     "output_type": "stream",
     "text": [
      "2\n"
     ]
    }
   ],
   "source": [
    "nums = [-1, 2, -3, 4, -5]\n",
    "if all([abs(i) < 3 for i in nums]):\n",
    "    print(1)\n",
    "else:\n",
    "    print(2)"
   ]
  },
  {
   "cell_type": "code",
   "execution_count": 5,
   "metadata": {},
   "outputs": [],
   "source": [
    "def count_char(text, char):\n",
    "  count = 0\n",
    "  for c in text:\n",
    "    if c == char:\n",
    "      count += 1\n",
    "  return count"
   ]
  },
  {
   "cell_type": "code",
   "execution_count": 6,
   "metadata": {},
   "outputs": [],
   "source": [
    "text = \"ali ata\""
   ]
  },
  {
   "cell_type": "code",
   "execution_count": 9,
   "metadata": {},
   "outputs": [
    {
     "data": {
      "text/plain": [
       "3"
      ]
     },
     "execution_count": 9,
     "metadata": {},
     "output_type": "execute_result"
    }
   ],
   "source": [
    "count_char(text, \"a\")"
   ]
  },
  {
   "cell_type": "code",
   "execution_count": null,
   "metadata": {},
   "outputs": [],
   "source": [
    "# It is going to test a file.txt\n",
    "def count_char(text, char):\n",
    "  count = 0\n",
    "  for c in text:\n",
    "    if c == char:\n",
    "      count += 1\n",
    "  return count\n",
    "\n",
    "filename = input(\"Enter a filename: \")\n",
    "with open(filename) as f:\n",
    "  text = f.read()\n",
    "\n",
    "for char in \"abcdefghijklmnopqrstuvwxyz\":\n",
    "  perc = 100 * count_char(text, char) / len(text)\n",
    "  print(\"{0} - {1}%\".format(char, round(perc, 2)))"
   ]
  },
  {
   "cell_type": "code",
   "execution_count": 10,
   "metadata": {},
   "outputs": [
    {
     "name": "stdout",
     "output_type": "stream",
     "text": [
      "2\n"
     ]
    }
   ],
   "source": [
    "txt = input()\n",
    "word_list = txt.split(\" \")\n",
    "print(len(word_list))"
   ]
  },
  {
   "cell_type": "code",
   "execution_count": 22,
   "metadata": {},
   "outputs": [
    {
     "name": "stdout",
     "output_type": "stream",
     "text": [
      "awesome\n"
     ]
    }
   ],
   "source": [
    "txt = input()\n",
    "word_list = txt.split(\" \")\n",
    "word_dict = {}\n",
    "for word in word_list:\n",
    "    word_dict[len(word)] = word\n",
    "print(word_dict[max(word_dict.keys())])"
   ]
  },
  {
   "cell_type": "code",
   "execution_count": 23,
   "metadata": {},
   "outputs": [
    {
     "data": {
      "text/plain": [
       "dict_values(['text', 'an', 'awesome'])"
      ]
     },
     "execution_count": 23,
     "metadata": {},
     "output_type": "execute_result"
    }
   ],
   "source": [
    "word_dict.values()"
   ]
  },
  {
   "cell_type": "code",
   "execution_count": null,
   "metadata": {},
   "outputs": [],
   "source": []
  },
  {
   "cell_type": "markdown",
   "metadata": {},
   "source": [
    "##### Functional Programming"
   ]
  },
  {
   "cell_type": "code",
   "execution_count": 1,
   "metadata": {},
   "outputs": [
    {
     "name": "stdout",
     "output_type": "stream",
     "text": [
      "20\n"
     ]
    }
   ],
   "source": [
    "def apply_twice(func, arg):\n",
    "    return func(func(arg))\n",
    "\n",
    "def add_five(x):\n",
    "    return x + 5\n",
    "\n",
    "print(apply_twice(add_five, 10))"
   ]
  },
  {
   "cell_type": "code",
   "execution_count": 4,
   "metadata": {},
   "outputs": [
    {
     "name": "stdout",
     "output_type": "stream",
     "text": [
      "16\n"
     ]
    }
   ],
   "source": [
    "def test(func, arg):\n",
    "    return func(func(arg))\n",
    "\n",
    "def mult(x):\n",
    "    return x * x\n",
    "\n",
    "print(test(mult, 2))"
   ]
  },
  {
   "cell_type": "code",
   "execution_count": 5,
   "metadata": {},
   "outputs": [
    {
     "data": {
      "text/plain": [
       "50"
      ]
     },
     "execution_count": 5,
     "metadata": {},
     "output_type": "execute_result"
    }
   ],
   "source": [
    "def my_func(f, arg):\n",
    "  return f(arg)\n",
    "\n",
    "my_func(lambda x: 2*x*x, 5)"
   ]
  },
  {
   "cell_type": "code",
   "execution_count": null,
   "metadata": {},
   "outputs": [],
   "source": [
    "x = int(input())\n",
    "\n",
    "y = (lambda z:z**3)(x)\n",
    "\n",
    "print(y)"
   ]
  },
  {
   "cell_type": "code",
   "execution_count": 6,
   "metadata": {},
   "outputs": [
    {
     "name": "stdout",
     "output_type": "stream",
     "text": [
      "13\n"
     ]
    }
   ],
   "source": [
    "triple = lambda x: x * 3\n",
    "add = lambda x, y: x + y\n",
    "print(add(triple(3), 4))"
   ]
  },
  {
   "cell_type": "code",
   "execution_count": 7,
   "metadata": {},
   "outputs": [
    {
     "name": "stdout",
     "output_type": "stream",
     "text": [
      "[16, 27, 38, 49, 60]\n"
     ]
    }
   ],
   "source": [
    "def add_five(x):\n",
    "  return x + 5\n",
    "\n",
    "nums = [11, 22, 33, 44, 55]\n",
    "result = list(map(add_five, nums))\n",
    "print(result)"
   ]
  },
  {
   "cell_type": "code",
   "execution_count": 8,
   "metadata": {},
   "outputs": [
    {
     "name": "stdout",
     "output_type": "stream",
     "text": [
      "[16, 27, 38, 49, 60]\n"
     ]
    }
   ],
   "source": [
    "nums = [11, 22, 33, 44, 55]\n",
    "\n",
    "result = list(map(lambda x: x+5, nums))\n",
    "print(result)"
   ]
  },
  {
   "cell_type": "code",
   "execution_count": 9,
   "metadata": {},
   "outputs": [
    {
     "name": "stdout",
     "output_type": "stream",
     "text": [
      "[22, 44]\n"
     ]
    }
   ],
   "source": [
    "nums = [11, 22, 33, 44, 55]\n",
    "res = list(filter(lambda x: x%2==0, nums))\n",
    "print(res)"
   ]
  },
  {
   "cell_type": "code",
   "execution_count": null,
   "metadata": {},
   "outputs": [],
   "source": [
    "# Given a list of names, output a list that contains only the names that consist of more than 5 characters.\n",
    "names = [\"David\", \"John\", \"Annabelle\", \"Johnathan\", \"Veronica\"]\n",
    "res = list(filter(lambda x: len(x)>5, names))\n",
    "print(res)"
   ]
  },
  {
   "cell_type": "code",
   "execution_count": 10,
   "metadata": {},
   "outputs": [
    {
     "name": "stdout",
     "output_type": "stream",
     "text": [
      "5\n",
      "4\n",
      "3\n",
      "2\n",
      "1\n"
     ]
    }
   ],
   "source": [
    "def countdown():\n",
    "  i=5\n",
    "  while i > 0:\n",
    "    yield i\n",
    "    i -= 1\n",
    "    \n",
    "for i in countdown():\n",
    "  print(i)"
   ]
  },
  {
   "cell_type": "code",
   "execution_count": 11,
   "metadata": {},
   "outputs": [
    {
     "name": "stdout",
     "output_type": "stream",
     "text": [
      "[0, 2, 4, 6, 8, 10]\n"
     ]
    }
   ],
   "source": [
    "def numbers(x):\n",
    "  for i in range(x):\n",
    "    if i % 2 == 0:\n",
    "      yield i\n",
    "\n",
    "print(list(numbers(11)))"
   ]
  },
  {
   "cell_type": "code",
   "execution_count": 12,
   "metadata": {},
   "outputs": [
    {
     "name": "stdout",
     "output_type": "stream",
     "text": [
      "['generators', 'are', 'great']\n"
     ]
    }
   ],
   "source": [
    "txt = input()\n",
    "\n",
    "def words():\n",
    "    #your code goes here\n",
    "    words_list = txt.split(\" \")\n",
    "    for word in words_list:\n",
    "        yield word\n",
    "\n",
    "print(list(words()))"
   ]
  },
  {
   "cell_type": "code",
   "execution_count": 13,
   "metadata": {},
   "outputs": [],
   "source": [
    "text = \"generators are great\""
   ]
  },
  {
   "cell_type": "code",
   "execution_count": 18,
   "metadata": {},
   "outputs": [],
   "source": [
    "def words(text):\n",
    "    #your code goes here\n",
    "    words_list = txt.split(\" \")\n",
    "    for word in words_list:\n",
    "        res = yield word\n",
    "    return res"
   ]
  },
  {
   "cell_type": "code",
   "execution_count": 22,
   "metadata": {},
   "outputs": [
    {
     "data": {
      "text/plain": [
       "<generator object words at 0x000002620314DC80>"
      ]
     },
     "execution_count": 22,
     "metadata": {},
     "output_type": "execute_result"
    }
   ],
   "source": [
    "words(text)"
   ]
  },
  {
   "cell_type": "code",
   "execution_count": 21,
   "metadata": {},
   "outputs": [
    {
     "name": "stdout",
     "output_type": "stream",
     "text": [
      "['generators', 'are', 'great']\n"
     ]
    }
   ],
   "source": [
    "print(list(words(text)))"
   ]
  },
  {
   "cell_type": "code",
   "execution_count": 23,
   "metadata": {},
   "outputs": [
    {
     "name": "stdout",
     "output_type": "stream",
     "text": [
      "['s', 'sp', 'spa', 'spam']\n"
     ]
    }
   ],
   "source": [
    "def make_word():\n",
    "    word = \"\"\n",
    "    for ch in \"spam\":\n",
    "        word +=ch\n",
    "        yield word\n",
    "\n",
    "print(list(make_word()))"
   ]
  },
  {
   "cell_type": "code",
   "execution_count": 24,
   "metadata": {},
   "outputs": [
    {
     "name": "stdout",
     "output_type": "stream",
     "text": [
      "============\n",
      "Hello world!\n",
      "============\n"
     ]
    }
   ],
   "source": [
    "def decor(func):\n",
    "  def wrap():\n",
    "    print(\"============\")\n",
    "    func()\n",
    "    print(\"============\")\n",
    "  return wrap\n",
    "\n",
    "def print_text():\n",
    "  print(\"Hello world!\")\n",
    "\n",
    "decorated = decor(print_text)\n",
    "decorated()"
   ]
  },
  {
   "cell_type": "code",
   "execution_count": 25,
   "metadata": {},
   "outputs": [
    {
     "name": "stdout",
     "output_type": "stream",
     "text": [
      "============\n",
      "Hello world!\n",
      "============\n"
     ]
    }
   ],
   "source": [
    "print_text = decor(print_text)\n",
    "print_text()"
   ]
  },
  {
   "cell_type": "code",
   "execution_count": 27,
   "metadata": {},
   "outputs": [
    {
     "data": {
      "text/plain": [
       "<function __main__.decor.<locals>.wrap()>"
      ]
     },
     "execution_count": 27,
     "metadata": {},
     "output_type": "execute_result"
    }
   ],
   "source": [
    "def print_text():\n",
    "  print(\"Hello world!\")\n",
    "\n",
    "print_text = decor(print_text)\n",
    "print_text"
   ]
  },
  {
   "cell_type": "code",
   "execution_count": null,
   "metadata": {},
   "outputs": [],
   "source": []
  },
  {
   "cell_type": "code",
   "execution_count": 43,
   "metadata": {},
   "outputs": [
    {
     "name": "stdout",
     "output_type": "stream",
     "text": [
      "SOME TEXT\n"
     ]
    }
   ],
   "source": [
    "text = input()\n",
    "\n",
    "def uppercase_decorator(func):\n",
    "    def wrapper(text):\n",
    "        #your code goes here\n",
    "        return text.upper()\n",
    "        \n",
    "    return wrapper\n",
    "    \n",
    "@uppercase_decorator    \n",
    "def display_text(text):\n",
    "    return(text)\n",
    "    \n",
    "print(display_text(text))"
   ]
  },
  {
   "cell_type": "code",
   "execution_count": 40,
   "metadata": {},
   "outputs": [],
   "source": [
    "text = \"generators are great\""
   ]
  },
  {
   "cell_type": "code",
   "execution_count": 41,
   "metadata": {},
   "outputs": [
    {
     "name": "stdout",
     "output_type": "stream",
     "text": [
      "None\n"
     ]
    }
   ],
   "source": [
    "@uppercase_decorator \n",
    "def display_text(text):\n",
    "    return(text)\n",
    "    \n",
    "print(display_text(text))"
   ]
  },
  {
   "cell_type": "code",
   "execution_count": 1,
   "metadata": {},
   "outputs": [
    {
     "name": "stdout",
     "output_type": "stream",
     "text": [
      "120\n"
     ]
    }
   ],
   "source": [
    "def factorial(x):\n",
    "  if x == 1:\n",
    "    return 1\n",
    "  else: \n",
    "    return x * factorial(x-1)\n",
    "    \n",
    "print(factorial(5))"
   ]
  },
  {
   "cell_type": "code",
   "execution_count": 3,
   "metadata": {},
   "outputs": [
    {
     "name": "stdout",
     "output_type": "stream",
     "text": [
      "True\n",
      "False\n",
      "True\n"
     ]
    }
   ],
   "source": [
    "def is_even(x):\n",
    "  if x == 0:\n",
    "    return True\n",
    "  else:\n",
    "    return is_odd(x-1)\n",
    "\n",
    "def is_odd(x):\n",
    "  return not is_even(x)\n",
    "\n",
    "\n",
    "print(is_odd(17))\n",
    "print(is_even(23))\n",
    "print(is_even(22))"
   ]
  },
  {
   "cell_type": "code",
   "execution_count": 4,
   "metadata": {},
   "outputs": [
    {
     "name": "stdout",
     "output_type": "stream",
     "text": [
      "55\n"
     ]
    }
   ],
   "source": [
    "def calc(list):\n",
    "    if len(list)==0:\n",
    "        return 0\n",
    "    else:\n",
    "        return list[0]**2 + calc(list[1:]) \n",
    "\n",
    "list = [1, 3, 4, 2, 5]\n",
    "x = calc(list)        \n",
    "print(x)"
   ]
  },
  {
   "cell_type": "code",
   "execution_count": 5,
   "metadata": {},
   "outputs": [
    {
     "name": "stdout",
     "output_type": "stream",
     "text": [
      "5\n"
     ]
    }
   ],
   "source": [
    "def fib(x):\n",
    "    if x == 0 or x == 1:\n",
    "        return 1\n",
    "    else:\n",
    "        return fib(x-1) + fib(x-2)\n",
    "\n",
    "print(fib(4))"
   ]
  },
  {
   "cell_type": "code",
   "execution_count": null,
   "metadata": {},
   "outputs": [],
   "source": [
    "fib(3)+fib(2)\n",
    "(fib(2)+fib(1)) + (fib(1)+fib(0))\n",
    "(fib(1)+fib(0)+1) + (1+1)\n",
    "(1+1+1)+(1+1)"
   ]
  },
  {
   "cell_type": "code",
   "execution_count": 6,
   "metadata": {},
   "outputs": [
    {
     "name": "stdout",
     "output_type": "stream",
     "text": [
      "True\n",
      "False\n"
     ]
    }
   ],
   "source": [
    "num_set = {1, 2, 3, 4, 5}\n",
    "word_set = set([\"spam\", \"eggs\", \"sausage\"])\n",
    "\n",
    "print(3 in num_set)\n",
    "print(\"spam\" not in word_set)"
   ]
  },
  {
   "cell_type": "code",
   "execution_count": 7,
   "metadata": {},
   "outputs": [
    {
     "name": "stdout",
     "output_type": "stream",
     "text": [
      "1\n"
     ]
    }
   ],
   "source": [
    "letters = {\"a\", \"b\", \"c\", \"d\"}\n",
    "if \"e\" not in letters:\n",
    "    print(1)\n",
    "else:\n",
    "    print(2)"
   ]
  },
  {
   "cell_type": "code",
   "execution_count": 8,
   "metadata": {},
   "outputs": [
    {
     "name": "stdout",
     "output_type": "stream",
     "text": [
      "{1, 2, 3, 4, 5, 6}\n",
      "{1, 2, 4, 5, 6, -7}\n"
     ]
    }
   ],
   "source": [
    "nums = {1, 2, 1, 3, 1, 4, 5, 6}\n",
    "print(nums)\n",
    "nums.add(-7)\n",
    "nums.remove(3)\n",
    "print(nums)"
   ]
  },
  {
   "cell_type": "code",
   "execution_count": 9,
   "metadata": {},
   "outputs": [
    {
     "name": "stdout",
     "output_type": "stream",
     "text": [
      "{1, 2, 3, 4, 5, 6, 7, 8, 9}\n",
      "{4, 5, 6}\n",
      "{1, 2, 3}\n",
      "{8, 9, 7}\n",
      "{1, 2, 3, 7, 8, 9}\n"
     ]
    }
   ],
   "source": [
    "# Sets can be combined using mathematical operations.\n",
    "# The union operator | combines two sets to form a new one containing items in either.\n",
    "# The intersection operator & gets items only in both.\n",
    "# The difference operator - gets items in the first set but not in the second.\n",
    "# The symmetric difference operator ^ gets items in either set, but not both.\n",
    "\n",
    "first = {1, 2, 3, 4, 5, 6}\n",
    "second = {4, 5, 6, 7, 8, 9}\n",
    "\n",
    "print(first | second)\n",
    "print(first & second)\n",
    "print(first - second)\n",
    "print(second - first)\n",
    "print(first ^ second)"
   ]
  },
  {
   "cell_type": "code",
   "execution_count": null,
   "metadata": {},
   "outputs": [],
   "source": [
    "set1 = {2, 4, 5, 6}  \n",
    "set2 = {4, 6, 7, 8, 11, 42, 2}  \n",
    "\n",
    "#your code goes here\n",
    "print(set1.intersection(set2))"
   ]
  },
  {
   "cell_type": "code",
   "execution_count": 10,
   "metadata": {},
   "outputs": [
    {
     "name": "stdout",
     "output_type": "stream",
     "text": [
      "{3}\n"
     ]
    }
   ],
   "source": [
    "a = {1, 2, 3}\n",
    "b = {0, 3, 4, 5}\n",
    "print(a & b)"
   ]
  },
  {
   "cell_type": "code",
   "execution_count": 11,
   "metadata": {},
   "outputs": [
    {
     "name": "stdout",
     "output_type": "stream",
     "text": [
      "3\n",
      "4\n",
      "5\n",
      "6\n",
      "7\n",
      "8\n",
      "9\n",
      "10\n",
      "11\n"
     ]
    }
   ],
   "source": [
    "from itertools import count\n",
    "\n",
    "for i in count(3):\n",
    "  print(i)\n",
    "  if i >=11:\n",
    "    break"
   ]
  },
  {
   "cell_type": "code",
   "execution_count": 14,
   "metadata": {},
   "outputs": [],
   "source": [
    "# There are many functions in itertools that operate on iterables, in a similar way to map and filter.\n",
    "# Some examples:\n",
    "# takewhile - takes items from an iterable while a predicate function remains true;\n",
    "# chain - combines several iterables into one long one;\n",
    "# accumulate - returns a running total of values in an iterable.\n",
    "\n",
    "from itertools import accumulate, takewhile\n",
    "\n"
   ]
  },
  {
   "cell_type": "code",
   "execution_count": 20,
   "metadata": {},
   "outputs": [
    {
     "name": "stdout",
     "output_type": "stream",
     "text": [
      "0\n",
      "1\n",
      "3\n",
      "6\n",
      "10\n",
      "15\n",
      "21\n",
      "28\n"
     ]
    }
   ],
   "source": [
    "for i in iter(accumulate(range(8))):\n",
    "    print(i)"
   ]
  },
  {
   "cell_type": "code",
   "execution_count": 25,
   "metadata": {},
   "outputs": [
    {
     "data": {
      "text/plain": [
       "[0, 1, 3, 6, 10, 15, 21, 28]"
      ]
     },
     "execution_count": 25,
     "metadata": {},
     "output_type": "execute_result"
    }
   ],
   "source": [
    "[x for x in iter(accumulate(range(8)))]"
   ]
  },
  {
   "cell_type": "code",
   "execution_count": 28,
   "metadata": {},
   "outputs": [
    {
     "data": {
      "text/plain": [
       "[0, 1, 3, 6, 10, 15, 21, 28]"
      ]
     },
     "execution_count": 28,
     "metadata": {},
     "output_type": "execute_result"
    }
   ],
   "source": [
    "[x for x in accumulate(range(8))]"
   ]
  },
  {
   "cell_type": "code",
   "execution_count": 27,
   "metadata": {},
   "outputs": [
    {
     "name": "stdout",
     "output_type": "stream",
     "text": [
      "[0, 1, 3, 6, 10, 15, 21, 28]\n",
      "[0, 1, 3, 6]\n"
     ]
    }
   ],
   "source": [
    "nums = [x for x in iter(accumulate(range(8)))]\n",
    "print(nums)\n",
    "print([x for x in takewhile(lambda x: x<= 6, nums)])"
   ]
  },
  {
   "cell_type": "code",
   "execution_count": 30,
   "metadata": {},
   "outputs": [
    {
     "name": "stdout",
     "output_type": "stream",
     "text": [
      "[('A', 0), ('A', 1), ('B', 0), ('B', 1)]\n",
      "[('A', 'B'), ('B', 'A')]\n"
     ]
    }
   ],
   "source": [
    "from itertools import product, permutations\n",
    "\n",
    "letters = (\"A\", \"B\")\n",
    "print([x for x in product(letters, range(2))])\n",
    "print([x for x in permutations(letters)])"
   ]
  },
  {
   "cell_type": "code",
   "execution_count": 31,
   "metadata": {},
   "outputs": [
    {
     "name": "stdout",
     "output_type": "stream",
     "text": [
      "6\n"
     ]
    }
   ],
   "source": [
    "from itertools import product\n",
    "a={1, 2}\n",
    "print(len([x for x in product(range(3), a)]))"
   ]
  },
  {
   "cell_type": "code",
   "execution_count": 1,
   "metadata": {},
   "outputs": [
    {
     "name": "stdout",
     "output_type": "stream",
     "text": [
      "2\n"
     ]
    }
   ],
   "source": [
    "nums = {1, 2, 3, 4, 5, 6}\n",
    "nums = {0, 1, 2, 3} & nums\n",
    "nums = filter(lambda x: x > 1, nums)\n",
    "print(len(list(nums)))"
   ]
  },
  {
   "cell_type": "code",
   "execution_count": 2,
   "metadata": {},
   "outputs": [
    {
     "name": "stdout",
     "output_type": "stream",
     "text": [
      "8\n"
     ]
    }
   ],
   "source": [
    "def power(x, y):\n",
    "    if y == 0:\n",
    "        return 1\n",
    "    else:\n",
    "        return x * power(x, y-1)\n",
    "\n",
    "print(power(2, 3))"
   ]
  },
  {
   "cell_type": "code",
   "execution_count": 1,
   "metadata": {},
   "outputs": [
    {
     "name": "stdout",
     "output_type": "stream",
     "text": [
      "[2, 8]\n"
     ]
    }
   ],
   "source": [
    "nums = [1, 2, 8, 3, 7]\n",
    "res = list(filter(lambda x: x%2 ==0, nums))\n",
    "print(res)"
   ]
  },
  {
   "cell_type": "code",
   "execution_count": 6,
   "metadata": {},
   "outputs": [
    {
     "data": {
      "text/plain": [
       "5"
      ]
     },
     "execution_count": 6,
     "metadata": {},
     "output_type": "execute_result"
    }
   ],
   "source": [
    "num = int(input())\n",
    "\n",
    "def fibonacci(n):\n",
    "\t#complete the recursive function\n",
    "    if n <= 1:\n",
    "        return n\n",
    "    else:\n",
    "        return(fibonacci(n-1)+fibonacci(n-2))\n",
    "\n",
    "fibonacci(num)"
   ]
  },
  {
   "cell_type": "code",
   "execution_count": 7,
   "metadata": {},
   "outputs": [
    {
     "data": {
      "text/plain": [
       "55"
      ]
     },
     "execution_count": 7,
     "metadata": {},
     "output_type": "execute_result"
    }
   ],
   "source": [
    "num = int(input())\n",
    "\n",
    "def fibonacci(n):\n",
    "\t#complete the recursive function\n",
    "    if n < 0:\n",
    "        print(\"Incorrect input\") \n",
    "    # Check if n is 0\n",
    "    # then it will return 0\n",
    "    elif n == 0:\n",
    "        return 0\n",
    " \n",
    "    # Check if n is 1,2\n",
    "    # it will return 1\n",
    "    elif n == 1 or n == 2:\n",
    "        return 1\n",
    " \n",
    "    else:\n",
    "        return fibonacci(n-1) + fibonacci(n-2)\n",
    "\n",
    "fibonacci(num)"
   ]
  },
  {
   "cell_type": "code",
   "execution_count": 15,
   "metadata": {},
   "outputs": [
    {
     "name": "stdout",
     "output_type": "stream",
     "text": [
      "0\n",
      "1\n",
      "1\n",
      "2\n",
      "3\n",
      "5\n",
      "8\n",
      "13\n",
      "21\n",
      "34\n"
     ]
    }
   ],
   "source": [
    "num = int(input())\n",
    "\n",
    "def fibonacci(n):\n",
    "\t#complete the recursive function    \n",
    "    if n < 0:\n",
    "        print(\"Incorrect input\") \n",
    "    # Check if n is 0\n",
    "    # then it will return 0\n",
    "    elif n == 0:\n",
    "        return 0\n",
    " \n",
    "    # Check if n is 1,2\n",
    "    # it will return 1\n",
    "    elif n == 1 or n == 2:\n",
    "        return 1 \n",
    "    else:\n",
    "        return fibonacci(n-1) + fibonacci(n-2)\t\n",
    "\n",
    "for i in range(num):\n",
    "    print(fibonacci(i))"
   ]
  },
  {
   "cell_type": "code",
   "execution_count": null,
   "metadata": {},
   "outputs": [],
   "source": []
  },
  {
   "cell_type": "markdown",
   "metadata": {},
   "source": [
    "#### Object Oriented Programming"
   ]
  },
  {
   "cell_type": "code",
   "execution_count": null,
   "metadata": {},
   "outputs": [],
   "source": [
    "class Cat:\n",
    "  def __init__(self, color, legs):\n",
    "    self.color = color\n",
    "    self.legs = legs\n",
    "\n",
    "felix = Cat(\"ginger\", 4)\n",
    "rover = Cat(\"dog-colored\", 4)\n",
    "stumpy = Cat(\"brown\", 3)"
   ]
  },
  {
   "cell_type": "code",
   "execution_count": 1,
   "metadata": {},
   "outputs": [
    {
     "name": "stdout",
     "output_type": "stream",
     "text": [
      "ginger\n"
     ]
    }
   ],
   "source": [
    "class Cat:\n",
    "  def __init__(self, color, legs):\n",
    "    self.color = color\n",
    "    self.legs = legs\n",
    "\n",
    "felix = Cat(\"ginger\", 4)\n",
    "print(felix.color)"
   ]
  },
  {
   "cell_type": "code",
   "execution_count": 7,
   "metadata": {},
   "outputs": [
    {
     "name": "stdout",
     "output_type": "stream",
     "text": [
      "John says hi\n"
     ]
    }
   ],
   "source": [
    "class Student:\n",
    "    def __init__(self, name):\n",
    "        self.name = name\n",
    "    \n",
    "    def greet(self):\n",
    "        print(self.name+\" says hi\")\n",
    "\n",
    "obj = Student(\"John\")\n",
    "obj.greet()"
   ]
  },
  {
   "cell_type": "code",
   "execution_count": 8,
   "metadata": {},
   "outputs": [
    {
     "name": "stdout",
     "output_type": "stream",
     "text": [
      "ginger\n"
     ]
    }
   ],
   "source": [
    "class Cat:\n",
    "  def __init__(self, its_color, its_legs):\n",
    "    self.color = its_color\n",
    "    self.legs = its_legs\n",
    "\n",
    "felix = Cat(\"ginger\", 4)\n",
    "print(felix.color)"
   ]
  },
  {
   "cell_type": "code",
   "execution_count": 9,
   "metadata": {},
   "outputs": [
    {
     "name": "stdout",
     "output_type": "stream",
     "text": [
      "Fido\n",
      "Woof!\n"
     ]
    }
   ],
   "source": [
    "class Dog:\n",
    "  def __init__(self, name, color):\n",
    "    self.name = name\n",
    "    self.color = color\n",
    "\n",
    "  def bark(self):\n",
    "    print(\"Woof!\")\n",
    "\n",
    "fido = Dog(\"Fido\", \"brown\")\n",
    "print(fido.name)\n",
    "fido.bark()"
   ]
  },
  {
   "cell_type": "code",
   "execution_count": 11,
   "metadata": {},
   "outputs": [
    {
     "data": {
      "text/plain": [
       "'brown'"
      ]
     },
     "execution_count": 11,
     "metadata": {},
     "output_type": "execute_result"
    }
   ],
   "source": [
    "fido.color"
   ]
  },
  {
   "cell_type": "code",
   "execution_count": 13,
   "metadata": {},
   "outputs": [
    {
     "name": "stdout",
     "output_type": "stream",
     "text": [
      "Woof!\n"
     ]
    }
   ],
   "source": [
    "fido.bark()"
   ]
  },
  {
   "cell_type": "code",
   "execution_count": 15,
   "metadata": {},
   "outputs": [
    {
     "name": "stdout",
     "output_type": "stream",
     "text": [
      "Woof!\n"
     ]
    }
   ],
   "source": [
    "Dog(\"Fido\",\"Brown\").bark()"
   ]
  },
  {
   "cell_type": "code",
   "execution_count": 16,
   "metadata": {},
   "outputs": [
    {
     "name": "stdout",
     "output_type": "stream",
     "text": [
      "4\n",
      "4\n"
     ]
    }
   ],
   "source": [
    "class Dog:\n",
    "  legs = 4\n",
    "  def __init__(self, name, color):\n",
    "    self.name = name\n",
    "    self.color = color\n",
    "\n",
    "fido = Dog(\"Fido\", \"brown\")\n",
    "print(fido.legs)\n",
    "print(Dog.legs)"
   ]
  },
  {
   "cell_type": "code",
   "execution_count": 21,
   "metadata": {},
   "outputs": [
    {
     "name": "stdout",
     "output_type": "stream",
     "text": [
      "Hi from Amy\n"
     ]
    }
   ],
   "source": [
    "class Student:\n",
    "    def __init__(self, its_name):\n",
    "        self.name = its_name\n",
    "    def sayHi(self):\n",
    "        print(\"Hi from \"+ self.name)\n",
    "  \n",
    "s1 = Student(\"Amy\")\n",
    "s1.sayHi()"
   ]
  },
  {
   "cell_type": "code",
   "execution_count": 23,
   "metadata": {},
   "outputs": [
    {
     "name": "stdout",
     "output_type": "stream",
     "text": [
      "7\n"
     ]
    },
    {
     "ename": "AttributeError",
     "evalue": "'Rectangle' object has no attribute 'color'",
     "output_type": "error",
     "traceback": [
      "\u001b[1;31m---------------------------------------------------------------------------\u001b[0m",
      "\u001b[1;31mAttributeError\u001b[0m                            Traceback (most recent call last)",
      "\u001b[1;32m<ipython-input-23-0b70d9d9ee8f>\u001b[0m in \u001b[0;36m<module>\u001b[1;34m\u001b[0m\n\u001b[0;32m      6\u001b[0m \u001b[0mrect\u001b[0m \u001b[1;33m=\u001b[0m \u001b[0mRectangle\u001b[0m\u001b[1;33m(\u001b[0m\u001b[1;36m7\u001b[0m\u001b[1;33m,\u001b[0m \u001b[1;36m8\u001b[0m\u001b[1;33m)\u001b[0m\u001b[1;33m\u001b[0m\u001b[1;33m\u001b[0m\u001b[0m\n\u001b[0;32m      7\u001b[0m \u001b[0mprint\u001b[0m\u001b[1;33m(\u001b[0m\u001b[0mrect\u001b[0m\u001b[1;33m.\u001b[0m\u001b[0mwidth\u001b[0m\u001b[1;33m)\u001b[0m\u001b[1;33m\u001b[0m\u001b[1;33m\u001b[0m\u001b[0m\n\u001b[1;32m----> 8\u001b[1;33m \u001b[0mprint\u001b[0m\u001b[1;33m(\u001b[0m\u001b[0mrect\u001b[0m\u001b[1;33m.\u001b[0m\u001b[0mcolor\u001b[0m\u001b[1;33m)\u001b[0m\u001b[1;33m\u001b[0m\u001b[1;33m\u001b[0m\u001b[0m\n\u001b[0m",
      "\u001b[1;31mAttributeError\u001b[0m: 'Rectangle' object has no attribute 'color'"
     ]
    }
   ],
   "source": [
    "class Rectangle: \n",
    "  def __init__(self, width, height):\n",
    "    self.width = width\n",
    "    self.height = height\n",
    "\n",
    "rect = Rectangle(7, 8)\n",
    "print(rect.width)\n",
    "print(rect.color)"
   ]
  },
  {
   "cell_type": "code",
   "execution_count": 1,
   "metadata": {},
   "outputs": [
    {
     "name": "stdout",
     "output_type": "stream",
     "text": [
      "brown\n",
      "Woof!\n"
     ]
    }
   ],
   "source": [
    "class Animal: \n",
    "  def __init__(self, name, color):\n",
    "    self.name = name\n",
    "    self.color = color\n",
    "\n",
    "class Cat(Animal):\n",
    "  def purr(self):\n",
    "    print(\"Purr...\")\n",
    "        \n",
    "class Dog(Animal):\n",
    "  def bark(self):\n",
    "    print(\"Woof!\")\n",
    "\n",
    "fido = Dog(\"Fido\", \"brown\")\n",
    "print(fido.color)\n",
    "fido.bark()"
   ]
  },
  {
   "cell_type": "code",
   "execution_count": 2,
   "metadata": {},
   "outputs": [
    {
     "name": "stdout",
     "output_type": "stream",
     "text": [
      "Woof\n"
     ]
    }
   ],
   "source": [
    "class Wolf: \n",
    "  def __init__(self, name, color):\n",
    "    self.name = name\n",
    "    self.color = color\n",
    "\n",
    "  def bark(self):\n",
    "    print(\"Grr...\")\n",
    "\n",
    "class Dog(Wolf):\n",
    "  def bark(self):\n",
    "    print(\"Woof\")\n",
    "        \n",
    "husky = Dog(\"Max\", \"grey\")\n",
    "husky.bark()"
   ]
  },
  {
   "cell_type": "code",
   "execution_count": 4,
   "metadata": {},
   "outputs": [
    {
     "name": "stdout",
     "output_type": "stream",
     "text": [
      "Beep!\n"
     ]
    }
   ],
   "source": [
    "\n",
    "\n",
    "class Car:\n",
    "    def __init__(self, name, color):\n",
    "        self.name = name\n",
    "        self.color = color\n",
    "class Vehicle(Car): \n",
    "    def horn(self):\n",
    "        print(\"Beep!\")\n",
    "\n",
    "obj = Vehicle(\"BMW\", \"red\")\n",
    "obj.horn()"
   ]
  },
  {
   "cell_type": "code",
   "execution_count": 5,
   "metadata": {},
   "outputs": [
    {
     "name": "stdout",
     "output_type": "stream",
     "text": [
      "Beep!\n"
     ]
    }
   ],
   "source": [
    "class Vehicle: \n",
    "    def horn(self):\n",
    "        print(\"Beep!\")\n",
    "\n",
    "class Car(Vehicle):\n",
    "    def __init__(self, name, color):\n",
    "        self.name = name\n",
    "        self.color = color\n",
    "\n",
    "obj = Car(\"BMW\", \"red\")\n",
    "obj.horn()"
   ]
  },
  {
   "cell_type": "code",
   "execution_count": 6,
   "metadata": {},
   "outputs": [
    {
     "name": "stdout",
     "output_type": "stream",
     "text": [
      "A method\n",
      "B method\n",
      "C method\n"
     ]
    }
   ],
   "source": [
    "class A:\n",
    "  def method(self):\n",
    "    print(\"A method\")\n",
    "    \n",
    "class B(A):\n",
    "  def another_method(self):\n",
    "    print(\"B method\")\n",
    "    \n",
    "class C(B):\n",
    "  def third_method(self):\n",
    "    print(\"C method\")\n",
    "    \n",
    "c = C()\n",
    "c.method()\n",
    "c.another_method()\n",
    "c.third_method()"
   ]
  },
  {
   "cell_type": "code",
   "execution_count": 9,
   "metadata": {},
   "outputs": [
    {
     "name": "stdout",
     "output_type": "stream",
     "text": [
      "2\n"
     ]
    }
   ],
   "source": [
    "class A:\n",
    "    def a(self):\n",
    "        print(1)\n",
    "\n",
    "class B(A):\n",
    "    def a(self):\n",
    "        print(2)\n",
    "\n",
    "class C(B):\n",
    "    def c(self):\n",
    "        print(3)\n",
    "\n",
    "c = C()\n",
    "c.a()"
   ]
  },
  {
   "cell_type": "code",
   "execution_count": 10,
   "metadata": {},
   "outputs": [
    {
     "name": "stdout",
     "output_type": "stream",
     "text": [
      "1\n"
     ]
    }
   ],
   "source": [
    "class A:\n",
    "    def a(self):\n",
    "        print(1)\n",
    "\n",
    "class B(A):\n",
    "    def b(self):\n",
    "        print(2)\n",
    "\n",
    "class C(B):\n",
    "    def c(self):\n",
    "        print(3)\n",
    "\n",
    "c = C()\n",
    "c.a()"
   ]
  },
  {
   "cell_type": "code",
   "execution_count": 11,
   "metadata": {},
   "outputs": [
    {
     "name": "stdout",
     "output_type": "stream",
     "text": [
      "2\n",
      "1\n"
     ]
    }
   ],
   "source": [
    "class A:\n",
    "  def spam(self):\n",
    "    print(1)\n",
    "\n",
    "class B(A):\n",
    "  def spam(self):\n",
    "    print(2)\n",
    "    super().spam()\n",
    "            \n",
    "B().spam()"
   ]
  },
  {
   "cell_type": "code",
   "execution_count": 1,
   "metadata": {},
   "outputs": [
    {
     "name": "stdout",
     "output_type": "stream",
     "text": [
      "8\n",
      "16\n"
     ]
    }
   ],
   "source": [
    "class Vector2D:\n",
    "  def __init__(self, x, y):\n",
    "    self.x = x\n",
    "    self.y = y\n",
    "  def __add__(self, other):\n",
    "    return Vector2D(self.x + other.x, self.y + other.y)\n",
    "\n",
    "first = Vector2D(5, 7)\n",
    "second = Vector2D(3, 9)\n",
    "result = first + second\n",
    "print(result.x)\n",
    "print(result.y)"
   ]
  },
  {
   "cell_type": "code",
   "execution_count": 2,
   "metadata": {},
   "outputs": [
    {
     "name": "stdout",
     "output_type": "stream",
     "text": [
      "spam\n",
      "============\n",
      "Hello world!\n"
     ]
    }
   ],
   "source": [
    "class SpecialString:\n",
    "  def __init__(self, cont):\n",
    "    self.cont = cont\n",
    "\n",
    "  def __truediv__(self, other):\n",
    "    line = \"=\" * len(other.cont)\n",
    "    return \"\\n\".join([self.cont, line, other.cont])\n",
    "\n",
    "spam = SpecialString(\"spam\")\n",
    "hello = SpecialString(\"Hello world!\")\n",
    "print(spam / hello)"
   ]
  },
  {
   "cell_type": "code",
   "execution_count": 4,
   "metadata": {},
   "outputs": [
    {
     "name": "stdout",
     "output_type": "stream",
     "text": [
      "1066\n",
      "1024\n"
     ]
    }
   ],
   "source": [
    "class BankAccount:\n",
    "    def __init__(self, balance):\n",
    "        self.balance = balance\n",
    "    def __add__(self, other):\n",
    "        return BankAccount(self.balance + other.balance)\n",
    "        \n",
    "\n",
    "a = BankAccount(1024)\n",
    "b = BankAccount(42)\n",
    "\n",
    "result = a + b\n",
    "print(result.balance)\n",
    "print(a.balance)"
   ]
  },
  {
   "cell_type": "code",
   "execution_count": 5,
   "metadata": {},
   "outputs": [
    {
     "name": "stdout",
     "output_type": "stream",
     "text": [
      ">spam>eggs\n",
      "e>spam>ggs\n",
      "eg>spam>gs\n",
      "egg>spam>s\n",
      "eggs>spam>\n"
     ]
    }
   ],
   "source": [
    "class SpecialString:\n",
    "  def __init__(self, cont):\n",
    "    self.cont = cont\n",
    "\n",
    "  def __gt__(self, other):\n",
    "    for index in range(len(other.cont)+1):\n",
    "      result = other.cont[:index] + \">\" + self.cont\n",
    "      result += \">\" + other.cont[index:]\n",
    "      print(result)\n",
    "\n",
    "spam = SpecialString(\"spam\")\n",
    "eggs = SpecialString(\"eggs\")\n",
    "spam > eggs"
   ]
  },
  {
   "cell_type": "code",
   "execution_count": 6,
   "metadata": {},
   "outputs": [
    {
     "name": "stdout",
     "output_type": "stream",
     "text": [
      "5\n",
      "5\n",
      "C\n",
      "D\n"
     ]
    }
   ],
   "source": [
    "import random\n",
    "\n",
    "class VagueList:\n",
    "  def __init__(self, cont):\n",
    "    self.cont = cont\n",
    "\n",
    "  def __getitem__(self, index):\n",
    "    return self.cont[index + random.randint(-1, 1)]\n",
    "\n",
    "  def __len__(self):\n",
    "    return random.randint(0, len(self.cont)*2)\n",
    "\n",
    "vague_list = VagueList([\"A\", \"B\", \"C\", \"D\", \"E\"])\n",
    "print(len(vague_list))\n",
    "print(len(vague_list))\n",
    "print(vague_list[2])\n",
    "print(vague_list[2])"
   ]
  },
  {
   "cell_type": "code",
   "execution_count": 7,
   "metadata": {},
   "outputs": [],
   "source": [
    "a = 42  # Create object <42>\n",
    "b = a  # Increase ref. count  of <42> \n",
    "c = [a]  # Increase ref. count  of <42> \n",
    "\n",
    "del a  # Decrease ref. count  of <42>\n",
    "b = 100  # Decrease ref. count  of <42> \n",
    "c[0] = -1  # Decrease ref. count  of <42>"
   ]
  },
  {
   "cell_type": "code",
   "execution_count": 8,
   "metadata": {},
   "outputs": [
    {
     "name": "stdout",
     "output_type": "stream",
     "text": [
      "Queue([1, 2, 3])\n",
      "Queue([0, 1, 2, 3])\n",
      "Queue([0, 1, 2])\n",
      "[0, 1, 2]\n"
     ]
    }
   ],
   "source": [
    "class Queue:\n",
    "  def __init__(self, contents):\n",
    "    self._hiddenlist = list(contents)\n",
    "\n",
    "  def push(self, value):\n",
    "    self._hiddenlist.insert(0, value)\n",
    "   \n",
    "  def pop(self):\n",
    "    return self._hiddenlist.pop(-1)\n",
    "\n",
    "  def __repr__(self):\n",
    "    return \"Queue({})\".format(self._hiddenlist)\n",
    "\n",
    "queue = Queue([1, 2, 3])\n",
    "print(queue)\n",
    "queue.push(0)\n",
    "print(queue)\n",
    "queue.pop()\n",
    "print(queue)\n",
    "print(queue._hiddenlist)"
   ]
  },
  {
   "cell_type": "code",
   "execution_count": 9,
   "metadata": {},
   "outputs": [
    {
     "name": "stdout",
     "output_type": "stream",
     "text": [
      "7\n",
      "7\n"
     ]
    },
    {
     "ename": "AttributeError",
     "evalue": "'Spam' object has no attribute '__egg'",
     "output_type": "error",
     "traceback": [
      "\u001b[1;31m---------------------------------------------------------------------------\u001b[0m",
      "\u001b[1;31mAttributeError\u001b[0m                            Traceback (most recent call last)",
      "\u001b[1;32m<ipython-input-9-7a9e862edc3f>\u001b[0m in \u001b[0;36m<module>\u001b[1;34m\u001b[0m\n\u001b[0;32m      7\u001b[0m \u001b[0ms\u001b[0m\u001b[1;33m.\u001b[0m\u001b[0mprint_egg\u001b[0m\u001b[1;33m(\u001b[0m\u001b[1;33m)\u001b[0m\u001b[1;33m\u001b[0m\u001b[1;33m\u001b[0m\u001b[0m\n\u001b[0;32m      8\u001b[0m \u001b[0mprint\u001b[0m\u001b[1;33m(\u001b[0m\u001b[0ms\u001b[0m\u001b[1;33m.\u001b[0m\u001b[0m_Spam__egg\u001b[0m\u001b[1;33m)\u001b[0m\u001b[1;33m\u001b[0m\u001b[1;33m\u001b[0m\u001b[0m\n\u001b[1;32m----> 9\u001b[1;33m \u001b[0mprint\u001b[0m\u001b[1;33m(\u001b[0m\u001b[0ms\u001b[0m\u001b[1;33m.\u001b[0m\u001b[0m__egg\u001b[0m\u001b[1;33m)\u001b[0m\u001b[1;33m\u001b[0m\u001b[1;33m\u001b[0m\u001b[0m\n\u001b[0m",
      "\u001b[1;31mAttributeError\u001b[0m: 'Spam' object has no attribute '__egg'"
     ]
    }
   ],
   "source": [
    "class Spam:\n",
    "  __egg = 7\n",
    "  def print_egg(self):\n",
    "    print(self.__egg)\n",
    "\n",
    "s = Spam()\n",
    "s.print_egg()\n",
    "print(s._Spam__egg)\n",
    "print(s.__egg)"
   ]
  },
  {
   "cell_type": "code",
   "execution_count": 10,
   "metadata": {},
   "outputs": [
    {
     "name": "stdout",
     "output_type": "stream",
     "text": [
      "Account Balance: 15\n"
     ]
    }
   ],
   "source": [
    "class BankAccount:\n",
    "    def __init__(self, balance):\n",
    "        self._balance = balance\n",
    "\n",
    "    def __repr__(self):\n",
    "         return \"Account Balance: {}\".format(self._balance)\n",
    "    \n",
    "    def deposit(self, amount):\n",
    "        self._balance = amount\n",
    "        #your code goes here\n",
    "\n",
    "acc = BankAccount(0)\n",
    "acc.deposit(int(input()))\n",
    "print(acc)"
   ]
  },
  {
   "cell_type": "code",
   "execution_count": 11,
   "metadata": {},
   "outputs": [
    {
     "name": "stdout",
     "output_type": "stream",
     "text": [
      "Account Balance: 0\n"
     ]
    }
   ],
   "source": [
    "acc2 = BankAccount(0)\n",
    "print(acc2)"
   ]
  },
  {
   "cell_type": "code",
   "execution_count": 2,
   "metadata": {},
   "outputs": [
    {
     "name": "stdout",
     "output_type": "stream",
     "text": [
      "25\n"
     ]
    }
   ],
   "source": [
    "class Rectangle:\n",
    "  def __init__(self, width, height):\n",
    "    self.width = width\n",
    "    self.height = height\n",
    "\n",
    "  def calculate_area(self):\n",
    "    return self.width * self.height\n",
    "\n",
    "  @classmethod\n",
    "  def new_square(cls, side_length):\n",
    "    return cls(side_length, side_length)\n",
    "\n",
    "square = Rectangle.new_square(5)\n",
    "print(square.calculate_area())"
   ]
  },
  {
   "cell_type": "code",
   "execution_count": 1,
   "metadata": {},
   "outputs": [],
   "source": [
    "class Pizza:\n",
    "  def __init__(self, toppings):\n",
    "    self.toppings = toppings\n",
    "\n",
    "  @staticmethod\n",
    "  def validate_topping(topping):\n",
    "    if topping == \"pineapple\":\n",
    "      raise ValueError(\"No pineapples!\")\n",
    "    else:\n",
    "      return True\n",
    "\n",
    "ingredients = [\"cheese\", \"onions\", \"spam\"]\n",
    "if all(Pizza.validate_topping(i) for i in ingredients):\n",
    "  pizza = Pizza(ingredients)"
   ]
  },
  {
   "cell_type": "code",
   "execution_count": 7,
   "metadata": {},
   "outputs": [
    {
     "name": "stdout",
     "output_type": "stream",
     "text": [
      "20\n"
     ]
    }
   ],
   "source": [
    "class Calculator:\n",
    "    #your code goes here\n",
    "\n",
    "    @staticmethod\n",
    "    def add(x,y):\n",
    "        return x+y\n",
    "\n",
    "n1 = int(input())\n",
    "n2 = int(input())\n",
    "\n",
    "print(Calculator.add(n1, n2))"
   ]
  },
  {
   "cell_type": "code",
   "execution_count": 1,
   "metadata": {},
   "outputs": [
    {
     "name": "stdout",
     "output_type": "stream",
     "text": [
      "False\n"
     ]
    },
    {
     "ename": "AttributeError",
     "evalue": "can't set attribute",
     "output_type": "error",
     "traceback": [
      "\u001b[1;31m---------------------------------------------------------------------------\u001b[0m",
      "\u001b[1;31mAttributeError\u001b[0m                            Traceback (most recent call last)",
      "\u001b[1;32m<ipython-input-1-3369e7f9a30d>\u001b[0m in \u001b[0;36m<module>\u001b[1;34m\u001b[0m\n\u001b[0;32m      9\u001b[0m \u001b[0mpizza\u001b[0m \u001b[1;33m=\u001b[0m \u001b[0mPizza\u001b[0m\u001b[1;33m(\u001b[0m\u001b[1;33m[\u001b[0m\u001b[1;34m\"cheese\"\u001b[0m\u001b[1;33m,\u001b[0m \u001b[1;34m\"tomato\"\u001b[0m\u001b[1;33m]\u001b[0m\u001b[1;33m)\u001b[0m\u001b[1;33m\u001b[0m\u001b[1;33m\u001b[0m\u001b[0m\n\u001b[0;32m     10\u001b[0m \u001b[0mprint\u001b[0m\u001b[1;33m(\u001b[0m\u001b[0mpizza\u001b[0m\u001b[1;33m.\u001b[0m\u001b[0mpineapple_allowed\u001b[0m\u001b[1;33m)\u001b[0m\u001b[1;33m\u001b[0m\u001b[1;33m\u001b[0m\u001b[0m\n\u001b[1;32m---> 11\u001b[1;33m \u001b[0mpizza\u001b[0m\u001b[1;33m.\u001b[0m\u001b[0mpineapple_allowed\u001b[0m \u001b[1;33m=\u001b[0m \u001b[1;32mTrue\u001b[0m\u001b[1;33m\u001b[0m\u001b[1;33m\u001b[0m\u001b[0m\n\u001b[0m",
      "\u001b[1;31mAttributeError\u001b[0m: can't set attribute"
     ]
    }
   ],
   "source": [
    "class Pizza:\n",
    "  def __init__(self, toppings):\n",
    "    self.toppings = toppings\n",
    "    \n",
    "  @property\n",
    "  def pineapple_allowed(self):\n",
    "    return False\n",
    "\n",
    "pizza = Pizza([\"cheese\", \"tomato\"])\n",
    "print(pizza.pineapple_allowed)\n",
    "pizza.pineapple_allowed = True"
   ]
  },
  {
   "cell_type": "code",
   "execution_count": 2,
   "metadata": {},
   "outputs": [],
   "source": [
    "class Person:\n",
    "    def __init__(self, age):\n",
    "        self.age = int(age)\n",
    "  \n",
    "    @property\n",
    "    def isAdult(self):\n",
    "        if self.age > 18:\n",
    "            return True\n",
    "        else:\n",
    "            return False"
   ]
  },
  {
   "cell_type": "code",
   "execution_count": 4,
   "metadata": {},
   "outputs": [
    {
     "name": "stdout",
     "output_type": "stream",
     "text": [
      "False\n",
      "True\n"
     ]
    }
   ],
   "source": [
    "class Pizza:\n",
    "  def __init__(self, toppings):\n",
    "    self.toppings = toppings\n",
    "    self._pineapple_allowed = False\n",
    "\n",
    "  @property\n",
    "  def pineapple_allowed(self):\n",
    "    return self._pineapple_allowed\n",
    "\n",
    "  @pineapple_allowed.setter\n",
    "  def pineapple_allowed(self, value):\n",
    "    if value:\n",
    "      password = input(\"Enter the password: \")\n",
    "      if password == \"Sw0rdf1sh!\":\n",
    "        self._pineapple_allowed = value\n",
    "      else:\n",
    "        raise ValueError(\"Alert! Intruder!\")\n",
    "\n",
    "pizza = Pizza([\"cheese\", \"tomato\"])\n",
    "print(pizza.pineapple_allowed)\n",
    "pizza.pineapple_allowed = True\n",
    "print(pizza.pineapple_allowed)"
   ]
  },
  {
   "cell_type": "code",
   "execution_count": 10,
   "metadata": {},
   "outputs": [
    {
     "name": "stdout",
     "output_type": "stream",
     "text": [
      "True\n"
     ]
    }
   ],
   "source": [
    "class Number:\n",
    "    def __init__(self, num):\n",
    "        self.value = num\n",
    "    \n",
    "    @property\n",
    "    def isEven(self):\n",
    "        if self.value % 2 == 0:\n",
    "            return True\n",
    "        else:\n",
    "            return False \n",
    "        \n",
    "    #your code goes here\n",
    "   \n",
    " \n",
    "x = Number(int(input()))\n",
    "print(x.isEven)"
   ]
  },
  {
   "cell_type": "code",
   "execution_count": 11,
   "metadata": {},
   "outputs": [
    {
     "name": "stdout",
     "output_type": "stream",
     "text": [
      "Unknown verb eve\n",
      "Unknown verb eve\n",
      "Unknown verb geldim\n",
      "You said \"yes\"\n",
      "You said \"nothing\"\n",
      "Unknown verb tell\n"
     ]
    }
   ],
   "source": [
    "def get_input():\n",
    "  command = input(\": \").split()\n",
    "  verb_word = command[0]\n",
    "  if verb_word in verb_dict:\n",
    "    verb = verb_dict[verb_word]\n",
    "  else:\n",
    "    print(\"Unknown verb {}\". format(verb_word))\n",
    "    return\n",
    "\n",
    "  if len(command) >= 2:\n",
    "    noun_word = command[1]\n",
    "    print (verb(noun_word))\n",
    "  else:\n",
    "    print(verb(\"nothing\"))\n",
    "\n",
    "def say(noun):\n",
    "  return 'You said \"{}\"'.format(noun)\n",
    "\n",
    "verb_dict = {\n",
    "  \"say\": say,\n",
    "}\n",
    "\n",
    "while True:\n",
    "  get_input()"
   ]
  },
  {
   "cell_type": "code",
   "execution_count": 3,
   "metadata": {},
   "outputs": [
    {
     "name": "stdout",
     "output_type": "stream",
     "text": [
      "Unknown verb Hello\n",
      "You said \"nothing\"\n",
      "You said \"hello\"\n",
      "Unknown verb hello\n",
      "Unknown verb goblin\n",
      "Unknown verb Gobbly\n"
     ]
    }
   ],
   "source": [
    "class GameObject:\n",
    "  class_name = \"\"\n",
    "  desc = \"\"\n",
    "  objects = {}\n",
    "\n",
    "  def __init__(self, name):\n",
    "    self.name = name\n",
    "    GameObject.objects[self.class_name] = self\n",
    "\n",
    "  def get_desc(self):\n",
    "    return self.class_name + \"\\n\" + self.desc\n",
    "\n",
    "class Goblin(GameObject):\n",
    "  class_name = \"goblin\"\n",
    "  desc = \"A foul creature\"\n",
    "\n",
    "goblin = Goblin(\"Gobbly\")\n",
    "\n",
    "def examine(noun):\n",
    "  if noun in GameObject.objects:\n",
    "    return GameObject.objects[noun].get_desc()\n",
    "  else:\n",
    "    return \"There is no {} here.\".format(noun)\n",
    "\n",
    "def get_input():\n",
    "  command = input(\": \").split()\n",
    "  verb_word = command[0]\n",
    "  if verb_word in verb_dict:\n",
    "    verb = verb_dict[verb_word]\n",
    "  else:\n",
    "    print(\"Unknown verb {}\". format(verb_word))\n",
    "    return\n",
    "\n",
    "  if len(command) >= 2:\n",
    "    noun_word = command[1]\n",
    "    print (verb(noun_word))\n",
    "  else:\n",
    "    print(verb(\"nothing\"))\n",
    "\n",
    "def say(noun):\n",
    "  return 'You said \"{}\"'.format(noun)\n",
    "\n",
    "verb_dict = {\n",
    "  \"say\": say,\n",
    "}\n",
    "\n",
    "while True:\n",
    "  get_input()\n",
    "\n",
    "\n",
    "  verb_dict = {\n",
    "  \"say\": say,\n",
    "  \"examine\": examine,\n",
    "}"
   ]
  },
  {
   "cell_type": "code",
   "execution_count": null,
   "metadata": {},
   "outputs": [],
   "source": [
    "class Goblin(GameObject):\n",
    "  def __init__(self, name):\n",
    "    self.class_name = \"goblin\"\n",
    "    self.health = 3\n",
    "    self._desc = \" A foul creature\"\n",
    "    super().__init__(name)\n",
    "\n",
    "  @property\n",
    "  def desc(self):\n",
    "    if self.health >=3:\n",
    "      return self._desc\n",
    "    elif self.health == 2:\n",
    "      health_line = \"It has a wound on its knee.\"\n",
    "    elif self.health == 1:\n",
    "      health_line = \"Its left arm has been cut off!\"\n",
    "    elif self.health <= 0:\n",
    "      health_line = \"It is dead.\"\n",
    "    return self._desc + \"\\n\" + health_line\n",
    "\n",
    "  @desc.setter\n",
    "  def desc(self, value):\n",
    "    self._desc = value\n",
    "\n",
    "def hit(noun):\n",
    "  if noun in GameObject.objects:\n",
    "    thing = GameObject.objects[noun]\n",
    "    if type(thing) == Goblin:\n",
    "      thing.health = thing.health - 1\n",
    "      if thing.health <= 0:\n",
    "        msg = \"You killed the goblin!\"\n",
    "      else: \n",
    "        msg = \"You hit the {}\".format(thing.class_name)\n",
    "  else:\n",
    "    msg =\"There is no {} here.\".format(noun) \n",
    "  return msg"
   ]
  },
  {
   "cell_type": "code",
   "execution_count": null,
   "metadata": {},
   "outputs": [],
   "source": []
  },
  {
   "cell_type": "code",
   "execution_count": null,
   "metadata": {},
   "outputs": [],
   "source": []
  },
  {
   "cell_type": "markdown",
   "metadata": {},
   "source": [
    "#### Regular Expressions"
   ]
  },
  {
   "cell_type": "code",
   "execution_count": 1,
   "metadata": {},
   "outputs": [
    {
     "name": "stdout",
     "output_type": "stream",
     "text": [
      "Match\n"
     ]
    }
   ],
   "source": [
    "import re\n",
    "\n",
    "pattern = r\"spam\"\n",
    "\n",
    "if re.match(pattern, \"spamspamspam\"):\n",
    "   print(\"Match\")\n",
    "else:\n",
    "   print(\"No match\")"
   ]
  },
  {
   "cell_type": "code",
   "execution_count": 2,
   "metadata": {},
   "outputs": [
    {
     "name": "stdout",
     "output_type": "stream",
     "text": [
      "No match\n",
      "Match\n",
      "['spam', 'spam']\n"
     ]
    }
   ],
   "source": [
    "pattern = r\"spam\"\n",
    "\n",
    "if re.match(pattern, \"eggspamsausagespam\"):\n",
    "   print(\"Match\")\n",
    "else:\n",
    "   print(\"No match\")\n",
    "\n",
    "if re.search(pattern, \"eggspamsausagespam\"):\n",
    "   print(\"Match\")\n",
    "else:\n",
    "   print(\"No match\")\n",
    "    \n",
    "print(re.findall(pattern, \"eggspamsausagespam\"))"
   ]
  },
  {
   "cell_type": "code",
   "execution_count": 3,
   "metadata": {},
   "outputs": [
    {
     "name": "stdout",
     "output_type": "stream",
     "text": [
      "pam\n",
      "4\n",
      "7\n",
      "(4, 7)\n"
     ]
    }
   ],
   "source": [
    "pattern = r\"pam\"\n",
    "\n",
    "match = re.search(pattern, \"eggspamsausage\")\n",
    "if match:\n",
    "   print(match.group())\n",
    "   print(match.start())\n",
    "   print(match.end())\n",
    "   print(match.span())"
   ]
  },
  {
   "cell_type": "code",
   "execution_count": 4,
   "metadata": {},
   "outputs": [
    {
     "name": "stdout",
     "output_type": "stream",
     "text": [
      "My name is Amy. Hi Amy.\n"
     ]
    }
   ],
   "source": [
    "# re.sub(pattern, repl, string, count=0)\n",
    "\n",
    "str = \"My name is David. Hi David.\"\n",
    "pattern = r\"David\"\n",
    "newstr = re.sub(pattern, \"Amy\", str)\n",
    "print(newstr)"
   ]
  },
  {
   "cell_type": "code",
   "execution_count": 7,
   "metadata": {},
   "outputs": [
    {
     "data": {
      "text/plain": [
       "'+14860098'"
      ]
     },
     "execution_count": 7,
     "metadata": {},
     "output_type": "execute_result"
    }
   ],
   "source": [
    "re.sub('00', '+', '0014860098', 1)"
   ]
  },
  {
   "cell_type": "code",
   "execution_count": 10,
   "metadata": {},
   "outputs": [
    {
     "name": "stdout",
     "output_type": "stream",
     "text": [
      "+256425\n"
     ]
    }
   ],
   "source": [
    "# re.sub(pattern, repl, string, count=0)\n",
    "\n",
    "str = input()\n",
    "if str.startswith('00'):\n",
    "    new_result = re.sub('00', '+', str, 1)\n",
    "else:\n",
    "    new_result = str\n",
    "print(new_result)"
   ]
  },
  {
   "cell_type": "code",
   "execution_count": null,
   "metadata": {},
   "outputs": [],
   "source": []
  },
  {
   "cell_type": "code",
   "execution_count": null,
   "metadata": {},
   "outputs": [],
   "source": []
  },
  {
   "cell_type": "code",
   "execution_count": null,
   "metadata": {},
   "outputs": [],
   "source": []
  }
 ],
 "metadata": {
  "kernelspec": {
   "display_name": "Python 3",
   "language": "python",
   "name": "python3"
  },
  "language_info": {
   "codemirror_mode": {
    "name": "ipython",
    "version": 3
   },
   "file_extension": ".py",
   "mimetype": "text/x-python",
   "name": "python",
   "nbconvert_exporter": "python",
   "pygments_lexer": "ipython3",
   "version": "3.9.0"
  },
  "orig_nbformat": 4
 },
 "nbformat": 4,
 "nbformat_minor": 2
}
