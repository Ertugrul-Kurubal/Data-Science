{
 "cells": [
  {
   "cell_type": "markdown",
   "metadata": {},
   "source": [
    "### Trainer Sample"
   ]
  },
  {
   "cell_type": "markdown",
   "metadata": {},
   "source": [
    "#### Solo Learn"
   ]
  },
  {
   "cell_type": "code",
   "execution_count": 4,
   "metadata": {},
   "outputs": [
    {
     "name": "stdout",
     "output_type": "stream",
     "text": [
      "5.0\n",
      "Finished\n"
     ]
    }
   ],
   "source": [
    "try:\n",
    "    variable = 10\n",
    "    print (10 / 2)\n",
    "except ZeroDivisionError:\n",
    "    print(\"Error\")\n",
    "print(\"Finished\")"
   ]
  },
  {
   "cell_type": "code",
   "execution_count": 5,
   "metadata": {},
   "outputs": [
    {
     "name": "stdout",
     "output_type": "stream",
     "text": [
      "Error occurred\n"
     ]
    }
   ],
   "source": [
    "try:\n",
    "    variable = 10\n",
    "    print(variable + \"hello\")\n",
    "    print(variable / 2)\n",
    "except ZeroDivisionError:\n",
    "    print(\"Divided by zero\")\n",
    "except (ValueError, TypeError):\n",
    "    print(\"Error occurred\")"
   ]
  },
  {
   "cell_type": "code",
   "execution_count": 7,
   "metadata": {},
   "outputs": [
    {
     "name": "stdout",
     "output_type": "stream",
     "text": [
      "Divided by zero\n"
     ]
    }
   ],
   "source": [
    "try:\n",
    "    meaning = 42\n",
    "    print(meaning / 0)\n",
    "    print(\"the meaning of life\")\n",
    "except (ValueError, TypeError):\n",
    "    print(\"ValueError or TypeError occurred\")\n",
    "except ZeroDivisionError:\n",
    "    print(\"Divided by zero\")"
   ]
  },
  {
   "cell_type": "code",
   "execution_count": 9,
   "metadata": {},
   "outputs": [
    {
     "name": "stdout",
     "output_type": "stream",
     "text": [
      "PIN code is creeated\n"
     ]
    }
   ],
   "source": [
    "pin = input()\n",
    "try:\n",
    "\t#your code goes here\n",
    "\tif pin.isnumeric():\n",
    "\t\tprint(\"PIN code is creeated\")\n",
    "\telse:\n",
    "\t\tprint(\"Please enter a number\")\t\n",
    "\n",
    "except ValueError:\n",
    "\t#and here\n",
    "\tprint(\"Error\")"
   ]
  },
  {
   "cell_type": "code",
   "execution_count": null,
   "metadata": {},
   "outputs": [],
   "source": []
  },
  {
   "cell_type": "code",
   "execution_count": null,
   "metadata": {},
   "outputs": [],
   "source": []
  },
  {
   "cell_type": "code",
   "execution_count": null,
   "metadata": {},
   "outputs": [],
   "source": []
  },
  {
   "cell_type": "code",
   "execution_count": null,
   "metadata": {},
   "outputs": [],
   "source": []
  },
  {
   "cell_type": "code",
   "execution_count": null,
   "metadata": {},
   "outputs": [],
   "source": []
  }
 ],
 "metadata": {
  "kernelspec": {
   "display_name": "Python 3",
   "language": "python",
   "name": "python3"
  },
  "language_info": {
   "codemirror_mode": {
    "name": "ipython",
    "version": 3
   },
   "file_extension": ".py",
   "mimetype": "text/x-python",
   "name": "python",
   "nbconvert_exporter": "python",
   "pygments_lexer": "ipython3",
   "version": "3.9.0"
  },
  "orig_nbformat": 4
 },
 "nbformat": 4,
 "nbformat_minor": 2
}
