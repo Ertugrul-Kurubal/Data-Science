{
 "cells": [
  {
   "attachments": {},
   "cell_type": "markdown",
   "metadata": {},
   "source": [
    "### Regex"
   ]
  },
  {
   "cell_type": "code",
   "execution_count": 1,
   "metadata": {},
   "outputs": [],
   "source": [
    "import numpy as np\n",
    "import pandas as pd\n",
    "import matplotlib.pyplot as plt\n",
    "import seaborn as sns\n",
    "import re"
   ]
  },
  {
   "cell_type": "code",
   "execution_count": null,
   "metadata": {},
   "outputs": [],
   "source": []
  },
  {
   "attachments": {},
   "cell_type": "markdown",
   "metadata": {},
   "source": [
    "#### Clean Text"
   ]
  },
  {
   "cell_type": "code",
   "execution_count": 2,
   "metadata": {},
   "outputs": [
    {
     "name": "stdout",
     "output_type": "stream",
     "text": [
      "['Is u nog daar, Graaf Andrassy?\\n', 'Ja, U Majesteit\\n', '- Waarnatoe gaan ons nou?\\n', '- ek dink hiernatoe\\n', 'Nee, ek dink hierheen\\n', 'Ek dink ons is verdwaal\\n', 'Ek is bevrees u is reg, ons moet omdraai\\n', \"Nee, ek hou nie van verloor nie, kom ons rus 'n rukkie\\n\", 'Graag, U Majesteit\\n', 'Hier, U Majesteit\\n', 'Dankie\\n', 'Hulle sal wonder waar ons is\\n', 'Hulle sal bly wees dat ons verdwaal het\\n', 'Ons is gewoonlik eerste\\n', 'Graaf Andrassy, ek kan jou nie vertel hoe gelukkig ek in Hongarye is nie\\n', 'Ek is bly, U Majesteit\\n', 'Hier voel ek so vry soos in Possenhofen\\n', 'In Oostenryk, sou dit vir my onmoontlik wees om onbeskermd te ry, daar sou ten minste 20 geheime polisie wees agter die bome en bosse, wat sekermaak niks sleg gebeur nie\\n', 'Hier is U Majesteit onder my persoonlike beskerming\\n', 'Ja, maar dis nie net hierdie gevoel van vryheid wat Hongarye so lekker maak nie;\\n', 'Hier het ek my kind net vir myself\\n', \"Die kleintjie praat al 'n paar woorde Hongaars\\n\", 'Ek het dit verneem\\n', 'Kom ons gaan stap bietjie\\n', 'U perd het mooi gespring\\n', 'Uitstekend!\\n', 'Baie goed!\\n', 'Het Graaf Batthyani homself verskoon van die jag?\\n']\n"
     ]
    }
   ],
   "source": [
    "try:\n",
    "  with open(\"/media/kurubal/SSD/Data Scientist/Data Science/Data-Scientist/Work/Modern Ways/Other/Read Corpus/af.txt\", \"r\", encoding=\"utf-8\") as file:\n",
    "    text_data = file.readlines(1000) # As list \n",
    "    print(text_data)\n",
    "except:\n",
    "  print(\"There is not such a file  or path is incorrect\")"
   ]
  },
  {
   "cell_type": "code",
   "execution_count": 3,
   "metadata": {},
   "outputs": [
    {
     "data": {
      "text/plain": [
       "\"Is u nog daar, Graaf Andrassy?\\n Ja, U Majesteit\\n - Waarnatoe gaan ons nou?\\n - ek dink hiernatoe\\n Nee, ek dink hierheen\\n Ek dink ons is verdwaal\\n Ek is bevrees u is reg, ons moet omdraai\\n Nee, ek hou nie van verloor nie, kom ons rus 'n rukkie\\n Graag, U Majesteit\\n Hier, U Majesteit\\n Dankie\\n Hulle sal wonder waar ons is\\n Hulle sal bly wees dat ons verdwaal het\\n Ons is gewoonlik eerste\\n Graaf Andrassy, ek kan jou nie vertel hoe gelukkig ek in Hongarye is nie\\n Ek is bly, U Majesteit\\n Hier voel ek so vry soos in Possenhofen\\n In Oostenryk, sou dit vir my onmoontlik wees om onbeskermd te ry, daar sou ten minste 20 geheime polisie wees agter die bome en bosse, wat sekermaak niks sleg gebeur nie\\n Hier is U Majesteit onder my persoonlike beskerming\\n Ja, maar dis nie net hierdie gevoel van vryheid wat Hongarye so lekker maak nie;\\n Hier het ek my kind net vir myself\\n Die kleintjie praat al 'n paar woorde Hongaars\\n Ek het dit verneem\\n Kom ons gaan stap bietjie\\n U perd het mooi gespring\\n Uitstekend!\\n Baie goed!\\n Het Graaf Batthyani homself verskoon van die jag?\\n\""
      ]
     },
     "execution_count": 3,
     "metadata": {},
     "output_type": "execute_result"
    }
   ],
   "source": [
    "text_data = \" \".join(text_data) # convert list\n",
    "text_data"
   ]
  },
  {
   "cell_type": "code",
   "execution_count": 4,
   "metadata": {},
   "outputs": [
    {
     "data": {
      "text/plain": [
       "['Is u nog daar, Graaf Andrassy?',\n",
       " ' Ja, U Majesteit',\n",
       " ' - Waarnatoe gaan ons nou?',\n",
       " ' - ek dink hiernatoe',\n",
       " ' Nee, ek dink hierheen',\n",
       " ' Ek dink ons is verdwaal',\n",
       " ' Ek is bevrees u is reg, ons moet omdraai',\n",
       " \" Nee, ek hou nie van verloor nie, kom ons rus 'n rukkie\",\n",
       " ' Graag, U Majesteit',\n",
       " ' Hier, U Majesteit',\n",
       " ' Dankie',\n",
       " ' Hulle sal wonder waar ons is',\n",
       " ' Hulle sal bly wees dat ons verdwaal het',\n",
       " ' Ons is gewoonlik eerste',\n",
       " ' Graaf Andrassy, ek kan jou nie vertel hoe gelukkig ek in Hongarye is nie',\n",
       " ' Ek is bly, U Majesteit',\n",
       " ' Hier voel ek so vry soos in Possenhofen',\n",
       " ' In Oostenryk, sou dit vir my onmoontlik wees om onbeskermd te ry, daar sou ten minste 20 geheime polisie wees agter die bome en bosse, wat sekermaak niks sleg gebeur nie',\n",
       " ' Hier is U Majesteit onder my persoonlike beskerming',\n",
       " ' Ja, maar dis nie net hierdie gevoel van vryheid wat Hongarye so lekker maak nie;',\n",
       " ' Hier het ek my kind net vir myself',\n",
       " \" Die kleintjie praat al 'n paar woorde Hongaars\",\n",
       " ' Ek het dit verneem',\n",
       " ' Kom ons gaan stap bietjie',\n",
       " ' U perd het mooi gespring',\n",
       " ' Uitstekend!',\n",
       " ' Baie goed!',\n",
       " ' Het Graaf Batthyani homself verskoon van die jag?',\n",
       " '']"
      ]
     },
     "execution_count": 4,
     "metadata": {},
     "output_type": "execute_result"
    }
   ],
   "source": [
    "text_data = text_data.split(\"\\n\") # remove \"\\n\"\n",
    "text_data"
   ]
  },
  {
   "cell_type": "code",
   "execution_count": 5,
   "metadata": {},
   "outputs": [
    {
     "data": {
      "text/plain": [
       "\"Is u nog daar, Graaf Andrassy?  Ja, U Majesteit  - Waarnatoe gaan ons nou?  - ek dink hiernatoe  Nee, ek dink hierheen  Ek dink ons is verdwaal  Ek is bevrees u is reg, ons moet omdraai  Nee, ek hou nie van verloor nie, kom ons rus 'n rukkie  Graag, U Majesteit  Hier, U Majesteit  Dankie  Hulle sal wonder waar ons is  Hulle sal bly wees dat ons verdwaal het  Ons is gewoonlik eerste  Graaf Andrassy, ek kan jou nie vertel hoe gelukkig ek in Hongarye is nie  Ek is bly, U Majesteit  Hier voel ek so vry soos in Possenhofen  In Oostenryk, sou dit vir my onmoontlik wees om onbeskermd te ry, daar sou ten minste 20 geheime polisie wees agter die bome en bosse, wat sekermaak niks sleg gebeur nie  Hier is U Majesteit onder my persoonlike beskerming  Ja, maar dis nie net hierdie gevoel van vryheid wat Hongarye so lekker maak nie;  Hier het ek my kind net vir myself  Die kleintjie praat al 'n paar woorde Hongaars  Ek het dit verneem  Kom ons gaan stap bietjie  U perd het mooi gespring  Uitstekend!  Baie goed!  Het Graaf Batthyani homself verskoon van die jag? \""
      ]
     },
     "execution_count": 5,
     "metadata": {},
     "output_type": "execute_result"
    }
   ],
   "source": [
    "text_data = \" \".join(text_data)\n",
    "text_data"
   ]
  },
  {
   "cell_type": "code",
   "execution_count": 6,
   "metadata": {},
   "outputs": [
    {
     "data": {
      "text/plain": [
       "'Is u nog daar Graaf Andrassy  Ja U Majesteit   Waarnatoe gaan ons nou   ek dink hiernatoe  Nee ek dink hierheen  Ek dink ons is verdwaal  Ek is bevrees u is reg ons moet omdraai  Nee ek hou nie van verloor nie kom ons rus n rukkie  Graag U Majesteit  Hier U Majesteit  Dankie  Hulle sal wonder waar ons is  Hulle sal bly wees dat ons verdwaal het  Ons is gewoonlik eerste  Graaf Andrassy ek kan jou nie vertel hoe gelukkig ek in Hongarye is nie  Ek is bly U Majesteit  Hier voel ek so vry soos in Possenhofen  In Oostenryk sou dit vir my onmoontlik wees om onbeskermd te ry daar sou ten minste 20 geheime polisie wees agter die bome en bosse wat sekermaak niks sleg gebeur nie  Hier is U Majesteit onder my persoonlike beskerming  Ja maar dis nie net hierdie gevoel van vryheid wat Hongarye so lekker maak nie  Hier het ek my kind net vir myself  Die kleintjie praat al n paar woorde Hongaars  Ek het dit verneem  Kom ons gaan stap bietjie  U perd het mooi gespring  Uitstekend  Baie goed  Het Graaf Batthyani homself verskoon van die jag '"
      ]
     },
     "execution_count": 6,
     "metadata": {},
     "output_type": "execute_result"
    }
   ],
   "source": [
    "re.sub(pattern=\"[^\\w\\s]\", repl=\"\", string=text_data) # clean punc"
   ]
  },
  {
   "cell_type": "code",
   "execution_count": null,
   "metadata": {},
   "outputs": [],
   "source": []
  },
  {
   "attachments": {},
   "cell_type": "markdown",
   "metadata": {},
   "source": [
    "#### Sub"
   ]
  },
  {
   "cell_type": "code",
   "execution_count": 7,
   "metadata": {},
   "outputs": [],
   "source": [
    "text = \"ali [ ara ] baktın mı ] eve [\""
   ]
  },
  {
   "cell_type": "code",
   "execution_count": 8,
   "metadata": {},
   "outputs": [
    {
     "data": {
      "text/plain": [
       "'ali  ara ] baktın mı ] eve '"
      ]
     },
     "execution_count": 8,
     "metadata": {},
     "output_type": "execute_result"
    }
   ],
   "source": [
    "test2 = re.sub(r\"\\[\", \"\", text)\n",
    "test2"
   ]
  },
  {
   "cell_type": "code",
   "execution_count": 9,
   "metadata": {},
   "outputs": [
    {
     "data": {
      "text/plain": [
       "'ali  ara  baktın mı  eve '"
      ]
     },
     "execution_count": 9,
     "metadata": {},
     "output_type": "execute_result"
    }
   ],
   "source": [
    "test3 = re.sub(r\"\\]\", \"\", test2)\n",
    "test3"
   ]
  },
  {
   "cell_type": "code",
   "execution_count": 10,
   "metadata": {},
   "outputs": [],
   "source": [
    "text2 = \"mehmet ayrı yaşadığı ^ daire dahil^ olan ^hakkı\""
   ]
  },
  {
   "cell_type": "code",
   "execution_count": 11,
   "metadata": {},
   "outputs": [
    {
     "data": {
      "text/plain": [
       "'mehmet ayrı yaşadığı   daire dahil  olan  hakkı'"
      ]
     },
     "execution_count": 11,
     "metadata": {},
     "output_type": "execute_result"
    }
   ],
   "source": [
    "re.sub(r\"\\^\", \" \", text2) # remove ^. Note: Regex characters use with backslash. ^ is also regex character. "
   ]
  },
  {
   "cell_type": "code",
   "execution_count": 12,
   "metadata": {},
   "outputs": [],
   "source": [
    "text3 = \"elif cakal @dolabımdakini aşırmış ve ses#ini çıkarmı@yor\""
   ]
  },
  {
   "cell_type": "code",
   "execution_count": 13,
   "metadata": {},
   "outputs": [
    {
     "data": {
      "text/plain": [
       "'elif cakal dolabımdakini aşırmış ve sesini çıkarmıyor'"
      ]
     },
     "execution_count": 13,
     "metadata": {},
     "output_type": "execute_result"
    }
   ],
   "source": [
    "re.sub(r\"([@#])\", \"\", text3)"
   ]
  },
  {
   "cell_type": "code",
   "execution_count": 14,
   "metadata": {},
   "outputs": [],
   "source": [
    "text4 = \"[Peki, ben [nasıl bir] 15 ? maymunum?]\""
   ]
  },
  {
   "cell_type": "code",
   "execution_count": 15,
   "metadata": {},
   "outputs": [
    {
     "data": {
      "text/plain": [
       "'Peki, ben [nasıl bir] 15 ? maymunum?'"
      ]
     },
     "execution_count": 15,
     "metadata": {},
     "output_type": "execute_result"
    }
   ],
   "source": [
    "text4 = text4.strip(\"[]\")\n",
    "text4"
   ]
  },
  {
   "cell_type": "code",
   "execution_count": 16,
   "metadata": {},
   "outputs": [
    {
     "data": {
      "text/plain": [
       "'Peki, ben  15 ? maymunum?'"
      ]
     },
     "execution_count": 16,
     "metadata": {},
     "output_type": "execute_result"
    }
   ],
   "source": [
    "text4 = re.sub('[\\(\\[\\{].*?[\\)\\]\\}]', '', text4) # clean brackets and their data\n",
    "text4"
   ]
  },
  {
   "cell_type": "code",
   "execution_count": 17,
   "metadata": {},
   "outputs": [
    {
     "data": {
      "text/plain": [
       "'Peki ben  15  maymunum'"
      ]
     },
     "execution_count": 17,
     "metadata": {},
     "output_type": "execute_result"
    }
   ],
   "source": [
    "re.sub(r'[^\\w\\s]','',text4) # clean punc"
   ]
  },
  {
   "cell_type": "code",
   "execution_count": null,
   "metadata": {},
   "outputs": [],
   "source": []
  },
  {
   "attachments": {},
   "cell_type": "markdown",
   "metadata": {},
   "source": [
    "#### Findall"
   ]
  },
  {
   "cell_type": "code",
   "execution_count": 18,
   "metadata": {},
   "outputs": [],
   "source": [
    "text5 = \"Ahmet ali  eve gelali Istanbul Bogazının KRALI alinin Emele düğünü Ali'den Bogazindan daliye Mahmut Efendi MAHSUN\""
   ]
  },
  {
   "cell_type": "code",
   "execution_count": 19,
   "metadata": {},
   "outputs": [
    {
     "data": {
      "text/plain": [
       "[' ali ', ' alin', \" Ali'\"]"
      ]
     },
     "execution_count": 19,
     "metadata": {},
     "output_type": "execute_result"
    }
   ],
   "source": [
    "re.findall(f\"(?:\\s|^)ali+.\", text5, flags=re.IGNORECASE)"
   ]
  },
  {
   "cell_type": "code",
   "execution_count": 20,
   "metadata": {},
   "outputs": [
    {
     "data": {
      "text/plain": [
       "['Ahmet',\n",
       " ' Istanbul',\n",
       " ' Bogaz',\n",
       " ' Emele',\n",
       " ' Ali',\n",
       " ' Bogazindan',\n",
       " ' Mahmut',\n",
       " ' Efendi']"
      ]
     },
     "execution_count": 20,
     "metadata": {},
     "output_type": "execute_result"
    }
   ],
   "source": [
    "re.findall(f\"(?:\\s|^)[A-Z]+[a-z]+\", text5, flags=re.UNICODE) # finding capital letter word"
   ]
  },
  {
   "cell_type": "code",
   "execution_count": 21,
   "metadata": {},
   "outputs": [
    {
     "data": {
      "text/plain": [
       "['Ahmet',\n",
       " ' Istanbul',\n",
       " ' Bogaz',\n",
       " 'KRALI',\n",
       " ' Emele',\n",
       " ' Ali',\n",
       " ' Bogazindan',\n",
       " ' Mahmut',\n",
       " ' Efendi',\n",
       " 'MAHSUN']"
      ]
     },
     "execution_count": 21,
     "metadata": {},
     "output_type": "execute_result"
    }
   ],
   "source": [
    "re.findall(f\"(?:\\s|^)[A-Z]+[a-z]+|[A-Z]+\", text5, flags=re.UNICODE) # finding capital letter word or UPPER letter"
   ]
  },
  {
   "cell_type": "code",
   "execution_count": 22,
   "metadata": {},
   "outputs": [],
   "source": [
    "with open(\"/media/kurubal/SSD/Data Scientist/Data Science/Data-Scientist/Work/Modern Ways/Other/Read Corpus/af.txt\", \"r\",encoding=\"latin1\") as file:\n",
    "    text6 = file.read(300)"
   ]
  },
  {
   "cell_type": "code",
   "execution_count": 23,
   "metadata": {},
   "outputs": [
    {
     "data": {
      "text/plain": [
       "['Is',\n",
       " ' Graaf',\n",
       " ' Andrassy',\n",
       " '\\nJa',\n",
       " 'U',\n",
       " ' Majesteit',\n",
       " ' Waarnatoe',\n",
       " '\\nNee',\n",
       " '\\nEk',\n",
       " '\\nEk',\n",
       " '\\nNee',\n",
       " '\\nGraag',\n",
       " 'U',\n",
       " ' Majesteit',\n",
       " '\\nHier',\n",
       " 'U',\n",
       " ' Majesteit',\n",
       " '\\nDankie',\n",
       " '\\nHulle']"
      ]
     },
     "execution_count": 23,
     "metadata": {},
     "output_type": "execute_result"
    }
   ],
   "source": [
    "capital_letter_word = re.findall(f\"(?:\\s|^)[A-Z]+[a-z]+|[A-Z]+\", text6, flags=re.UNICODE)\n",
    "capital_letter_word"
   ]
  },
  {
   "cell_type": "code",
   "execution_count": 24,
   "metadata": {},
   "outputs": [],
   "source": [
    "text7 = \"ali? 15 april\""
   ]
  },
  {
   "cell_type": "code",
   "execution_count": 224,
   "metadata": {},
   "outputs": [
    {
     "data": {
      "text/plain": [
       "['a', 'l', 'i', '1', '5', 'a', 'p', 'r', 'i', 'l']"
      ]
     },
     "execution_count": 224,
     "metadata": {},
     "output_type": "execute_result"
    }
   ],
   "source": [
    "re.findall(\"\\w\", text7)"
   ]
  },
  {
   "cell_type": "code",
   "execution_count": 225,
   "metadata": {},
   "outputs": [
    {
     "data": {
      "text/plain": [
       "['ali', '15', 'april']"
      ]
     },
     "execution_count": 225,
     "metadata": {},
     "output_type": "execute_result"
    }
   ],
   "source": [
    "re.findall(\"\\w+\", text7)"
   ]
  },
  {
   "cell_type": "code",
   "execution_count": 25,
   "metadata": {},
   "outputs": [
    {
     "data": {
      "text/plain": [
       "['ali?', '15 ', 'april']"
      ]
     },
     "execution_count": 25,
     "metadata": {},
     "output_type": "execute_result"
    }
   ],
   "source": [
    "re.findall(\"\\w+.\", text7) # (.) select word plus any character and (+) used for giving word group until non-word (punctuation) character "
   ]
  },
  {
   "cell_type": "code",
   "execution_count": 27,
   "metadata": {},
   "outputs": [],
   "source": [
    "text8 = \"Ali ata bak. Emel ılık süt iç. HAelık, TURKi, iLAK\""
   ]
  },
  {
   "cell_type": "code",
   "execution_count": 28,
   "metadata": {},
   "outputs": [
    {
     "data": {
      "text/plain": [
       "[('Ali', 'i'), ('Emel', 'l'), ('Ael', 'l'), ('Ki', 'i')]"
      ]
     },
     "execution_count": 28,
     "metadata": {},
     "output_type": "execute_result"
    }
   ],
   "source": [
    "re.findall('([A-Z]([a-z])+)', text8)"
   ]
  },
  {
   "cell_type": "code",
   "execution_count": 29,
   "metadata": {},
   "outputs": [
    {
     "data": {
      "text/plain": [
       "['Ali', 'Emel', 'HAelık', 'TURKi', 'LAK']"
      ]
     },
     "execution_count": 29,
     "metadata": {},
     "output_type": "execute_result"
    }
   ],
   "source": [
    "re.findall('([A-Z]\\w+)', text8)"
   ]
  },
  {
   "cell_type": "code",
   "execution_count": null,
   "metadata": {},
   "outputs": [],
   "source": []
  },
  {
   "attachments": {},
   "cell_type": "markdown",
   "metadata": {},
   "source": [
    "#### Compile And Search"
   ]
  },
  {
   "cell_type": "code",
   "execution_count": 30,
   "metadata": {},
   "outputs": [],
   "source": [
    "a = \"ali ata\""
   ]
  },
  {
   "cell_type": "code",
   "execution_count": 31,
   "metadata": {},
   "outputs": [],
   "source": [
    "b = \"ata\""
   ]
  },
  {
   "cell_type": "code",
   "execution_count": 32,
   "metadata": {},
   "outputs": [],
   "source": [
    "regexxp = re.compile(f\"(?:\\s|^){b}(?:\\s|$)\")"
   ]
  },
  {
   "cell_type": "code",
   "execution_count": 33,
   "metadata": {},
   "outputs": [
    {
     "data": {
      "text/plain": [
       "<re.Match object; span=(3, 7), match=' ata'>"
      ]
     },
     "execution_count": 33,
     "metadata": {},
     "output_type": "execute_result"
    }
   ],
   "source": [
    "regexxp.search(a)"
   ]
  },
  {
   "cell_type": "code",
   "execution_count": 34,
   "metadata": {},
   "outputs": [
    {
     "name": "stdout",
     "output_type": "stream",
     "text": [
      "<re.Match object; span=(3, 7), match=' ata'>\n"
     ]
    }
   ],
   "source": [
    "print(regexxp.search(a))"
   ]
  },
  {
   "cell_type": "code",
   "execution_count": 35,
   "metadata": {},
   "outputs": [],
   "source": [
    "result = re.search(fr\"(?:\\s|^){b}(?:\\s|$)\", a)"
   ]
  },
  {
   "cell_type": "code",
   "execution_count": 36,
   "metadata": {},
   "outputs": [
    {
     "name": "stdout",
     "output_type": "stream",
     "text": [
      "<re.Match object; span=(3, 7), match=' ata'>\n"
     ]
    }
   ],
   "source": [
    "print(result)"
   ]
  },
  {
   "cell_type": "code",
   "execution_count": 37,
   "metadata": {},
   "outputs": [],
   "source": [
    "cus = re.compile(\"[abcdef]\",re.IGNORECASE)"
   ]
  },
  {
   "cell_type": "code",
   "execution_count": 38,
   "metadata": {},
   "outputs": [],
   "source": [
    "text9 = \"ali ata bak\""
   ]
  },
  {
   "cell_type": "code",
   "execution_count": 39,
   "metadata": {},
   "outputs": [
    {
     "data": {
      "text/plain": [
       "<re.Match object; span=(0, 1), match='a'>"
      ]
     },
     "execution_count": 39,
     "metadata": {},
     "output_type": "execute_result"
    }
   ],
   "source": [
    "cus.search(text9)"
   ]
  },
  {
   "cell_type": "code",
   "execution_count": null,
   "metadata": {},
   "outputs": [],
   "source": []
  },
  {
   "cell_type": "code",
   "execution_count": 2,
   "metadata": {},
   "outputs": [],
   "source": [
    "string_test = \"türkiye\""
   ]
  },
  {
   "cell_type": "code",
   "execution_count": 3,
   "metadata": {},
   "outputs": [
    {
     "data": {
      "text/plain": [
       "7"
      ]
     },
     "execution_count": 3,
     "metadata": {},
     "output_type": "execute_result"
    }
   ],
   "source": [
    "len(string_test)"
   ]
  },
  {
   "cell_type": "code",
   "execution_count": 4,
   "metadata": {},
   "outputs": [
    {
     "data": {
      "text/plain": [
       "'türki'"
      ]
     },
     "execution_count": 4,
     "metadata": {},
     "output_type": "execute_result"
    }
   ],
   "source": [
    "string_test[0:5]"
   ]
  },
  {
   "cell_type": "code",
   "execution_count": 5,
   "metadata": {},
   "outputs": [
    {
     "data": {
      "text/plain": [
       "0"
      ]
     },
     "execution_count": 5,
     "metadata": {},
     "output_type": "execute_result"
    }
   ],
   "source": [
    "re.search(fr\"türk\", string_test, re.UNICODE).span()[0]"
   ]
  },
  {
   "cell_type": "code",
   "execution_count": 6,
   "metadata": {},
   "outputs": [
    {
     "data": {
      "text/plain": [
       "'türk'"
      ]
     },
     "execution_count": 6,
     "metadata": {},
     "output_type": "execute_result"
    }
   ],
   "source": [
    "string_test[re.search(fr\"türk\", string_test, re.UNICODE).span()[0]:re.search(fr\"türk\", string_test, re.UNICODE).span()[1]]"
   ]
  },
  {
   "cell_type": "code",
   "execution_count": 8,
   "metadata": {},
   "outputs": [
    {
     "data": {
      "text/plain": [
       "'iye'"
      ]
     },
     "execution_count": 8,
     "metadata": {},
     "output_type": "execute_result"
    }
   ],
   "source": [
    "string_test[re.search(fr\"türk\", string_test, re.UNICODE).span()[1]:]  # suffix"
   ]
  },
  {
   "cell_type": "code",
   "execution_count": null,
   "metadata": {},
   "outputs": [],
   "source": []
  },
  {
   "attachments": {},
   "cell_type": "markdown",
   "metadata": {},
   "source": [
    "#### Custom Character"
   ]
  },
  {
   "cell_type": "code",
   "execution_count": 40,
   "metadata": {},
   "outputs": [],
   "source": [
    "text10 = \"Ahmet Tarık eve geldi mi?\""
   ]
  },
  {
   "cell_type": "code",
   "execution_count": 41,
   "metadata": {},
   "outputs": [
    {
     "data": {
      "text/plain": [
       "['Ahme', 'a', 'eve', 'eld', 'm']"
      ]
     },
     "execution_count": 41,
     "metadata": {},
     "output_type": "execute_result"
    }
   ],
   "source": [
    "re.findall(r'[aAhmevldm]+', text10)"
   ]
  },
  {
   "cell_type": "code",
   "execution_count": 42,
   "metadata": {},
   "outputs": [
    {
     "data": {
      "text/plain": [
       "['Ahme', 'a', 'eve', 'eld', 'm']"
      ]
     },
     "execution_count": 42,
     "metadata": {},
     "output_type": "execute_result"
    }
   ],
   "source": [
    "re.findall(r'[ahmevldm]+', text10, re.IGNORECASE)"
   ]
  },
  {
   "cell_type": "code",
   "execution_count": 43,
   "metadata": {},
   "outputs": [],
   "source": [
    "tr_orj = re.compile(r\"[abcçdefgğhıijklmnoöprsştuüvyz 0123456789\\.\\?\\{\\}\\[\\]\\(\\),:;!'\\\"\\$`]+\", re.IGNORECASE|re.UNICODE) # filters='!\"#$%&()*+,-./:;<=>?@[\\\\]^_`{|}~\\t\\n0123456789'"
   ]
  },
  {
   "cell_type": "code",
   "execution_count": 44,
   "metadata": {},
   "outputs": [],
   "source": [
    "text11 = \"Ayça dün sınavdan sonra susayınca cafe'den water & chocolate aldı. Fizik'teki; (Kuvvet nedir? Enerji nedir?) sorularının tanımlarını yanlış yaptığını düşündü.'Ahh! olamaz' dedi ve endişelendi.\\n Sonradan kuvvet:'Fizikte kütleli bir cisme hareket kazandıran etkidir.', enerji:'Fiziksel anlamda enerji, iş yapabilme yeteneğidir.' hatırladı ve doğru yaptığını düşündü.\""
   ]
  },
  {
   "cell_type": "code",
   "execution_count": 45,
   "metadata": {},
   "outputs": [
    {
     "data": {
      "text/plain": [
       "[\"Ayça dün sınavdan sonra susayınca cafe'den \",\n",
       " 'ater ',\n",
       " \" chocolate aldı. Fizik'teki; (Kuvvet nedir? Enerji nedir?) sorularının tanımlarını yanlış yaptığını düşündü.'Ahh! olamaz' dedi ve endişelendi.\",\n",
       " \" Sonradan kuvvet:'Fizikte kütleli bir cisme hareket kazandıran etkidir.', enerji:'Fiziksel anlamda enerji, iş yapabilme yeteneğidir.' hatırladı ve doğru yaptığını düşündü.\"]"
      ]
     },
     "execution_count": 45,
     "metadata": {},
     "output_type": "execute_result"
    }
   ],
   "source": [
    "text12 = re.findall(tr_orj, text11)\n",
    "text12"
   ]
  },
  {
   "cell_type": "code",
   "execution_count": 46,
   "metadata": {},
   "outputs": [
    {
     "data": {
      "text/plain": [
       "\"Ayça dün sınavdan sonra susayınca cafe'den ater  chocolate aldı. Fizik'teki; (Kuvvet nedir? Enerji nedir?) sorularının tanımlarını yanlış yaptığını düşündü.'Ahh! olamaz' dedi ve endişelendi. Sonradan kuvvet:'Fizikte kütleli bir cisme hareket kazandıran etkidir.', enerji:'Fiziksel anlamda enerji, iş yapabilme yeteneğidir.' hatırladı ve doğru yaptığını düşündü.\""
      ]
     },
     "execution_count": 46,
     "metadata": {},
     "output_type": "execute_result"
    }
   ],
   "source": [
    "text13 = \"\".join(text12)\n",
    "text13"
   ]
  },
  {
   "cell_type": "code",
   "execution_count": null,
   "metadata": {},
   "outputs": [],
   "source": []
  },
  {
   "attachments": {},
   "cell_type": "markdown",
   "metadata": {},
   "source": [
    "#### Option"
   ]
  },
  {
   "cell_type": "code",
   "execution_count": 49,
   "metadata": {},
   "outputs": [],
   "source": [
    "text14 = \"gray grey graey greay\""
   ]
  },
  {
   "cell_type": "code",
   "execution_count": 50,
   "metadata": {},
   "outputs": [
    {
     "data": {
      "text/plain": [
       "['gray', 'grey', 'graey']"
      ]
     },
     "execution_count": 50,
     "metadata": {},
     "output_type": "execute_result"
    }
   ],
   "source": [
    "re.findall(r\"gra?e?y\", text14) # ? represent option a or e"
   ]
  },
  {
   "cell_type": "code",
   "execution_count": 51,
   "metadata": {},
   "outputs": [
    {
     "data": {
      "text/plain": [
       "['gray', 'grey']"
      ]
     },
     "execution_count": 51,
     "metadata": {},
     "output_type": "execute_result"
    }
   ],
   "source": [
    "re.findall(r\"gr[ae]y\", text14) "
   ]
  },
  {
   "cell_type": "code",
   "execution_count": 52,
   "metadata": {},
   "outputs": [],
   "source": [
    "text15 = \"rerererererererer rarara bir şeyler şampiyon\""
   ]
  },
  {
   "cell_type": "code",
   "execution_count": 57,
   "metadata": {},
   "outputs": [
    {
     "data": {
      "text/plain": [
       "['re', 're', 're', 're', 're', 're', 're', 're', 'ra', 'ra', 'ra']"
      ]
     },
     "execution_count": 57,
     "metadata": {},
     "output_type": "execute_result"
    }
   ],
   "source": [
    "re.findall(r\"(re|ra){1}\", text15) "
   ]
  },
  {
   "cell_type": "code",
   "execution_count": 60,
   "metadata": {},
   "outputs": [
    {
     "data": {
      "text/plain": [
       "['re', 're', 're', 're', 'ra']"
      ]
     },
     "execution_count": 60,
     "metadata": {},
     "output_type": "execute_result"
    }
   ],
   "source": [
    "re.findall(r\"(re|ra){2}\", text15) # group number there is one rara group because ra occurs 3 ra."
   ]
  },
  {
   "cell_type": "code",
   "execution_count": 61,
   "metadata": {},
   "outputs": [
    {
     "data": {
      "text/plain": [
       "['re', 're', 'ra']"
      ]
     },
     "execution_count": 61,
     "metadata": {},
     "output_type": "execute_result"
    }
   ],
   "source": [
    "re.findall(r\"(re|ra){3}\", text15) "
   ]
  },
  {
   "cell_type": "code",
   "execution_count": 92,
   "metadata": {},
   "outputs": [],
   "source": [
    "digit = '123-12548 17'"
   ]
  },
  {
   "cell_type": "code",
   "execution_count": 93,
   "metadata": {},
   "outputs": [
    {
     "data": {
      "text/plain": [
       "['123-12548 17']"
      ]
     },
     "execution_count": 93,
     "metadata": {},
     "output_type": "execute_result"
    }
   ],
   "source": [
    "re.findall(\"(\\d{3}[ -]?\\d{5}[ -]?\\d{2})\", digit) # - (space) are option"
   ]
  },
  {
   "cell_type": "code",
   "execution_count": 94,
   "metadata": {},
   "outputs": [
    {
     "data": {
      "text/plain": [
       "['123-12548 17']"
      ]
     },
     "execution_count": 94,
     "metadata": {},
     "output_type": "execute_result"
    }
   ],
   "source": [
    "re.findall(\"(\\d*\\-\\d*\\ \\d*)\", digit) "
   ]
  },
  {
   "cell_type": "code",
   "execution_count": 99,
   "metadata": {},
   "outputs": [],
   "source": [
    "digit2 = '(123) 125-1217'"
   ]
  },
  {
   "cell_type": "code",
   "execution_count": 100,
   "metadata": {},
   "outputs": [
    {
     "data": {
      "text/plain": [
       "['(123) 125-1217']"
      ]
     },
     "execution_count": 100,
     "metadata": {},
     "output_type": "execute_result"
    }
   ],
   "source": [
    "re.findall(\"(\\(\\d*\\)[ -]\\d*[ -]\\d*)\", digit2) "
   ]
  },
  {
   "cell_type": "code",
   "execution_count": 101,
   "metadata": {},
   "outputs": [
    {
     "data": {
      "text/plain": [
       "['(123) 125-1217']"
      ]
     },
     "execution_count": 101,
     "metadata": {},
     "output_type": "execute_result"
    }
   ],
   "source": [
    "re.findall(\"(\\(\\d*\\)[ -]?\\d*[ -]?\\d*)\", digit2) # [ -] or [ -]? "
   ]
  },
  {
   "cell_type": "code",
   "execution_count": 111,
   "metadata": {},
   "outputs": [],
   "source": [
    "digit3 = '123 125-1217'"
   ]
  },
  {
   "cell_type": "code",
   "execution_count": 121,
   "metadata": {},
   "outputs": [
    {
     "data": {
      "text/plain": [
       "['123 125-1217', '']"
      ]
     },
     "execution_count": 121,
     "metadata": {},
     "output_type": "execute_result"
    }
   ],
   "source": [
    "re.findall(\"(\\(?\\d*\\)?[ -]?\\d*[ -]?\\d*)\", digit3)"
   ]
  },
  {
   "cell_type": "code",
   "execution_count": 113,
   "metadata": {},
   "outputs": [
    {
     "data": {
      "text/plain": [
       "['123 125-1217', '']"
      ]
     },
     "execution_count": 113,
     "metadata": {},
     "output_type": "execute_result"
    }
   ],
   "source": [
    "re.findall(\"(\\d*[ -]?\\d*[ -]?\\d*)\", digit3)"
   ]
  },
  {
   "cell_type": "code",
   "execution_count": 105,
   "metadata": {},
   "outputs": [],
   "source": [
    "digit4 = '(123)-125 1217'"
   ]
  },
  {
   "cell_type": "code",
   "execution_count": 139,
   "metadata": {},
   "outputs": [
    {
     "data": {
      "text/plain": [
       "['(123)-125 1217', '']"
      ]
     },
     "execution_count": 139,
     "metadata": {},
     "output_type": "execute_result"
    }
   ],
   "source": [
    "re.findall(\"(\\(?\\d*\\)?[ -]?\\(?\\d*\\)?[ -]?\\(?\\d*\\)?)\", digit4)"
   ]
  },
  {
   "cell_type": "code",
   "execution_count": 140,
   "metadata": {},
   "outputs": [
    {
     "data": {
      "text/plain": [
       "'(123)-125 1217'"
      ]
     },
     "execution_count": 140,
     "metadata": {},
     "output_type": "execute_result"
    }
   ],
   "source": [
    "re.findall(\"(\\(?\\d*\\)?[ -]?\\(?\\d*\\)?[ -]?\\(?\\d*\\)?)\", digit4)[0]"
   ]
  },
  {
   "cell_type": "code",
   "execution_count": 186,
   "metadata": {},
   "outputs": [],
   "source": [
    "digit5 = \"+90 (123)-546 1570\""
   ]
  },
  {
   "cell_type": "code",
   "execution_count": 195,
   "metadata": {},
   "outputs": [
    {
     "data": {
      "text/plain": [
       "[('+90 (123)-546 1570', '+90'), ('', '')]"
      ]
     },
     "execution_count": 195,
     "metadata": {},
     "output_type": "execute_result"
    }
   ],
   "source": [
    "re.findall(\"((\\+\\d*)?[ ]?\\(?\\d*\\)?[ -]?\\(?\\d*\\)?[ -]?\\(?\\d*\\)?)\", digit5)"
   ]
  },
  {
   "cell_type": "code",
   "execution_count": 196,
   "metadata": {},
   "outputs": [
    {
     "data": {
      "text/plain": [
       "['+90 (123)-546 1570']"
      ]
     },
     "execution_count": 196,
     "metadata": {},
     "output_type": "execute_result"
    }
   ],
   "source": [
    "re.findall(r\"(\\(?\\+\\d*\\)?[ ]?\\(?\\d*\\)?[ -]?\\(?\\d*\\)?[ -]?\\(?\\d*\\)?)\", digit5)"
   ]
  },
  {
   "cell_type": "code",
   "execution_count": 197,
   "metadata": {},
   "outputs": [
    {
     "data": {
      "text/plain": [
       "['+90 (123)-546', ' 1570', '']"
      ]
     },
     "execution_count": 197,
     "metadata": {},
     "output_type": "execute_result"
    }
   ],
   "source": [
    "re.findall(r\"([\\+\\d*]?[ ]?\\(?\\d*\\)?[ -]?\\(?\\d*\\)?[ -]?\\(?\\d*\\)?)\", digit5)"
   ]
  },
  {
   "cell_type": "code",
   "execution_count": 198,
   "metadata": {},
   "outputs": [
    {
     "data": {
      "text/plain": [
       "[('+90 (123)-546 1570', '+90'), ('', '')]"
      ]
     },
     "execution_count": 198,
     "metadata": {},
     "output_type": "execute_result"
    }
   ],
   "source": [
    "re.findall(\"((\\+\\d*)?[ ]?\\(?\\d*\\)?[ -]?\\(?\\d*\\)?[ -]?\\(?\\d*\\)?)\", digit5)"
   ]
  },
  {
   "cell_type": "code",
   "execution_count": 199,
   "metadata": {},
   "outputs": [],
   "source": [
    "digit6 = \"(123)-546 1570\""
   ]
  },
  {
   "cell_type": "code",
   "execution_count": 200,
   "metadata": {},
   "outputs": [
    {
     "data": {
      "text/plain": [
       "[('(123)-546 1570', ''), ('', '')]"
      ]
     },
     "execution_count": 200,
     "metadata": {},
     "output_type": "execute_result"
    }
   ],
   "source": [
    "re.findall(\"((\\+\\d*)?[ ]?\\(?\\d*\\)?[ -]?\\(?\\d*\\)?[ -]?\\(?\\d*\\)?)\", digit6)"
   ]
  },
  {
   "cell_type": "code",
   "execution_count": 202,
   "metadata": {},
   "outputs": [],
   "source": [
    "digit7 = \"+91 (123)-546 1570\""
   ]
  },
  {
   "cell_type": "code",
   "execution_count": 203,
   "metadata": {},
   "outputs": [
    {
     "data": {
      "text/plain": [
       "[('+91 (123)-546 1570', '+91 '), ('', '')]"
      ]
     },
     "execution_count": 203,
     "metadata": {},
     "output_type": "execute_result"
    }
   ],
   "source": [
    "re.findall(r\"((\\(?\\+\\d*\\)?[ ]?)?\\(?\\d*\\)?[ -]?\\(?\\d*\\)?[ -]?\\(?\\d*\\)?)\", digit7)"
   ]
  },
  {
   "cell_type": "code",
   "execution_count": 206,
   "metadata": {},
   "outputs": [
    {
     "data": {
      "text/plain": [
       "[('+91 (123)-546 1570', '+91 ', '123', '546', '1570'), ('', '', '', '', '')]"
      ]
     },
     "execution_count": 206,
     "metadata": {},
     "output_type": "execute_result"
    }
   ],
   "source": [
    "re.findall(r\"((\\(?\\+\\d*\\)?[ ]?)?\\(?(\\d*)\\)?[ -]?\\(?(\\d*)\\)?[ -]?\\(?(\\d*)\\)?)\", digit7)"
   ]
  },
  {
   "cell_type": "code",
   "execution_count": 2,
   "metadata": {},
   "outputs": [],
   "source": [
    "arabic = \"STEM|POS:N|LEM:n~aAs|ROOT:nws|MP|GEN\""
   ]
  },
  {
   "cell_type": "code",
   "execution_count": 3,
   "metadata": {},
   "outputs": [
    {
     "data": {
      "text/plain": [
       "['nws']"
      ]
     },
     "execution_count": 3,
     "metadata": {},
     "output_type": "execute_result"
    }
   ],
   "source": [
    "re.findall(r\"\\|ROOT:(.*?)\\|\", arabic)"
   ]
  },
  {
   "cell_type": "code",
   "execution_count": null,
   "metadata": {},
   "outputs": [],
   "source": []
  },
  {
   "attachments": {},
   "cell_type": "markdown",
   "metadata": {},
   "source": [
    "#### Lookbehind Lookahead"
   ]
  },
  {
   "cell_type": "code",
   "execution_count": 62,
   "metadata": {},
   "outputs": [],
   "source": [
    "text16 = \"src='htttp://www.example.com'\""
   ]
  },
  {
   "cell_type": "code",
   "execution_count": 69,
   "metadata": {},
   "outputs": [
    {
     "data": {
      "text/plain": [
       "['htttp://www.example.com']"
      ]
     },
     "execution_count": 69,
     "metadata": {},
     "output_type": "execute_result"
    }
   ],
   "source": [
    "re.findall(r\"(?<=src=')(.*)(?=')\", text16) # ?<= lookbehind equation, ?= lookahead equation. (.*) data, ?<=src=' lookbehind condition, (?=') lookahead condition\n",
    "re.findall(\"(?<=src=')(.*)(?=')\", text16)"
   ]
  },
  {
   "cell_type": "code",
   "execution_count": null,
   "metadata": {},
   "outputs": [],
   "source": []
  },
  {
   "attachments": {},
   "cell_type": "markdown",
   "metadata": {},
   "source": [
    "#### Match"
   ]
  },
  {
   "cell_type": "code",
   "execution_count": 209,
   "metadata": {},
   "outputs": [],
   "source": [
    "digit7 = \"+91 (123)-546 1570\""
   ]
  },
  {
   "cell_type": "code",
   "execution_count": 223,
   "metadata": {},
   "outputs": [
    {
     "data": {
      "text/plain": [
       "<re.Match object; span=(0, 18), match='+91 (123)-546 1570'>"
      ]
     },
     "execution_count": 223,
     "metadata": {},
     "output_type": "execute_result"
    }
   ],
   "source": [
    "re.match(r\"((\\(?\\+\\d*\\)?[ ]?)?\\(?(\\d*)\\)?[ -]?\\(?(\\d*)\\)?[ -]?\\(?(\\d*)\\)?)\", digit7)"
   ]
  },
  {
   "cell_type": "code",
   "execution_count": 210,
   "metadata": {},
   "outputs": [],
   "source": [
    "digit8 = \"(123)-546 1570\""
   ]
  },
  {
   "cell_type": "code",
   "execution_count": 214,
   "metadata": {},
   "outputs": [],
   "source": [
    "dig7 = re.match(r\"((\\(?\\+\\d*\\)?[ ]?)?\\(?(\\d*)\\)?[ -]?\\(?(\\d*)\\)?[ -]?\\(?(\\d*)\\)?)\", digit7)"
   ]
  },
  {
   "cell_type": "code",
   "execution_count": 220,
   "metadata": {},
   "outputs": [
    {
     "data": {
      "text/plain": [
       "('+91 (123)-546 1570', '+91 ', '123', '546', '1570')"
      ]
     },
     "execution_count": 220,
     "metadata": {},
     "output_type": "execute_result"
    }
   ],
   "source": [
    "dig7.groups()"
   ]
  },
  {
   "cell_type": "code",
   "execution_count": 215,
   "metadata": {},
   "outputs": [],
   "source": [
    "dig8 = re.match(r\"((\\(?\\+\\d*\\)?[ ]?)?\\(?(\\d*)\\)?[ -]?\\(?(\\d*)\\)?[ -]?\\(?(\\d*)\\)?)\", digit8)"
   ]
  },
  {
   "cell_type": "code",
   "execution_count": 221,
   "metadata": {},
   "outputs": [
    {
     "data": {
      "text/plain": [
       "('(123)-546 1570', None, '123', '546', '1570')"
      ]
     },
     "execution_count": 221,
     "metadata": {},
     "output_type": "execute_result"
    }
   ],
   "source": [
    "dig8.groups()"
   ]
  },
  {
   "cell_type": "code",
   "execution_count": 222,
   "metadata": {},
   "outputs": [
    {
     "data": {
      "text/plain": [
       "'(123)-546 1570'"
      ]
     },
     "execution_count": 222,
     "metadata": {},
     "output_type": "execute_result"
    }
   ],
   "source": [
    "dig8.groups()[0]"
   ]
  },
  {
   "cell_type": "code",
   "execution_count": null,
   "metadata": {},
   "outputs": [],
   "source": []
  },
  {
   "attachments": {},
   "cell_type": "markdown",
   "metadata": {},
   "source": [
    "#### Contains"
   ]
  },
  {
   "cell_type": "code",
   "execution_count": 2,
   "metadata": {},
   "outputs": [
    {
     "data": {
      "text/html": [
       "<div>\n",
       "<style scoped>\n",
       "    .dataframe tbody tr th:only-of-type {\n",
       "        vertical-align: middle;\n",
       "    }\n",
       "\n",
       "    .dataframe tbody tr th {\n",
       "        vertical-align: top;\n",
       "    }\n",
       "\n",
       "    .dataframe thead th {\n",
       "        text-align: right;\n",
       "    }\n",
       "</style>\n",
       "<table border=\"1\" class=\"dataframe\">\n",
       "  <thead>\n",
       "    <tr style=\"text-align: right;\">\n",
       "      <th></th>\n",
       "      <th>term</th>\n",
       "      <th>related_lang</th>\n",
       "      <th>related_term</th>\n",
       "    </tr>\n",
       "  </thead>\n",
       "  <tbody>\n",
       "    <tr>\n",
       "      <th>0</th>\n",
       "      <td>+ark</td>\n",
       "      <td>Fransızca\\n</td>\n",
       "      <td>+arque</td>\n",
       "    </tr>\n",
       "    <tr>\n",
       "      <th>1</th>\n",
       "      <td>+arşi</td>\n",
       "      <td>Fransızca\\n</td>\n",
       "      <td>+archie</td>\n",
       "    </tr>\n",
       "    <tr>\n",
       "      <th>2</th>\n",
       "      <td>+faj</td>\n",
       "      <td>Fransızca\\n ve İngilizce\\n</td>\n",
       "      <td>+phage</td>\n",
       "    </tr>\n",
       "    <tr>\n",
       "      <th>3</th>\n",
       "      <td>+gam</td>\n",
       "      <td>Fransızca\\n</td>\n",
       "      <td>+game</td>\n",
       "    </tr>\n",
       "    <tr>\n",
       "      <th>4</th>\n",
       "      <td>+gen</td>\n",
       "      <td>Fransızca\\n</td>\n",
       "      <td>+gone</td>\n",
       "    </tr>\n",
       "    <tr>\n",
       "      <th>...</th>\n",
       "      <td>...</td>\n",
       "      <td>...</td>\n",
       "      <td>...</td>\n",
       "    </tr>\n",
       "    <tr>\n",
       "      <th>150</th>\n",
       "      <td>tri+</td>\n",
       "      <td>Fransızca\\n ve İngilizce\\n</td>\n",
       "      <td>tri+</td>\n",
       "    </tr>\n",
       "    <tr>\n",
       "      <th>151</th>\n",
       "      <td>trop(o)+</td>\n",
       "      <td>Fransızca\\n ve İngilizce\\n</td>\n",
       "      <td>tropo+</td>\n",
       "    </tr>\n",
       "    <tr>\n",
       "      <th>152</th>\n",
       "      <td>üni+</td>\n",
       "      <td>Fransızca\\n ve İngilizce\\n</td>\n",
       "      <td>uni+</td>\n",
       "    </tr>\n",
       "    <tr>\n",
       "      <th>153</th>\n",
       "      <td>vaz(o)+</td>\n",
       "      <td>Fransızca\\n ve İngilizce\\n</td>\n",
       "      <td>vaso+</td>\n",
       "    </tr>\n",
       "    <tr>\n",
       "      <th>154</th>\n",
       "      <td>zo(o)+</td>\n",
       "      <td>Fransızca\\n ve İngilizce\\n</td>\n",
       "      <td>zoo+</td>\n",
       "    </tr>\n",
       "  </tbody>\n",
       "</table>\n",
       "<p>155 rows × 3 columns</p>\n",
       "</div>"
      ],
      "text/plain": [
       "         term                related_lang related_term\n",
       "0        +ark                 Fransızca\\n       +arque\n",
       "1       +arşi                 Fransızca\\n      +archie\n",
       "2        +faj  Fransızca\\n ve İngilizce\\n       +phage\n",
       "3        +gam                 Fransızca\\n        +game\n",
       "4        +gen                 Fransızca\\n        +gone\n",
       "..        ...                         ...          ...\n",
       "150      tri+  Fransızca\\n ve İngilizce\\n         tri+\n",
       "151  trop(o)+  Fransızca\\n ve İngilizce\\n       tropo+\n",
       "152      üni+  Fransızca\\n ve İngilizce\\n         uni+\n",
       "153   vaz(o)+  Fransızca\\n ve İngilizce\\n        vaso+\n",
       "154    zo(o)+  Fransızca\\n ve İngilizce\\n         zoo+\n",
       "\n",
       "[155 rows x 3 columns]"
      ]
     },
     "execution_count": 2,
     "metadata": {},
     "output_type": "execute_result"
    }
   ],
   "source": [
    "df_word_plus_nisanyan = pd.read_excel(\"/media/kurubal/SSD/Data Scientist/Work/Modern Ways/Project/Web Scrapping/Data/All/Nisanyan Words Contain Plus.xlsx\")\n",
    "df_word_plus_nisanyan"
   ]
  },
  {
   "cell_type": "code",
   "execution_count": 3,
   "metadata": {},
   "outputs": [
    {
     "data": {
      "text/html": [
       "<div>\n",
       "<style scoped>\n",
       "    .dataframe tbody tr th:only-of-type {\n",
       "        vertical-align: middle;\n",
       "    }\n",
       "\n",
       "    .dataframe tbody tr th {\n",
       "        vertical-align: top;\n",
       "    }\n",
       "\n",
       "    .dataframe thead th {\n",
       "        text-align: right;\n",
       "    }\n",
       "</style>\n",
       "<table border=\"1\" class=\"dataframe\">\n",
       "  <thead>\n",
       "    <tr style=\"text-align: right;\">\n",
       "      <th></th>\n",
       "      <th>word</th>\n",
       "      <th>frequency</th>\n",
       "    </tr>\n",
       "  </thead>\n",
       "  <tbody>\n",
       "    <tr>\n",
       "      <th>0</th>\n",
       "      <td>bir</td>\n",
       "      <td>18835735</td>\n",
       "    </tr>\n",
       "    <tr>\n",
       "      <th>1</th>\n",
       "      <td>fikret</td>\n",
       "      <td>12101580</td>\n",
       "    </tr>\n",
       "    <tr>\n",
       "      <th>2</th>\n",
       "      <td>bu</td>\n",
       "      <td>11062659</td>\n",
       "    </tr>\n",
       "    <tr>\n",
       "      <th>3</th>\n",
       "      <td>ne</td>\n",
       "      <td>8025880</td>\n",
       "    </tr>\n",
       "    <tr>\n",
       "      <th>4</th>\n",
       "      <td>ve</td>\n",
       "      <td>7766036</td>\n",
       "    </tr>\n",
       "    <tr>\n",
       "      <th>...</th>\n",
       "      <td>...</td>\n",
       "      <td>...</td>\n",
       "    </tr>\n",
       "    <tr>\n",
       "      <th>164296</th>\n",
       "      <td>buldugumuzda</td>\n",
       "      <td>43</td>\n",
       "    </tr>\n",
       "    <tr>\n",
       "      <th>164297</th>\n",
       "      <td>boşandıklarını</td>\n",
       "      <td>42</td>\n",
       "    </tr>\n",
       "    <tr>\n",
       "      <th>164298</th>\n",
       "      <td>endişenlenme</td>\n",
       "      <td>42</td>\n",
       "    </tr>\n",
       "    <tr>\n",
       "      <th>164299</th>\n",
       "      <td>uzaylıymışım</td>\n",
       "      <td>42</td>\n",
       "    </tr>\n",
       "    <tr>\n",
       "      <th>164300</th>\n",
       "      <td>söylememis</td>\n",
       "      <td>38</td>\n",
       "    </tr>\n",
       "  </tbody>\n",
       "</table>\n",
       "<p>164301 rows × 2 columns</p>\n",
       "</div>"
      ],
      "text/plain": [
       "                  word  frequency\n",
       "0                  bir   18835735\n",
       "1               fikret   12101580\n",
       "2                   bu   11062659\n",
       "3                   ne    8025880\n",
       "4                   ve    7766036\n",
       "...                ...        ...\n",
       "164296    buldugumuzda         43\n",
       "164297  boşandıklarını         42\n",
       "164298    endişenlenme         42\n",
       "164299    uzaylıymışım         42\n",
       "164300      söylememis         38\n",
       "\n",
       "[164301 rows x 2 columns]"
      ]
     },
     "execution_count": 3,
     "metadata": {},
     "output_type": "execute_result"
    }
   ],
   "source": [
    "df_word = pd.read_excel(f\"/media/kurubal/SSD/Data Scientist/Work/Modern Ways/Project/Turkish/Result/Word/Merge/Word_Merge2.xlsx\")\n",
    "#df_word = df_word.head(10000)\n",
    "df_word"
   ]
  },
  {
   "cell_type": "code",
   "execution_count": 4,
   "metadata": {},
   "outputs": [],
   "source": [
    "word_list = df_word_plus_nisanyan.loc[:,\"term\"].values.tolist()"
   ]
  },
  {
   "cell_type": "code",
   "execution_count": 5,
   "metadata": {},
   "outputs": [
    {
     "name": "stderr",
     "output_type": "stream",
     "text": [
      "<ipython-input-5-c630d7bda466>:9: UserWarning: This pattern has match groups. To actually get the groups, use str.extract.\n",
      "  word_in_video = df_word[df_word.word.str.contains(fr\"(?:^){j}\", na=True)]  # ext+string=> word\n"
     ]
    },
    {
     "data": {
      "text/html": [
       "<div>\n",
       "<style scoped>\n",
       "    .dataframe tbody tr th:only-of-type {\n",
       "        vertical-align: middle;\n",
       "    }\n",
       "\n",
       "    .dataframe tbody tr th {\n",
       "        vertical-align: top;\n",
       "    }\n",
       "\n",
       "    .dataframe thead th {\n",
       "        text-align: right;\n",
       "    }\n",
       "</style>\n",
       "<table border=\"1\" class=\"dataframe\">\n",
       "  <thead>\n",
       "    <tr style=\"text-align: right;\">\n",
       "      <th></th>\n",
       "      <th>word_ext</th>\n",
       "      <th>word</th>\n",
       "      <th>frequency</th>\n",
       "    </tr>\n",
       "  </thead>\n",
       "  <tbody>\n",
       "    <tr>\n",
       "      <th>0</th>\n",
       "      <td>ö+</td>\n",
       "      <td>öyle</td>\n",
       "      <td>1440030</td>\n",
       "    </tr>\n",
       "    <tr>\n",
       "      <th>1</th>\n",
       "      <td>ö+</td>\n",
       "      <td>önce</td>\n",
       "      <td>1291540</td>\n",
       "    </tr>\n",
       "    <tr>\n",
       "      <th>2</th>\n",
       "      <td>+men</td>\n",
       "      <td>hemen</td>\n",
       "      <td>607973</td>\n",
       "    </tr>\n",
       "    <tr>\n",
       "      <th>3</th>\n",
       "      <td>di+</td>\n",
       "      <td>diye</td>\n",
       "      <td>562704</td>\n",
       "    </tr>\n",
       "    <tr>\n",
       "      <th>4</th>\n",
       "      <td>ö+</td>\n",
       "      <td>önemli</td>\n",
       "      <td>446014</td>\n",
       "    </tr>\n",
       "    <tr>\n",
       "      <th>...</th>\n",
       "      <td>...</td>\n",
       "      <td>...</td>\n",
       "      <td>...</td>\n",
       "    </tr>\n",
       "    <tr>\n",
       "      <th>6527</th>\n",
       "      <td>ö+</td>\n",
       "      <td>ölmeyince</td>\n",
       "      <td>53</td>\n",
       "    </tr>\n",
       "    <tr>\n",
       "      <th>6528</th>\n",
       "      <td>üni+</td>\n",
       "      <td>üniversitedeydin</td>\n",
       "      <td>52</td>\n",
       "    </tr>\n",
       "    <tr>\n",
       "      <th>6529</th>\n",
       "      <td>di+</td>\n",
       "      <td>disini</td>\n",
       "      <td>48</td>\n",
       "    </tr>\n",
       "    <tr>\n",
       "      <th>6530</th>\n",
       "      <td>dis+</td>\n",
       "      <td>disini</td>\n",
       "      <td>48</td>\n",
       "    </tr>\n",
       "    <tr>\n",
       "      <th>6531</th>\n",
       "      <td>di+</td>\n",
       "      <td>diyemeyeceğini</td>\n",
       "      <td>47</td>\n",
       "    </tr>\n",
       "  </tbody>\n",
       "</table>\n",
       "<p>6532 rows × 3 columns</p>\n",
       "</div>"
      ],
      "text/plain": [
       "     word_ext              word  frequency\n",
       "0          ö+              öyle    1440030\n",
       "1          ö+              önce    1291540\n",
       "2        +men             hemen     607973\n",
       "3         di+              diye     562704\n",
       "4          ö+            önemli     446014\n",
       "...       ...               ...        ...\n",
       "6527       ö+         ölmeyince         53\n",
       "6528     üni+  üniversitedeydin         52\n",
       "6529      di+            disini         48\n",
       "6530     dis+            disini         48\n",
       "6531      di+    diyemeyeceğini         47\n",
       "\n",
       "[6532 rows x 3 columns]"
      ]
     },
     "execution_count": 5,
     "metadata": {},
     "output_type": "execute_result"
    }
   ],
   "source": [
    "df_word_result = pd.DataFrame()\n",
    "for i in word_list:\n",
    "    if i.startswith(\"+\"):\n",
    "        j = i.lstrip(\"+\")\n",
    "        word_in_video = df_word[df_word.word.str.contains(fr\"{j}(?:$)\", na=True)]  # string+ext=> word\n",
    "        word_in_video.insert(0,\"word_ext\",i)\n",
    "    elif i.endswith(\"+\"):\n",
    "        j = i.rstrip(\"+\")\n",
    "        word_in_video = df_word[df_word.word.str.contains(fr\"(?:^){j}\", na=True)]  # ext+string=> word\n",
    "        word_in_video.insert(0,\"word_ext\",i)\n",
    "    else:\n",
    "        pass\n",
    "    df_word_result = pd.concat([df_word_result,word_in_video], axis=0)\n",
    "df_word_result = df_word_result.sort_values(by=\"frequency\", ascending=False)\n",
    "df_word_result.reset_index(drop=True, inplace=True)\n",
    "df_word_result  "
   ]
  },
  {
   "cell_type": "code",
   "execution_count": null,
   "metadata": {},
   "outputs": [],
   "source": []
  },
  {
   "attachments": {},
   "cell_type": "markdown",
   "metadata": {},
   "source": [
    "#### Sample"
   ]
  },
  {
   "cell_type": "code",
   "execution_count": 25,
   "metadata": {},
   "outputs": [],
   "source": [
    "import nltk\n",
    "from nltk.tokenize import sent_tokenize, word_tokenize\n",
    "from nltk import word_tokenize,sent_tokenize"
   ]
  },
  {
   "cell_type": "code",
   "execution_count": 26,
   "metadata": {},
   "outputs": [],
   "source": [
    "text9 =\"Ve baya imkansızlıklar içindeydi. İmkansızlıklar içinde çalışıp başarılı olmak da...\""
   ]
  },
  {
   "cell_type": "code",
   "execution_count": 27,
   "metadata": {},
   "outputs": [
    {
     "data": {
      "text/plain": [
       "'Ve baya imkansızlıklar içindeydi. İmkansızlıklar içinde çalışıp başarılı olmak da...'"
      ]
     },
     "execution_count": 27,
     "metadata": {},
     "output_type": "execute_result"
    }
   ],
   "source": [
    "text_data_clean_brackets = re.sub('[\\(\\[\\{].*?[\\)\\]\\}]', '', text9)\n",
    "text_data_clean_brackets"
   ]
  },
  {
   "cell_type": "code",
   "execution_count": 28,
   "metadata": {},
   "outputs": [
    {
     "data": {
      "text/plain": [
       "'Ve  baya  imkansızlıklar  içindeydi. İmkansızlıklar  içinde  çalışıp  başarılı  olmak  da.'"
      ]
     },
     "execution_count": 28,
     "metadata": {},
     "output_type": "execute_result"
    }
   ],
   "source": [
    "var1 = re.findall(r'\\w+.', text_data_clean_brackets, re.UNICODE)\n",
    "var2 = \" \".join(var1)\n",
    "var2"
   ]
  },
  {
   "cell_type": "code",
   "execution_count": 29,
   "metadata": {},
   "outputs": [
    {
     "data": {
      "text/plain": [
       "'Ve  baya  imkansızlıklar  içindeydi. İmkansızlıklar  içinde  çalışıp  başarılı  olmak  da.'"
      ]
     },
     "execution_count": 29,
     "metadata": {},
     "output_type": "execute_result"
    }
   ],
   "source": [
    "var3 = re.sub(r'[0-9]', '', var2) # Remove digit\n",
    "var3"
   ]
  },
  {
   "cell_type": "code",
   "execution_count": 30,
   "metadata": {},
   "outputs": [
    {
     "data": {
      "text/plain": [
       "'Ve  baya  imkansızlıklar  içindeydi. İmkansızlıklar  içinde  çalışıp  başarılı  olmak  da.'"
      ]
     },
     "execution_count": 30,
     "metadata": {},
     "output_type": "execute_result"
    }
   ],
   "source": [
    "custom_char = [\"nbsp\",f\"WEBVTT Kind: captions Language: tr\",f\"Kind captions Language tr\",\"WEBVTT\",\"Kind: captions\",f\"Language: tr\",\"-\",\"#\",\"&\",\"~\",\"*\",\"/\",\"+\",\":\", \"\\'\"]\n",
    "for i in custom_char:\n",
    "    var3 = var3.replace(i, '')  # must be equal each other\n",
    "var3"
   ]
  },
  {
   "cell_type": "code",
   "execution_count": 31,
   "metadata": {},
   "outputs": [
    {
     "data": {
      "text/plain": [
       "'ve  baya  imkansızlıklar  içindeydi. i̇mkansızlıklar  içinde  çalışıp  başarılı  olmak  da.'"
      ]
     },
     "execution_count": 31,
     "metadata": {},
     "output_type": "execute_result"
    }
   ],
   "source": [
    "var4 = re.findall(r'\\w+.', var3, re.UNICODE)\n",
    "var5 = \" \".join(var4)\n",
    "var6 = var5.lower()\n",
    "var6"
   ]
  },
  {
   "cell_type": "code",
   "execution_count": 32,
   "metadata": {},
   "outputs": [
    {
     "data": {
      "text/plain": [
       "['ve',\n",
       " 'baya',\n",
       " 'imkansızlıklar',\n",
       " 'içindeydi',\n",
       " '.',\n",
       " 'i̇mkansızlıklar',\n",
       " 'içinde',\n",
       " 'çalışıp',\n",
       " 'başarılı',\n",
       " 'olmak',\n",
       " 'da',\n",
       " '.']"
      ]
     },
     "execution_count": 32,
     "metadata": {},
     "output_type": "execute_result"
    }
   ],
   "source": [
    "word_tokens = nltk.word_tokenize(var6)\n",
    "word_tokens"
   ]
  },
  {
   "cell_type": "code",
   "execution_count": 33,
   "metadata": {},
   "outputs": [
    {
     "data": {
      "text/plain": [
       "['ve',\n",
       " 'baya',\n",
       " 'imkansızlıklar',\n",
       " 'içindeydi',\n",
       " 'içinde',\n",
       " 'çalışıp',\n",
       " 'başarılı',\n",
       " 'olmak',\n",
       " 'da']"
      ]
     },
     "execution_count": 33,
     "metadata": {},
     "output_type": "execute_result"
    }
   ],
   "source": [
    "tokens_without_punc = [w for w in word_tokens if w.isalpha()]\n",
    "tokens_without_punc"
   ]
  },
  {
   "cell_type": "code",
   "execution_count": 34,
   "metadata": {},
   "outputs": [],
   "source": [
    "def clean_text(text_var):\n",
    "    text_clean_brackets = re.sub('[\\(\\[\\{].*?[\\)\\]\\}]', '', text_var)\n",
    "    clean_punc = re.sub(r'[^\\w\\s]','',text_clean_brackets, re.UNICODE)\n",
    "    clean_punc = clean_punc.replace('nbsp', ' ')\n",
    "    text_clean_list = word_tokenize(clean_punc)\n",
    "    text = (\" \".join(text_clean_list)).lower()\n",
    "    return text"
   ]
  },
  {
   "cell_type": "code",
   "execution_count": 35,
   "metadata": {},
   "outputs": [
    {
     "data": {
      "text/plain": [
       "'ve baya imkansızlıklar içindeydi i̇mkansızlıklar içinde çalışıp başarılı olmak da'"
      ]
     },
     "execution_count": 35,
     "metadata": {},
     "output_type": "execute_result"
    }
   ],
   "source": [
    "clean_text(text9)"
   ]
  },
  {
   "cell_type": "code",
   "execution_count": null,
   "metadata": {},
   "outputs": [],
   "source": []
  },
  {
   "cell_type": "code",
   "execution_count": null,
   "metadata": {},
   "outputs": [],
   "source": []
  },
  {
   "cell_type": "code",
   "execution_count": null,
   "metadata": {},
   "outputs": [],
   "source": []
  }
 ],
 "metadata": {
  "interpreter": {
   "hash": "651d507d70892fab0fc6529d935cd476f6e2eb1791525b76da6cc8da34bc0503"
  },
  "kernelspec": {
   "display_name": "Python 3.9.5 64-bit ('py39': conda)",
   "language": "python",
   "name": "python3"
  },
  "language_info": {
   "codemirror_mode": {
    "name": "ipython",
    "version": 3
   },
   "file_extension": ".py",
   "mimetype": "text/x-python",
   "name": "python",
   "nbconvert_exporter": "python",
   "pygments_lexer": "ipython3",
   "version": "3.9.5"
  },
  "orig_nbformat": 4
 },
 "nbformat": 4,
 "nbformat_minor": 2
}
