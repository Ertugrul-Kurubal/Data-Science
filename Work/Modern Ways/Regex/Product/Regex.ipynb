{
 "cells": [
  {
   "cell_type": "markdown",
   "metadata": {},
   "source": [
    "### Regex"
   ]
  },
  {
   "cell_type": "code",
   "execution_count": 1,
   "metadata": {},
   "outputs": [],
   "source": [
    "import numpy as np\n",
    "import pandas as pd\n",
    "import matplotlib.pyplot as plt\n",
    "import seaborn as sns\n",
    "import re"
   ]
  },
  {
   "cell_type": "markdown",
   "metadata": {},
   "source": [
    "#### Clean Text"
   ]
  },
  {
   "cell_type": "code",
   "execution_count": 2,
   "metadata": {},
   "outputs": [
    {
     "name": "stdout",
     "output_type": "stream",
     "text": [
      "['Is u nog daar, Graaf Andrassy?\\n', 'Ja, U Majesteit\\n', '- Waarnatoe gaan ons nou?\\n', '- ek dink hiernatoe\\n', 'Nee, ek dink hierheen\\n', 'Ek dink ons is verdwaal\\n', 'Ek is bevrees u is reg, ons moet omdraai\\n', \"Nee, ek hou nie van verloor nie, kom ons rus 'n rukkie\\n\", 'Graag, U Majesteit\\n', 'Hier, U Majesteit\\n', 'Dankie\\n', 'Hulle sal wonder waar ons is\\n', 'Hulle sal bly wees dat ons verdwaal het\\n', 'Ons is gewoonlik eerste\\n', 'Graaf Andrassy, ek kan jou nie vertel hoe gelukkig ek in Hongarye is nie\\n', 'Ek is bly, U Majesteit\\n', 'Hier voel ek so vry soos in Possenhofen\\n', 'In Oostenryk, sou dit vir my onmoontlik wees om onbeskermd te ry, daar sou ten minste 20 geheime polisie wees agter die bome en bosse, wat sekermaak niks sleg gebeur nie\\n', 'Hier is U Majesteit onder my persoonlike beskerming\\n', 'Ja, maar dis nie net hierdie gevoel van vryheid wat Hongarye so lekker maak nie;\\n', 'Hier het ek my kind net vir myself\\n', \"Die kleintjie praat al 'n paar woorde Hongaars\\n\", 'Ek het dit verneem\\n', 'Kom ons gaan stap bietjie\\n', 'U perd het mooi gespring\\n', 'Uitstekend!\\n', 'Baie goed!\\n', 'Het Graaf Batthyani homself verskoon van die jag?\\n']\n"
     ]
    }
   ],
   "source": [
    "try:\n",
    "  with open(\"/media/kurubal/SSD/Data Scientist/Data Science/Data-Scientist/Work/Modern Ways/Other/Read Corpus/af.txt\", \"r\", encoding=\"utf-8\") as file:\n",
    "    text_data = file.readlines(1000) # As list \n",
    "    print(text_data)\n",
    "except:\n",
    "  print(\"There is not such a file  or path is incorrect\")"
   ]
  },
  {
   "cell_type": "code",
   "execution_count": 4,
   "metadata": {},
   "outputs": [
    {
     "data": {
      "text/plain": [
       "\"Is u nog daar, Graaf Andrassy?\\n Ja, U Majesteit\\n - Waarnatoe gaan ons nou?\\n - ek dink hiernatoe\\n Nee, ek dink hierheen\\n Ek dink ons is verdwaal\\n Ek is bevrees u is reg, ons moet omdraai\\n Nee, ek hou nie van verloor nie, kom ons rus 'n rukkie\\n Graag, U Majesteit\\n Hier, U Majesteit\\n Dankie\\n Hulle sal wonder waar ons is\\n Hulle sal bly wees dat ons verdwaal het\\n Ons is gewoonlik eerste\\n Graaf Andrassy, ek kan jou nie vertel hoe gelukkig ek in Hongarye is nie\\n Ek is bly, U Majesteit\\n Hier voel ek so vry soos in Possenhofen\\n In Oostenryk, sou dit vir my onmoontlik wees om onbeskermd te ry, daar sou ten minste 20 geheime polisie wees agter die bome en bosse, wat sekermaak niks sleg gebeur nie\\n Hier is U Majesteit onder my persoonlike beskerming\\n Ja, maar dis nie net hierdie gevoel van vryheid wat Hongarye so lekker maak nie;\\n Hier het ek my kind net vir myself\\n Die kleintjie praat al 'n paar woorde Hongaars\\n Ek het dit verneem\\n Kom ons gaan stap bietjie\\n U perd het mooi gespring\\n Uitstekend!\\n Baie goed!\\n Het Graaf Batthyani homself verskoon van die jag?\\n\""
      ]
     },
     "execution_count": 4,
     "metadata": {},
     "output_type": "execute_result"
    }
   ],
   "source": [
    "text_data = \" \".join(text_data) # convert list\n",
    "text_data"
   ]
  },
  {
   "cell_type": "code",
   "execution_count": 5,
   "metadata": {},
   "outputs": [
    {
     "data": {
      "text/plain": [
       "['Is u nog daar, Graaf Andrassy?',\n",
       " ' Ja, U Majesteit',\n",
       " ' - Waarnatoe gaan ons nou?',\n",
       " ' - ek dink hiernatoe',\n",
       " ' Nee, ek dink hierheen',\n",
       " ' Ek dink ons is verdwaal',\n",
       " ' Ek is bevrees u is reg, ons moet omdraai',\n",
       " \" Nee, ek hou nie van verloor nie, kom ons rus 'n rukkie\",\n",
       " ' Graag, U Majesteit',\n",
       " ' Hier, U Majesteit',\n",
       " ' Dankie',\n",
       " ' Hulle sal wonder waar ons is',\n",
       " ' Hulle sal bly wees dat ons verdwaal het',\n",
       " ' Ons is gewoonlik eerste',\n",
       " ' Graaf Andrassy, ek kan jou nie vertel hoe gelukkig ek in Hongarye is nie',\n",
       " ' Ek is bly, U Majesteit',\n",
       " ' Hier voel ek so vry soos in Possenhofen',\n",
       " ' In Oostenryk, sou dit vir my onmoontlik wees om onbeskermd te ry, daar sou ten minste 20 geheime polisie wees agter die bome en bosse, wat sekermaak niks sleg gebeur nie',\n",
       " ' Hier is U Majesteit onder my persoonlike beskerming',\n",
       " ' Ja, maar dis nie net hierdie gevoel van vryheid wat Hongarye so lekker maak nie;',\n",
       " ' Hier het ek my kind net vir myself',\n",
       " \" Die kleintjie praat al 'n paar woorde Hongaars\",\n",
       " ' Ek het dit verneem',\n",
       " ' Kom ons gaan stap bietjie',\n",
       " ' U perd het mooi gespring',\n",
       " ' Uitstekend!',\n",
       " ' Baie goed!',\n",
       " ' Het Graaf Batthyani homself verskoon van die jag?',\n",
       " '']"
      ]
     },
     "execution_count": 5,
     "metadata": {},
     "output_type": "execute_result"
    }
   ],
   "source": [
    "text_data = text_data.split(\"\\n\") # remove \"\\n\"\n",
    "text_data"
   ]
  },
  {
   "cell_type": "code",
   "execution_count": 6,
   "metadata": {},
   "outputs": [
    {
     "data": {
      "text/plain": [
       "\"Is u nog daar, Graaf Andrassy?  Ja, U Majesteit  - Waarnatoe gaan ons nou?  - ek dink hiernatoe  Nee, ek dink hierheen  Ek dink ons is verdwaal  Ek is bevrees u is reg, ons moet omdraai  Nee, ek hou nie van verloor nie, kom ons rus 'n rukkie  Graag, U Majesteit  Hier, U Majesteit  Dankie  Hulle sal wonder waar ons is  Hulle sal bly wees dat ons verdwaal het  Ons is gewoonlik eerste  Graaf Andrassy, ek kan jou nie vertel hoe gelukkig ek in Hongarye is nie  Ek is bly, U Majesteit  Hier voel ek so vry soos in Possenhofen  In Oostenryk, sou dit vir my onmoontlik wees om onbeskermd te ry, daar sou ten minste 20 geheime polisie wees agter die bome en bosse, wat sekermaak niks sleg gebeur nie  Hier is U Majesteit onder my persoonlike beskerming  Ja, maar dis nie net hierdie gevoel van vryheid wat Hongarye so lekker maak nie;  Hier het ek my kind net vir myself  Die kleintjie praat al 'n paar woorde Hongaars  Ek het dit verneem  Kom ons gaan stap bietjie  U perd het mooi gespring  Uitstekend!  Baie goed!  Het Graaf Batthyani homself verskoon van die jag? \""
      ]
     },
     "execution_count": 6,
     "metadata": {},
     "output_type": "execute_result"
    }
   ],
   "source": [
    "text_data = \" \".join(text_data)\n",
    "text_data"
   ]
  },
  {
   "cell_type": "code",
   "execution_count": 7,
   "metadata": {},
   "outputs": [
    {
     "data": {
      "text/plain": [
       "'Is u nog daar Graaf Andrassy  Ja U Majesteit   Waarnatoe gaan ons nou   ek dink hiernatoe  Nee ek dink hierheen  Ek dink ons is verdwaal  Ek is bevrees u is reg ons moet omdraai  Nee ek hou nie van verloor nie kom ons rus n rukkie  Graag U Majesteit  Hier U Majesteit  Dankie  Hulle sal wonder waar ons is  Hulle sal bly wees dat ons verdwaal het  Ons is gewoonlik eerste  Graaf Andrassy ek kan jou nie vertel hoe gelukkig ek in Hongarye is nie  Ek is bly U Majesteit  Hier voel ek so vry soos in Possenhofen  In Oostenryk sou dit vir my onmoontlik wees om onbeskermd te ry daar sou ten minste 20 geheime polisie wees agter die bome en bosse wat sekermaak niks sleg gebeur nie  Hier is U Majesteit onder my persoonlike beskerming  Ja maar dis nie net hierdie gevoel van vryheid wat Hongarye so lekker maak nie  Hier het ek my kind net vir myself  Die kleintjie praat al n paar woorde Hongaars  Ek het dit verneem  Kom ons gaan stap bietjie  U perd het mooi gespring  Uitstekend  Baie goed  Het Graaf Batthyani homself verskoon van die jag '"
      ]
     },
     "execution_count": 7,
     "metadata": {},
     "output_type": "execute_result"
    }
   ],
   "source": [
    "re.sub(pattern=\"[^\\w\\s]\", repl=\"\", string=text_data) # clean punc"
   ]
  },
  {
   "cell_type": "markdown",
   "metadata": {},
   "source": [
    "#### Sub"
   ]
  },
  {
   "cell_type": "code",
   "execution_count": 11,
   "metadata": {},
   "outputs": [],
   "source": [
    "text = \"ali [ ara ] baktın mı ] eve [\""
   ]
  },
  {
   "cell_type": "code",
   "execution_count": 12,
   "metadata": {},
   "outputs": [
    {
     "data": {
      "text/plain": [
       "'ali  ara ] baktın mı ] eve '"
      ]
     },
     "execution_count": 12,
     "metadata": {},
     "output_type": "execute_result"
    }
   ],
   "source": [
    "test2 = re.sub(r\"\\[\", \"\", text)\n",
    "test2"
   ]
  },
  {
   "cell_type": "code",
   "execution_count": 13,
   "metadata": {},
   "outputs": [
    {
     "data": {
      "text/plain": [
       "'ali  ara  baktın mı  eve '"
      ]
     },
     "execution_count": 13,
     "metadata": {},
     "output_type": "execute_result"
    }
   ],
   "source": [
    "test3 = re.sub(r\"\\]\", \"\", test2)\n",
    "test3"
   ]
  },
  {
   "cell_type": "code",
   "execution_count": 14,
   "metadata": {},
   "outputs": [],
   "source": [
    "text2 = \"mehmet ayrı yaşadığı ^ daire dahil^ olan ^hakkı\""
   ]
  },
  {
   "cell_type": "code",
   "execution_count": 15,
   "metadata": {},
   "outputs": [
    {
     "data": {
      "text/plain": [
       "'mehmet ayrı yaşadığı   daire dahil  olan  hakkı'"
      ]
     },
     "execution_count": 15,
     "metadata": {},
     "output_type": "execute_result"
    }
   ],
   "source": [
    "re.sub(r\"\\^\", \" \", text2)"
   ]
  },
  {
   "cell_type": "code",
   "execution_count": 18,
   "metadata": {},
   "outputs": [],
   "source": [
    "text3 = \"elif cakal @dolabımdaki sucuğu# aşırmış ve ses#ini çıkarmı@yor\""
   ]
  },
  {
   "cell_type": "code",
   "execution_count": 19,
   "metadata": {},
   "outputs": [
    {
     "data": {
      "text/plain": [
       "'elif cakal dolabımdaki sucuğu aşırmış ve sesini çıkarmıyor'"
      ]
     },
     "execution_count": 19,
     "metadata": {},
     "output_type": "execute_result"
    }
   ],
   "source": [
    "re.sub(r\"([@#])\", \"\", text3)"
   ]
  },
  {
   "cell_type": "markdown",
   "metadata": {},
   "source": [
    "#### Findall"
   ]
  },
  {
   "cell_type": "code",
   "execution_count": null,
   "metadata": {},
   "outputs": [],
   "source": []
  },
  {
   "cell_type": "code",
   "execution_count": null,
   "metadata": {},
   "outputs": [],
   "source": []
  },
  {
   "cell_type": "code",
   "execution_count": null,
   "metadata": {},
   "outputs": [],
   "source": []
  },
  {
   "cell_type": "code",
   "execution_count": null,
   "metadata": {},
   "outputs": [],
   "source": []
  },
  {
   "cell_type": "code",
   "execution_count": null,
   "metadata": {},
   "outputs": [],
   "source": []
  },
  {
   "cell_type": "code",
   "execution_count": null,
   "metadata": {},
   "outputs": [],
   "source": []
  }
 ],
 "metadata": {
  "interpreter": {
   "hash": "651d507d70892fab0fc6529d935cd476f6e2eb1791525b76da6cc8da34bc0503"
  },
  "kernelspec": {
   "display_name": "Python 3.9.5 64-bit ('py39': conda)",
   "language": "python",
   "name": "python3"
  },
  "language_info": {
   "codemirror_mode": {
    "name": "ipython",
    "version": 3
   },
   "file_extension": ".py",
   "mimetype": "text/x-python",
   "name": "python",
   "nbconvert_exporter": "python",
   "pygments_lexer": "ipython3",
   "version": "3.9.5"
  },
  "orig_nbformat": 4
 },
 "nbformat": 4,
 "nbformat_minor": 2
}
