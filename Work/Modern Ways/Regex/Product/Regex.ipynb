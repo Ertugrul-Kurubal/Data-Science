{
 "cells": [
  {
   "cell_type": "markdown",
   "metadata": {},
   "source": [
    "### Regex"
   ]
  },
  {
   "cell_type": "code",
   "execution_count": 1,
   "metadata": {},
   "outputs": [],
   "source": [
    "import numpy as np\n",
    "import pandas as pd\n",
    "import matplotlib.pyplot as plt\n",
    "import seaborn as sns\n",
    "import re"
   ]
  },
  {
   "cell_type": "markdown",
   "metadata": {},
   "source": [
    "#### Clean Text"
   ]
  },
  {
   "cell_type": "code",
   "execution_count": 2,
   "metadata": {},
   "outputs": [
    {
     "name": "stdout",
     "output_type": "stream",
     "text": [
      "['Is u nog daar, Graaf Andrassy?\\n', 'Ja, U Majesteit\\n', '- Waarnatoe gaan ons nou?\\n', '- ek dink hiernatoe\\n', 'Nee, ek dink hierheen\\n', 'Ek dink ons is verdwaal\\n', 'Ek is bevrees u is reg, ons moet omdraai\\n', \"Nee, ek hou nie van verloor nie, kom ons rus 'n rukkie\\n\", 'Graag, U Majesteit\\n', 'Hier, U Majesteit\\n', 'Dankie\\n', 'Hulle sal wonder waar ons is\\n', 'Hulle sal bly wees dat ons verdwaal het\\n', 'Ons is gewoonlik eerste\\n', 'Graaf Andrassy, ek kan jou nie vertel hoe gelukkig ek in Hongarye is nie\\n', 'Ek is bly, U Majesteit\\n', 'Hier voel ek so vry soos in Possenhofen\\n', 'In Oostenryk, sou dit vir my onmoontlik wees om onbeskermd te ry, daar sou ten minste 20 geheime polisie wees agter die bome en bosse, wat sekermaak niks sleg gebeur nie\\n', 'Hier is U Majesteit onder my persoonlike beskerming\\n', 'Ja, maar dis nie net hierdie gevoel van vryheid wat Hongarye so lekker maak nie;\\n', 'Hier het ek my kind net vir myself\\n', \"Die kleintjie praat al 'n paar woorde Hongaars\\n\", 'Ek het dit verneem\\n', 'Kom ons gaan stap bietjie\\n', 'U perd het mooi gespring\\n', 'Uitstekend!\\n', 'Baie goed!\\n', 'Het Graaf Batthyani homself verskoon van die jag?\\n']\n"
     ]
    }
   ],
   "source": [
    "try:\n",
    "  with open(\"/media/kurubal/SSD/Data Scientist/Data Science/Data-Scientist/Work/Modern Ways/Other/Read Corpus/af.txt\", \"r\", encoding=\"utf-8\") as file:\n",
    "    text_data = file.readlines(1000) # As list \n",
    "    print(text_data)\n",
    "except:\n",
    "  print(\"There is not such a file  or path is incorrect\")"
   ]
  },
  {
   "cell_type": "code",
   "execution_count": 3,
   "metadata": {},
   "outputs": [
    {
     "data": {
      "text/plain": [
       "\"Is u nog daar, Graaf Andrassy?\\n Ja, U Majesteit\\n - Waarnatoe gaan ons nou?\\n - ek dink hiernatoe\\n Nee, ek dink hierheen\\n Ek dink ons is verdwaal\\n Ek is bevrees u is reg, ons moet omdraai\\n Nee, ek hou nie van verloor nie, kom ons rus 'n rukkie\\n Graag, U Majesteit\\n Hier, U Majesteit\\n Dankie\\n Hulle sal wonder waar ons is\\n Hulle sal bly wees dat ons verdwaal het\\n Ons is gewoonlik eerste\\n Graaf Andrassy, ek kan jou nie vertel hoe gelukkig ek in Hongarye is nie\\n Ek is bly, U Majesteit\\n Hier voel ek so vry soos in Possenhofen\\n In Oostenryk, sou dit vir my onmoontlik wees om onbeskermd te ry, daar sou ten minste 20 geheime polisie wees agter die bome en bosse, wat sekermaak niks sleg gebeur nie\\n Hier is U Majesteit onder my persoonlike beskerming\\n Ja, maar dis nie net hierdie gevoel van vryheid wat Hongarye so lekker maak nie;\\n Hier het ek my kind net vir myself\\n Die kleintjie praat al 'n paar woorde Hongaars\\n Ek het dit verneem\\n Kom ons gaan stap bietjie\\n U perd het mooi gespring\\n Uitstekend!\\n Baie goed!\\n Het Graaf Batthyani homself verskoon van die jag?\\n\""
      ]
     },
     "execution_count": 3,
     "metadata": {},
     "output_type": "execute_result"
    }
   ],
   "source": [
    "text_data = \" \".join(text_data) # convert list\n",
    "text_data"
   ]
  },
  {
   "cell_type": "code",
   "execution_count": 4,
   "metadata": {},
   "outputs": [
    {
     "data": {
      "text/plain": [
       "['Is u nog daar, Graaf Andrassy?',\n",
       " ' Ja, U Majesteit',\n",
       " ' - Waarnatoe gaan ons nou?',\n",
       " ' - ek dink hiernatoe',\n",
       " ' Nee, ek dink hierheen',\n",
       " ' Ek dink ons is verdwaal',\n",
       " ' Ek is bevrees u is reg, ons moet omdraai',\n",
       " \" Nee, ek hou nie van verloor nie, kom ons rus 'n rukkie\",\n",
       " ' Graag, U Majesteit',\n",
       " ' Hier, U Majesteit',\n",
       " ' Dankie',\n",
       " ' Hulle sal wonder waar ons is',\n",
       " ' Hulle sal bly wees dat ons verdwaal het',\n",
       " ' Ons is gewoonlik eerste',\n",
       " ' Graaf Andrassy, ek kan jou nie vertel hoe gelukkig ek in Hongarye is nie',\n",
       " ' Ek is bly, U Majesteit',\n",
       " ' Hier voel ek so vry soos in Possenhofen',\n",
       " ' In Oostenryk, sou dit vir my onmoontlik wees om onbeskermd te ry, daar sou ten minste 20 geheime polisie wees agter die bome en bosse, wat sekermaak niks sleg gebeur nie',\n",
       " ' Hier is U Majesteit onder my persoonlike beskerming',\n",
       " ' Ja, maar dis nie net hierdie gevoel van vryheid wat Hongarye so lekker maak nie;',\n",
       " ' Hier het ek my kind net vir myself',\n",
       " \" Die kleintjie praat al 'n paar woorde Hongaars\",\n",
       " ' Ek het dit verneem',\n",
       " ' Kom ons gaan stap bietjie',\n",
       " ' U perd het mooi gespring',\n",
       " ' Uitstekend!',\n",
       " ' Baie goed!',\n",
       " ' Het Graaf Batthyani homself verskoon van die jag?',\n",
       " '']"
      ]
     },
     "execution_count": 4,
     "metadata": {},
     "output_type": "execute_result"
    }
   ],
   "source": [
    "text_data = text_data.split(\"\\n\") # remove \"\\n\"\n",
    "text_data"
   ]
  },
  {
   "cell_type": "code",
   "execution_count": 5,
   "metadata": {},
   "outputs": [
    {
     "data": {
      "text/plain": [
       "\"Is u nog daar, Graaf Andrassy?  Ja, U Majesteit  - Waarnatoe gaan ons nou?  - ek dink hiernatoe  Nee, ek dink hierheen  Ek dink ons is verdwaal  Ek is bevrees u is reg, ons moet omdraai  Nee, ek hou nie van verloor nie, kom ons rus 'n rukkie  Graag, U Majesteit  Hier, U Majesteit  Dankie  Hulle sal wonder waar ons is  Hulle sal bly wees dat ons verdwaal het  Ons is gewoonlik eerste  Graaf Andrassy, ek kan jou nie vertel hoe gelukkig ek in Hongarye is nie  Ek is bly, U Majesteit  Hier voel ek so vry soos in Possenhofen  In Oostenryk, sou dit vir my onmoontlik wees om onbeskermd te ry, daar sou ten minste 20 geheime polisie wees agter die bome en bosse, wat sekermaak niks sleg gebeur nie  Hier is U Majesteit onder my persoonlike beskerming  Ja, maar dis nie net hierdie gevoel van vryheid wat Hongarye so lekker maak nie;  Hier het ek my kind net vir myself  Die kleintjie praat al 'n paar woorde Hongaars  Ek het dit verneem  Kom ons gaan stap bietjie  U perd het mooi gespring  Uitstekend!  Baie goed!  Het Graaf Batthyani homself verskoon van die jag? \""
      ]
     },
     "execution_count": 5,
     "metadata": {},
     "output_type": "execute_result"
    }
   ],
   "source": [
    "text_data = \" \".join(text_data)\n",
    "text_data"
   ]
  },
  {
   "cell_type": "code",
   "execution_count": 6,
   "metadata": {},
   "outputs": [
    {
     "data": {
      "text/plain": [
       "'Is u nog daar Graaf Andrassy  Ja U Majesteit   Waarnatoe gaan ons nou   ek dink hiernatoe  Nee ek dink hierheen  Ek dink ons is verdwaal  Ek is bevrees u is reg ons moet omdraai  Nee ek hou nie van verloor nie kom ons rus n rukkie  Graag U Majesteit  Hier U Majesteit  Dankie  Hulle sal wonder waar ons is  Hulle sal bly wees dat ons verdwaal het  Ons is gewoonlik eerste  Graaf Andrassy ek kan jou nie vertel hoe gelukkig ek in Hongarye is nie  Ek is bly U Majesteit  Hier voel ek so vry soos in Possenhofen  In Oostenryk sou dit vir my onmoontlik wees om onbeskermd te ry daar sou ten minste 20 geheime polisie wees agter die bome en bosse wat sekermaak niks sleg gebeur nie  Hier is U Majesteit onder my persoonlike beskerming  Ja maar dis nie net hierdie gevoel van vryheid wat Hongarye so lekker maak nie  Hier het ek my kind net vir myself  Die kleintjie praat al n paar woorde Hongaars  Ek het dit verneem  Kom ons gaan stap bietjie  U perd het mooi gespring  Uitstekend  Baie goed  Het Graaf Batthyani homself verskoon van die jag '"
      ]
     },
     "execution_count": 6,
     "metadata": {},
     "output_type": "execute_result"
    }
   ],
   "source": [
    "re.sub(pattern=\"[^\\w\\s]\", repl=\"\", string=text_data) # clean punc"
   ]
  },
  {
   "cell_type": "markdown",
   "metadata": {},
   "source": [
    "#### Sub"
   ]
  },
  {
   "cell_type": "code",
   "execution_count": 7,
   "metadata": {},
   "outputs": [],
   "source": [
    "text = \"ali [ ara ] baktın mı ] eve [\""
   ]
  },
  {
   "cell_type": "code",
   "execution_count": 8,
   "metadata": {},
   "outputs": [
    {
     "data": {
      "text/plain": [
       "'ali  ara ] baktın mı ] eve '"
      ]
     },
     "execution_count": 8,
     "metadata": {},
     "output_type": "execute_result"
    }
   ],
   "source": [
    "test2 = re.sub(r\"\\[\", \"\", text)\n",
    "test2"
   ]
  },
  {
   "cell_type": "code",
   "execution_count": 9,
   "metadata": {},
   "outputs": [
    {
     "data": {
      "text/plain": [
       "'ali  ara  baktın mı  eve '"
      ]
     },
     "execution_count": 9,
     "metadata": {},
     "output_type": "execute_result"
    }
   ],
   "source": [
    "test3 = re.sub(r\"\\]\", \"\", test2)\n",
    "test3"
   ]
  },
  {
   "cell_type": "code",
   "execution_count": 10,
   "metadata": {},
   "outputs": [],
   "source": [
    "text2 = \"mehmet ayrı yaşadığı ^ daire dahil^ olan ^hakkı\""
   ]
  },
  {
   "cell_type": "code",
   "execution_count": 11,
   "metadata": {},
   "outputs": [
    {
     "data": {
      "text/plain": [
       "'mehmet ayrı yaşadığı   daire dahil  olan  hakkı'"
      ]
     },
     "execution_count": 11,
     "metadata": {},
     "output_type": "execute_result"
    }
   ],
   "source": [
    "re.sub(r\"\\^\", \" \", text2) # remove ^. Note: Regex characters use with backslash. ^ is also regex character. "
   ]
  },
  {
   "cell_type": "code",
   "execution_count": 12,
   "metadata": {},
   "outputs": [],
   "source": [
    "text3 = \"elif cakal @dolabımdakini aşırmış ve ses#ini çıkarmı@yor\""
   ]
  },
  {
   "cell_type": "code",
   "execution_count": 13,
   "metadata": {},
   "outputs": [
    {
     "data": {
      "text/plain": [
       "'elif cakal dolabımdakini aşırmış ve sesini çıkarmıyor'"
      ]
     },
     "execution_count": 13,
     "metadata": {},
     "output_type": "execute_result"
    }
   ],
   "source": [
    "re.sub(r\"([@#])\", \"\", text3)"
   ]
  },
  {
   "cell_type": "code",
   "execution_count": 15,
   "metadata": {},
   "outputs": [],
   "source": [
    "text4 = \"[Peki, ben [nasıl bir] 15 ? maymunum?]\""
   ]
  },
  {
   "cell_type": "code",
   "execution_count": 16,
   "metadata": {},
   "outputs": [
    {
     "data": {
      "text/plain": [
       "'Peki, ben [nasıl bir] 15 ? maymunum?'"
      ]
     },
     "execution_count": 16,
     "metadata": {},
     "output_type": "execute_result"
    }
   ],
   "source": [
    "text4 = text4.strip(\"[]\")\n",
    "text4"
   ]
  },
  {
   "cell_type": "code",
   "execution_count": 17,
   "metadata": {},
   "outputs": [
    {
     "data": {
      "text/plain": [
       "'Peki, ben  15 ? maymunum?'"
      ]
     },
     "execution_count": 17,
     "metadata": {},
     "output_type": "execute_result"
    }
   ],
   "source": [
    "text4 = re.sub('[\\(\\[\\{].*?[\\)\\]\\}]', '', text4) # clean brackets and their data\n",
    "text4"
   ]
  },
  {
   "cell_type": "code",
   "execution_count": 18,
   "metadata": {},
   "outputs": [
    {
     "data": {
      "text/plain": [
       "'Peki ben  15  maymunum'"
      ]
     },
     "execution_count": 18,
     "metadata": {},
     "output_type": "execute_result"
    }
   ],
   "source": [
    "re.sub(r'[^\\w\\s]','',text4) # clean punc"
   ]
  },
  {
   "cell_type": "markdown",
   "metadata": {},
   "source": [
    "#### Findall"
   ]
  },
  {
   "cell_type": "code",
   "execution_count": 24,
   "metadata": {},
   "outputs": [],
   "source": [
    "text5 = \"Ahmet ali  eve gelali Istanbul Bogazının KRALI alinin Emele düğünü Ali'den Bogazindan daliye Mahmut Efendi MAHSUN\""
   ]
  },
  {
   "cell_type": "code",
   "execution_count": 25,
   "metadata": {},
   "outputs": [
    {
     "data": {
      "text/plain": [
       "[' ali ', ' alin', \" Ali'\"]"
      ]
     },
     "execution_count": 25,
     "metadata": {},
     "output_type": "execute_result"
    }
   ],
   "source": [
    "re.findall(f\"(?:\\s|^)ali+.\", text5, flags=re.IGNORECASE)"
   ]
  },
  {
   "cell_type": "code",
   "execution_count": 28,
   "metadata": {},
   "outputs": [
    {
     "data": {
      "text/plain": [
       "['Ahmet',\n",
       " ' Istanbul',\n",
       " ' Bogaz',\n",
       " ' Emele',\n",
       " ' Ali',\n",
       " ' Bogazindan',\n",
       " ' Mahmut',\n",
       " ' Efendi']"
      ]
     },
     "execution_count": 28,
     "metadata": {},
     "output_type": "execute_result"
    }
   ],
   "source": [
    "re.findall(f\"(?:\\s|^)[A-Z]+[a-z]+\", text5, flags=re.UNICODE) # finding capital letter word"
   ]
  },
  {
   "cell_type": "code",
   "execution_count": 30,
   "metadata": {},
   "outputs": [
    {
     "data": {
      "text/plain": [
       "['Ahmet',\n",
       " ' Istanbul',\n",
       " ' Bogaz',\n",
       " 'KRALI',\n",
       " ' Emele',\n",
       " ' Ali',\n",
       " ' Bogazindan',\n",
       " ' Mahmut',\n",
       " ' Efendi',\n",
       " 'MAHSUN']"
      ]
     },
     "execution_count": 30,
     "metadata": {},
     "output_type": "execute_result"
    }
   ],
   "source": [
    "re.findall(f\"(?:\\s|^)[A-Z]+[a-z]+|[A-Z]+\", text5, flags=re.UNICODE) # finding capital letter word or UPPER letter"
   ]
  },
  {
   "cell_type": "code",
   "execution_count": 38,
   "metadata": {},
   "outputs": [],
   "source": [
    "with open(\"/media/kurubal/SSD/Data Scientist/Data Science/Data-Scientist/Work/Modern Ways/Other/Read Corpus/af.txt\", \"r\",encoding=\"latin1\") as file:\n",
    "    text6 = file.read(300)"
   ]
  },
  {
   "cell_type": "code",
   "execution_count": 41,
   "metadata": {},
   "outputs": [
    {
     "data": {
      "text/plain": [
       "['Is',\n",
       " ' Graaf',\n",
       " ' Andrassy',\n",
       " '\\nJa',\n",
       " 'U',\n",
       " ' Majesteit',\n",
       " ' Waarnatoe',\n",
       " '\\nNee',\n",
       " '\\nEk',\n",
       " '\\nEk',\n",
       " '\\nNee',\n",
       " '\\nGraag',\n",
       " 'U',\n",
       " ' Majesteit',\n",
       " '\\nHier',\n",
       " 'U',\n",
       " ' Majesteit',\n",
       " '\\nDankie',\n",
       " '\\nHulle']"
      ]
     },
     "execution_count": 41,
     "metadata": {},
     "output_type": "execute_result"
    }
   ],
   "source": [
    "capital_letter_word = re.findall(f\"(?:\\s|^)[A-Z]+[a-z]+|[A-Z]+\", text6, flags=re.UNICODE)\n",
    "capital_letter_word"
   ]
  },
  {
   "cell_type": "code",
   "execution_count": 42,
   "metadata": {},
   "outputs": [],
   "source": [
    "text7 = \"ali? 15 april\""
   ]
  },
  {
   "cell_type": "code",
   "execution_count": 43,
   "metadata": {},
   "outputs": [
    {
     "data": {
      "text/plain": [
       "['ali?', '15 ', 'april']"
      ]
     },
     "execution_count": 43,
     "metadata": {},
     "output_type": "execute_result"
    }
   ],
   "source": [
    "re.findall(\"\\w+.\", text7) # . select word plus any character"
   ]
  },
  {
   "cell_type": "code",
   "execution_count": 44,
   "metadata": {},
   "outputs": [
    {
     "data": {
      "text/plain": [
       "['ali', '15', 'april']"
      ]
     },
     "execution_count": 44,
     "metadata": {},
     "output_type": "execute_result"
    }
   ],
   "source": [
    "re.findall(\"\\w+\", text7)"
   ]
  },
  {
   "cell_type": "code",
   "execution_count": 45,
   "metadata": {},
   "outputs": [],
   "source": [
    "text8 = \"Ali ata bak. Emel ılık süt iç. HAelık, TURKi, iLAK\""
   ]
  },
  {
   "cell_type": "code",
   "execution_count": 46,
   "metadata": {},
   "outputs": [
    {
     "data": {
      "text/plain": [
       "[('Ali', 'i'), ('Emel', 'l'), ('Ael', 'l'), ('Ki', 'i')]"
      ]
     },
     "execution_count": 46,
     "metadata": {},
     "output_type": "execute_result"
    }
   ],
   "source": [
    "re.findall('([A-Z]([a-z])+)', text8)"
   ]
  },
  {
   "cell_type": "code",
   "execution_count": 47,
   "metadata": {},
   "outputs": [
    {
     "data": {
      "text/plain": [
       "['Ali', 'Emel', 'HAelık', 'TURKi', 'LAK']"
      ]
     },
     "execution_count": 47,
     "metadata": {},
     "output_type": "execute_result"
    }
   ],
   "source": [
    "re.findall('([A-Z]\\w+)', text8)"
   ]
  },
  {
   "cell_type": "markdown",
   "metadata": {},
   "source": [
    "#### Compile And Search"
   ]
  },
  {
   "cell_type": "code",
   "execution_count": 48,
   "metadata": {},
   "outputs": [],
   "source": [
    "a = \"ali ata\""
   ]
  },
  {
   "cell_type": "code",
   "execution_count": 49,
   "metadata": {},
   "outputs": [],
   "source": [
    "b = \"ata\""
   ]
  },
  {
   "cell_type": "code",
   "execution_count": 50,
   "metadata": {},
   "outputs": [],
   "source": [
    "regexxp = re.compile(f\"(?:\\s|^){b}(?:\\s|$)\")"
   ]
  },
  {
   "cell_type": "code",
   "execution_count": 51,
   "metadata": {},
   "outputs": [
    {
     "data": {
      "text/plain": [
       "<re.Match object; span=(3, 7), match=' ata'>"
      ]
     },
     "execution_count": 51,
     "metadata": {},
     "output_type": "execute_result"
    }
   ],
   "source": [
    "regexxp.search(a)"
   ]
  },
  {
   "cell_type": "code",
   "execution_count": 52,
   "metadata": {},
   "outputs": [
    {
     "name": "stdout",
     "output_type": "stream",
     "text": [
      "<re.Match object; span=(3, 7), match=' ata'>\n"
     ]
    }
   ],
   "source": [
    "print(regexxp.search(a))"
   ]
  },
  {
   "cell_type": "code",
   "execution_count": 53,
   "metadata": {},
   "outputs": [],
   "source": [
    "result = re.search(fr\"(?:\\s|^){b}(?:\\s|$)\", a)"
   ]
  },
  {
   "cell_type": "code",
   "execution_count": 54,
   "metadata": {},
   "outputs": [
    {
     "name": "stdout",
     "output_type": "stream",
     "text": [
      "<re.Match object; span=(3, 7), match=' ata'>\n"
     ]
    }
   ],
   "source": [
    "print(result)"
   ]
  },
  {
   "cell_type": "code",
   "execution_count": 59,
   "metadata": {},
   "outputs": [],
   "source": [
    "cus = re.compile(\"[abcdef]\",re.IGNORECASE)"
   ]
  },
  {
   "cell_type": "code",
   "execution_count": 60,
   "metadata": {},
   "outputs": [],
   "source": [
    "text9 = \"ali ata bak\""
   ]
  },
  {
   "cell_type": "code",
   "execution_count": 61,
   "metadata": {},
   "outputs": [
    {
     "data": {
      "text/plain": [
       "<re.Match object; span=(0, 1), match='a'>"
      ]
     },
     "execution_count": 61,
     "metadata": {},
     "output_type": "execute_result"
    }
   ],
   "source": [
    "cus.search(text9)"
   ]
  },
  {
   "cell_type": "markdown",
   "metadata": {},
   "source": [
    "#### Custom Character"
   ]
  },
  {
   "cell_type": "code",
   "execution_count": 62,
   "metadata": {},
   "outputs": [],
   "source": [
    "text10 = \"Ahmet eve geldi mi?\""
   ]
  },
  {
   "cell_type": "code",
   "execution_count": 67,
   "metadata": {},
   "outputs": [
    {
     "data": {
      "text/plain": [
       "['Ahme', 'eve', 'eld', 'm']"
      ]
     },
     "execution_count": 67,
     "metadata": {},
     "output_type": "execute_result"
    }
   ],
   "source": [
    "re.findall(r'[aAhmevldm]+', text10)"
   ]
  },
  {
   "cell_type": "code",
   "execution_count": 68,
   "metadata": {},
   "outputs": [
    {
     "data": {
      "text/plain": [
       "['Ahme', 'eve', 'eld', 'm']"
      ]
     },
     "execution_count": 68,
     "metadata": {},
     "output_type": "execute_result"
    }
   ],
   "source": [
    "re.findall(r'[ahmevldm]+', text10, re.IGNORECASE)"
   ]
  },
  {
   "cell_type": "code",
   "execution_count": null,
   "metadata": {},
   "outputs": [],
   "source": []
  }
 ],
 "metadata": {
  "interpreter": {
   "hash": "651d507d70892fab0fc6529d935cd476f6e2eb1791525b76da6cc8da34bc0503"
  },
  "kernelspec": {
   "display_name": "Python 3.9.5 64-bit ('py39': conda)",
   "language": "python",
   "name": "python3"
  },
  "language_info": {
   "codemirror_mode": {
    "name": "ipython",
    "version": 3
   },
   "file_extension": ".py",
   "mimetype": "text/x-python",
   "name": "python",
   "nbconvert_exporter": "python",
   "pygments_lexer": "ipython3",
   "version": "3.9.5"
  },
  "orig_nbformat": 4
 },
 "nbformat": 4,
 "nbformat_minor": 2
}
