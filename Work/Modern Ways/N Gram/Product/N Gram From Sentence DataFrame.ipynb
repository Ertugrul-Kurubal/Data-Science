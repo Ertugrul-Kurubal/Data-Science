{
 "cells": [
  {
   "cell_type": "markdown",
   "metadata": {},
   "source": [
    "### N Gram Analysis In Sentence Data Frame"
   ]
  },
  {
   "cell_type": "code",
   "execution_count": 1,
   "metadata": {},
   "outputs": [],
   "source": [
    "import pandas as pd\n",
    "import numpy as np\n",
    "import nltk\n",
    "from nltk import ngrams"
   ]
  },
  {
   "cell_type": "code",
   "execution_count": 24,
   "metadata": {},
   "outputs": [
    {
     "data": {
      "text/html": [
       "<div>\n",
       "<style scoped>\n",
       "    .dataframe tbody tr th:only-of-type {\n",
       "        vertical-align: middle;\n",
       "    }\n",
       "\n",
       "    .dataframe tbody tr th {\n",
       "        vertical-align: top;\n",
       "    }\n",
       "\n",
       "    .dataframe thead th {\n",
       "        text-align: right;\n",
       "    }\n",
       "</style>\n",
       "<table border=\"1\" class=\"dataframe\">\n",
       "  <thead>\n",
       "    <tr style=\"text-align: right;\">\n",
       "      <th></th>\n",
       "      <th>sentence</th>\n",
       "      <th>frequency</th>\n",
       "      <th>ratio</th>\n",
       "      <th>cumul_ratio</th>\n",
       "    </tr>\n",
       "  </thead>\n",
       "  <tbody>\n",
       "    <tr>\n",
       "      <th>0</th>\n",
       "      <td>evet</td>\n",
       "      <td>353</td>\n",
       "      <td>1.209360</td>\n",
       "      <td>1.209360</td>\n",
       "    </tr>\n",
       "    <tr>\n",
       "      <th>1</th>\n",
       "      <td>hayır</td>\n",
       "      <td>227</td>\n",
       "      <td>0.777690</td>\n",
       "      <td>1.987050</td>\n",
       "    </tr>\n",
       "    <tr>\n",
       "      <th>2</th>\n",
       "      <td>ne</td>\n",
       "      <td>109</td>\n",
       "      <td>0.373428</td>\n",
       "      <td>2.360478</td>\n",
       "    </tr>\n",
       "    <tr>\n",
       "      <th>3</th>\n",
       "      <td>teşekkürler</td>\n",
       "      <td>64</td>\n",
       "      <td>0.219261</td>\n",
       "      <td>2.579739</td>\n",
       "    </tr>\n",
       "    <tr>\n",
       "      <th>4</th>\n",
       "      <td>merhaba</td>\n",
       "      <td>59</td>\n",
       "      <td>0.202131</td>\n",
       "      <td>2.781870</td>\n",
       "    </tr>\n",
       "    <tr>\n",
       "      <th>...</th>\n",
       "      <td>...</td>\n",
       "      <td>...</td>\n",
       "      <td>...</td>\n",
       "      <td>...</td>\n",
       "    </tr>\n",
       "    <tr>\n",
       "      <th>14256</th>\n",
       "      <td>ona her şeyi anlattım</td>\n",
       "      <td>1</td>\n",
       "      <td>0.003426</td>\n",
       "      <td>99.986296</td>\n",
       "    </tr>\n",
       "    <tr>\n",
       "      <th>14257</th>\n",
       "      <td>bunun kabalık olduğunu düşünmüyor musun</td>\n",
       "      <td>1</td>\n",
       "      <td>0.003426</td>\n",
       "      <td>99.989722</td>\n",
       "    </tr>\n",
       "    <tr>\n",
       "      <th>14258</th>\n",
       "      <td>kimliğini saklamak ve savunmasız olduğu anda r...</td>\n",
       "      <td>1</td>\n",
       "      <td>0.003426</td>\n",
       "      <td>99.993148</td>\n",
       "    </tr>\n",
       "    <tr>\n",
       "      <th>14259</th>\n",
       "      <td>çok sinsi ve alçakça</td>\n",
       "      <td>1</td>\n",
       "      <td>0.003426</td>\n",
       "      <td>99.996574</td>\n",
       "    </tr>\n",
       "    <tr>\n",
       "      <th>14260</th>\n",
       "      <td>ama başk</td>\n",
       "      <td>1</td>\n",
       "      <td>0.003426</td>\n",
       "      <td>100.000000</td>\n",
       "    </tr>\n",
       "  </tbody>\n",
       "</table>\n",
       "<p>14261 rows × 4 columns</p>\n",
       "</div>"
      ],
      "text/plain": [
       "                                                sentence  frequency     ratio  \\\n",
       "0                                                   evet        353  1.209360   \n",
       "1                                                  hayır        227  0.777690   \n",
       "2                                                     ne        109  0.373428   \n",
       "3                                            teşekkürler         64  0.219261   \n",
       "4                                                merhaba         59  0.202131   \n",
       "...                                                  ...        ...       ...   \n",
       "14256                              ona her şeyi anlattım          1  0.003426   \n",
       "14257            bunun kabalık olduğunu düşünmüyor musun          1  0.003426   \n",
       "14258  kimliğini saklamak ve savunmasız olduğu anda r...          1  0.003426   \n",
       "14259                               çok sinsi ve alçakça          1  0.003426   \n",
       "14260                                           ama başk          1  0.003426   \n",
       "\n",
       "       cumul_ratio  \n",
       "0         1.209360  \n",
       "1         1.987050  \n",
       "2         2.360478  \n",
       "3         2.579739  \n",
       "4         2.781870  \n",
       "...            ...  \n",
       "14256    99.986296  \n",
       "14257    99.989722  \n",
       "14258    99.993148  \n",
       "14259    99.996574  \n",
       "14260   100.000000  \n",
       "\n",
       "[14261 rows x 4 columns]"
      ]
     },
     "execution_count": 24,
     "metadata": {},
     "output_type": "execute_result"
    }
   ],
   "source": [
    "df_sent = pd.read_csv(\"Sentence_Tokenize_Sample.csv\")\n",
    "df_sent"
   ]
  },
  {
   "cell_type": "code",
   "execution_count": 20,
   "metadata": {},
   "outputs": [],
   "source": [
    "# df_sent = df_sent.head(30)"
   ]
  },
  {
   "cell_type": "code",
   "execution_count": 26,
   "metadata": {},
   "outputs": [],
   "source": [
    "n = 2\n",
    "n_gram_list = [] \n",
    "n_gram_freq_list = []\n",
    "count_index = 0\n",
    "for i in df_sent.sentence:\n",
    "    try:\n",
    "        n_gram = ngrams(i.split(),n)\n",
    "        for j in n_gram:\n",
    "            j = \" \".join(j)\n",
    "            freq = df_sent.iloc[count_index, 1]\n",
    "            n_gram_list.append(j)\n",
    "            n_gram_freq_list.append(freq)\n",
    "    except:\n",
    "        pass\n",
    "    count_index += 1"
   ]
  },
  {
   "cell_type": "code",
   "execution_count": 27,
   "metadata": {},
   "outputs": [
    {
     "name": "stdout",
     "output_type": "stream",
     "text": [
      "47892\n"
     ]
    }
   ],
   "source": [
    "print(len(n_gram_freq_list))"
   ]
  },
  {
   "cell_type": "code",
   "execution_count": 28,
   "metadata": {},
   "outputs": [
    {
     "data": {
      "text/html": [
       "<div>\n",
       "<style scoped>\n",
       "    .dataframe tbody tr th:only-of-type {\n",
       "        vertical-align: middle;\n",
       "    }\n",
       "\n",
       "    .dataframe tbody tr th {\n",
       "        vertical-align: top;\n",
       "    }\n",
       "\n",
       "    .dataframe thead th {\n",
       "        text-align: right;\n",
       "    }\n",
       "</style>\n",
       "<table border=\"1\" class=\"dataframe\">\n",
       "  <thead>\n",
       "    <tr style=\"text-align: right;\">\n",
       "      <th></th>\n",
       "      <th>twogram</th>\n",
       "      <th>frequency</th>\n",
       "    </tr>\n",
       "  </thead>\n",
       "  <tbody>\n",
       "    <tr>\n",
       "      <th>0</th>\n",
       "      <td>öyle mi</td>\n",
       "      <td>49</td>\n",
       "    </tr>\n",
       "    <tr>\n",
       "      <th>1</th>\n",
       "      <td>tamam mı</td>\n",
       "      <td>48</td>\n",
       "    </tr>\n",
       "    <tr>\n",
       "      <th>2</th>\n",
       "      <td>aman tanrım</td>\n",
       "      <td>42</td>\n",
       "    </tr>\n",
       "    <tr>\n",
       "      <th>3</th>\n",
       "      <td>ne oldu</td>\n",
       "      <td>38</td>\n",
       "    </tr>\n",
       "    <tr>\n",
       "      <th>4</th>\n",
       "      <td>iyi misin</td>\n",
       "      <td>36</td>\n",
       "    </tr>\n",
       "    <tr>\n",
       "      <th>...</th>\n",
       "      <td>...</td>\n",
       "      <td>...</td>\n",
       "    </tr>\n",
       "    <tr>\n",
       "      <th>47887</th>\n",
       "      <td>röportaj yapmak</td>\n",
       "      <td>1</td>\n",
       "    </tr>\n",
       "    <tr>\n",
       "      <th>47888</th>\n",
       "      <td>çok sinsi</td>\n",
       "      <td>1</td>\n",
       "    </tr>\n",
       "    <tr>\n",
       "      <th>47889</th>\n",
       "      <td>sinsi ve</td>\n",
       "      <td>1</td>\n",
       "    </tr>\n",
       "    <tr>\n",
       "      <th>47890</th>\n",
       "      <td>ve alçakça</td>\n",
       "      <td>1</td>\n",
       "    </tr>\n",
       "    <tr>\n",
       "      <th>47891</th>\n",
       "      <td>ama başk</td>\n",
       "      <td>1</td>\n",
       "    </tr>\n",
       "  </tbody>\n",
       "</table>\n",
       "<p>47892 rows × 2 columns</p>\n",
       "</div>"
      ],
      "text/plain": [
       "               twogram frequency\n",
       "0              öyle mi        49\n",
       "1             tamam mı        48\n",
       "2          aman tanrım        42\n",
       "3              ne oldu        38\n",
       "4            iyi misin        36\n",
       "...                ...       ...\n",
       "47887  röportaj yapmak         1\n",
       "47888        çok sinsi         1\n",
       "47889         sinsi ve         1\n",
       "47890       ve alçakça         1\n",
       "47891         ama başk         1\n",
       "\n",
       "[47892 rows x 2 columns]"
      ]
     },
     "execution_count": 28,
     "metadata": {},
     "output_type": "execute_result"
    }
   ],
   "source": [
    "df_result = pd.DataFrame([n_gram_list, n_gram_freq_list]).transpose()\n",
    "df_result.rename(columns={0:\"twogram\",1:\"frequency\"}, inplace=True)\n",
    "df_result"
   ]
  },
  {
   "cell_type": "code",
   "execution_count": 38,
   "metadata": {},
   "outputs": [
    {
     "data": {
      "text/plain": [
       "twogram\n",
       "bir şey           342\n",
       "değil mi          255\n",
       "tamam mı          139\n",
       "ya da             105\n",
       "ben de            101\n",
       "                 ... \n",
       "mı yaşamak          1\n",
       "mı yaptın           1\n",
       "mı yaptı            1\n",
       "dansa giderken      1\n",
       "şşş tam             1\n",
       "Name: frequency, Length: 37904, dtype: object"
      ]
     },
     "execution_count": 38,
     "metadata": {},
     "output_type": "execute_result"
    }
   ],
   "source": [
    "df_result_sort = df_result.groupby(\"twogram\")[\"frequency\"].sum().sort_values(ascending=False)\n",
    "df_result_sort"
   ]
  },
  {
   "cell_type": "code",
   "execution_count": 33,
   "metadata": {},
   "outputs": [],
   "source": [
    "df_two_gram = pd.DataFrame(df_result_sort)\n",
    "df_two_gram.reset_index(inplace=True)"
   ]
  },
  {
   "cell_type": "code",
   "execution_count": 35,
   "metadata": {},
   "outputs": [],
   "source": [
    "df_two_gram.to_excel(\"Two_Gram_From_Sentence.xlsx\", sheet_name=\"Two_Gram\", index=False)"
   ]
  },
  {
   "cell_type": "code",
   "execution_count": 45,
   "metadata": {},
   "outputs": [],
   "source": [
    "def n_gram_sentence(n, n_gram_type):\n",
    "    n = n\n",
    "    n_gram_list = [] \n",
    "    n_gram_freq_list = []\n",
    "    count_index = 0\n",
    "    for i in df_sent.sentence:\n",
    "        try:\n",
    "            n_gram = ngrams(i.split(),n)\n",
    "            for j in n_gram:\n",
    "                j = \" \".join(j)\n",
    "                freq = df_sent.iloc[count_index, 1]\n",
    "                n_gram_list.append(j)\n",
    "                n_gram_freq_list.append(freq)\n",
    "        except:\n",
    "            pass\n",
    "        count_index += 1  \n",
    "\n",
    "    df_result = pd.DataFrame([n_gram_list, n_gram_freq_list]).transpose()\n",
    "    df_result.rename(columns={0:f\"{n_gram_type.lower()}\",1:\"frequency\"}, inplace=True)\n",
    "\n",
    "    df_result_sort = df_result.groupby(f\"{n_gram_type.lower()}\")[\"frequency\"].sum().sort_values(ascending=False)\n",
    "    df_n_gram = pd.DataFrame(df_result_sort)\n",
    "    df_n_gram.reset_index(inplace=True)\n",
    "\n",
    "    df_n_gram.to_excel(f\"{n_gram_type.capitalize()}_From_Sentence.xlsx\", sheet_name=f'{n_gram_type.capitalize()}', index=False)         "
   ]
  },
  {
   "cell_type": "code",
   "execution_count": 46,
   "metadata": {},
   "outputs": [],
   "source": [
    "n_gram_sentence(3, \"Threegram\")"
   ]
  },
  {
   "cell_type": "code",
   "execution_count": 47,
   "metadata": {},
   "outputs": [],
   "source": [
    "n_gram_sentence(4, \"Fourgram\")"
   ]
  },
  {
   "cell_type": "code",
   "execution_count": null,
   "metadata": {},
   "outputs": [],
   "source": [
    "n_gram_sentence(5, \"Fivegram\")"
   ]
  },
  {
   "cell_type": "code",
   "execution_count": null,
   "metadata": {},
   "outputs": [],
   "source": []
  },
  {
   "cell_type": "code",
   "execution_count": null,
   "metadata": {},
   "outputs": [],
   "source": []
  },
  {
   "cell_type": "code",
   "execution_count": null,
   "metadata": {},
   "outputs": [],
   "source": []
  },
  {
   "cell_type": "code",
   "execution_count": null,
   "metadata": {},
   "outputs": [],
   "source": []
  },
  {
   "cell_type": "code",
   "execution_count": null,
   "metadata": {},
   "outputs": [],
   "source": []
  },
  {
   "cell_type": "code",
   "execution_count": null,
   "metadata": {},
   "outputs": [],
   "source": []
  }
 ],
 "metadata": {
  "interpreter": {
   "hash": "dee98d46828ee19b29600c86b301abe70cd9ca024f8cc08840440df39802f8b5"
  },
  "kernelspec": {
   "display_name": "Python 3.9.7 64-bit ('pyspark_env': conda)",
   "language": "python",
   "name": "python3"
  },
  "language_info": {
   "codemirror_mode": {
    "name": "ipython",
    "version": 3
   },
   "file_extension": ".py",
   "mimetype": "text/x-python",
   "name": "python",
   "nbconvert_exporter": "python",
   "pygments_lexer": "ipython3",
   "version": "3.9.5"
  },
  "orig_nbformat": 4
 },
 "nbformat": 4,
 "nbformat_minor": 2
}
