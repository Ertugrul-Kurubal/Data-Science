{
 "cells": [
  {
   "cell_type": "markdown",
   "metadata": {},
   "source": [
    "#### Single And Multi Word N Gram Sentence Analysis"
   ]
  },
  {
   "cell_type": "code",
   "execution_count": null,
   "metadata": {},
   "outputs": [],
   "source": [
    "df_all_sent = pd.read_csv(\"/media/kurubal/SSD/Data Scientist/Work/Modern Ways/Project/Pyspark/Result/Clean Spark Sentence Merge/Clean_Spark_Sentence_Merge_Result.csv\")\n",
    "df_all_sent"
   ]
  },
  {
   "cell_type": "code",
   "execution_count": null,
   "metadata": {},
   "outputs": [],
   "source": [
    "sent1_list = []\n",
    "sent2_list = []\n",
    "sent3_list = []\n",
    "sent4_list = []\n",
    "sent5_list = []\n",
    "for i in df_all_sent.sentence:\n",
    "    word = word_tokenize(i)\n",
    "    if len(word) == 1:\n",
    "        sent1_list.append(i)        \n",
    "    elif len(word) == 2:\n",
    "        sent2_list.append(i)\n",
    "    elif len(word) == 3:\n",
    "        sent3_list.append(i)\n",
    "    elif len(word) == 4:\n",
    "        sent4_list.append(i)\n",
    "    elif len(word) == 5:\n",
    "        sent5_list.append(i)\n",
    "    else:\n",
    "        pass  "
   ]
  },
  {
   "cell_type": "code",
   "execution_count": null,
   "metadata": {},
   "outputs": [],
   "source": [
    "df_sent1 = pd.DataFrame(sent1_list)\n",
    "df_sent1.rename(columns={0:\"sentence\"}, inplace=True)\n",
    "df_sent1.to_csv(\"One_Gram_And_Spark_Sentence.csv\", index=False)"
   ]
  },
  {
   "cell_type": "code",
   "execution_count": null,
   "metadata": {},
   "outputs": [],
   "source": [
    "df_sent2 = pd.DataFrame(sent2_list)\n",
    "df_sent2.rename(columns={0:\"sentence\"}, inplace=True)\n",
    "df_sent2.to_csv(\"Two_Gram_And_Spark_Sentence.csv\", index=False)"
   ]
  },
  {
   "cell_type": "code",
   "execution_count": null,
   "metadata": {},
   "outputs": [],
   "source": [
    "df_sent3 = pd.DataFrame(sent3_list)\n",
    "df_sent3.rename(columns={0:\"sentence\"}, inplace=True)\n",
    "df_sent3.to_csv(\"Three_Gram_And_Spark_Sentence.csv\", index=False)"
   ]
  },
  {
   "cell_type": "code",
   "execution_count": null,
   "metadata": {},
   "outputs": [],
   "source": [
    "df_sent4 = pd.DataFrame(sent4_list)\n",
    "df_sent4.rename(columns={0:\"sentence\"}, inplace=True)\n",
    "df_sent4.to_csv(\"Four_Gram_And_Spark_Sentence.csv\", index=False)"
   ]
  },
  {
   "cell_type": "code",
   "execution_count": null,
   "metadata": {},
   "outputs": [],
   "source": [
    "df_sent5 = pd.DataFrame(sent5_list)\n",
    "df_sent5.rename(columns={0:\"sentence\"}, inplace=True)\n",
    "df_sent5.to_csv(\"Five_Gram_And_Spark_Sentence.csv\", index=False)"
   ]
  },
  {
   "cell_type": "code",
   "execution_count": null,
   "metadata": {},
   "outputs": [],
   "source": []
  }
 ],
 "metadata": {
  "language_info": {
   "name": "python"
  },
  "orig_nbformat": 4
 },
 "nbformat": 4,
 "nbformat_minor": 2
}
