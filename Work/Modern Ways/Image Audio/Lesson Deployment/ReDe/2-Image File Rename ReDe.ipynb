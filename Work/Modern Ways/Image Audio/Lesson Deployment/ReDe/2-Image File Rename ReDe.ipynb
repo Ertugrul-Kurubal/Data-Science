{
 "cells": [
  {
   "cell_type": "markdown",
   "metadata": {},
   "source": [
    "### Image File Rename"
   ]
  },
  {
   "cell_type": "code",
   "execution_count": 57,
   "metadata": {},
   "outputs": [],
   "source": [
    "#!pip install regex --upgrade"
   ]
  },
  {
   "cell_type": "code",
   "execution_count": 58,
   "metadata": {},
   "outputs": [],
   "source": [
    "#!pip install --upgrade pip"
   ]
  },
  {
   "cell_type": "code",
   "execution_count": 59,
   "metadata": {},
   "outputs": [],
   "source": [
    "#import sys\n",
    "#import codecs"
   ]
  },
  {
   "cell_type": "code",
   "execution_count": 60,
   "metadata": {},
   "outputs": [],
   "source": [
    "#sys.stdout = codecs.getwriter('utf8')(sys.stdout)\n",
    "#sys.stderr = codecs.getwriter('utf8')(sys.stderr)"
   ]
  },
  {
   "cell_type": "code",
   "execution_count": 61,
   "metadata": {},
   "outputs": [],
   "source": [
    "import os\n",
    "import sys\n",
    "import re\n",
    "import numpy as np\n",
    "import pandas as pd\n",
    "from pathlib import Path\n",
    "import nltk\n",
    "from nltk import word_tokenize\n",
    "import shutil\n",
    "from os.path import isfile, join"
   ]
  },
  {
   "cell_type": "code",
   "execution_count": 62,
   "metadata": {},
   "outputs": [],
   "source": [
    "# custom character alphabet for word\n",
    "tr = re.compile(r\"[abcçdefghijklmnoprstuvyzqxw\\ğ\\ç\\ş\\ü\\ı\\ö]+\") # Turkish filters='!\"#$%&()*+,-./:;<=>?@[\\\\]^_`{|}~\\t\\n0123456789'\n",
    "#tr = re.compile(r\"[abcçdefgğhıijklmnoöprsştuüvyzqxw]+\", re.IGNORECASE|re.UNICODE) # Turkish filters='!\"#$%&()*+,-./:;<=>?@[\\\\]^_`{|}~\\t\\n0123456789'\n",
    "en = re.compile(r\"[abcdefghıijklmnopqrstxuvwyz]+\", re.IGNORECASE|re.UNICODE) # English\n",
    "nl = re.compile(r\"[abcdefghıijklmnopqrstxuvwyzāăēĕīĭōŏūŭ]+\", re.IGNORECASE|re.UNICODE) # Dutch (Flemenk)\n",
    "fr = re.compile(r\"[abcçdefghıijklmnopqrstxuvwyzàâæèéêëîïôœùûüÿ]+\", re.IGNORECASE|re.UNICODE) # French\n",
    "de = re.compile(r\"[abcdefghıijklmnopqrstxuvwyzäöüß]+\", re.IGNORECASE|re.UNICODE) # German\n",
    "es = re.compile(r\"[abcdefghıijklmnopqrstxuvwyzñáéíóú]+\", re.IGNORECASE|re.UNICODE) # Spanish (¿¡)\n",
    "pt = re.compile(r\"[abcçdefghıijklmnopqrstxuvwyzàáâãéêíóôõú]+\", re.IGNORECASE|re.UNICODE) # Portuguese\n",
    "it = re.compile(r\"[abcdefghıijklmnopqrstxuvwyzàéèìòùî]+\", re.IGNORECASE|re.UNICODE) # Italian\n",
    "ar = re.compile(r\"[ٿصؼۤڳڲؿڎػڠجڿ٬ٸؽؒؓطۄڀۂؘؔتٚڛےٝڜؖڦ٫ډ۰زۇٖۀ،لۓعٮێڔ۶ؚۧۜڤۏإٞٷؗۖ؈ژۣؕؑٴأۻڸۺگاڴڹۯ؉ْڌ؍ي؟ـٟړۅؐڶُىڽېًۢؠضۚڄٛڏٱۦ٩س٦ڼڂٔۘ٠ښٌٍ۬ٳ۾ٲږذۋٵٜ٘ڞڅںٗهڣۿپڒۥۗڋیؙم؞ثۨٹڵڪظٶۭ١ڭەڨحٕ؎ٺڷٰ۪۫ڻڥۛڑڟټآڡغګ؊ّٯڧڮ؏ۮ؋ؤ٪ؾڗۼق۟دکوِڰڐۃ۽ہفرڇچڝ۴بۈٽڕۡھةٓڃئ؛ڬٙڙڢڱۊَۆۉځ۠ۍۑۙڊنءڈٻشڍ؇۵كخ\\ا]+\", re.IGNORECASE|re.UNICODE) # Arabic"
   ]
  },
  {
   "cell_type": "code",
   "execution_count": 63,
   "metadata": {},
   "outputs": [
    {
     "name": "stdout",
     "output_type": "stream",
     "text": [
      "Turkish\n",
      "re.compile('[abcçdefghijklmnoprstuvyzqxw\\\\ğ\\\\ç\\\\ş\\\\ü\\\\ı\\\\ö]+')\n"
     ]
    }
   ],
   "source": [
    "folder_name = \"Turkish\"  # English, Turkish, German, French, Spanish, Arabic, Portuguese, Dutch, Italian\n",
    " \n",
    "if folder_name == \"English\":\n",
    "    custom_alp = en\n",
    "elif folder_name == \"Turkish\":\n",
    "    custom_alp = tr\n",
    "elif folder_name == \"German\":\n",
    "    custom_alp = de\n",
    "elif folder_name == \"French\":\n",
    "    custom_alp = fr\n",
    "elif folder_name == \"Spanish\":\n",
    "    custom_alp = es\n",
    "elif folder_name == \"Arabic\":\n",
    "    custom_alp = ar\n",
    "elif folder_name == \"Portuguese\":\n",
    "    custom_alp = pt\n",
    "elif folder_name == \"Dutch\":\n",
    "    custom_alp = nl\n",
    "elif folder_name == \"Italian\":\n",
    "    custom_alp = it\n",
    "else:\n",
    "    pass\n",
    "#custom_alp = tr  # en, tr, de, fr, es, ar, pt, nl, it\n",
    "print(f\"{folder_name}\\n{custom_alp}\") "
   ]
  },
  {
   "cell_type": "code",
   "execution_count": 64,
   "metadata": {},
   "outputs": [],
   "source": [
    "def clean_text(text, custom_alp):  # def clean_text(text)\n",
    "    #text_clean = re.findall(custom_alp, text)\n",
    "    text_clean = re.findall(custom_alp, text)\n",
    "    text_result = \" \".join(text_clean)\n",
    "    return text_result"
   ]
  },
  {
   "cell_type": "code",
   "execution_count": 65,
   "metadata": {},
   "outputs": [],
   "source": [
    "test_text = \"ali3 atağ bal çık İlik ılIk Şart değiş12\""
   ]
  },
  {
   "cell_type": "code",
   "execution_count": 66,
   "metadata": {},
   "outputs": [],
   "source": [
    "test_text2 = \"kahve için (2)\""
   ]
  },
  {
   "cell_type": "code",
   "execution_count": 67,
   "metadata": {},
   "outputs": [
    {
     "data": {
      "text/plain": [
       "'kahve için (2)'"
      ]
     },
     "execution_count": 67,
     "metadata": {},
     "output_type": "execute_result"
    }
   ],
   "source": [
    "test_text23 = test_text2.encode(encoding = 'UTF-8')\n",
    "test_text24 = test_text23.decode(encoding = 'UTF-8')\n",
    "test_text24"
   ]
  },
  {
   "cell_type": "code",
   "execution_count": 68,
   "metadata": {},
   "outputs": [],
   "source": [
    "test_text3 = \"kahve için (2)\""
   ]
  },
  {
   "cell_type": "code",
   "execution_count": 69,
   "metadata": {},
   "outputs": [],
   "source": [
    "text4 = \"adalet için\""
   ]
  },
  {
   "cell_type": "code",
   "execution_count": 70,
   "metadata": {},
   "outputs": [
    {
     "data": {
      "text/plain": [
       "['adalet', 'için']"
      ]
     },
     "execution_count": 70,
     "metadata": {},
     "output_type": "execute_result"
    }
   ],
   "source": [
    "re.findall(custom_alp, str(text4))"
   ]
  },
  {
   "cell_type": "code",
   "execution_count": 71,
   "metadata": {},
   "outputs": [],
   "source": [
    "string_utf = test_text3.encode()"
   ]
  },
  {
   "cell_type": "code",
   "execution_count": 72,
   "metadata": {},
   "outputs": [
    {
     "name": "stdout",
     "output_type": "stream",
     "text": [
      "The encoded version is: b'kahve ic\\xcc\\xa7in (2)'\n"
     ]
    }
   ],
   "source": [
    "print('The encoded version is:', string_utf)"
   ]
  },
  {
   "cell_type": "code",
   "execution_count": 73,
   "metadata": {},
   "outputs": [
    {
     "data": {
      "text/plain": [
       "'kahve için (2)'"
      ]
     },
     "execution_count": 73,
     "metadata": {},
     "output_type": "execute_result"
    }
   ],
   "source": [
    "test_text34 = test_text3.encode(encoding = 'UTF-8')\n",
    "test_text35 = test_text34.decode(encoding = 'UTF-8')\n",
    "test_text35"
   ]
  },
  {
   "cell_type": "code",
   "execution_count": 74,
   "metadata": {},
   "outputs": [
    {
     "data": {
      "text/plain": [
       "['ali', 'atağ', 'bal', 'çık', 'lik', 'ıl', 'k', 'art', 'değiş']"
      ]
     },
     "execution_count": 74,
     "metadata": {},
     "output_type": "execute_result"
    }
   ],
   "source": [
    "re.findall(custom_alp, str(test_text))"
   ]
  },
  {
   "cell_type": "code",
   "execution_count": 75,
   "metadata": {},
   "outputs": [
    {
     "data": {
      "text/plain": [
       "['kahve', 'için']"
      ]
     },
     "execution_count": 75,
     "metadata": {},
     "output_type": "execute_result"
    }
   ],
   "source": [
    "re.findall(custom_alp, str(test_text2))"
   ]
  },
  {
   "cell_type": "code",
   "execution_count": 76,
   "metadata": {},
   "outputs": [
    {
     "data": {
      "text/plain": [
       "['kahve', 'ic', 'in']"
      ]
     },
     "execution_count": 76,
     "metadata": {},
     "output_type": "execute_result"
    }
   ],
   "source": [
    "re.findall(custom_alp, str(test_text3))"
   ]
  },
  {
   "cell_type": "code",
   "execution_count": 77,
   "metadata": {},
   "outputs": [
    {
     "data": {
      "text/plain": [
       "['kahve', 'için']"
      ]
     },
     "execution_count": 77,
     "metadata": {},
     "output_type": "execute_result"
    }
   ],
   "source": [
    "re.findall(custom_alp, str(test_text24))"
   ]
  },
  {
   "cell_type": "code",
   "execution_count": 78,
   "metadata": {},
   "outputs": [
    {
     "data": {
      "text/plain": [
       "['kahve', 'ic', 'in']"
      ]
     },
     "execution_count": 78,
     "metadata": {},
     "output_type": "execute_result"
    }
   ],
   "source": [
    "re.findall(custom_alp, str(test_text35))"
   ]
  },
  {
   "cell_type": "code",
   "execution_count": 79,
   "metadata": {},
   "outputs": [
    {
     "data": {
      "text/plain": [
       "'ali atağ bal çık lik ıl k art değiş'"
      ]
     },
     "execution_count": 79,
     "metadata": {},
     "output_type": "execute_result"
    }
   ],
   "source": [
    "clean_text(test_text, custom_alp)"
   ]
  },
  {
   "cell_type": "code",
   "execution_count": 80,
   "metadata": {},
   "outputs": [
    {
     "data": {
      "text/plain": [
       "'kahve için'"
      ]
     },
     "execution_count": 80,
     "metadata": {},
     "output_type": "execute_result"
    }
   ],
   "source": [
    "clean_text(test_text2, custom_alp)"
   ]
  },
  {
   "cell_type": "code",
   "execution_count": 81,
   "metadata": {},
   "outputs": [
    {
     "data": {
      "text/plain": [
       "'kahve ic in'"
      ]
     },
     "execution_count": 81,
     "metadata": {},
     "output_type": "execute_result"
    }
   ],
   "source": [
    "clean_text(test_text3, custom_alp)"
   ]
  },
  {
   "cell_type": "code",
   "execution_count": 82,
   "metadata": {},
   "outputs": [
    {
     "data": {
      "text/plain": [
       "'kahve için'"
      ]
     },
     "execution_count": 82,
     "metadata": {},
     "output_type": "execute_result"
    }
   ],
   "source": [
    "clean_text(test_text24, custom_alp)"
   ]
  },
  {
   "cell_type": "code",
   "execution_count": 83,
   "metadata": {},
   "outputs": [
    {
     "data": {
      "text/plain": [
       "'kahve ic in'"
      ]
     },
     "execution_count": 83,
     "metadata": {},
     "output_type": "execute_result"
    }
   ],
   "source": [
    "clean_text(test_text35, custom_alp)"
   ]
  },
  {
   "cell_type": "code",
   "execution_count": 84,
   "metadata": {},
   "outputs": [],
   "source": [
    "def clean_text2(text, custom_alp):  # def clean_text(text)\n",
    "    #text_clean = re.findall(custom_alp, text)\n",
    "    text_clean = re.findall(custom_alp, str(text))\n",
    "    text_result = \" \".join(text_clean)\n",
    "    return text_result"
   ]
  },
  {
   "cell_type": "code",
   "execution_count": null,
   "metadata": {},
   "outputs": [],
   "source": []
  },
  {
   "cell_type": "code",
   "execution_count": 131,
   "metadata": {},
   "outputs": [],
   "source": [
    "image_file_path = \"/home/kurubal/Downloads/Temp/2 Gram Photos\"\n",
    "image_file_path_new = \"/home/kurubal/Downloads/Temp/2 Gram Photos New\"\n",
    "\n",
    "#image_file_path = \"/home/kurubal/Downloads/Temp/Word Photos\"\n",
    "#image_file_path_new = \"/home/kurubal/Downloads/Temp/Word Photos New\"\n",
    "Path(image_file_path_new).mkdir(parents=True, exist_ok=True)"
   ]
  },
  {
   "cell_type": "code",
   "execution_count": 132,
   "metadata": {},
   "outputs": [
    {
     "data": {
      "text/plain": [
       "['kasa da.jpg',\n",
       " 'milyonlarca kilometrelik.jpg',\n",
       " 'spor servisi.jpg',\n",
       " 'ben hariç.jpg',\n",
       " 'ekstra şekerli.jpg',\n",
       " 'daha komik.jpg',\n",
       " 'banyoda pudra.jpg',\n",
       " 'benim için 1.jpg',\n",
       " 'kod numarası.jpg',\n",
       " 'bana kahve.jpg',\n",
       " 'hayır kaptan.jpg',\n",
       " 'şarap da.jpeg',\n",
       " 'okul kredisi.jpg',\n",
       " 'elektrik sistemi.jpg',\n",
       " 'vejeteryan pizza.jpg',\n",
       " 'onur madalyası.jpg',\n",
       " 'dosya numarası.jpg',\n",
       " 'metro treni.jpg',\n",
       " 'o adam 1.jpg',\n",
       " 'elektronik sigara.webp',\n",
       " 'dizel motoru.jpg',\n",
       " 'çok fantastik.jpg',\n",
       " 'normal benzin.jpg',\n",
       " 'hayal gibi.jpg',\n",
       " 'benzin deposu.jpg',\n",
       " 'kafede randevu.jpg',\n",
       " 'o bina 2.jpg',\n",
       " 'video konferans.jpg',\n",
       " 'kahve için (2).jpg',\n",
       " 'vay enteresan.jpg',\n",
       " 'fizik doktorası.jpg',\n",
       " 'sen amiralsin.svg',\n",
       " 'alo şerif.jpg',\n",
       " 'park turu.jpg',\n",
       " 'film için.jpg',\n",
       " 'tamam sen.jpeg',\n",
       " 'hayır madam.jpg',\n",
       " 'japanese princess.jpg',\n",
       " 'bunu dizayn.jpg',\n",
       " 'o maske.jpg',\n",
       " 'çok normal.jpg',\n",
       " 'okul servisi.jpg',\n",
       " 'telefon bankacılığı.jpg',\n",
       " 'bu adam 2.jpg',\n",
       " 'ben ciddiyim 1.jpg',\n",
       " 'komedi programı.jpg',\n",
       " 'bu arazi 2.jpg',\n",
       " 'televizyon stüdyosu.jpg',\n",
       " 'popular thing.jpg',\n",
       " 'bunu arşivle.jpg',\n",
       " 'bunu elimine.jpg',\n",
       " 'üniversite kampüsü.jpg',\n",
       " 'komik değil.jpg',\n",
       " 'telefon kartı.jpg',\n",
       " 'kahve mi.jpg',\n",
       " 'elektrik yok.jpg',\n",
       " 'video filmi.jpg',\n",
       " 've kahve.jpeg',\n",
       " 'taksinin markası.jpg',\n",
       " 'firmanın avukatı.jpg',\n",
       " 'problem mi.jpg',\n",
       " 'karantina planı (1).jpg',\n",
       " 'sabah haberleri.jpeg',\n",
       " 'sen süpersin.jpg',\n",
       " 'ben de ciddiyim 1.jpg',\n",
       " 'aynı sen.jpg',\n",
       " 'tren tüneli.jpg',\n",
       " 'merhaba de.jpeg',\n",
       " 'aynı değil.jpg',\n",
       " 'mesaj var.jpg',\n",
       " 'çok kitap 1.jpg',\n",
       " 'ne zamandır 1.jpg',\n",
       " 'nabız yok.jpeg',\n",
       " 'zevk için.jpeg',\n",
       " 'merhaba ben 3.jpg',\n",
       " 'bebek fotoğrafları.jpg',\n",
       " 'çok kitap 2.jpg',\n",
       " 'şey pardon.jpg',\n",
       " 'dans gibi.jpg',\n",
       " 'kredi kartı.jpg',\n",
       " 'futbol ligi.jpg',\n",
       " 'daha fazla.jpg',\n",
       " 'fonksiyonları normal.jpg',\n",
       " 'o bina 3.jpg',\n",
       " 'o hamile.jpeg',\n",
       " 'dans için.jpg',\n",
       " 'genel alarm.jpg',\n",
       " 'klasik müzik.jpg',\n",
       " 'telefon da.jpg',\n",
       " 'daha pratik.jpg',\n",
       " 'süper ajan.jpg',\n",
       " 'normal değil.jpg',\n",
       " 'sen bebeksin.jpg',\n",
       " 'bu sabah.jpg',\n",
       " 'plaka numarası.jpg',\n",
       " 'vampir videosu.jpg',\n",
       " 'manyak parti.jpg',\n",
       " 'onurlu profesör.jpg',\n",
       " 'büro şefi.jpg',\n",
       " 'bu kadar.jpg',\n",
       " 'zaman da.jpeg',\n",
       " 'telefon sinyali (1).jpg',\n",
       " 'bunu analiz.png',\n",
       " 'o kitap 1.jpg',\n",
       " 'onu steril.jpg',\n",
       " 'senin için 3.jpg',\n",
       " 'sihir gibi.jpeg',\n",
       " 'ne zamandır 3.jpg',\n",
       " 'video konferansı.jpg',\n",
       " 'pizza servisi.jpg',\n",
       " 'zafer için.jpeg',\n",
       " 'fark var.jpg',\n",
       " 'fiziksel form.jpg',\n",
       " 'kamera sistemi.jpg',\n",
       " 'bir adet 2.jpg',\n",
       " 'senatörün planı.jpg',\n",
       " 'ama doktor.jpg',\n",
       " 'bomba mı.jpg',\n",
       " 'tur otobüsü.jpg',\n",
       " 'tamamen zararsız.jpeg',\n",
       " 'o park.jpg',\n",
       " 'turbo motor (1).jpg',\n",
       " 'turbo motor.jpg',\n",
       " 'polis değil.jpg',\n",
       " 'okul takımı.jpg',\n",
       " 'seni dezenfekte.jpg',\n",
       " 'şeker şey.jpg',\n",
       " 've hazır.jpeg',\n",
       " 'sigara da.jpg',\n",
       " 'lojistik operasyonlar.jpg',\n",
       " 'spor akademisi.jpg',\n",
       " 'servet kadar.jpg',\n",
       " 'radar sinyali.jpg',\n",
       " 'asit banyosu.jpg',\n",
       " 'polis üniforması.jpg',\n",
       " 'fotoğraf mı.jpg',\n",
       " 'aynı şey.jpg',\n",
       " 'ben hallederim 2.jpg',\n",
       " 'takım sporu.jpg',\n",
       " 'evet madam.jpg',\n",
       " 'mesela bunu.jpeg',\n",
       " 'ben ciddiyim 2.jpg',\n",
       " 'polis kontrolü.jpg',\n",
       " 'sinyal yok.jpg',\n",
       " 'video ünitesi.jpg',\n",
       " 'bu adam 1.jpg',\n",
       " 'sektör avukatı.jpg',\n",
       " 'ben senatör.jpg',\n",
       " 'kahve için.jpg',\n",
       " 'robot programları.jpg',\n",
       " 'bu bebek.jpg',\n",
       " 'trene kadar.jpg',\n",
       " 'problem ne.jpg',\n",
       " 'bu fantastik.jpg',\n",
       " 'hayvan gibi.jpg',\n",
       " 'bir ahbap 3.jpg',\n",
       " 'ben ajan.jpg',\n",
       " 'kahve için (1).jpg',\n",
       " 'tamam mı.jpeg',\n",
       " 'otopsi raporu.png',\n",
       " 'ne haber 1.jpg',\n",
       " 'mutant vampir.jpg',\n",
       " 'parka kadar,.jpg',\n",
       " 'testleri normal.jpg',\n",
       " 'ben de ciddiyim 3.jpg',\n",
       " 'tamam bunu.jpeg',\n",
       " 'komik video.jpg',\n",
       " 'haberlerim var 2.jpg',\n",
       " 'şans yok.jpg',\n",
       " 'bana kahve (1).jpg',\n",
       " 'park personeli.jpg',\n",
       " 'ben asla.jpg',\n",
       " 'ama mümkün.jpg',\n",
       " 'milyon kilometre.jpg',\n",
       " 'milyonlarca kilometre (1).jpg',\n",
       " 'mesela sen.jpeg',\n",
       " 'labaratuvar raporları.jpg',\n",
       " 'haberlerim var 3.jpg',\n",
       " 'elektronik posta.jpg',\n",
       " 'bu arazi 1.jpg',\n",
       " 'tam da.jpeg',\n",
       " 'profesyonel mi.jpg',\n",
       " 'telefon numarası.jpg',\n",
       " 'şekerli krema.jpg',\n",
       " 'bebek gibi (1).jpg',\n",
       " 'fotograf makinaları.jpg',\n",
       " 'ben ciddiyim 3.jpg',\n",
       " 'fotokopi makinesi.jpg',\n",
       " 'planlama ofisi.jpg',\n",
       " 'evet kaptan.jpg',\n",
       " 'ne haber.jpeg',\n",
       " 'kriz alarmı.jpg',\n",
       " 'kilo plastik.jpg',\n",
       " 'tuhaf insanlar.jpeg',\n",
       " 'hayır patron.jpg',\n",
       " 'profesyonel lig.jpg',\n",
       " 'filme kadar.jpg',\n",
       " 'doktor değil.jpg',\n",
       " 'kahve servisi.jpg',\n",
       " 'grup lideri.jpg',\n",
       " 'şeker de.jpg',\n",
       " 'bir adet 3.jpg',\n",
       " 'planın riskli.jpg',\n",
       " 'süpriz kart.jpg',\n",
       " 'şerifin departmanı.webp',\n",
       " 'listeyi kontrol.jpg',\n",
       " 'banka kasası (1).jpg',\n",
       " 'milyonlarca kilometre.jpg',\n",
       " 'şerif rozeti.jpg',\n",
       " 'üniversite rektörü.jpg',\n",
       " 'bir polis.jpg',\n",
       " 'evet tabii.jpg',\n",
       " 'adam da.jpg',\n",
       " 'okul gazetesi.png',\n",
       " 'grup için.jpg',\n",
       " 'karantina planı.jpg',\n",
       " 'çok elbise 3.jpg',\n",
       " 'enstrümantal müzik.jpg',\n",
       " 'ne zaman 3.jpg',\n",
       " 'bir saniye.jpg',\n",
       " 'ben de dahil 1.jpg',\n",
       " 'bebek vampir.jpg',\n",
       " 'polis notu.jpg',\n",
       " 'maalesef hayır.jpeg',\n",
       " 'direkt seni.jpg',\n",
       " 'mesela beni.jpeg',\n",
       " 'seni amatör.jpg',\n",
       " 'alo santral.jpg',\n",
       " 'alkol yok.jpg',\n",
       " 'fiziksel mutasyon.jpg',\n",
       " 'profesyonel basketbol.jpg',\n",
       " 'kilo metal.jpg',\n",
       " 'komik şey.jpg',\n",
       " 'balonun prensesi.jpg',\n",
       " 'polis de.jpg',\n",
       " 'kredi limiti.jpg',\n",
       " 'o ajan.jpg',\n",
       " 'kontrol var.jpg',\n",
       " 'şeker mi.jpg',\n",
       " 'telefon yok.jpg',\n",
       " 'evet harika.jpg',\n",
       " 'o polis.jpg',\n",
       " 'polis toplantısı.jpeg',\n",
       " 'süper polis.jpg',\n",
       " 'şanslı numara.jpg',\n",
       " 'porsiyon patates.jpg',\n",
       " 'film karakteri.jpg',\n",
       " 'posta kartı.jpg',\n",
       " 'okul üniforması.jpg',\n",
       " 'posta kamyonu.jpg',\n",
       " 'antibiyotik de.jpg',\n",
       " 'ahtapot kadar.jpg',\n",
       " 'kontrol için.jpg',\n",
       " 'profesör onuruna.jpg',\n",
       " 'elektrik şoku.jpg',\n",
       " 'plaj partisi.jpg',\n",
       " 'banka kartı.jpg',\n",
       " 'seni hain.jpg',\n",
       " 'kokteyl partisi.jpg',\n",
       " 'çok kalabalık 1.jpg',\n",
       " 'tamam de.jpeg',\n",
       " 'bir doktor.jpg',\n",
       " 'tamiz mi.jpeg',\n",
       " 'çok kalabalık 2.jpg',\n",
       " 'beni diskalifiye.jpg',\n",
       " 'onur rozeti.jpg',\n",
       " 'o film.jpg',\n",
       " 'doktor da.jpg',\n",
       " 'mesaj ne.jpg',\n",
       " 'sen psikopatsın.jpg',\n",
       " 'fazla değil.jpg',\n",
       " 'kaptan barı.jpg',\n",
       " 'pizza mı.jpg',\n",
       " 'otobüs şöforü.jpg',\n",
       " 'ama baba.jpg',\n",
       " 'sen komiksin.jpg',\n",
       " 'tamam ama.jpg',\n",
       " 'doktor rolü.png',\n",
       " 'karavana kadar.jpg',\n",
       " 'süpriz mi.jpg',\n",
       " 'sen hariç.jpeg',\n",
       " 'banka da.jpg',\n",
       " 'sen doktorsun.jpg',\n",
       " 'çok romantik.jpg',\n",
       " 'ben de ciddiyim 2.jpg',\n",
       " 'komik karakter.jpg',\n",
       " 'senatörün asistanı.jpg',\n",
       " 'çikolatalı kek.jpg',\n",
       " 'bana viski.webp',\n",
       " 'cevap hayır.jpg',\n",
       " 'selam de.jpeg',\n",
       " 'sürpriz parti.jpg',\n",
       " 'onur listesi.jpg',\n",
       " 'dans değil.jpg',\n",
       " 'taksi limuzin.jpg',\n",
       " 'şampiyonluk maçı.jpg',\n",
       " 'şef ajan.jpg',\n",
       " 'ben de dahil 2.jpg',\n",
       " 'ben profesör.png',\n",
       " 'bu adam.jpg',\n",
       " 'banka numarası.jpg',\n",
       " 'doktora komitesi.jpg',\n",
       " 'daha basit.jpg',\n",
       " 'ekip listesi.jpg',\n",
       " 'hayır baba.jpg',\n",
       " 'daha net.jpg',\n",
       " 'avukat asistanı.jpg',\n",
       " 'taksi şöforü.jpg',\n",
       " 'arkeoloji profesörü.jpg',\n",
       " 'devir beni.jpg',\n",
       " 'onu asla.jpeg',\n",
       " 'bankanın şefi.jpg',\n",
       " 'aktif değil.jpg',\n",
       " 'ders için 1.jpg',\n",
       " 'hediye mi.jpg',\n",
       " 'ihtiyacım var 2.jpg',\n",
       " 'kasabadan nefret.jpeg',\n",
       " 'polis operasyonu.jpg',\n",
       " 'avokado kadar.jpg',\n",
       " 'o bebek.jpg',\n",
       " 'otel telefonu.jpg',\n",
       " 'beni tehdit.jpg',\n",
       " 'net değil.jpg',\n",
       " 'daha temiz.jpg',\n",
       " 'problem değil.jpg',\n",
       " 'profesyonel hokey.jpg',\n",
       " 'tabii ama.jpeg',\n",
       " 'şans mı.jpg',\n",
       " 'ne haber 3.jpg',\n",
       " 'orjinal sinyal.jpg',\n",
       " 'romantik restoran.jpg',\n",
       " 'bunu montajla.jpg',\n",
       " 'bu müzik.jpg',\n",
       " 'psikoloji profesörü.jpg',\n",
       " 'şifre ne.jpg',\n",
       " 'çok fazla.jpg',\n",
       " 'bunu asla.jpg',\n",
       " 'bu tren.jpg',\n",
       " 'fotoğraf da.jpg',\n",
       " 'şok terapisi.jpg',\n",
       " 'hayır asla.jpg',\n",
       " 'şok video.jpg',\n",
       " 'fizik profesörü.jpg',\n",
       " 'galiba ben.jpg',\n",
       " 'o adam.jpeg',\n",
       " 'test programı.jpg',\n",
       " 'onu tamir.jpeg',\n",
       " 'seni embesil.jpg',\n",
       " 'okula kadar.jpg',\n",
       " 'psikopat manyak.jpg',\n",
       " 'otelin restoranı.jpg',\n",
       " 'zaman var.jpeg',\n",
       " 'doktorun telefonu.jpg',\n",
       " 'enzimleri normal.jpg',\n",
       " 'devir onu.jpg',\n",
       " 'komik ama.jpg',\n",
       " 'basit fikir.jpeg',\n",
       " 'paket pizza.jpg',\n",
       " 'metre küp.jpg',\n",
       " 'ders için 2.jpg',\n",
       " 'şeker fabrikası.jpg',\n",
       " 'zavallı şey.jpeg',\n",
       " 'patates de.jpg',\n",
       " 'park bileti.jpeg',\n",
       " 'bu numara.jpg',\n",
       " 'supriz paketi.jpg',\n",
       " 'doktor randevum.jpg',\n",
       " 'kablolu televizyon.jpg',\n",
       " 'benzin tankları.jpg',\n",
       " 'amatör radyo.jpg',\n",
       " 'ama elbette.jpg',\n",
       " 'motoru kontrol.jpg',\n",
       " 'ne zaman 1.jpg',\n",
       " 'bana ait.jpg',\n",
       " 'fikrim var 2.jpg',\n",
       " 'çikolatalı pasta.jpg',\n",
       " 'telefon listesi.jpg',\n",
       " 'kilo somon.jpg',\n",
       " 'ne tuhaf.jpeg',\n",
       " 'sürpriz atak.jpg',\n",
       " 'o adam 3.jfif',\n",
       " 'televizyon ekranı.jpg',\n",
       " 'o kaptan.jpg',\n",
       " 'kamp sezonu.jpg',\n",
       " 'fiziksel test.jpg',\n",
       " 'video mesajı.jpg',\n",
       " 'çok kitap 3.jpg',\n",
       " 'şerifin ofisi.jpeg',\n",
       " 'bebek de.jpg',\n",
       " 'zerre kadar.jpeg',\n",
       " 'otelin barı.jpg',\n",
       " 'bebek penguenler.jpg',\n",
       " 'normal gibi.jpg',\n",
       " 'ders için 3.jpg',\n",
       " 'şerifin üniforması.png',\n",
       " 'merhaba ben 2.jpg',\n",
       " 'dijital kamera.jpg',\n",
       " 'kremalı kahve.jpg',\n",
       " 'psikopat tipi.jpg',\n",
       " 'artist şey.jpg',\n",
       " 'bir adet 1.jpg',\n",
       " 'posta ofisi.jpg',\n",
       " 'motor fabrikası.jpg',\n",
       " 'pudra şekeri.jpg',\n",
       " 'manyak film.jpg',\n",
       " 'bomba gibi.jpg',\n",
       " 'haberlerim var 1.jpg',\n",
       " 'üniversite diploması.jpg',\n",
       " 'konser bileti.jpg',\n",
       " 'doktorun numarası.jpg',\n",
       " 'bebek mi.jpg',\n",
       " 'maç bileti.jpg',\n",
       " 'vampir antijeni.jpg',\n",
       " 'bu telefon.jpg',\n",
       " 'elbette hayır.jpg',\n",
       " 'benim için 3.jpg',\n",
       " 'matematik profesörü.jpg',\n",
       " 'bunu deşifre.jpg',\n",
       " 'elektrik sinyalleri.jpg',\n",
       " 'alkol testi.jpg',\n",
       " 'avukatın numarası.jpg',\n",
       " 'ben kaptan.jpg',\n",
       " 'metrekare.jpg',\n",
       " 'fotoğraf ofisi.jpg',\n",
       " 'sen profesörsün.jpg',\n",
       " 'sürpriz bebek.jpg',\n",
       " 'komiik tipi.jpg',\n",
       " 'video sistemi.jpg',\n",
       " 'problem var.jpg',\n",
       " 'enerji santrali.jpg',\n",
       " 'bira mı.jpg',\n",
       " 'o adam 2.jpg',\n",
       " 'ben doktor.jpg',\n",
       " 'diskoda dans.jpg',\n",
       " 'sinema sistemi.jpg',\n",
       " 'polis tipli.jpg',\n",
       " 'bir telefon.jpg',\n",
       " 'daha bebek.jpg',\n",
       " 'berber randevum.jpg',\n",
       " 'otelin telefonu.jpg',\n",
       " 'psikolojik problemler.jpg',\n",
       " 'alerjik şok.jpg',\n",
       " 'şef de.jpg',\n",
       " 'kahve çikolata.jpg',\n",
       " 'zaten tamam.jpeg',\n",
       " 'süper model.jpg',\n",
       " 'onur komitesi.jpg',\n",
       " 'prenses kostümü.jpg',\n",
       " 'ajan rolü.jpg',\n",
       " 'balistik raporu.jpg',\n",
       " 'matematik problemi.jpg',\n",
       " 'çok kalabalık 3.jpg',\n",
       " 'aynı ben.jpg',\n",
       " 'ne sürpriz.jpg',\n",
       " 'kilometre kare.jpg',\n",
       " 'radyo programı.jpg',\n",
       " 'bir kere.jpg',\n",
       " 'sigara mı.jpg',\n",
       " 'operasyon ekipmanı.jpg',\n",
       " 'entellektüel tipler.jpg',\n",
       " 've motor.jpg',\n",
       " 'bir ahbap 2.jpg',\n",
       " 'çok leziz.jpg',\n",
       " 'şifreli mesaj.jpg',\n",
       " 'grup aktivitesi.jpg',\n",
       " 'prenses kalesi.jpg',\n",
       " 'süper bebek.jpg',\n",
       " 'şerifin bürosu.jpg',\n",
       " 'sezon finali.jpg',\n",
       " 'tansiyonu normale.jpg',\n",
       " 'test negatif.jpg',\n",
       " 'hayvan kadar.jpg',\n",
       " 'stratejik planlama.jpg',\n",
       " 'bu fotoğraf.jpg',\n",
       " 'polis tipli (1).jpg',\n",
       " 'medya patronu.jpg',\n",
       " 'evet bebek.jpg',\n",
       " 'nabız var.png',\n",
       " 'espresso makinesi.jpg',\n",
       " 'kriz riski.jpg',\n",
       " 'telefon bana.jpg',\n",
       " 'ama profesör.jpg',\n",
       " 'kilo metre.jpg',\n",
       " 'amerikan futbolu.jpg',\n",
       " 'kilometrelik tünel.jpg',\n",
       " 'motorlu kurye.webp',\n",
       " 'finansal planlar.jpg',\n",
       " 'karavan kadar.jpg',\n",
       " 'manyak grup.jpg',\n",
       " 'sondaj makinesi.jpeg',\n",
       " 'evet normal.jpg',\n",
       " 'bana lazım.jpg',\n",
       " 'takım otobüsü.jpg',\n",
       " 'fonksiyonlar normal.jpg',\n",
       " 'vagon numarası.jpg',\n",
       " 'ekspres tren.jpg',\n",
       " 'pizza paketi.jpg',\n",
       " 'bunu kabul.jpg',\n",
       " 'fiziksel reaksiyon.jpg',\n",
       " 've profesör.jpg',\n",
       " 'merhaba ben 1.jpg',\n",
       " 'beni analiz.jpg',\n",
       " 'romantik not.jpg',\n",
       " 'estetik operasyonlar.jpg',\n",
       " 'evet süper.jpg',\n",
       " 'profesör de.jpg',\n",
       " 'sen şefsin.jpg',\n",
       " 'okul projesi.jpg',\n",
       " 'bir ahbap 1.jpg',\n",
       " 'sen babasın.jpg',\n",
       " 'filtreli sigara.jpg',\n",
       " 'tipik şey.jpg',\n",
       " 'süper ajan.jpg',\n",
       " 've patates.jpg',\n",
       " 'kaza mı.jpg',\n",
       " 'intikam yemini.jpeg',\n",
       " 'evet tamam.jpg',\n",
       " 'profesyonal boks.jpg',\n",
       " 'komik roller.jpg',\n",
       " 've kahve.jpg',\n",
       " 'sosyalist parti.jpg',\n",
       " 'bu arazi 3.jpg',\n",
       " 'otobüs turu.jpg',\n",
       " 'eminim tabii.jpeg',\n",
       " 'beni anons.jpg',\n",
       " 'benim için 2.jpg',\n",
       " 'kalem lazım.jpeg',\n",
       " 'vize problemi.jpg',\n",
       " 've çikolata.jpg',\n",
       " 'grup şeması.jpg',\n",
       " 'orijinal plan.jpg',\n",
       " 'elveda de.jpg',\n",
       " 've şeker.jpg',\n",
       " 'bebek için.jpg',\n",
       " 'daha kaliteli.jpg',\n",
       " 'spor federasyonu.jpg',\n",
       " 'rol modeli.jpg',\n",
       " 'bir dolar.jpg',\n",
       " 'çok şeker.jpg',\n",
       " 'çikolata fabrikası.jpg',\n",
       " 'grup dansı.jpg',\n",
       " 'polis mi.jpg',\n",
       " 'kahve sigara.jpg',\n",
       " 'grup şeması.jpg',\n",
       " 'romantik müzik.jpg',\n",
       " 'kontrol sistemi.webp',\n",
       " 'sistemler normal.jpg',\n",
       " 'bir adam 3.jpg',\n",
       " 'psikolojik mesaj.jpg',\n",
       " 'plan ne.jpg',\n",
       " 'şans değil.jpg',\n",
       " 'metal plaka.jpg',\n",
       " 'narkotik ajanı.jpg',\n",
       " 'evet general.jpg',\n",
       " 'senaryo notları.jpg',\n",
       " 'evet şerif.jpg',\n",
       " 'paket şekerleme.jpg',\n",
       " 'spor mağazası.jpeg',\n",
       " 'kovboy filmi.jpg',\n",
       " 'komik mesaj.jpg',\n",
       " 'çok hafif.jpg',\n",
       " 'sistem kontrolü.jpg',\n",
       " 'fikrim var 1.jpg',\n",
       " 'genetik profesörü.jpg',\n",
       " 'peri prensesi.jpg',\n",
       " 'mikroskopik robotlar.jpg',\n",
       " 'çikolata mı.jpg',\n",
       " 'o bina 1.jpg',\n",
       " 'beni şok.jpg',\n",
       " 'bebek var.jpg',\n",
       " 'romantik atmosfer.jpg',\n",
       " 'komik tipler.jpg',\n",
       " 'çok pardon.jpg',\n",
       " 'radyo frekansı.jpg',\n",
       " 'banka kasası.jpg',\n",
       " 'telefonla randevu.jpg',\n",
       " 'avukatlar ofisi.jpg',\n",
       " 'o kitap 2.jpg',\n",
       " 'motor da.jpg',\n",
       " 'bomba aktif.jpg',\n",
       " 'polis raporu.jpg',\n",
       " 'telefon gibi.png',\n",
       " 'futbol antrenmanı.jpg',\n",
       " 'entelektüel tipler.jpg',\n",
       " 'bu insanlar 1.jpg',\n",
       " 'elektrik motorları.jpg',\n",
       " 'trafik polisi.jpg',\n",
       " 'pijama partisi.jpg',\n",
       " 'manyak avukat.jpg',\n",
       " 'seni barbar.jpg',\n",
       " 'zaman lazım.jpeg',\n",
       " 'majesteleri prenses.jpg',\n",
       " 'hazır mı.jpg',\n",
       " 'garip mi.jpg',\n",
       " 'sen patronsun.jpg',\n",
       " 'senin için 2.jpg',\n",
       " 'hayat basit.jpeg',\n",
       " 'alo polis.jpg',\n",
       " 'tur programı.jpg',\n",
       " 'kilo patates.jpg',\n",
       " 'evet baba.jpg',\n",
       " 've dans.jpg',\n",
       " 'ne şans.png',\n",
       " 'polis yok.png',\n",
       " 'çikolata sürprizi.jpg',\n",
       " 'bir dakika.jpg',\n",
       " 'rutin kontrol.jpg',\n",
       " 'senin için 1.jpg',\n",
       " 'nöbetçiler dikkat.jpeg',\n",
       " 'direkt bana.jpg',\n",
       " 'mafya patronu.jpg',\n",
       " 'kazadan beri.jpeg',\n",
       " 'final maçı.jpg',\n",
       " 'turist otobüsü.jpg',\n",
       " 'çikolata mı (1).jpg',\n",
       " 'sperm bankası.jpg',\n",
       " 'doktorun ofisi.jpg',\n",
       " 've kayıt.jpeg',\n",
       " 'sıfır saniyede.jpeg',\n",
       " 'ben şerif.jpg',\n",
       " 'onu rapor.jpg',\n",
       " 'vampir rolü.jpg',\n",
       " 'spor istatistikleri.jpg',\n",
       " 'beyzbol sezonu.jpg',\n",
       " 'polis gibi.jpg',\n",
       " 'fikrim var 3.jpg',\n",
       " 'bihassa onu.jpg',\n",
       " 'alo otel.jpg',\n",
       " 'müsait değil.jpeg',\n",
       " 've müzik.jpg',\n",
       " 'ben de dahil 3.jpg',\n",
       " 'vay süper.jpg',\n",
       " 'ne kadar.jpeg',\n",
       " 'avukat da.jpg',\n",
       " 'saniye tamam.jpeg',\n",
       " 'telefonun şarjı.png',\n",
       " 'pantolon da.jpg',\n",
       " 'kilo nektar.jpg',\n",
       " 'çok süper.jpg',\n",
       " 'labaratuvar notları.jpg',\n",
       " 'dünya kadar.jpg',\n",
       " 'hayır mösyö.jpg',\n",
       " 'ne zamandır 2.jpg',\n",
       " 'bu insanlar 2.jpg',\n",
       " 'bana muhtaç.jpg',\n",
       " 'elektrik problemi.jpg',\n",
       " 'şövalye prenses.png',\n",
       " 'film banyosu.jpg',\n",
       " 'manyak numara.jpg',\n",
       " 'taksinin bagajı.jpg',\n",
       " 'sen manyaksın (1).jpg',\n",
       " 'motorlar stop.jpg',\n",
       " 'grup terapi.jpg',\n",
       " 'makineleri kontrol.jpg',\n",
       " 'alarm şifresi.jpg',\n",
       " 'elektrik santrali.jpg',\n",
       " 'gaz bombası.jpg',\n",
       " 'çikolatlı puding.jpg',\n",
       " 'labirent gibi.jpg',\n",
       " 'ben hallederim 3.jpg',\n",
       " 'lanet şey.jpg',\n",
       " 'sen manyaksın.jpg',\n",
       " 'problem yok.jpg',\n",
       " 'seni budala.jpg',\n",
       " 'grup fotoğrafı.jpg',\n",
       " 'posta kodu.jpg',\n",
       " 'çikolatalı bana.jpg',\n",
       " 'alerjik şok.jpg',\n",
       " 'posta servisi.jpg',\n",
       " 'tren rayı.jpg',\n",
       " 'o kitap 3.jpg',\n",
       " 'prensin prensesi.jpg',\n",
       " 'mesaj servisi.jpeg',\n",
       " 'siber ajan.jpg',\n",
       " 'bu doktor.jpg',\n",
       " 'doktora akademik.jpg',\n",
       " 'treni kontrol.jpg',\n",
       " 'gaz maskesi.jpg',\n",
       " 'daha romantik.jpg',\n",
       " 'vampir filmi.jpg',\n",
       " 'senatörün kampanyası.jpg',\n",
       " 'okul için.jpg',\n",
       " 'telefon var.jpg',\n",
       " 'çok rahat.jpg',\n",
       " 'evet patron.jpg',\n",
       " 'normal mi.jpg',\n",
       " 'şerifin fotoğrafı.jpeg',\n",
       " 'senatörün kampanyası.jpg',\n",
       " 'genel karantina.jpg',\n",
       " 'otobüs bileti.jpg',\n",
       " 'kahve yok.jpg',\n",
       " 'enfeksiyon riski.jpg',\n",
       " 'çok komik.jpg',\n",
       " 'beyzbol takımı.jpg',\n",
       " 'bu taraf.jpg',\n",
       " 'ben baba.jpg',\n",
       " 'film mi.jpg',\n",
       " 'bana şeker.jpg',\n",
       " 'paralel park.jpg',\n",
       " 'dans partisi.jpg',\n",
       " 'cevap yok.jpg',\n",
       " 'hayır profesör.jpg',\n",
       " 'ihtiyacım var 3.jpg',\n",
       " 'bu film.jpg',\n",
       " 'akademik doktora.jpg',\n",
       " 'onu şarj.jpg',\n",
       " 'daha normal.jpg',\n",
       " 'rozet numarası.jpg',\n",
       " 'otelin numarası.jpg',\n",
       " 'nükleer reaksiyon.jpg',\n",
       " 'şerifin ofisi.jpg',\n",
       " 'çok elbise 2.jpg',\n",
       " 'evet doktor.jpg',\n",
       " 've tekrar.png',\n",
       " 'bebek gibi.jpg',\n",
       " 'melek gibi.jpeg',\n",
       " 'ne zaman 2.jpg',\n",
       " 'banyo küveti.jpg',\n",
       " 'zaman yok.jpeg',\n",
       " 'sen çakalsın.jpg',\n",
       " 'banka kredisi.jpg',\n",
       " 'şerif üniforması.jpg',\n",
       " 'ihtiyacım var 1.jpg',\n",
       " 'personel şefi.jpg',\n",
       " 'paket çikolata.jpg',\n",
       " 'bir kahve.jpg',\n",
       " 'klasik taksi.jpg',\n",
       " 'elektrik faturası.jpg',\n",
       " 'o normal.jpg',\n",
       " 'vay şanslı.jpg',\n",
       " 'hayır şef.jpg',\n",
       " 'şampiyon.jpg',\n",
       " 'mobil ekip.jpg',\n",
       " 'telefon sinyali.jpg',\n",
       " 'seni ahmak.png',\n",
       " 'trafik raporu.jpg',\n",
       " 'pasta kreması.jpg',\n",
       " 'elbette ben.jpg',\n",
       " 'süper robot.jpg',\n",
       " 'patronun bürosu.jpg',\n",
       " 'ajan filmleri.jpg',\n",
       " 'vampir rolü.jpg',\n",
       " 'şans küpü.jpg',\n",
       " 'manyak şey.jpg',\n",
       " 'radyo mesajı.jpg',\n",
       " 'bebek yok.jpg',\n",
       " 'sistem alarmı.jpg',\n",
       " 'pasta mı.jpg',\n",
       " 'şifreli notlar.jpg',\n",
       " 'planlama şefi.jpg',\n",
       " 'avukatlık bürosu.jpg',\n",
       " 'şans kolyesi.jpg',\n",
       " 'pardon da.jpg',\n",
       " 'sezon şampiyonu.jpg',\n",
       " 'bu komik.jpg',\n",
       " 'seni hipnotize.jpg',\n",
       " 'bravo bana.jpg',\n",
       " 'bir adam 1.jpg',\n",
       " 'onu kamufle.jpg',\n",
       " 'prenses de.jpg',\n",
       " 'futbol stadyumu.jpg',\n",
       " 'kafeinsiz kahve.jpg',\n",
       " 'hatayı telafi.jpeg',\n",
       " 'maalesef hayır.jpg',\n",
       " 'çok enteresan.jpg',\n",
       " 'kremalı pasta.jpg',\n",
       " 'üniversite profesörü.jpg',\n",
       " 'ne zaman.jpeg',\n",
       " 'tarihten nefret.png',\n",
       " 'tam değil.jpeg',\n",
       " 'plaza otel.jpg',\n",
       " 'o müzik.jpg',\n",
       " 'avukatlık firması.jpg',\n",
       " 'hayır şerif.jpg',\n",
       " 'seni adi.png',\n",
       " 'onu aktive.jpg',\n",
       " 'dolar riski.jpg',\n",
       " 'park servisi.jpg',\n",
       " 'banka çeki.jpg',\n",
       " 'bir adam.jpg',\n",
       " 'şans perisi.jpg',\n",
       " 'ne haber 2.jpg',\n",
       " 'metal detektörü.jpg',\n",
       " 'ama polis.jpg',\n",
       " 'evet ahbap.jpg',\n",
       " 'sigara reklamı.jpeg',\n",
       " 'matematik problemleri.jpg',\n",
       " 'o mükemmel.jpeg',\n",
       " 'makine gibi.jpg',\n",
       " 'hokey sezonu.jpg',\n",
       " 'telesekretere not.jpeg',\n",
       " 'onu kontrol.jpg',\n",
       " 'park fişi.jpeg',\n",
       " 'adalet için.jpg',\n",
       " 'bu insanlar 3.jpg',\n",
       " 'o hazır.jpeg',\n",
       " 'bu adam 3.jpg',\n",
       " 'telefon santrali.jpg',\n",
       " 'evet şef.jpg',\n",
       " 'polis var.jpg',\n",
       " 'ben general.jpg',\n",
       " 'bu polis.jpg',\n",
       " 'salamlı pizza.jpg',\n",
       " 'pasta şefi.jpg',\n",
       " 'daha sakin.jpg',\n",
       " 'film gibi.jpg',\n",
       " 'fiziksel reaksiyon (1).jpg',\n",
       " 'bir adam 2.jpg',\n",
       " 'hayır doktor.jpg',\n",
       " 'ben hallederim 1.jpg',\n",
       " 'romantik şey.jpg',\n",
       " 'şaka mı.jpeg',\n",
       " 'beni afişe.jpg',\n",
       " 'teknik direktör.jpg',\n",
       " 'parti mi.jpg',\n",
       " 'komik mi.jpg',\n",
       " 'tuhaf şey.jpeg',\n",
       " 'garaja park.jpg',\n",
       " 'genel direktör.jpg',\n",
       " 'telefon mesajları.jpg',\n",
       " 'mesaj panosu.jpg',\n",
       " 'mobil telefon.jpg',\n",
       " 'şifreli not.jpg',\n",
       " 'park metre.jpg',\n",
       " 'kaptan kontrol.jpg',\n",
       " 'hareket var.jpg',\n",
       " 'süper dansçı.jpg',\n",
       " 'enteresan süpriz.jpg',\n",
       " 'anormal şey.jpg',\n",
       " 'hata yok.jpg',\n",
       " 'pardon ama.jpg',\n",
       " 'bebek süper.jpg',\n",
       " 'masaj randevum.jpg']"
      ]
     },
     "execution_count": 132,
     "metadata": {},
     "output_type": "execute_result"
    }
   ],
   "source": [
    "file_list = os.listdir(image_file_path)\n",
    "file_list"
   ]
  },
  {
   "cell_type": "code",
   "execution_count": 133,
   "metadata": {},
   "outputs": [],
   "source": [
    "file_list2 = []\n",
    "for file in file_list:\n",
    "    file_new = file.strip()\n",
    "    file_new2 = str(file_new)\n",
    "    file_list2.append(file_new2)"
   ]
  },
  {
   "cell_type": "code",
   "execution_count": 134,
   "metadata": {},
   "outputs": [],
   "source": [
    "for file in file_list2:\n",
    "    # file and extention\n",
    "    file_without_ext = os.path.splitext(file)[0]\n",
    "    file_ext = os.path.splitext(file)[1]\n",
    "    # file clean and join\n",
    "    file_without_ext_clean = clean_text(file_without_ext, custom_alp)\n",
    "    word_list = word_tokenize(file_without_ext_clean)\n",
    "    file_without_ext_new = \" \".join(word_list)\n",
    "    file_new = f\"{file_without_ext_new.lower()}{file_ext}\"\n",
    "    # check move rename delete\n",
    "    if isfile(f\"{image_file_path_new}/{file_new}\"):\n",
    "        pass\n",
    "    else:\n",
    "        source_file = f\"{image_file_path}/{file}\"\n",
    "        destination_path = f\"{image_file_path_new}\"        \n",
    "        shutil.copy2(source_file, destination_path)\n",
    "        os.remove(source_file)\n",
    "        source_dest_file = f\"{destination_path}/{file}\"\n",
    "        target_dest_file = f\"{destination_path}/{file_new}\"\n",
    "        os.rename(source_dest_file, target_dest_file)\n",
    "\n",
    "\n",
    "\n",
    "#dest_rename = f\"{image_file_path_new}/{file}{file_ext}\"\n",
    "#    source = f\"{image_file_path}/{file}\"\n",
    "#    dest = f\"{image_file_path}/{file}{file_ext}\"\n",
    "#    if isfile(dest):\n",
    "#        pass\n",
    "#    else:\n",
    "#        os.rename(source, dest)"
   ]
  },
  {
   "cell_type": "code",
   "execution_count": null,
   "metadata": {},
   "outputs": [],
   "source": []
  },
  {
   "cell_type": "code",
   "execution_count": 144,
   "metadata": {},
   "outputs": [
    {
     "data": {
      "text/plain": [
       "'kahve için (2)'"
      ]
     },
     "execution_count": 144,
     "metadata": {},
     "output_type": "execute_result"
    }
   ],
   "source": [
    "file_without_ext = os.path.splitext(file_list[28])[0]\n",
    "file_without_ext"
   ]
  },
  {
   "cell_type": "code",
   "execution_count": 145,
   "metadata": {},
   "outputs": [
    {
     "data": {
      "text/plain": [
       "'kahve ic in'"
      ]
     },
     "execution_count": 145,
     "metadata": {},
     "output_type": "execute_result"
    }
   ],
   "source": [
    "file_without_ext_clean = clean_text(file_without_ext, custom_alp)\n",
    "file_without_ext_clean"
   ]
  },
  {
   "cell_type": "code",
   "execution_count": 146,
   "metadata": {},
   "outputs": [
    {
     "data": {
      "text/plain": [
       "['kahve', 'ic', 'in']"
      ]
     },
     "execution_count": 146,
     "metadata": {},
     "output_type": "execute_result"
    }
   ],
   "source": [
    "word_list = word_tokenize(file_without_ext_clean)\n",
    "word_list  "
   ]
  },
  {
   "cell_type": "code",
   "execution_count": null,
   "metadata": {},
   "outputs": [],
   "source": [
    "file_without_ext_new = \" \".join(word_list)"
   ]
  },
  {
   "cell_type": "code",
   "execution_count": null,
   "metadata": {},
   "outputs": [],
   "source": []
  },
  {
   "cell_type": "code",
   "execution_count": null,
   "metadata": {},
   "outputs": [],
   "source": []
  },
  {
   "cell_type": "code",
   "execution_count": 32,
   "metadata": {},
   "outputs": [
    {
     "data": {
      "text/plain": [
       "'kahve için (2)'"
      ]
     },
     "execution_count": 32,
     "metadata": {},
     "output_type": "execute_result"
    }
   ],
   "source": [
    "text1 = os.path.splitext(file_list[28])[0].encode(\"utf8\").decode()\n",
    "text1"
   ]
  },
  {
   "cell_type": "code",
   "execution_count": null,
   "metadata": {},
   "outputs": [],
   "source": []
  },
  {
   "cell_type": "code",
   "execution_count": 33,
   "metadata": {},
   "outputs": [
    {
     "data": {
      "text/plain": [
       "['kahve', 'ic', 'in']"
      ]
     },
     "execution_count": 33,
     "metadata": {},
     "output_type": "execute_result"
    }
   ],
   "source": [
    "text_clean = re.findall(custom_alp, str(text1))\n",
    "text_clean"
   ]
  },
  {
   "cell_type": "code",
   "execution_count": 31,
   "metadata": {},
   "outputs": [],
   "source": [
    "text_result = \" \".join(text_clean)"
   ]
  },
  {
   "cell_type": "code",
   "execution_count": 29,
   "metadata": {},
   "outputs": [
    {
     "data": {
      "text/plain": [
       "'.jpg'"
      ]
     },
     "execution_count": 29,
     "metadata": {},
     "output_type": "execute_result"
    }
   ],
   "source": [
    "os.path.splitext(file_list[7])[1]"
   ]
  },
  {
   "cell_type": "code",
   "execution_count": 107,
   "metadata": {},
   "outputs": [],
   "source": [
    "txt = \"My name is Ståle\""
   ]
  },
  {
   "cell_type": "code",
   "execution_count": 108,
   "metadata": {},
   "outputs": [],
   "source": [
    "x = txt.encode()"
   ]
  },
  {
   "cell_type": "code",
   "execution_count": 109,
   "metadata": {},
   "outputs": [
    {
     "name": "stdout",
     "output_type": "stream",
     "text": [
      "b'My name is St\\xc3\\xa5le'\n"
     ]
    }
   ],
   "source": [
    "print(x)"
   ]
  },
  {
   "cell_type": "code",
   "execution_count": 110,
   "metadata": {},
   "outputs": [],
   "source": [
    "txt = \"My name is Ståle\""
   ]
  },
  {
   "cell_type": "code",
   "execution_count": 111,
   "metadata": {},
   "outputs": [
    {
     "name": "stdout",
     "output_type": "stream",
     "text": [
      "b'My name is St\\\\xe5le'\n",
      "b'My name is Stle'\n",
      "b'My name is St\\\\N{LATIN SMALL LETTER A WITH RING ABOVE}le'\n",
      "b'My name is St?le'\n",
      "b'My name is St&#229;le'\n"
     ]
    }
   ],
   "source": [
    "print(txt.encode(encoding=\"ascii\",errors=\"backslashreplace\"))\n",
    "print(txt.encode(encoding=\"ascii\",errors=\"ignore\"))\n",
    "print(txt.encode(encoding=\"ascii\",errors=\"namereplace\"))\n",
    "print(txt.encode(encoding=\"ascii\",errors=\"replace\"))\n",
    "print(txt.encode(encoding=\"ascii\",errors=\"xmlcharrefreplace\"))"
   ]
  },
  {
   "cell_type": "code",
   "execution_count": null,
   "metadata": {},
   "outputs": [],
   "source": []
  }
 ],
 "metadata": {
  "kernelspec": {
   "display_name": "Python 3.9.0 64-bit",
   "language": "python",
   "name": "python3"
  },
  "language_info": {
   "codemirror_mode": {
    "name": "ipython",
    "version": 3
   },
   "file_extension": ".py",
   "mimetype": "text/x-python",
   "name": "python",
   "nbconvert_exporter": "python",
   "pygments_lexer": "ipython3",
   "version": "3.9.0"
  },
  "vscode": {
   "interpreter": {
    "hash": "f42fef0e501d15e7ffc29462fb079408e9033a09ba77cf75c7f739a9f9db1301"
   }
  }
 },
 "nbformat": 4,
 "nbformat_minor": 2
}
