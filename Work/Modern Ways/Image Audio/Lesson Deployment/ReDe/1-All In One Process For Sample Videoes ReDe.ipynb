{
 "cells": [
  {
   "cell_type": "markdown",
   "metadata": {},
   "source": [
    "### All In One Process For Sample Videoes"
   ]
  },
  {
   "cell_type": "code",
   "execution_count": 1,
   "metadata": {},
   "outputs": [],
   "source": [
    "import os\n",
    "import sys\n",
    "import numpy as np\n",
    "import pandas as pd\n",
    "from gtts import gTTS\n",
    "#from playsound import playsound\n",
    "from moviepy.editor import VideoFileClip, concatenate_videoclips, AudioFileClip, concatenate_audioclips,CompositeVideoClip, CompositeAudioClip\n",
    "import pandas as pd\n",
    "import nltk\n",
    "from nltk import word_tokenize\n",
    "from pathlib import Path\n",
    "import shutil\n",
    "from os.path import isfile, join\n",
    "import time\n",
    "import cv2"
   ]
  },
  {
   "cell_type": "markdown",
   "metadata": {},
   "source": [
    "#### Adjust Image File Convert Video And Concat "
   ]
  },
  {
   "cell_type": "code",
   "execution_count": 2,
   "metadata": {},
   "outputs": [
    {
     "name": "stdout",
     "output_type": "stream",
     "text": [
      "Turkish\n",
      "tr\n",
      "French\n",
      "fr\n"
     ]
    }
   ],
   "source": [
    "# language pair\n",
    "lang_folder = \"Turkish\"  # Arabic, English, French, German, Turkish, Spanish, Portuguese, Dutch, Italian ==> target language for learner\n",
    "lang_pair = \"French\"  # Arabic, English, French, German, Turkish, Spanish, Portuguese, Dutch, Italian ==> native language\n",
    "\n",
    "#filename_length_num = 5\n",
    "\n",
    "# lang\n",
    "if lang_folder == \"English\":\n",
    "    lang = 'en'\n",
    "elif lang_folder == \"Turkish\":\n",
    "    lang = 'tr'\n",
    "elif lang_folder == \"German\":\n",
    "    lang = 'de'\n",
    "elif lang_folder == \"French\":\n",
    "    lang = 'fr'\n",
    "elif lang_folder == \"Spanish\":\n",
    "    lang = 'es'\n",
    "elif lang_folder == \"Arabic\":\n",
    "    lang = 'ar'\n",
    "elif lang_folder == \"Portuguese\":\n",
    "    lang = 'pt'\n",
    "elif lang_folder == \"Dutch\":\n",
    "    lang = 'nl'\n",
    "elif lang_folder == \"Italian\":\n",
    "    lang = 'it'\n",
    "else:\n",
    "    pass\n",
    "\n",
    "# lang pair\n",
    "if lang_pair == \"English\":\n",
    "    lang2 = 'en'\n",
    "elif lang_pair == \"Turkish\":\n",
    "    lang2 = 'tr'\n",
    "elif lang_pair == \"German\":\n",
    "    lang2 = 'de'\n",
    "elif lang_pair == \"French\":\n",
    "    lang2 = 'fr'\n",
    "elif lang_pair == \"Spanish\":\n",
    "    lang2 = 'es'\n",
    "elif lang_pair == \"Arabic\":\n",
    "    lang2 = 'ar'\n",
    "elif lang_pair == \"Portuguese\":\n",
    "    lang2 = 'pt'\n",
    "elif lang_pair == \"Dutch\":\n",
    "    lang2 = 'nl'\n",
    "elif lang_pair == \"Italian\":\n",
    "    lang2 = 'it'\n",
    "else:\n",
    "    pass\n",
    "\n",
    "print(f\"{lang_folder}\\n{lang}\\n{lang_pair}\\n{lang2}\") "
   ]
  },
  {
   "cell_type": "code",
   "execution_count": 3,
   "metadata": {},
   "outputs": [],
   "source": [
    "# Data path and folder\n",
    "image_data_path = f\"/home/kurubal/Documents/Modern Ways/Project/{lang_folder.capitalize()}/Image Audio Video/Data/28 Words\"\n",
    "audio_delay_path_and_file = f\"/home/kurubal/Documents/Modern Ways/Project/{lang_folder.capitalize()}/Image Audio Video/Data/Audio_Delay/delay_audio.wav\""
   ]
  },
  {
   "cell_type": "code",
   "execution_count": 4,
   "metadata": {},
   "outputs": [],
   "source": [
    "# Original\n",
    "def text_convert_to_audio_same(filename_list, out_folder_name, out_path, language=\"en\", speech_slow=True, delay_time = 0.5, delay_point = \"both\"):\n",
    "    ''' \n",
    "    text_convert_to_audio_same(word_group, out_folder_name, out_path, filename, language=\"en\", speech_slow=True, delay_time = 0.5, delay_point = \"both\")\\n\n",
    "    word_group is a string values. out_folder_name and out_path are path and folder name in str, filename is output result filename\\n\n",
    "    delay_time is in second and add delay to gttS audio result. delay point used for delay start, end or both\\n \n",
    "    ex:\\n\n",
    "    path = f\"/media/kurubal/SSD/Data Scientist/Data Science/Data-Scientist/Work/Modern Ways/Image Audio/Product\"\\n\n",
    "    text_convert_to_audio(word_select_list, \"Text_Audio\", path, language=lang)\n",
    "    '''\n",
    "    result_path = f\"{out_path}/{out_folder_name}\"\n",
    "    result_path2 = f\"{out_path}/Text_Audio\"\n",
    "    Path(result_path).mkdir(parents=True, exist_ok=True)\n",
    "    Path(result_path2).mkdir(parents=True, exist_ok=True)\n",
    "    audio_delay = AudioFileClip(audio_delay_path_and_file).subclip(1,1+delay_time)\n",
    "    for filename in filename_list:\n",
    "        if isfile(f\"{result_path2}/{filename}.mp3\"):\n",
    "            pass\n",
    "        else:\n",
    "            text_audio = gTTS(text=filename, lang=language, slow=speech_slow)\n",
    "            text_audio.save(f\"{result_path2}/{filename}.mp3\")\n",
    "            time.sleep(0.2)\n",
    "\n",
    "        if isfile(f\"{result_path}/{filename}.mp3\"):\n",
    "            pass\n",
    "        else:\n",
    "            text_audio2 = AudioFileClip(f\"{result_path2}/{filename}.mp3\")\n",
    "            try:        \n",
    "                if delay_point == \"both\":\n",
    "                    audio_combined = concatenate_audioclips([audio_delay,text_audio2,audio_delay])\n",
    "                elif delay_point == \"start\":\n",
    "                    audio_combined = concatenate_audioclips([audio_delay,text_audio2])\n",
    "                elif delay_point == \"end\":\n",
    "                    audio_combined = concatenate_audioclips([text_audio2,audio_delay])\n",
    "                else:\n",
    "                    audio_combined = concatenate_audioclips([text_audio2])\n",
    "\n",
    "                audio_combined.write_audiofile(f\"{result_path}/{filename}.mp3\", codec=\"mp3\", bitrate=\"128k\", fps=44100)\n",
    "            except:\n",
    "                    print(\"Oops!\", sys.exc_info()[0], \"occurred.\")"
   ]
  },
  {
   "cell_type": "code",
   "execution_count": 5,
   "metadata": {},
   "outputs": [],
   "source": [
    "def text_convert_to_audio_same_sample1(filename_zip_list, out_folder_name, out_path, language=\"en\", speech_slow=True, delay_time = 0.5, delay_point = \"both\"):\n",
    "    ''' \n",
    "    text_convert_to_audio_same(word_group, out_folder_name, out_path, filename, language=\"en\", speech_slow=True, delay_time = 0.5, delay_point = \"both\")\\n\n",
    "    word_group is a string values. out_folder_name and out_path are path and folder name in str, filename is output result filename\\n\n",
    "    delay_time is in second and add delay to gttS audio result. delay point used for delay start, end or both\\n \n",
    "    ex:\\n\n",
    "    path = f\"/media/kurubal/SSD/Data Scientist/Data Science/Data-Scientist/Work/Modern Ways/Image Audio/Product\"\\n\n",
    "    text_convert_to_audio(word_select_list, \"Text_Audio\", path, language=lang)\n",
    "    '''\n",
    "    result_path = f\"{out_path}/{out_folder_name}\"\n",
    "    result_path2 = f\"{out_path}/Text_Audio\"\n",
    "    Path(result_path).mkdir(parents=True, exist_ok=True)\n",
    "    Path(result_path2).mkdir(parents=True, exist_ok=True)\n",
    "    audio_delay = AudioFileClip(audio_delay_path_and_file).subclip(1,1+delay_time)\n",
    "    for filename1, filename2 in filename_zip_list:\n",
    "        if isfile(f\"{result_path2}/{filename1}.mp3\"):\n",
    "            pass\n",
    "        else:\n",
    "            text_audio = gTTS(text=filename2, lang=language, slow=speech_slow)\n",
    "            text_audio.save(f\"{result_path2}/{filename1}.mp3\")\n",
    "            time.sleep(0.2)\n",
    "\n",
    "        if isfile(f\"{result_path}/{filename1}.mp3\"):\n",
    "            pass\n",
    "        else:\n",
    "            text_audio2 = AudioFileClip(f\"{result_path2}/{filename1}.mp3\")\n",
    "            try:        \n",
    "                if delay_point == \"both\":\n",
    "                    audio_combined = concatenate_audioclips([audio_delay,text_audio2,audio_delay])\n",
    "                elif delay_point == \"start\":\n",
    "                    audio_combined = concatenate_audioclips([audio_delay,text_audio2])\n",
    "                elif delay_point == \"end\":\n",
    "                    audio_combined = concatenate_audioclips([text_audio2,audio_delay])\n",
    "                else:\n",
    "                    audio_combined = concatenate_audioclips([text_audio2])\n",
    "\n",
    "                audio_combined.write_audiofile(f\"{result_path}/{filename1}.mp3\", codec=\"mp3\", bitrate=\"128k\", fps=44100)\n",
    "            except:\n",
    "                    print(\"Oops!\", sys.exc_info()[0], \"occurred.\")"
   ]
  },
  {
   "cell_type": "code",
   "execution_count": 6,
   "metadata": {},
   "outputs": [],
   "source": [
    "def convert_image_to_jpg_crop_size(filename_list, data_folder_name, data_path, out_folder_name, out_path):\n",
    "    '''\n",
    "    convert_image_to_jpg(data_folder_name, data_path, out_folder_name, out_path)\\n\n",
    "    data_folder_name, data_path, out_folder_name and out_path are path and folder in string.\\n\n",
    "    ex.\\n\n",
    "    path = f\"/media/kurubal/SSD/Data Scientist/Data Science/Data-Scientist/Work/Modern Ways/Image Audio/Product\"\\n\n",
    "    image_path = f\"/media/kurubal/SSD/Data Scientist/Data Science/Data-Scientist/Work/Modern Ways/Image Audio/Product\"\\n\n",
    "    convert_image_to_jpg(\"Images\", image_path, \"Images_JPG\", path)\n",
    "    '''\n",
    "    aspect_ratio_width = 16\n",
    "    aspect_ratio_height = 9\n",
    "    basewidth = 1600\n",
    "    size_width = int(basewidth)\n",
    "    size_heigth = int((basewidth/aspect_ratio_width)*aspect_ratio_height)\n",
    "    size = (size_width,size_heigth)\n",
    "\n",
    "    result_path = f\"{out_path}/{out_folder_name}\"\n",
    "    result_path2 = f\"{out_path}/Images_JPG\"\n",
    "    data_folder_path = f\"{data_path}/{data_folder_name}\"\n",
    "    Path(result_path).mkdir(parents=True, exist_ok=True)\n",
    "    Path(result_path2).mkdir(parents=True, exist_ok=True)\n",
    "\n",
    "    files=[f for f in os.listdir(data_folder_path) if isfile(join(data_folder_path,f))]     \n",
    "    for i in range(len(files)):\n",
    "        #text = f\"{text}\"\n",
    "        pathfilename=data_folder_path+'/'+files[i]\n",
    "        filename_without_ext = os.path.splitext(files[i])[0]\n",
    "        try:\n",
    "            if isfile(f\"{result_path2}/{filename_without_ext}.jpg\"):\n",
    "                pass\n",
    "            else:\n",
    "                img = Image.open(pathfilename)\n",
    "                img2 = img.convert(\"RGB\")\n",
    "                img2.save(f\"{result_path2}/{filename_without_ext}.jpg\")\n",
    "                time.sleep(0.1)\n",
    "        except:\n",
    "            print(\"Oops!\", sys.exc_info()[0], \"occurred.\")\n",
    "\n",
    "    for filename in filename_list:    \n",
    "        if isfile(f\"{result_path}/{filename}.jpg\"):\n",
    "            pass\n",
    "        else:\n",
    "            try:\n",
    "                img3 = Image.open(f\"{result_path2}/{filename}.jpg\")  # ???\n",
    "                width, height = img3.size\n",
    "                height_var = int(height/aspect_ratio_height)\n",
    "                width_var = int(width/aspect_ratio_width)\n",
    "\n",
    "                if height_var == width_var:\n",
    "                    img_var = img3.resize(size, Image.LANCZOS)\n",
    "                elif width_var > height_var:\n",
    "                    crop_width = int(abs((width-(height_var*aspect_ratio_width))/2))\n",
    "                    box = (crop_width,0,width-crop_width,height)  # left, top, right, bottom\n",
    "                    img_crop = img3.crop(box)  \n",
    "                    img_var = img_crop.resize(size, Image.LANCZOS)\n",
    "                elif width_var < height_var:\n",
    "                    crop_height = int(abs((height-(width_var*aspect_ratio_height))/2))\n",
    "                    box = (0,crop_height,width,height-crop_height)  # left, top, right, bottom\n",
    "                    img_crop = img3.crop(box)  # left, top, right, bottom\n",
    "                    img_var = img_crop.resize(size, Image.LANCZOS)\n",
    "                else:\n",
    "                    img_var = img3\n",
    "\n",
    "                img_var.save(f\"{result_path}/{filename}.jpg\")\n",
    "\n",
    "            except:\n",
    "                print(\"Oops!\", sys.exc_info()[0], \"occurred.\")"
   ]
  },
  {
   "cell_type": "code",
   "execution_count": 7,
   "metadata": {},
   "outputs": [],
   "source": [
    "def convert_pictures_to_video(filename_list, data_folder_name, data_path, out_folder_name, out_path, fps=1, time=5):\n",
    "    '''\n",
    "    convert_pictures_to_video(text_list, data_folder_name, data_path, out_folder_name, out_path, fps=1, time=5)\\n\n",
    "    text_list is list values. data_folder_name, data_path, out_folder_name and out_path are path\\n\n",
    "    and folder in string(str). others are cv2 parameter\\n\n",
    "    ex.\\n\n",
    "    path = f\"/media/kurubal/SSD/Data Scientist/Data Science/Data-Scientist/Work/Modern Ways/Image Audio/Product\"\\n\n",
    "    image_path = f\"/media/kurubal/SSD/Data Scientist/Data Science/Data-Scientist/Work/Modern Ways/Image Audio/Product\"\\n\n",
    "    convert_pictures_to_video(word_select_list, \"Images_Crop_Size\", image_path, \"Image_Video\", path, fps=1, time=5)\n",
    "    '''\n",
    "    result_path = f\"{out_path}/{out_folder_name}\"\n",
    "    Path(result_path).mkdir(parents=True, exist_ok=True)\n",
    "\n",
    "    for filename in filename_list:\n",
    "        if isfile(f\"{out_path}/{out_folder_name}/{filename}.mp4\"):\n",
    "            pass\n",
    "        else:    \n",
    "            try:\n",
    "                img = cv2.imread(f\"{data_path}/{data_folder_name}/{filename}.jpg\")\n",
    "                height, width, layers = img.shape\n",
    "                size=(width,height)\n",
    "                frame_array = []\n",
    "                for k in range (time):\n",
    "                    frame_array.append(img)\n",
    "                result_path2 = f\"{out_path}/{out_folder_name}/{filename}.mp4\"\n",
    "                out = cv2.VideoWriter(result_path2,cv2.VideoWriter_fourcc(*'mp4v'), fps, size)\n",
    "    \n",
    "                for i in range(len(frame_array)):\n",
    "                    out.write(frame_array[i])\n",
    "                out.release()\n",
    "                \n",
    "            except:\n",
    "                print(\"Oops!\", sys.exc_info()[0], \"occurred.\")"
   ]
  },
  {
   "cell_type": "code",
   "execution_count": 8,
   "metadata": {},
   "outputs": [],
   "source": [
    "def add_audio_to_video(filename_list, video_data_folder_name, video_data_path, audio_data_folder_name, audio_data_path, out_folder_name, out_path):\n",
    "    '''\n",
    "    add_audio_to_video(text_list, video_data_folder_name, video_data_path, audio_data_folder_name, audio_data_path, out_folder_name, out_path)\\n\n",
    "    text_list is list values. video_data_folder_name, video_data_path, audio_data_folder_name, audio_data_path, out_folder_name and out_path are path\\n\n",
    "    and folder in string(str). others are cv2 parameter\\n\n",
    "    ex.\\n\n",
    "    path = f\"/media/kurubal/SSD/Data Scientist/Data Science/Data-Scientist/Work/Modern Ways/Image Audio/Product\"\\n\n",
    "    image_video_path = f\"/media/kurubal/SSD/Data Scientist/Data Science/Data-Scientist/Work/Modern Ways/Image Audio/Product\"\\n\n",
    "    text_audio_path = f\"/media/kurubal/SSD/Data Scientist/Data Science/Data-Scientist/Work/Modern Ways/Image Audio/Product\"\\n\n",
    "    add_audio_to_video(word_select_list, \"Video\", image_video_path, \"Audio\", text_audio_path, \"Video_Audio\", path)\n",
    "    '''\n",
    "    result_path = f\"{out_path}/{out_folder_name}\"\n",
    "    Path(result_path).mkdir(parents=True, exist_ok=True)\n",
    "\n",
    "    for filename in filename_list:\n",
    "        if isfile(f\"{result_path}/{filename}.mp4\"):\n",
    "            pass\n",
    "        else:\n",
    "            try:\n",
    "                videoclip = VideoFileClip(f\"{video_data_path}/{video_data_folder_name}/{filename}.mp4\")\n",
    "                audioclip = AudioFileClip(f\"{audio_data_path}/{audio_data_folder_name}/{filename}.mp3\", fps = 44100)\n",
    "    \n",
    "                #new_audioclip = CompositeAudioClip([audioclip]).set_duration(videoclip.duration)  # .set_duration(videoclip.duration), .set_duration(audioclip.duration)\n",
    "                new_videoclip = CompositeVideoClip([videoclip]).set_duration(audioclip.duration)  # .set_duration(videoclip.duration), .set_duration(audioclip.duration)\n",
    "                new_videoclip.audio = audioclip  # new_audioclip\n",
    "    \n",
    "                new_videoclip.write_videofile(f\"{result_path}/{filename}.mp4\", audio_bitrate='128k', audio_fps=44100, audio_codec=\"aac\")\n",
    "                \n",
    "            except:\n",
    "                print(\"Oops!\", sys.exc_info()[0], \"occurred.\")"
   ]
  },
  {
   "cell_type": "code",
   "execution_count": 9,
   "metadata": {},
   "outputs": [],
   "source": [
    "def concat_video(filename_list, video_data_folder_name, video_data_path, out_folder_name, out_path, out_filename, external_audio_video):  \n",
    "    '''\n",
    "    concat_video(filename_list, video_data_folder_name, video_data_path, out_folder_name, out_path, filename)\\n\n",
    "    filename_list is list values. video_data_folder_name, video_data_path, out_folder_name and out_path are path and folder in string(str)\\n\n",
    "    filename is string of result mp4 file name.\n",
    "    ex.\\n\n",
    "    path = f\"/media/kurubal/SSD/Data Scientist/Data Science/Data-Scientist/Work/Modern Ways/Image Audio/Product\"\\n\n",
    "    audio_image_video_path = f\"/media/kurubal/SSD/Data Scientist/Data Science/Data-Scientist/Work/Modern Ways/Image Audio/Product\"\\n\n",
    "    concat_video_fast(word_select_list, \"Image_Video_Audio\", audio_image_video_path, \"Concat_Video\", path, \"200_Word_Combined_Sample\")\n",
    "    '''\n",
    "    no_image_file_list = []\n",
    "    result_path = f\"{out_path}/{out_folder_name}\"\n",
    "    Path(result_path).mkdir(parents=True, exist_ok=True)\n",
    "    video_text_list = []\n",
    "    video_list = []\n",
    "    \n",
    "    if isfile(f\"{result_path}/{out_filename}.mp4\"):\n",
    "        pass\n",
    "    else:\n",
    "        for filename in filename_list:\n",
    "            if isfile(f\"{video_data_path}/{video_data_folder_name}/{filename}.mp4\") and not(isfile(f\"{result_path}/{out_filename}.mp4\")):\n",
    "                video_text_list.append(filename)            \n",
    "            else:\n",
    "                no_image_file_list.append(filename)\n",
    "\n",
    "        video_text_list.append(external_audio_video)\n",
    "        for video_num in range(len(video_text_list)):\n",
    "            try:\n",
    "                clip_var = VideoFileClip(f\"{video_data_path}/{video_data_folder_name}/{video_text_list[video_num]}.mp4\", target_resolution=(900, 1600))  # height, width\n",
    "                video_list.append(clip_var)            \n",
    "            except:\n",
    "                print(\"Oops!\", sys.exc_info()[0], \"occurred.\", f\"{video_text_list[video_num]}.mp4\")\n",
    "\n",
    "        combined = concatenate_videoclips(video_list, method='compose')\n",
    "        combined.write_videofile(f\"{result_path}/{out_filename}.mp4\", audio_bitrate='128k', audio_fps=44100, audio_codec=\"aac\")\n",
    "\n",
    "    return no_image_file_list"
   ]
  },
  {
   "cell_type": "code",
   "execution_count": 10,
   "metadata": {},
   "outputs": [],
   "source": [
    "def concat_video_sample1(filename_list, video_data_folder_name, video_data_path, out_folder_name, out_path, out_filename):  \n",
    "    '''\n",
    "    concat_video(filename_list, video_data_folder_name, video_data_path, out_folder_name, out_path, filename)\\n\n",
    "    filename_list is list values. video_data_folder_name, video_data_path, out_folder_name and out_path are path and folder in string(str)\\n\n",
    "    filename is string of result mp4 file name.\n",
    "    ex.\\n\n",
    "    path = f\"/media/kurubal/SSD/Data Scientist/Data Science/Data-Scientist/Work/Modern Ways/Image Audio/Product\"\\n\n",
    "    audio_image_video_path = f\"/media/kurubal/SSD/Data Scientist/Data Science/Data-Scientist/Work/Modern Ways/Image Audio/Product\"\\n\n",
    "    concat_video_fast(word_select_list, \"Image_Video_Audio\", audio_image_video_path, \"Concat_Video\", path, \"200_Word_Combined_Sample\")\n",
    "    '''\n",
    "    no_image_file_list = []\n",
    "    result_path = f\"{out_path}/{out_folder_name}\"\n",
    "    Path(result_path).mkdir(parents=True, exist_ok=True)\n",
    "    video_text_list = []\n",
    "    video_list = []\n",
    "    \n",
    "    if isfile(f\"{result_path}/{out_filename}.mp4\"):\n",
    "        pass\n",
    "    else:\n",
    "        for filename in filename_list:\n",
    "            if isfile(f\"{video_data_path}/{video_data_folder_name}/{filename}.mp4\") and not(isfile(f\"{result_path}/{out_filename}.mp4\")):\n",
    "                video_text_list.append(filename)            \n",
    "            else:\n",
    "                no_image_file_list.append(filename)\n",
    "\n",
    "        for video_num in range(len(video_text_list)):\n",
    "            try:\n",
    "                clip_var = VideoFileClip(f\"{video_data_path}/{video_data_folder_name}/{video_text_list[video_num]}.mp4\", target_resolution=(900, 1600))  # height, width\n",
    "                video_list.append(clip_var)\n",
    "                video_list.append(clip_var)\n",
    "                video_list.append(clip_var)            \n",
    "            except:\n",
    "                print(\"Oops!\", sys.exc_info()[0], \"occurred.\", f\"{video_text_list[video_num]}.mp4\")\n",
    "\n",
    "        combined = concatenate_videoclips(video_list, method='compose')\n",
    "        combined.write_videofile(f\"{result_path}/{out_filename}.mp4\", audio_bitrate='128k', audio_fps=44100, audio_codec=\"aac\")\n",
    "\n",
    "    return no_image_file_list"
   ]
  },
  {
   "cell_type": "code",
   "execution_count": 11,
   "metadata": {},
   "outputs": [],
   "source": [
    "def all_in_one(word_group_list, image_data_folder_name, image_data_path, out_path, language=lang):\n",
    "    '''\n",
    "    word_group_word_video_combine(word_group_list, video_data_folder_name, video_data_path, out_folder_name, out_path)\n",
    "    word_group_list is word_group(sentence) list values. video_data_folder_name, video_data_path, out_folder_name and out_path are path and folder in string(str)\\n\n",
    "    ex.\\n\n",
    "    path = f\"/media/kurubal/SSD/Data Scientist/Data Science/Data-Scientist/Work/Modern Ways/Image Audio/Product\"\\n\n",
    "    audio_image_video_path = f\"/media/kurubal/SSD/Data Scientist/Data Science/Data-Scientist/Work/Modern Ways/Image Audio/Product\"\\n\n",
    "    word_group_word_video_combine(df_deployment_file_sent_list, \"Image_Video_Audio\", audio_image_video_path, \"200_Word_69_Youtube_Sentence\", path)\n",
    "    '''\n",
    "    data_path = f\"{out_path}/Data\"\n",
    "    result_path = f\"{out_path}/Result\"\n",
    "    Path(data_path).mkdir(parents=True, exist_ok=True)\n",
    "    Path(result_path).mkdir(parents=True, exist_ok=True)\n",
    "    for word_group in word_group_list:\n",
    "        word_list = word_tokenize(word_group)\n",
    "        try:\n",
    "            convert_image_to_jpg_crop_size(word_list, image_data_folder_name, image_data_path, \"Image_JPG_Crop\", data_path)\n",
    "            text_convert_to_audio_same(word_list, \"Text_MP3\", data_path, language=language, speech_slow=True, delay_time = 0.5, delay_point = \"both\")\n",
    "            #convert_image_to_jpg_crop_size(word_list, image_data_folder_name, image_data_path, \"Image_JPG_Crop\", data_path)\n",
    "            convert_pictures_to_video(word_list, \"Image_JPG_Crop\", data_path, \"Image_Video\", data_path, fps=1, time=5)\n",
    "            add_audio_to_video(word_list, \"Image_Video\", data_path, \"Text_MP3\", data_path, \"Image_Video_Audio\", result_path)\n",
    "        except:\n",
    "            print(\"Oops!\", sys.exc_info()[0], \"occurred.\")\n",
    "\n",
    "        if len(word_list)>1:\n",
    "            try:            \n",
    "                if len(word_list)>filename_length_num:\n",
    "                    filename_new = \" \".join(word_list[0:filename_length_num])\n",
    "                else:\n",
    "                    filename_new = word_group\n",
    "                wordgroup_convert_to_audio_same(word_group, \"Text_MP3\", data_path, language=language, speech_slow=True, delay_time = 0.5, delay_point = \"both\")\n",
    "                add_audio_to_wordgroup_video(word_group, \"Image_Video\", data_path, \"Text_MP3\", data_path, \"Image_Video_Audio\", result_path)\n",
    "                concat_video(word_list, \"Image_Video_Audio\", result_path, \"Concat_Video\", result_path, f\"{filename_new}\", f\"{filename_new}\")\n",
    "            except:\n",
    "                print(\"Oops!\", sys.exc_info()[0], \"occurred.\")                \n",
    "        else:\n",
    "            pass        "
   ]
  },
  {
   "cell_type": "code",
   "execution_count": null,
   "metadata": {},
   "outputs": [],
   "source": []
  },
  {
   "cell_type": "markdown",
   "metadata": {},
   "source": [
    "#### Sample 1"
   ]
  },
  {
   "cell_type": "code",
   "execution_count": 29,
   "metadata": {},
   "outputs": [],
   "source": [
    "# Output path and folder\n",
    "main_result_path = f\"/home/kurubal/Documents/Modern Ways/Project/{lang_folder.capitalize()}/Image Audio Video/Result/28 Words\"\n",
    "main_result_folder = f\"{lang_folder.capitalize()} {lang_pair.capitalize()}\"\n",
    "result_folder = \"Sample_1\""
   ]
  },
  {
   "cell_type": "code",
   "execution_count": 30,
   "metadata": {},
   "outputs": [],
   "source": [
    "# ///***\n",
    "output_path = f\"{main_result_path}/{main_result_folder}/{result_folder}\"  # output path\n",
    "text_audio_path = f\"{main_result_path}/{main_result_folder}/{result_folder}/Data/Text_Audio\"\n",
    "data_path = f\"{output_path}/Data\"\n",
    "result_path = f\"{output_path}/Result\"\n",
    "\n",
    "Path(output_path).mkdir(parents=True, exist_ok=True)\n",
    "Path(text_audio_path).mkdir(parents=True, exist_ok=True)\n",
    "# ****\\\\\\"
   ]
  },
  {
   "cell_type": "code",
   "execution_count": 31,
   "metadata": {},
   "outputs": [
    {
     "data": {
      "text/html": [
       "<div>\n",
       "<style scoped>\n",
       "    .dataframe tbody tr th:only-of-type {\n",
       "        vertical-align: middle;\n",
       "    }\n",
       "\n",
       "    .dataframe tbody tr th {\n",
       "        vertical-align: top;\n",
       "    }\n",
       "\n",
       "    .dataframe thead th {\n",
       "        text-align: right;\n",
       "    }\n",
       "</style>\n",
       "<table border=\"1\" class=\"dataframe\">\n",
       "  <thead>\n",
       "    <tr style=\"text-align: right;\">\n",
       "      <th></th>\n",
       "      <th>TR</th>\n",
       "      <th>FR</th>\n",
       "    </tr>\n",
       "  </thead>\n",
       "  <tbody>\n",
       "    <tr>\n",
       "      <th>0</th>\n",
       "      <td>bir</td>\n",
       "      <td>un, une</td>\n",
       "    </tr>\n",
       "    <tr>\n",
       "      <th>1</th>\n",
       "      <td>bu</td>\n",
       "      <td>cette, ce</td>\n",
       "    </tr>\n",
       "    <tr>\n",
       "      <th>2</th>\n",
       "      <td>ne</td>\n",
       "      <td>quelle, quel</td>\n",
       "    </tr>\n",
       "    <tr>\n",
       "      <th>3</th>\n",
       "      <td>ve</td>\n",
       "      <td>et</td>\n",
       "    </tr>\n",
       "    <tr>\n",
       "      <th>4</th>\n",
       "      <td>için</td>\n",
       "      <td>pour</td>\n",
       "    </tr>\n",
       "    <tr>\n",
       "      <th>5</th>\n",
       "      <td>mı</td>\n",
       "      <td>est-ce?</td>\n",
       "    </tr>\n",
       "    <tr>\n",
       "      <th>6</th>\n",
       "      <td>mi</td>\n",
       "      <td>est-ce?</td>\n",
       "    </tr>\n",
       "    <tr>\n",
       "      <th>7</th>\n",
       "      <td>o</td>\n",
       "      <td>il, elle, ça</td>\n",
       "    </tr>\n",
       "    <tr>\n",
       "      <th>8</th>\n",
       "      <td>ben</td>\n",
       "      <td>je</td>\n",
       "    </tr>\n",
       "    <tr>\n",
       "      <th>9</th>\n",
       "      <td>de</td>\n",
       "      <td>aussi, trop</td>\n",
       "    </tr>\n",
       "    <tr>\n",
       "      <th>10</th>\n",
       "      <td>çok</td>\n",
       "      <td>très, beaucoup, beaucoup, beaucoup</td>\n",
       "    </tr>\n",
       "    <tr>\n",
       "      <th>11</th>\n",
       "      <td>ama</td>\n",
       "      <td>mais</td>\n",
       "    </tr>\n",
       "    <tr>\n",
       "      <th>12</th>\n",
       "      <td>var</td>\n",
       "      <td>il y a, il y a</td>\n",
       "    </tr>\n",
       "    <tr>\n",
       "      <th>13</th>\n",
       "      <td>evet</td>\n",
       "      <td>ouais oui</td>\n",
       "    </tr>\n",
       "    <tr>\n",
       "      <th>14</th>\n",
       "      <td>değil</td>\n",
       "      <td>ne pas</td>\n",
       "    </tr>\n",
       "    <tr>\n",
       "      <th>15</th>\n",
       "      <td>da</td>\n",
       "      <td>aussi trop</td>\n",
       "    </tr>\n",
       "    <tr>\n",
       "      <th>16</th>\n",
       "      <td>şey</td>\n",
       "      <td>chose, truc</td>\n",
       "    </tr>\n",
       "    <tr>\n",
       "      <th>17</th>\n",
       "      <td>hayır</td>\n",
       "      <td>non</td>\n",
       "    </tr>\n",
       "    <tr>\n",
       "      <th>18</th>\n",
       "      <td>daha</td>\n",
       "      <td>suite</td>\n",
       "    </tr>\n",
       "    <tr>\n",
       "      <th>19</th>\n",
       "      <td>sen</td>\n",
       "      <td>tu</td>\n",
       "    </tr>\n",
       "    <tr>\n",
       "      <th>20</th>\n",
       "      <td>kadar</td>\n",
       "      <td>jusqu'à ce que, autant que</td>\n",
       "    </tr>\n",
       "    <tr>\n",
       "      <th>21</th>\n",
       "      <td>beni</td>\n",
       "      <td>me</td>\n",
       "    </tr>\n",
       "    <tr>\n",
       "      <th>22</th>\n",
       "      <td>bana</td>\n",
       "      <td>moi</td>\n",
       "    </tr>\n",
       "    <tr>\n",
       "      <th>23</th>\n",
       "      <td>yok</td>\n",
       "      <td>rien</td>\n",
       "    </tr>\n",
       "    <tr>\n",
       "      <th>24</th>\n",
       "      <td>onu</td>\n",
       "      <td>lui, elle, ça</td>\n",
       "    </tr>\n",
       "    <tr>\n",
       "      <th>25</th>\n",
       "      <td>seni</td>\n",
       "      <td>tu</td>\n",
       "    </tr>\n",
       "    <tr>\n",
       "      <th>26</th>\n",
       "      <td>bunu</td>\n",
       "      <td>cette, ce</td>\n",
       "    </tr>\n",
       "    <tr>\n",
       "      <th>27</th>\n",
       "      <td>gibi</td>\n",
       "      <td>comme</td>\n",
       "    </tr>\n",
       "  </tbody>\n",
       "</table>\n",
       "</div>"
      ],
      "text/plain": [
       "       TR                                  FR\n",
       "0     bir                             un, une\n",
       "1      bu                           cette, ce\n",
       "2      ne                        quelle, quel\n",
       "3      ve                                  et\n",
       "4    için                                pour\n",
       "5      mı                             est-ce?\n",
       "6      mi                             est-ce?\n",
       "7       o                        il, elle, ça\n",
       "8     ben                                  je\n",
       "9      de                         aussi, trop\n",
       "10    çok  très, beaucoup, beaucoup, beaucoup\n",
       "11    ama                                mais\n",
       "12    var                      il y a, il y a\n",
       "13   evet                           ouais oui\n",
       "14  değil                              ne pas\n",
       "15     da                          aussi trop\n",
       "16    şey                         chose, truc\n",
       "17  hayır                                 non\n",
       "18   daha                               suite\n",
       "19    sen                                  tu\n",
       "20  kadar          jusqu'à ce que, autant que\n",
       "21   beni                                me  \n",
       "22   bana                                 moi\n",
       "23    yok                                rien\n",
       "24    onu                       lui, elle, ça\n",
       "25   seni                                  tu\n",
       "26   bunu                           cette, ce\n",
       "27   gibi                               comme"
      ]
     },
     "execution_count": 31,
     "metadata": {},
     "output_type": "execute_result"
    }
   ],
   "source": [
    "df_deployment_file1 = pd.read_excel(f\"/home/kurubal/Documents/Modern Ways/Project/{lang_folder.capitalize()}/Image Audio Video/\\\n",
    "Data/28 Words/Document/Videos Data Sample {lang_pair.capitalize()}.xlsx\", sheet_name=\"sample_video1\")\n",
    "df_deployment_file1"
   ]
  },
  {
   "cell_type": "code",
   "execution_count": 32,
   "metadata": {},
   "outputs": [],
   "source": [
    "word_group_list1 = df_deployment_file1.iloc[:,0].dropna().to_list()\n",
    "word_group_list2 = df_deployment_file1.iloc[:,1].dropna().to_list()"
   ]
  },
  {
   "cell_type": "code",
   "execution_count": 33,
   "metadata": {},
   "outputs": [],
   "source": [
    "word_group_list_zip = zip(word_group_list1,word_group_list2)"
   ]
  },
  {
   "cell_type": "code",
   "execution_count": 38,
   "metadata": {},
   "outputs": [],
   "source": [
    "file_list = os.listdir(f\"{image_data_path}/Images\")\n",
    "#file_list"
   ]
  },
  {
   "cell_type": "code",
   "execution_count": 37,
   "metadata": {},
   "outputs": [],
   "source": [
    "file_list_without_ext = []\n",
    "for file in file_list:\n",
    "    file_without_ext = os.path.splitext(file)[0]\n",
    "    file_list_without_ext.append(file_without_ext.strip())\n",
    "#file_list_without_ext"
   ]
  },
  {
   "cell_type": "code",
   "execution_count": 36,
   "metadata": {},
   "outputs": [
    {
     "data": {
      "text/plain": [
       "[]"
      ]
     },
     "execution_count": 36,
     "metadata": {},
     "output_type": "execute_result"
    }
   ],
   "source": [
    "no_image_file_list = []\n",
    "for word in word_group_list1:\n",
    "    if word.strip() in file_list_without_ext:\n",
    "        pass\n",
    "    else:\n",
    "        no_image_file_list.append(word.strip())\n",
    "no_image_file_list"
   ]
  },
  {
   "cell_type": "code",
   "execution_count": null,
   "metadata": {},
   "outputs": [],
   "source": [
    "convert_image_to_jpg_crop_size(word_group_list1, \"Images\", image_data_path, \"Image_JPG_Crop\", data_path)"
   ]
  },
  {
   "cell_type": "code",
   "execution_count": null,
   "metadata": {},
   "outputs": [],
   "source": [
    "text_convert_to_audio_same_sample1(word_group_list_zip, \"Text_MP3\", data_path, language=lang2, speech_slow=True, delay_time = 0.5, delay_point = \"both\")"
   ]
  },
  {
   "cell_type": "code",
   "execution_count": null,
   "metadata": {},
   "outputs": [],
   "source": [
    "convert_pictures_to_video(word_group_list1, \"Image_JPG_Crop\", data_path, \"Image_Video\", data_path, fps=1, time=5)"
   ]
  },
  {
   "cell_type": "code",
   "execution_count": null,
   "metadata": {},
   "outputs": [],
   "source": [
    "add_audio_to_video(word_group_list1, \"Image_Video\", data_path, \"Text_MP3\", data_path, \"Image_Video_Audio\", result_path)"
   ]
  },
  {
   "cell_type": "code",
   "execution_count": null,
   "metadata": {},
   "outputs": [],
   "source": [
    "concat_video_sample1(word_group_list1, \"Image_Video_Audio\", result_path, \"Concat_Video\", result_path, f\"Sample_Video_1\")"
   ]
  },
  {
   "cell_type": "code",
   "execution_count": null,
   "metadata": {},
   "outputs": [],
   "source": []
  },
  {
   "cell_type": "markdown",
   "metadata": {},
   "source": [
    "#### Sample 2"
   ]
  },
  {
   "cell_type": "code",
   "execution_count": 15,
   "metadata": {},
   "outputs": [],
   "source": [
    "# Output path and folder\n",
    "main_result_path = f\"/home/kurubal/Documents/Modern Ways/Project/{lang_folder.capitalize()}/Image Audio Video/Result/28 Words\"\n",
    "main_result_folder = f\"{lang_folder.capitalize()} {lang_pair.capitalize()}\"\n",
    "result_folder = \"Sample_2\""
   ]
  },
  {
   "cell_type": "code",
   "execution_count": 16,
   "metadata": {},
   "outputs": [],
   "source": [
    "# ///***\n",
    "output_path = f\"{main_result_path}/{main_result_folder}/{result_folder}\"  # output path\n",
    "text_audio_path = f\"{main_result_path}/{main_result_folder}/{result_folder}/Data/Text_Audio\"\n",
    "data_path = f\"{output_path}/Data\"\n",
    "result_path = f\"{output_path}/Result\"\n",
    "\n",
    "Path(output_path).mkdir(parents=True, exist_ok=True)\n",
    "Path(text_audio_path).mkdir(parents=True, exist_ok=True)\n",
    "# ****\\\\\\"
   ]
  },
  {
   "cell_type": "code",
   "execution_count": 12,
   "metadata": {},
   "outputs": [
    {
     "data": {
      "text/html": [
       "<div>\n",
       "<style scoped>\n",
       "    .dataframe tbody tr th:only-of-type {\n",
       "        vertical-align: middle;\n",
       "    }\n",
       "\n",
       "    .dataframe tbody tr th {\n",
       "        vertical-align: top;\n",
       "    }\n",
       "\n",
       "    .dataframe thead th {\n",
       "        text-align: right;\n",
       "    }\n",
       "</style>\n",
       "<table border=\"1\" class=\"dataframe\">\n",
       "  <thead>\n",
       "    <tr style=\"text-align: right;\">\n",
       "      <th></th>\n",
       "      <th>TR</th>\n",
       "    </tr>\n",
       "  </thead>\n",
       "  <tbody>\n",
       "    <tr>\n",
       "      <th>0</th>\n",
       "      <td>afişe</td>\n",
       "    </tr>\n",
       "    <tr>\n",
       "      <th>1</th>\n",
       "      <td>ajan</td>\n",
       "    </tr>\n",
       "    <tr>\n",
       "      <th>2</th>\n",
       "      <td>alkol</td>\n",
       "    </tr>\n",
       "    <tr>\n",
       "      <th>3</th>\n",
       "      <td>anons</td>\n",
       "    </tr>\n",
       "    <tr>\n",
       "      <th>4</th>\n",
       "      <td>arşiv</td>\n",
       "    </tr>\n",
       "    <tr>\n",
       "      <th>5</th>\n",
       "      <td>avukat</td>\n",
       "    </tr>\n",
       "    <tr>\n",
       "      <th>6</th>\n",
       "      <td>banka</td>\n",
       "    </tr>\n",
       "    <tr>\n",
       "      <th>7</th>\n",
       "      <td>bebek</td>\n",
       "    </tr>\n",
       "    <tr>\n",
       "      <th>8</th>\n",
       "      <td>bomba</td>\n",
       "    </tr>\n",
       "    <tr>\n",
       "      <th>9</th>\n",
       "      <td>çikolata</td>\n",
       "    </tr>\n",
       "    <tr>\n",
       "      <th>10</th>\n",
       "      <td>dans</td>\n",
       "    </tr>\n",
       "    <tr>\n",
       "      <th>11</th>\n",
       "      <td>deşifre</td>\n",
       "    </tr>\n",
       "    <tr>\n",
       "      <th>12</th>\n",
       "      <td>dezenfekte</td>\n",
       "    </tr>\n",
       "    <tr>\n",
       "      <th>13</th>\n",
       "      <td>direkt</td>\n",
       "    </tr>\n",
       "    <tr>\n",
       "      <th>14</th>\n",
       "      <td>diskalifiye</td>\n",
       "    </tr>\n",
       "    <tr>\n",
       "      <th>15</th>\n",
       "      <td>dizayn</td>\n",
       "    </tr>\n",
       "    <tr>\n",
       "      <th>16</th>\n",
       "      <td>doktor</td>\n",
       "    </tr>\n",
       "    <tr>\n",
       "      <th>17</th>\n",
       "      <td>dolar</td>\n",
       "    </tr>\n",
       "    <tr>\n",
       "      <th>18</th>\n",
       "      <td>embesil</td>\n",
       "    </tr>\n",
       "    <tr>\n",
       "      <th>19</th>\n",
       "      <td>film</td>\n",
       "    </tr>\n",
       "    <tr>\n",
       "      <th>20</th>\n",
       "      <td>fotoğraf</td>\n",
       "    </tr>\n",
       "    <tr>\n",
       "      <th>21</th>\n",
       "      <td>general</td>\n",
       "    </tr>\n",
       "    <tr>\n",
       "      <th>22</th>\n",
       "      <td>hipnotize</td>\n",
       "    </tr>\n",
       "    <tr>\n",
       "      <th>23</th>\n",
       "      <td>kamuflaj</td>\n",
       "    </tr>\n",
       "    <tr>\n",
       "      <th>24</th>\n",
       "      <td>karavan</td>\n",
       "    </tr>\n",
       "    <tr>\n",
       "      <th>25</th>\n",
       "      <td>komik</td>\n",
       "    </tr>\n",
       "    <tr>\n",
       "      <th>26</th>\n",
       "      <td>kontrol</td>\n",
       "    </tr>\n",
       "    <tr>\n",
       "      <th>27</th>\n",
       "      <td>madam</td>\n",
       "    </tr>\n",
       "    <tr>\n",
       "      <th>28</th>\n",
       "      <td>manyak</td>\n",
       "    </tr>\n",
       "    <tr>\n",
       "      <th>29</th>\n",
       "      <td>mesaj</td>\n",
       "    </tr>\n",
       "    <tr>\n",
       "      <th>30</th>\n",
       "      <td>montaj</td>\n",
       "    </tr>\n",
       "    <tr>\n",
       "      <th>31</th>\n",
       "      <td>mösyö</td>\n",
       "    </tr>\n",
       "    <tr>\n",
       "      <th>32</th>\n",
       "      <td>müzik</td>\n",
       "    </tr>\n",
       "    <tr>\n",
       "      <th>33</th>\n",
       "      <td>normal</td>\n",
       "    </tr>\n",
       "    <tr>\n",
       "      <th>34</th>\n",
       "      <td>okul</td>\n",
       "    </tr>\n",
       "    <tr>\n",
       "      <th>35</th>\n",
       "      <td>pardon</td>\n",
       "    </tr>\n",
       "    <tr>\n",
       "      <th>36</th>\n",
       "      <td>park</td>\n",
       "    </tr>\n",
       "    <tr>\n",
       "      <th>37</th>\n",
       "      <td>patates</td>\n",
       "    </tr>\n",
       "    <tr>\n",
       "      <th>38</th>\n",
       "      <td>patron</td>\n",
       "    </tr>\n",
       "    <tr>\n",
       "      <th>39</th>\n",
       "      <td>plan</td>\n",
       "    </tr>\n",
       "    <tr>\n",
       "      <th>40</th>\n",
       "      <td>polis</td>\n",
       "    </tr>\n",
       "    <tr>\n",
       "      <th>41</th>\n",
       "      <td>popüler</td>\n",
       "    </tr>\n",
       "    <tr>\n",
       "      <th>42</th>\n",
       "      <td>prenses</td>\n",
       "    </tr>\n",
       "    <tr>\n",
       "      <th>43</th>\n",
       "      <td>problem</td>\n",
       "    </tr>\n",
       "    <tr>\n",
       "      <th>44</th>\n",
       "      <td>profesör</td>\n",
       "    </tr>\n",
       "    <tr>\n",
       "      <th>45</th>\n",
       "      <td>profesyonel</td>\n",
       "    </tr>\n",
       "    <tr>\n",
       "      <th>46</th>\n",
       "      <td>rapor</td>\n",
       "    </tr>\n",
       "    <tr>\n",
       "      <th>47</th>\n",
       "      <td>romantik</td>\n",
       "    </tr>\n",
       "    <tr>\n",
       "      <th>48</th>\n",
       "      <td>şans</td>\n",
       "    </tr>\n",
       "    <tr>\n",
       "      <th>49</th>\n",
       "      <td>şarj</td>\n",
       "    </tr>\n",
       "    <tr>\n",
       "      <th>50</th>\n",
       "      <td>şef</td>\n",
       "    </tr>\n",
       "    <tr>\n",
       "      <th>51</th>\n",
       "      <td>şeker</td>\n",
       "    </tr>\n",
       "    <tr>\n",
       "      <th>52</th>\n",
       "      <td>senatör</td>\n",
       "    </tr>\n",
       "    <tr>\n",
       "      <th>53</th>\n",
       "      <td>sinyal</td>\n",
       "    </tr>\n",
       "    <tr>\n",
       "      <th>54</th>\n",
       "      <td>şok</td>\n",
       "    </tr>\n",
       "    <tr>\n",
       "      <th>55</th>\n",
       "      <td>süper</td>\n",
       "    </tr>\n",
       "    <tr>\n",
       "      <th>56</th>\n",
       "      <td>sürpriz</td>\n",
       "    </tr>\n",
       "    <tr>\n",
       "      <th>57</th>\n",
       "      <td>telefon</td>\n",
       "    </tr>\n",
       "  </tbody>\n",
       "</table>\n",
       "</div>"
      ],
      "text/plain": [
       "             TR\n",
       "0         afişe\n",
       "1          ajan\n",
       "2         alkol\n",
       "3         anons\n",
       "4         arşiv\n",
       "5        avukat\n",
       "6         banka\n",
       "7         bebek\n",
       "8         bomba\n",
       "9      çikolata\n",
       "10         dans\n",
       "11      deşifre\n",
       "12   dezenfekte\n",
       "13       direkt\n",
       "14  diskalifiye\n",
       "15       dizayn\n",
       "16       doktor\n",
       "17        dolar\n",
       "18      embesil\n",
       "19         film\n",
       "20     fotoğraf\n",
       "21      general\n",
       "22    hipnotize\n",
       "23     kamuflaj\n",
       "24      karavan\n",
       "25        komik\n",
       "26      kontrol\n",
       "27        madam\n",
       "28       manyak\n",
       "29        mesaj\n",
       "30       montaj\n",
       "31        mösyö\n",
       "32        müzik\n",
       "33       normal\n",
       "34         okul\n",
       "35       pardon\n",
       "36         park\n",
       "37      patates\n",
       "38       patron\n",
       "39         plan\n",
       "40        polis\n",
       "41      popüler\n",
       "42      prenses\n",
       "43      problem\n",
       "44     profesör\n",
       "45  profesyonel\n",
       "46        rapor\n",
       "47     romantik\n",
       "48         şans\n",
       "49         şarj\n",
       "50          şef\n",
       "51        şeker\n",
       "52      senatör\n",
       "53       sinyal\n",
       "54          şok\n",
       "55        süper\n",
       "56      sürpriz\n",
       "57      telefon"
      ]
     },
     "execution_count": 12,
     "metadata": {},
     "output_type": "execute_result"
    }
   ],
   "source": [
    "df_deployment_file2 = pd.read_excel(f\"/home/kurubal/Documents/Modern Ways/Project/{lang_folder.capitalize()}/Image Audio Video/\\\n",
    "Data/28 Words/Document/Videos Data Sample {lang_pair.capitalize()}.xlsx\", sheet_name=\"sample_video2\")\n",
    "df_deployment_file2"
   ]
  },
  {
   "cell_type": "code",
   "execution_count": 13,
   "metadata": {},
   "outputs": [],
   "source": [
    "word_group_list1 = df_deployment_file2.iloc[:,0].dropna().to_list()"
   ]
  },
  {
   "cell_type": "code",
   "execution_count": 25,
   "metadata": {},
   "outputs": [
    {
     "data": {
      "text/plain": [
       "['ben1 .jpg', 'bana 1  .jpg', 'beni 2.jpg', 'ama  .jpg']"
      ]
     },
     "execution_count": 25,
     "metadata": {},
     "output_type": "execute_result"
    }
   ],
   "source": [
    "file_list = os.listdir(f\"{image_data_path}/Images SV\")\n",
    "file_list"
   ]
  },
  {
   "cell_type": "code",
   "execution_count": 27,
   "metadata": {},
   "outputs": [
    {
     "data": {
      "text/plain": [
       "['ben1', 'bana 1', 'beni 2', 'ama']"
      ]
     },
     "execution_count": 27,
     "metadata": {},
     "output_type": "execute_result"
    }
   ],
   "source": [
    "file_list_without_ext = []\n",
    "for file in file_list:\n",
    "    file_without_ext = os.path.splitext(file)[0]\n",
    "    file_list_without_ext.append(file_without_ext.strip())\n",
    "file_list_without_ext"
   ]
  },
  {
   "cell_type": "code",
   "execution_count": 28,
   "metadata": {},
   "outputs": [
    {
     "data": {
      "text/plain": [
       "['afişe',\n",
       " 'ajan',\n",
       " 'alkol',\n",
       " 'anons',\n",
       " 'arşiv',\n",
       " 'avukat',\n",
       " 'banka',\n",
       " 'bebek',\n",
       " 'bomba',\n",
       " 'çikolata',\n",
       " 'dans',\n",
       " 'deşifre',\n",
       " 'dezenfekte',\n",
       " 'direkt',\n",
       " 'diskalifiye',\n",
       " 'dizayn',\n",
       " 'doktor',\n",
       " 'dolar',\n",
       " 'embesil',\n",
       " 'film',\n",
       " 'fotoğraf',\n",
       " 'general',\n",
       " 'hipnotize',\n",
       " 'kamuflaj',\n",
       " 'karavan',\n",
       " 'komik',\n",
       " 'kontrol',\n",
       " 'madam',\n",
       " 'manyak',\n",
       " 'mesaj',\n",
       " 'montaj',\n",
       " 'mösyö',\n",
       " 'müzik',\n",
       " 'normal',\n",
       " 'okul',\n",
       " 'pardon',\n",
       " 'park',\n",
       " 'patates',\n",
       " 'patron',\n",
       " 'plan',\n",
       " 'polis',\n",
       " 'popüler',\n",
       " 'prenses',\n",
       " 'problem',\n",
       " 'profesör',\n",
       " 'profesyonel',\n",
       " 'rapor',\n",
       " 'romantik',\n",
       " 'şans',\n",
       " 'şarj',\n",
       " 'şef',\n",
       " 'şeker',\n",
       " 'senatör',\n",
       " 'sinyal',\n",
       " 'şok',\n",
       " 'süper',\n",
       " 'sürpriz',\n",
       " 'telefon']"
      ]
     },
     "execution_count": 28,
     "metadata": {},
     "output_type": "execute_result"
    }
   ],
   "source": [
    "no_image_file_list = []\n",
    "for word in word_group_list1:\n",
    "    if word.strip() in file_list_without_ext:\n",
    "        pass\n",
    "    else:\n",
    "        no_image_file_list.append(word.strip())\n",
    "no_image_file_list    "
   ]
  },
  {
   "cell_type": "code",
   "execution_count": null,
   "metadata": {},
   "outputs": [],
   "source": [
    "convert_image_to_jpg_crop_size(word_group_list1, \"Images_SV\", image_data_path, \"Image_JPG_Crop\", data_path)"
   ]
  },
  {
   "cell_type": "code",
   "execution_count": null,
   "metadata": {},
   "outputs": [],
   "source": [
    "text_convert_to_audio_same(word_group_list1, \"Text_MP3\", data_path, language=lang, speech_slow=True, delay_time = 0.5, delay_point = \"both\")"
   ]
  },
  {
   "cell_type": "code",
   "execution_count": null,
   "metadata": {},
   "outputs": [],
   "source": [
    "convert_pictures_to_video(word_group_list1, \"Image_JPG_Crop\", data_path, \"Image_Video\", data_path, fps=1, time=5)"
   ]
  },
  {
   "cell_type": "code",
   "execution_count": null,
   "metadata": {},
   "outputs": [],
   "source": [
    "add_audio_to_video(word_group_list1, \"Image_Video\", data_path, \"Text_MP3\", data_path, \"Image_Video_Audio\", result_path)"
   ]
  },
  {
   "cell_type": "code",
   "execution_count": null,
   "metadata": {},
   "outputs": [],
   "source": [
    "concat_video_sample1(word_group_list1, \"Image_Video_Audio\", result_path, \"Concat_Video\", result_path, f\"Sample_Video_2\")"
   ]
  },
  {
   "cell_type": "code",
   "execution_count": null,
   "metadata": {},
   "outputs": [],
   "source": []
  },
  {
   "cell_type": "markdown",
   "metadata": {},
   "source": [
    "#### Sample 3"
   ]
  },
  {
   "cell_type": "code",
   "execution_count": null,
   "metadata": {},
   "outputs": [],
   "source": [
    "# Output path and folder\n",
    "main_result_path = f\"/home/kurubal/Documents/Modern Ways/Project/{lang_folder.capitalize()}/Image Audio Video/Result/28 Words\"\n",
    "main_result_folder = f\"{lang_folder.capitalize()} {lang_pair.capitalize()}\"\n",
    "result_folder = \"Sample_3\""
   ]
  },
  {
   "cell_type": "code",
   "execution_count": null,
   "metadata": {},
   "outputs": [],
   "source": [
    "# ///***\n",
    "output_path = f\"{main_result_path}/{main_result_folder}/{result_folder}\"  # output path\n",
    "text_audio_path = f\"{main_result_path}/{main_result_folder}/{result_folder}/Data/Text_Audio\"\n",
    "data_path = f\"{output_path}/Data\"\n",
    "result_path = f\"{output_path}/Result\"\n",
    "\n",
    "Path(output_path).mkdir(parents=True, exist_ok=True)\n",
    "Path(text_audio_path).mkdir(parents=True, exist_ok=True)\n",
    "# ****\\\\\\"
   ]
  },
  {
   "cell_type": "code",
   "execution_count": null,
   "metadata": {},
   "outputs": [],
   "source": [
    "df_deployment_file3 = pd.read_excel(f\"/home/kurubal/Documents/Modern Ways/Project/{lang_folder.capitalize()}/Image Audio Video/\\\n",
    "Data/28 Words/Document/Videos Data Sample {lang_pair.capitalize()}.xlsx\", sheet_name=\"sample_video3\")\n",
    "df_deployment_file3"
   ]
  },
  {
   "cell_type": "code",
   "execution_count": null,
   "metadata": {},
   "outputs": [],
   "source": [
    "word_group_list1 = df_deployment_file3.iloc[:,0].dropna().to_list()\n",
    "word_group_list2 = df_deployment_file3.iloc[:,1].dropna().to_list()"
   ]
  },
  {
   "cell_type": "code",
   "execution_count": null,
   "metadata": {},
   "outputs": [],
   "source": [
    "word_group_list_zip = zip(word_group_list1,word_group_list2)"
   ]
  },
  {
   "cell_type": "code",
   "execution_count": null,
   "metadata": {},
   "outputs": [],
   "source": [
    "convert_image_to_jpg_crop_size(word_group_list1, \"Images_SV\", image_data_path, \"Image_JPG_Crop\", data_path)"
   ]
  },
  {
   "cell_type": "code",
   "execution_count": null,
   "metadata": {},
   "outputs": [],
   "source": [
    "text_convert_to_audio_same(word_group_list1, \"Text_MP3\", data_path, language=lang, speech_slow=True, delay_time = 0.5, delay_point = \"both\")"
   ]
  },
  {
   "cell_type": "code",
   "execution_count": null,
   "metadata": {},
   "outputs": [],
   "source": [
    "convert_pictures_to_video(word_group_list1, \"Image_JPG_Crop\", data_path, \"Image_Video\", data_path, fps=1, time=5)"
   ]
  },
  {
   "cell_type": "code",
   "execution_count": null,
   "metadata": {},
   "outputs": [],
   "source": [
    "add_audio_to_video(word_group_list1, \"Image_Video\", data_path, \"Text_MP3\", data_path, \"Image_Video_Audio\", result_path)"
   ]
  },
  {
   "cell_type": "code",
   "execution_count": null,
   "metadata": {},
   "outputs": [],
   "source": [
    "concat_video_sample1(word_group_list1, \"Image_Video_Audio\", result_path, \"Concat_Video\", result_path, f\"Sample_Video_2\")"
   ]
  },
  {
   "cell_type": "code",
   "execution_count": null,
   "metadata": {},
   "outputs": [],
   "source": []
  },
  {
   "cell_type": "code",
   "execution_count": null,
   "metadata": {},
   "outputs": [],
   "source": []
  },
  {
   "cell_type": "code",
   "execution_count": null,
   "metadata": {},
   "outputs": [],
   "source": []
  },
  {
   "cell_type": "code",
   "execution_count": null,
   "metadata": {},
   "outputs": [],
   "source": []
  },
  {
   "cell_type": "code",
   "execution_count": null,
   "metadata": {},
   "outputs": [],
   "source": []
  },
  {
   "cell_type": "code",
   "execution_count": null,
   "metadata": {},
   "outputs": [],
   "source": [
    "all_in_one(word_group_list, \"Images\", image_path, output_path, language=lang)"
   ]
  },
  {
   "cell_type": "code",
   "execution_count": null,
   "metadata": {},
   "outputs": [],
   "source": []
  },
  {
   "cell_type": "markdown",
   "metadata": {},
   "source": [
    "##### Output File Check"
   ]
  },
  {
   "cell_type": "code",
   "execution_count": null,
   "metadata": {},
   "outputs": [],
   "source": [
    "out_files_list=[os.path.splitext(f)[0] for f in os.listdir(f\"{output_path}/Result/Concat_Video\") if isfile(join(f\"{output_path}/Result/Concat_Video\",f))]\n",
    "out_files_list "
   ]
  },
  {
   "cell_type": "code",
   "execution_count": null,
   "metadata": {},
   "outputs": [],
   "source": [
    "out_files_set = set(out_files_list)\n",
    "word_group_set = set(word_group_list)"
   ]
  },
  {
   "cell_type": "code",
   "execution_count": null,
   "metadata": {},
   "outputs": [],
   "source": [
    "word_group_set.difference(out_files_set)"
   ]
  },
  {
   "cell_type": "code",
   "execution_count": null,
   "metadata": {},
   "outputs": [],
   "source": []
  },
  {
   "cell_type": "code",
   "execution_count": null,
   "metadata": {},
   "outputs": [],
   "source": []
  },
  {
   "cell_type": "code",
   "execution_count": null,
   "metadata": {},
   "outputs": [],
   "source": []
  },
  {
   "cell_type": "code",
   "execution_count": null,
   "metadata": {},
   "outputs": [],
   "source": []
  },
  {
   "cell_type": "code",
   "execution_count": null,
   "metadata": {},
   "outputs": [],
   "source": [
    "#word_group_list = [\"ben\",\"tam olarak bu\",\"ne için bu\", \"biliyor musun\", \"ne oldu\"]  # \"ne için bu\""
   ]
  },
  {
   "cell_type": "code",
   "execution_count": null,
   "metadata": {},
   "outputs": [],
   "source": [
    "#word_group_list = [\"het spijt me\",\"wat is er\",\"ik weet het\",\"wat is dat\",\"wat doe je\",\"wat is dit\",\"dat weet ik\",\"hoe gaat het\",\"weet je wat\",\"dank je wel\",\"is dat zo\",\"laten we gaan\",\"ik moet gaan\",\"het is goed\",\"wat wil je\",\"wie ben jij\",\"wie is dat\",\"waar is hij\",\"weet ik niet\"]"
   ]
  },
  {
   "cell_type": "code",
   "execution_count": null,
   "metadata": {},
   "outputs": [],
   "source": [
    "all_in_one(word_group_list, \"Images\", image_path, output_path, language=lang)"
   ]
  },
  {
   "cell_type": "code",
   "execution_count": null,
   "metadata": {},
   "outputs": [],
   "source": []
  },
  {
   "cell_type": "markdown",
   "metadata": {},
   "source": [
    "##### Output File Check"
   ]
  },
  {
   "cell_type": "code",
   "execution_count": null,
   "metadata": {},
   "outputs": [],
   "source": [
    "out_files_list=[os.path.splitext(f)[0] for f in os.listdir(f\"{output_path}/Result/Concat_Video\") if isfile(join(f\"{output_path}/Result/Concat_Video\",f))]\n",
    "out_files_list "
   ]
  },
  {
   "cell_type": "code",
   "execution_count": null,
   "metadata": {},
   "outputs": [],
   "source": [
    "out_files_set = set(out_files_list)\n",
    "word_group_set = set(word_group_list)"
   ]
  },
  {
   "cell_type": "code",
   "execution_count": null,
   "metadata": {},
   "outputs": [],
   "source": [
    "word_group_set.difference(out_files_set)"
   ]
  },
  {
   "cell_type": "code",
   "execution_count": null,
   "metadata": {},
   "outputs": [],
   "source": []
  },
  {
   "cell_type": "markdown",
   "metadata": {},
   "source": [
    "#### Result Video File Concat"
   ]
  },
  {
   "cell_type": "code",
   "execution_count": null,
   "metadata": {},
   "outputs": [],
   "source": [
    "from moviepy.editor import VideoFileClip, concatenate_videoclips\n",
    "import os\n",
    "import sys\n",
    "import numpy as np\n",
    "import pandas as pd\n",
    "from pathlib import Path\n",
    "import shutil\n",
    "from os.path import isfile, join\n",
    "import time\n",
    "import nltk\n",
    "from nltk import word_tokenize"
   ]
  },
  {
   "cell_type": "code",
   "execution_count": null,
   "metadata": {},
   "outputs": [],
   "source": [
    "# language pair\n",
    "lang_folder = \"Turkish\"  # Arabic, English, French, German, Turkish, Spanish, Portuguese, Dutch, Italian ==> target language for learner\n",
    "#lang_pair = \"English\"  # Arabic, English, French, German, Turkish, Spanish, Portuguese, Dutch, Italian ==> native language\n",
    "\n",
    "filename_length_num = 5"
   ]
  },
  {
   "cell_type": "code",
   "execution_count": null,
   "metadata": {},
   "outputs": [],
   "source": [
    "def concat_video2(text_list, video_data_folder_name, video_data_path, out_folder_name, out_path, filename):  \n",
    "    '''\n",
    "    concat_video(text_list, video_data_folder_name, video_data_path, out_folder_name, out_path, filename)\\n\n",
    "    text_list is list values. video_data_folder_name, video_data_path, out_folder_name and out_path are path and folder in string(str)\\n\n",
    "    filename is string of result mp4 file name.\n",
    "    ex.\\n\n",
    "    path = f\"/media/kurubal/SSD/Data Scientist/Work/Modern Ways/Project/{lang_folder.capitalize()}/Image Audio Video/Result/200 Words\"\\n\n",
    "    audio_image_video_path = f\"/media/kurubal/SSD/Data Scientist/Work/Modern Ways/Project/{lang_folder.capitalize()}/Image Audio Video/Data/200 Words\"\\n\n",
    "    concat_video(word_select_list, \"Image_Video_Audio\", audio_image_video_path, \"Concat_Video\", path, \"200_Word_Combined_Sample\")\n",
    "    '''\n",
    "    no_image_file_list = []\n",
    "    result_path = f\"{out_path}/{out_folder_name}\"\n",
    "    Path(result_path).mkdir(parents=True, exist_ok=True)\n",
    "    video_text_list = []\n",
    "    video_list = []\n",
    "\n",
    "    if isfile(f\"{result_path}/{filename}.mp4\"):\n",
    "        pass\n",
    "    else:\n",
    "        for text in text_list:\n",
    "            if isfile(f\"{video_data_path}/{video_data_folder_name}/{text}.mp4\"):\n",
    "                video_text_list.append(text)            \n",
    "            else:\n",
    "                no_image_file_list.append(text)\n",
    "\n",
    "        for video_num in range(len(video_text_list)):\n",
    "            try:\n",
    "                clip_var = VideoFileClip(f\"{video_data_path}/{video_data_folder_name}/{video_text_list[video_num]}.mp4\", target_resolution=(900, 1600))  # height, width\n",
    "                video_list.append(clip_var)            \n",
    "            except:\n",
    "                print(\"Oops!\", sys.exc_info()[0], \"occurred.\", f\"{video_text_list[video_num]}.mp4\")\n",
    "\n",
    "        combined = concatenate_videoclips(video_list, method='compose')\n",
    "        combined.write_videofile(f\"{result_path}/{filename}.mp4\", audio_bitrate='128k', audio_fps=44100, audio_codec=\"aac\")\n",
    "    \n",
    "    return no_image_file_list"
   ]
  },
  {
   "cell_type": "code",
   "execution_count": null,
   "metadata": {},
   "outputs": [],
   "source": [
    "# Previous output path and folder\n",
    "#prev_result_path = f\"/home/kurubal/Documents/Modern Ways/Project/{lang_folder.capitalize()}/Image Audio Video/Result/200 Words\"\n",
    "#prev_main_result_folder = \"Twogram_Threegram\"\n",
    "#prev_result_folder = \"Threegram_Twogram_Selected\"\n",
    "\n",
    "prev_result_path = f\"{result_path}\"\n",
    "prev_main_result_folder = f\"{main_result_folder}\"\n",
    "prev_result_folder = f\"{result_folder}\""
   ]
  },
  {
   "cell_type": "code",
   "execution_count": null,
   "metadata": {},
   "outputs": [],
   "source": [
    "data_path = f\"{prev_result_path}/{prev_main_result_folder}/{prev_result_folder}/Result\"  # previous output path result for data for this\n",
    "result_path = f\"{prev_result_path}/{prev_main_result_folder}/{prev_result_folder}/Result\""
   ]
  },
  {
   "cell_type": "code",
   "execution_count": null,
   "metadata": {},
   "outputs": [],
   "source": [
    "#df_deployment_file = pd.read_excel(\"/media/kurubal/SSD/Data Scientist/Work/Modern Ways/Project/Turkish/\\\n",
    "#Deployment2/Result/Deploy2 Result Manuel/Turkish/Twogram_Threegram_Selected.xlsx\", sheet_name=\"twogram_threegram_selected\")\n",
    "#df_deployment_file"
   ]
  },
  {
   "cell_type": "code",
   "execution_count": null,
   "metadata": {},
   "outputs": [],
   "source": [
    "#word_group_list = df_deployment_file[\"twogram_threegram_selected\"].dropna().to_list()\n",
    "#word_group_list"
   ]
  },
  {
   "cell_type": "code",
   "execution_count": null,
   "metadata": {},
   "outputs": [],
   "source": [
    "len(word_group_list)"
   ]
  },
  {
   "cell_type": "code",
   "execution_count": null,
   "metadata": {},
   "outputs": [],
   "source": [
    "word_group_list2 = []\n",
    "for word_group in word_group_list:\n",
    "    word_list = word_tokenize(word_group)\n",
    "    if len(word_list)>filename_length_num:\n",
    "        filename_new = \" \".join(word_list[0:filename_length_num])\n",
    "    else:\n",
    "        filename_new = word_group\n",
    "    word_group_list2.append(filename_new)"
   ]
  },
  {
   "cell_type": "code",
   "execution_count": null,
   "metadata": {},
   "outputs": [],
   "source": [
    "concat_video2(word_group_list2, \"Concat_Video\", data_path, \"All_Concat_Video\", result_path, f\"{prev_result_folder}\")"
   ]
  },
  {
   "cell_type": "code",
   "execution_count": null,
   "metadata": {},
   "outputs": [],
   "source": []
  },
  {
   "cell_type": "code",
   "execution_count": null,
   "metadata": {},
   "outputs": [],
   "source": []
  },
  {
   "cell_type": "code",
   "execution_count": null,
   "metadata": {},
   "outputs": [],
   "source": []
  },
  {
   "cell_type": "code",
   "execution_count": null,
   "metadata": {},
   "outputs": [],
   "source": []
  },
  {
   "cell_type": "code",
   "execution_count": null,
   "metadata": {},
   "outputs": [],
   "source": [
    "word_group_list2 = [\"al\",\"artık\",\"asla\"]"
   ]
  },
  {
   "cell_type": "code",
   "execution_count": null,
   "metadata": {},
   "outputs": [],
   "source": [
    "result_path = f\"/media/kurubal/SSD/Data Scientist/Work/Modern Ways/Project/Turkish/Temp/Image Test/Result\""
   ]
  },
  {
   "cell_type": "code",
   "execution_count": null,
   "metadata": {},
   "outputs": [],
   "source": [
    "concat_video(word_group_list2, \"Image_Video_Audio\", result_path, \"Test\", result_path, \"test_video\", \"adam ama anne\")"
   ]
  },
  {
   "cell_type": "code",
   "execution_count": null,
   "metadata": {},
   "outputs": [],
   "source": []
  },
  {
   "cell_type": "code",
   "execution_count": null,
   "metadata": {},
   "outputs": [],
   "source": [
    "delay_time = 0.5\n",
    "wordgroup = \"ben eve geldim\""
   ]
  },
  {
   "cell_type": "code",
   "execution_count": null,
   "metadata": {},
   "outputs": [],
   "source": [
    "audio_delay = AudioFileClip(audio_delay_path).subclip(0,delay_time)"
   ]
  },
  {
   "cell_type": "code",
   "execution_count": null,
   "metadata": {},
   "outputs": [],
   "source": [
    "text_audio = gTTS(text=wordgroup, lang=lang, slow=\"False\")"
   ]
  },
  {
   "cell_type": "code",
   "execution_count": null,
   "metadata": {},
   "outputs": [],
   "source": [
    "audio_combined = concatenate_audioclips([audio_delay,text_audio,audio_delay])"
   ]
  },
  {
   "cell_type": "code",
   "execution_count": null,
   "metadata": {},
   "outputs": [],
   "source": []
  },
  {
   "cell_type": "code",
   "execution_count": null,
   "metadata": {},
   "outputs": [],
   "source": [
    "df_deployment_file = pd.read_excel(f\"/media/kurubal/SSD/Data Scientist/Work/Modern Ways/Project/{lang_folder.lower().capitalize()}/Deployment2/\\\n",
    "Result/8-Adjust Word Group In Youtube Deploy Result/{lang_folder.lower().capitalize()}/Turkish_200_Word_Group_In_Youtube_Sentence_Word_Index_List_Sample_Selected.xlsx\")\n",
    "df_deployment_file = df_deployment_file.iloc[:,[0,1,2,3,4,5]]\n",
    "df_deployment_file"
   ]
  },
  {
   "cell_type": "code",
   "execution_count": null,
   "metadata": {},
   "outputs": [],
   "source": [
    "df_deployment_file_sent_list = df_deployment_file[\"search_string\"].to_list()"
   ]
  },
  {
   "cell_type": "code",
   "execution_count": null,
   "metadata": {},
   "outputs": [],
   "source": [
    "word_group_word_video_combine(df_deployment_file_sent_list, \"Image_Video_Audio\", audio_image_video_path, \"200_Word_69_Youtube_Sentence\", path)"
   ]
  },
  {
   "cell_type": "code",
   "execution_count": null,
   "metadata": {},
   "outputs": [],
   "source": []
  },
  {
   "cell_type": "code",
   "execution_count": null,
   "metadata": {},
   "outputs": [],
   "source": []
  },
  {
   "cell_type": "code",
   "execution_count": null,
   "metadata": {},
   "outputs": [],
   "source": []
  },
  {
   "cell_type": "code",
   "execution_count": null,
   "metadata": {},
   "outputs": [],
   "source": []
  }
 ],
 "metadata": {
  "kernelspec": {
   "display_name": "Python 3.9.5 ('py39')",
   "language": "python",
   "name": "python3"
  },
  "language_info": {
   "codemirror_mode": {
    "name": "ipython",
    "version": 3
   },
   "file_extension": ".py",
   "mimetype": "text/x-python",
   "name": "python",
   "nbconvert_exporter": "python",
   "pygments_lexer": "ipython3",
   "version": "3.9.5"
  },
  "orig_nbformat": 4,
  "vscode": {
   "interpreter": {
    "hash": "651d507d70892fab0fc6529d935cd476f6e2eb1791525b76da6cc8da34bc0503"
   }
  }
 },
 "nbformat": 4,
 "nbformat_minor": 2
}
