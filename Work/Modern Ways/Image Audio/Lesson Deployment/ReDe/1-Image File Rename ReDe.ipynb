{
 "cells": [
  {
   "cell_type": "markdown",
   "metadata": {},
   "source": [
    "### Image File Rename"
   ]
  },
  {
   "cell_type": "code",
   "execution_count": 1,
   "metadata": {},
   "outputs": [],
   "source": [
    "#!pip install regex --upgrade"
   ]
  },
  {
   "cell_type": "code",
   "execution_count": 2,
   "metadata": {},
   "outputs": [],
   "source": [
    "#!pip install --upgrade pip"
   ]
  },
  {
   "cell_type": "code",
   "execution_count": 3,
   "metadata": {},
   "outputs": [],
   "source": [
    "#import sys\n",
    "#import codecs"
   ]
  },
  {
   "cell_type": "code",
   "execution_count": 4,
   "metadata": {},
   "outputs": [],
   "source": [
    "#sys.stdout = codecs.getwriter('utf8')(sys.stdout)\n",
    "#sys.stderr = codecs.getwriter('utf8')(sys.stderr)"
   ]
  },
  {
   "cell_type": "code",
   "execution_count": 5,
   "metadata": {},
   "outputs": [],
   "source": [
    "import os\n",
    "import sys\n",
    "import re\n",
    "import numpy as np\n",
    "import pandas as pd\n",
    "from pathlib import Path\n",
    "import nltk\n",
    "from nltk import word_tokenize\n",
    "import shutil\n",
    "from os.path import isfile, join"
   ]
  },
  {
   "cell_type": "code",
   "execution_count": 6,
   "metadata": {},
   "outputs": [],
   "source": [
    "# custom character alphabet for word\n",
    "tr = re.compile(r\"['abcdefghijklmnoprstuvyzqxw\\\\ç\\\\ğ\\\\ı\\\\ö\\\\ş\\\\ü\\\\u00e7.']+\") # Turkish filters='!\"#$%&()*+,-./:;<=>?@[\\\\]^_`{|}~\\t\\n0123456789'\n",
    "#tr = re.compile(r\"[abcçdefgğhıijklmnoöprsştuüvyzqxw]+\", re.IGNORECASE|re.UNICODE) # Turkish filters='!\"#$%&()*+,-./:;<=>?@[\\\\]^_`{|}~\\t\\n0123456789'\n",
    "en = re.compile(r\"[abcdefghıijklmnopqrstxuvwyz]+\", re.IGNORECASE|re.UNICODE) # English\n",
    "nl = re.compile(r\"[abcdefghıijklmnopqrstxuvwyzāăēĕīĭōŏūŭ]+\", re.IGNORECASE|re.UNICODE) # Dutch (Flemenk)\n",
    "fr = re.compile(r\"[abcçdefghıijklmnopqrstxuvwyzàâæèéêëîïôœùûüÿ]+\", re.IGNORECASE|re.UNICODE) # French\n",
    "de = re.compile(r\"[abcdefghıijklmnopqrstxuvwyzäöüß]+\", re.IGNORECASE|re.UNICODE) # German\n",
    "es = re.compile(r\"[abcdefghıijklmnopqrstxuvwyzñáéíóú]+\", re.IGNORECASE|re.UNICODE) # Spanish (¿¡)\n",
    "pt = re.compile(r\"[abcçdefghıijklmnopqrstxuvwyzàáâãéêíóôõú]+\", re.IGNORECASE|re.UNICODE) # Portuguese\n",
    "it = re.compile(r\"[abcdefghıijklmnopqrstxuvwyzàéèìòùî]+\", re.IGNORECASE|re.UNICODE) # Italian\n",
    "ar = re.compile(r\"[ٿصؼۤڳڲؿڎػڠجڿ٬ٸؽؒؓطۄڀۂؘؔتٚڛےٝڜؖڦ٫ډ۰زۇٖۀ،لۓعٮێڔ۶ؚۧۜڤۏإٞٷؗۖ؈ژۣؕؑٴأۻڸۺگاڴڹۯ؉ْڌ؍ي؟ـٟړۅؐڶُىڽېًۢؠضۚڄٛڏٱۦ٩س٦ڼڂٔۘ٠ښٌٍ۬ٳ۾ٲږذۋٵٜ٘ڞڅںٗهڣۿپڒۥۗڋیؙم؞ثۨٹڵڪظٶۭ١ڭەڨحٕ؎ٺڷٰ۪۫ڻڥۛڑڟټآڡغګ؊ّٯڧڮ؏ۮ؋ؤ٪ؾڗۼق۟دکوِڰڐۃ۽ہفرڇچڝ۴بۈٽڕۡھةٓڃئ؛ڬٙڙڢڱۊَۆۉځ۠ۍۑۙڊنءڈٻشڍ؇۵كخ\\ا]+\", re.IGNORECASE|re.UNICODE) # Arabic"
   ]
  },
  {
   "cell_type": "code",
   "execution_count": 7,
   "metadata": {},
   "outputs": [
    {
     "name": "stdout",
     "output_type": "stream",
     "text": [
      "Turkish\n",
      "re.compile(\"['abcdefghijklmnoprstuvyzqxw\\\\\\\\ç\\\\\\\\ğ\\\\\\\\ı\\\\\\\\ö\\\\\\\\ş\\\\\\\\ü\\\\\\\\u00e7.']+\")\n"
     ]
    }
   ],
   "source": [
    "folder_name = \"Turkish\"  # English, Turkish, German, French, Spanish, Arabic, Portuguese, Dutch, Italian\n",
    " \n",
    "if folder_name == \"English\":\n",
    "    custom_alp = en\n",
    "elif folder_name == \"Turkish\":\n",
    "    custom_alp = tr\n",
    "elif folder_name == \"German\":\n",
    "    custom_alp = de\n",
    "elif folder_name == \"French\":\n",
    "    custom_alp = fr\n",
    "elif folder_name == \"Spanish\":\n",
    "    custom_alp = es\n",
    "elif folder_name == \"Arabic\":\n",
    "    custom_alp = ar\n",
    "elif folder_name == \"Portuguese\":\n",
    "    custom_alp = pt\n",
    "elif folder_name == \"Dutch\":\n",
    "    custom_alp = nl\n",
    "elif folder_name == \"Italian\":\n",
    "    custom_alp = it\n",
    "else:\n",
    "    pass\n",
    "#custom_alp = tr  # en, tr, de, fr, es, ar, pt, nl, it\n",
    "print(f\"{folder_name}\\n{custom_alp}\") "
   ]
  },
  {
   "cell_type": "code",
   "execution_count": 8,
   "metadata": {},
   "outputs": [],
   "source": [
    "def clean_text(text, custom_alp):    \n",
    "    text_clean = re.findall(custom_alp, text)\n",
    "    text_result = \" \".join(text_clean)\n",
    "    return text_result"
   ]
  },
  {
   "cell_type": "code",
   "execution_count": 9,
   "metadata": {},
   "outputs": [],
   "source": [
    "def clean_text2(text):\n",
    "    text2 = re.sub('[\\(\\[\\{].*?[\\)\\]\\}]', '', text)\n",
    "    text3 = re.sub('[0-9]', '', text2)\n",
    "    text4 = text3.strip()\n",
    "    #text_clean_list = word_tokenize(text4)     \n",
    "    #text5 = (\" \".join(text_clean_list)).lower()\n",
    "    #return text5\n",
    "    return text4"
   ]
  },
  {
   "cell_type": "code",
   "execution_count": 10,
   "metadata": {},
   "outputs": [],
   "source": [
    "test_text = \"ali3 atağ bal çık İlik ılIk Şart değiş12\""
   ]
  },
  {
   "cell_type": "code",
   "execution_count": 11,
   "metadata": {},
   "outputs": [],
   "source": [
    "test_text2 = \"kahve için (2)\""
   ]
  },
  {
   "cell_type": "code",
   "execution_count": 12,
   "metadata": {},
   "outputs": [
    {
     "data": {
      "text/plain": [
       "'kahve için ()'"
      ]
     },
     "execution_count": 12,
     "metadata": {},
     "output_type": "execute_result"
    }
   ],
   "source": [
    "re.sub('[0-9]', '', test_text2)"
   ]
  },
  {
   "cell_type": "code",
   "execution_count": 13,
   "metadata": {},
   "outputs": [
    {
     "data": {
      "text/plain": [
       "b'\\xff\\xfek\\x00a\\x00h\\x00v\\x00e\\x00 \\x00i\\x00\\xe7\\x00i\\x00n\\x00 \\x00(\\x002\\x00)\\x00'"
      ]
     },
     "execution_count": 13,
     "metadata": {},
     "output_type": "execute_result"
    }
   ],
   "source": [
    "bytes(test_text2, encoding='utf16')"
   ]
  },
  {
   "cell_type": "code",
   "execution_count": 14,
   "metadata": {},
   "outputs": [
    {
     "data": {
      "text/plain": [
       "'kahve için (2)'"
      ]
     },
     "execution_count": 14,
     "metadata": {},
     "output_type": "execute_result"
    }
   ],
   "source": [
    "test_text23 = test_text2.encode(encoding = 'UTF-8')\n",
    "test_text24 = test_text23.decode(encoding = 'UTF-8')\n",
    "test_text24"
   ]
  },
  {
   "cell_type": "code",
   "execution_count": 15,
   "metadata": {},
   "outputs": [],
   "source": [
    "test_text3 = \"kahve için (2)\""
   ]
  },
  {
   "cell_type": "code",
   "execution_count": 16,
   "metadata": {},
   "outputs": [],
   "source": [
    "#test_text3.dtypes(\"object\")"
   ]
  },
  {
   "cell_type": "code",
   "execution_count": 17,
   "metadata": {},
   "outputs": [
    {
     "data": {
      "text/plain": [
       "'kahve için '"
      ]
     },
     "execution_count": 17,
     "metadata": {},
     "output_type": "execute_result"
    }
   ],
   "source": [
    "re.sub('[\\(\\[\\{].*?[\\)\\]\\}]', '', test_text3)"
   ]
  },
  {
   "cell_type": "code",
   "execution_count": 18,
   "metadata": {},
   "outputs": [
    {
     "data": {
      "text/plain": [
       "'kahve için'"
      ]
     },
     "execution_count": 18,
     "metadata": {},
     "output_type": "execute_result"
    }
   ],
   "source": [
    "clean_text2(test_text3)"
   ]
  },
  {
   "cell_type": "code",
   "execution_count": 19,
   "metadata": {},
   "outputs": [
    {
     "data": {
      "text/plain": [
       "'kahve icÌ§in (2)'"
      ]
     },
     "execution_count": 19,
     "metadata": {},
     "output_type": "execute_result"
    }
   ],
   "source": [
    "test_text3  = test_text3.encode('utf-8').decode('unicode-escape').encode('utf-8').decode('utf-8')\n",
    "test_text3"
   ]
  },
  {
   "cell_type": "code",
   "execution_count": 20,
   "metadata": {},
   "outputs": [],
   "source": [
    "#test_text3 = str(test_text3)"
   ]
  },
  {
   "cell_type": "code",
   "execution_count": 21,
   "metadata": {},
   "outputs": [
    {
     "data": {
      "text/plain": [
       "b'\\xff\\xfek\\x00a\\x00h\\x00v\\x00e\\x00 \\x00i\\x00c\\x00\\xcc\\x00\\xa7\\x00i\\x00n\\x00 \\x00(\\x002\\x00)\\x00'"
      ]
     },
     "execution_count": 21,
     "metadata": {},
     "output_type": "execute_result"
    }
   ],
   "source": [
    "bytes(test_text3, encoding='utf16')"
   ]
  },
  {
   "cell_type": "code",
   "execution_count": 22,
   "metadata": {},
   "outputs": [
    {
     "name": "stdout",
     "output_type": "stream",
     "text": [
      "<class 'str'>\n"
     ]
    }
   ],
   "source": [
    "print(type(test_text2))"
   ]
  },
  {
   "cell_type": "code",
   "execution_count": 23,
   "metadata": {},
   "outputs": [
    {
     "name": "stdout",
     "output_type": "stream",
     "text": [
      "<class 'str'>\n"
     ]
    }
   ],
   "source": [
    "print(type(test_text3))"
   ]
  },
  {
   "cell_type": "code",
   "execution_count": 24,
   "metadata": {},
   "outputs": [
    {
     "data": {
      "text/plain": [
       "['k', 'a', 'h', 'v', 'e', ' ', 'i', 'c', 'Ì', '§', 'i', 'n', ' ', '(', ')']"
      ]
     },
     "execution_count": 24,
     "metadata": {},
     "output_type": "execute_result"
    }
   ],
   "source": [
    "re.findall('\\D', test_text3)"
   ]
  },
  {
   "cell_type": "code",
   "execution_count": 25,
   "metadata": {},
   "outputs": [],
   "source": [
    "text4 = \"adalet için\""
   ]
  },
  {
   "cell_type": "code",
   "execution_count": 26,
   "metadata": {},
   "outputs": [
    {
     "data": {
      "text/plain": [
       "['adalet', 'için']"
      ]
     },
     "execution_count": 26,
     "metadata": {},
     "output_type": "execute_result"
    }
   ],
   "source": [
    "re.findall(custom_alp, str(text4))"
   ]
  },
  {
   "cell_type": "code",
   "execution_count": 27,
   "metadata": {},
   "outputs": [
    {
     "data": {
      "text/plain": [
       "b'\\xff\\xfek\\x00a\\x00h\\x00v\\x00e\\x00 \\x00i\\x00c\\x00\\xcc\\x00\\xa7\\x00i\\x00n\\x00 \\x00(\\x002\\x00)\\x00'"
      ]
     },
     "execution_count": 27,
     "metadata": {},
     "output_type": "execute_result"
    }
   ],
   "source": [
    "string_utf = test_text3.encode(\"utf16\")\n",
    "string_utf"
   ]
  },
  {
   "cell_type": "code",
   "execution_count": 28,
   "metadata": {},
   "outputs": [
    {
     "name": "stdout",
     "output_type": "stream",
     "text": [
      "The encoded version is: b'\\xff\\xfek\\x00a\\x00h\\x00v\\x00e\\x00 \\x00i\\x00c\\x00\\xcc\\x00\\xa7\\x00i\\x00n\\x00 \\x00(\\x002\\x00)\\x00'\n"
     ]
    }
   ],
   "source": [
    "print('The encoded version is:', string_utf)"
   ]
  },
  {
   "cell_type": "code",
   "execution_count": 29,
   "metadata": {},
   "outputs": [
    {
     "data": {
      "text/plain": [
       "'kahve icÌ§in (2)'"
      ]
     },
     "execution_count": 29,
     "metadata": {},
     "output_type": "execute_result"
    }
   ],
   "source": [
    "test_text34 = test_text3.encode(encoding = 'UTF-8')\n",
    "test_text35 = test_text34.decode(encoding = 'UTF-8')\n",
    "test_text35"
   ]
  },
  {
   "cell_type": "code",
   "execution_count": 30,
   "metadata": {},
   "outputs": [
    {
     "data": {
      "text/plain": [
       "b'kahve i\\xc3\\xa7in (2)'"
      ]
     },
     "execution_count": 30,
     "metadata": {},
     "output_type": "execute_result"
    }
   ],
   "source": [
    "test_text2.encode(encoding = 'UTF-8')"
   ]
  },
  {
   "cell_type": "code",
   "execution_count": 31,
   "metadata": {},
   "outputs": [
    {
     "data": {
      "text/plain": [
       "b'kahve ic\\xc3\\x8c\\xc2\\xa7in (2)'"
      ]
     },
     "execution_count": 31,
     "metadata": {},
     "output_type": "execute_result"
    }
   ],
   "source": [
    "test_text3.encode(encoding = 'UTF-8')"
   ]
  },
  {
   "cell_type": "code",
   "execution_count": 32,
   "metadata": {},
   "outputs": [
    {
     "data": {
      "text/plain": [
       "['ali', 'atağ', 'bal', 'çık', 'lik', 'ıl', 'k', 'art', 'değiş']"
      ]
     },
     "execution_count": 32,
     "metadata": {},
     "output_type": "execute_result"
    }
   ],
   "source": [
    "re.findall(custom_alp, str(test_text))"
   ]
  },
  {
   "cell_type": "code",
   "execution_count": 33,
   "metadata": {},
   "outputs": [
    {
     "data": {
      "text/plain": [
       "['kahve', 'için']"
      ]
     },
     "execution_count": 33,
     "metadata": {},
     "output_type": "execute_result"
    }
   ],
   "source": [
    "re.findall(custom_alp, str(test_text2))"
   ]
  },
  {
   "cell_type": "code",
   "execution_count": 34,
   "metadata": {},
   "outputs": [
    {
     "data": {
      "text/plain": [
       "['kahve', 'ic', 'in']"
      ]
     },
     "execution_count": 34,
     "metadata": {},
     "output_type": "execute_result"
    }
   ],
   "source": [
    "re.findall(custom_alp, test_text3)"
   ]
  },
  {
   "cell_type": "code",
   "execution_count": 35,
   "metadata": {},
   "outputs": [
    {
     "data": {
      "text/plain": [
       "['kahve', 'ic', 'in']"
      ]
     },
     "execution_count": 35,
     "metadata": {},
     "output_type": "execute_result"
    }
   ],
   "source": [
    "re.findall(r\"['abcdefghijklmnoprstuvyzqxw\\\\ç\\\\ğ\\\\ı\\\\ö\\\\ş\\\\ü\\\\u00e7]+\", test_text3, re.UNICODE)"
   ]
  },
  {
   "cell_type": "code",
   "execution_count": 36,
   "metadata": {},
   "outputs": [
    {
     "data": {
      "text/plain": [
       "['kahve', 'ic', 'in']"
      ]
     },
     "execution_count": 36,
     "metadata": {},
     "output_type": "execute_result"
    }
   ],
   "source": [
    "re.findall(custom_alp, str(test_text3))"
   ]
  },
  {
   "cell_type": "code",
   "execution_count": 37,
   "metadata": {},
   "outputs": [
    {
     "data": {
      "text/plain": [
       "['kahve', 'için']"
      ]
     },
     "execution_count": 37,
     "metadata": {},
     "output_type": "execute_result"
    }
   ],
   "source": [
    "re.findall(custom_alp, str(test_text24))"
   ]
  },
  {
   "cell_type": "code",
   "execution_count": 38,
   "metadata": {},
   "outputs": [
    {
     "data": {
      "text/plain": [
       "['kahve', 'ic', 'in']"
      ]
     },
     "execution_count": 38,
     "metadata": {},
     "output_type": "execute_result"
    }
   ],
   "source": [
    "re.findall(custom_alp, str(test_text35))"
   ]
  },
  {
   "cell_type": "code",
   "execution_count": 39,
   "metadata": {},
   "outputs": [
    {
     "data": {
      "text/plain": [
       "'ali atağ bal çık lik ıl k art değiş'"
      ]
     },
     "execution_count": 39,
     "metadata": {},
     "output_type": "execute_result"
    }
   ],
   "source": [
    "clean_text(test_text, custom_alp)"
   ]
  },
  {
   "cell_type": "code",
   "execution_count": 40,
   "metadata": {},
   "outputs": [
    {
     "data": {
      "text/plain": [
       "'kahve için'"
      ]
     },
     "execution_count": 40,
     "metadata": {},
     "output_type": "execute_result"
    }
   ],
   "source": [
    "clean_text(test_text2, custom_alp)"
   ]
  },
  {
   "cell_type": "code",
   "execution_count": 41,
   "metadata": {},
   "outputs": [
    {
     "data": {
      "text/plain": [
       "'kahve ic in'"
      ]
     },
     "execution_count": 41,
     "metadata": {},
     "output_type": "execute_result"
    }
   ],
   "source": [
    "clean_text(test_text3, custom_alp)"
   ]
  },
  {
   "cell_type": "code",
   "execution_count": 42,
   "metadata": {},
   "outputs": [
    {
     "data": {
      "text/plain": [
       "'kahve için'"
      ]
     },
     "execution_count": 42,
     "metadata": {},
     "output_type": "execute_result"
    }
   ],
   "source": [
    "clean_text(test_text24, custom_alp)"
   ]
  },
  {
   "cell_type": "code",
   "execution_count": 43,
   "metadata": {},
   "outputs": [
    {
     "data": {
      "text/plain": [
       "'kahve ic in'"
      ]
     },
     "execution_count": 43,
     "metadata": {},
     "output_type": "execute_result"
    }
   ],
   "source": [
    "clean_text(test_text35, custom_alp)"
   ]
  },
  {
   "cell_type": "code",
   "execution_count": 44,
   "metadata": {},
   "outputs": [],
   "source": [
    "#def clean_text2(text, custom_alp):  # def clean_text(text)\n",
    "#    #text_clean = re.findall(custom_alp, text)\n",
    "#    text_clean = re.findall(custom_alp, str(text))\n",
    "#    text_result = \" \".join(text_clean)\n",
    "#    return text_result"
   ]
  },
  {
   "cell_type": "code",
   "execution_count": 45,
   "metadata": {},
   "outputs": [],
   "source": [
    "import sys"
   ]
  },
  {
   "cell_type": "code",
   "execution_count": 46,
   "metadata": {},
   "outputs": [
    {
     "name": "stdout",
     "output_type": "stream",
     "text": [
      "utf-8\n"
     ]
    }
   ],
   "source": [
    "print(sys.getdefaultencoding())"
   ]
  },
  {
   "cell_type": "code",
   "execution_count": 47,
   "metadata": {},
   "outputs": [],
   "source": [
    "import locale"
   ]
  },
  {
   "cell_type": "code",
   "execution_count": 48,
   "metadata": {},
   "outputs": [
    {
     "name": "stdout",
     "output_type": "stream",
     "text": [
      "('en_US', 'UTF-8')\n"
     ]
    }
   ],
   "source": [
    "print(locale.getlocale())"
   ]
  },
  {
   "cell_type": "code",
   "execution_count": 49,
   "metadata": {},
   "outputs": [
    {
     "name": "stdout",
     "output_type": "stream",
     "text": [
      "utf-8\n"
     ]
    }
   ],
   "source": [
    "print(sys.getfilesystemencoding())"
   ]
  },
  {
   "cell_type": "code",
   "execution_count": null,
   "metadata": {},
   "outputs": [],
   "source": []
  },
  {
   "cell_type": "code",
   "execution_count": 50,
   "metadata": {},
   "outputs": [],
   "source": [
    "image_file_path = \"/home/kurubal/Downloads/Images_SW2_JPG_Crop\"\n",
    "image_file_path_new = \"/home/kurubal/Downloads/Images_SW2_JPG_Crop_New\"\n",
    "\n",
    "#image_file_path = \"/home/kurubal/Downloads/Temp/Word Photos\"\n",
    "#image_file_path_new = \"/home/kurubal/Downloads/Temp/Word Photos New\"\n",
    "Path(image_file_path_new).mkdir(parents=True, exist_ok=True)"
   ]
  },
  {
   "cell_type": "code",
   "execution_count": 51,
   "metadata": {},
   "outputs": [
    {
     "data": {
      "text/plain": [
       "['kontrol.jpg',\n",
       " 'sperm.jpg',\n",
       " 'bebek.jpg',\n",
       " 'aman.jpg',\n",
       " 'komisyon.jpg',\n",
       " 'sahip.jpg',\n",
       " 'tam.jpg',\n",
       " 'plaj.jpg',\n",
       " 'nüfus.jpg',\n",
       " 'müşteri.jpg',\n",
       " 'dezenfekte.jpg',\n",
       " 'protein.jpg',\n",
       " 'plan.jpg',\n",
       " 'tehlike.jpg',\n",
       " 'melek.jpg',\n",
       " 'popüler.jpg',\n",
       " 'parlamento.jpg',\n",
       " 'kamera.jpg',\n",
       " 'kayıp.jpg',\n",
       " 'bitter.jpg',\n",
       " 'berber.jpg',\n",
       " 'vakit.jpg',\n",
       " 'nabız.jpg',\n",
       " 'hedef.jpg',\n",
       " 'macera.jpg',\n",
       " 'borsa.jpg',\n",
       " 'organ.jpg',\n",
       " 'malzeme.jpg',\n",
       " 'normal.jpg',\n",
       " 'tuhaf.jpg',\n",
       " 'tamir.jpg',\n",
       " 'robot.jpg',\n",
       " 'puding.jpg',\n",
       " 'sonar.jpg',\n",
       " 'risk.jpg',\n",
       " 'şok.jpg',\n",
       " 'prosedür.jpg',\n",
       " 'saniye.jpg',\n",
       " 'mesela.jpg',\n",
       " 'barbar.jpg',\n",
       " 'cihaz.jpg',\n",
       " 'tarif.jpg',\n",
       " 'türk.jpg',\n",
       " 'komik.jpg',\n",
       " 'sektör.jpg',\n",
       " 'kurye.jpg',\n",
       " 'kanal.jpg',\n",
       " 'frekans.jpg',\n",
       " 'enfeksiyon.jpg',\n",
       " 'dair.jpg',\n",
       " 'temiz.jpg',\n",
       " 'ekip.jpg',\n",
       " 'ahtapot.jpg',\n",
       " 'terk.jpg',\n",
       " 'sinyal.jpg',\n",
       " 'his.jpg',\n",
       " 'aparat.jpg',\n",
       " 'hazır.jpg',\n",
       " 'fosfor.jpg',\n",
       " 'hayır.jpg',\n",
       " 'tünel.jpg',\n",
       " 'kanser.jpg',\n",
       " 'mertebe.jpg',\n",
       " 'rezil.jpg',\n",
       " 'şerif.jpg',\n",
       " 'mesai.jpg',\n",
       " 'fransızca.jpg',\n",
       " 'kırmızı.jpg',\n",
       " 'masum.jpg',\n",
       " 'kordon.jpg',\n",
       " 'küvet.jpg',\n",
       " 'acele.jpg',\n",
       " 'bambu.jpg',\n",
       " 'operasyon.jpg',\n",
       " 'hain.jpg',\n",
       " 'mektup.jpg',\n",
       " 'seri.jpg',\n",
       " 'telesekreter.jpg',\n",
       " 'şov.jpg',\n",
       " 'telefon.jpg',\n",
       " 'teşekkür.jpg',\n",
       " 'çikolatalı.jpg',\n",
       " 'fakat.jpg',\n",
       " 'zavallı.jpg',\n",
       " 'şaka.jpg',\n",
       " 'tahmin.jpg',\n",
       " 'garip.jpg',\n",
       " 'haber.jpg',\n",
       " 'insan.jpg',\n",
       " 'adalet.jpg',\n",
       " 'ajan.jpg',\n",
       " 'sigara.jpg',\n",
       " 'film.jpg',\n",
       " 'mecbur.jpg',\n",
       " 'estetik.jpg',\n",
       " 'ait.jpg',\n",
       " 'rahat.jpg',\n",
       " 'ikram.jpg',\n",
       " 'entegrasyon.jpg',\n",
       " 'yoğurt.jpg',\n",
       " 'karar.jpg',\n",
       " 'salon.jpg',\n",
       " 'anne.jpg',\n",
       " 'ahbap.jpg',\n",
       " 'kehanet.jpg',\n",
       " 'fren.jpg',\n",
       " 'rüya.jpg',\n",
       " 'müsait.jpg',\n",
       " 'alaka.jpg',\n",
       " 'organik.jpg',\n",
       " 'departman.jpg',\n",
       " 'fazla.jpg',\n",
       " 'bilanço.jpg',\n",
       " 'fiş.jpg',\n",
       " 'harika.jpg',\n",
       " 'marka.jpg',\n",
       " 'elektronik.jpg',\n",
       " 'hareket.jpg',\n",
       " 'pedal.jpg',\n",
       " 'merhaba.jpg',\n",
       " 'doktor.jpg',\n",
       " 'karizma.jpg',\n",
       " 'gıda.jpg',\n",
       " 'silah.jpg',\n",
       " 'sabah.jpg',\n",
       " 'iksir.jpg',\n",
       " 'rakam.jpg',\n",
       " 'benzin.jpg',\n",
       " 'asit.jpg',\n",
       " 'taraf.jpg',\n",
       " 'muhtaç.jpg',\n",
       " 'kriter.jpg',\n",
       " 'mutfak.jpg',\n",
       " 'alem.jpg',\n",
       " 'cenaze.jpg',\n",
       " 'şarap.jpg',\n",
       " 'ekonomi.jpg',\n",
       " 'lazım.jpg',\n",
       " 'senaryo.jpg',\n",
       " 'dünya.jpg',\n",
       " 'kolye.jpg',\n",
       " 'izole.jpg',\n",
       " 'sefer.jpg',\n",
       " 'intikam.jpg',\n",
       " 'reklam.jpg',\n",
       " 'sadakat.jpg',\n",
       " 'mümkün.jpg',\n",
       " 'bariyer.jpg',\n",
       " 'kargo.jpg',\n",
       " 'okul.jpg',\n",
       " 'ziyaret.jpg',\n",
       " 'müzikal.jpg',\n",
       " 'iddia.jpg',\n",
       " 'aile.jpg',\n",
       " 'detektör.jpg',\n",
       " 'patron.jpg',\n",
       " 'teşekkül.jpg',\n",
       " 'diskalifiye.jpg',\n",
       " 'vagon.jpg',\n",
       " 'kayıt.jpg',\n",
       " 'çikolata.jpg',\n",
       " 'formasyon.jpg',\n",
       " 'elveda.jpg',\n",
       " 'elimine.jpg',\n",
       " 'zaman.jpg',\n",
       " 'espresso.jpg',\n",
       " 'anons.jpg',\n",
       " 'lojistik.jpg',\n",
       " 'pizza.jpg',\n",
       " 'dikkat.jpg',\n",
       " 'adam.jpg',\n",
       " 'galiba.jpg',\n",
       " 'stadyum.jpg',\n",
       " 'zerre.jpg',\n",
       " 'ameliyat.jpg',\n",
       " 'karavan.jpg',\n",
       " 'basit.jpg',\n",
       " 'akıl.jpg',\n",
       " 'müzisyen.jpg',\n",
       " 'şans.jpg',\n",
       " 'aşık.jpg',\n",
       " 'fabrika.jpg',\n",
       " 'resim.jpg',\n",
       " 'halk.jpg',\n",
       " 'kabul.jpg',\n",
       " 'hekim.jpg',\n",
       " 'fikir.jpg',\n",
       " 'lanet.jpg',\n",
       " 'asıl.jpg',\n",
       " 'hamburger.jpg',\n",
       " 'kod.jpg',\n",
       " 'herif.jpg',\n",
       " 'şeker.jpg',\n",
       " 'mücadele.jpg',\n",
       " 'sihir.jpg',\n",
       " 'sokak.jpg',\n",
       " 'muayene.jpg',\n",
       " 'müzik.jpg',\n",
       " 'termal.jpg',\n",
       " 'vejeteryan.jpg',\n",
       " 'kek.jpg',\n",
       " 'kaptan.jpg',\n",
       " 'devam.jpg',\n",
       " 'randevu.jpg',\n",
       " 'kariyer.jpg',\n",
       " 'irade.jpg',\n",
       " 'merak.jpg',\n",
       " 'dosya.jpg',\n",
       " 'şoför.jpg',\n",
       " 'sakin.jpg',\n",
       " 'klima.jpg',\n",
       " 'nostaljik.jpg',\n",
       " 'ifade.jpg',\n",
       " 'net.jpg',\n",
       " 'kuvvet.jpg',\n",
       " 'zevk.jpg',\n",
       " 'salam.jpg',\n",
       " 'şehir.jpg',\n",
       " 'vicdan.jpg',\n",
       " 'dakika.jpg',\n",
       " 'fotoğraf.jpg',\n",
       " 'filan.jpg',\n",
       " 'karoten.jpg',\n",
       " 'kale.jpg',\n",
       " 'caz.jpg',\n",
       " 'senatör.jpg',\n",
       " 'artist.jpg',\n",
       " 'hesap.jpg',\n",
       " 'seviye.jpg',\n",
       " 'ekran.jpg',\n",
       " 'hayal.jpg',\n",
       " 'kahve.jpg',\n",
       " 'enzim.jpg',\n",
       " 'sertifika.jpg',\n",
       " 'lezzet.jpg',\n",
       " 'şirket.jpg',\n",
       " 'devir.jpg',\n",
       " 'sondaj.jpg',\n",
       " 'afişe.jpg',\n",
       " 'falan.jpg',\n",
       " 'hata.jpg',\n",
       " 'saha.jpg',\n",
       " 'sanayi.jpg',\n",
       " 'montaj.jpg',\n",
       " 'banka.jpg',\n",
       " 'kıymet.jpg',\n",
       " 'metal.jpg',\n",
       " 'şövalye.jpg',\n",
       " 'tarih.jpg',\n",
       " 'arşiv.jpg',\n",
       " 'embesil.jpg',\n",
       " 'servet.jpg',\n",
       " 'karikatür.jpg',\n",
       " 'vaka.jpg',\n",
       " 'kasaba.jpg',\n",
       " 'konfor.jpg',\n",
       " 'fark.jpg',\n",
       " 'şarj.jpg',\n",
       " 'telafi.jpg',\n",
       " 'isabet.jpg',\n",
       " 'alkol.jpg',\n",
       " 'memnun.jpg',\n",
       " 'avokado.jpg',\n",
       " 'kamyon.jpg',\n",
       " 'hal.jpg',\n",
       " 'ücret.jpg',\n",
       " 'park.jpg',\n",
       " 'an.jpg',\n",
       " 'kasa.jpg',\n",
       " 'ansiklopedi.jpg',\n",
       " 'pantolon.jpg',\n",
       " 'mikrofon.jpg',\n",
       " 'kamuflaj.jpg',\n",
       " 'nefes.jpg',\n",
       " 'tipik.jpg',\n",
       " 'pratik.jpg',\n",
       " 'isim.jpg',\n",
       " 'ekstrem.jpg',\n",
       " 'santimetre.jpg',\n",
       " 'tebrik.jpg',\n",
       " 'antibiyotik.jpg',\n",
       " 'form.jpg',\n",
       " 'mağaza.jpg',\n",
       " 'hediye.jpg',\n",
       " 'manyak.jpg',\n",
       " 'majeste.jpg',\n",
       " 'reaksiyon.jpg',\n",
       " 'site.jpg',\n",
       " 'mesaj.jpg',\n",
       " 'internet.jpg',\n",
       " 'ittifak.jpg',\n",
       " 'karikatür.jpg',\n",
       " 'tabii.jpg',\n",
       " 'anormal.jpg',\n",
       " 'mesele.jpg',\n",
       " 'veya.jpg',\n",
       " 'kalem.jpg',\n",
       " 'mikroskop.jpg',\n",
       " 'kare.jpg',\n",
       " 'masaj.jpg',\n",
       " 'nokta.jpg',\n",
       " 'şampuan.jpg',\n",
       " 'rağbet.jpg',\n",
       " 'porsiyon.jpg',\n",
       " 'polyester.jpg',\n",
       " 'gram.jpg',\n",
       " 'litre.jpg',\n",
       " 'dezavantaj.jpg',\n",
       " 'banyo.jpg',\n",
       " 'şehit.jpg',\n",
       " 'konser.jpg',\n",
       " 'muhteşem.jpg',\n",
       " 'profesyonel.jpg',\n",
       " 'ilaç.jpg',\n",
       " 'patates.jpg',\n",
       " 'kaliteli.jpg',\n",
       " 'telepati.jpg',\n",
       " 'problem.jpg',\n",
       " 'takip.jpg',\n",
       " 'aksesuar.jpg',\n",
       " 'istatistik.jpg',\n",
       " 'polis.jpg',\n",
       " 'dizel.jpg',\n",
       " 'mobil.jpg',\n",
       " 'performans.jpg',\n",
       " 'müthiş.jpg',\n",
       " 'makro.jpg',\n",
       " 'yemin.jpg',\n",
       " 'kudret.jpg',\n",
       " 'labirent.jpg',\n",
       " 'pasta.jpg',\n",
       " 'süper.jpg',\n",
       " 'alternatif.jpg',\n",
       " 'fayda.jpg',\n",
       " 'tümör.jpg',\n",
       " 'beden.jpg',\n",
       " 'kafe.jpg',\n",
       " 'cinayet.jpg',\n",
       " 'millet.jpg',\n",
       " 'kahır.jpg',\n",
       " 'akustik.jpg',\n",
       " 'tren.jpg',\n",
       " 'enteresan.jpg',\n",
       " 'atlet.jpg',\n",
       " 'sebep.jpg',\n",
       " 'beri.jpg',\n",
       " 'kahverengi.jpg',\n",
       " 'tank.jpg',\n",
       " 'makine.jpg',\n",
       " 'kalsiyum.jpg',\n",
       " 'direkt.jpg',\n",
       " 'mükemmel.jpg',\n",
       " 'aktör.jpg',\n",
       " 'evlat.jpg',\n",
       " 'aşk.jpg',\n",
       " 'plastik.jpg',\n",
       " 'maalesef.jpg',\n",
       " 'heyecan.jpg',\n",
       " 'üniversite.jpg',\n",
       " 'fena.jpg',\n",
       " 'kokteyl.jpg',\n",
       " 'dizayn.jpg',\n",
       " 'elbette.jpg',\n",
       " 'cuma.jpg',\n",
       " 'izin.jpg',\n",
       " 'kere.jpg',\n",
       " 'piknik.jpg',\n",
       " 'tabi.jpg',\n",
       " 'hak.jpg',\n",
       " 'zafer.jpg',\n",
       " 'mutasyon.jpg',\n",
       " 'prenses.jpg',\n",
       " 'zarar.jpg',\n",
       " 'tuvalet.jpg',\n",
       " 'bina.jpg',\n",
       " 'mahkeme.jpg',\n",
       " 'deşifre.jpg',\n",
       " 'tamam.jpg',\n",
       " 'tarz.jpg',\n",
       " 'şok.jpg',\n",
       " 'federasyon.jpg',\n",
       " 'tekrar.jpg',\n",
       " 'hariç.jpg',\n",
       " 'cevap.jpg',\n",
       " 'miktar.jpg',\n",
       " 'adi.jpg',\n",
       " 'müze.jpg',\n",
       " 'bilet.jpg',\n",
       " 'nefret.jpg',\n",
       " 'dans.jpg',\n",
       " 'fatura.jpg',\n",
       " 'tenis.jpg',\n",
       " 'asker.jpg',\n",
       " 'rektör.jpg',\n",
       " 'motorsiklet.jpg',\n",
       " 'rapor.jpg',\n",
       " 'profesör.jpg',\n",
       " 'gazap.jpg',\n",
       " 'viski.jpg',\n",
       " 'kalp.jpg',\n",
       " 'diploma.jpg',\n",
       " 'totaliter.jpg',\n",
       " 'emin.jpg',\n",
       " 'mafya.jpg',\n",
       " 'semptom.jpg',\n",
       " 'meslek.jpg',\n",
       " 'anten.jpg',\n",
       " 'hala.jpg',\n",
       " 'kaza.jpg',\n",
       " 'tekstil.jpg',\n",
       " 'hipnotize.jpg',\n",
       " 'kıyafet.jpg',\n",
       " 'hassas.jpg',\n",
       " 'hayvan.jpg',\n",
       " 'hidrolik.jpg',\n",
       " 'sıfat.jpg',\n",
       " 'steril.jpg',\n",
       " 'madam.jpg',\n",
       " 'dijital.jpg',\n",
       " 'prosedür.jpg',\n",
       " 'hayat.jpg',\n",
       " 'talep.jpg',\n",
       " 'romantik.jpg',\n",
       " 'hamile.jpg',\n",
       " 'filtre.jpg',\n",
       " 'organizasyon.jpg',\n",
       " 'plaka.jpg',\n",
       " 'kumanda.jpg',\n",
       " 'şekil.jpg',\n",
       " 'barbekü.jpg',\n",
       " 'kamp.jpg',\n",
       " 'general.jpg',\n",
       " 'sıfır.jpg',\n",
       " 'dolar.jpg',\n",
       " 'şef.jpg',\n",
       " 'nöbet.jpg',\n",
       " 'avantaj.jpg',\n",
       " 'şiddet.jpg',\n",
       " 'leziz.jpg',\n",
       " 'koleksiyon.jpg',\n",
       " 'fantastik.jpg',\n",
       " 'bazı.jpg',\n",
       " 'metabolizma.jpg',\n",
       " 'kitap.jpg',\n",
       " 'avukat.jpg',\n",
       " 'mösyö.jpg',\n",
       " 'müze.jpg',\n",
       " 'espri.jpg',\n",
       " 'çakal.jpg',\n",
       " 'beyaz.jpg',\n",
       " 'gazete.jpg',\n",
       " 'bomba.jpg',\n",
       " 'alo.jpg',\n",
       " 'jel.jpg',\n",
       " 'versiyon.jpg',\n",
       " 'kampüs.jpg',\n",
       " 'dram.jpg',\n",
       " 'politik.jpg',\n",
       " 'paket.jpg',\n",
       " 'duş.jpg',\n",
       " 'sürpriz.jpg',\n",
       " 'budala.jpg',\n",
       " 'aynı.jpg',\n",
       " 'arşiv.jpg',\n",
       " 'bira.jpg',\n",
       " 'pardon.jpg',\n",
       " 'bravo.jpg',\n",
       " 'mülk.jpg',\n",
       " 'özür.jpg',\n",
       " 'depo.jpg',\n",
       " 'analiz.jpg',\n",
       " 'fevkalade.jpg',\n",
       " 'amatör.jpg',\n",
       " 'hatta.jpg',\n",
       " 'bisiklet.jpg',\n",
       " 'bilhassa.jpg',\n",
       " 'merkez.jpg',\n",
       " 'vay.jpg',\n",
       " 'tehdit.jpg',\n",
       " 'garaj.jpg',\n",
       " 'selam.jpg',\n",
       " 'nektar.jpg',\n",
       " 'hafif.jpg',\n",
       " 'platform.jpg',\n",
       " 'asla.jpg']"
      ]
     },
     "execution_count": 51,
     "metadata": {},
     "output_type": "execute_result"
    }
   ],
   "source": [
    "file_list = os.listdir(image_file_path)\n",
    "file_list"
   ]
  },
  {
   "cell_type": "code",
   "execution_count": null,
   "metadata": {},
   "outputs": [],
   "source": []
  },
  {
   "cell_type": "code",
   "execution_count": null,
   "metadata": {},
   "outputs": [],
   "source": [
    "#for file in file_list:\n",
    "#    line = file.encode('utf-8', errors='ignore').decode('utf-8')\n",
    "#    print(line)"
   ]
  },
  {
   "cell_type": "code",
   "execution_count": null,
   "metadata": {},
   "outputs": [],
   "source": [
    "file_list2 = []\n",
    "for file in file_list:\n",
    "    file_new = file.strip()\n",
    "    #file_new2 = str(file_new)\n",
    "    file_new2 = file_new.encode('utf-8', errors='ignore').decode('utf-8')\n",
    "    file_list2.append(file_new2)"
   ]
  },
  {
   "cell_type": "code",
   "execution_count": null,
   "metadata": {},
   "outputs": [],
   "source": [
    "df_test = pd.DataFrame(file_list2, columns=[\"word\"])\n",
    "df_test"
   ]
  },
  {
   "cell_type": "code",
   "execution_count": null,
   "metadata": {},
   "outputs": [],
   "source": [
    "df_test.to_csv(\"test.csv\", index=False, encoding=\"utf8\")"
   ]
  },
  {
   "cell_type": "code",
   "execution_count": null,
   "metadata": {},
   "outputs": [],
   "source": [
    "df = pd.read_csv(\"test.csv\")\n",
    "df"
   ]
  },
  {
   "cell_type": "code",
   "execution_count": null,
   "metadata": {},
   "outputs": [],
   "source": []
  },
  {
   "cell_type": "code",
   "execution_count": null,
   "metadata": {},
   "outputs": [],
   "source": []
  },
  {
   "cell_type": "code",
   "execution_count": null,
   "metadata": {},
   "outputs": [],
   "source": []
  },
  {
   "cell_type": "code",
   "execution_count": 104,
   "metadata": {},
   "outputs": [],
   "source": [
    "#for file in df[\"word\"]:\n",
    "for file in file_list:\n",
    "    # file and extention\n",
    "    file_without_ext = os.path.splitext(file)[0]\n",
    "    file_ext = os.path.splitext(file)[1]\n",
    "    # file clean and join\n",
    "    file_without_ext_clean = clean_text2(file_without_ext)\n",
    "    word_list = word_tokenize(file_without_ext_clean)\n",
    "    file_without_ext_new = \" \".join(word_list)\n",
    "    file_new = f\"{file_without_ext_new.lower()}{file_ext}\"\n",
    "    # check move rename delete\n",
    "    if isfile(f\"{image_file_path_new}/{file_new}\"):\n",
    "        pass\n",
    "    else:\n",
    "        source_file = f\"{image_file_path}/{file}\"\n",
    "        destination_path = f\"{image_file_path_new}\"        \n",
    "        shutil.copy2(source_file, destination_path)\n",
    "        os.remove(source_file)\n",
    "        source_dest_file = f\"{destination_path}/{file}\"\n",
    "        target_dest_file = f\"{destination_path}/{file_new}\"\n",
    "        os.rename(source_dest_file, target_dest_file)\n",
    "\n",
    "\n",
    "\n",
    "#dest_rename = f\"{image_file_path_new}/{file}{file_ext}\"\n",
    "#    source = f\"{image_file_path}/{file}\"\n",
    "#    dest = f\"{image_file_path}/{file}{file_ext}\"\n",
    "#    if isfile(dest):\n",
    "#        pass\n",
    "#    else:\n",
    "#        os.rename(source, dest)"
   ]
  },
  {
   "cell_type": "code",
   "execution_count": null,
   "metadata": {},
   "outputs": [],
   "source": []
  },
  {
   "cell_type": "code",
   "execution_count": null,
   "metadata": {},
   "outputs": [],
   "source": [
    "file_without_ext = os.path.splitext(file_list[28])[0]\n",
    "file_without_ext"
   ]
  },
  {
   "cell_type": "code",
   "execution_count": null,
   "metadata": {},
   "outputs": [],
   "source": [
    "file_without_ext_clean = clean_text(file_without_ext, custom_alp)\n",
    "file_without_ext_clean"
   ]
  },
  {
   "cell_type": "code",
   "execution_count": null,
   "metadata": {},
   "outputs": [],
   "source": [
    "word_list = word_tokenize(file_without_ext_clean)\n",
    "word_list  "
   ]
  },
  {
   "cell_type": "code",
   "execution_count": null,
   "metadata": {},
   "outputs": [],
   "source": [
    "file_without_ext_new = \" \".join(word_list)"
   ]
  },
  {
   "cell_type": "code",
   "execution_count": null,
   "metadata": {},
   "outputs": [],
   "source": []
  },
  {
   "cell_type": "code",
   "execution_count": null,
   "metadata": {},
   "outputs": [],
   "source": []
  },
  {
   "cell_type": "code",
   "execution_count": null,
   "metadata": {},
   "outputs": [],
   "source": [
    "text1 = os.path.splitext(file_list[28])[0].encode(\"utf8\").decode()\n",
    "text1"
   ]
  },
  {
   "cell_type": "code",
   "execution_count": null,
   "metadata": {},
   "outputs": [],
   "source": []
  },
  {
   "cell_type": "code",
   "execution_count": null,
   "metadata": {},
   "outputs": [],
   "source": [
    "text_clean = re.findall(custom_alp, str(text1))\n",
    "text_clean"
   ]
  },
  {
   "cell_type": "code",
   "execution_count": null,
   "metadata": {},
   "outputs": [],
   "source": [
    "text_result = \" \".join(text_clean)"
   ]
  },
  {
   "cell_type": "code",
   "execution_count": null,
   "metadata": {},
   "outputs": [],
   "source": [
    "os.path.splitext(file_list[7])[1]"
   ]
  },
  {
   "cell_type": "code",
   "execution_count": null,
   "metadata": {},
   "outputs": [],
   "source": [
    "txt = \"My name is Ståle\""
   ]
  },
  {
   "cell_type": "code",
   "execution_count": null,
   "metadata": {},
   "outputs": [],
   "source": [
    "x = txt.encode()"
   ]
  },
  {
   "cell_type": "code",
   "execution_count": null,
   "metadata": {},
   "outputs": [],
   "source": [
    "print(x)"
   ]
  },
  {
   "cell_type": "code",
   "execution_count": null,
   "metadata": {},
   "outputs": [],
   "source": [
    "txt = \"My name is Ståle\""
   ]
  },
  {
   "cell_type": "code",
   "execution_count": null,
   "metadata": {},
   "outputs": [],
   "source": [
    "print(txt.encode(encoding=\"ascii\",errors=\"backslashreplace\"))\n",
    "print(txt.encode(encoding=\"ascii\",errors=\"ignore\"))\n",
    "print(txt.encode(encoding=\"ascii\",errors=\"namereplace\"))\n",
    "print(txt.encode(encoding=\"ascii\",errors=\"replace\"))\n",
    "print(txt.encode(encoding=\"ascii\",errors=\"xmlcharrefreplace\"))"
   ]
  },
  {
   "cell_type": "code",
   "execution_count": null,
   "metadata": {},
   "outputs": [],
   "source": []
  },
  {
   "cell_type": "code",
   "execution_count": null,
   "metadata": {},
   "outputs": [],
   "source": []
  },
  {
   "cell_type": "code",
   "execution_count": null,
   "metadata": {},
   "outputs": [],
   "source": []
  },
  {
   "cell_type": "code",
   "execution_count": 55,
   "metadata": {},
   "outputs": [],
   "source": [
    "image_file_path = \"/home/kurubal/Downloads/Images_SW2_JPG_Crop\"\n",
    "image_file_path_new = \"/home/kurubal/Downloads/Images_SW2_JPG_Crop_New\"\n",
    "\n",
    "#image_file_path = \"/home/kurubal/Downloads/Temp/Word Photos\"\n",
    "#image_file_path_new = \"/home/kurubal/Downloads/Temp/Word Photos New\"\n",
    "Path(image_file_path_new).mkdir(parents=True, exist_ok=True)"
   ]
  },
  {
   "cell_type": "code",
   "execution_count": 57,
   "metadata": {},
   "outputs": [
    {
     "data": {
      "text/plain": [
       "['kasa da.jpg',\n",
       " 'milyonlarca kilometrelik.jpg',\n",
       " 'spor servisi.jpg',\n",
       " 'ben hariç.jpg',\n",
       " 'ekstra şekerli.jpg',\n",
       " 'daha komik.jpg',\n",
       " 'doktor rolü.jpg',\n",
       " 'banyoda pudra.jpg',\n",
       " 'kod numarası.jpg',\n",
       " 'bana kahve.jpg',\n",
       " 'hayır kaptan.jpg',\n",
       " 'okul kredisi.jpg',\n",
       " 'elektrik sistemi.jpg',\n",
       " 'vejeteryan pizza.jpg',\n",
       " 'onur madalyası.jpg',\n",
       " 'dosya numarası.jpg',\n",
       " 'metro treni.jpg',\n",
       " 'dizel motoru.jpg',\n",
       " 'çok fantastik.jpg',\n",
       " 'normal benzin.jpg',\n",
       " 'ne zaman.jpg',\n",
       " 'hayal gibi.jpg',\n",
       " 'benzin deposu.jpg',\n",
       " 'kafede randevu.jpg',\n",
       " 'video konferans.jpg',\n",
       " 'vay enteresan.jpg',\n",
       " 'fizik doktorası.jpg',\n",
       " 'alo şerif.jpg',\n",
       " 'park turu.jpg',\n",
       " 'film için.jpg',\n",
       " 'hayır madam.jpg',\n",
       " 'japanese princess.jpg',\n",
       " 'bunu dizayn.jpg',\n",
       " 'o maske.jpg',\n",
       " 'ben ciddiyim.jpg',\n",
       " 'çok normal.jpg',\n",
       " 'okul servisi.jpg',\n",
       " 'telefon bankacılığı.jpg',\n",
       " 'hatayı telafi.jpg',\n",
       " 'komedi programı.jpg',\n",
       " 'kalem lazım.jpg',\n",
       " 'televizyon stüdyosu.jpg',\n",
       " 'bunu arşivle.jpg',\n",
       " 'bunu elimine.jpg',\n",
       " 'üniversite kampüsü.jpg',\n",
       " 'komik değil.jpg',\n",
       " 'telefon kartı.jpg',\n",
       " 'kahve mi.jpg',\n",
       " 'elektrik yok.jpg',\n",
       " 'video filmi.jpg',\n",
       " 'taksinin markası.jpg',\n",
       " 'firmanın avukatı.jpg',\n",
       " 'problem mi.jpg',\n",
       " 'sen süpersin.jpg',\n",
       " 'aynı sen.jpg',\n",
       " 'tren tüneli.jpg',\n",
       " 'aynı değil.jpg',\n",
       " 'ben de dahil.jpg',\n",
       " 'mesaj var.jpg',\n",
       " 'telefon gibi.jpg',\n",
       " 'nabız var.jpg',\n",
       " 'bebek fotoğrafları.jpg',\n",
       " 'şey pardon.jpg',\n",
       " 'dans gibi.jpg',\n",
       " 'kredi kartı.jpg',\n",
       " 'futbol ligi.jpg',\n",
       " 'daha fazla.jpg',\n",
       " 'fonksiyonları normal.jpg',\n",
       " 'tamamen zararsız.jpg',\n",
       " 'dans için.jpg',\n",
       " 'genel alarm.jpg',\n",
       " 'klasik müzik.jpg',\n",
       " 'telefon da.jpg',\n",
       " 'daha pratik.jpg',\n",
       " 'normal değil.jpg',\n",
       " 'sen bebeksin.jpg',\n",
       " 'bu sabah.jpg',\n",
       " 'plaka numarası.jpg',\n",
       " 'vampir videosu.jpg',\n",
       " 'manyak parti.jpg',\n",
       " 'onurlu profesör.jpg',\n",
       " 'büro şefi.jpg',\n",
       " 'bu kadar.jpg',\n",
       " 'şerifin fotoğrafı.jpg',\n",
       " 'okul gazetesi.jpg',\n",
       " 'zaman var.jpg',\n",
       " 'onu steril.jpg',\n",
       " 'video konferansı.jpg',\n",
       " 'pizza servisi.jpg',\n",
       " 'fark var.jpg',\n",
       " 'mesela bunu.jpg',\n",
       " 'fiziksel form.jpg',\n",
       " 'kamera sistemi.jpg',\n",
       " 'senatörün planı.jpg',\n",
       " 'ama doktor.jpg',\n",
       " 'bomba mı.jpg',\n",
       " 'tur otobüsü.jpg',\n",
       " 'o park.jpg',\n",
       " 'turbo motor.jpg',\n",
       " 'polis değil.jpg',\n",
       " 'okul takımı.jpg',\n",
       " 'tamam sen.jpg',\n",
       " 'seni dezenfekte.jpg',\n",
       " 'şeker şey.jpg',\n",
       " 'sigara da.jpg',\n",
       " 'sigara reklamı.jpg',\n",
       " 'ihtiyacım var.jpg',\n",
       " 'lojistik operasyonlar.jpg',\n",
       " 'spor akademisi.jpg',\n",
       " 'zaten tamam.jpg',\n",
       " 'hayat basit.jpg',\n",
       " 'servet kadar.jpg',\n",
       " 'radar sinyali.jpg',\n",
       " 'asit banyosu.jpg',\n",
       " 'o hamile.jpg',\n",
       " 'polis üniforması.jpg',\n",
       " 'fotoğraf mı.jpg',\n",
       " 'aynı şey.jpg',\n",
       " 'takım sporu.jpg',\n",
       " 'evet madam.jpg',\n",
       " 'tamam mı.jpg',\n",
       " 'polis kontrolü.jpg',\n",
       " 'sinyal yok.jpg',\n",
       " 'video ünitesi.jpg',\n",
       " 'sektör avukatı.jpg',\n",
       " 'ben senatör.jpg',\n",
       " 'kahve için.jpg',\n",
       " 'robot programları.jpg',\n",
       " 'bu bebek.jpg',\n",
       " 'trene kadar.jpg',\n",
       " 'problem ne.jpg',\n",
       " 'bu fantastik.jpg',\n",
       " 'hayvan gibi.jpg',\n",
       " 'ben ajan.jpg',\n",
       " 'mutant vampir.jpg',\n",
       " 'testleri normal.jpg',\n",
       " 'merhaba ben.jpg',\n",
       " 'komik video.jpg',\n",
       " 'şans yok.jpg',\n",
       " 'park personeli.jpg',\n",
       " 'ben asla.jpg',\n",
       " 'ama mümkün.jpg',\n",
       " 'milyon kilometre.jpg',\n",
       " 'seni adi.jpg',\n",
       " 'labaratuvar raporları.jpg',\n",
       " 'elektronik posta.jpg',\n",
       " 'profesyonel mi.jpg',\n",
       " 'telefon numarası.jpg',\n",
       " 'şekerli krema.jpg',\n",
       " 'fotokopi makinesi.jpg',\n",
       " 'planlama ofisi.jpg',\n",
       " 'evet kaptan.jpg',\n",
       " 'kriz alarmı.jpg',\n",
       " 'kilo plastik.jpg',\n",
       " 'hayır patron.jpg',\n",
       " 'profesyonel lig.jpg',\n",
       " 'filme kadar.jpg',\n",
       " 'doktor değil.jpg',\n",
       " 'kahve servisi.jpg',\n",
       " 'grup lideri.jpg',\n",
       " 'şeker de.jpg',\n",
       " 'şerifin üniforması.jpg',\n",
       " 'planın riskli.jpg',\n",
       " 'listeyi kontrol.jpg',\n",
       " 'milyonlarca kilometre.jpg',\n",
       " 'şerif rozeti.jpg',\n",
       " 'üniversite rektörü.jpg',\n",
       " 'bir polis.jpg',\n",
       " 'evet tabii.jpg',\n",
       " 'adam da.jpg',\n",
       " 'grup için.jpg',\n",
       " 'zaman yok.jpg',\n",
       " 'karantina planı.jpg',\n",
       " 'bu insanlar.jpg',\n",
       " 'enstrümantal müzik.jpg',\n",
       " 'bir saniye.jpg',\n",
       " 'bebek vampir.jpg',\n",
       " 'polis notu.jpg',\n",
       " 'direkt seni.jpg',\n",
       " 'seni amatör.jpg',\n",
       " 'alo santral.jpg',\n",
       " 'alkol yok.jpg',\n",
       " 'fiziksel mutasyon.jpg',\n",
       " 'profesyonel basketbol.jpg',\n",
       " 'kilo metal.jpg',\n",
       " 'sen hariç.jpg',\n",
       " 'komik şey.jpg',\n",
       " 'balonun prensesi.jpg',\n",
       " 'sıfır saniyede.jpg',\n",
       " 'polis de.jpg',\n",
       " 'kredi limiti.jpg',\n",
       " 'o ajan.jpg',\n",
       " 'kontrol var.jpg',\n",
       " 'şeker mi.jpg',\n",
       " 'popüler şey.jpg',\n",
       " 'telefon yok.jpg',\n",
       " 'evet harika.jpg',\n",
       " 'o polis.jpg',\n",
       " 'süper polis.jpg',\n",
       " 'şanslı numara.jpg',\n",
       " 'porsiyon patates.jpg',\n",
       " 'film karakteri.jpg',\n",
       " 'posta kartı.jpg',\n",
       " 'okul üniforması.jpg',\n",
       " 'posta kamyonu.jpg',\n",
       " 'antibiyotik de.jpg',\n",
       " 'ahtapot kadar.jpg',\n",
       " 'kazadan beri.jpg',\n",
       " 'kontrol için.jpg',\n",
       " 'profesör onuruna.jpg',\n",
       " 'elektrik şoku.jpg',\n",
       " 'plaj partisi.jpg',\n",
       " 'banka kartı.jpg',\n",
       " 'seni hain.jpg',\n",
       " 'kokteyl partisi.jpg',\n",
       " 'bir doktor.jpg',\n",
       " 'beni diskalifiye.jpg',\n",
       " 'onur rozeti.jpg',\n",
       " 'o film.jpg',\n",
       " 'doktor da.jpg',\n",
       " 'mesaj ne.jpg',\n",
       " 'sen psikopatsın.jpg',\n",
       " 'fazla değil.jpg',\n",
       " 'kaptan barı.jpg',\n",
       " 'pizza mı.jpg',\n",
       " 'sürpriz kart.jpg',\n",
       " 'ama baba.jpg',\n",
       " 'polis toplantısı.jpg',\n",
       " 'sen komiksin.jpg',\n",
       " 'tamam ama.jpg',\n",
       " 'karavana kadar.jpg',\n",
       " 'banka da.jpg',\n",
       " 'bir ahbap.jpg',\n",
       " 'sen doktorsun.jpg',\n",
       " 'çok romantik.jpg',\n",
       " 'tam da.jpg',\n",
       " 'komik karakter.jpg',\n",
       " 'senatörün asistanı.jpg',\n",
       " 'çikolatalı kek.jpg',\n",
       " 'cevap hayır.jpg',\n",
       " 'sürpriz parti.jpg',\n",
       " 'onur listesi.jpg',\n",
       " 'dans değil.jpg',\n",
       " 'taksi limuzin.jpg',\n",
       " 'şampiyonluk maçı.jpg',\n",
       " 'şef ajan.jpg',\n",
       " 'bu adam.jpg',\n",
       " 'banka numarası.jpg',\n",
       " 'doktora komitesi.jpg',\n",
       " 'sürpriz paketi.jpg',\n",
       " 'daha basit.jpg',\n",
       " 'onu asla.jpg',\n",
       " 'ekip listesi.jpg',\n",
       " 'tarihten nefret.jpg',\n",
       " 'hayır baba.jpg',\n",
       " 'daha net.jpg',\n",
       " 'avukat asistanı.jpg',\n",
       " 'taksi şöforü.jpg',\n",
       " 'arkeoloji profesörü.jpg',\n",
       " 'devir beni.jpg',\n",
       " 've tekrar.jpg',\n",
       " 'bankanın şefi.jpg',\n",
       " 'aktif değil.jpg',\n",
       " 'hediye mi.jpg',\n",
       " 'polis operasyonu.jpg',\n",
       " 'avokado kadar.jpg',\n",
       " 'o bebek.jpg',\n",
       " 'bu arazi.jpg',\n",
       " 'otel telefonu.jpg',\n",
       " 'beni tehdit.jpg',\n",
       " 'müsait değil.jpg',\n",
       " 'net değil.jpg',\n",
       " 'daha temiz.jpg',\n",
       " 'problem değil.jpg',\n",
       " 'profesyonel hokey.jpg',\n",
       " 'şans mı.jpg',\n",
       " 'orjinal sinyal.jpg',\n",
       " 'romantik restoran.jpg',\n",
       " 'bunu montajla.jpg',\n",
       " 'bu müzik.jpg',\n",
       " 'psikoloji profesörü.jpg',\n",
       " 'şifre ne.jpg',\n",
       " 'çok fazla.jpg',\n",
       " 'bunu asla.jpg',\n",
       " 'bu tren.jpg',\n",
       " 'sürpriz mi.jpg',\n",
       " 'fotoğraf da.jpg',\n",
       " 'şok terapisi.jpg',\n",
       " 'hayır asla.jpg',\n",
       " 'şok video.jpg',\n",
       " 'fizik profesörü.jpg',\n",
       " 'galiba ben.jpg',\n",
       " 'test programı.jpg',\n",
       " 'seni embesil.jpg',\n",
       " 'şarap da.jpg',\n",
       " 'o mükemmel.jpg',\n",
       " 'okula kadar.jpg',\n",
       " 'psikopat manyak.jpg',\n",
       " 'otelin restoranı.jpg',\n",
       " 'doktorun telefonu.jpg',\n",
       " 'enzimleri normal.jpg',\n",
       " 'devir onu.jpg',\n",
       " 'komik ama.jpg',\n",
       " 'paket pizza.jpg',\n",
       " 'metre küp.jpg',\n",
       " 'şeker fabrikası.jpg',\n",
       " 'patates de.jpg',\n",
       " 'bu numara.jpg',\n",
       " 'doktor randevum.jpg',\n",
       " 'o adam.jpg',\n",
       " 'kablolu televizyon.jpg',\n",
       " 'benzin tankları.jpg',\n",
       " 'amatör radyo.jpg',\n",
       " 'ama elbette.jpg',\n",
       " 'ne haber.jpg',\n",
       " 'motoru kontrol.jpg',\n",
       " 'bana ait.jpg',\n",
       " 'çikolatalı pasta.jpg',\n",
       " 'telefon listesi.jpg',\n",
       " 'kilo somon.jpg',\n",
       " 'sürpriz atak.jpg',\n",
       " 'televizyon ekranı.jpg',\n",
       " 'o kaptan.jpg',\n",
       " 'metre kare.jpg',\n",
       " 'tuhaf şey.jpg',\n",
       " 'kamp sezonu.jpg',\n",
       " 'fiziksel test.jpg',\n",
       " 'video mesajı.jpg',\n",
       " 'bebek de.jpg',\n",
       " 'otelin barı.jpg',\n",
       " 'bebek penguenler.jpg',\n",
       " 'normal gibi.jpg',\n",
       " 'dijital kamera.jpg',\n",
       " 'kremalı kahve.jpg',\n",
       " 'psikopat tipi.jpg',\n",
       " 'artist şey.jpg',\n",
       " 'ne şans.jpg',\n",
       " 'posta ofisi.jpg',\n",
       " 'ben de ciddiyim.jpg',\n",
       " 'motor fabrikası.jpg',\n",
       " 'pudra şekeri.jpg',\n",
       " 'bilhassa onu.jpg',\n",
       " 'manyak film.jpg',\n",
       " 'bomba gibi.jpg',\n",
       " 'o hazır.jpg',\n",
       " 'zevk için.jpg',\n",
       " 'üniversite diploması.jpg',\n",
       " 'konser bileti.jpg',\n",
       " 'doktorun numarası.jpg',\n",
       " 'bebek mi.jpg',\n",
       " 'maç bileti.jpg',\n",
       " 'vampir antijeni.jpg',\n",
       " 'bu telefon.jpg',\n",
       " 'elbette hayır.jpg',\n",
       " 'matematik profesörü.jpg',\n",
       " 'bunu deşifre.jpg',\n",
       " 'elektrik sinyalleri.jpg',\n",
       " 'alkol testi.jpg',\n",
       " 'avukatın numarası.jpg',\n",
       " 'ben kaptan.jpg',\n",
       " 'fotoğraf ofisi.jpg',\n",
       " 'sen profesörsün.jpg',\n",
       " 'sürpriz bebek.jpg',\n",
       " 'bunu analiz.jpg',\n",
       " 'video sistemi.jpg',\n",
       " 'ne kadar.jpg',\n",
       " 'problem var.jpg',\n",
       " 'enerji santrali.jpg',\n",
       " 'mesela sen.jpg',\n",
       " 'bira mı.jpg',\n",
       " 'ben doktor.jpg',\n",
       " 'diskoda dans.jpg',\n",
       " 'zerre kadar.jpg',\n",
       " 'sinema sistemi.jpg',\n",
       " 'polis tipli.jpg',\n",
       " 'merhaba de.jpg',\n",
       " 'bir telefon.jpg',\n",
       " 'daha bebek.jpg',\n",
       " 'kasabadan nefret.jpg',\n",
       " 'ne zamandır.jpg',\n",
       " 'berber randevum.jpg',\n",
       " 'otelin telefonu.jpg',\n",
       " 'psikolojik problemler.jpg',\n",
       " 'alerjik şok.jpg',\n",
       " 'şef de.jpg',\n",
       " 'sihir gibi.jpg',\n",
       " 'kahve çikolata.jpg',\n",
       " 'seni ahmak.jpg',\n",
       " 'sabah haberleri.jpg',\n",
       " 'süper model.jpg',\n",
       " 'onur komitesi.jpg',\n",
       " 'prenses kostümü.jpg',\n",
       " 'ajan rolü.jpg',\n",
       " 'saniye tamam.jpg',\n",
       " 'balistik raporu.jpg',\n",
       " 'matematik problemi.jpg',\n",
       " 'aynı ben.jpg',\n",
       " 've kayıt.jpg',\n",
       " 'ne sürpriz.jpg',\n",
       " 'kilometre kare.jpg',\n",
       " 'radyo programı.jpg',\n",
       " 'bir kere.jpg',\n",
       " 'o bina.jpg',\n",
       " 'sigara mı.jpg',\n",
       " 'operasyon ekipmanı.jpg',\n",
       " 'entellektüel tipler.jpg',\n",
       " 've motor.jpg',\n",
       " 'çok leziz.jpg',\n",
       " 'şifreli mesaj.jpg',\n",
       " 'grup aktivitesi.jpg',\n",
       " 'prenses kalesi.jpg',\n",
       " 'süper bebek.jpg',\n",
       " 'şerifin bürosu.jpg',\n",
       " 'sezon finali.jpg',\n",
       " 'tansiyonu normale.jpg',\n",
       " 'test negatif.jpg',\n",
       " 'hayvan kadar.jpg',\n",
       " 'stratejik planlama.jpg',\n",
       " 'bu fotoğraf.jpg',\n",
       " 'medya patronu.jpg',\n",
       " 'evet bebek.jpg',\n",
       " 'fotoğraf makineleri.jpg',\n",
       " 'espresso makinesi.jpg',\n",
       " 'kriz riski.jpg',\n",
       " 'telefon bana.jpg',\n",
       " 'ama profesör.jpg',\n",
       " 'kilo metre.jpg',\n",
       " 'amerikan futbolu.jpg',\n",
       " 'kilometrelik tünel.jpg',\n",
       " 'finansal planlar.jpg',\n",
       " 'intikam yemini.jpg',\n",
       " 'karavan kadar.jpg',\n",
       " 'manyak grup.jpg',\n",
       " 'evet normal.jpg',\n",
       " 'bana lazım.jpg',\n",
       " 'takım otobüsü.jpg',\n",
       " 'fonksiyonlar normal.jpg',\n",
       " 'vagon numarası.jpg',\n",
       " 'ekspres tren.jpg',\n",
       " 'pizza paketi.jpg',\n",
       " 'bunu kabul.jpg',\n",
       " 'fiziksel reaksiyon.jpg',\n",
       " 've profesör.jpg',\n",
       " 'beni analiz.jpg',\n",
       " 'romantik not.jpg',\n",
       " 'estetik operasyonlar.jpg',\n",
       " 'evet süper.jpg',\n",
       " 'parka kadar.jpg',\n",
       " 'benim için.jpg',\n",
       " 'profesör de.jpg',\n",
       " 'sen şefsin.jpg',\n",
       " 'okul projesi.jpg',\n",
       " 'sen babasın.jpg',\n",
       " 'filtreli sigara.jpg',\n",
       " 'tipik şey.jpg',\n",
       " 'süper ajan.jpg',\n",
       " 've patates.jpg',\n",
       " 'kaza mı.jpg',\n",
       " 'bir adet.jpg',\n",
       " 'polis yok.jpg',\n",
       " 'evet tamam.jpg',\n",
       " 'komik roller.jpg',\n",
       " 've kahve.jpg',\n",
       " 'sosyalist parti.jpg',\n",
       " 'otobüs turu.jpg',\n",
       " 'beni anons.jpg',\n",
       " 'vize problemi.jpg',\n",
       " 'park fişi.jpg',\n",
       " 've çikolata.jpg',\n",
       " 'grup şeması.jpg',\n",
       " 'orijinal plan.jpg',\n",
       " 'elveda de.jpg',\n",
       " 've şeker.jpg',\n",
       " 'bebek için.jpg',\n",
       " 'daha kaliteli.jpg',\n",
       " 'spor federasyonu.jpg',\n",
       " 'rol modeli.jpg',\n",
       " 'bir dolar.jpg',\n",
       " 'çok şeker.jpg',\n",
       " 'çikolata fabrikası.jpg',\n",
       " 'ne tuhaf.jpg',\n",
       " 'grup dansı.jpg',\n",
       " 'polis mi.jpg',\n",
       " 'kahve sigara.jpg',\n",
       " 'grup şeması.jpg',\n",
       " 'romantik müzik.jpg',\n",
       " 'ben profesör.jpg',\n",
       " 'sistemler normal.jpg',\n",
       " 'psikolojik mesaj.jpg',\n",
       " 'plan ne.jpg',\n",
       " 'şans değil.jpg',\n",
       " 'metal plaka.jpg',\n",
       " 'narkotik ajanı.jpg',\n",
       " 'evet general.jpg',\n",
       " 'senaryo notları.jpg',\n",
       " 'evet şerif.jpg',\n",
       " 'paket şekerleme.jpg',\n",
       " 'kovboy filmi.jpg',\n",
       " 'komik mesaj.jpg',\n",
       " 'çok hafif.jpg',\n",
       " 'sistem kontrolü.jpg',\n",
       " 'genetik profesörü.jpg',\n",
       " 'peri prensesi.jpg',\n",
       " 'mikroskopik robotlar.jpg',\n",
       " 'çikolata mı.jpg',\n",
       " 'nöbetçiler dikkat.jpg',\n",
       " 'beni şok.jpg',\n",
       " 'bebek var.jpg',\n",
       " 'romantik atmosfer.jpg',\n",
       " 'komik tipler.jpg',\n",
       " 'çok pardon.jpg',\n",
       " 'radyo frekansı.jpg',\n",
       " 'banka kasası.jpg',\n",
       " 'telefonla randevu.jpg',\n",
       " 'avukatlar ofisi.jpg',\n",
       " 'telesekretere not.jpg',\n",
       " 'motor da.jpg',\n",
       " 'bomba aktif.jpg',\n",
       " 'şaka mı.jpg',\n",
       " 'polis raporu.jpg',\n",
       " 'futbol antrenmanı.jpg',\n",
       " 'entelektüel tipler.jpg',\n",
       " 'basit fikir.jpg',\n",
       " 'elektrik motorları.jpg',\n",
       " 'trafik polisi.jpg',\n",
       " 'pijama partisi.jpg',\n",
       " 'manyak avukat.jpg',\n",
       " 'seni barbar.jpg',\n",
       " 'majesteleri prenses.jpg',\n",
       " 'hazır mı.jpg',\n",
       " 'garip mi.jpg',\n",
       " 'sen patronsun.jpg',\n",
       " 'alo polis.jpg',\n",
       " 'spor mağazası.jpg',\n",
       " 'tur programı.jpg',\n",
       " 'kilo patates.jpg',\n",
       " 'evet baba.jpg',\n",
       " 've dans.jpg',\n",
       " 'çikolata sürprizi.jpg',\n",
       " 'bir dakika.jpg',\n",
       " 'senin için.jpg',\n",
       " 'rutin kontrol.jpg',\n",
       " 'direkt bana.jpg',\n",
       " 'mafya patronu.jpg',\n",
       " 'çok kitap.jpg',\n",
       " 'final maçı.jpg',\n",
       " 'temiz mi.jpg',\n",
       " 'turist otobüsü.jpg',\n",
       " 'sperm bankası.jpg',\n",
       " 'zavallı şey.jpg',\n",
       " 'doktorun ofisi.jpg',\n",
       " 'ben şerif.jpg',\n",
       " 'onu rapor.jpg',\n",
       " 'mesela beni.jpg',\n",
       " 'spor istatistikleri.jpg',\n",
       " 'beyzbol sezonu.jpg',\n",
       " 'polis gibi.jpg',\n",
       " 'alo otel.jpg',\n",
       " 've müzik.jpg',\n",
       " 'haberlerim var.jpg',\n",
       " 'zafer için.jpg',\n",
       " 'vay süper.jpg',\n",
       " 'çok elbise.jpg',\n",
       " 'eminim tabii.jpg',\n",
       " 'avukat da.jpg',\n",
       " 'pantolon da.jpg',\n",
       " 'kilo nektar.jpg',\n",
       " 'çok süper.jpg',\n",
       " 'labaratuvar notları.jpg',\n",
       " 'dünya kadar.jpg',\n",
       " 'hayır mösyö.jpg',\n",
       " 'bana muhtaç.jpg',\n",
       " 'elektrik problemi.jpg',\n",
       " 'film banyosu.jpg',\n",
       " 'manyak numara.jpg',\n",
       " 'taksinin bagajı.jpg',\n",
       " 'şövalye prenses.jpg',\n",
       " 'tam değil.jpg',\n",
       " 'o kitap.jpg',\n",
       " 'motorlar stop.jpg',\n",
       " 'grup terapi.jpg',\n",
       " 'makineleri kontrol.jpg',\n",
       " 'alarm şifresi.jpg',\n",
       " 'elektrik santrali.jpg',\n",
       " 'gaz bombası.jpg',\n",
       " 'çikolatlı puding.jpg',\n",
       " 'mesaj servisi.jpg',\n",
       " 'labirent gibi.jpg',\n",
       " 'lanet şey.jpg',\n",
       " 'sen manyaksın.jpg',\n",
       " 'problem yok.jpg',\n",
       " 'seni budala.jpg',\n",
       " 'ders için.jpg',\n",
       " 'grup fotoğrafı.jpg',\n",
       " 'posta kodu.jpg',\n",
       " 'çok kalabalık.jpg',\n",
       " 'çikolatalı bana.jpg',\n",
       " 'posta servisi.jpg',\n",
       " 'tamam bunu.jpg',\n",
       " 'tren rayı.jpg',\n",
       " 'komik tipi.jpg',\n",
       " 'prensin prensesi.jpg',\n",
       " 'siber ajan.jpg',\n",
       " 'bu doktor.jpg',\n",
       " 'doktora akademik.jpg',\n",
       " 'treni kontrol.jpg',\n",
       " 'gaz maskesi.jpg',\n",
       " 'daha romantik.jpg',\n",
       " 'vampir filmi.jpg',\n",
       " 'senatörün kampanyası.jpg',\n",
       " 'okul için.jpg',\n",
       " 'telefon var.jpg',\n",
       " 'çok rahat.jpg',\n",
       " 'evet patron.jpg',\n",
       " 'normal mi.jpg',\n",
       " 'genel karantina.jpg',\n",
       " 'otobüs bileti.jpg',\n",
       " 'kahve yok.jpg',\n",
       " 'enfeksiyon riski.jpg',\n",
       " 'çok komik.jpg',\n",
       " 'beyzbol takımı.jpg',\n",
       " 'bu taraf.jpg',\n",
       " 'ben baba.jpg',\n",
       " 'film mi.jpg',\n",
       " 'bana şeker.jpg',\n",
       " 'paralel park.jpg',\n",
       " 'dans partisi.jpg',\n",
       " 'cevap yok.jpg',\n",
       " 'hayır profesör.jpg',\n",
       " 'bu film.jpg',\n",
       " 'akademik doktora.jpg',\n",
       " 'onu şarj.jpg',\n",
       " 'daha normal.jpg',\n",
       " 'rozet numarası.jpg',\n",
       " 'otelin numarası.jpg',\n",
       " 'nükleer reaksiyon.jpg',\n",
       " 'şerifin ofisi.jpg',\n",
       " 'evet doktor.jpg',\n",
       " 'bebek gibi.jpg',\n",
       " 'banyo küveti.jpg',\n",
       " 'nabız yok.jpg',\n",
       " 'sen çakalsın.jpg',\n",
       " 'zaman lazım.jpg',\n",
       " 'banka kredisi.jpg',\n",
       " 'şerif üniforması.jpg',\n",
       " 'personel şefi.jpg',\n",
       " 'paket çikolata.jpg',\n",
       " 'bir kahve.jpg',\n",
       " 'klasik taksi.jpg',\n",
       " 'elektrik faturası.jpg',\n",
       " 'o normal.jpg',\n",
       " 'vay şanslı.jpg',\n",
       " 'hayır şef.jpg',\n",
       " 'şampiyon.jpg',\n",
       " 'mobil ekip.jpg',\n",
       " 'telefon sinyali.jpg',\n",
       " 'trafik raporu.jpg',\n",
       " 'pasta kreması.jpg',\n",
       " 'melek gibi.jpg',\n",
       " 'elbette ben.jpg',\n",
       " 'süper robot.jpg',\n",
       " 'patronun bürosu.jpg',\n",
       " 'ajan filmleri.jpg',\n",
       " 'vampir rolü.jpg',\n",
       " 'şans küpü.jpg',\n",
       " 'park bileti.jpg',\n",
       " 'manyak şey.jpg',\n",
       " 'radyo mesajı.jpg',\n",
       " 'bebek yok.jpg',\n",
       " 'sistem alarmı.jpg',\n",
       " 'pasta mı.jpg',\n",
       " 'şifreli notlar.jpg',\n",
       " 'sondaj makinesi.jpg',\n",
       " 'planlama şefi.jpg',\n",
       " 'avukatlık bürosu.jpg',\n",
       " 'şans kolyesi.jpg',\n",
       " 'pardon da.jpg',\n",
       " 'sezon şampiyonu.jpg',\n",
       " 'bu komik.jpg',\n",
       " 'seni hipnotize.jpg',\n",
       " 'profesyonel boks.jpg',\n",
       " 'bravo bana.jpg',\n",
       " 'onu kamufle.jpg',\n",
       " 'prenses de.jpg',\n",
       " 'futbol stadyumu.jpg',\n",
       " 'kafeinsiz kahve.jpg',\n",
       " 've hazır.jpg',\n",
       " 'maalesef hayır.jpg',\n",
       " 'çok enteresan.jpg',\n",
       " 'kremalı pasta.jpg',\n",
       " 'üniversite profesörü.jpg',\n",
       " 'otobüs şoförü.jpg',\n",
       " 'plaza otel.jpg',\n",
       " 'o müzik.jpg',\n",
       " 'avukatlık firması.jpg',\n",
       " 'hayır şerif.jpg',\n",
       " 'onu aktive.jpg',\n",
       " 'ben hallederim.jpg',\n",
       " 'dolar riski.jpg',\n",
       " 'tamam de.jpg',\n",
       " 'park servisi.jpg',\n",
       " 'banka çeki.jpg',\n",
       " 'bir adam.jpg',\n",
       " 'şans perisi.jpg',\n",
       " 'metal detektörü.jpg',\n",
       " 'ama polis.jpg',\n",
       " 'evet ahbap.jpg',\n",
       " 'matematik problemleri.jpg',\n",
       " 'telefonun şarjı.jpg',\n",
       " 'makine gibi.jpg',\n",
       " 'hokey sezonu.jpg',\n",
       " 'onu kontrol.jpg',\n",
       " 'zaman da.jpg',\n",
       " 'tuhaf insanlar.jpg',\n",
       " 'fikrim var.jpg',\n",
       " 'adalet için.jpg',\n",
       " 'telefon santrali.jpg',\n",
       " 'evet şef.jpg',\n",
       " 'polis var.jpg',\n",
       " 'ben general.jpg',\n",
       " 'otopsi raporu.jpg',\n",
       " 'bu polis.jpg',\n",
       " 'salamlı pizza.jpg',\n",
       " 'pasta şefi.jpg',\n",
       " 'daha sakin.jpg',\n",
       " 'film gibi.jpg',\n",
       " 'tabii ama.jpg',\n",
       " 'hayır doktor.jpg',\n",
       " 'onu tamir.jpg',\n",
       " 'romantik şey.jpg',\n",
       " 'beni afişe.jpg',\n",
       " 'teknik direktör.jpg',\n",
       " 'parti mi.jpg',\n",
       " 'komik mi.jpg',\n",
       " 'garaja park.jpg',\n",
       " 'genel direktör.jpg',\n",
       " 'telefon mesajları.jpg',\n",
       " 'mesaj panosu.jpg',\n",
       " 'mobil telefon.jpg',\n",
       " 'şifreli not.jpg',\n",
       " 'park metre.jpg',\n",
       " 'kaptan kontrol.jpg',\n",
       " 'hareket var.jpg',\n",
       " 'süper dansçı.jpg',\n",
       " 'enteresan süpriz.jpg',\n",
       " 'anormal şey.jpg',\n",
       " 'hata yok.jpg',\n",
       " 'pardon ama.jpg',\n",
       " 'selam de.jpg',\n",
       " 'bebek süper.jpg',\n",
       " 'masaj randevum.jpg']"
      ]
     },
     "execution_count": 57,
     "metadata": {},
     "output_type": "execute_result"
    }
   ],
   "source": [
    "file_list = os.listdir(image_file_path)\n",
    "file_list"
   ]
  },
  {
   "cell_type": "code",
   "execution_count": 58,
   "metadata": {},
   "outputs": [],
   "source": [
    "#for file in df[\"word\"]:\n",
    "for file in file_list:    \n",
    "    source_file = f\"{image_file_path}/{file}\"\n",
    "    destination_path = f\"{image_file_path_new}\"        \n",
    "    shutil.copy2(source_file, destination_path)\n",
    "    os.remove(source_file)\n",
    "    source_dest_file = f\"{destination_path}/{file}\"\n",
    "    target_dest_file = f\"{destination_path}/{file}\"\n",
    "    os.rename(source_dest_file, target_dest_file)"
   ]
  },
  {
   "cell_type": "code",
   "execution_count": null,
   "metadata": {},
   "outputs": [],
   "source": []
  },
  {
   "cell_type": "code",
   "execution_count": null,
   "metadata": {},
   "outputs": [],
   "source": []
  }
 ],
 "metadata": {
  "kernelspec": {
   "display_name": "Python 3.9.5 ('py39')",
   "language": "python",
   "name": "python3"
  },
  "language_info": {
   "codemirror_mode": {
    "name": "ipython",
    "version": 3
   },
   "file_extension": ".py",
   "mimetype": "text/x-python",
   "name": "python",
   "nbconvert_exporter": "python",
   "pygments_lexer": "ipython3",
   "version": "3.9.5"
  },
  "vscode": {
   "interpreter": {
    "hash": "651d507d70892fab0fc6529d935cd476f6e2eb1791525b76da6cc8da34bc0503"
   }
  }
 },
 "nbformat": 4,
 "nbformat_minor": 2
}
