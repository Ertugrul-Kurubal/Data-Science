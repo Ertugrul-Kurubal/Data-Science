{
 "cells": [
  {
   "cell_type": "markdown",
   "metadata": {},
   "source": [
    "### Image File Rename"
   ]
  },
  {
   "cell_type": "code",
   "execution_count": 1,
   "metadata": {},
   "outputs": [],
   "source": [
    "#!pip install regex --upgrade"
   ]
  },
  {
   "cell_type": "code",
   "execution_count": 2,
   "metadata": {},
   "outputs": [],
   "source": [
    "#!pip install --upgrade pip"
   ]
  },
  {
   "cell_type": "code",
   "execution_count": 1,
   "metadata": {},
   "outputs": [],
   "source": [
    "import sys\n",
    "import codecs"
   ]
  },
  {
   "cell_type": "code",
   "execution_count": 2,
   "metadata": {},
   "outputs": [],
   "source": [
    "sys.stdout = codecs.getwriter('utf8')(sys.stdout)\n",
    "sys.stderr = codecs.getwriter('utf8')(sys.stderr)"
   ]
  },
  {
   "cell_type": "code",
   "execution_count": 1,
   "metadata": {},
   "outputs": [],
   "source": [
    "import os\n",
    "import sys\n",
    "import re\n",
    "import numpy as np\n",
    "import pandas as pd\n",
    "from pathlib import Path\n",
    "import nltk\n",
    "from nltk import word_tokenize\n",
    "import shutil\n",
    "from os.path import isfile, join"
   ]
  },
  {
   "cell_type": "code",
   "execution_count": 2,
   "metadata": {},
   "outputs": [],
   "source": [
    "# custom character alphabet for word\n",
    "tr = re.compile(r\"[abcçdefgğhıijklmnoöprsştuüvyzqxw]+\", re.IGNORECASE|re.UNICODE) # Turkish filters='!\"#$%&()*+,-./:;<=>?@[\\\\]^_`{|}~\\t\\n0123456789'\n",
    "en = re.compile(r\"[abcdefghıijklmnopqrstxuvwyz]+\", re.IGNORECASE|re.UNICODE) # English\n",
    "nl = re.compile(r\"[abcdefghıijklmnopqrstxuvwyzāăēĕīĭōŏūŭ]+\", re.IGNORECASE|re.UNICODE) # Dutch (Flemenk)\n",
    "fr = re.compile(r\"[abcçdefghıijklmnopqrstxuvwyzàâæèéêëîïôœùûüÿ]+\", re.IGNORECASE|re.UNICODE) # French\n",
    "de = re.compile(r\"[abcdefghıijklmnopqrstxuvwyzäöüß]+\", re.IGNORECASE|re.UNICODE) # German\n",
    "es = re.compile(r\"[abcdefghıijklmnopqrstxuvwyzñáéíóú]+\", re.IGNORECASE|re.UNICODE) # Spanish (¿¡)\n",
    "pt = re.compile(r\"[abcçdefghıijklmnopqrstxuvwyzàáâãéêíóôõú]+\", re.IGNORECASE|re.UNICODE) # Portuguese\n",
    "it = re.compile(r\"[abcdefghıijklmnopqrstxuvwyzàéèìòùî]+\", re.IGNORECASE|re.UNICODE) # Italian\n",
    "ar = re.compile(r\"[ٿصؼۤڳڲؿڎػڠجڿ٬ٸؽؒؓطۄڀۂؘؔتٚڛےٝڜؖڦ٫ډ۰زۇٖۀ،لۓعٮێڔ۶ؚۧۜڤۏإٞٷؗۖ؈ژۣؕؑٴأۻڸۺگاڴڹۯ؉ْڌ؍ي؟ـٟړۅؐڶُىڽېًۢؠضۚڄٛڏٱۦ٩س٦ڼڂٔۘ٠ښٌٍ۬ٳ۾ٲږذۋٵٜ٘ڞڅںٗهڣۿپڒۥۗڋیؙم؞ثۨٹڵڪظٶۭ١ڭەڨحٕ؎ٺڷٰ۪۫ڻڥۛڑڟټآڡغګ؊ّٯڧڮ؏ۮ؋ؤ٪ؾڗۼق۟دکوِڰڐۃ۽ہفرڇچڝ۴بۈٽڕۡھةٓڃئ؛ڬٙڙڢڱۊَۆۉځ۠ۍۑۙڊنءڈٻشڍ؇۵كخ\\ا]+\", re.IGNORECASE|re.UNICODE) # Arabic"
   ]
  },
  {
   "cell_type": "code",
   "execution_count": 3,
   "metadata": {},
   "outputs": [
    {
     "name": "stdout",
     "output_type": "stream",
     "text": [
      "Turkish\n",
      "re.compile('[abcçdefgğhıijklmnoöprsştuüvyzqxw]+', re.IGNORECASE)\n"
     ]
    }
   ],
   "source": [
    "folder_name = \"Turkish\"  # English, Turkish, German, French, Spanish, Arabic, Portuguese, Dutch, Italian\n",
    " \n",
    "if folder_name == \"English\":\n",
    "    custom_alp = en\n",
    "elif folder_name == \"Turkish\":\n",
    "    custom_alp = tr\n",
    "elif folder_name == \"German\":\n",
    "    custom_alp = de\n",
    "elif folder_name == \"French\":\n",
    "    custom_alp = fr\n",
    "elif folder_name == \"Spanish\":\n",
    "    custom_alp = es\n",
    "elif folder_name == \"Arabic\":\n",
    "    custom_alp = ar\n",
    "elif folder_name == \"Portuguese\":\n",
    "    custom_alp = pt\n",
    "elif folder_name == \"Dutch\":\n",
    "    custom_alp = nl\n",
    "elif folder_name == \"Italian\":\n",
    "    custom_alp = it\n",
    "else:\n",
    "    pass\n",
    "#custom_alp = tr  # en, tr, de, fr, es, ar, pt, nl, it\n",
    "print(f\"{folder_name}\\n{custom_alp}\") "
   ]
  },
  {
   "cell_type": "code",
   "execution_count": 4,
   "metadata": {},
   "outputs": [],
   "source": [
    "def clean_text(text, custom_alp):  # def clean_text(text)\n",
    "    #text_clean = re.findall(custom_alp, text)\n",
    "    text_clean = re.findall(custom_alp, str(text))\n",
    "    text_result = \" \".join(text_clean)\n",
    "    return text_result"
   ]
  },
  {
   "cell_type": "code",
   "execution_count": 5,
   "metadata": {},
   "outputs": [],
   "source": [
    "test_text = \"ali3 atağ bal çık İlik ılIk Şart değiş12\""
   ]
  },
  {
   "cell_type": "code",
   "execution_count": 6,
   "metadata": {},
   "outputs": [],
   "source": [
    "test_text2 = \"kahve için (2)\""
   ]
  },
  {
   "cell_type": "code",
   "execution_count": 7,
   "metadata": {},
   "outputs": [
    {
     "data": {
      "text/plain": [
       "'kahve için (2)'"
      ]
     },
     "execution_count": 7,
     "metadata": {},
     "output_type": "execute_result"
    }
   ],
   "source": [
    "test_text23 = test_text2.encode(encoding = 'UTF-8')\n",
    "test_text24 = test_text23.decode(encoding = 'UTF-8')\n",
    "test_text24"
   ]
  },
  {
   "cell_type": "code",
   "execution_count": 8,
   "metadata": {},
   "outputs": [],
   "source": [
    "test_text3 = \"kahve için (2)\""
   ]
  },
  {
   "cell_type": "code",
   "execution_count": 9,
   "metadata": {},
   "outputs": [],
   "source": [
    "string_utf = test_text3.encode()"
   ]
  },
  {
   "cell_type": "code",
   "execution_count": 10,
   "metadata": {},
   "outputs": [
    {
     "name": "stdout",
     "output_type": "stream",
     "text": [
      "The encoded version is: b'kahve ic\\xcc\\xa7in (2)'\n"
     ]
    }
   ],
   "source": [
    "print('The encoded version is:', string_utf)"
   ]
  },
  {
   "cell_type": "code",
   "execution_count": 11,
   "metadata": {},
   "outputs": [
    {
     "data": {
      "text/plain": [
       "'kahve için (2)'"
      ]
     },
     "execution_count": 11,
     "metadata": {},
     "output_type": "execute_result"
    }
   ],
   "source": [
    "test_text34 = test_text3.encode(encoding = 'UTF-8')\n",
    "test_text35 = test_text34.decode(encoding = 'UTF-8')\n",
    "test_text35"
   ]
  },
  {
   "cell_type": "code",
   "execution_count": 12,
   "metadata": {},
   "outputs": [
    {
     "data": {
      "text/plain": [
       "['ali', 'atağ', 'bal', 'çık', 'İlik', 'ılIk', 'Şart', 'değiş']"
      ]
     },
     "execution_count": 12,
     "metadata": {},
     "output_type": "execute_result"
    }
   ],
   "source": [
    "re.findall(custom_alp, str(test_text))"
   ]
  },
  {
   "cell_type": "code",
   "execution_count": 13,
   "metadata": {},
   "outputs": [
    {
     "data": {
      "text/plain": [
       "['kahve', 'için']"
      ]
     },
     "execution_count": 13,
     "metadata": {},
     "output_type": "execute_result"
    }
   ],
   "source": [
    "re.findall(custom_alp, str(test_text2))"
   ]
  },
  {
   "cell_type": "code",
   "execution_count": 14,
   "metadata": {},
   "outputs": [
    {
     "data": {
      "text/plain": [
       "['kahve', 'ic', 'in']"
      ]
     },
     "execution_count": 14,
     "metadata": {},
     "output_type": "execute_result"
    }
   ],
   "source": [
    "re.findall(custom_alp, str(test_text3))"
   ]
  },
  {
   "cell_type": "code",
   "execution_count": 15,
   "metadata": {},
   "outputs": [
    {
     "data": {
      "text/plain": [
       "['kahve', 'için']"
      ]
     },
     "execution_count": 15,
     "metadata": {},
     "output_type": "execute_result"
    }
   ],
   "source": [
    "re.findall(custom_alp, str(test_text24))"
   ]
  },
  {
   "cell_type": "code",
   "execution_count": 16,
   "metadata": {},
   "outputs": [
    {
     "data": {
      "text/plain": [
       "['kahve', 'ic', 'in']"
      ]
     },
     "execution_count": 16,
     "metadata": {},
     "output_type": "execute_result"
    }
   ],
   "source": [
    "re.findall(custom_alp, str(test_text35))"
   ]
  },
  {
   "cell_type": "code",
   "execution_count": 17,
   "metadata": {},
   "outputs": [
    {
     "data": {
      "text/plain": [
       "'ali atağ bal çık İlik ılIk Şart değiş'"
      ]
     },
     "execution_count": 17,
     "metadata": {},
     "output_type": "execute_result"
    }
   ],
   "source": [
    "clean_text(test_text, custom_alp)"
   ]
  },
  {
   "cell_type": "code",
   "execution_count": 18,
   "metadata": {},
   "outputs": [
    {
     "data": {
      "text/plain": [
       "'kahve için'"
      ]
     },
     "execution_count": 18,
     "metadata": {},
     "output_type": "execute_result"
    }
   ],
   "source": [
    "clean_text(test_text2, custom_alp)"
   ]
  },
  {
   "cell_type": "code",
   "execution_count": 19,
   "metadata": {},
   "outputs": [
    {
     "data": {
      "text/plain": [
       "'kahve ic in'"
      ]
     },
     "execution_count": 19,
     "metadata": {},
     "output_type": "execute_result"
    }
   ],
   "source": [
    "clean_text(test_text3, custom_alp)"
   ]
  },
  {
   "cell_type": "code",
   "execution_count": 20,
   "metadata": {},
   "outputs": [
    {
     "data": {
      "text/plain": [
       "'kahve için'"
      ]
     },
     "execution_count": 20,
     "metadata": {},
     "output_type": "execute_result"
    }
   ],
   "source": [
    "clean_text(test_text24, custom_alp)"
   ]
  },
  {
   "cell_type": "code",
   "execution_count": 21,
   "metadata": {},
   "outputs": [
    {
     "data": {
      "text/plain": [
       "'kahve ic in'"
      ]
     },
     "execution_count": 21,
     "metadata": {},
     "output_type": "execute_result"
    }
   ],
   "source": [
    "clean_text(test_text35, custom_alp)"
   ]
  },
  {
   "cell_type": "code",
   "execution_count": 22,
   "metadata": {},
   "outputs": [],
   "source": [
    "def clean_text2(text, custom_alp):  # def clean_text(text)\n",
    "    #text_clean = re.findall(custom_alp, text)\n",
    "    text_clean = re.findall(custom_alp, str(text))\n",
    "    text_result = \" \".join(text_clean)\n",
    "    return text_result"
   ]
  },
  {
   "cell_type": "code",
   "execution_count": null,
   "metadata": {},
   "outputs": [],
   "source": []
  },
  {
   "cell_type": "code",
   "execution_count": 37,
   "metadata": {},
   "outputs": [],
   "source": [
    "image_file_path = \"/home/kurubal/Downloads/Temp/2 Gram Photos\"\n",
    "image_file_path_new = \"/home/kurubal/Downloads/Temp/2 Gram Photos New\"\n",
    "Path(image_file_path_new).mkdir(parents=True, exist_ok=True)"
   ]
  },
  {
   "cell_type": "code",
   "execution_count": 38,
   "metadata": {},
   "outputs": [],
   "source": [
    "file_list = os.listdir(image_file_path)\n",
    "#file_list"
   ]
  },
  {
   "cell_type": "code",
   "execution_count": null,
   "metadata": {},
   "outputs": [],
   "source": []
  },
  {
   "cell_type": "code",
   "execution_count": 39,
   "metadata": {},
   "outputs": [],
   "source": [
    "for file in file_list:\n",
    "    # file and extention\n",
    "    file_without_ext = os.path.splitext(file)[0]\n",
    "    file_ext = os.path.splitext(file)[1]\n",
    "    # file clean and join\n",
    "    file_without_ext_clean = clean_text(file_without_ext, custom_alp)\n",
    "    word_list = word_tokenize(file_without_ext_clean)\n",
    "    file_without_ext_new = \" \".join(word_list)\n",
    "    file_new = f\"{file_without_ext_new}{file_ext}\"\n",
    "    # check move rename delete\n",
    "    if isfile(f\"{image_file_path_new}/{file_new}\"):\n",
    "        pass\n",
    "    else:\n",
    "        source_file = f\"{image_file_path}/{file}\"\n",
    "        destination_path = f\"{image_file_path_new}\"        \n",
    "        shutil.copy2(source_file, destination_path)\n",
    "        os.remove(source_file)\n",
    "        source_dest_file = f\"{destination_path}/{file}\"\n",
    "        target_dest_file = f\"{destination_path}/{file_new}\"\n",
    "        os.rename(source_dest_file, target_dest_file)\n",
    "\n",
    "\n",
    "\n",
    "#dest_rename = f\"{image_file_path_new}/{file}{file_ext}\"\n",
    "#    source = f\"{image_file_path}/{file}\"\n",
    "#    dest = f\"{image_file_path}/{file}{file_ext}\"\n",
    "#    if isfile(dest):\n",
    "#        pass\n",
    "#    else:\n",
    "#        os.rename(source, dest)"
   ]
  },
  {
   "cell_type": "code",
   "execution_count": 28,
   "metadata": {},
   "outputs": [
    {
     "data": {
      "text/plain": [
       "'kahve için (2).jpg'"
      ]
     },
     "execution_count": 28,
     "metadata": {},
     "output_type": "execute_result"
    }
   ],
   "source": [
    "file_list[28]"
   ]
  },
  {
   "cell_type": "code",
   "execution_count": 33,
   "metadata": {},
   "outputs": [
    {
     "data": {
      "text/plain": [
       "'kahve için (2)'"
      ]
     },
     "execution_count": 33,
     "metadata": {},
     "output_type": "execute_result"
    }
   ],
   "source": [
    "text1 = os.path.splitext(file_list[28])[0].encode(\"utf8\").decode()\n",
    "text1"
   ]
  },
  {
   "cell_type": "code",
   "execution_count": 34,
   "metadata": {},
   "outputs": [
    {
     "data": {
      "text/plain": [
       "['kahve', 'ic', 'in']"
      ]
     },
     "execution_count": 34,
     "metadata": {},
     "output_type": "execute_result"
    }
   ],
   "source": [
    "text_clean = re.findall(custom_alp, str(text1))\n",
    "text_clean"
   ]
  },
  {
   "cell_type": "code",
   "execution_count": 35,
   "metadata": {},
   "outputs": [],
   "source": [
    "text_result = \" \".join(text_clean)"
   ]
  },
  {
   "cell_type": "code",
   "execution_count": 36,
   "metadata": {},
   "outputs": [
    {
     "data": {
      "text/plain": [
       "'.jpg'"
      ]
     },
     "execution_count": 36,
     "metadata": {},
     "output_type": "execute_result"
    }
   ],
   "source": [
    "os.path.splitext(file_list[7])[1]"
   ]
  },
  {
   "cell_type": "code",
   "execution_count": 107,
   "metadata": {},
   "outputs": [],
   "source": [
    "txt = \"My name is Ståle\""
   ]
  },
  {
   "cell_type": "code",
   "execution_count": 108,
   "metadata": {},
   "outputs": [],
   "source": [
    "x = txt.encode()"
   ]
  },
  {
   "cell_type": "code",
   "execution_count": 109,
   "metadata": {},
   "outputs": [
    {
     "name": "stdout",
     "output_type": "stream",
     "text": [
      "b'My name is St\\xc3\\xa5le'\n"
     ]
    }
   ],
   "source": [
    "print(x)"
   ]
  },
  {
   "cell_type": "code",
   "execution_count": 110,
   "metadata": {},
   "outputs": [],
   "source": [
    "txt = \"My name is Ståle\""
   ]
  },
  {
   "cell_type": "code",
   "execution_count": 111,
   "metadata": {},
   "outputs": [
    {
     "name": "stdout",
     "output_type": "stream",
     "text": [
      "b'My name is St\\\\xe5le'\n",
      "b'My name is Stle'\n",
      "b'My name is St\\\\N{LATIN SMALL LETTER A WITH RING ABOVE}le'\n",
      "b'My name is St?le'\n",
      "b'My name is St&#229;le'\n"
     ]
    }
   ],
   "source": [
    "print(txt.encode(encoding=\"ascii\",errors=\"backslashreplace\"))\n",
    "print(txt.encode(encoding=\"ascii\",errors=\"ignore\"))\n",
    "print(txt.encode(encoding=\"ascii\",errors=\"namereplace\"))\n",
    "print(txt.encode(encoding=\"ascii\",errors=\"replace\"))\n",
    "print(txt.encode(encoding=\"ascii\",errors=\"xmlcharrefreplace\"))"
   ]
  },
  {
   "cell_type": "code",
   "execution_count": null,
   "metadata": {},
   "outputs": [],
   "source": []
  }
 ],
 "metadata": {
  "kernelspec": {
   "display_name": "Python 3 (ipykernel)",
   "language": "python",
   "name": "python3"
  },
  "language_info": {
   "codemirror_mode": {
    "name": "ipython",
    "version": 3
   },
   "file_extension": ".py",
   "mimetype": "text/x-python",
   "name": "python",
   "nbconvert_exporter": "python",
   "pygments_lexer": "ipython3",
   "version": "3.9.7"
  },
  "vscode": {
   "interpreter": {
    "hash": "651d507d70892fab0fc6529d935cd476f6e2eb1791525b76da6cc8da34bc0503"
   }
  }
 },
 "nbformat": 4,
 "nbformat_minor": 2
}
