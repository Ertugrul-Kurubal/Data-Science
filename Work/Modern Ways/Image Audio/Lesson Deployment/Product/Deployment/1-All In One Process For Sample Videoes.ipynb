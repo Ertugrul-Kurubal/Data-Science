{
 "cells": [
  {
   "cell_type": "markdown",
   "metadata": {},
   "source": [
    "### All In One Process For Sample Videoes"
   ]
  },
  {
   "cell_type": "code",
   "execution_count": null,
   "metadata": {},
   "outputs": [],
   "source": [
    "import os\n",
    "import sys\n",
    "import numpy as np\n",
    "import pandas as pd\n",
    "from gtts import gTTS\n",
    "#from playsound import playsound\n",
    "from moviepy.editor import VideoFileClip, concatenate_videoclips, AudioFileClip, concatenate_audioclips,CompositeVideoClip, CompositeAudioClip\n",
    "import pandas as pd\n",
    "import nltk\n",
    "from nltk import word_tokenize\n",
    "from pathlib import Path\n",
    "import shutil\n",
    "from os.path import isfile, join\n",
    "import time\n",
    "import cv2"
   ]
  },
  {
   "cell_type": "markdown",
   "metadata": {},
   "source": [
    "#### Adjust Image File Convert Video And Concat "
   ]
  },
  {
   "cell_type": "code",
   "execution_count": null,
   "metadata": {},
   "outputs": [],
   "source": [
    "# language pair\n",
    "lang_folder = \"Turkish\"  # Arabic, English, French, German, Turkish, Spanish, Portuguese, Dutch, Italian ==> target language for learner\n",
    "lang_pair = \"Arabic\"  # Arabic, English, French, German, Turkish, Spanish, Portuguese, Dutch, Italian ==> native language\n",
    "\n",
    "#filename_length_num = 5\n",
    "\n",
    "# lang\n",
    "if lang_folder == \"English\":\n",
    "    lang = 'en'\n",
    "elif lang_folder == \"Turkish\":\n",
    "    lang = 'tr'\n",
    "elif lang_folder == \"German\":\n",
    "    lang = 'de'\n",
    "elif lang_folder == \"French\":\n",
    "    lang = 'fr'\n",
    "elif lang_folder == \"Spanish\":\n",
    "    lang = 'es'\n",
    "elif lang_folder == \"Arabic\":\n",
    "    lang = 'ar'\n",
    "elif lang_folder == \"Portuguese\":\n",
    "    lang = 'pt'\n",
    "elif lang_folder == \"Dutch\":\n",
    "    lang = 'nl'\n",
    "elif lang_folder == \"Italian\":\n",
    "    lang = 'it'\n",
    "else:\n",
    "    pass\n",
    "\n",
    "# lang pair\n",
    "if lang_pair == \"English\":\n",
    "    lang2 = 'en'\n",
    "elif lang_pair == \"Turkish\":\n",
    "    lang2 = 'tr'\n",
    "elif lang_pair == \"German\":\n",
    "    lang2 = 'de'\n",
    "elif lang_pair == \"French\":\n",
    "    lang2 = 'fr'\n",
    "elif lang_pair == \"Spanish\":\n",
    "    lang2 = 'es'\n",
    "elif lang_pair == \"Arabic\":\n",
    "    lang2 = 'ar'\n",
    "elif lang_pair == \"Portuguese\":\n",
    "    lang2 = 'pt'\n",
    "elif lang_pair == \"Dutch\":\n",
    "    lang2 = 'nl'\n",
    "elif lang_pair == \"Italian\":\n",
    "    lang2 = 'it'\n",
    "else:\n",
    "    pass\n",
    "\n",
    "print(f\"{lang_folder}\\n{lang}\\n{lang_pair}\\n{lang2}\") "
   ]
  },
  {
   "cell_type": "code",
   "execution_count": null,
   "metadata": {},
   "outputs": [],
   "source": [
    "# Data path and folder\n",
    "image_data_path = f\"/home/kurubal/Documents/Modern Ways/Project/{lang_folder.capitalize()}/Image Audio Video/Data/28 Words\"\n",
    "audio_delay_path_and_file = f\"/home/kurubal/Documents/Modern Ways/Project/{lang_folder.capitalize()}/Image Audio Video/Data/Audio_Delay/delay_audio.wav\"\n",
    "video_background_path_and_file = f\"/home/kurubal/Documents/Modern Ways/Project/{lang_folder.capitalize()}/Image Audio Video/Data/Video_Background/video_bacground_sample.mp4\""
   ]
  },
  {
   "cell_type": "code",
   "execution_count": null,
   "metadata": {},
   "outputs": [],
   "source": [
    "# Original\n",
    "def text_convert_to_audio_same(filename_list, out_folder_name, out_path, language=\"en\", speech_slow=True, delay_time = 0.5, delay_point = \"both\"):\n",
    "    ''' \n",
    "    ext_convert_to_audio_same(filename_list, out_folder_name, out_path, language=\"en\", speech_slow=True, delay_time = 0.5, delay_point = \"both\")\\n\n",
    "    filename_list is string list. out_folder_name and out_path are path and folder name in str.\\n\n",
    "    delay_time is in second and add delay to gttS audio result. delay point used for delay start, end or both\\n \n",
    "    ex:\\n\n",
    "    path = f\"/media/kurubal/SSD1/Data Scientist/Data Science/Data-Scientist/Work/Modern Ways/Image Audio/Product\"\\n\n",
    "    text_convert_to_audio(word_select_list, \"Text_Audio\", path, language=lang)\n",
    "    '''\n",
    "    result_path = f\"{out_path}/{out_folder_name}\"\n",
    "    result_path2 = f\"{out_path}/Text_Audio\"\n",
    "    Path(result_path).mkdir(parents=True, exist_ok=True)\n",
    "    Path(result_path2).mkdir(parents=True, exist_ok=True)\n",
    "    audio_delay = AudioFileClip(audio_delay_path_and_file).subclip(1,1+delay_time)\n",
    "    for filename in filename_list:\n",
    "        if isfile(f\"{result_path2}/{filename}.mp3\"):\n",
    "            pass\n",
    "        else:\n",
    "            text_audio = gTTS(text=filename, lang=language, slow=speech_slow)\n",
    "            text_audio.save(f\"{result_path2}/{filename}.mp3\")\n",
    "            time.sleep(0.2)\n",
    "\n",
    "        if isfile(f\"{result_path}/{filename}.mp3\"):\n",
    "            pass\n",
    "        else:\n",
    "            text_audio_clip = AudioFileClip(f\"{result_path2}/{filename}.mp3\")\n",
    "            try:        \n",
    "                if delay_point == \"both\":\n",
    "                    audio_combined = concatenate_audioclips([audio_delay,text_audio_clip,audio_delay])\n",
    "                elif delay_point == \"start\":\n",
    "                    audio_combined = concatenate_audioclips([audio_delay,text_audio_clip])\n",
    "                elif delay_point == \"end\":\n",
    "                    audio_combined = concatenate_audioclips([text_audio_clip,audio_delay])\n",
    "                else:\n",
    "                    audio_combined = concatenate_audioclips([text_audio_clip])\n",
    "\n",
    "                audio_combined.write_audiofile(f\"{result_path}/{filename}.mp3\", codec=\"mp3\", bitrate=\"128k\", fps=44100)\n",
    "            except:\n",
    "                    print(\"Oops!\", sys.exc_info()[0], \"occurred.\")"
   ]
  },
  {
   "cell_type": "code",
   "execution_count": null,
   "metadata": {},
   "outputs": [],
   "source": [
    "def text_convert_to_audio_same_sample13(filename_zip_list, out_folder_name, out_path, language=\"en\", speech_slow=True, delay_time = 0.5, delay_point = \"both\"):\n",
    "    ''' \n",
    "    text_convert_to_audio_same_sample13(filename_zip_list, out_folder_name, out_path, language=\"en\", speech_slow=True, delay_time = 0.5, delay_point = \"both\")\\n\n",
    "    filename_zip_list is two string values list. out_folder_name and out_path are path and folder name in str.\\n\n",
    "    delay_time is in second and add delay to gttS audio result. delay point used for delay start, end or both\\n \n",
    "    ex:\\n\n",
    "    data_path = f\"/media/kurubal/SSD1/Data Scientist/Data Science/Data-Scientist/Work/Modern Ways/Image Audio/Product\"\\n\n",
    "    text_convert_to_audio_same_sample13(word_group_list_zip, \"Text_MP3\", data_path, language=lang2, speech_slow=True, delay_time = 0.5, delay_point = \"both\")\n",
    "    '''\n",
    "    result_path = f\"{out_path}/{out_folder_name}\"\n",
    "    result_path2 = f\"{out_path}/Text_Audio\"\n",
    "    Path(result_path).mkdir(parents=True, exist_ok=True)\n",
    "    Path(result_path2).mkdir(parents=True, exist_ok=True)\n",
    "    audio_delay = AudioFileClip(audio_delay_path_and_file).subclip(1,1+delay_time)\n",
    "    for filename1, filename2 in filename_zip_list:\n",
    "        if isfile(f\"{result_path2}/{filename1}.mp3\"):\n",
    "            pass\n",
    "        else:\n",
    "            text_audio = gTTS(text=filename2, lang=language, slow=speech_slow)\n",
    "            text_audio.save(f\"{result_path2}/{filename1}.mp3\")\n",
    "            time.sleep(0.2)\n",
    "\n",
    "        if isfile(f\"{result_path}/{filename1}.mp3\"):\n",
    "            pass\n",
    "        else:\n",
    "            text_audio_clip = AudioFileClip(f\"{result_path2}/{filename1}.mp3\")\n",
    "            try:        \n",
    "                if delay_point == \"both\":\n",
    "                    audio_combined = concatenate_audioclips([audio_delay,text_audio_clip,audio_delay])\n",
    "                elif delay_point == \"start\":\n",
    "                    audio_combined = concatenate_audioclips([audio_delay,text_audio_clip])\n",
    "                elif delay_point == \"end\":\n",
    "                    audio_combined = concatenate_audioclips([text_audio_clip,audio_delay])\n",
    "                else:\n",
    "                    audio_combined = concatenate_audioclips([text_audio_clip])\n",
    "\n",
    "                audio_combined.write_audiofile(f\"{result_path}/{filename1}.mp3\", codec=\"mp3\", bitrate=\"128k\", fps=44100)\n",
    "            except:\n",
    "                    print(\"Oops!\", sys.exc_info()[0], \"occurred.\")"
   ]
  },
  {
   "cell_type": "code",
   "execution_count": null,
   "metadata": {},
   "outputs": [],
   "source": [
    "def text_convert_to_audio_same_sample45(filename_zip_list, out_folder_name, out_path, language=\"en\", language2=\"tr\", speech_slow=True, delay_time = 0.5, delay_point = \"both\"):\n",
    "    ''' \n",
    "    text_convert_to_audio_same_sample45(filename_zip_list, out_folder_name, out_path, language=\"en\", language2=\"tr\", speech_slow=True, delay_time = 0.5, delay_point = \"both\")\\n\n",
    "    filename_zip_list is two string values list. out_folder_name and out_path are path and folder name in str.\\n\n",
    "    delay_time is in second and add delay to gttS audio result. delay point used for delay start, end or both\\n \n",
    "    ex:\\n\n",
    "    data_path = f\"/media/kurubal/SSD1/Data Scientist/Data Science/Data-Scientist/Work/Modern Ways/Image Audio/Product\"\\n\n",
    "    text_convert_to_audio_same_sample45(word_group_list_zip, \"Text_MP3\", data_path, language=lang, language2=lang2, speech_slow=True, delay_time = 0.5, delay_point = \"both\")\n",
    "    '''\n",
    "    result_path = f\"{out_path}/{out_folder_name}\"\n",
    "    result_path2 = f\"{out_path}/Text_Audio\"\n",
    "    Path(result_path).mkdir(parents=True, exist_ok=True)\n",
    "    Path(result_path2).mkdir(parents=True, exist_ok=True)\n",
    "    audio_delay = AudioFileClip(audio_delay_path_and_file).subclip(1,1+delay_time)\n",
    "    for filename1, filename2 in filename_zip_list:\n",
    "        # first word text to speech\n",
    "        if isfile(f\"{result_path2}/{filename1}.mp3\"):\n",
    "            pass\n",
    "        else:\n",
    "            text_audio = gTTS(text=filename2, lang=language2, slow=speech_slow)\n",
    "            text_audio.save(f\"{result_path2}/{filename1}.mp3\")\n",
    "            time.sleep(0.2)\n",
    "        # second word text to speech\n",
    "        if isfile(f\"{result_path2}/{filename1}2.mp3\"):\n",
    "            pass\n",
    "        else:\n",
    "            text_audio2 = gTTS(text=filename1, lang=language, slow=speech_slow)\n",
    "            text_audio2.save(f\"{result_path2}/{filename1}2.mp3\")\n",
    "            time.sleep(0.2)\n",
    "\n",
    "        if isfile(f\"{result_path}/{filename1}.mp3\"):\n",
    "            pass\n",
    "        else:\n",
    "            text_audio_clip1 = AudioFileClip(f\"{result_path2}/{filename1}.mp3\")\n",
    "            text_audio_clip2 = AudioFileClip(f\"{result_path2}/{filename1}2.mp3\")\n",
    "            try:        \n",
    "                if delay_point == \"both\":\n",
    "                    audio_combined = concatenate_audioclips([audio_delay,text_audio_clip1,audio_delay,audio_delay,text_audio_clip2,audio_delay])\n",
    "                elif delay_point == \"start\":\n",
    "                    audio_combined = concatenate_audioclips([audio_delay,text_audio_clip1,audio_delay,text_audio_clip2])\n",
    "                elif delay_point == \"end\":\n",
    "                    audio_combined = concatenate_audioclips([text_audio_clip1,audio_delay,text_audio_clip2,audio_delay])\n",
    "                else:\n",
    "                    audio_combined = concatenate_audioclips([text_audio_clip1,text_audio_clip2])\n",
    "\n",
    "                audio_combined.write_audiofile(f\"{result_path}/{filename1}.mp3\", codec=\"mp3\", bitrate=\"128k\", fps=44100)\n",
    "            except:\n",
    "                    print(\"Oops!\", sys.exc_info()[0], \"occurred.\")"
   ]
  },
  {
   "cell_type": "code",
   "execution_count": null,
   "metadata": {},
   "outputs": [],
   "source": [
    "def concat_audio_sample5(text_list, audio_data_folder_name, audio_data_path, out_folder_name, out_path, filename):  \n",
    "    '''\n",
    "    concat_audio_sample5(text_list, audio_data_folder_name, audio_data_path, out_folder_name, out_path, filename)\\n\n",
    "    text_list is list values. audio_data_folder_name, audio_data_path, out_folder_name and out_path are path and folder in string(str)\\n\n",
    "    filename is string of result mp3 file name.\n",
    "    ex.\\n\n",
    "    data_path = f\"/media/kurubal/SSD1/Data Scientist/Work/Modern Ways/Project/{lang_folder.capitalize()}/Image Audio Video/Result/28 Words\"\\n\n",
    "    result_path = f\"/media/kurubal/SSD1/Data Scientist/Work/Modern Ways/Project/{lang_folder.capitalize()}/Image Audio Video/Data/28 Words\"\\n\n",
    "    concat_audio_sample5(word_group_list1, \"Text_MP3\", data_path, \"Concat_Audio\", result_path, f\"Sample_Audio_{lang2.upper()}_5\")\n",
    "    '''\n",
    "    no_audio_file_list = []\n",
    "    result_path = f\"{out_path}/{out_folder_name}\"\n",
    "    Path(result_path).mkdir(parents=True, exist_ok=True)\n",
    "    audio_text_list = []\n",
    "    audio_clip_list = []\n",
    "    for text in text_list:\n",
    "        if isfile(f\"{audio_data_path}/{audio_data_folder_name}/{text}.mp3\"):\n",
    "            audio_text_list.append(text)            \n",
    "        else:\n",
    "            no_audio_file_list.append(text)\n",
    "\n",
    "    for audio_num in range(len(audio_text_list)):\n",
    "        try:\n",
    "            clip_var = AudioFileClip(f\"{audio_data_path}/{audio_data_folder_name}/{audio_text_list[audio_num]}.mp3\")\n",
    "            audio_clip_list.append(clip_var)            \n",
    "        except:\n",
    "            print(\"Oops!\", sys.exc_info()[0], \"occurred.\", f\"{audio_text_list[audio_num]}.mp3\")\n",
    "            \n",
    "    if isfile(f\"{result_path}/{filename}.mp3\"):\n",
    "        pass\n",
    "    else:\n",
    "        combined = concatenate_audioclips(audio_clip_list)\n",
    "        combined.write_audiofile(f\"{result_path}/{filename}.mp3\", codec=\"mp3\", bitrate=\"128k\", fps=44100)\n",
    "    \n",
    "    return no_audio_file_list"
   ]
  },
  {
   "cell_type": "code",
   "execution_count": null,
   "metadata": {},
   "outputs": [],
   "source": [
    "def convert_image_to_jpg_crop_size(filename_list, data_folder_name, data_path, out_folder_name, out_path):\n",
    "    '''\n",
    "    convert_image_to_jpg_crop_size(filename_list, data_folder_name, data_path, out_folder_name, out_path)\\n\n",
    "    filename_list is string image filename list. data_folder_name, data_path, out_folder_name and out_path are path and folder in string.\\n\n",
    "    ex.\\n\n",
    "    path = f\"/media/kurubal/SSD1/Data Scientist/Data Science/Data-Scientist/Work/Modern Ways/Image Audio/Product\"\\n\n",
    "    image_path = f\"/media/kurubal/SSD1/Data Scientist/Data Science/Data-Scientist/Work/Modern Ways/Image Audio/Product\"\\n\n",
    "    convert_image_to_jpg_crop_size(word_group_list1, \"Images\", image_data_path, \"Image_JPG_Crop\", data_path)\n",
    "    '''\n",
    "    aspect_ratio_width = 16\n",
    "    aspect_ratio_height = 9\n",
    "    basewidth = 1600\n",
    "    size_width = int(basewidth)\n",
    "    size_heigth = int((basewidth/aspect_ratio_width)*aspect_ratio_height)\n",
    "    size = (size_width,size_heigth)\n",
    "\n",
    "    result_path = f\"{out_path}/{out_folder_name}\"\n",
    "    result_path2 = f\"{out_path}/Images_JPG\"\n",
    "    data_folder_path = f\"{data_path}/{data_folder_name}\"\n",
    "    Path(result_path).mkdir(parents=True, exist_ok=True)\n",
    "    Path(result_path2).mkdir(parents=True, exist_ok=True)\n",
    "\n",
    "    files=[f for f in os.listdir(data_folder_path) if isfile(join(data_folder_path,f))]     \n",
    "    for i in range(len(files)):\n",
    "        #text = f\"{text}\"\n",
    "        pathfilename=data_folder_path+'/'+files[i]\n",
    "        filename_without_ext = os.path.splitext(files[i])[0]\n",
    "        try:\n",
    "            if isfile(f\"{result_path2}/{filename_without_ext}.jpg\"):\n",
    "                pass\n",
    "            else:\n",
    "                img = Image.open(pathfilename)\n",
    "                img2 = img.convert(\"RGB\")\n",
    "                img2.save(f\"{result_path2}/{filename_without_ext}.jpg\")\n",
    "                time.sleep(0.1)\n",
    "        except:\n",
    "            print(\"Oops!\", sys.exc_info()[0], \"occurred.\")\n",
    "\n",
    "    for filename in filename_list:    \n",
    "        if isfile(f\"{result_path}/{filename}.jpg\"):\n",
    "            pass\n",
    "        else:\n",
    "            try:\n",
    "                img3 = Image.open(f\"{result_path2}/{filename}.jpg\")  # ???\n",
    "                width, height = img3.size\n",
    "                height_var = int(height/aspect_ratio_height)\n",
    "                width_var = int(width/aspect_ratio_width)\n",
    "\n",
    "                if height_var == width_var:\n",
    "                    img_var = img3.resize(size, Image.LANCZOS)\n",
    "                elif width_var > height_var:\n",
    "                    crop_width = int(abs((width-(height_var*aspect_ratio_width))/2))\n",
    "                    box = (crop_width,0,width-crop_width,height)  # left, top, right, bottom\n",
    "                    img_crop = img3.crop(box)  \n",
    "                    img_var = img_crop.resize(size, Image.LANCZOS)\n",
    "                elif width_var < height_var:\n",
    "                    crop_height = int(abs((height-(width_var*aspect_ratio_height))/2))\n",
    "                    box = (0,crop_height,width,height-crop_height)  # left, top, right, bottom\n",
    "                    img_crop = img3.crop(box)  # left, top, right, bottom\n",
    "                    img_var = img_crop.resize(size, Image.LANCZOS)\n",
    "                else:\n",
    "                    img_var = img3\n",
    "\n",
    "                img_var.save(f\"{result_path}/{filename}.jpg\")\n",
    "\n",
    "            except:\n",
    "                print(\"Oops!\", sys.exc_info()[0], \"occurred.\")"
   ]
  },
  {
   "cell_type": "code",
   "execution_count": null,
   "metadata": {},
   "outputs": [],
   "source": [
    "def convert_pictures_to_video(filename_list, data_folder_name, data_path, out_folder_name, out_path, fps=1, time=5):\n",
    "    '''\n",
    "    convert_pictures_to_video(text_list, data_folder_name, data_path, out_folder_name, out_path, fps=1, time=5)\\n\n",
    "    text_list is string picture filename list. data_folder_name, data_path, out_folder_name and out_path are path\\n\n",
    "    and folder in string(str). others are cv2 parameter\\n\n",
    "    ex.\\n\n",
    "    path = f\"/media/kurubal/SSD1/Data Scientist/Data Science/Data-Scientist/Work/Modern Ways/Image Audio/Product\"\\n\n",
    "    image_path = f\"/media/kurubal/SSD1/Data Scientist/Data Science/Data-Scientist/Work/Modern Ways/Image Audio/Product\"\\n\n",
    "    convert_pictures_to_video(word_select_list, \"Images_Crop_Size\", image_path, \"Image_Video\", path, fps=1, time=5)\n",
    "    '''\n",
    "    result_path = f\"{out_path}/{out_folder_name}\"\n",
    "    Path(result_path).mkdir(parents=True, exist_ok=True)\n",
    "\n",
    "    for filename in filename_list:\n",
    "        if isfile(f\"{out_path}/{out_folder_name}/{filename}.mp4\"):\n",
    "            pass\n",
    "        else:    \n",
    "            try:\n",
    "                img = cv2.imread(f\"{data_path}/{data_folder_name}/{filename}.jpg\")\n",
    "                height, width, layers = img.shape\n",
    "                size=(width,height)\n",
    "                frame_array = []\n",
    "                for k in range (time):\n",
    "                    frame_array.append(img)\n",
    "                result_path2 = f\"{out_path}/{out_folder_name}/{filename}.mp4\"\n",
    "                out = cv2.VideoWriter(result_path2,cv2.VideoWriter_fourcc(*'mp4v'), fps, size)\n",
    "    \n",
    "                for i in range(len(frame_array)):\n",
    "                    out.write(frame_array[i])\n",
    "                out.release()\n",
    "                \n",
    "            except:\n",
    "                print(\"Oops!\", sys.exc_info()[0], \"occurred.\")"
   ]
  },
  {
   "cell_type": "code",
   "execution_count": null,
   "metadata": {},
   "outputs": [],
   "source": [
    "def add_audio_to_video(filename_list, video_data_folder_name, video_data_path, audio_data_folder_name, audio_data_path, out_folder_name, out_path):\n",
    "    '''\n",
    "    add_audio_to_video(text_list, video_data_folder_name, video_data_path, audio_data_folder_name, audio_data_path, out_folder_name, out_path)\\n\n",
    "    text_list is string video filename list. video_data_folder_name, video_data_path, audio_data_folder_name, audio_data_path, out_folder_name and out_path are path\\n\n",
    "    and folder in string(str).\\n\n",
    "    ex.\\n\n",
    "    path = f\"/media/kurubal/SSD1/Data Scientist/Data Science/Data-Scientist/Work/Modern Ways/Image Audio/Product\"\\n\n",
    "    image_video_path = f\"/media/kurubal/SSD1/Data Scientist/Data Science/Data-Scientist/Work/Modern Ways/Image Audio/Product\"\\n\n",
    "    text_audio_path = f\"/media/kurubal/SSD1/Data Scientist/Data Science/Data-Scientist/Work/Modern Ways/Image Audio/Product\"\\n\n",
    "    add_audio_to_video(word_select_list, \"Video\", image_video_path, \"Audio\", text_audio_path, \"Video_Audio\", path)\n",
    "    '''\n",
    "    result_path = f\"{out_path}/{out_folder_name}\"\n",
    "    Path(result_path).mkdir(parents=True, exist_ok=True)\n",
    "\n",
    "    for filename in filename_list:\n",
    "        if isfile(f\"{result_path}/{filename}.mp4\"):\n",
    "            pass\n",
    "        else:\n",
    "            try:\n",
    "                videoclip = VideoFileClip(f\"{video_data_path}/{video_data_folder_name}/{filename}.mp4\")\n",
    "                audioclip = AudioFileClip(f\"{audio_data_path}/{audio_data_folder_name}/{filename}.mp3\", fps = 44100)\n",
    "    \n",
    "                #new_audioclip = CompositeAudioClip([audioclip]).set_duration(videoclip.duration)  # .set_duration(videoclip.duration), .set_duration(audioclip.duration)\n",
    "                new_videoclip = CompositeVideoClip([videoclip]).set_duration(audioclip.duration)  # .set_duration(videoclip.duration), .set_duration(audioclip.duration)\n",
    "                new_videoclip.audio = audioclip  # new_audioclip\n",
    "    \n",
    "                new_videoclip.write_videofile(f\"{result_path}/{filename}.mp4\", audio_bitrate='128k', audio_fps=44100, audio_codec=\"aac\")\n",
    "                \n",
    "            except:\n",
    "                print(\"Oops!\", sys.exc_info()[0], \"occurred.\")"
   ]
  },
  {
   "cell_type": "code",
   "execution_count": null,
   "metadata": {},
   "outputs": [],
   "source": [
    "def add_audio_to_video_sample5(video_path_filename_ext, audio_filename, audio_data_folder_name, audio_data_path, out_folder_name, out_path, filename):\n",
    "    '''\n",
    "    add_audio_to_video_sample5(video_path_filename_ext, audio_filename, audio_data_folder_name, audio_data_path, out_folder_name, out_path, filename)\\n\n",
    "    video_path_filename_ext is background video path and file. audio_data_folder_name, audio_data_path, out_folder_name and out_path are path\\n\n",
    "    and folder in string(str). audio_filename is concat audio filename and filename is result filename\\n\n",
    "    ex.\\n\n",
    "    video_background_path_and_file = f\"/home/kurubal/Documents/Modern Ways/Project/{lang_folder.capitalize()}/Image Audio Video/Data/Video_Background/video_bacground_sample.mp4\"\\n\n",
    "    result_path = f\"{output_path}/Result\"\\n\n",
    "    add_audio_to_video_sample5(f\"{video_background_path_and_file}\", f\"Sample_Audio_{lang2.upper()}_5\", \"Concat_Audio\", result_path, \"Concat_Video\", result_path, f\"Sample_Video_{lang2.upper()}_5\")\n",
    "    '''\n",
    "    result_path = f\"{out_path}/{out_folder_name}\"\n",
    "    Path(result_path).mkdir(parents=True, exist_ok=True)\n",
    "\n",
    "    \n",
    "    if isfile(f\"{result_path}/{filename}.mp4\"):\n",
    "        pass\n",
    "    else:\n",
    "        try:\n",
    "            videoclip = VideoFileClip(f\"{video_path_filename_ext}\", target_resolution=(900, 1600))\n",
    "            audioclip = AudioFileClip(f\"{audio_data_path}/{audio_data_folder_name}/{audio_filename}.mp3\", fps = 44100)\n",
    "    \n",
    "            #new_audioclip = CompositeAudioClip([audioclip]).set_duration(videoclip.duration)  # .set_duration(videoclip.duration), .set_duration(audioclip.duration)\n",
    "            new_videoclip = CompositeVideoClip([videoclip]).set_duration(audioclip.duration)  # .set_duration(videoclip.duration), .set_duration(audioclip.duration)\n",
    "            new_videoclip.audio = audioclip  # new_audioclip\n",
    "    \n",
    "            new_videoclip.write_videofile(f\"{result_path}/{filename}.mp4\", audio_bitrate='128k', audio_fps=44100, audio_codec=\"aac\")\n",
    "            \n",
    "        except:\n",
    "            print(\"Oops!\", sys.exc_info()[0], \"occurred.\")"
   ]
  },
  {
   "cell_type": "code",
   "execution_count": null,
   "metadata": {},
   "outputs": [],
   "source": [
    "def concat_video_sample1(filename_list, video_data_folder_name, video_data_path, out_folder_name, out_path, out_filename):  \n",
    "    '''\n",
    "    concat_video_sample1(filename_list, video_data_folder_name, video_data_path, out_folder_name, out_path, out_filename)\\n\n",
    "    filename_list is string video filename list. video_data_folder_name, video_data_path, out_folder_name and out_path are path and folder in string(str)\\n\n",
    "    out_filename is string of result mp4 file name.\\n\n",
    "    ex.\\n\n",
    "    path = f\"/media/kurubal/SSD1/Data Scientist/Data Science/Data-Scientist/Work/Modern Ways/Image Audio/Product\"\\n\n",
    "    audio_image_video_path = f\"/media/kurubal/SSD1/Data Scientist/Data Science/Data-Scientist/Work/Modern Ways/Image Audio/Product\"\\n\n",
    "    concat_video_sample1(word_select_list, \"Image_Video_Audio\", audio_image_video_path, \"Concat_Video\", path, \"28_Word_Combined_Sample\")\n",
    "    '''\n",
    "    no_image_file_list = []\n",
    "    result_path = f\"{out_path}/{out_folder_name}\"\n",
    "    Path(result_path).mkdir(parents=True, exist_ok=True)\n",
    "    video_text_list = []\n",
    "    video_list = []\n",
    "    \n",
    "    if isfile(f\"{result_path}/{out_filename}.mp4\"):\n",
    "        pass\n",
    "    else:\n",
    "        for filename in filename_list:\n",
    "            if isfile(f\"{video_data_path}/{video_data_folder_name}/{filename}.mp4\") and not(isfile(f\"{result_path}/{out_filename}.mp4\")):\n",
    "                video_text_list.append(filename)            \n",
    "            else:\n",
    "                no_image_file_list.append(filename)\n",
    "\n",
    "        for video_num in range(len(video_text_list)):\n",
    "            try:\n",
    "                clip_var = VideoFileClip(f\"{video_data_path}/{video_data_folder_name}/{video_text_list[video_num]}.mp4\", target_resolution=(900, 1600))  # height, width\n",
    "                clip_var2 = VideoFileClip(f\"{video_data_path}/{video_data_folder_name}2/{video_text_list[video_num]}.mp4\", target_resolution=(900, 1600))\n",
    "                clip_var3 = VideoFileClip(f\"{video_data_path}/{video_data_folder_name}3/{video_text_list[video_num]}.mp4\", target_resolution=(900, 1600))\n",
    "                video_list.append(clip_var)\n",
    "                video_list.append(clip_var2)\n",
    "                video_list.append(clip_var3)            \n",
    "            except:\n",
    "                print(\"Oops!\", sys.exc_info()[0], \"occurred.\", f\"{video_text_list[video_num]}.mp4\")\n",
    "\n",
    "        combined = concatenate_videoclips(video_list, method='compose')\n",
    "        combined.write_videofile(f\"{result_path}/{out_filename}.mp4\", audio_bitrate='128k', audio_fps=44100, audio_codec=\"aac\")\n",
    "\n",
    "    return no_image_file_list"
   ]
  },
  {
   "cell_type": "code",
   "execution_count": null,
   "metadata": {},
   "outputs": [],
   "source": [
    "def concat_video_sample23456(filename_list, video_data_folder_name, video_data_path, out_folder_name, out_path, out_filename):  \n",
    "    '''\n",
    "    concat_video_sample23456(filename_list, video_data_folder_name, video_data_path, out_folder_name, out_path, out_filename)\\n\n",
    "    filename_list is string video filename list. video_data_folder_name, video_data_path, out_folder_name and out_path are path and folder in string(str)\\n\n",
    "    out_filename is string of result mp4 file name.\\n\n",
    "    ex.\\n\n",
    "    path = f\"/media/kurubal/SSD1/Data Scientist/Data Science/Data-Scientist/Work/Modern Ways/Image Audio/Product\"\\n\n",
    "    audio_image_video_path = f\"/media/kurubal/SSD1/Data Scientist/Data Science/Data-Scientist/Work/Modern Ways/Image Audio/Product\"\\n\n",
    "    concat_video_sample23456(word_select_list, \"Image_Video_Audio\", audio_image_video_path, \"Concat_Video\", path, \"28_Word_Combined_Sample\")\n",
    "    '''\n",
    "    no_image_file_list = []\n",
    "    result_path = f\"{out_path}/{out_folder_name}\"\n",
    "    Path(result_path).mkdir(parents=True, exist_ok=True)\n",
    "    video_text_list = []\n",
    "    video_list = []\n",
    "    \n",
    "    if isfile(f\"{result_path}/{out_filename}.mp4\"):\n",
    "        pass\n",
    "    else:\n",
    "        for filename in filename_list:\n",
    "            if isfile(f\"{video_data_path}/{video_data_folder_name}/{filename}.mp4\") and not(isfile(f\"{result_path}/{out_filename}.mp4\")):\n",
    "                video_text_list.append(filename)            \n",
    "            else:\n",
    "                no_image_file_list.append(filename)\n",
    "\n",
    "        for video_num in range(len(video_text_list)):\n",
    "            try:\n",
    "                clip_var = VideoFileClip(f\"{video_data_path}/{video_data_folder_name}/{video_text_list[video_num]}.mp4\", target_resolution=(900, 1600))  # height, width\n",
    "                video_list.append(clip_var)           \n",
    "            except:\n",
    "                print(\"Oops!\", sys.exc_info()[0], \"occurred.\", f\"{video_text_list[video_num]}.mp4\")\n",
    "\n",
    "        combined = concatenate_videoclips(video_list, method='compose')\n",
    "        combined.write_videofile(f\"{result_path}/{out_filename}.mp4\", audio_bitrate='128k', audio_fps=44100, audio_codec=\"aac\")\n",
    "\n",
    "    return no_image_file_list"
   ]
  },
  {
   "cell_type": "code",
   "execution_count": null,
   "metadata": {},
   "outputs": [],
   "source": [
    "def concat_video_sample7(filename_list, video_data_folder_name, video_data_path, out_folder_name, out_path, out_filename):  \n",
    "    '''\n",
    "    concat_video_sample7(filename_list, video_data_folder_name, video_data_path, out_folder_name, out_path, out_filename)\\n\n",
    "    filename_list is string video filename list. video_data_folder_name, video_data_path, out_folder_name and out_path are path and folder in string(str)\\n\n",
    "    out_filename is string of result mp4 file name.\\n\n",
    "    ex.\\n\n",
    "    path = f\"/media/kurubal/SSD1/Data Scientist/Data Science/Data-Scientist/Work/Modern Ways/Image Audio/Product\"\\n\n",
    "    audio_image_video_path = f\"/media/kurubal/SSD1/Data Scientist/Data Science/Data-Scientist/Work/Modern Ways/Image Audio/Product\"\\n\n",
    "    concat_video_sample7(word_select_list, \"Image_Video_Audio\", audio_image_video_path, \"Concat_Video\", path, \"28_Word_Combined_Sample\")\n",
    "    '''\n",
    "    no_image_file_list = []\n",
    "    result_path = f\"{out_path}/{out_folder_name}\"\n",
    "    Path(result_path).mkdir(parents=True, exist_ok=True)\n",
    "    video_text_list = []\n",
    "    video_list = []\n",
    "    \n",
    "    if isfile(f\"{result_path}/{out_filename}.mp4\"):\n",
    "        pass\n",
    "    else:\n",
    "        for filename in filename_list:\n",
    "            if isfile(f\"{video_data_path}/{video_data_folder_name}/{filename}.mp4\") and not(isfile(f\"{result_path}/{out_filename}.mp4\")):\n",
    "                video_text_list.append(filename)            \n",
    "            else:\n",
    "                no_image_file_list.append(filename)\n",
    "\n",
    "        for video_num in range(len(video_text_list)):\n",
    "            try:\n",
    "                clip_var = VideoFileClip(f\"{video_data_path}/{video_data_folder_name}/{video_text_list[video_num]}.mp4\", target_resolution=(900, 1600))  # height, width\n",
    "                video_list.append(clip_var)\n",
    "                video_list.append(clip_var)           \n",
    "            except:\n",
    "                print(\"Oops!\", sys.exc_info()[0], \"occurred.\", f\"{video_text_list[video_num]}.mp4\")\n",
    "\n",
    "        combined = concatenate_videoclips(video_list, method='compose')\n",
    "        combined.write_videofile(f\"{result_path}/{out_filename}.mp4\", audio_bitrate='128k', audio_fps=44100, audio_codec=\"aac\")\n",
    "\n",
    "    return no_image_file_list"
   ]
  },
  {
   "cell_type": "code",
   "execution_count": null,
   "metadata": {},
   "outputs": [],
   "source": [
    "def string_strip(text):\n",
    "    text2 = str(text)\n",
    "    text3 = text2.strip()\n",
    "    return text3"
   ]
  },
  {
   "cell_type": "code",
   "execution_count": null,
   "metadata": {},
   "outputs": [],
   "source": []
  },
  {
   "cell_type": "markdown",
   "metadata": {},
   "source": [
    "#### Sample 1"
   ]
  },
  {
   "cell_type": "code",
   "execution_count": null,
   "metadata": {},
   "outputs": [],
   "source": [
    "# Output path and folder\n",
    "main_result_path = f\"/home/kurubal/Documents/Modern Ways/Project/{lang_folder.capitalize()}/Image Audio Video/Result/28 Words\"\n",
    "main_result_folder = f\"{lang_folder.capitalize()} {lang_pair.capitalize()}\"\n",
    "result_folder = \"Sample_1\""
   ]
  },
  {
   "cell_type": "code",
   "execution_count": null,
   "metadata": {},
   "outputs": [],
   "source": [
    "# ///***\n",
    "output_path = f\"{main_result_path}/{main_result_folder}/{result_folder}\"  # output path\n",
    "text_audio_path = f\"{main_result_path}/{main_result_folder}/{result_folder}/Data/Text_Audio\"\n",
    "data_path = f\"{output_path}/Data\"\n",
    "result_path = f\"{output_path}/Result\"\n",
    "\n",
    "Path(output_path).mkdir(parents=True, exist_ok=True)\n",
    "Path(text_audio_path).mkdir(parents=True, exist_ok=True)\n",
    "# ****\\\\\\"
   ]
  },
  {
   "cell_type": "code",
   "execution_count": null,
   "metadata": {},
   "outputs": [],
   "source": [
    "df_deployment_file1 = pd.read_excel(f\"/home/kurubal/Documents/Modern Ways/Project/{lang_folder.capitalize()}/Image Audio Video/\\\n",
    "Data/28 Words/Document/Videos Data Sample {lang_pair.capitalize()}.xlsx\", sheet_name=\"sample_video1\")\n",
    "df_deployment_file1.iloc[:,0] = df_deployment_file1.iloc[:,0].apply(lambda x: string_strip(x))\n",
    "df_deployment_file1.iloc[:,1] = df_deployment_file1.iloc[:,1].apply(lambda x: string_strip(x))\n",
    "df_deployment_file1"
   ]
  },
  {
   "cell_type": "code",
   "execution_count": null,
   "metadata": {},
   "outputs": [],
   "source": [
    "word_group_list1 = df_deployment_file1.iloc[:,0].dropna().to_list()\n",
    "word_group_list2 = df_deployment_file1.iloc[:,1].dropna().to_list()"
   ]
  },
  {
   "cell_type": "code",
   "execution_count": null,
   "metadata": {},
   "outputs": [],
   "source": [
    "word_group_list_zip = zip(word_group_list1,word_group_list2)"
   ]
  },
  {
   "cell_type": "code",
   "execution_count": null,
   "metadata": {},
   "outputs": [],
   "source": [
    "file_list = os.listdir(f\"{image_data_path}/Images_JPG_Crop\")\n",
    "file_list2 = os.listdir(f\"{image_data_path}/Images_JPG_Crop2\")\n",
    "file_list3 = os.listdir(f\"{image_data_path}/Images_JPG_Crop3\")"
   ]
  },
  {
   "cell_type": "code",
   "execution_count": null,
   "metadata": {},
   "outputs": [],
   "source": [
    "file_list_zip = zip(file_list,file_list2,file_list3)"
   ]
  },
  {
   "cell_type": "code",
   "execution_count": null,
   "metadata": {},
   "outputs": [],
   "source": [
    "file_list_without_ext = []\n",
    "file_list_without_ext2 = []\n",
    "file_list_without_ext3 = []\n",
    "for file, file2, file3 in file_list_zip:\n",
    "    file_without_ext = os.path.splitext(file)[0]\n",
    "    file_list_without_ext.append(file_without_ext.strip())\n",
    "    file_without_ext2 = os.path.splitext(file2)[0]\n",
    "    file_list_without_ext2.append(file_without_ext2.strip())\n",
    "    file_without_ext3 = os.path.splitext(file2)[0]\n",
    "    file_list_without_ext3.append(file_without_ext3.strip())"
   ]
  },
  {
   "cell_type": "code",
   "execution_count": null,
   "metadata": {},
   "outputs": [],
   "source": [
    "no_image_file_list = []\n",
    "for word in word_group_list1:\n",
    "    if (word.strip() in file_list_without_ext) and (word.strip() in file_list_without_ext2) and (word.strip() in file_list_without_ext3):\n",
    "        pass\n",
    "    else:\n",
    "        no_image_file_list.append(word.strip())\n",
    "no_image_file_list"
   ]
  },
  {
   "cell_type": "code",
   "execution_count": null,
   "metadata": {},
   "outputs": [],
   "source": [
    "#convert_image_to_jpg_crop_size(word_group_list1, \"Images\", image_data_path, \"Images_JPG_Crop\", data_path)  # \\*** "
   ]
  },
  {
   "cell_type": "code",
   "execution_count": null,
   "metadata": {},
   "outputs": [],
   "source": [
    "text_convert_to_audio_same_sample13(word_group_list_zip, \"Text_MP3\", data_path, language=lang2, speech_slow=True, delay_time = 0.5, delay_point = \"both\")"
   ]
  },
  {
   "cell_type": "code",
   "execution_count": null,
   "metadata": {},
   "outputs": [],
   "source": [
    "#convert_pictures_to_video(word_group_list1, \"Images_JPG_Crop\", data_path, \"Image_Video\", data_path, fps=1, time=5) # ***/\n",
    "convert_pictures_to_video(word_group_list1, \"Images_JPG_Crop\", image_data_path, \"Images_Video\", data_path, fps=1, time=5)\n",
    "convert_pictures_to_video(word_group_list1, \"Images_JPG_Crop2\", image_data_path, \"Images_Video2\", data_path, fps=1, time=5)\n",
    "convert_pictures_to_video(word_group_list1, \"Images_JPG_Crop3\", image_data_path, \"Images_Video3\", data_path, fps=1, time=5)"
   ]
  },
  {
   "cell_type": "code",
   "execution_count": null,
   "metadata": {},
   "outputs": [],
   "source": [
    "add_audio_to_video(word_group_list1, \"Images_Video\", data_path, \"Text_MP3\", data_path, \"Images_Video_Audio\", result_path)\n",
    "add_audio_to_video(word_group_list1, \"Images_Video2\", data_path, \"Text_MP3\", data_path, \"Images_Video_Audio2\", result_path)\n",
    "add_audio_to_video(word_group_list1, \"Images_Video3\", data_path, \"Text_MP3\", data_path, \"Images_Video_Audio3\", result_path)"
   ]
  },
  {
   "cell_type": "code",
   "execution_count": null,
   "metadata": {},
   "outputs": [],
   "source": [
    "concat_video_sample1(word_group_list1, \"Images_Video_Audio\", result_path, \"Concat_Video\", result_path, f\"Sample_Video_{lang2.upper()}_1\")"
   ]
  },
  {
   "cell_type": "code",
   "execution_count": null,
   "metadata": {},
   "outputs": [],
   "source": []
  },
  {
   "cell_type": "markdown",
   "metadata": {},
   "source": [
    "#### Sample 2"
   ]
  },
  {
   "cell_type": "code",
   "execution_count": null,
   "metadata": {},
   "outputs": [],
   "source": [
    "# Output path and folder\n",
    "main_result_path = f\"/home/kurubal/Documents/Modern Ways/Project/{lang_folder.capitalize()}/Image Audio Video/Result/28 Words\"\n",
    "main_result_folder = f\"{lang_folder.capitalize()} {lang_pair.capitalize()}\"\n",
    "result_folder = \"Sample_2\""
   ]
  },
  {
   "cell_type": "code",
   "execution_count": null,
   "metadata": {},
   "outputs": [],
   "source": [
    "# ///***\n",
    "output_path = f\"{main_result_path}/{main_result_folder}/{result_folder}\"  # output path\n",
    "text_audio_path = f\"{main_result_path}/{main_result_folder}/{result_folder}/Data/Text_Audio\"\n",
    "data_path = f\"{output_path}/Data\"\n",
    "result_path = f\"{output_path}/Result\"\n",
    "\n",
    "Path(output_path).mkdir(parents=True, exist_ok=True)\n",
    "Path(text_audio_path).mkdir(parents=True, exist_ok=True)\n",
    "# ****\\\\\\"
   ]
  },
  {
   "cell_type": "code",
   "execution_count": null,
   "metadata": {},
   "outputs": [],
   "source": [
    "df_deployment_file2 = pd.read_excel(f\"/home/kurubal/Documents/Modern Ways/Project/{lang_folder.capitalize()}/Image Audio Video/\\\n",
    "Data/28 Words/Document/Videos Data Sample {lang_pair.capitalize()}.xlsx\", sheet_name=\"sample_video2\")\n",
    "df_deployment_file2.iloc[:,0] = df_deployment_file2.iloc[:,0].apply(lambda x: string_strip(x))\n",
    "df_deployment_file2"
   ]
  },
  {
   "cell_type": "code",
   "execution_count": null,
   "metadata": {},
   "outputs": [],
   "source": [
    "word_group_list1 = df_deployment_file2.iloc[:,0].dropna().to_list()"
   ]
  },
  {
   "cell_type": "code",
   "execution_count": null,
   "metadata": {},
   "outputs": [],
   "source": [
    "file_list = os.listdir(f\"{image_data_path}/Images_SW_JPG_Crop\")\n",
    "file_list"
   ]
  },
  {
   "cell_type": "code",
   "execution_count": null,
   "metadata": {},
   "outputs": [],
   "source": [
    "file_list_without_ext = []\n",
    "for file in file_list:\n",
    "    file_without_ext = os.path.splitext(file)[0]\n",
    "    file_list_without_ext.append(file_without_ext.strip())\n",
    "file_list_without_ext"
   ]
  },
  {
   "cell_type": "code",
   "execution_count": null,
   "metadata": {},
   "outputs": [],
   "source": [
    "no_image_file_list = []\n",
    "for word in word_group_list1:\n",
    "    if word.strip() in file_list_without_ext:\n",
    "        pass\n",
    "    else:\n",
    "        no_image_file_list.append(word.strip())\n",
    "no_image_file_list    "
   ]
  },
  {
   "cell_type": "code",
   "execution_count": null,
   "metadata": {},
   "outputs": [],
   "source": [
    "#convert_image_to_jpg_crop_size(word_group_list1, \"Images_SW\", image_data_path, \"Images_JPG_Crop\", data_path)"
   ]
  },
  {
   "cell_type": "code",
   "execution_count": null,
   "metadata": {},
   "outputs": [],
   "source": [
    "text_convert_to_audio_same(word_group_list1, \"Text_MP3\", data_path, language=lang, speech_slow=True, delay_time = 0.5, delay_point = \"both\")"
   ]
  },
  {
   "cell_type": "code",
   "execution_count": null,
   "metadata": {},
   "outputs": [],
   "source": [
    "#convert_pictures_to_video(word_group_list1, \"Image_JPG_Crop\", data_path, \"Image_Video\", data_path, fps=1, time=5)\n",
    "convert_pictures_to_video(word_group_list1, \"Images_SW_JPG_Crop\", image_data_path, \"Images_Video\", data_path, fps=1, time=5)"
   ]
  },
  {
   "cell_type": "code",
   "execution_count": null,
   "metadata": {},
   "outputs": [],
   "source": [
    "add_audio_to_video(word_group_list1, \"Images_Video\", data_path, \"Text_MP3\", data_path, \"Images_Video_Audio\", result_path)"
   ]
  },
  {
   "cell_type": "code",
   "execution_count": null,
   "metadata": {},
   "outputs": [],
   "source": [
    "concat_video_sample23456(word_group_list1, \"Images_Video_Audio\", result_path, \"Concat_Video\", result_path, f\"Sample_Video_{lang2.upper()}_2\")"
   ]
  },
  {
   "cell_type": "code",
   "execution_count": null,
   "metadata": {},
   "outputs": [],
   "source": []
  },
  {
   "cell_type": "markdown",
   "metadata": {},
   "source": [
    "#### Sample 3"
   ]
  },
  {
   "cell_type": "code",
   "execution_count": null,
   "metadata": {},
   "outputs": [],
   "source": [
    "# Output path and folder\n",
    "main_result_path = f\"/home/kurubal/Documents/Modern Ways/Project/{lang_folder.capitalize()}/Image Audio Video/Result/28 Words\"\n",
    "main_result_folder = f\"{lang_folder.capitalize()} {lang_pair.capitalize()}\"\n",
    "result_folder = \"Sample_3\""
   ]
  },
  {
   "cell_type": "code",
   "execution_count": null,
   "metadata": {},
   "outputs": [],
   "source": [
    "# ///***\n",
    "output_path = f\"{main_result_path}/{main_result_folder}/{result_folder}\"  # output path\n",
    "text_audio_path = f\"{main_result_path}/{main_result_folder}/{result_folder}/Data/Text_Audio\"\n",
    "data_path = f\"{output_path}/Data\"\n",
    "result_path = f\"{output_path}/Result\"\n",
    "\n",
    "Path(output_path).mkdir(parents=True, exist_ok=True)\n",
    "Path(text_audio_path).mkdir(parents=True, exist_ok=True)\n",
    "# ****\\\\\\"
   ]
  },
  {
   "cell_type": "code",
   "execution_count": null,
   "metadata": {},
   "outputs": [],
   "source": [
    "df_deployment_file3 = pd.read_excel(f\"/home/kurubal/Documents/Modern Ways/Project/{lang_folder.capitalize()}/Image Audio Video/\\\n",
    "Data/28 Words/Document/Videos Data Sample {lang_pair.capitalize()}.xlsx\", sheet_name=\"sample_video3\")\n",
    "df_deployment_file3.iloc[:,0] = df_deployment_file3.iloc[:,0].apply(lambda x: string_strip(x))\n",
    "df_deployment_file3.iloc[:,1] = df_deployment_file3.iloc[:,1].apply(lambda x: string_strip(x))\n",
    "df_deployment_file3"
   ]
  },
  {
   "cell_type": "code",
   "execution_count": null,
   "metadata": {},
   "outputs": [],
   "source": [
    "word_group_list1 = df_deployment_file3.iloc[:,0].dropna().to_list()\n",
    "word_group_list2 = df_deployment_file3.iloc[:,1].dropna().to_list()"
   ]
  },
  {
   "cell_type": "code",
   "execution_count": null,
   "metadata": {},
   "outputs": [],
   "source": [
    "word_group_list_zip = zip(word_group_list1,word_group_list2)"
   ]
  },
  {
   "cell_type": "code",
   "execution_count": null,
   "metadata": {},
   "outputs": [],
   "source": [
    "file_list = os.listdir(f\"{image_data_path}/Images_SW_JPG_Crop\")\n",
    "file_list"
   ]
  },
  {
   "cell_type": "code",
   "execution_count": null,
   "metadata": {},
   "outputs": [],
   "source": [
    "file_list_without_ext = []\n",
    "for file in file_list:\n",
    "    file_without_ext = os.path.splitext(file)[0]\n",
    "    file_list_without_ext.append(file_without_ext.strip())\n",
    "file_list_without_ext"
   ]
  },
  {
   "cell_type": "code",
   "execution_count": null,
   "metadata": {},
   "outputs": [],
   "source": [
    "no_image_file_list = []\n",
    "for word in word_group_list1:\n",
    "    if word.strip() in file_list_without_ext:\n",
    "        pass\n",
    "    else:\n",
    "        no_image_file_list.append(word.strip())\n",
    "no_image_file_list"
   ]
  },
  {
   "cell_type": "code",
   "execution_count": null,
   "metadata": {},
   "outputs": [],
   "source": [
    "#convert_image_to_jpg_crop_size(word_group_list1, \"Images_SW\", image_data_path, \"Images_JPG_Crop\", data_path)"
   ]
  },
  {
   "cell_type": "code",
   "execution_count": null,
   "metadata": {},
   "outputs": [],
   "source": [
    "text_convert_to_audio_same_sample13(word_group_list_zip, \"Text_MP3\", data_path, language=lang2, speech_slow=True, delay_time = 0.5, delay_point = \"both\")"
   ]
  },
  {
   "cell_type": "code",
   "execution_count": null,
   "metadata": {},
   "outputs": [],
   "source": [
    "#convert_pictures_to_video(word_group_list1, \"Images_JPG_Crop\", data_path, \"Images_Video\", data_path, fps=1, time=5)\n",
    "convert_pictures_to_video(word_group_list1, \"Images_SW_JPG_Crop\", image_data_path, \"Images_Video\", data_path, fps=1, time=5)"
   ]
  },
  {
   "cell_type": "code",
   "execution_count": null,
   "metadata": {},
   "outputs": [],
   "source": [
    "add_audio_to_video(word_group_list1, \"Images_Video\", data_path, \"Text_MP3\", data_path, \"Images_Video_Audio\", result_path)"
   ]
  },
  {
   "cell_type": "code",
   "execution_count": null,
   "metadata": {},
   "outputs": [],
   "source": [
    "concat_video_sample23456(word_group_list1, \"Images_Video_Audio\", result_path, \"Concat_Video\", result_path, f\"Sample_Video_{lang2.upper()}_3\")"
   ]
  },
  {
   "cell_type": "code",
   "execution_count": null,
   "metadata": {},
   "outputs": [],
   "source": []
  },
  {
   "cell_type": "markdown",
   "metadata": {},
   "source": [
    "#### Sample 4"
   ]
  },
  {
   "cell_type": "code",
   "execution_count": null,
   "metadata": {},
   "outputs": [],
   "source": [
    "# Output path and folder\n",
    "main_result_path = f\"/home/kurubal/Documents/Modern Ways/Project/{lang_folder.capitalize()}/Image Audio Video/Result/28 Words\"\n",
    "main_result_folder = f\"{lang_folder.capitalize()} {lang_pair.capitalize()}\"\n",
    "result_folder = \"Sample_4\""
   ]
  },
  {
   "cell_type": "code",
   "execution_count": null,
   "metadata": {},
   "outputs": [],
   "source": [
    "# ///***\n",
    "output_path = f\"{main_result_path}/{main_result_folder}/{result_folder}\"  # output path\n",
    "text_audio_path = f\"{main_result_path}/{main_result_folder}/{result_folder}/Data/Text_Audio\"\n",
    "data_path = f\"{output_path}/Data\"\n",
    "result_path = f\"{output_path}/Result\"\n",
    "\n",
    "Path(output_path).mkdir(parents=True, exist_ok=True)\n",
    "Path(text_audio_path).mkdir(parents=True, exist_ok=True)\n",
    "# ****\\\\\\"
   ]
  },
  {
   "cell_type": "code",
   "execution_count": null,
   "metadata": {},
   "outputs": [],
   "source": [
    "df_deployment_file4 = pd.read_excel(f\"/home/kurubal/Documents/Modern Ways/Project/{lang_folder.capitalize()}/Image Audio Video/\\\n",
    "Data/28 Words/Document/Videos Data Sample {lang_pair.capitalize()}.xlsx\", sheet_name=\"sample_video4\")\n",
    "df_deployment_file4.iloc[:,0] = df_deployment_file4.iloc[:,0].apply(lambda x: string_strip(x))\n",
    "df_deployment_file4.iloc[:,1] = df_deployment_file4.iloc[:,1].apply(lambda x: string_strip(x))\n",
    "df_deployment_file4"
   ]
  },
  {
   "cell_type": "code",
   "execution_count": null,
   "metadata": {},
   "outputs": [],
   "source": [
    "word_group_list1 = df_deployment_file4.iloc[:,0].dropna().to_list()\n",
    "word_group_list2 = df_deployment_file4.iloc[:,1].dropna().to_list()"
   ]
  },
  {
   "cell_type": "code",
   "execution_count": null,
   "metadata": {},
   "outputs": [],
   "source": [
    "word_group_list_zip = zip(word_group_list1,word_group_list2)"
   ]
  },
  {
   "cell_type": "code",
   "execution_count": null,
   "metadata": {},
   "outputs": [],
   "source": [
    "file_list = os.listdir(f\"{image_data_path}/Images_SW_JPG_Crop\")\n",
    "file_list"
   ]
  },
  {
   "cell_type": "code",
   "execution_count": null,
   "metadata": {},
   "outputs": [],
   "source": [
    "file_list_without_ext = []\n",
    "for file in file_list:\n",
    "    file_without_ext = os.path.splitext(file)[0]\n",
    "    file_list_without_ext.append(file_without_ext.strip())\n",
    "file_list_without_ext"
   ]
  },
  {
   "cell_type": "code",
   "execution_count": null,
   "metadata": {},
   "outputs": [],
   "source": [
    "no_image_file_list = []\n",
    "for word in word_group_list1:\n",
    "    if word.strip() in file_list_without_ext:\n",
    "        pass\n",
    "    else:\n",
    "        no_image_file_list.append(word.strip())\n",
    "no_image_file_list"
   ]
  },
  {
   "cell_type": "code",
   "execution_count": null,
   "metadata": {},
   "outputs": [],
   "source": [
    "#convert_image_to_jpg_crop_size(word_group_list1, \"Images_SW\", image_data_path, \"Images_JPG_Crop\", data_path)"
   ]
  },
  {
   "cell_type": "code",
   "execution_count": null,
   "metadata": {},
   "outputs": [],
   "source": [
    "text_convert_to_audio_same_sample45(word_group_list_zip, \"Text_MP3\", data_path, language=lang, language2=lang2, speech_slow=True, delay_time = 0.5, delay_point = \"both\")"
   ]
  },
  {
   "cell_type": "code",
   "execution_count": null,
   "metadata": {},
   "outputs": [],
   "source": [
    "#convert_pictures_to_video(word_group_list1, \"Images_JPG_Crop\", data_path, \"Images_Video\", data_path, fps=1, time=5)\n",
    "convert_pictures_to_video(word_group_list1, \"Images_SW_JPG_Crop\", image_data_path, \"Images_Video\", data_path, fps=1, time=5)"
   ]
  },
  {
   "cell_type": "code",
   "execution_count": null,
   "metadata": {},
   "outputs": [],
   "source": [
    "add_audio_to_video(word_group_list1, \"Images_Video\", data_path, \"Text_MP3\", data_path, \"Images_Video_Audio\", result_path)"
   ]
  },
  {
   "cell_type": "code",
   "execution_count": null,
   "metadata": {},
   "outputs": [],
   "source": [
    "concat_video_sample23456(word_group_list1, \"Images_Video_Audio\", result_path, \"Concat_Video\", result_path, f\"Sample_Video_{lang2.upper()}_4\")"
   ]
  },
  {
   "cell_type": "code",
   "execution_count": null,
   "metadata": {},
   "outputs": [],
   "source": []
  },
  {
   "cell_type": "markdown",
   "metadata": {},
   "source": [
    "#### Sample 5"
   ]
  },
  {
   "cell_type": "code",
   "execution_count": null,
   "metadata": {},
   "outputs": [],
   "source": [
    "# Output path and folder\n",
    "main_result_path = f\"/home/kurubal/Documents/Modern Ways/Project/{lang_folder.capitalize()}/Image Audio Video/Result/28 Words\"\n",
    "main_result_folder = f\"{lang_folder.capitalize()} {lang_pair.capitalize()}\"\n",
    "result_folder = \"Sample_5\""
   ]
  },
  {
   "cell_type": "code",
   "execution_count": null,
   "metadata": {},
   "outputs": [],
   "source": [
    "# ///***\n",
    "output_path = f\"{main_result_path}/{main_result_folder}/{result_folder}\"  # output path\n",
    "text_audio_path = f\"{main_result_path}/{main_result_folder}/{result_folder}/Data/Text_Audio\"\n",
    "data_path = f\"{output_path}/Data\"\n",
    "result_path = f\"{output_path}/Result\"\n",
    "\n",
    "Path(output_path).mkdir(parents=True, exist_ok=True)\n",
    "Path(text_audio_path).mkdir(parents=True, exist_ok=True)\n",
    "# ****\\\\\\"
   ]
  },
  {
   "cell_type": "code",
   "execution_count": null,
   "metadata": {},
   "outputs": [],
   "source": [
    "df_deployment_file5 = pd.read_excel(f\"/home/kurubal/Documents/Modern Ways/Project/{lang_folder.capitalize()}/Image Audio Video/\\\n",
    "Data/28 Words/Document/Videos Data Sample {lang_pair.capitalize()}.xlsx\", sheet_name=\"sample_video5\")\n",
    "df_deployment_file5.iloc[:,0] = df_deployment_file5.iloc[:,0].apply(lambda x: string_strip(x))\n",
    "df_deployment_file5.iloc[:,1] = df_deployment_file5.iloc[:,1].apply(lambda x: string_strip(x))\n",
    "df_deployment_file5"
   ]
  },
  {
   "cell_type": "code",
   "execution_count": null,
   "metadata": {},
   "outputs": [],
   "source": [
    "word_group_list1 = df_deployment_file5.iloc[:,0].dropna().to_list()\n",
    "word_group_list2 = df_deployment_file5.iloc[:,1].dropna().to_list()"
   ]
  },
  {
   "cell_type": "code",
   "execution_count": null,
   "metadata": {},
   "outputs": [],
   "source": [
    "word_group_list_zip = zip(word_group_list1,word_group_list2)"
   ]
  },
  {
   "cell_type": "code",
   "execution_count": null,
   "metadata": {},
   "outputs": [],
   "source": [
    "text_convert_to_audio_same_sample45(word_group_list_zip, \"Text_MP3\", data_path, language=lang, language2=lang2, speech_slow=True, delay_time = 0.5, delay_point = \"both\")"
   ]
  },
  {
   "cell_type": "code",
   "execution_count": null,
   "metadata": {},
   "outputs": [],
   "source": [
    "concat_audio_sample5(word_group_list1, \"Text_MP3\", data_path, \"Concat_Audio\", result_path, f\"Sample_Audio_{lang2.upper()}_5\")"
   ]
  },
  {
   "cell_type": "code",
   "execution_count": null,
   "metadata": {},
   "outputs": [],
   "source": [
    "add_audio_to_video_sample5(f\"{video_background_path_and_file}\", f\"Sample_Audio_{lang2.upper()}_5\", \"Concat_Audio\", result_path, \"Concat_Video\", result_path, f\"Sample_Video_{lang2.upper()}_5\")"
   ]
  },
  {
   "cell_type": "code",
   "execution_count": null,
   "metadata": {},
   "outputs": [],
   "source": []
  },
  {
   "cell_type": "markdown",
   "metadata": {},
   "source": [
    "#### Sample 6"
   ]
  },
  {
   "cell_type": "code",
   "execution_count": null,
   "metadata": {},
   "outputs": [],
   "source": [
    "# Output path and folder\n",
    "main_result_path = f\"/home/kurubal/Documents/Modern Ways/Project/{lang_folder.capitalize()}/Image Audio Video/Result/28 Words\"\n",
    "main_result_folder = f\"{lang_folder.capitalize()} {lang_pair.capitalize()}\"\n",
    "result_folder = \"Sample_6\""
   ]
  },
  {
   "cell_type": "code",
   "execution_count": null,
   "metadata": {},
   "outputs": [],
   "source": [
    "# ///***\n",
    "output_path = f\"{main_result_path}/{main_result_folder}/{result_folder}\"  # output path\n",
    "text_audio_path = f\"{main_result_path}/{main_result_folder}/{result_folder}/Data/Text_Audio\"\n",
    "data_path = f\"{output_path}/Data\"\n",
    "result_path = f\"{output_path}/Result\"\n",
    "\n",
    "Path(output_path).mkdir(parents=True, exist_ok=True)\n",
    "Path(text_audio_path).mkdir(parents=True, exist_ok=True)\n",
    "# ****\\\\\\"
   ]
  },
  {
   "cell_type": "code",
   "execution_count": null,
   "metadata": {},
   "outputs": [],
   "source": [
    "df_deployment_file6 = pd.read_excel(f\"/home/kurubal/Documents/Modern Ways/Project/{lang_folder.capitalize()}/Image Audio Video/\\\n",
    "Data/28 Words/Document/Videos Data Sample {lang_pair.capitalize()}.xlsx\", sheet_name=\"sample_video6\")\n",
    "df_deployment_file6.iloc[:,0] = df_deployment_file6.iloc[:,0].apply(lambda x: string_strip(x))\n",
    "df_deployment_file6"
   ]
  },
  {
   "cell_type": "code",
   "execution_count": null,
   "metadata": {},
   "outputs": [],
   "source": [
    "word_group_list1 = df_deployment_file6.iloc[:,0].dropna().to_list()"
   ]
  },
  {
   "cell_type": "code",
   "execution_count": null,
   "metadata": {},
   "outputs": [],
   "source": [
    "file_list = os.listdir(f\"{image_data_path}/Images_SW2_JPG_Crop\")\n",
    "file_list"
   ]
  },
  {
   "cell_type": "code",
   "execution_count": null,
   "metadata": {},
   "outputs": [],
   "source": [
    "file_list_without_ext = []\n",
    "for file in file_list:\n",
    "    file_without_ext = os.path.splitext(file)[0]\n",
    "    file_list_without_ext.append(file_without_ext.strip())\n",
    "file_list_without_ext"
   ]
  },
  {
   "cell_type": "code",
   "execution_count": null,
   "metadata": {},
   "outputs": [],
   "source": [
    "no_image_file_list = []\n",
    "for word in word_group_list1:\n",
    "    if word.strip() in file_list_without_ext:\n",
    "        pass\n",
    "    else:\n",
    "        no_image_file_list.append(word.strip())\n",
    "no_image_file_list    "
   ]
  },
  {
   "cell_type": "code",
   "execution_count": null,
   "metadata": {},
   "outputs": [],
   "source": [
    "#convert_image_to_jpg_crop_size(word_group_list1, \"Images_SW2\", image_data_path, \"Images_JPG_Crop\", data_path)"
   ]
  },
  {
   "cell_type": "code",
   "execution_count": null,
   "metadata": {},
   "outputs": [],
   "source": [
    "text_convert_to_audio_same(word_group_list1, \"Text_MP3\", data_path, language=lang, speech_slow=True, delay_time = 0.5, delay_point = \"both\")"
   ]
  },
  {
   "cell_type": "code",
   "execution_count": null,
   "metadata": {},
   "outputs": [],
   "source": [
    "#convert_pictures_to_video(word_group_list1, \"Images_JPG_Crop\", data_path, \"Images_Video\", data_path, fps=1, time=5)\n",
    "convert_pictures_to_video(word_group_list1, \"Images_SW2_JPG_Crop\", image_data_path, \"Images_Video\", data_path, fps=1, time=5)"
   ]
  },
  {
   "cell_type": "code",
   "execution_count": null,
   "metadata": {},
   "outputs": [],
   "source": [
    "add_audio_to_video(word_group_list1, \"Images_Video\", data_path, \"Text_MP3\", data_path, \"Images_Video_Audio\", result_path)"
   ]
  },
  {
   "cell_type": "code",
   "execution_count": null,
   "metadata": {},
   "outputs": [],
   "source": [
    "concat_video_sample23456(word_group_list1, \"Images_Video_Audio\", result_path, \"Concat_Video\", result_path, f\"Sample_Video_{lang2.upper()}_6\")"
   ]
  },
  {
   "cell_type": "code",
   "execution_count": null,
   "metadata": {},
   "outputs": [],
   "source": []
  },
  {
   "cell_type": "markdown",
   "metadata": {},
   "source": [
    "#### Sample 7"
   ]
  },
  {
   "cell_type": "code",
   "execution_count": null,
   "metadata": {},
   "outputs": [],
   "source": [
    "# Output path and folder\n",
    "main_result_path = f\"/home/kurubal/Documents/Modern Ways/Project/{lang_folder.capitalize()}/Image Audio Video/Result/28 Words\"\n",
    "main_result_folder = f\"{lang_folder.capitalize()} {lang_pair.capitalize()}\"\n",
    "result_folder = \"Sample_7\""
   ]
  },
  {
   "cell_type": "code",
   "execution_count": null,
   "metadata": {},
   "outputs": [],
   "source": [
    "# ///***\n",
    "output_path = f\"{main_result_path}/{main_result_folder}/{result_folder}\"  # output path\n",
    "text_audio_path = f\"{main_result_path}/{main_result_folder}/{result_folder}/Data/Text_Audio\"\n",
    "data_path = f\"{output_path}/Data\"\n",
    "result_path = f\"{output_path}/Result\"\n",
    "\n",
    "Path(output_path).mkdir(parents=True, exist_ok=True)\n",
    "Path(text_audio_path).mkdir(parents=True, exist_ok=True)\n",
    "# ****\\\\\\"
   ]
  },
  {
   "cell_type": "code",
   "execution_count": null,
   "metadata": {},
   "outputs": [],
   "source": [
    "df_deployment_file7 = pd.read_excel(f\"/home/kurubal/Documents/Modern Ways/Project/{lang_folder.capitalize()}/Image Audio Video/\\\n",
    "Data/28 Words/Document/Videos Data Sample {lang_pair.capitalize()}.xlsx\", sheet_name=\"sample_video7\")\n",
    "df_deployment_file7.iloc[:,0] = df_deployment_file7.iloc[:,0].apply(lambda x: string_strip(x))\n",
    "df_deployment_file7"
   ]
  },
  {
   "cell_type": "code",
   "execution_count": null,
   "metadata": {},
   "outputs": [],
   "source": [
    "word_group_list1 = df_deployment_file7.iloc[:,0].dropna().to_list()"
   ]
  },
  {
   "cell_type": "code",
   "execution_count": null,
   "metadata": {},
   "outputs": [],
   "source": [
    "file_list = os.listdir(f\"{image_data_path}/Images_SW2_JPG_Crop\")\n",
    "file_list"
   ]
  },
  {
   "cell_type": "code",
   "execution_count": null,
   "metadata": {},
   "outputs": [],
   "source": [
    "file_list_without_ext = []\n",
    "for file in file_list:\n",
    "    file_without_ext = os.path.splitext(file)[0]\n",
    "    file_list_without_ext.append(file_without_ext.strip())\n",
    "file_list_without_ext"
   ]
  },
  {
   "cell_type": "code",
   "execution_count": null,
   "metadata": {},
   "outputs": [],
   "source": [
    "no_image_file_list = []\n",
    "for word in word_group_list1:\n",
    "    if word.strip() in file_list_without_ext:\n",
    "        pass\n",
    "    else:\n",
    "        no_image_file_list.append(word.strip())\n",
    "no_image_file_list"
   ]
  },
  {
   "cell_type": "code",
   "execution_count": null,
   "metadata": {},
   "outputs": [],
   "source": [
    "#convert_image_to_jpg_crop_size(word_group_list1, \"Images_SV2\", image_data_path, \"Images_JPG_Crop\", data_path)"
   ]
  },
  {
   "cell_type": "code",
   "execution_count": null,
   "metadata": {},
   "outputs": [],
   "source": [
    "text_convert_to_audio_same(word_group_list1, \"Text_MP3\", data_path, language=lang, speech_slow=True, delay_time = 0.5, delay_point = \"both\")"
   ]
  },
  {
   "cell_type": "code",
   "execution_count": null,
   "metadata": {},
   "outputs": [],
   "source": [
    "#convert_pictures_to_video(word_group_list1, \"Images_JPG_Crop\", data_path, \"Images_Video\", data_path, fps=1, time=5)\n",
    "convert_pictures_to_video(word_group_list1, \"Images_SW2_JPG_Crop\", image_data_path, \"Images_Video\", data_path, fps=1, time=5)"
   ]
  },
  {
   "cell_type": "code",
   "execution_count": null,
   "metadata": {},
   "outputs": [],
   "source": [
    "add_audio_to_video(word_group_list1, \"Images_Video\", data_path, \"Text_MP3\", data_path, \"Images_Video_Audio\", result_path)"
   ]
  },
  {
   "cell_type": "code",
   "execution_count": null,
   "metadata": {},
   "outputs": [],
   "source": [
    "concat_video_sample7(word_group_list1, \"Images_Video_Audio\", result_path, \"Concat_Video\", result_path, f\"Sample_Video_{lang2.upper()}_7\")"
   ]
  },
  {
   "cell_type": "code",
   "execution_count": null,
   "metadata": {},
   "outputs": [],
   "source": []
  },
  {
   "cell_type": "code",
   "execution_count": null,
   "metadata": {},
   "outputs": [],
   "source": []
  },
  {
   "cell_type": "code",
   "execution_count": null,
   "metadata": {},
   "outputs": [],
   "source": []
  }
 ],
 "metadata": {
  "kernelspec": {
   "display_name": "Python 3.9.5 ('py39')",
   "language": "python",
   "name": "python3"
  },
  "language_info": {
   "codemirror_mode": {
    "name": "ipython",
    "version": 3
   },
   "file_extension": ".py",
   "mimetype": "text/x-python",
   "name": "python",
   "nbconvert_exporter": "python",
   "pygments_lexer": "ipython3",
   "version": "3.9.5 (default, Jun  4 2021, 12:28:51) \n[GCC 7.5.0]"
  },
  "orig_nbformat": 4,
  "vscode": {
   "interpreter": {
    "hash": "651d507d70892fab0fc6529d935cd476f6e2eb1791525b76da6cc8da34bc0503"
   }
  }
 },
 "nbformat": 4,
 "nbformat_minor": 2
}
