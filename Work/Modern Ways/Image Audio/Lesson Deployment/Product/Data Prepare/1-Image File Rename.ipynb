{
 "cells": [
  {
   "cell_type": "markdown",
   "metadata": {},
   "source": [
    "### Image File Rename"
   ]
  },
  {
   "cell_type": "code",
   "execution_count": 49,
   "metadata": {},
   "outputs": [],
   "source": [
    "import unicodedata\n",
    "import os\n",
    "import sys\n",
    "import re\n",
    "import numpy as np\n",
    "import pandas as pd\n",
    "from pathlib import Path\n",
    "import nltk\n",
    "from nltk import word_tokenize\n",
    "import shutil\n",
    "from os.path import isfile, join"
   ]
  },
  {
   "cell_type": "code",
   "execution_count": 50,
   "metadata": {},
   "outputs": [],
   "source": [
    "# custom character alphabet for word\n",
    "tr = re.compile(r\"[abcçdefgğhıijklmnoöprsştuüvyzqxw]+\", re.IGNORECASE|re.UNICODE) # Turkish filters='!\"#$%&()*+,-./:;<=>?@[\\\\]^_`{|}~\\t\\n0123456789'\n",
    "en = re.compile(r\"[abcdefghıijklmnopqrstxuvwyz]+\", re.IGNORECASE|re.UNICODE) # English\n",
    "nl = re.compile(r\"[abcdefghıijklmnopqrstxuvwyzāăēĕīĭōŏūŭ]+\", re.IGNORECASE|re.UNICODE) # Dutch (Flemenk)\n",
    "fr = re.compile(r\"[abcçdefghıijklmnopqrstxuvwyzàâæèéêëîïôœùûüÿ]+\", re.IGNORECASE|re.UNICODE) # French\n",
    "de = re.compile(r\"[abcdefghıijklmnopqrstxuvwyzäöüß]+\", re.IGNORECASE|re.UNICODE) # German\n",
    "es = re.compile(r\"[abcdefghıijklmnopqrstxuvwyzñáéíóú]+\", re.IGNORECASE|re.UNICODE) # Spanish (¿¡)\n",
    "pt = re.compile(r\"[abcçdefghıijklmnopqrstxuvwyzàáâãéêíóôõú]+\", re.IGNORECASE|re.UNICODE) # Portuguese\n",
    "it = re.compile(r\"[abcdefghıijklmnopqrstxuvwyzàéèìòùî]+\", re.IGNORECASE|re.UNICODE) # Italian\n",
    "ar = re.compile(r\"[ٿصؼۤڳڲؿڎػڠجڿ٬ٸؽؒؓطۄڀۂؘؔتٚڛےٝڜؖڦ٫ډ۰زۇٖۀ،لۓعٮێڔ۶ؚۧۜڤۏإٞٷؗۖ؈ژۣؕؑٴأۻڸۺگاڴڹۯ؉ْڌ؍ي؟ـٟړۅؐڶُىڽېًۢؠضۚڄٛڏٱۦ٩س٦ڼڂٔۘ٠ښٌٍ۬ٳ۾ٲږذۋٵٜ٘ڞڅںٗهڣۿپڒۥۗڋیؙم؞ثۨٹڵڪظٶۭ١ڭەڨحٕ؎ٺڷٰ۪۫ڻڥۛڑڟټآڡغګ؊ّٯڧڮ؏ۮ؋ؤ٪ؾڗۼق۟دکوِڰڐۃ۽ہفرڇچڝ۴بۈٽڕۡھةٓڃئ؛ڬٙڙڢڱۊَۆۉځ۠ۍۑۙڊنءڈٻشڍ؇۵كخ\\ا]+\", re.IGNORECASE|re.UNICODE) # Arabic"
   ]
  },
  {
   "cell_type": "code",
   "execution_count": 51,
   "metadata": {},
   "outputs": [
    {
     "name": "stdout",
     "output_type": "stream",
     "text": [
      "Turkish\n",
      "re.compile('[abcçdefgğhıijklmnoöprsştuüvyzqxw]+', re.IGNORECASE)\n"
     ]
    }
   ],
   "source": [
    "folder_name = \"Turkish\"  # English, Turkish, German, French, Spanish, Arabic, Portuguese, Dutch, Italian\n",
    " \n",
    "if folder_name == \"English\":\n",
    "    custom_alp = en\n",
    "elif folder_name == \"Turkish\":\n",
    "    custom_alp = tr\n",
    "elif folder_name == \"German\":\n",
    "    custom_alp = de\n",
    "elif folder_name == \"French\":\n",
    "    custom_alp = fr\n",
    "elif folder_name == \"Spanish\":\n",
    "    custom_alp = es\n",
    "elif folder_name == \"Arabic\":\n",
    "    custom_alp = ar\n",
    "elif folder_name == \"Portuguese\":\n",
    "    custom_alp = pt\n",
    "elif folder_name == \"Dutch\":\n",
    "    custom_alp = nl\n",
    "elif folder_name == \"Italian\":\n",
    "    custom_alp = it\n",
    "else:\n",
    "    pass\n",
    "#custom_alp = tr  # en, tr, de, fr, es, ar, pt, nl, it\n",
    "print(f\"{folder_name}\\n{custom_alp}\") "
   ]
  },
  {
   "cell_type": "code",
   "execution_count": 52,
   "metadata": {},
   "outputs": [],
   "source": [
    "def convert_one_character_letter(text):\n",
    "    '''\n",
    "    This function converts two byte occupy of letter to one byte unicode character without any visual change \\n\n",
    "    like as Turkish character ç,ş,ö,ğ. \\n\n",
    "    convert_one_character_letter(text): text is any string word or sentence.\n",
    "    '''\n",
    "    new_text = unicodedata.normalize('NFC', f\"{text}\")\n",
    "    return new_text"
   ]
  },
  {
   "cell_type": "code",
   "execution_count": 53,
   "metadata": {},
   "outputs": [],
   "source": [
    "# 1 way func\n",
    "#def clean_text(text):\n",
    "#    text2 = re.sub('[\\(\\[\\{].*?[\\)\\]\\}]', '', text)\n",
    "#    text3 = re.sub('[0-9]', '', text2)\n",
    "#    text4 = text3.strip()\n",
    "#    return text4"
   ]
  },
  {
   "cell_type": "code",
   "execution_count": 54,
   "metadata": {},
   "outputs": [],
   "source": [
    "# 2 way func\n",
    "def clean_text_pro(text, custom_alp): # for only string in specific language\n",
    "    #text_clean = re.findall(custom_alp, text)\n",
    "    text_clean = re.findall(custom_alp, str(text))\n",
    "    text_result = \"\".join(text_clean)\n",
    "    return text_result"
   ]
  },
  {
   "cell_type": "code",
   "execution_count": 55,
   "metadata": {},
   "outputs": [],
   "source": [
    "image_file_path = \"/home/kurubal/Downloads/Temp/Word Photos\"\n",
    "image_file_path_rename = \"/home/kurubal/Downloads/Temp/Images_SW_Rename\"  # Images_SW2_Rename\n",
    "\n",
    "Path(image_file_path_rename).mkdir(parents=True, exist_ok=True)"
   ]
  },
  {
   "cell_type": "code",
   "execution_count": 56,
   "metadata": {},
   "outputs": [
    {
     "data": {
      "text/plain": [
       "['anda1.jpg',\n",
       " 'inanamıyorum3.jpg',\n",
       " 'aşağı1.jpg',\n",
       " 'affedersiniz1.jpg',\n",
       " 'yemin3.jpg',\n",
       " 'anlıyorum3.jpg',\n",
       " 'anlaşıldı2.jpg',\n",
       " 'anlıyorum1.jpg',\n",
       " 'acele.jpg',\n",
       " 'ancak.jpg',\n",
       " 'alın1.jpg',\n",
       " 'ancak2.jpg',\n",
       " 'bilmem3.jpg',\n",
       " 'anlaşıldı1.jpg',\n",
       " 'ama1.jpg',\n",
       " 'uyuşturucu3.jpg',\n",
       " 'acele3.jpg',\n",
       " 'acele2.jpg',\n",
       " 'anladım1.jpg',\n",
       " 'ama4.jpg',\n",
       " 'aldım_2.jpg',\n",
       " 'acaba (*2).jpg',\n",
       " 'ama3.jpg',\n",
       " 'anlamıyorum3.jpg',\n",
       " 'aman2.jpg',\n",
       " 'aptal1.jpg',\n",
       " 'anlaşıldı3.jpg',\n",
       " 'alan 3.jpg',\n",
       " 'ancak1.jpg',\n",
       " 'almaya2.jpg',\n",
       " 'anladın1.jpg',\n",
       " 'aşağı.jpg',\n",
       " 'değilsin3.jpg',\n",
       " 'aşkına3.jpg',\n",
       " 'ama.jpg',\n",
       " 'anlaşıldı.jpg',\n",
       " 'ama2.jpg',\n",
       " 'ancak3.jpg',\n",
       " 'anlat.jpg',\n",
       " 'anlat3.jpg',\n",
       " 'anlıyorum.jpg',\n",
       " 'adama(2).jpg',\n",
       " 'anlıyorum2.jpg',\n",
       " 'biliyoruz3.jpg',\n",
       " 'aşkına.jpg',\n",
       " 'çocuğu.jpg',\n",
       " 'anlat2.jpg']"
      ]
     },
     "execution_count": 56,
     "metadata": {},
     "output_type": "execute_result"
    }
   ],
   "source": [
    "file_list = os.listdir(image_file_path)\n",
    "file_list"
   ]
  },
  {
   "cell_type": "code",
   "execution_count": 57,
   "metadata": {},
   "outputs": [],
   "source": [
    "for file in file_list:\n",
    "    # file and extention\n",
    "    file_without_ext = os.path.splitext(file)[0]\n",
    "    file_ext = os.path.splitext(file)[1]\n",
    "    # file clean and join\n",
    "    # 1 way \\***\n",
    "    #file_without_ext_clean = clean_text(file_without_ext)\n",
    "    # ***/\n",
    "    # 2 way \\***\n",
    "    file_without_ext_one = convert_one_character_letter(file_without_ext)\n",
    "    file_without_ext_clean = clean_text_pro(file_without_ext_one, custom_alp)\n",
    "    # ***/\n",
    "    word_list = word_tokenize(file_without_ext_clean)\n",
    "    file_without_ext_new = \" \".join(word_list)\n",
    "    file_new = f\"{file_without_ext_new.lower()}{file_ext}\"\n",
    "    # check move rename delete\n",
    "    if isfile(f\"{image_file_path_rename}/{file_new}\"):\n",
    "        pass\n",
    "    else:\n",
    "        source_file = f\"{image_file_path}/{file}\"\n",
    "        destination_path = f\"{image_file_path_rename}\"        \n",
    "        shutil.copy2(source_file, destination_path)\n",
    "        os.remove(source_file)\n",
    "        source_dest_file = f\"{destination_path}/{file}\"\n",
    "        target_dest_file = f\"{destination_path}/{file_new}\"\n",
    "        os.rename(source_dest_file, target_dest_file)"
   ]
  },
  {
   "cell_type": "code",
   "execution_count": null,
   "metadata": {},
   "outputs": [],
   "source": []
  },
  {
   "cell_type": "code",
   "execution_count": null,
   "metadata": {},
   "outputs": [],
   "source": [
    "#!pip install regex --upgrade"
   ]
  },
  {
   "cell_type": "code",
   "execution_count": null,
   "metadata": {},
   "outputs": [],
   "source": [
    "#!pip install --upgrade pip"
   ]
  },
  {
   "cell_type": "code",
   "execution_count": null,
   "metadata": {},
   "outputs": [],
   "source": [
    "#import sys\n",
    "#import codecs"
   ]
  },
  {
   "cell_type": "code",
   "execution_count": null,
   "metadata": {},
   "outputs": [],
   "source": [
    "#sys.stdout = codecs.getwriter('utf8')(sys.stdout)\n",
    "#sys.stderr = codecs.getwriter('utf8')(sys.stderr)"
   ]
  },
  {
   "cell_type": "code",
   "execution_count": null,
   "metadata": {},
   "outputs": [],
   "source": [
    "#import sys\n",
    "#print(sys.getdefaultencoding())\n",
    "#print(sys.getfilesystemencoding())"
   ]
  },
  {
   "cell_type": "code",
   "execution_count": null,
   "metadata": {},
   "outputs": [],
   "source": [
    "#import locale\n",
    "#print(locale.getlocale())"
   ]
  },
  {
   "cell_type": "code",
   "execution_count": null,
   "metadata": {},
   "outputs": [],
   "source": []
  },
  {
   "cell_type": "code",
   "execution_count": null,
   "metadata": {},
   "outputs": [],
   "source": []
  },
  {
   "cell_type": "code",
   "execution_count": null,
   "metadata": {},
   "outputs": [],
   "source": []
  }
 ],
 "metadata": {
  "kernelspec": {
   "display_name": "Python 3.9.5 ('py39')",
   "language": "python",
   "name": "python3"
  },
  "language_info": {
   "codemirror_mode": {
    "name": "ipython",
    "version": 3
   },
   "file_extension": ".py",
   "mimetype": "text/x-python",
   "name": "python",
   "nbconvert_exporter": "python",
   "pygments_lexer": "ipython3",
   "version": "3.9.5"
  },
  "vscode": {
   "interpreter": {
    "hash": "651d507d70892fab0fc6529d935cd476f6e2eb1791525b76da6cc8da34bc0503"
   }
  }
 },
 "nbformat": 4,
 "nbformat_minor": 2
}
