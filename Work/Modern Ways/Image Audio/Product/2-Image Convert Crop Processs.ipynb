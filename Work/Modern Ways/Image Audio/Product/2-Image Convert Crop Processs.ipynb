{
 "cells": [
  {
   "cell_type": "markdown",
   "metadata": {},
   "source": [
    "### Image Convert Cut Process"
   ]
  },
  {
   "cell_type": "code",
   "execution_count": 21,
   "metadata": {},
   "outputs": [],
   "source": [
    "#!pip install pillow --upgrade"
   ]
  },
  {
   "cell_type": "markdown",
   "metadata": {},
   "source": [
    "#### Multi Image Convert JPG And Crop"
   ]
  },
  {
   "cell_type": "code",
   "execution_count": 22,
   "metadata": {},
   "outputs": [],
   "source": [
    "import PIL\n",
    "from PIL import Image\n",
    "import pandas as pd\n",
    "import numpy as np\n",
    "import os\n",
    "import sys\n",
    "import matplotlib.pyplot as plt\n",
    "%matplotlib inline\n",
    "from pathlib import Path\n",
    "import shutil\n",
    "import os \n",
    "from os.path import isfile, join\n",
    "import glob\n",
    "import time"
   ]
  },
  {
   "cell_type": "code",
   "execution_count": 23,
   "metadata": {},
   "outputs": [],
   "source": [
    "# language pair\n",
    "lang_folder = \"Turkish\"  # Arabic, English, French, German, Turkish, Spanish, Portuguese, Dutch, Italian ==> target language for learner\n",
    "\n",
    "# word start and end\n",
    "word_start = 0  # 0  # native word start index\n",
    "word_end = 200  # 200  # native word end index"
   ]
  },
  {
   "cell_type": "markdown",
   "metadata": {},
   "source": [
    "##### Convert JPG"
   ]
  },
  {
   "cell_type": "code",
   "execution_count": 24,
   "metadata": {},
   "outputs": [],
   "source": [
    "path = f\"/media/kurubal/SSD/Data Scientist/Work/Modern Ways/Project/{lang_folder.capitalize()}/Image Audio Video/Data/200 Words\"\n",
    "\n",
    "#Path(path).mkdir(parents=True, exist_ok=True)"
   ]
  },
  {
   "cell_type": "code",
   "execution_count": 25,
   "metadata": {},
   "outputs": [],
   "source": [
    "image_path = f\"/media/kurubal/SSD/Data Scientist/Work/Modern Ways/Project/{lang_folder.capitalize()}/Image Audio Video/Data/200 Words\""
   ]
  },
  {
   "cell_type": "code",
   "execution_count": 26,
   "metadata": {},
   "outputs": [],
   "source": [
    "def convert_image_to_jpg(data_folder_name, data_path, out_folder_name, out_path):\n",
    "    '''\n",
    "    convert_image_to_jpg(data_folder_name, data_path, out_folder_name, out_path)\\n\n",
    "    data_folder_name, data_path, out_folder_name and out_path are path and folder in string.\\n\n",
    "    ex.\\n\n",
    "    path = f\"/media/kurubal/SSD/Data Scientist/Data Science/Data-Scientist/Work/Modern Ways/Image Audio/Product\"\\n\n",
    "    image_path = f\"/media/kurubal/SSD/Data Scientist/Data Science/Data-Scientist/Work/Modern Ways/Image Audio/Product\"\\n\n",
    "    convert_image_to_jpg(\"Images\", image_path, \"Images_JPG\", path)\n",
    "    '''\n",
    "    result_path = f\"{out_path}/{out_folder_name}\"\n",
    "    data_folder_path = f\"{data_path}/{data_folder_name}\"\n",
    "    Path(result_path).mkdir(parents=True, exist_ok=True)\n",
    "    files=[f for f in os.listdir(data_folder_path) if isfile(join(data_folder_path,f))]    \n",
    "    for i in range(len(files)):\n",
    "        #text = f\"{text}\"\n",
    "        pathfilename=data_folder_path+'/'+files[i]\n",
    "        filename_without_ext = os.path.splitext(files[i])[0]\n",
    "        try:\n",
    "            img = Image.open(pathfilename)\n",
    "            img2 = img.convert(\"RGB\")\n",
    "            img2.save(f\"{result_path}/{filename_without_ext}.jpg\")\n",
    "        except:\n",
    "            print(\"Oops!\", sys.exc_info()[0], \"occurred.\")"
   ]
  },
  {
   "cell_type": "code",
   "execution_count": 27,
   "metadata": {},
   "outputs": [],
   "source": [
    "convert_image_to_jpg(\"Images\", image_path, \"Images_JPG\", path)"
   ]
  },
  {
   "cell_type": "code",
   "execution_count": null,
   "metadata": {},
   "outputs": [],
   "source": []
  },
  {
   "cell_type": "markdown",
   "metadata": {},
   "source": [
    "##### Crop And Size Images"
   ]
  },
  {
   "cell_type": "code",
   "execution_count": 28,
   "metadata": {},
   "outputs": [],
   "source": [
    "path = f\"/media/kurubal/SSD/Data Scientist/Work/Modern Ways/Project/{lang_folder.capitalize()}/Image Audio Video/Data/200 Words\"\n",
    "\n",
    "#Path(path).mkdir(parents=True, exist_ok=True)"
   ]
  },
  {
   "cell_type": "code",
   "execution_count": 29,
   "metadata": {},
   "outputs": [],
   "source": [
    "image_path = f\"/media/kurubal/SSD/Data Scientist/Work/Modern Ways/Project/{lang_folder.capitalize()}/Image Audio Video/Data/200 Words\""
   ]
  },
  {
   "cell_type": "code",
   "execution_count": 30,
   "metadata": {},
   "outputs": [
    {
     "name": "stdout",
     "output_type": "stream",
     "text": [
      "(1600, 900)\n"
     ]
    }
   ],
   "source": [
    "aspect_ratio_width = 16\n",
    "aspect_ratio_height = 9\n",
    "basewidth = 1600\n",
    "size_width = int(basewidth)\n",
    "size_heigth = int((basewidth/aspect_ratio_width)*aspect_ratio_height)\n",
    "size = (size_width,size_heigth) \n",
    "print(size)"
   ]
  },
  {
   "cell_type": "code",
   "execution_count": 31,
   "metadata": {},
   "outputs": [],
   "source": [
    "def crop_and_size_image(text_list, data_folder_name, data_path, out_folder_name, out_path):\n",
    "    '''\n",
    "    crop_and_size_image(text_list, data_folder_name, data_path, out_folder_name, out_path)\\n\n",
    "    text_list is list values. data_folder_name, data_path, out_folder_name and out_path are path\\n\n",
    "    and folder in string(str)\\n\n",
    "    ex.\\n\n",
    "    path = f\"/media/kurubal/SSD/Data Scientist/Data Science/Data-Scientist/Work/Modern Ways/Image Audio/Product\"\\n\n",
    "    image_path = f\"/media/kurubal/SSD/Data Scientist/Data Science/Data-Scientist/Work/Modern Ways/Image Audio/Product\"\\n\n",
    "    crop_and_size_image(word_select_list, \"Images_JPG\", image_path, \"Images_Crop_Size\", path)\n",
    "    '''\n",
    "    result_path = f\"{out_path}/{out_folder_name}\"\n",
    "    Path(result_path).mkdir(parents=True, exist_ok=True)\n",
    "    no_image_file_list = []\n",
    "    for text in text_list:\n",
    "        try:\n",
    "            img = Image.open(f\"{data_path}/{data_folder_name}/{text}.jpg\")\n",
    "            width, height = img.size\n",
    "            height_var = int(height/aspect_ratio_height)\n",
    "            width_var = int(width/aspect_ratio_width)\n",
    "\n",
    "            if height_var == width_var:\n",
    "                img_var = img.resize(size, Image.LANCZOS)\n",
    "            elif width_var > height_var:\n",
    "                crop_width = int(abs((width-(height_var*aspect_ratio_width))/2))\n",
    "                box = (crop_width,0,width-crop_width,height)  # left, top, right, bottom\n",
    "                img_crop = img.crop(box)  \n",
    "                img_var = img_crop.resize(size, Image.LANCZOS)\n",
    "            elif width_var < height_var:\n",
    "                crop_height = int(abs((height-(width_var*aspect_ratio_height))/2))\n",
    "                box = (0,crop_height,width,height-crop_height)  # left, top, right, bottom\n",
    "                img_crop = img.crop(box)  # left, top, right, bottom\n",
    "                img_var = img_crop.resize(size, Image.LANCZOS)\n",
    "            else:\n",
    "                img_var = img\n",
    "\n",
    "            img_var.save(f\"{result_path}/{text}.jpg\")            \n",
    "        except:\n",
    "            no_image_file_list.append(text)\n",
    "            print(\"Oops!\", sys.exc_info()[0], \"occurred.\")\n",
    "            \n",
    "    return no_image_file_list"
   ]
  },
  {
   "cell_type": "code",
   "execution_count": 32,
   "metadata": {},
   "outputs": [
    {
     "data": {
      "text/html": [
       "<div>\n",
       "<style scoped>\n",
       "    .dataframe tbody tr th:only-of-type {\n",
       "        vertical-align: middle;\n",
       "    }\n",
       "\n",
       "    .dataframe tbody tr th {\n",
       "        vertical-align: top;\n",
       "    }\n",
       "\n",
       "    .dataframe thead th {\n",
       "        text-align: right;\n",
       "    }\n",
       "</style>\n",
       "<table border=\"1\" class=\"dataframe\">\n",
       "  <thead>\n",
       "    <tr style=\"text-align: right;\">\n",
       "      <th></th>\n",
       "      <th>word</th>\n",
       "      <th>frequency</th>\n",
       "    </tr>\n",
       "  </thead>\n",
       "  <tbody>\n",
       "    <tr>\n",
       "      <th>0</th>\n",
       "      <td>bir</td>\n",
       "      <td>18835735</td>\n",
       "    </tr>\n",
       "    <tr>\n",
       "      <th>1</th>\n",
       "      <td>bu</td>\n",
       "      <td>11062659</td>\n",
       "    </tr>\n",
       "    <tr>\n",
       "      <th>2</th>\n",
       "      <td>ne</td>\n",
       "      <td>8025880</td>\n",
       "    </tr>\n",
       "    <tr>\n",
       "      <th>3</th>\n",
       "      <td>ve</td>\n",
       "      <td>7766036</td>\n",
       "    </tr>\n",
       "    <tr>\n",
       "      <th>4</th>\n",
       "      <td>için</td>\n",
       "      <td>5484109</td>\n",
       "    </tr>\n",
       "    <tr>\n",
       "      <th>...</th>\n",
       "      <td>...</td>\n",
       "      <td>...</td>\n",
       "    </tr>\n",
       "    <tr>\n",
       "      <th>987922</th>\n",
       "      <td>karneleme</td>\n",
       "      <td>5</td>\n",
       "    </tr>\n",
       "    <tr>\n",
       "      <th>987923</th>\n",
       "      <td>karnaya</td>\n",
       "      <td>5</td>\n",
       "    </tr>\n",
       "    <tr>\n",
       "      <th>987924</th>\n",
       "      <td>dörtlümüzün</td>\n",
       "      <td>5</td>\n",
       "    </tr>\n",
       "    <tr>\n",
       "      <th>987925</th>\n",
       "      <td>karnavalınız</td>\n",
       "      <td>5</td>\n",
       "    </tr>\n",
       "    <tr>\n",
       "      <th>987926</th>\n",
       "      <td>hurmanın</td>\n",
       "      <td>5</td>\n",
       "    </tr>\n",
       "  </tbody>\n",
       "</table>\n",
       "<p>987927 rows × 2 columns</p>\n",
       "</div>"
      ],
      "text/plain": [
       "                word  frequency\n",
       "0                bir   18835735\n",
       "1                 bu   11062659\n",
       "2                 ne    8025880\n",
       "3                 ve    7766036\n",
       "4               için    5484109\n",
       "...              ...        ...\n",
       "987922     karneleme          5\n",
       "987923       karnaya          5\n",
       "987924   dörtlümüzün          5\n",
       "987925  karnavalınız          5\n",
       "987926      hurmanın          5\n",
       "\n",
       "[987927 rows x 2 columns]"
      ]
     },
     "execution_count": 32,
     "metadata": {},
     "output_type": "execute_result"
    }
   ],
   "source": [
    "df_word_all = pd.read_excel(f\"/media/kurubal/SSD/Data Scientist/Work/Modern Ways/Project/{lang_folder.lower().capitalize()}/Deployment/Data/Word/Word_Merge_Preprocess.xlsx\")\n",
    "#df_word_all = pd.read_excel(\"test.xlsx\")\n",
    "df_word_all"
   ]
  },
  {
   "cell_type": "code",
   "execution_count": 33,
   "metadata": {},
   "outputs": [
    {
     "data": {
      "text/html": [
       "<div>\n",
       "<style scoped>\n",
       "    .dataframe tbody tr th:only-of-type {\n",
       "        vertical-align: middle;\n",
       "    }\n",
       "\n",
       "    .dataframe tbody tr th {\n",
       "        vertical-align: top;\n",
       "    }\n",
       "\n",
       "    .dataframe thead th {\n",
       "        text-align: right;\n",
       "    }\n",
       "</style>\n",
       "<table border=\"1\" class=\"dataframe\">\n",
       "  <thead>\n",
       "    <tr style=\"text-align: right;\">\n",
       "      <th></th>\n",
       "      <th>word</th>\n",
       "      <th>frequency</th>\n",
       "    </tr>\n",
       "  </thead>\n",
       "  <tbody>\n",
       "    <tr>\n",
       "      <th>0</th>\n",
       "      <td>bir</td>\n",
       "      <td>18835735</td>\n",
       "    </tr>\n",
       "    <tr>\n",
       "      <th>1</th>\n",
       "      <td>bu</td>\n",
       "      <td>11062659</td>\n",
       "    </tr>\n",
       "    <tr>\n",
       "      <th>2</th>\n",
       "      <td>ne</td>\n",
       "      <td>8025880</td>\n",
       "    </tr>\n",
       "    <tr>\n",
       "      <th>3</th>\n",
       "      <td>ve</td>\n",
       "      <td>7766036</td>\n",
       "    </tr>\n",
       "    <tr>\n",
       "      <th>4</th>\n",
       "      <td>için</td>\n",
       "      <td>5484109</td>\n",
       "    </tr>\n",
       "    <tr>\n",
       "      <th>...</th>\n",
       "      <td>...</td>\n",
       "      <td>...</td>\n",
       "    </tr>\n",
       "    <tr>\n",
       "      <th>195</th>\n",
       "      <td>saat</td>\n",
       "      <td>399989</td>\n",
       "    </tr>\n",
       "    <tr>\n",
       "      <th>196</th>\n",
       "      <td>onunla</td>\n",
       "      <td>399330</td>\n",
       "    </tr>\n",
       "    <tr>\n",
       "      <th>197</th>\n",
       "      <td>yapıyorsun</td>\n",
       "      <td>398274</td>\n",
       "    </tr>\n",
       "    <tr>\n",
       "      <th>198</th>\n",
       "      <td>neler</td>\n",
       "      <td>397377</td>\n",
       "    </tr>\n",
       "    <tr>\n",
       "      <th>199</th>\n",
       "      <td>ister</td>\n",
       "      <td>396177</td>\n",
       "    </tr>\n",
       "  </tbody>\n",
       "</table>\n",
       "<p>200 rows × 2 columns</p>\n",
       "</div>"
      ],
      "text/plain": [
       "           word  frequency\n",
       "0           bir   18835735\n",
       "1            bu   11062659\n",
       "2            ne    8025880\n",
       "3            ve    7766036\n",
       "4          için    5484109\n",
       "..          ...        ...\n",
       "195        saat     399989\n",
       "196      onunla     399330\n",
       "197  yapıyorsun     398274\n",
       "198       neler     397377\n",
       "199       ister     396177\n",
       "\n",
       "[200 rows x 2 columns]"
      ]
     },
     "execution_count": 33,
     "metadata": {},
     "output_type": "execute_result"
    }
   ],
   "source": [
    "df_word_select = df_word_all.iloc[word_start:word_end,]\n",
    "df_word_select"
   ]
  },
  {
   "cell_type": "code",
   "execution_count": 34,
   "metadata": {},
   "outputs": [],
   "source": [
    "word_select_list = df_word_select[\"word\"].values.tolist()"
   ]
  },
  {
   "cell_type": "code",
   "execution_count": 35,
   "metadata": {},
   "outputs": [],
   "source": [
    "#word_select_list = ['ve','de','var','hayır','kadar','bana','tamam','ki','ya','hadi','lütfen','bile','yani','peki','çünkü','biri','hey','efendim','demek','teşekkürler',\n",
    "#'merhaba','işte','üzgünüm','diye','teşekkür','tabii','haydi','dostum','selam','pekala','oh','birkaç','zaten']"
   ]
  },
  {
   "cell_type": "code",
   "execution_count": 36,
   "metadata": {},
   "outputs": [
    {
     "name": "stderr",
     "output_type": "stream",
     "text": [
      "<ipython-input-31-4568a6e24a71>:32: DeprecationWarning: LANCZOS is deprecated and will be removed in Pillow 10 (2023-07-01). Use Resampling.LANCZOS instead.\n",
      "  img_var = img_crop.resize(size, Image.LANCZOS)\n",
      "<ipython-input-31-4568a6e24a71>:27: DeprecationWarning: LANCZOS is deprecated and will be removed in Pillow 10 (2023-07-01). Use Resampling.LANCZOS instead.\n",
      "  img_var = img_crop.resize(size, Image.LANCZOS)\n"
     ]
    },
    {
     "name": "stdout",
     "output_type": "stream",
     "text": [
      "Oops! <class 'FileNotFoundError'> occurred.\n",
      "Oops! <class 'FileNotFoundError'> occurred.\n",
      "Oops! <class 'FileNotFoundError'> occurred.\n"
     ]
    },
    {
     "name": "stderr",
     "output_type": "stream",
     "text": [
      "<ipython-input-31-4568a6e24a71>:22: DeprecationWarning: LANCZOS is deprecated and will be removed in Pillow 10 (2023-07-01). Use Resampling.LANCZOS instead.\n",
      "  img_var = img.resize(size, Image.LANCZOS)\n"
     ]
    },
    {
     "name": "stdout",
     "output_type": "stream",
     "text": [
      "Oops! <class 'FileNotFoundError'> occurred.\n",
      "Oops! <class 'FileNotFoundError'> occurred.\n",
      "Oops! <class 'FileNotFoundError'> occurred.\n",
      "Oops! <class 'FileNotFoundError'> occurred.\n",
      "Oops! <class 'FileNotFoundError'> occurred.\n",
      "Oops! <class 'FileNotFoundError'> occurred.\n",
      "Oops! <class 'FileNotFoundError'> occurred.\n",
      "Oops! <class 'FileNotFoundError'> occurred.\n",
      "Oops! <class 'FileNotFoundError'> occurred.\n",
      "Oops! <class 'FileNotFoundError'> occurred.\n",
      "Oops! <class 'FileNotFoundError'> occurred.\n",
      "Oops! <class 'FileNotFoundError'> occurred.\n",
      "Oops! <class 'FileNotFoundError'> occurred.\n",
      "Oops! <class 'FileNotFoundError'> occurred.\n",
      "Oops! <class 'FileNotFoundError'> occurred.\n",
      "Oops! <class 'FileNotFoundError'> occurred.\n",
      "Oops! <class 'FileNotFoundError'> occurred.\n",
      "Oops! <class 'FileNotFoundError'> occurred.\n",
      "Oops! <class 'FileNotFoundError'> occurred.\n",
      "Oops! <class 'FileNotFoundError'> occurred.\n",
      "Oops! <class 'FileNotFoundError'> occurred.\n",
      "Oops! <class 'FileNotFoundError'> occurred.\n",
      "Oops! <class 'FileNotFoundError'> occurred.\n",
      "Oops! <class 'FileNotFoundError'> occurred.\n",
      "Oops! <class 'FileNotFoundError'> occurred.\n",
      "Oops! <class 'FileNotFoundError'> occurred.\n",
      "Oops! <class 'FileNotFoundError'> occurred.\n",
      "Oops! <class 'FileNotFoundError'> occurred.\n",
      "Oops! <class 'FileNotFoundError'> occurred.\n"
     ]
    },
    {
     "data": {
      "text/plain": [
       "['ve',\n",
       " 'de',\n",
       " 'var',\n",
       " 'kadar',\n",
       " 'bana',\n",
       " 'tamam',\n",
       " 'ki',\n",
       " 'ya',\n",
       " 'hadi',\n",
       " 'lütfen',\n",
       " 'bile',\n",
       " 'yani',\n",
       " 'peki',\n",
       " 'çünkü',\n",
       " 'biri',\n",
       " 'hey',\n",
       " 'efendim',\n",
       " 'demek',\n",
       " 'teşekkürler',\n",
       " 'merhaba',\n",
       " 'işte',\n",
       " 'üzgünüm',\n",
       " 'diye',\n",
       " 'teşekkür',\n",
       " 'tabii',\n",
       " 'haydi',\n",
       " 'dostum',\n",
       " 'selam',\n",
       " 'pekala',\n",
       " 'oh',\n",
       " 'birkaç',\n",
       " 'zaten']"
      ]
     },
     "execution_count": 36,
     "metadata": {},
     "output_type": "execute_result"
    }
   ],
   "source": [
    "crop_and_size_image(word_select_list, \"Images_JPG\", image_path, \"Images_Crop_Size\", path)"
   ]
  },
  {
   "cell_type": "code",
   "execution_count": null,
   "metadata": {},
   "outputs": [],
   "source": []
  },
  {
   "cell_type": "code",
   "execution_count": null,
   "metadata": {},
   "outputs": [],
   "source": []
  },
  {
   "cell_type": "markdown",
   "metadata": {},
   "source": [
    "#### Sample"
   ]
  },
  {
   "cell_type": "code",
   "execution_count": null,
   "metadata": {},
   "outputs": [],
   "source": [
    "import PIL\n",
    "from PIL import Image\n",
    "import pandas as pd\n",
    "import numpy as np\n",
    "import os\n",
    "import matplotlib.pyplot as plt\n",
    "%matplotlib inline\n",
    "from pathlib import Path\n",
    "import shutil"
   ]
  },
  {
   "cell_type": "code",
   "execution_count": null,
   "metadata": {},
   "outputs": [],
   "source": [
    "print(PIL.__version__)"
   ]
  },
  {
   "cell_type": "markdown",
   "metadata": {},
   "source": [
    "##### Image Convert To JPG"
   ]
  },
  {
   "cell_type": "code",
   "execution_count": null,
   "metadata": {},
   "outputs": [],
   "source": [
    "img = Image.open('ne.png')\n",
    "plt.imshow(img)"
   ]
  },
  {
   "cell_type": "code",
   "execution_count": null,
   "metadata": {},
   "outputs": [],
   "source": [
    "img2 = img.convert(\"RGB\")"
   ]
  },
  {
   "cell_type": "code",
   "execution_count": null,
   "metadata": {},
   "outputs": [],
   "source": [
    "img2.save(\"ne.jpg\")"
   ]
  },
  {
   "cell_type": "markdown",
   "metadata": {},
   "source": [
    "##### Cut Image With Aspect Ratio"
   ]
  },
  {
   "cell_type": "code",
   "execution_count": null,
   "metadata": {},
   "outputs": [],
   "source": [
    "aspect_ratio_width = 3\n",
    "aspect_ratio_height = 2\n",
    "basewidth = 1200\n",
    "size_width = int(basewidth)\n",
    "size_heigth = int((basewidth/aspect_ratio_width)*aspect_ratio_height)\n",
    "size = (size_width,size_heigth) \n",
    "print(size)"
   ]
  },
  {
   "cell_type": "code",
   "execution_count": null,
   "metadata": {},
   "outputs": [],
   "source": [
    "img = Image.open('adam.jpg')\n",
    "plt.imshow(img)"
   ]
  },
  {
   "cell_type": "code",
   "execution_count": null,
   "metadata": {},
   "outputs": [],
   "source": [
    "width, height = img.size\n",
    "height_var = int(height/aspect_ratio_height)\n",
    "width_var = int(width/aspect_ratio_width)\n",
    "\n",
    "if height_var == width_var:\n",
    "    img_var = img.resize(size, Image.LANCZOS)\n",
    "elif width_var > height_var:\n",
    "    crop_width = int(abs((width-(height_var*aspect_ratio_width))/2))\n",
    "    box = (crop_width,0,width-crop_width,height)  # left, top, right, bottom\n",
    "    img_crop = img.crop(box)  \n",
    "    img_var = img_crop.resize(size, Image.LANCZOS)\n",
    "elif width_var < height_var:\n",
    "    crop_height = int(abs((height-(width_var*aspect_ratio_height))/2))\n",
    "    box = (0,crop_height,width,height-crop_height)  # left, top, right, bottom\n",
    "    img_crop = img.crop(box)  # left, top, right, bottom\n",
    "    img_var = img_crop.resize(size, Image.LANCZOS)\n",
    "else:\n",
    "    img_var = img\n",
    "\n",
    "img_var.save(\"adam_crop2.jpg\")"
   ]
  },
  {
   "cell_type": "code",
   "execution_count": null,
   "metadata": {},
   "outputs": [],
   "source": []
  },
  {
   "cell_type": "code",
   "execution_count": null,
   "metadata": {},
   "outputs": [],
   "source": []
  },
  {
   "cell_type": "code",
   "execution_count": null,
   "metadata": {},
   "outputs": [],
   "source": []
  }
 ],
 "metadata": {
  "kernelspec": {
   "display_name": "Python 3.9.5 ('py39')",
   "language": "python",
   "name": "python3"
  },
  "language_info": {
   "codemirror_mode": {
    "name": "ipython",
    "version": 3
   },
   "file_extension": ".py",
   "mimetype": "text/x-python",
   "name": "python",
   "nbconvert_exporter": "python",
   "pygments_lexer": "ipython3",
   "version": "3.9.5"
  },
  "orig_nbformat": 4,
  "vscode": {
   "interpreter": {
    "hash": "651d507d70892fab0fc6529d935cd476f6e2eb1791525b76da6cc8da34bc0503"
   }
  }
 },
 "nbformat": 4,
 "nbformat_minor": 2
}
