{
 "cells": [
  {
   "cell_type": "markdown",
   "metadata": {},
   "source": [
    "### Convert Image To Video"
   ]
  },
  {
   "cell_type": "code",
   "execution_count": null,
   "metadata": {},
   "outputs": [],
   "source": [
    "#!pip install opencv-python "
   ]
  },
  {
   "cell_type": "code",
   "execution_count": null,
   "metadata": {},
   "outputs": [],
   "source": [
    "import os\n",
    "import sys\n",
    "import cv2\n",
    "import numpy as np\n",
    "import pandas as pd\n",
    "from pathlib import Path\n",
    "import shutil\n",
    "import time"
   ]
  },
  {
   "cell_type": "markdown",
   "metadata": {},
   "source": [
    "#### 200 Words"
   ]
  },
  {
   "cell_type": "markdown",
   "metadata": {},
   "source": [
    "##### Multi Convert Image To Video"
   ]
  },
  {
   "cell_type": "code",
   "execution_count": null,
   "metadata": {},
   "outputs": [],
   "source": [
    "# language pair\n",
    "lang_folder = \"Turkish\"  # Arabic, English, French, German, Turkish, Spanish, Portuguese, Dutch, Italian ==> target language for learner\n",
    "\n",
    "# word start and end\n",
    "word_start = 0  # 0  # native word start index\n",
    "word_end = 200  # 200  # native word end index"
   ]
  },
  {
   "cell_type": "code",
   "execution_count": null,
   "metadata": {},
   "outputs": [],
   "source": [
    "path = f\"/media/kurubal/SSD/Data Scientist/Work/Modern Ways/Project/{lang_folder.capitalize()}/Image Audio Video/Data/200 Words\"\n",
    "\n",
    "#Path(path).mkdir(parents=True, exist_ok=True)"
   ]
  },
  {
   "cell_type": "code",
   "execution_count": null,
   "metadata": {},
   "outputs": [],
   "source": [
    "image_path = f\"/media/kurubal/SSD/Data Scientist/Work/Modern Ways/Project/{lang_folder.capitalize()}/Image Audio Video/Data/200 Words\""
   ]
  },
  {
   "cell_type": "code",
   "execution_count": null,
   "metadata": {},
   "outputs": [],
   "source": [
    "def convert_pictures_to_video(text_list, data_folder_name, data_path, out_folder_name, out_path, fps=1, time=5):\n",
    "    '''\n",
    "    convert_pictures_to_video(text_list, data_folder_name, data_path, out_folder_name, out_path, fps=1, time=5)\\n\n",
    "    text_list is list values. data_folder_name, data_path, out_folder_name and out_path are path\\n\n",
    "    and folder in string(str). others are cv2 parameter\\n\n",
    "    ex.\\n\n",
    "    path = f\"/media/kurubal/SSD/Data Scientist/Data Science/Data-Scientist/Work/Modern Ways/Image Audio/Product\"\\n\n",
    "    image_path = f\"/media/kurubal/SSD/Data Scientist/Data Science/Data-Scientist/Work/Modern Ways/Image Audio/Product\"\\n\n",
    "    convert_pictures_to_video(word_select_list, \"Images_Crop_Size\", image_path, \"Image_Video\", path, fps=1, time=2)\n",
    "    '''\n",
    "    no_image_file_list = []\n",
    "    result_path = f\"{out_path}/{out_folder_name}\"\n",
    "    Path(result_path).mkdir(parents=True, exist_ok=True)\n",
    "    for text in text_list:\n",
    "        try:\n",
    "            img = cv2.imread(f\"{data_path}/{data_folder_name}/{text}.jpg\")\n",
    "            height, width, layers = img.shape\n",
    "            size=(width,height)\n",
    "            frame_array = []\n",
    "            for k in range (time):\n",
    "                frame_array.append(img)\n",
    "            result_path2 = f\"{out_path}/{out_folder_name}/{text}.mp4\"\n",
    "            out = cv2.VideoWriter(result_path2,cv2.VideoWriter_fourcc(*'mp4v'), fps, size)\n",
    "\n",
    "            for i in range(len(frame_array)):\n",
    "                out.write(frame_array[i])\n",
    "            out.release()\n",
    "        except:\n",
    "            no_image_file_list.append(text)\n",
    "            print(\"Oops!\", sys.exc_info()[0], \"occurred.\")\n",
    "    \n",
    "    return no_image_file_list"
   ]
  },
  {
   "cell_type": "code",
   "execution_count": null,
   "metadata": {},
   "outputs": [],
   "source": [
    "df_word_all = pd.read_excel(f\"/media/kurubal/SSD/Data Scientist/Work/Modern Ways/Project/{lang_folder.lower().capitalize()}/Deployment/Data/Word/Word_Merge_Preprocess.xlsx\")\n",
    "#df_word_all = pd.read_excel(\"test.xlsx\")\n",
    "#df_word_all = df_word_all.head(10)\n",
    "df_word_all"
   ]
  },
  {
   "cell_type": "code",
   "execution_count": null,
   "metadata": {},
   "outputs": [],
   "source": [
    "df_word_select = df_word_all.iloc[word_start:word_end,]\n",
    "df_word_select"
   ]
  },
  {
   "cell_type": "code",
   "execution_count": null,
   "metadata": {},
   "outputs": [],
   "source": [
    "word_select_list = df_word_select[\"word\"].values.tolist()"
   ]
  },
  {
   "cell_type": "code",
   "execution_count": null,
   "metadata": {},
   "outputs": [],
   "source": [
    "#word_select_list = ['ve','de','var','hayır','kadar','bana','tamam','ki','ya','hadi','lütfen','bile','yani','peki','çünkü','biri','hey','efendim','demek','teşekkürler',\n",
    "#'merhaba','işte','üzgünüm','diye','teşekkür','tabii','haydi','dostum','selam','pekala','oh','birkaç','zaten']"
   ]
  },
  {
   "cell_type": "code",
   "execution_count": null,
   "metadata": {},
   "outputs": [],
   "source": [
    "convert_pictures_to_video(word_select_list, \"Images_Crop_Size\", image_path, \"Image_Video\", path, fps=1, time=5)"
   ]
  },
  {
   "cell_type": "code",
   "execution_count": null,
   "metadata": {},
   "outputs": [],
   "source": []
  },
  {
   "cell_type": "code",
   "execution_count": null,
   "metadata": {},
   "outputs": [],
   "source": []
  },
  {
   "cell_type": "markdown",
   "metadata": {},
   "source": [
    "#### Sample"
   ]
  },
  {
   "cell_type": "code",
   "execution_count": null,
   "metadata": {},
   "outputs": [],
   "source": [
    "import cv2  # pip install opencv-python \n",
    "import os \n",
    "from os.path import isfile, join\n",
    "import glob "
   ]
  },
  {
   "cell_type": "code",
   "execution_count": null,
   "metadata": {},
   "outputs": [],
   "source": [
    "def convert_pictures_to_video(pathIn, pathOut, fps, time):\n",
    "    ''' this function converts images to video'''\n",
    "    frame_array=[]\n",
    "    files=[f for f in os.listdir(pathIn) if isfile(join(pathIn,f))]\n",
    "    for i in range (len(files)):\n",
    "        filename=pathIn+files[i]\n",
    "        '''reading images'''\n",
    "        img=cv2.imread(filename)\n",
    "        # img=cv2.resize(img,(1400,1000))\n",
    "        height, width, layers = img.shape\n",
    "        size=(width,height)\n",
    "\n",
    "        for k in range (time):\n",
    "            frame_array.append(img)\n",
    "    out=cv2.VideoWriter(pathOut,cv2.VideoWriter_fourcc(*'mp4v'), fps,size)\n",
    "    for i in range(len(frame_array)):\n",
    "        out.write(frame_array[i])\n",
    "    out.release()"
   ]
  },
  {
   "cell_type": "code",
   "execution_count": null,
   "metadata": {},
   "outputs": [],
   "source": [
    "# Example:\n",
    "directory= '/media/kurubal/SSD/Data Scientist/Data Science/Data-Scientist/Work/Modern Ways/Image Audio/ReDe/images'\n",
    "pathIn=directory+'/'\n",
    "pathOut=pathIn+'armut.avi'\n",
    "fps=1\n",
    "time=5 # the duration of each picture in the video"
   ]
  },
  {
   "cell_type": "code",
   "execution_count": null,
   "metadata": {},
   "outputs": [],
   "source": [
    "convert_pictures_to_video(pathIn, pathOut, fps, time)"
   ]
  },
  {
   "cell_type": "code",
   "execution_count": null,
   "metadata": {},
   "outputs": [],
   "source": []
  },
  {
   "cell_type": "code",
   "execution_count": null,
   "metadata": {},
   "outputs": [],
   "source": []
  },
  {
   "cell_type": "code",
   "execution_count": null,
   "metadata": {},
   "outputs": [],
   "source": []
  }
 ],
 "metadata": {
  "kernelspec": {
   "display_name": "Python 3.9.5 ('py39')",
   "language": "python",
   "name": "python3"
  },
  "language_info": {
   "codemirror_mode": {
    "name": "ipython",
    "version": 3
   },
   "file_extension": ".py",
   "mimetype": "text/x-python",
   "name": "python",
   "nbconvert_exporter": "python",
   "pygments_lexer": "ipython3",
   "version": "3.9.5"
  },
  "orig_nbformat": 4,
  "vscode": {
   "interpreter": {
    "hash": "651d507d70892fab0fc6529d935cd476f6e2eb1791525b76da6cc8da34bc0503"
   }
  }
 },
 "nbformat": 4,
 "nbformat_minor": 2
}
