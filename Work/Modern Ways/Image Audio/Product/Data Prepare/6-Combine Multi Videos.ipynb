{
 "cells": [
  {
   "cell_type": "markdown",
   "metadata": {},
   "source": [
    "### Combine Multi Videos"
   ]
  },
  {
   "cell_type": "code",
   "execution_count": null,
   "metadata": {},
   "outputs": [],
   "source": [
    "#!pip install moviepy"
   ]
  },
  {
   "cell_type": "code",
   "execution_count": null,
   "metadata": {},
   "outputs": [],
   "source": [
    "#!pip install moviepy --upgrade"
   ]
  },
  {
   "cell_type": "code",
   "execution_count": null,
   "metadata": {},
   "outputs": [],
   "source": [
    "#!pip install pylance"
   ]
  },
  {
   "cell_type": "code",
   "execution_count": null,
   "metadata": {},
   "outputs": [],
   "source": [
    "from moviepy.editor import VideoFileClip, concatenate_videoclips\n",
    "import os\n",
    "import sys\n",
    "import numpy as np\n",
    "import pandas as pd\n",
    "from pathlib import Path\n",
    "import shutil\n",
    "from os.path import isfile, join\n",
    "import time"
   ]
  },
  {
   "cell_type": "markdown",
   "metadata": {},
   "source": [
    "#### 200 Words"
   ]
  },
  {
   "cell_type": "markdown",
   "metadata": {},
   "source": [
    "##### Concatenate Audio Image Video"
   ]
  },
  {
   "cell_type": "code",
   "execution_count": null,
   "metadata": {},
   "outputs": [],
   "source": [
    "# language pair\n",
    "lang_folder = \"Turkish\"  # Arabic, English, French, German, Turkish, Spanish, Portuguese, Dutch, Italian ==> target language for learner\n",
    "\n",
    "# word start and end\n",
    "word_start = 0  # 0  # native word start index\n",
    "word_end = 200  # 200  # native word end index"
   ]
  },
  {
   "cell_type": "code",
   "execution_count": null,
   "metadata": {},
   "outputs": [],
   "source": [
    "path = f\"/media/kurubal/SSD/Data Scientist/Work/Modern Ways/Project/{lang_folder.capitalize()}/Image Audio Video/Result/200 Words\"\n",
    "\n",
    "#Path(path).mkdir(parents=True, exist_ok=True)"
   ]
  },
  {
   "cell_type": "code",
   "execution_count": null,
   "metadata": {},
   "outputs": [],
   "source": [
    "audio_image_video_path = f\"/media/kurubal/SSD/Data Scientist/Work/Modern Ways/Project/{lang_folder.capitalize()}/Image Audio Video/Data/200 Words\""
   ]
  },
  {
   "cell_type": "code",
   "execution_count": null,
   "metadata": {},
   "outputs": [],
   "source": [
    "# Fast Process\n",
    "def concat_video_fast(text_list, video_data_folder_name, video_data_path, out_folder_name, out_path, filename):  \n",
    "    '''\n",
    "    concat_video_fast(text_list, video_data_folder_name, video_data_path, out_folder_name, out_path, filename)\\n\n",
    "    text_list is list values. video_data_folder_name, video_data_path, out_folder_name and out_path are path and folder in string(str)\\n\n",
    "    filename is string of result mp4 file name.\n",
    "    ex.\\n\n",
    "    path = f\"/media/kurubal/SSD/Data Scientist/Data Science/Data-Scientist/Work/Modern Ways/Image Audio/Product\"\\n\n",
    "    audio_image_video_path = f\"/media/kurubal/SSD/Data Scientist/Data Science/Data-Scientist/Work/Modern Ways/Image Audio/Product\"\\n\n",
    "    concat_video_fast(word_select_list, \"Image_Video_Audio\", audio_image_video_path, \"Concat_Video\", path, \"200_Word_Combined_Sample\")\n",
    "    '''\n",
    "    no_image_file_list = []\n",
    "    result_path = f\"{out_path}/{out_folder_name}\"\n",
    "    Path(result_path).mkdir(parents=True, exist_ok=True)\n",
    "    video_list = []\n",
    "    for text in text_list:\n",
    "        try:\n",
    "            clip_var = VideoFileClip(f\"{video_data_path}/{video_data_folder_name}/{text}.mp4\", target_resolution=(900, 1600))  # height, width\n",
    "            video_list.append(clip_var)            \n",
    "        except:\n",
    "            #combined = concatenate_videoclips(video_list, method='compose')\n",
    "            #combined.write_videofile(f\"{result_path}/{filename}.mp4\", audio_bitrate='128k', audio_fps=44100, audio_codec=\"aac\")\n",
    "            no_image_file_list.append(text)\n",
    "            print(\"Oops!\", sys.exc_info()[0], \"occurred.\")\n",
    "\n",
    "    combined = concatenate_videoclips(video_list, method='compose')\n",
    "    combined.write_videofile(f\"{result_path}/{filename}.mp4\", audio_bitrate='128k', audio_fps=44100, audio_codec=\"aac\")\n",
    "    \n",
    "    return no_image_file_list"
   ]
  },
  {
   "cell_type": "code",
   "execution_count": null,
   "metadata": {},
   "outputs": [],
   "source": [
    "# will test\n",
    "def concat_video(text_list, video_data_folder_name, video_data_path, out_folder_name, out_path, filename):  \n",
    "    '''\n",
    "    concat_video(text_list, video_data_folder_name, video_data_path, out_folder_name, out_path, filename)\\n\n",
    "    text_list is list values. video_data_folder_name, video_data_path, out_folder_name and out_path are path and folder in string(str)\\n\n",
    "    filename is string of result mp4 file name.\n",
    "    ex.\\n\n",
    "    path = f\"/media/kurubal/SSD/Data Scientist/Data Science/Data-Scientist/Work/Modern Ways/Image Audio/Product\"\\n\n",
    "    audio_image_video_path = f\"/media/kurubal/SSD/Data Scientist/Data Science/Data-Scientist/Work/Modern Ways/Image Audio/Product\"\\n\n",
    "    concat_video(word_select_list, \"Image_Video_Audio\", audio_image_video_path, \"Concat_Video\", path, \"200_Word_Combined_Sample\")\n",
    "    '''\n",
    "    no_image_file_list = []\n",
    "    result_path = f\"{out_path}/{out_folder_name}\"\n",
    "    Path(result_path).mkdir(parents=True, exist_ok=True)\n",
    "    video_text_list = []\n",
    "    video_list = []\n",
    "    for text in text_list:\n",
    "        if isfile(f\"{video_data_path}/{video_data_folder_name}/{text}.mp4\"):\n",
    "            video_text_list.append(text)            \n",
    "        else:\n",
    "            no_image_file_list.append(text)\n",
    "\n",
    "    for video_num in range(len(video_text_list)):\n",
    "        try:\n",
    "            clip_var = VideoFileClip(f\"{video_data_path}/{video_data_folder_name}/{video_text_list[video_num]}.mp4\", target_resolution=(900, 1600))  # height, width\n",
    "            video_list.append(clip_var)            \n",
    "        except:\n",
    "            print(\"Oops!\", sys.exc_info()[0], \"occurred.\", f\"{video_text_list[video_num]}.mp4\")\n",
    "\n",
    "    combined = concatenate_videoclips(video_list, method='compose')\n",
    "    combined.write_videofile(f\"{result_path}/{filename}.mp4\", audio_bitrate='128k', audio_fps=44100, audio_codec=\"aac\")\n",
    "    \n",
    "    return no_image_file_list"
   ]
  },
  {
   "cell_type": "code",
   "execution_count": null,
   "metadata": {},
   "outputs": [],
   "source": [
    "## Slow Process\n",
    "#def concat_video_slow(text_list, video_data_folder_name, video_data_path, out_folder_name, out_path, filename):\n",
    "#    '''\n",
    "#    concat_video(text_list, video_data_folder_name, video_data_path, out_folder_name, out_path, filename)\\n\n",
    "#    text_list is list values. video_data_folder_name, video_data_path, out_folder_name and out_path are path and folder in string(str)\\n\n",
    "#    filename is string of result mp4 file name.\n",
    "#    ex.\\n\n",
    "#    path = f\"/media/kurubal/SSD/Data Scientist/Data Science/Data-Scientist/Work/Modern Ways/Image Audio/Product\"\\n\n",
    "#    audio_image_video_path = f\"/media/kurubal/SSD/Data Scientist/Data Science/Data-Scientist/Work/Modern Ways/Image Audio/Product\"\\n\n",
    "#    add_audio_to_video(word_select_list, \"Video\", image_video_path, \"Audio\", text_audio_path, \"Video_Audio\", path, \"200_Word_Combined\")\n",
    "#    '''\n",
    "#    no_image_file_list = []\n",
    "#    result_path = f\"{out_path}/{out_folder_name}\"\n",
    "#    Path(result_path).mkdir(parents=True, exist_ok=True)\n",
    "#    video_list = []\n",
    "#    for text in text_list:\n",
    "#        if isfile(f\"{video_data_path}/{video_data_folder_name}/{text}.mp4\"):\n",
    "#            video_list.append(text)            \n",
    "#        else:\n",
    "#            no_image_file_list.append(text)\n",
    "#\n",
    "#    first_video = VideoFileClip(f\"{video_data_path}/{video_data_folder_name}/{video_list[0]}.mp4\", target_resolution=(900, 1600))\n",
    "#    for video_num in range(1,len(video_list)):\n",
    "#        try:\n",
    "#            clip_var = VideoFileClip(f\"{video_data_path}/{video_data_folder_name}/{video_list[video_num]}.mp4\", target_resolution=(900, 1600))  # height, width\n",
    "#            combined = concatenate_videoclips([first_video,clip_var], method='compose')\n",
    "#            #combined.write_videofile(f\"{result_path}/{filename}.mp4\", audio_bitrate='128k', audio_fps=44100, audio_codec=\"aac\")\n",
    "#            #time.sleep(3)  # sleep 1 second\n",
    "#            #first_video = VideoFileClip(f\"{result_path}/{filename}.mp4\")\n",
    "#            first_video = combined\n",
    "#            time.sleep(0.5)\n",
    "#        except:\n",
    "#            print(\"Oops!\", sys.exc_info()[0], \"occurred.\", f\"{video_list[video_num]}.avi\")\n",
    "#\n",
    "#    first_video.write_videofile(f\"{result_path}/{filename}.mp4\", audio_bitrate='128k', audio_fps=44100, audio_codec=\"aac\")\n",
    "#    \n",
    "#    return no_image_file_list"
   ]
  },
  {
   "cell_type": "code",
   "execution_count": null,
   "metadata": {},
   "outputs": [],
   "source": [
    "df_word_all = pd.read_excel(f\"/media/kurubal/SSD/Data Scientist/Work/Modern Ways/Project/{lang_folder.lower().capitalize()}/Deployment/Data/Word/Word_Merge_Preprocess.xlsx\")\n",
    "#df_word_all = pd.read_excel(\"test.xlsx\")\n",
    "#df_word_all = df_word_all.head(10)\n",
    "df_word_all"
   ]
  },
  {
   "cell_type": "code",
   "execution_count": null,
   "metadata": {},
   "outputs": [],
   "source": [
    "df_word_select = df_word_all.iloc[word_start:word_end,]\n",
    "df_word_select"
   ]
  },
  {
   "cell_type": "code",
   "execution_count": null,
   "metadata": {},
   "outputs": [],
   "source": [
    "#word_select_list = df_word_select[\"word\"].values.tolist()\n",
    "word_select_list = [\"onunla\",\"ne\",\"yapıyorsun\",\"bu\",\"gün\"]"
   ]
  },
  {
   "cell_type": "code",
   "execution_count": null,
   "metadata": {},
   "outputs": [],
   "source": [
    "concat_video(word_select_list, \"Image_Video_Audio\", audio_image_video_path, \"Concat_Video\", path, \"200_Word_Combined_Sample\")"
   ]
  },
  {
   "cell_type": "code",
   "execution_count": null,
   "metadata": {},
   "outputs": [],
   "source": [
    "#concat_video_fast(word_select_list, \"Image_Video_Audio\", audio_image_video_path, \"Concat_Video\", path, \"200_Word_Combined_Sample_Fast\")"
   ]
  },
  {
   "cell_type": "code",
   "execution_count": null,
   "metadata": {},
   "outputs": [],
   "source": []
  },
  {
   "cell_type": "code",
   "execution_count": null,
   "metadata": {},
   "outputs": [],
   "source": []
  },
  {
   "cell_type": "markdown",
   "metadata": {},
   "source": [
    "#### Sample"
   ]
  },
  {
   "cell_type": "code",
   "execution_count": null,
   "metadata": {},
   "outputs": [],
   "source": [
    "from moviepy.editor import VideoFileClip, concatenate_videoclips"
   ]
  },
  {
   "cell_type": "code",
   "execution_count": null,
   "metadata": {},
   "outputs": [],
   "source": [
    "#clip1 = VideoFileClip(\"armut.avi\").subclip(10,20)\n",
    "#clip2 = VideoFileClip(\"şimdi.avi\").subclip(10,20)\n",
    "#clip3 = VideoFileClip(\"three.mp4\").subclip(10,20)\n",
    "clip1 = VideoFileClip(\"bir.mp4\", target_resolution=(900, 1600))\n",
    "clip2 = VideoFileClip(\"bu.mp4\", target_resolution=(900, 1600))\n",
    "clip3 = VideoFileClip(\"ne.mp4\", target_resolution=(900, 1600))\n",
    "#clip4 = VideoFileClip(\"ve.mp4\", target_resolution=(900, 1600))\n",
    "clip5 = VideoFileClip(\"için.mp4\", target_resolution=(900, 1600))\n",
    "clip6 = VideoFileClip(\"mi.mp4\", target_resolution=(900, 1600))\n",
    "clip7 = VideoFileClip(\"o.mp4\", target_resolution=(900, 1600))\n",
    "clip8 = VideoFileClip(\"ben.mp4\", target_resolution=(900, 1600))\n",
    "#clip9 = VideoFileClip(\"de.mp4\", target_resolution=(900, 1600))\n",
    "clip10 = VideoFileClip(\"çok.mp4\", target_resolution=(900, 1600))"
   ]
  },
  {
   "cell_type": "code",
   "execution_count": null,
   "metadata": {},
   "outputs": [],
   "source": [
    "combined = concatenate_videoclips([clip1,clip2,clip3,clip5,clip6,clip7,clip8,clip10], method=\"compose\")\n",
    "combined.write_videofile(\"combine.mp4\")"
   ]
  },
  {
   "cell_type": "code",
   "execution_count": null,
   "metadata": {},
   "outputs": [],
   "source": []
  },
  {
   "cell_type": "code",
   "execution_count": null,
   "metadata": {},
   "outputs": [],
   "source": []
  },
  {
   "cell_type": "code",
   "execution_count": null,
   "metadata": {},
   "outputs": [],
   "source": []
  },
  {
   "cell_type": "code",
   "execution_count": null,
   "metadata": {},
   "outputs": [],
   "source": []
  }
 ],
 "metadata": {
  "kernelspec": {
   "display_name": "Python 3.9.5 ('py39')",
   "language": "python",
   "name": "python3"
  },
  "language_info": {
   "codemirror_mode": {
    "name": "ipython",
    "version": 3
   },
   "file_extension": ".py",
   "mimetype": "text/x-python",
   "name": "python",
   "nbconvert_exporter": "python",
   "pygments_lexer": "ipython3",
   "version": "3.9.5"
  },
  "orig_nbformat": 4,
  "vscode": {
   "interpreter": {
    "hash": "651d507d70892fab0fc6529d935cd476f6e2eb1791525b76da6cc8da34bc0503"
   }
  }
 },
 "nbformat": 4,
 "nbformat_minor": 2
}
