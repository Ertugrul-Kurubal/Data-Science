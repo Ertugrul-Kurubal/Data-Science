{
 "cells": [
  {
   "cell_type": "markdown",
   "metadata": {},
   "source": [
    "### Add Text Logo To Image"
   ]
  },
  {
   "cell_type": "code",
   "execution_count": 28,
   "metadata": {},
   "outputs": [],
   "source": [
    "#python.exe -m pip install --upgrade pip # drom terminal (windows)"
   ]
  },
  {
   "cell_type": "code",
   "execution_count": 29,
   "metadata": {},
   "outputs": [],
   "source": [
    "#!pip install moviepy --upgrade"
   ]
  },
  {
   "cell_type": "code",
   "execution_count": 30,
   "metadata": {},
   "outputs": [],
   "source": [
    "#!pip install pylance"
   ]
  },
  {
   "cell_type": "markdown",
   "metadata": {},
   "source": [
    "#### Multi Logo To Image"
   ]
  },
  {
   "cell_type": "code",
   "execution_count": 31,
   "metadata": {},
   "outputs": [],
   "source": [
    "import os\n",
    "import sys\n",
    "import cv2\n",
    "import numpy as np\n",
    "import pandas as pd\n",
    "from pathlib import Path\n",
    "import shutil\n",
    "import matplotlib.pyplot as plt\n",
    "%matplotlib inline\n",
    "import time"
   ]
  },
  {
   "cell_type": "code",
   "execution_count": 32,
   "metadata": {},
   "outputs": [],
   "source": [
    "# language pair\n",
    "lang_folder = \"Turkish\"  # Arabic, English, French, German, Turkish, Spanish, Portuguese, Dutch, Italian ==> target language for learner\n",
    "\n",
    "# word start and end\n",
    "word_start = 0  # 0  # native word start index\n",
    "word_end = 200  # 200  # native word end index"
   ]
  },
  {
   "cell_type": "code",
   "execution_count": 33,
   "metadata": {},
   "outputs": [],
   "source": [
    "path = f\"/media/kurubal/SSD/Data Scientist/Work/Modern Ways/Project/{lang_folder.capitalize()}/Image Audio Video/Data/200 Words\"\n",
    "\n",
    "#Path(path).mkdir(parents=True, exist_ok=True)"
   ]
  },
  {
   "cell_type": "code",
   "execution_count": 34,
   "metadata": {},
   "outputs": [],
   "source": [
    "image_path = f\"/media/kurubal/SSD/Data Scientist/Work/Modern Ways/Project/{lang_folder.capitalize()}/Image Audio Video/Data/200 Words\""
   ]
  },
  {
   "cell_type": "code",
   "execution_count": 35,
   "metadata": {},
   "outputs": [],
   "source": [
    "def add_text_logo_to_image(text_list, data_folder_name, data_path, out_folder_name, out_path, font = cv2.FONT_HERSHEY_COMPLEX_SMALL, font_size = 10, color = (0,0,255), thickness = 30):\n",
    "    '''\n",
    "    add_text_logo_to_image(text_list, data_folder_name, data_path, out_folder_name, out_path, font = cv2.FONT_HERSHEY_COMPLEX_SMALL, font_size = 10, color = (0,0,255), thickness = 30)\\n\n",
    "    text_list is list values. data_folder_name, data_path, out_folder_name and out_path are path\\n\n",
    "    and folder in string(str). others are cv2 parameter\\n\n",
    "    ex.\\n\n",
    "    path = f\"/media/kurubal/SSD/Data Scientist/Data Science/Data-Scientist/Work/Modern Ways/Image Audio/Product\"\\n\n",
    "    image_path = f\"/media/kurubal/SSD/Data Scientist/Data Science/Data-Scientist/Work/Modern Ways/Image Audio/Product\"\\n\n",
    "    add_text_logo_to_image(word_select_list, \"Images\", image_path, \"Image_Logo\", path, font = cv2.FONT_HERSHEY_COMPLEX_SMALL, font_size = 10, color = (0,0,255), thickness = 30)\n",
    "    '''\n",
    "    result_path = f\"{out_path}/{out_folder_name}\"\n",
    "    Path(result_path).mkdir(parents=True, exist_ok=True)\n",
    "    no_image_file_list = []    \n",
    "    for text in text_list:\n",
    "        #text = f\"{text}\"\n",
    "        try:\n",
    "            img = cv2.imread(f\"{data_path}/{data_folder_name}/{text}.jpg\")\n",
    "            img = cv2.cvtColor(img, cv2.COLOR_BGR2RGB)\n",
    "            img_2 = np.copy(img)\n",
    "            textsize = cv2.getTextSize(text, font, font_size, thickness)[0]\n",
    "            #textX = 500\n",
    "            #textY = 500\n",
    "            textX = (img_2.shape[1] - textsize[0]) / 2  # x center\n",
    "            textY = (img_2.shape[0] - (textsize[1]/2)) # textY = (img.shape[0] + textsize[1]) / 2  for y center\n",
    "            origin = (int(textX), int(textY))\n",
    "            img_2 = cv2.putText(img_2, text, origin, font, font_size, color, thickness)\n",
    "            cv2.imwrite(f\"{result_path}/{text}.jpg\", img_2)\n",
    "        except:\n",
    "            no_image_file_list.append(text)\n",
    "            print(\"Oops!\", sys.exc_info()[0], \"occurred.\")\n",
    "        \n",
    "    return no_image_file_list\n"
   ]
  },
  {
   "cell_type": "code",
   "execution_count": 36,
   "metadata": {},
   "outputs": [
    {
     "data": {
      "text/html": [
       "<div>\n",
       "<style scoped>\n",
       "    .dataframe tbody tr th:only-of-type {\n",
       "        vertical-align: middle;\n",
       "    }\n",
       "\n",
       "    .dataframe tbody tr th {\n",
       "        vertical-align: top;\n",
       "    }\n",
       "\n",
       "    .dataframe thead th {\n",
       "        text-align: right;\n",
       "    }\n",
       "</style>\n",
       "<table border=\"1\" class=\"dataframe\">\n",
       "  <thead>\n",
       "    <tr style=\"text-align: right;\">\n",
       "      <th></th>\n",
       "      <th>word</th>\n",
       "      <th>frequency</th>\n",
       "    </tr>\n",
       "  </thead>\n",
       "  <tbody>\n",
       "    <tr>\n",
       "      <th>0</th>\n",
       "      <td>bir</td>\n",
       "      <td>18835735</td>\n",
       "    </tr>\n",
       "    <tr>\n",
       "      <th>1</th>\n",
       "      <td>bu</td>\n",
       "      <td>11062659</td>\n",
       "    </tr>\n",
       "    <tr>\n",
       "      <th>2</th>\n",
       "      <td>ne</td>\n",
       "      <td>8025880</td>\n",
       "    </tr>\n",
       "    <tr>\n",
       "      <th>3</th>\n",
       "      <td>ve</td>\n",
       "      <td>7766036</td>\n",
       "    </tr>\n",
       "    <tr>\n",
       "      <th>4</th>\n",
       "      <td>için</td>\n",
       "      <td>5484109</td>\n",
       "    </tr>\n",
       "    <tr>\n",
       "      <th>...</th>\n",
       "      <td>...</td>\n",
       "      <td>...</td>\n",
       "    </tr>\n",
       "    <tr>\n",
       "      <th>987922</th>\n",
       "      <td>karneleme</td>\n",
       "      <td>5</td>\n",
       "    </tr>\n",
       "    <tr>\n",
       "      <th>987923</th>\n",
       "      <td>karnaya</td>\n",
       "      <td>5</td>\n",
       "    </tr>\n",
       "    <tr>\n",
       "      <th>987924</th>\n",
       "      <td>dörtlümüzün</td>\n",
       "      <td>5</td>\n",
       "    </tr>\n",
       "    <tr>\n",
       "      <th>987925</th>\n",
       "      <td>karnavalınız</td>\n",
       "      <td>5</td>\n",
       "    </tr>\n",
       "    <tr>\n",
       "      <th>987926</th>\n",
       "      <td>hurmanın</td>\n",
       "      <td>5</td>\n",
       "    </tr>\n",
       "  </tbody>\n",
       "</table>\n",
       "<p>987927 rows × 2 columns</p>\n",
       "</div>"
      ],
      "text/plain": [
       "                word  frequency\n",
       "0                bir   18835735\n",
       "1                 bu   11062659\n",
       "2                 ne    8025880\n",
       "3                 ve    7766036\n",
       "4               için    5484109\n",
       "...              ...        ...\n",
       "987922     karneleme          5\n",
       "987923       karnaya          5\n",
       "987924   dörtlümüzün          5\n",
       "987925  karnavalınız          5\n",
       "987926      hurmanın          5\n",
       "\n",
       "[987927 rows x 2 columns]"
      ]
     },
     "execution_count": 36,
     "metadata": {},
     "output_type": "execute_result"
    }
   ],
   "source": [
    "df_word_all = pd.read_excel(f\"/media/kurubal/SSD/Data Scientist/Work/Modern Ways/Project/{lang_folder.lower().capitalize()}/Deployment/Data/Word/Word_Merge_Preprocess.xlsx\")\n",
    "#df_word_all = pd.read_excel(\"test.xlsx\")\n",
    "df_word_all"
   ]
  },
  {
   "cell_type": "code",
   "execution_count": 37,
   "metadata": {},
   "outputs": [
    {
     "data": {
      "text/html": [
       "<div>\n",
       "<style scoped>\n",
       "    .dataframe tbody tr th:only-of-type {\n",
       "        vertical-align: middle;\n",
       "    }\n",
       "\n",
       "    .dataframe tbody tr th {\n",
       "        vertical-align: top;\n",
       "    }\n",
       "\n",
       "    .dataframe thead th {\n",
       "        text-align: right;\n",
       "    }\n",
       "</style>\n",
       "<table border=\"1\" class=\"dataframe\">\n",
       "  <thead>\n",
       "    <tr style=\"text-align: right;\">\n",
       "      <th></th>\n",
       "      <th>word</th>\n",
       "      <th>frequency</th>\n",
       "    </tr>\n",
       "  </thead>\n",
       "  <tbody>\n",
       "    <tr>\n",
       "      <th>0</th>\n",
       "      <td>bir</td>\n",
       "      <td>18835735</td>\n",
       "    </tr>\n",
       "    <tr>\n",
       "      <th>1</th>\n",
       "      <td>bu</td>\n",
       "      <td>11062659</td>\n",
       "    </tr>\n",
       "    <tr>\n",
       "      <th>2</th>\n",
       "      <td>ne</td>\n",
       "      <td>8025880</td>\n",
       "    </tr>\n",
       "    <tr>\n",
       "      <th>3</th>\n",
       "      <td>ve</td>\n",
       "      <td>7766036</td>\n",
       "    </tr>\n",
       "    <tr>\n",
       "      <th>4</th>\n",
       "      <td>için</td>\n",
       "      <td>5484109</td>\n",
       "    </tr>\n",
       "    <tr>\n",
       "      <th>...</th>\n",
       "      <td>...</td>\n",
       "      <td>...</td>\n",
       "    </tr>\n",
       "    <tr>\n",
       "      <th>195</th>\n",
       "      <td>saat</td>\n",
       "      <td>399989</td>\n",
       "    </tr>\n",
       "    <tr>\n",
       "      <th>196</th>\n",
       "      <td>onunla</td>\n",
       "      <td>399330</td>\n",
       "    </tr>\n",
       "    <tr>\n",
       "      <th>197</th>\n",
       "      <td>yapıyorsun</td>\n",
       "      <td>398274</td>\n",
       "    </tr>\n",
       "    <tr>\n",
       "      <th>198</th>\n",
       "      <td>neler</td>\n",
       "      <td>397377</td>\n",
       "    </tr>\n",
       "    <tr>\n",
       "      <th>199</th>\n",
       "      <td>ister</td>\n",
       "      <td>396177</td>\n",
       "    </tr>\n",
       "  </tbody>\n",
       "</table>\n",
       "<p>200 rows × 2 columns</p>\n",
       "</div>"
      ],
      "text/plain": [
       "           word  frequency\n",
       "0           bir   18835735\n",
       "1            bu   11062659\n",
       "2            ne    8025880\n",
       "3            ve    7766036\n",
       "4          için    5484109\n",
       "..          ...        ...\n",
       "195        saat     399989\n",
       "196      onunla     399330\n",
       "197  yapıyorsun     398274\n",
       "198       neler     397377\n",
       "199       ister     396177\n",
       "\n",
       "[200 rows x 2 columns]"
      ]
     },
     "execution_count": 37,
     "metadata": {},
     "output_type": "execute_result"
    }
   ],
   "source": [
    "df_word_select = df_word_all.iloc[word_start:word_end,]\n",
    "df_word_select"
   ]
  },
  {
   "cell_type": "code",
   "execution_count": 38,
   "metadata": {},
   "outputs": [],
   "source": [
    "word_select_list = df_word_select[\"word\"].values.tolist()"
   ]
  },
  {
   "cell_type": "code",
   "execution_count": 39,
   "metadata": {},
   "outputs": [
    {
     "name": "stdout",
     "output_type": "stream",
     "text": [
      "Oops! <class 'cv2.error'> occurred.\n",
      "Oops! <class 'cv2.error'> occurred.\n",
      "Oops! <class 'cv2.error'> occurred.\n",
      "Oops! <class 'cv2.error'> occurred.\n",
      "Oops! <class 'cv2.error'> occurred.\n",
      "Oops! <class 'cv2.error'> occurred.\n",
      "Oops! <class 'cv2.error'> occurred.\n",
      "Oops! <class 'cv2.error'> occurred.\n",
      "Oops! <class 'cv2.error'> occurred.\n",
      "Oops! <class 'cv2.error'> occurred.\n",
      "Oops! <class 'cv2.error'> occurred.\n",
      "Oops! <class 'cv2.error'> occurred.\n",
      "Oops! <class 'cv2.error'> occurred.\n",
      "Oops! <class 'cv2.error'> occurred.\n",
      "Oops! <class 'cv2.error'> occurred.\n",
      "Oops! <class 'cv2.error'> occurred.\n",
      "Oops! <class 'cv2.error'> occurred.\n",
      "Oops! <class 'cv2.error'> occurred.\n",
      "Oops! <class 'cv2.error'> occurred.\n",
      "Oops! <class 'cv2.error'> occurred.\n",
      "Oops! <class 'cv2.error'> occurred.\n",
      "Oops! <class 'cv2.error'> occurred.\n",
      "Oops! <class 'cv2.error'> occurred.\n",
      "Oops! <class 'cv2.error'> occurred.\n",
      "Oops! <class 'cv2.error'> occurred.\n",
      "Oops! <class 'cv2.error'> occurred.\n",
      "Oops! <class 'cv2.error'> occurred.\n",
      "Oops! <class 'cv2.error'> occurred.\n",
      "Oops! <class 'cv2.error'> occurred.\n",
      "Oops! <class 'cv2.error'> occurred.\n",
      "Oops! <class 'cv2.error'> occurred.\n",
      "Oops! <class 'cv2.error'> occurred.\n"
     ]
    },
    {
     "data": {
      "text/plain": [
       "['ve',\n",
       " 'de',\n",
       " 'var',\n",
       " 'kadar',\n",
       " 'bana',\n",
       " 'tamam',\n",
       " 'ki',\n",
       " 'ya',\n",
       " 'hadi',\n",
       " 'lütfen',\n",
       " 'bile',\n",
       " 'yani',\n",
       " 'peki',\n",
       " 'çünkü',\n",
       " 'biri',\n",
       " 'hey',\n",
       " 'efendim',\n",
       " 'demek',\n",
       " 'teşekkürler',\n",
       " 'merhaba',\n",
       " 'işte',\n",
       " 'üzgünüm',\n",
       " 'diye',\n",
       " 'teşekkür',\n",
       " 'tabii',\n",
       " 'haydi',\n",
       " 'dostum',\n",
       " 'selam',\n",
       " 'pekala',\n",
       " 'oh',\n",
       " 'birkaç',\n",
       " 'zaten']"
      ]
     },
     "execution_count": 39,
     "metadata": {},
     "output_type": "execute_result"
    }
   ],
   "source": [
    "add_text_logo_to_image(word_select_list, \"Images_Crop_Size\", image_path, \"Image_Logo\", path, font = cv2.FONT_HERSHEY_COMPLEX_SMALL, font_size = 8, color = (0,0,255), thickness = 15)"
   ]
  },
  {
   "cell_type": "code",
   "execution_count": null,
   "metadata": {},
   "outputs": [],
   "source": []
  },
  {
   "cell_type": "code",
   "execution_count": null,
   "metadata": {},
   "outputs": [],
   "source": []
  },
  {
   "cell_type": "markdown",
   "metadata": {},
   "source": [
    "#### Sample"
   ]
  },
  {
   "cell_type": "code",
   "execution_count": null,
   "metadata": {},
   "outputs": [],
   "source": [
    "import cv2\n",
    "import numpy as np\n",
    "import matplotlib.pyplot as plt\n",
    "%matplotlib inline"
   ]
  },
  {
   "cell_type": "code",
   "execution_count": null,
   "metadata": {},
   "outputs": [],
   "source": [
    "img = cv2.imread(\"armut.jpg\")\n",
    "img = cv2.cvtColor(img, cv2.COLOR_BGR2RGB)\n",
    "plt.imshow(img)"
   ]
  },
  {
   "cell_type": "code",
   "execution_count": null,
   "metadata": {},
   "outputs": [],
   "source": [
    "img_2 = np.copy(img)"
   ]
  },
  {
   "cell_type": "code",
   "execution_count": null,
   "metadata": {},
   "outputs": [],
   "source": [
    "text = \"Armut\"\n",
    "font = cv2.FONT_HERSHEY_COMPLEX_SMALL\n",
    "font_size = 10\n",
    "#color = cv2.COLOR_BGR2RGB\n",
    "color = (0,0,255)\n",
    "thickness = 30"
   ]
  },
  {
   "cell_type": "code",
   "execution_count": null,
   "metadata": {},
   "outputs": [],
   "source": [
    "textsize = cv2.getTextSize(text, font, font_size, thickness)[0]"
   ]
  },
  {
   "cell_type": "code",
   "execution_count": null,
   "metadata": {},
   "outputs": [],
   "source": [
    "textX = (img_2.shape[1] - textsize[0]) / 2  # x center\n",
    "textY = (img_2.shape[0] - (textsize[1]/2)) # textY = (img.shape[0] + textsize[1]) / 2  for y center"
   ]
  },
  {
   "cell_type": "code",
   "execution_count": null,
   "metadata": {},
   "outputs": [],
   "source": [
    "origin = (int(textX), int(textY))\n",
    "origin"
   ]
  },
  {
   "cell_type": "code",
   "execution_count": null,
   "metadata": {},
   "outputs": [],
   "source": [
    "img_2 = cv2.putText(img_2, text, origin, font, font_size, color, thickness)\n",
    "plt.imshow(img_2)"
   ]
  },
  {
   "cell_type": "code",
   "execution_count": null,
   "metadata": {},
   "outputs": [],
   "source": [
    "cv2.imwrite(\"armut_logo.jpg\", img_2)"
   ]
  },
  {
   "cell_type": "code",
   "execution_count": null,
   "metadata": {},
   "outputs": [],
   "source": []
  },
  {
   "cell_type": "code",
   "execution_count": null,
   "metadata": {},
   "outputs": [],
   "source": []
  },
  {
   "cell_type": "code",
   "execution_count": null,
   "metadata": {},
   "outputs": [],
   "source": []
  }
 ],
 "metadata": {
  "kernelspec": {
   "display_name": "Python 3.9.0 64-bit",
   "language": "python",
   "name": "python3"
  },
  "language_info": {
   "codemirror_mode": {
    "name": "ipython",
    "version": 3
   },
   "file_extension": ".py",
   "mimetype": "text/x-python",
   "name": "python",
   "nbconvert_exporter": "python",
   "pygments_lexer": "ipython3",
   "version": "3.9.0"
  },
  "vscode": {
   "interpreter": {
    "hash": "f42fef0e501d15e7ffc29462fb079408e9033a09ba77cf75c7f739a9f9db1301"
   }
  }
 },
 "nbformat": 4,
 "nbformat_minor": 2
}
