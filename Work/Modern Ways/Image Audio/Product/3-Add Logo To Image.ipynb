{
 "cells": [
  {
   "cell_type": "markdown",
   "metadata": {},
   "source": [
    "### Add Text Logo To Image"
   ]
  },
  {
   "cell_type": "code",
   "execution_count": 1,
   "metadata": {},
   "outputs": [
    {
     "name": "stdout",
     "output_type": "stream",
     "text": [
      "Requirement already satisfied: moviepy in c:\\users\\ertuğrul\\appdata\\local\\programs\\python\\python39\\lib\\site-packages (1.0.3)\n",
      "Requirement already satisfied: imageio<3.0,>=2.5 in c:\\users\\ertuğrul\\appdata\\local\\programs\\python\\python39\\lib\\site-packages (from moviepy) (2.22.1)\n",
      "Requirement already satisfied: numpy>=1.17.3 in c:\\users\\ertuğrul\\appdata\\local\\programs\\python\\python39\\lib\\site-packages (from moviepy) (1.19.5)\n",
      "Requirement already satisfied: proglog<=1.0.0 in c:\\users\\ertuğrul\\appdata\\local\\programs\\python\\python39\\lib\\site-packages (from moviepy) (0.1.10)\n",
      "Requirement already satisfied: imageio-ffmpeg>=0.2.0 in c:\\users\\ertuğrul\\appdata\\local\\programs\\python\\python39\\lib\\site-packages (from moviepy) (0.4.7)\n",
      "Requirement already satisfied: requests<3.0,>=2.8.1 in c:\\users\\ertuğrul\\appdata\\local\\programs\\python\\python39\\lib\\site-packages (from moviepy) (2.25.1)\n",
      "Requirement already satisfied: tqdm<5.0,>=4.11.2 in c:\\users\\ertuğrul\\appdata\\local\\programs\\python\\python39\\lib\\site-packages (from moviepy) (4.62.0)\n",
      "Requirement already satisfied: decorator<5.0,>=4.0.2 in c:\\users\\ertuğrul\\appdata\\local\\programs\\python\\python39\\lib\\site-packages (from moviepy) (4.4.2)\n",
      "Requirement already satisfied: pillow>=8.3.2 in c:\\users\\ertuğrul\\appdata\\local\\programs\\python\\python39\\lib\\site-packages (from imageio<3.0,>=2.5->moviepy) (9.2.0)\n",
      "Requirement already satisfied: idna<3,>=2.5 in c:\\users\\ertuğrul\\appdata\\local\\programs\\python\\python39\\lib\\site-packages (from requests<3.0,>=2.8.1->moviepy) (2.10)\n",
      "Requirement already satisfied: urllib3<1.27,>=1.21.1 in c:\\users\\ertuğrul\\appdata\\local\\programs\\python\\python39\\lib\\site-packages (from requests<3.0,>=2.8.1->moviepy) (1.26.3)\n",
      "Requirement already satisfied: certifi>=2017.4.17 in c:\\users\\ertuğrul\\appdata\\local\\programs\\python\\python39\\lib\\site-packages (from requests<3.0,>=2.8.1->moviepy) (2020.12.5)\n",
      "Requirement already satisfied: chardet<5,>=3.0.2 in c:\\users\\ertuğrul\\appdata\\local\\programs\\python\\python39\\lib\\site-packages (from requests<3.0,>=2.8.1->moviepy) (4.0.0)\n",
      "Requirement already satisfied: colorama in c:\\users\\ertuğrul\\appdata\\local\\programs\\python\\python39\\lib\\site-packages (from tqdm<5.0,>=4.11.2->moviepy) (0.4.4)\n"
     ]
    },
    {
     "name": "stderr",
     "output_type": "stream",
     "text": [
      "\n",
      "[notice] A new release of pip available: 22.2.2 -> 22.3\n",
      "[notice] To update, run: python.exe -m pip install --upgrade pip\n"
     ]
    }
   ],
   "source": [
    "!pip install moviepy --upgrade"
   ]
  },
  {
   "cell_type": "code",
   "execution_count": 2,
   "metadata": {},
   "outputs": [
    {
     "name": "stderr",
     "output_type": "stream",
     "text": [
      "ERROR: Could not find a version that satisfies the requirement pylance (from versions: 0.0.2)\n",
      "ERROR: No matching distribution found for pylance\n",
      "\n",
      "[notice] A new release of pip available: 22.2.2 -> 22.3\n",
      "[notice] To update, run: python.exe -m pip install --upgrade pip\n"
     ]
    }
   ],
   "source": [
    "!pip install pylance"
   ]
  },
  {
   "cell_type": "markdown",
   "metadata": {},
   "source": [
    "#### Multi Logo To Image"
   ]
  },
  {
   "cell_type": "code",
   "execution_count": 1,
   "metadata": {},
   "outputs": [],
   "source": [
    "import os\n",
    "import sys\n",
    "import cv2\n",
    "import numpy as np\n",
    "import pandas as pd\n",
    "from pathlib import Path\n",
    "import shutil\n",
    "import matplotlib.pyplot as plt\n",
    "%matplotlib inline"
   ]
  },
  {
   "cell_type": "code",
   "execution_count": 2,
   "metadata": {},
   "outputs": [],
   "source": [
    "# language pair\n",
    "lang_folder = \"Turkish\"  # Arabic, English, French, German, Turkish, Spanish, Portuguese, Dutch, Italian ==> target language for learner\n",
    "\n",
    "# word start and end\n",
    "word_start = 0  # 0  # native word start index\n",
    "word_end = 200  # 200  # native word end index"
   ]
  },
  {
   "cell_type": "code",
   "execution_count": 3,
   "metadata": {},
   "outputs": [],
   "source": [
    "path = f\"/media/kurubal/SSD/Data Scientist/Work/Modern Ways/Project/{lang_folder.capitalize()}/Image Audio Video/Data/200 Words\"\n",
    "\n",
    "#Path(path).mkdir(parents=True, exist_ok=True)"
   ]
  },
  {
   "cell_type": "code",
   "execution_count": 4,
   "metadata": {},
   "outputs": [],
   "source": [
    "image_path = f\"/media/kurubal/SSD/Data Scientist/Work/Modern Ways/Project/{lang_folder.capitalize()}/Image Audio Video/Data/200 Words\""
   ]
  },
  {
   "cell_type": "code",
   "execution_count": 5,
   "metadata": {},
   "outputs": [],
   "source": [
    "def add_text_logo_to_image(text_list, data_folder_name, data_path, out_folder_name, out_path, font = cv2.FONT_HERSHEY_COMPLEX_SMALL, font_size = 10, color = (0,0,255), thickness = 30):\n",
    "    '''\n",
    "    add_text_logo_to_image(text_list, data_folder_name, data_path, out_folder_name, out_path, font = cv2.FONT_HERSHEY_COMPLEX_SMALL, font_size = 10, color = (0,0,255), thickness = 30)\\n\n",
    "    text_list is list values. data_folder_name, data_path, out_folder_name and out_path are path\\n\n",
    "    and folder in string(str). others are cv2 parameter\\n\n",
    "    ex.\\n\n",
    "    path = f\"/media/kurubal/SSD/Data Scientist/Data Science/Data-Scientist/Work/Modern Ways/Image Audio/Product\"\\n\n",
    "    image_path = f\"/media/kurubal/SSD/Data Scientist/Data Science/Data-Scientist/Work/Modern Ways/Image Audio/Product\"\\n\n",
    "    add_text_logo_to_image(word_select_list, \"Images\", image_path, \"Image_Logo\", path, font = cv2.FONT_HERSHEY_COMPLEX_SMALL, font_size = 10, color = (0,0,255), thickness = 30)\n",
    "    '''\n",
    "    result_path = f\"{out_path}/{out_folder_name}\"\n",
    "    Path(result_path).mkdir(parents=True, exist_ok=True)\n",
    "    no_image_file_list = []    \n",
    "    for text in text_list:\n",
    "        #text = f\"{text}\"\n",
    "        try:\n",
    "            img = cv2.imread(f\"{data_path}/{data_folder_name}/{text}.jpg\")\n",
    "            img = cv2.cvtColor(img, cv2.COLOR_BGR2RGB)\n",
    "            img_2 = np.copy(img)\n",
    "            textsize = cv2.getTextSize(text, font, font_size, thickness)[0]\n",
    "            #textX = 500\n",
    "            #textY = 500\n",
    "            textX = (img_2.shape[1] - textsize[0]) / 2  # x center\n",
    "            textY = (img_2.shape[0] - (textsize[1]/2)) # textY = (img.shape[0] + textsize[1]) / 2  for y center\n",
    "            origin = (int(textX), int(textY))\n",
    "            img_2 = cv2.putText(img_2, text, origin, font, font_size, color, thickness)\n",
    "            cv2.imwrite(f\"{result_path}/{text}.jpg\", img_2)\n",
    "        except:\n",
    "            no_image_file_list.append(text)\n",
    "            print(\"Oops!\", sys.exc_info()[0], \"occurred.\")\n",
    "        \n",
    "    return no_image_file_list\n"
   ]
  },
  {
   "cell_type": "code",
   "execution_count": 6,
   "metadata": {},
   "outputs": [],
   "source": [
    "#def add_text_logo_to_image(text_list, data_folder_name, data_path, out_folder_name, out_path, font = cv2.FONT_HERSHEY_COMPLEX_SMALL, font_size = 10, thickness = 30, color = (0,0,255)):\n",
    "#    result_path = f\"{out_path}/{out_folder_name}\"\n",
    "#    Path(result_path).mkdir(parents=True, exist_ok=True)\n",
    "#    no_image_file_list = []    \n",
    "#    for text in text_list:\n",
    "#        #text = f\"{text}\"\n",
    "#    \n",
    "#        img = cv2.imread(f\"{data_path}/{data_folder_name}/{text}.jpg\")\n",
    "#        #img = cv2.cvtColor(img, cv2.COLOR_BGR2RGB)\n",
    "#        img_2 = np.copy(img)\n",
    "#        textsize = cv2.getTextSize(text, font, font_size, thickness)[0]\n",
    "#        textX = 500\n",
    "#        textY = 500\n",
    "#        #textX = (img_2.shape[1]-textsize[0])/2 \n",
    "#        #textY = (img_2.shape[0]-(textsize[1]/2)) \n",
    "#        origin = (int(textX), int(textY))\n",
    "#        img_2 = cv2.putText(img_2, text, origin, font, font_size, color, thickness)\n",
    "#        cv2.imwrite(f\"{result_path}/{text}.jpg\", img_2)\n",
    "#   \n",
    "#        no_image_file_list.append(text)\n",
    "#        \n",
    "#        \n",
    "#    return no_image_file_list"
   ]
  },
  {
   "cell_type": "code",
   "execution_count": 7,
   "metadata": {},
   "outputs": [
    {
     "data": {
      "text/html": [
       "<div>\n",
       "<style scoped>\n",
       "    .dataframe tbody tr th:only-of-type {\n",
       "        vertical-align: middle;\n",
       "    }\n",
       "\n",
       "    .dataframe tbody tr th {\n",
       "        vertical-align: top;\n",
       "    }\n",
       "\n",
       "    .dataframe thead th {\n",
       "        text-align: right;\n",
       "    }\n",
       "</style>\n",
       "<table border=\"1\" class=\"dataframe\">\n",
       "  <thead>\n",
       "    <tr style=\"text-align: right;\">\n",
       "      <th></th>\n",
       "      <th>word</th>\n",
       "    </tr>\n",
       "  </thead>\n",
       "  <tbody>\n",
       "    <tr>\n",
       "      <th>0</th>\n",
       "      <td>kendi</td>\n",
       "    </tr>\n",
       "    <tr>\n",
       "      <th>1</th>\n",
       "      <td>şimdi</td>\n",
       "    </tr>\n",
       "    <tr>\n",
       "      <th>2</th>\n",
       "      <td>sen</td>\n",
       "    </tr>\n",
       "    <tr>\n",
       "      <th>3</th>\n",
       "      <td>mi</td>\n",
       "    </tr>\n",
       "    <tr>\n",
       "      <th>4</th>\n",
       "      <td>ne</td>\n",
       "    </tr>\n",
       "    <tr>\n",
       "      <th>5</th>\n",
       "      <td>oluyor</td>\n",
       "    </tr>\n",
       "    <tr>\n",
       "      <th>6</th>\n",
       "      <td>biliyor</td>\n",
       "    </tr>\n",
       "    <tr>\n",
       "      <th>7</th>\n",
       "      <td>musun</td>\n",
       "    </tr>\n",
       "    <tr>\n",
       "      <th>8</th>\n",
       "      <td>bu</td>\n",
       "    </tr>\n",
       "    <tr>\n",
       "      <th>9</th>\n",
       "      <td>şimdi</td>\n",
       "    </tr>\n",
       "    <tr>\n",
       "      <th>10</th>\n",
       "      <td>anne</td>\n",
       "    </tr>\n",
       "    <tr>\n",
       "      <th>11</th>\n",
       "      <td>anne</td>\n",
       "    </tr>\n",
       "  </tbody>\n",
       "</table>\n",
       "</div>"
      ],
      "text/plain": [
       "       word\n",
       "0     kendi\n",
       "1     şimdi\n",
       "2       sen\n",
       "3        mi\n",
       "4        ne\n",
       "5    oluyor\n",
       "6   biliyor\n",
       "7     musun\n",
       "8        bu\n",
       "9     şimdi\n",
       "10     anne\n",
       "11     anne"
      ]
     },
     "execution_count": 7,
     "metadata": {},
     "output_type": "execute_result"
    }
   ],
   "source": [
    "df_word_all = pd.read_excel(f\"/media/kurubal/SSD/Data Scientist/Work/Modern Ways/Project/{lang_folder.lower().capitalize()}/Deployment/Data/Word/Word_Merge_Preprocess.xlsx\")\n",
    "#df_word_all = pd.read_excel(\"test.xlsx\")\n",
    "df_word_all"
   ]
  },
  {
   "cell_type": "code",
   "execution_count": 8,
   "metadata": {},
   "outputs": [
    {
     "data": {
      "text/html": [
       "<div>\n",
       "<style scoped>\n",
       "    .dataframe tbody tr th:only-of-type {\n",
       "        vertical-align: middle;\n",
       "    }\n",
       "\n",
       "    .dataframe tbody tr th {\n",
       "        vertical-align: top;\n",
       "    }\n",
       "\n",
       "    .dataframe thead th {\n",
       "        text-align: right;\n",
       "    }\n",
       "</style>\n",
       "<table border=\"1\" class=\"dataframe\">\n",
       "  <thead>\n",
       "    <tr style=\"text-align: right;\">\n",
       "      <th></th>\n",
       "      <th>word</th>\n",
       "    </tr>\n",
       "  </thead>\n",
       "  <tbody>\n",
       "    <tr>\n",
       "      <th>0</th>\n",
       "      <td>kendi</td>\n",
       "    </tr>\n",
       "    <tr>\n",
       "      <th>1</th>\n",
       "      <td>şimdi</td>\n",
       "    </tr>\n",
       "    <tr>\n",
       "      <th>2</th>\n",
       "      <td>sen</td>\n",
       "    </tr>\n",
       "    <tr>\n",
       "      <th>3</th>\n",
       "      <td>mi</td>\n",
       "    </tr>\n",
       "    <tr>\n",
       "      <th>4</th>\n",
       "      <td>ne</td>\n",
       "    </tr>\n",
       "    <tr>\n",
       "      <th>5</th>\n",
       "      <td>oluyor</td>\n",
       "    </tr>\n",
       "    <tr>\n",
       "      <th>6</th>\n",
       "      <td>biliyor</td>\n",
       "    </tr>\n",
       "    <tr>\n",
       "      <th>7</th>\n",
       "      <td>musun</td>\n",
       "    </tr>\n",
       "    <tr>\n",
       "      <th>8</th>\n",
       "      <td>bu</td>\n",
       "    </tr>\n",
       "    <tr>\n",
       "      <th>9</th>\n",
       "      <td>şimdi</td>\n",
       "    </tr>\n",
       "    <tr>\n",
       "      <th>10</th>\n",
       "      <td>anne</td>\n",
       "    </tr>\n",
       "    <tr>\n",
       "      <th>11</th>\n",
       "      <td>anne</td>\n",
       "    </tr>\n",
       "  </tbody>\n",
       "</table>\n",
       "</div>"
      ],
      "text/plain": [
       "       word\n",
       "0     kendi\n",
       "1     şimdi\n",
       "2       sen\n",
       "3        mi\n",
       "4        ne\n",
       "5    oluyor\n",
       "6   biliyor\n",
       "7     musun\n",
       "8        bu\n",
       "9     şimdi\n",
       "10     anne\n",
       "11     anne"
      ]
     },
     "execution_count": 8,
     "metadata": {},
     "output_type": "execute_result"
    }
   ],
   "source": [
    "df_word_select = df_word_all.iloc[word_start:word_end,]\n",
    "df_word_select"
   ]
  },
  {
   "cell_type": "code",
   "execution_count": 9,
   "metadata": {},
   "outputs": [],
   "source": [
    "word_select_list = df_word_select[\"word\"].values.tolist()"
   ]
  },
  {
   "cell_type": "code",
   "execution_count": 11,
   "metadata": {},
   "outputs": [
    {
     "data": {
      "text/plain": [
       "[]"
      ]
     },
     "execution_count": 11,
     "metadata": {},
     "output_type": "execute_result"
    }
   ],
   "source": [
    "add_text_logo_to_image(word_select_list, \"Images_Crop_Size\", image_path, \"Image_Logo\", path, font = cv2.FONT_HERSHEY_COMPLEX_SMALL, font_size = 8, color = (0,0,255), thickness = 20)"
   ]
  },
  {
   "cell_type": "code",
   "execution_count": null,
   "metadata": {},
   "outputs": [],
   "source": []
  },
  {
   "cell_type": "code",
   "execution_count": null,
   "metadata": {},
   "outputs": [],
   "source": []
  },
  {
   "cell_type": "markdown",
   "metadata": {},
   "source": [
    "#### Sample"
   ]
  },
  {
   "cell_type": "code",
   "execution_count": null,
   "metadata": {},
   "outputs": [],
   "source": [
    "import cv2\n",
    "import numpy as np\n",
    "import matplotlib.pyplot as plt\n",
    "%matplotlib inline"
   ]
  },
  {
   "cell_type": "code",
   "execution_count": null,
   "metadata": {},
   "outputs": [],
   "source": [
    "img = cv2.imread(\"armut.jpg\")\n",
    "img = cv2.cvtColor(img, cv2.COLOR_BGR2RGB)\n",
    "plt.imshow(img)"
   ]
  },
  {
   "cell_type": "code",
   "execution_count": null,
   "metadata": {},
   "outputs": [],
   "source": [
    "img_2 = np.copy(img)"
   ]
  },
  {
   "cell_type": "code",
   "execution_count": null,
   "metadata": {},
   "outputs": [],
   "source": [
    "text = \"Armut\"\n",
    "font = cv2.FONT_HERSHEY_COMPLEX_SMALL\n",
    "font_size = 10\n",
    "#color = cv2.COLOR_BGR2RGB\n",
    "color = (0,0,255)\n",
    "thickness = 30"
   ]
  },
  {
   "cell_type": "code",
   "execution_count": null,
   "metadata": {},
   "outputs": [],
   "source": [
    "textsize = cv2.getTextSize(text, font, font_size, thickness)[0]"
   ]
  },
  {
   "cell_type": "code",
   "execution_count": null,
   "metadata": {},
   "outputs": [],
   "source": [
    "textX = (img_2.shape[1] - textsize[0]) / 2  # x center\n",
    "textY = (img_2.shape[0] - (textsize[1]/2)) # textY = (img.shape[0] + textsize[1]) / 2  for y center"
   ]
  },
  {
   "cell_type": "code",
   "execution_count": null,
   "metadata": {},
   "outputs": [],
   "source": [
    "origin = (int(textX), int(textY))\n",
    "origin"
   ]
  },
  {
   "cell_type": "code",
   "execution_count": null,
   "metadata": {},
   "outputs": [],
   "source": [
    "img_2 = cv2.putText(img_2, text, origin, font, font_size, color, thickness)\n",
    "plt.imshow(img_2)"
   ]
  },
  {
   "cell_type": "code",
   "execution_count": null,
   "metadata": {},
   "outputs": [],
   "source": [
    "cv2.imwrite(\"armut_logo.jpg\", img_2)"
   ]
  },
  {
   "cell_type": "code",
   "execution_count": null,
   "metadata": {},
   "outputs": [],
   "source": []
  },
  {
   "cell_type": "code",
   "execution_count": null,
   "metadata": {},
   "outputs": [],
   "source": []
  },
  {
   "cell_type": "code",
   "execution_count": null,
   "metadata": {},
   "outputs": [],
   "source": []
  }
 ],
 "metadata": {
  "kernelspec": {
   "display_name": "Python 3.9.0 64-bit",
   "language": "python",
   "name": "python3"
  },
  "language_info": {
   "codemirror_mode": {
    "name": "ipython",
    "version": 3
   },
   "file_extension": ".py",
   "mimetype": "text/x-python",
   "name": "python",
   "nbconvert_exporter": "python",
   "pygments_lexer": "ipython3",
   "version": "3.9.0"
  },
  "vscode": {
   "interpreter": {
    "hash": "f42fef0e501d15e7ffc29462fb079408e9033a09ba77cf75c7f739a9f9db1301"
   }
  }
 },
 "nbformat": 4,
 "nbformat_minor": 2
}
