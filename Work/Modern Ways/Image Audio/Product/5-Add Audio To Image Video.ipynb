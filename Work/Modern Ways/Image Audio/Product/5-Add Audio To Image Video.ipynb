{
 "cells": [
  {
   "cell_type": "markdown",
   "metadata": {},
   "source": [
    "### Add Audio To Image Video"
   ]
  },
  {
   "cell_type": "code",
   "execution_count": null,
   "metadata": {},
   "outputs": [],
   "source": [
    "#!pip install moviepy"
   ]
  },
  {
   "cell_type": "code",
   "execution_count": null,
   "metadata": {},
   "outputs": [],
   "source": [
    "#!pip install moviepy --upgrade"
   ]
  },
  {
   "cell_type": "code",
   "execution_count": 4,
   "metadata": {},
   "outputs": [],
   "source": [
    "#!pip install pylance"
   ]
  },
  {
   "cell_type": "markdown",
   "metadata": {},
   "source": [
    "#### Multi Add Audio To Image Video"
   ]
  },
  {
   "cell_type": "code",
   "execution_count": null,
   "metadata": {},
   "outputs": [],
   "source": [
    "from moviepy.editor import AudioFileClip, VideoFileClip, CompositeVideoClip, CompositeAudioClip\n",
    "import os\n",
    "import sys\n",
    "import numpy as np\n",
    "import pandas as pd\n",
    "from pathlib import Path\n",
    "import shutil"
   ]
  },
  {
   "cell_type": "code",
   "execution_count": null,
   "metadata": {},
   "outputs": [],
   "source": [
    "# language pair\n",
    "lang_folder = \"Turkish\"  # Arabic, English, French, German, Turkish, Spanish, Portuguese, Dutch, Italian ==> target language for learner\n",
    "\n",
    "# word start and end\n",
    "word_start = 0  # 0  # native word start index\n",
    "word_end = 200  # 200  # native word end index"
   ]
  },
  {
   "cell_type": "code",
   "execution_count": null,
   "metadata": {},
   "outputs": [],
   "source": [
    "path = f\"/media/kurubal/SSD/Data Scientist/Work/Modern Ways/Project/{lang_folder.capitalize()}/Image Audio Video/Result/200 Words\"\n",
    "\n",
    "Path(path).mkdir(parents=True, exist_ok=True)"
   ]
  },
  {
   "cell_type": "code",
   "execution_count": null,
   "metadata": {},
   "outputs": [],
   "source": [
    "image_video_path = f\"/media/kurubal/SSD/Data Scientist/Work/Modern Ways/Project/{lang_folder.capitalize()}/Image Audio Video/Data/200 Words\"\n",
    "text_audio_path = f\"/media/kurubal/SSD/Data Scientist/Work/Modern Ways/Project/{lang_folder.capitalize()}/Image Audio Video/Data/200 Words\""
   ]
  },
  {
   "cell_type": "code",
   "execution_count": null,
   "metadata": {},
   "outputs": [],
   "source": [
    "def add_audio_to_video(text_list, video_data_folder_name, video_data_path, audio_data_folder_name, audio_data_path, out_folder_name, out_path):\n",
    "    '''\n",
    "    add_audio_to_video(text_list, video_data_folder_name, video_data_path, audio_data_folder_name, audio_data_path, out_folder_name, out_path)\\n\n",
    "    text_list is list values. video_data_folder_name, video_data_path, audio_data_folder_name, audio_data_path, out_folder_name and out_path are path\\n\n",
    "    and folder in string(str). others are cv2 parameter\\n\n",
    "    ex.\\n\n",
    "    path = f\"/media/kurubal/SSD/Data Scientist/Data Science/Data-Scientist/Work/Modern Ways/Image Audio/Product\"\\n\n",
    "    image_video_path = f\"/media/kurubal/SSD/Data Scientist/Data Science/Data-Scientist/Work/Modern Ways/Image Audio/Product\"\\n\n",
    "    text_audio_path = f\"/media/kurubal/SSD/Data Scientist/Data Science/Data-Scientist/Work/Modern Ways/Image Audio/Product\"\\n\n",
    "    add_audio_to_video(word_select_list, \"Video\", image_video_path, \"Audio\", text_audio_path, \"Video_Audio\", path)\n",
    "    '''\n",
    "    no_image_file_list = []\n",
    "    result_path = f\"{out_path}/{out_folder_name}\"\n",
    "    Path(result_path).mkdir(parents=True, exist_ok=True)\n",
    "    for text in text_list:\n",
    "        try:\n",
    "            videoclip = VideoFileClip(f\"{video_data_path}/{video_data_folder_name}/{text}.mp4\")\n",
    "            audioclip = AudioFileClip(f\"{audio_data_path}/{audio_data_folder_name}/{text}.mp3\", fps = 44100)\n",
    "            #new_audioclip = CompositeAudioClip([audioclip])\n",
    "            #videoclip.audio = new_audioclip\n",
    "            videoclip.audio = audioclip\n",
    "            videoclip.write_videofile(f\"{result_path}/{text}.mp4\", audio_bitrate='128k', audio_fps=44100, audio_codec=\"aac\")\n",
    "        except:\n",
    "            no_image_file_list.append(text)\n",
    "            print(\"Oops!\", sys.exc_info()[0], \"occurred.\")\n",
    "    \n",
    "    return no_image_file_list"
   ]
  },
  {
   "cell_type": "code",
   "execution_count": null,
   "metadata": {},
   "outputs": [],
   "source": [
    "df_word_all = pd.read_excel(f\"/media/kurubal/SSD/Data Scientist/Work/Modern Ways/Project/{lang_folder.lower().capitalize()}/Deployment/Data/Word/Word_Merge_Preprocess.xlsx\")\n",
    "#df_word_all = pd.read_excel(\"test.xlsx\")\n",
    "df_word_all"
   ]
  },
  {
   "cell_type": "code",
   "execution_count": null,
   "metadata": {},
   "outputs": [],
   "source": [
    "df_word_select = df_word_all.iloc[word_start:word_end,]\n",
    "df_word_select"
   ]
  },
  {
   "cell_type": "code",
   "execution_count": null,
   "metadata": {},
   "outputs": [],
   "source": [
    "#word_select_list = df_word_select[\"word\"].values.tolist()"
   ]
  },
  {
   "cell_type": "code",
   "execution_count": null,
   "metadata": {},
   "outputs": [],
   "source": [
    "word_select_list = ['ve','de','var','hayır','kadar','bana','tamam','ki','ya','hadi','lütfen','bile','yani','peki','çünkü','biri','hey','efendim','demek','teşekkürler',\n",
    "'merhaba','işte','üzgünüm','diye','teşekkür','tabii','haydi','dostum','selam','pekala','oh','birkaç','zaten']"
   ]
  },
  {
   "cell_type": "code",
   "execution_count": null,
   "metadata": {},
   "outputs": [],
   "source": [
    "add_audio_to_video(word_select_list, \"Image_Video\", image_video_path, \"Text_Audio_MP3\", text_audio_path, \"Image_Video_Audio\", path)"
   ]
  },
  {
   "cell_type": "code",
   "execution_count": null,
   "metadata": {},
   "outputs": [],
   "source": []
  },
  {
   "cell_type": "code",
   "execution_count": null,
   "metadata": {},
   "outputs": [],
   "source": []
  },
  {
   "cell_type": "markdown",
   "metadata": {},
   "source": [
    "#### Sample"
   ]
  },
  {
   "cell_type": "code",
   "execution_count": null,
   "metadata": {},
   "outputs": [],
   "source": [
    "from moviepy.editor import *"
   ]
  },
  {
   "cell_type": "code",
   "execution_count": null,
   "metadata": {},
   "outputs": [],
   "source": [
    "videoclip = VideoFileClip(\"/media/kurubal/SSD/Data Scientist/Data Science/Data-Scientist/Work/Modern Ways/Image Audio/Product/Image_Video/anne.mp4\")\n",
    "audioclip = AudioFileClip(\"/media/kurubal/SSD/Data Scientist/Data Science/Data-Scientist/Work/Modern Ways/Image Audio/Product/Test_Audio/anne.mp3\")"
   ]
  },
  {
   "cell_type": "code",
   "execution_count": null,
   "metadata": {},
   "outputs": [],
   "source": [
    "new_audioclip = CompositeAudioClip([audioclip]).set_duration(videoclip.duration)\n",
    "videoclip.audio = new_audioclip\n",
    "videoclip.write_videofile(\"anne_audio.mp4\")"
   ]
  },
  {
   "cell_type": "code",
   "execution_count": null,
   "metadata": {},
   "outputs": [],
   "source": []
  },
  {
   "cell_type": "code",
   "execution_count": null,
   "metadata": {},
   "outputs": [],
   "source": []
  },
  {
   "cell_type": "code",
   "execution_count": null,
   "metadata": {},
   "outputs": [],
   "source": []
  }
 ],
 "metadata": {
  "kernelspec": {
   "display_name": "Python 3.9.0 64-bit",
   "language": "python",
   "name": "python3"
  },
  "language_info": {
   "codemirror_mode": {
    "name": "ipython",
    "version": 3
   },
   "file_extension": ".py",
   "mimetype": "text/x-python",
   "name": "python",
   "nbconvert_exporter": "python",
   "pygments_lexer": "ipython3",
   "version": "3.9.0"
  },
  "orig_nbformat": 4,
  "vscode": {
   "interpreter": {
    "hash": "f42fef0e501d15e7ffc29462fb079408e9033a09ba77cf75c7f739a9f9db1301"
   }
  }
 },
 "nbformat": 4,
 "nbformat_minor": 2
}
