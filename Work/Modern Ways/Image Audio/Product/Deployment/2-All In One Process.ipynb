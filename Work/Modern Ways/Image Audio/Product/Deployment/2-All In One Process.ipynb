{
 "cells": [
  {
   "cell_type": "markdown",
   "metadata": {},
   "source": [
    "### All In One Process"
   ]
  },
  {
   "cell_type": "code",
   "execution_count": 1,
   "metadata": {},
   "outputs": [],
   "source": [
    "import os\n",
    "import sys\n",
    "import numpy as np\n",
    "import pandas as pd\n",
    "from gtts import gTTS\n",
    "#from playsound import playsound\n",
    "from moviepy.editor import VideoFileClip, concatenate_videoclips, AudioFileClip, concatenate_audioclips,CompositeVideoClip, CompositeAudioClip\n",
    "import pandas as pd\n",
    "import nltk\n",
    "from nltk import word_tokenize\n",
    "from pathlib import Path\n",
    "import shutil\n",
    "from os.path import isfile, join\n",
    "import time\n",
    "import cv2"
   ]
  },
  {
   "cell_type": "markdown",
   "metadata": {},
   "source": [
    "#### Adjust Image File Convert Video And Concat "
   ]
  },
  {
   "cell_type": "code",
   "execution_count": 2,
   "metadata": {},
   "outputs": [
    {
     "name": "stdout",
     "output_type": "stream",
     "text": [
      "Turkish\n",
      "tr\n"
     ]
    }
   ],
   "source": [
    "# language pair\n",
    "lang_folder = \"Turkish\"  # Arabic, English, French, German, Turkish, Spanish, Portuguese, Dutch, Italian ==> target language for learner\n",
    "#lang_pair = \"English\"  # Arabic, English, French, German, Turkish, Spanish, Portuguese, Dutch, Italian ==> native language\n",
    "\n",
    "filename_length_num = 5\n",
    "\n",
    "# lang\n",
    "if lang_folder == \"English\":\n",
    "    lang = 'en'\n",
    "elif lang_folder == \"Turkish\":\n",
    "    lang = 'tr'\n",
    "elif lang_folder == \"German\":\n",
    "    lang = 'de'\n",
    "elif lang_folder == \"French\":\n",
    "    lang = 'fr'\n",
    "elif lang_folder == \"Spanish\":\n",
    "    lang = 'es'\n",
    "elif lang_folder == \"Arabic\":\n",
    "    lang = 'ar'\n",
    "elif lang_folder == \"Portuguese\":\n",
    "    lang = 'pt'\n",
    "elif lang_folder == \"Dutch\":\n",
    "    lang = 'nl'\n",
    "elif lang_folder == \"Italian\":\n",
    "    lang = 'it'\n",
    "else:\n",
    "    pass\n",
    "\n",
    "print(f\"{lang_folder}\\n{lang}\") "
   ]
  },
  {
   "cell_type": "code",
   "execution_count": 3,
   "metadata": {},
   "outputs": [],
   "source": [
    "# Data path and folder\n",
    "image_path = f\"/home/kurubal/Documents/Modern Ways/Project/{lang_folder.capitalize()}/Image Audio Video/Data/200 Words\"\n",
    "audio_delay_path_and_file = f\"/home/kurubal/Documents/Modern Ways/Project/{lang_folder.capitalize()}/Image Audio Video/Data/Audio_Delay/delay_audio.wav\""
   ]
  },
  {
   "cell_type": "code",
   "execution_count": 4,
   "metadata": {},
   "outputs": [],
   "source": [
    "def text_convert_to_audio_same(filename_list, out_folder_name, out_path, language=\"en\", speech_slow=True, delay_time = 0.5, delay_point = \"both\"):\n",
    "    ''' \n",
    "    text_convert_to_audio_same(word_group, out_folder_name, out_path, filename, language=\"en\", speech_slow=True, delay_time = 0.5, delay_point = \"both\")\\n\n",
    "    word_group is a string values. out_folder_name and out_path are path and folder name in str, filename is output result filename\\n\n",
    "    delay_time is in second and add delay to gttS audio result. delay point used for delay start, end or both\\n \n",
    "    ex:\\n\n",
    "    path = f\"/media/kurubal/SSD/Data Scientist/Data Science/Data-Scientist/Work/Modern Ways/Image Audio/Product\"\\n\n",
    "    text_convert_to_audio(word_select_list, \"Text_Audio\", path, language=lang)\n",
    "    '''\n",
    "    result_path = f\"{out_path}/{out_folder_name}\"\n",
    "    result_path2 = f\"{out_path}/Text_Audio\"\n",
    "    Path(result_path).mkdir(parents=True, exist_ok=True)\n",
    "    Path(result_path2).mkdir(parents=True, exist_ok=True)\n",
    "    audio_delay = AudioFileClip(audio_delay_path_and_file).subclip(0,delay_time)\n",
    "    for filename in filename_list:\n",
    "        if isfile(f\"{result_path2}/{filename}.mp3\"):\n",
    "            pass\n",
    "        else:\n",
    "            text_audio = gTTS(text=filename, lang=language, slow=speech_slow)\n",
    "            text_audio.save(f\"{result_path2}/{filename}.mp3\")\n",
    "            time.sleep(0.2)\n",
    "\n",
    "        if isfile(f\"{result_path}/{filename}.mp3\"):\n",
    "            pass\n",
    "        else:\n",
    "            text_audio2 = AudioFileClip(f\"{result_path2}/{filename}.mp3\")\n",
    "            try:        \n",
    "                if delay_point == \"both\":\n",
    "                    audio_combined = concatenate_audioclips([audio_delay,text_audio2,audio_delay])\n",
    "                elif delay_point == \"start\":\n",
    "                    audio_combined = concatenate_audioclips([audio_delay,text_audio2])\n",
    "                elif delay_point == \"end\":\n",
    "                    audio_combined = concatenate_audioclips([text_audio2,audio_delay])\n",
    "                else:\n",
    "                    audio_combined = concatenate_audioclips([text_audio2])\n",
    "\n",
    "                audio_combined.write_audiofile(f\"{result_path}/{filename}.mp3\", codec=\"mp3\", bitrate=\"128k\", fps=44100)\n",
    "            except:\n",
    "                    print(\"Oops!\", sys.exc_info()[0], \"occurred.\")"
   ]
  },
  {
   "cell_type": "code",
   "execution_count": 5,
   "metadata": {},
   "outputs": [],
   "source": [
    "def wordgroup_convert_to_audio_same(word_group, out_folder_name, out_path, language=\"en\", speech_slow=True, delay_time = 0.5, delay_point = \"both\"):\n",
    "    ''' \n",
    "    text_convert_to_audio_same(word_group, out_folder_name, out_path, filename, language=\"en\", speech_slow=True, delay_time = 0.5, delay_point = \"both\")\\n\n",
    "    word_group is a string values. out_folder_name and out_path are path and folder name in str, filename is output result filename\\n\n",
    "    delay_time is in second and add delay to gttS audio result. delay point used for delay start, end or both\\n \n",
    "    ex:\\n\n",
    "    path = f\"/media/kurubal/SSD/Data Scientist/Data Science/Data-Scientist/Work/Modern Ways/Image Audio/Product\"\\n\n",
    "    text_convert_to_audio(word_select_list, \"Text_Audio\", path, language=lang)\n",
    "    '''\n",
    "    result_path = f\"{out_path}/{out_folder_name}\"\n",
    "    result_path2 = f\"{out_path}/Text_Audio\"\n",
    "    Path(result_path).mkdir(parents=True, exist_ok=True)\n",
    "    Path(result_path2).mkdir(parents=True, exist_ok=True)\n",
    "    audio_delay = AudioFileClip(audio_delay_path_and_file).subclip(0,delay_time)\n",
    "    \n",
    "    word_list = word_tokenize(word_group)\n",
    "    if len(word_list)>filename_length_num:\n",
    "        filename = \" \".join(word_list[0:filename_length_num])\n",
    "    else:\n",
    "        filename = word_group\n",
    "\n",
    "    if isfile(f\"{result_path2}/{filename}.mp3\"):   # optional\n",
    "        pass\n",
    "    else:\n",
    "        text_audio = gTTS(text=word_group, lang=language, slow=speech_slow)\n",
    "        text_audio.save(f\"{result_path2}/{filename}.mp3\")\n",
    "        time.sleep(0.2)\n",
    "\n",
    "    if isfile(f\"{result_path}/{filename}.mp3\"):   # optional\n",
    "        pass\n",
    "    else:\n",
    "        text_audio2 = AudioFileClip(f\"{result_path2}/{filename}.mp3\")          \n",
    "        try:        \n",
    "            if delay_point == \"both\":\n",
    "                audio_combined = concatenate_audioclips([audio_delay,text_audio2,audio_delay])\n",
    "            elif delay_point == \"start\":\n",
    "                audio_combined = concatenate_audioclips([audio_delay,text_audio2])\n",
    "            elif delay_point == \"end\":\n",
    "                audio_combined = concatenate_audioclips([text_audio2,audio_delay])\n",
    "            else:\n",
    "                audio_combined = concatenate_audioclips([text_audio2])\n",
    "\n",
    "            audio_combined.write_audiofile(f\"{result_path}/{filename}.mp3\", codec=\"mp3\", bitrate=\"128k\", fps=44100)\n",
    "        except:\n",
    "                print(\"Oops!\", sys.exc_info()[0], \"occurred.\")"
   ]
  },
  {
   "cell_type": "code",
   "execution_count": 6,
   "metadata": {},
   "outputs": [],
   "source": [
    "def convert_image_to_jpg_crop_size(filename_list, data_folder_name, data_path, out_folder_name, out_path):\n",
    "    '''\n",
    "    convert_image_to_jpg(data_folder_name, data_path, out_folder_name, out_path)\\n\n",
    "    data_folder_name, data_path, out_folder_name and out_path are path and folder in string.\\n\n",
    "    ex.\\n\n",
    "    path = f\"/media/kurubal/SSD/Data Scientist/Data Science/Data-Scientist/Work/Modern Ways/Image Audio/Product\"\\n\n",
    "    image_path = f\"/media/kurubal/SSD/Data Scientist/Data Science/Data-Scientist/Work/Modern Ways/Image Audio/Product\"\\n\n",
    "    convert_image_to_jpg(\"Images\", image_path, \"Images_JPG\", path)\n",
    "    '''\n",
    "    aspect_ratio_width = 16\n",
    "    aspect_ratio_height = 9\n",
    "    basewidth = 1600\n",
    "    size_width = int(basewidth)\n",
    "    size_heigth = int((basewidth/aspect_ratio_width)*aspect_ratio_height)\n",
    "    size = (size_width,size_heigth)\n",
    "\n",
    "    result_path = f\"{out_path}/{out_folder_name}\"\n",
    "    result_path2 = f\"{out_path}/Images_JPG\"\n",
    "    data_folder_path = f\"{data_path}/{data_folder_name}\"\n",
    "    Path(result_path).mkdir(parents=True, exist_ok=True)\n",
    "    Path(result_path2).mkdir(parents=True, exist_ok=True)\n",
    "\n",
    "    files=[f for f in os.listdir(data_folder_path) if isfile(join(data_folder_path,f))]     \n",
    "    for i in range(len(files)):\n",
    "        #text = f\"{text}\"\n",
    "        pathfilename=data_folder_path+'/'+files[i]\n",
    "        filename_without_ext = os.path.splitext(files[i])[0]\n",
    "        try:\n",
    "            if isfile(f\"{result_path2}/{filename_without_ext}.jpg\"):\n",
    "                pass\n",
    "            else:\n",
    "                img = Image.open(pathfilename)\n",
    "                img2 = img.convert(\"RGB\")\n",
    "                img2.save(f\"{result_path2}/{filename_without_ext}.jpg\")\n",
    "                time.sleep(0.1)\n",
    "        except:\n",
    "            print(\"Oops!\", sys.exc_info()[0], \"occurred.\")\n",
    "\n",
    "    for filename in filename_list:    \n",
    "        if isfile(f\"{result_path}/{filename}.jpg\"):\n",
    "            pass\n",
    "        else:\n",
    "            try:\n",
    "                img3 = Image.open(f\"{result_path2}/{filename}.jpg\")  # ???\n",
    "                width, height = img3.size\n",
    "                height_var = int(height/aspect_ratio_height)\n",
    "                width_var = int(width/aspect_ratio_width)\n",
    "\n",
    "                if height_var == width_var:\n",
    "                    img_var = img3.resize(size, Image.LANCZOS)\n",
    "                elif width_var > height_var:\n",
    "                    crop_width = int(abs((width-(height_var*aspect_ratio_width))/2))\n",
    "                    box = (crop_width,0,width-crop_width,height)  # left, top, right, bottom\n",
    "                    img_crop = img3.crop(box)  \n",
    "                    img_var = img_crop.resize(size, Image.LANCZOS)\n",
    "                elif width_var < height_var:\n",
    "                    crop_height = int(abs((height-(width_var*aspect_ratio_height))/2))\n",
    "                    box = (0,crop_height,width,height-crop_height)  # left, top, right, bottom\n",
    "                    img_crop = img3.crop(box)  # left, top, right, bottom\n",
    "                    img_var = img_crop.resize(size, Image.LANCZOS)\n",
    "                else:\n",
    "                    img_var = img3\n",
    "\n",
    "                img_var.save(f\"{result_path}/{filename}.jpg\")\n",
    "\n",
    "            except:\n",
    "                print(\"Oops!\", sys.exc_info()[0], \"occurred.\")"
   ]
  },
  {
   "cell_type": "code",
   "execution_count": 7,
   "metadata": {},
   "outputs": [],
   "source": [
    "#def convert_image_to_jpg_crop_size(filename_list, data_folder_name, data_path, out_folder_name, out_path):\n",
    "#    '''\n",
    "#    convert_image_to_jpg(data_folder_name, data_path, out_folder_name, out_path)\\n\n",
    "#    data_folder_name, data_path, out_folder_name and out_path are path and folder in string.\\n\n",
    "#    ex.\\n\n",
    "#    path = f\"/media/kurubal/SSD/Data Scientist/Data Science/Data-Scientist/Work/Modern Ways/Image Audio/Product\"\\n\n",
    "#    image_path = f\"/media/kurubal/SSD/Data Scientist/Data Science/Data-Scientist/Work/Modern Ways/Image Audio/Product\"\\n\n",
    "#    convert_image_to_jpg(\"Images\", image_path, \"Images_JPG\", path)\n",
    "#    '''\n",
    "#    aspect_ratio_width = 16\n",
    "#    aspect_ratio_height = 9\n",
    "#    basewidth = 1600\n",
    "#    size_width = int(basewidth)\n",
    "#    size_heigth = int((basewidth/aspect_ratio_width)*aspect_ratio_height)\n",
    "#    size = (size_width,size_heigth)\n",
    "#\n",
    "#    result_path = f\"{out_path}/{out_folder_name}\"\n",
    "#    data_folder_path = f\"{data_path}/{data_folder_name}\"\n",
    "#    Path(result_path).mkdir(parents=True, exist_ok=True)\n",
    "#\n",
    "#    for filename in filename_list:    \n",
    "#        if isfile(f\"{result_path}/{filename}.jpg\"):\n",
    "#            pass\n",
    "#        else:\n",
    "#            try:\n",
    "#                img_file = Image.open(f\"{data_path}/{data_folder_name}/{filename}.jpg\")\n",
    "#                img = img_file.convert(\"RGB\")\n",
    "#\n",
    "#                width, height = img.size\n",
    "#                height_var = int(height/aspect_ratio_height)\n",
    "#                width_var = int(width/aspect_ratio_width)\n",
    "#\n",
    "#                if height_var == width_var:\n",
    "#                    img_var = img.resize(size, Image.LANCZOS)\n",
    "#                elif width_var > height_var:\n",
    "#                    crop_width = int(abs((width-(height_var*aspect_ratio_width))/2))\n",
    "#                    box = (crop_width,0,width-crop_width,height)  # left, top, right, bottom\n",
    "#                    img_crop = img.crop(box)  \n",
    "#                    img_var = img_crop.resize(size, Image.LANCZOS)\n",
    "#                elif width_var < height_var:\n",
    "#                    crop_height = int(abs((height-(width_var*aspect_ratio_height))/2))\n",
    "#                    box = (0,crop_height,width,height-crop_height)  # left, top, right, bottom\n",
    "#                    img_crop = img.crop(box)  # left, top, right, bottom\n",
    "#                    img_var = img_crop.resize(size, Image.LANCZOS)\n",
    "#                else:\n",
    "#                    img_var = img\n",
    "#\n",
    "#                img_var.save(f\"{result_path}/{filename}.jpg\")\n",
    "#\n",
    "#            except:\n",
    "#                print(\"Oops!\", sys.exc_info()[0], \"occurred.\")"
   ]
  },
  {
   "cell_type": "code",
   "execution_count": 8,
   "metadata": {},
   "outputs": [],
   "source": [
    "def convert_pictures_to_video(filename_list, data_folder_name, data_path, out_folder_name, out_path, fps=1, time=5):\n",
    "    '''\n",
    "    convert_pictures_to_video(text_list, data_folder_name, data_path, out_folder_name, out_path, fps=1, time=5)\\n\n",
    "    text_list is list values. data_folder_name, data_path, out_folder_name and out_path are path\\n\n",
    "    and folder in string(str). others are cv2 parameter\\n\n",
    "    ex.\\n\n",
    "    path = f\"/media/kurubal/SSD/Data Scientist/Data Science/Data-Scientist/Work/Modern Ways/Image Audio/Product\"\\n\n",
    "    image_path = f\"/media/kurubal/SSD/Data Scientist/Data Science/Data-Scientist/Work/Modern Ways/Image Audio/Product\"\\n\n",
    "    convert_pictures_to_video(word_select_list, \"Images_Crop_Size\", image_path, \"Image_Video\", path, fps=1, time=5)\n",
    "    '''\n",
    "    result_path = f\"{out_path}/{out_folder_name}\"\n",
    "    Path(result_path).mkdir(parents=True, exist_ok=True)\n",
    "\n",
    "    for filename in filename_list:\n",
    "        if isfile(f\"{out_path}/{out_folder_name}/{filename}.mp4\"):\n",
    "            pass\n",
    "        else:    \n",
    "            try:\n",
    "                img = cv2.imread(f\"{data_path}/{data_folder_name}/{filename}.jpg\")\n",
    "                height, width, layers = img.shape\n",
    "                size=(width,height)\n",
    "                frame_array = []\n",
    "                for k in range (time):\n",
    "                    frame_array.append(img)\n",
    "                result_path2 = f\"{out_path}/{out_folder_name}/{filename}.mp4\"\n",
    "                out = cv2.VideoWriter(result_path2,cv2.VideoWriter_fourcc(*'mp4v'), fps, size)\n",
    "    \n",
    "                for i in range(len(frame_array)):\n",
    "                    out.write(frame_array[i])\n",
    "                out.release()\n",
    "                \n",
    "            except:\n",
    "                print(\"Oops!\", sys.exc_info()[0], \"occurred.\")"
   ]
  },
  {
   "cell_type": "code",
   "execution_count": 9,
   "metadata": {},
   "outputs": [],
   "source": [
    "def add_audio_to_video(filename_list, video_data_folder_name, video_data_path, audio_data_folder_name, audio_data_path, out_folder_name, out_path):\n",
    "    '''\n",
    "    add_audio_to_video(text_list, video_data_folder_name, video_data_path, audio_data_folder_name, audio_data_path, out_folder_name, out_path)\\n\n",
    "    text_list is list values. video_data_folder_name, video_data_path, audio_data_folder_name, audio_data_path, out_folder_name and out_path are path\\n\n",
    "    and folder in string(str). others are cv2 parameter\\n\n",
    "    ex.\\n\n",
    "    path = f\"/media/kurubal/SSD/Data Scientist/Data Science/Data-Scientist/Work/Modern Ways/Image Audio/Product\"\\n\n",
    "    image_video_path = f\"/media/kurubal/SSD/Data Scientist/Data Science/Data-Scientist/Work/Modern Ways/Image Audio/Product\"\\n\n",
    "    text_audio_path = f\"/media/kurubal/SSD/Data Scientist/Data Science/Data-Scientist/Work/Modern Ways/Image Audio/Product\"\\n\n",
    "    add_audio_to_video(word_select_list, \"Video\", image_video_path, \"Audio\", text_audio_path, \"Video_Audio\", path)\n",
    "    '''\n",
    "    result_path = f\"{out_path}/{out_folder_name}\"\n",
    "    Path(result_path).mkdir(parents=True, exist_ok=True)\n",
    "\n",
    "    for filename in filename_list:\n",
    "        if isfile(f\"{result_path}/{filename}.mp4\"):\n",
    "            pass\n",
    "        else:\n",
    "            try:\n",
    "                videoclip = VideoFileClip(f\"{video_data_path}/{video_data_folder_name}/{filename}.mp4\")\n",
    "                audioclip = AudioFileClip(f\"{audio_data_path}/{audio_data_folder_name}/{filename}.mp3\", fps = 44100)\n",
    "    \n",
    "                #new_audioclip = CompositeAudioClip([audioclip]).set_duration(videoclip.duration)  # .set_duration(videoclip.duration), .set_duration(audioclip.duration)\n",
    "                new_videoclip = CompositeVideoClip([videoclip]).set_duration(audioclip.duration)  # .set_duration(videoclip.duration), .set_duration(audioclip.duration)\n",
    "                new_videoclip.audio = audioclip  # new_audioclip\n",
    "    \n",
    "                new_videoclip.write_videofile(f\"{result_path}/{filename}.mp4\", audio_bitrate='128k', audio_fps=44100, audio_codec=\"aac\")\n",
    "                \n",
    "            except:\n",
    "                print(\"Oops!\", sys.exc_info()[0], \"occurred.\")"
   ]
  },
  {
   "cell_type": "code",
   "execution_count": 10,
   "metadata": {},
   "outputs": [],
   "source": [
    "def add_audio_to_wordgroup_video(word_group, video_data_folder_name, video_data_path, audio_data_folder_name, audio_data_path, out_folder_name, out_path):\n",
    "    '''\n",
    "    add_audio_to_video(text_list, video_data_folder_name, video_data_path, audio_data_folder_name, audio_data_path, out_folder_name, out_path)\\n\n",
    "    text_list is list values. video_data_folder_name, video_data_path, audio_data_folder_name, audio_data_path, out_folder_name and out_path are path\\n\n",
    "    and folder in string(str). others are cv2 parameter\\n\n",
    "    ex.\\n\n",
    "    path = f\"/media/kurubal/SSD/Data Scientist/Data Science/Data-Scientist/Work/Modern Ways/Image Audio/Product\"\\n\n",
    "    image_video_path = f\"/media/kurubal/SSD/Data Scientist/Data Science/Data-Scientist/Work/Modern Ways/Image Audio/Product\"\\n\n",
    "    text_audio_path = f\"/media/kurubal/SSD/Data Scientist/Data Science/Data-Scientist/Work/Modern Ways/Image Audio/Product\"\\n\n",
    "    add_audio_to_video(word_select_list, \"Video\", image_video_path, \"Audio\", text_audio_path, \"Video_Audio\", path)\n",
    "    '''\n",
    "    result_path = f\"{out_path}/{out_folder_name}\"\n",
    "    Path(result_path).mkdir(parents=True, exist_ok=True)\n",
    "\n",
    "    word_list = word_tokenize(word_group)\n",
    "    if len(word_list)>filename_length_num:\n",
    "        filename = \" \".join(word_list[0:filename_length_num])\n",
    "    else:\n",
    "        filename = word_group\n",
    "\n",
    "    if isfile(f\"{result_path}/{filename}.mp4\"):  # optional\n",
    "        pass\n",
    "    else:\n",
    "        try:\n",
    "            videoclip = VideoFileClip(f\"{video_data_path}/{video_data_folder_name}/{word_list[-1]}.mp4\")\n",
    "            audioclip = AudioFileClip(f\"{audio_data_path}/{audio_data_folder_name}/{filename}.mp3\", fps = 44100)\n",
    "\n",
    "            #new_audioclip = CompositeAudioClip([audioclip]).set_duration(videoclip.duration)  # .set_duration(videoclip.duration), .set_duration(audioclip.duration)\n",
    "            new_videoclip = CompositeVideoClip([videoclip]).set_duration(audioclip.duration)  # .set_duration(videoclip.duration), .set_duration(audioclip.duration)\n",
    "            new_videoclip.audio = audioclip  # new_audioclip\n",
    "            \n",
    "            new_videoclip.write_videofile(f\"{result_path}/{filename}.mp4\", audio_bitrate='128k', audio_fps=44100, audio_codec=\"aac\")\n",
    "            \n",
    "        except:\n",
    "            print(\"Oops!\", sys.exc_info()[0], \"occurred.\")"
   ]
  },
  {
   "cell_type": "code",
   "execution_count": 11,
   "metadata": {},
   "outputs": [],
   "source": [
    "def concat_video(filename_list, video_data_folder_name, video_data_path, out_folder_name, out_path, out_filename, external_audio_video):  \n",
    "    '''\n",
    "    concat_video(filename_list, video_data_folder_name, video_data_path, out_folder_name, out_path, filename)\\n\n",
    "    filename_list is list values. video_data_folder_name, video_data_path, out_folder_name and out_path are path and folder in string(str)\\n\n",
    "    filename is string of result mp4 file name.\n",
    "    ex.\\n\n",
    "    path = f\"/media/kurubal/SSD/Data Scientist/Data Science/Data-Scientist/Work/Modern Ways/Image Audio/Product\"\\n\n",
    "    audio_image_video_path = f\"/media/kurubal/SSD/Data Scientist/Data Science/Data-Scientist/Work/Modern Ways/Image Audio/Product\"\\n\n",
    "    concat_video_fast(word_select_list, \"Image_Video_Audio\", audio_image_video_path, \"Concat_Video\", path, \"200_Word_Combined_Sample\")\n",
    "    '''\n",
    "    no_image_file_list = []\n",
    "    result_path = f\"{out_path}/{out_folder_name}\"\n",
    "    Path(result_path).mkdir(parents=True, exist_ok=True)\n",
    "    video_text_list = []\n",
    "    video_list = []\n",
    "    \n",
    "    if isfile(f\"{result_path}/{out_filename}.mp4\"):\n",
    "        pass\n",
    "    else:\n",
    "        for filename in filename_list:\n",
    "            if isfile(f\"{video_data_path}/{video_data_folder_name}/{filename}.mp4\") and not(isfile(f\"{result_path}/{out_filename}.mp4\")):\n",
    "                video_text_list.append(filename)            \n",
    "            else:\n",
    "                no_image_file_list.append(filename)\n",
    "\n",
    "        video_text_list.append(external_audio_video)\n",
    "        for video_num in range(len(video_text_list)):\n",
    "            try:\n",
    "                clip_var = VideoFileClip(f\"{video_data_path}/{video_data_folder_name}/{video_text_list[video_num]}.mp4\", target_resolution=(900, 1600))  # height, width\n",
    "                video_list.append(clip_var)            \n",
    "            except:\n",
    "                print(\"Oops!\", sys.exc_info()[0], \"occurred.\", f\"{video_text_list[video_num]}.mp4\")\n",
    "\n",
    "        combined = concatenate_videoclips(video_list, method='compose')\n",
    "        combined.write_videofile(f\"{result_path}/{out_filename}.mp4\", audio_bitrate='128k', audio_fps=44100, audio_codec=\"aac\")\n",
    "\n",
    "    return no_image_file_list"
   ]
  },
  {
   "cell_type": "code",
   "execution_count": 12,
   "metadata": {},
   "outputs": [],
   "source": [
    "def all_in_one(word_group_list, image_data_folder_name, image_data_path, out_path, language=lang):\n",
    "    '''\n",
    "    word_group_word_video_combine(word_group_list, video_data_folder_name, video_data_path, out_folder_name, out_path)\n",
    "    word_group_list is word_group(sentence) list values. video_data_folder_name, video_data_path, out_folder_name and out_path are path and folder in string(str)\\n\n",
    "    ex.\\n\n",
    "    path = f\"/media/kurubal/SSD/Data Scientist/Data Science/Data-Scientist/Work/Modern Ways/Image Audio/Product\"\\n\n",
    "    audio_image_video_path = f\"/media/kurubal/SSD/Data Scientist/Data Science/Data-Scientist/Work/Modern Ways/Image Audio/Product\"\\n\n",
    "    word_group_word_video_combine(df_deployment_file_sent_list, \"Image_Video_Audio\", audio_image_video_path, \"200_Word_69_Youtube_Sentence\", path)\n",
    "    '''\n",
    "    data_path = f\"{out_path}/Data\"\n",
    "    result_path = f\"{out_path}/Result\"\n",
    "    Path(data_path).mkdir(parents=True, exist_ok=True)\n",
    "    Path(result_path).mkdir(parents=True, exist_ok=True)\n",
    "    for word_group in word_group_list:\n",
    "        word_list = word_tokenize(word_group)\n",
    "        try:\n",
    "            convert_image_to_jpg_crop_size(word_list, image_data_folder_name, image_data_path, \"Image_JPG_Crop\", data_path)\n",
    "            text_convert_to_audio_same(word_list, \"Text_MP3\", data_path, language=language, speech_slow=True, delay_time = 0.5, delay_point = \"both\")\n",
    "            #convert_image_to_jpg_crop_size(word_list, image_data_folder_name, image_data_path, \"Image_JPG_Crop\", data_path)\n",
    "            convert_pictures_to_video(word_list, \"Image_JPG_Crop\", data_path, \"Image_Video\", data_path, fps=1, time=5)\n",
    "            add_audio_to_video(word_list, \"Image_Video\", data_path, \"Text_MP3\", data_path, \"Image_Video_Audio\", result_path)\n",
    "        except:\n",
    "            print(\"Oops!\", sys.exc_info()[0], \"occurred.\")\n",
    "\n",
    "        if len(word_list)>1:\n",
    "            try:            \n",
    "                if len(word_list)>filename_length_num:\n",
    "                    filename_new = \" \".join(word_list[0:filename_length_num])\n",
    "                else:\n",
    "                    filename_new = word_group\n",
    "                wordgroup_convert_to_audio_same(word_group, \"Text_MP3\", data_path, language=language, speech_slow=True, delay_time = 0.5, delay_point = \"both\")\n",
    "                add_audio_to_wordgroup_video(word_group, \"Image_Video\", data_path, \"Text_MP3\", data_path, \"Image_Video_Audio\", result_path)\n",
    "                concat_video(word_list, \"Image_Video_Audio\", result_path, \"Concat_Video\", result_path, f\"{filename_new}\", f\"{filename_new}\")\n",
    "            except:\n",
    "                print(\"Oops!\", sys.exc_info()[0], \"occurred.\")                \n",
    "        else:\n",
    "            pass        "
   ]
  },
  {
   "cell_type": "code",
   "execution_count": 13,
   "metadata": {},
   "outputs": [],
   "source": [
    "# Output path and folder\n",
    "result_path = f\"/home/kurubal/Documents/Modern Ways/Project/{lang_folder.capitalize()}/Image Audio Video/Result/200 Words\"\n",
    "main_result_folder = \"Twogram_Threegram\"\n",
    "result_folder = \"Threegram_Twogram_Selected\""
   ]
  },
  {
   "cell_type": "code",
   "execution_count": 14,
   "metadata": {},
   "outputs": [],
   "source": [
    "# ///***\n",
    "output_path = f\"{result_path}/{main_result_folder}/{result_folder}\"  # output path\n",
    "text_audio_path = f\"{result_path}/{main_result_folder}/{result_folder}/Data/Text_Audio\"\n",
    "\n",
    "Path(output_path).mkdir(parents=True, exist_ok=True)\n",
    "Path(text_audio_path).mkdir(parents=True, exist_ok=True)\n",
    "# ****\\\\\\"
   ]
  },
  {
   "cell_type": "code",
   "execution_count": 15,
   "metadata": {},
   "outputs": [
    {
     "data": {
      "text/html": [
       "<div>\n",
       "<style scoped>\n",
       "    .dataframe tbody tr th:only-of-type {\n",
       "        vertical-align: middle;\n",
       "    }\n",
       "\n",
       "    .dataframe tbody tr th {\n",
       "        vertical-align: top;\n",
       "    }\n",
       "\n",
       "    .dataframe thead th {\n",
       "        text-align: right;\n",
       "    }\n",
       "</style>\n",
       "<table border=\"1\" class=\"dataframe\">\n",
       "  <thead>\n",
       "    <tr style=\"text-align: right;\">\n",
       "      <th></th>\n",
       "      <th>twogram_threegram_selected</th>\n",
       "    </tr>\n",
       "  </thead>\n",
       "  <tbody>\n",
       "    <tr>\n",
       "      <th>0</th>\n",
       "      <td>benimle geliyor musun</td>\n",
       "    </tr>\n",
       "    <tr>\n",
       "      <th>1</th>\n",
       "      <td>bana yardım et</td>\n",
       "    </tr>\n",
       "    <tr>\n",
       "      <th>2</th>\n",
       "      <td>sadece birkaç dakika</td>\n",
       "    </tr>\n",
       "    <tr>\n",
       "      <th>3</th>\n",
       "      <td>birkaç gün içinde</td>\n",
       "    </tr>\n",
       "    <tr>\n",
       "      <th>4</th>\n",
       "      <td>ben teşekkür ederim</td>\n",
       "    </tr>\n",
       "    <tr>\n",
       "      <th>...</th>\n",
       "      <td>...</td>\n",
       "    </tr>\n",
       "    <tr>\n",
       "      <th>95</th>\n",
       "      <td>onun gibi</td>\n",
       "    </tr>\n",
       "    <tr>\n",
       "      <th>96</th>\n",
       "      <td>para için</td>\n",
       "    </tr>\n",
       "    <tr>\n",
       "      <th>97</th>\n",
       "      <td>senin için</td>\n",
       "    </tr>\n",
       "    <tr>\n",
       "      <th>98</th>\n",
       "      <td>sorun yok</td>\n",
       "    </tr>\n",
       "    <tr>\n",
       "      <th>99</th>\n",
       "      <td>tamam mı</td>\n",
       "    </tr>\n",
       "  </tbody>\n",
       "</table>\n",
       "<p>100 rows × 1 columns</p>\n",
       "</div>"
      ],
      "text/plain": [
       "   twogram_threegram_selected\n",
       "0       benimle geliyor musun\n",
       "1              bana yardım et\n",
       "2        sadece birkaç dakika\n",
       "3           birkaç gün içinde\n",
       "4         ben teşekkür ederim\n",
       "..                        ...\n",
       "95                  onun gibi\n",
       "96                  para için\n",
       "97                 senin için\n",
       "98                  sorun yok\n",
       "99                   tamam mı\n",
       "\n",
       "[100 rows x 1 columns]"
      ]
     },
     "execution_count": 15,
     "metadata": {},
     "output_type": "execute_result"
    }
   ],
   "source": [
    "df_deployment_file = pd.read_excel(\"/media/kurubal/SSD/Data Scientist/Work/Modern Ways/Project/Turkish/\\\n",
    "Deployment2/Result/Deploy2 Result Manuel/Turkish/Twogram_Threegram_Selected.xlsx\", sheet_name=\"twogram_threegram_selected\")\n",
    "df_deployment_file"
   ]
  },
  {
   "cell_type": "code",
   "execution_count": 16,
   "metadata": {},
   "outputs": [
    {
     "data": {
      "text/plain": [
       "100"
      ]
     },
     "execution_count": 16,
     "metadata": {},
     "output_type": "execute_result"
    }
   ],
   "source": [
    "word_group_list = df_deployment_file[\"twogram_threegram_selected\"].dropna().to_list()\n",
    "len(word_group_list)"
   ]
  },
  {
   "cell_type": "code",
   "execution_count": 17,
   "metadata": {},
   "outputs": [],
   "source": [
    "#word_group_list = [\"ben\",\"tam olarak bu\",\"ne için bu\", \"biliyor musun\", \"ne oldu\"]  # \"ne için bu\""
   ]
  },
  {
   "cell_type": "code",
   "execution_count": 18,
   "metadata": {},
   "outputs": [],
   "source": [
    "#word_group_list = [\"het spijt me\",\"wat is er\",\"ik weet het\",\"wat is dat\",\"wat doe je\",\"wat is dit\",\"dat weet ik\",\"hoe gaat het\",\"weet je wat\",\"dank je wel\",\"is dat zo\",\"laten we gaan\",\"ik moet gaan\",\"het is goed\",\"wat wil je\",\"wie ben jij\",\"wie is dat\",\"waar is hij\",\"weet ik niet\"]"
   ]
  },
  {
   "cell_type": "code",
   "execution_count": 19,
   "metadata": {},
   "outputs": [
    {
     "data": {
      "application/javascript": "\n        if (window._pyforest_update_imports_cell) { window._pyforest_update_imports_cell('from PIL import Image'); }\n    ",
      "text/plain": [
       "<IPython.core.display.Javascript object>"
      ]
     },
     "metadata": {},
     "output_type": "display_data"
    },
    {
     "data": {
      "application/javascript": "\n        if (window._pyforest_update_imports_cell) { window._pyforest_update_imports_cell('from PIL import Image'); }\n    ",
      "text/plain": [
       "<IPython.core.display.Javascript object>"
      ]
     },
     "metadata": {},
     "output_type": "display_data"
    },
    {
     "data": {
      "application/javascript": "\n        if (window._pyforest_update_imports_cell) { window._pyforest_update_imports_cell('from PIL import Image'); }\n    ",
      "text/plain": [
       "<IPython.core.display.Javascript object>"
      ]
     },
     "metadata": {},
     "output_type": "display_data"
    },
    {
     "data": {
      "application/javascript": "\n        if (window._pyforest_update_imports_cell) { window._pyforest_update_imports_cell('from PIL import Image'); }\n    ",
      "text/plain": [
       "<IPython.core.display.Javascript object>"
      ]
     },
     "metadata": {},
     "output_type": "display_data"
    },
    {
     "data": {
      "application/javascript": "\n        if (window._pyforest_update_imports_cell) { window._pyforest_update_imports_cell('from PIL import Image'); }\n    ",
      "text/plain": [
       "<IPython.core.display.Javascript object>"
      ]
     },
     "metadata": {},
     "output_type": "display_data"
    },
    {
     "data": {
      "application/javascript": "\n        if (window._pyforest_update_imports_cell) { window._pyforest_update_imports_cell('from PIL import Image'); }\n    ",
      "text/plain": [
       "<IPython.core.display.Javascript object>"
      ]
     },
     "metadata": {},
     "output_type": "display_data"
    },
    {
     "data": {
      "application/javascript": "\n        if (window._pyforest_update_imports_cell) { window._pyforest_update_imports_cell('from PIL import Image'); }\n    ",
      "text/plain": [
       "<IPython.core.display.Javascript object>"
      ]
     },
     "metadata": {},
     "output_type": "display_data"
    },
    {
     "data": {
      "application/javascript": "\n        if (window._pyforest_update_imports_cell) { window._pyforest_update_imports_cell('from PIL import Image'); }\n    ",
      "text/plain": [
       "<IPython.core.display.Javascript object>"
      ]
     },
     "metadata": {},
     "output_type": "display_data"
    },
    {
     "data": {
      "application/javascript": "\n        if (window._pyforest_update_imports_cell) { window._pyforest_update_imports_cell('from PIL import Image'); }\n    ",
      "text/plain": [
       "<IPython.core.display.Javascript object>"
      ]
     },
     "metadata": {},
     "output_type": "display_data"
    },
    {
     "data": {
      "application/javascript": "\n        if (window._pyforest_update_imports_cell) { window._pyforest_update_imports_cell('from PIL import Image'); }\n    ",
      "text/plain": [
       "<IPython.core.display.Javascript object>"
      ]
     },
     "metadata": {},
     "output_type": "display_data"
    },
    {
     "data": {
      "application/javascript": "\n        if (window._pyforest_update_imports_cell) { window._pyforest_update_imports_cell('from PIL import Image'); }\n    ",
      "text/plain": [
       "<IPython.core.display.Javascript object>"
      ]
     },
     "metadata": {},
     "output_type": "display_data"
    },
    {
     "data": {
      "application/javascript": "\n        if (window._pyforest_update_imports_cell) { window._pyforest_update_imports_cell('from PIL import Image'); }\n    ",
      "text/plain": [
       "<IPython.core.display.Javascript object>"
      ]
     },
     "metadata": {},
     "output_type": "display_data"
    },
    {
     "data": {
      "application/javascript": "\n        if (window._pyforest_update_imports_cell) { window._pyforest_update_imports_cell('from PIL import Image'); }\n    ",
      "text/plain": [
       "<IPython.core.display.Javascript object>"
      ]
     },
     "metadata": {},
     "output_type": "display_data"
    },
    {
     "data": {
      "application/javascript": "\n        if (window._pyforest_update_imports_cell) { window._pyforest_update_imports_cell('from PIL import Image'); }\n    ",
      "text/plain": [
       "<IPython.core.display.Javascript object>"
      ]
     },
     "metadata": {},
     "output_type": "display_data"
    },
    {
     "data": {
      "application/javascript": "\n        if (window._pyforest_update_imports_cell) { window._pyforest_update_imports_cell('from PIL import Image'); }\n    ",
      "text/plain": [
       "<IPython.core.display.Javascript object>"
      ]
     },
     "metadata": {},
     "output_type": "display_data"
    },
    {
     "data": {
      "application/javascript": "\n        if (window._pyforest_update_imports_cell) { window._pyforest_update_imports_cell('from PIL import Image'); }\n    ",
      "text/plain": [
       "<IPython.core.display.Javascript object>"
      ]
     },
     "metadata": {},
     "output_type": "display_data"
    },
    {
     "data": {
      "application/javascript": "\n        if (window._pyforest_update_imports_cell) { window._pyforest_update_imports_cell('from PIL import Image'); }\n    ",
      "text/plain": [
       "<IPython.core.display.Javascript object>"
      ]
     },
     "metadata": {},
     "output_type": "display_data"
    },
    {
     "data": {
      "application/javascript": "\n        if (window._pyforest_update_imports_cell) { window._pyforest_update_imports_cell('from PIL import Image'); }\n    ",
      "text/plain": [
       "<IPython.core.display.Javascript object>"
      ]
     },
     "metadata": {},
     "output_type": "display_data"
    },
    {
     "data": {
      "application/javascript": "\n        if (window._pyforest_update_imports_cell) { window._pyforest_update_imports_cell('from PIL import Image'); }\n    ",
      "text/plain": [
       "<IPython.core.display.Javascript object>"
      ]
     },
     "metadata": {},
     "output_type": "display_data"
    },
    {
     "data": {
      "application/javascript": "\n        if (window._pyforest_update_imports_cell) { window._pyforest_update_imports_cell('from PIL import Image'); }\n    ",
      "text/plain": [
       "<IPython.core.display.Javascript object>"
      ]
     },
     "metadata": {},
     "output_type": "display_data"
    },
    {
     "data": {
      "application/javascript": "\n        if (window._pyforest_update_imports_cell) { window._pyforest_update_imports_cell('from PIL import Image'); }\n    ",
      "text/plain": [
       "<IPython.core.display.Javascript object>"
      ]
     },
     "metadata": {},
     "output_type": "display_data"
    },
    {
     "data": {
      "application/javascript": "\n        if (window._pyforest_update_imports_cell) { window._pyforest_update_imports_cell('from PIL import Image'); }\n    ",
      "text/plain": [
       "<IPython.core.display.Javascript object>"
      ]
     },
     "metadata": {},
     "output_type": "display_data"
    },
    {
     "data": {
      "application/javascript": "\n        if (window._pyforest_update_imports_cell) { window._pyforest_update_imports_cell('from PIL import Image'); }\n    ",
      "text/plain": [
       "<IPython.core.display.Javascript object>"
      ]
     },
     "metadata": {},
     "output_type": "display_data"
    },
    {
     "data": {
      "application/javascript": "\n        if (window._pyforest_update_imports_cell) { window._pyforest_update_imports_cell('from PIL import Image'); }\n    ",
      "text/plain": [
       "<IPython.core.display.Javascript object>"
      ]
     },
     "metadata": {},
     "output_type": "display_data"
    },
    {
     "data": {
      "application/javascript": "\n        if (window._pyforest_update_imports_cell) { window._pyforest_update_imports_cell('from PIL import Image'); }\n    ",
      "text/plain": [
       "<IPython.core.display.Javascript object>"
      ]
     },
     "metadata": {},
     "output_type": "display_data"
    },
    {
     "data": {
      "application/javascript": "\n        if (window._pyforest_update_imports_cell) { window._pyforest_update_imports_cell('from PIL import Image'); }\n    ",
      "text/plain": [
       "<IPython.core.display.Javascript object>"
      ]
     },
     "metadata": {},
     "output_type": "display_data"
    },
    {
     "data": {
      "application/javascript": "\n        if (window._pyforest_update_imports_cell) { window._pyforest_update_imports_cell('from PIL import Image'); }\n    ",
      "text/plain": [
       "<IPython.core.display.Javascript object>"
      ]
     },
     "metadata": {},
     "output_type": "display_data"
    },
    {
     "data": {
      "application/javascript": "\n        if (window._pyforest_update_imports_cell) { window._pyforest_update_imports_cell('from PIL import Image'); }\n    ",
      "text/plain": [
       "<IPython.core.display.Javascript object>"
      ]
     },
     "metadata": {},
     "output_type": "display_data"
    },
    {
     "data": {
      "application/javascript": "\n        if (window._pyforest_update_imports_cell) { window._pyforest_update_imports_cell('from PIL import Image'); }\n    ",
      "text/plain": [
       "<IPython.core.display.Javascript object>"
      ]
     },
     "metadata": {},
     "output_type": "display_data"
    },
    {
     "data": {
      "application/javascript": "\n        if (window._pyforest_update_imports_cell) { window._pyforest_update_imports_cell('from PIL import Image'); }\n    ",
      "text/plain": [
       "<IPython.core.display.Javascript object>"
      ]
     },
     "metadata": {},
     "output_type": "display_data"
    },
    {
     "data": {
      "application/javascript": "\n        if (window._pyforest_update_imports_cell) { window._pyforest_update_imports_cell('from PIL import Image'); }\n    ",
      "text/plain": [
       "<IPython.core.display.Javascript object>"
      ]
     },
     "metadata": {},
     "output_type": "display_data"
    },
    {
     "data": {
      "application/javascript": "\n        if (window._pyforest_update_imports_cell) { window._pyforest_update_imports_cell('from PIL import Image'); }\n    ",
      "text/plain": [
       "<IPython.core.display.Javascript object>"
      ]
     },
     "metadata": {},
     "output_type": "display_data"
    },
    {
     "data": {
      "application/javascript": "\n        if (window._pyforest_update_imports_cell) { window._pyforest_update_imports_cell('from PIL import Image'); }\n    ",
      "text/plain": [
       "<IPython.core.display.Javascript object>"
      ]
     },
     "metadata": {},
     "output_type": "display_data"
    },
    {
     "data": {
      "application/javascript": "\n        if (window._pyforest_update_imports_cell) { window._pyforest_update_imports_cell('from PIL import Image'); }\n    ",
      "text/plain": [
       "<IPython.core.display.Javascript object>"
      ]
     },
     "metadata": {},
     "output_type": "display_data"
    },
    {
     "data": {
      "application/javascript": "\n        if (window._pyforest_update_imports_cell) { window._pyforest_update_imports_cell('from PIL import Image'); }\n    ",
      "text/plain": [
       "<IPython.core.display.Javascript object>"
      ]
     },
     "metadata": {},
     "output_type": "display_data"
    },
    {
     "data": {
      "application/javascript": "\n        if (window._pyforest_update_imports_cell) { window._pyforest_update_imports_cell('from PIL import Image'); }\n    ",
      "text/plain": [
       "<IPython.core.display.Javascript object>"
      ]
     },
     "metadata": {},
     "output_type": "display_data"
    },
    {
     "data": {
      "application/javascript": "\n        if (window._pyforest_update_imports_cell) { window._pyforest_update_imports_cell('from PIL import Image'); }\n    ",
      "text/plain": [
       "<IPython.core.display.Javascript object>"
      ]
     },
     "metadata": {},
     "output_type": "display_data"
    },
    {
     "data": {
      "application/javascript": "\n        if (window._pyforest_update_imports_cell) { window._pyforest_update_imports_cell('from PIL import Image'); }\n    ",
      "text/plain": [
       "<IPython.core.display.Javascript object>"
      ]
     },
     "metadata": {},
     "output_type": "display_data"
    },
    {
     "data": {
      "application/javascript": "\n        if (window._pyforest_update_imports_cell) { window._pyforest_update_imports_cell('from PIL import Image'); }\n    ",
      "text/plain": [
       "<IPython.core.display.Javascript object>"
      ]
     },
     "metadata": {},
     "output_type": "display_data"
    },
    {
     "data": {
      "application/javascript": "\n        if (window._pyforest_update_imports_cell) { window._pyforest_update_imports_cell('from PIL import Image'); }\n    ",
      "text/plain": [
       "<IPython.core.display.Javascript object>"
      ]
     },
     "metadata": {},
     "output_type": "display_data"
    },
    {
     "data": {
      "application/javascript": "\n        if (window._pyforest_update_imports_cell) { window._pyforest_update_imports_cell('from PIL import Image'); }\n    ",
      "text/plain": [
       "<IPython.core.display.Javascript object>"
      ]
     },
     "metadata": {},
     "output_type": "display_data"
    },
    {
     "data": {
      "application/javascript": "\n        if (window._pyforest_update_imports_cell) { window._pyforest_update_imports_cell('from PIL import Image'); }\n    ",
      "text/plain": [
       "<IPython.core.display.Javascript object>"
      ]
     },
     "metadata": {},
     "output_type": "display_data"
    },
    {
     "data": {
      "application/javascript": "\n        if (window._pyforest_update_imports_cell) { window._pyforest_update_imports_cell('from PIL import Image'); }\n    ",
      "text/plain": [
       "<IPython.core.display.Javascript object>"
      ]
     },
     "metadata": {},
     "output_type": "display_data"
    },
    {
     "data": {
      "application/javascript": "\n        if (window._pyforest_update_imports_cell) { window._pyforest_update_imports_cell('from PIL import Image'); }\n    ",
      "text/plain": [
       "<IPython.core.display.Javascript object>"
      ]
     },
     "metadata": {},
     "output_type": "display_data"
    },
    {
     "data": {
      "application/javascript": "\n        if (window._pyforest_update_imports_cell) { window._pyforest_update_imports_cell('from PIL import Image'); }\n    ",
      "text/plain": [
       "<IPython.core.display.Javascript object>"
      ]
     },
     "metadata": {},
     "output_type": "display_data"
    },
    {
     "data": {
      "application/javascript": "\n        if (window._pyforest_update_imports_cell) { window._pyforest_update_imports_cell('from PIL import Image'); }\n    ",
      "text/plain": [
       "<IPython.core.display.Javascript object>"
      ]
     },
     "metadata": {},
     "output_type": "display_data"
    },
    {
     "data": {
      "application/javascript": "\n        if (window._pyforest_update_imports_cell) { window._pyforest_update_imports_cell('from PIL import Image'); }\n    ",
      "text/plain": [
       "<IPython.core.display.Javascript object>"
      ]
     },
     "metadata": {},
     "output_type": "display_data"
    },
    {
     "data": {
      "application/javascript": "\n        if (window._pyforest_update_imports_cell) { window._pyforest_update_imports_cell('from PIL import Image'); }\n    ",
      "text/plain": [
       "<IPython.core.display.Javascript object>"
      ]
     },
     "metadata": {},
     "output_type": "display_data"
    },
    {
     "data": {
      "application/javascript": "\n        if (window._pyforest_update_imports_cell) { window._pyforest_update_imports_cell('from PIL import Image'); }\n    ",
      "text/plain": [
       "<IPython.core.display.Javascript object>"
      ]
     },
     "metadata": {},
     "output_type": "display_data"
    },
    {
     "data": {
      "application/javascript": "\n        if (window._pyforest_update_imports_cell) { window._pyforest_update_imports_cell('from PIL import Image'); }\n    ",
      "text/plain": [
       "<IPython.core.display.Javascript object>"
      ]
     },
     "metadata": {},
     "output_type": "display_data"
    },
    {
     "data": {
      "application/javascript": "\n        if (window._pyforest_update_imports_cell) { window._pyforest_update_imports_cell('from PIL import Image'); }\n    ",
      "text/plain": [
       "<IPython.core.display.Javascript object>"
      ]
     },
     "metadata": {},
     "output_type": "display_data"
    },
    {
     "data": {
      "application/javascript": "\n        if (window._pyforest_update_imports_cell) { window._pyforest_update_imports_cell('from PIL import Image'); }\n    ",
      "text/plain": [
       "<IPython.core.display.Javascript object>"
      ]
     },
     "metadata": {},
     "output_type": "display_data"
    },
    {
     "data": {
      "application/javascript": "\n        if (window._pyforest_update_imports_cell) { window._pyforest_update_imports_cell('from PIL import Image'); }\n    ",
      "text/plain": [
       "<IPython.core.display.Javascript object>"
      ]
     },
     "metadata": {},
     "output_type": "display_data"
    },
    {
     "data": {
      "application/javascript": "\n        if (window._pyforest_update_imports_cell) { window._pyforest_update_imports_cell('from PIL import Image'); }\n    ",
      "text/plain": [
       "<IPython.core.display.Javascript object>"
      ]
     },
     "metadata": {},
     "output_type": "display_data"
    },
    {
     "data": {
      "application/javascript": "\n        if (window._pyforest_update_imports_cell) { window._pyforest_update_imports_cell('from PIL import Image'); }\n    ",
      "text/plain": [
       "<IPython.core.display.Javascript object>"
      ]
     },
     "metadata": {},
     "output_type": "display_data"
    },
    {
     "data": {
      "application/javascript": "\n        if (window._pyforest_update_imports_cell) { window._pyforest_update_imports_cell('from PIL import Image'); }\n    ",
      "text/plain": [
       "<IPython.core.display.Javascript object>"
      ]
     },
     "metadata": {},
     "output_type": "display_data"
    },
    {
     "data": {
      "application/javascript": "\n        if (window._pyforest_update_imports_cell) { window._pyforest_update_imports_cell('from PIL import Image'); }\n    ",
      "text/plain": [
       "<IPython.core.display.Javascript object>"
      ]
     },
     "metadata": {},
     "output_type": "display_data"
    },
    {
     "data": {
      "application/javascript": "\n        if (window._pyforest_update_imports_cell) { window._pyforest_update_imports_cell('from PIL import Image'); }\n    ",
      "text/plain": [
       "<IPython.core.display.Javascript object>"
      ]
     },
     "metadata": {},
     "output_type": "display_data"
    },
    {
     "data": {
      "application/javascript": "\n        if (window._pyforest_update_imports_cell) { window._pyforest_update_imports_cell('from PIL import Image'); }\n    ",
      "text/plain": [
       "<IPython.core.display.Javascript object>"
      ]
     },
     "metadata": {},
     "output_type": "display_data"
    },
    {
     "data": {
      "application/javascript": "\n        if (window._pyforest_update_imports_cell) { window._pyforest_update_imports_cell('from PIL import Image'); }\n    ",
      "text/plain": [
       "<IPython.core.display.Javascript object>"
      ]
     },
     "metadata": {},
     "output_type": "display_data"
    },
    {
     "data": {
      "application/javascript": "\n        if (window._pyforest_update_imports_cell) { window._pyforest_update_imports_cell('from PIL import Image'); }\n    ",
      "text/plain": [
       "<IPython.core.display.Javascript object>"
      ]
     },
     "metadata": {},
     "output_type": "display_data"
    },
    {
     "data": {
      "application/javascript": "\n        if (window._pyforest_update_imports_cell) { window._pyforest_update_imports_cell('from PIL import Image'); }\n    ",
      "text/plain": [
       "<IPython.core.display.Javascript object>"
      ]
     },
     "metadata": {},
     "output_type": "display_data"
    },
    {
     "data": {
      "application/javascript": "\n        if (window._pyforest_update_imports_cell) { window._pyforest_update_imports_cell('from PIL import Image'); }\n    ",
      "text/plain": [
       "<IPython.core.display.Javascript object>"
      ]
     },
     "metadata": {},
     "output_type": "display_data"
    },
    {
     "data": {
      "application/javascript": "\n        if (window._pyforest_update_imports_cell) { window._pyforest_update_imports_cell('from PIL import Image'); }\n    ",
      "text/plain": [
       "<IPython.core.display.Javascript object>"
      ]
     },
     "metadata": {},
     "output_type": "display_data"
    },
    {
     "data": {
      "application/javascript": "\n        if (window._pyforest_update_imports_cell) { window._pyforest_update_imports_cell('from PIL import Image'); }\n    ",
      "text/plain": [
       "<IPython.core.display.Javascript object>"
      ]
     },
     "metadata": {},
     "output_type": "display_data"
    },
    {
     "data": {
      "application/javascript": "\n        if (window._pyforest_update_imports_cell) { window._pyforest_update_imports_cell('from PIL import Image'); }\n    ",
      "text/plain": [
       "<IPython.core.display.Javascript object>"
      ]
     },
     "metadata": {},
     "output_type": "display_data"
    },
    {
     "data": {
      "application/javascript": "\n        if (window._pyforest_update_imports_cell) { window._pyforest_update_imports_cell('from PIL import Image'); }\n    ",
      "text/plain": [
       "<IPython.core.display.Javascript object>"
      ]
     },
     "metadata": {},
     "output_type": "display_data"
    },
    {
     "data": {
      "application/javascript": "\n        if (window._pyforest_update_imports_cell) { window._pyforest_update_imports_cell('from PIL import Image'); }\n    ",
      "text/plain": [
       "<IPython.core.display.Javascript object>"
      ]
     },
     "metadata": {},
     "output_type": "display_data"
    },
    {
     "data": {
      "application/javascript": "\n        if (window._pyforest_update_imports_cell) { window._pyforest_update_imports_cell('from PIL import Image'); }\n    ",
      "text/plain": [
       "<IPython.core.display.Javascript object>"
      ]
     },
     "metadata": {},
     "output_type": "display_data"
    },
    {
     "data": {
      "application/javascript": "\n        if (window._pyforest_update_imports_cell) { window._pyforest_update_imports_cell('from PIL import Image'); }\n    ",
      "text/plain": [
       "<IPython.core.display.Javascript object>"
      ]
     },
     "metadata": {},
     "output_type": "display_data"
    },
    {
     "data": {
      "application/javascript": "\n        if (window._pyforest_update_imports_cell) { window._pyforest_update_imports_cell('from PIL import Image'); }\n    ",
      "text/plain": [
       "<IPython.core.display.Javascript object>"
      ]
     },
     "metadata": {},
     "output_type": "display_data"
    },
    {
     "data": {
      "application/javascript": "\n        if (window._pyforest_update_imports_cell) { window._pyforest_update_imports_cell('from PIL import Image'); }\n    ",
      "text/plain": [
       "<IPython.core.display.Javascript object>"
      ]
     },
     "metadata": {},
     "output_type": "display_data"
    },
    {
     "data": {
      "application/javascript": "\n        if (window._pyforest_update_imports_cell) { window._pyforest_update_imports_cell('from PIL import Image'); }\n    ",
      "text/plain": [
       "<IPython.core.display.Javascript object>"
      ]
     },
     "metadata": {},
     "output_type": "display_data"
    },
    {
     "data": {
      "application/javascript": "\n        if (window._pyforest_update_imports_cell) { window._pyforest_update_imports_cell('from PIL import Image'); }\n    ",
      "text/plain": [
       "<IPython.core.display.Javascript object>"
      ]
     },
     "metadata": {},
     "output_type": "display_data"
    },
    {
     "data": {
      "application/javascript": "\n        if (window._pyforest_update_imports_cell) { window._pyforest_update_imports_cell('from PIL import Image'); }\n    ",
      "text/plain": [
       "<IPython.core.display.Javascript object>"
      ]
     },
     "metadata": {},
     "output_type": "display_data"
    },
    {
     "data": {
      "application/javascript": "\n        if (window._pyforest_update_imports_cell) { window._pyforest_update_imports_cell('from PIL import Image'); }\n    ",
      "text/plain": [
       "<IPython.core.display.Javascript object>"
      ]
     },
     "metadata": {},
     "output_type": "display_data"
    },
    {
     "data": {
      "application/javascript": "\n        if (window._pyforest_update_imports_cell) { window._pyforest_update_imports_cell('from PIL import Image'); }\n    ",
      "text/plain": [
       "<IPython.core.display.Javascript object>"
      ]
     },
     "metadata": {},
     "output_type": "display_data"
    },
    {
     "data": {
      "application/javascript": "\n        if (window._pyforest_update_imports_cell) { window._pyforest_update_imports_cell('from PIL import Image'); }\n    ",
      "text/plain": [
       "<IPython.core.display.Javascript object>"
      ]
     },
     "metadata": {},
     "output_type": "display_data"
    },
    {
     "data": {
      "application/javascript": "\n        if (window._pyforest_update_imports_cell) { window._pyforest_update_imports_cell('from PIL import Image'); }\n    ",
      "text/plain": [
       "<IPython.core.display.Javascript object>"
      ]
     },
     "metadata": {},
     "output_type": "display_data"
    },
    {
     "data": {
      "application/javascript": "\n        if (window._pyforest_update_imports_cell) { window._pyforest_update_imports_cell('from PIL import Image'); }\n    ",
      "text/plain": [
       "<IPython.core.display.Javascript object>"
      ]
     },
     "metadata": {},
     "output_type": "display_data"
    },
    {
     "data": {
      "application/javascript": "\n        if (window._pyforest_update_imports_cell) { window._pyforest_update_imports_cell('from PIL import Image'); }\n    ",
      "text/plain": [
       "<IPython.core.display.Javascript object>"
      ]
     },
     "metadata": {},
     "output_type": "display_data"
    },
    {
     "data": {
      "application/javascript": "\n        if (window._pyforest_update_imports_cell) { window._pyforest_update_imports_cell('from PIL import Image'); }\n    ",
      "text/plain": [
       "<IPython.core.display.Javascript object>"
      ]
     },
     "metadata": {},
     "output_type": "display_data"
    },
    {
     "data": {
      "application/javascript": "\n        if (window._pyforest_update_imports_cell) { window._pyforest_update_imports_cell('from PIL import Image'); }\n    ",
      "text/plain": [
       "<IPython.core.display.Javascript object>"
      ]
     },
     "metadata": {},
     "output_type": "display_data"
    },
    {
     "data": {
      "application/javascript": "\n        if (window._pyforest_update_imports_cell) { window._pyforest_update_imports_cell('from PIL import Image'); }\n    ",
      "text/plain": [
       "<IPython.core.display.Javascript object>"
      ]
     },
     "metadata": {},
     "output_type": "display_data"
    },
    {
     "data": {
      "application/javascript": "\n        if (window._pyforest_update_imports_cell) { window._pyforest_update_imports_cell('from PIL import Image'); }\n    ",
      "text/plain": [
       "<IPython.core.display.Javascript object>"
      ]
     },
     "metadata": {},
     "output_type": "display_data"
    },
    {
     "data": {
      "application/javascript": "\n        if (window._pyforest_update_imports_cell) { window._pyforest_update_imports_cell('from PIL import Image'); }\n    ",
      "text/plain": [
       "<IPython.core.display.Javascript object>"
      ]
     },
     "metadata": {},
     "output_type": "display_data"
    },
    {
     "data": {
      "application/javascript": "\n        if (window._pyforest_update_imports_cell) { window._pyforest_update_imports_cell('from PIL import Image'); }\n    ",
      "text/plain": [
       "<IPython.core.display.Javascript object>"
      ]
     },
     "metadata": {},
     "output_type": "display_data"
    },
    {
     "data": {
      "application/javascript": "\n        if (window._pyforest_update_imports_cell) { window._pyforest_update_imports_cell('from PIL import Image'); }\n    ",
      "text/plain": [
       "<IPython.core.display.Javascript object>"
      ]
     },
     "metadata": {},
     "output_type": "display_data"
    },
    {
     "data": {
      "application/javascript": "\n        if (window._pyforest_update_imports_cell) { window._pyforest_update_imports_cell('from PIL import Image'); }\n    ",
      "text/plain": [
       "<IPython.core.display.Javascript object>"
      ]
     },
     "metadata": {},
     "output_type": "display_data"
    },
    {
     "data": {
      "application/javascript": "\n        if (window._pyforest_update_imports_cell) { window._pyforest_update_imports_cell('from PIL import Image'); }\n    ",
      "text/plain": [
       "<IPython.core.display.Javascript object>"
      ]
     },
     "metadata": {},
     "output_type": "display_data"
    },
    {
     "data": {
      "application/javascript": "\n        if (window._pyforest_update_imports_cell) { window._pyforest_update_imports_cell('from PIL import Image'); }\n    ",
      "text/plain": [
       "<IPython.core.display.Javascript object>"
      ]
     },
     "metadata": {},
     "output_type": "display_data"
    },
    {
     "data": {
      "application/javascript": "\n        if (window._pyforest_update_imports_cell) { window._pyforest_update_imports_cell('from PIL import Image'); }\n    ",
      "text/plain": [
       "<IPython.core.display.Javascript object>"
      ]
     },
     "metadata": {},
     "output_type": "display_data"
    },
    {
     "data": {
      "application/javascript": "\n        if (window._pyforest_update_imports_cell) { window._pyforest_update_imports_cell('from PIL import Image'); }\n    ",
      "text/plain": [
       "<IPython.core.display.Javascript object>"
      ]
     },
     "metadata": {},
     "output_type": "display_data"
    },
    {
     "data": {
      "application/javascript": "\n        if (window._pyforest_update_imports_cell) { window._pyforest_update_imports_cell('from PIL import Image'); }\n    ",
      "text/plain": [
       "<IPython.core.display.Javascript object>"
      ]
     },
     "metadata": {},
     "output_type": "display_data"
    },
    {
     "data": {
      "application/javascript": "\n        if (window._pyforest_update_imports_cell) { window._pyforest_update_imports_cell('from PIL import Image'); }\n    ",
      "text/plain": [
       "<IPython.core.display.Javascript object>"
      ]
     },
     "metadata": {},
     "output_type": "display_data"
    },
    {
     "data": {
      "application/javascript": "\n        if (window._pyforest_update_imports_cell) { window._pyforest_update_imports_cell('from PIL import Image'); }\n    ",
      "text/plain": [
       "<IPython.core.display.Javascript object>"
      ]
     },
     "metadata": {},
     "output_type": "display_data"
    },
    {
     "data": {
      "application/javascript": "\n        if (window._pyforest_update_imports_cell) { window._pyforest_update_imports_cell('from PIL import Image'); }\n    ",
      "text/plain": [
       "<IPython.core.display.Javascript object>"
      ]
     },
     "metadata": {},
     "output_type": "display_data"
    },
    {
     "data": {
      "application/javascript": "\n        if (window._pyforest_update_imports_cell) { window._pyforest_update_imports_cell('from PIL import Image'); }\n    ",
      "text/plain": [
       "<IPython.core.display.Javascript object>"
      ]
     },
     "metadata": {},
     "output_type": "display_data"
    },
    {
     "data": {
      "application/javascript": "\n        if (window._pyforest_update_imports_cell) { window._pyforest_update_imports_cell('from PIL import Image'); }\n    ",
      "text/plain": [
       "<IPython.core.display.Javascript object>"
      ]
     },
     "metadata": {},
     "output_type": "display_data"
    },
    {
     "data": {
      "application/javascript": "\n        if (window._pyforest_update_imports_cell) { window._pyforest_update_imports_cell('from PIL import Image'); }\n    ",
      "text/plain": [
       "<IPython.core.display.Javascript object>"
      ]
     },
     "metadata": {},
     "output_type": "display_data"
    },
    {
     "data": {
      "application/javascript": "\n        if (window._pyforest_update_imports_cell) { window._pyforest_update_imports_cell('from PIL import Image'); }\n    ",
      "text/plain": [
       "<IPython.core.display.Javascript object>"
      ]
     },
     "metadata": {},
     "output_type": "display_data"
    },
    {
     "data": {
      "application/javascript": "\n        if (window._pyforest_update_imports_cell) { window._pyforest_update_imports_cell('from PIL import Image'); }\n    ",
      "text/plain": [
       "<IPython.core.display.Javascript object>"
      ]
     },
     "metadata": {},
     "output_type": "display_data"
    },
    {
     "data": {
      "application/javascript": "\n        if (window._pyforest_update_imports_cell) { window._pyforest_update_imports_cell('from PIL import Image'); }\n    ",
      "text/plain": [
       "<IPython.core.display.Javascript object>"
      ]
     },
     "metadata": {},
     "output_type": "display_data"
    },
    {
     "data": {
      "application/javascript": "\n        if (window._pyforest_update_imports_cell) { window._pyforest_update_imports_cell('from PIL import Image'); }\n    ",
      "text/plain": [
       "<IPython.core.display.Javascript object>"
      ]
     },
     "metadata": {},
     "output_type": "display_data"
    },
    {
     "data": {
      "application/javascript": "\n        if (window._pyforest_update_imports_cell) { window._pyforest_update_imports_cell('from PIL import Image'); }\n    ",
      "text/plain": [
       "<IPython.core.display.Javascript object>"
      ]
     },
     "metadata": {},
     "output_type": "display_data"
    },
    {
     "data": {
      "application/javascript": "\n        if (window._pyforest_update_imports_cell) { window._pyforest_update_imports_cell('from PIL import Image'); }\n    ",
      "text/plain": [
       "<IPython.core.display.Javascript object>"
      ]
     },
     "metadata": {},
     "output_type": "display_data"
    },
    {
     "data": {
      "application/javascript": "\n        if (window._pyforest_update_imports_cell) { window._pyforest_update_imports_cell('from PIL import Image'); }\n    ",
      "text/plain": [
       "<IPython.core.display.Javascript object>"
      ]
     },
     "metadata": {},
     "output_type": "display_data"
    },
    {
     "data": {
      "application/javascript": "\n        if (window._pyforest_update_imports_cell) { window._pyforest_update_imports_cell('from PIL import Image'); }\n    ",
      "text/plain": [
       "<IPython.core.display.Javascript object>"
      ]
     },
     "metadata": {},
     "output_type": "display_data"
    },
    {
     "data": {
      "application/javascript": "\n        if (window._pyforest_update_imports_cell) { window._pyforest_update_imports_cell('from PIL import Image'); }\n    ",
      "text/plain": [
       "<IPython.core.display.Javascript object>"
      ]
     },
     "metadata": {},
     "output_type": "display_data"
    },
    {
     "data": {
      "application/javascript": "\n        if (window._pyforest_update_imports_cell) { window._pyforest_update_imports_cell('from PIL import Image'); }\n    ",
      "text/plain": [
       "<IPython.core.display.Javascript object>"
      ]
     },
     "metadata": {},
     "output_type": "display_data"
    },
    {
     "data": {
      "application/javascript": "\n        if (window._pyforest_update_imports_cell) { window._pyforest_update_imports_cell('from PIL import Image'); }\n    ",
      "text/plain": [
       "<IPython.core.display.Javascript object>"
      ]
     },
     "metadata": {},
     "output_type": "display_data"
    },
    {
     "data": {
      "application/javascript": "\n        if (window._pyforest_update_imports_cell) { window._pyforest_update_imports_cell('from PIL import Image'); }\n    ",
      "text/plain": [
       "<IPython.core.display.Javascript object>"
      ]
     },
     "metadata": {},
     "output_type": "display_data"
    },
    {
     "data": {
      "application/javascript": "\n        if (window._pyforest_update_imports_cell) { window._pyforest_update_imports_cell('from PIL import Image'); }\n    ",
      "text/plain": [
       "<IPython.core.display.Javascript object>"
      ]
     },
     "metadata": {},
     "output_type": "display_data"
    },
    {
     "data": {
      "application/javascript": "\n        if (window._pyforest_update_imports_cell) { window._pyforest_update_imports_cell('from PIL import Image'); }\n    ",
      "text/plain": [
       "<IPython.core.display.Javascript object>"
      ]
     },
     "metadata": {},
     "output_type": "display_data"
    },
    {
     "data": {
      "application/javascript": "\n        if (window._pyforest_update_imports_cell) { window._pyforest_update_imports_cell('from PIL import Image'); }\n    ",
      "text/plain": [
       "<IPython.core.display.Javascript object>"
      ]
     },
     "metadata": {},
     "output_type": "display_data"
    },
    {
     "data": {
      "application/javascript": "\n        if (window._pyforest_update_imports_cell) { window._pyforest_update_imports_cell('from PIL import Image'); }\n    ",
      "text/plain": [
       "<IPython.core.display.Javascript object>"
      ]
     },
     "metadata": {},
     "output_type": "display_data"
    },
    {
     "data": {
      "application/javascript": "\n        if (window._pyforest_update_imports_cell) { window._pyforest_update_imports_cell('from PIL import Image'); }\n    ",
      "text/plain": [
       "<IPython.core.display.Javascript object>"
      ]
     },
     "metadata": {},
     "output_type": "display_data"
    },
    {
     "data": {
      "application/javascript": "\n        if (window._pyforest_update_imports_cell) { window._pyforest_update_imports_cell('from PIL import Image'); }\n    ",
      "text/plain": [
       "<IPython.core.display.Javascript object>"
      ]
     },
     "metadata": {},
     "output_type": "display_data"
    },
    {
     "data": {
      "application/javascript": "\n        if (window._pyforest_update_imports_cell) { window._pyforest_update_imports_cell('from PIL import Image'); }\n    ",
      "text/plain": [
       "<IPython.core.display.Javascript object>"
      ]
     },
     "metadata": {},
     "output_type": "display_data"
    },
    {
     "data": {
      "application/javascript": "\n        if (window._pyforest_update_imports_cell) { window._pyforest_update_imports_cell('from PIL import Image'); }\n    ",
      "text/plain": [
       "<IPython.core.display.Javascript object>"
      ]
     },
     "metadata": {},
     "output_type": "display_data"
    },
    {
     "data": {
      "application/javascript": "\n        if (window._pyforest_update_imports_cell) { window._pyforest_update_imports_cell('from PIL import Image'); }\n    ",
      "text/plain": [
       "<IPython.core.display.Javascript object>"
      ]
     },
     "metadata": {},
     "output_type": "display_data"
    },
    {
     "data": {
      "application/javascript": "\n        if (window._pyforest_update_imports_cell) { window._pyforest_update_imports_cell('from PIL import Image'); }\n    ",
      "text/plain": [
       "<IPython.core.display.Javascript object>"
      ]
     },
     "metadata": {},
     "output_type": "display_data"
    },
    {
     "data": {
      "application/javascript": "\n        if (window._pyforest_update_imports_cell) { window._pyforest_update_imports_cell('from PIL import Image'); }\n    ",
      "text/plain": [
       "<IPython.core.display.Javascript object>"
      ]
     },
     "metadata": {},
     "output_type": "display_data"
    },
    {
     "data": {
      "application/javascript": "\n        if (window._pyforest_update_imports_cell) { window._pyforest_update_imports_cell('from PIL import Image'); }\n    ",
      "text/plain": [
       "<IPython.core.display.Javascript object>"
      ]
     },
     "metadata": {},
     "output_type": "display_data"
    },
    {
     "data": {
      "application/javascript": "\n        if (window._pyforest_update_imports_cell) { window._pyforest_update_imports_cell('from PIL import Image'); }\n    ",
      "text/plain": [
       "<IPython.core.display.Javascript object>"
      ]
     },
     "metadata": {},
     "output_type": "display_data"
    },
    {
     "data": {
      "application/javascript": "\n        if (window._pyforest_update_imports_cell) { window._pyforest_update_imports_cell('from PIL import Image'); }\n    ",
      "text/plain": [
       "<IPython.core.display.Javascript object>"
      ]
     },
     "metadata": {},
     "output_type": "display_data"
    },
    {
     "data": {
      "application/javascript": "\n        if (window._pyforest_update_imports_cell) { window._pyforest_update_imports_cell('from PIL import Image'); }\n    ",
      "text/plain": [
       "<IPython.core.display.Javascript object>"
      ]
     },
     "metadata": {},
     "output_type": "display_data"
    },
    {
     "data": {
      "application/javascript": "\n        if (window._pyforest_update_imports_cell) { window._pyforest_update_imports_cell('from PIL import Image'); }\n    ",
      "text/plain": [
       "<IPython.core.display.Javascript object>"
      ]
     },
     "metadata": {},
     "output_type": "display_data"
    },
    {
     "data": {
      "application/javascript": "\n        if (window._pyforest_update_imports_cell) { window._pyforest_update_imports_cell('from PIL import Image'); }\n    ",
      "text/plain": [
       "<IPython.core.display.Javascript object>"
      ]
     },
     "metadata": {},
     "output_type": "display_data"
    },
    {
     "data": {
      "application/javascript": "\n        if (window._pyforest_update_imports_cell) { window._pyforest_update_imports_cell('from PIL import Image'); }\n    ",
      "text/plain": [
       "<IPython.core.display.Javascript object>"
      ]
     },
     "metadata": {},
     "output_type": "display_data"
    },
    {
     "data": {
      "application/javascript": "\n        if (window._pyforest_update_imports_cell) { window._pyforest_update_imports_cell('from PIL import Image'); }\n    ",
      "text/plain": [
       "<IPython.core.display.Javascript object>"
      ]
     },
     "metadata": {},
     "output_type": "display_data"
    },
    {
     "data": {
      "application/javascript": "\n        if (window._pyforest_update_imports_cell) { window._pyforest_update_imports_cell('from PIL import Image'); }\n    ",
      "text/plain": [
       "<IPython.core.display.Javascript object>"
      ]
     },
     "metadata": {},
     "output_type": "display_data"
    },
    {
     "data": {
      "application/javascript": "\n        if (window._pyforest_update_imports_cell) { window._pyforest_update_imports_cell('from PIL import Image'); }\n    ",
      "text/plain": [
       "<IPython.core.display.Javascript object>"
      ]
     },
     "metadata": {},
     "output_type": "display_data"
    },
    {
     "data": {
      "application/javascript": "\n        if (window._pyforest_update_imports_cell) { window._pyforest_update_imports_cell('from PIL import Image'); }\n    ",
      "text/plain": [
       "<IPython.core.display.Javascript object>"
      ]
     },
     "metadata": {},
     "output_type": "display_data"
    },
    {
     "data": {
      "application/javascript": "\n        if (window._pyforest_update_imports_cell) { window._pyforest_update_imports_cell('from PIL import Image'); }\n    ",
      "text/plain": [
       "<IPython.core.display.Javascript object>"
      ]
     },
     "metadata": {},
     "output_type": "display_data"
    },
    {
     "data": {
      "application/javascript": "\n        if (window._pyforest_update_imports_cell) { window._pyforest_update_imports_cell('from PIL import Image'); }\n    ",
      "text/plain": [
       "<IPython.core.display.Javascript object>"
      ]
     },
     "metadata": {},
     "output_type": "display_data"
    },
    {
     "data": {
      "application/javascript": "\n        if (window._pyforest_update_imports_cell) { window._pyforest_update_imports_cell('from PIL import Image'); }\n    ",
      "text/plain": [
       "<IPython.core.display.Javascript object>"
      ]
     },
     "metadata": {},
     "output_type": "display_data"
    },
    {
     "data": {
      "application/javascript": "\n        if (window._pyforest_update_imports_cell) { window._pyforest_update_imports_cell('from PIL import Image'); }\n    ",
      "text/plain": [
       "<IPython.core.display.Javascript object>"
      ]
     },
     "metadata": {},
     "output_type": "display_data"
    },
    {
     "data": {
      "application/javascript": "\n        if (window._pyforest_update_imports_cell) { window._pyforest_update_imports_cell('from PIL import Image'); }\n    ",
      "text/plain": [
       "<IPython.core.display.Javascript object>"
      ]
     },
     "metadata": {},
     "output_type": "display_data"
    },
    {
     "data": {
      "application/javascript": "\n        if (window._pyforest_update_imports_cell) { window._pyforest_update_imports_cell('from PIL import Image'); }\n    ",
      "text/plain": [
       "<IPython.core.display.Javascript object>"
      ]
     },
     "metadata": {},
     "output_type": "display_data"
    },
    {
     "data": {
      "application/javascript": "\n        if (window._pyforest_update_imports_cell) { window._pyforest_update_imports_cell('from PIL import Image'); }\n    ",
      "text/plain": [
       "<IPython.core.display.Javascript object>"
      ]
     },
     "metadata": {},
     "output_type": "display_data"
    },
    {
     "data": {
      "application/javascript": "\n        if (window._pyforest_update_imports_cell) { window._pyforest_update_imports_cell('from PIL import Image'); }\n    ",
      "text/plain": [
       "<IPython.core.display.Javascript object>"
      ]
     },
     "metadata": {},
     "output_type": "display_data"
    },
    {
     "data": {
      "application/javascript": "\n        if (window._pyforest_update_imports_cell) { window._pyforest_update_imports_cell('from PIL import Image'); }\n    ",
      "text/plain": [
       "<IPython.core.display.Javascript object>"
      ]
     },
     "metadata": {},
     "output_type": "display_data"
    },
    {
     "data": {
      "application/javascript": "\n        if (window._pyforest_update_imports_cell) { window._pyforest_update_imports_cell('from PIL import Image'); }\n    ",
      "text/plain": [
       "<IPython.core.display.Javascript object>"
      ]
     },
     "metadata": {},
     "output_type": "display_data"
    },
    {
     "data": {
      "application/javascript": "\n        if (window._pyforest_update_imports_cell) { window._pyforest_update_imports_cell('from PIL import Image'); }\n    ",
      "text/plain": [
       "<IPython.core.display.Javascript object>"
      ]
     },
     "metadata": {},
     "output_type": "display_data"
    },
    {
     "data": {
      "application/javascript": "\n        if (window._pyforest_update_imports_cell) { window._pyforest_update_imports_cell('from PIL import Image'); }\n    ",
      "text/plain": [
       "<IPython.core.display.Javascript object>"
      ]
     },
     "metadata": {},
     "output_type": "display_data"
    },
    {
     "data": {
      "application/javascript": "\n        if (window._pyforest_update_imports_cell) { window._pyforest_update_imports_cell('from PIL import Image'); }\n    ",
      "text/plain": [
       "<IPython.core.display.Javascript object>"
      ]
     },
     "metadata": {},
     "output_type": "display_data"
    },
    {
     "data": {
      "application/javascript": "\n        if (window._pyforest_update_imports_cell) { window._pyforest_update_imports_cell('from PIL import Image'); }\n    ",
      "text/plain": [
       "<IPython.core.display.Javascript object>"
      ]
     },
     "metadata": {},
     "output_type": "display_data"
    },
    {
     "data": {
      "application/javascript": "\n        if (window._pyforest_update_imports_cell) { window._pyforest_update_imports_cell('from PIL import Image'); }\n    ",
      "text/plain": [
       "<IPython.core.display.Javascript object>"
      ]
     },
     "metadata": {},
     "output_type": "display_data"
    },
    {
     "data": {
      "application/javascript": "\n        if (window._pyforest_update_imports_cell) { window._pyforest_update_imports_cell('from PIL import Image'); }\n    ",
      "text/plain": [
       "<IPython.core.display.Javascript object>"
      ]
     },
     "metadata": {},
     "output_type": "display_data"
    },
    {
     "data": {
      "application/javascript": "\n        if (window._pyforest_update_imports_cell) { window._pyforest_update_imports_cell('from PIL import Image'); }\n    ",
      "text/plain": [
       "<IPython.core.display.Javascript object>"
      ]
     },
     "metadata": {},
     "output_type": "display_data"
    },
    {
     "data": {
      "application/javascript": "\n        if (window._pyforest_update_imports_cell) { window._pyforest_update_imports_cell('from PIL import Image'); }\n    ",
      "text/plain": [
       "<IPython.core.display.Javascript object>"
      ]
     },
     "metadata": {},
     "output_type": "display_data"
    },
    {
     "data": {
      "application/javascript": "\n        if (window._pyforest_update_imports_cell) { window._pyforest_update_imports_cell('from PIL import Image'); }\n    ",
      "text/plain": [
       "<IPython.core.display.Javascript object>"
      ]
     },
     "metadata": {},
     "output_type": "display_data"
    },
    {
     "data": {
      "application/javascript": "\n        if (window._pyforest_update_imports_cell) { window._pyforest_update_imports_cell('from PIL import Image'); }\n    ",
      "text/plain": [
       "<IPython.core.display.Javascript object>"
      ]
     },
     "metadata": {},
     "output_type": "display_data"
    },
    {
     "data": {
      "application/javascript": "\n        if (window._pyforest_update_imports_cell) { window._pyforest_update_imports_cell('from PIL import Image'); }\n    ",
      "text/plain": [
       "<IPython.core.display.Javascript object>"
      ]
     },
     "metadata": {},
     "output_type": "display_data"
    },
    {
     "data": {
      "application/javascript": "\n        if (window._pyforest_update_imports_cell) { window._pyforest_update_imports_cell('from PIL import Image'); }\n    ",
      "text/plain": [
       "<IPython.core.display.Javascript object>"
      ]
     },
     "metadata": {},
     "output_type": "display_data"
    },
    {
     "data": {
      "application/javascript": "\n        if (window._pyforest_update_imports_cell) { window._pyforest_update_imports_cell('from PIL import Image'); }\n    ",
      "text/plain": [
       "<IPython.core.display.Javascript object>"
      ]
     },
     "metadata": {},
     "output_type": "display_data"
    },
    {
     "data": {
      "application/javascript": "\n        if (window._pyforest_update_imports_cell) { window._pyforest_update_imports_cell('from PIL import Image'); }\n    ",
      "text/plain": [
       "<IPython.core.display.Javascript object>"
      ]
     },
     "metadata": {},
     "output_type": "display_data"
    },
    {
     "data": {
      "application/javascript": "\n        if (window._pyforest_update_imports_cell) { window._pyforest_update_imports_cell('from PIL import Image'); }\n    ",
      "text/plain": [
       "<IPython.core.display.Javascript object>"
      ]
     },
     "metadata": {},
     "output_type": "display_data"
    },
    {
     "data": {
      "application/javascript": "\n        if (window._pyforest_update_imports_cell) { window._pyforest_update_imports_cell('from PIL import Image'); }\n    ",
      "text/plain": [
       "<IPython.core.display.Javascript object>"
      ]
     },
     "metadata": {},
     "output_type": "display_data"
    },
    {
     "data": {
      "application/javascript": "\n        if (window._pyforest_update_imports_cell) { window._pyforest_update_imports_cell('from PIL import Image'); }\n    ",
      "text/plain": [
       "<IPython.core.display.Javascript object>"
      ]
     },
     "metadata": {},
     "output_type": "display_data"
    },
    {
     "data": {
      "application/javascript": "\n        if (window._pyforest_update_imports_cell) { window._pyforest_update_imports_cell('from PIL import Image'); }\n    ",
      "text/plain": [
       "<IPython.core.display.Javascript object>"
      ]
     },
     "metadata": {},
     "output_type": "display_data"
    },
    {
     "data": {
      "application/javascript": "\n        if (window._pyforest_update_imports_cell) { window._pyforest_update_imports_cell('from PIL import Image'); }\n    ",
      "text/plain": [
       "<IPython.core.display.Javascript object>"
      ]
     },
     "metadata": {},
     "output_type": "display_data"
    },
    {
     "data": {
      "application/javascript": "\n        if (window._pyforest_update_imports_cell) { window._pyforest_update_imports_cell('from PIL import Image'); }\n    ",
      "text/plain": [
       "<IPython.core.display.Javascript object>"
      ]
     },
     "metadata": {},
     "output_type": "display_data"
    },
    {
     "data": {
      "application/javascript": "\n        if (window._pyforest_update_imports_cell) { window._pyforest_update_imports_cell('from PIL import Image'); }\n    ",
      "text/plain": [
       "<IPython.core.display.Javascript object>"
      ]
     },
     "metadata": {},
     "output_type": "display_data"
    },
    {
     "data": {
      "application/javascript": "\n        if (window._pyforest_update_imports_cell) { window._pyforest_update_imports_cell('from PIL import Image'); }\n    ",
      "text/plain": [
       "<IPython.core.display.Javascript object>"
      ]
     },
     "metadata": {},
     "output_type": "display_data"
    },
    {
     "data": {
      "application/javascript": "\n        if (window._pyforest_update_imports_cell) { window._pyforest_update_imports_cell('from PIL import Image'); }\n    ",
      "text/plain": [
       "<IPython.core.display.Javascript object>"
      ]
     },
     "metadata": {},
     "output_type": "display_data"
    },
    {
     "data": {
      "application/javascript": "\n        if (window._pyforest_update_imports_cell) { window._pyforest_update_imports_cell('from PIL import Image'); }\n    ",
      "text/plain": [
       "<IPython.core.display.Javascript object>"
      ]
     },
     "metadata": {},
     "output_type": "display_data"
    },
    {
     "data": {
      "application/javascript": "\n        if (window._pyforest_update_imports_cell) { window._pyforest_update_imports_cell('from PIL import Image'); }\n    ",
      "text/plain": [
       "<IPython.core.display.Javascript object>"
      ]
     },
     "metadata": {},
     "output_type": "display_data"
    },
    {
     "data": {
      "application/javascript": "\n        if (window._pyforest_update_imports_cell) { window._pyforest_update_imports_cell('from PIL import Image'); }\n    ",
      "text/plain": [
       "<IPython.core.display.Javascript object>"
      ]
     },
     "metadata": {},
     "output_type": "display_data"
    },
    {
     "data": {
      "application/javascript": "\n        if (window._pyforest_update_imports_cell) { window._pyforest_update_imports_cell('from PIL import Image'); }\n    ",
      "text/plain": [
       "<IPython.core.display.Javascript object>"
      ]
     },
     "metadata": {},
     "output_type": "display_data"
    },
    {
     "data": {
      "application/javascript": "\n        if (window._pyforest_update_imports_cell) { window._pyforest_update_imports_cell('from PIL import Image'); }\n    ",
      "text/plain": [
       "<IPython.core.display.Javascript object>"
      ]
     },
     "metadata": {},
     "output_type": "display_data"
    },
    {
     "data": {
      "application/javascript": "\n        if (window._pyforest_update_imports_cell) { window._pyforest_update_imports_cell('from PIL import Image'); }\n    ",
      "text/plain": [
       "<IPython.core.display.Javascript object>"
      ]
     },
     "metadata": {},
     "output_type": "display_data"
    },
    {
     "data": {
      "application/javascript": "\n        if (window._pyforest_update_imports_cell) { window._pyforest_update_imports_cell('from PIL import Image'); }\n    ",
      "text/plain": [
       "<IPython.core.display.Javascript object>"
      ]
     },
     "metadata": {},
     "output_type": "display_data"
    },
    {
     "data": {
      "application/javascript": "\n        if (window._pyforest_update_imports_cell) { window._pyforest_update_imports_cell('from PIL import Image'); }\n    ",
      "text/plain": [
       "<IPython.core.display.Javascript object>"
      ]
     },
     "metadata": {},
     "output_type": "display_data"
    },
    {
     "data": {
      "application/javascript": "\n        if (window._pyforest_update_imports_cell) { window._pyforest_update_imports_cell('from PIL import Image'); }\n    ",
      "text/plain": [
       "<IPython.core.display.Javascript object>"
      ]
     },
     "metadata": {},
     "output_type": "display_data"
    },
    {
     "data": {
      "application/javascript": "\n        if (window._pyforest_update_imports_cell) { window._pyforest_update_imports_cell('from PIL import Image'); }\n    ",
      "text/plain": [
       "<IPython.core.display.Javascript object>"
      ]
     },
     "metadata": {},
     "output_type": "display_data"
    },
    {
     "data": {
      "application/javascript": "\n        if (window._pyforest_update_imports_cell) { window._pyforest_update_imports_cell('from PIL import Image'); }\n    ",
      "text/plain": [
       "<IPython.core.display.Javascript object>"
      ]
     },
     "metadata": {},
     "output_type": "display_data"
    },
    {
     "data": {
      "application/javascript": "\n        if (window._pyforest_update_imports_cell) { window._pyforest_update_imports_cell('from PIL import Image'); }\n    ",
      "text/plain": [
       "<IPython.core.display.Javascript object>"
      ]
     },
     "metadata": {},
     "output_type": "display_data"
    },
    {
     "data": {
      "application/javascript": "\n        if (window._pyforest_update_imports_cell) { window._pyforest_update_imports_cell('from PIL import Image'); }\n    ",
      "text/plain": [
       "<IPython.core.display.Javascript object>"
      ]
     },
     "metadata": {},
     "output_type": "display_data"
    },
    {
     "data": {
      "application/javascript": "\n        if (window._pyforest_update_imports_cell) { window._pyforest_update_imports_cell('from PIL import Image'); }\n    ",
      "text/plain": [
       "<IPython.core.display.Javascript object>"
      ]
     },
     "metadata": {},
     "output_type": "display_data"
    },
    {
     "data": {
      "application/javascript": "\n        if (window._pyforest_update_imports_cell) { window._pyforest_update_imports_cell('from PIL import Image'); }\n    ",
      "text/plain": [
       "<IPython.core.display.Javascript object>"
      ]
     },
     "metadata": {},
     "output_type": "display_data"
    },
    {
     "data": {
      "application/javascript": "\n        if (window._pyforest_update_imports_cell) { window._pyforest_update_imports_cell('from PIL import Image'); }\n    ",
      "text/plain": [
       "<IPython.core.display.Javascript object>"
      ]
     },
     "metadata": {},
     "output_type": "display_data"
    },
    {
     "data": {
      "application/javascript": "\n        if (window._pyforest_update_imports_cell) { window._pyforest_update_imports_cell('from PIL import Image'); }\n    ",
      "text/plain": [
       "<IPython.core.display.Javascript object>"
      ]
     },
     "metadata": {},
     "output_type": "display_data"
    },
    {
     "data": {
      "application/javascript": "\n        if (window._pyforest_update_imports_cell) { window._pyforest_update_imports_cell('from PIL import Image'); }\n    ",
      "text/plain": [
       "<IPython.core.display.Javascript object>"
      ]
     },
     "metadata": {},
     "output_type": "display_data"
    },
    {
     "data": {
      "application/javascript": "\n        if (window._pyforest_update_imports_cell) { window._pyforest_update_imports_cell('from PIL import Image'); }\n    ",
      "text/plain": [
       "<IPython.core.display.Javascript object>"
      ]
     },
     "metadata": {},
     "output_type": "display_data"
    },
    {
     "data": {
      "application/javascript": "\n        if (window._pyforest_update_imports_cell) { window._pyforest_update_imports_cell('from PIL import Image'); }\n    ",
      "text/plain": [
       "<IPython.core.display.Javascript object>"
      ]
     },
     "metadata": {},
     "output_type": "display_data"
    },
    {
     "data": {
      "application/javascript": "\n        if (window._pyforest_update_imports_cell) { window._pyforest_update_imports_cell('from PIL import Image'); }\n    ",
      "text/plain": [
       "<IPython.core.display.Javascript object>"
      ]
     },
     "metadata": {},
     "output_type": "display_data"
    },
    {
     "data": {
      "application/javascript": "\n        if (window._pyforest_update_imports_cell) { window._pyforest_update_imports_cell('from PIL import Image'); }\n    ",
      "text/plain": [
       "<IPython.core.display.Javascript object>"
      ]
     },
     "metadata": {},
     "output_type": "display_data"
    },
    {
     "data": {
      "application/javascript": "\n        if (window._pyforest_update_imports_cell) { window._pyforest_update_imports_cell('from PIL import Image'); }\n    ",
      "text/plain": [
       "<IPython.core.display.Javascript object>"
      ]
     },
     "metadata": {},
     "output_type": "display_data"
    },
    {
     "data": {
      "application/javascript": "\n        if (window._pyforest_update_imports_cell) { window._pyforest_update_imports_cell('from PIL import Image'); }\n    ",
      "text/plain": [
       "<IPython.core.display.Javascript object>"
      ]
     },
     "metadata": {},
     "output_type": "display_data"
    },
    {
     "data": {
      "application/javascript": "\n        if (window._pyforest_update_imports_cell) { window._pyforest_update_imports_cell('from PIL import Image'); }\n    ",
      "text/plain": [
       "<IPython.core.display.Javascript object>"
      ]
     },
     "metadata": {},
     "output_type": "display_data"
    },
    {
     "data": {
      "application/javascript": "\n        if (window._pyforest_update_imports_cell) { window._pyforest_update_imports_cell('from PIL import Image'); }\n    ",
      "text/plain": [
       "<IPython.core.display.Javascript object>"
      ]
     },
     "metadata": {},
     "output_type": "display_data"
    },
    {
     "data": {
      "application/javascript": "\n        if (window._pyforest_update_imports_cell) { window._pyforest_update_imports_cell('from PIL import Image'); }\n    ",
      "text/plain": [
       "<IPython.core.display.Javascript object>"
      ]
     },
     "metadata": {},
     "output_type": "display_data"
    },
    {
     "data": {
      "application/javascript": "\n        if (window._pyforest_update_imports_cell) { window._pyforest_update_imports_cell('from PIL import Image'); }\n    ",
      "text/plain": [
       "<IPython.core.display.Javascript object>"
      ]
     },
     "metadata": {},
     "output_type": "display_data"
    },
    {
     "data": {
      "application/javascript": "\n        if (window._pyforest_update_imports_cell) { window._pyforest_update_imports_cell('from PIL import Image'); }\n    ",
      "text/plain": [
       "<IPython.core.display.Javascript object>"
      ]
     },
     "metadata": {},
     "output_type": "display_data"
    },
    {
     "data": {
      "application/javascript": "\n        if (window._pyforest_update_imports_cell) { window._pyforest_update_imports_cell('from PIL import Image'); }\n    ",
      "text/plain": [
       "<IPython.core.display.Javascript object>"
      ]
     },
     "metadata": {},
     "output_type": "display_data"
    },
    {
     "data": {
      "application/javascript": "\n        if (window._pyforest_update_imports_cell) { window._pyforest_update_imports_cell('from PIL import Image'); }\n    ",
      "text/plain": [
       "<IPython.core.display.Javascript object>"
      ]
     },
     "metadata": {},
     "output_type": "display_data"
    },
    {
     "data": {
      "application/javascript": "\n        if (window._pyforest_update_imports_cell) { window._pyforest_update_imports_cell('from PIL import Image'); }\n    ",
      "text/plain": [
       "<IPython.core.display.Javascript object>"
      ]
     },
     "metadata": {},
     "output_type": "display_data"
    },
    {
     "data": {
      "application/javascript": "\n        if (window._pyforest_update_imports_cell) { window._pyforest_update_imports_cell('from PIL import Image'); }\n    ",
      "text/plain": [
       "<IPython.core.display.Javascript object>"
      ]
     },
     "metadata": {},
     "output_type": "display_data"
    },
    {
     "data": {
      "application/javascript": "\n        if (window._pyforest_update_imports_cell) { window._pyforest_update_imports_cell('from PIL import Image'); }\n    ",
      "text/plain": [
       "<IPython.core.display.Javascript object>"
      ]
     },
     "metadata": {},
     "output_type": "display_data"
    },
    {
     "data": {
      "application/javascript": "\n        if (window._pyforest_update_imports_cell) { window._pyforest_update_imports_cell('from PIL import Image'); }\n    ",
      "text/plain": [
       "<IPython.core.display.Javascript object>"
      ]
     },
     "metadata": {},
     "output_type": "display_data"
    },
    {
     "data": {
      "application/javascript": "\n        if (window._pyforest_update_imports_cell) { window._pyforest_update_imports_cell('from PIL import Image'); }\n    ",
      "text/plain": [
       "<IPython.core.display.Javascript object>"
      ]
     },
     "metadata": {},
     "output_type": "display_data"
    },
    {
     "data": {
      "application/javascript": "\n        if (window._pyforest_update_imports_cell) { window._pyforest_update_imports_cell('from PIL import Image'); }\n    ",
      "text/plain": [
       "<IPython.core.display.Javascript object>"
      ]
     },
     "metadata": {},
     "output_type": "display_data"
    },
    {
     "data": {
      "application/javascript": "\n        if (window._pyforest_update_imports_cell) { window._pyforest_update_imports_cell('from PIL import Image'); }\n    ",
      "text/plain": [
       "<IPython.core.display.Javascript object>"
      ]
     },
     "metadata": {},
     "output_type": "display_data"
    },
    {
     "data": {
      "application/javascript": "\n        if (window._pyforest_update_imports_cell) { window._pyforest_update_imports_cell('from PIL import Image'); }\n    ",
      "text/plain": [
       "<IPython.core.display.Javascript object>"
      ]
     },
     "metadata": {},
     "output_type": "display_data"
    },
    {
     "name": "stdout",
     "output_type": "stream",
     "text": [
      "MoviePy - Writing audio in /home/kurubal/Documents/Modern Ways/Project/Turkish/Image Audio Video/Result/200 Words/Twogram_Threegram/Threegram_Twogram_Selected/Data/Text_MP3/benimle.mp3\n"
     ]
    },
    {
     "name": "stderr",
     "output_type": "stream",
     "text": [
      "                                                       "
     ]
    },
    {
     "name": "stdout",
     "output_type": "stream",
     "text": [
      "MoviePy - Done.\n"
     ]
    },
    {
     "name": "stderr",
     "output_type": "stream",
     "text": [
      "\r"
     ]
    },
    {
     "name": "stdout",
     "output_type": "stream",
     "text": [
      "MoviePy - Writing audio in /home/kurubal/Documents/Modern Ways/Project/Turkish/Image Audio Video/Result/200 Words/Twogram_Threegram/Threegram_Twogram_Selected/Data/Text_MP3/geliyor.mp3\n"
     ]
    },
    {
     "name": "stderr",
     "output_type": "stream",
     "text": [
      "                                                       "
     ]
    },
    {
     "name": "stdout",
     "output_type": "stream",
     "text": [
      "MoviePy - Done.\n"
     ]
    },
    {
     "name": "stderr",
     "output_type": "stream",
     "text": [
      "\r"
     ]
    },
    {
     "name": "stdout",
     "output_type": "stream",
     "text": [
      "MoviePy - Writing audio in /home/kurubal/Documents/Modern Ways/Project/Turkish/Image Audio Video/Result/200 Words/Twogram_Threegram/Threegram_Twogram_Selected/Data/Text_MP3/musun.mp3\n"
     ]
    },
    {
     "name": "stderr",
     "output_type": "stream",
     "text": [
      "                                                       "
     ]
    },
    {
     "name": "stdout",
     "output_type": "stream",
     "text": [
      "MoviePy - Done.\n"
     ]
    },
    {
     "name": "stderr",
     "output_type": "stream",
     "text": [
      "\r"
     ]
    },
    {
     "name": "stdout",
     "output_type": "stream",
     "text": [
      "Moviepy - Building video /home/kurubal/Documents/Modern Ways/Project/Turkish/Image Audio Video/Result/200 Words/Twogram_Threegram/Threegram_Twogram_Selected/Result/Image_Video_Audio/benimle.mp4.\n",
      "MoviePy - Writing audio in benimleTEMP_MPY_wvf_snd.mp4\n"
     ]
    },
    {
     "name": "stderr",
     "output_type": "stream",
     "text": [
      "                                                       \r"
     ]
    },
    {
     "name": "stdout",
     "output_type": "stream",
     "text": [
      "MoviePy - Done.\n",
      "Moviepy - Writing video /home/kurubal/Documents/Modern Ways/Project/Turkish/Image Audio Video/Result/200 Words/Twogram_Threegram/Threegram_Twogram_Selected/Result/Image_Video_Audio/benimle.mp4\n",
      "\n"
     ]
    },
    {
     "name": "stderr",
     "output_type": "stream",
     "text": [
      "                                                  \r"
     ]
    },
    {
     "name": "stdout",
     "output_type": "stream",
     "text": [
      "Moviepy - Done !\n",
      "Moviepy - video ready /home/kurubal/Documents/Modern Ways/Project/Turkish/Image Audio Video/Result/200 Words/Twogram_Threegram/Threegram_Twogram_Selected/Result/Image_Video_Audio/benimle.mp4\n",
      "Moviepy - Building video /home/kurubal/Documents/Modern Ways/Project/Turkish/Image Audio Video/Result/200 Words/Twogram_Threegram/Threegram_Twogram_Selected/Result/Image_Video_Audio/geliyor.mp4.\n",
      "MoviePy - Writing audio in geliyorTEMP_MPY_wvf_snd.mp4\n"
     ]
    },
    {
     "name": "stderr",
     "output_type": "stream",
     "text": [
      "                                                       \r"
     ]
    },
    {
     "name": "stdout",
     "output_type": "stream",
     "text": [
      "MoviePy - Done.\n",
      "Moviepy - Writing video /home/kurubal/Documents/Modern Ways/Project/Turkish/Image Audio Video/Result/200 Words/Twogram_Threegram/Threegram_Twogram_Selected/Result/Image_Video_Audio/geliyor.mp4\n",
      "\n"
     ]
    },
    {
     "name": "stderr",
     "output_type": "stream",
     "text": [
      "                                                  \r"
     ]
    },
    {
     "name": "stdout",
     "output_type": "stream",
     "text": [
      "Moviepy - Done !\n",
      "Moviepy - video ready /home/kurubal/Documents/Modern Ways/Project/Turkish/Image Audio Video/Result/200 Words/Twogram_Threegram/Threegram_Twogram_Selected/Result/Image_Video_Audio/geliyor.mp4\n",
      "Moviepy - Building video /home/kurubal/Documents/Modern Ways/Project/Turkish/Image Audio Video/Result/200 Words/Twogram_Threegram/Threegram_Twogram_Selected/Result/Image_Video_Audio/musun.mp4.\n",
      "MoviePy - Writing audio in musunTEMP_MPY_wvf_snd.mp4\n"
     ]
    },
    {
     "name": "stderr",
     "output_type": "stream",
     "text": [
      "                                                       \r"
     ]
    },
    {
     "name": "stdout",
     "output_type": "stream",
     "text": [
      "MoviePy - Done.\n",
      "Moviepy - Writing video /home/kurubal/Documents/Modern Ways/Project/Turkish/Image Audio Video/Result/200 Words/Twogram_Threegram/Threegram_Twogram_Selected/Result/Image_Video_Audio/musun.mp4\n",
      "\n"
     ]
    },
    {
     "name": "stderr",
     "output_type": "stream",
     "text": [
      "                                                  "
     ]
    },
    {
     "name": "stdout",
     "output_type": "stream",
     "text": [
      "Moviepy - Done !\n",
      "Moviepy - video ready /home/kurubal/Documents/Modern Ways/Project/Turkish/Image Audio Video/Result/200 Words/Twogram_Threegram/Threegram_Twogram_Selected/Result/Image_Video_Audio/musun.mp4\n"
     ]
    },
    {
     "name": "stderr",
     "output_type": "stream",
     "text": [
      "\r"
     ]
    },
    {
     "name": "stdout",
     "output_type": "stream",
     "text": [
      "MoviePy - Writing audio in /home/kurubal/Documents/Modern Ways/Project/Turkish/Image Audio Video/Result/200 Words/Twogram_Threegram/Threegram_Twogram_Selected/Data/Text_MP3/benimle geliyor musun.mp3\n"
     ]
    },
    {
     "name": "stderr",
     "output_type": "stream",
     "text": [
      "                                                       \r"
     ]
    },
    {
     "name": "stdout",
     "output_type": "stream",
     "text": [
      "MoviePy - Done.\n",
      "Moviepy - Building video /home/kurubal/Documents/Modern Ways/Project/Turkish/Image Audio Video/Result/200 Words/Twogram_Threegram/Threegram_Twogram_Selected/Result/Image_Video_Audio/benimle geliyor musun.mp4.\n",
      "MoviePy - Writing audio in benimle geliyor musunTEMP_MPY_wvf_snd.mp4\n"
     ]
    },
    {
     "name": "stderr",
     "output_type": "stream",
     "text": [
      "                                                       \r"
     ]
    },
    {
     "name": "stdout",
     "output_type": "stream",
     "text": [
      "MoviePy - Done.\n",
      "Moviepy - Writing video /home/kurubal/Documents/Modern Ways/Project/Turkish/Image Audio Video/Result/200 Words/Twogram_Threegram/Threegram_Twogram_Selected/Result/Image_Video_Audio/benimle geliyor musun.mp4\n",
      "\n"
     ]
    },
    {
     "name": "stderr",
     "output_type": "stream",
     "text": [
      "                                                  \r"
     ]
    },
    {
     "name": "stdout",
     "output_type": "stream",
     "text": [
      "Moviepy - Done !\n",
      "Moviepy - video ready /home/kurubal/Documents/Modern Ways/Project/Turkish/Image Audio Video/Result/200 Words/Twogram_Threegram/Threegram_Twogram_Selected/Result/Image_Video_Audio/benimle geliyor musun.mp4\n",
      "Moviepy - Building video /home/kurubal/Documents/Modern Ways/Project/Turkish/Image Audio Video/Result/200 Words/Twogram_Threegram/Threegram_Twogram_Selected/Result/Concat_Video/benimle geliyor musun.mp4.\n",
      "MoviePy - Writing audio in benimle geliyor musunTEMP_MPY_wvf_snd.mp4\n"
     ]
    },
    {
     "name": "stderr",
     "output_type": "stream",
     "text": [
      "                                                                    \r"
     ]
    },
    {
     "name": "stdout",
     "output_type": "stream",
     "text": [
      "MoviePy - Done.\n",
      "Moviepy - Writing video /home/kurubal/Documents/Modern Ways/Project/Turkish/Image Audio Video/Result/200 Words/Twogram_Threegram/Threegram_Twogram_Selected/Result/Concat_Video/benimle geliyor musun.mp4\n",
      "\n"
     ]
    },
    {
     "name": "stderr",
     "output_type": "stream",
     "text": [
      "                                                           \r"
     ]
    },
    {
     "name": "stdout",
     "output_type": "stream",
     "text": [
      "Moviepy - Done !\n",
      "Moviepy - video ready /home/kurubal/Documents/Modern Ways/Project/Turkish/Image Audio Video/Result/200 Words/Twogram_Threegram/Threegram_Twogram_Selected/Result/Concat_Video/benimle geliyor musun.mp4\n"
     ]
    },
    {
     "data": {
      "application/javascript": "\n        if (window._pyforest_update_imports_cell) { window._pyforest_update_imports_cell('from PIL import Image'); }\n    ",
      "text/plain": [
       "<IPython.core.display.Javascript object>"
      ]
     },
     "metadata": {},
     "output_type": "display_data"
    },
    {
     "data": {
      "application/javascript": "\n        if (window._pyforest_update_imports_cell) { window._pyforest_update_imports_cell('from PIL import Image'); }\n    ",
      "text/plain": [
       "<IPython.core.display.Javascript object>"
      ]
     },
     "metadata": {},
     "output_type": "display_data"
    },
    {
     "data": {
      "application/javascript": "\n        if (window._pyforest_update_imports_cell) { window._pyforest_update_imports_cell('from PIL import Image'); }\n    ",
      "text/plain": [
       "<IPython.core.display.Javascript object>"
      ]
     },
     "metadata": {},
     "output_type": "display_data"
    },
    {
     "data": {
      "application/javascript": "\n        if (window._pyforest_update_imports_cell) { window._pyforest_update_imports_cell('from PIL import Image'); }\n    ",
      "text/plain": [
       "<IPython.core.display.Javascript object>"
      ]
     },
     "metadata": {},
     "output_type": "display_data"
    },
    {
     "data": {
      "application/javascript": "\n        if (window._pyforest_update_imports_cell) { window._pyforest_update_imports_cell('from PIL import Image'); }\n    ",
      "text/plain": [
       "<IPython.core.display.Javascript object>"
      ]
     },
     "metadata": {},
     "output_type": "display_data"
    },
    {
     "data": {
      "application/javascript": "\n        if (window._pyforest_update_imports_cell) { window._pyforest_update_imports_cell('from PIL import Image'); }\n    ",
      "text/plain": [
       "<IPython.core.display.Javascript object>"
      ]
     },
     "metadata": {},
     "output_type": "display_data"
    },
    {
     "name": "stdout",
     "output_type": "stream",
     "text": [
      "MoviePy - Writing audio in /home/kurubal/Documents/Modern Ways/Project/Turkish/Image Audio Video/Result/200 Words/Twogram_Threegram/Threegram_Twogram_Selected/Data/Text_MP3/bana.mp3\n"
     ]
    },
    {
     "name": "stderr",
     "output_type": "stream",
     "text": [
      "                                                       "
     ]
    },
    {
     "name": "stdout",
     "output_type": "stream",
     "text": [
      "MoviePy - Done.\n"
     ]
    },
    {
     "name": "stderr",
     "output_type": "stream",
     "text": [
      "\r"
     ]
    },
    {
     "name": "stdout",
     "output_type": "stream",
     "text": [
      "MoviePy - Writing audio in /home/kurubal/Documents/Modern Ways/Project/Turkish/Image Audio Video/Result/200 Words/Twogram_Threegram/Threegram_Twogram_Selected/Data/Text_MP3/yardım.mp3\n"
     ]
    },
    {
     "name": "stderr",
     "output_type": "stream",
     "text": [
      "                                                       "
     ]
    },
    {
     "name": "stdout",
     "output_type": "stream",
     "text": [
      "MoviePy - Done.\n"
     ]
    },
    {
     "name": "stderr",
     "output_type": "stream",
     "text": [
      "\r"
     ]
    },
    {
     "name": "stdout",
     "output_type": "stream",
     "text": [
      "MoviePy - Writing audio in /home/kurubal/Documents/Modern Ways/Project/Turkish/Image Audio Video/Result/200 Words/Twogram_Threegram/Threegram_Twogram_Selected/Data/Text_MP3/et.mp3\n"
     ]
    },
    {
     "name": "stderr",
     "output_type": "stream",
     "text": [
      "                                                       "
     ]
    },
    {
     "name": "stdout",
     "output_type": "stream",
     "text": [
      "MoviePy - Done.\n"
     ]
    },
    {
     "name": "stderr",
     "output_type": "stream",
     "text": [
      "\r"
     ]
    },
    {
     "name": "stdout",
     "output_type": "stream",
     "text": [
      "Moviepy - Building video /home/kurubal/Documents/Modern Ways/Project/Turkish/Image Audio Video/Result/200 Words/Twogram_Threegram/Threegram_Twogram_Selected/Result/Image_Video_Audio/bana.mp4.\n",
      "MoviePy - Writing audio in banaTEMP_MPY_wvf_snd.mp4\n"
     ]
    },
    {
     "name": "stderr",
     "output_type": "stream",
     "text": [
      "                                                       \r"
     ]
    },
    {
     "name": "stdout",
     "output_type": "stream",
     "text": [
      "MoviePy - Done.\n",
      "Moviepy - Writing video /home/kurubal/Documents/Modern Ways/Project/Turkish/Image Audio Video/Result/200 Words/Twogram_Threegram/Threegram_Twogram_Selected/Result/Image_Video_Audio/bana.mp4\n",
      "\n"
     ]
    },
    {
     "name": "stderr",
     "output_type": "stream",
     "text": [
      "                                                  "
     ]
    },
    {
     "name": "stdout",
     "output_type": "stream",
     "text": [
      "Moviepy - Done !\n",
      "Moviepy - video ready /home/kurubal/Documents/Modern Ways/Project/Turkish/Image Audio Video/Result/200 Words/Twogram_Threegram/Threegram_Twogram_Selected/Result/Image_Video_Audio/bana.mp4\n"
     ]
    },
    {
     "name": "stderr",
     "output_type": "stream",
     "text": [
      "\r"
     ]
    },
    {
     "name": "stdout",
     "output_type": "stream",
     "text": [
      "Moviepy - Building video /home/kurubal/Documents/Modern Ways/Project/Turkish/Image Audio Video/Result/200 Words/Twogram_Threegram/Threegram_Twogram_Selected/Result/Image_Video_Audio/yardım.mp4.\n",
      "MoviePy - Writing audio in yardımTEMP_MPY_wvf_snd.mp4\n"
     ]
    },
    {
     "name": "stderr",
     "output_type": "stream",
     "text": [
      "                                                       \r"
     ]
    },
    {
     "name": "stdout",
     "output_type": "stream",
     "text": [
      "MoviePy - Done.\n",
      "Moviepy - Writing video /home/kurubal/Documents/Modern Ways/Project/Turkish/Image Audio Video/Result/200 Words/Twogram_Threegram/Threegram_Twogram_Selected/Result/Image_Video_Audio/yardım.mp4\n",
      "\n"
     ]
    },
    {
     "name": "stderr",
     "output_type": "stream",
     "text": [
      "                                                  "
     ]
    },
    {
     "name": "stdout",
     "output_type": "stream",
     "text": [
      "Moviepy - Done !\n",
      "Moviepy - video ready /home/kurubal/Documents/Modern Ways/Project/Turkish/Image Audio Video/Result/200 Words/Twogram_Threegram/Threegram_Twogram_Selected/Result/Image_Video_Audio/yardım.mp4\n"
     ]
    },
    {
     "name": "stderr",
     "output_type": "stream",
     "text": [
      "\r"
     ]
    },
    {
     "name": "stdout",
     "output_type": "stream",
     "text": [
      "Moviepy - Building video /home/kurubal/Documents/Modern Ways/Project/Turkish/Image Audio Video/Result/200 Words/Twogram_Threegram/Threegram_Twogram_Selected/Result/Image_Video_Audio/et.mp4.\n",
      "MoviePy - Writing audio in etTEMP_MPY_wvf_snd.mp4\n"
     ]
    },
    {
     "name": "stderr",
     "output_type": "stream",
     "text": [
      "                                                       \r"
     ]
    },
    {
     "name": "stdout",
     "output_type": "stream",
     "text": [
      "MoviePy - Done.\n",
      "Moviepy - Writing video /home/kurubal/Documents/Modern Ways/Project/Turkish/Image Audio Video/Result/200 Words/Twogram_Threegram/Threegram_Twogram_Selected/Result/Image_Video_Audio/et.mp4\n",
      "\n"
     ]
    },
    {
     "name": "stderr",
     "output_type": "stream",
     "text": [
      "                                                  "
     ]
    },
    {
     "name": "stdout",
     "output_type": "stream",
     "text": [
      "Moviepy - Done !\n",
      "Moviepy - video ready /home/kurubal/Documents/Modern Ways/Project/Turkish/Image Audio Video/Result/200 Words/Twogram_Threegram/Threegram_Twogram_Selected/Result/Image_Video_Audio/et.mp4\n"
     ]
    },
    {
     "name": "stderr",
     "output_type": "stream",
     "text": [
      "\r"
     ]
    },
    {
     "name": "stdout",
     "output_type": "stream",
     "text": [
      "MoviePy - Writing audio in /home/kurubal/Documents/Modern Ways/Project/Turkish/Image Audio Video/Result/200 Words/Twogram_Threegram/Threegram_Twogram_Selected/Data/Text_MP3/bana yardım et.mp3\n"
     ]
    },
    {
     "name": "stderr",
     "output_type": "stream",
     "text": [
      "                                                       \r"
     ]
    },
    {
     "name": "stdout",
     "output_type": "stream",
     "text": [
      "MoviePy - Done.\n",
      "Moviepy - Building video /home/kurubal/Documents/Modern Ways/Project/Turkish/Image Audio Video/Result/200 Words/Twogram_Threegram/Threegram_Twogram_Selected/Result/Image_Video_Audio/bana yardım et.mp4.\n",
      "MoviePy - Writing audio in bana yardım etTEMP_MPY_wvf_snd.mp4\n"
     ]
    },
    {
     "name": "stderr",
     "output_type": "stream",
     "text": [
      "                                                       \r"
     ]
    },
    {
     "name": "stdout",
     "output_type": "stream",
     "text": [
      "MoviePy - Done.\n",
      "Moviepy - Writing video /home/kurubal/Documents/Modern Ways/Project/Turkish/Image Audio Video/Result/200 Words/Twogram_Threegram/Threegram_Twogram_Selected/Result/Image_Video_Audio/bana yardım et.mp4\n",
      "\n"
     ]
    },
    {
     "name": "stderr",
     "output_type": "stream",
     "text": [
      "                                                  \r"
     ]
    },
    {
     "name": "stdout",
     "output_type": "stream",
     "text": [
      "Moviepy - Done !\n",
      "Moviepy - video ready /home/kurubal/Documents/Modern Ways/Project/Turkish/Image Audio Video/Result/200 Words/Twogram_Threegram/Threegram_Twogram_Selected/Result/Image_Video_Audio/bana yardım et.mp4\n",
      "Moviepy - Building video /home/kurubal/Documents/Modern Ways/Project/Turkish/Image Audio Video/Result/200 Words/Twogram_Threegram/Threegram_Twogram_Selected/Result/Concat_Video/bana yardım et.mp4.\n",
      "MoviePy - Writing audio in bana yardım etTEMP_MPY_wvf_snd.mp4\n"
     ]
    },
    {
     "name": "stderr",
     "output_type": "stream",
     "text": [
      "                                                                    \r"
     ]
    },
    {
     "name": "stdout",
     "output_type": "stream",
     "text": [
      "MoviePy - Done.\n",
      "Moviepy - Writing video /home/kurubal/Documents/Modern Ways/Project/Turkish/Image Audio Video/Result/200 Words/Twogram_Threegram/Threegram_Twogram_Selected/Result/Concat_Video/bana yardım et.mp4\n",
      "\n"
     ]
    },
    {
     "name": "stderr",
     "output_type": "stream",
     "text": [
      "                                                           \r"
     ]
    },
    {
     "name": "stdout",
     "output_type": "stream",
     "text": [
      "Moviepy - Done !\n",
      "Moviepy - video ready /home/kurubal/Documents/Modern Ways/Project/Turkish/Image Audio Video/Result/200 Words/Twogram_Threegram/Threegram_Twogram_Selected/Result/Concat_Video/bana yardım et.mp4\n"
     ]
    },
    {
     "data": {
      "application/javascript": "\n        if (window._pyforest_update_imports_cell) { window._pyforest_update_imports_cell('from PIL import Image'); }\n    ",
      "text/plain": [
       "<IPython.core.display.Javascript object>"
      ]
     },
     "metadata": {},
     "output_type": "display_data"
    },
    {
     "data": {
      "application/javascript": "\n        if (window._pyforest_update_imports_cell) { window._pyforest_update_imports_cell('from PIL import Image'); }\n    ",
      "text/plain": [
       "<IPython.core.display.Javascript object>"
      ]
     },
     "metadata": {},
     "output_type": "display_data"
    },
    {
     "data": {
      "application/javascript": "\n        if (window._pyforest_update_imports_cell) { window._pyforest_update_imports_cell('from PIL import Image'); }\n    ",
      "text/plain": [
       "<IPython.core.display.Javascript object>"
      ]
     },
     "metadata": {},
     "output_type": "display_data"
    },
    {
     "data": {
      "application/javascript": "\n        if (window._pyforest_update_imports_cell) { window._pyforest_update_imports_cell('from PIL import Image'); }\n    ",
      "text/plain": [
       "<IPython.core.display.Javascript object>"
      ]
     },
     "metadata": {},
     "output_type": "display_data"
    },
    {
     "data": {
      "application/javascript": "\n        if (window._pyforest_update_imports_cell) { window._pyforest_update_imports_cell('from PIL import Image'); }\n    ",
      "text/plain": [
       "<IPython.core.display.Javascript object>"
      ]
     },
     "metadata": {},
     "output_type": "display_data"
    },
    {
     "data": {
      "application/javascript": "\n        if (window._pyforest_update_imports_cell) { window._pyforest_update_imports_cell('from PIL import Image'); }\n    ",
      "text/plain": [
       "<IPython.core.display.Javascript object>"
      ]
     },
     "metadata": {},
     "output_type": "display_data"
    },
    {
     "name": "stdout",
     "output_type": "stream",
     "text": [
      "MoviePy - Writing audio in /home/kurubal/Documents/Modern Ways/Project/Turkish/Image Audio Video/Result/200 Words/Twogram_Threegram/Threegram_Twogram_Selected/Data/Text_MP3/sadece.mp3\n"
     ]
    },
    {
     "name": "stderr",
     "output_type": "stream",
     "text": [
      "                                                       "
     ]
    },
    {
     "name": "stdout",
     "output_type": "stream",
     "text": [
      "MoviePy - Done.\n"
     ]
    },
    {
     "name": "stderr",
     "output_type": "stream",
     "text": [
      "\r"
     ]
    },
    {
     "name": "stdout",
     "output_type": "stream",
     "text": [
      "MoviePy - Writing audio in /home/kurubal/Documents/Modern Ways/Project/Turkish/Image Audio Video/Result/200 Words/Twogram_Threegram/Threegram_Twogram_Selected/Data/Text_MP3/birkaç.mp3\n"
     ]
    },
    {
     "name": "stderr",
     "output_type": "stream",
     "text": [
      "                                                       "
     ]
    },
    {
     "name": "stdout",
     "output_type": "stream",
     "text": [
      "MoviePy - Done.\n"
     ]
    },
    {
     "name": "stderr",
     "output_type": "stream",
     "text": [
      "\r"
     ]
    },
    {
     "name": "stdout",
     "output_type": "stream",
     "text": [
      "MoviePy - Writing audio in /home/kurubal/Documents/Modern Ways/Project/Turkish/Image Audio Video/Result/200 Words/Twogram_Threegram/Threegram_Twogram_Selected/Data/Text_MP3/dakika.mp3\n"
     ]
    },
    {
     "name": "stderr",
     "output_type": "stream",
     "text": [
      "                                                       "
     ]
    },
    {
     "name": "stdout",
     "output_type": "stream",
     "text": [
      "MoviePy - Done.\n"
     ]
    },
    {
     "name": "stderr",
     "output_type": "stream",
     "text": [
      "\r"
     ]
    },
    {
     "name": "stdout",
     "output_type": "stream",
     "text": [
      "Moviepy - Building video /home/kurubal/Documents/Modern Ways/Project/Turkish/Image Audio Video/Result/200 Words/Twogram_Threegram/Threegram_Twogram_Selected/Result/Image_Video_Audio/sadece.mp4.\n",
      "MoviePy - Writing audio in sadeceTEMP_MPY_wvf_snd.mp4\n"
     ]
    },
    {
     "name": "stderr",
     "output_type": "stream",
     "text": [
      "                                                       \r"
     ]
    },
    {
     "name": "stdout",
     "output_type": "stream",
     "text": [
      "MoviePy - Done.\n",
      "Moviepy - Writing video /home/kurubal/Documents/Modern Ways/Project/Turkish/Image Audio Video/Result/200 Words/Twogram_Threegram/Threegram_Twogram_Selected/Result/Image_Video_Audio/sadece.mp4\n",
      "\n"
     ]
    },
    {
     "name": "stderr",
     "output_type": "stream",
     "text": [
      "                                                  "
     ]
    },
    {
     "name": "stdout",
     "output_type": "stream",
     "text": [
      "Moviepy - Done !\n",
      "Moviepy - video ready /home/kurubal/Documents/Modern Ways/Project/Turkish/Image Audio Video/Result/200 Words/Twogram_Threegram/Threegram_Twogram_Selected/Result/Image_Video_Audio/sadece.mp4\n"
     ]
    },
    {
     "name": "stderr",
     "output_type": "stream",
     "text": [
      "\r"
     ]
    },
    {
     "name": "stdout",
     "output_type": "stream",
     "text": [
      "Moviepy - Building video /home/kurubal/Documents/Modern Ways/Project/Turkish/Image Audio Video/Result/200 Words/Twogram_Threegram/Threegram_Twogram_Selected/Result/Image_Video_Audio/birkaç.mp4.\n",
      "MoviePy - Writing audio in birkaçTEMP_MPY_wvf_snd.mp4\n"
     ]
    },
    {
     "name": "stderr",
     "output_type": "stream",
     "text": [
      "                                                       \r"
     ]
    },
    {
     "name": "stdout",
     "output_type": "stream",
     "text": [
      "MoviePy - Done.\n",
      "Moviepy - Writing video /home/kurubal/Documents/Modern Ways/Project/Turkish/Image Audio Video/Result/200 Words/Twogram_Threegram/Threegram_Twogram_Selected/Result/Image_Video_Audio/birkaç.mp4\n",
      "\n"
     ]
    },
    {
     "name": "stderr",
     "output_type": "stream",
     "text": [
      "                                                  \r"
     ]
    },
    {
     "name": "stdout",
     "output_type": "stream",
     "text": [
      "Moviepy - Done !\n",
      "Moviepy - video ready /home/kurubal/Documents/Modern Ways/Project/Turkish/Image Audio Video/Result/200 Words/Twogram_Threegram/Threegram_Twogram_Selected/Result/Image_Video_Audio/birkaç.mp4\n",
      "Moviepy - Building video /home/kurubal/Documents/Modern Ways/Project/Turkish/Image Audio Video/Result/200 Words/Twogram_Threegram/Threegram_Twogram_Selected/Result/Image_Video_Audio/dakika.mp4.\n",
      "MoviePy - Writing audio in dakikaTEMP_MPY_wvf_snd.mp4\n"
     ]
    },
    {
     "name": "stderr",
     "output_type": "stream",
     "text": [
      "                                                       \r"
     ]
    },
    {
     "name": "stdout",
     "output_type": "stream",
     "text": [
      "MoviePy - Done.\n",
      "Moviepy - Writing video /home/kurubal/Documents/Modern Ways/Project/Turkish/Image Audio Video/Result/200 Words/Twogram_Threegram/Threegram_Twogram_Selected/Result/Image_Video_Audio/dakika.mp4\n",
      "\n"
     ]
    },
    {
     "name": "stderr",
     "output_type": "stream",
     "text": [
      "                                                  "
     ]
    },
    {
     "name": "stdout",
     "output_type": "stream",
     "text": [
      "Moviepy - Done !\n",
      "Moviepy - video ready /home/kurubal/Documents/Modern Ways/Project/Turkish/Image Audio Video/Result/200 Words/Twogram_Threegram/Threegram_Twogram_Selected/Result/Image_Video_Audio/dakika.mp4\n"
     ]
    },
    {
     "name": "stderr",
     "output_type": "stream",
     "text": [
      "\r"
     ]
    },
    {
     "name": "stdout",
     "output_type": "stream",
     "text": [
      "MoviePy - Writing audio in /home/kurubal/Documents/Modern Ways/Project/Turkish/Image Audio Video/Result/200 Words/Twogram_Threegram/Threegram_Twogram_Selected/Data/Text_MP3/sadece birkaç dakika.mp3\n"
     ]
    },
    {
     "name": "stderr",
     "output_type": "stream",
     "text": [
      "                                                       \r"
     ]
    },
    {
     "name": "stdout",
     "output_type": "stream",
     "text": [
      "MoviePy - Done.\n",
      "Moviepy - Building video /home/kurubal/Documents/Modern Ways/Project/Turkish/Image Audio Video/Result/200 Words/Twogram_Threegram/Threegram_Twogram_Selected/Result/Image_Video_Audio/sadece birkaç dakika.mp4.\n",
      "MoviePy - Writing audio in sadece birkaç dakikaTEMP_MPY_wvf_snd.mp4\n"
     ]
    },
    {
     "name": "stderr",
     "output_type": "stream",
     "text": [
      "                                                       \r"
     ]
    },
    {
     "name": "stdout",
     "output_type": "stream",
     "text": [
      "MoviePy - Done.\n",
      "Moviepy - Writing video /home/kurubal/Documents/Modern Ways/Project/Turkish/Image Audio Video/Result/200 Words/Twogram_Threegram/Threegram_Twogram_Selected/Result/Image_Video_Audio/sadece birkaç dakika.mp4\n",
      "\n"
     ]
    },
    {
     "name": "stderr",
     "output_type": "stream",
     "text": [
      "                                                  \r"
     ]
    },
    {
     "name": "stdout",
     "output_type": "stream",
     "text": [
      "Moviepy - Done !\n",
      "Moviepy - video ready /home/kurubal/Documents/Modern Ways/Project/Turkish/Image Audio Video/Result/200 Words/Twogram_Threegram/Threegram_Twogram_Selected/Result/Image_Video_Audio/sadece birkaç dakika.mp4\n",
      "Moviepy - Building video /home/kurubal/Documents/Modern Ways/Project/Turkish/Image Audio Video/Result/200 Words/Twogram_Threegram/Threegram_Twogram_Selected/Result/Concat_Video/sadece birkaç dakika.mp4.\n",
      "MoviePy - Writing audio in sadece birkaç dakikaTEMP_MPY_wvf_snd.mp4\n"
     ]
    },
    {
     "name": "stderr",
     "output_type": "stream",
     "text": [
      "                                                                    "
     ]
    },
    {
     "name": "stdout",
     "output_type": "stream",
     "text": [
      "MoviePy - Done.\n",
      "Moviepy - Writing video /home/kurubal/Documents/Modern Ways/Project/Turkish/Image Audio Video/Result/200 Words/Twogram_Threegram/Threegram_Twogram_Selected/Result/Concat_Video/sadece birkaç dakika.mp4\n",
      "\n"
     ]
    },
    {
     "name": "stderr",
     "output_type": "stream",
     "text": [
      "                                                           \r"
     ]
    },
    {
     "name": "stdout",
     "output_type": "stream",
     "text": [
      "Moviepy - Done !\n",
      "Moviepy - video ready /home/kurubal/Documents/Modern Ways/Project/Turkish/Image Audio Video/Result/200 Words/Twogram_Threegram/Threegram_Twogram_Selected/Result/Concat_Video/sadece birkaç dakika.mp4\n"
     ]
    },
    {
     "data": {
      "application/javascript": "\n        if (window._pyforest_update_imports_cell) { window._pyforest_update_imports_cell('from PIL import Image'); }\n    ",
      "text/plain": [
       "<IPython.core.display.Javascript object>"
      ]
     },
     "metadata": {},
     "output_type": "display_data"
    },
    {
     "data": {
      "application/javascript": "\n        if (window._pyforest_update_imports_cell) { window._pyforest_update_imports_cell('from PIL import Image'); }\n    ",
      "text/plain": [
       "<IPython.core.display.Javascript object>"
      ]
     },
     "metadata": {},
     "output_type": "display_data"
    },
    {
     "data": {
      "application/javascript": "\n        if (window._pyforest_update_imports_cell) { window._pyforest_update_imports_cell('from PIL import Image'); }\n    ",
      "text/plain": [
       "<IPython.core.display.Javascript object>"
      ]
     },
     "metadata": {},
     "output_type": "display_data"
    },
    {
     "data": {
      "application/javascript": "\n        if (window._pyforest_update_imports_cell) { window._pyforest_update_imports_cell('from PIL import Image'); }\n    ",
      "text/plain": [
       "<IPython.core.display.Javascript object>"
      ]
     },
     "metadata": {},
     "output_type": "display_data"
    },
    {
     "name": "stdout",
     "output_type": "stream",
     "text": [
      "MoviePy - Writing audio in /home/kurubal/Documents/Modern Ways/Project/Turkish/Image Audio Video/Result/200 Words/Twogram_Threegram/Threegram_Twogram_Selected/Data/Text_MP3/gün.mp3\n"
     ]
    },
    {
     "name": "stderr",
     "output_type": "stream",
     "text": [
      "                                                       "
     ]
    },
    {
     "name": "stdout",
     "output_type": "stream",
     "text": [
      "MoviePy - Done.\n"
     ]
    },
    {
     "name": "stderr",
     "output_type": "stream",
     "text": [
      "\r"
     ]
    },
    {
     "name": "stdout",
     "output_type": "stream",
     "text": [
      "MoviePy - Writing audio in /home/kurubal/Documents/Modern Ways/Project/Turkish/Image Audio Video/Result/200 Words/Twogram_Threegram/Threegram_Twogram_Selected/Data/Text_MP3/içinde.mp3\n"
     ]
    },
    {
     "name": "stderr",
     "output_type": "stream",
     "text": [
      "                                                       "
     ]
    },
    {
     "name": "stdout",
     "output_type": "stream",
     "text": [
      "MoviePy - Done.\n"
     ]
    },
    {
     "name": "stderr",
     "output_type": "stream",
     "text": [
      "\r"
     ]
    },
    {
     "name": "stdout",
     "output_type": "stream",
     "text": [
      "Moviepy - Building video /home/kurubal/Documents/Modern Ways/Project/Turkish/Image Audio Video/Result/200 Words/Twogram_Threegram/Threegram_Twogram_Selected/Result/Image_Video_Audio/gün.mp4.\n",
      "MoviePy - Writing audio in günTEMP_MPY_wvf_snd.mp4\n"
     ]
    },
    {
     "name": "stderr",
     "output_type": "stream",
     "text": [
      "                                                       \r"
     ]
    },
    {
     "name": "stdout",
     "output_type": "stream",
     "text": [
      "MoviePy - Done.\n",
      "Moviepy - Writing video /home/kurubal/Documents/Modern Ways/Project/Turkish/Image Audio Video/Result/200 Words/Twogram_Threegram/Threegram_Twogram_Selected/Result/Image_Video_Audio/gün.mp4\n",
      "\n"
     ]
    },
    {
     "name": "stderr",
     "output_type": "stream",
     "text": [
      "                                                  "
     ]
    },
    {
     "name": "stdout",
     "output_type": "stream",
     "text": [
      "Moviepy - Done !\n",
      "Moviepy - video ready /home/kurubal/Documents/Modern Ways/Project/Turkish/Image Audio Video/Result/200 Words/Twogram_Threegram/Threegram_Twogram_Selected/Result/Image_Video_Audio/gün.mp4\n"
     ]
    },
    {
     "name": "stderr",
     "output_type": "stream",
     "text": [
      "\r"
     ]
    },
    {
     "name": "stdout",
     "output_type": "stream",
     "text": [
      "Moviepy - Building video /home/kurubal/Documents/Modern Ways/Project/Turkish/Image Audio Video/Result/200 Words/Twogram_Threegram/Threegram_Twogram_Selected/Result/Image_Video_Audio/içinde.mp4.\n",
      "MoviePy - Writing audio in içindeTEMP_MPY_wvf_snd.mp4\n"
     ]
    },
    {
     "name": "stderr",
     "output_type": "stream",
     "text": [
      "                                                       "
     ]
    },
    {
     "name": "stdout",
     "output_type": "stream",
     "text": [
      "MoviePy - Done.\n",
      "Moviepy - Writing video /home/kurubal/Documents/Modern Ways/Project/Turkish/Image Audio Video/Result/200 Words/Twogram_Threegram/Threegram_Twogram_Selected/Result/Image_Video_Audio/içinde.mp4\n",
      "\n"
     ]
    },
    {
     "name": "stderr",
     "output_type": "stream",
     "text": [
      "                                                  "
     ]
    },
    {
     "name": "stdout",
     "output_type": "stream",
     "text": [
      "Moviepy - Done !\n",
      "Moviepy - video ready /home/kurubal/Documents/Modern Ways/Project/Turkish/Image Audio Video/Result/200 Words/Twogram_Threegram/Threegram_Twogram_Selected/Result/Image_Video_Audio/içinde.mp4\n"
     ]
    },
    {
     "name": "stderr",
     "output_type": "stream",
     "text": [
      "\r"
     ]
    },
    {
     "name": "stdout",
     "output_type": "stream",
     "text": [
      "MoviePy - Writing audio in /home/kurubal/Documents/Modern Ways/Project/Turkish/Image Audio Video/Result/200 Words/Twogram_Threegram/Threegram_Twogram_Selected/Data/Text_MP3/birkaç gün içinde.mp3\n"
     ]
    },
    {
     "name": "stderr",
     "output_type": "stream",
     "text": [
      "                                                       "
     ]
    },
    {
     "name": "stdout",
     "output_type": "stream",
     "text": [
      "MoviePy - Done.\n",
      "Moviepy - Building video /home/kurubal/Documents/Modern Ways/Project/Turkish/Image Audio Video/Result/200 Words/Twogram_Threegram/Threegram_Twogram_Selected/Result/Image_Video_Audio/birkaç gün içinde.mp4.\n",
      "MoviePy - Writing audio in birkaç gün içindeTEMP_MPY_wvf_snd.mp4\n"
     ]
    },
    {
     "name": "stderr",
     "output_type": "stream",
     "text": [
      "                                                       \r"
     ]
    },
    {
     "name": "stdout",
     "output_type": "stream",
     "text": [
      "MoviePy - Done.\n",
      "Moviepy - Writing video /home/kurubal/Documents/Modern Ways/Project/Turkish/Image Audio Video/Result/200 Words/Twogram_Threegram/Threegram_Twogram_Selected/Result/Image_Video_Audio/birkaç gün içinde.mp4\n",
      "\n"
     ]
    },
    {
     "name": "stderr",
     "output_type": "stream",
     "text": [
      "                                                  \r"
     ]
    },
    {
     "name": "stdout",
     "output_type": "stream",
     "text": [
      "Moviepy - Done !\n",
      "Moviepy - video ready /home/kurubal/Documents/Modern Ways/Project/Turkish/Image Audio Video/Result/200 Words/Twogram_Threegram/Threegram_Twogram_Selected/Result/Image_Video_Audio/birkaç gün içinde.mp4\n",
      "Moviepy - Building video /home/kurubal/Documents/Modern Ways/Project/Turkish/Image Audio Video/Result/200 Words/Twogram_Threegram/Threegram_Twogram_Selected/Result/Concat_Video/birkaç gün içinde.mp4.\n",
      "MoviePy - Writing audio in birkaç gün içindeTEMP_MPY_wvf_snd.mp4\n"
     ]
    },
    {
     "name": "stderr",
     "output_type": "stream",
     "text": [
      "                                                                    \r"
     ]
    },
    {
     "name": "stdout",
     "output_type": "stream",
     "text": [
      "MoviePy - Done.\n",
      "Moviepy - Writing video /home/kurubal/Documents/Modern Ways/Project/Turkish/Image Audio Video/Result/200 Words/Twogram_Threegram/Threegram_Twogram_Selected/Result/Concat_Video/birkaç gün içinde.mp4\n",
      "\n"
     ]
    },
    {
     "name": "stderr",
     "output_type": "stream",
     "text": [
      "                                                           \r"
     ]
    },
    {
     "name": "stdout",
     "output_type": "stream",
     "text": [
      "Moviepy - Done !\n",
      "Moviepy - video ready /home/kurubal/Documents/Modern Ways/Project/Turkish/Image Audio Video/Result/200 Words/Twogram_Threegram/Threegram_Twogram_Selected/Result/Concat_Video/birkaç gün içinde.mp4\n"
     ]
    },
    {
     "data": {
      "application/javascript": "\n        if (window._pyforest_update_imports_cell) { window._pyforest_update_imports_cell('from PIL import Image'); }\n    ",
      "text/plain": [
       "<IPython.core.display.Javascript object>"
      ]
     },
     "metadata": {},
     "output_type": "display_data"
    },
    {
     "data": {
      "application/javascript": "\n        if (window._pyforest_update_imports_cell) { window._pyforest_update_imports_cell('from PIL import Image'); }\n    ",
      "text/plain": [
       "<IPython.core.display.Javascript object>"
      ]
     },
     "metadata": {},
     "output_type": "display_data"
    },
    {
     "data": {
      "application/javascript": "\n        if (window._pyforest_update_imports_cell) { window._pyforest_update_imports_cell('from PIL import Image'); }\n    ",
      "text/plain": [
       "<IPython.core.display.Javascript object>"
      ]
     },
     "metadata": {},
     "output_type": "display_data"
    },
    {
     "data": {
      "application/javascript": "\n        if (window._pyforest_update_imports_cell) { window._pyforest_update_imports_cell('from PIL import Image'); }\n    ",
      "text/plain": [
       "<IPython.core.display.Javascript object>"
      ]
     },
     "metadata": {},
     "output_type": "display_data"
    },
    {
     "data": {
      "application/javascript": "\n        if (window._pyforest_update_imports_cell) { window._pyforest_update_imports_cell('from PIL import Image'); }\n    ",
      "text/plain": [
       "<IPython.core.display.Javascript object>"
      ]
     },
     "metadata": {},
     "output_type": "display_data"
    },
    {
     "data": {
      "application/javascript": "\n        if (window._pyforest_update_imports_cell) { window._pyforest_update_imports_cell('from PIL import Image'); }\n    ",
      "text/plain": [
       "<IPython.core.display.Javascript object>"
      ]
     },
     "metadata": {},
     "output_type": "display_data"
    },
    {
     "name": "stdout",
     "output_type": "stream",
     "text": [
      "MoviePy - Writing audio in /home/kurubal/Documents/Modern Ways/Project/Turkish/Image Audio Video/Result/200 Words/Twogram_Threegram/Threegram_Twogram_Selected/Data/Text_MP3/ben.mp3\n"
     ]
    },
    {
     "name": "stderr",
     "output_type": "stream",
     "text": [
      "                                                       "
     ]
    },
    {
     "name": "stdout",
     "output_type": "stream",
     "text": [
      "MoviePy - Done.\n"
     ]
    },
    {
     "name": "stderr",
     "output_type": "stream",
     "text": [
      "\r"
     ]
    },
    {
     "name": "stdout",
     "output_type": "stream",
     "text": [
      "MoviePy - Writing audio in /home/kurubal/Documents/Modern Ways/Project/Turkish/Image Audio Video/Result/200 Words/Twogram_Threegram/Threegram_Twogram_Selected/Data/Text_MP3/teşekkür.mp3\n"
     ]
    },
    {
     "name": "stderr",
     "output_type": "stream",
     "text": [
      "                                                       "
     ]
    },
    {
     "name": "stdout",
     "output_type": "stream",
     "text": [
      "MoviePy - Done.\n"
     ]
    },
    {
     "name": "stderr",
     "output_type": "stream",
     "text": [
      "\r"
     ]
    },
    {
     "name": "stdout",
     "output_type": "stream",
     "text": [
      "MoviePy - Writing audio in /home/kurubal/Documents/Modern Ways/Project/Turkish/Image Audio Video/Result/200 Words/Twogram_Threegram/Threegram_Twogram_Selected/Data/Text_MP3/ederim.mp3\n"
     ]
    },
    {
     "name": "stderr",
     "output_type": "stream",
     "text": [
      "                                                       "
     ]
    },
    {
     "name": "stdout",
     "output_type": "stream",
     "text": [
      "MoviePy - Done.\n"
     ]
    },
    {
     "name": "stderr",
     "output_type": "stream",
     "text": [
      "\r"
     ]
    },
    {
     "name": "stdout",
     "output_type": "stream",
     "text": [
      "Moviepy - Building video /home/kurubal/Documents/Modern Ways/Project/Turkish/Image Audio Video/Result/200 Words/Twogram_Threegram/Threegram_Twogram_Selected/Result/Image_Video_Audio/ben.mp4.\n",
      "MoviePy - Writing audio in benTEMP_MPY_wvf_snd.mp4\n"
     ]
    },
    {
     "name": "stderr",
     "output_type": "stream",
     "text": [
      "                                                       \r"
     ]
    },
    {
     "name": "stdout",
     "output_type": "stream",
     "text": [
      "MoviePy - Done.\n",
      "Moviepy - Writing video /home/kurubal/Documents/Modern Ways/Project/Turkish/Image Audio Video/Result/200 Words/Twogram_Threegram/Threegram_Twogram_Selected/Result/Image_Video_Audio/ben.mp4\n",
      "\n"
     ]
    },
    {
     "name": "stderr",
     "output_type": "stream",
     "text": [
      "                                                  "
     ]
    },
    {
     "name": "stdout",
     "output_type": "stream",
     "text": [
      "Moviepy - Done !\n",
      "Moviepy - video ready /home/kurubal/Documents/Modern Ways/Project/Turkish/Image Audio Video/Result/200 Words/Twogram_Threegram/Threegram_Twogram_Selected/Result/Image_Video_Audio/ben.mp4\n"
     ]
    },
    {
     "name": "stderr",
     "output_type": "stream",
     "text": [
      "\r"
     ]
    },
    {
     "name": "stdout",
     "output_type": "stream",
     "text": [
      "Moviepy - Building video /home/kurubal/Documents/Modern Ways/Project/Turkish/Image Audio Video/Result/200 Words/Twogram_Threegram/Threegram_Twogram_Selected/Result/Image_Video_Audio/teşekkür.mp4.\n",
      "MoviePy - Writing audio in teşekkürTEMP_MPY_wvf_snd.mp4\n"
     ]
    },
    {
     "name": "stderr",
     "output_type": "stream",
     "text": [
      "                                                       "
     ]
    },
    {
     "name": "stdout",
     "output_type": "stream",
     "text": [
      "MoviePy - Done.\n",
      "Moviepy - Writing video /home/kurubal/Documents/Modern Ways/Project/Turkish/Image Audio Video/Result/200 Words/Twogram_Threegram/Threegram_Twogram_Selected/Result/Image_Video_Audio/teşekkür.mp4\n",
      "\n"
     ]
    },
    {
     "name": "stderr",
     "output_type": "stream",
     "text": [
      "                                                  "
     ]
    },
    {
     "name": "stdout",
     "output_type": "stream",
     "text": [
      "Moviepy - Done !\n",
      "Moviepy - video ready /home/kurubal/Documents/Modern Ways/Project/Turkish/Image Audio Video/Result/200 Words/Twogram_Threegram/Threegram_Twogram_Selected/Result/Image_Video_Audio/teşekkür.mp4\n"
     ]
    },
    {
     "name": "stderr",
     "output_type": "stream",
     "text": [
      "\r"
     ]
    },
    {
     "name": "stdout",
     "output_type": "stream",
     "text": [
      "Moviepy - Building video /home/kurubal/Documents/Modern Ways/Project/Turkish/Image Audio Video/Result/200 Words/Twogram_Threegram/Threegram_Twogram_Selected/Result/Image_Video_Audio/ederim.mp4.\n",
      "MoviePy - Writing audio in ederimTEMP_MPY_wvf_snd.mp4\n"
     ]
    },
    {
     "name": "stderr",
     "output_type": "stream",
     "text": [
      "                                                       "
     ]
    },
    {
     "name": "stdout",
     "output_type": "stream",
     "text": [
      "MoviePy - Done.\n",
      "Moviepy - Writing video /home/kurubal/Documents/Modern Ways/Project/Turkish/Image Audio Video/Result/200 Words/Twogram_Threegram/Threegram_Twogram_Selected/Result/Image_Video_Audio/ederim.mp4\n",
      "\n"
     ]
    },
    {
     "name": "stderr",
     "output_type": "stream",
     "text": [
      "                                                  "
     ]
    },
    {
     "name": "stdout",
     "output_type": "stream",
     "text": [
      "Moviepy - Done !\n",
      "Moviepy - video ready /home/kurubal/Documents/Modern Ways/Project/Turkish/Image Audio Video/Result/200 Words/Twogram_Threegram/Threegram_Twogram_Selected/Result/Image_Video_Audio/ederim.mp4\n"
     ]
    },
    {
     "name": "stderr",
     "output_type": "stream",
     "text": [
      "\r"
     ]
    },
    {
     "name": "stdout",
     "output_type": "stream",
     "text": [
      "MoviePy - Writing audio in /home/kurubal/Documents/Modern Ways/Project/Turkish/Image Audio Video/Result/200 Words/Twogram_Threegram/Threegram_Twogram_Selected/Data/Text_MP3/ben teşekkür ederim.mp3\n"
     ]
    },
    {
     "name": "stderr",
     "output_type": "stream",
     "text": [
      "                                                       "
     ]
    },
    {
     "name": "stdout",
     "output_type": "stream",
     "text": [
      "MoviePy - Done.\n",
      "Moviepy - Building video /home/kurubal/Documents/Modern Ways/Project/Turkish/Image Audio Video/Result/200 Words/Twogram_Threegram/Threegram_Twogram_Selected/Result/Image_Video_Audio/ben teşekkür ederim.mp4.\n",
      "MoviePy - Writing audio in ben teşekkür ederimTEMP_MPY_wvf_snd.mp4\n"
     ]
    },
    {
     "name": "stderr",
     "output_type": "stream",
     "text": [
      "                                                       \r"
     ]
    },
    {
     "name": "stdout",
     "output_type": "stream",
     "text": [
      "MoviePy - Done.\n",
      "Moviepy - Writing video /home/kurubal/Documents/Modern Ways/Project/Turkish/Image Audio Video/Result/200 Words/Twogram_Threegram/Threegram_Twogram_Selected/Result/Image_Video_Audio/ben teşekkür ederim.mp4\n",
      "\n"
     ]
    },
    {
     "name": "stderr",
     "output_type": "stream",
     "text": [
      "                                                  \r"
     ]
    },
    {
     "name": "stdout",
     "output_type": "stream",
     "text": [
      "Moviepy - Done !\n",
      "Moviepy - video ready /home/kurubal/Documents/Modern Ways/Project/Turkish/Image Audio Video/Result/200 Words/Twogram_Threegram/Threegram_Twogram_Selected/Result/Image_Video_Audio/ben teşekkür ederim.mp4\n",
      "Moviepy - Building video /home/kurubal/Documents/Modern Ways/Project/Turkish/Image Audio Video/Result/200 Words/Twogram_Threegram/Threegram_Twogram_Selected/Result/Concat_Video/ben teşekkür ederim.mp4.\n",
      "MoviePy - Writing audio in ben teşekkür ederimTEMP_MPY_wvf_snd.mp4\n"
     ]
    },
    {
     "name": "stderr",
     "output_type": "stream",
     "text": [
      "                                                                    \r"
     ]
    },
    {
     "name": "stdout",
     "output_type": "stream",
     "text": [
      "MoviePy - Done.\n",
      "Moviepy - Writing video /home/kurubal/Documents/Modern Ways/Project/Turkish/Image Audio Video/Result/200 Words/Twogram_Threegram/Threegram_Twogram_Selected/Result/Concat_Video/ben teşekkür ederim.mp4\n",
      "\n"
     ]
    },
    {
     "name": "stderr",
     "output_type": "stream",
     "text": [
      "                                                           \r"
     ]
    },
    {
     "name": "stdout",
     "output_type": "stream",
     "text": [
      "Moviepy - Done !\n",
      "Moviepy - video ready /home/kurubal/Documents/Modern Ways/Project/Turkish/Image Audio Video/Result/200 Words/Twogram_Threegram/Threegram_Twogram_Selected/Result/Concat_Video/ben teşekkür ederim.mp4\n"
     ]
    },
    {
     "data": {
      "application/javascript": "\n        if (window._pyforest_update_imports_cell) { window._pyforest_update_imports_cell('from PIL import Image'); }\n    ",
      "text/plain": [
       "<IPython.core.display.Javascript object>"
      ]
     },
     "metadata": {},
     "output_type": "display_data"
    },
    {
     "data": {
      "application/javascript": "\n        if (window._pyforest_update_imports_cell) { window._pyforest_update_imports_cell('from PIL import Image'); }\n    ",
      "text/plain": [
       "<IPython.core.display.Javascript object>"
      ]
     },
     "metadata": {},
     "output_type": "display_data"
    },
    {
     "data": {
      "application/javascript": "\n        if (window._pyforest_update_imports_cell) { window._pyforest_update_imports_cell('from PIL import Image'); }\n    ",
      "text/plain": [
       "<IPython.core.display.Javascript object>"
      ]
     },
     "metadata": {},
     "output_type": "display_data"
    },
    {
     "data": {
      "application/javascript": "\n        if (window._pyforest_update_imports_cell) { window._pyforest_update_imports_cell('from PIL import Image'); }\n    ",
      "text/plain": [
       "<IPython.core.display.Javascript object>"
      ]
     },
     "metadata": {},
     "output_type": "display_data"
    },
    {
     "data": {
      "application/javascript": "\n        if (window._pyforest_update_imports_cell) { window._pyforest_update_imports_cell('from PIL import Image'); }\n    ",
      "text/plain": [
       "<IPython.core.display.Javascript object>"
      ]
     },
     "metadata": {},
     "output_type": "display_data"
    },
    {
     "data": {
      "application/javascript": "\n        if (window._pyforest_update_imports_cell) { window._pyforest_update_imports_cell('from PIL import Image'); }\n    ",
      "text/plain": [
       "<IPython.core.display.Javascript object>"
      ]
     },
     "metadata": {},
     "output_type": "display_data"
    },
    {
     "name": "stdout",
     "output_type": "stream",
     "text": [
      "MoviePy - Writing audio in /home/kurubal/Documents/Modern Ways/Project/Turkish/Image Audio Video/Result/200 Words/Twogram_Threegram/Threegram_Twogram_Selected/Data/Text_MP3/ne.mp3\n"
     ]
    },
    {
     "name": "stderr",
     "output_type": "stream",
     "text": [
      "                                                       "
     ]
    },
    {
     "name": "stdout",
     "output_type": "stream",
     "text": [
      "MoviePy - Done.\n"
     ]
    },
    {
     "name": "stderr",
     "output_type": "stream",
     "text": [
      "\r"
     ]
    },
    {
     "name": "stdout",
     "output_type": "stream",
     "text": [
      "MoviePy - Writing audio in /home/kurubal/Documents/Modern Ways/Project/Turkish/Image Audio Video/Result/200 Words/Twogram_Threegram/Threegram_Twogram_Selected/Data/Text_MP3/kadar.mp3\n"
     ]
    },
    {
     "name": "stderr",
     "output_type": "stream",
     "text": [
      "                                                       "
     ]
    },
    {
     "name": "stdout",
     "output_type": "stream",
     "text": [
      "MoviePy - Done.\n"
     ]
    },
    {
     "name": "stderr",
     "output_type": "stream",
     "text": [
      "\r"
     ]
    },
    {
     "name": "stdout",
     "output_type": "stream",
     "text": [
      "MoviePy - Writing audio in /home/kurubal/Documents/Modern Ways/Project/Turkish/Image Audio Video/Result/200 Words/Twogram_Threegram/Threegram_Twogram_Selected/Data/Text_MP3/var.mp3\n"
     ]
    },
    {
     "name": "stderr",
     "output_type": "stream",
     "text": [
      "                                                       "
     ]
    },
    {
     "name": "stdout",
     "output_type": "stream",
     "text": [
      "MoviePy - Done.\n"
     ]
    },
    {
     "name": "stderr",
     "output_type": "stream",
     "text": [
      "\r"
     ]
    },
    {
     "name": "stdout",
     "output_type": "stream",
     "text": [
      "Moviepy - Building video /home/kurubal/Documents/Modern Ways/Project/Turkish/Image Audio Video/Result/200 Words/Twogram_Threegram/Threegram_Twogram_Selected/Result/Image_Video_Audio/ne.mp4.\n",
      "MoviePy - Writing audio in neTEMP_MPY_wvf_snd.mp4\n"
     ]
    },
    {
     "name": "stderr",
     "output_type": "stream",
     "text": [
      "                                                       \r"
     ]
    },
    {
     "name": "stdout",
     "output_type": "stream",
     "text": [
      "MoviePy - Done.\n",
      "Moviepy - Writing video /home/kurubal/Documents/Modern Ways/Project/Turkish/Image Audio Video/Result/200 Words/Twogram_Threegram/Threegram_Twogram_Selected/Result/Image_Video_Audio/ne.mp4\n",
      "\n"
     ]
    },
    {
     "name": "stderr",
     "output_type": "stream",
     "text": [
      "                                                  "
     ]
    },
    {
     "name": "stdout",
     "output_type": "stream",
     "text": [
      "Moviepy - Done !\n",
      "Moviepy - video ready /home/kurubal/Documents/Modern Ways/Project/Turkish/Image Audio Video/Result/200 Words/Twogram_Threegram/Threegram_Twogram_Selected/Result/Image_Video_Audio/ne.mp4\n"
     ]
    },
    {
     "name": "stderr",
     "output_type": "stream",
     "text": [
      "\r"
     ]
    },
    {
     "name": "stdout",
     "output_type": "stream",
     "text": [
      "Moviepy - Building video /home/kurubal/Documents/Modern Ways/Project/Turkish/Image Audio Video/Result/200 Words/Twogram_Threegram/Threegram_Twogram_Selected/Result/Image_Video_Audio/kadar.mp4.\n",
      "MoviePy - Writing audio in kadarTEMP_MPY_wvf_snd.mp4\n"
     ]
    },
    {
     "name": "stderr",
     "output_type": "stream",
     "text": [
      "                                                       "
     ]
    },
    {
     "name": "stdout",
     "output_type": "stream",
     "text": [
      "MoviePy - Done.\n",
      "Moviepy - Writing video /home/kurubal/Documents/Modern Ways/Project/Turkish/Image Audio Video/Result/200 Words/Twogram_Threegram/Threegram_Twogram_Selected/Result/Image_Video_Audio/kadar.mp4\n",
      "\n"
     ]
    },
    {
     "name": "stderr",
     "output_type": "stream",
     "text": [
      "                                                  "
     ]
    },
    {
     "name": "stdout",
     "output_type": "stream",
     "text": [
      "Moviepy - Done !\n",
      "Moviepy - video ready /home/kurubal/Documents/Modern Ways/Project/Turkish/Image Audio Video/Result/200 Words/Twogram_Threegram/Threegram_Twogram_Selected/Result/Image_Video_Audio/kadar.mp4\n"
     ]
    },
    {
     "name": "stderr",
     "output_type": "stream",
     "text": [
      "\r"
     ]
    },
    {
     "name": "stdout",
     "output_type": "stream",
     "text": [
      "Moviepy - Building video /home/kurubal/Documents/Modern Ways/Project/Turkish/Image Audio Video/Result/200 Words/Twogram_Threegram/Threegram_Twogram_Selected/Result/Image_Video_Audio/var.mp4.\n",
      "MoviePy - Writing audio in varTEMP_MPY_wvf_snd.mp4\n"
     ]
    },
    {
     "name": "stderr",
     "output_type": "stream",
     "text": [
      "                                                       "
     ]
    },
    {
     "name": "stdout",
     "output_type": "stream",
     "text": [
      "MoviePy - Done.\n",
      "Moviepy - Writing video /home/kurubal/Documents/Modern Ways/Project/Turkish/Image Audio Video/Result/200 Words/Twogram_Threegram/Threegram_Twogram_Selected/Result/Image_Video_Audio/var.mp4\n",
      "\n"
     ]
    },
    {
     "name": "stderr",
     "output_type": "stream",
     "text": [
      "                                                  "
     ]
    },
    {
     "name": "stdout",
     "output_type": "stream",
     "text": [
      "Moviepy - Done !\n",
      "Moviepy - video ready /home/kurubal/Documents/Modern Ways/Project/Turkish/Image Audio Video/Result/200 Words/Twogram_Threegram/Threegram_Twogram_Selected/Result/Image_Video_Audio/var.mp4\n"
     ]
    },
    {
     "name": "stderr",
     "output_type": "stream",
     "text": [
      "\r"
     ]
    },
    {
     "name": "stdout",
     "output_type": "stream",
     "text": [
      "MoviePy - Writing audio in /home/kurubal/Documents/Modern Ways/Project/Turkish/Image Audio Video/Result/200 Words/Twogram_Threegram/Threegram_Twogram_Selected/Data/Text_MP3/ne kadar var.mp3\n"
     ]
    },
    {
     "name": "stderr",
     "output_type": "stream",
     "text": [
      "                                                       "
     ]
    },
    {
     "name": "stdout",
     "output_type": "stream",
     "text": [
      "MoviePy - Done.\n",
      "Moviepy - Building video /home/kurubal/Documents/Modern Ways/Project/Turkish/Image Audio Video/Result/200 Words/Twogram_Threegram/Threegram_Twogram_Selected/Result/Image_Video_Audio/ne kadar var.mp4.\n",
      "MoviePy - Writing audio in ne kadar varTEMP_MPY_wvf_snd.mp4\n"
     ]
    },
    {
     "name": "stderr",
     "output_type": "stream",
     "text": [
      "                                                       \r"
     ]
    },
    {
     "name": "stdout",
     "output_type": "stream",
     "text": [
      "MoviePy - Done.\n",
      "Moviepy - Writing video /home/kurubal/Documents/Modern Ways/Project/Turkish/Image Audio Video/Result/200 Words/Twogram_Threegram/Threegram_Twogram_Selected/Result/Image_Video_Audio/ne kadar var.mp4\n",
      "\n"
     ]
    },
    {
     "name": "stderr",
     "output_type": "stream",
     "text": [
      "                                                  \r"
     ]
    },
    {
     "name": "stdout",
     "output_type": "stream",
     "text": [
      "Moviepy - Done !\n",
      "Moviepy - video ready /home/kurubal/Documents/Modern Ways/Project/Turkish/Image Audio Video/Result/200 Words/Twogram_Threegram/Threegram_Twogram_Selected/Result/Image_Video_Audio/ne kadar var.mp4\n",
      "Moviepy - Building video /home/kurubal/Documents/Modern Ways/Project/Turkish/Image Audio Video/Result/200 Words/Twogram_Threegram/Threegram_Twogram_Selected/Result/Concat_Video/ne kadar var.mp4.\n",
      "MoviePy - Writing audio in ne kadar varTEMP_MPY_wvf_snd.mp4\n"
     ]
    },
    {
     "name": "stderr",
     "output_type": "stream",
     "text": [
      "                                                                    \r"
     ]
    },
    {
     "name": "stdout",
     "output_type": "stream",
     "text": [
      "MoviePy - Done.\n",
      "Moviepy - Writing video /home/kurubal/Documents/Modern Ways/Project/Turkish/Image Audio Video/Result/200 Words/Twogram_Threegram/Threegram_Twogram_Selected/Result/Concat_Video/ne kadar var.mp4\n",
      "\n"
     ]
    },
    {
     "name": "stderr",
     "output_type": "stream",
     "text": [
      "                                                           \r"
     ]
    },
    {
     "name": "stdout",
     "output_type": "stream",
     "text": [
      "Moviepy - Done !\n",
      "Moviepy - video ready /home/kurubal/Documents/Modern Ways/Project/Turkish/Image Audio Video/Result/200 Words/Twogram_Threegram/Threegram_Twogram_Selected/Result/Concat_Video/ne kadar var.mp4\n"
     ]
    },
    {
     "data": {
      "application/javascript": "\n        if (window._pyforest_update_imports_cell) { window._pyforest_update_imports_cell('from PIL import Image'); }\n    ",
      "text/plain": [
       "<IPython.core.display.Javascript object>"
      ]
     },
     "metadata": {},
     "output_type": "display_data"
    },
    {
     "data": {
      "application/javascript": "\n        if (window._pyforest_update_imports_cell) { window._pyforest_update_imports_cell('from PIL import Image'); }\n    ",
      "text/plain": [
       "<IPython.core.display.Javascript object>"
      ]
     },
     "metadata": {},
     "output_type": "display_data"
    },
    {
     "name": "stdout",
     "output_type": "stream",
     "text": [
      "MoviePy - Writing audio in /home/kurubal/Documents/Modern Ways/Project/Turkish/Image Audio Video/Result/200 Words/Twogram_Threegram/Threegram_Twogram_Selected/Data/Text_MP3/sen.mp3\n"
     ]
    },
    {
     "name": "stderr",
     "output_type": "stream",
     "text": [
      "                                                       "
     ]
    },
    {
     "name": "stdout",
     "output_type": "stream",
     "text": [
      "MoviePy - Done.\n"
     ]
    },
    {
     "name": "stderr",
     "output_type": "stream",
     "text": [
      "\r"
     ]
    },
    {
     "name": "stdout",
     "output_type": "stream",
     "text": [
      "Moviepy - Building video /home/kurubal/Documents/Modern Ways/Project/Turkish/Image Audio Video/Result/200 Words/Twogram_Threegram/Threegram_Twogram_Selected/Result/Image_Video_Audio/sen.mp4.\n",
      "MoviePy - Writing audio in senTEMP_MPY_wvf_snd.mp4\n"
     ]
    },
    {
     "name": "stderr",
     "output_type": "stream",
     "text": [
      "                                                       \r"
     ]
    },
    {
     "name": "stdout",
     "output_type": "stream",
     "text": [
      "MoviePy - Done.\n",
      "Moviepy - Writing video /home/kurubal/Documents/Modern Ways/Project/Turkish/Image Audio Video/Result/200 Words/Twogram_Threegram/Threegram_Twogram_Selected/Result/Image_Video_Audio/sen.mp4\n",
      "\n"
     ]
    },
    {
     "name": "stderr",
     "output_type": "stream",
     "text": [
      "                                                  "
     ]
    },
    {
     "name": "stdout",
     "output_type": "stream",
     "text": [
      "Moviepy - Done !\n",
      "Moviepy - video ready /home/kurubal/Documents/Modern Ways/Project/Turkish/Image Audio Video/Result/200 Words/Twogram_Threegram/Threegram_Twogram_Selected/Result/Image_Video_Audio/sen.mp4\n"
     ]
    },
    {
     "name": "stderr",
     "output_type": "stream",
     "text": [
      "\r"
     ]
    },
    {
     "name": "stdout",
     "output_type": "stream",
     "text": [
      "MoviePy - Writing audio in /home/kurubal/Documents/Modern Ways/Project/Turkish/Image Audio Video/Result/200 Words/Twogram_Threegram/Threegram_Twogram_Selected/Data/Text_MP3/sen geliyor musun.mp3\n"
     ]
    },
    {
     "name": "stderr",
     "output_type": "stream",
     "text": [
      "                                                       "
     ]
    },
    {
     "name": "stdout",
     "output_type": "stream",
     "text": [
      "MoviePy - Done.\n",
      "Moviepy - Building video /home/kurubal/Documents/Modern Ways/Project/Turkish/Image Audio Video/Result/200 Words/Twogram_Threegram/Threegram_Twogram_Selected/Result/Image_Video_Audio/sen geliyor musun.mp4.\n",
      "MoviePy - Writing audio in sen geliyor musunTEMP_MPY_wvf_snd.mp4\n"
     ]
    },
    {
     "name": "stderr",
     "output_type": "stream",
     "text": [
      "                                                       \r"
     ]
    },
    {
     "name": "stdout",
     "output_type": "stream",
     "text": [
      "MoviePy - Done.\n",
      "Moviepy - Writing video /home/kurubal/Documents/Modern Ways/Project/Turkish/Image Audio Video/Result/200 Words/Twogram_Threegram/Threegram_Twogram_Selected/Result/Image_Video_Audio/sen geliyor musun.mp4\n",
      "\n"
     ]
    },
    {
     "name": "stderr",
     "output_type": "stream",
     "text": [
      "                                                  \r"
     ]
    },
    {
     "name": "stdout",
     "output_type": "stream",
     "text": [
      "Moviepy - Done !\n",
      "Moviepy - video ready /home/kurubal/Documents/Modern Ways/Project/Turkish/Image Audio Video/Result/200 Words/Twogram_Threegram/Threegram_Twogram_Selected/Result/Image_Video_Audio/sen geliyor musun.mp4\n",
      "Moviepy - Building video /home/kurubal/Documents/Modern Ways/Project/Turkish/Image Audio Video/Result/200 Words/Twogram_Threegram/Threegram_Twogram_Selected/Result/Concat_Video/sen geliyor musun.mp4.\n",
      "MoviePy - Writing audio in sen geliyor musunTEMP_MPY_wvf_snd.mp4\n"
     ]
    },
    {
     "name": "stderr",
     "output_type": "stream",
     "text": [
      "                                                                    \r"
     ]
    },
    {
     "name": "stdout",
     "output_type": "stream",
     "text": [
      "MoviePy - Done.\n",
      "Moviepy - Writing video /home/kurubal/Documents/Modern Ways/Project/Turkish/Image Audio Video/Result/200 Words/Twogram_Threegram/Threegram_Twogram_Selected/Result/Concat_Video/sen geliyor musun.mp4\n",
      "\n"
     ]
    },
    {
     "name": "stderr",
     "output_type": "stream",
     "text": [
      "                                                           \r"
     ]
    },
    {
     "name": "stdout",
     "output_type": "stream",
     "text": [
      "Moviepy - Done !\n",
      "Moviepy - video ready /home/kurubal/Documents/Modern Ways/Project/Turkish/Image Audio Video/Result/200 Words/Twogram_Threegram/Threegram_Twogram_Selected/Result/Concat_Video/sen geliyor musun.mp4\n"
     ]
    },
    {
     "data": {
      "application/javascript": "\n        if (window._pyforest_update_imports_cell) { window._pyforest_update_imports_cell('from PIL import Image'); }\n    ",
      "text/plain": [
       "<IPython.core.display.Javascript object>"
      ]
     },
     "metadata": {},
     "output_type": "display_data"
    },
    {
     "data": {
      "application/javascript": "\n        if (window._pyforest_update_imports_cell) { window._pyforest_update_imports_cell('from PIL import Image'); }\n    ",
      "text/plain": [
       "<IPython.core.display.Javascript object>"
      ]
     },
     "metadata": {},
     "output_type": "display_data"
    },
    {
     "data": {
      "application/javascript": "\n        if (window._pyforest_update_imports_cell) { window._pyforest_update_imports_cell('from PIL import Image'); }\n    ",
      "text/plain": [
       "<IPython.core.display.Javascript object>"
      ]
     },
     "metadata": {},
     "output_type": "display_data"
    },
    {
     "data": {
      "application/javascript": "\n        if (window._pyforest_update_imports_cell) { window._pyforest_update_imports_cell('from PIL import Image'); }\n    ",
      "text/plain": [
       "<IPython.core.display.Javascript object>"
      ]
     },
     "metadata": {},
     "output_type": "display_data"
    },
    {
     "name": "stdout",
     "output_type": "stream",
     "text": [
      "MoviePy - Writing audio in /home/kurubal/Documents/Modern Ways/Project/Turkish/Image Audio Video/Result/200 Words/Twogram_Threegram/Threegram_Twogram_Selected/Data/Text_MP3/de.mp3\n"
     ]
    },
    {
     "name": "stderr",
     "output_type": "stream",
     "text": [
      "                                                       "
     ]
    },
    {
     "name": "stdout",
     "output_type": "stream",
     "text": [
      "MoviePy - Done.\n"
     ]
    },
    {
     "name": "stderr",
     "output_type": "stream",
     "text": [
      "\r"
     ]
    },
    {
     "name": "stdout",
     "output_type": "stream",
     "text": [
      "MoviePy - Writing audio in /home/kurubal/Documents/Modern Ways/Project/Turkish/Image Audio Video/Result/200 Words/Twogram_Threegram/Threegram_Twogram_Selected/Data/Text_MP3/seni.mp3\n"
     ]
    },
    {
     "name": "stderr",
     "output_type": "stream",
     "text": [
      "                                                       "
     ]
    },
    {
     "name": "stdout",
     "output_type": "stream",
     "text": [
      "MoviePy - Done.\n"
     ]
    },
    {
     "name": "stderr",
     "output_type": "stream",
     "text": [
      "\r"
     ]
    },
    {
     "name": "stdout",
     "output_type": "stream",
     "text": [
      "Moviepy - Building video /home/kurubal/Documents/Modern Ways/Project/Turkish/Image Audio Video/Result/200 Words/Twogram_Threegram/Threegram_Twogram_Selected/Result/Image_Video_Audio/de.mp4.\n",
      "MoviePy - Writing audio in deTEMP_MPY_wvf_snd.mp4\n"
     ]
    },
    {
     "name": "stderr",
     "output_type": "stream",
     "text": [
      "                                                       \r"
     ]
    },
    {
     "name": "stdout",
     "output_type": "stream",
     "text": [
      "MoviePy - Done.\n",
      "Moviepy - Writing video /home/kurubal/Documents/Modern Ways/Project/Turkish/Image Audio Video/Result/200 Words/Twogram_Threegram/Threegram_Twogram_Selected/Result/Image_Video_Audio/de.mp4\n",
      "\n"
     ]
    },
    {
     "name": "stderr",
     "output_type": "stream",
     "text": [
      "                                                  "
     ]
    },
    {
     "name": "stdout",
     "output_type": "stream",
     "text": [
      "Moviepy - Done !\n",
      "Moviepy - video ready /home/kurubal/Documents/Modern Ways/Project/Turkish/Image Audio Video/Result/200 Words/Twogram_Threegram/Threegram_Twogram_Selected/Result/Image_Video_Audio/de.mp4\n"
     ]
    },
    {
     "name": "stderr",
     "output_type": "stream",
     "text": [
      "\r"
     ]
    },
    {
     "name": "stdout",
     "output_type": "stream",
     "text": [
      "Moviepy - Building video /home/kurubal/Documents/Modern Ways/Project/Turkish/Image Audio Video/Result/200 Words/Twogram_Threegram/Threegram_Twogram_Selected/Result/Image_Video_Audio/seni.mp4.\n",
      "MoviePy - Writing audio in seniTEMP_MPY_wvf_snd.mp4\n"
     ]
    },
    {
     "name": "stderr",
     "output_type": "stream",
     "text": [
      "                                                       "
     ]
    },
    {
     "name": "stdout",
     "output_type": "stream",
     "text": [
      "MoviePy - Done.\n",
      "Moviepy - Writing video /home/kurubal/Documents/Modern Ways/Project/Turkish/Image Audio Video/Result/200 Words/Twogram_Threegram/Threegram_Twogram_Selected/Result/Image_Video_Audio/seni.mp4\n",
      "\n"
     ]
    },
    {
     "name": "stderr",
     "output_type": "stream",
     "text": [
      "                                                  "
     ]
    },
    {
     "name": "stdout",
     "output_type": "stream",
     "text": [
      "Moviepy - Done !\n",
      "Moviepy - video ready /home/kurubal/Documents/Modern Ways/Project/Turkish/Image Audio Video/Result/200 Words/Twogram_Threegram/Threegram_Twogram_Selected/Result/Image_Video_Audio/seni.mp4\n"
     ]
    },
    {
     "name": "stderr",
     "output_type": "stream",
     "text": [
      "\r"
     ]
    },
    {
     "name": "stdout",
     "output_type": "stream",
     "text": [
      "MoviePy - Writing audio in /home/kurubal/Documents/Modern Ways/Project/Turkish/Image Audio Video/Result/200 Words/Twogram_Threegram/Threegram_Twogram_Selected/Data/Text_MP3/ben de seni.mp3\n"
     ]
    },
    {
     "name": "stderr",
     "output_type": "stream",
     "text": [
      "                                                       \r"
     ]
    },
    {
     "name": "stdout",
     "output_type": "stream",
     "text": [
      "MoviePy - Done.\n",
      "Moviepy - Building video /home/kurubal/Documents/Modern Ways/Project/Turkish/Image Audio Video/Result/200 Words/Twogram_Threegram/Threegram_Twogram_Selected/Result/Image_Video_Audio/ben de seni.mp4.\n",
      "MoviePy - Writing audio in ben de seniTEMP_MPY_wvf_snd.mp4\n"
     ]
    },
    {
     "name": "stderr",
     "output_type": "stream",
     "text": [
      "                                                       \r"
     ]
    },
    {
     "name": "stdout",
     "output_type": "stream",
     "text": [
      "MoviePy - Done.\n",
      "Moviepy - Writing video /home/kurubal/Documents/Modern Ways/Project/Turkish/Image Audio Video/Result/200 Words/Twogram_Threegram/Threegram_Twogram_Selected/Result/Image_Video_Audio/ben de seni.mp4\n",
      "\n"
     ]
    },
    {
     "name": "stderr",
     "output_type": "stream",
     "text": [
      "                                                  \r"
     ]
    },
    {
     "name": "stdout",
     "output_type": "stream",
     "text": [
      "Moviepy - Done !\n",
      "Moviepy - video ready /home/kurubal/Documents/Modern Ways/Project/Turkish/Image Audio Video/Result/200 Words/Twogram_Threegram/Threegram_Twogram_Selected/Result/Image_Video_Audio/ben de seni.mp4\n",
      "Moviepy - Building video /home/kurubal/Documents/Modern Ways/Project/Turkish/Image Audio Video/Result/200 Words/Twogram_Threegram/Threegram_Twogram_Selected/Result/Concat_Video/ben de seni.mp4.\n",
      "MoviePy - Writing audio in ben de seniTEMP_MPY_wvf_snd.mp4\n"
     ]
    },
    {
     "name": "stderr",
     "output_type": "stream",
     "text": [
      "                                                                    \r"
     ]
    },
    {
     "name": "stdout",
     "output_type": "stream",
     "text": [
      "MoviePy - Done.\n",
      "Moviepy - Writing video /home/kurubal/Documents/Modern Ways/Project/Turkish/Image Audio Video/Result/200 Words/Twogram_Threegram/Threegram_Twogram_Selected/Result/Concat_Video/ben de seni.mp4\n",
      "\n"
     ]
    },
    {
     "name": "stderr",
     "output_type": "stream",
     "text": [
      "                                                          \r"
     ]
    },
    {
     "name": "stdout",
     "output_type": "stream",
     "text": [
      "Moviepy - Done !\n",
      "Moviepy - video ready /home/kurubal/Documents/Modern Ways/Project/Turkish/Image Audio Video/Result/200 Words/Twogram_Threegram/Threegram_Twogram_Selected/Result/Concat_Video/ben de seni.mp4\n"
     ]
    },
    {
     "data": {
      "application/javascript": "\n        if (window._pyforest_update_imports_cell) { window._pyforest_update_imports_cell('from PIL import Image'); }\n    ",
      "text/plain": [
       "<IPython.core.display.Javascript object>"
      ]
     },
     "metadata": {},
     "output_type": "display_data"
    },
    {
     "data": {
      "application/javascript": "\n        if (window._pyforest_update_imports_cell) { window._pyforest_update_imports_cell('from PIL import Image'); }\n    ",
      "text/plain": [
       "<IPython.core.display.Javascript object>"
      ]
     },
     "metadata": {},
     "output_type": "display_data"
    },
    {
     "data": {
      "application/javascript": "\n        if (window._pyforest_update_imports_cell) { window._pyforest_update_imports_cell('from PIL import Image'); }\n    ",
      "text/plain": [
       "<IPython.core.display.Javascript object>"
      ]
     },
     "metadata": {},
     "output_type": "display_data"
    },
    {
     "data": {
      "application/javascript": "\n        if (window._pyforest_update_imports_cell) { window._pyforest_update_imports_cell('from PIL import Image'); }\n    ",
      "text/plain": [
       "<IPython.core.display.Javascript object>"
      ]
     },
     "metadata": {},
     "output_type": "display_data"
    },
    {
     "data": {
      "application/javascript": "\n        if (window._pyforest_update_imports_cell) { window._pyforest_update_imports_cell('from PIL import Image'); }\n    ",
      "text/plain": [
       "<IPython.core.display.Javascript object>"
      ]
     },
     "metadata": {},
     "output_type": "display_data"
    },
    {
     "data": {
      "application/javascript": "\n        if (window._pyforest_update_imports_cell) { window._pyforest_update_imports_cell('from PIL import Image'); }\n    ",
      "text/plain": [
       "<IPython.core.display.Javascript object>"
      ]
     },
     "metadata": {},
     "output_type": "display_data"
    },
    {
     "name": "stdout",
     "output_type": "stream",
     "text": [
      "MoviePy - Writing audio in /home/kurubal/Documents/Modern Ways/Project/Turkish/Image Audio Video/Result/200 Words/Twogram_Threegram/Threegram_Twogram_Selected/Data/Text_MP3/evet.mp3\n"
     ]
    },
    {
     "name": "stderr",
     "output_type": "stream",
     "text": [
      "                                                       "
     ]
    },
    {
     "name": "stdout",
     "output_type": "stream",
     "text": [
      "MoviePy - Done.\n"
     ]
    },
    {
     "name": "stderr",
     "output_type": "stream",
     "text": [
      "\r"
     ]
    },
    {
     "name": "stdout",
     "output_type": "stream",
     "text": [
      "MoviePy - Writing audio in /home/kurubal/Documents/Modern Ways/Project/Turkish/Image Audio Video/Result/200 Words/Twogram_Threegram/Threegram_Twogram_Selected/Data/Text_MP3/o.mp3\n"
     ]
    },
    {
     "name": "stderr",
     "output_type": "stream",
     "text": [
      "                                                       "
     ]
    },
    {
     "name": "stdout",
     "output_type": "stream",
     "text": [
      "MoviePy - Done.\n"
     ]
    },
    {
     "name": "stderr",
     "output_type": "stream",
     "text": [
      "\r"
     ]
    },
    {
     "name": "stdout",
     "output_type": "stream",
     "text": [
      "MoviePy - Writing audio in /home/kurubal/Documents/Modern Ways/Project/Turkish/Image Audio Video/Result/200 Words/Twogram_Threegram/Threegram_Twogram_Selected/Data/Text_MP3/benim.mp3\n"
     ]
    },
    {
     "name": "stderr",
     "output_type": "stream",
     "text": [
      "                                                       "
     ]
    },
    {
     "name": "stdout",
     "output_type": "stream",
     "text": [
      "MoviePy - Done.\n"
     ]
    },
    {
     "name": "stderr",
     "output_type": "stream",
     "text": [
      "\r"
     ]
    },
    {
     "name": "stdout",
     "output_type": "stream",
     "text": [
      "Moviepy - Building video /home/kurubal/Documents/Modern Ways/Project/Turkish/Image Audio Video/Result/200 Words/Twogram_Threegram/Threegram_Twogram_Selected/Result/Image_Video_Audio/evet.mp4.\n",
      "MoviePy - Writing audio in evetTEMP_MPY_wvf_snd.mp4\n"
     ]
    },
    {
     "name": "stderr",
     "output_type": "stream",
     "text": [
      "                                                       \r"
     ]
    },
    {
     "name": "stdout",
     "output_type": "stream",
     "text": [
      "MoviePy - Done.\n",
      "Moviepy - Writing video /home/kurubal/Documents/Modern Ways/Project/Turkish/Image Audio Video/Result/200 Words/Twogram_Threegram/Threegram_Twogram_Selected/Result/Image_Video_Audio/evet.mp4\n",
      "\n"
     ]
    },
    {
     "name": "stderr",
     "output_type": "stream",
     "text": [
      "                                                  "
     ]
    },
    {
     "name": "stdout",
     "output_type": "stream",
     "text": [
      "Moviepy - Done !\n",
      "Moviepy - video ready /home/kurubal/Documents/Modern Ways/Project/Turkish/Image Audio Video/Result/200 Words/Twogram_Threegram/Threegram_Twogram_Selected/Result/Image_Video_Audio/evet.mp4\n"
     ]
    },
    {
     "name": "stderr",
     "output_type": "stream",
     "text": [
      "\r"
     ]
    },
    {
     "name": "stdout",
     "output_type": "stream",
     "text": [
      "Moviepy - Building video /home/kurubal/Documents/Modern Ways/Project/Turkish/Image Audio Video/Result/200 Words/Twogram_Threegram/Threegram_Twogram_Selected/Result/Image_Video_Audio/o.mp4.\n",
      "MoviePy - Writing audio in oTEMP_MPY_wvf_snd.mp4\n"
     ]
    },
    {
     "name": "stderr",
     "output_type": "stream",
     "text": [
      "                                                       "
     ]
    },
    {
     "name": "stdout",
     "output_type": "stream",
     "text": [
      "MoviePy - Done.\n",
      "Moviepy - Writing video /home/kurubal/Documents/Modern Ways/Project/Turkish/Image Audio Video/Result/200 Words/Twogram_Threegram/Threegram_Twogram_Selected/Result/Image_Video_Audio/o.mp4\n",
      "\n"
     ]
    },
    {
     "name": "stderr",
     "output_type": "stream",
     "text": [
      "                                                  "
     ]
    },
    {
     "name": "stdout",
     "output_type": "stream",
     "text": [
      "Moviepy - Done !\n",
      "Moviepy - video ready /home/kurubal/Documents/Modern Ways/Project/Turkish/Image Audio Video/Result/200 Words/Twogram_Threegram/Threegram_Twogram_Selected/Result/Image_Video_Audio/o.mp4\n"
     ]
    },
    {
     "name": "stderr",
     "output_type": "stream",
     "text": [
      "\r"
     ]
    },
    {
     "name": "stdout",
     "output_type": "stream",
     "text": [
      "Moviepy - Building video /home/kurubal/Documents/Modern Ways/Project/Turkish/Image Audio Video/Result/200 Words/Twogram_Threegram/Threegram_Twogram_Selected/Result/Image_Video_Audio/benim.mp4.\n",
      "MoviePy - Writing audio in benimTEMP_MPY_wvf_snd.mp4\n"
     ]
    },
    {
     "name": "stderr",
     "output_type": "stream",
     "text": [
      "                                                       "
     ]
    },
    {
     "name": "stdout",
     "output_type": "stream",
     "text": [
      "MoviePy - Done.\n",
      "Moviepy - Writing video /home/kurubal/Documents/Modern Ways/Project/Turkish/Image Audio Video/Result/200 Words/Twogram_Threegram/Threegram_Twogram_Selected/Result/Image_Video_Audio/benim.mp4\n",
      "\n"
     ]
    },
    {
     "name": "stderr",
     "output_type": "stream",
     "text": [
      "                                                  \r"
     ]
    },
    {
     "name": "stdout",
     "output_type": "stream",
     "text": [
      "Moviepy - Done !\n",
      "Moviepy - video ready /home/kurubal/Documents/Modern Ways/Project/Turkish/Image Audio Video/Result/200 Words/Twogram_Threegram/Threegram_Twogram_Selected/Result/Image_Video_Audio/benim.mp4\n",
      "MoviePy - Writing audio in /home/kurubal/Documents/Modern Ways/Project/Turkish/Image Audio Video/Result/200 Words/Twogram_Threegram/Threegram_Twogram_Selected/Data/Text_MP3/evet o benim.mp3\n"
     ]
    },
    {
     "name": "stderr",
     "output_type": "stream",
     "text": [
      "                                                       "
     ]
    },
    {
     "name": "stdout",
     "output_type": "stream",
     "text": [
      "MoviePy - Done.\n",
      "Moviepy - Building video /home/kurubal/Documents/Modern Ways/Project/Turkish/Image Audio Video/Result/200 Words/Twogram_Threegram/Threegram_Twogram_Selected/Result/Image_Video_Audio/evet o benim.mp4.\n",
      "MoviePy - Writing audio in evet o benimTEMP_MPY_wvf_snd.mp4\n"
     ]
    },
    {
     "name": "stderr",
     "output_type": "stream",
     "text": [
      "                                                       \r"
     ]
    },
    {
     "name": "stdout",
     "output_type": "stream",
     "text": [
      "MoviePy - Done.\n",
      "Moviepy - Writing video /home/kurubal/Documents/Modern Ways/Project/Turkish/Image Audio Video/Result/200 Words/Twogram_Threegram/Threegram_Twogram_Selected/Result/Image_Video_Audio/evet o benim.mp4\n",
      "\n"
     ]
    },
    {
     "name": "stderr",
     "output_type": "stream",
     "text": [
      "                                                  \r"
     ]
    },
    {
     "name": "stdout",
     "output_type": "stream",
     "text": [
      "Moviepy - Done !\n",
      "Moviepy - video ready /home/kurubal/Documents/Modern Ways/Project/Turkish/Image Audio Video/Result/200 Words/Twogram_Threegram/Threegram_Twogram_Selected/Result/Image_Video_Audio/evet o benim.mp4\n",
      "Moviepy - Building video /home/kurubal/Documents/Modern Ways/Project/Turkish/Image Audio Video/Result/200 Words/Twogram_Threegram/Threegram_Twogram_Selected/Result/Concat_Video/evet o benim.mp4.\n",
      "MoviePy - Writing audio in evet o benimTEMP_MPY_wvf_snd.mp4\n"
     ]
    },
    {
     "name": "stderr",
     "output_type": "stream",
     "text": [
      "                                                                    \r"
     ]
    },
    {
     "name": "stdout",
     "output_type": "stream",
     "text": [
      "MoviePy - Done.\n",
      "Moviepy - Writing video /home/kurubal/Documents/Modern Ways/Project/Turkish/Image Audio Video/Result/200 Words/Twogram_Threegram/Threegram_Twogram_Selected/Result/Concat_Video/evet o benim.mp4\n",
      "\n"
     ]
    },
    {
     "name": "stderr",
     "output_type": "stream",
     "text": [
      "                                                          \r"
     ]
    },
    {
     "name": "stdout",
     "output_type": "stream",
     "text": [
      "Moviepy - Done !\n",
      "Moviepy - video ready /home/kurubal/Documents/Modern Ways/Project/Turkish/Image Audio Video/Result/200 Words/Twogram_Threegram/Threegram_Twogram_Selected/Result/Concat_Video/evet o benim.mp4\n"
     ]
    },
    {
     "data": {
      "application/javascript": "\n        if (window._pyforest_update_imports_cell) { window._pyforest_update_imports_cell('from PIL import Image'); }\n    ",
      "text/plain": [
       "<IPython.core.display.Javascript object>"
      ]
     },
     "metadata": {},
     "output_type": "display_data"
    },
    {
     "data": {
      "application/javascript": "\n        if (window._pyforest_update_imports_cell) { window._pyforest_update_imports_cell('from PIL import Image'); }\n    ",
      "text/plain": [
       "<IPython.core.display.Javascript object>"
      ]
     },
     "metadata": {},
     "output_type": "display_data"
    },
    {
     "data": {
      "application/javascript": "\n        if (window._pyforest_update_imports_cell) { window._pyforest_update_imports_cell('from PIL import Image'); }\n    ",
      "text/plain": [
       "<IPython.core.display.Javascript object>"
      ]
     },
     "metadata": {},
     "output_type": "display_data"
    },
    {
     "data": {
      "application/javascript": "\n        if (window._pyforest_update_imports_cell) { window._pyforest_update_imports_cell('from PIL import Image'); }\n    ",
      "text/plain": [
       "<IPython.core.display.Javascript object>"
      ]
     },
     "metadata": {},
     "output_type": "display_data"
    },
    {
     "data": {
      "application/javascript": "\n        if (window._pyforest_update_imports_cell) { window._pyforest_update_imports_cell('from PIL import Image'); }\n    ",
      "text/plain": [
       "<IPython.core.display.Javascript object>"
      ]
     },
     "metadata": {},
     "output_type": "display_data"
    },
    {
     "data": {
      "application/javascript": "\n        if (window._pyforest_update_imports_cell) { window._pyforest_update_imports_cell('from PIL import Image'); }\n    ",
      "text/plain": [
       "<IPython.core.display.Javascript object>"
      ]
     },
     "metadata": {},
     "output_type": "display_data"
    },
    {
     "name": "stdout",
     "output_type": "stream",
     "text": [
      "MoviePy - Writing audio in /home/kurubal/Documents/Modern Ways/Project/Turkish/Image Audio Video/Result/200 Words/Twogram_Threegram/Threegram_Twogram_Selected/Data/Text_MP3/her.mp3\n"
     ]
    },
    {
     "name": "stderr",
     "output_type": "stream",
     "text": [
      "                                                       "
     ]
    },
    {
     "name": "stdout",
     "output_type": "stream",
     "text": [
      "MoviePy - Done.\n"
     ]
    },
    {
     "name": "stderr",
     "output_type": "stream",
     "text": [
      "\r"
     ]
    },
    {
     "name": "stdout",
     "output_type": "stream",
     "text": [
      "MoviePy - Writing audio in /home/kurubal/Documents/Modern Ways/Project/Turkish/Image Audio Video/Result/200 Words/Twogram_Threegram/Threegram_Twogram_Selected/Data/Text_MP3/şeyi.mp3\n"
     ]
    },
    {
     "name": "stderr",
     "output_type": "stream",
     "text": [
      "                                                       "
     ]
    },
    {
     "name": "stdout",
     "output_type": "stream",
     "text": [
      "MoviePy - Done.\n"
     ]
    },
    {
     "name": "stderr",
     "output_type": "stream",
     "text": [
      "\r"
     ]
    },
    {
     "name": "stdout",
     "output_type": "stream",
     "text": [
      "MoviePy - Writing audio in /home/kurubal/Documents/Modern Ways/Project/Turkish/Image Audio Video/Result/200 Words/Twogram_Threegram/Threegram_Twogram_Selected/Data/Text_MP3/biliyorum.mp3\n"
     ]
    },
    {
     "name": "stderr",
     "output_type": "stream",
     "text": [
      "                                                       "
     ]
    },
    {
     "name": "stdout",
     "output_type": "stream",
     "text": [
      "MoviePy - Done.\n"
     ]
    },
    {
     "name": "stderr",
     "output_type": "stream",
     "text": [
      "\r"
     ]
    },
    {
     "name": "stdout",
     "output_type": "stream",
     "text": [
      "Moviepy - Building video /home/kurubal/Documents/Modern Ways/Project/Turkish/Image Audio Video/Result/200 Words/Twogram_Threegram/Threegram_Twogram_Selected/Result/Image_Video_Audio/her.mp4.\n",
      "MoviePy - Writing audio in herTEMP_MPY_wvf_snd.mp4\n"
     ]
    },
    {
     "name": "stderr",
     "output_type": "stream",
     "text": [
      "                                                       \r"
     ]
    },
    {
     "name": "stdout",
     "output_type": "stream",
     "text": [
      "MoviePy - Done.\n",
      "Moviepy - Writing video /home/kurubal/Documents/Modern Ways/Project/Turkish/Image Audio Video/Result/200 Words/Twogram_Threegram/Threegram_Twogram_Selected/Result/Image_Video_Audio/her.mp4\n",
      "\n"
     ]
    },
    {
     "name": "stderr",
     "output_type": "stream",
     "text": [
      "                                                  "
     ]
    },
    {
     "name": "stdout",
     "output_type": "stream",
     "text": [
      "Moviepy - Done !\n",
      "Moviepy - video ready /home/kurubal/Documents/Modern Ways/Project/Turkish/Image Audio Video/Result/200 Words/Twogram_Threegram/Threegram_Twogram_Selected/Result/Image_Video_Audio/her.mp4\n"
     ]
    },
    {
     "name": "stderr",
     "output_type": "stream",
     "text": [
      "\r"
     ]
    },
    {
     "name": "stdout",
     "output_type": "stream",
     "text": [
      "Moviepy - Building video /home/kurubal/Documents/Modern Ways/Project/Turkish/Image Audio Video/Result/200 Words/Twogram_Threegram/Threegram_Twogram_Selected/Result/Image_Video_Audio/şeyi.mp4.\n",
      "MoviePy - Writing audio in şeyiTEMP_MPY_wvf_snd.mp4\n"
     ]
    },
    {
     "name": "stderr",
     "output_type": "stream",
     "text": [
      "                                                       "
     ]
    },
    {
     "name": "stdout",
     "output_type": "stream",
     "text": [
      "MoviePy - Done.\n",
      "Moviepy - Writing video /home/kurubal/Documents/Modern Ways/Project/Turkish/Image Audio Video/Result/200 Words/Twogram_Threegram/Threegram_Twogram_Selected/Result/Image_Video_Audio/şeyi.mp4\n",
      "\n"
     ]
    },
    {
     "name": "stderr",
     "output_type": "stream",
     "text": [
      "                                                  "
     ]
    },
    {
     "name": "stdout",
     "output_type": "stream",
     "text": [
      "Moviepy - Done !\n",
      "Moviepy - video ready /home/kurubal/Documents/Modern Ways/Project/Turkish/Image Audio Video/Result/200 Words/Twogram_Threegram/Threegram_Twogram_Selected/Result/Image_Video_Audio/şeyi.mp4\n"
     ]
    },
    {
     "name": "stderr",
     "output_type": "stream",
     "text": [
      "\r"
     ]
    },
    {
     "name": "stdout",
     "output_type": "stream",
     "text": [
      "Moviepy - Building video /home/kurubal/Documents/Modern Ways/Project/Turkish/Image Audio Video/Result/200 Words/Twogram_Threegram/Threegram_Twogram_Selected/Result/Image_Video_Audio/biliyorum.mp4.\n",
      "MoviePy - Writing audio in biliyorumTEMP_MPY_wvf_snd.mp4\n"
     ]
    },
    {
     "name": "stderr",
     "output_type": "stream",
     "text": [
      "                                                       "
     ]
    },
    {
     "name": "stdout",
     "output_type": "stream",
     "text": [
      "MoviePy - Done.\n",
      "Moviepy - Writing video /home/kurubal/Documents/Modern Ways/Project/Turkish/Image Audio Video/Result/200 Words/Twogram_Threegram/Threegram_Twogram_Selected/Result/Image_Video_Audio/biliyorum.mp4\n",
      "\n"
     ]
    },
    {
     "name": "stderr",
     "output_type": "stream",
     "text": [
      "                                                  "
     ]
    },
    {
     "name": "stdout",
     "output_type": "stream",
     "text": [
      "Moviepy - Done !\n",
      "Moviepy - video ready /home/kurubal/Documents/Modern Ways/Project/Turkish/Image Audio Video/Result/200 Words/Twogram_Threegram/Threegram_Twogram_Selected/Result/Image_Video_Audio/biliyorum.mp4\n"
     ]
    },
    {
     "name": "stderr",
     "output_type": "stream",
     "text": [
      "\r"
     ]
    },
    {
     "name": "stdout",
     "output_type": "stream",
     "text": [
      "MoviePy - Writing audio in /home/kurubal/Documents/Modern Ways/Project/Turkish/Image Audio Video/Result/200 Words/Twogram_Threegram/Threegram_Twogram_Selected/Data/Text_MP3/her şeyi biliyorum.mp3\n"
     ]
    },
    {
     "name": "stderr",
     "output_type": "stream",
     "text": [
      "                                                       "
     ]
    },
    {
     "name": "stdout",
     "output_type": "stream",
     "text": [
      "MoviePy - Done.\n",
      "Moviepy - Building video /home/kurubal/Documents/Modern Ways/Project/Turkish/Image Audio Video/Result/200 Words/Twogram_Threegram/Threegram_Twogram_Selected/Result/Image_Video_Audio/her şeyi biliyorum.mp4.\n",
      "MoviePy - Writing audio in her şeyi biliyorumTEMP_MPY_wvf_snd.mp4\n"
     ]
    },
    {
     "name": "stderr",
     "output_type": "stream",
     "text": [
      "                                                       "
     ]
    },
    {
     "name": "stdout",
     "output_type": "stream",
     "text": [
      "MoviePy - Done.\n",
      "Moviepy - Writing video /home/kurubal/Documents/Modern Ways/Project/Turkish/Image Audio Video/Result/200 Words/Twogram_Threegram/Threegram_Twogram_Selected/Result/Image_Video_Audio/her şeyi biliyorum.mp4\n",
      "\n"
     ]
    },
    {
     "name": "stderr",
     "output_type": "stream",
     "text": [
      "                                                  \r"
     ]
    },
    {
     "name": "stdout",
     "output_type": "stream",
     "text": [
      "Moviepy - Done !\n",
      "Moviepy - video ready /home/kurubal/Documents/Modern Ways/Project/Turkish/Image Audio Video/Result/200 Words/Twogram_Threegram/Threegram_Twogram_Selected/Result/Image_Video_Audio/her şeyi biliyorum.mp4\n",
      "Moviepy - Building video /home/kurubal/Documents/Modern Ways/Project/Turkish/Image Audio Video/Result/200 Words/Twogram_Threegram/Threegram_Twogram_Selected/Result/Concat_Video/her şeyi biliyorum.mp4.\n",
      "MoviePy - Writing audio in her şeyi biliyorumTEMP_MPY_wvf_snd.mp4\n"
     ]
    },
    {
     "name": "stderr",
     "output_type": "stream",
     "text": [
      "                                                                    \r"
     ]
    },
    {
     "name": "stdout",
     "output_type": "stream",
     "text": [
      "MoviePy - Done.\n",
      "Moviepy - Writing video /home/kurubal/Documents/Modern Ways/Project/Turkish/Image Audio Video/Result/200 Words/Twogram_Threegram/Threegram_Twogram_Selected/Result/Concat_Video/her şeyi biliyorum.mp4\n",
      "\n"
     ]
    },
    {
     "name": "stderr",
     "output_type": "stream",
     "text": [
      "                                                           \r"
     ]
    },
    {
     "name": "stdout",
     "output_type": "stream",
     "text": [
      "Moviepy - Done !\n",
      "Moviepy - video ready /home/kurubal/Documents/Modern Ways/Project/Turkish/Image Audio Video/Result/200 Words/Twogram_Threegram/Threegram_Twogram_Selected/Result/Concat_Video/her şeyi biliyorum.mp4\n"
     ]
    },
    {
     "data": {
      "application/javascript": "\n        if (window._pyforest_update_imports_cell) { window._pyforest_update_imports_cell('from PIL import Image'); }\n    ",
      "text/plain": [
       "<IPython.core.display.Javascript object>"
      ]
     },
     "metadata": {},
     "output_type": "display_data"
    },
    {
     "data": {
      "application/javascript": "\n        if (window._pyforest_update_imports_cell) { window._pyforest_update_imports_cell('from PIL import Image'); }\n    ",
      "text/plain": [
       "<IPython.core.display.Javascript object>"
      ]
     },
     "metadata": {},
     "output_type": "display_data"
    },
    {
     "name": "stdout",
     "output_type": "stream",
     "text": [
      "MoviePy - Writing audio in /home/kurubal/Documents/Modern Ways/Project/Turkish/Image Audio Video/Result/200 Words/Twogram_Threegram/Threegram_Twogram_Selected/Data/Text_MP3/ona.mp3\n"
     ]
    },
    {
     "name": "stderr",
     "output_type": "stream",
     "text": [
      "                                                       "
     ]
    },
    {
     "name": "stdout",
     "output_type": "stream",
     "text": [
      "MoviePy - Done.\n"
     ]
    },
    {
     "name": "stderr",
     "output_type": "stream",
     "text": [
      "\r"
     ]
    },
    {
     "name": "stdout",
     "output_type": "stream",
     "text": [
      "Moviepy - Building video /home/kurubal/Documents/Modern Ways/Project/Turkish/Image Audio Video/Result/200 Words/Twogram_Threegram/Threegram_Twogram_Selected/Result/Image_Video_Audio/ona.mp4.\n",
      "MoviePy - Writing audio in onaTEMP_MPY_wvf_snd.mp4\n"
     ]
    },
    {
     "name": "stderr",
     "output_type": "stream",
     "text": [
      "                                                       \r"
     ]
    },
    {
     "name": "stdout",
     "output_type": "stream",
     "text": [
      "MoviePy - Done.\n",
      "Moviepy - Writing video /home/kurubal/Documents/Modern Ways/Project/Turkish/Image Audio Video/Result/200 Words/Twogram_Threegram/Threegram_Twogram_Selected/Result/Image_Video_Audio/ona.mp4\n",
      "\n"
     ]
    },
    {
     "name": "stderr",
     "output_type": "stream",
     "text": [
      "                                                  "
     ]
    },
    {
     "name": "stdout",
     "output_type": "stream",
     "text": [
      "Moviepy - Done !\n",
      "Moviepy - video ready /home/kurubal/Documents/Modern Ways/Project/Turkish/Image Audio Video/Result/200 Words/Twogram_Threegram/Threegram_Twogram_Selected/Result/Image_Video_Audio/ona.mp4\n"
     ]
    },
    {
     "name": "stderr",
     "output_type": "stream",
     "text": [
      "\r"
     ]
    },
    {
     "name": "stdout",
     "output_type": "stream",
     "text": [
      "MoviePy - Writing audio in /home/kurubal/Documents/Modern Ways/Project/Turkish/Image Audio Video/Result/200 Words/Twogram_Threegram/Threegram_Twogram_Selected/Data/Text_MP3/ona yardım et.mp3\n"
     ]
    },
    {
     "name": "stderr",
     "output_type": "stream",
     "text": [
      "                                                       "
     ]
    },
    {
     "name": "stdout",
     "output_type": "stream",
     "text": [
      "MoviePy - Done.\n",
      "Moviepy - Building video /home/kurubal/Documents/Modern Ways/Project/Turkish/Image Audio Video/Result/200 Words/Twogram_Threegram/Threegram_Twogram_Selected/Result/Image_Video_Audio/ona yardım et.mp4.\n",
      "MoviePy - Writing audio in ona yardım etTEMP_MPY_wvf_snd.mp4\n"
     ]
    },
    {
     "name": "stderr",
     "output_type": "stream",
     "text": [
      "                                                       \r"
     ]
    },
    {
     "name": "stdout",
     "output_type": "stream",
     "text": [
      "MoviePy - Done.\n",
      "Moviepy - Writing video /home/kurubal/Documents/Modern Ways/Project/Turkish/Image Audio Video/Result/200 Words/Twogram_Threegram/Threegram_Twogram_Selected/Result/Image_Video_Audio/ona yardım et.mp4\n",
      "\n"
     ]
    },
    {
     "name": "stderr",
     "output_type": "stream",
     "text": [
      "                                                  \r"
     ]
    },
    {
     "name": "stdout",
     "output_type": "stream",
     "text": [
      "Moviepy - Done !\n",
      "Moviepy - video ready /home/kurubal/Documents/Modern Ways/Project/Turkish/Image Audio Video/Result/200 Words/Twogram_Threegram/Threegram_Twogram_Selected/Result/Image_Video_Audio/ona yardım et.mp4\n",
      "Moviepy - Building video /home/kurubal/Documents/Modern Ways/Project/Turkish/Image Audio Video/Result/200 Words/Twogram_Threegram/Threegram_Twogram_Selected/Result/Concat_Video/ona yardım et.mp4.\n",
      "MoviePy - Writing audio in ona yardım etTEMP_MPY_wvf_snd.mp4\n"
     ]
    },
    {
     "name": "stderr",
     "output_type": "stream",
     "text": [
      "                                                                    \r"
     ]
    },
    {
     "name": "stdout",
     "output_type": "stream",
     "text": [
      "MoviePy - Done.\n",
      "Moviepy - Writing video /home/kurubal/Documents/Modern Ways/Project/Turkish/Image Audio Video/Result/200 Words/Twogram_Threegram/Threegram_Twogram_Selected/Result/Concat_Video/ona yardım et.mp4\n",
      "\n"
     ]
    },
    {
     "name": "stderr",
     "output_type": "stream",
     "text": [
      "                                                            \r"
     ]
    },
    {
     "name": "stdout",
     "output_type": "stream",
     "text": [
      "Moviepy - Done !\n",
      "Moviepy - video ready /home/kurubal/Documents/Modern Ways/Project/Turkish/Image Audio Video/Result/200 Words/Twogram_Threegram/Threegram_Twogram_Selected/Result/Concat_Video/ona yardım et.mp4\n"
     ]
    },
    {
     "data": {
      "application/javascript": "\n        if (window._pyforest_update_imports_cell) { window._pyforest_update_imports_cell('from PIL import Image'); }\n    ",
      "text/plain": [
       "<IPython.core.display.Javascript object>"
      ]
     },
     "metadata": {},
     "output_type": "display_data"
    },
    {
     "data": {
      "application/javascript": "\n        if (window._pyforest_update_imports_cell) { window._pyforest_update_imports_cell('from PIL import Image'); }\n    ",
      "text/plain": [
       "<IPython.core.display.Javascript object>"
      ]
     },
     "metadata": {},
     "output_type": "display_data"
    },
    {
     "data": {
      "application/javascript": "\n        if (window._pyforest_update_imports_cell) { window._pyforest_update_imports_cell('from PIL import Image'); }\n    ",
      "text/plain": [
       "<IPython.core.display.Javascript object>"
      ]
     },
     "metadata": {},
     "output_type": "display_data"
    },
    {
     "data": {
      "application/javascript": "\n        if (window._pyforest_update_imports_cell) { window._pyforest_update_imports_cell('from PIL import Image'); }\n    ",
      "text/plain": [
       "<IPython.core.display.Javascript object>"
      ]
     },
     "metadata": {},
     "output_type": "display_data"
    },
    {
     "name": "stdout",
     "output_type": "stream",
     "text": [
      "MoviePy - Writing audio in /home/kurubal/Documents/Modern Ways/Project/Turkish/Image Audio Video/Result/200 Words/Twogram_Threegram/Threegram_Twogram_Selected/Data/Text_MP3/ister.mp3\n"
     ]
    },
    {
     "name": "stderr",
     "output_type": "stream",
     "text": [
      "                                                       "
     ]
    },
    {
     "name": "stdout",
     "output_type": "stream",
     "text": [
      "MoviePy - Done.\n"
     ]
    },
    {
     "name": "stderr",
     "output_type": "stream",
     "text": [
      "\r"
     ]
    },
    {
     "name": "stdout",
     "output_type": "stream",
     "text": [
      "MoviePy - Writing audio in /home/kurubal/Documents/Modern Ways/Project/Turkish/Image Audio Video/Result/200 Words/Twogram_Threegram/Threegram_Twogram_Selected/Data/Text_MP3/misin.mp3\n"
     ]
    },
    {
     "name": "stderr",
     "output_type": "stream",
     "text": [
      "                                                       "
     ]
    },
    {
     "name": "stdout",
     "output_type": "stream",
     "text": [
      "MoviePy - Done.\n"
     ]
    },
    {
     "name": "stderr",
     "output_type": "stream",
     "text": [
      "\r"
     ]
    },
    {
     "name": "stdout",
     "output_type": "stream",
     "text": [
      "Moviepy - Building video /home/kurubal/Documents/Modern Ways/Project/Turkish/Image Audio Video/Result/200 Words/Twogram_Threegram/Threegram_Twogram_Selected/Result/Image_Video_Audio/ister.mp4.\n",
      "MoviePy - Writing audio in isterTEMP_MPY_wvf_snd.mp4\n"
     ]
    },
    {
     "name": "stderr",
     "output_type": "stream",
     "text": [
      "                                                       \r"
     ]
    },
    {
     "name": "stdout",
     "output_type": "stream",
     "text": [
      "MoviePy - Done.\n",
      "Moviepy - Writing video /home/kurubal/Documents/Modern Ways/Project/Turkish/Image Audio Video/Result/200 Words/Twogram_Threegram/Threegram_Twogram_Selected/Result/Image_Video_Audio/ister.mp4\n",
      "\n"
     ]
    },
    {
     "name": "stderr",
     "output_type": "stream",
     "text": [
      "                                                  \r"
     ]
    },
    {
     "name": "stdout",
     "output_type": "stream",
     "text": [
      "Moviepy - Done !\n",
      "Moviepy - video ready /home/kurubal/Documents/Modern Ways/Project/Turkish/Image Audio Video/Result/200 Words/Twogram_Threegram/Threegram_Twogram_Selected/Result/Image_Video_Audio/ister.mp4\n",
      "Moviepy - Building video /home/kurubal/Documents/Modern Ways/Project/Turkish/Image Audio Video/Result/200 Words/Twogram_Threegram/Threegram_Twogram_Selected/Result/Image_Video_Audio/misin.mp4.\n",
      "MoviePy - Writing audio in misinTEMP_MPY_wvf_snd.mp4\n"
     ]
    },
    {
     "name": "stderr",
     "output_type": "stream",
     "text": [
      "                                                       \r"
     ]
    },
    {
     "name": "stdout",
     "output_type": "stream",
     "text": [
      "MoviePy - Done.\n",
      "Moviepy - Writing video /home/kurubal/Documents/Modern Ways/Project/Turkish/Image Audio Video/Result/200 Words/Twogram_Threegram/Threegram_Twogram_Selected/Result/Image_Video_Audio/misin.mp4\n",
      "\n"
     ]
    },
    {
     "name": "stderr",
     "output_type": "stream",
     "text": [
      "                                                  \r"
     ]
    },
    {
     "name": "stdout",
     "output_type": "stream",
     "text": [
      "Moviepy - Done !\n",
      "Moviepy - video ready /home/kurubal/Documents/Modern Ways/Project/Turkish/Image Audio Video/Result/200 Words/Twogram_Threegram/Threegram_Twogram_Selected/Result/Image_Video_Audio/misin.mp4\n",
      "MoviePy - Writing audio in /home/kurubal/Documents/Modern Ways/Project/Turkish/Image Audio Video/Result/200 Words/Twogram_Threegram/Threegram_Twogram_Selected/Data/Text_MP3/yardım ister misin.mp3\n"
     ]
    },
    {
     "name": "stderr",
     "output_type": "stream",
     "text": [
      "                                                       "
     ]
    },
    {
     "name": "stdout",
     "output_type": "stream",
     "text": [
      "MoviePy - Done.\n",
      "Moviepy - Building video /home/kurubal/Documents/Modern Ways/Project/Turkish/Image Audio Video/Result/200 Words/Twogram_Threegram/Threegram_Twogram_Selected/Result/Image_Video_Audio/yardım ister misin.mp4.\n",
      "MoviePy - Writing audio in yardım ister misinTEMP_MPY_wvf_snd.mp4\n"
     ]
    },
    {
     "name": "stderr",
     "output_type": "stream",
     "text": [
      "                                                       \r"
     ]
    },
    {
     "name": "stdout",
     "output_type": "stream",
     "text": [
      "MoviePy - Done.\n",
      "Moviepy - Writing video /home/kurubal/Documents/Modern Ways/Project/Turkish/Image Audio Video/Result/200 Words/Twogram_Threegram/Threegram_Twogram_Selected/Result/Image_Video_Audio/yardım ister misin.mp4\n",
      "\n"
     ]
    },
    {
     "name": "stderr",
     "output_type": "stream",
     "text": [
      "                                                  \r"
     ]
    },
    {
     "name": "stdout",
     "output_type": "stream",
     "text": [
      "Moviepy - Done !\n",
      "Moviepy - video ready /home/kurubal/Documents/Modern Ways/Project/Turkish/Image Audio Video/Result/200 Words/Twogram_Threegram/Threegram_Twogram_Selected/Result/Image_Video_Audio/yardım ister misin.mp4\n",
      "Moviepy - Building video /home/kurubal/Documents/Modern Ways/Project/Turkish/Image Audio Video/Result/200 Words/Twogram_Threegram/Threegram_Twogram_Selected/Result/Concat_Video/yardım ister misin.mp4.\n",
      "MoviePy - Writing audio in yardım ister misinTEMP_MPY_wvf_snd.mp4\n"
     ]
    },
    {
     "name": "stderr",
     "output_type": "stream",
     "text": [
      "                                                                    \r"
     ]
    },
    {
     "name": "stdout",
     "output_type": "stream",
     "text": [
      "MoviePy - Done.\n",
      "Moviepy - Writing video /home/kurubal/Documents/Modern Ways/Project/Turkish/Image Audio Video/Result/200 Words/Twogram_Threegram/Threegram_Twogram_Selected/Result/Concat_Video/yardım ister misin.mp4\n",
      "\n"
     ]
    },
    {
     "name": "stderr",
     "output_type": "stream",
     "text": [
      "                                                           \r"
     ]
    },
    {
     "name": "stdout",
     "output_type": "stream",
     "text": [
      "Moviepy - Done !\n",
      "Moviepy - video ready /home/kurubal/Documents/Modern Ways/Project/Turkish/Image Audio Video/Result/200 Words/Twogram_Threegram/Threegram_Twogram_Selected/Result/Concat_Video/yardım ister misin.mp4\n"
     ]
    },
    {
     "data": {
      "application/javascript": "\n        if (window._pyforest_update_imports_cell) { window._pyforest_update_imports_cell('from PIL import Image'); }\n    ",
      "text/plain": [
       "<IPython.core.display.Javascript object>"
      ]
     },
     "metadata": {},
     "output_type": "display_data"
    },
    {
     "data": {
      "application/javascript": "\n        if (window._pyforest_update_imports_cell) { window._pyforest_update_imports_cell('from PIL import Image'); }\n    ",
      "text/plain": [
       "<IPython.core.display.Javascript object>"
      ]
     },
     "metadata": {},
     "output_type": "display_data"
    },
    {
     "data": {
      "application/javascript": "\n        if (window._pyforest_update_imports_cell) { window._pyforest_update_imports_cell('from PIL import Image'); }\n    ",
      "text/plain": [
       "<IPython.core.display.Javascript object>"
      ]
     },
     "metadata": {},
     "output_type": "display_data"
    },
    {
     "data": {
      "application/javascript": "\n        if (window._pyforest_update_imports_cell) { window._pyforest_update_imports_cell('from PIL import Image'); }\n    ",
      "text/plain": [
       "<IPython.core.display.Javascript object>"
      ]
     },
     "metadata": {},
     "output_type": "display_data"
    },
    {
     "data": {
      "application/javascript": "\n        if (window._pyforest_update_imports_cell) { window._pyforest_update_imports_cell('from PIL import Image'); }\n    ",
      "text/plain": [
       "<IPython.core.display.Javascript object>"
      ]
     },
     "metadata": {},
     "output_type": "display_data"
    },
    {
     "data": {
      "application/javascript": "\n        if (window._pyforest_update_imports_cell) { window._pyforest_update_imports_cell('from PIL import Image'); }\n    ",
      "text/plain": [
       "<IPython.core.display.Javascript object>"
      ]
     },
     "metadata": {},
     "output_type": "display_data"
    },
    {
     "name": "stdout",
     "output_type": "stream",
     "text": [
      "MoviePy - Writing audio in /home/kurubal/Documents/Modern Ways/Project/Turkish/Image Audio Video/Result/200 Words/Twogram_Threegram/Threegram_Twogram_Selected/Data/Text_MP3/neden.mp3\n"
     ]
    },
    {
     "name": "stderr",
     "output_type": "stream",
     "text": [
      "                                                       "
     ]
    },
    {
     "name": "stdout",
     "output_type": "stream",
     "text": [
      "MoviePy - Done.\n"
     ]
    },
    {
     "name": "stderr",
     "output_type": "stream",
     "text": [
      "\r"
     ]
    },
    {
     "name": "stdout",
     "output_type": "stream",
     "text": [
      "MoviePy - Writing audio in /home/kurubal/Documents/Modern Ways/Project/Turkish/Image Audio Video/Result/200 Words/Twogram_Threegram/Threegram_Twogram_Selected/Data/Text_MP3/böyle.mp3\n"
     ]
    },
    {
     "name": "stderr",
     "output_type": "stream",
     "text": [
      "                                                       "
     ]
    },
    {
     "name": "stdout",
     "output_type": "stream",
     "text": [
      "MoviePy - Done.\n"
     ]
    },
    {
     "name": "stderr",
     "output_type": "stream",
     "text": [
      "\r"
     ]
    },
    {
     "name": "stdout",
     "output_type": "stream",
     "text": [
      "MoviePy - Writing audio in /home/kurubal/Documents/Modern Ways/Project/Turkish/Image Audio Video/Result/200 Words/Twogram_Threegram/Threegram_Twogram_Selected/Data/Text_MP3/oldu.mp3\n"
     ]
    },
    {
     "name": "stderr",
     "output_type": "stream",
     "text": [
      "                                                       "
     ]
    },
    {
     "name": "stdout",
     "output_type": "stream",
     "text": [
      "MoviePy - Done.\n"
     ]
    },
    {
     "name": "stderr",
     "output_type": "stream",
     "text": [
      "\r"
     ]
    },
    {
     "name": "stdout",
     "output_type": "stream",
     "text": [
      "Moviepy - Building video /home/kurubal/Documents/Modern Ways/Project/Turkish/Image Audio Video/Result/200 Words/Twogram_Threegram/Threegram_Twogram_Selected/Result/Image_Video_Audio/neden.mp4.\n",
      "MoviePy - Writing audio in nedenTEMP_MPY_wvf_snd.mp4\n"
     ]
    },
    {
     "name": "stderr",
     "output_type": "stream",
     "text": [
      "                                                       \r"
     ]
    },
    {
     "name": "stdout",
     "output_type": "stream",
     "text": [
      "MoviePy - Done.\n",
      "Moviepy - Writing video /home/kurubal/Documents/Modern Ways/Project/Turkish/Image Audio Video/Result/200 Words/Twogram_Threegram/Threegram_Twogram_Selected/Result/Image_Video_Audio/neden.mp4\n",
      "\n"
     ]
    },
    {
     "name": "stderr",
     "output_type": "stream",
     "text": [
      "                                                  "
     ]
    },
    {
     "name": "stdout",
     "output_type": "stream",
     "text": [
      "Moviepy - Done !\n",
      "Moviepy - video ready /home/kurubal/Documents/Modern Ways/Project/Turkish/Image Audio Video/Result/200 Words/Twogram_Threegram/Threegram_Twogram_Selected/Result/Image_Video_Audio/neden.mp4\n"
     ]
    },
    {
     "name": "stderr",
     "output_type": "stream",
     "text": [
      "\r"
     ]
    },
    {
     "name": "stdout",
     "output_type": "stream",
     "text": [
      "Moviepy - Building video /home/kurubal/Documents/Modern Ways/Project/Turkish/Image Audio Video/Result/200 Words/Twogram_Threegram/Threegram_Twogram_Selected/Result/Image_Video_Audio/böyle.mp4.\n",
      "MoviePy - Writing audio in böyleTEMP_MPY_wvf_snd.mp4\n"
     ]
    },
    {
     "name": "stderr",
     "output_type": "stream",
     "text": [
      "                                                       \r"
     ]
    },
    {
     "name": "stdout",
     "output_type": "stream",
     "text": [
      "MoviePy - Done.\n",
      "Moviepy - Writing video /home/kurubal/Documents/Modern Ways/Project/Turkish/Image Audio Video/Result/200 Words/Twogram_Threegram/Threegram_Twogram_Selected/Result/Image_Video_Audio/böyle.mp4\n",
      "\n"
     ]
    },
    {
     "name": "stderr",
     "output_type": "stream",
     "text": [
      "                                                  \r"
     ]
    },
    {
     "name": "stdout",
     "output_type": "stream",
     "text": [
      "Moviepy - Done !\n",
      "Moviepy - video ready /home/kurubal/Documents/Modern Ways/Project/Turkish/Image Audio Video/Result/200 Words/Twogram_Threegram/Threegram_Twogram_Selected/Result/Image_Video_Audio/böyle.mp4\n",
      "Moviepy - Building video /home/kurubal/Documents/Modern Ways/Project/Turkish/Image Audio Video/Result/200 Words/Twogram_Threegram/Threegram_Twogram_Selected/Result/Image_Video_Audio/oldu.mp4.\n",
      "MoviePy - Writing audio in olduTEMP_MPY_wvf_snd.mp4\n"
     ]
    },
    {
     "name": "stderr",
     "output_type": "stream",
     "text": [
      "                                                       \r"
     ]
    },
    {
     "name": "stdout",
     "output_type": "stream",
     "text": [
      "MoviePy - Done.\n",
      "Moviepy - Writing video /home/kurubal/Documents/Modern Ways/Project/Turkish/Image Audio Video/Result/200 Words/Twogram_Threegram/Threegram_Twogram_Selected/Result/Image_Video_Audio/oldu.mp4\n",
      "\n"
     ]
    },
    {
     "name": "stderr",
     "output_type": "stream",
     "text": [
      "                                                  "
     ]
    },
    {
     "name": "stdout",
     "output_type": "stream",
     "text": [
      "Moviepy - Done !\n",
      "Moviepy - video ready /home/kurubal/Documents/Modern Ways/Project/Turkish/Image Audio Video/Result/200 Words/Twogram_Threegram/Threegram_Twogram_Selected/Result/Image_Video_Audio/oldu.mp4\n"
     ]
    },
    {
     "name": "stderr",
     "output_type": "stream",
     "text": [
      "\r"
     ]
    },
    {
     "name": "stdout",
     "output_type": "stream",
     "text": [
      "MoviePy - Writing audio in /home/kurubal/Documents/Modern Ways/Project/Turkish/Image Audio Video/Result/200 Words/Twogram_Threegram/Threegram_Twogram_Selected/Data/Text_MP3/neden böyle oldu.mp3\n"
     ]
    },
    {
     "name": "stderr",
     "output_type": "stream",
     "text": [
      "                                                       "
     ]
    },
    {
     "name": "stdout",
     "output_type": "stream",
     "text": [
      "MoviePy - Done.\n",
      "Moviepy - Building video /home/kurubal/Documents/Modern Ways/Project/Turkish/Image Audio Video/Result/200 Words/Twogram_Threegram/Threegram_Twogram_Selected/Result/Image_Video_Audio/neden böyle oldu.mp4.\n",
      "MoviePy - Writing audio in neden böyle olduTEMP_MPY_wvf_snd.mp4\n"
     ]
    },
    {
     "name": "stderr",
     "output_type": "stream",
     "text": [
      "                                                       \r"
     ]
    },
    {
     "name": "stdout",
     "output_type": "stream",
     "text": [
      "MoviePy - Done.\n",
      "Moviepy - Writing video /home/kurubal/Documents/Modern Ways/Project/Turkish/Image Audio Video/Result/200 Words/Twogram_Threegram/Threegram_Twogram_Selected/Result/Image_Video_Audio/neden böyle oldu.mp4\n",
      "\n"
     ]
    },
    {
     "name": "stderr",
     "output_type": "stream",
     "text": [
      "                                                  \r"
     ]
    },
    {
     "name": "stdout",
     "output_type": "stream",
     "text": [
      "Moviepy - Done !\n",
      "Moviepy - video ready /home/kurubal/Documents/Modern Ways/Project/Turkish/Image Audio Video/Result/200 Words/Twogram_Threegram/Threegram_Twogram_Selected/Result/Image_Video_Audio/neden böyle oldu.mp4\n",
      "Moviepy - Building video /home/kurubal/Documents/Modern Ways/Project/Turkish/Image Audio Video/Result/200 Words/Twogram_Threegram/Threegram_Twogram_Selected/Result/Concat_Video/neden böyle oldu.mp4.\n",
      "MoviePy - Writing audio in neden böyle olduTEMP_MPY_wvf_snd.mp4\n"
     ]
    },
    {
     "name": "stderr",
     "output_type": "stream",
     "text": [
      "                                                                    \r"
     ]
    },
    {
     "name": "stdout",
     "output_type": "stream",
     "text": [
      "MoviePy - Done.\n",
      "Moviepy - Writing video /home/kurubal/Documents/Modern Ways/Project/Turkish/Image Audio Video/Result/200 Words/Twogram_Threegram/Threegram_Twogram_Selected/Result/Concat_Video/neden böyle oldu.mp4\n",
      "\n"
     ]
    },
    {
     "name": "stderr",
     "output_type": "stream",
     "text": [
      "                                                           \r"
     ]
    },
    {
     "name": "stdout",
     "output_type": "stream",
     "text": [
      "Moviepy - Done !\n",
      "Moviepy - video ready /home/kurubal/Documents/Modern Ways/Project/Turkish/Image Audio Video/Result/200 Words/Twogram_Threegram/Threegram_Twogram_Selected/Result/Concat_Video/neden böyle oldu.mp4\n"
     ]
    },
    {
     "data": {
      "application/javascript": "\n        if (window._pyforest_update_imports_cell) { window._pyforest_update_imports_cell('from PIL import Image'); }\n    ",
      "text/plain": [
       "<IPython.core.display.Javascript object>"
      ]
     },
     "metadata": {},
     "output_type": "display_data"
    },
    {
     "data": {
      "application/javascript": "\n        if (window._pyforest_update_imports_cell) { window._pyforest_update_imports_cell('from PIL import Image'); }\n    ",
      "text/plain": [
       "<IPython.core.display.Javascript object>"
      ]
     },
     "metadata": {},
     "output_type": "display_data"
    },
    {
     "name": "stdout",
     "output_type": "stream",
     "text": [
      "MoviePy - Writing audio in /home/kurubal/Documents/Modern Ways/Project/Turkish/Image Audio Video/Result/200 Words/Twogram_Threegram/Threegram_Twogram_Selected/Data/Text_MP3/sana.mp3\n"
     ]
    },
    {
     "name": "stderr",
     "output_type": "stream",
     "text": [
      "                                                       "
     ]
    },
    {
     "name": "stdout",
     "output_type": "stream",
     "text": [
      "MoviePy - Done.\n"
     ]
    },
    {
     "name": "stderr",
     "output_type": "stream",
     "text": [
      "\r"
     ]
    },
    {
     "name": "stdout",
     "output_type": "stream",
     "text": [
      "Moviepy - Building video /home/kurubal/Documents/Modern Ways/Project/Turkish/Image Audio Video/Result/200 Words/Twogram_Threegram/Threegram_Twogram_Selected/Result/Image_Video_Audio/sana.mp4.\n",
      "MoviePy - Writing audio in sanaTEMP_MPY_wvf_snd.mp4\n"
     ]
    },
    {
     "name": "stderr",
     "output_type": "stream",
     "text": [
      "                                                       \r"
     ]
    },
    {
     "name": "stdout",
     "output_type": "stream",
     "text": [
      "MoviePy - Done.\n",
      "Moviepy - Writing video /home/kurubal/Documents/Modern Ways/Project/Turkish/Image Audio Video/Result/200 Words/Twogram_Threegram/Threegram_Twogram_Selected/Result/Image_Video_Audio/sana.mp4\n",
      "\n"
     ]
    },
    {
     "name": "stderr",
     "output_type": "stream",
     "text": [
      "                                                  "
     ]
    },
    {
     "name": "stdout",
     "output_type": "stream",
     "text": [
      "Moviepy - Done !\n",
      "Moviepy - video ready /home/kurubal/Documents/Modern Ways/Project/Turkish/Image Audio Video/Result/200 Words/Twogram_Threegram/Threegram_Twogram_Selected/Result/Image_Video_Audio/sana.mp4\n"
     ]
    },
    {
     "name": "stderr",
     "output_type": "stream",
     "text": [
      "\r"
     ]
    },
    {
     "name": "stdout",
     "output_type": "stream",
     "text": [
      "MoviePy - Writing audio in /home/kurubal/Documents/Modern Ways/Project/Turkish/Image Audio Video/Result/200 Words/Twogram_Threegram/Threegram_Twogram_Selected/Data/Text_MP3/sana ne oldu.mp3\n"
     ]
    },
    {
     "name": "stderr",
     "output_type": "stream",
     "text": [
      "                                                       "
     ]
    },
    {
     "name": "stdout",
     "output_type": "stream",
     "text": [
      "MoviePy - Done.\n",
      "Moviepy - Building video /home/kurubal/Documents/Modern Ways/Project/Turkish/Image Audio Video/Result/200 Words/Twogram_Threegram/Threegram_Twogram_Selected/Result/Image_Video_Audio/sana ne oldu.mp4.\n",
      "MoviePy - Writing audio in sana ne olduTEMP_MPY_wvf_snd.mp4\n"
     ]
    },
    {
     "name": "stderr",
     "output_type": "stream",
     "text": [
      "                                                       \r"
     ]
    },
    {
     "name": "stdout",
     "output_type": "stream",
     "text": [
      "MoviePy - Done.\n",
      "Moviepy - Writing video /home/kurubal/Documents/Modern Ways/Project/Turkish/Image Audio Video/Result/200 Words/Twogram_Threegram/Threegram_Twogram_Selected/Result/Image_Video_Audio/sana ne oldu.mp4\n",
      "\n"
     ]
    },
    {
     "name": "stderr",
     "output_type": "stream",
     "text": [
      "                                                  \r"
     ]
    },
    {
     "name": "stdout",
     "output_type": "stream",
     "text": [
      "Moviepy - Done !\n",
      "Moviepy - video ready /home/kurubal/Documents/Modern Ways/Project/Turkish/Image Audio Video/Result/200 Words/Twogram_Threegram/Threegram_Twogram_Selected/Result/Image_Video_Audio/sana ne oldu.mp4\n",
      "Moviepy - Building video /home/kurubal/Documents/Modern Ways/Project/Turkish/Image Audio Video/Result/200 Words/Twogram_Threegram/Threegram_Twogram_Selected/Result/Concat_Video/sana ne oldu.mp4.\n",
      "MoviePy - Writing audio in sana ne olduTEMP_MPY_wvf_snd.mp4\n"
     ]
    },
    {
     "name": "stderr",
     "output_type": "stream",
     "text": [
      "                                                                    \r"
     ]
    },
    {
     "name": "stdout",
     "output_type": "stream",
     "text": [
      "MoviePy - Done.\n",
      "Moviepy - Writing video /home/kurubal/Documents/Modern Ways/Project/Turkish/Image Audio Video/Result/200 Words/Twogram_Threegram/Threegram_Twogram_Selected/Result/Concat_Video/sana ne oldu.mp4\n",
      "\n"
     ]
    },
    {
     "name": "stderr",
     "output_type": "stream",
     "text": [
      "                                                          \r"
     ]
    },
    {
     "name": "stdout",
     "output_type": "stream",
     "text": [
      "Moviepy - Done !\n",
      "Moviepy - video ready /home/kurubal/Documents/Modern Ways/Project/Turkish/Image Audio Video/Result/200 Words/Twogram_Threegram/Threegram_Twogram_Selected/Result/Concat_Video/sana ne oldu.mp4\n"
     ]
    },
    {
     "data": {
      "application/javascript": "\n        if (window._pyforest_update_imports_cell) { window._pyforest_update_imports_cell('from PIL import Image'); }\n    ",
      "text/plain": [
       "<IPython.core.display.Javascript object>"
      ]
     },
     "metadata": {},
     "output_type": "display_data"
    },
    {
     "data": {
      "application/javascript": "\n        if (window._pyforest_update_imports_cell) { window._pyforest_update_imports_cell('from PIL import Image'); }\n    ",
      "text/plain": [
       "<IPython.core.display.Javascript object>"
      ]
     },
     "metadata": {},
     "output_type": "display_data"
    },
    {
     "data": {
      "application/javascript": "\n        if (window._pyforest_update_imports_cell) { window._pyforest_update_imports_cell('from PIL import Image'); }\n    ",
      "text/plain": [
       "<IPython.core.display.Javascript object>"
      ]
     },
     "metadata": {},
     "output_type": "display_data"
    },
    {
     "data": {
      "application/javascript": "\n        if (window._pyforest_update_imports_cell) { window._pyforest_update_imports_cell('from PIL import Image'); }\n    ",
      "text/plain": [
       "<IPython.core.display.Javascript object>"
      ]
     },
     "metadata": {},
     "output_type": "display_data"
    },
    {
     "name": "stdout",
     "output_type": "stream",
     "text": [
      "MoviePy - Writing audio in /home/kurubal/Documents/Modern Ways/Project/Turkish/Image Audio Video/Result/200 Words/Twogram_Threegram/Threegram_Twogram_Selected/Data/Text_MP3/kimse.mp3\n"
     ]
    },
    {
     "name": "stderr",
     "output_type": "stream",
     "text": [
      "                                                       "
     ]
    },
    {
     "name": "stdout",
     "output_type": "stream",
     "text": [
      "MoviePy - Done.\n"
     ]
    },
    {
     "name": "stderr",
     "output_type": "stream",
     "text": [
      "\r"
     ]
    },
    {
     "name": "stdout",
     "output_type": "stream",
     "text": [
      "MoviePy - Writing audio in /home/kurubal/Documents/Modern Ways/Project/Turkish/Image Audio Video/Result/200 Words/Twogram_Threegram/Threegram_Twogram_Selected/Data/Text_MP3/mı.mp3\n"
     ]
    },
    {
     "name": "stderr",
     "output_type": "stream",
     "text": [
      "                                                       "
     ]
    },
    {
     "name": "stdout",
     "output_type": "stream",
     "text": [
      "MoviePy - Done.\n"
     ]
    },
    {
     "name": "stderr",
     "output_type": "stream",
     "text": [
      "\r"
     ]
    },
    {
     "name": "stdout",
     "output_type": "stream",
     "text": [
      "Moviepy - Building video /home/kurubal/Documents/Modern Ways/Project/Turkish/Image Audio Video/Result/200 Words/Twogram_Threegram/Threegram_Twogram_Selected/Result/Image_Video_Audio/kimse.mp4.\n",
      "MoviePy - Writing audio in kimseTEMP_MPY_wvf_snd.mp4\n"
     ]
    },
    {
     "name": "stderr",
     "output_type": "stream",
     "text": [
      "                                                       \r"
     ]
    },
    {
     "name": "stdout",
     "output_type": "stream",
     "text": [
      "MoviePy - Done.\n",
      "Moviepy - Writing video /home/kurubal/Documents/Modern Ways/Project/Turkish/Image Audio Video/Result/200 Words/Twogram_Threegram/Threegram_Twogram_Selected/Result/Image_Video_Audio/kimse.mp4\n",
      "\n"
     ]
    },
    {
     "name": "stderr",
     "output_type": "stream",
     "text": [
      "                                                  "
     ]
    },
    {
     "name": "stdout",
     "output_type": "stream",
     "text": [
      "Moviepy - Done !\n",
      "Moviepy - video ready /home/kurubal/Documents/Modern Ways/Project/Turkish/Image Audio Video/Result/200 Words/Twogram_Threegram/Threegram_Twogram_Selected/Result/Image_Video_Audio/kimse.mp4\n"
     ]
    },
    {
     "name": "stderr",
     "output_type": "stream",
     "text": [
      "\r"
     ]
    },
    {
     "name": "stdout",
     "output_type": "stream",
     "text": [
      "Moviepy - Building video /home/kurubal/Documents/Modern Ways/Project/Turkish/Image Audio Video/Result/200 Words/Twogram_Threegram/Threegram_Twogram_Selected/Result/Image_Video_Audio/mı.mp4.\n",
      "MoviePy - Writing audio in mıTEMP_MPY_wvf_snd.mp4\n"
     ]
    },
    {
     "name": "stderr",
     "output_type": "stream",
     "text": [
      "                                                       "
     ]
    },
    {
     "name": "stdout",
     "output_type": "stream",
     "text": [
      "MoviePy - Done.\n",
      "Moviepy - Writing video /home/kurubal/Documents/Modern Ways/Project/Turkish/Image Audio Video/Result/200 Words/Twogram_Threegram/Threegram_Twogram_Selected/Result/Image_Video_Audio/mı.mp4\n",
      "\n"
     ]
    },
    {
     "name": "stderr",
     "output_type": "stream",
     "text": [
      "                                                  "
     ]
    },
    {
     "name": "stdout",
     "output_type": "stream",
     "text": [
      "Moviepy - Done !\n",
      "Moviepy - video ready /home/kurubal/Documents/Modern Ways/Project/Turkish/Image Audio Video/Result/200 Words/Twogram_Threegram/Threegram_Twogram_Selected/Result/Image_Video_Audio/mı.mp4\n"
     ]
    },
    {
     "name": "stderr",
     "output_type": "stream",
     "text": [
      "\r"
     ]
    },
    {
     "name": "stdout",
     "output_type": "stream",
     "text": [
      "MoviePy - Writing audio in /home/kurubal/Documents/Modern Ways/Project/Turkish/Image Audio Video/Result/200 Words/Twogram_Threegram/Threegram_Twogram_Selected/Data/Text_MP3/kimse var mı.mp3\n"
     ]
    },
    {
     "name": "stderr",
     "output_type": "stream",
     "text": [
      "                                                       "
     ]
    },
    {
     "name": "stdout",
     "output_type": "stream",
     "text": [
      "MoviePy - Done.\n",
      "Moviepy - Building video /home/kurubal/Documents/Modern Ways/Project/Turkish/Image Audio Video/Result/200 Words/Twogram_Threegram/Threegram_Twogram_Selected/Result/Image_Video_Audio/kimse var mı.mp4.\n",
      "MoviePy - Writing audio in kimse var mıTEMP_MPY_wvf_snd.mp4\n"
     ]
    },
    {
     "name": "stderr",
     "output_type": "stream",
     "text": [
      "                                                       \r"
     ]
    },
    {
     "name": "stdout",
     "output_type": "stream",
     "text": [
      "MoviePy - Done.\n",
      "Moviepy - Writing video /home/kurubal/Documents/Modern Ways/Project/Turkish/Image Audio Video/Result/200 Words/Twogram_Threegram/Threegram_Twogram_Selected/Result/Image_Video_Audio/kimse var mı.mp4\n",
      "\n"
     ]
    },
    {
     "name": "stderr",
     "output_type": "stream",
     "text": [
      "                                                  \r"
     ]
    },
    {
     "name": "stdout",
     "output_type": "stream",
     "text": [
      "Moviepy - Done !\n",
      "Moviepy - video ready /home/kurubal/Documents/Modern Ways/Project/Turkish/Image Audio Video/Result/200 Words/Twogram_Threegram/Threegram_Twogram_Selected/Result/Image_Video_Audio/kimse var mı.mp4\n",
      "Moviepy - Building video /home/kurubal/Documents/Modern Ways/Project/Turkish/Image Audio Video/Result/200 Words/Twogram_Threegram/Threegram_Twogram_Selected/Result/Concat_Video/kimse var mı.mp4.\n",
      "MoviePy - Writing audio in kimse var mıTEMP_MPY_wvf_snd.mp4\n"
     ]
    },
    {
     "name": "stderr",
     "output_type": "stream",
     "text": [
      "                                                                    \r"
     ]
    },
    {
     "name": "stdout",
     "output_type": "stream",
     "text": [
      "MoviePy - Done.\n",
      "Moviepy - Writing video /home/kurubal/Documents/Modern Ways/Project/Turkish/Image Audio Video/Result/200 Words/Twogram_Threegram/Threegram_Twogram_Selected/Result/Concat_Video/kimse var mı.mp4\n",
      "\n"
     ]
    },
    {
     "name": "stderr",
     "output_type": "stream",
     "text": [
      "                                                           \r"
     ]
    },
    {
     "name": "stdout",
     "output_type": "stream",
     "text": [
      "Moviepy - Done !\n",
      "Moviepy - video ready /home/kurubal/Documents/Modern Ways/Project/Turkish/Image Audio Video/Result/200 Words/Twogram_Threegram/Threegram_Twogram_Selected/Result/Concat_Video/kimse var mı.mp4\n"
     ]
    },
    {
     "data": {
      "application/javascript": "\n        if (window._pyforest_update_imports_cell) { window._pyforest_update_imports_cell('from PIL import Image'); }\n    ",
      "text/plain": [
       "<IPython.core.display.Javascript object>"
      ]
     },
     "metadata": {},
     "output_type": "display_data"
    },
    {
     "data": {
      "application/javascript": "\n        if (window._pyforest_update_imports_cell) { window._pyforest_update_imports_cell('from PIL import Image'); }\n    ",
      "text/plain": [
       "<IPython.core.display.Javascript object>"
      ]
     },
     "metadata": {},
     "output_type": "display_data"
    },
    {
     "data": {
      "application/javascript": "\n        if (window._pyforest_update_imports_cell) { window._pyforest_update_imports_cell('from PIL import Image'); }\n    ",
      "text/plain": [
       "<IPython.core.display.Javascript object>"
      ]
     },
     "metadata": {},
     "output_type": "display_data"
    },
    {
     "data": {
      "application/javascript": "\n        if (window._pyforest_update_imports_cell) { window._pyforest_update_imports_cell('from PIL import Image'); }\n    ",
      "text/plain": [
       "<IPython.core.display.Javascript object>"
      ]
     },
     "metadata": {},
     "output_type": "display_data"
    },
    {
     "data": {
      "application/javascript": "\n        if (window._pyforest_update_imports_cell) { window._pyforest_update_imports_cell('from PIL import Image'); }\n    ",
      "text/plain": [
       "<IPython.core.display.Javascript object>"
      ]
     },
     "metadata": {},
     "output_type": "display_data"
    },
    {
     "data": {
      "application/javascript": "\n        if (window._pyforest_update_imports_cell) { window._pyforest_update_imports_cell('from PIL import Image'); }\n    ",
      "text/plain": [
       "<IPython.core.display.Javascript object>"
      ]
     },
     "metadata": {},
     "output_type": "display_data"
    },
    {
     "name": "stdout",
     "output_type": "stream",
     "text": [
      "MoviePy - Writing audio in /home/kurubal/Documents/Modern Ways/Project/Turkish/Image Audio Video/Result/200 Words/Twogram_Threegram/Threegram_Twogram_Selected/Data/Text_MP3/bu.mp3\n"
     ]
    },
    {
     "name": "stderr",
     "output_type": "stream",
     "text": [
      "                                                       "
     ]
    },
    {
     "name": "stdout",
     "output_type": "stream",
     "text": [
      "MoviePy - Done.\n"
     ]
    },
    {
     "name": "stderr",
     "output_type": "stream",
     "text": [
      "\r"
     ]
    },
    {
     "name": "stdout",
     "output_type": "stream",
     "text": [
      "MoviePy - Writing audio in /home/kurubal/Documents/Modern Ways/Project/Turkish/Image Audio Video/Result/200 Words/Twogram_Threegram/Threegram_Twogram_Selected/Data/Text_MP3/doğru.mp3\n"
     ]
    },
    {
     "name": "stderr",
     "output_type": "stream",
     "text": [
      "                                                       "
     ]
    },
    {
     "name": "stdout",
     "output_type": "stream",
     "text": [
      "MoviePy - Done.\n"
     ]
    },
    {
     "name": "stderr",
     "output_type": "stream",
     "text": [
      "\r"
     ]
    },
    {
     "name": "stdout",
     "output_type": "stream",
     "text": [
      "MoviePy - Writing audio in /home/kurubal/Documents/Modern Ways/Project/Turkish/Image Audio Video/Result/200 Words/Twogram_Threegram/Threegram_Twogram_Selected/Data/Text_MP3/mu.mp3\n"
     ]
    },
    {
     "name": "stderr",
     "output_type": "stream",
     "text": [
      "                                                       "
     ]
    },
    {
     "name": "stdout",
     "output_type": "stream",
     "text": [
      "MoviePy - Done.\n"
     ]
    },
    {
     "name": "stderr",
     "output_type": "stream",
     "text": [
      "\r"
     ]
    },
    {
     "name": "stdout",
     "output_type": "stream",
     "text": [
      "Moviepy - Building video /home/kurubal/Documents/Modern Ways/Project/Turkish/Image Audio Video/Result/200 Words/Twogram_Threegram/Threegram_Twogram_Selected/Result/Image_Video_Audio/bu.mp4.\n",
      "MoviePy - Writing audio in buTEMP_MPY_wvf_snd.mp4\n"
     ]
    },
    {
     "name": "stderr",
     "output_type": "stream",
     "text": [
      "                                                       \r"
     ]
    },
    {
     "name": "stdout",
     "output_type": "stream",
     "text": [
      "MoviePy - Done.\n",
      "Moviepy - Writing video /home/kurubal/Documents/Modern Ways/Project/Turkish/Image Audio Video/Result/200 Words/Twogram_Threegram/Threegram_Twogram_Selected/Result/Image_Video_Audio/bu.mp4\n",
      "\n"
     ]
    },
    {
     "name": "stderr",
     "output_type": "stream",
     "text": [
      "                                                  "
     ]
    },
    {
     "name": "stdout",
     "output_type": "stream",
     "text": [
      "Moviepy - Done !\n",
      "Moviepy - video ready /home/kurubal/Documents/Modern Ways/Project/Turkish/Image Audio Video/Result/200 Words/Twogram_Threegram/Threegram_Twogram_Selected/Result/Image_Video_Audio/bu.mp4\n"
     ]
    },
    {
     "name": "stderr",
     "output_type": "stream",
     "text": [
      "\r"
     ]
    },
    {
     "name": "stdout",
     "output_type": "stream",
     "text": [
      "Moviepy - Building video /home/kurubal/Documents/Modern Ways/Project/Turkish/Image Audio Video/Result/200 Words/Twogram_Threegram/Threegram_Twogram_Selected/Result/Image_Video_Audio/doğru.mp4.\n",
      "MoviePy - Writing audio in doğruTEMP_MPY_wvf_snd.mp4\n"
     ]
    },
    {
     "name": "stderr",
     "output_type": "stream",
     "text": [
      "                                                       "
     ]
    },
    {
     "name": "stdout",
     "output_type": "stream",
     "text": [
      "MoviePy - Done.\n",
      "Moviepy - Writing video /home/kurubal/Documents/Modern Ways/Project/Turkish/Image Audio Video/Result/200 Words/Twogram_Threegram/Threegram_Twogram_Selected/Result/Image_Video_Audio/doğru.mp4\n",
      "\n"
     ]
    },
    {
     "name": "stderr",
     "output_type": "stream",
     "text": [
      "                                                  "
     ]
    },
    {
     "name": "stdout",
     "output_type": "stream",
     "text": [
      "Moviepy - Done !\n",
      "Moviepy - video ready /home/kurubal/Documents/Modern Ways/Project/Turkish/Image Audio Video/Result/200 Words/Twogram_Threegram/Threegram_Twogram_Selected/Result/Image_Video_Audio/doğru.mp4\n"
     ]
    },
    {
     "name": "stderr",
     "output_type": "stream",
     "text": [
      "\r"
     ]
    },
    {
     "name": "stdout",
     "output_type": "stream",
     "text": [
      "Moviepy - Building video /home/kurubal/Documents/Modern Ways/Project/Turkish/Image Audio Video/Result/200 Words/Twogram_Threegram/Threegram_Twogram_Selected/Result/Image_Video_Audio/mu.mp4.\n",
      "MoviePy - Writing audio in muTEMP_MPY_wvf_snd.mp4\n"
     ]
    },
    {
     "name": "stderr",
     "output_type": "stream",
     "text": [
      "                                                       "
     ]
    },
    {
     "name": "stdout",
     "output_type": "stream",
     "text": [
      "MoviePy - Done.\n",
      "Moviepy - Writing video /home/kurubal/Documents/Modern Ways/Project/Turkish/Image Audio Video/Result/200 Words/Twogram_Threegram/Threegram_Twogram_Selected/Result/Image_Video_Audio/mu.mp4\n",
      "\n"
     ]
    },
    {
     "name": "stderr",
     "output_type": "stream",
     "text": [
      "                                                  "
     ]
    },
    {
     "name": "stdout",
     "output_type": "stream",
     "text": [
      "Moviepy - Done !\n",
      "Moviepy - video ready /home/kurubal/Documents/Modern Ways/Project/Turkish/Image Audio Video/Result/200 Words/Twogram_Threegram/Threegram_Twogram_Selected/Result/Image_Video_Audio/mu.mp4\n"
     ]
    },
    {
     "name": "stderr",
     "output_type": "stream",
     "text": [
      "\r"
     ]
    },
    {
     "name": "stdout",
     "output_type": "stream",
     "text": [
      "MoviePy - Writing audio in /home/kurubal/Documents/Modern Ways/Project/Turkish/Image Audio Video/Result/200 Words/Twogram_Threegram/Threegram_Twogram_Selected/Data/Text_MP3/bu doğru mu.mp3\n"
     ]
    },
    {
     "name": "stderr",
     "output_type": "stream",
     "text": [
      "                                                       "
     ]
    },
    {
     "name": "stdout",
     "output_type": "stream",
     "text": [
      "MoviePy - Done.\n",
      "Moviepy - Building video /home/kurubal/Documents/Modern Ways/Project/Turkish/Image Audio Video/Result/200 Words/Twogram_Threegram/Threegram_Twogram_Selected/Result/Image_Video_Audio/bu doğru mu.mp4.\n",
      "MoviePy - Writing audio in bu doğru muTEMP_MPY_wvf_snd.mp4\n"
     ]
    },
    {
     "name": "stderr",
     "output_type": "stream",
     "text": [
      "                                                       \r"
     ]
    },
    {
     "name": "stdout",
     "output_type": "stream",
     "text": [
      "MoviePy - Done.\n",
      "Moviepy - Writing video /home/kurubal/Documents/Modern Ways/Project/Turkish/Image Audio Video/Result/200 Words/Twogram_Threegram/Threegram_Twogram_Selected/Result/Image_Video_Audio/bu doğru mu.mp4\n",
      "\n"
     ]
    },
    {
     "name": "stderr",
     "output_type": "stream",
     "text": [
      "                                                  \r"
     ]
    },
    {
     "name": "stdout",
     "output_type": "stream",
     "text": [
      "Moviepy - Done !\n",
      "Moviepy - video ready /home/kurubal/Documents/Modern Ways/Project/Turkish/Image Audio Video/Result/200 Words/Twogram_Threegram/Threegram_Twogram_Selected/Result/Image_Video_Audio/bu doğru mu.mp4\n",
      "Moviepy - Building video /home/kurubal/Documents/Modern Ways/Project/Turkish/Image Audio Video/Result/200 Words/Twogram_Threegram/Threegram_Twogram_Selected/Result/Concat_Video/bu doğru mu.mp4.\n",
      "MoviePy - Writing audio in bu doğru muTEMP_MPY_wvf_snd.mp4\n"
     ]
    },
    {
     "name": "stderr",
     "output_type": "stream",
     "text": [
      "                                                                    \r"
     ]
    },
    {
     "name": "stdout",
     "output_type": "stream",
     "text": [
      "MoviePy - Done.\n",
      "Moviepy - Writing video /home/kurubal/Documents/Modern Ways/Project/Turkish/Image Audio Video/Result/200 Words/Twogram_Threegram/Threegram_Twogram_Selected/Result/Concat_Video/bu doğru mu.mp4\n",
      "\n"
     ]
    },
    {
     "name": "stderr",
     "output_type": "stream",
     "text": [
      "                                                           \r"
     ]
    },
    {
     "name": "stdout",
     "output_type": "stream",
     "text": [
      "Moviepy - Done !\n",
      "Moviepy - video ready /home/kurubal/Documents/Modern Ways/Project/Turkish/Image Audio Video/Result/200 Words/Twogram_Threegram/Threegram_Twogram_Selected/Result/Concat_Video/bu doğru mu.mp4\n"
     ]
    },
    {
     "data": {
      "application/javascript": "\n        if (window._pyforest_update_imports_cell) { window._pyforest_update_imports_cell('from PIL import Image'); }\n    ",
      "text/plain": [
       "<IPython.core.display.Javascript object>"
      ]
     },
     "metadata": {},
     "output_type": "display_data"
    },
    {
     "data": {
      "application/javascript": "\n        if (window._pyforest_update_imports_cell) { window._pyforest_update_imports_cell('from PIL import Image'); }\n    ",
      "text/plain": [
       "<IPython.core.display.Javascript object>"
      ]
     },
     "metadata": {},
     "output_type": "display_data"
    },
    {
     "data": {
      "application/javascript": "\n        if (window._pyforest_update_imports_cell) { window._pyforest_update_imports_cell('from PIL import Image'); }\n    ",
      "text/plain": [
       "<IPython.core.display.Javascript object>"
      ]
     },
     "metadata": {},
     "output_type": "display_data"
    },
    {
     "data": {
      "application/javascript": "\n        if (window._pyforest_update_imports_cell) { window._pyforest_update_imports_cell('from PIL import Image'); }\n    ",
      "text/plain": [
       "<IPython.core.display.Javascript object>"
      ]
     },
     "metadata": {},
     "output_type": "display_data"
    },
    {
     "name": "stdout",
     "output_type": "stream",
     "text": [
      "MoviePy - Writing audio in /home/kurubal/Documents/Modern Ways/Project/Turkish/Image Audio Video/Result/200 Words/Twogram_Threegram/Threegram_Twogram_Selected/Data/Text_MP3/orada.mp3\n"
     ]
    },
    {
     "name": "stderr",
     "output_type": "stream",
     "text": [
      "                                                       "
     ]
    },
    {
     "name": "stdout",
     "output_type": "stream",
     "text": [
      "MoviePy - Done.\n"
     ]
    },
    {
     "name": "stderr",
     "output_type": "stream",
     "text": [
      "\r"
     ]
    },
    {
     "name": "stdout",
     "output_type": "stream",
     "text": [
      "MoviePy - Writing audio in /home/kurubal/Documents/Modern Ways/Project/Turkish/Image Audio Video/Result/200 Words/Twogram_Threegram/Threegram_Twogram_Selected/Data/Text_MP3/mısın.mp3\n"
     ]
    },
    {
     "name": "stderr",
     "output_type": "stream",
     "text": [
      "                                                       "
     ]
    },
    {
     "name": "stdout",
     "output_type": "stream",
     "text": [
      "MoviePy - Done.\n"
     ]
    },
    {
     "name": "stderr",
     "output_type": "stream",
     "text": [
      "\r"
     ]
    },
    {
     "name": "stdout",
     "output_type": "stream",
     "text": [
      "Moviepy - Building video /home/kurubal/Documents/Modern Ways/Project/Turkish/Image Audio Video/Result/200 Words/Twogram_Threegram/Threegram_Twogram_Selected/Result/Image_Video_Audio/orada.mp4.\n",
      "MoviePy - Writing audio in oradaTEMP_MPY_wvf_snd.mp4\n"
     ]
    },
    {
     "name": "stderr",
     "output_type": "stream",
     "text": [
      "                                                       \r"
     ]
    },
    {
     "name": "stdout",
     "output_type": "stream",
     "text": [
      "MoviePy - Done.\n",
      "Moviepy - Writing video /home/kurubal/Documents/Modern Ways/Project/Turkish/Image Audio Video/Result/200 Words/Twogram_Threegram/Threegram_Twogram_Selected/Result/Image_Video_Audio/orada.mp4\n",
      "\n"
     ]
    },
    {
     "name": "stderr",
     "output_type": "stream",
     "text": [
      "                                                  "
     ]
    },
    {
     "name": "stdout",
     "output_type": "stream",
     "text": [
      "Moviepy - Done !\n",
      "Moviepy - video ready /home/kurubal/Documents/Modern Ways/Project/Turkish/Image Audio Video/Result/200 Words/Twogram_Threegram/Threegram_Twogram_Selected/Result/Image_Video_Audio/orada.mp4\n"
     ]
    },
    {
     "name": "stderr",
     "output_type": "stream",
     "text": [
      "\r"
     ]
    },
    {
     "name": "stdout",
     "output_type": "stream",
     "text": [
      "Moviepy - Building video /home/kurubal/Documents/Modern Ways/Project/Turkish/Image Audio Video/Result/200 Words/Twogram_Threegram/Threegram_Twogram_Selected/Result/Image_Video_Audio/mısın.mp4.\n",
      "MoviePy - Writing audio in mısınTEMP_MPY_wvf_snd.mp4\n"
     ]
    },
    {
     "name": "stderr",
     "output_type": "stream",
     "text": [
      "                                                       "
     ]
    },
    {
     "name": "stdout",
     "output_type": "stream",
     "text": [
      "MoviePy - Done.\n",
      "Moviepy - Writing video /home/kurubal/Documents/Modern Ways/Project/Turkish/Image Audio Video/Result/200 Words/Twogram_Threegram/Threegram_Twogram_Selected/Result/Image_Video_Audio/mısın.mp4\n",
      "\n"
     ]
    },
    {
     "name": "stderr",
     "output_type": "stream",
     "text": [
      "                                                  "
     ]
    },
    {
     "name": "stdout",
     "output_type": "stream",
     "text": [
      "Moviepy - Done !\n",
      "Moviepy - video ready /home/kurubal/Documents/Modern Ways/Project/Turkish/Image Audio Video/Result/200 Words/Twogram_Threegram/Threegram_Twogram_Selected/Result/Image_Video_Audio/mısın.mp4\n"
     ]
    },
    {
     "name": "stderr",
     "output_type": "stream",
     "text": [
      "\r"
     ]
    },
    {
     "name": "stdout",
     "output_type": "stream",
     "text": [
      "MoviePy - Writing audio in /home/kurubal/Documents/Modern Ways/Project/Turkish/Image Audio Video/Result/200 Words/Twogram_Threegram/Threegram_Twogram_Selected/Data/Text_MP3/orada mısın sen.mp3\n"
     ]
    },
    {
     "name": "stderr",
     "output_type": "stream",
     "text": [
      "                                                       "
     ]
    },
    {
     "name": "stdout",
     "output_type": "stream",
     "text": [
      "MoviePy - Done.\n",
      "Moviepy - Building video /home/kurubal/Documents/Modern Ways/Project/Turkish/Image Audio Video/Result/200 Words/Twogram_Threegram/Threegram_Twogram_Selected/Result/Image_Video_Audio/orada mısın sen.mp4.\n",
      "MoviePy - Writing audio in orada mısın senTEMP_MPY_wvf_snd.mp4\n"
     ]
    },
    {
     "name": "stderr",
     "output_type": "stream",
     "text": [
      "                                                       "
     ]
    },
    {
     "name": "stdout",
     "output_type": "stream",
     "text": [
      "MoviePy - Done.\n",
      "Moviepy - Writing video /home/kurubal/Documents/Modern Ways/Project/Turkish/Image Audio Video/Result/200 Words/Twogram_Threegram/Threegram_Twogram_Selected/Result/Image_Video_Audio/orada mısın sen.mp4\n",
      "\n"
     ]
    },
    {
     "name": "stderr",
     "output_type": "stream",
     "text": [
      "                                                  \r"
     ]
    },
    {
     "name": "stdout",
     "output_type": "stream",
     "text": [
      "Moviepy - Done !\n",
      "Moviepy - video ready /home/kurubal/Documents/Modern Ways/Project/Turkish/Image Audio Video/Result/200 Words/Twogram_Threegram/Threegram_Twogram_Selected/Result/Image_Video_Audio/orada mısın sen.mp4\n",
      "Moviepy - Building video /home/kurubal/Documents/Modern Ways/Project/Turkish/Image Audio Video/Result/200 Words/Twogram_Threegram/Threegram_Twogram_Selected/Result/Concat_Video/orada mısın sen.mp4.\n",
      "MoviePy - Writing audio in orada mısın senTEMP_MPY_wvf_snd.mp4\n"
     ]
    },
    {
     "name": "stderr",
     "output_type": "stream",
     "text": [
      "                                                                    \r"
     ]
    },
    {
     "name": "stdout",
     "output_type": "stream",
     "text": [
      "MoviePy - Done.\n",
      "Moviepy - Writing video /home/kurubal/Documents/Modern Ways/Project/Turkish/Image Audio Video/Result/200 Words/Twogram_Threegram/Threegram_Twogram_Selected/Result/Concat_Video/orada mısın sen.mp4\n",
      "\n"
     ]
    },
    {
     "name": "stderr",
     "output_type": "stream",
     "text": [
      "                                                            \r"
     ]
    },
    {
     "name": "stdout",
     "output_type": "stream",
     "text": [
      "Moviepy - Done !\n",
      "Moviepy - video ready /home/kurubal/Documents/Modern Ways/Project/Turkish/Image Audio Video/Result/200 Words/Twogram_Threegram/Threegram_Twogram_Selected/Result/Concat_Video/orada mısın sen.mp4\n"
     ]
    },
    {
     "data": {
      "application/javascript": "\n        if (window._pyforest_update_imports_cell) { window._pyforest_update_imports_cell('from PIL import Image'); }\n    ",
      "text/plain": [
       "<IPython.core.display.Javascript object>"
      ]
     },
     "metadata": {},
     "output_type": "display_data"
    },
    {
     "data": {
      "application/javascript": "\n        if (window._pyforest_update_imports_cell) { window._pyforest_update_imports_cell('from PIL import Image'); }\n    ",
      "text/plain": [
       "<IPython.core.display.Javascript object>"
      ]
     },
     "metadata": {},
     "output_type": "display_data"
    },
    {
     "data": {
      "application/javascript": "\n        if (window._pyforest_update_imports_cell) { window._pyforest_update_imports_cell('from PIL import Image'); }\n    ",
      "text/plain": [
       "<IPython.core.display.Javascript object>"
      ]
     },
     "metadata": {},
     "output_type": "display_data"
    },
    {
     "data": {
      "application/javascript": "\n        if (window._pyforest_update_imports_cell) { window._pyforest_update_imports_cell('from PIL import Image'); }\n    ",
      "text/plain": [
       "<IPython.core.display.Javascript object>"
      ]
     },
     "metadata": {},
     "output_type": "display_data"
    },
    {
     "name": "stdout",
     "output_type": "stream",
     "text": [
      "MoviePy - Writing audio in /home/kurubal/Documents/Modern Ways/Project/Turkish/Image Audio Video/Result/200 Words/Twogram_Threegram/Threegram_Twogram_Selected/Data/Text_MP3/neler.mp3\n"
     ]
    },
    {
     "name": "stderr",
     "output_type": "stream",
     "text": [
      "                                                       "
     ]
    },
    {
     "name": "stdout",
     "output_type": "stream",
     "text": [
      "MoviePy - Done.\n"
     ]
    },
    {
     "name": "stderr",
     "output_type": "stream",
     "text": [
      "\r"
     ]
    },
    {
     "name": "stdout",
     "output_type": "stream",
     "text": [
      "MoviePy - Writing audio in /home/kurubal/Documents/Modern Ways/Project/Turkish/Image Audio Video/Result/200 Words/Twogram_Threegram/Threegram_Twogram_Selected/Data/Text_MP3/oluyor.mp3\n"
     ]
    },
    {
     "name": "stderr",
     "output_type": "stream",
     "text": [
      "                                                       "
     ]
    },
    {
     "name": "stdout",
     "output_type": "stream",
     "text": [
      "MoviePy - Done.\n"
     ]
    },
    {
     "name": "stderr",
     "output_type": "stream",
     "text": [
      "\r"
     ]
    },
    {
     "name": "stdout",
     "output_type": "stream",
     "text": [
      "Moviepy - Building video /home/kurubal/Documents/Modern Ways/Project/Turkish/Image Audio Video/Result/200 Words/Twogram_Threegram/Threegram_Twogram_Selected/Result/Image_Video_Audio/neler.mp4.\n",
      "MoviePy - Writing audio in nelerTEMP_MPY_wvf_snd.mp4\n"
     ]
    },
    {
     "name": "stderr",
     "output_type": "stream",
     "text": [
      "                                                       \r"
     ]
    },
    {
     "name": "stdout",
     "output_type": "stream",
     "text": [
      "MoviePy - Done.\n",
      "Moviepy - Writing video /home/kurubal/Documents/Modern Ways/Project/Turkish/Image Audio Video/Result/200 Words/Twogram_Threegram/Threegram_Twogram_Selected/Result/Image_Video_Audio/neler.mp4\n",
      "\n"
     ]
    },
    {
     "name": "stderr",
     "output_type": "stream",
     "text": [
      "                                                  \r"
     ]
    },
    {
     "name": "stdout",
     "output_type": "stream",
     "text": [
      "Moviepy - Done !\n",
      "Moviepy - video ready /home/kurubal/Documents/Modern Ways/Project/Turkish/Image Audio Video/Result/200 Words/Twogram_Threegram/Threegram_Twogram_Selected/Result/Image_Video_Audio/neler.mp4\n",
      "Moviepy - Building video /home/kurubal/Documents/Modern Ways/Project/Turkish/Image Audio Video/Result/200 Words/Twogram_Threegram/Threegram_Twogram_Selected/Result/Image_Video_Audio/oluyor.mp4.\n",
      "MoviePy - Writing audio in oluyorTEMP_MPY_wvf_snd.mp4\n"
     ]
    },
    {
     "name": "stderr",
     "output_type": "stream",
     "text": [
      "                                                       \r"
     ]
    },
    {
     "name": "stdout",
     "output_type": "stream",
     "text": [
      "MoviePy - Done.\n",
      "Moviepy - Writing video /home/kurubal/Documents/Modern Ways/Project/Turkish/Image Audio Video/Result/200 Words/Twogram_Threegram/Threegram_Twogram_Selected/Result/Image_Video_Audio/oluyor.mp4\n",
      "\n"
     ]
    },
    {
     "name": "stderr",
     "output_type": "stream",
     "text": [
      "                                                  \r"
     ]
    },
    {
     "name": "stdout",
     "output_type": "stream",
     "text": [
      "Moviepy - Done !\n",
      "Moviepy - video ready /home/kurubal/Documents/Modern Ways/Project/Turkish/Image Audio Video/Result/200 Words/Twogram_Threegram/Threegram_Twogram_Selected/Result/Image_Video_Audio/oluyor.mp4\n",
      "MoviePy - Writing audio in /home/kurubal/Documents/Modern Ways/Project/Turkish/Image Audio Video/Result/200 Words/Twogram_Threegram/Threegram_Twogram_Selected/Data/Text_MP3/neler oluyor orada.mp3\n"
     ]
    },
    {
     "name": "stderr",
     "output_type": "stream",
     "text": [
      "                                                       "
     ]
    },
    {
     "name": "stdout",
     "output_type": "stream",
     "text": [
      "MoviePy - Done.\n"
     ]
    },
    {
     "name": "stderr",
     "output_type": "stream",
     "text": [
      "\r"
     ]
    },
    {
     "name": "stdout",
     "output_type": "stream",
     "text": [
      "Moviepy - Building video /home/kurubal/Documents/Modern Ways/Project/Turkish/Image Audio Video/Result/200 Words/Twogram_Threegram/Threegram_Twogram_Selected/Result/Image_Video_Audio/neler oluyor orada.mp4.\n",
      "MoviePy - Writing audio in neler oluyor oradaTEMP_MPY_wvf_snd.mp4\n"
     ]
    },
    {
     "name": "stderr",
     "output_type": "stream",
     "text": [
      "                                                       \r"
     ]
    },
    {
     "name": "stdout",
     "output_type": "stream",
     "text": [
      "MoviePy - Done.\n",
      "Moviepy - Writing video /home/kurubal/Documents/Modern Ways/Project/Turkish/Image Audio Video/Result/200 Words/Twogram_Threegram/Threegram_Twogram_Selected/Result/Image_Video_Audio/neler oluyor orada.mp4\n",
      "\n"
     ]
    },
    {
     "name": "stderr",
     "output_type": "stream",
     "text": [
      "                                                  \r"
     ]
    },
    {
     "name": "stdout",
     "output_type": "stream",
     "text": [
      "Moviepy - Done !\n",
      "Moviepy - video ready /home/kurubal/Documents/Modern Ways/Project/Turkish/Image Audio Video/Result/200 Words/Twogram_Threegram/Threegram_Twogram_Selected/Result/Image_Video_Audio/neler oluyor orada.mp4\n",
      "Moviepy - Building video /home/kurubal/Documents/Modern Ways/Project/Turkish/Image Audio Video/Result/200 Words/Twogram_Threegram/Threegram_Twogram_Selected/Result/Concat_Video/neler oluyor orada.mp4.\n",
      "MoviePy - Writing audio in neler oluyor oradaTEMP_MPY_wvf_snd.mp4\n"
     ]
    },
    {
     "name": "stderr",
     "output_type": "stream",
     "text": [
      "                                                                    \r"
     ]
    },
    {
     "name": "stdout",
     "output_type": "stream",
     "text": [
      "MoviePy - Done.\n",
      "Moviepy - Writing video /home/kurubal/Documents/Modern Ways/Project/Turkish/Image Audio Video/Result/200 Words/Twogram_Threegram/Threegram_Twogram_Selected/Result/Concat_Video/neler oluyor orada.mp4\n",
      "\n"
     ]
    },
    {
     "name": "stderr",
     "output_type": "stream",
     "text": [
      "                                                           \r"
     ]
    },
    {
     "name": "stdout",
     "output_type": "stream",
     "text": [
      "Moviepy - Done !\n",
      "Moviepy - video ready /home/kurubal/Documents/Modern Ways/Project/Turkish/Image Audio Video/Result/200 Words/Twogram_Threegram/Threegram_Twogram_Selected/Result/Concat_Video/neler oluyor orada.mp4\n"
     ]
    },
    {
     "data": {
      "application/javascript": "\n        if (window._pyforest_update_imports_cell) { window._pyforest_update_imports_cell('from PIL import Image'); }\n    ",
      "text/plain": [
       "<IPython.core.display.Javascript object>"
      ]
     },
     "metadata": {},
     "output_type": "display_data"
    },
    {
     "data": {
      "application/javascript": "\n        if (window._pyforest_update_imports_cell) { window._pyforest_update_imports_cell('from PIL import Image'); }\n    ",
      "text/plain": [
       "<IPython.core.display.Javascript object>"
      ]
     },
     "metadata": {},
     "output_type": "display_data"
    },
    {
     "data": {
      "application/javascript": "\n        if (window._pyforest_update_imports_cell) { window._pyforest_update_imports_cell('from PIL import Image'); }\n    ",
      "text/plain": [
       "<IPython.core.display.Javascript object>"
      ]
     },
     "metadata": {},
     "output_type": "display_data"
    },
    {
     "data": {
      "application/javascript": "\n        if (window._pyforest_update_imports_cell) { window._pyforest_update_imports_cell('from PIL import Image'); }\n    ",
      "text/plain": [
       "<IPython.core.display.Javascript object>"
      ]
     },
     "metadata": {},
     "output_type": "display_data"
    },
    {
     "name": "stdout",
     "output_type": "stream",
     "text": [
      "MoviePy - Writing audio in /home/kurubal/Documents/Modern Ways/Project/Turkish/Image Audio Video/Result/200 Words/Twogram_Threegram/Threegram_Twogram_Selected/Data/Text_MP3/bir.mp3\n"
     ]
    },
    {
     "name": "stderr",
     "output_type": "stream",
     "text": [
      "                                                       "
     ]
    },
    {
     "name": "stdout",
     "output_type": "stream",
     "text": [
      "MoviePy - Done.\n"
     ]
    },
    {
     "name": "stderr",
     "output_type": "stream",
     "text": [
      "\r"
     ]
    },
    {
     "name": "stdout",
     "output_type": "stream",
     "text": [
      "MoviePy - Writing audio in /home/kurubal/Documents/Modern Ways/Project/Turkish/Image Audio Video/Result/200 Words/Twogram_Threegram/Threegram_Twogram_Selected/Data/Text_MP3/şey.mp3\n"
     ]
    },
    {
     "name": "stderr",
     "output_type": "stream",
     "text": [
      "                                                       "
     ]
    },
    {
     "name": "stdout",
     "output_type": "stream",
     "text": [
      "MoviePy - Done.\n"
     ]
    },
    {
     "name": "stderr",
     "output_type": "stream",
     "text": [
      "\r"
     ]
    },
    {
     "name": "stdout",
     "output_type": "stream",
     "text": [
      "Moviepy - Building video /home/kurubal/Documents/Modern Ways/Project/Turkish/Image Audio Video/Result/200 Words/Twogram_Threegram/Threegram_Twogram_Selected/Result/Image_Video_Audio/bir.mp4.\n",
      "MoviePy - Writing audio in birTEMP_MPY_wvf_snd.mp4\n"
     ]
    },
    {
     "name": "stderr",
     "output_type": "stream",
     "text": [
      "                                                       \r"
     ]
    },
    {
     "name": "stdout",
     "output_type": "stream",
     "text": [
      "MoviePy - Done.\n",
      "Moviepy - Writing video /home/kurubal/Documents/Modern Ways/Project/Turkish/Image Audio Video/Result/200 Words/Twogram_Threegram/Threegram_Twogram_Selected/Result/Image_Video_Audio/bir.mp4\n",
      "\n"
     ]
    },
    {
     "name": "stderr",
     "output_type": "stream",
     "text": [
      "                                                  "
     ]
    },
    {
     "name": "stdout",
     "output_type": "stream",
     "text": [
      "Moviepy - Done !\n",
      "Moviepy - video ready /home/kurubal/Documents/Modern Ways/Project/Turkish/Image Audio Video/Result/200 Words/Twogram_Threegram/Threegram_Twogram_Selected/Result/Image_Video_Audio/bir.mp4\n"
     ]
    },
    {
     "name": "stderr",
     "output_type": "stream",
     "text": [
      "\r"
     ]
    },
    {
     "name": "stdout",
     "output_type": "stream",
     "text": [
      "Moviepy - Building video /home/kurubal/Documents/Modern Ways/Project/Turkish/Image Audio Video/Result/200 Words/Twogram_Threegram/Threegram_Twogram_Selected/Result/Image_Video_Audio/şey.mp4.\n",
      "MoviePy - Writing audio in şeyTEMP_MPY_wvf_snd.mp4\n"
     ]
    },
    {
     "name": "stderr",
     "output_type": "stream",
     "text": [
      "                                                       "
     ]
    },
    {
     "name": "stdout",
     "output_type": "stream",
     "text": [
      "MoviePy - Done.\n",
      "Moviepy - Writing video /home/kurubal/Documents/Modern Ways/Project/Turkish/Image Audio Video/Result/200 Words/Twogram_Threegram/Threegram_Twogram_Selected/Result/Image_Video_Audio/şey.mp4\n",
      "\n"
     ]
    },
    {
     "name": "stderr",
     "output_type": "stream",
     "text": [
      "                                                  \r"
     ]
    },
    {
     "name": "stdout",
     "output_type": "stream",
     "text": [
      "Moviepy - Done !\n",
      "Moviepy - video ready /home/kurubal/Documents/Modern Ways/Project/Turkish/Image Audio Video/Result/200 Words/Twogram_Threegram/Threegram_Twogram_Selected/Result/Image_Video_Audio/şey.mp4\n",
      "MoviePy - Writing audio in /home/kurubal/Documents/Modern Ways/Project/Turkish/Image Audio Video/Result/200 Words/Twogram_Threegram/Threegram_Twogram_Selected/Data/Text_MP3/bir şey var.mp3\n"
     ]
    },
    {
     "name": "stderr",
     "output_type": "stream",
     "text": [
      "                                                       "
     ]
    },
    {
     "name": "stdout",
     "output_type": "stream",
     "text": [
      "MoviePy - Done.\n"
     ]
    },
    {
     "name": "stderr",
     "output_type": "stream",
     "text": [
      "\r"
     ]
    },
    {
     "name": "stdout",
     "output_type": "stream",
     "text": [
      "Moviepy - Building video /home/kurubal/Documents/Modern Ways/Project/Turkish/Image Audio Video/Result/200 Words/Twogram_Threegram/Threegram_Twogram_Selected/Result/Image_Video_Audio/bir şey var.mp4.\n",
      "MoviePy - Writing audio in bir şey varTEMP_MPY_wvf_snd.mp4\n"
     ]
    },
    {
     "name": "stderr",
     "output_type": "stream",
     "text": [
      "                                                       \r"
     ]
    },
    {
     "name": "stdout",
     "output_type": "stream",
     "text": [
      "MoviePy - Done.\n",
      "Moviepy - Writing video /home/kurubal/Documents/Modern Ways/Project/Turkish/Image Audio Video/Result/200 Words/Twogram_Threegram/Threegram_Twogram_Selected/Result/Image_Video_Audio/bir şey var.mp4\n",
      "\n"
     ]
    },
    {
     "name": "stderr",
     "output_type": "stream",
     "text": [
      "                                                  \r"
     ]
    },
    {
     "name": "stdout",
     "output_type": "stream",
     "text": [
      "Moviepy - Done !\n",
      "Moviepy - video ready /home/kurubal/Documents/Modern Ways/Project/Turkish/Image Audio Video/Result/200 Words/Twogram_Threegram/Threegram_Twogram_Selected/Result/Image_Video_Audio/bir şey var.mp4\n",
      "Moviepy - Building video /home/kurubal/Documents/Modern Ways/Project/Turkish/Image Audio Video/Result/200 Words/Twogram_Threegram/Threegram_Twogram_Selected/Result/Concat_Video/bir şey var.mp4.\n",
      "MoviePy - Writing audio in bir şey varTEMP_MPY_wvf_snd.mp4\n"
     ]
    },
    {
     "name": "stderr",
     "output_type": "stream",
     "text": [
      "                                                                    \r"
     ]
    },
    {
     "name": "stdout",
     "output_type": "stream",
     "text": [
      "MoviePy - Done.\n",
      "Moviepy - Writing video /home/kurubal/Documents/Modern Ways/Project/Turkish/Image Audio Video/Result/200 Words/Twogram_Threegram/Threegram_Twogram_Selected/Result/Concat_Video/bir şey var.mp4\n",
      "\n"
     ]
    },
    {
     "name": "stderr",
     "output_type": "stream",
     "text": [
      "                                                          \r"
     ]
    },
    {
     "name": "stdout",
     "output_type": "stream",
     "text": [
      "Moviepy - Done !\n",
      "Moviepy - video ready /home/kurubal/Documents/Modern Ways/Project/Turkish/Image Audio Video/Result/200 Words/Twogram_Threegram/Threegram_Twogram_Selected/Result/Concat_Video/bir şey var.mp4\n"
     ]
    },
    {
     "data": {
      "application/javascript": "\n        if (window._pyforest_update_imports_cell) { window._pyforest_update_imports_cell('from PIL import Image'); }\n    ",
      "text/plain": [
       "<IPython.core.display.Javascript object>"
      ]
     },
     "metadata": {},
     "output_type": "display_data"
    },
    {
     "data": {
      "application/javascript": "\n        if (window._pyforest_update_imports_cell) { window._pyforest_update_imports_cell('from PIL import Image'); }\n    ",
      "text/plain": [
       "<IPython.core.display.Javascript object>"
      ]
     },
     "metadata": {},
     "output_type": "display_data"
    },
    {
     "data": {
      "application/javascript": "\n        if (window._pyforest_update_imports_cell) { window._pyforest_update_imports_cell('from PIL import Image'); }\n    ",
      "text/plain": [
       "<IPython.core.display.Javascript object>"
      ]
     },
     "metadata": {},
     "output_type": "display_data"
    },
    {
     "data": {
      "application/javascript": "\n        if (window._pyforest_update_imports_cell) { window._pyforest_update_imports_cell('from PIL import Image'); }\n    ",
      "text/plain": [
       "<IPython.core.display.Javascript object>"
      ]
     },
     "metadata": {},
     "output_type": "display_data"
    },
    {
     "name": "stdout",
     "output_type": "stream",
     "text": [
      "MoviePy - Writing audio in /home/kurubal/Documents/Modern Ways/Project/Turkish/Image Audio Video/Result/200 Words/Twogram_Threegram/Threegram_Twogram_Selected/Data/Text_MP3/çok.mp3\n"
     ]
    },
    {
     "name": "stderr",
     "output_type": "stream",
     "text": [
      "                                                       "
     ]
    },
    {
     "name": "stdout",
     "output_type": "stream",
     "text": [
      "MoviePy - Done.\n"
     ]
    },
    {
     "name": "stderr",
     "output_type": "stream",
     "text": [
      "\r"
     ]
    },
    {
     "name": "stdout",
     "output_type": "stream",
     "text": [
      "MoviePy - Writing audio in /home/kurubal/Documents/Modern Ways/Project/Turkish/Image Audio Video/Result/200 Words/Twogram_Threegram/Threegram_Twogram_Selected/Data/Text_MP3/iyi.mp3\n"
     ]
    },
    {
     "name": "stderr",
     "output_type": "stream",
     "text": [
      "                                                       "
     ]
    },
    {
     "name": "stdout",
     "output_type": "stream",
     "text": [
      "MoviePy - Done.\n"
     ]
    },
    {
     "name": "stderr",
     "output_type": "stream",
     "text": [
      "\r"
     ]
    },
    {
     "name": "stdout",
     "output_type": "stream",
     "text": [
      "Moviepy - Building video /home/kurubal/Documents/Modern Ways/Project/Turkish/Image Audio Video/Result/200 Words/Twogram_Threegram/Threegram_Twogram_Selected/Result/Image_Video_Audio/çok.mp4.\n",
      "MoviePy - Writing audio in çokTEMP_MPY_wvf_snd.mp4\n"
     ]
    },
    {
     "name": "stderr",
     "output_type": "stream",
     "text": [
      "                                                       \r"
     ]
    },
    {
     "name": "stdout",
     "output_type": "stream",
     "text": [
      "MoviePy - Done.\n",
      "Moviepy - Writing video /home/kurubal/Documents/Modern Ways/Project/Turkish/Image Audio Video/Result/200 Words/Twogram_Threegram/Threegram_Twogram_Selected/Result/Image_Video_Audio/çok.mp4\n",
      "\n"
     ]
    },
    {
     "name": "stderr",
     "output_type": "stream",
     "text": [
      "                                                  \r"
     ]
    },
    {
     "name": "stdout",
     "output_type": "stream",
     "text": [
      "Moviepy - Done !\n",
      "Moviepy - video ready /home/kurubal/Documents/Modern Ways/Project/Turkish/Image Audio Video/Result/200 Words/Twogram_Threegram/Threegram_Twogram_Selected/Result/Image_Video_Audio/çok.mp4\n",
      "Moviepy - Building video /home/kurubal/Documents/Modern Ways/Project/Turkish/Image Audio Video/Result/200 Words/Twogram_Threegram/Threegram_Twogram_Selected/Result/Image_Video_Audio/iyi.mp4.\n",
      "MoviePy - Writing audio in iyiTEMP_MPY_wvf_snd.mp4\n"
     ]
    },
    {
     "name": "stderr",
     "output_type": "stream",
     "text": [
      "                                                       "
     ]
    },
    {
     "name": "stdout",
     "output_type": "stream",
     "text": [
      "MoviePy - Done.\n",
      "Moviepy - Writing video /home/kurubal/Documents/Modern Ways/Project/Turkish/Image Audio Video/Result/200 Words/Twogram_Threegram/Threegram_Twogram_Selected/Result/Image_Video_Audio/iyi.mp4\n",
      "\n"
     ]
    },
    {
     "name": "stderr",
     "output_type": "stream",
     "text": [
      "                                                  "
     ]
    },
    {
     "name": "stdout",
     "output_type": "stream",
     "text": [
      "Moviepy - Done !\n",
      "Moviepy - video ready /home/kurubal/Documents/Modern Ways/Project/Turkish/Image Audio Video/Result/200 Words/Twogram_Threegram/Threegram_Twogram_Selected/Result/Image_Video_Audio/iyi.mp4\n"
     ]
    },
    {
     "name": "stderr",
     "output_type": "stream",
     "text": [
      "\r"
     ]
    },
    {
     "name": "stdout",
     "output_type": "stream",
     "text": [
      "MoviePy - Writing audio in /home/kurubal/Documents/Modern Ways/Project/Turkish/Image Audio Video/Result/200 Words/Twogram_Threegram/Threegram_Twogram_Selected/Data/Text_MP3/bu çok iyi.mp3\n"
     ]
    },
    {
     "name": "stderr",
     "output_type": "stream",
     "text": [
      "                                                       "
     ]
    },
    {
     "name": "stdout",
     "output_type": "stream",
     "text": [
      "MoviePy - Done.\n",
      "Moviepy - Building video /home/kurubal/Documents/Modern Ways/Project/Turkish/Image Audio Video/Result/200 Words/Twogram_Threegram/Threegram_Twogram_Selected/Result/Image_Video_Audio/bu çok iyi.mp4.\n",
      "MoviePy - Writing audio in bu çok iyiTEMP_MPY_wvf_snd.mp4\n"
     ]
    },
    {
     "name": "stderr",
     "output_type": "stream",
     "text": [
      "                                                       \r"
     ]
    },
    {
     "name": "stdout",
     "output_type": "stream",
     "text": [
      "MoviePy - Done.\n",
      "Moviepy - Writing video /home/kurubal/Documents/Modern Ways/Project/Turkish/Image Audio Video/Result/200 Words/Twogram_Threegram/Threegram_Twogram_Selected/Result/Image_Video_Audio/bu çok iyi.mp4\n",
      "\n"
     ]
    },
    {
     "name": "stderr",
     "output_type": "stream",
     "text": [
      "                                                  \r"
     ]
    },
    {
     "name": "stdout",
     "output_type": "stream",
     "text": [
      "Moviepy - Done !\n",
      "Moviepy - video ready /home/kurubal/Documents/Modern Ways/Project/Turkish/Image Audio Video/Result/200 Words/Twogram_Threegram/Threegram_Twogram_Selected/Result/Image_Video_Audio/bu çok iyi.mp4\n",
      "Moviepy - Building video /home/kurubal/Documents/Modern Ways/Project/Turkish/Image Audio Video/Result/200 Words/Twogram_Threegram/Threegram_Twogram_Selected/Result/Concat_Video/bu çok iyi.mp4.\n",
      "MoviePy - Writing audio in bu çok iyiTEMP_MPY_wvf_snd.mp4\n"
     ]
    },
    {
     "name": "stderr",
     "output_type": "stream",
     "text": [
      "                                                                    \r"
     ]
    },
    {
     "name": "stdout",
     "output_type": "stream",
     "text": [
      "MoviePy - Done.\n",
      "Moviepy - Writing video /home/kurubal/Documents/Modern Ways/Project/Turkish/Image Audio Video/Result/200 Words/Twogram_Threegram/Threegram_Twogram_Selected/Result/Concat_Video/bu çok iyi.mp4\n",
      "\n"
     ]
    },
    {
     "name": "stderr",
     "output_type": "stream",
     "text": [
      "                                                          \r"
     ]
    },
    {
     "name": "stdout",
     "output_type": "stream",
     "text": [
      "Moviepy - Done !\n",
      "Moviepy - video ready /home/kurubal/Documents/Modern Ways/Project/Turkish/Image Audio Video/Result/200 Words/Twogram_Threegram/Threegram_Twogram_Selected/Result/Concat_Video/bu çok iyi.mp4\n"
     ]
    },
    {
     "data": {
      "application/javascript": "\n        if (window._pyforest_update_imports_cell) { window._pyforest_update_imports_cell('from PIL import Image'); }\n    ",
      "text/plain": [
       "<IPython.core.display.Javascript object>"
      ]
     },
     "metadata": {},
     "output_type": "display_data"
    },
    {
     "data": {
      "application/javascript": "\n        if (window._pyforest_update_imports_cell) { window._pyforest_update_imports_cell('from PIL import Image'); }\n    ",
      "text/plain": [
       "<IPython.core.display.Javascript object>"
      ]
     },
     "metadata": {},
     "output_type": "display_data"
    },
    {
     "data": {
      "application/javascript": "\n        if (window._pyforest_update_imports_cell) { window._pyforest_update_imports_cell('from PIL import Image'); }\n    ",
      "text/plain": [
       "<IPython.core.display.Javascript object>"
      ]
     },
     "metadata": {},
     "output_type": "display_data"
    },
    {
     "data": {
      "application/javascript": "\n        if (window._pyforest_update_imports_cell) { window._pyforest_update_imports_cell('from PIL import Image'); }\n    ",
      "text/plain": [
       "<IPython.core.display.Javascript object>"
      ]
     },
     "metadata": {},
     "output_type": "display_data"
    },
    {
     "name": "stdout",
     "output_type": "stream",
     "text": [
      "MoviePy - Writing audio in /home/kurubal/Documents/Modern Ways/Project/Turkish/Image Audio Video/Result/200 Words/Twogram_Threegram/Threegram_Twogram_Selected/Data/Text_MP3/daha.mp3\n"
     ]
    },
    {
     "name": "stderr",
     "output_type": "stream",
     "text": [
      "                                                       "
     ]
    },
    {
     "name": "stdout",
     "output_type": "stream",
     "text": [
      "MoviePy - Done.\n"
     ]
    },
    {
     "name": "stderr",
     "output_type": "stream",
     "text": [
      "\r"
     ]
    },
    {
     "name": "stdout",
     "output_type": "stream",
     "text": [
      "MoviePy - Writing audio in /home/kurubal/Documents/Modern Ways/Project/Turkish/Image Audio Video/Result/200 Words/Twogram_Threegram/Threegram_Twogram_Selected/Data/Text_MP3/olacak.mp3\n"
     ]
    },
    {
     "name": "stderr",
     "output_type": "stream",
     "text": [
      "                                                       "
     ]
    },
    {
     "name": "stdout",
     "output_type": "stream",
     "text": [
      "MoviePy - Done.\n"
     ]
    },
    {
     "name": "stderr",
     "output_type": "stream",
     "text": [
      "\r"
     ]
    },
    {
     "name": "stdout",
     "output_type": "stream",
     "text": [
      "Moviepy - Building video /home/kurubal/Documents/Modern Ways/Project/Turkish/Image Audio Video/Result/200 Words/Twogram_Threegram/Threegram_Twogram_Selected/Result/Image_Video_Audio/daha.mp4.\n",
      "MoviePy - Writing audio in dahaTEMP_MPY_wvf_snd.mp4\n"
     ]
    },
    {
     "name": "stderr",
     "output_type": "stream",
     "text": [
      "                                                       \r"
     ]
    },
    {
     "name": "stdout",
     "output_type": "stream",
     "text": [
      "MoviePy - Done.\n",
      "Moviepy - Writing video /home/kurubal/Documents/Modern Ways/Project/Turkish/Image Audio Video/Result/200 Words/Twogram_Threegram/Threegram_Twogram_Selected/Result/Image_Video_Audio/daha.mp4\n",
      "\n"
     ]
    },
    {
     "name": "stderr",
     "output_type": "stream",
     "text": [
      "                                                  \r"
     ]
    },
    {
     "name": "stdout",
     "output_type": "stream",
     "text": [
      "Moviepy - Done !\n",
      "Moviepy - video ready /home/kurubal/Documents/Modern Ways/Project/Turkish/Image Audio Video/Result/200 Words/Twogram_Threegram/Threegram_Twogram_Selected/Result/Image_Video_Audio/daha.mp4\n",
      "Moviepy - Building video /home/kurubal/Documents/Modern Ways/Project/Turkish/Image Audio Video/Result/200 Words/Twogram_Threegram/Threegram_Twogram_Selected/Result/Image_Video_Audio/olacak.mp4.\n",
      "MoviePy - Writing audio in olacakTEMP_MPY_wvf_snd.mp4\n"
     ]
    },
    {
     "name": "stderr",
     "output_type": "stream",
     "text": [
      "                                                       \r"
     ]
    },
    {
     "name": "stdout",
     "output_type": "stream",
     "text": [
      "MoviePy - Done.\n",
      "Moviepy - Writing video /home/kurubal/Documents/Modern Ways/Project/Turkish/Image Audio Video/Result/200 Words/Twogram_Threegram/Threegram_Twogram_Selected/Result/Image_Video_Audio/olacak.mp4\n",
      "\n"
     ]
    },
    {
     "name": "stderr",
     "output_type": "stream",
     "text": [
      "                                                  \r"
     ]
    },
    {
     "name": "stdout",
     "output_type": "stream",
     "text": [
      "Moviepy - Done !\n",
      "Moviepy - video ready /home/kurubal/Documents/Modern Ways/Project/Turkish/Image Audio Video/Result/200 Words/Twogram_Threegram/Threegram_Twogram_Selected/Result/Image_Video_Audio/olacak.mp4\n",
      "MoviePy - Writing audio in /home/kurubal/Documents/Modern Ways/Project/Turkish/Image Audio Video/Result/200 Words/Twogram_Threegram/Threegram_Twogram_Selected/Data/Text_MP3/daha iyi olacak.mp3\n"
     ]
    },
    {
     "name": "stderr",
     "output_type": "stream",
     "text": [
      "                                                       "
     ]
    },
    {
     "name": "stdout",
     "output_type": "stream",
     "text": [
      "MoviePy - Done.\n"
     ]
    },
    {
     "name": "stderr",
     "output_type": "stream",
     "text": [
      "\r"
     ]
    },
    {
     "name": "stdout",
     "output_type": "stream",
     "text": [
      "Moviepy - Building video /home/kurubal/Documents/Modern Ways/Project/Turkish/Image Audio Video/Result/200 Words/Twogram_Threegram/Threegram_Twogram_Selected/Result/Image_Video_Audio/daha iyi olacak.mp4.\n",
      "MoviePy - Writing audio in daha iyi olacakTEMP_MPY_wvf_snd.mp4\n"
     ]
    },
    {
     "name": "stderr",
     "output_type": "stream",
     "text": [
      "                                                       \r"
     ]
    },
    {
     "name": "stdout",
     "output_type": "stream",
     "text": [
      "MoviePy - Done.\n",
      "Moviepy - Writing video /home/kurubal/Documents/Modern Ways/Project/Turkish/Image Audio Video/Result/200 Words/Twogram_Threegram/Threegram_Twogram_Selected/Result/Image_Video_Audio/daha iyi olacak.mp4\n",
      "\n"
     ]
    },
    {
     "name": "stderr",
     "output_type": "stream",
     "text": [
      "                                                  \r"
     ]
    },
    {
     "name": "stdout",
     "output_type": "stream",
     "text": [
      "Moviepy - Done !\n",
      "Moviepy - video ready /home/kurubal/Documents/Modern Ways/Project/Turkish/Image Audio Video/Result/200 Words/Twogram_Threegram/Threegram_Twogram_Selected/Result/Image_Video_Audio/daha iyi olacak.mp4\n",
      "Moviepy - Building video /home/kurubal/Documents/Modern Ways/Project/Turkish/Image Audio Video/Result/200 Words/Twogram_Threegram/Threegram_Twogram_Selected/Result/Concat_Video/daha iyi olacak.mp4.\n",
      "MoviePy - Writing audio in daha iyi olacakTEMP_MPY_wvf_snd.mp4\n"
     ]
    },
    {
     "name": "stderr",
     "output_type": "stream",
     "text": [
      "                                                                    \r"
     ]
    },
    {
     "name": "stdout",
     "output_type": "stream",
     "text": [
      "MoviePy - Done.\n",
      "Moviepy - Writing video /home/kurubal/Documents/Modern Ways/Project/Turkish/Image Audio Video/Result/200 Words/Twogram_Threegram/Threegram_Twogram_Selected/Result/Concat_Video/daha iyi olacak.mp4\n",
      "\n"
     ]
    },
    {
     "name": "stderr",
     "output_type": "stream",
     "text": [
      "                                                           \r"
     ]
    },
    {
     "name": "stdout",
     "output_type": "stream",
     "text": [
      "Moviepy - Done !\n",
      "Moviepy - video ready /home/kurubal/Documents/Modern Ways/Project/Turkish/Image Audio Video/Result/200 Words/Twogram_Threegram/Threegram_Twogram_Selected/Result/Concat_Video/daha iyi olacak.mp4\n"
     ]
    },
    {
     "data": {
      "application/javascript": "\n        if (window._pyforest_update_imports_cell) { window._pyforest_update_imports_cell('from PIL import Image'); }\n    ",
      "text/plain": [
       "<IPython.core.display.Javascript object>"
      ]
     },
     "metadata": {},
     "output_type": "display_data"
    },
    {
     "data": {
      "application/javascript": "\n        if (window._pyforest_update_imports_cell) { window._pyforest_update_imports_cell('from PIL import Image'); }\n    ",
      "text/plain": [
       "<IPython.core.display.Javascript object>"
      ]
     },
     "metadata": {},
     "output_type": "display_data"
    },
    {
     "name": "stdout",
     "output_type": "stream",
     "text": [
      "MoviePy - Writing audio in /home/kurubal/Documents/Modern Ways/Project/Turkish/Image Audio Video/Result/200 Words/Twogram_Threegram/Threegram_Twogram_Selected/Data/Text_MP3/yapıyorsun.mp3\n"
     ]
    },
    {
     "name": "stderr",
     "output_type": "stream",
     "text": [
      "                                                       "
     ]
    },
    {
     "name": "stdout",
     "output_type": "stream",
     "text": [
      "MoviePy - Done.\n"
     ]
    },
    {
     "name": "stderr",
     "output_type": "stream",
     "text": [
      "\r"
     ]
    },
    {
     "name": "stdout",
     "output_type": "stream",
     "text": [
      "Moviepy - Building video /home/kurubal/Documents/Modern Ways/Project/Turkish/Image Audio Video/Result/200 Words/Twogram_Threegram/Threegram_Twogram_Selected/Result/Image_Video_Audio/yapıyorsun.mp4.\n",
      "MoviePy - Writing audio in yapıyorsunTEMP_MPY_wvf_snd.mp4\n"
     ]
    },
    {
     "name": "stderr",
     "output_type": "stream",
     "text": [
      "                                                       \r"
     ]
    },
    {
     "name": "stdout",
     "output_type": "stream",
     "text": [
      "MoviePy - Done.\n",
      "Moviepy - Writing video /home/kurubal/Documents/Modern Ways/Project/Turkish/Image Audio Video/Result/200 Words/Twogram_Threegram/Threegram_Twogram_Selected/Result/Image_Video_Audio/yapıyorsun.mp4\n",
      "\n"
     ]
    },
    {
     "name": "stderr",
     "output_type": "stream",
     "text": [
      "                                                  \r"
     ]
    },
    {
     "name": "stdout",
     "output_type": "stream",
     "text": [
      "Moviepy - Done !\n",
      "Moviepy - video ready /home/kurubal/Documents/Modern Ways/Project/Turkish/Image Audio Video/Result/200 Words/Twogram_Threegram/Threegram_Twogram_Selected/Result/Image_Video_Audio/yapıyorsun.mp4\n",
      "MoviePy - Writing audio in /home/kurubal/Documents/Modern Ways/Project/Turkish/Image Audio Video/Result/200 Words/Twogram_Threegram/Threegram_Twogram_Selected/Data/Text_MP3/neden böyle yapıyorsun.mp3\n"
     ]
    },
    {
     "name": "stderr",
     "output_type": "stream",
     "text": [
      "                                                       "
     ]
    },
    {
     "name": "stdout",
     "output_type": "stream",
     "text": [
      "MoviePy - Done.\n"
     ]
    },
    {
     "name": "stderr",
     "output_type": "stream",
     "text": [
      "\r"
     ]
    },
    {
     "name": "stdout",
     "output_type": "stream",
     "text": [
      "Moviepy - Building video /home/kurubal/Documents/Modern Ways/Project/Turkish/Image Audio Video/Result/200 Words/Twogram_Threegram/Threegram_Twogram_Selected/Result/Image_Video_Audio/neden böyle yapıyorsun.mp4.\n",
      "MoviePy - Writing audio in neden böyle yapıyorsunTEMP_MPY_wvf_snd.mp4\n"
     ]
    },
    {
     "name": "stderr",
     "output_type": "stream",
     "text": [
      "                                                       \r"
     ]
    },
    {
     "name": "stdout",
     "output_type": "stream",
     "text": [
      "MoviePy - Done.\n",
      "Moviepy - Writing video /home/kurubal/Documents/Modern Ways/Project/Turkish/Image Audio Video/Result/200 Words/Twogram_Threegram/Threegram_Twogram_Selected/Result/Image_Video_Audio/neden böyle yapıyorsun.mp4\n",
      "\n"
     ]
    },
    {
     "name": "stderr",
     "output_type": "stream",
     "text": [
      "                                                  \r"
     ]
    },
    {
     "name": "stdout",
     "output_type": "stream",
     "text": [
      "Moviepy - Done !\n",
      "Moviepy - video ready /home/kurubal/Documents/Modern Ways/Project/Turkish/Image Audio Video/Result/200 Words/Twogram_Threegram/Threegram_Twogram_Selected/Result/Image_Video_Audio/neden böyle yapıyorsun.mp4\n",
      "Moviepy - Building video /home/kurubal/Documents/Modern Ways/Project/Turkish/Image Audio Video/Result/200 Words/Twogram_Threegram/Threegram_Twogram_Selected/Result/Concat_Video/neden böyle yapıyorsun.mp4.\n",
      "MoviePy - Writing audio in neden böyle yapıyorsunTEMP_MPY_wvf_snd.mp4\n"
     ]
    },
    {
     "name": "stderr",
     "output_type": "stream",
     "text": [
      "                                                                    \r"
     ]
    },
    {
     "name": "stdout",
     "output_type": "stream",
     "text": [
      "MoviePy - Done.\n",
      "Moviepy - Writing video /home/kurubal/Documents/Modern Ways/Project/Turkish/Image Audio Video/Result/200 Words/Twogram_Threegram/Threegram_Twogram_Selected/Result/Concat_Video/neden böyle yapıyorsun.mp4\n",
      "\n"
     ]
    },
    {
     "name": "stderr",
     "output_type": "stream",
     "text": [
      "                                                           \r"
     ]
    },
    {
     "name": "stdout",
     "output_type": "stream",
     "text": [
      "Moviepy - Done !\n",
      "Moviepy - video ready /home/kurubal/Documents/Modern Ways/Project/Turkish/Image Audio Video/Result/200 Words/Twogram_Threegram/Threegram_Twogram_Selected/Result/Concat_Video/neden böyle yapıyorsun.mp4\n"
     ]
    },
    {
     "data": {
      "application/javascript": "\n        if (window._pyforest_update_imports_cell) { window._pyforest_update_imports_cell('from PIL import Image'); }\n    ",
      "text/plain": [
       "<IPython.core.display.Javascript object>"
      ]
     },
     "metadata": {},
     "output_type": "display_data"
    },
    {
     "data": {
      "application/javascript": "\n        if (window._pyforest_update_imports_cell) { window._pyforest_update_imports_cell('from PIL import Image'); }\n    ",
      "text/plain": [
       "<IPython.core.display.Javascript object>"
      ]
     },
     "metadata": {},
     "output_type": "display_data"
    },
    {
     "name": "stdout",
     "output_type": "stream",
     "text": [
      "MoviePy - Writing audio in /home/kurubal/Documents/Modern Ways/Project/Turkish/Image Audio Video/Result/200 Words/Twogram_Threegram/Threegram_Twogram_Selected/Data/Text_MP3/güzel.mp3\n"
     ]
    },
    {
     "name": "stderr",
     "output_type": "stream",
     "text": [
      "                                                       "
     ]
    },
    {
     "name": "stdout",
     "output_type": "stream",
     "text": [
      "MoviePy - Done.\n"
     ]
    },
    {
     "name": "stderr",
     "output_type": "stream",
     "text": [
      "\r"
     ]
    },
    {
     "name": "stdout",
     "output_type": "stream",
     "text": [
      "Moviepy - Building video /home/kurubal/Documents/Modern Ways/Project/Turkish/Image Audio Video/Result/200 Words/Twogram_Threegram/Threegram_Twogram_Selected/Result/Image_Video_Audio/güzel.mp4.\n",
      "MoviePy - Writing audio in güzelTEMP_MPY_wvf_snd.mp4\n"
     ]
    },
    {
     "name": "stderr",
     "output_type": "stream",
     "text": [
      "                                                       \r"
     ]
    },
    {
     "name": "stdout",
     "output_type": "stream",
     "text": [
      "MoviePy - Done.\n",
      "Moviepy - Writing video /home/kurubal/Documents/Modern Ways/Project/Turkish/Image Audio Video/Result/200 Words/Twogram_Threegram/Threegram_Twogram_Selected/Result/Image_Video_Audio/güzel.mp4\n",
      "\n"
     ]
    },
    {
     "name": "stderr",
     "output_type": "stream",
     "text": [
      "                                                  \r"
     ]
    },
    {
     "name": "stdout",
     "output_type": "stream",
     "text": [
      "Moviepy - Done !\n",
      "Moviepy - video ready /home/kurubal/Documents/Modern Ways/Project/Turkish/Image Audio Video/Result/200 Words/Twogram_Threegram/Threegram_Twogram_Selected/Result/Image_Video_Audio/güzel.mp4\n",
      "MoviePy - Writing audio in /home/kurubal/Documents/Modern Ways/Project/Turkish/Image Audio Video/Result/200 Words/Twogram_Threegram/Threegram_Twogram_Selected/Data/Text_MP3/evet çok güzel.mp3\n"
     ]
    },
    {
     "name": "stderr",
     "output_type": "stream",
     "text": [
      "                                                       "
     ]
    },
    {
     "name": "stdout",
     "output_type": "stream",
     "text": [
      "MoviePy - Done.\n"
     ]
    },
    {
     "name": "stderr",
     "output_type": "stream",
     "text": [
      "\r"
     ]
    },
    {
     "name": "stdout",
     "output_type": "stream",
     "text": [
      "Moviepy - Building video /home/kurubal/Documents/Modern Ways/Project/Turkish/Image Audio Video/Result/200 Words/Twogram_Threegram/Threegram_Twogram_Selected/Result/Image_Video_Audio/evet çok güzel.mp4.\n",
      "MoviePy - Writing audio in evet çok güzelTEMP_MPY_wvf_snd.mp4\n"
     ]
    },
    {
     "name": "stderr",
     "output_type": "stream",
     "text": [
      "                                                       \r"
     ]
    },
    {
     "name": "stdout",
     "output_type": "stream",
     "text": [
      "MoviePy - Done.\n",
      "Moviepy - Writing video /home/kurubal/Documents/Modern Ways/Project/Turkish/Image Audio Video/Result/200 Words/Twogram_Threegram/Threegram_Twogram_Selected/Result/Image_Video_Audio/evet çok güzel.mp4\n",
      "\n"
     ]
    },
    {
     "name": "stderr",
     "output_type": "stream",
     "text": [
      "                                                  \r"
     ]
    },
    {
     "name": "stdout",
     "output_type": "stream",
     "text": [
      "Moviepy - Done !\n",
      "Moviepy - video ready /home/kurubal/Documents/Modern Ways/Project/Turkish/Image Audio Video/Result/200 Words/Twogram_Threegram/Threegram_Twogram_Selected/Result/Image_Video_Audio/evet çok güzel.mp4\n",
      "Moviepy - Building video /home/kurubal/Documents/Modern Ways/Project/Turkish/Image Audio Video/Result/200 Words/Twogram_Threegram/Threegram_Twogram_Selected/Result/Concat_Video/evet çok güzel.mp4.\n",
      "MoviePy - Writing audio in evet çok güzelTEMP_MPY_wvf_snd.mp4\n"
     ]
    },
    {
     "name": "stderr",
     "output_type": "stream",
     "text": [
      "                                                                    \r"
     ]
    },
    {
     "name": "stdout",
     "output_type": "stream",
     "text": [
      "MoviePy - Done.\n",
      "Moviepy - Writing video /home/kurubal/Documents/Modern Ways/Project/Turkish/Image Audio Video/Result/200 Words/Twogram_Threegram/Threegram_Twogram_Selected/Result/Concat_Video/evet çok güzel.mp4\n",
      "\n"
     ]
    },
    {
     "name": "stderr",
     "output_type": "stream",
     "text": [
      "                                                          \r"
     ]
    },
    {
     "name": "stdout",
     "output_type": "stream",
     "text": [
      "Moviepy - Done !\n",
      "Moviepy - video ready /home/kurubal/Documents/Modern Ways/Project/Turkish/Image Audio Video/Result/200 Words/Twogram_Threegram/Threegram_Twogram_Selected/Result/Concat_Video/evet çok güzel.mp4\n"
     ]
    },
    {
     "data": {
      "application/javascript": "\n        if (window._pyforest_update_imports_cell) { window._pyforest_update_imports_cell('from PIL import Image'); }\n    ",
      "text/plain": [
       "<IPython.core.display.Javascript object>"
      ]
     },
     "metadata": {},
     "output_type": "display_data"
    },
    {
     "data": {
      "application/javascript": "\n        if (window._pyforest_update_imports_cell) { window._pyforest_update_imports_cell('from PIL import Image'); }\n    ",
      "text/plain": [
       "<IPython.core.display.Javascript object>"
      ]
     },
     "metadata": {},
     "output_type": "display_data"
    },
    {
     "data": {
      "application/javascript": "\n        if (window._pyforest_update_imports_cell) { window._pyforest_update_imports_cell('from PIL import Image'); }\n    ",
      "text/plain": [
       "<IPython.core.display.Javascript object>"
      ]
     },
     "metadata": {},
     "output_type": "display_data"
    },
    {
     "data": {
      "application/javascript": "\n        if (window._pyforest_update_imports_cell) { window._pyforest_update_imports_cell('from PIL import Image'); }\n    ",
      "text/plain": [
       "<IPython.core.display.Javascript object>"
      ]
     },
     "metadata": {},
     "output_type": "display_data"
    },
    {
     "data": {
      "application/javascript": "\n        if (window._pyforest_update_imports_cell) { window._pyforest_update_imports_cell('from PIL import Image'); }\n    ",
      "text/plain": [
       "<IPython.core.display.Javascript object>"
      ]
     },
     "metadata": {},
     "output_type": "display_data"
    },
    {
     "data": {
      "application/javascript": "\n        if (window._pyforest_update_imports_cell) { window._pyforest_update_imports_cell('from PIL import Image'); }\n    ",
      "text/plain": [
       "<IPython.core.display.Javascript object>"
      ]
     },
     "metadata": {},
     "output_type": "display_data"
    },
    {
     "name": "stdout",
     "output_type": "stream",
     "text": [
      "MoviePy - Writing audio in /home/kurubal/Documents/Modern Ways/Project/Turkish/Image Audio Video/Result/200 Words/Twogram_Threegram/Threegram_Twogram_Selected/Data/Text_MP3/buna.mp3\n"
     ]
    },
    {
     "name": "stderr",
     "output_type": "stream",
     "text": [
      "                                                       "
     ]
    },
    {
     "name": "stdout",
     "output_type": "stream",
     "text": [
      "MoviePy - Done.\n"
     ]
    },
    {
     "name": "stderr",
     "output_type": "stream",
     "text": [
      "\r"
     ]
    },
    {
     "name": "stdout",
     "output_type": "stream",
     "text": [
      "MoviePy - Writing audio in /home/kurubal/Documents/Modern Ways/Project/Turkish/Image Audio Video/Result/200 Words/Twogram_Threegram/Threegram_Twogram_Selected/Data/Text_MP3/gerek.mp3\n"
     ]
    },
    {
     "name": "stderr",
     "output_type": "stream",
     "text": [
      "                                                       "
     ]
    },
    {
     "name": "stdout",
     "output_type": "stream",
     "text": [
      "MoviePy - Done.\n"
     ]
    },
    {
     "name": "stderr",
     "output_type": "stream",
     "text": [
      "\r"
     ]
    },
    {
     "name": "stdout",
     "output_type": "stream",
     "text": [
      "MoviePy - Writing audio in /home/kurubal/Documents/Modern Ways/Project/Turkish/Image Audio Video/Result/200 Words/Twogram_Threegram/Threegram_Twogram_Selected/Data/Text_MP3/yok.mp3\n"
     ]
    },
    {
     "name": "stderr",
     "output_type": "stream",
     "text": [
      "                                                       "
     ]
    },
    {
     "name": "stdout",
     "output_type": "stream",
     "text": [
      "MoviePy - Done.\n"
     ]
    },
    {
     "name": "stderr",
     "output_type": "stream",
     "text": [
      "\r"
     ]
    },
    {
     "name": "stdout",
     "output_type": "stream",
     "text": [
      "Moviepy - Building video /home/kurubal/Documents/Modern Ways/Project/Turkish/Image Audio Video/Result/200 Words/Twogram_Threegram/Threegram_Twogram_Selected/Result/Image_Video_Audio/buna.mp4.\n",
      "MoviePy - Writing audio in bunaTEMP_MPY_wvf_snd.mp4\n"
     ]
    },
    {
     "name": "stderr",
     "output_type": "stream",
     "text": [
      "                                                       \r"
     ]
    },
    {
     "name": "stdout",
     "output_type": "stream",
     "text": [
      "MoviePy - Done.\n",
      "Moviepy - Writing video /home/kurubal/Documents/Modern Ways/Project/Turkish/Image Audio Video/Result/200 Words/Twogram_Threegram/Threegram_Twogram_Selected/Result/Image_Video_Audio/buna.mp4\n",
      "\n"
     ]
    },
    {
     "name": "stderr",
     "output_type": "stream",
     "text": [
      "                                                  "
     ]
    },
    {
     "name": "stdout",
     "output_type": "stream",
     "text": [
      "Moviepy - Done !\n",
      "Moviepy - video ready /home/kurubal/Documents/Modern Ways/Project/Turkish/Image Audio Video/Result/200 Words/Twogram_Threegram/Threegram_Twogram_Selected/Result/Image_Video_Audio/buna.mp4\n"
     ]
    },
    {
     "name": "stderr",
     "output_type": "stream",
     "text": [
      "\r"
     ]
    },
    {
     "name": "stdout",
     "output_type": "stream",
     "text": [
      "Moviepy - Building video /home/kurubal/Documents/Modern Ways/Project/Turkish/Image Audio Video/Result/200 Words/Twogram_Threegram/Threegram_Twogram_Selected/Result/Image_Video_Audio/gerek.mp4.\n",
      "MoviePy - Writing audio in gerekTEMP_MPY_wvf_snd.mp4\n"
     ]
    },
    {
     "name": "stderr",
     "output_type": "stream",
     "text": [
      "                                                       \r"
     ]
    },
    {
     "name": "stdout",
     "output_type": "stream",
     "text": [
      "MoviePy - Done.\n",
      "Moviepy - Writing video /home/kurubal/Documents/Modern Ways/Project/Turkish/Image Audio Video/Result/200 Words/Twogram_Threegram/Threegram_Twogram_Selected/Result/Image_Video_Audio/gerek.mp4\n",
      "\n"
     ]
    },
    {
     "name": "stderr",
     "output_type": "stream",
     "text": [
      "                                                  \r"
     ]
    },
    {
     "name": "stdout",
     "output_type": "stream",
     "text": [
      "Moviepy - Done !\n",
      "Moviepy - video ready /home/kurubal/Documents/Modern Ways/Project/Turkish/Image Audio Video/Result/200 Words/Twogram_Threegram/Threegram_Twogram_Selected/Result/Image_Video_Audio/gerek.mp4\n",
      "Moviepy - Building video /home/kurubal/Documents/Modern Ways/Project/Turkish/Image Audio Video/Result/200 Words/Twogram_Threegram/Threegram_Twogram_Selected/Result/Image_Video_Audio/yok.mp4.\n",
      "MoviePy - Writing audio in yokTEMP_MPY_wvf_snd.mp4\n"
     ]
    },
    {
     "name": "stderr",
     "output_type": "stream",
     "text": [
      "                                                       \r"
     ]
    },
    {
     "name": "stdout",
     "output_type": "stream",
     "text": [
      "MoviePy - Done.\n",
      "Moviepy - Writing video /home/kurubal/Documents/Modern Ways/Project/Turkish/Image Audio Video/Result/200 Words/Twogram_Threegram/Threegram_Twogram_Selected/Result/Image_Video_Audio/yok.mp4\n",
      "\n"
     ]
    },
    {
     "name": "stderr",
     "output_type": "stream",
     "text": [
      "                                                  "
     ]
    },
    {
     "name": "stdout",
     "output_type": "stream",
     "text": [
      "Moviepy - Done !\n",
      "Moviepy - video ready /home/kurubal/Documents/Modern Ways/Project/Turkish/Image Audio Video/Result/200 Words/Twogram_Threegram/Threegram_Twogram_Selected/Result/Image_Video_Audio/yok.mp4\n"
     ]
    },
    {
     "name": "stderr",
     "output_type": "stream",
     "text": [
      "\r"
     ]
    },
    {
     "name": "stdout",
     "output_type": "stream",
     "text": [
      "MoviePy - Writing audio in /home/kurubal/Documents/Modern Ways/Project/Turkish/Image Audio Video/Result/200 Words/Twogram_Threegram/Threegram_Twogram_Selected/Data/Text_MP3/buna gerek yok.mp3\n"
     ]
    },
    {
     "name": "stderr",
     "output_type": "stream",
     "text": [
      "                                                       "
     ]
    },
    {
     "name": "stdout",
     "output_type": "stream",
     "text": [
      "MoviePy - Done.\n"
     ]
    },
    {
     "name": "stderr",
     "output_type": "stream",
     "text": [
      "\r"
     ]
    },
    {
     "name": "stdout",
     "output_type": "stream",
     "text": [
      "Moviepy - Building video /home/kurubal/Documents/Modern Ways/Project/Turkish/Image Audio Video/Result/200 Words/Twogram_Threegram/Threegram_Twogram_Selected/Result/Image_Video_Audio/buna gerek yok.mp4.\n",
      "MoviePy - Writing audio in buna gerek yokTEMP_MPY_wvf_snd.mp4\n"
     ]
    },
    {
     "name": "stderr",
     "output_type": "stream",
     "text": [
      "                                                       \r"
     ]
    },
    {
     "name": "stdout",
     "output_type": "stream",
     "text": [
      "MoviePy - Done.\n",
      "Moviepy - Writing video /home/kurubal/Documents/Modern Ways/Project/Turkish/Image Audio Video/Result/200 Words/Twogram_Threegram/Threegram_Twogram_Selected/Result/Image_Video_Audio/buna gerek yok.mp4\n",
      "\n"
     ]
    },
    {
     "name": "stderr",
     "output_type": "stream",
     "text": [
      "                                                  \r"
     ]
    },
    {
     "name": "stdout",
     "output_type": "stream",
     "text": [
      "Moviepy - Done !\n",
      "Moviepy - video ready /home/kurubal/Documents/Modern Ways/Project/Turkish/Image Audio Video/Result/200 Words/Twogram_Threegram/Threegram_Twogram_Selected/Result/Image_Video_Audio/buna gerek yok.mp4\n",
      "Moviepy - Building video /home/kurubal/Documents/Modern Ways/Project/Turkish/Image Audio Video/Result/200 Words/Twogram_Threegram/Threegram_Twogram_Selected/Result/Concat_Video/buna gerek yok.mp4.\n",
      "MoviePy - Writing audio in buna gerek yokTEMP_MPY_wvf_snd.mp4\n"
     ]
    },
    {
     "name": "stderr",
     "output_type": "stream",
     "text": [
      "                                                                    \r"
     ]
    },
    {
     "name": "stdout",
     "output_type": "stream",
     "text": [
      "MoviePy - Done.\n",
      "Moviepy - Writing video /home/kurubal/Documents/Modern Ways/Project/Turkish/Image Audio Video/Result/200 Words/Twogram_Threegram/Threegram_Twogram_Selected/Result/Concat_Video/buna gerek yok.mp4\n",
      "\n"
     ]
    },
    {
     "name": "stderr",
     "output_type": "stream",
     "text": [
      "                                                          \r"
     ]
    },
    {
     "name": "stdout",
     "output_type": "stream",
     "text": [
      "Moviepy - Done !\n",
      "Moviepy - video ready /home/kurubal/Documents/Modern Ways/Project/Turkish/Image Audio Video/Result/200 Words/Twogram_Threegram/Threegram_Twogram_Selected/Result/Concat_Video/buna gerek yok.mp4\n"
     ]
    },
    {
     "data": {
      "application/javascript": "\n        if (window._pyforest_update_imports_cell) { window._pyforest_update_imports_cell('from PIL import Image'); }\n    ",
      "text/plain": [
       "<IPython.core.display.Javascript object>"
      ]
     },
     "metadata": {},
     "output_type": "display_data"
    },
    {
     "data": {
      "application/javascript": "\n        if (window._pyforest_update_imports_cell) { window._pyforest_update_imports_cell('from PIL import Image'); }\n    ",
      "text/plain": [
       "<IPython.core.display.Javascript object>"
      ]
     },
     "metadata": {},
     "output_type": "display_data"
    },
    {
     "data": {
      "application/javascript": "\n        if (window._pyforest_update_imports_cell) { window._pyforest_update_imports_cell('from PIL import Image'); }\n    ",
      "text/plain": [
       "<IPython.core.display.Javascript object>"
      ]
     },
     "metadata": {},
     "output_type": "display_data"
    },
    {
     "data": {
      "application/javascript": "\n        if (window._pyforest_update_imports_cell) { window._pyforest_update_imports_cell('from PIL import Image'); }\n    ",
      "text/plain": [
       "<IPython.core.display.Javascript object>"
      ]
     },
     "metadata": {},
     "output_type": "display_data"
    },
    {
     "data": {
      "application/javascript": "\n        if (window._pyforest_update_imports_cell) { window._pyforest_update_imports_cell('from PIL import Image'); }\n    ",
      "text/plain": [
       "<IPython.core.display.Javascript object>"
      ]
     },
     "metadata": {},
     "output_type": "display_data"
    },
    {
     "data": {
      "application/javascript": "\n        if (window._pyforest_update_imports_cell) { window._pyforest_update_imports_cell('from PIL import Image'); }\n    ",
      "text/plain": [
       "<IPython.core.display.Javascript object>"
      ]
     },
     "metadata": {},
     "output_type": "display_data"
    },
    {
     "name": "stdout",
     "output_type": "stream",
     "text": [
      "MoviePy - Writing audio in /home/kurubal/Documents/Modern Ways/Project/Turkish/Image Audio Video/Result/200 Words/Twogram_Threegram/Threegram_Twogram_Selected/Data/Text_MP3/tam.mp3\n"
     ]
    },
    {
     "name": "stderr",
     "output_type": "stream",
     "text": [
      "                                                       "
     ]
    },
    {
     "name": "stdout",
     "output_type": "stream",
     "text": [
      "MoviePy - Done.\n"
     ]
    },
    {
     "name": "stderr",
     "output_type": "stream",
     "text": [
      "\r"
     ]
    },
    {
     "name": "stdout",
     "output_type": "stream",
     "text": [
      "MoviePy - Writing audio in /home/kurubal/Documents/Modern Ways/Project/Turkish/Image Audio Video/Result/200 Words/Twogram_Threegram/Threegram_Twogram_Selected/Data/Text_MP3/olarak.mp3\n"
     ]
    },
    {
     "name": "stderr",
     "output_type": "stream",
     "text": [
      "                                                       "
     ]
    },
    {
     "name": "stdout",
     "output_type": "stream",
     "text": [
      "MoviePy - Done.\n"
     ]
    },
    {
     "name": "stderr",
     "output_type": "stream",
     "text": [
      "\r"
     ]
    },
    {
     "name": "stdout",
     "output_type": "stream",
     "text": [
      "MoviePy - Writing audio in /home/kurubal/Documents/Modern Ways/Project/Turkish/Image Audio Video/Result/200 Words/Twogram_Threegram/Threegram_Twogram_Selected/Data/Text_MP3/nasıl.mp3\n"
     ]
    },
    {
     "name": "stderr",
     "output_type": "stream",
     "text": [
      "                                                       "
     ]
    },
    {
     "name": "stdout",
     "output_type": "stream",
     "text": [
      "MoviePy - Done.\n"
     ]
    },
    {
     "name": "stderr",
     "output_type": "stream",
     "text": [
      "\r"
     ]
    },
    {
     "name": "stdout",
     "output_type": "stream",
     "text": [
      "Moviepy - Building video /home/kurubal/Documents/Modern Ways/Project/Turkish/Image Audio Video/Result/200 Words/Twogram_Threegram/Threegram_Twogram_Selected/Result/Image_Video_Audio/tam.mp4.\n",
      "MoviePy - Writing audio in tamTEMP_MPY_wvf_snd.mp4\n"
     ]
    },
    {
     "name": "stderr",
     "output_type": "stream",
     "text": [
      "                                                       \r"
     ]
    },
    {
     "name": "stdout",
     "output_type": "stream",
     "text": [
      "MoviePy - Done.\n",
      "Moviepy - Writing video /home/kurubal/Documents/Modern Ways/Project/Turkish/Image Audio Video/Result/200 Words/Twogram_Threegram/Threegram_Twogram_Selected/Result/Image_Video_Audio/tam.mp4\n",
      "\n"
     ]
    },
    {
     "name": "stderr",
     "output_type": "stream",
     "text": [
      "                                                  \r"
     ]
    },
    {
     "name": "stdout",
     "output_type": "stream",
     "text": [
      "Moviepy - Done !\n",
      "Moviepy - video ready /home/kurubal/Documents/Modern Ways/Project/Turkish/Image Audio Video/Result/200 Words/Twogram_Threegram/Threegram_Twogram_Selected/Result/Image_Video_Audio/tam.mp4\n",
      "Moviepy - Building video /home/kurubal/Documents/Modern Ways/Project/Turkish/Image Audio Video/Result/200 Words/Twogram_Threegram/Threegram_Twogram_Selected/Result/Image_Video_Audio/olarak.mp4.\n",
      "MoviePy - Writing audio in olarakTEMP_MPY_wvf_snd.mp4\n"
     ]
    },
    {
     "name": "stderr",
     "output_type": "stream",
     "text": [
      "                                                       \r"
     ]
    },
    {
     "name": "stdout",
     "output_type": "stream",
     "text": [
      "MoviePy - Done.\n",
      "Moviepy - Writing video /home/kurubal/Documents/Modern Ways/Project/Turkish/Image Audio Video/Result/200 Words/Twogram_Threegram/Threegram_Twogram_Selected/Result/Image_Video_Audio/olarak.mp4\n",
      "\n"
     ]
    },
    {
     "name": "stderr",
     "output_type": "stream",
     "text": [
      "                                                  \r"
     ]
    },
    {
     "name": "stdout",
     "output_type": "stream",
     "text": [
      "Moviepy - Done !\n",
      "Moviepy - video ready /home/kurubal/Documents/Modern Ways/Project/Turkish/Image Audio Video/Result/200 Words/Twogram_Threegram/Threegram_Twogram_Selected/Result/Image_Video_Audio/olarak.mp4\n",
      "Moviepy - Building video /home/kurubal/Documents/Modern Ways/Project/Turkish/Image Audio Video/Result/200 Words/Twogram_Threegram/Threegram_Twogram_Selected/Result/Image_Video_Audio/nasıl.mp4.\n",
      "MoviePy - Writing audio in nasılTEMP_MPY_wvf_snd.mp4\n"
     ]
    },
    {
     "name": "stderr",
     "output_type": "stream",
     "text": [
      "                                                       \r"
     ]
    },
    {
     "name": "stdout",
     "output_type": "stream",
     "text": [
      "MoviePy - Done.\n",
      "Moviepy - Writing video /home/kurubal/Documents/Modern Ways/Project/Turkish/Image Audio Video/Result/200 Words/Twogram_Threegram/Threegram_Twogram_Selected/Result/Image_Video_Audio/nasıl.mp4\n",
      "\n"
     ]
    },
    {
     "name": "stderr",
     "output_type": "stream",
     "text": [
      "                                                  \r"
     ]
    },
    {
     "name": "stdout",
     "output_type": "stream",
     "text": [
      "Moviepy - Done !\n",
      "Moviepy - video ready /home/kurubal/Documents/Modern Ways/Project/Turkish/Image Audio Video/Result/200 Words/Twogram_Threegram/Threegram_Twogram_Selected/Result/Image_Video_Audio/nasıl.mp4\n",
      "MoviePy - Writing audio in /home/kurubal/Documents/Modern Ways/Project/Turkish/Image Audio Video/Result/200 Words/Twogram_Threegram/Threegram_Twogram_Selected/Data/Text_MP3/tam olarak nasıl.mp3\n"
     ]
    },
    {
     "name": "stderr",
     "output_type": "stream",
     "text": [
      "                                                       "
     ]
    },
    {
     "name": "stdout",
     "output_type": "stream",
     "text": [
      "MoviePy - Done.\n"
     ]
    },
    {
     "name": "stderr",
     "output_type": "stream",
     "text": [
      "\r"
     ]
    },
    {
     "name": "stdout",
     "output_type": "stream",
     "text": [
      "Moviepy - Building video /home/kurubal/Documents/Modern Ways/Project/Turkish/Image Audio Video/Result/200 Words/Twogram_Threegram/Threegram_Twogram_Selected/Result/Image_Video_Audio/tam olarak nasıl.mp4.\n",
      "MoviePy - Writing audio in tam olarak nasılTEMP_MPY_wvf_snd.mp4\n"
     ]
    },
    {
     "name": "stderr",
     "output_type": "stream",
     "text": [
      "                                                       \r"
     ]
    },
    {
     "name": "stdout",
     "output_type": "stream",
     "text": [
      "MoviePy - Done.\n",
      "Moviepy - Writing video /home/kurubal/Documents/Modern Ways/Project/Turkish/Image Audio Video/Result/200 Words/Twogram_Threegram/Threegram_Twogram_Selected/Result/Image_Video_Audio/tam olarak nasıl.mp4\n",
      "\n"
     ]
    },
    {
     "name": "stderr",
     "output_type": "stream",
     "text": [
      "                                                  \r"
     ]
    },
    {
     "name": "stdout",
     "output_type": "stream",
     "text": [
      "Moviepy - Done !\n",
      "Moviepy - video ready /home/kurubal/Documents/Modern Ways/Project/Turkish/Image Audio Video/Result/200 Words/Twogram_Threegram/Threegram_Twogram_Selected/Result/Image_Video_Audio/tam olarak nasıl.mp4\n",
      "Moviepy - Building video /home/kurubal/Documents/Modern Ways/Project/Turkish/Image Audio Video/Result/200 Words/Twogram_Threegram/Threegram_Twogram_Selected/Result/Concat_Video/tam olarak nasıl.mp4.\n",
      "MoviePy - Writing audio in tam olarak nasılTEMP_MPY_wvf_snd.mp4\n"
     ]
    },
    {
     "name": "stderr",
     "output_type": "stream",
     "text": [
      "                                                                    \r"
     ]
    },
    {
     "name": "stdout",
     "output_type": "stream",
     "text": [
      "MoviePy - Done.\n",
      "Moviepy - Writing video /home/kurubal/Documents/Modern Ways/Project/Turkish/Image Audio Video/Result/200 Words/Twogram_Threegram/Threegram_Twogram_Selected/Result/Concat_Video/tam olarak nasıl.mp4\n",
      "\n"
     ]
    },
    {
     "name": "stderr",
     "output_type": "stream",
     "text": [
      "                                                           \r"
     ]
    },
    {
     "name": "stdout",
     "output_type": "stream",
     "text": [
      "Moviepy - Done !\n",
      "Moviepy - video ready /home/kurubal/Documents/Modern Ways/Project/Turkish/Image Audio Video/Result/200 Words/Twogram_Threegram/Threegram_Twogram_Selected/Result/Concat_Video/tam olarak nasıl.mp4\n"
     ]
    },
    {
     "data": {
      "application/javascript": "\n        if (window._pyforest_update_imports_cell) { window._pyforest_update_imports_cell('from PIL import Image'); }\n    ",
      "text/plain": [
       "<IPython.core.display.Javascript object>"
      ]
     },
     "metadata": {},
     "output_type": "display_data"
    },
    {
     "data": {
      "application/javascript": "\n        if (window._pyforest_update_imports_cell) { window._pyforest_update_imports_cell('from PIL import Image'); }\n    ",
      "text/plain": [
       "<IPython.core.display.Javascript object>"
      ]
     },
     "metadata": {},
     "output_type": "display_data"
    },
    {
     "data": {
      "application/javascript": "\n        if (window._pyforest_update_imports_cell) { window._pyforest_update_imports_cell('from PIL import Image'); }\n    ",
      "text/plain": [
       "<IPython.core.display.Javascript object>"
      ]
     },
     "metadata": {},
     "output_type": "display_data"
    },
    {
     "data": {
      "application/javascript": "\n        if (window._pyforest_update_imports_cell) { window._pyforest_update_imports_cell('from PIL import Image'); }\n    ",
      "text/plain": [
       "<IPython.core.display.Javascript object>"
      ]
     },
     "metadata": {},
     "output_type": "display_data"
    },
    {
     "data": {
      "application/javascript": "\n        if (window._pyforest_update_imports_cell) { window._pyforest_update_imports_cell('from PIL import Image'); }\n    ",
      "text/plain": [
       "<IPython.core.display.Javascript object>"
      ]
     },
     "metadata": {},
     "output_type": "display_data"
    },
    {
     "data": {
      "application/javascript": "\n        if (window._pyforest_update_imports_cell) { window._pyforest_update_imports_cell('from PIL import Image'); }\n    ",
      "text/plain": [
       "<IPython.core.display.Javascript object>"
      ]
     },
     "metadata": {},
     "output_type": "display_data"
    },
    {
     "name": "stdout",
     "output_type": "stream",
     "text": [
      "MoviePy - Writing audio in /home/kurubal/Documents/Modern Ways/Project/Turkish/Image Audio Video/Result/200 Words/Twogram_Threegram/Threegram_Twogram_Selected/Data/Text_MP3/tamam.mp3\n"
     ]
    },
    {
     "name": "stderr",
     "output_type": "stream",
     "text": [
      "                                                       "
     ]
    },
    {
     "name": "stdout",
     "output_type": "stream",
     "text": [
      "MoviePy - Done.\n"
     ]
    },
    {
     "name": "stderr",
     "output_type": "stream",
     "text": [
      "\r"
     ]
    },
    {
     "name": "stdout",
     "output_type": "stream",
     "text": [
      "MoviePy - Writing audio in /home/kurubal/Documents/Modern Ways/Project/Turkish/Image Audio Video/Result/200 Words/Twogram_Threegram/Threegram_Twogram_Selected/Data/Text_MP3/sorun.mp3\n"
     ]
    },
    {
     "name": "stderr",
     "output_type": "stream",
     "text": [
      "                                                       "
     ]
    },
    {
     "name": "stdout",
     "output_type": "stream",
     "text": [
      "MoviePy - Done.\n"
     ]
    },
    {
     "name": "stderr",
     "output_type": "stream",
     "text": [
      "\r"
     ]
    },
    {
     "name": "stdout",
     "output_type": "stream",
     "text": [
      "MoviePy - Writing audio in /home/kurubal/Documents/Modern Ways/Project/Turkish/Image Audio Video/Result/200 Words/Twogram_Threegram/Threegram_Twogram_Selected/Data/Text_MP3/değil.mp3\n"
     ]
    },
    {
     "name": "stderr",
     "output_type": "stream",
     "text": [
      "                                                       "
     ]
    },
    {
     "name": "stdout",
     "output_type": "stream",
     "text": [
      "MoviePy - Done.\n"
     ]
    },
    {
     "name": "stderr",
     "output_type": "stream",
     "text": [
      "\r"
     ]
    },
    {
     "name": "stdout",
     "output_type": "stream",
     "text": [
      "Moviepy - Building video /home/kurubal/Documents/Modern Ways/Project/Turkish/Image Audio Video/Result/200 Words/Twogram_Threegram/Threegram_Twogram_Selected/Result/Image_Video_Audio/tamam.mp4.\n",
      "MoviePy - Writing audio in tamamTEMP_MPY_wvf_snd.mp4\n"
     ]
    },
    {
     "name": "stderr",
     "output_type": "stream",
     "text": [
      "                                                       \r"
     ]
    },
    {
     "name": "stdout",
     "output_type": "stream",
     "text": [
      "MoviePy - Done.\n",
      "Moviepy - Writing video /home/kurubal/Documents/Modern Ways/Project/Turkish/Image Audio Video/Result/200 Words/Twogram_Threegram/Threegram_Twogram_Selected/Result/Image_Video_Audio/tamam.mp4\n",
      "\n"
     ]
    },
    {
     "name": "stderr",
     "output_type": "stream",
     "text": [
      "                                                  "
     ]
    },
    {
     "name": "stdout",
     "output_type": "stream",
     "text": [
      "Moviepy - Done !\n",
      "Moviepy - video ready /home/kurubal/Documents/Modern Ways/Project/Turkish/Image Audio Video/Result/200 Words/Twogram_Threegram/Threegram_Twogram_Selected/Result/Image_Video_Audio/tamam.mp4\n"
     ]
    },
    {
     "name": "stderr",
     "output_type": "stream",
     "text": [
      "\r"
     ]
    },
    {
     "name": "stdout",
     "output_type": "stream",
     "text": [
      "Moviepy - Building video /home/kurubal/Documents/Modern Ways/Project/Turkish/Image Audio Video/Result/200 Words/Twogram_Threegram/Threegram_Twogram_Selected/Result/Image_Video_Audio/sorun.mp4.\n",
      "MoviePy - Writing audio in sorunTEMP_MPY_wvf_snd.mp4\n"
     ]
    },
    {
     "name": "stderr",
     "output_type": "stream",
     "text": [
      "                                                       \r"
     ]
    },
    {
     "name": "stdout",
     "output_type": "stream",
     "text": [
      "MoviePy - Done.\n",
      "Moviepy - Writing video /home/kurubal/Documents/Modern Ways/Project/Turkish/Image Audio Video/Result/200 Words/Twogram_Threegram/Threegram_Twogram_Selected/Result/Image_Video_Audio/sorun.mp4\n",
      "\n"
     ]
    },
    {
     "name": "stderr",
     "output_type": "stream",
     "text": [
      "                                                  \r"
     ]
    },
    {
     "name": "stdout",
     "output_type": "stream",
     "text": [
      "Moviepy - Done !\n",
      "Moviepy - video ready /home/kurubal/Documents/Modern Ways/Project/Turkish/Image Audio Video/Result/200 Words/Twogram_Threegram/Threegram_Twogram_Selected/Result/Image_Video_Audio/sorun.mp4\n",
      "Moviepy - Building video /home/kurubal/Documents/Modern Ways/Project/Turkish/Image Audio Video/Result/200 Words/Twogram_Threegram/Threegram_Twogram_Selected/Result/Image_Video_Audio/değil.mp4.\n",
      "MoviePy - Writing audio in değilTEMP_MPY_wvf_snd.mp4\n"
     ]
    },
    {
     "name": "stderr",
     "output_type": "stream",
     "text": [
      "                                                       \r"
     ]
    },
    {
     "name": "stdout",
     "output_type": "stream",
     "text": [
      "MoviePy - Done.\n",
      "Moviepy - Writing video /home/kurubal/Documents/Modern Ways/Project/Turkish/Image Audio Video/Result/200 Words/Twogram_Threegram/Threegram_Twogram_Selected/Result/Image_Video_Audio/değil.mp4\n",
      "\n"
     ]
    },
    {
     "name": "stderr",
     "output_type": "stream",
     "text": [
      "                                                  "
     ]
    },
    {
     "name": "stdout",
     "output_type": "stream",
     "text": [
      "Moviepy - Done !\n",
      "Moviepy - video ready /home/kurubal/Documents/Modern Ways/Project/Turkish/Image Audio Video/Result/200 Words/Twogram_Threegram/Threegram_Twogram_Selected/Result/Image_Video_Audio/değil.mp4\n"
     ]
    },
    {
     "name": "stderr",
     "output_type": "stream",
     "text": [
      "\r"
     ]
    },
    {
     "name": "stdout",
     "output_type": "stream",
     "text": [
      "MoviePy - Writing audio in /home/kurubal/Documents/Modern Ways/Project/Turkish/Image Audio Video/Result/200 Words/Twogram_Threegram/Threegram_Twogram_Selected/Data/Text_MP3/tamam sorun değil.mp3\n"
     ]
    },
    {
     "name": "stderr",
     "output_type": "stream",
     "text": [
      "                                                       "
     ]
    },
    {
     "name": "stdout",
     "output_type": "stream",
     "text": [
      "MoviePy - Done.\n"
     ]
    },
    {
     "name": "stderr",
     "output_type": "stream",
     "text": [
      "\r"
     ]
    },
    {
     "name": "stdout",
     "output_type": "stream",
     "text": [
      "Moviepy - Building video /home/kurubal/Documents/Modern Ways/Project/Turkish/Image Audio Video/Result/200 Words/Twogram_Threegram/Threegram_Twogram_Selected/Result/Image_Video_Audio/tamam sorun değil.mp4.\n",
      "MoviePy - Writing audio in tamam sorun değilTEMP_MPY_wvf_snd.mp4\n"
     ]
    },
    {
     "name": "stderr",
     "output_type": "stream",
     "text": [
      "                                                       \r"
     ]
    },
    {
     "name": "stdout",
     "output_type": "stream",
     "text": [
      "MoviePy - Done.\n",
      "Moviepy - Writing video /home/kurubal/Documents/Modern Ways/Project/Turkish/Image Audio Video/Result/200 Words/Twogram_Threegram/Threegram_Twogram_Selected/Result/Image_Video_Audio/tamam sorun değil.mp4\n",
      "\n"
     ]
    },
    {
     "name": "stderr",
     "output_type": "stream",
     "text": [
      "                                                  "
     ]
    },
    {
     "name": "stdout",
     "output_type": "stream",
     "text": [
      "Moviepy - Done !\n",
      "Moviepy - video ready /home/kurubal/Documents/Modern Ways/Project/Turkish/Image Audio Video/Result/200 Words/Twogram_Threegram/Threegram_Twogram_Selected/Result/Image_Video_Audio/tamam sorun değil.mp4\n"
     ]
    },
    {
     "name": "stderr",
     "output_type": "stream",
     "text": [
      "\r"
     ]
    },
    {
     "name": "stdout",
     "output_type": "stream",
     "text": [
      "Moviepy - Building video /home/kurubal/Documents/Modern Ways/Project/Turkish/Image Audio Video/Result/200 Words/Twogram_Threegram/Threegram_Twogram_Selected/Result/Concat_Video/tamam sorun değil.mp4.\n",
      "MoviePy - Writing audio in tamam sorun değilTEMP_MPY_wvf_snd.mp4\n"
     ]
    },
    {
     "name": "stderr",
     "output_type": "stream",
     "text": [
      "                                                                    \r"
     ]
    },
    {
     "name": "stdout",
     "output_type": "stream",
     "text": [
      "MoviePy - Done.\n",
      "Moviepy - Writing video /home/kurubal/Documents/Modern Ways/Project/Turkish/Image Audio Video/Result/200 Words/Twogram_Threegram/Threegram_Twogram_Selected/Result/Concat_Video/tamam sorun değil.mp4\n",
      "\n"
     ]
    },
    {
     "name": "stderr",
     "output_type": "stream",
     "text": [
      "                                                          \r"
     ]
    },
    {
     "name": "stdout",
     "output_type": "stream",
     "text": [
      "Moviepy - Done !\n",
      "Moviepy - video ready /home/kurubal/Documents/Modern Ways/Project/Turkish/Image Audio Video/Result/200 Words/Twogram_Threegram/Threegram_Twogram_Selected/Result/Concat_Video/tamam sorun değil.mp4\n",
      "MoviePy - Writing audio in /home/kurubal/Documents/Modern Ways/Project/Turkish/Image Audio Video/Result/200 Words/Twogram_Threegram/Threegram_Twogram_Selected/Data/Text_MP3/çok teşekkür ederim.mp3\n"
     ]
    },
    {
     "name": "stderr",
     "output_type": "stream",
     "text": [
      "                                                       "
     ]
    },
    {
     "name": "stdout",
     "output_type": "stream",
     "text": [
      "MoviePy - Done.\n"
     ]
    },
    {
     "name": "stderr",
     "output_type": "stream",
     "text": [
      "\r"
     ]
    },
    {
     "name": "stdout",
     "output_type": "stream",
     "text": [
      "Moviepy - Building video /home/kurubal/Documents/Modern Ways/Project/Turkish/Image Audio Video/Result/200 Words/Twogram_Threegram/Threegram_Twogram_Selected/Result/Image_Video_Audio/çok teşekkür ederim.mp4.\n",
      "MoviePy - Writing audio in çok teşekkür ederimTEMP_MPY_wvf_snd.mp4\n"
     ]
    },
    {
     "name": "stderr",
     "output_type": "stream",
     "text": [
      "                                                       \r"
     ]
    },
    {
     "name": "stdout",
     "output_type": "stream",
     "text": [
      "MoviePy - Done.\n",
      "Moviepy - Writing video /home/kurubal/Documents/Modern Ways/Project/Turkish/Image Audio Video/Result/200 Words/Twogram_Threegram/Threegram_Twogram_Selected/Result/Image_Video_Audio/çok teşekkür ederim.mp4\n",
      "\n"
     ]
    },
    {
     "name": "stderr",
     "output_type": "stream",
     "text": [
      "                                                  \r"
     ]
    },
    {
     "name": "stdout",
     "output_type": "stream",
     "text": [
      "Moviepy - Done !\n",
      "Moviepy - video ready /home/kurubal/Documents/Modern Ways/Project/Turkish/Image Audio Video/Result/200 Words/Twogram_Threegram/Threegram_Twogram_Selected/Result/Image_Video_Audio/çok teşekkür ederim.mp4\n",
      "Moviepy - Building video /home/kurubal/Documents/Modern Ways/Project/Turkish/Image Audio Video/Result/200 Words/Twogram_Threegram/Threegram_Twogram_Selected/Result/Concat_Video/çok teşekkür ederim.mp4.\n",
      "MoviePy - Writing audio in çok teşekkür ederimTEMP_MPY_wvf_snd.mp4\n"
     ]
    },
    {
     "name": "stderr",
     "output_type": "stream",
     "text": [
      "                                                                    \r"
     ]
    },
    {
     "name": "stdout",
     "output_type": "stream",
     "text": [
      "MoviePy - Done.\n",
      "Moviepy - Writing video /home/kurubal/Documents/Modern Ways/Project/Turkish/Image Audio Video/Result/200 Words/Twogram_Threegram/Threegram_Twogram_Selected/Result/Concat_Video/çok teşekkür ederim.mp4\n",
      "\n"
     ]
    },
    {
     "name": "stderr",
     "output_type": "stream",
     "text": [
      "                                                           \r"
     ]
    },
    {
     "name": "stdout",
     "output_type": "stream",
     "text": [
      "Moviepy - Done !\n",
      "Moviepy - video ready /home/kurubal/Documents/Modern Ways/Project/Turkish/Image Audio Video/Result/200 Words/Twogram_Threegram/Threegram_Twogram_Selected/Result/Concat_Video/çok teşekkür ederim.mp4\n"
     ]
    },
    {
     "data": {
      "application/javascript": "\n        if (window._pyforest_update_imports_cell) { window._pyforest_update_imports_cell('from PIL import Image'); }\n    ",
      "text/plain": [
       "<IPython.core.display.Javascript object>"
      ]
     },
     "metadata": {},
     "output_type": "display_data"
    },
    {
     "data": {
      "application/javascript": "\n        if (window._pyforest_update_imports_cell) { window._pyforest_update_imports_cell('from PIL import Image'); }\n    ",
      "text/plain": [
       "<IPython.core.display.Javascript object>"
      ]
     },
     "metadata": {},
     "output_type": "display_data"
    },
    {
     "data": {
      "application/javascript": "\n        if (window._pyforest_update_imports_cell) { window._pyforest_update_imports_cell('from PIL import Image'); }\n    ",
      "text/plain": [
       "<IPython.core.display.Javascript object>"
      ]
     },
     "metadata": {},
     "output_type": "display_data"
    },
    {
     "data": {
      "application/javascript": "\n        if (window._pyforest_update_imports_cell) { window._pyforest_update_imports_cell('from PIL import Image'); }\n    ",
      "text/plain": [
       "<IPython.core.display.Javascript object>"
      ]
     },
     "metadata": {},
     "output_type": "display_data"
    },
    {
     "name": "stdout",
     "output_type": "stream",
     "text": [
      "MoviePy - Writing audio in /home/kurubal/Documents/Modern Ways/Project/Turkish/Image Audio Video/Result/200 Words/Twogram_Threegram/Threegram_Twogram_Selected/Data/Text_MP3/bence.mp3\n"
     ]
    },
    {
     "name": "stderr",
     "output_type": "stream",
     "text": [
      "                                                       "
     ]
    },
    {
     "name": "stdout",
     "output_type": "stream",
     "text": [
      "MoviePy - Done.\n"
     ]
    },
    {
     "name": "stderr",
     "output_type": "stream",
     "text": [
      "\r"
     ]
    },
    {
     "name": "stdout",
     "output_type": "stream",
     "text": [
      "MoviePy - Writing audio in /home/kurubal/Documents/Modern Ways/Project/Turkish/Image Audio Video/Result/200 Words/Twogram_Threegram/Threegram_Twogram_Selected/Data/Text_MP3/harika.mp3\n"
     ]
    },
    {
     "name": "stderr",
     "output_type": "stream",
     "text": [
      "                                                       "
     ]
    },
    {
     "name": "stdout",
     "output_type": "stream",
     "text": [
      "MoviePy - Done.\n"
     ]
    },
    {
     "name": "stderr",
     "output_type": "stream",
     "text": [
      "\r"
     ]
    },
    {
     "name": "stdout",
     "output_type": "stream",
     "text": [
      "Moviepy - Building video /home/kurubal/Documents/Modern Ways/Project/Turkish/Image Audio Video/Result/200 Words/Twogram_Threegram/Threegram_Twogram_Selected/Result/Image_Video_Audio/bence.mp4.\n",
      "MoviePy - Writing audio in benceTEMP_MPY_wvf_snd.mp4\n"
     ]
    },
    {
     "name": "stderr",
     "output_type": "stream",
     "text": [
      "                                                       \r"
     ]
    },
    {
     "name": "stdout",
     "output_type": "stream",
     "text": [
      "MoviePy - Done.\n",
      "Moviepy - Writing video /home/kurubal/Documents/Modern Ways/Project/Turkish/Image Audio Video/Result/200 Words/Twogram_Threegram/Threegram_Twogram_Selected/Result/Image_Video_Audio/bence.mp4\n",
      "\n"
     ]
    },
    {
     "name": "stderr",
     "output_type": "stream",
     "text": [
      "                                                  "
     ]
    },
    {
     "name": "stdout",
     "output_type": "stream",
     "text": [
      "Moviepy - Done !\n",
      "Moviepy - video ready /home/kurubal/Documents/Modern Ways/Project/Turkish/Image Audio Video/Result/200 Words/Twogram_Threegram/Threegram_Twogram_Selected/Result/Image_Video_Audio/bence.mp4\n"
     ]
    },
    {
     "name": "stderr",
     "output_type": "stream",
     "text": [
      "\r"
     ]
    },
    {
     "name": "stdout",
     "output_type": "stream",
     "text": [
      "Moviepy - Building video /home/kurubal/Documents/Modern Ways/Project/Turkish/Image Audio Video/Result/200 Words/Twogram_Threegram/Threegram_Twogram_Selected/Result/Image_Video_Audio/harika.mp4.\n",
      "MoviePy - Writing audio in harikaTEMP_MPY_wvf_snd.mp4\n"
     ]
    },
    {
     "name": "stderr",
     "output_type": "stream",
     "text": [
      "                                                       \r"
     ]
    },
    {
     "name": "stdout",
     "output_type": "stream",
     "text": [
      "MoviePy - Done.\n",
      "Moviepy - Writing video /home/kurubal/Documents/Modern Ways/Project/Turkish/Image Audio Video/Result/200 Words/Twogram_Threegram/Threegram_Twogram_Selected/Result/Image_Video_Audio/harika.mp4\n",
      "\n"
     ]
    },
    {
     "name": "stderr",
     "output_type": "stream",
     "text": [
      "                                                  \r"
     ]
    },
    {
     "name": "stdout",
     "output_type": "stream",
     "text": [
      "Moviepy - Done !\n",
      "Moviepy - video ready /home/kurubal/Documents/Modern Ways/Project/Turkish/Image Audio Video/Result/200 Words/Twogram_Threegram/Threegram_Twogram_Selected/Result/Image_Video_Audio/harika.mp4\n",
      "MoviePy - Writing audio in /home/kurubal/Documents/Modern Ways/Project/Turkish/Image Audio Video/Result/200 Words/Twogram_Threegram/Threegram_Twogram_Selected/Data/Text_MP3/bence bu harika.mp3\n"
     ]
    },
    {
     "name": "stderr",
     "output_type": "stream",
     "text": [
      "                                                       "
     ]
    },
    {
     "name": "stdout",
     "output_type": "stream",
     "text": [
      "MoviePy - Done.\n"
     ]
    },
    {
     "name": "stderr",
     "output_type": "stream",
     "text": [
      "\r"
     ]
    },
    {
     "name": "stdout",
     "output_type": "stream",
     "text": [
      "Moviepy - Building video /home/kurubal/Documents/Modern Ways/Project/Turkish/Image Audio Video/Result/200 Words/Twogram_Threegram/Threegram_Twogram_Selected/Result/Image_Video_Audio/bence bu harika.mp4.\n",
      "MoviePy - Writing audio in bence bu harikaTEMP_MPY_wvf_snd.mp4\n"
     ]
    },
    {
     "name": "stderr",
     "output_type": "stream",
     "text": [
      "                                                       \r"
     ]
    },
    {
     "name": "stdout",
     "output_type": "stream",
     "text": [
      "MoviePy - Done.\n",
      "Moviepy - Writing video /home/kurubal/Documents/Modern Ways/Project/Turkish/Image Audio Video/Result/200 Words/Twogram_Threegram/Threegram_Twogram_Selected/Result/Image_Video_Audio/bence bu harika.mp4\n",
      "\n"
     ]
    },
    {
     "name": "stderr",
     "output_type": "stream",
     "text": [
      "                                                  \r"
     ]
    },
    {
     "name": "stdout",
     "output_type": "stream",
     "text": [
      "Moviepy - Done !\n",
      "Moviepy - video ready /home/kurubal/Documents/Modern Ways/Project/Turkish/Image Audio Video/Result/200 Words/Twogram_Threegram/Threegram_Twogram_Selected/Result/Image_Video_Audio/bence bu harika.mp4\n",
      "Moviepy - Building video /home/kurubal/Documents/Modern Ways/Project/Turkish/Image Audio Video/Result/200 Words/Twogram_Threegram/Threegram_Twogram_Selected/Result/Concat_Video/bence bu harika.mp4.\n",
      "MoviePy - Writing audio in bence bu harikaTEMP_MPY_wvf_snd.mp4\n"
     ]
    },
    {
     "name": "stderr",
     "output_type": "stream",
     "text": [
      "                                                                    \r"
     ]
    },
    {
     "name": "stdout",
     "output_type": "stream",
     "text": [
      "MoviePy - Done.\n",
      "Moviepy - Writing video /home/kurubal/Documents/Modern Ways/Project/Turkish/Image Audio Video/Result/200 Words/Twogram_Threegram/Threegram_Twogram_Selected/Result/Concat_Video/bence bu harika.mp4\n",
      "\n"
     ]
    },
    {
     "name": "stderr",
     "output_type": "stream",
     "text": [
      "                                                           \r"
     ]
    },
    {
     "name": "stdout",
     "output_type": "stream",
     "text": [
      "Moviepy - Done !\n",
      "Moviepy - video ready /home/kurubal/Documents/Modern Ways/Project/Turkish/Image Audio Video/Result/200 Words/Twogram_Threegram/Threegram_Twogram_Selected/Result/Concat_Video/bence bu harika.mp4\n"
     ]
    },
    {
     "data": {
      "application/javascript": "\n        if (window._pyforest_update_imports_cell) { window._pyforest_update_imports_cell('from PIL import Image'); }\n    ",
      "text/plain": [
       "<IPython.core.display.Javascript object>"
      ]
     },
     "metadata": {},
     "output_type": "display_data"
    },
    {
     "data": {
      "application/javascript": "\n        if (window._pyforest_update_imports_cell) { window._pyforest_update_imports_cell('from PIL import Image'); }\n    ",
      "text/plain": [
       "<IPython.core.display.Javascript object>"
      ]
     },
     "metadata": {},
     "output_type": "display_data"
    },
    {
     "name": "stdout",
     "output_type": "stream",
     "text": [
      "MoviePy - Writing audio in /home/kurubal/Documents/Modern Ways/Project/Turkish/Image Audio Video/Result/200 Words/Twogram_Threegram/Threegram_Twogram_Selected/Data/Text_MP3/burada.mp3\n"
     ]
    },
    {
     "name": "stderr",
     "output_type": "stream",
     "text": [
      "                                                       "
     ]
    },
    {
     "name": "stdout",
     "output_type": "stream",
     "text": [
      "MoviePy - Done.\n"
     ]
    },
    {
     "name": "stderr",
     "output_type": "stream",
     "text": [
      "\r"
     ]
    },
    {
     "name": "stdout",
     "output_type": "stream",
     "text": [
      "Moviepy - Building video /home/kurubal/Documents/Modern Ways/Project/Turkish/Image Audio Video/Result/200 Words/Twogram_Threegram/Threegram_Twogram_Selected/Result/Image_Video_Audio/burada.mp4.\n",
      "MoviePy - Writing audio in buradaTEMP_MPY_wvf_snd.mp4\n"
     ]
    },
    {
     "name": "stderr",
     "output_type": "stream",
     "text": [
      "                                                       \r"
     ]
    },
    {
     "name": "stdout",
     "output_type": "stream",
     "text": [
      "MoviePy - Done.\n",
      "Moviepy - Writing video /home/kurubal/Documents/Modern Ways/Project/Turkish/Image Audio Video/Result/200 Words/Twogram_Threegram/Threegram_Twogram_Selected/Result/Image_Video_Audio/burada.mp4\n",
      "\n"
     ]
    },
    {
     "name": "stderr",
     "output_type": "stream",
     "text": [
      "                                                  \r"
     ]
    },
    {
     "name": "stdout",
     "output_type": "stream",
     "text": [
      "Moviepy - Done !\n",
      "Moviepy - video ready /home/kurubal/Documents/Modern Ways/Project/Turkish/Image Audio Video/Result/200 Words/Twogram_Threegram/Threegram_Twogram_Selected/Result/Image_Video_Audio/burada.mp4\n",
      "MoviePy - Writing audio in /home/kurubal/Documents/Modern Ways/Project/Turkish/Image Audio Video/Result/200 Words/Twogram_Threegram/Threegram_Twogram_Selected/Data/Text_MP3/burada neler oluyor.mp3\n"
     ]
    },
    {
     "name": "stderr",
     "output_type": "stream",
     "text": [
      "                                                       "
     ]
    },
    {
     "name": "stdout",
     "output_type": "stream",
     "text": [
      "MoviePy - Done.\n"
     ]
    },
    {
     "name": "stderr",
     "output_type": "stream",
     "text": [
      "\r"
     ]
    },
    {
     "name": "stdout",
     "output_type": "stream",
     "text": [
      "Moviepy - Building video /home/kurubal/Documents/Modern Ways/Project/Turkish/Image Audio Video/Result/200 Words/Twogram_Threegram/Threegram_Twogram_Selected/Result/Image_Video_Audio/burada neler oluyor.mp4.\n",
      "MoviePy - Writing audio in burada neler oluyorTEMP_MPY_wvf_snd.mp4\n"
     ]
    },
    {
     "name": "stderr",
     "output_type": "stream",
     "text": [
      "                                                       \r"
     ]
    },
    {
     "name": "stdout",
     "output_type": "stream",
     "text": [
      "MoviePy - Done.\n",
      "Moviepy - Writing video /home/kurubal/Documents/Modern Ways/Project/Turkish/Image Audio Video/Result/200 Words/Twogram_Threegram/Threegram_Twogram_Selected/Result/Image_Video_Audio/burada neler oluyor.mp4\n",
      "\n"
     ]
    },
    {
     "name": "stderr",
     "output_type": "stream",
     "text": [
      "                                                  \r"
     ]
    },
    {
     "name": "stdout",
     "output_type": "stream",
     "text": [
      "Moviepy - Done !\n",
      "Moviepy - video ready /home/kurubal/Documents/Modern Ways/Project/Turkish/Image Audio Video/Result/200 Words/Twogram_Threegram/Threegram_Twogram_Selected/Result/Image_Video_Audio/burada neler oluyor.mp4\n",
      "Moviepy - Building video /home/kurubal/Documents/Modern Ways/Project/Turkish/Image Audio Video/Result/200 Words/Twogram_Threegram/Threegram_Twogram_Selected/Result/Concat_Video/burada neler oluyor.mp4.\n",
      "MoviePy - Writing audio in burada neler oluyorTEMP_MPY_wvf_snd.mp4\n"
     ]
    },
    {
     "name": "stderr",
     "output_type": "stream",
     "text": [
      "                                                                    \r"
     ]
    },
    {
     "name": "stdout",
     "output_type": "stream",
     "text": [
      "MoviePy - Done.\n",
      "Moviepy - Writing video /home/kurubal/Documents/Modern Ways/Project/Turkish/Image Audio Video/Result/200 Words/Twogram_Threegram/Threegram_Twogram_Selected/Result/Concat_Video/burada neler oluyor.mp4\n",
      "\n"
     ]
    },
    {
     "name": "stderr",
     "output_type": "stream",
     "text": [
      "                                                           \r"
     ]
    },
    {
     "name": "stdout",
     "output_type": "stream",
     "text": [
      "Moviepy - Done !\n",
      "Moviepy - video ready /home/kurubal/Documents/Modern Ways/Project/Turkish/Image Audio Video/Result/200 Words/Twogram_Threegram/Threegram_Twogram_Selected/Result/Concat_Video/burada neler oluyor.mp4\n"
     ]
    },
    {
     "data": {
      "application/javascript": "\n        if (window._pyforest_update_imports_cell) { window._pyforest_update_imports_cell('from PIL import Image'); }\n    ",
      "text/plain": [
       "<IPython.core.display.Javascript object>"
      ]
     },
     "metadata": {},
     "output_type": "display_data"
    },
    {
     "data": {
      "application/javascript": "\n        if (window._pyforest_update_imports_cell) { window._pyforest_update_imports_cell('from PIL import Image'); }\n    ",
      "text/plain": [
       "<IPython.core.display.Javascript object>"
      ]
     },
     "metadata": {},
     "output_type": "display_data"
    },
    {
     "data": {
      "application/javascript": "\n        if (window._pyforest_update_imports_cell) { window._pyforest_update_imports_cell('from PIL import Image'); }\n    ",
      "text/plain": [
       "<IPython.core.display.Javascript object>"
      ]
     },
     "metadata": {},
     "output_type": "display_data"
    },
    {
     "data": {
      "application/javascript": "\n        if (window._pyforest_update_imports_cell) { window._pyforest_update_imports_cell('from PIL import Image'); }\n    ",
      "text/plain": [
       "<IPython.core.display.Javascript object>"
      ]
     },
     "metadata": {},
     "output_type": "display_data"
    },
    {
     "data": {
      "application/javascript": "\n        if (window._pyforest_update_imports_cell) { window._pyforest_update_imports_cell('from PIL import Image'); }\n    ",
      "text/plain": [
       "<IPython.core.display.Javascript object>"
      ]
     },
     "metadata": {},
     "output_type": "display_data"
    },
    {
     "data": {
      "application/javascript": "\n        if (window._pyforest_update_imports_cell) { window._pyforest_update_imports_cell('from PIL import Image'); }\n    ",
      "text/plain": [
       "<IPython.core.display.Javascript object>"
      ]
     },
     "metadata": {},
     "output_type": "display_data"
    },
    {
     "name": "stdout",
     "output_type": "stream",
     "text": [
      "MoviePy - Writing audio in /home/kurubal/Documents/Modern Ways/Project/Turkish/Image Audio Video/Result/200 Words/Twogram_Threegram/Threegram_Twogram_Selected/Data/Text_MP3/lütfen.mp3\n"
     ]
    },
    {
     "name": "stderr",
     "output_type": "stream",
     "text": [
      "                                                       "
     ]
    },
    {
     "name": "stdout",
     "output_type": "stream",
     "text": [
      "MoviePy - Done.\n"
     ]
    },
    {
     "name": "stderr",
     "output_type": "stream",
     "text": [
      "\r"
     ]
    },
    {
     "name": "stdout",
     "output_type": "stream",
     "text": [
      "MoviePy - Writing audio in /home/kurubal/Documents/Modern Ways/Project/Turkish/Image Audio Video/Result/200 Words/Twogram_Threegram/Threegram_Twogram_Selected/Data/Text_MP3/izin.mp3\n"
     ]
    },
    {
     "name": "stderr",
     "output_type": "stream",
     "text": [
      "                                                       "
     ]
    },
    {
     "name": "stdout",
     "output_type": "stream",
     "text": [
      "MoviePy - Done.\n"
     ]
    },
    {
     "name": "stderr",
     "output_type": "stream",
     "text": [
      "\r"
     ]
    },
    {
     "name": "stdout",
     "output_type": "stream",
     "text": [
      "MoviePy - Writing audio in /home/kurubal/Documents/Modern Ways/Project/Turkish/Image Audio Video/Result/200 Words/Twogram_Threegram/Threegram_Twogram_Selected/Data/Text_MP3/ver.mp3\n"
     ]
    },
    {
     "name": "stderr",
     "output_type": "stream",
     "text": [
      "                                                       "
     ]
    },
    {
     "name": "stdout",
     "output_type": "stream",
     "text": [
      "MoviePy - Done.\n"
     ]
    },
    {
     "name": "stderr",
     "output_type": "stream",
     "text": [
      "\r"
     ]
    },
    {
     "name": "stdout",
     "output_type": "stream",
     "text": [
      "Moviepy - Building video /home/kurubal/Documents/Modern Ways/Project/Turkish/Image Audio Video/Result/200 Words/Twogram_Threegram/Threegram_Twogram_Selected/Result/Image_Video_Audio/lütfen.mp4.\n",
      "MoviePy - Writing audio in lütfenTEMP_MPY_wvf_snd.mp4\n"
     ]
    },
    {
     "name": "stderr",
     "output_type": "stream",
     "text": [
      "                                                       \r"
     ]
    },
    {
     "name": "stdout",
     "output_type": "stream",
     "text": [
      "MoviePy - Done.\n",
      "Moviepy - Writing video /home/kurubal/Documents/Modern Ways/Project/Turkish/Image Audio Video/Result/200 Words/Twogram_Threegram/Threegram_Twogram_Selected/Result/Image_Video_Audio/lütfen.mp4\n",
      "\n"
     ]
    },
    {
     "name": "stderr",
     "output_type": "stream",
     "text": [
      "                                                  "
     ]
    },
    {
     "name": "stdout",
     "output_type": "stream",
     "text": [
      "Moviepy - Done !\n",
      "Moviepy - video ready /home/kurubal/Documents/Modern Ways/Project/Turkish/Image Audio Video/Result/200 Words/Twogram_Threegram/Threegram_Twogram_Selected/Result/Image_Video_Audio/lütfen.mp4\n"
     ]
    },
    {
     "name": "stderr",
     "output_type": "stream",
     "text": [
      "\r"
     ]
    },
    {
     "name": "stdout",
     "output_type": "stream",
     "text": [
      "Moviepy - Building video /home/kurubal/Documents/Modern Ways/Project/Turkish/Image Audio Video/Result/200 Words/Twogram_Threegram/Threegram_Twogram_Selected/Result/Image_Video_Audio/izin.mp4.\n",
      "MoviePy - Writing audio in izinTEMP_MPY_wvf_snd.mp4\n"
     ]
    },
    {
     "name": "stderr",
     "output_type": "stream",
     "text": [
      "                                                       \r"
     ]
    },
    {
     "name": "stdout",
     "output_type": "stream",
     "text": [
      "MoviePy - Done.\n",
      "Moviepy - Writing video /home/kurubal/Documents/Modern Ways/Project/Turkish/Image Audio Video/Result/200 Words/Twogram_Threegram/Threegram_Twogram_Selected/Result/Image_Video_Audio/izin.mp4\n",
      "\n"
     ]
    },
    {
     "name": "stderr",
     "output_type": "stream",
     "text": [
      "                                                  "
     ]
    },
    {
     "name": "stdout",
     "output_type": "stream",
     "text": [
      "Moviepy - Done !\n",
      "Moviepy - video ready /home/kurubal/Documents/Modern Ways/Project/Turkish/Image Audio Video/Result/200 Words/Twogram_Threegram/Threegram_Twogram_Selected/Result/Image_Video_Audio/izin.mp4\n"
     ]
    },
    {
     "name": "stderr",
     "output_type": "stream",
     "text": [
      "\r"
     ]
    },
    {
     "name": "stdout",
     "output_type": "stream",
     "text": [
      "Moviepy - Building video /home/kurubal/Documents/Modern Ways/Project/Turkish/Image Audio Video/Result/200 Words/Twogram_Threegram/Threegram_Twogram_Selected/Result/Image_Video_Audio/ver.mp4.\n",
      "MoviePy - Writing audio in verTEMP_MPY_wvf_snd.mp4\n"
     ]
    },
    {
     "name": "stderr",
     "output_type": "stream",
     "text": [
      "                                                       \r"
     ]
    },
    {
     "name": "stdout",
     "output_type": "stream",
     "text": [
      "MoviePy - Done.\n",
      "Moviepy - Writing video /home/kurubal/Documents/Modern Ways/Project/Turkish/Image Audio Video/Result/200 Words/Twogram_Threegram/Threegram_Twogram_Selected/Result/Image_Video_Audio/ver.mp4\n",
      "\n"
     ]
    },
    {
     "name": "stderr",
     "output_type": "stream",
     "text": [
      "                                                  \r"
     ]
    },
    {
     "name": "stdout",
     "output_type": "stream",
     "text": [
      "Moviepy - Done !\n",
      "Moviepy - video ready /home/kurubal/Documents/Modern Ways/Project/Turkish/Image Audio Video/Result/200 Words/Twogram_Threegram/Threegram_Twogram_Selected/Result/Image_Video_Audio/ver.mp4\n",
      "MoviePy - Writing audio in /home/kurubal/Documents/Modern Ways/Project/Turkish/Image Audio Video/Result/200 Words/Twogram_Threegram/Threegram_Twogram_Selected/Data/Text_MP3/lütfen izin ver.mp3\n"
     ]
    },
    {
     "name": "stderr",
     "output_type": "stream",
     "text": [
      "                                                       "
     ]
    },
    {
     "name": "stdout",
     "output_type": "stream",
     "text": [
      "MoviePy - Done.\n"
     ]
    },
    {
     "name": "stderr",
     "output_type": "stream",
     "text": [
      "\r"
     ]
    },
    {
     "name": "stdout",
     "output_type": "stream",
     "text": [
      "Moviepy - Building video /home/kurubal/Documents/Modern Ways/Project/Turkish/Image Audio Video/Result/200 Words/Twogram_Threegram/Threegram_Twogram_Selected/Result/Image_Video_Audio/lütfen izin ver.mp4.\n",
      "MoviePy - Writing audio in lütfen izin verTEMP_MPY_wvf_snd.mp4\n"
     ]
    },
    {
     "name": "stderr",
     "output_type": "stream",
     "text": [
      "                                                       \r"
     ]
    },
    {
     "name": "stdout",
     "output_type": "stream",
     "text": [
      "MoviePy - Done.\n",
      "Moviepy - Writing video /home/kurubal/Documents/Modern Ways/Project/Turkish/Image Audio Video/Result/200 Words/Twogram_Threegram/Threegram_Twogram_Selected/Result/Image_Video_Audio/lütfen izin ver.mp4\n",
      "\n"
     ]
    },
    {
     "name": "stderr",
     "output_type": "stream",
     "text": [
      "                                                  \r"
     ]
    },
    {
     "name": "stdout",
     "output_type": "stream",
     "text": [
      "Moviepy - Done !\n",
      "Moviepy - video ready /home/kurubal/Documents/Modern Ways/Project/Turkish/Image Audio Video/Result/200 Words/Twogram_Threegram/Threegram_Twogram_Selected/Result/Image_Video_Audio/lütfen izin ver.mp4\n",
      "Moviepy - Building video /home/kurubal/Documents/Modern Ways/Project/Turkish/Image Audio Video/Result/200 Words/Twogram_Threegram/Threegram_Twogram_Selected/Result/Concat_Video/lütfen izin ver.mp4.\n",
      "MoviePy - Writing audio in lütfen izin verTEMP_MPY_wvf_snd.mp4\n"
     ]
    },
    {
     "name": "stderr",
     "output_type": "stream",
     "text": [
      "                                                                    \r"
     ]
    },
    {
     "name": "stdout",
     "output_type": "stream",
     "text": [
      "MoviePy - Done.\n",
      "Moviepy - Writing video /home/kurubal/Documents/Modern Ways/Project/Turkish/Image Audio Video/Result/200 Words/Twogram_Threegram/Threegram_Twogram_Selected/Result/Concat_Video/lütfen izin ver.mp4\n",
      "\n"
     ]
    },
    {
     "name": "stderr",
     "output_type": "stream",
     "text": [
      "                                                           \r"
     ]
    },
    {
     "name": "stdout",
     "output_type": "stream",
     "text": [
      "Moviepy - Done !\n",
      "Moviepy - video ready /home/kurubal/Documents/Modern Ways/Project/Turkish/Image Audio Video/Result/200 Words/Twogram_Threegram/Threegram_Twogram_Selected/Result/Concat_Video/lütfen izin ver.mp4\n"
     ]
    },
    {
     "data": {
      "application/javascript": "\n        if (window._pyforest_update_imports_cell) { window._pyforest_update_imports_cell('from PIL import Image'); }\n    ",
      "text/plain": [
       "<IPython.core.display.Javascript object>"
      ]
     },
     "metadata": {},
     "output_type": "display_data"
    },
    {
     "data": {
      "application/javascript": "\n        if (window._pyforest_update_imports_cell) { window._pyforest_update_imports_cell('from PIL import Image'); }\n    ",
      "text/plain": [
       "<IPython.core.display.Javascript object>"
      ]
     },
     "metadata": {},
     "output_type": "display_data"
    },
    {
     "data": {
      "application/javascript": "\n        if (window._pyforest_update_imports_cell) { window._pyforest_update_imports_cell('from PIL import Image'); }\n    ",
      "text/plain": [
       "<IPython.core.display.Javascript object>"
      ]
     },
     "metadata": {},
     "output_type": "display_data"
    },
    {
     "data": {
      "application/javascript": "\n        if (window._pyforest_update_imports_cell) { window._pyforest_update_imports_cell('from PIL import Image'); }\n    ",
      "text/plain": [
       "<IPython.core.display.Javascript object>"
      ]
     },
     "metadata": {},
     "output_type": "display_data"
    },
    {
     "name": "stdout",
     "output_type": "stream",
     "text": [
      "MoviePy - Writing audio in /home/kurubal/Documents/Modern Ways/Project/Turkish/Image Audio Video/Result/200 Words/Twogram_Threegram/Threegram_Twogram_Selected/Data/Text_MP3/uzun.mp3\n"
     ]
    },
    {
     "name": "stderr",
     "output_type": "stream",
     "text": [
      "                                                       "
     ]
    },
    {
     "name": "stdout",
     "output_type": "stream",
     "text": [
      "MoviePy - Done.\n"
     ]
    },
    {
     "name": "stderr",
     "output_type": "stream",
     "text": [
      "\r"
     ]
    },
    {
     "name": "stdout",
     "output_type": "stream",
     "text": [
      "MoviePy - Writing audio in /home/kurubal/Documents/Modern Ways/Project/Turkish/Image Audio Video/Result/200 Words/Twogram_Threegram/Threegram_Twogram_Selected/Data/Text_MP3/zaman.mp3\n"
     ]
    },
    {
     "name": "stderr",
     "output_type": "stream",
     "text": [
      "                                                       "
     ]
    },
    {
     "name": "stdout",
     "output_type": "stream",
     "text": [
      "MoviePy - Done.\n"
     ]
    },
    {
     "name": "stderr",
     "output_type": "stream",
     "text": [
      "\r"
     ]
    },
    {
     "name": "stdout",
     "output_type": "stream",
     "text": [
      "Moviepy - Building video /home/kurubal/Documents/Modern Ways/Project/Turkish/Image Audio Video/Result/200 Words/Twogram_Threegram/Threegram_Twogram_Selected/Result/Image_Video_Audio/uzun.mp4.\n",
      "MoviePy - Writing audio in uzunTEMP_MPY_wvf_snd.mp4\n"
     ]
    },
    {
     "name": "stderr",
     "output_type": "stream",
     "text": [
      "                                                       \r"
     ]
    },
    {
     "name": "stdout",
     "output_type": "stream",
     "text": [
      "MoviePy - Done.\n",
      "Moviepy - Writing video /home/kurubal/Documents/Modern Ways/Project/Turkish/Image Audio Video/Result/200 Words/Twogram_Threegram/Threegram_Twogram_Selected/Result/Image_Video_Audio/uzun.mp4\n",
      "\n"
     ]
    },
    {
     "name": "stderr",
     "output_type": "stream",
     "text": [
      "                                                  \r"
     ]
    },
    {
     "name": "stdout",
     "output_type": "stream",
     "text": [
      "Moviepy - Done !\n",
      "Moviepy - video ready /home/kurubal/Documents/Modern Ways/Project/Turkish/Image Audio Video/Result/200 Words/Twogram_Threegram/Threegram_Twogram_Selected/Result/Image_Video_Audio/uzun.mp4\n",
      "Moviepy - Building video /home/kurubal/Documents/Modern Ways/Project/Turkish/Image Audio Video/Result/200 Words/Twogram_Threegram/Threegram_Twogram_Selected/Result/Image_Video_Audio/zaman.mp4.\n",
      "MoviePy - Writing audio in zamanTEMP_MPY_wvf_snd.mp4\n"
     ]
    },
    {
     "name": "stderr",
     "output_type": "stream",
     "text": [
      "                                                       \r"
     ]
    },
    {
     "name": "stdout",
     "output_type": "stream",
     "text": [
      "MoviePy - Done.\n",
      "Moviepy - Writing video /home/kurubal/Documents/Modern Ways/Project/Turkish/Image Audio Video/Result/200 Words/Twogram_Threegram/Threegram_Twogram_Selected/Result/Image_Video_Audio/zaman.mp4\n",
      "\n"
     ]
    },
    {
     "name": "stderr",
     "output_type": "stream",
     "text": [
      "                                                  "
     ]
    },
    {
     "name": "stdout",
     "output_type": "stream",
     "text": [
      "Moviepy - Done !\n",
      "Moviepy - video ready /home/kurubal/Documents/Modern Ways/Project/Turkish/Image Audio Video/Result/200 Words/Twogram_Threegram/Threegram_Twogram_Selected/Result/Image_Video_Audio/zaman.mp4\n"
     ]
    },
    {
     "name": "stderr",
     "output_type": "stream",
     "text": [
      "\r"
     ]
    },
    {
     "name": "stdout",
     "output_type": "stream",
     "text": [
      "MoviePy - Writing audio in /home/kurubal/Documents/Modern Ways/Project/Turkish/Image Audio Video/Result/200 Words/Twogram_Threegram/Threegram_Twogram_Selected/Data/Text_MP3/uzun zaman oldu.mp3\n"
     ]
    },
    {
     "name": "stderr",
     "output_type": "stream",
     "text": [
      "                                                       "
     ]
    },
    {
     "name": "stdout",
     "output_type": "stream",
     "text": [
      "MoviePy - Done.\n"
     ]
    },
    {
     "name": "stderr",
     "output_type": "stream",
     "text": [
      "\r"
     ]
    },
    {
     "name": "stdout",
     "output_type": "stream",
     "text": [
      "Moviepy - Building video /home/kurubal/Documents/Modern Ways/Project/Turkish/Image Audio Video/Result/200 Words/Twogram_Threegram/Threegram_Twogram_Selected/Result/Image_Video_Audio/uzun zaman oldu.mp4.\n",
      "MoviePy - Writing audio in uzun zaman olduTEMP_MPY_wvf_snd.mp4\n"
     ]
    },
    {
     "name": "stderr",
     "output_type": "stream",
     "text": [
      "                                                       \r"
     ]
    },
    {
     "name": "stdout",
     "output_type": "stream",
     "text": [
      "MoviePy - Done.\n",
      "Moviepy - Writing video /home/kurubal/Documents/Modern Ways/Project/Turkish/Image Audio Video/Result/200 Words/Twogram_Threegram/Threegram_Twogram_Selected/Result/Image_Video_Audio/uzun zaman oldu.mp4\n",
      "\n"
     ]
    },
    {
     "name": "stderr",
     "output_type": "stream",
     "text": [
      "                                                  \r"
     ]
    },
    {
     "name": "stdout",
     "output_type": "stream",
     "text": [
      "Moviepy - Done !\n",
      "Moviepy - video ready /home/kurubal/Documents/Modern Ways/Project/Turkish/Image Audio Video/Result/200 Words/Twogram_Threegram/Threegram_Twogram_Selected/Result/Image_Video_Audio/uzun zaman oldu.mp4\n",
      "Moviepy - Building video /home/kurubal/Documents/Modern Ways/Project/Turkish/Image Audio Video/Result/200 Words/Twogram_Threegram/Threegram_Twogram_Selected/Result/Concat_Video/uzun zaman oldu.mp4.\n",
      "MoviePy - Writing audio in uzun zaman olduTEMP_MPY_wvf_snd.mp4\n"
     ]
    },
    {
     "name": "stderr",
     "output_type": "stream",
     "text": [
      "                                                                    \r"
     ]
    },
    {
     "name": "stdout",
     "output_type": "stream",
     "text": [
      "MoviePy - Done.\n",
      "Moviepy - Writing video /home/kurubal/Documents/Modern Ways/Project/Turkish/Image Audio Video/Result/200 Words/Twogram_Threegram/Threegram_Twogram_Selected/Result/Concat_Video/uzun zaman oldu.mp4\n",
      "\n"
     ]
    },
    {
     "name": "stderr",
     "output_type": "stream",
     "text": [
      "                                                          \r"
     ]
    },
    {
     "name": "stdout",
     "output_type": "stream",
     "text": [
      "Moviepy - Done !\n",
      "Moviepy - video ready /home/kurubal/Documents/Modern Ways/Project/Turkish/Image Audio Video/Result/200 Words/Twogram_Threegram/Threegram_Twogram_Selected/Result/Concat_Video/uzun zaman oldu.mp4\n",
      "MoviePy - Writing audio in /home/kurubal/Documents/Modern Ways/Project/Turkish/Image Audio Video/Result/200 Words/Twogram_Threegram/Threegram_Twogram_Selected/Data/Text_MP3/sorun var mı.mp3\n"
     ]
    },
    {
     "name": "stderr",
     "output_type": "stream",
     "text": [
      "                                                       "
     ]
    },
    {
     "name": "stdout",
     "output_type": "stream",
     "text": [
      "MoviePy - Done.\n"
     ]
    },
    {
     "name": "stderr",
     "output_type": "stream",
     "text": [
      "\r"
     ]
    },
    {
     "name": "stdout",
     "output_type": "stream",
     "text": [
      "Moviepy - Building video /home/kurubal/Documents/Modern Ways/Project/Turkish/Image Audio Video/Result/200 Words/Twogram_Threegram/Threegram_Twogram_Selected/Result/Image_Video_Audio/sorun var mı.mp4.\n",
      "MoviePy - Writing audio in sorun var mıTEMP_MPY_wvf_snd.mp4\n"
     ]
    },
    {
     "name": "stderr",
     "output_type": "stream",
     "text": [
      "                                                       \r"
     ]
    },
    {
     "name": "stdout",
     "output_type": "stream",
     "text": [
      "MoviePy - Done.\n",
      "Moviepy - Writing video /home/kurubal/Documents/Modern Ways/Project/Turkish/Image Audio Video/Result/200 Words/Twogram_Threegram/Threegram_Twogram_Selected/Result/Image_Video_Audio/sorun var mı.mp4\n",
      "\n"
     ]
    },
    {
     "name": "stderr",
     "output_type": "stream",
     "text": [
      "                                                  \r"
     ]
    },
    {
     "name": "stdout",
     "output_type": "stream",
     "text": [
      "Moviepy - Done !\n",
      "Moviepy - video ready /home/kurubal/Documents/Modern Ways/Project/Turkish/Image Audio Video/Result/200 Words/Twogram_Threegram/Threegram_Twogram_Selected/Result/Image_Video_Audio/sorun var mı.mp4\n",
      "Moviepy - Building video /home/kurubal/Documents/Modern Ways/Project/Turkish/Image Audio Video/Result/200 Words/Twogram_Threegram/Threegram_Twogram_Selected/Result/Concat_Video/sorun var mı.mp4.\n",
      "MoviePy - Writing audio in sorun var mıTEMP_MPY_wvf_snd.mp4\n"
     ]
    },
    {
     "name": "stderr",
     "output_type": "stream",
     "text": [
      "                                                                    \r"
     ]
    },
    {
     "name": "stdout",
     "output_type": "stream",
     "text": [
      "MoviePy - Done.\n",
      "Moviepy - Writing video /home/kurubal/Documents/Modern Ways/Project/Turkish/Image Audio Video/Result/200 Words/Twogram_Threegram/Threegram_Twogram_Selected/Result/Concat_Video/sorun var mı.mp4\n",
      "\n"
     ]
    },
    {
     "name": "stderr",
     "output_type": "stream",
     "text": [
      "                                                          \r"
     ]
    },
    {
     "name": "stdout",
     "output_type": "stream",
     "text": [
      "Moviepy - Done !\n",
      "Moviepy - video ready /home/kurubal/Documents/Modern Ways/Project/Turkish/Image Audio Video/Result/200 Words/Twogram_Threegram/Threegram_Twogram_Selected/Result/Concat_Video/sorun var mı.mp4\n"
     ]
    },
    {
     "data": {
      "application/javascript": "\n        if (window._pyforest_update_imports_cell) { window._pyforest_update_imports_cell('from PIL import Image'); }\n    ",
      "text/plain": [
       "<IPython.core.display.Javascript object>"
      ]
     },
     "metadata": {},
     "output_type": "display_data"
    },
    {
     "data": {
      "application/javascript": "\n        if (window._pyforest_update_imports_cell) { window._pyforest_update_imports_cell('from PIL import Image'); }\n    ",
      "text/plain": [
       "<IPython.core.display.Javascript object>"
      ]
     },
     "metadata": {},
     "output_type": "display_data"
    },
    {
     "name": "stdout",
     "output_type": "stream",
     "text": [
      "MoviePy - Writing audio in /home/kurubal/Documents/Modern Ways/Project/Turkish/Image Audio Video/Result/200 Words/Twogram_Threegram/Threegram_Twogram_Selected/Data/Text_MP3/hiçbir.mp3\n"
     ]
    },
    {
     "name": "stderr",
     "output_type": "stream",
     "text": [
      "                                                       "
     ]
    },
    {
     "name": "stdout",
     "output_type": "stream",
     "text": [
      "MoviePy - Done.\n"
     ]
    },
    {
     "name": "stderr",
     "output_type": "stream",
     "text": [
      "\r"
     ]
    },
    {
     "name": "stdout",
     "output_type": "stream",
     "text": [
      "Moviepy - Building video /home/kurubal/Documents/Modern Ways/Project/Turkish/Image Audio Video/Result/200 Words/Twogram_Threegram/Threegram_Twogram_Selected/Result/Image_Video_Audio/hiçbir.mp4.\n",
      "MoviePy - Writing audio in hiçbirTEMP_MPY_wvf_snd.mp4\n"
     ]
    },
    {
     "name": "stderr",
     "output_type": "stream",
     "text": [
      "                                                       \r"
     ]
    },
    {
     "name": "stdout",
     "output_type": "stream",
     "text": [
      "MoviePy - Done.\n",
      "Moviepy - Writing video /home/kurubal/Documents/Modern Ways/Project/Turkish/Image Audio Video/Result/200 Words/Twogram_Threegram/Threegram_Twogram_Selected/Result/Image_Video_Audio/hiçbir.mp4\n",
      "\n"
     ]
    },
    {
     "name": "stderr",
     "output_type": "stream",
     "text": [
      "                                                  \r"
     ]
    },
    {
     "name": "stdout",
     "output_type": "stream",
     "text": [
      "Moviepy - Done !\n",
      "Moviepy - video ready /home/kurubal/Documents/Modern Ways/Project/Turkish/Image Audio Video/Result/200 Words/Twogram_Threegram/Threegram_Twogram_Selected/Result/Image_Video_Audio/hiçbir.mp4\n",
      "MoviePy - Writing audio in /home/kurubal/Documents/Modern Ways/Project/Turkish/Image Audio Video/Result/200 Words/Twogram_Threegram/Threegram_Twogram_Selected/Data/Text_MP3/hiçbir sorun yok.mp3\n"
     ]
    },
    {
     "name": "stderr",
     "output_type": "stream",
     "text": [
      "                                                       "
     ]
    },
    {
     "name": "stdout",
     "output_type": "stream",
     "text": [
      "MoviePy - Done.\n"
     ]
    },
    {
     "name": "stderr",
     "output_type": "stream",
     "text": [
      "\r"
     ]
    },
    {
     "name": "stdout",
     "output_type": "stream",
     "text": [
      "Moviepy - Building video /home/kurubal/Documents/Modern Ways/Project/Turkish/Image Audio Video/Result/200 Words/Twogram_Threegram/Threegram_Twogram_Selected/Result/Image_Video_Audio/hiçbir sorun yok.mp4.\n",
      "MoviePy - Writing audio in hiçbir sorun yokTEMP_MPY_wvf_snd.mp4\n"
     ]
    },
    {
     "name": "stderr",
     "output_type": "stream",
     "text": [
      "                                                       \r"
     ]
    },
    {
     "name": "stdout",
     "output_type": "stream",
     "text": [
      "MoviePy - Done.\n",
      "Moviepy - Writing video /home/kurubal/Documents/Modern Ways/Project/Turkish/Image Audio Video/Result/200 Words/Twogram_Threegram/Threegram_Twogram_Selected/Result/Image_Video_Audio/hiçbir sorun yok.mp4\n",
      "\n"
     ]
    },
    {
     "name": "stderr",
     "output_type": "stream",
     "text": [
      "                                                  \r"
     ]
    },
    {
     "name": "stdout",
     "output_type": "stream",
     "text": [
      "Moviepy - Done !\n",
      "Moviepy - video ready /home/kurubal/Documents/Modern Ways/Project/Turkish/Image Audio Video/Result/200 Words/Twogram_Threegram/Threegram_Twogram_Selected/Result/Image_Video_Audio/hiçbir sorun yok.mp4\n",
      "Moviepy - Building video /home/kurubal/Documents/Modern Ways/Project/Turkish/Image Audio Video/Result/200 Words/Twogram_Threegram/Threegram_Twogram_Selected/Result/Concat_Video/hiçbir sorun yok.mp4.\n",
      "MoviePy - Writing audio in hiçbir sorun yokTEMP_MPY_wvf_snd.mp4\n"
     ]
    },
    {
     "name": "stderr",
     "output_type": "stream",
     "text": [
      "                                                                    \r"
     ]
    },
    {
     "name": "stdout",
     "output_type": "stream",
     "text": [
      "MoviePy - Done.\n",
      "Moviepy - Writing video /home/kurubal/Documents/Modern Ways/Project/Turkish/Image Audio Video/Result/200 Words/Twogram_Threegram/Threegram_Twogram_Selected/Result/Concat_Video/hiçbir sorun yok.mp4\n",
      "\n"
     ]
    },
    {
     "name": "stderr",
     "output_type": "stream",
     "text": [
      "                                                           \r"
     ]
    },
    {
     "name": "stdout",
     "output_type": "stream",
     "text": [
      "Moviepy - Done !\n",
      "Moviepy - video ready /home/kurubal/Documents/Modern Ways/Project/Turkish/Image Audio Video/Result/200 Words/Twogram_Threegram/Threegram_Twogram_Selected/Result/Concat_Video/hiçbir sorun yok.mp4\n"
     ]
    },
    {
     "data": {
      "application/javascript": "\n        if (window._pyforest_update_imports_cell) { window._pyforest_update_imports_cell('from PIL import Image'); }\n    ",
      "text/plain": [
       "<IPython.core.display.Javascript object>"
      ]
     },
     "metadata": {},
     "output_type": "display_data"
    },
    {
     "data": {
      "application/javascript": "\n        if (window._pyforest_update_imports_cell) { window._pyforest_update_imports_cell('from PIL import Image'); }\n    ",
      "text/plain": [
       "<IPython.core.display.Javascript object>"
      ]
     },
     "metadata": {},
     "output_type": "display_data"
    },
    {
     "data": {
      "application/javascript": "\n        if (window._pyforest_update_imports_cell) { window._pyforest_update_imports_cell('from PIL import Image'); }\n    ",
      "text/plain": [
       "<IPython.core.display.Javascript object>"
      ]
     },
     "metadata": {},
     "output_type": "display_data"
    },
    {
     "data": {
      "application/javascript": "\n        if (window._pyforest_update_imports_cell) { window._pyforest_update_imports_cell('from PIL import Image'); }\n    ",
      "text/plain": [
       "<IPython.core.display.Javascript object>"
      ]
     },
     "metadata": {},
     "output_type": "display_data"
    },
    {
     "name": "stdout",
     "output_type": "stream",
     "text": [
      "MoviePy - Writing audio in /home/kurubal/Documents/Modern Ways/Project/Turkish/Image Audio Video/Result/200 Words/Twogram_Threegram/Threegram_Twogram_Selected/Data/Text_MP3/biraz.mp3\n"
     ]
    },
    {
     "name": "stderr",
     "output_type": "stream",
     "text": [
      "                                                       "
     ]
    },
    {
     "name": "stdout",
     "output_type": "stream",
     "text": [
      "MoviePy - Done.\n"
     ]
    },
    {
     "name": "stderr",
     "output_type": "stream",
     "text": [
      "\r"
     ]
    },
    {
     "name": "stdout",
     "output_type": "stream",
     "text": [
      "MoviePy - Writing audio in /home/kurubal/Documents/Modern Ways/Project/Turkish/Image Audio Video/Result/200 Words/Twogram_Threegram/Threegram_Twogram_Selected/Data/Text_MP3/fazla.mp3\n"
     ]
    },
    {
     "name": "stderr",
     "output_type": "stream",
     "text": [
      "                                                       "
     ]
    },
    {
     "name": "stdout",
     "output_type": "stream",
     "text": [
      "MoviePy - Done.\n"
     ]
    },
    {
     "name": "stderr",
     "output_type": "stream",
     "text": [
      "\r"
     ]
    },
    {
     "name": "stdout",
     "output_type": "stream",
     "text": [
      "Moviepy - Building video /home/kurubal/Documents/Modern Ways/Project/Turkish/Image Audio Video/Result/200 Words/Twogram_Threegram/Threegram_Twogram_Selected/Result/Image_Video_Audio/biraz.mp4.\n",
      "MoviePy - Writing audio in birazTEMP_MPY_wvf_snd.mp4\n"
     ]
    },
    {
     "name": "stderr",
     "output_type": "stream",
     "text": [
      "                                                       \r"
     ]
    },
    {
     "name": "stdout",
     "output_type": "stream",
     "text": [
      "MoviePy - Done.\n",
      "Moviepy - Writing video /home/kurubal/Documents/Modern Ways/Project/Turkish/Image Audio Video/Result/200 Words/Twogram_Threegram/Threegram_Twogram_Selected/Result/Image_Video_Audio/biraz.mp4\n",
      "\n"
     ]
    },
    {
     "name": "stderr",
     "output_type": "stream",
     "text": [
      "                                                  \r"
     ]
    },
    {
     "name": "stdout",
     "output_type": "stream",
     "text": [
      "Moviepy - Done !\n",
      "Moviepy - video ready /home/kurubal/Documents/Modern Ways/Project/Turkish/Image Audio Video/Result/200 Words/Twogram_Threegram/Threegram_Twogram_Selected/Result/Image_Video_Audio/biraz.mp4\n",
      "Moviepy - Building video /home/kurubal/Documents/Modern Ways/Project/Turkish/Image Audio Video/Result/200 Words/Twogram_Threegram/Threegram_Twogram_Selected/Result/Image_Video_Audio/fazla.mp4.\n",
      "MoviePy - Writing audio in fazlaTEMP_MPY_wvf_snd.mp4\n"
     ]
    },
    {
     "name": "stderr",
     "output_type": "stream",
     "text": [
      "                                                       \r"
     ]
    },
    {
     "name": "stdout",
     "output_type": "stream",
     "text": [
      "MoviePy - Done.\n",
      "Moviepy - Writing video /home/kurubal/Documents/Modern Ways/Project/Turkish/Image Audio Video/Result/200 Words/Twogram_Threegram/Threegram_Twogram_Selected/Result/Image_Video_Audio/fazla.mp4\n",
      "\n"
     ]
    },
    {
     "name": "stderr",
     "output_type": "stream",
     "text": [
      "                                                  \r"
     ]
    },
    {
     "name": "stdout",
     "output_type": "stream",
     "text": [
      "Moviepy - Done !\n",
      "Moviepy - video ready /home/kurubal/Documents/Modern Ways/Project/Turkish/Image Audio Video/Result/200 Words/Twogram_Threegram/Threegram_Twogram_Selected/Result/Image_Video_Audio/fazla.mp4\n",
      "MoviePy - Writing audio in /home/kurubal/Documents/Modern Ways/Project/Turkish/Image Audio Video/Result/200 Words/Twogram_Threegram/Threegram_Twogram_Selected/Data/Text_MP3/bu biraz fazla.mp3\n"
     ]
    },
    {
     "name": "stderr",
     "output_type": "stream",
     "text": [
      "                                                       "
     ]
    },
    {
     "name": "stdout",
     "output_type": "stream",
     "text": [
      "MoviePy - Done.\n"
     ]
    },
    {
     "name": "stderr",
     "output_type": "stream",
     "text": [
      "\r"
     ]
    },
    {
     "name": "stdout",
     "output_type": "stream",
     "text": [
      "Moviepy - Building video /home/kurubal/Documents/Modern Ways/Project/Turkish/Image Audio Video/Result/200 Words/Twogram_Threegram/Threegram_Twogram_Selected/Result/Image_Video_Audio/bu biraz fazla.mp4.\n",
      "MoviePy - Writing audio in bu biraz fazlaTEMP_MPY_wvf_snd.mp4\n"
     ]
    },
    {
     "name": "stderr",
     "output_type": "stream",
     "text": [
      "                                                       \r"
     ]
    },
    {
     "name": "stdout",
     "output_type": "stream",
     "text": [
      "MoviePy - Done.\n",
      "Moviepy - Writing video /home/kurubal/Documents/Modern Ways/Project/Turkish/Image Audio Video/Result/200 Words/Twogram_Threegram/Threegram_Twogram_Selected/Result/Image_Video_Audio/bu biraz fazla.mp4\n",
      "\n"
     ]
    },
    {
     "name": "stderr",
     "output_type": "stream",
     "text": [
      "                                                  \r"
     ]
    },
    {
     "name": "stdout",
     "output_type": "stream",
     "text": [
      "Moviepy - Done !\n",
      "Moviepy - video ready /home/kurubal/Documents/Modern Ways/Project/Turkish/Image Audio Video/Result/200 Words/Twogram_Threegram/Threegram_Twogram_Selected/Result/Image_Video_Audio/bu biraz fazla.mp4\n",
      "Moviepy - Building video /home/kurubal/Documents/Modern Ways/Project/Turkish/Image Audio Video/Result/200 Words/Twogram_Threegram/Threegram_Twogram_Selected/Result/Concat_Video/bu biraz fazla.mp4.\n",
      "MoviePy - Writing audio in bu biraz fazlaTEMP_MPY_wvf_snd.mp4\n"
     ]
    },
    {
     "name": "stderr",
     "output_type": "stream",
     "text": [
      "                                                                    \r"
     ]
    },
    {
     "name": "stdout",
     "output_type": "stream",
     "text": [
      "MoviePy - Done.\n",
      "Moviepy - Writing video /home/kurubal/Documents/Modern Ways/Project/Turkish/Image Audio Video/Result/200 Words/Twogram_Threegram/Threegram_Twogram_Selected/Result/Concat_Video/bu biraz fazla.mp4\n",
      "\n"
     ]
    },
    {
     "name": "stderr",
     "output_type": "stream",
     "text": [
      "                                                           \r"
     ]
    },
    {
     "name": "stdout",
     "output_type": "stream",
     "text": [
      "Moviepy - Done !\n",
      "Moviepy - video ready /home/kurubal/Documents/Modern Ways/Project/Turkish/Image Audio Video/Result/200 Words/Twogram_Threegram/Threegram_Twogram_Selected/Result/Concat_Video/bu biraz fazla.mp4\n"
     ]
    },
    {
     "data": {
      "application/javascript": "\n        if (window._pyforest_update_imports_cell) { window._pyforest_update_imports_cell('from PIL import Image'); }\n    ",
      "text/plain": [
       "<IPython.core.display.Javascript object>"
      ]
     },
     "metadata": {},
     "output_type": "display_data"
    },
    {
     "data": {
      "application/javascript": "\n        if (window._pyforest_update_imports_cell) { window._pyforest_update_imports_cell('from PIL import Image'); }\n    ",
      "text/plain": [
       "<IPython.core.display.Javascript object>"
      ]
     },
     "metadata": {},
     "output_type": "display_data"
    },
    {
     "name": "stdout",
     "output_type": "stream",
     "text": [
      "MoviePy - Writing audio in /home/kurubal/Documents/Modern Ways/Project/Turkish/Image Audio Video/Result/200 Words/Twogram_Threegram/Threegram_Twogram_Selected/Data/Text_MP3/da.mp3\n"
     ]
    },
    {
     "name": "stderr",
     "output_type": "stream",
     "text": [
      "                                                       "
     ]
    },
    {
     "name": "stdout",
     "output_type": "stream",
     "text": [
      "MoviePy - Done.\n"
     ]
    },
    {
     "name": "stderr",
     "output_type": "stream",
     "text": [
      "\r"
     ]
    },
    {
     "name": "stdout",
     "output_type": "stream",
     "text": [
      "Moviepy - Building video /home/kurubal/Documents/Modern Ways/Project/Turkish/Image Audio Video/Result/200 Words/Twogram_Threegram/Threegram_Twogram_Selected/Result/Image_Video_Audio/da.mp4.\n",
      "MoviePy - Writing audio in daTEMP_MPY_wvf_snd.mp4\n"
     ]
    },
    {
     "name": "stderr",
     "output_type": "stream",
     "text": [
      "                                                       \r"
     ]
    },
    {
     "name": "stdout",
     "output_type": "stream",
     "text": [
      "MoviePy - Done.\n",
      "Moviepy - Writing video /home/kurubal/Documents/Modern Ways/Project/Turkish/Image Audio Video/Result/200 Words/Twogram_Threegram/Threegram_Twogram_Selected/Result/Image_Video_Audio/da.mp4\n",
      "\n"
     ]
    },
    {
     "name": "stderr",
     "output_type": "stream",
     "text": [
      "                                                  \r"
     ]
    },
    {
     "name": "stdout",
     "output_type": "stream",
     "text": [
      "Moviepy - Done !\n",
      "Moviepy - video ready /home/kurubal/Documents/Modern Ways/Project/Turkish/Image Audio Video/Result/200 Words/Twogram_Threegram/Threegram_Twogram_Selected/Result/Image_Video_Audio/da.mp4\n",
      "MoviePy - Writing audio in /home/kurubal/Documents/Modern Ways/Project/Turkish/Image Audio Video/Result/200 Words/Twogram_Threegram/Threegram_Twogram_Selected/Data/Text_MP3/bu da bana.mp3\n"
     ]
    },
    {
     "name": "stderr",
     "output_type": "stream",
     "text": [
      "                                                       "
     ]
    },
    {
     "name": "stdout",
     "output_type": "stream",
     "text": [
      "MoviePy - Done.\n"
     ]
    },
    {
     "name": "stderr",
     "output_type": "stream",
     "text": [
      "\r"
     ]
    },
    {
     "name": "stdout",
     "output_type": "stream",
     "text": [
      "Moviepy - Building video /home/kurubal/Documents/Modern Ways/Project/Turkish/Image Audio Video/Result/200 Words/Twogram_Threegram/Threegram_Twogram_Selected/Result/Image_Video_Audio/bu da bana.mp4.\n",
      "MoviePy - Writing audio in bu da banaTEMP_MPY_wvf_snd.mp4\n"
     ]
    },
    {
     "name": "stderr",
     "output_type": "stream",
     "text": [
      "                                                       \r"
     ]
    },
    {
     "name": "stdout",
     "output_type": "stream",
     "text": [
      "MoviePy - Done.\n",
      "Moviepy - Writing video /home/kurubal/Documents/Modern Ways/Project/Turkish/Image Audio Video/Result/200 Words/Twogram_Threegram/Threegram_Twogram_Selected/Result/Image_Video_Audio/bu da bana.mp4\n",
      "\n"
     ]
    },
    {
     "name": "stderr",
     "output_type": "stream",
     "text": [
      "                                                  "
     ]
    },
    {
     "name": "stdout",
     "output_type": "stream",
     "text": [
      "Moviepy - Done !\n",
      "Moviepy - video ready /home/kurubal/Documents/Modern Ways/Project/Turkish/Image Audio Video/Result/200 Words/Twogram_Threegram/Threegram_Twogram_Selected/Result/Image_Video_Audio/bu da bana.mp4\n"
     ]
    },
    {
     "name": "stderr",
     "output_type": "stream",
     "text": [
      "\r"
     ]
    },
    {
     "name": "stdout",
     "output_type": "stream",
     "text": [
      "Moviepy - Building video /home/kurubal/Documents/Modern Ways/Project/Turkish/Image Audio Video/Result/200 Words/Twogram_Threegram/Threegram_Twogram_Selected/Result/Concat_Video/bu da bana.mp4.\n",
      "MoviePy - Writing audio in bu da banaTEMP_MPY_wvf_snd.mp4\n"
     ]
    },
    {
     "name": "stderr",
     "output_type": "stream",
     "text": [
      "                                                                    \r"
     ]
    },
    {
     "name": "stdout",
     "output_type": "stream",
     "text": [
      "MoviePy - Done.\n",
      "Moviepy - Writing video /home/kurubal/Documents/Modern Ways/Project/Turkish/Image Audio Video/Result/200 Words/Twogram_Threegram/Threegram_Twogram_Selected/Result/Concat_Video/bu da bana.mp4\n",
      "\n"
     ]
    },
    {
     "name": "stderr",
     "output_type": "stream",
     "text": [
      "                                                          \r"
     ]
    },
    {
     "name": "stdout",
     "output_type": "stream",
     "text": [
      "Moviepy - Done !\n",
      "Moviepy - video ready /home/kurubal/Documents/Modern Ways/Project/Turkish/Image Audio Video/Result/200 Words/Twogram_Threegram/Threegram_Twogram_Selected/Result/Concat_Video/bu da bana.mp4\n"
     ]
    },
    {
     "data": {
      "application/javascript": "\n        if (window._pyforest_update_imports_cell) { window._pyforest_update_imports_cell('from PIL import Image'); }\n    ",
      "text/plain": [
       "<IPython.core.display.Javascript object>"
      ]
     },
     "metadata": {},
     "output_type": "display_data"
    },
    {
     "data": {
      "application/javascript": "\n        if (window._pyforest_update_imports_cell) { window._pyforest_update_imports_cell('from PIL import Image'); }\n    ",
      "text/plain": [
       "<IPython.core.display.Javascript object>"
      ]
     },
     "metadata": {},
     "output_type": "display_data"
    },
    {
     "data": {
      "application/javascript": "\n        if (window._pyforest_update_imports_cell) { window._pyforest_update_imports_cell('from PIL import Image'); }\n    ",
      "text/plain": [
       "<IPython.core.display.Javascript object>"
      ]
     },
     "metadata": {},
     "output_type": "display_data"
    },
    {
     "data": {
      "application/javascript": "\n        if (window._pyforest_update_imports_cell) { window._pyforest_update_imports_cell('from PIL import Image'); }\n    ",
      "text/plain": [
       "<IPython.core.display.Javascript object>"
      ]
     },
     "metadata": {},
     "output_type": "display_data"
    },
    {
     "name": "stdout",
     "output_type": "stream",
     "text": [
      "MoviePy - Writing audio in /home/kurubal/Documents/Modern Ways/Project/Turkish/Image Audio Video/Result/200 Words/Twogram_Threegram/Threegram_Twogram_Selected/Data/Text_MP3/yeni.mp3\n"
     ]
    },
    {
     "name": "stderr",
     "output_type": "stream",
     "text": [
      "                                                       "
     ]
    },
    {
     "name": "stdout",
     "output_type": "stream",
     "text": [
      "MoviePy - Done.\n"
     ]
    },
    {
     "name": "stderr",
     "output_type": "stream",
     "text": [
      "\r"
     ]
    },
    {
     "name": "stdout",
     "output_type": "stream",
     "text": [
      "MoviePy - Writing audio in /home/kurubal/Documents/Modern Ways/Project/Turkish/Image Audio Video/Result/200 Words/Twogram_Threegram/Threegram_Twogram_Selected/Data/Text_MP3/geldi.mp3\n"
     ]
    },
    {
     "name": "stderr",
     "output_type": "stream",
     "text": [
      "                                                       "
     ]
    },
    {
     "name": "stdout",
     "output_type": "stream",
     "text": [
      "MoviePy - Done.\n"
     ]
    },
    {
     "name": "stderr",
     "output_type": "stream",
     "text": [
      "\r"
     ]
    },
    {
     "name": "stdout",
     "output_type": "stream",
     "text": [
      "Moviepy - Building video /home/kurubal/Documents/Modern Ways/Project/Turkish/Image Audio Video/Result/200 Words/Twogram_Threegram/Threegram_Twogram_Selected/Result/Image_Video_Audio/yeni.mp4.\n",
      "MoviePy - Writing audio in yeniTEMP_MPY_wvf_snd.mp4\n"
     ]
    },
    {
     "name": "stderr",
     "output_type": "stream",
     "text": [
      "                                                       \r"
     ]
    },
    {
     "name": "stdout",
     "output_type": "stream",
     "text": [
      "MoviePy - Done.\n",
      "Moviepy - Writing video /home/kurubal/Documents/Modern Ways/Project/Turkish/Image Audio Video/Result/200 Words/Twogram_Threegram/Threegram_Twogram_Selected/Result/Image_Video_Audio/yeni.mp4\n",
      "\n"
     ]
    },
    {
     "name": "stderr",
     "output_type": "stream",
     "text": [
      "                                                  \r"
     ]
    },
    {
     "name": "stdout",
     "output_type": "stream",
     "text": [
      "Moviepy - Done !\n",
      "Moviepy - video ready /home/kurubal/Documents/Modern Ways/Project/Turkish/Image Audio Video/Result/200 Words/Twogram_Threegram/Threegram_Twogram_Selected/Result/Image_Video_Audio/yeni.mp4\n",
      "Moviepy - Building video /home/kurubal/Documents/Modern Ways/Project/Turkish/Image Audio Video/Result/200 Words/Twogram_Threegram/Threegram_Twogram_Selected/Result/Image_Video_Audio/geldi.mp4.\n",
      "MoviePy - Writing audio in geldiTEMP_MPY_wvf_snd.mp4\n"
     ]
    },
    {
     "name": "stderr",
     "output_type": "stream",
     "text": [
      "                                                       \r"
     ]
    },
    {
     "name": "stdout",
     "output_type": "stream",
     "text": [
      "MoviePy - Done.\n",
      "Moviepy - Writing video /home/kurubal/Documents/Modern Ways/Project/Turkish/Image Audio Video/Result/200 Words/Twogram_Threegram/Threegram_Twogram_Selected/Result/Image_Video_Audio/geldi.mp4\n",
      "\n"
     ]
    },
    {
     "name": "stderr",
     "output_type": "stream",
     "text": [
      "                                                  "
     ]
    },
    {
     "name": "stdout",
     "output_type": "stream",
     "text": [
      "Moviepy - Done !\n"
     ]
    },
    {
     "name": "stderr",
     "output_type": "stream",
     "text": [
      "\r"
     ]
    },
    {
     "name": "stdout",
     "output_type": "stream",
     "text": [
      "Moviepy - video ready /home/kurubal/Documents/Modern Ways/Project/Turkish/Image Audio Video/Result/200 Words/Twogram_Threegram/Threegram_Twogram_Selected/Result/Image_Video_Audio/geldi.mp4\n",
      "MoviePy - Writing audio in /home/kurubal/Documents/Modern Ways/Project/Turkish/Image Audio Video/Result/200 Words/Twogram_Threegram/Threegram_Twogram_Selected/Data/Text_MP3/daha yeni geldi.mp3\n"
     ]
    },
    {
     "name": "stderr",
     "output_type": "stream",
     "text": [
      "                                                       "
     ]
    },
    {
     "name": "stdout",
     "output_type": "stream",
     "text": [
      "MoviePy - Done.\n"
     ]
    },
    {
     "name": "stderr",
     "output_type": "stream",
     "text": [
      "\r"
     ]
    },
    {
     "name": "stdout",
     "output_type": "stream",
     "text": [
      "Moviepy - Building video /home/kurubal/Documents/Modern Ways/Project/Turkish/Image Audio Video/Result/200 Words/Twogram_Threegram/Threegram_Twogram_Selected/Result/Image_Video_Audio/daha yeni geldi.mp4.\n",
      "MoviePy - Writing audio in daha yeni geldiTEMP_MPY_wvf_snd.mp4\n"
     ]
    },
    {
     "name": "stderr",
     "output_type": "stream",
     "text": [
      "                                                       \r"
     ]
    },
    {
     "name": "stdout",
     "output_type": "stream",
     "text": [
      "MoviePy - Done.\n",
      "Moviepy - Writing video /home/kurubal/Documents/Modern Ways/Project/Turkish/Image Audio Video/Result/200 Words/Twogram_Threegram/Threegram_Twogram_Selected/Result/Image_Video_Audio/daha yeni geldi.mp4\n",
      "\n"
     ]
    },
    {
     "name": "stderr",
     "output_type": "stream",
     "text": [
      "                                                  \r"
     ]
    },
    {
     "name": "stdout",
     "output_type": "stream",
     "text": [
      "Moviepy - Done !\n",
      "Moviepy - video ready /home/kurubal/Documents/Modern Ways/Project/Turkish/Image Audio Video/Result/200 Words/Twogram_Threegram/Threegram_Twogram_Selected/Result/Image_Video_Audio/daha yeni geldi.mp4\n",
      "Moviepy - Building video /home/kurubal/Documents/Modern Ways/Project/Turkish/Image Audio Video/Result/200 Words/Twogram_Threegram/Threegram_Twogram_Selected/Result/Concat_Video/daha yeni geldi.mp4.\n",
      "MoviePy - Writing audio in daha yeni geldiTEMP_MPY_wvf_snd.mp4\n"
     ]
    },
    {
     "name": "stderr",
     "output_type": "stream",
     "text": [
      "                                                                    \r"
     ]
    },
    {
     "name": "stdout",
     "output_type": "stream",
     "text": [
      "MoviePy - Done.\n",
      "Moviepy - Writing video /home/kurubal/Documents/Modern Ways/Project/Turkish/Image Audio Video/Result/200 Words/Twogram_Threegram/Threegram_Twogram_Selected/Result/Concat_Video/daha yeni geldi.mp4\n",
      "\n"
     ]
    },
    {
     "name": "stderr",
     "output_type": "stream",
     "text": [
      "                                                            \r"
     ]
    },
    {
     "name": "stdout",
     "output_type": "stream",
     "text": [
      "Moviepy - Done !\n",
      "Moviepy - video ready /home/kurubal/Documents/Modern Ways/Project/Turkish/Image Audio Video/Result/200 Words/Twogram_Threegram/Threegram_Twogram_Selected/Result/Concat_Video/daha yeni geldi.mp4\n",
      "MoviePy - Writing audio in /home/kurubal/Documents/Modern Ways/Project/Turkish/Image Audio Video/Result/200 Words/Twogram_Threegram/Threegram_Twogram_Selected/Data/Text_MP3/bir dakika içinde.mp3\n"
     ]
    },
    {
     "name": "stderr",
     "output_type": "stream",
     "text": [
      "                                                       "
     ]
    },
    {
     "name": "stdout",
     "output_type": "stream",
     "text": [
      "MoviePy - Done.\n"
     ]
    },
    {
     "name": "stderr",
     "output_type": "stream",
     "text": [
      "\r"
     ]
    },
    {
     "name": "stdout",
     "output_type": "stream",
     "text": [
      "Moviepy - Building video /home/kurubal/Documents/Modern Ways/Project/Turkish/Image Audio Video/Result/200 Words/Twogram_Threegram/Threegram_Twogram_Selected/Result/Image_Video_Audio/bir dakika içinde.mp4.\n",
      "MoviePy - Writing audio in bir dakika içindeTEMP_MPY_wvf_snd.mp4\n"
     ]
    },
    {
     "name": "stderr",
     "output_type": "stream",
     "text": [
      "                                                       \r"
     ]
    },
    {
     "name": "stdout",
     "output_type": "stream",
     "text": [
      "MoviePy - Done.\n",
      "Moviepy - Writing video /home/kurubal/Documents/Modern Ways/Project/Turkish/Image Audio Video/Result/200 Words/Twogram_Threegram/Threegram_Twogram_Selected/Result/Image_Video_Audio/bir dakika içinde.mp4\n",
      "\n"
     ]
    },
    {
     "name": "stderr",
     "output_type": "stream",
     "text": [
      "                                                  \r"
     ]
    },
    {
     "name": "stdout",
     "output_type": "stream",
     "text": [
      "Moviepy - Done !\n",
      "Moviepy - video ready /home/kurubal/Documents/Modern Ways/Project/Turkish/Image Audio Video/Result/200 Words/Twogram_Threegram/Threegram_Twogram_Selected/Result/Image_Video_Audio/bir dakika içinde.mp4\n",
      "Moviepy - Building video /home/kurubal/Documents/Modern Ways/Project/Turkish/Image Audio Video/Result/200 Words/Twogram_Threegram/Threegram_Twogram_Selected/Result/Concat_Video/bir dakika içinde.mp4.\n",
      "MoviePy - Writing audio in bir dakika içindeTEMP_MPY_wvf_snd.mp4\n"
     ]
    },
    {
     "name": "stderr",
     "output_type": "stream",
     "text": [
      "                                                                    \r"
     ]
    },
    {
     "name": "stdout",
     "output_type": "stream",
     "text": [
      "MoviePy - Done.\n",
      "Moviepy - Writing video /home/kurubal/Documents/Modern Ways/Project/Turkish/Image Audio Video/Result/200 Words/Twogram_Threegram/Threegram_Twogram_Selected/Result/Concat_Video/bir dakika içinde.mp4\n",
      "\n"
     ]
    },
    {
     "name": "stderr",
     "output_type": "stream",
     "text": [
      "                                                           \r"
     ]
    },
    {
     "name": "stdout",
     "output_type": "stream",
     "text": [
      "Moviepy - Done !\n",
      "Moviepy - video ready /home/kurubal/Documents/Modern Ways/Project/Turkish/Image Audio Video/Result/200 Words/Twogram_Threegram/Threegram_Twogram_Selected/Result/Concat_Video/bir dakika içinde.mp4\n",
      "MoviePy - Writing audio in /home/kurubal/Documents/Modern Ways/Project/Turkish/Image Audio Video/Result/200 Words/Twogram_Threegram/Threegram_Twogram_Selected/Data/Text_MP3/ona ne oldu.mp3\n"
     ]
    },
    {
     "name": "stderr",
     "output_type": "stream",
     "text": [
      "                                                       "
     ]
    },
    {
     "name": "stdout",
     "output_type": "stream",
     "text": [
      "MoviePy - Done.\n"
     ]
    },
    {
     "name": "stderr",
     "output_type": "stream",
     "text": [
      "\r"
     ]
    },
    {
     "name": "stdout",
     "output_type": "stream",
     "text": [
      "Moviepy - Building video /home/kurubal/Documents/Modern Ways/Project/Turkish/Image Audio Video/Result/200 Words/Twogram_Threegram/Threegram_Twogram_Selected/Result/Image_Video_Audio/ona ne oldu.mp4.\n",
      "MoviePy - Writing audio in ona ne olduTEMP_MPY_wvf_snd.mp4\n"
     ]
    },
    {
     "name": "stderr",
     "output_type": "stream",
     "text": [
      "                                                       \r"
     ]
    },
    {
     "name": "stdout",
     "output_type": "stream",
     "text": [
      "MoviePy - Done.\n",
      "Moviepy - Writing video /home/kurubal/Documents/Modern Ways/Project/Turkish/Image Audio Video/Result/200 Words/Twogram_Threegram/Threegram_Twogram_Selected/Result/Image_Video_Audio/ona ne oldu.mp4\n",
      "\n"
     ]
    },
    {
     "name": "stderr",
     "output_type": "stream",
     "text": [
      "                                                  \r"
     ]
    },
    {
     "name": "stdout",
     "output_type": "stream",
     "text": [
      "Moviepy - Done !\n",
      "Moviepy - video ready /home/kurubal/Documents/Modern Ways/Project/Turkish/Image Audio Video/Result/200 Words/Twogram_Threegram/Threegram_Twogram_Selected/Result/Image_Video_Audio/ona ne oldu.mp4\n",
      "Moviepy - Building video /home/kurubal/Documents/Modern Ways/Project/Turkish/Image Audio Video/Result/200 Words/Twogram_Threegram/Threegram_Twogram_Selected/Result/Concat_Video/ona ne oldu.mp4.\n",
      "MoviePy - Writing audio in ona ne olduTEMP_MPY_wvf_snd.mp4\n"
     ]
    },
    {
     "name": "stderr",
     "output_type": "stream",
     "text": [
      "                                                                    \r"
     ]
    },
    {
     "name": "stdout",
     "output_type": "stream",
     "text": [
      "MoviePy - Done.\n",
      "Moviepy - Writing video /home/kurubal/Documents/Modern Ways/Project/Turkish/Image Audio Video/Result/200 Words/Twogram_Threegram/Threegram_Twogram_Selected/Result/Concat_Video/ona ne oldu.mp4\n",
      "\n"
     ]
    },
    {
     "name": "stderr",
     "output_type": "stream",
     "text": [
      "                                                          \r"
     ]
    },
    {
     "name": "stdout",
     "output_type": "stream",
     "text": [
      "Moviepy - Done !\n",
      "Moviepy - video ready /home/kurubal/Documents/Modern Ways/Project/Turkish/Image Audio Video/Result/200 Words/Twogram_Threegram/Threegram_Twogram_Selected/Result/Concat_Video/ona ne oldu.mp4\n"
     ]
    },
    {
     "data": {
      "application/javascript": "\n        if (window._pyforest_update_imports_cell) { window._pyforest_update_imports_cell('from PIL import Image'); }\n    ",
      "text/plain": [
       "<IPython.core.display.Javascript object>"
      ]
     },
     "metadata": {},
     "output_type": "display_data"
    },
    {
     "data": {
      "application/javascript": "\n        if (window._pyforest_update_imports_cell) { window._pyforest_update_imports_cell('from PIL import Image'); }\n    ",
      "text/plain": [
       "<IPython.core.display.Javascript object>"
      ]
     },
     "metadata": {},
     "output_type": "display_data"
    },
    {
     "name": "stdout",
     "output_type": "stream",
     "text": [
      "MoviePy - Writing audio in /home/kurubal/Documents/Modern Ways/Project/Turkish/Image Audio Video/Result/200 Words/Twogram_Threegram/Threegram_Twogram_Selected/Data/Text_MP3/devam.mp3\n"
     ]
    },
    {
     "name": "stderr",
     "output_type": "stream",
     "text": [
      "                                                       "
     ]
    },
    {
     "name": "stdout",
     "output_type": "stream",
     "text": [
      "MoviePy - Done.\n"
     ]
    },
    {
     "name": "stderr",
     "output_type": "stream",
     "text": [
      "\r"
     ]
    },
    {
     "name": "stdout",
     "output_type": "stream",
     "text": [
      "Moviepy - Building video /home/kurubal/Documents/Modern Ways/Project/Turkish/Image Audio Video/Result/200 Words/Twogram_Threegram/Threegram_Twogram_Selected/Result/Image_Video_Audio/devam.mp4.\n",
      "MoviePy - Writing audio in devamTEMP_MPY_wvf_snd.mp4\n"
     ]
    },
    {
     "name": "stderr",
     "output_type": "stream",
     "text": [
      "                                                       \r"
     ]
    },
    {
     "name": "stdout",
     "output_type": "stream",
     "text": [
      "MoviePy - Done.\n",
      "Moviepy - Writing video /home/kurubal/Documents/Modern Ways/Project/Turkish/Image Audio Video/Result/200 Words/Twogram_Threegram/Threegram_Twogram_Selected/Result/Image_Video_Audio/devam.mp4\n",
      "\n"
     ]
    },
    {
     "name": "stderr",
     "output_type": "stream",
     "text": [
      "                                                  \r"
     ]
    },
    {
     "name": "stdout",
     "output_type": "stream",
     "text": [
      "Moviepy - Done !\n",
      "Moviepy - video ready /home/kurubal/Documents/Modern Ways/Project/Turkish/Image Audio Video/Result/200 Words/Twogram_Threegram/Threegram_Twogram_Selected/Result/Image_Video_Audio/devam.mp4\n",
      "MoviePy - Writing audio in /home/kurubal/Documents/Modern Ways/Project/Turkish/Image Audio Video/Result/200 Words/Twogram_Threegram/Threegram_Twogram_Selected/Data/Text_MP3/tamam devam et.mp3\n"
     ]
    },
    {
     "name": "stderr",
     "output_type": "stream",
     "text": [
      "                                                       "
     ]
    },
    {
     "name": "stdout",
     "output_type": "stream",
     "text": [
      "MoviePy - Done.\n"
     ]
    },
    {
     "name": "stderr",
     "output_type": "stream",
     "text": [
      "\r"
     ]
    },
    {
     "name": "stdout",
     "output_type": "stream",
     "text": [
      "Moviepy - Building video /home/kurubal/Documents/Modern Ways/Project/Turkish/Image Audio Video/Result/200 Words/Twogram_Threegram/Threegram_Twogram_Selected/Result/Image_Video_Audio/tamam devam et.mp4.\n",
      "MoviePy - Writing audio in tamam devam etTEMP_MPY_wvf_snd.mp4\n"
     ]
    },
    {
     "name": "stderr",
     "output_type": "stream",
     "text": [
      "                                                       \r"
     ]
    },
    {
     "name": "stdout",
     "output_type": "stream",
     "text": [
      "MoviePy - Done.\n",
      "Moviepy - Writing video /home/kurubal/Documents/Modern Ways/Project/Turkish/Image Audio Video/Result/200 Words/Twogram_Threegram/Threegram_Twogram_Selected/Result/Image_Video_Audio/tamam devam et.mp4\n",
      "\n"
     ]
    },
    {
     "name": "stderr",
     "output_type": "stream",
     "text": [
      "                                                  \r"
     ]
    },
    {
     "name": "stdout",
     "output_type": "stream",
     "text": [
      "Moviepy - Done !\n",
      "Moviepy - video ready /home/kurubal/Documents/Modern Ways/Project/Turkish/Image Audio Video/Result/200 Words/Twogram_Threegram/Threegram_Twogram_Selected/Result/Image_Video_Audio/tamam devam et.mp4\n",
      "Moviepy - Building video /home/kurubal/Documents/Modern Ways/Project/Turkish/Image Audio Video/Result/200 Words/Twogram_Threegram/Threegram_Twogram_Selected/Result/Concat_Video/tamam devam et.mp4.\n",
      "MoviePy - Writing audio in tamam devam etTEMP_MPY_wvf_snd.mp4\n"
     ]
    },
    {
     "name": "stderr",
     "output_type": "stream",
     "text": [
      "                                                                    \r"
     ]
    },
    {
     "name": "stdout",
     "output_type": "stream",
     "text": [
      "MoviePy - Done.\n",
      "Moviepy - Writing video /home/kurubal/Documents/Modern Ways/Project/Turkish/Image Audio Video/Result/200 Words/Twogram_Threegram/Threegram_Twogram_Selected/Result/Concat_Video/tamam devam et.mp4\n",
      "\n"
     ]
    },
    {
     "name": "stderr",
     "output_type": "stream",
     "text": [
      "                                                          \r"
     ]
    },
    {
     "name": "stdout",
     "output_type": "stream",
     "text": [
      "Moviepy - Done !\n",
      "Moviepy - video ready /home/kurubal/Documents/Modern Ways/Project/Turkish/Image Audio Video/Result/200 Words/Twogram_Threegram/Threegram_Twogram_Selected/Result/Concat_Video/tamam devam et.mp4\n"
     ]
    },
    {
     "data": {
      "application/javascript": "\n        if (window._pyforest_update_imports_cell) { window._pyforest_update_imports_cell('from PIL import Image'); }\n    ",
      "text/plain": [
       "<IPython.core.display.Javascript object>"
      ]
     },
     "metadata": {},
     "output_type": "display_data"
    },
    {
     "data": {
      "application/javascript": "\n        if (window._pyforest_update_imports_cell) { window._pyforest_update_imports_cell('from PIL import Image'); }\n    ",
      "text/plain": [
       "<IPython.core.display.Javascript object>"
      ]
     },
     "metadata": {},
     "output_type": "display_data"
    },
    {
     "name": "stdout",
     "output_type": "stream",
     "text": [
      "MoviePy - Writing audio in /home/kurubal/Documents/Modern Ways/Project/Turkish/Image Audio Video/Result/200 Words/Twogram_Threegram/Threegram_Twogram_Selected/Data/Text_MP3/gerçekten.mp3\n"
     ]
    },
    {
     "name": "stderr",
     "output_type": "stream",
     "text": [
      "                                                       "
     ]
    },
    {
     "name": "stdout",
     "output_type": "stream",
     "text": [
      "MoviePy - Done.\n"
     ]
    },
    {
     "name": "stderr",
     "output_type": "stream",
     "text": [
      "\r"
     ]
    },
    {
     "name": "stdout",
     "output_type": "stream",
     "text": [
      "Moviepy - Building video /home/kurubal/Documents/Modern Ways/Project/Turkish/Image Audio Video/Result/200 Words/Twogram_Threegram/Threegram_Twogram_Selected/Result/Image_Video_Audio/gerçekten.mp4.\n",
      "MoviePy - Writing audio in gerçektenTEMP_MPY_wvf_snd.mp4\n"
     ]
    },
    {
     "name": "stderr",
     "output_type": "stream",
     "text": [
      "                                                       \r"
     ]
    },
    {
     "name": "stdout",
     "output_type": "stream",
     "text": [
      "MoviePy - Done.\n",
      "Moviepy - Writing video /home/kurubal/Documents/Modern Ways/Project/Turkish/Image Audio Video/Result/200 Words/Twogram_Threegram/Threegram_Twogram_Selected/Result/Image_Video_Audio/gerçekten.mp4\n",
      "\n"
     ]
    },
    {
     "name": "stderr",
     "output_type": "stream",
     "text": [
      "                                                  \r"
     ]
    },
    {
     "name": "stdout",
     "output_type": "stream",
     "text": [
      "Moviepy - Done !\n",
      "Moviepy - video ready /home/kurubal/Documents/Modern Ways/Project/Turkish/Image Audio Video/Result/200 Words/Twogram_Threegram/Threegram_Twogram_Selected/Result/Image_Video_Audio/gerçekten.mp4\n",
      "MoviePy - Writing audio in /home/kurubal/Documents/Modern Ways/Project/Turkish/Image Audio Video/Result/200 Words/Twogram_Threegram/Threegram_Twogram_Selected/Data/Text_MP3/gerçekten çok güzel.mp3\n"
     ]
    },
    {
     "name": "stderr",
     "output_type": "stream",
     "text": [
      "                                                       "
     ]
    },
    {
     "name": "stdout",
     "output_type": "stream",
     "text": [
      "MoviePy - Done.\n"
     ]
    },
    {
     "name": "stderr",
     "output_type": "stream",
     "text": [
      "\r"
     ]
    },
    {
     "name": "stdout",
     "output_type": "stream",
     "text": [
      "Moviepy - Building video /home/kurubal/Documents/Modern Ways/Project/Turkish/Image Audio Video/Result/200 Words/Twogram_Threegram/Threegram_Twogram_Selected/Result/Image_Video_Audio/gerçekten çok güzel.mp4.\n",
      "MoviePy - Writing audio in gerçekten çok güzelTEMP_MPY_wvf_snd.mp4\n"
     ]
    },
    {
     "name": "stderr",
     "output_type": "stream",
     "text": [
      "                                                       \r"
     ]
    },
    {
     "name": "stdout",
     "output_type": "stream",
     "text": [
      "MoviePy - Done.\n",
      "Moviepy - Writing video /home/kurubal/Documents/Modern Ways/Project/Turkish/Image Audio Video/Result/200 Words/Twogram_Threegram/Threegram_Twogram_Selected/Result/Image_Video_Audio/gerçekten çok güzel.mp4\n",
      "\n"
     ]
    },
    {
     "name": "stderr",
     "output_type": "stream",
     "text": [
      "                                                  \r"
     ]
    },
    {
     "name": "stdout",
     "output_type": "stream",
     "text": [
      "Moviepy - Done !\n",
      "Moviepy - video ready /home/kurubal/Documents/Modern Ways/Project/Turkish/Image Audio Video/Result/200 Words/Twogram_Threegram/Threegram_Twogram_Selected/Result/Image_Video_Audio/gerçekten çok güzel.mp4\n",
      "Moviepy - Building video /home/kurubal/Documents/Modern Ways/Project/Turkish/Image Audio Video/Result/200 Words/Twogram_Threegram/Threegram_Twogram_Selected/Result/Concat_Video/gerçekten çok güzel.mp4.\n",
      "MoviePy - Writing audio in gerçekten çok güzelTEMP_MPY_wvf_snd.mp4\n"
     ]
    },
    {
     "name": "stderr",
     "output_type": "stream",
     "text": [
      "                                                                    \r"
     ]
    },
    {
     "name": "stdout",
     "output_type": "stream",
     "text": [
      "MoviePy - Done.\n",
      "Moviepy - Writing video /home/kurubal/Documents/Modern Ways/Project/Turkish/Image Audio Video/Result/200 Words/Twogram_Threegram/Threegram_Twogram_Selected/Result/Concat_Video/gerçekten çok güzel.mp4\n",
      "\n"
     ]
    },
    {
     "name": "stderr",
     "output_type": "stream",
     "text": [
      "                                                           \r"
     ]
    },
    {
     "name": "stdout",
     "output_type": "stream",
     "text": [
      "Moviepy - Done !\n",
      "Moviepy - video ready /home/kurubal/Documents/Modern Ways/Project/Turkish/Image Audio Video/Result/200 Words/Twogram_Threegram/Threegram_Twogram_Selected/Result/Concat_Video/gerçekten çok güzel.mp4\n",
      "MoviePy - Writing audio in /home/kurubal/Documents/Modern Ways/Project/Turkish/Image Audio Video/Result/200 Words/Twogram_Threegram/Threegram_Twogram_Selected/Data/Text_MP3/bana izin ver.mp3\n"
     ]
    },
    {
     "name": "stderr",
     "output_type": "stream",
     "text": [
      "                                                       "
     ]
    },
    {
     "name": "stdout",
     "output_type": "stream",
     "text": [
      "MoviePy - Done.\n"
     ]
    },
    {
     "name": "stderr",
     "output_type": "stream",
     "text": [
      "\r"
     ]
    },
    {
     "name": "stdout",
     "output_type": "stream",
     "text": [
      "Moviepy - Building video /home/kurubal/Documents/Modern Ways/Project/Turkish/Image Audio Video/Result/200 Words/Twogram_Threegram/Threegram_Twogram_Selected/Result/Image_Video_Audio/bana izin ver.mp4.\n",
      "MoviePy - Writing audio in bana izin verTEMP_MPY_wvf_snd.mp4\n"
     ]
    },
    {
     "name": "stderr",
     "output_type": "stream",
     "text": [
      "                                                       \r"
     ]
    },
    {
     "name": "stdout",
     "output_type": "stream",
     "text": [
      "MoviePy - Done.\n",
      "Moviepy - Writing video /home/kurubal/Documents/Modern Ways/Project/Turkish/Image Audio Video/Result/200 Words/Twogram_Threegram/Threegram_Twogram_Selected/Result/Image_Video_Audio/bana izin ver.mp4\n",
      "\n"
     ]
    },
    {
     "name": "stderr",
     "output_type": "stream",
     "text": [
      "                                                  \r"
     ]
    },
    {
     "name": "stdout",
     "output_type": "stream",
     "text": [
      "Moviepy - Done !\n",
      "Moviepy - video ready /home/kurubal/Documents/Modern Ways/Project/Turkish/Image Audio Video/Result/200 Words/Twogram_Threegram/Threegram_Twogram_Selected/Result/Image_Video_Audio/bana izin ver.mp4\n",
      "Moviepy - Building video /home/kurubal/Documents/Modern Ways/Project/Turkish/Image Audio Video/Result/200 Words/Twogram_Threegram/Threegram_Twogram_Selected/Result/Concat_Video/bana izin ver.mp4.\n",
      "MoviePy - Writing audio in bana izin verTEMP_MPY_wvf_snd.mp4\n"
     ]
    },
    {
     "name": "stderr",
     "output_type": "stream",
     "text": [
      "                                                                    \r"
     ]
    },
    {
     "name": "stdout",
     "output_type": "stream",
     "text": [
      "MoviePy - Done.\n",
      "Moviepy - Writing video /home/kurubal/Documents/Modern Ways/Project/Turkish/Image Audio Video/Result/200 Words/Twogram_Threegram/Threegram_Twogram_Selected/Result/Concat_Video/bana izin ver.mp4\n",
      "\n"
     ]
    },
    {
     "name": "stderr",
     "output_type": "stream",
     "text": [
      "                                                          \r"
     ]
    },
    {
     "name": "stdout",
     "output_type": "stream",
     "text": [
      "Moviepy - Done !\n",
      "Moviepy - video ready /home/kurubal/Documents/Modern Ways/Project/Turkish/Image Audio Video/Result/200 Words/Twogram_Threegram/Threegram_Twogram_Selected/Result/Concat_Video/bana izin ver.mp4\n",
      "MoviePy - Writing audio in /home/kurubal/Documents/Modern Ways/Project/Turkish/Image Audio Video/Result/200 Words/Twogram_Threegram/Threegram_Twogram_Selected/Data/Text_MP3/lütfen yardım et.mp3\n"
     ]
    },
    {
     "name": "stderr",
     "output_type": "stream",
     "text": [
      "                                                       "
     ]
    },
    {
     "name": "stdout",
     "output_type": "stream",
     "text": [
      "MoviePy - Done.\n"
     ]
    },
    {
     "name": "stderr",
     "output_type": "stream",
     "text": [
      "\r"
     ]
    },
    {
     "name": "stdout",
     "output_type": "stream",
     "text": [
      "Moviepy - Building video /home/kurubal/Documents/Modern Ways/Project/Turkish/Image Audio Video/Result/200 Words/Twogram_Threegram/Threegram_Twogram_Selected/Result/Image_Video_Audio/lütfen yardım et.mp4.\n",
      "MoviePy - Writing audio in lütfen yardım etTEMP_MPY_wvf_snd.mp4\n"
     ]
    },
    {
     "name": "stderr",
     "output_type": "stream",
     "text": [
      "                                                       \r"
     ]
    },
    {
     "name": "stdout",
     "output_type": "stream",
     "text": [
      "MoviePy - Done.\n",
      "Moviepy - Writing video /home/kurubal/Documents/Modern Ways/Project/Turkish/Image Audio Video/Result/200 Words/Twogram_Threegram/Threegram_Twogram_Selected/Result/Image_Video_Audio/lütfen yardım et.mp4\n",
      "\n"
     ]
    },
    {
     "name": "stderr",
     "output_type": "stream",
     "text": [
      "                                                  \r"
     ]
    },
    {
     "name": "stdout",
     "output_type": "stream",
     "text": [
      "Moviepy - Done !\n",
      "Moviepy - video ready /home/kurubal/Documents/Modern Ways/Project/Turkish/Image Audio Video/Result/200 Words/Twogram_Threegram/Threegram_Twogram_Selected/Result/Image_Video_Audio/lütfen yardım et.mp4\n",
      "Moviepy - Building video /home/kurubal/Documents/Modern Ways/Project/Turkish/Image Audio Video/Result/200 Words/Twogram_Threegram/Threegram_Twogram_Selected/Result/Concat_Video/lütfen yardım et.mp4.\n",
      "MoviePy - Writing audio in lütfen yardım etTEMP_MPY_wvf_snd.mp4\n"
     ]
    },
    {
     "name": "stderr",
     "output_type": "stream",
     "text": [
      "                                                                    \r"
     ]
    },
    {
     "name": "stdout",
     "output_type": "stream",
     "text": [
      "MoviePy - Done.\n",
      "Moviepy - Writing video /home/kurubal/Documents/Modern Ways/Project/Turkish/Image Audio Video/Result/200 Words/Twogram_Threegram/Threegram_Twogram_Selected/Result/Concat_Video/lütfen yardım et.mp4\n",
      "\n"
     ]
    },
    {
     "name": "stderr",
     "output_type": "stream",
     "text": [
      "                                                           \r"
     ]
    },
    {
     "name": "stdout",
     "output_type": "stream",
     "text": [
      "Moviepy - Done !\n",
      "Moviepy - video ready /home/kurubal/Documents/Modern Ways/Project/Turkish/Image Audio Video/Result/200 Words/Twogram_Threegram/Threegram_Twogram_Selected/Result/Concat_Video/lütfen yardım et.mp4\n"
     ]
    },
    {
     "data": {
      "application/javascript": "\n        if (window._pyforest_update_imports_cell) { window._pyforest_update_imports_cell('from PIL import Image'); }\n    ",
      "text/plain": [
       "<IPython.core.display.Javascript object>"
      ]
     },
     "metadata": {},
     "output_type": "display_data"
    },
    {
     "data": {
      "application/javascript": "\n        if (window._pyforest_update_imports_cell) { window._pyforest_update_imports_cell('from PIL import Image'); }\n    ",
      "text/plain": [
       "<IPython.core.display.Javascript object>"
      ]
     },
     "metadata": {},
     "output_type": "display_data"
    },
    {
     "name": "stdout",
     "output_type": "stream",
     "text": [
      "MoviePy - Writing audio in /home/kurubal/Documents/Modern Ways/Project/Turkish/Image Audio Video/Result/200 Words/Twogram_Threegram/Threegram_Twogram_Selected/Data/Text_MP3/bize.mp3\n"
     ]
    },
    {
     "name": "stderr",
     "output_type": "stream",
     "text": [
      "                                                       "
     ]
    },
    {
     "name": "stdout",
     "output_type": "stream",
     "text": [
      "MoviePy - Done.\n"
     ]
    },
    {
     "name": "stderr",
     "output_type": "stream",
     "text": [
      "\r"
     ]
    },
    {
     "name": "stdout",
     "output_type": "stream",
     "text": [
      "Moviepy - Building video /home/kurubal/Documents/Modern Ways/Project/Turkish/Image Audio Video/Result/200 Words/Twogram_Threegram/Threegram_Twogram_Selected/Result/Image_Video_Audio/bize.mp4.\n",
      "MoviePy - Writing audio in bizeTEMP_MPY_wvf_snd.mp4\n"
     ]
    },
    {
     "name": "stderr",
     "output_type": "stream",
     "text": [
      "                                                       \r"
     ]
    },
    {
     "name": "stdout",
     "output_type": "stream",
     "text": [
      "MoviePy - Done.\n",
      "Moviepy - Writing video /home/kurubal/Documents/Modern Ways/Project/Turkish/Image Audio Video/Result/200 Words/Twogram_Threegram/Threegram_Twogram_Selected/Result/Image_Video_Audio/bize.mp4\n",
      "\n"
     ]
    },
    {
     "name": "stderr",
     "output_type": "stream",
     "text": [
      "                                                  \r"
     ]
    },
    {
     "name": "stdout",
     "output_type": "stream",
     "text": [
      "Moviepy - Done !\n",
      "Moviepy - video ready /home/kurubal/Documents/Modern Ways/Project/Turkish/Image Audio Video/Result/200 Words/Twogram_Threegram/Threegram_Twogram_Selected/Result/Image_Video_Audio/bize.mp4\n",
      "MoviePy - Writing audio in /home/kurubal/Documents/Modern Ways/Project/Turkish/Image Audio Video/Result/200 Words/Twogram_Threegram/Threegram_Twogram_Selected/Data/Text_MP3/bize yardım et.mp3\n"
     ]
    },
    {
     "name": "stderr",
     "output_type": "stream",
     "text": [
      "                                                       "
     ]
    },
    {
     "name": "stdout",
     "output_type": "stream",
     "text": [
      "MoviePy - Done.\n"
     ]
    },
    {
     "name": "stderr",
     "output_type": "stream",
     "text": [
      "\r"
     ]
    },
    {
     "name": "stdout",
     "output_type": "stream",
     "text": [
      "Moviepy - Building video /home/kurubal/Documents/Modern Ways/Project/Turkish/Image Audio Video/Result/200 Words/Twogram_Threegram/Threegram_Twogram_Selected/Result/Image_Video_Audio/bize yardım et.mp4.\n",
      "MoviePy - Writing audio in bize yardım etTEMP_MPY_wvf_snd.mp4\n"
     ]
    },
    {
     "name": "stderr",
     "output_type": "stream",
     "text": [
      "                                                       \r"
     ]
    },
    {
     "name": "stdout",
     "output_type": "stream",
     "text": [
      "MoviePy - Done.\n",
      "Moviepy - Writing video /home/kurubal/Documents/Modern Ways/Project/Turkish/Image Audio Video/Result/200 Words/Twogram_Threegram/Threegram_Twogram_Selected/Result/Image_Video_Audio/bize yardım et.mp4\n",
      "\n"
     ]
    },
    {
     "name": "stderr",
     "output_type": "stream",
     "text": [
      "                                                  \r"
     ]
    },
    {
     "name": "stdout",
     "output_type": "stream",
     "text": [
      "Moviepy - Done !\n",
      "Moviepy - video ready /home/kurubal/Documents/Modern Ways/Project/Turkish/Image Audio Video/Result/200 Words/Twogram_Threegram/Threegram_Twogram_Selected/Result/Image_Video_Audio/bize yardım et.mp4\n",
      "Moviepy - Building video /home/kurubal/Documents/Modern Ways/Project/Turkish/Image Audio Video/Result/200 Words/Twogram_Threegram/Threegram_Twogram_Selected/Result/Concat_Video/bize yardım et.mp4.\n",
      "MoviePy - Writing audio in bize yardım etTEMP_MPY_wvf_snd.mp4\n"
     ]
    },
    {
     "name": "stderr",
     "output_type": "stream",
     "text": [
      "                                                                    \r"
     ]
    },
    {
     "name": "stdout",
     "output_type": "stream",
     "text": [
      "MoviePy - Done.\n",
      "Moviepy - Writing video /home/kurubal/Documents/Modern Ways/Project/Turkish/Image Audio Video/Result/200 Words/Twogram_Threegram/Threegram_Twogram_Selected/Result/Concat_Video/bize yardım et.mp4\n",
      "\n"
     ]
    },
    {
     "name": "stderr",
     "output_type": "stream",
     "text": [
      "                                                           \r"
     ]
    },
    {
     "name": "stdout",
     "output_type": "stream",
     "text": [
      "Moviepy - Done !\n",
      "Moviepy - video ready /home/kurubal/Documents/Modern Ways/Project/Turkish/Image Audio Video/Result/200 Words/Twogram_Threegram/Threegram_Twogram_Selected/Result/Concat_Video/bize yardım et.mp4\n",
      "MoviePy - Writing audio in /home/kurubal/Documents/Modern Ways/Project/Turkish/Image Audio Video/Result/200 Words/Twogram_Threegram/Threegram_Twogram_Selected/Data/Text_MP3/doğru mu bu.mp3\n"
     ]
    },
    {
     "name": "stderr",
     "output_type": "stream",
     "text": [
      "                                                       "
     ]
    },
    {
     "name": "stdout",
     "output_type": "stream",
     "text": [
      "MoviePy - Done.\n"
     ]
    },
    {
     "name": "stderr",
     "output_type": "stream",
     "text": [
      "\r"
     ]
    },
    {
     "name": "stdout",
     "output_type": "stream",
     "text": [
      "Moviepy - Building video /home/kurubal/Documents/Modern Ways/Project/Turkish/Image Audio Video/Result/200 Words/Twogram_Threegram/Threegram_Twogram_Selected/Result/Image_Video_Audio/doğru mu bu.mp4.\n",
      "MoviePy - Writing audio in doğru mu buTEMP_MPY_wvf_snd.mp4\n"
     ]
    },
    {
     "name": "stderr",
     "output_type": "stream",
     "text": [
      "                                                       \r"
     ]
    },
    {
     "name": "stdout",
     "output_type": "stream",
     "text": [
      "MoviePy - Done.\n",
      "Moviepy - Writing video /home/kurubal/Documents/Modern Ways/Project/Turkish/Image Audio Video/Result/200 Words/Twogram_Threegram/Threegram_Twogram_Selected/Result/Image_Video_Audio/doğru mu bu.mp4\n",
      "\n"
     ]
    },
    {
     "name": "stderr",
     "output_type": "stream",
     "text": [
      "                                                  \r"
     ]
    },
    {
     "name": "stdout",
     "output_type": "stream",
     "text": [
      "Moviepy - Done !\n",
      "Moviepy - video ready /home/kurubal/Documents/Modern Ways/Project/Turkish/Image Audio Video/Result/200 Words/Twogram_Threegram/Threegram_Twogram_Selected/Result/Image_Video_Audio/doğru mu bu.mp4\n",
      "Moviepy - Building video /home/kurubal/Documents/Modern Ways/Project/Turkish/Image Audio Video/Result/200 Words/Twogram_Threegram/Threegram_Twogram_Selected/Result/Concat_Video/doğru mu bu.mp4.\n",
      "MoviePy - Writing audio in doğru mu buTEMP_MPY_wvf_snd.mp4\n"
     ]
    },
    {
     "name": "stderr",
     "output_type": "stream",
     "text": [
      "                                                                    \r"
     ]
    },
    {
     "name": "stdout",
     "output_type": "stream",
     "text": [
      "MoviePy - Done.\n",
      "Moviepy - Writing video /home/kurubal/Documents/Modern Ways/Project/Turkish/Image Audio Video/Result/200 Words/Twogram_Threegram/Threegram_Twogram_Selected/Result/Concat_Video/doğru mu bu.mp4\n",
      "\n"
     ]
    },
    {
     "name": "stderr",
     "output_type": "stream",
     "text": [
      "                                                           \r"
     ]
    },
    {
     "name": "stdout",
     "output_type": "stream",
     "text": [
      "Moviepy - Done !\n",
      "Moviepy - video ready /home/kurubal/Documents/Modern Ways/Project/Turkish/Image Audio Video/Result/200 Words/Twogram_Threegram/Threegram_Twogram_Selected/Result/Concat_Video/doğru mu bu.mp4\n"
     ]
    },
    {
     "data": {
      "application/javascript": "\n        if (window._pyforest_update_imports_cell) { window._pyforest_update_imports_cell('from PIL import Image'); }\n    ",
      "text/plain": [
       "<IPython.core.display.Javascript object>"
      ]
     },
     "metadata": {},
     "output_type": "display_data"
    },
    {
     "data": {
      "application/javascript": "\n        if (window._pyforest_update_imports_cell) { window._pyforest_update_imports_cell('from PIL import Image'); }\n    ",
      "text/plain": [
       "<IPython.core.display.Javascript object>"
      ]
     },
     "metadata": {},
     "output_type": "display_data"
    },
    {
     "data": {
      "application/javascript": "\n        if (window._pyforest_update_imports_cell) { window._pyforest_update_imports_cell('from PIL import Image'); }\n    ",
      "text/plain": [
       "<IPython.core.display.Javascript object>"
      ]
     },
     "metadata": {},
     "output_type": "display_data"
    },
    {
     "data": {
      "application/javascript": "\n        if (window._pyforest_update_imports_cell) { window._pyforest_update_imports_cell('from PIL import Image'); }\n    ",
      "text/plain": [
       "<IPython.core.display.Javascript object>"
      ]
     },
     "metadata": {},
     "output_type": "display_data"
    },
    {
     "data": {
      "application/javascript": "\n        if (window._pyforest_update_imports_cell) { window._pyforest_update_imports_cell('from PIL import Image'); }\n    ",
      "text/plain": [
       "<IPython.core.display.Javascript object>"
      ]
     },
     "metadata": {},
     "output_type": "display_data"
    },
    {
     "data": {
      "application/javascript": "\n        if (window._pyforest_update_imports_cell) { window._pyforest_update_imports_cell('from PIL import Image'); }\n    ",
      "text/plain": [
       "<IPython.core.display.Javascript object>"
      ]
     },
     "metadata": {},
     "output_type": "display_data"
    },
    {
     "name": "stdout",
     "output_type": "stream",
     "text": [
      "MoviePy - Writing audio in /home/kurubal/Documents/Modern Ways/Project/Turkish/Image Audio Video/Result/200 Words/Twogram_Threegram/Threegram_Twogram_Selected/Data/Text_MP3/bunu.mp3\n"
     ]
    },
    {
     "name": "stderr",
     "output_type": "stream",
     "text": [
      "                                                       "
     ]
    },
    {
     "name": "stdout",
     "output_type": "stream",
     "text": [
      "MoviePy - Done.\n"
     ]
    },
    {
     "name": "stderr",
     "output_type": "stream",
     "text": [
      "\r"
     ]
    },
    {
     "name": "stdout",
     "output_type": "stream",
     "text": [
      "MoviePy - Writing audio in /home/kurubal/Documents/Modern Ways/Project/Turkish/Image Audio Video/Result/200 Words/Twogram_Threegram/Threegram_Twogram_Selected/Data/Text_MP3/herkes.mp3\n"
     ]
    },
    {
     "name": "stderr",
     "output_type": "stream",
     "text": [
      "                                                       "
     ]
    },
    {
     "name": "stdout",
     "output_type": "stream",
     "text": [
      "MoviePy - Done.\n"
     ]
    },
    {
     "name": "stderr",
     "output_type": "stream",
     "text": [
      "\r"
     ]
    },
    {
     "name": "stdout",
     "output_type": "stream",
     "text": [
      "MoviePy - Writing audio in /home/kurubal/Documents/Modern Ways/Project/Turkish/Image Audio Video/Result/200 Words/Twogram_Threegram/Threegram_Twogram_Selected/Data/Text_MP3/biliyor.mp3\n"
     ]
    },
    {
     "name": "stderr",
     "output_type": "stream",
     "text": [
      "                                                       "
     ]
    },
    {
     "name": "stdout",
     "output_type": "stream",
     "text": [
      "MoviePy - Done.\n"
     ]
    },
    {
     "name": "stderr",
     "output_type": "stream",
     "text": [
      "\r"
     ]
    },
    {
     "name": "stdout",
     "output_type": "stream",
     "text": [
      "Moviepy - Building video /home/kurubal/Documents/Modern Ways/Project/Turkish/Image Audio Video/Result/200 Words/Twogram_Threegram/Threegram_Twogram_Selected/Result/Image_Video_Audio/bunu.mp4.\n",
      "MoviePy - Writing audio in bunuTEMP_MPY_wvf_snd.mp4\n"
     ]
    },
    {
     "name": "stderr",
     "output_type": "stream",
     "text": [
      "                                                       \r"
     ]
    },
    {
     "name": "stdout",
     "output_type": "stream",
     "text": [
      "MoviePy - Done.\n",
      "Moviepy - Writing video /home/kurubal/Documents/Modern Ways/Project/Turkish/Image Audio Video/Result/200 Words/Twogram_Threegram/Threegram_Twogram_Selected/Result/Image_Video_Audio/bunu.mp4\n",
      "\n"
     ]
    },
    {
     "name": "stderr",
     "output_type": "stream",
     "text": [
      "                                                  \r"
     ]
    },
    {
     "name": "stdout",
     "output_type": "stream",
     "text": [
      "Moviepy - Done !\n",
      "Moviepy - video ready /home/kurubal/Documents/Modern Ways/Project/Turkish/Image Audio Video/Result/200 Words/Twogram_Threegram/Threegram_Twogram_Selected/Result/Image_Video_Audio/bunu.mp4\n",
      "Moviepy - Building video /home/kurubal/Documents/Modern Ways/Project/Turkish/Image Audio Video/Result/200 Words/Twogram_Threegram/Threegram_Twogram_Selected/Result/Image_Video_Audio/herkes.mp4.\n",
      "MoviePy - Writing audio in herkesTEMP_MPY_wvf_snd.mp4\n"
     ]
    },
    {
     "name": "stderr",
     "output_type": "stream",
     "text": [
      "                                                       \r"
     ]
    },
    {
     "name": "stdout",
     "output_type": "stream",
     "text": [
      "MoviePy - Done.\n",
      "Moviepy - Writing video /home/kurubal/Documents/Modern Ways/Project/Turkish/Image Audio Video/Result/200 Words/Twogram_Threegram/Threegram_Twogram_Selected/Result/Image_Video_Audio/herkes.mp4\n",
      "\n"
     ]
    },
    {
     "name": "stderr",
     "output_type": "stream",
     "text": [
      "                                                  \r"
     ]
    },
    {
     "name": "stdout",
     "output_type": "stream",
     "text": [
      "Moviepy - Done !\n",
      "Moviepy - video ready /home/kurubal/Documents/Modern Ways/Project/Turkish/Image Audio Video/Result/200 Words/Twogram_Threegram/Threegram_Twogram_Selected/Result/Image_Video_Audio/herkes.mp4\n",
      "Moviepy - Building video /home/kurubal/Documents/Modern Ways/Project/Turkish/Image Audio Video/Result/200 Words/Twogram_Threegram/Threegram_Twogram_Selected/Result/Image_Video_Audio/biliyor.mp4.\n",
      "MoviePy - Writing audio in biliyorTEMP_MPY_wvf_snd.mp4\n"
     ]
    },
    {
     "name": "stderr",
     "output_type": "stream",
     "text": [
      "                                                       \r"
     ]
    },
    {
     "name": "stdout",
     "output_type": "stream",
     "text": [
      "MoviePy - Done.\n",
      "Moviepy - Writing video /home/kurubal/Documents/Modern Ways/Project/Turkish/Image Audio Video/Result/200 Words/Twogram_Threegram/Threegram_Twogram_Selected/Result/Image_Video_Audio/biliyor.mp4\n",
      "\n"
     ]
    },
    {
     "name": "stderr",
     "output_type": "stream",
     "text": [
      "                                                  "
     ]
    },
    {
     "name": "stdout",
     "output_type": "stream",
     "text": [
      "Moviepy - Done !\n",
      "Moviepy - video ready /home/kurubal/Documents/Modern Ways/Project/Turkish/Image Audio Video/Result/200 Words/Twogram_Threegram/Threegram_Twogram_Selected/Result/Image_Video_Audio/biliyor.mp4\n"
     ]
    },
    {
     "name": "stderr",
     "output_type": "stream",
     "text": [
      "\r"
     ]
    },
    {
     "name": "stdout",
     "output_type": "stream",
     "text": [
      "MoviePy - Writing audio in /home/kurubal/Documents/Modern Ways/Project/Turkish/Image Audio Video/Result/200 Words/Twogram_Threegram/Threegram_Twogram_Selected/Data/Text_MP3/bunu herkes biliyor.mp3\n"
     ]
    },
    {
     "name": "stderr",
     "output_type": "stream",
     "text": [
      "                                                       "
     ]
    },
    {
     "name": "stdout",
     "output_type": "stream",
     "text": [
      "MoviePy - Done.\n"
     ]
    },
    {
     "name": "stderr",
     "output_type": "stream",
     "text": [
      "\r"
     ]
    },
    {
     "name": "stdout",
     "output_type": "stream",
     "text": [
      "Moviepy - Building video /home/kurubal/Documents/Modern Ways/Project/Turkish/Image Audio Video/Result/200 Words/Twogram_Threegram/Threegram_Twogram_Selected/Result/Image_Video_Audio/bunu herkes biliyor.mp4.\n",
      "MoviePy - Writing audio in bunu herkes biliyorTEMP_MPY_wvf_snd.mp4\n"
     ]
    },
    {
     "name": "stderr",
     "output_type": "stream",
     "text": [
      "                                                       \r"
     ]
    },
    {
     "name": "stdout",
     "output_type": "stream",
     "text": [
      "MoviePy - Done.\n",
      "Moviepy - Writing video /home/kurubal/Documents/Modern Ways/Project/Turkish/Image Audio Video/Result/200 Words/Twogram_Threegram/Threegram_Twogram_Selected/Result/Image_Video_Audio/bunu herkes biliyor.mp4\n",
      "\n"
     ]
    },
    {
     "name": "stderr",
     "output_type": "stream",
     "text": [
      "                                                  \r"
     ]
    },
    {
     "name": "stdout",
     "output_type": "stream",
     "text": [
      "Moviepy - Done !\n",
      "Moviepy - video ready /home/kurubal/Documents/Modern Ways/Project/Turkish/Image Audio Video/Result/200 Words/Twogram_Threegram/Threegram_Twogram_Selected/Result/Image_Video_Audio/bunu herkes biliyor.mp4\n",
      "Moviepy - Building video /home/kurubal/Documents/Modern Ways/Project/Turkish/Image Audio Video/Result/200 Words/Twogram_Threegram/Threegram_Twogram_Selected/Result/Concat_Video/bunu herkes biliyor.mp4.\n",
      "MoviePy - Writing audio in bunu herkes biliyorTEMP_MPY_wvf_snd.mp4\n"
     ]
    },
    {
     "name": "stderr",
     "output_type": "stream",
     "text": [
      "                                                                    \r"
     ]
    },
    {
     "name": "stdout",
     "output_type": "stream",
     "text": [
      "MoviePy - Done.\n",
      "Moviepy - Writing video /home/kurubal/Documents/Modern Ways/Project/Turkish/Image Audio Video/Result/200 Words/Twogram_Threegram/Threegram_Twogram_Selected/Result/Concat_Video/bunu herkes biliyor.mp4\n",
      "\n"
     ]
    },
    {
     "name": "stderr",
     "output_type": "stream",
     "text": [
      "                                                           \r"
     ]
    },
    {
     "name": "stdout",
     "output_type": "stream",
     "text": [
      "Moviepy - Done !\n",
      "Moviepy - video ready /home/kurubal/Documents/Modern Ways/Project/Turkish/Image Audio Video/Result/200 Words/Twogram_Threegram/Threegram_Twogram_Selected/Result/Concat_Video/bunu herkes biliyor.mp4\n"
     ]
    },
    {
     "data": {
      "application/javascript": "\n        if (window._pyforest_update_imports_cell) { window._pyforest_update_imports_cell('from PIL import Image'); }\n    ",
      "text/plain": [
       "<IPython.core.display.Javascript object>"
      ]
     },
     "metadata": {},
     "output_type": "display_data"
    },
    {
     "data": {
      "application/javascript": "\n        if (window._pyforest_update_imports_cell) { window._pyforest_update_imports_cell('from PIL import Image'); }\n    ",
      "text/plain": [
       "<IPython.core.display.Javascript object>"
      ]
     },
     "metadata": {},
     "output_type": "display_data"
    },
    {
     "name": "stdout",
     "output_type": "stream",
     "text": [
      "MoviePy - Writing audio in /home/kurubal/Documents/Modern Ways/Project/Turkish/Image Audio Video/Result/200 Words/Twogram_Threegram/Threegram_Twogram_Selected/Data/Text_MP3/efendim.mp3\n"
     ]
    },
    {
     "name": "stderr",
     "output_type": "stream",
     "text": [
      "                                                       "
     ]
    },
    {
     "name": "stdout",
     "output_type": "stream",
     "text": [
      "MoviePy - Done.\n"
     ]
    },
    {
     "name": "stderr",
     "output_type": "stream",
     "text": [
      "\r"
     ]
    },
    {
     "name": "stdout",
     "output_type": "stream",
     "text": [
      "Moviepy - Building video /home/kurubal/Documents/Modern Ways/Project/Turkish/Image Audio Video/Result/200 Words/Twogram_Threegram/Threegram_Twogram_Selected/Result/Image_Video_Audio/efendim.mp4.\n",
      "MoviePy - Writing audio in efendimTEMP_MPY_wvf_snd.mp4\n"
     ]
    },
    {
     "name": "stderr",
     "output_type": "stream",
     "text": [
      "                                                       \r"
     ]
    },
    {
     "name": "stdout",
     "output_type": "stream",
     "text": [
      "MoviePy - Done.\n",
      "Moviepy - Writing video /home/kurubal/Documents/Modern Ways/Project/Turkish/Image Audio Video/Result/200 Words/Twogram_Threegram/Threegram_Twogram_Selected/Result/Image_Video_Audio/efendim.mp4\n",
      "\n"
     ]
    },
    {
     "name": "stderr",
     "output_type": "stream",
     "text": [
      "                                                  \r"
     ]
    },
    {
     "name": "stdout",
     "output_type": "stream",
     "text": [
      "Moviepy - Done !\n",
      "Moviepy - video ready /home/kurubal/Documents/Modern Ways/Project/Turkish/Image Audio Video/Result/200 Words/Twogram_Threegram/Threegram_Twogram_Selected/Result/Image_Video_Audio/efendim.mp4\n",
      "MoviePy - Writing audio in /home/kurubal/Documents/Modern Ways/Project/Turkish/Image Audio Video/Result/200 Words/Twogram_Threegram/Threegram_Twogram_Selected/Data/Text_MP3/evet efendim bu.mp3\n"
     ]
    },
    {
     "name": "stderr",
     "output_type": "stream",
     "text": [
      "                                                       "
     ]
    },
    {
     "name": "stdout",
     "output_type": "stream",
     "text": [
      "MoviePy - Done.\n"
     ]
    },
    {
     "name": "stderr",
     "output_type": "stream",
     "text": [
      "\r"
     ]
    },
    {
     "name": "stdout",
     "output_type": "stream",
     "text": [
      "Moviepy - Building video /home/kurubal/Documents/Modern Ways/Project/Turkish/Image Audio Video/Result/200 Words/Twogram_Threegram/Threegram_Twogram_Selected/Result/Image_Video_Audio/evet efendim bu.mp4.\n",
      "MoviePy - Writing audio in evet efendim buTEMP_MPY_wvf_snd.mp4\n"
     ]
    },
    {
     "name": "stderr",
     "output_type": "stream",
     "text": [
      "                                                       \r"
     ]
    },
    {
     "name": "stdout",
     "output_type": "stream",
     "text": [
      "MoviePy - Done.\n",
      "Moviepy - Writing video /home/kurubal/Documents/Modern Ways/Project/Turkish/Image Audio Video/Result/200 Words/Twogram_Threegram/Threegram_Twogram_Selected/Result/Image_Video_Audio/evet efendim bu.mp4\n",
      "\n"
     ]
    },
    {
     "name": "stderr",
     "output_type": "stream",
     "text": [
      "                                                  \r"
     ]
    },
    {
     "name": "stdout",
     "output_type": "stream",
     "text": [
      "Moviepy - Done !\n",
      "Moviepy - video ready /home/kurubal/Documents/Modern Ways/Project/Turkish/Image Audio Video/Result/200 Words/Twogram_Threegram/Threegram_Twogram_Selected/Result/Image_Video_Audio/evet efendim bu.mp4\n",
      "Moviepy - Building video /home/kurubal/Documents/Modern Ways/Project/Turkish/Image Audio Video/Result/200 Words/Twogram_Threegram/Threegram_Twogram_Selected/Result/Concat_Video/evet efendim bu.mp4.\n",
      "MoviePy - Writing audio in evet efendim buTEMP_MPY_wvf_snd.mp4\n"
     ]
    },
    {
     "name": "stderr",
     "output_type": "stream",
     "text": [
      "                                                                    \r"
     ]
    },
    {
     "name": "stdout",
     "output_type": "stream",
     "text": [
      "MoviePy - Done.\n",
      "Moviepy - Writing video /home/kurubal/Documents/Modern Ways/Project/Turkish/Image Audio Video/Result/200 Words/Twogram_Threegram/Threegram_Twogram_Selected/Result/Concat_Video/evet efendim bu.mp4\n",
      "\n"
     ]
    },
    {
     "name": "stderr",
     "output_type": "stream",
     "text": [
      "                                                           \r"
     ]
    },
    {
     "name": "stdout",
     "output_type": "stream",
     "text": [
      "Moviepy - Done !\n",
      "Moviepy - video ready /home/kurubal/Documents/Modern Ways/Project/Turkish/Image Audio Video/Result/200 Words/Twogram_Threegram/Threegram_Twogram_Selected/Result/Concat_Video/evet efendim bu.mp4\n",
      "MoviePy - Writing audio in /home/kurubal/Documents/Modern Ways/Project/Turkish/Image Audio Video/Result/200 Words/Twogram_Threegram/Threegram_Twogram_Selected/Data/Text_MP3/çok güzel değil.mp3\n"
     ]
    },
    {
     "name": "stderr",
     "output_type": "stream",
     "text": [
      "                                                       "
     ]
    },
    {
     "name": "stdout",
     "output_type": "stream",
     "text": [
      "MoviePy - Done.\n"
     ]
    },
    {
     "name": "stderr",
     "output_type": "stream",
     "text": [
      "\r"
     ]
    },
    {
     "name": "stdout",
     "output_type": "stream",
     "text": [
      "Moviepy - Building video /home/kurubal/Documents/Modern Ways/Project/Turkish/Image Audio Video/Result/200 Words/Twogram_Threegram/Threegram_Twogram_Selected/Result/Image_Video_Audio/çok güzel değil.mp4.\n",
      "MoviePy - Writing audio in çok güzel değilTEMP_MPY_wvf_snd.mp4\n"
     ]
    },
    {
     "name": "stderr",
     "output_type": "stream",
     "text": [
      "                                                       \r"
     ]
    },
    {
     "name": "stdout",
     "output_type": "stream",
     "text": [
      "MoviePy - Done.\n",
      "Moviepy - Writing video /home/kurubal/Documents/Modern Ways/Project/Turkish/Image Audio Video/Result/200 Words/Twogram_Threegram/Threegram_Twogram_Selected/Result/Image_Video_Audio/çok güzel değil.mp4\n",
      "\n"
     ]
    },
    {
     "name": "stderr",
     "output_type": "stream",
     "text": [
      "                                                  \r"
     ]
    },
    {
     "name": "stdout",
     "output_type": "stream",
     "text": [
      "Moviepy - Done !\n",
      "Moviepy - video ready /home/kurubal/Documents/Modern Ways/Project/Turkish/Image Audio Video/Result/200 Words/Twogram_Threegram/Threegram_Twogram_Selected/Result/Image_Video_Audio/çok güzel değil.mp4\n",
      "Moviepy - Building video /home/kurubal/Documents/Modern Ways/Project/Turkish/Image Audio Video/Result/200 Words/Twogram_Threegram/Threegram_Twogram_Selected/Result/Concat_Video/çok güzel değil.mp4.\n",
      "MoviePy - Writing audio in çok güzel değilTEMP_MPY_wvf_snd.mp4\n"
     ]
    },
    {
     "name": "stderr",
     "output_type": "stream",
     "text": [
      "                                                                    \r"
     ]
    },
    {
     "name": "stdout",
     "output_type": "stream",
     "text": [
      "MoviePy - Done.\n",
      "Moviepy - Writing video /home/kurubal/Documents/Modern Ways/Project/Turkish/Image Audio Video/Result/200 Words/Twogram_Threegram/Threegram_Twogram_Selected/Result/Concat_Video/çok güzel değil.mp4\n",
      "\n"
     ]
    },
    {
     "name": "stderr",
     "output_type": "stream",
     "text": [
      "                                                          \r"
     ]
    },
    {
     "name": "stdout",
     "output_type": "stream",
     "text": [
      "Moviepy - Done !\n",
      "Moviepy - video ready /home/kurubal/Documents/Modern Ways/Project/Turkish/Image Audio Video/Result/200 Words/Twogram_Threegram/Threegram_Twogram_Selected/Result/Concat_Video/çok güzel değil.mp4\n"
     ]
    },
    {
     "data": {
      "application/javascript": "\n        if (window._pyforest_update_imports_cell) { window._pyforest_update_imports_cell('from PIL import Image'); }\n    ",
      "text/plain": [
       "<IPython.core.display.Javascript object>"
      ]
     },
     "metadata": {},
     "output_type": "display_data"
    },
    {
     "data": {
      "application/javascript": "\n        if (window._pyforest_update_imports_cell) { window._pyforest_update_imports_cell('from PIL import Image'); }\n    ",
      "text/plain": [
       "<IPython.core.display.Javascript object>"
      ]
     },
     "metadata": {},
     "output_type": "display_data"
    },
    {
     "name": "stdout",
     "output_type": "stream",
     "text": [
      "MoviePy - Writing audio in /home/kurubal/Documents/Modern Ways/Project/Turkish/Image Audio Video/Result/200 Words/Twogram_Threegram/Threegram_Twogram_Selected/Data/Text_MP3/peki.mp3\n"
     ]
    },
    {
     "name": "stderr",
     "output_type": "stream",
     "text": [
      "                                                       "
     ]
    },
    {
     "name": "stdout",
     "output_type": "stream",
     "text": [
      "MoviePy - Done.\n"
     ]
    },
    {
     "name": "stderr",
     "output_type": "stream",
     "text": [
      "\r"
     ]
    },
    {
     "name": "stdout",
     "output_type": "stream",
     "text": [
      "Moviepy - Building video /home/kurubal/Documents/Modern Ways/Project/Turkish/Image Audio Video/Result/200 Words/Twogram_Threegram/Threegram_Twogram_Selected/Result/Image_Video_Audio/peki.mp4.\n",
      "MoviePy - Writing audio in pekiTEMP_MPY_wvf_snd.mp4\n"
     ]
    },
    {
     "name": "stderr",
     "output_type": "stream",
     "text": [
      "                                                       \r"
     ]
    },
    {
     "name": "stdout",
     "output_type": "stream",
     "text": [
      "MoviePy - Done.\n",
      "Moviepy - Writing video /home/kurubal/Documents/Modern Ways/Project/Turkish/Image Audio Video/Result/200 Words/Twogram_Threegram/Threegram_Twogram_Selected/Result/Image_Video_Audio/peki.mp4\n",
      "\n"
     ]
    },
    {
     "name": "stderr",
     "output_type": "stream",
     "text": [
      "                                                  \r"
     ]
    },
    {
     "name": "stdout",
     "output_type": "stream",
     "text": [
      "Moviepy - Done !\n",
      "Moviepy - video ready /home/kurubal/Documents/Modern Ways/Project/Turkish/Image Audio Video/Result/200 Words/Twogram_Threegram/Threegram_Twogram_Selected/Result/Image_Video_Audio/peki.mp4\n",
      "MoviePy - Writing audio in /home/kurubal/Documents/Modern Ways/Project/Turkish/Image Audio Video/Result/200 Words/Twogram_Threegram/Threegram_Twogram_Selected/Data/Text_MP3/peki o zaman.mp3\n"
     ]
    },
    {
     "name": "stderr",
     "output_type": "stream",
     "text": [
      "                                                       "
     ]
    },
    {
     "name": "stdout",
     "output_type": "stream",
     "text": [
      "MoviePy - Done.\n"
     ]
    },
    {
     "name": "stderr",
     "output_type": "stream",
     "text": [
      "\r"
     ]
    },
    {
     "name": "stdout",
     "output_type": "stream",
     "text": [
      "Moviepy - Building video /home/kurubal/Documents/Modern Ways/Project/Turkish/Image Audio Video/Result/200 Words/Twogram_Threegram/Threegram_Twogram_Selected/Result/Image_Video_Audio/peki o zaman.mp4.\n",
      "MoviePy - Writing audio in peki o zamanTEMP_MPY_wvf_snd.mp4\n"
     ]
    },
    {
     "name": "stderr",
     "output_type": "stream",
     "text": [
      "                                                       \r"
     ]
    },
    {
     "name": "stdout",
     "output_type": "stream",
     "text": [
      "MoviePy - Done.\n",
      "Moviepy - Writing video /home/kurubal/Documents/Modern Ways/Project/Turkish/Image Audio Video/Result/200 Words/Twogram_Threegram/Threegram_Twogram_Selected/Result/Image_Video_Audio/peki o zaman.mp4\n",
      "\n"
     ]
    },
    {
     "name": "stderr",
     "output_type": "stream",
     "text": [
      "                                                  \r"
     ]
    },
    {
     "name": "stdout",
     "output_type": "stream",
     "text": [
      "Moviepy - Done !\n",
      "Moviepy - video ready /home/kurubal/Documents/Modern Ways/Project/Turkish/Image Audio Video/Result/200 Words/Twogram_Threegram/Threegram_Twogram_Selected/Result/Image_Video_Audio/peki o zaman.mp4\n",
      "Moviepy - Building video /home/kurubal/Documents/Modern Ways/Project/Turkish/Image Audio Video/Result/200 Words/Twogram_Threegram/Threegram_Twogram_Selected/Result/Concat_Video/peki o zaman.mp4.\n",
      "MoviePy - Writing audio in peki o zamanTEMP_MPY_wvf_snd.mp4\n"
     ]
    },
    {
     "name": "stderr",
     "output_type": "stream",
     "text": [
      "                                                                    \r"
     ]
    },
    {
     "name": "stdout",
     "output_type": "stream",
     "text": [
      "MoviePy - Done.\n",
      "Moviepy - Writing video /home/kurubal/Documents/Modern Ways/Project/Turkish/Image Audio Video/Result/200 Words/Twogram_Threegram/Threegram_Twogram_Selected/Result/Concat_Video/peki o zaman.mp4\n",
      "\n"
     ]
    },
    {
     "name": "stderr",
     "output_type": "stream",
     "text": [
      "                                                          \r"
     ]
    },
    {
     "name": "stdout",
     "output_type": "stream",
     "text": [
      "Moviepy - Done !\n",
      "Moviepy - video ready /home/kurubal/Documents/Modern Ways/Project/Turkish/Image Audio Video/Result/200 Words/Twogram_Threegram/Threegram_Twogram_Selected/Result/Concat_Video/peki o zaman.mp4\n",
      "MoviePy - Writing audio in /home/kurubal/Documents/Modern Ways/Project/Turkish/Image Audio Video/Result/200 Words/Twogram_Threegram/Threegram_Twogram_Selected/Data/Text_MP3/biraz fazla uzun.mp3\n"
     ]
    },
    {
     "name": "stderr",
     "output_type": "stream",
     "text": [
      "                                                       "
     ]
    },
    {
     "name": "stdout",
     "output_type": "stream",
     "text": [
      "MoviePy - Done.\n"
     ]
    },
    {
     "name": "stderr",
     "output_type": "stream",
     "text": [
      "\r"
     ]
    },
    {
     "name": "stdout",
     "output_type": "stream",
     "text": [
      "Moviepy - Building video /home/kurubal/Documents/Modern Ways/Project/Turkish/Image Audio Video/Result/200 Words/Twogram_Threegram/Threegram_Twogram_Selected/Result/Image_Video_Audio/biraz fazla uzun.mp4.\n",
      "MoviePy - Writing audio in biraz fazla uzunTEMP_MPY_wvf_snd.mp4\n"
     ]
    },
    {
     "name": "stderr",
     "output_type": "stream",
     "text": [
      "                                                       \r"
     ]
    },
    {
     "name": "stdout",
     "output_type": "stream",
     "text": [
      "MoviePy - Done.\n",
      "Moviepy - Writing video /home/kurubal/Documents/Modern Ways/Project/Turkish/Image Audio Video/Result/200 Words/Twogram_Threegram/Threegram_Twogram_Selected/Result/Image_Video_Audio/biraz fazla uzun.mp4\n",
      "\n"
     ]
    },
    {
     "name": "stderr",
     "output_type": "stream",
     "text": [
      "                                                  \r"
     ]
    },
    {
     "name": "stdout",
     "output_type": "stream",
     "text": [
      "Moviepy - Done !\n",
      "Moviepy - video ready /home/kurubal/Documents/Modern Ways/Project/Turkish/Image Audio Video/Result/200 Words/Twogram_Threegram/Threegram_Twogram_Selected/Result/Image_Video_Audio/biraz fazla uzun.mp4\n",
      "Moviepy - Building video /home/kurubal/Documents/Modern Ways/Project/Turkish/Image Audio Video/Result/200 Words/Twogram_Threegram/Threegram_Twogram_Selected/Result/Concat_Video/biraz fazla uzun.mp4.\n",
      "MoviePy - Writing audio in biraz fazla uzunTEMP_MPY_wvf_snd.mp4\n"
     ]
    },
    {
     "name": "stderr",
     "output_type": "stream",
     "text": [
      "                                                                    "
     ]
    },
    {
     "name": "stdout",
     "output_type": "stream",
     "text": [
      "MoviePy - Done.\n",
      "Moviepy - Writing video /home/kurubal/Documents/Modern Ways/Project/Turkish/Image Audio Video/Result/200 Words/Twogram_Threegram/Threegram_Twogram_Selected/Result/Concat_Video/biraz fazla uzun.mp4\n",
      "\n"
     ]
    },
    {
     "name": "stderr",
     "output_type": "stream",
     "text": [
      "                                                           \r"
     ]
    },
    {
     "name": "stdout",
     "output_type": "stream",
     "text": [
      "Moviepy - Done !\n",
      "Moviepy - video ready /home/kurubal/Documents/Modern Ways/Project/Turkish/Image Audio Video/Result/200 Words/Twogram_Threegram/Threegram_Twogram_Selected/Result/Concat_Video/biraz fazla uzun.mp4\n",
      "MoviePy - Writing audio in /home/kurubal/Documents/Modern Ways/Project/Turkish/Image Audio Video/Result/200 Words/Twogram_Threegram/Threegram_Twogram_Selected/Data/Text_MP3/neler oluyor burada.mp3\n"
     ]
    },
    {
     "name": "stderr",
     "output_type": "stream",
     "text": [
      "                                                       "
     ]
    },
    {
     "name": "stdout",
     "output_type": "stream",
     "text": [
      "MoviePy - Done.\n"
     ]
    },
    {
     "name": "stderr",
     "output_type": "stream",
     "text": [
      "\r"
     ]
    },
    {
     "name": "stdout",
     "output_type": "stream",
     "text": [
      "Moviepy - Building video /home/kurubal/Documents/Modern Ways/Project/Turkish/Image Audio Video/Result/200 Words/Twogram_Threegram/Threegram_Twogram_Selected/Result/Image_Video_Audio/neler oluyor burada.mp4.\n",
      "MoviePy - Writing audio in neler oluyor buradaTEMP_MPY_wvf_snd.mp4\n"
     ]
    },
    {
     "name": "stderr",
     "output_type": "stream",
     "text": [
      "                                                       \r"
     ]
    },
    {
     "name": "stdout",
     "output_type": "stream",
     "text": [
      "MoviePy - Done.\n",
      "Moviepy - Writing video /home/kurubal/Documents/Modern Ways/Project/Turkish/Image Audio Video/Result/200 Words/Twogram_Threegram/Threegram_Twogram_Selected/Result/Image_Video_Audio/neler oluyor burada.mp4\n",
      "\n"
     ]
    },
    {
     "name": "stderr",
     "output_type": "stream",
     "text": [
      "                                                  \r"
     ]
    },
    {
     "name": "stdout",
     "output_type": "stream",
     "text": [
      "Moviepy - Done !\n",
      "Moviepy - video ready /home/kurubal/Documents/Modern Ways/Project/Turkish/Image Audio Video/Result/200 Words/Twogram_Threegram/Threegram_Twogram_Selected/Result/Image_Video_Audio/neler oluyor burada.mp4\n",
      "Moviepy - Building video /home/kurubal/Documents/Modern Ways/Project/Turkish/Image Audio Video/Result/200 Words/Twogram_Threegram/Threegram_Twogram_Selected/Result/Concat_Video/neler oluyor burada.mp4.\n",
      "MoviePy - Writing audio in neler oluyor buradaTEMP_MPY_wvf_snd.mp4\n"
     ]
    },
    {
     "name": "stderr",
     "output_type": "stream",
     "text": [
      "                                                                    "
     ]
    },
    {
     "name": "stdout",
     "output_type": "stream",
     "text": [
      "MoviePy - Done.\n",
      "Moviepy - Writing video /home/kurubal/Documents/Modern Ways/Project/Turkish/Image Audio Video/Result/200 Words/Twogram_Threegram/Threegram_Twogram_Selected/Result/Concat_Video/neler oluyor burada.mp4\n",
      "\n"
     ]
    },
    {
     "name": "stderr",
     "output_type": "stream",
     "text": [
      "                                                           \r"
     ]
    },
    {
     "name": "stdout",
     "output_type": "stream",
     "text": [
      "Moviepy - Done !\n",
      "Moviepy - video ready /home/kurubal/Documents/Modern Ways/Project/Turkish/Image Audio Video/Result/200 Words/Twogram_Threegram/Threegram_Twogram_Selected/Result/Concat_Video/neler oluyor burada.mp4\n"
     ]
    },
    {
     "data": {
      "application/javascript": "\n        if (window._pyforest_update_imports_cell) { window._pyforest_update_imports_cell('from PIL import Image'); }\n    ",
      "text/plain": [
       "<IPython.core.display.Javascript object>"
      ]
     },
     "metadata": {},
     "output_type": "display_data"
    },
    {
     "data": {
      "application/javascript": "\n        if (window._pyforest_update_imports_cell) { window._pyforest_update_imports_cell('from PIL import Image'); }\n    ",
      "text/plain": [
       "<IPython.core.display.Javascript object>"
      ]
     },
     "metadata": {},
     "output_type": "display_data"
    },
    {
     "name": "stdout",
     "output_type": "stream",
     "text": [
      "MoviePy - Writing audio in /home/kurubal/Documents/Modern Ways/Project/Turkish/Image Audio Video/Result/200 Words/Twogram_Threegram/Threegram_Twogram_Selected/Data/Text_MP3/biri.mp3\n"
     ]
    },
    {
     "name": "stderr",
     "output_type": "stream",
     "text": [
      "                                                       "
     ]
    },
    {
     "name": "stdout",
     "output_type": "stream",
     "text": [
      "MoviePy - Done.\n"
     ]
    },
    {
     "name": "stderr",
     "output_type": "stream",
     "text": [
      "\r"
     ]
    },
    {
     "name": "stdout",
     "output_type": "stream",
     "text": [
      "Moviepy - Building video /home/kurubal/Documents/Modern Ways/Project/Turkish/Image Audio Video/Result/200 Words/Twogram_Threegram/Threegram_Twogram_Selected/Result/Image_Video_Audio/biri.mp4.\n",
      "MoviePy - Writing audio in biriTEMP_MPY_wvf_snd.mp4\n"
     ]
    },
    {
     "name": "stderr",
     "output_type": "stream",
     "text": [
      "                                                       \r"
     ]
    },
    {
     "name": "stdout",
     "output_type": "stream",
     "text": [
      "MoviePy - Done.\n",
      "Moviepy - Writing video /home/kurubal/Documents/Modern Ways/Project/Turkish/Image Audio Video/Result/200 Words/Twogram_Threegram/Threegram_Twogram_Selected/Result/Image_Video_Audio/biri.mp4\n",
      "\n"
     ]
    },
    {
     "name": "stderr",
     "output_type": "stream",
     "text": [
      "                                                  "
     ]
    },
    {
     "name": "stdout",
     "output_type": "stream",
     "text": [
      "Moviepy - Done !\n",
      "Moviepy - video ready /home/kurubal/Documents/Modern Ways/Project/Turkish/Image Audio Video/Result/200 Words/Twogram_Threegram/Threegram_Twogram_Selected/Result/Image_Video_Audio/biri.mp4\n"
     ]
    },
    {
     "name": "stderr",
     "output_type": "stream",
     "text": [
      "\r"
     ]
    },
    {
     "name": "stdout",
     "output_type": "stream",
     "text": [
      "MoviePy - Writing audio in /home/kurubal/Documents/Modern Ways/Project/Turkish/Image Audio Video/Result/200 Words/Twogram_Threegram/Threegram_Twogram_Selected/Data/Text_MP3/orada biri var.mp3\n"
     ]
    },
    {
     "name": "stderr",
     "output_type": "stream",
     "text": [
      "                                                       "
     ]
    },
    {
     "name": "stdout",
     "output_type": "stream",
     "text": [
      "MoviePy - Done.\n"
     ]
    },
    {
     "name": "stderr",
     "output_type": "stream",
     "text": [
      "\r"
     ]
    },
    {
     "name": "stdout",
     "output_type": "stream",
     "text": [
      "Moviepy - Building video /home/kurubal/Documents/Modern Ways/Project/Turkish/Image Audio Video/Result/200 Words/Twogram_Threegram/Threegram_Twogram_Selected/Result/Image_Video_Audio/orada biri var.mp4.\n",
      "MoviePy - Writing audio in orada biri varTEMP_MPY_wvf_snd.mp4\n"
     ]
    },
    {
     "name": "stderr",
     "output_type": "stream",
     "text": [
      "                                                       \r"
     ]
    },
    {
     "name": "stdout",
     "output_type": "stream",
     "text": [
      "MoviePy - Done.\n",
      "Moviepy - Writing video /home/kurubal/Documents/Modern Ways/Project/Turkish/Image Audio Video/Result/200 Words/Twogram_Threegram/Threegram_Twogram_Selected/Result/Image_Video_Audio/orada biri var.mp4\n",
      "\n"
     ]
    },
    {
     "name": "stderr",
     "output_type": "stream",
     "text": [
      "                                                  \r"
     ]
    },
    {
     "name": "stdout",
     "output_type": "stream",
     "text": [
      "Moviepy - Done !\n",
      "Moviepy - video ready /home/kurubal/Documents/Modern Ways/Project/Turkish/Image Audio Video/Result/200 Words/Twogram_Threegram/Threegram_Twogram_Selected/Result/Image_Video_Audio/orada biri var.mp4\n",
      "Moviepy - Building video /home/kurubal/Documents/Modern Ways/Project/Turkish/Image Audio Video/Result/200 Words/Twogram_Threegram/Threegram_Twogram_Selected/Result/Concat_Video/orada biri var.mp4.\n",
      "MoviePy - Writing audio in orada biri varTEMP_MPY_wvf_snd.mp4\n"
     ]
    },
    {
     "name": "stderr",
     "output_type": "stream",
     "text": [
      "                                                        \r"
     ]
    },
    {
     "name": "stdout",
     "output_type": "stream",
     "text": [
      "MoviePy - Done.\n",
      "Moviepy - Writing video /home/kurubal/Documents/Modern Ways/Project/Turkish/Image Audio Video/Result/200 Words/Twogram_Threegram/Threegram_Twogram_Selected/Result/Concat_Video/orada biri var.mp4\n",
      "\n"
     ]
    },
    {
     "name": "stderr",
     "output_type": "stream",
     "text": [
      "                                                           \r"
     ]
    },
    {
     "name": "stdout",
     "output_type": "stream",
     "text": [
      "Moviepy - Done !\n",
      "Moviepy - video ready /home/kurubal/Documents/Modern Ways/Project/Turkish/Image Audio Video/Result/200 Words/Twogram_Threegram/Threegram_Twogram_Selected/Result/Concat_Video/orada biri var.mp4\n"
     ]
    },
    {
     "data": {
      "application/javascript": "\n        if (window._pyforest_update_imports_cell) { window._pyforest_update_imports_cell('from PIL import Image'); }\n    ",
      "text/plain": [
       "<IPython.core.display.Javascript object>"
      ]
     },
     "metadata": {},
     "output_type": "display_data"
    },
    {
     "data": {
      "application/javascript": "\n        if (window._pyforest_update_imports_cell) { window._pyforest_update_imports_cell('from PIL import Image'); }\n    ",
      "text/plain": [
       "<IPython.core.display.Javascript object>"
      ]
     },
     "metadata": {},
     "output_type": "display_data"
    },
    {
     "name": "stdout",
     "output_type": "stream",
     "text": [
      "MoviePy - Writing audio in /home/kurubal/Documents/Modern Ways/Project/Turkish/Image Audio Video/Result/200 Words/Twogram_Threegram/Threegram_Twogram_Selected/Data/Text_MP3/hiç.mp3\n"
     ]
    },
    {
     "name": "stderr",
     "output_type": "stream",
     "text": [
      "                                                       "
     ]
    },
    {
     "name": "stdout",
     "output_type": "stream",
     "text": [
      "MoviePy - Done.\n"
     ]
    },
    {
     "name": "stderr",
     "output_type": "stream",
     "text": [
      "\r"
     ]
    },
    {
     "name": "stdout",
     "output_type": "stream",
     "text": [
      "Moviepy - Building video /home/kurubal/Documents/Modern Ways/Project/Turkish/Image Audio Video/Result/200 Words/Twogram_Threegram/Threegram_Twogram_Selected/Result/Image_Video_Audio/hiç.mp4.\n",
      "MoviePy - Writing audio in hiçTEMP_MPY_wvf_snd.mp4\n"
     ]
    },
    {
     "name": "stderr",
     "output_type": "stream",
     "text": [
      "                                                       \r"
     ]
    },
    {
     "name": "stdout",
     "output_type": "stream",
     "text": [
      "MoviePy - Done.\n",
      "Moviepy - Writing video /home/kurubal/Documents/Modern Ways/Project/Turkish/Image Audio Video/Result/200 Words/Twogram_Threegram/Threegram_Twogram_Selected/Result/Image_Video_Audio/hiç.mp4\n",
      "\n"
     ]
    },
    {
     "name": "stderr",
     "output_type": "stream",
     "text": [
      "                                                  \r"
     ]
    },
    {
     "name": "stdout",
     "output_type": "stream",
     "text": [
      "Moviepy - Done !\n",
      "Moviepy - video ready /home/kurubal/Documents/Modern Ways/Project/Turkish/Image Audio Video/Result/200 Words/Twogram_Threegram/Threegram_Twogram_Selected/Result/Image_Video_Audio/hiç.mp4\n",
      "MoviePy - Writing audio in /home/kurubal/Documents/Modern Ways/Project/Turkish/Image Audio Video/Result/200 Words/Twogram_Threegram/Threegram_Twogram_Selected/Data/Text_MP3/hiç gerek yok.mp3\n"
     ]
    },
    {
     "name": "stderr",
     "output_type": "stream",
     "text": [
      "                                                       "
     ]
    },
    {
     "name": "stdout",
     "output_type": "stream",
     "text": [
      "MoviePy - Done.\n"
     ]
    },
    {
     "name": "stderr",
     "output_type": "stream",
     "text": [
      "\r"
     ]
    },
    {
     "name": "stdout",
     "output_type": "stream",
     "text": [
      "Moviepy - Building video /home/kurubal/Documents/Modern Ways/Project/Turkish/Image Audio Video/Result/200 Words/Twogram_Threegram/Threegram_Twogram_Selected/Result/Image_Video_Audio/hiç gerek yok.mp4.\n",
      "MoviePy - Writing audio in hiç gerek yokTEMP_MPY_wvf_snd.mp4\n"
     ]
    },
    {
     "name": "stderr",
     "output_type": "stream",
     "text": [
      "                                                       \r"
     ]
    },
    {
     "name": "stdout",
     "output_type": "stream",
     "text": [
      "MoviePy - Done.\n",
      "Moviepy - Writing video /home/kurubal/Documents/Modern Ways/Project/Turkish/Image Audio Video/Result/200 Words/Twogram_Threegram/Threegram_Twogram_Selected/Result/Image_Video_Audio/hiç gerek yok.mp4\n",
      "\n"
     ]
    },
    {
     "name": "stderr",
     "output_type": "stream",
     "text": [
      "                                                  \r"
     ]
    },
    {
     "name": "stdout",
     "output_type": "stream",
     "text": [
      "Moviepy - Done !\n",
      "Moviepy - video ready /home/kurubal/Documents/Modern Ways/Project/Turkish/Image Audio Video/Result/200 Words/Twogram_Threegram/Threegram_Twogram_Selected/Result/Image_Video_Audio/hiç gerek yok.mp4\n",
      "Moviepy - Building video /home/kurubal/Documents/Modern Ways/Project/Turkish/Image Audio Video/Result/200 Words/Twogram_Threegram/Threegram_Twogram_Selected/Result/Concat_Video/hiç gerek yok.mp4.\n",
      "MoviePy - Writing audio in hiç gerek yokTEMP_MPY_wvf_snd.mp4\n"
     ]
    },
    {
     "name": "stderr",
     "output_type": "stream",
     "text": [
      "                                                                    \r"
     ]
    },
    {
     "name": "stdout",
     "output_type": "stream",
     "text": [
      "MoviePy - Done.\n",
      "Moviepy - Writing video /home/kurubal/Documents/Modern Ways/Project/Turkish/Image Audio Video/Result/200 Words/Twogram_Threegram/Threegram_Twogram_Selected/Result/Concat_Video/hiç gerek yok.mp4\n",
      "\n"
     ]
    },
    {
     "name": "stderr",
     "output_type": "stream",
     "text": [
      "                                                          \r"
     ]
    },
    {
     "name": "stdout",
     "output_type": "stream",
     "text": [
      "Moviepy - Done !\n",
      "Moviepy - video ready /home/kurubal/Documents/Modern Ways/Project/Turkish/Image Audio Video/Result/200 Words/Twogram_Threegram/Threegram_Twogram_Selected/Result/Concat_Video/hiç gerek yok.mp4\n"
     ]
    },
    {
     "data": {
      "application/javascript": "\n        if (window._pyforest_update_imports_cell) { window._pyforest_update_imports_cell('from PIL import Image'); }\n    ",
      "text/plain": [
       "<IPython.core.display.Javascript object>"
      ]
     },
     "metadata": {},
     "output_type": "display_data"
    },
    {
     "data": {
      "application/javascript": "\n        if (window._pyforest_update_imports_cell) { window._pyforest_update_imports_cell('from PIL import Image'); }\n    ",
      "text/plain": [
       "<IPython.core.display.Javascript object>"
      ]
     },
     "metadata": {},
     "output_type": "display_data"
    },
    {
     "data": {
      "application/javascript": "\n        if (window._pyforest_update_imports_cell) { window._pyforest_update_imports_cell('from PIL import Image'); }\n    ",
      "text/plain": [
       "<IPython.core.display.Javascript object>"
      ]
     },
     "metadata": {},
     "output_type": "display_data"
    },
    {
     "data": {
      "application/javascript": "\n        if (window._pyforest_update_imports_cell) { window._pyforest_update_imports_cell('from PIL import Image'); }\n    ",
      "text/plain": [
       "<IPython.core.display.Javascript object>"
      ]
     },
     "metadata": {},
     "output_type": "display_data"
    },
    {
     "name": "stdout",
     "output_type": "stream",
     "text": [
      "MoviePy - Writing audio in /home/kurubal/Documents/Modern Ways/Project/Turkish/Image Audio Video/Result/200 Words/Twogram_Threegram/Threegram_Twogram_Selected/Data/Text_MP3/şimdi.mp3\n"
     ]
    },
    {
     "name": "stderr",
     "output_type": "stream",
     "text": [
      "                                                       "
     ]
    },
    {
     "name": "stdout",
     "output_type": "stream",
     "text": [
      "MoviePy - Done.\n"
     ]
    },
    {
     "name": "stderr",
     "output_type": "stream",
     "text": [
      "\r"
     ]
    },
    {
     "name": "stdout",
     "output_type": "stream",
     "text": [
      "MoviePy - Writing audio in /home/kurubal/Documents/Modern Ways/Project/Turkish/Image Audio Video/Result/200 Words/Twogram_Threegram/Threegram_Twogram_Selected/Data/Text_MP3/bak.mp3\n"
     ]
    },
    {
     "name": "stderr",
     "output_type": "stream",
     "text": [
      "                                                       "
     ]
    },
    {
     "name": "stdout",
     "output_type": "stream",
     "text": [
      "MoviePy - Done.\n"
     ]
    },
    {
     "name": "stderr",
     "output_type": "stream",
     "text": [
      "\r"
     ]
    },
    {
     "name": "stdout",
     "output_type": "stream",
     "text": [
      "Moviepy - Building video /home/kurubal/Documents/Modern Ways/Project/Turkish/Image Audio Video/Result/200 Words/Twogram_Threegram/Threegram_Twogram_Selected/Result/Image_Video_Audio/şimdi.mp4.\n",
      "MoviePy - Writing audio in şimdiTEMP_MPY_wvf_snd.mp4\n"
     ]
    },
    {
     "name": "stderr",
     "output_type": "stream",
     "text": [
      "                                                       \r"
     ]
    },
    {
     "name": "stdout",
     "output_type": "stream",
     "text": [
      "MoviePy - Done.\n",
      "Moviepy - Writing video /home/kurubal/Documents/Modern Ways/Project/Turkish/Image Audio Video/Result/200 Words/Twogram_Threegram/Threegram_Twogram_Selected/Result/Image_Video_Audio/şimdi.mp4\n",
      "\n"
     ]
    },
    {
     "name": "stderr",
     "output_type": "stream",
     "text": [
      "                                                  \r"
     ]
    },
    {
     "name": "stdout",
     "output_type": "stream",
     "text": [
      "Moviepy - Done !\n",
      "Moviepy - video ready /home/kurubal/Documents/Modern Ways/Project/Turkish/Image Audio Video/Result/200 Words/Twogram_Threegram/Threegram_Twogram_Selected/Result/Image_Video_Audio/şimdi.mp4\n",
      "Moviepy - Building video /home/kurubal/Documents/Modern Ways/Project/Turkish/Image Audio Video/Result/200 Words/Twogram_Threegram/Threegram_Twogram_Selected/Result/Image_Video_Audio/bak.mp4.\n",
      "MoviePy - Writing audio in bakTEMP_MPY_wvf_snd.mp4\n"
     ]
    },
    {
     "name": "stderr",
     "output_type": "stream",
     "text": [
      "                                                       \r"
     ]
    },
    {
     "name": "stdout",
     "output_type": "stream",
     "text": [
      "MoviePy - Done.\n",
      "Moviepy - Writing video /home/kurubal/Documents/Modern Ways/Project/Turkish/Image Audio Video/Result/200 Words/Twogram_Threegram/Threegram_Twogram_Selected/Result/Image_Video_Audio/bak.mp4\n",
      "\n"
     ]
    },
    {
     "name": "stderr",
     "output_type": "stream",
     "text": [
      "                                                  \r"
     ]
    },
    {
     "name": "stdout",
     "output_type": "stream",
     "text": [
      "Moviepy - Done !\n",
      "Moviepy - video ready /home/kurubal/Documents/Modern Ways/Project/Turkish/Image Audio Video/Result/200 Words/Twogram_Threegram/Threegram_Twogram_Selected/Result/Image_Video_Audio/bak.mp4\n",
      "MoviePy - Writing audio in /home/kurubal/Documents/Modern Ways/Project/Turkish/Image Audio Video/Result/200 Words/Twogram_Threegram/Threegram_Twogram_Selected/Data/Text_MP3/şimdi bana bak.mp3\n"
     ]
    },
    {
     "name": "stderr",
     "output_type": "stream",
     "text": [
      "                                                       "
     ]
    },
    {
     "name": "stdout",
     "output_type": "stream",
     "text": [
      "MoviePy - Done.\n"
     ]
    },
    {
     "name": "stderr",
     "output_type": "stream",
     "text": [
      "\r"
     ]
    },
    {
     "name": "stdout",
     "output_type": "stream",
     "text": [
      "Moviepy - Building video /home/kurubal/Documents/Modern Ways/Project/Turkish/Image Audio Video/Result/200 Words/Twogram_Threegram/Threegram_Twogram_Selected/Result/Image_Video_Audio/şimdi bana bak.mp4.\n",
      "MoviePy - Writing audio in şimdi bana bakTEMP_MPY_wvf_snd.mp4\n"
     ]
    },
    {
     "name": "stderr",
     "output_type": "stream",
     "text": [
      "                                                       \r"
     ]
    },
    {
     "name": "stdout",
     "output_type": "stream",
     "text": [
      "MoviePy - Done.\n",
      "Moviepy - Writing video /home/kurubal/Documents/Modern Ways/Project/Turkish/Image Audio Video/Result/200 Words/Twogram_Threegram/Threegram_Twogram_Selected/Result/Image_Video_Audio/şimdi bana bak.mp4\n",
      "\n"
     ]
    },
    {
     "name": "stderr",
     "output_type": "stream",
     "text": [
      "                                                  \r"
     ]
    },
    {
     "name": "stdout",
     "output_type": "stream",
     "text": [
      "Moviepy - Done !\n",
      "Moviepy - video ready /home/kurubal/Documents/Modern Ways/Project/Turkish/Image Audio Video/Result/200 Words/Twogram_Threegram/Threegram_Twogram_Selected/Result/Image_Video_Audio/şimdi bana bak.mp4\n",
      "Moviepy - Building video /home/kurubal/Documents/Modern Ways/Project/Turkish/Image Audio Video/Result/200 Words/Twogram_Threegram/Threegram_Twogram_Selected/Result/Concat_Video/şimdi bana bak.mp4.\n",
      "MoviePy - Writing audio in şimdi bana bakTEMP_MPY_wvf_snd.mp4\n"
     ]
    },
    {
     "name": "stderr",
     "output_type": "stream",
     "text": [
      "                                                        \r"
     ]
    },
    {
     "name": "stdout",
     "output_type": "stream",
     "text": [
      "MoviePy - Done.\n",
      "Moviepy - Writing video /home/kurubal/Documents/Modern Ways/Project/Turkish/Image Audio Video/Result/200 Words/Twogram_Threegram/Threegram_Twogram_Selected/Result/Concat_Video/şimdi bana bak.mp4\n",
      "\n"
     ]
    },
    {
     "name": "stderr",
     "output_type": "stream",
     "text": [
      "                                                           \r"
     ]
    },
    {
     "name": "stdout",
     "output_type": "stream",
     "text": [
      "Moviepy - Done !\n",
      "Moviepy - video ready /home/kurubal/Documents/Modern Ways/Project/Turkish/Image Audio Video/Result/200 Words/Twogram_Threegram/Threegram_Twogram_Selected/Result/Concat_Video/şimdi bana bak.mp4\n"
     ]
    },
    {
     "data": {
      "application/javascript": "\n        if (window._pyforest_update_imports_cell) { window._pyforest_update_imports_cell('from PIL import Image'); }\n    ",
      "text/plain": [
       "<IPython.core.display.Javascript object>"
      ]
     },
     "metadata": {},
     "output_type": "display_data"
    },
    {
     "data": {
      "application/javascript": "\n        if (window._pyforest_update_imports_cell) { window._pyforest_update_imports_cell('from PIL import Image'); }\n    ",
      "text/plain": [
       "<IPython.core.display.Javascript object>"
      ]
     },
     "metadata": {},
     "output_type": "display_data"
    },
    {
     "data": {
      "application/javascript": "\n        if (window._pyforest_update_imports_cell) { window._pyforest_update_imports_cell('from PIL import Image'); }\n    ",
      "text/plain": [
       "<IPython.core.display.Javascript object>"
      ]
     },
     "metadata": {},
     "output_type": "display_data"
    },
    {
     "data": {
      "application/javascript": "\n        if (window._pyforest_update_imports_cell) { window._pyforest_update_imports_cell('from PIL import Image'); }\n    ",
      "text/plain": [
       "<IPython.core.display.Javascript object>"
      ]
     },
     "metadata": {},
     "output_type": "display_data"
    },
    {
     "data": {
      "application/javascript": "\n        if (window._pyforest_update_imports_cell) { window._pyforest_update_imports_cell('from PIL import Image'); }\n    ",
      "text/plain": [
       "<IPython.core.display.Javascript object>"
      ]
     },
     "metadata": {},
     "output_type": "display_data"
    },
    {
     "data": {
      "application/javascript": "\n        if (window._pyforest_update_imports_cell) { window._pyforest_update_imports_cell('from PIL import Image'); }\n    ",
      "text/plain": [
       "<IPython.core.display.Javascript object>"
      ]
     },
     "metadata": {},
     "output_type": "display_data"
    },
    {
     "name": "stdout",
     "output_type": "stream",
     "text": [
      "MoviePy - Writing audio in /home/kurubal/Documents/Modern Ways/Project/Turkish/Image Audio Video/Result/200 Words/Twogram_Threegram/Threegram_Twogram_Selected/Data/Text_MP3/tabii.mp3\n"
     ]
    },
    {
     "name": "stderr",
     "output_type": "stream",
     "text": [
      "                                                       "
     ]
    },
    {
     "name": "stdout",
     "output_type": "stream",
     "text": [
      "MoviePy - Done.\n"
     ]
    },
    {
     "name": "stderr",
     "output_type": "stream",
     "text": [
      "\r"
     ]
    },
    {
     "name": "stdout",
     "output_type": "stream",
     "text": [
      "MoviePy - Writing audio in /home/kurubal/Documents/Modern Ways/Project/Turkish/Image Audio Video/Result/200 Words/Twogram_Threegram/Threegram_Twogram_Selected/Data/Text_MP3/ki.mp3\n"
     ]
    },
    {
     "name": "stderr",
     "output_type": "stream",
     "text": [
      "                                                       "
     ]
    },
    {
     "name": "stdout",
     "output_type": "stream",
     "text": [
      "MoviePy - Done.\n"
     ]
    },
    {
     "name": "stderr",
     "output_type": "stream",
     "text": [
      "\r"
     ]
    },
    {
     "name": "stdout",
     "output_type": "stream",
     "text": [
      "MoviePy - Writing audio in /home/kurubal/Documents/Modern Ways/Project/Turkish/Image Audio Video/Result/200 Words/Twogram_Threegram/Threegram_Twogram_Selected/Data/Text_MP3/öyle.mp3\n"
     ]
    },
    {
     "name": "stderr",
     "output_type": "stream",
     "text": [
      "                                                       "
     ]
    },
    {
     "name": "stdout",
     "output_type": "stream",
     "text": [
      "MoviePy - Done.\n"
     ]
    },
    {
     "name": "stderr",
     "output_type": "stream",
     "text": [
      "\r"
     ]
    },
    {
     "name": "stdout",
     "output_type": "stream",
     "text": [
      "Moviepy - Building video /home/kurubal/Documents/Modern Ways/Project/Turkish/Image Audio Video/Result/200 Words/Twogram_Threegram/Threegram_Twogram_Selected/Result/Image_Video_Audio/tabii.mp4.\n",
      "MoviePy - Writing audio in tabiiTEMP_MPY_wvf_snd.mp4\n"
     ]
    },
    {
     "name": "stderr",
     "output_type": "stream",
     "text": [
      "                                                       \r"
     ]
    },
    {
     "name": "stdout",
     "output_type": "stream",
     "text": [
      "MoviePy - Done.\n",
      "Moviepy - Writing video /home/kurubal/Documents/Modern Ways/Project/Turkish/Image Audio Video/Result/200 Words/Twogram_Threegram/Threegram_Twogram_Selected/Result/Image_Video_Audio/tabii.mp4\n",
      "\n"
     ]
    },
    {
     "name": "stderr",
     "output_type": "stream",
     "text": [
      "                                                  \r"
     ]
    },
    {
     "name": "stdout",
     "output_type": "stream",
     "text": [
      "Moviepy - Done !\n",
      "Moviepy - video ready /home/kurubal/Documents/Modern Ways/Project/Turkish/Image Audio Video/Result/200 Words/Twogram_Threegram/Threegram_Twogram_Selected/Result/Image_Video_Audio/tabii.mp4\n",
      "Moviepy - Building video /home/kurubal/Documents/Modern Ways/Project/Turkish/Image Audio Video/Result/200 Words/Twogram_Threegram/Threegram_Twogram_Selected/Result/Image_Video_Audio/ki.mp4.\n",
      "MoviePy - Writing audio in kiTEMP_MPY_wvf_snd.mp4\n"
     ]
    },
    {
     "name": "stderr",
     "output_type": "stream",
     "text": [
      "                                                       \r"
     ]
    },
    {
     "name": "stdout",
     "output_type": "stream",
     "text": [
      "MoviePy - Done.\n",
      "Moviepy - Writing video /home/kurubal/Documents/Modern Ways/Project/Turkish/Image Audio Video/Result/200 Words/Twogram_Threegram/Threegram_Twogram_Selected/Result/Image_Video_Audio/ki.mp4\n",
      "\n"
     ]
    },
    {
     "name": "stderr",
     "output_type": "stream",
     "text": [
      "                                                  \r"
     ]
    },
    {
     "name": "stdout",
     "output_type": "stream",
     "text": [
      "Moviepy - Done !\n",
      "Moviepy - video ready /home/kurubal/Documents/Modern Ways/Project/Turkish/Image Audio Video/Result/200 Words/Twogram_Threegram/Threegram_Twogram_Selected/Result/Image_Video_Audio/ki.mp4\n",
      "Moviepy - Building video /home/kurubal/Documents/Modern Ways/Project/Turkish/Image Audio Video/Result/200 Words/Twogram_Threegram/Threegram_Twogram_Selected/Result/Image_Video_Audio/öyle.mp4.\n",
      "MoviePy - Writing audio in öyleTEMP_MPY_wvf_snd.mp4\n"
     ]
    },
    {
     "name": "stderr",
     "output_type": "stream",
     "text": [
      "                                                       \r"
     ]
    },
    {
     "name": "stdout",
     "output_type": "stream",
     "text": [
      "MoviePy - Done.\n",
      "Moviepy - Writing video /home/kurubal/Documents/Modern Ways/Project/Turkish/Image Audio Video/Result/200 Words/Twogram_Threegram/Threegram_Twogram_Selected/Result/Image_Video_Audio/öyle.mp4\n",
      "\n"
     ]
    },
    {
     "name": "stderr",
     "output_type": "stream",
     "text": [
      "                                                  \r"
     ]
    },
    {
     "name": "stdout",
     "output_type": "stream",
     "text": [
      "Moviepy - Done !\n",
      "Moviepy - video ready /home/kurubal/Documents/Modern Ways/Project/Turkish/Image Audio Video/Result/200 Words/Twogram_Threegram/Threegram_Twogram_Selected/Result/Image_Video_Audio/öyle.mp4\n",
      "MoviePy - Writing audio in /home/kurubal/Documents/Modern Ways/Project/Turkish/Image Audio Video/Result/200 Words/Twogram_Threegram/Threegram_Twogram_Selected/Data/Text_MP3/tabii ki öyle.mp3\n"
     ]
    },
    {
     "name": "stderr",
     "output_type": "stream",
     "text": [
      "                                                       "
     ]
    },
    {
     "name": "stdout",
     "output_type": "stream",
     "text": [
      "MoviePy - Done.\n"
     ]
    },
    {
     "name": "stderr",
     "output_type": "stream",
     "text": [
      "\r"
     ]
    },
    {
     "name": "stdout",
     "output_type": "stream",
     "text": [
      "Moviepy - Building video /home/kurubal/Documents/Modern Ways/Project/Turkish/Image Audio Video/Result/200 Words/Twogram_Threegram/Threegram_Twogram_Selected/Result/Image_Video_Audio/tabii ki öyle.mp4.\n",
      "MoviePy - Writing audio in tabii ki öyleTEMP_MPY_wvf_snd.mp4\n"
     ]
    },
    {
     "name": "stderr",
     "output_type": "stream",
     "text": [
      "                                                       \r"
     ]
    },
    {
     "name": "stdout",
     "output_type": "stream",
     "text": [
      "MoviePy - Done.\n",
      "Moviepy - Writing video /home/kurubal/Documents/Modern Ways/Project/Turkish/Image Audio Video/Result/200 Words/Twogram_Threegram/Threegram_Twogram_Selected/Result/Image_Video_Audio/tabii ki öyle.mp4\n",
      "\n"
     ]
    },
    {
     "name": "stderr",
     "output_type": "stream",
     "text": [
      "                                                  \r"
     ]
    },
    {
     "name": "stdout",
     "output_type": "stream",
     "text": [
      "Moviepy - Done !\n",
      "Moviepy - video ready /home/kurubal/Documents/Modern Ways/Project/Turkish/Image Audio Video/Result/200 Words/Twogram_Threegram/Threegram_Twogram_Selected/Result/Image_Video_Audio/tabii ki öyle.mp4\n",
      "Moviepy - Building video /home/kurubal/Documents/Modern Ways/Project/Turkish/Image Audio Video/Result/200 Words/Twogram_Threegram/Threegram_Twogram_Selected/Result/Concat_Video/tabii ki öyle.mp4.\n",
      "MoviePy - Writing audio in tabii ki öyleTEMP_MPY_wvf_snd.mp4\n"
     ]
    },
    {
     "name": "stderr",
     "output_type": "stream",
     "text": [
      "                                                                    \r"
     ]
    },
    {
     "name": "stdout",
     "output_type": "stream",
     "text": [
      "MoviePy - Done.\n",
      "Moviepy - Writing video /home/kurubal/Documents/Modern Ways/Project/Turkish/Image Audio Video/Result/200 Words/Twogram_Threegram/Threegram_Twogram_Selected/Result/Concat_Video/tabii ki öyle.mp4\n",
      "\n"
     ]
    },
    {
     "name": "stderr",
     "output_type": "stream",
     "text": [
      "                                                          \r"
     ]
    },
    {
     "name": "stdout",
     "output_type": "stream",
     "text": [
      "Moviepy - Done !\n",
      "Moviepy - video ready /home/kurubal/Documents/Modern Ways/Project/Turkish/Image Audio Video/Result/200 Words/Twogram_Threegram/Threegram_Twogram_Selected/Result/Concat_Video/tabii ki öyle.mp4\n",
      "MoviePy - Writing audio in /home/kurubal/Documents/Modern Ways/Project/Turkish/Image Audio Video/Result/200 Words/Twogram_Threegram/Threegram_Twogram_Selected/Data/Text_MP3/biraz izin ver.mp3\n"
     ]
    },
    {
     "name": "stderr",
     "output_type": "stream",
     "text": [
      "                                                       "
     ]
    },
    {
     "name": "stdout",
     "output_type": "stream",
     "text": [
      "MoviePy - Done.\n"
     ]
    },
    {
     "name": "stderr",
     "output_type": "stream",
     "text": [
      "\r"
     ]
    },
    {
     "name": "stdout",
     "output_type": "stream",
     "text": [
      "Moviepy - Building video /home/kurubal/Documents/Modern Ways/Project/Turkish/Image Audio Video/Result/200 Words/Twogram_Threegram/Threegram_Twogram_Selected/Result/Image_Video_Audio/biraz izin ver.mp4.\n",
      "MoviePy - Writing audio in biraz izin verTEMP_MPY_wvf_snd.mp4\n"
     ]
    },
    {
     "name": "stderr",
     "output_type": "stream",
     "text": [
      "                                                       \r"
     ]
    },
    {
     "name": "stdout",
     "output_type": "stream",
     "text": [
      "MoviePy - Done.\n",
      "Moviepy - Writing video /home/kurubal/Documents/Modern Ways/Project/Turkish/Image Audio Video/Result/200 Words/Twogram_Threegram/Threegram_Twogram_Selected/Result/Image_Video_Audio/biraz izin ver.mp4\n",
      "\n"
     ]
    },
    {
     "name": "stderr",
     "output_type": "stream",
     "text": [
      "                                                  \r"
     ]
    },
    {
     "name": "stdout",
     "output_type": "stream",
     "text": [
      "Moviepy - Done !\n",
      "Moviepy - video ready /home/kurubal/Documents/Modern Ways/Project/Turkish/Image Audio Video/Result/200 Words/Twogram_Threegram/Threegram_Twogram_Selected/Result/Image_Video_Audio/biraz izin ver.mp4\n",
      "Moviepy - Building video /home/kurubal/Documents/Modern Ways/Project/Turkish/Image Audio Video/Result/200 Words/Twogram_Threegram/Threegram_Twogram_Selected/Result/Concat_Video/biraz izin ver.mp4.\n",
      "MoviePy - Writing audio in biraz izin verTEMP_MPY_wvf_snd.mp4\n"
     ]
    },
    {
     "name": "stderr",
     "output_type": "stream",
     "text": [
      "                                                                    \r"
     ]
    },
    {
     "name": "stdout",
     "output_type": "stream",
     "text": [
      "MoviePy - Done.\n",
      "Moviepy - Writing video /home/kurubal/Documents/Modern Ways/Project/Turkish/Image Audio Video/Result/200 Words/Twogram_Threegram/Threegram_Twogram_Selected/Result/Concat_Video/biraz izin ver.mp4\n",
      "\n"
     ]
    },
    {
     "name": "stderr",
     "output_type": "stream",
     "text": [
      "                                                           \r"
     ]
    },
    {
     "name": "stdout",
     "output_type": "stream",
     "text": [
      "Moviepy - Done !\n",
      "Moviepy - video ready /home/kurubal/Documents/Modern Ways/Project/Turkish/Image Audio Video/Result/200 Words/Twogram_Threegram/Threegram_Twogram_Selected/Result/Concat_Video/biraz izin ver.mp4\n",
      "MoviePy - Writing audio in /home/kurubal/Documents/Modern Ways/Project/Turkish/Image Audio Video/Result/200 Words/Twogram_Threegram/Threegram_Twogram_Selected/Data/Text_MP3/yardım et bana.mp3\n"
     ]
    },
    {
     "name": "stderr",
     "output_type": "stream",
     "text": [
      "                                                       "
     ]
    },
    {
     "name": "stdout",
     "output_type": "stream",
     "text": [
      "MoviePy - Done.\n"
     ]
    },
    {
     "name": "stderr",
     "output_type": "stream",
     "text": [
      "\r"
     ]
    },
    {
     "name": "stdout",
     "output_type": "stream",
     "text": [
      "Moviepy - Building video /home/kurubal/Documents/Modern Ways/Project/Turkish/Image Audio Video/Result/200 Words/Twogram_Threegram/Threegram_Twogram_Selected/Result/Image_Video_Audio/yardım et bana.mp4.\n",
      "MoviePy - Writing audio in yardım et banaTEMP_MPY_wvf_snd.mp4\n"
     ]
    },
    {
     "name": "stderr",
     "output_type": "stream",
     "text": [
      "                                                       \r"
     ]
    },
    {
     "name": "stdout",
     "output_type": "stream",
     "text": [
      "MoviePy - Done.\n",
      "Moviepy - Writing video /home/kurubal/Documents/Modern Ways/Project/Turkish/Image Audio Video/Result/200 Words/Twogram_Threegram/Threegram_Twogram_Selected/Result/Image_Video_Audio/yardım et bana.mp4\n",
      "\n"
     ]
    },
    {
     "name": "stderr",
     "output_type": "stream",
     "text": [
      "                                                  \r"
     ]
    },
    {
     "name": "stdout",
     "output_type": "stream",
     "text": [
      "Moviepy - Done !\n",
      "Moviepy - video ready /home/kurubal/Documents/Modern Ways/Project/Turkish/Image Audio Video/Result/200 Words/Twogram_Threegram/Threegram_Twogram_Selected/Result/Image_Video_Audio/yardım et bana.mp4\n",
      "Moviepy - Building video /home/kurubal/Documents/Modern Ways/Project/Turkish/Image Audio Video/Result/200 Words/Twogram_Threegram/Threegram_Twogram_Selected/Result/Concat_Video/yardım et bana.mp4.\n",
      "MoviePy - Writing audio in yardım et banaTEMP_MPY_wvf_snd.mp4\n"
     ]
    },
    {
     "name": "stderr",
     "output_type": "stream",
     "text": [
      "                                                                    \r"
     ]
    },
    {
     "name": "stdout",
     "output_type": "stream",
     "text": [
      "MoviePy - Done.\n",
      "Moviepy - Writing video /home/kurubal/Documents/Modern Ways/Project/Turkish/Image Audio Video/Result/200 Words/Twogram_Threegram/Threegram_Twogram_Selected/Result/Concat_Video/yardım et bana.mp4\n",
      "\n"
     ]
    },
    {
     "name": "stderr",
     "output_type": "stream",
     "text": [
      "                                                           \r"
     ]
    },
    {
     "name": "stdout",
     "output_type": "stream",
     "text": [
      "Moviepy - Done !\n",
      "Moviepy - video ready /home/kurubal/Documents/Modern Ways/Project/Turkish/Image Audio Video/Result/200 Words/Twogram_Threegram/Threegram_Twogram_Selected/Result/Concat_Video/yardım et bana.mp4\n",
      "MoviePy - Writing audio in /home/kurubal/Documents/Modern Ways/Project/Turkish/Image Audio Video/Result/200 Words/Twogram_Threegram/Threegram_Twogram_Selected/Data/Text_MP3/hiç sorun değil.mp3\n"
     ]
    },
    {
     "name": "stderr",
     "output_type": "stream",
     "text": [
      "                                                       "
     ]
    },
    {
     "name": "stdout",
     "output_type": "stream",
     "text": [
      "MoviePy - Done.\n"
     ]
    },
    {
     "name": "stderr",
     "output_type": "stream",
     "text": [
      "\r"
     ]
    },
    {
     "name": "stdout",
     "output_type": "stream",
     "text": [
      "Moviepy - Building video /home/kurubal/Documents/Modern Ways/Project/Turkish/Image Audio Video/Result/200 Words/Twogram_Threegram/Threegram_Twogram_Selected/Result/Image_Video_Audio/hiç sorun değil.mp4.\n",
      "MoviePy - Writing audio in hiç sorun değilTEMP_MPY_wvf_snd.mp4\n"
     ]
    },
    {
     "name": "stderr",
     "output_type": "stream",
     "text": [
      "                                                       \r"
     ]
    },
    {
     "name": "stdout",
     "output_type": "stream",
     "text": [
      "MoviePy - Done.\n",
      "Moviepy - Writing video /home/kurubal/Documents/Modern Ways/Project/Turkish/Image Audio Video/Result/200 Words/Twogram_Threegram/Threegram_Twogram_Selected/Result/Image_Video_Audio/hiç sorun değil.mp4\n",
      "\n"
     ]
    },
    {
     "name": "stderr",
     "output_type": "stream",
     "text": [
      "                                                  \r"
     ]
    },
    {
     "name": "stdout",
     "output_type": "stream",
     "text": [
      "Moviepy - Done !\n",
      "Moviepy - video ready /home/kurubal/Documents/Modern Ways/Project/Turkish/Image Audio Video/Result/200 Words/Twogram_Threegram/Threegram_Twogram_Selected/Result/Image_Video_Audio/hiç sorun değil.mp4\n",
      "Moviepy - Building video /home/kurubal/Documents/Modern Ways/Project/Turkish/Image Audio Video/Result/200 Words/Twogram_Threegram/Threegram_Twogram_Selected/Result/Concat_Video/hiç sorun değil.mp4.\n",
      "MoviePy - Writing audio in hiç sorun değilTEMP_MPY_wvf_snd.mp4\n"
     ]
    },
    {
     "name": "stderr",
     "output_type": "stream",
     "text": [
      "                                                                    \r"
     ]
    },
    {
     "name": "stdout",
     "output_type": "stream",
     "text": [
      "MoviePy - Done.\n",
      "Moviepy - Writing video /home/kurubal/Documents/Modern Ways/Project/Turkish/Image Audio Video/Result/200 Words/Twogram_Threegram/Threegram_Twogram_Selected/Result/Concat_Video/hiç sorun değil.mp4\n",
      "\n"
     ]
    },
    {
     "name": "stderr",
     "output_type": "stream",
     "text": [
      "                                                          \r"
     ]
    },
    {
     "name": "stdout",
     "output_type": "stream",
     "text": [
      "Moviepy - Done !\n",
      "Moviepy - video ready /home/kurubal/Documents/Modern Ways/Project/Turkish/Image Audio Video/Result/200 Words/Twogram_Threegram/Threegram_Twogram_Selected/Result/Concat_Video/hiç sorun değil.mp4\n"
     ]
    },
    {
     "data": {
      "application/javascript": "\n        if (window._pyforest_update_imports_cell) { window._pyforest_update_imports_cell('from PIL import Image'); }\n    ",
      "text/plain": [
       "<IPython.core.display.Javascript object>"
      ]
     },
     "metadata": {},
     "output_type": "display_data"
    },
    {
     "data": {
      "application/javascript": "\n        if (window._pyforest_update_imports_cell) { window._pyforest_update_imports_cell('from PIL import Image'); }\n    ",
      "text/plain": [
       "<IPython.core.display.Javascript object>"
      ]
     },
     "metadata": {},
     "output_type": "display_data"
    },
    {
     "name": "stdout",
     "output_type": "stream",
     "text": [
      "MoviePy - Writing audio in /home/kurubal/Documents/Modern Ways/Project/Turkish/Image Audio Video/Result/200 Words/Twogram_Threegram/Threegram_Twogram_Selected/Data/Text_MP3/hayır.mp3\n"
     ]
    },
    {
     "name": "stderr",
     "output_type": "stream",
     "text": [
      "                                                       "
     ]
    },
    {
     "name": "stdout",
     "output_type": "stream",
     "text": [
      "MoviePy - Done.\n"
     ]
    },
    {
     "name": "stderr",
     "output_type": "stream",
     "text": [
      "\r"
     ]
    },
    {
     "name": "stdout",
     "output_type": "stream",
     "text": [
      "Moviepy - Building video /home/kurubal/Documents/Modern Ways/Project/Turkish/Image Audio Video/Result/200 Words/Twogram_Threegram/Threegram_Twogram_Selected/Result/Image_Video_Audio/hayır.mp4.\n",
      "MoviePy - Writing audio in hayırTEMP_MPY_wvf_snd.mp4\n"
     ]
    },
    {
     "name": "stderr",
     "output_type": "stream",
     "text": [
      "                                                       \r"
     ]
    },
    {
     "name": "stdout",
     "output_type": "stream",
     "text": [
      "MoviePy - Done.\n",
      "Moviepy - Writing video /home/kurubal/Documents/Modern Ways/Project/Turkish/Image Audio Video/Result/200 Words/Twogram_Threegram/Threegram_Twogram_Selected/Result/Image_Video_Audio/hayır.mp4\n",
      "\n"
     ]
    },
    {
     "name": "stderr",
     "output_type": "stream",
     "text": [
      "                                                  \r"
     ]
    },
    {
     "name": "stdout",
     "output_type": "stream",
     "text": [
      "Moviepy - Done !\n",
      "Moviepy - video ready /home/kurubal/Documents/Modern Ways/Project/Turkish/Image Audio Video/Result/200 Words/Twogram_Threegram/Threegram_Twogram_Selected/Result/Image_Video_Audio/hayır.mp4\n",
      "MoviePy - Writing audio in /home/kurubal/Documents/Modern Ways/Project/Turkish/Image Audio Video/Result/200 Words/Twogram_Threegram/Threegram_Twogram_Selected/Data/Text_MP3/hayır sorun yok.mp3\n"
     ]
    },
    {
     "name": "stderr",
     "output_type": "stream",
     "text": [
      "                                                       "
     ]
    },
    {
     "name": "stdout",
     "output_type": "stream",
     "text": [
      "MoviePy - Done.\n"
     ]
    },
    {
     "name": "stderr",
     "output_type": "stream",
     "text": [
      "\r"
     ]
    },
    {
     "name": "stdout",
     "output_type": "stream",
     "text": [
      "Moviepy - Building video /home/kurubal/Documents/Modern Ways/Project/Turkish/Image Audio Video/Result/200 Words/Twogram_Threegram/Threegram_Twogram_Selected/Result/Image_Video_Audio/hayır sorun yok.mp4.\n",
      "MoviePy - Writing audio in hayır sorun yokTEMP_MPY_wvf_snd.mp4\n"
     ]
    },
    {
     "name": "stderr",
     "output_type": "stream",
     "text": [
      "                                                       \r"
     ]
    },
    {
     "name": "stdout",
     "output_type": "stream",
     "text": [
      "MoviePy - Done.\n",
      "Moviepy - Writing video /home/kurubal/Documents/Modern Ways/Project/Turkish/Image Audio Video/Result/200 Words/Twogram_Threegram/Threegram_Twogram_Selected/Result/Image_Video_Audio/hayır sorun yok.mp4\n",
      "\n"
     ]
    },
    {
     "name": "stderr",
     "output_type": "stream",
     "text": [
      "                                                  \r"
     ]
    },
    {
     "name": "stdout",
     "output_type": "stream",
     "text": [
      "Moviepy - Done !\n",
      "Moviepy - video ready /home/kurubal/Documents/Modern Ways/Project/Turkish/Image Audio Video/Result/200 Words/Twogram_Threegram/Threegram_Twogram_Selected/Result/Image_Video_Audio/hayır sorun yok.mp4\n",
      "Moviepy - Building video /home/kurubal/Documents/Modern Ways/Project/Turkish/Image Audio Video/Result/200 Words/Twogram_Threegram/Threegram_Twogram_Selected/Result/Concat_Video/hayır sorun yok.mp4.\n",
      "MoviePy - Writing audio in hayır sorun yokTEMP_MPY_wvf_snd.mp4\n"
     ]
    },
    {
     "name": "stderr",
     "output_type": "stream",
     "text": [
      "                                                                    \r"
     ]
    },
    {
     "name": "stdout",
     "output_type": "stream",
     "text": [
      "MoviePy - Done.\n",
      "Moviepy - Writing video /home/kurubal/Documents/Modern Ways/Project/Turkish/Image Audio Video/Result/200 Words/Twogram_Threegram/Threegram_Twogram_Selected/Result/Concat_Video/hayır sorun yok.mp4\n",
      "\n"
     ]
    },
    {
     "name": "stderr",
     "output_type": "stream",
     "text": [
      "                                                          \r"
     ]
    },
    {
     "name": "stdout",
     "output_type": "stream",
     "text": [
      "Moviepy - Done !\n",
      "Moviepy - video ready /home/kurubal/Documents/Modern Ways/Project/Turkish/Image Audio Video/Result/200 Words/Twogram_Threegram/Threegram_Twogram_Selected/Result/Concat_Video/hayır sorun yok.mp4\n"
     ]
    },
    {
     "data": {
      "application/javascript": "\n        if (window._pyforest_update_imports_cell) { window._pyforest_update_imports_cell('from PIL import Image'); }\n    ",
      "text/plain": [
       "<IPython.core.display.Javascript object>"
      ]
     },
     "metadata": {},
     "output_type": "display_data"
    },
    {
     "data": {
      "application/javascript": "\n        if (window._pyforest_update_imports_cell) { window._pyforest_update_imports_cell('from PIL import Image'); }\n    ",
      "text/plain": [
       "<IPython.core.display.Javascript object>"
      ]
     },
     "metadata": {},
     "output_type": "display_data"
    },
    {
     "data": {
      "application/javascript": "\n        if (window._pyforest_update_imports_cell) { window._pyforest_update_imports_cell('from PIL import Image'); }\n    ",
      "text/plain": [
       "<IPython.core.display.Javascript object>"
      ]
     },
     "metadata": {},
     "output_type": "display_data"
    },
    {
     "data": {
      "application/javascript": "\n        if (window._pyforest_update_imports_cell) { window._pyforest_update_imports_cell('from PIL import Image'); }\n    ",
      "text/plain": [
       "<IPython.core.display.Javascript object>"
      ]
     },
     "metadata": {},
     "output_type": "display_data"
    },
    {
     "name": "stdout",
     "output_type": "stream",
     "text": [
      "MoviePy - Writing audio in /home/kurubal/Documents/Modern Ways/Project/Turkish/Image Audio Video/Result/200 Words/Twogram_Threegram/Threegram_Twogram_Selected/Data/Text_MP3/biliyorsun.mp3\n"
     ]
    },
    {
     "name": "stderr",
     "output_type": "stream",
     "text": [
      "                                                       "
     ]
    },
    {
     "name": "stdout",
     "output_type": "stream",
     "text": [
      "MoviePy - Done.\n"
     ]
    },
    {
     "name": "stderr",
     "output_type": "stream",
     "text": [
      "\r"
     ]
    },
    {
     "name": "stdout",
     "output_type": "stream",
     "text": [
      "MoviePy - Writing audio in /home/kurubal/Documents/Modern Ways/Project/Turkish/Image Audio Video/Result/200 Words/Twogram_Threegram/Threegram_Twogram_Selected/Data/Text_MP3/mi.mp3\n"
     ]
    },
    {
     "name": "stderr",
     "output_type": "stream",
     "text": [
      "                                                       "
     ]
    },
    {
     "name": "stdout",
     "output_type": "stream",
     "text": [
      "MoviePy - Done.\n"
     ]
    },
    {
     "name": "stderr",
     "output_type": "stream",
     "text": [
      "\r"
     ]
    },
    {
     "name": "stdout",
     "output_type": "stream",
     "text": [
      "Moviepy - Building video /home/kurubal/Documents/Modern Ways/Project/Turkish/Image Audio Video/Result/200 Words/Twogram_Threegram/Threegram_Twogram_Selected/Result/Image_Video_Audio/biliyorsun.mp4.\n",
      "MoviePy - Writing audio in biliyorsunTEMP_MPY_wvf_snd.mp4\n"
     ]
    },
    {
     "name": "stderr",
     "output_type": "stream",
     "text": [
      "                                                       \r"
     ]
    },
    {
     "name": "stdout",
     "output_type": "stream",
     "text": [
      "MoviePy - Done.\n",
      "Moviepy - Writing video /home/kurubal/Documents/Modern Ways/Project/Turkish/Image Audio Video/Result/200 Words/Twogram_Threegram/Threegram_Twogram_Selected/Result/Image_Video_Audio/biliyorsun.mp4\n",
      "\n"
     ]
    },
    {
     "name": "stderr",
     "output_type": "stream",
     "text": [
      "                                                  \r"
     ]
    },
    {
     "name": "stdout",
     "output_type": "stream",
     "text": [
      "Moviepy - Done !\n",
      "Moviepy - video ready /home/kurubal/Documents/Modern Ways/Project/Turkish/Image Audio Video/Result/200 Words/Twogram_Threegram/Threegram_Twogram_Selected/Result/Image_Video_Audio/biliyorsun.mp4\n",
      "Moviepy - Building video /home/kurubal/Documents/Modern Ways/Project/Turkish/Image Audio Video/Result/200 Words/Twogram_Threegram/Threegram_Twogram_Selected/Result/Image_Video_Audio/mi.mp4.\n",
      "MoviePy - Writing audio in miTEMP_MPY_wvf_snd.mp4\n"
     ]
    },
    {
     "name": "stderr",
     "output_type": "stream",
     "text": [
      "                                                       \r"
     ]
    },
    {
     "name": "stdout",
     "output_type": "stream",
     "text": [
      "MoviePy - Done.\n",
      "Moviepy - Writing video /home/kurubal/Documents/Modern Ways/Project/Turkish/Image Audio Video/Result/200 Words/Twogram_Threegram/Threegram_Twogram_Selected/Result/Image_Video_Audio/mi.mp4\n",
      "\n"
     ]
    },
    {
     "name": "stderr",
     "output_type": "stream",
     "text": [
      "                                                  \r"
     ]
    },
    {
     "name": "stdout",
     "output_type": "stream",
     "text": [
      "Moviepy - Done !\n",
      "Moviepy - video ready /home/kurubal/Documents/Modern Ways/Project/Turkish/Image Audio Video/Result/200 Words/Twogram_Threegram/Threegram_Twogram_Selected/Result/Image_Video_Audio/mi.mp4\n",
      "MoviePy - Writing audio in /home/kurubal/Documents/Modern Ways/Project/Turkish/Image Audio Video/Result/200 Words/Twogram_Threegram/Threegram_Twogram_Selected/Data/Text_MP3/biliyorsun değil mi.mp3\n"
     ]
    },
    {
     "name": "stderr",
     "output_type": "stream",
     "text": [
      "                                                       "
     ]
    },
    {
     "name": "stdout",
     "output_type": "stream",
     "text": [
      "MoviePy - Done.\n"
     ]
    },
    {
     "name": "stderr",
     "output_type": "stream",
     "text": [
      "\r"
     ]
    },
    {
     "name": "stdout",
     "output_type": "stream",
     "text": [
      "Moviepy - Building video /home/kurubal/Documents/Modern Ways/Project/Turkish/Image Audio Video/Result/200 Words/Twogram_Threegram/Threegram_Twogram_Selected/Result/Image_Video_Audio/biliyorsun değil mi.mp4.\n",
      "MoviePy - Writing audio in biliyorsun değil miTEMP_MPY_wvf_snd.mp4\n"
     ]
    },
    {
     "name": "stderr",
     "output_type": "stream",
     "text": [
      "                                                       \r"
     ]
    },
    {
     "name": "stdout",
     "output_type": "stream",
     "text": [
      "MoviePy - Done.\n",
      "Moviepy - Writing video /home/kurubal/Documents/Modern Ways/Project/Turkish/Image Audio Video/Result/200 Words/Twogram_Threegram/Threegram_Twogram_Selected/Result/Image_Video_Audio/biliyorsun değil mi.mp4\n",
      "\n"
     ]
    },
    {
     "name": "stderr",
     "output_type": "stream",
     "text": [
      "                                                  \r"
     ]
    },
    {
     "name": "stdout",
     "output_type": "stream",
     "text": [
      "Moviepy - Done !\n",
      "Moviepy - video ready /home/kurubal/Documents/Modern Ways/Project/Turkish/Image Audio Video/Result/200 Words/Twogram_Threegram/Threegram_Twogram_Selected/Result/Image_Video_Audio/biliyorsun değil mi.mp4\n",
      "Moviepy - Building video /home/kurubal/Documents/Modern Ways/Project/Turkish/Image Audio Video/Result/200 Words/Twogram_Threegram/Threegram_Twogram_Selected/Result/Concat_Video/biliyorsun değil mi.mp4.\n",
      "MoviePy - Writing audio in biliyorsun değil miTEMP_MPY_wvf_snd.mp4\n"
     ]
    },
    {
     "name": "stderr",
     "output_type": "stream",
     "text": [
      "                                                                    "
     ]
    },
    {
     "name": "stdout",
     "output_type": "stream",
     "text": [
      "MoviePy - Done.\n",
      "Moviepy - Writing video /home/kurubal/Documents/Modern Ways/Project/Turkish/Image Audio Video/Result/200 Words/Twogram_Threegram/Threegram_Twogram_Selected/Result/Concat_Video/biliyorsun değil mi.mp4\n",
      "\n"
     ]
    },
    {
     "name": "stderr",
     "output_type": "stream",
     "text": [
      "                                                           \r"
     ]
    },
    {
     "name": "stdout",
     "output_type": "stream",
     "text": [
      "Moviepy - Done !\n",
      "Moviepy - video ready /home/kurubal/Documents/Modern Ways/Project/Turkish/Image Audio Video/Result/200 Words/Twogram_Threegram/Threegram_Twogram_Selected/Result/Concat_Video/biliyorsun değil mi.mp4\n"
     ]
    },
    {
     "data": {
      "application/javascript": "\n        if (window._pyforest_update_imports_cell) { window._pyforest_update_imports_cell('from PIL import Image'); }\n    ",
      "text/plain": [
       "<IPython.core.display.Javascript object>"
      ]
     },
     "metadata": {},
     "output_type": "display_data"
    },
    {
     "data": {
      "application/javascript": "\n        if (window._pyforest_update_imports_cell) { window._pyforest_update_imports_cell('from PIL import Image'); }\n    ",
      "text/plain": [
       "<IPython.core.display.Javascript object>"
      ]
     },
     "metadata": {},
     "output_type": "display_data"
    },
    {
     "name": "stdout",
     "output_type": "stream",
     "text": [
      "MoviePy - Writing audio in /home/kurubal/Documents/Modern Ways/Project/Turkish/Image Audio Video/Result/200 Words/Twogram_Threegram/Threegram_Twogram_Selected/Data/Text_MP3/bilmiyorum.mp3\n"
     ]
    },
    {
     "name": "stderr",
     "output_type": "stream",
     "text": [
      "                                                       "
     ]
    },
    {
     "name": "stdout",
     "output_type": "stream",
     "text": [
      "MoviePy - Done.\n"
     ]
    },
    {
     "name": "stderr",
     "output_type": "stream",
     "text": [
      "\r"
     ]
    },
    {
     "name": "stdout",
     "output_type": "stream",
     "text": [
      "Moviepy - Building video /home/kurubal/Documents/Modern Ways/Project/Turkish/Image Audio Video/Result/200 Words/Twogram_Threegram/Threegram_Twogram_Selected/Result/Image_Video_Audio/bilmiyorum.mp4.\n",
      "MoviePy - Writing audio in bilmiyorumTEMP_MPY_wvf_snd.mp4\n"
     ]
    },
    {
     "name": "stderr",
     "output_type": "stream",
     "text": [
      "                                                       \r"
     ]
    },
    {
     "name": "stdout",
     "output_type": "stream",
     "text": [
      "MoviePy - Done.\n",
      "Moviepy - Writing video /home/kurubal/Documents/Modern Ways/Project/Turkish/Image Audio Video/Result/200 Words/Twogram_Threegram/Threegram_Twogram_Selected/Result/Image_Video_Audio/bilmiyorum.mp4\n",
      "\n"
     ]
    },
    {
     "name": "stderr",
     "output_type": "stream",
     "text": [
      "                                                  \r"
     ]
    },
    {
     "name": "stdout",
     "output_type": "stream",
     "text": [
      "Moviepy - Done !\n",
      "Moviepy - video ready /home/kurubal/Documents/Modern Ways/Project/Turkish/Image Audio Video/Result/200 Words/Twogram_Threegram/Threegram_Twogram_Selected/Result/Image_Video_Audio/bilmiyorum.mp4\n",
      "MoviePy - Writing audio in /home/kurubal/Documents/Modern Ways/Project/Turkish/Image Audio Video/Result/200 Words/Twogram_Threegram/Threegram_Twogram_Selected/Data/Text_MP3/doğru mu bilmiyorum.mp3\n"
     ]
    },
    {
     "name": "stderr",
     "output_type": "stream",
     "text": [
      "                                                       "
     ]
    },
    {
     "name": "stdout",
     "output_type": "stream",
     "text": [
      "MoviePy - Done.\n"
     ]
    },
    {
     "name": "stderr",
     "output_type": "stream",
     "text": [
      "\r"
     ]
    },
    {
     "name": "stdout",
     "output_type": "stream",
     "text": [
      "Moviepy - Building video /home/kurubal/Documents/Modern Ways/Project/Turkish/Image Audio Video/Result/200 Words/Twogram_Threegram/Threegram_Twogram_Selected/Result/Image_Video_Audio/doğru mu bilmiyorum.mp4.\n",
      "MoviePy - Writing audio in doğru mu bilmiyorumTEMP_MPY_wvf_snd.mp4\n"
     ]
    },
    {
     "name": "stderr",
     "output_type": "stream",
     "text": [
      "                                                       \r"
     ]
    },
    {
     "name": "stdout",
     "output_type": "stream",
     "text": [
      "MoviePy - Done.\n",
      "Moviepy - Writing video /home/kurubal/Documents/Modern Ways/Project/Turkish/Image Audio Video/Result/200 Words/Twogram_Threegram/Threegram_Twogram_Selected/Result/Image_Video_Audio/doğru mu bilmiyorum.mp4\n",
      "\n"
     ]
    },
    {
     "name": "stderr",
     "output_type": "stream",
     "text": [
      "                                                  \r"
     ]
    },
    {
     "name": "stdout",
     "output_type": "stream",
     "text": [
      "Moviepy - Done !\n",
      "Moviepy - video ready /home/kurubal/Documents/Modern Ways/Project/Turkish/Image Audio Video/Result/200 Words/Twogram_Threegram/Threegram_Twogram_Selected/Result/Image_Video_Audio/doğru mu bilmiyorum.mp4\n",
      "Moviepy - Building video /home/kurubal/Documents/Modern Ways/Project/Turkish/Image Audio Video/Result/200 Words/Twogram_Threegram/Threegram_Twogram_Selected/Result/Concat_Video/doğru mu bilmiyorum.mp4.\n",
      "MoviePy - Writing audio in doğru mu bilmiyorumTEMP_MPY_wvf_snd.mp4\n"
     ]
    },
    {
     "name": "stderr",
     "output_type": "stream",
     "text": [
      "                                                                    \r"
     ]
    },
    {
     "name": "stdout",
     "output_type": "stream",
     "text": [
      "MoviePy - Done.\n",
      "Moviepy - Writing video /home/kurubal/Documents/Modern Ways/Project/Turkish/Image Audio Video/Result/200 Words/Twogram_Threegram/Threegram_Twogram_Selected/Result/Concat_Video/doğru mu bilmiyorum.mp4\n",
      "\n"
     ]
    },
    {
     "name": "stderr",
     "output_type": "stream",
     "text": [
      "                                                           \r"
     ]
    },
    {
     "name": "stdout",
     "output_type": "stream",
     "text": [
      "Moviepy - Done !\n",
      "Moviepy - video ready /home/kurubal/Documents/Modern Ways/Project/Turkish/Image Audio Video/Result/200 Words/Twogram_Threegram/Threegram_Twogram_Selected/Result/Concat_Video/doğru mu bilmiyorum.mp4\n"
     ]
    },
    {
     "data": {
      "application/javascript": "\n        if (window._pyforest_update_imports_cell) { window._pyforest_update_imports_cell('from PIL import Image'); }\n    ",
      "text/plain": [
       "<IPython.core.display.Javascript object>"
      ]
     },
     "metadata": {},
     "output_type": "display_data"
    },
    {
     "data": {
      "application/javascript": "\n        if (window._pyforest_update_imports_cell) { window._pyforest_update_imports_cell('from PIL import Image'); }\n    ",
      "text/plain": [
       "<IPython.core.display.Javascript object>"
      ]
     },
     "metadata": {},
     "output_type": "display_data"
    },
    {
     "data": {
      "application/javascript": "\n        if (window._pyforest_update_imports_cell) { window._pyforest_update_imports_cell('from PIL import Image'); }\n    ",
      "text/plain": [
       "<IPython.core.display.Javascript object>"
      ]
     },
     "metadata": {},
     "output_type": "display_data"
    },
    {
     "data": {
      "application/javascript": "\n        if (window._pyforest_update_imports_cell) { window._pyforest_update_imports_cell('from PIL import Image'); }\n    ",
      "text/plain": [
       "<IPython.core.display.Javascript object>"
      ]
     },
     "metadata": {},
     "output_type": "display_data"
    },
    {
     "name": "stdout",
     "output_type": "stream",
     "text": [
      "MoviePy - Writing audio in /home/kurubal/Documents/Modern Ways/Project/Turkish/Image Audio Video/Result/200 Words/Twogram_Threegram/Threegram_Twogram_Selected/Data/Text_MP3/asla.mp3\n"
     ]
    },
    {
     "name": "stderr",
     "output_type": "stream",
     "text": [
      "                                                       "
     ]
    },
    {
     "name": "stdout",
     "output_type": "stream",
     "text": [
      "MoviePy - Done.\n"
     ]
    },
    {
     "name": "stderr",
     "output_type": "stream",
     "text": [
      "\r"
     ]
    },
    {
     "name": "stdout",
     "output_type": "stream",
     "text": [
      "MoviePy - Writing audio in /home/kurubal/Documents/Modern Ways/Project/Turkish/Image Audio Video/Result/200 Words/Twogram_Threegram/Threegram_Twogram_Selected/Data/Text_MP3/olmaz.mp3\n"
     ]
    },
    {
     "name": "stderr",
     "output_type": "stream",
     "text": [
      "                                                       "
     ]
    },
    {
     "name": "stdout",
     "output_type": "stream",
     "text": [
      "MoviePy - Done.\n"
     ]
    },
    {
     "name": "stderr",
     "output_type": "stream",
     "text": [
      "\r"
     ]
    },
    {
     "name": "stdout",
     "output_type": "stream",
     "text": [
      "Moviepy - Building video /home/kurubal/Documents/Modern Ways/Project/Turkish/Image Audio Video/Result/200 Words/Twogram_Threegram/Threegram_Twogram_Selected/Result/Image_Video_Audio/asla.mp4.\n",
      "MoviePy - Writing audio in aslaTEMP_MPY_wvf_snd.mp4\n"
     ]
    },
    {
     "name": "stderr",
     "output_type": "stream",
     "text": [
      "                                                       \r"
     ]
    },
    {
     "name": "stdout",
     "output_type": "stream",
     "text": [
      "MoviePy - Done.\n",
      "Moviepy - Writing video /home/kurubal/Documents/Modern Ways/Project/Turkish/Image Audio Video/Result/200 Words/Twogram_Threegram/Threegram_Twogram_Selected/Result/Image_Video_Audio/asla.mp4\n",
      "\n"
     ]
    },
    {
     "name": "stderr",
     "output_type": "stream",
     "text": [
      "                                                  \r"
     ]
    },
    {
     "name": "stdout",
     "output_type": "stream",
     "text": [
      "Moviepy - Done !\n",
      "Moviepy - video ready /home/kurubal/Documents/Modern Ways/Project/Turkish/Image Audio Video/Result/200 Words/Twogram_Threegram/Threegram_Twogram_Selected/Result/Image_Video_Audio/asla.mp4\n",
      "Moviepy - Building video /home/kurubal/Documents/Modern Ways/Project/Turkish/Image Audio Video/Result/200 Words/Twogram_Threegram/Threegram_Twogram_Selected/Result/Image_Video_Audio/olmaz.mp4.\n",
      "MoviePy - Writing audio in olmazTEMP_MPY_wvf_snd.mp4\n"
     ]
    },
    {
     "name": "stderr",
     "output_type": "stream",
     "text": [
      "                                                       \r"
     ]
    },
    {
     "name": "stdout",
     "output_type": "stream",
     "text": [
      "MoviePy - Done.\n",
      "Moviepy - Writing video /home/kurubal/Documents/Modern Ways/Project/Turkish/Image Audio Video/Result/200 Words/Twogram_Threegram/Threegram_Twogram_Selected/Result/Image_Video_Audio/olmaz.mp4\n",
      "\n"
     ]
    },
    {
     "name": "stderr",
     "output_type": "stream",
     "text": [
      "                                                  \r"
     ]
    },
    {
     "name": "stdout",
     "output_type": "stream",
     "text": [
      "Moviepy - Done !\n",
      "Moviepy - video ready /home/kurubal/Documents/Modern Ways/Project/Turkish/Image Audio Video/Result/200 Words/Twogram_Threegram/Threegram_Twogram_Selected/Result/Image_Video_Audio/olmaz.mp4\n",
      "MoviePy - Writing audio in /home/kurubal/Documents/Modern Ways/Project/Turkish/Image Audio Video/Result/200 Words/Twogram_Threegram/Threegram_Twogram_Selected/Data/Text_MP3/asla olmaz.mp3\n"
     ]
    },
    {
     "name": "stderr",
     "output_type": "stream",
     "text": [
      "                                                       "
     ]
    },
    {
     "name": "stdout",
     "output_type": "stream",
     "text": [
      "MoviePy - Done.\n"
     ]
    },
    {
     "name": "stderr",
     "output_type": "stream",
     "text": [
      "\r"
     ]
    },
    {
     "name": "stdout",
     "output_type": "stream",
     "text": [
      "Moviepy - Building video /home/kurubal/Documents/Modern Ways/Project/Turkish/Image Audio Video/Result/200 Words/Twogram_Threegram/Threegram_Twogram_Selected/Result/Image_Video_Audio/asla olmaz.mp4.\n",
      "MoviePy - Writing audio in asla olmazTEMP_MPY_wvf_snd.mp4\n"
     ]
    },
    {
     "name": "stderr",
     "output_type": "stream",
     "text": [
      "                                                       \r"
     ]
    },
    {
     "name": "stdout",
     "output_type": "stream",
     "text": [
      "MoviePy - Done.\n",
      "Moviepy - Writing video /home/kurubal/Documents/Modern Ways/Project/Turkish/Image Audio Video/Result/200 Words/Twogram_Threegram/Threegram_Twogram_Selected/Result/Image_Video_Audio/asla olmaz.mp4\n",
      "\n"
     ]
    },
    {
     "name": "stderr",
     "output_type": "stream",
     "text": [
      "                                                  \r"
     ]
    },
    {
     "name": "stdout",
     "output_type": "stream",
     "text": [
      "Moviepy - Done !\n",
      "Moviepy - video ready /home/kurubal/Documents/Modern Ways/Project/Turkish/Image Audio Video/Result/200 Words/Twogram_Threegram/Threegram_Twogram_Selected/Result/Image_Video_Audio/asla olmaz.mp4\n",
      "Moviepy - Building video /home/kurubal/Documents/Modern Ways/Project/Turkish/Image Audio Video/Result/200 Words/Twogram_Threegram/Threegram_Twogram_Selected/Result/Concat_Video/asla olmaz.mp4.\n",
      "MoviePy - Writing audio in asla olmazTEMP_MPY_wvf_snd.mp4\n"
     ]
    },
    {
     "name": "stderr",
     "output_type": "stream",
     "text": [
      "                                                                    \r"
     ]
    },
    {
     "name": "stdout",
     "output_type": "stream",
     "text": [
      "MoviePy - Done.\n",
      "Moviepy - Writing video /home/kurubal/Documents/Modern Ways/Project/Turkish/Image Audio Video/Result/200 Words/Twogram_Threegram/Threegram_Twogram_Selected/Result/Concat_Video/asla olmaz.mp4\n",
      "\n"
     ]
    },
    {
     "name": "stderr",
     "output_type": "stream",
     "text": [
      "                                                          \r"
     ]
    },
    {
     "name": "stdout",
     "output_type": "stream",
     "text": [
      "Moviepy - Done !\n",
      "Moviepy - video ready /home/kurubal/Documents/Modern Ways/Project/Turkish/Image Audio Video/Result/200 Words/Twogram_Threegram/Threegram_Twogram_Selected/Result/Concat_Video/asla olmaz.mp4\n"
     ]
    },
    {
     "data": {
      "application/javascript": "\n        if (window._pyforest_update_imports_cell) { window._pyforest_update_imports_cell('from PIL import Image'); }\n    ",
      "text/plain": [
       "<IPython.core.display.Javascript object>"
      ]
     },
     "metadata": {},
     "output_type": "display_data"
    },
    {
     "data": {
      "application/javascript": "\n        if (window._pyforest_update_imports_cell) { window._pyforest_update_imports_cell('from PIL import Image'); }\n    ",
      "text/plain": [
       "<IPython.core.display.Javascript object>"
      ]
     },
     "metadata": {},
     "output_type": "display_data"
    },
    {
     "data": {
      "application/javascript": "\n        if (window._pyforest_update_imports_cell) { window._pyforest_update_imports_cell('from PIL import Image'); }\n    ",
      "text/plain": [
       "<IPython.core.display.Javascript object>"
      ]
     },
     "metadata": {},
     "output_type": "display_data"
    },
    {
     "data": {
      "application/javascript": "\n        if (window._pyforest_update_imports_cell) { window._pyforest_update_imports_cell('from PIL import Image'); }\n    ",
      "text/plain": [
       "<IPython.core.display.Javascript object>"
      ]
     },
     "metadata": {},
     "output_type": "display_data"
    },
    {
     "name": "stdout",
     "output_type": "stream",
     "text": [
      "MoviePy - Writing audio in /home/kurubal/Documents/Modern Ways/Project/Turkish/Image Audio Video/Result/200 Words/Twogram_Threegram/Threegram_Twogram_Selected/Data/Text_MP3/aynı.mp3\n"
     ]
    },
    {
     "name": "stderr",
     "output_type": "stream",
     "text": [
      "                                                       "
     ]
    },
    {
     "name": "stdout",
     "output_type": "stream",
     "text": [
      "MoviePy - Done.\n"
     ]
    },
    {
     "name": "stderr",
     "output_type": "stream",
     "text": [
      "\r"
     ]
    },
    {
     "name": "stdout",
     "output_type": "stream",
     "text": [
      "MoviePy - Writing audio in /home/kurubal/Documents/Modern Ways/Project/Turkish/Image Audio Video/Result/200 Words/Twogram_Threegram/Threegram_Twogram_Selected/Data/Text_MP3/şekilde.mp3\n"
     ]
    },
    {
     "name": "stderr",
     "output_type": "stream",
     "text": [
      "                                                       "
     ]
    },
    {
     "name": "stdout",
     "output_type": "stream",
     "text": [
      "MoviePy - Done.\n"
     ]
    },
    {
     "name": "stderr",
     "output_type": "stream",
     "text": [
      "\r"
     ]
    },
    {
     "name": "stdout",
     "output_type": "stream",
     "text": [
      "Moviepy - Building video /home/kurubal/Documents/Modern Ways/Project/Turkish/Image Audio Video/Result/200 Words/Twogram_Threegram/Threegram_Twogram_Selected/Result/Image_Video_Audio/aynı.mp4.\n",
      "MoviePy - Writing audio in aynıTEMP_MPY_wvf_snd.mp4\n"
     ]
    },
    {
     "name": "stderr",
     "output_type": "stream",
     "text": [
      "                                                       \r"
     ]
    },
    {
     "name": "stdout",
     "output_type": "stream",
     "text": [
      "MoviePy - Done.\n",
      "Moviepy - Writing video /home/kurubal/Documents/Modern Ways/Project/Turkish/Image Audio Video/Result/200 Words/Twogram_Threegram/Threegram_Twogram_Selected/Result/Image_Video_Audio/aynı.mp4\n",
      "\n"
     ]
    },
    {
     "name": "stderr",
     "output_type": "stream",
     "text": [
      "                                                  "
     ]
    },
    {
     "name": "stdout",
     "output_type": "stream",
     "text": [
      "Moviepy - Done !\n",
      "Moviepy - video ready /home/kurubal/Documents/Modern Ways/Project/Turkish/Image Audio Video/Result/200 Words/Twogram_Threegram/Threegram_Twogram_Selected/Result/Image_Video_Audio/aynı.mp4\n"
     ]
    },
    {
     "name": "stderr",
     "output_type": "stream",
     "text": [
      "\r"
     ]
    },
    {
     "name": "stdout",
     "output_type": "stream",
     "text": [
      "Moviepy - Building video /home/kurubal/Documents/Modern Ways/Project/Turkish/Image Audio Video/Result/200 Words/Twogram_Threegram/Threegram_Twogram_Selected/Result/Image_Video_Audio/şekilde.mp4.\n",
      "MoviePy - Writing audio in şekildeTEMP_MPY_wvf_snd.mp4\n"
     ]
    },
    {
     "name": "stderr",
     "output_type": "stream",
     "text": [
      "                                                       \r"
     ]
    },
    {
     "name": "stdout",
     "output_type": "stream",
     "text": [
      "MoviePy - Done.\n",
      "Moviepy - Writing video /home/kurubal/Documents/Modern Ways/Project/Turkish/Image Audio Video/Result/200 Words/Twogram_Threegram/Threegram_Twogram_Selected/Result/Image_Video_Audio/şekilde.mp4\n",
      "\n"
     ]
    },
    {
     "name": "stderr",
     "output_type": "stream",
     "text": [
      "                                                  \r"
     ]
    },
    {
     "name": "stdout",
     "output_type": "stream",
     "text": [
      "Moviepy - Done !\n",
      "Moviepy - video ready /home/kurubal/Documents/Modern Ways/Project/Turkish/Image Audio Video/Result/200 Words/Twogram_Threegram/Threegram_Twogram_Selected/Result/Image_Video_Audio/şekilde.mp4\n",
      "MoviePy - Writing audio in /home/kurubal/Documents/Modern Ways/Project/Turkish/Image Audio Video/Result/200 Words/Twogram_Threegram/Threegram_Twogram_Selected/Data/Text_MP3/aynı şekilde.mp3\n"
     ]
    },
    {
     "name": "stderr",
     "output_type": "stream",
     "text": [
      "                                                       "
     ]
    },
    {
     "name": "stdout",
     "output_type": "stream",
     "text": [
      "MoviePy - Done.\n"
     ]
    },
    {
     "name": "stderr",
     "output_type": "stream",
     "text": [
      "\r"
     ]
    },
    {
     "name": "stdout",
     "output_type": "stream",
     "text": [
      "Moviepy - Building video /home/kurubal/Documents/Modern Ways/Project/Turkish/Image Audio Video/Result/200 Words/Twogram_Threegram/Threegram_Twogram_Selected/Result/Image_Video_Audio/aynı şekilde.mp4.\n",
      "MoviePy - Writing audio in aynı şekildeTEMP_MPY_wvf_snd.mp4\n"
     ]
    },
    {
     "name": "stderr",
     "output_type": "stream",
     "text": [
      "                                                       \r"
     ]
    },
    {
     "name": "stdout",
     "output_type": "stream",
     "text": [
      "MoviePy - Done.\n",
      "Moviepy - Writing video /home/kurubal/Documents/Modern Ways/Project/Turkish/Image Audio Video/Result/200 Words/Twogram_Threegram/Threegram_Twogram_Selected/Result/Image_Video_Audio/aynı şekilde.mp4\n",
      "\n"
     ]
    },
    {
     "name": "stderr",
     "output_type": "stream",
     "text": [
      "                                                  \r"
     ]
    },
    {
     "name": "stdout",
     "output_type": "stream",
     "text": [
      "Moviepy - Done !\n",
      "Moviepy - video ready /home/kurubal/Documents/Modern Ways/Project/Turkish/Image Audio Video/Result/200 Words/Twogram_Threegram/Threegram_Twogram_Selected/Result/Image_Video_Audio/aynı şekilde.mp4\n",
      "Moviepy - Building video /home/kurubal/Documents/Modern Ways/Project/Turkish/Image Audio Video/Result/200 Words/Twogram_Threegram/Threegram_Twogram_Selected/Result/Concat_Video/aynı şekilde.mp4.\n",
      "MoviePy - Writing audio in aynı şekildeTEMP_MPY_wvf_snd.mp4\n"
     ]
    },
    {
     "name": "stderr",
     "output_type": "stream",
     "text": [
      "                                                        \r"
     ]
    },
    {
     "name": "stdout",
     "output_type": "stream",
     "text": [
      "MoviePy - Done.\n",
      "Moviepy - Writing video /home/kurubal/Documents/Modern Ways/Project/Turkish/Image Audio Video/Result/200 Words/Twogram_Threegram/Threegram_Twogram_Selected/Result/Concat_Video/aynı şekilde.mp4\n",
      "\n"
     ]
    },
    {
     "name": "stderr",
     "output_type": "stream",
     "text": [
      "                                                  \r"
     ]
    },
    {
     "name": "stdout",
     "output_type": "stream",
     "text": [
      "Moviepy - Done !\n",
      "Moviepy - video ready /home/kurubal/Documents/Modern Ways/Project/Turkish/Image Audio Video/Result/200 Words/Twogram_Threegram/Threegram_Twogram_Selected/Result/Concat_Video/aynı şekilde.mp4\n",
      "MoviePy - Writing audio in /home/kurubal/Documents/Modern Ways/Project/Turkish/Image Audio Video/Result/200 Words/Twogram_Threegram/Threegram_Twogram_Selected/Data/Text_MP3/biliyor musun.mp3\n"
     ]
    },
    {
     "name": "stderr",
     "output_type": "stream",
     "text": [
      "                                                       "
     ]
    },
    {
     "name": "stdout",
     "output_type": "stream",
     "text": [
      "MoviePy - Done.\n"
     ]
    },
    {
     "name": "stderr",
     "output_type": "stream",
     "text": [
      "\r"
     ]
    },
    {
     "name": "stdout",
     "output_type": "stream",
     "text": [
      "Moviepy - Building video /home/kurubal/Documents/Modern Ways/Project/Turkish/Image Audio Video/Result/200 Words/Twogram_Threegram/Threegram_Twogram_Selected/Result/Image_Video_Audio/biliyor musun.mp4.\n",
      "MoviePy - Writing audio in biliyor musunTEMP_MPY_wvf_snd.mp4\n"
     ]
    },
    {
     "name": "stderr",
     "output_type": "stream",
     "text": [
      "                                                       \r"
     ]
    },
    {
     "name": "stdout",
     "output_type": "stream",
     "text": [
      "MoviePy - Done.\n",
      "Moviepy - Writing video /home/kurubal/Documents/Modern Ways/Project/Turkish/Image Audio Video/Result/200 Words/Twogram_Threegram/Threegram_Twogram_Selected/Result/Image_Video_Audio/biliyor musun.mp4\n",
      "\n"
     ]
    },
    {
     "name": "stderr",
     "output_type": "stream",
     "text": [
      "                                                  \r"
     ]
    },
    {
     "name": "stdout",
     "output_type": "stream",
     "text": [
      "Moviepy - Done !\n",
      "Moviepy - video ready /home/kurubal/Documents/Modern Ways/Project/Turkish/Image Audio Video/Result/200 Words/Twogram_Threegram/Threegram_Twogram_Selected/Result/Image_Video_Audio/biliyor musun.mp4\n",
      "Moviepy - Building video /home/kurubal/Documents/Modern Ways/Project/Turkish/Image Audio Video/Result/200 Words/Twogram_Threegram/Threegram_Twogram_Selected/Result/Concat_Video/biliyor musun.mp4.\n",
      "MoviePy - Writing audio in biliyor musunTEMP_MPY_wvf_snd.mp4\n"
     ]
    },
    {
     "name": "stderr",
     "output_type": "stream",
     "text": [
      "                                                        \r"
     ]
    },
    {
     "name": "stdout",
     "output_type": "stream",
     "text": [
      "MoviePy - Done.\n",
      "Moviepy - Writing video /home/kurubal/Documents/Modern Ways/Project/Turkish/Image Audio Video/Result/200 Words/Twogram_Threegram/Threegram_Twogram_Selected/Result/Concat_Video/biliyor musun.mp4\n",
      "\n"
     ]
    },
    {
     "name": "stderr",
     "output_type": "stream",
     "text": [
      "                                                  \r"
     ]
    },
    {
     "name": "stdout",
     "output_type": "stream",
     "text": [
      "Moviepy - Done !\n",
      "Moviepy - video ready /home/kurubal/Documents/Modern Ways/Project/Turkish/Image Audio Video/Result/200 Words/Twogram_Threegram/Threegram_Twogram_Selected/Result/Concat_Video/biliyor musun.mp4\n",
      "MoviePy - Writing audio in /home/kurubal/Documents/Modern Ways/Project/Turkish/Image Audio Video/Result/200 Words/Twogram_Threegram/Threegram_Twogram_Selected/Data/Text_MP3/birkaç gün.mp3\n"
     ]
    },
    {
     "name": "stderr",
     "output_type": "stream",
     "text": [
      "                                                       "
     ]
    },
    {
     "name": "stdout",
     "output_type": "stream",
     "text": [
      "MoviePy - Done.\n"
     ]
    },
    {
     "name": "stderr",
     "output_type": "stream",
     "text": [
      "\r"
     ]
    },
    {
     "name": "stdout",
     "output_type": "stream",
     "text": [
      "Moviepy - Building video /home/kurubal/Documents/Modern Ways/Project/Turkish/Image Audio Video/Result/200 Words/Twogram_Threegram/Threegram_Twogram_Selected/Result/Image_Video_Audio/birkaç gün.mp4.\n",
      "MoviePy - Writing audio in birkaç günTEMP_MPY_wvf_snd.mp4\n"
     ]
    },
    {
     "name": "stderr",
     "output_type": "stream",
     "text": [
      "                                                       \r"
     ]
    },
    {
     "name": "stdout",
     "output_type": "stream",
     "text": [
      "MoviePy - Done.\n",
      "Moviepy - Writing video /home/kurubal/Documents/Modern Ways/Project/Turkish/Image Audio Video/Result/200 Words/Twogram_Threegram/Threegram_Twogram_Selected/Result/Image_Video_Audio/birkaç gün.mp4\n",
      "\n"
     ]
    },
    {
     "name": "stderr",
     "output_type": "stream",
     "text": [
      "                                                  \r"
     ]
    },
    {
     "name": "stdout",
     "output_type": "stream",
     "text": [
      "Moviepy - Done !\n",
      "Moviepy - video ready /home/kurubal/Documents/Modern Ways/Project/Turkish/Image Audio Video/Result/200 Words/Twogram_Threegram/Threegram_Twogram_Selected/Result/Image_Video_Audio/birkaç gün.mp4\n",
      "Moviepy - Building video /home/kurubal/Documents/Modern Ways/Project/Turkish/Image Audio Video/Result/200 Words/Twogram_Threegram/Threegram_Twogram_Selected/Result/Concat_Video/birkaç gün.mp4.\n",
      "MoviePy - Writing audio in birkaç günTEMP_MPY_wvf_snd.mp4\n"
     ]
    },
    {
     "name": "stderr",
     "output_type": "stream",
     "text": [
      "                                                        \r"
     ]
    },
    {
     "name": "stdout",
     "output_type": "stream",
     "text": [
      "MoviePy - Done.\n",
      "Moviepy - Writing video /home/kurubal/Documents/Modern Ways/Project/Turkish/Image Audio Video/Result/200 Words/Twogram_Threegram/Threegram_Twogram_Selected/Result/Concat_Video/birkaç gün.mp4\n",
      "\n"
     ]
    },
    {
     "name": "stderr",
     "output_type": "stream",
     "text": [
      "                                                  \r"
     ]
    },
    {
     "name": "stdout",
     "output_type": "stream",
     "text": [
      "Moviepy - Done !\n",
      "Moviepy - video ready /home/kurubal/Documents/Modern Ways/Project/Turkish/Image Audio Video/Result/200 Words/Twogram_Threegram/Threegram_Twogram_Selected/Result/Concat_Video/birkaç gün.mp4\n",
      "MoviePy - Writing audio in /home/kurubal/Documents/Modern Ways/Project/Turkish/Image Audio Video/Result/200 Words/Twogram_Threegram/Threegram_Twogram_Selected/Data/Text_MP3/bu kadar.mp3\n"
     ]
    },
    {
     "name": "stderr",
     "output_type": "stream",
     "text": [
      "                                                       "
     ]
    },
    {
     "name": "stdout",
     "output_type": "stream",
     "text": [
      "MoviePy - Done.\n"
     ]
    },
    {
     "name": "stderr",
     "output_type": "stream",
     "text": [
      "\r"
     ]
    },
    {
     "name": "stdout",
     "output_type": "stream",
     "text": [
      "Moviepy - Building video /home/kurubal/Documents/Modern Ways/Project/Turkish/Image Audio Video/Result/200 Words/Twogram_Threegram/Threegram_Twogram_Selected/Result/Image_Video_Audio/bu kadar.mp4.\n",
      "MoviePy - Writing audio in bu kadarTEMP_MPY_wvf_snd.mp4\n"
     ]
    },
    {
     "name": "stderr",
     "output_type": "stream",
     "text": [
      "                                                       \r"
     ]
    },
    {
     "name": "stdout",
     "output_type": "stream",
     "text": [
      "MoviePy - Done.\n",
      "Moviepy - Writing video /home/kurubal/Documents/Modern Ways/Project/Turkish/Image Audio Video/Result/200 Words/Twogram_Threegram/Threegram_Twogram_Selected/Result/Image_Video_Audio/bu kadar.mp4\n",
      "\n"
     ]
    },
    {
     "name": "stderr",
     "output_type": "stream",
     "text": [
      "                                                  "
     ]
    },
    {
     "name": "stdout",
     "output_type": "stream",
     "text": [
      "Moviepy - Done !"
     ]
    },
    {
     "name": "stderr",
     "output_type": "stream",
     "text": [
      "\r"
     ]
    },
    {
     "name": "stdout",
     "output_type": "stream",
     "text": [
      "\n",
      "Moviepy - video ready /home/kurubal/Documents/Modern Ways/Project/Turkish/Image Audio Video/Result/200 Words/Twogram_Threegram/Threegram_Twogram_Selected/Result/Image_Video_Audio/bu kadar.mp4\n",
      "Moviepy - Building video /home/kurubal/Documents/Modern Ways/Project/Turkish/Image Audio Video/Result/200 Words/Twogram_Threegram/Threegram_Twogram_Selected/Result/Concat_Video/bu kadar.mp4.\n",
      "MoviePy - Writing audio in bu kadarTEMP_MPY_wvf_snd.mp4\n"
     ]
    },
    {
     "name": "stderr",
     "output_type": "stream",
     "text": [
      "                                                        \r"
     ]
    },
    {
     "name": "stdout",
     "output_type": "stream",
     "text": [
      "MoviePy - Done.\n",
      "Moviepy - Writing video /home/kurubal/Documents/Modern Ways/Project/Turkish/Image Audio Video/Result/200 Words/Twogram_Threegram/Threegram_Twogram_Selected/Result/Concat_Video/bu kadar.mp4\n",
      "\n"
     ]
    },
    {
     "name": "stderr",
     "output_type": "stream",
     "text": [
      "                                                  \r"
     ]
    },
    {
     "name": "stdout",
     "output_type": "stream",
     "text": [
      "Moviepy - Done !\n",
      "Moviepy - video ready /home/kurubal/Documents/Modern Ways/Project/Turkish/Image Audio Video/Result/200 Words/Twogram_Threegram/Threegram_Twogram_Selected/Result/Concat_Video/bu kadar.mp4\n"
     ]
    },
    {
     "data": {
      "application/javascript": "\n        if (window._pyforest_update_imports_cell) { window._pyforest_update_imports_cell('from PIL import Image'); }\n    ",
      "text/plain": [
       "<IPython.core.display.Javascript object>"
      ]
     },
     "metadata": {},
     "output_type": "display_data"
    },
    {
     "data": {
      "application/javascript": "\n        if (window._pyforest_update_imports_cell) { window._pyforest_update_imports_cell('from PIL import Image'); }\n    ",
      "text/plain": [
       "<IPython.core.display.Javascript object>"
      ]
     },
     "metadata": {},
     "output_type": "display_data"
    },
    {
     "data": {
      "application/javascript": "\n        if (window._pyforest_update_imports_cell) { window._pyforest_update_imports_cell('from PIL import Image'); }\n    ",
      "text/plain": [
       "<IPython.core.display.Javascript object>"
      ]
     },
     "metadata": {},
     "output_type": "display_data"
    },
    {
     "data": {
      "application/javascript": "\n        if (window._pyforest_update_imports_cell) { window._pyforest_update_imports_cell('from PIL import Image'); }\n    ",
      "text/plain": [
       "<IPython.core.display.Javascript object>"
      ]
     },
     "metadata": {},
     "output_type": "display_data"
    },
    {
     "name": "stdout",
     "output_type": "stream",
     "text": [
      "MoviePy - Writing audio in /home/kurubal/Documents/Modern Ways/Project/Turkish/Image Audio Video/Result/200 Words/Twogram_Threegram/Threegram_Twogram_Selected/Data/Text_MP3/buraya.mp3\n"
     ]
    },
    {
     "name": "stderr",
     "output_type": "stream",
     "text": [
      "                                                       "
     ]
    },
    {
     "name": "stdout",
     "output_type": "stream",
     "text": [
      "MoviePy - Done.\n"
     ]
    },
    {
     "name": "stderr",
     "output_type": "stream",
     "text": [
      "\r"
     ]
    },
    {
     "name": "stdout",
     "output_type": "stream",
     "text": [
      "MoviePy - Writing audio in /home/kurubal/Documents/Modern Ways/Project/Turkish/Image Audio Video/Result/200 Words/Twogram_Threegram/Threegram_Twogram_Selected/Data/Text_MP3/gel.mp3\n"
     ]
    },
    {
     "name": "stderr",
     "output_type": "stream",
     "text": [
      "                                                       "
     ]
    },
    {
     "name": "stdout",
     "output_type": "stream",
     "text": [
      "MoviePy - Done.\n"
     ]
    },
    {
     "name": "stderr",
     "output_type": "stream",
     "text": [
      "\r"
     ]
    },
    {
     "name": "stdout",
     "output_type": "stream",
     "text": [
      "Moviepy - Building video /home/kurubal/Documents/Modern Ways/Project/Turkish/Image Audio Video/Result/200 Words/Twogram_Threegram/Threegram_Twogram_Selected/Result/Image_Video_Audio/buraya.mp4.\n",
      "MoviePy - Writing audio in burayaTEMP_MPY_wvf_snd.mp4\n"
     ]
    },
    {
     "name": "stderr",
     "output_type": "stream",
     "text": [
      "                                                       \r"
     ]
    },
    {
     "name": "stdout",
     "output_type": "stream",
     "text": [
      "MoviePy - Done.\n",
      "Moviepy - Writing video /home/kurubal/Documents/Modern Ways/Project/Turkish/Image Audio Video/Result/200 Words/Twogram_Threegram/Threegram_Twogram_Selected/Result/Image_Video_Audio/buraya.mp4\n",
      "\n"
     ]
    },
    {
     "name": "stderr",
     "output_type": "stream",
     "text": [
      "                                                  \r"
     ]
    },
    {
     "name": "stdout",
     "output_type": "stream",
     "text": [
      "Moviepy - Done !\n",
      "Moviepy - video ready /home/kurubal/Documents/Modern Ways/Project/Turkish/Image Audio Video/Result/200 Words/Twogram_Threegram/Threegram_Twogram_Selected/Result/Image_Video_Audio/buraya.mp4\n",
      "Moviepy - Building video /home/kurubal/Documents/Modern Ways/Project/Turkish/Image Audio Video/Result/200 Words/Twogram_Threegram/Threegram_Twogram_Selected/Result/Image_Video_Audio/gel.mp4.\n",
      "MoviePy - Writing audio in gelTEMP_MPY_wvf_snd.mp4\n"
     ]
    },
    {
     "name": "stderr",
     "output_type": "stream",
     "text": [
      "                                                       \r"
     ]
    },
    {
     "name": "stdout",
     "output_type": "stream",
     "text": [
      "MoviePy - Done.\n",
      "Moviepy - Writing video /home/kurubal/Documents/Modern Ways/Project/Turkish/Image Audio Video/Result/200 Words/Twogram_Threegram/Threegram_Twogram_Selected/Result/Image_Video_Audio/gel.mp4\n",
      "\n"
     ]
    },
    {
     "name": "stderr",
     "output_type": "stream",
     "text": [
      "                                                  \r"
     ]
    },
    {
     "name": "stdout",
     "output_type": "stream",
     "text": [
      "Moviepy - Done !\n",
      "Moviepy - video ready /home/kurubal/Documents/Modern Ways/Project/Turkish/Image Audio Video/Result/200 Words/Twogram_Threegram/Threegram_Twogram_Selected/Result/Image_Video_Audio/gel.mp4\n",
      "MoviePy - Writing audio in /home/kurubal/Documents/Modern Ways/Project/Turkish/Image Audio Video/Result/200 Words/Twogram_Threegram/Threegram_Twogram_Selected/Data/Text_MP3/buraya gel.mp3\n"
     ]
    },
    {
     "name": "stderr",
     "output_type": "stream",
     "text": [
      "                                                       "
     ]
    },
    {
     "name": "stdout",
     "output_type": "stream",
     "text": [
      "MoviePy - Done.\n"
     ]
    },
    {
     "name": "stderr",
     "output_type": "stream",
     "text": [
      "\r"
     ]
    },
    {
     "name": "stdout",
     "output_type": "stream",
     "text": [
      "Moviepy - Building video /home/kurubal/Documents/Modern Ways/Project/Turkish/Image Audio Video/Result/200 Words/Twogram_Threegram/Threegram_Twogram_Selected/Result/Image_Video_Audio/buraya gel.mp4.\n",
      "MoviePy - Writing audio in buraya gelTEMP_MPY_wvf_snd.mp4\n"
     ]
    },
    {
     "name": "stderr",
     "output_type": "stream",
     "text": [
      "                                                       \r"
     ]
    },
    {
     "name": "stdout",
     "output_type": "stream",
     "text": [
      "MoviePy - Done.\n",
      "Moviepy - Writing video /home/kurubal/Documents/Modern Ways/Project/Turkish/Image Audio Video/Result/200 Words/Twogram_Threegram/Threegram_Twogram_Selected/Result/Image_Video_Audio/buraya gel.mp4\n",
      "\n"
     ]
    },
    {
     "name": "stderr",
     "output_type": "stream",
     "text": [
      "                                                  \r"
     ]
    },
    {
     "name": "stdout",
     "output_type": "stream",
     "text": [
      "Moviepy - Done !\n",
      "Moviepy - video ready /home/kurubal/Documents/Modern Ways/Project/Turkish/Image Audio Video/Result/200 Words/Twogram_Threegram/Threegram_Twogram_Selected/Result/Image_Video_Audio/buraya gel.mp4\n",
      "Moviepy - Building video /home/kurubal/Documents/Modern Ways/Project/Turkish/Image Audio Video/Result/200 Words/Twogram_Threegram/Threegram_Twogram_Selected/Result/Concat_Video/buraya gel.mp4.\n",
      "MoviePy - Writing audio in buraya gelTEMP_MPY_wvf_snd.mp4\n"
     ]
    },
    {
     "name": "stderr",
     "output_type": "stream",
     "text": [
      "                                                        \r"
     ]
    },
    {
     "name": "stdout",
     "output_type": "stream",
     "text": [
      "MoviePy - Done.\n",
      "Moviepy - Writing video /home/kurubal/Documents/Modern Ways/Project/Turkish/Image Audio Video/Result/200 Words/Twogram_Threegram/Threegram_Twogram_Selected/Result/Concat_Video/buraya gel.mp4\n",
      "\n"
     ]
    },
    {
     "name": "stderr",
     "output_type": "stream",
     "text": [
      "                                                  \r"
     ]
    },
    {
     "name": "stdout",
     "output_type": "stream",
     "text": [
      "Moviepy - Done !\n",
      "Moviepy - video ready /home/kurubal/Documents/Modern Ways/Project/Turkish/Image Audio Video/Result/200 Words/Twogram_Threegram/Threegram_Twogram_Selected/Result/Concat_Video/buraya gel.mp4\n"
     ]
    },
    {
     "data": {
      "application/javascript": "\n        if (window._pyforest_update_imports_cell) { window._pyforest_update_imports_cell('from PIL import Image'); }\n    ",
      "text/plain": [
       "<IPython.core.display.Javascript object>"
      ]
     },
     "metadata": {},
     "output_type": "display_data"
    },
    {
     "data": {
      "application/javascript": "\n        if (window._pyforest_update_imports_cell) { window._pyforest_update_imports_cell('from PIL import Image'); }\n    ",
      "text/plain": [
       "<IPython.core.display.Javascript object>"
      ]
     },
     "metadata": {},
     "output_type": "display_data"
    },
    {
     "name": "stdout",
     "output_type": "stream",
     "text": [
      "MoviePy - Writing audio in /home/kurubal/Documents/Modern Ways/Project/Turkish/Image Audio Video/Result/200 Words/Twogram_Threegram/Threegram_Twogram_Selected/Data/Text_MP3/bütün.mp3\n"
     ]
    },
    {
     "name": "stderr",
     "output_type": "stream",
     "text": [
      "                                                       "
     ]
    },
    {
     "name": "stdout",
     "output_type": "stream",
     "text": [
      "MoviePy - Done.\n"
     ]
    },
    {
     "name": "stderr",
     "output_type": "stream",
     "text": [
      "\r"
     ]
    },
    {
     "name": "stdout",
     "output_type": "stream",
     "text": [
      "Moviepy - Building video /home/kurubal/Documents/Modern Ways/Project/Turkish/Image Audio Video/Result/200 Words/Twogram_Threegram/Threegram_Twogram_Selected/Result/Image_Video_Audio/bütün.mp4.\n",
      "MoviePy - Writing audio in bütünTEMP_MPY_wvf_snd.mp4\n"
     ]
    },
    {
     "name": "stderr",
     "output_type": "stream",
     "text": [
      "                                                       \r"
     ]
    },
    {
     "name": "stdout",
     "output_type": "stream",
     "text": [
      "MoviePy - Done.\n",
      "Moviepy - Writing video /home/kurubal/Documents/Modern Ways/Project/Turkish/Image Audio Video/Result/200 Words/Twogram_Threegram/Threegram_Twogram_Selected/Result/Image_Video_Audio/bütün.mp4\n",
      "\n"
     ]
    },
    {
     "name": "stderr",
     "output_type": "stream",
     "text": [
      "                                                  \r"
     ]
    },
    {
     "name": "stdout",
     "output_type": "stream",
     "text": [
      "Moviepy - Done !\n",
      "Moviepy - video ready /home/kurubal/Documents/Modern Ways/Project/Turkish/Image Audio Video/Result/200 Words/Twogram_Threegram/Threegram_Twogram_Selected/Result/Image_Video_Audio/bütün.mp4\n",
      "MoviePy - Writing audio in /home/kurubal/Documents/Modern Ways/Project/Turkish/Image Audio Video/Result/200 Words/Twogram_Threegram/Threegram_Twogram_Selected/Data/Text_MP3/bütün gün.mp3\n"
     ]
    },
    {
     "name": "stderr",
     "output_type": "stream",
     "text": [
      "                                                       "
     ]
    },
    {
     "name": "stdout",
     "output_type": "stream",
     "text": [
      "MoviePy - Done.\n"
     ]
    },
    {
     "name": "stderr",
     "output_type": "stream",
     "text": [
      "\r"
     ]
    },
    {
     "name": "stdout",
     "output_type": "stream",
     "text": [
      "Moviepy - Building video /home/kurubal/Documents/Modern Ways/Project/Turkish/Image Audio Video/Result/200 Words/Twogram_Threegram/Threegram_Twogram_Selected/Result/Image_Video_Audio/bütün gün.mp4.\n",
      "MoviePy - Writing audio in bütün günTEMP_MPY_wvf_snd.mp4\n"
     ]
    },
    {
     "name": "stderr",
     "output_type": "stream",
     "text": [
      "                                                       \r"
     ]
    },
    {
     "name": "stdout",
     "output_type": "stream",
     "text": [
      "MoviePy - Done.\n",
      "Moviepy - Writing video /home/kurubal/Documents/Modern Ways/Project/Turkish/Image Audio Video/Result/200 Words/Twogram_Threegram/Threegram_Twogram_Selected/Result/Image_Video_Audio/bütün gün.mp4\n",
      "\n"
     ]
    },
    {
     "name": "stderr",
     "output_type": "stream",
     "text": [
      "                                                  \r"
     ]
    },
    {
     "name": "stdout",
     "output_type": "stream",
     "text": [
      "Moviepy - Done !\n",
      "Moviepy - video ready /home/kurubal/Documents/Modern Ways/Project/Turkish/Image Audio Video/Result/200 Words/Twogram_Threegram/Threegram_Twogram_Selected/Result/Image_Video_Audio/bütün gün.mp4\n",
      "Moviepy - Building video /home/kurubal/Documents/Modern Ways/Project/Turkish/Image Audio Video/Result/200 Words/Twogram_Threegram/Threegram_Twogram_Selected/Result/Concat_Video/bütün gün.mp4.\n",
      "MoviePy - Writing audio in bütün günTEMP_MPY_wvf_snd.mp4\n"
     ]
    },
    {
     "name": "stderr",
     "output_type": "stream",
     "text": [
      "                                                        \r"
     ]
    },
    {
     "name": "stdout",
     "output_type": "stream",
     "text": [
      "MoviePy - Done.\n",
      "Moviepy - Writing video /home/kurubal/Documents/Modern Ways/Project/Turkish/Image Audio Video/Result/200 Words/Twogram_Threegram/Threegram_Twogram_Selected/Result/Concat_Video/bütün gün.mp4\n",
      "\n"
     ]
    },
    {
     "name": "stderr",
     "output_type": "stream",
     "text": [
      "                                                  \r"
     ]
    },
    {
     "name": "stdout",
     "output_type": "stream",
     "text": [
      "Moviepy - Done !\n",
      "Moviepy - video ready /home/kurubal/Documents/Modern Ways/Project/Turkish/Image Audio Video/Result/200 Words/Twogram_Threegram/Threegram_Twogram_Selected/Result/Concat_Video/bütün gün.mp4\n",
      "MoviePy - Writing audio in /home/kurubal/Documents/Modern Ways/Project/Turkish/Image Audio Video/Result/200 Words/Twogram_Threegram/Threegram_Twogram_Selected/Data/Text_MP3/devam et.mp3\n"
     ]
    },
    {
     "name": "stderr",
     "output_type": "stream",
     "text": [
      "                                                       "
     ]
    },
    {
     "name": "stdout",
     "output_type": "stream",
     "text": [
      "MoviePy - Done.\n"
     ]
    },
    {
     "name": "stderr",
     "output_type": "stream",
     "text": [
      "\r"
     ]
    },
    {
     "name": "stdout",
     "output_type": "stream",
     "text": [
      "Moviepy - Building video /home/kurubal/Documents/Modern Ways/Project/Turkish/Image Audio Video/Result/200 Words/Twogram_Threegram/Threegram_Twogram_Selected/Result/Image_Video_Audio/devam et.mp4.\n",
      "MoviePy - Writing audio in devam etTEMP_MPY_wvf_snd.mp4\n"
     ]
    },
    {
     "name": "stderr",
     "output_type": "stream",
     "text": [
      "                                                       \r"
     ]
    },
    {
     "name": "stdout",
     "output_type": "stream",
     "text": [
      "MoviePy - Done.\n",
      "Moviepy - Writing video /home/kurubal/Documents/Modern Ways/Project/Turkish/Image Audio Video/Result/200 Words/Twogram_Threegram/Threegram_Twogram_Selected/Result/Image_Video_Audio/devam et.mp4\n",
      "\n"
     ]
    },
    {
     "name": "stderr",
     "output_type": "stream",
     "text": [
      "                                                  \r"
     ]
    },
    {
     "name": "stdout",
     "output_type": "stream",
     "text": [
      "Moviepy - Done !\n",
      "Moviepy - video ready /home/kurubal/Documents/Modern Ways/Project/Turkish/Image Audio Video/Result/200 Words/Twogram_Threegram/Threegram_Twogram_Selected/Result/Image_Video_Audio/devam et.mp4\n",
      "Moviepy - Building video /home/kurubal/Documents/Modern Ways/Project/Turkish/Image Audio Video/Result/200 Words/Twogram_Threegram/Threegram_Twogram_Selected/Result/Concat_Video/devam et.mp4.\n",
      "MoviePy - Writing audio in devam etTEMP_MPY_wvf_snd.mp4\n"
     ]
    },
    {
     "name": "stderr",
     "output_type": "stream",
     "text": [
      "                                                        \r"
     ]
    },
    {
     "name": "stdout",
     "output_type": "stream",
     "text": [
      "MoviePy - Done.\n",
      "Moviepy - Writing video /home/kurubal/Documents/Modern Ways/Project/Turkish/Image Audio Video/Result/200 Words/Twogram_Threegram/Threegram_Twogram_Selected/Result/Concat_Video/devam et.mp4\n",
      "\n"
     ]
    },
    {
     "name": "stderr",
     "output_type": "stream",
     "text": [
      "                                                  \r"
     ]
    },
    {
     "name": "stdout",
     "output_type": "stream",
     "text": [
      "Moviepy - Done !\n",
      "Moviepy - video ready /home/kurubal/Documents/Modern Ways/Project/Turkish/Image Audio Video/Result/200 Words/Twogram_Threegram/Threegram_Twogram_Selected/Result/Concat_Video/devam et.mp4\n",
      "MoviePy - Writing audio in /home/kurubal/Documents/Modern Ways/Project/Turkish/Image Audio Video/Result/200 Words/Twogram_Threegram/Threegram_Twogram_Selected/Data/Text_MP3/doğru mu.mp3\n"
     ]
    },
    {
     "name": "stderr",
     "output_type": "stream",
     "text": [
      "                                                       "
     ]
    },
    {
     "name": "stdout",
     "output_type": "stream",
     "text": [
      "MoviePy - Done.\n"
     ]
    },
    {
     "name": "stderr",
     "output_type": "stream",
     "text": [
      "\r"
     ]
    },
    {
     "name": "stdout",
     "output_type": "stream",
     "text": [
      "Moviepy - Building video /home/kurubal/Documents/Modern Ways/Project/Turkish/Image Audio Video/Result/200 Words/Twogram_Threegram/Threegram_Twogram_Selected/Result/Image_Video_Audio/doğru mu.mp4.\n",
      "MoviePy - Writing audio in doğru muTEMP_MPY_wvf_snd.mp4\n"
     ]
    },
    {
     "name": "stderr",
     "output_type": "stream",
     "text": [
      "                                                       \r"
     ]
    },
    {
     "name": "stdout",
     "output_type": "stream",
     "text": [
      "MoviePy - Done.\n",
      "Moviepy - Writing video /home/kurubal/Documents/Modern Ways/Project/Turkish/Image Audio Video/Result/200 Words/Twogram_Threegram/Threegram_Twogram_Selected/Result/Image_Video_Audio/doğru mu.mp4\n",
      "\n"
     ]
    },
    {
     "name": "stderr",
     "output_type": "stream",
     "text": [
      "                                                  "
     ]
    },
    {
     "name": "stdout",
     "output_type": "stream",
     "text": [
      "Moviepy - Done !\n",
      "Moviepy - video ready /home/kurubal/Documents/Modern Ways/Project/Turkish/Image Audio Video/Result/200 Words/Twogram_Threegram/Threegram_Twogram_Selected/Result/Image_Video_Audio/doğru mu.mp4\n"
     ]
    },
    {
     "name": "stderr",
     "output_type": "stream",
     "text": [
      "\r"
     ]
    },
    {
     "name": "stdout",
     "output_type": "stream",
     "text": [
      "Moviepy - Building video /home/kurubal/Documents/Modern Ways/Project/Turkish/Image Audio Video/Result/200 Words/Twogram_Threegram/Threegram_Twogram_Selected/Result/Concat_Video/doğru mu.mp4.\n",
      "MoviePy - Writing audio in doğru muTEMP_MPY_wvf_snd.mp4\n"
     ]
    },
    {
     "name": "stderr",
     "output_type": "stream",
     "text": [
      "                                                        \r"
     ]
    },
    {
     "name": "stdout",
     "output_type": "stream",
     "text": [
      "MoviePy - Done.\n",
      "Moviepy - Writing video /home/kurubal/Documents/Modern Ways/Project/Turkish/Image Audio Video/Result/200 Words/Twogram_Threegram/Threegram_Twogram_Selected/Result/Concat_Video/doğru mu.mp4\n",
      "\n"
     ]
    },
    {
     "name": "stderr",
     "output_type": "stream",
     "text": [
      "                                                  \r"
     ]
    },
    {
     "name": "stdout",
     "output_type": "stream",
     "text": [
      "Moviepy - Done !\n",
      "Moviepy - video ready /home/kurubal/Documents/Modern Ways/Project/Turkish/Image Audio Video/Result/200 Words/Twogram_Threegram/Threegram_Twogram_Selected/Result/Concat_Video/doğru mu.mp4\n",
      "MoviePy - Writing audio in /home/kurubal/Documents/Modern Ways/Project/Turkish/Image Audio Video/Result/200 Words/Twogram_Threegram/Threegram_Twogram_Selected/Data/Text_MP3/geliyor musun.mp3\n"
     ]
    },
    {
     "name": "stderr",
     "output_type": "stream",
     "text": [
      "                                                       "
     ]
    },
    {
     "name": "stdout",
     "output_type": "stream",
     "text": [
      "MoviePy - Done.\n"
     ]
    },
    {
     "name": "stderr",
     "output_type": "stream",
     "text": [
      "\r"
     ]
    },
    {
     "name": "stdout",
     "output_type": "stream",
     "text": [
      "Moviepy - Building video /home/kurubal/Documents/Modern Ways/Project/Turkish/Image Audio Video/Result/200 Words/Twogram_Threegram/Threegram_Twogram_Selected/Result/Image_Video_Audio/geliyor musun.mp4.\n",
      "MoviePy - Writing audio in geliyor musunTEMP_MPY_wvf_snd.mp4\n"
     ]
    },
    {
     "name": "stderr",
     "output_type": "stream",
     "text": [
      "                                                       \r"
     ]
    },
    {
     "name": "stdout",
     "output_type": "stream",
     "text": [
      "MoviePy - Done.\n",
      "Moviepy - Writing video /home/kurubal/Documents/Modern Ways/Project/Turkish/Image Audio Video/Result/200 Words/Twogram_Threegram/Threegram_Twogram_Selected/Result/Image_Video_Audio/geliyor musun.mp4\n",
      "\n"
     ]
    },
    {
     "name": "stderr",
     "output_type": "stream",
     "text": [
      "                                                  \r"
     ]
    },
    {
     "name": "stdout",
     "output_type": "stream",
     "text": [
      "Moviepy - Done !\n",
      "Moviepy - video ready /home/kurubal/Documents/Modern Ways/Project/Turkish/Image Audio Video/Result/200 Words/Twogram_Threegram/Threegram_Twogram_Selected/Result/Image_Video_Audio/geliyor musun.mp4\n",
      "Moviepy - Building video /home/kurubal/Documents/Modern Ways/Project/Turkish/Image Audio Video/Result/200 Words/Twogram_Threegram/Threegram_Twogram_Selected/Result/Concat_Video/geliyor musun.mp4.\n",
      "MoviePy - Writing audio in geliyor musunTEMP_MPY_wvf_snd.mp4\n"
     ]
    },
    {
     "name": "stderr",
     "output_type": "stream",
     "text": [
      "                                                        \r"
     ]
    },
    {
     "name": "stdout",
     "output_type": "stream",
     "text": [
      "MoviePy - Done.\n",
      "Moviepy - Writing video /home/kurubal/Documents/Modern Ways/Project/Turkish/Image Audio Video/Result/200 Words/Twogram_Threegram/Threegram_Twogram_Selected/Result/Concat_Video/geliyor musun.mp4\n",
      "\n"
     ]
    },
    {
     "name": "stderr",
     "output_type": "stream",
     "text": [
      "                                                  \r"
     ]
    },
    {
     "name": "stdout",
     "output_type": "stream",
     "text": [
      "Moviepy - Done !\n",
      "Moviepy - video ready /home/kurubal/Documents/Modern Ways/Project/Turkish/Image Audio Video/Result/200 Words/Twogram_Threegram/Threegram_Twogram_Selected/Result/Concat_Video/geliyor musun.mp4\n"
     ]
    },
    {
     "data": {
      "application/javascript": "\n        if (window._pyforest_update_imports_cell) { window._pyforest_update_imports_cell('from PIL import Image'); }\n    ",
      "text/plain": [
       "<IPython.core.display.Javascript object>"
      ]
     },
     "metadata": {},
     "output_type": "display_data"
    },
    {
     "data": {
      "application/javascript": "\n        if (window._pyforest_update_imports_cell) { window._pyforest_update_imports_cell('from PIL import Image'); }\n    ",
      "text/plain": [
       "<IPython.core.display.Javascript object>"
      ]
     },
     "metadata": {},
     "output_type": "display_data"
    },
    {
     "data": {
      "application/javascript": "\n        if (window._pyforest_update_imports_cell) { window._pyforest_update_imports_cell('from PIL import Image'); }\n    ",
      "text/plain": [
       "<IPython.core.display.Javascript object>"
      ]
     },
     "metadata": {},
     "output_type": "display_data"
    },
    {
     "data": {
      "application/javascript": "\n        if (window._pyforest_update_imports_cell) { window._pyforest_update_imports_cell('from PIL import Image'); }\n    ",
      "text/plain": [
       "<IPython.core.display.Javascript object>"
      ]
     },
     "metadata": {},
     "output_type": "display_data"
    },
    {
     "name": "stdout",
     "output_type": "stream",
     "text": [
      "MoviePy - Writing audio in /home/kurubal/Documents/Modern Ways/Project/Turkish/Image Audio Video/Result/200 Words/Twogram_Threegram/Threegram_Twogram_Selected/Data/Text_MP3/hadi.mp3\n"
     ]
    },
    {
     "name": "stderr",
     "output_type": "stream",
     "text": [
      "                                                       "
     ]
    },
    {
     "name": "stdout",
     "output_type": "stream",
     "text": [
      "MoviePy - Done.\n"
     ]
    },
    {
     "name": "stderr",
     "output_type": "stream",
     "text": [
      "\r"
     ]
    },
    {
     "name": "stdout",
     "output_type": "stream",
     "text": [
      "MoviePy - Writing audio in /home/kurubal/Documents/Modern Ways/Project/Turkish/Image Audio Video/Result/200 Words/Twogram_Threegram/Threegram_Twogram_Selected/Data/Text_MP3/bakalım.mp3\n"
     ]
    },
    {
     "name": "stderr",
     "output_type": "stream",
     "text": [
      "                                                       "
     ]
    },
    {
     "name": "stdout",
     "output_type": "stream",
     "text": [
      "MoviePy - Done.\n"
     ]
    },
    {
     "name": "stderr",
     "output_type": "stream",
     "text": [
      "\r"
     ]
    },
    {
     "name": "stdout",
     "output_type": "stream",
     "text": [
      "Moviepy - Building video /home/kurubal/Documents/Modern Ways/Project/Turkish/Image Audio Video/Result/200 Words/Twogram_Threegram/Threegram_Twogram_Selected/Result/Image_Video_Audio/hadi.mp4.\n",
      "MoviePy - Writing audio in hadiTEMP_MPY_wvf_snd.mp4\n"
     ]
    },
    {
     "name": "stderr",
     "output_type": "stream",
     "text": [
      "                                                       \r"
     ]
    },
    {
     "name": "stdout",
     "output_type": "stream",
     "text": [
      "MoviePy - Done.\n",
      "Moviepy - Writing video /home/kurubal/Documents/Modern Ways/Project/Turkish/Image Audio Video/Result/200 Words/Twogram_Threegram/Threegram_Twogram_Selected/Result/Image_Video_Audio/hadi.mp4\n",
      "\n"
     ]
    },
    {
     "name": "stderr",
     "output_type": "stream",
     "text": [
      "                                                  "
     ]
    },
    {
     "name": "stdout",
     "output_type": "stream",
     "text": [
      "Moviepy - Done !\n",
      "Moviepy - video ready /home/kurubal/Documents/Modern Ways/Project/Turkish/Image Audio Video/Result/200 Words/Twogram_Threegram/Threegram_Twogram_Selected/Result/Image_Video_Audio/hadi.mp4\n"
     ]
    },
    {
     "name": "stderr",
     "output_type": "stream",
     "text": [
      "\r"
     ]
    },
    {
     "name": "stdout",
     "output_type": "stream",
     "text": [
      "Moviepy - Building video /home/kurubal/Documents/Modern Ways/Project/Turkish/Image Audio Video/Result/200 Words/Twogram_Threegram/Threegram_Twogram_Selected/Result/Image_Video_Audio/bakalım.mp4.\n",
      "MoviePy - Writing audio in bakalımTEMP_MPY_wvf_snd.mp4\n"
     ]
    },
    {
     "name": "stderr",
     "output_type": "stream",
     "text": [
      "                                                       \r"
     ]
    },
    {
     "name": "stdout",
     "output_type": "stream",
     "text": [
      "MoviePy - Done.\n",
      "Moviepy - Writing video /home/kurubal/Documents/Modern Ways/Project/Turkish/Image Audio Video/Result/200 Words/Twogram_Threegram/Threegram_Twogram_Selected/Result/Image_Video_Audio/bakalım.mp4\n",
      "\n"
     ]
    },
    {
     "name": "stderr",
     "output_type": "stream",
     "text": [
      "                                                  \r"
     ]
    },
    {
     "name": "stdout",
     "output_type": "stream",
     "text": [
      "Moviepy - Done !\n",
      "Moviepy - video ready /home/kurubal/Documents/Modern Ways/Project/Turkish/Image Audio Video/Result/200 Words/Twogram_Threegram/Threegram_Twogram_Selected/Result/Image_Video_Audio/bakalım.mp4\n",
      "MoviePy - Writing audio in /home/kurubal/Documents/Modern Ways/Project/Turkish/Image Audio Video/Result/200 Words/Twogram_Threegram/Threegram_Twogram_Selected/Data/Text_MP3/hadi bakalım.mp3\n"
     ]
    },
    {
     "name": "stderr",
     "output_type": "stream",
     "text": [
      "                                                       "
     ]
    },
    {
     "name": "stdout",
     "output_type": "stream",
     "text": [
      "MoviePy - Done.\n"
     ]
    },
    {
     "name": "stderr",
     "output_type": "stream",
     "text": [
      "\r"
     ]
    },
    {
     "name": "stdout",
     "output_type": "stream",
     "text": [
      "Moviepy - Building video /home/kurubal/Documents/Modern Ways/Project/Turkish/Image Audio Video/Result/200 Words/Twogram_Threegram/Threegram_Twogram_Selected/Result/Image_Video_Audio/hadi bakalım.mp4.\n",
      "MoviePy - Writing audio in hadi bakalımTEMP_MPY_wvf_snd.mp4\n"
     ]
    },
    {
     "name": "stderr",
     "output_type": "stream",
     "text": [
      "                                                       \r"
     ]
    },
    {
     "name": "stdout",
     "output_type": "stream",
     "text": [
      "MoviePy - Done.\n",
      "Moviepy - Writing video /home/kurubal/Documents/Modern Ways/Project/Turkish/Image Audio Video/Result/200 Words/Twogram_Threegram/Threegram_Twogram_Selected/Result/Image_Video_Audio/hadi bakalım.mp4\n",
      "\n"
     ]
    },
    {
     "name": "stderr",
     "output_type": "stream",
     "text": [
      "                                                  \r"
     ]
    },
    {
     "name": "stdout",
     "output_type": "stream",
     "text": [
      "Moviepy - Done !\n",
      "Moviepy - video ready /home/kurubal/Documents/Modern Ways/Project/Turkish/Image Audio Video/Result/200 Words/Twogram_Threegram/Threegram_Twogram_Selected/Result/Image_Video_Audio/hadi bakalım.mp4\n",
      "Moviepy - Building video /home/kurubal/Documents/Modern Ways/Project/Turkish/Image Audio Video/Result/200 Words/Twogram_Threegram/Threegram_Twogram_Selected/Result/Concat_Video/hadi bakalım.mp4.\n",
      "MoviePy - Writing audio in hadi bakalımTEMP_MPY_wvf_snd.mp4\n"
     ]
    },
    {
     "name": "stderr",
     "output_type": "stream",
     "text": [
      "                                                        \r"
     ]
    },
    {
     "name": "stdout",
     "output_type": "stream",
     "text": [
      "MoviePy - Done.\n",
      "Moviepy - Writing video /home/kurubal/Documents/Modern Ways/Project/Turkish/Image Audio Video/Result/200 Words/Twogram_Threegram/Threegram_Twogram_Selected/Result/Concat_Video/hadi bakalım.mp4\n",
      "\n"
     ]
    },
    {
     "name": "stderr",
     "output_type": "stream",
     "text": [
      "                                                  \r"
     ]
    },
    {
     "name": "stdout",
     "output_type": "stream",
     "text": [
      "Moviepy - Done !\n",
      "Moviepy - video ready /home/kurubal/Documents/Modern Ways/Project/Turkish/Image Audio Video/Result/200 Words/Twogram_Threegram/Threegram_Twogram_Selected/Result/Concat_Video/hadi bakalım.mp4\n",
      "MoviePy - Writing audio in /home/kurubal/Documents/Modern Ways/Project/Turkish/Image Audio Video/Result/200 Words/Twogram_Threegram/Threegram_Twogram_Selected/Data/Text_MP3/herkes biliyor.mp3\n"
     ]
    },
    {
     "name": "stderr",
     "output_type": "stream",
     "text": [
      "                                                       "
     ]
    },
    {
     "name": "stdout",
     "output_type": "stream",
     "text": [
      "MoviePy - Done.\n"
     ]
    },
    {
     "name": "stderr",
     "output_type": "stream",
     "text": [
      "\r"
     ]
    },
    {
     "name": "stdout",
     "output_type": "stream",
     "text": [
      "Moviepy - Building video /home/kurubal/Documents/Modern Ways/Project/Turkish/Image Audio Video/Result/200 Words/Twogram_Threegram/Threegram_Twogram_Selected/Result/Image_Video_Audio/herkes biliyor.mp4.\n",
      "MoviePy - Writing audio in herkes biliyorTEMP_MPY_wvf_snd.mp4\n"
     ]
    },
    {
     "name": "stderr",
     "output_type": "stream",
     "text": [
      "                                                       \r"
     ]
    },
    {
     "name": "stdout",
     "output_type": "stream",
     "text": [
      "MoviePy - Done.\n",
      "Moviepy - Writing video /home/kurubal/Documents/Modern Ways/Project/Turkish/Image Audio Video/Result/200 Words/Twogram_Threegram/Threegram_Twogram_Selected/Result/Image_Video_Audio/herkes biliyor.mp4\n",
      "\n"
     ]
    },
    {
     "name": "stderr",
     "output_type": "stream",
     "text": [
      "                                                  \r"
     ]
    },
    {
     "name": "stdout",
     "output_type": "stream",
     "text": [
      "Moviepy - Done !\n",
      "Moviepy - video ready /home/kurubal/Documents/Modern Ways/Project/Turkish/Image Audio Video/Result/200 Words/Twogram_Threegram/Threegram_Twogram_Selected/Result/Image_Video_Audio/herkes biliyor.mp4\n",
      "Moviepy - Building video /home/kurubal/Documents/Modern Ways/Project/Turkish/Image Audio Video/Result/200 Words/Twogram_Threegram/Threegram_Twogram_Selected/Result/Concat_Video/herkes biliyor.mp4.\n",
      "MoviePy - Writing audio in herkes biliyorTEMP_MPY_wvf_snd.mp4\n"
     ]
    },
    {
     "name": "stderr",
     "output_type": "stream",
     "text": [
      "                                                        \r"
     ]
    },
    {
     "name": "stdout",
     "output_type": "stream",
     "text": [
      "MoviePy - Done.\n",
      "Moviepy - Writing video /home/kurubal/Documents/Modern Ways/Project/Turkish/Image Audio Video/Result/200 Words/Twogram_Threegram/Threegram_Twogram_Selected/Result/Concat_Video/herkes biliyor.mp4\n",
      "\n"
     ]
    },
    {
     "name": "stderr",
     "output_type": "stream",
     "text": [
      "                                                          \r"
     ]
    },
    {
     "name": "stdout",
     "output_type": "stream",
     "text": [
      "Moviepy - Done !\n",
      "Moviepy - video ready /home/kurubal/Documents/Modern Ways/Project/Turkish/Image Audio Video/Result/200 Words/Twogram_Threegram/Threegram_Twogram_Selected/Result/Concat_Video/herkes biliyor.mp4\n",
      "MoviePy - Writing audio in /home/kurubal/Documents/Modern Ways/Project/Turkish/Image Audio Video/Result/200 Words/Twogram_Threegram/Threegram_Twogram_Selected/Data/Text_MP3/ister misin.mp3\n"
     ]
    },
    {
     "name": "stderr",
     "output_type": "stream",
     "text": [
      "                                                       "
     ]
    },
    {
     "name": "stdout",
     "output_type": "stream",
     "text": [
      "MoviePy - Done.\n"
     ]
    },
    {
     "name": "stderr",
     "output_type": "stream",
     "text": [
      "\r"
     ]
    },
    {
     "name": "stdout",
     "output_type": "stream",
     "text": [
      "Moviepy - Building video /home/kurubal/Documents/Modern Ways/Project/Turkish/Image Audio Video/Result/200 Words/Twogram_Threegram/Threegram_Twogram_Selected/Result/Image_Video_Audio/ister misin.mp4.\n",
      "MoviePy - Writing audio in ister misinTEMP_MPY_wvf_snd.mp4\n"
     ]
    },
    {
     "name": "stderr",
     "output_type": "stream",
     "text": [
      "                                                       \r"
     ]
    },
    {
     "name": "stdout",
     "output_type": "stream",
     "text": [
      "MoviePy - Done.\n",
      "Moviepy - Writing video /home/kurubal/Documents/Modern Ways/Project/Turkish/Image Audio Video/Result/200 Words/Twogram_Threegram/Threegram_Twogram_Selected/Result/Image_Video_Audio/ister misin.mp4\n",
      "\n"
     ]
    },
    {
     "name": "stderr",
     "output_type": "stream",
     "text": [
      "                                                  \r"
     ]
    },
    {
     "name": "stdout",
     "output_type": "stream",
     "text": [
      "Moviepy - Done !\n",
      "Moviepy - video ready /home/kurubal/Documents/Modern Ways/Project/Turkish/Image Audio Video/Result/200 Words/Twogram_Threegram/Threegram_Twogram_Selected/Result/Image_Video_Audio/ister misin.mp4\n",
      "Moviepy - Building video /home/kurubal/Documents/Modern Ways/Project/Turkish/Image Audio Video/Result/200 Words/Twogram_Threegram/Threegram_Twogram_Selected/Result/Concat_Video/ister misin.mp4.\n",
      "MoviePy - Writing audio in ister misinTEMP_MPY_wvf_snd.mp4\n"
     ]
    },
    {
     "name": "stderr",
     "output_type": "stream",
     "text": [
      "                                                        \r"
     ]
    },
    {
     "name": "stdout",
     "output_type": "stream",
     "text": [
      "MoviePy - Done.\n",
      "Moviepy - Writing video /home/kurubal/Documents/Modern Ways/Project/Turkish/Image Audio Video/Result/200 Words/Twogram_Threegram/Threegram_Twogram_Selected/Result/Concat_Video/ister misin.mp4\n",
      "\n"
     ]
    },
    {
     "name": "stderr",
     "output_type": "stream",
     "text": [
      "                                                          \r"
     ]
    },
    {
     "name": "stdout",
     "output_type": "stream",
     "text": [
      "Moviepy - Done !\n",
      "Moviepy - video ready /home/kurubal/Documents/Modern Ways/Project/Turkish/Image Audio Video/Result/200 Words/Twogram_Threegram/Threegram_Twogram_Selected/Result/Concat_Video/ister misin.mp4\n",
      "MoviePy - Writing audio in /home/kurubal/Documents/Modern Ways/Project/Turkish/Image Audio Video/Result/200 Words/Twogram_Threegram/Threegram_Twogram_Selected/Data/Text_MP3/izin ver.mp3\n"
     ]
    },
    {
     "name": "stderr",
     "output_type": "stream",
     "text": [
      "                                                       "
     ]
    },
    {
     "name": "stdout",
     "output_type": "stream",
     "text": [
      "MoviePy - Done.\n"
     ]
    },
    {
     "name": "stderr",
     "output_type": "stream",
     "text": [
      "\r"
     ]
    },
    {
     "name": "stdout",
     "output_type": "stream",
     "text": [
      "Moviepy - Building video /home/kurubal/Documents/Modern Ways/Project/Turkish/Image Audio Video/Result/200 Words/Twogram_Threegram/Threegram_Twogram_Selected/Result/Image_Video_Audio/izin ver.mp4.\n",
      "MoviePy - Writing audio in izin verTEMP_MPY_wvf_snd.mp4\n"
     ]
    },
    {
     "name": "stderr",
     "output_type": "stream",
     "text": [
      "                                                       \r"
     ]
    },
    {
     "name": "stdout",
     "output_type": "stream",
     "text": [
      "MoviePy - Done.\n",
      "Moviepy - Writing video /home/kurubal/Documents/Modern Ways/Project/Turkish/Image Audio Video/Result/200 Words/Twogram_Threegram/Threegram_Twogram_Selected/Result/Image_Video_Audio/izin ver.mp4\n",
      "\n"
     ]
    },
    {
     "name": "stderr",
     "output_type": "stream",
     "text": [
      "                                                  \r"
     ]
    },
    {
     "name": "stdout",
     "output_type": "stream",
     "text": [
      "Moviepy - Done !\n",
      "Moviepy - video ready /home/kurubal/Documents/Modern Ways/Project/Turkish/Image Audio Video/Result/200 Words/Twogram_Threegram/Threegram_Twogram_Selected/Result/Image_Video_Audio/izin ver.mp4\n",
      "Moviepy - Building video /home/kurubal/Documents/Modern Ways/Project/Turkish/Image Audio Video/Result/200 Words/Twogram_Threegram/Threegram_Twogram_Selected/Result/Concat_Video/izin ver.mp4.\n",
      "MoviePy - Writing audio in izin verTEMP_MPY_wvf_snd.mp4\n"
     ]
    },
    {
     "name": "stderr",
     "output_type": "stream",
     "text": [
      "                                                        \r"
     ]
    },
    {
     "name": "stdout",
     "output_type": "stream",
     "text": [
      "MoviePy - Done.\n",
      "Moviepy - Writing video /home/kurubal/Documents/Modern Ways/Project/Turkish/Image Audio Video/Result/200 Words/Twogram_Threegram/Threegram_Twogram_Selected/Result/Concat_Video/izin ver.mp4\n",
      "\n"
     ]
    },
    {
     "name": "stderr",
     "output_type": "stream",
     "text": [
      "                                                  \r"
     ]
    },
    {
     "name": "stdout",
     "output_type": "stream",
     "text": [
      "Moviepy - Done !\n",
      "Moviepy - video ready /home/kurubal/Documents/Modern Ways/Project/Turkish/Image Audio Video/Result/200 Words/Twogram_Threegram/Threegram_Twogram_Selected/Result/Concat_Video/izin ver.mp4\n",
      "MoviePy - Writing audio in /home/kurubal/Documents/Modern Ways/Project/Turkish/Image Audio Video/Result/200 Words/Twogram_Threegram/Threegram_Twogram_Selected/Data/Text_MP3/ne kadar.mp3\n"
     ]
    },
    {
     "name": "stderr",
     "output_type": "stream",
     "text": [
      "                                                       "
     ]
    },
    {
     "name": "stdout",
     "output_type": "stream",
     "text": [
      "MoviePy - Done.\n"
     ]
    },
    {
     "name": "stderr",
     "output_type": "stream",
     "text": [
      "\r"
     ]
    },
    {
     "name": "stdout",
     "output_type": "stream",
     "text": [
      "Moviepy - Building video /home/kurubal/Documents/Modern Ways/Project/Turkish/Image Audio Video/Result/200 Words/Twogram_Threegram/Threegram_Twogram_Selected/Result/Image_Video_Audio/ne kadar.mp4.\n",
      "MoviePy - Writing audio in ne kadarTEMP_MPY_wvf_snd.mp4\n"
     ]
    },
    {
     "name": "stderr",
     "output_type": "stream",
     "text": [
      "                                                       \r"
     ]
    },
    {
     "name": "stdout",
     "output_type": "stream",
     "text": [
      "MoviePy - Done.\n",
      "Moviepy - Writing video /home/kurubal/Documents/Modern Ways/Project/Turkish/Image Audio Video/Result/200 Words/Twogram_Threegram/Threegram_Twogram_Selected/Result/Image_Video_Audio/ne kadar.mp4\n",
      "\n"
     ]
    },
    {
     "name": "stderr",
     "output_type": "stream",
     "text": [
      "                                                  "
     ]
    },
    {
     "name": "stdout",
     "output_type": "stream",
     "text": [
      "Moviepy - Done !\n",
      "Moviepy - video ready /home/kurubal/Documents/Modern Ways/Project/Turkish/Image Audio Video/Result/200 Words/Twogram_Threegram/Threegram_Twogram_Selected/Result/Image_Video_Audio/ne kadar.mp4\n"
     ]
    },
    {
     "name": "stderr",
     "output_type": "stream",
     "text": [
      "\r"
     ]
    },
    {
     "name": "stdout",
     "output_type": "stream",
     "text": [
      "Moviepy - Building video /home/kurubal/Documents/Modern Ways/Project/Turkish/Image Audio Video/Result/200 Words/Twogram_Threegram/Threegram_Twogram_Selected/Result/Concat_Video/ne kadar.mp4.\n",
      "MoviePy - Writing audio in ne kadarTEMP_MPY_wvf_snd.mp4\n"
     ]
    },
    {
     "name": "stderr",
     "output_type": "stream",
     "text": [
      "                                                        \r"
     ]
    },
    {
     "name": "stdout",
     "output_type": "stream",
     "text": [
      "MoviePy - Done.\n",
      "Moviepy - Writing video /home/kurubal/Documents/Modern Ways/Project/Turkish/Image Audio Video/Result/200 Words/Twogram_Threegram/Threegram_Twogram_Selected/Result/Concat_Video/ne kadar.mp4\n",
      "\n"
     ]
    },
    {
     "name": "stderr",
     "output_type": "stream",
     "text": [
      "                                                  \r"
     ]
    },
    {
     "name": "stdout",
     "output_type": "stream",
     "text": [
      "Moviepy - Done !\n",
      "Moviepy - video ready /home/kurubal/Documents/Modern Ways/Project/Turkish/Image Audio Video/Result/200 Words/Twogram_Threegram/Threegram_Twogram_Selected/Result/Concat_Video/ne kadar.mp4\n",
      "MoviePy - Writing audio in /home/kurubal/Documents/Modern Ways/Project/Turkish/Image Audio Video/Result/200 Words/Twogram_Threegram/Threegram_Twogram_Selected/Data/Text_MP3/neden böyle.mp3\n"
     ]
    },
    {
     "name": "stderr",
     "output_type": "stream",
     "text": [
      "                                                       "
     ]
    },
    {
     "name": "stdout",
     "output_type": "stream",
     "text": [
      "MoviePy - Done.\n"
     ]
    },
    {
     "name": "stderr",
     "output_type": "stream",
     "text": [
      "\r"
     ]
    },
    {
     "name": "stdout",
     "output_type": "stream",
     "text": [
      "Moviepy - Building video /home/kurubal/Documents/Modern Ways/Project/Turkish/Image Audio Video/Result/200 Words/Twogram_Threegram/Threegram_Twogram_Selected/Result/Image_Video_Audio/neden böyle.mp4.\n",
      "MoviePy - Writing audio in neden böyleTEMP_MPY_wvf_snd.mp4\n"
     ]
    },
    {
     "name": "stderr",
     "output_type": "stream",
     "text": [
      "                                                       \r"
     ]
    },
    {
     "name": "stdout",
     "output_type": "stream",
     "text": [
      "MoviePy - Done.\n",
      "Moviepy - Writing video /home/kurubal/Documents/Modern Ways/Project/Turkish/Image Audio Video/Result/200 Words/Twogram_Threegram/Threegram_Twogram_Selected/Result/Image_Video_Audio/neden böyle.mp4\n",
      "\n"
     ]
    },
    {
     "name": "stderr",
     "output_type": "stream",
     "text": [
      "                                                  \r"
     ]
    },
    {
     "name": "stdout",
     "output_type": "stream",
     "text": [
      "Moviepy - Done !\n",
      "Moviepy - video ready /home/kurubal/Documents/Modern Ways/Project/Turkish/Image Audio Video/Result/200 Words/Twogram_Threegram/Threegram_Twogram_Selected/Result/Image_Video_Audio/neden böyle.mp4\n",
      "Moviepy - Building video /home/kurubal/Documents/Modern Ways/Project/Turkish/Image Audio Video/Result/200 Words/Twogram_Threegram/Threegram_Twogram_Selected/Result/Concat_Video/neden böyle.mp4.\n",
      "MoviePy - Writing audio in neden böyleTEMP_MPY_wvf_snd.mp4\n"
     ]
    },
    {
     "name": "stderr",
     "output_type": "stream",
     "text": [
      "                                                        \r"
     ]
    },
    {
     "name": "stdout",
     "output_type": "stream",
     "text": [
      "MoviePy - Done.\n",
      "Moviepy - Writing video /home/kurubal/Documents/Modern Ways/Project/Turkish/Image Audio Video/Result/200 Words/Twogram_Threegram/Threegram_Twogram_Selected/Result/Concat_Video/neden böyle.mp4\n",
      "\n"
     ]
    },
    {
     "name": "stderr",
     "output_type": "stream",
     "text": [
      "                                                  \r"
     ]
    },
    {
     "name": "stdout",
     "output_type": "stream",
     "text": [
      "Moviepy - Done !\n",
      "Moviepy - video ready /home/kurubal/Documents/Modern Ways/Project/Turkish/Image Audio Video/Result/200 Words/Twogram_Threegram/Threegram_Twogram_Selected/Result/Concat_Video/neden böyle.mp4\n"
     ]
    },
    {
     "data": {
      "application/javascript": "\n        if (window._pyforest_update_imports_cell) { window._pyforest_update_imports_cell('from PIL import Image'); }\n    ",
      "text/plain": [
       "<IPython.core.display.Javascript object>"
      ]
     },
     "metadata": {},
     "output_type": "display_data"
    },
    {
     "data": {
      "application/javascript": "\n        if (window._pyforest_update_imports_cell) { window._pyforest_update_imports_cell('from PIL import Image'); }\n    ",
      "text/plain": [
       "<IPython.core.display.Javascript object>"
      ]
     },
     "metadata": {},
     "output_type": "display_data"
    },
    {
     "name": "stdout",
     "output_type": "stream",
     "text": [
      "MoviePy - Writing audio in /home/kurubal/Documents/Modern Ways/Project/Turkish/Image Audio Video/Result/200 Words/Twogram_Threegram/Threegram_Twogram_Selected/Data/Text_MP3/olur.mp3\n"
     ]
    },
    {
     "name": "stderr",
     "output_type": "stream",
     "text": [
      "                                                       "
     ]
    },
    {
     "name": "stdout",
     "output_type": "stream",
     "text": [
      "MoviePy - Done.\n"
     ]
    },
    {
     "name": "stderr",
     "output_type": "stream",
     "text": [
      "\r"
     ]
    },
    {
     "name": "stdout",
     "output_type": "stream",
     "text": [
      "Moviepy - Building video /home/kurubal/Documents/Modern Ways/Project/Turkish/Image Audio Video/Result/200 Words/Twogram_Threegram/Threegram_Twogram_Selected/Result/Image_Video_Audio/olur.mp4.\n",
      "MoviePy - Writing audio in olurTEMP_MPY_wvf_snd.mp4\n"
     ]
    },
    {
     "name": "stderr",
     "output_type": "stream",
     "text": [
      "                                                       \r"
     ]
    },
    {
     "name": "stdout",
     "output_type": "stream",
     "text": [
      "MoviePy - Done.\n",
      "Moviepy - Writing video /home/kurubal/Documents/Modern Ways/Project/Turkish/Image Audio Video/Result/200 Words/Twogram_Threegram/Threegram_Twogram_Selected/Result/Image_Video_Audio/olur.mp4\n",
      "\n"
     ]
    },
    {
     "name": "stderr",
     "output_type": "stream",
     "text": [
      "                                                  \r"
     ]
    },
    {
     "name": "stdout",
     "output_type": "stream",
     "text": [
      "Moviepy - Done !\n",
      "Moviepy - video ready /home/kurubal/Documents/Modern Ways/Project/Turkish/Image Audio Video/Result/200 Words/Twogram_Threegram/Threegram_Twogram_Selected/Result/Image_Video_Audio/olur.mp4\n",
      "MoviePy - Writing audio in /home/kurubal/Documents/Modern Ways/Project/Turkish/Image Audio Video/Result/200 Words/Twogram_Threegram/Threegram_Twogram_Selected/Data/Text_MP3/olur mu.mp3\n"
     ]
    },
    {
     "name": "stderr",
     "output_type": "stream",
     "text": [
      "                                                       "
     ]
    },
    {
     "name": "stdout",
     "output_type": "stream",
     "text": [
      "MoviePy - Done.\n"
     ]
    },
    {
     "name": "stderr",
     "output_type": "stream",
     "text": [
      "\r"
     ]
    },
    {
     "name": "stdout",
     "output_type": "stream",
     "text": [
      "Moviepy - Building video /home/kurubal/Documents/Modern Ways/Project/Turkish/Image Audio Video/Result/200 Words/Twogram_Threegram/Threegram_Twogram_Selected/Result/Image_Video_Audio/olur mu.mp4.\n",
      "MoviePy - Writing audio in olur muTEMP_MPY_wvf_snd.mp4\n"
     ]
    },
    {
     "name": "stderr",
     "output_type": "stream",
     "text": [
      "                                                       \r"
     ]
    },
    {
     "name": "stdout",
     "output_type": "stream",
     "text": [
      "MoviePy - Done.\n",
      "Moviepy - Writing video /home/kurubal/Documents/Modern Ways/Project/Turkish/Image Audio Video/Result/200 Words/Twogram_Threegram/Threegram_Twogram_Selected/Result/Image_Video_Audio/olur mu.mp4\n",
      "\n"
     ]
    },
    {
     "name": "stderr",
     "output_type": "stream",
     "text": [
      "                                                  "
     ]
    },
    {
     "name": "stdout",
     "output_type": "stream",
     "text": [
      "Moviepy - Done !\n",
      "Moviepy - video ready /home/kurubal/Documents/Modern Ways/Project/Turkish/Image Audio Video/Result/200 Words/Twogram_Threegram/Threegram_Twogram_Selected/Result/Image_Video_Audio/olur mu.mp4\n"
     ]
    },
    {
     "name": "stderr",
     "output_type": "stream",
     "text": [
      "\r"
     ]
    },
    {
     "name": "stdout",
     "output_type": "stream",
     "text": [
      "Moviepy - Building video /home/kurubal/Documents/Modern Ways/Project/Turkish/Image Audio Video/Result/200 Words/Twogram_Threegram/Threegram_Twogram_Selected/Result/Concat_Video/olur mu.mp4.\n",
      "MoviePy - Writing audio in olur muTEMP_MPY_wvf_snd.mp4\n"
     ]
    },
    {
     "name": "stderr",
     "output_type": "stream",
     "text": [
      "                                                        \r"
     ]
    },
    {
     "name": "stdout",
     "output_type": "stream",
     "text": [
      "MoviePy - Done.\n",
      "Moviepy - Writing video /home/kurubal/Documents/Modern Ways/Project/Turkish/Image Audio Video/Result/200 Words/Twogram_Threegram/Threegram_Twogram_Selected/Result/Concat_Video/olur mu.mp4\n",
      "\n"
     ]
    },
    {
     "name": "stderr",
     "output_type": "stream",
     "text": [
      "                                                  \r"
     ]
    },
    {
     "name": "stdout",
     "output_type": "stream",
     "text": [
      "Moviepy - Done !\n",
      "Moviepy - video ready /home/kurubal/Documents/Modern Ways/Project/Turkish/Image Audio Video/Result/200 Words/Twogram_Threegram/Threegram_Twogram_Selected/Result/Concat_Video/olur mu.mp4\n"
     ]
    },
    {
     "data": {
      "application/javascript": "\n        if (window._pyforest_update_imports_cell) { window._pyforest_update_imports_cell('from PIL import Image'); }\n    ",
      "text/plain": [
       "<IPython.core.display.Javascript object>"
      ]
     },
     "metadata": {},
     "output_type": "display_data"
    },
    {
     "data": {
      "application/javascript": "\n        if (window._pyforest_update_imports_cell) { window._pyforest_update_imports_cell('from PIL import Image'); }\n    ",
      "text/plain": [
       "<IPython.core.display.Javascript object>"
      ]
     },
     "metadata": {},
     "output_type": "display_data"
    },
    {
     "data": {
      "application/javascript": "\n        if (window._pyforest_update_imports_cell) { window._pyforest_update_imports_cell('from PIL import Image'); }\n    ",
      "text/plain": [
       "<IPython.core.display.Javascript object>"
      ]
     },
     "metadata": {},
     "output_type": "display_data"
    },
    {
     "data": {
      "application/javascript": "\n        if (window._pyforest_update_imports_cell) { window._pyforest_update_imports_cell('from PIL import Image'); }\n    ",
      "text/plain": [
       "<IPython.core.display.Javascript object>"
      ]
     },
     "metadata": {},
     "output_type": "display_data"
    },
    {
     "name": "stdout",
     "output_type": "stream",
     "text": [
      "MoviePy - Writing audio in /home/kurubal/Documents/Modern Ways/Project/Turkish/Image Audio Video/Result/200 Words/Twogram_Threegram/Threegram_Twogram_Selected/Data/Text_MP3/önemli.mp3\n"
     ]
    },
    {
     "name": "stderr",
     "output_type": "stream",
     "text": [
      "                                                       "
     ]
    },
    {
     "name": "stdout",
     "output_type": "stream",
     "text": [
      "MoviePy - Done.\n"
     ]
    },
    {
     "name": "stderr",
     "output_type": "stream",
     "text": [
      "\r"
     ]
    },
    {
     "name": "stdout",
     "output_type": "stream",
     "text": [
      "MoviePy - Writing audio in /home/kurubal/Documents/Modern Ways/Project/Turkish/Image Audio Video/Result/200 Words/Twogram_Threegram/Threegram_Twogram_Selected/Data/Text_MP3/olan.mp3\n"
     ]
    },
    {
     "name": "stderr",
     "output_type": "stream",
     "text": [
      "                                                       "
     ]
    },
    {
     "name": "stdout",
     "output_type": "stream",
     "text": [
      "MoviePy - Done.\n"
     ]
    },
    {
     "name": "stderr",
     "output_type": "stream",
     "text": [
      "\r"
     ]
    },
    {
     "name": "stdout",
     "output_type": "stream",
     "text": [
      "Moviepy - Building video /home/kurubal/Documents/Modern Ways/Project/Turkish/Image Audio Video/Result/200 Words/Twogram_Threegram/Threegram_Twogram_Selected/Result/Image_Video_Audio/önemli.mp4.\n",
      "MoviePy - Writing audio in önemliTEMP_MPY_wvf_snd.mp4\n"
     ]
    },
    {
     "name": "stderr",
     "output_type": "stream",
     "text": [
      "                                                       \r"
     ]
    },
    {
     "name": "stdout",
     "output_type": "stream",
     "text": [
      "MoviePy - Done.\n",
      "Moviepy - Writing video /home/kurubal/Documents/Modern Ways/Project/Turkish/Image Audio Video/Result/200 Words/Twogram_Threegram/Threegram_Twogram_Selected/Result/Image_Video_Audio/önemli.mp4\n",
      "\n"
     ]
    },
    {
     "name": "stderr",
     "output_type": "stream",
     "text": [
      "                                                  \r"
     ]
    },
    {
     "name": "stdout",
     "output_type": "stream",
     "text": [
      "Moviepy - Done !\n",
      "Moviepy - video ready /home/kurubal/Documents/Modern Ways/Project/Turkish/Image Audio Video/Result/200 Words/Twogram_Threegram/Threegram_Twogram_Selected/Result/Image_Video_Audio/önemli.mp4\n",
      "Moviepy - Building video /home/kurubal/Documents/Modern Ways/Project/Turkish/Image Audio Video/Result/200 Words/Twogram_Threegram/Threegram_Twogram_Selected/Result/Image_Video_Audio/olan.mp4.\n",
      "MoviePy - Writing audio in olanTEMP_MPY_wvf_snd.mp4\n"
     ]
    },
    {
     "name": "stderr",
     "output_type": "stream",
     "text": [
      "                                                       \r"
     ]
    },
    {
     "name": "stdout",
     "output_type": "stream",
     "text": [
      "MoviePy - Done.\n",
      "Moviepy - Writing video /home/kurubal/Documents/Modern Ways/Project/Turkish/Image Audio Video/Result/200 Words/Twogram_Threegram/Threegram_Twogram_Selected/Result/Image_Video_Audio/olan.mp4\n",
      "\n"
     ]
    },
    {
     "name": "stderr",
     "output_type": "stream",
     "text": [
      "                                                  \r"
     ]
    },
    {
     "name": "stdout",
     "output_type": "stream",
     "text": [
      "Moviepy - Done !\n",
      "Moviepy - video ready /home/kurubal/Documents/Modern Ways/Project/Turkish/Image Audio Video/Result/200 Words/Twogram_Threegram/Threegram_Twogram_Selected/Result/Image_Video_Audio/olan.mp4\n",
      "MoviePy - Writing audio in /home/kurubal/Documents/Modern Ways/Project/Turkish/Image Audio Video/Result/200 Words/Twogram_Threegram/Threegram_Twogram_Selected/Data/Text_MP3/önemli olan.mp3\n"
     ]
    },
    {
     "name": "stderr",
     "output_type": "stream",
     "text": [
      "                                                       "
     ]
    },
    {
     "name": "stdout",
     "output_type": "stream",
     "text": [
      "MoviePy - Done.\n"
     ]
    },
    {
     "name": "stderr",
     "output_type": "stream",
     "text": [
      "\r"
     ]
    },
    {
     "name": "stdout",
     "output_type": "stream",
     "text": [
      "Moviepy - Building video /home/kurubal/Documents/Modern Ways/Project/Turkish/Image Audio Video/Result/200 Words/Twogram_Threegram/Threegram_Twogram_Selected/Result/Image_Video_Audio/önemli olan.mp4.\n",
      "MoviePy - Writing audio in önemli olanTEMP_MPY_wvf_snd.mp4\n"
     ]
    },
    {
     "name": "stderr",
     "output_type": "stream",
     "text": [
      "                                                       \r"
     ]
    },
    {
     "name": "stdout",
     "output_type": "stream",
     "text": [
      "MoviePy - Done.\n",
      "Moviepy - Writing video /home/kurubal/Documents/Modern Ways/Project/Turkish/Image Audio Video/Result/200 Words/Twogram_Threegram/Threegram_Twogram_Selected/Result/Image_Video_Audio/önemli olan.mp4\n",
      "\n"
     ]
    },
    {
     "name": "stderr",
     "output_type": "stream",
     "text": [
      "                                                  \r"
     ]
    },
    {
     "name": "stdout",
     "output_type": "stream",
     "text": [
      "Moviepy - Done !\n",
      "Moviepy - video ready /home/kurubal/Documents/Modern Ways/Project/Turkish/Image Audio Video/Result/200 Words/Twogram_Threegram/Threegram_Twogram_Selected/Result/Image_Video_Audio/önemli olan.mp4\n",
      "Moviepy - Building video /home/kurubal/Documents/Modern Ways/Project/Turkish/Image Audio Video/Result/200 Words/Twogram_Threegram/Threegram_Twogram_Selected/Result/Concat_Video/önemli olan.mp4.\n",
      "MoviePy - Writing audio in önemli olanTEMP_MPY_wvf_snd.mp4\n"
     ]
    },
    {
     "name": "stderr",
     "output_type": "stream",
     "text": [
      "                                                        \r"
     ]
    },
    {
     "name": "stdout",
     "output_type": "stream",
     "text": [
      "MoviePy - Done.\n",
      "Moviepy - Writing video /home/kurubal/Documents/Modern Ways/Project/Turkish/Image Audio Video/Result/200 Words/Twogram_Threegram/Threegram_Twogram_Selected/Result/Concat_Video/önemli olan.mp4\n",
      "\n"
     ]
    },
    {
     "name": "stderr",
     "output_type": "stream",
     "text": [
      "                                                  \r"
     ]
    },
    {
     "name": "stdout",
     "output_type": "stream",
     "text": [
      "Moviepy - Done !\n",
      "Moviepy - video ready /home/kurubal/Documents/Modern Ways/Project/Turkish/Image Audio Video/Result/200 Words/Twogram_Threegram/Threegram_Twogram_Selected/Result/Concat_Video/önemli olan.mp4\n",
      "MoviePy - Writing audio in /home/kurubal/Documents/Modern Ways/Project/Turkish/Image Audio Video/Result/200 Words/Twogram_Threegram/Threegram_Twogram_Selected/Data/Text_MP3/orada mısın.mp3\n"
     ]
    },
    {
     "name": "stderr",
     "output_type": "stream",
     "text": [
      "                                                       "
     ]
    },
    {
     "name": "stdout",
     "output_type": "stream",
     "text": [
      "MoviePy - Done.\n"
     ]
    },
    {
     "name": "stderr",
     "output_type": "stream",
     "text": [
      "\r"
     ]
    },
    {
     "name": "stdout",
     "output_type": "stream",
     "text": [
      "Moviepy - Building video /home/kurubal/Documents/Modern Ways/Project/Turkish/Image Audio Video/Result/200 Words/Twogram_Threegram/Threegram_Twogram_Selected/Result/Image_Video_Audio/orada mısın.mp4.\n",
      "MoviePy - Writing audio in orada mısınTEMP_MPY_wvf_snd.mp4\n"
     ]
    },
    {
     "name": "stderr",
     "output_type": "stream",
     "text": [
      "                                                       \r"
     ]
    },
    {
     "name": "stdout",
     "output_type": "stream",
     "text": [
      "MoviePy - Done.\n",
      "Moviepy - Writing video /home/kurubal/Documents/Modern Ways/Project/Turkish/Image Audio Video/Result/200 Words/Twogram_Threegram/Threegram_Twogram_Selected/Result/Image_Video_Audio/orada mısın.mp4\n",
      "\n"
     ]
    },
    {
     "name": "stderr",
     "output_type": "stream",
     "text": [
      "                                                  \r"
     ]
    },
    {
     "name": "stdout",
     "output_type": "stream",
     "text": [
      "Moviepy - Done !\n",
      "Moviepy - video ready /home/kurubal/Documents/Modern Ways/Project/Turkish/Image Audio Video/Result/200 Words/Twogram_Threegram/Threegram_Twogram_Selected/Result/Image_Video_Audio/orada mısın.mp4\n",
      "Moviepy - Building video /home/kurubal/Documents/Modern Ways/Project/Turkish/Image Audio Video/Result/200 Words/Twogram_Threegram/Threegram_Twogram_Selected/Result/Concat_Video/orada mısın.mp4.\n",
      "MoviePy - Writing audio in orada mısınTEMP_MPY_wvf_snd.mp4\n"
     ]
    },
    {
     "name": "stderr",
     "output_type": "stream",
     "text": [
      "                                                        \r"
     ]
    },
    {
     "name": "stdout",
     "output_type": "stream",
     "text": [
      "MoviePy - Done.\n",
      "Moviepy - Writing video /home/kurubal/Documents/Modern Ways/Project/Turkish/Image Audio Video/Result/200 Words/Twogram_Threegram/Threegram_Twogram_Selected/Result/Concat_Video/orada mısın.mp4\n",
      "\n"
     ]
    },
    {
     "name": "stderr",
     "output_type": "stream",
     "text": [
      "                                                  \r"
     ]
    },
    {
     "name": "stdout",
     "output_type": "stream",
     "text": [
      "Moviepy - Done !\n",
      "Moviepy - video ready /home/kurubal/Documents/Modern Ways/Project/Turkish/Image Audio Video/Result/200 Words/Twogram_Threegram/Threegram_Twogram_Selected/Result/Concat_Video/orada mısın.mp4\n"
     ]
    },
    {
     "data": {
      "application/javascript": "\n        if (window._pyforest_update_imports_cell) { window._pyforest_update_imports_cell('from PIL import Image'); }\n    ",
      "text/plain": [
       "<IPython.core.display.Javascript object>"
      ]
     },
     "metadata": {},
     "output_type": "display_data"
    },
    {
     "data": {
      "application/javascript": "\n        if (window._pyforest_update_imports_cell) { window._pyforest_update_imports_cell('from PIL import Image'); }\n    ",
      "text/plain": [
       "<IPython.core.display.Javascript object>"
      ]
     },
     "metadata": {},
     "output_type": "display_data"
    },
    {
     "data": {
      "application/javascript": "\n        if (window._pyforest_update_imports_cell) { window._pyforest_update_imports_cell('from PIL import Image'); }\n    ",
      "text/plain": [
       "<IPython.core.display.Javascript object>"
      ]
     },
     "metadata": {},
     "output_type": "display_data"
    },
    {
     "data": {
      "application/javascript": "\n        if (window._pyforest_update_imports_cell) { window._pyforest_update_imports_cell('from PIL import Image'); }\n    ",
      "text/plain": [
       "<IPython.core.display.Javascript object>"
      ]
     },
     "metadata": {},
     "output_type": "display_data"
    },
    {
     "name": "stdout",
     "output_type": "stream",
     "text": [
      "MoviePy - Writing audio in /home/kurubal/Documents/Modern Ways/Project/Turkish/Image Audio Video/Result/200 Words/Twogram_Threegram/Threegram_Twogram_Selected/Data/Text_MP3/seninle.mp3\n"
     ]
    },
    {
     "name": "stderr",
     "output_type": "stream",
     "text": [
      "                                                       "
     ]
    },
    {
     "name": "stdout",
     "output_type": "stream",
     "text": [
      "MoviePy - Done.\n"
     ]
    },
    {
     "name": "stderr",
     "output_type": "stream",
     "text": [
      "\r"
     ]
    },
    {
     "name": "stdout",
     "output_type": "stream",
     "text": [
      "MoviePy - Writing audio in /home/kurubal/Documents/Modern Ways/Project/Turkish/Image Audio Video/Result/200 Words/Twogram_Threegram/Threegram_Twogram_Selected/Data/Text_MP3/birlikte.mp3\n"
     ]
    },
    {
     "name": "stderr",
     "output_type": "stream",
     "text": [
      "                                                       "
     ]
    },
    {
     "name": "stdout",
     "output_type": "stream",
     "text": [
      "MoviePy - Done.\n"
     ]
    },
    {
     "name": "stderr",
     "output_type": "stream",
     "text": [
      "\r"
     ]
    },
    {
     "name": "stdout",
     "output_type": "stream",
     "text": [
      "Moviepy - Building video /home/kurubal/Documents/Modern Ways/Project/Turkish/Image Audio Video/Result/200 Words/Twogram_Threegram/Threegram_Twogram_Selected/Result/Image_Video_Audio/seninle.mp4.\n",
      "MoviePy - Writing audio in seninleTEMP_MPY_wvf_snd.mp4\n"
     ]
    },
    {
     "name": "stderr",
     "output_type": "stream",
     "text": [
      "                                                       \r"
     ]
    },
    {
     "name": "stdout",
     "output_type": "stream",
     "text": [
      "MoviePy - Done.\n",
      "Moviepy - Writing video /home/kurubal/Documents/Modern Ways/Project/Turkish/Image Audio Video/Result/200 Words/Twogram_Threegram/Threegram_Twogram_Selected/Result/Image_Video_Audio/seninle.mp4\n",
      "\n"
     ]
    },
    {
     "name": "stderr",
     "output_type": "stream",
     "text": [
      "                                                  \r"
     ]
    },
    {
     "name": "stdout",
     "output_type": "stream",
     "text": [
      "Moviepy - Done !\n",
      "Moviepy - video ready /home/kurubal/Documents/Modern Ways/Project/Turkish/Image Audio Video/Result/200 Words/Twogram_Threegram/Threegram_Twogram_Selected/Result/Image_Video_Audio/seninle.mp4\n",
      "Moviepy - Building video /home/kurubal/Documents/Modern Ways/Project/Turkish/Image Audio Video/Result/200 Words/Twogram_Threegram/Threegram_Twogram_Selected/Result/Image_Video_Audio/birlikte.mp4.\n",
      "MoviePy - Writing audio in birlikteTEMP_MPY_wvf_snd.mp4\n"
     ]
    },
    {
     "name": "stderr",
     "output_type": "stream",
     "text": [
      "                                                       \r"
     ]
    },
    {
     "name": "stdout",
     "output_type": "stream",
     "text": [
      "MoviePy - Done.\n",
      "Moviepy - Writing video /home/kurubal/Documents/Modern Ways/Project/Turkish/Image Audio Video/Result/200 Words/Twogram_Threegram/Threegram_Twogram_Selected/Result/Image_Video_Audio/birlikte.mp4\n",
      "\n"
     ]
    },
    {
     "name": "stderr",
     "output_type": "stream",
     "text": [
      "                                                  \r"
     ]
    },
    {
     "name": "stdout",
     "output_type": "stream",
     "text": [
      "Moviepy - Done !\n",
      "Moviepy - video ready /home/kurubal/Documents/Modern Ways/Project/Turkish/Image Audio Video/Result/200 Words/Twogram_Threegram/Threegram_Twogram_Selected/Result/Image_Video_Audio/birlikte.mp4\n",
      "MoviePy - Writing audio in /home/kurubal/Documents/Modern Ways/Project/Turkish/Image Audio Video/Result/200 Words/Twogram_Threegram/Threegram_Twogram_Selected/Data/Text_MP3/seninle birlikte.mp3\n"
     ]
    },
    {
     "name": "stderr",
     "output_type": "stream",
     "text": [
      "                                                       "
     ]
    },
    {
     "name": "stdout",
     "output_type": "stream",
     "text": [
      "MoviePy - Done.\n"
     ]
    },
    {
     "name": "stderr",
     "output_type": "stream",
     "text": [
      "\r"
     ]
    },
    {
     "name": "stdout",
     "output_type": "stream",
     "text": [
      "Moviepy - Building video /home/kurubal/Documents/Modern Ways/Project/Turkish/Image Audio Video/Result/200 Words/Twogram_Threegram/Threegram_Twogram_Selected/Result/Image_Video_Audio/seninle birlikte.mp4.\n",
      "MoviePy - Writing audio in seninle birlikteTEMP_MPY_wvf_snd.mp4\n"
     ]
    },
    {
     "name": "stderr",
     "output_type": "stream",
     "text": [
      "                                                       \r"
     ]
    },
    {
     "name": "stdout",
     "output_type": "stream",
     "text": [
      "MoviePy - Done.\n",
      "Moviepy - Writing video /home/kurubal/Documents/Modern Ways/Project/Turkish/Image Audio Video/Result/200 Words/Twogram_Threegram/Threegram_Twogram_Selected/Result/Image_Video_Audio/seninle birlikte.mp4\n",
      "\n"
     ]
    },
    {
     "name": "stderr",
     "output_type": "stream",
     "text": [
      "                                                  \r"
     ]
    },
    {
     "name": "stdout",
     "output_type": "stream",
     "text": [
      "Moviepy - Done !\n",
      "Moviepy - video ready /home/kurubal/Documents/Modern Ways/Project/Turkish/Image Audio Video/Result/200 Words/Twogram_Threegram/Threegram_Twogram_Selected/Result/Image_Video_Audio/seninle birlikte.mp4\n",
      "Moviepy - Building video /home/kurubal/Documents/Modern Ways/Project/Turkish/Image Audio Video/Result/200 Words/Twogram_Threegram/Threegram_Twogram_Selected/Result/Concat_Video/seninle birlikte.mp4.\n",
      "MoviePy - Writing audio in seninle birlikteTEMP_MPY_wvf_snd.mp4\n"
     ]
    },
    {
     "name": "stderr",
     "output_type": "stream",
     "text": [
      "                                                        \r"
     ]
    },
    {
     "name": "stdout",
     "output_type": "stream",
     "text": [
      "MoviePy - Done.\n",
      "Moviepy - Writing video /home/kurubal/Documents/Modern Ways/Project/Turkish/Image Audio Video/Result/200 Words/Twogram_Threegram/Threegram_Twogram_Selected/Result/Concat_Video/seninle birlikte.mp4\n",
      "\n"
     ]
    },
    {
     "name": "stderr",
     "output_type": "stream",
     "text": [
      "                                                           \r"
     ]
    },
    {
     "name": "stdout",
     "output_type": "stream",
     "text": [
      "Moviepy - Done !\n",
      "Moviepy - video ready /home/kurubal/Documents/Modern Ways/Project/Turkish/Image Audio Video/Result/200 Words/Twogram_Threegram/Threegram_Twogram_Selected/Result/Concat_Video/seninle birlikte.mp4\n",
      "MoviePy - Writing audio in /home/kurubal/Documents/Modern Ways/Project/Turkish/Image Audio Video/Result/200 Words/Twogram_Threegram/Threegram_Twogram_Selected/Data/Text_MP3/şimdi olmaz.mp3\n"
     ]
    },
    {
     "name": "stderr",
     "output_type": "stream",
     "text": [
      "                                                       "
     ]
    },
    {
     "name": "stdout",
     "output_type": "stream",
     "text": [
      "MoviePy - Done.\n"
     ]
    },
    {
     "name": "stderr",
     "output_type": "stream",
     "text": [
      "\r"
     ]
    },
    {
     "name": "stdout",
     "output_type": "stream",
     "text": [
      "Moviepy - Building video /home/kurubal/Documents/Modern Ways/Project/Turkish/Image Audio Video/Result/200 Words/Twogram_Threegram/Threegram_Twogram_Selected/Result/Image_Video_Audio/şimdi olmaz.mp4.\n",
      "MoviePy - Writing audio in şimdi olmazTEMP_MPY_wvf_snd.mp4\n"
     ]
    },
    {
     "name": "stderr",
     "output_type": "stream",
     "text": [
      "                                                       \r"
     ]
    },
    {
     "name": "stdout",
     "output_type": "stream",
     "text": [
      "MoviePy - Done.\n",
      "Moviepy - Writing video /home/kurubal/Documents/Modern Ways/Project/Turkish/Image Audio Video/Result/200 Words/Twogram_Threegram/Threegram_Twogram_Selected/Result/Image_Video_Audio/şimdi olmaz.mp4\n",
      "\n"
     ]
    },
    {
     "name": "stderr",
     "output_type": "stream",
     "text": [
      "                                                  \r"
     ]
    },
    {
     "name": "stdout",
     "output_type": "stream",
     "text": [
      "Moviepy - Done !\n",
      "Moviepy - video ready /home/kurubal/Documents/Modern Ways/Project/Turkish/Image Audio Video/Result/200 Words/Twogram_Threegram/Threegram_Twogram_Selected/Result/Image_Video_Audio/şimdi olmaz.mp4\n",
      "Moviepy - Building video /home/kurubal/Documents/Modern Ways/Project/Turkish/Image Audio Video/Result/200 Words/Twogram_Threegram/Threegram_Twogram_Selected/Result/Concat_Video/şimdi olmaz.mp4.\n",
      "MoviePy - Writing audio in şimdi olmazTEMP_MPY_wvf_snd.mp4\n"
     ]
    },
    {
     "name": "stderr",
     "output_type": "stream",
     "text": [
      "                                                        \r"
     ]
    },
    {
     "name": "stdout",
     "output_type": "stream",
     "text": [
      "MoviePy - Done.\n",
      "Moviepy - Writing video /home/kurubal/Documents/Modern Ways/Project/Turkish/Image Audio Video/Result/200 Words/Twogram_Threegram/Threegram_Twogram_Selected/Result/Concat_Video/şimdi olmaz.mp4\n",
      "\n"
     ]
    },
    {
     "name": "stderr",
     "output_type": "stream",
     "text": [
      "                                                          \r"
     ]
    },
    {
     "name": "stdout",
     "output_type": "stream",
     "text": [
      "Moviepy - Done !\n",
      "Moviepy - video ready /home/kurubal/Documents/Modern Ways/Project/Turkish/Image Audio Video/Result/200 Words/Twogram_Threegram/Threegram_Twogram_Selected/Result/Concat_Video/şimdi olmaz.mp4\n",
      "MoviePy - Writing audio in /home/kurubal/Documents/Modern Ways/Project/Turkish/Image Audio Video/Result/200 Words/Twogram_Threegram/Threegram_Twogram_Selected/Data/Text_MP3/tam burada.mp3\n"
     ]
    },
    {
     "name": "stderr",
     "output_type": "stream",
     "text": [
      "                                                       "
     ]
    },
    {
     "name": "stdout",
     "output_type": "stream",
     "text": [
      "MoviePy - Done.\n"
     ]
    },
    {
     "name": "stderr",
     "output_type": "stream",
     "text": [
      "\r"
     ]
    },
    {
     "name": "stdout",
     "output_type": "stream",
     "text": [
      "Moviepy - Building video /home/kurubal/Documents/Modern Ways/Project/Turkish/Image Audio Video/Result/200 Words/Twogram_Threegram/Threegram_Twogram_Selected/Result/Image_Video_Audio/tam burada.mp4.\n",
      "MoviePy - Writing audio in tam buradaTEMP_MPY_wvf_snd.mp4\n"
     ]
    },
    {
     "name": "stderr",
     "output_type": "stream",
     "text": [
      "                                                       \r"
     ]
    },
    {
     "name": "stdout",
     "output_type": "stream",
     "text": [
      "MoviePy - Done.\n",
      "Moviepy - Writing video /home/kurubal/Documents/Modern Ways/Project/Turkish/Image Audio Video/Result/200 Words/Twogram_Threegram/Threegram_Twogram_Selected/Result/Image_Video_Audio/tam burada.mp4\n",
      "\n"
     ]
    },
    {
     "name": "stderr",
     "output_type": "stream",
     "text": [
      "                                                  \r"
     ]
    },
    {
     "name": "stdout",
     "output_type": "stream",
     "text": [
      "Moviepy - Done !\n",
      "Moviepy - video ready /home/kurubal/Documents/Modern Ways/Project/Turkish/Image Audio Video/Result/200 Words/Twogram_Threegram/Threegram_Twogram_Selected/Result/Image_Video_Audio/tam burada.mp4\n",
      "Moviepy - Building video /home/kurubal/Documents/Modern Ways/Project/Turkish/Image Audio Video/Result/200 Words/Twogram_Threegram/Threegram_Twogram_Selected/Result/Concat_Video/tam burada.mp4.\n",
      "MoviePy - Writing audio in tam buradaTEMP_MPY_wvf_snd.mp4\n"
     ]
    },
    {
     "name": "stderr",
     "output_type": "stream",
     "text": [
      "                                                        \r"
     ]
    },
    {
     "name": "stdout",
     "output_type": "stream",
     "text": [
      "MoviePy - Done.\n",
      "Moviepy - Writing video /home/kurubal/Documents/Modern Ways/Project/Turkish/Image Audio Video/Result/200 Words/Twogram_Threegram/Threegram_Twogram_Selected/Result/Concat_Video/tam burada.mp4\n",
      "\n"
     ]
    },
    {
     "name": "stderr",
     "output_type": "stream",
     "text": [
      "                                                  \r"
     ]
    },
    {
     "name": "stdout",
     "output_type": "stream",
     "text": [
      "Moviepy - Done !\n",
      "Moviepy - video ready /home/kurubal/Documents/Modern Ways/Project/Turkish/Image Audio Video/Result/200 Words/Twogram_Threegram/Threegram_Twogram_Selected/Result/Concat_Video/tam burada.mp4\n",
      "MoviePy - Writing audio in /home/kurubal/Documents/Modern Ways/Project/Turkish/Image Audio Video/Result/200 Words/Twogram_Threegram/Threegram_Twogram_Selected/Data/Text_MP3/tamam güzel.mp3\n"
     ]
    },
    {
     "name": "stderr",
     "output_type": "stream",
     "text": [
      "                                                       "
     ]
    },
    {
     "name": "stdout",
     "output_type": "stream",
     "text": [
      "MoviePy - Done.\n"
     ]
    },
    {
     "name": "stderr",
     "output_type": "stream",
     "text": [
      "\r"
     ]
    },
    {
     "name": "stdout",
     "output_type": "stream",
     "text": [
      "Moviepy - Building video /home/kurubal/Documents/Modern Ways/Project/Turkish/Image Audio Video/Result/200 Words/Twogram_Threegram/Threegram_Twogram_Selected/Result/Image_Video_Audio/tamam güzel.mp4.\n",
      "MoviePy - Writing audio in tamam güzelTEMP_MPY_wvf_snd.mp4\n"
     ]
    },
    {
     "name": "stderr",
     "output_type": "stream",
     "text": [
      "                                                       \r"
     ]
    },
    {
     "name": "stdout",
     "output_type": "stream",
     "text": [
      "MoviePy - Done.\n",
      "Moviepy - Writing video /home/kurubal/Documents/Modern Ways/Project/Turkish/Image Audio Video/Result/200 Words/Twogram_Threegram/Threegram_Twogram_Selected/Result/Image_Video_Audio/tamam güzel.mp4\n",
      "\n"
     ]
    },
    {
     "name": "stderr",
     "output_type": "stream",
     "text": [
      "                                                  \r"
     ]
    },
    {
     "name": "stdout",
     "output_type": "stream",
     "text": [
      "Moviepy - Done !\n",
      "Moviepy - video ready /home/kurubal/Documents/Modern Ways/Project/Turkish/Image Audio Video/Result/200 Words/Twogram_Threegram/Threegram_Twogram_Selected/Result/Image_Video_Audio/tamam güzel.mp4\n",
      "Moviepy - Building video /home/kurubal/Documents/Modern Ways/Project/Turkish/Image Audio Video/Result/200 Words/Twogram_Threegram/Threegram_Twogram_Selected/Result/Concat_Video/tamam güzel.mp4.\n",
      "MoviePy - Writing audio in tamam güzelTEMP_MPY_wvf_snd.mp4\n"
     ]
    },
    {
     "name": "stderr",
     "output_type": "stream",
     "text": [
      "                                                        \r"
     ]
    },
    {
     "name": "stdout",
     "output_type": "stream",
     "text": [
      "MoviePy - Done.\n",
      "Moviepy - Writing video /home/kurubal/Documents/Modern Ways/Project/Turkish/Image Audio Video/Result/200 Words/Twogram_Threegram/Threegram_Twogram_Selected/Result/Concat_Video/tamam güzel.mp4\n",
      "\n"
     ]
    },
    {
     "name": "stderr",
     "output_type": "stream",
     "text": [
      "                                                  \r"
     ]
    },
    {
     "name": "stdout",
     "output_type": "stream",
     "text": [
      "Moviepy - Done !\n",
      "Moviepy - video ready /home/kurubal/Documents/Modern Ways/Project/Turkish/Image Audio Video/Result/200 Words/Twogram_Threegram/Threegram_Twogram_Selected/Result/Concat_Video/tamam güzel.mp4\n"
     ]
    },
    {
     "data": {
      "application/javascript": "\n        if (window._pyforest_update_imports_cell) { window._pyforest_update_imports_cell('from PIL import Image'); }\n    ",
      "text/plain": [
       "<IPython.core.display.Javascript object>"
      ]
     },
     "metadata": {},
     "output_type": "display_data"
    },
    {
     "data": {
      "application/javascript": "\n        if (window._pyforest_update_imports_cell) { window._pyforest_update_imports_cell('from PIL import Image'); }\n    ",
      "text/plain": [
       "<IPython.core.display.Javascript object>"
      ]
     },
     "metadata": {},
     "output_type": "display_data"
    },
    {
     "data": {
      "application/javascript": "\n        if (window._pyforest_update_imports_cell) { window._pyforest_update_imports_cell('from PIL import Image'); }\n    ",
      "text/plain": [
       "<IPython.core.display.Javascript object>"
      ]
     },
     "metadata": {},
     "output_type": "display_data"
    },
    {
     "data": {
      "application/javascript": "\n        if (window._pyforest_update_imports_cell) { window._pyforest_update_imports_cell('from PIL import Image'); }\n    ",
      "text/plain": [
       "<IPython.core.display.Javascript object>"
      ]
     },
     "metadata": {},
     "output_type": "display_data"
    },
    {
     "name": "stdout",
     "output_type": "stream",
     "text": [
      "MoviePy - Writing audio in /home/kurubal/Documents/Modern Ways/Project/Turkish/Image Audio Video/Result/200 Words/Twogram_Threegram/Threegram_Twogram_Selected/Data/Text_MP3/tüm.mp3\n"
     ]
    },
    {
     "name": "stderr",
     "output_type": "stream",
     "text": [
      "                                                       "
     ]
    },
    {
     "name": "stdout",
     "output_type": "stream",
     "text": [
      "MoviePy - Done.\n"
     ]
    },
    {
     "name": "stderr",
     "output_type": "stream",
     "text": [
      "\r"
     ]
    },
    {
     "name": "stdout",
     "output_type": "stream",
     "text": [
      "MoviePy - Writing audio in /home/kurubal/Documents/Modern Ways/Project/Turkish/Image Audio Video/Result/200 Words/Twogram_Threegram/Threegram_Twogram_Selected/Data/Text_MP3/gece.mp3\n"
     ]
    },
    {
     "name": "stderr",
     "output_type": "stream",
     "text": [
      "                                                       "
     ]
    },
    {
     "name": "stdout",
     "output_type": "stream",
     "text": [
      "MoviePy - Done.\n"
     ]
    },
    {
     "name": "stderr",
     "output_type": "stream",
     "text": [
      "\r"
     ]
    },
    {
     "name": "stdout",
     "output_type": "stream",
     "text": [
      "Moviepy - Building video /home/kurubal/Documents/Modern Ways/Project/Turkish/Image Audio Video/Result/200 Words/Twogram_Threegram/Threegram_Twogram_Selected/Result/Image_Video_Audio/tüm.mp4.\n",
      "MoviePy - Writing audio in tümTEMP_MPY_wvf_snd.mp4\n"
     ]
    },
    {
     "name": "stderr",
     "output_type": "stream",
     "text": [
      "                                                       \r"
     ]
    },
    {
     "name": "stdout",
     "output_type": "stream",
     "text": [
      "MoviePy - Done.\n",
      "Moviepy - Writing video /home/kurubal/Documents/Modern Ways/Project/Turkish/Image Audio Video/Result/200 Words/Twogram_Threegram/Threegram_Twogram_Selected/Result/Image_Video_Audio/tüm.mp4\n",
      "\n"
     ]
    },
    {
     "name": "stderr",
     "output_type": "stream",
     "text": [
      "                                                  \r"
     ]
    },
    {
     "name": "stdout",
     "output_type": "stream",
     "text": [
      "Moviepy - Done !\n",
      "Moviepy - video ready /home/kurubal/Documents/Modern Ways/Project/Turkish/Image Audio Video/Result/200 Words/Twogram_Threegram/Threegram_Twogram_Selected/Result/Image_Video_Audio/tüm.mp4\n",
      "Moviepy - Building video /home/kurubal/Documents/Modern Ways/Project/Turkish/Image Audio Video/Result/200 Words/Twogram_Threegram/Threegram_Twogram_Selected/Result/Image_Video_Audio/gece.mp4.\n",
      "MoviePy - Writing audio in geceTEMP_MPY_wvf_snd.mp4\n"
     ]
    },
    {
     "name": "stderr",
     "output_type": "stream",
     "text": [
      "                                                       \r"
     ]
    },
    {
     "name": "stdout",
     "output_type": "stream",
     "text": [
      "MoviePy - Done.\n",
      "Moviepy - Writing video /home/kurubal/Documents/Modern Ways/Project/Turkish/Image Audio Video/Result/200 Words/Twogram_Threegram/Threegram_Twogram_Selected/Result/Image_Video_Audio/gece.mp4\n",
      "\n"
     ]
    },
    {
     "name": "stderr",
     "output_type": "stream",
     "text": [
      "                                                  \r"
     ]
    },
    {
     "name": "stdout",
     "output_type": "stream",
     "text": [
      "Moviepy - Done !\n",
      "Moviepy - video ready /home/kurubal/Documents/Modern Ways/Project/Turkish/Image Audio Video/Result/200 Words/Twogram_Threegram/Threegram_Twogram_Selected/Result/Image_Video_Audio/gece.mp4\n",
      "MoviePy - Writing audio in /home/kurubal/Documents/Modern Ways/Project/Turkish/Image Audio Video/Result/200 Words/Twogram_Threegram/Threegram_Twogram_Selected/Data/Text_MP3/tüm gece.mp3\n"
     ]
    },
    {
     "name": "stderr",
     "output_type": "stream",
     "text": [
      "                                                       "
     ]
    },
    {
     "name": "stdout",
     "output_type": "stream",
     "text": [
      "MoviePy - Done.\n"
     ]
    },
    {
     "name": "stderr",
     "output_type": "stream",
     "text": [
      "\r"
     ]
    },
    {
     "name": "stdout",
     "output_type": "stream",
     "text": [
      "Moviepy - Building video /home/kurubal/Documents/Modern Ways/Project/Turkish/Image Audio Video/Result/200 Words/Twogram_Threegram/Threegram_Twogram_Selected/Result/Image_Video_Audio/tüm gece.mp4.\n",
      "MoviePy - Writing audio in tüm geceTEMP_MPY_wvf_snd.mp4\n"
     ]
    },
    {
     "name": "stderr",
     "output_type": "stream",
     "text": [
      "                                                       \r"
     ]
    },
    {
     "name": "stdout",
     "output_type": "stream",
     "text": [
      "MoviePy - Done.\n",
      "Moviepy - Writing video /home/kurubal/Documents/Modern Ways/Project/Turkish/Image Audio Video/Result/200 Words/Twogram_Threegram/Threegram_Twogram_Selected/Result/Image_Video_Audio/tüm gece.mp4\n",
      "\n"
     ]
    },
    {
     "name": "stderr",
     "output_type": "stream",
     "text": [
      "                                                  \r"
     ]
    },
    {
     "name": "stdout",
     "output_type": "stream",
     "text": [
      "Moviepy - Done !\n",
      "Moviepy - video ready /home/kurubal/Documents/Modern Ways/Project/Turkish/Image Audio Video/Result/200 Words/Twogram_Threegram/Threegram_Twogram_Selected/Result/Image_Video_Audio/tüm gece.mp4\n",
      "Moviepy - Building video /home/kurubal/Documents/Modern Ways/Project/Turkish/Image Audio Video/Result/200 Words/Twogram_Threegram/Threegram_Twogram_Selected/Result/Concat_Video/tüm gece.mp4.\n",
      "MoviePy - Writing audio in tüm geceTEMP_MPY_wvf_snd.mp4\n"
     ]
    },
    {
     "name": "stderr",
     "output_type": "stream",
     "text": [
      "                                                        \r"
     ]
    },
    {
     "name": "stdout",
     "output_type": "stream",
     "text": [
      "MoviePy - Done.\n",
      "Moviepy - Writing video /home/kurubal/Documents/Modern Ways/Project/Turkish/Image Audio Video/Result/200 Words/Twogram_Threegram/Threegram_Twogram_Selected/Result/Concat_Video/tüm gece.mp4\n",
      "\n"
     ]
    },
    {
     "name": "stderr",
     "output_type": "stream",
     "text": [
      "                                                  \r"
     ]
    },
    {
     "name": "stdout",
     "output_type": "stream",
     "text": [
      "Moviepy - Done !\n",
      "Moviepy - video ready /home/kurubal/Documents/Modern Ways/Project/Turkish/Image Audio Video/Result/200 Words/Twogram_Threegram/Threegram_Twogram_Selected/Result/Concat_Video/tüm gece.mp4\n",
      "MoviePy - Writing audio in /home/kurubal/Documents/Modern Ways/Project/Turkish/Image Audio Video/Result/200 Words/Twogram_Threegram/Threegram_Twogram_Selected/Data/Text_MP3/var mı.mp3\n"
     ]
    },
    {
     "name": "stderr",
     "output_type": "stream",
     "text": [
      "                                                       "
     ]
    },
    {
     "name": "stdout",
     "output_type": "stream",
     "text": [
      "MoviePy - Done.\n"
     ]
    },
    {
     "name": "stderr",
     "output_type": "stream",
     "text": [
      "\r"
     ]
    },
    {
     "name": "stdout",
     "output_type": "stream",
     "text": [
      "Moviepy - Building video /home/kurubal/Documents/Modern Ways/Project/Turkish/Image Audio Video/Result/200 Words/Twogram_Threegram/Threegram_Twogram_Selected/Result/Image_Video_Audio/var mı.mp4.\n",
      "MoviePy - Writing audio in var mıTEMP_MPY_wvf_snd.mp4\n"
     ]
    },
    {
     "name": "stderr",
     "output_type": "stream",
     "text": [
      "                                                       \r"
     ]
    },
    {
     "name": "stdout",
     "output_type": "stream",
     "text": [
      "MoviePy - Done.\n",
      "Moviepy - Writing video /home/kurubal/Documents/Modern Ways/Project/Turkish/Image Audio Video/Result/200 Words/Twogram_Threegram/Threegram_Twogram_Selected/Result/Image_Video_Audio/var mı.mp4\n",
      "\n"
     ]
    },
    {
     "name": "stderr",
     "output_type": "stream",
     "text": [
      "                                                  "
     ]
    },
    {
     "name": "stdout",
     "output_type": "stream",
     "text": [
      "Moviepy - Done !\n",
      "Moviepy - video ready /home/kurubal/Documents/Modern Ways/Project/Turkish/Image Audio Video/Result/200 Words/Twogram_Threegram/Threegram_Twogram_Selected/Result/Image_Video_Audio/var mı.mp4\n"
     ]
    },
    {
     "name": "stderr",
     "output_type": "stream",
     "text": [
      "\r"
     ]
    },
    {
     "name": "stdout",
     "output_type": "stream",
     "text": [
      "Moviepy - Building video /home/kurubal/Documents/Modern Ways/Project/Turkish/Image Audio Video/Result/200 Words/Twogram_Threegram/Threegram_Twogram_Selected/Result/Concat_Video/var mı.mp4.\n",
      "MoviePy - Writing audio in var mıTEMP_MPY_wvf_snd.mp4\n"
     ]
    },
    {
     "name": "stderr",
     "output_type": "stream",
     "text": [
      "                                                        \r"
     ]
    },
    {
     "name": "stdout",
     "output_type": "stream",
     "text": [
      "MoviePy - Done.\n",
      "Moviepy - Writing video /home/kurubal/Documents/Modern Ways/Project/Turkish/Image Audio Video/Result/200 Words/Twogram_Threegram/Threegram_Twogram_Selected/Result/Concat_Video/var mı.mp4\n",
      "\n"
     ]
    },
    {
     "name": "stderr",
     "output_type": "stream",
     "text": [
      "                                                  \r"
     ]
    },
    {
     "name": "stdout",
     "output_type": "stream",
     "text": [
      "Moviepy - Done !\n",
      "Moviepy - video ready /home/kurubal/Documents/Modern Ways/Project/Turkish/Image Audio Video/Result/200 Words/Twogram_Threegram/Threegram_Twogram_Selected/Result/Concat_Video/var mı.mp4\n"
     ]
    },
    {
     "data": {
      "application/javascript": "\n        if (window._pyforest_update_imports_cell) { window._pyforest_update_imports_cell('from PIL import Image'); }\n    ",
      "text/plain": [
       "<IPython.core.display.Javascript object>"
      ]
     },
     "metadata": {},
     "output_type": "display_data"
    },
    {
     "data": {
      "application/javascript": "\n        if (window._pyforest_update_imports_cell) { window._pyforest_update_imports_cell('from PIL import Image'); }\n    ",
      "text/plain": [
       "<IPython.core.display.Javascript object>"
      ]
     },
     "metadata": {},
     "output_type": "display_data"
    },
    {
     "name": "stdout",
     "output_type": "stream",
     "text": [
      "MoviePy - Writing audio in /home/kurubal/Documents/Modern Ways/Project/Turkish/Image Audio Video/Result/200 Words/Twogram_Threegram/Threegram_Twogram_Selected/Data/Text_MP3/şunu.mp3\n"
     ]
    },
    {
     "name": "stderr",
     "output_type": "stream",
     "text": [
      "                                                       "
     ]
    },
    {
     "name": "stdout",
     "output_type": "stream",
     "text": [
      "MoviePy - Done.\n"
     ]
    },
    {
     "name": "stderr",
     "output_type": "stream",
     "text": [
      "\r"
     ]
    },
    {
     "name": "stdout",
     "output_type": "stream",
     "text": [
      "Moviepy - Building video /home/kurubal/Documents/Modern Ways/Project/Turkish/Image Audio Video/Result/200 Words/Twogram_Threegram/Threegram_Twogram_Selected/Result/Image_Video_Audio/şunu.mp4.\n",
      "MoviePy - Writing audio in şunuTEMP_MPY_wvf_snd.mp4\n"
     ]
    },
    {
     "name": "stderr",
     "output_type": "stream",
     "text": [
      "                                                       \r"
     ]
    },
    {
     "name": "stdout",
     "output_type": "stream",
     "text": [
      "MoviePy - Done.\n",
      "Moviepy - Writing video /home/kurubal/Documents/Modern Ways/Project/Turkish/Image Audio Video/Result/200 Words/Twogram_Threegram/Threegram_Twogram_Selected/Result/Image_Video_Audio/şunu.mp4\n",
      "\n"
     ]
    },
    {
     "name": "stderr",
     "output_type": "stream",
     "text": [
      "                                                  \r"
     ]
    },
    {
     "name": "stdout",
     "output_type": "stream",
     "text": [
      "Moviepy - Done !\n",
      "Moviepy - video ready /home/kurubal/Documents/Modern Ways/Project/Turkish/Image Audio Video/Result/200 Words/Twogram_Threegram/Threegram_Twogram_Selected/Result/Image_Video_Audio/şunu.mp4\n",
      "MoviePy - Writing audio in /home/kurubal/Documents/Modern Ways/Project/Turkish/Image Audio Video/Result/200 Words/Twogram_Threegram/Threegram_Twogram_Selected/Data/Text_MP3/ver şunu.mp3\n"
     ]
    },
    {
     "name": "stderr",
     "output_type": "stream",
     "text": [
      "                                                       "
     ]
    },
    {
     "name": "stdout",
     "output_type": "stream",
     "text": [
      "MoviePy - Done.\n"
     ]
    },
    {
     "name": "stderr",
     "output_type": "stream",
     "text": [
      "\r"
     ]
    },
    {
     "name": "stdout",
     "output_type": "stream",
     "text": [
      "Moviepy - Building video /home/kurubal/Documents/Modern Ways/Project/Turkish/Image Audio Video/Result/200 Words/Twogram_Threegram/Threegram_Twogram_Selected/Result/Image_Video_Audio/ver şunu.mp4.\n",
      "MoviePy - Writing audio in ver şunuTEMP_MPY_wvf_snd.mp4\n"
     ]
    },
    {
     "name": "stderr",
     "output_type": "stream",
     "text": [
      "                                                       \r"
     ]
    },
    {
     "name": "stdout",
     "output_type": "stream",
     "text": [
      "MoviePy - Done.\n",
      "Moviepy - Writing video /home/kurubal/Documents/Modern Ways/Project/Turkish/Image Audio Video/Result/200 Words/Twogram_Threegram/Threegram_Twogram_Selected/Result/Image_Video_Audio/ver şunu.mp4\n",
      "\n"
     ]
    },
    {
     "name": "stderr",
     "output_type": "stream",
     "text": [
      "                                                  \r"
     ]
    },
    {
     "name": "stdout",
     "output_type": "stream",
     "text": [
      "Moviepy - Done !\n",
      "Moviepy - video ready /home/kurubal/Documents/Modern Ways/Project/Turkish/Image Audio Video/Result/200 Words/Twogram_Threegram/Threegram_Twogram_Selected/Result/Image_Video_Audio/ver şunu.mp4\n",
      "Moviepy - Building video /home/kurubal/Documents/Modern Ways/Project/Turkish/Image Audio Video/Result/200 Words/Twogram_Threegram/Threegram_Twogram_Selected/Result/Concat_Video/ver şunu.mp4.\n",
      "MoviePy - Writing audio in ver şunuTEMP_MPY_wvf_snd.mp4\n"
     ]
    },
    {
     "name": "stderr",
     "output_type": "stream",
     "text": [
      "                                                        \r"
     ]
    },
    {
     "name": "stdout",
     "output_type": "stream",
     "text": [
      "MoviePy - Done.\n",
      "Moviepy - Writing video /home/kurubal/Documents/Modern Ways/Project/Turkish/Image Audio Video/Result/200 Words/Twogram_Threegram/Threegram_Twogram_Selected/Result/Concat_Video/ver şunu.mp4\n",
      "\n"
     ]
    },
    {
     "name": "stderr",
     "output_type": "stream",
     "text": [
      "                                                  \r"
     ]
    },
    {
     "name": "stdout",
     "output_type": "stream",
     "text": [
      "Moviepy - Done !\n",
      "Moviepy - video ready /home/kurubal/Documents/Modern Ways/Project/Turkish/Image Audio Video/Result/200 Words/Twogram_Threegram/Threegram_Twogram_Selected/Result/Concat_Video/ver şunu.mp4\n",
      "MoviePy - Writing audio in /home/kurubal/Documents/Modern Ways/Project/Turkish/Image Audio Video/Result/200 Words/Twogram_Threegram/Threegram_Twogram_Selected/Data/Text_MP3/yeni geldi.mp3\n"
     ]
    },
    {
     "name": "stderr",
     "output_type": "stream",
     "text": [
      "                                                       "
     ]
    },
    {
     "name": "stdout",
     "output_type": "stream",
     "text": [
      "MoviePy - Done.\n"
     ]
    },
    {
     "name": "stderr",
     "output_type": "stream",
     "text": [
      "\r"
     ]
    },
    {
     "name": "stdout",
     "output_type": "stream",
     "text": [
      "Moviepy - Building video /home/kurubal/Documents/Modern Ways/Project/Turkish/Image Audio Video/Result/200 Words/Twogram_Threegram/Threegram_Twogram_Selected/Result/Image_Video_Audio/yeni geldi.mp4.\n",
      "MoviePy - Writing audio in yeni geldiTEMP_MPY_wvf_snd.mp4\n"
     ]
    },
    {
     "name": "stderr",
     "output_type": "stream",
     "text": [
      "                                                       \r"
     ]
    },
    {
     "name": "stdout",
     "output_type": "stream",
     "text": [
      "MoviePy - Done.\n",
      "Moviepy - Writing video /home/kurubal/Documents/Modern Ways/Project/Turkish/Image Audio Video/Result/200 Words/Twogram_Threegram/Threegram_Twogram_Selected/Result/Image_Video_Audio/yeni geldi.mp4\n",
      "\n"
     ]
    },
    {
     "name": "stderr",
     "output_type": "stream",
     "text": [
      "                                                  \r"
     ]
    },
    {
     "name": "stdout",
     "output_type": "stream",
     "text": [
      "Moviepy - Done !\n",
      "Moviepy - video ready /home/kurubal/Documents/Modern Ways/Project/Turkish/Image Audio Video/Result/200 Words/Twogram_Threegram/Threegram_Twogram_Selected/Result/Image_Video_Audio/yeni geldi.mp4\n",
      "Moviepy - Building video /home/kurubal/Documents/Modern Ways/Project/Turkish/Image Audio Video/Result/200 Words/Twogram_Threegram/Threegram_Twogram_Selected/Result/Concat_Video/yeni geldi.mp4.\n",
      "MoviePy - Writing audio in yeni geldiTEMP_MPY_wvf_snd.mp4\n"
     ]
    },
    {
     "name": "stderr",
     "output_type": "stream",
     "text": [
      "                                                        \r"
     ]
    },
    {
     "name": "stdout",
     "output_type": "stream",
     "text": [
      "MoviePy - Done.\n",
      "Moviepy - Writing video /home/kurubal/Documents/Modern Ways/Project/Turkish/Image Audio Video/Result/200 Words/Twogram_Threegram/Threegram_Twogram_Selected/Result/Concat_Video/yeni geldi.mp4\n",
      "\n"
     ]
    },
    {
     "name": "stderr",
     "output_type": "stream",
     "text": [
      "                                                  \r"
     ]
    },
    {
     "name": "stdout",
     "output_type": "stream",
     "text": [
      "Moviepy - Done !\n",
      "Moviepy - video ready /home/kurubal/Documents/Modern Ways/Project/Turkish/Image Audio Video/Result/200 Words/Twogram_Threegram/Threegram_Twogram_Selected/Result/Concat_Video/yeni geldi.mp4\n",
      "MoviePy - Writing audio in /home/kurubal/Documents/Modern Ways/Project/Turkish/Image Audio Video/Result/200 Words/Twogram_Threegram/Threegram_Twogram_Selected/Data/Text_MP3/bana bak.mp3\n"
     ]
    },
    {
     "name": "stderr",
     "output_type": "stream",
     "text": [
      "                                                       "
     ]
    },
    {
     "name": "stdout",
     "output_type": "stream",
     "text": [
      "MoviePy - Done.\n"
     ]
    },
    {
     "name": "stderr",
     "output_type": "stream",
     "text": [
      "\r"
     ]
    },
    {
     "name": "stdout",
     "output_type": "stream",
     "text": [
      "Moviepy - Building video /home/kurubal/Documents/Modern Ways/Project/Turkish/Image Audio Video/Result/200 Words/Twogram_Threegram/Threegram_Twogram_Selected/Result/Image_Video_Audio/bana bak.mp4.\n",
      "MoviePy - Writing audio in bana bakTEMP_MPY_wvf_snd.mp4\n"
     ]
    },
    {
     "name": "stderr",
     "output_type": "stream",
     "text": [
      "                                                       \r"
     ]
    },
    {
     "name": "stdout",
     "output_type": "stream",
     "text": [
      "MoviePy - Done.\n",
      "Moviepy - Writing video /home/kurubal/Documents/Modern Ways/Project/Turkish/Image Audio Video/Result/200 Words/Twogram_Threegram/Threegram_Twogram_Selected/Result/Image_Video_Audio/bana bak.mp4\n",
      "\n"
     ]
    },
    {
     "name": "stderr",
     "output_type": "stream",
     "text": [
      "                                                  \r"
     ]
    },
    {
     "name": "stdout",
     "output_type": "stream",
     "text": [
      "Moviepy - Done !\n",
      "Moviepy - video ready /home/kurubal/Documents/Modern Ways/Project/Turkish/Image Audio Video/Result/200 Words/Twogram_Threegram/Threegram_Twogram_Selected/Result/Image_Video_Audio/bana bak.mp4\n",
      "Moviepy - Building video /home/kurubal/Documents/Modern Ways/Project/Turkish/Image Audio Video/Result/200 Words/Twogram_Threegram/Threegram_Twogram_Selected/Result/Concat_Video/bana bak.mp4.\n",
      "MoviePy - Writing audio in bana bakTEMP_MPY_wvf_snd.mp4\n"
     ]
    },
    {
     "name": "stderr",
     "output_type": "stream",
     "text": [
      "                                                        \r"
     ]
    },
    {
     "name": "stdout",
     "output_type": "stream",
     "text": [
      "MoviePy - Done.\n",
      "Moviepy - Writing video /home/kurubal/Documents/Modern Ways/Project/Turkish/Image Audio Video/Result/200 Words/Twogram_Threegram/Threegram_Twogram_Selected/Result/Concat_Video/bana bak.mp4\n",
      "\n"
     ]
    },
    {
     "name": "stderr",
     "output_type": "stream",
     "text": [
      "                                                  \r"
     ]
    },
    {
     "name": "stdout",
     "output_type": "stream",
     "text": [
      "Moviepy - Done !\n",
      "Moviepy - video ready /home/kurubal/Documents/Modern Ways/Project/Turkish/Image Audio Video/Result/200 Words/Twogram_Threegram/Threegram_Twogram_Selected/Result/Concat_Video/bana bak.mp4\n",
      "MoviePy - Writing audio in /home/kurubal/Documents/Modern Ways/Project/Turkish/Image Audio Video/Result/200 Words/Twogram_Threegram/Threegram_Twogram_Selected/Data/Text_MP3/biri var.mp3\n"
     ]
    },
    {
     "name": "stderr",
     "output_type": "stream",
     "text": [
      "                                                       "
     ]
    },
    {
     "name": "stdout",
     "output_type": "stream",
     "text": [
      "MoviePy - Done.\n"
     ]
    },
    {
     "name": "stderr",
     "output_type": "stream",
     "text": [
      "\r"
     ]
    },
    {
     "name": "stdout",
     "output_type": "stream",
     "text": [
      "Moviepy - Building video /home/kurubal/Documents/Modern Ways/Project/Turkish/Image Audio Video/Result/200 Words/Twogram_Threegram/Threegram_Twogram_Selected/Result/Image_Video_Audio/biri var.mp4.\n",
      "MoviePy - Writing audio in biri varTEMP_MPY_wvf_snd.mp4\n"
     ]
    },
    {
     "name": "stderr",
     "output_type": "stream",
     "text": [
      "                                                       \r"
     ]
    },
    {
     "name": "stdout",
     "output_type": "stream",
     "text": [
      "MoviePy - Done.\n",
      "Moviepy - Writing video /home/kurubal/Documents/Modern Ways/Project/Turkish/Image Audio Video/Result/200 Words/Twogram_Threegram/Threegram_Twogram_Selected/Result/Image_Video_Audio/biri var.mp4\n",
      "\n"
     ]
    },
    {
     "name": "stderr",
     "output_type": "stream",
     "text": [
      "                                                  \r"
     ]
    },
    {
     "name": "stdout",
     "output_type": "stream",
     "text": [
      "Moviepy - Done !\n",
      "Moviepy - video ready /home/kurubal/Documents/Modern Ways/Project/Turkish/Image Audio Video/Result/200 Words/Twogram_Threegram/Threegram_Twogram_Selected/Result/Image_Video_Audio/biri var.mp4\n",
      "Moviepy - Building video /home/kurubal/Documents/Modern Ways/Project/Turkish/Image Audio Video/Result/200 Words/Twogram_Threegram/Threegram_Twogram_Selected/Result/Concat_Video/biri var.mp4.\n",
      "MoviePy - Writing audio in biri varTEMP_MPY_wvf_snd.mp4\n"
     ]
    },
    {
     "name": "stderr",
     "output_type": "stream",
     "text": [
      "                                                        \r"
     ]
    },
    {
     "name": "stdout",
     "output_type": "stream",
     "text": [
      "MoviePy - Done.\n",
      "Moviepy - Writing video /home/kurubal/Documents/Modern Ways/Project/Turkish/Image Audio Video/Result/200 Words/Twogram_Threegram/Threegram_Twogram_Selected/Result/Concat_Video/biri var.mp4\n",
      "\n"
     ]
    },
    {
     "name": "stderr",
     "output_type": "stream",
     "text": [
      "                                                  \r"
     ]
    },
    {
     "name": "stdout",
     "output_type": "stream",
     "text": [
      "Moviepy - Done !\n",
      "Moviepy - video ready /home/kurubal/Documents/Modern Ways/Project/Turkish/Image Audio Video/Result/200 Words/Twogram_Threegram/Threegram_Twogram_Selected/Result/Concat_Video/biri var.mp4\n"
     ]
    },
    {
     "data": {
      "application/javascript": "\n        if (window._pyforest_update_imports_cell) { window._pyforest_update_imports_cell('from PIL import Image'); }\n    ",
      "text/plain": [
       "<IPython.core.display.Javascript object>"
      ]
     },
     "metadata": {},
     "output_type": "display_data"
    },
    {
     "data": {
      "application/javascript": "\n        if (window._pyforest_update_imports_cell) { window._pyforest_update_imports_cell('from PIL import Image'); }\n    ",
      "text/plain": [
       "<IPython.core.display.Javascript object>"
      ]
     },
     "metadata": {},
     "output_type": "display_data"
    },
    {
     "name": "stdout",
     "output_type": "stream",
     "text": [
      "MoviePy - Writing audio in /home/kurubal/Documents/Modern Ways/Project/Turkish/Image Audio Video/Result/200 Words/Twogram_Threegram/Threegram_Twogram_Selected/Data/Text_MP3/yüzden.mp3\n"
     ]
    },
    {
     "name": "stderr",
     "output_type": "stream",
     "text": [
      "                                                       "
     ]
    },
    {
     "name": "stdout",
     "output_type": "stream",
     "text": [
      "MoviePy - Done.\n"
     ]
    },
    {
     "name": "stderr",
     "output_type": "stream",
     "text": [
      "\r"
     ]
    },
    {
     "name": "stdout",
     "output_type": "stream",
     "text": [
      "Moviepy - Building video /home/kurubal/Documents/Modern Ways/Project/Turkish/Image Audio Video/Result/200 Words/Twogram_Threegram/Threegram_Twogram_Selected/Result/Image_Video_Audio/yüzden.mp4.\n",
      "MoviePy - Writing audio in yüzdenTEMP_MPY_wvf_snd.mp4\n"
     ]
    },
    {
     "name": "stderr",
     "output_type": "stream",
     "text": [
      "                                                       \r"
     ]
    },
    {
     "name": "stdout",
     "output_type": "stream",
     "text": [
      "MoviePy - Done.\n",
      "Moviepy - Writing video /home/kurubal/Documents/Modern Ways/Project/Turkish/Image Audio Video/Result/200 Words/Twogram_Threegram/Threegram_Twogram_Selected/Result/Image_Video_Audio/yüzden.mp4\n",
      "\n"
     ]
    },
    {
     "name": "stderr",
     "output_type": "stream",
     "text": [
      "                                                  \r"
     ]
    },
    {
     "name": "stdout",
     "output_type": "stream",
     "text": [
      "Moviepy - Done !\n",
      "Moviepy - video ready /home/kurubal/Documents/Modern Ways/Project/Turkish/Image Audio Video/Result/200 Words/Twogram_Threegram/Threegram_Twogram_Selected/Result/Image_Video_Audio/yüzden.mp4\n",
      "MoviePy - Writing audio in /home/kurubal/Documents/Modern Ways/Project/Turkish/Image Audio Video/Result/200 Words/Twogram_Threegram/Threegram_Twogram_Selected/Data/Text_MP3/bu yüzden.mp3\n"
     ]
    },
    {
     "name": "stderr",
     "output_type": "stream",
     "text": [
      "                                                       "
     ]
    },
    {
     "name": "stdout",
     "output_type": "stream",
     "text": [
      "MoviePy - Done.\n"
     ]
    },
    {
     "name": "stderr",
     "output_type": "stream",
     "text": [
      "\r"
     ]
    },
    {
     "name": "stdout",
     "output_type": "stream",
     "text": [
      "Moviepy - Building video /home/kurubal/Documents/Modern Ways/Project/Turkish/Image Audio Video/Result/200 Words/Twogram_Threegram/Threegram_Twogram_Selected/Result/Image_Video_Audio/bu yüzden.mp4.\n",
      "MoviePy - Writing audio in bu yüzdenTEMP_MPY_wvf_snd.mp4\n"
     ]
    },
    {
     "name": "stderr",
     "output_type": "stream",
     "text": [
      "                                                       \r"
     ]
    },
    {
     "name": "stdout",
     "output_type": "stream",
     "text": [
      "MoviePy - Done.\n",
      "Moviepy - Writing video /home/kurubal/Documents/Modern Ways/Project/Turkish/Image Audio Video/Result/200 Words/Twogram_Threegram/Threegram_Twogram_Selected/Result/Image_Video_Audio/bu yüzden.mp4\n",
      "\n"
     ]
    },
    {
     "name": "stderr",
     "output_type": "stream",
     "text": [
      "                                                  \r"
     ]
    },
    {
     "name": "stdout",
     "output_type": "stream",
     "text": [
      "Moviepy - Done !\n",
      "Moviepy - video ready /home/kurubal/Documents/Modern Ways/Project/Turkish/Image Audio Video/Result/200 Words/Twogram_Threegram/Threegram_Twogram_Selected/Result/Image_Video_Audio/bu yüzden.mp4\n",
      "Moviepy - Building video /home/kurubal/Documents/Modern Ways/Project/Turkish/Image Audio Video/Result/200 Words/Twogram_Threegram/Threegram_Twogram_Selected/Result/Concat_Video/bu yüzden.mp4.\n",
      "MoviePy - Writing audio in bu yüzdenTEMP_MPY_wvf_snd.mp4\n"
     ]
    },
    {
     "name": "stderr",
     "output_type": "stream",
     "text": [
      "                                                        \r"
     ]
    },
    {
     "name": "stdout",
     "output_type": "stream",
     "text": [
      "MoviePy - Done.\n",
      "Moviepy - Writing video /home/kurubal/Documents/Modern Ways/Project/Turkish/Image Audio Video/Result/200 Words/Twogram_Threegram/Threegram_Twogram_Selected/Result/Concat_Video/bu yüzden.mp4\n",
      "\n"
     ]
    },
    {
     "name": "stderr",
     "output_type": "stream",
     "text": [
      "                                                  \r"
     ]
    },
    {
     "name": "stdout",
     "output_type": "stream",
     "text": [
      "Moviepy - Done !\n",
      "Moviepy - video ready /home/kurubal/Documents/Modern Ways/Project/Turkish/Image Audio Video/Result/200 Words/Twogram_Threegram/Threegram_Twogram_Selected/Result/Concat_Video/bu yüzden.mp4\n",
      "MoviePy - Writing audio in /home/kurubal/Documents/Modern Ways/Project/Turkish/Image Audio Video/Result/200 Words/Twogram_Threegram/Threegram_Twogram_Selected/Data/Text_MP3/çok güzel.mp3\n"
     ]
    },
    {
     "name": "stderr",
     "output_type": "stream",
     "text": [
      "                                                       "
     ]
    },
    {
     "name": "stdout",
     "output_type": "stream",
     "text": [
      "MoviePy - Done.\n"
     ]
    },
    {
     "name": "stderr",
     "output_type": "stream",
     "text": [
      "\r"
     ]
    },
    {
     "name": "stdout",
     "output_type": "stream",
     "text": [
      "Moviepy - Building video /home/kurubal/Documents/Modern Ways/Project/Turkish/Image Audio Video/Result/200 Words/Twogram_Threegram/Threegram_Twogram_Selected/Result/Image_Video_Audio/çok güzel.mp4.\n",
      "MoviePy - Writing audio in çok güzelTEMP_MPY_wvf_snd.mp4\n"
     ]
    },
    {
     "name": "stderr",
     "output_type": "stream",
     "text": [
      "                                                       \r"
     ]
    },
    {
     "name": "stdout",
     "output_type": "stream",
     "text": [
      "MoviePy - Done.\n",
      "Moviepy - Writing video /home/kurubal/Documents/Modern Ways/Project/Turkish/Image Audio Video/Result/200 Words/Twogram_Threegram/Threegram_Twogram_Selected/Result/Image_Video_Audio/çok güzel.mp4\n",
      "\n"
     ]
    },
    {
     "name": "stderr",
     "output_type": "stream",
     "text": [
      "                                                  \r"
     ]
    },
    {
     "name": "stdout",
     "output_type": "stream",
     "text": [
      "Moviepy - Done !\n",
      "Moviepy - video ready /home/kurubal/Documents/Modern Ways/Project/Turkish/Image Audio Video/Result/200 Words/Twogram_Threegram/Threegram_Twogram_Selected/Result/Image_Video_Audio/çok güzel.mp4\n",
      "Moviepy - Building video /home/kurubal/Documents/Modern Ways/Project/Turkish/Image Audio Video/Result/200 Words/Twogram_Threegram/Threegram_Twogram_Selected/Result/Concat_Video/çok güzel.mp4.\n",
      "MoviePy - Writing audio in çok güzelTEMP_MPY_wvf_snd.mp4\n"
     ]
    },
    {
     "name": "stderr",
     "output_type": "stream",
     "text": [
      "                                                        \r"
     ]
    },
    {
     "name": "stdout",
     "output_type": "stream",
     "text": [
      "MoviePy - Done.\n",
      "Moviepy - Writing video /home/kurubal/Documents/Modern Ways/Project/Turkish/Image Audio Video/Result/200 Words/Twogram_Threegram/Threegram_Twogram_Selected/Result/Concat_Video/çok güzel.mp4\n",
      "\n"
     ]
    },
    {
     "name": "stderr",
     "output_type": "stream",
     "text": [
      "                                                  \r"
     ]
    },
    {
     "name": "stdout",
     "output_type": "stream",
     "text": [
      "Moviepy - Done !\n",
      "Moviepy - video ready /home/kurubal/Documents/Modern Ways/Project/Turkish/Image Audio Video/Result/200 Words/Twogram_Threegram/Threegram_Twogram_Selected/Result/Concat_Video/çok güzel.mp4\n",
      "MoviePy - Writing audio in /home/kurubal/Documents/Modern Ways/Project/Turkish/Image Audio Video/Result/200 Words/Twogram_Threegram/Threegram_Twogram_Selected/Data/Text_MP3/daha iyi.mp3\n"
     ]
    },
    {
     "name": "stderr",
     "output_type": "stream",
     "text": [
      "                                                       "
     ]
    },
    {
     "name": "stdout",
     "output_type": "stream",
     "text": [
      "MoviePy - Done.\n"
     ]
    },
    {
     "name": "stderr",
     "output_type": "stream",
     "text": [
      "\r"
     ]
    },
    {
     "name": "stdout",
     "output_type": "stream",
     "text": [
      "Moviepy - Building video /home/kurubal/Documents/Modern Ways/Project/Turkish/Image Audio Video/Result/200 Words/Twogram_Threegram/Threegram_Twogram_Selected/Result/Image_Video_Audio/daha iyi.mp4.\n",
      "MoviePy - Writing audio in daha iyiTEMP_MPY_wvf_snd.mp4\n"
     ]
    },
    {
     "name": "stderr",
     "output_type": "stream",
     "text": [
      "                                                       \r"
     ]
    },
    {
     "name": "stdout",
     "output_type": "stream",
     "text": [
      "MoviePy - Done.\n",
      "Moviepy - Writing video /home/kurubal/Documents/Modern Ways/Project/Turkish/Image Audio Video/Result/200 Words/Twogram_Threegram/Threegram_Twogram_Selected/Result/Image_Video_Audio/daha iyi.mp4\n",
      "\n"
     ]
    },
    {
     "name": "stderr",
     "output_type": "stream",
     "text": [
      "                                                  \r"
     ]
    },
    {
     "name": "stdout",
     "output_type": "stream",
     "text": [
      "Moviepy - Done !\n",
      "Moviepy - video ready /home/kurubal/Documents/Modern Ways/Project/Turkish/Image Audio Video/Result/200 Words/Twogram_Threegram/Threegram_Twogram_Selected/Result/Image_Video_Audio/daha iyi.mp4\n",
      "Moviepy - Building video /home/kurubal/Documents/Modern Ways/Project/Turkish/Image Audio Video/Result/200 Words/Twogram_Threegram/Threegram_Twogram_Selected/Result/Concat_Video/daha iyi.mp4.\n",
      "MoviePy - Writing audio in daha iyiTEMP_MPY_wvf_snd.mp4\n"
     ]
    },
    {
     "name": "stderr",
     "output_type": "stream",
     "text": [
      "                                                        \r"
     ]
    },
    {
     "name": "stdout",
     "output_type": "stream",
     "text": [
      "MoviePy - Done.\n",
      "Moviepy - Writing video /home/kurubal/Documents/Modern Ways/Project/Turkish/Image Audio Video/Result/200 Words/Twogram_Threegram/Threegram_Twogram_Selected/Result/Concat_Video/daha iyi.mp4\n",
      "\n"
     ]
    },
    {
     "name": "stderr",
     "output_type": "stream",
     "text": [
      "                                                  \r"
     ]
    },
    {
     "name": "stdout",
     "output_type": "stream",
     "text": [
      "Moviepy - Done !\n",
      "Moviepy - video ready /home/kurubal/Documents/Modern Ways/Project/Turkish/Image Audio Video/Result/200 Words/Twogram_Threegram/Threegram_Twogram_Selected/Result/Concat_Video/daha iyi.mp4\n",
      "MoviePy - Writing audio in /home/kurubal/Documents/Modern Ways/Project/Turkish/Image Audio Video/Result/200 Words/Twogram_Threegram/Threegram_Twogram_Selected/Data/Text_MP3/evet öyle.mp3\n"
     ]
    },
    {
     "name": "stderr",
     "output_type": "stream",
     "text": [
      "                                                       "
     ]
    },
    {
     "name": "stdout",
     "output_type": "stream",
     "text": [
      "MoviePy - Done.\n"
     ]
    },
    {
     "name": "stderr",
     "output_type": "stream",
     "text": [
      "\r"
     ]
    },
    {
     "name": "stdout",
     "output_type": "stream",
     "text": [
      "Moviepy - Building video /home/kurubal/Documents/Modern Ways/Project/Turkish/Image Audio Video/Result/200 Words/Twogram_Threegram/Threegram_Twogram_Selected/Result/Image_Video_Audio/evet öyle.mp4.\n",
      "MoviePy - Writing audio in evet öyleTEMP_MPY_wvf_snd.mp4\n"
     ]
    },
    {
     "name": "stderr",
     "output_type": "stream",
     "text": [
      "                                                       \r"
     ]
    },
    {
     "name": "stdout",
     "output_type": "stream",
     "text": [
      "MoviePy - Done.\n",
      "Moviepy - Writing video /home/kurubal/Documents/Modern Ways/Project/Turkish/Image Audio Video/Result/200 Words/Twogram_Threegram/Threegram_Twogram_Selected/Result/Image_Video_Audio/evet öyle.mp4\n",
      "\n"
     ]
    },
    {
     "name": "stderr",
     "output_type": "stream",
     "text": [
      "                                                  \r"
     ]
    },
    {
     "name": "stdout",
     "output_type": "stream",
     "text": [
      "Moviepy - Done !\n",
      "Moviepy - video ready /home/kurubal/Documents/Modern Ways/Project/Turkish/Image Audio Video/Result/200 Words/Twogram_Threegram/Threegram_Twogram_Selected/Result/Image_Video_Audio/evet öyle.mp4\n",
      "Moviepy - Building video /home/kurubal/Documents/Modern Ways/Project/Turkish/Image Audio Video/Result/200 Words/Twogram_Threegram/Threegram_Twogram_Selected/Result/Concat_Video/evet öyle.mp4.\n",
      "MoviePy - Writing audio in evet öyleTEMP_MPY_wvf_snd.mp4\n"
     ]
    },
    {
     "name": "stderr",
     "output_type": "stream",
     "text": [
      "                                                        \r"
     ]
    },
    {
     "name": "stdout",
     "output_type": "stream",
     "text": [
      "MoviePy - Done.\n",
      "Moviepy - Writing video /home/kurubal/Documents/Modern Ways/Project/Turkish/Image Audio Video/Result/200 Words/Twogram_Threegram/Threegram_Twogram_Selected/Result/Concat_Video/evet öyle.mp4\n",
      "\n"
     ]
    },
    {
     "name": "stderr",
     "output_type": "stream",
     "text": [
      "                                                  \r"
     ]
    },
    {
     "name": "stdout",
     "output_type": "stream",
     "text": [
      "Moviepy - Done !\n",
      "Moviepy - video ready /home/kurubal/Documents/Modern Ways/Project/Turkish/Image Audio Video/Result/200 Words/Twogram_Threegram/Threegram_Twogram_Selected/Result/Concat_Video/evet öyle.mp4\n",
      "MoviePy - Writing audio in /home/kurubal/Documents/Modern Ways/Project/Turkish/Image Audio Video/Result/200 Words/Twogram_Threegram/Threegram_Twogram_Selected/Data/Text_MP3/gerek yok.mp3\n"
     ]
    },
    {
     "name": "stderr",
     "output_type": "stream",
     "text": [
      "                                                       "
     ]
    },
    {
     "name": "stdout",
     "output_type": "stream",
     "text": [
      "MoviePy - Done.\n"
     ]
    },
    {
     "name": "stderr",
     "output_type": "stream",
     "text": [
      "\r"
     ]
    },
    {
     "name": "stdout",
     "output_type": "stream",
     "text": [
      "Moviepy - Building video /home/kurubal/Documents/Modern Ways/Project/Turkish/Image Audio Video/Result/200 Words/Twogram_Threegram/Threegram_Twogram_Selected/Result/Image_Video_Audio/gerek yok.mp4.\n",
      "MoviePy - Writing audio in gerek yokTEMP_MPY_wvf_snd.mp4\n"
     ]
    },
    {
     "name": "stderr",
     "output_type": "stream",
     "text": [
      "                                                       \r"
     ]
    },
    {
     "name": "stdout",
     "output_type": "stream",
     "text": [
      "MoviePy - Done.\n",
      "Moviepy - Writing video /home/kurubal/Documents/Modern Ways/Project/Turkish/Image Audio Video/Result/200 Words/Twogram_Threegram/Threegram_Twogram_Selected/Result/Image_Video_Audio/gerek yok.mp4\n",
      "\n"
     ]
    },
    {
     "name": "stderr",
     "output_type": "stream",
     "text": [
      "                                                  \r"
     ]
    },
    {
     "name": "stdout",
     "output_type": "stream",
     "text": [
      "Moviepy - Done !\n",
      "Moviepy - video ready /home/kurubal/Documents/Modern Ways/Project/Turkish/Image Audio Video/Result/200 Words/Twogram_Threegram/Threegram_Twogram_Selected/Result/Image_Video_Audio/gerek yok.mp4\n",
      "Moviepy - Building video /home/kurubal/Documents/Modern Ways/Project/Turkish/Image Audio Video/Result/200 Words/Twogram_Threegram/Threegram_Twogram_Selected/Result/Concat_Video/gerek yok.mp4.\n",
      "MoviePy - Writing audio in gerek yokTEMP_MPY_wvf_snd.mp4\n"
     ]
    },
    {
     "name": "stderr",
     "output_type": "stream",
     "text": [
      "                                                        \r"
     ]
    },
    {
     "name": "stdout",
     "output_type": "stream",
     "text": [
      "MoviePy - Done.\n",
      "Moviepy - Writing video /home/kurubal/Documents/Modern Ways/Project/Turkish/Image Audio Video/Result/200 Words/Twogram_Threegram/Threegram_Twogram_Selected/Result/Concat_Video/gerek yok.mp4\n",
      "\n"
     ]
    },
    {
     "name": "stderr",
     "output_type": "stream",
     "text": [
      "                                                  \r"
     ]
    },
    {
     "name": "stdout",
     "output_type": "stream",
     "text": [
      "Moviepy - Done !\n",
      "Moviepy - video ready /home/kurubal/Documents/Modern Ways/Project/Turkish/Image Audio Video/Result/200 Words/Twogram_Threegram/Threegram_Twogram_Selected/Result/Concat_Video/gerek yok.mp4\n",
      "MoviePy - Writing audio in /home/kurubal/Documents/Modern Ways/Project/Turkish/Image Audio Video/Result/200 Words/Twogram_Threegram/Threegram_Twogram_Selected/Data/Text_MP3/o benim.mp3\n"
     ]
    },
    {
     "name": "stderr",
     "output_type": "stream",
     "text": [
      "                                                       "
     ]
    },
    {
     "name": "stdout",
     "output_type": "stream",
     "text": [
      "MoviePy - Done.\n"
     ]
    },
    {
     "name": "stderr",
     "output_type": "stream",
     "text": [
      "\r"
     ]
    },
    {
     "name": "stdout",
     "output_type": "stream",
     "text": [
      "Moviepy - Building video /home/kurubal/Documents/Modern Ways/Project/Turkish/Image Audio Video/Result/200 Words/Twogram_Threegram/Threegram_Twogram_Selected/Result/Image_Video_Audio/o benim.mp4.\n",
      "MoviePy - Writing audio in o benimTEMP_MPY_wvf_snd.mp4\n"
     ]
    },
    {
     "name": "stderr",
     "output_type": "stream",
     "text": [
      "                                                       \r"
     ]
    },
    {
     "name": "stdout",
     "output_type": "stream",
     "text": [
      "MoviePy - Done.\n",
      "Moviepy - Writing video /home/kurubal/Documents/Modern Ways/Project/Turkish/Image Audio Video/Result/200 Words/Twogram_Threegram/Threegram_Twogram_Selected/Result/Image_Video_Audio/o benim.mp4\n",
      "\n"
     ]
    },
    {
     "name": "stderr",
     "output_type": "stream",
     "text": [
      "                                                  \r"
     ]
    },
    {
     "name": "stdout",
     "output_type": "stream",
     "text": [
      "Moviepy - Done !\n",
      "Moviepy - video ready /home/kurubal/Documents/Modern Ways/Project/Turkish/Image Audio Video/Result/200 Words/Twogram_Threegram/Threegram_Twogram_Selected/Result/Image_Video_Audio/o benim.mp4\n",
      "Moviepy - Building video /home/kurubal/Documents/Modern Ways/Project/Turkish/Image Audio Video/Result/200 Words/Twogram_Threegram/Threegram_Twogram_Selected/Result/Concat_Video/o benim.mp4.\n",
      "MoviePy - Writing audio in o benimTEMP_MPY_wvf_snd.mp4\n"
     ]
    },
    {
     "name": "stderr",
     "output_type": "stream",
     "text": [
      "                                                        \r"
     ]
    },
    {
     "name": "stdout",
     "output_type": "stream",
     "text": [
      "MoviePy - Done.\n",
      "Moviepy - Writing video /home/kurubal/Documents/Modern Ways/Project/Turkish/Image Audio Video/Result/200 Words/Twogram_Threegram/Threegram_Twogram_Selected/Result/Concat_Video/o benim.mp4\n",
      "\n"
     ]
    },
    {
     "name": "stderr",
     "output_type": "stream",
     "text": [
      "                                                  \r"
     ]
    },
    {
     "name": "stdout",
     "output_type": "stream",
     "text": [
      "Moviepy - Done !\n",
      "Moviepy - video ready /home/kurubal/Documents/Modern Ways/Project/Turkish/Image Audio Video/Result/200 Words/Twogram_Threegram/Threegram_Twogram_Selected/Result/Concat_Video/o benim.mp4\n"
     ]
    },
    {
     "data": {
      "application/javascript": "\n        if (window._pyforest_update_imports_cell) { window._pyforest_update_imports_cell('from PIL import Image'); }\n    ",
      "text/plain": [
       "<IPython.core.display.Javascript object>"
      ]
     },
     "metadata": {},
     "output_type": "display_data"
    },
    {
     "data": {
      "application/javascript": "\n        if (window._pyforest_update_imports_cell) { window._pyforest_update_imports_cell('from PIL import Image'); }\n    ",
      "text/plain": [
       "<IPython.core.display.Javascript object>"
      ]
     },
     "metadata": {},
     "output_type": "display_data"
    },
    {
     "data": {
      "application/javascript": "\n        if (window._pyforest_update_imports_cell) { window._pyforest_update_imports_cell('from PIL import Image'); }\n    ",
      "text/plain": [
       "<IPython.core.display.Javascript object>"
      ]
     },
     "metadata": {},
     "output_type": "display_data"
    },
    {
     "data": {
      "application/javascript": "\n        if (window._pyforest_update_imports_cell) { window._pyforest_update_imports_cell('from PIL import Image'); }\n    ",
      "text/plain": [
       "<IPython.core.display.Javascript object>"
      ]
     },
     "metadata": {},
     "output_type": "display_data"
    },
    {
     "name": "stdout",
     "output_type": "stream",
     "text": [
      "MoviePy - Writing audio in /home/kurubal/Documents/Modern Ways/Project/Turkish/Image Audio Video/Result/200 Words/Twogram_Threegram/Threegram_Twogram_Selected/Data/Text_MP3/onun.mp3\n"
     ]
    },
    {
     "name": "stderr",
     "output_type": "stream",
     "text": [
      "                                                       "
     ]
    },
    {
     "name": "stdout",
     "output_type": "stream",
     "text": [
      "MoviePy - Done.\n"
     ]
    },
    {
     "name": "stderr",
     "output_type": "stream",
     "text": [
      "\r"
     ]
    },
    {
     "name": "stdout",
     "output_type": "stream",
     "text": [
      "MoviePy - Writing audio in /home/kurubal/Documents/Modern Ways/Project/Turkish/Image Audio Video/Result/200 Words/Twogram_Threegram/Threegram_Twogram_Selected/Data/Text_MP3/gibi.mp3\n"
     ]
    },
    {
     "name": "stderr",
     "output_type": "stream",
     "text": [
      "                                                       "
     ]
    },
    {
     "name": "stdout",
     "output_type": "stream",
     "text": [
      "MoviePy - Done.\n"
     ]
    },
    {
     "name": "stderr",
     "output_type": "stream",
     "text": [
      "\r"
     ]
    },
    {
     "name": "stdout",
     "output_type": "stream",
     "text": [
      "Moviepy - Building video /home/kurubal/Documents/Modern Ways/Project/Turkish/Image Audio Video/Result/200 Words/Twogram_Threegram/Threegram_Twogram_Selected/Result/Image_Video_Audio/onun.mp4.\n",
      "MoviePy - Writing audio in onunTEMP_MPY_wvf_snd.mp4\n"
     ]
    },
    {
     "name": "stderr",
     "output_type": "stream",
     "text": [
      "                                                       \r"
     ]
    },
    {
     "name": "stdout",
     "output_type": "stream",
     "text": [
      "MoviePy - Done.\n",
      "Moviepy - Writing video /home/kurubal/Documents/Modern Ways/Project/Turkish/Image Audio Video/Result/200 Words/Twogram_Threegram/Threegram_Twogram_Selected/Result/Image_Video_Audio/onun.mp4\n",
      "\n"
     ]
    },
    {
     "name": "stderr",
     "output_type": "stream",
     "text": [
      "                                                  \r"
     ]
    },
    {
     "name": "stdout",
     "output_type": "stream",
     "text": [
      "Moviepy - Done !\n",
      "Moviepy - video ready /home/kurubal/Documents/Modern Ways/Project/Turkish/Image Audio Video/Result/200 Words/Twogram_Threegram/Threegram_Twogram_Selected/Result/Image_Video_Audio/onun.mp4\n",
      "Moviepy - Building video /home/kurubal/Documents/Modern Ways/Project/Turkish/Image Audio Video/Result/200 Words/Twogram_Threegram/Threegram_Twogram_Selected/Result/Image_Video_Audio/gibi.mp4.\n",
      "MoviePy - Writing audio in gibiTEMP_MPY_wvf_snd.mp4\n"
     ]
    },
    {
     "name": "stderr",
     "output_type": "stream",
     "text": [
      "                                                       \r"
     ]
    },
    {
     "name": "stdout",
     "output_type": "stream",
     "text": [
      "MoviePy - Done.\n",
      "Moviepy - Writing video /home/kurubal/Documents/Modern Ways/Project/Turkish/Image Audio Video/Result/200 Words/Twogram_Threegram/Threegram_Twogram_Selected/Result/Image_Video_Audio/gibi.mp4\n",
      "\n"
     ]
    },
    {
     "name": "stderr",
     "output_type": "stream",
     "text": [
      "                                                  "
     ]
    },
    {
     "name": "stdout",
     "output_type": "stream",
     "text": [
      "Moviepy - Done !\n",
      "Moviepy - video ready /home/kurubal/Documents/Modern Ways/Project/Turkish/Image Audio Video/Result/200 Words/Twogram_Threegram/Threegram_Twogram_Selected/Result/Image_Video_Audio/gibi.mp4\n"
     ]
    },
    {
     "name": "stderr",
     "output_type": "stream",
     "text": [
      "\r"
     ]
    },
    {
     "name": "stdout",
     "output_type": "stream",
     "text": [
      "MoviePy - Writing audio in /home/kurubal/Documents/Modern Ways/Project/Turkish/Image Audio Video/Result/200 Words/Twogram_Threegram/Threegram_Twogram_Selected/Data/Text_MP3/onun gibi.mp3\n"
     ]
    },
    {
     "name": "stderr",
     "output_type": "stream",
     "text": [
      "                                                       "
     ]
    },
    {
     "name": "stdout",
     "output_type": "stream",
     "text": [
      "MoviePy - Done.\n"
     ]
    },
    {
     "name": "stderr",
     "output_type": "stream",
     "text": [
      "\r"
     ]
    },
    {
     "name": "stdout",
     "output_type": "stream",
     "text": [
      "Moviepy - Building video /home/kurubal/Documents/Modern Ways/Project/Turkish/Image Audio Video/Result/200 Words/Twogram_Threegram/Threegram_Twogram_Selected/Result/Image_Video_Audio/onun gibi.mp4.\n",
      "MoviePy - Writing audio in onun gibiTEMP_MPY_wvf_snd.mp4\n"
     ]
    },
    {
     "name": "stderr",
     "output_type": "stream",
     "text": [
      "                                                       \r"
     ]
    },
    {
     "name": "stdout",
     "output_type": "stream",
     "text": [
      "MoviePy - Done.\n",
      "Moviepy - Writing video /home/kurubal/Documents/Modern Ways/Project/Turkish/Image Audio Video/Result/200 Words/Twogram_Threegram/Threegram_Twogram_Selected/Result/Image_Video_Audio/onun gibi.mp4\n",
      "\n"
     ]
    },
    {
     "name": "stderr",
     "output_type": "stream",
     "text": [
      "                                                  \r"
     ]
    },
    {
     "name": "stdout",
     "output_type": "stream",
     "text": [
      "Moviepy - Done !\n",
      "Moviepy - video ready /home/kurubal/Documents/Modern Ways/Project/Turkish/Image Audio Video/Result/200 Words/Twogram_Threegram/Threegram_Twogram_Selected/Result/Image_Video_Audio/onun gibi.mp4\n",
      "Moviepy - Building video /home/kurubal/Documents/Modern Ways/Project/Turkish/Image Audio Video/Result/200 Words/Twogram_Threegram/Threegram_Twogram_Selected/Result/Concat_Video/onun gibi.mp4.\n",
      "MoviePy - Writing audio in onun gibiTEMP_MPY_wvf_snd.mp4\n"
     ]
    },
    {
     "name": "stderr",
     "output_type": "stream",
     "text": [
      "                                                        \r"
     ]
    },
    {
     "name": "stdout",
     "output_type": "stream",
     "text": [
      "MoviePy - Done.\n",
      "Moviepy - Writing video /home/kurubal/Documents/Modern Ways/Project/Turkish/Image Audio Video/Result/200 Words/Twogram_Threegram/Threegram_Twogram_Selected/Result/Concat_Video/onun gibi.mp4\n",
      "\n"
     ]
    },
    {
     "name": "stderr",
     "output_type": "stream",
     "text": [
      "                                                  \r"
     ]
    },
    {
     "name": "stdout",
     "output_type": "stream",
     "text": [
      "Moviepy - Done !\n",
      "Moviepy - video ready /home/kurubal/Documents/Modern Ways/Project/Turkish/Image Audio Video/Result/200 Words/Twogram_Threegram/Threegram_Twogram_Selected/Result/Concat_Video/onun gibi.mp4\n"
     ]
    },
    {
     "data": {
      "application/javascript": "\n        if (window._pyforest_update_imports_cell) { window._pyforest_update_imports_cell('from PIL import Image'); }\n    ",
      "text/plain": [
       "<IPython.core.display.Javascript object>"
      ]
     },
     "metadata": {},
     "output_type": "display_data"
    },
    {
     "data": {
      "application/javascript": "\n        if (window._pyforest_update_imports_cell) { window._pyforest_update_imports_cell('from PIL import Image'); }\n    ",
      "text/plain": [
       "<IPython.core.display.Javascript object>"
      ]
     },
     "metadata": {},
     "output_type": "display_data"
    },
    {
     "data": {
      "application/javascript": "\n        if (window._pyforest_update_imports_cell) { window._pyforest_update_imports_cell('from PIL import Image'); }\n    ",
      "text/plain": [
       "<IPython.core.display.Javascript object>"
      ]
     },
     "metadata": {},
     "output_type": "display_data"
    },
    {
     "data": {
      "application/javascript": "\n        if (window._pyforest_update_imports_cell) { window._pyforest_update_imports_cell('from PIL import Image'); }\n    ",
      "text/plain": [
       "<IPython.core.display.Javascript object>"
      ]
     },
     "metadata": {},
     "output_type": "display_data"
    },
    {
     "name": "stdout",
     "output_type": "stream",
     "text": [
      "MoviePy - Writing audio in /home/kurubal/Documents/Modern Ways/Project/Turkish/Image Audio Video/Result/200 Words/Twogram_Threegram/Threegram_Twogram_Selected/Data/Text_MP3/para.mp3\n"
     ]
    },
    {
     "name": "stderr",
     "output_type": "stream",
     "text": [
      "                                                       "
     ]
    },
    {
     "name": "stdout",
     "output_type": "stream",
     "text": [
      "MoviePy - Done.\n"
     ]
    },
    {
     "name": "stderr",
     "output_type": "stream",
     "text": [
      "\r"
     ]
    },
    {
     "name": "stdout",
     "output_type": "stream",
     "text": [
      "MoviePy - Writing audio in /home/kurubal/Documents/Modern Ways/Project/Turkish/Image Audio Video/Result/200 Words/Twogram_Threegram/Threegram_Twogram_Selected/Data/Text_MP3/için.mp3\n"
     ]
    },
    {
     "name": "stderr",
     "output_type": "stream",
     "text": [
      "                                                       "
     ]
    },
    {
     "name": "stdout",
     "output_type": "stream",
     "text": [
      "MoviePy - Done.\n"
     ]
    },
    {
     "name": "stderr",
     "output_type": "stream",
     "text": [
      "\r"
     ]
    },
    {
     "name": "stdout",
     "output_type": "stream",
     "text": [
      "Moviepy - Building video /home/kurubal/Documents/Modern Ways/Project/Turkish/Image Audio Video/Result/200 Words/Twogram_Threegram/Threegram_Twogram_Selected/Result/Image_Video_Audio/para.mp4.\n",
      "MoviePy - Writing audio in paraTEMP_MPY_wvf_snd.mp4\n"
     ]
    },
    {
     "name": "stderr",
     "output_type": "stream",
     "text": [
      "                                                       \r"
     ]
    },
    {
     "name": "stdout",
     "output_type": "stream",
     "text": [
      "MoviePy - Done.\n",
      "Moviepy - Writing video /home/kurubal/Documents/Modern Ways/Project/Turkish/Image Audio Video/Result/200 Words/Twogram_Threegram/Threegram_Twogram_Selected/Result/Image_Video_Audio/para.mp4\n",
      "\n"
     ]
    },
    {
     "name": "stderr",
     "output_type": "stream",
     "text": [
      "                                                  \r"
     ]
    },
    {
     "name": "stdout",
     "output_type": "stream",
     "text": [
      "Moviepy - Done !\n",
      "Moviepy - video ready /home/kurubal/Documents/Modern Ways/Project/Turkish/Image Audio Video/Result/200 Words/Twogram_Threegram/Threegram_Twogram_Selected/Result/Image_Video_Audio/para.mp4\n",
      "Moviepy - Building video /home/kurubal/Documents/Modern Ways/Project/Turkish/Image Audio Video/Result/200 Words/Twogram_Threegram/Threegram_Twogram_Selected/Result/Image_Video_Audio/için.mp4.\n",
      "MoviePy - Writing audio in içinTEMP_MPY_wvf_snd.mp4\n"
     ]
    },
    {
     "name": "stderr",
     "output_type": "stream",
     "text": [
      "                                                       \r"
     ]
    },
    {
     "name": "stdout",
     "output_type": "stream",
     "text": [
      "MoviePy - Done.\n",
      "Moviepy - Writing video /home/kurubal/Documents/Modern Ways/Project/Turkish/Image Audio Video/Result/200 Words/Twogram_Threegram/Threegram_Twogram_Selected/Result/Image_Video_Audio/için.mp4\n",
      "\n"
     ]
    },
    {
     "name": "stderr",
     "output_type": "stream",
     "text": [
      "                                                  \r"
     ]
    },
    {
     "name": "stdout",
     "output_type": "stream",
     "text": [
      "Moviepy - Done !\n",
      "Moviepy - video ready /home/kurubal/Documents/Modern Ways/Project/Turkish/Image Audio Video/Result/200 Words/Twogram_Threegram/Threegram_Twogram_Selected/Result/Image_Video_Audio/için.mp4\n",
      "MoviePy - Writing audio in /home/kurubal/Documents/Modern Ways/Project/Turkish/Image Audio Video/Result/200 Words/Twogram_Threegram/Threegram_Twogram_Selected/Data/Text_MP3/para için.mp3\n"
     ]
    },
    {
     "name": "stderr",
     "output_type": "stream",
     "text": [
      "                                                       "
     ]
    },
    {
     "name": "stdout",
     "output_type": "stream",
     "text": [
      "MoviePy - Done.\n"
     ]
    },
    {
     "name": "stderr",
     "output_type": "stream",
     "text": [
      "\r"
     ]
    },
    {
     "name": "stdout",
     "output_type": "stream",
     "text": [
      "Moviepy - Building video /home/kurubal/Documents/Modern Ways/Project/Turkish/Image Audio Video/Result/200 Words/Twogram_Threegram/Threegram_Twogram_Selected/Result/Image_Video_Audio/para için.mp4.\n",
      "MoviePy - Writing audio in para içinTEMP_MPY_wvf_snd.mp4\n"
     ]
    },
    {
     "name": "stderr",
     "output_type": "stream",
     "text": [
      "                                                       \r"
     ]
    },
    {
     "name": "stdout",
     "output_type": "stream",
     "text": [
      "MoviePy - Done.\n",
      "Moviepy - Writing video /home/kurubal/Documents/Modern Ways/Project/Turkish/Image Audio Video/Result/200 Words/Twogram_Threegram/Threegram_Twogram_Selected/Result/Image_Video_Audio/para için.mp4\n",
      "\n"
     ]
    },
    {
     "name": "stderr",
     "output_type": "stream",
     "text": [
      "                                                  \r"
     ]
    },
    {
     "name": "stdout",
     "output_type": "stream",
     "text": [
      "Moviepy - Done !\n",
      "Moviepy - video ready /home/kurubal/Documents/Modern Ways/Project/Turkish/Image Audio Video/Result/200 Words/Twogram_Threegram/Threegram_Twogram_Selected/Result/Image_Video_Audio/para için.mp4\n",
      "Moviepy - Building video /home/kurubal/Documents/Modern Ways/Project/Turkish/Image Audio Video/Result/200 Words/Twogram_Threegram/Threegram_Twogram_Selected/Result/Concat_Video/para için.mp4.\n",
      "MoviePy - Writing audio in para içinTEMP_MPY_wvf_snd.mp4\n"
     ]
    },
    {
     "name": "stderr",
     "output_type": "stream",
     "text": [
      "                                                        \r"
     ]
    },
    {
     "name": "stdout",
     "output_type": "stream",
     "text": [
      "MoviePy - Done.\n",
      "Moviepy - Writing video /home/kurubal/Documents/Modern Ways/Project/Turkish/Image Audio Video/Result/200 Words/Twogram_Threegram/Threegram_Twogram_Selected/Result/Concat_Video/para için.mp4\n",
      "\n"
     ]
    },
    {
     "name": "stderr",
     "output_type": "stream",
     "text": [
      "                                                  \r"
     ]
    },
    {
     "name": "stdout",
     "output_type": "stream",
     "text": [
      "Moviepy - Done !\n",
      "Moviepy - video ready /home/kurubal/Documents/Modern Ways/Project/Turkish/Image Audio Video/Result/200 Words/Twogram_Threegram/Threegram_Twogram_Selected/Result/Concat_Video/para için.mp4\n"
     ]
    },
    {
     "data": {
      "application/javascript": "\n        if (window._pyforest_update_imports_cell) { window._pyforest_update_imports_cell('from PIL import Image'); }\n    ",
      "text/plain": [
       "<IPython.core.display.Javascript object>"
      ]
     },
     "metadata": {},
     "output_type": "display_data"
    },
    {
     "data": {
      "application/javascript": "\n        if (window._pyforest_update_imports_cell) { window._pyforest_update_imports_cell('from PIL import Image'); }\n    ",
      "text/plain": [
       "<IPython.core.display.Javascript object>"
      ]
     },
     "metadata": {},
     "output_type": "display_data"
    },
    {
     "name": "stdout",
     "output_type": "stream",
     "text": [
      "MoviePy - Writing audio in /home/kurubal/Documents/Modern Ways/Project/Turkish/Image Audio Video/Result/200 Words/Twogram_Threegram/Threegram_Twogram_Selected/Data/Text_MP3/senin.mp3\n"
     ]
    },
    {
     "name": "stderr",
     "output_type": "stream",
     "text": [
      "                                                       "
     ]
    },
    {
     "name": "stdout",
     "output_type": "stream",
     "text": [
      "MoviePy - Done.\n"
     ]
    },
    {
     "name": "stderr",
     "output_type": "stream",
     "text": [
      "\r"
     ]
    },
    {
     "name": "stdout",
     "output_type": "stream",
     "text": [
      "Moviepy - Building video /home/kurubal/Documents/Modern Ways/Project/Turkish/Image Audio Video/Result/200 Words/Twogram_Threegram/Threegram_Twogram_Selected/Result/Image_Video_Audio/senin.mp4.\n",
      "MoviePy - Writing audio in seninTEMP_MPY_wvf_snd.mp4\n"
     ]
    },
    {
     "name": "stderr",
     "output_type": "stream",
     "text": [
      "                                                       \r"
     ]
    },
    {
     "name": "stdout",
     "output_type": "stream",
     "text": [
      "MoviePy - Done.\n",
      "Moviepy - Writing video /home/kurubal/Documents/Modern Ways/Project/Turkish/Image Audio Video/Result/200 Words/Twogram_Threegram/Threegram_Twogram_Selected/Result/Image_Video_Audio/senin.mp4\n",
      "\n"
     ]
    },
    {
     "name": "stderr",
     "output_type": "stream",
     "text": [
      "                                                  \r"
     ]
    },
    {
     "name": "stdout",
     "output_type": "stream",
     "text": [
      "Moviepy - Done !\n",
      "Moviepy - video ready /home/kurubal/Documents/Modern Ways/Project/Turkish/Image Audio Video/Result/200 Words/Twogram_Threegram/Threegram_Twogram_Selected/Result/Image_Video_Audio/senin.mp4\n",
      "MoviePy - Writing audio in /home/kurubal/Documents/Modern Ways/Project/Turkish/Image Audio Video/Result/200 Words/Twogram_Threegram/Threegram_Twogram_Selected/Data/Text_MP3/senin için.mp3\n"
     ]
    },
    {
     "name": "stderr",
     "output_type": "stream",
     "text": [
      "                                                       "
     ]
    },
    {
     "name": "stdout",
     "output_type": "stream",
     "text": [
      "MoviePy - Done.\n"
     ]
    },
    {
     "name": "stderr",
     "output_type": "stream",
     "text": [
      "\r"
     ]
    },
    {
     "name": "stdout",
     "output_type": "stream",
     "text": [
      "Moviepy - Building video /home/kurubal/Documents/Modern Ways/Project/Turkish/Image Audio Video/Result/200 Words/Twogram_Threegram/Threegram_Twogram_Selected/Result/Image_Video_Audio/senin için.mp4.\n",
      "MoviePy - Writing audio in senin içinTEMP_MPY_wvf_snd.mp4\n"
     ]
    },
    {
     "name": "stderr",
     "output_type": "stream",
     "text": [
      "                                                       \r"
     ]
    },
    {
     "name": "stdout",
     "output_type": "stream",
     "text": [
      "MoviePy - Done.\n",
      "Moviepy - Writing video /home/kurubal/Documents/Modern Ways/Project/Turkish/Image Audio Video/Result/200 Words/Twogram_Threegram/Threegram_Twogram_Selected/Result/Image_Video_Audio/senin için.mp4\n",
      "\n"
     ]
    },
    {
     "name": "stderr",
     "output_type": "stream",
     "text": [
      "                                                  \r"
     ]
    },
    {
     "name": "stdout",
     "output_type": "stream",
     "text": [
      "Moviepy - Done !\n",
      "Moviepy - video ready /home/kurubal/Documents/Modern Ways/Project/Turkish/Image Audio Video/Result/200 Words/Twogram_Threegram/Threegram_Twogram_Selected/Result/Image_Video_Audio/senin için.mp4\n",
      "Moviepy - Building video /home/kurubal/Documents/Modern Ways/Project/Turkish/Image Audio Video/Result/200 Words/Twogram_Threegram/Threegram_Twogram_Selected/Result/Concat_Video/senin için.mp4.\n",
      "MoviePy - Writing audio in senin içinTEMP_MPY_wvf_snd.mp4\n"
     ]
    },
    {
     "name": "stderr",
     "output_type": "stream",
     "text": [
      "                                                        \r"
     ]
    },
    {
     "name": "stdout",
     "output_type": "stream",
     "text": [
      "MoviePy - Done.\n",
      "Moviepy - Writing video /home/kurubal/Documents/Modern Ways/Project/Turkish/Image Audio Video/Result/200 Words/Twogram_Threegram/Threegram_Twogram_Selected/Result/Concat_Video/senin için.mp4\n",
      "\n"
     ]
    },
    {
     "name": "stderr",
     "output_type": "stream",
     "text": [
      "                                                  \r"
     ]
    },
    {
     "name": "stdout",
     "output_type": "stream",
     "text": [
      "Moviepy - Done !\n",
      "Moviepy - video ready /home/kurubal/Documents/Modern Ways/Project/Turkish/Image Audio Video/Result/200 Words/Twogram_Threegram/Threegram_Twogram_Selected/Result/Concat_Video/senin için.mp4\n",
      "MoviePy - Writing audio in /home/kurubal/Documents/Modern Ways/Project/Turkish/Image Audio Video/Result/200 Words/Twogram_Threegram/Threegram_Twogram_Selected/Data/Text_MP3/sorun yok.mp3\n"
     ]
    },
    {
     "name": "stderr",
     "output_type": "stream",
     "text": [
      "                                                       "
     ]
    },
    {
     "name": "stdout",
     "output_type": "stream",
     "text": [
      "MoviePy - Done.\n"
     ]
    },
    {
     "name": "stderr",
     "output_type": "stream",
     "text": [
      "\r"
     ]
    },
    {
     "name": "stdout",
     "output_type": "stream",
     "text": [
      "Moviepy - Building video /home/kurubal/Documents/Modern Ways/Project/Turkish/Image Audio Video/Result/200 Words/Twogram_Threegram/Threegram_Twogram_Selected/Result/Image_Video_Audio/sorun yok.mp4.\n",
      "MoviePy - Writing audio in sorun yokTEMP_MPY_wvf_snd.mp4\n"
     ]
    },
    {
     "name": "stderr",
     "output_type": "stream",
     "text": [
      "                                                       \r"
     ]
    },
    {
     "name": "stdout",
     "output_type": "stream",
     "text": [
      "MoviePy - Done.\n",
      "Moviepy - Writing video /home/kurubal/Documents/Modern Ways/Project/Turkish/Image Audio Video/Result/200 Words/Twogram_Threegram/Threegram_Twogram_Selected/Result/Image_Video_Audio/sorun yok.mp4\n",
      "\n"
     ]
    },
    {
     "name": "stderr",
     "output_type": "stream",
     "text": [
      "                                                  "
     ]
    },
    {
     "name": "stdout",
     "output_type": "stream",
     "text": [
      "Moviepy - Done !\n",
      "Moviepy - video ready /home/kurubal/Documents/Modern Ways/Project/Turkish/Image Audio Video/Result/200 Words/Twogram_Threegram/Threegram_Twogram_Selected/Result/Image_Video_Audio/sorun yok.mp4\n"
     ]
    },
    {
     "name": "stderr",
     "output_type": "stream",
     "text": [
      "\r"
     ]
    },
    {
     "name": "stdout",
     "output_type": "stream",
     "text": [
      "Moviepy - Building video /home/kurubal/Documents/Modern Ways/Project/Turkish/Image Audio Video/Result/200 Words/Twogram_Threegram/Threegram_Twogram_Selected/Result/Concat_Video/sorun yok.mp4.\n",
      "MoviePy - Writing audio in sorun yokTEMP_MPY_wvf_snd.mp4\n"
     ]
    },
    {
     "name": "stderr",
     "output_type": "stream",
     "text": [
      "                                                        \r"
     ]
    },
    {
     "name": "stdout",
     "output_type": "stream",
     "text": [
      "MoviePy - Done.\n",
      "Moviepy - Writing video /home/kurubal/Documents/Modern Ways/Project/Turkish/Image Audio Video/Result/200 Words/Twogram_Threegram/Threegram_Twogram_Selected/Result/Concat_Video/sorun yok.mp4\n",
      "\n"
     ]
    },
    {
     "name": "stderr",
     "output_type": "stream",
     "text": [
      "                                                  \r"
     ]
    },
    {
     "name": "stdout",
     "output_type": "stream",
     "text": [
      "Moviepy - Done !\n",
      "Moviepy - video ready /home/kurubal/Documents/Modern Ways/Project/Turkish/Image Audio Video/Result/200 Words/Twogram_Threegram/Threegram_Twogram_Selected/Result/Concat_Video/sorun yok.mp4\n",
      "MoviePy - Writing audio in /home/kurubal/Documents/Modern Ways/Project/Turkish/Image Audio Video/Result/200 Words/Twogram_Threegram/Threegram_Twogram_Selected/Data/Text_MP3/tamam mı.mp3\n"
     ]
    },
    {
     "name": "stderr",
     "output_type": "stream",
     "text": [
      "                                                       "
     ]
    },
    {
     "name": "stdout",
     "output_type": "stream",
     "text": [
      "MoviePy - Done.\n"
     ]
    },
    {
     "name": "stderr",
     "output_type": "stream",
     "text": [
      "\r"
     ]
    },
    {
     "name": "stdout",
     "output_type": "stream",
     "text": [
      "Moviepy - Building video /home/kurubal/Documents/Modern Ways/Project/Turkish/Image Audio Video/Result/200 Words/Twogram_Threegram/Threegram_Twogram_Selected/Result/Image_Video_Audio/tamam mı.mp4.\n",
      "MoviePy - Writing audio in tamam mıTEMP_MPY_wvf_snd.mp4\n"
     ]
    },
    {
     "name": "stderr",
     "output_type": "stream",
     "text": [
      "                                                       \r"
     ]
    },
    {
     "name": "stdout",
     "output_type": "stream",
     "text": [
      "MoviePy - Done.\n",
      "Moviepy - Writing video /home/kurubal/Documents/Modern Ways/Project/Turkish/Image Audio Video/Result/200 Words/Twogram_Threegram/Threegram_Twogram_Selected/Result/Image_Video_Audio/tamam mı.mp4\n",
      "\n"
     ]
    },
    {
     "name": "stderr",
     "output_type": "stream",
     "text": [
      "                                                  \r"
     ]
    },
    {
     "name": "stdout",
     "output_type": "stream",
     "text": [
      "Moviepy - Done !\n",
      "Moviepy - video ready /home/kurubal/Documents/Modern Ways/Project/Turkish/Image Audio Video/Result/200 Words/Twogram_Threegram/Threegram_Twogram_Selected/Result/Image_Video_Audio/tamam mı.mp4\n",
      "Moviepy - Building video /home/kurubal/Documents/Modern Ways/Project/Turkish/Image Audio Video/Result/200 Words/Twogram_Threegram/Threegram_Twogram_Selected/Result/Concat_Video/tamam mı.mp4.\n",
      "MoviePy - Writing audio in tamam mıTEMP_MPY_wvf_snd.mp4\n"
     ]
    },
    {
     "name": "stderr",
     "output_type": "stream",
     "text": [
      "                                                        \r"
     ]
    },
    {
     "name": "stdout",
     "output_type": "stream",
     "text": [
      "MoviePy - Done.\n",
      "Moviepy - Writing video /home/kurubal/Documents/Modern Ways/Project/Turkish/Image Audio Video/Result/200 Words/Twogram_Threegram/Threegram_Twogram_Selected/Result/Concat_Video/tamam mı.mp4\n",
      "\n"
     ]
    },
    {
     "name": "stderr",
     "output_type": "stream",
     "text": [
      "                                                  \r"
     ]
    },
    {
     "name": "stdout",
     "output_type": "stream",
     "text": [
      "Moviepy - Done !\n",
      "Moviepy - video ready /home/kurubal/Documents/Modern Ways/Project/Turkish/Image Audio Video/Result/200 Words/Twogram_Threegram/Threegram_Twogram_Selected/Result/Concat_Video/tamam mı.mp4\n"
     ]
    }
   ],
   "source": [
    "all_in_one(word_group_list, \"Images\", image_path, output_path, language=lang)"
   ]
  },
  {
   "cell_type": "code",
   "execution_count": null,
   "metadata": {},
   "outputs": [],
   "source": []
  },
  {
   "cell_type": "markdown",
   "metadata": {},
   "source": [
    "##### Output File Check"
   ]
  },
  {
   "cell_type": "code",
   "execution_count": 20,
   "metadata": {},
   "outputs": [
    {
     "data": {
      "text/plain": [
       "['gerek yok',\n",
       " 'hayır sorun yok',\n",
       " 'peki o zaman',\n",
       " 'hiç gerek yok',\n",
       " 'sorun yok',\n",
       " 'hiçbir sorun yok',\n",
       " 'tamam güzel',\n",
       " 'buraya gel',\n",
       " 'bu çok iyi',\n",
       " 'lütfen izin ver',\n",
       " 'orada biri var',\n",
       " 'bu biraz fazla',\n",
       " 'seninle birlikte',\n",
       " 'çok teşekkür ederim',\n",
       " 'tamam devam et',\n",
       " 'sana ne oldu',\n",
       " 'evet o benim',\n",
       " 'ona ne oldu',\n",
       " 'neler oluyor orada',\n",
       " 'hadi bakalım',\n",
       " 'uzun zaman oldu',\n",
       " 'sorun var mı',\n",
       " 'bunu herkes biliyor',\n",
       " 'yeni geldi',\n",
       " 'bence bu harika',\n",
       " 'şimdi bana bak',\n",
       " 'orada mısın sen',\n",
       " 'aynı şekilde',\n",
       " 'bana bak',\n",
       " 'senin için',\n",
       " 'bu doğru mu',\n",
       " 'ben de seni',\n",
       " 'var mı',\n",
       " 'bu yüzden',\n",
       " 'ne kadar var',\n",
       " 'hiç sorun değil',\n",
       " 'her şeyi biliyorum',\n",
       " 'sen geliyor musun',\n",
       " 'biri var',\n",
       " 'çok güzel',\n",
       " 'tam olarak nasıl',\n",
       " 'sadece birkaç dakika',\n",
       " 'biliyorsun değil mi',\n",
       " 'izin ver',\n",
       " 'o benim',\n",
       " 'daha iyi',\n",
       " 'yardım ister misin',\n",
       " 'evet efendim bu',\n",
       " 'çok güzel değil',\n",
       " 'ister misin',\n",
       " 'doğru mu',\n",
       " 'evet öyle',\n",
       " 'ne kadar',\n",
       " 'önemli olan',\n",
       " 'neden böyle',\n",
       " 'biraz izin ver',\n",
       " 'tamam mı',\n",
       " 'tamam sorun değil',\n",
       " 'neden böyle yapıyorsun',\n",
       " 'bu kadar',\n",
       " 'olur mu',\n",
       " 'benimle geliyor musun',\n",
       " 'doğru mu bu',\n",
       " 'geliyor musun',\n",
       " 'birkaç gün içinde',\n",
       " 'biraz fazla uzun',\n",
       " 'tam burada',\n",
       " 'onun gibi',\n",
       " 'bir dakika içinde',\n",
       " 'tabii ki öyle',\n",
       " 'daha yeni geldi',\n",
       " 'orada mısın',\n",
       " 'buna gerek yok',\n",
       " 'şimdi olmaz',\n",
       " 'bütün gün',\n",
       " 'bana izin ver',\n",
       " 'para için',\n",
       " 'doğru mu bilmiyorum',\n",
       " 'ona yardım et',\n",
       " 'kimse var mı',\n",
       " 'devam et',\n",
       " 'tüm gece',\n",
       " 'biliyor musun',\n",
       " 'gerçekten çok güzel',\n",
       " 'ben teşekkür ederim',\n",
       " 'birkaç gün',\n",
       " 'bana yardım et',\n",
       " 'bu da bana',\n",
       " 'neden böyle oldu',\n",
       " 'ver şunu',\n",
       " 'bize yardım et',\n",
       " 'daha iyi olacak',\n",
       " 'evet çok güzel',\n",
       " 'yardım et bana',\n",
       " 'asla olmaz',\n",
       " 'herkes biliyor',\n",
       " 'neler oluyor burada',\n",
       " 'bir şey var',\n",
       " 'burada neler oluyor',\n",
       " 'lütfen yardım et']"
      ]
     },
     "execution_count": 20,
     "metadata": {},
     "output_type": "execute_result"
    }
   ],
   "source": [
    "out_files_list=[os.path.splitext(f)[0] for f in os.listdir(f\"{output_path}/Result/Concat_Video\") if isfile(join(f\"{output_path}/Result/Concat_Video\",f))]\n",
    "out_files_list "
   ]
  },
  {
   "cell_type": "code",
   "execution_count": 21,
   "metadata": {},
   "outputs": [],
   "source": [
    "out_files_set = set(out_files_list)\n",
    "word_group_set = set(word_group_list)"
   ]
  },
  {
   "cell_type": "code",
   "execution_count": 22,
   "metadata": {},
   "outputs": [
    {
     "data": {
      "text/plain": [
       "set()"
      ]
     },
     "execution_count": 22,
     "metadata": {},
     "output_type": "execute_result"
    }
   ],
   "source": [
    "word_group_set.difference(out_files_set)"
   ]
  },
  {
   "cell_type": "code",
   "execution_count": null,
   "metadata": {},
   "outputs": [],
   "source": []
  },
  {
   "cell_type": "markdown",
   "metadata": {},
   "source": [
    "#### Result Video File Concat"
   ]
  },
  {
   "cell_type": "code",
   "execution_count": 23,
   "metadata": {},
   "outputs": [],
   "source": [
    "from moviepy.editor import VideoFileClip, concatenate_videoclips\n",
    "import os\n",
    "import sys\n",
    "import numpy as np\n",
    "import pandas as pd\n",
    "from pathlib import Path\n",
    "import shutil\n",
    "from os.path import isfile, join\n",
    "import time\n",
    "import nltk\n",
    "from nltk import word_tokenize"
   ]
  },
  {
   "cell_type": "code",
   "execution_count": 24,
   "metadata": {},
   "outputs": [],
   "source": [
    "# language pair\n",
    "lang_folder = \"Turkish\"  # Arabic, English, French, German, Turkish, Spanish, Portuguese, Dutch, Italian ==> target language for learner\n",
    "#lang_pair = \"English\"  # Arabic, English, French, German, Turkish, Spanish, Portuguese, Dutch, Italian ==> native language\n",
    "\n",
    "filename_length_num = 5"
   ]
  },
  {
   "cell_type": "code",
   "execution_count": 25,
   "metadata": {},
   "outputs": [],
   "source": [
    "def concat_video2(text_list, video_data_folder_name, video_data_path, out_folder_name, out_path, filename):  \n",
    "    '''\n",
    "    concat_video(text_list, video_data_folder_name, video_data_path, out_folder_name, out_path, filename)\\n\n",
    "    text_list is list values. video_data_folder_name, video_data_path, out_folder_name and out_path are path and folder in string(str)\\n\n",
    "    filename is string of result mp4 file name.\n",
    "    ex.\\n\n",
    "    path = f\"/media/kurubal/SSD/Data Scientist/Work/Modern Ways/Project/{lang_folder.capitalize()}/Image Audio Video/Result/200 Words\"\\n\n",
    "    audio_image_video_path = f\"/media/kurubal/SSD/Data Scientist/Work/Modern Ways/Project/{lang_folder.capitalize()}/Image Audio Video/Data/200 Words\"\\n\n",
    "    concat_video(word_select_list, \"Image_Video_Audio\", audio_image_video_path, \"Concat_Video\", path, \"200_Word_Combined_Sample\")\n",
    "    '''\n",
    "    no_image_file_list = []\n",
    "    result_path = f\"{out_path}/{out_folder_name}\"\n",
    "    Path(result_path).mkdir(parents=True, exist_ok=True)\n",
    "    video_text_list = []\n",
    "    video_list = []\n",
    "\n",
    "    if isfile(f\"{result_path}/{filename}.mp4\"):\n",
    "        pass\n",
    "    else:\n",
    "        for text in text_list:\n",
    "            if isfile(f\"{video_data_path}/{video_data_folder_name}/{text}.mp4\"):\n",
    "                video_text_list.append(text)            \n",
    "            else:\n",
    "                no_image_file_list.append(text)\n",
    "\n",
    "        for video_num in range(len(video_text_list)):\n",
    "            try:\n",
    "                clip_var = VideoFileClip(f\"{video_data_path}/{video_data_folder_name}/{video_text_list[video_num]}.mp4\", target_resolution=(900, 1600))  # height, width\n",
    "                video_list.append(clip_var)            \n",
    "            except:\n",
    "                print(\"Oops!\", sys.exc_info()[0], \"occurred.\", f\"{video_text_list[video_num]}.mp4\")\n",
    "\n",
    "        combined = concatenate_videoclips(video_list, method='compose')\n",
    "        combined.write_videofile(f\"{result_path}/{filename}.mp4\", audio_bitrate='128k', audio_fps=44100, audio_codec=\"aac\")\n",
    "    \n",
    "    return no_image_file_list"
   ]
  },
  {
   "cell_type": "code",
   "execution_count": 26,
   "metadata": {},
   "outputs": [],
   "source": [
    "# Previous output path and folder\n",
    "#prev_result_path = f\"/home/kurubal/Documents/Modern Ways/Project/{lang_folder.capitalize()}/Image Audio Video/Result/200 Words\"\n",
    "#prev_main_result_folder = \"Twogram_Threegram\"\n",
    "#prev_result_folder = \"Threegram_Twogram_Selected\"\n",
    "\n",
    "prev_result_path = f\"{result_path}\"\n",
    "prev_main_result_folder = f\"{main_result_folder}\"\n",
    "prev_result_folder = f\"{result_folder}\""
   ]
  },
  {
   "cell_type": "code",
   "execution_count": 27,
   "metadata": {},
   "outputs": [],
   "source": [
    "data_path = f\"{prev_result_path}/{prev_main_result_folder}/{prev_result_folder}/Result\"  # previous output path result for data for this\n",
    "result_path = f\"{prev_result_path}/{prev_main_result_folder}/{prev_result_folder}/Result\""
   ]
  },
  {
   "cell_type": "code",
   "execution_count": 28,
   "metadata": {},
   "outputs": [],
   "source": [
    "#df_deployment_file = pd.read_excel(\"/media/kurubal/SSD/Data Scientist/Work/Modern Ways/Project/Turkish/\\\n",
    "#Deployment2/Result/Deploy2 Result Manuel/Turkish/Twogram_Threegram_Selected.xlsx\", sheet_name=\"twogram_threegram_selected\")\n",
    "#df_deployment_file"
   ]
  },
  {
   "cell_type": "code",
   "execution_count": 29,
   "metadata": {},
   "outputs": [],
   "source": [
    "#word_group_list = df_deployment_file[\"twogram_threegram_selected\"].dropna().to_list()\n",
    "#word_group_list"
   ]
  },
  {
   "cell_type": "code",
   "execution_count": 30,
   "metadata": {},
   "outputs": [
    {
     "data": {
      "text/plain": [
       "100"
      ]
     },
     "execution_count": 30,
     "metadata": {},
     "output_type": "execute_result"
    }
   ],
   "source": [
    "len(word_group_list)"
   ]
  },
  {
   "cell_type": "code",
   "execution_count": 31,
   "metadata": {},
   "outputs": [],
   "source": [
    "word_group_list2 = []\n",
    "for word_group in word_group_list:\n",
    "    word_list = word_tokenize(word_group)\n",
    "    if len(word_list)>filename_length_num:\n",
    "        filename_new = \" \".join(word_list[0:filename_length_num])\n",
    "    else:\n",
    "        filename_new = word_group\n",
    "    word_group_list2.append(filename_new)"
   ]
  },
  {
   "cell_type": "code",
   "execution_count": 32,
   "metadata": {},
   "outputs": [
    {
     "name": "stdout",
     "output_type": "stream",
     "text": [
      "Moviepy - Building video /home/kurubal/Documents/Modern Ways/Project/Turkish/Image Audio Video/Result/200 Words/Twogram_Threegram/Threegram_Twogram_Selected/Result/All_Concat_Video/Threegram_Twogram_Selected.mp4.\n",
      "MoviePy - Writing audio in Threegram_Twogram_SelectedTEMP_MPY_wvf_snd.mp4\n"
     ]
    },
    {
     "name": "stderr",
     "output_type": "stream",
     "text": [
      "                                                                        \r"
     ]
    },
    {
     "name": "stdout",
     "output_type": "stream",
     "text": [
      "MoviePy - Done.\n",
      "Moviepy - Writing video /home/kurubal/Documents/Modern Ways/Project/Turkish/Image Audio Video/Result/200 Words/Twogram_Threegram/Threegram_Twogram_Selected/Result/All_Concat_Video/Threegram_Twogram_Selected.mp4\n",
      "\n"
     ]
    },
    {
     "name": "stderr",
     "output_type": "stream",
     "text": [
      "                                                              \r"
     ]
    },
    {
     "name": "stdout",
     "output_type": "stream",
     "text": [
      "Moviepy - Done !\n",
      "Moviepy - video ready /home/kurubal/Documents/Modern Ways/Project/Turkish/Image Audio Video/Result/200 Words/Twogram_Threegram/Threegram_Twogram_Selected/Result/All_Concat_Video/Threegram_Twogram_Selected.mp4\n"
     ]
    },
    {
     "data": {
      "text/plain": [
       "[]"
      ]
     },
     "execution_count": 32,
     "metadata": {},
     "output_type": "execute_result"
    }
   ],
   "source": [
    "concat_video2(word_group_list2, \"Concat_Video\", data_path, \"All_Concat_Video\", result_path, f\"{prev_result_folder}\")"
   ]
  },
  {
   "cell_type": "code",
   "execution_count": null,
   "metadata": {},
   "outputs": [],
   "source": []
  },
  {
   "cell_type": "code",
   "execution_count": null,
   "metadata": {},
   "outputs": [],
   "source": []
  },
  {
   "cell_type": "code",
   "execution_count": null,
   "metadata": {},
   "outputs": [],
   "source": []
  },
  {
   "cell_type": "code",
   "execution_count": null,
   "metadata": {},
   "outputs": [],
   "source": []
  },
  {
   "cell_type": "code",
   "execution_count": null,
   "metadata": {},
   "outputs": [],
   "source": [
    "word_group_list2 = [\"al\",\"artık\",\"asla\"]"
   ]
  },
  {
   "cell_type": "code",
   "execution_count": null,
   "metadata": {},
   "outputs": [],
   "source": [
    "result_path = f\"/media/kurubal/SSD/Data Scientist/Work/Modern Ways/Project/Turkish/Temp/Image Test/Result\""
   ]
  },
  {
   "cell_type": "code",
   "execution_count": null,
   "metadata": {},
   "outputs": [],
   "source": [
    "concat_video(word_group_list2, \"Image_Video_Audio\", result_path, \"Test\", result_path, \"test_video\", \"adam ama anne\")"
   ]
  },
  {
   "cell_type": "code",
   "execution_count": null,
   "metadata": {},
   "outputs": [],
   "source": []
  },
  {
   "cell_type": "code",
   "execution_count": null,
   "metadata": {},
   "outputs": [],
   "source": [
    "delay_time = 0.5\n",
    "wordgroup = \"ben eve geldim\""
   ]
  },
  {
   "cell_type": "code",
   "execution_count": null,
   "metadata": {},
   "outputs": [],
   "source": [
    "audio_delay = AudioFileClip(audio_delay_path).subclip(0,delay_time)"
   ]
  },
  {
   "cell_type": "code",
   "execution_count": null,
   "metadata": {},
   "outputs": [],
   "source": [
    "text_audio = gTTS(text=wordgroup, lang=lang, slow=\"False\")"
   ]
  },
  {
   "cell_type": "code",
   "execution_count": null,
   "metadata": {},
   "outputs": [],
   "source": [
    "audio_combined = concatenate_audioclips([audio_delay,text_audio,audio_delay])"
   ]
  },
  {
   "cell_type": "code",
   "execution_count": null,
   "metadata": {},
   "outputs": [],
   "source": []
  },
  {
   "cell_type": "code",
   "execution_count": null,
   "metadata": {},
   "outputs": [],
   "source": [
    "df_deployment_file = pd.read_excel(f\"/media/kurubal/SSD/Data Scientist/Work/Modern Ways/Project/{lang_folder.lower().capitalize()}/Deployment2/\\\n",
    "Result/8-Adjust Word Group In Youtube Deploy Result/{lang_folder.lower().capitalize()}/Turkish_200_Word_Group_In_Youtube_Sentence_Word_Index_List_Sample_Selected.xlsx\")\n",
    "df_deployment_file = df_deployment_file.iloc[:,[0,1,2,3,4,5]]\n",
    "df_deployment_file"
   ]
  },
  {
   "cell_type": "code",
   "execution_count": null,
   "metadata": {},
   "outputs": [],
   "source": [
    "df_deployment_file_sent_list = df_deployment_file[\"search_string\"].to_list()"
   ]
  },
  {
   "cell_type": "code",
   "execution_count": null,
   "metadata": {},
   "outputs": [],
   "source": [
    "word_group_word_video_combine(df_deployment_file_sent_list, \"Image_Video_Audio\", audio_image_video_path, \"200_Word_69_Youtube_Sentence\", path)"
   ]
  },
  {
   "cell_type": "code",
   "execution_count": null,
   "metadata": {},
   "outputs": [],
   "source": []
  },
  {
   "cell_type": "code",
   "execution_count": null,
   "metadata": {},
   "outputs": [],
   "source": []
  },
  {
   "cell_type": "code",
   "execution_count": null,
   "metadata": {},
   "outputs": [],
   "source": []
  },
  {
   "cell_type": "code",
   "execution_count": null,
   "metadata": {},
   "outputs": [],
   "source": []
  }
 ],
 "metadata": {
  "kernelspec": {
   "display_name": "Python 3.9.5 ('py39')",
   "language": "python",
   "name": "python3"
  },
  "language_info": {
   "codemirror_mode": {
    "name": "ipython",
    "version": 3
   },
   "file_extension": ".py",
   "mimetype": "text/x-python",
   "name": "python",
   "nbconvert_exporter": "python",
   "pygments_lexer": "ipython3",
   "version": "3.9.5"
  },
  "orig_nbformat": 4,
  "vscode": {
   "interpreter": {
    "hash": "651d507d70892fab0fc6529d935cd476f6e2eb1791525b76da6cc8da34bc0503"
   }
  }
 },
 "nbformat": 4,
 "nbformat_minor": 2
}
