{
 "cells": [
  {
   "cell_type": "markdown",
   "metadata": {},
   "source": [
    "### All In One Process"
   ]
  },
  {
   "cell_type": "code",
   "execution_count": null,
   "metadata": {},
   "outputs": [],
   "source": [
    "import os\n",
    "import sys\n",
    "import numpy as np\n",
    "import pandas as pd\n",
    "from gtts import gTTS\n",
    "#from playsound import playsound\n",
    "from moviepy.editor import VideoFileClip, concatenate_videoclips, AudioFileClip, concatenate_audioclips,CompositeVideoClip, CompositeAudioClip\n",
    "import pandas as pd\n",
    "import nltk\n",
    "from nltk import word_tokenize\n",
    "from pathlib import Path\n",
    "import shutil\n",
    "from os.path import isfile, join\n",
    "import time\n",
    "import cv2"
   ]
  },
  {
   "cell_type": "code",
   "execution_count": null,
   "metadata": {},
   "outputs": [],
   "source": [
    "# language pair\n",
    "lang_folder = \"Turkish\"  # Arabic, English, French, German, Turkish, Spanish, Portuguese, Dutch, Italian ==> target language for learner\n",
    "#lang_pair = \"English\"  # Arabic, English, French, German, Turkish, Spanish, Portuguese, Dutch, Italian ==> native language\n",
    "\n",
    "# lang\n",
    "if lang_folder == \"English\":\n",
    "    lang = 'en'\n",
    "elif lang_folder == \"Turkish\":\n",
    "    lang = 'tr'\n",
    "elif lang_folder == \"German\":\n",
    "    lang = 'de'\n",
    "elif lang_folder == \"French\":\n",
    "    lang = 'fr'\n",
    "elif lang_folder == \"Spanish\":\n",
    "    lang = 'es'\n",
    "elif lang_folder == \"Arabic\":\n",
    "    lang = 'ar'\n",
    "elif lang_folder == \"Portuguese\":\n",
    "    lang = 'pt'\n",
    "elif lang_folder == \"Dutch\":\n",
    "    lang = 'nl'\n",
    "elif lang_folder == \"Italian\":\n",
    "    lang = 'it'\n",
    "else:\n",
    "    pass\n",
    "\n",
    "print(f\"{lang_folder}\\n{lang}\") "
   ]
  },
  {
   "cell_type": "code",
   "execution_count": null,
   "metadata": {},
   "outputs": [],
   "source": [
    "# Path and folder\n",
    "result_folder = \"Twogram2\"\n",
    "result_path = f\"/media/kurubal/SSD/Data Scientist/Work/Modern Ways/Project/{lang_folder.capitalize()}/Temp/Image Test\"\n",
    "image_path = f\"/media/kurubal/SSD/Data Scientist/Work/Modern Ways/Project/{lang_folder.capitalize()}/Image Audio Video/Data/200 Words\"\n",
    "audio_delay_path_and_file = f\"/media/kurubal/SSD/Data Scientist/Work/Modern Ways/Project/{lang_folder.capitalize()}/Image Audio Video/Data/200 Words/Delay/delay_audio.wav\""
   ]
  },
  {
   "cell_type": "code",
   "execution_count": null,
   "metadata": {},
   "outputs": [],
   "source": [
    "output_path = f\"{result_path}/{result_folder}\"  # output path"
   ]
  },
  {
   "cell_type": "code",
   "execution_count": null,
   "metadata": {},
   "outputs": [],
   "source": [
    "def text_convert_to_audio_same(filename_list, out_folder_name, out_path, language=\"en\", speech_slow=True, delay_time = 0.5, delay_point = \"both\"):\n",
    "    ''' \n",
    "    text_convert_to_audio_same(word_group, out_folder_name, out_path, filename, language=\"en\", speech_slow=True, delay_time = 0.5, delay_point = \"both\")\\n\n",
    "    word_group is a string values. out_folder_name and out_path are path and folder name in str, filename is output result filename\\n\n",
    "    delay_time is in second and add delay to gttS audio result. delay point used for delay start, end or both\\n \n",
    "    ex:\\n\n",
    "    path = f\"/media/kurubal/SSD/Data Scientist/Data Science/Data-Scientist/Work/Modern Ways/Image Audio/Product\"\\n\n",
    "    text_convert_to_audio(word_select_list, \"Text_Audio\", path, language=lang)\n",
    "    '''\n",
    "    result_path = f\"{out_path}/{out_folder_name}\"\n",
    "    Path(result_path).mkdir(parents=True, exist_ok=True)\n",
    "    audio_delay = AudioFileClip(audio_delay_path_and_file).subclip(0,delay_time)\n",
    "    for filename in filename_list:\n",
    "        if isfile(f\"{result_path}/{filename}.mp3\"):\n",
    "            pass\n",
    "        else:\n",
    "            text_audio = gTTS(text=filename, lang=language, slow=speech_slow)\n",
    "            text_audio.save(f\"{result_path}/{filename}.mp3\")\n",
    "            text_audio2 = AudioFileClip(f\"{result_path}/{filename}.mp3\")\n",
    "            try:        \n",
    "                if delay_point == \"both\":\n",
    "                    audio_combined = concatenate_audioclips([audio_delay,text_audio2,audio_delay])\n",
    "                elif delay_point == \"start\":\n",
    "                    audio_combined = concatenate_audioclips([audio_delay,text_audio2])\n",
    "                elif delay_point == \"end\":\n",
    "                    audio_combined = concatenate_audioclips([text_audio2,audio_delay])\n",
    "                else:\n",
    "                    audio_combined = concatenate_audioclips([text_audio2])\n",
    "\n",
    "                audio_combined.write_audiofile(f\"{result_path}/{filename}.mp3\", codec=\"mp3\", bitrate=\"128k\", fps=44100)\n",
    "            except:\n",
    "                    print(\"Oops!\", sys.exc_info()[0], \"occurred.\")"
   ]
  },
  {
   "cell_type": "code",
   "execution_count": null,
   "metadata": {},
   "outputs": [],
   "source": [
    "def wordgroup_convert_to_audio_same(word_group, out_folder_name, out_path, language=\"en\", speech_slow=True, delay_time = 0.5, delay_point = \"both\"):\n",
    "    ''' \n",
    "    text_convert_to_audio_same(word_group, out_folder_name, out_path, filename, language=\"en\", speech_slow=True, delay_time = 0.5, delay_point = \"both\")\\n\n",
    "    word_group is a string values. out_folder_name and out_path are path and folder name in str, filename is output result filename\\n\n",
    "    delay_time is in second and add delay to gttS audio result. delay point used for delay start, end or both\\n \n",
    "    ex:\\n\n",
    "    path = f\"/media/kurubal/SSD/Data Scientist/Data Science/Data-Scientist/Work/Modern Ways/Image Audio/Product\"\\n\n",
    "    text_convert_to_audio(word_select_list, \"Text_Audio\", path, language=lang)\n",
    "    '''\n",
    "    result_path = f\"{out_path}/{out_folder_name}\"\n",
    "    Path(result_path).mkdir(parents=True, exist_ok=True)\n",
    "    audio_delay = AudioFileClip(audio_delay_path_and_file).subclip(0,delay_time)\n",
    "    \n",
    "    word_list = word_tokenize(word_group)\n",
    "    if len(word_list)>3:\n",
    "        filename = \" \".join(word_list[0:3])\n",
    "    else:\n",
    "        filename = word_group    \n",
    "\n",
    "    text_audio = gTTS(text=word_group, lang=language, slow=speech_slow)\n",
    "    text_audio.save(f\"{result_path}/{filename}.mp3\")\n",
    "    text_audio2 = AudioFileClip(f\"{result_path}/{filename}.mp3\")\n",
    "    \n",
    "    try:        \n",
    "        if delay_point == \"both\":\n",
    "            audio_combined = concatenate_audioclips([audio_delay,text_audio2,audio_delay])\n",
    "        elif delay_point == \"start\":\n",
    "            audio_combined = concatenate_audioclips([audio_delay,text_audio2])\n",
    "        elif delay_point == \"end\":\n",
    "            audio_combined = concatenate_audioclips([text_audio2,audio_delay])\n",
    "        else:\n",
    "            audio_combined = concatenate_audioclips([text_audio2])\n",
    "\n",
    "        audio_combined.write_audiofile(f\"{result_path}/{filename}.mp3\", codec=\"mp3\", bitrate=\"128k\", fps=44100)\n",
    "    except:\n",
    "            print(\"Oops!\", sys.exc_info()[0], \"occurred.\")"
   ]
  },
  {
   "cell_type": "code",
   "execution_count": null,
   "metadata": {},
   "outputs": [],
   "source": [
    "def convert_image_to_jpg_crop_size(filename_list, data_folder_name, data_path, out_folder_name, out_path):\n",
    "    '''\n",
    "    convert_image_to_jpg(data_folder_name, data_path, out_folder_name, out_path)\\n\n",
    "    data_folder_name, data_path, out_folder_name and out_path are path and folder in string.\\n\n",
    "    ex.\\n\n",
    "    path = f\"/media/kurubal/SSD/Data Scientist/Data Science/Data-Scientist/Work/Modern Ways/Image Audio/Product\"\\n\n",
    "    image_path = f\"/media/kurubal/SSD/Data Scientist/Data Science/Data-Scientist/Work/Modern Ways/Image Audio/Product\"\\n\n",
    "    convert_image_to_jpg(\"Images\", image_path, \"Images_JPG\", path)\n",
    "    '''\n",
    "    aspect_ratio_width = 16\n",
    "    aspect_ratio_height = 9\n",
    "    basewidth = 1600\n",
    "    size_width = int(basewidth)\n",
    "    size_heigth = int((basewidth/aspect_ratio_width)*aspect_ratio_height)\n",
    "    size = (size_width,size_heigth)\n",
    "\n",
    "    result_path = f\"{out_path}/{out_folder_name}\"\n",
    "    #result_path2 = f\"{out_path}/Images_JPG\"\n",
    "    data_folder_path = f\"{data_path}/{data_folder_name}\"\n",
    "    Path(result_path).mkdir(parents=True, exist_ok=True)\n",
    "    #Path(result_path2).mkdir(parents=True, exist_ok=True)\n",
    "\n",
    "    for filename in filename_list:    \n",
    "        if isfile(f\"{result_path}/{filename}.jpg\"):\n",
    "            pass\n",
    "        else:\n",
    "            try:\n",
    "                img_file = Image.open(f\"{data_path}/{data_folder_name}/{filename}.jpg\")\n",
    "                img = img_file.convert(\"RGB\")\n",
    "                img.save(f\"{result_path}/{filename}.jpg\")  # ???\n",
    "                time.sleep(0.2)\n",
    "\n",
    "                img2 = Image.open(f\"{result_path}/{filename}.jpg\")  # ???\n",
    "                width, height = img2.size\n",
    "                height_var = int(height/aspect_ratio_height)\n",
    "                width_var = int(width/aspect_ratio_width)\n",
    "\n",
    "                if height_var == width_var:\n",
    "                    img_var = img2.resize(size, Image.LANCZOS)\n",
    "                elif width_var > height_var:\n",
    "                    crop_width = int(abs((width-(height_var*aspect_ratio_width))/2))\n",
    "                    box = (crop_width,0,width-crop_width,height)  # left, top, right, bottom\n",
    "                    img_crop = img2.crop(box)  \n",
    "                    img_var = img_crop.resize(size, Image.LANCZOS)\n",
    "                elif width_var < height_var:\n",
    "                    crop_height = int(abs((height-(width_var*aspect_ratio_height))/2))\n",
    "                    box = (0,crop_height,width,height-crop_height)  # left, top, right, bottom\n",
    "                    img_crop = img2.crop(box)  # left, top, right, bottom\n",
    "                    img_var = img_crop.resize(size, Image.LANCZOS)\n",
    "                else:\n",
    "                    img_var = img2\n",
    "\n",
    "                img_var.save(f\"{result_path}/{filename}.jpg\")\n",
    "\n",
    "            except:\n",
    "                print(\"Oops!\", sys.exc_info()[0], \"occurred.\")"
   ]
  },
  {
   "cell_type": "code",
   "execution_count": null,
   "metadata": {},
   "outputs": [],
   "source": [
    "def convert_pictures_to_video(filename_list, data_folder_name, data_path, out_folder_name, out_path, fps=1, time=5):\n",
    "    '''\n",
    "    convert_pictures_to_video(text_list, data_folder_name, data_path, out_folder_name, out_path, fps=1, time=5)\\n\n",
    "    text_list is list values. data_folder_name, data_path, out_folder_name and out_path are path\\n\n",
    "    and folder in string(str). others are cv2 parameter\\n\n",
    "    ex.\\n\n",
    "    path = f\"/media/kurubal/SSD/Data Scientist/Data Science/Data-Scientist/Work/Modern Ways/Image Audio/Product\"\\n\n",
    "    image_path = f\"/media/kurubal/SSD/Data Scientist/Data Science/Data-Scientist/Work/Modern Ways/Image Audio/Product\"\\n\n",
    "    convert_pictures_to_video(word_select_list, \"Images_Crop_Size\", image_path, \"Image_Video\", path, fps=1, time=5)\n",
    "    '''\n",
    "    result_path = f\"{out_path}/{out_folder_name}\"\n",
    "    Path(result_path).mkdir(parents=True, exist_ok=True)\n",
    "\n",
    "    for filename in filename_list:\n",
    "        if isfile(f\"{out_path}/{out_folder_name}/{filename}.mp4\"):\n",
    "            pass\n",
    "        else:    \n",
    "            try:\n",
    "                img = cv2.imread(f\"{data_path}/{data_folder_name}/{filename}.jpg\")\n",
    "                height, width, layers = img.shape\n",
    "                size=(width,height)\n",
    "                frame_array = []\n",
    "                for k in range (time):\n",
    "                    frame_array.append(img)\n",
    "                result_path2 = f\"{out_path}/{out_folder_name}/{filename}.mp4\"\n",
    "                out = cv2.VideoWriter(result_path2,cv2.VideoWriter_fourcc(*'mp4v'), fps, size)\n",
    "    \n",
    "                for i in range(len(frame_array)):\n",
    "                    out.write(frame_array[i])\n",
    "                out.release()\n",
    "                \n",
    "            except:\n",
    "                print(\"Oops!\", sys.exc_info()[0], \"occurred.\")"
   ]
  },
  {
   "cell_type": "code",
   "execution_count": null,
   "metadata": {},
   "outputs": [],
   "source": [
    "def add_audio_to_video(filename_list, video_data_folder_name, video_data_path, audio_data_folder_name, audio_data_path, out_folder_name, out_path):\n",
    "    '''\n",
    "    add_audio_to_video(text_list, video_data_folder_name, video_data_path, audio_data_folder_name, audio_data_path, out_folder_name, out_path)\\n\n",
    "    text_list is list values. video_data_folder_name, video_data_path, audio_data_folder_name, audio_data_path, out_folder_name and out_path are path\\n\n",
    "    and folder in string(str). others are cv2 parameter\\n\n",
    "    ex.\\n\n",
    "    path = f\"/media/kurubal/SSD/Data Scientist/Data Science/Data-Scientist/Work/Modern Ways/Image Audio/Product\"\\n\n",
    "    image_video_path = f\"/media/kurubal/SSD/Data Scientist/Data Science/Data-Scientist/Work/Modern Ways/Image Audio/Product\"\\n\n",
    "    text_audio_path = f\"/media/kurubal/SSD/Data Scientist/Data Science/Data-Scientist/Work/Modern Ways/Image Audio/Product\"\\n\n",
    "    add_audio_to_video(word_select_list, \"Video\", image_video_path, \"Audio\", text_audio_path, \"Video_Audio\", path)\n",
    "    '''\n",
    "    result_path = f\"{out_path}/{out_folder_name}\"\n",
    "    Path(result_path).mkdir(parents=True, exist_ok=True)\n",
    "\n",
    "    for filename in filename_list:\n",
    "        if isfile(f\"{result_path}/{filename}.mp4\"):\n",
    "            pass\n",
    "        else:\n",
    "            try:\n",
    "                videoclip = VideoFileClip(f\"{video_data_path}/{video_data_folder_name}/{filename}.mp4\")\n",
    "                audioclip = AudioFileClip(f\"{audio_data_path}/{audio_data_folder_name}/{filename}.mp3\", fps = 44100)\n",
    "    \n",
    "                #new_audioclip = CompositeAudioClip([audioclip]).set_duration(videoclip.duration)  # .set_duration(videoclip.duration), .set_duration(audioclip.duration)\n",
    "                new_videoclip = CompositeVideoClip([videoclip]).set_duration(audioclip.duration)  # .set_duration(videoclip.duration), .set_duration(audioclip.duration)\n",
    "                new_videoclip.audio = audioclip  # new_audioclip\n",
    "    \n",
    "                new_videoclip.write_videofile(f\"{result_path}/{filename}.mp4\", audio_bitrate='128k', audio_fps=44100, audio_codec=\"aac\")\n",
    "                \n",
    "            except:\n",
    "                print(\"Oops!\", sys.exc_info()[0], \"occurred.\")"
   ]
  },
  {
   "cell_type": "code",
   "execution_count": null,
   "metadata": {},
   "outputs": [],
   "source": [
    "def add_audio_to_wordgroup_video(word_group, video_data_folder_name, video_data_path, audio_data_folder_name, audio_data_path, out_folder_name, out_path):\n",
    "    '''\n",
    "    add_audio_to_video(text_list, video_data_folder_name, video_data_path, audio_data_folder_name, audio_data_path, out_folder_name, out_path)\\n\n",
    "    text_list is list values. video_data_folder_name, video_data_path, audio_data_folder_name, audio_data_path, out_folder_name and out_path are path\\n\n",
    "    and folder in string(str). others are cv2 parameter\\n\n",
    "    ex.\\n\n",
    "    path = f\"/media/kurubal/SSD/Data Scientist/Data Science/Data-Scientist/Work/Modern Ways/Image Audio/Product\"\\n\n",
    "    image_video_path = f\"/media/kurubal/SSD/Data Scientist/Data Science/Data-Scientist/Work/Modern Ways/Image Audio/Product\"\\n\n",
    "    text_audio_path = f\"/media/kurubal/SSD/Data Scientist/Data Science/Data-Scientist/Work/Modern Ways/Image Audio/Product\"\\n\n",
    "    add_audio_to_video(word_select_list, \"Video\", image_video_path, \"Audio\", text_audio_path, \"Video_Audio\", path)\n",
    "    '''\n",
    "    result_path = f\"{out_path}/{out_folder_name}\"\n",
    "    Path(result_path).mkdir(parents=True, exist_ok=True)\n",
    "\n",
    "    word_list = word_tokenize(word_group)\n",
    "    if len(word_list)>3:\n",
    "        filename = \" \".join(word_list[0:3])\n",
    "    else:\n",
    "        filename = word_group\n",
    "\n",
    "    try:\n",
    "        videoclip = VideoFileClip(f\"{video_data_path}/{video_data_folder_name}/{word_list[-1]}.mp4\")\n",
    "        audioclip = AudioFileClip(f\"{audio_data_path}/{audio_data_folder_name}/{filename}.mp3\", fps = 44100)\n",
    "\n",
    "        #new_audioclip = CompositeAudioClip([audioclip]).set_duration(videoclip.duration)  # .set_duration(videoclip.duration), .set_duration(audioclip.duration)\n",
    "        new_videoclip = CompositeVideoClip([videoclip]).set_duration(audioclip.duration)  # .set_duration(videoclip.duration), .set_duration(audioclip.duration)\n",
    "        new_videoclip.audio = audioclip  # new_audioclip\n",
    "        \n",
    "        new_videoclip.write_videofile(f\"{result_path}/{filename}.mp4\", audio_bitrate='128k', audio_fps=44100, audio_codec=\"aac\")\n",
    "        \n",
    "    except:\n",
    "        print(\"Oops!\", sys.exc_info()[0], \"occurred.\")"
   ]
  },
  {
   "cell_type": "code",
   "execution_count": null,
   "metadata": {},
   "outputs": [],
   "source": [
    "def concat_video(filename_list, video_data_folder_name, video_data_path, out_folder_name, out_path, out_filename, external_audio_video):  \n",
    "    '''\n",
    "    concat_video(filename_list, video_data_folder_name, video_data_path, out_folder_name, out_path, filename)\\n\n",
    "    filename_list is list values. video_data_folder_name, video_data_path, out_folder_name and out_path are path and folder in string(str)\\n\n",
    "    filename is string of result mp4 file name.\n",
    "    ex.\\n\n",
    "    path = f\"/media/kurubal/SSD/Data Scientist/Data Science/Data-Scientist/Work/Modern Ways/Image Audio/Product\"\\n\n",
    "    audio_image_video_path = f\"/media/kurubal/SSD/Data Scientist/Data Science/Data-Scientist/Work/Modern Ways/Image Audio/Product\"\\n\n",
    "    concat_video_fast(word_select_list, \"Image_Video_Audio\", audio_image_video_path, \"Concat_Video\", path, \"200_Word_Combined_Sample\")\n",
    "    '''\n",
    "    no_image_file_list = []\n",
    "    result_path = f\"{out_path}/{out_folder_name}\"\n",
    "    Path(result_path).mkdir(parents=True, exist_ok=True)\n",
    "    video_text_list = []\n",
    "    video_list = []\n",
    "    \n",
    "    for filename in filename_list:\n",
    "        if isfile(f\"{video_data_path}/{video_data_folder_name}/{filename}.mp4\"):\n",
    "            video_text_list.append(filename)            \n",
    "        else:\n",
    "            no_image_file_list.append(filename)\n",
    "\n",
    "    video_text_list.append(external_audio_video)\n",
    "    for video_num in range(len(video_text_list)):\n",
    "        try:\n",
    "            clip_var = VideoFileClip(f\"{video_data_path}/{video_data_folder_name}/{video_text_list[video_num]}.mp4\", target_resolution=(900, 1600))  # height, width\n",
    "            video_list.append(clip_var)            \n",
    "        except:\n",
    "            print(\"Oops!\", sys.exc_info()[0], \"occurred.\", f\"{video_text_list[video_num]}.mp4\")\n",
    "\n",
    "    combined = concatenate_videoclips(video_list, method='compose')\n",
    "    combined.write_videofile(f\"{result_path}/{out_filename}.mp4\", audio_bitrate='128k', audio_fps=44100, audio_codec=\"aac\")\n",
    "\n",
    "    return no_image_file_list"
   ]
  },
  {
   "cell_type": "code",
   "execution_count": null,
   "metadata": {},
   "outputs": [],
   "source": [
    "def all_in_one(word_group_list, image_data_folder_name, image_data_path, out_path, language=lang):\n",
    "    '''\n",
    "    word_group_word_video_combine(word_group_list, video_data_folder_name, video_data_path, out_folder_name, out_path)\n",
    "    word_group_list is word_group(sentence) list values. video_data_folder_name, video_data_path, out_folder_name and out_path are path and folder in string(str)\\n\n",
    "    ex.\\n\n",
    "    path = f\"/media/kurubal/SSD/Data Scientist/Data Science/Data-Scientist/Work/Modern Ways/Image Audio/Product\"\\n\n",
    "    audio_image_video_path = f\"/media/kurubal/SSD/Data Scientist/Data Science/Data-Scientist/Work/Modern Ways/Image Audio/Product\"\\n\n",
    "    word_group_word_video_combine(df_deployment_file_sent_list, \"Image_Video_Audio\", audio_image_video_path, \"200_Word_69_Youtube_Sentence\", path)\n",
    "    '''\n",
    "    data_path = f\"{out_path}/Data\"\n",
    "    result_path = f\"{out_path}/Result\"\n",
    "    Path(data_path).mkdir(parents=True, exist_ok=True)\n",
    "    Path(result_path).mkdir(parents=True, exist_ok=True)\n",
    "    for word_group in word_group_list:\n",
    "        word_list = word_tokenize(word_group)\n",
    "        try:\n",
    "            text_convert_to_audio_same(word_list, \"Text_MP3\", data_path, language=language, speech_slow=True, delay_time = 0.5, delay_point = \"both\")\n",
    "            convert_image_to_jpg_crop_size(word_list, image_data_folder_name, image_data_path, \"Image_JPG_Crop\", data_path)\n",
    "            convert_pictures_to_video(word_list, \"Image_JPG_Crop\", data_path, \"Image_Video\", data_path, fps=1, time=5)\n",
    "            add_audio_to_video(word_list, \"Image_Video\", data_path, \"Text_MP3\", data_path, \"Image_Video_Audio\", result_path)\n",
    "        except:\n",
    "            print(\"Oops!\", sys.exc_info()[0], \"occurred.\")\n",
    "\n",
    "        if len(word_list)>1:\n",
    "            try:            \n",
    "                if len(word_list)>3:\n",
    "                    filename_new = \" \".join(word_list[0:3])\n",
    "                else:\n",
    "                    filename_new = word_group\n",
    "\n",
    "                wordgroup_convert_to_audio_same(word_group, \"Text_MP3\", data_path, language=language, speech_slow=True, delay_time = 0.5, delay_point = \"both\")\n",
    "                add_audio_to_wordgroup_video(word_group, \"Image_Video\", data_path, \"Text_MP3\", data_path, \"Image_Video_Audio\", result_path)\n",
    "                concat_video(word_list, \"Image_Video_Audio\", result_path, \"Concat_Video\", result_path, f\"{filename_new}\", f\"{filename_new}\")\n",
    "            except:\n",
    "                print(\"Oops!\", sys.exc_info()[0], \"occurred.\")                \n",
    "        else:\n",
    "            pass\n",
    "        "
   ]
  },
  {
   "cell_type": "code",
   "execution_count": null,
   "metadata": {},
   "outputs": [],
   "source": [
    "df_deployment_file = pd.read_excel(\"Twogram Threegram.xlsx\")\n",
    "df_deployment_file"
   ]
  },
  {
   "cell_type": "code",
   "execution_count": null,
   "metadata": {},
   "outputs": [],
   "source": [
    "word_group_list = df_deployment_file[\"twogram2\"].to_list()"
   ]
  },
  {
   "cell_type": "code",
   "execution_count": null,
   "metadata": {},
   "outputs": [],
   "source": [
    "#word_group_list = [\"al\",\"artık\",\"asla\",\"aslında\",\"adam ama anne\",\"çok büyük\",\"aynı\",\"baba\",\"bak\",\"anne adam asla\", \"anne baba adam aslında aynı\", \"çok\"]"
   ]
  },
  {
   "cell_type": "code",
   "execution_count": null,
   "metadata": {},
   "outputs": [],
   "source": [
    "word_group_list = [\"ne kadar çok\",\"ne için bu\", \"biliyor musun\", \"ne oldu\"]  # \"ne için bu\","
   ]
  },
  {
   "cell_type": "code",
   "execution_count": null,
   "metadata": {},
   "outputs": [],
   "source": [
    "all_in_one(word_group_list, \"Images\", image_path, output_path, language=lang)"
   ]
  },
  {
   "cell_type": "code",
   "execution_count": null,
   "metadata": {},
   "outputs": [],
   "source": []
  },
  {
   "cell_type": "code",
   "execution_count": null,
   "metadata": {},
   "outputs": [],
   "source": []
  },
  {
   "cell_type": "code",
   "execution_count": null,
   "metadata": {},
   "outputs": [],
   "source": []
  },
  {
   "cell_type": "code",
   "execution_count": null,
   "metadata": {},
   "outputs": [],
   "source": []
  },
  {
   "cell_type": "code",
   "execution_count": null,
   "metadata": {},
   "outputs": [],
   "source": []
  },
  {
   "cell_type": "code",
   "execution_count": null,
   "metadata": {},
   "outputs": [],
   "source": [
    "word_group_list2 = [\"al\",\"artık\",\"asla\"]"
   ]
  },
  {
   "cell_type": "code",
   "execution_count": null,
   "metadata": {},
   "outputs": [],
   "source": [
    "result_path = f\"/media/kurubal/SSD/Data Scientist/Work/Modern Ways/Project/Turkish/Temp/Image Test/Result\""
   ]
  },
  {
   "cell_type": "code",
   "execution_count": null,
   "metadata": {},
   "outputs": [],
   "source": [
    "concat_video(word_group_list2, \"Image_Video_Audio\", result_path, \"Test\", result_path, \"test_video\", \"adam ama anne\")"
   ]
  },
  {
   "cell_type": "code",
   "execution_count": null,
   "metadata": {},
   "outputs": [],
   "source": []
  },
  {
   "cell_type": "code",
   "execution_count": null,
   "metadata": {},
   "outputs": [],
   "source": [
    "delay_time = 0.5\n",
    "wordgroup = \"ben eve geldim\""
   ]
  },
  {
   "cell_type": "code",
   "execution_count": null,
   "metadata": {},
   "outputs": [],
   "source": [
    "audio_delay = AudioFileClip(audio_delay_path).subclip(0,delay_time)"
   ]
  },
  {
   "cell_type": "code",
   "execution_count": null,
   "metadata": {},
   "outputs": [],
   "source": [
    "text_audio = gTTS(text=wordgroup, lang=lang, slow=\"False\")"
   ]
  },
  {
   "cell_type": "code",
   "execution_count": null,
   "metadata": {},
   "outputs": [],
   "source": [
    "audio_combined = concatenate_audioclips([audio_delay,text_audio,audio_delay])"
   ]
  },
  {
   "cell_type": "code",
   "execution_count": null,
   "metadata": {},
   "outputs": [],
   "source": []
  },
  {
   "cell_type": "code",
   "execution_count": null,
   "metadata": {},
   "outputs": [],
   "source": [
    "df_deployment_file = pd.read_excel(f\"/media/kurubal/SSD/Data Scientist/Work/Modern Ways/Project/{lang_folder.lower().capitalize()}/Deployment2/\\\n",
    "Result/8-Adjust Word Group In Youtube Deploy Result/{lang_folder.lower().capitalize()}/Turkish_200_Word_Group_In_Youtube_Sentence_Word_Index_List_Sample_Selected.xlsx\")\n",
    "df_deployment_file = df_deployment_file.iloc[:,[0,1,2,3,4,5]]\n",
    "df_deployment_file"
   ]
  },
  {
   "cell_type": "code",
   "execution_count": null,
   "metadata": {},
   "outputs": [],
   "source": [
    "df_deployment_file_sent_list = df_deployment_file[\"search_string\"].to_list()"
   ]
  },
  {
   "cell_type": "code",
   "execution_count": null,
   "metadata": {},
   "outputs": [],
   "source": [
    "word_group_word_video_combine(df_deployment_file_sent_list, \"Image_Video_Audio\", audio_image_video_path, \"200_Word_69_Youtube_Sentence\", path)"
   ]
  },
  {
   "cell_type": "code",
   "execution_count": null,
   "metadata": {},
   "outputs": [],
   "source": []
  },
  {
   "cell_type": "code",
   "execution_count": null,
   "metadata": {},
   "outputs": [],
   "source": []
  },
  {
   "cell_type": "code",
   "execution_count": null,
   "metadata": {},
   "outputs": [],
   "source": []
  },
  {
   "cell_type": "code",
   "execution_count": null,
   "metadata": {},
   "outputs": [],
   "source": []
  }
 ],
 "metadata": {
  "kernelspec": {
   "display_name": "Python 3.9.5 ('py39')",
   "language": "python",
   "name": "python3"
  },
  "language_info": {
   "codemirror_mode": {
    "name": "ipython",
    "version": 3
   },
   "file_extension": ".py",
   "mimetype": "text/x-python",
   "name": "python",
   "nbconvert_exporter": "python",
   "pygments_lexer": "ipython3",
   "version": "3.9.5"
  },
  "orig_nbformat": 4,
  "vscode": {
   "interpreter": {
    "hash": "651d507d70892fab0fc6529d935cd476f6e2eb1791525b76da6cc8da34bc0503"
   }
  }
 },
 "nbformat": 4,
 "nbformat_minor": 2
}
