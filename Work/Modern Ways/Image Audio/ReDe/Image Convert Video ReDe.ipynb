{
 "cells": [
  {
   "cell_type": "markdown",
   "metadata": {},
   "source": [
    "### Image Convert To Video"
   ]
  },
  {
   "cell_type": "code",
   "execution_count": null,
   "metadata": {},
   "outputs": [],
   "source": [
    "import cv2  # pip install opencv-python \n",
    "import os \n",
    "from os.path import isfile, join "
   ]
  },
  {
   "cell_type": "code",
   "execution_count": null,
   "metadata": {},
   "outputs": [],
   "source": [
    "def convert_pictures_to_video(pathIn, pathOut, fps, time):\n",
    "    ''' this function converts images to video'''\n",
    "    frame_array=[]\n",
    "    files=[f for f in os.listdir(pathIn) if isfile(join(pathIn,f))]\n",
    "    for i in range (len(files)):\n",
    "        filename=pathIn+files[i]\n",
    "        '''reading images'''\n",
    "        img=cv2.imread(filename)\n",
    "        # img=cv2.resize(img,(1400,1000))\n",
    "        height, width, layers = img.shape\n",
    "        size=(width,height)\n",
    "\n",
    "        for k in range (time):\n",
    "            frame_array.append(img)\n",
    "    out=cv2.VideoWriter(pathOut,cv2.VideoWriter_fourcc(*'mp4v'), fps,size)\n",
    "    for i in range(len(frame_array)):\n",
    "        out.write(frame_array[i])\n",
    "    out.release()"
   ]
  },
  {
   "cell_type": "code",
   "execution_count": null,
   "metadata": {},
   "outputs": [],
   "source": [
    "# Example:\n",
    "directory= 'C:/Users/Yasser Bigdeli/Dropbox/Python tutorials/Movie out of pictures/Images'\n",
    "pathIn=directory+'/'\n",
    "pathOut=pathIn+'video_EX9.avi'\n",
    "fps=1\n",
    "time=20 # the duration of each picture in the video"
   ]
  },
  {
   "cell_type": "code",
   "execution_count": null,
   "metadata": {},
   "outputs": [],
   "source": [
    "convert_pictures_to_video(pathIn, pathOut, fps, time)"
   ]
  },
  {
   "cell_type": "code",
   "execution_count": null,
   "metadata": {},
   "outputs": [],
   "source": []
  },
  {
   "cell_type": "code",
   "execution_count": null,
   "metadata": {},
   "outputs": [],
   "source": []
  }
 ],
 "metadata": {
  "kernelspec": {
   "display_name": "Python 3.8.10 64-bit",
   "language": "python",
   "name": "python3"
  },
  "language_info": {
   "name": "python",
   "version": "3.8.10"
  },
  "orig_nbformat": 4,
  "vscode": {
   "interpreter": {
    "hash": "31f2aee4e71d21fbe5cf8b01ff0e069b9275f58929596ceb00d14d90e3e16cd6"
   }
  }
 },
 "nbformat": 4,
 "nbformat_minor": 2
}
