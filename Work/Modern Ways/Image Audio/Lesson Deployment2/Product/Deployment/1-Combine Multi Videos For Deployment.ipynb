{
 "cells": [
  {
   "attachments": {},
   "cell_type": "markdown",
   "metadata": {},
   "source": [
    "### Combine Multi Videos For Deployment"
   ]
  },
  {
   "attachments": {},
   "cell_type": "markdown",
   "metadata": {},
   "source": [
    "This notebook was used to convert the picture-video word results into a single video file."
   ]
  },
  {
   "cell_type": "code",
   "execution_count": null,
   "metadata": {},
   "outputs": [],
   "source": [
    "from moviepy.editor import VideoFileClip, concatenate_videoclips\n",
    "import nltk\n",
    "from nltk import word_tokenize\n",
    "import os\n",
    "import sys\n",
    "import numpy as np\n",
    "import pandas as pd\n",
    "from pathlib import Path\n",
    "import shutil\n",
    "from os.path import isfile, join\n",
    "import time"
   ]
  },
  {
   "cell_type": "code",
   "execution_count": null,
   "metadata": {},
   "outputs": [],
   "source": []
  },
  {
   "attachments": {},
   "cell_type": "markdown",
   "metadata": {},
   "source": [
    "#### 200 Words"
   ]
  },
  {
   "cell_type": "code",
   "execution_count": null,
   "metadata": {},
   "outputs": [],
   "source": [
    "# language pair\n",
    "lang_folder = \"Turkish\"  # Arabic, English, French, German, Turkish, Spanish, Portuguese, Dutch, Italian ==> target language for learner\n",
    "\n",
    "# word start and end\n",
    "#word_start = 0  # 0  # native word start index\n",
    "#word_end = 200  # 200  # native word end index"
   ]
  },
  {
   "cell_type": "code",
   "execution_count": null,
   "metadata": {},
   "outputs": [],
   "source": [
    "path = f\"/home/kurubal/Documents/Modern Ways/Project/{lang_folder.capitalize()}/Image Audio Video/Result/200 Words\"  # output path\n",
    "\n",
    "#Path(path).mkdir(parents=True, exist_ok=True)"
   ]
  },
  {
   "cell_type": "code",
   "execution_count": null,
   "metadata": {},
   "outputs": [],
   "source": [
    "audio_image_video_path = f\"/home/kurubal/Documents/Modern Ways/Project/{lang_folder.capitalize()}/Image Audio Video/Result/200 Words\""
   ]
  },
  {
   "cell_type": "code",
   "execution_count": null,
   "metadata": {},
   "outputs": [],
   "source": [
    "def concat_video(text_list, video_data_folder_name, video_data_path, out_folder_name, out_path, filename):  \n",
    "    '''\n",
    "    concat_video(text_list, video_data_folder_name, video_data_path, out_folder_name, out_path, filename)\\n\n",
    "    text_list is list values. video_data_folder_name, video_data_path, out_folder_name and out_path are path and folder in string(str)\\n\n",
    "    filename is string of result mp4 file name.\n",
    "    ex.\\n\n",
    "    path = f\"/media/kurubal/SSD/Data Scientist/Work/Modern Ways/Project/{lang_folder.capitalize()}/Image Audio Video/Result/200 Words\"\\n\n",
    "    audio_image_video_path = f\"/media/kurubal/SSD/Data Scientist/Work/Modern Ways/Project/{lang_folder.capitalize()}/Image Audio Video/Data/200 Words\"\\n\n",
    "    concat_video(word_select_list, \"Image_Video_Audio\", audio_image_video_path, \"Concat_Video\", path, \"200_Word_Combined_Sample\")\n",
    "    '''\n",
    "    no_image_file_list = []\n",
    "    result_path = f\"{out_path}/{out_folder_name}\"\n",
    "    Path(result_path).mkdir(parents=True, exist_ok=True)\n",
    "    video_text_list = []\n",
    "    video_list = []\n",
    "    for text in text_list:\n",
    "        if isfile(f\"{video_data_path}/{video_data_folder_name}/{text}.mp4\"):\n",
    "            video_text_list.append(text)            \n",
    "        else:\n",
    "            no_image_file_list.append(text)\n",
    "\n",
    "    for video_num in range(len(video_text_list)):\n",
    "        try:\n",
    "            clip_var = VideoFileClip(f\"{video_data_path}/{video_data_folder_name}/{video_text_list[video_num]}.mp4\", target_resolution=(900, 1600))  # height, width\n",
    "            video_list.append(clip_var)            \n",
    "        except:\n",
    "            print(\"Oops!\", sys.exc_info()[0], \"occurred.\", f\"{video_text_list[video_num]}.mp4\")\n",
    "\n",
    "    combined = concatenate_videoclips(video_list, method='compose')\n",
    "    combined.write_videofile(f\"{result_path}/{filename}.mp4\", audio_bitrate='128k', audio_fps=44100, audio_codec=\"aac\")\n",
    "    \n",
    "    return no_image_file_list"
   ]
  },
  {
   "cell_type": "code",
   "execution_count": null,
   "metadata": {},
   "outputs": [],
   "source": [
    "def word_group_word_video_combine(word_group_list, video_data_folder_name, video_data_path, out_folder_name, out_path):\n",
    "    '''\n",
    "    word_group_word_video_combine(word_group_list, video_data_folder_name, video_data_path, out_folder_name, out_path)\n",
    "    word_group_list is word_group(sentence) list values. video_data_folder_name, video_data_path, out_folder_name and out_path are path and folder in string(str)\\n\n",
    "    ex.\\n\n",
    "    path = f\"/media/kurubal/SSD/Data Scientist/Data Science/Data-Scientist/Work/Modern Ways/Image Audio/Product\"\\n\n",
    "    audio_image_video_path = f\"/media/kurubal/SSD/Data Scientist/Data Science/Data-Scientist/Work/Modern Ways/Image Audio/Product\"\\n\n",
    "    word_group_word_video_combine(df_deployment_file_sent_list, \"Image_Video_Audio\", audio_image_video_path, \"200_Word_69_Youtube_Sentence\", path)\n",
    "    '''\n",
    "    for word_group in word_group_list:\n",
    "        word_list = word_tokenize(word_group)\n",
    "        filename = \" \".join(word_list[0:5])\n",
    "        concat_video(word_list, video_data_folder_name, video_data_path, out_folder_name, out_path, filename)"
   ]
  },
  {
   "cell_type": "code",
   "execution_count": null,
   "metadata": {},
   "outputs": [],
   "source": [
    "df_deployment_file = pd.read_excel(f\"/media/kurubal/SSD/Data Scientist/Work/Modern Ways/Project/{lang_folder.lower().capitalize()}/Deployment2/\\\n",
    "Result/8-Adjust Word Group In Youtube Deploy Result/{lang_folder.lower().capitalize()}/Turkish_200_Word_Group_In_Youtube_Sentence_Word_Index_List_Sample_Selected.xlsx\")\n",
    "df_deployment_file = df_deployment_file.iloc[:,[0,1,2,3,4,5]]\n",
    "df_deployment_file"
   ]
  },
  {
   "cell_type": "code",
   "execution_count": null,
   "metadata": {},
   "outputs": [],
   "source": [
    "#df_deployment_file = pd.read_excel(\"/home/kurubal/Downloads/Temp/Turkish 69 Sentences Selected Sample.xlsx\")\n",
    "#df_deployment_file"
   ]
  },
  {
   "cell_type": "code",
   "execution_count": null,
   "metadata": {},
   "outputs": [],
   "source": [
    "df_deployment_file_sent_list = df_deployment_file[\"search_string\"].to_list()"
   ]
  },
  {
   "cell_type": "code",
   "execution_count": null,
   "metadata": {},
   "outputs": [],
   "source": [
    "word_group_word_video_combine(df_deployment_file_sent_list, \"Image_Video_Audio\", audio_image_video_path, \"200_Word_69_Youtube_Sentence\", path)"
   ]
  },
  {
   "cell_type": "code",
   "execution_count": null,
   "metadata": {},
   "outputs": [],
   "source": []
  },
  {
   "cell_type": "code",
   "execution_count": null,
   "metadata": {},
   "outputs": [],
   "source": []
  },
  {
   "cell_type": "code",
   "execution_count": null,
   "metadata": {},
   "outputs": [],
   "source": []
  }
 ],
 "metadata": {
  "kernelspec": {
   "display_name": "Python 3.9.5 ('py39')",
   "language": "python",
   "name": "python3"
  },
  "language_info": {
   "codemirror_mode": {
    "name": "ipython",
    "version": 3
   },
   "file_extension": ".py",
   "mimetype": "text/x-python",
   "name": "python",
   "nbconvert_exporter": "python",
   "pygments_lexer": "ipython3",
   "version": "3.9.5"
  },
  "orig_nbformat": 4,
  "vscode": {
   "interpreter": {
    "hash": "651d507d70892fab0fc6529d935cd476f6e2eb1791525b76da6cc8da34bc0503"
   }
  }
 },
 "nbformat": 4,
 "nbformat_minor": 2
}
