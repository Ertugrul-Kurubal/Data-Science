{
 "cells": [
  {
   "cell_type": "markdown",
   "metadata": {},
   "source": [
    "### Image Padding Aspect Ratio"
   ]
  },
  {
   "cell_type": "code",
   "execution_count": null,
   "metadata": {},
   "outputs": [],
   "source": [
    "#python.exe -m pip install --upgrade pip # from terminal (windows)"
   ]
  },
  {
   "cell_type": "code",
   "execution_count": null,
   "metadata": {},
   "outputs": [],
   "source": [
    "#!pip install moviepy --upgrade"
   ]
  },
  {
   "cell_type": "code",
   "execution_count": null,
   "metadata": {},
   "outputs": [],
   "source": [
    "#!pip install pylance"
   ]
  },
  {
   "cell_type": "code",
   "execution_count": null,
   "metadata": {},
   "outputs": [],
   "source": [
    "import os\n",
    "import sys\n",
    "import cv2\n",
    "import numpy as np\n",
    "import pandas as pd\n",
    "from pathlib import Path\n",
    "import shutil\n",
    "import matplotlib.pyplot as plt\n",
    "%matplotlib inline\n",
    "import time\n",
    "from os.path import isfile, join"
   ]
  },
  {
   "attachments": {},
   "cell_type": "markdown",
   "metadata": {},
   "source": [
    "#### 1000 Words And Shared Word"
   ]
  },
  {
   "cell_type": "code",
   "execution_count": null,
   "metadata": {},
   "outputs": [],
   "source": [
    "# language pair\n",
    "lang_folder = \"Turkish\"  # Arabic, English, French, German, Turkish, Spanish, Portuguese, Dutch, Italian ==> target language for learner\n",
    "\n",
    "## word start and end\n",
    "#word_start = 0  # 0  # native word start index\n",
    "#word_end = 200  # 200  # native word end index"
   ]
  },
  {
   "cell_type": "code",
   "execution_count": null,
   "metadata": {},
   "outputs": [],
   "source": [
    "#output_path = f\"/home/kurubal/Downloads\"\n",
    "output_path = f\"/media/kurubal/SSD/Data Scientist/Work/Modern Ways/Project/{lang_folder.capitalize()}/Image Audio Video/Data/1000 Words\"\n",
    "\n",
    "#Path(output_path).mkdir(parents=True, exist_ok=True)"
   ]
  },
  {
   "cell_type": "code",
   "execution_count": null,
   "metadata": {},
   "outputs": [],
   "source": [
    "#image_path = f\"/home/kurubal/Downloads\"\n",
    "image_path = f\"/media/kurubal/SSD/Data Scientist/Work/Modern Ways/Project/{lang_folder.capitalize()}/Image Audio Video/Data/1000 Words\""
   ]
  },
  {
   "cell_type": "code",
   "execution_count": null,
   "metadata": {},
   "outputs": [],
   "source": [
    "def image_padding_aspect_ratio(data_folder_name, data_path, out_folder_name, out_path, padding_color = (0,0,0), aspect_ratio_width = 16, aspect_ratio_height = 9):\n",
    "       '''\n",
    "       image_padding_aspect_ratio(data_folder_name, data_path, out_folder_name, out_path, padding_color = (0,0,0), aspect_ratio_width = 16, aspect_ratio_height = 9)\\n\n",
    "       data_folder_name, data_path, out_folder_name, out_path are path and folder in string(str). others are cv2 parameter and image aspect ratio parameter.\\n\n",
    "       ex.\\n\n",
    "       output_path = f\"/home/kurubal/Documents/Modern Ways/Project/{lang_folder.capitalize()}/Image Audio Video/Data/28 Words\"\\n\n",
    "       image_path = f\"/home/kurubal/Documents/Modern Ways/Project/{lang_folder.capitalize()}/Image Audio Video/Data/28 Words\"\\n\n",
    "       image_padding_aspect_ratio(\"Images_SV_Rename\", image_path, \"Images_SV\", output_path, padding_color = (0,0,0), aspect_ratio_width = 16, aspect_ratio_height = 9)\n",
    "       '''\n",
    "       error_file_list = []\n",
    "       result_path = f\"{out_path}/{out_folder_name}\"\n",
    "       data_folder_path = f\"{data_path}/{data_folder_name}\"\n",
    "       Path(result_path).mkdir(parents=True, exist_ok=True)\n",
    "       files=[f for f in os.listdir(data_folder_path) if isfile(join(data_folder_path,f))]   \n",
    "       for i in range(len(files)):       \n",
    "          pathfilename=data_folder_path+'/'+files[i]\n",
    "          #filename_without_ext = os.path.splitext(files[i])[0]\n",
    "          #text = f\"{text}\"\n",
    "          if isfile(f\"{result_path}/{files[i]}\"):\n",
    "                 pass\n",
    "          else:\n",
    "                 try:\n",
    "                        img = cv2.imread(f\"{pathfilename}\")\n",
    "                        old_image_height, old_image_width, channels = img.shape  # 2718  1988\n",
    "\n",
    "                        #aspect_ratio_width = 16\n",
    "                        #aspect_ratio_height = 9\n",
    "\n",
    "                        if (old_image_height/aspect_ratio_height) > (old_image_width/aspect_ratio_width):\n",
    "                               new_image_width = int((old_image_height/aspect_ratio_height)*aspect_ratio_width)\n",
    "                               new_image_height = int(old_image_height)\n",
    "                        elif (old_image_height/aspect_ratio_height) < (old_image_width/aspect_ratio_width):\n",
    "                               new_image_width = int(old_image_width)\n",
    "                               new_image_height = int((old_image_width/aspect_ratio_width)*aspect_ratio_height)\n",
    "                        elif (old_image_height/aspect_ratio_height) == (old_image_width/aspect_ratio_width):\n",
    "                               new_image_width = int((old_image_height/aspect_ratio_height)*aspect_ratio_width)\n",
    "                               new_image_height = int(old_image_height)\n",
    "                        else:\n",
    "                               new_image_width = old_image_width\n",
    "                               new_image_height = old_image_height\n",
    "\n",
    "                        color = padding_color\n",
    "                        result = np.full((new_image_height,new_image_width, channels), color, dtype=np.uint8)\n",
    "\n",
    "                        # compute center offset\n",
    "                        x_center = (new_image_width - old_image_width) // 2\n",
    "                        y_center = (new_image_height - old_image_height) // 2\n",
    "\n",
    "                        # copy img image into center of result image\n",
    "                        result[y_center:y_center+old_image_height, x_center:x_center+old_image_width] = img            \n",
    "\n",
    "                        cv2.imwrite(f\"{result_path}/{files[i]}\", result)\n",
    "                 except:\n",
    "                        print(\"Oops!\", sys.exc_info()[0], \"occurred.\")\n",
    "                        error_file_list.append(files[i])\n",
    "                        \n",
    "       return error_file_list\n",
    "\n"
   ]
  },
  {
   "cell_type": "code",
   "execution_count": null,
   "metadata": {},
   "outputs": [],
   "source": [
    "def convert_image_to_jpg_crop_size(data_folder_name, data_path, out_folder_name, out_path):\n",
    "    '''\n",
    "    convert_image_to_jpg_crop_size(filename_list, data_folder_name, data_path, out_folder_name, out_path)\\n\n",
    "    filename_list is string image filename list. data_folder_name, data_path, out_folder_name and out_path are path and folder in string.\\n\n",
    "    ex.\\n\n",
    "    path = f\"/media/kurubal/SSD/Data Scientist/Data Science/Data-Scientist/Work/Modern Ways/Image Audio/Product\"\\n\n",
    "    image_path = f\"/media/kurubal/SSD/Data Scientist/Data Science/Data-Scientist/Work/Modern Ways/Image Audio/Product\"\\n\n",
    "    convert_image_to_jpg_crop_size(word_group_list1, \"Images\", image_data_path, \"Image_JPG_Crop\", data_path)\n",
    "    '''\n",
    "    aspect_ratio_width = 16\n",
    "    aspect_ratio_height = 9\n",
    "    basewidth = 1600\n",
    "    size_width = int(basewidth)\n",
    "    size_heigth = int((basewidth/aspect_ratio_width)*aspect_ratio_height)\n",
    "    size = (size_width,size_heigth)\n",
    "\n",
    "    result_path = f\"{out_path}/{out_folder_name}\"\n",
    "    result_path2 = f\"{out_path}/{data_folder_name}_JPG\"\n",
    "    data_folder_path = f\"{data_path}/{data_folder_name}\"\n",
    "    Path(result_path).mkdir(parents=True, exist_ok=True)\n",
    "    Path(result_path2).mkdir(parents=True, exist_ok=True)\n",
    "\n",
    "    files=[f for f in os.listdir(data_folder_path) if isfile(join(data_folder_path,f))]     \n",
    "    for i in range(len(files)):\n",
    "        #text = f\"{text}\"\n",
    "        pathfilename=data_folder_path+'/'+files[i]\n",
    "        filename_without_ext = os.path.splitext(files[i])[0]\n",
    "        try:\n",
    "            if isfile(f\"{result_path2}/{filename_without_ext}.jpg\"):\n",
    "                pass\n",
    "            else:\n",
    "                img = Image.open(pathfilename)\n",
    "                img2 = img.convert(\"RGB\")\n",
    "                img2.save(f\"{result_path2}/{filename_without_ext}.jpg\")\n",
    "                time.sleep(0.1)\n",
    "        except:\n",
    "            print(\"Oops!\", sys.exc_info()[0], \"occurred.\")\n",
    "\n",
    "    files2=[f for f in os.listdir(result_path2) if isfile(join(result_path2,f))] \n",
    "    for j in range(len(files2)):\n",
    "        pathfilename2=result_path2+'/'+files2[j]\n",
    "        filename_without_ext2 = os.path.splitext(files2[j])[0]    \n",
    "        if isfile(f\"{result_path}/{filename_without_ext2}.jpg\"):\n",
    "            pass\n",
    "        else:\n",
    "            try:\n",
    "                img3 = Image.open(pathfilename2)  # ???\n",
    "                width, height = img3.size\n",
    "                height_var = int(height/aspect_ratio_height)\n",
    "                width_var = int(width/aspect_ratio_width)\n",
    "\n",
    "                if height_var == width_var:\n",
    "                    img_var = img3.resize(size, Image.LANCZOS)\n",
    "                elif width_var > height_var:\n",
    "                    crop_width = int(abs((width-(height_var*aspect_ratio_width))/2))\n",
    "                    box = (crop_width,0,width-crop_width,height)  # left, top, right, bottom\n",
    "                    img_crop = img3.crop(box)  \n",
    "                    img_var = img_crop.resize(size, Image.LANCZOS)\n",
    "                elif width_var < height_var:\n",
    "                    crop_height = int(abs((height-(width_var*aspect_ratio_height))/2))\n",
    "                    box = (0,crop_height,width,height-crop_height)  # left, top, right, bottom\n",
    "                    img_crop = img3.crop(box)  # left, top, right, bottom\n",
    "                    img_var = img_crop.resize(size, Image.LANCZOS)\n",
    "                else:\n",
    "                    img_var = img3\n",
    "\n",
    "                img_var.save(f\"{result_path}/{filename_without_ext2}.jpg\")\n",
    "\n",
    "            except:\n",
    "                print(\"Oops!\", sys.exc_info()[0], \"occurred.\")"
   ]
  },
  {
   "cell_type": "code",
   "execution_count": null,
   "metadata": {},
   "outputs": [],
   "source": []
  },
  {
   "attachments": {},
   "cell_type": "markdown",
   "metadata": {},
   "source": [
    "##### 1000 Word Images"
   ]
  },
  {
   "cell_type": "code",
   "execution_count": null,
   "metadata": {},
   "outputs": [],
   "source": [
    "image_padding_aspect_ratio(\"Images\", image_path, \"Images_Padding\", output_path, padding_color = (0,0,0), aspect_ratio_width = 16, aspect_ratio_height = 9)  # for word"
   ]
  },
  {
   "cell_type": "code",
   "execution_count": null,
   "metadata": {},
   "outputs": [],
   "source": [
    "convert_image_to_jpg_crop_size(\"Images_Padding\", image_path, \"Images_JPG_Crop\", output_path)"
   ]
  },
  {
   "cell_type": "code",
   "execution_count": null,
   "metadata": {},
   "outputs": [],
   "source": []
  },
  {
   "cell_type": "markdown",
   "metadata": {},
   "source": [
    "##### New"
   ]
  },
  {
   "cell_type": "code",
   "execution_count": null,
   "metadata": {},
   "outputs": [],
   "source": [
    "output_path = f\"/home/kurubal/Downloads\"\n",
    "\n",
    "Path(output_path).mkdir(parents=True, exist_ok=True)"
   ]
  },
  {
   "cell_type": "code",
   "execution_count": null,
   "metadata": {},
   "outputs": [],
   "source": [
    "image_path = f\"/home/kurubal/Downloads\""
   ]
  },
  {
   "cell_type": "code",
   "execution_count": null,
   "metadata": {},
   "outputs": [],
   "source": [
    "image_padding_aspect_ratio(\"New\", image_path, \"New_Padding\", output_path, padding_color = (0,0,0), aspect_ratio_width = 16, aspect_ratio_height = 9) "
   ]
  },
  {
   "cell_type": "code",
   "execution_count": null,
   "metadata": {},
   "outputs": [],
   "source": [
    "convert_image_to_jpg_crop_size(\"New_Padding\", image_path, \"New_JPG_Crop\", output_path)"
   ]
  },
  {
   "cell_type": "code",
   "execution_count": null,
   "metadata": {},
   "outputs": [],
   "source": []
  },
  {
   "cell_type": "code",
   "execution_count": null,
   "metadata": {},
   "outputs": [],
   "source": []
  },
  {
   "cell_type": "markdown",
   "metadata": {},
   "source": [
    "#### Sample"
   ]
  },
  {
   "cell_type": "code",
   "execution_count": null,
   "metadata": {},
   "outputs": [],
   "source": [
    "import cv2\n",
    "import numpy as np"
   ]
  },
  {
   "cell_type": "code",
   "execution_count": null,
   "metadata": {},
   "outputs": [],
   "source": [
    "# read image\n",
    "img = cv2.imread('image9.jpg')\n",
    "old_image_height, old_image_width, channels = img.shape\n",
    "\n",
    "# create new image of desired size and color (blue) for padding\n",
    "#if old_image_height < old_image_width:\n",
    "\n",
    "aspect_ratio_width = 16\n",
    "aspect_ratio_height = 9\n",
    "\n",
    "if old_image_height > old_image_width:\n",
    "       new_image_width = int((old_image_height/aspect_ratio_height)*aspect_ratio_width)\n",
    "       new_image_height = int(old_image_height)\n",
    "elif old_image_height < old_image_width:\n",
    "       new_image_width = int(old_image_width)\n",
    "       new_image_height = int((old_image_width/aspect_ratio_width)*aspect_ratio_height)\n",
    "else:\n",
    "       new_image_width = old_image_width\n",
    "       new_image_height = old_image_height\n",
    "       \n",
    "#new_image_width = 1600\n",
    "#new_image_height = 900\n",
    "color = (0,0,0)\n",
    "result = np.full((new_image_height,new_image_width, channels), color, dtype=np.uint8)\n",
    "\n",
    "# compute center offset\n",
    "x_center = (new_image_width - old_image_width) // 2\n",
    "y_center = (new_image_height - old_image_height) // 2\n",
    "\n",
    "# copy img image into center of result image\n",
    "result[y_center:y_center+old_image_height, \n",
    "       x_center:x_center+old_image_width] = img\n",
    "\n",
    "# view result\n",
    "#cv2.imshow(\"result\", result)\n",
    "#cv2.waitKey(0)\n",
    "#cv2.destroyAllWindows()\n",
    "\n",
    "# save result\n",
    "cv2.imwrite(\"image9_new.jpg\", result)"
   ]
  },
  {
   "cell_type": "code",
   "execution_count": null,
   "metadata": {},
   "outputs": [],
   "source": []
  },
  {
   "cell_type": "code",
   "execution_count": null,
   "metadata": {},
   "outputs": [],
   "source": []
  }
 ],
 "metadata": {
  "kernelspec": {
   "display_name": "Python 3.9.5 ('py39')",
   "language": "python",
   "name": "python3"
  },
  "language_info": {
   "codemirror_mode": {
    "name": "ipython",
    "version": 3
   },
   "file_extension": ".py",
   "mimetype": "text/x-python",
   "name": "python",
   "nbconvert_exporter": "python",
   "pygments_lexer": "ipython3",
   "version": "3.9.5"
  },
  "vscode": {
   "interpreter": {
    "hash": "651d507d70892fab0fc6529d935cd476f6e2eb1791525b76da6cc8da34bc0503"
   }
  }
 },
 "nbformat": 4,
 "nbformat_minor": 2
}
