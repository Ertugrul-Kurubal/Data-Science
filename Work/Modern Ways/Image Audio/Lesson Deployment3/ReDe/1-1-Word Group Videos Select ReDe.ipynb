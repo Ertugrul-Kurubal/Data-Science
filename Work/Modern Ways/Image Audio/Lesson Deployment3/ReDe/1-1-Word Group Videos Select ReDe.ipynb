{
 "cells": [
  {
   "attachments": {},
   "cell_type": "markdown",
   "metadata": {},
   "source": [
    "### Word Group Video Select"
   ]
  },
  {
   "cell_type": "code",
   "execution_count": 1,
   "metadata": {},
   "outputs": [],
   "source": [
    "import os\n",
    "import sys\n",
    "import numpy as np\n",
    "import pandas as pd\n",
    "import glob\n",
    "from gtts import gTTS\n",
    "from PIL import Image, ImageFilter, ImageOps\n",
    "#from playsound import playsound\n",
    "from moviepy.editor import VideoFileClip, concatenate_videoclips, AudioFileClip, concatenate_audioclips,CompositeVideoClip, CompositeAudioClip\n",
    "import pandas as pd\n",
    "import nltk\n",
    "from nltk import word_tokenize\n",
    "from pathlib import Path\n",
    "import shutil\n",
    "from os.path import isfile, join\n",
    "import time\n",
    "import cv2"
   ]
  },
  {
   "cell_type": "markdown",
   "metadata": {},
   "source": [
    "#### Adjust Image File Convert Video And Concat "
   ]
  },
  {
   "cell_type": "code",
   "execution_count": 2,
   "metadata": {},
   "outputs": [
    {
     "name": "stdout",
     "output_type": "stream",
     "text": [
      "Turkish\n",
      "tr\n"
     ]
    }
   ],
   "source": [
    "# language pair\n",
    "lang_folder = \"Turkish\"  # Arabic, English, French, German, Turkish, Spanish, Portuguese, Dutch, Italian ==> target language for learner\n",
    "#lang_pair = \"English\"  # Arabic, English, French, German, Turkish, Spanish, Portuguese, Dutch, Italian ==> native language\n",
    "\n",
    "filename_length_num = 5\n",
    "\n",
    "# lang\n",
    "if lang_folder == \"English\":\n",
    "    lang = 'en'\n",
    "elif lang_folder == \"Turkish\":\n",
    "    lang = 'tr'\n",
    "elif lang_folder == \"German\":\n",
    "    lang = 'de'\n",
    "elif lang_folder == \"French\":\n",
    "    lang = 'fr'\n",
    "elif lang_folder == \"Spanish\":\n",
    "    lang = 'es'\n",
    "elif lang_folder == \"Arabic\":\n",
    "    lang = 'ar'\n",
    "elif lang_folder == \"Portuguese\":\n",
    "    lang = 'pt'\n",
    "elif lang_folder == \"Dutch\":\n",
    "    lang = 'nl'\n",
    "elif lang_folder == \"Italian\":\n",
    "    lang = 'it'\n",
    "else:\n",
    "    pass\n",
    "\n",
    "print(f\"{lang_folder}\\n{lang}\") "
   ]
  },
  {
   "cell_type": "code",
   "execution_count": 3,
   "metadata": {},
   "outputs": [],
   "source": [
    "# Data path and folder\n"
   ]
  },
  {
   "cell_type": "code",
   "execution_count": null,
   "metadata": {},
   "outputs": [],
   "source": []
  },
  {
   "attachments": {},
   "cell_type": "markdown",
   "metadata": {},
   "source": [
    "##### Read Data"
   ]
  },
  {
   "cell_type": "code",
   "execution_count": 5,
   "metadata": {},
   "outputs": [
    {
     "data": {
      "text/html": [
       "<div>\n",
       "<style scoped>\n",
       "    .dataframe tbody tr th:only-of-type {\n",
       "        vertical-align: middle;\n",
       "    }\n",
       "\n",
       "    .dataframe tbody tr th {\n",
       "        vertical-align: top;\n",
       "    }\n",
       "\n",
       "    .dataframe thead th {\n",
       "        text-align: right;\n",
       "    }\n",
       "</style>\n",
       "<table border=\"1\" class=\"dataframe\">\n",
       "  <thead>\n",
       "    <tr style=\"text-align: right;\">\n",
       "      <th></th>\n",
       "      <th>fourgram</th>\n",
       "      <th>threegram</th>\n",
       "      <th>twogram</th>\n",
       "    </tr>\n",
       "  </thead>\n",
       "  <tbody>\n",
       "    <tr>\n",
       "      <th>0</th>\n",
       "      <td>bana yardım eder misin</td>\n",
       "      <td>NaN</td>\n",
       "      <td>NaN</td>\n",
       "    </tr>\n",
       "    <tr>\n",
       "      <th>1</th>\n",
       "      <td>bana yardım eder misin</td>\n",
       "      <td>yardım eder misin</td>\n",
       "      <td>eder misin</td>\n",
       "    </tr>\n",
       "    <tr>\n",
       "      <th>2</th>\n",
       "      <td>bana yardım eder misin</td>\n",
       "      <td>yardım eder misin</td>\n",
       "      <td>yardım eder</td>\n",
       "    </tr>\n",
       "    <tr>\n",
       "      <th>3</th>\n",
       "      <td>başka bir şey daha</td>\n",
       "      <td>başka bir şey</td>\n",
       "      <td>bir şey</td>\n",
       "    </tr>\n",
       "    <tr>\n",
       "      <th>4</th>\n",
       "      <td>başka bir şey daha</td>\n",
       "      <td>başka bir şey</td>\n",
       "      <td>başka bir</td>\n",
       "    </tr>\n",
       "    <tr>\n",
       "      <th>...</th>\n",
       "      <td>...</td>\n",
       "      <td>...</td>\n",
       "      <td>...</td>\n",
       "    </tr>\n",
       "    <tr>\n",
       "      <th>475</th>\n",
       "      <td>NaN</td>\n",
       "      <td>çok kötü bir</td>\n",
       "      <td>çok kötü</td>\n",
       "    </tr>\n",
       "    <tr>\n",
       "      <th>476</th>\n",
       "      <td>NaN</td>\n",
       "      <td>bir şey olmaz</td>\n",
       "      <td>NaN</td>\n",
       "    </tr>\n",
       "    <tr>\n",
       "      <th>477</th>\n",
       "      <td>NaN</td>\n",
       "      <td>şuna bir bak</td>\n",
       "      <td>bir bak</td>\n",
       "    </tr>\n",
       "    <tr>\n",
       "      <th>478</th>\n",
       "      <td>NaN</td>\n",
       "      <td>şuna bir bak</td>\n",
       "      <td>NaN</td>\n",
       "    </tr>\n",
       "    <tr>\n",
       "      <th>479</th>\n",
       "      <td>NaN</td>\n",
       "      <td>ve bu da</td>\n",
       "      <td>ve bu</td>\n",
       "    </tr>\n",
       "  </tbody>\n",
       "</table>\n",
       "<p>480 rows × 3 columns</p>\n",
       "</div>"
      ],
      "text/plain": [
       "                   fourgram          threegram      twogram\n",
       "0    bana yardım eder misin                NaN          NaN\n",
       "1    bana yardım eder misin  yardım eder misin   eder misin\n",
       "2    bana yardım eder misin  yardım eder misin  yardım eder\n",
       "3        başka bir şey daha      başka bir şey      bir şey\n",
       "4        başka bir şey daha      başka bir şey    başka bir\n",
       "..                      ...                ...          ...\n",
       "475                     NaN       çok kötü bir     çok kötü\n",
       "476                     NaN      bir şey olmaz          NaN\n",
       "477                     NaN       şuna bir bak      bir bak\n",
       "478                     NaN       şuna bir bak          NaN\n",
       "479                     NaN           ve bu da        ve bu\n",
       "\n",
       "[480 rows x 3 columns]"
      ]
     },
     "execution_count": 5,
     "metadata": {},
     "output_type": "execute_result"
    }
   ],
   "source": [
    "df_deployment_file = pd.read_excel(f\"/media/kurubal/SSD/Data Scientist/Work/Modern Ways/Project/{lang_folder.capitalize()}/Deployment3/Data/Manuel Select/\\\n",
    "Revised Ngrams All in One.xlsx\", sheet_name=\"Sheet2\")\n",
    "df_deployment_file.drop_duplicates(inplace=True)\n",
    "df_deployment_file.reset_index(drop=True, inplace=True)\n",
    "df_deployment_file"
   ]
  },
  {
   "cell_type": "code",
   "execution_count": null,
   "metadata": {},
   "outputs": [],
   "source": []
  },
  {
   "cell_type": "code",
   "execution_count": null,
   "metadata": {},
   "outputs": [],
   "source": []
  },
  {
   "cell_type": "code",
   "execution_count": null,
   "metadata": {},
   "outputs": [],
   "source": []
  },
  {
   "cell_type": "code",
   "execution_count": null,
   "metadata": {},
   "outputs": [],
   "source": [
    "# image folder\n",
    "image_folder = \"Genome_Picture_In_Picture_Rename_Select3\"\n",
    "selected_column = \"fourgram\""
   ]
  },
  {
   "cell_type": "code",
   "execution_count": null,
   "metadata": {},
   "outputs": [],
   "source": [
    "# Output path and folder\n",
    "result_path = f\"/media/kurubal/SSD/Data Scientist/Work/Modern Ways/Project/Turkish/Image Audio Video/Result/1000 Words\"\n",
    "main_result_folder = \"Deployment3\"  # Fourgram_Selected, Test2\n",
    "result_folder = f\"{selected_column.capitalize()}3\"  # Twogram, Threegram, Fourgram, Sample\n"
   ]
  },
  {
   "cell_type": "code",
   "execution_count": null,
   "metadata": {},
   "outputs": [],
   "source": [
    "# ///***\n",
    "output_path = f\"{result_path}/{main_result_folder}/{result_folder}\"  # output path\n",
    "text_audio_path = f\"{result_path}/{main_result_folder}/{result_folder}/Data/Text_Audio\"\n",
    "\n",
    "Path(output_path).mkdir(parents=True, exist_ok=True)\n",
    "Path(text_audio_path).mkdir(parents=True, exist_ok=True)\n",
    "# ****\\\\\\"
   ]
  },
  {
   "cell_type": "code",
   "execution_count": null,
   "metadata": {},
   "outputs": [],
   "source": [
    "# twogram threegram fourgram selection will add"
   ]
  },
  {
   "cell_type": "code",
   "execution_count": null,
   "metadata": {},
   "outputs": [],
   "source": [
    "word_group_all = df_deployment_file[f\"{selected_column}\"].dropna().to_list()\n",
    "word_group_list = list(set(word_group_all))\n",
    "len(word_group_list)"
   ]
  },
  {
   "cell_type": "code",
   "execution_count": null,
   "metadata": {},
   "outputs": [],
   "source": []
  },
  {
   "cell_type": "code",
   "execution_count": null,
   "metadata": {},
   "outputs": [],
   "source": []
  },
  {
   "cell_type": "code",
   "execution_count": null,
   "metadata": {},
   "outputs": [],
   "source": []
  },
  {
   "cell_type": "code",
   "execution_count": null,
   "metadata": {},
   "outputs": [],
   "source": []
  },
  {
   "cell_type": "markdown",
   "metadata": {},
   "source": [
    "#### Result Video File Concat"
   ]
  },
  {
   "cell_type": "code",
   "execution_count": null,
   "metadata": {},
   "outputs": [],
   "source": [
    "from moviepy.editor import VideoFileClip, concatenate_videoclips\n",
    "import os\n",
    "import sys\n",
    "import numpy as np\n",
    "import pandas as pd\n",
    "from pathlib import Path\n",
    "import shutil\n",
    "from os.path import isfile, join\n",
    "import time\n",
    "import nltk\n",
    "from nltk import word_tokenize"
   ]
  },
  {
   "cell_type": "code",
   "execution_count": null,
   "metadata": {},
   "outputs": [],
   "source": [
    "# language pair\n",
    "lang_folder = \"Turkish\"  # Arabic, English, French, German, Turkish, Spanish, Portuguese, Dutch, Italian ==> target language for learner\n",
    "#lang_pair = \"English\"  # Arabic, English, French, German, Turkish, Spanish, Portuguese, Dutch, Italian ==> native language\n",
    "\n",
    "filename_length_num = 5"
   ]
  },
  {
   "cell_type": "code",
   "execution_count": null,
   "metadata": {},
   "outputs": [],
   "source": [
    "def concat_video2(text_list, video_data_folder_name, video_data_path, out_folder_name, out_path, filename):  \n",
    "    '''\n",
    "    concat_video(text_list, video_data_folder_name, video_data_path, out_folder_name, out_path, filename)\\n\n",
    "    text_list is list values. video_data_folder_name, video_data_path, out_folder_name and out_path are path and folder in string(str)\\n\n",
    "    filename is string of result mp4 file name.\n",
    "    ex.\\n\n",
    "    path = f\"/media/kurubal/SSD/Data Scientist/Work/Modern Ways/Project/{lang_folder.capitalize()}/Image Audio Video/Result/200 Words\"\\n\n",
    "    audio_image_video_path = f\"/media/kurubal/SSD/Data Scientist/Work/Modern Ways/Project/{lang_folder.capitalize()}/Image Audio Video/Data/200 Words\"\\n\n",
    "    concat_video(word_select_list, \"Image_Video_Audio\", audio_image_video_path, \"Concat_Video\", path, \"200_Word_Combined_Sample\")\n",
    "    '''\n",
    "    no_image_file_list = []\n",
    "    result_path = f\"{out_path}/{out_folder_name}\"\n",
    "    Path(result_path).mkdir(parents=True, exist_ok=True)\n",
    "    video_text_list = []\n",
    "    video_list = []\n",
    "\n",
    "    if isfile(f\"{result_path}/{filename}.mp4\"):\n",
    "        pass\n",
    "    else:\n",
    "        for text in text_list:\n",
    "            if isfile(f\"{video_data_path}/{video_data_folder_name}/{text}.mp4\"):\n",
    "                video_text_list.append(text)            \n",
    "            else:\n",
    "                no_image_file_list.append(text)\n",
    "\n",
    "        for video_num in range(len(video_text_list)):\n",
    "            try:\n",
    "                clip_var = VideoFileClip(f\"{video_data_path}/{video_data_folder_name}/{video_text_list[video_num]}.mp4\", target_resolution=(900, 1600))  # height, width\n",
    "                video_list.append(clip_var)            \n",
    "            except:\n",
    "                print(\"Oops!\", sys.exc_info()[0], \"occurred.\", f\"{video_text_list[video_num]}.mp4\")\n",
    "\n",
    "        combined = concatenate_videoclips(video_list, method='compose')\n",
    "        combined.write_videofile(f\"{result_path}/{filename}.mp4\", audio_bitrate='128k', audio_fps=44100, audio_codec=\"aac\")\n",
    "    \n",
    "    return no_image_file_list"
   ]
  },
  {
   "cell_type": "code",
   "execution_count": null,
   "metadata": {},
   "outputs": [],
   "source": [
    "# Previous output path and folder\n",
    "#prev_result_path = f\"/home/kurubal/Documents/Modern Ways/Project/{lang_folder.capitalize()}/Image Audio Video/Result/200 Words\"\n",
    "#prev_main_result_folder = \"Twogram_Threegram\"\n",
    "#prev_result_folder = \"Threegram_Twogram_Selected\"\n",
    "\n",
    "prev_result_path = f\"{result_path}\"\n",
    "prev_main_result_folder = f\"{main_result_folder}\"\n",
    "prev_result_folder = f\"{result_folder}\""
   ]
  },
  {
   "cell_type": "code",
   "execution_count": null,
   "metadata": {},
   "outputs": [],
   "source": [
    "data_path = f\"{prev_result_path}/{prev_main_result_folder}/{prev_result_folder}/Result\"  # previous output path result for data for this\n",
    "result_path = f\"{prev_result_path}/{prev_main_result_folder}/{prev_result_folder}/Result\""
   ]
  },
  {
   "cell_type": "code",
   "execution_count": null,
   "metadata": {},
   "outputs": [],
   "source": [
    "#df_deployment_file = pd.read_excel(\"/media/kurubal/SSD/Data Scientist/Work/Modern Ways/Project/Turkish/\\\n",
    "#Deployment2/Result/Deploy2 Result Manuel/Turkish/Twogram_Threegram_Selected.xlsx\", sheet_name=\"twogram_threegram_selected\")\n",
    "#df_deployment_file"
   ]
  },
  {
   "cell_type": "code",
   "execution_count": null,
   "metadata": {},
   "outputs": [],
   "source": [
    "#word_group_list = df_deployment_file[\"twogram_threegram_selected\"].dropna().to_list()\n",
    "#word_group_list"
   ]
  },
  {
   "cell_type": "code",
   "execution_count": null,
   "metadata": {},
   "outputs": [],
   "source": [
    "len(word_group_list)"
   ]
  },
  {
   "cell_type": "code",
   "execution_count": null,
   "metadata": {},
   "outputs": [],
   "source": [
    "word_group_list2 = []\n",
    "for word_group in word_group_list:\n",
    "    word_list = word_tokenize(word_group)\n",
    "    if len(word_list)>filename_length_num:\n",
    "        filename_new = \" \".join(word_list[0:filename_length_num])\n",
    "    else:\n",
    "        filename_new = word_group\n",
    "    word_group_list2.append(filename_new)"
   ]
  },
  {
   "cell_type": "code",
   "execution_count": null,
   "metadata": {},
   "outputs": [],
   "source": [
    "concat_video2(word_group_list2, \"Concat_Video\", data_path, \"All_Concat_Video\", result_path, f\"{prev_result_folder}\")"
   ]
  },
  {
   "cell_type": "code",
   "execution_count": null,
   "metadata": {},
   "outputs": [],
   "source": []
  },
  {
   "cell_type": "code",
   "execution_count": null,
   "metadata": {},
   "outputs": [],
   "source": []
  },
  {
   "cell_type": "code",
   "execution_count": null,
   "metadata": {},
   "outputs": [],
   "source": []
  }
 ],
 "metadata": {
  "kernelspec": {
   "display_name": "Python 3",
   "language": "python",
   "name": "python3"
  },
  "language_info": {
   "codemirror_mode": {
    "name": "ipython",
    "version": 3
   },
   "file_extension": ".py",
   "mimetype": "text/x-python",
   "name": "python",
   "nbconvert_exporter": "python",
   "pygments_lexer": "ipython3",
   "version": "3.9.5"
  },
  "orig_nbformat": 4,
  "vscode": {
   "interpreter": {
    "hash": "f42fef0e501d15e7ffc29462fb079408e9033a09ba77cf75c7f739a9f9db1301"
   }
  }
 },
 "nbformat": 4,
 "nbformat_minor": 2
}
