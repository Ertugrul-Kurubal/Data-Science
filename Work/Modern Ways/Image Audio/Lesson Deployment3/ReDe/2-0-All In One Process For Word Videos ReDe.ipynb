{
 "cells": [
  {
   "cell_type": "markdown",
   "metadata": {},
   "source": [
    "### All In One Process For Word Group Words Videoes Concat"
   ]
  },
  {
   "cell_type": "code",
   "execution_count": 62,
   "metadata": {},
   "outputs": [],
   "source": [
    "import os\n",
    "import sys\n",
    "import numpy as np\n",
    "import pandas as pd\n",
    "from gtts import gTTS\n",
    "#from playsound import playsound\n",
    "from moviepy.editor import VideoFileClip, concatenate_videoclips, AudioFileClip, concatenate_audioclips,CompositeVideoClip, CompositeAudioClip\n",
    "import pandas as pd\n",
    "import nltk\n",
    "from nltk import word_tokenize\n",
    "from pathlib import Path\n",
    "import shutil\n",
    "from os.path import isfile, join\n",
    "import time\n",
    "import cv2"
   ]
  },
  {
   "cell_type": "markdown",
   "metadata": {},
   "source": [
    "#### Adjust Image File Convert Video And Concat "
   ]
  },
  {
   "cell_type": "code",
   "execution_count": 63,
   "metadata": {},
   "outputs": [
    {
     "name": "stdout",
     "output_type": "stream",
     "text": [
      "Turkish\n",
      "tr\n"
     ]
    }
   ],
   "source": [
    "# language pair\n",
    "lang_folder = \"Turkish\"  # Arabic, English, French, German, Turkish, Spanish, Portuguese, Dutch, Italian ==> target language for learner\n",
    "#lang_pair = \"English\"  # Arabic, English, French, German, Turkish, Spanish, Portuguese, Dutch, Italian ==> native language\n",
    "\n",
    "filename_length_num = 5\n",
    "\n",
    "# lang\n",
    "if lang_folder == \"English\":\n",
    "    lang = 'en'\n",
    "elif lang_folder == \"Turkish\":\n",
    "    lang = 'tr'\n",
    "elif lang_folder == \"German\":\n",
    "    lang = 'de'\n",
    "elif lang_folder == \"French\":\n",
    "    lang = 'fr'\n",
    "elif lang_folder == \"Spanish\":\n",
    "    lang = 'es'\n",
    "elif lang_folder == \"Arabic\":\n",
    "    lang = 'ar'\n",
    "elif lang_folder == \"Portuguese\":\n",
    "    lang = 'pt'\n",
    "elif lang_folder == \"Dutch\":\n",
    "    lang = 'nl'\n",
    "elif lang_folder == \"Italian\":\n",
    "    lang = 'it'\n",
    "else:\n",
    "    pass\n",
    "\n",
    "print(f\"{lang_folder}\\n{lang}\") "
   ]
  },
  {
   "cell_type": "code",
   "execution_count": 64,
   "metadata": {},
   "outputs": [],
   "source": [
    "# Data path and folder\n",
    "# Data path and folder\n",
    "image_path = f\"/media/kurubal/SSD/Data Scientist/Work/Modern Ways/Project/{lang_folder.capitalize()}/Image Audio Video/Data/1000 Words\"\n",
    "audio_delay_path_and_file = f\"/media/kurubal/SSD/Data Scientist/Work/Modern Ways/Project/{lang_folder.capitalize()}/Image Audio Video/Data/Audio_Delay/delay_audio.wav\"  # delay audio"
   ]
  },
  {
   "cell_type": "code",
   "execution_count": 65,
   "metadata": {},
   "outputs": [],
   "source": [
    "def text_convert_to_audio_same(filename_list, out_folder_name, out_path, language=\"en\", speech_slow=True, delay_time = 0.5, delay_point = \"both\"):\n",
    "    ''' \n",
    "    text_convert_to_audio_same(filename_list, out_folder_name, out_path, language=\"en\", speech_slow=True, delay_time = 0.5, delay_point = \"both\")\\n\n",
    "    filename_list is string values. out_folder_name and out_path are path and folder name in str. language and speech_slow are gttS parameter\\n\n",
    "    delay_time is in second and add delay to gttS audio result. delay point used for delay start, end or both\\n \n",
    "    ex:\\n\n",
    "    path = f\"/media/kurubal/SSD/Data Scientist/Data Science/Data-Scientist/Work/Modern Ways/Image Audio/Product\"\\n\n",
    "    text_convert_to_audio_same(word_select_list, \"Text_Audio\", path, language=lang)\n",
    "    '''\n",
    "    result_path = f\"{out_path}/{out_folder_name}\"\n",
    "    result_path2 = f\"{out_path}/Text_Audio\"\n",
    "    Path(result_path).mkdir(parents=True, exist_ok=True)\n",
    "    Path(result_path2).mkdir(parents=True, exist_ok=True)\n",
    "    audio_delay = AudioFileClip(audio_delay_path_and_file).subclip(0,delay_time)\n",
    "    for filename in filename_list:\n",
    "        if isfile(f\"{result_path2}/{filename}.mp3\"):\n",
    "            pass\n",
    "        else:\n",
    "            text_audio = gTTS(text=filename, lang=language, slow=speech_slow)\n",
    "            text_audio.save(f\"{result_path2}/{filename}.mp3\")\n",
    "            time.sleep(0.2)\n",
    "\n",
    "        if isfile(f\"{result_path}/{filename}.mp3\"):\n",
    "            pass\n",
    "        else:\n",
    "            text_audio_clip = AudioFileClip(f\"{result_path2}/{filename}.mp3\")\n",
    "            try:        \n",
    "                if delay_point == \"both\":\n",
    "                    audio_combined = concatenate_audioclips([audio_delay,text_audio_clip,audio_delay])\n",
    "                elif delay_point == \"start\":\n",
    "                    audio_combined = concatenate_audioclips([audio_delay,text_audio_clip])\n",
    "                elif delay_point == \"end\":\n",
    "                    audio_combined = concatenate_audioclips([text_audio_clip,audio_delay])\n",
    "                else:\n",
    "                    audio_combined = concatenate_audioclips([text_audio_clip])\n",
    "\n",
    "                audio_combined.write_audiofile(f\"{result_path}/{filename}.mp3\", codec=\"mp3\", bitrate=\"128k\", fps=44100)\n",
    "            except:\n",
    "                    print(\"Oops!\", sys.exc_info()[0], \"occurred.\")"
   ]
  },
  {
   "cell_type": "code",
   "execution_count": 66,
   "metadata": {},
   "outputs": [],
   "source": [
    "def wordgroup_convert_to_audio_same(word_group, out_folder_name, out_path, language=\"en\", speech_slow=True, delay_time = 0.5, delay_point = \"both\"):\n",
    "    ''' \n",
    "    wordgroup_convert_to_audio_same(word_group, out_folder_name, out_path, filename, language=\"en\", speech_slow=True, delay_time = 0.5, delay_point = \"both\")\\n\n",
    "    word_group is string values. out_folder_name and out_path are path and folder name in str. language and speech_slow are gttS parameter\\n\n",
    "    delay_time is in second and add delay to gttS audio result. delay point used for delay start, end or both\\n \n",
    "    ex:\\n\n",
    "    path = f\"/media/kurubal/SSD/Data Scientist/Data Science/Data-Scientist/Work/Modern Ways/Image Audio/Product\"\\n\n",
    "    wordgroup_convert_to_audio_same(word_group, \"Text_Audio\", path, language=lang)\n",
    "    '''\n",
    "    result_path = f\"{out_path}/{out_folder_name}\"\n",
    "    result_path2 = f\"{out_path}/Text_Audio\"\n",
    "    Path(result_path).mkdir(parents=True, exist_ok=True)\n",
    "    Path(result_path2).mkdir(parents=True, exist_ok=True)\n",
    "    audio_delay = AudioFileClip(audio_delay_path_and_file).subclip(0,delay_time)\n",
    "    \n",
    "    word_list = word_tokenize(word_group)\n",
    "    if len(word_list)>filename_length_num:\n",
    "        filename = \" \".join(word_list[0:filename_length_num])\n",
    "    else:\n",
    "        filename = word_group\n",
    "\n",
    "    if isfile(f\"{result_path2}/{filename}.mp3\"):   # optional\n",
    "        pass\n",
    "    else:\n",
    "        text_audio = gTTS(text=word_group, lang=language, slow=speech_slow)\n",
    "        text_audio.save(f\"{result_path2}/{filename}.mp3\")\n",
    "        time.sleep(0.2)\n",
    "\n",
    "    if isfile(f\"{result_path}/{filename}.mp3\"):   # optional\n",
    "        pass\n",
    "    else:\n",
    "        text_audio_clip = AudioFileClip(f\"{result_path2}/{filename}.mp3\")          \n",
    "        try:        \n",
    "            if delay_point == \"both\":\n",
    "                audio_combined = concatenate_audioclips([audio_delay,text_audio_clip,audio_delay])\n",
    "            elif delay_point == \"start\":\n",
    "                audio_combined = concatenate_audioclips([audio_delay,text_audio_clip])\n",
    "            elif delay_point == \"end\":\n",
    "                audio_combined = concatenate_audioclips([text_audio_clip,audio_delay])\n",
    "            else:\n",
    "                audio_combined = concatenate_audioclips([text_audio_clip])\n",
    "\n",
    "            audio_combined.write_audiofile(f\"{result_path}/{filename}.mp3\", codec=\"mp3\", bitrate=\"128k\", fps=44100)\n",
    "        except:\n",
    "                print(\"Oops!\", sys.exc_info()[0], \"occurred.\")"
   ]
  },
  {
   "cell_type": "code",
   "execution_count": 67,
   "metadata": {},
   "outputs": [],
   "source": [
    "def convert_image_to_jpg_crop_size(filename_list, data_folder_name, data_path, out_folder_name, out_path):\n",
    "    '''\n",
    "    convert_image_to_jpg_crop_size(filename_list, data_folder_name, data_path, out_folder_name, out_path)\\n\n",
    "    filename_list is image filename list. data_folder_name, data_path, out_folder_name and out_path are path and folder in string.\\n\n",
    "    ex.\\n\n",
    "    path = f\"/media/kurubal/SSD/Data Scientist/Data Science/Data-Scientist/Work/Modern Ways/Image Audio/Product\"\\n\n",
    "    image_path = f\"/media/kurubal/SSD/Data Scientist/Data Science/Data-Scientist/Work/Modern Ways/Image Audio/Product\"\\n\n",
    "    convert_image_to_jpg_crop_size(word_list, image_data_folder_name, image_data_path, \"Image_JPG_Crop\", data_path)\n",
    "    '''\n",
    "    aspect_ratio_width = 16\n",
    "    aspect_ratio_height = 9\n",
    "    basewidth = 1600\n",
    "    size_width = int(basewidth)\n",
    "    size_heigth = int((basewidth/aspect_ratio_width)*aspect_ratio_height)\n",
    "    size = (size_width,size_heigth)\n",
    "\n",
    "    result_path = f\"{out_path}/{out_folder_name}\"\n",
    "    result_path2 = f\"{out_path}/Images_JPG\"\n",
    "    data_folder_path = f\"{data_path}/{data_folder_name}\"\n",
    "    Path(result_path).mkdir(parents=True, exist_ok=True)\n",
    "    Path(result_path2).mkdir(parents=True, exist_ok=True)\n",
    "\n",
    "    files=[f for f in os.listdir(data_folder_path) if isfile(join(data_folder_path,f))]     \n",
    "    for i in range(len(files)):\n",
    "        #text = f\"{text}\"\n",
    "        pathfilename=data_folder_path+'/'+files[i]\n",
    "        filename_without_ext = os.path.splitext(files[i])[0]\n",
    "        try:\n",
    "            if isfile(f\"{result_path2}/{filename_without_ext}.jpg\"):\n",
    "                pass\n",
    "            else:\n",
    "                img = Image.open(pathfilename)\n",
    "                img2 = img.convert(\"RGB\")\n",
    "                img2.save(f\"{result_path2}/{filename_without_ext}.jpg\")\n",
    "                time.sleep(0.1)\n",
    "        except:\n",
    "            print(\"Oops!\", sys.exc_info()[0], \"occurred.\")\n",
    "\n",
    "    for filename in filename_list:    \n",
    "        if isfile(f\"{result_path}/{filename}.jpg\"):\n",
    "            pass\n",
    "        else:\n",
    "            try:\n",
    "                img3 = Image.open(f\"{result_path2}/{filename}.jpg\")  # ???\n",
    "                width, height = img3.size\n",
    "                height_var = int(height/aspect_ratio_height)\n",
    "                width_var = int(width/aspect_ratio_width)\n",
    "\n",
    "                if height_var == width_var:\n",
    "                    img_var = img3.resize(size, Image.LANCZOS)\n",
    "                elif width_var > height_var:\n",
    "                    crop_width = int(abs((width-(height_var*aspect_ratio_width))/2))\n",
    "                    box = (crop_width,0,width-crop_width,height)  # left, top, right, bottom\n",
    "                    img_crop = img3.crop(box)  \n",
    "                    img_var = img_crop.resize(size, Image.LANCZOS)\n",
    "                elif width_var < height_var:\n",
    "                    crop_height = int(abs((height-(width_var*aspect_ratio_height))/2))\n",
    "                    box = (0,crop_height,width,height-crop_height)  # left, top, right, bottom\n",
    "                    img_crop = img3.crop(box)  # left, top, right, bottom\n",
    "                    img_var = img_crop.resize(size, Image.LANCZOS)\n",
    "                else:\n",
    "                    img_var = img3\n",
    "\n",
    "                img_var.save(f\"{result_path}/{filename}.jpg\")\n",
    "\n",
    "            except:\n",
    "                print(\"Oops!\", sys.exc_info()[0], \"occurred.\")"
   ]
  },
  {
   "cell_type": "code",
   "execution_count": 68,
   "metadata": {},
   "outputs": [],
   "source": [
    "def convert_pictures_to_video(filename_list, data_folder_name, data_path, out_folder_name, out_path, fps=1, time=5):\n",
    "    '''\n",
    "    convert_pictures_to_video(filename_list, data_folder_name, data_path, out_folder_name, out_path, fps=1, time=5)\\n\n",
    "    filename_list is list values. data_folder_name, data_path, out_folder_name and out_path are path\\n\n",
    "    and folder in string(str). others are cv2 parameter\\n\n",
    "    ex.\\n\n",
    "    path = f\"/media/kurubal/SSD/Data Scientist/Data Science/Data-Scientist/Work/Modern Ways/Image Audio/Product\"\\n\n",
    "    image_path = f\"/media/kurubal/SSD/Data Scientist/Data Science/Data-Scientist/Work/Modern Ways/Image Audio/Product\"\\n\n",
    "    convert_pictures_to_video(word_select_list, \"Images_Crop_Size\", image_path, \"Image_Video\", path, fps=1, time=5)\n",
    "    '''\n",
    "    result_path = f\"{out_path}/{out_folder_name}\"\n",
    "    Path(result_path).mkdir(parents=True, exist_ok=True)\n",
    "\n",
    "    for filename in filename_list:\n",
    "        if isfile(f\"{out_path}/{out_folder_name}/{filename}.mp4\"):\n",
    "            pass\n",
    "        else:    \n",
    "            try:\n",
    "                img = cv2.imread(f\"{data_path}/{data_folder_name}/{filename}.jpg\")\n",
    "                height, width, layers = img.shape\n",
    "                size=(width,height)\n",
    "                frame_array = []\n",
    "                for k in range (time):\n",
    "                    frame_array.append(img)\n",
    "                result_path2 = f\"{out_path}/{out_folder_name}/{filename}.mp4\"\n",
    "                out = cv2.VideoWriter(result_path2,cv2.VideoWriter_fourcc(*'mp4v'), fps, size)\n",
    "    \n",
    "                for i in range(len(frame_array)):\n",
    "                    out.write(frame_array[i])\n",
    "                out.release()\n",
    "                \n",
    "            except:\n",
    "                print(\"Oops!\", sys.exc_info()[0], \"occurred.\")"
   ]
  },
  {
   "cell_type": "code",
   "execution_count": 69,
   "metadata": {},
   "outputs": [],
   "source": [
    "def add_audio_to_video(filename_list, video_data_folder_name, video_data_path, audio_data_folder_name, audio_data_path, out_folder_name, out_path):\n",
    "    '''\n",
    "    add_audio_to_video(filename_list, video_data_folder_name, video_data_path, audio_data_folder_name, audio_data_path, out_folder_name, out_path)\\n\n",
    "    filename_list is list values. video_data_folder_name, video_data_path, audio_data_folder_name, audio_data_path, out_folder_name and out_path are path\\n\n",
    "    and folder in string(str).\\n\n",
    "    ex.\\n\n",
    "    path = f\"/media/kurubal/SSD/Data Scientist/Data Science/Data-Scientist/Work/Modern Ways/Image Audio/Product\"\\n\n",
    "    image_video_path = f\"/media/kurubal/SSD/Data Scientist/Data Science/Data-Scientist/Work/Modern Ways/Image Audio/Product\"\\n\n",
    "    text_audio_path = f\"/media/kurubal/SSD/Data Scientist/Data Science/Data-Scientist/Work/Modern Ways/Image Audio/Product\"\\n\n",
    "    add_audio_to_video(word_select_list, \"Video\", image_video_path, \"Audio\", text_audio_path, \"Video_Audio\", path)\n",
    "    '''\n",
    "    result_path = f\"{out_path}/{out_folder_name}\"\n",
    "    Path(result_path).mkdir(parents=True, exist_ok=True)\n",
    "\n",
    "    for filename in filename_list:\n",
    "        if isfile(f\"{result_path}/{filename}.mp4\"):\n",
    "            pass\n",
    "        else:\n",
    "            try:\n",
    "                videoclip = VideoFileClip(f\"{video_data_path}/{video_data_folder_name}/{filename}.mp4\")\n",
    "                audioclip = AudioFileClip(f\"{audio_data_path}/{audio_data_folder_name}/{filename}.mp3\", fps = 44100)\n",
    "    \n",
    "                #new_audioclip = CompositeAudioClip([audioclip]).set_duration(videoclip.duration)  # .set_duration(videoclip.duration), .set_duration(audioclip.duration)\n",
    "                new_videoclip = CompositeVideoClip([videoclip]).set_duration(audioclip.duration)  # .set_duration(videoclip.duration), .set_duration(audioclip.duration)\n",
    "                new_videoclip.audio = audioclip  # new_audioclip\n",
    "    \n",
    "                new_videoclip.write_videofile(f\"{result_path}/{filename}.mp4\", audio_bitrate='128k', audio_fps=44100, audio_codec=\"aac\")\n",
    "                \n",
    "            except:\n",
    "                print(\"Oops!\", sys.exc_info()[0], \"occurred.\")"
   ]
  },
  {
   "cell_type": "code",
   "execution_count": 70,
   "metadata": {},
   "outputs": [],
   "source": [
    "def add_audio_to_wordgroup_video(word_group, video_data_folder_name, video_data_path, audio_data_folder_name, audio_data_path, out_folder_name, out_path):\n",
    "    '''\n",
    "    add_audio_to_video(text_list, video_data_folder_name, video_data_path, audio_data_folder_name, audio_data_path, out_folder_name, out_path)\\n\n",
    "    word_group is string values. video_data_folder_name, video_data_path, audio_data_folder_name, audio_data_path, out_folder_name and out_path are path\\n\n",
    "    and folder in string(str).\\n\n",
    "    ex.\\n\n",
    "    path = f\"/media/kurubal/SSD/Data Scientist/Data Science/Data-Scientist/Work/Modern Ways/Image Audio/Product\"\\n\n",
    "    image_video_path = f\"/media/kurubal/SSD/Data Scientist/Data Science/Data-Scientist/Work/Modern Ways/Image Audio/Product\"\\n\n",
    "    text_audio_path = f\"/media/kurubal/SSD/Data Scientist/Data Science/Data-Scientist/Work/Modern Ways/Image Audio/Product\"\\n\n",
    "    add_audio_to_video(word_group, \"Video\", image_video_path, \"Audio\", text_audio_path, \"Video_Audio\", path)\n",
    "    '''\n",
    "    result_path = f\"{out_path}/{out_folder_name}\"\n",
    "    Path(result_path).mkdir(parents=True, exist_ok=True)\n",
    "\n",
    "    word_list = word_tokenize(word_group)\n",
    "    if len(word_list)>filename_length_num:\n",
    "        filename = \" \".join(word_list[0:filename_length_num])\n",
    "    else:\n",
    "        filename = word_group\n",
    "\n",
    "    if isfile(f\"{result_path}/{filename}.mp4\"):  # optional\n",
    "        pass\n",
    "    else:\n",
    "        try:\n",
    "            videoclip = VideoFileClip(f\"{video_data_path}/{video_data_folder_name}/{word_list[-1]}.mp4\")\n",
    "            audioclip = AudioFileClip(f\"{audio_data_path}/{audio_data_folder_name}/{filename}.mp3\", fps = 44100)\n",
    "\n",
    "            #new_audioclip = CompositeAudioClip([audioclip]).set_duration(videoclip.duration)  # .set_duration(videoclip.duration), .set_duration(audioclip.duration)\n",
    "            new_videoclip = CompositeVideoClip([videoclip]).set_duration(audioclip.duration)  # .set_duration(videoclip.duration), .set_duration(audioclip.duration)\n",
    "            new_videoclip.audio = audioclip  # new_audioclip\n",
    "            \n",
    "            new_videoclip.write_videofile(f\"{result_path}/{filename}.mp4\", audio_bitrate='128k', audio_fps=44100, audio_codec=\"aac\")\n",
    "            \n",
    "        except:\n",
    "            print(\"Oops!\", sys.exc_info()[0], \"occurred.\")"
   ]
  },
  {
   "cell_type": "code",
   "execution_count": 71,
   "metadata": {},
   "outputs": [],
   "source": [
    "def concat_video_with_ext(filename_list, video_data_folder_name, video_data_path, out_folder_name, out_path, out_filename, external_audio_video):  \n",
    "    '''\n",
    "    concat_video(filename_list, video_data_folder_name, video_data_path, out_folder_name, out_path, filename)\\n\n",
    "    filename_list is string list values. video_data_folder_name, video_data_path, out_folder_name and out_path are path and folder in string(str)\\n\n",
    "    out_filename is string of result mp4 file name. external_audio_video is file and also it is in same video path and video folder\\n\n",
    "    ex.\\n\n",
    "    path = f\"/media/kurubal/SSD/Data Scientist/Data Science/Data-Scientist/Work/Modern Ways/Image Audio/Product\"\\n\n",
    "    audio_image_video_path = f\"/media/kurubal/SSD/Data Scientist/Data Science/Data-Scientist/Work/Modern Ways/Image Audio/Product\"\\n\n",
    "    concat_video_fast(word_select_list, \"Image_Video_Audio\", audio_image_video_path, \"Concat_Video\", path, \"200_Word_Combined_Sample\")\n",
    "    '''\n",
    "    no_image_file_list = []\n",
    "    result_path = f\"{out_path}/{out_folder_name}\"\n",
    "    Path(result_path).mkdir(parents=True, exist_ok=True)\n",
    "    video_text_list = []\n",
    "    video_list = []\n",
    "    \n",
    "    if isfile(f\"{result_path}/{out_filename}.mp4\"):\n",
    "        pass\n",
    "    else:\n",
    "        for filename in filename_list:\n",
    "            if isfile(f\"{video_data_path}/{video_data_folder_name}/{filename}.mp4\") and not(isfile(f\"{result_path}/{out_filename}.mp4\")):\n",
    "                video_text_list.append(filename)            \n",
    "            else:\n",
    "                no_image_file_list.append(filename)\n",
    "\n",
    "        video_text_list.append(external_audio_video)\n",
    "        for video_num in range(len(video_text_list)):\n",
    "            try:\n",
    "                clip_var = VideoFileClip(f\"{video_data_path}/{video_data_folder_name}/{video_text_list[video_num]}.mp4\", target_resolution=(900, 1600))  # height, width\n",
    "                video_list.append(clip_var)            \n",
    "            except:\n",
    "                print(\"Oops!\", sys.exc_info()[0], \"occurred.\", f\"{video_text_list[video_num]}.mp4\")\n",
    "\n",
    "        combined = concatenate_videoclips(video_list, method='compose')\n",
    "        combined.write_videofile(f\"{result_path}/{out_filename}.mp4\", audio_bitrate='128k', audio_fps=44100, audio_codec=\"aac\")\n",
    "\n",
    "    return no_image_file_list"
   ]
  },
  {
   "cell_type": "code",
   "execution_count": 72,
   "metadata": {},
   "outputs": [],
   "source": [
    "def concat_video_with_ext2(filename_list, video_data_folder_name, video_data_path, out_folder_name, out_path, out_filename, external_audio_video):  \n",
    "    '''\n",
    "    concat_video(filename_list, video_data_folder_name, video_data_path, out_folder_name, out_path, filename)\\n\n",
    "    filename_list is string list values. video_data_folder_name, video_data_path, out_folder_name and out_path are path and folder in string(str)\\n\n",
    "    out_filename is string of result mp4 file name. external_audio_video is file and also it is in same video path and video folder\\n\n",
    "    ex.\\n\n",
    "    path = f\"/media/kurubal/SSD/Data Scientist/Data Science/Data-Scientist/Work/Modern Ways/Image Audio/Product\"\\n\n",
    "    audio_image_video_path = f\"/media/kurubal/SSD/Data Scientist/Data Science/Data-Scientist/Work/Modern Ways/Image Audio/Product\"\\n\n",
    "    concat_video_fast(word_select_list, \"Image_Video_Audio\", audio_image_video_path, \"Concat_Video\", path, \"200_Word_Combined_Sample\")\n",
    "    '''\n",
    "    no_image_file_list = []\n",
    "    result_path = f\"{out_path}/{out_folder_name}\"\n",
    "    Path(result_path).mkdir(parents=True, exist_ok=True)\n",
    "    video_text_list = []\n",
    "    video_list = []\n",
    "    \n",
    "    if isfile(f\"{result_path}/{out_filename}.mp4\"):\n",
    "        pass\n",
    "    else:\n",
    "        video_text_list.append(external_audio_video)\n",
    "        for filename in filename_list:\n",
    "            if isfile(f\"{video_data_path}/{video_data_folder_name}/{filename}.mp4\") and not(isfile(f\"{result_path}/{out_filename}.mp4\")):\n",
    "                video_text_list.append(filename)            \n",
    "            else:\n",
    "                no_image_file_list.append(filename)\n",
    "\n",
    "        video_text_list.append(external_audio_video)\n",
    "        for video_num in range(len(video_text_list)):\n",
    "            try:\n",
    "                clip_var = VideoFileClip(f\"{video_data_path}/{video_data_folder_name}/{video_text_list[video_num]}.mp4\", target_resolution=(900, 1600))  # height, width\n",
    "                video_list.append(clip_var)            \n",
    "            except:\n",
    "                print(\"Oops!\", sys.exc_info()[0], \"occurred.\", f\"{video_text_list[video_num]}.mp4\")\n",
    "\n",
    "        combined = concatenate_videoclips(video_list, method='compose')\n",
    "        combined.write_videofile(f\"{result_path}/{out_filename}.mp4\", audio_bitrate='128k', audio_fps=44100, audio_codec=\"aac\")\n",
    "\n",
    "    return no_image_file_list"
   ]
  },
  {
   "cell_type": "code",
   "execution_count": 73,
   "metadata": {},
   "outputs": [],
   "source": [
    "def all_in_one(word_group_list, image_data_folder_name, image_data_path, out_path, language=lang):\n",
    "    '''\n",
    "    word_group_word_video_combine(word_group_list, video_data_folder_name, video_data_path, out_folder_name, out_path)\n",
    "    word_group_list is word_group(sentence) list values. video_data_folder_name, video_data_path, out_folder_name and out_path are path and folder in string(str)\\n\n",
    "    ex.\\n\n",
    "    path = f\"/media/kurubal/SSD/Data Scientist/Data Science/Data-Scientist/Work/Modern Ways/Image Audio/Product\"\\n\n",
    "    audio_image_video_path = f\"/media/kurubal/SSD/Data Scientist/Data Science/Data-Scientist/Work/Modern Ways/Image Audio/Product\"\\n\n",
    "    word_group_word_video_combine(df_deployment_file_sent_list, \"Image_Video_Audio\", audio_image_video_path, \"200_Word_69_Youtube_Sentence\", path)\n",
    "    '''\n",
    "    data_path = f\"{out_path}/Data\"\n",
    "    result_path = f\"{out_path}/Result\"\n",
    "    Path(data_path).mkdir(parents=True, exist_ok=True)\n",
    "    Path(result_path).mkdir(parents=True, exist_ok=True)\n",
    "    for word_group in word_group_list:\n",
    "        word_list = word_tokenize(word_group)\n",
    "        try:\n",
    "            #convert_image_to_jpg_crop_size(word_list, image_data_folder_name, image_data_path, \"Image_JPG_Crop\", data_path)  # if not image data prepare\n",
    "            text_convert_to_audio_same(word_list, \"Text_MP3\", data_path, language=language, speech_slow=True, delay_time = 0.5, delay_point = \"both\")\n",
    "            #convert_pictures_to_video(word_list, \"Image_JPG_Crop\", data_path, \"Image_Video\", data_path, fps=1, time=5)  # if not image data prepare\n",
    "            convert_pictures_to_video(word_list, image_data_folder_name, image_data_path, \"Image_Video\", data_path, fps=1, time=5)\n",
    "            add_audio_to_video(word_list, \"Image_Video\", data_path, \"Text_MP3\", data_path, \"Image_Video_Audio\", result_path)\n",
    "        except:\n",
    "            print(\"Oops!\", sys.exc_info()[0], \"occurred.\")\n",
    "\n",
    "        if len(word_list)>1:\n",
    "            try:            \n",
    "                if len(word_list)>filename_length_num:\n",
    "                    filename_new = \" \".join(word_list[0:filename_length_num])\n",
    "                else:\n",
    "                    filename_new = word_group\n",
    "                wordgroup_convert_to_audio_same(word_group, \"Text_MP3\", data_path, language=language, speech_slow=True, delay_time = 0.5, delay_point = \"both\")\n",
    "                add_audio_to_wordgroup_video(word_group, \"Image_Video\", data_path, \"Text_MP3\", data_path, \"Image_Video_Audio\", result_path)\n",
    "                #concat_video_with_ext(word_list, \"Image_Video_Audio\", result_path, \"Concat_Video\", result_path, f\"{filename_new}\", f\"{filename_new}\")\n",
    "                #concat_video_with_ext2(word_list, \"Image_Video_Audio\", result_path, \"Concat_Video\", result_path, f\"{filename_new}\", f\"{filename_new}\")\n",
    "            except:\n",
    "                print(\"Oops!\", sys.exc_info()[0], \"occurred.\")                \n",
    "        else:\n",
    "            pass        "
   ]
  },
  {
   "cell_type": "code",
   "execution_count": null,
   "metadata": {},
   "outputs": [],
   "source": []
  },
  {
   "attachments": {},
   "cell_type": "markdown",
   "metadata": {},
   "source": [
    "##### Read Data"
   ]
  },
  {
   "cell_type": "code",
   "execution_count": 74,
   "metadata": {},
   "outputs": [
    {
     "data": {
      "text/html": [
       "<div>\n",
       "<style scoped>\n",
       "    .dataframe tbody tr th:only-of-type {\n",
       "        vertical-align: middle;\n",
       "    }\n",
       "\n",
       "    .dataframe tbody tr th {\n",
       "        vertical-align: top;\n",
       "    }\n",
       "\n",
       "    .dataframe thead th {\n",
       "        text-align: right;\n",
       "    }\n",
       "</style>\n",
       "<table border=\"1\" class=\"dataframe\">\n",
       "  <thead>\n",
       "    <tr style=\"text-align: right;\">\n",
       "      <th></th>\n",
       "      <th>search_word</th>\n",
       "      <th>POS1</th>\n",
       "      <th>POS2</th>\n",
       "      <th>word</th>\n",
       "      <th>lemma.spacy</th>\n",
       "      <th>stem</th>\n",
       "      <th>word_en_translate</th>\n",
       "      <th>lemma_en_translate</th>\n",
       "      <th>frequency</th>\n",
       "      <th>prefix_suffix</th>\n",
       "      <th>tense</th>\n",
       "      <th>person</th>\n",
       "      <th>case</th>\n",
       "      <th>plural</th>\n",
       "      <th>mean</th>\n",
       "      <th>other</th>\n",
       "    </tr>\n",
       "  </thead>\n",
       "  <tbody>\n",
       "    <tr>\n",
       "      <th>0</th>\n",
       "      <td>bir</td>\n",
       "      <td>NUM</td>\n",
       "      <td>NaN</td>\n",
       "      <td>bir</td>\n",
       "      <td>bir</td>\n",
       "      <td>bir</td>\n",
       "      <td>a</td>\n",
       "      <td>a</td>\n",
       "      <td>18835735</td>\n",
       "      <td>+</td>\n",
       "      <td>NaN</td>\n",
       "      <td>NaN</td>\n",
       "      <td>NaN</td>\n",
       "      <td>NaN</td>\n",
       "      <td>NaN</td>\n",
       "      <td>NaN</td>\n",
       "    </tr>\n",
       "    <tr>\n",
       "      <th>1</th>\n",
       "      <td>bir</td>\n",
       "      <td>ADV</td>\n",
       "      <td>NaN</td>\n",
       "      <td>biraz</td>\n",
       "      <td>biraz</td>\n",
       "      <td>bir</td>\n",
       "      <td>a little</td>\n",
       "      <td>a little</td>\n",
       "      <td>1269641</td>\n",
       "      <td>+az</td>\n",
       "      <td>NaN</td>\n",
       "      <td>NaN</td>\n",
       "      <td>NaN</td>\n",
       "      <td>NaN</td>\n",
       "      <td>NaN</td>\n",
       "      <td>NaN</td>\n",
       "    </tr>\n",
       "    <tr>\n",
       "      <th>2</th>\n",
       "      <td>bir</td>\n",
       "      <td>PRON</td>\n",
       "      <td>NaN</td>\n",
       "      <td>biri</td>\n",
       "      <td>biri</td>\n",
       "      <td>bir</td>\n",
       "      <td>somebody</td>\n",
       "      <td>somebody</td>\n",
       "      <td>837400</td>\n",
       "      <td>+i</td>\n",
       "      <td>NaN</td>\n",
       "      <td>NaN</td>\n",
       "      <td>belirtme</td>\n",
       "      <td>NaN</td>\n",
       "      <td>NaN</td>\n",
       "      <td>NaN</td>\n",
       "    </tr>\n",
       "    <tr>\n",
       "      <th>3</th>\n",
       "      <td>bir</td>\n",
       "      <td>ADV</td>\n",
       "      <td>NaN</td>\n",
       "      <td>birlikte</td>\n",
       "      <td>birlikte</td>\n",
       "      <td>bir</td>\n",
       "      <td>together</td>\n",
       "      <td>together</td>\n",
       "      <td>409940</td>\n",
       "      <td>+likte</td>\n",
       "      <td>NaN</td>\n",
       "      <td>NaN</td>\n",
       "      <td>NaN</td>\n",
       "      <td>NaN</td>\n",
       "      <td>NaN</td>\n",
       "      <td>NaN</td>\n",
       "    </tr>\n",
       "    <tr>\n",
       "      <th>4</th>\n",
       "      <td>bir</td>\n",
       "      <td>NOUN</td>\n",
       "      <td>NaN</td>\n",
       "      <td>birini</td>\n",
       "      <td>biri</td>\n",
       "      <td>bir</td>\n",
       "      <td>one</td>\n",
       "      <td>somebody</td>\n",
       "      <td>259916</td>\n",
       "      <td>+ini</td>\n",
       "      <td>NaN</td>\n",
       "      <td>NaN</td>\n",
       "      <td>belirtme</td>\n",
       "      <td>NaN</td>\n",
       "      <td>NaN</td>\n",
       "      <td>NaN</td>\n",
       "    </tr>\n",
       "    <tr>\n",
       "      <th>...</th>\n",
       "      <td>...</td>\n",
       "      <td>...</td>\n",
       "      <td>...</td>\n",
       "      <td>...</td>\n",
       "      <td>...</td>\n",
       "      <td>...</td>\n",
       "      <td>...</td>\n",
       "      <td>...</td>\n",
       "      <td>...</td>\n",
       "      <td>...</td>\n",
       "      <td>...</td>\n",
       "      <td>...</td>\n",
       "      <td>...</td>\n",
       "      <td>...</td>\n",
       "      <td>...</td>\n",
       "      <td>...</td>\n",
       "    </tr>\n",
       "    <tr>\n",
       "      <th>1619</th>\n",
       "      <td>veriyor</td>\n",
       "      <td>VERB</td>\n",
       "      <td>NaN</td>\n",
       "      <td>veriyorum</td>\n",
       "      <td>ver</td>\n",
       "      <td>ver</td>\n",
       "      <td>i give</td>\n",
       "      <td>give</td>\n",
       "      <td>126290</td>\n",
       "      <td>+um</td>\n",
       "      <td>NaN</td>\n",
       "      <td>1.tekil</td>\n",
       "      <td>NaN</td>\n",
       "      <td>NaN</td>\n",
       "      <td>NaN</td>\n",
       "      <td>NaN</td>\n",
       "    </tr>\n",
       "    <tr>\n",
       "      <th>1620</th>\n",
       "      <td>veriyor</td>\n",
       "      <td>VERB</td>\n",
       "      <td>NaN</td>\n",
       "      <td>veriyor</td>\n",
       "      <td>ver</td>\n",
       "      <td>ver</td>\n",
       "      <td>giving</td>\n",
       "      <td>give</td>\n",
       "      <td>68163</td>\n",
       "      <td>+</td>\n",
       "      <td>şimdiki</td>\n",
       "      <td>NaN</td>\n",
       "      <td>NaN</td>\n",
       "      <td>NaN</td>\n",
       "      <td>NaN</td>\n",
       "      <td>NaN</td>\n",
       "    </tr>\n",
       "    <tr>\n",
       "      <th>1621</th>\n",
       "      <td>okul</td>\n",
       "      <td>NOUN</td>\n",
       "      <td>NaN</td>\n",
       "      <td>okul</td>\n",
       "      <td>okul</td>\n",
       "      <td>oku</td>\n",
       "      <td>school</td>\n",
       "      <td>school</td>\n",
       "      <td>68160</td>\n",
       "      <td>+</td>\n",
       "      <td>NaN</td>\n",
       "      <td>NaN</td>\n",
       "      <td>NaN</td>\n",
       "      <td>NaN</td>\n",
       "      <td>NaN</td>\n",
       "      <td>NaN</td>\n",
       "    </tr>\n",
       "    <tr>\n",
       "      <th>1622</th>\n",
       "      <td>suçlu</td>\n",
       "      <td>NOUN</td>\n",
       "      <td>NaN</td>\n",
       "      <td>suçlu</td>\n",
       "      <td>suç</td>\n",
       "      <td>suç</td>\n",
       "      <td>guilty</td>\n",
       "      <td>crime</td>\n",
       "      <td>68124</td>\n",
       "      <td>+</td>\n",
       "      <td>NaN</td>\n",
       "      <td>3.tekil</td>\n",
       "      <td>belirtme</td>\n",
       "      <td>NaN</td>\n",
       "      <td>NaN</td>\n",
       "      <td>NaN</td>\n",
       "    </tr>\n",
       "    <tr>\n",
       "      <th>1623</th>\n",
       "      <td>mesela</td>\n",
       "      <td>ADV</td>\n",
       "      <td>NaN</td>\n",
       "      <td>mesela</td>\n",
       "      <td>mesela</td>\n",
       "      <td>mesela</td>\n",
       "      <td>for example</td>\n",
       "      <td>for example</td>\n",
       "      <td>68096</td>\n",
       "      <td>+</td>\n",
       "      <td>NaN</td>\n",
       "      <td>NaN</td>\n",
       "      <td>NaN</td>\n",
       "      <td>NaN</td>\n",
       "      <td>NaN</td>\n",
       "      <td>NaN</td>\n",
       "    </tr>\n",
       "  </tbody>\n",
       "</table>\n",
       "<p>1624 rows × 16 columns</p>\n",
       "</div>"
      ],
      "text/plain": [
       "     search_word  POS1 POS2       word lemma.spacy    stem word_en_translate  \\\n",
       "0            bir   NUM  NaN        bir         bir     bir                 a   \n",
       "1            bir   ADV  NaN      biraz       biraz     bir          a little   \n",
       "2            bir  PRON  NaN       biri        biri     bir          somebody   \n",
       "3            bir   ADV  NaN   birlikte    birlikte     bir          together   \n",
       "4            bir  NOUN  NaN     birini        biri     bir               one   \n",
       "...          ...   ...  ...        ...         ...     ...               ...   \n",
       "1619     veriyor  VERB  NaN  veriyorum         ver     ver            i give   \n",
       "1620     veriyor  VERB  NaN    veriyor         ver     ver            giving   \n",
       "1621        okul  NOUN  NaN       okul        okul     oku            school   \n",
       "1622       suçlu  NOUN  NaN      suçlu         suç     suç            guilty   \n",
       "1623      mesela   ADV  NaN     mesela      mesela  mesela       for example   \n",
       "\n",
       "     lemma_en_translate  frequency prefix_suffix    tense   person      case  \\\n",
       "0                     a   18835735             +      NaN      NaN       NaN   \n",
       "1              a little    1269641           +az      NaN      NaN       NaN   \n",
       "2              somebody     837400            +i      NaN      NaN  belirtme   \n",
       "3              together     409940        +likte      NaN      NaN       NaN   \n",
       "4              somebody     259916          +ini      NaN      NaN  belirtme   \n",
       "...                 ...        ...           ...      ...      ...       ...   \n",
       "1619               give     126290           +um      NaN  1.tekil       NaN   \n",
       "1620               give      68163             +  şimdiki      NaN       NaN   \n",
       "1621             school      68160             +      NaN      NaN       NaN   \n",
       "1622              crime      68124             +      NaN  3.tekil  belirtme   \n",
       "1623        for example      68096             +      NaN      NaN       NaN   \n",
       "\n",
       "     plural mean other  \n",
       "0       NaN  NaN   NaN  \n",
       "1       NaN  NaN   NaN  \n",
       "2       NaN  NaN   NaN  \n",
       "3       NaN  NaN   NaN  \n",
       "4       NaN  NaN   NaN  \n",
       "...     ...  ...   ...  \n",
       "1619    NaN  NaN   NaN  \n",
       "1620    NaN  NaN   NaN  \n",
       "1621    NaN  NaN   NaN  \n",
       "1622    NaN  NaN   NaN  \n",
       "1623    NaN  NaN   NaN  \n",
       "\n",
       "[1624 rows x 16 columns]"
      ]
     },
     "execution_count": 74,
     "metadata": {},
     "output_type": "execute_result"
    }
   ],
   "source": [
    "df_deployment_file = pd.read_excel(f\"/media/kurubal/SSD/Data Scientist/Work/Modern Ways/Project/{lang_folder.capitalize()}/Lemma Stem POS/Result/\\\n",
    "2-1-Word Prefix Suffix Analysis/{lang_folder.capitalize()}_1000_Word_Person_Case_Tense_Plural_Mean_Manuel.xlsx\", sheet_name=\"Sheet1\")\n",
    "df_deployment_file.drop_duplicates(inplace=True)\n",
    "df_deployment_file.reset_index(drop=True, inplace=True)\n",
    "df_deployment_file"
   ]
  },
  {
   "cell_type": "code",
   "execution_count": 86,
   "metadata": {},
   "outputs": [],
   "source": [
    "# image folder\n",
    "image_folder = \"Genome_Picture_In_Picture_Rename_Select2\"\n",
    "selected_column = \"word\""
   ]
  },
  {
   "cell_type": "code",
   "execution_count": 87,
   "metadata": {},
   "outputs": [],
   "source": [
    "# Output path and folder\n",
    "result_path = f\"/media/kurubal/SSD/Data Scientist/Work/Modern Ways/Project/{lang_folder.capitalize()}/Image Audio Video/Result/1000 Words\"\n",
    "main_result_folder = \"Deployment3\"\n",
    "result_folder = f\"{selected_column.capitalize()}2\""
   ]
  },
  {
   "cell_type": "code",
   "execution_count": 88,
   "metadata": {},
   "outputs": [],
   "source": [
    "# ///***\n",
    "output_path = f\"{result_path}/{main_result_folder}/{result_folder}\"  # output path\n",
    "text_audio_path = f\"{result_path}/{main_result_folder}/{result_folder}/Data/Text_Audio\"\n",
    "\n",
    "Path(output_path).mkdir(parents=True, exist_ok=True)\n",
    "Path(text_audio_path).mkdir(parents=True, exist_ok=True)\n",
    "# ****\\\\\\"
   ]
  },
  {
   "cell_type": "code",
   "execution_count": 89,
   "metadata": {},
   "outputs": [
    {
     "data": {
      "text/plain": [
       "1000"
      ]
     },
     "execution_count": 89,
     "metadata": {},
     "output_type": "execute_result"
    }
   ],
   "source": [
    "word_group_all = df_deployment_file[f\"{selected_column}\"].dropna().to_list()\n",
    "word_group_list = list(set(word_group_all))\n",
    "len(word_group_list)"
   ]
  },
  {
   "cell_type": "code",
   "execution_count": null,
   "metadata": {},
   "outputs": [],
   "source": []
  },
  {
   "cell_type": "markdown",
   "metadata": {},
   "source": [
    "##### Check Missing Image"
   ]
  },
  {
   "cell_type": "code",
   "execution_count": 90,
   "metadata": {},
   "outputs": [],
   "source": [
    "word_list = []\n",
    "for word_group in word_group_list:\n",
    "    words = word_tokenize(word_group)\n",
    "    for word in words:\n",
    "        word_list.append(word)"
   ]
  },
  {
   "cell_type": "code",
   "execution_count": 91,
   "metadata": {},
   "outputs": [],
   "source": [
    "image_path_folder = f\"{image_path}/{image_folder}\""
   ]
  },
  {
   "cell_type": "code",
   "execution_count": 92,
   "metadata": {},
   "outputs": [],
   "source": [
    "file_list = os.listdir(f\"{image_path_folder}\")"
   ]
  },
  {
   "cell_type": "code",
   "execution_count": 93,
   "metadata": {},
   "outputs": [],
   "source": [
    "image_file_name = []\n",
    "for file in file_list:\n",
    "    # file and extention\n",
    "    file_without_ext = os.path.splitext(file)[0]\n",
    "    image_file_name.append(file_without_ext)"
   ]
  },
  {
   "cell_type": "code",
   "execution_count": 94,
   "metadata": {},
   "outputs": [],
   "source": [
    "word_set = set(word_list)\n",
    "image_file_name_set = set(image_file_name)"
   ]
  },
  {
   "cell_type": "code",
   "execution_count": 95,
   "metadata": {},
   "outputs": [
    {
     "data": {
      "text/plain": [
       "set()"
      ]
     },
     "execution_count": 95,
     "metadata": {},
     "output_type": "execute_result"
    }
   ],
   "source": [
    "word_set.difference(image_file_name_set)"
   ]
  },
  {
   "cell_type": "code",
   "execution_count": null,
   "metadata": {},
   "outputs": [],
   "source": []
  },
  {
   "attachments": {},
   "cell_type": "markdown",
   "metadata": {},
   "source": [
    "##### Image To Video Output"
   ]
  },
  {
   "cell_type": "code",
   "execution_count": 96,
   "metadata": {},
   "outputs": [
    {
     "name": "stdout",
     "output_type": "stream",
     "text": [
      "MoviePy - Writing audio in /media/kurubal/SSD/Data Scientist/Work/Modern Ways/Project/Turkish/Image Audio Video/Result/1000 Words/Deployment3/Word2/Data/Text_MP3/söyledim.mp3\n"
     ]
    },
    {
     "name": "stderr",
     "output_type": "stream",
     "text": [
      "                                                       "
     ]
    },
    {
     "name": "stdout",
     "output_type": "stream",
     "text": [
      "MoviePy - Done.\n"
     ]
    },
    {
     "name": "stderr",
     "output_type": "stream",
     "text": [
      "\r"
     ]
    },
    {
     "name": "stdout",
     "output_type": "stream",
     "text": [
      "Moviepy - Building video /media/kurubal/SSD/Data Scientist/Work/Modern Ways/Project/Turkish/Image Audio Video/Result/1000 Words/Deployment3/Word2/Result/Image_Video_Audio/söyledim.mp4.\n",
      "MoviePy - Writing audio in söyledimTEMP_MPY_wvf_snd.mp4\n"
     ]
    },
    {
     "name": "stderr",
     "output_type": "stream",
     "text": [
      "                                                       \r"
     ]
    },
    {
     "name": "stdout",
     "output_type": "stream",
     "text": [
      "MoviePy - Done.\n",
      "Moviepy - Writing video /media/kurubal/SSD/Data Scientist/Work/Modern Ways/Project/Turkish/Image Audio Video/Result/1000 Words/Deployment3/Word2/Result/Image_Video_Audio/söyledim.mp4\n",
      "\n"
     ]
    },
    {
     "name": "stderr",
     "output_type": "stream",
     "text": [
      "                                                  \r"
     ]
    },
    {
     "name": "stdout",
     "output_type": "stream",
     "text": [
      "Moviepy - Done !\n",
      "Moviepy - video ready /media/kurubal/SSD/Data Scientist/Work/Modern Ways/Project/Turkish/Image Audio Video/Result/1000 Words/Deployment3/Word2/Result/Image_Video_Audio/söyledim.mp4\n",
      "MoviePy - Writing audio in /media/kurubal/SSD/Data Scientist/Work/Modern Ways/Project/Turkish/Image Audio Video/Result/1000 Words/Deployment3/Word2/Data/Text_MP3/ediyor.mp3\n"
     ]
    },
    {
     "name": "stderr",
     "output_type": "stream",
     "text": [
      "                                                       "
     ]
    },
    {
     "name": "stdout",
     "output_type": "stream",
     "text": [
      "MoviePy - Done.\n"
     ]
    },
    {
     "name": "stderr",
     "output_type": "stream",
     "text": [
      "\r"
     ]
    },
    {
     "name": "stdout",
     "output_type": "stream",
     "text": [
      "Moviepy - Building video /media/kurubal/SSD/Data Scientist/Work/Modern Ways/Project/Turkish/Image Audio Video/Result/1000 Words/Deployment3/Word2/Result/Image_Video_Audio/ediyor.mp4.\n",
      "MoviePy - Writing audio in ediyorTEMP_MPY_wvf_snd.mp4\n"
     ]
    },
    {
     "name": "stderr",
     "output_type": "stream",
     "text": [
      "                                                       \r"
     ]
    },
    {
     "name": "stdout",
     "output_type": "stream",
     "text": [
      "MoviePy - Done.\n",
      "Moviepy - Writing video /media/kurubal/SSD/Data Scientist/Work/Modern Ways/Project/Turkish/Image Audio Video/Result/1000 Words/Deployment3/Word2/Result/Image_Video_Audio/ediyor.mp4\n",
      "\n"
     ]
    },
    {
     "name": "stderr",
     "output_type": "stream",
     "text": [
      "                                                  \r"
     ]
    },
    {
     "name": "stdout",
     "output_type": "stream",
     "text": [
      "Moviepy - Done !\n",
      "Moviepy - video ready /media/kurubal/SSD/Data Scientist/Work/Modern Ways/Project/Turkish/Image Audio Video/Result/1000 Words/Deployment3/Word2/Result/Image_Video_Audio/ediyor.mp4\n",
      "MoviePy - Writing audio in /media/kurubal/SSD/Data Scientist/Work/Modern Ways/Project/Turkish/Image Audio Video/Result/1000 Words/Deployment3/Word2/Data/Text_MP3/sakın.mp3\n"
     ]
    },
    {
     "name": "stderr",
     "output_type": "stream",
     "text": [
      "                                                       "
     ]
    },
    {
     "name": "stdout",
     "output_type": "stream",
     "text": [
      "MoviePy - Done.\n"
     ]
    },
    {
     "name": "stderr",
     "output_type": "stream",
     "text": [
      "\r"
     ]
    },
    {
     "name": "stdout",
     "output_type": "stream",
     "text": [
      "Moviepy - Building video /media/kurubal/SSD/Data Scientist/Work/Modern Ways/Project/Turkish/Image Audio Video/Result/1000 Words/Deployment3/Word2/Result/Image_Video_Audio/sakın.mp4.\n",
      "MoviePy - Writing audio in sakınTEMP_MPY_wvf_snd.mp4\n"
     ]
    },
    {
     "name": "stderr",
     "output_type": "stream",
     "text": [
      "                                                       \r"
     ]
    },
    {
     "name": "stdout",
     "output_type": "stream",
     "text": [
      "MoviePy - Done.\n",
      "Moviepy - Writing video /media/kurubal/SSD/Data Scientist/Work/Modern Ways/Project/Turkish/Image Audio Video/Result/1000 Words/Deployment3/Word2/Result/Image_Video_Audio/sakın.mp4\n",
      "\n"
     ]
    },
    {
     "name": "stderr",
     "output_type": "stream",
     "text": [
      "                                                  \r"
     ]
    },
    {
     "name": "stdout",
     "output_type": "stream",
     "text": [
      "Moviepy - Done !\n",
      "Moviepy - video ready /media/kurubal/SSD/Data Scientist/Work/Modern Ways/Project/Turkish/Image Audio Video/Result/1000 Words/Deployment3/Word2/Result/Image_Video_Audio/sakın.mp4\n",
      "MoviePy - Writing audio in /media/kurubal/SSD/Data Scientist/Work/Modern Ways/Project/Turkish/Image Audio Video/Result/1000 Words/Deployment3/Word2/Data/Text_MP3/kısa.mp3\n"
     ]
    },
    {
     "name": "stderr",
     "output_type": "stream",
     "text": [
      "                                                       "
     ]
    },
    {
     "name": "stdout",
     "output_type": "stream",
     "text": [
      "MoviePy - Done.\n"
     ]
    },
    {
     "name": "stderr",
     "output_type": "stream",
     "text": [
      "\r"
     ]
    },
    {
     "name": "stdout",
     "output_type": "stream",
     "text": [
      "Moviepy - Building video /media/kurubal/SSD/Data Scientist/Work/Modern Ways/Project/Turkish/Image Audio Video/Result/1000 Words/Deployment3/Word2/Result/Image_Video_Audio/kısa.mp4.\n",
      "MoviePy - Writing audio in kısaTEMP_MPY_wvf_snd.mp4\n"
     ]
    },
    {
     "name": "stderr",
     "output_type": "stream",
     "text": [
      "                                                       "
     ]
    },
    {
     "name": "stdout",
     "output_type": "stream",
     "text": [
      "MoviePy - Done.\n",
      "Moviepy - Writing video /media/kurubal/SSD/Data Scientist/Work/Modern Ways/Project/Turkish/Image Audio Video/Result/1000 Words/Deployment3/Word2/Result/Image_Video_Audio/kısa.mp4\n",
      "\n"
     ]
    },
    {
     "name": "stderr",
     "output_type": "stream",
     "text": [
      "                                                  \r"
     ]
    },
    {
     "name": "stdout",
     "output_type": "stream",
     "text": [
      "Moviepy - Done !\n",
      "Moviepy - video ready /media/kurubal/SSD/Data Scientist/Work/Modern Ways/Project/Turkish/Image Audio Video/Result/1000 Words/Deployment3/Word2/Result/Image_Video_Audio/kısa.mp4\n",
      "MoviePy - Writing audio in /media/kurubal/SSD/Data Scientist/Work/Modern Ways/Project/Turkish/Image Audio Video/Result/1000 Words/Deployment3/Word2/Data/Text_MP3/sahibi.mp3\n"
     ]
    },
    {
     "name": "stderr",
     "output_type": "stream",
     "text": [
      "                                                       "
     ]
    },
    {
     "name": "stdout",
     "output_type": "stream",
     "text": [
      "MoviePy - Done.\n"
     ]
    },
    {
     "name": "stderr",
     "output_type": "stream",
     "text": [
      "\r"
     ]
    },
    {
     "name": "stdout",
     "output_type": "stream",
     "text": [
      "Moviepy - Building video /media/kurubal/SSD/Data Scientist/Work/Modern Ways/Project/Turkish/Image Audio Video/Result/1000 Words/Deployment3/Word2/Result/Image_Video_Audio/sahibi.mp4.\n",
      "MoviePy - Writing audio in sahibiTEMP_MPY_wvf_snd.mp4\n"
     ]
    },
    {
     "name": "stderr",
     "output_type": "stream",
     "text": [
      "                                                       \r"
     ]
    },
    {
     "name": "stdout",
     "output_type": "stream",
     "text": [
      "MoviePy - Done.\n",
      "Moviepy - Writing video /media/kurubal/SSD/Data Scientist/Work/Modern Ways/Project/Turkish/Image Audio Video/Result/1000 Words/Deployment3/Word2/Result/Image_Video_Audio/sahibi.mp4\n",
      "\n"
     ]
    },
    {
     "name": "stderr",
     "output_type": "stream",
     "text": [
      "                                                  \r"
     ]
    },
    {
     "name": "stdout",
     "output_type": "stream",
     "text": [
      "Moviepy - Done !\n",
      "Moviepy - video ready /media/kurubal/SSD/Data Scientist/Work/Modern Ways/Project/Turkish/Image Audio Video/Result/1000 Words/Deployment3/Word2/Result/Image_Video_Audio/sahibi.mp4\n",
      "MoviePy - Writing audio in /media/kurubal/SSD/Data Scientist/Work/Modern Ways/Project/Turkish/Image Audio Video/Result/1000 Words/Deployment3/Word2/Data/Text_MP3/yardım.mp3\n"
     ]
    },
    {
     "name": "stderr",
     "output_type": "stream",
     "text": [
      "                                                       "
     ]
    },
    {
     "name": "stdout",
     "output_type": "stream",
     "text": [
      "MoviePy - Done.\n"
     ]
    },
    {
     "name": "stderr",
     "output_type": "stream",
     "text": [
      "\r"
     ]
    },
    {
     "name": "stdout",
     "output_type": "stream",
     "text": [
      "Moviepy - Building video /media/kurubal/SSD/Data Scientist/Work/Modern Ways/Project/Turkish/Image Audio Video/Result/1000 Words/Deployment3/Word2/Result/Image_Video_Audio/yardım.mp4.\n",
      "MoviePy - Writing audio in yardımTEMP_MPY_wvf_snd.mp4\n"
     ]
    },
    {
     "name": "stderr",
     "output_type": "stream",
     "text": [
      "                                                       \r"
     ]
    },
    {
     "name": "stdout",
     "output_type": "stream",
     "text": [
      "MoviePy - Done.\n",
      "Moviepy - Writing video /media/kurubal/SSD/Data Scientist/Work/Modern Ways/Project/Turkish/Image Audio Video/Result/1000 Words/Deployment3/Word2/Result/Image_Video_Audio/yardım.mp4\n",
      "\n"
     ]
    },
    {
     "name": "stderr",
     "output_type": "stream",
     "text": [
      "                                                  \r"
     ]
    },
    {
     "name": "stdout",
     "output_type": "stream",
     "text": [
      "Moviepy - Done !\n",
      "Moviepy - video ready /media/kurubal/SSD/Data Scientist/Work/Modern Ways/Project/Turkish/Image Audio Video/Result/1000 Words/Deployment3/Word2/Result/Image_Video_Audio/yardım.mp4\n",
      "MoviePy - Writing audio in /media/kurubal/SSD/Data Scientist/Work/Modern Ways/Project/Turkish/Image Audio Video/Result/1000 Words/Deployment3/Word2/Data/Text_MP3/dünyada.mp3\n"
     ]
    },
    {
     "name": "stderr",
     "output_type": "stream",
     "text": [
      "                                                       "
     ]
    },
    {
     "name": "stdout",
     "output_type": "stream",
     "text": [
      "MoviePy - Done.\n"
     ]
    },
    {
     "name": "stderr",
     "output_type": "stream",
     "text": [
      "\r"
     ]
    },
    {
     "name": "stdout",
     "output_type": "stream",
     "text": [
      "Moviepy - Building video /media/kurubal/SSD/Data Scientist/Work/Modern Ways/Project/Turkish/Image Audio Video/Result/1000 Words/Deployment3/Word2/Result/Image_Video_Audio/dünyada.mp4.\n",
      "MoviePy - Writing audio in dünyadaTEMP_MPY_wvf_snd.mp4\n"
     ]
    },
    {
     "name": "stderr",
     "output_type": "stream",
     "text": [
      "                                                       \r"
     ]
    },
    {
     "name": "stdout",
     "output_type": "stream",
     "text": [
      "MoviePy - Done.\n",
      "Moviepy - Writing video /media/kurubal/SSD/Data Scientist/Work/Modern Ways/Project/Turkish/Image Audio Video/Result/1000 Words/Deployment3/Word2/Result/Image_Video_Audio/dünyada.mp4\n",
      "\n"
     ]
    },
    {
     "name": "stderr",
     "output_type": "stream",
     "text": [
      "                                                  \r"
     ]
    },
    {
     "name": "stdout",
     "output_type": "stream",
     "text": [
      "Moviepy - Done !\n",
      "Moviepy - video ready /media/kurubal/SSD/Data Scientist/Work/Modern Ways/Project/Turkish/Image Audio Video/Result/1000 Words/Deployment3/Word2/Result/Image_Video_Audio/dünyada.mp4\n",
      "MoviePy - Writing audio in /media/kurubal/SSD/Data Scientist/Work/Modern Ways/Project/Turkish/Image Audio Video/Result/1000 Words/Deployment3/Word2/Data/Text_MP3/söyleme.mp3\n"
     ]
    },
    {
     "name": "stderr",
     "output_type": "stream",
     "text": [
      "                                                       "
     ]
    },
    {
     "name": "stdout",
     "output_type": "stream",
     "text": [
      "MoviePy - Done.\n"
     ]
    },
    {
     "name": "stderr",
     "output_type": "stream",
     "text": [
      "\r"
     ]
    },
    {
     "name": "stdout",
     "output_type": "stream",
     "text": [
      "Moviepy - Building video /media/kurubal/SSD/Data Scientist/Work/Modern Ways/Project/Turkish/Image Audio Video/Result/1000 Words/Deployment3/Word2/Result/Image_Video_Audio/söyleme.mp4.\n",
      "MoviePy - Writing audio in söylemeTEMP_MPY_wvf_snd.mp4\n"
     ]
    },
    {
     "name": "stderr",
     "output_type": "stream",
     "text": [
      "                                                       \r"
     ]
    },
    {
     "name": "stdout",
     "output_type": "stream",
     "text": [
      "MoviePy - Done.\n",
      "Moviepy - Writing video /media/kurubal/SSD/Data Scientist/Work/Modern Ways/Project/Turkish/Image Audio Video/Result/1000 Words/Deployment3/Word2/Result/Image_Video_Audio/söyleme.mp4\n",
      "\n"
     ]
    },
    {
     "name": "stderr",
     "output_type": "stream",
     "text": [
      "                                                  \r"
     ]
    },
    {
     "name": "stdout",
     "output_type": "stream",
     "text": [
      "Moviepy - Done !\n",
      "Moviepy - video ready /media/kurubal/SSD/Data Scientist/Work/Modern Ways/Project/Turkish/Image Audio Video/Result/1000 Words/Deployment3/Word2/Result/Image_Video_Audio/söyleme.mp4\n",
      "MoviePy - Writing audio in /media/kurubal/SSD/Data Scientist/Work/Modern Ways/Project/Turkish/Image Audio Video/Result/1000 Words/Deployment3/Word2/Data/Text_MP3/zor.mp3\n"
     ]
    },
    {
     "name": "stderr",
     "output_type": "stream",
     "text": [
      "                                                       "
     ]
    },
    {
     "name": "stdout",
     "output_type": "stream",
     "text": [
      "MoviePy - Done.\n"
     ]
    },
    {
     "name": "stderr",
     "output_type": "stream",
     "text": [
      "\r"
     ]
    },
    {
     "name": "stdout",
     "output_type": "stream",
     "text": [
      "Moviepy - Building video /media/kurubal/SSD/Data Scientist/Work/Modern Ways/Project/Turkish/Image Audio Video/Result/1000 Words/Deployment3/Word2/Result/Image_Video_Audio/zor.mp4.\n",
      "MoviePy - Writing audio in zorTEMP_MPY_wvf_snd.mp4\n"
     ]
    },
    {
     "name": "stderr",
     "output_type": "stream",
     "text": [
      "                                                       \r"
     ]
    },
    {
     "name": "stdout",
     "output_type": "stream",
     "text": [
      "MoviePy - Done.\n",
      "Moviepy - Writing video /media/kurubal/SSD/Data Scientist/Work/Modern Ways/Project/Turkish/Image Audio Video/Result/1000 Words/Deployment3/Word2/Result/Image_Video_Audio/zor.mp4\n",
      "\n"
     ]
    },
    {
     "name": "stderr",
     "output_type": "stream",
     "text": [
      "                                                  "
     ]
    },
    {
     "name": "stdout",
     "output_type": "stream",
     "text": [
      "Moviepy - Done !\n",
      "Moviepy - video ready /media/kurubal/SSD/Data Scientist/Work/Modern Ways/Project/Turkish/Image Audio Video/Result/1000 Words/Deployment3/Word2/Result/Image_Video_Audio/zor.mp4\n"
     ]
    },
    {
     "name": "stderr",
     "output_type": "stream",
     "text": [
      "\r"
     ]
    },
    {
     "name": "stdout",
     "output_type": "stream",
     "text": [
      "MoviePy - Writing audio in /media/kurubal/SSD/Data Scientist/Work/Modern Ways/Project/Turkish/Image Audio Video/Result/1000 Words/Deployment3/Word2/Data/Text_MP3/kendini.mp3\n"
     ]
    },
    {
     "name": "stderr",
     "output_type": "stream",
     "text": [
      "                                                       "
     ]
    },
    {
     "name": "stdout",
     "output_type": "stream",
     "text": [
      "MoviePy - Done.\n"
     ]
    },
    {
     "name": "stderr",
     "output_type": "stream",
     "text": [
      "\r"
     ]
    },
    {
     "name": "stdout",
     "output_type": "stream",
     "text": [
      "Moviepy - Building video /media/kurubal/SSD/Data Scientist/Work/Modern Ways/Project/Turkish/Image Audio Video/Result/1000 Words/Deployment3/Word2/Result/Image_Video_Audio/kendini.mp4.\n",
      "MoviePy - Writing audio in kendiniTEMP_MPY_wvf_snd.mp4\n"
     ]
    },
    {
     "name": "stderr",
     "output_type": "stream",
     "text": [
      "                                                       \r"
     ]
    },
    {
     "name": "stdout",
     "output_type": "stream",
     "text": [
      "MoviePy - Done.\n",
      "Moviepy - Writing video /media/kurubal/SSD/Data Scientist/Work/Modern Ways/Project/Turkish/Image Audio Video/Result/1000 Words/Deployment3/Word2/Result/Image_Video_Audio/kendini.mp4\n",
      "\n"
     ]
    },
    {
     "name": "stderr",
     "output_type": "stream",
     "text": [
      "                                                  \r"
     ]
    },
    {
     "name": "stdout",
     "output_type": "stream",
     "text": [
      "Moviepy - Done !\n",
      "Moviepy - video ready /media/kurubal/SSD/Data Scientist/Work/Modern Ways/Project/Turkish/Image Audio Video/Result/1000 Words/Deployment3/Word2/Result/Image_Video_Audio/kendini.mp4\n",
      "MoviePy - Writing audio in /media/kurubal/SSD/Data Scientist/Work/Modern Ways/Project/Turkish/Image Audio Video/Result/1000 Words/Deployment3/Word2/Data/Text_MP3/kimin.mp3\n"
     ]
    },
    {
     "name": "stderr",
     "output_type": "stream",
     "text": [
      "                                                       "
     ]
    },
    {
     "name": "stdout",
     "output_type": "stream",
     "text": [
      "MoviePy - Done.\n"
     ]
    },
    {
     "name": "stderr",
     "output_type": "stream",
     "text": [
      "\r"
     ]
    },
    {
     "name": "stdout",
     "output_type": "stream",
     "text": [
      "Moviepy - Building video /media/kurubal/SSD/Data Scientist/Work/Modern Ways/Project/Turkish/Image Audio Video/Result/1000 Words/Deployment3/Word2/Result/Image_Video_Audio/kimin.mp4.\n",
      "MoviePy - Writing audio in kiminTEMP_MPY_wvf_snd.mp4\n"
     ]
    },
    {
     "name": "stderr",
     "output_type": "stream",
     "text": [
      "                                                       \r"
     ]
    },
    {
     "name": "stdout",
     "output_type": "stream",
     "text": [
      "MoviePy - Done.\n",
      "Moviepy - Writing video /media/kurubal/SSD/Data Scientist/Work/Modern Ways/Project/Turkish/Image Audio Video/Result/1000 Words/Deployment3/Word2/Result/Image_Video_Audio/kimin.mp4\n",
      "\n"
     ]
    },
    {
     "name": "stderr",
     "output_type": "stream",
     "text": [
      "                                                  \r"
     ]
    },
    {
     "name": "stdout",
     "output_type": "stream",
     "text": [
      "Moviepy - Done !\n",
      "Moviepy - video ready /media/kurubal/SSD/Data Scientist/Work/Modern Ways/Project/Turkish/Image Audio Video/Result/1000 Words/Deployment3/Word2/Result/Image_Video_Audio/kimin.mp4\n",
      "MoviePy - Writing audio in /media/kurubal/SSD/Data Scientist/Work/Modern Ways/Project/Turkish/Image Audio Video/Result/1000 Words/Deployment3/Word2/Data/Text_MP3/hatırlıyor.mp3\n"
     ]
    },
    {
     "name": "stderr",
     "output_type": "stream",
     "text": [
      "                                                       "
     ]
    },
    {
     "name": "stdout",
     "output_type": "stream",
     "text": [
      "MoviePy - Done.\n"
     ]
    },
    {
     "name": "stderr",
     "output_type": "stream",
     "text": [
      "\r"
     ]
    },
    {
     "name": "stdout",
     "output_type": "stream",
     "text": [
      "Moviepy - Building video /media/kurubal/SSD/Data Scientist/Work/Modern Ways/Project/Turkish/Image Audio Video/Result/1000 Words/Deployment3/Word2/Result/Image_Video_Audio/hatırlıyor.mp4.\n",
      "MoviePy - Writing audio in hatırlıyorTEMP_MPY_wvf_snd.mp4\n"
     ]
    },
    {
     "name": "stderr",
     "output_type": "stream",
     "text": [
      "                                                       \r"
     ]
    },
    {
     "name": "stdout",
     "output_type": "stream",
     "text": [
      "MoviePy - Done.\n",
      "Moviepy - Writing video /media/kurubal/SSD/Data Scientist/Work/Modern Ways/Project/Turkish/Image Audio Video/Result/1000 Words/Deployment3/Word2/Result/Image_Video_Audio/hatırlıyor.mp4\n",
      "\n"
     ]
    },
    {
     "name": "stderr",
     "output_type": "stream",
     "text": [
      "                                                  \r"
     ]
    },
    {
     "name": "stdout",
     "output_type": "stream",
     "text": [
      "Moviepy - Done !\n",
      "Moviepy - video ready /media/kurubal/SSD/Data Scientist/Work/Modern Ways/Project/Turkish/Image Audio Video/Result/1000 Words/Deployment3/Word2/Result/Image_Video_Audio/hatırlıyor.mp4\n",
      "MoviePy - Writing audio in /media/kurubal/SSD/Data Scientist/Work/Modern Ways/Project/Turkish/Image Audio Video/Result/1000 Words/Deployment3/Word2/Data/Text_MP3/olursa.mp3\n"
     ]
    },
    {
     "name": "stderr",
     "output_type": "stream",
     "text": [
      "                                                       "
     ]
    },
    {
     "name": "stdout",
     "output_type": "stream",
     "text": [
      "MoviePy - Done.\n"
     ]
    },
    {
     "name": "stderr",
     "output_type": "stream",
     "text": [
      "\r"
     ]
    },
    {
     "name": "stdout",
     "output_type": "stream",
     "text": [
      "Moviepy - Building video /media/kurubal/SSD/Data Scientist/Work/Modern Ways/Project/Turkish/Image Audio Video/Result/1000 Words/Deployment3/Word2/Result/Image_Video_Audio/olursa.mp4.\n",
      "MoviePy - Writing audio in olursaTEMP_MPY_wvf_snd.mp4\n"
     ]
    },
    {
     "name": "stderr",
     "output_type": "stream",
     "text": [
      "                                                       \r"
     ]
    },
    {
     "name": "stdout",
     "output_type": "stream",
     "text": [
      "MoviePy - Done.\n",
      "Moviepy - Writing video /media/kurubal/SSD/Data Scientist/Work/Modern Ways/Project/Turkish/Image Audio Video/Result/1000 Words/Deployment3/Word2/Result/Image_Video_Audio/olursa.mp4\n",
      "\n"
     ]
    },
    {
     "name": "stderr",
     "output_type": "stream",
     "text": [
      "                                                  \r"
     ]
    },
    {
     "name": "stdout",
     "output_type": "stream",
     "text": [
      "Moviepy - Done !\n",
      "Moviepy - video ready /media/kurubal/SSD/Data Scientist/Work/Modern Ways/Project/Turkish/Image Audio Video/Result/1000 Words/Deployment3/Word2/Result/Image_Video_Audio/olursa.mp4\n",
      "MoviePy - Writing audio in /media/kurubal/SSD/Data Scientist/Work/Modern Ways/Project/Turkish/Image Audio Video/Result/1000 Words/Deployment3/Word2/Data/Text_MP3/istedi.mp3\n"
     ]
    },
    {
     "name": "stderr",
     "output_type": "stream",
     "text": [
      "                                                       "
     ]
    },
    {
     "name": "stdout",
     "output_type": "stream",
     "text": [
      "MoviePy - Done.\n"
     ]
    },
    {
     "name": "stderr",
     "output_type": "stream",
     "text": [
      "\r"
     ]
    },
    {
     "name": "stdout",
     "output_type": "stream",
     "text": [
      "Moviepy - Building video /media/kurubal/SSD/Data Scientist/Work/Modern Ways/Project/Turkish/Image Audio Video/Result/1000 Words/Deployment3/Word2/Result/Image_Video_Audio/istedi.mp4.\n",
      "MoviePy - Writing audio in istediTEMP_MPY_wvf_snd.mp4\n"
     ]
    },
    {
     "name": "stderr",
     "output_type": "stream",
     "text": [
      "                                                       \r"
     ]
    },
    {
     "name": "stdout",
     "output_type": "stream",
     "text": [
      "MoviePy - Done.\n",
      "Moviepy - Writing video /media/kurubal/SSD/Data Scientist/Work/Modern Ways/Project/Turkish/Image Audio Video/Result/1000 Words/Deployment3/Word2/Result/Image_Video_Audio/istedi.mp4\n",
      "\n"
     ]
    },
    {
     "name": "stderr",
     "output_type": "stream",
     "text": [
      "                                                  \r"
     ]
    },
    {
     "name": "stdout",
     "output_type": "stream",
     "text": [
      "Moviepy - Done !\n",
      "Moviepy - video ready /media/kurubal/SSD/Data Scientist/Work/Modern Ways/Project/Turkish/Image Audio Video/Result/1000 Words/Deployment3/Word2/Result/Image_Video_Audio/istedi.mp4\n",
      "MoviePy - Writing audio in /media/kurubal/SSD/Data Scientist/Work/Modern Ways/Project/Turkish/Image Audio Video/Result/1000 Words/Deployment3/Word2/Data/Text_MP3/kitap.mp3\n"
     ]
    },
    {
     "name": "stderr",
     "output_type": "stream",
     "text": [
      "                                                       "
     ]
    },
    {
     "name": "stdout",
     "output_type": "stream",
     "text": [
      "MoviePy - Done.\n"
     ]
    },
    {
     "name": "stderr",
     "output_type": "stream",
     "text": [
      "\r"
     ]
    },
    {
     "name": "stdout",
     "output_type": "stream",
     "text": [
      "Moviepy - Building video /media/kurubal/SSD/Data Scientist/Work/Modern Ways/Project/Turkish/Image Audio Video/Result/1000 Words/Deployment3/Word2/Result/Image_Video_Audio/kitap.mp4.\n",
      "MoviePy - Writing audio in kitapTEMP_MPY_wvf_snd.mp4\n"
     ]
    },
    {
     "name": "stderr",
     "output_type": "stream",
     "text": [
      "                                                       \r"
     ]
    },
    {
     "name": "stdout",
     "output_type": "stream",
     "text": [
      "MoviePy - Done.\n",
      "Moviepy - Writing video /media/kurubal/SSD/Data Scientist/Work/Modern Ways/Project/Turkish/Image Audio Video/Result/1000 Words/Deployment3/Word2/Result/Image_Video_Audio/kitap.mp4\n",
      "\n"
     ]
    },
    {
     "name": "stderr",
     "output_type": "stream",
     "text": [
      "                                                  "
     ]
    },
    {
     "name": "stdout",
     "output_type": "stream",
     "text": [
      "Moviepy - Done !\n",
      "Moviepy - video ready /media/kurubal/SSD/Data Scientist/Work/Modern Ways/Project/Turkish/Image Audio Video/Result/1000 Words/Deployment3/Word2/Result/Image_Video_Audio/kitap.mp4\n"
     ]
    },
    {
     "name": "stderr",
     "output_type": "stream",
     "text": [
      "\r"
     ]
    },
    {
     "name": "stdout",
     "output_type": "stream",
     "text": [
      "MoviePy - Writing audio in /media/kurubal/SSD/Data Scientist/Work/Modern Ways/Project/Turkish/Image Audio Video/Result/1000 Words/Deployment3/Word2/Data/Text_MP3/bakın.mp3\n"
     ]
    },
    {
     "name": "stderr",
     "output_type": "stream",
     "text": [
      "                                                       "
     ]
    },
    {
     "name": "stdout",
     "output_type": "stream",
     "text": [
      "MoviePy - Done.\n"
     ]
    },
    {
     "name": "stderr",
     "output_type": "stream",
     "text": [
      "\r"
     ]
    },
    {
     "name": "stdout",
     "output_type": "stream",
     "text": [
      "Moviepy - Building video /media/kurubal/SSD/Data Scientist/Work/Modern Ways/Project/Turkish/Image Audio Video/Result/1000 Words/Deployment3/Word2/Result/Image_Video_Audio/bakın.mp4.\n",
      "MoviePy - Writing audio in bakınTEMP_MPY_wvf_snd.mp4\n"
     ]
    },
    {
     "name": "stderr",
     "output_type": "stream",
     "text": [
      "                                                       \r"
     ]
    },
    {
     "name": "stdout",
     "output_type": "stream",
     "text": [
      "MoviePy - Done.\n",
      "Moviepy - Writing video /media/kurubal/SSD/Data Scientist/Work/Modern Ways/Project/Turkish/Image Audio Video/Result/1000 Words/Deployment3/Word2/Result/Image_Video_Audio/bakın.mp4\n",
      "\n"
     ]
    },
    {
     "name": "stderr",
     "output_type": "stream",
     "text": [
      "                                                  \r"
     ]
    },
    {
     "name": "stdout",
     "output_type": "stream",
     "text": [
      "Moviepy - Done !\n",
      "Moviepy - video ready /media/kurubal/SSD/Data Scientist/Work/Modern Ways/Project/Turkish/Image Audio Video/Result/1000 Words/Deployment3/Word2/Result/Image_Video_Audio/bakın.mp4\n",
      "MoviePy - Writing audio in /media/kurubal/SSD/Data Scientist/Work/Modern Ways/Project/Turkish/Image Audio Video/Result/1000 Words/Deployment3/Word2/Data/Text_MP3/acaba.mp3\n"
     ]
    },
    {
     "name": "stderr",
     "output_type": "stream",
     "text": [
      "                                                       "
     ]
    },
    {
     "name": "stdout",
     "output_type": "stream",
     "text": [
      "MoviePy - Done.\n"
     ]
    },
    {
     "name": "stderr",
     "output_type": "stream",
     "text": [
      "\r"
     ]
    },
    {
     "name": "stdout",
     "output_type": "stream",
     "text": [
      "Moviepy - Building video /media/kurubal/SSD/Data Scientist/Work/Modern Ways/Project/Turkish/Image Audio Video/Result/1000 Words/Deployment3/Word2/Result/Image_Video_Audio/acaba.mp4.\n",
      "MoviePy - Writing audio in acabaTEMP_MPY_wvf_snd.mp4\n"
     ]
    },
    {
     "name": "stderr",
     "output_type": "stream",
     "text": [
      "                                                       \r"
     ]
    },
    {
     "name": "stdout",
     "output_type": "stream",
     "text": [
      "MoviePy - Done.\n",
      "Moviepy - Writing video /media/kurubal/SSD/Data Scientist/Work/Modern Ways/Project/Turkish/Image Audio Video/Result/1000 Words/Deployment3/Word2/Result/Image_Video_Audio/acaba.mp4\n",
      "\n"
     ]
    },
    {
     "name": "stderr",
     "output_type": "stream",
     "text": [
      "                                                  \r"
     ]
    },
    {
     "name": "stdout",
     "output_type": "stream",
     "text": [
      "Moviepy - Done !\n",
      "Moviepy - video ready /media/kurubal/SSD/Data Scientist/Work/Modern Ways/Project/Turkish/Image Audio Video/Result/1000 Words/Deployment3/Word2/Result/Image_Video_Audio/acaba.mp4\n",
      "MoviePy - Writing audio in /media/kurubal/SSD/Data Scientist/Work/Modern Ways/Project/Turkish/Image Audio Video/Result/1000 Words/Deployment3/Word2/Data/Text_MP3/şeyler.mp3\n"
     ]
    },
    {
     "name": "stderr",
     "output_type": "stream",
     "text": [
      "                                                       "
     ]
    }
   ],
   "source": [
    "#all_in_one(word_group_list, \"Images\", image_path, output_path, language=lang)  # if not image data prepare\n",
    "all_in_one(word_group_list, f\"{image_folder}\", image_path, output_path, language=lang)"
   ]
  },
  {
   "cell_type": "code",
   "execution_count": null,
   "metadata": {},
   "outputs": [],
   "source": []
  },
  {
   "cell_type": "markdown",
   "metadata": {},
   "source": [
    "##### Output File Check"
   ]
  },
  {
   "cell_type": "code",
   "execution_count": null,
   "metadata": {},
   "outputs": [],
   "source": [
    "out_files_list=[os.path.splitext(f)[0] for f in os.listdir(f\"{output_path}/Result/Concat_Video\") if isfile(join(f\"{output_path}/Result/Image_Video_Audio\",f))]\n",
    "out_files_list "
   ]
  },
  {
   "cell_type": "code",
   "execution_count": null,
   "metadata": {},
   "outputs": [],
   "source": [
    "out_files_set = set(out_files_list)\n",
    "word_group_set = set(word_group_list)"
   ]
  },
  {
   "cell_type": "code",
   "execution_count": null,
   "metadata": {},
   "outputs": [],
   "source": [
    "word_group_set.difference(out_files_set)"
   ]
  },
  {
   "cell_type": "code",
   "execution_count": null,
   "metadata": {},
   "outputs": [],
   "source": []
  },
  {
   "cell_type": "markdown",
   "metadata": {},
   "source": [
    "#### Result Video File Concat"
   ]
  },
  {
   "cell_type": "code",
   "execution_count": null,
   "metadata": {},
   "outputs": [],
   "source": [
    "from moviepy.editor import VideoFileClip, concatenate_videoclips\n",
    "import os\n",
    "import sys\n",
    "import numpy as np\n",
    "import pandas as pd\n",
    "from pathlib import Path\n",
    "import shutil\n",
    "from os.path import isfile, join\n",
    "import time\n",
    "import nltk\n",
    "from nltk import word_tokenize"
   ]
  },
  {
   "cell_type": "code",
   "execution_count": null,
   "metadata": {},
   "outputs": [],
   "source": [
    "# language pair\n",
    "lang_folder = \"Turkish\"  # Arabic, English, French, German, Turkish, Spanish, Portuguese, Dutch, Italian ==> target language for learner\n",
    "#lang_pair = \"English\"  # Arabic, English, French, German, Turkish, Spanish, Portuguese, Dutch, Italian ==> native language\n",
    "\n",
    "filename_length_num = 5"
   ]
  },
  {
   "cell_type": "code",
   "execution_count": null,
   "metadata": {},
   "outputs": [],
   "source": [
    "def concat_video2(text_list, video_data_folder_name, video_data_path, out_folder_name, out_path, filename):  \n",
    "    '''\n",
    "    concat_video(text_list, video_data_folder_name, video_data_path, out_folder_name, out_path, filename)\\n\n",
    "    text_list is list values. video_data_folder_name, video_data_path, out_folder_name and out_path are path and folder in string(str)\\n\n",
    "    filename is string of result mp4 file name.\n",
    "    ex.\\n\n",
    "    path = f\"/media/kurubal/SSD/Data Scientist/Work/Modern Ways/Project/{lang_folder.capitalize()}/Image Audio Video/Result/200 Words\"\\n\n",
    "    audio_image_video_path = f\"/media/kurubal/SSD/Data Scientist/Work/Modern Ways/Project/{lang_folder.capitalize()}/Image Audio Video/Data/200 Words\"\\n\n",
    "    concat_video(word_select_list, \"Image_Video_Audio\", audio_image_video_path, \"Concat_Video\", path, \"200_Word_Combined_Sample\")\n",
    "    '''\n",
    "    no_image_file_list = []\n",
    "    result_path = f\"{out_path}/{out_folder_name}\"\n",
    "    Path(result_path).mkdir(parents=True, exist_ok=True)\n",
    "    video_text_list = []\n",
    "    video_list = []\n",
    "\n",
    "    if isfile(f\"{result_path}/{filename}.mp4\"):\n",
    "        pass\n",
    "    else:\n",
    "        for text in text_list:\n",
    "            if isfile(f\"{video_data_path}/{video_data_folder_name}/{text}.mp4\"):\n",
    "                video_text_list.append(text)            \n",
    "            else:\n",
    "                no_image_file_list.append(text)\n",
    "\n",
    "        for video_num in range(len(video_text_list)):\n",
    "            try:\n",
    "                clip_var = VideoFileClip(f\"{video_data_path}/{video_data_folder_name}/{video_text_list[video_num]}.mp4\", target_resolution=(900, 1600))  # height, width\n",
    "                video_list.append(clip_var)            \n",
    "            except:\n",
    "                print(\"Oops!\", sys.exc_info()[0], \"occurred.\", f\"{video_text_list[video_num]}.mp4\")\n",
    "\n",
    "        combined = concatenate_videoclips(video_list, method='compose')\n",
    "        combined.write_videofile(f\"{result_path}/{filename}.mp4\", audio_bitrate='128k', audio_fps=44100, audio_codec=\"aac\")\n",
    "    \n",
    "    return no_image_file_list"
   ]
  },
  {
   "cell_type": "code",
   "execution_count": null,
   "metadata": {},
   "outputs": [],
   "source": [
    "# Previous output path and folder\n",
    "#prev_result_path = f\"/home/kurubal/Documents/Modern Ways/Project/{lang_folder.capitalize()}/Image Audio Video/Result/200 Words\"\n",
    "#prev_main_result_folder = \"Twogram_Threegram\"\n",
    "#prev_result_folder = \"Threegram_Twogram_Selected\"\n",
    "\n",
    "prev_result_path = f\"{result_path}\"\n",
    "prev_main_result_folder = f\"{main_result_folder}\"\n",
    "prev_result_folder = f\"{result_folder}\""
   ]
  },
  {
   "cell_type": "code",
   "execution_count": null,
   "metadata": {},
   "outputs": [],
   "source": [
    "data_path = f\"{prev_result_path}/{prev_main_result_folder}/{prev_result_folder}/Result\"  # previous output path result for data for this\n",
    "result_path = f\"{prev_result_path}/{prev_main_result_folder}/{prev_result_folder}/Result\""
   ]
  },
  {
   "cell_type": "code",
   "execution_count": null,
   "metadata": {},
   "outputs": [],
   "source": [
    "#df_deployment_file = pd.read_excel(\"/media/kurubal/SSD/Data Scientist/Work/Modern Ways/Project/Turkish/\\\n",
    "#Deployment2/Result/Deploy2 Result Manuel/Turkish/Twogram_Threegram_Selected.xlsx\", sheet_name=\"twogram_threegram_selected\")\n",
    "#df_deployment_file"
   ]
  },
  {
   "cell_type": "code",
   "execution_count": null,
   "metadata": {},
   "outputs": [],
   "source": [
    "#word_group_list = df_deployment_file[\"twogram_threegram_selected\"].dropna().to_list()\n",
    "#word_group_list"
   ]
  },
  {
   "cell_type": "code",
   "execution_count": null,
   "metadata": {},
   "outputs": [],
   "source": [
    "len(word_group_list)"
   ]
  },
  {
   "cell_type": "code",
   "execution_count": null,
   "metadata": {},
   "outputs": [],
   "source": [
    "word_group_list2 = []\n",
    "for word_group in word_group_list:\n",
    "    word_list = word_tokenize(word_group)\n",
    "    if len(word_list)>filename_length_num:\n",
    "        filename_new = \" \".join(word_list[0:filename_length_num])\n",
    "    else:\n",
    "        filename_new = word_group\n",
    "    word_group_list2.append(filename_new)"
   ]
  },
  {
   "cell_type": "code",
   "execution_count": null,
   "metadata": {},
   "outputs": [],
   "source": [
    "concat_video2(word_group_list2, \"Concat_Video\", data_path, \"All_Concat_Video\", result_path, f\"{prev_result_folder}\")"
   ]
  },
  {
   "cell_type": "code",
   "execution_count": null,
   "metadata": {},
   "outputs": [],
   "source": []
  },
  {
   "cell_type": "code",
   "execution_count": null,
   "metadata": {},
   "outputs": [],
   "source": []
  },
  {
   "cell_type": "code",
   "execution_count": null,
   "metadata": {},
   "outputs": [],
   "source": []
  }
 ],
 "metadata": {
  "kernelspec": {
   "display_name": "Python 3.9.5 ('py39')",
   "language": "python",
   "name": "python3"
  },
  "language_info": {
   "codemirror_mode": {
    "name": "ipython",
    "version": 3
   },
   "file_extension": ".py",
   "mimetype": "text/x-python",
   "name": "python",
   "nbconvert_exporter": "python",
   "pygments_lexer": "ipython3",
   "version": "3.9.5"
  },
  "orig_nbformat": 4,
  "vscode": {
   "interpreter": {
    "hash": "651d507d70892fab0fc6529d935cd476f6e2eb1791525b76da6cc8da34bc0503"
   }
  }
 },
 "nbformat": 4,
 "nbformat_minor": 2
}
