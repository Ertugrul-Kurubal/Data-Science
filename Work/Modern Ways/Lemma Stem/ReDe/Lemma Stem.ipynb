{
 "cells": [
  {
   "cell_type": "code",
   "execution_count": null,
   "metadata": {},
   "outputs": [],
   "source": [
    "# !pip install turkish_morphology"
   ]
  },
  {
   "cell_type": "code",
   "execution_count": 1,
   "metadata": {},
   "outputs": [],
   "source": [
    "import itertools\n",
    "from typing import Generator\n",
    "from turkish_morphology import generate\n",
    "from turkish_morphology import analysis_pb2\n",
    "from turkish_morphology import analyze\n",
    "from turkish_morphology import decompose\n",
    "from absl import app"
   ]
  },
  {
   "cell_type": "code",
   "execution_count": 2,
   "metadata": {},
   "outputs": [],
   "source": [
    "def _analyze(token: str) -> Generator[analysis_pb2.Analysis, None, None]:\n",
    "  human_readables = analyze.surface_form(token, use_proper_feature=False)\n",
    "  yield from map(decompose.human_readable_analysis, human_readables)"
   ]
  },
  {
   "cell_type": "code",
   "execution_count": 3,
   "metadata": {},
   "outputs": [
    {
     "name": "stdout",
     "output_type": "stream",
     "text": [
      "ev\n",
      "git\n",
      "gel\n",
      "ali\n",
      "ayşe\n"
     ]
    }
   ],
   "source": [
    "sentence = \"Ayşe eve geldiğinde Ali gitmişti\"\n",
    "tokens = sentence.split()\n",
    "\n",
    "analyses = itertools.chain.from_iterable(_analyze(t) for t in tokens)\n",
    "word_stems = set(a.ig[0].root.morpheme.lower() for a in analyses)\n",
    "\n",
    "for word_stem in word_stems:\n",
    "  print(word_stem)"
   ]
  },
  {
   "cell_type": "code",
   "execution_count": null,
   "metadata": {},
   "outputs": [],
   "source": [
    "df_word = pd.read_excel(\"/media/kurubal/SSD/Data Scientist/Work/Modern Ways/Project/Turkish/Result/Turkish_Word_Result_Merge.xlsx\")\n",
    "df_word"
   ]
  },
  {
   "cell_type": "code",
   "execution_count": null,
   "metadata": {},
   "outputs": [],
   "source": [
    "df_word = df_word.dropna()"
   ]
  },
  {
   "cell_type": "code",
   "execution_count": null,
   "metadata": {},
   "outputs": [],
   "source": [
    "df_word_2500 = df_word.iloc[300:2500]\n",
    "df_word_2500"
   ]
  },
  {
   "cell_type": "code",
   "execution_count": null,
   "metadata": {},
   "outputs": [],
   "source": [
    "word_list_2500 = df_word_2500.word.to_list()"
   ]
  }
 ],
 "metadata": {
  "interpreter": {
   "hash": "31f2aee4e71d21fbe5cf8b01ff0e069b9275f58929596ceb00d14d90e3e16cd6"
  },
  "kernelspec": {
   "display_name": "Python 3.8.10 64-bit",
   "language": "python",
   "name": "python3"
  },
  "language_info": {
   "codemirror_mode": {
    "name": "ipython",
    "version": 3
   },
   "file_extension": ".py",
   "mimetype": "text/x-python",
   "name": "python",
   "nbconvert_exporter": "python",
   "pygments_lexer": "ipython3",
   "version": "3.9.5"
  },
  "orig_nbformat": 4
 },
 "nbformat": 4,
 "nbformat_minor": 2
}
