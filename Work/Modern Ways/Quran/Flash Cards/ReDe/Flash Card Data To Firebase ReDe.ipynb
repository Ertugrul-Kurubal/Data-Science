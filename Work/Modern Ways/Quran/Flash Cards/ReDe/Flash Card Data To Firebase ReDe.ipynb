{
 "cells": [
  {
   "cell_type": "markdown",
   "metadata": {},
   "source": [
    "### Flash Card Data To Firebase"
   ]
  },
  {
   "cell_type": "code",
   "execution_count": null,
   "metadata": {},
   "outputs": [],
   "source": [
    "#!pip install google-cloud-storage"
   ]
  },
  {
   "cell_type": "code",
   "execution_count": null,
   "metadata": {},
   "outputs": [],
   "source": [
    "#!pip install firebase_admin"
   ]
  },
  {
   "cell_type": "code",
   "execution_count": null,
   "metadata": {},
   "outputs": [],
   "source": [
    "#!pip install firebase"
   ]
  },
  {
   "cell_type": "code",
   "execution_count": null,
   "metadata": {},
   "outputs": [],
   "source": [
    "#!pip install --upgrade pip"
   ]
  },
  {
   "cell_type": "code",
   "execution_count": null,
   "metadata": {},
   "outputs": [],
   "source": [
    "#!pip install --upgrade google-api-python-client google-auth-httplib2 google-auth-oauthlib"
   ]
  },
  {
   "cell_type": "code",
   "execution_count": null,
   "metadata": {},
   "outputs": [],
   "source": [
    "#!pip install pyrebase4"
   ]
  },
  {
   "cell_type": "code",
   "execution_count": null,
   "metadata": {},
   "outputs": [],
   "source": [
    "import firebase_admin\n",
    "from firebase_admin import credentials, firestore, storage"
   ]
  },
  {
   "cell_type": "code",
   "execution_count": null,
   "metadata": {},
   "outputs": [],
   "source": [
    "#import pyrebase\n",
    "import pandas as pd\n",
    "import numpy as np\n",
    "import os\n",
    "import glob\n",
    "from pathlib import Path\n",
    "import shutil"
   ]
  },
  {
   "cell_type": "code",
   "execution_count": null,
   "metadata": {},
   "outputs": [],
   "source": [
    "#import firebase_admin\n",
    "#from firebase_admin import credentials\n",
    "\n",
    "cred = credentials.Certificate(\"/home/kurubal/Documents/Firebase/Flash Card/Api Key/flashcard-1c46e-firebase-adminsdk-b4kn5-5ddbde56b3.json\")\n",
    "app = firebase_admin.initialize_app(cred)"
   ]
  },
  {
   "cell_type": "code",
   "execution_count": null,
   "metadata": {},
   "outputs": [],
   "source": [
    "fire_db = firestore.client()"
   ]
  },
  {
   "cell_type": "markdown",
   "metadata": {},
   "source": [
    "#### Read Data"
   ]
  },
  {
   "cell_type": "code",
   "execution_count": null,
   "metadata": {},
   "outputs": [],
   "source": [
    "data_root = pd.read_excel(\"/media/kurubal/SSD/Data Scientist/Work/Modern Ways/Project/Arabic/Quran/Flash Cards/Deployment/Quran_Root_Word_Translate_99.xlsx\")\n",
    "data_root"
   ]
  },
  {
   "cell_type": "code",
   "execution_count": null,
   "metadata": {},
   "outputs": [],
   "source": [
    "data_word = pd.read_excel(\"/media/kurubal/SSD/Data Scientist/Work/Modern Ways/Project/Arabic/Quran/Flash Cards/Deployment/Quran_Word_Translate_300.xlsx\")\n",
    "data_word.reset_index(inplace=True)\n",
    "data_word.rename(columns={\"index\":\"sequence\"}, inplace=True)\n",
    "data_word[\"sequence\"] = data_word[\"sequence\"].apply(lambda x: x+1)\n",
    "data_word"
   ]
  },
  {
   "cell_type": "code",
   "execution_count": null,
   "metadata": {},
   "outputs": [],
   "source": [
    "data_twogram = pd.read_excel(\"/media/kurubal/SSD/Data Scientist/Work/Modern Ways/Project/Arabic/Quran/Flash Cards/Deployment/Quran_Twogram_Translate_Frequency.xlsx\")\n",
    "data_twogram.reset_index(inplace=True)\n",
    "data_twogram.rename(columns={\"index\":\"sequence\"}, inplace=True)\n",
    "data_twogram[\"sequence\"] = data_twogram[\"sequence\"].apply(lambda x: x+1)\n",
    "data_twogram"
   ]
  },
  {
   "cell_type": "code",
   "execution_count": null,
   "metadata": {},
   "outputs": [],
   "source": [
    "data_threegram = pd.read_excel(\"/media/kurubal/SSD/Data Scientist/Work/Modern Ways/Project/Arabic/Quran/Flash Cards/Deployment/Quran_Threegram_Translate_Frequency.xlsx\")\n",
    "data_threegram.reset_index(inplace=True)\n",
    "data_threegram.rename(columns={\"index\":\"sequence\"}, inplace=True)\n",
    "data_threegram[\"sequence\"] = data_threegram[\"sequence\"].apply(lambda x: x+1)\n",
    "data_threegram"
   ]
  },
  {
   "cell_type": "code",
   "execution_count": null,
   "metadata": {},
   "outputs": [],
   "source": [
    "data_ayah = pd.read_excel(\"/media/kurubal/SSD/Data Scientist/Work/Modern Ways/Project/Arabic/Quran/Flash Cards/Deployment/Quran_Plain_Ayahs_Frequency.xlsx\")\n",
    "data_ayah.reset_index(inplace=True)\n",
    "data_ayah.rename(columns={\"index\":\"sequence\"}, inplace=True)\n",
    "data_ayah[\"sequence\"] = data_ayah[\"sequence\"].apply(lambda x: x+1)\n",
    "data_ayah"
   ]
  },
  {
   "cell_type": "code",
   "execution_count": null,
   "metadata": {},
   "outputs": [],
   "source": [
    "data_ayah.to_csv(\"Test.csv\", index=False)"
   ]
  },
  {
   "cell_type": "code",
   "execution_count": null,
   "metadata": {},
   "outputs": [],
   "source": []
  },
  {
   "cell_type": "markdown",
   "metadata": {},
   "source": [
    "#### Sending Data To Firestore"
   ]
  },
  {
   "cell_type": "markdown",
   "metadata": {},
   "source": [
    "##### Root Data"
   ]
  },
  {
   "cell_type": "code",
   "execution_count": null,
   "metadata": {},
   "outputs": [],
   "source": [
    "data_root = data_root.iloc[0:15000,]  # data divide because of quota\n",
    "data_root"
   ]
  },
  {
   "cell_type": "code",
   "execution_count": null,
   "metadata": {},
   "outputs": [],
   "source": [
    "# root\n",
    "sequence_list = data_root[\"sequence\"].to_list()\n",
    "root_arabic_list = data_root[\"root_arabic\"].to_list()\n",
    "root_list = data_root[\"root\"].to_list()\n",
    "root_arabic_freq_list = data_root[\"root_arabic_frequency\"].to_list()\n",
    "# word \n",
    "arabic_simple_list = data_root[\"arabic_simple\"].to_list()\n",
    "arabic_list = data_root[\"arabic\"].to_list()\n",
    "trans_eng_list = data_root[\"translate_english\"].to_list()\n",
    "trans_urdu_list = data_root[\"translate_urdu\"].to_list()\n",
    "trans_hindi_list = data_root[\"translate_hindi\"].to_list()\n",
    "trans_indo_list = data_root[\"translate_indonesian\"].to_list()\n",
    "trans_bangla_list = data_root[\"translate_bangla\"].to_list()\n",
    "trans_tur_list = data_root[\"translate_turkish\"].to_list()\n",
    "trans_rus_list = data_root[\"translate_russian\"].to_list()\n",
    "surah_list = data_root[\"surah\"].to_list()\n",
    "ayah_list = data_root[\"ayah\"].to_list()\n",
    "word_rank_list = data_root[\"word rank\"].to_list()"
   ]
  },
  {
   "cell_type": "code",
   "execution_count": null,
   "metadata": {},
   "outputs": [],
   "source": [
    "firestore_sending_root_data = zip(sequence_list,root_arabic_list,root_list,root_arabic_freq_list,arabic_simple_list,arabic_list,surah_list,ayah_list,word_rank_list,trans_eng_list,trans_urdu_list,trans_hindi_list,trans_indo_list,trans_bangla_list,trans_tur_list,trans_rus_list)"
   ]
  },
  {
   "cell_type": "code",
   "execution_count": null,
   "metadata": {},
   "outputs": [],
   "source": [
    "# Sending Root Data\n",
    "for sequence,root_arabic,root,root_arabic_freq,arabic_simple,arabic,surah,ayah,word_rank,trans_eng,trans_urdu,trans_hindi,trans_indo,trans_bangla,trans_tur,trans_rus in firestore_sending_root_data:\n",
    "    data = {\"root_arabic\":root_arabic,\n",
    "            \"root\":root,\n",
    "            \"root_arabic_freq\":root_arabic_freq,\n",
    "            \"arabic_simple\":arabic_simple,\n",
    "            \"arabic\":arabic,\n",
    "            \"surah\":surah,\n",
    "            \"ayah\":ayah,\n",
    "            \"word_rank\":word_rank,\n",
    "            \"translate_eng\":trans_eng,\n",
    "            \"translate_urdu\":trans_urdu,\n",
    "            \"translate_hindi\":trans_hindi,\n",
    "            \"translate_indo\":trans_indo,\n",
    "            \"translate_bangla\":trans_bangla,\n",
    "            \"translate_tur\":trans_tur,\n",
    "            \"translate_rus\":trans_rus}\n",
    "\n",
    "    fire_db.collection(\"Root_Data\").document(f\"root{sequence}\").collection(f\"{root}\").document(f\"{arabic_simple}\").set(data)  # Not: Eger document ile bitiyorsa data set ile gönderiliyor.\n",
    "    #fire_db.collection(\"Root_Data\").document(f\"root{sequence}\").collection(\"Detail\").add(data)  # Not: Eğer collection ile bitiyorsa data add ile gönderiliyor ve collection dan sonraki\n",
    "                                                                                         # document adları rastgele oluşturuluyor.                                                                                               "
   ]
  },
  {
   "cell_type": "code",
   "execution_count": null,
   "metadata": {},
   "outputs": [],
   "source": [
    "#fire_db.collection(u'cities').document(u'DC').delete()"
   ]
  },
  {
   "cell_type": "code",
   "execution_count": null,
   "metadata": {},
   "outputs": [],
   "source": []
  },
  {
   "cell_type": "markdown",
   "metadata": {},
   "source": [
    "##### Word Data"
   ]
  },
  {
   "cell_type": "code",
   "execution_count": null,
   "metadata": {},
   "outputs": [],
   "source": [
    "data_word"
   ]
  },
  {
   "cell_type": "code",
   "execution_count": null,
   "metadata": {},
   "outputs": [],
   "source": [
    "# word\n",
    "sequence_list = data_word[\"sequence\"].to_list()\n",
    "arabic_simple_list = data_word[\"arabic_simple\"].to_list()\n",
    "arabic_simple_freq_list = data_word[\"arabic_simple_frequency\"].to_list()\n",
    "trans_eng_list = data_word[\"translate_english\"].to_list()\n",
    "trans_urdu_list = data_word[\"translate_urdu\"].to_list()\n",
    "trans_hindi_list = data_word[\"translate_hindi\"].to_list()\n",
    "trans_indo_list = data_word[\"translate_indonesian\"].to_list()\n",
    "trans_bangla_list = data_word[\"translate_bangla\"].to_list()\n",
    "trans_tur_list = data_word[\"translate_turkish\"].to_list()\n",
    "trans_rus_list = data_word[\"translate_russian\"].to_list()"
   ]
  },
  {
   "cell_type": "code",
   "execution_count": null,
   "metadata": {},
   "outputs": [],
   "source": [
    "firestore_sending_word_data = zip(sequence_list,arabic_simple_list,arabic_simple_freq_list,trans_eng_list,trans_urdu_list,trans_hindi_list,trans_indo_list,trans_bangla_list,trans_tur_list,trans_rus_list)"
   ]
  },
  {
   "cell_type": "code",
   "execution_count": null,
   "metadata": {},
   "outputs": [],
   "source": [
    "# Sending Word Data\n",
    "for sequence,arabic_simple,arabic_simple_freq,trans_eng,trans_urdu,trans_hindi,trans_indo,trans_bangla,trans_tur,trans_rus in firestore_sending_word_data:\n",
    "    data = {\"arabic_simple\":arabic_simple,\n",
    "            \"arabic_simple_freq\":arabic_simple_freq,\n",
    "            \"translate_eng\":trans_eng,\n",
    "            \"translate_urdu\":trans_urdu,\n",
    "            \"translate_hindi\":trans_hindi,\n",
    "            \"translate_indo\":trans_indo,\n",
    "            \"translate_bangla\":trans_bangla,\n",
    "            \"translate_tur\":trans_tur,\n",
    "            \"translate_rus\":trans_rus}\n",
    "\n",
    "    fire_db.collection(\"Word_Data\").document(f\"word{sequence}\").collection(f\"{arabic_simple}\").document(\"detail\").set(data)"
   ]
  },
  {
   "cell_type": "code",
   "execution_count": null,
   "metadata": {},
   "outputs": [],
   "source": []
  },
  {
   "cell_type": "markdown",
   "metadata": {},
   "source": [
    "##### Twogram Data"
   ]
  },
  {
   "cell_type": "code",
   "execution_count": null,
   "metadata": {},
   "outputs": [],
   "source": [
    "data_twogram"
   ]
  },
  {
   "cell_type": "code",
   "execution_count": null,
   "metadata": {},
   "outputs": [],
   "source": [
    "# twogram\n",
    "sequence_list = data_twogram[\"sequence\"].to_list()\n",
    "twogram_string_list = data_twogram[\"twogram_string\"].to_list()\n",
    "twogram_string_freq_list = data_twogram[\"twogram_string_frequency\"].to_list()\n",
    "twogram_trans_eng_list = data_twogram[\"twogram_english\"].to_list()\n",
    "twogram_trans_urdu_list = data_twogram[\"twogram_urdu\"].to_list()\n",
    "twogram_trans_hindi_list = data_twogram[\"twogram_hindi\"].to_list()\n",
    "twogram_trans_indo_list = data_twogram[\"twogram_indonesian\"].to_list()\n",
    "twogram_trans_bangla_list = data_twogram[\"twogram_bangla\"].to_list()\n",
    "twogram_trans_tur_list = data_twogram[\"twogram_turkish\"].to_list()\n",
    "twogram_trans_rus_list = data_twogram[\"twogram_russian\"].to_list()"
   ]
  },
  {
   "cell_type": "code",
   "execution_count": null,
   "metadata": {},
   "outputs": [],
   "source": [
    "firestore_sending_twogram_data = zip(sequence_list,twogram_string_list,twogram_string_freq_list,twogram_trans_eng_list,twogram_trans_urdu_list,twogram_trans_hindi_list,twogram_trans_indo_list,twogram_trans_bangla_list,twogram_trans_tur_list,twogram_trans_rus_list)"
   ]
  },
  {
   "cell_type": "code",
   "execution_count": null,
   "metadata": {},
   "outputs": [],
   "source": [
    "# Sending Twogram Data\n",
    "for sequence,twogram,twogram_freq,trans_eng,trans_urdu,trans_hindi,trans_indo,trans_bangla,trans_tur,trans_rus in firestore_sending_twogram_data:\n",
    "    data = {\"twogram_simple\":twogram,\n",
    "            \"twogram_freq\":twogram_freq,\n",
    "            \"translate_eng\":trans_eng,\n",
    "            \"translate_urdu\":trans_urdu,\n",
    "            \"translate_hindi\":trans_hindi,\n",
    "            \"translate_indo\":trans_indo,\n",
    "            \"translate_bangla\":trans_bangla,\n",
    "            \"translate_tur\":trans_tur,\n",
    "            \"translate_rus\":trans_rus}\n",
    "\n",
    "    fire_db.collection(\"Twogram_Data\").document(f\"twogram{sequence}\").collection(f\"{twogram}\").document(\"detail\").set(data)"
   ]
  },
  {
   "cell_type": "code",
   "execution_count": null,
   "metadata": {},
   "outputs": [],
   "source": []
  },
  {
   "cell_type": "markdown",
   "metadata": {},
   "source": [
    "##### Threegram Data"
   ]
  },
  {
   "cell_type": "code",
   "execution_count": null,
   "metadata": {},
   "outputs": [],
   "source": [
    "data_threegram"
   ]
  },
  {
   "cell_type": "code",
   "execution_count": null,
   "metadata": {},
   "outputs": [],
   "source": [
    "# threegram\n",
    "sequence_list = data_threegram[\"sequence\"].to_list()\n",
    "threegram_string_list = data_threegram[\"threegram_string\"].to_list()\n",
    "threegram_string_freq_list = data_threegram[\"threegram_string_frequency\"].to_list()\n",
    "threegram_trans_eng_list = data_threegram[\"threegram_english\"].to_list()\n",
    "threegram_trans_urdu_list = data_threegram[\"threegram_urdu\"].to_list()\n",
    "threegram_trans_hindi_list = data_threegram[\"threegram_hindi\"].to_list()\n",
    "threegram_trans_indo_list = data_threegram[\"threegram_indonesian\"].to_list()\n",
    "threegram_trans_bangla_list = data_threegram[\"threegram_bangla\"].to_list()\n",
    "threegram_trans_tur_list = data_threegram[\"threegram_turkish\"].to_list()\n",
    "threegram_trans_rus_list = data_threegram[\"threegram_russian\"].to_list()"
   ]
  },
  {
   "cell_type": "code",
   "execution_count": null,
   "metadata": {},
   "outputs": [],
   "source": [
    "firestore_sending_threegram_data = zip(sequence_list,threegram_string_list,threegram_string_freq_list,threegram_trans_eng_list,threegram_trans_urdu_list,threegram_trans_hindi_list,threegram_trans_indo_list,threegram_trans_bangla_list,threegram_trans_tur_list,threegram_trans_rus_list)"
   ]
  },
  {
   "cell_type": "code",
   "execution_count": null,
   "metadata": {},
   "outputs": [],
   "source": [
    "# Sending Threegram Data\n",
    "for sequence,threegram,threegram_freq,trans_eng,trans_urdu,trans_hindi,trans_indo,trans_bangla,trans_tur,trans_rus in firestore_sending_threegram_data:\n",
    "    data = {\"threegram_simple\":threegram,\n",
    "            \"threegram_freq\":threegram_freq,\n",
    "            \"translate_eng\":trans_eng,\n",
    "            \"translate_urdu\":trans_urdu,\n",
    "            \"translate_hindi\":trans_hindi,\n",
    "            \"translate_indo\":trans_indo,\n",
    "            \"translate_bangla\":trans_bangla,\n",
    "            \"translate_tur\":trans_tur,\n",
    "            \"translate_rus\":trans_rus}\n",
    "\n",
    "    fire_db.collection(\"Threegram_Data\").document(f\"threegram{sequence}\").collection(f\"{threegram}\").document(\"detail\").set(data)"
   ]
  },
  {
   "cell_type": "code",
   "execution_count": null,
   "metadata": {},
   "outputs": [],
   "source": []
  },
  {
   "cell_type": "markdown",
   "metadata": {},
   "source": [
    "##### Ayah Data"
   ]
  },
  {
   "cell_type": "code",
   "execution_count": null,
   "metadata": {},
   "outputs": [],
   "source": []
  },
  {
   "cell_type": "code",
   "execution_count": null,
   "metadata": {},
   "outputs": [],
   "source": []
  },
  {
   "cell_type": "code",
   "execution_count": null,
   "metadata": {},
   "outputs": [],
   "source": []
  },
  {
   "cell_type": "markdown",
   "metadata": {},
   "source": [
    "#### Test"
   ]
  },
  {
   "cell_type": "code",
   "execution_count": null,
   "metadata": {},
   "outputs": [],
   "source": [
    "data = {\"name\":\"Ertugrul\",\"surname\":\"Kurubal\"}"
   ]
  },
  {
   "cell_type": "code",
   "execution_count": null,
   "metadata": {},
   "outputs": [],
   "source": [
    "fire_db.collection(\"Root_Data\").document(\"Person\").collection(\"Detail\").add(data)"
   ]
  },
  {
   "cell_type": "code",
   "execution_count": null,
   "metadata": {},
   "outputs": [],
   "source": [
    "fire_db.collection(\"Root_Data2\").document(\"Person2\").set(data)"
   ]
  },
  {
   "cell_type": "code",
   "execution_count": null,
   "metadata": {},
   "outputs": [],
   "source": [
    "# delete firestore\n",
    "fire_db.collection(u\"Root_Data\").document(u\"Person\").delete()"
   ]
  },
  {
   "cell_type": "code",
   "execution_count": null,
   "metadata": {},
   "outputs": [],
   "source": [
    "fire_db.collection(u\"Root_Data\").document(u\"Person\").update({})"
   ]
  },
  {
   "cell_type": "code",
   "execution_count": null,
   "metadata": {},
   "outputs": [],
   "source": []
  },
  {
   "cell_type": "code",
   "execution_count": null,
   "metadata": {},
   "outputs": [],
   "source": []
  },
  {
   "cell_type": "code",
   "execution_count": null,
   "metadata": {},
   "outputs": [],
   "source": []
  },
  {
   "cell_type": "markdown",
   "metadata": {},
   "source": [
    "#### Realtime Database Web App"
   ]
  },
  {
   "cell_type": "code",
   "execution_count": null,
   "metadata": {},
   "outputs": [],
   "source": [
    "import pyrebase  # pyrebase running on colab. Tested in colab\n",
    "import pandas as pd"
   ]
  },
  {
   "cell_type": "code",
   "execution_count": null,
   "metadata": {},
   "outputs": [],
   "source": [
    "print(pyrebase.__version__)"
   ]
  },
  {
   "cell_type": "code",
   "execution_count": null,
   "metadata": {},
   "outputs": [],
   "source": [
    "firebaseConfig = {\n",
    "    \"apiKey\": \"xxxxxaSyAKKZn1txxxxx\",\n",
    "    \"authDomain\": \"xxxxxx.firebaseapp.com\",\n",
    "    \"databaseURL\": \"https://flashxxxxx\",\n",
    "    \"projectId\": \"flxxxx\",\n",
    "    \"storageBucket\": \"flxxxxxspot.com\",\n",
    "    \"messagingSenderId\": \"71xxxx\",\n",
    "    \"appId\": \"1xxxxxx2277a217f05b965c\",\n",
    "    \"measurementId\": \"G-Bxxxxxx\"\n",
    "    }  # Web App param from firebase and also added databaseURL from Realtime Database Data URL "
   ]
  },
  {
   "cell_type": "code",
   "execution_count": null,
   "metadata": {},
   "outputs": [],
   "source": [
    "firebase = pyrebase.initialize_app(firebaseConfig)"
   ]
  },
  {
   "cell_type": "code",
   "execution_count": null,
   "metadata": {},
   "outputs": [],
   "source": [
    "realtime_db = firebase.database()"
   ]
  },
  {
   "cell_type": "code",
   "execution_count": null,
   "metadata": {},
   "outputs": [],
   "source": [
    "data = {\"name\":\"John\", \"age\":25, \"adress\":[\"new york\",\"los angeles\"]}"
   ]
  },
  {
   "cell_type": "code",
   "execution_count": null,
   "metadata": {},
   "outputs": [],
   "source": [
    "# db.push(data)  # create random name"
   ]
  },
  {
   "cell_type": "code",
   "execution_count": null,
   "metadata": {},
   "outputs": [],
   "source": [
    "#db.child(\"Test_Data\").child(\"Var\").set(data)\n",
    "realtime_db.child(\"Test_Data\").set(data)"
   ]
  },
  {
   "cell_type": "code",
   "execution_count": null,
   "metadata": {},
   "outputs": [],
   "source": [
    "realtime_db.child(\"real_test2\").child(\"real_test3\").remove()  # delete database data"
   ]
  },
  {
   "cell_type": "code",
   "execution_count": null,
   "metadata": {},
   "outputs": [],
   "source": []
  },
  {
   "cell_type": "markdown",
   "metadata": {},
   "source": [
    "#### DataFrame Data To Firebase (Bucket, Storage)"
   ]
  },
  {
   "cell_type": "markdown",
   "metadata": {},
   "source": [
    "##### 1 Way"
   ]
  },
  {
   "cell_type": "code",
   "execution_count": 1,
   "metadata": {},
   "outputs": [],
   "source": [
    "import firebase_admin\n",
    "from firebase_admin import credentials, firestore, storage"
   ]
  },
  {
   "cell_type": "code",
   "execution_count": 2,
   "metadata": {},
   "outputs": [],
   "source": [
    "firebaseConfig = {\n",
    "    \"apiKey\": \"xxxxxyAKKZn1tvQy9bxxxxxx\",\n",
    "    \"authDomain\": \"flashxxxxxapp.com\",\n",
    "    \"projectId\": \"flaxxxxx\",\n",
    "    \"storageBucket\": \"flxxxxxx.appspot.com\",\n",
    "    \"messagingSenderId\": \"7xxxxx20981\",\n",
    "    \"appId\": \"1:71xxxxx77a217f05b965c\",\n",
    "    \"measurementId\": \"GxxxxxDJS\"\n",
    "}"
   ]
  },
  {
   "cell_type": "code",
   "execution_count": 3,
   "metadata": {},
   "outputs": [],
   "source": [
    "cred   = firebase_admin.credentials.Certificate(\"/home/kurubal/Documents/Firebase/Flash Card/Api Key/flashcard-1c46e-firebase-adminsdk-b4kn5-5ddbde56b3.json\")\n",
    "app    = firebase_admin.initialize_app(cred, firebaseConfig)\n",
    "bucket = storage.bucket(app=app)"
   ]
  },
  {
   "cell_type": "code",
   "execution_count": null,
   "metadata": {},
   "outputs": [],
   "source": [
    "def upload_df(df, data_id):\n",
    "    \"\"\"\n",
    "    Upload a Dataframe as a csv to Firebase Storage\n",
    "    :return: storage_ref\n",
    "    \"\"\"\n",
    "\n",
    "    # Storage location + extension\n",
    "    storage_ref = data_id + \".csv\"\n",
    "\n",
    "    # Store locally\n",
    "    df.to_csv(data_id)\n",
    "\n",
    "    # Upload to Firebase Storage\n",
    "    blob = bucket.blob(storage_ref)\n",
    "    with open(data_id,'rb') as local_file:\n",
    "        blob.upload_from_file(local_file)\n",
    "\n",
    "    # Delete locally\n",
    "    os.remove(data_id)\n",
    "\n",
    "    return storage_ref"
   ]
  },
  {
   "cell_type": "code",
   "execution_count": null,
   "metadata": {},
   "outputs": [],
   "source": [
    "df_test = pd.read_csv(\"Test.csv\")\n",
    "df_test"
   ]
  },
  {
   "cell_type": "code",
   "execution_count": null,
   "metadata": {},
   "outputs": [],
   "source": [
    "# upload readed file with func\n",
    "upload_df(df_test, \"bucket_test\")"
   ]
  },
  {
   "cell_type": "code",
   "execution_count": 6,
   "metadata": {},
   "outputs": [],
   "source": [
    "# upload file directly without read\n",
    "bucket.blob(blob_name=\"test4\").upload_from_filename(\"/media/kurubal/SSD/Data Scientist/Data Science/Data-Scientist/Work/Modern Ways/Quran/Flash Cards/ReDe/Test.csv\")\n",
    "# blob_name firebase storage name"
   ]
  },
  {
   "cell_type": "code",
   "execution_count": null,
   "metadata": {},
   "outputs": [],
   "source": []
  },
  {
   "cell_type": "markdown",
   "metadata": {},
   "source": [
    "##### 2 Way"
   ]
  },
  {
   "cell_type": "code",
   "execution_count": null,
   "metadata": {},
   "outputs": [],
   "source": [
    "import os   # pyrebase running on colab. Tested in colab\n",
    "import pyrebase\n",
    "import pandas as pd"
   ]
  },
  {
   "cell_type": "code",
   "execution_count": null,
   "metadata": {},
   "outputs": [],
   "source": [
    "firebaseConfig = {\n",
    "    \"apiKey\": \"xxxxxxxxZn1tvQy9xxxxxx4\",\n",
    "    \"authDomain\": \"xxxxxardxxxxxp.com\",\n",
    "    \"databaseURL\": \"httpsxxxxxc46e-default-rtdxxxxxxxxxxp/\",\n",
    "    \"projectId\": \"flxxxxxxxxx\",\n",
    "    \"storageBucket\": \"flxxxxxxxxt.com\",\n",
    "    \"messagingSenderId\": \"7xxxxxx981\",\n",
    "    \"appId\": \"1:xxxx120xxxxxx05b965c\",\n",
    "    \"measurementId\": \"GxxxxxxxxS\",\n",
    "    \"serviceAccount\":\"/home/kurubal/Documents/Firebase/Flash Card/Api Key/flashcard-1c46e-firebase-adminsdk-b4kn5-5ddbde56b3.json\"\n",
    "    }  # Web App param from firebase and added databaseURL from Realtime Database Data URL and also added serviceAccount"
   ]
  },
  {
   "cell_type": "code",
   "execution_count": null,
   "metadata": {},
   "outputs": [],
   "source": [
    "firebase = pyrebase.initialize_app(firebaseConfig)\n",
    "storage = firebase.storage()"
   ]
  },
  {
   "cell_type": "code",
   "execution_count": null,
   "metadata": {},
   "outputs": [],
   "source": [
    "df = pd.read_csv(\"/content/Test.csv\")\n",
    "df"
   ]
  },
  {
   "cell_type": "code",
   "execution_count": null,
   "metadata": {},
   "outputs": [],
   "source": [
    "fileName = \"FuturePrices.csv\""
   ]
  },
  {
   "cell_type": "code",
   "execution_count": null,
   "metadata": {},
   "outputs": [],
   "source": [
    "# upload file directly without read\n",
    "storage.child(\"fileName\").put(\"/media/kurubal/SSD/Data Scientist/Data Science/Data-Scientist/Work/Modern Ways/Quran/Flash Cards/ReDe/Test.csv\")"
   ]
  },
  {
   "cell_type": "code",
   "execution_count": null,
   "metadata": {},
   "outputs": [],
   "source": []
  },
  {
   "cell_type": "code",
   "execution_count": null,
   "metadata": {},
   "outputs": [],
   "source": []
  },
  {
   "cell_type": "code",
   "execution_count": null,
   "metadata": {},
   "outputs": [],
   "source": []
  },
  {
   "cell_type": "code",
   "execution_count": null,
   "metadata": {},
   "outputs": [],
   "source": []
  }
 ],
 "metadata": {
  "kernelspec": {
   "display_name": "Python 3.9.5 ('py39')",
   "language": "python",
   "name": "python3"
  },
  "language_info": {
   "codemirror_mode": {
    "name": "ipython",
    "version": 3
   },
   "file_extension": ".py",
   "mimetype": "text/x-python",
   "name": "python",
   "nbconvert_exporter": "python",
   "pygments_lexer": "ipython3",
   "version": "3.9.5"
  },
  "orig_nbformat": 4,
  "vscode": {
   "interpreter": {
    "hash": "651d507d70892fab0fc6529d935cd476f6e2eb1791525b76da6cc8da34bc0503"
   }
  }
 },
 "nbformat": 4,
 "nbformat_minor": 2
}
