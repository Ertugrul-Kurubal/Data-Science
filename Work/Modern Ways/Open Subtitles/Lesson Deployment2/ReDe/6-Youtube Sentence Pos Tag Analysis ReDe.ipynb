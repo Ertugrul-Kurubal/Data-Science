{
 "cells": [
  {
   "cell_type": "markdown",
   "metadata": {},
   "source": [
    "### Youtube Sentence Pos Tag Analysis"
   ]
  },
  {
   "cell_type": "code",
   "execution_count": 1,
   "metadata": {},
   "outputs": [],
   "source": [
    "import os\n",
    "import multiprocessing\n",
    "#import multiprocessing as mp\n",
    "from multiprocessing import Process, Manager, Pool, Queue\n",
    "from itertools import islice\n",
    "from collections import Counter\n",
    "import re\n",
    "import pandas as pd\n",
    "import numpy as np\n",
    "import glob\n",
    "import nltk\n",
    "from nltk import word_tokenize\n",
    "from functools import reduce\n",
    "from pathlib import Path\n",
    "import shutil"
   ]
  },
  {
   "cell_type": "code",
   "execution_count": 2,
   "metadata": {},
   "outputs": [
    {
     "name": "stdout",
     "output_type": "stream",
     "text": [
      "Number of CPU cores: 16\n"
     ]
    }
   ],
   "source": [
    "nprocs = multiprocessing.cpu_count()\n",
    "print(f\"Number of CPU cores: {nprocs}\")"
   ]
  },
  {
   "cell_type": "code",
   "execution_count": 3,
   "metadata": {},
   "outputs": [],
   "source": [
    "# language pair\n",
    "lang_folder = \"Turkish\"  # Arabic, English, French, German, Turkish, Spanish, Portuguese, Dutch, Italian ==> target language for learner\n",
    "#lang_pair = \"English\"  # Arabic, English, French, German, Turkish, Spanish, Portuguese, Dutch, Italian ==> native language\n",
    "\n",
    "# native word select for Part 2 \n",
    "word_start = 0  # 0  # native word start index\n",
    "word_end = 200 # 28  # native word end index\n",
    "\n",
    "# data file parameter\n",
    "file = \"200 Classification\"  # must be excel file\n",
    "sheets = \"Sheet3\"  # \"Sheet3\"\n",
    "start_first_column = 0  # start column location number\n",
    "\n",
    "# classification\n",
    "threshold_num = 1"
   ]
  },
  {
   "cell_type": "code",
   "execution_count": null,
   "metadata": {},
   "outputs": [],
   "source": [
    "path = f\"/media/kurubal/SSD/Data Scientist/Work/Modern Ways/Project/{lang_folder.capitalize()}/\\\n",
    "Deployment2/Result/6-Youtube Sentence Pos Tag Analysis/{lang_folder.capitalize()}\"\n",
    "\n",
    "Path(path).mkdir(parents=True, exist_ok=True)"
   ]
  },
  {
   "cell_type": "code",
   "execution_count": null,
   "metadata": {},
   "outputs": [],
   "source": [
    "def column_word_list(df, column):\n",
    "    word_list = []\n",
    "    for i in df[f\"{column}\"].dropna():\n",
    "        words = i.split(\",\")\n",
    "        for j in words:\n",
    "            word = j.strip()\n",
    "            word_list.append(word)\n",
    "    return word_list"
   ]
  },
  {
   "cell_type": "code",
   "execution_count": null,
   "metadata": {},
   "outputs": [],
   "source": [
    "def column_word(df, column_list):\n",
    "    '''\n",
    "    column_word(df_pos_tag_group, df_pos_tag_group.columns) \\n\n",
    "    column_word(df_pos_tag_group, [\"col_1\",\"col_2\"])\n",
    "    '''\n",
    "    word_list_all = []\n",
    "    for i in column_list:\n",
    "        word_list = column_word_list(df, f\"{i}\")\n",
    "        word_list_all.append(word_list)\n",
    "    return word_list_all"
   ]
  },
  {
   "cell_type": "code",
   "execution_count": null,
   "metadata": {},
   "outputs": [],
   "source": [
    "def classification_condition(list_x, count_condition):\n",
    "    '''\n",
    "    from collections import Counter needed\n",
    "    \n",
    "    '''\n",
    "    dict_list_count = Counter(list_x)\n",
    "    count_list = list(dict_list_count.values())\n",
    "\n",
    "    if any([True if i>count_condition else False for i in count_list]):\n",
    "        return \"Fail\"\n",
    "    else:\n",
    "        return \"Pass\"\n",
    "\n",
    "    #return any([True if i>count_condition else False for i in count_list])  "
   ]
  },
  {
   "cell_type": "markdown",
   "metadata": {},
   "source": [
    "#### Part 1"
   ]
  },
  {
   "cell_type": "code",
   "execution_count": null,
   "metadata": {},
   "outputs": [],
   "source": [
    "df_pos_tag_group = pd.read_excel(f\"/media/kurubal/SSD/Data Scientist/Work/Modern Ways/Project/{lang_folder.capitalize()}/Deployment2/\\\n",
    "Data/{lang_folder.capitalize()}/{file}.xlsx\", sheet_name=f\"{sheets}\")\n",
    "df_pos_tag_group"
   ]
  },
  {
   "cell_type": "code",
   "execution_count": null,
   "metadata": {},
   "outputs": [],
   "source": [
    "df_youtube_sent_select = pd.read_excel(\"/media/kurubal/SSD/Data Scientist/Work/Modern Ways/Project/Turkish/Deployment2/Result/\\\n",
    "2-Word Group In Youtube Sentence/Turkish English/Turkish_English_Word_Group_Max_In_Youtube_Sentence_200_Word6.xlsx\")\n",
    "df_youtube_sent_select"
   ]
  },
  {
   "cell_type": "code",
   "execution_count": null,
   "metadata": {},
   "outputs": [],
   "source": [
    "column_word_list_all = column_word(df_pos_tag_group, df_pos_tag_group.columns)"
   ]
  },
  {
   "cell_type": "code",
   "execution_count": null,
   "metadata": {},
   "outputs": [],
   "source": [
    "result_list = []\n",
    "#for i in df_youtube_sent_select[\"search_string\"]:\n",
    "for i in range(len(df_youtube_sent_select)):\n",
    "    #words = word_tokenize(i)\n",
    "    search = df_youtube_sent_select.loc[i,\"search_string\"]\n",
    "    start=df_youtube_sent_select.loc[i,\"start_time\"]\n",
    "    end=df_youtube_sent_select.loc[i,\"end_time\"]\n",
    "    sent=df_youtube_sent_select.loc[i,\"sentence\"]\n",
    "    id = df_youtube_sent_select.loc[i,\"video_id\"]\n",
    "    id_url = df_youtube_sent_select.loc[i,\"video_url\"]\n",
    "    words = word_tokenize(search)\n",
    "    list_var = []\n",
    "    for j in words:\n",
    "        a = 0        \n",
    "        while a < len(column_word_list_all):            \n",
    "            if j in column_word_list_all[a]:\n",
    "                list_var.append(a)\n",
    "            else:\n",
    "                pass                \n",
    "            a+=1\n",
    "    result_list.append([search,start,end,sent,id,id_url,list_var])"
   ]
  },
  {
   "cell_type": "code",
   "execution_count": null,
   "metadata": {},
   "outputs": [],
   "source": [
    "df_youtube_sent_class = pd.DataFrame(result_list, columns=[\"search_string\",\"start_time\",\"end_time\",\"sentence\",\"video_id\",\"video_url\",\"classification\"])\n",
    "df_youtube_sent_class"
   ]
  },
  {
   "cell_type": "code",
   "execution_count": null,
   "metadata": {},
   "outputs": [],
   "source": [
    "df_youtube_sent_class[\"condition\"] = df_youtube_sent_class[\"classification\"].apply(lambda x: classification_condition(x, threshold_num))\n",
    "df_youtube_sent_class"
   ]
  },
  {
   "cell_type": "code",
   "execution_count": null,
   "metadata": {},
   "outputs": [],
   "source": [
    "df_youtube_sent_class.to_excel(f\"{lang_folder.capitalize()}_{word_end}_Word_Group_In_Youtube_Sentence_{threshold_num}_Classification_All.xlsx\", index=False)"
   ]
  },
  {
   "cell_type": "code",
   "execution_count": null,
   "metadata": {},
   "outputs": [],
   "source": [
    "df_youtube_sent_class_select = df_youtube_sent_class[df_youtube_sent_class[\"condition\"] == \"Pass\"]\n",
    "df_youtube_sent_class_select.reset_index(drop=True, inplace=True)\n",
    "df_youtube_sent_class_select"
   ]
  },
  {
   "cell_type": "code",
   "execution_count": null,
   "metadata": {},
   "outputs": [],
   "source": [
    "df_youtube_sent_class_select.to_excel(f\"{lang_folder.capitalize()}_{word_end}_Word_Group_In_Youtube_Sentence_{threshold_num}_Classification_Select.xlsx\", index=False)"
   ]
  },
  {
   "cell_type": "code",
   "execution_count": null,
   "metadata": {},
   "outputs": [],
   "source": []
  },
  {
   "cell_type": "markdown",
   "metadata": {},
   "source": [
    "#### Part 2"
   ]
  },
  {
   "cell_type": "code",
   "execution_count": null,
   "metadata": {},
   "outputs": [],
   "source": [
    "def word_index(df_word, word_column, sentence):\n",
    "    word_index_list = []\n",
    "    word_index_dict = {var2:var1 for (var1, var2) in enumerate(df_word[f\"{word_column}\"])}\n",
    "    words = word_tokenize(sentence)\n",
    "    for word in words:\n",
    "        value = word_index_dict[f\"{word}\"]\n",
    "        word_index_list.append(value)\n",
    "    return word_index_list"
   ]
  },
  {
   "cell_type": "code",
   "execution_count": null,
   "metadata": {},
   "outputs": [],
   "source": [
    "df_word_all = pd.read_excel(f\"/media/kurubal/SSD/Data Scientist/Work/Modern Ways/Project/{lang_folder.lower().capitalize()}/Deployment/Data/Word/Word_Merge_Preprocess.xlsx\")\n",
    "df_word_all"
   ]
  },
  {
   "cell_type": "code",
   "execution_count": null,
   "metadata": {},
   "outputs": [],
   "source": [
    "df_word_select = df_word_all.iloc[word_start:word_end,]\n",
    "df_word_select.reset_index(inplace=True)\n",
    "df_word_select"
   ]
  },
  {
   "cell_type": "code",
   "execution_count": null,
   "metadata": {},
   "outputs": [],
   "source": [
    "df_youtube_sent_select = pd.read_excel(\"/media/kurubal/SSD/Data Scientist/Work/Modern Ways/Project/Turkish/Deployment2/Result/\\\n",
    "2-Word Group In Youtube Sentence/Turkish English/Turkish_English_Word_Group_Max_In_Youtube_Sentence_200_Word6.xlsx\")\n",
    "df_youtube_sent_select"
   ]
  },
  {
   "cell_type": "code",
   "execution_count": null,
   "metadata": {},
   "outputs": [],
   "source": [
    "df_youtube_sent_select[\"word_index_list\"] = df_youtube_sent_select[\"search_string\"].apply(lambda sent: word_index(df_word_select, \"word\", sent))\n",
    "df_youtube_sent_select"
   ]
  },
  {
   "cell_type": "code",
   "execution_count": null,
   "metadata": {},
   "outputs": [],
   "source": [
    "df_youtube_sent_select.to_excel(f\"{lang_folder.capitalize()}_{word_end}_Word_Group_In_Youtube_Sentence_Word_Index_List.xlsx\", index=False)"
   ]
  },
  {
   "cell_type": "code",
   "execution_count": null,
   "metadata": {},
   "outputs": [],
   "source": [
    "df_youtube_sent_select = df_youtube_sent_select[df_youtube_sent_select[\"start_time\"] <= 700]\n",
    "df_youtube_sent_select.reset_index(drop=True, inplace=True)\n",
    "df_youtube_sent_select"
   ]
  },
  {
   "cell_type": "code",
   "execution_count": null,
   "metadata": {},
   "outputs": [],
   "source": [
    "df_youtube_sent_select.info()"
   ]
  },
  {
   "cell_type": "code",
   "execution_count": null,
   "metadata": {},
   "outputs": [],
   "source": [
    "result_list = []\n",
    "index_list = []\n",
    "for i in range(len(df_youtube_sent_select)):\n",
    "    search = df_youtube_sent_select.loc[i,\"search_string\"]\n",
    "    start=df_youtube_sent_select.loc[i,\"start_time\"]\n",
    "    end=df_youtube_sent_select.loc[i,\"end_time\"]\n",
    "    sent=df_youtube_sent_select.loc[i,\"sentence\"]\n",
    "    id = df_youtube_sent_select.loc[i,\"video_id\"]\n",
    "    id_url = df_youtube_sent_select.loc[i,\"video_url\"]\n",
    "    word_index = df_youtube_sent_select.loc[i,\"word_index_list\"]\n",
    "    list_var = index_list + [x for x in word_index]\n",
    "\n",
    "    dict_list_count = Counter(list_var)\n",
    "    count_list = list(dict_list_count.values())\n",
    "\n",
    "    if any([True if i>2 else False for i in count_list]):\n",
    "        index_list = index_list\n",
    "    else:\n",
    "        index_list = index_list + word_index\n",
    "        result_list.append([search,start,end,sent,id,id_url,word_index])\n",
    "    "
   ]
  },
  {
   "cell_type": "code",
   "execution_count": null,
   "metadata": {},
   "outputs": [],
   "source": []
  },
  {
   "cell_type": "code",
   "execution_count": null,
   "metadata": {},
   "outputs": [],
   "source": [
    "df_youtube_sent_select.loc[5,\"word_index_list\"]"
   ]
  },
  {
   "cell_type": "code",
   "execution_count": null,
   "metadata": {},
   "outputs": [],
   "source": [
    "word_index = df_youtube_sent_select.loc[5,\"word_index_list\"]"
   ]
  },
  {
   "cell_type": "code",
   "execution_count": null,
   "metadata": {},
   "outputs": [],
   "source": []
  },
  {
   "cell_type": "code",
   "execution_count": null,
   "metadata": {},
   "outputs": [],
   "source": [
    "set_index = set(index_list)\n",
    "set_all_index = set([x for x in range(0,200)])"
   ]
  },
  {
   "cell_type": "code",
   "execution_count": null,
   "metadata": {},
   "outputs": [],
   "source": [
    "set_all_index.difference(set_index)"
   ]
  },
  {
   "cell_type": "code",
   "execution_count": null,
   "metadata": {},
   "outputs": [],
   "source": [
    "Counter(index_list)"
   ]
  },
  {
   "cell_type": "code",
   "execution_count": null,
   "metadata": {},
   "outputs": [],
   "source": [
    "df_test = pd.DataFrame(result_list, columns=[\"search_string\",\"start_time\",\"end_time\",\"sentence\",\"video_id\",\"video_url\",\"word_index\"])\n",
    "df_test"
   ]
  },
  {
   "cell_type": "code",
   "execution_count": null,
   "metadata": {},
   "outputs": [],
   "source": []
  },
  {
   "cell_type": "code",
   "execution_count": null,
   "metadata": {},
   "outputs": [],
   "source": []
  },
  {
   "cell_type": "markdown",
   "metadata": {},
   "source": [
    "#### Copy Move And Delete"
   ]
  },
  {
   "cell_type": "code",
   "execution_count": null,
   "metadata": {},
   "outputs": [],
   "source": [
    "output_file = glob.glob(f\"{lang_folder.capitalize()}_200_Word_Group_In_Youtube_Sentence_*.xlsx\")\n",
    "output_file"
   ]
  },
  {
   "cell_type": "code",
   "execution_count": null,
   "metadata": {},
   "outputs": [],
   "source": [
    "for k in output_file:\n",
    "    source = k # source directory\n",
    "    destination = path\n",
    "    shutil.copy2(source, destination)"
   ]
  },
  {
   "cell_type": "code",
   "execution_count": null,
   "metadata": {},
   "outputs": [],
   "source": [
    "for i in output_file:\n",
    "    try:\n",
    "        os.remove(i)\n",
    "    except:\n",
    "        pass"
   ]
  },
  {
   "cell_type": "code",
   "execution_count": null,
   "metadata": {},
   "outputs": [],
   "source": []
  },
  {
   "cell_type": "markdown",
   "metadata": {},
   "source": [
    "#### Custom Pattern"
   ]
  },
  {
   "cell_type": "code",
   "execution_count": null,
   "metadata": {},
   "outputs": [],
   "source": [
    "def classification_order(classification_list, target_pattern_list):\n",
    "    '''\n",
    "    classification_order(classification_list, target_pattern_list)\n",
    "    classification_list and target_pattern_list are list\n",
    "    '''\n",
    "    if [x for x in classification_list] == [y for y in target_pattern_list]:\n",
    "        return \"pattern is equal\"\n",
    "    else:\n",
    "        return \"pattern in not equal\""
   ]
  },
  {
   "cell_type": "code",
   "execution_count": null,
   "metadata": {},
   "outputs": [],
   "source": [
    "target_pattern = [7,1,4,1,2,8,7,3,4,1,2,8,7,8,8]"
   ]
  },
  {
   "cell_type": "code",
   "execution_count": null,
   "metadata": {},
   "outputs": [],
   "source": [
    "df_youtube_sent_class[\"pattern_result\"] = df_youtube_sent_class[\"classification\"].apply(lambda x: classification_order(x, target_pattern))\n",
    "df_youtube_sent_class"
   ]
  },
  {
   "cell_type": "code",
   "execution_count": null,
   "metadata": {},
   "outputs": [],
   "source": [
    "df_youtube_sent_class[df_youtube_sent_class[\"test\"] == \"pattern_result\"]"
   ]
  },
  {
   "cell_type": "code",
   "execution_count": null,
   "metadata": {},
   "outputs": [],
   "source": [
    "df_youtube_sent_select.to_excel(f\"{lang_folder.capitalize()}_{word_end}_Word_Group_In_Youtube_Sentence_Custom_Pattern.xlsx\", index=False)"
   ]
  },
  {
   "cell_type": "code",
   "execution_count": null,
   "metadata": {},
   "outputs": [],
   "source": []
  },
  {
   "cell_type": "code",
   "execution_count": null,
   "metadata": {},
   "outputs": [],
   "source": []
  },
  {
   "cell_type": "code",
   "execution_count": null,
   "metadata": {},
   "outputs": [],
   "source": []
  },
  {
   "cell_type": "code",
   "execution_count": null,
   "metadata": {},
   "outputs": [],
   "source": []
  },
  {
   "cell_type": "code",
   "execution_count": null,
   "metadata": {},
   "outputs": [],
   "source": []
  },
  {
   "cell_type": "code",
   "execution_count": null,
   "metadata": {},
   "outputs": [],
   "source": []
  },
  {
   "cell_type": "code",
   "execution_count": null,
   "metadata": {},
   "outputs": [],
   "source": [
    "def word_index(df_word, word_column, sentence):\n",
    "    word_index_list = []\n",
    "    word_index_dict = {var2:var1 for (var1, var2) in enumerate(df_word[f\"{word_column}\"])}\n",
    "    words = word_tokenize(sentence)\n",
    "    for word in words:\n",
    "        value = word_index_dict[f\"{word}\"]\n",
    "        word_index_list.append(value)\n",
    "    return word_index_list"
   ]
  },
  {
   "cell_type": "code",
   "execution_count": null,
   "metadata": {},
   "outputs": [],
   "source": [
    "df_youtube_sent_select[\"word_index_list\"] = df_youtube_sent_select[\"search_string\"].apply(lambda x: )"
   ]
  },
  {
   "cell_type": "code",
   "execution_count": null,
   "metadata": {},
   "outputs": [],
   "source": []
  },
  {
   "cell_type": "code",
   "execution_count": null,
   "metadata": {},
   "outputs": [],
   "source": []
  },
  {
   "cell_type": "code",
   "execution_count": null,
   "metadata": {},
   "outputs": [],
   "source": []
  },
  {
   "cell_type": "code",
   "execution_count": null,
   "metadata": {},
   "outputs": [],
   "source": [
    "df_word_all = pd.read_excel(f\"/media/kurubal/SSD/Data Scientist/Work/Modern Ways/Project/{lang_folder.lower().capitalize()}/Deployment/Data/Word/Word_Merge_Preprocess.xlsx\")\n",
    "df_word_all"
   ]
  },
  {
   "cell_type": "code",
   "execution_count": null,
   "metadata": {},
   "outputs": [],
   "source": [
    "df_word_select = df_word_all.iloc[word_start:word_end,]\n",
    "df_word_select.reset_index(inplace=True)\n",
    "df_word_select"
   ]
  },
  {
   "cell_type": "code",
   "execution_count": null,
   "metadata": {},
   "outputs": [],
   "source": [
    "word_index_dict = {key:val for (key, val) in zip(df_word_select[\"word\"],df_word_select[\"index\"])}\n",
    "#word_index_dict = {var2:var1 for (var1, var2) in enumerate(df_word_select[\"word\"])}"
   ]
  },
  {
   "cell_type": "code",
   "execution_count": null,
   "metadata": {},
   "outputs": [],
   "source": [
    "word_index_dict[\"bu\"]"
   ]
  },
  {
   "cell_type": "code",
   "execution_count": null,
   "metadata": {},
   "outputs": [],
   "source": []
  },
  {
   "cell_type": "code",
   "execution_count": null,
   "metadata": {},
   "outputs": [],
   "source": []
  },
  {
   "cell_type": "code",
   "execution_count": null,
   "metadata": {},
   "outputs": [],
   "source": []
  },
  {
   "cell_type": "code",
   "execution_count": null,
   "metadata": {},
   "outputs": [],
   "source": [
    "column_word_list(df_pos_tag_group, \"col_1\")"
   ]
  },
  {
   "cell_type": "code",
   "execution_count": null,
   "metadata": {},
   "outputs": [],
   "source": [
    "column_word(df_pos_tag_group, df_pos_tag_group.columns)"
   ]
  },
  {
   "cell_type": "code",
   "execution_count": null,
   "metadata": {},
   "outputs": [],
   "source": []
  },
  {
   "cell_type": "code",
   "execution_count": null,
   "metadata": {},
   "outputs": [],
   "source": [
    "df_test = df_youtube_sent_select.head(2)\n",
    "df_test"
   ]
  },
  {
   "cell_type": "code",
   "execution_count": null,
   "metadata": {},
   "outputs": [],
   "source": [
    "column_word_list_all = column_word(df_pos_tag_group, df_pos_tag_group.columns)"
   ]
  },
  {
   "cell_type": "code",
   "execution_count": null,
   "metadata": {},
   "outputs": [],
   "source": [
    "result_list = []\n",
    "for i in df_test[\"search_string\"]:\n",
    "    words = word_tokenize(i)\n",
    "    list_var = []\n",
    "    for j in words:\n",
    "        a = 0        \n",
    "        while a < len(column_word_list_all):            \n",
    "            if j in column_word_list_all[a]:\n",
    "                list_var.append(a)\n",
    "            else:\n",
    "                pass                \n",
    "            a+=1\n",
    "    result_list.append([i,list_var])"
   ]
  },
  {
   "cell_type": "code",
   "execution_count": null,
   "metadata": {},
   "outputs": [],
   "source": [
    "result_list"
   ]
  },
  {
   "cell_type": "code",
   "execution_count": null,
   "metadata": {},
   "outputs": [],
   "source": [
    "pd.DataFrame(result_list, columns=[\"sentence\",\"classification\"])"
   ]
  },
  {
   "cell_type": "code",
   "execution_count": null,
   "metadata": {},
   "outputs": [],
   "source": [
    "len(column_word_list_all)"
   ]
  },
  {
   "cell_type": "code",
   "execution_count": null,
   "metadata": {},
   "outputs": [],
   "source": [
    "from collections import Counter"
   ]
  },
  {
   "cell_type": "code",
   "execution_count": null,
   "metadata": {},
   "outputs": [],
   "source": [
    "result_list[0][1]"
   ]
  },
  {
   "cell_type": "code",
   "execution_count": null,
   "metadata": {},
   "outputs": [],
   "source": [
    "Counter(result_list[0][1])"
   ]
  },
  {
   "cell_type": "code",
   "execution_count": null,
   "metadata": {},
   "outputs": [],
   "source": [
    "any(Counter(result_list[0][1]).values())"
   ]
  },
  {
   "cell_type": "code",
   "execution_count": null,
   "metadata": {},
   "outputs": [],
   "source": [
    "list_test = list(Counter(result_list[0][1]).values())\n",
    "list_test"
   ]
  },
  {
   "cell_type": "code",
   "execution_count": null,
   "metadata": {},
   "outputs": [],
   "source": [
    "any([True if i>3 else False for i in list_test])"
   ]
  },
  {
   "cell_type": "code",
   "execution_count": null,
   "metadata": {},
   "outputs": [],
   "source": [
    "def classification_condition(list_x, count_condition):\n",
    "    '''\n",
    "    from collections import Counter needed\n",
    "    \n",
    "    '''\n",
    "    dict_list_count = Counter(list_x)\n",
    "    count_list = list(dict_list_count.values())\n",
    "\n",
    "    return any([True if i>count_condition else False for i in count_list])   "
   ]
  },
  {
   "cell_type": "code",
   "execution_count": null,
   "metadata": {},
   "outputs": [],
   "source": [
    "list_test2 = result_list[0][1]"
   ]
  },
  {
   "cell_type": "code",
   "execution_count": null,
   "metadata": {},
   "outputs": [],
   "source": [
    "classification_condition(list_test2, 4)"
   ]
  },
  {
   "cell_type": "code",
   "execution_count": null,
   "metadata": {},
   "outputs": [],
   "source": []
  }
 ],
 "metadata": {
  "kernelspec": {
   "display_name": "Python 3.9.5 ('py39')",
   "language": "python",
   "name": "python3"
  },
  "language_info": {
   "codemirror_mode": {
    "name": "ipython",
    "version": 3
   },
   "file_extension": ".py",
   "mimetype": "text/x-python",
   "name": "python",
   "nbconvert_exporter": "python",
   "pygments_lexer": "ipython3",
   "version": "3.9.5"
  },
  "orig_nbformat": 4,
  "vscode": {
   "interpreter": {
    "hash": "651d507d70892fab0fc6529d935cd476f6e2eb1791525b76da6cc8da34bc0503"
   }
  }
 },
 "nbformat": 4,
 "nbformat_minor": 2
}
