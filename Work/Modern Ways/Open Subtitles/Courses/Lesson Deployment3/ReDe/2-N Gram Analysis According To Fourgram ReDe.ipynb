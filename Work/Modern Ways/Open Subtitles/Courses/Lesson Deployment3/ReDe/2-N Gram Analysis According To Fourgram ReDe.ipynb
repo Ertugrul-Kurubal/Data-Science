{
 "cells": [
  {
   "attachments": {},
   "cell_type": "markdown",
   "metadata": {},
   "source": [
    "### N Gram Analysis According To Fourgram"
   ]
  },
  {
   "cell_type": "code",
   "execution_count": null,
   "metadata": {},
   "outputs": [],
   "source": [
    "import os\n",
    "import multiprocessing\n",
    "#import multiprocessing as mp\n",
    "from multiprocessing import Process, Manager, Pool, Queue\n",
    "from itertools import islice\n",
    "from collections import Counter\n",
    "import re\n",
    "import pandas as pd\n",
    "import numpy as np\n",
    "import glob\n",
    "import nltk\n",
    "from nltk import word_tokenize\n",
    "from functools import reduce\n",
    "from pathlib import Path\n",
    "import shutil"
   ]
  },
  {
   "cell_type": "code",
   "execution_count": null,
   "metadata": {},
   "outputs": [],
   "source": [
    "nprocs = multiprocessing.cpu_count()\n",
    "print(f\"Number of CPU cores: {nprocs}\")"
   ]
  },
  {
   "cell_type": "code",
   "execution_count": null,
   "metadata": {},
   "outputs": [],
   "source": [
    "# language pair\n",
    "lang_folder = \"Turkish\"  # Arabic, English, French, German, Turkish, Spanish, Portuguese, Dutch, Italian ==> target language for learner\n",
    "#lang_pair = \"Intersect\"  # Arabic, English, French, German, Turkish, Spanish, Portuguese, Dutch, Italian ==> native language\n",
    "\n",
    "# adding native word to shared word\n",
    "word_start = 0  # 0 native word start index\n",
    "word_end = 1000  # 28 native word end index      "
   ]
  },
  {
   "cell_type": "code",
   "execution_count": null,
   "metadata": {},
   "outputs": [],
   "source": [
    "ngram_data_path = f\"/media/kurubal/SSD/Data Scientist/Work/Modern Ways/Project/{lang_folder.capitalize()}/\\\n",
    "Deployment3/Data/1-N Gram Data Prepare\"\n",
    "\n",
    "ngram_used_data_path = f\"/media/kurubal/SSD/Data Scientist/Work/Modern Ways/Project/{lang_folder.capitalize()}/\\\n",
    "Deployment3/Data/N Gram Used\"\n",
    "\n",
    "\n",
    "path = f\"/media/kurubal/SSD/Data Scientist/Work/Modern Ways/Project/{lang_folder.capitalize()}/\\\n",
    "Deployment3/Result/2-N Gram Analysis According To Fourgram\"\n",
    "\n",
    "Path(path).mkdir(parents=True, exist_ok=True)"
   ]
  },
  {
   "cell_type": "code",
   "execution_count": null,
   "metadata": {},
   "outputs": [],
   "source": [
    "def strip(df,column_list):\n",
    "    '''\n",
    "    strip(df,column_list) df is dataframe and column_list are selected columns \\n\n",
    "    strip(df_twogram_used,df_twogram_used.columns)\n",
    "    '''\n",
    "    for i in column_list:\n",
    "        new_name = i.strip()\n",
    "        df.rename(columns={f\"{i}\":f\"{new_name}\"}, inplace=True)\n",
    "        df[f\"{new_name}\"] = df[f\"{new_name}\"].apply(lambda x: x.strip())\n",
    "    \n",
    "    return df"
   ]
  },
  {
   "cell_type": "code",
   "execution_count": null,
   "metadata": {},
   "outputs": [],
   "source": [
    "def word_count_result(df,column_list): # df is dataframe, column_list is list value\n",
    "    '''\n",
    "    word_count_bool(df, column_list): df columns word count for word frequency\\n\n",
    "    df is dataframe, column_list is list value\\n\n",
    "    word_count_bool(df, [\"word\",\"twogram\"]):\n",
    "    '''\n",
    "    list_all = []\n",
    "    for i in df.loc[:,[x for x in column_list]].columns:\n",
    "        var_list = df[f\"{i}\"].dropna().tolist()\n",
    "        for j in var_list:\n",
    "            list_all.append(j)\n",
    "    text = \" \".join(list_all)\n",
    "    word_list = re.findall(r\"\\w+\",text, re.UNICODE)\n",
    "    df_word_list = pd.DataFrame(word_list, columns=[\"word\"])\n",
    "    #df_word_list.rename(columns={0:\"word\"}, inplace=True)\n",
    "    df_word_count = pd.DataFrame(df_word_list.value_counts())\n",
    "    df_word_count.reset_index(inplace=True)\n",
    "    df_word_count.rename(columns={0:\"word_count\"}, inplace=True)\n",
    "    \n",
    "    return  df_word_count"
   ]
  },
  {
   "cell_type": "code",
   "execution_count": null,
   "metadata": {},
   "outputs": [],
   "source": [
    "def word_in_wordgroup(source_word_list, df_target, target_column, simple=False):\n",
    "\n",
    "    '''word_in_wordgroup(not_in_sent_word_list, df_youtube_sent_select, \"search_string\", 5, simple=False)\\n\n",
    "       source_word_list is searching word list\\n\n",
    "       df_target is dataframe, target_column are dataframe column string name\\n\n",
    "       word_sample_num is searching sample number.\n",
    "       simple use for all column result or only target column result \n",
    "    '''\n",
    "    if simple:\n",
    "        df_select = df_target[[f\"{target_column}\"]].dropna()\n",
    "    else:\n",
    "        df_select = df_target\n",
    "        \n",
    "    df_result = pd.DataFrame()\n",
    "    for i in source_word_list:\n",
    "        try:\n",
    "            word_in_word_cluster = df_select[df_select[f\"{target_column}\"].str.contains(fr\"(?:\\s|^){i}(?:\\s|$)\", na=False)]  # na=True failed  \n",
    "        except:\n",
    "            pass        \n",
    "        word_in_word_cluster.insert(0,\"word\",i)\n",
    "        df_result = pd.concat([df_result,word_in_word_cluster], axis=0)\n",
    "    df_result.reset_index(drop=True, inplace=True)\n",
    "\n",
    "    return df_result"
   ]
  },
  {
   "cell_type": "code",
   "execution_count": null,
   "metadata": {},
   "outputs": [],
   "source": [
    "def word_in_wordgroup_simple(df, source_column, target_column):\n",
    "\n",
    "    '''word_in_wordgroup(df, \"word\", \"twogram\"):\n",
    "       df is dataframe, source_column and target_column are \n",
    "       dataframe column string name. source_column convert list\n",
    "       values that are in target column.\n",
    "    '''\n",
    "    \n",
    "    df_select = df[[f\"{target_column}\"]].dropna()\n",
    "    df_result = pd.DataFrame()\n",
    "    for i in df[f\"{source_column}\"].dropna():\n",
    "        try:\n",
    "            word_in_word_cluster = df_select[df_select[f\"{target_column}\"].str.contains(fr\"(?:\\s|^){i}(?:\\s|$)\", na=False)]  # na=True failed    \n",
    "        except:\n",
    "            pass        \n",
    "        word_in_word_cluster.insert(0,f\"{source_column}\",i)\n",
    "        df_result = pd.concat([df_result,word_in_word_cluster], axis=0)\n",
    "    df_result.reset_index(drop=True, inplace=True)\n",
    "\n",
    "    return df_result"
   ]
  },
  {
   "cell_type": "code",
   "execution_count": null,
   "metadata": {},
   "outputs": [],
   "source": []
  },
  {
   "attachments": {},
   "cell_type": "markdown",
   "metadata": {},
   "source": [
    "#### Ngram Read"
   ]
  },
  {
   "cell_type": "code",
   "execution_count": null,
   "metadata": {},
   "outputs": [],
   "source": [
    "df_twogram_used = pd.read_excel(f\"{ngram_used_data_path}/{lang_folder.capitalize()}_Twogram_Used.xlsx\")\n",
    "df_twogram_used = strip(df_twogram_used,df_twogram_used.columns)\n",
    "df_twogram_used"
   ]
  },
  {
   "cell_type": "code",
   "execution_count": null,
   "metadata": {},
   "outputs": [],
   "source": [
    "df_threegram_used = pd.read_excel(f\"{ngram_used_data_path}/{lang_folder.capitalize()}_Threegram_Used.xlsx\")\n",
    "df_threegram_used = strip(df_threegram_used, df_threegram_used.columns)\n",
    "df_threegram_used"
   ]
  },
  {
   "cell_type": "code",
   "execution_count": null,
   "metadata": {},
   "outputs": [],
   "source": [
    "twogram_used_list = list(set(df_twogram_used[\"twogram\"]))\n",
    "threegram_used_list = list(set(df_threegram_used[\"threegram\"]))"
   ]
  },
  {
   "cell_type": "code",
   "execution_count": null,
   "metadata": {},
   "outputs": [],
   "source": [
    "df_twogram = pd.read_csv(f\"{ngram_data_path}/{lang_folder.capitalize()}_{word_end}_Word_Twogram_Selected.csv\")\n",
    "df_twogram_remove_used = df_twogram[~df_twogram[\"twogram\"].isin(twogram_used_list)]\n",
    "df_twogram_remove_used"
   ]
  },
  {
   "cell_type": "code",
   "execution_count": null,
   "metadata": {},
   "outputs": [],
   "source": [
    "df_threegram = pd.read_csv(f\"{ngram_data_path}/{lang_folder.capitalize()}_{word_end}_Word_Threegram_Selected.csv\")\n",
    "df_threegram_remove_used = df_threegram[~df_threegram[\"threegram\"].isin(threegram_used_list)]\n",
    "df_threegram_remove_used"
   ]
  },
  {
   "cell_type": "code",
   "execution_count": null,
   "metadata": {},
   "outputs": [],
   "source": [
    "df_fourgram = pd.read_csv(f\"{ngram_data_path}/{lang_folder.capitalize()}_{word_end}_Word_Fourgram_Selected.csv\")\n",
    "df_fourgram"
   ]
  },
  {
   "cell_type": "code",
   "execution_count": null,
   "metadata": {},
   "outputs": [],
   "source": [
    "df_fourgram_selected_for_course = pd.read_excel(f\"/media/kurubal/SSD/Data Scientist/Work/Modern Ways/Project/{lang_folder.capitalize()}/Deployment3/\\\n",
    "Data/Manuel Select/Selected 4grams.xlsx\")\n",
    "df_fourgram_selected_for_course"
   ]
  },
  {
   "cell_type": "code",
   "execution_count": null,
   "metadata": {},
   "outputs": [],
   "source": [
    "twogram_list = df_twogram_remove_used[\"twogram\"].to_list()  # without used\n",
    "threegram_list = df_threegram_remove_used[\"threegram\"].to_list()  # without used\n",
    "fourgram_list = df_fourgram[\"fourgram\"].to_list()\n",
    "fourgram_course_list = df_fourgram_selected_for_course[\"fourgram\"].to_list()"
   ]
  },
  {
   "cell_type": "code",
   "execution_count": null,
   "metadata": {},
   "outputs": [],
   "source": []
  },
  {
   "attachments": {},
   "cell_type": "markdown",
   "metadata": {},
   "source": [
    "#### Given Previous Course"
   ]
  },
  {
   "attachments": {},
   "cell_type": "markdown",
   "metadata": {},
   "source": [
    "##### Twogram Used In Threegram Used In Fourgram (1A)"
   ]
  },
  {
   "cell_type": "code",
   "execution_count": null,
   "metadata": {},
   "outputs": [],
   "source": [
    "# parameter\n",
    "source_wordgroup_list = threegram_used_list\n",
    "search_column_name = \"threegram\"\n",
    "target_column = \"fourgram\"\n",
    "df_target = df_fourgram_selected_for_course\n",
    "\n",
    "# function\n",
    "#searchlist = []\n",
    "resultlist = []\n",
    "manager = multiprocessing.Manager()\n",
    "resultlist = manager.list()\n",
    "#searchlist = manager.list()\n",
    "\n",
    "def word_in_wordgroup(wordgroup):\n",
    "    try:\n",
    "        word_in_word_cluster = df_target[df_target[f\"{target_column}\"].str.contains(fr\"(?:\\s|^){wordgroup}(?:\\s|$)\", na=False)]  # na=True failed\n",
    "        for result in word_in_word_cluster[f\"{target_column}\"]:\n",
    "            #searchlist.append(wordgroup)\n",
    "            #resultlist.append(result)\n",
    "            resultlist.append([wordgroup,result])\n",
    "    except:\n",
    "        pass\n",
    "\n",
    "if __name__ == '__main__':\n",
    "    # with Pool(16) as p:\n",
    "    with Pool(nprocs-2) as p: # Pool number CPU sayısına eşit olursa tüm CPU lar çalışır\n",
    "        p.map(word_in_wordgroup, source_wordgroup_list) # string_word liste"
   ]
  },
  {
   "cell_type": "code",
   "execution_count": null,
   "metadata": {},
   "outputs": [],
   "source": [
    "#search_list = list(searchlist)\n",
    "result_list = list(resultlist)\n",
    "#df_word_in_two = pd.DataFrame({f\"{search_column_name}\":search_list,f\"{target_column}\":result_list})\n",
    "df_threegram_used_in_selected_four = pd.DataFrame(result_list, columns=[f\"{search_column_name}\",f\"{target_column}\"])\n",
    "df_threegram_used_in_selected_four"
   ]
  },
  {
   "cell_type": "code",
   "execution_count": null,
   "metadata": {},
   "outputs": [],
   "source": [
    "df_threegram_used_in_selected_four2 = df_threegram_used_in_selected_four[[\"threegram\"]]\n",
    "df_threegram_used_in_selected_four2.drop_duplicates(inplace=True)\n",
    "df_threegram_used_in_selected_four2.reset_index(drop=True, inplace=True)\n",
    "df_threegram_used_in_selected_four2"
   ]
  },
  {
   "cell_type": "code",
   "execution_count": null,
   "metadata": {},
   "outputs": [],
   "source": [
    "# parameter\n",
    "source_wordgroup_list = twogram_used_list\n",
    "search_column_name = \"twogram\"\n",
    "target_column = \"threegram\"\n",
    "df_target = df_threegram_used_in_selected_four2\n",
    "\n",
    "# function\n",
    "#searchlist = []\n",
    "resultlist = []\n",
    "manager = multiprocessing.Manager()\n",
    "resultlist = manager.list()\n",
    "#searchlist = manager.list()\n",
    "\n",
    "def word_in_wordgroup(wordgroup):\n",
    "    try:\n",
    "        word_in_word_cluster = df_target[df_target[f\"{target_column}\"].str.contains(fr\"(?:\\s|^){wordgroup}(?:\\s|$)\", na=False)]  # na=True failed\n",
    "        for result in word_in_word_cluster[f\"{target_column}\"]:\n",
    "            #searchlist.append(wordgroup)\n",
    "            #resultlist.append(result)\n",
    "            resultlist.append([wordgroup,result])\n",
    "    except:\n",
    "        pass\n",
    "\n",
    "if __name__ == '__main__':\n",
    "    # with Pool(16) as p:\n",
    "    with Pool(nprocs-2) as p: # Pool number CPU sayısına eşit olursa tüm CPU lar çalışır\n",
    "        p.map(word_in_wordgroup, source_wordgroup_list) # string_word liste"
   ]
  },
  {
   "cell_type": "code",
   "execution_count": null,
   "metadata": {},
   "outputs": [],
   "source": [
    "#search_list = list(searchlist)\n",
    "result_list = list(resultlist)\n",
    "#df_word_in_two = pd.DataFrame({f\"{search_column_name}\":search_list,f\"{target_column}\":result_list})\n",
    "df_twogram_used_in_threegram_used_in_selected_four2 = pd.DataFrame(result_list, columns=[f\"{search_column_name}\",f\"{target_column}\"])\n",
    "df_twogram_used_in_threegram_used_in_selected_four2"
   ]
  },
  {
   "cell_type": "code",
   "execution_count": null,
   "metadata": {},
   "outputs": [],
   "source": [
    "df_twogram_used_in_three_used_in_selected_four = pd.merge(df_twogram_used_in_threegram_used_in_selected_four2, df_threegram_used_in_selected_four, how=\"inner\", on=\"threegram\")\n",
    "df_twogram_used_in_three_used_in_selected_four.drop_duplicates(inplace=True)\n",
    "df_twogram_used_in_three_used_in_selected_four"
   ]
  },
  {
   "cell_type": "code",
   "execution_count": null,
   "metadata": {},
   "outputs": [],
   "source": [
    "#df_twogram_used_in_three_used_in_selected_four.to_excel(f\"{lang_folder.capitalize()}_Twogram_Used_In_Threegram_Used_In_Selected_Fourgram_Result.xlsx\", index=False)  # (1A)"
   ]
  },
  {
   "cell_type": "code",
   "execution_count": null,
   "metadata": {},
   "outputs": [],
   "source": []
  },
  {
   "attachments": {},
   "cell_type": "markdown",
   "metadata": {},
   "source": [
    "##### Twogram Used In Selected Fourgram (2A)"
   ]
  },
  {
   "cell_type": "code",
   "execution_count": null,
   "metadata": {},
   "outputs": [],
   "source": [
    "# parameter\n",
    "source_wordgroup_list = twogram_used_list\n",
    "search_column_name = \"twogram\"\n",
    "target_column = \"fourgram\"\n",
    "df_target = df_fourgram_selected_for_course\n",
    "\n",
    "# function\n",
    "#searchlist = []\n",
    "resultlist = []\n",
    "manager = multiprocessing.Manager()\n",
    "resultlist = manager.list()\n",
    "#searchlist = manager.list()\n",
    "\n",
    "def word_in_wordgroup(wordgroup):\n",
    "    try:\n",
    "        word_in_word_cluster = df_target[df_target[f\"{target_column}\"].str.contains(fr\"(?:\\s|^){wordgroup}(?:\\s|$)\", na=False)]  # na=True failed\n",
    "        for result in word_in_word_cluster[f\"{target_column}\"]:\n",
    "            #searchlist.append(wordgroup)\n",
    "            #resultlist.append(result)\n",
    "            resultlist.append([wordgroup,result])\n",
    "    except:\n",
    "        pass\n",
    "\n",
    "if __name__ == '__main__':\n",
    "    # with Pool(16) as p:\n",
    "    with Pool(nprocs-2) as p: # Pool number CPU sayısına eşit olursa tüm CPU lar çalışır\n",
    "        p.map(word_in_wordgroup, source_wordgroup_list) # string_word liste\n",
    "\n",
    "#search_list = list(searchlist)\n",
    "#result_list = list(resultlist)\n",
    "#df_word_in_two = pd.DataFrame([search_list,result_list]).transpose()\n",
    "#df_word_in_two.columns = [f\"{search_column_name}\",f\"{target_column}\"]\n",
    "#df_word_in_two"
   ]
  },
  {
   "cell_type": "code",
   "execution_count": null,
   "metadata": {},
   "outputs": [],
   "source": [
    "#search_list = list(searchlist)\n",
    "result_list = list(resultlist)\n",
    "#df_word_in_two = pd.DataFrame({f\"{search_column_name}\":search_list,f\"{target_column}\":result_list})\n",
    "df_two_used_in_selected_four = pd.DataFrame(result_list, columns=[f\"{search_column_name}\",f\"{target_column}\"])\n",
    "df_two_used_in_selected_four"
   ]
  },
  {
   "cell_type": "code",
   "execution_count": null,
   "metadata": {},
   "outputs": [],
   "source": [
    "df_two_used_in_selected_four2 = df_two_used_in_selected_four[~df_two_used_in_selected_four[\"twogram\"].isin(list(set(df_twogram_used_in_three_used_in_selected_four[\"twogram\"])))]\n",
    "df_two_used_in_selected_four2"
   ]
  },
  {
   "cell_type": "code",
   "execution_count": null,
   "metadata": {},
   "outputs": [],
   "source": [
    "#df_two_used_in_selected_four2.to_excel(f\"{lang_folder.capitalize()}_Twogram_Used_In_Selected_Fourgram_Result.xlsx\", index=False)"
   ]
  },
  {
   "cell_type": "code",
   "execution_count": null,
   "metadata": {},
   "outputs": [],
   "source": []
  },
  {
   "attachments": {},
   "cell_type": "markdown",
   "metadata": {},
   "source": [
    "##### Threegram Used In Selected Fourgram (4A)"
   ]
  },
  {
   "cell_type": "code",
   "execution_count": null,
   "metadata": {},
   "outputs": [],
   "source": [
    "# parameter\n",
    "source_wordgroup_list = threegram_used_list\n",
    "search_column_name = \"threegram\"\n",
    "target_column = \"fourgram\"\n",
    "df_target = df_fourgram_selected_for_course\n",
    "\n",
    "# function\n",
    "#searchlist = []\n",
    "resultlist = []\n",
    "manager = multiprocessing.Manager()\n",
    "resultlist = manager.list()\n",
    "#searchlist = manager.list()\n",
    "\n",
    "def word_in_wordgroup(wordgroup):\n",
    "    try:\n",
    "        word_in_word_cluster = df_target[df_target[f\"{target_column}\"].str.contains(fr\"(?:\\s|^){wordgroup}(?:\\s|$)\", na=False)]  # na=True failed\n",
    "        for result in word_in_word_cluster[f\"{target_column}\"]:\n",
    "            #searchlist.append(wordgroup)\n",
    "            #resultlist.append(result)\n",
    "            resultlist.append([wordgroup,result])\n",
    "    except:\n",
    "        pass\n",
    "\n",
    "if __name__ == '__main__':\n",
    "    # with Pool(16) as p:\n",
    "    with Pool(nprocs-2) as p: # Pool number CPU sayısına eşit olursa tüm CPU lar çalışır\n",
    "        p.map(word_in_wordgroup, source_wordgroup_list) # string_word liste"
   ]
  },
  {
   "cell_type": "code",
   "execution_count": null,
   "metadata": {},
   "outputs": [],
   "source": [
    "#search_list = list(searchlist)\n",
    "result_list = list(resultlist)\n",
    "#df_word_in_two = pd.DataFrame({f\"{search_column_name}\":search_list,f\"{target_column}\":result_list})\n",
    "df_three_used_in_selected_four = pd.DataFrame(result_list, columns=[f\"{search_column_name}\",f\"{target_column}\"])\n",
    "df_three_used_in_selected_four"
   ]
  },
  {
   "cell_type": "code",
   "execution_count": null,
   "metadata": {},
   "outputs": [],
   "source": [
    "df_three_used_in_selected_four2 = df_three_used_in_selected_four[~df_three_used_in_selected_four[\"threegram\"].isin(list(set(df_twogram_used_in_three_used_in_selected_four[\"threegram\"])))]\n",
    "df_three_used_in_selected_four2"
   ]
  },
  {
   "cell_type": "code",
   "execution_count": null,
   "metadata": {},
   "outputs": [],
   "source": [
    "#df_three_used_in_selected_four2.to_excel(f\"{lang_folder.capitalize()}_Threegram_Used_In_Selected_Fourgram_Result.xlsx\", index=False)"
   ]
  },
  {
   "cell_type": "code",
   "execution_count": null,
   "metadata": {},
   "outputs": [],
   "source": []
  },
  {
   "attachments": {},
   "cell_type": "markdown",
   "metadata": {},
   "source": [
    "##### Twogram Used In Threegram Used (3A)"
   ]
  },
  {
   "cell_type": "code",
   "execution_count": null,
   "metadata": {},
   "outputs": [],
   "source": [
    "# parameter\n",
    "source_wordgroup_list = twogram_used_list\n",
    "search_column_name = \"twogram\"\n",
    "target_column = \"threegram\"\n",
    "df_target = df_threegram_used\n",
    "\n",
    "# function\n",
    "#searchlist = []\n",
    "resultlist = []\n",
    "manager = multiprocessing.Manager()\n",
    "resultlist = manager.list()\n",
    "#searchlist = manager.list()\n",
    "\n",
    "def word_in_wordgroup(wordgroup):\n",
    "    try:\n",
    "        word_in_word_cluster = df_target[df_target[f\"{target_column}\"].str.contains(fr\"(?:\\s|^){wordgroup}(?:\\s|$)\", na=False)]  # na=True failed\n",
    "        for result in word_in_word_cluster[f\"{target_column}\"]:\n",
    "            #searchlist.append(wordgroup)\n",
    "            #resultlist.append(result)\n",
    "            resultlist.append([wordgroup,result])\n",
    "    except:\n",
    "        pass\n",
    "\n",
    "if __name__ == '__main__':\n",
    "    # with Pool(16) as p:\n",
    "    with Pool(nprocs-2) as p: # Pool number CPU sayısına eşit olursa tüm CPU lar çalışır\n",
    "        p.map(word_in_wordgroup, source_wordgroup_list) # string_word liste\n",
    "\n",
    "#search_list = list(searchlist)\n",
    "#result_list = list(resultlist)\n",
    "#df_word_in_two = pd.DataFrame([search_list,result_list]).transpose()\n",
    "#df_word_in_two.columns = [f\"{search_column_name}\",f\"{target_column}\"]\n",
    "#df_word_in_two"
   ]
  },
  {
   "cell_type": "code",
   "execution_count": null,
   "metadata": {},
   "outputs": [],
   "source": [
    "#search_list = list(searchlist)\n",
    "result_list = list(resultlist)\n",
    "#df_word_in_two = pd.DataFrame({f\"{search_column_name}\":search_list,f\"{target_column}\":result_list})\n",
    "df_two_used_in_three_used = pd.DataFrame(result_list, columns=[f\"{search_column_name}\",f\"{target_column}\"])\n",
    "df_two_used_in_three_used"
   ]
  },
  {
   "cell_type": "code",
   "execution_count": null,
   "metadata": {},
   "outputs": [],
   "source": []
  },
  {
   "cell_type": "code",
   "execution_count": null,
   "metadata": {},
   "outputs": [],
   "source": [
    "three_in_selected_four_list = list(set(df_twogram_used_in_three_used_in_selected_four[\"threegram\"]))"
   ]
  },
  {
   "cell_type": "code",
   "execution_count": null,
   "metadata": {},
   "outputs": [],
   "source": [
    "df_two_used_in_three_used_not_in_four = df_two_used_in_three_used[~df_two_used_in_three_used[\"threegram\"].isin(three_in_selected_four_list)]\n",
    "df_two_used_in_three_used_not_in_four"
   ]
  },
  {
   "cell_type": "code",
   "execution_count": null,
   "metadata": {},
   "outputs": [],
   "source": [
    "#df_two_used_in_three_used_not_in_four.to_excel(f\"{lang_folder.capitalize()}_Twogram_Used_In_Threegram_Used_Result.xlsx\", index=False)  # 3A "
   ]
  },
  {
   "cell_type": "code",
   "execution_count": null,
   "metadata": {},
   "outputs": [],
   "source": []
  },
  {
   "cell_type": "code",
   "execution_count": null,
   "metadata": {},
   "outputs": [],
   "source": []
  },
  {
   "attachments": {},
   "cell_type": "markdown",
   "metadata": {},
   "source": [
    "#### Give Reveal Course"
   ]
  },
  {
   "attachments": {},
   "cell_type": "markdown",
   "metadata": {},
   "source": [
    "##### Twogram In Threegram In Selected Fourgram (1B)"
   ]
  },
  {
   "cell_type": "code",
   "execution_count": 143,
   "metadata": {},
   "outputs": [],
   "source": [
    "# parameter\n",
    "source_wordgroup_list = threegram_list\n",
    "search_column_name = \"threegram\"\n",
    "target_column = \"fourgram\"\n",
    "df_target = df_fourgram_selected_for_course\n",
    "\n",
    "# function\n",
    "#searchlist = []\n",
    "resultlist = []\n",
    "manager = multiprocessing.Manager()\n",
    "resultlist = manager.list()\n",
    "#searchlist = manager.list()\n",
    "\n",
    "def word_in_wordgroup(wordgroup):\n",
    "    try:\n",
    "        word_in_word_cluster = df_target[df_target[f\"{target_column}\"].str.contains(fr\"(?:\\s|^){wordgroup}(?:\\s|$)\", na=False)]  # na=True failed\n",
    "        for result in word_in_word_cluster[f\"{target_column}\"]:\n",
    "            #searchlist.append(wordgroup)\n",
    "            #resultlist.append(result)\n",
    "            resultlist.append([wordgroup,result])\n",
    "    except:\n",
    "        pass\n",
    "\n",
    "if __name__ == '__main__':\n",
    "    # with Pool(16) as p:\n",
    "    with Pool(nprocs-2) as p: # Pool number CPU sayısına eşit olursa tüm CPU lar çalışır\n",
    "        p.map(word_in_wordgroup, source_wordgroup_list) # string_word liste"
   ]
  },
  {
   "cell_type": "code",
   "execution_count": 144,
   "metadata": {},
   "outputs": [
    {
     "data": {
      "text/html": [
       "<div>\n",
       "<style scoped>\n",
       "    .dataframe tbody tr th:only-of-type {\n",
       "        vertical-align: middle;\n",
       "    }\n",
       "\n",
       "    .dataframe tbody tr th {\n",
       "        vertical-align: top;\n",
       "    }\n",
       "\n",
       "    .dataframe thead th {\n",
       "        text-align: right;\n",
       "    }\n",
       "</style>\n",
       "<table border=\"1\" class=\"dataframe\">\n",
       "  <thead>\n",
       "    <tr style=\"text-align: right;\">\n",
       "      <th></th>\n",
       "      <th>threegram</th>\n",
       "      <th>fourgram</th>\n",
       "    </tr>\n",
       "  </thead>\n",
       "  <tbody>\n",
       "    <tr>\n",
       "      <th>0</th>\n",
       "      <td>her şey yolunda</td>\n",
       "      <td>her şey yolunda mı</td>\n",
       "    </tr>\n",
       "    <tr>\n",
       "      <th>1</th>\n",
       "      <td>sana bir şey</td>\n",
       "      <td>sana bir şey söyleyeyim</td>\n",
       "    </tr>\n",
       "    <tr>\n",
       "      <th>2</th>\n",
       "      <td>böyle bir şey</td>\n",
       "      <td>hiç böyle bir şey</td>\n",
       "    </tr>\n",
       "    <tr>\n",
       "      <th>3</th>\n",
       "      <td>böyle bir şey</td>\n",
       "      <td>böyle bir şey olmayacak</td>\n",
       "    </tr>\n",
       "    <tr>\n",
       "      <th>4</th>\n",
       "      <td>ne işin var</td>\n",
       "      <td>burada ne işin var</td>\n",
       "    </tr>\n",
       "    <tr>\n",
       "      <th>...</th>\n",
       "      <td>...</td>\n",
       "      <td>...</td>\n",
       "    </tr>\n",
       "    <tr>\n",
       "      <th>142</th>\n",
       "      <td>sakin ol tamam</td>\n",
       "      <td>sakin ol tamam mı</td>\n",
       "    </tr>\n",
       "    <tr>\n",
       "      <th>143</th>\n",
       "      <td>istiyor musun istemiyor</td>\n",
       "      <td>istiyor musun istemiyor musun</td>\n",
       "    </tr>\n",
       "    <tr>\n",
       "      <th>144</th>\n",
       "      <td>şey söyleyeyim mi</td>\n",
       "      <td>bir şey söyleyeyim mi</td>\n",
       "    </tr>\n",
       "    <tr>\n",
       "      <th>145</th>\n",
       "      <td>olur ne olmaz</td>\n",
       "      <td>ne olur ne olmaz</td>\n",
       "    </tr>\n",
       "    <tr>\n",
       "      <th>146</th>\n",
       "      <td>şey iyi olacak</td>\n",
       "      <td>her şey iyi olacak</td>\n",
       "    </tr>\n",
       "  </tbody>\n",
       "</table>\n",
       "<p>147 rows × 2 columns</p>\n",
       "</div>"
      ],
      "text/plain": [
       "                   threegram                       fourgram\n",
       "0            her şey yolunda             her şey yolunda mı\n",
       "1               sana bir şey        sana bir şey söyleyeyim\n",
       "2              böyle bir şey              hiç böyle bir şey\n",
       "3              böyle bir şey        böyle bir şey olmayacak\n",
       "4                ne işin var             burada ne işin var\n",
       "..                       ...                            ...\n",
       "142           sakin ol tamam              sakin ol tamam mı\n",
       "143  istiyor musun istemiyor  istiyor musun istemiyor musun\n",
       "144        şey söyleyeyim mi          bir şey söyleyeyim mi\n",
       "145            olur ne olmaz               ne olur ne olmaz\n",
       "146           şey iyi olacak             her şey iyi olacak\n",
       "\n",
       "[147 rows x 2 columns]"
      ]
     },
     "execution_count": 144,
     "metadata": {},
     "output_type": "execute_result"
    }
   ],
   "source": [
    "#search_list = list(searchlist)\n",
    "result_list = list(resultlist)\n",
    "#df_word_in_two = pd.DataFrame({f\"{search_column_name}\":search_list,f\"{target_column}\":result_list})\n",
    "df_threegram_in_selected_four = pd.DataFrame(result_list, columns=[f\"{search_column_name}\",f\"{target_column}\"])\n",
    "df_threegram_in_selected_four"
   ]
  },
  {
   "cell_type": "code",
   "execution_count": 145,
   "metadata": {},
   "outputs": [
    {
     "name": "stderr",
     "output_type": "stream",
     "text": [
      "<ipython-input-145-b6cd2c5833f9>:2: SettingWithCopyWarning: \n",
      "A value is trying to be set on a copy of a slice from a DataFrame\n",
      "\n",
      "See the caveats in the documentation: https://pandas.pydata.org/pandas-docs/stable/user_guide/indexing.html#returning-a-view-versus-a-copy\n",
      "  df_threegram_in_selected_four2.drop_duplicates(inplace=True)\n"
     ]
    },
    {
     "data": {
      "text/html": [
       "<div>\n",
       "<style scoped>\n",
       "    .dataframe tbody tr th:only-of-type {\n",
       "        vertical-align: middle;\n",
       "    }\n",
       "\n",
       "    .dataframe tbody tr th {\n",
       "        vertical-align: top;\n",
       "    }\n",
       "\n",
       "    .dataframe thead th {\n",
       "        text-align: right;\n",
       "    }\n",
       "</style>\n",
       "<table border=\"1\" class=\"dataframe\">\n",
       "  <thead>\n",
       "    <tr style=\"text-align: right;\">\n",
       "      <th></th>\n",
       "      <th>threegram</th>\n",
       "    </tr>\n",
       "  </thead>\n",
       "  <tbody>\n",
       "    <tr>\n",
       "      <th>0</th>\n",
       "      <td>her şey yolunda</td>\n",
       "    </tr>\n",
       "    <tr>\n",
       "      <th>1</th>\n",
       "      <td>sana bir şey</td>\n",
       "    </tr>\n",
       "    <tr>\n",
       "      <th>2</th>\n",
       "      <td>böyle bir şey</td>\n",
       "    </tr>\n",
       "    <tr>\n",
       "      <th>3</th>\n",
       "      <td>ne işin var</td>\n",
       "    </tr>\n",
       "    <tr>\n",
       "      <th>4</th>\n",
       "      <td>öyle bir şey</td>\n",
       "    </tr>\n",
       "    <tr>\n",
       "      <th>...</th>\n",
       "      <td>...</td>\n",
       "    </tr>\n",
       "    <tr>\n",
       "      <th>128</th>\n",
       "      <td>sakin ol tamam</td>\n",
       "    </tr>\n",
       "    <tr>\n",
       "      <th>129</th>\n",
       "      <td>istiyor musun istemiyor</td>\n",
       "    </tr>\n",
       "    <tr>\n",
       "      <th>130</th>\n",
       "      <td>şey söyleyeyim mi</td>\n",
       "    </tr>\n",
       "    <tr>\n",
       "      <th>131</th>\n",
       "      <td>olur ne olmaz</td>\n",
       "    </tr>\n",
       "    <tr>\n",
       "      <th>132</th>\n",
       "      <td>şey iyi olacak</td>\n",
       "    </tr>\n",
       "  </tbody>\n",
       "</table>\n",
       "<p>133 rows × 1 columns</p>\n",
       "</div>"
      ],
      "text/plain": [
       "                   threegram\n",
       "0            her şey yolunda\n",
       "1               sana bir şey\n",
       "2              böyle bir şey\n",
       "3                ne işin var\n",
       "4               öyle bir şey\n",
       "..                       ...\n",
       "128           sakin ol tamam\n",
       "129  istiyor musun istemiyor\n",
       "130        şey söyleyeyim mi\n",
       "131            olur ne olmaz\n",
       "132           şey iyi olacak\n",
       "\n",
       "[133 rows x 1 columns]"
      ]
     },
     "execution_count": 145,
     "metadata": {},
     "output_type": "execute_result"
    }
   ],
   "source": [
    "df_threegram_in_selected_four2 = df_threegram_in_selected_four[[\"threegram\"]]\n",
    "df_threegram_in_selected_four2.drop_duplicates(inplace=True)\n",
    "df_threegram_in_selected_four2.reset_index(drop=True, inplace=True)\n",
    "df_threegram_in_selected_four2"
   ]
  },
  {
   "cell_type": "code",
   "execution_count": 146,
   "metadata": {},
   "outputs": [],
   "source": [
    "# parameter\n",
    "source_wordgroup_list = twogram_list\n",
    "search_column_name = \"twogram\"\n",
    "target_column = \"threegram\"\n",
    "df_target = df_threegram_in_selected_four2\n",
    "\n",
    "# function\n",
    "#searchlist = []\n",
    "resultlist = []\n",
    "manager = multiprocessing.Manager()\n",
    "resultlist = manager.list()\n",
    "#searchlist = manager.list()\n",
    "\n",
    "def word_in_wordgroup(wordgroup):\n",
    "    try:\n",
    "        word_in_word_cluster = df_target[df_target[f\"{target_column}\"].str.contains(fr\"(?:\\s|^){wordgroup}(?:\\s|$)\", na=False)]  # na=True failed\n",
    "        for result in word_in_word_cluster[f\"{target_column}\"]:\n",
    "            #searchlist.append(wordgroup)\n",
    "            #resultlist.append(result)\n",
    "            resultlist.append([wordgroup,result])\n",
    "    except:\n",
    "        pass\n",
    "\n",
    "if __name__ == '__main__':\n",
    "    # with Pool(16) as p:\n",
    "    with Pool(nprocs-2) as p: # Pool number CPU sayısına eşit olursa tüm CPU lar çalışır\n",
    "        p.map(word_in_wordgroup, source_wordgroup_list) # string_word liste"
   ]
  },
  {
   "cell_type": "code",
   "execution_count": 147,
   "metadata": {},
   "outputs": [
    {
     "data": {
      "text/html": [
       "<div>\n",
       "<style scoped>\n",
       "    .dataframe tbody tr th:only-of-type {\n",
       "        vertical-align: middle;\n",
       "    }\n",
       "\n",
       "    .dataframe tbody tr th {\n",
       "        vertical-align: top;\n",
       "    }\n",
       "\n",
       "    .dataframe thead th {\n",
       "        text-align: right;\n",
       "    }\n",
       "</style>\n",
       "<table border=\"1\" class=\"dataframe\">\n",
       "  <thead>\n",
       "    <tr style=\"text-align: right;\">\n",
       "      <th></th>\n",
       "      <th>twogram</th>\n",
       "      <th>threegram</th>\n",
       "    </tr>\n",
       "  </thead>\n",
       "  <tbody>\n",
       "    <tr>\n",
       "      <th>0</th>\n",
       "      <td>ne demek</td>\n",
       "      <td>da ne demek</td>\n",
       "    </tr>\n",
       "    <tr>\n",
       "      <th>1</th>\n",
       "      <td>ne demek</td>\n",
       "      <td>ne demek oluyor</td>\n",
       "    </tr>\n",
       "    <tr>\n",
       "      <th>2</th>\n",
       "      <td>ne demek</td>\n",
       "      <td>ne demek biliyor</td>\n",
       "    </tr>\n",
       "    <tr>\n",
       "      <th>3</th>\n",
       "      <td>ne zaman</td>\n",
       "      <td>son ne zaman</td>\n",
       "    </tr>\n",
       "    <tr>\n",
       "      <th>4</th>\n",
       "      <td>da ne</td>\n",
       "      <td>da ne demek</td>\n",
       "    </tr>\n",
       "    <tr>\n",
       "      <th>...</th>\n",
       "      <td>...</td>\n",
       "      <td>...</td>\n",
       "    </tr>\n",
       "    <tr>\n",
       "      <th>206</th>\n",
       "      <td>şey buldun</td>\n",
       "      <td>bir şey buldun</td>\n",
       "    </tr>\n",
       "    <tr>\n",
       "      <th>207</th>\n",
       "      <td>şey buldun</td>\n",
       "      <td>şey buldun mu</td>\n",
       "    </tr>\n",
       "    <tr>\n",
       "      <th>208</th>\n",
       "      <td>öyle ya</td>\n",
       "      <td>öyle ya da</td>\n",
       "    </tr>\n",
       "    <tr>\n",
       "      <th>209</th>\n",
       "      <td>şey kontrol</td>\n",
       "      <td>her şey kontrol</td>\n",
       "    </tr>\n",
       "    <tr>\n",
       "      <th>210</th>\n",
       "      <td>şey kontrol</td>\n",
       "      <td>şey kontrol altında</td>\n",
       "    </tr>\n",
       "  </tbody>\n",
       "</table>\n",
       "<p>211 rows × 2 columns</p>\n",
       "</div>"
      ],
      "text/plain": [
       "         twogram            threegram\n",
       "0       ne demek          da ne demek\n",
       "1       ne demek      ne demek oluyor\n",
       "2       ne demek     ne demek biliyor\n",
       "3       ne zaman         son ne zaman\n",
       "4          da ne          da ne demek\n",
       "..           ...                  ...\n",
       "206   şey buldun       bir şey buldun\n",
       "207   şey buldun        şey buldun mu\n",
       "208      öyle ya           öyle ya da\n",
       "209  şey kontrol      her şey kontrol\n",
       "210  şey kontrol  şey kontrol altında\n",
       "\n",
       "[211 rows x 2 columns]"
      ]
     },
     "execution_count": 147,
     "metadata": {},
     "output_type": "execute_result"
    }
   ],
   "source": [
    "#search_list = list(searchlist)\n",
    "result_list = list(resultlist)\n",
    "#df_word_in_two = pd.DataFrame({f\"{search_column_name}\":search_list,f\"{target_column}\":result_list})\n",
    "df_twogram_in_threegram_in_selected_four2 = pd.DataFrame(result_list, columns=[f\"{search_column_name}\",f\"{target_column}\"])\n",
    "df_twogram_in_threegram_in_selected_four2"
   ]
  },
  {
   "cell_type": "code",
   "execution_count": 148,
   "metadata": {},
   "outputs": [
    {
     "data": {
      "text/html": [
       "<div>\n",
       "<style scoped>\n",
       "    .dataframe tbody tr th:only-of-type {\n",
       "        vertical-align: middle;\n",
       "    }\n",
       "\n",
       "    .dataframe tbody tr th {\n",
       "        vertical-align: top;\n",
       "    }\n",
       "\n",
       "    .dataframe thead th {\n",
       "        text-align: right;\n",
       "    }\n",
       "</style>\n",
       "<table border=\"1\" class=\"dataframe\">\n",
       "  <thead>\n",
       "    <tr style=\"text-align: right;\">\n",
       "      <th></th>\n",
       "      <th>twogram</th>\n",
       "      <th>threegram</th>\n",
       "      <th>fourgram</th>\n",
       "    </tr>\n",
       "  </thead>\n",
       "  <tbody>\n",
       "    <tr>\n",
       "      <th>0</th>\n",
       "      <td>ne demek</td>\n",
       "      <td>da ne demek</td>\n",
       "      <td>bu da ne demek</td>\n",
       "    </tr>\n",
       "    <tr>\n",
       "      <th>1</th>\n",
       "      <td>ne demek</td>\n",
       "      <td>da ne demek</td>\n",
       "      <td>da ne demek oluyor</td>\n",
       "    </tr>\n",
       "    <tr>\n",
       "      <th>2</th>\n",
       "      <td>da ne</td>\n",
       "      <td>da ne demek</td>\n",
       "      <td>bu da ne demek</td>\n",
       "    </tr>\n",
       "    <tr>\n",
       "      <th>3</th>\n",
       "      <td>da ne</td>\n",
       "      <td>da ne demek</td>\n",
       "      <td>da ne demek oluyor</td>\n",
       "    </tr>\n",
       "    <tr>\n",
       "      <th>4</th>\n",
       "      <td>ne demek</td>\n",
       "      <td>ne demek oluyor</td>\n",
       "      <td>da ne demek oluyor</td>\n",
       "    </tr>\n",
       "    <tr>\n",
       "      <th>...</th>\n",
       "      <td>...</td>\n",
       "      <td>...</td>\n",
       "      <td>...</td>\n",
       "    </tr>\n",
       "    <tr>\n",
       "      <th>227</th>\n",
       "      <td>mi hayır</td>\n",
       "      <td>evet mi hayır</td>\n",
       "      <td>evet mi hayır mı</td>\n",
       "    </tr>\n",
       "    <tr>\n",
       "      <th>228</th>\n",
       "      <td>yapıyorsun değil</td>\n",
       "      <td>yapıyorsun değil mi</td>\n",
       "      <td>şaka yapıyorsun değil mi</td>\n",
       "    </tr>\n",
       "    <tr>\n",
       "      <th>229</th>\n",
       "      <td>şey buldun</td>\n",
       "      <td>bir şey buldun</td>\n",
       "      <td>bir şey buldun mu</td>\n",
       "    </tr>\n",
       "    <tr>\n",
       "      <th>230</th>\n",
       "      <td>öyle ya</td>\n",
       "      <td>öyle ya da</td>\n",
       "      <td>öyle ya da böyle</td>\n",
       "    </tr>\n",
       "    <tr>\n",
       "      <th>231</th>\n",
       "      <td>şey kontrol</td>\n",
       "      <td>her şey kontrol</td>\n",
       "      <td>her şey kontrol altında</td>\n",
       "    </tr>\n",
       "  </tbody>\n",
       "</table>\n",
       "<p>232 rows × 3 columns</p>\n",
       "</div>"
      ],
      "text/plain": [
       "              twogram            threegram                  fourgram\n",
       "0            ne demek          da ne demek            bu da ne demek\n",
       "1            ne demek          da ne demek        da ne demek oluyor\n",
       "2               da ne          da ne demek            bu da ne demek\n",
       "3               da ne          da ne demek        da ne demek oluyor\n",
       "4            ne demek      ne demek oluyor        da ne demek oluyor\n",
       "..                ...                  ...                       ...\n",
       "227          mi hayır        evet mi hayır          evet mi hayır mı\n",
       "228  yapıyorsun değil  yapıyorsun değil mi  şaka yapıyorsun değil mi\n",
       "229        şey buldun       bir şey buldun         bir şey buldun mu\n",
       "230           öyle ya           öyle ya da          öyle ya da böyle\n",
       "231       şey kontrol      her şey kontrol   her şey kontrol altında\n",
       "\n",
       "[232 rows x 3 columns]"
      ]
     },
     "execution_count": 148,
     "metadata": {},
     "output_type": "execute_result"
    }
   ],
   "source": [
    "df_twogram_in_three_in_selected_four = pd.merge(df_twogram_in_threegram_in_selected_four2, df_threegram_in_selected_four, how=\"inner\", on=\"threegram\")\n",
    "df_twogram_in_three_in_selected_four.drop_duplicates(inplace=True)\n",
    "df_twogram_in_three_in_selected_four"
   ]
  },
  {
   "cell_type": "code",
   "execution_count": null,
   "metadata": {},
   "outputs": [],
   "source": [
    "#df_twogram_in_three_in_selected_four.to_excel(f\"{lang_folder.capitalize()}_Twogram_In_Threegram_In_Selected_Fourgram_Result.xlsx\", index=False)"
   ]
  },
  {
   "cell_type": "code",
   "execution_count": null,
   "metadata": {},
   "outputs": [],
   "source": []
  },
  {
   "attachments": {},
   "cell_type": "markdown",
   "metadata": {},
   "source": [
    "##### Twogram In Selected Fourgram (2B)"
   ]
  },
  {
   "cell_type": "code",
   "execution_count": 149,
   "metadata": {},
   "outputs": [],
   "source": [
    "# parameter\n",
    "source_wordgroup_list = twogram_list\n",
    "search_column_name = \"twogram\"\n",
    "target_column = \"fourgram\"\n",
    "df_target = df_fourgram_selected_for_course\n",
    "\n",
    "# function\n",
    "#searchlist = []\n",
    "resultlist = []\n",
    "manager = multiprocessing.Manager()\n",
    "resultlist = manager.list()\n",
    "#searchlist = manager.list()\n",
    "\n",
    "def word_in_wordgroup(wordgroup):\n",
    "    try:\n",
    "        word_in_word_cluster = df_target[df_target[f\"{target_column}\"].str.contains(fr\"(?:\\s|^){wordgroup}(?:\\s|$)\", na=False)]  # na=True failed\n",
    "        for result in word_in_word_cluster[f\"{target_column}\"]:\n",
    "            #searchlist.append(wordgroup)\n",
    "            #resultlist.append(result)\n",
    "            resultlist.append([wordgroup,result])\n",
    "    except:\n",
    "        pass\n",
    "\n",
    "if __name__ == '__main__':\n",
    "    # with Pool(16) as p:\n",
    "    with Pool(nprocs-2) as p: # Pool number CPU sayısına eşit olursa tüm CPU lar çalışır\n",
    "        p.map(word_in_wordgroup, source_wordgroup_list) # string_word liste"
   ]
  },
  {
   "cell_type": "code",
   "execution_count": 150,
   "metadata": {},
   "outputs": [
    {
     "data": {
      "text/html": [
       "<div>\n",
       "<style scoped>\n",
       "    .dataframe tbody tr th:only-of-type {\n",
       "        vertical-align: middle;\n",
       "    }\n",
       "\n",
       "    .dataframe tbody tr th {\n",
       "        vertical-align: top;\n",
       "    }\n",
       "\n",
       "    .dataframe thead th {\n",
       "        text-align: right;\n",
       "    }\n",
       "</style>\n",
       "<table border=\"1\" class=\"dataframe\">\n",
       "  <thead>\n",
       "    <tr style=\"text-align: right;\">\n",
       "      <th></th>\n",
       "      <th>twogram</th>\n",
       "      <th>fourgram</th>\n",
       "    </tr>\n",
       "  </thead>\n",
       "  <tbody>\n",
       "    <tr>\n",
       "      <th>0</th>\n",
       "      <td>ne demek</td>\n",
       "      <td>bu da ne demek</td>\n",
       "    </tr>\n",
       "    <tr>\n",
       "      <th>1</th>\n",
       "      <td>ne demek</td>\n",
       "      <td>da ne demek oluyor</td>\n",
       "    </tr>\n",
       "    <tr>\n",
       "      <th>2</th>\n",
       "      <td>ne demek</td>\n",
       "      <td>bu ne demek oluyor</td>\n",
       "    </tr>\n",
       "    <tr>\n",
       "      <th>3</th>\n",
       "      <td>ne demek</td>\n",
       "      <td>ne demek biliyor musun</td>\n",
       "    </tr>\n",
       "    <tr>\n",
       "      <th>4</th>\n",
       "      <td>ne demek</td>\n",
       "      <td>ne demek oluyor bu</td>\n",
       "    </tr>\n",
       "    <tr>\n",
       "      <th>...</th>\n",
       "      <td>...</td>\n",
       "      <td>...</td>\n",
       "    </tr>\n",
       "    <tr>\n",
       "      <th>209</th>\n",
       "      <td>mi hayır</td>\n",
       "      <td>evet mi hayır mı</td>\n",
       "    </tr>\n",
       "    <tr>\n",
       "      <th>210</th>\n",
       "      <td>yapıyorsun değil</td>\n",
       "      <td>şaka yapıyorsun değil mi</td>\n",
       "    </tr>\n",
       "    <tr>\n",
       "      <th>211</th>\n",
       "      <td>şey buldun</td>\n",
       "      <td>bir şey buldun mu</td>\n",
       "    </tr>\n",
       "    <tr>\n",
       "      <th>212</th>\n",
       "      <td>öyle ya</td>\n",
       "      <td>öyle ya da böyle</td>\n",
       "    </tr>\n",
       "    <tr>\n",
       "      <th>213</th>\n",
       "      <td>şey kontrol</td>\n",
       "      <td>her şey kontrol altında</td>\n",
       "    </tr>\n",
       "  </tbody>\n",
       "</table>\n",
       "<p>214 rows × 2 columns</p>\n",
       "</div>"
      ],
      "text/plain": [
       "              twogram                  fourgram\n",
       "0            ne demek            bu da ne demek\n",
       "1            ne demek        da ne demek oluyor\n",
       "2            ne demek        bu ne demek oluyor\n",
       "3            ne demek    ne demek biliyor musun\n",
       "4            ne demek        ne demek oluyor bu\n",
       "..                ...                       ...\n",
       "209          mi hayır          evet mi hayır mı\n",
       "210  yapıyorsun değil  şaka yapıyorsun değil mi\n",
       "211        şey buldun         bir şey buldun mu\n",
       "212           öyle ya          öyle ya da böyle\n",
       "213       şey kontrol   her şey kontrol altında\n",
       "\n",
       "[214 rows x 2 columns]"
      ]
     },
     "execution_count": 150,
     "metadata": {},
     "output_type": "execute_result"
    }
   ],
   "source": [
    "#search_list = list(searchlist)\n",
    "result_list = list(resultlist)\n",
    "#df_word_in_two = pd.DataFrame({f\"{search_column_name}\":search_list,f\"{target_column}\":result_list})\n",
    "df_two_in_selected_four = pd.DataFrame(result_list, columns=[f\"{search_column_name}\",f\"{target_column}\"])\n",
    "df_two_in_selected_four"
   ]
  },
  {
   "cell_type": "code",
   "execution_count": null,
   "metadata": {},
   "outputs": [],
   "source": [
    "#df_two_in_selected_four_list = df_two_in_selected_four.groupby([\"twogram\"])[\"fourgram\"].apply(list).reset_index(name=\"fourgram\")\n",
    "#df_two_in_selected_four_list"
   ]
  },
  {
   "cell_type": "code",
   "execution_count": 151,
   "metadata": {},
   "outputs": [
    {
     "data": {
      "text/html": [
       "<div>\n",
       "<style scoped>\n",
       "    .dataframe tbody tr th:only-of-type {\n",
       "        vertical-align: middle;\n",
       "    }\n",
       "\n",
       "    .dataframe tbody tr th {\n",
       "        vertical-align: top;\n",
       "    }\n",
       "\n",
       "    .dataframe thead th {\n",
       "        text-align: right;\n",
       "    }\n",
       "</style>\n",
       "<table border=\"1\" class=\"dataframe\">\n",
       "  <thead>\n",
       "    <tr style=\"text-align: right;\">\n",
       "      <th></th>\n",
       "      <th>twogram</th>\n",
       "      <th>fourgram</th>\n",
       "    </tr>\n",
       "  </thead>\n",
       "  <tbody>\n",
       "    <tr>\n",
       "      <th>10</th>\n",
       "      <td>başka bir</td>\n",
       "      <td>başka bir şey var</td>\n",
       "    </tr>\n",
       "    <tr>\n",
       "      <th>11</th>\n",
       "      <td>başka bir</td>\n",
       "      <td>başka bir şey yok</td>\n",
       "    </tr>\n",
       "    <tr>\n",
       "      <th>12</th>\n",
       "      <td>başka bir</td>\n",
       "      <td>başka bir şey değil</td>\n",
       "    </tr>\n",
       "    <tr>\n",
       "      <th>13</th>\n",
       "      <td>başka bir</td>\n",
       "      <td>başka bir şey daha</td>\n",
       "    </tr>\n",
       "    <tr>\n",
       "      <th>30</th>\n",
       "      <td>şey var</td>\n",
       "      <td>bir şey var mı</td>\n",
       "    </tr>\n",
       "    <tr>\n",
       "      <th>31</th>\n",
       "      <td>şey var</td>\n",
       "      <td>gereken bir şey var</td>\n",
       "    </tr>\n",
       "    <tr>\n",
       "      <th>32</th>\n",
       "      <td>şey var</td>\n",
       "      <td>başka bir şey var</td>\n",
       "    </tr>\n",
       "    <tr>\n",
       "      <th>33</th>\n",
       "      <td>şey var</td>\n",
       "      <td>istediğim bir şey var</td>\n",
       "    </tr>\n",
       "    <tr>\n",
       "      <th>34</th>\n",
       "      <td>şey var</td>\n",
       "      <td>istediğin bir şey var</td>\n",
       "    </tr>\n",
       "    <tr>\n",
       "      <th>37</th>\n",
       "      <td>de öyle</td>\n",
       "      <td>evet ben de öyle</td>\n",
       "    </tr>\n",
       "    <tr>\n",
       "      <th>97</th>\n",
       "      <td>neden bu</td>\n",
       "      <td>neden bu kadar uzun</td>\n",
       "    </tr>\n",
       "    <tr>\n",
       "      <th>98</th>\n",
       "      <td>neden bu</td>\n",
       "      <td>neden bu kadar çok</td>\n",
       "    </tr>\n",
       "    <tr>\n",
       "      <th>109</th>\n",
       "      <td>kadar mı</td>\n",
       "      <td>hepsi bu kadar mı</td>\n",
       "    </tr>\n",
       "    <tr>\n",
       "      <th>118</th>\n",
       "      <td>çok uzun</td>\n",
       "      <td>çok uzun zaman oldu</td>\n",
       "    </tr>\n",
       "    <tr>\n",
       "      <th>121</th>\n",
       "      <td>zaman oldu</td>\n",
       "      <td>çok uzun zaman oldu</td>\n",
       "    </tr>\n",
       "    <tr>\n",
       "      <th>127</th>\n",
       "      <td>güzel değil</td>\n",
       "      <td>çok güzel değil mi</td>\n",
       "    </tr>\n",
       "    <tr>\n",
       "      <th>128</th>\n",
       "      <td>kadar çok</td>\n",
       "      <td>neden bu kadar çok</td>\n",
       "    </tr>\n",
       "    <tr>\n",
       "      <th>139</th>\n",
       "      <td>önce de</td>\n",
       "      <td>bunu daha önce de</td>\n",
       "    </tr>\n",
       "    <tr>\n",
       "      <th>167</th>\n",
       "      <td>kadar uzun</td>\n",
       "      <td>neden bu kadar uzun</td>\n",
       "    </tr>\n",
       "    <tr>\n",
       "      <th>187</th>\n",
       "      <td>de biliyorsun</td>\n",
       "      <td>bunu sen de biliyorsun</td>\n",
       "    </tr>\n",
       "  </tbody>\n",
       "</table>\n",
       "</div>"
      ],
      "text/plain": [
       "           twogram                fourgram\n",
       "10       başka bir       başka bir şey var\n",
       "11       başka bir       başka bir şey yok\n",
       "12       başka bir     başka bir şey değil\n",
       "13       başka bir      başka bir şey daha\n",
       "30         şey var          bir şey var mı\n",
       "31         şey var     gereken bir şey var\n",
       "32         şey var       başka bir şey var\n",
       "33         şey var   istediğim bir şey var\n",
       "34         şey var   istediğin bir şey var\n",
       "37         de öyle        evet ben de öyle\n",
       "97        neden bu     neden bu kadar uzun\n",
       "98        neden bu      neden bu kadar çok\n",
       "109       kadar mı       hepsi bu kadar mı\n",
       "118       çok uzun     çok uzun zaman oldu\n",
       "121     zaman oldu     çok uzun zaman oldu\n",
       "127    güzel değil      çok güzel değil mi\n",
       "128      kadar çok      neden bu kadar çok\n",
       "139        önce de       bunu daha önce de\n",
       "167     kadar uzun     neden bu kadar uzun\n",
       "187  de biliyorsun  bunu sen de biliyorsun"
      ]
     },
     "execution_count": 151,
     "metadata": {},
     "output_type": "execute_result"
    }
   ],
   "source": [
    "df_two_in_selected_four2 = df_two_in_selected_four[~df_two_in_selected_four[\"twogram\"].isin(list(set(df_twogram_in_three_in_selected_four[\"twogram\"])))]\n",
    "df_two_in_selected_four2"
   ]
  },
  {
   "cell_type": "code",
   "execution_count": null,
   "metadata": {},
   "outputs": [],
   "source": [
    "#df_two_in_selected_four2.to_excel(f\"{lang_folder.capitalize()}_Twogram_In_Selected_Fourgram_Result.xlsx\", index=False)"
   ]
  },
  {
   "cell_type": "code",
   "execution_count": null,
   "metadata": {},
   "outputs": [],
   "source": []
  },
  {
   "attachments": {},
   "cell_type": "markdown",
   "metadata": {},
   "source": [
    "##### Threegram In Selected Fourgram (4B)"
   ]
  },
  {
   "cell_type": "code",
   "execution_count": 152,
   "metadata": {},
   "outputs": [],
   "source": [
    "# parameter\n",
    "source_wordgroup_list = threegram_list\n",
    "search_column_name = \"threegram\"\n",
    "target_column = \"fourgram\"\n",
    "df_target = df_fourgram_selected_for_course\n",
    "\n",
    "# function\n",
    "#searchlist = []\n",
    "resultlist = []\n",
    "manager = multiprocessing.Manager()\n",
    "resultlist = manager.list()\n",
    "#searchlist = manager.list()\n",
    "\n",
    "def word_in_wordgroup(wordgroup):\n",
    "    try:\n",
    "        word_in_word_cluster = df_target[df_target[f\"{target_column}\"].str.contains(fr\"(?:\\s|^){wordgroup}(?:\\s|$)\", na=False)]  # na=True failed\n",
    "        for result in word_in_word_cluster[f\"{target_column}\"]:\n",
    "            #searchlist.append(wordgroup)\n",
    "            #resultlist.append(result)\n",
    "            resultlist.append([wordgroup,result])\n",
    "    except:\n",
    "        pass\n",
    "\n",
    "if __name__ == '__main__':\n",
    "    # with Pool(16) as p:\n",
    "    with Pool(nprocs-2) as p: # Pool number CPU sayısına eşit olursa tüm CPU lar çalışır\n",
    "        p.map(word_in_wordgroup, source_wordgroup_list) # string_word liste"
   ]
  },
  {
   "cell_type": "code",
   "execution_count": 153,
   "metadata": {},
   "outputs": [
    {
     "data": {
      "text/html": [
       "<div>\n",
       "<style scoped>\n",
       "    .dataframe tbody tr th:only-of-type {\n",
       "        vertical-align: middle;\n",
       "    }\n",
       "\n",
       "    .dataframe tbody tr th {\n",
       "        vertical-align: top;\n",
       "    }\n",
       "\n",
       "    .dataframe thead th {\n",
       "        text-align: right;\n",
       "    }\n",
       "</style>\n",
       "<table border=\"1\" class=\"dataframe\">\n",
       "  <thead>\n",
       "    <tr style=\"text-align: right;\">\n",
       "      <th></th>\n",
       "      <th>threegram</th>\n",
       "      <th>fourgram</th>\n",
       "    </tr>\n",
       "  </thead>\n",
       "  <tbody>\n",
       "    <tr>\n",
       "      <th>0</th>\n",
       "      <td>her şey yolunda</td>\n",
       "      <td>her şey yolunda mı</td>\n",
       "    </tr>\n",
       "    <tr>\n",
       "      <th>1</th>\n",
       "      <td>sana bir şey</td>\n",
       "      <td>sana bir şey söyleyeyim</td>\n",
       "    </tr>\n",
       "    <tr>\n",
       "      <th>2</th>\n",
       "      <td>böyle bir şey</td>\n",
       "      <td>hiç böyle bir şey</td>\n",
       "    </tr>\n",
       "    <tr>\n",
       "      <th>3</th>\n",
       "      <td>böyle bir şey</td>\n",
       "      <td>böyle bir şey olmayacak</td>\n",
       "    </tr>\n",
       "    <tr>\n",
       "      <th>4</th>\n",
       "      <td>ne işin var</td>\n",
       "      <td>burada ne işin var</td>\n",
       "    </tr>\n",
       "    <tr>\n",
       "      <th>...</th>\n",
       "      <td>...</td>\n",
       "      <td>...</td>\n",
       "    </tr>\n",
       "    <tr>\n",
       "      <th>142</th>\n",
       "      <td>sakin ol tamam</td>\n",
       "      <td>sakin ol tamam mı</td>\n",
       "    </tr>\n",
       "    <tr>\n",
       "      <th>143</th>\n",
       "      <td>istiyor musun istemiyor</td>\n",
       "      <td>istiyor musun istemiyor musun</td>\n",
       "    </tr>\n",
       "    <tr>\n",
       "      <th>144</th>\n",
       "      <td>şey söyleyeyim mi</td>\n",
       "      <td>bir şey söyleyeyim mi</td>\n",
       "    </tr>\n",
       "    <tr>\n",
       "      <th>145</th>\n",
       "      <td>olur ne olmaz</td>\n",
       "      <td>ne olur ne olmaz</td>\n",
       "    </tr>\n",
       "    <tr>\n",
       "      <th>146</th>\n",
       "      <td>şey iyi olacak</td>\n",
       "      <td>her şey iyi olacak</td>\n",
       "    </tr>\n",
       "  </tbody>\n",
       "</table>\n",
       "<p>147 rows × 2 columns</p>\n",
       "</div>"
      ],
      "text/plain": [
       "                   threegram                       fourgram\n",
       "0            her şey yolunda             her şey yolunda mı\n",
       "1               sana bir şey        sana bir şey söyleyeyim\n",
       "2              böyle bir şey              hiç böyle bir şey\n",
       "3              böyle bir şey        böyle bir şey olmayacak\n",
       "4                ne işin var             burada ne işin var\n",
       "..                       ...                            ...\n",
       "142           sakin ol tamam              sakin ol tamam mı\n",
       "143  istiyor musun istemiyor  istiyor musun istemiyor musun\n",
       "144        şey söyleyeyim mi          bir şey söyleyeyim mi\n",
       "145            olur ne olmaz               ne olur ne olmaz\n",
       "146           şey iyi olacak             her şey iyi olacak\n",
       "\n",
       "[147 rows x 2 columns]"
      ]
     },
     "execution_count": 153,
     "metadata": {},
     "output_type": "execute_result"
    }
   ],
   "source": [
    "#search_list = list(searchlist)\n",
    "result_list = list(resultlist)\n",
    "#df_word_in_two = pd.DataFrame({f\"{search_column_name}\":search_list,f\"{target_column}\":result_list})\n",
    "df_three_in_selected_four = pd.DataFrame(result_list, columns=[f\"{search_column_name}\",f\"{target_column}\"])\n",
    "df_three_in_selected_four"
   ]
  },
  {
   "cell_type": "code",
   "execution_count": null,
   "metadata": {},
   "outputs": [],
   "source": [
    "#df_three_in_selected_four_list = df_three_in_selected_four.groupby([\"threegram\"])[\"fourgram\"].apply(list).reset_index(name=\"fourgram\")\n",
    "#df_three_in_selected_four_list"
   ]
  },
  {
   "cell_type": "code",
   "execution_count": 156,
   "metadata": {},
   "outputs": [
    {
     "data": {
      "text/html": [
       "<div>\n",
       "<style scoped>\n",
       "    .dataframe tbody tr th:only-of-type {\n",
       "        vertical-align: middle;\n",
       "    }\n",
       "\n",
       "    .dataframe tbody tr th {\n",
       "        vertical-align: top;\n",
       "    }\n",
       "\n",
       "    .dataframe thead th {\n",
       "        text-align: right;\n",
       "    }\n",
       "</style>\n",
       "<table border=\"1\" class=\"dataframe\">\n",
       "  <thead>\n",
       "    <tr style=\"text-align: right;\">\n",
       "      <th></th>\n",
       "      <th>threegram</th>\n",
       "      <th>fourgram</th>\n",
       "    </tr>\n",
       "  </thead>\n",
       "  <tbody>\n",
       "  </tbody>\n",
       "</table>\n",
       "</div>"
      ],
      "text/plain": [
       "Empty DataFrame\n",
       "Columns: [threegram, fourgram]\n",
       "Index: []"
      ]
     },
     "execution_count": 156,
     "metadata": {},
     "output_type": "execute_result"
    }
   ],
   "source": [
    "df_three_in_selected_four2 = df_three_in_selected_four[~df_three_in_selected_four[\"threegram\"].isin(list(set(df_twogram_in_three_in_selected_four[\"threegram\"])))]\n",
    "df_three_in_selected_four2"
   ]
  },
  {
   "cell_type": "code",
   "execution_count": null,
   "metadata": {},
   "outputs": [],
   "source": [
    "#df_three_in_selected_four2.to_excel(f\"{lang_folder.capitalize()}_Threegram_In_Selected_Fourgram_Result.xlsx\", index=False)"
   ]
  },
  {
   "cell_type": "code",
   "execution_count": null,
   "metadata": {},
   "outputs": [],
   "source": []
  },
  {
   "attachments": {},
   "cell_type": "markdown",
   "metadata": {},
   "source": [
    "##### Twogram In Threegram (3B)"
   ]
  },
  {
   "cell_type": "code",
   "execution_count": null,
   "metadata": {},
   "outputs": [],
   "source": [
    "# parameter\n",
    "source_wordgroup_list = twogram_list\n",
    "search_column_name = \"twogram\"\n",
    "target_column = \"threegram\"\n",
    "df_target = df_threegram\n",
    "\n",
    "# function\n",
    "#searchlist = []\n",
    "resultlist = []\n",
    "manager = multiprocessing.Manager()\n",
    "resultlist = manager.list()\n",
    "#searchlist = manager.list()\n",
    "\n",
    "def word_in_wordgroup(wordgroup):\n",
    "    try:\n",
    "        word_in_word_cluster = df_target[df_target[f\"{target_column}\"].str.contains(fr\"(?:\\s|^){wordgroup}(?:\\s|$)\", na=False)]  # na=True failed\n",
    "        for result in word_in_word_cluster[f\"{target_column}\"]:\n",
    "            #searchlist.append(wordgroup)\n",
    "            #resultlist.append(result)\n",
    "            resultlist.append([wordgroup,result])\n",
    "    except:\n",
    "        pass\n",
    "\n",
    "if __name__ == '__main__':\n",
    "    # with Pool(16) as p:\n",
    "    with Pool(nprocs-2) as p: # Pool number CPU sayısına eşit olursa tüm CPU lar çalışır\n",
    "        p.map(word_in_wordgroup, source_wordgroup_list) # string_word liste\n",
    "\n",
    "#search_list = list(searchlist)\n",
    "#result_list = list(resultlist)\n",
    "#df_word_in_two = pd.DataFrame([search_list,result_list]).transpose()\n",
    "#df_word_in_two.columns = [f\"{search_column_name}\",f\"{target_column}\"]\n",
    "#df_word_in_two"
   ]
  },
  {
   "cell_type": "code",
   "execution_count": null,
   "metadata": {},
   "outputs": [],
   "source": [
    "#search_list = list(searchlist)\n",
    "result_list = list(resultlist)\n",
    "#df_word_in_two = pd.DataFrame({f\"{search_column_name}\":search_list,f\"{target_column}\":result_list})\n",
    "df_two_in_three = pd.DataFrame(result_list, columns=[f\"{search_column_name}\",f\"{target_column}\"])\n",
    "df_two_in_three"
   ]
  },
  {
   "cell_type": "code",
   "execution_count": null,
   "metadata": {},
   "outputs": [],
   "source": [
    "df_two_in_threegram_list = df_two_in_three.groupby([\"twogram\"])[\"threegram\"].apply(list).reset_index(name=\"threegram\")\n",
    "df_two_in_threegram_list"
   ]
  },
  {
   "cell_type": "code",
   "execution_count": null,
   "metadata": {},
   "outputs": [],
   "source": [
    "#df_two_in_threegram_list.to_excel(f\"{lang_folder.capitalize()}_Twogram_In_Threegram_Result.xlsx\", index=False)"
   ]
  },
  {
   "cell_type": "code",
   "execution_count": null,
   "metadata": {},
   "outputs": [],
   "source": []
  },
  {
   "cell_type": "code",
   "execution_count": null,
   "metadata": {},
   "outputs": [],
   "source": []
  },
  {
   "cell_type": "markdown",
   "metadata": {},
   "source": [
    "#### Copy Move And Delete"
   ]
  },
  {
   "cell_type": "code",
   "execution_count": null,
   "metadata": {},
   "outputs": [],
   "source": [
    "output_file = glob.glob(f\"{lang_folder.capitalize()}_*_Text_Selection_Result*\")\n",
    "#output_file = glob.glob(f\"*_Selected_*.xlsx\")\n",
    "output_file"
   ]
  },
  {
   "cell_type": "code",
   "execution_count": null,
   "metadata": {},
   "outputs": [],
   "source": [
    "for l in output_file:\n",
    "    source = l # source directory\n",
    "    destination = path\n",
    "    shutil.copy2(source, destination)"
   ]
  },
  {
   "cell_type": "code",
   "execution_count": null,
   "metadata": {},
   "outputs": [],
   "source": [
    "for j in output_file:\n",
    "    try:\n",
    "        os.remove(j)\n",
    "    except:\n",
    "        pass"
   ]
  },
  {
   "cell_type": "code",
   "execution_count": null,
   "metadata": {},
   "outputs": [],
   "source": []
  },
  {
   "cell_type": "code",
   "execution_count": null,
   "metadata": {},
   "outputs": [],
   "source": []
  },
  {
   "cell_type": "code",
   "execution_count": null,
   "metadata": {},
   "outputs": [],
   "source": []
  }
 ],
 "metadata": {
  "kernelspec": {
   "display_name": "Python 3.9.5 ('py39')",
   "language": "python",
   "name": "python3"
  },
  "language_info": {
   "codemirror_mode": {
    "name": "ipython",
    "version": 3
   },
   "file_extension": ".py",
   "mimetype": "text/x-python",
   "name": "python",
   "nbconvert_exporter": "python",
   "pygments_lexer": "ipython3",
   "version": "3.9.5"
  },
  "orig_nbformat": 4,
  "vscode": {
   "interpreter": {
    "hash": "651d507d70892fab0fc6529d935cd476f6e2eb1791525b76da6cc8da34bc0503"
   }
  }
 },
 "nbformat": 4,
 "nbformat_minor": 2
}
