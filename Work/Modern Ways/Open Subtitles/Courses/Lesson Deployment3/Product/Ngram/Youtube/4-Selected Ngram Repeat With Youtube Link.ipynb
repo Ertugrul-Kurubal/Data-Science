{
 "cells": [
  {
   "attachments": {},
   "cell_type": "markdown",
   "metadata": {},
   "source": [
    "### Selected Ngram Repeat With Youtube Link"
   ]
  },
  {
   "cell_type": "code",
   "execution_count": 1,
   "metadata": {},
   "outputs": [],
   "source": [
    "import os\n",
    "import multiprocessing\n",
    "#import multiprocessing as mp\n",
    "from multiprocessing import Process, Manager, Pool, Queue\n",
    "from itertools import islice\n",
    "from collections import Counter\n",
    "import re\n",
    "import pandas as pd\n",
    "import numpy as np\n",
    "import glob\n",
    "import nltk\n",
    "from nltk import word_tokenize\n",
    "from nltk import ngrams\n",
    "from functools import reduce\n",
    "from pathlib import Path\n",
    "import shutil"
   ]
  },
  {
   "cell_type": "code",
   "execution_count": 2,
   "metadata": {},
   "outputs": [
    {
     "name": "stdout",
     "output_type": "stream",
     "text": [
      "Number of CPU cores: 16\n"
     ]
    }
   ],
   "source": [
    "nprocs = multiprocessing.cpu_count()\n",
    "print(f\"Number of CPU cores: {nprocs}\")"
   ]
  },
  {
   "cell_type": "code",
   "execution_count": 3,
   "metadata": {},
   "outputs": [],
   "source": [
    "# language pair\n",
    "lang_folder = \"Turkish\"  # Arabic, English, French, German, Turkish, Spanish, Portuguese, Dutch, Italian ==> target language for learner\n",
    "#lang_pair = \"Intersect\"  # Arabic, English, French, German, Turkish, Spanish, Portuguese, Dutch, Italian ==> native language\n",
    "\n",
    "# adding native word to shared word\n",
    "word_start = 0  # 0 native word start index\n",
    "word_end = 1000  # 28 native word end index"
   ]
  },
  {
   "cell_type": "code",
   "execution_count": 4,
   "metadata": {},
   "outputs": [],
   "source": [
    "def df_col_value_join_comma(df, df_columns_list):\n",
    "    '''\n",
    "    df_col_value_join_comma(df_test, [\"video_id\",\"start_time\",\"end_time\"])\\n\n",
    "    function used for selected column value join with comma in one row\n",
    "    '''\n",
    "    column_value_list = []\n",
    "    for column in df_columns_list:\n",
    "        list_var = df[f\"{column}\"].to_list()\n",
    "        list_var_string = [str(x) for x in list_var] \n",
    "        list_var_join = \",\".join(list_var_string)\n",
    "        column_value_list.append(list_var_join)\n",
    "\n",
    "    df_result = pd.DataFrame([[column_value_list[0],column_value_list[1],column_value_list[2]]], columns=df_columns_list)\n",
    "\n",
    "    return df_result"
   ]
  },
  {
   "cell_type": "code",
   "execution_count": 5,
   "metadata": {},
   "outputs": [],
   "source": [
    "#data_path = f\"/media/kurubal/SSD/Data Scientist/Work/Modern Ways/Project/{lang_folder.capitalize()}/\\\n",
    "#Deployment3/Data/Manuel Select\""
   ]
  },
  {
   "cell_type": "code",
   "execution_count": 6,
   "metadata": {},
   "outputs": [],
   "source": [
    "path = f\"/media/kurubal/SSD/Data Scientist/Work/Modern Ways/Project/{lang_folder.capitalize()}/\\\n",
    "Deployment3/Result/4-Selected Ngram Repeat With Youtube Link\"\n",
    "\n",
    "Path(path).mkdir(parents=True, exist_ok=True)"
   ]
  },
  {
   "attachments": {},
   "cell_type": "markdown",
   "metadata": {},
   "source": [
    "##### Link Count"
   ]
  },
  {
   "cell_type": "code",
   "execution_count": 28,
   "metadata": {},
   "outputs": [],
   "source": [
    "# file extention\n",
    "file_ext = \"Twogram\""
   ]
  },
  {
   "cell_type": "code",
   "execution_count": 29,
   "metadata": {},
   "outputs": [],
   "source": [
    "path_folder = f\"/media/kurubal/SSD/Data Scientist/Work/Modern Ways/Project/{lang_folder.capitalize()}/Deployment3/Result/Ngram Youtube Link Manuel\"\n",
    "file = f\"{lang_folder.capitalize()}_{file_ext}_With_{word_end}_Word_Youtube_Link_Manuel_12.xlsx\"   ########*****\n",
    "#sheet = \"Sheet1\"  # Sheet1"
   ]
  },
  {
   "cell_type": "code",
   "execution_count": 30,
   "metadata": {},
   "outputs": [
    {
     "data": {
      "text/html": [
       "<div>\n",
       "<style scoped>\n",
       "    .dataframe tbody tr th:only-of-type {\n",
       "        vertical-align: middle;\n",
       "    }\n",
       "\n",
       "    .dataframe tbody tr th {\n",
       "        vertical-align: top;\n",
       "    }\n",
       "\n",
       "    .dataframe thead th {\n",
       "        text-align: right;\n",
       "    }\n",
       "</style>\n",
       "<table border=\"1\" class=\"dataframe\">\n",
       "  <thead>\n",
       "    <tr style=\"text-align: right;\">\n",
       "      <th></th>\n",
       "      <th>video_id</th>\n",
       "      <th>start_time</th>\n",
       "      <th>end_time</th>\n",
       "      <th>text</th>\n",
       "    </tr>\n",
       "  </thead>\n",
       "  <tbody>\n",
       "    <tr>\n",
       "      <th>0</th>\n",
       "      <td>NtoRI5nlwKw</td>\n",
       "      <td>1073</td>\n",
       "      <td>1075</td>\n",
       "      <td>duyuyor musun</td>\n",
       "    </tr>\n",
       "    <tr>\n",
       "      <th>1</th>\n",
       "      <td>CwuGepQDBrM</td>\n",
       "      <td>153</td>\n",
       "      <td>155</td>\n",
       "      <td>güzel bir</td>\n",
       "    </tr>\n",
       "    <tr>\n",
       "      <th>2</th>\n",
       "      <td>UQDUQnVUtq4</td>\n",
       "      <td>942</td>\n",
       "      <td>944</td>\n",
       "      <td>güzel bir</td>\n",
       "    </tr>\n",
       "    <tr>\n",
       "      <th>3</th>\n",
       "      <td>dRCz3FhBk08</td>\n",
       "      <td>97</td>\n",
       "      <td>99</td>\n",
       "      <td>güzel bir</td>\n",
       "    </tr>\n",
       "    <tr>\n",
       "      <th>4</th>\n",
       "      <td>7XVwNBlTIWs</td>\n",
       "      <td>13574</td>\n",
       "      <td>13576</td>\n",
       "      <td>güzel bir</td>\n",
       "    </tr>\n",
       "    <tr>\n",
       "      <th>...</th>\n",
       "      <td>...</td>\n",
       "      <td>...</td>\n",
       "      <td>...</td>\n",
       "      <td>...</td>\n",
       "    </tr>\n",
       "    <tr>\n",
       "      <th>973</th>\n",
       "      <td>y7o33BX7ec0</td>\n",
       "      <td>428</td>\n",
       "      <td>430</td>\n",
       "      <td>yardım etmek</td>\n",
       "    </tr>\n",
       "    <tr>\n",
       "      <th>974</th>\n",
       "      <td>0qGrmkm6r44</td>\n",
       "      <td>520</td>\n",
       "      <td>522</td>\n",
       "      <td>yardım etmek</td>\n",
       "    </tr>\n",
       "    <tr>\n",
       "      <th>975</th>\n",
       "      <td>Chvvzy8loOE</td>\n",
       "      <td>1369</td>\n",
       "      <td>1371</td>\n",
       "      <td>yardım etmek</td>\n",
       "    </tr>\n",
       "    <tr>\n",
       "      <th>976</th>\n",
       "      <td>0Hyrz58zvcA</td>\n",
       "      <td>1400</td>\n",
       "      <td>1402</td>\n",
       "      <td>yardım etmek</td>\n",
       "    </tr>\n",
       "    <tr>\n",
       "      <th>977</th>\n",
       "      <td>MQHbftE4Cyc</td>\n",
       "      <td>350</td>\n",
       "      <td>352</td>\n",
       "      <td>yardım etmek</td>\n",
       "    </tr>\n",
       "  </tbody>\n",
       "</table>\n",
       "<p>978 rows × 4 columns</p>\n",
       "</div>"
      ],
      "text/plain": [
       "        video_id  start_time  end_time           text\n",
       "0    NtoRI5nlwKw        1073      1075  duyuyor musun\n",
       "1    CwuGepQDBrM         153       155      güzel bir\n",
       "2    UQDUQnVUtq4         942       944      güzel bir\n",
       "3    dRCz3FhBk08          97        99      güzel bir\n",
       "4    7XVwNBlTIWs       13574     13576      güzel bir\n",
       "..           ...         ...       ...            ...\n",
       "973  y7o33BX7ec0         428       430   yardım etmek\n",
       "974  0qGrmkm6r44         520       522   yardım etmek\n",
       "975  Chvvzy8loOE        1369      1371   yardım etmek\n",
       "976  0Hyrz58zvcA        1400      1402   yardım etmek\n",
       "977  MQHbftE4Cyc         350       352   yardım etmek\n",
       "\n",
       "[978 rows x 4 columns]"
      ]
     },
     "execution_count": 30,
     "metadata": {},
     "output_type": "execute_result"
    }
   ],
   "source": [
    "#df_link_selected_manuel = pd.read_excel(f\"{path_folder}/{file}\", sheet_name=f\"{sheet}\")\n",
    "df_link_selected_manuel = pd.read_excel(f\"{path_folder}/{file}\")\n",
    "df_link_selected_manuel"
   ]
  },
  {
   "cell_type": "code",
   "execution_count": 31,
   "metadata": {},
   "outputs": [],
   "source": [
    "# disabled because of youtube tools\n",
    "#df_link_selected_manuel[\"video_url\"] = \"https://www.youtube.com/watch?v=\"+df_link_selected_manuel['video_id'].map(str)+\"&t=\"+df_link_selected_manuel['start_time'].map(str)+\"s\"\n",
    "#df_link_selected_manuel"
   ]
  },
  {
   "cell_type": "code",
   "execution_count": 32,
   "metadata": {},
   "outputs": [
    {
     "data": {
      "text/html": [
       "<div>\n",
       "<style scoped>\n",
       "    .dataframe tbody tr th:only-of-type {\n",
       "        vertical-align: middle;\n",
       "    }\n",
       "\n",
       "    .dataframe tbody tr th {\n",
       "        vertical-align: top;\n",
       "    }\n",
       "\n",
       "    .dataframe thead th {\n",
       "        text-align: right;\n",
       "    }\n",
       "</style>\n",
       "<table border=\"1\" class=\"dataframe\">\n",
       "  <thead>\n",
       "    <tr style=\"text-align: right;\">\n",
       "      <th></th>\n",
       "      <th>text</th>\n",
       "      <th>count</th>\n",
       "    </tr>\n",
       "  </thead>\n",
       "  <tbody>\n",
       "    <tr>\n",
       "      <th>0</th>\n",
       "      <td>ne yapabilirim</td>\n",
       "      <td>14</td>\n",
       "    </tr>\n",
       "    <tr>\n",
       "      <th>1</th>\n",
       "      <td>ne olduğunu</td>\n",
       "      <td>10</td>\n",
       "    </tr>\n",
       "    <tr>\n",
       "      <th>2</th>\n",
       "      <td>öyle bir</td>\n",
       "      <td>10</td>\n",
       "    </tr>\n",
       "    <tr>\n",
       "      <th>3</th>\n",
       "      <td>kimse yok</td>\n",
       "      <td>9</td>\n",
       "    </tr>\n",
       "    <tr>\n",
       "      <th>4</th>\n",
       "      <td>ne tür</td>\n",
       "      <td>9</td>\n",
       "    </tr>\n",
       "    <tr>\n",
       "      <th>...</th>\n",
       "      <td>...</td>\n",
       "      <td>...</td>\n",
       "    </tr>\n",
       "    <tr>\n",
       "      <th>173</th>\n",
       "      <td>yok mu</td>\n",
       "      <td>3</td>\n",
       "    </tr>\n",
       "    <tr>\n",
       "      <th>174</th>\n",
       "      <td>şey yok</td>\n",
       "      <td>3</td>\n",
       "    </tr>\n",
       "    <tr>\n",
       "      <th>175</th>\n",
       "      <td>beni duyuyor</td>\n",
       "      <td>2</td>\n",
       "    </tr>\n",
       "    <tr>\n",
       "      <th>176</th>\n",
       "      <td>neydi böyle</td>\n",
       "      <td>1</td>\n",
       "    </tr>\n",
       "    <tr>\n",
       "      <th>177</th>\n",
       "      <td>yaptığını sanıyorsun</td>\n",
       "      <td>1</td>\n",
       "    </tr>\n",
       "  </tbody>\n",
       "</table>\n",
       "<p>178 rows × 2 columns</p>\n",
       "</div>"
      ],
      "text/plain": [
       "                     text  count\n",
       "0          ne yapabilirim     14\n",
       "1             ne olduğunu     10\n",
       "2                öyle bir     10\n",
       "3               kimse yok      9\n",
       "4                  ne tür      9\n",
       "..                    ...    ...\n",
       "173                yok mu      3\n",
       "174               şey yok      3\n",
       "175          beni duyuyor      2\n",
       "176           neydi böyle      1\n",
       "177  yaptığını sanıyorsun      1\n",
       "\n",
       "[178 rows x 2 columns]"
      ]
     },
     "execution_count": 32,
     "metadata": {},
     "output_type": "execute_result"
    }
   ],
   "source": [
    "df_count = df_link_selected_manuel.groupby([\"text\"])[[\"text\"]].count()\n",
    "df_count.rename(columns={\"text\":\"count\"}, inplace=True)\n",
    "df_count.sort_values(by=\"count\", ascending=False, inplace=True)\n",
    "df_count.reset_index(inplace=True)\n",
    "df_count"
   ]
  },
  {
   "cell_type": "code",
   "execution_count": 33,
   "metadata": {},
   "outputs": [],
   "source": [
    "df_count = df_count[df_count[\"count\"] > 2]"
   ]
  },
  {
   "cell_type": "code",
   "execution_count": 34,
   "metadata": {},
   "outputs": [
    {
     "data": {
      "text/plain": [
       "175"
      ]
     },
     "execution_count": 34,
     "metadata": {},
     "output_type": "execute_result"
    }
   ],
   "source": [
    "len(df_count)"
   ]
  },
  {
   "cell_type": "code",
   "execution_count": 35,
   "metadata": {},
   "outputs": [
    {
     "data": {
      "text/html": [
       "<div>\n",
       "<style scoped>\n",
       "    .dataframe tbody tr th:only-of-type {\n",
       "        vertical-align: middle;\n",
       "    }\n",
       "\n",
       "    .dataframe tbody tr th {\n",
       "        vertical-align: top;\n",
       "    }\n",
       "\n",
       "    .dataframe thead th {\n",
       "        text-align: right;\n",
       "    }\n",
       "</style>\n",
       "<table border=\"1\" class=\"dataframe\">\n",
       "  <thead>\n",
       "    <tr style=\"text-align: right;\">\n",
       "      <th></th>\n",
       "      <th>video_id</th>\n",
       "      <th>start_time</th>\n",
       "      <th>end_time</th>\n",
       "      <th>text</th>\n",
       "      <th>count</th>\n",
       "    </tr>\n",
       "  </thead>\n",
       "  <tbody>\n",
       "    <tr>\n",
       "      <th>0</th>\n",
       "      <td>Jfh5yVT4OPk</td>\n",
       "      <td>418</td>\n",
       "      <td>420</td>\n",
       "      <td>ne yapabilirim</td>\n",
       "      <td>14</td>\n",
       "    </tr>\n",
       "    <tr>\n",
       "      <th>1</th>\n",
       "      <td>T5krOQidV5s</td>\n",
       "      <td>714</td>\n",
       "      <td>716</td>\n",
       "      <td>ne yapabilirim</td>\n",
       "      <td>14</td>\n",
       "    </tr>\n",
       "    <tr>\n",
       "      <th>2</th>\n",
       "      <td>vGkcBnwz8UQ</td>\n",
       "      <td>1</td>\n",
       "      <td>3</td>\n",
       "      <td>ne yapabilirim</td>\n",
       "      <td>14</td>\n",
       "    </tr>\n",
       "    <tr>\n",
       "      <th>3</th>\n",
       "      <td>c90800j_ED4</td>\n",
       "      <td>1066</td>\n",
       "      <td>1068</td>\n",
       "      <td>ne yapabilirim</td>\n",
       "      <td>14</td>\n",
       "    </tr>\n",
       "    <tr>\n",
       "      <th>4</th>\n",
       "      <td>MaSTWrRUUfY</td>\n",
       "      <td>843</td>\n",
       "      <td>845</td>\n",
       "      <td>ne yapabilirim</td>\n",
       "      <td>14</td>\n",
       "    </tr>\n",
       "    <tr>\n",
       "      <th>...</th>\n",
       "      <td>...</td>\n",
       "      <td>...</td>\n",
       "      <td>...</td>\n",
       "      <td>...</td>\n",
       "      <td>...</td>\n",
       "    </tr>\n",
       "    <tr>\n",
       "      <th>969</th>\n",
       "      <td>m3Clq7uulPg</td>\n",
       "      <td>4093</td>\n",
       "      <td>4095</td>\n",
       "      <td>bir bak</td>\n",
       "      <td>3</td>\n",
       "    </tr>\n",
       "    <tr>\n",
       "      <th>970</th>\n",
       "      <td>GQgS2ruEJAs</td>\n",
       "      <td>5182</td>\n",
       "      <td>5184</td>\n",
       "      <td>bir bak</td>\n",
       "      <td>3</td>\n",
       "    </tr>\n",
       "    <tr>\n",
       "      <th>971</th>\n",
       "      <td>n2t0ueWtUNI</td>\n",
       "      <td>54</td>\n",
       "      <td>56</td>\n",
       "      <td>başka bir</td>\n",
       "      <td>3</td>\n",
       "    </tr>\n",
       "    <tr>\n",
       "      <th>972</th>\n",
       "      <td>N0a3f_R2BfQ</td>\n",
       "      <td>790</td>\n",
       "      <td>792</td>\n",
       "      <td>başka bir</td>\n",
       "      <td>3</td>\n",
       "    </tr>\n",
       "    <tr>\n",
       "      <th>973</th>\n",
       "      <td>aJ0j_xZxVBc</td>\n",
       "      <td>900</td>\n",
       "      <td>902</td>\n",
       "      <td>başka bir</td>\n",
       "      <td>3</td>\n",
       "    </tr>\n",
       "  </tbody>\n",
       "</table>\n",
       "<p>974 rows × 5 columns</p>\n",
       "</div>"
      ],
      "text/plain": [
       "        video_id  start_time  end_time            text  count\n",
       "0    Jfh5yVT4OPk         418       420  ne yapabilirim     14\n",
       "1    T5krOQidV5s         714       716  ne yapabilirim     14\n",
       "2    vGkcBnwz8UQ           1         3  ne yapabilirim     14\n",
       "3    c90800j_ED4        1066      1068  ne yapabilirim     14\n",
       "4    MaSTWrRUUfY         843       845  ne yapabilirim     14\n",
       "..           ...         ...       ...             ...    ...\n",
       "969  m3Clq7uulPg        4093      4095         bir bak      3\n",
       "970  GQgS2ruEJAs        5182      5184         bir bak      3\n",
       "971  n2t0ueWtUNI          54        56       başka bir      3\n",
       "972  N0a3f_R2BfQ         790       792       başka bir      3\n",
       "973  aJ0j_xZxVBc         900       902       başka bir      3\n",
       "\n",
       "[974 rows x 5 columns]"
      ]
     },
     "execution_count": 35,
     "metadata": {},
     "output_type": "execute_result"
    }
   ],
   "source": [
    "df_count_merge = pd.merge(df_link_selected_manuel, df_count, how=\"inner\",on= \"text\")\n",
    "df_count_merge.sort_values(by=[\"count\",\"text\"], ascending=False, inplace=True)\n",
    "df_count_merge.reset_index(drop=True, inplace=True)\n",
    "df_count_merge"
   ]
  },
  {
   "cell_type": "code",
   "execution_count": null,
   "metadata": {},
   "outputs": [],
   "source": []
  },
  {
   "cell_type": "code",
   "execution_count": 122,
   "metadata": {},
   "outputs": [],
   "source": [
    "# ****** ???? edit path\n",
    "df_count.to_excel(f\"/media/kurubal/SSD/Data Scientist/Work/Modern Ways/Project/{lang_folder.capitalize()}/Talk Time/Talk Time 6/Data/\\\n",
    "Deployment/Talk Time 6 {file_ext} Video List.xlsx\", index=False)"
   ]
  },
  {
   "cell_type": "code",
   "execution_count": 123,
   "metadata": {},
   "outputs": [],
   "source": [
    "df_count_merge.to_excel(f\"{path_folder}/{lang_folder.capitalize()}_{file_ext}_With_{word_end}_Word_Youtube_Link_Manuel_Count.xlsx\", index=False)   ########*****"
   ]
  },
  {
   "attachments": {},
   "cell_type": "markdown",
   "metadata": {},
   "source": [
    "##### Link Repeat"
   ]
  },
  {
   "cell_type": "code",
   "execution_count": 124,
   "metadata": {},
   "outputs": [],
   "source": [
    "# ******  \n",
    "path_folder_file = f\"/media/kurubal/SSD/Data Scientist/Work/Modern Ways/Project/{lang_folder.capitalize()}/Talk Time/Talk Time 6/Result/\\\n",
    "2-Find Word Group Youtube Link/{lang_folder.capitalize()}_{file_ext}_With_{word_end}_Word_Youtube_Link_Manuel_Count.xlsx\"   ########*****\n",
    "#sheet2 = \"Sheet1\"  # Sheet1"
   ]
  },
  {
   "cell_type": "code",
   "execution_count": 125,
   "metadata": {},
   "outputs": [
    {
     "data": {
      "text/html": [
       "<div>\n",
       "<style scoped>\n",
       "    .dataframe tbody tr th:only-of-type {\n",
       "        vertical-align: middle;\n",
       "    }\n",
       "\n",
       "    .dataframe tbody tr th {\n",
       "        vertical-align: top;\n",
       "    }\n",
       "\n",
       "    .dataframe thead th {\n",
       "        text-align: right;\n",
       "    }\n",
       "</style>\n",
       "<table border=\"1\" class=\"dataframe\">\n",
       "  <thead>\n",
       "    <tr style=\"text-align: right;\">\n",
       "      <th></th>\n",
       "      <th>video_id</th>\n",
       "      <th>start_time</th>\n",
       "      <th>end_time</th>\n",
       "      <th>text</th>\n",
       "      <th>video_url</th>\n",
       "      <th>count</th>\n",
       "    </tr>\n",
       "  </thead>\n",
       "  <tbody>\n",
       "    <tr>\n",
       "      <th>0</th>\n",
       "      <td>V9n8LpTPcfM</td>\n",
       "      <td>1002</td>\n",
       "      <td>1005</td>\n",
       "      <td>söylemek istediğin başka bir şey var mı</td>\n",
       "      <td>https://www.youtube.com/watch?v=V9n8LpTPcfM&amp;t=...</td>\n",
       "      <td>7</td>\n",
       "    </tr>\n",
       "    <tr>\n",
       "      <th>1</th>\n",
       "      <td>hM5s4liNn7g</td>\n",
       "      <td>830</td>\n",
       "      <td>832</td>\n",
       "      <td>söylemek istediğin başka bir şey var mı</td>\n",
       "      <td>https://www.youtube.com/watch?v=hM5s4liNn7g&amp;t=...</td>\n",
       "      <td>7</td>\n",
       "    </tr>\n",
       "    <tr>\n",
       "      <th>2</th>\n",
       "      <td>ao2kpL29HwI</td>\n",
       "      <td>454</td>\n",
       "      <td>457</td>\n",
       "      <td>söylemek istediğin başka bir şey var mı</td>\n",
       "      <td>https://www.youtube.com/watch?v=ao2kpL29HwI&amp;t=...</td>\n",
       "      <td>7</td>\n",
       "    </tr>\n",
       "    <tr>\n",
       "      <th>3</th>\n",
       "      <td>j1jgprjyYxw</td>\n",
       "      <td>815</td>\n",
       "      <td>818</td>\n",
       "      <td>söylemek istediğin başka bir şey var mı</td>\n",
       "      <td>https://www.youtube.com/watch?v=j1jgprjyYxw&amp;t=...</td>\n",
       "      <td>7</td>\n",
       "    </tr>\n",
       "    <tr>\n",
       "      <th>4</th>\n",
       "      <td>miIgOGcO2tY</td>\n",
       "      <td>649</td>\n",
       "      <td>651</td>\n",
       "      <td>söylemek istediğin başka bir şey var mı</td>\n",
       "      <td>https://www.youtube.com/watch?v=miIgOGcO2tY&amp;t=...</td>\n",
       "      <td>7</td>\n",
       "    </tr>\n",
       "    <tr>\n",
       "      <th>5</th>\n",
       "      <td>kQkG6D4c_xU</td>\n",
       "      <td>1077</td>\n",
       "      <td>1079</td>\n",
       "      <td>söylemek istediğin başka bir şey var mı</td>\n",
       "      <td>https://www.youtube.com/watch?v=kQkG6D4c_xU&amp;t=...</td>\n",
       "      <td>7</td>\n",
       "    </tr>\n",
       "    <tr>\n",
       "      <th>6</th>\n",
       "      <td>8ek8uhoEQ9w</td>\n",
       "      <td>662</td>\n",
       "      <td>664</td>\n",
       "      <td>söylemek istediğin başka bir şey var mı</td>\n",
       "      <td>https://www.youtube.com/watch?v=8ek8uhoEQ9w&amp;t=...</td>\n",
       "      <td>7</td>\n",
       "    </tr>\n",
       "    <tr>\n",
       "      <th>7</th>\n",
       "      <td>Odbd1stkcRk</td>\n",
       "      <td>6456</td>\n",
       "      <td>6458</td>\n",
       "      <td>bir iyi bir de kötü haberim var</td>\n",
       "      <td>https://www.youtube.com/watch?v=Odbd1stkcRk&amp;t=...</td>\n",
       "      <td>2</td>\n",
       "    </tr>\n",
       "    <tr>\n",
       "      <th>8</th>\n",
       "      <td>O3Xde6lnWqw</td>\n",
       "      <td>349</td>\n",
       "      <td>351</td>\n",
       "      <td>bir iyi bir de kötü haberim var</td>\n",
       "      <td>https://www.youtube.com/watch?v=O3Xde6lnWqw&amp;t=...</td>\n",
       "      <td>2</td>\n",
       "    </tr>\n",
       "  </tbody>\n",
       "</table>\n",
       "</div>"
      ],
      "text/plain": [
       "      video_id  start_time  end_time                                     text  \\\n",
       "0  V9n8LpTPcfM        1002      1005  söylemek istediğin başka bir şey var mı   \n",
       "1  hM5s4liNn7g         830       832  söylemek istediğin başka bir şey var mı   \n",
       "2  ao2kpL29HwI         454       457  söylemek istediğin başka bir şey var mı   \n",
       "3  j1jgprjyYxw         815       818  söylemek istediğin başka bir şey var mı   \n",
       "4  miIgOGcO2tY         649       651  söylemek istediğin başka bir şey var mı   \n",
       "5  kQkG6D4c_xU        1077      1079  söylemek istediğin başka bir şey var mı   \n",
       "6  8ek8uhoEQ9w         662       664  söylemek istediğin başka bir şey var mı   \n",
       "7  Odbd1stkcRk        6456      6458          bir iyi bir de kötü haberim var   \n",
       "8  O3Xde6lnWqw         349       351          bir iyi bir de kötü haberim var   \n",
       "\n",
       "                                           video_url  count  \n",
       "0  https://www.youtube.com/watch?v=V9n8LpTPcfM&t=...      7  \n",
       "1  https://www.youtube.com/watch?v=hM5s4liNn7g&t=...      7  \n",
       "2  https://www.youtube.com/watch?v=ao2kpL29HwI&t=...      7  \n",
       "3  https://www.youtube.com/watch?v=j1jgprjyYxw&t=...      7  \n",
       "4  https://www.youtube.com/watch?v=miIgOGcO2tY&t=...      7  \n",
       "5  https://www.youtube.com/watch?v=kQkG6D4c_xU&t=...      7  \n",
       "6  https://www.youtube.com/watch?v=8ek8uhoEQ9w&t=...      7  \n",
       "7  https://www.youtube.com/watch?v=Odbd1stkcRk&t=...      2  \n",
       "8  https://www.youtube.com/watch?v=O3Xde6lnWqw&t=...      2  "
      ]
     },
     "execution_count": 125,
     "metadata": {},
     "output_type": "execute_result"
    }
   ],
   "source": [
    "#df_word_group_time_loc = pd.read_excel(f\"{path_folder_file2}\", sheet_name=f\"{sheet2}\")\n",
    "df_word_group_time_loc = pd.read_excel(f\"{path_folder_file}\")\n",
    "#df_word_group_time_loc = pd.read_excel(f\"Twogram Threegram Youtube Link Selected_Manuel.xlsx\")   \n",
    "df_word_group_time_loc"
   ]
  },
  {
   "cell_type": "code",
   "execution_count": 126,
   "metadata": {},
   "outputs": [
    {
     "data": {
      "text/plain": [
       "2"
      ]
     },
     "execution_count": 126,
     "metadata": {},
     "output_type": "execute_result"
    }
   ],
   "source": [
    "search_list = df_word_group_time_loc.loc[:,\"text\"].unique()\n",
    "len(search_list)"
   ]
  },
  {
   "cell_type": "code",
   "execution_count": 127,
   "metadata": {},
   "outputs": [
    {
     "data": {
      "text/html": [
       "<div>\n",
       "<style scoped>\n",
       "    .dataframe tbody tr th:only-of-type {\n",
       "        vertical-align: middle;\n",
       "    }\n",
       "\n",
       "    .dataframe tbody tr th {\n",
       "        vertical-align: top;\n",
       "    }\n",
       "\n",
       "    .dataframe thead th {\n",
       "        text-align: right;\n",
       "    }\n",
       "</style>\n",
       "<table border=\"1\" class=\"dataframe\">\n",
       "  <thead>\n",
       "    <tr style=\"text-align: right;\">\n",
       "      <th></th>\n",
       "      <th>text</th>\n",
       "      <th>start_time</th>\n",
       "      <th>end_time</th>\n",
       "      <th>sentence</th>\n",
       "      <th>video_id</th>\n",
       "      <th>video_url</th>\n",
       "    </tr>\n",
       "  </thead>\n",
       "  <tbody>\n",
       "    <tr>\n",
       "      <th>0</th>\n",
       "      <td>repeat</td>\n",
       "      <td>5</td>\n",
       "      <td>7</td>\n",
       "      <td>repeat_again</td>\n",
       "      <td>Q-8I-uMUMYA</td>\n",
       "      <td>https://www.youtube.com/watch?v=Q-8I-uMUMYA&amp;t=0s</td>\n",
       "    </tr>\n",
       "  </tbody>\n",
       "</table>\n",
       "</div>"
      ],
      "text/plain": [
       "     text  start_time  end_time      sentence     video_id  \\\n",
       "0  repeat           5         7  repeat_again  Q-8I-uMUMYA   \n",
       "\n",
       "                                          video_url  \n",
       "0  https://www.youtube.com/watch?v=Q-8I-uMUMYA&t=0s  "
      ]
     },
     "execution_count": 127,
     "metadata": {},
     "output_type": "execute_result"
    }
   ],
   "source": [
    "# other option \n",
    "# mUf7VNqChac =>  black screen\n",
    "# 0_CDMstFg7M => 10sn\n",
    "# bj1JRuyYeco => 20sn\n",
    "# cElhIDdGz7M => screensaver\n",
    "default_video_id = \"Q-8I-uMUMYA\"\n",
    "df_link_default = pd.DataFrame(data=[[\"repeat\",5,7,\"repeat_again\",f\"{default_video_id}\",f\"https://www.youtube.com/watch?v={default_video_id}&t=0s\"]], columns=[\"text\",\"start_time\",\"end_time\",\"sentence\",\"video_id\",\"video_url\"])\n",
    "df_link_default"
   ]
  },
  {
   "cell_type": "code",
   "execution_count": 128,
   "metadata": {},
   "outputs": [],
   "source": [
    "#(df_result_repeat[\"end_time\"].sum()-df_result_repeat[\"start_time\"].sum())/60"
   ]
  },
  {
   "cell_type": "code",
   "execution_count": 129,
   "metadata": {},
   "outputs": [],
   "source": [
    "# Each word group result convert to join result in one row\n",
    "df_all_join_result = pd.DataFrame()\n",
    "seq_num = 0  # option\n",
    "for word_group in search_list:\n",
    "    df_result_repeat = pd.DataFrame()\n",
    "    # for repeat 1\n",
    "    df_word_group_search_repeat1 = df_word_group_time_loc[df_word_group_time_loc[\"text\"] == word_group]\n",
    "    # for repeat 2\n",
    "    try:\n",
    "        df_word_group_search_repeat2 = df_word_group_time_loc[df_word_group_time_loc[\"text\"] == word_group].sample(1)\n",
    "    except:\n",
    "        df_word_group_search_repeat2 = df_word_group_time_loc[df_word_group_time_loc[\"text\"] == word_group].tail(1)\n",
    "    df_word_group_search_repeat2.reset_index(drop=True, inplace=True)   \n",
    "    # repeat block\n",
    "    for i in range(len(df_word_group_search_repeat1)):        \n",
    "        df_result_repeat = pd.concat([df_result_repeat,df_word_group_search_repeat1.iloc[[i,]]], axis=0)\n",
    "\n",
    "    try:\n",
    "        df_link_default_var = df_link_default\n",
    "        word_time_diff_var = df_word_group_search_repeat2.loc[0 ,\"end_time\"] - df_word_group_search_repeat2.loc[0 ,\"start_time\"]\n",
    "        if word_time_diff_var < 4:\n",
    "            word_time_diff_var2 = 3\n",
    "        else:\n",
    "            word_time_diff_var2 = word_time_diff_var+1.0\n",
    "\n",
    "        df_link_default_var.loc[0,\"end_time\"] = df_link_default_var.loc[0,\"start_time\"] + word_time_diff_var2\n",
    "    except:\n",
    "        pass\n",
    "\n",
    "    for j in range(3):\n",
    "        df_result_repeat = pd.concat([df_result_repeat,df_word_group_search_repeat2], axis=0)\n",
    "        df_result_repeat = pd.concat([df_result_repeat,df_link_default_var], axis=0)\n",
    "        df_result_repeat.reset_index(drop=True, inplace=True)\n",
    "\n",
    "    df_result_repeat_var = df_col_value_join_comma(df_result_repeat, [\"video_id\",\"start_time\",\"end_time\"]) \n",
    "    df_result_repeat_var.loc[0,[\"text\"]] = f\"{word_group}\"  # option for search string\n",
    "    df_result_repeat_var.loc[0,[\"count\"]] = df_result_repeat.loc[0,\"count\"] # option for count num     \n",
    "    df_all_join_result = pd.concat([df_all_join_result,df_result_repeat_var], axis=0)\n",
    "\n",
    "df_all_join_result.reset_index(drop=True, inplace=True)\n",
    "df_all_join_result[\"web_format\"] = f\"[play_lms_videos video_id=\"+df_all_join_result[\"video_id\"].map(str)+\" start_\\\n",
    "time=\"+df_all_join_result[\"start_time\"].map(str)+\" end_time=\"+df_all_join_result[\"end_time\"].map(str)+\"]\"\n",
    "df_all_join_result.to_excel(f\"{lang_folder.capitalize()}_{word_end}_Word_Youtube_Talk_Time_Join_{file_ext}.xlsx\", index=False)"
   ]
  },
  {
   "cell_type": "code",
   "execution_count": 130,
   "metadata": {},
   "outputs": [
    {
     "data": {
      "text/html": [
       "<div>\n",
       "<style scoped>\n",
       "    .dataframe tbody tr th:only-of-type {\n",
       "        vertical-align: middle;\n",
       "    }\n",
       "\n",
       "    .dataframe tbody tr th {\n",
       "        vertical-align: top;\n",
       "    }\n",
       "\n",
       "    .dataframe thead th {\n",
       "        text-align: right;\n",
       "    }\n",
       "</style>\n",
       "<table border=\"1\" class=\"dataframe\">\n",
       "  <thead>\n",
       "    <tr style=\"text-align: right;\">\n",
       "      <th></th>\n",
       "      <th>video_id</th>\n",
       "      <th>start_time</th>\n",
       "      <th>end_time</th>\n",
       "      <th>text</th>\n",
       "      <th>count</th>\n",
       "      <th>web_format</th>\n",
       "    </tr>\n",
       "  </thead>\n",
       "  <tbody>\n",
       "    <tr>\n",
       "      <th>0</th>\n",
       "      <td>V9n8LpTPcfM,hM5s4liNn7g,ao2kpL29HwI,j1jgprjyYx...</td>\n",
       "      <td>1002,830,454,815,649,1077,662,815,5,815,5,815,5</td>\n",
       "      <td>1005,832,457,818,651,1079,664,818,8,818,8,818,8</td>\n",
       "      <td>söylemek istediğin başka bir şey var mı</td>\n",
       "      <td>7.0</td>\n",
       "      <td>[play_lms_videos video_id=V9n8LpTPcfM,hM5s4liN...</td>\n",
       "    </tr>\n",
       "    <tr>\n",
       "      <th>1</th>\n",
       "      <td>Odbd1stkcRk,O3Xde6lnWqw,O3Xde6lnWqw,Q-8I-uMUMY...</td>\n",
       "      <td>6456,349,349,5,349,5,349,5</td>\n",
       "      <td>6458,351,351,8,351,8,351,8</td>\n",
       "      <td>bir iyi bir de kötü haberim var</td>\n",
       "      <td>2.0</td>\n",
       "      <td>[play_lms_videos video_id=Odbd1stkcRk,O3Xde6ln...</td>\n",
       "    </tr>\n",
       "  </tbody>\n",
       "</table>\n",
       "</div>"
      ],
      "text/plain": [
       "                                            video_id  \\\n",
       "0  V9n8LpTPcfM,hM5s4liNn7g,ao2kpL29HwI,j1jgprjyYx...   \n",
       "1  Odbd1stkcRk,O3Xde6lnWqw,O3Xde6lnWqw,Q-8I-uMUMY...   \n",
       "\n",
       "                                        start_time  \\\n",
       "0  1002,830,454,815,649,1077,662,815,5,815,5,815,5   \n",
       "1                       6456,349,349,5,349,5,349,5   \n",
       "\n",
       "                                          end_time  \\\n",
       "0  1005,832,457,818,651,1079,664,818,8,818,8,818,8   \n",
       "1                       6458,351,351,8,351,8,351,8   \n",
       "\n",
       "                                      text  count  \\\n",
       "0  söylemek istediğin başka bir şey var mı    7.0   \n",
       "1          bir iyi bir de kötü haberim var    2.0   \n",
       "\n",
       "                                          web_format  \n",
       "0  [play_lms_videos video_id=V9n8LpTPcfM,hM5s4liN...  \n",
       "1  [play_lms_videos video_id=Odbd1stkcRk,O3Xde6ln...  "
      ]
     },
     "execution_count": 130,
     "metadata": {},
     "output_type": "execute_result"
    }
   ],
   "source": [
    "df_all_join_result"
   ]
  },
  {
   "cell_type": "code",
   "execution_count": null,
   "metadata": {},
   "outputs": [],
   "source": []
  },
  {
   "cell_type": "markdown",
   "metadata": {},
   "source": [
    "#### Copy Move And Delete"
   ]
  },
  {
   "cell_type": "code",
   "execution_count": 131,
   "metadata": {},
   "outputs": [
    {
     "data": {
      "text/plain": [
       "['Turkish_40000_Word_Youtube_Talk_Time_Join_Sevengram.xlsx']"
      ]
     },
     "execution_count": 131,
     "metadata": {},
     "output_type": "execute_result"
    }
   ],
   "source": [
    "output_file = glob.glob(f\"{lang_folder.capitalize()}_{word_end}_Word_Youtube_Talk_Time_Join_*.xlsx\")\n",
    "output_file"
   ]
  },
  {
   "cell_type": "code",
   "execution_count": 132,
   "metadata": {},
   "outputs": [],
   "source": [
    "for k in output_file:\n",
    "    source = k # source directory\n",
    "    destination = path\n",
    "    shutil.copy2(source, destination)"
   ]
  },
  {
   "cell_type": "code",
   "execution_count": 133,
   "metadata": {},
   "outputs": [],
   "source": [
    "for i in output_file:\n",
    "    try:\n",
    "        os.remove(i)\n",
    "    except:\n",
    "        pass"
   ]
  },
  {
   "cell_type": "code",
   "execution_count": null,
   "metadata": {},
   "outputs": [],
   "source": []
  },
  {
   "cell_type": "code",
   "execution_count": null,
   "metadata": {},
   "outputs": [],
   "source": []
  },
  {
   "cell_type": "code",
   "execution_count": null,
   "metadata": {},
   "outputs": [],
   "source": []
  }
 ],
 "metadata": {
  "kernelspec": {
   "display_name": "Python 3.9.5 ('py39')",
   "language": "python",
   "name": "python3"
  },
  "language_info": {
   "codemirror_mode": {
    "name": "ipython",
    "version": 3
   },
   "file_extension": ".py",
   "mimetype": "text/x-python",
   "name": "python",
   "nbconvert_exporter": "python",
   "pygments_lexer": "ipython3",
   "version": "3.9.5"
  },
  "orig_nbformat": 4,
  "vscode": {
   "interpreter": {
    "hash": "651d507d70892fab0fc6529d935cd476f6e2eb1791525b76da6cc8da34bc0503"
   }
  }
 },
 "nbformat": 4,
 "nbformat_minor": 2
}
