{
 "cells": [
  {
   "attachments": {},
   "cell_type": "markdown",
   "metadata": {},
   "source": [
    "### Sentence Data Frame Sentence Word Length Grouping"
   ]
  },
  {
   "attachments": {},
   "cell_type": "markdown",
   "metadata": {},
   "source": [
    "This notebook, which creates sentence groups according to sentence word length, is used to extract ngrams and ngram-sentences. "
   ]
  },
  {
   "cell_type": "code",
   "execution_count": 1,
   "metadata": {},
   "outputs": [],
   "source": [
    "import os\n",
    "import multiprocessing\n",
    "#import multiprocessing as mp\n",
    "from multiprocessing import Process, Manager, Pool, Queue\n",
    "import pandas as pd\n",
    "import numpy as np\n",
    "import nltk\n",
    "from nltk import word_tokenize"
   ]
  },
  {
   "cell_type": "code",
   "execution_count": null,
   "metadata": {},
   "outputs": [],
   "source": [
    "nprocs = multiprocessing.cpu_count()\n",
    "print(f\"Number of CPU cores: {nprocs}\")"
   ]
  },
  {
   "cell_type": "code",
   "execution_count": null,
   "metadata": {},
   "outputs": [],
   "source": []
  },
  {
   "attachments": {},
   "cell_type": "markdown",
   "metadata": {},
   "source": [
    "#### Sentence More Than Variable Word"
   ]
  },
  {
   "cell_type": "code",
   "execution_count": null,
   "metadata": {},
   "outputs": [],
   "source": [
    "sent_path = \"/media/kurubal/SSD/Data Scientist/Work/Modern Ways/Project/Pyspark/Result/Clean Spark Sentence Merge/Clean_Spark_Sentence_Merge_Result.csv\""
   ]
  },
  {
   "cell_type": "code",
   "execution_count": 6,
   "metadata": {},
   "outputs": [
    {
     "data": {
      "text/html": [
       "<div>\n",
       "<style scoped>\n",
       "    .dataframe tbody tr th:only-of-type {\n",
       "        vertical-align: middle;\n",
       "    }\n",
       "\n",
       "    .dataframe tbody tr th {\n",
       "        vertical-align: top;\n",
       "    }\n",
       "\n",
       "    .dataframe thead th {\n",
       "        text-align: right;\n",
       "    }\n",
       "</style>\n",
       "<table border=\"1\" class=\"dataframe\">\n",
       "  <thead>\n",
       "    <tr style=\"text-align: right;\">\n",
       "      <th></th>\n",
       "      <th>sentence</th>\n",
       "      <th>frequency</th>\n",
       "    </tr>\n",
       "  </thead>\n",
       "  <tbody>\n",
       "    <tr>\n",
       "      <th>0</th>\n",
       "      <td>evet</td>\n",
       "      <td>1948596</td>\n",
       "    </tr>\n",
       "    <tr>\n",
       "      <th>1</th>\n",
       "      <td>hayır</td>\n",
       "      <td>1250401</td>\n",
       "    </tr>\n",
       "    <tr>\n",
       "      <th>2</th>\n",
       "      <td>tamam</td>\n",
       "      <td>882921</td>\n",
       "    </tr>\n",
       "    <tr>\n",
       "      <th>3</th>\n",
       "      <td>ne</td>\n",
       "      <td>753105</td>\n",
       "    </tr>\n",
       "    <tr>\n",
       "      <th>4</th>\n",
       "      <td>teşekkürler</td>\n",
       "      <td>343527</td>\n",
       "    </tr>\n",
       "    <tr>\n",
       "      <th>...</th>\n",
       "      <td>...</td>\n",
       "      <td>...</td>\n",
       "    </tr>\n",
       "    <tr>\n",
       "      <th>20975605</th>\n",
       "      <td>omalley bize buzsuz scotch ver</td>\n",
       "      <td>2</td>\n",
       "    </tr>\n",
       "    <tr>\n",
       "      <th>20975606</th>\n",
       "      <td>omalley bu acele ne</td>\n",
       "      <td>2</td>\n",
       "    </tr>\n",
       "    <tr>\n",
       "      <th>20975607</th>\n",
       "      <td>omalley bu milton wing</td>\n",
       "      <td>2</td>\n",
       "    </tr>\n",
       "    <tr>\n",
       "      <th>20975608</th>\n",
       "      <td>omalley buna cevap verecek zamanım</td>\n",
       "      <td>2</td>\n",
       "    </tr>\n",
       "    <tr>\n",
       "      <th>20975609</th>\n",
       "      <td>avukat ile görüşmek istiyorum</td>\n",
       "      <td>2</td>\n",
       "    </tr>\n",
       "  </tbody>\n",
       "</table>\n",
       "<p>20975610 rows × 2 columns</p>\n",
       "</div>"
      ],
      "text/plain": [
       "                                    sentence  frequency\n",
       "0                                       evet    1948596\n",
       "1                                      hayır    1250401\n",
       "2                                      tamam     882921\n",
       "3                                         ne     753105\n",
       "4                                teşekkürler     343527\n",
       "...                                      ...        ...\n",
       "20975605      omalley bize buzsuz scotch ver          2\n",
       "20975606                 omalley bu acele ne          2\n",
       "20975607              omalley bu milton wing          2\n",
       "20975608  omalley buna cevap verecek zamanım          2\n",
       "20975609       avukat ile görüşmek istiyorum          2\n",
       "\n",
       "[20975610 rows x 2 columns]"
      ]
     },
     "execution_count": 6,
     "metadata": {},
     "output_type": "execute_result"
    }
   ],
   "source": [
    "df_all_sent = pd.read_csv(f\"{sent_path}\")\n",
    "df_all_sent = df_all_sent[[\"sentence\",\"frequency\"]]\n",
    "df_all_sent"
   ]
  },
  {
   "cell_type": "code",
   "execution_count": null,
   "metadata": {},
   "outputs": [],
   "source": [
    "sent_list = df_all_sent.iloc[:,0].to_list()"
   ]
  },
  {
   "cell_type": "code",
   "execution_count": null,
   "metadata": {},
   "outputs": [],
   "source": [
    "# import os\n",
    "# import multiprocessing\n",
    "# from multiprocessing import Process, Manager, Pool, Queue\n",
    "manager = multiprocessing.Manager()\n",
    "sent1_list = manager.list()\n",
    "sent2_list = manager.list()\n",
    "sent3_list = manager.list()\n",
    "sent4_list = manager.list()\n",
    "sent5_list = manager.list()\n",
    "sent6_list = manager.list()\n",
    "sent7_list = manager.list()\n",
    "sent8_list = manager.list()\n",
    "sent9_list = manager.list()\n",
    "\n",
    "def sent_more_than(sent):\n",
    "    word = word_tokenize(sent)\n",
    "    if len(word) > 9:\n",
    "        sent9_list.append(sent)\n",
    "        sent8_list.append(sent)\n",
    "        sent7_list.append(sent)\n",
    "        sent6_list.append(sent)\n",
    "        sent5_list.append(sent)\n",
    "        sent4_list.append(sent)\n",
    "        sent3_list.append(sent)\n",
    "        sent2_list.append(sent)\n",
    "        sent1_list.append(sent)     \n",
    "    elif len(word) > 8:\n",
    "        sent8_list.append(sent)\n",
    "        sent7_list.append(sent)\n",
    "        sent6_list.append(sent)\n",
    "        sent5_list.append(sent)\n",
    "        sent4_list.append(sent)\n",
    "        sent3_list.append(sent)\n",
    "        sent2_list.append(sent)\n",
    "        sent1_list.append(sent)\n",
    "    elif len(word) > 7:\n",
    "        sent7_list.append(sent)\n",
    "        sent6_list.append(sent)\n",
    "        sent5_list.append(sent)\n",
    "        sent4_list.append(sent)\n",
    "        sent3_list.append(sent)\n",
    "        sent2_list.append(sent)\n",
    "        sent1_list.append(sent)\n",
    "    elif len(word) > 6:\n",
    "        sent6_list.append(sent)\n",
    "        sent5_list.append(sent)\n",
    "        sent4_list.append(sent)\n",
    "        sent3_list.append(sent)\n",
    "        sent2_list.append(sent)\n",
    "        sent1_list.append(sent)\n",
    "    elif len(word) > 5:\n",
    "        sent5_list.append(sent)\n",
    "        sent4_list.append(sent)\n",
    "        sent3_list.append(sent)\n",
    "        sent2_list.append(sent)\n",
    "        sent1_list.append(sent)\n",
    "    elif len(word) > 4:\n",
    "        sent4_list.append(sent)\n",
    "        sent3_list.append(sent)\n",
    "        sent2_list.append(sent)\n",
    "        sent1_list.append(sent)\n",
    "    elif len(word) > 3:\n",
    "        sent3_list.append(sent)\n",
    "        sent2_list.append(sent)\n",
    "        sent1_list.append(sent)\n",
    "    elif len(word) > 2:\n",
    "        sent2_list.append(sent)\n",
    "        sent1_list.append(sent)\n",
    "    elif len(word) > 1:\n",
    "        sent1_list.append(sent)\n",
    "    else:\n",
    "        pass\n",
    "    \n",
    "if __name__ == '__main__':\n",
    "    # with Pool(16) as p:\n",
    "    with Pool(nprocs) as p: # Pool number CPU sayısına eşit olursa tüm CPU lar çalışır\n",
    "        p.map(sent_more_than, sent_list)"
   ]
  },
  {
   "cell_type": "code",
   "execution_count": null,
   "metadata": {},
   "outputs": [],
   "source": [
    "df_sent1 = pd.DataFrame(list(sent1_list))\n",
    "df_sent1.rename(columns={0:\"sentence\"}, inplace=True)"
   ]
  },
  {
   "cell_type": "code",
   "execution_count": null,
   "metadata": {},
   "outputs": [],
   "source": [
    "df_more_one_word = pd.merge(df_all_sent, df_sent1, how='inner', on=\"sentence\")\n",
    "df_more_one_word"
   ]
  },
  {
   "cell_type": "code",
   "execution_count": null,
   "metadata": {},
   "outputs": [],
   "source": [
    "df_more_one_word.to_csv(\"Sentence_More_Than_One_Word.csv\", index=False)"
   ]
  },
  {
   "cell_type": "code",
   "execution_count": null,
   "metadata": {},
   "outputs": [],
   "source": []
  },
  {
   "cell_type": "code",
   "execution_count": null,
   "metadata": {},
   "outputs": [],
   "source": [
    "df_sent2 = pd.DataFrame(list(sent2_list))\n",
    "df_sent2.rename(columns={0:\"sentence\"}, inplace=True)"
   ]
  },
  {
   "cell_type": "code",
   "execution_count": null,
   "metadata": {},
   "outputs": [],
   "source": [
    "df_more_two_word = pd.merge(df_all_sent, df_sent2, how='inner', on=\"sentence\")\n",
    "df_more_two_word"
   ]
  },
  {
   "cell_type": "code",
   "execution_count": null,
   "metadata": {},
   "outputs": [],
   "source": [
    "df_more_two_word.to_csv(\"Sentence_More_Than_Two_Word.csv\", index=False)"
   ]
  },
  {
   "cell_type": "code",
   "execution_count": null,
   "metadata": {},
   "outputs": [],
   "source": []
  },
  {
   "cell_type": "code",
   "execution_count": null,
   "metadata": {},
   "outputs": [],
   "source": [
    "df_sent3 = pd.DataFrame(list(sent3_list))\n",
    "df_sent3.rename(columns={0:\"sentence\"}, inplace=True)"
   ]
  },
  {
   "cell_type": "code",
   "execution_count": null,
   "metadata": {},
   "outputs": [],
   "source": [
    "df_more_three_word = pd.merge(df_all_sent, df_sent3, how='inner', on=\"sentence\")\n",
    "df_more_three_word"
   ]
  },
  {
   "cell_type": "code",
   "execution_count": null,
   "metadata": {},
   "outputs": [],
   "source": [
    "df_more_three_word.to_csv(\"Sentence_More_Than_Three_Word.csv\", index=False)"
   ]
  },
  {
   "cell_type": "code",
   "execution_count": null,
   "metadata": {},
   "outputs": [],
   "source": []
  },
  {
   "cell_type": "code",
   "execution_count": null,
   "metadata": {},
   "outputs": [],
   "source": [
    "df_sent4 = pd.DataFrame(list(sent4_list))\n",
    "df_sent4.rename(columns={0:\"sentence\"}, inplace=True)"
   ]
  },
  {
   "cell_type": "code",
   "execution_count": null,
   "metadata": {},
   "outputs": [],
   "source": [
    "df_more_four_word = pd.merge(df_all_sent, df_sent4, how='inner', on=\"sentence\")\n",
    "df_more_four_word"
   ]
  },
  {
   "cell_type": "code",
   "execution_count": 41,
   "metadata": {},
   "outputs": [],
   "source": [
    "df_more_four_word.to_csv(\"Sentence_More_Than_Four_Word.csv\", index=False)"
   ]
  },
  {
   "cell_type": "code",
   "execution_count": null,
   "metadata": {},
   "outputs": [],
   "source": []
  },
  {
   "cell_type": "code",
   "execution_count": null,
   "metadata": {},
   "outputs": [],
   "source": [
    "df_sent5 = pd.DataFrame(list(sent5_list))\n",
    "df_sent5.rename(columns={0:\"sentence\"}, inplace=True)"
   ]
  },
  {
   "cell_type": "code",
   "execution_count": null,
   "metadata": {},
   "outputs": [],
   "source": [
    "df_more_five_word = pd.merge(df_all_sent, df_sent5, how='inner', on=\"sentence\")\n",
    "df_more_five_word"
   ]
  },
  {
   "cell_type": "code",
   "execution_count": 46,
   "metadata": {},
   "outputs": [],
   "source": [
    "df_more_five_word.to_csv(\"Sentence_More_Than_Five_Word.csv\", index=False)"
   ]
  },
  {
   "cell_type": "code",
   "execution_count": null,
   "metadata": {},
   "outputs": [],
   "source": []
  },
  {
   "cell_type": "code",
   "execution_count": null,
   "metadata": {},
   "outputs": [],
   "source": [
    "df_sent6 = pd.DataFrame(list(sent6_list))\n",
    "df_sent6.rename(columns={0:\"sentence\"}, inplace=True)"
   ]
  },
  {
   "cell_type": "code",
   "execution_count": null,
   "metadata": {},
   "outputs": [],
   "source": [
    "df_more_six_word = pd.merge(df_all_sent, df_sent6, how='inner', on=\"sentence\")\n",
    "df_more_six_word"
   ]
  },
  {
   "cell_type": "code",
   "execution_count": null,
   "metadata": {},
   "outputs": [],
   "source": [
    "df_more_six_word.to_csv(\"Sentence_More_Than_Six_Word.csv\", index=False)"
   ]
  },
  {
   "cell_type": "code",
   "execution_count": null,
   "metadata": {},
   "outputs": [],
   "source": []
  },
  {
   "cell_type": "code",
   "execution_count": null,
   "metadata": {},
   "outputs": [],
   "source": [
    "df_sent7 = pd.DataFrame(list(sent7_list))\n",
    "df_sent7.rename(columns={0:\"sentence\"}, inplace=True)"
   ]
  },
  {
   "cell_type": "code",
   "execution_count": null,
   "metadata": {},
   "outputs": [],
   "source": [
    "df_more_seven_word = pd.merge(df_all_sent, df_sent7, how='inner', on=\"sentence\")\n",
    "df_more_seven_word"
   ]
  },
  {
   "cell_type": "code",
   "execution_count": null,
   "metadata": {},
   "outputs": [],
   "source": [
    "df_more_seven_word.to_csv(\"Sentence_More_Than_Seven_Word.csv\", index=False)"
   ]
  },
  {
   "cell_type": "code",
   "execution_count": null,
   "metadata": {},
   "outputs": [],
   "source": []
  },
  {
   "cell_type": "code",
   "execution_count": null,
   "metadata": {},
   "outputs": [],
   "source": [
    "df_sent8 = pd.DataFrame(list(sent8_list))\n",
    "df_sent8.rename(columns={0:\"sentence\"}, inplace=True)"
   ]
  },
  {
   "cell_type": "code",
   "execution_count": null,
   "metadata": {},
   "outputs": [],
   "source": [
    "df_more_eight_word = pd.merge(df_all_sent, df_sent8, how='inner', on=\"sentence\")\n",
    "df_more_eight_word"
   ]
  },
  {
   "cell_type": "code",
   "execution_count": null,
   "metadata": {},
   "outputs": [],
   "source": [
    "df_more_eight_word.to_csv(\"Sentence_More_Than_Eight_Word.csv\", index=False)"
   ]
  },
  {
   "cell_type": "code",
   "execution_count": null,
   "metadata": {},
   "outputs": [],
   "source": []
  },
  {
   "cell_type": "code",
   "execution_count": null,
   "metadata": {},
   "outputs": [],
   "source": [
    "df_sent9 = pd.DataFrame(list(sent9_list))\n",
    "df_sent9.rename(columns={0:\"sentence\"}, inplace=True)"
   ]
  },
  {
   "cell_type": "code",
   "execution_count": null,
   "metadata": {},
   "outputs": [],
   "source": [
    "df_more_nine_word = pd.merge(df_all_sent, df_sent9, how='inner', on=\"sentence\")\n",
    "df_more_nine_word"
   ]
  },
  {
   "cell_type": "code",
   "execution_count": null,
   "metadata": {},
   "outputs": [],
   "source": [
    "df_more_nine_word.to_csv(\"Sentence_More_Than_Nine_Word.csv\", index=False)"
   ]
  },
  {
   "cell_type": "code",
   "execution_count": null,
   "metadata": {},
   "outputs": [],
   "source": []
  },
  {
   "cell_type": "code",
   "execution_count": null,
   "metadata": {},
   "outputs": [],
   "source": []
  },
  {
   "cell_type": "code",
   "execution_count": null,
   "metadata": {},
   "outputs": [],
   "source": []
  }
 ],
 "metadata": {
  "interpreter": {
   "hash": "651d507d70892fab0fc6529d935cd476f6e2eb1791525b76da6cc8da34bc0503"
  },
  "kernelspec": {
   "display_name": "Python 3.9.5 64-bit ('py39': conda)",
   "language": "python",
   "name": "python3"
  },
  "language_info": {
   "codemirror_mode": {
    "name": "ipython",
    "version": 3
   },
   "file_extension": ".py",
   "mimetype": "text/x-python",
   "name": "python",
   "nbconvert_exporter": "python",
   "pygments_lexer": "ipython3",
   "version": "3.9.5 (default, Jun  4 2021, 12:28:51) \n[GCC 7.5.0]"
  },
  "orig_nbformat": 4
 },
 "nbformat": 4,
 "nbformat_minor": 2
}
