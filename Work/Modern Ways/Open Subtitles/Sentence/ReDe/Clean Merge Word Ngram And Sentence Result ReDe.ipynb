{
 "cells": [
  {
   "cell_type": "markdown",
   "metadata": {},
   "source": [
    "### Clean Merge Result"
   ]
  },
  {
   "cell_type": "code",
   "execution_count": null,
   "metadata": {},
   "outputs": [],
   "source": [
    "# !pip install modin[ray]"
   ]
  },
  {
   "cell_type": "code",
   "execution_count": null,
   "metadata": {},
   "outputs": [],
   "source": [
    "import ray  # ayrı olarak çalıştırılmalı\n",
    "ray.init() "
   ]
  },
  {
   "cell_type": "code",
   "execution_count": null,
   "metadata": {},
   "outputs": [],
   "source": [
    "# import pandas as pd"
   ]
  },
  {
   "cell_type": "code",
   "execution_count": null,
   "metadata": {},
   "outputs": [],
   "source": [
    "import modin.pandas as pd\n",
    "import re\n",
    "pd.set_option('display.max_rows', 500)"
   ]
  },
  {
   "cell_type": "markdown",
   "metadata": {},
   "source": [
    "#### Clean One Character And Digit"
   ]
  },
  {
   "cell_type": "code",
   "execution_count": null,
   "metadata": {},
   "outputs": [],
   "source": [
    "df_sent = pd.read_csv(\"/media/kurubal/SSD1/Data Scientist/Work/Modern Ways/Project/Pyspark/Result/Sentence/Spark Turkish Sentence Merge/Clean_Spark_Sentence_Merge_Result.csv\")\n",
    "df_sent"
   ]
  },
  {
   "cell_type": "code",
   "execution_count": null,
   "metadata": {},
   "outputs": [],
   "source": [
    "# df_sent2 = df_sent.head(10000)\n",
    "# df_sent2"
   ]
  },
  {
   "cell_type": "code",
   "execution_count": null,
   "metadata": {},
   "outputs": [],
   "source": [
    "text = \"05ceviri ahmet bad\""
   ]
  },
  {
   "cell_type": "code",
   "execution_count": null,
   "metadata": {},
   "outputs": [],
   "source": [
    "text2 = \"(\""
   ]
  },
  {
   "cell_type": "code",
   "execution_count": null,
   "metadata": {},
   "outputs": [],
   "source": [
    "text3 = \"ali? 15 april\""
   ]
  },
  {
   "cell_type": "code",
   "execution_count": null,
   "metadata": {},
   "outputs": [],
   "source": [
    "text4 = \"5a ali\""
   ]
  },
  {
   "cell_type": "code",
   "execution_count": null,
   "metadata": {},
   "outputs": [],
   "source": [
    "text_list = re.findall(\"\\D\", text2)\n",
    "text_list"
   ]
  },
  {
   "cell_type": "code",
   "execution_count": null,
   "metadata": {},
   "outputs": [],
   "source": [
    "len(text_list)"
   ]
  },
  {
   "cell_type": "code",
   "execution_count": null,
   "metadata": {},
   "outputs": [],
   "source": [
    "len(text_list[0])"
   ]
  },
  {
   "cell_type": "code",
   "execution_count": null,
   "metadata": {},
   "outputs": [],
   "source": [
    "def clean_num_test(var):\n",
    "    var_list = re.findall(\"\\w+\", var)\n",
    "    if var_list[0][0].isdigit() or (len(var_list) <= 1 and len(var_list[0]) <= 1):\n",
    "        return \"digit or one character\"\n",
    "    else:\n",
    "        return var"
   ]
  },
  {
   "cell_type": "code",
   "execution_count": null,
   "metadata": {},
   "outputs": [],
   "source": [
    "def clean_num(var):\n",
    "    var_list = re.findall(\"\\w+\", var)\n",
    "    try:\n",
    "        if var_list[0][0].isdigit() or (len(var_list) <= 1 and len(var_list[0]) <= 1):\n",
    "            return \"digit or one character\"\n",
    "        else:\n",
    "            return var\n",
    "    except:\n",
    "        return \"not digit or character\""
   ]
  },
  {
   "cell_type": "code",
   "execution_count": null,
   "metadata": {},
   "outputs": [],
   "source": [
    "clean_num_test(text2)"
   ]
  },
  {
   "cell_type": "code",
   "execution_count": null,
   "metadata": {},
   "outputs": [],
   "source": [
    "clean_num(text2)"
   ]
  },
  {
   "cell_type": "code",
   "execution_count": null,
   "metadata": {},
   "outputs": [],
   "source": [
    "df_sent.sentence = df_sent.sentence.apply(lambda x : clean_num(x))\n",
    "df_sent"
   ]
  },
  {
   "cell_type": "code",
   "execution_count": null,
   "metadata": {},
   "outputs": [],
   "source": [
    "df_sent[df_sent.sentence == \"digit or one character\"]"
   ]
  },
  {
   "cell_type": "code",
   "execution_count": null,
   "metadata": {},
   "outputs": [],
   "source": [
    "df_sent[df_sent.sentence == \"not digit or character\"]"
   ]
  },
  {
   "cell_type": "code",
   "execution_count": null,
   "metadata": {},
   "outputs": [],
   "source": [
    "df_sent.drop(df_sent[df_sent.sentence == \"digit or one character\"].index, inplace=True)\n",
    "df_sent.reset_index(drop=True, inplace=True)\n",
    "df_sent"
   ]
  },
  {
   "cell_type": "code",
   "execution_count": null,
   "metadata": {},
   "outputs": [],
   "source": [
    "df_sent.to_csv(\"Clean_Spark_Sentence_Merge_Result_Clean_Digit_One_Char.csv\", index=False)"
   ]
  },
  {
   "cell_type": "markdown",
   "metadata": {},
   "source": [
    "#### Include Name Entity Sentence"
   ]
  },
  {
   "cell_type": "code",
   "execution_count": null,
   "metadata": {},
   "outputs": [],
   "source": [
    "df_sent_no_digit = pd.read_csv(\"/media/kurubal/SSD1/Data Scientist/Work/Modern Ways/Project/Pyspark/Result/Sentence/Spark Turkish Sentence Merge/Clean_Spark_Sentence_Merge_Result_Clean_Digit_One_Char.csv\")\n",
    "df_sent_no_digit = df_sent_no_digit[[\"sentence\"]].head(3000000)\n",
    "df_sent_no_digit"
   ]
  },
  {
   "cell_type": "code",
   "execution_count": null,
   "metadata": {},
   "outputs": [],
   "source": [
    "df_sent_no_digit_list = df_sent_no_digit.sentence.to_list()"
   ]
  },
  {
   "cell_type": "code",
   "execution_count": null,
   "metadata": {},
   "outputs": [],
   "source": [
    "len(df_sent_no_digit_list)"
   ]
  },
  {
   "cell_type": "code",
   "execution_count": null,
   "metadata": {},
   "outputs": [],
   "source": [
    "df_ne = pd.read_excel(\"/media/kurubal/SSD1/Data Scientist/Work/Modern Ways/Project/Pyspark/Result/Name Entity/Special_Name_Unique.xlsx\")\n",
    "# df_ne = df_ne.head(5)\n",
    "df_ne"
   ]
  },
  {
   "cell_type": "code",
   "execution_count": null,
   "metadata": {},
   "outputs": [],
   "source": [
    "ne_list = [x.lower() for x in df_ne.spec_name]"
   ]
  },
  {
   "cell_type": "code",
   "execution_count": null,
   "metadata": {},
   "outputs": [],
   "source": [
    "# df_ne_result = pd.DataFrame() # DataFrame\n",
    "# for i in ne_list:\n",
    "#     #word_in_video = df_sent[df_sent.sentence.str.contains(fr\"(?:\\s|^){i}\", na=True)]\n",
    "#     word_in_video = df_sent_no_digit[df_sent_no_digit.sentence.str.contains(fr\"(?:\\s|^){i}(?:\\s|$)\", na=True)] # exact match\n",
    "#     #word_in_video.insert(0,\"name_ent\",i)\n",
    "#     df_ne_result = pd.concat([df_ne_result,word_in_video], axis=0)"
   ]
  },
  {
   "cell_type": "code",
   "execution_count": null,
   "metadata": {},
   "outputs": [],
   "source": [
    "ne_list = [] # list\n",
    "for i in ne_list:\n",
    "    #word_in_video = df_sent[df_sent.sentence.str.contains(fr\"(?:\\s|^){i}\", na=True)]\n",
    "    word_in_video = df_sent_no_digit[df_sent_no_digit.iloc[:,0].str.contains(fr\"(?:\\s|^){i}(?:\\s|$)\", na=True)] # exact match\n",
    "    ne_list = word_in_video.iloc[:,0].to_list()\n",
    "    for j in ne_list:\n",
    "        ne_list.append(j)"
   ]
  },
  {
   "cell_type": "code",
   "execution_count": null,
   "metadata": {},
   "outputs": [],
   "source": [
    "df_ne_sent_list = []\n",
    "for i in df_sent_no_digit_list:\n",
    "    for j in ne_list:\n",
    "        #word_in_video = df_sent[df_sent.sentence.str.contains(fr\"(?:\\s|^){i}\", na=True)]\n",
    "        if re.search(fr\"(?:\\s|^){j}(?:\\s|$)\", i):\n",
    "            df_ne_sent_list.append(i)\n",
    "        else:\n",
    "            pass"
   ]
  },
  {
   "cell_type": "code",
   "execution_count": null,
   "metadata": {},
   "outputs": [],
   "source": [
    "df_ne_sent_result = pd.DataFrame(df_ne_sent_list)\n",
    "df_ne_sent_result.rename(columns={0:\"sentence\"}, inplace=True)\n",
    "df_ne_sent_result"
   ]
  },
  {
   "cell_type": "code",
   "execution_count": null,
   "metadata": {},
   "outputs": [],
   "source": [
    "df_ne_sent_result.to_csv(\"Name_Entity_Sentence.csv\", index=False)"
   ]
  },
  {
   "cell_type": "code",
   "execution_count": null,
   "metadata": {},
   "outputs": [],
   "source": []
  }
 ],
 "metadata": {
  "interpreter": {
   "hash": "651d507d70892fab0fc6529d935cd476f6e2eb1791525b76da6cc8da34bc0503"
  },
  "kernelspec": {
   "display_name": "Python 3.9.5 64-bit ('py39': conda)",
   "language": "python",
   "name": "python3"
  },
  "language_info": {
   "codemirror_mode": {
    "name": "ipython",
    "version": 3
   },
   "file_extension": ".py",
   "mimetype": "text/x-python",
   "name": "python",
   "nbconvert_exporter": "python",
   "pygments_lexer": "ipython3",
   "version": "3.9.5"
  },
  "orig_nbformat": 4
 },
 "nbformat": 4,
 "nbformat_minor": 2
}
