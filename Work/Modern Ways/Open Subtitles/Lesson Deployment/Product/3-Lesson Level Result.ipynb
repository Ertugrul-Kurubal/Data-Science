{
 "cells": [
  {
   "cell_type": "markdown",
   "metadata": {},
   "source": [
    "### Level Results"
   ]
  },
  {
   "cell_type": "code",
   "execution_count": null,
   "metadata": {},
   "outputs": [],
   "source": [
    "import pandas as pd\n",
    "import numpy as np\n",
    "import re\n",
    "import glob\n",
    "import nltk\n",
    "from nltk import word_tokenize"
   ]
  },
  {
   "cell_type": "code",
   "execution_count": null,
   "metadata": {},
   "outputs": [],
   "source": [
    "folder_name = \"Turkish\"\n",
    "word_num = 206\n",
    "level = \"Level 2\""
   ]
  },
  {
   "cell_type": "code",
   "execution_count": null,
   "metadata": {},
   "outputs": [],
   "source": [
    "df_word = pd.read_excel(f\"/media/kurubal/SSD/Data Scientist/Work/Modern Ways/Project/{folder_name.lower().capitalize()}/Deployment/Result/{level.lower().capitalize()}/1-Data Preprocess/Word_{word_num}.xlsx\")\n",
    "df_word = pd.DataFrame(df_word.iloc[:,0])\n",
    "df_word"
   ]
  },
  {
   "cell_type": "code",
   "execution_count": null,
   "metadata": {},
   "outputs": [],
   "source": [
    "twogram_file = glob.glob(f\"/media/kurubal/SSD/Data Scientist/Work/Modern Ways/Project/{folder_name.lower().capitalize()}/Deployment/Result/{level.lower().capitalize()}/2-Lesson Level N Gram Sentence/Twogram_And*\")\n",
    "twogram_file"
   ]
  },
  {
   "cell_type": "code",
   "execution_count": null,
   "metadata": {},
   "outputs": [],
   "source": [
    "df_twogram = pd.read_excel(f\"{twogram_file[0]}\")\n",
    "df_twogram.sort_values(by=\"frequency\", ascending=True, inplace=True)\n",
    "df_twogram.reset_index(drop=True, inplace=True)\n",
    "df_twogram = pd.DataFrame(df_twogram.iloc[:,0])\n",
    "df_twogram"
   ]
  },
  {
   "cell_type": "code",
   "execution_count": null,
   "metadata": {},
   "outputs": [],
   "source": [
    "threegram_file = glob.glob(f\"/media/kurubal/SSD/Data Scientist/Work/Modern Ways/Project/{folder_name.lower().capitalize()}/Deployment/Result/{level.lower().capitalize()}/2-Lesson Level N Gram Sentence/Threegram_And*\")\n",
    "threegram_file"
   ]
  },
  {
   "cell_type": "code",
   "execution_count": null,
   "metadata": {},
   "outputs": [],
   "source": [
    "df_threegram = pd.read_excel(f\"{threegram_file[0]}\")\n",
    "df_threegram.sort_values(by=\"frequency\", ascending=True, inplace=True)\n",
    "df_threegram.reset_index(drop=True, inplace=True)\n",
    "df_threegram = pd.DataFrame(df_threegram.iloc[:,0])\n",
    "df_threegram"
   ]
  },
  {
   "cell_type": "code",
   "execution_count": null,
   "metadata": {},
   "outputs": [],
   "source": [
    "fourgram_file = glob.glob(f\"/media/kurubal/SSD/Data Scientist/Work/Modern Ways/Project/{folder_name.lower().capitalize()}/Deployment/Result/{level.lower().capitalize()}/2-Lesson Level N Gram Sentence/Fourgram_And*\")\n",
    "fourgram_file"
   ]
  },
  {
   "cell_type": "code",
   "execution_count": null,
   "metadata": {},
   "outputs": [],
   "source": [
    "df_fourgram = pd.read_excel(f\"{fourgram_file[0]}\")\n",
    "df_fourgram.sort_values(by=\"frequency\", ascending=True, inplace=True)\n",
    "df_fourgram.reset_index(drop=True, inplace=True)\n",
    "df_fourgram = pd.DataFrame(df_fourgram.iloc[:,0])\n",
    "df_fourgram"
   ]
  },
  {
   "cell_type": "code",
   "execution_count": null,
   "metadata": {},
   "outputs": [],
   "source": [
    "fivegram_file = glob.glob(f\"/media/kurubal/SSD/Data Scientist/Work/Modern Ways/Project/{folder_name.lower().capitalize()}/Deployment/Result/{level.lower().capitalize()}/2-Lesson Level N Gram Sentence/Fivegram_And*\")\n",
    "fivegram_file"
   ]
  },
  {
   "cell_type": "code",
   "execution_count": null,
   "metadata": {},
   "outputs": [],
   "source": [
    "df_fivegram = pd.read_excel(f\"{fivegram_file[0]}\")\n",
    "df_fivegram.sort_values(by=\"frequency\", ascending=True, inplace=True)\n",
    "df_fivegram.reset_index(drop=True, inplace=True)\n",
    "df_fivegram = pd.DataFrame(df_fivegram.iloc[:,0])\n",
    "df_fivegram"
   ]
  },
  {
   "cell_type": "code",
   "execution_count": null,
   "metadata": {},
   "outputs": [],
   "source": [
    "twogram_other_file = glob.glob(f\"/media/kurubal/SSD/Data Scientist/Work/Modern Ways/Project/{folder_name.lower().capitalize()}/Deployment/Result/{level.lower().capitalize()}/2-Lesson Level N Gram Sentence/Twogram_*_Include*\")\n",
    "twogram_other_file"
   ]
  },
  {
   "cell_type": "code",
   "execution_count": null,
   "metadata": {},
   "outputs": [],
   "source": [
    "df_twogram_other = pd.read_excel(f\"{twogram_other_file[0]}\")\n",
    "df_twogram_other.sort_values(by=\"frequency\", ascending=True, inplace=True)\n",
    "df_twogram_other.reset_index(drop=True, inplace=True)\n",
    "df_twogram_other = pd.DataFrame(df_twogram_other.iloc[:,0])\n",
    "df_twogram_other"
   ]
  },
  {
   "cell_type": "code",
   "execution_count": null,
   "metadata": {},
   "outputs": [],
   "source": [
    "def word_count(df, bigger_than): # df is a dataframe, bigger_than is an integer\n",
    "    list_all = []\n",
    "    for i in df.columns:\n",
    "        var_list = df[f\"{i}\"].dropna().tolist()\n",
    "        for j in var_list:\n",
    "            list_all.append(j)\n",
    "    text = \" \".join(list_all)\n",
    "    word_list = re.findall(r\"\\w+\",text, re.UNICODE)\n",
    "    df_word_list = pd.DataFrame(word_list)\n",
    "    df_word_list.rename(columns={0:\"word\"}, inplace=True)\n",
    "    df_word_count = pd.DataFrame(df_word_list.value_counts())\n",
    "    df_word_count.reset_index(inplace=True)\n",
    "    df_word_count.rename(columns={0:\"count\"}, inplace=True)\n",
    "    \n",
    "    return  df_word_count[\"count\"][df_word_count.loc[:,\"count\"] > bigger_than].any()  "
   ]
  },
  {
   "cell_type": "code",
   "execution_count": null,
   "metadata": {},
   "outputs": [],
   "source": [
    "twogram_num = 200\n",
    "threegram_num = 200\n",
    "fourgram_num = 200\n",
    "fivegram_num = 200\n",
    "twogram_other_num = 200"
   ]
  },
  {
   "cell_type": "code",
   "execution_count": null,
   "metadata": {},
   "outputs": [],
   "source": [
    "df_lesson_result = pd.DataFrame(columns=[\"word\",\"twogram\",\"twogram_other\",\"threegram\",\"fourgram\",\"fivegram\"])\n",
    "word_thresh_num = 12\n",
    "a = 0\n",
    "b = 0\n",
    "c = 0\n",
    "d = 0\n",
    "e = 0\n",
    "for i in range(len(df_word)):\n",
    "    try:\n",
    "        word = df_word.iloc[i,0]\n",
    "        df_lesson_result.loc[i,\"word\"] = word\n",
    "    except:\n",
    "        pass\n",
    "    \n",
    "    try:\n",
    "        var1 = df_twogram.iloc[a,0]\n",
    "        if (len(df_lesson_result[\"twogram\"]) < twogram_num): # and (not(word_count(df_lesson_result, word_thresh_num))):\n",
    "            df_lesson_result.loc[i,\"twogram\"] = var1\n",
    "            while word_count(df_lesson_result, word_thresh_num): # word count result                \n",
    "                a += 1\n",
    "                var1 = df_twogram.iloc[a,0]\n",
    "                df_lesson_result.loc[i,\"twogram\"] = var1\n",
    "            else:\n",
    "                pass\n",
    "        else:\n",
    "            pass\n",
    "    except:\n",
    "        pass\n",
    "    a += 1\n",
    "\n",
    "    try:\n",
    "        var2 = df_twogram_other.iloc[b,0]\n",
    "        if (len(df_lesson_result[\"twogram_other\"]) < twogram_other_num): # and (not(word_count(df_lesson_result, word_thresh_num))):\n",
    "            df_lesson_result.loc[i,\"twogram_other\"] = var2\n",
    "            while word_count(df_lesson_result, word_thresh_num): # word count result                \n",
    "                b += 1\n",
    "                var2 = df_twogram_other.iloc[b,0]\n",
    "                df_lesson_result.loc[i,\"twogram_other\"] = var2\n",
    "            else:\n",
    "                pass\n",
    "        else:\n",
    "            pass\n",
    "    except:\n",
    "        pass\n",
    "    b += 1\n",
    "\n",
    "    try:\n",
    "        var3 = df_threegram.iloc[c,0]\n",
    "        if (len(df_lesson_result[\"threegram\"]) < threegram_num): # and (not(word_count(df_lesson_result, word_thresh_num))):\n",
    "            df_lesson_result.loc[i,\"threegram\"] = var3\n",
    "            while word_count(df_lesson_result, word_thresh_num): # word count result                \n",
    "                c += 1\n",
    "                var3 = df_threegram.iloc[c,0]\n",
    "                df_lesson_result.loc[i,\"threegram\"] = var3\n",
    "            else:\n",
    "                pass\n",
    "        else:\n",
    "            pass\n",
    "    except:\n",
    "        pass\n",
    "    c += 1\n",
    "\n",
    "    try:\n",
    "        var4 = df_fourgram.iloc[d,0]\n",
    "        if (len(df_lesson_result[\"fourgram\"]) < fourgram_num): # and (not(word_count(df_lesson_result, word_thresh_num))):\n",
    "            df_lesson_result.loc[i,\"fourgram\"] = var4\n",
    "            while word_count(df_lesson_result, word_thresh_num): # word count result                \n",
    "                d += 1\n",
    "                var4 = df_fourgram.iloc[d,0]\n",
    "                df_lesson_result.loc[i,\"fourgram\"] = var4\n",
    "            else:\n",
    "                pass\n",
    "        else:\n",
    "            pass\n",
    "    except:\n",
    "        pass\n",
    "    d += 1\n",
    "\n",
    "    try:\n",
    "        var5 = df_fivegram.iloc[e,0]\n",
    "        if (len(df_lesson_result[\"fivegram\"]) < fivegram_num): # and (not(word_count(df_lesson_result, word_thresh_num))):\n",
    "            df_lesson_result.loc[i,\"fivegram\"] = var5\n",
    "            while word_count(df_lesson_result, word_thresh_num):                \n",
    "                e += 1\n",
    "                var5 = df_fivegram.iloc[e,0]\n",
    "                df_lesson_result.loc[i,\"fivegram\"] = var5\n",
    "            else:\n",
    "                pass\n",
    "        else:\n",
    "            pass\n",
    "    except:\n",
    "        pass\n",
    "    e += 1"
   ]
  },
  {
   "cell_type": "code",
   "execution_count": null,
   "metadata": {},
   "outputs": [],
   "source": [
    "print(f'twogram: {a} \\ntwogram_other: {b} \\nthreegram_other: {c} \\nfourgram_other: {d} \\nfivegram_other: {e}')"
   ]
  },
  {
   "cell_type": "code",
   "execution_count": null,
   "metadata": {},
   "outputs": [],
   "source": [
    "df_lesson_result"
   ]
  },
  {
   "cell_type": "code",
   "execution_count": null,
   "metadata": {},
   "outputs": [],
   "source": [
    "def word_count_result(df): # df is dataframe, bigger_than is integer\n",
    "    list_all = []\n",
    "    for i in df.columns:\n",
    "        var_list = df[f\"{i}\"].dropna().tolist()\n",
    "        for j in var_list:\n",
    "            list_all.append(j)\n",
    "    text = \" \".join(list_all)\n",
    "    word_list = re.findall(r\"\\w+\",text, re.UNICODE)\n",
    "    df_word_list = pd.DataFrame(word_list)\n",
    "    df_word_list.rename(columns={0:\"word\"}, inplace=True)\n",
    "    df_word_count = pd.DataFrame(df_word_list.value_counts())\n",
    "    df_word_count.reset_index(inplace=True)\n",
    "    df_word_count.rename(columns={0:\"count\"}, inplace=True)\n",
    "    \n",
    "    return  df_word_count"
   ]
  },
  {
   "cell_type": "code",
   "execution_count": null,
   "metadata": {},
   "outputs": [],
   "source": [
    "df_word_count_result = word_count_result(df_lesson_result)\n",
    "df_word_count_result"
   ]
  },
  {
   "cell_type": "code",
   "execution_count": null,
   "metadata": {},
   "outputs": [],
   "source": [
    "df_lesson_word_count = pd.merge(df_lesson_result, df_word_count_result, how=\"inner\", on=\"word\")\n",
    "df_lesson_word_count = df_lesson_word_count[[\"word\",\"count\",\"twogram\",\"twogram_other\",\"threegram\",\"fourgram\",\"fivegram\"]]\n",
    "df_lesson_word_count"
   ]
  },
  {
   "cell_type": "code",
   "execution_count": null,
   "metadata": {},
   "outputs": [],
   "source": [
    "#df_lesson_result[\"word\"] = df_word_count_result[\"word\"]\n",
    "#df_lesson_result[\"count\"] = df_word_count_result[\"count\"]"
   ]
  },
  {
   "cell_type": "code",
   "execution_count": null,
   "metadata": {},
   "outputs": [],
   "source": [
    "#df_lesson_result"
   ]
  },
  {
   "cell_type": "code",
   "execution_count": null,
   "metadata": {},
   "outputs": [],
   "source": [
    "df_lesson_word_count.to_excel(f\"Lesson_{level.lower().capitalize()}_Result_{word_num}_Words.xlsx\", index=False)"
   ]
  },
  {
   "cell_type": "code",
   "execution_count": null,
   "metadata": {},
   "outputs": [],
   "source": []
  },
  {
   "cell_type": "code",
   "execution_count": null,
   "metadata": {},
   "outputs": [],
   "source": []
  },
  {
   "cell_type": "code",
   "execution_count": null,
   "metadata": {},
   "outputs": [],
   "source": []
  },
  {
   "cell_type": "code",
   "execution_count": null,
   "metadata": {},
   "outputs": [],
   "source": [
    "word_count_result(df_twogram)"
   ]
  },
  {
   "cell_type": "code",
   "execution_count": null,
   "metadata": {},
   "outputs": [],
   "source": [
    "word_count_result(df_twogram_other)"
   ]
  },
  {
   "cell_type": "code",
   "execution_count": null,
   "metadata": {},
   "outputs": [],
   "source": [
    "word_count_result(df_threegram)"
   ]
  },
  {
   "cell_type": "code",
   "execution_count": null,
   "metadata": {},
   "outputs": [],
   "source": [
    "word_count_result(df_fourgram)"
   ]
  },
  {
   "cell_type": "code",
   "execution_count": null,
   "metadata": {},
   "outputs": [],
   "source": [
    "word_count_result(df_fivegram)"
   ]
  },
  {
   "cell_type": "code",
   "execution_count": null,
   "metadata": {},
   "outputs": [],
   "source": []
  },
  {
   "cell_type": "code",
   "execution_count": null,
   "metadata": {},
   "outputs": [],
   "source": []
  },
  {
   "cell_type": "code",
   "execution_count": null,
   "metadata": {},
   "outputs": [],
   "source": []
  },
  {
   "cell_type": "code",
   "execution_count": null,
   "metadata": {},
   "outputs": [],
   "source": []
  },
  {
   "cell_type": "code",
   "execution_count": null,
   "metadata": {},
   "outputs": [],
   "source": []
  }
 ],
 "metadata": {
  "interpreter": {
   "hash": "651d507d70892fab0fc6529d935cd476f6e2eb1791525b76da6cc8da34bc0503"
  },
  "kernelspec": {
   "display_name": "Python 3.9.5 ('py39')",
   "language": "python",
   "name": "python3"
  },
  "language_info": {
   "codemirror_mode": {
    "name": "ipython",
    "version": 3
   },
   "file_extension": ".py",
   "mimetype": "text/x-python",
   "name": "python",
   "nbconvert_exporter": "python",
   "pygments_lexer": "ipython3",
   "version": "3.9.5"
  },
  "orig_nbformat": 4
 },
 "nbformat": 4,
 "nbformat_minor": 2
}
