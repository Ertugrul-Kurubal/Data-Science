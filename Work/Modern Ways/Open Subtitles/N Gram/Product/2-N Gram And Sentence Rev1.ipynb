{
 "cells": [
  {
   "attachments": {},
   "cell_type": "markdown",
   "metadata": {},
   "source": [
    "#### Single And Multi Word N Gram Sentence Analysis"
   ]
  },
  {
   "attachments": {},
   "cell_type": "markdown",
   "metadata": {},
   "source": [
    "This notebook extracts ngram that is also sentence from Sentence Tokenize Merge Result"
   ]
  },
  {
   "cell_type": "code",
   "execution_count": null,
   "metadata": {},
   "outputs": [],
   "source": [
    "import pandas as pd\n",
    "import numpy as np\n",
    "import re\n",
    "import glob\n",
    "import nltk\n",
    "from nltk import word_tokenize"
   ]
  },
  {
   "cell_type": "code",
   "execution_count": null,
   "metadata": {},
   "outputs": [],
   "source": [
    "sent_path = \"/media/kurubal/SSD/Data Scientist/Work/Modern Ways/Project/Pyspark/Result/Clean Spark Sentence Merge/Clean_Spark_Sentence_Merge_Result.csv\""
   ]
  },
  {
   "cell_type": "code",
   "execution_count": null,
   "metadata": {},
   "outputs": [],
   "source": [
    "df_all_sent = pd.read_csv(f\"{sent_path}\")\n",
    "df_all_sent"
   ]
  },
  {
   "cell_type": "code",
   "execution_count": null,
   "metadata": {},
   "outputs": [],
   "source": [
    "sent1_list = []\n",
    "sent2_list = []\n",
    "sent3_list = []\n",
    "sent4_list = []\n",
    "sent5_list = []\n",
    "for i in df_all_sent.sentence:\n",
    "    word = word_tokenize(i)\n",
    "    if len(word) == 1:\n",
    "        sent1_list.append(i)        \n",
    "    elif len(word) == 2:\n",
    "        sent2_list.append(i)\n",
    "    elif len(word) == 3:\n",
    "        sent3_list.append(i)\n",
    "    elif len(word) == 4:\n",
    "        sent4_list.append(i)\n",
    "    elif len(word) == 5:\n",
    "        sent5_list.append(i)\n",
    "    else:\n",
    "        pass  "
   ]
  },
  {
   "cell_type": "code",
   "execution_count": null,
   "metadata": {},
   "outputs": [],
   "source": [
    "#df_sent1 = pd.DataFrame(sent1_list)\n",
    "#df_sent1.rename(columns={0:\"sentence\"}, inplace=True)\n",
    "#df_sent1.to_csv(\"One_Gram_Sentence.csv\", index=False)"
   ]
  },
  {
   "cell_type": "code",
   "execution_count": null,
   "metadata": {},
   "outputs": [],
   "source": [
    "#df_sent2 = pd.DataFrame(sent2_list)\n",
    "#df_sent2.rename(columns={0:\"sentence\"}, inplace=True)\n",
    "#df_sent2.to_csv(\"Two_Gram_Sentence.csv\", index=False)"
   ]
  },
  {
   "cell_type": "code",
   "execution_count": null,
   "metadata": {},
   "outputs": [],
   "source": [
    "#df_sent3 = pd.DataFrame(sent3_list)\n",
    "#df_sent3.rename(columns={0:\"sentence\"}, inplace=True)\n",
    "#df_sent3.to_csv(\"Three_Gram_Sentence.csv\", index=False)"
   ]
  },
  {
   "cell_type": "code",
   "execution_count": null,
   "metadata": {},
   "outputs": [],
   "source": [
    "#df_sent4 = pd.DataFrame(sent4_list)\n",
    "#df_sent4.rename(columns={0:\"sentence\"}, inplace=True)\n",
    "#df_sent4.to_csv(\"Four_Gram_Sentence.csv\", index=False)"
   ]
  },
  {
   "cell_type": "code",
   "execution_count": null,
   "metadata": {},
   "outputs": [],
   "source": [
    "#df_sent5 = pd.DataFrame(sent5_list)\n",
    "#df_sent5.rename(columns={0:\"sentence\"}, inplace=True)\n",
    "#df_sent5.to_csv(\"Five_Gram_Sentence.csv\", index=False)"
   ]
  },
  {
   "cell_type": "code",
   "execution_count": null,
   "metadata": {},
   "outputs": [],
   "source": []
  },
  {
   "attachments": {},
   "cell_type": "markdown",
   "metadata": {},
   "source": [
    "#### Multi Processing N Gram And Sentence"
   ]
  },
  {
   "cell_type": "code",
   "execution_count": null,
   "metadata": {},
   "outputs": [],
   "source": [
    "import os\n",
    "import multiprocessing\n",
    "#import multiprocessing as mp\n",
    "from multiprocessing import Process, Manager, Pool, Queue\n",
    "import pandas as pd\n",
    "import numpy as np\n",
    "import nltk\n",
    "from nltk import word_tokenize"
   ]
  },
  {
   "cell_type": "code",
   "execution_count": null,
   "metadata": {},
   "outputs": [],
   "source": [
    "help(multiprocessing)"
   ]
  },
  {
   "cell_type": "code",
   "execution_count": null,
   "metadata": {},
   "outputs": [],
   "source": [
    "nprocs = multiprocessing.cpu_count()\n",
    "print(f\"Number of CPU cores: {nprocs}\")"
   ]
  },
  {
   "cell_type": "code",
   "execution_count": null,
   "metadata": {},
   "outputs": [],
   "source": [
    "sent_path = \"/media/kurubal/SSD/Data Scientist/Work/Modern Ways/Project/Pyspark/Result/Clean Spark Sentence Merge/Clean_Spark_Sentence_Merge_Result.csv\""
   ]
  },
  {
   "cell_type": "code",
   "execution_count": null,
   "metadata": {},
   "outputs": [],
   "source": [
    "df_all_sent = pd.read_csv(f\"{sent_path}\")\n",
    "df_all_sent"
   ]
  },
  {
   "cell_type": "code",
   "execution_count": null,
   "metadata": {},
   "outputs": [],
   "source": [
    "sent_list = df_all_sent.iloc[:,0].to_list()"
   ]
  },
  {
   "cell_type": "code",
   "execution_count": null,
   "metadata": {},
   "outputs": [],
   "source": [
    "# import os\n",
    "# import multiprocessing\n",
    "# from multiprocessing import Process, Manager, Pool, Queue\n",
    "manager = multiprocessing.Manager()\n",
    "sent1_list = manager.list()\n",
    "sent2_list = manager.list()\n",
    "sent3_list = manager.list()\n",
    "sent4_list = manager.list()\n",
    "sent5_list = manager.list()\n",
    "\n",
    "def sent_ngram(sent):\n",
    "    word = word_tokenize(sent)\n",
    "    if len(word) == 1:\n",
    "        sent1_list.append(sent)        \n",
    "    elif len(word) == 2:\n",
    "        sent2_list.append(sent)\n",
    "    elif len(word) == 3:\n",
    "        sent3_list.append(sent)\n",
    "    elif len(word) == 4:\n",
    "        sent4_list.append(sent)\n",
    "    elif len(word) == 5:\n",
    "        sent5_list.append(sent)\n",
    "    else:\n",
    "        pass\n",
    "    \n",
    "if __name__ == '__main__':\n",
    "    # with Pool(16) as p:\n",
    "    with Pool(nprocs) as p: # Pool number CPU sayısına eşit olursa tüm CPU lar çalışır\n",
    "        p.map(sent_ngram, sent_list)"
   ]
  },
  {
   "cell_type": "code",
   "execution_count": null,
   "metadata": {},
   "outputs": [],
   "source": [
    "df_sent1 = pd.DataFrame(list(sent1_list))\n",
    "df_sent1.rename(columns={0:\"sentence\"}, inplace=True)\n",
    "df_sent1.to_csv(\"One_Gram_Sentence.csv\", index=False)"
   ]
  },
  {
   "cell_type": "code",
   "execution_count": null,
   "metadata": {},
   "outputs": [],
   "source": [
    "df_sent2 = pd.DataFrame(list(sent2_list))\n",
    "df_sent2.rename(columns={0:\"sentence\"}, inplace=True)\n",
    "df_sent2.to_csv(\"Two_Gram_Sentence.csv\", index=False)"
   ]
  },
  {
   "cell_type": "code",
   "execution_count": null,
   "metadata": {},
   "outputs": [],
   "source": [
    "df_sent3 = pd.DataFrame(list(sent3_list))\n",
    "df_sent3.rename(columns={0:\"sentence\"}, inplace=True)\n",
    "df_sent3.to_csv(\"Three_Gram_Sentence.csv\", index=False)"
   ]
  },
  {
   "cell_type": "code",
   "execution_count": null,
   "metadata": {},
   "outputs": [],
   "source": [
    "df_sent4 = pd.DataFrame(list(sent4_list))\n",
    "df_sent4.rename(columns={0:\"sentence\"}, inplace=True)\n",
    "df_sent4.to_csv(\"Four_Gram_Sentence.csv\", index=False)"
   ]
  },
  {
   "cell_type": "code",
   "execution_count": null,
   "metadata": {},
   "outputs": [],
   "source": [
    "df_sent5 = pd.DataFrame(list(sent5_list))\n",
    "df_sent5.rename(columns={0:\"sentence\"}, inplace=True)\n",
    "df_sent5.to_csv(\"Five_Gram_Sentence.csv\", index=False)"
   ]
  },
  {
   "cell_type": "code",
   "execution_count": null,
   "metadata": {},
   "outputs": [],
   "source": []
  },
  {
   "attachments": {},
   "cell_type": "markdown",
   "metadata": {},
   "source": [
    "#### N Gram And Sentence Intersection (For Frequency)"
   ]
  },
  {
   "cell_type": "code",
   "execution_count": null,
   "metadata": {},
   "outputs": [],
   "source": [
    "df_merge_sent = pd.read_csv(f\"{sent_path}\")\n",
    "df_merge_sent = df_merge_sent[[\"sentence\",\"frequency\"]]\n",
    "df_merge_sent"
   ]
  },
  {
   "cell_type": "code",
   "execution_count": null,
   "metadata": {},
   "outputs": [],
   "source": [
    "n_gram_type = \"Five\" # Two, Three etc.\n",
    "path = \"/media/kurubal/SSD/Data Scientist/Data Science/Data-Scientist/Work/Modern Ways/N Gram/Product\""
   ]
  },
  {
   "cell_type": "code",
   "execution_count": null,
   "metadata": {},
   "outputs": [],
   "source": [
    "df_gram = pd.read_csv(f\"{path}/{n_gram_type.capitalize()}_Gram_Sentence.csv\")\n",
    "#df_gram.rename(columns={\"word\":\"sentence\"}, inplace=True)\n",
    "df_gram"
   ]
  },
  {
   "cell_type": "code",
   "execution_count": null,
   "metadata": {},
   "outputs": [],
   "source": [
    "df_gram_sentence = pd.merge(df_merge_sent, df_gram, how='inner', on=\"sentence\")\n",
    "df_gram_sentence.rename(columns={\"sentence\":f\"{n_gram_type.lower()}gram\"}, inplace=True)\n",
    "df_gram_sentence = df_gram_sentence.sort_values(by=\"frequency\", ascending=False)\n",
    "df_gram_sentence"
   ]
  },
  {
   "cell_type": "code",
   "execution_count": null,
   "metadata": {},
   "outputs": [],
   "source": [
    "df_gram_sentence.to_csv(f\"{n_gram_type.capitalize()}_Gram_And_Sentence.csv\", index=False)"
   ]
  },
  {
   "cell_type": "code",
   "execution_count": null,
   "metadata": {},
   "outputs": [],
   "source": []
  },
  {
   "cell_type": "code",
   "execution_count": null,
   "metadata": {},
   "outputs": [],
   "source": []
  },
  {
   "cell_type": "code",
   "execution_count": null,
   "metadata": {},
   "outputs": [],
   "source": []
  }
 ],
 "metadata": {
  "interpreter": {
   "hash": "651d507d70892fab0fc6529d935cd476f6e2eb1791525b76da6cc8da34bc0503"
  },
  "kernelspec": {
   "display_name": "Python 3.9.5 64-bit ('py39': conda)",
   "language": "python",
   "name": "python3"
  },
  "language_info": {
   "codemirror_mode": {
    "name": "ipython",
    "version": 3
   },
   "file_extension": ".py",
   "mimetype": "text/x-python",
   "name": "python",
   "nbconvert_exporter": "python",
   "pygments_lexer": "ipython3",
   "version": "3.9.5 (default, Jun  4 2021, 12:28:51) \n[GCC 7.5.0]"
  },
  "orig_nbformat": 4
 },
 "nbformat": 4,
 "nbformat_minor": 2
}
