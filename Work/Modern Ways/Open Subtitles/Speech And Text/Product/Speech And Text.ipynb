{
 "cells": [
  {
   "attachments": {},
   "cell_type": "markdown",
   "metadata": {},
   "source": [
    "### Speech To Text "
   ]
  },
  {
   "attachments": {},
   "cell_type": "markdown",
   "metadata": {},
   "source": [
    "Thi"
   ]
  },
  {
   "attachments": {},
   "cell_type": "markdown",
   "metadata": {},
   "source": [
    "##### Audio"
   ]
  },
  {
   "cell_type": "code",
   "execution_count": null,
   "metadata": {},
   "outputs": [],
   "source": [
    "#!pip install SpeechRecognition"
   ]
  },
  {
   "cell_type": "code",
   "execution_count": 14,
   "metadata": {},
   "outputs": [],
   "source": [
    "from google.cloud import speech\n",
    "import speech_recognition as sr\n",
    "from os import path"
   ]
  },
  {
   "cell_type": "code",
   "execution_count": 15,
   "metadata": {},
   "outputs": [],
   "source": [
    "# Initialize recognizer class (for recognizing the speech)\n",
    "r = sr.Recognizer()"
   ]
  },
  {
   "cell_type": "code",
   "execution_count": 16,
   "metadata": {},
   "outputs": [],
   "source": [
    "## Reading Audio file as source\n",
    "## listening the audio file and store in audio_text variable\n",
    "#with sr.AudioFile('abdul-basit-murattal-001.wav') as source:\n",
    "#    audio_text = r.listen(source) # read the limited audio file"
   ]
  },
  {
   "cell_type": "code",
   "execution_count": 17,
   "metadata": {},
   "outputs": [],
   "source": [
    "# 1 Way\n",
    "# Reading Audio file as source\n",
    "# listening the audio file and store in audio_text variable\n",
    "with sr.AudioFile('/media/kurubal/SSD/Data Scientist/Data Science/Data-Scientist/Work/Modern Ways/Speech And Text/Data/Audio/abdul-basit-murattal-001.wav') as source:\n",
    "    audio_text = r.record(source) # read the entire audio file"
   ]
  },
  {
   "cell_type": "code",
   "execution_count": 18,
   "metadata": {},
   "outputs": [],
   "source": [
    "## 2 Way\n",
    "## Reading Audio file as source\n",
    "#from os import path\n",
    "#\n",
    "#AUDIO_FILE = path.join(path.dirname(path.realpath(\"/media/kurubal/SSD/Data Scientist/Data Science/Data-Scientist/Work/Modern Ways/Speech And Text/ReDe/abdul-basit-murattal-001.wav\")), \"abdul-basit-murattal-001.wav\")\n",
    "#\n",
    "## use the audio file as the audio source\n",
    "#r = sr.Recognizer()\n",
    "#with sr.AudioFile(AUDIO_FILE) as source:\n",
    "#    audio_text = r.record(source)  # read the entire audio file"
   ]
  },
  {
   "cell_type": "code",
   "execution_count": 19,
   "metadata": {},
   "outputs": [
    {
     "name": "stdout",
     "output_type": "stream",
     "text": [
      "Converting audio transcripts into text ...\n",
      "{'alternative': [{'transcript': 'اعوذ بالله من الشيطان الرجيم بسم الله الرحمن الرحيم الحمد لله رب العالمين الرحمن الرحيم مالك يوم الدين اياك نعبد واياك نستعين اهدنا الصراط المستقيم صراط الذين انعمت عليهم غير المغضوب عليهم ولا الضالين', 'confidence': 0.92439926}, {'transcript': 'اعوذ بالله من الشيطان الرجيم بسم الله الرحمن الرحيم الحمد لله رب العالمين الرحمن الرحيم مالك يوم الدين اياك نعبد واياك نستعين اهدنا الصراط المستقيم صراط الذين انعمت عليهم غير المغضوب عليهم و لا الضالين'}, {'transcript': 'اعوذ بالله من الشيطان الرجيم بسم الله الرحمن الرحيم الحمد لله رب العالمين الرحمن الرحيم مالك يوم الدين اياك نعبد واياك نستعين اهدنا الصراط المستقيم صراط الذين انعمت عليهم غير المغضوب عليهم ولا الضالين امين'}, {'transcript': 'اعوذ بالله من الشيطان الرجيم بسم الله الرحمن الرحيم الحمد لله رب العالمين الرحمن الرحيم مالك يوم الدين اياك نعبد و اياك نستعين اهدنا الصراط المستقيم صراط الذين انعمت عليهم غير المغضوب عليهم ولا الضالين'}, {'transcript': 'اعوذ بالله من الشيطان الرجيم بسم الله الرحمن الرحيم الحمد لله رب العالمين الرحمن الرحيم مالك يوم الدين اياك نعبد و اياك نستعين اهدنا الصراط المستقيم صراط الذين انعمت عليهم غير المغضوب عليهم و لا الضالين'}], 'final': True}\n"
     ]
    }
   ],
   "source": [
    "# recoginize_() method will throw a request error if the API is unreachable, hence using exception handling\n",
    "try:\n",
    "    # using google speech recognition\n",
    "    text = r.recognize_google(audio_text, language=\"ar-EG\", show_all=True)\n",
    "    print('Converting audio transcripts into text ...')\n",
    "    print(text)\n",
    " \n",
    "except:\n",
    "    print('Sorry.. run again...')"
   ]
  },
  {
   "cell_type": "code",
   "execution_count": 20,
   "metadata": {},
   "outputs": [
    {
     "data": {
      "text/plain": [
       "{'alternative': [{'transcript': 'اعوذ بالله من الشيطان الرجيم بسم الله الرحمن الرحيم الحمد لله رب العالمين الرحمن الرحيم مالك يوم الدين اياك نعبد واياك نستعين اهدنا الصراط المستقيم صراط الذين انعمت عليهم غير المغضوب عليهم ولا الضالين',\n",
       "   'confidence': 0.92439926},\n",
       "  {'transcript': 'اعوذ بالله من الشيطان الرجيم بسم الله الرحمن الرحيم الحمد لله رب العالمين الرحمن الرحيم مالك يوم الدين اياك نعبد واياك نستعين اهدنا الصراط المستقيم صراط الذين انعمت عليهم غير المغضوب عليهم و لا الضالين'},\n",
       "  {'transcript': 'اعوذ بالله من الشيطان الرجيم بسم الله الرحمن الرحيم الحمد لله رب العالمين الرحمن الرحيم مالك يوم الدين اياك نعبد واياك نستعين اهدنا الصراط المستقيم صراط الذين انعمت عليهم غير المغضوب عليهم ولا الضالين امين'},\n",
       "  {'transcript': 'اعوذ بالله من الشيطان الرجيم بسم الله الرحمن الرحيم الحمد لله رب العالمين الرحمن الرحيم مالك يوم الدين اياك نعبد و اياك نستعين اهدنا الصراط المستقيم صراط الذين انعمت عليهم غير المغضوب عليهم ولا الضالين'},\n",
       "  {'transcript': 'اعوذ بالله من الشيطان الرجيم بسم الله الرحمن الرحيم الحمد لله رب العالمين الرحمن الرحيم مالك يوم الدين اياك نعبد و اياك نستعين اهدنا الصراط المستقيم صراط الذين انعمت عليهم غير المغضوب عليهم و لا الضالين'}],\n",
       " 'final': True}"
      ]
     },
     "execution_count": 20,
     "metadata": {},
     "output_type": "execute_result"
    }
   ],
   "source": [
    "text"
   ]
  },
  {
   "cell_type": "code",
   "execution_count": null,
   "metadata": {},
   "outputs": [],
   "source": []
  },
  {
   "attachments": {},
   "cell_type": "markdown",
   "metadata": {},
   "source": [
    "##### Mic"
   ]
  },
  {
   "cell_type": "code",
   "execution_count": 3,
   "metadata": {},
   "outputs": [],
   "source": [
    "#!pip install PyAudio"
   ]
  },
  {
   "cell_type": "code",
   "execution_count": null,
   "metadata": {},
   "outputs": [],
   "source": [
    "# Reading Microphone as source\n",
    "# listening the speech and store in audio_text variable\n",
    "\n",
    "with sr.Microphone() as source:\n",
    "    print(\"Talk\")\n",
    "    audio_text = r.listen(source)\n",
    "    print(\"Time over, thanks\")\n",
    "# recoginize_() method will throw a request error if the API is unreachable, hence using exception handling"
   ]
  },
  {
   "cell_type": "code",
   "execution_count": null,
   "metadata": {},
   "outputs": [],
   "source": [
    "try:\n",
    "    # using google speech recognition\n",
    "    print(\"Text: \"+r.recognize_google(audio_text, language=\"tr-TR\"))\n",
    "except:\n",
    "     print(\"Sorry, I did not get that\")"
   ]
  },
  {
   "cell_type": "code",
   "execution_count": null,
   "metadata": {},
   "outputs": [],
   "source": []
  },
  {
   "attachments": {},
   "cell_type": "markdown",
   "metadata": {},
   "source": [
    "### Google Cloud Local"
   ]
  },
  {
   "attachments": {},
   "cell_type": "markdown",
   "metadata": {},
   "source": [
    "##### Audio"
   ]
  },
  {
   "cell_type": "code",
   "execution_count": 21,
   "metadata": {},
   "outputs": [],
   "source": [
    "#!pip install --upgrade oauth2client"
   ]
  },
  {
   "cell_type": "code",
   "execution_count": 22,
   "metadata": {},
   "outputs": [],
   "source": [
    "#!pip install --upgrade gcloud\n",
    "#!pip install --upgrade google-api-python-client"
   ]
  },
  {
   "cell_type": "code",
   "execution_count": 5,
   "metadata": {},
   "outputs": [],
   "source": [
    "import argparse\n",
    "import base64\n",
    "import json\n",
    "from googleapiclient import discovery\n",
    "import httplib2\n",
    "from oauth2client.client import GoogleCredentials"
   ]
  },
  {
   "cell_type": "code",
   "execution_count": 6,
   "metadata": {},
   "outputs": [],
   "source": [
    "import speech_recognition as sr\n",
    "from os import path\n",
    "AUDIO_FILE = path.join(path.dirname(path.realpath(\"/media/kurubal/SSD/Data Scientist/Data Science/Data-Scientist/Work/Modern Ways/Speech And Text/Data/Audio/abdul-basit-murattal-001.wav\")), \"abdul-basit-murattal-001.wav\")\n",
    "# AUDIO_FILE = path.join(path.dirname(path.realpath(__file__)), \"french.aiff\")\n",
    "# AUDIO_FILE = path.join(path.dirname(path.realpath(__file__)), \"chinese.flac\")\n",
    "\n",
    "# use the audio file as the audio source\n",
    "r = sr.Recognizer()\n",
    "with sr.AudioFile(AUDIO_FILE) as source:\n",
    "    audio = r.record(source)  # read the entire audio file"
   ]
  },
  {
   "cell_type": "code",
   "execution_count": null,
   "metadata": {},
   "outputs": [],
   "source": []
  },
  {
   "cell_type": "code",
   "execution_count": 62,
   "metadata": {},
   "outputs": [
    {
     "name": "stdout",
     "output_type": "stream",
     "text": [
      "Google Cloud Speech thinks you said اعوذ بالله من الشيطان الرجيم بسم الله الرحمن الرحيم الحمد لله رب العالمين الرحمن الرحيم مالك يوم الدين اياك نعبد واياك نستعين اهدنا الصراط المستقيم صراط الذين انعمت عليهم غير المغضوب عليهم ولا الضالين \n"
     ]
    }
   ],
   "source": [
    "# recognize speech using Google Cloud Speech\n",
    "GOOGLE_CLOUD_SPEECH_CREDENTIALS = r'''json_file_content''' # json file content\n",
    "\n",
    "try:\n",
    "    print(\"Google Cloud Speech thinks you said :\")\n",
    "    text_output = r.recognize_google_cloud(audio, credentials_json=GOOGLE_CLOUD_SPEECH_CREDENTIALS,language=\"ar-EG\",show_all=True)\n",
    "    print(text_output) # show_all=True also shows start and end time\n",
    "    #print(r.recognize_google_cloud(audio, credentials_json=GOOGLE_CLOUD_SPEECH_CREDENTIALS,language=\"ar-EG\",show_all=False))\n",
    "except sr.UnknownValueError:\n",
    "    print(\"Google Cloud Speech could not understand audio\")\n",
    "except sr.RequestError as e:\n",
    "    print(\"Could not request results from Google Cloud Speech service; {0}\".format(e))"
   ]
  },
  {
   "cell_type": "code",
   "execution_count": null,
   "metadata": {},
   "outputs": [],
   "source": [
    "text_output"
   ]
  },
  {
   "cell_type": "code",
   "execution_count": 8,
   "metadata": {},
   "outputs": [],
   "source": [
    "import json "
   ]
  },
  {
   "cell_type": "code",
   "execution_count": null,
   "metadata": {},
   "outputs": [],
   "source": [
    "json_object = json.dumps(text_output, indent = 4, ensure_ascii=False) \n",
    "print(json_object)"
   ]
  },
  {
   "cell_type": "code",
   "execution_count": null,
   "metadata": {},
   "outputs": [],
   "source": [
    "with open(\"result_file.json\", \"w\", encoding=\"utf\") as file:\n",
    "    file.write(json_object)"
   ]
  },
  {
   "cell_type": "code",
   "execution_count": null,
   "metadata": {},
   "outputs": [],
   "source": []
  },
  {
   "attachments": {},
   "cell_type": "markdown",
   "metadata": {},
   "source": [
    "### Google Cloud"
   ]
  },
  {
   "cell_type": "code",
   "execution_count": 10,
   "metadata": {},
   "outputs": [],
   "source": [
    "#!pip install google.cloud"
   ]
  },
  {
   "cell_type": "code",
   "execution_count": 12,
   "metadata": {},
   "outputs": [],
   "source": [
    "#!pip install google-cloud-speech"
   ]
  },
  {
   "cell_type": "code",
   "execution_count": 38,
   "metadata": {},
   "outputs": [],
   "source": [
    "import io\n",
    "import os\n",
    "from google.oauth2 import service_account\n",
    "from google.cloud import speech\n",
    "#from google.cloud.speech import enums\n",
    "#from google.cloud.speech import types"
   ]
  },
  {
   "cell_type": "code",
   "execution_count": null,
   "metadata": {},
   "outputs": [],
   "source": [
    "credentials = google.oauth2.service_account.Credentials.from_service_account_file(\n",
    "    '/media/kurubal/SSD/Data Scientist/Work/Modern Ways/Project/Arabic/Quaran/Speech To Text/Notebook/Json/speechtotext-338809-badb5c829ec0.json',\n",
    "    scopes=['https://www.googleapis.com/auth/cloud-platform'])"
   ]
  },
  {
   "cell_type": "code",
   "execution_count": 39,
   "metadata": {},
   "outputs": [],
   "source": [
    "def transcribe_file(speech_file):\n",
    "    \"\"\"Transcribe the given audio file asynchronously.\"\"\"\n",
    "    from google.cloud import speech\n",
    "\n",
    "    #client = speech.SpeechClient(credentials=credentials)\n",
    "    client = speech.SpeechClient.from_service_account_file(\"/media/kurubal/SSD/Data Scientist/Work/Modern Ways/Project/Arabic/Quaran/Speech To Text/Notebook/Json/speechtotext-338809-badb5c829ec0.json\")\n",
    "\n",
    "    with open(speech_file, \"rb\") as audio_file:\n",
    "        content = audio_file.read()\n",
    "\n",
    "    \"\"\"\n",
    "     Note that transcription is limited to a 60 seconds audio file.\n",
    "     Use a GCS file for audio longer than 1 minute.\n",
    "    \"\"\"\n",
    "    audio = speech.RecognitionAudio(content=content)\n",
    "\n",
    "    config = speech.RecognitionConfig(\n",
    "        encoding=speech.RecognitionConfig.AudioEncoding.LINEAR16,\n",
    "        sample_rate_hertz=44100,\n",
    "        language_code=\"ar-EG\",\n",
    "    )\n",
    "\n",
    "\n",
    "    operation = client.long_running_recognize(config=config, audio=audio)\n",
    "\n",
    "    print(\"Waiting for operation to complete...\")\n",
    "    response = operation.result(timeout=90)\n",
    "\n",
    "    # Each result is for a consecutive portion of the audio. Iterate through\n",
    "    # them to get the transcripts for the entire audio file.\n",
    "    for result in response.results:\n",
    "        # The first alternative is the most likely one for this portion.\n",
    "        print(u\"Transcript: {}\".format(result.alternatives[0].transcript))\n",
    "        print(\"Confidence: {}\".format(result.alternatives[0].confidence))"
   ]
  },
  {
   "cell_type": "code",
   "execution_count": null,
   "metadata": {},
   "outputs": [],
   "source": [
    "transcribe_file('/media/kurubal/SSD/Data Scientist/Data Science/Data-Scientist/Work/Modern Ways/Speech And Text/Data/Audio/abdul-basit-murattal-001.mp3')"
   ]
  },
  {
   "cell_type": "code",
   "execution_count": null,
   "metadata": {},
   "outputs": [],
   "source": []
  },
  {
   "attachments": {},
   "cell_type": "markdown",
   "metadata": {},
   "source": [
    "### Long Audio File"
   ]
  },
  {
   "cell_type": "code",
   "execution_count": 13,
   "metadata": {},
   "outputs": [
    {
     "name": "stdout",
     "output_type": "stream",
     "text": [
      "Collecting pydub\n",
      "  Using cached pydub-0.25.1-py2.py3-none-any.whl (32 kB)\n",
      "Installing collected packages: pydub\n",
      "Successfully installed pydub-0.25.1\n"
     ]
    }
   ],
   "source": [
    "#!pip install pydub"
   ]
  },
  {
   "cell_type": "code",
   "execution_count": null,
   "metadata": {},
   "outputs": [],
   "source": [
    "import os \n",
    "from pydub import AudioSegment\n",
    "import speech_recognition as sr\n",
    "from pydub.silence import split_on_silence"
   ]
  },
  {
   "cell_type": "code",
   "execution_count": null,
   "metadata": {},
   "outputs": [],
   "source": [
    "recognizer = sr.Recognizer()\n",
    "\n",
    "def load_chunks(filename):\n",
    "    long_audio = AudioSegment.from_mp3(filename)\n",
    "    audio_chunks = split_on_silence(\n",
    "        long_audio, min_silence_len=1800,\n",
    "        silence_thresh=-17\n",
    "    )\n",
    "    return audio_chunks"
   ]
  },
  {
   "cell_type": "code",
   "execution_count": null,
   "metadata": {},
   "outputs": [],
   "source": [
    "for audio_chunk in load_chunks('/media/kurubal/SSD/Data Scientist/Data Science/Data-Scientist/Work/Modern Ways/Speech And Text/Data/Audio/abdul-basit-murattal-001.mp3'):\n",
    "    audio_chunk.export(\"temp\", format=\"wav\")\n",
    "    with sr.AudioFile(\"temp\") as source:\n",
    "        audio = recognizer.listen(source)\n",
    "        try:\n",
    "            text = recognizer.recognize_google(audio)\n",
    "            print(\"Chunk : {}\".format(text))\n",
    "        except Exception as ex:\n",
    "            print(\"Error occured\")\n",
    "            print(ex)\n",
    "\n",
    "print(\"++++++\")"
   ]
  },
  {
   "cell_type": "code",
   "execution_count": null,
   "metadata": {},
   "outputs": [],
   "source": []
  },
  {
   "attachments": {},
   "cell_type": "markdown",
   "metadata": {},
   "source": [
    "### Google Cloud Timestamp"
   ]
  },
  {
   "cell_type": "code",
   "execution_count": null,
   "metadata": {},
   "outputs": [],
   "source": [
    "from google.cloud import speech_v1 as speech"
   ]
  },
  {
   "cell_type": "code",
   "execution_count": null,
   "metadata": {},
   "outputs": [],
   "source": [
    "json_credentials = r'''json file content'''"
   ]
  },
  {
   "cell_type": "code",
   "execution_count": null,
   "metadata": {},
   "outputs": [],
   "source": [
    "# Without Timestamp\n",
    "\n",
    "def speech_to_text(config, audio):\n",
    "    client = speech.SpeechClient(credentials=json_credentials)\n",
    "    response = client.recognize(config=config, audio=audio)\n",
    "    print_sentences(response)\n",
    "\n",
    "\n",
    "def print_sentences(response):\n",
    "    for result in response.results:\n",
    "        best_alternative = result.alternatives[0]\n",
    "        transcript = best_alternative.transcript\n",
    "        confidence = best_alternative.confidence\n",
    "        print(\"-\" * 80)\n",
    "        print(f\"Transcript: {transcript}\")\n",
    "        print(f\"Confidence: {confidence:.0%}\")"
   ]
  },
  {
   "cell_type": "code",
   "execution_count": null,
   "metadata": {},
   "outputs": [],
   "source": [
    "config = dict(language_code=\"ar-EG\")\n",
    "audio = dict(uri=\"/media/kurubal/SSD/Data Scientist/Data Science/Data-Scientist/Work/Modern Ways/Speech And Text/Data/Audio/abdul-basit-murattal-001.wav\")"
   ]
  },
  {
   "cell_type": "code",
   "execution_count": null,
   "metadata": {},
   "outputs": [],
   "source": [
    "speech_to_text(config, audio)"
   ]
  },
  {
   "cell_type": "code",
   "execution_count": null,
   "metadata": {},
   "outputs": [],
   "source": []
  },
  {
   "cell_type": "code",
   "execution_count": null,
   "metadata": {},
   "outputs": [],
   "source": [
    "# With Timestamp\n",
    "\n",
    "def speech_to_text(config, audio):\n",
    "    client = speech.SpeechClient(credentials=json_credentials)\n",
    "    response = client.recognize(config=config, audio=audio)\n",
    "    print_sentences(response)\n",
    "\n",
    "\n",
    "def print_sentences(response):\n",
    "    for result in response.results:\n",
    "        best_alternative = result.alternatives[0]\n",
    "        transcript = best_alternative.transcript\n",
    "        confidence = best_alternative.confidence\n",
    "        print(\"-\" * 80)\n",
    "        print(f\"Transcript: {transcript}\")\n",
    "        print(f\"Confidence: {confidence:.0%}\")\n",
    "        print_word_offsets(best_alternative)\n",
    "\n",
    "\n",
    "def print_word_offsets(alternative):\n",
    "    for word in alternative.words:\n",
    "        start_s = word.start_time.total_seconds()\n",
    "        end_s = word.end_time.total_seconds()\n",
    "        word = word.word\n",
    "        print(f\"{start_s:>7.3f} | {end_s:>7.3f} | {word}\")"
   ]
  },
  {
   "cell_type": "code",
   "execution_count": null,
   "metadata": {},
   "outputs": [],
   "source": [
    "config = dict(\n",
    "    language_code=\"ar-EG\",\n",
    "    enable_automatic_punctuation=False,\n",
    "    enable_word_time_offsets=False,\n",
    ")\n",
    "audio = dict(uri=\"/media/kurubal/SSD/Data Scientist/Data Science/Data-Scientist/Work/Modern Ways/Speech And Text/Data/Audio/abdul-basit-murattal-001.wav\")"
   ]
  },
  {
   "cell_type": "code",
   "execution_count": null,
   "metadata": {},
   "outputs": [],
   "source": [
    "speech_to_text(config, audio)"
   ]
  }
 ],
 "metadata": {
  "interpreter": {
   "hash": "651d507d70892fab0fc6529d935cd476f6e2eb1791525b76da6cc8da34bc0503"
  },
  "kernelspec": {
   "display_name": "Python 3.9.5 64-bit ('py39': conda)",
   "language": "python",
   "name": "python3"
  },
  "language_info": {
   "codemirror_mode": {
    "name": "ipython",
    "version": 3
   },
   "file_extension": ".py",
   "mimetype": "text/x-python",
   "name": "python",
   "nbconvert_exporter": "python",
   "pygments_lexer": "ipython3",
   "version": "3.9.5"
  }
 },
 "nbformat": 4,
 "nbformat_minor": 2
}
