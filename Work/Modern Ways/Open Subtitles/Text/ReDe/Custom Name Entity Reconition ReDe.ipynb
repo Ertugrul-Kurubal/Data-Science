{
 "cells": [
  {
   "cell_type": "markdown",
   "metadata": {},
   "source": [
    "### Custom Name Entity Check Func"
   ]
  },
  {
   "cell_type": "code",
   "execution_count": null,
   "metadata": {},
   "outputs": [],
   "source": [
    "import pandas as pd\n",
    "import numpy as np\n",
    "from itertools import islice\n",
    "import re"
   ]
  },
  {
   "cell_type": "code",
   "execution_count": null,
   "metadata": {},
   "outputs": [],
   "source": [
    "word_list = [\"ramiro\", \"Thomas\", \"Peter\",\"Arthur\", \"Kirkland\", \"Sizi\",\"Ertugrul\", \"Gregor\", \"$ali\", \"20str\", \"evet\",\"neden\"]"
   ]
  },
  {
   "cell_type": "code",
   "execution_count": null,
   "metadata": {},
   "outputs": [],
   "source": [
    "# df_word = pd.read_excel(\"/media/kurubal/SSD/Data Scientist/Work/Modern Ways/Project/Pyspark/Product/Sentence_Single.xlsx\")\n",
    "# df_word"
   ]
  },
  {
   "cell_type": "code",
   "execution_count": null,
   "metadata": {},
   "outputs": [],
   "source": [
    "with open(\"/media/kurubal/SSD/Data Scientist/Work/Modern Ways/Project/Pyspark/Temp/xaa.tr\", \"r\",encoding=\"latin1\") as file:\n",
    "    text = file.read()"
   ]
  },
  {
   "cell_type": "code",
   "execution_count": null,
   "metadata": {},
   "outputs": [],
   "source": [
    "digit_and_not_alnum = []\n",
    "string_word = []\n",
    "#for i in df_word.sentence:\n",
    "for i in word_list:\n",
    "    i = str(i)\n",
    "    if not(i[0].isalnum()) or i[0].isdigit():\n",
    "        digit_and_not_alnum.append(i)\n",
    "    else:\n",
    "        string_word.append(i)"
   ]
  },
  {
   "cell_type": "code",
   "execution_count": null,
   "metadata": {},
   "outputs": [],
   "source": [
    "# # 1-Way\n",
    "# special_name_list = []  \n",
    "# for j in string_word:\n",
    "#     var1_list = re.findall(f\"(?:\\s|^){j}(?:\\s|$)\", text, flags=re.IGNORECASE)\n",
    "#     var2_list = []\n",
    "#     for k in var1_list:\n",
    "#         k = re.findall(r'\\w+', k)\n",
    "#         var2_list.append(k[0])\n",
    "#     upper_list = []\n",
    "#     lower_list = []\n",
    "#     for m in var2_list:\n",
    "#         if m[0] == m[0].upper():\n",
    "#             upper_list.append(m)\n",
    "#         else:\n",
    "#             lower_list.append(m)\n",
    "#     if round((len(upper_list))/(len(upper_list)+len(lower_list)+0.1)*100,5) >= 99:\n",
    "#         special_name_list.append(j.capitalize())\n",
    "#     else:\n",
    "#         pass\n",
    "# special_name_list"
   ]
  },
  {
   "cell_type": "code",
   "execution_count": null,
   "metadata": {},
   "outputs": [],
   "source": []
  },
  {
   "cell_type": "code",
   "execution_count": null,
   "metadata": {},
   "outputs": [],
   "source": [
    "# # 2-Way\n",
    "# special_name_list = []  \n",
    "# for j in string_word:\n",
    "#     var1_list = re.findall(f\"(?:\\s|^){j}(?:\\s|$)\", text, flags=re.IGNORECASE)\n",
    "#     upper_list = []\n",
    "#     lower_list = []\n",
    "#     for m in var1_list:\n",
    "#         if m[0] == m[0].upper():\n",
    "#             upper_list.append(m)\n",
    "#         else:\n",
    "#             lower_list.append(m)\n",
    "#     if round((len(upper_list))/(len(upper_list)+len(lower_list)+0.1)*100,5) >= 99:\n",
    "#         special_name_list.append(j.capitalize())\n",
    "#     else:\n",
    "#         pass\n",
    "# special_name_list"
   ]
  },
  {
   "cell_type": "code",
   "execution_count": null,
   "metadata": {},
   "outputs": [],
   "source": []
  },
  {
   "cell_type": "code",
   "execution_count": null,
   "metadata": {},
   "outputs": [],
   "source": [
    "# 3-Way      \n",
    "special_name_list = []  \n",
    "for j in string_word:\n",
    "    var1_list = []\n",
    "    limit = 100\n",
    "    for x in islice(re.finditer(f\"(?:\\s|^){j}(?:\\s|$)\", text, flags=re.IGNORECASE), limit):\n",
    "        var1_list.append(x.group())\n",
    "    upper_list = []\n",
    "    lower_list = []\n",
    "    for m in var1_list:\n",
    "        if m[0] == m[0].upper():\n",
    "            upper_list.append(m)\n",
    "        else:\n",
    "            lower_list.append(m)\n",
    "    if round((len(upper_list))/(len(upper_list)+len(lower_list)+0.1)*100,5) >= 99:\n",
    "        special_name_list.append(j.capitalize())\n",
    "    else:\n",
    "        pass\n",
    "special_name_list"
   ]
  },
  {
   "cell_type": "code",
   "execution_count": null,
   "metadata": {},
   "outputs": [],
   "source": []
  },
  {
   "cell_type": "code",
   "execution_count": null,
   "metadata": {},
   "outputs": [],
   "source": [
    "from itertools import islice\n",
    "import re\n",
    "\n",
    "limit = 100\n",
    "var3_list = []\n",
    "for x in islice(re.finditer(f\"(?:\\s|^)Arthur(?:\\s|$)\", text, flags=re.IGNORECASE), limit):\n",
    "    var3_list.append(x.group())"
   ]
  },
  {
   "cell_type": "code",
   "execution_count": null,
   "metadata": {},
   "outputs": [],
   "source": [
    "len(var3_list)"
   ]
  },
  {
   "cell_type": "code",
   "execution_count": null,
   "metadata": {},
   "outputs": [],
   "source": []
  },
  {
   "cell_type": "code",
   "execution_count": null,
   "metadata": {},
   "outputs": [],
   "source": [
    "test_list = re.findall(f\"(?:\\s|^)Arthur(?:\\s|$)\", text, flags=re.IGNORECASE)\n",
    "test_list"
   ]
  },
  {
   "cell_type": "code",
   "execution_count": null,
   "metadata": {},
   "outputs": [],
   "source": [
    "while len(re.findall(f\"(?:\\s|^)Arthur(?:\\s|$)\", text, flags=re.IGNORECASE)) < 11:\n",
    "    var1_list = re.findall(f\"(?:\\s|^)Arthur(?:\\s|$)\", text, flags=re.IGNORECASE) "
   ]
  },
  {
   "cell_type": "code",
   "execution_count": null,
   "metadata": {},
   "outputs": [],
   "source": [
    "len(var1_list)"
   ]
  },
  {
   "cell_type": "code",
   "execution_count": null,
   "metadata": {},
   "outputs": [],
   "source": [
    "upper_list = []\n",
    "lower_list = []\n",
    "for m in test_list:\n",
    "    if m[0] == m[0].upper():\n",
    "        upper_list.append(m)\n",
    "    else:\n",
    "        lower_list.append(m)"
   ]
  },
  {
   "cell_type": "code",
   "execution_count": null,
   "metadata": {},
   "outputs": [],
   "source": [
    "upper_list"
   ]
  },
  {
   "cell_type": "code",
   "execution_count": null,
   "metadata": {},
   "outputs": [],
   "source": [
    "len(upper_list)"
   ]
  },
  {
   "cell_type": "code",
   "execution_count": null,
   "metadata": {},
   "outputs": [],
   "source": [
    "lower_list"
   ]
  },
  {
   "cell_type": "code",
   "execution_count": null,
   "metadata": {},
   "outputs": [],
   "source": [
    "len(lower_list)"
   ]
  },
  {
   "cell_type": "code",
   "execution_count": null,
   "metadata": {},
   "outputs": [],
   "source": [
    "[re.findall(r'\\w+', k) for k in test_list]"
   ]
  },
  {
   "cell_type": "code",
   "execution_count": null,
   "metadata": {},
   "outputs": [],
   "source": [
    "var2_list = []\n",
    "for k in word_list:\n",
    "    k = re.findall(r'\\w+', k)\n",
    "    var2_list.append(k[0])"
   ]
  },
  {
   "cell_type": "code",
   "execution_count": null,
   "metadata": {},
   "outputs": [],
   "source": [
    "k[0]"
   ]
  },
  {
   "cell_type": "code",
   "execution_count": null,
   "metadata": {},
   "outputs": [],
   "source": [
    "var2_list"
   ]
  },
  {
   "cell_type": "code",
   "execution_count": null,
   "metadata": {},
   "outputs": [],
   "source": [
    "var2_list = [re.findall(r'\\w+', k) for k in test_list]\n",
    "var2_list"
   ]
  },
  {
   "cell_type": "code",
   "execution_count": null,
   "metadata": {},
   "outputs": [],
   "source": [
    "digit_and_not_alnum"
   ]
  },
  {
   "cell_type": "code",
   "execution_count": null,
   "metadata": {},
   "outputs": [],
   "source": [
    "string_word"
   ]
  },
  {
   "cell_type": "code",
   "execution_count": null,
   "metadata": {},
   "outputs": [],
   "source": [
    "word = \"ramiro\""
   ]
  },
  {
   "cell_type": "code",
   "execution_count": null,
   "metadata": {},
   "outputs": [],
   "source": [
    "upper_list = []\n",
    "lower_list = []\n",
    "if word[0] == word[0].upper():\n",
    "    upper_list.append(word)\n",
    "else:\n",
    "    lower_list.append(word)"
   ]
  },
  {
   "cell_type": "code",
   "execution_count": null,
   "metadata": {},
   "outputs": [],
   "source": [
    "num = 20"
   ]
  },
  {
   "cell_type": "code",
   "execution_count": null,
   "metadata": {},
   "outputs": [],
   "source": [
    "num = str(num)"
   ]
  },
  {
   "cell_type": "code",
   "execution_count": null,
   "metadata": {},
   "outputs": [],
   "source": [
    "num[0].isdigit()"
   ]
  },
  {
   "cell_type": "code",
   "execution_count": null,
   "metadata": {},
   "outputs": [],
   "source": [
    "word[0].isdigit()"
   ]
  },
  {
   "cell_type": "code",
   "execution_count": null,
   "metadata": {},
   "outputs": [],
   "source": [
    "not(word[0].isalnum())"
   ]
  },
  {
   "cell_type": "code",
   "execution_count": null,
   "metadata": {},
   "outputs": [],
   "source": [
    "str(word[0]) == str(word[0].upper())"
   ]
  },
  {
   "cell_type": "code",
   "execution_count": null,
   "metadata": {},
   "outputs": [],
   "source": [
    "limit = 50"
   ]
  },
  {
   "cell_type": "code",
   "execution_count": null,
   "metadata": {},
   "outputs": [],
   "source": [
    "var1_list_test = islice(re.finditer(f\"(?:\\s|^){j}(?:\\s|$)\", text, flags=re.IGNORECASE), limit).to_list()"
   ]
  },
  {
   "cell_type": "code",
   "execution_count": null,
   "metadata": {},
   "outputs": [],
   "source": []
  },
  {
   "cell_type": "code",
   "execution_count": null,
   "metadata": {},
   "outputs": [],
   "source": [
    "def find_special_name(word):\n",
    "    special_name_list = [] \n",
    "    var1_list = re.findall(f\"(?:\\s|^){word}(?:\\s|$)\", text, flags=re.IGNORECASE)\n",
    "    upper_list = []\n",
    "    lower_list = []\n",
    "    for m in var1_list:\n",
    "        if m[0] == m[0].upper():\n",
    "            upper_list.append(m)\n",
    "        else:\n",
    "            lower_list.append(m)\n",
    "    if round((len(upper_list))/(len(upper_list)+len(lower_list)+0.1)*100,5) >= 98:\n",
    "        special_name_list.append(word.capitalize())\n",
    "    else:\n",
    "        pass\n",
    "    # return special_name_list"
   ]
  },
  {
   "cell_type": "code",
   "execution_count": null,
   "metadata": {},
   "outputs": [],
   "source": [
    "find_special_name(\"ramiro\")"
   ]
  },
  {
   "cell_type": "code",
   "execution_count": null,
   "metadata": {},
   "outputs": [],
   "source": []
  },
  {
   "cell_type": "code",
   "execution_count": null,
   "metadata": {},
   "outputs": [],
   "source": [
    "def find_special_name(name_ent):\n",
    "    var_list = []\n",
    "    limit = 100\n",
    "    for x in islice(re.finditer(f\"(?:\\s|^){name_ent}(?:\\s|$)\", text, flags=re.IGNORECASE), limit):\n",
    "        var_list.append(x.group())\n",
    "    upper_list = []\n",
    "    lower_list = []\n",
    "    for m in var_list:\n",
    "        if m[0] == m[0].upper():\n",
    "            upper_list.append(m)\n",
    "        else:\n",
    "            lower_list.append(m)\n",
    "    if round((len(upper_list))/(len(upper_list)+len(lower_list)+0.1)*100,5) >= 97:\n",
    "        special_name = name_ent.capitalize()        \n",
    "    else:\n",
    "        special_name = \"not special name\"\n",
    "    return special_name"
   ]
  },
  {
   "cell_type": "code",
   "execution_count": null,
   "metadata": {},
   "outputs": [],
   "source": [
    "find_special_name(\"ertugrul\")"
   ]
  },
  {
   "cell_type": "code",
   "execution_count": null,
   "metadata": {},
   "outputs": [],
   "source": []
  },
  {
   "cell_type": "markdown",
   "metadata": {},
   "source": [
    "#### Multi Processing"
   ]
  },
  {
   "cell_type": "code",
   "execution_count": null,
   "metadata": {},
   "outputs": [],
   "source": [
    "import pandas as pd\n",
    "import numpy as np\n",
    "import os\n",
    "import multiprocessing\n",
    "#import multiprocessing as mp\n",
    "from multiprocessing import Process, Manager, Pool, Queue\n",
    "from itertools import islice\n",
    "import re"
   ]
  },
  {
   "cell_type": "code",
   "execution_count": null,
   "metadata": {},
   "outputs": [],
   "source": [
    "help(multiprocessing)"
   ]
  },
  {
   "cell_type": "code",
   "execution_count": null,
   "metadata": {},
   "outputs": [],
   "source": [
    "nprocs = multiprocessing.cpu_count()\n",
    "print(f\"Number of CPU cores: {nprocs}\")"
   ]
  },
  {
   "cell_type": "code",
   "execution_count": null,
   "metadata": {},
   "outputs": [],
   "source": [
    "# word_list = [\"ramiro\", \"Thomas\", \"Peter\",\"Arthur\", \"Kirkland\", \"Sizi\",\"Ertugrul\", \"Gregor\", \"$ali\", \"20str\", \"evet\",\"neden\", \"archie\", \"gaby\", \"dani\"]"
   ]
  },
  {
   "cell_type": "code",
   "execution_count": null,
   "metadata": {},
   "outputs": [],
   "source": [
    "df_name = pd.read_excel(\"/media/kurubal/SSD/Data Scientist/Work/Modern Ways/Project/Pyspark/Data/Sentence/N Gram/One_Gram_Spark_Sentence_No_Frequency.xlsx\")\n",
    "df_name"
   ]
  },
  {
   "cell_type": "code",
   "execution_count": null,
   "metadata": {},
   "outputs": [],
   "source": [
    "# name_word = []\n",
    "# not_name_word = []\n",
    "# for i in df_name.sentence:\n",
    "#     if len(i) <= 10: # assume name less then ten word generally\n",
    "#         name_word.append(i)\n",
    "#     else:\n",
    "#         not_name_word.append(i)"
   ]
  },
  {
   "cell_type": "code",
   "execution_count": null,
   "metadata": {},
   "outputs": [],
   "source": [
    "df_name[df_name.sentence == \"gannicus\"]"
   ]
  },
  {
   "cell_type": "code",
   "execution_count": null,
   "metadata": {},
   "outputs": [],
   "source": [
    "df_new = df_name.iloc[5224:5600]\n",
    "df_new "
   ]
  },
  {
   "cell_type": "code",
   "execution_count": null,
   "metadata": {},
   "outputs": [],
   "source": [
    "word_list = df_new.sentence.to_list()"
   ]
  },
  {
   "cell_type": "code",
   "execution_count": null,
   "metadata": {},
   "outputs": [],
   "source": [
    "with open(\"/media/kurubal/SSD/Data Scientist/Work/Modern Ways/Project/Pyspark/Temp/xaa.tr\", \"r\",encoding=\"latin1\") as file:\n",
    "    text = file.read()"
   ]
  },
  {
   "cell_type": "code",
   "execution_count": null,
   "metadata": {},
   "outputs": [],
   "source": [
    "special_name_list = []"
   ]
  },
  {
   "cell_type": "code",
   "execution_count": null,
   "metadata": {},
   "outputs": [],
   "source": [
    "# Test 1 (Working)\n",
    "# import os\n",
    "# from multiprocessing import Process, Manager\n",
    "manager = multiprocessing.Manager()\n",
    "special_name_list = manager.list()\n",
    "\n",
    "digit_and_not_alnum = []\n",
    "string_word = []\n",
    "for i in word_list:\n",
    "    i = str(i)\n",
    "    if not(i[0].isalnum()) or i[0].isdigit():\n",
    "        digit_and_not_alnum.append(i)\n",
    "    else:\n",
    "        string_word.append(i)\n",
    "\n",
    "def find_special_name(name_ent):\n",
    "    var_list = []\n",
    "    limit = 100\n",
    "    # for x in islice(re.finditer(f\"(?:\\s|^){name_ent}\", text, flags=re.IGNORECASE), limit): # begin with\n",
    "    for x in islice(re.finditer(f\"(?:\\s|^){name_ent}(?:\\s|$)\", text, flags=re.IGNORECASE), limit): # exact match\n",
    "        var_list.append(x.group())\n",
    "    upper_list = []\n",
    "    lower_list = []\n",
    "    for m in var_list:\n",
    "        if m[0] == m[0].upper():\n",
    "            upper_list.append(m)\n",
    "        else:\n",
    "            lower_list.append(m)\n",
    "    if round((len(upper_list))/(len(upper_list)+len(lower_list)+0.01)*100,5) >= 99:\n",
    "        special_name_list.append(name_ent.capitalize())\n",
    "    else:\n",
    "        special_name_list.append(f\"not special name {name_ent}\")\n",
    "\n",
    "if __name__ == '__main__':\n",
    "    procs = []\n",
    "    for name_ent in string_word:\n",
    "        proc = Process(target=find_special_name, args=(name_ent,))\n",
    "        proc.start()\n",
    "        procs.append(proc)\n",
    "    for proc in procs:\n",
    "        proc.join()"
   ]
  },
  {
   "cell_type": "code",
   "execution_count": null,
   "metadata": {},
   "outputs": [],
   "source": [
    "print(special_name_list)"
   ]
  },
  {
   "cell_type": "code",
   "execution_count": null,
   "metadata": {},
   "outputs": [],
   "source": [
    "print(type(special_name_list))"
   ]
  },
  {
   "cell_type": "code",
   "execution_count": null,
   "metadata": {},
   "outputs": [],
   "source": [
    "# 1-Way\n",
    "list_special_name = list(special_name_list)"
   ]
  },
  {
   "cell_type": "code",
   "execution_count": null,
   "metadata": {},
   "outputs": [],
   "source": [
    "# # 2-Way\n",
    "# list_special_name = []\n",
    "# for i in special_name_list:\n",
    "#     list_special_name.append(i)"
   ]
  },
  {
   "cell_type": "code",
   "execution_count": null,
   "metadata": {},
   "outputs": [],
   "source": [
    "df_special_name = pd.DataFrame(list_special_name)\n",
    "df_special_name.rename(columns={0:\"spec_name\"}, inplace=True)\n",
    "df_special_name"
   ]
  },
  {
   "cell_type": "code",
   "execution_count": null,
   "metadata": {},
   "outputs": [],
   "source": []
  },
  {
   "cell_type": "code",
   "execution_count": null,
   "metadata": {},
   "outputs": [],
   "source": [
    "special_name_list = []"
   ]
  },
  {
   "cell_type": "code",
   "execution_count": null,
   "metadata": {},
   "outputs": [],
   "source": [
    "# Test 2 (Working) close()\n",
    "# import os\n",
    "# from multiprocessing import Process, Manager\n",
    "manager = multiprocessing.Manager()\n",
    "special_name_list = manager.list()\n",
    "\n",
    "digit_and_not_alnum = []\n",
    "string_word = []\n",
    "for i in word_list:\n",
    "    i = str(i)\n",
    "    if not(i[0].isalnum()) or i[0].isdigit():\n",
    "        digit_and_not_alnum.append(i)\n",
    "    else:\n",
    "        string_word.append(i)\n",
    "\n",
    "def find_special_name(name_ent):\n",
    "    var_list = []\n",
    "    limit = 100\n",
    "    # for x in islice(re.finditer(f\"(?:\\s|^){name_ent}\", text, flags=re.IGNORECASE), limit): # begin with\n",
    "    for x in islice(re.finditer(f\"(?:\\s|^){name_ent}(?:\\s|$)\", text, flags=re.IGNORECASE), limit):\n",
    "        var_list.append(x.group())\n",
    "    upper_list = []\n",
    "    lower_list = []\n",
    "    for m in var_list:\n",
    "        if m[0] == m[0].upper():\n",
    "            upper_list.append(m)\n",
    "        else:\n",
    "            lower_list.append(m)\n",
    "    if round((len(upper_list))/(len(upper_list)+len(lower_list)+0.01)*100,5) >= 99:\n",
    "        special_name_list.append(name_ent.capitalize())\n",
    "    else:\n",
    "        special_name_list.append(f\"not special name {name_ent}\")\n",
    "\n",
    "if __name__ == '__main__':\n",
    "    procs = []\n",
    "    for name_ent in string_word:\n",
    "        proc = Process(target=find_special_name, args=(name_ent,))\n",
    "        proc.start()\n",
    "        procs.append(proc)\n",
    "    for proc in procs:\n",
    "        proc.join()\n",
    "        proc.close() # New\n",
    "        "
   ]
  },
  {
   "cell_type": "code",
   "execution_count": null,
   "metadata": {},
   "outputs": [],
   "source": [
    "list_special_name = list(special_name_list)\n",
    "df_special_name = pd.DataFrame(list_special_name)\n",
    "df_special_name.rename(columns={0:\"spec_name\"}, inplace=True)\n",
    "df_special_name"
   ]
  },
  {
   "cell_type": "code",
   "execution_count": null,
   "metadata": {},
   "outputs": [],
   "source": []
  },
  {
   "cell_type": "code",
   "execution_count": null,
   "metadata": {},
   "outputs": [],
   "source": [
    "special_name_list = []"
   ]
  },
  {
   "cell_type": "code",
   "execution_count": null,
   "metadata": {},
   "outputs": [],
   "source": [
    "# Test 3 (Working) for loop\n",
    "# import os\n",
    "# from multiprocessing import Process, Manager\n",
    "manager = multiprocessing.Manager()\n",
    "special_name_list = manager.list()\n",
    "\n",
    "digit_and_not_alnum = []\n",
    "string_word = []\n",
    "for i in word_list:\n",
    "    i = str(i)\n",
    "    if not(i[0].isalnum()) or i[0].isdigit():\n",
    "        digit_and_not_alnum.append(i)\n",
    "    else:\n",
    "        string_word.append(i)\n",
    "\n",
    "def find_special_name(name_ent):\n",
    "    var_list = []\n",
    "    limit = 100\n",
    "    # for x in islice(re.finditer(f\"(?:\\s|^){name_ent}\", text, flags=re.IGNORECASE), limit): # begin with\n",
    "    for x in islice(re.finditer(f\"(?:\\s|^){name_ent}(?:\\s|$)\", text, flags=re.IGNORECASE), limit):\n",
    "        var_list.append(x.group())\n",
    "    upper_list = []\n",
    "    lower_list = []\n",
    "    for m in var_list:\n",
    "        if m[0] == m[0].upper():\n",
    "            upper_list.append(m)\n",
    "        else:\n",
    "            lower_list.append(m)\n",
    "    if round((len(upper_list))/(len(upper_list)+len(lower_list)+0.01)*100,5) >= 99:\n",
    "        special_name_list.append(name_ent.capitalize())\n",
    "    else:\n",
    "        special_name_list.append(f\"not special name {name_ent}\")\n",
    "\n",
    "if __name__ == '__main__':\n",
    "    procs = []\n",
    "    for name_ent in string_word:\n",
    "        proc = Process(target=find_special_name, args=(name_ent,)) \n",
    "        procs.append(proc)\n",
    "    \n",
    "    for proc in procs:\n",
    "        proc.start()\n",
    "        \n",
    "    for proc in procs:\n",
    "        proc.join()\n",
    "        proc.close() # New"
   ]
  },
  {
   "cell_type": "code",
   "execution_count": null,
   "metadata": {},
   "outputs": [],
   "source": [
    "list_special_name = list(special_name_list)\n",
    "df_special_name = pd.DataFrame(list_special_name)\n",
    "df_special_name.rename(columns={0:\"spec_name\"}, inplace=True)\n",
    "df_special_name"
   ]
  },
  {
   "cell_type": "code",
   "execution_count": null,
   "metadata": {},
   "outputs": [],
   "source": []
  },
  {
   "cell_type": "code",
   "execution_count": null,
   "metadata": {},
   "outputs": [],
   "source": [
    "special_name_list = []"
   ]
  },
  {
   "cell_type": "code",
   "execution_count": null,
   "metadata": {},
   "outputs": [],
   "source": [
    "# Test 4 (Working) For taking only print output\n",
    "# import os\n",
    "# from multiprocessing import Process, Manager\n",
    "\n",
    "digit_and_not_alnum = []\n",
    "string_word = []\n",
    "for i in word_list:\n",
    "    i = str(i)\n",
    "    if not(i[0].isalnum()) or i[0].isdigit():\n",
    "        digit_and_not_alnum.append(i)\n",
    "    else:\n",
    "        string_word.append(i)\n",
    "\n",
    "special_name_list = []\n",
    "def find_special_name(name_ent):\n",
    "    var_list = []\n",
    "    limit = 100\n",
    "    # for x in islice(re.finditer(f\"(?:\\s|^){name_ent}\", text, flags=re.IGNORECASE), limit): # begin with\n",
    "    for x in islice(re.finditer(f\"(?:\\s|^){name_ent}(?:\\s|$)\", text, flags=re.IGNORECASE), limit):\n",
    "        var_list.append(x.group())\n",
    "    upper_list = []\n",
    "    lower_list = []\n",
    "    for m in var_list:\n",
    "        if m[0] == m[0].upper():\n",
    "            upper_list.append(m)\n",
    "        else:\n",
    "            lower_list.append(m)\n",
    "    if round((len(upper_list))/(len(upper_list)+len(lower_list)+0.1)*100,5) >= 99:\n",
    "        special_name_list.append(name_ent)\n",
    "    else:\n",
    "        special_name_list.append(f\"not special name {name_ent}\")\n",
    "\n",
    "if __name__ == '__main__':\n",
    "    with Manager() as manager:\n",
    "        special_name_list = manager.list()\n",
    "        procs = []\n",
    "        for name_ent in string_word:\n",
    "            proc = Process(target=find_special_name, args=(name_ent,))\n",
    "            proc.start()\n",
    "            procs.append(proc)\n",
    "        for proc in procs:\n",
    "            proc.join()\n",
    "        print(special_name_list)"
   ]
  },
  {
   "cell_type": "code",
   "execution_count": null,
   "metadata": {},
   "outputs": [],
   "source": [
    "print(special_name_list)"
   ]
  },
  {
   "cell_type": "code",
   "execution_count": null,
   "metadata": {},
   "outputs": [],
   "source": []
  },
  {
   "cell_type": "code",
   "execution_count": null,
   "metadata": {},
   "outputs": [],
   "source": [
    "special_name_list = []"
   ]
  },
  {
   "cell_type": "code",
   "execution_count": null,
   "metadata": {},
   "outputs": [],
   "source": [
    "# Test 5 (Working) \n",
    "# import os\n",
    "# from multiprocessing import Process, Manager\n",
    "manager = multiprocessing.Manager()\n",
    "special_name_list = manager.list()\n",
    "\n",
    "digit_and_not_alnum = []\n",
    "string_word = []\n",
    "for i in word_list:\n",
    "    i = str(i)\n",
    "    if not(i[0].isalnum()) or i[0].isdigit():\n",
    "        digit_and_not_alnum.append(i)\n",
    "    else:\n",
    "        string_word.append(i)\n",
    "\n",
    "def find_special_name(name_ent):\n",
    "    var_list = []\n",
    "    limit = 100\n",
    "    # for x in islice(re.finditer(f\"(?:\\s|^){name_ent}\", text, flags=re.IGNORECASE), limit): # begin with\n",
    "    for x in islice(re.finditer(f\"(?:\\s|^){name_ent}(?:\\s|$)\", text, flags=re.IGNORECASE), limit):\n",
    "        var_list.append(x.group())\n",
    "    upper_list = []\n",
    "    lower_list = []\n",
    "    for m in var_list:\n",
    "        if m[0] == m[0].upper():\n",
    "            upper_list.append(m)\n",
    "        else:\n",
    "            lower_list.append(m)\n",
    "    if round((len(upper_list))/(len(upper_list)+len(lower_list)+0.01)*100,5) >= 99:\n",
    "        special_name_list.append(name_ent.capitalize())\n",
    "    else:\n",
    "        special_name_list.append(f\"not special name {name_ent}\")\n",
    "\n",
    "if __name__ == '__main__':\n",
    "    for name_ent in string_word:\n",
    "        proc = Process(target=find_special_name, args=(name_ent,))\n",
    "        proc.start()\n",
    "    proc.join()"
   ]
  },
  {
   "cell_type": "code",
   "execution_count": null,
   "metadata": {},
   "outputs": [],
   "source": [
    "list_special_name = list(special_name_list)\n",
    "df_special_name = pd.DataFrame(list_special_name)\n",
    "df_special_name.rename(columns={0:\"spec_name\"}, inplace=True)\n",
    "df_special_name"
   ]
  },
  {
   "cell_type": "code",
   "execution_count": null,
   "metadata": {},
   "outputs": [],
   "source": []
  },
  {
   "cell_type": "code",
   "execution_count": null,
   "metadata": {},
   "outputs": [],
   "source": [
    "special_name_list = []"
   ]
  },
  {
   "cell_type": "code",
   "execution_count": null,
   "metadata": {},
   "outputs": [],
   "source": [
    "# Test 6\n",
    "# import os\n",
    "# from multiprocessing import Process, Manager\n",
    "manager = multiprocessing.Manager()\n",
    "special_name_list = manager.list()\n",
    "\n",
    "digit_and_not_alnum = []\n",
    "string_word = []\n",
    "for i in word_list:\n",
    "    i = str(i)\n",
    "    if not(i[0].isalnum()) or i[0].isdigit():\n",
    "        digit_and_not_alnum.append(i)\n",
    "    else:\n",
    "        string_word.append(i)\n",
    "\n",
    "def find_special_name(name_ent):\n",
    "    var_list = []\n",
    "    limit = 100\n",
    "    # for x in islice(re.finditer(f\"(?:\\s|^){name_ent}\", text, flags=re.IGNORECASE), limit): # begin with\n",
    "    for x in islice(re.finditer(f\"(?:\\s|^){name_ent}(?:\\s|$)\", text, flags=re.IGNORECASE), limit):\n",
    "        var_list.append(x.group())\n",
    "    upper_list = []\n",
    "    lower_list = []\n",
    "    for m in var_list:\n",
    "        if m[0] == m[0].upper():\n",
    "            upper_list.append(m)\n",
    "        else:\n",
    "            lower_list.append(m)\n",
    "    if round((len(upper_list))/(len(upper_list)+len(lower_list)+0.01)*100,5) >= 99:\n",
    "        special_name_list.append(name_ent.capitalize())\n",
    "    else:\n",
    "        special_name_list.append(f\"not special name {name_ent}\")"
   ]
  },
  {
   "cell_type": "code",
   "execution_count": null,
   "metadata": {},
   "outputs": [],
   "source": [
    "if __name__ == '__main__':\n",
    "    for name_ent in string_word:\n",
    "        proc = Process(target=find_special_name, args=(name_ent,))\n",
    "        proc.start()\n",
    "    proc.join()"
   ]
  },
  {
   "cell_type": "code",
   "execution_count": null,
   "metadata": {},
   "outputs": [],
   "source": [
    "list_special_name = list(special_name_list)\n",
    "df_special_name = pd.DataFrame(list_special_name)\n",
    "df_special_name.rename(columns={0:\"spec_name\"}, inplace=True)\n",
    "df_special_name"
   ]
  },
  {
   "cell_type": "code",
   "execution_count": null,
   "metadata": {},
   "outputs": [],
   "source": []
  },
  {
   "cell_type": "code",
   "execution_count": null,
   "metadata": {},
   "outputs": [],
   "source": [
    "special_name_list = []"
   ]
  },
  {
   "cell_type": "code",
   "execution_count": 107,
   "metadata": {},
   "outputs": [],
   "source": [
    "# Test 7 (Working) Pool\n",
    "# import os\n",
    "# from multiprocessing import Process, Manager\n",
    "manager = multiprocessing.Manager()\n",
    "special_name_list = manager.list()\n",
    "\n",
    "digit_and_not_alnum = []\n",
    "string_word = []\n",
    "for i in word_list:\n",
    "    i = str(i)\n",
    "    if not(i[0].isalnum()) or i[0].isdigit():\n",
    "        digit_and_not_alnum.append(i)\n",
    "    else:\n",
    "        string_word.append(i)\n",
    "\n",
    "def find_special_name(name_ent):\n",
    "    var_list = []\n",
    "    limit = 100\n",
    "    for x in islice(re.finditer(f\"(?:\\s|^){name_ent}\", text, flags=re.IGNORECASE), limit): # begin with\n",
    "    # for x in islice(re.finditer(f\"(?:\\s|^){name_ent}(?:\\s|$)\", text, flags=re.IGNORECASE), limit):\n",
    "        var_list.append(x.group())\n",
    "    upper_list = []\n",
    "    lower_list = []\n",
    "    for m in var_list:\n",
    "        if m[0] == m[0].upper():\n",
    "            upper_list.append(m)\n",
    "        else:\n",
    "            lower_list.append(m)\n",
    "    if round((len(upper_list))/(len(upper_list)+len(lower_list)+0.01)*100,5) >= 99:\n",
    "        special_name_list.append(name_ent.capitalize())\n",
    "    else:\n",
    "        special_name_list.append(f\"not special name {name_ent}\")\n",
    "\n",
    "if __name__ == '__main__':\n",
    "    with Pool(16) as p: # Pool number CPU sayısına eşit olursa tüm CPU lar çalışır\n",
    "        p.map(find_special_name, string_word) # string_word liste"
   ]
  },
  {
   "cell_type": "code",
   "execution_count": null,
   "metadata": {},
   "outputs": [],
   "source": [
    "list_special_name = list(special_name_list)\n",
    "df_special_name = pd.DataFrame(list_special_name)\n",
    "df_special_name.rename(columns={0:\"spec_name\"}, inplace=True)\n",
    "df_special_name"
   ]
  },
  {
   "cell_type": "code",
   "execution_count": null,
   "metadata": {},
   "outputs": [],
   "source": []
  },
  {
   "cell_type": "code",
   "execution_count": null,
   "metadata": {},
   "outputs": [],
   "source": []
  },
  {
   "cell_type": "code",
   "execution_count": null,
   "metadata": {},
   "outputs": [],
   "source": []
  }
 ],
 "metadata": {
  "interpreter": {
   "hash": "651d507d70892fab0fc6529d935cd476f6e2eb1791525b76da6cc8da34bc0503"
  },
  "kernelspec": {
   "display_name": "Python 3.9.5 64-bit ('py39': conda)",
   "language": "python",
   "name": "python3"
  },
  "language_info": {
   "codemirror_mode": {
    "name": "ipython",
    "version": 3
   },
   "file_extension": ".py",
   "mimetype": "text/x-python",
   "name": "python",
   "nbconvert_exporter": "python",
   "pygments_lexer": "ipython3",
   "version": "3.9.5"
  },
  "orig_nbformat": 4
 },
 "nbformat": 4,
 "nbformat_minor": 2
}
