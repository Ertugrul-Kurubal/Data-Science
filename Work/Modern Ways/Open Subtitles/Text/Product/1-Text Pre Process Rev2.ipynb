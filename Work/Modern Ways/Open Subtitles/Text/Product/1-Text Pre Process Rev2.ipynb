{
 "cells": [
  {
   "attachments": {},
   "cell_type": "markdown",
   "metadata": {},
   "source": [
    "### Text Clean And Optimization "
   ]
  },
  {
   "attachments": {},
   "cell_type": "markdown",
   "metadata": {},
   "source": [
    "This notebook used for text pre clean and optimization that includes specific language text clean techniques.  "
   ]
  },
  {
   "attachments": {},
   "cell_type": "markdown",
   "metadata": {},
   "source": [
    "#### Multi Processing Text Preprocess"
   ]
  },
  {
   "cell_type": "code",
   "execution_count": 2,
   "metadata": {},
   "outputs": [],
   "source": [
    "import unicodedata\n",
    "import numpy as np\n",
    "import pandas as pd\n",
    "import re\n",
    "import os\n",
    "import multiprocessing\n",
    "#import multiprocessing as mp\n",
    "from multiprocessing import Process, Manager, Pool, Queue\n",
    "from itertools import islice"
   ]
  },
  {
   "cell_type": "code",
   "execution_count": 3,
   "metadata": {},
   "outputs": [],
   "source": [
    "#help(multiprocessing)"
   ]
  },
  {
   "cell_type": "code",
   "execution_count": 4,
   "metadata": {},
   "outputs": [
    {
     "name": "stdout",
     "output_type": "stream",
     "text": [
      "Number of CPU cores: 16\n"
     ]
    }
   ],
   "source": [
    "nprocs = multiprocessing.cpu_count()\n",
    "print(f\"Number of CPU cores: {nprocs}\")"
   ]
  },
  {
   "cell_type": "code",
   "execution_count": 21,
   "metadata": {},
   "outputs": [],
   "source": [
    "# custom character alphabet \n",
    "tr = re.compile(r\"[abcçdefgğhıijklmnoöprsştuüvyzqxw0123456789\\.\\?\\{\\}\\[\\]\\(\\),:;!'\\\"\\$`]+\", re.IGNORECASE|re.UNICODE) # Turkish filters='!\"#$%&()*+,-./:;<=>?@[\\\\]^_`{|}~\\t\\n0123456789'\n",
    "en = re.compile(r\"[abcdefghıijklmnopqrstxuvwyz0123456789\\.\\?\\{\\}\\[\\]\\(\\),:;!'\\\"\\$`]+\", re.IGNORECASE|re.UNICODE) # English\n",
    "nl = re.compile(r\"[abcdefghıijklmnopqrstxuvwyzāăēĕīĭōŏūŭ0123456789\\.\\?\\{\\}\\[\\]\\(\\),:;!'\\\"\\$`]+\", re.IGNORECASE|re.UNICODE) # Dutch (Flemenk)\n",
    "fr = re.compile(r\"[abcçdefghıijklmnopqrstxuvwyzàâæèéêëîïôœùûüÿ0123456789\\.\\?\\{\\}\\[\\]\\(\\),:;!'\\\"\\$`]+\", re.IGNORECASE|re.UNICODE) # French\n",
    "de = re.compile(r\"[abcdefghıijklmnopqrstxuvwyzäöüß0123456789\\.\\?\\{\\}\\[\\]\\(\\),:;!'\\\"\\$`]+\", re.IGNORECASE|re.UNICODE) # Deutch\n",
    "es = re.compile(r\"[abcdefghıijklmnopqrstxuvwyzñáéíóú0123456789\\.\\?\\{\\}\\[\\]\\(\\),:;!'\\\"\\$`]+\", re.IGNORECASE|re.UNICODE) # Spanish (¿¡)\n",
    "pt = re.compile(r\"[abcçdefghıijklmnopqrstxuvwyzàáâãéêíóôõú0123456789\\.\\?\\{\\}\\[\\]\\(\\),:;!'\\\"\\$`]+\", re.IGNORECASE|re.UNICODE) # Portuguese\n",
    "it = re.compile(r\"[abcdefghıijklmnopqrstxuvwyzàéèìòùî0123456789\\.\\?\\{\\}\\[\\]\\(\\),:;!'\\\"\\$`]+\", re.IGNORECASE|re.UNICODE) # Italian\n",
    "ar = re.compile(r\"[ٿصؼۤڳڲؿڎػڠجڿ٬ٸؽؒؓطۄڀۂؘؔتٚڛےٝڜؖڦ٫ډ۰زۇٖۀ،لۓ۱عٮێڔ۶ؚۧۜڤۏ٤إٞٷؗۖ؈ژۣؕؑٴأۻڸۺگاڴڹۯ؉ْڌ٣؍ي٧؟ـٟړۅؐڶُىڽېًۢؠضۚڄٛڏٱۦ٩س٦ڼڂٔۘ٠ښٌٍ۬ٳ۾ٲږذۋٵٜ٘ڞڅںٗهڣۿپڒۥۗڋیؙم؞ثۨ۹ٹڵڪظٶۭ١۔ڭەڨحٕ؎ٺڷٰ۪۫۲ڻڥۛڑڟټآڡغګ؊ّ٢ٯڧڮ؏ۮ؋ؤ٪ؾڗۼق۟دکوِڰڐۃ۽ہفر۷ڇ٭چڝ۴بۈٽڕۡھ۸٨ةٓڃئ؛ڬٙڙڢڱۊَۆۉځ۠ۍۑۙڊنءڈٻش٥ڍ؇۵ك۳خ\\.\\?\\{\\}\\[\\]\\(\\)\\\"\\$\\ا0123456789,':;\\\"`]+\", re.IGNORECASE|re.UNICODE) # Arabic"
   ]
  },
  {
   "cell_type": "code",
   "execution_count": 16,
   "metadata": {},
   "outputs": [],
   "source": [
    "#test = '''ٿصؼۤڳڲؿڎػڠجڿ٬ٸؽؒؓطۄڀۂؘؔتٚڛےٝڜؖڦ٫ډ۰زۇٖۀ،لۓ۱عٮێڔ۶ؚۧۜڤۏ٤إٞٷؗۖ؈ژۣؕؑٴأۻڸۺگاڴڹۯ؉ْڌ٣؍ي٧؟ـٟړۅؐڶُىڽېًۢؠضۚڄٛڏٱۦ٩س٦ڼڂٔۘ٠ښٌٍ۬ٳ۾ٲږذۋٵٜ٘ڞڅںٗهڣۿپڒۥۗڋیؙم؞ثۨ۹ٹڵڪظٶۭ١۔ڭەڨحٕ؎ٺڷٰ۪۫۲ڻڥۛڑڟټآڡغګ؊ّ٢ٯڧڮ؏ۮ؋ؤ٪ؾڗۼق۟دکوِڰڐۃ۽ہفر۷ڇ٭چڝ۴بۈٽڕۡھ۸٨ةٓڃئ؛ڬٙڙڢڱۊَۆۉځ۠ۍۑۙڊنءڈٻش٥ڍ؇۵ك۳خ\\.\\?\\{\\}\\[\\]\\(\\)\\\"\\$\\ا0123456789,':;\\\"`'''"
   ]
  },
  {
   "cell_type": "code",
   "execution_count": null,
   "metadata": {},
   "outputs": [],
   "source": [
    "def convert_one_character_letter(text):\n",
    "    '''\n",
    "    This function converts two byte occupy of letter to one byte unicode character without any visual change \\n\n",
    "    like as Turkish character ç,ş,ö,ğ. \\n\n",
    "    convert_one_character_letter(text): text is any string word or sentence.\n",
    "    '''\n",
    "    new_text = unicodedata.normalize('NFC', f\"{text}\")\n",
    "    return new_text"
   ]
  },
  {
   "cell_type": "code",
   "execution_count": 7,
   "metadata": {},
   "outputs": [],
   "source": [
    "def custom_character(text_data, custom_alp):  # custom_character(text_data, tr)\n",
    "    '''\n",
    "    custom_character(text_data, custom_alp) text_data is any string word,sentence or plain text data.\\n\n",
    "    function clean string according to specific language alphabet\\n\n",
    "    '''\n",
    "    text_one = convert_one_character_letter(text_data)\n",
    "    text_data2 = re.findall(custom_alp, text_one)\n",
    "    text_data3 = \" \".join(text_data2)  # with one whitespace\n",
    "    \n",
    "    return text_data3  "
   ]
  },
  {
   "cell_type": "code",
   "execution_count": null,
   "metadata": {},
   "outputs": [],
   "source": [
    "# this technique uses in Rev1 notebook\n",
    "#def custom_character(text_data, custom_alp):  # custom_character(text_data, tr)\n",
    "#    '''\n",
    "#    custom_character(text_data, custom_alp) text_data is any string word,sentence or plain text data.\\n\n",
    "#    function clean string according to specific language alphabet\\n\n",
    "#    '''\n",
    "#    text_data2 = re.findall(custom_alp, text_data)\n",
    "#    text_data3 = \" \".join(text_data2)  # with one whitespace\n",
    "#    \n",
    "#    return text_data3 "
   ]
  },
  {
   "cell_type": "code",
   "execution_count": null,
   "metadata": {},
   "outputs": [],
   "source": [
    "def english_edit(text):  # english_edit(text)\n",
    "    '''\n",
    "    english_edit(text) use for plain english text optimization because of not affecting text cleaning process.\n",
    "    '''\n",
    "    not_case_sens1 = re.compile(re.escape(\"can\\'t\"), re.IGNORECASE)\n",
    "    text = not_case_sens1.sub(\"can not\", text)\n",
    "    \n",
    "    not_case_sens2 = re.compile(re.escape(\"won\\'t\"), re.IGNORECASE)\n",
    "    text2 = not_case_sens2.sub(\"will not\", text)\n",
    "    \n",
    "    not_case_sens3 = re.compile(re.escape(\"n\\'t\"), re.IGNORECASE)\n",
    "    text3 = not_case_sens3.sub(\" not\", text2)\n",
    "    \n",
    "    not_case_sens4 = re.compile(re.escape(\"\\'ll\"), re.IGNORECASE)\n",
    "    text4 = not_case_sens4.sub(\" will\", text3)\n",
    "    \n",
    "    not_case_sens5 = re.compile(re.escape(\"\\'m\"), re.IGNORECASE)\n",
    "    text5 = not_case_sens5.sub(\" am\", text4)\n",
    "    \n",
    "    not_case_sens6 = re.compile(re.escape(\"\\'ve\"), re.IGNORECASE)  # 'd, 's, 're\n",
    "    text6 = not_case_sens6.sub(\" have\", text5)\n",
    "    \n",
    "    not_case_sens7 = re.compile(re.escape(\"\\'\"), re.IGNORECASE)\n",
    "    text7 = not_case_sens7.sub(\" \\'\", text6)\n",
    "    \n",
    "    return text7"
   ]
  },
  {
   "cell_type": "code",
   "execution_count": null,
   "metadata": {},
   "outputs": [],
   "source": [
    "folder_name = \"Turkish\"  # English, Turkish, German, French, Spanish, Arabic, Portuguese, Dutch, Italian\n",
    " \n",
    "if folder_name == \"English\":\n",
    "    custom_alp = en\n",
    "    text_name = \"en\"\n",
    "elif folder_name == \"Turkish\":\n",
    "    custom_alp = tr\n",
    "    text_name = \"tr\"\n",
    "elif folder_name == \"German\":\n",
    "    custom_alp = de\n",
    "    text_name = \"de\"\n",
    "elif folder_name == \"French\":\n",
    "    custom_alp = fr\n",
    "    text_name = \"fr\"\n",
    "elif folder_name == \"Spanish\":\n",
    "    custom_alp = es\n",
    "    text_name = \"es\"\n",
    "elif folder_name == \"Arabic\":\n",
    "    custom_alp = ar\n",
    "    text_name = \"ar\"\n",
    "elif folder_name == \"Portuguese\":\n",
    "    custom_alp = pt\n",
    "    text_name = \"pt\"\n",
    "elif folder_name == \"Dutch\":\n",
    "    custom_alp = nl\n",
    "    text_name = \"nl\"\n",
    "elif folder_name == \"Italian\":\n",
    "    custom_alp = it\n",
    "    text_name = \"it\"\n",
    "else:\n",
    "    pass\n",
    "#custom_alp = tr  # en, tr, de, fr, es, ar, pt, nl, it\n",
    "print(f\"{folder_name}\\n{text_name}\\n{custom_alp}\") "
   ]
  },
  {
   "cell_type": "code",
   "execution_count": null,
   "metadata": {},
   "outputs": [],
   "source": [
    "plain_text_path = \"/home/ubuntu/Workspace\"  # tr1.txt, tr2.txt vb. Note: divided plain text part size should be less than 1GB for 64GB RAM machine"
   ]
  },
  {
   "cell_type": "code",
   "execution_count": null,
   "metadata": {},
   "outputs": [],
   "source": [
    "def part_1():  \n",
    "  part1_num = 1\n",
    "  try:\n",
    "    with open(f\"{plain_text_path}/{text_name}{part1_num}.txt\", \"r\", encoding=\"utf-8\", errors=\"ignore\") as file:\n",
    "      text_data = file.read()\n",
    "  except:\n",
    "    print(\"There is not such a file  or path is incorrect\")\n",
    "    \n",
    "  if text_name == \"en\":\n",
    "    text = english_edit(text_data)  # english edit text\n",
    "    text_result = custom_character(text, custom_alp)  # custom character alphabet\n",
    "  else:\n",
    "    apostro = re.compile(re.escape(\"\\'\"), re.IGNORECASE)\n",
    "    text = apostro.sub(\" \\'\", text_data)\n",
    "    text_result = custom_character(text, custom_alp)  # custom character alphabet\n",
    "\n",
    "  with open(f\"{text_name}{part1_num}.txt\", \"w\", encoding=\"utf-8\") as file:  # output save in notebook folder\n",
    "    file.write(text_result)  \n",
    "  "
   ]
  },
  {
   "cell_type": "code",
   "execution_count": null,
   "metadata": {},
   "outputs": [],
   "source": [
    "def part_2():  \n",
    "  part2_num = 2\n",
    "  try:\n",
    "    with open(f\"{plain_text_path}/{text_name}{part2_num}.txt\", \"r\", encoding=\"utf-8\", errors=\"ignore\") as file:\n",
    "      text_data = file.read()\n",
    "  except:\n",
    "    print(\"There is not such a file  or path is incorrect\")\n",
    "  \n",
    "  if text_name == \"en\":\n",
    "    text = english_edit(text_data)  # english edit text\n",
    "    text_result = custom_character(text, custom_alp)  # custom character alphabet\n",
    "  else:\n",
    "    apostro = re.compile(re.escape(\"\\'\"), re.IGNORECASE)\n",
    "    text = apostro.sub(\" \\'\", text_data)\n",
    "    text_result = custom_character(text, custom_alp)  # custom character alphabet\n",
    "\n",
    "  with open(f\"{text_name}{part2_num}.txt\", \"w\", encoding=\"utf-8\") as file:  # output save in notebook folder\n",
    "    file.write(text_result)"
   ]
  },
  {
   "cell_type": "code",
   "execution_count": null,
   "metadata": {},
   "outputs": [],
   "source": [
    "def part_3():  \n",
    "  part3_num = 3\n",
    "  try:\n",
    "    with open(f\"{plain_text_path}/{text_name}{part3_num}.txt\", \"r\", encoding=\"utf-8\", errors=\"ignore\") as file:\n",
    "      text_data = file.read()\n",
    "  except:\n",
    "    print(\"There is not such a file  or path is incorrect\")\n",
    "  \n",
    "  if text_name == \"en\":\n",
    "    text = english_edit(text_data)  # english edit text\n",
    "    text_result = custom_character(text, custom_alp)  # custom character alphabet\n",
    "  else:\n",
    "    apostro = re.compile(re.escape(\"\\'\"), re.IGNORECASE)\n",
    "    text = apostro.sub(\" \\'\", text_data)\n",
    "    text_result = custom_character(text, custom_alp)  # custom character alphabet\n",
    "\n",
    "  with open(f\"{text_name}{part3_num}.txt\", \"w\", encoding=\"utf-8\") as file:  # output save in notebook folder\n",
    "    file.write(text_result)"
   ]
  },
  {
   "cell_type": "code",
   "execution_count": null,
   "metadata": {},
   "outputs": [],
   "source": [
    "def part_4():  \n",
    "  part4_num = 4\n",
    "  try:\n",
    "    with open(f\"{plain_text_path}/{text_name}{part4_num}.txt\", \"r\", encoding=\"utf-8\", errors=\"ignore\") as file:\n",
    "      text_data = file.read()\n",
    "  except:\n",
    "    print(\"There is not such a file  or path is incorrect\")\n",
    "  \n",
    "  if text_name == \"en\":\n",
    "    text = english_edit(text_data)  # english edit text\n",
    "    text_result = custom_character(text, custom_alp)  # custom character alphabet\n",
    "  else:\n",
    "    apostro = re.compile(re.escape(\"\\'\"), re.IGNORECASE)\n",
    "    text = apostro.sub(\" \\'\", text_data)\n",
    "    text_result = custom_character(text, custom_alp)  # custom character alphabet\n",
    "\n",
    "  with open(f\"{text_name}{part4_num}.txt\", \"w\", encoding=\"utf-8\") as file:  # output save in notebook folder\n",
    "    file.write(text_result)"
   ]
  },
  {
   "cell_type": "code",
   "execution_count": null,
   "metadata": {},
   "outputs": [],
   "source": [
    "def part_5():  \n",
    "  part5_num = 5\n",
    "  try:\n",
    "    with open(f\"{plain_text_path}/{text_name}{part5_num}.txt\", \"r\", encoding=\"utf-8\", errors=\"ignore\") as file:\n",
    "      text_data = file.read()\n",
    "  except:\n",
    "    print(\"There is not such a file  or path is incorrect\")\n",
    "  \n",
    "  if text_name == \"en\":\n",
    "    text = english_edit(text_data)  # english edit text\n",
    "    text_result = custom_character(text, custom_alp)  # custom character alphabet\n",
    "  else:\n",
    "    apostro = re.compile(re.escape(\"\\'\"), re.IGNORECASE)\n",
    "    text = apostro.sub(\" \\'\", text_data)\n",
    "    text_result = custom_character(text, custom_alp)  # custom character alphabet\n",
    "  \n",
    "  with open(f\"{text_name}{part5_num}.txt\", \"w\", encoding=\"utf-8\") as file:  # output save in notebook folder\n",
    "    file.write(text_result)"
   ]
  },
  {
   "cell_type": "code",
   "execution_count": null,
   "metadata": {},
   "outputs": [],
   "source": [
    "# multi process code block\n",
    "if __name__ == '__main__':\n",
    "    p1 = Process(target=part_1,)\n",
    "    p2 = Process(target=part_2,)\n",
    "    p3 = Process(target=part_3,)\n",
    "    p4 = Process(target=part_4,)\n",
    "    p5 = Process(target=part_5,)\n",
    "    \n",
    "    p1.start()\n",
    "    p2.start()\n",
    "    p3.start()\n",
    "    p4.start()\n",
    "    p5.start()\n",
    "    \n",
    "    p1.join()\n",
    "    p2.join()\n",
    "    p3.join()\n",
    "    p4.join()\n",
    "    p5.join()"
   ]
  },
  {
   "cell_type": "code",
   "execution_count": null,
   "metadata": {},
   "outputs": [],
   "source": []
  },
  {
   "cell_type": "code",
   "execution_count": null,
   "metadata": {},
   "outputs": [],
   "source": []
  }
 ],
 "metadata": {
  "interpreter": {
   "hash": "651d507d70892fab0fc6529d935cd476f6e2eb1791525b76da6cc8da34bc0503"
  },
  "kernelspec": {
   "display_name": "Python 3.9.5 64-bit ('py39': conda)",
   "language": "python",
   "name": "python3"
  },
  "language_info": {
   "codemirror_mode": {
    "name": "ipython",
    "version": 3
   },
   "file_extension": ".py",
   "mimetype": "text/x-python",
   "name": "python",
   "nbconvert_exporter": "python",
   "pygments_lexer": "ipython3",
   "version": "3.9.5"
  },
  "orig_nbformat": 4
 },
 "nbformat": 4,
 "nbformat_minor": 2
}
