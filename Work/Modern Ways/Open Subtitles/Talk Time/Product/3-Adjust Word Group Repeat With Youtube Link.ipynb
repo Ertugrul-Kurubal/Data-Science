{
 "cells": [
  {
   "cell_type": "markdown",
   "metadata": {},
   "source": [
    "### Adjust Word Group Repeat With Youtube Link"
   ]
  },
  {
   "cell_type": "code",
   "execution_count": 101,
   "metadata": {},
   "outputs": [],
   "source": [
    "import os\n",
    "import multiprocessing\n",
    "#import multiprocessing as mp\n",
    "from multiprocessing import Process, Manager, Pool, Queue\n",
    "from itertools import islice\n",
    "from collections import Counter\n",
    "import re\n",
    "import pandas as pd\n",
    "import numpy as np\n",
    "import glob\n",
    "import nltk\n",
    "from nltk import word_tokenize\n",
    "from nltk import ngrams\n",
    "from functools import reduce\n",
    "from pathlib import Path\n",
    "import shutil"
   ]
  },
  {
   "cell_type": "code",
   "execution_count": 102,
   "metadata": {},
   "outputs": [
    {
     "name": "stdout",
     "output_type": "stream",
     "text": [
      "Number of CPU cores: 16\n"
     ]
    }
   ],
   "source": [
    "nprocs = multiprocessing.cpu_count()\n",
    "print(f\"Number of CPU cores: {nprocs}\")"
   ]
  },
  {
   "cell_type": "code",
   "execution_count": 103,
   "metadata": {},
   "outputs": [],
   "source": [
    "# language pair\n",
    "lang_folder = \"Dutch\"  # Arabic, English, French, German, Turkish, Spanish, Portuguese, Dutch, Italian ==> target language for learner\n",
    "#lang_pair = \"Intersect\"  # Arabic, English, French, German, Turkish, Spanish, Portuguese, Dutch, Italian ==> native language\n",
    "\n",
    "# adding native word to shared word\n",
    "word_start = 0  # 0 native word start index\n",
    "word_end = 200  # 28 native word end index"
   ]
  },
  {
   "cell_type": "code",
   "execution_count": 104,
   "metadata": {},
   "outputs": [],
   "source": [
    "def df_col_value_join_comma(df, df_columns_list):\n",
    "    '''\n",
    "    df_col_value_join_comma(df_test, [\"video_id\",\"start_time\",\"end_time\"])\\n\n",
    "    function used for selected column value join with comma in one row\n",
    "    '''\n",
    "    column_value_list = []\n",
    "    for column in df_columns_list:\n",
    "        list_var = df[f\"{column}\"].to_list()\n",
    "        list_var_string = [str(x) for x in list_var] \n",
    "        list_var_join = \",\".join(list_var_string)\n",
    "        column_value_list.append(list_var_join)\n",
    "\n",
    "    df_result = pd.DataFrame([[column_value_list[0],column_value_list[1],column_value_list[2]]], columns=df_columns_list)\n",
    "\n",
    "    return df_result"
   ]
  },
  {
   "cell_type": "code",
   "execution_count": 110,
   "metadata": {},
   "outputs": [],
   "source": [
    "path = f\"/media/kurubal/SSD/Data Scientist/Work/Modern Ways/Project/{lang_folder.capitalize()}/\\\n",
    "Talk Time/Result/Adjust Data Repeat\"\n",
    "\n",
    "Path(path).mkdir(parents=True, exist_ok=True)"
   ]
  },
  {
   "cell_type": "markdown",
   "metadata": {},
   "source": [
    "#### Repeat Result"
   ]
  },
  {
   "cell_type": "code",
   "execution_count": null,
   "metadata": {},
   "outputs": [],
   "source": [
    "df_word_group_time_loc = pd.read_excel(\"\")  \n",
    "df_word_group_time_loc"
   ]
  },
  {
   "cell_type": "code",
   "execution_count": null,
   "metadata": {},
   "outputs": [],
   "source": [
    "search_list = df_word_group_time_loc[\"search_string\"].unique().to_list()"
   ]
  },
  {
   "cell_type": "code",
   "execution_count": 151,
   "metadata": {},
   "outputs": [
    {
     "data": {
      "text/html": [
       "<div>\n",
       "<style scoped>\n",
       "    .dataframe tbody tr th:only-of-type {\n",
       "        vertical-align: middle;\n",
       "    }\n",
       "\n",
       "    .dataframe tbody tr th {\n",
       "        vertical-align: top;\n",
       "    }\n",
       "\n",
       "    .dataframe thead th {\n",
       "        text-align: right;\n",
       "    }\n",
       "</style>\n",
       "<table border=\"1\" class=\"dataframe\">\n",
       "  <thead>\n",
       "    <tr style=\"text-align: right;\">\n",
       "      <th></th>\n",
       "      <th>search_string</th>\n",
       "      <th>start_time</th>\n",
       "      <th>end_time</th>\n",
       "      <th>sentence</th>\n",
       "      <th>video_id</th>\n",
       "      <th>video_url</th>\n",
       "    </tr>\n",
       "  </thead>\n",
       "  <tbody>\n",
       "    <tr>\n",
       "      <th>0</th>\n",
       "      <td>repeat</td>\n",
       "      <td>5</td>\n",
       "      <td>7</td>\n",
       "      <td>repeat_again</td>\n",
       "      <td>Q-8I-uMUMYA</td>\n",
       "      <td>https://www.youtube.com/watch?v=Q-8I-uMUMYA&amp;t=0s</td>\n",
       "    </tr>\n",
       "  </tbody>\n",
       "</table>\n",
       "</div>"
      ],
      "text/plain": [
       "  search_string  start_time  end_time      sentence     video_id  \\\n",
       "0        repeat           5         7  repeat_again  Q-8I-uMUMYA   \n",
       "\n",
       "                                          video_url  \n",
       "0  https://www.youtube.com/watch?v=Q-8I-uMUMYA&t=0s  "
      ]
     },
     "execution_count": 151,
     "metadata": {},
     "output_type": "execute_result"
    }
   ],
   "source": [
    "# other option \n",
    "# mUf7VNqChac =>  black screen\n",
    "# 0_CDMstFg7M => 10sn\n",
    "# bj1JRuyYeco => 20sn\n",
    "# cElhIDdGz7M => screensaver\n",
    "default_video_id = \"Q-8I-uMUMYA\"\n",
    "df_link_default = pd.DataFrame(data=[[\"repeat\",5,7,\"repeat_again\",f\"{default_video_id}\",f\"https://www.youtube.com/watch?v={default_video_id}&t=0s\"]], columns=[\"search_string\",\"start_time\",\"end_time\",\"sentence\",\"video_id\",\"video_url\"])\n",
    "df_link_default"
   ]
  },
  {
   "cell_type": "code",
   "execution_count": 155,
   "metadata": {},
   "outputs": [],
   "source": [
    "df_result_repeat = pd.DataFrame()\n",
    "for word_group in search_list:\n",
    "    df_word_group_search_repeat1 = df_word_group_time_loc[df_word_group_time_loc[\"search_string\"] == word_group]\n",
    "    try:\n",
    "        df_word_group_search_repeat2 = df_word_group_time_loc[df_word_group_time_loc[\"search_string\"] == word_group].sample(1)\n",
    "    except:\n",
    "        df_word_group_search_repeat2 = df_word_group_time_loc[df_word_group_time_loc[\"search_string\"] == word_group].tail(1)\n",
    "    df_word_group_search_repeat2.reset_index(drop=True, inplace=True)   \n",
    "\n",
    "    for i in range(len(df_word_group_search_repeat1)):        \n",
    "        df_result_repeat = pd.concat([df_result_repeat,df_word_group_search_repeat1.iloc[[i,]]], axis=0)\n",
    "\n",
    "    try:\n",
    "        df_link_default_var = df_link_default\n",
    "        word_time_diff_var = df_word_group_search_repeat2.loc[0 ,\"end_time\"] - df_word_group_search_repeat2.loc[0 ,\"start_time\"]\n",
    "        if word_time_diff_var < 4:\n",
    "            word_time_diff_var2 = 3\n",
    "        else:\n",
    "            word_time_diff_var2 = word_time_diff_var+1.0\n",
    "\n",
    "        df_link_default_var.loc[0,\"end_time\"] = df_link_default_var.loc[0,\"start_time\"] + word_time_diff_var2\n",
    "    except:\n",
    "        pass\n",
    "\n",
    "    for j in range(3):\n",
    "        df_result_repeat = pd.concat([df_result_repeat,df_word_group_search_repeat2], axis=0)\n",
    "        df_result_repeat = pd.concat([df_result_repeat,df_link_default_var], axis=0)\n",
    "\n",
    "df_result_repeat.reset_index(drop=True, inplace=True)\n",
    "df_result_repeat_join = df_col_value_join_comma(df_result_repeat, [\"video_id\",\"start_time\",\"end_time\"])\n",
    "\n",
    "df_result_repeat.to_excel(f\"{lang_folder.capitalize()}_{word_end}_Word_Talk_Time.xlsx\", index=False)\n",
    "df_result_repeat_join.to_excel(f\"{lang_folder.capitalize()}_{word_end}_Word_Talk_Time_Join.xlsx\", index=False)\n"
   ]
  },
  {
   "cell_type": "code",
   "execution_count": 156,
   "metadata": {},
   "outputs": [
    {
     "data": {
      "text/html": [
       "<div>\n",
       "<style scoped>\n",
       "    .dataframe tbody tr th:only-of-type {\n",
       "        vertical-align: middle;\n",
       "    }\n",
       "\n",
       "    .dataframe tbody tr th {\n",
       "        vertical-align: top;\n",
       "    }\n",
       "\n",
       "    .dataframe thead th {\n",
       "        text-align: right;\n",
       "    }\n",
       "</style>\n",
       "<table border=\"1\" class=\"dataframe\">\n",
       "  <thead>\n",
       "    <tr style=\"text-align: right;\">\n",
       "      <th></th>\n",
       "      <th>search_string</th>\n",
       "      <th>start_time</th>\n",
       "      <th>end_time</th>\n",
       "      <th>sentence</th>\n",
       "      <th>video_id</th>\n",
       "      <th>video_url</th>\n",
       "    </tr>\n",
       "  </thead>\n",
       "  <tbody>\n",
       "    <tr>\n",
       "      <th>0</th>\n",
       "      <td>is dat zo</td>\n",
       "      <td>603</td>\n",
       "      <td>605</td>\n",
       "      <td>en op moment dat ik het een keer verkeerd loop...</td>\n",
       "      <td>VjYg2X32ryM</td>\n",
       "      <td>https://www.youtube.com/watch?v=VjYg2X32ryM&amp;t=...</td>\n",
       "    </tr>\n",
       "    <tr>\n",
       "      <th>1</th>\n",
       "      <td>is dat zo</td>\n",
       "      <td>95</td>\n",
       "      <td>97</td>\n",
       "      <td>wat is er aan de hand in iran en waarom is dat...</td>\n",
       "      <td>ypikak3H9MI</td>\n",
       "      <td>https://www.youtube.com/watch?v=ypikak3H9MI&amp;t=95s</td>\n",
       "    </tr>\n",
       "    <tr>\n",
       "      <th>2</th>\n",
       "      <td>is dat zo</td>\n",
       "      <td>623</td>\n",
       "      <td>624</td>\n",
       "      <td>is dat zo scherp bij transport van mest</td>\n",
       "      <td>USIYNJg2qSw</td>\n",
       "      <td>https://www.youtube.com/watch?v=USIYNJg2qSw&amp;t=...</td>\n",
       "    </tr>\n",
       "    <tr>\n",
       "      <th>3</th>\n",
       "      <td>is dat zo</td>\n",
       "      <td>17</td>\n",
       "      <td>19</td>\n",
       "      <td>is dat zo ja ik werd vanochtend wakker om zes ...</td>\n",
       "      <td>NMUAd5R67K0</td>\n",
       "      <td>https://www.youtube.com/watch?v=NMUAd5R67K0&amp;t=17s</td>\n",
       "    </tr>\n",
       "    <tr>\n",
       "      <th>4</th>\n",
       "      <td>is dat zo</td>\n",
       "      <td>73</td>\n",
       "      <td>74</td>\n",
       "      <td>is dat zo zijn jullie altijd zo rustig</td>\n",
       "      <td>cUB3dxLXvSc</td>\n",
       "      <td>https://www.youtube.com/watch?v=cUB3dxLXvSc&amp;t=73s</td>\n",
       "    </tr>\n",
       "    <tr>\n",
       "      <th>...</th>\n",
       "      <td>...</td>\n",
       "      <td>...</td>\n",
       "      <td>...</td>\n",
       "      <td>...</td>\n",
       "      <td>...</td>\n",
       "      <td>...</td>\n",
       "    </tr>\n",
       "    <tr>\n",
       "      <th>112</th>\n",
       "      <td>repeat</td>\n",
       "      <td>5</td>\n",
       "      <td>8</td>\n",
       "      <td>repeat_again</td>\n",
       "      <td>Q-8I-uMUMYA</td>\n",
       "      <td>https://www.youtube.com/watch?v=Q-8I-uMUMYA&amp;t=0s</td>\n",
       "    </tr>\n",
       "    <tr>\n",
       "      <th>113</th>\n",
       "      <td>weet ik niet</td>\n",
       "      <td>279</td>\n",
       "      <td>281</td>\n",
       "      <td>ja weet ik niet maar ik denk dus dat ik onderd...</td>\n",
       "      <td>GE9qSjs18og</td>\n",
       "      <td>https://www.youtube.com/watch?v=GE9qSjs18og&amp;t=...</td>\n",
       "    </tr>\n",
       "    <tr>\n",
       "      <th>114</th>\n",
       "      <td>repeat</td>\n",
       "      <td>5</td>\n",
       "      <td>8</td>\n",
       "      <td>repeat_again</td>\n",
       "      <td>Q-8I-uMUMYA</td>\n",
       "      <td>https://www.youtube.com/watch?v=Q-8I-uMUMYA&amp;t=0s</td>\n",
       "    </tr>\n",
       "    <tr>\n",
       "      <th>115</th>\n",
       "      <td>weet ik niet</td>\n",
       "      <td>279</td>\n",
       "      <td>281</td>\n",
       "      <td>ja weet ik niet maar ik denk dus dat ik onderd...</td>\n",
       "      <td>GE9qSjs18og</td>\n",
       "      <td>https://www.youtube.com/watch?v=GE9qSjs18og&amp;t=...</td>\n",
       "    </tr>\n",
       "    <tr>\n",
       "      <th>116</th>\n",
       "      <td>repeat</td>\n",
       "      <td>5</td>\n",
       "      <td>8</td>\n",
       "      <td>repeat_again</td>\n",
       "      <td>Q-8I-uMUMYA</td>\n",
       "      <td>https://www.youtube.com/watch?v=Q-8I-uMUMYA&amp;t=0s</td>\n",
       "    </tr>\n",
       "  </tbody>\n",
       "</table>\n",
       "<p>117 rows × 6 columns</p>\n",
       "</div>"
      ],
      "text/plain": [
       "    search_string  start_time  end_time  \\\n",
       "0       is dat zo         603       605   \n",
       "1       is dat zo          95        97   \n",
       "2       is dat zo         623       624   \n",
       "3       is dat zo          17        19   \n",
       "4       is dat zo          73        74   \n",
       "..            ...         ...       ...   \n",
       "112        repeat           5         8   \n",
       "113  weet ik niet         279       281   \n",
       "114        repeat           5         8   \n",
       "115  weet ik niet         279       281   \n",
       "116        repeat           5         8   \n",
       "\n",
       "                                              sentence     video_id  \\\n",
       "0    en op moment dat ik het een keer verkeerd loop...  VjYg2X32ryM   \n",
       "1    wat is er aan de hand in iran en waarom is dat...  ypikak3H9MI   \n",
       "2              is dat zo scherp bij transport van mest  USIYNJg2qSw   \n",
       "3    is dat zo ja ik werd vanochtend wakker om zes ...  NMUAd5R67K0   \n",
       "4               is dat zo zijn jullie altijd zo rustig  cUB3dxLXvSc   \n",
       "..                                                 ...          ...   \n",
       "112                                       repeat_again  Q-8I-uMUMYA   \n",
       "113  ja weet ik niet maar ik denk dus dat ik onderd...  GE9qSjs18og   \n",
       "114                                       repeat_again  Q-8I-uMUMYA   \n",
       "115  ja weet ik niet maar ik denk dus dat ik onderd...  GE9qSjs18og   \n",
       "116                                       repeat_again  Q-8I-uMUMYA   \n",
       "\n",
       "                                             video_url  \n",
       "0    https://www.youtube.com/watch?v=VjYg2X32ryM&t=...  \n",
       "1    https://www.youtube.com/watch?v=ypikak3H9MI&t=95s  \n",
       "2    https://www.youtube.com/watch?v=USIYNJg2qSw&t=...  \n",
       "3    https://www.youtube.com/watch?v=NMUAd5R67K0&t=17s  \n",
       "4    https://www.youtube.com/watch?v=cUB3dxLXvSc&t=73s  \n",
       "..                                                 ...  \n",
       "112   https://www.youtube.com/watch?v=Q-8I-uMUMYA&t=0s  \n",
       "113  https://www.youtube.com/watch?v=GE9qSjs18og&t=...  \n",
       "114   https://www.youtube.com/watch?v=Q-8I-uMUMYA&t=0s  \n",
       "115  https://www.youtube.com/watch?v=GE9qSjs18og&t=...  \n",
       "116   https://www.youtube.com/watch?v=Q-8I-uMUMYA&t=0s  \n",
       "\n",
       "[117 rows x 6 columns]"
      ]
     },
     "execution_count": 156,
     "metadata": {},
     "output_type": "execute_result"
    }
   ],
   "source": [
    "df_result_repeat"
   ]
  },
  {
   "cell_type": "code",
   "execution_count": 157,
   "metadata": {},
   "outputs": [
    {
     "data": {
      "text/plain": [
       "4.366666666666666"
      ]
     },
     "execution_count": 157,
     "metadata": {},
     "output_type": "execute_result"
    }
   ],
   "source": [
    "(df_result_repeat[\"end_time\"].sum()-df_result_repeat[\"start_time\"].sum())/60"
   ]
  },
  {
   "cell_type": "code",
   "execution_count": null,
   "metadata": {},
   "outputs": [],
   "source": []
  },
  {
   "cell_type": "code",
   "execution_count": null,
   "metadata": {},
   "outputs": [],
   "source": []
  },
  {
   "cell_type": "code",
   "execution_count": null,
   "metadata": {},
   "outputs": [],
   "source": []
  }
 ],
 "metadata": {
  "kernelspec": {
   "display_name": "Python 3.9.5 ('py39')",
   "language": "python",
   "name": "python3"
  },
  "language_info": {
   "codemirror_mode": {
    "name": "ipython",
    "version": 3
   },
   "file_extension": ".py",
   "mimetype": "text/x-python",
   "name": "python",
   "nbconvert_exporter": "python",
   "pygments_lexer": "ipython3",
   "version": "3.9.5"
  },
  "orig_nbformat": 4,
  "vscode": {
   "interpreter": {
    "hash": "651d507d70892fab0fc6529d935cd476f6e2eb1791525b76da6cc8da34bc0503"
   }
  }
 },
 "nbformat": 4,
 "nbformat_minor": 2
}
