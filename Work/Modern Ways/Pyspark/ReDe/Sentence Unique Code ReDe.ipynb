{
 "cells": [
  {
   "cell_type": "markdown",
   "metadata": {},
   "source": [
    "### Sentence Unique Code"
   ]
  },
  {
   "cell_type": "code",
   "execution_count": 1,
   "metadata": {},
   "outputs": [],
   "source": [
    "import pandas as pd\n",
    "import numpy as np\n",
    "import nltk\n",
    "from nltk import word_tokenize\n",
    "import re"
   ]
  },
  {
   "cell_type": "code",
   "execution_count": 2,
   "metadata": {},
   "outputs": [
    {
     "data": {
      "text/html": [
       "<div>\n",
       "<style scoped>\n",
       "    .dataframe tbody tr th:only-of-type {\n",
       "        vertical-align: middle;\n",
       "    }\n",
       "\n",
       "    .dataframe tbody tr th {\n",
       "        vertical-align: top;\n",
       "    }\n",
       "\n",
       "    .dataframe thead th {\n",
       "        text-align: right;\n",
       "    }\n",
       "</style>\n",
       "<table border=\"1\" class=\"dataframe\">\n",
       "  <thead>\n",
       "    <tr style=\"text-align: right;\">\n",
       "      <th></th>\n",
       "      <th>sentence</th>\n",
       "      <th>frequency</th>\n",
       "      <th>ratio</th>\n",
       "      <th>cumul_ratio</th>\n",
       "    </tr>\n",
       "  </thead>\n",
       "  <tbody>\n",
       "    <tr>\n",
       "      <th>0</th>\n",
       "      <td>evet</td>\n",
       "      <td>1948596</td>\n",
       "      <td>1.348816</td>\n",
       "      <td>1.348816</td>\n",
       "    </tr>\n",
       "    <tr>\n",
       "      <th>1</th>\n",
       "      <td>hayır</td>\n",
       "      <td>1250401</td>\n",
       "      <td>0.865526</td>\n",
       "      <td>2.214343</td>\n",
       "    </tr>\n",
       "    <tr>\n",
       "      <th>2</th>\n",
       "      <td>tamam</td>\n",
       "      <td>882921</td>\n",
       "      <td>0.611157</td>\n",
       "      <td>2.825500</td>\n",
       "    </tr>\n",
       "    <tr>\n",
       "      <th>3</th>\n",
       "      <td>ne</td>\n",
       "      <td>753105</td>\n",
       "      <td>0.521299</td>\n",
       "      <td>3.346799</td>\n",
       "    </tr>\n",
       "    <tr>\n",
       "      <th>4</th>\n",
       "      <td>teşekkürler</td>\n",
       "      <td>343527</td>\n",
       "      <td>0.237789</td>\n",
       "      <td>3.584588</td>\n",
       "    </tr>\n",
       "    <tr>\n",
       "      <th>...</th>\n",
       "      <td>...</td>\n",
       "      <td>...</td>\n",
       "      <td>...</td>\n",
       "      <td>...</td>\n",
       "    </tr>\n",
       "    <tr>\n",
       "      <th>495</th>\n",
       "      <td>hatırladın mı</td>\n",
       "      <td>10114</td>\n",
       "      <td>0.007001</td>\n",
       "      <td>15.900016</td>\n",
       "    </tr>\n",
       "    <tr>\n",
       "      <th>496</th>\n",
       "      <td>ne hakkında</td>\n",
       "      <td>10109</td>\n",
       "      <td>0.006997</td>\n",
       "      <td>15.907014</td>\n",
       "    </tr>\n",
       "    <tr>\n",
       "      <th>497</th>\n",
       "      <td>hassiktir</td>\n",
       "      <td>10101</td>\n",
       "      <td>0.006992</td>\n",
       "      <td>15.914006</td>\n",
       "    </tr>\n",
       "    <tr>\n",
       "      <th>498</th>\n",
       "      <td>sen de</td>\n",
       "      <td>10089</td>\n",
       "      <td>0.006984</td>\n",
       "      <td>15.920989</td>\n",
       "    </tr>\n",
       "    <tr>\n",
       "      <th>499</th>\n",
       "      <td>beğendin mi</td>\n",
       "      <td>10056</td>\n",
       "      <td>0.006961</td>\n",
       "      <td>15.927950</td>\n",
       "    </tr>\n",
       "  </tbody>\n",
       "</table>\n",
       "<p>500 rows × 4 columns</p>\n",
       "</div>"
      ],
      "text/plain": [
       "          sentence  frequency     ratio  cumul_ratio\n",
       "0             evet    1948596  1.348816     1.348816\n",
       "1            hayır    1250401  0.865526     2.214343\n",
       "2            tamam     882921  0.611157     2.825500\n",
       "3               ne     753105  0.521299     3.346799\n",
       "4      teşekkürler     343527  0.237789     3.584588\n",
       "..             ...        ...       ...          ...\n",
       "495  hatırladın mı      10114  0.007001    15.900016\n",
       "496    ne hakkında      10109  0.006997    15.907014\n",
       "497      hassiktir      10101  0.006992    15.914006\n",
       "498         sen de      10089  0.006984    15.920989\n",
       "499    beğendin mi      10056  0.006961    15.927950\n",
       "\n",
       "[500 rows x 4 columns]"
      ]
     },
     "execution_count": 2,
     "metadata": {},
     "output_type": "execute_result"
    }
   ],
   "source": [
    "df_sent = pd.read_csv(\"/media/kurubal/SSD/Data Scientist/Work/Modern Ways/Project/Pyspark/Result/Sentence/Spark Turkish Sentence Merge/Clean_Spark_Sentence_Merge_Result.csv\")\n",
    "df_sent = df_sent.head(500)\n",
    "df_sent"
   ]
  },
  {
   "cell_type": "code",
   "execution_count": 3,
   "metadata": {},
   "outputs": [],
   "source": [
    "count_index = 0\n",
    "code_list = []\n",
    "for i in df_sent.sentence:\n",
    "    g = len(re.findall(\"\\w+\", i))\n",
    "    l = len(i)\n",
    "    f = df_sent.iloc[count_index].frequency\n",
    "    unique_code = f\"G{g}-L{l}-F{f}-{count_index}\"\n",
    "    code_list.append(unique_code)\n",
    "    df_sent[\"code\"] = pd.DataFrame(code_list)\n",
    "    count_index += 1"
   ]
  },
  {
   "cell_type": "code",
   "execution_count": 4,
   "metadata": {},
   "outputs": [
    {
     "data": {
      "text/html": [
       "<div>\n",
       "<style scoped>\n",
       "    .dataframe tbody tr th:only-of-type {\n",
       "        vertical-align: middle;\n",
       "    }\n",
       "\n",
       "    .dataframe tbody tr th {\n",
       "        vertical-align: top;\n",
       "    }\n",
       "\n",
       "    .dataframe thead th {\n",
       "        text-align: right;\n",
       "    }\n",
       "</style>\n",
       "<table border=\"1\" class=\"dataframe\">\n",
       "  <thead>\n",
       "    <tr style=\"text-align: right;\">\n",
       "      <th></th>\n",
       "      <th>0</th>\n",
       "    </tr>\n",
       "  </thead>\n",
       "  <tbody>\n",
       "    <tr>\n",
       "      <th>0</th>\n",
       "      <td>G1-L4-F1948596-0</td>\n",
       "    </tr>\n",
       "    <tr>\n",
       "      <th>1</th>\n",
       "      <td>G1-L5-F1250401-1</td>\n",
       "    </tr>\n",
       "    <tr>\n",
       "      <th>2</th>\n",
       "      <td>G1-L5-F882921-2</td>\n",
       "    </tr>\n",
       "    <tr>\n",
       "      <th>3</th>\n",
       "      <td>G1-L2-F753105-3</td>\n",
       "    </tr>\n",
       "    <tr>\n",
       "      <th>4</th>\n",
       "      <td>G1-L11-F343527-4</td>\n",
       "    </tr>\n",
       "    <tr>\n",
       "      <th>...</th>\n",
       "      <td>...</td>\n",
       "    </tr>\n",
       "    <tr>\n",
       "      <th>495</th>\n",
       "      <td>G2-L13-F10114-495</td>\n",
       "    </tr>\n",
       "    <tr>\n",
       "      <th>496</th>\n",
       "      <td>G2-L11-F10109-496</td>\n",
       "    </tr>\n",
       "    <tr>\n",
       "      <th>497</th>\n",
       "      <td>G1-L9-F10101-497</td>\n",
       "    </tr>\n",
       "    <tr>\n",
       "      <th>498</th>\n",
       "      <td>G2-L6-F10089-498</td>\n",
       "    </tr>\n",
       "    <tr>\n",
       "      <th>499</th>\n",
       "      <td>G2-L11-F10056-499</td>\n",
       "    </tr>\n",
       "  </tbody>\n",
       "</table>\n",
       "<p>500 rows × 1 columns</p>\n",
       "</div>"
      ],
      "text/plain": [
       "                     0\n",
       "0     G1-L4-F1948596-0\n",
       "1     G1-L5-F1250401-1\n",
       "2      G1-L5-F882921-2\n",
       "3      G1-L2-F753105-3\n",
       "4     G1-L11-F343527-4\n",
       "..                 ...\n",
       "495  G2-L13-F10114-495\n",
       "496  G2-L11-F10109-496\n",
       "497   G1-L9-F10101-497\n",
       "498   G2-L6-F10089-498\n",
       "499  G2-L11-F10056-499\n",
       "\n",
       "[500 rows x 1 columns]"
      ]
     },
     "execution_count": 4,
     "metadata": {},
     "output_type": "execute_result"
    }
   ],
   "source": [
    "# pd.DataFrame(code_list)"
   ]
  },
  {
   "cell_type": "code",
   "execution_count": 31,
   "metadata": {},
   "outputs": [
    {
     "data": {
      "text/html": [
       "<div>\n",
       "<style scoped>\n",
       "    .dataframe tbody tr th:only-of-type {\n",
       "        vertical-align: middle;\n",
       "    }\n",
       "\n",
       "    .dataframe tbody tr th {\n",
       "        vertical-align: top;\n",
       "    }\n",
       "\n",
       "    .dataframe thead th {\n",
       "        text-align: right;\n",
       "    }\n",
       "</style>\n",
       "<table border=\"1\" class=\"dataframe\">\n",
       "  <thead>\n",
       "    <tr style=\"text-align: right;\">\n",
       "      <th></th>\n",
       "      <th>sentence</th>\n",
       "      <th>frequency</th>\n",
       "      <th>ratio</th>\n",
       "      <th>cumul_ratio</th>\n",
       "      <th>code</th>\n",
       "    </tr>\n",
       "  </thead>\n",
       "  <tbody>\n",
       "    <tr>\n",
       "      <th>0</th>\n",
       "      <td>evet</td>\n",
       "      <td>1948596</td>\n",
       "      <td>1.348816</td>\n",
       "      <td>1.348816</td>\n",
       "      <td>G1-L4-F1948596-0</td>\n",
       "    </tr>\n",
       "    <tr>\n",
       "      <th>1</th>\n",
       "      <td>hayır</td>\n",
       "      <td>1250401</td>\n",
       "      <td>0.865526</td>\n",
       "      <td>2.214343</td>\n",
       "      <td>G1-L5-F1250401-1</td>\n",
       "    </tr>\n",
       "    <tr>\n",
       "      <th>2</th>\n",
       "      <td>tamam</td>\n",
       "      <td>882921</td>\n",
       "      <td>0.611157</td>\n",
       "      <td>2.825500</td>\n",
       "      <td>G1-L5-F882921-2</td>\n",
       "    </tr>\n",
       "    <tr>\n",
       "      <th>3</th>\n",
       "      <td>ne</td>\n",
       "      <td>753105</td>\n",
       "      <td>0.521299</td>\n",
       "      <td>3.346799</td>\n",
       "      <td>G1-L2-F753105-3</td>\n",
       "    </tr>\n",
       "    <tr>\n",
       "      <th>4</th>\n",
       "      <td>teşekkürler</td>\n",
       "      <td>343527</td>\n",
       "      <td>0.237789</td>\n",
       "      <td>3.584588</td>\n",
       "      <td>G1-L11-F343527-4</td>\n",
       "    </tr>\n",
       "    <tr>\n",
       "      <th>...</th>\n",
       "      <td>...</td>\n",
       "      <td>...</td>\n",
       "      <td>...</td>\n",
       "      <td>...</td>\n",
       "      <td>...</td>\n",
       "    </tr>\n",
       "    <tr>\n",
       "      <th>495</th>\n",
       "      <td>hatırladın mı</td>\n",
       "      <td>10114</td>\n",
       "      <td>0.007001</td>\n",
       "      <td>15.900016</td>\n",
       "      <td>G2-L13-F10114-495</td>\n",
       "    </tr>\n",
       "    <tr>\n",
       "      <th>496</th>\n",
       "      <td>ne hakkında</td>\n",
       "      <td>10109</td>\n",
       "      <td>0.006997</td>\n",
       "      <td>15.907014</td>\n",
       "      <td>G2-L11-F10109-496</td>\n",
       "    </tr>\n",
       "    <tr>\n",
       "      <th>497</th>\n",
       "      <td>hassiktir</td>\n",
       "      <td>10101</td>\n",
       "      <td>0.006992</td>\n",
       "      <td>15.914006</td>\n",
       "      <td>G1-L9-F10101-497</td>\n",
       "    </tr>\n",
       "    <tr>\n",
       "      <th>498</th>\n",
       "      <td>sen de</td>\n",
       "      <td>10089</td>\n",
       "      <td>0.006984</td>\n",
       "      <td>15.920989</td>\n",
       "      <td>G2-L6-F10089-498</td>\n",
       "    </tr>\n",
       "    <tr>\n",
       "      <th>499</th>\n",
       "      <td>beğendin mi</td>\n",
       "      <td>10056</td>\n",
       "      <td>0.006961</td>\n",
       "      <td>15.927950</td>\n",
       "      <td>G2-L11-F10056-499</td>\n",
       "    </tr>\n",
       "  </tbody>\n",
       "</table>\n",
       "<p>500 rows × 5 columns</p>\n",
       "</div>"
      ],
      "text/plain": [
       "          sentence  frequency     ratio  cumul_ratio               code\n",
       "0             evet    1948596  1.348816     1.348816   G1-L4-F1948596-0\n",
       "1            hayır    1250401  0.865526     2.214343   G1-L5-F1250401-1\n",
       "2            tamam     882921  0.611157     2.825500    G1-L5-F882921-2\n",
       "3               ne     753105  0.521299     3.346799    G1-L2-F753105-3\n",
       "4      teşekkürler     343527  0.237789     3.584588   G1-L11-F343527-4\n",
       "..             ...        ...       ...          ...                ...\n",
       "495  hatırladın mı      10114  0.007001    15.900016  G2-L13-F10114-495\n",
       "496    ne hakkında      10109  0.006997    15.907014  G2-L11-F10109-496\n",
       "497      hassiktir      10101  0.006992    15.914006   G1-L9-F10101-497\n",
       "498         sen de      10089  0.006984    15.920989   G2-L6-F10089-498\n",
       "499    beğendin mi      10056  0.006961    15.927950  G2-L11-F10056-499\n",
       "\n",
       "[500 rows x 5 columns]"
      ]
     },
     "execution_count": 31,
     "metadata": {},
     "output_type": "execute_result"
    }
   ],
   "source": [
    "# df_sent[\"code\"] = pd.DataFrame(code_list)\n",
    "# df_sent"
   ]
  },
  {
   "cell_type": "code",
   "execution_count": 39,
   "metadata": {},
   "outputs": [
    {
     "data": {
      "text/plain": [
       "sentence                    alo\n",
       "frequency                130385\n",
       "ratio                  0.090252\n",
       "cumul_ratio            7.328353\n",
       "code           G1-L3-F130385-33\n",
       "Name: 33, dtype: object"
      ]
     },
     "execution_count": 39,
     "metadata": {},
     "output_type": "execute_result"
    }
   ],
   "source": [
    "df_sent.iloc[33]"
   ]
  },
  {
   "cell_type": "code",
   "execution_count": 24,
   "metadata": {},
   "outputs": [
    {
     "data": {
      "text/html": [
       "<div>\n",
       "<style scoped>\n",
       "    .dataframe tbody tr th:only-of-type {\n",
       "        vertical-align: middle;\n",
       "    }\n",
       "\n",
       "    .dataframe tbody tr th {\n",
       "        vertical-align: top;\n",
       "    }\n",
       "\n",
       "    .dataframe thead th {\n",
       "        text-align: right;\n",
       "    }\n",
       "</style>\n",
       "<table border=\"1\" class=\"dataframe\">\n",
       "  <thead>\n",
       "    <tr style=\"text-align: right;\">\n",
       "      <th></th>\n",
       "      <th>sentence</th>\n",
       "      <th>frequency</th>\n",
       "      <th>ratio</th>\n",
       "      <th>cumul_ratio</th>\n",
       "    </tr>\n",
       "  </thead>\n",
       "  <tbody>\n",
       "    <tr>\n",
       "      <th>0</th>\n",
       "      <td>evet</td>\n",
       "      <td>1948596</td>\n",
       "      <td>1.348816</td>\n",
       "      <td>1.348816</td>\n",
       "    </tr>\n",
       "    <tr>\n",
       "      <th>1</th>\n",
       "      <td>hayır</td>\n",
       "      <td>1250401</td>\n",
       "      <td>0.865526</td>\n",
       "      <td>2.214343</td>\n",
       "    </tr>\n",
       "    <tr>\n",
       "      <th>2</th>\n",
       "      <td>tamam</td>\n",
       "      <td>882921</td>\n",
       "      <td>0.611157</td>\n",
       "      <td>2.825500</td>\n",
       "    </tr>\n",
       "    <tr>\n",
       "      <th>3</th>\n",
       "      <td>ne</td>\n",
       "      <td>753105</td>\n",
       "      <td>0.521299</td>\n",
       "      <td>3.346799</td>\n",
       "    </tr>\n",
       "    <tr>\n",
       "      <th>4</th>\n",
       "      <td>teşekkürler</td>\n",
       "      <td>343527</td>\n",
       "      <td>0.237789</td>\n",
       "      <td>3.584588</td>\n",
       "    </tr>\n",
       "    <tr>\n",
       "      <th>...</th>\n",
       "      <td>...</td>\n",
       "      <td>...</td>\n",
       "      <td>...</td>\n",
       "      <td>...</td>\n",
       "    </tr>\n",
       "    <tr>\n",
       "      <th>495</th>\n",
       "      <td>hatırladın mı</td>\n",
       "      <td>10114</td>\n",
       "      <td>0.007001</td>\n",
       "      <td>15.900016</td>\n",
       "    </tr>\n",
       "    <tr>\n",
       "      <th>496</th>\n",
       "      <td>ne hakkında</td>\n",
       "      <td>10109</td>\n",
       "      <td>0.006997</td>\n",
       "      <td>15.907014</td>\n",
       "    </tr>\n",
       "    <tr>\n",
       "      <th>497</th>\n",
       "      <td>hassiktir</td>\n",
       "      <td>10101</td>\n",
       "      <td>0.006992</td>\n",
       "      <td>15.914006</td>\n",
       "    </tr>\n",
       "    <tr>\n",
       "      <th>498</th>\n",
       "      <td>sen de</td>\n",
       "      <td>10089</td>\n",
       "      <td>0.006984</td>\n",
       "      <td>15.920989</td>\n",
       "    </tr>\n",
       "    <tr>\n",
       "      <th>499</th>\n",
       "      <td>beğendin mi</td>\n",
       "      <td>10056</td>\n",
       "      <td>0.006961</td>\n",
       "      <td>15.927950</td>\n",
       "    </tr>\n",
       "  </tbody>\n",
       "</table>\n",
       "<p>500 rows × 4 columns</p>\n",
       "</div>"
      ],
      "text/plain": [
       "          sentence  frequency     ratio  cumul_ratio\n",
       "0             evet    1948596  1.348816     1.348816\n",
       "1            hayır    1250401  0.865526     2.214343\n",
       "2            tamam     882921  0.611157     2.825500\n",
       "3               ne     753105  0.521299     3.346799\n",
       "4      teşekkürler     343527  0.237789     3.584588\n",
       "..             ...        ...       ...          ...\n",
       "495  hatırladın mı      10114  0.007001    15.900016\n",
       "496    ne hakkında      10109  0.006997    15.907014\n",
       "497      hassiktir      10101  0.006992    15.914006\n",
       "498         sen de      10089  0.006984    15.920989\n",
       "499    beğendin mi      10056  0.006961    15.927950\n",
       "\n",
       "[500 rows x 4 columns]"
      ]
     },
     "execution_count": 24,
     "metadata": {},
     "output_type": "execute_result"
    }
   ],
   "source": [
    "df_sent"
   ]
  },
  {
   "cell_type": "code",
   "execution_count": 20,
   "metadata": {},
   "outputs": [
    {
     "data": {
      "text/plain": [
       "882921"
      ]
     },
     "execution_count": 20,
     "metadata": {},
     "output_type": "execute_result"
    }
   ],
   "source": [
    "df_sent.iloc[2].frequency"
   ]
  },
  {
   "cell_type": "code",
   "execution_count": 16,
   "metadata": {},
   "outputs": [],
   "source": [
    "i = \"20 ali ata bak 15\""
   ]
  },
  {
   "cell_type": "code",
   "execution_count": 17,
   "metadata": {},
   "outputs": [
    {
     "data": {
      "text/plain": [
       "['20', 'ali', 'ata', 'bak', '15']"
      ]
     },
     "execution_count": 17,
     "metadata": {},
     "output_type": "execute_result"
    }
   ],
   "source": [
    "re.findall(\"\\w+\", i)"
   ]
  },
  {
   "cell_type": "code",
   "execution_count": 18,
   "metadata": {},
   "outputs": [
    {
     "data": {
      "text/plain": [
       "5"
      ]
     },
     "execution_count": 18,
     "metadata": {},
     "output_type": "execute_result"
    }
   ],
   "source": [
    "len(re.findall(\"\\w+\", i))"
   ]
  },
  {
   "cell_type": "code",
   "execution_count": 19,
   "metadata": {},
   "outputs": [
    {
     "data": {
      "text/plain": [
       "17"
      ]
     },
     "execution_count": 19,
     "metadata": {},
     "output_type": "execute_result"
    }
   ],
   "source": [
    "len(i)"
   ]
  },
  {
   "cell_type": "code",
   "execution_count": null,
   "metadata": {},
   "outputs": [],
   "source": []
  },
  {
   "cell_type": "code",
   "execution_count": null,
   "metadata": {},
   "outputs": [],
   "source": []
  },
  {
   "cell_type": "code",
   "execution_count": null,
   "metadata": {},
   "outputs": [],
   "source": []
  },
  {
   "cell_type": "code",
   "execution_count": null,
   "metadata": {},
   "outputs": [],
   "source": []
  },
  {
   "cell_type": "code",
   "execution_count": null,
   "metadata": {},
   "outputs": [],
   "source": []
  },
  {
   "cell_type": "code",
   "execution_count": null,
   "metadata": {},
   "outputs": [],
   "source": []
  },
  {
   "cell_type": "code",
   "execution_count": null,
   "metadata": {},
   "outputs": [],
   "source": []
  },
  {
   "cell_type": "code",
   "execution_count": null,
   "metadata": {},
   "outputs": [],
   "source": []
  },
  {
   "cell_type": "code",
   "execution_count": null,
   "metadata": {},
   "outputs": [],
   "source": []
  },
  {
   "cell_type": "code",
   "execution_count": null,
   "metadata": {},
   "outputs": [],
   "source": []
  },
  {
   "cell_type": "code",
   "execution_count": null,
   "metadata": {},
   "outputs": [],
   "source": []
  },
  {
   "cell_type": "code",
   "execution_count": null,
   "metadata": {},
   "outputs": [],
   "source": []
  },
  {
   "cell_type": "code",
   "execution_count": null,
   "metadata": {},
   "outputs": [],
   "source": []
  },
  {
   "cell_type": "code",
   "execution_count": null,
   "metadata": {},
   "outputs": [],
   "source": []
  },
  {
   "cell_type": "code",
   "execution_count": null,
   "metadata": {},
   "outputs": [],
   "source": []
  },
  {
   "cell_type": "code",
   "execution_count": null,
   "metadata": {},
   "outputs": [],
   "source": []
  }
 ],
 "metadata": {
  "interpreter": {
   "hash": "dee98d46828ee19b29600c86b301abe70cd9ca024f8cc08840440df39802f8b5"
  },
  "kernelspec": {
   "display_name": "Python 3.9.7 64-bit ('pyspark_env': conda)",
   "language": "python",
   "name": "python3"
  },
  "language_info": {
   "codemirror_mode": {
    "name": "ipython",
    "version": 3
   },
   "file_extension": ".py",
   "mimetype": "text/x-python",
   "name": "python",
   "nbconvert_exporter": "python",
   "pygments_lexer": "ipython3",
   "version": "3.9.7"
  },
  "orig_nbformat": 4
 },
 "nbformat": 4,
 "nbformat_minor": 2
}
