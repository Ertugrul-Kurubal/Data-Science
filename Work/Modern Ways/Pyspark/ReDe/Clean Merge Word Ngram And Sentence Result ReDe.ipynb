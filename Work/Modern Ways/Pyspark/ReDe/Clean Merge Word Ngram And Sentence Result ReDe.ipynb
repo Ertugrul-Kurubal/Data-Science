{
 "cells": [
  {
   "cell_type": "markdown",
   "metadata": {},
   "source": [
    "### Clean Merge Result"
   ]
  },
  {
   "cell_type": "code",
   "execution_count": null,
   "metadata": {},
   "outputs": [],
   "source": [
    "# !pip install modin[ray]"
   ]
  },
  {
   "cell_type": "code",
   "execution_count": 1,
   "metadata": {},
   "outputs": [
    {
     "name": "stderr",
     "output_type": "stream",
     "text": [
      "2021-12-10 17:24:39,953\tINFO services.py:1338 -- View the Ray dashboard at \u001b[1m\u001b[32mhttp://127.0.0.1:8265\u001b[39m\u001b[22m\n"
     ]
    },
    {
     "data": {
      "text/plain": [
       "{'node_ip_address': '192.168.1.37',\n",
       " 'raylet_ip_address': '192.168.1.37',\n",
       " 'redis_address': '192.168.1.37:6379',\n",
       " 'object_store_address': '/tmp/ray/session_2021-12-10_17-24-38_040811_45826/sockets/plasma_store',\n",
       " 'raylet_socket_name': '/tmp/ray/session_2021-12-10_17-24-38_040811_45826/sockets/raylet',\n",
       " 'webui_url': '127.0.0.1:8265',\n",
       " 'session_dir': '/tmp/ray/session_2021-12-10_17-24-38_040811_45826',\n",
       " 'metrics_export_port': 59427,\n",
       " 'node_id': 'ef6bceabde8f883d7ef2616af056b2789a2c548b894a3c35536b172f'}"
      ]
     },
     "execution_count": 1,
     "metadata": {},
     "output_type": "execute_result"
    }
   ],
   "source": [
    "import ray  # ayrı olarak çalıştırılmalı\n",
    "ray.init() "
   ]
  },
  {
   "cell_type": "code",
   "execution_count": 1,
   "metadata": {},
   "outputs": [],
   "source": [
    "import pandas as pd"
   ]
  },
  {
   "cell_type": "code",
   "execution_count": 5,
   "metadata": {},
   "outputs": [],
   "source": [
    "#import modin.pandas as pd\n",
    "import re"
   ]
  },
  {
   "cell_type": "code",
   "execution_count": 63,
   "metadata": {},
   "outputs": [],
   "source": [
    "pd.set_option('display.max_rows', 500)"
   ]
  },
  {
   "cell_type": "code",
   "execution_count": 2,
   "metadata": {},
   "outputs": [
    {
     "data": {
      "text/html": [
       "<div>\n",
       "<style scoped>\n",
       "    .dataframe tbody tr th:only-of-type {\n",
       "        vertical-align: middle;\n",
       "    }\n",
       "\n",
       "    .dataframe tbody tr th {\n",
       "        vertical-align: top;\n",
       "    }\n",
       "\n",
       "    .dataframe thead th {\n",
       "        text-align: right;\n",
       "    }\n",
       "</style>\n",
       "<table border=\"1\" class=\"dataframe\">\n",
       "  <thead>\n",
       "    <tr style=\"text-align: right;\">\n",
       "      <th></th>\n",
       "      <th>sentence</th>\n",
       "      <th>frequency</th>\n",
       "      <th>ratio</th>\n",
       "      <th>cumul_ratio</th>\n",
       "    </tr>\n",
       "  </thead>\n",
       "  <tbody>\n",
       "    <tr>\n",
       "      <th>0</th>\n",
       "      <td>evet</td>\n",
       "      <td>1948596</td>\n",
       "      <td>1.348816</td>\n",
       "      <td>1.348816</td>\n",
       "    </tr>\n",
       "    <tr>\n",
       "      <th>1</th>\n",
       "      <td>hayır</td>\n",
       "      <td>1250401</td>\n",
       "      <td>0.865526</td>\n",
       "      <td>2.214343</td>\n",
       "    </tr>\n",
       "    <tr>\n",
       "      <th>2</th>\n",
       "      <td>tamam</td>\n",
       "      <td>882921</td>\n",
       "      <td>0.611157</td>\n",
       "      <td>2.825500</td>\n",
       "    </tr>\n",
       "    <tr>\n",
       "      <th>3</th>\n",
       "      <td>ne</td>\n",
       "      <td>753105</td>\n",
       "      <td>0.521299</td>\n",
       "      <td>3.346799</td>\n",
       "    </tr>\n",
       "    <tr>\n",
       "      <th>4</th>\n",
       "      <td>teşekkürler</td>\n",
       "      <td>343527</td>\n",
       "      <td>0.237789</td>\n",
       "      <td>3.584588</td>\n",
       "    </tr>\n",
       "    <tr>\n",
       "      <th>...</th>\n",
       "      <td>...</td>\n",
       "      <td>...</td>\n",
       "      <td>...</td>\n",
       "      <td>...</td>\n",
       "    </tr>\n",
       "    <tr>\n",
       "      <th>20975605</th>\n",
       "      <td>omalley bize buzsuz scotch ver</td>\n",
       "      <td>2</td>\n",
       "      <td>0.000001</td>\n",
       "      <td>99.999994</td>\n",
       "    </tr>\n",
       "    <tr>\n",
       "      <th>20975606</th>\n",
       "      <td>omalley bu acele ne</td>\n",
       "      <td>2</td>\n",
       "      <td>0.000001</td>\n",
       "      <td>99.999996</td>\n",
       "    </tr>\n",
       "    <tr>\n",
       "      <th>20975607</th>\n",
       "      <td>omalley bu milton wing</td>\n",
       "      <td>2</td>\n",
       "      <td>0.000001</td>\n",
       "      <td>99.999997</td>\n",
       "    </tr>\n",
       "    <tr>\n",
       "      <th>20975608</th>\n",
       "      <td>omalley buna cevap verecek zamanım</td>\n",
       "      <td>2</td>\n",
       "      <td>0.000001</td>\n",
       "      <td>99.999999</td>\n",
       "    </tr>\n",
       "    <tr>\n",
       "      <th>20975609</th>\n",
       "      <td>avukat ile görüşmek istiyorum</td>\n",
       "      <td>2</td>\n",
       "      <td>0.000001</td>\n",
       "      <td>100.000000</td>\n",
       "    </tr>\n",
       "  </tbody>\n",
       "</table>\n",
       "<p>20975610 rows × 4 columns</p>\n",
       "</div>"
      ],
      "text/plain": [
       "                                    sentence  frequency     ratio  cumul_ratio\n",
       "0                                       evet    1948596  1.348816     1.348816\n",
       "1                                      hayır    1250401  0.865526     2.214343\n",
       "2                                      tamam     882921  0.611157     2.825500\n",
       "3                                         ne     753105  0.521299     3.346799\n",
       "4                                teşekkürler     343527  0.237789     3.584588\n",
       "...                                      ...        ...       ...          ...\n",
       "20975605      omalley bize buzsuz scotch ver          2  0.000001    99.999994\n",
       "20975606                 omalley bu acele ne          2  0.000001    99.999996\n",
       "20975607              omalley bu milton wing          2  0.000001    99.999997\n",
       "20975608  omalley buna cevap verecek zamanım          2  0.000001    99.999999\n",
       "20975609       avukat ile görüşmek istiyorum          2  0.000001   100.000000\n",
       "\n",
       "[20975610 rows x 4 columns]"
      ]
     },
     "execution_count": 2,
     "metadata": {},
     "output_type": "execute_result"
    }
   ],
   "source": [
    "df_sent = pd.read_csv(\"/media/kurubal/SSD/Data Scientist/Work/Modern Ways/Project/Pyspark/Result/Sentence/Spark Turkish Sentence Merge/Clean_Spark_Sentence_Merge_Result.csv\")\n",
    "df_sent"
   ]
  },
  {
   "cell_type": "code",
   "execution_count": 56,
   "metadata": {},
   "outputs": [
    {
     "data": {
      "text/html": [
       "<div>\n",
       "<style scoped>\n",
       "    .dataframe tbody tr th:only-of-type {\n",
       "        vertical-align: middle;\n",
       "    }\n",
       "\n",
       "    .dataframe tbody tr th {\n",
       "        vertical-align: top;\n",
       "    }\n",
       "\n",
       "    .dataframe thead th {\n",
       "        text-align: right;\n",
       "    }\n",
       "</style>\n",
       "<table border=\"1\" class=\"dataframe\">\n",
       "  <thead>\n",
       "    <tr style=\"text-align: right;\">\n",
       "      <th></th>\n",
       "      <th>sentence</th>\n",
       "      <th>frequency</th>\n",
       "      <th>ratio</th>\n",
       "      <th>cumul_ratio</th>\n",
       "    </tr>\n",
       "  </thead>\n",
       "  <tbody>\n",
       "    <tr>\n",
       "      <th>0</th>\n",
       "      <td>evet</td>\n",
       "      <td>1948596</td>\n",
       "      <td>1.348816</td>\n",
       "      <td>1.348816</td>\n",
       "    </tr>\n",
       "    <tr>\n",
       "      <th>1</th>\n",
       "      <td>hayır</td>\n",
       "      <td>1250401</td>\n",
       "      <td>0.865526</td>\n",
       "      <td>2.214343</td>\n",
       "    </tr>\n",
       "    <tr>\n",
       "      <th>2</th>\n",
       "      <td>tamam</td>\n",
       "      <td>882921</td>\n",
       "      <td>0.611157</td>\n",
       "      <td>2.825500</td>\n",
       "    </tr>\n",
       "    <tr>\n",
       "      <th>3</th>\n",
       "      <td>ne</td>\n",
       "      <td>753105</td>\n",
       "      <td>0.521299</td>\n",
       "      <td>3.346799</td>\n",
       "    </tr>\n",
       "    <tr>\n",
       "      <th>4</th>\n",
       "      <td>teşekkürler</td>\n",
       "      <td>343527</td>\n",
       "      <td>0.237789</td>\n",
       "      <td>3.584588</td>\n",
       "    </tr>\n",
       "    <tr>\n",
       "      <th>...</th>\n",
       "      <td>...</td>\n",
       "      <td>...</td>\n",
       "      <td>...</td>\n",
       "      <td>...</td>\n",
       "    </tr>\n",
       "    <tr>\n",
       "      <th>9995</th>\n",
       "      <td>tekrar tekrar</td>\n",
       "      <td>603</td>\n",
       "      <td>0.000417</td>\n",
       "      <td>27.637583</td>\n",
       "    </tr>\n",
       "    <tr>\n",
       "      <th>9996</th>\n",
       "      <td>alkış</td>\n",
       "      <td>603</td>\n",
       "      <td>0.000417</td>\n",
       "      <td>27.638001</td>\n",
       "    </tr>\n",
       "    <tr>\n",
       "      <th>9997</th>\n",
       "      <td>ayı</td>\n",
       "      <td>603</td>\n",
       "      <td>0.000417</td>\n",
       "      <td>27.638418</td>\n",
       "    </tr>\n",
       "    <tr>\n",
       "      <th>9998</th>\n",
       "      <td>gözüne ne oldu</td>\n",
       "      <td>603</td>\n",
       "      <td>0.000417</td>\n",
       "      <td>27.638835</td>\n",
       "    </tr>\n",
       "    <tr>\n",
       "      <th>9999</th>\n",
       "      <td>i̇ttir</td>\n",
       "      <td>603</td>\n",
       "      <td>0.000417</td>\n",
       "      <td>27.639253</td>\n",
       "    </tr>\n",
       "  </tbody>\n",
       "</table>\n",
       "<p>10000 rows x 4 columns</p>\n",
       "</div>"
      ],
      "text/plain": [
       "            sentence  frequency     ratio  cumul_ratio\n",
       "0               evet    1948596  1.348816     1.348816\n",
       "1              hayır    1250401  0.865526     2.214343\n",
       "2              tamam     882921  0.611157     2.825500\n",
       "3                 ne     753105  0.521299     3.346799\n",
       "4        teşekkürler     343527  0.237789     3.584588\n",
       "...              ...        ...       ...          ...\n",
       "9995   tekrar tekrar        603  0.000417    27.637583\n",
       "9996           alkış        603  0.000417    27.638001\n",
       "9997             ayı        603  0.000417    27.638418\n",
       "9998  gözüne ne oldu        603  0.000417    27.638835\n",
       "9999          i̇ttir        603  0.000417    27.639253\n",
       "\n",
       "[10000 rows x 4 columns]"
      ]
     },
     "execution_count": 56,
     "metadata": {},
     "output_type": "execute_result"
    }
   ],
   "source": [
    "df_sent2 = df_sent.head(10000)\n",
    "df_sent2"
   ]
  },
  {
   "cell_type": "code",
   "execution_count": 7,
   "metadata": {},
   "outputs": [],
   "source": [
    "text = \"05ceviri ahmet bad\""
   ]
  },
  {
   "cell_type": "code",
   "execution_count": 8,
   "metadata": {},
   "outputs": [],
   "source": [
    "text2 = \"2a\""
   ]
  },
  {
   "cell_type": "code",
   "execution_count": 9,
   "metadata": {},
   "outputs": [],
   "source": [
    "text3 = \"ali? 15 april\""
   ]
  },
  {
   "cell_type": "code",
   "execution_count": 51,
   "metadata": {},
   "outputs": [],
   "source": [
    "text4 = \"5\""
   ]
  },
  {
   "cell_type": "code",
   "execution_count": 41,
   "metadata": {},
   "outputs": [
    {
     "data": {
      "text/plain": [
       "['i']"
      ]
     },
     "execution_count": 41,
     "metadata": {},
     "output_type": "execute_result"
    }
   ],
   "source": [
    "text_list = re.findall(\"\\w+\", text4)\n",
    "text_list"
   ]
  },
  {
   "cell_type": "code",
   "execution_count": 42,
   "metadata": {},
   "outputs": [
    {
     "data": {
      "text/plain": [
       "1"
      ]
     },
     "execution_count": 42,
     "metadata": {},
     "output_type": "execute_result"
    }
   ],
   "source": [
    "len(text_list)"
   ]
  },
  {
   "cell_type": "code",
   "execution_count": 43,
   "metadata": {},
   "outputs": [
    {
     "data": {
      "text/plain": [
       "1"
      ]
     },
     "execution_count": 43,
     "metadata": {},
     "output_type": "execute_result"
    }
   ],
   "source": [
    "len(text_list[0])"
   ]
  },
  {
   "cell_type": "code",
   "execution_count": 3,
   "metadata": {},
   "outputs": [],
   "source": [
    "def clean_num(var):\n",
    "    var_list = re.findall(\"\\w+\", var)\n",
    "    if var_list[0][0].isdigit() or (len(var_list) <= 1 and len(var_list[0]) <= 1):\n",
    "        return \"digit or one character\"\n",
    "    else:\n",
    "        return var"
   ]
  },
  {
   "cell_type": "code",
   "execution_count": 53,
   "metadata": {},
   "outputs": [],
   "source": [
    "# def clean_num(var):\n",
    "#     var_list = re.findall(\"\\w+\", var)\n",
    "#     if var_list[0].isdigit():\n",
    "#         return \"digit\"\n",
    "#     elif var_list[0][0].isdigit():\n",
    "#         return \"digit\""
   ]
  },
  {
   "cell_type": "code",
   "execution_count": 66,
   "metadata": {},
   "outputs": [
    {
     "data": {
      "text/plain": [
       "'digit or one character'"
      ]
     },
     "execution_count": 66,
     "metadata": {},
     "output_type": "execute_result"
    }
   ],
   "source": [
    "clean_num(text4)"
   ]
  },
  {
   "cell_type": "code",
   "execution_count": 6,
   "metadata": {},
   "outputs": [
    {
     "data": {
      "text/html": [
       "<div>\n",
       "<style scoped>\n",
       "    .dataframe tbody tr th:only-of-type {\n",
       "        vertical-align: middle;\n",
       "    }\n",
       "\n",
       "    .dataframe tbody tr th {\n",
       "        vertical-align: top;\n",
       "    }\n",
       "\n",
       "    .dataframe thead th {\n",
       "        text-align: right;\n",
       "    }\n",
       "</style>\n",
       "<table border=\"1\" class=\"dataframe\">\n",
       "  <thead>\n",
       "    <tr style=\"text-align: right;\">\n",
       "      <th></th>\n",
       "      <th>sentence</th>\n",
       "      <th>frequency</th>\n",
       "      <th>ratio</th>\n",
       "      <th>cumul_ratio</th>\n",
       "    </tr>\n",
       "  </thead>\n",
       "  <tbody>\n",
       "    <tr>\n",
       "      <th>0</th>\n",
       "      <td>evet</td>\n",
       "      <td>1948596</td>\n",
       "      <td>1.348816</td>\n",
       "      <td>1.348816</td>\n",
       "    </tr>\n",
       "    <tr>\n",
       "      <th>1</th>\n",
       "      <td>hayır</td>\n",
       "      <td>1250401</td>\n",
       "      <td>0.865526</td>\n",
       "      <td>2.214343</td>\n",
       "    </tr>\n",
       "    <tr>\n",
       "      <th>2</th>\n",
       "      <td>tamam</td>\n",
       "      <td>882921</td>\n",
       "      <td>0.611157</td>\n",
       "      <td>2.825500</td>\n",
       "    </tr>\n",
       "    <tr>\n",
       "      <th>3</th>\n",
       "      <td>ne</td>\n",
       "      <td>753105</td>\n",
       "      <td>0.521299</td>\n",
       "      <td>3.346799</td>\n",
       "    </tr>\n",
       "    <tr>\n",
       "      <th>4</th>\n",
       "      <td>teşekkürler</td>\n",
       "      <td>343527</td>\n",
       "      <td>0.237789</td>\n",
       "      <td>3.584588</td>\n",
       "    </tr>\n",
       "    <tr>\n",
       "      <th>...</th>\n",
       "      <td>...</td>\n",
       "      <td>...</td>\n",
       "      <td>...</td>\n",
       "      <td>...</td>\n",
       "    </tr>\n",
       "    <tr>\n",
       "      <th>20975605</th>\n",
       "      <td>omalley bize buzsuz scotch ver</td>\n",
       "      <td>2</td>\n",
       "      <td>0.000001</td>\n",
       "      <td>99.999994</td>\n",
       "    </tr>\n",
       "    <tr>\n",
       "      <th>20975606</th>\n",
       "      <td>omalley bu acele ne</td>\n",
       "      <td>2</td>\n",
       "      <td>0.000001</td>\n",
       "      <td>99.999996</td>\n",
       "    </tr>\n",
       "    <tr>\n",
       "      <th>20975607</th>\n",
       "      <td>omalley bu milton wing</td>\n",
       "      <td>2</td>\n",
       "      <td>0.000001</td>\n",
       "      <td>99.999997</td>\n",
       "    </tr>\n",
       "    <tr>\n",
       "      <th>20975608</th>\n",
       "      <td>omalley buna cevap verecek zamanım</td>\n",
       "      <td>2</td>\n",
       "      <td>0.000001</td>\n",
       "      <td>99.999999</td>\n",
       "    </tr>\n",
       "    <tr>\n",
       "      <th>20975609</th>\n",
       "      <td>avukat ile görüşmek istiyorum</td>\n",
       "      <td>2</td>\n",
       "      <td>0.000001</td>\n",
       "      <td>100.000000</td>\n",
       "    </tr>\n",
       "  </tbody>\n",
       "</table>\n",
       "<p>20975610 rows × 4 columns</p>\n",
       "</div>"
      ],
      "text/plain": [
       "                                    sentence  frequency     ratio  cumul_ratio\n",
       "0                                       evet    1948596  1.348816     1.348816\n",
       "1                                      hayır    1250401  0.865526     2.214343\n",
       "2                                      tamam     882921  0.611157     2.825500\n",
       "3                                         ne     753105  0.521299     3.346799\n",
       "4                                teşekkürler     343527  0.237789     3.584588\n",
       "...                                      ...        ...       ...          ...\n",
       "20975605      omalley bize buzsuz scotch ver          2  0.000001    99.999994\n",
       "20975606                 omalley bu acele ne          2  0.000001    99.999996\n",
       "20975607              omalley bu milton wing          2  0.000001    99.999997\n",
       "20975608  omalley buna cevap verecek zamanım          2  0.000001    99.999999\n",
       "20975609       avukat ile görüşmek istiyorum          2  0.000001   100.000000\n",
       "\n",
       "[20975610 rows x 4 columns]"
      ]
     },
     "execution_count": 6,
     "metadata": {},
     "output_type": "execute_result"
    }
   ],
   "source": [
    "df_sent.sentence = df_sent.sentence.apply(lambda x : clean_num(x))\n",
    "df_sent"
   ]
  },
  {
   "cell_type": "code",
   "execution_count": 7,
   "metadata": {},
   "outputs": [
    {
     "data": {
      "text/html": [
       "<div>\n",
       "<style scoped>\n",
       "    .dataframe tbody tr th:only-of-type {\n",
       "        vertical-align: middle;\n",
       "    }\n",
       "\n",
       "    .dataframe tbody tr th {\n",
       "        vertical-align: top;\n",
       "    }\n",
       "\n",
       "    .dataframe thead th {\n",
       "        text-align: right;\n",
       "    }\n",
       "</style>\n",
       "<table border=\"1\" class=\"dataframe\">\n",
       "  <thead>\n",
       "    <tr style=\"text-align: right;\">\n",
       "      <th></th>\n",
       "      <th>sentence</th>\n",
       "      <th>frequency</th>\n",
       "      <th>ratio</th>\n",
       "      <th>cumul_ratio</th>\n",
       "    </tr>\n",
       "  </thead>\n",
       "  <tbody>\n",
       "    <tr>\n",
       "      <th>175</th>\n",
       "      <td>digit or one character</td>\n",
       "      <td>27460</td>\n",
       "      <td>0.019008</td>\n",
       "      <td>12.365605</td>\n",
       "    </tr>\n",
       "    <tr>\n",
       "      <th>1008</th>\n",
       "      <td>digit or one character</td>\n",
       "      <td>5365</td>\n",
       "      <td>0.003714</td>\n",
       "      <td>18.440429</td>\n",
       "    </tr>\n",
       "    <tr>\n",
       "      <th>1079</th>\n",
       "      <td>digit or one character</td>\n",
       "      <td>5066</td>\n",
       "      <td>0.003507</td>\n",
       "      <td>18.696996</td>\n",
       "    </tr>\n",
       "    <tr>\n",
       "      <th>1150</th>\n",
       "      <td>digit or one character</td>\n",
       "      <td>4782</td>\n",
       "      <td>0.003310</td>\n",
       "      <td>18.939219</td>\n",
       "    </tr>\n",
       "    <tr>\n",
       "      <th>1286</th>\n",
       "      <td>digit or one character</td>\n",
       "      <td>4331</td>\n",
       "      <td>0.002998</td>\n",
       "      <td>19.368504</td>\n",
       "    </tr>\n",
       "    <tr>\n",
       "      <th>...</th>\n",
       "      <td>...</td>\n",
       "      <td>...</td>\n",
       "      <td>...</td>\n",
       "      <td>...</td>\n",
       "    </tr>\n",
       "    <tr>\n",
       "      <th>16111676</th>\n",
       "      <td>digit or one character</td>\n",
       "      <td>2</td>\n",
       "      <td>0.000001</td>\n",
       "      <td>93.266380</td>\n",
       "    </tr>\n",
       "    <tr>\n",
       "      <th>16111842</th>\n",
       "      <td>digit or one character</td>\n",
       "      <td>2</td>\n",
       "      <td>0.000001</td>\n",
       "      <td>93.266609</td>\n",
       "    </tr>\n",
       "    <tr>\n",
       "      <th>16111866</th>\n",
       "      <td>digit or one character</td>\n",
       "      <td>2</td>\n",
       "      <td>0.000001</td>\n",
       "      <td>93.266643</td>\n",
       "    </tr>\n",
       "    <tr>\n",
       "      <th>16111951</th>\n",
       "      <td>digit or one character</td>\n",
       "      <td>2</td>\n",
       "      <td>0.000001</td>\n",
       "      <td>93.266760</td>\n",
       "    </tr>\n",
       "    <tr>\n",
       "      <th>16111967</th>\n",
       "      <td>digit or one character</td>\n",
       "      <td>2</td>\n",
       "      <td>0.000001</td>\n",
       "      <td>93.266782</td>\n",
       "    </tr>\n",
       "  </tbody>\n",
       "</table>\n",
       "<p>197634 rows × 4 columns</p>\n",
       "</div>"
      ],
      "text/plain": [
       "                        sentence  frequency     ratio  cumul_ratio\n",
       "175       digit or one character      27460  0.019008    12.365605\n",
       "1008      digit or one character       5365  0.003714    18.440429\n",
       "1079      digit or one character       5066  0.003507    18.696996\n",
       "1150      digit or one character       4782  0.003310    18.939219\n",
       "1286      digit or one character       4331  0.002998    19.368504\n",
       "...                          ...        ...       ...          ...\n",
       "16111676  digit or one character          2  0.000001    93.266380\n",
       "16111842  digit or one character          2  0.000001    93.266609\n",
       "16111866  digit or one character          2  0.000001    93.266643\n",
       "16111951  digit or one character          2  0.000001    93.266760\n",
       "16111967  digit or one character          2  0.000001    93.266782\n",
       "\n",
       "[197634 rows x 4 columns]"
      ]
     },
     "execution_count": 7,
     "metadata": {},
     "output_type": "execute_result"
    }
   ],
   "source": [
    "df_sent[df_sent.sentence == \"digit or one character\"]"
   ]
  },
  {
   "cell_type": "code",
   "execution_count": 9,
   "metadata": {},
   "outputs": [
    {
     "data": {
      "text/html": [
       "<div>\n",
       "<style scoped>\n",
       "    .dataframe tbody tr th:only-of-type {\n",
       "        vertical-align: middle;\n",
       "    }\n",
       "\n",
       "    .dataframe tbody tr th {\n",
       "        vertical-align: top;\n",
       "    }\n",
       "\n",
       "    .dataframe thead th {\n",
       "        text-align: right;\n",
       "    }\n",
       "</style>\n",
       "<table border=\"1\" class=\"dataframe\">\n",
       "  <thead>\n",
       "    <tr style=\"text-align: right;\">\n",
       "      <th></th>\n",
       "      <th>sentence</th>\n",
       "      <th>frequency</th>\n",
       "      <th>ratio</th>\n",
       "      <th>cumul_ratio</th>\n",
       "    </tr>\n",
       "  </thead>\n",
       "  <tbody>\n",
       "    <tr>\n",
       "      <th>0</th>\n",
       "      <td>evet</td>\n",
       "      <td>1948596</td>\n",
       "      <td>1.348816</td>\n",
       "      <td>1.348816</td>\n",
       "    </tr>\n",
       "    <tr>\n",
       "      <th>1</th>\n",
       "      <td>hayır</td>\n",
       "      <td>1250401</td>\n",
       "      <td>0.865526</td>\n",
       "      <td>2.214343</td>\n",
       "    </tr>\n",
       "    <tr>\n",
       "      <th>2</th>\n",
       "      <td>tamam</td>\n",
       "      <td>882921</td>\n",
       "      <td>0.611157</td>\n",
       "      <td>2.825500</td>\n",
       "    </tr>\n",
       "    <tr>\n",
       "      <th>3</th>\n",
       "      <td>ne</td>\n",
       "      <td>753105</td>\n",
       "      <td>0.521299</td>\n",
       "      <td>3.346799</td>\n",
       "    </tr>\n",
       "    <tr>\n",
       "      <th>4</th>\n",
       "      <td>teşekkürler</td>\n",
       "      <td>343527</td>\n",
       "      <td>0.237789</td>\n",
       "      <td>3.584588</td>\n",
       "    </tr>\n",
       "    <tr>\n",
       "      <th>...</th>\n",
       "      <td>...</td>\n",
       "      <td>...</td>\n",
       "      <td>...</td>\n",
       "      <td>...</td>\n",
       "    </tr>\n",
       "    <tr>\n",
       "      <th>20777971</th>\n",
       "      <td>omalley bize buzsuz scotch ver</td>\n",
       "      <td>2</td>\n",
       "      <td>0.000001</td>\n",
       "      <td>99.999994</td>\n",
       "    </tr>\n",
       "    <tr>\n",
       "      <th>20777972</th>\n",
       "      <td>omalley bu acele ne</td>\n",
       "      <td>2</td>\n",
       "      <td>0.000001</td>\n",
       "      <td>99.999996</td>\n",
       "    </tr>\n",
       "    <tr>\n",
       "      <th>20777973</th>\n",
       "      <td>omalley bu milton wing</td>\n",
       "      <td>2</td>\n",
       "      <td>0.000001</td>\n",
       "      <td>99.999997</td>\n",
       "    </tr>\n",
       "    <tr>\n",
       "      <th>20777974</th>\n",
       "      <td>omalley buna cevap verecek zamanım</td>\n",
       "      <td>2</td>\n",
       "      <td>0.000001</td>\n",
       "      <td>99.999999</td>\n",
       "    </tr>\n",
       "    <tr>\n",
       "      <th>20777975</th>\n",
       "      <td>avukat ile görüşmek istiyorum</td>\n",
       "      <td>2</td>\n",
       "      <td>0.000001</td>\n",
       "      <td>100.000000</td>\n",
       "    </tr>\n",
       "  </tbody>\n",
       "</table>\n",
       "<p>20777976 rows × 4 columns</p>\n",
       "</div>"
      ],
      "text/plain": [
       "                                    sentence  frequency     ratio  cumul_ratio\n",
       "0                                       evet    1948596  1.348816     1.348816\n",
       "1                                      hayır    1250401  0.865526     2.214343\n",
       "2                                      tamam     882921  0.611157     2.825500\n",
       "3                                         ne     753105  0.521299     3.346799\n",
       "4                                teşekkürler     343527  0.237789     3.584588\n",
       "...                                      ...        ...       ...          ...\n",
       "20777971      omalley bize buzsuz scotch ver          2  0.000001    99.999994\n",
       "20777972                 omalley bu acele ne          2  0.000001    99.999996\n",
       "20777973              omalley bu milton wing          2  0.000001    99.999997\n",
       "20777974  omalley buna cevap verecek zamanım          2  0.000001    99.999999\n",
       "20777975       avukat ile görüşmek istiyorum          2  0.000001   100.000000\n",
       "\n",
       "[20777976 rows x 4 columns]"
      ]
     },
     "execution_count": 9,
     "metadata": {},
     "output_type": "execute_result"
    }
   ],
   "source": [
    "df_sent.drop(df_sent[df_sent.sentence == \"digit or one character\"].index, inplace=True)\n",
    "df_sent.reset_index(drop=True, inplace=True)\n",
    "df_sent"
   ]
  },
  {
   "cell_type": "code",
   "execution_count": 12,
   "metadata": {},
   "outputs": [],
   "source": [
    "df_sent.to_csv(\"Clean_Spark_Sentence_Merge_Result_Clean_Digit_One_Char.csv\", index=False)"
   ]
  },
  {
   "cell_type": "code",
   "execution_count": null,
   "metadata": {},
   "outputs": [],
   "source": []
  }
 ],
 "metadata": {
  "interpreter": {
   "hash": "651d507d70892fab0fc6529d935cd476f6e2eb1791525b76da6cc8da34bc0503"
  },
  "kernelspec": {
   "display_name": "Python 3.9.5 64-bit ('py39': conda)",
   "language": "python",
   "name": "python3"
  },
  "language_info": {
   "codemirror_mode": {
    "name": "ipython",
    "version": 3
   },
   "file_extension": ".py",
   "mimetype": "text/x-python",
   "name": "python",
   "nbconvert_exporter": "python",
   "pygments_lexer": "ipython3",
   "version": "3.9.5"
  },
  "orig_nbformat": 4
 },
 "nbformat": 4,
 "nbformat_minor": 2
}
