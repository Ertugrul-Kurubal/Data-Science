{
 "cells": [
  {
   "cell_type": "markdown",
   "metadata": {},
   "source": [
    "### Clean Merge Result"
   ]
  },
  {
   "cell_type": "code",
   "execution_count": null,
   "metadata": {},
   "outputs": [],
   "source": [
    "# !pip install modin[ray]"
   ]
  },
  {
   "cell_type": "code",
   "execution_count": 1,
   "metadata": {},
   "outputs": [
    {
     "name": "stderr",
     "output_type": "stream",
     "text": [
      "2021-12-10 16:54:30,660\tINFO services.py:1338 -- View the Ray dashboard at \u001b[1m\u001b[32mhttp://127.0.0.1:8265\u001b[39m\u001b[22m\n"
     ]
    },
    {
     "data": {
      "text/plain": [
       "{'node_ip_address': '192.168.1.37',\n",
       " 'raylet_ip_address': '192.168.1.37',\n",
       " 'redis_address': '192.168.1.37:6379',\n",
       " 'object_store_address': '/tmp/ray/session_2021-12-10_16-54-28_748047_40109/sockets/plasma_store',\n",
       " 'raylet_socket_name': '/tmp/ray/session_2021-12-10_16-54-28_748047_40109/sockets/raylet',\n",
       " 'webui_url': '127.0.0.1:8265',\n",
       " 'session_dir': '/tmp/ray/session_2021-12-10_16-54-28_748047_40109',\n",
       " 'metrics_export_port': 49458,\n",
       " 'node_id': 'f9ad4c121765176a4ab7b9c14e6ceda712255e54cedb02d2f3d0447e'}"
      ]
     },
     "execution_count": 1,
     "metadata": {},
     "output_type": "execute_result"
    }
   ],
   "source": [
    "import ray  # ayrı olarak çalıştırılmalı\n",
    "ray.init() "
   ]
  },
  {
   "cell_type": "code",
   "execution_count": 1,
   "metadata": {},
   "outputs": [],
   "source": [
    "# import pandas as pd"
   ]
  },
  {
   "cell_type": "code",
   "execution_count": 7,
   "metadata": {},
   "outputs": [],
   "source": [
    "import modin.pandas as pd\n",
    "import re"
   ]
  },
  {
   "cell_type": "code",
   "execution_count": 3,
   "metadata": {},
   "outputs": [
    {
     "data": {
      "text/html": [
       "<div>\n",
       "<style scoped>\n",
       "    .dataframe tbody tr th:only-of-type {\n",
       "        vertical-align: middle;\n",
       "    }\n",
       "\n",
       "    .dataframe tbody tr th {\n",
       "        vertical-align: top;\n",
       "    }\n",
       "\n",
       "    .dataframe thead th {\n",
       "        text-align: right;\n",
       "    }\n",
       "</style>\n",
       "<table border=\"1\" class=\"dataframe\">\n",
       "  <thead>\n",
       "    <tr style=\"text-align: right;\">\n",
       "      <th></th>\n",
       "      <th>sentence</th>\n",
       "      <th>frequency</th>\n",
       "      <th>ratio</th>\n",
       "      <th>cumul_ratio</th>\n",
       "    </tr>\n",
       "  </thead>\n",
       "  <tbody>\n",
       "    <tr>\n",
       "      <th>0</th>\n",
       "      <td>evet</td>\n",
       "      <td>1948596</td>\n",
       "      <td>1.348816</td>\n",
       "      <td>1.348816</td>\n",
       "    </tr>\n",
       "    <tr>\n",
       "      <th>1</th>\n",
       "      <td>hayır</td>\n",
       "      <td>1250401</td>\n",
       "      <td>0.865526</td>\n",
       "      <td>2.214343</td>\n",
       "    </tr>\n",
       "    <tr>\n",
       "      <th>2</th>\n",
       "      <td>tamam</td>\n",
       "      <td>882921</td>\n",
       "      <td>0.611157</td>\n",
       "      <td>2.825500</td>\n",
       "    </tr>\n",
       "    <tr>\n",
       "      <th>3</th>\n",
       "      <td>ne</td>\n",
       "      <td>753105</td>\n",
       "      <td>0.521299</td>\n",
       "      <td>3.346799</td>\n",
       "    </tr>\n",
       "    <tr>\n",
       "      <th>4</th>\n",
       "      <td>teşekkürler</td>\n",
       "      <td>343527</td>\n",
       "      <td>0.237789</td>\n",
       "      <td>3.584588</td>\n",
       "    </tr>\n",
       "    <tr>\n",
       "      <th>...</th>\n",
       "      <td>...</td>\n",
       "      <td>...</td>\n",
       "      <td>...</td>\n",
       "      <td>...</td>\n",
       "    </tr>\n",
       "    <tr>\n",
       "      <th>20975605</th>\n",
       "      <td>omalley bize buzsuz scotch ver</td>\n",
       "      <td>2</td>\n",
       "      <td>0.000001</td>\n",
       "      <td>99.999994</td>\n",
       "    </tr>\n",
       "    <tr>\n",
       "      <th>20975606</th>\n",
       "      <td>omalley bu acele ne</td>\n",
       "      <td>2</td>\n",
       "      <td>0.000001</td>\n",
       "      <td>99.999996</td>\n",
       "    </tr>\n",
       "    <tr>\n",
       "      <th>20975607</th>\n",
       "      <td>omalley bu milton wing</td>\n",
       "      <td>2</td>\n",
       "      <td>0.000001</td>\n",
       "      <td>99.999997</td>\n",
       "    </tr>\n",
       "    <tr>\n",
       "      <th>20975608</th>\n",
       "      <td>omalley buna cevap verecek zamanım</td>\n",
       "      <td>2</td>\n",
       "      <td>0.000001</td>\n",
       "      <td>99.999999</td>\n",
       "    </tr>\n",
       "    <tr>\n",
       "      <th>20975609</th>\n",
       "      <td>avukat ile görüşmek istiyorum</td>\n",
       "      <td>2</td>\n",
       "      <td>0.000001</td>\n",
       "      <td>100.000000</td>\n",
       "    </tr>\n",
       "  </tbody>\n",
       "</table>\n",
       "<p>20975610 rows x 4 columns</p>\n",
       "</div>"
      ],
      "text/plain": [
       "                                    sentence  frequency     ratio  cumul_ratio\n",
       "0                                       evet    1948596  1.348816     1.348816\n",
       "1                                      hayır    1250401  0.865526     2.214343\n",
       "2                                      tamam     882921  0.611157     2.825500\n",
       "3                                         ne     753105  0.521299     3.346799\n",
       "4                                teşekkürler     343527  0.237789     3.584588\n",
       "...                                      ...        ...       ...          ...\n",
       "20975605      omalley bize buzsuz scotch ver          2  0.000001    99.999994\n",
       "20975606                 omalley bu acele ne          2  0.000001    99.999996\n",
       "20975607              omalley bu milton wing          2  0.000001    99.999997\n",
       "20975608  omalley buna cevap verecek zamanım          2  0.000001    99.999999\n",
       "20975609       avukat ile görüşmek istiyorum          2  0.000001   100.000000\n",
       "\n",
       "[20975610 rows x 4 columns]"
      ]
     },
     "execution_count": 3,
     "metadata": {},
     "output_type": "execute_result"
    }
   ],
   "source": [
    "df_sent = pd.read_csv(\"/media/kurubal/SSD/Data Scientist/Work/Modern Ways/Project/Pyspark/Result/Sentence/Spark Turkish Sentence Merge/Clean_Spark_Sentence_Merge_Result.csv\")\n",
    "df_sent"
   ]
  },
  {
   "cell_type": "code",
   "execution_count": 4,
   "metadata": {},
   "outputs": [
    {
     "data": {
      "text/html": [
       "<div>\n",
       "<style scoped>\n",
       "    .dataframe tbody tr th:only-of-type {\n",
       "        vertical-align: middle;\n",
       "    }\n",
       "\n",
       "    .dataframe tbody tr th {\n",
       "        vertical-align: top;\n",
       "    }\n",
       "\n",
       "    .dataframe thead th {\n",
       "        text-align: right;\n",
       "    }\n",
       "</style>\n",
       "<table border=\"1\" class=\"dataframe\">\n",
       "  <thead>\n",
       "    <tr style=\"text-align: right;\">\n",
       "      <th></th>\n",
       "      <th>sentence</th>\n",
       "      <th>frequency</th>\n",
       "      <th>ratio</th>\n",
       "      <th>cumul_ratio</th>\n",
       "    </tr>\n",
       "  </thead>\n",
       "  <tbody>\n",
       "    <tr>\n",
       "      <th>0</th>\n",
       "      <td>evet</td>\n",
       "      <td>1948596</td>\n",
       "      <td>1.348816</td>\n",
       "      <td>1.348816</td>\n",
       "    </tr>\n",
       "    <tr>\n",
       "      <th>1</th>\n",
       "      <td>hayır</td>\n",
       "      <td>1250401</td>\n",
       "      <td>0.865526</td>\n",
       "      <td>2.214343</td>\n",
       "    </tr>\n",
       "    <tr>\n",
       "      <th>2</th>\n",
       "      <td>tamam</td>\n",
       "      <td>882921</td>\n",
       "      <td>0.611157</td>\n",
       "      <td>2.825500</td>\n",
       "    </tr>\n",
       "    <tr>\n",
       "      <th>3</th>\n",
       "      <td>ne</td>\n",
       "      <td>753105</td>\n",
       "      <td>0.521299</td>\n",
       "      <td>3.346799</td>\n",
       "    </tr>\n",
       "    <tr>\n",
       "      <th>4</th>\n",
       "      <td>teşekkürler</td>\n",
       "      <td>343527</td>\n",
       "      <td>0.237789</td>\n",
       "      <td>3.584588</td>\n",
       "    </tr>\n",
       "    <tr>\n",
       "      <th>...</th>\n",
       "      <td>...</td>\n",
       "      <td>...</td>\n",
       "      <td>...</td>\n",
       "      <td>...</td>\n",
       "    </tr>\n",
       "    <tr>\n",
       "      <th>9995</th>\n",
       "      <td>tekrar tekrar</td>\n",
       "      <td>603</td>\n",
       "      <td>0.000417</td>\n",
       "      <td>27.637583</td>\n",
       "    </tr>\n",
       "    <tr>\n",
       "      <th>9996</th>\n",
       "      <td>alkış</td>\n",
       "      <td>603</td>\n",
       "      <td>0.000417</td>\n",
       "      <td>27.638001</td>\n",
       "    </tr>\n",
       "    <tr>\n",
       "      <th>9997</th>\n",
       "      <td>ayı</td>\n",
       "      <td>603</td>\n",
       "      <td>0.000417</td>\n",
       "      <td>27.638418</td>\n",
       "    </tr>\n",
       "    <tr>\n",
       "      <th>9998</th>\n",
       "      <td>gözüne ne oldu</td>\n",
       "      <td>603</td>\n",
       "      <td>0.000417</td>\n",
       "      <td>27.638835</td>\n",
       "    </tr>\n",
       "    <tr>\n",
       "      <th>9999</th>\n",
       "      <td>i̇ttir</td>\n",
       "      <td>603</td>\n",
       "      <td>0.000417</td>\n",
       "      <td>27.639253</td>\n",
       "    </tr>\n",
       "  </tbody>\n",
       "</table>\n",
       "<p>10000 rows x 4 columns</p>\n",
       "</div>"
      ],
      "text/plain": [
       "            sentence  frequency     ratio  cumul_ratio\n",
       "0               evet    1948596  1.348816     1.348816\n",
       "1              hayır    1250401  0.865526     2.214343\n",
       "2              tamam     882921  0.611157     2.825500\n",
       "3                 ne     753105  0.521299     3.346799\n",
       "4        teşekkürler     343527  0.237789     3.584588\n",
       "...              ...        ...       ...          ...\n",
       "9995   tekrar tekrar        603  0.000417    27.637583\n",
       "9996           alkış        603  0.000417    27.638001\n",
       "9997             ayı        603  0.000417    27.638418\n",
       "9998  gözüne ne oldu        603  0.000417    27.638835\n",
       "9999          i̇ttir        603  0.000417    27.639253\n",
       "\n",
       "[10000 rows x 4 columns]"
      ]
     },
     "execution_count": 4,
     "metadata": {},
     "output_type": "execute_result"
    }
   ],
   "source": [
    "df_sent = df_sent.head(10000)\n",
    "df_sent"
   ]
  },
  {
   "cell_type": "code",
   "execution_count": 11,
   "metadata": {},
   "outputs": [],
   "source": [
    "text = \"05ceviri ahmet bad\""
   ]
  },
  {
   "cell_type": "code",
   "execution_count": 28,
   "metadata": {},
   "outputs": [],
   "source": [
    "text2 = \"2a\""
   ]
  },
  {
   "cell_type": "code",
   "execution_count": 38,
   "metadata": {},
   "outputs": [],
   "source": [
    "text3 = \"ali? 15 april\""
   ]
  },
  {
   "cell_type": "code",
   "execution_count": 40,
   "metadata": {},
   "outputs": [
    {
     "data": {
      "text/plain": [
       "['ali?', '15 ', 'april']"
      ]
     },
     "execution_count": 40,
     "metadata": {},
     "output_type": "execute_result"
    }
   ],
   "source": [
    "text_list = re.findall(\"\\w+.\", text3)\n",
    "text_list"
   ]
  },
  {
   "cell_type": "code",
   "execution_count": 36,
   "metadata": {},
   "outputs": [],
   "source": [
    "def clean_num(var):\n",
    "    var_list = re.findall(\"\\w+\", var)\n",
    "    if var_list[0][0].isdigit():\n",
    "        return \"digit\"\n",
    "    else:\n",
    "        return var"
   ]
  },
  {
   "cell_type": "code",
   "execution_count": 15,
   "metadata": {},
   "outputs": [],
   "source": [
    "# def clean_num(var):\n",
    "#     var_list = re.findall(\"\\w+\", var)\n",
    "#     if var_list[0].isdigit():\n",
    "#         return \"digit\"\n",
    "#     elif var_list[0][0].isdigit():\n",
    "#         return \"digit\""
   ]
  },
  {
   "cell_type": "code",
   "execution_count": 37,
   "metadata": {},
   "outputs": [
    {
     "data": {
      "text/plain": [
       "'ali 15 april'"
      ]
     },
     "execution_count": 37,
     "metadata": {},
     "output_type": "execute_result"
    }
   ],
   "source": [
    "clean_num(text3)"
   ]
  },
  {
   "cell_type": "code",
   "execution_count": null,
   "metadata": {},
   "outputs": [],
   "source": []
  }
 ],
 "metadata": {
  "interpreter": {
   "hash": "651d507d70892fab0fc6529d935cd476f6e2eb1791525b76da6cc8da34bc0503"
  },
  "kernelspec": {
   "display_name": "Python 3.9.5 64-bit ('py39': conda)",
   "language": "python",
   "name": "python3"
  },
  "language_info": {
   "codemirror_mode": {
    "name": "ipython",
    "version": 3
   },
   "file_extension": ".py",
   "mimetype": "text/x-python",
   "name": "python",
   "nbconvert_exporter": "python",
   "pygments_lexer": "ipython3",
   "version": "3.9.5"
  },
  "orig_nbformat": 4
 },
 "nbformat": 4,
 "nbformat_minor": 2
}
