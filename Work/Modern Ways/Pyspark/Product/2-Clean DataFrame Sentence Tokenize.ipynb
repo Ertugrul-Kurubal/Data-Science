{
 "cells": [
  {
   "cell_type": "markdown",
   "metadata": {},
   "source": [
    "### Clean Spark DataFrame Sentence"
   ]
  },
  {
   "cell_type": "code",
   "execution_count": null,
   "metadata": {},
   "outputs": [],
   "source": [
    "#!pip install modin[ray]"
   ]
  },
  {
   "cell_type": "code",
   "execution_count": null,
   "metadata": {},
   "outputs": [],
   "source": [
    "import ray  # ayrı olarak çalıştırılmalı\n",
    "ray.init() "
   ]
  },
  {
   "cell_type": "code",
   "execution_count": null,
   "metadata": {},
   "outputs": [],
   "source": [
    "#import pandas as pd\n",
    "import modin.pandas as pd\n",
    "import numpy as np\n",
    "import re\n",
    "import nltk\n",
    "from nltk import word_tokenize"
   ]
  },
  {
   "cell_type": "code",
   "execution_count": null,
   "metadata": {},
   "outputs": [],
   "source": [
    "# def clean_text(text):\n",
    "#     text = \".\".join(text)\n",
    "#     text_clean_brackets = text.strip(\"-\").strip(\"*\").strip(\"/\").strip(\"+\").strip(\"#\").strip(\"$\")\n",
    "#     text_clean_data_brackets = re.sub('[\\(\\[\\{].*?[\\)\\]\\}]', '', text_clean_brackets)\n",
    "#     text_clean_list = re.findall(r'\\w+.', text_clean_data_brackets)\n",
    "#     text_result = (\" \".join(text_clean_list)).lower()\n",
    "#     return text_result "
   ]
  },
  {
   "cell_type": "code",
   "execution_count": null,
   "metadata": {},
   "outputs": [],
   "source": [
    "df = pd.read_csv(\"Spark_Sentence_Tokenize1.csv\")\n",
    "df"
   ]
  },
  {
   "cell_type": "code",
   "execution_count": null,
   "metadata": {},
   "outputs": [],
   "source": [
    "df.result.loc[10]"
   ]
  },
  {
   "cell_type": "code",
   "execution_count": null,
   "metadata": {},
   "outputs": [],
   "source": [
    "df.columns"
   ]
  },
  {
   "cell_type": "code",
   "execution_count": null,
   "metadata": {},
   "outputs": [],
   "source": [
    "# def clean_text(text):\n",
    "#     text_clean_list = re.findall(r'\\w+', text)\n",
    "#     alpha_num = [w for w in text_clean_list if w.isalnum()]\n",
    "#     text_result = (\" \".join(alpha_num)).lower()\n",
    "#     return text_result "
   ]
  },
  {
   "cell_type": "code",
   "execution_count": null,
   "metadata": {},
   "outputs": [],
   "source": [
    "# def clean_text(text):\n",
    "#     clean_punc = re.sub(r'[^\\w\\s]','',text)\n",
    "#     text_clean_list = re.findall(r'\\w+', clean_punc)\n",
    "#     #text_clean_list = word_tokenize(clean_punc)\n",
    "#     #text_clean_list = re.findall(r'\\w+', text, flags=re.UNICODE)\n",
    "#     #alpha_num = [w for w in text_clean_list if w.isalpha()]\n",
    "#     text_result = (\" \".join(text_clean_list)).lower()\n",
    "#     return text_result "
   ]
  },
  {
   "cell_type": "code",
   "execution_count": null,
   "metadata": {},
   "outputs": [],
   "source": [
    "def clean_text(text):\n",
    "    clean_brackets = text.strip(\"[]\")\n",
    "    clean_brackets_data = re.sub('[\\(\\[\\{].*?[\\)\\]\\}]', '', clean_brackets)\n",
    "    clean_punc = re.sub(r'[^\\w\\s]','',clean_brackets_data)\n",
    "    text_clean_list = re.findall(r'\\w+', clean_punc)\n",
    "    #alpha_num = [w for w in text_clean_list if w.isalnum()]\n",
    "    text_result = (\" \".join(text_clean_list)).lower()\n",
    "    return text_result "
   ]
  },
  {
   "cell_type": "code",
   "execution_count": null,
   "metadata": {},
   "outputs": [],
   "source": [
    "sent_list = []\n",
    "for i in df.result:\n",
    "    i = clean_text(i)\n",
    "    sent_list.append(i)  "
   ]
  },
  {
   "cell_type": "code",
   "execution_count": null,
   "metadata": {},
   "outputs": [],
   "source": [
    "df_clean = pd.DataFrame(sent_list)\n",
    "df_clean.head()"
   ]
  },
  {
   "cell_type": "code",
   "execution_count": null,
   "metadata": {},
   "outputs": [],
   "source": [
    "df_clean = df_clean.rename(columns={0:\"sentence\"})\n",
    "df_clean"
   ]
  },
  {
   "cell_type": "code",
   "execution_count": null,
   "metadata": {},
   "outputs": [],
   "source": [
    "df_clean.drop(df_clean[df_clean.sentence == \"\"].index, inplace=True)"
   ]
  },
  {
   "cell_type": "code",
   "execution_count": null,
   "metadata": {},
   "outputs": [],
   "source": [
    "sent_count = df_clean.sentence.value_counts().sort_values(ascending=False)\n",
    "#sent_count"
   ]
  },
  {
   "cell_type": "code",
   "execution_count": null,
   "metadata": {},
   "outputs": [],
   "source": [
    "sent_count_df = pd.DataFrame(sent_count).reset_index()\n",
    "sent_count_df.rename(columns={\"index\":\"sentence\", \"sentence\":\"frequency\"}, inplace=True)"
   ]
  },
  {
   "cell_type": "code",
   "execution_count": null,
   "metadata": {},
   "outputs": [],
   "source": [
    "total_frequency = sent_count_df.frequency.sum()"
   ]
  },
  {
   "cell_type": "code",
   "execution_count": null,
   "metadata": {},
   "outputs": [],
   "source": [
    "sent_count_df[\"ratio\"] = (sent_count_df.frequency/total_frequency)*100"
   ]
  },
  {
   "cell_type": "code",
   "execution_count": null,
   "metadata": {},
   "outputs": [],
   "source": [
    "sent_count_df[\"cumul_ratio\"] = np.cumsum(sent_count_df[\"ratio\"])"
   ]
  },
  {
   "cell_type": "code",
   "execution_count": null,
   "metadata": {},
   "outputs": [],
   "source": [
    "# def sentence_lenght(sentence):\n",
    "#     word_var2 = re.findall(r'\\w+', sentence)\n",
    "#     if len(word_var2) <= 10:\n",
    "#         sent_var2 = \" \".join(word_var2)\n",
    "#         return sent_var2\n",
    "#     else:\n",
    "#         return \"sentence is bigger than ten word\""
   ]
  },
  {
   "cell_type": "code",
   "execution_count": null,
   "metadata": {},
   "outputs": [],
   "source": [
    "# # select less and equal ten word sentence\n",
    "# def sentence_lenght(sentence):\n",
    "#     word_var2 = word_tokenize(sentence)\n",
    "#     if len(word_var2) <= 10:\n",
    "#         sent_var2 = \" \".join(word_var2)\n",
    "#         return sent_var2\n",
    "#     else:\n",
    "#         return \"sentence is bigger than ten word\""
   ]
  },
  {
   "cell_type": "code",
   "execution_count": null,
   "metadata": {},
   "outputs": [],
   "source": [
    "def sentence_lenght(sentence):\n",
    "    word_var2 = re.findall(r'\\w+', sentence)\n",
    "    if len(word_var2) <= 10:\n",
    "        return sentence\n",
    "    else:\n",
    "        return \"sentence is bigger than ten word\""
   ]
  },
  {
   "cell_type": "code",
   "execution_count": null,
   "metadata": {},
   "outputs": [],
   "source": [
    "sent_count_df.sentence = sent_count_df.sentence.apply(sentence_lenght)"
   ]
  },
  {
   "cell_type": "code",
   "execution_count": null,
   "metadata": {},
   "outputs": [],
   "source": [
    "sent_count_df.drop(sent_count_df[sent_count_df.sentence == \"sentence is bigger than ten word\"].index,axis=0, inplace=True)\n",
    "sent_count_df.reset_index(drop=True, inplace=True)"
   ]
  },
  {
   "cell_type": "code",
   "execution_count": null,
   "metadata": {},
   "outputs": [],
   "source": [
    "df_result = sent_count_df[sent_count_df.frequency>1]"
   ]
  },
  {
   "cell_type": "code",
   "execution_count": null,
   "metadata": {},
   "outputs": [],
   "source": [
    "df_result.to_csv(\"Clean_Spark_Sentence_Tokenize1.csv\", index=False)"
   ]
  },
  {
   "cell_type": "code",
   "execution_count": null,
   "metadata": {},
   "outputs": [],
   "source": []
  },
  {
   "cell_type": "code",
   "execution_count": null,
   "metadata": {},
   "outputs": [],
   "source": []
  },
  {
   "cell_type": "code",
   "execution_count": null,
   "metadata": {},
   "outputs": [],
   "source": []
  },
  {
   "cell_type": "code",
   "execution_count": null,
   "metadata": {},
   "outputs": [],
   "source": []
  },
  {
   "cell_type": "code",
   "execution_count": null,
   "metadata": {},
   "outputs": [],
   "source": []
  }
 ],
 "metadata": {
  "interpreter": {
   "hash": "651d507d70892fab0fc6529d935cd476f6e2eb1791525b76da6cc8da34bc0503"
  },
  "kernelspec": {
   "display_name": "Python 3.9.5 64-bit ('py39': conda)",
   "language": "python",
   "name": "python3"
  },
  "language_info": {
   "codemirror_mode": {
    "name": "ipython",
    "version": 3
   },
   "file_extension": ".py",
   "mimetype": "text/x-python",
   "name": "python",
   "nbconvert_exporter": "python",
   "pygments_lexer": "ipython3",
   "version": "3.9.5"
  },
  "orig_nbformat": 4
 },
 "nbformat": 4,
 "nbformat_minor": 2
}
