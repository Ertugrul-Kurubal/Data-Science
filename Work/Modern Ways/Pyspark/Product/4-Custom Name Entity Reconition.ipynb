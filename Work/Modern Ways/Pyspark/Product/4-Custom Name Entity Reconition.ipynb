{
 "cells": [
  {
   "cell_type": "markdown",
   "metadata": {},
   "source": [
    "### Custom Name Entity Check Func"
   ]
  },
  {
   "cell_type": "code",
   "execution_count": 2,
   "metadata": {},
   "outputs": [],
   "source": [
    "import pandas as pd\n",
    "import numpy as np\n",
    "from itertools import islice\n",
    "import re"
   ]
  },
  {
   "cell_type": "code",
   "execution_count": 108,
   "metadata": {},
   "outputs": [],
   "source": [
    "word_list = [\"ramiro\", \"Thomas\", \"Peter\",\"Arthur\", \"Kirkland\", \"Sizi\",\"Ertugrul\", \"Gregor\", \"$ali\", \"20str\", \"evet\",\"neden\", \"archie\", \"gaby\", \"dani\"]"
   ]
  },
  {
   "cell_type": "code",
   "execution_count": null,
   "metadata": {},
   "outputs": [],
   "source": [
    "# df_word = pd.read_excel(\"/media/kurubal/SSD/Data Scientist/Work/Modern Ways/Project/Pyspark/Product/Sentence_Single.xlsx\")\n",
    "# df_word"
   ]
  },
  {
   "cell_type": "code",
   "execution_count": 109,
   "metadata": {},
   "outputs": [],
   "source": [
    "with open(\"/media/kurubal/SSD/Data Scientist/Work/Modern Ways/Project/Pyspark/ReDe/xaa.tr\", \"r\",encoding=\"latin1\") as file:\n",
    "    text = file.read()"
   ]
  },
  {
   "cell_type": "code",
   "execution_count": 110,
   "metadata": {},
   "outputs": [],
   "source": [
    "digit_and_not_alnum = []\n",
    "string_word = []\n",
    "for i in word_list:\n",
    "#for i in df_word.sentence:\n",
    "    i = str(i)\n",
    "    if not(i[0].isalnum()) or i[0].isdigit():\n",
    "        digit_and_not_alnum.append(i)\n",
    "    else:\n",
    "        string_word.append(i)"
   ]
  },
  {
   "cell_type": "code",
   "execution_count": 175,
   "metadata": {},
   "outputs": [
    {
     "data": {
      "text/plain": [
       "['Ramiro', 'Thomas', 'Peter', 'Arthur', 'Kirkland']"
      ]
     },
     "execution_count": 175,
     "metadata": {},
     "output_type": "execute_result"
    }
   ],
   "source": [
    "# # 1-Way Slow But More Accurancy\n",
    "# special_name_list = []  \n",
    "# for j in string_word:\n",
    "#     var1_list = re.findall(f\"(?:\\s|^){j}(?:\\s|$)\", text, flags=re.IGNORECASE)\n",
    "#     var2_list = []\n",
    "#     for k in var1_list:\n",
    "#         k = re.findall(r'\\w+', k)\n",
    "#         var2_list.append(k[0])\n",
    "#     upper_list = []\n",
    "#     lower_list = []\n",
    "#     for m in var2_list:\n",
    "#         if m[0] == m[0].upper():\n",
    "#             upper_list.append(m)\n",
    "#         else:\n",
    "#             lower_list.append(m)\n",
    "#     if round((len(upper_list))/(len(upper_list)+len(lower_list)+0.1)*100,5) >= 98:\n",
    "#         special_name_list.append(j.capitalize())\n",
    "#     else:\n",
    "#         pass\n",
    "# special_name_list"
   ]
  },
  {
   "cell_type": "code",
   "execution_count": null,
   "metadata": {},
   "outputs": [],
   "source": [
    "# # 2-Way Like As 1-Way\n",
    "# special_name_list = []  \n",
    "# for j in string_word:\n",
    "#     var1_list = re.findall(f\"(?:\\s|^){j}(?:\\s|$)\", text, flags=re.IGNORECASE)\n",
    "#     upper_list = []\n",
    "#     lower_list = []\n",
    "#     for m in var1_list:\n",
    "#         if m[0] == m[0].upper():\n",
    "#             upper_list.append(m)\n",
    "#         else:\n",
    "#             lower_list.append(m)\n",
    "#     if round((len(upper_list))/(len(upper_list)+len(lower_list)+0.1)*100,5) >= 99:\n",
    "#         special_name_list.append(j.capitalize())\n",
    "#     else:\n",
    "#         pass\n",
    "# special_name_list"
   ]
  },
  {
   "cell_type": "code",
   "execution_count": 191,
   "metadata": {},
   "outputs": [
    {
     "data": {
      "text/plain": [
       "['Thomas', 'Peter', 'Arthur', 'Kirkland', 'Sizi', 'Evet', 'Neden']"
      ]
     },
     "execution_count": 191,
     "metadata": {},
     "output_type": "execute_result"
    }
   ],
   "source": [
    "# 3-Way Fast But Less Accurancy     \n",
    "special_name_list = []  \n",
    "for j in string_word:\n",
    "    var1_list = []\n",
    "    limit = 100\n",
    "    for x in islice(re.finditer(f\"(?:\\s|^){j}(?:\\s|$)\", text, flags=re.IGNORECASE), limit):\n",
    "        var1_list.append(x.group())\n",
    "    upper_list = []\n",
    "    lower_list = []\n",
    "    for m in var1_list:\n",
    "        if m[0] == m[0].upper():\n",
    "            upper_list.append(m)\n",
    "        else:\n",
    "            lower_list.append(m)\n",
    "    if round((len(upper_list))/(len(upper_list)+len(lower_list)+0.1)*100,5) >= 99:\n",
    "        special_name_list.append(j.capitalize())\n",
    "    else:\n",
    "        pass\n",
    "special_name_list"
   ]
  },
  {
   "cell_type": "code",
   "execution_count": null,
   "metadata": {},
   "outputs": [],
   "source": [
    "df_special_name = pd.DataFrame(special_name_list)\n",
    "df_special_name"
   ]
  },
  {
   "cell_type": "code",
   "execution_count": null,
   "metadata": {},
   "outputs": [],
   "source": [
    "df_special_name.to_excel(\"Special_Name.xlsx\", sheet_name=\"Special_Name\", index=False)"
   ]
  },
  {
   "cell_type": "code",
   "execution_count": null,
   "metadata": {},
   "outputs": [],
   "source": []
  },
  {
   "cell_type": "code",
   "execution_count": 103,
   "metadata": {},
   "outputs": [],
   "source": [
    "def find_special_name(name_ent):\n",
    "    var_list = []\n",
    "    limit = 100\n",
    "    for x in islice(re.finditer(f\"(?:\\s|^){name_ent}(?:\\s|$)\", text, flags=re.IGNORECASE), limit):\n",
    "        var_list.append(x.group())\n",
    "    upper_list = []\n",
    "    lower_list = []\n",
    "    for m in var_list:\n",
    "        if m[0] == m[0].upper():\n",
    "            upper_list.append(m)\n",
    "        else:\n",
    "            lower_list.append(m)\n",
    "    if round((len(upper_list))/(len(upper_list)+len(lower_list)+0.1)*100,5) >= 97:\n",
    "        special_name = name_ent.capitalize()        \n",
    "    else:\n",
    "        special_name = \"not special name\"\n",
    "    return special_name"
   ]
  },
  {
   "cell_type": "code",
   "execution_count": 104,
   "metadata": {},
   "outputs": [
    {
     "data": {
      "text/plain": [
       "'not special name'"
      ]
     },
     "execution_count": 104,
     "metadata": {},
     "output_type": "execute_result"
    }
   ],
   "source": [
    "find_special_name(\"ertugrul\")"
   ]
  },
  {
   "cell_type": "code",
   "execution_count": null,
   "metadata": {},
   "outputs": [],
   "source": []
  },
  {
   "cell_type": "code",
   "execution_count": 121,
   "metadata": {},
   "outputs": [],
   "source": [
    "# Test 1\n",
    "import os\n",
    "from multiprocessing import Process\n",
    "\n",
    "digit_and_not_alnum = []\n",
    "string_word = []\n",
    "for i in word_list:\n",
    "    i = str(i)\n",
    "    if not(i[0].isalnum()) or i[0].isdigit():\n",
    "        digit_and_not_alnum.append(i)\n",
    "    else:\n",
    "        string_word.append(i)\n",
    "\n",
    "def find_special_name(name_ent):\n",
    "    var_list = []\n",
    "    limit = 100\n",
    "    for x in islice(re.finditer(f\"(?:\\s|^){name_ent}(?:\\s|$)\", text, flags=re.IGNORECASE), limit):\n",
    "        var_list.append(x.group())\n",
    "    upper_list = []\n",
    "    lower_list = []\n",
    "    for m in var_list:\n",
    "        if m[0] == m[0].upper():\n",
    "            upper_list.append(m)\n",
    "        else:\n",
    "            lower_list.append(m)\n",
    "    if round((len(upper_list))/(len(upper_list)+len(lower_list)+0.1)*100,5) >= 98:\n",
    "        special_name = name_ent.capitalize()\n",
    "    else:\n",
    "        special_name = \"not special name\"\n",
    "    return special_name\n",
    "    #return upper_list\n",
    "    #return lower_list\n",
    "\n",
    "if __name__ == '__main__':\n",
    "    procs = []\n",
    "    for n in string_word:\n",
    "        proc = Process(target=find_special_name, args=(n,))\n",
    "        procs.append(proc)\n",
    "        proc.start()\n",
    "    for proc in procs:\n",
    "        proc.join()"
   ]
  },
  {
   "cell_type": "code",
   "execution_count": 122,
   "metadata": {},
   "outputs": [
    {
     "data": {
      "text/plain": [
       "[<Process name='Process-53' parent=20599 initial>,\n",
       " <Process name='Process-54' parent=20599 initial>,\n",
       " <Process name='Process-55' parent=20599 initial>,\n",
       " <Process name='Process-56' parent=20599 initial>,\n",
       " <Process name='Process-57' parent=20599 initial>,\n",
       " <Process name='Process-58' parent=20599 initial>,\n",
       " <Process name='Process-59' parent=20599 initial>,\n",
       " <Process name='Process-60' parent=20599 initial>,\n",
       " <Process name='Process-61' parent=20599 initial>,\n",
       " <Process name='Process-62' parent=20599 initial>,\n",
       " <Process name='Process-63' parent=20599 initial>,\n",
       " <Process name='Process-64' parent=20599 initial>,\n",
       " <Process name='Process-65' pid=85528 parent=20599 stopped exitcode=0>]"
      ]
     },
     "execution_count": 122,
     "metadata": {},
     "output_type": "execute_result"
    }
   ],
   "source": [
    "special_name_list"
   ]
  },
  {
   "cell_type": "code",
   "execution_count": 164,
   "metadata": {},
   "outputs": [
    {
     "name": "stdout",
     "output_type": "stream",
     "text": [
      "not special name\n",
      "Thomas\n",
      "Peter\n",
      "Arthur\n",
      "Kirkland\n",
      "Sizi\n",
      "not special name\n",
      "not special name\n",
      "evet\n",
      "neden\n",
      "not special name\n",
      "not special name\n",
      "not special name\n"
     ]
    }
   ],
   "source": [
    "# Test 5\n",
    "import os\n",
    "from multiprocessing import Process\n",
    "\n",
    "def find_special_name(string_word):\n",
    "    for z in string_word: \n",
    "        var_list = []\n",
    "        limit = 100\n",
    "        for x in islice(re.finditer(f\"(?:\\s|^){z}(?:\\s|$)\", text, flags=re.IGNORECASE), limit):\n",
    "            var_list.append(x.group())\n",
    "        upper_list = []\n",
    "        lower_list = []\n",
    "        for m in var_list:\n",
    "            if m[0] == m[0].upper():\n",
    "                upper_list.append(m)\n",
    "            else:\n",
    "                lower_list.append(m)\n",
    "        if round((len(upper_list))/(len(upper_list)+len(lower_list)+0.1)*100,5) >= 99:\n",
    "            print(z)\n",
    "        else:\n",
    "            print(\"not special name\")\n",
    "\n",
    "if __name__ == '__main__':\n",
    "    digit_and_not_alnum = []\n",
    "    string_word = []\n",
    "    for i in word_list:\n",
    "        i = str(i)\n",
    "        if not(i[0].isalnum()) or i[0].isdigit():\n",
    "            digit_and_not_alnum.append(i)\n",
    "        else:\n",
    "            string_word.append(i)\n",
    "    proc = Process(target=find_special_name, args=(string_word,))\n",
    "    proc.start()\n",
    "    proc.join()"
   ]
  },
  {
   "cell_type": "code",
   "execution_count": 156,
   "metadata": {},
   "outputs": [
    {
     "data": {
      "text/plain": [
       "[]"
      ]
     },
     "execution_count": 156,
     "metadata": {},
     "output_type": "execute_result"
    }
   ],
   "source": [
    "special_name_list"
   ]
  },
  {
   "cell_type": "code",
   "execution_count": 157,
   "metadata": {},
   "outputs": [
    {
     "name": "stdout",
     "output_type": "stream",
     "text": [
      "hello bob\n"
     ]
    }
   ],
   "source": [
    "from multiprocessing import Process\n",
    "\n",
    "def f(name):\n",
    "    print('hello', name)\n",
    "\n",
    "if __name__ == '__main__':\n",
    "    p = Process(target=f, args=('bob',))\n",
    "    p.start()\n",
    "    p.join()"
   ]
  },
  {
   "cell_type": "code",
   "execution_count": 172,
   "metadata": {},
   "outputs": [],
   "source": [
    "# Test 6\n",
    "import os\n",
    "from multiprocessing import Process\n",
    "\n",
    "digit_and_not_alnum = []\n",
    "string_word = []\n",
    "for i in word_list:\n",
    "    i = str(i)\n",
    "    if not(i[0].isalnum()) or i[0].isdigit():\n",
    "        digit_and_not_alnum.append(i)\n",
    "    else:\n",
    "        string_word.append(i)\n",
    "\n",
    "def find_special_name(name_ent):\n",
    "    var_list = []\n",
    "    limit = 100\n",
    "    for x in islice(re.finditer(f\"(?:\\s|^){name_ent}(?:\\s|$)\", text, flags=re.IGNORECASE), limit):\n",
    "        var_list.append(x.group())\n",
    "    upper_list = []\n",
    "    lower_list = []\n",
    "    for m in var_list:\n",
    "        if m[0] == m[0].upper():\n",
    "            upper_list.append(m)\n",
    "        else:\n",
    "            lower_list.append(m)\n",
    "    if round((len(upper_list))/(len(upper_list)+len(lower_list)+0.1)*100,5) >= 98:\n",
    "        print(name_ent)\n",
    "    else:\n",
    "        print(\"not special name\")"
   ]
  },
  {
   "cell_type": "code",
   "execution_count": 173,
   "metadata": {},
   "outputs": [
    {
     "name": "stdout",
     "output_type": "stream",
     "text": [
      "ramiro\n",
      "Thomas\n",
      "Peter\n",
      "Arthur\n",
      "Kirkland\n",
      "Sizi\n",
      "not special name\n",
      "not special name\n",
      "evet\n",
      "neden\n",
      "not special name\n",
      "not special name\n",
      "not special name\n"
     ]
    }
   ],
   "source": [
    "if __name__ == '__main__':   \n",
    "    for n in string_word:\n",
    "        proc = Process(target=find_special_name, args=(n,))\n",
    "        proc.start()\n",
    "        proc.join()"
   ]
  },
  {
   "cell_type": "code",
   "execution_count": 12,
   "metadata": {},
   "outputs": [
    {
     "name": "stdout",
     "output_type": "stream",
     "text": [
      "['neden', 'Sizi', 'evet', 'Arthur', 'Thomas', 'not special name', 'Kirkland', 'not special name', 'not special name', 'Peter', 'not special name', 'not special name', 'not special name']\n"
     ]
    }
   ],
   "source": [
    "# Test 9 (Working)\n",
    "import os\n",
    "from multiprocessing import Process, Manager\n",
    "\n",
    "digit_and_not_alnum = []\n",
    "string_word = []\n",
    "for i in word_list:\n",
    "    i = str(i)\n",
    "    if not(i[0].isalnum()) or i[0].isdigit():\n",
    "        digit_and_not_alnum.append(i)\n",
    "    else:\n",
    "        string_word.append(i)\n",
    "\n",
    "special_name_list = []\n",
    "def find_special_name(name_ent):\n",
    "    var_list = []\n",
    "    limit = 100\n",
    "    for x in islice(re.finditer(f\"(?:\\s|^){name_ent}(?:\\s|$)\", text, flags=re.IGNORECASE), limit):\n",
    "        var_list.append(x.group())\n",
    "    upper_list = []\n",
    "    lower_list = []\n",
    "    for m in var_list:\n",
    "        if m[0] == m[0].upper():\n",
    "            upper_list.append(m)\n",
    "        else:\n",
    "            lower_list.append(m)\n",
    "    if round((len(upper_list))/(len(upper_list)+len(lower_list)+0.1)*100,5) >= 99:\n",
    "        special_name_list.append(name_ent)\n",
    "    else:\n",
    "        special_name_list.append(\"not special name\")\n",
    "\n",
    "if __name__ == '__main__':\n",
    "    with Manager() as manager:\n",
    "        special_name_list = manager.list()\n",
    "        procs = []\n",
    "        for name_ent in string_word:\n",
    "            proc = Process(target=find_special_name, args=(name_ent,))\n",
    "            proc.start()\n",
    "            procs.append(proc)\n",
    "        for proc in procs:\n",
    "            proc.join()\n",
    "        print(special_name_list)"
   ]
  },
  {
   "cell_type": "code",
   "execution_count": 203,
   "metadata": {},
   "outputs": [
    {
     "name": "stdout",
     "output_type": "stream",
     "text": [
      "<ListProxy object, typeid 'list' at 0x7fcf3ff036d0; '__str__()' failed>\n"
     ]
    }
   ],
   "source": [
    "print(special_name_list)"
   ]
  },
  {
   "cell_type": "code",
   "execution_count": null,
   "metadata": {},
   "outputs": [],
   "source": []
  },
  {
   "cell_type": "code",
   "execution_count": 3,
   "metadata": {},
   "outputs": [],
   "source": [
    "word_list = [\"ramiro\", \"Thomas\", \"Peter\",\"Arthur\", \"Kirkland\", \"Sizi\",\"Ertugrul\", \"Gregor\", \"$ali\", \"20str\", \"evet\",\"neden\", \"archie\", \"gaby\", \"dani\"]"
   ]
  },
  {
   "cell_type": "code",
   "execution_count": 4,
   "metadata": {},
   "outputs": [],
   "source": [
    "with open(\"/media/kurubal/SSD/Data Scientist/Work/Modern Ways/Project/Pyspark/ReDe/xaa.tr\", \"r\",encoding=\"latin1\") as file:\n",
    "    text = file.read()"
   ]
  },
  {
   "cell_type": "code",
   "execution_count": 14,
   "metadata": {},
   "outputs": [],
   "source": [
    "# Test 10 (Working)\n",
    "import os\n",
    "import multiprocessing\n",
    "from multiprocessing import Process\n",
    "manager = multiprocessing.Manager()\n",
    "special_name_list = manager.list()\n",
    "\n",
    "digit_and_not_alnum = []\n",
    "string_word = []\n",
    "for i in word_list:\n",
    "    i = str(i)\n",
    "    if not(i[0].isalnum()) or i[0].isdigit():\n",
    "        digit_and_not_alnum.append(i)\n",
    "    else:\n",
    "        string_word.append(i)\n",
    "\n",
    "def find_special_name(name_ent):\n",
    "    var_list = []\n",
    "    limit = 100\n",
    "    for x in islice(re.finditer(f\"(?:\\s|^){name_ent}(?:\\s|$)\", text, flags=re.IGNORECASE), limit):\n",
    "        var_list.append(x.group())\n",
    "    upper_list = []\n",
    "    lower_list = []\n",
    "    for m in var_list:\n",
    "        if m[0] == m[0].upper():\n",
    "            upper_list.append(m)\n",
    "        else:\n",
    "            lower_list.append(m)\n",
    "    if round((len(upper_list))/(len(upper_list)+len(lower_list)+0.01)*100,5) >= 99:\n",
    "        special_name_list.append(name_ent.capitalize())\n",
    "    else:\n",
    "        special_name_list.append(\"not special name\")\n",
    "\n",
    "if __name__ == '__main__':\n",
    "    procs = []\n",
    "    for name_ent in string_word:\n",
    "        proc = Process(target=find_special_name, args=(name_ent,))\n",
    "        proc.start()\n",
    "        procs.append(proc)\n",
    "    for proc in procs:\n",
    "        proc.join()"
   ]
  },
  {
   "cell_type": "code",
   "execution_count": 17,
   "metadata": {},
   "outputs": [
    {
     "name": "stdout",
     "output_type": "stream",
     "text": [
      "['Sizi', 'Neden', 'Evet', 'Arthur', 'Thomas', 'not special name', 'Peter', 'not special name', 'not special name', 'Kirkland', 'not special name', 'Ramiro', 'not special name']\n"
     ]
    }
   ],
   "source": [
    "print(special_name_list)"
   ]
  },
  {
   "cell_type": "code",
   "execution_count": 16,
   "metadata": {},
   "outputs": [
    {
     "name": "stdout",
     "output_type": "stream",
     "text": [
      "<class 'multiprocessing.managers.ListProxy'>\n"
     ]
    }
   ],
   "source": [
    "print(type(special_name_list))"
   ]
  },
  {
   "cell_type": "code",
   "execution_count": 18,
   "metadata": {},
   "outputs": [
    {
     "data": {
      "text/plain": [
       "['Sizi',\n",
       " 'Neden',\n",
       " 'Evet',\n",
       " 'Arthur',\n",
       " 'Thomas',\n",
       " 'not special name',\n",
       " 'Peter',\n",
       " 'not special name',\n",
       " 'not special name',\n",
       " 'Kirkland',\n",
       " 'not special name',\n",
       " 'Ramiro',\n",
       " 'not special name']"
      ]
     },
     "execution_count": 18,
     "metadata": {},
     "output_type": "execute_result"
    }
   ],
   "source": [
    "a = list(special_name_list)\n",
    "a"
   ]
  },
  {
   "cell_type": "code",
   "execution_count": 19,
   "metadata": {},
   "outputs": [
    {
     "data": {
      "text/plain": [
       "['Sizi',\n",
       " 'Neden',\n",
       " 'Evet',\n",
       " 'Arthur',\n",
       " 'Thomas',\n",
       " 'not special name',\n",
       " 'Peter',\n",
       " 'not special name',\n",
       " 'not special name',\n",
       " 'Kirkland',\n",
       " 'not special name',\n",
       " 'Ramiro',\n",
       " 'not special name']"
      ]
     },
     "execution_count": 19,
     "metadata": {},
     "output_type": "execute_result"
    }
   ],
   "source": [
    "a "
   ]
  },
  {
   "cell_type": "code",
   "execution_count": 21,
   "metadata": {},
   "outputs": [],
   "source": [
    "b = []\n",
    "for i in special_name_list:\n",
    "    b.append(i)"
   ]
  },
  {
   "cell_type": "code",
   "execution_count": 22,
   "metadata": {},
   "outputs": [
    {
     "data": {
      "text/plain": [
       "['Sizi',\n",
       " 'Neden',\n",
       " 'Evet',\n",
       " 'Arthur',\n",
       " 'Thomas',\n",
       " 'not special name',\n",
       " 'Peter',\n",
       " 'not special name',\n",
       " 'not special name',\n",
       " 'Kirkland',\n",
       " 'not special name',\n",
       " 'Ramiro',\n",
       " 'not special name']"
      ]
     },
     "execution_count": 22,
     "metadata": {},
     "output_type": "execute_result"
    }
   ],
   "source": [
    "b"
   ]
  },
  {
   "cell_type": "code",
   "execution_count": null,
   "metadata": {},
   "outputs": [],
   "source": []
  },
  {
   "cell_type": "code",
   "execution_count": 23,
   "metadata": {},
   "outputs": [],
   "source": [
    "import multiprocessing as mp"
   ]
  },
  {
   "cell_type": "code",
   "execution_count": 24,
   "metadata": {},
   "outputs": [
    {
     "name": "stdout",
     "output_type": "stream",
     "text": [
      "Help on package multiprocessing:\n",
      "\n",
      "NAME\n",
      "    multiprocessing\n",
      "\n",
      "MODULE REFERENCE\n",
      "    https://docs.python.org/3.9/library/multiprocessing\n",
      "    \n",
      "    The following documentation is automatically generated from the Python\n",
      "    source files.  It may be incomplete, incorrect or include features that\n",
      "    are considered implementation detail and may vary between Python\n",
      "    implementations.  When in doubt, consult the module reference at the\n",
      "    location listed above.\n",
      "\n",
      "DESCRIPTION\n",
      "    # Package analogous to 'threading.py' but using processes\n",
      "    #\n",
      "    # multiprocessing/__init__.py\n",
      "    #\n",
      "    # This package is intended to duplicate the functionality (and much of\n",
      "    # the API) of threading.py but uses processes instead of threads.  A\n",
      "    # subpackage 'multiprocessing.dummy' has the same API but is a simple\n",
      "    # wrapper for 'threading'.\n",
      "    #\n",
      "    # Copyright (c) 2006-2008, R Oudkerk\n",
      "    # Licensed to PSF under a Contributor Agreement.\n",
      "    #\n",
      "\n",
      "PACKAGE CONTENTS\n",
      "    connection\n",
      "    context\n",
      "    dummy (package)\n",
      "    forkserver\n",
      "    heap\n",
      "    managers\n",
      "    pool\n",
      "    popen_fork\n",
      "    popen_forkserver\n",
      "    popen_spawn_posix\n",
      "    popen_spawn_win32\n",
      "    process\n",
      "    queues\n",
      "    reduction\n",
      "    resource_sharer\n",
      "    resource_tracker\n",
      "    shared_memory\n",
      "    sharedctypes\n",
      "    spawn\n",
      "    synchronize\n",
      "    util\n",
      "\n",
      "SUBMODULES\n",
      "    reducer\n",
      "\n",
      "CLASSES\n",
      "    builtins.Exception(builtins.BaseException)\n",
      "        multiprocessing.context.ProcessError\n",
      "            multiprocessing.context.AuthenticationError\n",
      "            multiprocessing.context.BufferTooShort\n",
      "            multiprocessing.context.TimeoutError\n",
      "    multiprocessing.process.BaseProcess(builtins.object)\n",
      "        multiprocessing.context.Process\n",
      "    \n",
      "    class AuthenticationError(ProcessError)\n",
      "     |  Method resolution order:\n",
      "     |      AuthenticationError\n",
      "     |      ProcessError\n",
      "     |      builtins.Exception\n",
      "     |      builtins.BaseException\n",
      "     |      builtins.object\n",
      "     |  \n",
      "     |  Data descriptors inherited from ProcessError:\n",
      "     |  \n",
      "     |  __weakref__\n",
      "     |      list of weak references to the object (if defined)\n",
      "     |  \n",
      "     |  ----------------------------------------------------------------------\n",
      "     |  Methods inherited from builtins.Exception:\n",
      "     |  \n",
      "     |  __init__(self, /, *args, **kwargs)\n",
      "     |      Initialize self.  See help(type(self)) for accurate signature.\n",
      "     |  \n",
      "     |  ----------------------------------------------------------------------\n",
      "     |  Static methods inherited from builtins.Exception:\n",
      "     |  \n",
      "     |  __new__(*args, **kwargs) from builtins.type\n",
      "     |      Create and return a new object.  See help(type) for accurate signature.\n",
      "     |  \n",
      "     |  ----------------------------------------------------------------------\n",
      "     |  Methods inherited from builtins.BaseException:\n",
      "     |  \n",
      "     |  __delattr__(self, name, /)\n",
      "     |      Implement delattr(self, name).\n",
      "     |  \n",
      "     |  __getattribute__(self, name, /)\n",
      "     |      Return getattr(self, name).\n",
      "     |  \n",
      "     |  __reduce__(...)\n",
      "     |      Helper for pickle.\n",
      "     |  \n",
      "     |  __repr__(self, /)\n",
      "     |      Return repr(self).\n",
      "     |  \n",
      "     |  __setattr__(self, name, value, /)\n",
      "     |      Implement setattr(self, name, value).\n",
      "     |  \n",
      "     |  __setstate__(...)\n",
      "     |  \n",
      "     |  __str__(self, /)\n",
      "     |      Return str(self).\n",
      "     |  \n",
      "     |  with_traceback(...)\n",
      "     |      Exception.with_traceback(tb) --\n",
      "     |      set self.__traceback__ to tb and return self.\n",
      "     |  \n",
      "     |  ----------------------------------------------------------------------\n",
      "     |  Data descriptors inherited from builtins.BaseException:\n",
      "     |  \n",
      "     |  __cause__\n",
      "     |      exception cause\n",
      "     |  \n",
      "     |  __context__\n",
      "     |      exception context\n",
      "     |  \n",
      "     |  __dict__\n",
      "     |  \n",
      "     |  __suppress_context__\n",
      "     |  \n",
      "     |  __traceback__\n",
      "     |  \n",
      "     |  args\n",
      "    \n",
      "    class BufferTooShort(ProcessError)\n",
      "     |  Method resolution order:\n",
      "     |      BufferTooShort\n",
      "     |      ProcessError\n",
      "     |      builtins.Exception\n",
      "     |      builtins.BaseException\n",
      "     |      builtins.object\n",
      "     |  \n",
      "     |  Data descriptors inherited from ProcessError:\n",
      "     |  \n",
      "     |  __weakref__\n",
      "     |      list of weak references to the object (if defined)\n",
      "     |  \n",
      "     |  ----------------------------------------------------------------------\n",
      "     |  Methods inherited from builtins.Exception:\n",
      "     |  \n",
      "     |  __init__(self, /, *args, **kwargs)\n",
      "     |      Initialize self.  See help(type(self)) for accurate signature.\n",
      "     |  \n",
      "     |  ----------------------------------------------------------------------\n",
      "     |  Static methods inherited from builtins.Exception:\n",
      "     |  \n",
      "     |  __new__(*args, **kwargs) from builtins.type\n",
      "     |      Create and return a new object.  See help(type) for accurate signature.\n",
      "     |  \n",
      "     |  ----------------------------------------------------------------------\n",
      "     |  Methods inherited from builtins.BaseException:\n",
      "     |  \n",
      "     |  __delattr__(self, name, /)\n",
      "     |      Implement delattr(self, name).\n",
      "     |  \n",
      "     |  __getattribute__(self, name, /)\n",
      "     |      Return getattr(self, name).\n",
      "     |  \n",
      "     |  __reduce__(...)\n",
      "     |      Helper for pickle.\n",
      "     |  \n",
      "     |  __repr__(self, /)\n",
      "     |      Return repr(self).\n",
      "     |  \n",
      "     |  __setattr__(self, name, value, /)\n",
      "     |      Implement setattr(self, name, value).\n",
      "     |  \n",
      "     |  __setstate__(...)\n",
      "     |  \n",
      "     |  __str__(self, /)\n",
      "     |      Return str(self).\n",
      "     |  \n",
      "     |  with_traceback(...)\n",
      "     |      Exception.with_traceback(tb) --\n",
      "     |      set self.__traceback__ to tb and return self.\n",
      "     |  \n",
      "     |  ----------------------------------------------------------------------\n",
      "     |  Data descriptors inherited from builtins.BaseException:\n",
      "     |  \n",
      "     |  __cause__\n",
      "     |      exception cause\n",
      "     |  \n",
      "     |  __context__\n",
      "     |      exception context\n",
      "     |  \n",
      "     |  __dict__\n",
      "     |  \n",
      "     |  __suppress_context__\n",
      "     |  \n",
      "     |  __traceback__\n",
      "     |  \n",
      "     |  args\n",
      "    \n",
      "    class Process(multiprocessing.process.BaseProcess)\n",
      "     |  Process(group=None, target=None, name=None, args=(), kwargs={}, *, daemon=None)\n",
      "     |  \n",
      "     |  Method resolution order:\n",
      "     |      Process\n",
      "     |      multiprocessing.process.BaseProcess\n",
      "     |      builtins.object\n",
      "     |  \n",
      "     |  Methods inherited from multiprocessing.process.BaseProcess:\n",
      "     |  \n",
      "     |  __init__(self, group=None, target=None, name=None, args=(), kwargs={}, *, daemon=None)\n",
      "     |      Initialize self.  See help(type(self)) for accurate signature.\n",
      "     |  \n",
      "     |  __repr__(self)\n",
      "     |      Return repr(self).\n",
      "     |  \n",
      "     |  close(self)\n",
      "     |      Close the Process object.\n",
      "     |      \n",
      "     |      This method releases resources held by the Process object.  It is\n",
      "     |      an error to call this method if the child process is still running.\n",
      "     |  \n",
      "     |  is_alive(self)\n",
      "     |      Return whether process is alive\n",
      "     |  \n",
      "     |  join(self, timeout=None)\n",
      "     |      Wait until child process terminates\n",
      "     |  \n",
      "     |  kill(self)\n",
      "     |      Terminate process; sends SIGKILL signal or uses TerminateProcess()\n",
      "     |  \n",
      "     |  run(self)\n",
      "     |      Method to be run in sub-process; can be overridden in sub-class\n",
      "     |  \n",
      "     |  start(self)\n",
      "     |      Start child process\n",
      "     |  \n",
      "     |  terminate(self)\n",
      "     |      Terminate process; sends SIGTERM signal or uses TerminateProcess()\n",
      "     |  \n",
      "     |  ----------------------------------------------------------------------\n",
      "     |  Readonly properties inherited from multiprocessing.process.BaseProcess:\n",
      "     |  \n",
      "     |  exitcode\n",
      "     |      Return exit code of process or `None` if it has yet to stop\n",
      "     |  \n",
      "     |  ident\n",
      "     |      Return identifier (PID) of process or `None` if it has yet to start\n",
      "     |  \n",
      "     |  pid\n",
      "     |      Return identifier (PID) of process or `None` if it has yet to start\n",
      "     |  \n",
      "     |  sentinel\n",
      "     |      Return a file descriptor (Unix) or handle (Windows) suitable for\n",
      "     |      waiting for process termination.\n",
      "     |  \n",
      "     |  ----------------------------------------------------------------------\n",
      "     |  Data descriptors inherited from multiprocessing.process.BaseProcess:\n",
      "     |  \n",
      "     |  __dict__\n",
      "     |      dictionary for instance variables (if defined)\n",
      "     |  \n",
      "     |  __weakref__\n",
      "     |      list of weak references to the object (if defined)\n",
      "     |  \n",
      "     |  authkey\n",
      "     |  \n",
      "     |  daemon\n",
      "     |      Return whether process is a daemon\n",
      "     |  \n",
      "     |  name\n",
      "    \n",
      "    class ProcessError(builtins.Exception)\n",
      "     |  Method resolution order:\n",
      "     |      ProcessError\n",
      "     |      builtins.Exception\n",
      "     |      builtins.BaseException\n",
      "     |      builtins.object\n",
      "     |  \n",
      "     |  Data descriptors defined here:\n",
      "     |  \n",
      "     |  __weakref__\n",
      "     |      list of weak references to the object (if defined)\n",
      "     |  \n",
      "     |  ----------------------------------------------------------------------\n",
      "     |  Methods inherited from builtins.Exception:\n",
      "     |  \n",
      "     |  __init__(self, /, *args, **kwargs)\n",
      "     |      Initialize self.  See help(type(self)) for accurate signature.\n",
      "     |  \n",
      "     |  ----------------------------------------------------------------------\n",
      "     |  Static methods inherited from builtins.Exception:\n",
      "     |  \n",
      "     |  __new__(*args, **kwargs) from builtins.type\n",
      "     |      Create and return a new object.  See help(type) for accurate signature.\n",
      "     |  \n",
      "     |  ----------------------------------------------------------------------\n",
      "     |  Methods inherited from builtins.BaseException:\n",
      "     |  \n",
      "     |  __delattr__(self, name, /)\n",
      "     |      Implement delattr(self, name).\n",
      "     |  \n",
      "     |  __getattribute__(self, name, /)\n",
      "     |      Return getattr(self, name).\n",
      "     |  \n",
      "     |  __reduce__(...)\n",
      "     |      Helper for pickle.\n",
      "     |  \n",
      "     |  __repr__(self, /)\n",
      "     |      Return repr(self).\n",
      "     |  \n",
      "     |  __setattr__(self, name, value, /)\n",
      "     |      Implement setattr(self, name, value).\n",
      "     |  \n",
      "     |  __setstate__(...)\n",
      "     |  \n",
      "     |  __str__(self, /)\n",
      "     |      Return str(self).\n",
      "     |  \n",
      "     |  with_traceback(...)\n",
      "     |      Exception.with_traceback(tb) --\n",
      "     |      set self.__traceback__ to tb and return self.\n",
      "     |  \n",
      "     |  ----------------------------------------------------------------------\n",
      "     |  Data descriptors inherited from builtins.BaseException:\n",
      "     |  \n",
      "     |  __cause__\n",
      "     |      exception cause\n",
      "     |  \n",
      "     |  __context__\n",
      "     |      exception context\n",
      "     |  \n",
      "     |  __dict__\n",
      "     |  \n",
      "     |  __suppress_context__\n",
      "     |  \n",
      "     |  __traceback__\n",
      "     |  \n",
      "     |  args\n",
      "    \n",
      "    class TimeoutError(ProcessError)\n",
      "     |  Method resolution order:\n",
      "     |      TimeoutError\n",
      "     |      ProcessError\n",
      "     |      builtins.Exception\n",
      "     |      builtins.BaseException\n",
      "     |      builtins.object\n",
      "     |  \n",
      "     |  Data descriptors inherited from ProcessError:\n",
      "     |  \n",
      "     |  __weakref__\n",
      "     |      list of weak references to the object (if defined)\n",
      "     |  \n",
      "     |  ----------------------------------------------------------------------\n",
      "     |  Methods inherited from builtins.Exception:\n",
      "     |  \n",
      "     |  __init__(self, /, *args, **kwargs)\n",
      "     |      Initialize self.  See help(type(self)) for accurate signature.\n",
      "     |  \n",
      "     |  ----------------------------------------------------------------------\n",
      "     |  Static methods inherited from builtins.Exception:\n",
      "     |  \n",
      "     |  __new__(*args, **kwargs) from builtins.type\n",
      "     |      Create and return a new object.  See help(type) for accurate signature.\n",
      "     |  \n",
      "     |  ----------------------------------------------------------------------\n",
      "     |  Methods inherited from builtins.BaseException:\n",
      "     |  \n",
      "     |  __delattr__(self, name, /)\n",
      "     |      Implement delattr(self, name).\n",
      "     |  \n",
      "     |  __getattribute__(self, name, /)\n",
      "     |      Return getattr(self, name).\n",
      "     |  \n",
      "     |  __reduce__(...)\n",
      "     |      Helper for pickle.\n",
      "     |  \n",
      "     |  __repr__(self, /)\n",
      "     |      Return repr(self).\n",
      "     |  \n",
      "     |  __setattr__(self, name, value, /)\n",
      "     |      Implement setattr(self, name, value).\n",
      "     |  \n",
      "     |  __setstate__(...)\n",
      "     |  \n",
      "     |  __str__(self, /)\n",
      "     |      Return str(self).\n",
      "     |  \n",
      "     |  with_traceback(...)\n",
      "     |      Exception.with_traceback(tb) --\n",
      "     |      set self.__traceback__ to tb and return self.\n",
      "     |  \n",
      "     |  ----------------------------------------------------------------------\n",
      "     |  Data descriptors inherited from builtins.BaseException:\n",
      "     |  \n",
      "     |  __cause__\n",
      "     |      exception cause\n",
      "     |  \n",
      "     |  __context__\n",
      "     |      exception context\n",
      "     |  \n",
      "     |  __dict__\n",
      "     |  \n",
      "     |  __suppress_context__\n",
      "     |  \n",
      "     |  __traceback__\n",
      "     |  \n",
      "     |  args\n",
      "\n",
      "FUNCTIONS\n",
      "    Array(typecode_or_type, size_or_initializer, *, lock=True) method of multiprocessing.context.DefaultContext instance\n",
      "        Returns a synchronized shared array\n",
      "    \n",
      "    Barrier(parties, action=None, timeout=None) method of multiprocessing.context.DefaultContext instance\n",
      "        Returns a barrier object\n",
      "    \n",
      "    BoundedSemaphore(value=1) method of multiprocessing.context.DefaultContext instance\n",
      "        Returns a bounded semaphore object\n",
      "    \n",
      "    Condition(lock=None) method of multiprocessing.context.DefaultContext instance\n",
      "        Returns a condition object\n",
      "    \n",
      "    Event() method of multiprocessing.context.DefaultContext instance\n",
      "        Returns an event object\n",
      "    \n",
      "    JoinableQueue(maxsize=0) method of multiprocessing.context.DefaultContext instance\n",
      "        Returns a queue object\n",
      "    \n",
      "    Lock() method of multiprocessing.context.DefaultContext instance\n",
      "        Returns a non-recursive lock object\n",
      "    \n",
      "    Manager() method of multiprocessing.context.DefaultContext instance\n",
      "        Returns a manager associated with a running server process\n",
      "        \n",
      "        The managers methods such as `Lock()`, `Condition()` and `Queue()`\n",
      "        can be used to create shared objects.\n",
      "    \n",
      "    Pipe(duplex=True) method of multiprocessing.context.DefaultContext instance\n",
      "        Returns two connection object connected by a pipe\n",
      "    \n",
      "    Pool(processes=None, initializer=None, initargs=(), maxtasksperchild=None) method of multiprocessing.context.DefaultContext instance\n",
      "        Returns a process pool object\n",
      "    \n",
      "    Queue(maxsize=0) method of multiprocessing.context.DefaultContext instance\n",
      "        Returns a queue object\n",
      "    \n",
      "    RLock() method of multiprocessing.context.DefaultContext instance\n",
      "        Returns a recursive lock object\n",
      "    \n",
      "    RawArray(typecode_or_type, size_or_initializer) method of multiprocessing.context.DefaultContext instance\n",
      "        Returns a shared array\n",
      "    \n",
      "    RawValue(typecode_or_type, *args) method of multiprocessing.context.DefaultContext instance\n",
      "        Returns a shared object\n",
      "    \n",
      "    Semaphore(value=1) method of multiprocessing.context.DefaultContext instance\n",
      "        Returns a semaphore object\n",
      "    \n",
      "    SimpleQueue() method of multiprocessing.context.DefaultContext instance\n",
      "        Returns a queue object\n",
      "    \n",
      "    Value(typecode_or_type, *args, lock=True) method of multiprocessing.context.DefaultContext instance\n",
      "        Returns a synchronized shared object\n",
      "    \n",
      "    active_children()\n",
      "        Return list of process objects corresponding to live child processes\n",
      "    \n",
      "    allow_connection_pickling() method of multiprocessing.context.DefaultContext instance\n",
      "        Install support for sending connections and sockets\n",
      "        between processes\n",
      "    \n",
      "    cpu_count() method of multiprocessing.context.DefaultContext instance\n",
      "        Returns the number of CPUs in the system\n",
      "    \n",
      "    current_process()\n",
      "        Return process object representing the current process\n",
      "    \n",
      "    freeze_support() method of multiprocessing.context.DefaultContext instance\n",
      "        Check whether this is a fake forked process in a frozen executable.\n",
      "        If so then run code specified by commandline and exit.\n",
      "    \n",
      "    get_all_start_methods() method of multiprocessing.context.DefaultContext instance\n",
      "    \n",
      "    get_context(method=None) method of multiprocessing.context.DefaultContext instance\n",
      "    \n",
      "    get_logger() method of multiprocessing.context.DefaultContext instance\n",
      "        Return package logger -- if it does not already exist then\n",
      "        it is created.\n",
      "    \n",
      "    get_start_method(allow_none=False) method of multiprocessing.context.DefaultContext instance\n",
      "    \n",
      "    log_to_stderr(level=None) method of multiprocessing.context.DefaultContext instance\n",
      "        Turn on logging and add a handler which prints to stderr\n",
      "    \n",
      "    parent_process()\n",
      "        Return process object representing the parent process\n",
      "    \n",
      "    set_executable(executable) method of multiprocessing.context.DefaultContext instance\n",
      "        Sets the path to a python.exe or pythonw.exe binary used to run\n",
      "        child processes instead of sys.executable when using the 'spawn'\n",
      "        start method.  Useful for people embedding Python.\n",
      "    \n",
      "    set_forkserver_preload(module_names) method of multiprocessing.context.DefaultContext instance\n",
      "        Set list of module names to try to load in forkserver process.\n",
      "        This is really just a hint.\n",
      "    \n",
      "    set_start_method(method, force=False) method of multiprocessing.context.DefaultContext instance\n",
      "\n",
      "DATA\n",
      "    __all__ = ['Array', 'AuthenticationError', 'Barrier', 'BoundedSemaphor...\n",
      "\n",
      "FILE\n",
      "    /home/kurubal/anaconda3/envs/py39/lib/python3.9/multiprocessing/__init__.py\n",
      "\n",
      "\n"
     ]
    }
   ],
   "source": [
    "help(mp)"
   ]
  },
  {
   "cell_type": "code",
   "execution_count": 25,
   "metadata": {},
   "outputs": [
    {
     "name": "stdout",
     "output_type": "stream",
     "text": [
      "Number of CPU cores: 16\n"
     ]
    }
   ],
   "source": [
    "nprocs = mp.cpu_count()\n",
    "print(f\"Number of CPU cores: {nprocs}\")"
   ]
  },
  {
   "cell_type": "code",
   "execution_count": null,
   "metadata": {},
   "outputs": [],
   "source": []
  }
 ],
 "metadata": {
  "interpreter": {
   "hash": "651d507d70892fab0fc6529d935cd476f6e2eb1791525b76da6cc8da34bc0503"
  },
  "kernelspec": {
   "display_name": "Python 3.9.5 64-bit ('py39': conda)",
   "language": "python",
   "name": "python3"
  },
  "language_info": {
   "codemirror_mode": {
    "name": "ipython",
    "version": 3
   },
   "file_extension": ".py",
   "mimetype": "text/x-python",
   "name": "python",
   "nbconvert_exporter": "python",
   "pygments_lexer": "ipython3",
   "version": "3.9.5"
  },
  "orig_nbformat": 4
 },
 "nbformat": 4,
 "nbformat_minor": 2
}
