{
 "cells": [
  {
   "cell_type": "markdown",
   "metadata": {},
   "source": [
    "### Custom Name Entity Check Func"
   ]
  },
  {
   "cell_type": "code",
   "execution_count": 2,
   "metadata": {},
   "outputs": [],
   "source": [
    "import pandas as pd\n",
    "import numpy as np\n",
    "from itertools import islice\n",
    "import re"
   ]
  },
  {
   "cell_type": "code",
   "execution_count": 174,
   "metadata": {},
   "outputs": [],
   "source": [
    "word_list = [\"ramiro\", \"Thomas\", \"Peter\",\"Arthur\", \"Kirkland\", \"Sizi\",\"Ertugrul\", \"Gregor\", \"$ali\", \"20str\", \"evet\",\"neden\"]"
   ]
  },
  {
   "cell_type": "code",
   "execution_count": 3,
   "metadata": {},
   "outputs": [
    {
     "data": {
      "text/html": [
       "<div>\n",
       "<style scoped>\n",
       "    .dataframe tbody tr th:only-of-type {\n",
       "        vertical-align: middle;\n",
       "    }\n",
       "\n",
       "    .dataframe tbody tr th {\n",
       "        vertical-align: top;\n",
       "    }\n",
       "\n",
       "    .dataframe thead th {\n",
       "        text-align: right;\n",
       "    }\n",
       "</style>\n",
       "<table border=\"1\" class=\"dataframe\">\n",
       "  <thead>\n",
       "    <tr style=\"text-align: right;\">\n",
       "      <th></th>\n",
       "      <th>sentence</th>\n",
       "    </tr>\n",
       "  </thead>\n",
       "  <tbody>\n",
       "    <tr>\n",
       "      <th>0</th>\n",
       "      <td>evet</td>\n",
       "    </tr>\n",
       "    <tr>\n",
       "      <th>1</th>\n",
       "      <td>hayır</td>\n",
       "    </tr>\n",
       "    <tr>\n",
       "      <th>2</th>\n",
       "      <td>tamam</td>\n",
       "    </tr>\n",
       "    <tr>\n",
       "      <th>3</th>\n",
       "      <td>ne</td>\n",
       "    </tr>\n",
       "    <tr>\n",
       "      <th>4</th>\n",
       "      <td>teşekkürler</td>\n",
       "    </tr>\n",
       "    <tr>\n",
       "      <th>...</th>\n",
       "      <td>...</td>\n",
       "    </tr>\n",
       "    <tr>\n",
       "      <th>245607</th>\n",
       "      <td>omao</td>\n",
       "    </tr>\n",
       "    <tr>\n",
       "      <th>245608</th>\n",
       "      <td>omahadan</td>\n",
       "    </tr>\n",
       "    <tr>\n",
       "      <th>245609</th>\n",
       "      <td>omac</td>\n",
       "    </tr>\n",
       "    <tr>\n",
       "      <th>245610</th>\n",
       "      <td>omae</td>\n",
       "    </tr>\n",
       "    <tr>\n",
       "      <th>245611</th>\n",
       "      <td>omakaseshinasai</td>\n",
       "    </tr>\n",
       "  </tbody>\n",
       "</table>\n",
       "<p>245612 rows × 1 columns</p>\n",
       "</div>"
      ],
      "text/plain": [
       "               sentence\n",
       "0                  evet\n",
       "1                 hayır\n",
       "2                 tamam\n",
       "3                    ne\n",
       "4           teşekkürler\n",
       "...                 ...\n",
       "245607             omao\n",
       "245608         omahadan\n",
       "245609             omac\n",
       "245610             omae\n",
       "245611  omakaseshinasai\n",
       "\n",
       "[245612 rows x 1 columns]"
      ]
     },
     "execution_count": 3,
     "metadata": {},
     "output_type": "execute_result"
    }
   ],
   "source": [
    "df_word = pd.read_excel(\"/media/kurubal/SSD/Data Scientist/Work/Modern Ways/Project/Pyspark/Product/Sentence_Single.xlsx\")\n",
    "df_word"
   ]
  },
  {
   "cell_type": "code",
   "execution_count": 124,
   "metadata": {},
   "outputs": [],
   "source": [
    "with open(\"/media/kurubal/SSD/Data Scientist/Work/Modern Ways/Project/Pyspark/ReDe/xaa.tr\", \"r\",encoding=\"latin1\") as file:\n",
    "    text = file.read()"
   ]
  },
  {
   "cell_type": "code",
   "execution_count": null,
   "metadata": {},
   "outputs": [],
   "source": [
    "digit_and_not_alnum = []\n",
    "string_word = []\n",
    "for i in word_list:\n",
    "#for i in df_word.sentence:\n",
    "    i = str(i)\n",
    "    if not(i[0].isalnum()) or i[0].isdigit():\n",
    "        digit_and_not_alnum.append(i)\n",
    "    else:\n",
    "        string_word.append(i)"
   ]
  },
  {
   "cell_type": "code",
   "execution_count": 175,
   "metadata": {},
   "outputs": [
    {
     "data": {
      "text/plain": [
       "['Ramiro', 'Thomas', 'Peter', 'Arthur', 'Kirkland']"
      ]
     },
     "execution_count": 175,
     "metadata": {},
     "output_type": "execute_result"
    }
   ],
   "source": [
    "# # 1-Way Slow But More Accurancy\n",
    "# special_name_list = []  \n",
    "# for j in string_word:\n",
    "#     var1_list = re.findall(f\"(?:\\s|^){j}(?:\\s|$)\", text, flags=re.IGNORECASE)\n",
    "#     var2_list = []\n",
    "#     for k in var1_list:\n",
    "#         k = re.findall(r'\\w+', k)\n",
    "#         var2_list.append(k[0])\n",
    "#     upper_list = []\n",
    "#     lower_list = []\n",
    "#     for m in var2_list:\n",
    "#         if m[0] == m[0].upper():\n",
    "#             upper_list.append(m)\n",
    "#         else:\n",
    "#             lower_list.append(m)\n",
    "#     if round((len(upper_list))/(len(upper_list)+len(lower_list)+0.1)*100,5) >= 98:\n",
    "#         special_name_list.append(j.capitalize())\n",
    "#     else:\n",
    "#         pass\n",
    "# special_name_list"
   ]
  },
  {
   "cell_type": "code",
   "execution_count": null,
   "metadata": {},
   "outputs": [],
   "source": [
    "# # 2-Way Like As 1-Way\n",
    "# special_name_list = []  \n",
    "# for j in string_word:\n",
    "#     var1_list = re.findall(f\"(?:\\s|^){j}(?:\\s|$)\", text, flags=re.IGNORECASE)\n",
    "#     upper_list = []\n",
    "#     lower_list = []\n",
    "#     for m in var1_list:\n",
    "#         if m[0] == m[0].upper():\n",
    "#             upper_list.append(m)\n",
    "#         else:\n",
    "#             lower_list.append(m)\n",
    "#     if round((len(upper_list))/(len(upper_list)+len(lower_list)+0.1)*100,5) >= 99:\n",
    "#         special_name_list.append(j.capitalize())\n",
    "#     else:\n",
    "#         pass\n",
    "# special_name_list"
   ]
  },
  {
   "cell_type": "code",
   "execution_count": null,
   "metadata": {},
   "outputs": [],
   "source": [
    "# 3-Way Fast But Less Accurancy     \n",
    "special_name_list = []  \n",
    "for j in string_word:\n",
    "    var1_list = []\n",
    "    limit = 100\n",
    "    for x in islice(re.finditer(f\"(?:\\s|^){j}(?:\\s|$)\", text, flags=re.IGNORECASE), limit):\n",
    "        var1_list.append(x.group())\n",
    "    upper_list = []\n",
    "    lower_list = []\n",
    "    for m in var1_list:\n",
    "        if m[0] == m[0].upper():\n",
    "            upper_list.append(m)\n",
    "        else:\n",
    "            lower_list.append(m)\n",
    "    if round((len(upper_list))/(len(upper_list)+len(lower_list)+0.1)*100,5) >= 99:\n",
    "        special_name_list.append(j.capitalize())\n",
    "    else:\n",
    "        pass\n",
    "special_name_list"
   ]
  },
  {
   "cell_type": "code",
   "execution_count": null,
   "metadata": {},
   "outputs": [],
   "source": [
    "df_special_name = pd.DataFrame(special_name_list)\n",
    "df_special_name"
   ]
  },
  {
   "cell_type": "code",
   "execution_count": null,
   "metadata": {},
   "outputs": [],
   "source": [
    "df_special_name.to_excel(\"Special_Name.xlsx\", sheet_name=\"Special_Name\", index=False)"
   ]
  },
  {
   "cell_type": "code",
   "execution_count": null,
   "metadata": {},
   "outputs": [],
   "source": []
  },
  {
   "cell_type": "code",
   "execution_count": null,
   "metadata": {},
   "outputs": [],
   "source": []
  },
  {
   "cell_type": "code",
   "execution_count": null,
   "metadata": {},
   "outputs": [],
   "source": []
  }
 ],
 "metadata": {
  "interpreter": {
   "hash": "651d507d70892fab0fc6529d935cd476f6e2eb1791525b76da6cc8da34bc0503"
  },
  "kernelspec": {
   "display_name": "Python 3.9.5 64-bit ('py39': conda)",
   "language": "python",
   "name": "python3"
  },
  "language_info": {
   "codemirror_mode": {
    "name": "ipython",
    "version": 3
   },
   "file_extension": ".py",
   "mimetype": "text/x-python",
   "name": "python",
   "nbconvert_exporter": "python",
   "pygments_lexer": "ipython3",
   "version": "3.9.5"
  },
  "orig_nbformat": 4
 },
 "nbformat": 4,
 "nbformat_minor": 2
}
