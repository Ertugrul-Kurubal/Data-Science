{
 "cells": [
  {
   "cell_type": "markdown",
   "metadata": {},
   "source": [
    "### Custom Name Entity Check Func"
   ]
  },
  {
   "cell_type": "code",
   "execution_count": 105,
   "metadata": {},
   "outputs": [],
   "source": [
    "import pandas as pd\n",
    "import numpy as np\n",
    "from itertools import islice\n",
    "import re"
   ]
  },
  {
   "cell_type": "code",
   "execution_count": 108,
   "metadata": {},
   "outputs": [],
   "source": [
    "word_list = [\"ramiro\", \"Thomas\", \"Peter\",\"Arthur\", \"Kirkland\", \"Sizi\",\"Ertugrul\", \"Gregor\", \"$ali\", \"20str\", \"evet\",\"neden\", \"archie\", \"gaby\", \"dani\"]"
   ]
  },
  {
   "cell_type": "code",
   "execution_count": null,
   "metadata": {},
   "outputs": [],
   "source": [
    "# df_word = pd.read_excel(\"/media/kurubal/SSD/Data Scientist/Work/Modern Ways/Project/Pyspark/Product/Sentence_Single.xlsx\")\n",
    "# df_word"
   ]
  },
  {
   "cell_type": "code",
   "execution_count": 109,
   "metadata": {},
   "outputs": [],
   "source": [
    "with open(\"/media/kurubal/SSD/Data Scientist/Work/Modern Ways/Project/Pyspark/ReDe/xaa.tr\", \"r\",encoding=\"latin1\") as file:\n",
    "    text = file.read()"
   ]
  },
  {
   "cell_type": "code",
   "execution_count": 110,
   "metadata": {},
   "outputs": [],
   "source": [
    "digit_and_not_alnum = []\n",
    "string_word = []\n",
    "for i in word_list:\n",
    "#for i in df_word.sentence:\n",
    "    i = str(i)\n",
    "    if not(i[0].isalnum()) or i[0].isdigit():\n",
    "        digit_and_not_alnum.append(i)\n",
    "    else:\n",
    "        string_word.append(i)"
   ]
  },
  {
   "cell_type": "code",
   "execution_count": 175,
   "metadata": {},
   "outputs": [
    {
     "data": {
      "text/plain": [
       "['Ramiro', 'Thomas', 'Peter', 'Arthur', 'Kirkland']"
      ]
     },
     "execution_count": 175,
     "metadata": {},
     "output_type": "execute_result"
    }
   ],
   "source": [
    "# # 1-Way Slow But More Accurancy\n",
    "# special_name_list = []  \n",
    "# for j in string_word:\n",
    "#     var1_list = re.findall(f\"(?:\\s|^){j}(?:\\s|$)\", text, flags=re.IGNORECASE)\n",
    "#     var2_list = []\n",
    "#     for k in var1_list:\n",
    "#         k = re.findall(r'\\w+', k)\n",
    "#         var2_list.append(k[0])\n",
    "#     upper_list = []\n",
    "#     lower_list = []\n",
    "#     for m in var2_list:\n",
    "#         if m[0] == m[0].upper():\n",
    "#             upper_list.append(m)\n",
    "#         else:\n",
    "#             lower_list.append(m)\n",
    "#     if round((len(upper_list))/(len(upper_list)+len(lower_list)+0.1)*100,5) >= 98:\n",
    "#         special_name_list.append(j.capitalize())\n",
    "#     else:\n",
    "#         pass\n",
    "# special_name_list"
   ]
  },
  {
   "cell_type": "code",
   "execution_count": null,
   "metadata": {},
   "outputs": [],
   "source": [
    "# # 2-Way Like As 1-Way\n",
    "# special_name_list = []  \n",
    "# for j in string_word:\n",
    "#     var1_list = re.findall(f\"(?:\\s|^){j}(?:\\s|$)\", text, flags=re.IGNORECASE)\n",
    "#     upper_list = []\n",
    "#     lower_list = []\n",
    "#     for m in var1_list:\n",
    "#         if m[0] == m[0].upper():\n",
    "#             upper_list.append(m)\n",
    "#         else:\n",
    "#             lower_list.append(m)\n",
    "#     if round((len(upper_list))/(len(upper_list)+len(lower_list)+0.1)*100,5) >= 99:\n",
    "#         special_name_list.append(j.capitalize())\n",
    "#     else:\n",
    "#         pass\n",
    "# special_name_list"
   ]
  },
  {
   "cell_type": "code",
   "execution_count": 191,
   "metadata": {},
   "outputs": [
    {
     "data": {
      "text/plain": [
       "['Thomas', 'Peter', 'Arthur', 'Kirkland', 'Sizi', 'Evet', 'Neden']"
      ]
     },
     "execution_count": 191,
     "metadata": {},
     "output_type": "execute_result"
    }
   ],
   "source": [
    "# 3-Way Fast But Less Accurancy     \n",
    "special_name_list = []  \n",
    "for j in string_word:\n",
    "    var1_list = []\n",
    "    limit = 100\n",
    "    for x in islice(re.finditer(f\"(?:\\s|^){j}(?:\\s|$)\", text, flags=re.IGNORECASE), limit):\n",
    "        var1_list.append(x.group())\n",
    "    upper_list = []\n",
    "    lower_list = []\n",
    "    for m in var1_list:\n",
    "        if m[0] == m[0].upper():\n",
    "            upper_list.append(m)\n",
    "        else:\n",
    "            lower_list.append(m)\n",
    "    if round((len(upper_list))/(len(upper_list)+len(lower_list)+0.1)*100,5) >= 99:\n",
    "        special_name_list.append(j.capitalize())\n",
    "    else:\n",
    "        pass\n",
    "special_name_list"
   ]
  },
  {
   "cell_type": "code",
   "execution_count": null,
   "metadata": {},
   "outputs": [],
   "source": [
    "df_special_name = pd.DataFrame(special_name_list)\n",
    "df_special_name"
   ]
  },
  {
   "cell_type": "code",
   "execution_count": null,
   "metadata": {},
   "outputs": [],
   "source": [
    "df_special_name.to_excel(\"Special_Name.xlsx\", sheet_name=\"Special_Name\", index=False)"
   ]
  },
  {
   "cell_type": "code",
   "execution_count": null,
   "metadata": {},
   "outputs": [],
   "source": []
  },
  {
   "cell_type": "code",
   "execution_count": 103,
   "metadata": {},
   "outputs": [],
   "source": [
    "def find_special_name(name_ent):\n",
    "    var_list = []\n",
    "    limit = 100\n",
    "    for x in islice(re.finditer(f\"(?:\\s|^){name_ent}(?:\\s|$)\", text, flags=re.IGNORECASE), limit):\n",
    "        var_list.append(x.group())\n",
    "    upper_list = []\n",
    "    lower_list = []\n",
    "    for m in var_list:\n",
    "        if m[0] == m[0].upper():\n",
    "            upper_list.append(m)\n",
    "        else:\n",
    "            lower_list.append(m)\n",
    "    if round((len(upper_list))/(len(upper_list)+len(lower_list)+0.1)*100,5) >= 97:\n",
    "        special_name = name_ent.capitalize()        \n",
    "    else:\n",
    "        special_name = \"not special name\"\n",
    "    return special_name"
   ]
  },
  {
   "cell_type": "code",
   "execution_count": 104,
   "metadata": {},
   "outputs": [
    {
     "data": {
      "text/plain": [
       "'not special name'"
      ]
     },
     "execution_count": 104,
     "metadata": {},
     "output_type": "execute_result"
    }
   ],
   "source": [
    "find_special_name(\"ertugrul\")"
   ]
  },
  {
   "cell_type": "code",
   "execution_count": null,
   "metadata": {},
   "outputs": [],
   "source": []
  },
  {
   "cell_type": "code",
   "execution_count": 121,
   "metadata": {},
   "outputs": [],
   "source": [
    "# Test 1\n",
    "import os\n",
    "from multiprocessing import Process\n",
    "\n",
    "digit_and_not_alnum = []\n",
    "string_word = []\n",
    "for i in word_list:\n",
    "    i = str(i)\n",
    "    if not(i[0].isalnum()) or i[0].isdigit():\n",
    "        digit_and_not_alnum.append(i)\n",
    "    else:\n",
    "        string_word.append(i)\n",
    "\n",
    "def find_special_name(name_ent):\n",
    "    var_list = []\n",
    "    limit = 100\n",
    "    for x in islice(re.finditer(f\"(?:\\s|^){name_ent}(?:\\s|$)\", text, flags=re.IGNORECASE), limit):\n",
    "        var_list.append(x.group())\n",
    "    upper_list = []\n",
    "    lower_list = []\n",
    "    for m in var_list:\n",
    "        if m[0] == m[0].upper():\n",
    "            upper_list.append(m)\n",
    "        else:\n",
    "            lower_list.append(m)\n",
    "    if round((len(upper_list))/(len(upper_list)+len(lower_list)+0.1)*100,5) >= 98:\n",
    "        special_name = name_ent.capitalize()\n",
    "    else:\n",
    "        special_name = \"not special name\"\n",
    "    return special_name\n",
    "    #return upper_list\n",
    "    #return lower_list\n",
    "\n",
    "if __name__ == '__main__':\n",
    "    procs = []\n",
    "    for n in string_word:\n",
    "        proc = Process(target=find_special_name, args=(n,))\n",
    "        procs.append(proc)\n",
    "        proc.start()\n",
    "    for proc in procs:\n",
    "        proc.join()"
   ]
  },
  {
   "cell_type": "code",
   "execution_count": 122,
   "metadata": {},
   "outputs": [
    {
     "data": {
      "text/plain": [
       "[<Process name='Process-53' parent=20599 initial>,\n",
       " <Process name='Process-54' parent=20599 initial>,\n",
       " <Process name='Process-55' parent=20599 initial>,\n",
       " <Process name='Process-56' parent=20599 initial>,\n",
       " <Process name='Process-57' parent=20599 initial>,\n",
       " <Process name='Process-58' parent=20599 initial>,\n",
       " <Process name='Process-59' parent=20599 initial>,\n",
       " <Process name='Process-60' parent=20599 initial>,\n",
       " <Process name='Process-61' parent=20599 initial>,\n",
       " <Process name='Process-62' parent=20599 initial>,\n",
       " <Process name='Process-63' parent=20599 initial>,\n",
       " <Process name='Process-64' parent=20599 initial>,\n",
       " <Process name='Process-65' pid=85528 parent=20599 stopped exitcode=0>]"
      ]
     },
     "execution_count": 122,
     "metadata": {},
     "output_type": "execute_result"
    }
   ],
   "source": [
    "special_name_list"
   ]
  },
  {
   "cell_type": "code",
   "execution_count": 119,
   "metadata": {},
   "outputs": [
    {
     "name": "stderr",
     "output_type": "stream",
     "text": [
      "Process Process-46:\n",
      "Traceback (most recent call last):\n",
      "  File \"/home/kurubal/anaconda3/envs/py39/lib/python3.9/multiprocessing/process.py\", line 315, in _bootstrap\n",
      "    self.run()\n",
      "  File \"/home/kurubal/anaconda3/envs/py39/lib/python3.9/multiprocessing/process.py\", line 108, in run\n",
      "    self._target(*self._args, **self._kwargs)\n",
      "  File \"/tmp/ipykernel_20599/1310992683.py\", line 30, in find_special_name\n",
      "    return special_name_list.append(name)\n",
      "UnboundLocalError: local variable 'name' referenced before assignment\n",
      "Process Process-52:\n",
      "Traceback (most recent call last):\n",
      "  File \"/home/kurubal/anaconda3/envs/py39/lib/python3.9/multiprocessing/process.py\", line 315, in _bootstrap\n",
      "    self.run()\n",
      "  File \"/home/kurubal/anaconda3/envs/py39/lib/python3.9/multiprocessing/process.py\", line 108, in run\n",
      "    self._target(*self._args, **self._kwargs)\n",
      "  File \"/tmp/ipykernel_20599/1310992683.py\", line 30, in find_special_name\n",
      "    return special_name_list.append(name)\n",
      "UnboundLocalError: local variable 'name' referenced before assignment\n",
      "Process Process-47:\n",
      "Traceback (most recent call last):\n",
      "  File \"/home/kurubal/anaconda3/envs/py39/lib/python3.9/multiprocessing/process.py\", line 315, in _bootstrap\n",
      "    self.run()\n",
      "  File \"/home/kurubal/anaconda3/envs/py39/lib/python3.9/multiprocessing/process.py\", line 108, in run\n",
      "    self._target(*self._args, **self._kwargs)\n",
      "  File \"/tmp/ipykernel_20599/1310992683.py\", line 30, in find_special_name\n",
      "    return special_name_list.append(name)\n",
      "UnboundLocalError: local variable 'name' referenced before assignment\n",
      "Process Process-51:\n",
      "Traceback (most recent call last):\n",
      "  File \"/home/kurubal/anaconda3/envs/py39/lib/python3.9/multiprocessing/process.py\", line 315, in _bootstrap\n",
      "    self.run()\n",
      "  File \"/home/kurubal/anaconda3/envs/py39/lib/python3.9/multiprocessing/process.py\", line 108, in run\n",
      "    self._target(*self._args, **self._kwargs)\n",
      "  File \"/tmp/ipykernel_20599/1310992683.py\", line 30, in find_special_name\n",
      "    return special_name_list.append(name)\n",
      "UnboundLocalError: local variable 'name' referenced before assignment\n",
      "Process Process-50:\n",
      "Traceback (most recent call last):\n",
      "  File \"/home/kurubal/anaconda3/envs/py39/lib/python3.9/multiprocessing/process.py\", line 315, in _bootstrap\n",
      "    self.run()\n",
      "  File \"/home/kurubal/anaconda3/envs/py39/lib/python3.9/multiprocessing/process.py\", line 108, in run\n",
      "    self._target(*self._args, **self._kwargs)\n",
      "  File \"/tmp/ipykernel_20599/1310992683.py\", line 30, in find_special_name\n",
      "    return special_name_list.append(name)\n",
      "UnboundLocalError: local variable 'name' referenced before assignment\n"
     ]
    }
   ],
   "source": [
    "# Test 2\n",
    "import os\n",
    "from multiprocessing import Process\n",
    "\n",
    "digit_and_not_alnum = []\n",
    "string_word = []\n",
    "for i in word_list:\n",
    "    i = str(i)\n",
    "    if not(i[0].isalnum()) or i[0].isdigit():\n",
    "        digit_and_not_alnum.append(i)\n",
    "    else:\n",
    "        string_word.append(i)\n",
    "special_name_list = []\n",
    "def find_special_name(name_ent):\n",
    "    var_list = []\n",
    "    limit = 100\n",
    "    for x in islice(re.finditer(f\"(?:\\s|^){name_ent}(?:\\s|$)\", text, flags=re.IGNORECASE), limit):\n",
    "        var_list.append(x.group())\n",
    "    upper_list = []\n",
    "    lower_list = []\n",
    "    for m in var_list:\n",
    "        if m[0] == m[0].upper():\n",
    "            upper_list.append(m)\n",
    "        else:\n",
    "            lower_list.append(m)\n",
    "    if round((len(upper_list))/(len(upper_list)+len(lower_list)+0.1)*100,5) >= 98:\n",
    "        name = name_ent.capitalize()\n",
    "    else:\n",
    "        pass\n",
    "    return special_name_list.append(name)\n",
    "    #return upper_list\n",
    "    #return lower_list\n",
    "\n",
    "if __name__ == '__main__':    \n",
    "    for n in string_word:\n",
    "        p = Process(target=find_special_name, args=(n,))\n",
    "        #special_name_list.append(p)\n",
    "        p.start()\n",
    "        p.join"
   ]
  },
  {
   "cell_type": "code",
   "execution_count": 120,
   "metadata": {},
   "outputs": [
    {
     "data": {
      "text/plain": [
       "[]"
      ]
     },
     "execution_count": 120,
     "metadata": {},
     "output_type": "execute_result"
    }
   ],
   "source": [
    "special_name_list"
   ]
  },
  {
   "cell_type": "code",
   "execution_count": 143,
   "metadata": {},
   "outputs": [],
   "source": [
    "# Test 3\n",
    "import os\n",
    "from multiprocessing import Process\n",
    "import time\n",
    "\n",
    "\n",
    "special_name_list = []\n",
    "def find_special_name(name_ent):\n",
    "    var_list = []\n",
    "    limit = 100\n",
    "    for x in islice(re.finditer(f\"(?:\\s|^){name_ent}(?:\\s|$)\", text, flags=re.IGNORECASE), limit):\n",
    "        var_list.append(x.group())\n",
    "    upper_list = []\n",
    "    lower_list = []\n",
    "    for m in var_list:\n",
    "        if m[0] == m[0].upper():\n",
    "            upper_list.append(m)\n",
    "        else:\n",
    "            lower_list.append(m)\n",
    "    if round((len(upper_list))/(len(upper_list)+len(lower_list)+0.1)*100,5) >= 98:\n",
    "        special_name = name_ent\n",
    "        special_name_list.append(special_name)\n",
    "    else:\n",
    "        special_name = \"not special name\"\n",
    "        special_name_list.append(special_name)\n",
    "    \n",
    "if __name__ == '__main__':\n",
    "    digit_and_not_alnum = []\n",
    "    string_word = []\n",
    "    for i in word_list:\n",
    "        i = str(i)\n",
    "        if not(i[0].isalnum()) or i[0].isdigit():\n",
    "            digit_and_not_alnum.append(i)\n",
    "        else:\n",
    "            string_word.append(i)\n",
    "\n",
    "    p = Process(target=find_special_name, args=(string_word,))\n",
    "    \n",
    "    p.start()\n",
    "    p.join()"
   ]
  },
  {
   "cell_type": "code",
   "execution_count": 142,
   "metadata": {},
   "outputs": [
    {
     "data": {
      "text/plain": [
       "[]"
      ]
     },
     "execution_count": 142,
     "metadata": {},
     "output_type": "execute_result"
    }
   ],
   "source": [
    "special_name_list"
   ]
  },
  {
   "cell_type": "code",
   "execution_count": 84,
   "metadata": {},
   "outputs": [
    {
     "data": {
      "text/plain": [
       "['Peter']"
      ]
     },
     "execution_count": 84,
     "metadata": {},
     "output_type": "execute_result"
    }
   ],
   "source": [
    "find_special_name(\"peter\")"
   ]
  },
  {
   "cell_type": "code",
   "execution_count": 151,
   "metadata": {},
   "outputs": [],
   "source": [
    "# Test 4\n",
    "import os\n",
    "from multiprocessing import Process\n",
    "\n",
    "digit_and_not_alnum = []\n",
    "string_word = []\n",
    "for i in word_list:\n",
    "    i = str(i)\n",
    "    if not(i[0].isalnum()) or i[0].isdigit():\n",
    "        digit_and_not_alnum.append(i)\n",
    "    else:\n",
    "        string_word.append(i)\n",
    "\n",
    "def find_special_name(name_ent):\n",
    "    var_list = []\n",
    "    limit = 100\n",
    "    for x in islice(re.finditer(f\"(?:\\s|^){name_ent}(?:\\s|$)\", text, flags=re.IGNORECASE), limit):\n",
    "        var_list.append(x.group())\n",
    "    upper_list = []\n",
    "    lower_list = []\n",
    "    for m in var_list:\n",
    "        if m[0] == m[0].upper():\n",
    "            upper_list.append(m)\n",
    "        else:\n",
    "            lower_list.append(m)\n",
    "    if round((len(upper_list))/(len(upper_list)+len(lower_list)+0.1)*100,5) >= 98:\n",
    "        special_name = name_ent\n",
    "        special_name_list.append(special_name)\n",
    "    else:\n",
    "        special_name = \"not special name\"\n",
    "        special_name_list.append(special_name)\n",
    "\n",
    "if __name__ == '__main__':\n",
    "    \n",
    "    for n in string_word:\n",
    "        proc = Process(target=find_special_name, args=(n,))\n",
    "        proc.start()\n",
    "        proc.join()\n"
   ]
  },
  {
   "cell_type": "code",
   "execution_count": 152,
   "metadata": {},
   "outputs": [
    {
     "data": {
      "text/plain": [
       "[]"
      ]
     },
     "execution_count": 152,
     "metadata": {},
     "output_type": "execute_result"
    }
   ],
   "source": [
    "special_name_list"
   ]
  },
  {
   "cell_type": "code",
   "execution_count": 145,
   "metadata": {},
   "outputs": [
    {
     "data": {
      "text/plain": [
       "[]"
      ]
     },
     "execution_count": 145,
     "metadata": {},
     "output_type": "execute_result"
    }
   ],
   "source": [
    "special_name_list"
   ]
  },
  {
   "cell_type": "code",
   "execution_count": 164,
   "metadata": {},
   "outputs": [
    {
     "name": "stdout",
     "output_type": "stream",
     "text": [
      "not special name\n",
      "Thomas\n",
      "Peter\n",
      "Arthur\n",
      "Kirkland\n",
      "Sizi\n",
      "not special name\n",
      "not special name\n",
      "evet\n",
      "neden\n",
      "not special name\n",
      "not special name\n",
      "not special name\n"
     ]
    }
   ],
   "source": [
    "# Test 5\n",
    "import os\n",
    "from multiprocessing import Process\n",
    "\n",
    "def find_special_name(string_word):\n",
    "    for z in string_word: \n",
    "        var_list = []\n",
    "        limit = 100\n",
    "        for x in islice(re.finditer(f\"(?:\\s|^){z}(?:\\s|$)\", text, flags=re.IGNORECASE), limit):\n",
    "            var_list.append(x.group())\n",
    "        upper_list = []\n",
    "        lower_list = []\n",
    "        for m in var_list:\n",
    "            if m[0] == m[0].upper():\n",
    "                upper_list.append(m)\n",
    "            else:\n",
    "                lower_list.append(m)\n",
    "        if round((len(upper_list))/(len(upper_list)+len(lower_list)+0.1)*100,5) >= 99:\n",
    "            print(z)\n",
    "        else:\n",
    "            print(\"not special name\")\n",
    "\n",
    "if __name__ == '__main__':\n",
    "    digit_and_not_alnum = []\n",
    "    string_word = []\n",
    "    for i in word_list:\n",
    "        i = str(i)\n",
    "        if not(i[0].isalnum()) or i[0].isdigit():\n",
    "            digit_and_not_alnum.append(i)\n",
    "        else:\n",
    "            string_word.append(i)\n",
    "    proc = Process(target=find_special_name, args=(string_word,))\n",
    "    proc.start()\n",
    "    proc.join()"
   ]
  },
  {
   "cell_type": "code",
   "execution_count": 156,
   "metadata": {},
   "outputs": [
    {
     "data": {
      "text/plain": [
       "[]"
      ]
     },
     "execution_count": 156,
     "metadata": {},
     "output_type": "execute_result"
    }
   ],
   "source": [
    "special_name_list"
   ]
  },
  {
   "cell_type": "code",
   "execution_count": 157,
   "metadata": {},
   "outputs": [
    {
     "name": "stdout",
     "output_type": "stream",
     "text": [
      "hello bob\n"
     ]
    }
   ],
   "source": [
    "from multiprocessing import Process\n",
    "\n",
    "def f(name):\n",
    "    print('hello', name)\n",
    "\n",
    "if __name__ == '__main__':\n",
    "    p = Process(target=f, args=('bob',))\n",
    "    p.start()\n",
    "    p.join()"
   ]
  },
  {
   "cell_type": "code",
   "execution_count": 172,
   "metadata": {},
   "outputs": [],
   "source": [
    "# Test 6\n",
    "import os\n",
    "from multiprocessing import Process\n",
    "\n",
    "digit_and_not_alnum = []\n",
    "string_word = []\n",
    "for i in word_list:\n",
    "    i = str(i)\n",
    "    if not(i[0].isalnum()) or i[0].isdigit():\n",
    "        digit_and_not_alnum.append(i)\n",
    "    else:\n",
    "        string_word.append(i)\n",
    "\n",
    "def find_special_name(name_ent):\n",
    "    var_list = []\n",
    "    limit = 100\n",
    "    for x in islice(re.finditer(f\"(?:\\s|^){name_ent}(?:\\s|$)\", text, flags=re.IGNORECASE), limit):\n",
    "        var_list.append(x.group())\n",
    "    upper_list = []\n",
    "    lower_list = []\n",
    "    for m in var_list:\n",
    "        if m[0] == m[0].upper():\n",
    "            upper_list.append(m)\n",
    "        else:\n",
    "            lower_list.append(m)\n",
    "    if round((len(upper_list))/(len(upper_list)+len(lower_list)+0.1)*100,5) >= 98:\n",
    "        print(name_ent)\n",
    "    else:\n",
    "        print(\"not special name\")"
   ]
  },
  {
   "cell_type": "code",
   "execution_count": 173,
   "metadata": {},
   "outputs": [
    {
     "name": "stdout",
     "output_type": "stream",
     "text": [
      "ramiro\n",
      "Thomas\n",
      "Peter\n",
      "Arthur\n",
      "Kirkland\n",
      "Sizi\n",
      "not special name\n",
      "not special name\n",
      "evet\n",
      "neden\n",
      "not special name\n",
      "not special name\n",
      "not special name\n"
     ]
    }
   ],
   "source": [
    "if __name__ == '__main__':   \n",
    "    for n in string_word:\n",
    "        proc = Process(target=find_special_name, args=(n,))\n",
    "        proc.start()\n",
    "        proc.join()"
   ]
  },
  {
   "cell_type": "code",
   "execution_count": 174,
   "metadata": {},
   "outputs": [
    {
     "name": "stdout",
     "output_type": "stream",
     "text": [
      "ramiro\n",
      "Thomas\n",
      "Peter\n",
      "Arthur\n",
      "Kirkland\n",
      "Sizi\n",
      "not special name\n",
      "not special name\n",
      "evet\n",
      "neden\n",
      "not special name\n",
      "not special name\n",
      "not special name\n"
     ]
    }
   ],
   "source": [
    "if __name__ == '__main__':\n",
    "    special_name_list = []   # ????\n",
    "    for n in string_word:\n",
    "        proc = Process(target=find_special_name, args=(n,))\n",
    "        proc.start()\n",
    "        proc.join()"
   ]
  },
  {
   "cell_type": "code",
   "execution_count": null,
   "metadata": {},
   "outputs": [],
   "source": [
    "# Test 7\n",
    "import os\n",
    "from multiprocessing import Process\n",
    "\n",
    "def find_special_name(string_word):\n",
    "    for z in string_word: \n",
    "        var_list = []\n",
    "        limit = 100\n",
    "        for x in islice(re.finditer(f\"(?:\\s|^){z}(?:\\s|$)\", text, flags=re.IGNORECASE), limit):\n",
    "            var_list.append(x.group())\n",
    "        upper_list = []\n",
    "        lower_list = []\n",
    "        for m in var_list:\n",
    "            if m[0] == m[0].upper():\n",
    "                upper_list.append(m)\n",
    "            else:\n",
    "                lower_list.append(m)\n",
    "        if round((len(upper_list))/(len(upper_list)+len(lower_list)+0.1)*100,5) >= 99:\n",
    "            print(z)\n",
    "        else:\n",
    "            print(\"not special name\")\n",
    "\n",
    "if __name__ == '__main__':\n",
    "    digit_and_not_alnum = []\n",
    "    string_word = []\n",
    "    for i in word_list:\n",
    "        i = str(i)\n",
    "        if not(i[0].isalnum()) or i[0].isdigit():\n",
    "            digit_and_not_alnum.append(i)\n",
    "        else:\n",
    "            string_word.append(i)\n",
    "    proc = Process(target=find_special_name, args=(string_word,))\n",
    "    proc.start()\n",
    "    #proc.join()"
   ]
  },
  {
   "cell_type": "code",
   "execution_count": 186,
   "metadata": {},
   "outputs": [
    {
     "data": {
      "text/plain": [
       "<ListProxy object, typeid 'list' at 0x7fcf3ff0e040>"
      ]
     },
     "execution_count": 186,
     "metadata": {},
     "output_type": "execute_result"
    }
   ],
   "source": [
    "special_name_list"
   ]
  },
  {
   "cell_type": "code",
   "execution_count": 170,
   "metadata": {},
   "outputs": [
    {
     "data": {
      "text/plain": [
       "[]"
      ]
     },
     "execution_count": 170,
     "metadata": {},
     "output_type": "execute_result"
    }
   ],
   "source": [
    "special_name_list"
   ]
  },
  {
   "cell_type": "code",
   "execution_count": 171,
   "metadata": {},
   "outputs": [
    {
     "data": {
      "text/plain": [
       "[]"
      ]
     },
     "execution_count": 171,
     "metadata": {},
     "output_type": "execute_result"
    }
   ],
   "source": [
    "upper_list"
   ]
  },
  {
   "cell_type": "code",
   "execution_count": 181,
   "metadata": {},
   "outputs": [],
   "source": [
    "# Test 8\n",
    "import os\n",
    "from multiprocessing import Process\n",
    "\n",
    "digit_and_not_alnum = []\n",
    "string_word = []\n",
    "for i in word_list:\n",
    "    i = str(i)\n",
    "    if not(i[0].isalnum()) or i[0].isdigit():\n",
    "        digit_and_not_alnum.append(i)\n",
    "    else:\n",
    "        string_word.append(i)\n",
    "special_name_list = []\n",
    "def find_special_name(name_ent):\n",
    "    var_list = []\n",
    "    limit = 100\n",
    "    for x in islice(re.finditer(f\"(?:\\s|^){name_ent}(?:\\s|$)\", text, flags=re.IGNORECASE), limit):\n",
    "        var_list.append(x.group())\n",
    "    upper_list = []\n",
    "    lower_list = []\n",
    "    for m in var_list:\n",
    "        if m[0] == m[0].upper():\n",
    "            upper_list.append(m)\n",
    "        else:\n",
    "            lower_list.append(m)\n",
    "    if round((len(upper_list))/(len(upper_list)+len(lower_list)+0.1)*100,5) >= 98:\n",
    "        special_name_list.append(name_ent)\n",
    "    else:\n",
    "        special_name_list.append(\"not special name\")\n",
    "\n",
    "  \n",
    "for name_ent in string_word:\n",
    "    proc = Process(target=find_special_name, args=(name_ent,))\n",
    "    proc.start()\n",
    "    proc.join()"
   ]
  },
  {
   "cell_type": "code",
   "execution_count": 182,
   "metadata": {},
   "outputs": [
    {
     "data": {
      "text/plain": [
       "[]"
      ]
     },
     "execution_count": 182,
     "metadata": {},
     "output_type": "execute_result"
    }
   ],
   "source": [
    "special_name_list"
   ]
  },
  {
   "cell_type": "code",
   "execution_count": 202,
   "metadata": {},
   "outputs": [
    {
     "name": "stdout",
     "output_type": "stream",
     "text": [
      "['neden', 'Sizi', 'evet', 'Arthur', 'Peter', 'Thomas', 'not special name', 'Kirkland', 'not special name', 'not special name', 'not special name', 'not special name', 'not special name']\n"
     ]
    }
   ],
   "source": [
    "# Test 9 (Working)\n",
    "import os\n",
    "from multiprocessing import Process, Manager\n",
    "\n",
    "digit_and_not_alnum = []\n",
    "string_word = []\n",
    "for i in word_list:\n",
    "    i = str(i)\n",
    "    if not(i[0].isalnum()) or i[0].isdigit():\n",
    "        digit_and_not_alnum.append(i)\n",
    "    else:\n",
    "        string_word.append(i)\n",
    "\n",
    "special_name_list = []\n",
    "def find_special_name(name_ent):\n",
    "    var_list = []\n",
    "    limit = 100\n",
    "    for x in islice(re.finditer(f\"(?:\\s|^){name_ent}(?:\\s|$)\", text, flags=re.IGNORECASE), limit):\n",
    "        var_list.append(x.group())\n",
    "    upper_list = []\n",
    "    lower_list = []\n",
    "    for m in var_list:\n",
    "        if m[0] == m[0].upper():\n",
    "            upper_list.append(m)\n",
    "        else:\n",
    "            lower_list.append(m)\n",
    "    if round((len(upper_list))/(len(upper_list)+len(lower_list)+0.1)*100,5) >= 99:\n",
    "        special_name_list.append(name_ent)\n",
    "    else:\n",
    "        special_name_list.append(\"not special name\")\n",
    "\n",
    "if __name__ == '__main__':\n",
    "    with Manager() as manager:\n",
    "        special_name_list = manager.list()\n",
    "        procs = []\n",
    "        for name_ent in string_word:\n",
    "            proc = Process(target=find_special_name, args=(name_ent,))\n",
    "            proc.start()\n",
    "            procs.append(proc)\n",
    "        for proc in procs:\n",
    "            proc.join()\n",
    "        print(special_name_list)"
   ]
  },
  {
   "cell_type": "code",
   "execution_count": 203,
   "metadata": {},
   "outputs": [
    {
     "name": "stdout",
     "output_type": "stream",
     "text": [
      "<ListProxy object, typeid 'list' at 0x7fcf3ff036d0; '__str__()' failed>\n"
     ]
    }
   ],
   "source": [
    "print(special_name_list)"
   ]
  },
  {
   "cell_type": "code",
   "execution_count": 204,
   "metadata": {},
   "outputs": [],
   "source": [
    "# Test 10 (Working)\n",
    "import os\n",
    "import multiprocessing\n",
    "from multiprocessing import Process\n",
    "manager = multiprocessing.Manager()\n",
    "special_name_list = manager.list()\n",
    "\n",
    "digit_and_not_alnum = []\n",
    "string_word = []\n",
    "for i in word_list:\n",
    "    i = str(i)\n",
    "    if not(i[0].isalnum()) or i[0].isdigit():\n",
    "        digit_and_not_alnum.append(i)\n",
    "    else:\n",
    "        string_word.append(i)\n",
    "\n",
    "def find_special_name(name_ent):\n",
    "    var_list = []\n",
    "    limit = 100\n",
    "    for x in islice(re.finditer(f\"(?:\\s|^){name_ent}(?:\\s|$)\", text, flags=re.IGNORECASE), limit):\n",
    "        var_list.append(x.group())\n",
    "    upper_list = []\n",
    "    lower_list = []\n",
    "    for m in var_list:\n",
    "        if m[0] == m[0].upper():\n",
    "            upper_list.append(m)\n",
    "        else:\n",
    "            lower_list.append(m)\n",
    "    if round((len(upper_list))/(len(upper_list)+len(lower_list)+0.1)*100,5) >= 99:\n",
    "        special_name_list.append(name_ent)\n",
    "    else:\n",
    "        special_name_list.append(\"not special name\")\n",
    "\n",
    "if __name__ == '__main__':\n",
    "    procs = []\n",
    "    for name_ent in string_word:\n",
    "        proc = Process(target=find_special_name, args=(name_ent,))\n",
    "        proc.start()\n",
    "        procs.append(proc)\n",
    "    for proc in procs:\n",
    "        proc.join()"
   ]
  },
  {
   "cell_type": "code",
   "execution_count": 205,
   "metadata": {},
   "outputs": [
    {
     "name": "stdout",
     "output_type": "stream",
     "text": [
      "['neden', 'Sizi', 'evet', 'Thomas', 'Arthur', 'not special name', 'Peter', 'not special name', 'not special name', 'Kirkland', 'not special name', 'not special name', 'not special name']\n"
     ]
    }
   ],
   "source": [
    "print(special_name_list)"
   ]
  },
  {
   "cell_type": "code",
   "execution_count": null,
   "metadata": {},
   "outputs": [],
   "source": []
  }
 ],
 "metadata": {
  "interpreter": {
   "hash": "651d507d70892fab0fc6529d935cd476f6e2eb1791525b76da6cc8da34bc0503"
  },
  "kernelspec": {
   "display_name": "Python 3.9.5 64-bit ('py39': conda)",
   "language": "python",
   "name": "python3"
  },
  "language_info": {
   "codemirror_mode": {
    "name": "ipython",
    "version": 3
   },
   "file_extension": ".py",
   "mimetype": "text/x-python",
   "name": "python",
   "nbconvert_exporter": "python",
   "pygments_lexer": "ipython3",
   "version": "3.9.5"
  },
  "orig_nbformat": 4
 },
 "nbformat": 4,
 "nbformat_minor": 2
}
