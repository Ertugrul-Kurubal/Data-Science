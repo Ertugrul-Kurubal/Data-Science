{
 "cells": [
  {
   "cell_type": "code",
   "execution_count": 50,
   "metadata": {},
   "outputs": [],
   "source": [
    "import pandas as pd\n",
    "import numpy as np\n",
    "import re"
   ]
  },
  {
   "cell_type": "code",
   "execution_count": 174,
   "metadata": {},
   "outputs": [],
   "source": [
    "word_list = [\"ramiro\", \"Thomas\", \"Peter\",\"Arthur\", \"Kirkland\", \"Sizi\",\"Ertugrul\", \"Gregor\", \"$ali\", \"20str\", \"evet\",\"neden\"]"
   ]
  },
  {
   "cell_type": "code",
   "execution_count": 124,
   "metadata": {},
   "outputs": [],
   "source": [
    "with open(\"/media/kurubal/SSD/Data Scientist/Work/Modern Ways/Project/Pyspark/ReDe/xaa.tr\", \"r\",encoding=\"latin1\") as file:\n",
    "    text = file.read()"
   ]
  },
  {
   "cell_type": "code",
   "execution_count": 175,
   "metadata": {},
   "outputs": [
    {
     "data": {
      "text/plain": [
       "['Ramiro', 'Thomas', 'Peter', 'Arthur', 'Kirkland']"
      ]
     },
     "execution_count": 175,
     "metadata": {},
     "output_type": "execute_result"
    }
   ],
   "source": [
    "digit_and_not_alnum = []\n",
    "string_word = []\n",
    "for i in word_list:\n",
    "    i = str(i)\n",
    "    if not(i[0].isalnum()) or i[0].isdigit():\n",
    "        digit_and_not_alnum.append(i)\n",
    "    else:\n",
    "        string_word.append(i)\n",
    "special_name_list = []  \n",
    "for j in string_word:\n",
    "    var1_list = re.findall(f\"(?:\\s|^){j}(?:\\s|$)\", text, flags=re.IGNORECASE)\n",
    "    var2_list = []\n",
    "    for k in var1_list:\n",
    "        k = re.findall(r'\\w+', k)\n",
    "        var2_list.append(k[0])\n",
    "    upper_list = []\n",
    "    lower_list = []\n",
    "    for m in var2_list:\n",
    "        if m[0] == m[0].upper():\n",
    "            upper_list.append(m)\n",
    "        else:\n",
    "            lower_list.append(m)\n",
    "    if round((len(upper_list))/(len(upper_list)+len(lower_list)+0.1)*100,5) >= 98:\n",
    "        special_name_list.append(j.capitalize())\n",
    "    else:\n",
    "        pass\n",
    "special_name_list"
   ]
  },
  {
   "cell_type": "code",
   "execution_count": null,
   "metadata": {},
   "outputs": [],
   "source": []
  },
  {
   "cell_type": "code",
   "execution_count": null,
   "metadata": {},
   "outputs": [],
   "source": []
  },
  {
   "cell_type": "code",
   "execution_count": null,
   "metadata": {},
   "outputs": [],
   "source": []
  },
  {
   "cell_type": "code",
   "execution_count": null,
   "metadata": {},
   "outputs": [],
   "source": []
  },
  {
   "cell_type": "code",
   "execution_count": null,
   "metadata": {},
   "outputs": [],
   "source": []
  },
  {
   "cell_type": "code",
   "execution_count": null,
   "metadata": {},
   "outputs": [],
   "source": []
  },
  {
   "cell_type": "code",
   "execution_count": null,
   "metadata": {},
   "outputs": [],
   "source": []
  },
  {
   "cell_type": "code",
   "execution_count": null,
   "metadata": {},
   "outputs": [],
   "source": []
  },
  {
   "cell_type": "code",
   "execution_count": null,
   "metadata": {},
   "outputs": [],
   "source": []
  },
  {
   "cell_type": "code",
   "execution_count": null,
   "metadata": {},
   "outputs": [],
   "source": []
  },
  {
   "cell_type": "code",
   "execution_count": null,
   "metadata": {},
   "outputs": [],
   "source": []
  },
  {
   "cell_type": "code",
   "execution_count": null,
   "metadata": {},
   "outputs": [],
   "source": []
  },
  {
   "cell_type": "code",
   "execution_count": null,
   "metadata": {},
   "outputs": [],
   "source": []
  }
 ],
 "metadata": {
  "interpreter": {
   "hash": "651d507d70892fab0fc6529d935cd476f6e2eb1791525b76da6cc8da34bc0503"
  },
  "kernelspec": {
   "display_name": "Python 3.9.5 64-bit ('py39': conda)",
   "language": "python",
   "name": "python3"
  },
  "language_info": {
   "codemirror_mode": {
    "name": "ipython",
    "version": 3
   },
   "file_extension": ".py",
   "mimetype": "text/x-python",
   "name": "python",
   "nbconvert_exporter": "python",
   "pygments_lexer": "ipython3",
   "version": "3.9.5"
  },
  "orig_nbformat": 4
 },
 "nbformat": 4,
 "nbformat_minor": 2
}
