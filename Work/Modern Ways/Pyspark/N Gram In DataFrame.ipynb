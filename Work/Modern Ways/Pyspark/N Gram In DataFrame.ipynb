{
 "cells": [
  {
   "cell_type": "markdown",
   "metadata": {},
   "source": [
    "### N Gram Analysis In Data Frame"
   ]
  },
  {
   "cell_type": "code",
   "execution_count": 3,
   "metadata": {},
   "outputs": [],
   "source": [
    "import pandas as pd\n",
    "import numpy as np\n",
    "import nltk\n",
    "from nltk import ngrams"
   ]
  },
  {
   "cell_type": "code",
   "execution_count": 2,
   "metadata": {},
   "outputs": [
    {
     "data": {
      "text/html": [
       "<div>\n",
       "<style scoped>\n",
       "    .dataframe tbody tr th:only-of-type {\n",
       "        vertical-align: middle;\n",
       "    }\n",
       "\n",
       "    .dataframe tbody tr th {\n",
       "        vertical-align: top;\n",
       "    }\n",
       "\n",
       "    .dataframe thead th {\n",
       "        text-align: right;\n",
       "    }\n",
       "</style>\n",
       "<table border=\"1\" class=\"dataframe\">\n",
       "  <thead>\n",
       "    <tr style=\"text-align: right;\">\n",
       "      <th></th>\n",
       "      <th>sentence</th>\n",
       "      <th>frequency</th>\n",
       "      <th>ratio</th>\n",
       "      <th>cumul_ratio</th>\n",
       "    </tr>\n",
       "  </thead>\n",
       "  <tbody>\n",
       "    <tr>\n",
       "      <th>0</th>\n",
       "      <td>hayır</td>\n",
       "      <td>132</td>\n",
       "      <td>0.784827</td>\n",
       "      <td>0.784827</td>\n",
       "    </tr>\n",
       "    <tr>\n",
       "      <th>1</th>\n",
       "      <td>evet</td>\n",
       "      <td>128</td>\n",
       "      <td>0.761044</td>\n",
       "      <td>1.545871</td>\n",
       "    </tr>\n",
       "    <tr>\n",
       "      <th>2</th>\n",
       "      <td>evet efendim</td>\n",
       "      <td>98</td>\n",
       "      <td>0.582674</td>\n",
       "      <td>2.128545</td>\n",
       "    </tr>\n",
       "    <tr>\n",
       "      <th>3</th>\n",
       "      <td>boris</td>\n",
       "      <td>54</td>\n",
       "      <td>0.321065</td>\n",
       "      <td>2.449611</td>\n",
       "    </tr>\n",
       "    <tr>\n",
       "      <th>4</th>\n",
       "      <td>neden</td>\n",
       "      <td>52</td>\n",
       "      <td>0.309174</td>\n",
       "      <td>2.758785</td>\n",
       "    </tr>\n",
       "    <tr>\n",
       "      <th>...</th>\n",
       "      <td>...</td>\n",
       "      <td>...</td>\n",
       "      <td>...</td>\n",
       "      <td>...</td>\n",
       "    </tr>\n",
       "    <tr>\n",
       "      <th>6057</th>\n",
       "      <td>yaptığına ateşle oynamak denir</td>\n",
       "      <td>1</td>\n",
       "      <td>0.005946</td>\n",
       "      <td>99.970272</td>\n",
       "    </tr>\n",
       "    <tr>\n",
       "      <th>6058</th>\n",
       "      <td>işin riskinden haberdardı</td>\n",
       "      <td>1</td>\n",
       "      <td>0.005946</td>\n",
       "      <td>99.976217</td>\n",
       "    </tr>\n",
       "    <tr>\n",
       "      <th>6059</th>\n",
       "      <td>hayır yaman</td>\n",
       "      <td>1</td>\n",
       "      <td>0.005946</td>\n",
       "      <td>99.982163</td>\n",
       "    </tr>\n",
       "    <tr>\n",
       "      <th>6060</th>\n",
       "      <td>adı bu değil mi</td>\n",
       "      <td>1</td>\n",
       "      <td>0.005946</td>\n",
       "      <td>99.988109</td>\n",
       "    </tr>\n",
       "    <tr>\n",
       "      <th>6061</th>\n",
       "      <td>şayet yamin</td>\n",
       "      <td>1</td>\n",
       "      <td>0.005946</td>\n",
       "      <td>99.994054</td>\n",
       "    </tr>\n",
       "  </tbody>\n",
       "</table>\n",
       "<p>6062 rows × 4 columns</p>\n",
       "</div>"
      ],
      "text/plain": [
       "                            sentence  frequency     ratio  cumul_ratio\n",
       "0                              hayır        132  0.784827     0.784827\n",
       "1                               evet        128  0.761044     1.545871\n",
       "2                       evet efendim         98  0.582674     2.128545\n",
       "3                              boris         54  0.321065     2.449611\n",
       "4                              neden         52  0.309174     2.758785\n",
       "...                              ...        ...       ...          ...\n",
       "6057  yaptığına ateşle oynamak denir          1  0.005946    99.970272\n",
       "6058       işin riskinden haberdardı          1  0.005946    99.976217\n",
       "6059                     hayır yaman          1  0.005946    99.982163\n",
       "6060                 adı bu değil mi          1  0.005946    99.988109\n",
       "6061                     şayet yamin          1  0.005946    99.994054\n",
       "\n",
       "[6062 rows x 4 columns]"
      ]
     },
     "execution_count": 2,
     "metadata": {},
     "output_type": "execute_result"
    }
   ],
   "source": [
    "df_sent = pd.read_csv(\"Sentence_Tokenize_Sample.csv\")\n",
    "df_sent"
   ]
  },
  {
   "cell_type": "code",
   "execution_count": 30,
   "metadata": {},
   "outputs": [],
   "source": [
    "df_sent = df_sent.head(30)"
   ]
  },
  {
   "cell_type": "code",
   "execution_count": 32,
   "metadata": {},
   "outputs": [
    {
     "data": {
      "text/plain": [
       "98"
      ]
     },
     "execution_count": 32,
     "metadata": {},
     "output_type": "execute_result"
    }
   ],
   "source": [
    "df_sent.iloc[2, 1]"
   ]
  },
  {
   "cell_type": "code",
   "execution_count": null,
   "metadata": {},
   "outputs": [],
   "source": [
    "n = 2\n",
    "n_gram_dict = {}\n",
    "count_index = 0\n",
    "for i in df_sent.sentence:\n",
    "    try:\n",
    "        n_gram = ngrams(i.split(),n)\n",
    "        for j in n_gram:\n",
    "            n_gram_dict[j] = df_sent.iloc[count_index, 1] # 1 equal to frequency\n",
    "    except:\n",
    "        pass\n",
    "    count_index += 1\n",
    "print()\n"
   ]
  },
  {
   "cell_type": "code",
   "execution_count": 29,
   "metadata": {},
   "outputs": [
    {
     "data": {
      "text/plain": [
       "1"
      ]
     },
     "execution_count": 29,
     "metadata": {},
     "output_type": "execute_result"
    }
   ],
   "source": [
    "df_sent.loc[6061,\"frequency\"]"
   ]
  },
  {
   "cell_type": "code",
   "execution_count": null,
   "metadata": {},
   "outputs": [],
   "source": [
    "twogram_1 = []\n",
    "n = 2\n",
    "twograms = ngrams(text_data_clean.split(), n)\n",
    "\n",
    "for grams in twograms:\n",
    "    twogram_1.append(list(grams))\n",
    "twogram_1"
   ]
  },
  {
   "cell_type": "code",
   "execution_count": 6,
   "metadata": {},
   "outputs": [],
   "source": [
    "dict_1 = {\"ali\":\"ata\", \"emel\":\"ılık\"}"
   ]
  },
  {
   "cell_type": "code",
   "execution_count": 17,
   "metadata": {},
   "outputs": [
    {
     "data": {
      "text/html": [
       "<div>\n",
       "<style scoped>\n",
       "    .dataframe tbody tr th:only-of-type {\n",
       "        vertical-align: middle;\n",
       "    }\n",
       "\n",
       "    .dataframe tbody tr th {\n",
       "        vertical-align: top;\n",
       "    }\n",
       "\n",
       "    .dataframe thead th {\n",
       "        text-align: right;\n",
       "    }\n",
       "</style>\n",
       "<table border=\"1\" class=\"dataframe\">\n",
       "  <thead>\n",
       "    <tr style=\"text-align: right;\">\n",
       "      <th></th>\n",
       "      <th>0</th>\n",
       "      <th>1</th>\n",
       "    </tr>\n",
       "  </thead>\n",
       "  <tbody>\n",
       "    <tr>\n",
       "      <th>0</th>\n",
       "      <td>ali</td>\n",
       "      <td>ata</td>\n",
       "    </tr>\n",
       "    <tr>\n",
       "      <th>1</th>\n",
       "      <td>emel</td>\n",
       "      <td>ılık</td>\n",
       "    </tr>\n",
       "  </tbody>\n",
       "</table>\n",
       "</div>"
      ],
      "text/plain": [
       "      0     1\n",
       "0   ali   ata\n",
       "1  emel  ılık"
      ]
     },
     "execution_count": 17,
     "metadata": {},
     "output_type": "execute_result"
    }
   ],
   "source": [
    "pd.DataFrame(data=[dict_1.keys(),dict_1.values()]).transpose()"
   ]
  },
  {
   "cell_type": "code",
   "execution_count": null,
   "metadata": {},
   "outputs": [],
   "source": []
  }
 ],
 "metadata": {
  "interpreter": {
   "hash": "dee98d46828ee19b29600c86b301abe70cd9ca024f8cc08840440df39802f8b5"
  },
  "kernelspec": {
   "display_name": "Python 3.9.7 64-bit ('pyspark_env': conda)",
   "language": "python",
   "name": "python3"
  },
  "language_info": {
   "codemirror_mode": {
    "name": "ipython",
    "version": 3
   },
   "file_extension": ".py",
   "mimetype": "text/x-python",
   "name": "python",
   "nbconvert_exporter": "python",
   "pygments_lexer": "ipython3",
   "version": "3.9.7"
  },
  "orig_nbformat": 4
 },
 "nbformat": 4,
 "nbformat_minor": 2
}
