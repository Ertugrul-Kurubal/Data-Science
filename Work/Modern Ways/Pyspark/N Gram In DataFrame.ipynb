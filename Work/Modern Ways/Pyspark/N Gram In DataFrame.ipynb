{
 "cells": [
  {
   "cell_type": "markdown",
   "metadata": {},
   "source": [
    "### N Gram Analysis In Data Frame"
   ]
  },
  {
   "cell_type": "code",
   "execution_count": 1,
   "metadata": {},
   "outputs": [],
   "source": [
    "import pandas as pd\n",
    "import numpy as np\n",
    "import nltk\n",
    "from nltk import ngrams"
   ]
  },
  {
   "cell_type": "code",
   "execution_count": 9,
   "metadata": {},
   "outputs": [
    {
     "data": {
      "text/html": [
       "<div>\n",
       "<style scoped>\n",
       "    .dataframe tbody tr th:only-of-type {\n",
       "        vertical-align: middle;\n",
       "    }\n",
       "\n",
       "    .dataframe tbody tr th {\n",
       "        vertical-align: top;\n",
       "    }\n",
       "\n",
       "    .dataframe thead th {\n",
       "        text-align: right;\n",
       "    }\n",
       "</style>\n",
       "<table border=\"1\" class=\"dataframe\">\n",
       "  <thead>\n",
       "    <tr style=\"text-align: right;\">\n",
       "      <th></th>\n",
       "      <th>sentence</th>\n",
       "      <th>frequency</th>\n",
       "      <th>ratio</th>\n",
       "      <th>cumul_ratio</th>\n",
       "    </tr>\n",
       "  </thead>\n",
       "  <tbody>\n",
       "    <tr>\n",
       "      <th>0</th>\n",
       "      <td>evet</td>\n",
       "      <td>353</td>\n",
       "      <td>1.209360</td>\n",
       "      <td>1.209360</td>\n",
       "    </tr>\n",
       "    <tr>\n",
       "      <th>1</th>\n",
       "      <td>hayır</td>\n",
       "      <td>227</td>\n",
       "      <td>0.777690</td>\n",
       "      <td>1.987050</td>\n",
       "    </tr>\n",
       "    <tr>\n",
       "      <th>2</th>\n",
       "      <td>ne</td>\n",
       "      <td>109</td>\n",
       "      <td>0.373428</td>\n",
       "      <td>2.360478</td>\n",
       "    </tr>\n",
       "    <tr>\n",
       "      <th>3</th>\n",
       "      <td>teşekkürler</td>\n",
       "      <td>64</td>\n",
       "      <td>0.219261</td>\n",
       "      <td>2.579739</td>\n",
       "    </tr>\n",
       "    <tr>\n",
       "      <th>4</th>\n",
       "      <td>merhaba</td>\n",
       "      <td>59</td>\n",
       "      <td>0.202131</td>\n",
       "      <td>2.781870</td>\n",
       "    </tr>\n",
       "    <tr>\n",
       "      <th>...</th>\n",
       "      <td>...</td>\n",
       "      <td>...</td>\n",
       "      <td>...</td>\n",
       "      <td>...</td>\n",
       "    </tr>\n",
       "    <tr>\n",
       "      <th>14256</th>\n",
       "      <td>ona her şeyi anlattım</td>\n",
       "      <td>1</td>\n",
       "      <td>0.003426</td>\n",
       "      <td>99.986296</td>\n",
       "    </tr>\n",
       "    <tr>\n",
       "      <th>14257</th>\n",
       "      <td>bunun kabalık olduğunu düşünmüyor musun</td>\n",
       "      <td>1</td>\n",
       "      <td>0.003426</td>\n",
       "      <td>99.989722</td>\n",
       "    </tr>\n",
       "    <tr>\n",
       "      <th>14258</th>\n",
       "      <td>kimliğini saklamak ve savunmasız olduğu anda r...</td>\n",
       "      <td>1</td>\n",
       "      <td>0.003426</td>\n",
       "      <td>99.993148</td>\n",
       "    </tr>\n",
       "    <tr>\n",
       "      <th>14259</th>\n",
       "      <td>çok sinsi ve alçakça</td>\n",
       "      <td>1</td>\n",
       "      <td>0.003426</td>\n",
       "      <td>99.996574</td>\n",
       "    </tr>\n",
       "    <tr>\n",
       "      <th>14260</th>\n",
       "      <td>ama başk</td>\n",
       "      <td>1</td>\n",
       "      <td>0.003426</td>\n",
       "      <td>100.000000</td>\n",
       "    </tr>\n",
       "  </tbody>\n",
       "</table>\n",
       "<p>14261 rows × 4 columns</p>\n",
       "</div>"
      ],
      "text/plain": [
       "                                                sentence  frequency     ratio  \\\n",
       "0                                                   evet        353  1.209360   \n",
       "1                                                  hayır        227  0.777690   \n",
       "2                                                     ne        109  0.373428   \n",
       "3                                            teşekkürler         64  0.219261   \n",
       "4                                                merhaba         59  0.202131   \n",
       "...                                                  ...        ...       ...   \n",
       "14256                              ona her şeyi anlattım          1  0.003426   \n",
       "14257            bunun kabalık olduğunu düşünmüyor musun          1  0.003426   \n",
       "14258  kimliğini saklamak ve savunmasız olduğu anda r...          1  0.003426   \n",
       "14259                               çok sinsi ve alçakça          1  0.003426   \n",
       "14260                                           ama başk          1  0.003426   \n",
       "\n",
       "       cumul_ratio  \n",
       "0         1.209360  \n",
       "1         1.987050  \n",
       "2         2.360478  \n",
       "3         2.579739  \n",
       "4         2.781870  \n",
       "...            ...  \n",
       "14256    99.986296  \n",
       "14257    99.989722  \n",
       "14258    99.993148  \n",
       "14259    99.996574  \n",
       "14260   100.000000  \n",
       "\n",
       "[14261 rows x 4 columns]"
      ]
     },
     "execution_count": 9,
     "metadata": {},
     "output_type": "execute_result"
    }
   ],
   "source": [
    "df_sent = pd.read_csv(\"Sentence_Tokenize_Sample.csv\")\n",
    "df_sent"
   ]
  },
  {
   "cell_type": "code",
   "execution_count": 10,
   "metadata": {},
   "outputs": [],
   "source": [
    "df_sent = df_sent.head(30)"
   ]
  },
  {
   "cell_type": "code",
   "execution_count": 4,
   "metadata": {},
   "outputs": [
    {
     "data": {
      "text/plain": [
       "109"
      ]
     },
     "execution_count": 4,
     "metadata": {},
     "output_type": "execute_result"
    }
   ],
   "source": [
    "df_sent.iloc[2, 1]"
   ]
  },
  {
   "cell_type": "code",
   "execution_count": 17,
   "metadata": {},
   "outputs": [
    {
     "name": "stdout",
     "output_type": "stream",
     "text": [
      "{('öyle', 'mi'): 49, ('tamam', 'mı'): 48, ('aman', 'tanrım'): 42, ('ne', 'oldu'): 38, ('iyi', 'misin'): 36, ('teşekkür', 'ederim'): 33, ('bay', 'burke'): 30, ('özür', 'dilerim'): 27, ('seni', 'seviyorum'): 27, ('hayır', 'hayır'): 24}\n"
     ]
    }
   ],
   "source": [
    "# 1 Way\n",
    "n = 2\n",
    "n_gram_dict = {}\n",
    "count_index = 0\n",
    "for i in df_sent.sentence:\n",
    "    try:\n",
    "        n_gram = ngrams(i.split(),n)\n",
    "        for j in n_gram:\n",
    "            #j = \" \".join(j)\n",
    "            n_gram_dict[j] = df_sent.iloc[count_index, 1] # 1 equal to frequency\n",
    "    except:\n",
    "        pass\n",
    "    count_index += 1\n",
    "print(n_gram_dict)\n"
   ]
  },
  {
   "cell_type": "code",
   "execution_count": 29,
   "metadata": {},
   "outputs": [
    {
     "data": {
      "text/plain": [
       "1"
      ]
     },
     "execution_count": 29,
     "metadata": {},
     "output_type": "execute_result"
    }
   ],
   "source": []
  },
  {
   "cell_type": "code",
   "execution_count": null,
   "metadata": {},
   "outputs": [],
   "source": [
    "twogram_1 = []\n",
    "n = 2\n",
    "twograms = ngrams(text_data_clean.split(), n)\n",
    "\n",
    "for grams in twograms:\n",
    "    twogram_1.append(list(grams))\n",
    "twogram_1"
   ]
  },
  {
   "cell_type": "code",
   "execution_count": 12,
   "metadata": {},
   "outputs": [],
   "source": [
    "dict_1 = {\"ali\":\"ata\", \"emel\":\"ılık\", \"ali\":\"bak\"}"
   ]
  },
  {
   "cell_type": "code",
   "execution_count": 13,
   "metadata": {},
   "outputs": [
    {
     "name": "stdout",
     "output_type": "stream",
     "text": [
      "{'ali': 'bak', 'emel': 'ılık'}\n"
     ]
    }
   ],
   "source": [
    "print(dict_1)"
   ]
  },
  {
   "cell_type": "code",
   "execution_count": 14,
   "metadata": {},
   "outputs": [
    {
     "data": {
      "text/html": [
       "<div>\n",
       "<style scoped>\n",
       "    .dataframe tbody tr th:only-of-type {\n",
       "        vertical-align: middle;\n",
       "    }\n",
       "\n",
       "    .dataframe tbody tr th {\n",
       "        vertical-align: top;\n",
       "    }\n",
       "\n",
       "    .dataframe thead th {\n",
       "        text-align: right;\n",
       "    }\n",
       "</style>\n",
       "<table border=\"1\" class=\"dataframe\">\n",
       "  <thead>\n",
       "    <tr style=\"text-align: right;\">\n",
       "      <th></th>\n",
       "      <th>0</th>\n",
       "      <th>1</th>\n",
       "    </tr>\n",
       "  </thead>\n",
       "  <tbody>\n",
       "    <tr>\n",
       "      <th>0</th>\n",
       "      <td>ali</td>\n",
       "      <td>bak</td>\n",
       "    </tr>\n",
       "    <tr>\n",
       "      <th>1</th>\n",
       "      <td>emel</td>\n",
       "      <td>ılık</td>\n",
       "    </tr>\n",
       "  </tbody>\n",
       "</table>\n",
       "</div>"
      ],
      "text/plain": [
       "      0     1\n",
       "0   ali   bak\n",
       "1  emel  ılık"
      ]
     },
     "execution_count": 14,
     "metadata": {},
     "output_type": "execute_result"
    }
   ],
   "source": [
    "pd.DataFrame(data=[dict_1.keys(),dict_1.values()]).transpose()"
   ]
  },
  {
   "cell_type": "code",
   "execution_count": null,
   "metadata": {},
   "outputs": [],
   "source": []
  }
 ],
 "metadata": {
  "interpreter": {
   "hash": "dee98d46828ee19b29600c86b301abe70cd9ca024f8cc08840440df39802f8b5"
  },
  "kernelspec": {
   "display_name": "Python 3.9.7 64-bit ('pyspark_env': conda)",
   "language": "python",
   "name": "python3"
  },
  "language_info": {
   "codemirror_mode": {
    "name": "ipython",
    "version": 3
   },
   "file_extension": ".py",
   "mimetype": "text/x-python",
   "name": "python",
   "nbconvert_exporter": "python",
   "pygments_lexer": "ipython3",
   "version": "3.9.7"
  },
  "orig_nbformat": 4
 },
 "nbformat": 4,
 "nbformat_minor": 2
}
