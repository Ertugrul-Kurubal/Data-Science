{
 "cells": [
  {
   "cell_type": "markdown",
   "metadata": {},
   "source": [
    "### Text Optimization"
   ]
  },
  {
   "cell_type": "code",
   "execution_count": 2,
   "metadata": {},
   "outputs": [],
   "source": [
    "import pandas as pd\n",
    "import numpy as np\n",
    "import re\n",
    "import nltk\n",
    "from nltk.corpus import stopwords"
   ]
  },
  {
   "cell_type": "code",
   "execution_count": null,
   "metadata": {},
   "outputs": [],
   "source": [
    "en = re.compile(r\"[abcdefghıijklmnoprstxuvwyz0123456789\\.\\?\\{\\}\\[\\]\\(\\),:;!'\\\"\\$`]+\", re.IGNORECASE|re.UNICODE) # filters='!\"#$%&()*+,-./:;<=>?@[\\\\]^_`{|}~\\t\\n0123456789'"
   ]
  },
  {
   "cell_type": "code",
   "execution_count": null,
   "metadata": {},
   "outputs": [],
   "source": [
    "text_name = \"en\""
   ]
  },
  {
   "cell_type": "code",
   "execution_count": null,
   "metadata": {},
   "outputs": [],
   "source": [
    "try:\n",
    "  with open(f\"/media/kurubal/SSD/Data Scientist/Work/Modern Ways/Project/English/Data/Text/{text_name}.txt\", \"r\", encoding=\"utf-8\", errors=\"ignore\") as file:\n",
    "    text_data = file.read(50000)\n",
    "except:\n",
    "  print(\"There is not such a file  or path is incorrect\")"
   ]
  },
  {
   "cell_type": "code",
   "execution_count": 15,
   "metadata": {},
   "outputs": [],
   "source": [
    "#text_data.encode(\"utf-8\")"
   ]
  },
  {
   "cell_type": "code",
   "execution_count": null,
   "metadata": {},
   "outputs": [],
   "source": [
    "#text_data.encode(\"utf-8\").decode(\"utf-8\")"
   ]
  },
  {
   "cell_type": "code",
   "execution_count": null,
   "metadata": {},
   "outputs": [],
   "source": [
    "#text_data"
   ]
  },
  {
   "cell_type": "code",
   "execution_count": null,
   "metadata": {},
   "outputs": [],
   "source": [
    "text_data2 = re.findall(en, text_data)"
   ]
  },
  {
   "cell_type": "code",
   "execution_count": null,
   "metadata": {},
   "outputs": [],
   "source": [
    "text_data3 = \" \".join(text_data2)"
   ]
  },
  {
   "cell_type": "code",
   "execution_count": null,
   "metadata": {},
   "outputs": [],
   "source": [
    "not_case_sens1 = re.compile(re.escape(\"can\\'t\"), re.IGNORECASE)\n",
    "text = not_case_sens1.sub(\"can not\", text_data3)\n",
    "text    "
   ]
  },
  {
   "cell_type": "code",
   "execution_count": null,
   "metadata": {},
   "outputs": [],
   "source": [
    "not_case_sens2 = re.compile(re.escape(\"won\\'t\"), re.IGNORECASE)\n",
    "text2 = not_case_sens2.sub(\"will not\", text)\n",
    "text2  "
   ]
  },
  {
   "cell_type": "code",
   "execution_count": null,
   "metadata": {},
   "outputs": [],
   "source": [
    "not_case_sens3 = re.compile(re.escape(\"n\\'t\"), re.IGNORECASE)\n",
    "text3 = not_case_sens3.sub(\" not\", text2)\n",
    "text3 "
   ]
  },
  {
   "cell_type": "code",
   "execution_count": null,
   "metadata": {},
   "outputs": [],
   "source": [
    "not_case_sens4 = re.compile(re.escape(\"\\'ll\"), re.IGNORECASE)\n",
    "text4 = not_case_sens4.sub(\" will\", text3)\n",
    "text4 "
   ]
  },
  {
   "cell_type": "code",
   "execution_count": null,
   "metadata": {},
   "outputs": [],
   "source": [
    "not_case_sens5 = re.compile(re.escape(\"\\'m\"), re.IGNORECASE)\n",
    "text5 = not_case_sens5.sub(\" am\", text4)\n",
    "text5 "
   ]
  },
  {
   "cell_type": "code",
   "execution_count": null,
   "metadata": {},
   "outputs": [],
   "source": [
    "not_case_sens6 = re.compile(re.escape(\"\\'ve\"), re.IGNORECASE) # 'd, 's, 're\n",
    "text6 = not_case_sens6.sub(\" have\", text5)\n",
    "text6 "
   ]
  },
  {
   "cell_type": "code",
   "execution_count": null,
   "metadata": {},
   "outputs": [],
   "source": [
    "not_case_sens7 = re.compile(re.escape(\"\\'\"), re.IGNORECASE)\n",
    "text7 = not_case_sens7.sub(\" \\'\", text6)\n",
    "text7 "
   ]
  },
  {
   "cell_type": "code",
   "execution_count": null,
   "metadata": {},
   "outputs": [],
   "source": [
    "with open(f\"{text_name}.txt\", \"w\", encoding=\"utf-8\") as file:\n",
    "    file.write(text7)"
   ]
  },
  {
   "cell_type": "code",
   "execution_count": null,
   "metadata": {},
   "outputs": [],
   "source": []
  },
  {
   "cell_type": "markdown",
   "metadata": {},
   "source": [
    "#### Multi Processing Text Preprocess"
   ]
  },
  {
   "cell_type": "code",
   "execution_count": 1,
   "metadata": {},
   "outputs": [],
   "source": [
    "import numpy as np\n",
    "import pandas as pd\n",
    "import re"
   ]
  },
  {
   "cell_type": "code",
   "execution_count": 2,
   "metadata": {},
   "outputs": [],
   "source": [
    "import os\n",
    "import multiprocessing\n",
    "#import multiprocessing as mp\n",
    "from multiprocessing import Process, Manager, Pool, Queue\n",
    "from itertools import islice"
   ]
  },
  {
   "cell_type": "code",
   "execution_count": 3,
   "metadata": {},
   "outputs": [],
   "source": [
    "#help(multiprocessing)"
   ]
  },
  {
   "cell_type": "code",
   "execution_count": 4,
   "metadata": {},
   "outputs": [
    {
     "name": "stdout",
     "output_type": "stream",
     "text": [
      "Number of CPU cores: 16\n"
     ]
    }
   ],
   "source": [
    "nprocs = multiprocessing.cpu_count()\n",
    "print(f\"Number of CPU cores: {nprocs}\")"
   ]
  },
  {
   "cell_type": "code",
   "execution_count": 5,
   "metadata": {},
   "outputs": [],
   "source": [
    "# custom character alphabet \n",
    "tr = re.compile(r\"[abcçdefgğhıijklmnoöprsştuüvyzqxw0123456789\\.\\?\\{\\}\\[\\]\\(\\),:;!'\\\"\\$`]+\", re.IGNORECASE|re.UNICODE) # Turkish filters='!\"#$%&()*+,-./:;<=>?@[\\\\]^_`{|}~\\t\\n0123456789'\n",
    "en = re.compile(r\"[abcdefghıijklmnopqrstxuvwyz0123456789\\.\\?\\{\\}\\[\\]\\(\\),:;!'\\\"\\$`]+\", re.IGNORECASE|re.UNICODE) # English\n",
    "nl = re.compile(r\"[abcdefghıijklmnopqrstxuvwyzāăēĕīĭōŏūŭ0123456789\\.\\?\\{\\}\\[\\]\\(\\),:;!'\\\"\\$`]+\", re.IGNORECASE|re.UNICODE) # Dutch (Flemenk)\n",
    "fr = re.compile(r\"[abcçdefghıijklmnopqrstxuvwyzàâæèéêëîïôœùûüÿ0123456789\\.\\?\\{\\}\\[\\]\\(\\),:;!'\\\"\\$`]+\", re.IGNORECASE|re.UNICODE) # French\n",
    "de = re.compile(r\"[abcdefghıijklmnopqrstxuvwyzäöüß0123456789\\.\\?\\{\\}\\[\\]\\(\\),:;!'\\\"\\$`]+\", re.IGNORECASE|re.UNICODE) # Deutch\n",
    "es = re.compile(r\"[abcdefghıijklmnopqrstxuvwyzñáéíóú0123456789\\.\\?\\{\\}\\[\\]\\(\\),:;!'\\\"\\$`]+\", re.IGNORECASE|re.UNICODE) # Spanish (¿¡)\n",
    "pt = re.compile(r\"[abcçdefghıijklmnopqrstxuvwyzàáâãéêíóôõú0123456789\\.\\?\\{\\}\\[\\]\\(\\),:;!'\\\"\\$`]+\", re.IGNORECASE|re.UNICODE) # Portuguese\n",
    "it = re.compile(r\"[abcdefghıijklmnopqrstxuvwyzàéèìòùî0123456789\\.\\?\\{\\}\\[\\]\\(\\),:;!'\\\"\\$`]+\", re.IGNORECASE|re.UNICODE) # Italian\n",
    "ar = re.compile(r\"[ؤبتثجحخدذرزسشصضطظعغفقكلمنهـويىإ!؟…،:'؛٩٨٧٦٥٤٣٢١’’\\.\\?\\{\\}\\[\\]\\(\\)\\\"\\$\\اءأإئآ]+\", re.IGNORECASE|re.UNICODE) # Arabic\n",
    "ar2 = re.compile(r\"[ٿصؼۤڳڲؿڎػڠجڿ٬ٸؽؒؓطۄڀۂؘؔتٚڛےٝڜؖڦ٫ډ۰زۇٖۀ،لۓ۱عٮێڔ۶ؚۧۜڤۏ٤إٞٷؗۖ؈ژۣؕؑٴأۻڸۺگاڴڹۯ؉ْڌ٣؍ي٧؟ـٟړۅؐڶُىڽېًۢؠضۚڄٛڏٱۦ٩س٦ڼڂٔۘ٠ښٌٍ۬ٳ۾ٲږذۋٵٜ٘ڞڅںٗهڣۿپڒۥۗڋیؙم؞ثۨ۹ٹڵڪظٶۭ١۔ڭەڨحٕ؎ٺڷٰ۪۫۲ڻڥۛڑڟټآڡغګ؊ّ٢ٯڧڮ؏ۮ؋ؤ٪ؾڗۼق۟دکوِڰڐۃ۽ہفر۷ڇ٭چڝ۴بۈٽڕۡھ۸٨ةٓڃئ؛ڬٙڙڢڱۊَۆۉځ۠ۍۑۙڊنءڈٻش٥ڍ؇۵ك۳خ\\.\\?\\{\\}\\[\\]\\(\\)\\\"\\$\\ا0123456789,':;\\\"`]+\", re.IGNORECASE|re.UNICODE) # Arabic"
   ]
  },
  {
   "cell_type": "code",
   "execution_count": null,
   "metadata": {},
   "outputs": [],
   "source": []
  },
  {
   "cell_type": "code",
   "execution_count": 13,
   "metadata": {},
   "outputs": [],
   "source": [
    "try:\n",
    "  with open(f\"/media/kurubal/SSD/Data Scientist/Work/Modern Ways/Project/Arabic/Data/Text/ar1.txt\", \"r\", encoding=\"utf-8\", errors=\"ignore\") as file:\n",
    "    text_data = file.read(5000)\n",
    "except:\n",
    "  print(\"There is not such a file  or path is incorrect\")"
   ]
  },
  {
   "cell_type": "code",
   "execution_count": 14,
   "metadata": {},
   "outputs": [
    {
     "data": {
      "text/plain": [
       "'ترجمة:\\nVladimir_1200@\\nإنظري!\\n\"طيور الكركية مثل السفن،تسبح في الفضاء\\nواحدة بيضاء،وواحدة رمادية بمناقير طويلة يحلقون\"\\nإنظر،إنظر!\\nهنا.\\nأنت و \"طيور الكركية مثل السفن\" خاصتك\\n\"طيور الكركية تحلق\"\\nمن هناك؟\\nإنتظري.\\nحسنا\\nمتى؟\\nالخميس، عند الجسر\\n-.\\n-بحقك، هذا بعيد جدا\\nيا سنجاب!\\nنحن لم ننتهي\\nيا سنجاب!\\nمتى؟\\nأي وقت يوم الخميس؟\\nلا، لا أستطيع\\nسأكون في المصنع\\nحسنا.\\nلا تتأخر!\\nيا سنجاب!\\nإنها متيمة به.\\nوهو متيم بها أيضا.\\nهذا هو الحب، ياعزيزتي:\\nمرض عقلي غير مؤذي\\nلماذا لست في سريرك بعد يا جدتي؟\\n(حان وقت النهوض من النوم ، يا (بوريس!\\nتوقف عن الإزعاج لقد كنت تركض في كل مكان ليلة البارحة...\\nأنت فقط غيورة.\\nهل مزقته؟\\nجاكيتك ليس ممزقا\\nناكر الجميل!\\nالساعة الثانية عشر وهو ما زال نائما\\nإنه مجهد من كثرة العمل\\nدعيه على الأقل يرتاح في يوم الأحد\\nعمله هذا سينتهي بالزفاف.\\nأنت فقط خائفة من فقدانه.\\nآرينا) عليها أنت تركز على نظرياتها) وليس على الزفاف\\n(إنتبه، عم (فيديا\\nإنها قريبة من الحصول على شهادة الدكتوراه\\nوأنت ما تزال مجرد طبيب\\nحسنا، إذا لم يتفوق الأطفال على والديهم،\\nمعناها بأن الوالدين سيئين و الأطفال ليسوا بأحسن حال منهم\\nشكرا، ماما\\nإعلان هام جدا\\nما الذي يحدث؟\\nبوريس)!\\nالحرب)\\nهل تسمعني؟\\nالحرب!\\nدعني وشأني.\\nمرحبا.\\nبوريس) قد يقضي طوال) يومه في المصنع\\nهل تنتظرينه؟\\nأنا لا أنتظر أحد.\\n(فيرونيكا)\\nفي الحرب، من المهم أن لا تخسر رأسك.\\nحاولي أنت تعيشي حياة عادية.\\nمثلي...\\nأحلم بأن أقيم حفلة بيانو من أجلك.\\nهل ستحضرينها؟\\n-ألن تكون مجند؟\\nمجند؟\\nلا أعرف.\\nأشك في ذلك.\\nو لماذا؟\\nالموهوبين سيعفون من التجنيد.\\n-وأنت تعتقد بأنك موهوب؟\\n-نعم\\nلماذا أنت دائما تتبعني؟\\nيجب أن تكون خجولا من نفسك.\\nأنا خجول فعلا.\\nوعدت نفسي ألف مرة بأني لن أكون خجولا\\nأعرف بأن (بوريس) قريبي!\\nلكني لا أستطيع مساعدة نفسي.\\nهل تفهمين؟\\nلا أستطيع.\\nإنتظري!\\nلست بحاجة لمرافقتي.\\nإنتبه!\\nستؤذي ساقيك.\\nالأمور ستكون أصعب في الجبهة، (يا عزيزي (بوريس.\\nلن يدعوك تذهب إلى الجبهة.\\nسيكون هناك إعفاء واحد فقط إما لي أو لك.\\nهذا صحيح.\\nإذا يجب أن تبقى.\\nأنت تملك الخبرة و المعرفة.\\nوأنت تملك شيئا أكثر أهمية...\\nالموهبة\\nإهتم برسماتك.\\nأنت تعلم,\\nزوجتي أعدت حقائبي\\nحسنا، كما يقولون لنجهز حرابنا.\\n(ستيفان)\\nلو سمحت يا (ساتشكوف)، حسنا؟\\nأين الملاحظة؟\\nلا شيء بعد.\\nأنا لا أفهم ما كل هذا البطء\\nهل أنت ذاهب للمنزل؟\\n-لا، أنا...\\n-حسنا، فهمت.\\nحيها عني\\nماذا؟\\n-هل أخبرتها؟\\n-لا، و لما العجلة؟\\n-أنت محق، أراك غدا .\\n-إنتبه لنفسك !\\n-أفلتيها\\n-لن أفلتها .\\nستسقطين!\\nأفلتها، ستمزقين القماش.\\n-إنها بطانية .\\n-أفلتيها وإلا سأتصل بالشرطة .\\n-لقد تعبت من هذا!\\nأعطني إياها !\\n-ستسقطين .\\n-لا, لن أسقط .\\nيا سنجاب، توقفي.\\nدعني أعلق هذه.\\nلم تأتي إلى الجسر اليوم لكن (مارك) فعل\\n-إذا؟\\n-إنه وسيم .\\nإذا؟\\n-هل تغار؟\\n-ماذا؟\\n-هل تغار؟\\n-لا أملك الوقت لذلك .\\nسيء جدا.\\nأعتقد بأني سأسجل في معهد الهندسة المعمارية.\\n-لن يقبلوك .\\n-كلا، سيفعلوا .\\nأشك في ذلك,\\nطيور الكركية كالسفن.\\nتبحر في السماء.\\nواحدة بيضاء، والأخرى رمادية.\\nبمناقير طويلة يطيرون.\\nهل تعجبك أغنيتي؟\\nعميقة جدا.\\nأيها الضفدع الصغير.\\nلماذا لا تنظر للأعلى؟\\nأن لا تتوقف عن القفز و الأمل.\\nلذلك تؤكل.\\nمأكول!\\nحسنا يا بطلة, هل فزت؟\\nلقد فزت، لقد فزت.\\nلقد فزت..\\nهل تعتقد بأنك ستجند؟\\n-بالتأكيد .\\n-هل ستتطوع؟\\n-ربما .\\nكلا , لن تفعل!\\nأنت تعرف جيدا بأنك ستعفى من التجنيد لذلك تتكلم هكذا.\\n-وما الذي يجعلك متأكدة لهذه الدرجة؟\\n-أعرف .\\nكل الأذكياء سيعفون من التجنيد.\\nإذا فقط الأغبياء سيقاتلون؟\\nلا أريد مناقشة الأمر أكثر من ذلك.\\nفيرونيكا)...\\n)\\nأريد أن أتحدث معك عن شيء.\\nحسنا، أنا لا أريد.\\n(و من فضلك، لا تناديني (فيرونيكا.\\nمن أنا؟\\n-سنجاب .\\n-صحيح .\\nإسمعي.\\nما الذي ستعطيني إياه غدا؟\\nإنه سر.\\nإذا كان صالحا للأكل سأكله و أنساه،\\nأعطني شيئا أتذكره للأبد,\\nمهما حييت.\\nقبلني.\\nأنت تعلم، عندما تكون معي,\\nلا أخاف أي شيء،\\nحتى الحرب لا أخافها،\\nأنا خائفة من الشرطة.\\n(فيرونيكا.\\n)\\nأتعلم ماذا؟\\nهل تعلم؟\\nلقد صنعت للزفاف،\\nفستان أبيض.\\nمثل الذي على جدتي.\\nو وشاح طويل.\\nو ستلبس بدلة سوداء،\\nو ستذهب إلى...\\n-إلى مكتب التسجيل .\\n-موافق إذن .\\n-موافق .\\nأتعلم، أحب هذه الإنقطاعات.\\nما الممتاز فيها؟\\nأنت!\\n(ستيفان)\\nعندي هدية لك.\\n-ما هي؟\\n-إنها سر .\\n-هل وصلت؟\\n-لقد وصلت .\\nلماذا لم تقل شيئا؟\\nأخبرني.\\nالأمور كانت غير مستتبة في المصنع!\\nالشباب ذهبوا إلى الحلاق و أنا أتيت مباشرة إليك.\\n-إختصر علي .\\n-إنتظر .\\nإذا كنت أقول, الشباب ذهبوا...\\nإسمعني، ألا يمكنك إختصار القصة؟\\n-عائلتك قلقة عليك .\\n-متى نحضر؟\\nاليوم الساعة الخامسة.\\nواحضر أشيائك معك.\\nإنظر لهذا الكرز.\\n-ما هذا؟\\n-جميل .\\nالمراقب أتى.\\nحقا؟\\nمن أجلك؟\\nنعم، ومن أجله أيضا.\\nكلانا تطوع.\\nماذا؟\\nأنت تطوعت؟\\nلكن الملاحظ أتى...\\nإنتظر، ماذا عني؟\\nمن الأفضل أن اذهب للمنزل هناك الكثير من الأعمال تنتظرني هناك.\\nيا سنجاب.\\nلم أرد أن أخبرك.\\nغدا هو يوم ميلادك.\\nيجب أن أذهب.\\nبالتأكيد.\\nيا سنجاب.\\nما خطبك؟\\nطيور الكركية كالسفن.\\nهل أعجبتك قصيدتي؟\\nلا شيء سيصيبني هل تسمعينني.\\nو عندها أنا وأنت سنعيش سويا لمدة طويلة،\\nمئة سنة.\\nإذهب.\\nسنتوادع لاحقا.\\nحسنا.\\nلا تتأخري.\\nألا يستطيع البقاء في المنزل للغد؟\\nإنه حقير (ما زال عند (فيرونيكا.\\n(بوريس)\\n-هل إتصل أبي؟\\n-نعم، إنه غاضب .\\nلماذا لم تخبرنا؟\\nلأتفادى مثل هذه اللحظات.\\nإذهب للمصنع غدا,\\nو أعط هذه ل (كوزمان)، المهندس.\\nسأفعل، سأفعل.\\nما الذي تضعه هناك؟\\nأنا أبحث عن زجاجة نبيذ.\\nجدتي، إفعلي لي معروفا.\\nفقط دقيقة.\\nهل سيرسلونك للجبهة مباشرة؟\\nربما.\\nهنا...\\nإنتظري لحظة.\\nغدا في الصباح الباكر.\\nخذي هذه لها.\\nماذا تكون؟\\nإنه عيد ميلادها غدا.\\nو لاحقا، إذا إستصعبت عليها الأمور...\\nهذه حرب...\\nساعديها.\\nوإذا مت؟\\nلا فائدة منك عندما تموتين,\\nخصوصا و أنت تعرفين كل هذا الكم من الأسرار.\\nأنا فقط وصلت و مت.\\nإصمتي.\\nتلك (فيرونيكا).\\nلا، إنها (آرينا).\\nحمدا لله، بأنك عدت للمنزل.\\n(بوريس)\\nتعال هنا.\\nما ك'"
      ]
     },
     "execution_count": 14,
     "metadata": {},
     "output_type": "execute_result"
    }
   ],
   "source": [
    "text_data"
   ]
  },
  {
   "cell_type": "code",
   "execution_count": null,
   "metadata": {},
   "outputs": [],
   "source": []
  },
  {
   "cell_type": "code",
   "execution_count": 15,
   "metadata": {},
   "outputs": [
    {
     "data": {
      "text/plain": [
       "'ترجمة: 1200 إنظري \"طيور الكركية مثل السفن،تسبح في الفضاء واحدة بيضاء،وواحدة رمادية بمناقير طويلة يحلقون\" إنظر،إنظر هنا. أنت و \"طيور الكركية مثل السفن\" خاصتك \"طيور الكركية تحلق\" من هناك؟ إنتظري. حسنا متى؟ الخميس، عند الجسر . بحقك، هذا بعيد جدا يا سنجاب نحن لم ننتهي يا سنجاب متى؟ أي وقت يوم الخميس؟ لا، لا أستطيع سأكون في المصنع حسنا. لا تتأخر يا سنجاب إنها متيمة به. وهو متيم بها أيضا. هذا هو الحب، ياعزيزتي: مرض عقلي غير مؤذي لماذا لست في سريرك بعد يا جدتي؟ (حان وقت النهوض من النوم ، يا (بوريس توقف عن الإزعاج لقد كنت تركض في كل مكان ليلة البارحة... أنت فقط غيورة. هل مزقته؟ جاكيتك ليس ممزقا ناكر الجميل الساعة الثانية عشر وهو ما زال نائما إنه مجهد من كثرة العمل دعيه على الأقل يرتاح في يوم الأحد عمله هذا سينتهي بالزفاف. أنت فقط خائفة من فقدانه. آرينا) عليها أنت تركز على نظرياتها) وليس على الزفاف (إنتبه، عم (فيديا إنها قريبة من الحصول على شهادة الدكتوراه وأنت ما تزال مجرد طبيب حسنا، إذا لم يتفوق الأطفال على والديهم، معناها بأن الوالدين سيئين و الأطفال ليسوا بأحسن حال منهم شكرا، ماما إعلان هام جدا ما الذي يحدث؟ بوريس) الحرب) هل تسمعني؟ الحرب دعني وشأني. مرحبا. بوريس) قد يقضي طوال) يومه في المصنع هل تنتظرينه؟ أنا لا أنتظر أحد. (فيرونيكا) في الحرب، من المهم أن لا تخسر رأسك. حاولي أنت تعيشي حياة عادية. مثلي... أحلم بأن أقيم حفلة بيانو من أجلك. هل ستحضرينها؟ ألن تكون مجند؟ مجند؟ لا أعرف. أشك في ذلك. و لماذا؟ الموهوبين سيعفون من التجنيد. وأنت تعتقد بأنك موهوب؟ نعم لماذا أنت دائما تتبعني؟ يجب أن تكون خجولا من نفسك. أنا خجول فعلا. وعدت نفسي ألف مرة بأني لن أكون خجولا أعرف بأن (بوريس) قريبي لكني لا أستطيع مساعدة نفسي. هل تفهمين؟ لا أستطيع. إنتظري لست بحاجة لمرافقتي. إنتبه ستؤذي ساقيك. الأمور ستكون أصعب في الجبهة، (يا عزيزي (بوريس. لن يدعوك تذهب إلى الجبهة. سيكون هناك إعفاء واحد فقط إما لي أو لك. هذا صحيح. إذا يجب أن تبقى. أنت تملك الخبرة و المعرفة. وأنت تملك شيئا أكثر أهمية... الموهبة إهتم برسماتك. أنت تعلم, زوجتي أعدت حقائبي حسنا، كما يقولون لنجهز حرابنا. (ستيفان) لو سمحت يا (ساتشكوف)، حسنا؟ أين الملاحظة؟ لا شيء بعد. أنا لا أفهم ما كل هذا البطء هل أنت ذاهب للمنزل؟ لا، أنا... حسنا، فهمت. حيها عني ماذا؟ هل أخبرتها؟ لا، و لما العجلة؟ أنت محق، أراك غدا . إنتبه لنفسك أفلتيها لن أفلتها . ستسقطين أفلتها، ستمزقين القماش. إنها بطانية . أفلتيها وإلا سأتصل بالشرطة . لقد تعبت من هذا أعطني إياها ستسقطين . لا, لن أسقط . يا سنجاب، توقفي. دعني أعلق هذه. لم تأتي إلى الجسر اليوم لكن (مارك) فعل إذا؟ إنه وسيم . إذا؟ هل تغار؟ ماذا؟ هل تغار؟ لا أملك الوقت لذلك . سيء جدا. أعتقد بأني سأسجل في معهد الهندسة المعمارية. لن يقبلوك . كلا، سيفعلوا . أشك في ذلك, طيور الكركية كالسفن. تبحر في السماء. واحدة بيضاء، والأخرى رمادية. بمناقير طويلة يطيرون. هل تعجبك أغنيتي؟ عميقة جدا. أيها الضفدع الصغير. لماذا لا تنظر للأعلى؟ أن لا تتوقف عن القفز و الأمل. لذلك تؤكل. مأكول حسنا يا بطلة, هل فزت؟ لقد فزت، لقد فزت. لقد فزت.. هل تعتقد بأنك ستجند؟ بالتأكيد . هل ستتطوع؟ ربما . كلا , لن تفعل أنت تعرف جيدا بأنك ستعفى من التجنيد لذلك تتكلم هكذا. وما الذي يجعلك متأكدة لهذه الدرجة؟ أعرف . كل الأذكياء سيعفون من التجنيد. إذا فقط الأغبياء سيقاتلون؟ لا أريد مناقشة الأمر أكثر من ذلك. فيرونيكا)... ) أريد أن أتحدث معك عن شيء. حسنا، أنا لا أريد. (و من فضلك، لا تناديني (فيرونيكا. من أنا؟ سنجاب . صحيح . إسمعي. ما الذي ستعطيني إياه غدا؟ إنه سر. إذا كان صالحا للأكل سأكله و أنساه، أعطني شيئا أتذكره للأبد, مهما حييت. قبلني. أنت تعلم، عندما تكون معي, لا أخاف أي شيء، حتى الحرب لا أخافها، أنا خائفة من الشرطة. (فيرونيكا. ) أتعلم ماذا؟ هل تعلم؟ لقد صنعت للزفاف، فستان أبيض. مثل الذي على جدتي. و وشاح طويل. و ستلبس بدلة سوداء، و ستذهب إلى... إلى مكتب التسجيل . موافق إذن . موافق . أتعلم، أحب هذه الإنقطاعات. ما الممتاز فيها؟ أنت (ستيفان) عندي هدية لك. ما هي؟ إنها سر . هل وصلت؟ لقد وصلت . لماذا لم تقل شيئا؟ أخبرني. الأمور كانت غير مستتبة في المصنع الشباب ذهبوا إلى الحلاق و أنا أتيت مباشرة إليك. إختصر علي . إنتظر . إذا كنت أقول, الشباب ذهبوا... إسمعني، ألا يمكنك إختصار القصة؟ عائلتك قلقة عليك . متى نحضر؟ اليوم الساعة الخامسة. واحضر أشيائك معك. إنظر لهذا الكرز. ما هذا؟ جميل . المراقب أتى. حقا؟ من أجلك؟ نعم، ومن أجله أيضا. كلانا تطوع. ماذا؟ أنت تطوعت؟ لكن الملاحظ أتى... إنتظر، ماذا عني؟ من الأفضل أن اذهب للمنزل هناك الكثير من الأعمال تنتظرني هناك. يا سنجاب. لم أرد أن أخبرك. غدا هو يوم ميلادك. يجب أن أذهب. بالتأكيد. يا سنجاب. ما خطبك؟ طيور الكركية كالسفن. هل أعجبتك قصيدتي؟ لا شيء سيصيبني هل تسمعينني. و عندها أنا وأنت سنعيش سويا لمدة طويلة، مئة سنة. إذهب. سنتوادع لاحقا. حسنا. لا تتأخري. ألا يستطيع البقاء في المنزل للغد؟ إنه حقير (ما زال عند (فيرونيكا. (بوريس) هل إتصل أبي؟ نعم، إنه غاضب . لماذا لم تخبرنا؟ لأتفادى مثل هذه اللحظات. إذهب للمصنع غدا, و أعط هذه ل (كوزمان)، المهندس. سأفعل، سأفعل. ما الذي تضعه هناك؟ أنا أبحث عن زجاجة نبيذ. جدتي، إفعلي لي معروفا. فقط دقيقة. هل سيرسلونك للجبهة مباشرة؟ ربما. هنا... إنتظري لحظة. غدا في الصباح الباكر. خذي هذه لها. ماذا تكون؟ إنه عيد ميلادها غدا. و لاحقا، إذا إستصعبت عليها الأمور... هذه حرب... ساعديها. وإذا مت؟ لا فائدة منك عندما تموتين, خصوصا و أنت تعرفين كل هذا الكم من الأسرار. أنا فقط وصلت و مت. إصمتي. تلك (فيرونيكا). لا، إنها (آرينا). حمدا لله، بأنك عدت للمنزل. (بوريس) تعال هنا. ما ك'"
      ]
     },
     "execution_count": 15,
     "metadata": {},
     "output_type": "execute_result"
    }
   ],
   "source": [
    "custom_character(text_data, ar2)"
   ]
  },
  {
   "cell_type": "code",
   "execution_count": null,
   "metadata": {},
   "outputs": [],
   "source": []
  },
  {
   "cell_type": "code",
   "execution_count": null,
   "metadata": {},
   "outputs": [],
   "source": []
  },
  {
   "cell_type": "code",
   "execution_count": 61,
   "metadata": {},
   "outputs": [],
   "source": [
    "test_text = \"،\\nو ستذهب إلى...\\n-إلى مكتب التسجيل .\\n-موافق إذن .\\n-موافق .\\nأتعلم، أحب هذه الإنقطا\""
   ]
  },
  {
   "cell_type": "code",
   "execution_count": 62,
   "metadata": {},
   "outputs": [
    {
     "data": {
      "text/plain": [
       "['،',\n",
       " 'و',\n",
       " 'ستذهب',\n",
       " 'إلى...',\n",
       " 'إلى',\n",
       " 'مكتب',\n",
       " 'التسجيل',\n",
       " '.',\n",
       " 'موافق',\n",
       " 'إذن',\n",
       " '.',\n",
       " 'موافق',\n",
       " '.',\n",
       " 'أتعلم،',\n",
       " 'أحب',\n",
       " 'هذه',\n",
       " 'الإنقطا']"
      ]
     },
     "execution_count": 62,
     "metadata": {},
     "output_type": "execute_result"
    }
   ],
   "source": [
    "re.findall(ar2, test_text)"
   ]
  },
  {
   "cell_type": "code",
   "execution_count": null,
   "metadata": {},
   "outputs": [],
   "source": []
  },
  {
   "cell_type": "code",
   "execution_count": 7,
   "metadata": {},
   "outputs": [],
   "source": [
    "def custom_character(text_data, custom_alp): # custom_character(text_data, tr)\n",
    "    text_data2 = re.findall(custom_alp, text_data)\n",
    "    text_data3 = \" \".join(text_data2) # with one whitespace\n",
    "    \n",
    "    return text_data3  "
   ]
  },
  {
   "cell_type": "code",
   "execution_count": null,
   "metadata": {},
   "outputs": [],
   "source": [
    "def english_edit(text): # english_edit(text)\n",
    "    not_case_sens1 = re.compile(re.escape(\"can\\'t\"), re.IGNORECASE)\n",
    "    text = not_case_sens1.sub(\"can not\", text)\n",
    "    \n",
    "    not_case_sens2 = re.compile(re.escape(\"won\\'t\"), re.IGNORECASE)\n",
    "    text2 = not_case_sens2.sub(\"will not\", text)\n",
    "    \n",
    "    not_case_sens3 = re.compile(re.escape(\"n\\'t\"), re.IGNORECASE)\n",
    "    text3 = not_case_sens3.sub(\" not\", text2)\n",
    "    \n",
    "    not_case_sens4 = re.compile(re.escape(\"\\'ll\"), re.IGNORECASE)\n",
    "    text4 = not_case_sens4.sub(\" will\", text3)\n",
    "    \n",
    "    not_case_sens5 = re.compile(re.escape(\"\\'m\"), re.IGNORECASE)\n",
    "    text5 = not_case_sens5.sub(\" am\", text4)\n",
    "    \n",
    "    not_case_sens6 = re.compile(re.escape(\"\\'ve\"), re.IGNORECASE) # 'd, 's, 're\n",
    "    text6 = not_case_sens6.sub(\" have\", text5)\n",
    "    \n",
    "    not_case_sens7 = re.compile(re.escape(\"\\'\"), re.IGNORECASE)\n",
    "    text7 = not_case_sens7.sub(\" \\'\", text6)\n",
    "    \n",
    "    return text7"
   ]
  },
  {
   "cell_type": "code",
   "execution_count": null,
   "metadata": {},
   "outputs": [],
   "source": [
    "text_name = \"en\"\n",
    "custom_alp = en"
   ]
  },
  {
   "cell_type": "code",
   "execution_count": null,
   "metadata": {},
   "outputs": [],
   "source": [
    "def part_1():  \n",
    "  part1_num = 1\n",
    "  try:\n",
    "    with open(f\"/home/ubuntu/Workspace/{text_name}{part1_num}.txt\", \"r\", encoding=\"utf-8\", errors=\"ignore\") as file:\n",
    "      text_data = file.read()\n",
    "  except:\n",
    "    print(\"There is not such a file  or path is incorrect\")\n",
    "    \n",
    "  if text_name == \"en\":\n",
    "    text = english_edit(text_data) # english edit text\n",
    "    text_result = custom_character(text, custom_alp) # custom character alphabet\n",
    "  else:\n",
    "    apostro = re.compile(re.escape(\"\\'\"), re.IGNORECASE)\n",
    "    text = apostro.sub(\" \\'\", text_data)\n",
    "    text_result = custom_character(text, custom_alp) # custom character alphabet\n",
    "\n",
    "  with open(f\"{text_name}{part1_num}.txt\", \"w\", encoding=\"utf-8\") as file:\n",
    "    file.write(text_result)  \n",
    "  "
   ]
  },
  {
   "cell_type": "code",
   "execution_count": null,
   "metadata": {},
   "outputs": [],
   "source": [
    "def part_2():  \n",
    "  part2_num = 2\n",
    "  try:\n",
    "    with open(f\"/home/ubuntu/Workspace/{text_name}{part2_num}.txt\", \"r\", encoding=\"utf-8\", errors=\"ignore\") as file:\n",
    "      text_data = file.read()\n",
    "  except:\n",
    "    print(\"There is not such a file  or path is incorrect\")\n",
    "  \n",
    "  if text_name == \"en\":\n",
    "    text = english_edit(text_data) # english edit text\n",
    "    text_result = custom_character(text, custom_alp) # custom character alphabet\n",
    "  else:\n",
    "    apostro = re.compile(re.escape(\"\\'\"), re.IGNORECASE)\n",
    "    text = apostro.sub(\" \\'\", text_data)\n",
    "    text_result = custom_character(text, custom_alp) # custom character alphabet\n",
    "\n",
    "  with open(f\"{text_name}{part2_num}.txt\", \"w\", encoding=\"utf-8\") as file:\n",
    "    file.write(text_result)"
   ]
  },
  {
   "cell_type": "code",
   "execution_count": null,
   "metadata": {},
   "outputs": [],
   "source": [
    "def part_3():  \n",
    "  part3_num = 3\n",
    "  try:\n",
    "    with open(f\"/home/ubuntu/Workspace/{text_name}{part3_num}.txt\", \"r\", encoding=\"utf-8\", errors=\"ignore\") as file:\n",
    "      text_data = file.read()\n",
    "  except:\n",
    "    print(\"There is not such a file  or path is incorrect\")\n",
    "  \n",
    "  if text_name == \"en\":\n",
    "    text = english_edit(text_data) # english edit text\n",
    "    text_result = custom_character(text, custom_alp) # custom character alphabet\n",
    "  else:\n",
    "    apostro = re.compile(re.escape(\"\\'\"), re.IGNORECASE)\n",
    "    text = apostro.sub(\" \\'\", text_data)\n",
    "    text_result = custom_character(text, custom_alp) # custom character alphabet\n",
    "\n",
    "  with open(f\"{text_name}{part3_num}.txt\", \"w\", encoding=\"utf-8\") as file:\n",
    "    file.write(text_result)"
   ]
  },
  {
   "cell_type": "code",
   "execution_count": null,
   "metadata": {},
   "outputs": [],
   "source": [
    "def part_4():  \n",
    "  part4_num = 4\n",
    "  try:\n",
    "    with open(f\"/home/ubuntu/Workspace/{text_name}{part4_num}.txt\", \"r\", encoding=\"utf-8\", errors=\"ignore\") as file:\n",
    "      text_data = file.read()\n",
    "  except:\n",
    "    print(\"There is not such a file  or path is incorrect\")\n",
    "  \n",
    "  if text_name == \"en\":\n",
    "    text = english_edit(text_data) # english edit text\n",
    "    text_result = custom_character(text, custom_alp) # custom character alphabet\n",
    "  else:\n",
    "    apostro = re.compile(re.escape(\"\\'\"), re.IGNORECASE)\n",
    "    text = apostro.sub(\" \\'\", text_data)\n",
    "    text_result = custom_character(text, custom_alp) # custom character alphabet\n",
    "\n",
    "  with open(f\"{text_name}{part4_num}.txt\", \"w\", encoding=\"utf-8\") as file:\n",
    "    file.write(text_result)"
   ]
  },
  {
   "cell_type": "code",
   "execution_count": null,
   "metadata": {},
   "outputs": [],
   "source": [
    "def part_5():  \n",
    "  part5_num = 5\n",
    "  try:\n",
    "    with open(f\"/home/ubuntu/Workspace/{text_name}{part5_num}.txt\", \"r\", encoding=\"utf-8\", errors=\"ignore\") as file:\n",
    "      text_data = file.read()\n",
    "  except:\n",
    "    print(\"There is not such a file  or path is incorrect\")\n",
    "  \n",
    "  if text_name == \"en\":\n",
    "    text = english_edit(text_data) # english edit text\n",
    "    text_result = custom_character(text, custom_alp) # custom character alphabet\n",
    "  else:\n",
    "    apostro = re.compile(re.escape(\"\\'\"), re.IGNORECASE)\n",
    "    text = apostro.sub(\" \\'\", text_data)\n",
    "    text_result = custom_character(text, custom_alp) # custom character alphabet\n",
    "  \n",
    "  with open(f\"{text_name}{part5_num}.txt\", \"w\", encoding=\"utf-8\") as file:\n",
    "    file.write(text_result)"
   ]
  },
  {
   "cell_type": "code",
   "execution_count": null,
   "metadata": {},
   "outputs": [],
   "source": [
    "if __name__ == '__main__':\n",
    "    p1 = Process(target=part_1,)\n",
    "    p2 = Process(target=part_2,)\n",
    "    p3 = Process(target=part_3,)\n",
    "    p4 = Process(target=part_4,)\n",
    "    p5 = Process(target=part_5,)\n",
    "    \n",
    "    p1.start()\n",
    "    p2.start()\n",
    "    p3.start()\n",
    "    p4.start()\n",
    "    p5.start()\n",
    "    \n",
    "    p1.join()\n",
    "    p2.join()\n",
    "    p3.join()\n",
    "    p4.join()\n",
    "    p5.join()"
   ]
  },
  {
   "cell_type": "code",
   "execution_count": null,
   "metadata": {},
   "outputs": [],
   "source": []
  },
  {
   "cell_type": "code",
   "execution_count": null,
   "metadata": {},
   "outputs": [],
   "source": []
  }
 ],
 "metadata": {
  "interpreter": {
   "hash": "651d507d70892fab0fc6529d935cd476f6e2eb1791525b76da6cc8da34bc0503"
  },
  "kernelspec": {
   "display_name": "Python 3.9.5 64-bit ('py39': conda)",
   "language": "python",
   "name": "python3"
  },
  "language_info": {
   "codemirror_mode": {
    "name": "ipython",
    "version": 3
   },
   "file_extension": ".py",
   "mimetype": "text/x-python",
   "name": "python",
   "nbconvert_exporter": "python",
   "pygments_lexer": "ipython3",
   "version": "3.9.5"
  },
  "orig_nbformat": 4
 },
 "nbformat": 4,
 "nbformat_minor": 2
}
