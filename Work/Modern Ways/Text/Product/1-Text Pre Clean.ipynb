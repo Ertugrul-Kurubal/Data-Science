{
 "cells": [
  {
   "cell_type": "markdown",
   "metadata": {},
   "source": [
    "### Text Optimization"
   ]
  },
  {
   "cell_type": "code",
   "execution_count": 1,
   "metadata": {},
   "outputs": [],
   "source": [
    "import pandas as pd\n",
    "import numpy as np\n",
    "import re\n",
    "import nltk\n",
    "from nltk.corpus import stopwords"
   ]
  },
  {
   "cell_type": "code",
   "execution_count": null,
   "metadata": {},
   "outputs": [],
   "source": [
    "en = re.compile(r\"[abcdefghıijklmnoprstxuvwyz0123456789\\.\\?\\{\\}\\[\\]\\(\\),:;!'\\\"\\$`]+\", re.IGNORECASE|re.UNICODE) # filters='!\"#$%&()*+,-./:;<=>?@[\\\\]^_`{|}~\\t\\n0123456789'"
   ]
  },
  {
   "cell_type": "code",
   "execution_count": null,
   "metadata": {},
   "outputs": [],
   "source": [
    "text_name = \"en\""
   ]
  },
  {
   "cell_type": "code",
   "execution_count": null,
   "metadata": {},
   "outputs": [],
   "source": [
    "try:\n",
    "  with open(f\"/media/kurubal/SSD/Data Scientist/Work/Modern Ways/Project/English/Data/Text/{text_name}.txt\", \"r\", encoding=\"utf-8\") as file:\n",
    "    text_data = file.read(50000)\n",
    "except:\n",
    "  print(\"There is not such a file  or path is incorrect\")"
   ]
  },
  {
   "cell_type": "code",
   "execution_count": null,
   "metadata": {},
   "outputs": [],
   "source": [
    "#text_data"
   ]
  },
  {
   "cell_type": "code",
   "execution_count": null,
   "metadata": {},
   "outputs": [],
   "source": [
    "text_data2 = re.findall(en, text_data)"
   ]
  },
  {
   "cell_type": "code",
   "execution_count": null,
   "metadata": {},
   "outputs": [],
   "source": [
    "text_data3 = \" \".join(text_data2)"
   ]
  },
  {
   "cell_type": "code",
   "execution_count": null,
   "metadata": {},
   "outputs": [],
   "source": [
    "not_case_sens1 = re.compile(re.escape(\"can\\'t\"), re.IGNORECASE)\n",
    "text = not_case_sens1.sub(\"can not\", text_data3)\n",
    "text    "
   ]
  },
  {
   "cell_type": "code",
   "execution_count": null,
   "metadata": {},
   "outputs": [],
   "source": [
    "not_case_sens2 = re.compile(re.escape(\"won\\'t\"), re.IGNORECASE)\n",
    "text2 = not_case_sens2.sub(\"will not\", text)\n",
    "text2  "
   ]
  },
  {
   "cell_type": "code",
   "execution_count": null,
   "metadata": {},
   "outputs": [],
   "source": [
    "not_case_sens3 = re.compile(re.escape(\"n\\'t\"), re.IGNORECASE)\n",
    "text3 = not_case_sens3.sub(\" not\", text2)\n",
    "text3 "
   ]
  },
  {
   "cell_type": "code",
   "execution_count": null,
   "metadata": {},
   "outputs": [],
   "source": [
    "not_case_sens4 = re.compile(re.escape(\"\\'ll\"), re.IGNORECASE)\n",
    "text4 = not_case_sens4.sub(\" will\", text3)\n",
    "text4 "
   ]
  },
  {
   "cell_type": "code",
   "execution_count": null,
   "metadata": {},
   "outputs": [],
   "source": [
    "not_case_sens5 = re.compile(re.escape(\"\\'m\"), re.IGNORECASE)\n",
    "text5 = not_case_sens5.sub(\" am\", text4)\n",
    "text5 "
   ]
  },
  {
   "cell_type": "code",
   "execution_count": null,
   "metadata": {},
   "outputs": [],
   "source": [
    "not_case_sens6 = re.compile(re.escape(\"\\'ve\"), re.IGNORECASE) # 'd, 's, 're\n",
    "text6 = not_case_sens6.sub(\" have\", text5)\n",
    "text6 "
   ]
  },
  {
   "cell_type": "code",
   "execution_count": null,
   "metadata": {},
   "outputs": [],
   "source": [
    "not_case_sens7 = re.compile(re.escape(\"\\'\"), re.IGNORECASE)\n",
    "text7 = not_case_sens7.sub(\" \\'\", text6)\n",
    "text7 "
   ]
  },
  {
   "cell_type": "code",
   "execution_count": null,
   "metadata": {},
   "outputs": [],
   "source": [
    "with open(f\"{text_name}.txt\", \"w\", encoding=\"utf-8\") as file:\n",
    "    file.write(text7)"
   ]
  },
  {
   "cell_type": "code",
   "execution_count": null,
   "metadata": {},
   "outputs": [],
   "source": []
  },
  {
   "cell_type": "markdown",
   "metadata": {},
   "source": [
    "#### Multi Processing Text Preprocess"
   ]
  },
  {
   "cell_type": "code",
   "execution_count": null,
   "metadata": {},
   "outputs": [],
   "source": [
    "import numpy as np\n",
    "import pandas as pd\n",
    "import re"
   ]
  },
  {
   "cell_type": "code",
   "execution_count": null,
   "metadata": {},
   "outputs": [],
   "source": [
    "import os\n",
    "import multiprocessing\n",
    "#import multiprocessing as mp\n",
    "from multiprocessing import Process, Manager, Pool, Queue\n",
    "from itertools import islice"
   ]
  },
  {
   "cell_type": "code",
   "execution_count": null,
   "metadata": {},
   "outputs": [],
   "source": [
    "help(multiprocessing)"
   ]
  },
  {
   "cell_type": "code",
   "execution_count": null,
   "metadata": {},
   "outputs": [],
   "source": [
    "nprocs = multiprocessing.cpu_count()\n",
    "print(f\"Number of CPU cores: {nprocs}\")"
   ]
  },
  {
   "cell_type": "code",
   "execution_count": 2,
   "metadata": {},
   "outputs": [],
   "source": [
    "# custom character alphabet \n",
    "tr = re.compile(r\"[abcçdefgğhıijklmnoöprsştxuüvwyz0123456789\\.\\?\\{\\}\\[\\]\\(\\),:;!'\\\"\\$`]+\", re.IGNORECASE|re.UNICODE) # filters='!\"#$%&()*+,-./:;<=>?@[\\\\]^_`{|}~\\t\\n0123456789'\n",
    "en = re.compile(r\"[abcdefghıijklmnopqrstxuvwyz0123456789\\.\\?\\{\\}\\[\\]\\(\\),:;!'\\\"\\$`]+\", re.IGNORECASE|re.UNICODE)\n",
    "nl = re.compile(r\"[abcdefghıijklmnopqrstxuvwyzāăēĕīĭōŏūŭ0123456789\\.\\?\\{\\}\\[\\]\\(\\),:;!'\\\"\\$`]+\", re.IGNORECASE|re.UNICODE) \n",
    "fr = re.compile(r\"[abcçdefghıijklmnopqrstxuvwyzàâæèéêëîïôœùûüÿ0123456789\\.\\?\\{\\}\\[\\]\\(\\),:;!'\\\"\\$`]+\", re.IGNORECASE|re.UNICODE)"
   ]
  },
  {
   "cell_type": "code",
   "execution_count": 3,
   "metadata": {},
   "outputs": [],
   "source": [
    "def custom_character(text_data, custom_alp): # custom_character(text_data, tr)\n",
    "    text_data2 = re.findall(custom_alp, text_data)\n",
    "    text_data3 = \" \".join(text_data2) # with one whitespace\n",
    "    \n",
    "    return text_data3  "
   ]
  },
  {
   "cell_type": "code",
   "execution_count": null,
   "metadata": {},
   "outputs": [],
   "source": [
    "def english_edit(text): # english_edit(text)\n",
    "    not_case_sens1 = re.compile(re.escape(\"can\\'t\"), re.IGNORECASE)\n",
    "    text = not_case_sens1.sub(\"can not\", text)\n",
    "    \n",
    "    not_case_sens2 = re.compile(re.escape(\"won\\'t\"), re.IGNORECASE)\n",
    "    text2 = not_case_sens2.sub(\"will not\", text)\n",
    "    \n",
    "    not_case_sens3 = re.compile(re.escape(\"n\\'t\"), re.IGNORECASE)\n",
    "    text3 = not_case_sens3.sub(\" not\", text2)\n",
    "    \n",
    "    not_case_sens4 = re.compile(re.escape(\"\\'ll\"), re.IGNORECASE)\n",
    "    text4 = not_case_sens4.sub(\" will\", text3)\n",
    "    \n",
    "    not_case_sens5 = re.compile(re.escape(\"\\'m\"), re.IGNORECASE)\n",
    "    text5 = not_case_sens5.sub(\" am\", text4)\n",
    "    \n",
    "    not_case_sens6 = re.compile(re.escape(\"\\'ve\"), re.IGNORECASE) # 'd, 's, 're\n",
    "    text6 = not_case_sens6.sub(\" have\", text5)\n",
    "    \n",
    "    not_case_sens7 = re.compile(re.escape(\"\\'\"), re.IGNORECASE)\n",
    "    text7 = not_case_sens7.sub(\" \\'\", text6)\n",
    "    \n",
    "    return text7"
   ]
  },
  {
   "cell_type": "code",
   "execution_count": null,
   "metadata": {},
   "outputs": [],
   "source": [
    "text_name = \"en\"\n",
    "custom_alp = en"
   ]
  },
  {
   "cell_type": "code",
   "execution_count": null,
   "metadata": {},
   "outputs": [],
   "source": [
    "def part_1():  \n",
    "  part1_num = 1\n",
    "  try:\n",
    "    with open(f\"/home/ubuntu/Workspace/{text_name}{part1_num}.txt\", \"r\", encoding=\"utf-8\") as file:\n",
    "      text_data = file.read()\n",
    "  except:\n",
    "    print(\"There is not such a file  or path is incorrect\")\n",
    "    \n",
    "  if text_name == \"en\":\n",
    "    text = english_edit(text_data) # english edit text\n",
    "    text_result = custom_character(text, custom_alp) # custom character alphabet\n",
    "  else:\n",
    "    apostro = re.compile(re.escape(\"\\'\"), re.IGNORECASE)\n",
    "    text = apostro.sub(\" \\'\", text_data)\n",
    "    text_result = custom_character(text, custom_alp) # custom character alphabet\n",
    "\n",
    "  with open(f\"{text_name}{part1_num}.txt\", \"w\", encoding=\"utf-8\") as file:\n",
    "    file.write(text_result)  \n",
    "  "
   ]
  },
  {
   "cell_type": "code",
   "execution_count": null,
   "metadata": {},
   "outputs": [],
   "source": [
    "def part_2():  \n",
    "  part2_num = 2\n",
    "  try:\n",
    "    with open(f\"/home/ubuntu/Workspace/{text_name}{part2_num}.txt\", \"r\", encoding=\"utf-8\") as file:\n",
    "      text_data = file.read()\n",
    "  except:\n",
    "    print(\"There is not such a file  or path is incorrect\")\n",
    "  \n",
    "  if text_name == \"en\":\n",
    "    text = english_edit(text_data) # english edit text\n",
    "    text_result = custom_character(text, custom_alp) # custom character alphabet\n",
    "  else:\n",
    "    apostro = re.compile(re.escape(\"\\'\"), re.IGNORECASE)\n",
    "    text = apostro.sub(\" \\'\", text_data)\n",
    "    text_result = custom_character(text, custom_alp) # custom character alphabet\n",
    "\n",
    "  with open(f\"{text_name}{part2_num}.txt\", \"w\", encoding=\"utf-8\") as file:\n",
    "    file.write(text_result)"
   ]
  },
  {
   "cell_type": "code",
   "execution_count": null,
   "metadata": {},
   "outputs": [],
   "source": [
    "def part_3():  \n",
    "  part3_num = 3\n",
    "  try:\n",
    "    with open(f\"/home/ubuntu/Workspace/{text_name}{part3_num}.txt\", \"r\", encoding=\"utf-8\") as file:\n",
    "      text_data = file.read()\n",
    "  except:\n",
    "    print(\"There is not such a file  or path is incorrect\")\n",
    "  \n",
    "  if text_name == \"en\":\n",
    "    text = english_edit(text_data) # english edit text\n",
    "    text_result = custom_character(text, custom_alp) # custom character alphabet\n",
    "  else:\n",
    "    apostro = re.compile(re.escape(\"\\'\"), re.IGNORECASE)\n",
    "    text = apostro.sub(\" \\'\", text_data)\n",
    "    text_result = custom_character(text, custom_alp) # custom character alphabet\n",
    "\n",
    "  with open(f\"{text_name}{part3_num}.txt\", \"w\", encoding=\"utf-8\") as file:\n",
    "    file.write(text_result)"
   ]
  },
  {
   "cell_type": "code",
   "execution_count": null,
   "metadata": {},
   "outputs": [],
   "source": [
    "def part_4():  \n",
    "  part4_num = 4\n",
    "  try:\n",
    "    with open(f\"/home/ubuntu/Workspace/{text_name}{part4_num}.txt\", \"r\", encoding=\"utf-8\") as file:\n",
    "      text_data = file.read()\n",
    "  except:\n",
    "    print(\"There is not such a file  or path is incorrect\")\n",
    "  \n",
    "  if text_name == \"en\":\n",
    "    text = english_edit(text_data) # english edit text\n",
    "    text_result = custom_character(text, custom_alp) # custom character alphabet\n",
    "  else:\n",
    "    apostro = re.compile(re.escape(\"\\'\"), re.IGNORECASE)\n",
    "    text = apostro.sub(\" \\'\", text_data)\n",
    "    text_result = custom_character(text, custom_alp) # custom character alphabet\n",
    "\n",
    "  with open(f\"{text_name}{part4_num}.txt\", \"w\", encoding=\"utf-8\") as file:\n",
    "    file.write(text_result)"
   ]
  },
  {
   "cell_type": "code",
   "execution_count": null,
   "metadata": {},
   "outputs": [],
   "source": [
    "def part_5():  \n",
    "  part5_num = 5\n",
    "  try:\n",
    "    with open(f\"/home/ubuntu/Workspace/{text_name}{part5_num}.txt\", \"r\", encoding=\"utf-8\") as file:\n",
    "      text_data = file.read()\n",
    "  except:\n",
    "    print(\"There is not such a file  or path is incorrect\")\n",
    "  \n",
    "  if text_name == \"en\":\n",
    "    text = english_edit(text_data) # english edit text\n",
    "    text_result = custom_character(text, custom_alp) # custom character alphabet\n",
    "  else:\n",
    "    apostro = re.compile(re.escape(\"\\'\"), re.IGNORECASE)\n",
    "    text = apostro.sub(\" \\'\", text_data)\n",
    "    text_result = custom_character(text, custom_alp) # custom character alphabet\n",
    "  \n",
    "  with open(f\"{text_name}{part5_num}.txt\", \"w\", encoding=\"utf-8\") as file:\n",
    "    file.write(text_result)"
   ]
  },
  {
   "cell_type": "code",
   "execution_count": null,
   "metadata": {},
   "outputs": [],
   "source": [
    "if __name__ == '__main__':\n",
    "    p1 = Process(target=part_1,)\n",
    "    p2 = Process(target=part_2,)\n",
    "    p3 = Process(target=part_3,)\n",
    "    p4 = Process(target=part_4,)\n",
    "    p5 = Process(target=part_5,)\n",
    "    \n",
    "    p1.start()\n",
    "    p2.start()\n",
    "    p3.start()\n",
    "    p4.start()\n",
    "    p5.start()\n",
    "    \n",
    "    p1.join()\n",
    "    p2.join()\n",
    "    p3.join()\n",
    "    p4.join()\n",
    "    p5.join()"
   ]
  },
  {
   "cell_type": "code",
   "execution_count": null,
   "metadata": {},
   "outputs": [],
   "source": []
  },
  {
   "cell_type": "code",
   "execution_count": null,
   "metadata": {},
   "outputs": [],
   "source": []
  }
 ],
 "metadata": {
  "interpreter": {
   "hash": "651d507d70892fab0fc6529d935cd476f6e2eb1791525b76da6cc8da34bc0503"
  },
  "kernelspec": {
   "display_name": "Python 3.9.5 64-bit ('py39': conda)",
   "language": "python",
   "name": "python3"
  },
  "language_info": {
   "codemirror_mode": {
    "name": "ipython",
    "version": 3
   },
   "file_extension": ".py",
   "mimetype": "text/x-python",
   "name": "python",
   "nbconvert_exporter": "python",
   "pygments_lexer": "ipython3",
   "version": "3.9.5"
  },
  "orig_nbformat": 4
 },
 "nbformat": 4,
 "nbformat_minor": 2
}
