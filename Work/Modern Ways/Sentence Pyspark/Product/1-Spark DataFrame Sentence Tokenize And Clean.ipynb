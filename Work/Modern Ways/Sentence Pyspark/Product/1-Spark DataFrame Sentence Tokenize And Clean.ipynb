{
 "cells": [
  {
   "cell_type": "markdown",
   "metadata": {},
   "source": [
    "### Spark Sentence Detector"
   ]
  },
  {
   "cell_type": "code",
   "execution_count": 113,
   "metadata": {},
   "outputs": [],
   "source": [
    "from pyspark.ml import PipelineModel\n",
    "from sparknlp.annotator import *\n",
    "from sparknlp.base import *\n",
    "import sparknlp\n",
    "from pyspark.ml import Pipeline\n",
    "import pandas as pd\n",
    "import re\n",
    "import nltk\n",
    "from nltk import word_tokenize\n",
    "#pd.set_option(\"display.max_colwidth\", 0)"
   ]
  },
  {
   "cell_type": "code",
   "execution_count": 3,
   "metadata": {},
   "outputs": [],
   "source": [
    "from pyspark.sql import SparkSession"
   ]
  },
  {
   "cell_type": "code",
   "execution_count": 4,
   "metadata": {},
   "outputs": [
    {
     "name": "stderr",
     "output_type": "stream",
     "text": [
      "21/12/15 09:34:53 WARN Utils: Your hostname, kurubal resolves to a loopback address: 127.0.1.1; using 192.168.1.37 instead (on interface enp6s0)\n",
      "21/12/15 09:34:53 WARN Utils: Set SPARK_LOCAL_IP if you need to bind to another address\n",
      "WARNING: An illegal reflective access operation has occurred\n",
      "WARNING: Illegal reflective access by org.apache.spark.unsafe.Platform (file:/home/kurubal/anaconda3/envs/pyspark_env/lib/python3.9/site-packages/pyspark/jars/spark-unsafe_2.12-3.1.2.jar) to constructor java.nio.DirectByteBuffer(long,int)\n",
      "WARNING: Please consider reporting this to the maintainers of org.apache.spark.unsafe.Platform\n",
      "WARNING: Use --illegal-access=warn to enable warnings of further illegal reflective access operations\n",
      "WARNING: All illegal access operations will be denied in a future release\n"
     ]
    },
    {
     "name": "stdout",
     "output_type": "stream",
     "text": [
      ":: loading settings :: url = jar:file:/home/kurubal/anaconda3/envs/pyspark_env/lib/python3.9/site-packages/pyspark/jars/ivy-2.4.0.jar!/org/apache/ivy/core/settings/ivysettings.xml\n"
     ]
    },
    {
     "name": "stderr",
     "output_type": "stream",
     "text": [
      "Ivy Default Cache set to: /home/kurubal/.ivy2/cache\n",
      "The jars for the packages stored in: /home/kurubal/.ivy2/jars\n",
      "com.johnsnowlabs.nlp#spark-nlp_2.12 added as a dependency\n",
      ":: resolving dependencies :: org.apache.spark#spark-submit-parent-8d039868-9328-4a2d-97ce-602732a1936b;1.0\n",
      "\tconfs: [default]\n",
      "\tfound com.johnsnowlabs.nlp#spark-nlp_2.12;3.3.2 in central\n",
      "\tfound com.typesafe#config;1.4.1 in central\n",
      "\tfound org.rocksdb#rocksdbjni;6.5.3 in central\n",
      "\tfound com.amazonaws#aws-java-sdk-bundle;1.11.603 in central\n",
      "\tfound com.github.universal-automata#liblevenshtein;3.0.0 in central\n",
      "\tfound com.google.code.findbugs#annotations;3.0.1 in central\n",
      "\tfound net.jcip#jcip-annotations;1.0 in central\n",
      "\tfound com.google.code.findbugs#jsr305;3.0.1 in central\n",
      "\tfound com.google.protobuf#protobuf-java-util;3.0.0-beta-3 in central\n",
      "\tfound com.google.protobuf#protobuf-java;3.0.0-beta-3 in central\n",
      "\tfound com.google.code.gson#gson;2.3 in central\n",
      "\tfound it.unimi.dsi#fastutil;7.0.12 in central\n",
      "\tfound org.projectlombok#lombok;1.16.8 in central\n",
      "\tfound org.slf4j#slf4j-api;1.7.21 in central\n",
      "\tfound com.navigamez#greex;1.0 in central\n",
      "\tfound dk.brics.automaton#automaton;1.11-8 in central\n",
      "\tfound org.json4s#json4s-ext_2.12;3.5.3 in central\n",
      "\tfound joda-time#joda-time;2.9.5 in central\n",
      "\tfound org.joda#joda-convert;1.8.1 in central\n",
      "\tfound com.johnsnowlabs.nlp#tensorflow-cpu_2.12;0.3.3 in central\n",
      "\tfound net.sf.trove4j#trove4j;3.0.3 in central\n",
      ":: resolution report :: resolve 314ms :: artifacts dl 9ms\n",
      "\t:: modules in use:\n",
      "\tcom.amazonaws#aws-java-sdk-bundle;1.11.603 from central in [default]\n",
      "\tcom.github.universal-automata#liblevenshtein;3.0.0 from central in [default]\n",
      "\tcom.google.code.findbugs#annotations;3.0.1 from central in [default]\n",
      "\tcom.google.code.findbugs#jsr305;3.0.1 from central in [default]\n",
      "\tcom.google.code.gson#gson;2.3 from central in [default]\n",
      "\tcom.google.protobuf#protobuf-java;3.0.0-beta-3 from central in [default]\n",
      "\tcom.google.protobuf#protobuf-java-util;3.0.0-beta-3 from central in [default]\n",
      "\tcom.johnsnowlabs.nlp#spark-nlp_2.12;3.3.2 from central in [default]\n",
      "\tcom.johnsnowlabs.nlp#tensorflow-cpu_2.12;0.3.3 from central in [default]\n",
      "\tcom.navigamez#greex;1.0 from central in [default]\n",
      "\tcom.typesafe#config;1.4.1 from central in [default]\n",
      "\tdk.brics.automaton#automaton;1.11-8 from central in [default]\n",
      "\tit.unimi.dsi#fastutil;7.0.12 from central in [default]\n",
      "\tjoda-time#joda-time;2.9.5 from central in [default]\n",
      "\tnet.jcip#jcip-annotations;1.0 from central in [default]\n",
      "\tnet.sf.trove4j#trove4j;3.0.3 from central in [default]\n",
      "\torg.joda#joda-convert;1.8.1 from central in [default]\n",
      "\torg.json4s#json4s-ext_2.12;3.5.3 from central in [default]\n",
      "\torg.projectlombok#lombok;1.16.8 from central in [default]\n",
      "\torg.rocksdb#rocksdbjni;6.5.3 from central in [default]\n",
      "\torg.slf4j#slf4j-api;1.7.21 from central in [default]\n",
      "\t---------------------------------------------------------------------\n",
      "\t|                  |            modules            ||   artifacts   |\n",
      "\t|       conf       | number| search|dwnlded|evicted|| number|dwnlded|\n",
      "\t---------------------------------------------------------------------\n",
      "\t|      default     |   21  |   0   |   0   |   0   ||   21  |   0   |\n",
      "\t---------------------------------------------------------------------\n",
      ":: retrieving :: org.apache.spark#spark-submit-parent-8d039868-9328-4a2d-97ce-602732a1936b\n",
      "\tconfs: [default]\n",
      "\t0 artifacts copied, 21 already retrieved (0kB/9ms)\n",
      "21/12/15 09:34:53 WARN NativeCodeLoader: Unable to load native-hadoop library for your platform... using builtin-java classes where applicable\n",
      "Using Spark's default log4j profile: org/apache/spark/log4j-defaults.properties\n",
      "Setting default log level to \"WARN\".\n",
      "To adjust logging level use sc.setLogLevel(newLevel). For SparkR, use setLogLevel(newLevel).\n"
     ]
    }
   ],
   "source": [
    "builder = SparkSession.builder\\\n",
    "        .appName(\"Spark NLP Licensed\")\\\n",
    "        .master(\"local[*]\")\\\n",
    "        .config(\"spark.driver.memory\", \"24G\")\\\n",
    "        .config(\"spark.driver.maxResultSize\", \"2048GB\")\\\n",
    "        .config(\"spark.serializer\", \"org.apache.spark.serializer.KryoSerializer\")\\\n",
    "        .config(\"spark.kryoserializer.buffer.max\", \"2000M\")\\\n",
    "        .config(\"spark.jars.packages\", \"com.johnsnowlabs.nlp:spark-nlp_2.12:3.3.2\")\n",
    "\n",
    "spark = builder.getOrCreate()"
   ]
  },
  {
   "cell_type": "code",
   "execution_count": 5,
   "metadata": {},
   "outputs": [
    {
     "data": {
      "text/html": [
       "\n",
       "            <div>\n",
       "                <p><b>SparkSession - in-memory</b></p>\n",
       "                \n",
       "        <div>\n",
       "            <p><b>SparkContext</b></p>\n",
       "\n",
       "            <p><a href=\"http://192.168.1.37:4040\">Spark UI</a></p>\n",
       "\n",
       "            <dl>\n",
       "              <dt>Version</dt>\n",
       "                <dd><code>v3.1.2</code></dd>\n",
       "              <dt>Master</dt>\n",
       "                <dd><code>local[*]</code></dd>\n",
       "              <dt>AppName</dt>\n",
       "                <dd><code>Spark NLP Licensed</code></dd>\n",
       "            </dl>\n",
       "        </div>\n",
       "        \n",
       "            </div>\n",
       "        "
      ],
      "text/plain": [
       "<pyspark.sql.session.SparkSession at 0x7f1406188cd0>"
      ]
     },
     "execution_count": 5,
     "metadata": {},
     "output_type": "execute_result"
    }
   ],
   "source": [
    "spark"
   ]
  },
  {
   "cell_type": "code",
   "execution_count": 5,
   "metadata": {},
   "outputs": [],
   "source": [
    "#textFiles = spark.sparkContext.wholeTextFiles(\"oncology_notes/*\")\n",
    "\n",
    "#df = textFiles.toDF(schema=['path','text'])\n",
    "#df.show()"
   ]
  },
  {
   "cell_type": "code",
   "execution_count": null,
   "metadata": {},
   "outputs": [],
   "source": [
    "sentence_name = \"Spark_Sentence_Tokenize1\""
   ]
  },
  {
   "cell_type": "code",
   "execution_count": 124,
   "metadata": {},
   "outputs": [],
   "source": [
    "df = spark.read.text('/media/kurubal/SSD/Data Scientist/Work/Modern Ways/Project/Turkish/Pyspark/Temp/xaa.tr').toDF('text') # xaa.txt text data"
   ]
  },
  {
   "cell_type": "code",
   "execution_count": 125,
   "metadata": {},
   "outputs": [
    {
     "data": {
      "text/plain": [
       "[Row(text='Çeviren: sarkis sarveniko İyi seyirler dileriz.')]"
      ]
     },
     "execution_count": 125,
     "metadata": {},
     "output_type": "execute_result"
    }
   ],
   "source": [
    "df.select(\"text\").head(1)"
   ]
  },
  {
   "cell_type": "code",
   "execution_count": 126,
   "metadata": {},
   "outputs": [
    {
     "data": {
      "text/plain": [
       "13"
      ]
     },
     "execution_count": 126,
     "metadata": {},
     "output_type": "execute_result"
    }
   ],
   "source": [
    "df.rdd.getNumPartitions()"
   ]
  },
  {
   "cell_type": "code",
   "execution_count": 9,
   "metadata": {},
   "outputs": [],
   "source": [
    "df = df.repartition(200)"
   ]
  },
  {
   "cell_type": "code",
   "execution_count": 10,
   "metadata": {},
   "outputs": [
    {
     "data": {
      "text/plain": [
       "200"
      ]
     },
     "execution_count": 10,
     "metadata": {},
     "output_type": "execute_result"
    }
   ],
   "source": [
    "df.rdd.getNumPartitions()"
   ]
  },
  {
   "cell_type": "code",
   "execution_count": 127,
   "metadata": {},
   "outputs": [
    {
     "name": "stdout",
     "output_type": "stream",
     "text": [
      "sentence_detector_dl download started this may take some time.\n",
      "Approximate size to download 514.9 KB\n",
      "[OK!]\n"
     ]
    }
   ],
   "source": [
    "documenter = DocumentAssembler()\\\n",
    "    .setInputCol(\"text\")\\\n",
    "    .setOutputCol(\"document\")\n",
    "    \n",
    "sentencerDL = SentenceDetectorDLModel\\\n",
    "    .pretrained(\"sentence_detector_dl\", \"xx\") \\\n",
    "    .setInputCols([\"document\"]) \\\n",
    "    .setOutputCol(\"sentences\")\n",
    "\n",
    "model = PipelineModel(stages=[documenter, sentencerDL])"
   ]
  },
  {
   "cell_type": "code",
   "execution_count": 128,
   "metadata": {},
   "outputs": [],
   "source": [
    "result = model.transform(df)"
   ]
  },
  {
   "cell_type": "code",
   "execution_count": 129,
   "metadata": {},
   "outputs": [
    {
     "name": "stdout",
     "output_type": "stream",
     "text": [
      "+--------------------+--------------------+--------------------+\n",
      "|                text|            document|           sentences|\n",
      "+--------------------+--------------------+--------------------+\n",
      "|Çeviren: sarkis s...|[{document, 0, 46...|[{document, 0, 46...|\n",
      "|Her gün baktığım ...|[{document, 0, 65...|[{document, 0, 65...|\n",
      "|        TÜRK TUTKUSU|[{document, 0, 11...|[{document, 0, 12...|\n",
      "|Memnun etmeyi, ba...|[{document, 0, 10...|[{document, 0, 10...|\n",
      "|Bu açıdan onlara ...|[{document, 0, 32...|[{document, 0, 32...|\n",
      "|İlk kuzenlerimiz ...|[{document, 0, 38...|[{document, 0, 36...|\n",
      "|Öyle deme, benim ...|[{document, 0, 37...|[{document, 0, 37...|\n",
      "|Bu dişiler erkekl...|[{document, 0, 44...|[{document, 0, 44...|\n",
      "|           Birazcık.|[{document, 0, 8,...|[{document, 0, 8,...|\n",
      "|     Şu şeker kadar.|[{document, 0, 14...|[{document, 0, 14...|\n",
      "|Peki, ben nasıl b...|[{document, 0, 28...|[{document, 0, 28...|\n",
      "|Hiç aptal maymun ...|[{document, 0, 31...|[{document, 0, 31...|\n",
      "|Şu an kendimi apt...|[{document, 0, 53...|[{document, 0, 53...|\n",
      "|Kötü bir başlangı...|[{document, 0, 28...|[{document, 0, 28...|\n",
      "|Akıllı bir dişi m...|[{document, 0, 71...|[{document, 0, 71...|\n",
      "|Bu da onu düzmesi...|[{document, 0, 30...|[{document, 0, 30...|\n",
      "|Kelimenin tam anl...|[{document, 0, 25...|[{document, 0, 23...|\n",
      "|Bunu zevk için de...|[{document, 0, 82...|[{document, 0, 82...|\n",
      "|Bu görev benim iç...|[{document, 0, 31...|[{document, 0, 31...|\n",
      "|Mihraba yürürken ...|[{document, 0, 61...|[{document, 0, 61...|\n",
      "+--------------------+--------------------+--------------------+\n",
      "only showing top 20 rows\n",
      "\n"
     ]
    }
   ],
   "source": [
    "result.show()"
   ]
  },
  {
   "cell_type": "code",
   "execution_count": 130,
   "metadata": {},
   "outputs": [
    {
     "name": "stdout",
     "output_type": "stream",
     "text": [
      "root\n",
      " |-- text: string (nullable = true)\n",
      " |-- document: array (nullable = true)\n",
      " |    |-- element: struct (containsNull = true)\n",
      " |    |    |-- annotatorType: string (nullable = true)\n",
      " |    |    |-- begin: integer (nullable = false)\n",
      " |    |    |-- end: integer (nullable = false)\n",
      " |    |    |-- result: string (nullable = true)\n",
      " |    |    |-- metadata: map (nullable = true)\n",
      " |    |    |    |-- key: string\n",
      " |    |    |    |-- value: string (valueContainsNull = true)\n",
      " |    |    |-- embeddings: array (nullable = true)\n",
      " |    |    |    |-- element: float (containsNull = false)\n",
      " |-- sentences: array (nullable = true)\n",
      " |    |-- element: struct (containsNull = true)\n",
      " |    |    |-- annotatorType: string (nullable = true)\n",
      " |    |    |-- begin: integer (nullable = false)\n",
      " |    |    |-- end: integer (nullable = false)\n",
      " |    |    |-- result: string (nullable = true)\n",
      " |    |    |-- metadata: map (nullable = true)\n",
      " |    |    |    |-- key: string\n",
      " |    |    |    |-- value: string (valueContainsNull = true)\n",
      " |    |    |-- embeddings: array (nullable = true)\n",
      " |    |    |    |-- element: float (containsNull = false)\n",
      "\n"
     ]
    }
   ],
   "source": [
    "result.printSchema()"
   ]
  },
  {
   "cell_type": "code",
   "execution_count": 131,
   "metadata": {},
   "outputs": [
    {
     "name": "stderr",
     "output_type": "stream",
     "text": [
      "                                                                                \r"
     ]
    },
    {
     "data": {
      "text/html": [
       "<div>\n",
       "<style scoped>\n",
       "    .dataframe tbody tr th:only-of-type {\n",
       "        vertical-align: middle;\n",
       "    }\n",
       "\n",
       "    .dataframe tbody tr th {\n",
       "        vertical-align: top;\n",
       "    }\n",
       "\n",
       "    .dataframe thead th {\n",
       "        text-align: right;\n",
       "    }\n",
       "</style>\n",
       "<table border=\"1\" class=\"dataframe\">\n",
       "  <thead>\n",
       "    <tr style=\"text-align: right;\">\n",
       "      <th></th>\n",
       "      <th>result</th>\n",
       "    </tr>\n",
       "  </thead>\n",
       "  <tbody>\n",
       "    <tr>\n",
       "      <th>0</th>\n",
       "      <td>[Çeviren: sarkis sarveniko İyi seyirler dileriz.]</td>\n",
       "    </tr>\n",
       "    <tr>\n",
       "      <th>1</th>\n",
       "      <td>[Her gün baktığım manzaramın bir mezarlık olacağını kim bilirdi ki?]</td>\n",
       "    </tr>\n",
       "    <tr>\n",
       "      <th>2</th>\n",
       "      <td>[TÜRK TUTKUSU]</td>\n",
       "    </tr>\n",
       "    <tr>\n",
       "      <th>3</th>\n",
       "      <td>[Memnun etmeyi, baştan çıkarmayı kandırmayı erkeklerin ne düşündüğünü bilip önceden tahmin etmemiz gerekir.]</td>\n",
       "    </tr>\n",
       "    <tr>\n",
       "      <th>4</th>\n",
       "      <td>[Bu açıdan onlara tahakküm ederiz.]</td>\n",
       "    </tr>\n",
       "    <tr>\n",
       "      <th>...</th>\n",
       "      <td>...</td>\n",
       "    </tr>\n",
       "    <tr>\n",
       "      <th>1695900</th>\n",
       "      <td>[Ne?]</td>\n",
       "    </tr>\n",
       "    <tr>\n",
       "      <th>1695901</th>\n",
       "      <td>[Nedir o?]</td>\n",
       "    </tr>\n",
       "    <tr>\n",
       "      <th>1695902</th>\n",
       "      <td>[Dualarına verilen yanıt.]</td>\n",
       "    </tr>\n",
       "    <tr>\n",
       "      <th>1695903</th>\n",
       "      <td>[Hatırlaman gereken tek şey, bunun seninle ilgisi olmadığı.]</td>\n",
       "    </tr>\n",
       "    <tr>\n",
       "      <th>1695904</th>\n",
       "      <td>[Konu sen de�]</td>\n",
       "    </tr>\n",
       "  </tbody>\n",
       "</table>\n",
       "<p>1695905 rows × 1 columns</p>\n",
       "</div>"
      ],
      "text/plain": [
       "                                                                                                               result\n",
       "0        [Çeviren: sarkis sarveniko İyi seyirler dileriz.]                                                           \n",
       "1        [Her gün baktığım manzaramın bir mezarlık olacağını kim bilirdi ki?]                                        \n",
       "2        [TÜRK TUTKUSU]                                                                                              \n",
       "3        [Memnun etmeyi, baştan çıkarmayı kandırmayı erkeklerin ne düşündüğünü bilip önceden tahmin etmemiz gerekir.]\n",
       "4        [Bu açıdan onlara tahakküm ederiz.]                                                                         \n",
       "...                                      ...                                                                         \n",
       "1695900  [Ne?]                                                                                                       \n",
       "1695901  [Nedir o?]                                                                                                  \n",
       "1695902  [Dualarına verilen yanıt.]                                                                                  \n",
       "1695903  [Hatırlaman gereken tek şey, bunun seninle ilgisi olmadığı.]                                                \n",
       "1695904  [Konu sen de�]                                                                                              \n",
       "\n",
       "[1695905 rows x 1 columns]"
      ]
     },
     "execution_count": 131,
     "metadata": {},
     "output_type": "execute_result"
    }
   ],
   "source": [
    "pd_res = result.select(\"sentences.result\").toPandas()\n",
    "pd_res"
   ]
  },
  {
   "cell_type": "code",
   "execution_count": 132,
   "metadata": {},
   "outputs": [],
   "source": [
    "pd_res.to_csv(f\"{sentence_name}.csv\", index=False)"
   ]
  },
  {
   "cell_type": "markdown",
   "metadata": {},
   "source": [
    "#### Clean DataFrame Sentence"
   ]
  },
  {
   "cell_type": "code",
   "execution_count": 135,
   "metadata": {},
   "outputs": [],
   "source": [
    "#!pip install modin[ray]"
   ]
  },
  {
   "cell_type": "code",
   "execution_count": 136,
   "metadata": {},
   "outputs": [
    {
     "name": "stderr",
     "output_type": "stream",
     "text": [
      "2021-12-15 11:24:11,618\tINFO services.py:1338 -- View the Ray dashboard at \u001b[1m\u001b[32mhttp://127.0.0.1:8265\u001b[39m\u001b[22m\n"
     ]
    },
    {
     "data": {
      "text/plain": [
       "{'node_ip_address': '192.168.1.37',\n",
       " 'raylet_ip_address': '192.168.1.37',\n",
       " 'redis_address': '192.168.1.37:6379',\n",
       " 'object_store_address': '/tmp/ray/session_2021-12-15_11-24-09_515635_11607/sockets/plasma_store',\n",
       " 'raylet_socket_name': '/tmp/ray/session_2021-12-15_11-24-09_515635_11607/sockets/raylet',\n",
       " 'webui_url': '127.0.0.1:8265',\n",
       " 'session_dir': '/tmp/ray/session_2021-12-15_11-24-09_515635_11607',\n",
       " 'metrics_export_port': 59220,\n",
       " 'node_id': 'ceb2792ecafdf7eaa8713522489495742fb050ec8d00c21d2c8e999f'}"
      ]
     },
     "execution_count": 136,
     "metadata": {},
     "output_type": "execute_result"
    }
   ],
   "source": [
    "import ray  # ayrı olarak çalıştırılmalı\n",
    "ray.init() "
   ]
  },
  {
   "cell_type": "code",
   "execution_count": 137,
   "metadata": {},
   "outputs": [],
   "source": [
    "import modin.pandas as pd"
   ]
  },
  {
   "cell_type": "code",
   "execution_count": 138,
   "metadata": {},
   "outputs": [
    {
     "data": {
      "text/html": [
       "<div>\n",
       "<style scoped>\n",
       "    .dataframe tbody tr th:only-of-type {\n",
       "        vertical-align: middle;\n",
       "    }\n",
       "\n",
       "    .dataframe tbody tr th {\n",
       "        vertical-align: top;\n",
       "    }\n",
       "\n",
       "    .dataframe thead th {\n",
       "        text-align: right;\n",
       "    }\n",
       "</style>\n",
       "<table border=\"1\" class=\"dataframe\">\n",
       "  <thead>\n",
       "    <tr style=\"text-align: right;\">\n",
       "      <th></th>\n",
       "      <th>result</th>\n",
       "    </tr>\n",
       "  </thead>\n",
       "  <tbody>\n",
       "    <tr>\n",
       "      <th>0</th>\n",
       "      <td>['Çeviren: sarkis sarveniko İyi seyirler dileriz.']</td>\n",
       "    </tr>\n",
       "    <tr>\n",
       "      <th>1</th>\n",
       "      <td>['Her gün baktığım manzaramın bir mezarlık olacağını kim bilirdi ki?']</td>\n",
       "    </tr>\n",
       "    <tr>\n",
       "      <th>2</th>\n",
       "      <td>['TÜRK TUTKUSU']</td>\n",
       "    </tr>\n",
       "    <tr>\n",
       "      <th>3</th>\n",
       "      <td>['Memnun etmeyi, baştan çıkarmayı kandırmayı erkeklerin ne düşündüğünü bilip önceden tahmin etmemiz gerekir.']</td>\n",
       "    </tr>\n",
       "    <tr>\n",
       "      <th>4</th>\n",
       "      <td>['Bu açıdan onlara tahakküm ederiz.']</td>\n",
       "    </tr>\n",
       "    <tr>\n",
       "      <th>...</th>\n",
       "      <td>...</td>\n",
       "    </tr>\n",
       "    <tr>\n",
       "      <th>1695900</th>\n",
       "      <td>['Ne?']</td>\n",
       "    </tr>\n",
       "    <tr>\n",
       "      <th>1695901</th>\n",
       "      <td>['Nedir o?']</td>\n",
       "    </tr>\n",
       "    <tr>\n",
       "      <th>1695902</th>\n",
       "      <td>['Dualarına verilen yanıt.']</td>\n",
       "    </tr>\n",
       "    <tr>\n",
       "      <th>1695903</th>\n",
       "      <td>['Hatırlaman gereken tek şey, bunun seninle ilgisi olmadığı.']</td>\n",
       "    </tr>\n",
       "    <tr>\n",
       "      <th>1695904</th>\n",
       "      <td>['Konu sen de�']</td>\n",
       "    </tr>\n",
       "  </tbody>\n",
       "</table>\n",
       "<p>1695905 rows x 1 columns</p>\n",
       "</div>"
      ],
      "text/plain": [
       "                                                                                                                 result\n",
       "0        ['Çeviren: sarkis sarveniko İyi seyirler dileriz.']                                                           \n",
       "1        ['Her gün baktığım manzaramın bir mezarlık olacağını kim bilirdi ki?']                                        \n",
       "2        ['TÜRK TUTKUSU']                                                                                              \n",
       "3        ['Memnun etmeyi, baştan çıkarmayı kandırmayı erkeklerin ne düşündüğünü bilip önceden tahmin etmemiz gerekir.']\n",
       "4        ['Bu açıdan onlara tahakküm ederiz.']                                                                         \n",
       "...                                        ...                                                                         \n",
       "1695900  ['Ne?']                                                                                                       \n",
       "1695901  ['Nedir o?']                                                                                                  \n",
       "1695902  ['Dualarına verilen yanıt.']                                                                                  \n",
       "1695903  ['Hatırlaman gereken tek şey, bunun seninle ilgisi olmadığı.']                                                \n",
       "1695904  ['Konu sen de�']                                                                                              \n",
       "\n",
       "[1695905 rows x 1 columns]"
      ]
     },
     "execution_count": 138,
     "metadata": {},
     "output_type": "execute_result"
    }
   ],
   "source": [
    "df2 = pd.read_csv(f\"{sentence_name}.csv\")\n",
    "df2"
   ]
  },
  {
   "cell_type": "code",
   "execution_count": 139,
   "metadata": {},
   "outputs": [],
   "source": [
    "def clean_text(text):\n",
    "    clean_brackets = text.strip(\"[]\")\n",
    "    clean_brackets_data = re.sub('[\\(\\[\\{].*?[\\)\\]\\}]', '', clean_brackets)\n",
    "    clean_punc = re.sub(r'[^\\w\\s]','',clean_brackets_data)\n",
    "    text_clean_list = re.findall(r'\\w+', clean_punc)\n",
    "    #alpha_num = [w for w in text_clean_list if w.isalnum()]\n",
    "    text_result = (\" \".join(text_clean_list)).lower()\n",
    "    return text_result "
   ]
  },
  {
   "cell_type": "code",
   "execution_count": 140,
   "metadata": {},
   "outputs": [],
   "source": [
    "sent_list = []\n",
    "for x in df2.result:\n",
    "    x = clean_text(x)\n",
    "    sent_list.append(x)  "
   ]
  },
  {
   "cell_type": "code",
   "execution_count": 141,
   "metadata": {},
   "outputs": [
    {
     "data": {
      "text/html": [
       "<div>\n",
       "<style scoped>\n",
       "    .dataframe tbody tr th:only-of-type {\n",
       "        vertical-align: middle;\n",
       "    }\n",
       "\n",
       "    .dataframe tbody tr th {\n",
       "        vertical-align: top;\n",
       "    }\n",
       "\n",
       "    .dataframe thead th {\n",
       "        text-align: right;\n",
       "    }\n",
       "</style>\n",
       "<table border=\"1\" class=\"dataframe\">\n",
       "  <thead>\n",
       "    <tr style=\"text-align: right;\">\n",
       "      <th></th>\n",
       "      <th>0</th>\n",
       "    </tr>\n",
       "  </thead>\n",
       "  <tbody>\n",
       "    <tr>\n",
       "      <th>0</th>\n",
       "      <td>çeviren sarkis sarveniko i̇yi seyirler dileriz</td>\n",
       "    </tr>\n",
       "    <tr>\n",
       "      <th>1</th>\n",
       "      <td>her gün baktığım manzaramın bir mezarlık olacağını kim bilirdi ki</td>\n",
       "    </tr>\n",
       "    <tr>\n",
       "      <th>2</th>\n",
       "      <td>türk tutkusu</td>\n",
       "    </tr>\n",
       "    <tr>\n",
       "      <th>3</th>\n",
       "      <td>memnun etmeyi baştan çıkarmayı kandırmayı erkeklerin ne düşündüğünü bilip önceden tahmin etmemiz gerekir</td>\n",
       "    </tr>\n",
       "    <tr>\n",
       "      <th>4</th>\n",
       "      <td>bu açıdan onlara tahakküm ederiz</td>\n",
       "    </tr>\n",
       "  </tbody>\n",
       "</table>\n",
       "</div>"
      ],
      "text/plain": [
       "                                                                                                          0\n",
       "0  çeviren sarkis sarveniko i̇yi seyirler dileriz                                                          \n",
       "1  her gün baktığım manzaramın bir mezarlık olacağını kim bilirdi ki                                       \n",
       "2  türk tutkusu                                                                                            \n",
       "3  memnun etmeyi baştan çıkarmayı kandırmayı erkeklerin ne düşündüğünü bilip önceden tahmin etmemiz gerekir\n",
       "4  bu açıdan onlara tahakküm ederiz                                                                        "
      ]
     },
     "execution_count": 141,
     "metadata": {},
     "output_type": "execute_result"
    }
   ],
   "source": [
    "df_clean = pd.DataFrame(sent_list)\n",
    "df_clean.head()"
   ]
  },
  {
   "cell_type": "code",
   "execution_count": 142,
   "metadata": {},
   "outputs": [
    {
     "data": {
      "text/html": [
       "<div>\n",
       "<style scoped>\n",
       "    .dataframe tbody tr th:only-of-type {\n",
       "        vertical-align: middle;\n",
       "    }\n",
       "\n",
       "    .dataframe tbody tr th {\n",
       "        vertical-align: top;\n",
       "    }\n",
       "\n",
       "    .dataframe thead th {\n",
       "        text-align: right;\n",
       "    }\n",
       "</style>\n",
       "<table border=\"1\" class=\"dataframe\">\n",
       "  <thead>\n",
       "    <tr style=\"text-align: right;\">\n",
       "      <th></th>\n",
       "      <th>sentence</th>\n",
       "    </tr>\n",
       "  </thead>\n",
       "  <tbody>\n",
       "    <tr>\n",
       "      <th>0</th>\n",
       "      <td>çeviren sarkis sarveniko i̇yi seyirler dileriz</td>\n",
       "    </tr>\n",
       "    <tr>\n",
       "      <th>1</th>\n",
       "      <td>her gün baktığım manzaramın bir mezarlık olacağını kim bilirdi ki</td>\n",
       "    </tr>\n",
       "    <tr>\n",
       "      <th>2</th>\n",
       "      <td>türk tutkusu</td>\n",
       "    </tr>\n",
       "    <tr>\n",
       "      <th>3</th>\n",
       "      <td>memnun etmeyi baştan çıkarmayı kandırmayı erkeklerin ne düşündüğünü bilip önceden tahmin etmemiz gerekir</td>\n",
       "    </tr>\n",
       "    <tr>\n",
       "      <th>4</th>\n",
       "      <td>bu açıdan onlara tahakküm ederiz</td>\n",
       "    </tr>\n",
       "    <tr>\n",
       "      <th>...</th>\n",
       "      <td>...</td>\n",
       "    </tr>\n",
       "    <tr>\n",
       "      <th>1695900</th>\n",
       "      <td>ne</td>\n",
       "    </tr>\n",
       "    <tr>\n",
       "      <th>1695901</th>\n",
       "      <td>nedir o</td>\n",
       "    </tr>\n",
       "    <tr>\n",
       "      <th>1695902</th>\n",
       "      <td>dualarına verilen yanıt</td>\n",
       "    </tr>\n",
       "    <tr>\n",
       "      <th>1695903</th>\n",
       "      <td>hatırlaman gereken tek şey bunun seninle ilgisi olmadığı</td>\n",
       "    </tr>\n",
       "    <tr>\n",
       "      <th>1695904</th>\n",
       "      <td>konu sen de</td>\n",
       "    </tr>\n",
       "  </tbody>\n",
       "</table>\n",
       "<p>1695905 rows x 1 columns</p>\n",
       "</div>"
      ],
      "text/plain": [
       "                                                                                                         sentence\n",
       "0        çeviren sarkis sarveniko i̇yi seyirler dileriz                                                          \n",
       "1        her gün baktığım manzaramın bir mezarlık olacağını kim bilirdi ki                                       \n",
       "2        türk tutkusu                                                                                            \n",
       "3        memnun etmeyi baştan çıkarmayı kandırmayı erkeklerin ne düşündüğünü bilip önceden tahmin etmemiz gerekir\n",
       "4        bu açıdan onlara tahakküm ederiz                                                                        \n",
       "...                                   ...                                                                        \n",
       "1695900  ne                                                                                                      \n",
       "1695901  nedir o                                                                                                 \n",
       "1695902  dualarına verilen yanıt                                                                                 \n",
       "1695903  hatırlaman gereken tek şey bunun seninle ilgisi olmadığı                                                \n",
       "1695904  konu sen de                                                                                             \n",
       "\n",
       "[1695905 rows x 1 columns]"
      ]
     },
     "execution_count": 142,
     "metadata": {},
     "output_type": "execute_result"
    }
   ],
   "source": [
    "df_clean = df_clean.rename(columns={0:\"sentence\"})\n",
    "df_clean"
   ]
  },
  {
   "cell_type": "code",
   "execution_count": 143,
   "metadata": {},
   "outputs": [],
   "source": [
    "df_clean.drop(df_clean[df_clean.sentence == \"\"].index, inplace=True)"
   ]
  },
  {
   "cell_type": "code",
   "execution_count": 144,
   "metadata": {},
   "outputs": [],
   "source": [
    "sent_count = df_clean.sentence.value_counts().sort_values(ascending=False)\n",
    "#sent_count"
   ]
  },
  {
   "cell_type": "code",
   "execution_count": 145,
   "metadata": {},
   "outputs": [],
   "source": [
    "sent_count_df = pd.DataFrame(sent_count).reset_index()\n",
    "sent_count_df.rename(columns={\"index\":\"sentence\", \"sentence\":\"frequency\"}, inplace=True)"
   ]
  },
  {
   "cell_type": "code",
   "execution_count": 146,
   "metadata": {},
   "outputs": [],
   "source": [
    "total_frequency = sent_count_df.frequency.sum()"
   ]
  },
  {
   "cell_type": "code",
   "execution_count": 147,
   "metadata": {},
   "outputs": [],
   "source": [
    "sent_count_df[\"ratio\"] = (sent_count_df.frequency/total_frequency)*100"
   ]
  },
  {
   "cell_type": "code",
   "execution_count": 148,
   "metadata": {},
   "outputs": [],
   "source": [
    "def sentence_lenght(sentence):\n",
    "    word_var2 = re.findall(r'\\w+', sentence)\n",
    "    if len(word_var2) <= 10:\n",
    "        return sentence\n",
    "    else:\n",
    "        return \"sentence is bigger than ten word\""
   ]
  },
  {
   "cell_type": "code",
   "execution_count": 149,
   "metadata": {},
   "outputs": [],
   "source": [
    "sent_count_df.sentence = sent_count_df.sentence.apply(sentence_lenght)"
   ]
  },
  {
   "cell_type": "code",
   "execution_count": 150,
   "metadata": {},
   "outputs": [],
   "source": [
    "sent_count_df.drop(sent_count_df[sent_count_df.sentence == \"sentence is bigger than ten word\"].index, axis=0, inplace=True)\n",
    "sent_count_df.reset_index(drop=True, inplace=True)"
   ]
  },
  {
   "cell_type": "code",
   "execution_count": 151,
   "metadata": {},
   "outputs": [],
   "source": [
    "df_result = sent_count_df[sent_count_df.frequency>1]"
   ]
  },
  {
   "cell_type": "code",
   "execution_count": 152,
   "metadata": {},
   "outputs": [],
   "source": [
    "df_result.to_csv(\"Clean_Spark_Sentence_Tokenize1.csv\", index=False)"
   ]
  },
  {
   "cell_type": "code",
   "execution_count": null,
   "metadata": {},
   "outputs": [],
   "source": []
  },
  {
   "cell_type": "code",
   "execution_count": null,
   "metadata": {},
   "outputs": [],
   "source": []
  }
 ],
 "metadata": {
  "interpreter": {
   "hash": "dee98d46828ee19b29600c86b301abe70cd9ca024f8cc08840440df39802f8b5"
  },
  "kernelspec": {
   "display_name": "Python 3.9.7 64-bit ('pyspark_env': conda)",
   "language": "python",
   "name": "python3"
  },
  "language_info": {
   "codemirror_mode": {
    "name": "ipython",
    "version": 3
   },
   "file_extension": ".py",
   "mimetype": "text/x-python",
   "name": "python",
   "nbconvert_exporter": "python",
   "pygments_lexer": "ipython3",
   "version": "3.9.7"
  },
  "orig_nbformat": 4
 },
 "nbformat": 4,
 "nbformat_minor": 2
}
