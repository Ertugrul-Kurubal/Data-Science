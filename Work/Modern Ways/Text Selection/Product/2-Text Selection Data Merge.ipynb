{
 "cells": [
  {
   "cell_type": "markdown",
   "metadata": {},
   "source": [
    "### Text Selection Data Merge"
   ]
  },
  {
   "cell_type": "code",
   "execution_count": null,
   "metadata": {},
   "outputs": [],
   "source": [
    "import os\n",
    "import multiprocessing\n",
    "#import multiprocessing as mp\n",
    "from multiprocessing import Process, Manager, Pool, Queue\n",
    "from itertools import islice\n",
    "from collections import Counter\n",
    "import re\n",
    "import pandas as pd\n",
    "import numpy as np\n",
    "import glob\n",
    "import nltk\n",
    "from nltk import word_tokenize\n",
    "from functools import reduce\n",
    "from pathlib import Path\n",
    "import shutil"
   ]
  },
  {
   "cell_type": "code",
   "execution_count": null,
   "metadata": {},
   "outputs": [],
   "source": [
    "nprocs = multiprocessing.cpu_count()\n",
    "print(f\"Number of CPU cores: {nprocs}\")"
   ]
  },
  {
   "cell_type": "code",
   "execution_count": null,
   "metadata": {},
   "outputs": [],
   "source": [
    "# language pair\n",
    "lang_folder = \"Turkish\"  # Arabic, English, French, German, Turkish, Spanish, Portuguese, Dutch, Italian ==> target language for learner\n",
    "#lang_pair = \"Intersect\"  # Arabic, English, French, German, Turkish, Spanish, Portuguese, Dutch, Italian ==> native language\n",
    "\n",
    "# adding native word to shared word\n",
    "word_start = 0  # 0 native word start index\n",
    "word_end = 45000  # 28 native word end index\n",
    "\n",
    "# word all usage in twogram\n",
    "word_use_num_min = 1  # word usage in selected twograms \n",
    "word_use_num_max = 2\n",
    "\n",
    "# n gram select\n",
    "twogram_select_start = 0\n",
    "twogram_select_end = 10000\n",
    "\n",
    "threegram_select_start = 0\n",
    "threegram_select_end = 10000\n",
    "\n",
    "fourgram_select_start = 0\n",
    "fourgram_select_end = 10000\n",
    "\n",
    "fivegram_select_start = 0\n",
    "fivegram_select_end = 10000\n",
    "\n",
    "sixgram_select_start = 0\n",
    "sixgram_select_end = 10000\n",
    "\n",
    "sevengram_select_start = 0\n",
    "sevengram_select_end = 10000\n",
    "\n",
    "eightgram_select_start = 0\n",
    "eightgram_select_end = 10000\n",
    "\n",
    "ninegram_select_start = 0\n",
    "ninegram_select_end = 10000\n",
    "\n",
    "tengram_select_start = 0\n",
    "tengram_select_end = 10000\n",
    "\n",
    "\n",
    "# prefix suffix file\n",
    "prefix_suffix = False  # True, False: True for adding prefix suffix word\n",
    "native_word = True # True for adding native word\n",
    "\n",
    "# adding output file extention\n",
    "if prefix_suffix & native_word:\n",
    "    file_ext = \"5\"\n",
    "elif (not prefix_suffix) & native_word:\n",
    "    file_ext = \"6\"\n",
    "else:\n",
    "    file_ext = \"7\"              \n",
    "    \n",
    "# 5 => for only native word with prefix suffix.\n",
    "# 6 => for only native word without prefix suffix.\n",
    "\n",
    "print(f\"{file_ext}\")"
   ]
  },
  {
   "cell_type": "code",
   "execution_count": null,
   "metadata": {},
   "outputs": [],
   "source": [
    "path = f\"/media/kurubal/SSD/Data Scientist/Work/Modern Ways/Project/{lang_folder.capitalize()}/\\\n",
    "Text Selection/Result/2-Text Selection Data Merge\"\n",
    "\n",
    "Path(path).mkdir(parents=True, exist_ok=True)"
   ]
  },
  {
   "cell_type": "code",
   "execution_count": null,
   "metadata": {},
   "outputs": [],
   "source": [
    "def strip(df):\n",
    "    for i in df.columns:\n",
    "        new_name = i.strip()\n",
    "        df.rename(columns={f\"{i}\":f\"{new_name}\"}, inplace=True)\n",
    "        df[f\"{new_name}\"] = df[f\"{new_name}\"].apply(lambda x: x.strip())\n",
    "    \n",
    "    return df"
   ]
  },
  {
   "cell_type": "code",
   "execution_count": null,
   "metadata": {},
   "outputs": [],
   "source": [
    "def word_count_result(df,column_list): # df is dataframe, column_list is list value\n",
    "    '''\n",
    "    word_count_bool(df, column_list): df columns word count for word frequency\\n\n",
    "    df is dataframe, column_list is list value\\n\n",
    "    word_count_bool(df, [\"word\",\"twogram\"]):\n",
    "    '''\n",
    "    list_all = []\n",
    "    for i in df.loc[:,[x for x in column_list]].columns:\n",
    "        var_list = df[f\"{i}\"].dropna().tolist()\n",
    "        for j in var_list:\n",
    "            list_all.append(j)\n",
    "    text = \" \".join(list_all)\n",
    "    word_list = re.findall(r\"\\w+\",text, re.UNICODE)\n",
    "    df_word_list = pd.DataFrame(word_list, columns=[\"word\"])\n",
    "    #df_word_list.rename(columns={0:\"word\"}, inplace=True)\n",
    "    df_word_count = pd.DataFrame(df_word_list.value_counts())\n",
    "    df_word_count.reset_index(inplace=True)\n",
    "    df_word_count.rename(columns={0:\"word_count\"}, inplace=True)\n",
    "    \n",
    "    return  df_word_count"
   ]
  },
  {
   "cell_type": "code",
   "execution_count": null,
   "metadata": {},
   "outputs": [],
   "source": [
    "def word_in_wordgroup(source_word_list, df_target, target_column, simple=False):\n",
    "\n",
    "    '''word_in_wordgroup(not_in_sent_word_list, df_youtube_sent_select, \"search_string\", 5, simple=False)\\n\n",
    "       source_word_list is searching word list\\n\n",
    "       df_target is dataframe, target_column are dataframe column string name\\n\n",
    "       word_sample_num is searching sample number.\n",
    "       simple use for all column result or only target column result \n",
    "    '''\n",
    "    if simple:\n",
    "        df_select = df_target[[f\"{target_column}\"]].dropna()\n",
    "    else:\n",
    "        df_select = df_target\n",
    "        \n",
    "    df_result = pd.DataFrame()\n",
    "    for i in source_word_list:\n",
    "        try:\n",
    "            word_in_word_cluster = df_select[df_select[f\"{target_column}\"].str.contains(fr\"(?:\\s|^){i}(?:\\s|$)\", na=True)]   \n",
    "        except:\n",
    "            pass        \n",
    "        word_in_word_cluster.insert(0,\"word\",i)\n",
    "        df_result = pd.concat([df_result,word_in_word_cluster], axis=0)\n",
    "    df_result.reset_index(drop=True, inplace=True)\n",
    "\n",
    "    return df_result"
   ]
  },
  {
   "cell_type": "code",
   "execution_count": null,
   "metadata": {},
   "outputs": [],
   "source": [
    "def word_in_wordgroup_simple(df, source_column, target_column):\n",
    "\n",
    "    '''word_in_wordgroup(df, \"word\", \"twogram\"):\n",
    "       df is dataframe, source_column and target_column are \n",
    "       dataframe column string name. source_column convert list\n",
    "       values that are in target column.\n",
    "    '''\n",
    "    \n",
    "    df_select = df[[f\"{target_column}\"]].dropna()\n",
    "    df_result = pd.DataFrame()\n",
    "    for i in df[f\"{source_column}\"].dropna():\n",
    "        try:\n",
    "            word_in_word_cluster = df_select[df_select[f\"{target_column}\"].str.contains(fr\"(?:\\s|^){i}(?:\\s|$)\", na=True)]   \n",
    "        except:\n",
    "            pass        \n",
    "        word_in_word_cluster.insert(0,f\"{source_column}\",i)\n",
    "        df_result = pd.concat([df_result,word_in_word_cluster], axis=0)\n",
    "    df_result.reset_index(drop=True, inplace=True)\n",
    "\n",
    "    return df_result"
   ]
  },
  {
   "cell_type": "code",
   "execution_count": null,
   "metadata": {},
   "outputs": [],
   "source": []
  },
  {
   "cell_type": "markdown",
   "metadata": {},
   "source": [
    "#### Text Data Read"
   ]
  },
  {
   "cell_type": "code",
   "execution_count": null,
   "metadata": {},
   "outputs": [],
   "source": [
    "df_word_select = pd.read_excel(f\"/media/kurubal/SSD/Data Scientist/Work/Modern Ways/Project/{lang_folder.lower().capitalize()}/Text Selection/\\\n",
    "Data/1-Text Selection Data Prepare/Word_Selected_45000.xlsx\")\n",
    "df_word_select"
   ]
  },
  {
   "cell_type": "code",
   "execution_count": null,
   "metadata": {},
   "outputs": [],
   "source": [
    "#df_twogram_select = pd.read_excel(f\"/media/kurubal/SSD/Data Scientist/Work/Modern Ways/Project/{lang_folder.lower().capitalize()}/Text Selection/\\\n",
    "#Data/1-Text Selection Data Prepare/Twogram_Selected_10000.xlsx\")\n",
    "df_twogram_select = pd.read_csv(f\"/media/kurubal/SSD/Data Scientist/Work/Modern Ways/Project/{lang_folder.lower().capitalize()}/Text Selection/\\\n",
    "Data/1-Text Selection Data Prepare/Twogram_Selected.csv\")\n",
    "#df_twogram_select = df_twogram_select.head(1000)\n",
    "df_twogram_select"
   ]
  },
  {
   "cell_type": "code",
   "execution_count": null,
   "metadata": {},
   "outputs": [],
   "source": [
    "#df_threegram_select = pd.read_excel(f\"/media/kurubal/SSD/Data Scientist/Work/Modern Ways/Project/{lang_folder.lower().capitalize()}/Text Selection/\\\n",
    "#Data/1-Text Selection Data Prepare/Threegram_Selected_10000.xlsx\")\n",
    "df_threegram_select = pd.read_csv(f\"/media/kurubal/SSD/Data Scientist/Work/Modern Ways/Project/{lang_folder.lower().capitalize()}/Text Selection/\\\n",
    "Data/1-Text Selection Data Prepare/Threegram_Selected.csv\")\n",
    "df_threegram_select"
   ]
  },
  {
   "cell_type": "code",
   "execution_count": null,
   "metadata": {},
   "outputs": [],
   "source": [
    "#df_fourgram_select = pd.read_excel(f\"/media/kurubal/SSD/Data Scientist/Work/Modern Ways/Project/{lang_folder.lower().capitalize()}/Text Selection/\\\n",
    "#Data/1-Text Selection Data Prepare/Fourgram_Selected_10000.xlsx\")\n",
    "df_fourgram_select = pd.read_csv(f\"/media/kurubal/SSD/Data Scientist/Work/Modern Ways/Project/{lang_folder.lower().capitalize()}/Text Selection/\\\n",
    "Data/1-Text Selection Data Prepare/Fourgram_Selected.csv\")\n",
    "df_fourgram_select"
   ]
  },
  {
   "cell_type": "code",
   "execution_count": null,
   "metadata": {},
   "outputs": [],
   "source": [
    "#df_fivegram_select = pd.read_excel(f\"/media/kurubal/SSD/Data Scientist/Work/Modern Ways/Project/{lang_folder.lower().capitalize()}/Text Selection/\\\n",
    "#Data/1-Text Selection Data Prepare/Fivegram_Selected_10000.xlsx\")\n",
    "df_fivegram_select = pd.read_csv(f\"/media/kurubal/SSD/Data Scientist/Work/Modern Ways/Project/{lang_folder.lower().capitalize()}/Text Selection/\\\n",
    "Data/1-Text Selection Data Prepare/Fivegram_Selected.csv\")\n",
    "df_fivegram_select"
   ]
  },
  {
   "cell_type": "code",
   "execution_count": null,
   "metadata": {},
   "outputs": [],
   "source": [
    "#df_sixgram_select = pd.read_excel(f\"/media/kurubal/SSD/Data Scientist/Work/Modern Ways/Project/{lang_folder.lower().capitalize()}/Text Selection/\\\n",
    "#Data/1-Text Selection Data Prepare/Sixgram_Selected_10000.xlsx\")\n",
    "df_sixgram_select = pd.read_csv(f\"/media/kurubal/SSD/Data Scientist/Work/Modern Ways/Project/{lang_folder.lower().capitalize()}/Text Selection/\\\n",
    "Data/1-Text Selection Data Prepare/Sixgram_Selected.csv\")\n",
    "df_sixgram_select"
   ]
  },
  {
   "cell_type": "code",
   "execution_count": null,
   "metadata": {},
   "outputs": [],
   "source": [
    "#df_sevengram_select = pd.read_excel(f\"/media/kurubal/SSD/Data Scientist/Work/Modern Ways/Project/{lang_folder.lower().capitalize()}/Text Selection/\\\n",
    "#Data/1-Text Selection Data Prepare/Sevengram_Selected_10000.xlsx\")\n",
    "df_sevengram_select = pd.read_csv(f\"/media/kurubal/SSD/Data Scientist/Work/Modern Ways/Project/{lang_folder.lower().capitalize()}/Text Selection/\\\n",
    "Data/1-Text Selection Data Prepare/Sevengram_Selected.csv\")\n",
    "df_sevengram_select"
   ]
  },
  {
   "cell_type": "code",
   "execution_count": null,
   "metadata": {},
   "outputs": [],
   "source": [
    "#df_eightgram_select = pd.read_excel(f\"/media/kurubal/SSD/Data Scientist/Work/Modern Ways/Project/{lang_folder.lower().capitalize()}/Text Selection/\\\n",
    "#Data/1-Text Selection Data Prepare/Eightgram_Selected_10000.xlsx\")\n",
    "df_eightgram_select = pd.read_csv(f\"/media/kurubal/SSD/Data Scientist/Work/Modern Ways/Project/{lang_folder.lower().capitalize()}/Text Selection/\\\n",
    "Data/1-Text Selection Data Prepare/Eightgram_Selected.csv\")\n",
    "df_eightgram_select"
   ]
  },
  {
   "cell_type": "code",
   "execution_count": null,
   "metadata": {},
   "outputs": [],
   "source": [
    "#df_ninegram_select = pd.read_excel(f\"/media/kurubal/SSD/Data Scientist/Work/Modern Ways/Project/{lang_folder.lower().capitalize()}/Text Selection/\\\n",
    "#Data/1-Text Selection Data Prepare/Ninegram_Selected_10000.xlsx\")\n",
    "df_ninegram_select = pd.read_csv(f\"/media/kurubal/SSD/Data Scientist/Work/Modern Ways/Project/{lang_folder.lower().capitalize()}/Text Selection/\\\n",
    "Data/1-Text Selection Data Prepare/Ninegram_Selected.csv\")\n",
    "df_ninegram_select"
   ]
  },
  {
   "cell_type": "code",
   "execution_count": null,
   "metadata": {},
   "outputs": [],
   "source": [
    "#df_tengram_select = pd.read_excel(f\"/media/kurubal/SSD/Data Scientist/Work/Modern Ways/Project/{lang_folder.lower().capitalize()}/Text Selection/\\\n",
    "#Data/1-Text Selection Data Prepare/Tengram_Selected_10000.xlsx\")\n",
    "df_tengram_select = pd.read_csv(f\"/media/kurubal/SSD/Data Scientist/Work/Modern Ways/Project/{lang_folder.lower().capitalize()}/Text Selection/\\\n",
    "Data/1-Text Selection Data Prepare/Tengram_Selected.csv\")\n",
    "df_tengram_select"
   ]
  },
  {
   "cell_type": "code",
   "execution_count": null,
   "metadata": {},
   "outputs": [],
   "source": []
  },
  {
   "cell_type": "markdown",
   "metadata": {},
   "source": [
    "#### Text Data Word-Word Group In Word Group"
   ]
  },
  {
   "cell_type": "code",
   "execution_count": null,
   "metadata": {},
   "outputs": [],
   "source": [
    "word_list = df_word_select[\"word\"].to_list()\n",
    "twogram_list = df_twogram_select[\"twogram\"].to_list()\n",
    "threegram_list = df_threegram_select[\"threegram\"].to_list()\n",
    "fourgram_list = df_fourgram_select[\"fourgram\"].to_list()\n",
    "fivegram_list = df_fivegram_select[\"fivegram\"].to_list()\n",
    "sixgram_list = df_sixgram_select[\"sixgram\"].to_list()\n",
    "sevengram_list = df_sevengram_select[\"sevengram\"].to_list()\n",
    "eightgram_list = df_eightgram_select[\"eightgram\"].to_list()\n",
    "ninegram_list = df_ninegram_select[\"ninegram\"].to_list()\n",
    "tengram_list = df_tengram_select[\"tengram\"].to_list()"
   ]
  },
  {
   "cell_type": "code",
   "execution_count": null,
   "metadata": {},
   "outputs": [],
   "source": []
  },
  {
   "cell_type": "markdown",
   "metadata": {},
   "source": [
    "##### Word"
   ]
  },
  {
   "cell_type": "code",
   "execution_count": null,
   "metadata": {},
   "outputs": [],
   "source": [
    "# 2 Way Fast\n",
    "# parameter\n",
    "source_wordgroup_list = word_list\n",
    "search_column_name = \"word\"\n",
    "target_column = \"twogram\"\n",
    "df_target = df_twogram_select\n",
    "\n",
    "# function\n",
    "searchlist = []\n",
    "resultlist = []\n",
    "manager = multiprocessing.Manager()\n",
    "resultlist = manager.list()\n",
    "searchlist = manager.list()\n",
    "\n",
    "def word_in_wordgroup(wordgroup):\n",
    "    try:\n",
    "        word_in_word_cluster = df_target[df_target[f\"{target_column}\"].str.contains(fr\"(?:\\s|^){wordgroup}(?:\\s|$)\", na=True)].iloc[0:2000,]\n",
    "        for result in word_in_word_cluster[f\"{target_column}\"]:\n",
    "            searchlist.append(wordgroup)\n",
    "            resultlist.append(result)\n",
    "    except:\n",
    "        pass\n",
    "\n",
    "if __name__ == '__main__':\n",
    "    # with Pool(16) as p:\n",
    "    with Pool(nprocs-2) as p: # Pool number CPU sayısına eşit olursa tüm CPU lar çalışır\n",
    "        p.map(word_in_wordgroup, source_wordgroup_list) # string_word liste\n",
    "\n",
    "#search_list = list(searchlist)\n",
    "#result_list = list(resultlist)\n",
    "#df_word_in_two = pd.DataFrame([search_list,result_list]).transpose()\n",
    "#df_word_in_two.columns = [f\"{search_column_name}\",f\"{target_column}\"]\n",
    "#df_word_in_two"
   ]
  },
  {
   "cell_type": "code",
   "execution_count": null,
   "metadata": {},
   "outputs": [],
   "source": [
    "search_list = list(searchlist)\n",
    "result_list = list(resultlist)\n",
    "df_word_in_two = pd.DataFrame({f\"{search_column_name}\":search_list,f\"{target_column}\":result_list})\n",
    "df_word_in_two"
   ]
  },
  {
   "cell_type": "code",
   "execution_count": null,
   "metadata": {},
   "outputs": [],
   "source": []
  },
  {
   "cell_type": "code",
   "execution_count": null,
   "metadata": {},
   "outputs": [],
   "source": [
    "df_word_in_two[df_word_in_two[\"word\"]==\"bu\"].sample(20)"
   ]
  },
  {
   "cell_type": "code",
   "execution_count": null,
   "metadata": {},
   "outputs": [],
   "source": []
  },
  {
   "cell_type": "code",
   "execution_count": null,
   "metadata": {},
   "outputs": [],
   "source": [
    "df_word_in_two[\"word\"].nunique()"
   ]
  },
  {
   "cell_type": "code",
   "execution_count": null,
   "metadata": {},
   "outputs": [],
   "source": [
    "df_word_in_two_list = df_word_in_two.groupby([\"word\"])[\"twogram\"].apply(list).reset_index(name=\"twogram\")\n",
    "df_word_in_two_list"
   ]
  },
  {
   "cell_type": "code",
   "execution_count": null,
   "metadata": {},
   "outputs": [],
   "source": [
    "#df_word_in_two_list.to_excel(f\"{lang_folder.capitalize()}_Word_Text_Selection_Result.xlsx\", index=False)"
   ]
  },
  {
   "cell_type": "code",
   "execution_count": null,
   "metadata": {},
   "outputs": [],
   "source": [
    "# parameter\n",
    "source_wordgroup_list = word_list\n",
    "search_column_name = \"word\"\n",
    "target_column = \"threegram\"\n",
    "df_target = df_threegram_select\n",
    "\n",
    "# function\n",
    "searchlist = []\n",
    "resultlist = []\n",
    "manager = multiprocessing.Manager()\n",
    "resultlist = manager.list()\n",
    "searchlist = manager.list()\n",
    "\n",
    "def word_in_wordgroup(wordgroup):\n",
    "    try:\n",
    "        word_in_word_cluster = df_target[df_target[f\"{target_column}\"].str.contains(fr\"(?:\\s|^){wordgroup}(?:\\s|$)\", na=True)].iloc[0:2000,]\n",
    "        for result in word_in_word_cluster[f\"{target_column}\"]:\n",
    "            searchlist.append(wordgroup)\n",
    "            resultlist.append(result)\n",
    "    except:\n",
    "        pass\n",
    "\n",
    "if __name__ == '__main__':\n",
    "    # with Pool(16) as p:\n",
    "    with Pool(nprocs-2) as p: # Pool number CPU sayısına eşit olursa tüm CPU lar çalışır nprocs\n",
    "        p.map(word_in_wordgroup, source_wordgroup_list) # string_word liste"
   ]
  },
  {
   "cell_type": "code",
   "execution_count": null,
   "metadata": {},
   "outputs": [],
   "source": [
    "search_list = list(searchlist)\n",
    "result_list = list(resultlist)\n",
    "df_word_in_three = pd.DataFrame({f\"{search_column_name}\":search_list,f\"{target_column}\":result_list})\n",
    "df_word_in_three"
   ]
  },
  {
   "cell_type": "code",
   "execution_count": null,
   "metadata": {},
   "outputs": [],
   "source": [
    "df_word_in_three_list = df_word_in_three.groupby([\"word\"])[\"threegram\"].apply(list).reset_index(name=\"threegram\")\n",
    "df_word_in_three_list"
   ]
  },
  {
   "cell_type": "code",
   "execution_count": null,
   "metadata": {},
   "outputs": [],
   "source": [
    "df_word_in_three[\"word\"].nunique()"
   ]
  },
  {
   "cell_type": "code",
   "execution_count": null,
   "metadata": {},
   "outputs": [],
   "source": [
    "# parameter\n",
    "source_wordgroup_list = word_list\n",
    "search_column_name = \"word\"\n",
    "target_column = \"fourgram\"\n",
    "df_target = df_fourgram_select\n",
    "\n",
    "# function\n",
    "searchlist = []\n",
    "resultlist = []\n",
    "manager = multiprocessing.Manager()\n",
    "resultlist = manager.list()\n",
    "searchlist = manager.list()\n",
    "\n",
    "def word_in_wordgroup(wordgroup):\n",
    "    try:\n",
    "        word_in_word_cluster = df_target[df_target[f\"{target_column}\"].str.contains(fr\"(?:\\s|^){wordgroup}(?:\\s|$)\", na=True)].iloc[0:2000,]\n",
    "        for result in word_in_word_cluster[f\"{target_column}\"]:\n",
    "            searchlist.append(wordgroup)\n",
    "            resultlist.append(result)\n",
    "    except:\n",
    "        pass\n",
    "\n",
    "if __name__ == '__main__':\n",
    "    # with Pool(16) as p:\n",
    "    with Pool(nprocs-2) as p: # Pool number CPU sayısına eşit olursa tüm CPU lar çalışır nprocs\n",
    "        p.map(word_in_wordgroup, source_wordgroup_list) # string_word liste"
   ]
  },
  {
   "cell_type": "code",
   "execution_count": null,
   "metadata": {},
   "outputs": [],
   "source": [
    "search_list = list(searchlist)\n",
    "result_list = list(resultlist)\n",
    "df_word_in_four = pd.DataFrame({f\"{search_column_name}\":search_list,f\"{target_column}\":result_list})\n",
    "df_word_in_four"
   ]
  },
  {
   "cell_type": "code",
   "execution_count": null,
   "metadata": {},
   "outputs": [],
   "source": [
    "df_word_in_four_list = df_word_in_four.groupby([\"word\"])[\"fourgram\"].apply(list).reset_index(name=\"fourgram\")\n",
    "df_word_in_four_list"
   ]
  },
  {
   "cell_type": "code",
   "execution_count": null,
   "metadata": {},
   "outputs": [],
   "source": [
    "# parameter\n",
    "source_wordgroup_list = word_list\n",
    "search_column_name = \"word\"\n",
    "target_column = \"fivegram\"\n",
    "df_target = df_fivegram_select\n",
    "\n",
    "# function\n",
    "searchlist = []\n",
    "resultlist = []\n",
    "manager = multiprocessing.Manager()\n",
    "resultlist = manager.list()\n",
    "searchlist = manager.list()\n",
    "\n",
    "def word_in_wordgroup(wordgroup):\n",
    "    try:\n",
    "        word_in_word_cluster = df_target[df_target[f\"{target_column}\"].str.contains(fr\"(?:\\s|^){wordgroup}(?:\\s|$)\", na=True)].iloc[0:2000,]\n",
    "        for result in word_in_word_cluster[f\"{target_column}\"]:\n",
    "            searchlist.append(wordgroup)\n",
    "            resultlist.append(result)\n",
    "    except:\n",
    "        pass\n",
    "\n",
    "if __name__ == '__main__':\n",
    "    # with Pool(16) as p:\n",
    "    with Pool(nprocs-2) as p: # Pool number CPU sayısına eşit olursa tüm CPU lar çalışır nprocs\n",
    "        p.map(word_in_wordgroup, source_wordgroup_list) # string_word liste"
   ]
  },
  {
   "cell_type": "code",
   "execution_count": null,
   "metadata": {},
   "outputs": [],
   "source": [
    "search_list = list(searchlist)\n",
    "result_list = list(resultlist)\n",
    "df_word_in_five = pd.DataFrame({f\"{search_column_name}\":search_list,f\"{target_column}\":result_list})\n",
    "df_word_in_five"
   ]
  },
  {
   "cell_type": "code",
   "execution_count": null,
   "metadata": {},
   "outputs": [],
   "source": [
    "df_word_in_five_list = df_word_in_five.groupby([\"word\"])[\"fivegram\"].apply(list).reset_index(name=\"fivegram\")\n",
    "df_word_in_five_list"
   ]
  },
  {
   "cell_type": "code",
   "execution_count": null,
   "metadata": {},
   "outputs": [],
   "source": [
    "# parameter\n",
    "source_wordgroup_list = word_list\n",
    "search_column_name = \"word\"\n",
    "target_column = \"sixgram\"\n",
    "df_target = df_sixgram_select\n",
    "\n",
    "# function\n",
    "searchlist = []\n",
    "resultlist = []\n",
    "manager = multiprocessing.Manager()\n",
    "resultlist = manager.list()\n",
    "searchlist = manager.list()\n",
    "\n",
    "def word_in_wordgroup(wordgroup):\n",
    "    try:\n",
    "        word_in_word_cluster = df_target[df_target[f\"{target_column}\"].str.contains(fr\"(?:\\s|^){wordgroup}(?:\\s|$)\", na=True)].iloc[0:2000,]\n",
    "        for result in word_in_word_cluster[f\"{target_column}\"]:\n",
    "            searchlist.append(wordgroup)\n",
    "            resultlist.append(result)\n",
    "    except:\n",
    "        pass\n",
    "\n",
    "if __name__ == '__main__':\n",
    "    # with Pool(16) as p:\n",
    "    with Pool(nprocs-2) as p: # Pool number CPU sayısına eşit olursa tüm CPU lar çalışır nprocs\n",
    "        p.map(word_in_wordgroup, source_wordgroup_list) # string_word liste"
   ]
  },
  {
   "cell_type": "code",
   "execution_count": null,
   "metadata": {},
   "outputs": [],
   "source": [
    "search_list = list(searchlist)\n",
    "result_list = list(resultlist)\n",
    "df_word_in_six = pd.DataFrame({f\"{search_column_name}\":search_list,f\"{target_column}\":result_list})\n",
    "df_word_in_six"
   ]
  },
  {
   "cell_type": "code",
   "execution_count": null,
   "metadata": {},
   "outputs": [],
   "source": [
    "df_word_in_six_list = df_word_in_six.groupby([\"word\"])[\"sixgram\"].apply(list).reset_index(name=\"sixgram\")\n",
    "df_word_in_six_list"
   ]
  },
  {
   "cell_type": "code",
   "execution_count": null,
   "metadata": {},
   "outputs": [],
   "source": [
    "# parameter\n",
    "source_wordgroup_list = word_list\n",
    "search_column_name = \"word\"\n",
    "target_column = \"sevengram\"\n",
    "df_target = df_sevengram_select\n",
    "\n",
    "# function\n",
    "searchlist = []\n",
    "resultlist = []\n",
    "manager = multiprocessing.Manager()\n",
    "resultlist = manager.list()\n",
    "searchlist = manager.list()\n",
    "\n",
    "def word_in_wordgroup(wordgroup):\n",
    "    try:\n",
    "        word_in_word_cluster = df_target[df_target[f\"{target_column}\"].str.contains(fr\"(?:\\s|^){wordgroup}(?:\\s|$)\", na=True)].iloc[0:2000,]\n",
    "        for result in word_in_word_cluster[f\"{target_column}\"]:\n",
    "            searchlist.append(wordgroup)\n",
    "            resultlist.append(result)\n",
    "    except:\n",
    "        pass\n",
    "\n",
    "if __name__ == '__main__':\n",
    "    # with Pool(16) as p:\n",
    "    with Pool(nprocs-2) as p: # Pool number CPU sayısına eşit olursa tüm CPU lar çalışır nprocs\n",
    "        p.map(word_in_wordgroup, source_wordgroup_list) # string_word liste"
   ]
  },
  {
   "cell_type": "code",
   "execution_count": null,
   "metadata": {},
   "outputs": [],
   "source": [
    "search_list = list(searchlist)\n",
    "result_list = list(resultlist)\n",
    "df_word_in_seven = pd.DataFrame({f\"{search_column_name}\":search_list,f\"{target_column}\":result_list})\n",
    "df_word_in_seven"
   ]
  },
  {
   "cell_type": "code",
   "execution_count": null,
   "metadata": {},
   "outputs": [],
   "source": [
    "df_word_in_seven_list = df_word_in_seven.groupby([\"word\"])[\"sevengram\"].apply(list).reset_index(name=\"sevengram\")\n",
    "df_word_in_seven_list"
   ]
  },
  {
   "cell_type": "code",
   "execution_count": null,
   "metadata": {},
   "outputs": [],
   "source": [
    "# parameter\n",
    "source_wordgroup_list = word_list\n",
    "search_column_name = \"word\"\n",
    "target_column = \"eightgram\"\n",
    "df_target = df_eightgram_select\n",
    "\n",
    "# function\n",
    "searchlist = []\n",
    "resultlist = []\n",
    "manager = multiprocessing.Manager()\n",
    "resultlist = manager.list()\n",
    "searchlist = manager.list()\n",
    "\n",
    "def word_in_wordgroup(wordgroup):\n",
    "    try:\n",
    "        word_in_word_cluster = df_target[df_target[f\"{target_column}\"].str.contains(fr\"(?:\\s|^){wordgroup}(?:\\s|$)\", na=True)].iloc[0:2000,]\n",
    "        for result in word_in_word_cluster[f\"{target_column}\"]:\n",
    "            searchlist.append(wordgroup)\n",
    "            resultlist.append(result)\n",
    "    except:\n",
    "        pass\n",
    "\n",
    "if __name__ == '__main__':\n",
    "    # with Pool(16) as p:\n",
    "    with Pool(nprocs-2) as p: # Pool number CPU sayısına eşit olursa tüm CPU lar çalışır nprocs\n",
    "        p.map(word_in_wordgroup, source_wordgroup_list) # string_word liste"
   ]
  },
  {
   "cell_type": "code",
   "execution_count": null,
   "metadata": {},
   "outputs": [],
   "source": [
    "search_list = list(searchlist)\n",
    "result_list = list(resultlist)\n",
    "df_word_in_eight = pd.DataFrame({f\"{search_column_name}\":search_list,f\"{target_column}\":result_list})\n",
    "df_word_in_eight"
   ]
  },
  {
   "cell_type": "code",
   "execution_count": null,
   "metadata": {},
   "outputs": [],
   "source": [
    "df_word_in_eight_list = df_word_in_eight.groupby([\"word\"])[\"eightgram\"].apply(list).reset_index(name=\"eightgram\")\n",
    "df_word_in_eight_list"
   ]
  },
  {
   "cell_type": "code",
   "execution_count": null,
   "metadata": {},
   "outputs": [],
   "source": [
    "# parameter\n",
    "source_wordgroup_list = word_list\n",
    "search_column_name = \"word\"\n",
    "target_column = \"ninegram\"\n",
    "df_target = df_ninegram_select\n",
    "\n",
    "# function\n",
    "searchlist = []\n",
    "resultlist = []\n",
    "manager = multiprocessing.Manager()\n",
    "resultlist = manager.list()\n",
    "searchlist = manager.list()\n",
    "\n",
    "def word_in_wordgroup(wordgroup):\n",
    "    try:\n",
    "        word_in_word_cluster = df_target[df_target[f\"{target_column}\"].str.contains(fr\"(?:\\s|^){wordgroup}(?:\\s|$)\", na=True)].iloc[0:2000,]\n",
    "        for result in word_in_word_cluster[f\"{target_column}\"]:\n",
    "            searchlist.append(wordgroup)\n",
    "            resultlist.append(result)\n",
    "    except:\n",
    "        pass\n",
    "\n",
    "if __name__ == '__main__':\n",
    "    # with Pool(16) as p:\n",
    "    with Pool(nprocs-2) as p: # Pool number CPU sayısına eşit olursa tüm CPU lar çalışır nprocs\n",
    "        p.map(word_in_wordgroup, source_wordgroup_list) # string_word liste"
   ]
  },
  {
   "cell_type": "code",
   "execution_count": null,
   "metadata": {},
   "outputs": [],
   "source": [
    "search_list = list(searchlist)\n",
    "result_list = list(resultlist)\n",
    "df_word_in_nine = pd.DataFrame({f\"{search_column_name}\":search_list,f\"{target_column}\":result_list})\n",
    "df_word_in_nine"
   ]
  },
  {
   "cell_type": "code",
   "execution_count": null,
   "metadata": {},
   "outputs": [],
   "source": [
    "df_word_in_nine_list = df_word_in_nine.groupby([\"word\"])[\"ninegram\"].apply(list).reset_index(name=\"ninegram\")\n",
    "df_word_in_nine_list"
   ]
  },
  {
   "cell_type": "code",
   "execution_count": null,
   "metadata": {},
   "outputs": [],
   "source": [
    "# parameter\n",
    "source_wordgroup_list = word_list\n",
    "search_column_name = \"word\"\n",
    "target_column = \"tengram\"\n",
    "df_target = df_tengram_select\n",
    "\n",
    "# function\n",
    "searchlist = []\n",
    "resultlist = []\n",
    "manager = multiprocessing.Manager()\n",
    "resultlist = manager.list()\n",
    "searchlist = manager.list()\n",
    "\n",
    "def word_in_wordgroup(wordgroup):\n",
    "    try:\n",
    "        word_in_word_cluster = df_target[df_target[f\"{target_column}\"].str.contains(fr\"(?:\\s|^){wordgroup}(?:\\s|$)\", na=True)].iloc[0:2000,]\n",
    "        for result in word_in_word_cluster[f\"{target_column}\"]:\n",
    "            searchlist.append(wordgroup)\n",
    "            resultlist.append(result)\n",
    "    except:\n",
    "        pass\n",
    "\n",
    "if __name__ == '__main__':\n",
    "    # with Pool(16) as p:\n",
    "    with Pool(nprocs-2) as p: # Pool number CPU sayısına eşit olursa tüm CPU lar çalışır nprocs\n",
    "        p.map(word_in_wordgroup, source_wordgroup_list) # string_word liste"
   ]
  },
  {
   "cell_type": "code",
   "execution_count": null,
   "metadata": {},
   "outputs": [],
   "source": [
    "search_list = list(searchlist)\n",
    "result_list = list(resultlist)\n",
    "df_word_in_ten = pd.DataFrame({f\"{search_column_name}\":search_list,f\"{target_column}\":result_list})\n",
    "df_word_in_ten"
   ]
  },
  {
   "cell_type": "code",
   "execution_count": null,
   "metadata": {},
   "outputs": [],
   "source": [
    "df_word_in_ten_list = df_word_in_ten.groupby([\"word\"])[\"tengram\"].apply(list).reset_index(name=\"tengram\")\n",
    "df_word_in_ten_list"
   ]
  },
  {
   "cell_type": "code",
   "execution_count": null,
   "metadata": {},
   "outputs": [],
   "source": [
    "dfs = [df_word_select, df_word_in_two_list, df_word_in_three_list, df_word_in_four_list, df_word_in_five_list, df_word_in_six_list, df_word_in_seven_list, df_word_in_eight_list, df_word_in_nine_list, df_word_in_ten_list]"
   ]
  },
  {
   "cell_type": "code",
   "execution_count": null,
   "metadata": {},
   "outputs": [],
   "source": [
    "df_word_merge = reduce(lambda  left,right: pd.merge(left,right, on=['word'], how='left'), dfs)\n",
    "df_word_merge"
   ]
  },
  {
   "cell_type": "code",
   "execution_count": null,
   "metadata": {},
   "outputs": [],
   "source": [
    "#df_word_merge.to_excel(f\"{lang_folder.capitalize()}_Word_Text_Selection_Temp.xlsx\", index=False)\n",
    "df_word_merge.to_csv(f\"{lang_folder.capitalize()}_Word_Text_Selection_Temp.csv\", index=False)"
   ]
  },
  {
   "cell_type": "code",
   "execution_count": null,
   "metadata": {},
   "outputs": [],
   "source": [
    "#df_word_text = pd.read_excel(f\"{lang_folder.capitalize()}_Word_Text_Selection_Temp.xlsx\")\n",
    "df_word_text = pd.read_csv(f\"{lang_folder.capitalize()}_Word_Text_Selection_Temp.csv\")"
   ]
  },
  {
   "cell_type": "code",
   "execution_count": null,
   "metadata": {},
   "outputs": [],
   "source": [
    "df_word_merge2 = df_word_text[~(df_word_text[\"twogram\"].isnull() & df_word_text[\"threegram\"].isnull() & df_word_text[\"fourgram\"].isnull() & df_word_text[\"fivegram\"].isnull() & \\\n",
    "df_word_text[\"sixgram\"].isnull() & df_word_text[\"sevengram\"].isnull() & df_word_text[\"eightgram\"].isnull() & df_word_text[\"ninegram\"].isnull() & df_word_text[\"tengram\"].isnull())]\n",
    "df_word_merge2"
   ]
  },
  {
   "cell_type": "code",
   "execution_count": null,
   "metadata": {},
   "outputs": [],
   "source": [
    "#df_word_merge2.to_excel(f\"{lang_folder.capitalize()}_Word_Text_Selection_Result.xlsx\", index=False)\n",
    "df_word_merge2.to_csv(f\"{lang_folder.capitalize()}_Word_Text_Selection_Result.csv\", index=False)"
   ]
  },
  {
   "cell_type": "code",
   "execution_count": null,
   "metadata": {},
   "outputs": [],
   "source": []
  },
  {
   "cell_type": "markdown",
   "metadata": {},
   "source": [
    "##### Twogram"
   ]
  },
  {
   "cell_type": "code",
   "execution_count": null,
   "metadata": {},
   "outputs": [],
   "source": [
    "# 2 Way Fast\n",
    "# parameter\n",
    "source_wordgroup_list = twogram_list\n",
    "search_column_name = \"twogram\"\n",
    "target_column = \"threegram\"\n",
    "df_target = df_threegram_select\n",
    "\n",
    "# function\n",
    "searchlist = []\n",
    "resultlist = []\n",
    "manager = multiprocessing.Manager()\n",
    "resultlist = manager.list()\n",
    "searchlist = manager.list()\n",
    "\n",
    "def word_in_wordgroup(wordgroup):    \n",
    "    try:\n",
    "        word_in_word_cluster = df_target[df_target[f\"{target_column}\"].str.contains(fr\"(?:\\s|^){wordgroup}(?:\\s|$)\", na=True)].iloc[0:2000,]\n",
    "        for result in word_in_word_cluster[f\"{target_column}\"]:\n",
    "            searchlist.append(wordgroup)\n",
    "            resultlist.append(result)\n",
    "    except:\n",
    "        pass\n",
    "\n",
    "if __name__ == '__main__':\n",
    "    # with Pool(16) as p:\n",
    "    with Pool(nprocs-2) as p: # Pool number CPU sayısına eşit olursa tüm CPU lar çalışır\n",
    "        p.map(word_in_wordgroup, source_wordgroup_list) # string_word liste"
   ]
  },
  {
   "cell_type": "code",
   "execution_count": null,
   "metadata": {},
   "outputs": [],
   "source": [
    "search_list = list(searchlist)\n",
    "result_list = list(resultlist)\n",
    "df_two_in_three = pd.DataFrame({f\"{search_column_name}\":search_list,f\"{target_column}\":result_list})\n",
    "df_two_in_three"
   ]
  },
  {
   "cell_type": "code",
   "execution_count": null,
   "metadata": {},
   "outputs": [],
   "source": [
    "df_two_in_three_list = df_two_in_three.groupby([\"twogram\"])[\"threegram\"].apply(list).reset_index(name=\"threegram\")\n",
    "df_two_in_three_list"
   ]
  },
  {
   "cell_type": "code",
   "execution_count": null,
   "metadata": {},
   "outputs": [],
   "source": [
    "# parameter\n",
    "source_wordgroup_list = twogram_list\n",
    "search_column_name = \"twogram\"\n",
    "target_column = \"fourgram\"\n",
    "df_target = df_fourgram_select\n",
    "\n",
    "# function\n",
    "searchlist = []\n",
    "resultlist = []\n",
    "manager = multiprocessing.Manager()\n",
    "resultlist = manager.list()\n",
    "searchlist = manager.list()\n",
    "\n",
    "def word_in_wordgroup(wordgroup):    \n",
    "    try:\n",
    "        word_in_word_cluster = df_target[df_target[f\"{target_column}\"].str.contains(fr\"(?:\\s|^){wordgroup}(?:\\s|$)\", na=True)].iloc[0:2000,]\n",
    "        for result in word_in_word_cluster[f\"{target_column}\"]:\n",
    "            searchlist.append(wordgroup)\n",
    "            resultlist.append(result)\n",
    "    except:\n",
    "        pass\n",
    "\n",
    "if __name__ == '__main__':\n",
    "    # with Pool(16) as p:\n",
    "    with Pool(nprocs-2) as p: # Pool number CPU sayısına eşit olursa tüm CPU lar çalışır\n",
    "        p.map(word_in_wordgroup, source_wordgroup_list) # string_word liste"
   ]
  },
  {
   "cell_type": "code",
   "execution_count": null,
   "metadata": {},
   "outputs": [],
   "source": [
    "search_list = list(searchlist)\n",
    "result_list = list(resultlist)\n",
    "df_two_in_four = pd.DataFrame({f\"{search_column_name}\":search_list,f\"{target_column}\":result_list})\n",
    "df_two_in_four"
   ]
  },
  {
   "cell_type": "code",
   "execution_count": null,
   "metadata": {},
   "outputs": [],
   "source": [
    "df_two_in_four_list = df_two_in_four.groupby([\"twogram\"])[\"fourgram\"].apply(list).reset_index(name=\"fourgram\")\n",
    "df_two_in_four_list"
   ]
  },
  {
   "cell_type": "code",
   "execution_count": null,
   "metadata": {},
   "outputs": [],
   "source": [
    "# parameter\n",
    "source_wordgroup_list = twogram_list\n",
    "search_column_name = \"twogram\"\n",
    "target_column = \"fivegram\"\n",
    "df_target = df_fivegram_select\n",
    "\n",
    "# function\n",
    "searchlist = []\n",
    "resultlist = []\n",
    "manager = multiprocessing.Manager()\n",
    "resultlist = manager.list()\n",
    "searchlist = manager.list()\n",
    "\n",
    "def word_in_wordgroup(wordgroup):    \n",
    "    try:\n",
    "        word_in_word_cluster = df_target[df_target[f\"{target_column}\"].str.contains(fr\"(?:\\s|^){wordgroup}(?:\\s|$)\", na=True)].iloc[0:2000,]\n",
    "        for result in word_in_word_cluster[f\"{target_column}\"]:\n",
    "            searchlist.append(wordgroup)\n",
    "            resultlist.append(result)\n",
    "    except:\n",
    "        pass\n",
    "\n",
    "if __name__ == '__main__':\n",
    "    # with Pool(16) as p:\n",
    "    with Pool(nprocs-2) as p: # Pool number CPU sayısına eşit olursa tüm CPU lar çalışır\n",
    "        p.map(word_in_wordgroup, source_wordgroup_list) # string_word liste"
   ]
  },
  {
   "cell_type": "code",
   "execution_count": null,
   "metadata": {},
   "outputs": [],
   "source": [
    "search_list = list(searchlist)\n",
    "result_list = list(resultlist)\n",
    "df_two_in_five = pd.DataFrame({f\"{search_column_name}\":search_list,f\"{target_column}\":result_list})\n",
    "df_two_in_five"
   ]
  },
  {
   "cell_type": "code",
   "execution_count": null,
   "metadata": {},
   "outputs": [],
   "source": [
    "df_two_in_five_list = df_two_in_five.groupby([\"twogram\"])[\"fivegram\"].apply(list).reset_index(name=\"fivegram\")\n",
    "df_two_in_five_list"
   ]
  },
  {
   "cell_type": "code",
   "execution_count": null,
   "metadata": {},
   "outputs": [],
   "source": [
    "# parameter\n",
    "source_wordgroup_list = twogram_list\n",
    "search_column_name = \"twogram\"\n",
    "target_column = \"sixgram\"\n",
    "df_target = df_sixgram_select\n",
    "\n",
    "# function\n",
    "searchlist = []\n",
    "resultlist = []\n",
    "manager = multiprocessing.Manager()\n",
    "resultlist = manager.list()\n",
    "searchlist = manager.list()\n",
    "\n",
    "def word_in_wordgroup(wordgroup):    \n",
    "    try:\n",
    "        word_in_word_cluster = df_target[df_target[f\"{target_column}\"].str.contains(fr\"(?:\\s|^){wordgroup}(?:\\s|$)\", na=True)].iloc[0:2000,]\n",
    "        for result in word_in_word_cluster[f\"{target_column}\"]:\n",
    "            searchlist.append(wordgroup)\n",
    "            resultlist.append(result)\n",
    "    except:\n",
    "        pass\n",
    "\n",
    "if __name__ == '__main__':\n",
    "    # with Pool(16) as p:\n",
    "    with Pool(nprocs-2) as p: # Pool number CPU sayısına eşit olursa tüm CPU lar çalışır\n",
    "        p.map(word_in_wordgroup, source_wordgroup_list) # string_word liste"
   ]
  },
  {
   "cell_type": "code",
   "execution_count": null,
   "metadata": {},
   "outputs": [],
   "source": [
    "search_list = list(searchlist)\n",
    "result_list = list(resultlist)\n",
    "df_two_in_six = pd.DataFrame({f\"{search_column_name}\":search_list,f\"{target_column}\":result_list})\n",
    "df_two_in_six"
   ]
  },
  {
   "cell_type": "code",
   "execution_count": null,
   "metadata": {},
   "outputs": [],
   "source": [
    "df_two_in_six_list = df_two_in_six.groupby([\"twogram\"])[\"sixgram\"].apply(list).reset_index(name=\"sixgram\")\n",
    "df_two_in_six_list"
   ]
  },
  {
   "cell_type": "code",
   "execution_count": null,
   "metadata": {},
   "outputs": [],
   "source": [
    "# parameter\n",
    "source_wordgroup_list = twogram_list\n",
    "search_column_name = \"twogram\"\n",
    "target_column = \"sevengram\"\n",
    "df_target = df_sevengram_select\n",
    "\n",
    "# function\n",
    "searchlist = []\n",
    "resultlist = []\n",
    "manager = multiprocessing.Manager()\n",
    "resultlist = manager.list()\n",
    "searchlist = manager.list()\n",
    "\n",
    "def word_in_wordgroup(wordgroup):    \n",
    "    try:\n",
    "        word_in_word_cluster = df_target[df_target[f\"{target_column}\"].str.contains(fr\"(?:\\s|^){wordgroup}(?:\\s|$)\", na=True)].iloc[0:2000,]\n",
    "        for result in word_in_word_cluster[f\"{target_column}\"]:\n",
    "            searchlist.append(wordgroup)\n",
    "            resultlist.append(result)\n",
    "    except:\n",
    "        pass\n",
    "\n",
    "if __name__ == '__main__':\n",
    "    # with Pool(16) as p:\n",
    "    with Pool(nprocs-2) as p: # Pool number CPU sayısına eşit olursa tüm CPU lar çalışır\n",
    "        p.map(word_in_wordgroup, source_wordgroup_list) # string_word liste"
   ]
  },
  {
   "cell_type": "code",
   "execution_count": null,
   "metadata": {},
   "outputs": [],
   "source": [
    "search_list = list(searchlist)\n",
    "result_list = list(resultlist)\n",
    "df_two_in_seven = pd.DataFrame({f\"{search_column_name}\":search_list,f\"{target_column}\":result_list})\n",
    "df_two_in_seven"
   ]
  },
  {
   "cell_type": "code",
   "execution_count": null,
   "metadata": {},
   "outputs": [],
   "source": [
    "df_two_in_seven_list = df_two_in_seven.groupby([\"twogram\"])[\"sevengram\"].apply(list).reset_index(name=\"sevengram\")\n",
    "df_two_in_seven_list"
   ]
  },
  {
   "cell_type": "code",
   "execution_count": null,
   "metadata": {},
   "outputs": [],
   "source": [
    "# parameter\n",
    "source_wordgroup_list = twogram_list\n",
    "search_column_name = \"twogram\"\n",
    "target_column = \"eightgram\"\n",
    "df_target = df_eightgram_select\n",
    "\n",
    "# function\n",
    "searchlist = []\n",
    "resultlist = []\n",
    "manager = multiprocessing.Manager()\n",
    "resultlist = manager.list()\n",
    "searchlist = manager.list()\n",
    "\n",
    "def word_in_wordgroup(wordgroup):    \n",
    "    try:\n",
    "        word_in_word_cluster = df_target[df_target[f\"{target_column}\"].str.contains(fr\"(?:\\s|^){wordgroup}(?:\\s|$)\", na=True)].iloc[0:2000,]\n",
    "        for result in word_in_word_cluster[f\"{target_column}\"]:\n",
    "            searchlist.append(wordgroup)\n",
    "            resultlist.append(result)\n",
    "    except:\n",
    "        pass\n",
    "\n",
    "if __name__ == '__main__':\n",
    "    # with Pool(16) as p:\n",
    "    with Pool(nprocs-2) as p: # Pool number CPU sayısına eşit olursa tüm CPU lar çalışır\n",
    "        p.map(word_in_wordgroup, source_wordgroup_list) # string_word liste"
   ]
  },
  {
   "cell_type": "code",
   "execution_count": null,
   "metadata": {},
   "outputs": [],
   "source": [
    "search_list = list(searchlist)\n",
    "result_list = list(resultlist)\n",
    "df_two_in_eight = pd.DataFrame({f\"{search_column_name}\":search_list,f\"{target_column}\":result_list})\n",
    "df_two_in_eight"
   ]
  },
  {
   "cell_type": "code",
   "execution_count": null,
   "metadata": {},
   "outputs": [],
   "source": [
    "df_two_in_eight_list = df_two_in_eight.groupby([\"twogram\"])[\"eightgram\"].apply(list).reset_index(name=\"eightgram\")\n",
    "df_two_in_eight_list"
   ]
  },
  {
   "cell_type": "code",
   "execution_count": null,
   "metadata": {},
   "outputs": [],
   "source": [
    "# parameter\n",
    "source_wordgroup_list = twogram_list\n",
    "search_column_name = \"twogram\"\n",
    "target_column = \"ninegram\"\n",
    "df_target = df_ninegram_select\n",
    "\n",
    "# function\n",
    "searchlist = []\n",
    "resultlist = []\n",
    "manager = multiprocessing.Manager()\n",
    "resultlist = manager.list()\n",
    "searchlist = manager.list()\n",
    "\n",
    "def word_in_wordgroup(wordgroup):    \n",
    "    try:\n",
    "        word_in_word_cluster = df_target[df_target[f\"{target_column}\"].str.contains(fr\"(?:\\s|^){wordgroup}(?:\\s|$)\", na=True)].iloc[0:2000,]\n",
    "        for result in word_in_word_cluster[f\"{target_column}\"]:\n",
    "            searchlist.append(wordgroup)\n",
    "            resultlist.append(result)\n",
    "    except:\n",
    "        pass\n",
    "\n",
    "if __name__ == '__main__':\n",
    "    # with Pool(16) as p:\n",
    "    with Pool(nprocs-2) as p: # Pool number CPU sayısına eşit olursa tüm CPU lar çalışır\n",
    "        p.map(word_in_wordgroup, source_wordgroup_list) # string_word liste"
   ]
  },
  {
   "cell_type": "code",
   "execution_count": null,
   "metadata": {},
   "outputs": [],
   "source": [
    "search_list = list(searchlist)\n",
    "result_list = list(resultlist)\n",
    "df_two_in_nine = pd.DataFrame({f\"{search_column_name}\":search_list,f\"{target_column}\":result_list})\n",
    "df_two_in_nine"
   ]
  },
  {
   "cell_type": "code",
   "execution_count": null,
   "metadata": {},
   "outputs": [],
   "source": [
    "df_two_in_nine_list = df_two_in_nine.groupby([\"twogram\"])[\"ninegram\"].apply(list).reset_index(name=\"ninegram\")\n",
    "df_two_in_nine_list"
   ]
  },
  {
   "cell_type": "code",
   "execution_count": null,
   "metadata": {},
   "outputs": [],
   "source": [
    "# parameter\n",
    "source_wordgroup_list = twogram_list\n",
    "search_column_name = \"twogram\"\n",
    "target_column = \"tengram\"\n",
    "df_target = df_tengram_select\n",
    "\n",
    "# function\n",
    "searchlist = []\n",
    "resultlist = []\n",
    "manager = multiprocessing.Manager()\n",
    "resultlist = manager.list()\n",
    "searchlist = manager.list()\n",
    "\n",
    "def word_in_wordgroup(wordgroup):    \n",
    "    try:\n",
    "        word_in_word_cluster = df_target[df_target[f\"{target_column}\"].str.contains(fr\"(?:\\s|^){wordgroup}(?:\\s|$)\", na=True)].iloc[0:2000,]\n",
    "        for result in word_in_word_cluster[f\"{target_column}\"]:\n",
    "            searchlist.append(wordgroup)\n",
    "            resultlist.append(result)\n",
    "    except:\n",
    "        pass\n",
    "\n",
    "if __name__ == '__main__':\n",
    "    # with Pool(16) as p:\n",
    "    with Pool(nprocs-2) as p: # Pool number CPU sayısına eşit olursa tüm CPU lar çalışır\n",
    "        p.map(word_in_wordgroup, source_wordgroup_list) # string_word liste"
   ]
  },
  {
   "cell_type": "code",
   "execution_count": null,
   "metadata": {},
   "outputs": [],
   "source": [
    "search_list = list(searchlist)\n",
    "result_list = list(resultlist)\n",
    "df_two_in_ten = pd.DataFrame({f\"{search_column_name}\":search_list,f\"{target_column}\":result_list})\n",
    "df_two_in_ten"
   ]
  },
  {
   "cell_type": "code",
   "execution_count": null,
   "metadata": {},
   "outputs": [],
   "source": [
    "df_two_in_ten_list = df_two_in_ten.groupby([\"twogram\"])[\"tengram\"].apply(list).reset_index(name=\"tengram\")\n",
    "df_two_in_ten_list"
   ]
  },
  {
   "cell_type": "code",
   "execution_count": null,
   "metadata": {},
   "outputs": [],
   "source": [
    "dfs2 = [df_twogram_select, df_two_in_three_list, df_two_in_four_list, df_two_in_five_list, df_two_in_six_list, df_two_in_seven_list, df_two_in_eight_list, df_two_in_nine_list, df_two_in_ten_list]"
   ]
  },
  {
   "cell_type": "code",
   "execution_count": null,
   "metadata": {},
   "outputs": [],
   "source": [
    "df_twogram_merge = reduce(lambda  left,right: pd.merge(left,right, on=['twogram'], how='left'), dfs2)\n",
    "df_twogram_merge"
   ]
  },
  {
   "cell_type": "code",
   "execution_count": null,
   "metadata": {},
   "outputs": [],
   "source": [
    "#df_twogram_merge.to_excel(f\"{lang_folder.capitalize()}_Twogram_Text_Selection_Temp.xlsx\", index=False)\n",
    "df_twogram_merge.to_csv(f\"{lang_folder.capitalize()}_Twogram_Text_Selection_Temp.csv\", index=False)"
   ]
  },
  {
   "cell_type": "code",
   "execution_count": null,
   "metadata": {},
   "outputs": [],
   "source": [
    "#df_twogram_text = pd.read_excel(f\"{lang_folder.capitalize()}_Twogram_Text_Selection_Temp.xlsx\")\n",
    "df_twogram_text = pd.read_csv(f\"{lang_folder.capitalize()}_Twogram_Text_Selection_Temp.csv\")"
   ]
  },
  {
   "cell_type": "code",
   "execution_count": null,
   "metadata": {},
   "outputs": [],
   "source": [
    "df_twogram_merge2 = df_twogram_text[~(df_twogram_text[\"threegram\"].isnull() & df_twogram_text[\"fourgram\"].isnull() & df_twogram_text[\"fivegram\"].isnull() & df_twogram_text[\"sixgram\"].isnull() & \\\n",
    "df_twogram_text[\"sevengram\"].isnull() & df_twogram_text[\"eightgram\"].isnull() & df_twogram_text[\"ninegram\"].isnull() & df_twogram_text[\"tengram\"].isnull())]\n",
    "df_twogram_merge2"
   ]
  },
  {
   "cell_type": "code",
   "execution_count": null,
   "metadata": {},
   "outputs": [],
   "source": [
    "#df_twogram_merge2.to_excel(f\"{lang_folder.capitalize()}_Twogram_Text_Selection_Result.xlsx\", index=False)\n",
    "df_twogram_merge2.to_csv(f\"{lang_folder.capitalize()}_Twogram_Text_Selection_Result.csv\", index=False)"
   ]
  },
  {
   "cell_type": "code",
   "execution_count": null,
   "metadata": {},
   "outputs": [],
   "source": []
  },
  {
   "cell_type": "markdown",
   "metadata": {},
   "source": [
    "##### Threegram"
   ]
  },
  {
   "cell_type": "code",
   "execution_count": null,
   "metadata": {},
   "outputs": [],
   "source": [
    "# parameter\n",
    "source_wordgroup_list = threegram_list\n",
    "search_column_name = \"threegram\"\n",
    "target_column = \"fourgram\"\n",
    "df_target = df_fourgram_select\n",
    "\n",
    "# function\n",
    "searchlist = []\n",
    "resultlist = []\n",
    "manager = multiprocessing.Manager()\n",
    "resultlist = manager.list()\n",
    "searchlist = manager.list()\n",
    "\n",
    "def word_in_wordgroup(wordgroup):    \n",
    "    try:\n",
    "        word_in_word_cluster = df_target[df_target[f\"{target_column}\"].str.contains(fr\"(?:\\s|^){wordgroup}(?:\\s|$)\", na=True)].iloc[0:2000,]\n",
    "        for result in word_in_word_cluster[f\"{target_column}\"]:\n",
    "            searchlist.append(wordgroup)\n",
    "            resultlist.append(result)\n",
    "    except:\n",
    "        pass\n",
    "\n",
    "if __name__ == '__main__':\n",
    "    # with Pool(16) as p:\n",
    "    with Pool(nprocs) as p: # Pool number CPU sayısına eşit olursa tüm CPU lar çalışır\n",
    "        p.map(word_in_wordgroup, source_wordgroup_list) # string_word liste"
   ]
  },
  {
   "cell_type": "code",
   "execution_count": null,
   "metadata": {},
   "outputs": [],
   "source": [
    "search_list = list(searchlist)\n",
    "result_list = list(resultlist)\n",
    "df_three_in_four = pd.DataFrame({f\"{search_column_name}\":search_list,f\"{target_column}\":result_list})\n",
    "df_three_in_four"
   ]
  },
  {
   "cell_type": "code",
   "execution_count": null,
   "metadata": {},
   "outputs": [],
   "source": [
    "df_three_in_four_list = df_three_in_four.groupby([\"threegram\"])[\"fourgram\"].apply(list).reset_index(name=\"fourgram\")\n",
    "df_three_in_four_list"
   ]
  },
  {
   "cell_type": "code",
   "execution_count": null,
   "metadata": {},
   "outputs": [],
   "source": [
    "# parameter\n",
    "source_wordgroup_list = threegram_list\n",
    "search_column_name = \"threegram\"\n",
    "target_column = \"fivegram\"\n",
    "df_target = df_fivegram_select\n",
    "\n",
    "# function\n",
    "searchlist = []\n",
    "resultlist = []\n",
    "manager = multiprocessing.Manager()\n",
    "resultlist = manager.list()\n",
    "searchlist = manager.list()\n",
    "\n",
    "def word_in_wordgroup(wordgroup):    \n",
    "    try:\n",
    "        word_in_word_cluster = df_target[df_target[f\"{target_column}\"].str.contains(fr\"(?:\\s|^){wordgroup}(?:\\s|$)\", na=True)].iloc[0:2000,]\n",
    "        for result in word_in_word_cluster[f\"{target_column}\"]:\n",
    "            searchlist.append(wordgroup)\n",
    "            resultlist.append(result)\n",
    "    except:\n",
    "        pass\n",
    "\n",
    "if __name__ == '__main__':\n",
    "    # with Pool(16) as p:\n",
    "    with Pool(nprocs) as p: # Pool number CPU sayısına eşit olursa tüm CPU lar çalışır\n",
    "        p.map(word_in_wordgroup, source_wordgroup_list) # string_word liste"
   ]
  },
  {
   "cell_type": "code",
   "execution_count": null,
   "metadata": {},
   "outputs": [],
   "source": [
    "search_list = list(searchlist)\n",
    "result_list = list(resultlist)\n",
    "df_three_in_five = pd.DataFrame({f\"{search_column_name}\":search_list,f\"{target_column}\":result_list})\n",
    "df_three_in_five"
   ]
  },
  {
   "cell_type": "code",
   "execution_count": null,
   "metadata": {},
   "outputs": [],
   "source": [
    "df_three_in_five_list = df_three_in_five.groupby([\"threegram\"])[\"fivegram\"].apply(list).reset_index(name=\"fivegram\")\n",
    "df_three_in_five_list"
   ]
  },
  {
   "cell_type": "code",
   "execution_count": null,
   "metadata": {},
   "outputs": [],
   "source": [
    "# parameter\n",
    "source_wordgroup_list = threegram_list\n",
    "search_column_name = \"threegram\"\n",
    "target_column = \"sixgram\"\n",
    "df_target = df_sixgram_select\n",
    "\n",
    "# function\n",
    "searchlist = []\n",
    "resultlist = []\n",
    "manager = multiprocessing.Manager()\n",
    "resultlist = manager.list()\n",
    "searchlist = manager.list()\n",
    "\n",
    "def word_in_wordgroup(wordgroup):    \n",
    "    try:\n",
    "        word_in_word_cluster = df_target[df_target[f\"{target_column}\"].str.contains(fr\"(?:\\s|^){wordgroup}(?:\\s|$)\", na=True)].iloc[0:2000,]\n",
    "        for result in word_in_word_cluster[f\"{target_column}\"]:\n",
    "            searchlist.append(wordgroup)\n",
    "            resultlist.append(result)\n",
    "    except:\n",
    "        pass\n",
    "\n",
    "if __name__ == '__main__':\n",
    "    # with Pool(16) as p:\n",
    "    with Pool(nprocs) as p: # Pool number CPU sayısına eşit olursa tüm CPU lar çalışır\n",
    "        p.map(word_in_wordgroup, source_wordgroup_list) # string_word liste"
   ]
  },
  {
   "cell_type": "code",
   "execution_count": null,
   "metadata": {},
   "outputs": [],
   "source": [
    "search_list = list(searchlist)\n",
    "result_list = list(resultlist)\n",
    "df_three_in_six = pd.DataFrame({f\"{search_column_name}\":search_list,f\"{target_column}\":result_list})\n",
    "df_three_in_six"
   ]
  },
  {
   "cell_type": "code",
   "execution_count": null,
   "metadata": {},
   "outputs": [],
   "source": [
    "df_three_in_six_list = df_three_in_six.groupby([\"threegram\"])[\"sixgram\"].apply(list).reset_index(name=\"sixgram\")\n",
    "df_three_in_six_list"
   ]
  },
  {
   "cell_type": "code",
   "execution_count": null,
   "metadata": {},
   "outputs": [],
   "source": [
    "# parameter\n",
    "source_wordgroup_list = threegram_list\n",
    "search_column_name = \"threegram\"\n",
    "target_column = \"sevengram\"\n",
    "df_target = df_sevengram_select\n",
    "\n",
    "# function\n",
    "searchlist = []\n",
    "resultlist = []\n",
    "manager = multiprocessing.Manager()\n",
    "resultlist = manager.list()\n",
    "searchlist = manager.list()\n",
    "\n",
    "def word_in_wordgroup(wordgroup):    \n",
    "    try:\n",
    "        word_in_word_cluster = df_target[df_target[f\"{target_column}\"].str.contains(fr\"(?:\\s|^){wordgroup}(?:\\s|$)\", na=True)].iloc[0:2000,]\n",
    "        for result in word_in_word_cluster[f\"{target_column}\"]:\n",
    "            searchlist.append(wordgroup)\n",
    "            resultlist.append(result)\n",
    "    except:\n",
    "        pass\n",
    "\n",
    "if __name__ == '__main__':\n",
    "    # with Pool(16) as p:\n",
    "    with Pool(nprocs) as p: # Pool number CPU sayısına eşit olursa tüm CPU lar çalışır\n",
    "        p.map(word_in_wordgroup, source_wordgroup_list) # string_word liste"
   ]
  },
  {
   "cell_type": "code",
   "execution_count": null,
   "metadata": {},
   "outputs": [],
   "source": [
    "search_list = list(searchlist)\n",
    "result_list = list(resultlist)\n",
    "df_three_in_seven = pd.DataFrame({f\"{search_column_name}\":search_list,f\"{target_column}\":result_list})\n",
    "df_three_in_seven"
   ]
  },
  {
   "cell_type": "code",
   "execution_count": null,
   "metadata": {},
   "outputs": [],
   "source": [
    "df_three_in_seven_list = df_three_in_seven.groupby([\"threegram\"])[\"sevengram\"].apply(list).reset_index(name=\"sevengram\")\n",
    "df_three_in_seven_list"
   ]
  },
  {
   "cell_type": "code",
   "execution_count": null,
   "metadata": {},
   "outputs": [],
   "source": [
    "# parameter\n",
    "source_wordgroup_list = threegram_list\n",
    "search_column_name = \"threegram\"\n",
    "target_column = \"eightgram\"\n",
    "df_target = df_eightgram_select\n",
    "\n",
    "# function\n",
    "searchlist = []\n",
    "resultlist = []\n",
    "manager = multiprocessing.Manager()\n",
    "resultlist = manager.list()\n",
    "searchlist = manager.list()\n",
    "\n",
    "def word_in_wordgroup(wordgroup):    \n",
    "    try:\n",
    "        word_in_word_cluster = df_target[df_target[f\"{target_column}\"].str.contains(fr\"(?:\\s|^){wordgroup}(?:\\s|$)\", na=True)].iloc[0:2000,]\n",
    "        for result in word_in_word_cluster[f\"{target_column}\"]:\n",
    "            searchlist.append(wordgroup)\n",
    "            resultlist.append(result)\n",
    "    except:\n",
    "        pass\n",
    "\n",
    "if __name__ == '__main__':\n",
    "    # with Pool(16) as p:\n",
    "    with Pool(nprocs) as p: # Pool number CPU sayısına eşit olursa tüm CPU lar çalışır\n",
    "        p.map(word_in_wordgroup, source_wordgroup_list) # string_word liste"
   ]
  },
  {
   "cell_type": "code",
   "execution_count": null,
   "metadata": {},
   "outputs": [],
   "source": [
    "search_list = list(searchlist)\n",
    "result_list = list(resultlist)\n",
    "df_three_in_eight = pd.DataFrame({f\"{search_column_name}\":search_list,f\"{target_column}\":result_list})\n",
    "df_three_in_eight"
   ]
  },
  {
   "cell_type": "code",
   "execution_count": null,
   "metadata": {},
   "outputs": [],
   "source": [
    "df_three_in_eight_list = df_three_in_eight.groupby([\"threegram\"])[\"eightgram\"].apply(list).reset_index(name=\"eightgram\")\n",
    "df_three_in_eight_list"
   ]
  },
  {
   "cell_type": "code",
   "execution_count": null,
   "metadata": {},
   "outputs": [],
   "source": [
    "# parameter\n",
    "source_wordgroup_list = threegram_list\n",
    "search_column_name = \"threegram\"\n",
    "target_column = \"ninegram\"\n",
    "df_target = df_ninegram_select\n",
    "\n",
    "# function\n",
    "searchlist = []\n",
    "resultlist = []\n",
    "manager = multiprocessing.Manager()\n",
    "resultlist = manager.list()\n",
    "searchlist = manager.list()\n",
    "\n",
    "def word_in_wordgroup(wordgroup):    \n",
    "    try:\n",
    "        word_in_word_cluster = df_target[df_target[f\"{target_column}\"].str.contains(fr\"(?:\\s|^){wordgroup}(?:\\s|$)\", na=True)].iloc[0:2000,]\n",
    "        for result in word_in_word_cluster[f\"{target_column}\"]:\n",
    "            searchlist.append(wordgroup)\n",
    "            resultlist.append(result)\n",
    "    except:\n",
    "        pass\n",
    "\n",
    "if __name__ == '__main__':\n",
    "    # with Pool(16) as p:\n",
    "    with Pool(nprocs) as p: # Pool number CPU sayısına eşit olursa tüm CPU lar çalışır\n",
    "        p.map(word_in_wordgroup, source_wordgroup_list) # string_word liste"
   ]
  },
  {
   "cell_type": "code",
   "execution_count": null,
   "metadata": {},
   "outputs": [],
   "source": [
    "search_list = list(searchlist)\n",
    "result_list = list(resultlist)\n",
    "df_three_in_nine = pd.DataFrame({f\"{search_column_name}\":search_list,f\"{target_column}\":result_list})\n",
    "df_three_in_nine"
   ]
  },
  {
   "cell_type": "code",
   "execution_count": null,
   "metadata": {},
   "outputs": [],
   "source": [
    "df_three_in_nine_list = df_three_in_nine.groupby([\"threegram\"])[\"ninegram\"].apply(list).reset_index(name=\"ninegram\")\n",
    "df_three_in_nine_list"
   ]
  },
  {
   "cell_type": "code",
   "execution_count": null,
   "metadata": {},
   "outputs": [],
   "source": [
    "# parameter\n",
    "source_wordgroup_list = threegram_list\n",
    "search_column_name = \"threegram\"\n",
    "target_column = \"tengram\"\n",
    "df_target = df_tengram_select\n",
    "\n",
    "# function\n",
    "searchlist = []\n",
    "resultlist = []\n",
    "manager = multiprocessing.Manager()\n",
    "resultlist = manager.list()\n",
    "searchlist = manager.list()\n",
    "\n",
    "def word_in_wordgroup(wordgroup):    \n",
    "    try:\n",
    "        word_in_word_cluster = df_target[df_target[f\"{target_column}\"].str.contains(fr\"(?:\\s|^){wordgroup}(?:\\s|$)\", na=True)].iloc[0:2000,]\n",
    "        for result in word_in_word_cluster[f\"{target_column}\"]:\n",
    "            searchlist.append(wordgroup)\n",
    "            resultlist.append(result)\n",
    "    except:\n",
    "        pass\n",
    "\n",
    "if __name__ == '__main__':\n",
    "    # with Pool(16) as p:\n",
    "    with Pool(nprocs) as p: # Pool number CPU sayısına eşit olursa tüm CPU lar çalışır\n",
    "        p.map(word_in_wordgroup, source_wordgroup_list) # string_word liste"
   ]
  },
  {
   "cell_type": "code",
   "execution_count": null,
   "metadata": {},
   "outputs": [],
   "source": [
    "search_list = list(searchlist)\n",
    "result_list = list(resultlist)\n",
    "df_three_in_ten = pd.DataFrame({f\"{search_column_name}\":search_list,f\"{target_column}\":result_list})\n",
    "df_three_in_ten"
   ]
  },
  {
   "cell_type": "code",
   "execution_count": null,
   "metadata": {},
   "outputs": [],
   "source": [
    "df_three_in_ten_list = df_three_in_ten.groupby([\"threegram\"])[\"tengram\"].apply(list).reset_index(name=\"tengram\")\n",
    "df_three_in_ten_list"
   ]
  },
  {
   "cell_type": "code",
   "execution_count": null,
   "metadata": {},
   "outputs": [],
   "source": [
    "dfs3 = [df_threegram_select, df_three_in_four_list, df_three_in_five_list, df_three_in_six_list, df_three_in_seven_list, df_three_in_eight_list, df_three_in_nine_list, df_three_in_ten_list]"
   ]
  },
  {
   "cell_type": "code",
   "execution_count": null,
   "metadata": {},
   "outputs": [],
   "source": [
    "df_threegram_merge = reduce(lambda  left,right: pd.merge(left,right, on=['threegram'], how='left'), dfs3)\n",
    "df_threegram_merge"
   ]
  },
  {
   "cell_type": "code",
   "execution_count": null,
   "metadata": {},
   "outputs": [],
   "source": [
    "#df_threegram_merge.to_excel(f\"{lang_folder.capitalize()}_Threegram_Text_Selection_Temp.xlsx\", index=False)\n",
    "df_threegram_merge.to_csv(f\"{lang_folder.capitalize()}_Threegram_Text_Selection_Temp.csv\", index=False)"
   ]
  },
  {
   "cell_type": "code",
   "execution_count": null,
   "metadata": {},
   "outputs": [],
   "source": [
    "#df_threegram_text = pd.read_excel(f\"{lang_folder.capitalize()}_Threegram_Text_Selection_Temp.xlsx\")\n",
    "df_threegram_text = pd.read_csv(f\"{lang_folder.capitalize()}_Threegram_Text_Selection_Temp.csv\")"
   ]
  },
  {
   "cell_type": "code",
   "execution_count": null,
   "metadata": {},
   "outputs": [],
   "source": [
    "df_threegram_merge2 = df_threegram_text[~(df_threegram_text[\"fourgram\"].isnull() & df_threegram_text[\"fivegram\"].isnull() & df_threegram_text[\"sixgram\"].isnull() & \\\n",
    "df_threegram_text[\"sevengram\"].isnull() & df_threegram_text[\"eightgram\"].isnull() & df_threegram_text[\"ninegram\"].isnull() & df_threegram_text[\"tengram\"].isnull())]\n",
    "df_threegram_merge2"
   ]
  },
  {
   "cell_type": "code",
   "execution_count": null,
   "metadata": {},
   "outputs": [],
   "source": [
    "#df_threegram_merge2.to_excel(f\"{lang_folder.capitalize()}_Threegram_Text_Selection_Result.xlsx\", index=False)\n",
    "df_threegram_merge2.to_csv(f\"{lang_folder.capitalize()}_Threegram_Text_Selection_Result.csv\", index=False)"
   ]
  },
  {
   "cell_type": "code",
   "execution_count": null,
   "metadata": {},
   "outputs": [],
   "source": []
  },
  {
   "cell_type": "markdown",
   "metadata": {},
   "source": [
    "##### Fourgram"
   ]
  },
  {
   "cell_type": "code",
   "execution_count": null,
   "metadata": {},
   "outputs": [],
   "source": [
    "# parameter\n",
    "source_wordgroup_list = fourgram_list\n",
    "search_column_name = \"fourgram\"\n",
    "target_column = \"fivegram\"\n",
    "df_target = df_fivegram_select\n",
    "\n",
    "# function\n",
    "searchlist = []\n",
    "resultlist = []\n",
    "manager = multiprocessing.Manager()\n",
    "resultlist = manager.list()\n",
    "searchlist = manager.list()\n",
    "\n",
    "def word_in_wordgroup(wordgroup):    \n",
    "    try:\n",
    "        word_in_word_cluster = df_target[df_target[f\"{target_column}\"].str.contains(fr\"(?:\\s|^){wordgroup}(?:\\s|$)\", na=True)].iloc[0:2000,]\n",
    "        for result in word_in_word_cluster[f\"{target_column}\"]:\n",
    "            searchlist.append(wordgroup)\n",
    "            resultlist.append(result)\n",
    "    except:\n",
    "        pass\n",
    "\n",
    "if __name__ == '__main__':\n",
    "    # with Pool(16) as p:\n",
    "    with Pool(nprocs) as p: # Pool number CPU sayısına eşit olursa tüm CPU lar çalışır\n",
    "        p.map(word_in_wordgroup, source_wordgroup_list) # string_word liste"
   ]
  },
  {
   "cell_type": "code",
   "execution_count": null,
   "metadata": {},
   "outputs": [],
   "source": [
    "search_list = list(searchlist)\n",
    "result_list = list(resultlist)\n",
    "df_four_in_five = pd.DataFrame({f\"{search_column_name}\":search_list,f\"{target_column}\":result_list})\n",
    "df_four_in_five"
   ]
  },
  {
   "cell_type": "code",
   "execution_count": null,
   "metadata": {},
   "outputs": [],
   "source": [
    "df_four_in_five_list = df_four_in_five.groupby([\"fourgram\"])[\"fivegram\"].apply(list).reset_index(name=\"fivegram\")\n",
    "df_four_in_five_list"
   ]
  },
  {
   "cell_type": "code",
   "execution_count": null,
   "metadata": {},
   "outputs": [],
   "source": [
    "# parameter\n",
    "source_wordgroup_list = fourgram_list\n",
    "search_column_name = \"fourgram\"\n",
    "target_column = \"sixgram\"\n",
    "df_target = df_sixgram_select\n",
    "\n",
    "# function\n",
    "searchlist = []\n",
    "resultlist = []\n",
    "manager = multiprocessing.Manager()\n",
    "resultlist = manager.list()\n",
    "searchlist = manager.list()\n",
    "\n",
    "def word_in_wordgroup(wordgroup):    \n",
    "    try:\n",
    "        word_in_word_cluster = df_target[df_target[f\"{target_column}\"].str.contains(fr\"(?:\\s|^){wordgroup}(?:\\s|$)\", na=True)].iloc[0:2000,]\n",
    "        for result in word_in_word_cluster[f\"{target_column}\"]:\n",
    "            searchlist.append(wordgroup)\n",
    "            resultlist.append(result)\n",
    "    except:\n",
    "        pass\n",
    "\n",
    "if __name__ == '__main__':\n",
    "    # with Pool(16) as p:\n",
    "    with Pool(nprocs) as p: # Pool number CPU sayısına eşit olursa tüm CPU lar çalışır\n",
    "        p.map(word_in_wordgroup, source_wordgroup_list) # string_word liste"
   ]
  },
  {
   "cell_type": "code",
   "execution_count": null,
   "metadata": {},
   "outputs": [],
   "source": [
    "search_list = list(searchlist)\n",
    "result_list = list(resultlist)\n",
    "df_four_in_six = pd.DataFrame({f\"{search_column_name}\":search_list,f\"{target_column}\":result_list})\n",
    "df_four_in_six"
   ]
  },
  {
   "cell_type": "code",
   "execution_count": null,
   "metadata": {},
   "outputs": [],
   "source": [
    "df_four_in_six_list = df_four_in_six.groupby([\"fourgram\"])[\"sixgram\"].apply(list).reset_index(name=\"sixgram\")\n",
    "df_four_in_six_list"
   ]
  },
  {
   "cell_type": "code",
   "execution_count": null,
   "metadata": {},
   "outputs": [],
   "source": [
    "# parameter\n",
    "source_wordgroup_list = fourgram_list\n",
    "search_column_name = \"fourgram\"\n",
    "target_column = \"sevengram\"\n",
    "df_target = df_sevengram_select\n",
    "\n",
    "# function\n",
    "searchlist = []\n",
    "resultlist = []\n",
    "manager = multiprocessing.Manager()\n",
    "resultlist = manager.list()\n",
    "searchlist = manager.list()\n",
    "\n",
    "def word_in_wordgroup(wordgroup):    \n",
    "    try:\n",
    "        word_in_word_cluster = df_target[df_target[f\"{target_column}\"].str.contains(fr\"(?:\\s|^){wordgroup}(?:\\s|$)\", na=True)].iloc[0:2000,]\n",
    "        for result in word_in_word_cluster[f\"{target_column}\"]:\n",
    "            searchlist.append(wordgroup)\n",
    "            resultlist.append(result)\n",
    "    except:\n",
    "        pass\n",
    "\n",
    "if __name__ == '__main__':\n",
    "    # with Pool(16) as p:\n",
    "    with Pool(nprocs) as p: # Pool number CPU sayısına eşit olursa tüm CPU lar çalışır\n",
    "        p.map(word_in_wordgroup, source_wordgroup_list) # string_word liste"
   ]
  },
  {
   "cell_type": "code",
   "execution_count": null,
   "metadata": {},
   "outputs": [],
   "source": [
    "search_list = list(searchlist)\n",
    "result_list = list(resultlist)\n",
    "df_four_in_seven = pd.DataFrame({f\"{search_column_name}\":search_list,f\"{target_column}\":result_list})\n",
    "df_four_in_seven"
   ]
  },
  {
   "cell_type": "code",
   "execution_count": null,
   "metadata": {},
   "outputs": [],
   "source": [
    "df_four_in_seven_list = df_four_in_seven.groupby([\"fourgram\"])[\"sevengram\"].apply(list).reset_index(name=\"sevengram\")\n",
    "df_four_in_seven_list"
   ]
  },
  {
   "cell_type": "code",
   "execution_count": null,
   "metadata": {},
   "outputs": [],
   "source": [
    "# parameter\n",
    "source_wordgroup_list = fourgram_list\n",
    "search_column_name = \"fourgram\"\n",
    "target_column = \"eightgram\"\n",
    "df_target = df_eightgram_select\n",
    "\n",
    "# function\n",
    "searchlist = []\n",
    "resultlist = []\n",
    "manager = multiprocessing.Manager()\n",
    "resultlist = manager.list()\n",
    "searchlist = manager.list()\n",
    "\n",
    "def word_in_wordgroup(wordgroup):    \n",
    "    try:\n",
    "        word_in_word_cluster = df_target[df_target[f\"{target_column}\"].str.contains(fr\"(?:\\s|^){wordgroup}(?:\\s|$)\", na=True)].iloc[0:2000,]\n",
    "        for result in word_in_word_cluster[f\"{target_column}\"]:\n",
    "            searchlist.append(wordgroup)\n",
    "            resultlist.append(result)\n",
    "    except:\n",
    "        pass\n",
    "\n",
    "if __name__ == '__main__':\n",
    "    # with Pool(16) as p:\n",
    "    with Pool(nprocs) as p: # Pool number CPU sayısına eşit olursa tüm CPU lar çalışır\n",
    "        p.map(word_in_wordgroup, source_wordgroup_list) # string_word liste"
   ]
  },
  {
   "cell_type": "code",
   "execution_count": null,
   "metadata": {},
   "outputs": [],
   "source": [
    "search_list = list(searchlist)\n",
    "result_list = list(resultlist)\n",
    "df_four_in_eight = pd.DataFrame({f\"{search_column_name}\":search_list,f\"{target_column}\":result_list})\n",
    "df_four_in_eight"
   ]
  },
  {
   "cell_type": "code",
   "execution_count": null,
   "metadata": {},
   "outputs": [],
   "source": [
    "df_four_in_eight_list = df_four_in_eight.groupby([\"fourgram\"])[\"eightgram\"].apply(list).reset_index(name=\"eightgram\")\n",
    "df_four_in_eight_list"
   ]
  },
  {
   "cell_type": "code",
   "execution_count": null,
   "metadata": {},
   "outputs": [],
   "source": [
    "# parameter\n",
    "source_wordgroup_list = fourgram_list\n",
    "search_column_name = \"fourgram\"\n",
    "target_column = \"ninegram\"\n",
    "df_target = df_ninegram_select\n",
    "\n",
    "# function\n",
    "searchlist = []\n",
    "resultlist = []\n",
    "manager = multiprocessing.Manager()\n",
    "resultlist = manager.list()\n",
    "searchlist = manager.list()\n",
    "\n",
    "def word_in_wordgroup(wordgroup):    \n",
    "    try:\n",
    "        word_in_word_cluster = df_target[df_target[f\"{target_column}\"].str.contains(fr\"(?:\\s|^){wordgroup}(?:\\s|$)\", na=True)].iloc[0:2000,]\n",
    "        for result in word_in_word_cluster[f\"{target_column}\"]:\n",
    "            searchlist.append(wordgroup)\n",
    "            resultlist.append(result)\n",
    "    except:\n",
    "        pass\n",
    "\n",
    "if __name__ == '__main__':\n",
    "    # with Pool(16) as p:\n",
    "    with Pool(nprocs) as p: # Pool number CPU sayısına eşit olursa tüm CPU lar çalışır\n",
    "        p.map(word_in_wordgroup, source_wordgroup_list) # string_word liste"
   ]
  },
  {
   "cell_type": "code",
   "execution_count": null,
   "metadata": {},
   "outputs": [],
   "source": [
    "search_list = list(searchlist)\n",
    "result_list = list(resultlist)\n",
    "df_four_in_nine = pd.DataFrame({f\"{search_column_name}\":search_list,f\"{target_column}\":result_list})\n",
    "df_four_in_nine"
   ]
  },
  {
   "cell_type": "code",
   "execution_count": null,
   "metadata": {},
   "outputs": [],
   "source": [
    "df_four_in_nine_list = df_four_in_nine.groupby([\"fourgram\"])[\"ninegram\"].apply(list).reset_index(name=\"ninegram\")\n",
    "df_four_in_nine_list"
   ]
  },
  {
   "cell_type": "code",
   "execution_count": null,
   "metadata": {},
   "outputs": [],
   "source": [
    "# parameter\n",
    "source_wordgroup_list = fourgram_list\n",
    "search_column_name = \"fourgram\"\n",
    "target_column = \"tengram\"\n",
    "df_target = df_tengram_select\n",
    "\n",
    "# function\n",
    "searchlist = []\n",
    "resultlist = []\n",
    "manager = multiprocessing.Manager()\n",
    "resultlist = manager.list()\n",
    "searchlist = manager.list()\n",
    "\n",
    "def word_in_wordgroup(wordgroup):    \n",
    "    try:\n",
    "        word_in_word_cluster = df_target[df_target[f\"{target_column}\"].str.contains(fr\"(?:\\s|^){wordgroup}(?:\\s|$)\", na=True)].iloc[0:2000,]\n",
    "        for result in word_in_word_cluster[f\"{target_column}\"]:\n",
    "            searchlist.append(wordgroup)\n",
    "            resultlist.append(result)\n",
    "    except:\n",
    "        pass\n",
    "\n",
    "if __name__ == '__main__':\n",
    "    # with Pool(16) as p:\n",
    "    with Pool(nprocs) as p: # Pool number CPU sayısına eşit olursa tüm CPU lar çalışır\n",
    "        p.map(word_in_wordgroup, source_wordgroup_list) # string_word liste"
   ]
  },
  {
   "cell_type": "code",
   "execution_count": null,
   "metadata": {},
   "outputs": [],
   "source": [
    "search_list = list(searchlist)\n",
    "result_list = list(resultlist)\n",
    "df_four_in_ten = pd.DataFrame({f\"{search_column_name}\":search_list,f\"{target_column}\":result_list})\n",
    "df_four_in_ten"
   ]
  },
  {
   "cell_type": "code",
   "execution_count": null,
   "metadata": {},
   "outputs": [],
   "source": [
    "df_four_in_ten_list = df_four_in_ten.groupby([\"fourgram\"])[\"tengram\"].apply(list).reset_index(name=\"tengram\")\n",
    "df_four_in_ten_list"
   ]
  },
  {
   "cell_type": "code",
   "execution_count": null,
   "metadata": {},
   "outputs": [],
   "source": [
    "dfs4 = [df_fourgram_select, df_four_in_five_list, df_four_in_six_list, df_four_in_seven_list, df_four_in_eight_list, df_four_in_nine_list, df_four_in_ten_list]"
   ]
  },
  {
   "cell_type": "code",
   "execution_count": null,
   "metadata": {},
   "outputs": [],
   "source": [
    "df_fourgram_merge = reduce(lambda  left,right: pd.merge(left,right, on=['fourgram'], how='left'), dfs4)\n",
    "df_fourgram_merge"
   ]
  },
  {
   "cell_type": "code",
   "execution_count": null,
   "metadata": {},
   "outputs": [],
   "source": [
    "#df_fourgram_merge.to_excel(f\"{lang_folder.capitalize()}_Fourgram_Text_Selection_Temp.xlsx\", index=False)\n",
    "df_fourgram_merge.to_csv(f\"{lang_folder.capitalize()}_Fourgram_Text_Selection_Temp.csv\", index=False)"
   ]
  },
  {
   "cell_type": "code",
   "execution_count": null,
   "metadata": {},
   "outputs": [],
   "source": [
    "#df_fourgram_text = pd.read_excel(f\"{lang_folder.capitalize()}_Fourgram_Text_Selection_Temp.xlsx\")\n",
    "df_fourgram_text = pd.read_csv(f\"{lang_folder.capitalize()}_Fourgram_Text_Selection_Temp.csv\")"
   ]
  },
  {
   "cell_type": "code",
   "execution_count": null,
   "metadata": {},
   "outputs": [],
   "source": [
    "df_fourgram_merge2 = df_fourgram_text[~(df_fourgram_text[\"fivegram\"].isnull() & df_fourgram_text[\"sixgram\"].isnull() & df_fourgram_text[\"sevengram\"].isnull() & \\\n",
    "df_fourgram_text[\"eightgram\"].isnull() & df_fourgram_text[\"ninegram\"].isnull() & df_fourgram_text[\"tengram\"].isnull())]\n",
    "df_fourgram_merge2"
   ]
  },
  {
   "cell_type": "code",
   "execution_count": null,
   "metadata": {},
   "outputs": [],
   "source": [
    "#df_fourgram_merge2.to_excel(f\"{lang_folder.capitalize()}_Fourgram_Text_Selection_Result.xlsx\", index=False)\n",
    "df_fourgram_merge2.to_csv(f\"{lang_folder.capitalize()}_Fourgram_Text_Selection_Result.csv\", index=False)"
   ]
  },
  {
   "cell_type": "code",
   "execution_count": null,
   "metadata": {},
   "outputs": [],
   "source": []
  },
  {
   "cell_type": "markdown",
   "metadata": {},
   "source": [
    "##### Fivegram"
   ]
  },
  {
   "cell_type": "code",
   "execution_count": null,
   "metadata": {},
   "outputs": [],
   "source": [
    "# parameter\n",
    "source_wordgroup_list = fivegram_list\n",
    "search_column_name = \"fivegram\"\n",
    "target_column = \"sixgram\"\n",
    "df_target = df_sixgram_select\n",
    "\n",
    "# function\n",
    "searchlist = []\n",
    "resultlist = []\n",
    "manager = multiprocessing.Manager()\n",
    "resultlist = manager.list()\n",
    "searchlist = manager.list()\n",
    "\n",
    "def word_in_wordgroup(wordgroup):    \n",
    "    try:\n",
    "        word_in_word_cluster = df_target[df_target[f\"{target_column}\"].str.contains(fr\"(?:\\s|^){wordgroup}(?:\\s|$)\", na=True)].iloc[0:2000,]\n",
    "        for result in word_in_word_cluster[f\"{target_column}\"]:\n",
    "            searchlist.append(wordgroup)\n",
    "            resultlist.append(result)\n",
    "    except:\n",
    "        pass\n",
    "\n",
    "if __name__ == '__main__':\n",
    "    # with Pool(16) as p:\n",
    "    with Pool(nprocs) as p: # Pool number CPU sayısına eşit olursa tüm CPU lar çalışır\n",
    "        p.map(word_in_wordgroup, source_wordgroup_list) # string_word liste"
   ]
  },
  {
   "cell_type": "code",
   "execution_count": null,
   "metadata": {},
   "outputs": [],
   "source": [
    "search_list = list(searchlist)\n",
    "result_list = list(resultlist)\n",
    "df_five_in_six = pd.DataFrame({f\"{search_column_name}\":search_list,f\"{target_column}\":result_list})\n",
    "df_five_in_six"
   ]
  },
  {
   "cell_type": "code",
   "execution_count": null,
   "metadata": {},
   "outputs": [],
   "source": [
    "df_five_in_six_list = df_five_in_six.groupby([\"fivegram\"])[\"sixgram\"].apply(list).reset_index(name=\"sixgram\")\n",
    "df_five_in_six_list"
   ]
  },
  {
   "cell_type": "code",
   "execution_count": null,
   "metadata": {},
   "outputs": [],
   "source": [
    "# parameter\n",
    "source_wordgroup_list = fivegram_list\n",
    "search_column_name = \"fivegram\"\n",
    "target_column = \"sevengram\"\n",
    "df_target = df_sevengram_select\n",
    "\n",
    "# function\n",
    "searchlist = []\n",
    "resultlist = []\n",
    "manager = multiprocessing.Manager()\n",
    "resultlist = manager.list()\n",
    "searchlist = manager.list()\n",
    "\n",
    "def word_in_wordgroup(wordgroup):    \n",
    "    try:\n",
    "        word_in_word_cluster = df_target[df_target[f\"{target_column}\"].str.contains(fr\"(?:\\s|^){wordgroup}(?:\\s|$)\", na=True)].iloc[0:2000,]\n",
    "        for result in word_in_word_cluster[f\"{target_column}\"]:\n",
    "            searchlist.append(wordgroup)\n",
    "            resultlist.append(result)\n",
    "    except:\n",
    "        pass\n",
    "\n",
    "if __name__ == '__main__':\n",
    "    # with Pool(16) as p:\n",
    "    with Pool(nprocs) as p: # Pool number CPU sayısına eşit olursa tüm CPU lar çalışır\n",
    "        p.map(word_in_wordgroup, source_wordgroup_list) # string_word liste"
   ]
  },
  {
   "cell_type": "code",
   "execution_count": null,
   "metadata": {},
   "outputs": [],
   "source": [
    "search_list = list(searchlist)\n",
    "result_list = list(resultlist)\n",
    "df_five_in_seven = pd.DataFrame({f\"{search_column_name}\":search_list,f\"{target_column}\":result_list})\n",
    "df_five_in_seven"
   ]
  },
  {
   "cell_type": "code",
   "execution_count": null,
   "metadata": {},
   "outputs": [],
   "source": [
    "df_five_in_seven_list = df_five_in_seven.groupby([\"fivegram\"])[\"sevengram\"].apply(list).reset_index(name=\"sevengram\")\n",
    "df_five_in_seven_list"
   ]
  },
  {
   "cell_type": "code",
   "execution_count": null,
   "metadata": {},
   "outputs": [],
   "source": [
    "# parameter\n",
    "source_wordgroup_list = fivegram_list\n",
    "search_column_name = \"fivegram\"\n",
    "target_column = \"eightgram\"\n",
    "df_target = df_eightgram_select\n",
    "\n",
    "# function\n",
    "searchlist = []\n",
    "resultlist = []\n",
    "manager = multiprocessing.Manager()\n",
    "resultlist = manager.list()\n",
    "searchlist = manager.list()\n",
    "\n",
    "def word_in_wordgroup(wordgroup):    \n",
    "    try:\n",
    "        word_in_word_cluster = df_target[df_target[f\"{target_column}\"].str.contains(fr\"(?:\\s|^){wordgroup}(?:\\s|$)\", na=True)].iloc[0:2000,]\n",
    "        for result in word_in_word_cluster[f\"{target_column}\"]:\n",
    "            searchlist.append(wordgroup)\n",
    "            resultlist.append(result)\n",
    "    except:\n",
    "        pass\n",
    "\n",
    "if __name__ == '__main__':\n",
    "    # with Pool(16) as p:\n",
    "    with Pool(nprocs) as p: # Pool number CPU sayısına eşit olursa tüm CPU lar çalışır\n",
    "        p.map(word_in_wordgroup, source_wordgroup_list) # string_word liste"
   ]
  },
  {
   "cell_type": "code",
   "execution_count": null,
   "metadata": {},
   "outputs": [],
   "source": [
    "search_list = list(searchlist)\n",
    "result_list = list(resultlist)\n",
    "df_five_in_eight = pd.DataFrame({f\"{search_column_name}\":search_list,f\"{target_column}\":result_list})\n",
    "df_five_in_eight"
   ]
  },
  {
   "cell_type": "code",
   "execution_count": null,
   "metadata": {},
   "outputs": [],
   "source": [
    "df_five_in_eight_list = df_five_in_eight.groupby([\"fivegram\"])[\"eightgram\"].apply(list).reset_index(name=\"eightgram\")\n",
    "df_five_in_eight_list"
   ]
  },
  {
   "cell_type": "code",
   "execution_count": null,
   "metadata": {},
   "outputs": [],
   "source": [
    "# parameter\n",
    "source_wordgroup_list = fivegram_list\n",
    "search_column_name = \"fivegram\"\n",
    "target_column = \"ninegram\"\n",
    "df_target = df_ninegram_select\n",
    "\n",
    "# function\n",
    "searchlist = []\n",
    "resultlist = []\n",
    "manager = multiprocessing.Manager()\n",
    "resultlist = manager.list()\n",
    "searchlist = manager.list()\n",
    "\n",
    "def word_in_wordgroup(wordgroup):    \n",
    "    try:\n",
    "        word_in_word_cluster = df_target[df_target[f\"{target_column}\"].str.contains(fr\"(?:\\s|^){wordgroup}(?:\\s|$)\", na=True)].iloc[0:2000,]\n",
    "        for result in word_in_word_cluster[f\"{target_column}\"]:\n",
    "            searchlist.append(wordgroup)\n",
    "            resultlist.append(result)\n",
    "    except:\n",
    "        pass\n",
    "\n",
    "if __name__ == '__main__':\n",
    "    # with Pool(16) as p:\n",
    "    with Pool(nprocs) as p: # Pool number CPU sayısına eşit olursa tüm CPU lar çalışır\n",
    "        p.map(word_in_wordgroup, source_wordgroup_list) # string_word liste"
   ]
  },
  {
   "cell_type": "code",
   "execution_count": null,
   "metadata": {},
   "outputs": [],
   "source": [
    "search_list = list(searchlist)\n",
    "result_list = list(resultlist)\n",
    "df_five_in_nine = pd.DataFrame({f\"{search_column_name}\":search_list,f\"{target_column}\":result_list})\n",
    "df_five_in_nine"
   ]
  },
  {
   "cell_type": "code",
   "execution_count": null,
   "metadata": {},
   "outputs": [],
   "source": [
    "df_five_in_nine_list = df_five_in_nine.groupby([\"fivegram\"])[\"ninegram\"].apply(list).reset_index(name=\"ninegram\")\n",
    "df_five_in_nine_list"
   ]
  },
  {
   "cell_type": "code",
   "execution_count": null,
   "metadata": {},
   "outputs": [],
   "source": [
    "# parameter\n",
    "source_wordgroup_list = fivegram_list\n",
    "search_column_name = \"fivegram\"\n",
    "target_column = \"tengram\"\n",
    "df_target = df_tengram_select\n",
    "\n",
    "# function\n",
    "searchlist = []\n",
    "resultlist = []\n",
    "manager = multiprocessing.Manager()\n",
    "resultlist = manager.list()\n",
    "searchlist = manager.list()\n",
    "\n",
    "def word_in_wordgroup(wordgroup):    \n",
    "    try:\n",
    "        word_in_word_cluster = df_target[df_target[f\"{target_column}\"].str.contains(fr\"(?:\\s|^){wordgroup}(?:\\s|$)\", na=True)].iloc[0:2000,]\n",
    "        for result in word_in_word_cluster[f\"{target_column}\"]:\n",
    "            searchlist.append(wordgroup)\n",
    "            resultlist.append(result)\n",
    "    except:\n",
    "        pass\n",
    "\n",
    "if __name__ == '__main__':\n",
    "    # with Pool(16) as p:\n",
    "    with Pool(nprocs) as p: # Pool number CPU sayısına eşit olursa tüm CPU lar çalışır\n",
    "        p.map(word_in_wordgroup, source_wordgroup_list) # string_word liste"
   ]
  },
  {
   "cell_type": "code",
   "execution_count": null,
   "metadata": {},
   "outputs": [],
   "source": [
    "search_list = list(searchlist)\n",
    "result_list = list(resultlist)\n",
    "df_five_in_ten = pd.DataFrame({f\"{search_column_name}\":search_list,f\"{target_column}\":result_list})\n",
    "df_five_in_ten"
   ]
  },
  {
   "cell_type": "code",
   "execution_count": null,
   "metadata": {},
   "outputs": [],
   "source": [
    "df_five_in_ten_list = df_five_in_ten.groupby([\"fivegram\"])[\"tengram\"].apply(list).reset_index(name=\"tengram\")\n",
    "df_five_in_ten_list"
   ]
  },
  {
   "cell_type": "code",
   "execution_count": null,
   "metadata": {},
   "outputs": [],
   "source": [
    "dfs5 = [df_fivegram_select, df_five_in_six_list, df_five_in_seven_list, df_five_in_eight_list, df_five_in_nine_list, df_five_in_ten_list]"
   ]
  },
  {
   "cell_type": "code",
   "execution_count": null,
   "metadata": {},
   "outputs": [],
   "source": [
    "df_fivegram_merge = reduce(lambda  left,right: pd.merge(left,right, on=['fivegram'], how='left'), dfs5)\n",
    "df_fivegram_merge"
   ]
  },
  {
   "cell_type": "code",
   "execution_count": null,
   "metadata": {},
   "outputs": [],
   "source": [
    "#df_fivegram_merge.to_excel(f\"{lang_folder.capitalize()}_Fivegram_Text_Selection_Temp.xlsx\", index=False)\n",
    "df_fivegram_merge.to_csv(f\"{lang_folder.capitalize()}_Fivegram_Text_Selection_Temp.csv\", index=False)"
   ]
  },
  {
   "cell_type": "code",
   "execution_count": null,
   "metadata": {},
   "outputs": [],
   "source": [
    "#df_fivegram_text = pd.read_excel(f\"{lang_folder.capitalize()}_Fivegram_Text_Selection_Temp.xlsx\")\n",
    "df_fivegram_text = pd.read_csv(f\"{lang_folder.capitalize()}_Fivegram_Text_Selection_Temp.csv\")"
   ]
  },
  {
   "cell_type": "code",
   "execution_count": null,
   "metadata": {},
   "outputs": [],
   "source": [
    "df_fivegram_merge2 = df_fivegram_text[~(df_fivegram_text[\"sixgram\"].isnull() & df_fivegram_text[\"sevengram\"].isnull() & \\\n",
    "df_fivegram_text[\"eightgram\"].isnull() & df_fivegram_text[\"ninegram\"].isnull() & df_fivegram_text[\"tengram\"].isnull())]\n",
    "df_fivegram_merge2"
   ]
  },
  {
   "cell_type": "code",
   "execution_count": null,
   "metadata": {},
   "outputs": [],
   "source": [
    "#df_fivegram_merge2.to_excel(f\"{lang_folder.capitalize()}_Fivegram_Text_Selection_Result.xlsx\", index=False)\n",
    "df_fivegram_merge2.to_csv(f\"{lang_folder.capitalize()}_Fivegram_Text_Selection_Result.csv\", index=False)"
   ]
  },
  {
   "cell_type": "code",
   "execution_count": null,
   "metadata": {},
   "outputs": [],
   "source": []
  },
  {
   "cell_type": "markdown",
   "metadata": {},
   "source": [
    "##### Sixgram"
   ]
  },
  {
   "cell_type": "code",
   "execution_count": null,
   "metadata": {},
   "outputs": [],
   "source": [
    "# parameter\n",
    "source_wordgroup_list = sixgram_list\n",
    "search_column_name = \"sixgram\"\n",
    "target_column = \"sevengram\"\n",
    "df_target = df_sevengram_select\n",
    "\n",
    "# function\n",
    "searchlist = []\n",
    "resultlist = []\n",
    "manager = multiprocessing.Manager()\n",
    "resultlist = manager.list()\n",
    "searchlist = manager.list()\n",
    "\n",
    "def word_in_wordgroup(wordgroup):    \n",
    "    try:\n",
    "        word_in_word_cluster = df_target[df_target[f\"{target_column}\"].str.contains(fr\"(?:\\s|^){wordgroup}(?:\\s|$)\", na=True)].iloc[0:2000,]\n",
    "        for result in word_in_word_cluster[f\"{target_column}\"]:\n",
    "            searchlist.append(wordgroup)\n",
    "            resultlist.append(result)\n",
    "    except:\n",
    "        pass\n",
    "\n",
    "if __name__ == '__main__':\n",
    "    # with Pool(16) as p:\n",
    "    with Pool(nprocs) as p: # Pool number CPU sayısına eşit olursa tüm CPU lar çalışır\n",
    "        p.map(word_in_wordgroup, source_wordgroup_list) # string_word liste"
   ]
  },
  {
   "cell_type": "code",
   "execution_count": null,
   "metadata": {},
   "outputs": [],
   "source": [
    "search_list = list(searchlist)\n",
    "result_list = list(resultlist)\n",
    "df_six_in_seven = pd.DataFrame({f\"{search_column_name}\":search_list,f\"{target_column}\":result_list})\n",
    "df_six_in_seven"
   ]
  },
  {
   "cell_type": "code",
   "execution_count": null,
   "metadata": {},
   "outputs": [],
   "source": [
    "df_six_in_seven_list = df_six_in_seven.groupby([\"sixgram\"])[\"sevengram\"].apply(list).reset_index(name=\"sevengram\")\n",
    "df_six_in_seven_list"
   ]
  },
  {
   "cell_type": "code",
   "execution_count": null,
   "metadata": {},
   "outputs": [],
   "source": [
    "# parameter\n",
    "source_wordgroup_list = sixgram_list\n",
    "search_column_name = \"sixgram\"\n",
    "target_column = \"eightgram\"\n",
    "df_target = df_eightgram_select\n",
    "\n",
    "# function\n",
    "searchlist = []\n",
    "resultlist = []\n",
    "manager = multiprocessing.Manager()\n",
    "resultlist = manager.list()\n",
    "searchlist = manager.list()\n",
    "\n",
    "def word_in_wordgroup(wordgroup):    \n",
    "    try:\n",
    "        word_in_word_cluster = df_target[df_target[f\"{target_column}\"].str.contains(fr\"(?:\\s|^){wordgroup}(?:\\s|$)\", na=True)].iloc[0:2000,]\n",
    "        for result in word_in_word_cluster[f\"{target_column}\"]:\n",
    "            searchlist.append(wordgroup)\n",
    "            resultlist.append(result)\n",
    "    except:\n",
    "        pass\n",
    "\n",
    "if __name__ == '__main__':\n",
    "    # with Pool(16) as p:\n",
    "    with Pool(nprocs) as p: # Pool number CPU sayısına eşit olursa tüm CPU lar çalışır\n",
    "        p.map(word_in_wordgroup, source_wordgroup_list) # string_word liste"
   ]
  },
  {
   "cell_type": "code",
   "execution_count": null,
   "metadata": {},
   "outputs": [],
   "source": [
    "search_list = list(searchlist)\n",
    "result_list = list(resultlist)\n",
    "df_six_in_eight = pd.DataFrame({f\"{search_column_name}\":search_list,f\"{target_column}\":result_list})\n",
    "df_six_in_eight"
   ]
  },
  {
   "cell_type": "code",
   "execution_count": null,
   "metadata": {},
   "outputs": [],
   "source": [
    "df_six_in_eight_list = df_six_in_eight.groupby([\"sixgram\"])[\"eightgram\"].apply(list).reset_index(name=\"eightgram\")\n",
    "df_six_in_eight_list"
   ]
  },
  {
   "cell_type": "code",
   "execution_count": null,
   "metadata": {},
   "outputs": [],
   "source": [
    "# parameter\n",
    "source_wordgroup_list = sixgram_list\n",
    "search_column_name = \"sixgram\"\n",
    "target_column = \"ninegram\"\n",
    "df_target = df_ninegram_select\n",
    "\n",
    "# function\n",
    "searchlist = []\n",
    "resultlist = []\n",
    "manager = multiprocessing.Manager()\n",
    "resultlist = manager.list()\n",
    "searchlist = manager.list()\n",
    "\n",
    "def word_in_wordgroup(wordgroup):    \n",
    "    try:\n",
    "        word_in_word_cluster = df_target[df_target[f\"{target_column}\"].str.contains(fr\"(?:\\s|^){wordgroup}(?:\\s|$)\", na=True)].iloc[0:2000,]\n",
    "        for result in word_in_word_cluster[f\"{target_column}\"]:\n",
    "            searchlist.append(wordgroup)\n",
    "            resultlist.append(result)\n",
    "    except:\n",
    "        pass\n",
    "\n",
    "if __name__ == '__main__':\n",
    "    # with Pool(16) as p:\n",
    "    with Pool(nprocs) as p: # Pool number CPU sayısına eşit olursa tüm CPU lar çalışır\n",
    "        p.map(word_in_wordgroup, source_wordgroup_list) # string_word liste"
   ]
  },
  {
   "cell_type": "code",
   "execution_count": null,
   "metadata": {},
   "outputs": [],
   "source": [
    "search_list = list(searchlist)\n",
    "result_list = list(resultlist)\n",
    "df_six_in_nine = pd.DataFrame({f\"{search_column_name}\":search_list,f\"{target_column}\":result_list})\n",
    "df_six_in_nine"
   ]
  },
  {
   "cell_type": "code",
   "execution_count": null,
   "metadata": {},
   "outputs": [],
   "source": [
    "df_six_in_nine_list = df_six_in_nine.groupby([\"sixgram\"])[\"ninegram\"].apply(list).reset_index(name=\"ninegram\")\n",
    "df_six_in_nine_list"
   ]
  },
  {
   "cell_type": "code",
   "execution_count": null,
   "metadata": {},
   "outputs": [],
   "source": [
    "# parameter\n",
    "source_wordgroup_list = sixgram_list\n",
    "search_column_name = \"sixgram\"\n",
    "target_column = \"tengram\"\n",
    "df_target = df_tengram_select\n",
    "\n",
    "# function\n",
    "searchlist = []\n",
    "resultlist = []\n",
    "manager = multiprocessing.Manager()\n",
    "resultlist = manager.list()\n",
    "searchlist = manager.list()\n",
    "\n",
    "def word_in_wordgroup(wordgroup):    \n",
    "    try:\n",
    "        word_in_word_cluster = df_target[df_target[f\"{target_column}\"].str.contains(fr\"(?:\\s|^){wordgroup}(?:\\s|$)\", na=True)].iloc[0:2000,]\n",
    "        for result in word_in_word_cluster[f\"{target_column}\"]:\n",
    "            searchlist.append(wordgroup)\n",
    "            resultlist.append(result)\n",
    "    except:\n",
    "        pass\n",
    "\n",
    "if __name__ == '__main__':\n",
    "    # with Pool(16) as p:\n",
    "    with Pool(nprocs) as p: # Pool number CPU sayısına eşit olursa tüm CPU lar çalışır\n",
    "        p.map(word_in_wordgroup, source_wordgroup_list) # string_word liste"
   ]
  },
  {
   "cell_type": "code",
   "execution_count": null,
   "metadata": {},
   "outputs": [],
   "source": [
    "search_list = list(searchlist)\n",
    "result_list = list(resultlist)\n",
    "df_six_in_ten = pd.DataFrame({f\"{search_column_name}\":search_list,f\"{target_column}\":result_list})\n",
    "df_six_in_ten"
   ]
  },
  {
   "cell_type": "code",
   "execution_count": null,
   "metadata": {},
   "outputs": [],
   "source": [
    "df_six_in_ten_list = df_six_in_ten.groupby([\"sixgram\"])[\"tengram\"].apply(list).reset_index(name=\"tengram\")\n",
    "df_six_in_ten_list"
   ]
  },
  {
   "cell_type": "code",
   "execution_count": null,
   "metadata": {},
   "outputs": [],
   "source": [
    "dfs6 = [df_sixgram_select, df_six_in_seven_list, df_six_in_eight_list, df_six_in_nine_list, df_six_in_ten_list]"
   ]
  },
  {
   "cell_type": "code",
   "execution_count": null,
   "metadata": {},
   "outputs": [],
   "source": [
    "df_sixgram_merge = reduce(lambda  left,right: pd.merge(left,right, on=['sixgram'], how='left'), dfs6)\n",
    "df_sixgram_merge"
   ]
  },
  {
   "cell_type": "code",
   "execution_count": null,
   "metadata": {},
   "outputs": [],
   "source": [
    "#df_sixgram_merge.to_excel(f\"{lang_folder.capitalize()}_Sixgram_Text_Selection_Temp.xlsx\", index=False)\n",
    "df_sixgram_merge.to_csv(f\"{lang_folder.capitalize()}_Sixgram_Text_Selection_Temp.csv\", index=False)"
   ]
  },
  {
   "cell_type": "code",
   "execution_count": null,
   "metadata": {},
   "outputs": [],
   "source": [
    "#df_sixgram_text = pd.read_excel(f\"{lang_folder.capitalize()}_Sixgram_Text_Selection_Temp.xlsx\")\n",
    "df_sixgram_text = pd.read_csv(f\"{lang_folder.capitalize()}_Sixgram_Text_Selection_Temp.csv\")"
   ]
  },
  {
   "cell_type": "code",
   "execution_count": null,
   "metadata": {},
   "outputs": [],
   "source": [
    "df_sixgram_merge2 = df_sixgram_text[~(df_sixgram_text[\"sevengram\"].isnull() & df_sixgram_text[\"eightgram\"].isnull() & df_sixgram_text[\"ninegram\"].isnull() & df_sixgram_text[\"tengram\"].isnull())]\n",
    "df_sixgram_merge2"
   ]
  },
  {
   "cell_type": "code",
   "execution_count": null,
   "metadata": {},
   "outputs": [],
   "source": [
    "#df_sixgram_merge2.to_excel(f\"{lang_folder.capitalize()}_Sixgram_Text_Selection_Result.xlsx\", index=False)\n",
    "df_sixgram_merge2.to_csv(f\"{lang_folder.capitalize()}_Sixgram_Text_Selection_Result.csv\", index=False)"
   ]
  },
  {
   "cell_type": "code",
   "execution_count": null,
   "metadata": {},
   "outputs": [],
   "source": []
  },
  {
   "cell_type": "markdown",
   "metadata": {},
   "source": [
    "##### Sevengram"
   ]
  },
  {
   "cell_type": "code",
   "execution_count": null,
   "metadata": {},
   "outputs": [],
   "source": [
    "# parameter\n",
    "source_wordgroup_list = sevengram_list\n",
    "search_column_name = \"sevengram\"\n",
    "target_column = \"eightgram\"\n",
    "df_target = df_eightgram_select\n",
    "\n",
    "# function\n",
    "searchlist = []\n",
    "resultlist = []\n",
    "manager = multiprocessing.Manager()\n",
    "resultlist = manager.list()\n",
    "searchlist = manager.list()\n",
    "\n",
    "def word_in_wordgroup(wordgroup):    \n",
    "    try:\n",
    "        word_in_word_cluster = df_target[df_target[f\"{target_column}\"].str.contains(fr\"(?:\\s|^){wordgroup}(?:\\s|$)\", na=True)].iloc[0:2000,]\n",
    "        for result in word_in_word_cluster[f\"{target_column}\"]:\n",
    "            searchlist.append(wordgroup)\n",
    "            resultlist.append(result)\n",
    "    except:\n",
    "        pass\n",
    "\n",
    "if __name__ == '__main__':\n",
    "    # with Pool(16) as p:\n",
    "    with Pool(nprocs-2) as p: # Pool number CPU sayısına eşit olursa tüm CPU lar çalışır\n",
    "        p.map(word_in_wordgroup, source_wordgroup_list) # string_word liste"
   ]
  },
  {
   "cell_type": "code",
   "execution_count": null,
   "metadata": {},
   "outputs": [],
   "source": [
    "search_list = list(searchlist)\n",
    "result_list = list(resultlist)\n",
    "df_seven_in_eight = pd.DataFrame({f\"{search_column_name}\":search_list,f\"{target_column}\":result_list})\n",
    "df_seven_in_eight"
   ]
  },
  {
   "cell_type": "code",
   "execution_count": null,
   "metadata": {},
   "outputs": [],
   "source": [
    "df_seven_in_eight_list = df_seven_in_eight.groupby([\"sevengram\"])[\"eightgram\"].apply(list).reset_index(name=\"eightgram\")\n",
    "df_seven_in_eight_list"
   ]
  },
  {
   "cell_type": "code",
   "execution_count": null,
   "metadata": {},
   "outputs": [],
   "source": [
    "# parameter\n",
    "source_wordgroup_list = sevengram_list\n",
    "search_column_name = \"sevengram\"\n",
    "target_column = \"ninegram\"\n",
    "df_target = df_ninegram_select\n",
    "\n",
    "# function\n",
    "searchlist = []\n",
    "resultlist = []\n",
    "manager = multiprocessing.Manager()\n",
    "resultlist = manager.list()\n",
    "searchlist = manager.list()\n",
    "\n",
    "def word_in_wordgroup(wordgroup):    \n",
    "    try:\n",
    "        word_in_word_cluster = df_target[df_target[f\"{target_column}\"].str.contains(fr\"(?:\\s|^){wordgroup}(?:\\s|$)\", na=True)].iloc[0:2000,]\n",
    "        for result in word_in_word_cluster[f\"{target_column}\"]:\n",
    "            searchlist.append(wordgroup)\n",
    "            resultlist.append(result)\n",
    "    except:\n",
    "        pass\n",
    "\n",
    "if __name__ == '__main__':\n",
    "    # with Pool(16) as p:\n",
    "    with Pool(nprocs-2) as p: # Pool number CPU sayısına eşit olursa tüm CPU lar çalışır\n",
    "        p.map(word_in_wordgroup, source_wordgroup_list) # string_word liste"
   ]
  },
  {
   "cell_type": "code",
   "execution_count": null,
   "metadata": {},
   "outputs": [],
   "source": [
    "search_list = list(searchlist)\n",
    "result_list = list(resultlist)\n",
    "df_seven_in_nine = pd.DataFrame({f\"{search_column_name}\":search_list,f\"{target_column}\":result_list})\n",
    "df_seven_in_nine"
   ]
  },
  {
   "cell_type": "code",
   "execution_count": null,
   "metadata": {},
   "outputs": [],
   "source": [
    "df_seven_in_nine_list = df_seven_in_nine.groupby([\"sevengram\"])[\"ninegram\"].apply(list).reset_index(name=\"ninegram\")\n",
    "df_seven_in_nine_list"
   ]
  },
  {
   "cell_type": "code",
   "execution_count": null,
   "metadata": {},
   "outputs": [],
   "source": [
    "# parameter\n",
    "source_wordgroup_list = sevengram_list\n",
    "search_column_name = \"sevengram\"\n",
    "target_column = \"tengram\"\n",
    "df_target = df_tengram_select\n",
    "\n",
    "# function\n",
    "searchlist = []\n",
    "resultlist = []\n",
    "manager = multiprocessing.Manager()\n",
    "resultlist = manager.list()\n",
    "searchlist = manager.list()\n",
    "\n",
    "def word_in_wordgroup(wordgroup):    \n",
    "    try:\n",
    "        word_in_word_cluster = df_target[df_target[f\"{target_column}\"].str.contains(fr\"(?:\\s|^){wordgroup}(?:\\s|$)\", na=True)].iloc[0:2000,]\n",
    "        for result in word_in_word_cluster[f\"{target_column}\"]:\n",
    "            searchlist.append(wordgroup)\n",
    "            resultlist.append(result)\n",
    "    except:\n",
    "        pass\n",
    "\n",
    "if __name__ == '__main__':\n",
    "    # with Pool(16) as p:\n",
    "    with Pool(nprocs-2) as p: # Pool number CPU sayısına eşit olursa tüm CPU lar çalışır\n",
    "        p.map(word_in_wordgroup, source_wordgroup_list) # string_word liste"
   ]
  },
  {
   "cell_type": "code",
   "execution_count": null,
   "metadata": {},
   "outputs": [],
   "source": [
    "search_list = list(searchlist)\n",
    "result_list = list(resultlist)\n",
    "df_seven_in_ten = pd.DataFrame({f\"{search_column_name}\":search_list,f\"{target_column}\":result_list})\n",
    "df_seven_in_ten"
   ]
  },
  {
   "cell_type": "code",
   "execution_count": null,
   "metadata": {},
   "outputs": [],
   "source": [
    "df_seven_in_ten_list = df_seven_in_ten.groupby([\"sevengram\"])[\"tengram\"].apply(list).reset_index(name=\"tengram\")\n",
    "df_seven_in_ten_list"
   ]
  },
  {
   "cell_type": "code",
   "execution_count": null,
   "metadata": {},
   "outputs": [],
   "source": [
    "dfs7 = [df_sevengram_select, df_seven_in_eight_list, df_seven_in_nine_list, df_seven_in_ten_list]"
   ]
  },
  {
   "cell_type": "code",
   "execution_count": null,
   "metadata": {},
   "outputs": [],
   "source": [
    "df_sevengram_merge = reduce(lambda  left,right: pd.merge(left,right, on=['sevengram'], how='left'), dfs7)\n",
    "df_sevengram_merge"
   ]
  },
  {
   "cell_type": "code",
   "execution_count": null,
   "metadata": {},
   "outputs": [],
   "source": [
    "#df_sevengram_merge.to_excel(f\"{lang_folder.capitalize()}_Sevengram_Text_Selection_Temp.xlsx\", index=False)\n",
    "df_sevengram_merge.to_csv(f\"{lang_folder.capitalize()}_Sevengram_Text_Selection_Temp.csv\", index=False)"
   ]
  },
  {
   "cell_type": "code",
   "execution_count": null,
   "metadata": {},
   "outputs": [],
   "source": [
    "#df_sevengram_text = pd.read_excel(f\"{lang_folder.capitalize()}_Sevengram_Text_Selection_Temp.xlsx\")\n",
    "df_sevengram_text = pd.read_csv(f\"{lang_folder.capitalize()}_Sevengram_Text_Selection_Temp.csv\")"
   ]
  },
  {
   "cell_type": "code",
   "execution_count": null,
   "metadata": {},
   "outputs": [],
   "source": [
    "df_sevengram_merge2 = df_sevengram_text[~(df_sevengram_text[\"eightgram\"].isnull() & df_sevengram_text[\"ninegram\"].isnull() & df_sevengram_text[\"tengram\"].isnull())]\n",
    "df_sevengram_merge2"
   ]
  },
  {
   "cell_type": "code",
   "execution_count": null,
   "metadata": {},
   "outputs": [],
   "source": [
    "#df_sevengram_merge2.to_excel(f\"{lang_folder.capitalize()}_Sevengram_Text_Selection_Result.xlsx\", index=False)\n",
    "df_sevengram_merge2.to_csv(f\"{lang_folder.capitalize()}_Sevengram_Text_Selection_Result.csv\", index=False)"
   ]
  },
  {
   "cell_type": "code",
   "execution_count": null,
   "metadata": {},
   "outputs": [],
   "source": []
  },
  {
   "cell_type": "markdown",
   "metadata": {},
   "source": [
    "##### Eightgram"
   ]
  },
  {
   "cell_type": "code",
   "execution_count": null,
   "metadata": {},
   "outputs": [],
   "source": [
    "# parameter\n",
    "source_wordgroup_list = eightgram_list\n",
    "search_column_name = \"eightgram\"\n",
    "target_column = \"ninegram\"\n",
    "df_target = df_ninegram_select\n",
    "\n",
    "# function\n",
    "searchlist = []\n",
    "resultlist = []\n",
    "manager = multiprocessing.Manager()\n",
    "resultlist = manager.list()\n",
    "searchlist = manager.list()\n",
    "\n",
    "def word_in_wordgroup(wordgroup):    \n",
    "    try:\n",
    "        word_in_word_cluster = df_target[df_target[f\"{target_column}\"].str.contains(fr\"(?:\\s|^){wordgroup}(?:\\s|$)\", na=True)].iloc[0:2000,]\n",
    "        for result in word_in_word_cluster[f\"{target_column}\"]:\n",
    "            searchlist.append(wordgroup)\n",
    "            resultlist.append(result)\n",
    "    except:\n",
    "        pass\n",
    "\n",
    "if __name__ == '__main__':\n",
    "    # with Pool(16) as p:\n",
    "    with Pool(nprocs-2) as p: # Pool number CPU sayısına eşit olursa tüm CPU lar çalışır\n",
    "        p.map(word_in_wordgroup, source_wordgroup_list) # string_word liste"
   ]
  },
  {
   "cell_type": "code",
   "execution_count": null,
   "metadata": {},
   "outputs": [],
   "source": [
    "search_list = list(searchlist)\n",
    "result_list = list(resultlist)\n",
    "df_eight_in_nine = pd.DataFrame({f\"{search_column_name}\":search_list,f\"{target_column}\":result_list})\n",
    "df_eight_in_nine"
   ]
  },
  {
   "cell_type": "code",
   "execution_count": null,
   "metadata": {},
   "outputs": [],
   "source": [
    "df_eight_in_nine_list = df_eight_in_nine.groupby([\"eightgram\"])[\"ninegram\"].apply(list).reset_index(name=\"ninegram\")\n",
    "df_eight_in_nine_list"
   ]
  },
  {
   "cell_type": "code",
   "execution_count": null,
   "metadata": {},
   "outputs": [],
   "source": [
    "# parameter\n",
    "source_wordgroup_list = eightgram_list\n",
    "search_column_name = \"eightgram\"\n",
    "target_column = \"tengram\"\n",
    "df_target = df_tengram_select\n",
    "\n",
    "# function\n",
    "searchlist = []\n",
    "resultlist = []\n",
    "manager = multiprocessing.Manager()\n",
    "resultlist = manager.list()\n",
    "searchlist = manager.list()\n",
    "\n",
    "def word_in_wordgroup(wordgroup):    \n",
    "    try:\n",
    "        word_in_word_cluster = df_target[df_target[f\"{target_column}\"].str.contains(fr\"(?:\\s|^){wordgroup}(?:\\s|$)\", na=True)].iloc[0:2000,]\n",
    "        for result in word_in_word_cluster[f\"{target_column}\"]:\n",
    "            searchlist.append(wordgroup)\n",
    "            resultlist.append(result)\n",
    "    except:\n",
    "        pass\n",
    "\n",
    "if __name__ == '__main__':\n",
    "    # with Pool(16) as p:\n",
    "    with Pool(nprocs) as p: # Pool number CPU sayısına eşit olursa tüm CPU lar çalışır\n",
    "        p.map(word_in_wordgroup, source_wordgroup_list) # string_word liste"
   ]
  },
  {
   "cell_type": "code",
   "execution_count": null,
   "metadata": {},
   "outputs": [],
   "source": [
    "search_list = list(searchlist)\n",
    "result_list = list(resultlist)\n",
    "df_eight_in_ten = pd.DataFrame({f\"{search_column_name}\":search_list,f\"{target_column}\":result_list})\n",
    "df_eight_in_ten"
   ]
  },
  {
   "cell_type": "code",
   "execution_count": null,
   "metadata": {},
   "outputs": [],
   "source": [
    "df_eight_in_ten_list = df_eight_in_ten.groupby([\"eightgram\"])[\"tengram\"].apply(list).reset_index(name=\"tengram\")\n",
    "df_eight_in_ten_list"
   ]
  },
  {
   "cell_type": "code",
   "execution_count": null,
   "metadata": {},
   "outputs": [],
   "source": [
    "dfs8 = [df_eightgram_select, df_eight_in_nine_list, df_eight_in_ten_list]"
   ]
  },
  {
   "cell_type": "code",
   "execution_count": null,
   "metadata": {},
   "outputs": [],
   "source": [
    "df_eightgram_merge = reduce(lambda  left,right: pd.merge(left,right, on=['eightgram'], how='left'), dfs8)\n",
    "df_eightgram_merge"
   ]
  },
  {
   "cell_type": "code",
   "execution_count": null,
   "metadata": {},
   "outputs": [],
   "source": [
    "#df_eightgram_merge.to_excel(f\"{lang_folder.capitalize()}_Eightgram_Text_Selection_Temp.xlsx\", index=False)\n",
    "df_eightgram_merge.to_csv(f\"{lang_folder.capitalize()}_Eightgram_Text_Selection_Temp.csv\", index=False)"
   ]
  },
  {
   "cell_type": "code",
   "execution_count": null,
   "metadata": {},
   "outputs": [],
   "source": [
    "#df_eightgram_text = pd.read_excel(f\"{lang_folder.capitalize()}_Eightgram_Text_Selection_Temp.xlsx\")\n",
    "df_eightgram_text = pd.read_csv(f\"{lang_folder.capitalize()}_Eightgram_Text_Selection_Temp.csv\")"
   ]
  },
  {
   "cell_type": "code",
   "execution_count": null,
   "metadata": {},
   "outputs": [],
   "source": [
    "df_eightgram_merge2 = df_eightgram_text[~(df_eightgram_text[\"ninegram\"].isnull() & df_eightgram_text[\"tengram\"].isnull())]\n",
    "df_eightgram_merge2"
   ]
  },
  {
   "cell_type": "code",
   "execution_count": null,
   "metadata": {},
   "outputs": [],
   "source": [
    "#df_eightgram_merge2.to_excel(f\"{lang_folder.capitalize()}_Eightgram_Text_Selection_Result.xlsx\", index=False)\n",
    "df_eightgram_merge2.to_csv(f\"{lang_folder.capitalize()}_Eightgram_Text_Selection_Result.csv\", index=False)"
   ]
  },
  {
   "cell_type": "code",
   "execution_count": null,
   "metadata": {},
   "outputs": [],
   "source": []
  },
  {
   "cell_type": "markdown",
   "metadata": {},
   "source": [
    "##### Ninegram"
   ]
  },
  {
   "cell_type": "code",
   "execution_count": null,
   "metadata": {},
   "outputs": [],
   "source": [
    "# parameter\n",
    "source_wordgroup_list = ninegram_list\n",
    "search_column_name = \"ninegram\"\n",
    "target_column = \"tengram\"\n",
    "df_target = df_tengram_select\n",
    "\n",
    "# function\n",
    "searchlist = []\n",
    "resultlist = []\n",
    "manager = multiprocessing.Manager()\n",
    "resultlist = manager.list()\n",
    "searchlist = manager.list()\n",
    "\n",
    "def word_in_wordgroup(wordgroup):    \n",
    "    try:\n",
    "        word_in_word_cluster = df_target[df_target[f\"{target_column}\"].str.contains(fr\"(?:\\s|^){wordgroup}(?:\\s|$)\", na=True)].iloc[0:2000,]\n",
    "        for result in word_in_word_cluster[f\"{target_column}\"]:\n",
    "            searchlist.append(wordgroup)\n",
    "            resultlist.append(result)\n",
    "    except:\n",
    "        pass\n",
    "\n",
    "if __name__ == '__main__':\n",
    "    # with Pool(16) as p:\n",
    "    with Pool(nprocs-2) as p: # Pool number CPU sayısına eşit olursa tüm CPU lar çalışır\n",
    "        p.map(word_in_wordgroup, source_wordgroup_list) # string_word liste"
   ]
  },
  {
   "cell_type": "code",
   "execution_count": null,
   "metadata": {},
   "outputs": [],
   "source": [
    "search_list = list(searchlist)\n",
    "result_list = list(resultlist)\n",
    "df_nine_in_ten = pd.DataFrame({f\"{search_column_name}\":search_list,f\"{target_column}\":result_list})\n",
    "df_nine_in_ten"
   ]
  },
  {
   "cell_type": "code",
   "execution_count": null,
   "metadata": {},
   "outputs": [],
   "source": [
    "df_nine_in_ten_list = df_nine_in_ten.groupby([\"ninegram\"])[\"tengram\"].apply(list).reset_index(name=\"tengram\")\n",
    "df_nine_in_ten_list"
   ]
  },
  {
   "cell_type": "code",
   "execution_count": null,
   "metadata": {},
   "outputs": [],
   "source": [
    "dfs9 = [df_ninegram_select, df_nine_in_ten_list]"
   ]
  },
  {
   "cell_type": "code",
   "execution_count": null,
   "metadata": {},
   "outputs": [],
   "source": [
    "df_ninegram_merge = reduce(lambda  left,right: pd.merge(left,right, on=['ninegram'], how='left'), dfs9)\n",
    "df_ninegram_merge"
   ]
  },
  {
   "cell_type": "code",
   "execution_count": null,
   "metadata": {},
   "outputs": [],
   "source": [
    "#df_ninegram_merge.to_excel(f\"{lang_folder.capitalize()}_Ninegram_Text_Selection_Temp.xlsx\", index=False)\n",
    "df_ninegram_merge.to_csv(f\"{lang_folder.capitalize()}_Ninegram_Text_Selection_Temp.csv\", index=False)"
   ]
  },
  {
   "cell_type": "code",
   "execution_count": null,
   "metadata": {},
   "outputs": [],
   "source": [
    "#df_ninegram_text = pd.read_excel(f\"{lang_folder.capitalize()}_Ninegram_Text_Selection_Temp.xlsx\")\n",
    "df_ninegram_text = pd.read_csv(f\"{lang_folder.capitalize()}_Ninegram_Text_Selection_Temp.csv\")"
   ]
  },
  {
   "cell_type": "code",
   "execution_count": null,
   "metadata": {},
   "outputs": [],
   "source": [
    "df_ninegram_merge2 = df_ninegram_text[~(df_ninegram_text[\"tengram\"].isnull())]\n",
    "df_ninegram_merge2"
   ]
  },
  {
   "cell_type": "code",
   "execution_count": null,
   "metadata": {},
   "outputs": [],
   "source": [
    "#df_ninegram_merge2.to_excel(f\"{lang_folder.capitalize()}_Ninegram_Text_Selection_Result.xlsx\", index=False)\n",
    "df_ninegram_merge2.to_csv(f\"{lang_folder.capitalize()}_Ninegram_Text_Selection_Result.csv\", index=False)"
   ]
  },
  {
   "cell_type": "code",
   "execution_count": null,
   "metadata": {},
   "outputs": [],
   "source": []
  },
  {
   "cell_type": "markdown",
   "metadata": {},
   "source": [
    "#### Copy Move And Delete"
   ]
  },
  {
   "cell_type": "code",
   "execution_count": null,
   "metadata": {},
   "outputs": [],
   "source": [
    "output_file = glob.glob(f\"{lang_folder.capitalize()}_*_Text_Selection_Result*\")\n",
    "#output_file = glob.glob(f\"*_Selected_*.xlsx\")\n",
    "output_file"
   ]
  },
  {
   "cell_type": "code",
   "execution_count": null,
   "metadata": {},
   "outputs": [],
   "source": [
    "for l in output_file:\n",
    "    source = l # source directory\n",
    "    destination = path\n",
    "    shutil.copy2(source, destination)"
   ]
  },
  {
   "cell_type": "code",
   "execution_count": null,
   "metadata": {},
   "outputs": [],
   "source": [
    "for j in output_file:\n",
    "    try:\n",
    "        os.remove(j)\n",
    "    except:\n",
    "        pass"
   ]
  },
  {
   "cell_type": "code",
   "execution_count": null,
   "metadata": {},
   "outputs": [],
   "source": []
  },
  {
   "cell_type": "code",
   "execution_count": null,
   "metadata": {},
   "outputs": [],
   "source": []
  },
  {
   "cell_type": "code",
   "execution_count": null,
   "metadata": {},
   "outputs": [],
   "source": []
  }
 ],
 "metadata": {
  "kernelspec": {
   "display_name": "Python 3.9.5 ('py39')",
   "language": "python",
   "name": "python3"
  },
  "language_info": {
   "codemirror_mode": {
    "name": "ipython",
    "version": 3
   },
   "file_extension": ".py",
   "mimetype": "text/x-python",
   "name": "python",
   "nbconvert_exporter": "python",
   "pygments_lexer": "ipython3",
   "version": "3.9.5"
  },
  "orig_nbformat": 4,
  "vscode": {
   "interpreter": {
    "hash": "651d507d70892fab0fc6529d935cd476f6e2eb1791525b76da6cc8da34bc0503"
   }
  }
 },
 "nbformat": 4,
 "nbformat_minor": 2
}
