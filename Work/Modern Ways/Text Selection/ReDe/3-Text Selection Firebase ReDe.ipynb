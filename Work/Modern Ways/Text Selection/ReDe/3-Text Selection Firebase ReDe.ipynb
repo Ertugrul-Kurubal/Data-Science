{
 "cells": [
  {
   "cell_type": "markdown",
   "metadata": {},
   "source": [
    "### Text Selection Firebase"
   ]
  },
  {
   "cell_type": "code",
   "execution_count": null,
   "metadata": {},
   "outputs": [],
   "source": [
    "import firebase_admin\n",
    "from firebase_admin import credentials, firestore, storage"
   ]
  },
  {
   "cell_type": "code",
   "execution_count": null,
   "metadata": {},
   "outputs": [],
   "source": [
    "import os\n",
    "import multiprocessing\n",
    "#import multiprocessing as mp\n",
    "from multiprocessing import Process, Manager, Pool, Queue\n",
    "from itertools import islice\n",
    "from collections import Counter\n",
    "import re\n",
    "import pandas as pd\n",
    "import numpy as np\n",
    "import glob\n",
    "import nltk\n",
    "from nltk import word_tokenize\n",
    "from functools import reduce\n",
    "from pathlib import Path\n",
    "import shutil"
   ]
  },
  {
   "cell_type": "code",
   "execution_count": null,
   "metadata": {},
   "outputs": [],
   "source": [
    "nprocs = multiprocessing.cpu_count()\n",
    "print(f\"Number of CPU cores: {nprocs}\")"
   ]
  },
  {
   "cell_type": "code",
   "execution_count": null,
   "metadata": {},
   "outputs": [],
   "source": [
    "# language pair\n",
    "lang_folder = \"Turkish\"  # Arabic, English, French, German, Turkish, Spanish, Portuguese, Dutch, Italian ==> target language for learner\n",
    "#lang_pair = \"English\"  # Arabic, English, French, German, Turkish, Spanish, Portuguese, Dutch, Italian ==> native language\n",
    "\n",
    "# language detail num\n",
    "if lang_folder == \"English\":\n",
    "    lang_id = \"1\"\n",
    "elif lang_folder == \"Turkish\":\n",
    "    lang_id = \"2\"\n",
    "elif lang_folder == \"French\":\n",
    "    lang_id = \"3\"\n",
    "elif lang_folder == \"Spanish\":\n",
    "    lang_id = \"4\"\n",
    "elif lang_folder == \"Portuguese\":\n",
    "    lang_id = \"5\"\n",
    "elif lang_folder == \"Dutch\":\n",
    "    lang_id = \"6\"\n",
    "elif lang_folder == \"Italian\":\n",
    "    lang_id = \"7\"\n",
    "elif lang_folder == \"German\":\n",
    "    lang_id = \"8\"\n",
    "elif lang_folder == \"Arabic\":\n",
    "    lang_id = \"9\"\n",
    "else:\n",
    "    pass\n",
    "\n",
    "# prefix suffix file\n",
    "prefix_suffix = False  # True, False  # True for adding prefix suffix word\n",
    "native_word = True # True for adding native word\n",
    "\n",
    "# adding output file extention\n",
    "if prefix_suffix & native_word:\n",
    "    file_ext = \"5\"\n",
    "elif (not prefix_suffix) & native_word:\n",
    "    file_ext = \"6\"\n",
    "else:\n",
    "    file_ext = \"7\"              \n",
    "\n",
    "# 5 => for only native word with prefix suffix.\n",
    "# 6 => for only native word without prefix suffix.\n",
    "\n",
    "print(f\"Language = {lang_folder}\\nLang Id = {lang_id}\\nFile Extention = {file_ext}\")"
   ]
  },
  {
   "cell_type": "code",
   "execution_count": null,
   "metadata": {},
   "outputs": [],
   "source": [
    "#path = f\"/media/kurubal/SSD/Data Scientist/Work/Modern Ways/Project/{lang_folder.capitalize()}/\\\n",
    "#Language Level/Result/2-Word Group In Youtube Sentence Firebase/{lang_folder.capitalize()}\"\n",
    "\n",
    "#Path(path).mkdir(parents=True, exist_ok=True)"
   ]
  },
  {
   "cell_type": "code",
   "execution_count": null,
   "metadata": {},
   "outputs": [],
   "source": [
    "cred = credentials.Certificate(\"/home/kurubal/Documents/Firebase/Flash Card/Api Key/flashcard-1c46e-firebase-adminsdk-b4kn5-5ddbde56b3.json\")  # Flash Card\n",
    "#cred = credentials.Certificate(\"/home/kurubal/Documents/Firebase/Language Level/Api Key/language-levels-firebase-adminsdk-u1m3n-87de34db73.json\")  # Language Level\n",
    "app = firebase_admin.initialize_app(cred)"
   ]
  },
  {
   "cell_type": "code",
   "execution_count": null,
   "metadata": {},
   "outputs": [],
   "source": [
    "fire_db = firestore.client()"
   ]
  },
  {
   "cell_type": "markdown",
   "metadata": {},
   "source": [
    "#### Read Data"
   ]
  },
  {
   "cell_type": "code",
   "execution_count": null,
   "metadata": {},
   "outputs": [],
   "source": [
    "parent_folder_path = f\"/media/kurubal/SSD/Data Scientist/Work/Modern Ways/Project/{lang_folder.capitalize()}/Text Selection/Result/2-Text Selection Data Merge\""
   ]
  },
  {
   "cell_type": "code",
   "execution_count": null,
   "metadata": {},
   "outputs": [],
   "source": [
    "#df_word = pd.read_excel(f\"{parent_folder_path}/{lang_folder.capitalize()}_Word_Text_Selection_Result.xlsx\")\n",
    "df_word = pd.read_csv(f\"{parent_folder_path}/{lang_folder.capitalize()}_Word_Text_Selection_Result.csv\")\n",
    "df_word = df_word.fillna(\"[]\")\n",
    "df_word = df_word.iloc[0:100,]\n",
    "df_word"
   ]
  },
  {
   "cell_type": "code",
   "execution_count": null,
   "metadata": {},
   "outputs": [],
   "source": [
    "df_word.info()"
   ]
  },
  {
   "cell_type": "code",
   "execution_count": null,
   "metadata": {},
   "outputs": [],
   "source": [
    "df_twogram = pd.read_excel(f\"{parent_folder_path}/{lang_folder.capitalize()}_Twogram_Text_Selection_Result.xlsx\")\n",
    "df_twogram = df_twogram.fillna(\"[]\")\n",
    "df_twogram = df_twogram.iloc[0:100,]\n",
    "df_twogram"
   ]
  },
  {
   "cell_type": "code",
   "execution_count": null,
   "metadata": {},
   "outputs": [],
   "source": [
    "df_threegram = pd.read_excel(f\"{parent_folder_path}/{lang_folder.capitalize()}_Threegram_Text_Selection_Result.xlsx\")\n",
    "df_threegram = df_threegram.fillna(\"[]\")\n",
    "df_threegram = df_threegram.iloc[0:100,]\n",
    "df_threegram"
   ]
  },
  {
   "cell_type": "code",
   "execution_count": null,
   "metadata": {},
   "outputs": [],
   "source": [
    "df_fourgram = pd.read_excel(f\"{parent_folder_path}/{lang_folder.capitalize()}_Fourgram_Text_Selection_Result.xlsx\")\n",
    "df_fourgram = df_fourgram.fillna(\"[]\")\n",
    "df_fourgram = df_fourgram.iloc[0:100,]\n",
    "df_fourgram"
   ]
  },
  {
   "cell_type": "code",
   "execution_count": null,
   "metadata": {},
   "outputs": [],
   "source": [
    "df_fivegram = pd.read_excel(f\"{parent_folder_path}/{lang_folder.capitalize()}_Fivegram_Text_Selection_Result.xlsx\")\n",
    "df_fivegram = df_fivegram.fillna(\"[]\")\n",
    "df_fivegram = df_fivegram.iloc[0:100,]\n",
    "df_fivegram"
   ]
  },
  {
   "cell_type": "code",
   "execution_count": null,
   "metadata": {},
   "outputs": [],
   "source": [
    "df_sixgram = pd.read_excel(f\"{parent_folder_path}/{lang_folder.capitalize()}_Sixgram_Text_Selection_Result.xlsx\")\n",
    "df_sixgram = df_sixgram.fillna(\"[]\")\n",
    "df_sixgram = df_sixgram.iloc[0:100,]\n",
    "df_sixgram"
   ]
  },
  {
   "cell_type": "code",
   "execution_count": null,
   "metadata": {},
   "outputs": [],
   "source": [
    "df_sevengram = pd.read_excel(f\"{parent_folder_path}/{lang_folder.capitalize()}_Sevengram_Text_Selection_Result.xlsx\")\n",
    "df_sevengram = df_sevengram.fillna(\"[]\")\n",
    "df_sevengram = df_sevengram.iloc[0:100,]\n",
    "df_sevengram"
   ]
  },
  {
   "cell_type": "code",
   "execution_count": null,
   "metadata": {},
   "outputs": [],
   "source": [
    "df_eightgram = pd.read_excel(f\"{parent_folder_path}/{lang_folder.capitalize()}_Eightgram_Text_Selection_Result.xlsx\")\n",
    "df_eightgram = df_eightgram.fillna(\"[]\")\n",
    "df_eightgram = df_eightgram.iloc[0:100,]\n",
    "df_eightgram"
   ]
  },
  {
   "cell_type": "code",
   "execution_count": null,
   "metadata": {},
   "outputs": [],
   "source": [
    "df_ninegram = pd.read_excel(f\"{parent_folder_path}/{lang_folder.capitalize()}_Ninegram_Text_Selection_Result.xlsx\")\n",
    "df_ninegram = df_ninegram.fillna(\"[]\")\n",
    "df_ninegram = df_ninegram.iloc[0:100,]\n",
    "df_ninegram"
   ]
  },
  {
   "cell_type": "code",
   "execution_count": null,
   "metadata": {},
   "outputs": [],
   "source": []
  },
  {
   "cell_type": "markdown",
   "metadata": {},
   "source": [
    "#### Sending Data To Firestore"
   ]
  },
  {
   "cell_type": "markdown",
   "metadata": {},
   "source": [
    "##### Photo Data"
   ]
  },
  {
   "cell_type": "code",
   "execution_count": null,
   "metadata": {},
   "outputs": [],
   "source": []
  },
  {
   "cell_type": "code",
   "execution_count": null,
   "metadata": {},
   "outputs": [],
   "source": [
    "#fire_db.collection(\"language-data\").document(\"languages\").set(language_data)"
   ]
  },
  {
   "cell_type": "markdown",
   "metadata": {},
   "source": [
    "##### Text Data"
   ]
  },
  {
   "cell_type": "markdown",
   "metadata": {},
   "source": [
    "##### Word"
   ]
  },
  {
   "cell_type": "code",
   "execution_count": null,
   "metadata": {},
   "outputs": [],
   "source": [
    "df_word[\"twogram\"] = df_word[\"twogram\"].apply(eval)\n",
    "df_word[\"threegram\"] = df_word[\"threegram\"].apply(eval)\n",
    "df_word[\"fourgram\"] = df_word[\"fourgram\"].apply(eval)\n",
    "df_word[\"fivegram\"] = df_word[\"fivegram\"].apply(eval)\n",
    "df_word[\"sixgram\"] = df_word[\"sixgram\"].apply(eval)\n",
    "df_word[\"sevengram\"] = df_word[\"sevengram\"].apply(eval)\n",
    "df_word[\"eightgram\"] = df_word[\"eightgram\"].apply(eval)\n",
    "df_word[\"ninegram\"] = df_word[\"ninegram\"].apply(eval)\n",
    "df_word[\"tengram\"] = df_word[\"tengram\"].apply(eval)"
   ]
  },
  {
   "cell_type": "code",
   "execution_count": null,
   "metadata": {},
   "outputs": [],
   "source": [
    "word = df_word[\"word\"].to_list()\n",
    "frequency_list = df_word[\"frequency\"].to_list()\n",
    "twogram_list = df_word[\"twogram\"].to_list()\n",
    "threegram_list = df_word[\"threegram\"].to_list()\n",
    "fourgram_list = df_word[\"fourgram\"].to_list()\n",
    "fivegram_list = df_word[\"fivegram\"].to_list()\n",
    "sixgram_list = df_word[\"sixgram\"].to_list()\n",
    "sevengram_list = df_word[\"sevengram\"].to_list()\n",
    "eightgram_list = df_word[\"eightgram\"].to_list()\n",
    "ninegram_list = df_word[\"ninegram\"].to_list()\n",
    "tengram_list = df_word[\"tengram\"].to_list()"
   ]
  },
  {
   "cell_type": "code",
   "execution_count": null,
   "metadata": {},
   "outputs": [],
   "source": [
    "firestore_word_data = zip(word,frequency_list,twogram_list,threegram_list,fourgram_list,fivegram_list,sixgram_list,sevengram_list,eightgram_list,ninegram_list,tengram_list)"
   ]
  },
  {
   "cell_type": "code",
   "execution_count": null,
   "metadata": {},
   "outputs": [],
   "source": [
    "#word_data_list = []\n",
    "#for word,twogram_list,threegram_list,fourgram_list,fivegram_list,sixgram_list,sevengram_list,eightgram_list,ninegram_list,tengram_list in firestore_word_data:\n",
    "#    data = {f\"{word}\":{\"ninegram\":ninegram_list,\"tengram\":tengram_list}}\n",
    "#    \n",
    "#    word_data_list.append({f\"{word}\":data})"
   ]
  },
  {
   "cell_type": "code",
   "execution_count": null,
   "metadata": {},
   "outputs": [],
   "source": [
    "word_dict = {}\n",
    "for word,frequency_list,twogram_list,threegram_list,fourgram_list,fivegram_list,sixgram_list,sevengram_list,eightgram_list,ninegram_list,tengram_list in firestore_word_data:\n",
    "    dict_var = {f\"{word}\":{\"photo\":\"\",\"frequency\":frequency_list,\"twogram\":twogram_list,\"threegram\":threegram_list,\"fourgram\":fourgram_list,\"fivegram\":fivegram_list,\"sixgram\":\n",
    "    sixgram_list,\"sevengram\":sevengram_list,\"eightgram\":eightgram_list,\"ninegram\":ninegram_list,\"tengram\":tengram_list,\"other\":[]}}\n",
    "    word_dict.update(dict_var)     "
   ]
  },
  {
   "cell_type": "code",
   "execution_count": null,
   "metadata": {},
   "outputs": [],
   "source": [
    "fire_db.collection(\"text_selection\").document(f\"{lang_folder.capitalize()}\").collection(\"word_data\").document(f\"details\").set(word_dict)"
   ]
  },
  {
   "cell_type": "code",
   "execution_count": null,
   "metadata": {},
   "outputs": [],
   "source": [
    "#fire_db.collection(\"text_selection\").document(f\"{lang_folder.capitalize()}\").collection(\"word_data\").add(word_dict)"
   ]
  },
  {
   "cell_type": "code",
   "execution_count": null,
   "metadata": {},
   "outputs": [],
   "source": []
  },
  {
   "cell_type": "markdown",
   "metadata": {},
   "source": [
    "##### Update"
   ]
  },
  {
   "cell_type": "code",
   "execution_count": null,
   "metadata": {},
   "outputs": [],
   "source": [
    "update_word = \"hoşuma\""
   ]
  },
  {
   "cell_type": "code",
   "execution_count": null,
   "metadata": {},
   "outputs": [],
   "source": [
    "dict_update = {f\"{update_word}.photo\":\"www.store4.com\",f\"{update_word}.other\":[\"gitti\",{\"zıt\":\"gelmek\"}]}"
   ]
  },
  {
   "cell_type": "code",
   "execution_count": null,
   "metadata": {},
   "outputs": [],
   "source": [
    "fire_db.collection(\"text_selection\").document(f\"{lang_folder.capitalize()}\").collection(\"word_data\").document(f\"details\").update(dict_update)"
   ]
  },
  {
   "cell_type": "code",
   "execution_count": null,
   "metadata": {},
   "outputs": [],
   "source": []
  },
  {
   "cell_type": "code",
   "execution_count": null,
   "metadata": {},
   "outputs": [],
   "source": []
  },
  {
   "cell_type": "markdown",
   "metadata": {},
   "source": [
    "##### Twogram"
   ]
  },
  {
   "cell_type": "code",
   "execution_count": null,
   "metadata": {},
   "outputs": [],
   "source": [
    "df_twogram"
   ]
  },
  {
   "cell_type": "code",
   "execution_count": null,
   "metadata": {},
   "outputs": [],
   "source": [
    "df_twogram[\"threegram\"] = df_twogram[\"threegram\"].apply(eval)\n",
    "df_twogram[\"fourgram\"] = df_twogram[\"fourgram\"].apply(eval)\n",
    "df_twogram[\"fivegram\"] = df_twogram[\"fivegram\"].apply(eval)\n",
    "df_twogram[\"sixgram\"] = df_twogram[\"sixgram\"].apply(eval)\n",
    "df_twogram[\"sevengram\"] = df_twogram[\"sevengram\"].apply(eval)\n",
    "df_twogram[\"eightgram\"] = df_twogram[\"eightgram\"].apply(eval)\n",
    "df_twogram[\"ninegram\"] = df_twogram[\"ninegram\"].apply(eval)\n",
    "df_twogram[\"tengram\"] = df_twogram[\"tengram\"].apply(eval)"
   ]
  },
  {
   "cell_type": "code",
   "execution_count": null,
   "metadata": {},
   "outputs": [],
   "source": [
    "#twogram = df_twogram[\"twogram\"].values.tolist()"
   ]
  },
  {
   "cell_type": "code",
   "execution_count": null,
   "metadata": {},
   "outputs": [],
   "source": [
    "twogram = df_twogram[\"twogram\"].to_list()\n",
    "frequency_list = df_twogram[\"frequency\"].to_list()\n",
    "threegram_list = df_twogram[\"threegram\"].to_list()\n",
    "fourgram_list = df_twogram[\"fourgram\"].to_list()\n",
    "fivegram_list = df_twogram[\"fivegram\"].to_list()\n",
    "sixgram_list = df_twogram[\"sixgram\"].to_list()\n",
    "sevengram_list = df_twogram[\"sevengram\"].to_list()\n",
    "eightgram_list = df_twogram[\"eightgram\"].to_list()\n",
    "ninegram_list = df_twogram[\"ninegram\"].to_list()\n",
    "tengram_list = df_twogram[\"tengram\"].to_list()"
   ]
  },
  {
   "cell_type": "code",
   "execution_count": null,
   "metadata": {},
   "outputs": [],
   "source": [
    "firestore_twogram_data = zip(twogram,frequency_list,threegram_list,fourgram_list,fivegram_list,sixgram_list,sevengram_list,eightgram_list,ninegram_list,tengram_list)"
   ]
  },
  {
   "cell_type": "code",
   "execution_count": null,
   "metadata": {},
   "outputs": [],
   "source": [
    "twogram_dict = {}\n",
    "for twogram,frequency_list,threegram_list,fourgram_list,fivegram_list,sixgram_list,sevengram_list,eightgram_list,ninegram_list,tengram_list in firestore_twogram_data:\n",
    "    dict_var = {f\"{twogram}\":{\"photo\":\"\",\"frequency\":frequency_list,\"threegram\":threegram_list,\"fourgram\":fourgram_list,\"fivegram\":fivegram_list,\"sixgram\":\n",
    "    sixgram_list,\"sevengram\":sevengram_list,\"eightgram\":eightgram_list,\"ninegram\":ninegram_list,\"tengram\":tengram_list,\"other\":[]}}\n",
    "    twogram_dict.update(dict_var)    "
   ]
  },
  {
   "cell_type": "code",
   "execution_count": null,
   "metadata": {},
   "outputs": [],
   "source": [
    "fire_db.collection(\"text_selection\").document(f\"{lang_folder.capitalize()}\").collection(\"twogram_data\").document(f\"details\").set(twogram_dict)"
   ]
  },
  {
   "cell_type": "code",
   "execution_count": null,
   "metadata": {},
   "outputs": [],
   "source": []
  },
  {
   "cell_type": "markdown",
   "metadata": {},
   "source": [
    "##### Threegram"
   ]
  },
  {
   "cell_type": "code",
   "execution_count": null,
   "metadata": {},
   "outputs": [],
   "source": [
    "df_threegram"
   ]
  },
  {
   "cell_type": "code",
   "execution_count": null,
   "metadata": {},
   "outputs": [],
   "source": [
    "df_threegram[\"fourgram\"] = df_threegram[\"fourgram\"].apply(eval)\n",
    "df_threegram[\"fivegram\"] = df_threegram[\"fivegram\"].apply(eval)\n",
    "df_threegram[\"sixgram\"] = df_threegram[\"sixgram\"].apply(eval)\n",
    "df_threegram[\"sevengram\"] = df_threegram[\"sevengram\"].apply(eval)\n",
    "df_threegram[\"eightgram\"] = df_threegram[\"eightgram\"].apply(eval)\n",
    "df_threegram[\"ninegram\"] = df_threegram[\"ninegram\"].apply(eval)\n",
    "df_threegram[\"tengram\"] = df_threegram[\"tengram\"].apply(eval)"
   ]
  },
  {
   "cell_type": "code",
   "execution_count": null,
   "metadata": {},
   "outputs": [],
   "source": [
    "threegram = df_threegram[\"threegram\"].to_list()\n",
    "frequency_list = df_threegram[\"frequency\"].to_list()\n",
    "fourgram_list = df_threegram[\"fourgram\"].to_list()\n",
    "fivegram_list = df_threegram[\"fivegram\"].to_list()\n",
    "sixgram_list = df_threegram[\"sixgram\"].to_list()\n",
    "sevengram_list = df_threegram[\"sevengram\"].to_list()\n",
    "eightgram_list = df_threegram[\"eightgram\"].to_list()\n",
    "ninegram_list = df_threegram[\"ninegram\"].to_list()\n",
    "tengram_list = df_threegram[\"tengram\"].to_list()"
   ]
  },
  {
   "cell_type": "code",
   "execution_count": null,
   "metadata": {},
   "outputs": [],
   "source": [
    "firestore_threegram_data = zip(threegram,frequency_list,fourgram_list,fivegram_list,sixgram_list,sevengram_list,eightgram_list,ninegram_list,tengram_list)"
   ]
  },
  {
   "cell_type": "code",
   "execution_count": null,
   "metadata": {},
   "outputs": [],
   "source": [
    "threegram_dict = {}\n",
    "for threegram,frequency_list,fourgram_list,fivegram_list,sixgram_list,sevengram_list,eightgram_list,ninegram_list,tengram_list in firestore_threegram_data:\n",
    "    dict_var = {f\"{threegram}\":{\"photo\":\"\",\"frequency\":frequency_list,\"fourgram\":fourgram_list,\"fivegram\":fivegram_list,\"sixgram\":\n",
    "    sixgram_list,\"sevengram\":sevengram_list,\"eightgram\":eightgram_list,\"ninegram\":ninegram_list,\"tengram\":tengram_list,\"other\":[]}}\n",
    "    threegram_dict.update(dict_var)    "
   ]
  },
  {
   "cell_type": "code",
   "execution_count": null,
   "metadata": {},
   "outputs": [],
   "source": [
    "fire_db.collection(\"text_selection\").document(f\"{lang_folder.capitalize()}\").collection(\"threegram_data\").document(f\"details\").set(threegram_dict)"
   ]
  },
  {
   "cell_type": "code",
   "execution_count": null,
   "metadata": {},
   "outputs": [],
   "source": []
  },
  {
   "cell_type": "markdown",
   "metadata": {},
   "source": [
    "##### Fourgram"
   ]
  },
  {
   "cell_type": "code",
   "execution_count": null,
   "metadata": {},
   "outputs": [],
   "source": [
    "df_fourgram"
   ]
  },
  {
   "cell_type": "code",
   "execution_count": null,
   "metadata": {},
   "outputs": [],
   "source": [
    "df_fourgram[\"fivegram\"] = df_fourgram[\"fivegram\"].apply(eval)\n",
    "df_fourgram[\"sixgram\"] = df_fourgram[\"sixgram\"].apply(eval)\n",
    "df_fourgram[\"sevengram\"] = df_fourgram[\"sevengram\"].apply(eval)\n",
    "df_fourgram[\"eightgram\"] = df_fourgram[\"eightgram\"].apply(eval)\n",
    "df_fourgram[\"ninegram\"] = df_fourgram[\"ninegram\"].apply(eval)\n",
    "df_fourgram[\"tengram\"] = df_fourgram[\"tengram\"].apply(eval)"
   ]
  },
  {
   "cell_type": "code",
   "execution_count": null,
   "metadata": {},
   "outputs": [],
   "source": [
    "fourgram = df_fourgram[\"fourgram\"].to_list()\n",
    "frequency_list = df_fourgram[\"frequency\"].to_list()\n",
    "fivegram_list = df_fourgram[\"fivegram\"].to_list()\n",
    "sixgram_list = df_fourgram[\"sixgram\"].to_list()\n",
    "sevengram_list = df_fourgram[\"sevengram\"].to_list()\n",
    "eightgram_list = df_fourgram[\"eightgram\"].to_list()\n",
    "ninegram_list = df_fourgram[\"ninegram\"].to_list()\n",
    "tengram_list = df_fourgram[\"tengram\"].to_list()"
   ]
  },
  {
   "cell_type": "code",
   "execution_count": null,
   "metadata": {},
   "outputs": [],
   "source": [
    "firestore_fourgram_data = zip(fourgram,frequency_list,fivegram_list,sixgram_list,sevengram_list,eightgram_list,ninegram_list,tengram_list)"
   ]
  },
  {
   "cell_type": "code",
   "execution_count": null,
   "metadata": {},
   "outputs": [],
   "source": [
    "fourgram_dict = {}\n",
    "for fourgram,frequency_list,fivegram_list,sixgram_list,sevengram_list,eightgram_list,ninegram_list,tengram_list in firestore_fourgram_data:\n",
    "    dict_var = {f\"{fourgram}\":{\"photo\":\"\",\"frequency\":frequency_list,\"fivegram\":fivegram_list,\"sixgram\":sixgram_list,\n",
    "    \"sevengram\":sevengram_list,\"eightgram\":eightgram_list,\"ninegram\":ninegram_list,\"tengram\":tengram_list,\"other\":[]}}\n",
    "    fourgram_dict.update(dict_var)    "
   ]
  },
  {
   "cell_type": "code",
   "execution_count": null,
   "metadata": {},
   "outputs": [],
   "source": [
    "fire_db.collection(\"text_selection\").document(f\"{lang_folder.capitalize()}\").collection(\"fourgram_data\").document(f\"details\").set(fourgram_dict)"
   ]
  },
  {
   "cell_type": "code",
   "execution_count": null,
   "metadata": {},
   "outputs": [],
   "source": []
  },
  {
   "cell_type": "markdown",
   "metadata": {},
   "source": [
    "##### Fivegram"
   ]
  },
  {
   "cell_type": "code",
   "execution_count": null,
   "metadata": {},
   "outputs": [],
   "source": [
    "df_fivegram"
   ]
  },
  {
   "cell_type": "code",
   "execution_count": null,
   "metadata": {},
   "outputs": [],
   "source": [
    "df_fivegram[\"sixgram\"] = df_fivegram[\"sixgram\"].apply(eval)\n",
    "df_fivegram[\"sevengram\"] = df_fivegram[\"sevengram\"].apply(eval)\n",
    "df_fivegram[\"eightgram\"] = df_fivegram[\"eightgram\"].apply(eval)\n",
    "df_fivegram[\"ninegram\"] = df_fivegram[\"ninegram\"].apply(eval)\n",
    "df_fivegram[\"tengram\"] = df_fivegram[\"tengram\"].apply(eval)"
   ]
  },
  {
   "cell_type": "code",
   "execution_count": null,
   "metadata": {},
   "outputs": [],
   "source": [
    "fivegram = df_fivegram[\"fivegram\"].to_list()\n",
    "frequency_list = df_fivegram[\"frequency\"].to_list()\n",
    "sixgram_list = df_fivegram[\"sixgram\"].to_list()\n",
    "sevengram_list = df_fivegram[\"sevengram\"].to_list()\n",
    "eightgram_list = df_fivegram[\"eightgram\"].to_list()\n",
    "ninegram_list = df_fivegram[\"ninegram\"].to_list()\n",
    "tengram_list = df_fivegram[\"tengram\"].to_list()"
   ]
  },
  {
   "cell_type": "code",
   "execution_count": null,
   "metadata": {},
   "outputs": [],
   "source": [
    "firestore_fivegram_data = zip(fivegram,frequency_list,sixgram_list,sevengram_list,eightgram_list,ninegram_list,tengram_list)"
   ]
  },
  {
   "cell_type": "code",
   "execution_count": null,
   "metadata": {},
   "outputs": [],
   "source": [
    "fivegram_dict = {}\n",
    "for fivegram,frequency_list,sixgram_list,sevengram_list,eightgram_list,ninegram_list,tengram_list in firestore_fivegram_data:\n",
    "    dict_var = {f\"{fivegram}\":{\"photo\":\"\",\"frequency\":frequency_list,\"sixgram\":sixgram_list,\n",
    "    \"sevengram\":sevengram_list,\"eightgram\":eightgram_list,\"ninegram\":ninegram_list,\"tengram\":tengram_list,\"other\":[]}}\n",
    "    fivegram_dict.update(dict_var)   "
   ]
  },
  {
   "cell_type": "code",
   "execution_count": null,
   "metadata": {},
   "outputs": [],
   "source": [
    "fire_db.collection(\"text_selection\").document(f\"{lang_folder.capitalize()}\").collection(\"fivegram_data\").document(f\"details\").set(fivegram_dict)"
   ]
  },
  {
   "cell_type": "code",
   "execution_count": null,
   "metadata": {},
   "outputs": [],
   "source": []
  },
  {
   "cell_type": "markdown",
   "metadata": {},
   "source": [
    "##### Sixgram"
   ]
  },
  {
   "cell_type": "code",
   "execution_count": null,
   "metadata": {},
   "outputs": [],
   "source": [
    "df_sixgram"
   ]
  },
  {
   "cell_type": "code",
   "execution_count": null,
   "metadata": {},
   "outputs": [],
   "source": [
    "df_sixgram[\"sevengram\"] = df_sixgram[\"sevengram\"].apply(eval)\n",
    "df_sixgram[\"eightgram\"] = df_sixgram[\"eightgram\"].apply(eval)\n",
    "df_sixgram[\"ninegram\"] = df_sixgram[\"ninegram\"].apply(eval)\n",
    "df_sixgram[\"tengram\"] = df_sixgram[\"tengram\"].apply(eval)"
   ]
  },
  {
   "cell_type": "code",
   "execution_count": null,
   "metadata": {},
   "outputs": [],
   "source": [
    "sixgram = df_sixgram[\"sixgram\"].to_list()\n",
    "frequency_list = df_sixgram[\"frequency\"].to_list()\n",
    "sevengram_list = df_sixgram[\"sevengram\"].to_list()\n",
    "eightgram_list = df_sixgram[\"eightgram\"].to_list()\n",
    "ninegram_list = df_sixgram[\"ninegram\"].to_list()\n",
    "tengram_list = df_sixgram[\"tengram\"].to_list()"
   ]
  },
  {
   "cell_type": "code",
   "execution_count": null,
   "metadata": {},
   "outputs": [],
   "source": [
    "firestore_sixgram_data = zip(sixgram,frequency_list,sevengram_list,eightgram_list,ninegram_list,tengram_list)"
   ]
  },
  {
   "cell_type": "code",
   "execution_count": null,
   "metadata": {},
   "outputs": [],
   "source": [
    "sixgram_dict = {}\n",
    "for sixgram,frequency_list,sevengram_list,eightgram_list,ninegram_list,tengram_list in firestore_sixgram_data:\n",
    "    dict_var = {f\"{sixgram}\":{\"photo\":\"\",\"frequency\":frequency_list,\"sevengram\":sevengram_list,\"eightgram\":eightgram_list,\"ninegram\":ninegram_list,\"tengram\":tengram_list,\"other\":[]}}\n",
    "    sixgram_dict.update(dict_var)   "
   ]
  },
  {
   "cell_type": "code",
   "execution_count": null,
   "metadata": {},
   "outputs": [],
   "source": [
    "fire_db.collection(\"text_selection\").document(f\"{lang_folder.capitalize()}\").collection(\"sixgram_data\").document(f\"details\").set(sixgram_dict)"
   ]
  },
  {
   "cell_type": "code",
   "execution_count": null,
   "metadata": {},
   "outputs": [],
   "source": []
  },
  {
   "cell_type": "markdown",
   "metadata": {},
   "source": [
    "##### Sevengram"
   ]
  },
  {
   "cell_type": "code",
   "execution_count": null,
   "metadata": {},
   "outputs": [],
   "source": [
    "df_sevengram"
   ]
  },
  {
   "cell_type": "code",
   "execution_count": null,
   "metadata": {},
   "outputs": [],
   "source": [
    "df_sevengram[\"eightgram\"] = df_sevengram[\"eightgram\"].apply(eval)\n",
    "df_sevengram[\"ninegram\"] = df_sevengram[\"ninegram\"].apply(eval)\n",
    "df_sevengram[\"tengram\"] = df_sevengram[\"tengram\"].apply(eval)"
   ]
  },
  {
   "cell_type": "code",
   "execution_count": null,
   "metadata": {},
   "outputs": [],
   "source": [
    "sevengram = df_sevengram[\"sevengram\"].to_list()\n",
    "frequency_list = df_sevengram[\"frequency\"].to_list()\n",
    "eightgram_list = df_sevengram[\"eightgram\"].to_list()\n",
    "ninegram_list = df_sevengram[\"ninegram\"].to_list()\n",
    "tengram_list = df_sevengram[\"tengram\"].to_list()"
   ]
  },
  {
   "cell_type": "code",
   "execution_count": null,
   "metadata": {},
   "outputs": [],
   "source": [
    "firestore_sevengram_data = zip(sevengram,frequency_list,eightgram_list,ninegram_list,tengram_list)"
   ]
  },
  {
   "cell_type": "code",
   "execution_count": null,
   "metadata": {},
   "outputs": [],
   "source": [
    "sevengram_dict = {}\n",
    "for sevengram,frequency_list,eightgram_list,ninegram_list,tengram_list in firestore_sevengram_data:\n",
    "    dict_var = {f\"{sevengram}\":{\"photo\":\"\",\"frequency\":frequency_list,\"eightgram\":eightgram_list,\"ninegram\":ninegram_list,\"tengram\":tengram_list,\"other\":[]}}\n",
    "    sevengram_dict.update(dict_var)  "
   ]
  },
  {
   "cell_type": "code",
   "execution_count": null,
   "metadata": {},
   "outputs": [],
   "source": [
    "fire_db.collection(\"text_selection\").document(f\"{lang_folder.capitalize()}\").collection(\"sevengram_data\").document(f\"details\").set(sevengram_dict)"
   ]
  },
  {
   "cell_type": "code",
   "execution_count": null,
   "metadata": {},
   "outputs": [],
   "source": []
  },
  {
   "cell_type": "markdown",
   "metadata": {},
   "source": [
    "##### Eightgram"
   ]
  },
  {
   "cell_type": "code",
   "execution_count": null,
   "metadata": {},
   "outputs": [],
   "source": [
    "df_eightgram"
   ]
  },
  {
   "cell_type": "code",
   "execution_count": null,
   "metadata": {},
   "outputs": [],
   "source": [
    "df_eightgram[\"ninegram\"] = df_eightgram[\"ninegram\"].apply(eval)\n",
    "df_eightgram[\"tengram\"] = df_eightgram[\"tengram\"].apply(eval)"
   ]
  },
  {
   "cell_type": "code",
   "execution_count": null,
   "metadata": {},
   "outputs": [],
   "source": [
    "eightgram = df_eightgram[\"eightgram\"].to_list()\n",
    "frequency_list = df_eightgram[\"frequency\"].to_list()\n",
    "ninegram_list = df_eightgram[\"ninegram\"].to_list()\n",
    "tengram_list = df_eightgram[\"tengram\"].to_list()"
   ]
  },
  {
   "cell_type": "code",
   "execution_count": null,
   "metadata": {},
   "outputs": [],
   "source": [
    "firestore_eightgram_data = zip(eightgram,frequency_list,ninegram_list,tengram_list)"
   ]
  },
  {
   "cell_type": "code",
   "execution_count": null,
   "metadata": {},
   "outputs": [],
   "source": [
    "eightgram_dict = {}\n",
    "for eightgram,frequency_list,ninegram_list,tengram_list in firestore_eightgram_data:\n",
    "    dict_var = {f\"{eightgram}\":{\"photo\":\"\",\"frequency\":frequency_list,\"ninegram\":ninegram_list,\"tengram\":tengram_list,\"other\":[]}}\n",
    "    eightgram_dict.update(dict_var)  "
   ]
  },
  {
   "cell_type": "code",
   "execution_count": null,
   "metadata": {},
   "outputs": [],
   "source": [
    "fire_db.collection(\"text_selection\").document(f\"{lang_folder.capitalize()}\").collection(\"eightgram_data\").document(f\"details\").set(eightgram_dict)"
   ]
  },
  {
   "cell_type": "code",
   "execution_count": null,
   "metadata": {},
   "outputs": [],
   "source": []
  },
  {
   "cell_type": "markdown",
   "metadata": {},
   "source": [
    "##### Ninegram"
   ]
  },
  {
   "cell_type": "code",
   "execution_count": null,
   "metadata": {},
   "outputs": [],
   "source": [
    "df_ninegram"
   ]
  },
  {
   "cell_type": "code",
   "execution_count": null,
   "metadata": {},
   "outputs": [],
   "source": [
    "df_ninegram[\"tengram\"] = df_ninegram[\"tengram\"].apply(eval)"
   ]
  },
  {
   "cell_type": "code",
   "execution_count": null,
   "metadata": {},
   "outputs": [],
   "source": [
    "ninegram = df_ninegram[\"ninegram\"].to_list()\n",
    "frequency_list = df_ninegram[\"frequency\"].to_list()\n",
    "tengram_list = df_ninegram[\"tengram\"].to_list()"
   ]
  },
  {
   "cell_type": "code",
   "execution_count": null,
   "metadata": {},
   "outputs": [],
   "source": [
    "firestore_ninegram_data = zip(ninegram,frequency_list,tengram_list)"
   ]
  },
  {
   "cell_type": "code",
   "execution_count": null,
   "metadata": {},
   "outputs": [],
   "source": [
    "ninegram_dict = {}\n",
    "for ninegram,frequency_list,tengram_list in firestore_ninegram_data:\n",
    "    dict_var = {f\"{ninegram}\":{\"photo\":\"\",\"frequency\":frequency_list,\"tengram\":tengram_list,\"other\":[]}}\n",
    "    ninegram_dict.update(dict_var)  "
   ]
  },
  {
   "cell_type": "code",
   "execution_count": null,
   "metadata": {},
   "outputs": [],
   "source": [
    "fire_db.collection(\"text_selection\").document(f\"{lang_folder.capitalize()}\").collection(\"ninegram_data\").document(f\"details\").set(ninegram_dict)"
   ]
  },
  {
   "cell_type": "code",
   "execution_count": null,
   "metadata": {},
   "outputs": [],
   "source": []
  },
  {
   "cell_type": "code",
   "execution_count": null,
   "metadata": {},
   "outputs": [],
   "source": []
  },
  {
   "cell_type": "code",
   "execution_count": null,
   "metadata": {},
   "outputs": [],
   "source": []
  },
  {
   "cell_type": "markdown",
   "metadata": {},
   "source": [
    "#### Copy Move And Delete"
   ]
  },
  {
   "cell_type": "code",
   "execution_count": null,
   "metadata": {},
   "outputs": [],
   "source": [
    "output_file2 = glob.glob(f\"{lang_folder.capitalize()}_Word_Group*{file_ext}.xlsx\")\n",
    "output_file2"
   ]
  },
  {
   "cell_type": "code",
   "execution_count": null,
   "metadata": {},
   "outputs": [],
   "source": [
    "for l in output_file2:\n",
    "    source = l # source directory\n",
    "    destination = path\n",
    "    shutil.copy2(source, destination)"
   ]
  },
  {
   "cell_type": "code",
   "execution_count": null,
   "metadata": {},
   "outputs": [],
   "source": [
    "for j in output_file2:\n",
    "    try:\n",
    "        os.remove(j)\n",
    "    except:\n",
    "        pass"
   ]
  },
  {
   "cell_type": "code",
   "execution_count": null,
   "metadata": {},
   "outputs": [],
   "source": []
  },
  {
   "cell_type": "code",
   "execution_count": null,
   "metadata": {},
   "outputs": [],
   "source": []
  },
  {
   "cell_type": "code",
   "execution_count": null,
   "metadata": {},
   "outputs": [],
   "source": []
  }
 ],
 "metadata": {
  "kernelspec": {
   "display_name": "Python 3.9.5 ('py39')",
   "language": "python",
   "name": "python3"
  },
  "language_info": {
   "codemirror_mode": {
    "name": "ipython",
    "version": 3
   },
   "file_extension": ".py",
   "mimetype": "text/x-python",
   "name": "python",
   "nbconvert_exporter": "python",
   "pygments_lexer": "ipython3",
   "version": "3.9.5"
  },
  "orig_nbformat": 4,
  "vscode": {
   "interpreter": {
    "hash": "651d507d70892fab0fc6529d935cd476f6e2eb1791525b76da6cc8da34bc0503"
   }
  }
 },
 "nbformat": 4,
 "nbformat_minor": 2
}
