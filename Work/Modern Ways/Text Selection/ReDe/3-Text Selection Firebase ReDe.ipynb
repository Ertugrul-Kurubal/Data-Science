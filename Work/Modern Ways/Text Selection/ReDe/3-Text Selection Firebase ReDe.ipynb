{
 "cells": [
  {
   "cell_type": "markdown",
   "metadata": {},
   "source": [
    "### Text Selection Firebase"
   ]
  },
  {
   "cell_type": "code",
   "execution_count": 1,
   "metadata": {},
   "outputs": [],
   "source": [
    "import firebase_admin\n",
    "from firebase_admin import credentials, firestore, storage"
   ]
  },
  {
   "cell_type": "code",
   "execution_count": 2,
   "metadata": {},
   "outputs": [],
   "source": [
    "import os\n",
    "import multiprocessing\n",
    "#import multiprocessing as mp\n",
    "from multiprocessing import Process, Manager, Pool, Queue\n",
    "from itertools import islice\n",
    "from collections import Counter\n",
    "import re\n",
    "import pandas as pd\n",
    "import numpy as np\n",
    "import glob\n",
    "import nltk\n",
    "from nltk import word_tokenize\n",
    "from functools import reduce\n",
    "from pathlib import Path\n",
    "import shutil"
   ]
  },
  {
   "cell_type": "code",
   "execution_count": 3,
   "metadata": {},
   "outputs": [
    {
     "name": "stdout",
     "output_type": "stream",
     "text": [
      "Number of CPU cores: 16\n"
     ]
    }
   ],
   "source": [
    "nprocs = multiprocessing.cpu_count()\n",
    "print(f\"Number of CPU cores: {nprocs}\")"
   ]
  },
  {
   "cell_type": "code",
   "execution_count": 4,
   "metadata": {},
   "outputs": [
    {
     "name": "stdout",
     "output_type": "stream",
     "text": [
      "Language = Turkish\n",
      "Lang Id = 2\n",
      "File Extention = 6\n"
     ]
    }
   ],
   "source": [
    "# language pair\n",
    "lang_folder = \"Turkish\"  # Arabic, English, French, German, Turkish, Spanish, Portuguese, Dutch, Italian ==> target language for learner\n",
    "#lang_pair = \"English\"  # Arabic, English, French, German, Turkish, Spanish, Portuguese, Dutch, Italian ==> native language\n",
    "\n",
    "# language detail num\n",
    "if lang_folder == \"English\":\n",
    "    lang_id = \"1\"\n",
    "elif lang_folder == \"Turkish\":\n",
    "    lang_id = \"2\"\n",
    "elif lang_folder == \"French\":\n",
    "    lang_id = \"3\"\n",
    "elif lang_folder == \"Spanish\":\n",
    "    lang_id = \"4\"\n",
    "elif lang_folder == \"Portuguese\":\n",
    "    lang_id = \"5\"\n",
    "elif lang_folder == \"Dutch\":\n",
    "    lang_id = \"6\"\n",
    "elif lang_folder == \"Italian\":\n",
    "    lang_id = \"7\"\n",
    "elif lang_folder == \"German\":\n",
    "    lang_id = \"8\"\n",
    "elif lang_folder == \"Arabic\":\n",
    "    lang_id = \"9\"\n",
    "else:\n",
    "    pass\n",
    "\n",
    "# prefix suffix file\n",
    "prefix_suffix = False  # True, False  # True for adding prefix suffix word\n",
    "native_word = True # True for adding native word\n",
    "\n",
    "# adding output file extention\n",
    "if prefix_suffix & native_word:\n",
    "    file_ext = \"5\"\n",
    "elif (not prefix_suffix) & native_word:\n",
    "    file_ext = \"6\"\n",
    "else:\n",
    "    file_ext = \"7\"              \n",
    "\n",
    "# 5 => for only native word with prefix suffix.\n",
    "# 6 => for only native word without prefix suffix.\n",
    "\n",
    "print(f\"Language = {lang_folder}\\nLang Id = {lang_id}\\nFile Extention = {file_ext}\")"
   ]
  },
  {
   "cell_type": "code",
   "execution_count": 5,
   "metadata": {},
   "outputs": [],
   "source": [
    "#path = f\"/media/kurubal/SSD/Data Scientist/Work/Modern Ways/Project/{lang_folder.capitalize()}/\\\n",
    "#Language Level/Result/2-Word Group In Youtube Sentence Firebase/{lang_folder.capitalize()}\"\n",
    "\n",
    "#Path(path).mkdir(parents=True, exist_ok=True)"
   ]
  },
  {
   "cell_type": "code",
   "execution_count": 6,
   "metadata": {},
   "outputs": [],
   "source": [
    "cred = credentials.Certificate(\"/home/kurubal/Documents/Firebase/Flash Card/Api Key/flashcard-1c46e-firebase-adminsdk-b4kn5-5ddbde56b3.json\")  # Flash Card\n",
    "#cred = credentials.Certificate(\"/home/kurubal/Documents/Firebase/Language Level/Api Key/language-levels-firebase-adminsdk-u1m3n-87de34db73.json\")  # Language Level\n",
    "app = firebase_admin.initialize_app(cred)"
   ]
  },
  {
   "cell_type": "code",
   "execution_count": 7,
   "metadata": {},
   "outputs": [],
   "source": [
    "fire_db = firestore.client()"
   ]
  },
  {
   "cell_type": "markdown",
   "metadata": {},
   "source": [
    "#### Read Data"
   ]
  },
  {
   "cell_type": "code",
   "execution_count": 8,
   "metadata": {},
   "outputs": [],
   "source": [
    "parent_folder_path = f\"/media/kurubal/SSD/Data Scientist/Work/Modern Ways/Project/{lang_folder.capitalize()}/Text Selection/Result/2-Text Selection Data Merge\""
   ]
  },
  {
   "cell_type": "code",
   "execution_count": 9,
   "metadata": {},
   "outputs": [
    {
     "data": {
      "text/html": [
       "<div>\n",
       "<style scoped>\n",
       "    .dataframe tbody tr th:only-of-type {\n",
       "        vertical-align: middle;\n",
       "    }\n",
       "\n",
       "    .dataframe tbody tr th {\n",
       "        vertical-align: top;\n",
       "    }\n",
       "\n",
       "    .dataframe thead th {\n",
       "        text-align: right;\n",
       "    }\n",
       "</style>\n",
       "<table border=\"1\" class=\"dataframe\">\n",
       "  <thead>\n",
       "    <tr style=\"text-align: right;\">\n",
       "      <th></th>\n",
       "      <th>word</th>\n",
       "      <th>frequency</th>\n",
       "      <th>twogram</th>\n",
       "      <th>threegram</th>\n",
       "      <th>fourgram</th>\n",
       "      <th>fivegram</th>\n",
       "      <th>sixgram</th>\n",
       "      <th>sevengram</th>\n",
       "      <th>eightgram</th>\n",
       "      <th>ninegram</th>\n",
       "      <th>tengram</th>\n",
       "    </tr>\n",
       "  </thead>\n",
       "  <tbody>\n",
       "    <tr>\n",
       "      <th>0</th>\n",
       "      <td>bir</td>\n",
       "      <td>18835735</td>\n",
       "      <td>['bir şey', 'bu bir', 'bir dakika', 'bir şeyle...</td>\n",
       "      <td>['bir şey yok', 'bir şey var', 'başka bir şey'...</td>\n",
       "      <td>['bir şey var mı', 'bir sorun mu var', 'gereke...</td>\n",
       "      <td>['zaman yolculuğunu icat ettiğim gündür', 'san...</td>\n",
       "      <td>['sana söylemem gereken bir şey var', 'bir iki...</td>\n",
       "      <td>['ne kadar özel olduğunu başkasının anlayacağı...</td>\n",
       "      <td>['bir iki üç dört beş altı yedi sekiz', 'sekiz...</td>\n",
       "      <td>['dokuz sekiz yedi altı beş dört üç iki bir', ...</td>\n",
       "      <td>['bir iki üç dört beş altı yedi sekiz dokuz on...</td>\n",
       "    </tr>\n",
       "    <tr>\n",
       "      <th>1</th>\n",
       "      <td>bu</td>\n",
       "      <td>11062659</td>\n",
       "      <td>['bu kadar', 'bu da', 'bu çok', 'bu bir', 'bu ...</td>\n",
       "      <td>['bu da ne', 'neden bu kadar', 'bu doğru değil...</td>\n",
       "      <td>['bu da ne demek', 'bu da ne böyle', 'bu iyi b...</td>\n",
       "      <td>['bu da ne demek oluyor', 'bu da ne demek şimd...</td>\n",
       "      <td>['bu iyi bir şey değil mi', 'bence bu iyi bir ...</td>\n",
       "      <td>['bu sana bir şey ifade ediyor mu', 'evime var...</td>\n",
       "      <td>['bu sabah uyandın bütün o sevgi yok olmuş', '...</td>\n",
       "      <td>['bu gün bir kez daha biri bir yerlerde ağlaya...</td>\n",
       "      <td>['bu işlemi bu akşam başlatmak istiyorsak yapa...</td>\n",
       "    </tr>\n",
       "    <tr>\n",
       "      <th>2</th>\n",
       "      <td>ne</td>\n",
       "      <td>8025880</td>\n",
       "      <td>['ne oldu', 'ne kadar', 'ne yapıyorsun', 'ne d...</td>\n",
       "      <td>['bu da ne', 'ne demek istiyorsun', 'ne işin v...</td>\n",
       "      <td>['burada ne işin var', 'bu da ne demek', 'en s...</td>\n",
       "      <td>['bu da ne demek oluyor', 'bu da ne demek şimd...</td>\n",
       "      <td>['onu en son ne zaman gördün', 'bunun ne anlam...</td>\n",
       "      <td>['ne kadar az bilirsen o kadar iyi', 'kadınlar...</td>\n",
       "      <td>['bunun senin için ne kadar zor olduğunu biliy...</td>\n",
       "      <td>['efendi luke sizi tekrar işler vaziyette görm...</td>\n",
       "      <td>['ne dediğimi duymadın mı evlat ben de ona eve...</td>\n",
       "    </tr>\n",
       "    <tr>\n",
       "      <th>3</th>\n",
       "      <td>ve</td>\n",
       "      <td>7766036</td>\n",
       "      <td>['ve ben', 've bu', 've bir', 'sen ve', 've se...</td>\n",
       "      <td>['sen ve ben', 'bayanlar ve baylar', 've ben d...</td>\n",
       "      <td>['sadece sen ve ben', 'oğul ve kutsal ruh', 'b...</td>\n",
       "      <td>['baba oğul ve kutsal ruh', 'oğul ve kutsal ru...</td>\n",
       "      <td>['baba oğul ve kutsal ruh adına', 'evrenin her...</td>\n",
       "      <td>['bir ve iki ve üç ve dört', 've sen herkesin ...</td>\n",
       "      <td>['ve sen herkesin seni tanıdığı o yerde olmak'...</td>\n",
       "      <td>['ve sen herkesin seni tanıdığı o yerde olmak ...</td>\n",
       "      <td>['kız artık bizim için bir önem arz etmiyor mu...</td>\n",
       "    </tr>\n",
       "    <tr>\n",
       "      <th>4</th>\n",
       "      <td>için</td>\n",
       "      <td>5484109</td>\n",
       "      <td>['senin için', 'benim için', 'için bir', 'bunu...</td>\n",
       "      <td>['için özür dilerim', 'için teşekkür ederim', ...</td>\n",
       "      <td>['sizin için ne yapabilirim', 'senin için ne y...</td>\n",
       "      <td>['rahatsız ettiğim için özür dilerim', 'senin ...</td>\n",
       "      <td>['için yapabileceğim bir şey var mı', 'benim i...</td>\n",
       "      <td>['senin için yapabileceğim bir şey var mı', 's...</td>\n",
       "      <td>['sizin için yapabileceğim başka bir şey var m...</td>\n",
       "      <td>['buralara kadar gelebilmek için pek çok duvar...</td>\n",
       "      <td>['annem bana bazı şeyleri anlatmak için mutlak...</td>\n",
       "    </tr>\n",
       "    <tr>\n",
       "      <th>...</th>\n",
       "      <td>...</td>\n",
       "      <td>...</td>\n",
       "      <td>...</td>\n",
       "      <td>...</td>\n",
       "      <td>...</td>\n",
       "      <td>...</td>\n",
       "      <td>...</td>\n",
       "      <td>...</td>\n",
       "      <td>...</td>\n",
       "      <td>...</td>\n",
       "      <td>...</td>\n",
       "    </tr>\n",
       "    <tr>\n",
       "      <th>95</th>\n",
       "      <td>gün</td>\n",
       "      <td>695127</td>\n",
       "      <td>['bir gün', 'her gün', 'bütün gün', 'birkaç gü...</td>\n",
       "      <td>['güzel bir gün', 'bir kaç gün', 'bir gün daha...</td>\n",
       "      <td>['bir gün değil mi', 'çok güzel bir gün', 'ne ...</td>\n",
       "      <td>['güzel bir gün değil mi', 'her geçen gün daha...</td>\n",
       "      <td>['ne güzel bir gün değil mi', 'neşeli ruhu bir...</td>\n",
       "      <td>['neşeli ruhu bir gün yelken açtı ta', 'ruhu b...</td>\n",
       "      <td>['neşeli ruhu bir gün yelken açtı ta denizden'...</td>\n",
       "      <td>['bu gün bir kez daha biri bir yerlerde ağlaya...</td>\n",
       "      <td>['bir gün yalan açığa çıkacak ve karanlığın iç...</td>\n",
       "    </tr>\n",
       "    <tr>\n",
       "      <th>96</th>\n",
       "      <td>fazla</td>\n",
       "      <td>692043</td>\n",
       "      <td>['daha fazla', 'çok fazla', 'en fazla', 'fazla...</td>\n",
       "      <td>['fazla bir şey', 'çok daha fazla', 'çok fazla...</td>\n",
       "      <td>['fazla bir şey yok', 'bu kadarı da fazla', 'f...</td>\n",
       "      <td>['daha fazla zamana ihtiyacım var', 'bu biraz ...</td>\n",
       "      <td>['çok fazla göze batmak suç mu', 'bu konuda da...</td>\n",
       "      <td>['benim gibi yaşlı bir hırsız için fazla', 'sa...</td>\n",
       "      <td>['sanırım benim gibi yaşlı bir hırsız için faz...</td>\n",
       "      <td>['fazla erken olmaz ben iyi geceler ay diyene ...</td>\n",
       "      <td>['hayır fazla erken olmaz ben iyi geceler ay d...</td>\n",
       "    </tr>\n",
       "    <tr>\n",
       "      <th>97</th>\n",
       "      <td>bunun</td>\n",
       "      <td>691351</td>\n",
       "      <td>['bunun için', 'bunun ne', 'bunun bir', 'bunun...</td>\n",
       "      <td>['bunun ne olduğunu', 'bunun için çok', 'bunun...</td>\n",
       "      <td>['bunun iyi bir fikir', 'bunun ne anlama geldi...</td>\n",
       "      <td>['bunun ne olduğunu biliyor musun', 'bunun iyi...</td>\n",
       "      <td>['bunun iyi bir fikir olduğunu sanmıyorum', 'b...</td>\n",
       "      <td>['bunun iyi bir fikir olduğuna emin misin', 'b...</td>\n",
       "      <td>['bunun senin için ne kadar zor olduğunu biliy...</td>\n",
       "      <td>['bunun için sizden özür dilerim fakat kendimi...</td>\n",
       "      <td>['bu çok büyük bir saçmalık buraya bunun için ...</td>\n",
       "    </tr>\n",
       "    <tr>\n",
       "      <th>98</th>\n",
       "      <td>ederim</td>\n",
       "      <td>691344</td>\n",
       "      <td>['teşekkür ederim', 'yemin ederim', 'rica eder...</td>\n",
       "      <td>['çok teşekkür ederim', 'için teşekkür ederim'...</td>\n",
       "      <td>['için çok teşekkür ederim', 'geldiğiniz için ...</td>\n",
       "      <td>['her şey için teşekkür ederim', 'zaman ayırdı...</td>\n",
       "      <td>['her şey için çok teşekkür ederim', 'beni kab...</td>\n",
       "      <td>['olmama izin verdiğin için tekrar teşekkür ed...</td>\n",
       "      <td>['gibi olmama izin verdiğin için tekrar teşekk...</td>\n",
       "      <td>['kendim gibi olmama izin verdiğin için tekrar...</td>\n",
       "      <td>['yemin ederim canım diğer tarafında olsaydım ...</td>\n",
       "    </tr>\n",
       "    <tr>\n",
       "      <th>99</th>\n",
       "      <td>şeyi</td>\n",
       "      <td>683786</td>\n",
       "      <td>['her şeyi', 'bir şeyi', 'aynı şeyi', 'hiçbir ...</td>\n",
       "      <td>['için her şeyi', 'böyle bir şeyi', 'de aynı ş...</td>\n",
       "      <td>['için her şeyi yaparım', 'ben de aynı şeyi', ...</td>\n",
       "      <td>['senin için her şeyi yaparım', 'ben de aynı ş...</td>\n",
       "      <td>['için elimden gelen her şeyi yapacağım', 'böy...</td>\n",
       "      <td>['çünkü benim için değerli bir şeyi kaybetmek'...</td>\n",
       "      <td>['çünkü benim için değerli bir şeyi kaybetmek ...</td>\n",
       "      <td>['ama aynı şeyi başka kızlara da yapmasına izi...</td>\n",
       "      <td>['her şeyi olduğu gibi bırakın ve bırakın sözl...</td>\n",
       "    </tr>\n",
       "  </tbody>\n",
       "</table>\n",
       "<p>100 rows × 11 columns</p>\n",
       "</div>"
      ],
      "text/plain": [
       "      word  frequency                                            twogram  \\\n",
       "0      bir   18835735  ['bir şey', 'bu bir', 'bir dakika', 'bir şeyle...   \n",
       "1       bu   11062659  ['bu kadar', 'bu da', 'bu çok', 'bu bir', 'bu ...   \n",
       "2       ne    8025880  ['ne oldu', 'ne kadar', 'ne yapıyorsun', 'ne d...   \n",
       "3       ve    7766036  ['ve ben', 've bu', 've bir', 'sen ve', 've se...   \n",
       "4     için    5484109  ['senin için', 'benim için', 'için bir', 'bunu...   \n",
       "..     ...        ...                                                ...   \n",
       "95     gün     695127  ['bir gün', 'her gün', 'bütün gün', 'birkaç gü...   \n",
       "96   fazla     692043  ['daha fazla', 'çok fazla', 'en fazla', 'fazla...   \n",
       "97   bunun     691351  ['bunun için', 'bunun ne', 'bunun bir', 'bunun...   \n",
       "98  ederim     691344  ['teşekkür ederim', 'yemin ederim', 'rica eder...   \n",
       "99    şeyi     683786  ['her şeyi', 'bir şeyi', 'aynı şeyi', 'hiçbir ...   \n",
       "\n",
       "                                            threegram  \\\n",
       "0   ['bir şey yok', 'bir şey var', 'başka bir şey'...   \n",
       "1   ['bu da ne', 'neden bu kadar', 'bu doğru değil...   \n",
       "2   ['bu da ne', 'ne demek istiyorsun', 'ne işin v...   \n",
       "3   ['sen ve ben', 'bayanlar ve baylar', 've ben d...   \n",
       "4   ['için özür dilerim', 'için teşekkür ederim', ...   \n",
       "..                                                ...   \n",
       "95  ['güzel bir gün', 'bir kaç gün', 'bir gün daha...   \n",
       "96  ['fazla bir şey', 'çok daha fazla', 'çok fazla...   \n",
       "97  ['bunun ne olduğunu', 'bunun için çok', 'bunun...   \n",
       "98  ['çok teşekkür ederim', 'için teşekkür ederim'...   \n",
       "99  ['için her şeyi', 'böyle bir şeyi', 'de aynı ş...   \n",
       "\n",
       "                                             fourgram  \\\n",
       "0   ['bir şey var mı', 'bir sorun mu var', 'gereke...   \n",
       "1   ['bu da ne demek', 'bu da ne böyle', 'bu iyi b...   \n",
       "2   ['burada ne işin var', 'bu da ne demek', 'en s...   \n",
       "3   ['sadece sen ve ben', 'oğul ve kutsal ruh', 'b...   \n",
       "4   ['sizin için ne yapabilirim', 'senin için ne y...   \n",
       "..                                                ...   \n",
       "95  ['bir gün değil mi', 'çok güzel bir gün', 'ne ...   \n",
       "96  ['fazla bir şey yok', 'bu kadarı da fazla', 'f...   \n",
       "97  ['bunun iyi bir fikir', 'bunun ne anlama geldi...   \n",
       "98  ['için çok teşekkür ederim', 'geldiğiniz için ...   \n",
       "99  ['için her şeyi yaparım', 'ben de aynı şeyi', ...   \n",
       "\n",
       "                                             fivegram  \\\n",
       "0   ['zaman yolculuğunu icat ettiğim gündür', 'san...   \n",
       "1   ['bu da ne demek oluyor', 'bu da ne demek şimd...   \n",
       "2   ['bu da ne demek oluyor', 'bu da ne demek şimd...   \n",
       "3   ['baba oğul ve kutsal ruh', 'oğul ve kutsal ru...   \n",
       "4   ['rahatsız ettiğim için özür dilerim', 'senin ...   \n",
       "..                                                ...   \n",
       "95  ['güzel bir gün değil mi', 'her geçen gün daha...   \n",
       "96  ['daha fazla zamana ihtiyacım var', 'bu biraz ...   \n",
       "97  ['bunun ne olduğunu biliyor musun', 'bunun iyi...   \n",
       "98  ['her şey için teşekkür ederim', 'zaman ayırdı...   \n",
       "99  ['senin için her şeyi yaparım', 'ben de aynı ş...   \n",
       "\n",
       "                                              sixgram  \\\n",
       "0   ['sana söylemem gereken bir şey var', 'bir iki...   \n",
       "1   ['bu iyi bir şey değil mi', 'bence bu iyi bir ...   \n",
       "2   ['onu en son ne zaman gördün', 'bunun ne anlam...   \n",
       "3   ['baba oğul ve kutsal ruh adına', 'evrenin her...   \n",
       "4   ['için yapabileceğim bir şey var mı', 'benim i...   \n",
       "..                                                ...   \n",
       "95  ['ne güzel bir gün değil mi', 'neşeli ruhu bir...   \n",
       "96  ['çok fazla göze batmak suç mu', 'bu konuda da...   \n",
       "97  ['bunun iyi bir fikir olduğunu sanmıyorum', 'b...   \n",
       "98  ['her şey için çok teşekkür ederim', 'beni kab...   \n",
       "99  ['için elimden gelen her şeyi yapacağım', 'böy...   \n",
       "\n",
       "                                            sevengram  \\\n",
       "0   ['ne kadar özel olduğunu başkasının anlayacağı...   \n",
       "1   ['bu sana bir şey ifade ediyor mu', 'evime var...   \n",
       "2   ['ne kadar az bilirsen o kadar iyi', 'kadınlar...   \n",
       "3   ['bir ve iki ve üç ve dört', 've sen herkesin ...   \n",
       "4   ['senin için yapabileceğim bir şey var mı', 's...   \n",
       "..                                                ...   \n",
       "95  ['neşeli ruhu bir gün yelken açtı ta', 'ruhu b...   \n",
       "96  ['benim gibi yaşlı bir hırsız için fazla', 'sa...   \n",
       "97  ['bunun iyi bir fikir olduğuna emin misin', 'b...   \n",
       "98  ['olmama izin verdiğin için tekrar teşekkür ed...   \n",
       "99  ['çünkü benim için değerli bir şeyi kaybetmek'...   \n",
       "\n",
       "                                            eightgram  \\\n",
       "0   ['bir iki üç dört beş altı yedi sekiz', 'sekiz...   \n",
       "1   ['bu sabah uyandın bütün o sevgi yok olmuş', '...   \n",
       "2   ['bunun senin için ne kadar zor olduğunu biliy...   \n",
       "3   ['ve sen herkesin seni tanıdığı o yerde olmak'...   \n",
       "4   ['sizin için yapabileceğim başka bir şey var m...   \n",
       "..                                                ...   \n",
       "95  ['neşeli ruhu bir gün yelken açtı ta denizden'...   \n",
       "96  ['sanırım benim gibi yaşlı bir hırsız için faz...   \n",
       "97  ['bunun senin için ne kadar zor olduğunu biliy...   \n",
       "98  ['gibi olmama izin verdiğin için tekrar teşekk...   \n",
       "99  ['çünkü benim için değerli bir şeyi kaybetmek ...   \n",
       "\n",
       "                                             ninegram  \\\n",
       "0   ['dokuz sekiz yedi altı beş dört üç iki bir', ...   \n",
       "1   ['bu gün bir kez daha biri bir yerlerde ağlaya...   \n",
       "2   ['efendi luke sizi tekrar işler vaziyette görm...   \n",
       "3   ['ve sen herkesin seni tanıdığı o yerde olmak ...   \n",
       "4   ['buralara kadar gelebilmek için pek çok duvar...   \n",
       "..                                                ...   \n",
       "95  ['bu gün bir kez daha biri bir yerlerde ağlaya...   \n",
       "96  ['fazla erken olmaz ben iyi geceler ay diyene ...   \n",
       "97  ['bunun için sizden özür dilerim fakat kendimi...   \n",
       "98  ['kendim gibi olmama izin verdiğin için tekrar...   \n",
       "99  ['ama aynı şeyi başka kızlara da yapmasına izi...   \n",
       "\n",
       "                                              tengram  \n",
       "0   ['bir iki üç dört beş altı yedi sekiz dokuz on...  \n",
       "1   ['bu işlemi bu akşam başlatmak istiyorsak yapa...  \n",
       "2   ['ne dediğimi duymadın mı evlat ben de ona eve...  \n",
       "3   ['kız artık bizim için bir önem arz etmiyor mu...  \n",
       "4   ['annem bana bazı şeyleri anlatmak için mutlak...  \n",
       "..                                                ...  \n",
       "95  ['bir gün yalan açığa çıkacak ve karanlığın iç...  \n",
       "96  ['hayır fazla erken olmaz ben iyi geceler ay d...  \n",
       "97  ['bu çok büyük bir saçmalık buraya bunun için ...  \n",
       "98  ['yemin ederim canım diğer tarafında olsaydım ...  \n",
       "99  ['her şeyi olduğu gibi bırakın ve bırakın sözl...  \n",
       "\n",
       "[100 rows x 11 columns]"
      ]
     },
     "execution_count": 9,
     "metadata": {},
     "output_type": "execute_result"
    }
   ],
   "source": [
    "#df_word = pd.read_excel(f\"{parent_folder_path}/{lang_folder.capitalize()}_Word_Text_Selection_Result.xlsx\")\n",
    "df_word = pd.read_csv(f\"{parent_folder_path}/{lang_folder.capitalize()}_Word_Text_Selection_Result.csv\")\n",
    "df_word = df_word.fillna(\"[]\")\n",
    "df_word = df_word.iloc[0:100,]\n",
    "df_word"
   ]
  },
  {
   "cell_type": "code",
   "execution_count": 10,
   "metadata": {},
   "outputs": [
    {
     "name": "stdout",
     "output_type": "stream",
     "text": [
      "<class 'pandas.core.frame.DataFrame'>\n",
      "RangeIndex: 100 entries, 0 to 99\n",
      "Data columns (total 11 columns):\n",
      " #   Column     Non-Null Count  Dtype \n",
      "---  ------     --------------  ----- \n",
      " 0   word       100 non-null    object\n",
      " 1   frequency  100 non-null    int64 \n",
      " 2   twogram    100 non-null    object\n",
      " 3   threegram  100 non-null    object\n",
      " 4   fourgram   100 non-null    object\n",
      " 5   fivegram   100 non-null    object\n",
      " 6   sixgram    100 non-null    object\n",
      " 7   sevengram  100 non-null    object\n",
      " 8   eightgram  100 non-null    object\n",
      " 9   ninegram   100 non-null    object\n",
      " 10  tengram    100 non-null    object\n",
      "dtypes: int64(1), object(10)\n",
      "memory usage: 8.7+ KB\n"
     ]
    }
   ],
   "source": [
    "df_word.info()"
   ]
  },
  {
   "cell_type": "code",
   "execution_count": 12,
   "metadata": {},
   "outputs": [
    {
     "data": {
      "text/html": [
       "<div>\n",
       "<style scoped>\n",
       "    .dataframe tbody tr th:only-of-type {\n",
       "        vertical-align: middle;\n",
       "    }\n",
       "\n",
       "    .dataframe tbody tr th {\n",
       "        vertical-align: top;\n",
       "    }\n",
       "\n",
       "    .dataframe thead th {\n",
       "        text-align: right;\n",
       "    }\n",
       "</style>\n",
       "<table border=\"1\" class=\"dataframe\">\n",
       "  <thead>\n",
       "    <tr style=\"text-align: right;\">\n",
       "      <th></th>\n",
       "      <th>twogram</th>\n",
       "      <th>frequency</th>\n",
       "      <th>threegram</th>\n",
       "      <th>fourgram</th>\n",
       "      <th>fivegram</th>\n",
       "      <th>sixgram</th>\n",
       "      <th>sevengram</th>\n",
       "      <th>eightgram</th>\n",
       "      <th>ninegram</th>\n",
       "      <th>tengram</th>\n",
       "    </tr>\n",
       "  </thead>\n",
       "  <tbody>\n",
       "    <tr>\n",
       "      <th>0</th>\n",
       "      <td>bir şey</td>\n",
       "      <td>859944</td>\n",
       "      <td>['bir şey yok', 'bir şey var', 'başka bir şey'...</td>\n",
       "      <td>['bir şey var mı', 'gereken bir şey var', 'baş...</td>\n",
       "      <td>['başka bir şey var mı', 'sana bir şey sorabil...</td>\n",
       "      <td>['sana söylemem gereken bir şey var', 'söyleme...</td>\n",
       "      <td>['bana söylemek istediğin bir şey var mı', 'se...</td>\n",
       "      <td>['sizin için yapabileceğim başka bir şey var m...</td>\n",
       "      <td>['ve eğer o arkadaşı bulursa onu asla bırakmay...</td>\n",
       "      <td>['bana sadece içinde şeker olmayan bir şey ver...</td>\n",
       "    </tr>\n",
       "    <tr>\n",
       "      <th>1</th>\n",
       "      <td>değil mi</td>\n",
       "      <td>585879</td>\n",
       "      <td>['öyle değil mi', 'biliyorsun değil mi', 'güze...</td>\n",
       "      <td>['de öyle değil mi', 'bir şey değil mi', 'çok ...</td>\n",
       "      <td>['sence de öyle değil mi', 'sizce de öyle deği...</td>\n",
       "      <td>['bu iyi bir şey değil mi', 'ne demek istediği...</td>\n",
       "      <td>['o kadar da kötü değildi değil mi', 'o kadar ...</td>\n",
       "      <td>['bir kadının şarkı söylemesi oldukça şaşırtıc...</td>\n",
       "      <td>['evimde bir kadının şarkı söylemesi oldukça ş...</td>\n",
       "      <td>['ama bugün yeni bir maç var galiba değil mi m...</td>\n",
       "    </tr>\n",
       "    <tr>\n",
       "      <th>2</th>\n",
       "      <td>ben de</td>\n",
       "      <td>377765</td>\n",
       "      <td>['ben de seni', 'ben de öyle', 've ben de', 'e...</td>\n",
       "      <td>['ben de seni seviyorum', 'ben de öyle düşünmü...</td>\n",
       "      <td>['ben de seni gördüğüme sevindim', 'evet ben d...</td>\n",
       "      <td>['ben de en az senin kadar', 'ben de sana aynı...</td>\n",
       "      <td>['ben de sizi karı koca ilan ediyorum', 'ben d...</td>\n",
       "      <td>['siobhan intihar etti ben de onun yerine geçt...</td>\n",
       "      <td>['siz formları alırsınız ben de onları hazırla...</td>\n",
       "      <td>['ne dediğimi duymadın mı evlat ben de ona eve...</td>\n",
       "    </tr>\n",
       "    <tr>\n",
       "      <th>3</th>\n",
       "      <td>teşekkür ederim</td>\n",
       "      <td>370619</td>\n",
       "      <td>['çok teşekkür ederim', 'için teşekkür ederim'...</td>\n",
       "      <td>['için çok teşekkür ederim', 'geldiğiniz için ...</td>\n",
       "      <td>['her şey için teşekkür ederim', 'zaman ayırdı...</td>\n",
       "      <td>['her şey için çok teşekkür ederim', 'beni kab...</td>\n",
       "      <td>['olmama izin verdiğin için tekrar teşekkür ed...</td>\n",
       "      <td>['gibi olmama izin verdiğin için tekrar teşekk...</td>\n",
       "      <td>['kendim gibi olmama izin verdiğin için tekrar...</td>\n",
       "      <td>['önce parfüm mağazasından alınmış video kaydı...</td>\n",
       "    </tr>\n",
       "    <tr>\n",
       "      <th>4</th>\n",
       "      <td>ne oldu</td>\n",
       "      <td>322758</td>\n",
       "      <td>['sonra ne oldu', 'ne oldu sana', 'sana ne old...</td>\n",
       "      <td>['bil bakalım ne oldu', 'sana ne oldu böyle', ...</td>\n",
       "      <td>['az önce ne oldu öyle', 'sonra ne oldu biliyo...</td>\n",
       "      <td>['ne oldu bir sorun mu var', 'az önce ne oldu ...</td>\n",
       "      <td>['gelecek hakkındaki bilgileri reddetme konuşm...</td>\n",
       "      <td>['insanlık nereye gidiyoruz ve niçin soruların...</td>\n",
       "      <td>['ya insanlık nereye gidiyoruz ve niçin sorula...</td>\n",
       "      <td>['burnuna ne oldu gittes yoksa kapı yerine bac...</td>\n",
       "    </tr>\n",
       "    <tr>\n",
       "      <th>...</th>\n",
       "      <td>...</td>\n",
       "      <td>...</td>\n",
       "      <td>...</td>\n",
       "      <td>...</td>\n",
       "      <td>...</td>\n",
       "      <td>...</td>\n",
       "      <td>...</td>\n",
       "      <td>...</td>\n",
       "      <td>...</td>\n",
       "      <td>...</td>\n",
       "    </tr>\n",
       "    <tr>\n",
       "      <th>95</th>\n",
       "      <td>hadi gidelim</td>\n",
       "      <td>61646</td>\n",
       "      <td>['hadi gidelim buradan', 'tamam hadi gidelim',...</td>\n",
       "      <td>['hadi gidelim o zaman', 'hadi gidelim hadi gi...</td>\n",
       "      <td>['hayalimdeki iş buydu hadi gidelim', 'hadi gi...</td>\n",
       "      <td>['hadi gidelim korkunç şeylerin olduğu yere', ...</td>\n",
       "      <td>['siz de ateşi üzerinize çekin hadi gidelim', ...</td>\n",
       "      <td>['arada siz de ateşi üzerinize çekin hadi gide...</td>\n",
       "      <td>['bu arada siz de ateşi üzerinize çekin hadi g...</td>\n",
       "      <td>['hadi gidelim bebeğim bebeğim oh biz tek bir ...</td>\n",
       "    </tr>\n",
       "    <tr>\n",
       "      <th>96</th>\n",
       "      <td>ama bu</td>\n",
       "      <td>61607</td>\n",
       "      <td>['evet ama bu', 'ama bu sefer', 'ama bu çok', ...</td>\n",
       "      <td>['ama bu doğru değil', 'ama bu sadece bir', 'ö...</td>\n",
       "      <td>['ama bu uzun zaman önceydi', 'ama bu iyi bir ...</td>\n",
       "      <td>['bir sürü tüfek var ama bu', 'ama bu çok uzun...</td>\n",
       "      <td>['ama bu iyi bir şey değil mi', 'bir sürü tüfe...</td>\n",
       "      <td>['bir sürü tüfek var ama bu tüfek benim', 'söy...</td>\n",
       "      <td>['bunu söyleyip duruyorlar ama bu bizim için ö...</td>\n",
       "      <td>['sana yardım etmek isterim ama bu yüzden karı...</td>\n",
       "    </tr>\n",
       "    <tr>\n",
       "      <th>97</th>\n",
       "      <td>bir gün</td>\n",
       "      <td>61602</td>\n",
       "      <td>['güzel bir gün', 'bir gün daha', 'belki bir g...</td>\n",
       "      <td>['bir gün değil mi', 'çok güzel bir gün', 'ne ...</td>\n",
       "      <td>['güzel bir gün değil mi', 'ne kadar güzel bir...</td>\n",
       "      <td>['ne güzel bir gün değil mi', 'neşeli ruhu bir...</td>\n",
       "      <td>['neşeli ruhu bir gün yelken açtı ta', 'ruhu b...</td>\n",
       "      <td>['neşeli ruhu bir gün yelken açtı ta denizden'...</td>\n",
       "      <td>['bir gün yalan açığa çıkacak ve karanlığın iç...</td>\n",
       "      <td>['bir gün yalan açığa çıkacak ve karanlığın iç...</td>\n",
       "    </tr>\n",
       "    <tr>\n",
       "      <th>98</th>\n",
       "      <td>iyi misin</td>\n",
       "      <td>61541</td>\n",
       "      <td>['sen iyi misin', 'daha iyi misin', 'hey iyi m...</td>\n",
       "      <td>['hey sen iyi misin', 'şimdi daha iyi misin', ...</td>\n",
       "      <td>['hey hey sen iyi misin', 'gel buraya bebeğim ...</td>\n",
       "      <td>['ah iyi misin ahbap yapma bana', 'yerinde diy...</td>\n",
       "      <td>['de yerinde diye benden iyi misin yani', 'sab...</td>\n",
       "      <td>['bu sabah gerçekten tuhaf davranıyorsun sen i...</td>\n",
       "      <td>['kart ya da o tür oyunlarda gerçekten iyi mis...</td>\n",
       "      <td>[]</td>\n",
       "    </tr>\n",
       "    <tr>\n",
       "      <th>99</th>\n",
       "      <td>hepsi bu</td>\n",
       "      <td>60964</td>\n",
       "      <td>['hepsi bu kadar', 'hepsi bu mu', 'hepsi bu de...</td>\n",
       "      <td>['hepsi bu kadar mı', 'hepsi bu kadar değil', ...</td>\n",
       "      <td>['hepsi bu kadar da değil', 'hepsi bu kadar mı...</td>\n",
       "      <td>['sadece seni rahatlatmak istemiştim hepsi bu'...</td>\n",
       "      <td>['da söylediği gibi çok gerginsin hepsi bu', '...</td>\n",
       "      <td>['doktorun da söylediği gibi çok gerginsin hep...</td>\n",
       "      <td>['sadece bu kez seksle ilgili olduğunu düşündü...</td>\n",
       "      <td>['kalkış ve uçuş anında zamanı beraber geçiriy...</td>\n",
       "    </tr>\n",
       "  </tbody>\n",
       "</table>\n",
       "<p>100 rows × 10 columns</p>\n",
       "</div>"
      ],
      "text/plain": [
       "            twogram  frequency  \\\n",
       "0           bir şey     859944   \n",
       "1          değil mi     585879   \n",
       "2            ben de     377765   \n",
       "3   teşekkür ederim     370619   \n",
       "4           ne oldu     322758   \n",
       "..              ...        ...   \n",
       "95     hadi gidelim      61646   \n",
       "96           ama bu      61607   \n",
       "97          bir gün      61602   \n",
       "98        iyi misin      61541   \n",
       "99         hepsi bu      60964   \n",
       "\n",
       "                                            threegram  \\\n",
       "0   ['bir şey yok', 'bir şey var', 'başka bir şey'...   \n",
       "1   ['öyle değil mi', 'biliyorsun değil mi', 'güze...   \n",
       "2   ['ben de seni', 'ben de öyle', 've ben de', 'e...   \n",
       "3   ['çok teşekkür ederim', 'için teşekkür ederim'...   \n",
       "4   ['sonra ne oldu', 'ne oldu sana', 'sana ne old...   \n",
       "..                                                ...   \n",
       "95  ['hadi gidelim buradan', 'tamam hadi gidelim',...   \n",
       "96  ['evet ama bu', 'ama bu sefer', 'ama bu çok', ...   \n",
       "97  ['güzel bir gün', 'bir gün daha', 'belki bir g...   \n",
       "98  ['sen iyi misin', 'daha iyi misin', 'hey iyi m...   \n",
       "99  ['hepsi bu kadar', 'hepsi bu mu', 'hepsi bu de...   \n",
       "\n",
       "                                             fourgram  \\\n",
       "0   ['bir şey var mı', 'gereken bir şey var', 'baş...   \n",
       "1   ['de öyle değil mi', 'bir şey değil mi', 'çok ...   \n",
       "2   ['ben de seni seviyorum', 'ben de öyle düşünmü...   \n",
       "3   ['için çok teşekkür ederim', 'geldiğiniz için ...   \n",
       "4   ['bil bakalım ne oldu', 'sana ne oldu böyle', ...   \n",
       "..                                                ...   \n",
       "95  ['hadi gidelim o zaman', 'hadi gidelim hadi gi...   \n",
       "96  ['ama bu doğru değil', 'ama bu sadece bir', 'ö...   \n",
       "97  ['bir gün değil mi', 'çok güzel bir gün', 'ne ...   \n",
       "98  ['hey sen iyi misin', 'şimdi daha iyi misin', ...   \n",
       "99  ['hepsi bu kadar mı', 'hepsi bu kadar değil', ...   \n",
       "\n",
       "                                             fivegram  \\\n",
       "0   ['başka bir şey var mı', 'sana bir şey sorabil...   \n",
       "1   ['sence de öyle değil mi', 'sizce de öyle deği...   \n",
       "2   ['ben de seni gördüğüme sevindim', 'evet ben d...   \n",
       "3   ['her şey için teşekkür ederim', 'zaman ayırdı...   \n",
       "4   ['az önce ne oldu öyle', 'sonra ne oldu biliyo...   \n",
       "..                                                ...   \n",
       "95  ['hayalimdeki iş buydu hadi gidelim', 'hadi gi...   \n",
       "96  ['ama bu uzun zaman önceydi', 'ama bu iyi bir ...   \n",
       "97  ['güzel bir gün değil mi', 'ne kadar güzel bir...   \n",
       "98  ['hey hey sen iyi misin', 'gel buraya bebeğim ...   \n",
       "99  ['hepsi bu kadar da değil', 'hepsi bu kadar mı...   \n",
       "\n",
       "                                              sixgram  \\\n",
       "0   ['sana söylemem gereken bir şey var', 'söyleme...   \n",
       "1   ['bu iyi bir şey değil mi', 'ne demek istediği...   \n",
       "2   ['ben de en az senin kadar', 'ben de sana aynı...   \n",
       "3   ['her şey için çok teşekkür ederim', 'beni kab...   \n",
       "4   ['ne oldu bir sorun mu var', 'az önce ne oldu ...   \n",
       "..                                                ...   \n",
       "95  ['hadi gidelim korkunç şeylerin olduğu yere', ...   \n",
       "96  ['bir sürü tüfek var ama bu', 'ama bu çok uzun...   \n",
       "97  ['ne güzel bir gün değil mi', 'neşeli ruhu bir...   \n",
       "98  ['ah iyi misin ahbap yapma bana', 'yerinde diy...   \n",
       "99  ['sadece seni rahatlatmak istemiştim hepsi bu'...   \n",
       "\n",
       "                                            sevengram  \\\n",
       "0   ['bana söylemek istediğin bir şey var mı', 'se...   \n",
       "1   ['o kadar da kötü değildi değil mi', 'o kadar ...   \n",
       "2   ['ben de sizi karı koca ilan ediyorum', 'ben d...   \n",
       "3   ['olmama izin verdiğin için tekrar teşekkür ed...   \n",
       "4   ['gelecek hakkındaki bilgileri reddetme konuşm...   \n",
       "..                                                ...   \n",
       "95  ['siz de ateşi üzerinize çekin hadi gidelim', ...   \n",
       "96  ['ama bu iyi bir şey değil mi', 'bir sürü tüfe...   \n",
       "97  ['neşeli ruhu bir gün yelken açtı ta', 'ruhu b...   \n",
       "98  ['de yerinde diye benden iyi misin yani', 'sab...   \n",
       "99  ['da söylediği gibi çok gerginsin hepsi bu', '...   \n",
       "\n",
       "                                            eightgram  \\\n",
       "0   ['sizin için yapabileceğim başka bir şey var m...   \n",
       "1   ['bir kadının şarkı söylemesi oldukça şaşırtıc...   \n",
       "2   ['siobhan intihar etti ben de onun yerine geçt...   \n",
       "3   ['gibi olmama izin verdiğin için tekrar teşekk...   \n",
       "4   ['insanlık nereye gidiyoruz ve niçin soruların...   \n",
       "..                                                ...   \n",
       "95  ['arada siz de ateşi üzerinize çekin hadi gide...   \n",
       "96  ['bir sürü tüfek var ama bu tüfek benim', 'söy...   \n",
       "97  ['neşeli ruhu bir gün yelken açtı ta denizden'...   \n",
       "98  ['bu sabah gerçekten tuhaf davranıyorsun sen i...   \n",
       "99  ['doktorun da söylediği gibi çok gerginsin hep...   \n",
       "\n",
       "                                             ninegram  \\\n",
       "0   ['ve eğer o arkadaşı bulursa onu asla bırakmay...   \n",
       "1   ['evimde bir kadının şarkı söylemesi oldukça ş...   \n",
       "2   ['siz formları alırsınız ben de onları hazırla...   \n",
       "3   ['kendim gibi olmama izin verdiğin için tekrar...   \n",
       "4   ['ya insanlık nereye gidiyoruz ve niçin sorula...   \n",
       "..                                                ...   \n",
       "95  ['bu arada siz de ateşi üzerinize çekin hadi g...   \n",
       "96  ['bunu söyleyip duruyorlar ama bu bizim için ö...   \n",
       "97  ['bir gün yalan açığa çıkacak ve karanlığın iç...   \n",
       "98  ['kart ya da o tür oyunlarda gerçekten iyi mis...   \n",
       "99  ['sadece bu kez seksle ilgili olduğunu düşündü...   \n",
       "\n",
       "                                              tengram  \n",
       "0   ['bana sadece içinde şeker olmayan bir şey ver...  \n",
       "1   ['ama bugün yeni bir maç var galiba değil mi m...  \n",
       "2   ['ne dediğimi duymadın mı evlat ben de ona eve...  \n",
       "3   ['önce parfüm mağazasından alınmış video kaydı...  \n",
       "4   ['burnuna ne oldu gittes yoksa kapı yerine bac...  \n",
       "..                                                ...  \n",
       "95  ['hadi gidelim bebeğim bebeğim oh biz tek bir ...  \n",
       "96  ['sana yardım etmek isterim ama bu yüzden karı...  \n",
       "97  ['bir gün yalan açığa çıkacak ve karanlığın iç...  \n",
       "98                                                 []  \n",
       "99  ['kalkış ve uçuş anında zamanı beraber geçiriy...  \n",
       "\n",
       "[100 rows x 10 columns]"
      ]
     },
     "execution_count": 12,
     "metadata": {},
     "output_type": "execute_result"
    }
   ],
   "source": [
    "#df_twogram = pd.read_excel(f\"{parent_folder_path}/{lang_folder.capitalize()}_Twogram_Text_Selection_Result.xlsx\")\n",
    "df_twogram = pd.read_csv(f\"{parent_folder_path}/{lang_folder.capitalize()}_Twogram_Text_Selection_Result.csv\")\n",
    "df_twogram = df_twogram.fillna(\"[]\")\n",
    "df_twogram = df_twogram.iloc[0:100,]\n",
    "df_twogram"
   ]
  },
  {
   "cell_type": "code",
   "execution_count": 13,
   "metadata": {},
   "outputs": [
    {
     "data": {
      "text/html": [
       "<div>\n",
       "<style scoped>\n",
       "    .dataframe tbody tr th:only-of-type {\n",
       "        vertical-align: middle;\n",
       "    }\n",
       "\n",
       "    .dataframe tbody tr th {\n",
       "        vertical-align: top;\n",
       "    }\n",
       "\n",
       "    .dataframe thead th {\n",
       "        text-align: right;\n",
       "    }\n",
       "</style>\n",
       "<table border=\"1\" class=\"dataframe\">\n",
       "  <thead>\n",
       "    <tr style=\"text-align: right;\">\n",
       "      <th></th>\n",
       "      <th>threegram</th>\n",
       "      <th>frequency</th>\n",
       "      <th>fourgram</th>\n",
       "      <th>fivegram</th>\n",
       "      <th>sixgram</th>\n",
       "      <th>sevengram</th>\n",
       "      <th>eightgram</th>\n",
       "      <th>ninegram</th>\n",
       "      <th>tengram</th>\n",
       "    </tr>\n",
       "  </thead>\n",
       "  <tbody>\n",
       "    <tr>\n",
       "      <th>0</th>\n",
       "      <td>bir şey yok</td>\n",
       "      <td>113165</td>\n",
       "      <td>['diye bir şey yok', 'başka bir şey yok', 'bir...</td>\n",
       "      <td>['biz diye bir şey yok', 'başka bir şey yok mu...</td>\n",
       "      <td>['bir şey yok bir şey yok', 'yok bir şey yok b...</td>\n",
       "      <td>['söylemek istediğin başka bir şey yok mu', 'b...</td>\n",
       "      <td>['birbirimiz olmadan ikimizin de yapacağı bir ...</td>\n",
       "      <td>['ölmeden önce de aşıktım ve yapabileceğim bir...</td>\n",
       "      <td>['o ölmeden önce de aşıktım ve yapabileceğim b...</td>\n",
       "    </tr>\n",
       "    <tr>\n",
       "      <th>1</th>\n",
       "      <td>bir şey var</td>\n",
       "      <td>110455</td>\n",
       "      <td>['bir şey var mı', 'gereken bir şey var', 'baş...</td>\n",
       "      <td>['başka bir şey var mı', 'yapabileceğim bir şe...</td>\n",
       "      <td>['sana söylemem gereken bir şey var', 'söyleme...</td>\n",
       "      <td>['bana söylemek istediğin bir şey var mı', 'se...</td>\n",
       "      <td>['sizin için yapabileceğim başka bir şey var m...</td>\n",
       "      <td>['ev sahibi babamız için bende özel bir şey va...</td>\n",
       "      <td>['kaosun içinde düzen için mücadele eden tek b...</td>\n",
       "    </tr>\n",
       "    <tr>\n",
       "      <th>2</th>\n",
       "      <td>bu da ne</td>\n",
       "      <td>89463</td>\n",
       "      <td>['bu da ne demek', 'bu da ne böyle', 'bu da ne...</td>\n",
       "      <td>['bu da ne demek oluyor', 'bu da ne demek şimd...</td>\n",
       "      <td>['bu da ne demek oluyor şimdi', 'bu da ne deme...</td>\n",
       "      <td>['bu da ne biçim bir soru böyle', 'ama bu da n...</td>\n",
       "      <td>['alınmayın ama bu da ne demek oluyor şimdi', ...</td>\n",
       "      <td>[]</td>\n",
       "      <td>['bu da ne olursa olsun oynamaya karar verdiği...</td>\n",
       "    </tr>\n",
       "    <tr>\n",
       "      <th>3</th>\n",
       "      <td>her şey yolunda</td>\n",
       "      <td>75968</td>\n",
       "      <td>['her şey yolunda mı', 'her şey yolunda gidece...</td>\n",
       "      <td>['orada her şey yolunda mı', 'burada her şey y...</td>\n",
       "      <td>['her şey yolunda her şey yolunda', 'merak etm...</td>\n",
       "      <td>['helikopterler bizi koruyacak her şey yolunda...</td>\n",
       "      <td>['her şey yolunda giderse çok yakında bir ev',...</td>\n",
       "      <td>['her şey yolunda giderse çok yakında bir ev a...</td>\n",
       "      <td>['dostlar acil bir durum yaşadık ama şimdi her...</td>\n",
       "    </tr>\n",
       "    <tr>\n",
       "      <th>4</th>\n",
       "      <td>başka bir şey</td>\n",
       "      <td>75193</td>\n",
       "      <td>['başka bir şey var', 'başka bir şey yok', 'ba...</td>\n",
       "      <td>['başka bir şey var mı', 'başka bir şey daha v...</td>\n",
       "      <td>['istediğin başka bir şey var mı', 'yapabilece...</td>\n",
       "      <td>['için yapabileceğim başka bir şey var mı', 'b...</td>\n",
       "      <td>['sizin için yapabileceğim başka bir şey var m...</td>\n",
       "      <td>['kılıcını ve onun kılıcını düşün başka bir şe...</td>\n",
       "      <td>['sabırsızlıkla beklediğim zevkle yapacağım ba...</td>\n",
       "    </tr>\n",
       "    <tr>\n",
       "      <th>...</th>\n",
       "      <td>...</td>\n",
       "      <td>...</td>\n",
       "      <td>...</td>\n",
       "      <td>...</td>\n",
       "      <td>...</td>\n",
       "      <td>...</td>\n",
       "      <td>...</td>\n",
       "      <td>...</td>\n",
       "      <td>...</td>\n",
       "    </tr>\n",
       "    <tr>\n",
       "      <th>95</th>\n",
       "      <td>çok büyük bir</td>\n",
       "      <td>16228</td>\n",
       "      <td>['bu çok büyük bir', 'çok büyük bir hata', 'iç...</td>\n",
       "      <td>['çok büyük bir hata yapıyorsun', 'çok büyük b...</td>\n",
       "      <td>['bu benim için çok büyük bir', 'bir kişi için...</td>\n",
       "      <td>['bir kişi için çok büyük bir güç', 'önümüzdek...</td>\n",
       "      <td>['bu çok büyük bir saçmalık buraya bunun için'...</td>\n",
       "      <td>['çok büyük bir saçmalık buraya bunun için gel...</td>\n",
       "      <td>['bu çok büyük bir saçmalık buraya bunun için ...</td>\n",
       "    </tr>\n",
       "    <tr>\n",
       "      <th>96</th>\n",
       "      <td>çok daha iyi</td>\n",
       "      <td>16197</td>\n",
       "      <td>['çok daha iyi bir', 'çok daha iyi hissediyoru...</td>\n",
       "      <td>['kendimi çok daha iyi hissediyorum', 'şimdi ç...</td>\n",
       "      <td>['şimdi kendimi çok daha iyi hissediyorum', 'd...</td>\n",
       "      <td>['oldukları yerden durumu bizden çok daha iyi'...</td>\n",
       "      <td>['oldukları yerden durumu bizden çok daha iyi ...</td>\n",
       "      <td>['ve umduğumdan da çok daha iyi bir jedi oldun...</td>\n",
       "      <td>['sanırım ben senden çok daha iyi bir özel aja...</td>\n",
       "    </tr>\n",
       "    <tr>\n",
       "      <th>97</th>\n",
       "      <td>peki ya sen</td>\n",
       "      <td>16151</td>\n",
       "      <td>['peki ya sen ne', 'peki ya sen ve', 'peki ya ...</td>\n",
       "      <td>['peki ya sen ne yapıyordun', 'peki ya sen ne ...</td>\n",
       "      <td>['uğruna ölmeye hazırım peki ya sen', 'peki ya...</td>\n",
       "      <td>['ülkem uğruna ölmeye hazırım peki ya sen', 'p...</td>\n",
       "      <td>[]</td>\n",
       "      <td>[]</td>\n",
       "      <td>[]</td>\n",
       "    </tr>\n",
       "    <tr>\n",
       "      <th>98</th>\n",
       "      <td>iyi bir şey</td>\n",
       "      <td>16038</td>\n",
       "      <td>['bu iyi bir şey', 'iyi bir şey değil', 'daha ...</td>\n",
       "      <td>['bu iyi bir şey değil', 'bu iyi bir şey mi', ...</td>\n",
       "      <td>['bu iyi bir şey değil mi', 'ama bu iyi bir şe...</td>\n",
       "      <td>['ama bu iyi bir şey değil mi', 'iyi bir şey m...</td>\n",
       "      <td>['iyi bir şey mi kötü bir şey mi', 'bu iyi bir...</td>\n",
       "      <td>['bu iyi bir şey mi kötü bir şey mi', 'çünkü e...</td>\n",
       "      <td>['sanırım ikimiz için de yalnız kalmak iyi bir...</td>\n",
       "    </tr>\n",
       "    <tr>\n",
       "      <th>99</th>\n",
       "      <td>bu ne demek</td>\n",
       "      <td>16028</td>\n",
       "      <td>['bu ne demek oluyor', 'bu ne demek şimdi', 'b...</td>\n",
       "      <td>['bu ne demek biliyor musun', 'bu ne demek olu...</td>\n",
       "      <td>['bu ne demek biliyorsun değil mi', 'bu ne dem...</td>\n",
       "      <td>['bu ne demek şimdi neye karar verdin', 'oraya...</td>\n",
       "      <td>['dilerim oraya kabul edilmiş olması bu ne dem...</td>\n",
       "      <td>['özür dilerim oraya kabul edilmiş olması bu n...</td>\n",
       "      <td>['gelirken başkanı meksika sınırında gördüm bu...</td>\n",
       "    </tr>\n",
       "  </tbody>\n",
       "</table>\n",
       "<p>100 rows × 9 columns</p>\n",
       "</div>"
      ],
      "text/plain": [
       "          threegram  frequency  \\\n",
       "0       bir şey yok     113165   \n",
       "1       bir şey var     110455   \n",
       "2          bu da ne      89463   \n",
       "3   her şey yolunda      75968   \n",
       "4     başka bir şey      75193   \n",
       "..              ...        ...   \n",
       "95    çok büyük bir      16228   \n",
       "96     çok daha iyi      16197   \n",
       "97      peki ya sen      16151   \n",
       "98      iyi bir şey      16038   \n",
       "99      bu ne demek      16028   \n",
       "\n",
       "                                             fourgram  \\\n",
       "0   ['diye bir şey yok', 'başka bir şey yok', 'bir...   \n",
       "1   ['bir şey var mı', 'gereken bir şey var', 'baş...   \n",
       "2   ['bu da ne demek', 'bu da ne böyle', 'bu da ne...   \n",
       "3   ['her şey yolunda mı', 'her şey yolunda gidece...   \n",
       "4   ['başka bir şey var', 'başka bir şey yok', 'ba...   \n",
       "..                                                ...   \n",
       "95  ['bu çok büyük bir', 'çok büyük bir hata', 'iç...   \n",
       "96  ['çok daha iyi bir', 'çok daha iyi hissediyoru...   \n",
       "97  ['peki ya sen ne', 'peki ya sen ve', 'peki ya ...   \n",
       "98  ['bu iyi bir şey', 'iyi bir şey değil', 'daha ...   \n",
       "99  ['bu ne demek oluyor', 'bu ne demek şimdi', 'b...   \n",
       "\n",
       "                                             fivegram  \\\n",
       "0   ['biz diye bir şey yok', 'başka bir şey yok mu...   \n",
       "1   ['başka bir şey var mı', 'yapabileceğim bir şe...   \n",
       "2   ['bu da ne demek oluyor', 'bu da ne demek şimd...   \n",
       "3   ['orada her şey yolunda mı', 'burada her şey y...   \n",
       "4   ['başka bir şey var mı', 'başka bir şey daha v...   \n",
       "..                                                ...   \n",
       "95  ['çok büyük bir hata yapıyorsun', 'çok büyük b...   \n",
       "96  ['kendimi çok daha iyi hissediyorum', 'şimdi ç...   \n",
       "97  ['peki ya sen ne yapıyordun', 'peki ya sen ne ...   \n",
       "98  ['bu iyi bir şey değil', 'bu iyi bir şey mi', ...   \n",
       "99  ['bu ne demek biliyor musun', 'bu ne demek olu...   \n",
       "\n",
       "                                              sixgram  \\\n",
       "0   ['bir şey yok bir şey yok', 'yok bir şey yok b...   \n",
       "1   ['sana söylemem gereken bir şey var', 'söyleme...   \n",
       "2   ['bu da ne demek oluyor şimdi', 'bu da ne deme...   \n",
       "3   ['her şey yolunda her şey yolunda', 'merak etm...   \n",
       "4   ['istediğin başka bir şey var mı', 'yapabilece...   \n",
       "..                                                ...   \n",
       "95  ['bu benim için çok büyük bir', 'bir kişi için...   \n",
       "96  ['şimdi kendimi çok daha iyi hissediyorum', 'd...   \n",
       "97  ['uğruna ölmeye hazırım peki ya sen', 'peki ya...   \n",
       "98  ['bu iyi bir şey değil mi', 'ama bu iyi bir şe...   \n",
       "99  ['bu ne demek biliyorsun değil mi', 'bu ne dem...   \n",
       "\n",
       "                                            sevengram  \\\n",
       "0   ['söylemek istediğin başka bir şey yok mu', 'b...   \n",
       "1   ['bana söylemek istediğin bir şey var mı', 'se...   \n",
       "2   ['bu da ne biçim bir soru böyle', 'ama bu da n...   \n",
       "3   ['helikopterler bizi koruyacak her şey yolunda...   \n",
       "4   ['için yapabileceğim başka bir şey var mı', 'b...   \n",
       "..                                                ...   \n",
       "95  ['bir kişi için çok büyük bir güç', 'önümüzdek...   \n",
       "96  ['oldukları yerden durumu bizden çok daha iyi'...   \n",
       "97  ['ülkem uğruna ölmeye hazırım peki ya sen', 'p...   \n",
       "98  ['ama bu iyi bir şey değil mi', 'iyi bir şey m...   \n",
       "99  ['bu ne demek şimdi neye karar verdin', 'oraya...   \n",
       "\n",
       "                                            eightgram  \\\n",
       "0   ['birbirimiz olmadan ikimizin de yapacağı bir ...   \n",
       "1   ['sizin için yapabileceğim başka bir şey var m...   \n",
       "2   ['alınmayın ama bu da ne demek oluyor şimdi', ...   \n",
       "3   ['her şey yolunda giderse çok yakında bir ev',...   \n",
       "4   ['sizin için yapabileceğim başka bir şey var m...   \n",
       "..                                                ...   \n",
       "95  ['bu çok büyük bir saçmalık buraya bunun için'...   \n",
       "96  ['oldukları yerden durumu bizden çok daha iyi ...   \n",
       "97                                                 []   \n",
       "98  ['iyi bir şey mi kötü bir şey mi', 'bu iyi bir...   \n",
       "99  ['dilerim oraya kabul edilmiş olması bu ne dem...   \n",
       "\n",
       "                                             ninegram  \\\n",
       "0   ['ölmeden önce de aşıktım ve yapabileceğim bir...   \n",
       "1   ['ev sahibi babamız için bende özel bir şey va...   \n",
       "2                                                  []   \n",
       "3   ['her şey yolunda giderse çok yakında bir ev a...   \n",
       "4   ['kılıcını ve onun kılıcını düşün başka bir şe...   \n",
       "..                                                ...   \n",
       "95  ['çok büyük bir saçmalık buraya bunun için gel...   \n",
       "96  ['ve umduğumdan da çok daha iyi bir jedi oldun...   \n",
       "97                                                 []   \n",
       "98  ['bu iyi bir şey mi kötü bir şey mi', 'çünkü e...   \n",
       "99  ['özür dilerim oraya kabul edilmiş olması bu n...   \n",
       "\n",
       "                                              tengram  \n",
       "0   ['o ölmeden önce de aşıktım ve yapabileceğim b...  \n",
       "1   ['kaosun içinde düzen için mücadele eden tek b...  \n",
       "2   ['bu da ne olursa olsun oynamaya karar verdiği...  \n",
       "3   ['dostlar acil bir durum yaşadık ama şimdi her...  \n",
       "4   ['sabırsızlıkla beklediğim zevkle yapacağım ba...  \n",
       "..                                                ...  \n",
       "95  ['bu çok büyük bir saçmalık buraya bunun için ...  \n",
       "96  ['sanırım ben senden çok daha iyi bir özel aja...  \n",
       "97                                                 []  \n",
       "98  ['sanırım ikimiz için de yalnız kalmak iyi bir...  \n",
       "99  ['gelirken başkanı meksika sınırında gördüm bu...  \n",
       "\n",
       "[100 rows x 9 columns]"
      ]
     },
     "execution_count": 13,
     "metadata": {},
     "output_type": "execute_result"
    }
   ],
   "source": [
    "#df_threegram = pd.read_excel(f\"{parent_folder_path}/{lang_folder.capitalize()}_Threegram_Text_Selection_Result.xlsx\")\n",
    "df_threegram = pd.read_csv(f\"{parent_folder_path}/{lang_folder.capitalize()}_Threegram_Text_Selection_Result.csv\")\n",
    "df_threegram = df_threegram.fillna(\"[]\")\n",
    "df_threegram = df_threegram.iloc[0:100,]\n",
    "df_threegram"
   ]
  },
  {
   "cell_type": "code",
   "execution_count": null,
   "metadata": {},
   "outputs": [],
   "source": [
    "#df_fourgram = pd.read_excel(f\"{parent_folder_path}/{lang_folder.capitalize()}_Fourgram_Text_Selection_Result.xlsx\")\n",
    "df_fourgram = pd.read_csv(f\"{parent_folder_path}/{lang_folder.capitalize()}_Fourgram_Text_Selection_Result.csv\")\n",
    "df_fourgram = df_fourgram.fillna(\"[]\")\n",
    "df_fourgram = df_fourgram.iloc[0:100,]\n",
    "df_fourgram"
   ]
  },
  {
   "cell_type": "code",
   "execution_count": null,
   "metadata": {},
   "outputs": [],
   "source": [
    "df_fivegram = pd.read_excel(f\"{parent_folder_path}/{lang_folder.capitalize()}_Fivegram_Text_Selection_Result.xlsx\")\n",
    "df_fivegram = df_fivegram.fillna(\"[]\")\n",
    "df_fivegram = df_fivegram.iloc[0:100,]\n",
    "df_fivegram"
   ]
  },
  {
   "cell_type": "code",
   "execution_count": null,
   "metadata": {},
   "outputs": [],
   "source": [
    "df_sixgram = pd.read_excel(f\"{parent_folder_path}/{lang_folder.capitalize()}_Sixgram_Text_Selection_Result.xlsx\")\n",
    "df_sixgram = df_sixgram.fillna(\"[]\")\n",
    "df_sixgram = df_sixgram.iloc[0:100,]\n",
    "df_sixgram"
   ]
  },
  {
   "cell_type": "code",
   "execution_count": null,
   "metadata": {},
   "outputs": [],
   "source": [
    "df_sevengram = pd.read_excel(f\"{parent_folder_path}/{lang_folder.capitalize()}_Sevengram_Text_Selection_Result.xlsx\")\n",
    "df_sevengram = df_sevengram.fillna(\"[]\")\n",
    "df_sevengram = df_sevengram.iloc[0:100,]\n",
    "df_sevengram"
   ]
  },
  {
   "cell_type": "code",
   "execution_count": null,
   "metadata": {},
   "outputs": [],
   "source": [
    "df_eightgram = pd.read_excel(f\"{parent_folder_path}/{lang_folder.capitalize()}_Eightgram_Text_Selection_Result.xlsx\")\n",
    "df_eightgram = df_eightgram.fillna(\"[]\")\n",
    "df_eightgram = df_eightgram.iloc[0:100,]\n",
    "df_eightgram"
   ]
  },
  {
   "cell_type": "code",
   "execution_count": null,
   "metadata": {},
   "outputs": [],
   "source": [
    "df_ninegram = pd.read_excel(f\"{parent_folder_path}/{lang_folder.capitalize()}_Ninegram_Text_Selection_Result.xlsx\")\n",
    "df_ninegram = df_ninegram.fillna(\"[]\")\n",
    "df_ninegram = df_ninegram.iloc[0:100,]\n",
    "df_ninegram"
   ]
  },
  {
   "cell_type": "code",
   "execution_count": null,
   "metadata": {},
   "outputs": [],
   "source": []
  },
  {
   "cell_type": "markdown",
   "metadata": {},
   "source": [
    "#### Sending Data To Firestore"
   ]
  },
  {
   "cell_type": "markdown",
   "metadata": {},
   "source": [
    "##### Photo Data"
   ]
  },
  {
   "cell_type": "code",
   "execution_count": null,
   "metadata": {},
   "outputs": [],
   "source": []
  },
  {
   "cell_type": "code",
   "execution_count": null,
   "metadata": {},
   "outputs": [],
   "source": [
    "#fire_db.collection(\"language-data\").document(\"languages\").set(language_data)"
   ]
  },
  {
   "cell_type": "markdown",
   "metadata": {},
   "source": [
    "##### Text Data"
   ]
  },
  {
   "cell_type": "markdown",
   "metadata": {},
   "source": [
    "##### Word"
   ]
  },
  {
   "cell_type": "code",
   "execution_count": null,
   "metadata": {},
   "outputs": [],
   "source": [
    "df_word[\"twogram\"] = df_word[\"twogram\"].apply(eval)\n",
    "df_word[\"threegram\"] = df_word[\"threegram\"].apply(eval)\n",
    "df_word[\"fourgram\"] = df_word[\"fourgram\"].apply(eval)\n",
    "df_word[\"fivegram\"] = df_word[\"fivegram\"].apply(eval)\n",
    "df_word[\"sixgram\"] = df_word[\"sixgram\"].apply(eval)\n",
    "df_word[\"sevengram\"] = df_word[\"sevengram\"].apply(eval)\n",
    "df_word[\"eightgram\"] = df_word[\"eightgram\"].apply(eval)\n",
    "df_word[\"ninegram\"] = df_word[\"ninegram\"].apply(eval)\n",
    "df_word[\"tengram\"] = df_word[\"tengram\"].apply(eval)"
   ]
  },
  {
   "cell_type": "code",
   "execution_count": null,
   "metadata": {},
   "outputs": [],
   "source": [
    "word = df_word[\"word\"].to_list()\n",
    "frequency_list = df_word[\"frequency\"].to_list()\n",
    "twogram_list = df_word[\"twogram\"].to_list()\n",
    "threegram_list = df_word[\"threegram\"].to_list()\n",
    "fourgram_list = df_word[\"fourgram\"].to_list()\n",
    "fivegram_list = df_word[\"fivegram\"].to_list()\n",
    "sixgram_list = df_word[\"sixgram\"].to_list()\n",
    "sevengram_list = df_word[\"sevengram\"].to_list()\n",
    "eightgram_list = df_word[\"eightgram\"].to_list()\n",
    "ninegram_list = df_word[\"ninegram\"].to_list()\n",
    "tengram_list = df_word[\"tengram\"].to_list()"
   ]
  },
  {
   "cell_type": "code",
   "execution_count": null,
   "metadata": {},
   "outputs": [],
   "source": [
    "firestore_word_data = zip(word,frequency_list,twogram_list,threegram_list,fourgram_list,fivegram_list,sixgram_list,sevengram_list,eightgram_list,ninegram_list,tengram_list)"
   ]
  },
  {
   "cell_type": "code",
   "execution_count": null,
   "metadata": {},
   "outputs": [],
   "source": [
    "#word_data_list = []\n",
    "#for word,twogram_list,threegram_list,fourgram_list,fivegram_list,sixgram_list,sevengram_list,eightgram_list,ninegram_list,tengram_list in firestore_word_data:\n",
    "#    data = {f\"{word}\":{\"ninegram\":ninegram_list,\"tengram\":tengram_list}}\n",
    "#    \n",
    "#    word_data_list.append({f\"{word}\":data})"
   ]
  },
  {
   "cell_type": "code",
   "execution_count": null,
   "metadata": {},
   "outputs": [],
   "source": [
    "word_dict = {}\n",
    "for word,frequency_list,twogram_list,threegram_list,fourgram_list,fivegram_list,sixgram_list,sevengram_list,eightgram_list,ninegram_list,tengram_list in firestore_word_data:\n",
    "    dict_var = {f\"{word}\":{\"photo\":\"\",\"frequency\":frequency_list,\"twogram\":twogram_list,\"threegram\":threegram_list,\"fourgram\":fourgram_list,\"fivegram\":fivegram_list,\"sixgram\":\n",
    "    sixgram_list,\"sevengram\":sevengram_list,\"eightgram\":eightgram_list,\"ninegram\":ninegram_list,\"tengram\":tengram_list,\"other\":[]}}\n",
    "    word_dict.update(dict_var)     "
   ]
  },
  {
   "cell_type": "code",
   "execution_count": null,
   "metadata": {},
   "outputs": [],
   "source": [
    "fire_db.collection(\"text_selection\").document(f\"{lang_folder.capitalize()}\").collection(\"word_data\").document(f\"details\").set(word_dict)"
   ]
  },
  {
   "cell_type": "code",
   "execution_count": null,
   "metadata": {},
   "outputs": [],
   "source": [
    "#fire_db.collection(\"text_selection\").document(f\"{lang_folder.capitalize()}\").collection(\"word_data\").add(word_dict)"
   ]
  },
  {
   "cell_type": "code",
   "execution_count": null,
   "metadata": {},
   "outputs": [],
   "source": []
  },
  {
   "cell_type": "markdown",
   "metadata": {},
   "source": [
    "##### Update"
   ]
  },
  {
   "cell_type": "code",
   "execution_count": null,
   "metadata": {},
   "outputs": [],
   "source": [
    "update_word = \"hoşuma\""
   ]
  },
  {
   "cell_type": "code",
   "execution_count": null,
   "metadata": {},
   "outputs": [],
   "source": [
    "dict_update = {f\"{update_word}.photo\":\"www.store4.com\",f\"{update_word}.other\":[\"gitti\",{\"zıt\":\"gelmek\"}]}"
   ]
  },
  {
   "cell_type": "code",
   "execution_count": null,
   "metadata": {},
   "outputs": [],
   "source": [
    "fire_db.collection(\"text_selection\").document(f\"{lang_folder.capitalize()}\").collection(\"word_data\").document(f\"details\").update(dict_update)"
   ]
  },
  {
   "cell_type": "code",
   "execution_count": null,
   "metadata": {},
   "outputs": [],
   "source": []
  },
  {
   "cell_type": "code",
   "execution_count": null,
   "metadata": {},
   "outputs": [],
   "source": []
  },
  {
   "cell_type": "markdown",
   "metadata": {},
   "source": [
    "##### Twogram"
   ]
  },
  {
   "cell_type": "code",
   "execution_count": null,
   "metadata": {},
   "outputs": [],
   "source": [
    "df_twogram"
   ]
  },
  {
   "cell_type": "code",
   "execution_count": null,
   "metadata": {},
   "outputs": [],
   "source": [
    "df_twogram[\"threegram\"] = df_twogram[\"threegram\"].apply(eval)\n",
    "df_twogram[\"fourgram\"] = df_twogram[\"fourgram\"].apply(eval)\n",
    "df_twogram[\"fivegram\"] = df_twogram[\"fivegram\"].apply(eval)\n",
    "df_twogram[\"sixgram\"] = df_twogram[\"sixgram\"].apply(eval)\n",
    "df_twogram[\"sevengram\"] = df_twogram[\"sevengram\"].apply(eval)\n",
    "df_twogram[\"eightgram\"] = df_twogram[\"eightgram\"].apply(eval)\n",
    "df_twogram[\"ninegram\"] = df_twogram[\"ninegram\"].apply(eval)\n",
    "df_twogram[\"tengram\"] = df_twogram[\"tengram\"].apply(eval)"
   ]
  },
  {
   "cell_type": "code",
   "execution_count": null,
   "metadata": {},
   "outputs": [],
   "source": [
    "#twogram = df_twogram[\"twogram\"].values.tolist()"
   ]
  },
  {
   "cell_type": "code",
   "execution_count": null,
   "metadata": {},
   "outputs": [],
   "source": [
    "twogram = df_twogram[\"twogram\"].to_list()\n",
    "frequency_list = df_twogram[\"frequency\"].to_list()\n",
    "threegram_list = df_twogram[\"threegram\"].to_list()\n",
    "fourgram_list = df_twogram[\"fourgram\"].to_list()\n",
    "fivegram_list = df_twogram[\"fivegram\"].to_list()\n",
    "sixgram_list = df_twogram[\"sixgram\"].to_list()\n",
    "sevengram_list = df_twogram[\"sevengram\"].to_list()\n",
    "eightgram_list = df_twogram[\"eightgram\"].to_list()\n",
    "ninegram_list = df_twogram[\"ninegram\"].to_list()\n",
    "tengram_list = df_twogram[\"tengram\"].to_list()"
   ]
  },
  {
   "cell_type": "code",
   "execution_count": null,
   "metadata": {},
   "outputs": [],
   "source": [
    "firestore_twogram_data = zip(twogram,frequency_list,threegram_list,fourgram_list,fivegram_list,sixgram_list,sevengram_list,eightgram_list,ninegram_list,tengram_list)"
   ]
  },
  {
   "cell_type": "code",
   "execution_count": null,
   "metadata": {},
   "outputs": [],
   "source": [
    "twogram_dict = {}\n",
    "for twogram,frequency_list,threegram_list,fourgram_list,fivegram_list,sixgram_list,sevengram_list,eightgram_list,ninegram_list,tengram_list in firestore_twogram_data:\n",
    "    dict_var = {f\"{twogram}\":{\"photo\":\"\",\"frequency\":frequency_list,\"threegram\":threegram_list,\"fourgram\":fourgram_list,\"fivegram\":fivegram_list,\"sixgram\":\n",
    "    sixgram_list,\"sevengram\":sevengram_list,\"eightgram\":eightgram_list,\"ninegram\":ninegram_list,\"tengram\":tengram_list,\"other\":[]}}\n",
    "    twogram_dict.update(dict_var)    "
   ]
  },
  {
   "cell_type": "code",
   "execution_count": null,
   "metadata": {},
   "outputs": [],
   "source": [
    "fire_db.collection(\"text_selection\").document(f\"{lang_folder.capitalize()}\").collection(\"twogram_data\").document(f\"details\").set(twogram_dict)"
   ]
  },
  {
   "cell_type": "code",
   "execution_count": null,
   "metadata": {},
   "outputs": [],
   "source": []
  },
  {
   "cell_type": "markdown",
   "metadata": {},
   "source": [
    "##### Threegram"
   ]
  },
  {
   "cell_type": "code",
   "execution_count": null,
   "metadata": {},
   "outputs": [],
   "source": [
    "df_threegram"
   ]
  },
  {
   "cell_type": "code",
   "execution_count": null,
   "metadata": {},
   "outputs": [],
   "source": [
    "df_threegram[\"fourgram\"] = df_threegram[\"fourgram\"].apply(eval)\n",
    "df_threegram[\"fivegram\"] = df_threegram[\"fivegram\"].apply(eval)\n",
    "df_threegram[\"sixgram\"] = df_threegram[\"sixgram\"].apply(eval)\n",
    "df_threegram[\"sevengram\"] = df_threegram[\"sevengram\"].apply(eval)\n",
    "df_threegram[\"eightgram\"] = df_threegram[\"eightgram\"].apply(eval)\n",
    "df_threegram[\"ninegram\"] = df_threegram[\"ninegram\"].apply(eval)\n",
    "df_threegram[\"tengram\"] = df_threegram[\"tengram\"].apply(eval)"
   ]
  },
  {
   "cell_type": "code",
   "execution_count": null,
   "metadata": {},
   "outputs": [],
   "source": [
    "threegram = df_threegram[\"threegram\"].to_list()\n",
    "frequency_list = df_threegram[\"frequency\"].to_list()\n",
    "fourgram_list = df_threegram[\"fourgram\"].to_list()\n",
    "fivegram_list = df_threegram[\"fivegram\"].to_list()\n",
    "sixgram_list = df_threegram[\"sixgram\"].to_list()\n",
    "sevengram_list = df_threegram[\"sevengram\"].to_list()\n",
    "eightgram_list = df_threegram[\"eightgram\"].to_list()\n",
    "ninegram_list = df_threegram[\"ninegram\"].to_list()\n",
    "tengram_list = df_threegram[\"tengram\"].to_list()"
   ]
  },
  {
   "cell_type": "code",
   "execution_count": null,
   "metadata": {},
   "outputs": [],
   "source": [
    "firestore_threegram_data = zip(threegram,frequency_list,fourgram_list,fivegram_list,sixgram_list,sevengram_list,eightgram_list,ninegram_list,tengram_list)"
   ]
  },
  {
   "cell_type": "code",
   "execution_count": null,
   "metadata": {},
   "outputs": [],
   "source": [
    "threegram_dict = {}\n",
    "for threegram,frequency_list,fourgram_list,fivegram_list,sixgram_list,sevengram_list,eightgram_list,ninegram_list,tengram_list in firestore_threegram_data:\n",
    "    dict_var = {f\"{threegram}\":{\"photo\":\"\",\"frequency\":frequency_list,\"fourgram\":fourgram_list,\"fivegram\":fivegram_list,\"sixgram\":\n",
    "    sixgram_list,\"sevengram\":sevengram_list,\"eightgram\":eightgram_list,\"ninegram\":ninegram_list,\"tengram\":tengram_list,\"other\":[]}}\n",
    "    threegram_dict.update(dict_var)    "
   ]
  },
  {
   "cell_type": "code",
   "execution_count": null,
   "metadata": {},
   "outputs": [],
   "source": [
    "fire_db.collection(\"text_selection\").document(f\"{lang_folder.capitalize()}\").collection(\"threegram_data\").document(f\"details\").set(threegram_dict)"
   ]
  },
  {
   "cell_type": "code",
   "execution_count": null,
   "metadata": {},
   "outputs": [],
   "source": []
  },
  {
   "cell_type": "markdown",
   "metadata": {},
   "source": [
    "##### Fourgram"
   ]
  },
  {
   "cell_type": "code",
   "execution_count": null,
   "metadata": {},
   "outputs": [],
   "source": [
    "df_fourgram"
   ]
  },
  {
   "cell_type": "code",
   "execution_count": null,
   "metadata": {},
   "outputs": [],
   "source": [
    "df_fourgram[\"fivegram\"] = df_fourgram[\"fivegram\"].apply(eval)\n",
    "df_fourgram[\"sixgram\"] = df_fourgram[\"sixgram\"].apply(eval)\n",
    "df_fourgram[\"sevengram\"] = df_fourgram[\"sevengram\"].apply(eval)\n",
    "df_fourgram[\"eightgram\"] = df_fourgram[\"eightgram\"].apply(eval)\n",
    "df_fourgram[\"ninegram\"] = df_fourgram[\"ninegram\"].apply(eval)\n",
    "df_fourgram[\"tengram\"] = df_fourgram[\"tengram\"].apply(eval)"
   ]
  },
  {
   "cell_type": "code",
   "execution_count": null,
   "metadata": {},
   "outputs": [],
   "source": [
    "fourgram = df_fourgram[\"fourgram\"].to_list()\n",
    "frequency_list = df_fourgram[\"frequency\"].to_list()\n",
    "fivegram_list = df_fourgram[\"fivegram\"].to_list()\n",
    "sixgram_list = df_fourgram[\"sixgram\"].to_list()\n",
    "sevengram_list = df_fourgram[\"sevengram\"].to_list()\n",
    "eightgram_list = df_fourgram[\"eightgram\"].to_list()\n",
    "ninegram_list = df_fourgram[\"ninegram\"].to_list()\n",
    "tengram_list = df_fourgram[\"tengram\"].to_list()"
   ]
  },
  {
   "cell_type": "code",
   "execution_count": null,
   "metadata": {},
   "outputs": [],
   "source": [
    "firestore_fourgram_data = zip(fourgram,frequency_list,fivegram_list,sixgram_list,sevengram_list,eightgram_list,ninegram_list,tengram_list)"
   ]
  },
  {
   "cell_type": "code",
   "execution_count": null,
   "metadata": {},
   "outputs": [],
   "source": [
    "fourgram_dict = {}\n",
    "for fourgram,frequency_list,fivegram_list,sixgram_list,sevengram_list,eightgram_list,ninegram_list,tengram_list in firestore_fourgram_data:\n",
    "    dict_var = {f\"{fourgram}\":{\"photo\":\"\",\"frequency\":frequency_list,\"fivegram\":fivegram_list,\"sixgram\":sixgram_list,\n",
    "    \"sevengram\":sevengram_list,\"eightgram\":eightgram_list,\"ninegram\":ninegram_list,\"tengram\":tengram_list,\"other\":[]}}\n",
    "    fourgram_dict.update(dict_var)    "
   ]
  },
  {
   "cell_type": "code",
   "execution_count": null,
   "metadata": {},
   "outputs": [],
   "source": [
    "fire_db.collection(\"text_selection\").document(f\"{lang_folder.capitalize()}\").collection(\"fourgram_data\").document(f\"details\").set(fourgram_dict)"
   ]
  },
  {
   "cell_type": "code",
   "execution_count": null,
   "metadata": {},
   "outputs": [],
   "source": []
  },
  {
   "cell_type": "markdown",
   "metadata": {},
   "source": [
    "##### Fivegram"
   ]
  },
  {
   "cell_type": "code",
   "execution_count": null,
   "metadata": {},
   "outputs": [],
   "source": [
    "df_fivegram"
   ]
  },
  {
   "cell_type": "code",
   "execution_count": null,
   "metadata": {},
   "outputs": [],
   "source": [
    "df_fivegram[\"sixgram\"] = df_fivegram[\"sixgram\"].apply(eval)\n",
    "df_fivegram[\"sevengram\"] = df_fivegram[\"sevengram\"].apply(eval)\n",
    "df_fivegram[\"eightgram\"] = df_fivegram[\"eightgram\"].apply(eval)\n",
    "df_fivegram[\"ninegram\"] = df_fivegram[\"ninegram\"].apply(eval)\n",
    "df_fivegram[\"tengram\"] = df_fivegram[\"tengram\"].apply(eval)"
   ]
  },
  {
   "cell_type": "code",
   "execution_count": null,
   "metadata": {},
   "outputs": [],
   "source": [
    "fivegram = df_fivegram[\"fivegram\"].to_list()\n",
    "frequency_list = df_fivegram[\"frequency\"].to_list()\n",
    "sixgram_list = df_fivegram[\"sixgram\"].to_list()\n",
    "sevengram_list = df_fivegram[\"sevengram\"].to_list()\n",
    "eightgram_list = df_fivegram[\"eightgram\"].to_list()\n",
    "ninegram_list = df_fivegram[\"ninegram\"].to_list()\n",
    "tengram_list = df_fivegram[\"tengram\"].to_list()"
   ]
  },
  {
   "cell_type": "code",
   "execution_count": null,
   "metadata": {},
   "outputs": [],
   "source": [
    "firestore_fivegram_data = zip(fivegram,frequency_list,sixgram_list,sevengram_list,eightgram_list,ninegram_list,tengram_list)"
   ]
  },
  {
   "cell_type": "code",
   "execution_count": null,
   "metadata": {},
   "outputs": [],
   "source": [
    "fivegram_dict = {}\n",
    "for fivegram,frequency_list,sixgram_list,sevengram_list,eightgram_list,ninegram_list,tengram_list in firestore_fivegram_data:\n",
    "    dict_var = {f\"{fivegram}\":{\"photo\":\"\",\"frequency\":frequency_list,\"sixgram\":sixgram_list,\n",
    "    \"sevengram\":sevengram_list,\"eightgram\":eightgram_list,\"ninegram\":ninegram_list,\"tengram\":tengram_list,\"other\":[]}}\n",
    "    fivegram_dict.update(dict_var)   "
   ]
  },
  {
   "cell_type": "code",
   "execution_count": null,
   "metadata": {},
   "outputs": [],
   "source": [
    "fire_db.collection(\"text_selection\").document(f\"{lang_folder.capitalize()}\").collection(\"fivegram_data\").document(f\"details\").set(fivegram_dict)"
   ]
  },
  {
   "cell_type": "code",
   "execution_count": null,
   "metadata": {},
   "outputs": [],
   "source": []
  },
  {
   "cell_type": "markdown",
   "metadata": {},
   "source": [
    "##### Sixgram"
   ]
  },
  {
   "cell_type": "code",
   "execution_count": null,
   "metadata": {},
   "outputs": [],
   "source": [
    "df_sixgram"
   ]
  },
  {
   "cell_type": "code",
   "execution_count": null,
   "metadata": {},
   "outputs": [],
   "source": [
    "df_sixgram[\"sevengram\"] = df_sixgram[\"sevengram\"].apply(eval)\n",
    "df_sixgram[\"eightgram\"] = df_sixgram[\"eightgram\"].apply(eval)\n",
    "df_sixgram[\"ninegram\"] = df_sixgram[\"ninegram\"].apply(eval)\n",
    "df_sixgram[\"tengram\"] = df_sixgram[\"tengram\"].apply(eval)"
   ]
  },
  {
   "cell_type": "code",
   "execution_count": null,
   "metadata": {},
   "outputs": [],
   "source": [
    "sixgram = df_sixgram[\"sixgram\"].to_list()\n",
    "frequency_list = df_sixgram[\"frequency\"].to_list()\n",
    "sevengram_list = df_sixgram[\"sevengram\"].to_list()\n",
    "eightgram_list = df_sixgram[\"eightgram\"].to_list()\n",
    "ninegram_list = df_sixgram[\"ninegram\"].to_list()\n",
    "tengram_list = df_sixgram[\"tengram\"].to_list()"
   ]
  },
  {
   "cell_type": "code",
   "execution_count": null,
   "metadata": {},
   "outputs": [],
   "source": [
    "firestore_sixgram_data = zip(sixgram,frequency_list,sevengram_list,eightgram_list,ninegram_list,tengram_list)"
   ]
  },
  {
   "cell_type": "code",
   "execution_count": null,
   "metadata": {},
   "outputs": [],
   "source": [
    "sixgram_dict = {}\n",
    "for sixgram,frequency_list,sevengram_list,eightgram_list,ninegram_list,tengram_list in firestore_sixgram_data:\n",
    "    dict_var = {f\"{sixgram}\":{\"photo\":\"\",\"frequency\":frequency_list,\"sevengram\":sevengram_list,\"eightgram\":eightgram_list,\"ninegram\":ninegram_list,\"tengram\":tengram_list,\"other\":[]}}\n",
    "    sixgram_dict.update(dict_var)   "
   ]
  },
  {
   "cell_type": "code",
   "execution_count": null,
   "metadata": {},
   "outputs": [],
   "source": [
    "fire_db.collection(\"text_selection\").document(f\"{lang_folder.capitalize()}\").collection(\"sixgram_data\").document(f\"details\").set(sixgram_dict)"
   ]
  },
  {
   "cell_type": "code",
   "execution_count": null,
   "metadata": {},
   "outputs": [],
   "source": []
  },
  {
   "cell_type": "markdown",
   "metadata": {},
   "source": [
    "##### Sevengram"
   ]
  },
  {
   "cell_type": "code",
   "execution_count": null,
   "metadata": {},
   "outputs": [],
   "source": [
    "df_sevengram"
   ]
  },
  {
   "cell_type": "code",
   "execution_count": null,
   "metadata": {},
   "outputs": [],
   "source": [
    "df_sevengram[\"eightgram\"] = df_sevengram[\"eightgram\"].apply(eval)\n",
    "df_sevengram[\"ninegram\"] = df_sevengram[\"ninegram\"].apply(eval)\n",
    "df_sevengram[\"tengram\"] = df_sevengram[\"tengram\"].apply(eval)"
   ]
  },
  {
   "cell_type": "code",
   "execution_count": null,
   "metadata": {},
   "outputs": [],
   "source": [
    "sevengram = df_sevengram[\"sevengram\"].to_list()\n",
    "frequency_list = df_sevengram[\"frequency\"].to_list()\n",
    "eightgram_list = df_sevengram[\"eightgram\"].to_list()\n",
    "ninegram_list = df_sevengram[\"ninegram\"].to_list()\n",
    "tengram_list = df_sevengram[\"tengram\"].to_list()"
   ]
  },
  {
   "cell_type": "code",
   "execution_count": null,
   "metadata": {},
   "outputs": [],
   "source": [
    "firestore_sevengram_data = zip(sevengram,frequency_list,eightgram_list,ninegram_list,tengram_list)"
   ]
  },
  {
   "cell_type": "code",
   "execution_count": null,
   "metadata": {},
   "outputs": [],
   "source": [
    "sevengram_dict = {}\n",
    "for sevengram,frequency_list,eightgram_list,ninegram_list,tengram_list in firestore_sevengram_data:\n",
    "    dict_var = {f\"{sevengram}\":{\"photo\":\"\",\"frequency\":frequency_list,\"eightgram\":eightgram_list,\"ninegram\":ninegram_list,\"tengram\":tengram_list,\"other\":[]}}\n",
    "    sevengram_dict.update(dict_var)  "
   ]
  },
  {
   "cell_type": "code",
   "execution_count": null,
   "metadata": {},
   "outputs": [],
   "source": [
    "fire_db.collection(\"text_selection\").document(f\"{lang_folder.capitalize()}\").collection(\"sevengram_data\").document(f\"details\").set(sevengram_dict)"
   ]
  },
  {
   "cell_type": "code",
   "execution_count": null,
   "metadata": {},
   "outputs": [],
   "source": []
  },
  {
   "cell_type": "markdown",
   "metadata": {},
   "source": [
    "##### Eightgram"
   ]
  },
  {
   "cell_type": "code",
   "execution_count": null,
   "metadata": {},
   "outputs": [],
   "source": [
    "df_eightgram"
   ]
  },
  {
   "cell_type": "code",
   "execution_count": null,
   "metadata": {},
   "outputs": [],
   "source": [
    "df_eightgram[\"ninegram\"] = df_eightgram[\"ninegram\"].apply(eval)\n",
    "df_eightgram[\"tengram\"] = df_eightgram[\"tengram\"].apply(eval)"
   ]
  },
  {
   "cell_type": "code",
   "execution_count": null,
   "metadata": {},
   "outputs": [],
   "source": [
    "eightgram = df_eightgram[\"eightgram\"].to_list()\n",
    "frequency_list = df_eightgram[\"frequency\"].to_list()\n",
    "ninegram_list = df_eightgram[\"ninegram\"].to_list()\n",
    "tengram_list = df_eightgram[\"tengram\"].to_list()"
   ]
  },
  {
   "cell_type": "code",
   "execution_count": null,
   "metadata": {},
   "outputs": [],
   "source": [
    "firestore_eightgram_data = zip(eightgram,frequency_list,ninegram_list,tengram_list)"
   ]
  },
  {
   "cell_type": "code",
   "execution_count": null,
   "metadata": {},
   "outputs": [],
   "source": [
    "eightgram_dict = {}\n",
    "for eightgram,frequency_list,ninegram_list,tengram_list in firestore_eightgram_data:\n",
    "    dict_var = {f\"{eightgram}\":{\"photo\":\"\",\"frequency\":frequency_list,\"ninegram\":ninegram_list,\"tengram\":tengram_list,\"other\":[]}}\n",
    "    eightgram_dict.update(dict_var)  "
   ]
  },
  {
   "cell_type": "code",
   "execution_count": null,
   "metadata": {},
   "outputs": [],
   "source": [
    "fire_db.collection(\"text_selection\").document(f\"{lang_folder.capitalize()}\").collection(\"eightgram_data\").document(f\"details\").set(eightgram_dict)"
   ]
  },
  {
   "cell_type": "code",
   "execution_count": null,
   "metadata": {},
   "outputs": [],
   "source": []
  },
  {
   "cell_type": "markdown",
   "metadata": {},
   "source": [
    "##### Ninegram"
   ]
  },
  {
   "cell_type": "code",
   "execution_count": null,
   "metadata": {},
   "outputs": [],
   "source": [
    "df_ninegram"
   ]
  },
  {
   "cell_type": "code",
   "execution_count": null,
   "metadata": {},
   "outputs": [],
   "source": [
    "df_ninegram[\"tengram\"] = df_ninegram[\"tengram\"].apply(eval)"
   ]
  },
  {
   "cell_type": "code",
   "execution_count": null,
   "metadata": {},
   "outputs": [],
   "source": [
    "ninegram = df_ninegram[\"ninegram\"].to_list()\n",
    "frequency_list = df_ninegram[\"frequency\"].to_list()\n",
    "tengram_list = df_ninegram[\"tengram\"].to_list()"
   ]
  },
  {
   "cell_type": "code",
   "execution_count": null,
   "metadata": {},
   "outputs": [],
   "source": [
    "firestore_ninegram_data = zip(ninegram,frequency_list,tengram_list)"
   ]
  },
  {
   "cell_type": "code",
   "execution_count": null,
   "metadata": {},
   "outputs": [],
   "source": [
    "ninegram_dict = {}\n",
    "for ninegram,frequency_list,tengram_list in firestore_ninegram_data:\n",
    "    dict_var = {f\"{ninegram}\":{\"photo\":\"\",\"frequency\":frequency_list,\"tengram\":tengram_list,\"other\":[]}}\n",
    "    ninegram_dict.update(dict_var)  "
   ]
  },
  {
   "cell_type": "code",
   "execution_count": null,
   "metadata": {},
   "outputs": [],
   "source": [
    "fire_db.collection(\"text_selection\").document(f\"{lang_folder.capitalize()}\").collection(\"ninegram_data\").document(f\"details\").set(ninegram_dict)"
   ]
  },
  {
   "cell_type": "code",
   "execution_count": null,
   "metadata": {},
   "outputs": [],
   "source": []
  },
  {
   "cell_type": "code",
   "execution_count": null,
   "metadata": {},
   "outputs": [],
   "source": []
  },
  {
   "cell_type": "code",
   "execution_count": null,
   "metadata": {},
   "outputs": [],
   "source": []
  },
  {
   "cell_type": "markdown",
   "metadata": {},
   "source": [
    "#### Copy Move And Delete"
   ]
  },
  {
   "cell_type": "code",
   "execution_count": null,
   "metadata": {},
   "outputs": [],
   "source": [
    "output_file2 = glob.glob(f\"{lang_folder.capitalize()}_Word_Group*{file_ext}.xlsx\")\n",
    "output_file2"
   ]
  },
  {
   "cell_type": "code",
   "execution_count": null,
   "metadata": {},
   "outputs": [],
   "source": [
    "for l in output_file2:\n",
    "    source = l # source directory\n",
    "    destination = path\n",
    "    shutil.copy2(source, destination)"
   ]
  },
  {
   "cell_type": "code",
   "execution_count": null,
   "metadata": {},
   "outputs": [],
   "source": [
    "for j in output_file2:\n",
    "    try:\n",
    "        os.remove(j)\n",
    "    except:\n",
    "        pass"
   ]
  },
  {
   "cell_type": "code",
   "execution_count": null,
   "metadata": {},
   "outputs": [],
   "source": []
  },
  {
   "cell_type": "code",
   "execution_count": null,
   "metadata": {},
   "outputs": [],
   "source": []
  },
  {
   "cell_type": "code",
   "execution_count": null,
   "metadata": {},
   "outputs": [],
   "source": []
  }
 ],
 "metadata": {
  "kernelspec": {
   "display_name": "Python 3.9.5 ('py39')",
   "language": "python",
   "name": "python3"
  },
  "language_info": {
   "codemirror_mode": {
    "name": "ipython",
    "version": 3
   },
   "file_extension": ".py",
   "mimetype": "text/x-python",
   "name": "python",
   "nbconvert_exporter": "python",
   "pygments_lexer": "ipython3",
   "version": "3.9.5"
  },
  "orig_nbformat": 4,
  "vscode": {
   "interpreter": {
    "hash": "651d507d70892fab0fc6529d935cd476f6e2eb1791525b76da6cc8da34bc0503"
   }
  }
 },
 "nbformat": 4,
 "nbformat_minor": 2
}
