{
 "cells": [
  {
   "cell_type": "markdown",
   "metadata": {},
   "source": [
    "### Text Selection Data Merge"
   ]
  },
  {
   "cell_type": "code",
   "execution_count": 1,
   "metadata": {},
   "outputs": [],
   "source": [
    "import os\n",
    "import multiprocessing\n",
    "#import multiprocessing as mp\n",
    "from multiprocessing import Process, Manager, Pool, Queue\n",
    "from itertools import islice\n",
    "from collections import Counter\n",
    "import re\n",
    "import pandas as pd\n",
    "import numpy as np\n",
    "import glob\n",
    "import nltk\n",
    "from nltk import word_tokenize\n",
    "from functools import reduce\n",
    "from pathlib import Path\n",
    "import shutil"
   ]
  },
  {
   "cell_type": "code",
   "execution_count": 2,
   "metadata": {},
   "outputs": [
    {
     "name": "stdout",
     "output_type": "stream",
     "text": [
      "Number of CPU cores: 16\n"
     ]
    }
   ],
   "source": [
    "nprocs = multiprocessing.cpu_count()\n",
    "print(f\"Number of CPU cores: {nprocs}\")"
   ]
  },
  {
   "cell_type": "code",
   "execution_count": 3,
   "metadata": {},
   "outputs": [
    {
     "name": "stdout",
     "output_type": "stream",
     "text": [
      "6\n"
     ]
    }
   ],
   "source": [
    "# language pair\n",
    "lang_folder = \"Turkish\"  # Arabic, English, French, German, Turkish, Spanish, Portuguese, Dutch, Italian ==> target language for learner\n",
    "#lang_pair = \"Intersect\"  # Arabic, English, French, German, Turkish, Spanish, Portuguese, Dutch, Italian ==> native language\n",
    "\n",
    "# adding native word to shared word\n",
    "word_start = 0  # 0 native word start index\n",
    "word_end = 45000  # 28 native word end index\n",
    "\n",
    "# word all usage in twogram\n",
    "word_use_num_min = 1  # word usage in selected twograms \n",
    "word_use_num_max = 2\n",
    "\n",
    "# n gram select\n",
    "twogram_select_start = 0\n",
    "twogram_select_end = 10000\n",
    "\n",
    "threegram_select_start = 0\n",
    "threegram_select_end = 10000\n",
    "\n",
    "fourgram_select_start = 0\n",
    "fourgram_select_end = 10000\n",
    "\n",
    "fivegram_select_start = 0\n",
    "fivegram_select_end = 10000\n",
    "\n",
    "sixgram_select_start = 0\n",
    "sixgram_select_end = 10000\n",
    "\n",
    "sevengram_select_start = 0\n",
    "sevengram_select_end = 10000\n",
    "\n",
    "eightgram_select_start = 0\n",
    "eightgram_select_end = 10000\n",
    "\n",
    "ninegram_select_start = 0\n",
    "ninegram_select_end = 10000\n",
    "\n",
    "tengram_select_start = 0\n",
    "tengram_select_end = 10000\n",
    "\n",
    "\n",
    "# prefix suffix file\n",
    "prefix_suffix = False  # True, False: True for adding prefix suffix word\n",
    "native_word = True # True for adding native word\n",
    "\n",
    "# adding output file extention\n",
    "if prefix_suffix & native_word:\n",
    "    file_ext = \"5\"\n",
    "elif (not prefix_suffix) & native_word:\n",
    "    file_ext = \"6\"\n",
    "else:\n",
    "    file_ext = \"7\"              \n",
    "    \n",
    "# 5 => for only native word with prefix suffix.\n",
    "# 6 => for only native word without prefix suffix.\n",
    "\n",
    "print(f\"{file_ext}\")"
   ]
  },
  {
   "cell_type": "code",
   "execution_count": 4,
   "metadata": {},
   "outputs": [],
   "source": [
    "path = f\"/media/kurubal/SSD/Data Scientist/Work/Modern Ways/Project/{lang_folder.capitalize()}/\\\n",
    "Text Selection/Result/2-Text Selection Data Merge\"\n",
    "\n",
    "Path(path).mkdir(parents=True, exist_ok=True)"
   ]
  },
  {
   "cell_type": "code",
   "execution_count": 5,
   "metadata": {},
   "outputs": [],
   "source": [
    "def strip(df):\n",
    "    for i in df.columns:\n",
    "        new_name = i.strip()\n",
    "        df.rename(columns={f\"{i}\":f\"{new_name}\"}, inplace=True)\n",
    "        df[f\"{new_name}\"] = df[f\"{new_name}\"].apply(lambda x: x.strip())\n",
    "    \n",
    "    return df"
   ]
  },
  {
   "cell_type": "code",
   "execution_count": 6,
   "metadata": {},
   "outputs": [],
   "source": [
    "def word_count_result(df,column_list): # df is dataframe, column_list is list value\n",
    "    '''\n",
    "    word_count_bool(df, column_list): df columns word count for word frequency\\n\n",
    "    df is dataframe, column_list is list value\\n\n",
    "    word_count_bool(df, [\"word\",\"twogram\"]):\n",
    "    '''\n",
    "    list_all = []\n",
    "    for i in df.loc[:,[x for x in column_list]].columns:\n",
    "        var_list = df[f\"{i}\"].dropna().tolist()\n",
    "        for j in var_list:\n",
    "            list_all.append(j)\n",
    "    text = \" \".join(list_all)\n",
    "    word_list = re.findall(r\"\\w+\",text, re.UNICODE)\n",
    "    df_word_list = pd.DataFrame(word_list, columns=[\"word\"])\n",
    "    #df_word_list.rename(columns={0:\"word\"}, inplace=True)\n",
    "    df_word_count = pd.DataFrame(df_word_list.value_counts())\n",
    "    df_word_count.reset_index(inplace=True)\n",
    "    df_word_count.rename(columns={0:\"word_count\"}, inplace=True)\n",
    "    \n",
    "    return  df_word_count"
   ]
  },
  {
   "cell_type": "code",
   "execution_count": 7,
   "metadata": {},
   "outputs": [],
   "source": [
    "def word_in_wordgroup(source_word_list, df_target, target_column, simple=False):\n",
    "\n",
    "    '''word_in_wordgroup(not_in_sent_word_list, df_youtube_sent_select, \"search_string\", 5, simple=False)\\n\n",
    "       source_word_list is searching word list\\n\n",
    "       df_target is dataframe, target_column are dataframe column string name\\n\n",
    "       word_sample_num is searching sample number.\n",
    "       simple use for all column result or only target column result \n",
    "    '''\n",
    "    if simple:\n",
    "        df_select = df_target[[f\"{target_column}\"]].dropna()\n",
    "    else:\n",
    "        df_select = df_target\n",
    "        \n",
    "    df_result = pd.DataFrame()\n",
    "    for i in source_word_list:\n",
    "        try:\n",
    "            word_in_word_cluster = df_select[df_select[f\"{target_column}\"].str.contains(fr\"(?:\\s|^){i}(?:\\s|$)\", na=True)]   \n",
    "        except:\n",
    "            pass        \n",
    "        word_in_word_cluster.insert(0,\"word\",i)\n",
    "        df_result = pd.concat([df_result,word_in_word_cluster], axis=0)\n",
    "    df_result.reset_index(drop=True, inplace=True)\n",
    "\n",
    "    return df_result"
   ]
  },
  {
   "cell_type": "code",
   "execution_count": 8,
   "metadata": {},
   "outputs": [],
   "source": [
    "def word_in_wordgroup_simple(df, source_column, target_column):\n",
    "\n",
    "    '''word_in_wordgroup(df, \"word\", \"twogram\"):\n",
    "       df is dataframe, source_column and target_column are \n",
    "       dataframe column string name. source_column convert list\n",
    "       values that are in target column.\n",
    "    '''\n",
    "    \n",
    "    df_select = df[[f\"{target_column}\"]].dropna()\n",
    "    df_result = pd.DataFrame()\n",
    "    for i in df[f\"{source_column}\"].dropna():\n",
    "        try:\n",
    "            word_in_word_cluster = df_select[df_select[f\"{target_column}\"].str.contains(fr\"(?:\\s|^){i}(?:\\s|$)\", na=True)]   \n",
    "        except:\n",
    "            pass        \n",
    "        word_in_word_cluster.insert(0,f\"{source_column}\",i)\n",
    "        df_result = pd.concat([df_result,word_in_word_cluster], axis=0)\n",
    "    df_result.reset_index(drop=True, inplace=True)\n",
    "\n",
    "    return df_result"
   ]
  },
  {
   "cell_type": "code",
   "execution_count": null,
   "metadata": {},
   "outputs": [],
   "source": []
  },
  {
   "cell_type": "code",
   "execution_count": 9,
   "metadata": {},
   "outputs": [],
   "source": [
    "#def multi_wordgroup_in_wordgroup(word_list, df_target, target_column):\n",
    "#    source_wordgroup_list = word_list\n",
    "#    df_target2 = df_target\n",
    "#    target_column2 = target_column\n",
    "#\n",
    "#    searchlist = []\n",
    "#    resultlist = []\n",
    "#    manager = multiprocessing.Manager()\n",
    "#    resultlist = manager.list()\n",
    "#    searchlist = manager.list()\n",
    "#\n",
    "#    def word_in_wordgroup(wordgroup):        \n",
    "#        try:\n",
    "#            word_in_word_cluster = df_target2[df_target2[f\"{target_column2}\"].str.contains(fr\"(?:\\s|^){wordgroup}(?:\\s|$)\", na=True)]\n",
    "#            for result in word_in_word_cluster[f\"{target_column2}\"]:\n",
    "#                searchlist.append(wordgroup)\n",
    "#                resultlist.append(result)\n",
    "#        except:\n",
    "#            pass\n",
    "#\n",
    "#    with Pool(nprocs) as p: # Pool number CPU sayısına eşit olursa tüm CPU lar çalışır\n",
    "#        p.map(word_in_wordgroup, source_wordgroup_list) # string_word liste\n",
    "#\n",
    "#    search_list = list(searchlist)\n",
    "#    result_list = list(resultlist)\n",
    "#    df_result = pd.DataFrame([search_list,result_list]).transpose()\n",
    "#    df_result.columns = [\"word\",f\"{target_column}\"]\n",
    "#    df_result\n",
    "#\n",
    "#    return df_result"
   ]
  },
  {
   "cell_type": "code",
   "execution_count": null,
   "metadata": {},
   "outputs": [],
   "source": []
  },
  {
   "cell_type": "markdown",
   "metadata": {},
   "source": [
    "#### Text Data Read"
   ]
  },
  {
   "cell_type": "code",
   "execution_count": 10,
   "metadata": {},
   "outputs": [
    {
     "data": {
      "text/html": [
       "<div>\n",
       "<style scoped>\n",
       "    .dataframe tbody tr th:only-of-type {\n",
       "        vertical-align: middle;\n",
       "    }\n",
       "\n",
       "    .dataframe tbody tr th {\n",
       "        vertical-align: top;\n",
       "    }\n",
       "\n",
       "    .dataframe thead th {\n",
       "        text-align: right;\n",
       "    }\n",
       "</style>\n",
       "<table border=\"1\" class=\"dataframe\">\n",
       "  <thead>\n",
       "    <tr style=\"text-align: right;\">\n",
       "      <th></th>\n",
       "      <th>word</th>\n",
       "      <th>frequency</th>\n",
       "    </tr>\n",
       "  </thead>\n",
       "  <tbody>\n",
       "    <tr>\n",
       "      <th>0</th>\n",
       "      <td>bir</td>\n",
       "      <td>18835735</td>\n",
       "    </tr>\n",
       "    <tr>\n",
       "      <th>1</th>\n",
       "      <td>bu</td>\n",
       "      <td>11062659</td>\n",
       "    </tr>\n",
       "    <tr>\n",
       "      <th>2</th>\n",
       "      <td>ne</td>\n",
       "      <td>8025880</td>\n",
       "    </tr>\n",
       "    <tr>\n",
       "      <th>3</th>\n",
       "      <td>ve</td>\n",
       "      <td>7766036</td>\n",
       "    </tr>\n",
       "    <tr>\n",
       "      <th>4</th>\n",
       "      <td>için</td>\n",
       "      <td>5484109</td>\n",
       "    </tr>\n",
       "    <tr>\n",
       "      <th>...</th>\n",
       "      <td>...</td>\n",
       "      <td>...</td>\n",
       "    </tr>\n",
       "    <tr>\n",
       "      <th>44995</th>\n",
       "      <td>hayırbu</td>\n",
       "      <td>871</td>\n",
       "    </tr>\n",
       "    <tr>\n",
       "      <th>44996</th>\n",
       "      <td>konferansına</td>\n",
       "      <td>871</td>\n",
       "    </tr>\n",
       "    <tr>\n",
       "      <th>44997</th>\n",
       "      <td>kardeşisin</td>\n",
       "      <td>871</td>\n",
       "    </tr>\n",
       "    <tr>\n",
       "      <th>44998</th>\n",
       "      <td>kaldırıyorsun</td>\n",
       "      <td>871</td>\n",
       "    </tr>\n",
       "    <tr>\n",
       "      <th>44999</th>\n",
       "      <td>kuzenlerim</td>\n",
       "      <td>871</td>\n",
       "    </tr>\n",
       "  </tbody>\n",
       "</table>\n",
       "<p>45000 rows × 2 columns</p>\n",
       "</div>"
      ],
      "text/plain": [
       "                word  frequency\n",
       "0                bir   18835735\n",
       "1                 bu   11062659\n",
       "2                 ne    8025880\n",
       "3                 ve    7766036\n",
       "4               için    5484109\n",
       "...              ...        ...\n",
       "44995        hayırbu        871\n",
       "44996   konferansına        871\n",
       "44997     kardeşisin        871\n",
       "44998  kaldırıyorsun        871\n",
       "44999     kuzenlerim        871\n",
       "\n",
       "[45000 rows x 2 columns]"
      ]
     },
     "execution_count": 10,
     "metadata": {},
     "output_type": "execute_result"
    }
   ],
   "source": [
    "df_word_select = pd.read_excel(f\"/media/kurubal/SSD/Data Scientist/Work/Modern Ways/Project/{lang_folder.lower().capitalize()}/Text Selection/\\\n",
    "Data/1-Text Selection Data Prepare/Word_Selected_45000.xlsx\")\n",
    "df_word_select"
   ]
  },
  {
   "cell_type": "code",
   "execution_count": 11,
   "metadata": {},
   "outputs": [
    {
     "data": {
      "text/html": [
       "<div>\n",
       "<style scoped>\n",
       "    .dataframe tbody tr th:only-of-type {\n",
       "        vertical-align: middle;\n",
       "    }\n",
       "\n",
       "    .dataframe tbody tr th {\n",
       "        vertical-align: top;\n",
       "    }\n",
       "\n",
       "    .dataframe thead th {\n",
       "        text-align: right;\n",
       "    }\n",
       "</style>\n",
       "<table border=\"1\" class=\"dataframe\">\n",
       "  <thead>\n",
       "    <tr style=\"text-align: right;\">\n",
       "      <th></th>\n",
       "      <th>twogram</th>\n",
       "      <th>frequency</th>\n",
       "    </tr>\n",
       "  </thead>\n",
       "  <tbody>\n",
       "    <tr>\n",
       "      <th>0</th>\n",
       "      <td>bir şey</td>\n",
       "      <td>859944</td>\n",
       "    </tr>\n",
       "    <tr>\n",
       "      <th>1</th>\n",
       "      <td>değil mi</td>\n",
       "      <td>585879</td>\n",
       "    </tr>\n",
       "    <tr>\n",
       "      <th>2</th>\n",
       "      <td>ben de</td>\n",
       "      <td>377765</td>\n",
       "    </tr>\n",
       "    <tr>\n",
       "      <th>3</th>\n",
       "      <td>teşekkür ederim</td>\n",
       "      <td>370619</td>\n",
       "    </tr>\n",
       "    <tr>\n",
       "      <th>4</th>\n",
       "      <td>ne oldu</td>\n",
       "      <td>322758</td>\n",
       "    </tr>\n",
       "    <tr>\n",
       "      <th>...</th>\n",
       "      <td>...</td>\n",
       "      <td>...</td>\n",
       "    </tr>\n",
       "    <tr>\n",
       "      <th>213666</th>\n",
       "      <td>olmadan gerçek</td>\n",
       "      <td>52</td>\n",
       "    </tr>\n",
       "    <tr>\n",
       "      <th>213667</th>\n",
       "      <td>epey kolay</td>\n",
       "      <td>52</td>\n",
       "    </tr>\n",
       "    <tr>\n",
       "      <th>213668</th>\n",
       "      <td>hafızan iyi</td>\n",
       "      <td>52</td>\n",
       "    </tr>\n",
       "    <tr>\n",
       "      <th>213669</th>\n",
       "      <td>senin yaşındaydım</td>\n",
       "      <td>52</td>\n",
       "    </tr>\n",
       "    <tr>\n",
       "      <th>213670</th>\n",
       "      <td>olmamıştı ki</td>\n",
       "      <td>52</td>\n",
       "    </tr>\n",
       "  </tbody>\n",
       "</table>\n",
       "<p>213671 rows × 2 columns</p>\n",
       "</div>"
      ],
      "text/plain": [
       "                  twogram  frequency\n",
       "0                 bir şey     859944\n",
       "1                değil mi     585879\n",
       "2                  ben de     377765\n",
       "3         teşekkür ederim     370619\n",
       "4                 ne oldu     322758\n",
       "...                   ...        ...\n",
       "213666     olmadan gerçek         52\n",
       "213667         epey kolay         52\n",
       "213668        hafızan iyi         52\n",
       "213669  senin yaşındaydım         52\n",
       "213670       olmamıştı ki         52\n",
       "\n",
       "[213671 rows x 2 columns]"
      ]
     },
     "execution_count": 11,
     "metadata": {},
     "output_type": "execute_result"
    }
   ],
   "source": [
    "#df_twogram_select = pd.read_excel(f\"/media/kurubal/SSD/Data Scientist/Work/Modern Ways/Project/{lang_folder.lower().capitalize()}/Text Selection/\\\n",
    "#Data/1-Text Selection Data Prepare/Twogram_Selected_10000.xlsx\")\n",
    "df_twogram_select = pd.read_csv(f\"/media/kurubal/SSD/Data Scientist/Work/Modern Ways/Project/{lang_folder.lower().capitalize()}/Text Selection/\\\n",
    "Data/1-Text Selection Data Prepare/Twogram_Selected.csv\")\n",
    "#df_twogram_select = df_twogram_select.head(1000)\n",
    "df_twogram_select"
   ]
  },
  {
   "cell_type": "code",
   "execution_count": 12,
   "metadata": {},
   "outputs": [
    {
     "data": {
      "text/html": [
       "<div>\n",
       "<style scoped>\n",
       "    .dataframe tbody tr th:only-of-type {\n",
       "        vertical-align: middle;\n",
       "    }\n",
       "\n",
       "    .dataframe tbody tr th {\n",
       "        vertical-align: top;\n",
       "    }\n",
       "\n",
       "    .dataframe thead th {\n",
       "        text-align: right;\n",
       "    }\n",
       "</style>\n",
       "<table border=\"1\" class=\"dataframe\">\n",
       "  <thead>\n",
       "    <tr style=\"text-align: right;\">\n",
       "      <th></th>\n",
       "      <th>threegram</th>\n",
       "      <th>frequency</th>\n",
       "    </tr>\n",
       "  </thead>\n",
       "  <tbody>\n",
       "    <tr>\n",
       "      <th>0</th>\n",
       "      <td>bir şey yok</td>\n",
       "      <td>113165</td>\n",
       "    </tr>\n",
       "    <tr>\n",
       "      <th>1</th>\n",
       "      <td>bir şey var</td>\n",
       "      <td>110455</td>\n",
       "    </tr>\n",
       "    <tr>\n",
       "      <th>2</th>\n",
       "      <td>bu da ne</td>\n",
       "      <td>89463</td>\n",
       "    </tr>\n",
       "    <tr>\n",
       "      <th>3</th>\n",
       "      <td>her şey yolunda</td>\n",
       "      <td>75968</td>\n",
       "    </tr>\n",
       "    <tr>\n",
       "      <th>4</th>\n",
       "      <td>başka bir şey</td>\n",
       "      <td>75193</td>\n",
       "    </tr>\n",
       "    <tr>\n",
       "      <th>...</th>\n",
       "      <td>...</td>\n",
       "      <td>...</td>\n",
       "    </tr>\n",
       "    <tr>\n",
       "      <th>307731</th>\n",
       "      <td>arkadaş mı olmak</td>\n",
       "      <td>38</td>\n",
       "    </tr>\n",
       "    <tr>\n",
       "      <th>307732</th>\n",
       "      <td>olan birkaç şey</td>\n",
       "      <td>38</td>\n",
       "    </tr>\n",
       "    <tr>\n",
       "      <th>307733</th>\n",
       "      <td>da size anlatayım</td>\n",
       "      <td>38</td>\n",
       "    </tr>\n",
       "    <tr>\n",
       "      <th>307734</th>\n",
       "      <td>için olay yerine</td>\n",
       "      <td>38</td>\n",
       "    </tr>\n",
       "    <tr>\n",
       "      <th>307735</th>\n",
       "      <td>olup olamayacağını merak</td>\n",
       "      <td>38</td>\n",
       "    </tr>\n",
       "  </tbody>\n",
       "</table>\n",
       "<p>307736 rows × 2 columns</p>\n",
       "</div>"
      ],
      "text/plain": [
       "                       threegram  frequency\n",
       "0                    bir şey yok     113165\n",
       "1                    bir şey var     110455\n",
       "2                       bu da ne      89463\n",
       "3                her şey yolunda      75968\n",
       "4                  başka bir şey      75193\n",
       "...                          ...        ...\n",
       "307731          arkadaş mı olmak         38\n",
       "307732           olan birkaç şey         38\n",
       "307733         da size anlatayım         38\n",
       "307734          için olay yerine         38\n",
       "307735  olup olamayacağını merak         38\n",
       "\n",
       "[307736 rows x 2 columns]"
      ]
     },
     "execution_count": 12,
     "metadata": {},
     "output_type": "execute_result"
    }
   ],
   "source": [
    "#df_threegram_select = pd.read_excel(f\"/media/kurubal/SSD/Data Scientist/Work/Modern Ways/Project/{lang_folder.lower().capitalize()}/Text Selection/\\\n",
    "#Data/1-Text Selection Data Prepare/Threegram_Selected_10000.xlsx\")\n",
    "df_threegram_select = pd.read_csv(f\"/media/kurubal/SSD/Data Scientist/Work/Modern Ways/Project/{lang_folder.lower().capitalize()}/Text Selection/\\\n",
    "Data/1-Text Selection Data Prepare/Threegram_Selected.csv\")\n",
    "df_threegram_select"
   ]
  },
  {
   "cell_type": "code",
   "execution_count": 13,
   "metadata": {},
   "outputs": [
    {
     "data": {
      "text/html": [
       "<div>\n",
       "<style scoped>\n",
       "    .dataframe tbody tr th:only-of-type {\n",
       "        vertical-align: middle;\n",
       "    }\n",
       "\n",
       "    .dataframe tbody tr th {\n",
       "        vertical-align: top;\n",
       "    }\n",
       "\n",
       "    .dataframe thead th {\n",
       "        text-align: right;\n",
       "    }\n",
       "</style>\n",
       "<table border=\"1\" class=\"dataframe\">\n",
       "  <thead>\n",
       "    <tr style=\"text-align: right;\">\n",
       "      <th></th>\n",
       "      <th>fourgram</th>\n",
       "      <th>frequency</th>\n",
       "    </tr>\n",
       "  </thead>\n",
       "  <tbody>\n",
       "    <tr>\n",
       "      <th>0</th>\n",
       "      <td>bir şey var mı</td>\n",
       "      <td>41773</td>\n",
       "    </tr>\n",
       "    <tr>\n",
       "      <th>1</th>\n",
       "      <td>her şey yolunda mı</td>\n",
       "      <td>31126</td>\n",
       "    </tr>\n",
       "    <tr>\n",
       "      <th>2</th>\n",
       "      <td>burada ne işin var</td>\n",
       "      <td>21993</td>\n",
       "    </tr>\n",
       "    <tr>\n",
       "      <th>3</th>\n",
       "      <td>bir sorun mu var</td>\n",
       "      <td>21423</td>\n",
       "    </tr>\n",
       "    <tr>\n",
       "      <th>4</th>\n",
       "      <td>ben de seni seviyorum</td>\n",
       "      <td>17338</td>\n",
       "    </tr>\n",
       "    <tr>\n",
       "      <th>...</th>\n",
       "      <td>...</td>\n",
       "      <td>...</td>\n",
       "    </tr>\n",
       "    <tr>\n",
       "      <th>388274</th>\n",
       "      <td>söz veriyorum kurul iş</td>\n",
       "      <td>16</td>\n",
       "    </tr>\n",
       "    <tr>\n",
       "      <th>388275</th>\n",
       "      <td>çıkmak için can atıyor</td>\n",
       "      <td>16</td>\n",
       "    </tr>\n",
       "    <tr>\n",
       "      <th>388276</th>\n",
       "      <td>ve içinden alevlerin çıktığı</td>\n",
       "      <td>16</td>\n",
       "    </tr>\n",
       "    <tr>\n",
       "      <th>388277</th>\n",
       "      <td>ne zaman isterse ama</td>\n",
       "      <td>16</td>\n",
       "    </tr>\n",
       "    <tr>\n",
       "      <th>388278</th>\n",
       "      <td>bunun için önceden olduğum</td>\n",
       "      <td>16</td>\n",
       "    </tr>\n",
       "  </tbody>\n",
       "</table>\n",
       "<p>388279 rows × 2 columns</p>\n",
       "</div>"
      ],
      "text/plain": [
       "                            fourgram  frequency\n",
       "0                     bir şey var mı      41773\n",
       "1                 her şey yolunda mı      31126\n",
       "2                 burada ne işin var      21993\n",
       "3                   bir sorun mu var      21423\n",
       "4              ben de seni seviyorum      17338\n",
       "...                              ...        ...\n",
       "388274        söz veriyorum kurul iş         16\n",
       "388275        çıkmak için can atıyor         16\n",
       "388276  ve içinden alevlerin çıktığı         16\n",
       "388277          ne zaman isterse ama         16\n",
       "388278    bunun için önceden olduğum         16\n",
       "\n",
       "[388279 rows x 2 columns]"
      ]
     },
     "execution_count": 13,
     "metadata": {},
     "output_type": "execute_result"
    }
   ],
   "source": [
    "#df_fourgram_select = pd.read_excel(f\"/media/kurubal/SSD/Data Scientist/Work/Modern Ways/Project/{lang_folder.lower().capitalize()}/Text Selection/\\\n",
    "#Data/1-Text Selection Data Prepare/Fourgram_Selected_10000.xlsx\")\n",
    "df_fourgram_select = pd.read_csv(f\"/media/kurubal/SSD/Data Scientist/Work/Modern Ways/Project/{lang_folder.lower().capitalize()}/Text Selection/\\\n",
    "Data/1-Text Selection Data Prepare/Fourgram_Selected.csv\")\n",
    "df_fourgram_select"
   ]
  },
  {
   "cell_type": "code",
   "execution_count": 14,
   "metadata": {},
   "outputs": [
    {
     "data": {
      "text/html": [
       "<div>\n",
       "<style scoped>\n",
       "    .dataframe tbody tr th:only-of-type {\n",
       "        vertical-align: middle;\n",
       "    }\n",
       "\n",
       "    .dataframe tbody tr th {\n",
       "        vertical-align: top;\n",
       "    }\n",
       "\n",
       "    .dataframe thead th {\n",
       "        text-align: right;\n",
       "    }\n",
       "</style>\n",
       "<table border=\"1\" class=\"dataframe\">\n",
       "  <thead>\n",
       "    <tr style=\"text-align: right;\">\n",
       "      <th></th>\n",
       "      <th>fivegram</th>\n",
       "      <th>frequency</th>\n",
       "    </tr>\n",
       "  </thead>\n",
       "  <tbody>\n",
       "    <tr>\n",
       "      <th>0</th>\n",
       "      <td>başka bir şey var mı</td>\n",
       "      <td>14104</td>\n",
       "    </tr>\n",
       "    <tr>\n",
       "      <th>1</th>\n",
       "      <td>bu da ne demek oluyor</td>\n",
       "      <td>10205</td>\n",
       "    </tr>\n",
       "    <tr>\n",
       "      <th>2</th>\n",
       "      <td>o kadar da kötü değil</td>\n",
       "      <td>7012</td>\n",
       "    </tr>\n",
       "    <tr>\n",
       "      <th>3</th>\n",
       "      <td>sence de öyle değil mi</td>\n",
       "      <td>6305</td>\n",
       "    </tr>\n",
       "    <tr>\n",
       "      <th>4</th>\n",
       "      <td>sana bir şey sorabilir miyim</td>\n",
       "      <td>6224</td>\n",
       "    </tr>\n",
       "    <tr>\n",
       "      <th>...</th>\n",
       "      <td>...</td>\n",
       "      <td>...</td>\n",
       "    </tr>\n",
       "    <tr>\n",
       "      <th>122369</th>\n",
       "      <td>ile matrix arasında seçim yapmam</td>\n",
       "      <td>19</td>\n",
       "    </tr>\n",
       "    <tr>\n",
       "      <th>122370</th>\n",
       "      <td>hey o iyi bir adam</td>\n",
       "      <td>19</td>\n",
       "    </tr>\n",
       "    <tr>\n",
       "      <th>122371</th>\n",
       "      <td>beklemek için nasıl bir yer</td>\n",
       "      <td>19</td>\n",
       "    </tr>\n",
       "    <tr>\n",
       "      <th>122372</th>\n",
       "      <td>yani bak normalde beni bilirsin</td>\n",
       "      <td>19</td>\n",
       "    </tr>\n",
       "    <tr>\n",
       "      <th>122373</th>\n",
       "      <td>iyi bir adam arayın tamam</td>\n",
       "      <td>19</td>\n",
       "    </tr>\n",
       "  </tbody>\n",
       "</table>\n",
       "<p>122374 rows × 2 columns</p>\n",
       "</div>"
      ],
      "text/plain": [
       "                                fivegram  frequency\n",
       "0                   başka bir şey var mı      14104\n",
       "1                  bu da ne demek oluyor      10205\n",
       "2                  o kadar da kötü değil       7012\n",
       "3                 sence de öyle değil mi       6305\n",
       "4           sana bir şey sorabilir miyim       6224\n",
       "...                                  ...        ...\n",
       "122369  ile matrix arasında seçim yapmam         19\n",
       "122370                hey o iyi bir adam         19\n",
       "122371       beklemek için nasıl bir yer         19\n",
       "122372   yani bak normalde beni bilirsin         19\n",
       "122373         iyi bir adam arayın tamam         19\n",
       "\n",
       "[122374 rows x 2 columns]"
      ]
     },
     "execution_count": 14,
     "metadata": {},
     "output_type": "execute_result"
    }
   ],
   "source": [
    "#df_fivegram_select = pd.read_excel(f\"/media/kurubal/SSD/Data Scientist/Work/Modern Ways/Project/{lang_folder.lower().capitalize()}/Text Selection/\\\n",
    "#Data/1-Text Selection Data Prepare/Fivegram_Selected_10000.xlsx\")\n",
    "df_fivegram_select = pd.read_csv(f\"/media/kurubal/SSD/Data Scientist/Work/Modern Ways/Project/{lang_folder.lower().capitalize()}/Text Selection/\\\n",
    "Data/1-Text Selection Data Prepare/Fivegram_Selected.csv\")\n",
    "df_fivegram_select"
   ]
  },
  {
   "cell_type": "code",
   "execution_count": 15,
   "metadata": {},
   "outputs": [
    {
     "data": {
      "text/html": [
       "<div>\n",
       "<style scoped>\n",
       "    .dataframe tbody tr th:only-of-type {\n",
       "        vertical-align: middle;\n",
       "    }\n",
       "\n",
       "    .dataframe tbody tr th {\n",
       "        vertical-align: top;\n",
       "    }\n",
       "\n",
       "    .dataframe thead th {\n",
       "        text-align: right;\n",
       "    }\n",
       "</style>\n",
       "<table border=\"1\" class=\"dataframe\">\n",
       "  <thead>\n",
       "    <tr style=\"text-align: right;\">\n",
       "      <th></th>\n",
       "      <th>sixgram</th>\n",
       "      <th>frequency</th>\n",
       "    </tr>\n",
       "  </thead>\n",
       "  <tbody>\n",
       "    <tr>\n",
       "      <th>0</th>\n",
       "      <td>sana söylemem gereken bir şey var</td>\n",
       "      <td>3646</td>\n",
       "    </tr>\n",
       "    <tr>\n",
       "      <th>1</th>\n",
       "      <td>bir iki üç dört beş altı</td>\n",
       "      <td>2025</td>\n",
       "    </tr>\n",
       "    <tr>\n",
       "      <th>2</th>\n",
       "      <td>söylemek istediğin bir şey var mı</td>\n",
       "      <td>1794</td>\n",
       "    </tr>\n",
       "    <tr>\n",
       "      <th>3</th>\n",
       "      <td>daha iyi bir fikrin var mı</td>\n",
       "      <td>1792</td>\n",
       "    </tr>\n",
       "    <tr>\n",
       "      <th>4</th>\n",
       "      <td>bunun iyi bir fikir olduğunu sanmıyorum</td>\n",
       "      <td>1743</td>\n",
       "    </tr>\n",
       "    <tr>\n",
       "      <th>...</th>\n",
       "      <td>...</td>\n",
       "      <td>...</td>\n",
       "    </tr>\n",
       "    <tr>\n",
       "      <th>300159</th>\n",
       "      <td>bu çocuğun bir süper babaya ihtiyacı</td>\n",
       "      <td>9</td>\n",
       "    </tr>\n",
       "    <tr>\n",
       "      <th>300160</th>\n",
       "      <td>sadece yaranın üzerine baskı uygulamaya çalıştım</td>\n",
       "      <td>9</td>\n",
       "    </tr>\n",
       "    <tr>\n",
       "      <th>300161</th>\n",
       "      <td>tamam bir iki hafta içinde uğra</td>\n",
       "      <td>9</td>\n",
       "    </tr>\n",
       "    <tr>\n",
       "      <th>300162</th>\n",
       "      <td>bana şükran gününde ananas toplama sözü</td>\n",
       "      <td>9</td>\n",
       "    </tr>\n",
       "    <tr>\n",
       "      <th>300163</th>\n",
       "      <td>karı da var ama onun dışında</td>\n",
       "      <td>9</td>\n",
       "    </tr>\n",
       "  </tbody>\n",
       "</table>\n",
       "<p>300164 rows × 2 columns</p>\n",
       "</div>"
      ],
      "text/plain": [
       "                                                 sixgram  frequency\n",
       "0                      sana söylemem gereken bir şey var       3646\n",
       "1                               bir iki üç dört beş altı       2025\n",
       "2                      söylemek istediğin bir şey var mı       1794\n",
       "3                             daha iyi bir fikrin var mı       1792\n",
       "4                bunun iyi bir fikir olduğunu sanmıyorum       1743\n",
       "...                                                  ...        ...\n",
       "300159              bu çocuğun bir süper babaya ihtiyacı          9\n",
       "300160  sadece yaranın üzerine baskı uygulamaya çalıştım          9\n",
       "300161                   tamam bir iki hafta içinde uğra          9\n",
       "300162           bana şükran gününde ananas toplama sözü          9\n",
       "300163                      karı da var ama onun dışında          9\n",
       "\n",
       "[300164 rows x 2 columns]"
      ]
     },
     "execution_count": 15,
     "metadata": {},
     "output_type": "execute_result"
    }
   ],
   "source": [
    "#df_sixgram_select = pd.read_excel(f\"/media/kurubal/SSD/Data Scientist/Work/Modern Ways/Project/{lang_folder.lower().capitalize()}/Text Selection/\\\n",
    "#Data/1-Text Selection Data Prepare/Sixgram_Selected_10000.xlsx\")\n",
    "df_sixgram_select = pd.read_csv(f\"/media/kurubal/SSD/Data Scientist/Work/Modern Ways/Project/{lang_folder.lower().capitalize()}/Text Selection/\\\n",
    "Data/1-Text Selection Data Prepare/Sixgram_Selected.csv\")\n",
    "df_sixgram_select"
   ]
  },
  {
   "cell_type": "code",
   "execution_count": 16,
   "metadata": {},
   "outputs": [
    {
     "data": {
      "text/html": [
       "<div>\n",
       "<style scoped>\n",
       "    .dataframe tbody tr th:only-of-type {\n",
       "        vertical-align: middle;\n",
       "    }\n",
       "\n",
       "    .dataframe tbody tr th {\n",
       "        vertical-align: top;\n",
       "    }\n",
       "\n",
       "    .dataframe thead th {\n",
       "        text-align: right;\n",
       "    }\n",
       "</style>\n",
       "<table border=\"1\" class=\"dataframe\">\n",
       "  <thead>\n",
       "    <tr style=\"text-align: right;\">\n",
       "      <th></th>\n",
       "      <th>sevengram</th>\n",
       "      <th>frequency</th>\n",
       "    </tr>\n",
       "  </thead>\n",
       "  <tbody>\n",
       "    <tr>\n",
       "      <th>0</th>\n",
       "      <td>bir iki üç dört beş altı yedi</td>\n",
       "      <td>1455</td>\n",
       "    </tr>\n",
       "    <tr>\n",
       "      <th>1</th>\n",
       "      <td>iki üç dört beş altı yedi sekiz</td>\n",
       "      <td>1080</td>\n",
       "    </tr>\n",
       "    <tr>\n",
       "      <th>2</th>\n",
       "      <td>bana söylemek istediğin bir şey var mı</td>\n",
       "      <td>752</td>\n",
       "    </tr>\n",
       "    <tr>\n",
       "      <th>3</th>\n",
       "      <td>yedi altı beş dört üç iki bir</td>\n",
       "      <td>596</td>\n",
       "    </tr>\n",
       "    <tr>\n",
       "      <th>4</th>\n",
       "      <td>sekiz yedi altı beş dört üç iki</td>\n",
       "      <td>551</td>\n",
       "    </tr>\n",
       "    <tr>\n",
       "      <th>...</th>\n",
       "      <td>...</td>\n",
       "      <td>...</td>\n",
       "    </tr>\n",
       "    <tr>\n",
       "      <th>141654</th>\n",
       "      <td>akşam üçüncü ve muhtemelen son olarak yerde</td>\n",
       "      <td>9</td>\n",
       "    </tr>\n",
       "    <tr>\n",
       "      <th>141655</th>\n",
       "      <td>herifi durdurmak için sadece bir saat kırk</td>\n",
       "      <td>9</td>\n",
       "    </tr>\n",
       "    <tr>\n",
       "      <th>141656</th>\n",
       "      <td>görücü usulü evlenmek daha çok işe yarıyor</td>\n",
       "      <td>9</td>\n",
       "    </tr>\n",
       "    <tr>\n",
       "      <th>141657</th>\n",
       "      <td>konuda çok yanlış olduğundan kesinlikle eminim...</td>\n",
       "      <td>9</td>\n",
       "    </tr>\n",
       "    <tr>\n",
       "      <th>141658</th>\n",
       "      <td>sen sevgilimi çaldın ve onunla iki hafta</td>\n",
       "      <td>9</td>\n",
       "    </tr>\n",
       "  </tbody>\n",
       "</table>\n",
       "<p>141659 rows × 2 columns</p>\n",
       "</div>"
      ],
      "text/plain": [
       "                                                sevengram  frequency\n",
       "0                           bir iki üç dört beş altı yedi       1455\n",
       "1                         iki üç dört beş altı yedi sekiz       1080\n",
       "2                  bana söylemek istediğin bir şey var mı        752\n",
       "3                           yedi altı beş dört üç iki bir        596\n",
       "4                         sekiz yedi altı beş dört üç iki        551\n",
       "...                                                   ...        ...\n",
       "141654        akşam üçüncü ve muhtemelen son olarak yerde          9\n",
       "141655         herifi durdurmak için sadece bir saat kırk          9\n",
       "141656         görücü usulü evlenmek daha çok işe yarıyor          9\n",
       "141657  konuda çok yanlış olduğundan kesinlikle eminim...          9\n",
       "141658           sen sevgilimi çaldın ve onunla iki hafta          9\n",
       "\n",
       "[141659 rows x 2 columns]"
      ]
     },
     "execution_count": 16,
     "metadata": {},
     "output_type": "execute_result"
    }
   ],
   "source": [
    "#df_sevengram_select = pd.read_excel(f\"/media/kurubal/SSD/Data Scientist/Work/Modern Ways/Project/{lang_folder.lower().capitalize()}/Text Selection/\\\n",
    "#Data/1-Text Selection Data Prepare/Sevengram_Selected_10000.xlsx\")\n",
    "df_sevengram_select = pd.read_csv(f\"/media/kurubal/SSD/Data Scientist/Work/Modern Ways/Project/{lang_folder.lower().capitalize()}/Text Selection/\\\n",
    "Data/1-Text Selection Data Prepare/Sevengram_Selected.csv\")\n",
    "df_sevengram_select"
   ]
  },
  {
   "cell_type": "code",
   "execution_count": 17,
   "metadata": {},
   "outputs": [
    {
     "data": {
      "text/html": [
       "<div>\n",
       "<style scoped>\n",
       "    .dataframe tbody tr th:only-of-type {\n",
       "        vertical-align: middle;\n",
       "    }\n",
       "\n",
       "    .dataframe tbody tr th {\n",
       "        vertical-align: top;\n",
       "    }\n",
       "\n",
       "    .dataframe thead th {\n",
       "        text-align: right;\n",
       "    }\n",
       "</style>\n",
       "<table border=\"1\" class=\"dataframe\">\n",
       "  <thead>\n",
       "    <tr style=\"text-align: right;\">\n",
       "      <th></th>\n",
       "      <th>eightgram</th>\n",
       "      <th>frequency</th>\n",
       "    </tr>\n",
       "  </thead>\n",
       "  <tbody>\n",
       "    <tr>\n",
       "      <th>0</th>\n",
       "      <td>bir iki üç dört beş altı yedi sekiz</td>\n",
       "      <td>1060</td>\n",
       "    </tr>\n",
       "    <tr>\n",
       "      <th>1</th>\n",
       "      <td>dokuz sekiz yedi altı beş dört üç iki</td>\n",
       "      <td>513</td>\n",
       "    </tr>\n",
       "    <tr>\n",
       "      <th>2</th>\n",
       "      <td>sekiz yedi altı beş dört üç iki bir</td>\n",
       "      <td>497</td>\n",
       "    </tr>\n",
       "    <tr>\n",
       "      <th>3</th>\n",
       "      <td>iki üç dört beş altı yedi sekiz dokuz</td>\n",
       "      <td>411</td>\n",
       "    </tr>\n",
       "    <tr>\n",
       "      <th>4</th>\n",
       "      <td>üç dört beş altı yedi sekiz dokuz on</td>\n",
       "      <td>329</td>\n",
       "    </tr>\n",
       "    <tr>\n",
       "      <th>...</th>\n",
       "      <td>...</td>\n",
       "      <td>...</td>\n",
       "    </tr>\n",
       "    <tr>\n",
       "      <th>109469</th>\n",
       "      <td>ve bunu her yaptığında takım arkadaşlarından b...</td>\n",
       "      <td>7</td>\n",
       "    </tr>\n",
       "    <tr>\n",
       "      <th>109470</th>\n",
       "      <td>gizli gizli dolaşan genç bir haham imajı canla...</td>\n",
       "      <td>7</td>\n",
       "    </tr>\n",
       "    <tr>\n",
       "      <th>109471</th>\n",
       "      <td>için tek yol kahrolası paramı bana geri vermen</td>\n",
       "      <td>7</td>\n",
       "    </tr>\n",
       "    <tr>\n",
       "      <th>109472</th>\n",
       "      <td>teşkilatın görev kapsamında olsa bile görev se...</td>\n",
       "      <td>7</td>\n",
       "    </tr>\n",
       "    <tr>\n",
       "      <th>109473</th>\n",
       "      <td>zeki biri olarak sana yardım etmek benim görevim</td>\n",
       "      <td>7</td>\n",
       "    </tr>\n",
       "  </tbody>\n",
       "</table>\n",
       "<p>109474 rows × 2 columns</p>\n",
       "</div>"
      ],
      "text/plain": [
       "                                                eightgram  frequency\n",
       "0                     bir iki üç dört beş altı yedi sekiz       1060\n",
       "1                   dokuz sekiz yedi altı beş dört üç iki        513\n",
       "2                     sekiz yedi altı beş dört üç iki bir        497\n",
       "3                   iki üç dört beş altı yedi sekiz dokuz        411\n",
       "4                    üç dört beş altı yedi sekiz dokuz on        329\n",
       "...                                                   ...        ...\n",
       "109469  ve bunu her yaptığında takım arkadaşlarından b...          7\n",
       "109470  gizli gizli dolaşan genç bir haham imajı canla...          7\n",
       "109471     için tek yol kahrolası paramı bana geri vermen          7\n",
       "109472  teşkilatın görev kapsamında olsa bile görev se...          7\n",
       "109473   zeki biri olarak sana yardım etmek benim görevim          7\n",
       "\n",
       "[109474 rows x 2 columns]"
      ]
     },
     "execution_count": 17,
     "metadata": {},
     "output_type": "execute_result"
    }
   ],
   "source": [
    "#df_eightgram_select = pd.read_excel(f\"/media/kurubal/SSD/Data Scientist/Work/Modern Ways/Project/{lang_folder.lower().capitalize()}/Text Selection/\\\n",
    "#Data/1-Text Selection Data Prepare/Eightgram_Selected_10000.xlsx\")\n",
    "df_eightgram_select = pd.read_csv(f\"/media/kurubal/SSD/Data Scientist/Work/Modern Ways/Project/{lang_folder.lower().capitalize()}/Text Selection/\\\n",
    "Data/1-Text Selection Data Prepare/Eightgram_Selected.csv\")\n",
    "df_eightgram_select"
   ]
  },
  {
   "cell_type": "code",
   "execution_count": 18,
   "metadata": {},
   "outputs": [
    {
     "data": {
      "text/html": [
       "<div>\n",
       "<style scoped>\n",
       "    .dataframe tbody tr th:only-of-type {\n",
       "        vertical-align: middle;\n",
       "    }\n",
       "\n",
       "    .dataframe tbody tr th {\n",
       "        vertical-align: top;\n",
       "    }\n",
       "\n",
       "    .dataframe thead th {\n",
       "        text-align: right;\n",
       "    }\n",
       "</style>\n",
       "<table border=\"1\" class=\"dataframe\">\n",
       "  <thead>\n",
       "    <tr style=\"text-align: right;\">\n",
       "      <th></th>\n",
       "      <th>ninegram</th>\n",
       "      <th>frequency</th>\n",
       "    </tr>\n",
       "  </thead>\n",
       "  <tbody>\n",
       "    <tr>\n",
       "      <th>0</th>\n",
       "      <td>dokuz sekiz yedi altı beş dört üç iki bir</td>\n",
       "      <td>463</td>\n",
       "    </tr>\n",
       "    <tr>\n",
       "      <th>1</th>\n",
       "      <td>bir iki üç dört beş altı yedi sekiz dokuz</td>\n",
       "      <td>405</td>\n",
       "    </tr>\n",
       "    <tr>\n",
       "      <th>2</th>\n",
       "      <td>iki üç dört beş altı yedi sekiz dokuz on</td>\n",
       "      <td>287</td>\n",
       "    </tr>\n",
       "    <tr>\n",
       "      <th>3</th>\n",
       "      <td>on dokuz sekiz yedi altı beş dört üç iki</td>\n",
       "      <td>277</td>\n",
       "    </tr>\n",
       "    <tr>\n",
       "      <th>4</th>\n",
       "      <td>ve sen herkesin seni tanıdığı o yerde olmak is...</td>\n",
       "      <td>134</td>\n",
       "    </tr>\n",
       "    <tr>\n",
       "      <th>...</th>\n",
       "      <td>...</td>\n",
       "      <td>...</td>\n",
       "    </tr>\n",
       "    <tr>\n",
       "      <th>40393</th>\n",
       "      <td>artık sana kan nakli yapacak doktor hoffman da...</td>\n",
       "      <td>7</td>\n",
       "    </tr>\n",
       "    <tr>\n",
       "      <th>40394</th>\n",
       "      <td>senin ülken için potansiyel terörist teröristi...</td>\n",
       "      <td>7</td>\n",
       "    </tr>\n",
       "    <tr>\n",
       "      <th>40395</th>\n",
       "      <td>sabah dokuz gibi geçerken uğrarım bu yüzden ön...</td>\n",
       "      <td>7</td>\n",
       "    </tr>\n",
       "    <tr>\n",
       "      <th>40396</th>\n",
       "      <td>herkes benim iyi adam olduğuma inanmakta bu ka...</td>\n",
       "      <td>7</td>\n",
       "    </tr>\n",
       "    <tr>\n",
       "      <th>40397</th>\n",
       "      <td>crazy horse west gururla sunar bay sofistike v...</td>\n",
       "      <td>7</td>\n",
       "    </tr>\n",
       "  </tbody>\n",
       "</table>\n",
       "<p>40398 rows × 2 columns</p>\n",
       "</div>"
      ],
      "text/plain": [
       "                                                ninegram  frequency\n",
       "0              dokuz sekiz yedi altı beş dört üç iki bir        463\n",
       "1              bir iki üç dört beş altı yedi sekiz dokuz        405\n",
       "2               iki üç dört beş altı yedi sekiz dokuz on        287\n",
       "3               on dokuz sekiz yedi altı beş dört üç iki        277\n",
       "4      ve sen herkesin seni tanıdığı o yerde olmak is...        134\n",
       "...                                                  ...        ...\n",
       "40393  artık sana kan nakli yapacak doktor hoffman da...          7\n",
       "40394  senin ülken için potansiyel terörist teröristi...          7\n",
       "40395  sabah dokuz gibi geçerken uğrarım bu yüzden ön...          7\n",
       "40396  herkes benim iyi adam olduğuma inanmakta bu ka...          7\n",
       "40397  crazy horse west gururla sunar bay sofistike v...          7\n",
       "\n",
       "[40398 rows x 2 columns]"
      ]
     },
     "execution_count": 18,
     "metadata": {},
     "output_type": "execute_result"
    }
   ],
   "source": [
    "#df_ninegram_select = pd.read_excel(f\"/media/kurubal/SSD/Data Scientist/Work/Modern Ways/Project/{lang_folder.lower().capitalize()}/Text Selection/\\\n",
    "#Data/1-Text Selection Data Prepare/Ninegram_Selected_10000.xlsx\")\n",
    "df_ninegram_select = pd.read_csv(f\"/media/kurubal/SSD/Data Scientist/Work/Modern Ways/Project/{lang_folder.lower().capitalize()}/Text Selection/\\\n",
    "Data/1-Text Selection Data Prepare/Ninegram_Selected.csv\")\n",
    "df_ninegram_select"
   ]
  },
  {
   "cell_type": "code",
   "execution_count": 19,
   "metadata": {},
   "outputs": [
    {
     "data": {
      "text/html": [
       "<div>\n",
       "<style scoped>\n",
       "    .dataframe tbody tr th:only-of-type {\n",
       "        vertical-align: middle;\n",
       "    }\n",
       "\n",
       "    .dataframe tbody tr th {\n",
       "        vertical-align: top;\n",
       "    }\n",
       "\n",
       "    .dataframe thead th {\n",
       "        text-align: right;\n",
       "    }\n",
       "</style>\n",
       "<table border=\"1\" class=\"dataframe\">\n",
       "  <thead>\n",
       "    <tr style=\"text-align: right;\">\n",
       "      <th></th>\n",
       "      <th>tengram</th>\n",
       "      <th>frequency</th>\n",
       "    </tr>\n",
       "  </thead>\n",
       "  <tbody>\n",
       "    <tr>\n",
       "      <th>0</th>\n",
       "      <td>bir iki üç dört beş altı yedi sekiz dokuz on</td>\n",
       "      <td>287</td>\n",
       "    </tr>\n",
       "    <tr>\n",
       "      <th>1</th>\n",
       "      <td>on dokuz sekiz yedi altı beş dört üç iki bir</td>\n",
       "      <td>251</td>\n",
       "    </tr>\n",
       "    <tr>\n",
       "      <th>2</th>\n",
       "      <td>g i t a r i s y e n</td>\n",
       "      <td>128</td>\n",
       "    </tr>\n",
       "    <tr>\n",
       "      <th>3</th>\n",
       "      <td>t o x i c w o r l d</td>\n",
       "      <td>93</td>\n",
       "    </tr>\n",
       "    <tr>\n",
       "      <th>4</th>\n",
       "      <td>umutsuzca birinin arkasından koşuyorum daha gü...</td>\n",
       "      <td>76</td>\n",
       "    </tr>\n",
       "    <tr>\n",
       "      <th>...</th>\n",
       "      <td>...</td>\n",
       "      <td>...</td>\n",
       "    </tr>\n",
       "    <tr>\n",
       "      <th>30518</th>\n",
       "      <td>kendi ülken başkasının ülkesi ya da kendi kişi...</td>\n",
       "      <td>5</td>\n",
       "    </tr>\n",
       "    <tr>\n",
       "      <th>30519</th>\n",
       "      <td>son altı ay içinde aynı tarzda bir düzine soyg...</td>\n",
       "      <td>5</td>\n",
       "    </tr>\n",
       "    <tr>\n",
       "      <th>30520</th>\n",
       "      <td>benim hikayem birkaç yıl önce yayınlandı kendi...</td>\n",
       "      <td>5</td>\n",
       "    </tr>\n",
       "    <tr>\n",
       "      <th>30521</th>\n",
       "      <td>aslında ben bunun pek de kötü bir fikir olmadı...</td>\n",
       "      <td>5</td>\n",
       "    </tr>\n",
       "    <tr>\n",
       "      <th>30522</th>\n",
       "      <td>bu da hem kendim hem ailem için birçok sorun y...</td>\n",
       "      <td>5</td>\n",
       "    </tr>\n",
       "  </tbody>\n",
       "</table>\n",
       "<p>30523 rows × 2 columns</p>\n",
       "</div>"
      ],
      "text/plain": [
       "                                                 tengram  frequency\n",
       "0           bir iki üç dört beş altı yedi sekiz dokuz on        287\n",
       "1           on dokuz sekiz yedi altı beş dört üç iki bir        251\n",
       "2                                    g i t a r i s y e n        128\n",
       "3                                    t o x i c w o r l d         93\n",
       "4      umutsuzca birinin arkasından koşuyorum daha gü...         76\n",
       "...                                                  ...        ...\n",
       "30518  kendi ülken başkasının ülkesi ya da kendi kişi...          5\n",
       "30519  son altı ay içinde aynı tarzda bir düzine soyg...          5\n",
       "30520  benim hikayem birkaç yıl önce yayınlandı kendi...          5\n",
       "30521  aslında ben bunun pek de kötü bir fikir olmadı...          5\n",
       "30522  bu da hem kendim hem ailem için birçok sorun y...          5\n",
       "\n",
       "[30523 rows x 2 columns]"
      ]
     },
     "execution_count": 19,
     "metadata": {},
     "output_type": "execute_result"
    }
   ],
   "source": [
    "#df_tengram_select = pd.read_excel(f\"/media/kurubal/SSD/Data Scientist/Work/Modern Ways/Project/{lang_folder.lower().capitalize()}/Text Selection/\\\n",
    "#Data/1-Text Selection Data Prepare/Tengram_Selected_10000.xlsx\")\n",
    "df_tengram_select = pd.read_csv(f\"/media/kurubal/SSD/Data Scientist/Work/Modern Ways/Project/{lang_folder.lower().capitalize()}/Text Selection/\\\n",
    "Data/1-Text Selection Data Prepare/Tengram_Selected.csv\")\n",
    "df_tengram_select"
   ]
  },
  {
   "cell_type": "code",
   "execution_count": null,
   "metadata": {},
   "outputs": [],
   "source": []
  },
  {
   "cell_type": "markdown",
   "metadata": {},
   "source": [
    "#### Text Data Word-Word Group In Word Group"
   ]
  },
  {
   "cell_type": "code",
   "execution_count": 20,
   "metadata": {},
   "outputs": [],
   "source": [
    "word_list = df_word_select[\"word\"].to_list()\n",
    "twogram_list = df_twogram_select[\"twogram\"].to_list()\n",
    "threegram_list = df_threegram_select[\"threegram\"].to_list()\n",
    "fourgram_list = df_fourgram_select[\"fourgram\"].to_list()\n",
    "fivegram_list = df_fivegram_select[\"fivegram\"].to_list()\n",
    "sixgram_list = df_sixgram_select[\"sixgram\"].to_list()\n",
    "sevengram_list = df_sevengram_select[\"sevengram\"].to_list()\n",
    "eightgram_list = df_eightgram_select[\"eightgram\"].to_list()\n",
    "ninegram_list = df_ninegram_select[\"ninegram\"].to_list()\n",
    "tengram_list = df_tengram_select[\"tengram\"].to_list()"
   ]
  },
  {
   "cell_type": "code",
   "execution_count": 21,
   "metadata": {},
   "outputs": [],
   "source": [
    "#multi_wordgroup_in_wordgroup(word_list, df_twogram_select, \"twogram\")"
   ]
  },
  {
   "cell_type": "code",
   "execution_count": null,
   "metadata": {},
   "outputs": [],
   "source": []
  },
  {
   "cell_type": "markdown",
   "metadata": {},
   "source": [
    "##### Word"
   ]
  },
  {
   "cell_type": "code",
   "execution_count": 22,
   "metadata": {},
   "outputs": [],
   "source": [
    "# 1 Way Slow\n",
    "#df_word_in_two = word_in_wordgroup(word_list, df_twogram_select, \"twogram\", simple=True)\n",
    "#df_word_in_two"
   ]
  },
  {
   "cell_type": "code",
   "execution_count": 23,
   "metadata": {},
   "outputs": [
    {
     "data": {
      "text/html": [
       "<div>\n",
       "<style scoped>\n",
       "    .dataframe tbody tr th:only-of-type {\n",
       "        vertical-align: middle;\n",
       "    }\n",
       "\n",
       "    .dataframe tbody tr th {\n",
       "        vertical-align: top;\n",
       "    }\n",
       "\n",
       "    .dataframe thead th {\n",
       "        text-align: right;\n",
       "    }\n",
       "</style>\n",
       "<table border=\"1\" class=\"dataframe\">\n",
       "  <thead>\n",
       "    <tr style=\"text-align: right;\">\n",
       "      <th></th>\n",
       "      <th>word</th>\n",
       "      <th>twogram</th>\n",
       "    </tr>\n",
       "  </thead>\n",
       "  <tbody>\n",
       "    <tr>\n",
       "      <th>0</th>\n",
       "      <td>yapıyordun</td>\n",
       "      <td>ne yapıyordun</td>\n",
       "    </tr>\n",
       "    <tr>\n",
       "      <th>1</th>\n",
       "      <td>yapıyordun</td>\n",
       "      <td>iş yapıyordun</td>\n",
       "    </tr>\n",
       "    <tr>\n",
       "      <th>2</th>\n",
       "      <td>yapıyordun</td>\n",
       "      <td>mı yapıyordun</td>\n",
       "    </tr>\n",
       "    <tr>\n",
       "      <th>3</th>\n",
       "      <td>yapıyordun</td>\n",
       "      <td>mi yapıyordun</td>\n",
       "    </tr>\n",
       "    <tr>\n",
       "      <th>4</th>\n",
       "      <td>yapıyordun</td>\n",
       "      <td>yapıyordun sen</td>\n",
       "    </tr>\n",
       "    <tr>\n",
       "      <th>...</th>\n",
       "      <td>...</td>\n",
       "      <td>...</td>\n",
       "    </tr>\n",
       "    <tr>\n",
       "      <th>426664</th>\n",
       "      <td>ayrıntısına</td>\n",
       "      <td>ayrıntısına kadar</td>\n",
       "    </tr>\n",
       "    <tr>\n",
       "      <th>426665</th>\n",
       "      <td>ayrıntısına</td>\n",
       "      <td>ince ayrıntısına</td>\n",
       "    </tr>\n",
       "    <tr>\n",
       "      <th>426666</th>\n",
       "      <td>kardeşisin</td>\n",
       "      <td>onun kardeşisin</td>\n",
       "    </tr>\n",
       "    <tr>\n",
       "      <th>426667</th>\n",
       "      <td>kardeşisin</td>\n",
       "      <td>kız kardeşisin</td>\n",
       "    </tr>\n",
       "    <tr>\n",
       "      <th>426668</th>\n",
       "      <td>kaldırıyorsun</td>\n",
       "      <td>kadar kaldırıyorsun</td>\n",
       "    </tr>\n",
       "  </tbody>\n",
       "</table>\n",
       "<p>426669 rows × 2 columns</p>\n",
       "</div>"
      ],
      "text/plain": [
       "                 word              twogram\n",
       "0          yapıyordun        ne yapıyordun\n",
       "1          yapıyordun        iş yapıyordun\n",
       "2          yapıyordun        mı yapıyordun\n",
       "3          yapıyordun        mi yapıyordun\n",
       "4          yapıyordun       yapıyordun sen\n",
       "...               ...                  ...\n",
       "426664    ayrıntısına    ayrıntısına kadar\n",
       "426665    ayrıntısına     ince ayrıntısına\n",
       "426666     kardeşisin      onun kardeşisin\n",
       "426667     kardeşisin       kız kardeşisin\n",
       "426668  kaldırıyorsun  kadar kaldırıyorsun\n",
       "\n",
       "[426669 rows x 2 columns]"
      ]
     },
     "execution_count": 23,
     "metadata": {},
     "output_type": "execute_result"
    }
   ],
   "source": [
    "# 2 Way Fast\n",
    "# parameter\n",
    "source_wordgroup_list = word_list\n",
    "search_column_name = \"word\"\n",
    "target_column = \"twogram\"\n",
    "df_target = df_twogram_select\n",
    "\n",
    "# function\n",
    "searchlist = []\n",
    "resultlist = []\n",
    "manager = multiprocessing.Manager()\n",
    "resultlist = manager.list()\n",
    "searchlist = manager.list()\n",
    "\n",
    "def word_in_wordgroup(wordgroup):\n",
    "    try:\n",
    "        word_in_word_cluster = df_target[df_target[f\"{target_column}\"].str.contains(fr\"(?:\\s|^){wordgroup}(?:\\s|$)\", na=True)]\n",
    "        for result in word_in_word_cluster[f\"{target_column}\"]:\n",
    "            searchlist.append(wordgroup)\n",
    "            resultlist.append(result)\n",
    "    except:\n",
    "        pass\n",
    "\n",
    "if __name__ == '__main__':\n",
    "    # with Pool(16) as p:\n",
    "    with Pool(nprocs) as p: # Pool number CPU sayısına eşit olursa tüm CPU lar çalışır\n",
    "        p.map(word_in_wordgroup, source_wordgroup_list) # string_word liste\n",
    "\n",
    "search_list = list(searchlist)\n",
    "result_list = list(resultlist)\n",
    "df_word_in_two = pd.DataFrame([search_list,result_list]).transpose()\n",
    "df_word_in_two.columns = [f\"{search_column_name}\",f\"{target_column}\"]\n",
    "df_word_in_two"
   ]
  },
  {
   "cell_type": "code",
   "execution_count": 24,
   "metadata": {},
   "outputs": [
    {
     "data": {
      "text/plain": [
       "29823"
      ]
     },
     "execution_count": 24,
     "metadata": {},
     "output_type": "execute_result"
    }
   ],
   "source": [
    "df_word_in_two[\"word\"].nunique()"
   ]
  },
  {
   "cell_type": "code",
   "execution_count": 25,
   "metadata": {},
   "outputs": [
    {
     "data": {
      "text/html": [
       "<div>\n",
       "<style scoped>\n",
       "    .dataframe tbody tr th:only-of-type {\n",
       "        vertical-align: middle;\n",
       "    }\n",
       "\n",
       "    .dataframe tbody tr th {\n",
       "        vertical-align: top;\n",
       "    }\n",
       "\n",
       "    .dataframe thead th {\n",
       "        text-align: right;\n",
       "    }\n",
       "</style>\n",
       "<table border=\"1\" class=\"dataframe\">\n",
       "  <thead>\n",
       "    <tr style=\"text-align: right;\">\n",
       "      <th></th>\n",
       "      <th>word</th>\n",
       "      <th>twogram</th>\n",
       "    </tr>\n",
       "  </thead>\n",
       "  <tbody>\n",
       "    <tr>\n",
       "      <th>0</th>\n",
       "      <td>a</td>\n",
       "      <td>[l a, a evet, a j, a b, a aziz, and a, a ve, t...</td>\n",
       "    </tr>\n",
       "    <tr>\n",
       "      <th>1</th>\n",
       "      <td>aa</td>\n",
       "      <td>[aa evet, şey aa, aa bu, aa şey, aa öyle, aa h...</td>\n",
       "    </tr>\n",
       "    <tr>\n",
       "      <th>2</th>\n",
       "      <td>aaa</td>\n",
       "      <td>[aaa şey]</td>\n",
       "    </tr>\n",
       "    <tr>\n",
       "      <th>3</th>\n",
       "      <td>aah</td>\n",
       "      <td>[aah o, aah en]</td>\n",
       "    </tr>\n",
       "    <tr>\n",
       "      <th>4</th>\n",
       "      <td>aang</td>\n",
       "      <td>[aang adında, aang adlı]</td>\n",
       "    </tr>\n",
       "    <tr>\n",
       "      <th>...</th>\n",
       "      <td>...</td>\n",
       "      <td>...</td>\n",
       "    </tr>\n",
       "    <tr>\n",
       "      <th>29818</th>\n",
       "      <td>şık</td>\n",
       "      <td>[çok şık, şık bir, şık görünüyorsun, kadar şık...</td>\n",
       "    </tr>\n",
       "    <tr>\n",
       "      <th>29819</th>\n",
       "      <td>şımarık</td>\n",
       "      <td>[şımarık bir, şımarık ve, seni şımarık]</td>\n",
       "    </tr>\n",
       "    <tr>\n",
       "      <th>29820</th>\n",
       "      <td>şınav</td>\n",
       "      <td>[şınav çek]</td>\n",
       "    </tr>\n",
       "    <tr>\n",
       "      <th>29821</th>\n",
       "      <td>şırınga</td>\n",
       "      <td>[bir şırınga]</td>\n",
       "    </tr>\n",
       "    <tr>\n",
       "      <th>29822</th>\n",
       "      <td>şşş</td>\n",
       "      <td>[şşş şşş, şşş sessiz]</td>\n",
       "    </tr>\n",
       "  </tbody>\n",
       "</table>\n",
       "<p>29823 rows × 2 columns</p>\n",
       "</div>"
      ],
      "text/plain": [
       "          word                                            twogram\n",
       "0            a  [l a, a evet, a j, a b, a aziz, and a, a ve, t...\n",
       "1           aa  [aa evet, şey aa, aa bu, aa şey, aa öyle, aa h...\n",
       "2          aaa                                          [aaa şey]\n",
       "3          aah                                    [aah o, aah en]\n",
       "4         aang                           [aang adında, aang adlı]\n",
       "...        ...                                                ...\n",
       "29818      şık  [çok şık, şık bir, şık görünüyorsun, kadar şık...\n",
       "29819  şımarık            [şımarık bir, şımarık ve, seni şımarık]\n",
       "29820    şınav                                        [şınav çek]\n",
       "29821  şırınga                                      [bir şırınga]\n",
       "29822      şşş                              [şşş şşş, şşş sessiz]\n",
       "\n",
       "[29823 rows x 2 columns]"
      ]
     },
     "execution_count": 25,
     "metadata": {},
     "output_type": "execute_result"
    }
   ],
   "source": [
    "df_word_in_two_list = df_word_in_two.groupby([\"word\"])[\"twogram\"].apply(list).reset_index(name=\"twogram\")\n",
    "df_word_in_two_list"
   ]
  },
  {
   "cell_type": "code",
   "execution_count": 26,
   "metadata": {},
   "outputs": [],
   "source": [
    "#df_word_in_two_list.to_excel(f\"{lang_folder.capitalize()}_Word_Text_Selection_Result.xlsx\", index=False)"
   ]
  },
  {
   "cell_type": "code",
   "execution_count": 27,
   "metadata": {},
   "outputs": [
    {
     "data": {
      "text/html": [
       "<div>\n",
       "<style scoped>\n",
       "    .dataframe tbody tr th:only-of-type {\n",
       "        vertical-align: middle;\n",
       "    }\n",
       "\n",
       "    .dataframe tbody tr th {\n",
       "        vertical-align: top;\n",
       "    }\n",
       "\n",
       "    .dataframe thead th {\n",
       "        text-align: right;\n",
       "    }\n",
       "</style>\n",
       "<table border=\"1\" class=\"dataframe\">\n",
       "  <thead>\n",
       "    <tr style=\"text-align: right;\">\n",
       "      <th></th>\n",
       "      <th>word</th>\n",
       "      <th>threegram</th>\n",
       "    </tr>\n",
       "  </thead>\n",
       "  <tbody>\n",
       "    <tr>\n",
       "      <th>0</th>\n",
       "      <td>başkasının</td>\n",
       "      <td>sadece bir başkasının</td>\n",
       "    </tr>\n",
       "    <tr>\n",
       "      <th>1</th>\n",
       "      <td>başkasının</td>\n",
       "      <td>ya da başkasının</td>\n",
       "    </tr>\n",
       "    <tr>\n",
       "      <th>2</th>\n",
       "      <td>başkasının</td>\n",
       "      <td>ne de başkasının</td>\n",
       "    </tr>\n",
       "    <tr>\n",
       "      <th>3</th>\n",
       "      <td>başkasının</td>\n",
       "      <td>bir başkasının daha</td>\n",
       "    </tr>\n",
       "    <tr>\n",
       "      <th>4</th>\n",
       "      <td>başkasının</td>\n",
       "      <td>de bir başkasının</td>\n",
       "    </tr>\n",
       "    <tr>\n",
       "      <th>...</th>\n",
       "      <td>...</td>\n",
       "      <td>...</td>\n",
       "    </tr>\n",
       "    <tr>\n",
       "      <th>919657</th>\n",
       "      <td>ayrıntısına</td>\n",
       "      <td>ince ayrıntısına kadar</td>\n",
       "    </tr>\n",
       "    <tr>\n",
       "      <th>919658</th>\n",
       "      <td>ayrıntısına</td>\n",
       "      <td>ufak ayrıntısına kadar</td>\n",
       "    </tr>\n",
       "    <tr>\n",
       "      <th>919659</th>\n",
       "      <td>ayrıntısına</td>\n",
       "      <td>en ufak ayrıntısına</td>\n",
       "    </tr>\n",
       "    <tr>\n",
       "      <th>919660</th>\n",
       "      <td>kardeşisin</td>\n",
       "      <td>kardeşisin değil mi</td>\n",
       "    </tr>\n",
       "    <tr>\n",
       "      <th>919661</th>\n",
       "      <td>kardeşisin</td>\n",
       "      <td>onun kız kardeşisin</td>\n",
       "    </tr>\n",
       "  </tbody>\n",
       "</table>\n",
       "<p>919662 rows × 2 columns</p>\n",
       "</div>"
      ],
      "text/plain": [
       "               word               threegram\n",
       "0        başkasının   sadece bir başkasının\n",
       "1        başkasının        ya da başkasının\n",
       "2        başkasının        ne de başkasının\n",
       "3        başkasının     bir başkasının daha\n",
       "4        başkasının       de bir başkasının\n",
       "...             ...                     ...\n",
       "919657  ayrıntısına  ince ayrıntısına kadar\n",
       "919658  ayrıntısına  ufak ayrıntısına kadar\n",
       "919659  ayrıntısına     en ufak ayrıntısına\n",
       "919660   kardeşisin     kardeşisin değil mi\n",
       "919661   kardeşisin     onun kız kardeşisin\n",
       "\n",
       "[919662 rows x 2 columns]"
      ]
     },
     "execution_count": 27,
     "metadata": {},
     "output_type": "execute_result"
    }
   ],
   "source": [
    "# parameter\n",
    "source_wordgroup_list = word_list\n",
    "search_column_name = \"word\"\n",
    "target_column = \"threegram\"\n",
    "df_target = df_threegram_select\n",
    "\n",
    "# function\n",
    "searchlist = []\n",
    "resultlist = []\n",
    "manager = multiprocessing.Manager()\n",
    "resultlist = manager.list()\n",
    "searchlist = manager.list()\n",
    "\n",
    "def word_in_wordgroup(wordgroup):\n",
    "    try:\n",
    "        word_in_word_cluster = df_target[df_target[f\"{target_column}\"].str.contains(fr\"(?:\\s|^){wordgroup}(?:\\s|$)\", na=True)]\n",
    "        for result in word_in_word_cluster[f\"{target_column}\"]:\n",
    "            searchlist.append(wordgroup)\n",
    "            resultlist.append(result)\n",
    "    except:\n",
    "        pass\n",
    "\n",
    "if __name__ == '__main__':\n",
    "    # with Pool(16) as p:\n",
    "    with Pool(nprocs-2) as p: # Pool number CPU sayısına eşit olursa tüm CPU lar çalışır nprocs\n",
    "        p.map(word_in_wordgroup, source_wordgroup_list) # string_word liste\n",
    "\n",
    "search_list = list(searchlist)\n",
    "result_list = list(resultlist)\n",
    "df_word_in_three = pd.DataFrame([search_list,result_list]).transpose()\n",
    "df_word_in_three.columns = [f\"{search_column_name}\",f\"{target_column}\"]\n",
    "df_word_in_three"
   ]
  },
  {
   "cell_type": "code",
   "execution_count": 28,
   "metadata": {},
   "outputs": [
    {
     "data": {
      "text/html": [
       "<div>\n",
       "<style scoped>\n",
       "    .dataframe tbody tr th:only-of-type {\n",
       "        vertical-align: middle;\n",
       "    }\n",
       "\n",
       "    .dataframe tbody tr th {\n",
       "        vertical-align: top;\n",
       "    }\n",
       "\n",
       "    .dataframe thead th {\n",
       "        text-align: right;\n",
       "    }\n",
       "</style>\n",
       "<table border=\"1\" class=\"dataframe\">\n",
       "  <thead>\n",
       "    <tr style=\"text-align: right;\">\n",
       "      <th></th>\n",
       "      <th>word</th>\n",
       "      <th>threegram</th>\n",
       "    </tr>\n",
       "  </thead>\n",
       "  <tbody>\n",
       "    <tr>\n",
       "      <th>0</th>\n",
       "      <td>a</td>\n",
       "      <td>[a ve b, a b c, two and a, a r i, t a r, i t a...</td>\n",
       "    </tr>\n",
       "    <tr>\n",
       "      <th>1</th>\n",
       "      <td>aah</td>\n",
       "      <td>[aah o günkü, aah en uzun, aah o gün]</td>\n",
       "    </tr>\n",
       "    <tr>\n",
       "      <th>2</th>\n",
       "      <td>aang</td>\n",
       "      <td>[aang adında bir, aang adlı bir]</td>\n",
       "    </tr>\n",
       "    <tr>\n",
       "      <th>3</th>\n",
       "      <td>ab</td>\n",
       "      <td>[kan grubu ab]</td>\n",
       "    </tr>\n",
       "    <tr>\n",
       "      <th>4</th>\n",
       "      <td>abartma</td>\n",
       "      <td>[kadar da abartma, bu kadar abartma, o kadar a...</td>\n",
       "    </tr>\n",
       "    <tr>\n",
       "      <th>...</th>\n",
       "      <td>...</td>\n",
       "      <td>...</td>\n",
       "    </tr>\n",
       "    <tr>\n",
       "      <th>24427</th>\n",
       "      <td>şüphesi</td>\n",
       "      <td>[kimsenin şüphesi yok]</td>\n",
       "    </tr>\n",
       "    <tr>\n",
       "      <th>24428</th>\n",
       "      <td>şüphesiz</td>\n",
       "      <td>[hiç şüphesiz bu, hiç şüphesiz ki, şüphesiz ki...</td>\n",
       "    </tr>\n",
       "    <tr>\n",
       "      <th>24429</th>\n",
       "      <td>şüpheye</td>\n",
       "      <td>[şüpheye yer bırakmayacak]</td>\n",
       "    </tr>\n",
       "    <tr>\n",
       "      <th>24430</th>\n",
       "      <td>şık</td>\n",
       "      <td>[çok şık bir, şık bir yer, ne kadar şık, şık b...</td>\n",
       "    </tr>\n",
       "    <tr>\n",
       "      <th>24431</th>\n",
       "      <td>şımarık</td>\n",
       "      <td>[şımarık bir çocuk, şımarık bir velet]</td>\n",
       "    </tr>\n",
       "  </tbody>\n",
       "</table>\n",
       "<p>24432 rows × 2 columns</p>\n",
       "</div>"
      ],
      "text/plain": [
       "           word                                          threegram\n",
       "0             a  [a ve b, a b c, two and a, a r i, t a r, i t a...\n",
       "1           aah              [aah o günkü, aah en uzun, aah o gün]\n",
       "2          aang                   [aang adında bir, aang adlı bir]\n",
       "3            ab                                     [kan grubu ab]\n",
       "4       abartma  [kadar da abartma, bu kadar abartma, o kadar a...\n",
       "...         ...                                                ...\n",
       "24427   şüphesi                             [kimsenin şüphesi yok]\n",
       "24428  şüphesiz  [hiç şüphesiz bu, hiç şüphesiz ki, şüphesiz ki...\n",
       "24429   şüpheye                         [şüpheye yer bırakmayacak]\n",
       "24430       şık  [çok şık bir, şık bir yer, ne kadar şık, şık b...\n",
       "24431   şımarık             [şımarık bir çocuk, şımarık bir velet]\n",
       "\n",
       "[24432 rows x 2 columns]"
      ]
     },
     "execution_count": 28,
     "metadata": {},
     "output_type": "execute_result"
    }
   ],
   "source": [
    "df_word_in_three_list = df_word_in_three.groupby([\"word\"])[\"threegram\"].apply(list).reset_index(name=\"threegram\")\n",
    "df_word_in_three_list"
   ]
  },
  {
   "cell_type": "code",
   "execution_count": 29,
   "metadata": {},
   "outputs": [
    {
     "data": {
      "text/plain": [
       "24432"
      ]
     },
     "execution_count": 29,
     "metadata": {},
     "output_type": "execute_result"
    }
   ],
   "source": [
    "df_word_in_three[\"word\"].nunique()"
   ]
  },
  {
   "cell_type": "code",
   "execution_count": 30,
   "metadata": {},
   "outputs": [
    {
     "data": {
      "text/html": [
       "<div>\n",
       "<style scoped>\n",
       "    .dataframe tbody tr th:only-of-type {\n",
       "        vertical-align: middle;\n",
       "    }\n",
       "\n",
       "    .dataframe tbody tr th {\n",
       "        vertical-align: top;\n",
       "    }\n",
       "\n",
       "    .dataframe thead th {\n",
       "        text-align: right;\n",
       "    }\n",
       "</style>\n",
       "<table border=\"1\" class=\"dataframe\">\n",
       "  <thead>\n",
       "    <tr style=\"text-align: right;\">\n",
       "      <th></th>\n",
       "      <th>word</th>\n",
       "      <th>fourgram</th>\n",
       "    </tr>\n",
       "  </thead>\n",
       "  <tbody>\n",
       "    <tr>\n",
       "      <th>0</th>\n",
       "      <td>güvenli</td>\n",
       "      <td>seni güvenli bir yere</td>\n",
       "    </tr>\n",
       "    <tr>\n",
       "      <th>1</th>\n",
       "      <td>güvenli</td>\n",
       "      <td>güvenli bir yere götür</td>\n",
       "    </tr>\n",
       "    <tr>\n",
       "      <th>2</th>\n",
       "      <td>güvenli</td>\n",
       "      <td>onu güvenli bir yere</td>\n",
       "    </tr>\n",
       "    <tr>\n",
       "      <th>3</th>\n",
       "      <td>güvenli</td>\n",
       "      <td>için güvenli bir yer</td>\n",
       "    </tr>\n",
       "    <tr>\n",
       "      <th>4</th>\n",
       "      <td>güvenli</td>\n",
       "      <td>daha güvenli bir yere</td>\n",
       "    </tr>\n",
       "    <tr>\n",
       "      <th>...</th>\n",
       "      <td>...</td>\n",
       "      <td>...</td>\n",
       "    </tr>\n",
       "    <tr>\n",
       "      <th>1544435</th>\n",
       "      <td>ayrıntısına</td>\n",
       "      <td>en ince ayrıntısına kadar</td>\n",
       "    </tr>\n",
       "    <tr>\n",
       "      <th>1544436</th>\n",
       "      <td>ayrıntısına</td>\n",
       "      <td>en ufak ayrıntısına kadar</td>\n",
       "    </tr>\n",
       "    <tr>\n",
       "      <th>1544437</th>\n",
       "      <td>ayrıntısına</td>\n",
       "      <td>şeyi en ince ayrıntısına</td>\n",
       "    </tr>\n",
       "    <tr>\n",
       "      <th>1544438</th>\n",
       "      <td>kardeşisin</td>\n",
       "      <td>de onun kız kardeşisin</td>\n",
       "    </tr>\n",
       "    <tr>\n",
       "      <th>1544439</th>\n",
       "      <td>kardeşisin</td>\n",
       "      <td>kız kardeşisin değil mi</td>\n",
       "    </tr>\n",
       "  </tbody>\n",
       "</table>\n",
       "<p>1544440 rows × 2 columns</p>\n",
       "</div>"
      ],
      "text/plain": [
       "                word                   fourgram\n",
       "0            güvenli      seni güvenli bir yere\n",
       "1            güvenli     güvenli bir yere götür\n",
       "2            güvenli       onu güvenli bir yere\n",
       "3            güvenli       için güvenli bir yer\n",
       "4            güvenli      daha güvenli bir yere\n",
       "...              ...                        ...\n",
       "1544435  ayrıntısına  en ince ayrıntısına kadar\n",
       "1544436  ayrıntısına  en ufak ayrıntısına kadar\n",
       "1544437  ayrıntısına   şeyi en ince ayrıntısına\n",
       "1544438   kardeşisin     de onun kız kardeşisin\n",
       "1544439   kardeşisin    kız kardeşisin değil mi\n",
       "\n",
       "[1544440 rows x 2 columns]"
      ]
     },
     "execution_count": 30,
     "metadata": {},
     "output_type": "execute_result"
    }
   ],
   "source": [
    "# parameter\n",
    "source_wordgroup_list = word_list\n",
    "search_column_name = \"word\"\n",
    "target_column = \"fourgram\"\n",
    "df_target = df_fourgram_select\n",
    "\n",
    "# function\n",
    "searchlist = []\n",
    "resultlist = []\n",
    "manager = multiprocessing.Manager()\n",
    "resultlist = manager.list()\n",
    "searchlist = manager.list()\n",
    "\n",
    "def word_in_wordgroup(wordgroup):\n",
    "    try:\n",
    "        word_in_word_cluster = df_target[df_target[f\"{target_column}\"].str.contains(fr\"(?:\\s|^){wordgroup}(?:\\s|$)\", na=True)]\n",
    "        for result in word_in_word_cluster[f\"{target_column}\"]:\n",
    "            searchlist.append(wordgroup)\n",
    "            resultlist.append(result)\n",
    "    except:\n",
    "        pass\n",
    "\n",
    "if __name__ == '__main__':\n",
    "    # with Pool(16) as p:\n",
    "    with Pool(nprocs-2) as p: # Pool number CPU sayısına eşit olursa tüm CPU lar çalışır nprocs\n",
    "        p.map(word_in_wordgroup, source_wordgroup_list) # string_word liste\n",
    "\n",
    "search_list = list(searchlist)\n",
    "result_list = list(resultlist)\n",
    "df_word_in_four = pd.DataFrame([search_list,result_list]).transpose()\n",
    "df_word_in_four.columns = [f\"{search_column_name}\",f\"{target_column}\"]\n",
    "df_word_in_four"
   ]
  },
  {
   "cell_type": "code",
   "execution_count": 31,
   "metadata": {},
   "outputs": [
    {
     "data": {
      "text/html": [
       "<div>\n",
       "<style scoped>\n",
       "    .dataframe tbody tr th:only-of-type {\n",
       "        vertical-align: middle;\n",
       "    }\n",
       "\n",
       "    .dataframe tbody tr th {\n",
       "        vertical-align: top;\n",
       "    }\n",
       "\n",
       "    .dataframe thead th {\n",
       "        text-align: right;\n",
       "    }\n",
       "</style>\n",
       "<table border=\"1\" class=\"dataframe\">\n",
       "  <thead>\n",
       "    <tr style=\"text-align: right;\">\n",
       "      <th></th>\n",
       "      <th>word</th>\n",
       "      <th>fourgram</th>\n",
       "    </tr>\n",
       "  </thead>\n",
       "  <tbody>\n",
       "    <tr>\n",
       "      <th>0</th>\n",
       "      <td>a</td>\n",
       "      <td>[a b c d, i t a r, g i t a, a r i s, t a r i, ...</td>\n",
       "    </tr>\n",
       "    <tr>\n",
       "      <th>1</th>\n",
       "      <td>aa</td>\n",
       "      <td>[aa şey aa yani, ah aa bilirsin şey, aa yani t...</td>\n",
       "    </tr>\n",
       "    <tr>\n",
       "      <th>2</th>\n",
       "      <td>aaa</td>\n",
       "      <td>[aaa yoksa bu öyle, benimle aaa evlenir misin,...</td>\n",
       "    </tr>\n",
       "    <tr>\n",
       "      <th>3</th>\n",
       "      <td>aaaah</td>\n",
       "      <td>[aaaah sadece bir saniyeliğine]</td>\n",
       "    </tr>\n",
       "    <tr>\n",
       "      <th>4</th>\n",
       "      <td>aaah</td>\n",
       "      <td>[hiç aaah diye bağırıp, aaah diye bağırıp havaya]</td>\n",
       "    </tr>\n",
       "    <tr>\n",
       "      <th>...</th>\n",
       "      <td>...</td>\n",
       "      <td>...</td>\n",
       "    </tr>\n",
       "    <tr>\n",
       "      <th>34299</th>\n",
       "      <td>şüphesiz</td>\n",
       "      <td>[şüphesiz ki var bir, hiç şüphesiz bu bir, şüp...</td>\n",
       "    </tr>\n",
       "    <tr>\n",
       "      <th>34300</th>\n",
       "      <td>şüpheye</td>\n",
       "      <td>[en ufak bir şüpheye, parkın güvenliği hakkınd...</td>\n",
       "    </tr>\n",
       "    <tr>\n",
       "      <th>34301</th>\n",
       "      <td>şüpheyle</td>\n",
       "      <td>[şüpheyle yaklaşıyorum tabii kendi]</td>\n",
       "    </tr>\n",
       "    <tr>\n",
       "      <th>34302</th>\n",
       "      <td>şık</td>\n",
       "      <td>[ne kadar da şık, bu çok şık bir, burası çok ş...</td>\n",
       "    </tr>\n",
       "    <tr>\n",
       "      <th>34303</th>\n",
       "      <td>şımarık</td>\n",
       "      <td>[şımarık bir çocuk gibi, öyle kır hepsini şıma...</td>\n",
       "    </tr>\n",
       "  </tbody>\n",
       "</table>\n",
       "<p>34304 rows × 2 columns</p>\n",
       "</div>"
      ],
      "text/plain": [
       "           word                                           fourgram\n",
       "0             a  [a b c d, i t a r, g i t a, a r i s, t a r i, ...\n",
       "1            aa  [aa şey aa yani, ah aa bilirsin şey, aa yani t...\n",
       "2           aaa  [aaa yoksa bu öyle, benimle aaa evlenir misin,...\n",
       "3         aaaah                    [aaaah sadece bir saniyeliğine]\n",
       "4          aaah  [hiç aaah diye bağırıp, aaah diye bağırıp havaya]\n",
       "...         ...                                                ...\n",
       "34299  şüphesiz  [şüphesiz ki var bir, hiç şüphesiz bu bir, şüp...\n",
       "34300   şüpheye  [en ufak bir şüpheye, parkın güvenliği hakkınd...\n",
       "34301  şüpheyle                [şüpheyle yaklaşıyorum tabii kendi]\n",
       "34302       şık  [ne kadar da şık, bu çok şık bir, burası çok ş...\n",
       "34303   şımarık  [şımarık bir çocuk gibi, öyle kır hepsini şıma...\n",
       "\n",
       "[34304 rows x 2 columns]"
      ]
     },
     "execution_count": 31,
     "metadata": {},
     "output_type": "execute_result"
    }
   ],
   "source": [
    "df_word_in_four_list = df_word_in_four.groupby([\"word\"])[\"fourgram\"].apply(list).reset_index(name=\"fourgram\")\n",
    "df_word_in_four_list"
   ]
  },
  {
   "cell_type": "code",
   "execution_count": 32,
   "metadata": {},
   "outputs": [
    {
     "data": {
      "text/html": [
       "<div>\n",
       "<style scoped>\n",
       "    .dataframe tbody tr th:only-of-type {\n",
       "        vertical-align: middle;\n",
       "    }\n",
       "\n",
       "    .dataframe tbody tr th {\n",
       "        vertical-align: top;\n",
       "    }\n",
       "\n",
       "    .dataframe thead th {\n",
       "        text-align: right;\n",
       "    }\n",
       "</style>\n",
       "<table border=\"1\" class=\"dataframe\">\n",
       "  <thead>\n",
       "    <tr style=\"text-align: right;\">\n",
       "      <th></th>\n",
       "      <th>word</th>\n",
       "      <th>fivegram</th>\n",
       "    </tr>\n",
       "  </thead>\n",
       "  <tbody>\n",
       "    <tr>\n",
       "      <th>0</th>\n",
       "      <td>ifadesi</td>\n",
       "      <td>ifadesi olarak bu küçük hediyeyi</td>\n",
       "    </tr>\n",
       "    <tr>\n",
       "      <th>1</th>\n",
       "      <td>ifadesi</td>\n",
       "      <td>ve aptal bir yüz ifadesi</td>\n",
       "    </tr>\n",
       "    <tr>\n",
       "      <th>2</th>\n",
       "      <td>ifadesi</td>\n",
       "      <td>mart tarihinde alınan yeminli ifadesi</td>\n",
       "    </tr>\n",
       "    <tr>\n",
       "      <th>3</th>\n",
       "      <td>ifadesi</td>\n",
       "      <td>ifadesi belirsiz ve bir kanıtı</td>\n",
       "    </tr>\n",
       "    <tr>\n",
       "      <th>4</th>\n",
       "      <td>istemedi</td>\n",
       "      <td>kimse senden babayı oynamanı istemedi</td>\n",
       "    </tr>\n",
       "    <tr>\n",
       "      <th>...</th>\n",
       "      <td>...</td>\n",
       "      <td>...</td>\n",
       "    </tr>\n",
       "    <tr>\n",
       "      <th>606403</th>\n",
       "      <td>açılışını</td>\n",
       "      <td>aynı drama açılışını defalarca kez</td>\n",
       "    </tr>\n",
       "    <tr>\n",
       "      <th>606404</th>\n",
       "      <td>batıyoruz</td>\n",
       "      <td>batıyoruz ve gücümüz de yok</td>\n",
       "    </tr>\n",
       "    <tr>\n",
       "      <th>606405</th>\n",
       "      <td>ayrıntısına</td>\n",
       "      <td>şeyi en ince ayrıntısına kadar</td>\n",
       "    </tr>\n",
       "    <tr>\n",
       "      <th>606406</th>\n",
       "      <td>ayrıntısına</td>\n",
       "      <td>her şeyi en ince ayrıntısına</td>\n",
       "    </tr>\n",
       "    <tr>\n",
       "      <th>606407</th>\n",
       "      <td>kardeşisin</td>\n",
       "      <td>sen de onun kız kardeşisin</td>\n",
       "    </tr>\n",
       "  </tbody>\n",
       "</table>\n",
       "<p>606408 rows × 2 columns</p>\n",
       "</div>"
      ],
      "text/plain": [
       "               word                               fivegram\n",
       "0           ifadesi       ifadesi olarak bu küçük hediyeyi\n",
       "1           ifadesi               ve aptal bir yüz ifadesi\n",
       "2           ifadesi  mart tarihinde alınan yeminli ifadesi\n",
       "3           ifadesi         ifadesi belirsiz ve bir kanıtı\n",
       "4          istemedi  kimse senden babayı oynamanı istemedi\n",
       "...             ...                                    ...\n",
       "606403    açılışını     aynı drama açılışını defalarca kez\n",
       "606404    batıyoruz            batıyoruz ve gücümüz de yok\n",
       "606405  ayrıntısına         şeyi en ince ayrıntısına kadar\n",
       "606406  ayrıntısına           her şeyi en ince ayrıntısına\n",
       "606407   kardeşisin             sen de onun kız kardeşisin\n",
       "\n",
       "[606408 rows x 2 columns]"
      ]
     },
     "execution_count": 32,
     "metadata": {},
     "output_type": "execute_result"
    }
   ],
   "source": [
    "# parameter\n",
    "source_wordgroup_list = word_list\n",
    "search_column_name = \"word\"\n",
    "target_column = \"fivegram\"\n",
    "df_target = df_fivegram_select\n",
    "\n",
    "# function\n",
    "searchlist = []\n",
    "resultlist = []\n",
    "manager = multiprocessing.Manager()\n",
    "resultlist = manager.list()\n",
    "searchlist = manager.list()\n",
    "\n",
    "def word_in_wordgroup(wordgroup):\n",
    "    try:\n",
    "        word_in_word_cluster = df_target[df_target[f\"{target_column}\"].str.contains(fr\"(?:\\s|^){wordgroup}(?:\\s|$)\", na=True)]\n",
    "        for result in word_in_word_cluster[f\"{target_column}\"]:\n",
    "            searchlist.append(wordgroup)\n",
    "            resultlist.append(result)\n",
    "    except:\n",
    "        pass\n",
    "\n",
    "if __name__ == '__main__':\n",
    "    # with Pool(16) as p:\n",
    "    with Pool(nprocs-2) as p: # Pool number CPU sayısına eşit olursa tüm CPU lar çalışır nprocs\n",
    "        p.map(word_in_wordgroup, source_wordgroup_list) # string_word liste\n",
    "\n",
    "search_list = list(searchlist)\n",
    "result_list = list(resultlist)\n",
    "df_word_in_five = pd.DataFrame([search_list,result_list]).transpose()\n",
    "df_word_in_five.columns = [f\"{search_column_name}\",f\"{target_column}\"]\n",
    "df_word_in_five"
   ]
  },
  {
   "cell_type": "code",
   "execution_count": 33,
   "metadata": {},
   "outputs": [
    {
     "data": {
      "text/html": [
       "<div>\n",
       "<style scoped>\n",
       "    .dataframe tbody tr th:only-of-type {\n",
       "        vertical-align: middle;\n",
       "    }\n",
       "\n",
       "    .dataframe tbody tr th {\n",
       "        vertical-align: top;\n",
       "    }\n",
       "\n",
       "    .dataframe thead th {\n",
       "        text-align: right;\n",
       "    }\n",
       "</style>\n",
       "<table border=\"1\" class=\"dataframe\">\n",
       "  <thead>\n",
       "    <tr style=\"text-align: right;\">\n",
       "      <th></th>\n",
       "      <th>word</th>\n",
       "      <th>fivegram</th>\n",
       "    </tr>\n",
       "  </thead>\n",
       "  <tbody>\n",
       "    <tr>\n",
       "      <th>0</th>\n",
       "      <td>a</td>\n",
       "      <td>[take a woman like you, i t a r i, t a r i s, ...</td>\n",
       "    </tr>\n",
       "    <tr>\n",
       "      <th>1</th>\n",
       "      <td>aa</td>\n",
       "      <td>[şey aa yani tüm kasabaya, hiç de iyi değil bu...</td>\n",
       "    </tr>\n",
       "    <tr>\n",
       "      <th>2</th>\n",
       "      <td>aaa</td>\n",
       "      <td>[aaa yoksa bu öyle bir, aaa şey çünkü daha faz...</td>\n",
       "    </tr>\n",
       "    <tr>\n",
       "      <th>3</th>\n",
       "      <td>aaah</td>\n",
       "      <td>[hiç aaah diye bağırıp havaya, aaah diye bağır...</td>\n",
       "    </tr>\n",
       "    <tr>\n",
       "      <th>4</th>\n",
       "      <td>aah</td>\n",
       "      <td>[aah en uzun yolculuğuna daha, aah o gün olanl...</td>\n",
       "    </tr>\n",
       "    <tr>\n",
       "      <th>...</th>\n",
       "      <td>...</td>\n",
       "      <td>...</td>\n",
       "    </tr>\n",
       "    <tr>\n",
       "      <th>27035</th>\n",
       "      <td>şüphesi</td>\n",
       "      <td>[bundan hiç şüphesi oldu mu, hiç şüphesi oldu ...</td>\n",
       "    </tr>\n",
       "    <tr>\n",
       "      <th>27036</th>\n",
       "      <td>şüphesiz</td>\n",
       "      <td>[şüphesiz ki var bir nedeni, ben hemen dönerim...</td>\n",
       "    </tr>\n",
       "    <tr>\n",
       "      <th>27037</th>\n",
       "      <td>şüpheye</td>\n",
       "      <td>[parkın güvenliği hakkında şüpheye düştü, oldu...</td>\n",
       "    </tr>\n",
       "    <tr>\n",
       "      <th>27038</th>\n",
       "      <td>şık</td>\n",
       "      <td>[şık bir isim değil mi, burası çok şık bir res...</td>\n",
       "    </tr>\n",
       "    <tr>\n",
       "      <th>27039</th>\n",
       "      <td>şımarık</td>\n",
       "      <td>[kır hepsini şımarık gine kızı, öyle kır hepsi...</td>\n",
       "    </tr>\n",
       "  </tbody>\n",
       "</table>\n",
       "<p>27040 rows × 2 columns</p>\n",
       "</div>"
      ],
      "text/plain": [
       "           word                                           fivegram\n",
       "0             a  [take a woman like you, i t a r i, t a r i s, ...\n",
       "1            aa  [şey aa yani tüm kasabaya, hiç de iyi değil bu...\n",
       "2           aaa  [aaa yoksa bu öyle bir, aaa şey çünkü daha faz...\n",
       "3          aaah  [hiç aaah diye bağırıp havaya, aaah diye bağır...\n",
       "4           aah  [aah en uzun yolculuğuna daha, aah o gün olanl...\n",
       "...         ...                                                ...\n",
       "27035   şüphesi  [bundan hiç şüphesi oldu mu, hiç şüphesi oldu ...\n",
       "27036  şüphesiz  [şüphesiz ki var bir nedeni, ben hemen dönerim...\n",
       "27037   şüpheye  [parkın güvenliği hakkında şüpheye düştü, oldu...\n",
       "27038       şık  [şık bir isim değil mi, burası çok şık bir res...\n",
       "27039   şımarık  [kır hepsini şımarık gine kızı, öyle kır hepsi...\n",
       "\n",
       "[27040 rows x 2 columns]"
      ]
     },
     "execution_count": 33,
     "metadata": {},
     "output_type": "execute_result"
    }
   ],
   "source": [
    "df_word_in_five_list = df_word_in_five.groupby([\"word\"])[\"fivegram\"].apply(list).reset_index(name=\"fivegram\")\n",
    "df_word_in_five_list"
   ]
  },
  {
   "cell_type": "code",
   "execution_count": 34,
   "metadata": {},
   "outputs": [],
   "source": [
    "# parameter\n",
    "source_wordgroup_list = word_list\n",
    "search_column_name = \"word\"\n",
    "target_column = \"sixgram\"\n",
    "df_target = df_sixgram_select\n",
    "\n",
    "# function\n",
    "searchlist = []\n",
    "resultlist = []\n",
    "manager = multiprocessing.Manager()\n",
    "resultlist = manager.list()\n",
    "searchlist = manager.list()\n",
    "\n",
    "def word_in_wordgroup(wordgroup):\n",
    "    try:\n",
    "        word_in_word_cluster = df_target[df_target[f\"{target_column}\"].str.contains(fr\"(?:\\s|^){wordgroup}(?:\\s|$)\", na=True)]\n",
    "        for result in word_in_word_cluster[f\"{target_column}\"]:\n",
    "            searchlist.append(wordgroup)\n",
    "            resultlist.append(result)\n",
    "    except:\n",
    "        pass\n",
    "\n",
    "if __name__ == '__main__':\n",
    "    # with Pool(16) as p:\n",
    "    with Pool(nprocs-2) as p: # Pool number CPU sayısına eşit olursa tüm CPU lar çalışır nprocs\n",
    "        p.map(word_in_wordgroup, source_wordgroup_list) # string_word liste\n",
    "\n",
    "search_list = list(searchlist)\n",
    "result_list = list(resultlist)\n",
    "df_word_in_six = pd.DataFrame([search_list,result_list]).transpose()\n",
    "df_word_in_six.columns = [f\"{search_column_name}\",f\"{target_column}\"]\n",
    "df_word_in_six"
   ]
  },
  {
   "cell_type": "code",
   "execution_count": null,
   "metadata": {},
   "outputs": [],
   "source": [
    "df_word_in_six_list = df_word_in_six.groupby([\"word\"])[\"sixgram\"].apply(list).reset_index(name=\"sixgram\")\n",
    "df_word_in_six_list"
   ]
  },
  {
   "cell_type": "code",
   "execution_count": null,
   "metadata": {},
   "outputs": [],
   "source": [
    "# parameter\n",
    "source_wordgroup_list = word_list\n",
    "search_column_name = \"word\"\n",
    "target_column = \"sevengram\"\n",
    "df_target = df_sevengram_select\n",
    "\n",
    "# function\n",
    "searchlist = []\n",
    "resultlist = []\n",
    "manager = multiprocessing.Manager()\n",
    "resultlist = manager.list()\n",
    "searchlist = manager.list()\n",
    "\n",
    "def word_in_wordgroup(wordgroup):\n",
    "    try:\n",
    "        word_in_word_cluster = df_target[df_target[f\"{target_column}\"].str.contains(fr\"(?:\\s|^){wordgroup}(?:\\s|$)\", na=True)]\n",
    "        for result in word_in_word_cluster[f\"{target_column}\"]:\n",
    "            searchlist.append(wordgroup)\n",
    "            resultlist.append(result)\n",
    "    except:\n",
    "        pass\n",
    "\n",
    "if __name__ == '__main__':\n",
    "    # with Pool(16) as p:\n",
    "    with Pool(nprocs-2) as p: # Pool number CPU sayısına eşit olursa tüm CPU lar çalışır nprocs\n",
    "        p.map(word_in_wordgroup, source_wordgroup_list) # string_word liste\n",
    "\n",
    "search_list = list(searchlist)\n",
    "result_list = list(resultlist)\n",
    "df_word_in_seven = pd.DataFrame([search_list,result_list]).transpose()\n",
    "df_word_in_seven.columns = [f\"{search_column_name}\",f\"{target_column}\"]\n",
    "df_word_in_seven"
   ]
  },
  {
   "cell_type": "code",
   "execution_count": null,
   "metadata": {},
   "outputs": [],
   "source": [
    "df_word_in_seven_list = df_word_in_seven.groupby([\"word\"])[\"sevengram\"].apply(list).reset_index(name=\"sevengram\")\n",
    "df_word_in_seven_list"
   ]
  },
  {
   "cell_type": "code",
   "execution_count": null,
   "metadata": {},
   "outputs": [],
   "source": [
    "# parameter\n",
    "source_wordgroup_list = word_list\n",
    "search_column_name = \"word\"\n",
    "target_column = \"eightgram\"\n",
    "df_target = df_eightgram_select\n",
    "\n",
    "# function\n",
    "searchlist = []\n",
    "resultlist = []\n",
    "manager = multiprocessing.Manager()\n",
    "resultlist = manager.list()\n",
    "searchlist = manager.list()\n",
    "\n",
    "def word_in_wordgroup(wordgroup):\n",
    "    try:\n",
    "        word_in_word_cluster = df_target[df_target[f\"{target_column}\"].str.contains(fr\"(?:\\s|^){wordgroup}(?:\\s|$)\", na=True)]\n",
    "        for result in word_in_word_cluster[f\"{target_column}\"]:\n",
    "            searchlist.append(wordgroup)\n",
    "            resultlist.append(result)\n",
    "    except:\n",
    "        pass\n",
    "\n",
    "if __name__ == '__main__':\n",
    "    # with Pool(16) as p:\n",
    "    with Pool(nprocs-2) as p: # Pool number CPU sayısına eşit olursa tüm CPU lar çalışır nprocs\n",
    "        p.map(word_in_wordgroup, source_wordgroup_list) # string_word liste\n",
    "\n",
    "search_list = list(searchlist)\n",
    "result_list = list(resultlist)\n",
    "df_word_in_eight = pd.DataFrame([search_list,result_list]).transpose()\n",
    "df_word_in_eight.columns = [f\"{search_column_name}\",f\"{target_column}\"]\n",
    "df_word_in_eight"
   ]
  },
  {
   "cell_type": "code",
   "execution_count": null,
   "metadata": {},
   "outputs": [],
   "source": [
    "df_word_in_eight_list = df_word_in_eight.groupby([\"word\"])[\"eightgram\"].apply(list).reset_index(name=\"eightgram\")\n",
    "df_word_in_eight_list"
   ]
  },
  {
   "cell_type": "code",
   "execution_count": null,
   "metadata": {},
   "outputs": [],
   "source": [
    "# parameter\n",
    "source_wordgroup_list = word_list\n",
    "search_column_name = \"word\"\n",
    "target_column = \"ninegram\"\n",
    "df_target = df_ninegram_select\n",
    "\n",
    "# function\n",
    "searchlist = []\n",
    "resultlist = []\n",
    "manager = multiprocessing.Manager()\n",
    "resultlist = manager.list()\n",
    "searchlist = manager.list()\n",
    "\n",
    "def word_in_wordgroup(wordgroup):\n",
    "    try:\n",
    "        word_in_word_cluster = df_target[df_target[f\"{target_column}\"].str.contains(fr\"(?:\\s|^){wordgroup}(?:\\s|$)\", na=True)]\n",
    "        for result in word_in_word_cluster[f\"{target_column}\"]:\n",
    "            searchlist.append(wordgroup)\n",
    "            resultlist.append(result)\n",
    "    except:\n",
    "        pass\n",
    "\n",
    "if __name__ == '__main__':\n",
    "    # with Pool(16) as p:\n",
    "    with Pool(nprocs-2) as p: # Pool number CPU sayısına eşit olursa tüm CPU lar çalışır nprocs\n",
    "        p.map(word_in_wordgroup, source_wordgroup_list) # string_word liste\n",
    "\n",
    "search_list = list(searchlist)\n",
    "result_list = list(resultlist)\n",
    "df_word_in_nine = pd.DataFrame([search_list,result_list]).transpose()\n",
    "df_word_in_nine.columns = [f\"{search_column_name}\",f\"{target_column}\"]\n",
    "df_word_in_nine"
   ]
  },
  {
   "cell_type": "code",
   "execution_count": null,
   "metadata": {},
   "outputs": [],
   "source": [
    "df_word_in_nine_list = df_word_in_nine.groupby([\"word\"])[\"ninegram\"].apply(list).reset_index(name=\"ninegram\")\n",
    "df_word_in_nine_list"
   ]
  },
  {
   "cell_type": "code",
   "execution_count": null,
   "metadata": {},
   "outputs": [],
   "source": [
    "# parameter\n",
    "source_wordgroup_list = word_list\n",
    "search_column_name = \"word\"\n",
    "target_column = \"tengram\"\n",
    "df_target = df_tengram_select\n",
    "\n",
    "# function\n",
    "searchlist = []\n",
    "resultlist = []\n",
    "manager = multiprocessing.Manager()\n",
    "resultlist = manager.list()\n",
    "searchlist = manager.list()\n",
    "\n",
    "def word_in_wordgroup(wordgroup):\n",
    "    try:\n",
    "        word_in_word_cluster = df_target[df_target[f\"{target_column}\"].str.contains(fr\"(?:\\s|^){wordgroup}(?:\\s|$)\", na=True)]\n",
    "        for result in word_in_word_cluster[f\"{target_column}\"]:\n",
    "            searchlist.append(wordgroup)\n",
    "            resultlist.append(result)\n",
    "    except:\n",
    "        pass\n",
    "\n",
    "if __name__ == '__main__':\n",
    "    # with Pool(16) as p:\n",
    "    with Pool(nprocs-2) as p: # Pool number CPU sayısına eşit olursa tüm CPU lar çalışır nprocs\n",
    "        p.map(word_in_wordgroup, source_wordgroup_list) # string_word liste\n",
    "\n",
    "search_list = list(searchlist)\n",
    "result_list = list(resultlist)\n",
    "df_word_in_ten = pd.DataFrame([search_list,result_list]).transpose()\n",
    "df_word_in_ten.columns = [f\"{search_column_name}\",f\"{target_column}\"]\n",
    "df_word_in_ten"
   ]
  },
  {
   "cell_type": "code",
   "execution_count": null,
   "metadata": {},
   "outputs": [],
   "source": [
    "df_word_in_ten_list = df_word_in_ten.groupby([\"word\"])[\"tengram\"].apply(list).reset_index(name=\"tengram\")\n",
    "df_word_in_ten_list"
   ]
  },
  {
   "cell_type": "code",
   "execution_count": null,
   "metadata": {},
   "outputs": [],
   "source": [
    "dfs = [df_word_select, df_word_in_two_list, df_word_in_three_list, df_word_in_four_list, df_word_in_five_list, df_word_in_six_list, df_word_in_seven_list, df_word_in_eight_list, df_word_in_nine_list, df_word_in_ten_list]"
   ]
  },
  {
   "cell_type": "code",
   "execution_count": null,
   "metadata": {},
   "outputs": [],
   "source": [
    "df_word_merge = reduce(lambda  left,right: pd.merge(left,right, on=['word'], how='left'), dfs)\n",
    "df_word_merge"
   ]
  },
  {
   "cell_type": "code",
   "execution_count": null,
   "metadata": {},
   "outputs": [],
   "source": [
    "#df_word_merge.to_excel(f\"{lang_folder.capitalize()}_Word_Text_Selection_Temp.xlsx\", index=False)\n",
    "df_word_merge.to_csv(f\"{lang_folder.capitalize()}_Word_Text_Selection_Temp.csv\", index=False)"
   ]
  },
  {
   "cell_type": "code",
   "execution_count": null,
   "metadata": {},
   "outputs": [],
   "source": [
    "#df_word_text = pd.read_excel(f\"{lang_folder.capitalize()}_Word_Text_Selection_Temp.xlsx\")\n",
    "df_word_text = pd.read_csv(f\"{lang_folder.capitalize()}_Word_Text_Selection_Temp.csv\")"
   ]
  },
  {
   "cell_type": "code",
   "execution_count": null,
   "metadata": {},
   "outputs": [],
   "source": [
    "df_word_merge2 = df_word_text[~(df_word_text[\"twogram\"].isnull() & df_word_text[\"threegram\"].isnull() & df_word_text[\"fourgram\"].isnull() & df_word_text[\"fivegram\"].isnull() & \\\n",
    "df_word_text[\"sixgram\"].isnull() & df_word_text[\"sevengram\"].isnull() & df_word_text[\"eightgram\"].isnull() & df_word_text[\"ninegram\"].isnull() & df_word_text[\"tengram\"].isnull())]\n",
    "df_word_merge2"
   ]
  },
  {
   "cell_type": "code",
   "execution_count": null,
   "metadata": {},
   "outputs": [],
   "source": [
    "#df_word_merge2.to_excel(f\"{lang_folder.capitalize()}_Word_Text_Selection_Result3.xlsx\", index=False)\n",
    "df_word_merge2.to_csv(f\"{lang_folder.capitalize()}_Word_Text_Selection_Result3.csv\", index=False)"
   ]
  },
  {
   "cell_type": "code",
   "execution_count": null,
   "metadata": {},
   "outputs": [],
   "source": []
  },
  {
   "cell_type": "markdown",
   "metadata": {},
   "source": [
    "##### Twogram"
   ]
  },
  {
   "cell_type": "code",
   "execution_count": null,
   "metadata": {},
   "outputs": [],
   "source": [
    "# 1 Way Slow\n",
    "#df_two_in_three = word_in_wordgroup(twogram_list, df_threegram_select, \"threegram\", simple=True)\n",
    "#df_two_in_three.rename(columns={\"word\":\"twogram\"}, inplace=True)\n",
    "#df_two_in_three"
   ]
  },
  {
   "cell_type": "code",
   "execution_count": null,
   "metadata": {},
   "outputs": [],
   "source": [
    "# 2 Way Fast\n",
    "# parameter\n",
    "source_wordgroup_list = twogram_list\n",
    "search_column_name = \"twogram\"\n",
    "target_column = \"threegram\"\n",
    "df_target = df_threegram_select\n",
    "\n",
    "# function\n",
    "searchlist = []\n",
    "resultlist = []\n",
    "manager = multiprocessing.Manager()\n",
    "resultlist = manager.list()\n",
    "searchlist = manager.list()\n",
    "\n",
    "def word_in_wordgroup(wordgroup):    \n",
    "    try:\n",
    "        word_in_word_cluster = df_target[df_target[f\"{target_column}\"].str.contains(fr\"(?:\\s|^){wordgroup}(?:\\s|$)\", na=True)]\n",
    "        for result in word_in_word_cluster[f\"{target_column}\"]:\n",
    "            searchlist.append(wordgroup)\n",
    "            resultlist.append(result)\n",
    "    except:\n",
    "        pass\n",
    "\n",
    "if __name__ == '__main__':\n",
    "    # with Pool(16) as p:\n",
    "    with Pool(nprocs) as p: # Pool number CPU sayısına eşit olursa tüm CPU lar çalışır\n",
    "        p.map(word_in_wordgroup, source_wordgroup_list) # string_word liste\n",
    "\n",
    "search_list = list(searchlist)\n",
    "result_list = list(resultlist)\n",
    "df_two_in_three = pd.DataFrame([search_list,result_list]).transpose()\n",
    "df_two_in_three.columns = [f\"{search_column_name}\",f\"{target_column}\"]\n",
    "df_two_in_three"
   ]
  },
  {
   "cell_type": "code",
   "execution_count": null,
   "metadata": {},
   "outputs": [],
   "source": [
    "df_two_in_three_list = df_two_in_three.groupby([\"twogram\"])[\"threegram\"].apply(list).reset_index(name=\"threegram\")\n",
    "df_two_in_three_list"
   ]
  },
  {
   "cell_type": "code",
   "execution_count": null,
   "metadata": {},
   "outputs": [],
   "source": [
    "#df_two_in_four = word_in_wordgroup(twogram_list, df_fourgram_select, \"fourgram\", simple=True)\n",
    "#df_two_in_four.rename(columns={\"word\":\"twogram\"}, inplace=True)\n",
    "#df_two_in_four"
   ]
  },
  {
   "cell_type": "code",
   "execution_count": null,
   "metadata": {},
   "outputs": [],
   "source": [
    "# parameter\n",
    "source_wordgroup_list = twogram_list\n",
    "search_column_name = \"twogram\"\n",
    "target_column = \"fourgram\"\n",
    "df_target = df_fourgram_select\n",
    "\n",
    "# function\n",
    "searchlist = []\n",
    "resultlist = []\n",
    "manager = multiprocessing.Manager()\n",
    "resultlist = manager.list()\n",
    "searchlist = manager.list()\n",
    "\n",
    "def word_in_wordgroup(wordgroup):    \n",
    "    try:\n",
    "        word_in_word_cluster = df_target[df_target[f\"{target_column}\"].str.contains(fr\"(?:\\s|^){wordgroup}(?:\\s|$)\", na=True)]\n",
    "        for result in word_in_word_cluster[f\"{target_column}\"]:\n",
    "            searchlist.append(wordgroup)\n",
    "            resultlist.append(result)\n",
    "    except:\n",
    "        pass\n",
    "\n",
    "if __name__ == '__main__':\n",
    "    # with Pool(16) as p:\n",
    "    with Pool(nprocs) as p: # Pool number CPU sayısına eşit olursa tüm CPU lar çalışır\n",
    "        p.map(word_in_wordgroup, source_wordgroup_list) # string_word liste\n",
    "\n",
    "search_list = list(searchlist)\n",
    "result_list = list(resultlist)\n",
    "df_two_in_four = pd.DataFrame([search_list,result_list]).transpose()\n",
    "df_two_in_four.columns = [f\"{search_column_name}\",f\"{target_column}\"]\n",
    "df_two_in_four"
   ]
  },
  {
   "cell_type": "code",
   "execution_count": null,
   "metadata": {},
   "outputs": [],
   "source": [
    "df_two_in_four_list = df_two_in_four.groupby([\"twogram\"])[\"fourgram\"].apply(list).reset_index(name=\"fourgram\")\n",
    "df_two_in_four_list"
   ]
  },
  {
   "cell_type": "code",
   "execution_count": null,
   "metadata": {},
   "outputs": [],
   "source": [
    "#df_two_in_five = word_in_wordgroup(twogram_list, df_fivegram_select, \"fivegram\", simple=True)\n",
    "#df_two_in_five.rename(columns={\"word\":\"twogram\"}, inplace=True)\n",
    "#df_two_in_five"
   ]
  },
  {
   "cell_type": "code",
   "execution_count": null,
   "metadata": {},
   "outputs": [],
   "source": [
    "# parameter\n",
    "source_wordgroup_list = twogram_list\n",
    "search_column_name = \"twogram\"\n",
    "target_column = \"fivegram\"\n",
    "df_target = df_fivegram_select\n",
    "\n",
    "# function\n",
    "searchlist = []\n",
    "resultlist = []\n",
    "manager = multiprocessing.Manager()\n",
    "resultlist = manager.list()\n",
    "searchlist = manager.list()\n",
    "\n",
    "def word_in_wordgroup(wordgroup):    \n",
    "    try:\n",
    "        word_in_word_cluster = df_target[df_target[f\"{target_column}\"].str.contains(fr\"(?:\\s|^){wordgroup}(?:\\s|$)\", na=True)]\n",
    "        for result in word_in_word_cluster[f\"{target_column}\"]:\n",
    "            searchlist.append(wordgroup)\n",
    "            resultlist.append(result)\n",
    "    except:\n",
    "        pass\n",
    "\n",
    "if __name__ == '__main__':\n",
    "    # with Pool(16) as p:\n",
    "    with Pool(nprocs-2) as p: # Pool number CPU sayısına eşit olursa tüm CPU lar çalışır\n",
    "        p.map(word_in_wordgroup, source_wordgroup_list) # string_word liste\n",
    "\n",
    "search_list = list(searchlist)\n",
    "result_list = list(resultlist)\n",
    "df_two_in_five = pd.DataFrame([search_list,result_list]).transpose()\n",
    "df_two_in_five.columns = [f\"{search_column_name}\",f\"{target_column}\"]\n",
    "df_two_in_five"
   ]
  },
  {
   "cell_type": "code",
   "execution_count": null,
   "metadata": {},
   "outputs": [],
   "source": [
    "df_two_in_five_list = df_two_in_five.groupby([\"twogram\"])[\"fivegram\"].apply(list).reset_index(name=\"fivegram\")\n",
    "df_two_in_five_list"
   ]
  },
  {
   "cell_type": "code",
   "execution_count": null,
   "metadata": {},
   "outputs": [],
   "source": [
    "#df_two_in_six = word_in_wordgroup(twogram_list, df_sixgram_select, \"sixgram\", simple=True)\n",
    "#df_two_in_six.rename(columns={\"word\":\"twogram\"}, inplace=True)\n",
    "#df_two_in_six"
   ]
  },
  {
   "cell_type": "code",
   "execution_count": null,
   "metadata": {},
   "outputs": [],
   "source": [
    "# parameter\n",
    "source_wordgroup_list = twogram_list\n",
    "search_column_name = \"twogram\"\n",
    "target_column = \"sixgram\"\n",
    "df_target = df_sixgram_select\n",
    "\n",
    "# function\n",
    "searchlist = []\n",
    "resultlist = []\n",
    "manager = multiprocessing.Manager()\n",
    "resultlist = manager.list()\n",
    "searchlist = manager.list()\n",
    "\n",
    "def word_in_wordgroup(wordgroup):    \n",
    "    try:\n",
    "        word_in_word_cluster = df_target[df_target[f\"{target_column}\"].str.contains(fr\"(?:\\s|^){wordgroup}(?:\\s|$)\", na=True)]\n",
    "        for result in word_in_word_cluster[f\"{target_column}\"]:\n",
    "            searchlist.append(wordgroup)\n",
    "            resultlist.append(result)\n",
    "    except:\n",
    "        pass\n",
    "\n",
    "if __name__ == '__main__':\n",
    "    # with Pool(16) as p:\n",
    "    with Pool(nprocs-2) as p: # Pool number CPU sayısına eşit olursa tüm CPU lar çalışır\n",
    "        p.map(word_in_wordgroup, source_wordgroup_list) # string_word liste\n",
    "\n",
    "search_list = list(searchlist)\n",
    "result_list = list(resultlist)\n",
    "df_two_in_six = pd.DataFrame([search_list,result_list]).transpose()\n",
    "df_two_in_six.columns = [f\"{search_column_name}\",f\"{target_column}\"]\n",
    "df_two_in_six"
   ]
  },
  {
   "cell_type": "code",
   "execution_count": null,
   "metadata": {},
   "outputs": [],
   "source": [
    "df_two_in_six_list = df_two_in_six.groupby([\"twogram\"])[\"sixgram\"].apply(list).reset_index(name=\"sixgram\")\n",
    "df_two_in_six_list"
   ]
  },
  {
   "cell_type": "code",
   "execution_count": null,
   "metadata": {},
   "outputs": [],
   "source": [
    "#df_two_in_seven = word_in_wordgroup(twogram_list, df_sevengram_select, \"sevengram\", simple=True)\n",
    "#df_two_in_seven.rename(columns={\"word\":\"twogram\"}, inplace=True)\n",
    "#df_two_in_seven"
   ]
  },
  {
   "cell_type": "code",
   "execution_count": null,
   "metadata": {},
   "outputs": [],
   "source": [
    "# parameter\n",
    "source_wordgroup_list = twogram_list\n",
    "search_column_name = \"twogram\"\n",
    "target_column = \"sevengram\"\n",
    "df_target = df_sevengram_select\n",
    "\n",
    "# function\n",
    "searchlist = []\n",
    "resultlist = []\n",
    "manager = multiprocessing.Manager()\n",
    "resultlist = manager.list()\n",
    "searchlist = manager.list()\n",
    "\n",
    "def word_in_wordgroup(wordgroup):    \n",
    "    try:\n",
    "        word_in_word_cluster = df_target[df_target[f\"{target_column}\"].str.contains(fr\"(?:\\s|^){wordgroup}(?:\\s|$)\", na=True)]\n",
    "        for result in word_in_word_cluster[f\"{target_column}\"]:\n",
    "            searchlist.append(wordgroup)\n",
    "            resultlist.append(result)\n",
    "    except:\n",
    "        pass\n",
    "\n",
    "if __name__ == '__main__':\n",
    "    # with Pool(16) as p:\n",
    "    with Pool(nprocs-2) as p: # Pool number CPU sayısına eşit olursa tüm CPU lar çalışır\n",
    "        p.map(word_in_wordgroup, source_wordgroup_list) # string_word liste\n",
    "\n",
    "search_list = list(searchlist)\n",
    "result_list = list(resultlist)\n",
    "df_two_in_seven = pd.DataFrame([search_list,result_list]).transpose()\n",
    "df_two_in_seven.columns = [f\"{search_column_name}\",f\"{target_column}\"]\n",
    "df_two_in_seven"
   ]
  },
  {
   "cell_type": "code",
   "execution_count": null,
   "metadata": {},
   "outputs": [],
   "source": [
    "df_two_in_seven_list = df_two_in_seven.groupby([\"twogram\"])[\"sevengram\"].apply(list).reset_index(name=\"sevengram\")\n",
    "df_two_in_seven_list"
   ]
  },
  {
   "cell_type": "code",
   "execution_count": null,
   "metadata": {},
   "outputs": [],
   "source": [
    "#df_two_in_eight = word_in_wordgroup(twogram_list, df_eightgram_select, \"eightgram\", simple=True)\n",
    "#df_two_in_eight.rename(columns={\"word\":\"twogram\"}, inplace=True)\n",
    "#df_two_in_eight"
   ]
  },
  {
   "cell_type": "code",
   "execution_count": null,
   "metadata": {},
   "outputs": [],
   "source": [
    "# parameter\n",
    "source_wordgroup_list = twogram_list\n",
    "search_column_name = \"twogram\"\n",
    "target_column = \"eightgram\"\n",
    "df_target = df_eightgram_select\n",
    "\n",
    "# function\n",
    "searchlist = []\n",
    "resultlist = []\n",
    "manager = multiprocessing.Manager()\n",
    "resultlist = manager.list()\n",
    "searchlist = manager.list()\n",
    "\n",
    "def word_in_wordgroup(wordgroup):    \n",
    "    try:\n",
    "        word_in_word_cluster = df_target[df_target[f\"{target_column}\"].str.contains(fr\"(?:\\s|^){wordgroup}(?:\\s|$)\", na=True)]\n",
    "        for result in word_in_word_cluster[f\"{target_column}\"]:\n",
    "            searchlist.append(wordgroup)\n",
    "            resultlist.append(result)\n",
    "    except:\n",
    "        pass\n",
    "\n",
    "if __name__ == '__main__':\n",
    "    # with Pool(16) as p:\n",
    "    with Pool(nprocs-2) as p: # Pool number CPU sayısına eşit olursa tüm CPU lar çalışır\n",
    "        p.map(word_in_wordgroup, source_wordgroup_list) # string_word liste\n",
    "\n",
    "search_list = list(searchlist)\n",
    "result_list = list(resultlist)\n",
    "df_two_in_eight = pd.DataFrame([search_list,result_list]).transpose()\n",
    "df_two_in_eight.columns = [f\"{search_column_name}\",f\"{target_column}\"]\n",
    "df_two_in_eight"
   ]
  },
  {
   "cell_type": "code",
   "execution_count": null,
   "metadata": {},
   "outputs": [],
   "source": [
    "df_two_in_eight_list = df_two_in_eight.groupby([\"twogram\"])[\"eightgram\"].apply(list).reset_index(name=\"eightgram\")\n",
    "df_two_in_eight_list"
   ]
  },
  {
   "cell_type": "code",
   "execution_count": null,
   "metadata": {},
   "outputs": [],
   "source": [
    "#df_two_in_nine = word_in_wordgroup(twogram_list, df_ninegram_select, \"ninegram\", simple=True)\n",
    "#df_two_in_nine.rename(columns={\"word\":\"twogram\"}, inplace=True)\n",
    "#df_two_in_nine"
   ]
  },
  {
   "cell_type": "code",
   "execution_count": null,
   "metadata": {},
   "outputs": [],
   "source": [
    "# parameter\n",
    "source_wordgroup_list = twogram_list\n",
    "search_column_name = \"twogram\"\n",
    "target_column = \"ninegram\"\n",
    "df_target = df_ninegram_select\n",
    "\n",
    "# function\n",
    "searchlist = []\n",
    "resultlist = []\n",
    "manager = multiprocessing.Manager()\n",
    "resultlist = manager.list()\n",
    "searchlist = manager.list()\n",
    "\n",
    "def word_in_wordgroup(wordgroup):    \n",
    "    try:\n",
    "        word_in_word_cluster = df_target[df_target[f\"{target_column}\"].str.contains(fr\"(?:\\s|^){wordgroup}(?:\\s|$)\", na=True)]\n",
    "        for result in word_in_word_cluster[f\"{target_column}\"]:\n",
    "            searchlist.append(wordgroup)\n",
    "            resultlist.append(result)\n",
    "    except:\n",
    "        pass\n",
    "\n",
    "if __name__ == '__main__':\n",
    "    # with Pool(16) as p:\n",
    "    with Pool(nprocs-2) as p: # Pool number CPU sayısına eşit olursa tüm CPU lar çalışır\n",
    "        p.map(word_in_wordgroup, source_wordgroup_list) # string_word liste\n",
    "\n",
    "search_list = list(searchlist)\n",
    "result_list = list(resultlist)\n",
    "df_two_in_nine = pd.DataFrame([search_list,result_list]).transpose()\n",
    "df_two_in_nine.columns = [f\"{search_column_name}\",f\"{target_column}\"]\n",
    "df_two_in_nine"
   ]
  },
  {
   "cell_type": "code",
   "execution_count": null,
   "metadata": {},
   "outputs": [],
   "source": [
    "df_two_in_nine_list = df_two_in_nine.groupby([\"twogram\"])[\"ninegram\"].apply(list).reset_index(name=\"ninegram\")\n",
    "df_two_in_nine_list"
   ]
  },
  {
   "cell_type": "code",
   "execution_count": null,
   "metadata": {},
   "outputs": [],
   "source": [
    "#df_two_in_ten = word_in_wordgroup(twogram_list, df_tengram_select, \"tengram\", simple=True)\n",
    "#df_two_in_ten.rename(columns={\"word\":\"twogram\"}, inplace=True)\n",
    "#df_two_in_ten"
   ]
  },
  {
   "cell_type": "code",
   "execution_count": null,
   "metadata": {},
   "outputs": [],
   "source": [
    "# parameter\n",
    "source_wordgroup_list = twogram_list\n",
    "search_column_name = \"twogram\"\n",
    "target_column = \"tengram\"\n",
    "df_target = df_tengram_select\n",
    "\n",
    "# function\n",
    "searchlist = []\n",
    "resultlist = []\n",
    "manager = multiprocessing.Manager()\n",
    "resultlist = manager.list()\n",
    "searchlist = manager.list()\n",
    "\n",
    "def word_in_wordgroup(wordgroup):    \n",
    "    try:\n",
    "        word_in_word_cluster = df_target[df_target[f\"{target_column}\"].str.contains(fr\"(?:\\s|^){wordgroup}(?:\\s|$)\", na=True)]\n",
    "        for result in word_in_word_cluster[f\"{target_column}\"]:\n",
    "            searchlist.append(wordgroup)\n",
    "            resultlist.append(result)\n",
    "    except:\n",
    "        pass\n",
    "\n",
    "if __name__ == '__main__':\n",
    "    # with Pool(16) as p:\n",
    "    with Pool(nprocs-2) as p: # Pool number CPU sayısına eşit olursa tüm CPU lar çalışır\n",
    "        p.map(word_in_wordgroup, source_wordgroup_list) # string_word liste\n",
    "\n",
    "search_list = list(searchlist)\n",
    "result_list = list(resultlist)\n",
    "df_two_in_ten = pd.DataFrame([search_list,result_list]).transpose()\n",
    "df_two_in_ten.columns = [f\"{search_column_name}\",f\"{target_column}\"]\n",
    "df_two_in_ten"
   ]
  },
  {
   "cell_type": "code",
   "execution_count": null,
   "metadata": {},
   "outputs": [],
   "source": [
    "df_two_in_ten_list = df_two_in_ten.groupby([\"twogram\"])[\"tengram\"].apply(list).reset_index(name=\"tengram\")\n",
    "df_two_in_ten_list"
   ]
  },
  {
   "cell_type": "code",
   "execution_count": null,
   "metadata": {},
   "outputs": [],
   "source": [
    "df_twogram_select"
   ]
  },
  {
   "cell_type": "code",
   "execution_count": null,
   "metadata": {},
   "outputs": [],
   "source": [
    "df_two_in_three_list = pd.read_excel(\"Two_In_Three_List.xlsx\")\n",
    "df_two_in_three_list"
   ]
  },
  {
   "cell_type": "code",
   "execution_count": null,
   "metadata": {},
   "outputs": [],
   "source": [
    "df_two_in_four_list = pd.read_excel(\"Two_In_Four_List.xlsx\")\n",
    "df_two_in_four_list"
   ]
  },
  {
   "cell_type": "code",
   "execution_count": null,
   "metadata": {},
   "outputs": [],
   "source": [
    "df_two_in_five_list = pd.read_excel(\"Two_In_Five_List.xlsx\")\n",
    "df_two_in_five_list"
   ]
  },
  {
   "cell_type": "code",
   "execution_count": null,
   "metadata": {},
   "outputs": [],
   "source": [
    "df_two_in_six_list = pd.read_excel(\"Two_In_Six_List.xlsx\")\n",
    "df_two_in_six_list"
   ]
  },
  {
   "cell_type": "code",
   "execution_count": null,
   "metadata": {},
   "outputs": [],
   "source": [
    "df_two_in_seven_list = pd.read_excel(\"Two_In_Seven_List.xlsx\")\n",
    "df_two_in_seven_list"
   ]
  },
  {
   "cell_type": "code",
   "execution_count": null,
   "metadata": {},
   "outputs": [],
   "source": [
    "df_two_in_eight_list = pd.read_excel(\"Two_In_Eight_List.xlsx\")\n",
    "df_two_in_eight_list"
   ]
  },
  {
   "cell_type": "code",
   "execution_count": null,
   "metadata": {},
   "outputs": [],
   "source": [
    "df_two_in_nine_list = pd.read_excel(\"Two_In_Nine_List.xlsx\")\n",
    "df_two_in_nine_list"
   ]
  },
  {
   "cell_type": "code",
   "execution_count": null,
   "metadata": {},
   "outputs": [],
   "source": [
    "df_two_in_ten_list = pd.read_excel(\"Two_In_Ten_List.xlsx\")\n",
    "df_two_in_ten_list"
   ]
  },
  {
   "cell_type": "code",
   "execution_count": null,
   "metadata": {},
   "outputs": [],
   "source": [
    "dfs2 = [df_twogram_select, df_two_in_three_list, df_two_in_four_list, df_two_in_five_list, df_two_in_six_list, df_two_in_seven_list, df_two_in_eight_list, df_two_in_nine_list, df_two_in_ten_list]"
   ]
  },
  {
   "cell_type": "code",
   "execution_count": null,
   "metadata": {},
   "outputs": [],
   "source": [
    "df_twogram_merge = reduce(lambda  left,right: pd.merge(left,right, on=['twogram'], how='left'), dfs2)\n",
    "df_twogram_merge"
   ]
  },
  {
   "cell_type": "code",
   "execution_count": null,
   "metadata": {},
   "outputs": [],
   "source": [
    "df_twogram_merge.to_excel(f\"{lang_folder.capitalize()}_Twogram_Text_Selection_Temp.xlsx\", index=False)"
   ]
  },
  {
   "cell_type": "code",
   "execution_count": null,
   "metadata": {},
   "outputs": [],
   "source": [
    "df_twogram_text = pd.read_excel(f\"{lang_folder.capitalize()}_Twogram_Text_Selection_Temp.xlsx\")"
   ]
  },
  {
   "cell_type": "code",
   "execution_count": null,
   "metadata": {},
   "outputs": [],
   "source": [
    "df_twogram_merge2 = df_twogram_text[~(df_twogram_text[\"threegram\"].isnull() & df_twogram_text[\"fourgram\"].isnull() & df_twogram_text[\"fivegram\"].isnull() & df_twogram_text[\"sixgram\"].isnull() & \\\n",
    "df_twogram_text[\"sevengram\"].isnull() & df_twogram_text[\"eightgram\"].isnull() & df_twogram_text[\"ninegram\"].isnull() & df_twogram_text[\"tengram\"].isnull())]\n",
    "df_twogram_merge2"
   ]
  },
  {
   "cell_type": "code",
   "execution_count": null,
   "metadata": {},
   "outputs": [],
   "source": [
    "df_twogram_merge2.to_excel(f\"{lang_folder.capitalize()}_Twogram_Text_Selection_Result.xlsx\", index=False)"
   ]
  },
  {
   "cell_type": "code",
   "execution_count": null,
   "metadata": {},
   "outputs": [],
   "source": []
  },
  {
   "cell_type": "markdown",
   "metadata": {},
   "source": [
    "##### Threegram"
   ]
  },
  {
   "cell_type": "code",
   "execution_count": null,
   "metadata": {},
   "outputs": [],
   "source": [
    "#df_three_in_four = word_in_wordgroup(threegram_list, df_fourgram_select, \"fourgram\", simple=True)\n",
    "#df_three_in_four.rename(columns={\"word\":\"threegram\"}, inplace=True)\n",
    "#df_three_in_four"
   ]
  },
  {
   "cell_type": "code",
   "execution_count": null,
   "metadata": {},
   "outputs": [],
   "source": [
    "# parameter\n",
    "source_wordgroup_list = threegram_list\n",
    "search_column_name = \"threegram\"\n",
    "target_column = \"fourgram\"\n",
    "df_target = df_fourgram_select\n",
    "\n",
    "# function\n",
    "searchlist = []\n",
    "resultlist = []\n",
    "manager = multiprocessing.Manager()\n",
    "resultlist = manager.list()\n",
    "searchlist = manager.list()\n",
    "\n",
    "def word_in_wordgroup(wordgroup):    \n",
    "    try:\n",
    "        word_in_word_cluster = df_target[df_target[f\"{target_column}\"].str.contains(fr\"(?:\\s|^){wordgroup}(?:\\s|$)\", na=True)]\n",
    "        for result in word_in_word_cluster[f\"{target_column}\"]:\n",
    "            searchlist.append(wordgroup)\n",
    "            resultlist.append(result)\n",
    "    except:\n",
    "        pass\n",
    "\n",
    "if __name__ == '__main__':\n",
    "    # with Pool(16) as p:\n",
    "    with Pool(nprocs) as p: # Pool number CPU sayısına eşit olursa tüm CPU lar çalışır\n",
    "        p.map(word_in_wordgroup, source_wordgroup_list) # string_word liste\n",
    "\n",
    "search_list = list(searchlist)\n",
    "result_list = list(resultlist)\n",
    "df_three_in_four = pd.DataFrame([search_list,result_list]).transpose()\n",
    "df_three_in_four.columns = [f\"{search_column_name}\",f\"{target_column}\"]\n",
    "df_three_in_four"
   ]
  },
  {
   "cell_type": "code",
   "execution_count": null,
   "metadata": {},
   "outputs": [],
   "source": [
    "df_three_in_four_list = df_three_in_four.groupby([\"threegram\"])[\"fourgram\"].apply(list).reset_index(name=\"fourgram\")\n",
    "df_three_in_four_list"
   ]
  },
  {
   "cell_type": "code",
   "execution_count": null,
   "metadata": {},
   "outputs": [],
   "source": [
    "#df_three_in_five = word_in_wordgroup(threegram_list, df_fivegram_select, \"fivegram\", simple=True)\n",
    "#df_three_in_five.rename(columns={\"word\":\"threegram\"}, inplace=True)\n",
    "#df_three_in_five"
   ]
  },
  {
   "cell_type": "code",
   "execution_count": null,
   "metadata": {},
   "outputs": [],
   "source": [
    "# parameter\n",
    "source_wordgroup_list = threegram_list\n",
    "search_column_name = \"threegram\"\n",
    "target_column = \"fivegram\"\n",
    "df_target = df_fivegram_select\n",
    "\n",
    "# function\n",
    "searchlist = []\n",
    "resultlist = []\n",
    "manager = multiprocessing.Manager()\n",
    "resultlist = manager.list()\n",
    "searchlist = manager.list()\n",
    "\n",
    "def word_in_wordgroup(wordgroup):    \n",
    "    try:\n",
    "        word_in_word_cluster = df_target[df_target[f\"{target_column}\"].str.contains(fr\"(?:\\s|^){wordgroup}(?:\\s|$)\", na=True)]\n",
    "        for result in word_in_word_cluster[f\"{target_column}\"]:\n",
    "            searchlist.append(wordgroup)\n",
    "            resultlist.append(result)\n",
    "    except:\n",
    "        pass\n",
    "\n",
    "if __name__ == '__main__':\n",
    "    # with Pool(16) as p:\n",
    "    with Pool(nprocs) as p: # Pool number CPU sayısına eşit olursa tüm CPU lar çalışır\n",
    "        p.map(word_in_wordgroup, source_wordgroup_list) # string_word liste\n",
    "\n",
    "search_list = list(searchlist)\n",
    "result_list = list(resultlist)\n",
    "df_three_in_five = pd.DataFrame([search_list,result_list]).transpose()\n",
    "df_three_in_five.columns = [f\"{search_column_name}\",f\"{target_column}\"]\n",
    "df_three_in_five"
   ]
  },
  {
   "cell_type": "code",
   "execution_count": null,
   "metadata": {},
   "outputs": [],
   "source": [
    "df_three_in_five_list = df_three_in_five.groupby([\"threegram\"])[\"fivegram\"].apply(list).reset_index(name=\"fivegram\")\n",
    "df_three_in_five_list"
   ]
  },
  {
   "cell_type": "code",
   "execution_count": null,
   "metadata": {},
   "outputs": [],
   "source": [
    "#df_three_in_six = word_in_wordgroup(threegram_list, df_sixgram_select, \"sixgram\", simple=True)\n",
    "#df_three_in_six.rename(columns={\"word\":\"threegram\"}, inplace=True)\n",
    "#df_three_in_six"
   ]
  },
  {
   "cell_type": "code",
   "execution_count": null,
   "metadata": {},
   "outputs": [],
   "source": [
    "# parameter\n",
    "source_wordgroup_list = threegram_list\n",
    "search_column_name = \"threegram\"\n",
    "target_column = \"sixgram\"\n",
    "df_target = df_sixgram_select\n",
    "\n",
    "# function\n",
    "searchlist = []\n",
    "resultlist = []\n",
    "manager = multiprocessing.Manager()\n",
    "resultlist = manager.list()\n",
    "searchlist = manager.list()\n",
    "\n",
    "def word_in_wordgroup(wordgroup):    \n",
    "    try:\n",
    "        word_in_word_cluster = df_target[df_target[f\"{target_column}\"].str.contains(fr\"(?:\\s|^){wordgroup}(?:\\s|$)\", na=True)]\n",
    "        for result in word_in_word_cluster[f\"{target_column}\"]:\n",
    "            searchlist.append(wordgroup)\n",
    "            resultlist.append(result)\n",
    "    except:\n",
    "        pass\n",
    "\n",
    "if __name__ == '__main__':\n",
    "    # with Pool(16) as p:\n",
    "    with Pool(nprocs) as p: # Pool number CPU sayısına eşit olursa tüm CPU lar çalışır\n",
    "        p.map(word_in_wordgroup, source_wordgroup_list) # string_word liste\n",
    "\n",
    "search_list = list(searchlist)\n",
    "result_list = list(resultlist)\n",
    "df_three_in_six = pd.DataFrame([search_list,result_list]).transpose()\n",
    "df_three_in_six.columns = [f\"{search_column_name}\",f\"{target_column}\"]\n",
    "df_three_in_six"
   ]
  },
  {
   "cell_type": "code",
   "execution_count": null,
   "metadata": {},
   "outputs": [],
   "source": [
    "df_three_in_six_list = df_three_in_six.groupby([\"threegram\"])[\"sixgram\"].apply(list).reset_index(name=\"sixgram\")\n",
    "df_three_in_six_list"
   ]
  },
  {
   "cell_type": "code",
   "execution_count": null,
   "metadata": {},
   "outputs": [],
   "source": [
    "#df_three_in_seven = word_in_wordgroup(threegram_list, df_sevengram_select, \"sevengram\", simple=True)\n",
    "#df_three_in_seven.rename(columns={\"word\":\"threegram\"}, inplace=True)\n",
    "#df_three_in_seven"
   ]
  },
  {
   "cell_type": "code",
   "execution_count": null,
   "metadata": {},
   "outputs": [],
   "source": [
    "# parameter\n",
    "source_wordgroup_list = threegram_list\n",
    "search_column_name = \"threegram\"\n",
    "target_column = \"sevengram\"\n",
    "df_target = df_sevengram_select\n",
    "\n",
    "# function\n",
    "searchlist = []\n",
    "resultlist = []\n",
    "manager = multiprocessing.Manager()\n",
    "resultlist = manager.list()\n",
    "searchlist = manager.list()\n",
    "\n",
    "def word_in_wordgroup(wordgroup):    \n",
    "    try:\n",
    "        word_in_word_cluster = df_target[df_target[f\"{target_column}\"].str.contains(fr\"(?:\\s|^){wordgroup}(?:\\s|$)\", na=True)]\n",
    "        for result in word_in_word_cluster[f\"{target_column}\"]:\n",
    "            searchlist.append(wordgroup)\n",
    "            resultlist.append(result)\n",
    "    except:\n",
    "        pass\n",
    "\n",
    "if __name__ == '__main__':\n",
    "    # with Pool(16) as p:\n",
    "    with Pool(nprocs) as p: # Pool number CPU sayısına eşit olursa tüm CPU lar çalışır\n",
    "        p.map(word_in_wordgroup, source_wordgroup_list) # string_word liste\n",
    "\n",
    "search_list = list(searchlist)\n",
    "result_list = list(resultlist)\n",
    "df_three_in_seven = pd.DataFrame([search_list,result_list]).transpose()\n",
    "df_three_in_seven.columns = [f\"{search_column_name}\",f\"{target_column}\"]\n",
    "df_three_in_seven"
   ]
  },
  {
   "cell_type": "code",
   "execution_count": null,
   "metadata": {},
   "outputs": [],
   "source": [
    "df_three_in_seven_list = df_three_in_seven.groupby([\"threegram\"])[\"sevengram\"].apply(list).reset_index(name=\"sevengram\")\n",
    "df_three_in_seven_list"
   ]
  },
  {
   "cell_type": "code",
   "execution_count": null,
   "metadata": {},
   "outputs": [],
   "source": [
    "#df_three_in_eight = word_in_wordgroup(threegram_list, df_eightgram_select, \"eightgram\", simple=True)\n",
    "#df_three_in_eight.rename(columns={\"word\":\"threegram\"}, inplace=True)\n",
    "#df_three_in_eight"
   ]
  },
  {
   "cell_type": "code",
   "execution_count": null,
   "metadata": {},
   "outputs": [],
   "source": [
    "# parameter\n",
    "source_wordgroup_list = threegram_list\n",
    "search_column_name = \"threegram\"\n",
    "target_column = \"eightgram\"\n",
    "df_target = df_eightgram_select\n",
    "\n",
    "# function\n",
    "searchlist = []\n",
    "resultlist = []\n",
    "manager = multiprocessing.Manager()\n",
    "resultlist = manager.list()\n",
    "searchlist = manager.list()\n",
    "\n",
    "def word_in_wordgroup(wordgroup):    \n",
    "    try:\n",
    "        word_in_word_cluster = df_target[df_target[f\"{target_column}\"].str.contains(fr\"(?:\\s|^){wordgroup}(?:\\s|$)\", na=True)]\n",
    "        for result in word_in_word_cluster[f\"{target_column}\"]:\n",
    "            searchlist.append(wordgroup)\n",
    "            resultlist.append(result)\n",
    "    except:\n",
    "        pass\n",
    "\n",
    "if __name__ == '__main__':\n",
    "    # with Pool(16) as p:\n",
    "    with Pool(nprocs) as p: # Pool number CPU sayısına eşit olursa tüm CPU lar çalışır\n",
    "        p.map(word_in_wordgroup, source_wordgroup_list) # string_word liste\n",
    "\n",
    "search_list = list(searchlist)\n",
    "result_list = list(resultlist)\n",
    "df_three_in_eight = pd.DataFrame([search_list,result_list]).transpose()\n",
    "df_three_in_eight.columns = [f\"{search_column_name}\",f\"{target_column}\"]\n",
    "df_three_in_eight"
   ]
  },
  {
   "cell_type": "code",
   "execution_count": null,
   "metadata": {},
   "outputs": [],
   "source": [
    "df_three_in_eight_list = df_three_in_eight.groupby([\"threegram\"])[\"eightgram\"].apply(list).reset_index(name=\"eightgram\")\n",
    "df_three_in_eight_list"
   ]
  },
  {
   "cell_type": "code",
   "execution_count": null,
   "metadata": {},
   "outputs": [],
   "source": [
    "#df_three_in_nine = word_in_wordgroup(threegram_list, df_ninegram_select, \"ninegram\", simple=True)\n",
    "#df_three_in_nine.rename(columns={\"word\":\"threegram\"}, inplace=True)\n",
    "#df_three_in_nine"
   ]
  },
  {
   "cell_type": "code",
   "execution_count": null,
   "metadata": {},
   "outputs": [],
   "source": [
    "# parameter\n",
    "source_wordgroup_list = threegram_list\n",
    "search_column_name = \"threegram\"\n",
    "target_column = \"ninegram\"\n",
    "df_target = df_ninegram_select\n",
    "\n",
    "# function\n",
    "searchlist = []\n",
    "resultlist = []\n",
    "manager = multiprocessing.Manager()\n",
    "resultlist = manager.list()\n",
    "searchlist = manager.list()\n",
    "\n",
    "def word_in_wordgroup(wordgroup):    \n",
    "    try:\n",
    "        word_in_word_cluster = df_target[df_target[f\"{target_column}\"].str.contains(fr\"(?:\\s|^){wordgroup}(?:\\s|$)\", na=True)]\n",
    "        for result in word_in_word_cluster[f\"{target_column}\"]:\n",
    "            searchlist.append(wordgroup)\n",
    "            resultlist.append(result)\n",
    "    except:\n",
    "        pass\n",
    "\n",
    "if __name__ == '__main__':\n",
    "    # with Pool(16) as p:\n",
    "    with Pool(nprocs) as p: # Pool number CPU sayısına eşit olursa tüm CPU lar çalışır\n",
    "        p.map(word_in_wordgroup, source_wordgroup_list) # string_word liste\n",
    "\n",
    "search_list = list(searchlist)\n",
    "result_list = list(resultlist)\n",
    "df_three_in_nine = pd.DataFrame([search_list,result_list]).transpose()\n",
    "df_three_in_nine.columns = [f\"{search_column_name}\",f\"{target_column}\"]\n",
    "df_three_in_nine"
   ]
  },
  {
   "cell_type": "code",
   "execution_count": null,
   "metadata": {},
   "outputs": [],
   "source": [
    "df_three_in_nine_list = df_three_in_nine.groupby([\"threegram\"])[\"ninegram\"].apply(list).reset_index(name=\"ninegram\")\n",
    "df_three_in_nine_list"
   ]
  },
  {
   "cell_type": "code",
   "execution_count": null,
   "metadata": {},
   "outputs": [],
   "source": [
    "#df_three_in_ten = word_in_wordgroup(threegram_list, df_tengram_select, \"tengram\", simple=True)\n",
    "#df_three_in_ten.rename(columns={\"word\":\"threegram\"}, inplace=True)\n",
    "#df_three_in_ten"
   ]
  },
  {
   "cell_type": "code",
   "execution_count": null,
   "metadata": {},
   "outputs": [],
   "source": [
    "# parameter\n",
    "source_wordgroup_list = threegram_list\n",
    "search_column_name = \"threegram\"\n",
    "target_column = \"tengram\"\n",
    "df_target = df_tengram_select\n",
    "\n",
    "# function\n",
    "searchlist = []\n",
    "resultlist = []\n",
    "manager = multiprocessing.Manager()\n",
    "resultlist = manager.list()\n",
    "searchlist = manager.list()\n",
    "\n",
    "def word_in_wordgroup(wordgroup):    \n",
    "    try:\n",
    "        word_in_word_cluster = df_target[df_target[f\"{target_column}\"].str.contains(fr\"(?:\\s|^){wordgroup}(?:\\s|$)\", na=True)]\n",
    "        for result in word_in_word_cluster[f\"{target_column}\"]:\n",
    "            searchlist.append(wordgroup)\n",
    "            resultlist.append(result)\n",
    "    except:\n",
    "        pass\n",
    "\n",
    "if __name__ == '__main__':\n",
    "    # with Pool(16) as p:\n",
    "    with Pool(nprocs) as p: # Pool number CPU sayısına eşit olursa tüm CPU lar çalışır\n",
    "        p.map(word_in_wordgroup, source_wordgroup_list) # string_word liste\n",
    "\n",
    "search_list = list(searchlist)\n",
    "result_list = list(resultlist)\n",
    "df_three_in_ten = pd.DataFrame([search_list,result_list]).transpose()\n",
    "df_three_in_ten.columns = [f\"{search_column_name}\",f\"{target_column}\"]\n",
    "df_three_in_ten"
   ]
  },
  {
   "cell_type": "code",
   "execution_count": null,
   "metadata": {},
   "outputs": [],
   "source": [
    "df_three_in_ten_list = df_three_in_ten.groupby([\"threegram\"])[\"tengram\"].apply(list).reset_index(name=\"tengram\")\n",
    "df_three_in_ten_list"
   ]
  },
  {
   "cell_type": "code",
   "execution_count": null,
   "metadata": {},
   "outputs": [],
   "source": [
    "dfs3 = [df_threegram_select, df_three_in_four_list, df_three_in_five_list, df_three_in_six_list, df_three_in_seven_list, df_three_in_eight_list, df_three_in_nine_list, df_three_in_ten_list]"
   ]
  },
  {
   "cell_type": "code",
   "execution_count": null,
   "metadata": {},
   "outputs": [],
   "source": [
    "df_threegram_merge = reduce(lambda  left,right: pd.merge(left,right, on=['threegram'], how='left'), dfs3)\n",
    "df_threegram_merge"
   ]
  },
  {
   "cell_type": "code",
   "execution_count": null,
   "metadata": {},
   "outputs": [],
   "source": [
    "df_threegram_merge.to_excel(f\"{lang_folder.capitalize()}_Threegram_Text_Selection_Temp.xlsx\", index=False)"
   ]
  },
  {
   "cell_type": "code",
   "execution_count": null,
   "metadata": {},
   "outputs": [],
   "source": [
    "df_threegram_text = pd.read_excel(f\"{lang_folder.capitalize()}_Threegram_Text_Selection_Temp.xlsx\")"
   ]
  },
  {
   "cell_type": "code",
   "execution_count": null,
   "metadata": {},
   "outputs": [],
   "source": [
    "df_threegram_merge2 = df_threegram_text[~(df_threegram_text[\"fourgram\"].isnull() & df_threegram_text[\"fivegram\"].isnull() & df_threegram_text[\"sixgram\"].isnull() & \\\n",
    "df_threegram_text[\"sevengram\"].isnull() & df_threegram_text[\"eightgram\"].isnull() & df_threegram_text[\"ninegram\"].isnull() & df_threegram_text[\"tengram\"].isnull())]\n",
    "df_threegram_merge2"
   ]
  },
  {
   "cell_type": "code",
   "execution_count": null,
   "metadata": {},
   "outputs": [],
   "source": [
    "df_threegram_merge2.to_excel(f\"{lang_folder.capitalize()}_Threegram_Text_Selection_Result.xlsx\", index=False)"
   ]
  },
  {
   "cell_type": "code",
   "execution_count": null,
   "metadata": {},
   "outputs": [],
   "source": []
  },
  {
   "cell_type": "markdown",
   "metadata": {},
   "source": [
    "##### Fourgram"
   ]
  },
  {
   "cell_type": "code",
   "execution_count": null,
   "metadata": {},
   "outputs": [],
   "source": [
    "#df_four_in_five = word_in_wordgroup(fourgram_list, df_fivegram_select, \"fivegram\", simple=True)\n",
    "#df_four_in_five.rename(columns={\"word\":\"fourgram\"}, inplace=True)\n",
    "#df_four_in_five"
   ]
  },
  {
   "cell_type": "code",
   "execution_count": null,
   "metadata": {},
   "outputs": [],
   "source": [
    "# parameter\n",
    "source_wordgroup_list = fourgram_list\n",
    "search_column_name = \"fourgram\"\n",
    "target_column = \"fivegram\"\n",
    "df_target = df_fivegram_select\n",
    "\n",
    "# function\n",
    "searchlist = []\n",
    "resultlist = []\n",
    "manager = multiprocessing.Manager()\n",
    "resultlist = manager.list()\n",
    "searchlist = manager.list()\n",
    "\n",
    "def word_in_wordgroup(wordgroup):    \n",
    "    try:\n",
    "        word_in_word_cluster = df_target[df_target[f\"{target_column}\"].str.contains(fr\"(?:\\s|^){wordgroup}(?:\\s|$)\", na=True)]\n",
    "        for result in word_in_word_cluster[f\"{target_column}\"]:\n",
    "            searchlist.append(wordgroup)\n",
    "            resultlist.append(result)\n",
    "    except:\n",
    "        pass\n",
    "\n",
    "if __name__ == '__main__':\n",
    "    # with Pool(16) as p:\n",
    "    with Pool(nprocs) as p: # Pool number CPU sayısına eşit olursa tüm CPU lar çalışır\n",
    "        p.map(word_in_wordgroup, source_wordgroup_list) # string_word liste\n",
    "\n",
    "search_list = list(searchlist)\n",
    "result_list = list(resultlist)\n",
    "df_four_in_five = pd.DataFrame([search_list,result_list]).transpose()\n",
    "df_four_in_five.columns = [f\"{search_column_name}\",f\"{target_column}\"]\n",
    "df_four_in_five"
   ]
  },
  {
   "cell_type": "code",
   "execution_count": null,
   "metadata": {},
   "outputs": [],
   "source": [
    "df_four_in_five_list = df_four_in_five.groupby([\"fourgram\"])[\"fivegram\"].apply(list).reset_index(name=\"fivegram\")\n",
    "df_four_in_five_list"
   ]
  },
  {
   "cell_type": "code",
   "execution_count": null,
   "metadata": {},
   "outputs": [],
   "source": [
    "#df_four_in_six = word_in_wordgroup(fourgram_list, df_sixgram_select, \"sixgram\", simple=True)\n",
    "#df_four_in_six.rename(columns={\"word\":\"fourgram\"}, inplace=True)\n",
    "#df_four_in_six"
   ]
  },
  {
   "cell_type": "code",
   "execution_count": null,
   "metadata": {},
   "outputs": [],
   "source": [
    "# parameter\n",
    "source_wordgroup_list = fourgram_list\n",
    "search_column_name = \"fourgram\"\n",
    "target_column = \"sixgram\"\n",
    "df_target = df_sixgram_select\n",
    "\n",
    "# function\n",
    "searchlist = []\n",
    "resultlist = []\n",
    "manager = multiprocessing.Manager()\n",
    "resultlist = manager.list()\n",
    "searchlist = manager.list()\n",
    "\n",
    "def word_in_wordgroup(wordgroup):    \n",
    "    try:\n",
    "        word_in_word_cluster = df_target[df_target[f\"{target_column}\"].str.contains(fr\"(?:\\s|^){wordgroup}(?:\\s|$)\", na=True)]\n",
    "        for result in word_in_word_cluster[f\"{target_column}\"]:\n",
    "            searchlist.append(wordgroup)\n",
    "            resultlist.append(result)\n",
    "    except:\n",
    "        pass\n",
    "\n",
    "if __name__ == '__main__':\n",
    "    # with Pool(16) as p:\n",
    "    with Pool(nprocs) as p: # Pool number CPU sayısına eşit olursa tüm CPU lar çalışır\n",
    "        p.map(word_in_wordgroup, source_wordgroup_list) # string_word liste\n",
    "\n",
    "search_list = list(searchlist)\n",
    "result_list = list(resultlist)\n",
    "df_four_in_six = pd.DataFrame([search_list,result_list]).transpose()\n",
    "df_four_in_six.columns = [f\"{search_column_name}\",f\"{target_column}\"]\n",
    "df_four_in_six"
   ]
  },
  {
   "cell_type": "code",
   "execution_count": null,
   "metadata": {},
   "outputs": [],
   "source": [
    "df_four_in_six_list = df_four_in_six.groupby([\"fourgram\"])[\"sixgram\"].apply(list).reset_index(name=\"sixgram\")\n",
    "df_four_in_six_list"
   ]
  },
  {
   "cell_type": "code",
   "execution_count": null,
   "metadata": {},
   "outputs": [],
   "source": [
    "#df_four_in_seven = word_in_wordgroup(fourgram_list, df_sevengram_select, \"sevengram\", simple=True)\n",
    "#df_four_in_seven.rename(columns={\"word\":\"fourgram\"}, inplace=True)\n",
    "#df_four_in_seven"
   ]
  },
  {
   "cell_type": "code",
   "execution_count": null,
   "metadata": {},
   "outputs": [],
   "source": [
    "# parameter\n",
    "source_wordgroup_list = fourgram_list\n",
    "search_column_name = \"fourgram\"\n",
    "target_column = \"sevengram\"\n",
    "df_target = df_sevengram_select\n",
    "\n",
    "# function\n",
    "searchlist = []\n",
    "resultlist = []\n",
    "manager = multiprocessing.Manager()\n",
    "resultlist = manager.list()\n",
    "searchlist = manager.list()\n",
    "\n",
    "def word_in_wordgroup(wordgroup):    \n",
    "    try:\n",
    "        word_in_word_cluster = df_target[df_target[f\"{target_column}\"].str.contains(fr\"(?:\\s|^){wordgroup}(?:\\s|$)\", na=True)]\n",
    "        for result in word_in_word_cluster[f\"{target_column}\"]:\n",
    "            searchlist.append(wordgroup)\n",
    "            resultlist.append(result)\n",
    "    except:\n",
    "        pass\n",
    "\n",
    "if __name__ == '__main__':\n",
    "    # with Pool(16) as p:\n",
    "    with Pool(nprocs) as p: # Pool number CPU sayısına eşit olursa tüm CPU lar çalışır\n",
    "        p.map(word_in_wordgroup, source_wordgroup_list) # string_word liste\n",
    "\n",
    "search_list = list(searchlist)\n",
    "result_list = list(resultlist)\n",
    "df_four_in_seven = pd.DataFrame([search_list,result_list]).transpose()\n",
    "df_four_in_seven.columns = [f\"{search_column_name}\",f\"{target_column}\"]\n",
    "df_four_in_seven"
   ]
  },
  {
   "cell_type": "code",
   "execution_count": null,
   "metadata": {},
   "outputs": [],
   "source": [
    "df_four_in_seven_list = df_four_in_seven.groupby([\"fourgram\"])[\"sevengram\"].apply(list).reset_index(name=\"sevengram\")\n",
    "df_four_in_seven_list"
   ]
  },
  {
   "cell_type": "code",
   "execution_count": null,
   "metadata": {},
   "outputs": [],
   "source": [
    "#df_four_in_eight = word_in_wordgroup(fourgram_list, df_eightgram_select, \"eightgram\", simple=True)\n",
    "#df_four_in_eight.rename(columns={\"word\":\"fourgram\"}, inplace=True)\n",
    "#df_four_in_eight"
   ]
  },
  {
   "cell_type": "code",
   "execution_count": null,
   "metadata": {},
   "outputs": [],
   "source": [
    "# parameter\n",
    "source_wordgroup_list = fourgram_list\n",
    "search_column_name = \"fourgram\"\n",
    "target_column = \"eightgram\"\n",
    "df_target = df_eightgram_select\n",
    "\n",
    "# function\n",
    "searchlist = []\n",
    "resultlist = []\n",
    "manager = multiprocessing.Manager()\n",
    "resultlist = manager.list()\n",
    "searchlist = manager.list()\n",
    "\n",
    "def word_in_wordgroup(wordgroup):    \n",
    "    try:\n",
    "        word_in_word_cluster = df_target[df_target[f\"{target_column}\"].str.contains(fr\"(?:\\s|^){wordgroup}(?:\\s|$)\", na=True)]\n",
    "        for result in word_in_word_cluster[f\"{target_column}\"]:\n",
    "            searchlist.append(wordgroup)\n",
    "            resultlist.append(result)\n",
    "    except:\n",
    "        pass\n",
    "\n",
    "if __name__ == '__main__':\n",
    "    # with Pool(16) as p:\n",
    "    with Pool(nprocs) as p: # Pool number CPU sayısına eşit olursa tüm CPU lar çalışır\n",
    "        p.map(word_in_wordgroup, source_wordgroup_list) # string_word liste\n",
    "\n",
    "search_list = list(searchlist)\n",
    "result_list = list(resultlist)\n",
    "df_four_in_eight = pd.DataFrame([search_list,result_list]).transpose()\n",
    "df_four_in_eight.columns = [f\"{search_column_name}\",f\"{target_column}\"]\n",
    "df_four_in_eight"
   ]
  },
  {
   "cell_type": "code",
   "execution_count": null,
   "metadata": {},
   "outputs": [],
   "source": [
    "df_four_in_eight_list = df_four_in_eight.groupby([\"fourgram\"])[\"eightgram\"].apply(list).reset_index(name=\"eightgram\")\n",
    "df_four_in_eight_list"
   ]
  },
  {
   "cell_type": "code",
   "execution_count": null,
   "metadata": {},
   "outputs": [],
   "source": [
    "#df_four_in_nine = word_in_wordgroup(fourgram_list, df_ninegram_select, \"ninegram\", simple=True)\n",
    "#df_four_in_nine.rename(columns={\"word\":\"fourgram\"}, inplace=True)\n",
    "#df_four_in_nine"
   ]
  },
  {
   "cell_type": "code",
   "execution_count": null,
   "metadata": {},
   "outputs": [],
   "source": [
    "# parameter\n",
    "source_wordgroup_list = fourgram_list\n",
    "search_column_name = \"fourgram\"\n",
    "target_column = \"ninegram\"\n",
    "df_target = df_ninegram_select\n",
    "\n",
    "# function\n",
    "searchlist = []\n",
    "resultlist = []\n",
    "manager = multiprocessing.Manager()\n",
    "resultlist = manager.list()\n",
    "searchlist = manager.list()\n",
    "\n",
    "def word_in_wordgroup(wordgroup):    \n",
    "    try:\n",
    "        word_in_word_cluster = df_target[df_target[f\"{target_column}\"].str.contains(fr\"(?:\\s|^){wordgroup}(?:\\s|$)\", na=True)]\n",
    "        for result in word_in_word_cluster[f\"{target_column}\"]:\n",
    "            searchlist.append(wordgroup)\n",
    "            resultlist.append(result)\n",
    "    except:\n",
    "        pass\n",
    "\n",
    "if __name__ == '__main__':\n",
    "    # with Pool(16) as p:\n",
    "    with Pool(nprocs) as p: # Pool number CPU sayısına eşit olursa tüm CPU lar çalışır\n",
    "        p.map(word_in_wordgroup, source_wordgroup_list) # string_word liste\n",
    "\n",
    "search_list = list(searchlist)\n",
    "result_list = list(resultlist)\n",
    "df_four_in_nine = pd.DataFrame([search_list,result_list]).transpose()\n",
    "df_four_in_nine.columns = [f\"{search_column_name}\",f\"{target_column}\"]\n",
    "df_four_in_nine"
   ]
  },
  {
   "cell_type": "code",
   "execution_count": null,
   "metadata": {},
   "outputs": [],
   "source": [
    "df_four_in_nine_list = df_four_in_nine.groupby([\"fourgram\"])[\"ninegram\"].apply(list).reset_index(name=\"ninegram\")\n",
    "df_four_in_nine_list"
   ]
  },
  {
   "cell_type": "code",
   "execution_count": null,
   "metadata": {},
   "outputs": [],
   "source": [
    "#df_four_in_ten = word_in_wordgroup(fourgram_list, df_tengram_select, \"tengram\", simple=True)\n",
    "#df_four_in_ten.rename(columns={\"word\":\"fourgram\"}, inplace=True)\n",
    "#df_four_in_ten"
   ]
  },
  {
   "cell_type": "code",
   "execution_count": null,
   "metadata": {},
   "outputs": [],
   "source": [
    "# parameter\n",
    "source_wordgroup_list = fourgram_list\n",
    "search_column_name = \"fourgram\"\n",
    "target_column = \"tengram\"\n",
    "df_target = df_tengram_select\n",
    "\n",
    "# function\n",
    "searchlist = []\n",
    "resultlist = []\n",
    "manager = multiprocessing.Manager()\n",
    "resultlist = manager.list()\n",
    "searchlist = manager.list()\n",
    "\n",
    "def word_in_wordgroup(wordgroup):    \n",
    "    try:\n",
    "        word_in_word_cluster = df_target[df_target[f\"{target_column}\"].str.contains(fr\"(?:\\s|^){wordgroup}(?:\\s|$)\", na=True)]\n",
    "        for result in word_in_word_cluster[f\"{target_column}\"]:\n",
    "            searchlist.append(wordgroup)\n",
    "            resultlist.append(result)\n",
    "    except:\n",
    "        pass\n",
    "\n",
    "if __name__ == '__main__':\n",
    "    # with Pool(16) as p:\n",
    "    with Pool(nprocs) as p: # Pool number CPU sayısına eşit olursa tüm CPU lar çalışır\n",
    "        p.map(word_in_wordgroup, source_wordgroup_list) # string_word liste\n",
    "\n",
    "search_list = list(searchlist)\n",
    "result_list = list(resultlist)\n",
    "df_four_in_ten = pd.DataFrame([search_list,result_list]).transpose()\n",
    "df_four_in_ten.columns = [f\"{search_column_name}\",f\"{target_column}\"]\n",
    "df_four_in_ten"
   ]
  },
  {
   "cell_type": "code",
   "execution_count": null,
   "metadata": {},
   "outputs": [],
   "source": [
    "df_four_in_ten_list = df_four_in_ten.groupby([\"fourgram\"])[\"tengram\"].apply(list).reset_index(name=\"tengram\")\n",
    "df_four_in_ten_list"
   ]
  },
  {
   "cell_type": "code",
   "execution_count": null,
   "metadata": {},
   "outputs": [],
   "source": [
    "dfs4 = [df_fourgram_select, df_four_in_five_list, df_four_in_six_list, df_four_in_seven_list, df_four_in_eight_list, df_four_in_nine_list, df_four_in_ten_list]"
   ]
  },
  {
   "cell_type": "code",
   "execution_count": null,
   "metadata": {},
   "outputs": [],
   "source": [
    "df_fourgram_merge = reduce(lambda  left,right: pd.merge(left,right, on=['fourgram'], how='left'), dfs4)\n",
    "df_fourgram_merge"
   ]
  },
  {
   "cell_type": "code",
   "execution_count": null,
   "metadata": {},
   "outputs": [],
   "source": [
    "df_fourgram_merge.to_excel(f\"{lang_folder.capitalize()}_Fourgram_Text_Selection_Temp.xlsx\", index=False)"
   ]
  },
  {
   "cell_type": "code",
   "execution_count": null,
   "metadata": {},
   "outputs": [],
   "source": [
    "df_fourgram_text = pd.read_excel(f\"{lang_folder.capitalize()}_Fourgram_Text_Selection_Temp.xlsx\")"
   ]
  },
  {
   "cell_type": "code",
   "execution_count": null,
   "metadata": {},
   "outputs": [],
   "source": [
    "df_fourgram_merge2 = df_fourgram_text[~(df_fourgram_text[\"fivegram\"].isnull() & df_fourgram_text[\"sixgram\"].isnull() & df_fourgram_text[\"sevengram\"].isnull() & \\\n",
    "df_fourgram_text[\"eightgram\"].isnull() & df_fourgram_text[\"ninegram\"].isnull() & df_fourgram_text[\"tengram\"].isnull())]\n",
    "df_fourgram_merge2"
   ]
  },
  {
   "cell_type": "code",
   "execution_count": null,
   "metadata": {},
   "outputs": [],
   "source": [
    "df_fourgram_merge2.to_excel(f\"{lang_folder.capitalize()}_Fourgram_Text_Selection_Result.xlsx\", index=False)"
   ]
  },
  {
   "cell_type": "code",
   "execution_count": null,
   "metadata": {},
   "outputs": [],
   "source": []
  },
  {
   "cell_type": "markdown",
   "metadata": {},
   "source": [
    "##### Fivegram"
   ]
  },
  {
   "cell_type": "code",
   "execution_count": null,
   "metadata": {},
   "outputs": [],
   "source": [
    "#df_five_in_six = word_in_wordgroup(fivegram_list, df_sixgram_select, \"sixgram\", simple=True)\n",
    "#df_five_in_six.rename(columns={\"word\":\"fivegram\"}, inplace=True)\n",
    "#df_five_in_six"
   ]
  },
  {
   "cell_type": "code",
   "execution_count": null,
   "metadata": {},
   "outputs": [],
   "source": [
    "# parameter\n",
    "source_wordgroup_list = fivegram_list\n",
    "search_column_name = \"fivegram\"\n",
    "target_column = \"sixgram\"\n",
    "df_target = df_sixgram_select\n",
    "\n",
    "# function\n",
    "searchlist = []\n",
    "resultlist = []\n",
    "manager = multiprocessing.Manager()\n",
    "resultlist = manager.list()\n",
    "searchlist = manager.list()\n",
    "\n",
    "def word_in_wordgroup(wordgroup):    \n",
    "    try:\n",
    "        word_in_word_cluster = df_target[df_target[f\"{target_column}\"].str.contains(fr\"(?:\\s|^){wordgroup}(?:\\s|$)\", na=True)]\n",
    "        for result in word_in_word_cluster[f\"{target_column}\"]:\n",
    "            searchlist.append(wordgroup)\n",
    "            resultlist.append(result)\n",
    "    except:\n",
    "        pass\n",
    "\n",
    "if __name__ == '__main__':\n",
    "    # with Pool(16) as p:\n",
    "    with Pool(nprocs) as p: # Pool number CPU sayısına eşit olursa tüm CPU lar çalışır\n",
    "        p.map(word_in_wordgroup, source_wordgroup_list) # string_word liste\n",
    "\n",
    "search_list = list(searchlist)\n",
    "result_list = list(resultlist)\n",
    "df_five_in_six = pd.DataFrame([search_list,result_list]).transpose()\n",
    "df_five_in_six.columns = [f\"{search_column_name}\",f\"{target_column}\"]\n",
    "df_five_in_six"
   ]
  },
  {
   "cell_type": "code",
   "execution_count": null,
   "metadata": {},
   "outputs": [],
   "source": [
    "df_five_in_six_list = df_five_in_six.groupby([\"fivegram\"])[\"sixgram\"].apply(list).reset_index(name=\"sixgram\")\n",
    "df_five_in_six_list"
   ]
  },
  {
   "cell_type": "code",
   "execution_count": null,
   "metadata": {},
   "outputs": [],
   "source": [
    "#df_five_in_seven = word_in_wordgroup(fivegram_list, df_sevengram_select, \"sevengram\", simple=True)\n",
    "#df_five_in_seven.rename(columns={\"word\":\"fivegram\"}, inplace=True)\n",
    "#df_five_in_seven"
   ]
  },
  {
   "cell_type": "code",
   "execution_count": null,
   "metadata": {},
   "outputs": [],
   "source": [
    "# parameter\n",
    "source_wordgroup_list = fivegram_list\n",
    "search_column_name = \"fivegram\"\n",
    "target_column = \"sevengram\"\n",
    "df_target = df_sevengram_select\n",
    "\n",
    "# function\n",
    "searchlist = []\n",
    "resultlist = []\n",
    "manager = multiprocessing.Manager()\n",
    "resultlist = manager.list()\n",
    "searchlist = manager.list()\n",
    "\n",
    "def word_in_wordgroup(wordgroup):    \n",
    "    try:\n",
    "        word_in_word_cluster = df_target[df_target[f\"{target_column}\"].str.contains(fr\"(?:\\s|^){wordgroup}(?:\\s|$)\", na=True)]\n",
    "        for result in word_in_word_cluster[f\"{target_column}\"]:\n",
    "            searchlist.append(wordgroup)\n",
    "            resultlist.append(result)\n",
    "    except:\n",
    "        pass\n",
    "\n",
    "if __name__ == '__main__':\n",
    "    # with Pool(16) as p:\n",
    "    with Pool(nprocs) as p: # Pool number CPU sayısına eşit olursa tüm CPU lar çalışır\n",
    "        p.map(word_in_wordgroup, source_wordgroup_list) # string_word liste\n",
    "\n",
    "search_list = list(searchlist)\n",
    "result_list = list(resultlist)\n",
    "df_five_in_seven = pd.DataFrame([search_list,result_list]).transpose()\n",
    "df_five_in_seven.columns = [f\"{search_column_name}\",f\"{target_column}\"]\n",
    "df_five_in_seven"
   ]
  },
  {
   "cell_type": "code",
   "execution_count": null,
   "metadata": {},
   "outputs": [],
   "source": [
    "df_five_in_seven_list = df_five_in_seven.groupby([\"fivegram\"])[\"sevengram\"].apply(list).reset_index(name=\"sevengram\")\n",
    "df_five_in_seven_list"
   ]
  },
  {
   "cell_type": "code",
   "execution_count": null,
   "metadata": {},
   "outputs": [],
   "source": [
    "#df_five_in_eight = word_in_wordgroup(fivegram_list, df_eightgram_select, \"eightgram\", simple=True)\n",
    "#df_five_in_eight.rename(columns={\"word\":\"fivegram\"}, inplace=True)\n",
    "#df_five_in_eight"
   ]
  },
  {
   "cell_type": "code",
   "execution_count": null,
   "metadata": {},
   "outputs": [],
   "source": [
    "# parameter\n",
    "source_wordgroup_list = fivegram_list\n",
    "search_column_name = \"fivegram\"\n",
    "target_column = \"eightgram\"\n",
    "df_target = df_eightgram_select\n",
    "\n",
    "# function\n",
    "searchlist = []\n",
    "resultlist = []\n",
    "manager = multiprocessing.Manager()\n",
    "resultlist = manager.list()\n",
    "searchlist = manager.list()\n",
    "\n",
    "def word_in_wordgroup(wordgroup):    \n",
    "    try:\n",
    "        word_in_word_cluster = df_target[df_target[f\"{target_column}\"].str.contains(fr\"(?:\\s|^){wordgroup}(?:\\s|$)\", na=True)]\n",
    "        for result in word_in_word_cluster[f\"{target_column}\"]:\n",
    "            searchlist.append(wordgroup)\n",
    "            resultlist.append(result)\n",
    "    except:\n",
    "        pass\n",
    "\n",
    "if __name__ == '__main__':\n",
    "    # with Pool(16) as p:\n",
    "    with Pool(nprocs) as p: # Pool number CPU sayısına eşit olursa tüm CPU lar çalışır\n",
    "        p.map(word_in_wordgroup, source_wordgroup_list) # string_word liste\n",
    "\n",
    "search_list = list(searchlist)\n",
    "result_list = list(resultlist)\n",
    "df_five_in_eight = pd.DataFrame([search_list,result_list]).transpose()\n",
    "df_five_in_eight.columns = [f\"{search_column_name}\",f\"{target_column}\"]\n",
    "df_five_in_eight"
   ]
  },
  {
   "cell_type": "code",
   "execution_count": null,
   "metadata": {},
   "outputs": [],
   "source": [
    "df_five_in_eight_list = df_five_in_eight.groupby([\"fivegram\"])[\"eightgram\"].apply(list).reset_index(name=\"eightgram\")\n",
    "df_five_in_eight_list"
   ]
  },
  {
   "cell_type": "code",
   "execution_count": null,
   "metadata": {},
   "outputs": [],
   "source": [
    "#df_five_in_nine = word_in_wordgroup(fivegram_list, df_ninegram_select, \"ninegram\", simple=True)\n",
    "#df_five_in_nine.rename(columns={\"word\":\"fivegram\"}, inplace=True)\n",
    "#df_five_in_nine"
   ]
  },
  {
   "cell_type": "code",
   "execution_count": null,
   "metadata": {},
   "outputs": [],
   "source": [
    "# parameter\n",
    "source_wordgroup_list = fivegram_list\n",
    "search_column_name = \"fivegram\"\n",
    "target_column = \"ninegram\"\n",
    "df_target = df_ninegram_select\n",
    "\n",
    "# function\n",
    "searchlist = []\n",
    "resultlist = []\n",
    "manager = multiprocessing.Manager()\n",
    "resultlist = manager.list()\n",
    "searchlist = manager.list()\n",
    "\n",
    "def word_in_wordgroup(wordgroup):    \n",
    "    try:\n",
    "        word_in_word_cluster = df_target[df_target[f\"{target_column}\"].str.contains(fr\"(?:\\s|^){wordgroup}(?:\\s|$)\", na=True)]\n",
    "        for result in word_in_word_cluster[f\"{target_column}\"]:\n",
    "            searchlist.append(wordgroup)\n",
    "            resultlist.append(result)\n",
    "    except:\n",
    "        pass\n",
    "\n",
    "if __name__ == '__main__':\n",
    "    # with Pool(16) as p:\n",
    "    with Pool(nprocs) as p: # Pool number CPU sayısına eşit olursa tüm CPU lar çalışır\n",
    "        p.map(word_in_wordgroup, source_wordgroup_list) # string_word liste\n",
    "\n",
    "search_list = list(searchlist)\n",
    "result_list = list(resultlist)\n",
    "df_five_in_nine = pd.DataFrame([search_list,result_list]).transpose()\n",
    "df_five_in_nine.columns = [f\"{search_column_name}\",f\"{target_column}\"]\n",
    "df_five_in_nine"
   ]
  },
  {
   "cell_type": "code",
   "execution_count": null,
   "metadata": {},
   "outputs": [],
   "source": [
    "df_five_in_nine_list = df_five_in_nine.groupby([\"fivegram\"])[\"ninegram\"].apply(list).reset_index(name=\"ninegram\")\n",
    "df_five_in_nine_list"
   ]
  },
  {
   "cell_type": "code",
   "execution_count": null,
   "metadata": {},
   "outputs": [],
   "source": [
    "#df_five_in_ten = word_in_wordgroup(fivegram_list, df_tengram_select, \"tengram\", simple=True)\n",
    "#df_five_in_ten.rename(columns={\"word\":\"fivegram\"}, inplace=True)\n",
    "#df_five_in_ten"
   ]
  },
  {
   "cell_type": "code",
   "execution_count": null,
   "metadata": {},
   "outputs": [],
   "source": [
    "# parameter\n",
    "source_wordgroup_list = fivegram_list\n",
    "search_column_name = \"fivegram\"\n",
    "target_column = \"tengram\"\n",
    "df_target = df_tengram_select\n",
    "\n",
    "# function\n",
    "searchlist = []\n",
    "resultlist = []\n",
    "manager = multiprocessing.Manager()\n",
    "resultlist = manager.list()\n",
    "searchlist = manager.list()\n",
    "\n",
    "def word_in_wordgroup(wordgroup):    \n",
    "    try:\n",
    "        word_in_word_cluster = df_target[df_target[f\"{target_column}\"].str.contains(fr\"(?:\\s|^){wordgroup}(?:\\s|$)\", na=True)]\n",
    "        for result in word_in_word_cluster[f\"{target_column}\"]:\n",
    "            searchlist.append(wordgroup)\n",
    "            resultlist.append(result)\n",
    "    except:\n",
    "        pass\n",
    "\n",
    "if __name__ == '__main__':\n",
    "    # with Pool(16) as p:\n",
    "    with Pool(nprocs) as p: # Pool number CPU sayısına eşit olursa tüm CPU lar çalışır\n",
    "        p.map(word_in_wordgroup, source_wordgroup_list) # string_word liste\n",
    "\n",
    "search_list = list(searchlist)\n",
    "result_list = list(resultlist)\n",
    "df_five_in_ten = pd.DataFrame([search_list,result_list]).transpose()\n",
    "df_five_in_ten.columns = [f\"{search_column_name}\",f\"{target_column}\"]\n",
    "df_five_in_ten"
   ]
  },
  {
   "cell_type": "code",
   "execution_count": null,
   "metadata": {},
   "outputs": [],
   "source": [
    "df_five_in_ten_list = df_five_in_ten.groupby([\"fivegram\"])[\"tengram\"].apply(list).reset_index(name=\"tengram\")\n",
    "df_five_in_ten_list"
   ]
  },
  {
   "cell_type": "code",
   "execution_count": null,
   "metadata": {},
   "outputs": [],
   "source": [
    "dfs5 = [df_fivegram_select, df_five_in_six_list, df_five_in_seven_list, df_five_in_eight_list, df_five_in_nine_list, df_five_in_ten_list]"
   ]
  },
  {
   "cell_type": "code",
   "execution_count": null,
   "metadata": {},
   "outputs": [],
   "source": [
    "df_fivegram_merge = reduce(lambda  left,right: pd.merge(left,right, on=['fivegram'], how='left'), dfs5)\n",
    "df_fivegram_merge"
   ]
  },
  {
   "cell_type": "code",
   "execution_count": null,
   "metadata": {},
   "outputs": [],
   "source": [
    "df_fivegram_merge.to_excel(f\"{lang_folder.capitalize()}_Fivegram_Text_Selection_Temp.xlsx\", index=False)"
   ]
  },
  {
   "cell_type": "code",
   "execution_count": null,
   "metadata": {},
   "outputs": [],
   "source": [
    "df_fivegram_text = pd.read_excel(f\"{lang_folder.capitalize()}_Fivegram_Text_Selection_Temp.xlsx\")"
   ]
  },
  {
   "cell_type": "code",
   "execution_count": null,
   "metadata": {},
   "outputs": [],
   "source": [
    "df_fivegram_merge2 = df_fivegram_text[~(df_fivegram_text[\"sixgram\"].isnull() & df_fivegram_text[\"sevengram\"].isnull() & \\\n",
    "df_fivegram_text[\"eightgram\"].isnull() & df_fivegram_text[\"ninegram\"].isnull() & df_fivegram_text[\"tengram\"].isnull())]\n",
    "df_fivegram_merge2"
   ]
  },
  {
   "cell_type": "code",
   "execution_count": null,
   "metadata": {},
   "outputs": [],
   "source": [
    "df_fivegram_merge2.to_excel(f\"{lang_folder.capitalize()}_Fivegram_Text_Selection_Result.xlsx\", index=False)"
   ]
  },
  {
   "cell_type": "code",
   "execution_count": null,
   "metadata": {},
   "outputs": [],
   "source": []
  },
  {
   "cell_type": "markdown",
   "metadata": {},
   "source": [
    "##### Sixgram"
   ]
  },
  {
   "cell_type": "code",
   "execution_count": null,
   "metadata": {},
   "outputs": [],
   "source": [
    "#df_six_in_seven = word_in_wordgroup(sixgram_list, df_sevengram_select, \"sevengram\", simple=True)\n",
    "#df_six_in_seven.rename(columns={\"word\":\"sixgram\"}, inplace=True)\n",
    "#df_six_in_seven"
   ]
  },
  {
   "cell_type": "code",
   "execution_count": null,
   "metadata": {},
   "outputs": [],
   "source": [
    "# parameter\n",
    "source_wordgroup_list = sixgram_list\n",
    "search_column_name = \"sixgram\"\n",
    "target_column = \"sevengram\"\n",
    "df_target = df_sevengram_select\n",
    "\n",
    "# function\n",
    "searchlist = []\n",
    "resultlist = []\n",
    "manager = multiprocessing.Manager()\n",
    "resultlist = manager.list()\n",
    "searchlist = manager.list()\n",
    "\n",
    "def word_in_wordgroup(wordgroup):    \n",
    "    try:\n",
    "        word_in_word_cluster = df_target[df_target[f\"{target_column}\"].str.contains(fr\"(?:\\s|^){wordgroup}(?:\\s|$)\", na=True)]\n",
    "        for result in word_in_word_cluster[f\"{target_column}\"]:\n",
    "            searchlist.append(wordgroup)\n",
    "            resultlist.append(result)\n",
    "    except:\n",
    "        pass\n",
    "\n",
    "if __name__ == '__main__':\n",
    "    # with Pool(16) as p:\n",
    "    with Pool(nprocs) as p: # Pool number CPU sayısına eşit olursa tüm CPU lar çalışır\n",
    "        p.map(word_in_wordgroup, source_wordgroup_list) # string_word liste\n",
    "\n",
    "search_list = list(searchlist)\n",
    "result_list = list(resultlist)\n",
    "df_six_in_seven = pd.DataFrame([search_list,result_list]).transpose()\n",
    "df_six_in_seven.columns = [f\"{search_column_name}\",f\"{target_column}\"]\n",
    "df_six_in_seven"
   ]
  },
  {
   "cell_type": "code",
   "execution_count": null,
   "metadata": {},
   "outputs": [],
   "source": [
    "df_six_in_seven_list = df_six_in_seven.groupby([\"sixgram\"])[\"sevengram\"].apply(list).reset_index(name=\"sevengram\")\n",
    "df_six_in_seven_list"
   ]
  },
  {
   "cell_type": "code",
   "execution_count": null,
   "metadata": {},
   "outputs": [],
   "source": [
    "#df_six_in_eight = word_in_wordgroup(sixgram_list, df_eightgram_select, \"eightgram\", simple=True)\n",
    "#df_six_in_eight.rename(columns={\"word\":\"sixgram\"}, inplace=True)\n",
    "#df_six_in_eight"
   ]
  },
  {
   "cell_type": "code",
   "execution_count": null,
   "metadata": {},
   "outputs": [],
   "source": [
    "# parameter\n",
    "source_wordgroup_list = sixgram_list\n",
    "search_column_name = \"sixgram\"\n",
    "target_column = \"eightgram\"\n",
    "df_target = df_eightgram_select\n",
    "\n",
    "# function\n",
    "searchlist = []\n",
    "resultlist = []\n",
    "manager = multiprocessing.Manager()\n",
    "resultlist = manager.list()\n",
    "searchlist = manager.list()\n",
    "\n",
    "def word_in_wordgroup(wordgroup):    \n",
    "    try:\n",
    "        word_in_word_cluster = df_target[df_target[f\"{target_column}\"].str.contains(fr\"(?:\\s|^){wordgroup}(?:\\s|$)\", na=True)]\n",
    "        for result in word_in_word_cluster[f\"{target_column}\"]:\n",
    "            searchlist.append(wordgroup)\n",
    "            resultlist.append(result)\n",
    "    except:\n",
    "        pass\n",
    "\n",
    "if __name__ == '__main__':\n",
    "    # with Pool(16) as p:\n",
    "    with Pool(nprocs) as p: # Pool number CPU sayısına eşit olursa tüm CPU lar çalışır\n",
    "        p.map(word_in_wordgroup, source_wordgroup_list) # string_word liste\n",
    "\n",
    "search_list = list(searchlist)\n",
    "result_list = list(resultlist)\n",
    "df_six_in_eight = pd.DataFrame([search_list,result_list]).transpose()\n",
    "df_six_in_eight.columns = [f\"{search_column_name}\",f\"{target_column}\"]\n",
    "df_six_in_eight"
   ]
  },
  {
   "cell_type": "code",
   "execution_count": null,
   "metadata": {},
   "outputs": [],
   "source": [
    "df_six_in_eight_list = df_six_in_eight.groupby([\"sixgram\"])[\"eightgram\"].apply(list).reset_index(name=\"eightgram\")\n",
    "df_six_in_eight_list"
   ]
  },
  {
   "cell_type": "code",
   "execution_count": null,
   "metadata": {},
   "outputs": [],
   "source": [
    "#df_six_in_nine = word_in_wordgroup(sixgram_list, df_ninegram_select, \"ninegram\", simple=True)\n",
    "#df_six_in_nine.rename(columns={\"word\":\"sixgram\"}, inplace=True)\n",
    "#df_six_in_nine"
   ]
  },
  {
   "cell_type": "code",
   "execution_count": null,
   "metadata": {},
   "outputs": [],
   "source": [
    "# parameter\n",
    "source_wordgroup_list = sixgram_list\n",
    "search_column_name = \"sixgram\"\n",
    "target_column = \"ninegram\"\n",
    "df_target = df_ninegram_select\n",
    "\n",
    "# function\n",
    "searchlist = []\n",
    "resultlist = []\n",
    "manager = multiprocessing.Manager()\n",
    "resultlist = manager.list()\n",
    "searchlist = manager.list()\n",
    "\n",
    "def word_in_wordgroup(wordgroup):    \n",
    "    try:\n",
    "        word_in_word_cluster = df_target[df_target[f\"{target_column}\"].str.contains(fr\"(?:\\s|^){wordgroup}(?:\\s|$)\", na=True)]\n",
    "        for result in word_in_word_cluster[f\"{target_column}\"]:\n",
    "            searchlist.append(wordgroup)\n",
    "            resultlist.append(result)\n",
    "    except:\n",
    "        pass\n",
    "\n",
    "if __name__ == '__main__':\n",
    "    # with Pool(16) as p:\n",
    "    with Pool(nprocs) as p: # Pool number CPU sayısına eşit olursa tüm CPU lar çalışır\n",
    "        p.map(word_in_wordgroup, source_wordgroup_list) # string_word liste\n",
    "\n",
    "search_list = list(searchlist)\n",
    "result_list = list(resultlist)\n",
    "df_six_in_nine = pd.DataFrame([search_list,result_list]).transpose()\n",
    "df_six_in_nine.columns = [f\"{search_column_name}\",f\"{target_column}\"]\n",
    "df_six_in_nine"
   ]
  },
  {
   "cell_type": "code",
   "execution_count": null,
   "metadata": {},
   "outputs": [],
   "source": [
    "df_six_in_nine_list = df_six_in_nine.groupby([\"sixgram\"])[\"ninegram\"].apply(list).reset_index(name=\"ninegram\")\n",
    "df_six_in_nine_list"
   ]
  },
  {
   "cell_type": "code",
   "execution_count": null,
   "metadata": {},
   "outputs": [],
   "source": [
    "#df_six_in_ten = word_in_wordgroup(sixgram_list, df_tengram_select, \"tengram\", simple=True)\n",
    "#df_six_in_ten.rename(columns={\"word\":\"sixgram\"}, inplace=True)\n",
    "#df_six_in_ten"
   ]
  },
  {
   "cell_type": "code",
   "execution_count": null,
   "metadata": {},
   "outputs": [],
   "source": [
    "# parameter\n",
    "source_wordgroup_list = sixgram_list\n",
    "search_column_name = \"sixgram\"\n",
    "target_column = \"tengram\"\n",
    "df_target = df_tengram_select\n",
    "\n",
    "# function\n",
    "searchlist = []\n",
    "resultlist = []\n",
    "manager = multiprocessing.Manager()\n",
    "resultlist = manager.list()\n",
    "searchlist = manager.list()\n",
    "\n",
    "def word_in_wordgroup(wordgroup):    \n",
    "    try:\n",
    "        word_in_word_cluster = df_target[df_target[f\"{target_column}\"].str.contains(fr\"(?:\\s|^){wordgroup}(?:\\s|$)\", na=True)]\n",
    "        for result in word_in_word_cluster[f\"{target_column}\"]:\n",
    "            searchlist.append(wordgroup)\n",
    "            resultlist.append(result)\n",
    "    except:\n",
    "        pass\n",
    "\n",
    "if __name__ == '__main__':\n",
    "    # with Pool(16) as p:\n",
    "    with Pool(nprocs) as p: # Pool number CPU sayısına eşit olursa tüm CPU lar çalışır\n",
    "        p.map(word_in_wordgroup, source_wordgroup_list) # string_word liste\n",
    "\n",
    "search_list = list(searchlist)\n",
    "result_list = list(resultlist)\n",
    "df_six_in_ten = pd.DataFrame([search_list,result_list]).transpose()\n",
    "df_six_in_ten.columns = [f\"{search_column_name}\",f\"{target_column}\"]\n",
    "df_six_in_ten"
   ]
  },
  {
   "cell_type": "code",
   "execution_count": null,
   "metadata": {},
   "outputs": [],
   "source": [
    "df_six_in_ten_list = df_six_in_ten.groupby([\"sixgram\"])[\"tengram\"].apply(list).reset_index(name=\"tengram\")\n",
    "df_six_in_ten_list"
   ]
  },
  {
   "cell_type": "code",
   "execution_count": null,
   "metadata": {},
   "outputs": [],
   "source": [
    "dfs6 = [df_sixgram_select, df_six_in_seven_list, df_six_in_eight_list, df_six_in_nine_list, df_six_in_ten_list]"
   ]
  },
  {
   "cell_type": "code",
   "execution_count": null,
   "metadata": {},
   "outputs": [],
   "source": [
    "df_sixgram_merge = reduce(lambda  left,right: pd.merge(left,right, on=['sixgram'], how='left'), dfs6)\n",
    "df_sixgram_merge"
   ]
  },
  {
   "cell_type": "code",
   "execution_count": null,
   "metadata": {},
   "outputs": [],
   "source": [
    "df_sixgram_merge.to_excel(f\"{lang_folder.capitalize()}_Sixgram_Text_Selection_Temp.xlsx\", index=False)"
   ]
  },
  {
   "cell_type": "code",
   "execution_count": null,
   "metadata": {},
   "outputs": [],
   "source": [
    "df_sixgram_text = pd.read_excel(f\"{lang_folder.capitalize()}_Sixgram_Text_Selection_Temp.xlsx\")"
   ]
  },
  {
   "cell_type": "code",
   "execution_count": null,
   "metadata": {},
   "outputs": [],
   "source": [
    "df_sixgram_merge2 = df_sixgram_text[~(df_sixgram_text[\"sevengram\"].isnull() & df_sixgram_text[\"eightgram\"].isnull() & df_sixgram_text[\"ninegram\"].isnull() & df_sixgram_text[\"tengram\"].isnull())]\n",
    "df_sixgram_merge2"
   ]
  },
  {
   "cell_type": "code",
   "execution_count": null,
   "metadata": {},
   "outputs": [],
   "source": [
    "df_sixgram_merge2.to_excel(f\"{lang_folder.capitalize()}_Sixgram_Text_Selection_Result.xlsx\", index=False)"
   ]
  },
  {
   "cell_type": "code",
   "execution_count": null,
   "metadata": {},
   "outputs": [],
   "source": []
  },
  {
   "cell_type": "markdown",
   "metadata": {},
   "source": [
    "##### Sevengram"
   ]
  },
  {
   "cell_type": "code",
   "execution_count": null,
   "metadata": {},
   "outputs": [],
   "source": [
    "#df_seven_in_eight = word_in_wordgroup(sevengram_list, df_eightgram_select, \"eightgram\", simple=True)\n",
    "#df_seven_in_eight.rename(columns={\"word\":\"sevengram\"}, inplace=True)\n",
    "#df_seven_in_eight"
   ]
  },
  {
   "cell_type": "code",
   "execution_count": null,
   "metadata": {},
   "outputs": [],
   "source": [
    "# parameter\n",
    "source_wordgroup_list = sevengram_list\n",
    "search_column_name = \"sevengram\"\n",
    "target_column = \"eightgram\"\n",
    "df_target = df_eightgram_select\n",
    "\n",
    "# function\n",
    "searchlist = []\n",
    "resultlist = []\n",
    "manager = multiprocessing.Manager()\n",
    "resultlist = manager.list()\n",
    "searchlist = manager.list()\n",
    "\n",
    "def word_in_wordgroup(wordgroup):    \n",
    "    try:\n",
    "        word_in_word_cluster = df_target[df_target[f\"{target_column}\"].str.contains(fr\"(?:\\s|^){wordgroup}(?:\\s|$)\", na=True)]\n",
    "        for result in word_in_word_cluster[f\"{target_column}\"]:\n",
    "            searchlist.append(wordgroup)\n",
    "            resultlist.append(result)\n",
    "    except:\n",
    "        pass\n",
    "\n",
    "if __name__ == '__main__':\n",
    "    # with Pool(16) as p:\n",
    "    with Pool(nprocs-2) as p: # Pool number CPU sayısına eşit olursa tüm CPU lar çalışır\n",
    "        p.map(word_in_wordgroup, source_wordgroup_list) # string_word liste\n",
    "\n",
    "search_list = list(searchlist)\n",
    "result_list = list(resultlist)\n",
    "df_seven_in_eight = pd.DataFrame([search_list,result_list]).transpose()\n",
    "df_seven_in_eight.columns = [f\"{search_column_name}\",f\"{target_column}\"]\n",
    "df_seven_in_eight"
   ]
  },
  {
   "cell_type": "code",
   "execution_count": null,
   "metadata": {},
   "outputs": [],
   "source": [
    "df_seven_in_eight_list = df_seven_in_eight.groupby([\"sevengram\"])[\"eightgram\"].apply(list).reset_index(name=\"eightgram\")\n",
    "df_seven_in_eight_list"
   ]
  },
  {
   "cell_type": "code",
   "execution_count": null,
   "metadata": {},
   "outputs": [],
   "source": [
    "#df_seven_in_nine = word_in_wordgroup(sevengram_list, df_ninegram_select, \"ninegram\", simple=True)\n",
    "#df_seven_in_nine.rename(columns={\"word\":\"sevengram\"}, inplace=True)\n",
    "#df_seven_in_nine"
   ]
  },
  {
   "cell_type": "code",
   "execution_count": null,
   "metadata": {},
   "outputs": [],
   "source": [
    "# parameter\n",
    "source_wordgroup_list = sevengram_list\n",
    "search_column_name = \"sevengram\"\n",
    "target_column = \"ninegram\"\n",
    "df_target = df_ninegram_select\n",
    "\n",
    "# function\n",
    "searchlist = []\n",
    "resultlist = []\n",
    "manager = multiprocessing.Manager()\n",
    "resultlist = manager.list()\n",
    "searchlist = manager.list()\n",
    "\n",
    "def word_in_wordgroup(wordgroup):    \n",
    "    try:\n",
    "        word_in_word_cluster = df_target[df_target[f\"{target_column}\"].str.contains(fr\"(?:\\s|^){wordgroup}(?:\\s|$)\", na=True)]\n",
    "        for result in word_in_word_cluster[f\"{target_column}\"]:\n",
    "            searchlist.append(wordgroup)\n",
    "            resultlist.append(result)\n",
    "    except:\n",
    "        pass\n",
    "\n",
    "if __name__ == '__main__':\n",
    "    # with Pool(16) as p:\n",
    "    with Pool(nprocs-2) as p: # Pool number CPU sayısına eşit olursa tüm CPU lar çalışır\n",
    "        p.map(word_in_wordgroup, source_wordgroup_list) # string_word liste\n",
    "\n",
    "search_list = list(searchlist)\n",
    "result_list = list(resultlist)\n",
    "df_seven_in_nine = pd.DataFrame([search_list,result_list]).transpose()\n",
    "df_seven_in_nine.columns = [f\"{search_column_name}\",f\"{target_column}\"]\n",
    "df_seven_in_nine"
   ]
  },
  {
   "cell_type": "code",
   "execution_count": null,
   "metadata": {},
   "outputs": [],
   "source": [
    "df_seven_in_nine_list = df_seven_in_nine.groupby([\"sevengram\"])[\"ninegram\"].apply(list).reset_index(name=\"ninegram\")\n",
    "df_seven_in_nine_list"
   ]
  },
  {
   "cell_type": "code",
   "execution_count": null,
   "metadata": {},
   "outputs": [],
   "source": [
    "#df_seven_in_ten = word_in_wordgroup(sevengram_list, df_tengram_select, \"tengram\", simple=True)\n",
    "#df_seven_in_ten.rename(columns={\"word\":\"sevengram\"}, inplace=True)\n",
    "#df_seven_in_ten"
   ]
  },
  {
   "cell_type": "code",
   "execution_count": null,
   "metadata": {},
   "outputs": [],
   "source": [
    "# parameter\n",
    "source_wordgroup_list = sevengram_list\n",
    "search_column_name = \"sevengram\"\n",
    "target_column = \"tengram\"\n",
    "df_target = df_tengram_select\n",
    "\n",
    "# function\n",
    "searchlist = []\n",
    "resultlist = []\n",
    "manager = multiprocessing.Manager()\n",
    "resultlist = manager.list()\n",
    "searchlist = manager.list()\n",
    "\n",
    "def word_in_wordgroup(wordgroup):    \n",
    "    try:\n",
    "        word_in_word_cluster = df_target[df_target[f\"{target_column}\"].str.contains(fr\"(?:\\s|^){wordgroup}(?:\\s|$)\", na=True)]\n",
    "        for result in word_in_word_cluster[f\"{target_column}\"]:\n",
    "            searchlist.append(wordgroup)\n",
    "            resultlist.append(result)\n",
    "    except:\n",
    "        pass\n",
    "\n",
    "if __name__ == '__main__':\n",
    "    # with Pool(16) as p:\n",
    "    with Pool(nprocs-2) as p: # Pool number CPU sayısına eşit olursa tüm CPU lar çalışır\n",
    "        p.map(word_in_wordgroup, source_wordgroup_list) # string_word liste\n",
    "\n",
    "search_list = list(searchlist)\n",
    "result_list = list(resultlist)\n",
    "df_seven_in_ten = pd.DataFrame([search_list,result_list]).transpose()\n",
    "df_seven_in_ten.columns = [f\"{search_column_name}\",f\"{target_column}\"]\n",
    "df_seven_in_ten"
   ]
  },
  {
   "cell_type": "code",
   "execution_count": null,
   "metadata": {},
   "outputs": [],
   "source": [
    "df_seven_in_ten_list = df_seven_in_ten.groupby([\"sevengram\"])[\"tengram\"].apply(list).reset_index(name=\"tengram\")\n",
    "df_seven_in_ten_list"
   ]
  },
  {
   "cell_type": "code",
   "execution_count": null,
   "metadata": {},
   "outputs": [],
   "source": [
    "dfs7 = [df_sevengram_select, df_seven_in_eight_list, df_seven_in_nine_list, df_seven_in_ten_list]"
   ]
  },
  {
   "cell_type": "code",
   "execution_count": null,
   "metadata": {},
   "outputs": [],
   "source": [
    "df_sevengram_merge = reduce(lambda  left,right: pd.merge(left,right, on=['sevengram'], how='left'), dfs7)\n",
    "df_sevengram_merge"
   ]
  },
  {
   "cell_type": "code",
   "execution_count": null,
   "metadata": {},
   "outputs": [],
   "source": [
    "df_sevengram_merge.to_excel(f\"{lang_folder.capitalize()}_Sevengram_Text_Selection_Temp.xlsx\", index=False)"
   ]
  },
  {
   "cell_type": "code",
   "execution_count": null,
   "metadata": {},
   "outputs": [],
   "source": [
    "df_sevengram_text = pd.read_excel(f\"{lang_folder.capitalize()}_Sevengram_Text_Selection_Temp.xlsx\")"
   ]
  },
  {
   "cell_type": "code",
   "execution_count": null,
   "metadata": {},
   "outputs": [],
   "source": [
    "df_sevengram_merge2 = df_sevengram_text[~(df_sevengram_text[\"eightgram\"].isnull() & df_sevengram_text[\"ninegram\"].isnull() & df_sevengram_text[\"tengram\"].isnull())]\n",
    "df_sevengram_merge2"
   ]
  },
  {
   "cell_type": "code",
   "execution_count": null,
   "metadata": {},
   "outputs": [],
   "source": [
    "df_sevengram_merge2.to_excel(f\"{lang_folder.capitalize()}_Sevengram_Text_Selection_Result.xlsx\", index=False)"
   ]
  },
  {
   "cell_type": "code",
   "execution_count": null,
   "metadata": {},
   "outputs": [],
   "source": []
  },
  {
   "cell_type": "markdown",
   "metadata": {},
   "source": [
    "##### Eightgram"
   ]
  },
  {
   "cell_type": "code",
   "execution_count": null,
   "metadata": {},
   "outputs": [],
   "source": [
    "#df_eight_in_nine = word_in_wordgroup(eightgram_list, df_ninegram_select, \"ninegram\", simple=True)\n",
    "#df_eight_in_nine.rename(columns={\"word\":\"eightgram\"}, inplace=True)\n",
    "#df_eight_in_nine"
   ]
  },
  {
   "cell_type": "code",
   "execution_count": null,
   "metadata": {},
   "outputs": [],
   "source": [
    "# parameter\n",
    "source_wordgroup_list = eightgram_list\n",
    "search_column_name = \"eightgram\"\n",
    "target_column = \"ninegram\"\n",
    "df_target = df_ninegram_select\n",
    "\n",
    "# function\n",
    "searchlist = []\n",
    "resultlist = []\n",
    "manager = multiprocessing.Manager()\n",
    "resultlist = manager.list()\n",
    "searchlist = manager.list()\n",
    "\n",
    "def word_in_wordgroup(wordgroup):    \n",
    "    try:\n",
    "        word_in_word_cluster = df_target[df_target[f\"{target_column}\"].str.contains(fr\"(?:\\s|^){wordgroup}(?:\\s|$)\", na=True)]\n",
    "        for result in word_in_word_cluster[f\"{target_column}\"]:\n",
    "            searchlist.append(wordgroup)\n",
    "            resultlist.append(result)\n",
    "    except:\n",
    "        pass\n",
    "\n",
    "if __name__ == '__main__':\n",
    "    # with Pool(16) as p:\n",
    "    with Pool(nprocs-2) as p: # Pool number CPU sayısına eşit olursa tüm CPU lar çalışır\n",
    "        p.map(word_in_wordgroup, source_wordgroup_list) # string_word liste\n",
    "\n",
    "search_list = list(searchlist)\n",
    "result_list = list(resultlist)\n",
    "df_eight_in_nine = pd.DataFrame([search_list,result_list]).transpose()\n",
    "df_eight_in_nine.columns = [f\"{search_column_name}\",f\"{target_column}\"]\n",
    "df_eight_in_nine"
   ]
  },
  {
   "cell_type": "code",
   "execution_count": null,
   "metadata": {},
   "outputs": [],
   "source": [
    "df_eight_in_nine_list = df_eight_in_nine.groupby([\"eightgram\"])[\"ninegram\"].apply(list).reset_index(name=\"ninegram\")\n",
    "df_eight_in_nine_list"
   ]
  },
  {
   "cell_type": "code",
   "execution_count": null,
   "metadata": {},
   "outputs": [],
   "source": [
    "#df_eight_in_ten = word_in_wordgroup(eightgram_list, df_tengram_select, \"tengram\", simple=True)\n",
    "#df_eight_in_ten.rename(columns={\"word\":\"eightgram\"}, inplace=True)\n",
    "#df_eight_in_ten"
   ]
  },
  {
   "cell_type": "code",
   "execution_count": null,
   "metadata": {},
   "outputs": [],
   "source": [
    "# parameter\n",
    "source_wordgroup_list = eightgram_list\n",
    "search_column_name = \"eightgram\"\n",
    "target_column = \"tengram\"\n",
    "df_target = df_tengram_select\n",
    "\n",
    "# function\n",
    "searchlist = []\n",
    "resultlist = []\n",
    "manager = multiprocessing.Manager()\n",
    "resultlist = manager.list()\n",
    "searchlist = manager.list()\n",
    "\n",
    "def word_in_wordgroup(wordgroup):    \n",
    "    try:\n",
    "        word_in_word_cluster = df_target[df_target[f\"{target_column}\"].str.contains(fr\"(?:\\s|^){wordgroup}(?:\\s|$)\", na=True)]\n",
    "        for result in word_in_word_cluster[f\"{target_column}\"]:\n",
    "            searchlist.append(wordgroup)\n",
    "            resultlist.append(result)\n",
    "    except:\n",
    "        pass\n",
    "\n",
    "if __name__ == '__main__':\n",
    "    # with Pool(16) as p:\n",
    "    with Pool(nprocs) as p: # Pool number CPU sayısına eşit olursa tüm CPU lar çalışır\n",
    "        p.map(word_in_wordgroup, source_wordgroup_list) # string_word liste\n",
    "\n",
    "search_list = list(searchlist)\n",
    "result_list = list(resultlist)\n",
    "df_eight_in_ten = pd.DataFrame([search_list,result_list]).transpose()\n",
    "df_eight_in_ten.columns = [f\"{search_column_name}\",f\"{target_column}\"]\n",
    "df_eight_in_ten"
   ]
  },
  {
   "cell_type": "code",
   "execution_count": null,
   "metadata": {},
   "outputs": [],
   "source": [
    "df_eight_in_ten_list = df_eight_in_ten.groupby([\"eightgram\"])[\"tengram\"].apply(list).reset_index(name=\"tengram\")\n",
    "df_eight_in_ten_list"
   ]
  },
  {
   "cell_type": "code",
   "execution_count": null,
   "metadata": {},
   "outputs": [],
   "source": [
    "dfs8 = [df_eightgram_select, df_eight_in_nine_list, df_eight_in_ten_list]"
   ]
  },
  {
   "cell_type": "code",
   "execution_count": null,
   "metadata": {},
   "outputs": [],
   "source": [
    "df_eightgram_merge = reduce(lambda  left,right: pd.merge(left,right, on=['eightgram'], how='left'), dfs8)\n",
    "df_eightgram_merge"
   ]
  },
  {
   "cell_type": "code",
   "execution_count": null,
   "metadata": {},
   "outputs": [],
   "source": [
    "df_eightgram_merge.to_excel(f\"{lang_folder.capitalize()}_Eightgram_Text_Selection_Temp.xlsx\", index=False)"
   ]
  },
  {
   "cell_type": "code",
   "execution_count": null,
   "metadata": {},
   "outputs": [],
   "source": [
    "df_eightgram_text = pd.read_excel(f\"{lang_folder.capitalize()}_Eightgram_Text_Selection_Temp.xlsx\")"
   ]
  },
  {
   "cell_type": "code",
   "execution_count": null,
   "metadata": {},
   "outputs": [],
   "source": [
    "df_eightgram_merge2 = df_eightgram_text[~(df_eightgram_text[\"ninegram\"].isnull() & df_eightgram_text[\"tengram\"].isnull())]\n",
    "df_eightgram_merge2"
   ]
  },
  {
   "cell_type": "code",
   "execution_count": null,
   "metadata": {},
   "outputs": [],
   "source": [
    "df_eightgram_merge2.to_excel(f\"{lang_folder.capitalize()}_Eightgram_Text_Selection_Result.xlsx\", index=False)"
   ]
  },
  {
   "cell_type": "code",
   "execution_count": null,
   "metadata": {},
   "outputs": [],
   "source": []
  },
  {
   "cell_type": "markdown",
   "metadata": {},
   "source": [
    "##### Ninegram"
   ]
  },
  {
   "cell_type": "code",
   "execution_count": null,
   "metadata": {},
   "outputs": [],
   "source": [
    "#df_nine_in_ten = word_in_wordgroup(ninegram_list, df_tengram_select, \"tengram\", simple=True)\n",
    "#df_nine_in_ten.rename(columns={\"word\":\"ninegram\"}, inplace=True)\n",
    "#df_nine_in_ten"
   ]
  },
  {
   "cell_type": "code",
   "execution_count": null,
   "metadata": {},
   "outputs": [],
   "source": [
    "# parameter\n",
    "source_wordgroup_list = ninegram_list\n",
    "search_column_name = \"ninegram\"\n",
    "target_column = \"tengram\"\n",
    "df_target = df_tengram_select\n",
    "\n",
    "# function\n",
    "searchlist = []\n",
    "resultlist = []\n",
    "manager = multiprocessing.Manager()\n",
    "resultlist = manager.list()\n",
    "searchlist = manager.list()\n",
    "\n",
    "def word_in_wordgroup(wordgroup):    \n",
    "    try:\n",
    "        word_in_word_cluster = df_target[df_target[f\"{target_column}\"].str.contains(fr\"(?:\\s|^){wordgroup}(?:\\s|$)\", na=True)]\n",
    "        for result in word_in_word_cluster[f\"{target_column}\"]:\n",
    "            searchlist.append(wordgroup)\n",
    "            resultlist.append(result)\n",
    "    except:\n",
    "        pass\n",
    "\n",
    "if __name__ == '__main__':\n",
    "    # with Pool(16) as p:\n",
    "    with Pool(nprocs-2) as p: # Pool number CPU sayısına eşit olursa tüm CPU lar çalışır\n",
    "        p.map(word_in_wordgroup, source_wordgroup_list) # string_word liste\n",
    "\n",
    "search_list = list(searchlist)\n",
    "result_list = list(resultlist)\n",
    "df_nine_in_ten = pd.DataFrame([search_list,result_list]).transpose()\n",
    "df_nine_in_ten.columns = [f\"{search_column_name}\",f\"{target_column}\"]\n",
    "df_nine_in_ten"
   ]
  },
  {
   "cell_type": "code",
   "execution_count": null,
   "metadata": {},
   "outputs": [],
   "source": [
    "df_nine_in_ten_list = df_nine_in_ten.groupby([\"ninegram\"])[\"tengram\"].apply(list).reset_index(name=\"tengram\")\n",
    "df_nine_in_ten_list"
   ]
  },
  {
   "cell_type": "code",
   "execution_count": null,
   "metadata": {},
   "outputs": [],
   "source": [
    "dfs9 = [df_ninegram_select, df_nine_in_ten_list]"
   ]
  },
  {
   "cell_type": "code",
   "execution_count": null,
   "metadata": {},
   "outputs": [],
   "source": [
    "df_ninegram_merge = reduce(lambda  left,right: pd.merge(left,right, on=['ninegram'], how='left'), dfs9)\n",
    "df_ninegram_merge"
   ]
  },
  {
   "cell_type": "code",
   "execution_count": null,
   "metadata": {},
   "outputs": [],
   "source": [
    "df_ninegram_merge.to_excel(f\"{lang_folder.capitalize()}_Ninegram_Text_Selection_Temp.xlsx\", index=False)"
   ]
  },
  {
   "cell_type": "code",
   "execution_count": null,
   "metadata": {},
   "outputs": [],
   "source": [
    "df_ninegram_text = pd.read_excel(f\"{lang_folder.capitalize()}_Ninegram_Text_Selection_Temp.xlsx\")"
   ]
  },
  {
   "cell_type": "code",
   "execution_count": null,
   "metadata": {},
   "outputs": [],
   "source": [
    "df_ninegram_merge2 = df_ninegram_text[~(df_ninegram_text[\"tengram\"].isnull())]\n",
    "df_ninegram_merge2"
   ]
  },
  {
   "cell_type": "code",
   "execution_count": null,
   "metadata": {},
   "outputs": [],
   "source": [
    "df_ninegram_merge2.to_excel(f\"{lang_folder.capitalize()}_Ninegram_Text_Selection_Result.xlsx\", index=False)"
   ]
  },
  {
   "cell_type": "code",
   "execution_count": null,
   "metadata": {},
   "outputs": [],
   "source": []
  },
  {
   "cell_type": "markdown",
   "metadata": {},
   "source": [
    "#### Copy Move And Delete"
   ]
  },
  {
   "cell_type": "code",
   "execution_count": null,
   "metadata": {},
   "outputs": [],
   "source": [
    "output_file = glob.glob(f\"{lang_folder.capitalize()}_*_Text_Selection_Result*\")\n",
    "#output_file = glob.glob(f\"*_Selected_*.xlsx\")\n",
    "output_file"
   ]
  },
  {
   "cell_type": "code",
   "execution_count": null,
   "metadata": {},
   "outputs": [],
   "source": [
    "for l in output_file:\n",
    "    source = l # source directory\n",
    "    destination = path\n",
    "    shutil.copy2(source, destination)"
   ]
  },
  {
   "cell_type": "code",
   "execution_count": null,
   "metadata": {},
   "outputs": [],
   "source": [
    "for j in output_file:\n",
    "    try:\n",
    "        os.remove(j)\n",
    "    except:\n",
    "        pass"
   ]
  },
  {
   "cell_type": "code",
   "execution_count": null,
   "metadata": {},
   "outputs": [],
   "source": []
  },
  {
   "cell_type": "code",
   "execution_count": null,
   "metadata": {},
   "outputs": [],
   "source": []
  },
  {
   "cell_type": "code",
   "execution_count": null,
   "metadata": {},
   "outputs": [],
   "source": []
  },
  {
   "cell_type": "markdown",
   "metadata": {},
   "source": [
    "#### Temp"
   ]
  },
  {
   "cell_type": "code",
   "execution_count": null,
   "metadata": {},
   "outputs": [],
   "source": [
    "import os\n",
    "import multiprocessing\n",
    "#import multiprocessing as mp\n",
    "from multiprocessing import Process, Manager, Pool, Queue\n",
    "from itertools import islice\n",
    "from collections import Counter\n",
    "import re\n",
    "import pandas as pd\n",
    "import numpy as np\n",
    "import glob\n",
    "import nltk\n",
    "from nltk import word_tokenize\n",
    "from functools import reduce\n",
    "from pathlib import Path\n",
    "import shutil"
   ]
  },
  {
   "cell_type": "code",
   "execution_count": null,
   "metadata": {},
   "outputs": [],
   "source": [
    "nprocs = multiprocessing.cpu_count()\n",
    "print(f\"Number of CPU cores: {nprocs}\")"
   ]
  },
  {
   "cell_type": "code",
   "execution_count": null,
   "metadata": {},
   "outputs": [],
   "source": [
    "# language pair\n",
    "lang_folder = \"Turkish\"  # Arabic, English, French, German, Turkish, Spanish, Portuguese, Dutch, Italian ==> target language for learner\n",
    "#lang_pair = \"Intersect\"  # Arabic, English, French, German, Turkish, Spanish, Portuguese, Dutch, Italian ==> native language\n",
    "\n",
    "# adding native word to shared word\n",
    "word_start = 0  # 0 native word start index\n",
    "word_end = 200  # 28 native word end index\n",
    "\n",
    "# word all usage in twogram\n",
    "word_use_num_min = 1  # word usage in selected twograms \n",
    "word_use_num_max = 4"
   ]
  },
  {
   "cell_type": "code",
   "execution_count": null,
   "metadata": {},
   "outputs": [],
   "source": [
    "def word_usage_result(word_list, df_target, target_column, word_usage_min, word_usage_max): # word_usage_result(word_list, df_target, target_column, target_opt_column, word_usage_min, word_usage_max)\n",
    "    '''\n",
    "    word_usage_result(word_list, df_ngram_pair, \"threegram\", \"frequency\", 1, 5) \\n\n",
    "    word_list is a list, df_target is a dateframe, target_column is df_target dataframe target column, \\n\n",
    "    target_opt_column is df_target dataframe opt_target column, \\n\n",
    "    word_usage_min and word_usage_max word usage condition.\n",
    "    '''    \n",
    "    word_num_dict = {}\n",
    "    for i in word_list:\n",
    "        word_num_dict[f\"{i}\"] = 0\n",
    "    \n",
    "    result_list_select = []\n",
    "    var_list = []\n",
    "    for i in range(len(df_target)):\n",
    "        target_value = df_target.loc[i,f\"{target_column}\"]\n",
    "        #opt_value = df_target.loc[i,f\"{target_opt_column}\"]\n",
    "        words = word_tokenize(target_value)   \n",
    "        temp_list = [word for word in words]\n",
    "        temp_list = temp_list + var_list\n",
    "        # word count for max\n",
    "        dict_list_count = Counter(temp_list)\n",
    "        count_list = list(dict_list_count.values())\n",
    "        # word count for min\n",
    "        count_list2 = list(word_num_dict.values())\n",
    "    \n",
    "        if any([True if i>word_usage_max else False for i in count_list]) or not(any([True if j<word_usage_min else False for j in count_list2])):\n",
    "            pass\n",
    "        else:\n",
    "            var_list = temp_list\n",
    "            result_list_select.append([target_value])\n",
    "            #result_list_select.append([target_value,opt_value])  \n",
    "    \n",
    "            for item2 in dict_list_count.items(): \n",
    "                word_num_dict[item2[0]] = item2[1]        \n",
    "    df_result = pd.DataFrame(result_list_select, columns=[f\"{target_column}\"])\n",
    "    #df_result = pd.DataFrame(result_list_select, columns=[f\"{target_column}\",f\"{target_opt_column}\"])\n",
    "    #df_result.sort_values(by=\"frequency\", ascending=False, inplace=True)\n",
    "    df_result.reset_index(drop=True, inplace=True)\n",
    "    \n",
    "    return df_result"
   ]
  },
  {
   "cell_type": "code",
   "execution_count": null,
   "metadata": {},
   "outputs": [],
   "source": [
    "def word_count_result(df,column_list): # df is dataframe, column_list is list value\n",
    "    '''\n",
    "    word_count_bool(df, column_list): df columns word count for word frequency\\n\n",
    "    df is dataframe, column_list is list value\\n\n",
    "    word_count_bool(df, [\"word\",\"twogram\"]):\n",
    "    '''\n",
    "    list_all = []\n",
    "    for i in df.loc[:,[x for x in column_list]].columns:\n",
    "        var_list = df[f\"{i}\"].dropna().tolist()\n",
    "        for j in var_list:\n",
    "            list_all.append(j)\n",
    "    text = \" \".join(list_all)\n",
    "    word_list = re.findall(r\"\\w+\",text, re.UNICODE)\n",
    "    df_word_list = pd.DataFrame(word_list, columns=[\"word\"])\n",
    "    #df_word_list.rename(columns={0:\"word\"}, inplace=True)\n",
    "    df_word_count = pd.DataFrame(df_word_list.value_counts())\n",
    "    df_word_count.reset_index(inplace=True)\n",
    "    df_word_count.rename(columns={0:\"word_count\"}, inplace=True)\n",
    "    \n",
    "    return  df_word_count"
   ]
  },
  {
   "cell_type": "code",
   "execution_count": null,
   "metadata": {},
   "outputs": [],
   "source": [
    "def word_in_wordgroup_simple(df, source_column, target_column, word_sample_num):\n",
    "\n",
    "    '''word_in_wordgroup(df, \"word\", \"twogram\"):\n",
    "       df is dataframe, source_column and target_column are \n",
    "       dataframe column string name. source_column convert list\n",
    "       values that are in target column.\n",
    "    '''\n",
    "    \n",
    "    df_select = df[[f\"{target_column}\"]].dropna()\n",
    "    df_result = pd.DataFrame()\n",
    "    for i in df[f\"{source_column}\"].dropna():\n",
    "        try:\n",
    "            word_in_word_cluster = df_select[df_select[f\"{target_column}\"].str.contains(fr\"(?:\\s|^){i}(?:\\s|$)\", na=True)].head(word_sample_num)    \n",
    "        except:\n",
    "            pass        \n",
    "        word_in_word_cluster.insert(0,f\"{source_column}\",i)\n",
    "        df_result = pd.concat([df_result,word_in_word_cluster], axis=0)\n",
    "    df_result.reset_index(drop=True, inplace=True)\n",
    "\n",
    "    return df_result"
   ]
  },
  {
   "cell_type": "code",
   "execution_count": null,
   "metadata": {},
   "outputs": [],
   "source": [
    "df_word_all = pd.read_excel(f\"/media/kurubal/SSD/Data Scientist/Work/Modern Ways/Project/{lang_folder.lower().capitalize()}/Deployment/Data/Word/Word_Merge_Preprocess.xlsx\")\n",
    "df_word_all"
   ]
  },
  {
   "cell_type": "code",
   "execution_count": null,
   "metadata": {},
   "outputs": [],
   "source": [
    "df_word_select = df_word_all.iloc[word_start:word_end,]"
   ]
  },
  {
   "cell_type": "code",
   "execution_count": null,
   "metadata": {},
   "outputs": [],
   "source": [
    "word_list = df_word_select[\"word\"].to_list()"
   ]
  },
  {
   "cell_type": "code",
   "execution_count": null,
   "metadata": {},
   "outputs": [],
   "source": [
    "df_two_three = pd.read_excel(\"/home/kurubal/Downloads/Twogram Threegram.xlsx\")\n",
    "df_two_three"
   ]
  },
  {
   "cell_type": "code",
   "execution_count": null,
   "metadata": {},
   "outputs": [],
   "source": [
    "word_count_result(df_two_three,[\"threegram\"])"
   ]
  },
  {
   "cell_type": "code",
   "execution_count": null,
   "metadata": {},
   "outputs": [],
   "source": [
    "df_two_three[\"twogram\"].count()"
   ]
  },
  {
   "cell_type": "code",
   "execution_count": null,
   "metadata": {},
   "outputs": [],
   "source": [
    "df_two_three[\"threegram\"].count()"
   ]
  },
  {
   "cell_type": "code",
   "execution_count": null,
   "metadata": {},
   "outputs": [],
   "source": [
    "df_two_in_three = word_in_wordgroup_simple(df_two_three, \"twogram\",\"threegram\",threegram_sample)\n",
    "df_two_in_three"
   ]
  },
  {
   "cell_type": "code",
   "execution_count": null,
   "metadata": {},
   "outputs": [],
   "source": [
    "set_all_twogram = set(df_two_three[\"twogram\"].dropna().to_list())\n",
    "set_twogram_in_threegram = set(df_two_in_three[\"twogram\"].to_list())"
   ]
  },
  {
   "cell_type": "code",
   "execution_count": null,
   "metadata": {},
   "outputs": [],
   "source": [
    "set_all_twogram.difference(set_twogram_in_threegram)"
   ]
  },
  {
   "cell_type": "code",
   "execution_count": null,
   "metadata": {},
   "outputs": [],
   "source": [
    "set_threegram_cover_twogram = set(df_two_in_three[\"threegram\"].to_list())\n",
    "df_selected_threegram = pd.DataFrame(set_threegram_cover_twogram,columns=[\"threegram\"])\n",
    "df_selected_threegram"
   ]
  },
  {
   "cell_type": "code",
   "execution_count": null,
   "metadata": {},
   "outputs": [],
   "source": [
    "df_selected_threegram.to_excel(\"Threegram_Selected.xlsx\", index=False)"
   ]
  },
  {
   "cell_type": "code",
   "execution_count": null,
   "metadata": {},
   "outputs": [],
   "source": [
    "word_count_result(df_selected_threegram,[\"threegram\"])"
   ]
  },
  {
   "cell_type": "code",
   "execution_count": null,
   "metadata": {},
   "outputs": [],
   "source": [
    "df_threegram_word_usage_select = word_usage_result(word_list, df_selected_threegram, \"threegram\", word_use_num_min, word_use_num_max)\n",
    "df_threegram_word_usage_select"
   ]
  },
  {
   "cell_type": "code",
   "execution_count": null,
   "metadata": {},
   "outputs": [],
   "source": [
    "word_count_result(df_threegram_word_usage_select,[\"threegram\"])"
   ]
  },
  {
   "cell_type": "code",
   "execution_count": null,
   "metadata": {},
   "outputs": [],
   "source": []
  },
  {
   "cell_type": "code",
   "execution_count": null,
   "metadata": {},
   "outputs": [],
   "source": []
  },
  {
   "cell_type": "code",
   "execution_count": null,
   "metadata": {},
   "outputs": [],
   "source": []
  }
 ],
 "metadata": {
  "kernelspec": {
   "display_name": "Python 3.9.5 ('py39')",
   "language": "python",
   "name": "python3"
  },
  "language_info": {
   "codemirror_mode": {
    "name": "ipython",
    "version": 3
   },
   "file_extension": ".py",
   "mimetype": "text/x-python",
   "name": "python",
   "nbconvert_exporter": "python",
   "pygments_lexer": "ipython3",
   "version": "3.9.5"
  },
  "orig_nbformat": 4,
  "vscode": {
   "interpreter": {
    "hash": "651d507d70892fab0fc6529d935cd476f6e2eb1791525b76da6cc8da34bc0503"
   }
  }
 },
 "nbformat": 4,
 "nbformat_minor": 2
}
