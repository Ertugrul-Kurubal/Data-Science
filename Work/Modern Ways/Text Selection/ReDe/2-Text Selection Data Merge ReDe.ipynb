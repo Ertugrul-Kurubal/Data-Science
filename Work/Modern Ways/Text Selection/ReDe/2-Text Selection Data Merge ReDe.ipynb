{
 "cells": [
  {
   "cell_type": "markdown",
   "metadata": {},
   "source": [
    "### Text Selection Data Merge"
   ]
  },
  {
   "cell_type": "code",
   "execution_count": 1,
   "metadata": {},
   "outputs": [],
   "source": [
    "import os\n",
    "import multiprocessing\n",
    "#import multiprocessing as mp\n",
    "from multiprocessing import Process, Manager, Pool, Queue\n",
    "from itertools import islice\n",
    "from collections import Counter\n",
    "import re\n",
    "import pandas as pd\n",
    "import numpy as np\n",
    "import glob\n",
    "import nltk\n",
    "from nltk import word_tokenize\n",
    "from functools import reduce\n",
    "from pathlib import Path\n",
    "import shutil"
   ]
  },
  {
   "cell_type": "code",
   "execution_count": 2,
   "metadata": {},
   "outputs": [
    {
     "name": "stdout",
     "output_type": "stream",
     "text": [
      "Number of CPU cores: 16\n"
     ]
    }
   ],
   "source": [
    "nprocs = multiprocessing.cpu_count()\n",
    "print(f\"Number of CPU cores: {nprocs}\")"
   ]
  },
  {
   "cell_type": "code",
   "execution_count": 3,
   "metadata": {},
   "outputs": [
    {
     "name": "stdout",
     "output_type": "stream",
     "text": [
      "6\n"
     ]
    }
   ],
   "source": [
    "# language pair\n",
    "lang_folder = \"Turkish\"  # Arabic, English, French, German, Turkish, Spanish, Portuguese, Dutch, Italian ==> target language for learner\n",
    "#lang_pair = \"Intersect\"  # Arabic, English, French, German, Turkish, Spanish, Portuguese, Dutch, Italian ==> native language\n",
    "\n",
    "# adding native word to shared word\n",
    "word_start = 0  # 0 native word start index\n",
    "word_end = 45000  # 28 native word end index\n",
    "\n",
    "# word all usage in twogram\n",
    "word_use_num_min = 1  # word usage in selected twograms \n",
    "word_use_num_max = 2\n",
    "\n",
    "# n gram select\n",
    "twogram_select_start = 0\n",
    "twogram_select_end = 10000\n",
    "\n",
    "threegram_select_start = 0\n",
    "threegram_select_end = 10000\n",
    "\n",
    "fourgram_select_start = 0\n",
    "fourgram_select_end = 10000\n",
    "\n",
    "fivegram_select_start = 0\n",
    "fivegram_select_end = 10000\n",
    "\n",
    "sixgram_select_start = 0\n",
    "sixgram_select_end = 10000\n",
    "\n",
    "sevengram_select_start = 0\n",
    "sevengram_select_end = 10000\n",
    "\n",
    "eightgram_select_start = 0\n",
    "eightgram_select_end = 10000\n",
    "\n",
    "ninegram_select_start = 0\n",
    "ninegram_select_end = 10000\n",
    "\n",
    "tengram_select_start = 0\n",
    "tengram_select_end = 10000\n",
    "\n",
    "\n",
    "# prefix suffix file\n",
    "prefix_suffix = False  # True, False: True for adding prefix suffix word\n",
    "native_word = True # True for adding native word\n",
    "\n",
    "# adding output file extention\n",
    "if prefix_suffix & native_word:\n",
    "    file_ext = \"5\"\n",
    "elif (not prefix_suffix) & native_word:\n",
    "    file_ext = \"6\"\n",
    "else:\n",
    "    file_ext = \"7\"              \n",
    "    \n",
    "# 5 => for only native word with prefix suffix.\n",
    "# 6 => for only native word without prefix suffix.\n",
    "\n",
    "print(f\"{file_ext}\")"
   ]
  },
  {
   "cell_type": "code",
   "execution_count": 4,
   "metadata": {},
   "outputs": [],
   "source": [
    "path = f\"/media/kurubal/SSD/Data Scientist/Work/Modern Ways/Project/{lang_folder.capitalize()}/\\\n",
    "Text Selection/Data/2-Text Selection Data Merge\"\n",
    "\n",
    "Path(path).mkdir(parents=True, exist_ok=True)"
   ]
  },
  {
   "cell_type": "code",
   "execution_count": 5,
   "metadata": {},
   "outputs": [],
   "source": [
    "def strip(df):\n",
    "    for i in df.columns:\n",
    "        new_name = i.strip()\n",
    "        df.rename(columns={f\"{i}\":f\"{new_name}\"}, inplace=True)\n",
    "        df[f\"{new_name}\"] = df[f\"{new_name}\"].apply(lambda x: x.strip())\n",
    "    \n",
    "    return df"
   ]
  },
  {
   "cell_type": "code",
   "execution_count": 6,
   "metadata": {},
   "outputs": [],
   "source": [
    "def word_count_result(df,column_list): # df is dataframe, column_list is list value\n",
    "    '''\n",
    "    word_count_bool(df, column_list): df columns word count for word frequency\\n\n",
    "    df is dataframe, column_list is list value\\n\n",
    "    word_count_bool(df, [\"word\",\"twogram\"]):\n",
    "    '''\n",
    "    list_all = []\n",
    "    for i in df.loc[:,[x for x in column_list]].columns:\n",
    "        var_list = df[f\"{i}\"].dropna().tolist()\n",
    "        for j in var_list:\n",
    "            list_all.append(j)\n",
    "    text = \" \".join(list_all)\n",
    "    word_list = re.findall(r\"\\w+\",text, re.UNICODE)\n",
    "    df_word_list = pd.DataFrame(word_list, columns=[\"word\"])\n",
    "    #df_word_list.rename(columns={0:\"word\"}, inplace=True)\n",
    "    df_word_count = pd.DataFrame(df_word_list.value_counts())\n",
    "    df_word_count.reset_index(inplace=True)\n",
    "    df_word_count.rename(columns={0:\"word_count\"}, inplace=True)\n",
    "    \n",
    "    return  df_word_count"
   ]
  },
  {
   "cell_type": "code",
   "execution_count": 7,
   "metadata": {},
   "outputs": [],
   "source": [
    "def word_in_wordgroup(source_word_list, df_target, target_column, simple=False):\n",
    "\n",
    "    '''word_in_wordgroup(not_in_sent_word_list, df_youtube_sent_select, \"search_string\", 5, simple=False)\\n\n",
    "       source_word_list is searching word list\\n\n",
    "       df_target is dataframe, target_column are dataframe column string name\\n\n",
    "       word_sample_num is searching sample number.\n",
    "       simple use for all column result or only target column result \n",
    "    '''\n",
    "    if simple:\n",
    "        df_select = df_target[[f\"{target_column}\"]].dropna()\n",
    "    else:\n",
    "        df_select = df_target\n",
    "        \n",
    "    df_result = pd.DataFrame()\n",
    "    for i in source_word_list:\n",
    "        try:\n",
    "            word_in_word_cluster = df_select[df_select[f\"{target_column}\"].str.contains(fr\"(?:\\s|^){i}(?:\\s|$)\", na=True)]   \n",
    "        except:\n",
    "            pass        \n",
    "        word_in_word_cluster.insert(0,\"word\",i)\n",
    "        df_result = pd.concat([df_result,word_in_word_cluster], axis=0)\n",
    "    df_result.reset_index(drop=True, inplace=True)\n",
    "\n",
    "    return df_result"
   ]
  },
  {
   "cell_type": "code",
   "execution_count": 8,
   "metadata": {},
   "outputs": [],
   "source": [
    "def word_in_wordgroup_simple(df, source_column, target_column):\n",
    "\n",
    "    '''word_in_wordgroup(df, \"word\", \"twogram\"):\n",
    "       df is dataframe, source_column and target_column are \n",
    "       dataframe column string name. source_column convert list\n",
    "       values that are in target column.\n",
    "    '''\n",
    "    \n",
    "    df_select = df[[f\"{target_column}\"]].dropna()\n",
    "    df_result = pd.DataFrame()\n",
    "    for i in df[f\"{source_column}\"].dropna():\n",
    "        try:\n",
    "            word_in_word_cluster = df_select[df_select[f\"{target_column}\"].str.contains(fr\"(?:\\s|^){i}(?:\\s|$)\", na=True)]   \n",
    "        except:\n",
    "            pass        \n",
    "        word_in_word_cluster.insert(0,f\"{source_column}\",i)\n",
    "        df_result = pd.concat([df_result,word_in_word_cluster], axis=0)\n",
    "    df_result.reset_index(drop=True, inplace=True)\n",
    "\n",
    "    return df_result"
   ]
  },
  {
   "cell_type": "code",
   "execution_count": null,
   "metadata": {},
   "outputs": [],
   "source": []
  },
  {
   "cell_type": "code",
   "execution_count": null,
   "metadata": {},
   "outputs": [],
   "source": []
  },
  {
   "cell_type": "code",
   "execution_count": null,
   "metadata": {},
   "outputs": [],
   "source": []
  },
  {
   "cell_type": "code",
   "execution_count": 9,
   "metadata": {},
   "outputs": [],
   "source": [
    "def word_in_wordgroup(source_word_list, df_target, target_column, simple=False):\n",
    "\n",
    "    '''word_in_wordgroup(not_in_sent_word_list, df_youtube_sent_select, \"search_string\", 5, simple=False)\\n\n",
    "       source_word_list is searching word list\\n\n",
    "       df_target is dataframe, target_column are dataframe column string name\\n\n",
    "       word_sample_num is searching sample number.\n",
    "       simple use for all column result or only target column result \n",
    "    '''\n",
    "    if simple:\n",
    "        df_select = df_target[[f\"{target_column}\"]].dropna()\n",
    "    else:\n",
    "        df_select = df_target\n",
    "        \n",
    "    df_result = pd.DataFrame()\n",
    "    for i in source_word_list:\n",
    "        try:\n",
    "            word_in_word_cluster = df_select[df_select[f\"{target_column}\"].str.contains(fr\"(?:\\s|^){i}(?:\\s|$)\", na=True)]   \n",
    "        except:\n",
    "            pass        \n",
    "        word_in_word_cluster.insert(0,\"word\",i)\n",
    "        df_result = pd.concat([df_result,word_in_word_cluster], axis=0)\n",
    "    df_result.reset_index(drop=True, inplace=True)\n",
    "\n",
    "    return df_result"
   ]
  },
  {
   "cell_type": "code",
   "execution_count": null,
   "metadata": {},
   "outputs": [],
   "source": []
  },
  {
   "cell_type": "code",
   "execution_count": 10,
   "metadata": {},
   "outputs": [],
   "source": [
    "#def multi_wordgroup_in_wordgroup(word_list, df_target, target_column):\n",
    "#    source_wordgroup_list = word_list\n",
    "#    df_target2 = df_target\n",
    "#    target_column2 = target_column\n",
    "#\n",
    "#    searchlist = []\n",
    "#    resultlist = []\n",
    "#    manager = multiprocessing.Manager()\n",
    "#    resultlist = manager.list()\n",
    "#    searchlist = manager.list()\n",
    "#\n",
    "#    def word_in_wordgroup(wordgroup):        \n",
    "#        try:\n",
    "#            word_in_word_cluster = df_target2[df_target2[f\"{target_column2}\"].str.contains(fr\"(?:\\s|^){wordgroup}(?:\\s|$)\", na=True)]\n",
    "#            for result in word_in_word_cluster[f\"{target_column2}\"]:\n",
    "#                searchlist.append(wordgroup)\n",
    "#                resultlist.append(result)\n",
    "#        except:\n",
    "#            pass\n",
    "#\n",
    "#    with Pool(nprocs) as p: # Pool number CPU sayısına eşit olursa tüm CPU lar çalışır\n",
    "#        p.map(word_in_wordgroup, source_wordgroup_list) # string_word liste\n",
    "#\n",
    "#    search_list = list(searchlist)\n",
    "#    result_list = list(resultlist)\n",
    "#    df_result = pd.DataFrame([search_list,result_list]).transpose()\n",
    "#    df_result.columns = [\"word\",f\"{target_column}\"]\n",
    "#    df_result\n",
    "#\n",
    "#    return df_result"
   ]
  },
  {
   "cell_type": "code",
   "execution_count": null,
   "metadata": {},
   "outputs": [],
   "source": []
  },
  {
   "cell_type": "code",
   "execution_count": null,
   "metadata": {},
   "outputs": [],
   "source": []
  },
  {
   "cell_type": "code",
   "execution_count": null,
   "metadata": {},
   "outputs": [],
   "source": []
  },
  {
   "cell_type": "markdown",
   "metadata": {},
   "source": [
    "#### Text Data Read"
   ]
  },
  {
   "cell_type": "code",
   "execution_count": 11,
   "metadata": {},
   "outputs": [
    {
     "data": {
      "text/html": [
       "<div>\n",
       "<style scoped>\n",
       "    .dataframe tbody tr th:only-of-type {\n",
       "        vertical-align: middle;\n",
       "    }\n",
       "\n",
       "    .dataframe tbody tr th {\n",
       "        vertical-align: top;\n",
       "    }\n",
       "\n",
       "    .dataframe thead th {\n",
       "        text-align: right;\n",
       "    }\n",
       "</style>\n",
       "<table border=\"1\" class=\"dataframe\">\n",
       "  <thead>\n",
       "    <tr style=\"text-align: right;\">\n",
       "      <th></th>\n",
       "      <th>word</th>\n",
       "      <th>frequency</th>\n",
       "    </tr>\n",
       "  </thead>\n",
       "  <tbody>\n",
       "    <tr>\n",
       "      <th>0</th>\n",
       "      <td>bir</td>\n",
       "      <td>18835735</td>\n",
       "    </tr>\n",
       "    <tr>\n",
       "      <th>1</th>\n",
       "      <td>bu</td>\n",
       "      <td>11062659</td>\n",
       "    </tr>\n",
       "    <tr>\n",
       "      <th>2</th>\n",
       "      <td>ne</td>\n",
       "      <td>8025880</td>\n",
       "    </tr>\n",
       "    <tr>\n",
       "      <th>3</th>\n",
       "      <td>ve</td>\n",
       "      <td>7766036</td>\n",
       "    </tr>\n",
       "    <tr>\n",
       "      <th>4</th>\n",
       "      <td>için</td>\n",
       "      <td>5484109</td>\n",
       "    </tr>\n",
       "    <tr>\n",
       "      <th>...</th>\n",
       "      <td>...</td>\n",
       "      <td>...</td>\n",
       "    </tr>\n",
       "    <tr>\n",
       "      <th>44995</th>\n",
       "      <td>hayırbu</td>\n",
       "      <td>871</td>\n",
       "    </tr>\n",
       "    <tr>\n",
       "      <th>44996</th>\n",
       "      <td>konferansına</td>\n",
       "      <td>871</td>\n",
       "    </tr>\n",
       "    <tr>\n",
       "      <th>44997</th>\n",
       "      <td>kardeşisin</td>\n",
       "      <td>871</td>\n",
       "    </tr>\n",
       "    <tr>\n",
       "      <th>44998</th>\n",
       "      <td>kaldırıyorsun</td>\n",
       "      <td>871</td>\n",
       "    </tr>\n",
       "    <tr>\n",
       "      <th>44999</th>\n",
       "      <td>kuzenlerim</td>\n",
       "      <td>871</td>\n",
       "    </tr>\n",
       "  </tbody>\n",
       "</table>\n",
       "<p>45000 rows × 2 columns</p>\n",
       "</div>"
      ],
      "text/plain": [
       "                word  frequency\n",
       "0                bir   18835735\n",
       "1                 bu   11062659\n",
       "2                 ne    8025880\n",
       "3                 ve    7766036\n",
       "4               için    5484109\n",
       "...              ...        ...\n",
       "44995        hayırbu        871\n",
       "44996   konferansına        871\n",
       "44997     kardeşisin        871\n",
       "44998  kaldırıyorsun        871\n",
       "44999     kuzenlerim        871\n",
       "\n",
       "[45000 rows x 2 columns]"
      ]
     },
     "execution_count": 11,
     "metadata": {},
     "output_type": "execute_result"
    }
   ],
   "source": [
    "df_word_select = pd.read_excel(f\"/media/kurubal/SSD/Data Scientist/Work/Modern Ways/Project/{lang_folder.lower().capitalize()}/Text Selection/\\\n",
    "Data/1-Text Selection Data Prepare/Word_Selected_45000.xlsx\")\n",
    "df_word_select"
   ]
  },
  {
   "cell_type": "code",
   "execution_count": 12,
   "metadata": {},
   "outputs": [
    {
     "data": {
      "text/html": [
       "<div>\n",
       "<style scoped>\n",
       "    .dataframe tbody tr th:only-of-type {\n",
       "        vertical-align: middle;\n",
       "    }\n",
       "\n",
       "    .dataframe tbody tr th {\n",
       "        vertical-align: top;\n",
       "    }\n",
       "\n",
       "    .dataframe thead th {\n",
       "        text-align: right;\n",
       "    }\n",
       "</style>\n",
       "<table border=\"1\" class=\"dataframe\">\n",
       "  <thead>\n",
       "    <tr style=\"text-align: right;\">\n",
       "      <th></th>\n",
       "      <th>twogram</th>\n",
       "      <th>frequency</th>\n",
       "    </tr>\n",
       "  </thead>\n",
       "  <tbody>\n",
       "    <tr>\n",
       "      <th>0</th>\n",
       "      <td>bir şey</td>\n",
       "      <td>859944</td>\n",
       "    </tr>\n",
       "    <tr>\n",
       "      <th>1</th>\n",
       "      <td>değil mi</td>\n",
       "      <td>585879</td>\n",
       "    </tr>\n",
       "    <tr>\n",
       "      <th>2</th>\n",
       "      <td>ben de</td>\n",
       "      <td>377765</td>\n",
       "    </tr>\n",
       "    <tr>\n",
       "      <th>3</th>\n",
       "      <td>teşekkür ederim</td>\n",
       "      <td>370619</td>\n",
       "    </tr>\n",
       "    <tr>\n",
       "      <th>4</th>\n",
       "      <td>ne oldu</td>\n",
       "      <td>322758</td>\n",
       "    </tr>\n",
       "    <tr>\n",
       "      <th>...</th>\n",
       "      <td>...</td>\n",
       "      <td>...</td>\n",
       "    </tr>\n",
       "    <tr>\n",
       "      <th>213666</th>\n",
       "      <td>olmadan gerçek</td>\n",
       "      <td>52</td>\n",
       "    </tr>\n",
       "    <tr>\n",
       "      <th>213667</th>\n",
       "      <td>epey kolay</td>\n",
       "      <td>52</td>\n",
       "    </tr>\n",
       "    <tr>\n",
       "      <th>213668</th>\n",
       "      <td>hafızan iyi</td>\n",
       "      <td>52</td>\n",
       "    </tr>\n",
       "    <tr>\n",
       "      <th>213669</th>\n",
       "      <td>senin yaşındaydım</td>\n",
       "      <td>52</td>\n",
       "    </tr>\n",
       "    <tr>\n",
       "      <th>213670</th>\n",
       "      <td>olmamıştı ki</td>\n",
       "      <td>52</td>\n",
       "    </tr>\n",
       "  </tbody>\n",
       "</table>\n",
       "<p>213671 rows × 2 columns</p>\n",
       "</div>"
      ],
      "text/plain": [
       "                  twogram  frequency\n",
       "0                 bir şey     859944\n",
       "1                değil mi     585879\n",
       "2                  ben de     377765\n",
       "3         teşekkür ederim     370619\n",
       "4                 ne oldu     322758\n",
       "...                   ...        ...\n",
       "213666     olmadan gerçek         52\n",
       "213667         epey kolay         52\n",
       "213668        hafızan iyi         52\n",
       "213669  senin yaşındaydım         52\n",
       "213670       olmamıştı ki         52\n",
       "\n",
       "[213671 rows x 2 columns]"
      ]
     },
     "execution_count": 12,
     "metadata": {},
     "output_type": "execute_result"
    }
   ],
   "source": [
    "#df_twogram_select = pd.read_excel(f\"/media/kurubal/SSD/Data Scientist/Work/Modern Ways/Project/{lang_folder.lower().capitalize()}/Text Selection/\\\n",
    "#Data/1-Text Selection Data Prepare/Twogram_Selected_10000.xlsx\")\n",
    "df_twogram_select = pd.read_csv(f\"/media/kurubal/SSD/Data Scientist/Work/Modern Ways/Project/{lang_folder.lower().capitalize()}/Text Selection/\\\n",
    "Data/1-Text Selection Data Prepare/Twogram_Selected.csv\")\n",
    "#df_twogram_select = df_twogram_select.head(1000)\n",
    "df_twogram_select"
   ]
  },
  {
   "cell_type": "code",
   "execution_count": 13,
   "metadata": {},
   "outputs": [
    {
     "data": {
      "text/html": [
       "<div>\n",
       "<style scoped>\n",
       "    .dataframe tbody tr th:only-of-type {\n",
       "        vertical-align: middle;\n",
       "    }\n",
       "\n",
       "    .dataframe tbody tr th {\n",
       "        vertical-align: top;\n",
       "    }\n",
       "\n",
       "    .dataframe thead th {\n",
       "        text-align: right;\n",
       "    }\n",
       "</style>\n",
       "<table border=\"1\" class=\"dataframe\">\n",
       "  <thead>\n",
       "    <tr style=\"text-align: right;\">\n",
       "      <th></th>\n",
       "      <th>threegram</th>\n",
       "      <th>frequency</th>\n",
       "    </tr>\n",
       "  </thead>\n",
       "  <tbody>\n",
       "    <tr>\n",
       "      <th>0</th>\n",
       "      <td>bir şey yok</td>\n",
       "      <td>113165</td>\n",
       "    </tr>\n",
       "    <tr>\n",
       "      <th>1</th>\n",
       "      <td>bir şey var</td>\n",
       "      <td>110455</td>\n",
       "    </tr>\n",
       "    <tr>\n",
       "      <th>2</th>\n",
       "      <td>bu da ne</td>\n",
       "      <td>89463</td>\n",
       "    </tr>\n",
       "    <tr>\n",
       "      <th>3</th>\n",
       "      <td>her şey yolunda</td>\n",
       "      <td>75968</td>\n",
       "    </tr>\n",
       "    <tr>\n",
       "      <th>4</th>\n",
       "      <td>başka bir şey</td>\n",
       "      <td>75193</td>\n",
       "    </tr>\n",
       "    <tr>\n",
       "      <th>...</th>\n",
       "      <td>...</td>\n",
       "      <td>...</td>\n",
       "    </tr>\n",
       "    <tr>\n",
       "      <th>307731</th>\n",
       "      <td>arkadaş mı olmak</td>\n",
       "      <td>38</td>\n",
       "    </tr>\n",
       "    <tr>\n",
       "      <th>307732</th>\n",
       "      <td>olan birkaç şey</td>\n",
       "      <td>38</td>\n",
       "    </tr>\n",
       "    <tr>\n",
       "      <th>307733</th>\n",
       "      <td>da size anlatayım</td>\n",
       "      <td>38</td>\n",
       "    </tr>\n",
       "    <tr>\n",
       "      <th>307734</th>\n",
       "      <td>için olay yerine</td>\n",
       "      <td>38</td>\n",
       "    </tr>\n",
       "    <tr>\n",
       "      <th>307735</th>\n",
       "      <td>olup olamayacağını merak</td>\n",
       "      <td>38</td>\n",
       "    </tr>\n",
       "  </tbody>\n",
       "</table>\n",
       "<p>307736 rows × 2 columns</p>\n",
       "</div>"
      ],
      "text/plain": [
       "                       threegram  frequency\n",
       "0                    bir şey yok     113165\n",
       "1                    bir şey var     110455\n",
       "2                       bu da ne      89463\n",
       "3                her şey yolunda      75968\n",
       "4                  başka bir şey      75193\n",
       "...                          ...        ...\n",
       "307731          arkadaş mı olmak         38\n",
       "307732           olan birkaç şey         38\n",
       "307733         da size anlatayım         38\n",
       "307734          için olay yerine         38\n",
       "307735  olup olamayacağını merak         38\n",
       "\n",
       "[307736 rows x 2 columns]"
      ]
     },
     "execution_count": 13,
     "metadata": {},
     "output_type": "execute_result"
    }
   ],
   "source": [
    "#df_threegram_select = pd.read_excel(f\"/media/kurubal/SSD/Data Scientist/Work/Modern Ways/Project/{lang_folder.lower().capitalize()}/Text Selection/\\\n",
    "#Data/1-Text Selection Data Prepare/Threegram_Selected_10000.xlsx\")\n",
    "df_threegram_select = pd.read_csv(f\"/media/kurubal/SSD/Data Scientist/Work/Modern Ways/Project/{lang_folder.lower().capitalize()}/Text Selection/\\\n",
    "Data/1-Text Selection Data Prepare/Threegram_Selected.csv\")\n",
    "df_threegram_select"
   ]
  },
  {
   "cell_type": "code",
   "execution_count": 14,
   "metadata": {},
   "outputs": [
    {
     "data": {
      "text/html": [
       "<div>\n",
       "<style scoped>\n",
       "    .dataframe tbody tr th:only-of-type {\n",
       "        vertical-align: middle;\n",
       "    }\n",
       "\n",
       "    .dataframe tbody tr th {\n",
       "        vertical-align: top;\n",
       "    }\n",
       "\n",
       "    .dataframe thead th {\n",
       "        text-align: right;\n",
       "    }\n",
       "</style>\n",
       "<table border=\"1\" class=\"dataframe\">\n",
       "  <thead>\n",
       "    <tr style=\"text-align: right;\">\n",
       "      <th></th>\n",
       "      <th>fourgram</th>\n",
       "      <th>frequency</th>\n",
       "    </tr>\n",
       "  </thead>\n",
       "  <tbody>\n",
       "    <tr>\n",
       "      <th>0</th>\n",
       "      <td>bir şey var mı</td>\n",
       "      <td>41773</td>\n",
       "    </tr>\n",
       "    <tr>\n",
       "      <th>1</th>\n",
       "      <td>her şey yolunda mı</td>\n",
       "      <td>31126</td>\n",
       "    </tr>\n",
       "    <tr>\n",
       "      <th>2</th>\n",
       "      <td>burada ne işin var</td>\n",
       "      <td>21993</td>\n",
       "    </tr>\n",
       "    <tr>\n",
       "      <th>3</th>\n",
       "      <td>bir sorun mu var</td>\n",
       "      <td>21423</td>\n",
       "    </tr>\n",
       "    <tr>\n",
       "      <th>4</th>\n",
       "      <td>ben de seni seviyorum</td>\n",
       "      <td>17338</td>\n",
       "    </tr>\n",
       "    <tr>\n",
       "      <th>...</th>\n",
       "      <td>...</td>\n",
       "      <td>...</td>\n",
       "    </tr>\n",
       "    <tr>\n",
       "      <th>388274</th>\n",
       "      <td>söz veriyorum kurul iş</td>\n",
       "      <td>16</td>\n",
       "    </tr>\n",
       "    <tr>\n",
       "      <th>388275</th>\n",
       "      <td>çıkmak için can atıyor</td>\n",
       "      <td>16</td>\n",
       "    </tr>\n",
       "    <tr>\n",
       "      <th>388276</th>\n",
       "      <td>ve içinden alevlerin çıktığı</td>\n",
       "      <td>16</td>\n",
       "    </tr>\n",
       "    <tr>\n",
       "      <th>388277</th>\n",
       "      <td>ne zaman isterse ama</td>\n",
       "      <td>16</td>\n",
       "    </tr>\n",
       "    <tr>\n",
       "      <th>388278</th>\n",
       "      <td>bunun için önceden olduğum</td>\n",
       "      <td>16</td>\n",
       "    </tr>\n",
       "  </tbody>\n",
       "</table>\n",
       "<p>388279 rows × 2 columns</p>\n",
       "</div>"
      ],
      "text/plain": [
       "                            fourgram  frequency\n",
       "0                     bir şey var mı      41773\n",
       "1                 her şey yolunda mı      31126\n",
       "2                 burada ne işin var      21993\n",
       "3                   bir sorun mu var      21423\n",
       "4              ben de seni seviyorum      17338\n",
       "...                              ...        ...\n",
       "388274        söz veriyorum kurul iş         16\n",
       "388275        çıkmak için can atıyor         16\n",
       "388276  ve içinden alevlerin çıktığı         16\n",
       "388277          ne zaman isterse ama         16\n",
       "388278    bunun için önceden olduğum         16\n",
       "\n",
       "[388279 rows x 2 columns]"
      ]
     },
     "execution_count": 14,
     "metadata": {},
     "output_type": "execute_result"
    }
   ],
   "source": [
    "#df_fourgram_select = pd.read_excel(f\"/media/kurubal/SSD/Data Scientist/Work/Modern Ways/Project/{lang_folder.lower().capitalize()}/Text Selection/\\\n",
    "#Data/1-Text Selection Data Prepare/Fourgram_Selected_10000.xlsx\")\n",
    "df_fourgram_select = pd.read_csv(f\"/media/kurubal/SSD/Data Scientist/Work/Modern Ways/Project/{lang_folder.lower().capitalize()}/Text Selection/\\\n",
    "Data/1-Text Selection Data Prepare/Fourgram_Selected.csv\")\n",
    "df_fourgram_select"
   ]
  },
  {
   "cell_type": "code",
   "execution_count": 15,
   "metadata": {},
   "outputs": [
    {
     "data": {
      "text/html": [
       "<div>\n",
       "<style scoped>\n",
       "    .dataframe tbody tr th:only-of-type {\n",
       "        vertical-align: middle;\n",
       "    }\n",
       "\n",
       "    .dataframe tbody tr th {\n",
       "        vertical-align: top;\n",
       "    }\n",
       "\n",
       "    .dataframe thead th {\n",
       "        text-align: right;\n",
       "    }\n",
       "</style>\n",
       "<table border=\"1\" class=\"dataframe\">\n",
       "  <thead>\n",
       "    <tr style=\"text-align: right;\">\n",
       "      <th></th>\n",
       "      <th>fivegram</th>\n",
       "      <th>frequency</th>\n",
       "    </tr>\n",
       "  </thead>\n",
       "  <tbody>\n",
       "    <tr>\n",
       "      <th>0</th>\n",
       "      <td>başka bir şey var mı</td>\n",
       "      <td>14104</td>\n",
       "    </tr>\n",
       "    <tr>\n",
       "      <th>1</th>\n",
       "      <td>bu da ne demek oluyor</td>\n",
       "      <td>10205</td>\n",
       "    </tr>\n",
       "    <tr>\n",
       "      <th>2</th>\n",
       "      <td>o kadar da kötü değil</td>\n",
       "      <td>7012</td>\n",
       "    </tr>\n",
       "    <tr>\n",
       "      <th>3</th>\n",
       "      <td>sence de öyle değil mi</td>\n",
       "      <td>6305</td>\n",
       "    </tr>\n",
       "    <tr>\n",
       "      <th>4</th>\n",
       "      <td>sana bir şey sorabilir miyim</td>\n",
       "      <td>6224</td>\n",
       "    </tr>\n",
       "    <tr>\n",
       "      <th>...</th>\n",
       "      <td>...</td>\n",
       "      <td>...</td>\n",
       "    </tr>\n",
       "    <tr>\n",
       "      <th>122369</th>\n",
       "      <td>ile matrix arasında seçim yapmam</td>\n",
       "      <td>19</td>\n",
       "    </tr>\n",
       "    <tr>\n",
       "      <th>122370</th>\n",
       "      <td>hey o iyi bir adam</td>\n",
       "      <td>19</td>\n",
       "    </tr>\n",
       "    <tr>\n",
       "      <th>122371</th>\n",
       "      <td>beklemek için nasıl bir yer</td>\n",
       "      <td>19</td>\n",
       "    </tr>\n",
       "    <tr>\n",
       "      <th>122372</th>\n",
       "      <td>yani bak normalde beni bilirsin</td>\n",
       "      <td>19</td>\n",
       "    </tr>\n",
       "    <tr>\n",
       "      <th>122373</th>\n",
       "      <td>iyi bir adam arayın tamam</td>\n",
       "      <td>19</td>\n",
       "    </tr>\n",
       "  </tbody>\n",
       "</table>\n",
       "<p>122374 rows × 2 columns</p>\n",
       "</div>"
      ],
      "text/plain": [
       "                                fivegram  frequency\n",
       "0                   başka bir şey var mı      14104\n",
       "1                  bu da ne demek oluyor      10205\n",
       "2                  o kadar da kötü değil       7012\n",
       "3                 sence de öyle değil mi       6305\n",
       "4           sana bir şey sorabilir miyim       6224\n",
       "...                                  ...        ...\n",
       "122369  ile matrix arasında seçim yapmam         19\n",
       "122370                hey o iyi bir adam         19\n",
       "122371       beklemek için nasıl bir yer         19\n",
       "122372   yani bak normalde beni bilirsin         19\n",
       "122373         iyi bir adam arayın tamam         19\n",
       "\n",
       "[122374 rows x 2 columns]"
      ]
     },
     "execution_count": 15,
     "metadata": {},
     "output_type": "execute_result"
    }
   ],
   "source": [
    "#df_fivegram_select = pd.read_excel(f\"/media/kurubal/SSD/Data Scientist/Work/Modern Ways/Project/{lang_folder.lower().capitalize()}/Text Selection/\\\n",
    "#Data/1-Text Selection Data Prepare/Fivegram_Selected_10000.xlsx\")\n",
    "df_fivegram_select = pd.read_csv(f\"/media/kurubal/SSD/Data Scientist/Work/Modern Ways/Project/{lang_folder.lower().capitalize()}/Text Selection/\\\n",
    "Data/1-Text Selection Data Prepare/Fivegram_Selected.csv\")\n",
    "df_fivegram_select"
   ]
  },
  {
   "cell_type": "code",
   "execution_count": null,
   "metadata": {},
   "outputs": [],
   "source": [
    "#df_sixgram_select = pd.read_excel(f\"/media/kurubal/SSD/Data Scientist/Work/Modern Ways/Project/{lang_folder.lower().capitalize()}/Text Selection/\\\n",
    "#Data/1-Text Selection Data Prepare/Sixgram_Selected_10000.xlsx\")\n",
    "df_sixgram_select = pd.read_csv(f\"/media/kurubal/SSD/Data Scientist/Work/Modern Ways/Project/{lang_folder.lower().capitalize()}/Text Selection/\\\n",
    "Data/1-Text Selection Data Prepare/Sixgram_Selected.csv\")\n",
    "df_sixgram_select"
   ]
  },
  {
   "cell_type": "code",
   "execution_count": null,
   "metadata": {},
   "outputs": [],
   "source": [
    "#df_sevengram_select = pd.read_excel(f\"/media/kurubal/SSD/Data Scientist/Work/Modern Ways/Project/{lang_folder.lower().capitalize()}/Text Selection/\\\n",
    "#Data/1-Text Selection Data Prepare/Sevengram_Selected_10000.xlsx\")\n",
    "df_sevengram_select = pd.read_csv(f\"/media/kurubal/SSD/Data Scientist/Work/Modern Ways/Project/{lang_folder.lower().capitalize()}/Text Selection/\\\n",
    "Data/1-Text Selection Data Prepare/Sevengram_Selected.csv\")\n",
    "df_sevengram_select"
   ]
  },
  {
   "cell_type": "code",
   "execution_count": null,
   "metadata": {},
   "outputs": [],
   "source": [
    "#df_eightgram_select = pd.read_excel(f\"/media/kurubal/SSD/Data Scientist/Work/Modern Ways/Project/{lang_folder.lower().capitalize()}/Text Selection/\\\n",
    "#Data/1-Text Selection Data Prepare/Eightgram_Selected_10000.xlsx\")\n",
    "df_eightgram_select = pd.read_csv(f\"/media/kurubal/SSD/Data Scientist/Work/Modern Ways/Project/{lang_folder.lower().capitalize()}/Text Selection/\\\n",
    "Data/1-Text Selection Data Prepare/Eightgram_Selected.csv\")\n",
    "df_eightgram_select"
   ]
  },
  {
   "cell_type": "code",
   "execution_count": null,
   "metadata": {},
   "outputs": [],
   "source": [
    "#df_ninegram_select = pd.read_excel(f\"/media/kurubal/SSD/Data Scientist/Work/Modern Ways/Project/{lang_folder.lower().capitalize()}/Text Selection/\\\n",
    "#Data/1-Text Selection Data Prepare/Ninegram_Selected_10000.xlsx\")\n",
    "df_ninegram_select = pd.read_csv(f\"/media/kurubal/SSD/Data Scientist/Work/Modern Ways/Project/{lang_folder.lower().capitalize()}/Text Selection/\\\n",
    "Data/1-Text Selection Data Prepare/Ninegram_Selected.csv\")\n",
    "df_ninegram_select"
   ]
  },
  {
   "cell_type": "code",
   "execution_count": null,
   "metadata": {},
   "outputs": [],
   "source": [
    "#df_tengram_select = pd.read_excel(f\"/media/kurubal/SSD/Data Scientist/Work/Modern Ways/Project/{lang_folder.lower().capitalize()}/Text Selection/\\\n",
    "#Data/1-Text Selection Data Prepare/Tengram_Selected_10000.xlsx\")\n",
    "df_tengram_select = pd.read_csv(f\"/media/kurubal/SSD/Data Scientist/Work/Modern Ways/Project/{lang_folder.lower().capitalize()}/Text Selection/\\\n",
    "Data/1-Text Selection Data Prepare/Tengram_Selected.csv\")\n",
    "df_tengram_select"
   ]
  },
  {
   "cell_type": "code",
   "execution_count": null,
   "metadata": {},
   "outputs": [],
   "source": []
  },
  {
   "cell_type": "markdown",
   "metadata": {},
   "source": [
    "#### Text Data Word-Word Group In Word Group"
   ]
  },
  {
   "cell_type": "code",
   "execution_count": 16,
   "metadata": {},
   "outputs": [],
   "source": [
    "word_list = df_word_select[\"word\"].to_list()\n",
    "twogram_list = df_twogram_select[\"twogram\"].to_list()\n",
    "threegram_list = df_threegram_select[\"threegram\"].to_list()\n",
    "fourgram_list = df_fourgram_select[\"fourgram\"].to_list()\n",
    "fivegram_list = df_fivegram_select[\"fivegram\"].to_list()\n",
    "sixgram_list = df_sixgram_select[\"sixgram\"].to_list()\n",
    "sevengram_list = df_sevengram_select[\"sevengram\"].to_list()\n",
    "eightgram_list = df_eightgram_select[\"eightgram\"].to_list()\n",
    "ninegram_list = df_ninegram_select[\"ninegram\"].to_list()\n",
    "tengram_list = df_tengram_select[\"tengram\"].to_list()"
   ]
  },
  {
   "cell_type": "code",
   "execution_count": 17,
   "metadata": {},
   "outputs": [],
   "source": [
    "#multi_wordgroup_in_wordgroup(word_list, df_twogram_select, \"twogram\")"
   ]
  },
  {
   "cell_type": "markdown",
   "metadata": {},
   "source": [
    "##### Word"
   ]
  },
  {
   "cell_type": "code",
   "execution_count": 18,
   "metadata": {},
   "outputs": [],
   "source": [
    "# 1 Way Slow\n",
    "#df_word_in_two = word_in_wordgroup(word_list, df_twogram_select, \"twogram\", simple=True)\n",
    "#df_word_in_two"
   ]
  },
  {
   "cell_type": "code",
   "execution_count": 19,
   "metadata": {},
   "outputs": [
    {
     "data": {
      "text/html": [
       "<div>\n",
       "<style scoped>\n",
       "    .dataframe tbody tr th:only-of-type {\n",
       "        vertical-align: middle;\n",
       "    }\n",
       "\n",
       "    .dataframe tbody tr th {\n",
       "        vertical-align: top;\n",
       "    }\n",
       "\n",
       "    .dataframe thead th {\n",
       "        text-align: right;\n",
       "    }\n",
       "</style>\n",
       "<table border=\"1\" class=\"dataframe\">\n",
       "  <thead>\n",
       "    <tr style=\"text-align: right;\">\n",
       "      <th></th>\n",
       "      <th>word</th>\n",
       "      <th>twogram</th>\n",
       "    </tr>\n",
       "  </thead>\n",
       "  <tbody>\n",
       "    <tr>\n",
       "      <th>0</th>\n",
       "      <td>kazanıyorum</td>\n",
       "      <td>para kazanıyorum</td>\n",
       "    </tr>\n",
       "    <tr>\n",
       "      <th>1</th>\n",
       "      <td>kazanıyorum</td>\n",
       "      <td>böyle kazanıyorum</td>\n",
       "    </tr>\n",
       "    <tr>\n",
       "      <th>2</th>\n",
       "      <td>kazanıyorum</td>\n",
       "      <td>hayatımı kazanıyorum</td>\n",
       "    </tr>\n",
       "    <tr>\n",
       "      <th>3</th>\n",
       "      <td>kazanıyorum</td>\n",
       "      <td>dolar kazanıyorum</td>\n",
       "    </tr>\n",
       "    <tr>\n",
       "      <th>4</th>\n",
       "      <td>kazanıyorum</td>\n",
       "      <td>ben kazanıyorum</td>\n",
       "    </tr>\n",
       "    <tr>\n",
       "      <th>...</th>\n",
       "      <td>...</td>\n",
       "      <td>...</td>\n",
       "    </tr>\n",
       "    <tr>\n",
       "      <th>426664</th>\n",
       "      <td>ayrıntısına</td>\n",
       "      <td>ayrıntısına kadar</td>\n",
       "    </tr>\n",
       "    <tr>\n",
       "      <th>426665</th>\n",
       "      <td>ayrıntısına</td>\n",
       "      <td>ince ayrıntısına</td>\n",
       "    </tr>\n",
       "    <tr>\n",
       "      <th>426666</th>\n",
       "      <td>kardeşisin</td>\n",
       "      <td>onun kardeşisin</td>\n",
       "    </tr>\n",
       "    <tr>\n",
       "      <th>426667</th>\n",
       "      <td>kardeşisin</td>\n",
       "      <td>kız kardeşisin</td>\n",
       "    </tr>\n",
       "    <tr>\n",
       "      <th>426668</th>\n",
       "      <td>kaldırıyorsun</td>\n",
       "      <td>kadar kaldırıyorsun</td>\n",
       "    </tr>\n",
       "  </tbody>\n",
       "</table>\n",
       "<p>426669 rows × 2 columns</p>\n",
       "</div>"
      ],
      "text/plain": [
       "                 word               twogram\n",
       "0         kazanıyorum      para kazanıyorum\n",
       "1         kazanıyorum     böyle kazanıyorum\n",
       "2         kazanıyorum  hayatımı kazanıyorum\n",
       "3         kazanıyorum     dolar kazanıyorum\n",
       "4         kazanıyorum       ben kazanıyorum\n",
       "...               ...                   ...\n",
       "426664    ayrıntısına     ayrıntısına kadar\n",
       "426665    ayrıntısına      ince ayrıntısına\n",
       "426666     kardeşisin       onun kardeşisin\n",
       "426667     kardeşisin        kız kardeşisin\n",
       "426668  kaldırıyorsun   kadar kaldırıyorsun\n",
       "\n",
       "[426669 rows x 2 columns]"
      ]
     },
     "execution_count": 19,
     "metadata": {},
     "output_type": "execute_result"
    }
   ],
   "source": [
    "# 2 Way Fast\n",
    "# parameter\n",
    "source_wordgroup_list = word_list\n",
    "search_column_name = \"word\"\n",
    "target_column = \"twogram\"\n",
    "df_target = df_twogram_select\n",
    "\n",
    "# function\n",
    "searchlist = []\n",
    "resultlist = []\n",
    "manager = multiprocessing.Manager()\n",
    "resultlist = manager.list()\n",
    "searchlist = manager.list()\n",
    "\n",
    "def word_in_wordgroup(wordgroup):\n",
    "    try:\n",
    "        word_in_word_cluster = df_target[df_target[f\"{target_column}\"].str.contains(fr\"(?:\\s|^){wordgroup}(?:\\s|$)\", na=True)]\n",
    "        for result in word_in_word_cluster[f\"{target_column}\"]:\n",
    "            searchlist.append(wordgroup)\n",
    "            resultlist.append(result)\n",
    "    except:\n",
    "        pass\n",
    "\n",
    "if __name__ == '__main__':\n",
    "    # with Pool(16) as p:\n",
    "    with Pool(nprocs) as p: # Pool number CPU sayısına eşit olursa tüm CPU lar çalışır\n",
    "        p.map(word_in_wordgroup, source_wordgroup_list) # string_word liste\n",
    "\n",
    "search_list = list(searchlist)\n",
    "result_list = list(resultlist)\n",
    "df_word_in_two = pd.DataFrame([search_list,result_list]).transpose()\n",
    "df_word_in_two.columns = [f\"{search_column_name}\",f\"{target_column}\"]\n",
    "df_word_in_two"
   ]
  },
  {
   "cell_type": "code",
   "execution_count": 20,
   "metadata": {},
   "outputs": [
    {
     "data": {
      "text/plain": [
       "29823"
      ]
     },
     "execution_count": 20,
     "metadata": {},
     "output_type": "execute_result"
    }
   ],
   "source": [
    "df_word_in_two[\"word\"].nunique()"
   ]
  },
  {
   "cell_type": "code",
   "execution_count": 21,
   "metadata": {},
   "outputs": [
    {
     "data": {
      "text/html": [
       "<div>\n",
       "<style scoped>\n",
       "    .dataframe tbody tr th:only-of-type {\n",
       "        vertical-align: middle;\n",
       "    }\n",
       "\n",
       "    .dataframe tbody tr th {\n",
       "        vertical-align: top;\n",
       "    }\n",
       "\n",
       "    .dataframe thead th {\n",
       "        text-align: right;\n",
       "    }\n",
       "</style>\n",
       "<table border=\"1\" class=\"dataframe\">\n",
       "  <thead>\n",
       "    <tr style=\"text-align: right;\">\n",
       "      <th></th>\n",
       "      <th>word</th>\n",
       "      <th>twogram</th>\n",
       "    </tr>\n",
       "  </thead>\n",
       "  <tbody>\n",
       "    <tr>\n",
       "      <th>0</th>\n",
       "      <td>a</td>\n",
       "      <td>[l a, a evet, a j, a b, a aziz, and a, a ve, t...</td>\n",
       "    </tr>\n",
       "    <tr>\n",
       "      <th>1</th>\n",
       "      <td>aa</td>\n",
       "      <td>[aa evet, şey aa, aa bu, aa şey, aa öyle, aa h...</td>\n",
       "    </tr>\n",
       "    <tr>\n",
       "      <th>2</th>\n",
       "      <td>aaa</td>\n",
       "      <td>[aaa şey]</td>\n",
       "    </tr>\n",
       "    <tr>\n",
       "      <th>3</th>\n",
       "      <td>aah</td>\n",
       "      <td>[aah o, aah en]</td>\n",
       "    </tr>\n",
       "    <tr>\n",
       "      <th>4</th>\n",
       "      <td>aang</td>\n",
       "      <td>[aang adında, aang adlı]</td>\n",
       "    </tr>\n",
       "    <tr>\n",
       "      <th>...</th>\n",
       "      <td>...</td>\n",
       "      <td>...</td>\n",
       "    </tr>\n",
       "    <tr>\n",
       "      <th>29818</th>\n",
       "      <td>şık</td>\n",
       "      <td>[çok şık, şık bir, şık görünüyorsun, kadar şık...</td>\n",
       "    </tr>\n",
       "    <tr>\n",
       "      <th>29819</th>\n",
       "      <td>şımarık</td>\n",
       "      <td>[şımarık bir, şımarık ve, seni şımarık]</td>\n",
       "    </tr>\n",
       "    <tr>\n",
       "      <th>29820</th>\n",
       "      <td>şınav</td>\n",
       "      <td>[şınav çek]</td>\n",
       "    </tr>\n",
       "    <tr>\n",
       "      <th>29821</th>\n",
       "      <td>şırınga</td>\n",
       "      <td>[bir şırınga]</td>\n",
       "    </tr>\n",
       "    <tr>\n",
       "      <th>29822</th>\n",
       "      <td>şşş</td>\n",
       "      <td>[şşş şşş, şşş sessiz]</td>\n",
       "    </tr>\n",
       "  </tbody>\n",
       "</table>\n",
       "<p>29823 rows × 2 columns</p>\n",
       "</div>"
      ],
      "text/plain": [
       "          word                                            twogram\n",
       "0            a  [l a, a evet, a j, a b, a aziz, and a, a ve, t...\n",
       "1           aa  [aa evet, şey aa, aa bu, aa şey, aa öyle, aa h...\n",
       "2          aaa                                          [aaa şey]\n",
       "3          aah                                    [aah o, aah en]\n",
       "4         aang                           [aang adında, aang adlı]\n",
       "...        ...                                                ...\n",
       "29818      şık  [çok şık, şık bir, şık görünüyorsun, kadar şık...\n",
       "29819  şımarık            [şımarık bir, şımarık ve, seni şımarık]\n",
       "29820    şınav                                        [şınav çek]\n",
       "29821  şırınga                                      [bir şırınga]\n",
       "29822      şşş                              [şşş şşş, şşş sessiz]\n",
       "\n",
       "[29823 rows x 2 columns]"
      ]
     },
     "execution_count": 21,
     "metadata": {},
     "output_type": "execute_result"
    }
   ],
   "source": [
    "df_word_in_two_list = df_word_in_two.groupby([\"word\"])[\"twogram\"].apply(list).reset_index(name=\"twogram\")\n",
    "df_word_in_two_list"
   ]
  },
  {
   "cell_type": "code",
   "execution_count": 22,
   "metadata": {},
   "outputs": [],
   "source": [
    "df_word_in_two_list.to_excel(f\"{lang_folder.capitalize()}_Word_Text_Selection_Result.xlsx\", index=False)"
   ]
  },
  {
   "cell_type": "markdown",
   "metadata": {},
   "source": [
    "##### Twogram"
   ]
  },
  {
   "cell_type": "code",
   "execution_count": 23,
   "metadata": {},
   "outputs": [],
   "source": [
    "# 1 Way Slow\n",
    "#df_two_in_three = word_in_wordgroup(twogram_list, df_threegram_select, \"threegram\", simple=True)\n",
    "#df_two_in_three.rename(columns={\"word\":\"twogram\"}, inplace=True)\n",
    "#df_two_in_three"
   ]
  },
  {
   "cell_type": "code",
   "execution_count": 24,
   "metadata": {},
   "outputs": [
    {
     "data": {
      "text/html": [
       "<div>\n",
       "<style scoped>\n",
       "    .dataframe tbody tr th:only-of-type {\n",
       "        vertical-align: middle;\n",
       "    }\n",
       "\n",
       "    .dataframe tbody tr th {\n",
       "        vertical-align: top;\n",
       "    }\n",
       "\n",
       "    .dataframe thead th {\n",
       "        text-align: right;\n",
       "    }\n",
       "</style>\n",
       "<table border=\"1\" class=\"dataframe\">\n",
       "  <thead>\n",
       "    <tr style=\"text-align: right;\">\n",
       "      <th></th>\n",
       "      <th>twogram</th>\n",
       "      <th>threegram</th>\n",
       "    </tr>\n",
       "  </thead>\n",
       "  <tbody>\n",
       "    <tr>\n",
       "      <th>0</th>\n",
       "      <td>korkutmak istemedim</td>\n",
       "      <td>seni korkutmak istemedim</td>\n",
       "    </tr>\n",
       "    <tr>\n",
       "      <th>1</th>\n",
       "      <td>korkutmak istemedim</td>\n",
       "      <td>sizi korkutmak istemedim</td>\n",
       "    </tr>\n",
       "    <tr>\n",
       "      <th>2</th>\n",
       "      <td>farkında değilsin</td>\n",
       "      <td>yaptığının farkında değilsin</td>\n",
       "    </tr>\n",
       "    <tr>\n",
       "      <th>3</th>\n",
       "      <td>farkında değilsin</td>\n",
       "      <td>olduğunun farkında değilsin</td>\n",
       "    </tr>\n",
       "    <tr>\n",
       "      <th>4</th>\n",
       "      <td>farkında değilsin</td>\n",
       "      <td>dediğinin farkında değilsin</td>\n",
       "    </tr>\n",
       "    <tr>\n",
       "      <th>...</th>\n",
       "      <td>...</td>\n",
       "      <td>...</td>\n",
       "    </tr>\n",
       "    <tr>\n",
       "      <th>557791</th>\n",
       "      <td>araba şirketi</td>\n",
       "      <td>araba şirketi için</td>\n",
       "    </tr>\n",
       "    <tr>\n",
       "      <th>557792</th>\n",
       "      <td>bir ederim</td>\n",
       "      <td>yerle bir ederim</td>\n",
       "    </tr>\n",
       "    <tr>\n",
       "      <th>557793</th>\n",
       "      <td>kaşık daha</td>\n",
       "      <td>bir kaşık daha</td>\n",
       "    </tr>\n",
       "    <tr>\n",
       "      <th>557794</th>\n",
       "      <td>olmadan gerçek</td>\n",
       "      <td>olmadan gerçek bir</td>\n",
       "    </tr>\n",
       "    <tr>\n",
       "      <th>557795</th>\n",
       "      <td>olmamıştı ki</td>\n",
       "      <td>çok olmamıştı ki</td>\n",
       "    </tr>\n",
       "  </tbody>\n",
       "</table>\n",
       "<p>557796 rows × 2 columns</p>\n",
       "</div>"
      ],
      "text/plain": [
       "                    twogram                     threegram\n",
       "0       korkutmak istemedim      seni korkutmak istemedim\n",
       "1       korkutmak istemedim      sizi korkutmak istemedim\n",
       "2         farkında değilsin  yaptığının farkında değilsin\n",
       "3         farkında değilsin   olduğunun farkında değilsin\n",
       "4         farkında değilsin   dediğinin farkında değilsin\n",
       "...                     ...                           ...\n",
       "557791        araba şirketi            araba şirketi için\n",
       "557792           bir ederim              yerle bir ederim\n",
       "557793           kaşık daha                bir kaşık daha\n",
       "557794       olmadan gerçek            olmadan gerçek bir\n",
       "557795         olmamıştı ki              çok olmamıştı ki\n",
       "\n",
       "[557796 rows x 2 columns]"
      ]
     },
     "execution_count": 24,
     "metadata": {},
     "output_type": "execute_result"
    }
   ],
   "source": [
    "# 2 Way Fast\n",
    "# parameter\n",
    "source_wordgroup_list = twogram_list\n",
    "search_column_name = \"twogram\"\n",
    "target_column = \"threegram\"\n",
    "df_target = df_threegram_select\n",
    "\n",
    "# function\n",
    "searchlist = []\n",
    "resultlist = []\n",
    "manager = multiprocessing.Manager()\n",
    "resultlist = manager.list()\n",
    "searchlist = manager.list()\n",
    "\n",
    "def word_in_wordgroup(wordgroup):    \n",
    "    try:\n",
    "        word_in_word_cluster = df_target[df_target[f\"{target_column}\"].str.contains(fr\"(?:\\s|^){wordgroup}(?:\\s|$)\", na=True)]\n",
    "        for result in word_in_word_cluster[f\"{target_column}\"]:\n",
    "            searchlist.append(wordgroup)\n",
    "            resultlist.append(result)\n",
    "    except:\n",
    "        pass\n",
    "\n",
    "if __name__ == '__main__':\n",
    "    # with Pool(16) as p:\n",
    "    with Pool(nprocs) as p: # Pool number CPU sayısına eşit olursa tüm CPU lar çalışır\n",
    "        p.map(word_in_wordgroup, source_wordgroup_list) # string_word liste\n",
    "\n",
    "search_list = list(searchlist)\n",
    "result_list = list(resultlist)\n",
    "df_two_in_three = pd.DataFrame([search_list,result_list]).transpose()\n",
    "df_two_in_three.columns = [f\"{search_column_name}\",f\"{target_column}\"]\n",
    "df_two_in_three"
   ]
  },
  {
   "cell_type": "code",
   "execution_count": 25,
   "metadata": {},
   "outputs": [
    {
     "data": {
      "text/html": [
       "<div>\n",
       "<style scoped>\n",
       "    .dataframe tbody tr th:only-of-type {\n",
       "        vertical-align: middle;\n",
       "    }\n",
       "\n",
       "    .dataframe tbody tr th {\n",
       "        vertical-align: top;\n",
       "    }\n",
       "\n",
       "    .dataframe thead th {\n",
       "        text-align: right;\n",
       "    }\n",
       "</style>\n",
       "<table border=\"1\" class=\"dataframe\">\n",
       "  <thead>\n",
       "    <tr style=\"text-align: right;\">\n",
       "      <th></th>\n",
       "      <th>twogram</th>\n",
       "      <th>threegram</th>\n",
       "    </tr>\n",
       "  </thead>\n",
       "  <tbody>\n",
       "    <tr>\n",
       "      <th>0</th>\n",
       "      <td>a artı</td>\n",
       "      <td>[a artı b]</td>\n",
       "    </tr>\n",
       "    <tr>\n",
       "      <th>1</th>\n",
       "      <td>a b</td>\n",
       "      <td>[a b c, a b ve]</td>\n",
       "    </tr>\n",
       "    <tr>\n",
       "      <th>2</th>\n",
       "      <td>a de</td>\n",
       "      <td>[l a de]</td>\n",
       "    </tr>\n",
       "    <tr>\n",
       "      <th>3</th>\n",
       "      <td>a e</td>\n",
       "      <td>[a e i]</td>\n",
       "    </tr>\n",
       "    <tr>\n",
       "      <th>4</th>\n",
       "      <td>a ile</td>\n",
       "      <td>[a ile başlayan, a ile başlıyor]</td>\n",
       "    </tr>\n",
       "    <tr>\n",
       "      <th>...</th>\n",
       "      <td>...</td>\n",
       "      <td>...</td>\n",
       "    </tr>\n",
       "    <tr>\n",
       "      <th>128721</th>\n",
       "      <td>şık bir</td>\n",
       "      <td>[çok şık bir, şık bir yer, şık bir şey, şık bi...</td>\n",
       "    </tr>\n",
       "    <tr>\n",
       "      <th>128722</th>\n",
       "      <td>şık değil</td>\n",
       "      <td>[çok şık değil, şık değil mi]</td>\n",
       "    </tr>\n",
       "    <tr>\n",
       "      <th>128723</th>\n",
       "      <td>şık görünüyorsun</td>\n",
       "      <td>[çok şık görünüyorsun]</td>\n",
       "    </tr>\n",
       "    <tr>\n",
       "      <th>128724</th>\n",
       "      <td>şık ve</td>\n",
       "      <td>[çok şık ve]</td>\n",
       "    </tr>\n",
       "    <tr>\n",
       "      <th>128725</th>\n",
       "      <td>şımarık bir</td>\n",
       "      <td>[şımarık bir çocuk, şımarık bir velet]</td>\n",
       "    </tr>\n",
       "  </tbody>\n",
       "</table>\n",
       "<p>128726 rows × 2 columns</p>\n",
       "</div>"
      ],
      "text/plain": [
       "                 twogram                                          threegram\n",
       "0                 a artı                                         [a artı b]\n",
       "1                    a b                                    [a b c, a b ve]\n",
       "2                   a de                                           [l a de]\n",
       "3                    a e                                            [a e i]\n",
       "4                  a ile                   [a ile başlayan, a ile başlıyor]\n",
       "...                  ...                                                ...\n",
       "128721           şık bir  [çok şık bir, şık bir yer, şık bir şey, şık bi...\n",
       "128722         şık değil                      [çok şık değil, şık değil mi]\n",
       "128723  şık görünüyorsun                             [çok şık görünüyorsun]\n",
       "128724            şık ve                                       [çok şık ve]\n",
       "128725       şımarık bir             [şımarık bir çocuk, şımarık bir velet]\n",
       "\n",
       "[128726 rows x 2 columns]"
      ]
     },
     "execution_count": 25,
     "metadata": {},
     "output_type": "execute_result"
    }
   ],
   "source": [
    "df_two_in_three_list = df_two_in_three.groupby([\"twogram\"])[\"threegram\"].apply(list).reset_index(name=\"threegram\")\n",
    "df_two_in_three_list"
   ]
  },
  {
   "cell_type": "code",
   "execution_count": 26,
   "metadata": {},
   "outputs": [],
   "source": [
    "#df_two_in_three_list.to_excel(\"Two_In_Three_list.xlsx\", index=False)"
   ]
  },
  {
   "cell_type": "code",
   "execution_count": null,
   "metadata": {},
   "outputs": [],
   "source": []
  },
  {
   "cell_type": "code",
   "execution_count": null,
   "metadata": {},
   "outputs": [],
   "source": [
    "df_two_in_four = word_in_wordgroup(twogram_list, df_fourgram_select, \"fourgram\", simple=True)\n",
    "df_two_in_four.rename(columns={\"word\":\"twogram\"}, inplace=True)\n",
    "df_two_in_four"
   ]
  },
  {
   "cell_type": "code",
   "execution_count": null,
   "metadata": {},
   "outputs": [],
   "source": [
    "df_two_in_four_list = df_two_in_four.groupby([\"twogram\"])[\"fourgram\"].apply(list).reset_index(name=\"fourgram\")\n",
    "df_two_in_four_list"
   ]
  },
  {
   "cell_type": "code",
   "execution_count": null,
   "metadata": {},
   "outputs": [],
   "source": [
    "df_two_in_five = word_in_wordgroup(twogram_list, df_fivegram_select, \"fivegram\", simple=True)\n",
    "df_two_in_five.rename(columns={\"word\":\"twogram\"}, inplace=True)\n",
    "df_two_in_five"
   ]
  },
  {
   "cell_type": "code",
   "execution_count": null,
   "metadata": {},
   "outputs": [],
   "source": [
    "df_two_in_five_list = df_two_in_five.groupby([\"twogram\"])[\"fivegram\"].apply(list).reset_index(name=\"fivegram\")\n",
    "df_two_in_five_list"
   ]
  },
  {
   "cell_type": "code",
   "execution_count": null,
   "metadata": {},
   "outputs": [],
   "source": [
    "df_two_in_six = word_in_wordgroup(twogram_list, df_sixgram_select, \"sixgram\", simple=True)\n",
    "df_two_in_six.rename(columns={\"word\":\"twogram\"}, inplace=True)\n",
    "df_two_in_six"
   ]
  },
  {
   "cell_type": "code",
   "execution_count": null,
   "metadata": {},
   "outputs": [],
   "source": [
    "df_two_in_six_list = df_two_in_six.groupby([\"twogram\"])[\"sixgram\"].apply(list).reset_index(name=\"sixgram\")\n",
    "df_two_in_six_list"
   ]
  },
  {
   "cell_type": "code",
   "execution_count": null,
   "metadata": {},
   "outputs": [],
   "source": [
    "df_two_in_seven = word_in_wordgroup(twogram_list, df_sevengram_select, \"sevengram\", simple=True)\n",
    "df_two_in_seven.rename(columns={\"word\":\"twogram\"}, inplace=True)\n",
    "df_two_in_seven"
   ]
  },
  {
   "cell_type": "code",
   "execution_count": null,
   "metadata": {},
   "outputs": [],
   "source": [
    "df_two_in_seven_list = df_two_in_seven.groupby([\"twogram\"])[\"sevengram\"].apply(list).reset_index(name=\"sevengram\")\n",
    "df_two_in_seven_list"
   ]
  },
  {
   "cell_type": "code",
   "execution_count": null,
   "metadata": {},
   "outputs": [],
   "source": [
    "df_two_in_eight = word_in_wordgroup(twogram_list, df_eightgram_select, \"eightgram\", simple=True)\n",
    "df_two_in_eight.rename(columns={\"word\":\"twogram\"}, inplace=True)\n",
    "df_two_in_eight"
   ]
  },
  {
   "cell_type": "code",
   "execution_count": null,
   "metadata": {},
   "outputs": [],
   "source": [
    "df_two_in_eight_list = df_two_in_eight.groupby([\"twogram\"])[\"eightgram\"].apply(list).reset_index(name=\"eightgram\")\n",
    "df_two_in_eight_list"
   ]
  },
  {
   "cell_type": "code",
   "execution_count": null,
   "metadata": {},
   "outputs": [],
   "source": [
    "df_two_in_nine = word_in_wordgroup(twogram_list, df_ninegram_select, \"ninegram\", simple=True)\n",
    "df_two_in_nine.rename(columns={\"word\":\"twogram\"}, inplace=True)\n",
    "df_two_in_nine"
   ]
  },
  {
   "cell_type": "code",
   "execution_count": null,
   "metadata": {},
   "outputs": [],
   "source": [
    "df_two_in_nine_list = df_two_in_nine.groupby([\"twogram\"])[\"ninegram\"].apply(list).reset_index(name=\"ninegram\")\n",
    "df_two_in_nine_list"
   ]
  },
  {
   "cell_type": "code",
   "execution_count": null,
   "metadata": {},
   "outputs": [],
   "source": [
    "df_two_in_ten = word_in_wordgroup(twogram_list, df_tengram_select, \"tengram\", simple=True)\n",
    "df_two_in_ten.rename(columns={\"word\":\"twogram\"}, inplace=True)\n",
    "df_two_in_ten"
   ]
  },
  {
   "cell_type": "code",
   "execution_count": null,
   "metadata": {},
   "outputs": [],
   "source": [
    "df_two_in_ten_list = df_two_in_ten.groupby([\"twogram\"])[\"tengram\"].apply(list).reset_index(name=\"tengram\")\n",
    "df_two_in_ten_list"
   ]
  },
  {
   "cell_type": "code",
   "execution_count": null,
   "metadata": {},
   "outputs": [],
   "source": [
    "dfs2 = [df_twogram_select, df_two_in_three_list, df_two_in_four_list, df_two_in_five_list, df_two_in_six_list, df_two_in_seven_list, df_two_in_eight_list, df_two_in_nine_list, df_two_in_ten_list]"
   ]
  },
  {
   "cell_type": "code",
   "execution_count": null,
   "metadata": {},
   "outputs": [],
   "source": [
    "df_twogram_merge = reduce(lambda  left,right: pd.merge(left,right, on=['twogram'], how='left'), dfs2)\n",
    "df_twogram_merge"
   ]
  },
  {
   "cell_type": "code",
   "execution_count": null,
   "metadata": {},
   "outputs": [],
   "source": [
    "df_twogram_merge.to_excel(f\"{lang_folder.capitalize()}_Twogram_Text_Selection_Result.xlsx\", index=False)"
   ]
  },
  {
   "cell_type": "code",
   "execution_count": null,
   "metadata": {},
   "outputs": [],
   "source": []
  },
  {
   "cell_type": "markdown",
   "metadata": {},
   "source": [
    "##### Threegram"
   ]
  },
  {
   "cell_type": "code",
   "execution_count": null,
   "metadata": {},
   "outputs": [],
   "source": [
    "df_three_in_four = word_in_wordgroup(threegram_list, df_fourgram_select, \"fourgram\", simple=True)\n",
    "df_three_in_four.rename(columns={\"word\":\"threegram\"}, inplace=True)\n",
    "df_three_in_four"
   ]
  },
  {
   "cell_type": "code",
   "execution_count": null,
   "metadata": {},
   "outputs": [],
   "source": [
    "df_three_in_four_list = df_three_in_four.groupby([\"threegram\"])[\"fourgram\"].apply(list).reset_index(name=\"fourgram\")\n",
    "df_three_in_four_list"
   ]
  },
  {
   "cell_type": "code",
   "execution_count": null,
   "metadata": {},
   "outputs": [],
   "source": [
    "df_three_in_five = word_in_wordgroup(threegram_list, df_fivegram_select, \"fivegram\", simple=True)\n",
    "df_three_in_five.rename(columns={\"word\":\"threegram\"}, inplace=True)\n",
    "df_three_in_five"
   ]
  },
  {
   "cell_type": "code",
   "execution_count": null,
   "metadata": {},
   "outputs": [],
   "source": [
    "df_three_in_five_list = df_three_in_five.groupby([\"threegram\"])[\"fivegram\"].apply(list).reset_index(name=\"fivegram\")\n",
    "df_three_in_five_list"
   ]
  },
  {
   "cell_type": "code",
   "execution_count": null,
   "metadata": {},
   "outputs": [],
   "source": [
    "df_three_in_six = word_in_wordgroup(threegram_list, df_sixgram_select, \"sixgram\", simple=True)\n",
    "df_three_in_six.rename(columns={\"word\":\"threegram\"}, inplace=True)\n",
    "df_three_in_six"
   ]
  },
  {
   "cell_type": "code",
   "execution_count": null,
   "metadata": {},
   "outputs": [],
   "source": [
    "df_three_in_six_list = df_three_in_six.groupby([\"threegram\"])[\"sixgram\"].apply(list).reset_index(name=\"sixgram\")\n",
    "df_three_in_six_list"
   ]
  },
  {
   "cell_type": "code",
   "execution_count": null,
   "metadata": {},
   "outputs": [],
   "source": [
    "df_three_in_seven = word_in_wordgroup(threegram_list, df_sevengram_select, \"sevengram\", simple=True)\n",
    "df_three_in_seven.rename(columns={\"word\":\"threegram\"}, inplace=True)\n",
    "df_three_in_seven"
   ]
  },
  {
   "cell_type": "code",
   "execution_count": null,
   "metadata": {},
   "outputs": [],
   "source": [
    "df_three_in_seven_list = df_three_in_seven.groupby([\"threegram\"])[\"sevengram\"].apply(list).reset_index(name=\"sevengram\")\n",
    "df_three_in_seven_list"
   ]
  },
  {
   "cell_type": "code",
   "execution_count": null,
   "metadata": {},
   "outputs": [],
   "source": [
    "df_three_in_eight = word_in_wordgroup(threegram_list, df_eightgram_select, \"eightgram\", simple=True)\n",
    "df_three_in_eight.rename(columns={\"word\":\"threegram\"}, inplace=True)\n",
    "df_three_in_eight"
   ]
  },
  {
   "cell_type": "code",
   "execution_count": null,
   "metadata": {},
   "outputs": [],
   "source": [
    "df_three_in_eight_list = df_three_in_eight.groupby([\"threegram\"])[\"eightgram\"].apply(list).reset_index(name=\"eightgram\")\n",
    "df_three_in_eight_list"
   ]
  },
  {
   "cell_type": "code",
   "execution_count": null,
   "metadata": {},
   "outputs": [],
   "source": [
    "df_three_in_nine = word_in_wordgroup(threegram_list, df_ninegram_select, \"ninegram\", simple=True)\n",
    "df_three_in_nine.rename(columns={\"word\":\"threegram\"}, inplace=True)\n",
    "df_three_in_nine"
   ]
  },
  {
   "cell_type": "code",
   "execution_count": null,
   "metadata": {},
   "outputs": [],
   "source": [
    "df_three_in_nine_list = df_three_in_nine.groupby([\"threegram\"])[\"ninegram\"].apply(list).reset_index(name=\"ninegram\")\n",
    "df_three_in_nine_list"
   ]
  },
  {
   "cell_type": "code",
   "execution_count": null,
   "metadata": {},
   "outputs": [],
   "source": [
    "df_three_in_ten = word_in_wordgroup(threegram_list, df_tengram_select, \"tengram\", simple=True)\n",
    "df_three_in_ten.rename(columns={\"word\":\"threegram\"}, inplace=True)\n",
    "df_three_in_ten"
   ]
  },
  {
   "cell_type": "code",
   "execution_count": null,
   "metadata": {},
   "outputs": [],
   "source": [
    "df_three_in_ten_list = df_three_in_ten.groupby([\"threegram\"])[\"tengram\"].apply(list).reset_index(name=\"tengram\")\n",
    "df_three_in_ten_list"
   ]
  },
  {
   "cell_type": "code",
   "execution_count": null,
   "metadata": {},
   "outputs": [],
   "source": [
    "dfs3 = [df_threegram_select, df_three_in_four_list, df_three_in_five_list, df_three_in_six_list, df_three_in_seven_list, df_three_in_eight_list, df_three_in_nine_list, df_three_in_ten_list]"
   ]
  },
  {
   "cell_type": "code",
   "execution_count": null,
   "metadata": {},
   "outputs": [],
   "source": [
    "df_threegram_merge = reduce(lambda  left,right: pd.merge(left,right, on=['threegram'], how='left'), dfs3)\n",
    "df_threegram_merge"
   ]
  },
  {
   "cell_type": "code",
   "execution_count": null,
   "metadata": {},
   "outputs": [],
   "source": [
    "df_threegram_merge.to_excel(f\"{lang_folder.capitalize()}_Threegram_Text_Selection_Result.xlsx\", index=False)"
   ]
  },
  {
   "cell_type": "code",
   "execution_count": null,
   "metadata": {},
   "outputs": [],
   "source": []
  },
  {
   "cell_type": "markdown",
   "metadata": {},
   "source": [
    "##### Fourgram"
   ]
  },
  {
   "cell_type": "code",
   "execution_count": null,
   "metadata": {},
   "outputs": [],
   "source": [
    "df_four_in_five = word_in_wordgroup(fourgram_list, df_fivegram_select, \"fivegram\", simple=True)\n",
    "df_four_in_five.rename(columns={\"word\":\"fourgram\"}, inplace=True)\n",
    "df_four_in_five"
   ]
  },
  {
   "cell_type": "code",
   "execution_count": null,
   "metadata": {},
   "outputs": [],
   "source": [
    "df_four_in_five_list = df_four_in_five.groupby([\"fourgram\"])[\"fivegram\"].apply(list).reset_index(name=\"fivegram\")\n",
    "df_four_in_five_list"
   ]
  },
  {
   "cell_type": "code",
   "execution_count": null,
   "metadata": {},
   "outputs": [],
   "source": [
    "df_four_in_six = word_in_wordgroup(fourgram_list, df_sixgram_select, \"sixgram\", simple=True)\n",
    "df_four_in_six.rename(columns={\"word\":\"fourgram\"}, inplace=True)\n",
    "df_four_in_six"
   ]
  },
  {
   "cell_type": "code",
   "execution_count": null,
   "metadata": {},
   "outputs": [],
   "source": [
    "df_four_in_six_list = df_four_in_six.groupby([\"fourgram\"])[\"sixgram\"].apply(list).reset_index(name=\"sixgram\")\n",
    "df_four_in_six_list"
   ]
  },
  {
   "cell_type": "code",
   "execution_count": null,
   "metadata": {},
   "outputs": [],
   "source": [
    "df_four_in_seven = word_in_wordgroup(fourgram_list, df_sevengram_select, \"sevengram\", simple=True)\n",
    "df_four_in_seven.rename(columns={\"word\":\"fourgram\"}, inplace=True)\n",
    "df_four_in_seven"
   ]
  },
  {
   "cell_type": "code",
   "execution_count": null,
   "metadata": {},
   "outputs": [],
   "source": [
    "df_four_in_seven_list = df_four_in_seven.groupby([\"fourgram\"])[\"sevengram\"].apply(list).reset_index(name=\"sevengram\")\n",
    "df_four_in_seven_list"
   ]
  },
  {
   "cell_type": "code",
   "execution_count": null,
   "metadata": {},
   "outputs": [],
   "source": [
    "df_four_in_eight = word_in_wordgroup(fourgram_list, df_eightgram_select, \"eightgram\", simple=True)\n",
    "df_four_in_eight.rename(columns={\"word\":\"fourgram\"}, inplace=True)\n",
    "df_four_in_eight"
   ]
  },
  {
   "cell_type": "code",
   "execution_count": null,
   "metadata": {},
   "outputs": [],
   "source": [
    "df_four_in_eight_list = df_four_in_eight.groupby([\"fourgram\"])[\"eightgram\"].apply(list).reset_index(name=\"eightgram\")\n",
    "df_four_in_eight_list"
   ]
  },
  {
   "cell_type": "code",
   "execution_count": null,
   "metadata": {},
   "outputs": [],
   "source": [
    "df_four_in_nine = word_in_wordgroup(fourgram_list, df_ninegram_select, \"ninegram\", simple=True)\n",
    "df_four_in_nine.rename(columns={\"word\":\"fourgram\"}, inplace=True)\n",
    "df_four_in_nine"
   ]
  },
  {
   "cell_type": "code",
   "execution_count": null,
   "metadata": {},
   "outputs": [],
   "source": [
    "df_four_in_nine_list = df_four_in_nine.groupby([\"fourgram\"])[\"ninegram\"].apply(list).reset_index(name=\"ninegram\")\n",
    "df_four_in_nine_list"
   ]
  },
  {
   "cell_type": "code",
   "execution_count": null,
   "metadata": {},
   "outputs": [],
   "source": [
    "df_four_in_ten = word_in_wordgroup(fourgram_list, df_tengram_select, \"tengram\", simple=True)\n",
    "df_four_in_ten.rename(columns={\"word\":\"fourgram\"}, inplace=True)\n",
    "df_four_in_ten"
   ]
  },
  {
   "cell_type": "code",
   "execution_count": null,
   "metadata": {},
   "outputs": [],
   "source": [
    "df_four_in_ten_list = df_four_in_ten.groupby([\"fourgram\"])[\"tengram\"].apply(list).reset_index(name=\"tengram\")\n",
    "df_four_in_ten_list"
   ]
  },
  {
   "cell_type": "code",
   "execution_count": null,
   "metadata": {},
   "outputs": [],
   "source": [
    "dfs4 = [df_fourgram_select, df_four_in_five_list, df_four_in_six_list, df_four_in_seven_list, df_four_in_eight_list, df_four_in_nine_list, df_four_in_ten_list]"
   ]
  },
  {
   "cell_type": "code",
   "execution_count": null,
   "metadata": {},
   "outputs": [],
   "source": [
    "df_fourgram_merge = reduce(lambda  left,right: pd.merge(left,right, on=['fourgram'], how='left'), dfs4)\n",
    "df_fourgram_merge"
   ]
  },
  {
   "cell_type": "code",
   "execution_count": null,
   "metadata": {},
   "outputs": [],
   "source": [
    "df_fourgram_merge.to_excel(f\"{lang_folder.capitalize()}_Fourgram_Text_Selection_Result.xlsx\", index=False)"
   ]
  },
  {
   "cell_type": "code",
   "execution_count": null,
   "metadata": {},
   "outputs": [],
   "source": []
  },
  {
   "cell_type": "markdown",
   "metadata": {},
   "source": [
    "##### Fivegram"
   ]
  },
  {
   "cell_type": "code",
   "execution_count": null,
   "metadata": {},
   "outputs": [],
   "source": [
    "df_five_in_six = word_in_wordgroup(fivegram_list, df_sixgram_select, \"sixgram\", simple=True)\n",
    "df_five_in_six.rename(columns={\"word\":\"fivegram\"}, inplace=True)\n",
    "df_five_in_six"
   ]
  },
  {
   "cell_type": "code",
   "execution_count": null,
   "metadata": {},
   "outputs": [],
   "source": [
    "df_five_in_six_list = df_five_in_six.groupby([\"fivegram\"])[\"sixgram\"].apply(list).reset_index(name=\"sixgram\")\n",
    "df_five_in_six_list"
   ]
  },
  {
   "cell_type": "code",
   "execution_count": null,
   "metadata": {},
   "outputs": [],
   "source": [
    "df_five_in_seven = word_in_wordgroup(fivegram_list, df_sevengram_select, \"sevengram\", simple=True)\n",
    "df_five_in_seven.rename(columns={\"word\":\"fivegram\"}, inplace=True)\n",
    "df_five_in_seven"
   ]
  },
  {
   "cell_type": "code",
   "execution_count": null,
   "metadata": {},
   "outputs": [],
   "source": [
    "df_five_in_seven_list = df_five_in_seven.groupby([\"fivegram\"])[\"sevengram\"].apply(list).reset_index(name=\"sevengram\")\n",
    "df_five_in_seven_list"
   ]
  },
  {
   "cell_type": "code",
   "execution_count": null,
   "metadata": {},
   "outputs": [],
   "source": [
    "df_five_in_eight = word_in_wordgroup(fivegram_list, df_eightgram_select, \"eightgram\", simple=True)\n",
    "df_five_in_eight.rename(columns={\"word\":\"fivegram\"}, inplace=True)\n",
    "df_five_in_eight"
   ]
  },
  {
   "cell_type": "code",
   "execution_count": null,
   "metadata": {},
   "outputs": [],
   "source": [
    "df_five_in_eight_list = df_five_in_eight.groupby([\"fivegram\"])[\"eightgram\"].apply(list).reset_index(name=\"eightgram\")\n",
    "df_five_in_eight_list"
   ]
  },
  {
   "cell_type": "code",
   "execution_count": null,
   "metadata": {},
   "outputs": [],
   "source": [
    "df_five_in_nine = word_in_wordgroup(fivegram_list, df_ninegram_select, \"ninegram\", simple=True)\n",
    "df_five_in_nine.rename(columns={\"word\":\"fivegram\"}, inplace=True)\n",
    "df_five_in_nine"
   ]
  },
  {
   "cell_type": "code",
   "execution_count": null,
   "metadata": {},
   "outputs": [],
   "source": [
    "df_five_in_nine_list = df_five_in_nine.groupby([\"fivegram\"])[\"ninegram\"].apply(list).reset_index(name=\"ninegram\")\n",
    "df_five_in_nine_list"
   ]
  },
  {
   "cell_type": "code",
   "execution_count": null,
   "metadata": {},
   "outputs": [],
   "source": [
    "df_five_in_ten = word_in_wordgroup(fivegram_list, df_tengram_select, \"tengram\", simple=True)\n",
    "df_five_in_ten.rename(columns={\"word\":\"fivegram\"}, inplace=True)\n",
    "df_five_in_ten"
   ]
  },
  {
   "cell_type": "code",
   "execution_count": null,
   "metadata": {},
   "outputs": [],
   "source": [
    "df_five_in_ten_list = df_five_in_ten.groupby([\"fivegram\"])[\"tengram\"].apply(list).reset_index(name=\"tengram\")\n",
    "df_five_in_ten_list"
   ]
  },
  {
   "cell_type": "code",
   "execution_count": null,
   "metadata": {},
   "outputs": [],
   "source": [
    "dfs5 = [df_fivegram_select, df_five_in_six_list, df_five_in_seven_list, df_five_in_eight_list, df_five_in_nine_list, df_five_in_ten_list]"
   ]
  },
  {
   "cell_type": "code",
   "execution_count": null,
   "metadata": {},
   "outputs": [],
   "source": [
    "df_fivegram_merge = reduce(lambda  left,right: pd.merge(left,right, on=['fivegram'], how='left'), dfs5)\n",
    "df_fivegram_merge"
   ]
  },
  {
   "cell_type": "code",
   "execution_count": null,
   "metadata": {},
   "outputs": [],
   "source": [
    "df_fivegram_merge.to_excel(f\"{lang_folder.capitalize()}_Fivegram_Text_Selection_Result.xlsx\", index=False)"
   ]
  },
  {
   "cell_type": "code",
   "execution_count": null,
   "metadata": {},
   "outputs": [],
   "source": []
  },
  {
   "cell_type": "markdown",
   "metadata": {},
   "source": [
    "##### Sixgram"
   ]
  },
  {
   "cell_type": "code",
   "execution_count": null,
   "metadata": {},
   "outputs": [],
   "source": [
    "df_six_in_seven = word_in_wordgroup(sixgram_list, df_sevengram_select, \"sevengram\", simple=True)\n",
    "df_six_in_seven.rename(columns={\"word\":\"sixgram\"}, inplace=True)\n",
    "df_six_in_seven"
   ]
  },
  {
   "cell_type": "code",
   "execution_count": null,
   "metadata": {},
   "outputs": [],
   "source": [
    "df_six_in_seven_list = df_six_in_seven.groupby([\"sixgram\"])[\"sevengram\"].apply(list).reset_index(name=\"sevengram\")\n",
    "df_six_in_seven_list"
   ]
  },
  {
   "cell_type": "code",
   "execution_count": null,
   "metadata": {},
   "outputs": [],
   "source": [
    "df_six_in_eight = word_in_wordgroup(sixgram_list, df_eightgram_select, \"eightgram\", simple=True)\n",
    "df_six_in_eight.rename(columns={\"word\":\"sixgram\"}, inplace=True)\n",
    "df_six_in_eight"
   ]
  },
  {
   "cell_type": "code",
   "execution_count": null,
   "metadata": {},
   "outputs": [],
   "source": [
    "df_six_in_eight_list = df_six_in_eight.groupby([\"sixgram\"])[\"eightgram\"].apply(list).reset_index(name=\"eightgram\")\n",
    "df_six_in_eight_list"
   ]
  },
  {
   "cell_type": "code",
   "execution_count": null,
   "metadata": {},
   "outputs": [],
   "source": [
    "df_six_in_nine = word_in_wordgroup(sixgram_list, df_ninegram_select, \"ninegram\", simple=True)\n",
    "df_six_in_nine.rename(columns={\"word\":\"sixgram\"}, inplace=True)\n",
    "df_six_in_nine"
   ]
  },
  {
   "cell_type": "code",
   "execution_count": null,
   "metadata": {},
   "outputs": [],
   "source": [
    "df_six_in_nine_list = df_six_in_nine.groupby([\"sixgram\"])[\"ninegram\"].apply(list).reset_index(name=\"ninegram\")\n",
    "df_six_in_nine_list"
   ]
  },
  {
   "cell_type": "code",
   "execution_count": null,
   "metadata": {},
   "outputs": [],
   "source": [
    "df_six_in_ten = word_in_wordgroup(sixgram_list, df_tengram_select, \"tengram\", simple=True)\n",
    "df_six_in_ten.rename(columns={\"word\":\"sixgram\"}, inplace=True)\n",
    "df_six_in_ten"
   ]
  },
  {
   "cell_type": "code",
   "execution_count": null,
   "metadata": {},
   "outputs": [],
   "source": [
    "df_six_in_ten_list = df_six_in_ten.groupby([\"sixgram\"])[\"tengram\"].apply(list).reset_index(name=\"tengram\")\n",
    "df_six_in_ten_list"
   ]
  },
  {
   "cell_type": "code",
   "execution_count": null,
   "metadata": {},
   "outputs": [],
   "source": [
    "dfs6 = [df_sixgram_select, df_six_in_seven_list, df_six_in_eight_list, df_six_in_nine_list, df_six_in_ten_list]"
   ]
  },
  {
   "cell_type": "code",
   "execution_count": null,
   "metadata": {},
   "outputs": [],
   "source": [
    "df_sixgram_merge = reduce(lambda  left,right: pd.merge(left,right, on=['sixgram'], how='left'), dfs6)\n",
    "df_sixgram_merge"
   ]
  },
  {
   "cell_type": "code",
   "execution_count": null,
   "metadata": {},
   "outputs": [],
   "source": [
    "df_sixgram_merge.to_excel(f\"{lang_folder.capitalize()}_Sixgram_Text_Selection_Result.xlsx\", index=False)"
   ]
  },
  {
   "cell_type": "code",
   "execution_count": null,
   "metadata": {},
   "outputs": [],
   "source": []
  },
  {
   "cell_type": "markdown",
   "metadata": {},
   "source": [
    "##### Sevengram"
   ]
  },
  {
   "cell_type": "code",
   "execution_count": null,
   "metadata": {},
   "outputs": [],
   "source": [
    "df_seven_in_eight = word_in_wordgroup(sevengram_list, df_eightgram_select, \"eightgram\", simple=True)\n",
    "df_seven_in_eight.rename(columns={\"word\":\"sevengram\"}, inplace=True)\n",
    "df_seven_in_eight"
   ]
  },
  {
   "cell_type": "code",
   "execution_count": null,
   "metadata": {},
   "outputs": [],
   "source": [
    "df_seven_in_eight_list = df_seven_in_eight.groupby([\"sevengram\"])[\"eightgram\"].apply(list).reset_index(name=\"eightgram\")\n",
    "df_seven_in_eight_list"
   ]
  },
  {
   "cell_type": "code",
   "execution_count": null,
   "metadata": {},
   "outputs": [],
   "source": [
    "df_seven_in_nine = word_in_wordgroup(sevengram_list, df_ninegram_select, \"ninegram\", simple=True)\n",
    "df_seven_in_nine.rename(columns={\"word\":\"sevengram\"}, inplace=True)\n",
    "df_seven_in_nine"
   ]
  },
  {
   "cell_type": "code",
   "execution_count": null,
   "metadata": {},
   "outputs": [],
   "source": [
    "df_seven_in_nine_list = df_seven_in_nine.groupby([\"sevengram\"])[\"ninegram\"].apply(list).reset_index(name=\"ninegram\")\n",
    "df_seven_in_nine_list"
   ]
  },
  {
   "cell_type": "code",
   "execution_count": null,
   "metadata": {},
   "outputs": [],
   "source": [
    "df_seven_in_ten = word_in_wordgroup(sevengram_list, df_tengram_select, \"tengram\", simple=True)\n",
    "df_seven_in_ten.rename(columns={\"word\":\"sevengram\"}, inplace=True)\n",
    "df_seven_in_ten"
   ]
  },
  {
   "cell_type": "code",
   "execution_count": null,
   "metadata": {},
   "outputs": [],
   "source": [
    "df_seven_in_ten_list = df_seven_in_ten.groupby([\"sevengram\"])[\"tengram\"].apply(list).reset_index(name=\"tengram\")\n",
    "df_seven_in_ten_list"
   ]
  },
  {
   "cell_type": "code",
   "execution_count": null,
   "metadata": {},
   "outputs": [],
   "source": [
    "dfs7 = [df_sevengram_select, df_seven_in_eight_list, df_seven_in_nine_list, df_seven_in_ten_list]"
   ]
  },
  {
   "cell_type": "code",
   "execution_count": null,
   "metadata": {},
   "outputs": [],
   "source": [
    "df_sevengram_merge = reduce(lambda  left,right: pd.merge(left,right, on=['sevengram'], how='left'), dfs7)\n",
    "df_sevengram_merge"
   ]
  },
  {
   "cell_type": "code",
   "execution_count": null,
   "metadata": {},
   "outputs": [],
   "source": [
    "df_sevengram_merge.to_excel(f\"{lang_folder.capitalize()}_Sevengram_Text_Selection_Result.xlsx\", index=False)"
   ]
  },
  {
   "cell_type": "code",
   "execution_count": null,
   "metadata": {},
   "outputs": [],
   "source": []
  },
  {
   "cell_type": "markdown",
   "metadata": {},
   "source": [
    "##### Eightgram"
   ]
  },
  {
   "cell_type": "code",
   "execution_count": null,
   "metadata": {},
   "outputs": [],
   "source": [
    "df_eight_in_nine = word_in_wordgroup(eightgram_list, df_ninegram_select, \"ninegram\", simple=True)\n",
    "df_eight_in_nine.rename(columns={\"word\":\"eightgram\"}, inplace=True)\n",
    "df_eight_in_nine"
   ]
  },
  {
   "cell_type": "code",
   "execution_count": null,
   "metadata": {},
   "outputs": [],
   "source": [
    "df_eight_in_nine_list = df_eight_in_nine.groupby([\"eightgram\"])[\"ninegram\"].apply(list).reset_index(name=\"ninegram\")\n",
    "df_eight_in_nine_list"
   ]
  },
  {
   "cell_type": "code",
   "execution_count": null,
   "metadata": {},
   "outputs": [],
   "source": [
    "df_eight_in_ten = word_in_wordgroup(eightgram_list, df_tengram_select, \"tengram\", simple=True)\n",
    "df_eight_in_ten.rename(columns={\"word\":\"eightgram\"}, inplace=True)\n",
    "df_eight_in_ten"
   ]
  },
  {
   "cell_type": "code",
   "execution_count": null,
   "metadata": {},
   "outputs": [],
   "source": [
    "df_eight_in_ten_list = df_eight_in_ten.groupby([\"eightgram\"])[\"tengram\"].apply(list).reset_index(name=\"tengram\")\n",
    "df_eight_in_ten_list"
   ]
  },
  {
   "cell_type": "code",
   "execution_count": null,
   "metadata": {},
   "outputs": [],
   "source": [
    "dfs8 = [df_eightgram_select, df_eight_in_nine_list, df_eight_in_ten_list]"
   ]
  },
  {
   "cell_type": "code",
   "execution_count": null,
   "metadata": {},
   "outputs": [],
   "source": [
    "df_eightgram_merge = reduce(lambda  left,right: pd.merge(left,right, on=['eightgram'], how='left'), dfs8)\n",
    "df_eightgram_merge"
   ]
  },
  {
   "cell_type": "code",
   "execution_count": null,
   "metadata": {},
   "outputs": [],
   "source": [
    "df_eightgram_merge.to_excel(f\"{lang_folder.capitalize()}_Eightgram_Text_Selection_Result.xlsx\", index=False)"
   ]
  },
  {
   "cell_type": "code",
   "execution_count": null,
   "metadata": {},
   "outputs": [],
   "source": []
  },
  {
   "cell_type": "markdown",
   "metadata": {},
   "source": [
    "##### Ninegram"
   ]
  },
  {
   "cell_type": "code",
   "execution_count": null,
   "metadata": {},
   "outputs": [],
   "source": [
    "df_nine_in_ten = word_in_wordgroup(ninegram_list, df_tengram_select, \"tengram\", simple=True)\n",
    "df_nine_in_ten.rename(columns={\"word\":\"ninegram\"}, inplace=True)\n",
    "df_nine_in_ten"
   ]
  },
  {
   "cell_type": "code",
   "execution_count": null,
   "metadata": {},
   "outputs": [],
   "source": [
    "df_nine_in_ten_list = df_nine_in_ten.groupby([\"ninegram\"])[\"tengram\"].apply(list).reset_index(name=\"tengram\")\n",
    "df_nine_in_ten_list"
   ]
  },
  {
   "cell_type": "code",
   "execution_count": null,
   "metadata": {},
   "outputs": [],
   "source": [
    "dfs9 = [df_ninegram_select, df_nine_in_ten_list]"
   ]
  },
  {
   "cell_type": "code",
   "execution_count": null,
   "metadata": {},
   "outputs": [],
   "source": [
    "df_ninegram_merge = reduce(lambda  left,right: pd.merge(left,right, on=['ninegram'], how='left'), dfs9)\n",
    "df_ninegram_merge"
   ]
  },
  {
   "cell_type": "code",
   "execution_count": null,
   "metadata": {},
   "outputs": [],
   "source": [
    "df_ninegram_merge.to_excel(f\"{lang_folder.capitalize()}_Ninegram_Text_Selection_Result.xlsx\", index=False)"
   ]
  },
  {
   "cell_type": "code",
   "execution_count": null,
   "metadata": {},
   "outputs": [],
   "source": []
  },
  {
   "cell_type": "code",
   "execution_count": null,
   "metadata": {},
   "outputs": [],
   "source": []
  },
  {
   "cell_type": "markdown",
   "metadata": {},
   "source": [
    "##### Text Data Word-Word Group In Word Group Merge"
   ]
  },
  {
   "cell_type": "code",
   "execution_count": null,
   "metadata": {},
   "outputs": [],
   "source": [
    "df_1_2_3_merge = pd.merge(df_word_in_two, df_two_in_three, how=\"left\", on=\"twogram\")\n",
    "df_1_2_3_merge.drop_duplicates(inplace=True)\n",
    "df_1_2_3_merge"
   ]
  },
  {
   "cell_type": "code",
   "execution_count": null,
   "metadata": {},
   "outputs": [],
   "source": [
    "df_1_2_3_4_merge = pd.merge(df_1_2_3_merge, df_three_in_four, how=\"left\", on=\"threegram\")\n",
    "df_1_2_3_4_merge.drop_duplicates(inplace=True)\n",
    "df_1_2_3_4_merge"
   ]
  },
  {
   "cell_type": "code",
   "execution_count": null,
   "metadata": {},
   "outputs": [],
   "source": [
    "df_1_2_3_4_5_merge = pd.merge(df_1_2_3_4_merge, df_four_in_five, how=\"left\", on=\"fourgram\")\n",
    "df_1_2_3_4_5_merge.drop_duplicates(inplace=True)\n",
    "df_1_2_3_4_5_merge"
   ]
  },
  {
   "cell_type": "code",
   "execution_count": null,
   "metadata": {},
   "outputs": [],
   "source": [
    "df_1_2_3_4_5_6_merge = pd.merge(df_1_2_3_4_5_merge, df_five_in_six, how=\"left\", on=\"fivegram\")\n",
    "df_1_2_3_4_5_6_merge.drop_duplicates(inplace=True)\n",
    "df_1_2_3_4_5_6_merge"
   ]
  },
  {
   "cell_type": "code",
   "execution_count": null,
   "metadata": {},
   "outputs": [],
   "source": [
    "df_1_2_3_4_5_6_7_merge = pd.merge(df_1_2_3_4_5_6_merge, df_six_in_seven, how=\"left\", on=\"sixgram\")\n",
    "df_1_2_3_4_5_6_7_merge.drop_duplicates(inplace=True)\n",
    "df_1_2_3_4_5_6_7_merge"
   ]
  },
  {
   "cell_type": "code",
   "execution_count": null,
   "metadata": {},
   "outputs": [],
   "source": [
    "df_1_2_3_4_5_6_7_8_merge = pd.merge(df_1_2_3_4_5_6_7_merge, df_seven_in_eight, how=\"left\", on=\"sevengram\")\n",
    "df_1_2_3_4_5_6_7_8_merge.drop_duplicates(inplace=True)\n",
    "df_1_2_3_4_5_6_7_8_merge"
   ]
  },
  {
   "cell_type": "code",
   "execution_count": null,
   "metadata": {},
   "outputs": [],
   "source": [
    "df_1_2_3_4_5_6_7_8_9_merge = pd.merge(df_1_2_3_4_5_6_7_8_merge, df_eight_in_nine, how=\"left\", on=\"eightgram\")\n",
    "df_1_2_3_4_5_6_7_8_9_merge.drop_duplicates(inplace=True)\n",
    "df_1_2_3_4_5_6_7_8_9_merge"
   ]
  },
  {
   "cell_type": "code",
   "execution_count": null,
   "metadata": {},
   "outputs": [],
   "source": [
    "df_1_2_3_4_5_6_7_8_9_10_merge = pd.merge(df_1_2_3_4_5_6_7_8_9_merge, df_nine_in_ten, how=\"left\", on=\"ninegram\")\n",
    "df_1_2_3_4_5_6_7_8_9_10_merge.drop_duplicates(inplace=True)\n",
    "df_1_2_3_4_5_6_7_8_9_10_merge"
   ]
  },
  {
   "cell_type": "code",
   "execution_count": null,
   "metadata": {},
   "outputs": [],
   "source": [
    "df_1_2_3_4_5_6_7_8_9_10_merge"
   ]
  },
  {
   "cell_type": "code",
   "execution_count": null,
   "metadata": {},
   "outputs": [],
   "source": [
    "df_1_2_3_4_5_6_7_8_9_10_merge[\"word\"].nunique()"
   ]
  },
  {
   "cell_type": "code",
   "execution_count": null,
   "metadata": {},
   "outputs": [],
   "source": [
    "word_count_result(df_1_2_3_4_5_6_7_8_9_10_merge,[\"twogram\",\"threegram\",\"fourgram\",\"fivegram\",\"sixgram\",\"sevengram\",\"eightgram\",\"ninegram\",\"tengram\"])"
   ]
  },
  {
   "cell_type": "code",
   "execution_count": null,
   "metadata": {},
   "outputs": [],
   "source": [
    "#df_1_2_3_4_5_6_7_8_9_10_merge.to_excel(f\"{lang_folder.capitalize()}_Text_Selection_Data.xlsx\", index=False)"
   ]
  },
  {
   "cell_type": "code",
   "execution_count": null,
   "metadata": {},
   "outputs": [],
   "source": [
    "#df_1_2_3_4_5_6_7_8_9_10_freq_merge = pd.merge(df_1_2_3_4_5_6_7_8_9_10_merge, df_word_select, how=\"inner\", on=\"word\")\n",
    "df_1_2_3_4_5_6_7_8_9_10_freq_merge = pd.merge(df_word_select, df_1_2_3_4_5_6_7_8_9_10_merge, how=\"left\", on=\"word\")\n",
    "df_1_2_3_4_5_6_7_8_9_10_freq_merge.drop_duplicates(inplace=True)\n",
    "#df_1_2_3_4_5_6_7_8_9_10_freq_merge.sort_values(by=\"frequency\", inplace=True, ascending=False)\n",
    "df_1_2_3_4_5_6_7_8_9_10_freq_merge"
   ]
  },
  {
   "cell_type": "code",
   "execution_count": null,
   "metadata": {},
   "outputs": [],
   "source": [
    "df_1_2_3_4_5_6_7_8_9_10_freq_merge[\"word\"].nunique()"
   ]
  },
  {
   "cell_type": "code",
   "execution_count": null,
   "metadata": {},
   "outputs": [],
   "source": [
    "df_1_2_3_4_5_6_7_8_9_10_freq_merge[\"tengram\"].nunique()"
   ]
  },
  {
   "cell_type": "code",
   "execution_count": null,
   "metadata": {},
   "outputs": [],
   "source": [
    "df_1_2_3_4_5_6_7_8_9_10_freq_merge[\"ninegram\"].nunique()"
   ]
  },
  {
   "cell_type": "code",
   "execution_count": null,
   "metadata": {},
   "outputs": [],
   "source": [
    "df_1_2_3_4_5_6_7_8_9_10_freq_merge[\"eightgram\"].nunique()"
   ]
  },
  {
   "cell_type": "code",
   "execution_count": null,
   "metadata": {},
   "outputs": [],
   "source": []
  },
  {
   "cell_type": "code",
   "execution_count": null,
   "metadata": {},
   "outputs": [],
   "source": []
  },
  {
   "cell_type": "markdown",
   "metadata": {},
   "source": [
    "#### Copy Move And Delete"
   ]
  },
  {
   "cell_type": "code",
   "execution_count": null,
   "metadata": {},
   "outputs": [],
   "source": [
    "output_file = glob.glob(f\"{lang_folder.capitalize()}_*_Text_Selection_Result.xlsx\")\n",
    "#output_file = glob.glob(f\"*_Selected_*.xlsx\")\n",
    "output_file"
   ]
  },
  {
   "cell_type": "code",
   "execution_count": null,
   "metadata": {},
   "outputs": [],
   "source": [
    "for l in output_file:\n",
    "    source = l # source directory\n",
    "    destination = path\n",
    "    shutil.copy2(source, destination)"
   ]
  },
  {
   "cell_type": "code",
   "execution_count": null,
   "metadata": {},
   "outputs": [],
   "source": [
    "for j in output_file:\n",
    "    try:\n",
    "        os.remove(j)\n",
    "    except:\n",
    "        pass"
   ]
  },
  {
   "cell_type": "code",
   "execution_count": null,
   "metadata": {},
   "outputs": [],
   "source": []
  },
  {
   "cell_type": "code",
   "execution_count": null,
   "metadata": {},
   "outputs": [],
   "source": []
  },
  {
   "cell_type": "markdown",
   "metadata": {},
   "source": [
    "#### Temp"
   ]
  },
  {
   "cell_type": "code",
   "execution_count": null,
   "metadata": {},
   "outputs": [],
   "source": [
    "df_text_file = pd.read_excel(\"Turkish_Text_Selection_Data.xlsx\")\n",
    "df_text_file"
   ]
  },
  {
   "cell_type": "code",
   "execution_count": null,
   "metadata": {},
   "outputs": [],
   "source": [
    "df_text_file[\"word\"].nunique()"
   ]
  },
  {
   "cell_type": "code",
   "execution_count": null,
   "metadata": {},
   "outputs": [],
   "source": [
    "df_text_file.groupby(\"word\")[[\"twogram\"]].agg(lambda x : set(x))"
   ]
  },
  {
   "cell_type": "code",
   "execution_count": null,
   "metadata": {},
   "outputs": [],
   "source": [
    "df_text_file.groupby(\"twogram\")[[\"threegram\"]].agg(lambda x : set(x))"
   ]
  },
  {
   "cell_type": "code",
   "execution_count": null,
   "metadata": {},
   "outputs": [],
   "source": [
    "df_text_file.groupby(\"threegram\")[[\"fourgram\"]].agg(lambda x : set(x))"
   ]
  },
  {
   "cell_type": "code",
   "execution_count": null,
   "metadata": {},
   "outputs": [],
   "source": [
    "df_text_file.groupby(\"fourgram\")[[\"fivegram\"]].agg(lambda x : set(x))"
   ]
  },
  {
   "cell_type": "code",
   "execution_count": null,
   "metadata": {},
   "outputs": [],
   "source": [
    "df_text_file.groupby(\"fivegram\")[[\"sixgram\"]].agg(lambda x : set(x))"
   ]
  },
  {
   "cell_type": "code",
   "execution_count": null,
   "metadata": {},
   "outputs": [],
   "source": []
  },
  {
   "cell_type": "code",
   "execution_count": null,
   "metadata": {},
   "outputs": [],
   "source": [
    "df_test = df_text_file.groupby(\"fivegram\")[[\"sixgram\"]].agg(lambda x : set(x))\n",
    "df_test.reset_index(inplace=True)\n",
    "df_test"
   ]
  },
  {
   "cell_type": "code",
   "execution_count": null,
   "metadata": {},
   "outputs": [],
   "source": [
    "fivegram_list = df_test[\"fivegram\"].to_list()"
   ]
  },
  {
   "cell_type": "code",
   "execution_count": null,
   "metadata": {},
   "outputs": [],
   "source": [
    "df_fivegram_select[~df_fivegram_select[\"fivegram\"].isin(fivegram_list)]"
   ]
  },
  {
   "cell_type": "code",
   "execution_count": null,
   "metadata": {},
   "outputs": [],
   "source": [
    "df_twogram_select[df_twogram_select[\"twogram\"]==\"söz vermedim\"]"
   ]
  },
  {
   "cell_type": "code",
   "execution_count": null,
   "metadata": {},
   "outputs": [],
   "source": [
    "df_threegram_select[df_threegram_select[\"threegram\"]==\"öyle bir söz\"]"
   ]
  },
  {
   "cell_type": "code",
   "execution_count": null,
   "metadata": {},
   "outputs": [],
   "source": []
  },
  {
   "cell_type": "code",
   "execution_count": null,
   "metadata": {},
   "outputs": [],
   "source": []
  },
  {
   "cell_type": "code",
   "execution_count": null,
   "metadata": {},
   "outputs": [],
   "source": []
  },
  {
   "cell_type": "code",
   "execution_count": null,
   "metadata": {},
   "outputs": [],
   "source": []
  },
  {
   "cell_type": "code",
   "execution_count": null,
   "metadata": {},
   "outputs": [],
   "source": [
    "df_text_file.groupby(\"sixgram\")[[\"sevengram\"]].agg(lambda x : set(x))"
   ]
  },
  {
   "cell_type": "code",
   "execution_count": null,
   "metadata": {},
   "outputs": [],
   "source": [
    "df_text_file.groupby(\"sevengram\")[[\"eightgram\"]].agg(lambda x : set(x))"
   ]
  },
  {
   "cell_type": "code",
   "execution_count": null,
   "metadata": {},
   "outputs": [],
   "source": [
    "df_text_file.groupby(\"eightgram\")[[\"ninegram\"]].agg(lambda x : set(x))"
   ]
  },
  {
   "cell_type": "code",
   "execution_count": null,
   "metadata": {},
   "outputs": [],
   "source": [
    "df_text_file.groupby(\"ninegram\")[[\"tengram\"]].agg(lambda x : set(x))"
   ]
  },
  {
   "cell_type": "code",
   "execution_count": null,
   "metadata": {},
   "outputs": [],
   "source": []
  },
  {
   "cell_type": "code",
   "execution_count": null,
   "metadata": {},
   "outputs": [],
   "source": []
  },
  {
   "cell_type": "code",
   "execution_count": null,
   "metadata": {},
   "outputs": [],
   "source": []
  },
  {
   "cell_type": "code",
   "execution_count": null,
   "metadata": {},
   "outputs": [],
   "source": []
  },
  {
   "cell_type": "code",
   "execution_count": null,
   "metadata": {},
   "outputs": [],
   "source": []
  },
  {
   "cell_type": "code",
   "execution_count": null,
   "metadata": {},
   "outputs": [],
   "source": []
  },
  {
   "cell_type": "code",
   "execution_count": null,
   "metadata": {},
   "outputs": [],
   "source": []
  },
  {
   "cell_type": "code",
   "execution_count": null,
   "metadata": {},
   "outputs": [],
   "source": [
    "df_ngram_concat = pd.concat([df_twogram_select, df_threegram_select, df_fourgram_select, df_fivegram_select], axis=1)\n",
    "df_ngram_concat"
   ]
  },
  {
   "cell_type": "code",
   "execution_count": null,
   "metadata": {},
   "outputs": [],
   "source": [
    "df_two_in_three = word_in_wordgroup_simple(df_ngram_concat, \"twogram\",\"threegram\",threegram_sample)\n",
    "df_two_in_four = word_in_wordgroup_simple(df_ngram_concat, \"twogram\",\"fourgram\",fourgram_sample)\n",
    "df_two_in_five = word_in_wordgroup_simple(df_ngram_concat, \"twogram\",\"fivegram\",fivegram_sample)"
   ]
  },
  {
   "cell_type": "code",
   "execution_count": null,
   "metadata": {},
   "outputs": [],
   "source": [
    "df_twogram_order_join_threegram = df_two_in_three.groupby([\"twogram\"])[\"threegram\"].apply(\", \".join).reset_index()\n",
    "df_twogram_order_join_fourgram = df_two_in_four.groupby([\"twogram\"])[\"fourgram\"].apply(\", \".join).reset_index()\n",
    "df_twogram_order_join_fivegram = df_two_in_five.groupby([\"twogram\"])[\"fivegram\"].apply(\", \".join).reset_index()  "
   ]
  },
  {
   "cell_type": "code",
   "execution_count": null,
   "metadata": {},
   "outputs": [],
   "source": [
    "dfs = [df_twogram_order_join_threegram, df_twogram_order_join_fourgram, df_twogram_order_join_fivegram]"
   ]
  },
  {
   "cell_type": "code",
   "execution_count": null,
   "metadata": {},
   "outputs": [],
   "source": [
    "df_ngram_sample_join_merge = reduce(lambda  left,right: pd.merge(left,right, on=['twogram'], how='outer'), dfs)\n",
    "df_ngram_sample_join_merge.drop_duplicates(inplace=True)\n",
    "df_ngram_sample_join_merge "
   ]
  },
  {
   "cell_type": "code",
   "execution_count": null,
   "metadata": {},
   "outputs": [],
   "source": [
    "df_ngram_sample_join_merge = pd.merge(df_ngram_sample_join_merge, df_twogram_select, how=\"right\", on=\"twogram\")\n",
    "df_ngram_sample_join_merge.drop_duplicates(inplace=True)\n",
    "df_ngram_sample_join_merge.rename(columns={\"frequency\":\"two_freq\"}, inplace=True)\n",
    "df_ngram_sample_join_merge.sort_values(by=\"two_freq\", ascending=False, inplace=True)\n",
    "df_ngram_sample_join_merge.reset_index(drop=True, inplace=True)\n",
    "df_ngram_sample_join_merge"
   ]
  },
  {
   "cell_type": "code",
   "execution_count": null,
   "metadata": {},
   "outputs": [],
   "source": [
    "df_ngram_sample_join_merge.to_excel(f\"{lang_folder.capitalize()}_{len(df_twogram_select)}_Twogram_In_{threegram_sample}_Threegram_{fourgram_sample}_\\\n",
    "Fourgram_{fivegram_sample}_Fivegram_Sample_With_{word_end}_Word_Join_Result.xlsx\", index=False)"
   ]
  },
  {
   "cell_type": "code",
   "execution_count": null,
   "metadata": {},
   "outputs": [],
   "source": []
  },
  {
   "cell_type": "markdown",
   "metadata": {},
   "source": [
    "#### Adding Frequency For Ratio"
   ]
  },
  {
   "cell_type": "code",
   "execution_count": null,
   "metadata": {},
   "outputs": [],
   "source": [
    "df_two_in_three_freq = pd.merge(df_two_in_three, df_threegram, how=\"left\", on=\"threegram\")\n",
    "df_two_in_three_freq.drop_duplicates(inplace=True)\n",
    "df_two_in_three_freq.rename(columns={\"frequency\":\"three_freq\"}, inplace=True)\n",
    "df_two_in_three_freq.drop([\"twogram\"], axis=1, inplace=True)\n",
    "df_two_in_three_freq"
   ]
  },
  {
   "cell_type": "code",
   "execution_count": null,
   "metadata": {},
   "outputs": [],
   "source": [
    "df_two_in_four_freq = pd.merge(df_two_in_four, df_fourgram, how=\"left\", on=\"fourgram\")\n",
    "df_two_in_four_freq.drop_duplicates(inplace=True)\n",
    "df_two_in_four_freq.rename(columns={\"frequency\":\"four_freq\"}, inplace=True)\n",
    "df_two_in_four_freq.drop([\"twogram\"], axis=1, inplace=True)\n",
    "df_two_in_four_freq"
   ]
  },
  {
   "cell_type": "code",
   "execution_count": null,
   "metadata": {},
   "outputs": [],
   "source": [
    "df_two_in_five_freq = pd.merge(df_two_in_five, df_fivegram, how=\"left\", on=\"fivegram\")\n",
    "df_two_in_five_freq.drop_duplicates(inplace=True)\n",
    "df_two_in_five_freq.rename(columns={\"frequency\":\"five_freq\"}, inplace=True)\n",
    "df_two_in_five_freq.drop([\"twogram\"], axis=1, inplace=True)\n",
    "df_two_in_five_freq"
   ]
  },
  {
   "cell_type": "code",
   "execution_count": null,
   "metadata": {},
   "outputs": [],
   "source": [
    "df_ngram_sample_concat = pd.concat([df_twogram_select,df_two_in_three_freq, df_two_in_four_freq, df_two_in_five_freq], axis=1)\n",
    "df_ngram_sample_concat"
   ]
  },
  {
   "cell_type": "code",
   "execution_count": null,
   "metadata": {},
   "outputs": [],
   "source": [
    "df_ngram_sample_concat.to_excel(f\"{lang_folder.capitalize()}_{len(df_twogram_select)}_Twogram_In_{threegram_sample}_Threegram_{fourgram_sample}_\\\n",
    "Fourgram_{fivegram_sample}_Fivegram_Sample_With_{word_end}_Word_Frequency_Result.xlsx\", index=False)"
   ]
  },
  {
   "cell_type": "code",
   "execution_count": null,
   "metadata": {},
   "outputs": [],
   "source": []
  },
  {
   "cell_type": "markdown",
   "metadata": {},
   "source": [
    "#### Calculate Result And Select Ratio"
   ]
  },
  {
   "cell_type": "code",
   "execution_count": null,
   "metadata": {},
   "outputs": [],
   "source": [
    "df_ngram_threegram_unique = df_ngram_sample_concat[[\"threegram\",\"three_freq\"]].drop_duplicates()\n",
    "df_ngram_fourgram_unique = df_ngram_sample_concat[[\"fourgram\",\"four_freq\"]].drop_duplicates()\n",
    "df_ngram_fivegram_unique = df_ngram_sample_concat[[\"fivegram\",\"five_freq\"]].drop_duplicates()"
   ]
  },
  {
   "cell_type": "code",
   "execution_count": null,
   "metadata": {},
   "outputs": [],
   "source": [
    "twogram_result_freq = df_twogram_select[\"frequency\"].sum()\n",
    "threegram_result_freq = df_ngram_threegram_unique[\"three_freq\"].sum()\n",
    "fourgram_result_freq = df_ngram_fourgram_unique[\"four_freq\"].sum()\n",
    "fivegram_result_freq = df_ngram_fivegram_unique[\"five_freq\"].sum()"
   ]
  },
  {
   "cell_type": "code",
   "execution_count": null,
   "metadata": {},
   "outputs": [],
   "source": [
    "twogram_select_freq = df_twogram.iloc[twogram_select_start:twogram_select_end,][\"frequency\"].sum()\n",
    "threegram_select_freq = df_threegram.iloc[threegram_select_start:threegram_select_end,][\"frequency\"].sum()\n",
    "fourgram_select_freq = df_fourgram.iloc[fourgram_select_start:fourgram_select_end,][\"frequency\"].sum()\n",
    "fivegram_select_freq = df_fivegram.iloc[fivegram_select_start:fivegram_select_end,][\"frequency\"].sum()"
   ]
  },
  {
   "cell_type": "code",
   "execution_count": null,
   "metadata": {},
   "outputs": [],
   "source": [
    "(twogram_result_freq/twogram_select_freq)*100"
   ]
  },
  {
   "cell_type": "code",
   "execution_count": null,
   "metadata": {},
   "outputs": [],
   "source": [
    "(threegram_result_freq/threegram_select_freq)*100"
   ]
  },
  {
   "cell_type": "code",
   "execution_count": null,
   "metadata": {},
   "outputs": [],
   "source": [
    "(fourgram_result_freq/fourgram_select_freq)*100"
   ]
  },
  {
   "cell_type": "code",
   "execution_count": null,
   "metadata": {},
   "outputs": [],
   "source": [
    "(fivegram_result_freq/fivegram_select_freq)*100"
   ]
  },
  {
   "cell_type": "code",
   "execution_count": null,
   "metadata": {},
   "outputs": [],
   "source": []
  },
  {
   "cell_type": "markdown",
   "metadata": {},
   "source": [
    "#### Copy Move And Delete"
   ]
  },
  {
   "cell_type": "code",
   "execution_count": null,
   "metadata": {},
   "outputs": [],
   "source": [
    "output_file = glob.glob(f\"{lang_folder.capitalize()}_{len(df_twogram_select)}_Twogram_In_{threegram_sample}_Threegram_{fourgram_sample}_\\\n",
    "Fourgram_{fivegram_sample}_Fivegram_Sample_*_Result.xlsx\")\n",
    "output_file"
   ]
  },
  {
   "cell_type": "code",
   "execution_count": null,
   "metadata": {},
   "outputs": [],
   "source": [
    "for k in output_file:\n",
    "    source = k # source directory\n",
    "    destination = path\n",
    "    shutil.copy2(source, destination)"
   ]
  },
  {
   "cell_type": "code",
   "execution_count": null,
   "metadata": {},
   "outputs": [],
   "source": [
    "for i in output_file:\n",
    "    try:\n",
    "        os.remove(i)\n",
    "    except:\n",
    "        pass"
   ]
  },
  {
   "cell_type": "code",
   "execution_count": null,
   "metadata": {},
   "outputs": [],
   "source": []
  },
  {
   "cell_type": "code",
   "execution_count": null,
   "metadata": {},
   "outputs": [],
   "source": []
  },
  {
   "cell_type": "markdown",
   "metadata": {},
   "source": [
    "#### Temp"
   ]
  },
  {
   "cell_type": "code",
   "execution_count": null,
   "metadata": {},
   "outputs": [],
   "source": [
    "import os\n",
    "import multiprocessing\n",
    "#import multiprocessing as mp\n",
    "from multiprocessing import Process, Manager, Pool, Queue\n",
    "from itertools import islice\n",
    "from collections import Counter\n",
    "import re\n",
    "import pandas as pd\n",
    "import numpy as np\n",
    "import glob\n",
    "import nltk\n",
    "from nltk import word_tokenize\n",
    "from functools import reduce\n",
    "from pathlib import Path\n",
    "import shutil"
   ]
  },
  {
   "cell_type": "code",
   "execution_count": null,
   "metadata": {},
   "outputs": [],
   "source": [
    "nprocs = multiprocessing.cpu_count()\n",
    "print(f\"Number of CPU cores: {nprocs}\")"
   ]
  },
  {
   "cell_type": "code",
   "execution_count": null,
   "metadata": {},
   "outputs": [],
   "source": [
    "# language pair\n",
    "lang_folder = \"Turkish\"  # Arabic, English, French, German, Turkish, Spanish, Portuguese, Dutch, Italian ==> target language for learner\n",
    "#lang_pair = \"Intersect\"  # Arabic, English, French, German, Turkish, Spanish, Portuguese, Dutch, Italian ==> native language\n",
    "\n",
    "# adding native word to shared word\n",
    "word_start = 0  # 0 native word start index\n",
    "word_end = 200  # 28 native word end index\n",
    "\n",
    "# word all usage in twogram\n",
    "word_use_num_min = 1  # word usage in selected twograms \n",
    "word_use_num_max = 4"
   ]
  },
  {
   "cell_type": "code",
   "execution_count": null,
   "metadata": {},
   "outputs": [],
   "source": [
    "def word_usage_result(word_list, df_target, target_column, word_usage_min, word_usage_max): # word_usage_result(word_list, df_target, target_column, target_opt_column, word_usage_min, word_usage_max)\n",
    "    '''\n",
    "    word_usage_result(word_list, df_ngram_pair, \"threegram\", \"frequency\", 1, 5) \\n\n",
    "    word_list is a list, df_target is a dateframe, target_column is df_target dataframe target column, \\n\n",
    "    target_opt_column is df_target dataframe opt_target column, \\n\n",
    "    word_usage_min and word_usage_max word usage condition.\n",
    "    '''    \n",
    "    word_num_dict = {}\n",
    "    for i in word_list:\n",
    "        word_num_dict[f\"{i}\"] = 0\n",
    "    \n",
    "    result_list_select = []\n",
    "    var_list = []\n",
    "    for i in range(len(df_target)):\n",
    "        target_value = df_target.loc[i,f\"{target_column}\"]\n",
    "        #opt_value = df_target.loc[i,f\"{target_opt_column}\"]\n",
    "        words = word_tokenize(target_value)   \n",
    "        temp_list = [word for word in words]\n",
    "        temp_list = temp_list + var_list\n",
    "        # word count for max\n",
    "        dict_list_count = Counter(temp_list)\n",
    "        count_list = list(dict_list_count.values())\n",
    "        # word count for min\n",
    "        count_list2 = list(word_num_dict.values())\n",
    "    \n",
    "        if any([True if i>word_usage_max else False for i in count_list]) or not(any([True if j<word_usage_min else False for j in count_list2])):\n",
    "            pass\n",
    "        else:\n",
    "            var_list = temp_list\n",
    "            result_list_select.append([target_value])\n",
    "            #result_list_select.append([target_value,opt_value])  \n",
    "    \n",
    "            for item2 in dict_list_count.items(): \n",
    "                word_num_dict[item2[0]] = item2[1]        \n",
    "    df_result = pd.DataFrame(result_list_select, columns=[f\"{target_column}\"])\n",
    "    #df_result = pd.DataFrame(result_list_select, columns=[f\"{target_column}\",f\"{target_opt_column}\"])\n",
    "    #df_result.sort_values(by=\"frequency\", ascending=False, inplace=True)\n",
    "    df_result.reset_index(drop=True, inplace=True)\n",
    "    \n",
    "    return df_result"
   ]
  },
  {
   "cell_type": "code",
   "execution_count": null,
   "metadata": {},
   "outputs": [],
   "source": [
    "def word_count_result(df,column_list): # df is dataframe, column_list is list value\n",
    "    '''\n",
    "    word_count_bool(df, column_list): df columns word count for word frequency\\n\n",
    "    df is dataframe, column_list is list value\\n\n",
    "    word_count_bool(df, [\"word\",\"twogram\"]):\n",
    "    '''\n",
    "    list_all = []\n",
    "    for i in df.loc[:,[x for x in column_list]].columns:\n",
    "        var_list = df[f\"{i}\"].dropna().tolist()\n",
    "        for j in var_list:\n",
    "            list_all.append(j)\n",
    "    text = \" \".join(list_all)\n",
    "    word_list = re.findall(r\"\\w+\",text, re.UNICODE)\n",
    "    df_word_list = pd.DataFrame(word_list, columns=[\"word\"])\n",
    "    #df_word_list.rename(columns={0:\"word\"}, inplace=True)\n",
    "    df_word_count = pd.DataFrame(df_word_list.value_counts())\n",
    "    df_word_count.reset_index(inplace=True)\n",
    "    df_word_count.rename(columns={0:\"word_count\"}, inplace=True)\n",
    "    \n",
    "    return  df_word_count"
   ]
  },
  {
   "cell_type": "code",
   "execution_count": null,
   "metadata": {},
   "outputs": [],
   "source": [
    "def word_in_wordgroup_simple(df, source_column, target_column, word_sample_num):\n",
    "\n",
    "    '''word_in_wordgroup(df, \"word\", \"twogram\"):\n",
    "       df is dataframe, source_column and target_column are \n",
    "       dataframe column string name. source_column convert list\n",
    "       values that are in target column.\n",
    "    '''\n",
    "    \n",
    "    df_select = df[[f\"{target_column}\"]].dropna()\n",
    "    df_result = pd.DataFrame()\n",
    "    for i in df[f\"{source_column}\"].dropna():\n",
    "        try:\n",
    "            word_in_word_cluster = df_select[df_select[f\"{target_column}\"].str.contains(fr\"(?:\\s|^){i}(?:\\s|$)\", na=True)].head(word_sample_num)    \n",
    "        except:\n",
    "            pass        \n",
    "        word_in_word_cluster.insert(0,f\"{source_column}\",i)\n",
    "        df_result = pd.concat([df_result,word_in_word_cluster], axis=0)\n",
    "    df_result.reset_index(drop=True, inplace=True)\n",
    "\n",
    "    return df_result"
   ]
  },
  {
   "cell_type": "code",
   "execution_count": null,
   "metadata": {},
   "outputs": [],
   "source": [
    "df_word_all = pd.read_excel(f\"/media/kurubal/SSD/Data Scientist/Work/Modern Ways/Project/{lang_folder.lower().capitalize()}/Deployment/Data/Word/Word_Merge_Preprocess.xlsx\")\n",
    "df_word_all"
   ]
  },
  {
   "cell_type": "code",
   "execution_count": null,
   "metadata": {},
   "outputs": [],
   "source": [
    "df_word_select = df_word_all.iloc[word_start:word_end,]"
   ]
  },
  {
   "cell_type": "code",
   "execution_count": null,
   "metadata": {},
   "outputs": [],
   "source": [
    "word_list = df_word_select[\"word\"].to_list()"
   ]
  },
  {
   "cell_type": "code",
   "execution_count": null,
   "metadata": {},
   "outputs": [],
   "source": [
    "df_two_three = pd.read_excel(\"/home/kurubal/Downloads/Twogram Threegram.xlsx\")\n",
    "df_two_three"
   ]
  },
  {
   "cell_type": "code",
   "execution_count": null,
   "metadata": {},
   "outputs": [],
   "source": [
    "word_count_result(df_two_three,[\"threegram\"])"
   ]
  },
  {
   "cell_type": "code",
   "execution_count": null,
   "metadata": {},
   "outputs": [],
   "source": [
    "df_two_three[\"twogram\"].count()"
   ]
  },
  {
   "cell_type": "code",
   "execution_count": null,
   "metadata": {},
   "outputs": [],
   "source": [
    "df_two_three[\"threegram\"].count()"
   ]
  },
  {
   "cell_type": "code",
   "execution_count": null,
   "metadata": {},
   "outputs": [],
   "source": [
    "df_two_in_three = word_in_wordgroup_simple(df_two_three, \"twogram\",\"threegram\",threegram_sample)\n",
    "df_two_in_three"
   ]
  },
  {
   "cell_type": "code",
   "execution_count": null,
   "metadata": {},
   "outputs": [],
   "source": [
    "set_all_twogram = set(df_two_three[\"twogram\"].dropna().to_list())\n",
    "set_twogram_in_threegram = set(df_two_in_three[\"twogram\"].to_list())"
   ]
  },
  {
   "cell_type": "code",
   "execution_count": null,
   "metadata": {},
   "outputs": [],
   "source": [
    "set_all_twogram.difference(set_twogram_in_threegram)"
   ]
  },
  {
   "cell_type": "code",
   "execution_count": null,
   "metadata": {},
   "outputs": [],
   "source": [
    "set_threegram_cover_twogram = set(df_two_in_three[\"threegram\"].to_list())\n",
    "df_selected_threegram = pd.DataFrame(set_threegram_cover_twogram,columns=[\"threegram\"])\n",
    "df_selected_threegram"
   ]
  },
  {
   "cell_type": "code",
   "execution_count": null,
   "metadata": {},
   "outputs": [],
   "source": [
    "df_selected_threegram.to_excel(\"Threegram_Selected.xlsx\", index=False)"
   ]
  },
  {
   "cell_type": "code",
   "execution_count": null,
   "metadata": {},
   "outputs": [],
   "source": [
    "word_count_result(df_selected_threegram,[\"threegram\"])"
   ]
  },
  {
   "cell_type": "code",
   "execution_count": null,
   "metadata": {},
   "outputs": [],
   "source": [
    "df_threegram_word_usage_select = word_usage_result(word_list, df_selected_threegram, \"threegram\", word_use_num_min, word_use_num_max)\n",
    "df_threegram_word_usage_select"
   ]
  },
  {
   "cell_type": "code",
   "execution_count": null,
   "metadata": {},
   "outputs": [],
   "source": [
    "word_count_result(df_threegram_word_usage_select,[\"threegram\"])"
   ]
  },
  {
   "cell_type": "code",
   "execution_count": null,
   "metadata": {},
   "outputs": [],
   "source": []
  },
  {
   "cell_type": "code",
   "execution_count": null,
   "metadata": {},
   "outputs": [],
   "source": []
  }
 ],
 "metadata": {
  "kernelspec": {
   "display_name": "Python 3.9.5 ('py39')",
   "language": "python",
   "name": "python3"
  },
  "language_info": {
   "codemirror_mode": {
    "name": "ipython",
    "version": 3
   },
   "file_extension": ".py",
   "mimetype": "text/x-python",
   "name": "python",
   "nbconvert_exporter": "python",
   "pygments_lexer": "ipython3",
   "version": "3.9.5"
  },
  "orig_nbformat": 4,
  "vscode": {
   "interpreter": {
    "hash": "651d507d70892fab0fc6529d935cd476f6e2eb1791525b76da6cc8da34bc0503"
   }
  }
 },
 "nbformat": 4,
 "nbformat_minor": 2
}
