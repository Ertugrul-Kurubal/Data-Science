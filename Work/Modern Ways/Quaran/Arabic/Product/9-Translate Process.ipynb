{
 "cells": [
  {
   "cell_type": "markdown",
   "metadata": {},
   "source": [
    "### Translate Process"
   ]
  },
  {
   "cell_type": "code",
   "execution_count": null,
   "metadata": {},
   "outputs": [],
   "source": [
    "import pandas as pd\n",
    "import numpy as np\n",
    "import re\n",
    "import json\n",
    "import nltk\n",
    "from nltk import word_tokenize"
   ]
  },
  {
   "cell_type": "code",
   "execution_count": null,
   "metadata": {},
   "outputs": [],
   "source": [
    "df_master = pd.read_excel(\"/media/kurubal/SSD/Data Scientist/Work/Modern Ways/Project/Arabic/Quaran/Text/Result/8-Compare Color Flags/Arabic_Buckwalter_All_Relocation_Edit_Counts_Audio_Time_Root_Master.xlsx\")\n",
    "df_master"
   ]
  },
  {
   "cell_type": "markdown",
   "metadata": {},
   "source": [
    "#### Twogram"
   ]
  },
  {
   "cell_type": "code",
   "execution_count": null,
   "metadata": {},
   "outputs": [],
   "source": [
    "df_twogram = pd.read_excel(\"/media/kurubal/SSD/Data Scientist/Work/Modern Ways/Project/Arabic/Quaran/Text/Result/4-N Gram/Arabic_Clean_Twogram_Frequency_From_DataFrame_Tanzil.xlsx\")\n",
    "df_twogram_select = df_twogram.head(200)\n",
    "df_twogram_select"
   ]
  },
  {
   "cell_type": "code",
   "execution_count": null,
   "metadata": {},
   "outputs": [],
   "source": [
    "def twogram_loc_detect(df_twogram, df_target, ngram_column_name, target_column_name):\n",
    "    for i in range(len(df_twogram)):\n",
    "        twogram = df_twogram.loc[i,f\"{ngram_column_name}\"]\n",
    "        twogram_words = word_tokenize(twogram)\n",
    "        word_1 = twogram_words[0]\n",
    "        word_2 = twogram_words[1]\n",
    "        for j in range(len(df_target)):\n",
    "            try:\n",
    "                target_word_1 = df_target.loc[j,f\"{target_column_name}\"]\n",
    "                target_word_2 = df_target.loc[j+1,f\"{target_column_name}\"]\n",
    "                if (word_1 == target_word_1) and (word_2 == target_word_2):\n",
    "                    df_target.loc[j,\"twogram_string\"] = f\"{twogram}\"                   \n",
    "                else:\n",
    "                    pass\n",
    "            except:\n",
    "                pass\n",
    "    df_result = df_target\n",
    "           \n",
    "    return df_result "
   ]
  },
  {
   "cell_type": "code",
   "execution_count": null,
   "metadata": {},
   "outputs": [],
   "source": [
    "# def twogram_loc_detect2(df_twogram, df_target, ngram_column_name, target_column_name):\n",
    "#     for i in range(len(df_twogram)):\n",
    "#         twogram = df_twogram.loc[i,f\"{ngram_column_name}\"]\n",
    "#         twogram_words = word_tokenize(twogram)\n",
    "#         word_1 = twogram_words[0]\n",
    "#         word_2 = twogram_words[1]\n",
    "#         for j in range(len(df_target)):\n",
    "#             try:\n",
    "#                 target_word_1 = df_target.loc[j,f\"{target_column_name}\"]\n",
    "#                 target_word_2 = df_target.loc[j+1,f\"{target_column_name}\"]\n",
    "#                 if (word_1 == target_word_1) and (word_2 == target_word_2):\n",
    "#                     try:\n",
    "#                         var1 = df_target.loc[j,\"twogram_string\"]\n",
    "#                     except:\n",
    "#                         var1 = \"empty_value\"\n",
    "#                     df_target.loc[j,\"twogram_string\"] = f\"{var1}, {twogram}\"\n",
    "#                     try:\n",
    "#                         var2 = df_target.loc[j+1,\"twogram_string\"]\n",
    "#                     except:\n",
    "#                         var2 = \"empty_value\"\n",
    "#                     df_target.loc[j+1,\"twogram_string\"] = f\"{var2}, {twogram}\"\n",
    "#                 else:\n",
    "#                     pass\n",
    "#             except:\n",
    "#                 pass\n",
    "#             \n",
    "#     return df_target   "
   ]
  },
  {
   "cell_type": "code",
   "execution_count": null,
   "metadata": {},
   "outputs": [],
   "source": [
    "#df_select_test = df_master.head(2000)"
   ]
  },
  {
   "cell_type": "code",
   "execution_count": null,
   "metadata": {},
   "outputs": [],
   "source": [
    "df_master_twogram_loc = twogram_loc_detect(df_twogram_select, df_master, \"twogram\", \"tanzil_clean\")\n",
    "df_master_twogram_loc"
   ]
  },
  {
   "cell_type": "code",
   "execution_count": null,
   "metadata": {},
   "outputs": [],
   "source": [
    "#df_master_twogram_loc.to_excel(\"Arabic_Buckwalter_All_Master_Twogram_Start_Location.xlsx\", index=False)"
   ]
  },
  {
   "cell_type": "code",
   "execution_count": null,
   "metadata": {},
   "outputs": [],
   "source": []
  },
  {
   "cell_type": "markdown",
   "metadata": {},
   "source": [
    "#### Detect Multi Twogram Indexes"
   ]
  },
  {
   "cell_type": "code",
   "execution_count": null,
   "metadata": {},
   "outputs": [],
   "source": [
    "def twogram_loc_index_detect(df_twogram, df_target, ngram_column_name, target_column_name, index_column_name):\n",
    "    for i in range(len(df_twogram)):\n",
    "        twogram = df_twogram.loc[i,f\"{ngram_column_name}\"]\n",
    "        twogram_words = word_tokenize(twogram)\n",
    "        word_1 = twogram_words[0]\n",
    "        word_2 = twogram_words[1]\n",
    "        for j in range(len(df_target)):\n",
    "            try:\n",
    "                target_word_1 = df_target.loc[j,f\"{target_column_name}\"]\n",
    "                target_word_2 = df_target.loc[j+1,f\"{target_column_name}\"]\n",
    "                index_1 = df_target.loc[j,f\"{index_column_name}\"]\n",
    "                index_2 = df_target.loc[j+1,f\"{index_column_name}\"]\n",
    "                #variable_value = [variable_1, variable_2]\n",
    "                if (word_1 == target_word_1) and (word_2 == target_word_2):\n",
    "                    df_target.loc[j,\"twogram_string\"] = f\"{twogram}\"\n",
    "                    df_target.loc[j,\"indexes\"] = f\"{index_1}, {index_2}\"                   \n",
    "                else:\n",
    "                    pass\n",
    "            except:\n",
    "                pass\n",
    "    df_result = df_target\n",
    "\n",
    "    return df_result"
   ]
  },
  {
   "cell_type": "code",
   "execution_count": null,
   "metadata": {},
   "outputs": [],
   "source": [
    "#df_master = df_master.head(2000)"
   ]
  },
  {
   "cell_type": "code",
   "execution_count": null,
   "metadata": {},
   "outputs": [],
   "source": [
    "df_master_twogram_loc = twogram_loc_index_detect(df_twogram_select, df_master, \"twogram\", \"tanzil_clean\", \"index\")\n",
    "df_master_twogram_loc"
   ]
  },
  {
   "cell_type": "code",
   "execution_count": null,
   "metadata": {},
   "outputs": [],
   "source": [
    "df_master_twogram_loc[[\"first_index\",\"second_index\"]] = df_master_twogram_loc[\"indexes\"].str.split(\", \", expand=True)\n",
    "df_master_twogram_loc"
   ]
  },
  {
   "cell_type": "code",
   "execution_count": null,
   "metadata": {},
   "outputs": [],
   "source": [
    "df_master_twogram_loc[\"first_index\"] == '1'"
   ]
  },
  {
   "cell_type": "code",
   "execution_count": null,
   "metadata": {},
   "outputs": [],
   "source": [
    "df_master_twogram_loc[\"second_index\"] == '1'"
   ]
  },
  {
   "cell_type": "code",
   "execution_count": null,
   "metadata": {},
   "outputs": [],
   "source": [
    "#df_master_twogram_loc[\"indexes\"].dropna()"
   ]
  },
  {
   "cell_type": "code",
   "execution_count": null,
   "metadata": {},
   "outputs": [],
   "source": [
    "twogram_index_list = []\n",
    "for i in df_master_twogram_loc[\"indexes\"].dropna():\n",
    "    index_alone = i.split(\",\")\n",
    "    for j in index_alone:\n",
    "        twogram_index_list.append(j.strip())\n",
    "df_twogram_index_list = pd.DataFrame(twogram_index_list)\n",
    "df_twogram_index_list.rename(columns={0:\"index_alone\"}, inplace=True)\n",
    "df_twogram_index_count = df_twogram_index_list.value_counts(ascending=False)\n",
    "df_twogram_index_count = df_twogram_index_count.reset_index()\n",
    "df_twogram_index_count.rename(columns={0:\"index_count\"}, inplace=True)\n",
    "df_twogram_index_count"
   ]
  },
  {
   "cell_type": "code",
   "execution_count": null,
   "metadata": {},
   "outputs": [],
   "source": [
    "df_index_multi_twogram = df_twogram_index_count[df_twogram_index_count.index_count != 1]\n",
    "df_index_multi_twogram"
   ]
  },
  {
   "cell_type": "code",
   "execution_count": null,
   "metadata": {},
   "outputs": [],
   "source": [
    "df_multi_twogram = pd.DataFrame()\n",
    "for i in df_index_multi_twogram[\"index_alone\"]:\n",
    "    str_i = str(i)\n",
    "    df_var = df_master_twogram_loc[df_master_twogram_loc[\"second_index\"] == f'{str_i}']\n",
    "    df_multi_twogram = pd.concat([df_multi_twogram, df_var], axis=0)\n",
    "df_multi_twogram"
   ]
  },
  {
   "cell_type": "code",
   "execution_count": null,
   "metadata": {},
   "outputs": [],
   "source": []
  },
  {
   "cell_type": "code",
   "execution_count": null,
   "metadata": {},
   "outputs": [],
   "source": []
  },
  {
   "cell_type": "markdown",
   "metadata": {},
   "source": [
    "#### Threegram"
   ]
  },
  {
   "cell_type": "code",
   "execution_count": null,
   "metadata": {},
   "outputs": [],
   "source": [
    "df_master = pd.read_excel(\"/media/kurubal/SSD/Data Scientist/Work/Modern Ways/Project/Arabic/Quaran/Text/Result/8-Compare Color Flags/Arabic_Buckwalter_All_Relocation_Edit_Counts_Audio_Time_Root_Master.xlsx\")\n",
    "df_master"
   ]
  },
  {
   "cell_type": "code",
   "execution_count": null,
   "metadata": {},
   "outputs": [],
   "source": [
    "df_threegram = pd.read_excel(\"/media/kurubal/SSD/Data Scientist/Work/Modern Ways/Project/Arabic/Quaran/Text/Result/4-N Gram/Arabic_Clean_Threegram_Frequency_From_DataFrame_Tanzil.xlsx\")\n",
    "df_threegram_select = df_threegram.head(200)\n",
    "df_threegram_select"
   ]
  },
  {
   "cell_type": "code",
   "execution_count": null,
   "metadata": {},
   "outputs": [],
   "source": [
    "def threegram_loc_detect(df_threegram, df_target, ngram_column_name, target_column_name):\n",
    "    for i in range(len(df_threegram)):\n",
    "        threegram = df_threegram.loc[i,f\"{ngram_column_name}\"]\n",
    "        threegram_words = word_tokenize(threegram)\n",
    "        word_1 = threegram_words[0]\n",
    "        word_2 = threegram_words[1]\n",
    "        word_3 = threegram_words[2]\n",
    "        for j in range(len(df_target)):\n",
    "            try:\n",
    "                target_word_1 = df_target.loc[j,f\"{target_column_name}\"]\n",
    "                target_word_2 = df_target.loc[j+1,f\"{target_column_name}\"]\n",
    "                target_word_3 = df_target.loc[j+2,f\"{target_column_name}\"]\n",
    "                if (word_1 == target_word_1) and (word_2 == target_word_2) and (word_3 == target_word_3):\n",
    "                    df_target.loc[j,\"threegram_string\"] = f\"{threegram}\"                   \n",
    "                else:\n",
    "                    pass\n",
    "            except:\n",
    "                pass\n",
    "    df_result = df_target\n",
    "            \n",
    "    return df_result "
   ]
  },
  {
   "cell_type": "code",
   "execution_count": null,
   "metadata": {},
   "outputs": [],
   "source": [
    "df_master_threegram_loc = threegram_loc_detect(df_threegram_select, df_master, \"threegram\", \"tanzil_clean\")\n",
    "df_master_threegram_loc"
   ]
  },
  {
   "cell_type": "code",
   "execution_count": null,
   "metadata": {},
   "outputs": [],
   "source": [
    "#df_master_threegram_loc.to_excel(\"Arabic_Buckwalter_All_Master_Threegram_Start_Location.xlsx\", index=False)"
   ]
  },
  {
   "cell_type": "code",
   "execution_count": null,
   "metadata": {},
   "outputs": [],
   "source": []
  },
  {
   "cell_type": "markdown",
   "metadata": {},
   "source": [
    "#### Detect Multi Threegram Indexes"
   ]
  },
  {
   "cell_type": "code",
   "execution_count": null,
   "metadata": {},
   "outputs": [],
   "source": [
    "def threegram_loc_index_detect(df_threegram, df_target, ngram_column_name, target_column_name, index_column_name):\n",
    "    for i in range(len(df_threegram)):\n",
    "        threegram = df_threegram.loc[i,f\"{ngram_column_name}\"]\n",
    "        threegram_words = word_tokenize(threegram)\n",
    "        word_1 = threegram_words[0]\n",
    "        word_2 = threegram_words[1]\n",
    "        word_3 = threegram_words[2]\n",
    "        for j in range(len(df_target)):\n",
    "            try:\n",
    "                target_word_1 = df_target.loc[j,f\"{target_column_name}\"]\n",
    "                target_word_2 = df_target.loc[j+1,f\"{target_column_name}\"]\n",
    "                target_word_3 = df_target.loc[j+2,f\"{target_column_name}\"]\n",
    "                index_1 = df_target.loc[j,f\"{index_column_name}\"]\n",
    "                index_2 = df_target.loc[j+1,f\"{index_column_name}\"]\n",
    "                index_3 = df_target.loc[j+2,f\"{index_column_name}\"]\n",
    "                #variable_value = [variable_1, variable_2]\n",
    "                if (word_1 == target_word_1) and (word_2 == target_word_2) and (word_3 == target_word_3):\n",
    "                    df_target.loc[j,\"threegram_string\"] = f\"{threegram}\"\n",
    "                    df_target.loc[j,\"indexes\"] = f\"{index_1}, {index_2}, {index_3}\"                   \n",
    "                else:\n",
    "                    pass\n",
    "            except:\n",
    "                pass\n",
    "    df_result = df_target\n",
    "            \n",
    "    return df_result "
   ]
  },
  {
   "cell_type": "code",
   "execution_count": null,
   "metadata": {},
   "outputs": [],
   "source": [
    "#df_master = df_master.head(2000)"
   ]
  },
  {
   "cell_type": "code",
   "execution_count": null,
   "metadata": {},
   "outputs": [],
   "source": [
    "df_master_threegram_loc = threegram_loc_index_detect(df_threegram_select, df_master, \"threegram\", \"tanzil_clean\", \"index\")\n",
    "df_master_threegram_loc"
   ]
  },
  {
   "cell_type": "code",
   "execution_count": null,
   "metadata": {},
   "outputs": [],
   "source": [
    "df_master_threegram_loc[[\"first_index\",\"second_index\",\"third_index\"]] = df_master_threegram_loc[\"indexes\"].str.split(\", \", expand=True)\n",
    "df_master_threegram_loc"
   ]
  },
  {
   "cell_type": "code",
   "execution_count": null,
   "metadata": {},
   "outputs": [],
   "source": [
    "threegram_index_list = []\n",
    "for i in df_master_threegram_loc[\"indexes\"].dropna():\n",
    "    index_alone = i.split(\",\")\n",
    "    for j in index_alone:\n",
    "        threegram_index_list.append(j.strip())\n",
    "df_threegram_index_list = pd.DataFrame(threegram_index_list)\n",
    "df_threegram_index_list.rename(columns={0:\"index_alone\"}, inplace=True)\n",
    "df_threegram_index_count = df_threegram_index_list.value_counts(ascending=False)\n",
    "df_threegram_index_count = df_threegram_index_count.reset_index()\n",
    "df_threegram_index_count.rename(columns={0:\"index_count\"}, inplace=True)\n",
    "df_threegram_index_count"
   ]
  },
  {
   "cell_type": "code",
   "execution_count": null,
   "metadata": {},
   "outputs": [],
   "source": [
    "df_index_multi_threegram = df_threegram_index_count[df_threegram_index_count.index_count != 1]\n",
    "df_index_multi_threegram"
   ]
  },
  {
   "cell_type": "code",
   "execution_count": null,
   "metadata": {},
   "outputs": [],
   "source": [
    "df_multi_threegram = pd.DataFrame()\n",
    "for i in df_index_multi_threegram[\"index_alone\"]:\n",
    "    str_i = str(i)\n",
    "    df_var = df_master_threegram_loc[df_master_threegram_loc[\"second_index\"] == f'{str_i}']\n",
    "    df_multi_threegram = pd.concat([df_multi_threegram, df_var], axis=0)\n",
    "df_multi_threegram"
   ]
  },
  {
   "cell_type": "code",
   "execution_count": null,
   "metadata": {},
   "outputs": [],
   "source": []
  },
  {
   "cell_type": "code",
   "execution_count": null,
   "metadata": {},
   "outputs": [],
   "source": []
  },
  {
   "cell_type": "code",
   "execution_count": null,
   "metadata": {},
   "outputs": [],
   "source": []
  }
 ],
 "metadata": {
  "interpreter": {
   "hash": "651d507d70892fab0fc6529d935cd476f6e2eb1791525b76da6cc8da34bc0503"
  },
  "kernelspec": {
   "display_name": "Python 3.9.5 ('py39')",
   "language": "python",
   "name": "python3"
  },
  "language_info": {
   "codemirror_mode": {
    "name": "ipython",
    "version": 3
   },
   "file_extension": ".py",
   "mimetype": "text/x-python",
   "name": "python",
   "nbconvert_exporter": "python",
   "pygments_lexer": "ipython3",
   "version": "3.9.5"
  },
  "orig_nbformat": 4
 },
 "nbformat": 4,
 "nbformat_minor": 2
}
