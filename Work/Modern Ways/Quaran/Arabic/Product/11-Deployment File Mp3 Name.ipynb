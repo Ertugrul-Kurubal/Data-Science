{
 "cells": [
  {
   "cell_type": "markdown",
   "metadata": {},
   "source": [
    "### Mp3 File Name"
   ]
  },
  {
   "cell_type": "code",
   "execution_count": 1,
   "metadata": {},
   "outputs": [],
   "source": [
    "import pandas as pd\n",
    "import numpy as np\n",
    "import json\n",
    "import re\n",
    "import glob"
   ]
  },
  {
   "cell_type": "code",
   "execution_count": 3,
   "metadata": {},
   "outputs": [
    {
     "data": {
      "text/html": [
       "<div>\n",
       "<style scoped>\n",
       "    .dataframe tbody tr th:only-of-type {\n",
       "        vertical-align: middle;\n",
       "    }\n",
       "\n",
       "    .dataframe tbody tr th {\n",
       "        vertical-align: top;\n",
       "    }\n",
       "\n",
       "    .dataframe thead th {\n",
       "        text-align: right;\n",
       "    }\n",
       "</style>\n",
       "<table border=\"1\" class=\"dataframe\">\n",
       "  <thead>\n",
       "    <tr style=\"text-align: right;\">\n",
       "      <th></th>\n",
       "      <th>page</th>\n",
       "      <th>surah</th>\n",
       "      <th>ayah</th>\n",
       "      <th>surah latin</th>\n",
       "    </tr>\n",
       "  </thead>\n",
       "  <tbody>\n",
       "    <tr>\n",
       "      <th>0</th>\n",
       "      <td>1</td>\n",
       "      <td>1</td>\n",
       "      <td>1</td>\n",
       "      <td>Al-Fatiha</td>\n",
       "    </tr>\n",
       "    <tr>\n",
       "      <th>1</th>\n",
       "      <td>1</td>\n",
       "      <td>1</td>\n",
       "      <td>1</td>\n",
       "      <td>Al-Fatiha</td>\n",
       "    </tr>\n",
       "    <tr>\n",
       "      <th>2</th>\n",
       "      <td>1</td>\n",
       "      <td>1</td>\n",
       "      <td>1</td>\n",
       "      <td>Al-Fatiha</td>\n",
       "    </tr>\n",
       "    <tr>\n",
       "      <th>3</th>\n",
       "      <td>1</td>\n",
       "      <td>1</td>\n",
       "      <td>1</td>\n",
       "      <td>Al-Fatiha</td>\n",
       "    </tr>\n",
       "    <tr>\n",
       "      <th>4</th>\n",
       "      <td>1</td>\n",
       "      <td>1</td>\n",
       "      <td>2</td>\n",
       "      <td>Al-Fatiha</td>\n",
       "    </tr>\n",
       "    <tr>\n",
       "      <th>...</th>\n",
       "      <td>...</td>\n",
       "      <td>...</td>\n",
       "      <td>...</td>\n",
       "      <td>...</td>\n",
       "    </tr>\n",
       "    <tr>\n",
       "      <th>78244</th>\n",
       "      <td>604</td>\n",
       "      <td>114</td>\n",
       "      <td>5</td>\n",
       "      <td>An-Nas</td>\n",
       "    </tr>\n",
       "    <tr>\n",
       "      <th>78245</th>\n",
       "      <td>604</td>\n",
       "      <td>114</td>\n",
       "      <td>5</td>\n",
       "      <td>An-Nas</td>\n",
       "    </tr>\n",
       "    <tr>\n",
       "      <th>78246</th>\n",
       "      <td>604</td>\n",
       "      <td>114</td>\n",
       "      <td>6</td>\n",
       "      <td>An-Nas</td>\n",
       "    </tr>\n",
       "    <tr>\n",
       "      <th>78247</th>\n",
       "      <td>604</td>\n",
       "      <td>114</td>\n",
       "      <td>6</td>\n",
       "      <td>An-Nas</td>\n",
       "    </tr>\n",
       "    <tr>\n",
       "      <th>78248</th>\n",
       "      <td>604</td>\n",
       "      <td>114</td>\n",
       "      <td>6</td>\n",
       "      <td>An-Nas</td>\n",
       "    </tr>\n",
       "  </tbody>\n",
       "</table>\n",
       "<p>78249 rows × 4 columns</p>\n",
       "</div>"
      ],
      "text/plain": [
       "       page  surah  ayah surah latin\n",
       "0         1      1     1   Al-Fatiha\n",
       "1         1      1     1   Al-Fatiha\n",
       "2         1      1     1   Al-Fatiha\n",
       "3         1      1     1   Al-Fatiha\n",
       "4         1      1     2   Al-Fatiha\n",
       "...     ...    ...   ...         ...\n",
       "78244   604    114     5      An-Nas\n",
       "78245   604    114     5      An-Nas\n",
       "78246   604    114     6      An-Nas\n",
       "78247   604    114     6      An-Nas\n",
       "78248   604    114     6      An-Nas\n",
       "\n",
       "[78249 rows x 4 columns]"
      ]
     },
     "execution_count": 3,
     "metadata": {},
     "output_type": "execute_result"
    }
   ],
   "source": [
    "df_master= pd.read_excel(\"/media/kurubal/SSD/Data Scientist/Work/Modern Ways/Project/Arabic/Quaran/Text/Result/10-Web Scrapping Data To Master/Arabic_Buckwalter_All_Deployment_Master Original.xlsx\")\n",
    "df_mp3 = df_master[[\"page\",\"surah\",\"ayah\",\"surah latin\"]]\n",
    "df_mp3"
   ]
  },
  {
   "cell_type": "code",
   "execution_count": null,
   "metadata": {},
   "outputs": [],
   "source": [
    "file_name_list = []\n",
    "for i in range(len(df_mp3)):\n",
    "    surah = df_mp3.loc[i,\"surah\"]\n",
    "    ayah = df_mp3.loc[i,\"ayah\"]\n",
    "    file_name = f\"{surah:03d}\"+f\"{ayah:03d}.mp3\"\n",
    "    file_name_list.append(file_name)\n",
    "df_mp3[\"mp3_file\"] = pd.Series(file_name_list)"
   ]
  }
 ],
 "metadata": {
  "interpreter": {
   "hash": "651d507d70892fab0fc6529d935cd476f6e2eb1791525b76da6cc8da34bc0503"
  },
  "kernelspec": {
   "display_name": "Python 3.9.5 ('py39')",
   "language": "python",
   "name": "python3"
  },
  "language_info": {
   "codemirror_mode": {
    "name": "ipython",
    "version": 3
   },
   "file_extension": ".py",
   "mimetype": "text/x-python",
   "name": "python",
   "nbconvert_exporter": "python",
   "pygments_lexer": "ipython3",
   "version": "3.9.5"
  },
  "orig_nbformat": 4
 },
 "nbformat": 4,
 "nbformat_minor": 2
}
