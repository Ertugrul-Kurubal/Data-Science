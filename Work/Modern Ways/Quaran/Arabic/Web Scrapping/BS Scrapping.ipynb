{
 "cells": [
  {
   "cell_type": "markdown",
   "metadata": {},
   "source": [
    "### Web Scrapping"
   ]
  },
  {
   "cell_type": "code",
   "execution_count": null,
   "metadata": {},
   "outputs": [],
   "source": [
    "# !pip install --upgrade pip\n",
    "# !pip install beautifulsoup4 --upgrade\n",
    "# pip install lxml\n",
    "# pip install html5lib"
   ]
  },
  {
   "cell_type": "code",
   "execution_count": 1,
   "metadata": {},
   "outputs": [],
   "source": [
    "import pandas as pd\n",
    "from urllib.request import urlopen\n",
    "from bs4 import BeautifulSoup\n",
    "from json2html import *\n",
    "import re\n",
    "import requests\n",
    "from urllib.request import Request, urlopen\n",
    "from urllib import parse\n",
    "import glob"
   ]
  },
  {
   "cell_type": "markdown",
   "metadata": {},
   "source": [
    "#### External HTML File From Browser Element Section "
   ]
  },
  {
   "cell_type": "code",
   "execution_count": 44,
   "metadata": {},
   "outputs": [],
   "source": [
    "lang = \"bangla\"  # indonesian, turkish, russian, english, urdu, hindi, bangla\n",
    "surah = \"ar rahmaan\"  # al faatiha, al baqara, aal i imraan ...\n",
    "folder = f\"{surah}-55\"  # al faatiha-1, al baqara-2, aal i imraan-3 ...\n",
    "file = f\"{surah.lower()}_{lang.lower()}\""
   ]
  },
  {
   "cell_type": "code",
   "execution_count": 45,
   "metadata": {},
   "outputs": [
    {
     "data": {
      "text/html": [
       "<div>\n",
       "<style scoped>\n",
       "    .dataframe tbody tr th:only-of-type {\n",
       "        vertical-align: middle;\n",
       "    }\n",
       "\n",
       "    .dataframe tbody tr th {\n",
       "        vertical-align: top;\n",
       "    }\n",
       "\n",
       "    .dataframe thead th {\n",
       "        text-align: right;\n",
       "    }\n",
       "</style>\n",
       "<table border=\"1\" class=\"dataframe\">\n",
       "  <thead>\n",
       "    <tr style=\"text-align: right;\">\n",
       "      <th></th>\n",
       "      <th>arabic</th>\n",
       "      <th>transliterate</th>\n",
       "      <th>translate_bangla</th>\n",
       "    </tr>\n",
       "  </thead>\n",
       "  <tbody>\n",
       "    <tr>\n",
       "      <th>0</th>\n",
       "      <td>ٱلرَّحۡمَٰنُ</td>\n",
       "      <td>al-rahmanu</td>\n",
       "      <td>অশেষ দয়ালু (আল্লাহ্‌)</td>\n",
       "    </tr>\n",
       "    <tr>\n",
       "      <th>1</th>\n",
       "      <td>عَلَّمَ</td>\n",
       "      <td>allama</td>\n",
       "      <td>শিক্ষা দিয়েছেন</td>\n",
       "    </tr>\n",
       "    <tr>\n",
       "      <th>2</th>\n",
       "      <td>ٱلۡقُرۡءَانَ</td>\n",
       "      <td>al-qur'ana</td>\n",
       "      <td>(এই) কুরআন</td>\n",
       "    </tr>\n",
       "    <tr>\n",
       "      <th>3</th>\n",
       "      <td>خَلَقَ</td>\n",
       "      <td>khalaqa</td>\n",
       "      <td>তিনি সৃষ্টি করেছেন</td>\n",
       "    </tr>\n",
       "    <tr>\n",
       "      <th>4</th>\n",
       "      <td>ٱلۡإِنسَٰنَ</td>\n",
       "      <td>al-insana</td>\n",
       "      <td>মানুষকে</td>\n",
       "    </tr>\n",
       "    <tr>\n",
       "      <th>...</th>\n",
       "      <td>...</td>\n",
       "      <td>...</td>\n",
       "      <td>...</td>\n",
       "    </tr>\n",
       "    <tr>\n",
       "      <th>346</th>\n",
       "      <td>ٱسۡمُ</td>\n",
       "      <td>us'mu</td>\n",
       "      <td>নাম</td>\n",
       "    </tr>\n",
       "    <tr>\n",
       "      <th>347</th>\n",
       "      <td>رَبِّكَ</td>\n",
       "      <td>rabbika</td>\n",
       "      <td>তোমাদের রবের</td>\n",
       "    </tr>\n",
       "    <tr>\n",
       "      <th>348</th>\n",
       "      <td>ذِي</td>\n",
       "      <td>dhi</td>\n",
       "      <td>সম্পন্ন</td>\n",
       "    </tr>\n",
       "    <tr>\n",
       "      <th>349</th>\n",
       "      <td>ٱلۡجَلَٰلِ</td>\n",
       "      <td>al-jalali</td>\n",
       "      <td>মহিম</td>\n",
       "    </tr>\n",
       "    <tr>\n",
       "      <th>350</th>\n",
       "      <td>وَٱلۡإِكۡرَامِ</td>\n",
       "      <td>wal-ik'rami</td>\n",
       "      <td>ও মর্যাদা</td>\n",
       "    </tr>\n",
       "  </tbody>\n",
       "</table>\n",
       "<p>351 rows × 3 columns</p>\n",
       "</div>"
      ],
      "text/plain": [
       "             arabic transliterate        translate_bangla\n",
       "0      ٱلرَّحۡمَٰنُ    al-rahmanu  অশেষ দয়ালু (আল্লাহ্‌)\n",
       "1           عَلَّمَ        allama         শিক্ষা দিয়েছেন\n",
       "2      ٱلۡقُرۡءَانَ    al-qur'ana              (এই) কুরআন\n",
       "3            خَلَقَ       khalaqa      তিনি সৃষ্টি করেছেন\n",
       "4       ٱلۡإِنسَٰنَ     al-insana                 মানুষকে\n",
       "..              ...           ...                     ...\n",
       "346           ٱسۡمُ         us'mu                     নাম\n",
       "347         رَبِّكَ       rabbika            তোমাদের রবের\n",
       "348             ذِي           dhi                 সম্পন্ন\n",
       "349      ٱلۡجَلَٰلِ     al-jalali                    মহিম\n",
       "350  وَٱلۡإِكۡرَامِ   wal-ik'rami               ও মর্যাদা\n",
       "\n",
       "[351 rows x 3 columns]"
      ]
     },
     "execution_count": 45,
     "metadata": {},
     "output_type": "execute_result"
    }
   ],
   "source": [
    "HTMLFile = open(f\"/media/kurubal/SSD/Data Scientist/Work/Modern Ways/Project/Arabic/Quaran/Web Scrapping/Data/{folder.lower().capitalize()}/{file.lower()}.html\", \"r\") # ayahs-block\n",
    "\n",
    "content = HTMLFile.read()\n",
    "\n",
    "soup = BeautifulSoup(content, 'lxml')\n",
    "\n",
    "ayah_word = soup.findAll('span', attrs={\"class\":\"single-word\"})\n",
    "\n",
    "word_list = []\n",
    "for word in ayah_word:\n",
    "    var1 = word.find('span', attrs={\"class\":\"word-arabic word-arabic-uthmani-hafs\"})\n",
    "    #try:\n",
    "    #    #arabic = var1.get_text()\n",
    "    #    arabic = var1.string\n",
    "    #except:\n",
    "    #    arabic = \"\"\n",
    "    #arabic = var1.get_text()\n",
    "    arabic = var1.string\n",
    "    var2 = word.find('span', attrs={\"class\":\"word-transliteration\"})\n",
    "    transliterate = var2.string\n",
    "    var3 = word.find('span', attrs={\"class\":\"word-translation\"})\n",
    "    translate = var3.string\n",
    "    word_list.append((arabic, transliterate, translate))\n",
    "\n",
    "df_word_list = pd.DataFrame(word_list)\n",
    "df_word_list.rename(columns={0:\"arabic\", 1:\"transliterate\", 2:f\"translate_{lang.lower()}\"}, inplace=True)\n",
    "df_word_list"
   ]
  },
  {
   "cell_type": "code",
   "execution_count": 46,
   "metadata": {},
   "outputs": [],
   "source": [
    "df_word_list.to_excel(f\"{surah.lower().capitalize()}_Arabic_Transliterate_Translate_Words_{lang.lower().capitalize()}.xlsx\", index=False)"
   ]
  },
  {
   "cell_type": "code",
   "execution_count": null,
   "metadata": {},
   "outputs": [],
   "source": []
  },
  {
   "cell_type": "markdown",
   "metadata": {},
   "source": [
    "#### Merge Word All Translate"
   ]
  },
  {
   "cell_type": "code",
   "execution_count": 47,
   "metadata": {},
   "outputs": [
    {
     "data": {
      "text/plain": [
       "['Ar rahmaan_Arabic_Transliterate_Translate_Words_Indonesian.xlsx',\n",
       " 'Ar rahmaan_Arabic_Transliterate_Translate_Words_Turkish.xlsx',\n",
       " 'Ar rahmaan_Arabic_Transliterate_Translate_Words_Russian.xlsx',\n",
       " 'Ar rahmaan_Arabic_Transliterate_Translate_Words_English.xlsx',\n",
       " 'Ar rahmaan_Arabic_Transliterate_Translate_Words_Urdu.xlsx',\n",
       " 'Ar rahmaan_Arabic_Transliterate_Translate_Words_Hindi.xlsx',\n",
       " 'Ar rahmaan_Arabic_Transliterate_Translate_Words_Bangla.xlsx']"
      ]
     },
     "execution_count": 47,
     "metadata": {},
     "output_type": "execute_result"
    }
   ],
   "source": [
    "all_trans_file = glob.glob(f\"{surah.lower().capitalize()}*\")\n",
    "all_trans_file"
   ]
  },
  {
   "cell_type": "code",
   "execution_count": 48,
   "metadata": {},
   "outputs": [
    {
     "data": {
      "text/html": [
       "<div>\n",
       "<style scoped>\n",
       "    .dataframe tbody tr th:only-of-type {\n",
       "        vertical-align: middle;\n",
       "    }\n",
       "\n",
       "    .dataframe tbody tr th {\n",
       "        vertical-align: top;\n",
       "    }\n",
       "\n",
       "    .dataframe thead th {\n",
       "        text-align: right;\n",
       "    }\n",
       "</style>\n",
       "<table border=\"1\" class=\"dataframe\">\n",
       "  <thead>\n",
       "    <tr style=\"text-align: right;\">\n",
       "      <th></th>\n",
       "      <th>arabic</th>\n",
       "      <th>transliterate</th>\n",
       "      <th>translate_english</th>\n",
       "      <th>translate_urdu</th>\n",
       "      <th>translate_hindi</th>\n",
       "      <th>translate_indonesian</th>\n",
       "      <th>translate_bangla</th>\n",
       "      <th>translate_turkish</th>\n",
       "      <th>translate_russian</th>\n",
       "    </tr>\n",
       "  </thead>\n",
       "  <tbody>\n",
       "    <tr>\n",
       "      <th>0</th>\n",
       "      <td>ٱلرَّحۡمَٰنُ</td>\n",
       "      <td>al-rahmanu</td>\n",
       "      <td>The Most Gracious</td>\n",
       "      <td>الرحمان</td>\n",
       "      <td>रहमान</td>\n",
       "      <td>Yang Maha Pengasih</td>\n",
       "      <td>অশেষ দয়ালু (আল্লাহ্‌)</td>\n",
       "      <td>Çok merhametli (Allah)</td>\n",
       "      <td>Милостивый</td>\n",
       "    </tr>\n",
       "    <tr>\n",
       "      <th>1</th>\n",
       "      <td>عَلَّمَ</td>\n",
       "      <td>allama</td>\n",
       "      <td>He taught</td>\n",
       "      <td>اس نے تعلیم دی</td>\n",
       "      <td>उसने तालीम दी</td>\n",
       "      <td>Dia telah mengajarkan</td>\n",
       "      <td>শিক্ষা দিয়েছেন</td>\n",
       "      <td>öğretti</td>\n",
       "      <td>научил</td>\n",
       "    </tr>\n",
       "    <tr>\n",
       "      <th>2</th>\n",
       "      <td>ٱلۡقُرۡءَانَ</td>\n",
       "      <td>al-qur'ana</td>\n",
       "      <td>the Quran</td>\n",
       "      <td>قرآن کی</td>\n",
       "      <td>क़ुरआन की</td>\n",
       "      <td>Al Quran</td>\n",
       "      <td>(এই) কুরআন</td>\n",
       "      <td>Kur'an'ı</td>\n",
       "      <td>Корану</td>\n",
       "    </tr>\n",
       "    <tr>\n",
       "      <th>3</th>\n",
       "      <td>خَلَقَ</td>\n",
       "      <td>khalaqa</td>\n",
       "      <td>He created</td>\n",
       "      <td>اس نے پیدا کیا</td>\n",
       "      <td>उसने पैदा किया</td>\n",
       "      <td>Dia telah menciptakan</td>\n",
       "      <td>তিনি সৃষ্টি করেছেন</td>\n",
       "      <td>yarattı</td>\n",
       "      <td>­­­­сотворил</td>\n",
       "    </tr>\n",
       "    <tr>\n",
       "      <th>4</th>\n",
       "      <td>ٱلۡإِنسَٰنَ</td>\n",
       "      <td>al-insana</td>\n",
       "      <td>[the] man</td>\n",
       "      <td>انسان کو</td>\n",
       "      <td>इन्सान को</td>\n",
       "      <td>manusia</td>\n",
       "      <td>মানুষকে</td>\n",
       "      <td>insanı</td>\n",
       "      <td>человека,</td>\n",
       "    </tr>\n",
       "    <tr>\n",
       "      <th>...</th>\n",
       "      <td>...</td>\n",
       "      <td>...</td>\n",
       "      <td>...</td>\n",
       "      <td>...</td>\n",
       "      <td>...</td>\n",
       "      <td>...</td>\n",
       "      <td>...</td>\n",
       "      <td>...</td>\n",
       "      <td>...</td>\n",
       "    </tr>\n",
       "    <tr>\n",
       "      <th>346</th>\n",
       "      <td>ٱسۡمُ</td>\n",
       "      <td>us'mu</td>\n",
       "      <td>(the) name</td>\n",
       "      <td>نام</td>\n",
       "      <td>नाम</td>\n",
       "      <td>nama</td>\n",
       "      <td>নাম</td>\n",
       "      <td>adı</td>\n",
       "      <td>имя</td>\n",
       "    </tr>\n",
       "    <tr>\n",
       "      <th>347</th>\n",
       "      <td>رَبِّكَ</td>\n",
       "      <td>rabbika</td>\n",
       "      <td>(of) your Lord</td>\n",
       "      <td>تیرے رب کا</td>\n",
       "      <td>आपके रब का</td>\n",
       "      <td>Tuhanmu</td>\n",
       "      <td>তোমাদের রবের</td>\n",
       "      <td>Rabbinin</td>\n",
       "      <td>Господа твоего,</td>\n",
       "    </tr>\n",
       "    <tr>\n",
       "      <th>348</th>\n",
       "      <td>ذِي</td>\n",
       "      <td>dhi</td>\n",
       "      <td>Owner</td>\n",
       "      <td>جو صاحب</td>\n",
       "      <td>*</td>\n",
       "      <td>memiliki</td>\n",
       "      <td>সম্পন্ন</td>\n",
       "      <td>sahibi</td>\n",
       "      <td>Обладателя</td>\n",
       "    </tr>\n",
       "    <tr>\n",
       "      <th>349</th>\n",
       "      <td>ٱلۡجَلَٰلِ</td>\n",
       "      <td>al-jalali</td>\n",
       "      <td>(of) Majesty</td>\n",
       "      <td>جلال ہے</td>\n",
       "      <td>जो बुज़ुर्गी वाला है</td>\n",
       "      <td>Kebesaran</td>\n",
       "      <td>মহিম</td>\n",
       "      <td>büyüklük</td>\n",
       "      <td>величия</td>\n",
       "    </tr>\n",
       "    <tr>\n",
       "      <th>350</th>\n",
       "      <td>وَٱلۡإِكۡرَامِ</td>\n",
       "      <td>wal-ik'rami</td>\n",
       "      <td>and Honor</td>\n",
       "      <td>اور کریم ہے۔ صاحب اکرام ہے</td>\n",
       "      <td>और इज़्ज़त वाला है</td>\n",
       "      <td>dan Kemuliaan</td>\n",
       "      <td>ও মর্যাদা</td>\n",
       "      <td>ve ikram</td>\n",
       "      <td>и щедрости!</td>\n",
       "    </tr>\n",
       "  </tbody>\n",
       "</table>\n",
       "<p>351 rows × 9 columns</p>\n",
       "</div>"
      ],
      "text/plain": [
       "             arabic transliterate  translate_english  \\\n",
       "0      ٱلرَّحۡمَٰنُ    al-rahmanu  The Most Gracious   \n",
       "1           عَلَّمَ        allama          He taught   \n",
       "2      ٱلۡقُرۡءَانَ    al-qur'ana          the Quran   \n",
       "3            خَلَقَ       khalaqa         He created   \n",
       "4       ٱلۡإِنسَٰنَ     al-insana          [the] man   \n",
       "..              ...           ...                ...   \n",
       "346           ٱسۡمُ         us'mu         (the) name   \n",
       "347         رَبِّكَ       rabbika     (of) your Lord   \n",
       "348             ذِي           dhi              Owner   \n",
       "349      ٱلۡجَلَٰلِ     al-jalali       (of) Majesty   \n",
       "350  وَٱلۡإِكۡرَامِ   wal-ik'rami          and Honor   \n",
       "\n",
       "                 translate_urdu       translate_hindi   translate_indonesian  \\\n",
       "0                       الرحمان                 रहमान     Yang Maha Pengasih   \n",
       "1                اس نے تعلیم دی         उसने तालीम दी  Dia telah mengajarkan   \n",
       "2                       قرآن کی             क़ुरआन की               Al Quran   \n",
       "3                اس نے پیدا کیا       उसने पैदा किया   Dia telah menciptakan   \n",
       "4                      انسان کو             इन्सान को                manusia   \n",
       "..                          ...                   ...                    ...   \n",
       "346                         نام                  नाम                    nama   \n",
       "347                  تیرے رب کا            आपके रब का                Tuhanmu   \n",
       "348                     جو صاحب                     *               memiliki   \n",
       "349                     جلال ہے  जो बुज़ुर्गी वाला है              Kebesaran   \n",
       "350  اور کریم ہے۔ صاحب اکرام ہے    और इज़्ज़त वाला है          dan Kemuliaan   \n",
       "\n",
       "           translate_bangla       translate_turkish translate_russian  \n",
       "0    অশেষ দয়ালু (আল্লাহ্‌)  Çok merhametli (Allah)        Милостивый  \n",
       "1           শিক্ষা দিয়েছেন                 öğretti            научил  \n",
       "2                (এই) কুরআন                Kur'an'ı            Корану  \n",
       "3        তিনি সৃষ্টি করেছেন                 yarattı      ­­­­сотворил  \n",
       "4                   মানুষকে                  insanı         человека,  \n",
       "..                      ...                     ...               ...  \n",
       "346                     নাম                     adı               имя  \n",
       "347            তোমাদের রবের                Rabbinin   Господа твоего,  \n",
       "348                 সম্পন্ন                  sahibi        Обладателя  \n",
       "349                    মহিম                büyüklük           величия  \n",
       "350               ও মর্যাদা                ve ikram       и щедрости!  \n",
       "\n",
       "[351 rows x 9 columns]"
      ]
     },
     "execution_count": 48,
     "metadata": {},
     "output_type": "execute_result"
    }
   ],
   "source": [
    "df_master = pd.read_excel(all_trans_file[0])\n",
    "for i in all_trans_file[1:]:\n",
    "    df_var = pd.read_excel(f\"{i}\")\n",
    "    #df_master = pd.merge(df_master, df_var, how=\"left\", on=[\"arabic\",\"transliterate\"])\n",
    "    df_master = pd.concat([df_master,df_var.iloc[:,2]], axis=1)\n",
    "    #df_master = df_master.join(df_var, how=\"left\", lsuffix=[\"arabic\",\"transliterate\"],rsuffix=[\"arabic\",\"transliterate\"])\n",
    "    #df_master.drop_duplicates(inplace=True)\n",
    "    df_master.reset_index(drop=True, inplace=True)\n",
    "df_master = df_master[[\"arabic\",\"transliterate\",\"translate_english\",\"translate_urdu\",\"translate_hindi\",\"translate_indonesian\",\"translate_bangla\",\"translate_turkish\",\"translate_russian\"]]\n",
    "df_master"
   ]
  },
  {
   "cell_type": "code",
   "execution_count": 49,
   "metadata": {},
   "outputs": [],
   "source": [
    "df_master.to_excel(f\"{surah.lower().capitalize()}_Arabic_Transliterate_Translate_Words_Languages_Concat.xlsx\", index=False)"
   ]
  },
  {
   "cell_type": "code",
   "execution_count": null,
   "metadata": {},
   "outputs": [],
   "source": []
  },
  {
   "cell_type": "markdown",
   "metadata": {},
   "source": [
    "#### Merge Surah All Translate"
   ]
  },
  {
   "cell_type": "code",
   "execution_count": null,
   "metadata": {},
   "outputs": [],
   "source": [
    "def add_info(df,surah_name, surah_num, index):\n",
    "    for i in range(len(df)):\n",
    "        df[\"surah latin\"] = surah_name\n",
    "        df[\"surah\"] = surah_num\n",
    "        df.loc[i,\"index\"] = i+index\n",
    "    return df"
   ]
  },
  {
   "cell_type": "code",
   "execution_count": null,
   "metadata": {},
   "outputs": [],
   "source": [
    "df_faatir = pd.read_excel(\"/media/kurubal/SSD/Data Scientist/Work/Modern Ways/Project/Arabic/Quaran/Web Scrapping/Result/Faatir-35/Faatir_Arabic_Transliterate_Translate_Words_Languages_Concat.xlsx\")\n",
    "df_faatir"
   ]
  },
  {
   "cell_type": "code",
   "execution_count": null,
   "metadata": {},
   "outputs": [],
   "source": [
    "df_faatir = add_info(df_faatir, \"Fatir\", 35, 56320)\n",
    "df_faatir = df_faatir.iloc[:,[10,9,0,1,2,3,4,5,6,7,8,11]]\n",
    "df_faatir"
   ]
  },
  {
   "cell_type": "code",
   "execution_count": null,
   "metadata": {},
   "outputs": [],
   "source": []
  },
  {
   "cell_type": "code",
   "execution_count": null,
   "metadata": {},
   "outputs": [],
   "source": [
    "df_yaseen = pd.read_excel(\"/media/kurubal/SSD/Data Scientist/Work/Modern Ways/Project/Arabic/Quaran/Web Scrapping/Result/Yaseen-36/Yaseen_Arabic_Transliterate_Translate_Words_Languages_Concat.xlsx\")\n",
    "df_yaseen"
   ]
  },
  {
   "cell_type": "code",
   "execution_count": null,
   "metadata": {},
   "outputs": [],
   "source": [
    "df_yaseen = add_info(df_yaseen, \"Ya Seen\", 36, 57102)\n",
    "df_yaseen = df_yaseen.iloc[:,[10,9,0,1,2,3,4,5,6,7,8,11]]\n",
    "df_yaseen"
   ]
  },
  {
   "cell_type": "code",
   "execution_count": null,
   "metadata": {},
   "outputs": [],
   "source": []
  },
  {
   "cell_type": "code",
   "execution_count": null,
   "metadata": {},
   "outputs": [],
   "source": [
    "df_saaffaat = pd.read_excel(\"/media/kurubal/SSD/Data Scientist/Work/Modern Ways/Project/Arabic/Quaran/Web Scrapping/Result/As Saaffaat-37/As saaffaat_Arabic_Transliterate_Translate_Words_Languages_Concat.xlsx\")\n",
    "df_saaffaat"
   ]
  },
  {
   "cell_type": "code",
   "execution_count": null,
   "metadata": {},
   "outputs": [],
   "source": [
    "df_saaffaat = add_info(df_saaffaat, \"As-Saffat\", 37, 57836)\n",
    "df_saaffaat = df_saaffaat.iloc[:,[10,9,0,1,2,3,4,5,6,7,8,11]]\n",
    "df_saaffaat"
   ]
  },
  {
   "cell_type": "code",
   "execution_count": null,
   "metadata": {},
   "outputs": [],
   "source": []
  },
  {
   "cell_type": "code",
   "execution_count": null,
   "metadata": {},
   "outputs": [],
   "source": [
    "df_saad = pd.read_excel(\"/media/kurubal/SSD/Data Scientist/Work/Modern Ways/Project/Arabic/Quaran/Web Scrapping/Result/Saad-38/Saad_Arabic_Transliterate_Translate_Words_Languages_Concat.xlsx\")\n",
    "df_saad"
   ]
  },
  {
   "cell_type": "code",
   "execution_count": null,
   "metadata": {},
   "outputs": [],
   "source": [
    "df_saad = add_info(df_saad, \"Sad\", 38, 58705)\n",
    "df_saad = df_saad.iloc[:,[10,9,0,1,2,3,4,5,6,7,8,11]]\n",
    "df_saad"
   ]
  },
  {
   "cell_type": "code",
   "execution_count": null,
   "metadata": {},
   "outputs": [],
   "source": []
  },
  {
   "cell_type": "code",
   "execution_count": null,
   "metadata": {},
   "outputs": [],
   "source": [
    "df_zumar = pd.read_excel(\"/media/kurubal/SSD/Data Scientist/Work/Modern Ways/Project/Arabic/Quaran/Web Scrapping/Result/Az Zumar-39/Az zumar_Arabic_Transliterate_Translate_Words_Languages_Concat.xlsx\")\n",
    "df_zumar"
   ]
  },
  {
   "cell_type": "code",
   "execution_count": null,
   "metadata": {},
   "outputs": [],
   "source": [
    "df_zumar = add_info(df_zumar, \"Az-Zumar\", 39, 59444)\n",
    "df_zumar = df_zumar.iloc[:,[10,9,0,1,2,3,4,5,6,7,8,11]]\n",
    "df_zumar"
   ]
  },
  {
   "cell_type": "code",
   "execution_count": null,
   "metadata": {},
   "outputs": [],
   "source": [
    "df_surah_merge = pd.concat([df_faatir,df_yaseen,df_saaffaat,df_saad,df_zumar], axis=0)\n",
    "df_surah_merge"
   ]
  },
  {
   "cell_type": "code",
   "execution_count": null,
   "metadata": {},
   "outputs": [],
   "source": [
    "df_surah_merge.to_excel(\"Faatir_Yaseen_Saaffaat_Saad_Zumar_Surah_Translate_Concat.xlsx\", index=False)"
   ]
  },
  {
   "cell_type": "code",
   "execution_count": null,
   "metadata": {},
   "outputs": [],
   "source": []
  },
  {
   "cell_type": "code",
   "execution_count": null,
   "metadata": {},
   "outputs": [],
   "source": []
  },
  {
   "cell_type": "code",
   "execution_count": null,
   "metadata": {},
   "outputs": [],
   "source": []
  }
 ],
 "metadata": {
  "interpreter": {
   "hash": "651d507d70892fab0fc6529d935cd476f6e2eb1791525b76da6cc8da34bc0503"
  },
  "kernelspec": {
   "display_name": "Python 3.9.5 ('py39')",
   "language": "python",
   "name": "python3"
  },
  "language_info": {
   "codemirror_mode": {
    "name": "ipython",
    "version": 3
   },
   "file_extension": ".py",
   "mimetype": "text/x-python",
   "name": "python",
   "nbconvert_exporter": "python",
   "pygments_lexer": "ipython3",
   "version": "3.9.5"
  },
  "orig_nbformat": 4
 },
 "nbformat": 4,
 "nbformat_minor": 2
}
