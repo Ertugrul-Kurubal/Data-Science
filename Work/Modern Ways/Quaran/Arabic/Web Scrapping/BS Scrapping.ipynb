{
 "cells": [
  {
   "cell_type": "markdown",
   "metadata": {},
   "source": [
    "### Web Scrapping"
   ]
  },
  {
   "cell_type": "code",
   "execution_count": null,
   "metadata": {},
   "outputs": [],
   "source": [
    "# !pip install --upgrade pip\n",
    "# !pip install beautifulsoup4 --upgrade\n",
    "# pip install lxml\n",
    "# pip install html5lib"
   ]
  },
  {
   "cell_type": "code",
   "execution_count": 1,
   "metadata": {},
   "outputs": [],
   "source": [
    "import pandas as pd\n",
    "from urllib.request import urlopen\n",
    "from bs4 import BeautifulSoup\n",
    "from json2html import *\n",
    "import re\n",
    "import requests\n",
    "from urllib.request import Request, urlopen\n",
    "from urllib import parse\n",
    "import glob"
   ]
  },
  {
   "cell_type": "markdown",
   "metadata": {},
   "source": [
    "#### External HTML File From Browser Element Section "
   ]
  },
  {
   "cell_type": "code",
   "execution_count": 166,
   "metadata": {},
   "outputs": [],
   "source": [
    "lang = \"indonesian\"  # indonesian, turkish, russian, english, urdu, hindi, bangla\n",
    "surah = \"al mumtahana\"  # al faatiha, al baqara, aal i imraan ...\n",
    "folder = f\"{surah}-60\"  # al faatiha-1, al baqara-2, aal i imraan-3 ...\n",
    "file = f\"{surah.lower()}_{lang.lower()}\""
   ]
  },
  {
   "cell_type": "code",
   "execution_count": 167,
   "metadata": {},
   "outputs": [
    {
     "data": {
      "text/html": [
       "<div>\n",
       "<style scoped>\n",
       "    .dataframe tbody tr th:only-of-type {\n",
       "        vertical-align: middle;\n",
       "    }\n",
       "\n",
       "    .dataframe tbody tr th {\n",
       "        vertical-align: top;\n",
       "    }\n",
       "\n",
       "    .dataframe thead th {\n",
       "        text-align: right;\n",
       "    }\n",
       "</style>\n",
       "<table border=\"1\" class=\"dataframe\">\n",
       "  <thead>\n",
       "    <tr style=\"text-align: right;\">\n",
       "      <th></th>\n",
       "      <th>arabic</th>\n",
       "      <th>transliterate</th>\n",
       "      <th>translate_indonesian</th>\n",
       "    </tr>\n",
       "  </thead>\n",
       "  <tbody>\n",
       "    <tr>\n",
       "      <th>0</th>\n",
       "      <td>يَـٰٓأَيُّهَا</td>\n",
       "      <td>yaayyuha</td>\n",
       "      <td>wahai</td>\n",
       "    </tr>\n",
       "    <tr>\n",
       "      <th>1</th>\n",
       "      <td>ٱلَّذِينَ</td>\n",
       "      <td>alladhina</td>\n",
       "      <td>orang-orang yang</td>\n",
       "    </tr>\n",
       "    <tr>\n",
       "      <th>2</th>\n",
       "      <td>ءَامَنُواْ</td>\n",
       "      <td>amanu</td>\n",
       "      <td>beriman</td>\n",
       "    </tr>\n",
       "    <tr>\n",
       "      <th>3</th>\n",
       "      <td>لَا</td>\n",
       "      <td>la</td>\n",
       "      <td>janganlah</td>\n",
       "    </tr>\n",
       "    <tr>\n",
       "      <th>4</th>\n",
       "      <td>تَتَّخِذُواْ</td>\n",
       "      <td>tattakhidhu</td>\n",
       "      <td>kamu mengambil</td>\n",
       "    </tr>\n",
       "    <tr>\n",
       "      <th>...</th>\n",
       "      <td>...</td>\n",
       "      <td>...</td>\n",
       "      <td>...</td>\n",
       "    </tr>\n",
       "    <tr>\n",
       "      <th>343</th>\n",
       "      <td>يَئِسَ</td>\n",
       "      <td>ya-isa</td>\n",
       "      <td>berputus asa</td>\n",
       "    </tr>\n",
       "    <tr>\n",
       "      <th>344</th>\n",
       "      <td>ٱلۡكُفَّارُ</td>\n",
       "      <td>al-kufaru</td>\n",
       "      <td>orang-orang kafir</td>\n",
       "    </tr>\n",
       "    <tr>\n",
       "      <th>345</th>\n",
       "      <td>مِنۡ</td>\n",
       "      <td>min</td>\n",
       "      <td>dari</td>\n",
       "    </tr>\n",
       "    <tr>\n",
       "      <th>346</th>\n",
       "      <td>أَصۡحَٰبِ</td>\n",
       "      <td>ashabi</td>\n",
       "      <td>penghuni</td>\n",
       "    </tr>\n",
       "    <tr>\n",
       "      <th>347</th>\n",
       "      <td>ٱلۡقُبُورِ</td>\n",
       "      <td>al-quburi</td>\n",
       "      <td>kubur</td>\n",
       "    </tr>\n",
       "  </tbody>\n",
       "</table>\n",
       "<p>348 rows × 3 columns</p>\n",
       "</div>"
      ],
      "text/plain": [
       "            arabic transliterate translate_indonesian\n",
       "0    يَـٰٓأَيُّهَا      yaayyuha                wahai\n",
       "1        ٱلَّذِينَ     alladhina     orang-orang yang\n",
       "2       ءَامَنُواْ         amanu              beriman\n",
       "3              لَا            la            janganlah\n",
       "4     تَتَّخِذُواْ   tattakhidhu       kamu mengambil\n",
       "..             ...           ...                  ...\n",
       "343         يَئِسَ        ya-isa         berputus asa\n",
       "344    ٱلۡكُفَّارُ     al-kufaru    orang-orang kafir\n",
       "345           مِنۡ           min                 dari\n",
       "346      أَصۡحَٰبِ        ashabi             penghuni\n",
       "347     ٱلۡقُبُورِ     al-quburi                kubur\n",
       "\n",
       "[348 rows x 3 columns]"
      ]
     },
     "execution_count": 167,
     "metadata": {},
     "output_type": "execute_result"
    }
   ],
   "source": [
    "HTMLFile = open(f\"/media/kurubal/SSD/Data Scientist/Work/Modern Ways/Project/Arabic/Quaran/Web Scrapping/Data/{folder.lower().capitalize()}/{file.lower()}.html\", \"r\") # ayahs-block\n",
    "\n",
    "content = HTMLFile.read()\n",
    "\n",
    "soup = BeautifulSoup(content, 'lxml')\n",
    "\n",
    "ayah_word = soup.findAll('span', attrs={\"class\":\"single-word\"})\n",
    "\n",
    "word_list = []\n",
    "for word in ayah_word:\n",
    "    var1 = word.find('span', attrs={\"class\":\"word-arabic word-arabic-uthmani-hafs\"})\n",
    "    #try:\n",
    "    #    #arabic = var1.get_text()\n",
    "    #    arabic = var1.string\n",
    "    #except:\n",
    "    #    arabic = \"\"\n",
    "    #arabic = var1.get_text()\n",
    "    arabic = var1.string\n",
    "    var2 = word.find('span', attrs={\"class\":\"word-transliteration\"})\n",
    "    transliterate = var2.string\n",
    "    var3 = word.find('span', attrs={\"class\":\"word-translation\"})\n",
    "    translate = var3.string\n",
    "    word_list.append((arabic, transliterate, translate))\n",
    "\n",
    "df_word_list = pd.DataFrame(word_list)\n",
    "df_word_list.rename(columns={0:\"arabic\", 1:\"transliterate\", 2:f\"translate_{lang.lower()}\"}, inplace=True)\n",
    "df_word_list"
   ]
  },
  {
   "cell_type": "code",
   "execution_count": 168,
   "metadata": {},
   "outputs": [],
   "source": [
    "df_word_list.to_excel(f\"{surah.lower().capitalize()}_Arabic_Transliterate_Translate_Words_{lang.lower().capitalize()}.xlsx\", index=False)"
   ]
  },
  {
   "cell_type": "code",
   "execution_count": null,
   "metadata": {},
   "outputs": [],
   "source": []
  },
  {
   "cell_type": "markdown",
   "metadata": {},
   "source": [
    "#### Merge Word All Translate"
   ]
  },
  {
   "cell_type": "code",
   "execution_count": 169,
   "metadata": {},
   "outputs": [
    {
     "data": {
      "text/plain": [
       "['Al mumtahana_Arabic_Transliterate_Translate_Words_Bangla.xlsx',\n",
       " 'Al mumtahana_Arabic_Transliterate_Translate_Words_Hindi.xlsx',\n",
       " 'Al mumtahana_Arabic_Transliterate_Translate_Words_Urdu.xlsx',\n",
       " 'Al mumtahana_Arabic_Transliterate_Translate_Words_English.xlsx',\n",
       " 'Al mumtahana_Arabic_Transliterate_Translate_Words_Russian.xlsx',\n",
       " 'Al mumtahana_Arabic_Transliterate_Translate_Words_Turkish.xlsx',\n",
       " 'Al mumtahana_Arabic_Transliterate_Translate_Words_Indonesian.xlsx']"
      ]
     },
     "execution_count": 169,
     "metadata": {},
     "output_type": "execute_result"
    }
   ],
   "source": [
    "all_trans_file = glob.glob(f\"{surah.lower().capitalize()}*\")\n",
    "all_trans_file"
   ]
  },
  {
   "cell_type": "code",
   "execution_count": 170,
   "metadata": {},
   "outputs": [
    {
     "data": {
      "text/html": [
       "<div>\n",
       "<style scoped>\n",
       "    .dataframe tbody tr th:only-of-type {\n",
       "        vertical-align: middle;\n",
       "    }\n",
       "\n",
       "    .dataframe tbody tr th {\n",
       "        vertical-align: top;\n",
       "    }\n",
       "\n",
       "    .dataframe thead th {\n",
       "        text-align: right;\n",
       "    }\n",
       "</style>\n",
       "<table border=\"1\" class=\"dataframe\">\n",
       "  <thead>\n",
       "    <tr style=\"text-align: right;\">\n",
       "      <th></th>\n",
       "      <th>arabic</th>\n",
       "      <th>transliterate</th>\n",
       "      <th>translate_english</th>\n",
       "      <th>translate_urdu</th>\n",
       "      <th>translate_hindi</th>\n",
       "      <th>translate_indonesian</th>\n",
       "      <th>translate_bangla</th>\n",
       "      <th>translate_turkish</th>\n",
       "      <th>translate_russian</th>\n",
       "    </tr>\n",
       "  </thead>\n",
       "  <tbody>\n",
       "    <tr>\n",
       "      <th>0</th>\n",
       "      <td>يَـٰٓأَيُّهَا</td>\n",
       "      <td>yaayyuha</td>\n",
       "      <td>O you</td>\n",
       "      <td>اے</td>\n",
       "      <td>*</td>\n",
       "      <td>wahai</td>\n",
       "      <td>ওহে</td>\n",
       "      <td>ey</td>\n",
       "      <td>О те,</td>\n",
       "    </tr>\n",
       "    <tr>\n",
       "      <th>1</th>\n",
       "      <td>ٱلَّذِينَ</td>\n",
       "      <td>alladhina</td>\n",
       "      <td>who</td>\n",
       "      <td>لوگو</td>\n",
       "      <td>ऐ लोगो जो</td>\n",
       "      <td>orang-orang yang</td>\n",
       "      <td>যারা</td>\n",
       "      <td>kimseler</td>\n",
       "      <td>которые</td>\n",
       "    </tr>\n",
       "    <tr>\n",
       "      <th>2</th>\n",
       "      <td>ءَامَنُواْ</td>\n",
       "      <td>amanu</td>\n",
       "      <td>believe</td>\n",
       "      <td>جو ایمان لائے ہو</td>\n",
       "      <td>ईमान लाए हो</td>\n",
       "      <td>beriman</td>\n",
       "      <td>ঈমান এনেছ</td>\n",
       "      <td>inanan(lar)</td>\n",
       "      <td>уверовали!</td>\n",
       "    </tr>\n",
       "    <tr>\n",
       "      <th>3</th>\n",
       "      <td>لَا</td>\n",
       "      <td>la</td>\n",
       "      <td>(Do) not</td>\n",
       "      <td>نہ</td>\n",
       "      <td>*</td>\n",
       "      <td>janganlah</td>\n",
       "      <td>না</td>\n",
       "      <td>edinmeyin</td>\n",
       "      <td>Не</td>\n",
       "    </tr>\n",
       "    <tr>\n",
       "      <th>4</th>\n",
       "      <td>تَتَّخِذُواْ</td>\n",
       "      <td>tattakhidhu</td>\n",
       "      <td>take</td>\n",
       "      <td>تم بناؤ</td>\n",
       "      <td>ना तुम बनाओ</td>\n",
       "      <td>kamu mengambil</td>\n",
       "      <td>তোমরা গ্রহণ করো</td>\n",
       "      <td>*</td>\n",
       "      <td>берите</td>\n",
       "    </tr>\n",
       "    <tr>\n",
       "      <th>...</th>\n",
       "      <td>...</td>\n",
       "      <td>...</td>\n",
       "      <td>...</td>\n",
       "      <td>...</td>\n",
       "      <td>...</td>\n",
       "      <td>...</td>\n",
       "      <td>...</td>\n",
       "      <td>...</td>\n",
       "      <td>...</td>\n",
       "    </tr>\n",
       "    <tr>\n",
       "      <th>343</th>\n",
       "      <td>يَئِسَ</td>\n",
       "      <td>ya-isa</td>\n",
       "      <td>despair</td>\n",
       "      <td>مایوس ہوئے</td>\n",
       "      <td>मायूस हुए</td>\n",
       "      <td>berputus asa</td>\n",
       "      <td>নিরাশ হয়েছে</td>\n",
       "      <td>umudu kestiği</td>\n",
       "      <td>отчаялись</td>\n",
       "    </tr>\n",
       "    <tr>\n",
       "      <th>344</th>\n",
       "      <td>ٱلۡكُفَّارُ</td>\n",
       "      <td>al-kufaru</td>\n",
       "      <td>the disbelievers</td>\n",
       "      <td>کافر</td>\n",
       "      <td>काफ़िर</td>\n",
       "      <td>orang-orang kafir</td>\n",
       "      <td>কাফিররা</td>\n",
       "      <td>kafirlerin</td>\n",
       "      <td>неверующие</td>\n",
       "    </tr>\n",
       "    <tr>\n",
       "      <th>345</th>\n",
       "      <td>مِنۡ</td>\n",
       "      <td>min</td>\n",
       "      <td>of</td>\n",
       "      <td>سے</td>\n",
       "      <td>*</td>\n",
       "      <td>dari</td>\n",
       "      <td>থেকে</td>\n",
       "      <td>halkından</td>\n",
       "      <td>из числа</td>\n",
       "    </tr>\n",
       "    <tr>\n",
       "      <th>346</th>\n",
       "      <td>أَصۡحَٰبِ</td>\n",
       "      <td>ashabi</td>\n",
       "      <td>(the) companions</td>\n",
       "      <td>والوں سے</td>\n",
       "      <td>*</td>\n",
       "      <td>penghuni</td>\n",
       "      <td>অধিবাসীদের</td>\n",
       "      <td>*</td>\n",
       "      <td>обитателей</td>\n",
       "    </tr>\n",
       "    <tr>\n",
       "      <th>347</th>\n",
       "      <td>ٱلۡقُبُورِ</td>\n",
       "      <td>al-quburi</td>\n",
       "      <td>(of) the graves</td>\n",
       "      <td>قبروں (والوں سے)</td>\n",
       "      <td>क़ब्रों वालों से</td>\n",
       "      <td>kubur</td>\n",
       "      <td>কবরগু্লো</td>\n",
       "      <td>mezarlık</td>\n",
       "      <td>могил.</td>\n",
       "    </tr>\n",
       "  </tbody>\n",
       "</table>\n",
       "<p>348 rows × 9 columns</p>\n",
       "</div>"
      ],
      "text/plain": [
       "            arabic transliterate translate_english    translate_urdu  \\\n",
       "0    يَـٰٓأَيُّهَا      yaayyuha             O you                اے   \n",
       "1        ٱلَّذِينَ     alladhina               who              لوگو   \n",
       "2       ءَامَنُواْ         amanu           believe  جو ایمان لائے ہو   \n",
       "3              لَا            la          (Do) not                نہ   \n",
       "4     تَتَّخِذُواْ   tattakhidhu              take           تم بناؤ   \n",
       "..             ...           ...               ...               ...   \n",
       "343         يَئِسَ        ya-isa           despair        مایوس ہوئے   \n",
       "344    ٱلۡكُفَّارُ     al-kufaru  the disbelievers              کافر   \n",
       "345           مِنۡ           min                of                سے   \n",
       "346      أَصۡحَٰبِ        ashabi  (the) companions          والوں سے   \n",
       "347     ٱلۡقُبُورِ     al-quburi   (of) the graves  قبروں (والوں سے)   \n",
       "\n",
       "       translate_hindi translate_indonesian translate_bangla  \\\n",
       "0                    *                wahai              ওহে   \n",
       "1            ऐ लोगो जो     orang-orang yang             যারা   \n",
       "2          ईमान लाए हो              beriman        ঈমান এনেছ   \n",
       "3                    *            janganlah               না   \n",
       "4          ना तुम बनाओ       kamu mengambil  তোমরা গ্রহণ করো   \n",
       "..                 ...                  ...              ...   \n",
       "343         मायूस हुए          berputus asa      নিরাশ হয়েছে   \n",
       "344            काफ़िर     orang-orang kafir          কাফিররা   \n",
       "345                  *                 dari             থেকে   \n",
       "346                  *             penghuni       অধিবাসীদের   \n",
       "347  क़ब्रों वालों से                 kubur         কবরগু্লো   \n",
       "\n",
       "    translate_turkish translate_russian  \n",
       "0                  ey             О те,  \n",
       "1            kimseler           которые  \n",
       "2         inanan(lar)        уверовали!  \n",
       "3           edinmeyin                Не  \n",
       "4                   *            берите  \n",
       "..                ...               ...  \n",
       "343     umudu kestiği         отчаялись  \n",
       "344        kafirlerin        неверующие  \n",
       "345         halkından          из числа  \n",
       "346                 *        обитателей  \n",
       "347          mezarlık            могил.  \n",
       "\n",
       "[348 rows x 9 columns]"
      ]
     },
     "execution_count": 170,
     "metadata": {},
     "output_type": "execute_result"
    }
   ],
   "source": [
    "df_master = pd.read_excel(all_trans_file[0])\n",
    "for i in all_trans_file[1:]:\n",
    "    df_var = pd.read_excel(f\"{i}\")\n",
    "    #df_master = pd.merge(df_master, df_var, how=\"left\", on=[\"arabic\",\"transliterate\"])\n",
    "    df_master = pd.concat([df_master,df_var.iloc[:,2]], axis=1)\n",
    "    #df_master = df_master.join(df_var, how=\"left\", lsuffix=[\"arabic\",\"transliterate\"],rsuffix=[\"arabic\",\"transliterate\"])\n",
    "    #df_master.drop_duplicates(inplace=True)\n",
    "    df_master.reset_index(drop=True, inplace=True)\n",
    "df_master = df_master[[\"arabic\",\"transliterate\",\"translate_english\",\"translate_urdu\",\"translate_hindi\",\"translate_indonesian\",\"translate_bangla\",\"translate_turkish\",\"translate_russian\"]]\n",
    "df_master"
   ]
  },
  {
   "cell_type": "code",
   "execution_count": 171,
   "metadata": {},
   "outputs": [],
   "source": [
    "df_master.to_excel(f\"{surah.lower().capitalize()}_Arabic_Transliterate_Translate_Words_Languages_Concat.xlsx\", index=False)"
   ]
  },
  {
   "cell_type": "code",
   "execution_count": null,
   "metadata": {},
   "outputs": [],
   "source": []
  },
  {
   "cell_type": "markdown",
   "metadata": {},
   "source": [
    "#### Merge Surah All Translate"
   ]
  },
  {
   "cell_type": "code",
   "execution_count": null,
   "metadata": {},
   "outputs": [],
   "source": [
    "def add_info(df,surah_name, surah_num, index):\n",
    "    for i in range(len(df)):\n",
    "        df[\"surah latin\"] = surah_name\n",
    "        df[\"surah\"] = surah_num\n",
    "        df.loc[i,\"index\"] = i+index\n",
    "    return df"
   ]
  },
  {
   "cell_type": "code",
   "execution_count": null,
   "metadata": {},
   "outputs": [],
   "source": [
    "df_faatir = pd.read_excel(\"/media/kurubal/SSD/Data Scientist/Work/Modern Ways/Project/Arabic/Quaran/Web Scrapping/Result/Faatir-35/Faatir_Arabic_Transliterate_Translate_Words_Languages_Concat.xlsx\")\n",
    "df_faatir"
   ]
  },
  {
   "cell_type": "code",
   "execution_count": null,
   "metadata": {},
   "outputs": [],
   "source": [
    "df_faatir = add_info(df_faatir, \"Fatir\", 35, 56320)\n",
    "df_faatir = df_faatir.iloc[:,[10,9,0,1,2,3,4,5,6,7,8,11]]\n",
    "df_faatir"
   ]
  },
  {
   "cell_type": "code",
   "execution_count": null,
   "metadata": {},
   "outputs": [],
   "source": []
  },
  {
   "cell_type": "code",
   "execution_count": null,
   "metadata": {},
   "outputs": [],
   "source": [
    "df_yaseen = pd.read_excel(\"/media/kurubal/SSD/Data Scientist/Work/Modern Ways/Project/Arabic/Quaran/Web Scrapping/Result/Yaseen-36/Yaseen_Arabic_Transliterate_Translate_Words_Languages_Concat.xlsx\")\n",
    "df_yaseen"
   ]
  },
  {
   "cell_type": "code",
   "execution_count": null,
   "metadata": {},
   "outputs": [],
   "source": [
    "df_yaseen = add_info(df_yaseen, \"Ya Seen\", 36, 57102)\n",
    "df_yaseen = df_yaseen.iloc[:,[10,9,0,1,2,3,4,5,6,7,8,11]]\n",
    "df_yaseen"
   ]
  },
  {
   "cell_type": "code",
   "execution_count": null,
   "metadata": {},
   "outputs": [],
   "source": []
  },
  {
   "cell_type": "code",
   "execution_count": null,
   "metadata": {},
   "outputs": [],
   "source": [
    "df_saaffaat = pd.read_excel(\"/media/kurubal/SSD/Data Scientist/Work/Modern Ways/Project/Arabic/Quaran/Web Scrapping/Result/As Saaffaat-37/As saaffaat_Arabic_Transliterate_Translate_Words_Languages_Concat.xlsx\")\n",
    "df_saaffaat"
   ]
  },
  {
   "cell_type": "code",
   "execution_count": null,
   "metadata": {},
   "outputs": [],
   "source": [
    "df_saaffaat = add_info(df_saaffaat, \"As-Saffat\", 37, 57836)\n",
    "df_saaffaat = df_saaffaat.iloc[:,[10,9,0,1,2,3,4,5,6,7,8,11]]\n",
    "df_saaffaat"
   ]
  },
  {
   "cell_type": "code",
   "execution_count": null,
   "metadata": {},
   "outputs": [],
   "source": []
  },
  {
   "cell_type": "code",
   "execution_count": null,
   "metadata": {},
   "outputs": [],
   "source": [
    "df_saad = pd.read_excel(\"/media/kurubal/SSD/Data Scientist/Work/Modern Ways/Project/Arabic/Quaran/Web Scrapping/Result/Saad-38/Saad_Arabic_Transliterate_Translate_Words_Languages_Concat.xlsx\")\n",
    "df_saad"
   ]
  },
  {
   "cell_type": "code",
   "execution_count": null,
   "metadata": {},
   "outputs": [],
   "source": [
    "df_saad = add_info(df_saad, \"Sad\", 38, 58705)\n",
    "df_saad = df_saad.iloc[:,[10,9,0,1,2,3,4,5,6,7,8,11]]\n",
    "df_saad"
   ]
  },
  {
   "cell_type": "code",
   "execution_count": null,
   "metadata": {},
   "outputs": [],
   "source": []
  },
  {
   "cell_type": "code",
   "execution_count": null,
   "metadata": {},
   "outputs": [],
   "source": [
    "df_zumar = pd.read_excel(\"/media/kurubal/SSD/Data Scientist/Work/Modern Ways/Project/Arabic/Quaran/Web Scrapping/Result/Az Zumar-39/Az zumar_Arabic_Transliterate_Translate_Words_Languages_Concat.xlsx\")\n",
    "df_zumar"
   ]
  },
  {
   "cell_type": "code",
   "execution_count": null,
   "metadata": {},
   "outputs": [],
   "source": [
    "df_zumar = add_info(df_zumar, \"Az-Zumar\", 39, 59444)\n",
    "df_zumar = df_zumar.iloc[:,[10,9,0,1,2,3,4,5,6,7,8,11]]\n",
    "df_zumar"
   ]
  },
  {
   "cell_type": "code",
   "execution_count": null,
   "metadata": {},
   "outputs": [],
   "source": [
    "df_surah_merge = pd.concat([df_faatir,df_yaseen,df_saaffaat,df_saad,df_zumar], axis=0)\n",
    "df_surah_merge"
   ]
  },
  {
   "cell_type": "code",
   "execution_count": null,
   "metadata": {},
   "outputs": [],
   "source": [
    "df_surah_merge.to_excel(\"Faatir_Yaseen_Saaffaat_Saad_Zumar_Surah_Translate_Concat.xlsx\", index=False)"
   ]
  },
  {
   "cell_type": "code",
   "execution_count": null,
   "metadata": {},
   "outputs": [],
   "source": []
  },
  {
   "cell_type": "code",
   "execution_count": null,
   "metadata": {},
   "outputs": [],
   "source": []
  },
  {
   "cell_type": "code",
   "execution_count": null,
   "metadata": {},
   "outputs": [],
   "source": []
  }
 ],
 "metadata": {
  "interpreter": {
   "hash": "651d507d70892fab0fc6529d935cd476f6e2eb1791525b76da6cc8da34bc0503"
  },
  "kernelspec": {
   "display_name": "Python 3.9.5 ('py39')",
   "language": "python",
   "name": "python3"
  },
  "language_info": {
   "codemirror_mode": {
    "name": "ipython",
    "version": 3
   },
   "file_extension": ".py",
   "mimetype": "text/x-python",
   "name": "python",
   "nbconvert_exporter": "python",
   "pygments_lexer": "ipython3",
   "version": "3.9.5"
  },
  "orig_nbformat": 4
 },
 "nbformat": 4,
 "nbformat_minor": 2
}
