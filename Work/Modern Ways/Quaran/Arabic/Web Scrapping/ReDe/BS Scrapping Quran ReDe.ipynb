{
 "cells": [
  {
   "cell_type": "markdown",
   "metadata": {},
   "source": [
    "### Web Scrapping"
   ]
  },
  {
   "cell_type": "code",
   "execution_count": null,
   "metadata": {},
   "outputs": [],
   "source": [
    "# !pip install --upgrade pip\n",
    "# !pip install beautifulsoup4 --upgrade\n",
    "# pip install lxml\n",
    "# pip install html5lib"
   ]
  },
  {
   "cell_type": "code",
   "execution_count": 1,
   "metadata": {},
   "outputs": [],
   "source": [
    "import pandas as pd\n",
    "from urllib.request import urlopen\n",
    "from bs4 import BeautifulSoup\n",
    "from json2html import *\n",
    "import re\n",
    "import requests\n",
    "from urllib.request import Request, urlopen\n",
    "from urllib import parse\n",
    "import glob"
   ]
  },
  {
   "cell_type": "markdown",
   "metadata": {},
   "source": [
    "#### External HTML File From Browser Element Section "
   ]
  },
  {
   "cell_type": "code",
   "execution_count": 146,
   "metadata": {},
   "outputs": [],
   "source": [
    "lang = \"bangla\"  # indonesian, turkish, russian, english, urdu, hindi, bangla\n",
    "surah = \"adh dhaariyat\"  # al faatiha, al baqara, aal i imraan ...\n",
    "folder = f\"{surah}-51\"  # al faatiha-1, al baqara-2, aal i imraan-3 ...\n",
    "file = f\"{surah.lower()}_{lang.lower()}\""
   ]
  },
  {
   "cell_type": "code",
   "execution_count": 147,
   "metadata": {},
   "outputs": [
    {
     "data": {
      "text/html": [
       "<div>\n",
       "<style scoped>\n",
       "    .dataframe tbody tr th:only-of-type {\n",
       "        vertical-align: middle;\n",
       "    }\n",
       "\n",
       "    .dataframe tbody tr th {\n",
       "        vertical-align: top;\n",
       "    }\n",
       "\n",
       "    .dataframe thead th {\n",
       "        text-align: right;\n",
       "    }\n",
       "</style>\n",
       "<table border=\"1\" class=\"dataframe\">\n",
       "  <thead>\n",
       "    <tr style=\"text-align: right;\">\n",
       "      <th></th>\n",
       "      <th>arabic</th>\n",
       "      <th>transliterate</th>\n",
       "      <th>translate_bangla</th>\n",
       "    </tr>\n",
       "  </thead>\n",
       "  <tbody>\n",
       "    <tr>\n",
       "      <th>0</th>\n",
       "      <td>وَٱلذَّـٰرِيَٰتِ</td>\n",
       "      <td>wal-dhariyati</td>\n",
       "      <td>শপথ বিক্ষিপ্তকারীদের (অর্থাৎ বাতাসের)</td>\n",
       "    </tr>\n",
       "    <tr>\n",
       "      <th>1</th>\n",
       "      <td>ذَرۡوٗا</td>\n",
       "      <td>dharwan</td>\n",
       "      <td>বিক্ষিপ্ত করার মতো (যা ধুলাবালি)</td>\n",
       "    </tr>\n",
       "    <tr>\n",
       "      <th>2</th>\n",
       "      <td>فَٱلۡحَٰمِلَٰتِ</td>\n",
       "      <td>fal-hamilati</td>\n",
       "      <td>অতঃপর বহনকারীর</td>\n",
       "    </tr>\n",
       "    <tr>\n",
       "      <th>3</th>\n",
       "      <td>وِقۡرٗا</td>\n",
       "      <td>wiq'ran</td>\n",
       "      <td>ভার (অর্থাৎ মেঘ)</td>\n",
       "    </tr>\n",
       "    <tr>\n",
       "      <th>4</th>\n",
       "      <td>فَٱلۡجَٰرِيَٰتِ</td>\n",
       "      <td>fal-jariyati</td>\n",
       "      <td>অতঃপর বয়ে যাওয়া বাতাসের</td>\n",
       "    </tr>\n",
       "    <tr>\n",
       "      <th>...</th>\n",
       "      <td>...</td>\n",
       "      <td>...</td>\n",
       "      <td>...</td>\n",
       "    </tr>\n",
       "    <tr>\n",
       "      <th>355</th>\n",
       "      <td>كَفَرُواْ</td>\n",
       "      <td>kafaru</td>\n",
       "      <td>অস্বীকার করেছে</td>\n",
       "    </tr>\n",
       "    <tr>\n",
       "      <th>356</th>\n",
       "      <td>مِن</td>\n",
       "      <td>min</td>\n",
       "      <td>ব্যাপারে</td>\n",
       "    </tr>\n",
       "    <tr>\n",
       "      <th>357</th>\n",
       "      <td>يَوۡمِهِمُ</td>\n",
       "      <td>yawmihimu</td>\n",
       "      <td>তাদের (সেই) দিনের</td>\n",
       "    </tr>\n",
       "    <tr>\n",
       "      <th>358</th>\n",
       "      <td>ٱلَّذِي</td>\n",
       "      <td>alladhi</td>\n",
       "      <td>যার</td>\n",
       "    </tr>\n",
       "    <tr>\n",
       "      <th>359</th>\n",
       "      <td>يُوعَدُونَ</td>\n",
       "      <td>yu'aduna</td>\n",
       "      <td>ভয় তাদের দেখান হয়েছে</td>\n",
       "    </tr>\n",
       "  </tbody>\n",
       "</table>\n",
       "<p>360 rows × 3 columns</p>\n",
       "</div>"
      ],
      "text/plain": [
       "               arabic  transliterate                       translate_bangla\n",
       "0    وَٱلذَّـٰرِيَٰتِ  wal-dhariyati  শপথ বিক্ষিপ্তকারীদের (অর্থাৎ বাতাসের)\n",
       "1             ذَرۡوٗا        dharwan       বিক্ষিপ্ত করার মতো (যা ধুলাবালি)\n",
       "2     فَٱلۡحَٰمِلَٰتِ   fal-hamilati                         অতঃপর বহনকারীর\n",
       "3             وِقۡرٗا        wiq'ran                       ভার (অর্থাৎ মেঘ)\n",
       "4     فَٱلۡجَٰرِيَٰتِ   fal-jariyati                অতঃপর বয়ে যাওয়া বাতাসের\n",
       "..                ...            ...                                    ...\n",
       "355         كَفَرُواْ         kafaru                         অস্বীকার করেছে\n",
       "356               مِن            min                               ব্যাপারে\n",
       "357        يَوۡمِهِمُ      yawmihimu                      তাদের (সেই) দিনের\n",
       "358           ٱلَّذِي        alladhi                                    যার\n",
       "359        يُوعَدُونَ       yu'aduna                 ভয় তাদের দেখান হয়েছে\n",
       "\n",
       "[360 rows x 3 columns]"
      ]
     },
     "execution_count": 147,
     "metadata": {},
     "output_type": "execute_result"
    }
   ],
   "source": [
    "HTMLFile = open(f\"/media/kurubal/SSD/Data Scientist/Work/Modern Ways/Project/Arabic/Quaran/Web Scrapping/Data/{folder.lower().capitalize()}/{file.lower()}.html\", \"r\") # ayahs-block\n",
    "\n",
    "content = HTMLFile.read()\n",
    "\n",
    "soup = BeautifulSoup(content, 'lxml')\n",
    "\n",
    "ayah_word = soup.findAll('span', attrs={\"class\":\"single-word\"})\n",
    "\n",
    "word_list = []\n",
    "for word in ayah_word:\n",
    "    var1 = word.find('span', attrs={\"class\":\"word-arabic word-arabic-uthmani-hafs\"})\n",
    "    #try:\n",
    "    #    #arabic = var1.get_text()\n",
    "    #    arabic = var1.string\n",
    "    #except:\n",
    "    #    arabic = \"\"\n",
    "    #arabic = var1.get_text()\n",
    "    arabic = var1.string\n",
    "    var2 = word.find('span', attrs={\"class\":\"word-transliteration\"})\n",
    "    transliterate = var2.string\n",
    "    var3 = word.find('span', attrs={\"class\":\"word-translation\"})\n",
    "    translate = var3.string\n",
    "    word_list.append((arabic, transliterate, translate))\n",
    "\n",
    "df_word_list = pd.DataFrame(word_list)\n",
    "df_word_list.rename(columns={0:\"arabic\", 1:\"transliterate\", 2:f\"translate_{lang.lower()}\"}, inplace=True)\n",
    "df_word_list"
   ]
  },
  {
   "cell_type": "code",
   "execution_count": 148,
   "metadata": {},
   "outputs": [],
   "source": [
    "df_word_list.to_excel(f\"{surah.lower().capitalize()}_Arabic_Transliterate_Translate_Words_{lang.lower().capitalize()}.xlsx\", index=False)"
   ]
  },
  {
   "cell_type": "code",
   "execution_count": null,
   "metadata": {},
   "outputs": [],
   "source": []
  },
  {
   "cell_type": "markdown",
   "metadata": {},
   "source": [
    "#### Merge Word All Translate"
   ]
  },
  {
   "cell_type": "code",
   "execution_count": 149,
   "metadata": {},
   "outputs": [
    {
     "data": {
      "text/plain": [
       "['Adh dhaariyat_Arabic_Transliterate_Translate_Words_Indonesian.xlsx',\n",
       " 'Adh dhaariyat_Arabic_Transliterate_Translate_Words_Turkish.xlsx',\n",
       " 'Adh dhaariyat_Arabic_Transliterate_Translate_Words_Russian.xlsx',\n",
       " 'Adh dhaariyat_Arabic_Transliterate_Translate_Words_English.xlsx',\n",
       " 'Adh dhaariyat_Arabic_Transliterate_Translate_Words_Urdu.xlsx',\n",
       " 'Adh dhaariyat_Arabic_Transliterate_Translate_Words_Hindi.xlsx',\n",
       " 'Adh dhaariyat_Arabic_Transliterate_Translate_Words_Bangla.xlsx']"
      ]
     },
     "execution_count": 149,
     "metadata": {},
     "output_type": "execute_result"
    }
   ],
   "source": [
    "all_trans_file = glob.glob(f\"{surah.lower().capitalize()}*\")\n",
    "all_trans_file"
   ]
  },
  {
   "cell_type": "code",
   "execution_count": 150,
   "metadata": {},
   "outputs": [
    {
     "data": {
      "text/html": [
       "<div>\n",
       "<style scoped>\n",
       "    .dataframe tbody tr th:only-of-type {\n",
       "        vertical-align: middle;\n",
       "    }\n",
       "\n",
       "    .dataframe tbody tr th {\n",
       "        vertical-align: top;\n",
       "    }\n",
       "\n",
       "    .dataframe thead th {\n",
       "        text-align: right;\n",
       "    }\n",
       "</style>\n",
       "<table border=\"1\" class=\"dataframe\">\n",
       "  <thead>\n",
       "    <tr style=\"text-align: right;\">\n",
       "      <th></th>\n",
       "      <th>arabic</th>\n",
       "      <th>transliterate</th>\n",
       "      <th>translate_english</th>\n",
       "      <th>translate_urdu</th>\n",
       "      <th>translate_hindi</th>\n",
       "      <th>translate_indonesian</th>\n",
       "      <th>translate_bangla</th>\n",
       "      <th>translate_turkish</th>\n",
       "      <th>translate_russian</th>\n",
       "    </tr>\n",
       "  </thead>\n",
       "  <tbody>\n",
       "    <tr>\n",
       "      <th>0</th>\n",
       "      <td>وَٱلذَّـٰرِيَٰتِ</td>\n",
       "      <td>wal-dhariyati</td>\n",
       "      <td>By those scattering</td>\n",
       "      <td>قسم ہے ان ہواؤں کی جو گرد اڑانے والی ہیں</td>\n",
       "      <td>क़सम है उन हवाओं की जो बिखेरने वाली हैं</td>\n",
       "      <td>demi yang menerbangkan</td>\n",
       "      <td>শপথ বিক্ষিপ্তকারীদের (অর্থাৎ বাতাসের)</td>\n",
       "      <td>kaldıran(rüzgar)lara andolsun</td>\n",
       "      <td>Клянусь рассеивающими</td>\n",
       "    </tr>\n",
       "    <tr>\n",
       "      <th>1</th>\n",
       "      <td>ذَرۡوٗا</td>\n",
       "      <td>dharwan</td>\n",
       "      <td>dispersing</td>\n",
       "      <td>گرد اڑانا</td>\n",
       "      <td>उड़ा कर</td>\n",
       "      <td>dengan menerbangkan sekuat-kuatnya</td>\n",
       "      <td>বিক্ষিপ্ত করার মতো (যা ধুলাবালি)</td>\n",
       "      <td>savurup</td>\n",
       "      <td>рассеиванием</td>\n",
       "    </tr>\n",
       "    <tr>\n",
       "      <th>2</th>\n",
       "      <td>فَٱلۡحَٰمِلَٰتِ</td>\n",
       "      <td>fal-hamilati</td>\n",
       "      <td>And those carrying</td>\n",
       "      <td>پھر اٹھانے والیاں ہیں</td>\n",
       "      <td>फिर उठाने वालियां हैं</td>\n",
       "      <td>maka yang mengandung</td>\n",
       "      <td>অতঃপর বহনকারীর</td>\n",
       "      <td>yüklü (bulut)lara andolsun</td>\n",
       "      <td>и несущими</td>\n",
       "    </tr>\n",
       "    <tr>\n",
       "      <th>3</th>\n",
       "      <td>وِقۡرٗا</td>\n",
       "      <td>wiq'ran</td>\n",
       "      <td>a load</td>\n",
       "      <td>بوجھ کو</td>\n",
       "      <td>बोझ को</td>\n",
       "      <td>beban berat</td>\n",
       "      <td>ভার (অর্থাৎ মেঘ)</td>\n",
       "      <td>ağır</td>\n",
       "      <td>ношу</td>\n",
       "    </tr>\n",
       "    <tr>\n",
       "      <th>4</th>\n",
       "      <td>فَٱلۡجَٰرِيَٰتِ</td>\n",
       "      <td>fal-jariyati</td>\n",
       "      <td>And those sailing</td>\n",
       "      <td>پھر چلنے والیاں ہیں</td>\n",
       "      <td>फिर चलने वालियां हैं</td>\n",
       "      <td>maka yang berlayar</td>\n",
       "      <td>অতঃপর বয়ে যাওয়া বাতাসের</td>\n",
       "      <td>akıp gidenlere andolsun</td>\n",
       "      <td>и плывущими</td>\n",
       "    </tr>\n",
       "    <tr>\n",
       "      <th>...</th>\n",
       "      <td>...</td>\n",
       "      <td>...</td>\n",
       "      <td>...</td>\n",
       "      <td>...</td>\n",
       "      <td>...</td>\n",
       "      <td>...</td>\n",
       "      <td>...</td>\n",
       "      <td>...</td>\n",
       "      <td>...</td>\n",
       "    </tr>\n",
       "    <tr>\n",
       "      <th>355</th>\n",
       "      <td>كَفَرُواْ</td>\n",
       "      <td>kafaru</td>\n",
       "      <td>disbelieve</td>\n",
       "      <td>جنہوں نے کفر کیا</td>\n",
       "      <td>कुफ़्र किया</td>\n",
       "      <td>kafir</td>\n",
       "      <td>অস্বীকার করেছে</td>\n",
       "      <td>*</td>\n",
       "      <td>стали неверующими</td>\n",
       "    </tr>\n",
       "    <tr>\n",
       "      <th>356</th>\n",
       "      <td>مِن</td>\n",
       "      <td>min</td>\n",
       "      <td>from</td>\n",
       "      <td>سے</td>\n",
       "      <td>*</td>\n",
       "      <td>dari</td>\n",
       "      <td>ব্যাপারে</td>\n",
       "      <td>dolayı</td>\n",
       "      <td>от</td>\n",
       "    </tr>\n",
       "    <tr>\n",
       "      <th>357</th>\n",
       "      <td>يَوۡمِهِمُ</td>\n",
       "      <td>yawmihimu</td>\n",
       "      <td>their Day</td>\n",
       "      <td>اس دن</td>\n",
       "      <td>उनके उस दिन से</td>\n",
       "      <td>pada hari mereka</td>\n",
       "      <td>তাদের (সেই) দিনের</td>\n",
       "      <td>günlerinden</td>\n",
       "      <td>дня их</td>\n",
       "    </tr>\n",
       "    <tr>\n",
       "      <th>358</th>\n",
       "      <td>ٱلَّذِي</td>\n",
       "      <td>alladhi</td>\n",
       "      <td>which</td>\n",
       "      <td>ان کے</td>\n",
       "      <td>जिसका</td>\n",
       "      <td>yang</td>\n",
       "      <td>যার</td>\n",
       "      <td>uyarıldıkları</td>\n",
       "      <td>который</td>\n",
       "    </tr>\n",
       "    <tr>\n",
       "      <th>359</th>\n",
       "      <td>يُوعَدُونَ</td>\n",
       "      <td>yu'aduna</td>\n",
       "      <td>they are promised</td>\n",
       "      <td>وہ جو وہ وعدہ کیے جاتے ہیں</td>\n",
       "      <td>वो वादा दिए जाते हैं</td>\n",
       "      <td>mereka diancam</td>\n",
       "      <td>ভয় তাদের দেখান হয়েছে</td>\n",
       "      <td>*</td>\n",
       "      <td>им обещается.</td>\n",
       "    </tr>\n",
       "  </tbody>\n",
       "</table>\n",
       "<p>360 rows × 9 columns</p>\n",
       "</div>"
      ],
      "text/plain": [
       "               arabic  transliterate    translate_english  \\\n",
       "0    وَٱلذَّـٰرِيَٰتِ  wal-dhariyati  By those scattering   \n",
       "1             ذَرۡوٗا        dharwan           dispersing   \n",
       "2     فَٱلۡحَٰمِلَٰتِ   fal-hamilati   And those carrying   \n",
       "3             وِقۡرٗا        wiq'ran               a load   \n",
       "4     فَٱلۡجَٰرِيَٰتِ   fal-jariyati    And those sailing   \n",
       "..                ...            ...                  ...   \n",
       "355         كَفَرُواْ         kafaru           disbelieve   \n",
       "356               مِن            min                 from   \n",
       "357        يَوۡمِهِمُ      yawmihimu            their Day   \n",
       "358           ٱلَّذِي        alladhi                which   \n",
       "359        يُوعَدُونَ       yu'aduna    they are promised   \n",
       "\n",
       "                               translate_urdu  \\\n",
       "0    قسم ہے ان ہواؤں کی جو گرد اڑانے والی ہیں   \n",
       "1                                   گرد اڑانا   \n",
       "2                       پھر اٹھانے والیاں ہیں   \n",
       "3                                     بوجھ کو   \n",
       "4                         پھر چلنے والیاں ہیں   \n",
       "..                                        ...   \n",
       "355                          جنہوں نے کفر کیا   \n",
       "356                                        سے   \n",
       "357                                     اس دن   \n",
       "358                                     ان کے   \n",
       "359                وہ جو وہ وعدہ کیے جاتے ہیں   \n",
       "\n",
       "                             translate_hindi  \\\n",
       "0    क़सम है उन हवाओं की जो बिखेरने वाली हैं   \n",
       "1                                    उड़ा कर   \n",
       "2                      फिर उठाने वालियां हैं   \n",
       "3                                    बोझ को    \n",
       "4                       फिर चलने वालियां हैं   \n",
       "..                                       ...   \n",
       "355                              कुफ़्र किया   \n",
       "356                                        *   \n",
       "357                          उनके उस दिन से    \n",
       "358                                   जिसका    \n",
       "359                     वो वादा दिए जाते हैं   \n",
       "\n",
       "                   translate_indonesian  \\\n",
       "0                demi yang menerbangkan   \n",
       "1    dengan menerbangkan sekuat-kuatnya   \n",
       "2                  maka yang mengandung   \n",
       "3                           beban berat   \n",
       "4                    maka yang berlayar   \n",
       "..                                  ...   \n",
       "355                               kafir   \n",
       "356                                dari   \n",
       "357                    pada hari mereka   \n",
       "358                                yang   \n",
       "359                      mereka diancam   \n",
       "\n",
       "                          translate_bangla              translate_turkish  \\\n",
       "0    শপথ বিক্ষিপ্তকারীদের (অর্থাৎ বাতাসের)  kaldıran(rüzgar)lara andolsun   \n",
       "1         বিক্ষিপ্ত করার মতো (যা ধুলাবালি)                        savurup   \n",
       "2                           অতঃপর বহনকারীর     yüklü (bulut)lara andolsun   \n",
       "3                         ভার (অর্থাৎ মেঘ)                           ağır   \n",
       "4                  অতঃপর বয়ে যাওয়া বাতাসের        akıp gidenlere andolsun   \n",
       "..                                     ...                            ...   \n",
       "355                         অস্বীকার করেছে                              *   \n",
       "356                               ব্যাপারে                         dolayı   \n",
       "357                      তাদের (সেই) দিনের                    günlerinden   \n",
       "358                                    যার                  uyarıldıkları   \n",
       "359                 ভয় তাদের দেখান হয়েছে                              *   \n",
       "\n",
       "         translate_russian  \n",
       "0    Клянусь рассеивающими  \n",
       "1             рассеиванием  \n",
       "2               и несущими  \n",
       "3                     ношу  \n",
       "4              и плывущими  \n",
       "..                     ...  \n",
       "355      стали неверующими  \n",
       "356                     от  \n",
       "357                 дня их  \n",
       "358                который  \n",
       "359          им обещается.  \n",
       "\n",
       "[360 rows x 9 columns]"
      ]
     },
     "execution_count": 150,
     "metadata": {},
     "output_type": "execute_result"
    }
   ],
   "source": [
    "df_master = pd.read_excel(all_trans_file[0])\n",
    "for i in all_trans_file[1:]:\n",
    "    df_var = pd.read_excel(f\"{i}\")\n",
    "    #df_master = pd.merge(df_master, df_var, how=\"left\", on=[\"arabic\",\"transliterate\"])\n",
    "    df_master = pd.concat([df_master,df_var.iloc[:,2]], axis=1)\n",
    "    #df_master = df_master.join(df_var, how=\"left\", lsuffix=[\"arabic\",\"transliterate\"],rsuffix=[\"arabic\",\"transliterate\"])\n",
    "    #df_master.drop_duplicates(inplace=True)\n",
    "    df_master.reset_index(drop=True, inplace=True)\n",
    "df_master = df_master[[\"arabic\",\"transliterate\",\"translate_english\",\"translate_urdu\",\"translate_hindi\",\"translate_indonesian\",\"translate_bangla\",\"translate_turkish\",\"translate_russian\"]]\n",
    "df_master"
   ]
  },
  {
   "cell_type": "code",
   "execution_count": 151,
   "metadata": {},
   "outputs": [],
   "source": [
    "df_master.to_excel(f\"{surah.lower().capitalize()}_Arabic_Transliterate_Translate_Words_Languages_Concat.xlsx\", index=False)"
   ]
  },
  {
   "cell_type": "code",
   "execution_count": null,
   "metadata": {},
   "outputs": [],
   "source": []
  },
  {
   "cell_type": "markdown",
   "metadata": {},
   "source": [
    "#### Merge Surah All Translate"
   ]
  },
  {
   "cell_type": "code",
   "execution_count": null,
   "metadata": {},
   "outputs": [],
   "source": [
    "def add_info(df,surah_name, surah_num, index):\n",
    "    for i in range(len(df)):\n",
    "        df[\"surah latin\"] = surah_name\n",
    "        df[\"surah\"] = surah_num\n",
    "        df.loc[i,\"index\"] = i+index\n",
    "    return df"
   ]
  },
  {
   "cell_type": "code",
   "execution_count": null,
   "metadata": {},
   "outputs": [],
   "source": [
    "df_faatir = pd.read_excel(\"/media/kurubal/SSD/Data Scientist/Work/Modern Ways/Project/Arabic/Quaran/Web Scrapping/Result/Faatir-35/Faatir_Arabic_Transliterate_Translate_Words_Languages_Concat.xlsx\")\n",
    "df_faatir"
   ]
  },
  {
   "cell_type": "code",
   "execution_count": null,
   "metadata": {},
   "outputs": [],
   "source": [
    "df_faatir = add_info(df_faatir, \"Fatir\", 35, 56320)\n",
    "df_faatir = df_faatir.iloc[:,[10,9,0,1,2,3,4,5,6,7,8,11]]\n",
    "df_faatir"
   ]
  },
  {
   "cell_type": "code",
   "execution_count": null,
   "metadata": {},
   "outputs": [],
   "source": []
  },
  {
   "cell_type": "code",
   "execution_count": null,
   "metadata": {},
   "outputs": [],
   "source": [
    "df_yaseen = pd.read_excel(\"/media/kurubal/SSD/Data Scientist/Work/Modern Ways/Project/Arabic/Quaran/Web Scrapping/Result/Yaseen-36/Yaseen_Arabic_Transliterate_Translate_Words_Languages_Concat.xlsx\")\n",
    "df_yaseen"
   ]
  },
  {
   "cell_type": "code",
   "execution_count": null,
   "metadata": {},
   "outputs": [],
   "source": [
    "df_yaseen = add_info(df_yaseen, \"Ya Seen\", 36, 57102)\n",
    "df_yaseen = df_yaseen.iloc[:,[10,9,0,1,2,3,4,5,6,7,8,11]]\n",
    "df_yaseen"
   ]
  },
  {
   "cell_type": "code",
   "execution_count": null,
   "metadata": {},
   "outputs": [],
   "source": []
  },
  {
   "cell_type": "code",
   "execution_count": null,
   "metadata": {},
   "outputs": [],
   "source": [
    "df_saaffaat = pd.read_excel(\"/media/kurubal/SSD/Data Scientist/Work/Modern Ways/Project/Arabic/Quaran/Web Scrapping/Result/As Saaffaat-37/As saaffaat_Arabic_Transliterate_Translate_Words_Languages_Concat.xlsx\")\n",
    "df_saaffaat"
   ]
  },
  {
   "cell_type": "code",
   "execution_count": null,
   "metadata": {},
   "outputs": [],
   "source": [
    "df_saaffaat = add_info(df_saaffaat, \"As-Saffat\", 37, 57836)\n",
    "df_saaffaat = df_saaffaat.iloc[:,[10,9,0,1,2,3,4,5,6,7,8,11]]\n",
    "df_saaffaat"
   ]
  },
  {
   "cell_type": "code",
   "execution_count": null,
   "metadata": {},
   "outputs": [],
   "source": []
  },
  {
   "cell_type": "code",
   "execution_count": null,
   "metadata": {},
   "outputs": [],
   "source": [
    "df_saad = pd.read_excel(\"/media/kurubal/SSD/Data Scientist/Work/Modern Ways/Project/Arabic/Quaran/Web Scrapping/Result/Saad-38/Saad_Arabic_Transliterate_Translate_Words_Languages_Concat.xlsx\")\n",
    "df_saad"
   ]
  },
  {
   "cell_type": "code",
   "execution_count": null,
   "metadata": {},
   "outputs": [],
   "source": [
    "df_saad = add_info(df_saad, \"Sad\", 38, 58705)\n",
    "df_saad = df_saad.iloc[:,[10,9,0,1,2,3,4,5,6,7,8,11]]\n",
    "df_saad"
   ]
  },
  {
   "cell_type": "code",
   "execution_count": null,
   "metadata": {},
   "outputs": [],
   "source": []
  },
  {
   "cell_type": "code",
   "execution_count": null,
   "metadata": {},
   "outputs": [],
   "source": [
    "df_zumar = pd.read_excel(\"/media/kurubal/SSD/Data Scientist/Work/Modern Ways/Project/Arabic/Quaran/Web Scrapping/Result/Az Zumar-39/Az zumar_Arabic_Transliterate_Translate_Words_Languages_Concat.xlsx\")\n",
    "df_zumar"
   ]
  },
  {
   "cell_type": "code",
   "execution_count": null,
   "metadata": {},
   "outputs": [],
   "source": [
    "df_zumar = add_info(df_zumar, \"Az-Zumar\", 39, 59444)\n",
    "df_zumar = df_zumar.iloc[:,[10,9,0,1,2,3,4,5,6,7,8,11]]\n",
    "df_zumar"
   ]
  },
  {
   "cell_type": "code",
   "execution_count": null,
   "metadata": {},
   "outputs": [],
   "source": [
    "df_surah_merge = pd.concat([df_faatir,df_yaseen,df_saaffaat,df_saad,df_zumar], axis=0)\n",
    "df_surah_merge"
   ]
  },
  {
   "cell_type": "code",
   "execution_count": null,
   "metadata": {},
   "outputs": [],
   "source": [
    "df_surah_merge.to_excel(\"Faatir_Yaseen_Saaffaat_Saad_Zumar_Surah_Translate_Concat.xlsx\", index=False)"
   ]
  },
  {
   "cell_type": "code",
   "execution_count": null,
   "metadata": {},
   "outputs": [],
   "source": []
  },
  {
   "cell_type": "code",
   "execution_count": null,
   "metadata": {},
   "outputs": [],
   "source": []
  },
  {
   "cell_type": "code",
   "execution_count": null,
   "metadata": {},
   "outputs": [],
   "source": []
  }
 ],
 "metadata": {
  "interpreter": {
   "hash": "651d507d70892fab0fc6529d935cd476f6e2eb1791525b76da6cc8da34bc0503"
  },
  "kernelspec": {
   "display_name": "Python 3.9.5 ('py39')",
   "language": "python",
   "name": "python3"
  },
  "language_info": {
   "codemirror_mode": {
    "name": "ipython",
    "version": 3
   },
   "file_extension": ".py",
   "mimetype": "text/x-python",
   "name": "python",
   "nbconvert_exporter": "python",
   "pygments_lexer": "ipython3",
   "version": "3.9.5"
  },
  "orig_nbformat": 4
 },
 "nbformat": 4,
 "nbformat_minor": 2
}
