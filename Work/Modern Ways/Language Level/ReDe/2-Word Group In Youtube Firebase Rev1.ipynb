{
 "cells": [
  {
   "cell_type": "markdown",
   "metadata": {},
   "source": [
    "### Word Group In Youtube Firebase"
   ]
  },
  {
   "cell_type": "code",
   "execution_count": 1,
   "metadata": {},
   "outputs": [],
   "source": [
    "import firebase_admin\n",
    "from firebase_admin import credentials, firestore, storage"
   ]
  },
  {
   "cell_type": "code",
   "execution_count": 2,
   "metadata": {},
   "outputs": [],
   "source": [
    "import os\n",
    "import multiprocessing\n",
    "#import multiprocessing as mp\n",
    "from multiprocessing import Process, Manager, Pool, Queue\n",
    "from itertools import islice\n",
    "from collections import Counter\n",
    "import re\n",
    "import pandas as pd\n",
    "import numpy as np\n",
    "import glob\n",
    "import nltk\n",
    "from nltk import word_tokenize\n",
    "from functools import reduce\n",
    "from pathlib import Path\n",
    "import shutil"
   ]
  },
  {
   "cell_type": "code",
   "execution_count": 3,
   "metadata": {},
   "outputs": [
    {
     "name": "stdout",
     "output_type": "stream",
     "text": [
      "Number of CPU cores: 16\n"
     ]
    }
   ],
   "source": [
    "nprocs = multiprocessing.cpu_count()\n",
    "print(f\"Number of CPU cores: {nprocs}\")"
   ]
  },
  {
   "cell_type": "code",
   "execution_count": 4,
   "metadata": {},
   "outputs": [
    {
     "name": "stdout",
     "output_type": "stream",
     "text": [
      "Language = Turkish\n",
      "Lang Id = 2\n",
      "File Extention = 6\n"
     ]
    }
   ],
   "source": [
    "# language pair\n",
    "lang_folder = \"Turkish\"  # Arabic, English, French, German, Turkish, Spanish, Portuguese, Dutch, Italian ==> target language for learner\n",
    "#lang_pair = \"English\"  # Arabic, English, French, German, Turkish, Spanish, Portuguese, Dutch, Italian ==> native language\n",
    "\n",
    "# language detail num\n",
    "if lang_folder == \"English\":\n",
    "    lang_id = \"1\"\n",
    "elif lang_folder == \"Turkish\":\n",
    "    lang_id = \"2\"\n",
    "elif lang_folder == \"French\":\n",
    "    lang_id = \"3\"\n",
    "elif lang_folder == \"Spanish\":\n",
    "    lang_id = \"4\"\n",
    "elif lang_folder == \"Portuguese\":\n",
    "    lang_id = \"5\"\n",
    "elif lang_folder == \"Dutch\":\n",
    "    lang_id = \"6\"\n",
    "elif lang_folder == \"Italian\":\n",
    "    lang_id = \"7\"\n",
    "elif lang_folder == \"German\":\n",
    "    lang_id = \"8\"\n",
    "elif lang_folder == \"Arabic\":\n",
    "    lang_id = \"9\"\n",
    "else:\n",
    "    pass\n",
    "\n",
    "# prefix suffix file\n",
    "prefix_suffix = False  # True, False  # True for adding prefix suffix word\n",
    "native_word = True # True for adding native word\n",
    "\n",
    "# adding output file extention\n",
    "if prefix_suffix & native_word:\n",
    "    file_ext = \"5\"\n",
    "elif (not prefix_suffix) & native_word:\n",
    "    file_ext = \"6\"\n",
    "else:\n",
    "    file_ext = \"7\"              \n",
    "\n",
    "# 5 => for only native word with prefix suffix.\n",
    "# 6 => for only native word without prefix suffix.\n",
    "\n",
    "print(f\"Language = {lang_folder}\\nLang Id = {lang_id}\\nFile Extention = {file_ext}\")"
   ]
  },
  {
   "cell_type": "code",
   "execution_count": 5,
   "metadata": {},
   "outputs": [],
   "source": [
    "path = f\"/media/kurubal/SSD/Data Scientist/Work/Modern Ways/Project/{lang_folder.capitalize()}/\\\n",
    "Language Level/Result/2-Word Group In Youtube Sentence Firebase/{lang_folder.capitalize()}\"\n",
    "\n",
    "#Path(path).mkdir(parents=True, exist_ok=True)"
   ]
  },
  {
   "cell_type": "code",
   "execution_count": 6,
   "metadata": {},
   "outputs": [],
   "source": [
    "cred = credentials.Certificate(\"/home/kurubal/Documents/Firebase/Flash Card/Api Key/flashcard-1c46e-firebase-adminsdk-b4kn5-5ddbde56b3.json\")  # Flash Card\n",
    "#cred = credentials.Certificate(\"/home/kurubal/Documents/Firebase/Quran With Flashcards/Api Key/quran-with-flashcards-firebase-adminsdk-t8xhw-202e2c7561.json\")  # Quran with Flashcards\n",
    "app = firebase_admin.initialize_app(cred)"
   ]
  },
  {
   "cell_type": "code",
   "execution_count": 7,
   "metadata": {},
   "outputs": [],
   "source": [
    "fire_db = firestore.client()"
   ]
  },
  {
   "cell_type": "markdown",
   "metadata": {},
   "source": [
    "#### Read Data"
   ]
  },
  {
   "cell_type": "code",
   "execution_count": 8,
   "metadata": {},
   "outputs": [
    {
     "data": {
      "text/html": [
       "<div>\n",
       "<style scoped>\n",
       "    .dataframe tbody tr th:only-of-type {\n",
       "        vertical-align: middle;\n",
       "    }\n",
       "\n",
       "    .dataframe tbody tr th {\n",
       "        vertical-align: top;\n",
       "    }\n",
       "\n",
       "    .dataframe thead th {\n",
       "        text-align: right;\n",
       "    }\n",
       "</style>\n",
       "<table border=\"1\" class=\"dataframe\">\n",
       "  <thead>\n",
       "    <tr style=\"text-align: right;\">\n",
       "      <th></th>\n",
       "      <th>search_string</th>\n",
       "      <th>start_time</th>\n",
       "      <th>end_time</th>\n",
       "      <th>sentence</th>\n",
       "      <th>video_id</th>\n",
       "      <th>video_url</th>\n",
       "    </tr>\n",
       "  </thead>\n",
       "  <tbody>\n",
       "    <tr>\n",
       "      <th>0</th>\n",
       "      <td>yok çok değil o kadar da değil</td>\n",
       "      <td>4267</td>\n",
       "      <td>4268</td>\n",
       "      <td>yok çok değil o kadar da değil</td>\n",
       "      <td>IGJVw1HjIHc</td>\n",
       "      <td>https://www.youtube.com/watch?v=IGJVw1HjIHc&amp;t=...</td>\n",
       "    </tr>\n",
       "    <tr>\n",
       "      <th>1</th>\n",
       "      <td>yok yok yok sen onu değil bunu</td>\n",
       "      <td>5166</td>\n",
       "      <td>5168</td>\n",
       "      <td>yok yok yok sen onu değil bunu al</td>\n",
       "      <td>t4G3MB0ULX4</td>\n",
       "      <td>https://www.youtube.com/watch?v=t4G3MB0ULX4&amp;t=...</td>\n",
       "    </tr>\n",
       "    <tr>\n",
       "      <th>2</th>\n",
       "      <td>ama bu o kadar şey değil evet</td>\n",
       "      <td>394</td>\n",
       "      <td>397</td>\n",
       "      <td>ama bu o kadar şey değil evet</td>\n",
       "      <td>U4CqkDvAE_Q</td>\n",
       "      <td>https://www.youtube.com/watch?v=U4CqkDvAE_Q&amp;t=...</td>\n",
       "    </tr>\n",
       "    <tr>\n",
       "      <th>3</th>\n",
       "      <td>da var yok yok daha çok var</td>\n",
       "      <td>2037</td>\n",
       "      <td>2039</td>\n",
       "      <td>yarına da var yok yok daha çok var</td>\n",
       "      <td>zXR_pFRSE7s</td>\n",
       "      <td>https://www.youtube.com/watch?v=zXR_pFRSE7s&amp;t=...</td>\n",
       "    </tr>\n",
       "    <tr>\n",
       "      <th>4</th>\n",
       "      <td>var gibi de ama yok gibi de</td>\n",
       "      <td>64</td>\n",
       "      <td>68</td>\n",
       "      <td>var gibi de ama yok gibi de</td>\n",
       "      <td>ghAr1nU391c</td>\n",
       "      <td>https://www.youtube.com/watch?v=ghAr1nU391c&amp;t=64s</td>\n",
       "    </tr>\n",
       "    <tr>\n",
       "      <th>...</th>\n",
       "      <td>...</td>\n",
       "      <td>...</td>\n",
       "      <td>...</td>\n",
       "      <td>...</td>\n",
       "      <td>...</td>\n",
       "      <td>...</td>\n",
       "    </tr>\n",
       "    <tr>\n",
       "      <th>195</th>\n",
       "      <td>ben seni daha çok</td>\n",
       "      <td>21</td>\n",
       "      <td>22</td>\n",
       "      <td>ben seni daha çok</td>\n",
       "      <td>ZsPLU4hufVQ</td>\n",
       "      <td>https://www.youtube.com/watch?v=ZsPLU4hufVQ&amp;t=21s</td>\n",
       "    </tr>\n",
       "    <tr>\n",
       "      <th>196</th>\n",
       "      <td>ben seni daha çok</td>\n",
       "      <td>3356</td>\n",
       "      <td>3358</td>\n",
       "      <td>ben seni daha çok</td>\n",
       "      <td>qKdeiL8Zrsg</td>\n",
       "      <td>https://www.youtube.com/watch?v=qKdeiL8Zrsg&amp;t=...</td>\n",
       "    </tr>\n",
       "    <tr>\n",
       "      <th>197</th>\n",
       "      <td>bu da bir şey ama</td>\n",
       "      <td>4751</td>\n",
       "      <td>4753</td>\n",
       "      <td>tabii bu da bir şey ama</td>\n",
       "      <td>wBjDafmCd_c</td>\n",
       "      <td>https://www.youtube.com/watch?v=wBjDafmCd_c&amp;t=...</td>\n",
       "    </tr>\n",
       "    <tr>\n",
       "      <th>198</th>\n",
       "      <td>yok hayır bir şey</td>\n",
       "      <td>885</td>\n",
       "      <td>887</td>\n",
       "      <td>yok hayır bir şey yokl</td>\n",
       "      <td>5f6UWoANodU</td>\n",
       "      <td>https://www.youtube.com/watch?v=5f6UWoANodU&amp;t=...</td>\n",
       "    </tr>\n",
       "    <tr>\n",
       "      <th>199</th>\n",
       "      <td>yok o kadar değil</td>\n",
       "      <td>3683</td>\n",
       "      <td>3684</td>\n",
       "      <td>ay yok o kadar değil</td>\n",
       "      <td>HhxZTM_WB68</td>\n",
       "      <td>https://www.youtube.com/watch?v=HhxZTM_WB68&amp;t=...</td>\n",
       "    </tr>\n",
       "  </tbody>\n",
       "</table>\n",
       "<p>200 rows × 6 columns</p>\n",
       "</div>"
      ],
      "text/plain": [
       "                      search_string  start_time  end_time  \\\n",
       "0    yok çok değil o kadar da değil        4267      4268   \n",
       "1    yok yok yok sen onu değil bunu        5166      5168   \n",
       "2     ama bu o kadar şey değil evet         394       397   \n",
       "3       da var yok yok daha çok var        2037      2039   \n",
       "4       var gibi de ama yok gibi de          64        68   \n",
       "..                              ...         ...       ...   \n",
       "195               ben seni daha çok          21        22   \n",
       "196               ben seni daha çok        3356      3358   \n",
       "197               bu da bir şey ama        4751      4753   \n",
       "198               yok hayır bir şey         885       887   \n",
       "199               yok o kadar değil        3683      3684   \n",
       "\n",
       "                               sentence     video_id  \\\n",
       "0        yok çok değil o kadar da değil  IGJVw1HjIHc   \n",
       "1     yok yok yok sen onu değil bunu al  t4G3MB0ULX4   \n",
       "2         ama bu o kadar şey değil evet  U4CqkDvAE_Q   \n",
       "3    yarına da var yok yok daha çok var  zXR_pFRSE7s   \n",
       "4           var gibi de ama yok gibi de  ghAr1nU391c   \n",
       "..                                  ...          ...   \n",
       "195                   ben seni daha çok  ZsPLU4hufVQ   \n",
       "196                   ben seni daha çok  qKdeiL8Zrsg   \n",
       "197             tabii bu da bir şey ama  wBjDafmCd_c   \n",
       "198              yok hayır bir şey yokl  5f6UWoANodU   \n",
       "199                ay yok o kadar değil  HhxZTM_WB68   \n",
       "\n",
       "                                             video_url  \n",
       "0    https://www.youtube.com/watch?v=IGJVw1HjIHc&t=...  \n",
       "1    https://www.youtube.com/watch?v=t4G3MB0ULX4&t=...  \n",
       "2    https://www.youtube.com/watch?v=U4CqkDvAE_Q&t=...  \n",
       "3    https://www.youtube.com/watch?v=zXR_pFRSE7s&t=...  \n",
       "4    https://www.youtube.com/watch?v=ghAr1nU391c&t=64s  \n",
       "..                                                 ...  \n",
       "195  https://www.youtube.com/watch?v=ZsPLU4hufVQ&t=21s  \n",
       "196  https://www.youtube.com/watch?v=qKdeiL8Zrsg&t=...  \n",
       "197  https://www.youtube.com/watch?v=wBjDafmCd_c&t=...  \n",
       "198  https://www.youtube.com/watch?v=5f6UWoANodU&t=...  \n",
       "199  https://www.youtube.com/watch?v=HhxZTM_WB68&t=...  \n",
       "\n",
       "[200 rows x 6 columns]"
      ]
     },
     "execution_count": 8,
     "metadata": {},
     "output_type": "execute_result"
    }
   ],
   "source": [
    "df_28 = pd.read_csv(f\"{lang_folder.capitalize()}_Word_Group_Max_In_Youtube_Sentence_28_Word{file_ext}.csv\")\n",
    "df_28 = df_28.head(200)\n",
    "df_28"
   ]
  },
  {
   "cell_type": "code",
   "execution_count": 9,
   "metadata": {},
   "outputs": [
    {
     "data": {
      "text/html": [
       "<div>\n",
       "<style scoped>\n",
       "    .dataframe tbody tr th:only-of-type {\n",
       "        vertical-align: middle;\n",
       "    }\n",
       "\n",
       "    .dataframe tbody tr th {\n",
       "        vertical-align: top;\n",
       "    }\n",
       "\n",
       "    .dataframe thead th {\n",
       "        text-align: right;\n",
       "    }\n",
       "</style>\n",
       "<table border=\"1\" class=\"dataframe\">\n",
       "  <thead>\n",
       "    <tr style=\"text-align: right;\">\n",
       "      <th></th>\n",
       "      <th>search_string</th>\n",
       "      <th>start_time</th>\n",
       "      <th>end_time</th>\n",
       "      <th>sentence</th>\n",
       "      <th>video_id</th>\n",
       "      <th>video_url</th>\n",
       "    </tr>\n",
       "  </thead>\n",
       "  <tbody>\n",
       "    <tr>\n",
       "      <th>0</th>\n",
       "      <td>senin için önemli olan tek şey hala burada bil...</td>\n",
       "      <td>84</td>\n",
       "      <td>88</td>\n",
       "      <td>senin için önemli olan tek şey hala burada bil...</td>\n",
       "      <td>9Wx3JJTq_Hw</td>\n",
       "      <td>https://www.youtube.com/watch?v=9Wx3JJTq_Hw&amp;t=84s</td>\n",
       "    </tr>\n",
       "    <tr>\n",
       "      <th>1</th>\n",
       "      <td>bilmiyorum sen ne demek istiyorsun ben de onu ...</td>\n",
       "      <td>721</td>\n",
       "      <td>726</td>\n",
       "      <td>bilmiyorum sen ne demek istiyorsun ben de onu ...</td>\n",
       "      <td>ZdeFof81xKs</td>\n",
       "      <td>https://www.youtube.com/watch?v=ZdeFof81xKs&amp;t=...</td>\n",
       "    </tr>\n",
       "    <tr>\n",
       "      <th>2</th>\n",
       "      <td>var da bu bir sorun olur mu benim için ben bun...</td>\n",
       "      <td>7920</td>\n",
       "      <td>7926</td>\n",
       "      <td>var da bu bir sorun olur mu benim için ben bun...</td>\n",
       "      <td>zgQbOmPp9pk</td>\n",
       "      <td>https://www.youtube.com/watch?v=zgQbOmPp9pk&amp;t=...</td>\n",
       "    </tr>\n",
       "    <tr>\n",
       "      <th>3</th>\n",
       "      <td>o çok güzel oldu gerçekten herkes gibi oldu ge...</td>\n",
       "      <td>394</td>\n",
       "      <td>401</td>\n",
       "      <td>o çok güzel oldu gerçekten herkes gibi oldu ge...</td>\n",
       "      <td>f8iA6v4mRAY</td>\n",
       "      <td>https://www.youtube.com/watch?v=f8iA6v4mRAY&amp;t=...</td>\n",
       "    </tr>\n",
       "    <tr>\n",
       "      <th>4</th>\n",
       "      <td>gerçekten çok teşekkür ederim ya bu çok büyük ...</td>\n",
       "      <td>2257</td>\n",
       "      <td>2262</td>\n",
       "      <td>gerçekten çok teşekkür ederim ya bu çok büyük ...</td>\n",
       "      <td>a8Dov7B7alQ</td>\n",
       "      <td>https://www.youtube.com/watch?v=a8Dov7B7alQ&amp;t=...</td>\n",
       "    </tr>\n",
       "    <tr>\n",
       "      <th>...</th>\n",
       "      <td>...</td>\n",
       "      <td>...</td>\n",
       "      <td>...</td>\n",
       "      <td>...</td>\n",
       "      <td>...</td>\n",
       "      <td>...</td>\n",
       "    </tr>\n",
       "    <tr>\n",
       "      <th>195</th>\n",
       "      <td>gerek yok çok teşekkür ederim ben zaten birkaç</td>\n",
       "      <td>186</td>\n",
       "      <td>190</td>\n",
       "      <td>gerek yok çok teşekkür ederim ben zaten birkaç...</td>\n",
       "      <td>zpfhmsZB26w</td>\n",
       "      <td>https://www.youtube.com/watch?v=zpfhmsZB26w&amp;t=...</td>\n",
       "    </tr>\n",
       "    <tr>\n",
       "      <th>196</th>\n",
       "      <td>senin için ne demek olduğunu çok iyi biliyorum</td>\n",
       "      <td>7727</td>\n",
       "      <td>7730</td>\n",
       "      <td>polisliğin senin için ne demek olduğunu çok iy...</td>\n",
       "      <td>pWZnIAh9MXo</td>\n",
       "      <td>https://www.youtube.com/watch?v=pWZnIAh9MXo&amp;t=...</td>\n",
       "    </tr>\n",
       "    <tr>\n",
       "      <th>197</th>\n",
       "      <td>ben gerçekten her şey için çok teşekkür ederim</td>\n",
       "      <td>875</td>\n",
       "      <td>878</td>\n",
       "      <td>ben gerçekten her şey için çok teşekkür ederim</td>\n",
       "      <td>d3LdJzLdpCI</td>\n",
       "      <td>https://www.youtube.com/watch?v=d3LdJzLdpCI&amp;t=...</td>\n",
       "    </tr>\n",
       "    <tr>\n",
       "      <th>198</th>\n",
       "      <td>ki bu aslında bana iyi geldi çünkü o zaman şey</td>\n",
       "      <td>368</td>\n",
       "      <td>371</td>\n",
       "      <td>ki bu aslında bana iyi geldi çünkü o zaman şey...</td>\n",
       "      <td>X2DdZUtPDoU</td>\n",
       "      <td>https://www.youtube.com/watch?v=X2DdZUtPDoU&amp;t=...</td>\n",
       "    </tr>\n",
       "    <tr>\n",
       "      <th>199</th>\n",
       "      <td>yoksa bu çok güzel bir sonra en fazla ne kadar</td>\n",
       "      <td>2011</td>\n",
       "      <td>2015</td>\n",
       "      <td>kadar kazanabilirsin yoksa bu çok güzel bir so...</td>\n",
       "      <td>Rm6zwwnAVeA</td>\n",
       "      <td>https://www.youtube.com/watch?v=Rm6zwwnAVeA&amp;t=...</td>\n",
       "    </tr>\n",
       "  </tbody>\n",
       "</table>\n",
       "<p>200 rows × 6 columns</p>\n",
       "</div>"
      ],
      "text/plain": [
       "                                         search_string  start_time  end_time  \\\n",
       "0    senin için önemli olan tek şey hala burada bil...          84        88   \n",
       "1    bilmiyorum sen ne demek istiyorsun ben de onu ...         721       726   \n",
       "2    var da bu bir sorun olur mu benim için ben bun...        7920      7926   \n",
       "3    o çok güzel oldu gerçekten herkes gibi oldu ge...         394       401   \n",
       "4    gerçekten çok teşekkür ederim ya bu çok büyük ...        2257      2262   \n",
       "..                                                 ...         ...       ...   \n",
       "195     gerek yok çok teşekkür ederim ben zaten birkaç         186       190   \n",
       "196     senin için ne demek olduğunu çok iyi biliyorum        7727      7730   \n",
       "197     ben gerçekten her şey için çok teşekkür ederim         875       878   \n",
       "198     ki bu aslında bana iyi geldi çünkü o zaman şey         368       371   \n",
       "199     yoksa bu çok güzel bir sonra en fazla ne kadar        2011      2015   \n",
       "\n",
       "                                              sentence     video_id  \\\n",
       "0    senin için önemli olan tek şey hala burada bil...  9Wx3JJTq_Hw   \n",
       "1    bilmiyorum sen ne demek istiyorsun ben de onu ...  ZdeFof81xKs   \n",
       "2    var da bu bir sorun olur mu benim için ben bun...  zgQbOmPp9pk   \n",
       "3    o çok güzel oldu gerçekten herkes gibi oldu ge...  f8iA6v4mRAY   \n",
       "4    gerçekten çok teşekkür ederim ya bu çok büyük ...  a8Dov7B7alQ   \n",
       "..                                                 ...          ...   \n",
       "195  gerek yok çok teşekkür ederim ben zaten birkaç...  zpfhmsZB26w   \n",
       "196  polisliğin senin için ne demek olduğunu çok iy...  pWZnIAh9MXo   \n",
       "197     ben gerçekten her şey için çok teşekkür ederim  d3LdJzLdpCI   \n",
       "198  ki bu aslında bana iyi geldi çünkü o zaman şey...  X2DdZUtPDoU   \n",
       "199  kadar kazanabilirsin yoksa bu çok güzel bir so...  Rm6zwwnAVeA   \n",
       "\n",
       "                                             video_url  \n",
       "0    https://www.youtube.com/watch?v=9Wx3JJTq_Hw&t=84s  \n",
       "1    https://www.youtube.com/watch?v=ZdeFof81xKs&t=...  \n",
       "2    https://www.youtube.com/watch?v=zgQbOmPp9pk&t=...  \n",
       "3    https://www.youtube.com/watch?v=f8iA6v4mRAY&t=...  \n",
       "4    https://www.youtube.com/watch?v=a8Dov7B7alQ&t=...  \n",
       "..                                                 ...  \n",
       "195  https://www.youtube.com/watch?v=zpfhmsZB26w&t=...  \n",
       "196  https://www.youtube.com/watch?v=pWZnIAh9MXo&t=...  \n",
       "197  https://www.youtube.com/watch?v=d3LdJzLdpCI&t=...  \n",
       "198  https://www.youtube.com/watch?v=X2DdZUtPDoU&t=...  \n",
       "199  https://www.youtube.com/watch?v=Rm6zwwnAVeA&t=...  \n",
       "\n",
       "[200 rows x 6 columns]"
      ]
     },
     "execution_count": 9,
     "metadata": {},
     "output_type": "execute_result"
    }
   ],
   "source": [
    "df_200 = pd.read_csv(f\"{lang_folder.capitalize()}_Word_Group_Max_In_Youtube_Sentence_200_Word{file_ext}.csv\")\n",
    "df_200 = df_200.head(200)\n",
    "df_200"
   ]
  },
  {
   "cell_type": "code",
   "execution_count": 10,
   "metadata": {},
   "outputs": [
    {
     "data": {
      "text/html": [
       "<div>\n",
       "<style scoped>\n",
       "    .dataframe tbody tr th:only-of-type {\n",
       "        vertical-align: middle;\n",
       "    }\n",
       "\n",
       "    .dataframe tbody tr th {\n",
       "        vertical-align: top;\n",
       "    }\n",
       "\n",
       "    .dataframe thead th {\n",
       "        text-align: right;\n",
       "    }\n",
       "</style>\n",
       "<table border=\"1\" class=\"dataframe\">\n",
       "  <thead>\n",
       "    <tr style=\"text-align: right;\">\n",
       "      <th></th>\n",
       "      <th>search_string</th>\n",
       "      <th>start_time</th>\n",
       "      <th>end_time</th>\n",
       "      <th>sentence</th>\n",
       "      <th>video_id</th>\n",
       "      <th>video_url</th>\n",
       "    </tr>\n",
       "  </thead>\n",
       "  <tbody>\n",
       "    <tr>\n",
       "      <th>0</th>\n",
       "      <td>başka biriyle herhangi bir şey yaşıyor musun k...</td>\n",
       "      <td>319</td>\n",
       "      <td>325</td>\n",
       "      <td>başka biriyle herhangi bir şey yaşıyor musun k...</td>\n",
       "      <td>KsZ_8oIQsv4</td>\n",
       "      <td>https://www.youtube.com/watch?v=KsZ_8oIQsv4&amp;t=...</td>\n",
       "    </tr>\n",
       "    <tr>\n",
       "      <th>1</th>\n",
       "      <td>gidelim bir bakalım hep birlikte bakalım bir o...</td>\n",
       "      <td>987</td>\n",
       "      <td>988</td>\n",
       "      <td>yerleştirmeye yumurtasını seviyoruz çok güzel ...</td>\n",
       "      <td>eqkDognLtTc</td>\n",
       "      <td>https://www.youtube.com/watch?v=eqkDognLtTc&amp;t=...</td>\n",
       "    </tr>\n",
       "    <tr>\n",
       "      <th>2</th>\n",
       "      <td>nasıl olduğunu gördün zaten artık değil mi tek...</td>\n",
       "      <td>2614</td>\n",
       "      <td>2620</td>\n",
       "      <td>nasıl olduğunu gördün zaten artık değil mi tek...</td>\n",
       "      <td>N4YDaU51lvI</td>\n",
       "      <td>https://www.youtube.com/watch?v=N4YDaU51lvI&amp;t=...</td>\n",
       "    </tr>\n",
       "    <tr>\n",
       "      <th>3</th>\n",
       "      <td>bir şekilde söylüyorum ve o zaman eminim ki ço...</td>\n",
       "      <td>4774</td>\n",
       "      <td>4781</td>\n",
       "      <td>bir şekilde söylüyorum ve o zaman eminim ki ço...</td>\n",
       "      <td>cUAQrHbbpZ8</td>\n",
       "      <td>https://www.youtube.com/watch?v=cUAQrHbbpZ8&amp;t=...</td>\n",
       "    </tr>\n",
       "    <tr>\n",
       "      <th>4</th>\n",
       "      <td>benim kızım tamam bir şey yapmış hata yapmış o...</td>\n",
       "      <td>3090</td>\n",
       "      <td>3097</td>\n",
       "      <td>benim kızım tamam bir şey yapmış hata yapmış o...</td>\n",
       "      <td>CIQ3Ave21Kw</td>\n",
       "      <td>https://www.youtube.com/watch?v=CIQ3Ave21Kw&amp;t=...</td>\n",
       "    </tr>\n",
       "    <tr>\n",
       "      <th>...</th>\n",
       "      <td>...</td>\n",
       "      <td>...</td>\n",
       "      <td>...</td>\n",
       "      <td>...</td>\n",
       "      <td>...</td>\n",
       "      <td>...</td>\n",
       "    </tr>\n",
       "    <tr>\n",
       "      <th>195</th>\n",
       "      <td>beni daha çok seviyor ben dedim ki hayır beni ...</td>\n",
       "      <td>368</td>\n",
       "      <td>373</td>\n",
       "      <td>o dedi ki resulullah beni daha çok seviyor ben...</td>\n",
       "      <td>yqj1HmYDs3w</td>\n",
       "      <td>https://www.youtube.com/watch?v=yqj1HmYDs3w&amp;t=...</td>\n",
       "    </tr>\n",
       "    <tr>\n",
       "      <th>196</th>\n",
       "      <td>bilmiyorum sen ne demek istiyorsun ben de onu ...</td>\n",
       "      <td>721</td>\n",
       "      <td>726</td>\n",
       "      <td>bilmiyorum sen ne demek istiyorsun ben de onu ...</td>\n",
       "      <td>ZdeFof81xKs</td>\n",
       "      <td>https://www.youtube.com/watch?v=ZdeFof81xKs&amp;t=...</td>\n",
       "    </tr>\n",
       "    <tr>\n",
       "      <th>197</th>\n",
       "      <td>hep aynı aman boş ver sen beni asıl sen nasıls...</td>\n",
       "      <td>2444</td>\n",
       "      <td>2450</td>\n",
       "      <td>hep aynı aman boş ver sen beni asıl sen nasıls...</td>\n",
       "      <td>m6k2GOeUHNI</td>\n",
       "      <td>https://www.youtube.com/watch?v=m6k2GOeUHNI&amp;t=...</td>\n",
       "    </tr>\n",
       "    <tr>\n",
       "      <th>198</th>\n",
       "      <td>siz buradan artık yok olur musunuz lütfen bir ...</td>\n",
       "      <td>5000</td>\n",
       "      <td>5005</td>\n",
       "      <td>siz buradan artık yok olur musunuz lütfen bir ...</td>\n",
       "      <td>bt7g4VoVBoE</td>\n",
       "      <td>https://www.youtube.com/watch?v=bt7g4VoVBoE&amp;t=...</td>\n",
       "    </tr>\n",
       "    <tr>\n",
       "      <th>199</th>\n",
       "      <td>var bu önemli olan sen ne yapmak istiyorsun on...</td>\n",
       "      <td>4958</td>\n",
       "      <td>4968</td>\n",
       "      <td>her şeyin bir çözümü var bu önemli olan sen ne...</td>\n",
       "      <td>9GbYnL0tvcg</td>\n",
       "      <td>https://www.youtube.com/watch?v=9GbYnL0tvcg&amp;t=...</td>\n",
       "    </tr>\n",
       "  </tbody>\n",
       "</table>\n",
       "<p>200 rows × 6 columns</p>\n",
       "</div>"
      ],
      "text/plain": [
       "                                         search_string  start_time  end_time  \\\n",
       "0    başka biriyle herhangi bir şey yaşıyor musun k...         319       325   \n",
       "1    gidelim bir bakalım hep birlikte bakalım bir o...         987       988   \n",
       "2    nasıl olduğunu gördün zaten artık değil mi tek...        2614      2620   \n",
       "3    bir şekilde söylüyorum ve o zaman eminim ki ço...        4774      4781   \n",
       "4    benim kızım tamam bir şey yapmış hata yapmış o...        3090      3097   \n",
       "..                                                 ...         ...       ...   \n",
       "195  beni daha çok seviyor ben dedim ki hayır beni ...         368       373   \n",
       "196  bilmiyorum sen ne demek istiyorsun ben de onu ...         721       726   \n",
       "197  hep aynı aman boş ver sen beni asıl sen nasıls...        2444      2450   \n",
       "198  siz buradan artık yok olur musunuz lütfen bir ...        5000      5005   \n",
       "199  var bu önemli olan sen ne yapmak istiyorsun on...        4958      4968   \n",
       "\n",
       "                                              sentence     video_id  \\\n",
       "0    başka biriyle herhangi bir şey yaşıyor musun k...  KsZ_8oIQsv4   \n",
       "1    yerleştirmeye yumurtasını seviyoruz çok güzel ...  eqkDognLtTc   \n",
       "2    nasıl olduğunu gördün zaten artık değil mi tek...  N4YDaU51lvI   \n",
       "3    bir şekilde söylüyorum ve o zaman eminim ki ço...  cUAQrHbbpZ8   \n",
       "4    benim kızım tamam bir şey yapmış hata yapmış o...  CIQ3Ave21Kw   \n",
       "..                                                 ...          ...   \n",
       "195  o dedi ki resulullah beni daha çok seviyor ben...  yqj1HmYDs3w   \n",
       "196  bilmiyorum sen ne demek istiyorsun ben de onu ...  ZdeFof81xKs   \n",
       "197  hep aynı aman boş ver sen beni asıl sen nasıls...  m6k2GOeUHNI   \n",
       "198  siz buradan artık yok olur musunuz lütfen bir ...  bt7g4VoVBoE   \n",
       "199  her şeyin bir çözümü var bu önemli olan sen ne...  9GbYnL0tvcg   \n",
       "\n",
       "                                             video_url  \n",
       "0    https://www.youtube.com/watch?v=KsZ_8oIQsv4&t=...  \n",
       "1    https://www.youtube.com/watch?v=eqkDognLtTc&t=...  \n",
       "2    https://www.youtube.com/watch?v=N4YDaU51lvI&t=...  \n",
       "3    https://www.youtube.com/watch?v=cUAQrHbbpZ8&t=...  \n",
       "4    https://www.youtube.com/watch?v=CIQ3Ave21Kw&t=...  \n",
       "..                                                 ...  \n",
       "195  https://www.youtube.com/watch?v=yqj1HmYDs3w&t=...  \n",
       "196  https://www.youtube.com/watch?v=ZdeFof81xKs&t=...  \n",
       "197  https://www.youtube.com/watch?v=m6k2GOeUHNI&t=...  \n",
       "198  https://www.youtube.com/watch?v=bt7g4VoVBoE&t=...  \n",
       "199  https://www.youtube.com/watch?v=9GbYnL0tvcg&t=...  \n",
       "\n",
       "[200 rows x 6 columns]"
      ]
     },
     "execution_count": 10,
     "metadata": {},
     "output_type": "execute_result"
    }
   ],
   "source": [
    "df_1000 = pd.read_csv(f\"{lang_folder.capitalize()}_Word_Group_Max_In_Youtube_Sentence_1000_Word{file_ext}.csv\")\n",
    "df_1000 = df_1000.head(200)\n",
    "df_1000"
   ]
  },
  {
   "cell_type": "code",
   "execution_count": 11,
   "metadata": {},
   "outputs": [
    {
     "ename": "FileNotFoundError",
     "evalue": "[Errno 2] No such file or directory: 'Turkish_Word_Group_Max_In_Youtube_Sentence_5000_Word6.csv'",
     "output_type": "error",
     "traceback": [
      "\u001b[0;31m---------------------------------------------------------------------------\u001b[0m",
      "\u001b[0;31mFileNotFoundError\u001b[0m                         Traceback (most recent call last)",
      "\u001b[0;32m<ipython-input-11-28dd8c126047>\u001b[0m in \u001b[0;36m<module>\u001b[0;34m\u001b[0m\n\u001b[0;32m----> 1\u001b[0;31m \u001b[0mdf_5000\u001b[0m \u001b[0;34m=\u001b[0m \u001b[0mpd\u001b[0m\u001b[0;34m.\u001b[0m\u001b[0mread_csv\u001b[0m\u001b[0;34m(\u001b[0m\u001b[0;34mf\"{lang_folder.capitalize()}_Word_Group_Max_In_Youtube_Sentence_5000_Word{file_ext}.csv\"\u001b[0m\u001b[0;34m)\u001b[0m\u001b[0;34m\u001b[0m\u001b[0;34m\u001b[0m\u001b[0m\n\u001b[0m\u001b[1;32m      2\u001b[0m \u001b[0mdf_5000\u001b[0m \u001b[0;34m=\u001b[0m \u001b[0mdf_5000\u001b[0m\u001b[0;34m.\u001b[0m\u001b[0mhead\u001b[0m\u001b[0;34m(\u001b[0m\u001b[0;36m200\u001b[0m\u001b[0;34m)\u001b[0m\u001b[0;34m\u001b[0m\u001b[0;34m\u001b[0m\u001b[0m\n\u001b[1;32m      3\u001b[0m \u001b[0mdf_5000\u001b[0m\u001b[0;34m\u001b[0m\u001b[0;34m\u001b[0m\u001b[0m\n",
      "\u001b[0;32m~/anaconda3/envs/py39/lib/python3.9/site-packages/pandas/util/_decorators.py\u001b[0m in \u001b[0;36mwrapper\u001b[0;34m(*args, **kwargs)\u001b[0m\n\u001b[1;32m    309\u001b[0m                     \u001b[0mstacklevel\u001b[0m\u001b[0;34m=\u001b[0m\u001b[0mstacklevel\u001b[0m\u001b[0;34m,\u001b[0m\u001b[0;34m\u001b[0m\u001b[0;34m\u001b[0m\u001b[0m\n\u001b[1;32m    310\u001b[0m                 )\n\u001b[0;32m--> 311\u001b[0;31m             \u001b[0;32mreturn\u001b[0m \u001b[0mfunc\u001b[0m\u001b[0;34m(\u001b[0m\u001b[0;34m*\u001b[0m\u001b[0margs\u001b[0m\u001b[0;34m,\u001b[0m \u001b[0;34m**\u001b[0m\u001b[0mkwargs\u001b[0m\u001b[0;34m)\u001b[0m\u001b[0;34m\u001b[0m\u001b[0;34m\u001b[0m\u001b[0m\n\u001b[0m\u001b[1;32m    312\u001b[0m \u001b[0;34m\u001b[0m\u001b[0m\n\u001b[1;32m    313\u001b[0m         \u001b[0;32mreturn\u001b[0m \u001b[0mwrapper\u001b[0m\u001b[0;34m\u001b[0m\u001b[0;34m\u001b[0m\u001b[0m\n",
      "\u001b[0;32m~/anaconda3/envs/py39/lib/python3.9/site-packages/pandas/io/parsers/readers.py\u001b[0m in \u001b[0;36mread_csv\u001b[0;34m(filepath_or_buffer, sep, delimiter, header, names, index_col, usecols, squeeze, prefix, mangle_dupe_cols, dtype, engine, converters, true_values, false_values, skipinitialspace, skiprows, skipfooter, nrows, na_values, keep_default_na, na_filter, verbose, skip_blank_lines, parse_dates, infer_datetime_format, keep_date_col, date_parser, dayfirst, cache_dates, iterator, chunksize, compression, thousands, decimal, lineterminator, quotechar, quoting, doublequote, escapechar, comment, encoding, encoding_errors, dialect, error_bad_lines, warn_bad_lines, on_bad_lines, delim_whitespace, low_memory, memory_map, float_precision, storage_options)\u001b[0m\n\u001b[1;32m    584\u001b[0m     \u001b[0mkwds\u001b[0m\u001b[0;34m.\u001b[0m\u001b[0mupdate\u001b[0m\u001b[0;34m(\u001b[0m\u001b[0mkwds_defaults\u001b[0m\u001b[0;34m)\u001b[0m\u001b[0;34m\u001b[0m\u001b[0;34m\u001b[0m\u001b[0m\n\u001b[1;32m    585\u001b[0m \u001b[0;34m\u001b[0m\u001b[0m\n\u001b[0;32m--> 586\u001b[0;31m     \u001b[0;32mreturn\u001b[0m \u001b[0m_read\u001b[0m\u001b[0;34m(\u001b[0m\u001b[0mfilepath_or_buffer\u001b[0m\u001b[0;34m,\u001b[0m \u001b[0mkwds\u001b[0m\u001b[0;34m)\u001b[0m\u001b[0;34m\u001b[0m\u001b[0;34m\u001b[0m\u001b[0m\n\u001b[0m\u001b[1;32m    587\u001b[0m \u001b[0;34m\u001b[0m\u001b[0m\n\u001b[1;32m    588\u001b[0m \u001b[0;34m\u001b[0m\u001b[0m\n",
      "\u001b[0;32m~/anaconda3/envs/py39/lib/python3.9/site-packages/pandas/io/parsers/readers.py\u001b[0m in \u001b[0;36m_read\u001b[0;34m(filepath_or_buffer, kwds)\u001b[0m\n\u001b[1;32m    480\u001b[0m \u001b[0;34m\u001b[0m\u001b[0m\n\u001b[1;32m    481\u001b[0m     \u001b[0;31m# Create the parser.\u001b[0m\u001b[0;34m\u001b[0m\u001b[0;34m\u001b[0m\u001b[0;34m\u001b[0m\u001b[0m\n\u001b[0;32m--> 482\u001b[0;31m     \u001b[0mparser\u001b[0m \u001b[0;34m=\u001b[0m \u001b[0mTextFileReader\u001b[0m\u001b[0;34m(\u001b[0m\u001b[0mfilepath_or_buffer\u001b[0m\u001b[0;34m,\u001b[0m \u001b[0;34m**\u001b[0m\u001b[0mkwds\u001b[0m\u001b[0;34m)\u001b[0m\u001b[0;34m\u001b[0m\u001b[0;34m\u001b[0m\u001b[0m\n\u001b[0m\u001b[1;32m    483\u001b[0m \u001b[0;34m\u001b[0m\u001b[0m\n\u001b[1;32m    484\u001b[0m     \u001b[0;32mif\u001b[0m \u001b[0mchunksize\u001b[0m \u001b[0;32mor\u001b[0m \u001b[0miterator\u001b[0m\u001b[0;34m:\u001b[0m\u001b[0;34m\u001b[0m\u001b[0;34m\u001b[0m\u001b[0m\n",
      "\u001b[0;32m~/anaconda3/envs/py39/lib/python3.9/site-packages/pandas/io/parsers/readers.py\u001b[0m in \u001b[0;36m__init__\u001b[0;34m(self, f, engine, **kwds)\u001b[0m\n\u001b[1;32m    809\u001b[0m             \u001b[0mself\u001b[0m\u001b[0;34m.\u001b[0m\u001b[0moptions\u001b[0m\u001b[0;34m[\u001b[0m\u001b[0;34m\"has_index_names\"\u001b[0m\u001b[0;34m]\u001b[0m \u001b[0;34m=\u001b[0m \u001b[0mkwds\u001b[0m\u001b[0;34m[\u001b[0m\u001b[0;34m\"has_index_names\"\u001b[0m\u001b[0;34m]\u001b[0m\u001b[0;34m\u001b[0m\u001b[0;34m\u001b[0m\u001b[0m\n\u001b[1;32m    810\u001b[0m \u001b[0;34m\u001b[0m\u001b[0m\n\u001b[0;32m--> 811\u001b[0;31m         \u001b[0mself\u001b[0m\u001b[0;34m.\u001b[0m\u001b[0m_engine\u001b[0m \u001b[0;34m=\u001b[0m \u001b[0mself\u001b[0m\u001b[0;34m.\u001b[0m\u001b[0m_make_engine\u001b[0m\u001b[0;34m(\u001b[0m\u001b[0mself\u001b[0m\u001b[0;34m.\u001b[0m\u001b[0mengine\u001b[0m\u001b[0;34m)\u001b[0m\u001b[0;34m\u001b[0m\u001b[0;34m\u001b[0m\u001b[0m\n\u001b[0m\u001b[1;32m    812\u001b[0m \u001b[0;34m\u001b[0m\u001b[0m\n\u001b[1;32m    813\u001b[0m     \u001b[0;32mdef\u001b[0m \u001b[0mclose\u001b[0m\u001b[0;34m(\u001b[0m\u001b[0mself\u001b[0m\u001b[0;34m)\u001b[0m\u001b[0;34m:\u001b[0m\u001b[0;34m\u001b[0m\u001b[0;34m\u001b[0m\u001b[0m\n",
      "\u001b[0;32m~/anaconda3/envs/py39/lib/python3.9/site-packages/pandas/io/parsers/readers.py\u001b[0m in \u001b[0;36m_make_engine\u001b[0;34m(self, engine)\u001b[0m\n\u001b[1;32m   1038\u001b[0m             )\n\u001b[1;32m   1039\u001b[0m         \u001b[0;31m# error: Too many arguments for \"ParserBase\"\u001b[0m\u001b[0;34m\u001b[0m\u001b[0;34m\u001b[0m\u001b[0;34m\u001b[0m\u001b[0m\n\u001b[0;32m-> 1040\u001b[0;31m         \u001b[0;32mreturn\u001b[0m \u001b[0mmapping\u001b[0m\u001b[0;34m[\u001b[0m\u001b[0mengine\u001b[0m\u001b[0;34m]\u001b[0m\u001b[0;34m(\u001b[0m\u001b[0mself\u001b[0m\u001b[0;34m.\u001b[0m\u001b[0mf\u001b[0m\u001b[0;34m,\u001b[0m \u001b[0;34m**\u001b[0m\u001b[0mself\u001b[0m\u001b[0;34m.\u001b[0m\u001b[0moptions\u001b[0m\u001b[0;34m)\u001b[0m  \u001b[0;31m# type: ignore[call-arg]\u001b[0m\u001b[0;34m\u001b[0m\u001b[0;34m\u001b[0m\u001b[0m\n\u001b[0m\u001b[1;32m   1041\u001b[0m \u001b[0;34m\u001b[0m\u001b[0m\n\u001b[1;32m   1042\u001b[0m     \u001b[0;32mdef\u001b[0m \u001b[0m_failover_to_python\u001b[0m\u001b[0;34m(\u001b[0m\u001b[0mself\u001b[0m\u001b[0;34m)\u001b[0m\u001b[0;34m:\u001b[0m\u001b[0;34m\u001b[0m\u001b[0;34m\u001b[0m\u001b[0m\n",
      "\u001b[0;32m~/anaconda3/envs/py39/lib/python3.9/site-packages/pandas/io/parsers/c_parser_wrapper.py\u001b[0m in \u001b[0;36m__init__\u001b[0;34m(self, src, **kwds)\u001b[0m\n\u001b[1;32m     49\u001b[0m \u001b[0;34m\u001b[0m\u001b[0m\n\u001b[1;32m     50\u001b[0m         \u001b[0;31m# open handles\u001b[0m\u001b[0;34m\u001b[0m\u001b[0;34m\u001b[0m\u001b[0;34m\u001b[0m\u001b[0m\n\u001b[0;32m---> 51\u001b[0;31m         \u001b[0mself\u001b[0m\u001b[0;34m.\u001b[0m\u001b[0m_open_handles\u001b[0m\u001b[0;34m(\u001b[0m\u001b[0msrc\u001b[0m\u001b[0;34m,\u001b[0m \u001b[0mkwds\u001b[0m\u001b[0;34m)\u001b[0m\u001b[0;34m\u001b[0m\u001b[0;34m\u001b[0m\u001b[0m\n\u001b[0m\u001b[1;32m     52\u001b[0m         \u001b[0;32massert\u001b[0m \u001b[0mself\u001b[0m\u001b[0;34m.\u001b[0m\u001b[0mhandles\u001b[0m \u001b[0;32mis\u001b[0m \u001b[0;32mnot\u001b[0m \u001b[0;32mNone\u001b[0m\u001b[0;34m\u001b[0m\u001b[0;34m\u001b[0m\u001b[0m\n\u001b[1;32m     53\u001b[0m \u001b[0;34m\u001b[0m\u001b[0m\n",
      "\u001b[0;32m~/anaconda3/envs/py39/lib/python3.9/site-packages/pandas/io/parsers/base_parser.py\u001b[0m in \u001b[0;36m_open_handles\u001b[0;34m(self, src, kwds)\u001b[0m\n\u001b[1;32m    220\u001b[0m         \u001b[0mLet\u001b[0m \u001b[0mthe\u001b[0m \u001b[0mreaders\u001b[0m \u001b[0mopen\u001b[0m \u001b[0mIOHandles\u001b[0m \u001b[0mafter\u001b[0m \u001b[0mthey\u001b[0m \u001b[0mare\u001b[0m \u001b[0mdone\u001b[0m \u001b[0;32mwith\u001b[0m \u001b[0mtheir\u001b[0m \u001b[0mpotential\u001b[0m \u001b[0mraises\u001b[0m\u001b[0;34m.\u001b[0m\u001b[0;34m\u001b[0m\u001b[0;34m\u001b[0m\u001b[0m\n\u001b[1;32m    221\u001b[0m         \"\"\"\n\u001b[0;32m--> 222\u001b[0;31m         self.handles = get_handle(\n\u001b[0m\u001b[1;32m    223\u001b[0m             \u001b[0msrc\u001b[0m\u001b[0;34m,\u001b[0m\u001b[0;34m\u001b[0m\u001b[0;34m\u001b[0m\u001b[0m\n\u001b[1;32m    224\u001b[0m             \u001b[0;34m\"r\"\u001b[0m\u001b[0;34m,\u001b[0m\u001b[0;34m\u001b[0m\u001b[0;34m\u001b[0m\u001b[0m\n",
      "\u001b[0;32m~/anaconda3/envs/py39/lib/python3.9/site-packages/pandas/io/common.py\u001b[0m in \u001b[0;36mget_handle\u001b[0;34m(path_or_buf, mode, encoding, compression, memory_map, is_text, errors, storage_options)\u001b[0m\n\u001b[1;32m    700\u001b[0m         \u001b[0;32mif\u001b[0m \u001b[0mioargs\u001b[0m\u001b[0;34m.\u001b[0m\u001b[0mencoding\u001b[0m \u001b[0;32mand\u001b[0m \u001b[0;34m\"b\"\u001b[0m \u001b[0;32mnot\u001b[0m \u001b[0;32min\u001b[0m \u001b[0mioargs\u001b[0m\u001b[0;34m.\u001b[0m\u001b[0mmode\u001b[0m\u001b[0;34m:\u001b[0m\u001b[0;34m\u001b[0m\u001b[0;34m\u001b[0m\u001b[0m\n\u001b[1;32m    701\u001b[0m             \u001b[0;31m# Encoding\u001b[0m\u001b[0;34m\u001b[0m\u001b[0;34m\u001b[0m\u001b[0;34m\u001b[0m\u001b[0m\n\u001b[0;32m--> 702\u001b[0;31m             handle = open(\n\u001b[0m\u001b[1;32m    703\u001b[0m                 \u001b[0mhandle\u001b[0m\u001b[0;34m,\u001b[0m\u001b[0;34m\u001b[0m\u001b[0;34m\u001b[0m\u001b[0m\n\u001b[1;32m    704\u001b[0m                 \u001b[0mioargs\u001b[0m\u001b[0;34m.\u001b[0m\u001b[0mmode\u001b[0m\u001b[0;34m,\u001b[0m\u001b[0;34m\u001b[0m\u001b[0;34m\u001b[0m\u001b[0m\n",
      "\u001b[0;31mFileNotFoundError\u001b[0m: [Errno 2] No such file or directory: 'Turkish_Word_Group_Max_In_Youtube_Sentence_5000_Word6.csv'"
     ]
    }
   ],
   "source": [
    "df_5000 = pd.read_csv(f\"{lang_folder.capitalize()}_Word_Group_Max_In_Youtube_Sentence_5000_Word{file_ext}.csv\")\n",
    "df_5000 = df_5000.head(200)\n",
    "df_5000"
   ]
  },
  {
   "cell_type": "code",
   "execution_count": null,
   "metadata": {},
   "outputs": [],
   "source": [
    "df_10000 = pd.read_csv(f\"{lang_folder.capitalize()}_Word_Group_Max_In_Youtube_Sentence_10000_Word{file_ext}.csv\")\n",
    "df_10000 = df_10000.head(200)\n",
    "df_10000"
   ]
  },
  {
   "cell_type": "code",
   "execution_count": null,
   "metadata": {},
   "outputs": [],
   "source": [
    "df_20000 = pd.read_csv(f\"{lang_folder.capitalize()}_Word_Group_Max_In_Youtube_Sentence_20000_Word{file_ext}.csv\")\n",
    "df_20000 = df_20000.head(200)\n",
    "df_20000"
   ]
  },
  {
   "cell_type": "code",
   "execution_count": null,
   "metadata": {},
   "outputs": [],
   "source": [
    "df_40000 = pd.read_csv(f\"{lang_folder.capitalize()}_Word_Group_Max_In_Youtube_Sentence_40000_Word{file_ext}.csv\")\n",
    "df_40000 = df_40000.head(200)\n",
    "df_40000"
   ]
  },
  {
   "cell_type": "code",
   "execution_count": null,
   "metadata": {},
   "outputs": [],
   "source": []
  },
  {
   "cell_type": "markdown",
   "metadata": {},
   "source": [
    "#### Sending Data To Firestore"
   ]
  },
  {
   "cell_type": "markdown",
   "metadata": {},
   "source": [
    "##### Language Data"
   ]
  },
  {
   "cell_type": "code",
   "execution_count": 14,
   "metadata": {},
   "outputs": [],
   "source": [
    "language_data = {\"languages\":[{\"id\":1, \"name\":\"English\"},{\"id\":2, \"name\":\"Turkish\"},{\"id\":3, \"name\":\"French\"},\n",
    "                              {\"id\":4,\"name\":\"Spanish\"},{\"id\":5, \"name\":\"Portuguese\"},{\"id\":6, \"name\":\"Dutch\"},\n",
    "                              {\"id\":7, \"name\":\"Italian\"},{\"id\":8, \"name\":\"German\"},{\"id\":9, \"name\":\"Arabic\"}]}"
   ]
  },
  {
   "cell_type": "code",
   "execution_count": 15,
   "metadata": {},
   "outputs": [
    {
     "data": {
      "text/plain": [
       "update_time {\n",
       "  seconds: 1669117012\n",
       "  nanos: 522078000\n",
       "}"
      ]
     },
     "execution_count": 15,
     "metadata": {},
     "output_type": "execute_result"
    }
   ],
   "source": [
    "fire_db.collection(\"language-data\").document(\"languages\").set(language_data)"
   ]
  },
  {
   "cell_type": "markdown",
   "metadata": {},
   "source": [
    "##### Language Detail"
   ]
  },
  {
   "cell_type": "markdown",
   "metadata": {},
   "source": [
    "##### Absolute Beginner"
   ]
  },
  {
   "cell_type": "code",
   "execution_count": null,
   "metadata": {},
   "outputs": [],
   "source": [
    "# Absolute Beginner Data\n",
    "end_time_list = df_28[\"end_time\"].to_list()\n",
    "video_id_list = df_28[\"video_id\"].to_list()\n",
    "start_time_list = df_28[\"start_time\"].to_list()"
   ]
  },
  {
   "cell_type": "code",
   "execution_count": null,
   "metadata": {},
   "outputs": [],
   "source": [
    "firestore_beginner_data = zip(end_time_list,video_id_list,start_time_list)\n",
    "beginner_description_text = \"description\""
   ]
  },
  {
   "cell_type": "code",
   "execution_count": null,
   "metadata": {},
   "outputs": [],
   "source": [
    "beginner_data_list = []\n",
    "for endtime, videoid, starttime in firestore_beginner_data:\n",
    "    data = {\"endTime\":endtime,\n",
    "            \"id\":videoid,\n",
    "            \"startTime\":starttime}\n",
    "    beginner_data_list.append(data)\n",
    "    \n",
    "#beginner_data_list   "
   ]
  },
  {
   "cell_type": "code",
   "execution_count": null,
   "metadata": {},
   "outputs": [],
   "source": [
    "data_beginner = {\"description\":f\"{beginner_description_text}\", \"level\":0, \"levelName\":\"Absolute Beginner\", \"videos\":beginner_data_list}\n",
    "#data_beginner"
   ]
  },
  {
   "cell_type": "code",
   "execution_count": null,
   "metadata": {},
   "outputs": [],
   "source": [
    "#fire_db.collection(\"language-detail-data\").document(f\"{lang_id}\").set(data_beginner)"
   ]
  },
  {
   "cell_type": "code",
   "execution_count": null,
   "metadata": {},
   "outputs": [],
   "source": []
  },
  {
   "cell_type": "markdown",
   "metadata": {},
   "source": [
    "##### A1 Level"
   ]
  },
  {
   "cell_type": "code",
   "execution_count": null,
   "metadata": {},
   "outputs": [],
   "source": [
    "# A1 Level Data\n",
    "end_time_list = df_200[\"end_time\"].to_list()\n",
    "video_id_list = df_200[\"video_id\"].to_list()\n",
    "start_time_list = df_200[\"start_time\"].to_list()"
   ]
  },
  {
   "cell_type": "code",
   "execution_count": null,
   "metadata": {},
   "outputs": [],
   "source": [
    "firestore_A1_data = zip(end_time_list,video_id_list,start_time_list)\n",
    "A1_description_text = \"This description\""
   ]
  },
  {
   "cell_type": "code",
   "execution_count": null,
   "metadata": {},
   "outputs": [],
   "source": [
    "A1_data_list = []\n",
    "for endtime, videoid, starttime in firestore_A1_data:\n",
    "    data = {\"endTime\":endtime,\n",
    "            \"id\":videoid,\n",
    "            \"startTime\":starttime}\n",
    "    A1_data_list.append(data)\n",
    "\n",
    "#A1_data_list   "
   ]
  },
  {
   "cell_type": "code",
   "execution_count": null,
   "metadata": {},
   "outputs": [],
   "source": [
    "data_A1 = {\"description\":f\"{A1_description_text}\", \"level\":1, \"levelName\":\"A1 Level\", \"videos\":A1_data_list}\n",
    "#data_A1"
   ]
  },
  {
   "cell_type": "code",
   "execution_count": null,
   "metadata": {},
   "outputs": [],
   "source": []
  },
  {
   "cell_type": "markdown",
   "metadata": {},
   "source": [
    "##### A2 Level"
   ]
  },
  {
   "cell_type": "code",
   "execution_count": null,
   "metadata": {},
   "outputs": [],
   "source": [
    "# A2 Level Data\n",
    "end_time_list = df_1000[\"end_time\"].to_list()\n",
    "video_id_list = df_1000[\"video_id\"].to_list()\n",
    "start_time_list = df_1000[\"start_time\"].to_list()"
   ]
  },
  {
   "cell_type": "code",
   "execution_count": null,
   "metadata": {},
   "outputs": [],
   "source": [
    "firestore_A2_data = zip(end_time_list,video_id_list,start_time_list)\n",
    "A2_description_text = \"This description\""
   ]
  },
  {
   "cell_type": "code",
   "execution_count": null,
   "metadata": {},
   "outputs": [],
   "source": [
    "A2_data_list = []\n",
    "for endtime, videoid, starttime in firestore_A2_data:\n",
    "    data = {\"endTime\":endtime,\n",
    "            \"id\":videoid,\n",
    "            \"startTime\":starttime}\n",
    "    A2_data_list.append(data)\n",
    "\n",
    "#A2_data_list   "
   ]
  },
  {
   "cell_type": "code",
   "execution_count": null,
   "metadata": {},
   "outputs": [],
   "source": [
    "data_A2 = {\"description\":f\"{A2_description_text}\", \"level\":2, \"levelName\":\"A2 Level\", \"videos\":A2_data_list}\n",
    "#data_A2"
   ]
  },
  {
   "cell_type": "code",
   "execution_count": null,
   "metadata": {},
   "outputs": [],
   "source": []
  },
  {
   "cell_type": "markdown",
   "metadata": {},
   "source": [
    "##### B1 Level"
   ]
  },
  {
   "cell_type": "code",
   "execution_count": null,
   "metadata": {},
   "outputs": [],
   "source": [
    "# B1 Level Data\n",
    "end_time_list = df_5000[\"end_time\"].to_list()\n",
    "video_id_list = df_5000[\"video_id\"].to_list()\n",
    "start_time_list = df_5000[\"start_time\"].to_list()"
   ]
  },
  {
   "cell_type": "code",
   "execution_count": null,
   "metadata": {},
   "outputs": [],
   "source": [
    "firestore_B1_data = zip(end_time_list,video_id_list,start_time_list)\n",
    "B1_description_text = \"This description\""
   ]
  },
  {
   "cell_type": "code",
   "execution_count": null,
   "metadata": {},
   "outputs": [],
   "source": [
    "B1_data_list = []\n",
    "for endtime, videoid, starttime in firestore_B1_data:\n",
    "    data = {\"endTime\":endtime,\n",
    "            \"id\":videoid,\n",
    "            \"startTime\":starttime}\n",
    "    B1_data_list.append(data)\n",
    "\n",
    "#B1_data_list   "
   ]
  },
  {
   "cell_type": "code",
   "execution_count": null,
   "metadata": {},
   "outputs": [],
   "source": [
    "data_B1 = {\"description\":f\"{B1_description_text}\", \"level\":3, \"levelName\":\"B1 Level\", \"videos\":B1_data_list}\n",
    "#data_B1"
   ]
  },
  {
   "cell_type": "code",
   "execution_count": null,
   "metadata": {},
   "outputs": [],
   "source": []
  },
  {
   "cell_type": "markdown",
   "metadata": {},
   "source": [
    "##### B2 Level"
   ]
  },
  {
   "cell_type": "code",
   "execution_count": null,
   "metadata": {},
   "outputs": [],
   "source": [
    "# B2 Level Data\n",
    "end_time_list = df_10000[\"end_time\"].to_list()\n",
    "video_id_list = df_10000[\"video_id\"].to_list()\n",
    "start_time_list = df_10000[\"start_time\"].to_list()"
   ]
  },
  {
   "cell_type": "code",
   "execution_count": null,
   "metadata": {},
   "outputs": [],
   "source": [
    "firestore_B2_data = zip(end_time_list,video_id_list,start_time_list)\n",
    "B2_description_text = \"This description\""
   ]
  },
  {
   "cell_type": "code",
   "execution_count": null,
   "metadata": {},
   "outputs": [],
   "source": [
    "B2_data_list = []\n",
    "for endtime, videoid, starttime in firestore_B2_data:\n",
    "    data = {\"endTime\":endtime,\n",
    "            \"id\":videoid,\n",
    "            \"startTime\":starttime}\n",
    "    B2_data_list.append(data)\n",
    "\n",
    "#B2_data_list   "
   ]
  },
  {
   "cell_type": "code",
   "execution_count": null,
   "metadata": {},
   "outputs": [],
   "source": [
    "data_B2 = {\"description\":f\"{B2_description_text}\", \"level\":4, \"levelName\":\"B2 Level\", \"videos\":B2_data_list}\n",
    "#data_B2"
   ]
  },
  {
   "cell_type": "code",
   "execution_count": null,
   "metadata": {},
   "outputs": [],
   "source": []
  },
  {
   "cell_type": "markdown",
   "metadata": {},
   "source": [
    "##### C1 Level"
   ]
  },
  {
   "cell_type": "code",
   "execution_count": null,
   "metadata": {},
   "outputs": [],
   "source": [
    "# C1 Level Data\n",
    "video_id_list = df_20000[\"video_id\"].to_list()\n",
    "end_time_list = df_20000[\"end_time\"].to_list()\n",
    "start_time_list = df_20000[\"start_time\"].to_list()"
   ]
  },
  {
   "cell_type": "code",
   "execution_count": null,
   "metadata": {},
   "outputs": [],
   "source": [
    "firestore_C1_data = zip(end_time_list,video_id_list,start_time_list)\n",
    "C1_description_text = \"This description\""
   ]
  },
  {
   "cell_type": "code",
   "execution_count": null,
   "metadata": {},
   "outputs": [],
   "source": [
    "C1_data_list = []\n",
    "for endtime, videoid, starttime in firestore_C1_data:\n",
    "    data = {\"endTime\":endtime,\n",
    "            \"id\":videoid,\n",
    "            \"startTime\":starttime}\n",
    "    C1_data_list.append(data)\n",
    "\n",
    "#C1_data_list   "
   ]
  },
  {
   "cell_type": "code",
   "execution_count": null,
   "metadata": {},
   "outputs": [],
   "source": [
    "data_C1 = {\"description\":f\"{C1_description_text}\", \"level\":4, \"levelName\":\"C1 Level\", \"videos\":C1_data_list}\n",
    "#data_C1"
   ]
  },
  {
   "cell_type": "code",
   "execution_count": null,
   "metadata": {},
   "outputs": [],
   "source": []
  },
  {
   "cell_type": "markdown",
   "metadata": {},
   "source": [
    "##### C2 Level"
   ]
  },
  {
   "cell_type": "code",
   "execution_count": null,
   "metadata": {},
   "outputs": [],
   "source": [
    "# C2 Level Data\n",
    "video_id_list = df_40000[\"video_id\"].to_list()\n",
    "end_time_list = df_40000[\"end_time\"].to_list()\n",
    "start_time_list = df_40000[\"start_time\"].to_list()"
   ]
  },
  {
   "cell_type": "code",
   "execution_count": null,
   "metadata": {},
   "outputs": [],
   "source": [
    "firestore_C2_data = zip(end_time_list,video_id_list,start_time_list)\n",
    "C2_description_text = \"This description\""
   ]
  },
  {
   "cell_type": "code",
   "execution_count": null,
   "metadata": {},
   "outputs": [],
   "source": [
    "C2_data_list = []\n",
    "for endtime, videoid, starttime in firestore_C2_data:\n",
    "    data = {\"endTime\":endtime,\n",
    "            \"id\":videoid,\n",
    "            \"startTime\":starttime}\n",
    "    C2_data_list.append(data)\n",
    "\n",
    "#C2_data_list   "
   ]
  },
  {
   "cell_type": "code",
   "execution_count": null,
   "metadata": {},
   "outputs": [],
   "source": [
    "data_C2 = {\"description\":f\"{C2_description_text}\", \"level\":4, \"levelName\":\"C2 Level\", \"videos\":C2_data_list}\n",
    "#data_C2"
   ]
  },
  {
   "cell_type": "code",
   "execution_count": null,
   "metadata": {},
   "outputs": [],
   "source": []
  },
  {
   "cell_type": "markdown",
   "metadata": {},
   "source": [
    "##### All Data Sending"
   ]
  },
  {
   "cell_type": "code",
   "execution_count": null,
   "metadata": {},
   "outputs": [],
   "source": [
    "data_all = {\"datas\":[data_beginner,data_A1,data_A2,data_B1,data_B2,data_C1,data_C2]}\n",
    "data_all"
   ]
  },
  {
   "cell_type": "code",
   "execution_count": null,
   "metadata": {},
   "outputs": [],
   "source": [
    "fire_db.collection(\"language-detail-data\").document(f\"{lang_id}\").set(data_all)"
   ]
  },
  {
   "cell_type": "code",
   "execution_count": null,
   "metadata": {},
   "outputs": [],
   "source": []
  },
  {
   "cell_type": "code",
   "execution_count": null,
   "metadata": {},
   "outputs": [],
   "source": []
  },
  {
   "cell_type": "markdown",
   "metadata": {},
   "source": [
    "#### Copy Move And Delete"
   ]
  },
  {
   "cell_type": "code",
   "execution_count": null,
   "metadata": {},
   "outputs": [],
   "source": [
    "output_file2 = glob.glob(f\"{lang_folder.capitalize()}_Word_Group*{file_ext}.xlsx\")\n",
    "output_file2"
   ]
  },
  {
   "cell_type": "code",
   "execution_count": null,
   "metadata": {},
   "outputs": [],
   "source": [
    "for l in output_file2:\n",
    "    source = l # source directory\n",
    "    destination = path\n",
    "    shutil.copy2(source, destination)"
   ]
  },
  {
   "cell_type": "code",
   "execution_count": null,
   "metadata": {},
   "outputs": [],
   "source": [
    "for j in output_file2:\n",
    "    try:\n",
    "        os.remove(j)\n",
    "    except:\n",
    "        pass"
   ]
  },
  {
   "cell_type": "code",
   "execution_count": null,
   "metadata": {},
   "outputs": [],
   "source": []
  },
  {
   "cell_type": "markdown",
   "metadata": {},
   "source": [
    "#### Temp"
   ]
  },
  {
   "cell_type": "code",
   "execution_count": null,
   "metadata": {},
   "outputs": [],
   "source": [
    "df_28 = pd.read_csv(\"Turkish_Word_Group_Max_In_Youtube_Sentence_28_Word6.csv\")\n",
    "df_28"
   ]
  },
  {
   "cell_type": "code",
   "execution_count": null,
   "metadata": {},
   "outputs": [],
   "source": [
    "df_200 = pd.read_csv(\"Turkish_Word_Group_Max_In_Youtube_Sentence_200_Word6.csv\")\n",
    "df_200"
   ]
  },
  {
   "cell_type": "code",
   "execution_count": null,
   "metadata": {},
   "outputs": [],
   "source": [
    "df_1000 = pd.read_csv(\"Turkish_Word_Group_Max_In_Youtube_Sentence_1000_Word6.csv\")\n",
    "df_1000"
   ]
  },
  {
   "cell_type": "code",
   "execution_count": null,
   "metadata": {},
   "outputs": [],
   "source": []
  },
  {
   "cell_type": "code",
   "execution_count": null,
   "metadata": {},
   "outputs": [],
   "source": []
  }
 ],
 "metadata": {
  "kernelspec": {
   "display_name": "Python 3.9.5 ('py39')",
   "language": "python",
   "name": "python3"
  },
  "language_info": {
   "codemirror_mode": {
    "name": "ipython",
    "version": 3
   },
   "file_extension": ".py",
   "mimetype": "text/x-python",
   "name": "python",
   "nbconvert_exporter": "python",
   "pygments_lexer": "ipython3",
   "version": "3.9.5"
  },
  "orig_nbformat": 4,
  "vscode": {
   "interpreter": {
    "hash": "651d507d70892fab0fc6529d935cd476f6e2eb1791525b76da6cc8da34bc0503"
   }
  }
 },
 "nbformat": 4,
 "nbformat_minor": 2
}
