{
 "cells": [
  {
   "attachments": {},
   "cell_type": "markdown",
   "metadata": {},
   "source": [
    "### Word Group In Youtube Firebase"
   ]
  },
  {
   "cell_type": "code",
   "execution_count": 1,
   "metadata": {},
   "outputs": [],
   "source": [
    "import firebase_admin\n",
    "from firebase_admin import credentials, firestore, storage"
   ]
  },
  {
   "cell_type": "code",
   "execution_count": 2,
   "metadata": {},
   "outputs": [],
   "source": [
    "import os\n",
    "import multiprocessing\n",
    "#import multiprocessing as mp\n",
    "from multiprocessing import Process, Manager, Pool, Queue\n",
    "from itertools import islice\n",
    "from collections import Counter\n",
    "import re\n",
    "import pandas as pd\n",
    "import numpy as np\n",
    "import glob\n",
    "import nltk\n",
    "from nltk import word_tokenize\n",
    "from functools import reduce\n",
    "from pathlib import Path\n",
    "import shutil"
   ]
  },
  {
   "cell_type": "code",
   "execution_count": 3,
   "metadata": {},
   "outputs": [
    {
     "name": "stdout",
     "output_type": "stream",
     "text": [
      "Number of CPU cores: 16\n"
     ]
    }
   ],
   "source": [
    "nprocs = multiprocessing.cpu_count()\n",
    "print(f\"Number of CPU cores: {nprocs}\")"
   ]
  },
  {
   "cell_type": "code",
   "execution_count": 4,
   "metadata": {},
   "outputs": [
    {
     "name": "stdout",
     "output_type": "stream",
     "text": [
      "Language = English\n",
      "Lang Id = 1\n",
      "File Extention = 6\n"
     ]
    }
   ],
   "source": [
    "# language pair\n",
    "lang_folder = \"English\"  # Arabic, English, French, German, Turkish, Spanish, Portuguese, Dutch, Italian\n",
    "\n",
    "# language detail num\n",
    "if lang_folder == \"English\":\n",
    "    lang_id = \"1\"\n",
    "elif lang_folder == \"Turkish\":\n",
    "    lang_id = \"2\"\n",
    "elif lang_folder == \"French\":\n",
    "    lang_id = \"3\"\n",
    "elif lang_folder == \"Spanish\":\n",
    "    lang_id = \"4\"\n",
    "elif lang_folder == \"Portuguese\":\n",
    "    lang_id = \"5\"\n",
    "elif lang_folder == \"Dutch\":\n",
    "    lang_id = \"6\"\n",
    "elif lang_folder == \"Italian\":\n",
    "    lang_id = \"7\"\n",
    "elif lang_folder == \"German\":\n",
    "    lang_id = \"8\"\n",
    "elif lang_folder == \"Arabic\":\n",
    "    lang_id = \"9\"\n",
    "else:\n",
    "    pass\n",
    "\n",
    "# prefix suffix file\n",
    "prefix_suffix = False  # True, False  # True for adding prefix suffix word\n",
    "native_word = True # True for adding native word\n",
    "\n",
    "# adding output file extention\n",
    "if prefix_suffix & native_word:\n",
    "    file_ext = \"5\"\n",
    "elif (not prefix_suffix) & native_word:\n",
    "    file_ext = \"6\"\n",
    "else:\n",
    "    file_ext = \"7\"              \n",
    "\n",
    "# 5 => for only native word with prefix suffix.\n",
    "# 6 => for only native word without prefix suffix.\n",
    "\n",
    "print(f\"Language = {lang_folder}\\nLang Id = {lang_id}\\nFile Extention = {file_ext}\")"
   ]
  },
  {
   "cell_type": "code",
   "execution_count": 5,
   "metadata": {},
   "outputs": [],
   "source": [
    "path = f\"/media/kurubal/SSD/Data Scientist/Work/Modern Ways/Project/{lang_folder.capitalize()}/\\\n",
    "Language Level/Result/3-Word Group In Youtube Sentence Firebase\"\n",
    "\n",
    "#Path(path).mkdir(parents=True, exist_ok=True)"
   ]
  },
  {
   "cell_type": "code",
   "execution_count": 6,
   "metadata": {},
   "outputs": [],
   "source": [
    "#cred = credentials.Certificate(\"/home/kurubal/Documents/Firebase/Flash Card/Api Key/flashcard-1c46e-firebase-adminsdk-b4kn5-5ddbde56b3.json\")  # Flash Card\n",
    "cred = credentials.Certificate(\"/home/kurubal/Documents/Firebase/Language Level/Api Key/language-levels-firebase-adminsdk-u1m3n-87de34db73.json\")  # Language Level\n",
    "app = firebase_admin.initialize_app(cred)"
   ]
  },
  {
   "cell_type": "code",
   "execution_count": 7,
   "metadata": {},
   "outputs": [],
   "source": [
    "fire_db = firestore.client()"
   ]
  },
  {
   "attachments": {},
   "cell_type": "markdown",
   "metadata": {},
   "source": [
    "#### Read Data"
   ]
  },
  {
   "cell_type": "code",
   "execution_count": 8,
   "metadata": {},
   "outputs": [],
   "source": [
    "#parent_folder_path = f\"/media/kurubal/SSD/Data Scientist/Work/Modern Ways/Project/{lang_folder.capitalize()}/Language Level/Data/1-Word Group In Youtube Sentence\"\n",
    "parent_folder_path = f\"/media/kurubal/SSD/Data Scientist/Work/Modern Ways/Project/{lang_folder.capitalize()}/Language Level/Result/2-Word Group Prepare For Youtube Tool\""
   ]
  },
  {
   "cell_type": "code",
   "execution_count": 9,
   "metadata": {},
   "outputs": [
    {
     "data": {
      "text/html": [
       "<div>\n",
       "<style scoped>\n",
       "    .dataframe tbody tr th:only-of-type {\n",
       "        vertical-align: middle;\n",
       "    }\n",
       "\n",
       "    .dataframe tbody tr th {\n",
       "        vertical-align: top;\n",
       "    }\n",
       "\n",
       "    .dataframe thead th {\n",
       "        text-align: right;\n",
       "    }\n",
       "</style>\n",
       "<table border=\"1\" class=\"dataframe\">\n",
       "  <thead>\n",
       "    <tr style=\"text-align: right;\">\n",
       "      <th></th>\n",
       "      <th>video_id</th>\n",
       "      <th>start_time</th>\n",
       "      <th>end_time</th>\n",
       "      <th>text</th>\n",
       "    </tr>\n",
       "  </thead>\n",
       "  <tbody>\n",
       "    <tr>\n",
       "      <th>0</th>\n",
       "      <td>mO0oqUQ5eHc</td>\n",
       "      <td>2037</td>\n",
       "      <td>2040</td>\n",
       "      <td>and this is what it was for me and it was</td>\n",
       "    </tr>\n",
       "    <tr>\n",
       "      <th>1</th>\n",
       "      <td>7eUrrQRpz2w</td>\n",
       "      <td>2007</td>\n",
       "      <td>2010</td>\n",
       "      <td>what do we have to do and not do it this</td>\n",
       "    </tr>\n",
       "    <tr>\n",
       "      <th>2</th>\n",
       "      <td>UNnFRj9_TNo</td>\n",
       "      <td>2226</td>\n",
       "      <td>2228</td>\n",
       "      <td>and what this will do is this will</td>\n",
       "    </tr>\n",
       "    <tr>\n",
       "      <th>3</th>\n",
       "      <td>fgMD2wvpvpk</td>\n",
       "      <td>274</td>\n",
       "      <td>279</td>\n",
       "      <td>and what this will do is this will</td>\n",
       "    </tr>\n",
       "    <tr>\n",
       "      <th>4</th>\n",
       "      <td>Gyqu5AER7gg</td>\n",
       "      <td>624</td>\n",
       "      <td>626</td>\n",
       "      <td>what it is that you do and do not</td>\n",
       "    </tr>\n",
       "    <tr>\n",
       "      <th>...</th>\n",
       "      <td>...</td>\n",
       "      <td>...</td>\n",
       "      <td>...</td>\n",
       "      <td>...</td>\n",
       "    </tr>\n",
       "    <tr>\n",
       "      <th>286</th>\n",
       "      <td>yeLQfMmbbcE</td>\n",
       "      <td>60</td>\n",
       "      <td>62</td>\n",
       "      <td>no i am</td>\n",
       "    </tr>\n",
       "    <tr>\n",
       "      <th>287</th>\n",
       "      <td>uldlsT98Bbs</td>\n",
       "      <td>289</td>\n",
       "      <td>293</td>\n",
       "      <td>it will</td>\n",
       "    </tr>\n",
       "    <tr>\n",
       "      <th>288</th>\n",
       "      <td>LfnrRPFhkuY</td>\n",
       "      <td>639</td>\n",
       "      <td>643</td>\n",
       "      <td>it will</td>\n",
       "    </tr>\n",
       "    <tr>\n",
       "      <th>289</th>\n",
       "      <td>zxiHkW22UrA</td>\n",
       "      <td>314</td>\n",
       "      <td>317</td>\n",
       "      <td>it will</td>\n",
       "    </tr>\n",
       "    <tr>\n",
       "      <th>290</th>\n",
       "      <td>1Qz6fafTIEM</td>\n",
       "      <td>2905</td>\n",
       "      <td>2907</td>\n",
       "      <td>he will</td>\n",
       "    </tr>\n",
       "  </tbody>\n",
       "</table>\n",
       "<p>291 rows × 4 columns</p>\n",
       "</div>"
      ],
      "text/plain": [
       "        video_id  start_time  end_time  \\\n",
       "0    mO0oqUQ5eHc        2037      2040   \n",
       "1    7eUrrQRpz2w        2007      2010   \n",
       "2    UNnFRj9_TNo        2226      2228   \n",
       "3    fgMD2wvpvpk         274       279   \n",
       "4    Gyqu5AER7gg         624       626   \n",
       "..           ...         ...       ...   \n",
       "286  yeLQfMmbbcE          60        62   \n",
       "287  uldlsT98Bbs         289       293   \n",
       "288  LfnrRPFhkuY         639       643   \n",
       "289  zxiHkW22UrA         314       317   \n",
       "290  1Qz6fafTIEM        2905      2907   \n",
       "\n",
       "                                          text  \n",
       "0    and this is what it was for me and it was  \n",
       "1     what do we have to do and not do it this  \n",
       "2           and what this will do is this will  \n",
       "3           and what this will do is this will  \n",
       "4            what it is that you do and do not  \n",
       "..                                         ...  \n",
       "286                                    no i am  \n",
       "287                                    it will  \n",
       "288                                    it will  \n",
       "289                                    it will  \n",
       "290                                    he will  \n",
       "\n",
       "[291 rows x 4 columns]"
      ]
     },
     "execution_count": 9,
     "metadata": {},
     "output_type": "execute_result"
    }
   ],
   "source": [
    "#df_28 = pd.read_csv(f\"{parent_folder_path}/{lang_folder.capitalize()}_Word_Group_Max_In_Youtube_Sentence_28_Word{file_ext}.csv\")\n",
    "df_28 = pd.read_excel(f\"{parent_folder_path}/{lang_folder.capitalize()}_Word_Group_Max_In_Youtube_Sentence_28_Word{file_ext}.xlsx\")\n",
    "df_28 = df_28.head(500)\n",
    "df_28"
   ]
  },
  {
   "cell_type": "code",
   "execution_count": 10,
   "metadata": {},
   "outputs": [
    {
     "data": {
      "text/html": [
       "<div>\n",
       "<style scoped>\n",
       "    .dataframe tbody tr th:only-of-type {\n",
       "        vertical-align: middle;\n",
       "    }\n",
       "\n",
       "    .dataframe tbody tr th {\n",
       "        vertical-align: top;\n",
       "    }\n",
       "\n",
       "    .dataframe thead th {\n",
       "        text-align: right;\n",
       "    }\n",
       "</style>\n",
       "<table border=\"1\" class=\"dataframe\">\n",
       "  <thead>\n",
       "    <tr style=\"text-align: right;\">\n",
       "      <th></th>\n",
       "      <th>video_id</th>\n",
       "      <th>start_time</th>\n",
       "      <th>end_time</th>\n",
       "      <th>text</th>\n",
       "    </tr>\n",
       "  </thead>\n",
       "  <tbody>\n",
       "    <tr>\n",
       "      <th>0</th>\n",
       "      <td>_aBzOI9DWb4</td>\n",
       "      <td>538</td>\n",
       "      <td>546</td>\n",
       "      <td>what do you think about this i mean yeah to me...</td>\n",
       "    </tr>\n",
       "    <tr>\n",
       "      <th>1</th>\n",
       "      <td>ldlflaQVAAE</td>\n",
       "      <td>937</td>\n",
       "      <td>943</td>\n",
       "      <td>things that are out there you can do nothing a...</td>\n",
       "    </tr>\n",
       "    <tr>\n",
       "      <th>2</th>\n",
       "      <td>MXGmKbjEIlw</td>\n",
       "      <td>2610</td>\n",
       "      <td>2615</td>\n",
       "      <td>the way is where this is why i really want to ...</td>\n",
       "    </tr>\n",
       "    <tr>\n",
       "      <th>3</th>\n",
       "      <td>dYa5scWadpc</td>\n",
       "      <td>1637</td>\n",
       "      <td>1645</td>\n",
       "      <td>say oh yeah yes she can and she would like to ...</td>\n",
       "    </tr>\n",
       "    <tr>\n",
       "      <th>4</th>\n",
       "      <td>fhADSlQLimI</td>\n",
       "      <td>100</td>\n",
       "      <td>109</td>\n",
       "      <td>help give back how can i make it that much bet...</td>\n",
       "    </tr>\n",
       "    <tr>\n",
       "      <th>...</th>\n",
       "      <td>...</td>\n",
       "      <td>...</td>\n",
       "      <td>...</td>\n",
       "      <td>...</td>\n",
       "    </tr>\n",
       "    <tr>\n",
       "      <th>495</th>\n",
       "      <td>ymLgOnwn9vA</td>\n",
       "      <td>230</td>\n",
       "      <td>234</td>\n",
       "      <td>never be as good as me at anything</td>\n",
       "    </tr>\n",
       "    <tr>\n",
       "      <th>496</th>\n",
       "      <td>YUBkkVdFT8o</td>\n",
       "      <td>771</td>\n",
       "      <td>773</td>\n",
       "      <td>has just about everything going on</td>\n",
       "    </tr>\n",
       "    <tr>\n",
       "      <th>497</th>\n",
       "      <td>toVXOrfFasA</td>\n",
       "      <td>32</td>\n",
       "      <td>35</td>\n",
       "      <td>where nothing would be going on in</td>\n",
       "    </tr>\n",
       "    <tr>\n",
       "      <th>498</th>\n",
       "      <td>5K2cqeYE07M</td>\n",
       "      <td>1608</td>\n",
       "      <td>1611</td>\n",
       "      <td>those who have been with us before</td>\n",
       "    </tr>\n",
       "    <tr>\n",
       "      <th>499</th>\n",
       "      <td>5fUOu_48ti8</td>\n",
       "      <td>4745</td>\n",
       "      <td>4747</td>\n",
       "      <td>just got time for maybe one or two</td>\n",
       "    </tr>\n",
       "  </tbody>\n",
       "</table>\n",
       "<p>500 rows × 4 columns</p>\n",
       "</div>"
      ],
      "text/plain": [
       "        video_id  start_time  end_time  \\\n",
       "0    _aBzOI9DWb4         538       546   \n",
       "1    ldlflaQVAAE         937       943   \n",
       "2    MXGmKbjEIlw        2610      2615   \n",
       "3    dYa5scWadpc        1637      1645   \n",
       "4    fhADSlQLimI         100       109   \n",
       "..           ...         ...       ...   \n",
       "495  ymLgOnwn9vA         230       234   \n",
       "496  YUBkkVdFT8o         771       773   \n",
       "497  toVXOrfFasA          32        35   \n",
       "498  5K2cqeYE07M        1608      1611   \n",
       "499  5fUOu_48ti8        4745      4747   \n",
       "\n",
       "                                                  text  \n",
       "0    what do you think about this i mean yeah to me...  \n",
       "1    things that are out there you can do nothing a...  \n",
       "2    the way is where this is why i really want to ...  \n",
       "3    say oh yeah yes she can and she would like to ...  \n",
       "4    help give back how can i make it that much bet...  \n",
       "..                                                 ...  \n",
       "495                 never be as good as me at anything  \n",
       "496                 has just about everything going on  \n",
       "497                 where nothing would be going on in  \n",
       "498                 those who have been with us before  \n",
       "499                 just got time for maybe one or two  \n",
       "\n",
       "[500 rows x 4 columns]"
      ]
     },
     "execution_count": 10,
     "metadata": {},
     "output_type": "execute_result"
    }
   ],
   "source": [
    "#df_200 = pd.read_csv(f\"{parent_folder_path}/{lang_folder.capitalize()}_Word_Group_Max_In_Youtube_Sentence_200_Word{file_ext}.csv\")\n",
    "df_200 = pd.read_excel(f\"{parent_folder_path}/{lang_folder.capitalize()}_Word_Group_Max_In_Youtube_Sentence_200_Word{file_ext}.xlsx\")\n",
    "df_200 = df_200.head(500)\n",
    "df_200"
   ]
  },
  {
   "cell_type": "code",
   "execution_count": 11,
   "metadata": {},
   "outputs": [
    {
     "data": {
      "text/html": [
       "<div>\n",
       "<style scoped>\n",
       "    .dataframe tbody tr th:only-of-type {\n",
       "        vertical-align: middle;\n",
       "    }\n",
       "\n",
       "    .dataframe tbody tr th {\n",
       "        vertical-align: top;\n",
       "    }\n",
       "\n",
       "    .dataframe thead th {\n",
       "        text-align: right;\n",
       "    }\n",
       "</style>\n",
       "<table border=\"1\" class=\"dataframe\">\n",
       "  <thead>\n",
       "    <tr style=\"text-align: right;\">\n",
       "      <th></th>\n",
       "      <th>video_id</th>\n",
       "      <th>start_time</th>\n",
       "      <th>end_time</th>\n",
       "      <th>text</th>\n",
       "    </tr>\n",
       "  </thead>\n",
       "  <tbody>\n",
       "    <tr>\n",
       "      <th>0</th>\n",
       "      <td>K1GhQ8633Bg</td>\n",
       "      <td>293</td>\n",
       "      <td>302</td>\n",
       "      <td>so you can imagine if you go through all of th...</td>\n",
       "    </tr>\n",
       "    <tr>\n",
       "      <th>1</th>\n",
       "      <td>G3w3f6M_w54</td>\n",
       "      <td>971</td>\n",
       "      <td>978</td>\n",
       "      <td>and so one of the questions people say to me i...</td>\n",
       "    </tr>\n",
       "    <tr>\n",
       "      <th>2</th>\n",
       "      <td>GymR27z8RHM</td>\n",
       "      <td>49</td>\n",
       "      <td>59</td>\n",
       "      <td>its a little family that you turn into and jus...</td>\n",
       "    </tr>\n",
       "    <tr>\n",
       "      <th>3</th>\n",
       "      <td>J6eEdQrcYZw</td>\n",
       "      <td>2153</td>\n",
       "      <td>2161</td>\n",
       "      <td>than you would ever imagine right and its its ...</td>\n",
       "    </tr>\n",
       "    <tr>\n",
       "      <th>4</th>\n",
       "      <td>ka7lOSmTe68</td>\n",
       "      <td>578</td>\n",
       "      <td>583</td>\n",
       "      <td>and so those are some of the things that we go...</td>\n",
       "    </tr>\n",
       "    <tr>\n",
       "      <th>...</th>\n",
       "      <td>...</td>\n",
       "      <td>...</td>\n",
       "      <td>...</td>\n",
       "      <td>...</td>\n",
       "    </tr>\n",
       "    <tr>\n",
       "      <th>495</th>\n",
       "      <td>CFOZAG0QbXM</td>\n",
       "      <td>1247</td>\n",
       "      <td>1251</td>\n",
       "      <td>all right looks like were looking pretty done ...</td>\n",
       "    </tr>\n",
       "    <tr>\n",
       "      <th>496</th>\n",
       "      <td>GafAaVaKA6Y</td>\n",
       "      <td>2236</td>\n",
       "      <td>2241</td>\n",
       "      <td>like actually start off maybe doing business s...</td>\n",
       "    </tr>\n",
       "    <tr>\n",
       "      <th>497</th>\n",
       "      <td>8nnN8UgPk40</td>\n",
       "      <td>1601</td>\n",
       "      <td>1604</td>\n",
       "      <td>sure those who want them have already bought them</td>\n",
       "    </tr>\n",
       "    <tr>\n",
       "      <th>498</th>\n",
       "      <td>bWr1HXqRKC0</td>\n",
       "      <td>195</td>\n",
       "      <td>200</td>\n",
       "      <td>like every morning afternoon every day week month</td>\n",
       "    </tr>\n",
       "    <tr>\n",
       "      <th>499</th>\n",
       "      <td>bBJxtiR3rUE</td>\n",
       "      <td>3725</td>\n",
       "      <td>3730</td>\n",
       "      <td>his life should not have been taken away from him</td>\n",
       "    </tr>\n",
       "  </tbody>\n",
       "</table>\n",
       "<p>500 rows × 4 columns</p>\n",
       "</div>"
      ],
      "text/plain": [
       "        video_id  start_time  end_time  \\\n",
       "0    K1GhQ8633Bg         293       302   \n",
       "1    G3w3f6M_w54         971       978   \n",
       "2    GymR27z8RHM          49        59   \n",
       "3    J6eEdQrcYZw        2153      2161   \n",
       "4    ka7lOSmTe68         578       583   \n",
       "..           ...         ...       ...   \n",
       "495  CFOZAG0QbXM        1247      1251   \n",
       "496  GafAaVaKA6Y        2236      2241   \n",
       "497  8nnN8UgPk40        1601      1604   \n",
       "498  bWr1HXqRKC0         195       200   \n",
       "499  bBJxtiR3rUE        3725      3730   \n",
       "\n",
       "                                                  text  \n",
       "0    so you can imagine if you go through all of th...  \n",
       "1    and so one of the questions people say to me i...  \n",
       "2    its a little family that you turn into and jus...  \n",
       "3    than you would ever imagine right and its its ...  \n",
       "4    and so those are some of the things that we go...  \n",
       "..                                                 ...  \n",
       "495  all right looks like were looking pretty done ...  \n",
       "496  like actually start off maybe doing business s...  \n",
       "497  sure those who want them have already bought them  \n",
       "498  like every morning afternoon every day week month  \n",
       "499  his life should not have been taken away from him  \n",
       "\n",
       "[500 rows x 4 columns]"
      ]
     },
     "execution_count": 11,
     "metadata": {},
     "output_type": "execute_result"
    }
   ],
   "source": [
    "#df_1000 = pd.read_csv(f\"{parent_folder_path}/{lang_folder.capitalize()}_Word_Group_Max_In_Youtube_Sentence_1000_Word{file_ext}.csv\")\n",
    "df_1000 = pd.read_excel(f\"{parent_folder_path}/{lang_folder.capitalize()}_Word_Group_Max_In_Youtube_Sentence_1000_Word{file_ext}.xlsx\")\n",
    "df_1000 = df_1000.head(500)\n",
    "df_1000"
   ]
  },
  {
   "cell_type": "code",
   "execution_count": 12,
   "metadata": {},
   "outputs": [
    {
     "data": {
      "text/html": [
       "<div>\n",
       "<style scoped>\n",
       "    .dataframe tbody tr th:only-of-type {\n",
       "        vertical-align: middle;\n",
       "    }\n",
       "\n",
       "    .dataframe tbody tr th {\n",
       "        vertical-align: top;\n",
       "    }\n",
       "\n",
       "    .dataframe thead th {\n",
       "        text-align: right;\n",
       "    }\n",
       "</style>\n",
       "<table border=\"1\" class=\"dataframe\">\n",
       "  <thead>\n",
       "    <tr style=\"text-align: right;\">\n",
       "      <th></th>\n",
       "      <th>video_id</th>\n",
       "      <th>start_time</th>\n",
       "      <th>end_time</th>\n",
       "      <th>text</th>\n",
       "    </tr>\n",
       "  </thead>\n",
       "  <tbody>\n",
       "    <tr>\n",
       "      <th>0</th>\n",
       "      <td>iJkfTPN8MS0</td>\n",
       "      <td>2093</td>\n",
       "      <td>2110</td>\n",
       "      <td>without having um as much structure or as much...</td>\n",
       "    </tr>\n",
       "    <tr>\n",
       "      <th>1</th>\n",
       "      <td>nDOjm1UKsNM</td>\n",
       "      <td>1869</td>\n",
       "      <td>1886</td>\n",
       "      <td>lets talk about your action plans now and i an...</td>\n",
       "    </tr>\n",
       "    <tr>\n",
       "      <th>2</th>\n",
       "      <td>nDOjm1UKsNM</td>\n",
       "      <td>932</td>\n",
       "      <td>951</td>\n",
       "      <td>here in as an example of hours of operation ri...</td>\n",
       "    </tr>\n",
       "    <tr>\n",
       "      <th>3</th>\n",
       "      <td>b9pudZegYgQ</td>\n",
       "      <td>2320</td>\n",
       "      <td>2335</td>\n",
       "      <td>norman jones remember the kind of big picture ...</td>\n",
       "    </tr>\n",
       "    <tr>\n",
       "      <th>4</th>\n",
       "      <td>pNDXsUrO3Rs</td>\n",
       "      <td>2798</td>\n",
       "      <td>2809</td>\n",
       "      <td>de rose we appreciate you being here im glad i...</td>\n",
       "    </tr>\n",
       "    <tr>\n",
       "      <th>...</th>\n",
       "      <td>...</td>\n",
       "      <td>...</td>\n",
       "      <td>...</td>\n",
       "      <td>...</td>\n",
       "    </tr>\n",
       "    <tr>\n",
       "      <th>495</th>\n",
       "      <td>SpBj7Z2vueQ</td>\n",
       "      <td>63</td>\n",
       "      <td>68</td>\n",
       "      <td>student id number located on your student educ...</td>\n",
       "    </tr>\n",
       "    <tr>\n",
       "      <th>496</th>\n",
       "      <td>Z4BBbi10g1w</td>\n",
       "      <td>3266</td>\n",
       "      <td>3271</td>\n",
       "      <td>because its really its really useful especiall...</td>\n",
       "    </tr>\n",
       "    <tr>\n",
       "      <th>497</th>\n",
       "      <td>5Ag_FIRRTb0</td>\n",
       "      <td>1043</td>\n",
       "      <td>1048</td>\n",
       "      <td>he its absolutely delicious im gon na get one ...</td>\n",
       "    </tr>\n",
       "    <tr>\n",
       "      <th>498</th>\n",
       "      <td>OWwYGCnLpWw</td>\n",
       "      <td>1810</td>\n",
       "      <td>1814</td>\n",
       "      <td>closest hospital its actually technically on o...</td>\n",
       "    </tr>\n",
       "    <tr>\n",
       "      <th>499</th>\n",
       "      <td>__jg98sdg_Q</td>\n",
       "      <td>2069</td>\n",
       "      <td>2074</td>\n",
       "      <td>however he did eventually agree he provided he...</td>\n",
       "    </tr>\n",
       "  </tbody>\n",
       "</table>\n",
       "<p>500 rows × 4 columns</p>\n",
       "</div>"
      ],
      "text/plain": [
       "        video_id  start_time  end_time  \\\n",
       "0    iJkfTPN8MS0        2093      2110   \n",
       "1    nDOjm1UKsNM        1869      1886   \n",
       "2    nDOjm1UKsNM         932       951   \n",
       "3    b9pudZegYgQ        2320      2335   \n",
       "4    pNDXsUrO3Rs        2798      2809   \n",
       "..           ...         ...       ...   \n",
       "495  SpBj7Z2vueQ          63        68   \n",
       "496  Z4BBbi10g1w        3266      3271   \n",
       "497  5Ag_FIRRTb0        1043      1048   \n",
       "498  OWwYGCnLpWw        1810      1814   \n",
       "499  __jg98sdg_Q        2069      2074   \n",
       "\n",
       "                                                  text  \n",
       "0    without having um as much structure or as much...  \n",
       "1    lets talk about your action plans now and i an...  \n",
       "2    here in as an example of hours of operation ri...  \n",
       "3    norman jones remember the kind of big picture ...  \n",
       "4    de rose we appreciate you being here im glad i...  \n",
       "..                                                 ...  \n",
       "495  student id number located on your student educ...  \n",
       "496  because its really its really useful especiall...  \n",
       "497  he its absolutely delicious im gon na get one ...  \n",
       "498  closest hospital its actually technically on o...  \n",
       "499  however he did eventually agree he provided he...  \n",
       "\n",
       "[500 rows x 4 columns]"
      ]
     },
     "execution_count": 12,
     "metadata": {},
     "output_type": "execute_result"
    }
   ],
   "source": [
    "#df_5000 = pd.read_csv(f\"{parent_folder_path}/{lang_folder.capitalize()}_Word_Group_Max_In_Youtube_Sentence_5000_Word{file_ext}.csv\")\n",
    "df_5000 = pd.read_excel(f\"{parent_folder_path}/{lang_folder.capitalize()}_Word_Group_Max_In_Youtube_Sentence_5000_Word{file_ext}.xlsx\")\n",
    "df_5000 = df_5000.head(500)\n",
    "df_5000"
   ]
  },
  {
   "cell_type": "code",
   "execution_count": 13,
   "metadata": {},
   "outputs": [
    {
     "data": {
      "text/html": [
       "<div>\n",
       "<style scoped>\n",
       "    .dataframe tbody tr th:only-of-type {\n",
       "        vertical-align: middle;\n",
       "    }\n",
       "\n",
       "    .dataframe tbody tr th {\n",
       "        vertical-align: top;\n",
       "    }\n",
       "\n",
       "    .dataframe thead th {\n",
       "        text-align: right;\n",
       "    }\n",
       "</style>\n",
       "<table border=\"1\" class=\"dataframe\">\n",
       "  <thead>\n",
       "    <tr style=\"text-align: right;\">\n",
       "      <th></th>\n",
       "      <th>video_id</th>\n",
       "      <th>start_time</th>\n",
       "      <th>end_time</th>\n",
       "      <th>text</th>\n",
       "    </tr>\n",
       "  </thead>\n",
       "  <tbody>\n",
       "    <tr>\n",
       "      <th>0</th>\n",
       "      <td>rZEc_NCcorU</td>\n",
       "      <td>2165</td>\n",
       "      <td>2183</td>\n",
       "      <td>dr michelle taylor good afternoon everyone its...</td>\n",
       "    </tr>\n",
       "    <tr>\n",
       "      <th>1</th>\n",
       "      <td>b9pudZegYgQ</td>\n",
       "      <td>2322</td>\n",
       "      <td>2339</td>\n",
       "      <td>norman jones remember the kind of big picture ...</td>\n",
       "    </tr>\n",
       "    <tr>\n",
       "      <th>2</th>\n",
       "      <td>pNDXsUrO3Rs</td>\n",
       "      <td>2799</td>\n",
       "      <td>2810</td>\n",
       "      <td>de rose we appreciate you being here im glad i...</td>\n",
       "    </tr>\n",
       "    <tr>\n",
       "      <th>3</th>\n",
       "      <td>6dxtMxcFJ3M</td>\n",
       "      <td>3050</td>\n",
       "      <td>3067</td>\n",
       "      <td>when all the students parents old school toget...</td>\n",
       "    </tr>\n",
       "    <tr>\n",
       "      <th>4</th>\n",
       "      <td>o8vvI_sbAW0</td>\n",
       "      <td>2825</td>\n",
       "      <td>2842</td>\n",
       "      <td>eric fletcher but an overall the students are ...</td>\n",
       "    </tr>\n",
       "    <tr>\n",
       "      <th>...</th>\n",
       "      <td>...</td>\n",
       "      <td>...</td>\n",
       "      <td>...</td>\n",
       "      <td>...</td>\n",
       "    </tr>\n",
       "    <tr>\n",
       "      <th>495</th>\n",
       "      <td>MpKKM0ElCZA</td>\n",
       "      <td>37</td>\n",
       "      <td>41</td>\n",
       "      <td>businesses have several options when deciding ...</td>\n",
       "    </tr>\n",
       "    <tr>\n",
       "      <th>496</th>\n",
       "      <td>vjaS9sdTnRY</td>\n",
       "      <td>83</td>\n",
       "      <td>89</td>\n",
       "      <td>country different from their graduate work als...</td>\n",
       "    </tr>\n",
       "    <tr>\n",
       "      <th>497</th>\n",
       "      <td>wRvbpmxbrsQ</td>\n",
       "      <td>2</td>\n",
       "      <td>6</td>\n",
       "      <td>filming underwater can be challenging especial...</td>\n",
       "    </tr>\n",
       "    <tr>\n",
       "      <th>498</th>\n",
       "      <td>S6TgMNSxayQ</td>\n",
       "      <td>5476</td>\n",
       "      <td>5484</td>\n",
       "      <td>yeah sometimes these parks can not contain him...</td>\n",
       "    </tr>\n",
       "    <tr>\n",
       "      <th>499</th>\n",
       "      <td>1hMKTF4goKE</td>\n",
       "      <td>677</td>\n",
       "      <td>682</td>\n",
       "      <td>tickets were sold out all four nights an incre...</td>\n",
       "    </tr>\n",
       "  </tbody>\n",
       "</table>\n",
       "<p>500 rows × 4 columns</p>\n",
       "</div>"
      ],
      "text/plain": [
       "        video_id  start_time  end_time  \\\n",
       "0    rZEc_NCcorU        2165      2183   \n",
       "1    b9pudZegYgQ        2322      2339   \n",
       "2    pNDXsUrO3Rs        2799      2810   \n",
       "3    6dxtMxcFJ3M        3050      3067   \n",
       "4    o8vvI_sbAW0        2825      2842   \n",
       "..           ...         ...       ...   \n",
       "495  MpKKM0ElCZA          37        41   \n",
       "496  vjaS9sdTnRY          83        89   \n",
       "497  wRvbpmxbrsQ           2         6   \n",
       "498  S6TgMNSxayQ        5476      5484   \n",
       "499  1hMKTF4goKE         677       682   \n",
       "\n",
       "                                                  text  \n",
       "0    dr michelle taylor good afternoon everyone its...  \n",
       "1    norman jones remember the kind of big picture ...  \n",
       "2    de rose we appreciate you being here im glad i...  \n",
       "3    when all the students parents old school toget...  \n",
       "4    eric fletcher but an overall the students are ...  \n",
       "..                                                 ...  \n",
       "495  businesses have several options when deciding ...  \n",
       "496  country different from their graduate work als...  \n",
       "497  filming underwater can be challenging especial...  \n",
       "498  yeah sometimes these parks can not contain him...  \n",
       "499  tickets were sold out all four nights an incre...  \n",
       "\n",
       "[500 rows x 4 columns]"
      ]
     },
     "execution_count": 13,
     "metadata": {},
     "output_type": "execute_result"
    }
   ],
   "source": [
    "#df_10000 = pd.read_csv(f\"{parent_folder_path}/{lang_folder.capitalize()}_Word_Group_Max_In_Youtube_Sentence_10000_Word{file_ext}.csv\")\n",
    "df_10000 = pd.read_excel(f\"{parent_folder_path}/{lang_folder.capitalize()}_Word_Group_Max_In_Youtube_Sentence_10000_Word{file_ext}.xlsx\")\n",
    "df_10000 = df_10000.head(500)\n",
    "df_10000"
   ]
  },
  {
   "cell_type": "code",
   "execution_count": 14,
   "metadata": {},
   "outputs": [
    {
     "data": {
      "text/html": [
       "<div>\n",
       "<style scoped>\n",
       "    .dataframe tbody tr th:only-of-type {\n",
       "        vertical-align: middle;\n",
       "    }\n",
       "\n",
       "    .dataframe tbody tr th {\n",
       "        vertical-align: top;\n",
       "    }\n",
       "\n",
       "    .dataframe thead th {\n",
       "        text-align: right;\n",
       "    }\n",
       "</style>\n",
       "<table border=\"1\" class=\"dataframe\">\n",
       "  <thead>\n",
       "    <tr style=\"text-align: right;\">\n",
       "      <th></th>\n",
       "      <th>video_id</th>\n",
       "      <th>start_time</th>\n",
       "      <th>end_time</th>\n",
       "      <th>text</th>\n",
       "    </tr>\n",
       "  </thead>\n",
       "  <tbody>\n",
       "    <tr>\n",
       "      <th>0</th>\n",
       "      <td>gasLdUX61TU</td>\n",
       "      <td>5512</td>\n",
       "      <td>5527</td>\n",
       "      <td>that this is not just getting any old attorney...</td>\n",
       "    </tr>\n",
       "    <tr>\n",
       "      <th>1</th>\n",
       "      <td>HWTd4jxCixk</td>\n",
       "      <td>2198</td>\n",
       "      <td>2213</td>\n",
       "      <td>thats something you dont have to worry about a...</td>\n",
       "    </tr>\n",
       "    <tr>\n",
       "      <th>2</th>\n",
       "      <td>qgBqBnEJFgs</td>\n",
       "      <td>1443</td>\n",
       "      <td>1462</td>\n",
       "      <td>so prepare relevant questions and also on the ...</td>\n",
       "    </tr>\n",
       "    <tr>\n",
       "      <th>3</th>\n",
       "      <td>9nBekn1eQtg</td>\n",
       "      <td>3463</td>\n",
       "      <td>3484</td>\n",
       "      <td>james moore depending on the graduation someti...</td>\n",
       "    </tr>\n",
       "    <tr>\n",
       "      <th>4</th>\n",
       "      <td>Anatl2PLRag</td>\n",
       "      <td>3705</td>\n",
       "      <td>3724</td>\n",
       "      <td>this type of research yeah i think thats still...</td>\n",
       "    </tr>\n",
       "    <tr>\n",
       "      <th>...</th>\n",
       "      <td>...</td>\n",
       "      <td>...</td>\n",
       "      <td>...</td>\n",
       "      <td>...</td>\n",
       "    </tr>\n",
       "    <tr>\n",
       "      <th>495</th>\n",
       "      <td>36H86XpjduA</td>\n",
       "      <td>114</td>\n",
       "      <td>120</td>\n",
       "      <td>theres nothing more exciting than being presen...</td>\n",
       "    </tr>\n",
       "    <tr>\n",
       "      <th>496</th>\n",
       "      <td>wK9xY7Rfy5k</td>\n",
       "      <td>313</td>\n",
       "      <td>318</td>\n",
       "      <td>an air shock should surprisingly feel almost i...</td>\n",
       "    </tr>\n",
       "    <tr>\n",
       "      <th>497</th>\n",
       "      <td>Bj1_IU3iTZw</td>\n",
       "      <td>51</td>\n",
       "      <td>55</td>\n",
       "      <td>if youve been youre wondering if ill make more...</td>\n",
       "    </tr>\n",
       "    <tr>\n",
       "      <th>498</th>\n",
       "      <td>_NkgI4m8qCQ</td>\n",
       "      <td>2265</td>\n",
       "      <td>2270</td>\n",
       "      <td>favorite drink were getting back into pumpkin ...</td>\n",
       "    </tr>\n",
       "    <tr>\n",
       "      <th>499</th>\n",
       "      <td>DkmWtXCJGKw</td>\n",
       "      <td>497</td>\n",
       "      <td>502</td>\n",
       "      <td>your references probably wont be contacted the...</td>\n",
       "    </tr>\n",
       "  </tbody>\n",
       "</table>\n",
       "<p>500 rows × 4 columns</p>\n",
       "</div>"
      ],
      "text/plain": [
       "        video_id  start_time  end_time  \\\n",
       "0    gasLdUX61TU        5512      5527   \n",
       "1    HWTd4jxCixk        2198      2213   \n",
       "2    qgBqBnEJFgs        1443      1462   \n",
       "3    9nBekn1eQtg        3463      3484   \n",
       "4    Anatl2PLRag        3705      3724   \n",
       "..           ...         ...       ...   \n",
       "495  36H86XpjduA         114       120   \n",
       "496  wK9xY7Rfy5k         313       318   \n",
       "497  Bj1_IU3iTZw          51        55   \n",
       "498  _NkgI4m8qCQ        2265      2270   \n",
       "499  DkmWtXCJGKw         497       502   \n",
       "\n",
       "                                                  text  \n",
       "0    that this is not just getting any old attorney...  \n",
       "1    thats something you dont have to worry about a...  \n",
       "2    so prepare relevant questions and also on the ...  \n",
       "3    james moore depending on the graduation someti...  \n",
       "4    this type of research yeah i think thats still...  \n",
       "..                                                 ...  \n",
       "495  theres nothing more exciting than being presen...  \n",
       "496  an air shock should surprisingly feel almost i...  \n",
       "497  if youve been youre wondering if ill make more...  \n",
       "498  favorite drink were getting back into pumpkin ...  \n",
       "499  your references probably wont be contacted the...  \n",
       "\n",
       "[500 rows x 4 columns]"
      ]
     },
     "execution_count": 14,
     "metadata": {},
     "output_type": "execute_result"
    }
   ],
   "source": [
    "#df_20000 = pd.read_csv(f\"{parent_folder_path}/{lang_folder.capitalize()}_Word_Group_Max_In_Youtube_Sentence_20000_Word{file_ext}.csv\")\n",
    "df_20000 = pd.read_excel(f\"{parent_folder_path}/{lang_folder.capitalize()}_Word_Group_Max_In_Youtube_Sentence_20000_Word{file_ext}.xlsx\")\n",
    "df_20000 = df_20000.head(500)\n",
    "df_20000"
   ]
  },
  {
   "cell_type": "code",
   "execution_count": 15,
   "metadata": {},
   "outputs": [
    {
     "data": {
      "text/html": [
       "<div>\n",
       "<style scoped>\n",
       "    .dataframe tbody tr th:only-of-type {\n",
       "        vertical-align: middle;\n",
       "    }\n",
       "\n",
       "    .dataframe tbody tr th {\n",
       "        vertical-align: top;\n",
       "    }\n",
       "\n",
       "    .dataframe thead th {\n",
       "        text-align: right;\n",
       "    }\n",
       "</style>\n",
       "<table border=\"1\" class=\"dataframe\">\n",
       "  <thead>\n",
       "    <tr style=\"text-align: right;\">\n",
       "      <th></th>\n",
       "      <th>video_id</th>\n",
       "      <th>start_time</th>\n",
       "      <th>end_time</th>\n",
       "      <th>text</th>\n",
       "    </tr>\n",
       "  </thead>\n",
       "  <tbody>\n",
       "    <tr>\n",
       "      <th>0</th>\n",
       "      <td>gasLdUX61TU</td>\n",
       "      <td>1756</td>\n",
       "      <td>1772</td>\n",
       "      <td>brian hoffman but look at how different the ou...</td>\n",
       "    </tr>\n",
       "    <tr>\n",
       "      <th>1</th>\n",
       "      <td>SnAFp1hTNP8</td>\n",
       "      <td>5444</td>\n",
       "      <td>5464</td>\n",
       "      <td>chrissy foster were seeing this pop up in so m...</td>\n",
       "    </tr>\n",
       "    <tr>\n",
       "      <th>2</th>\n",
       "      <td>twJkEtTvvEo</td>\n",
       "      <td>485</td>\n",
       "      <td>503</td>\n",
       "      <td>and that is something thats really important e...</td>\n",
       "    </tr>\n",
       "    <tr>\n",
       "      <th>3</th>\n",
       "      <td>PRG60EnKnIo</td>\n",
       "      <td>2541</td>\n",
       "      <td>2554</td>\n",
       "      <td>david shoemaker responded back to her in a pri...</td>\n",
       "    </tr>\n",
       "    <tr>\n",
       "      <th>4</th>\n",
       "      <td>tffd1kmM3e4</td>\n",
       "      <td>2082</td>\n",
       "      <td>2102</td>\n",
       "      <td>teresa bill well and ill just share that i rea...</td>\n",
       "    </tr>\n",
       "    <tr>\n",
       "      <th>...</th>\n",
       "      <td>...</td>\n",
       "      <td>...</td>\n",
       "      <td>...</td>\n",
       "      <td>...</td>\n",
       "    </tr>\n",
       "    <tr>\n",
       "      <th>460</th>\n",
       "      <td>ClmyDptd8Zs</td>\n",
       "      <td>3215</td>\n",
       "      <td>3220</td>\n",
       "      <td>lifes most important questions our friends at ...</td>\n",
       "    </tr>\n",
       "    <tr>\n",
       "      <th>461</th>\n",
       "      <td>mK8ykR8tlT8</td>\n",
       "      <td>518</td>\n",
       "      <td>523</td>\n",
       "      <td>them anymore thats disappointing because they ...</td>\n",
       "    </tr>\n",
       "    <tr>\n",
       "      <th>462</th>\n",
       "      <td>lcJbQNfS6T4</td>\n",
       "      <td>1448</td>\n",
       "      <td>1455</td>\n",
       "      <td>sometimes if youre only looking at one particu...</td>\n",
       "    </tr>\n",
       "    <tr>\n",
       "      <th>463</th>\n",
       "      <td>Bh_LYZh3KH4</td>\n",
       "      <td>1554</td>\n",
       "      <td>1561</td>\n",
       "      <td>some examples could be defective equipment sli...</td>\n",
       "    </tr>\n",
       "    <tr>\n",
       "      <th>464</th>\n",
       "      <td>I552zO4QKuc</td>\n",
       "      <td>362</td>\n",
       "      <td>369</td>\n",
       "      <td>its teaching philosophy inspired by its awardw...</td>\n",
       "    </tr>\n",
       "  </tbody>\n",
       "</table>\n",
       "<p>465 rows × 4 columns</p>\n",
       "</div>"
      ],
      "text/plain": [
       "        video_id  start_time  end_time  \\\n",
       "0    gasLdUX61TU        1756      1772   \n",
       "1    SnAFp1hTNP8        5444      5464   \n",
       "2    twJkEtTvvEo         485       503   \n",
       "3    PRG60EnKnIo        2541      2554   \n",
       "4    tffd1kmM3e4        2082      2102   \n",
       "..           ...         ...       ...   \n",
       "460  ClmyDptd8Zs        3215      3220   \n",
       "461  mK8ykR8tlT8         518       523   \n",
       "462  lcJbQNfS6T4        1448      1455   \n",
       "463  Bh_LYZh3KH4        1554      1561   \n",
       "464  I552zO4QKuc         362       369   \n",
       "\n",
       "                                                  text  \n",
       "0    brian hoffman but look at how different the ou...  \n",
       "1    chrissy foster were seeing this pop up in so m...  \n",
       "2    and that is something thats really important e...  \n",
       "3    david shoemaker responded back to her in a pri...  \n",
       "4    teresa bill well and ill just share that i rea...  \n",
       "..                                                 ...  \n",
       "460  lifes most important questions our friends at ...  \n",
       "461  them anymore thats disappointing because they ...  \n",
       "462  sometimes if youre only looking at one particu...  \n",
       "463  some examples could be defective equipment sli...  \n",
       "464  its teaching philosophy inspired by its awardw...  \n",
       "\n",
       "[465 rows x 4 columns]"
      ]
     },
     "execution_count": 15,
     "metadata": {},
     "output_type": "execute_result"
    }
   ],
   "source": [
    "#df_40000 = pd.read_csv(f\"{parent_folder_path}/{lang_folder.capitalize()}_Word_Group_Max_In_Youtube_Sentence_40000_Word{file_ext}.csv\")\n",
    "df_40000 = pd.read_excel(f\"{parent_folder_path}/{lang_folder.capitalize()}_Word_Group_Max_In_Youtube_Sentence_40000_Word{file_ext}.xlsx\")\n",
    "df_40000 = df_40000.head(500)\n",
    "df_40000"
   ]
  },
  {
   "cell_type": "code",
   "execution_count": null,
   "metadata": {},
   "outputs": [],
   "source": []
  },
  {
   "attachments": {},
   "cell_type": "markdown",
   "metadata": {},
   "source": [
    "#### Sending Data To Firestore"
   ]
  },
  {
   "attachments": {},
   "cell_type": "markdown",
   "metadata": {},
   "source": [
    "##### Language Data"
   ]
  },
  {
   "cell_type": "code",
   "execution_count": 16,
   "metadata": {},
   "outputs": [],
   "source": [
    "language_data = {\"languages\":[{\"id\":1, \"name\":\"English\"},{\"id\":2, \"name\":\"Turkish\"},{\"id\":3, \"name\":\"French\"},\n",
    "                              {\"id\":4,\"name\":\"Spanish\"},{\"id\":5, \"name\":\"Portuguese\"},{\"id\":6, \"name\":\"Dutch\"},\n",
    "                              {\"id\":7, \"name\":\"Italian\"},{\"id\":8, \"name\":\"German\"},{\"id\":9, \"name\":\"Arabic\"}]}"
   ]
  },
  {
   "cell_type": "code",
   "execution_count": 17,
   "metadata": {},
   "outputs": [],
   "source": [
    "#fire_db.collection(\"language-data\").document(\"languages\").set(language_data)"
   ]
  },
  {
   "attachments": {},
   "cell_type": "markdown",
   "metadata": {},
   "source": [
    "##### Language Detail"
   ]
  },
  {
   "attachments": {},
   "cell_type": "markdown",
   "metadata": {},
   "source": [
    "##### Absolute Beginner"
   ]
  },
  {
   "cell_type": "code",
   "execution_count": 18,
   "metadata": {},
   "outputs": [],
   "source": [
    "# Absolute Beginner Data\n",
    "end_time_list = df_28[\"end_time\"].to_list()\n",
    "video_id_list = df_28[\"video_id\"].to_list()\n",
    "start_time_list = df_28[\"start_time\"].to_list()"
   ]
  },
  {
   "cell_type": "code",
   "execution_count": 19,
   "metadata": {},
   "outputs": [],
   "source": [
    "firestore_beginner_data = zip(end_time_list,video_id_list,start_time_list)\n",
    "beginner_description_text = \"description\""
   ]
  },
  {
   "cell_type": "code",
   "execution_count": 20,
   "metadata": {},
   "outputs": [],
   "source": [
    "beginner_data_list = []\n",
    "for endtime, videoid, starttime in firestore_beginner_data:\n",
    "    data = {\"endTime\":endtime,\n",
    "            \"id\":videoid,\n",
    "            \"startTime\":starttime}\n",
    "    beginner_data_list.append(data)\n",
    "    \n",
    "#beginner_data_list   "
   ]
  },
  {
   "cell_type": "code",
   "execution_count": 21,
   "metadata": {},
   "outputs": [],
   "source": [
    "data_beginner = {\"description\":f\"{beginner_description_text}\", \"level\":0, \"levelName\":\"Absolute Beginner\", \"videos\":beginner_data_list}\n",
    "#data_beginner"
   ]
  },
  {
   "cell_type": "code",
   "execution_count": 22,
   "metadata": {},
   "outputs": [],
   "source": [
    "#fire_db.collection(\"language-detail-data\").document(f\"{lang_id}\").set(data_beginner)"
   ]
  },
  {
   "cell_type": "code",
   "execution_count": null,
   "metadata": {},
   "outputs": [],
   "source": []
  },
  {
   "attachments": {},
   "cell_type": "markdown",
   "metadata": {},
   "source": [
    "##### A1 Level"
   ]
  },
  {
   "cell_type": "code",
   "execution_count": 23,
   "metadata": {},
   "outputs": [],
   "source": [
    "# A1 Level Data\n",
    "end_time_list = df_200[\"end_time\"].to_list()\n",
    "video_id_list = df_200[\"video_id\"].to_list()\n",
    "start_time_list = df_200[\"start_time\"].to_list()"
   ]
  },
  {
   "cell_type": "code",
   "execution_count": 24,
   "metadata": {},
   "outputs": [],
   "source": [
    "firestore_A1_data = zip(end_time_list,video_id_list,start_time_list)\n",
    "A1_description_text = \"A1 level description\""
   ]
  },
  {
   "cell_type": "code",
   "execution_count": 25,
   "metadata": {},
   "outputs": [],
   "source": [
    "A1_data_list = []\n",
    "for endtime, videoid, starttime in firestore_A1_data:\n",
    "    data = {\"endTime\":endtime,\n",
    "            \"id\":videoid,\n",
    "            \"startTime\":starttime}\n",
    "    A1_data_list.append(data)\n",
    "\n",
    "#A1_data_list   "
   ]
  },
  {
   "cell_type": "code",
   "execution_count": 26,
   "metadata": {},
   "outputs": [],
   "source": [
    "data_A1 = {\"description\":f\"{A1_description_text}\", \"level\":1, \"levelName\":\"A1\", \"videos\":A1_data_list}\n",
    "#data_A1"
   ]
  },
  {
   "cell_type": "code",
   "execution_count": null,
   "metadata": {},
   "outputs": [],
   "source": []
  },
  {
   "attachments": {},
   "cell_type": "markdown",
   "metadata": {},
   "source": [
    "##### A2 Level"
   ]
  },
  {
   "cell_type": "code",
   "execution_count": 27,
   "metadata": {},
   "outputs": [],
   "source": [
    "# A2 Level Data\n",
    "end_time_list = df_1000[\"end_time\"].to_list()\n",
    "video_id_list = df_1000[\"video_id\"].to_list()\n",
    "start_time_list = df_1000[\"start_time\"].to_list()"
   ]
  },
  {
   "cell_type": "code",
   "execution_count": 28,
   "metadata": {},
   "outputs": [],
   "source": [
    "firestore_A2_data = zip(end_time_list,video_id_list,start_time_list)\n",
    "A2_description_text = \"A2 level description\""
   ]
  },
  {
   "cell_type": "code",
   "execution_count": 29,
   "metadata": {},
   "outputs": [],
   "source": [
    "A2_data_list = []\n",
    "for endtime, videoid, starttime in firestore_A2_data:\n",
    "    data = {\"endTime\":endtime,\n",
    "            \"id\":videoid,\n",
    "            \"startTime\":starttime}\n",
    "    A2_data_list.append(data)\n",
    "\n",
    "#A2_data_list   "
   ]
  },
  {
   "cell_type": "code",
   "execution_count": 30,
   "metadata": {},
   "outputs": [],
   "source": [
    "data_A2 = {\"description\":f\"{A2_description_text}\", \"level\":2, \"levelName\":\"A2\", \"videos\":A2_data_list}\n",
    "#data_A2"
   ]
  },
  {
   "cell_type": "code",
   "execution_count": null,
   "metadata": {},
   "outputs": [],
   "source": []
  },
  {
   "attachments": {},
   "cell_type": "markdown",
   "metadata": {},
   "source": [
    "##### B1 Level"
   ]
  },
  {
   "cell_type": "code",
   "execution_count": 31,
   "metadata": {},
   "outputs": [],
   "source": [
    "# B1 Level Data\n",
    "end_time_list = df_5000[\"end_time\"].to_list()\n",
    "video_id_list = df_5000[\"video_id\"].to_list()\n",
    "start_time_list = df_5000[\"start_time\"].to_list()"
   ]
  },
  {
   "cell_type": "code",
   "execution_count": 32,
   "metadata": {},
   "outputs": [],
   "source": [
    "firestore_B1_data = zip(end_time_list,video_id_list,start_time_list)\n",
    "B1_description_text = \"B1 level description\""
   ]
  },
  {
   "cell_type": "code",
   "execution_count": 33,
   "metadata": {},
   "outputs": [],
   "source": [
    "B1_data_list = []\n",
    "for endtime, videoid, starttime in firestore_B1_data:\n",
    "    data = {\"endTime\":endtime,\n",
    "            \"id\":videoid,\n",
    "            \"startTime\":starttime}\n",
    "    B1_data_list.append(data)\n",
    "\n",
    "#B1_data_list   "
   ]
  },
  {
   "cell_type": "code",
   "execution_count": 34,
   "metadata": {},
   "outputs": [],
   "source": [
    "data_B1 = {\"description\":f\"{B1_description_text}\", \"level\":3, \"levelName\":\"B1\", \"videos\":B1_data_list}\n",
    "#data_B1"
   ]
  },
  {
   "cell_type": "code",
   "execution_count": null,
   "metadata": {},
   "outputs": [],
   "source": []
  },
  {
   "attachments": {},
   "cell_type": "markdown",
   "metadata": {},
   "source": [
    "##### B2 Level"
   ]
  },
  {
   "cell_type": "code",
   "execution_count": 35,
   "metadata": {},
   "outputs": [],
   "source": [
    "# B2 Level Data\n",
    "end_time_list = df_10000[\"end_time\"].to_list()\n",
    "video_id_list = df_10000[\"video_id\"].to_list()\n",
    "start_time_list = df_10000[\"start_time\"].to_list()"
   ]
  },
  {
   "cell_type": "code",
   "execution_count": 36,
   "metadata": {},
   "outputs": [],
   "source": [
    "firestore_B2_data = zip(end_time_list,video_id_list,start_time_list)\n",
    "B2_description_text = \"B2 level description\""
   ]
  },
  {
   "cell_type": "code",
   "execution_count": 37,
   "metadata": {},
   "outputs": [],
   "source": [
    "B2_data_list = []\n",
    "for endtime, videoid, starttime in firestore_B2_data:\n",
    "    data = {\"endTime\":endtime,\n",
    "            \"id\":videoid,\n",
    "            \"startTime\":starttime}\n",
    "    B2_data_list.append(data)\n",
    "\n",
    "#B2_data_list   "
   ]
  },
  {
   "cell_type": "code",
   "execution_count": 38,
   "metadata": {},
   "outputs": [],
   "source": [
    "data_B2 = {\"description\":f\"{B2_description_text}\", \"level\":4, \"levelName\":\"B2\", \"videos\":B2_data_list}\n",
    "#data_B2"
   ]
  },
  {
   "cell_type": "code",
   "execution_count": null,
   "metadata": {},
   "outputs": [],
   "source": []
  },
  {
   "attachments": {},
   "cell_type": "markdown",
   "metadata": {},
   "source": [
    "##### C1 Level"
   ]
  },
  {
   "cell_type": "code",
   "execution_count": 39,
   "metadata": {},
   "outputs": [],
   "source": [
    "# C1 Level Data\n",
    "video_id_list = df_20000[\"video_id\"].to_list()\n",
    "end_time_list = df_20000[\"end_time\"].to_list()\n",
    "start_time_list = df_20000[\"start_time\"].to_list()"
   ]
  },
  {
   "cell_type": "code",
   "execution_count": 40,
   "metadata": {},
   "outputs": [],
   "source": [
    "firestore_C1_data = zip(end_time_list,video_id_list,start_time_list)\n",
    "C1_description_text = \"C1 level description\""
   ]
  },
  {
   "cell_type": "code",
   "execution_count": 41,
   "metadata": {},
   "outputs": [],
   "source": [
    "C1_data_list = []\n",
    "for endtime, videoid, starttime in firestore_C1_data:\n",
    "    data = {\"endTime\":endtime,\n",
    "            \"id\":videoid,\n",
    "            \"startTime\":starttime}\n",
    "    C1_data_list.append(data)\n",
    "\n",
    "#C1_data_list   "
   ]
  },
  {
   "cell_type": "code",
   "execution_count": 42,
   "metadata": {},
   "outputs": [],
   "source": [
    "data_C1 = {\"description\":f\"{C1_description_text}\", \"level\":5, \"levelName\":\"C1\", \"videos\":C1_data_list}\n",
    "#data_C1"
   ]
  },
  {
   "cell_type": "code",
   "execution_count": null,
   "metadata": {},
   "outputs": [],
   "source": []
  },
  {
   "attachments": {},
   "cell_type": "markdown",
   "metadata": {},
   "source": [
    "##### C2 Level"
   ]
  },
  {
   "cell_type": "code",
   "execution_count": 43,
   "metadata": {},
   "outputs": [],
   "source": [
    "# C2 Level Data\n",
    "video_id_list = df_40000[\"video_id\"].to_list()\n",
    "end_time_list = df_40000[\"end_time\"].to_list()\n",
    "start_time_list = df_40000[\"start_time\"].to_list()"
   ]
  },
  {
   "cell_type": "code",
   "execution_count": 44,
   "metadata": {},
   "outputs": [],
   "source": [
    "firestore_C2_data = zip(end_time_list,video_id_list,start_time_list)\n",
    "C2_description_text = \"C2 level description\""
   ]
  },
  {
   "cell_type": "code",
   "execution_count": 45,
   "metadata": {},
   "outputs": [],
   "source": [
    "C2_data_list = []\n",
    "for endtime, videoid, starttime in firestore_C2_data:\n",
    "    data = {\"endTime\":endtime,\n",
    "            \"id\":videoid,\n",
    "            \"startTime\":starttime}\n",
    "    C2_data_list.append(data)\n",
    "\n",
    "#C2_data_list   "
   ]
  },
  {
   "cell_type": "code",
   "execution_count": 46,
   "metadata": {},
   "outputs": [],
   "source": [
    "data_C2 = {\"description\":f\"{C2_description_text}\", \"level\":6, \"levelName\":\"C2\", \"videos\":C2_data_list}\n",
    "#data_C2"
   ]
  },
  {
   "cell_type": "code",
   "execution_count": null,
   "metadata": {},
   "outputs": [],
   "source": []
  },
  {
   "attachments": {},
   "cell_type": "markdown",
   "metadata": {},
   "source": [
    "##### All Data Sending"
   ]
  },
  {
   "cell_type": "code",
   "execution_count": 47,
   "metadata": {},
   "outputs": [],
   "source": [
    "data_all = {\"datas\":[data_beginner, data_A1, data_A2, data_B1, data_B2, data_C1, data_C2]}\n",
    "#data_all"
   ]
  },
  {
   "cell_type": "code",
   "execution_count": 48,
   "metadata": {},
   "outputs": [
    {
     "data": {
      "text/plain": [
       "update_time {\n",
       "  seconds: 1683284885\n",
       "  nanos: 214154000\n",
       "}"
      ]
     },
     "execution_count": 48,
     "metadata": {},
     "output_type": "execute_result"
    }
   ],
   "source": [
    "fire_db.collection(\"language-detail-data\").document(f\"{lang_id}\").set(data_all)"
   ]
  },
  {
   "cell_type": "code",
   "execution_count": null,
   "metadata": {},
   "outputs": [],
   "source": []
  },
  {
   "cell_type": "code",
   "execution_count": null,
   "metadata": {},
   "outputs": [],
   "source": []
  },
  {
   "attachments": {},
   "cell_type": "markdown",
   "metadata": {},
   "source": [
    "#### Temp"
   ]
  },
  {
   "cell_type": "code",
   "execution_count": 50,
   "metadata": {},
   "outputs": [
    {
     "data": {
      "text/plain": [
       "2.59106529209622"
      ]
     },
     "execution_count": 50,
     "metadata": {},
     "output_type": "execute_result"
    }
   ],
   "source": [
    "(df_28[\"end_time\"] - df_28[\"start_time\"]).mean()"
   ]
  },
  {
   "cell_type": "code",
   "execution_count": null,
   "metadata": {},
   "outputs": [],
   "source": [
    "(df_200[\"end_time\"] - df_200[\"start_time\"]).mean()"
   ]
  }
 ],
 "metadata": {
  "kernelspec": {
   "display_name": "Python 3.9.5 ('py39')",
   "language": "python",
   "name": "python3"
  },
  "language_info": {
   "codemirror_mode": {
    "name": "ipython",
    "version": 3
   },
   "file_extension": ".py",
   "mimetype": "text/x-python",
   "name": "python",
   "nbconvert_exporter": "python",
   "pygments_lexer": "ipython3",
   "version": "3.9.5"
  },
  "orig_nbformat": 4,
  "vscode": {
   "interpreter": {
    "hash": "651d507d70892fab0fc6529d935cd476f6e2eb1791525b76da6cc8da34bc0503"
   }
  }
 },
 "nbformat": 4,
 "nbformat_minor": 2
}
