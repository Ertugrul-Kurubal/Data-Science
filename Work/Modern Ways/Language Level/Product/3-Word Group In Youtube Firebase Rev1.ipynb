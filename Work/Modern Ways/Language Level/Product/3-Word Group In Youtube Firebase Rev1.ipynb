{
 "cells": [
  {
   "attachments": {},
   "cell_type": "markdown",
   "metadata": {},
   "source": [
    "### Word Group In Youtube Firebase"
   ]
  },
  {
   "attachments": {},
   "cell_type": "markdown",
   "metadata": {},
   "source": [
    "This notebook is used to send language level data to Firebase."
   ]
  },
  {
   "cell_type": "code",
   "execution_count": 1,
   "metadata": {},
   "outputs": [],
   "source": [
    "import firebase_admin\n",
    "from firebase_admin import credentials, firestore, storage"
   ]
  },
  {
   "cell_type": "code",
   "execution_count": 2,
   "metadata": {},
   "outputs": [],
   "source": [
    "import os\n",
    "import multiprocessing\n",
    "#import multiprocessing as mp\n",
    "from multiprocessing import Process, Manager, Pool, Queue\n",
    "from itertools import islice\n",
    "from collections import Counter\n",
    "import re\n",
    "import pandas as pd\n",
    "import numpy as np\n",
    "import glob\n",
    "import nltk\n",
    "from nltk import word_tokenize\n",
    "from functools import reduce\n",
    "from pathlib import Path\n",
    "import shutil"
   ]
  },
  {
   "cell_type": "code",
   "execution_count": 3,
   "metadata": {},
   "outputs": [
    {
     "name": "stdout",
     "output_type": "stream",
     "text": [
      "Number of CPU cores: 16\n"
     ]
    }
   ],
   "source": [
    "nprocs = multiprocessing.cpu_count()\n",
    "print(f\"Number of CPU cores: {nprocs}\")"
   ]
  },
  {
   "cell_type": "code",
   "execution_count": 4,
   "metadata": {},
   "outputs": [
    {
     "name": "stdout",
     "output_type": "stream",
     "text": [
      "Language = Spanish\n",
      "Lang Id = 4\n",
      "File Extention = 6\n"
     ]
    }
   ],
   "source": [
    "# language pair\n",
    "lang_folder = \"Spanish\"  # Arabic, English, French, German, Turkish, Spanish, Portuguese, Dutch, Italian\n",
    "\n",
    "# language detail num\n",
    "if lang_folder == \"English\":\n",
    "    lang_id = \"1\"\n",
    "elif lang_folder == \"Turkish\":\n",
    "    lang_id = \"2\"\n",
    "elif lang_folder == \"French\":\n",
    "    lang_id = \"3\"\n",
    "elif lang_folder == \"Spanish\":\n",
    "    lang_id = \"4\"\n",
    "elif lang_folder == \"Portuguese\":\n",
    "    lang_id = \"5\"\n",
    "elif lang_folder == \"Dutch\":\n",
    "    lang_id = \"6\"\n",
    "elif lang_folder == \"Italian\":\n",
    "    lang_id = \"7\"\n",
    "elif lang_folder == \"German\":\n",
    "    lang_id = \"8\"\n",
    "elif lang_folder == \"Arabic\":\n",
    "    lang_id = \"9\"\n",
    "else:\n",
    "    pass\n",
    "\n",
    "# prefix suffix file\n",
    "prefix_suffix = False  # True, False  # True for adding prefix suffix word\n",
    "native_word = True # True for adding native word\n",
    "\n",
    "# sample num\n",
    "sending_sample_num = 400  # 150,200,300,500\n",
    "\n",
    "# adding output file extention\n",
    "if prefix_suffix & native_word:\n",
    "    file_ext = \"5\"\n",
    "elif (not prefix_suffix) & native_word:\n",
    "    file_ext = \"6\"\n",
    "else:\n",
    "    file_ext = \"7\"              \n",
    "\n",
    "# 5 => for only native word with prefix suffix.\n",
    "# 6 => for only native word without prefix suffix.\n",
    "\n",
    "print(f\"Language = {lang_folder}\\nLang Id = {lang_id}\\nFile Extention = {file_ext}\")"
   ]
  },
  {
   "cell_type": "code",
   "execution_count": 5,
   "metadata": {},
   "outputs": [],
   "source": [
    "path = f\"/media/kurubal/SSD/Data Scientist/Work/Modern Ways/Project/{lang_folder.capitalize()}/\\\n",
    "Language Level/Result/3-Word Group In Youtube Sentence Firebase\"\n",
    "\n",
    "#Path(path).mkdir(parents=True, exist_ok=True)"
   ]
  },
  {
   "cell_type": "code",
   "execution_count": 6,
   "metadata": {},
   "outputs": [],
   "source": [
    "##cred = credentials.Certificate(\"/home/kurubal/Documents/Firebase/Flash Card/Api Key/flashcard-1c46e-firebase-adminsdk-b4kn5-5ddbde56b3.json\")  # Flash Card\n",
    "#cred = credentials.Certificate(\"/home/kurubal/Documents/Firebase/Language Level/Api Key/language-levels-firebase-adminsdk-u1m3n-87de34db73.json\")  # Language Level\n",
    "#app = firebase_admin.initialize_app(cred)"
   ]
  },
  {
   "cell_type": "code",
   "execution_count": 7,
   "metadata": {},
   "outputs": [],
   "source": [
    "#fire_db = firestore.client()"
   ]
  },
  {
   "cell_type": "code",
   "execution_count": null,
   "metadata": {},
   "outputs": [],
   "source": []
  },
  {
   "attachments": {},
   "cell_type": "markdown",
   "metadata": {},
   "source": [
    "#### Read Data"
   ]
  },
  {
   "cell_type": "code",
   "execution_count": 8,
   "metadata": {},
   "outputs": [],
   "source": [
    "#parent_folder_path = f\"/media/kurubal/SSD/Data Scientist/Work/Modern Ways/Project/{lang_folder.capitalize()}/Language Level/Data/1-Word Group In Youtube Sentence\"\n",
    "parent_folder_path = f\"/media/kurubal/SSD/Data Scientist/Work/Modern Ways/Project/{lang_folder.capitalize()}/Language Level/Result/2-Word Group Prepare For Youtube Tool\""
   ]
  },
  {
   "cell_type": "code",
   "execution_count": 9,
   "metadata": {},
   "outputs": [
    {
     "data": {
      "text/html": [
       "<div>\n",
       "<style scoped>\n",
       "    .dataframe tbody tr th:only-of-type {\n",
       "        vertical-align: middle;\n",
       "    }\n",
       "\n",
       "    .dataframe tbody tr th {\n",
       "        vertical-align: top;\n",
       "    }\n",
       "\n",
       "    .dataframe thead th {\n",
       "        text-align: right;\n",
       "    }\n",
       "</style>\n",
       "<table border=\"1\" class=\"dataframe\">\n",
       "  <thead>\n",
       "    <tr style=\"text-align: right;\">\n",
       "      <th></th>\n",
       "      <th>video_id</th>\n",
       "      <th>start_time</th>\n",
       "      <th>end_time</th>\n",
       "      <th>text</th>\n",
       "    </tr>\n",
       "  </thead>\n",
       "  <tbody>\n",
       "    <tr>\n",
       "      <th>0</th>\n",
       "      <td>UVeOYNyXd0k</td>\n",
       "      <td>5745</td>\n",
       "      <td>5749</td>\n",
       "      <td>eso de lo que es la la el el</td>\n",
       "    </tr>\n",
       "    <tr>\n",
       "      <th>1</th>\n",
       "      <td>rP0PowPzbJE</td>\n",
       "      <td>23</td>\n",
       "      <td>25</td>\n",
       "      <td>si lo que se está es una un</td>\n",
       "    </tr>\n",
       "    <tr>\n",
       "      <th>2</th>\n",
       "      <td>l1fO8CJN7Bw</td>\n",
       "      <td>2158</td>\n",
       "      <td>2160</td>\n",
       "      <td>es que por qué no para en</td>\n",
       "    </tr>\n",
       "    <tr>\n",
       "      <th>3</th>\n",
       "      <td>2DvDa1DL9iM</td>\n",
       "      <td>97</td>\n",
       "      <td>100</td>\n",
       "      <td>la una que es para los</td>\n",
       "    </tr>\n",
       "    <tr>\n",
       "      <th>4</th>\n",
       "      <td>vNrtkGZ9T98</td>\n",
       "      <td>579</td>\n",
       "      <td>581</td>\n",
       "      <td>pero es que no es para</td>\n",
       "    </tr>\n",
       "    <tr>\n",
       "      <th>...</th>\n",
       "      <td>...</td>\n",
       "      <td>...</td>\n",
       "      <td>...</td>\n",
       "      <td>...</td>\n",
       "    </tr>\n",
       "    <tr>\n",
       "      <th>214</th>\n",
       "      <td>RT68Ueo4L24</td>\n",
       "      <td>132</td>\n",
       "      <td>134</td>\n",
       "      <td>para qué</td>\n",
       "    </tr>\n",
       "    <tr>\n",
       "      <th>215</th>\n",
       "      <td>9vgOD0qrdnA</td>\n",
       "      <td>39</td>\n",
       "      <td>40</td>\n",
       "      <td>para qué</td>\n",
       "    </tr>\n",
       "    <tr>\n",
       "      <th>216</th>\n",
       "      <td>Rzc3hw1khnQ</td>\n",
       "      <td>195</td>\n",
       "      <td>196</td>\n",
       "      <td>para eso</td>\n",
       "    </tr>\n",
       "    <tr>\n",
       "      <th>217</th>\n",
       "      <td>X2zZHJLzo8I</td>\n",
       "      <td>209</td>\n",
       "      <td>211</td>\n",
       "      <td>pero por</td>\n",
       "    </tr>\n",
       "    <tr>\n",
       "      <th>218</th>\n",
       "      <td>STW_S9e9L0A</td>\n",
       "      <td>258</td>\n",
       "      <td>260</td>\n",
       "      <td>para los</td>\n",
       "    </tr>\n",
       "  </tbody>\n",
       "</table>\n",
       "<p>219 rows × 4 columns</p>\n",
       "</div>"
      ],
      "text/plain": [
       "        video_id  start_time  end_time                          text\n",
       "0    UVeOYNyXd0k        5745      5749  eso de lo que es la la el el\n",
       "1    rP0PowPzbJE          23        25   si lo que se está es una un\n",
       "2    l1fO8CJN7Bw        2158      2160     es que por qué no para en\n",
       "3    2DvDa1DL9iM          97       100        la una que es para los\n",
       "4    vNrtkGZ9T98         579       581        pero es que no es para\n",
       "..           ...         ...       ...                           ...\n",
       "214  RT68Ueo4L24         132       134                      para qué\n",
       "215  9vgOD0qrdnA          39        40                      para qué\n",
       "216  Rzc3hw1khnQ         195       196                      para eso\n",
       "217  X2zZHJLzo8I         209       211                      pero por\n",
       "218  STW_S9e9L0A         258       260                      para los\n",
       "\n",
       "[219 rows x 4 columns]"
      ]
     },
     "execution_count": 9,
     "metadata": {},
     "output_type": "execute_result"
    }
   ],
   "source": [
    "#df_28 = pd.read_csv(f\"{parent_folder_path}/{lang_folder.capitalize()}_Word_Group_Max_In_Youtube_Sentence_28_Word{file_ext}.csv\")\n",
    "df_28 = pd.read_excel(f\"{parent_folder_path}/{lang_folder.capitalize()}_Word_Group_Max_In_Youtube_Sentence_28_Word{file_ext}.xlsx\")\n",
    "df_28 = df_28.head(sending_sample_num)\n",
    "df_28"
   ]
  },
  {
   "cell_type": "code",
   "execution_count": 10,
   "metadata": {},
   "outputs": [
    {
     "data": {
      "text/html": [
       "<div>\n",
       "<style scoped>\n",
       "    .dataframe tbody tr th:only-of-type {\n",
       "        vertical-align: middle;\n",
       "    }\n",
       "\n",
       "    .dataframe tbody tr th {\n",
       "        vertical-align: top;\n",
       "    }\n",
       "\n",
       "    .dataframe thead th {\n",
       "        text-align: right;\n",
       "    }\n",
       "</style>\n",
       "<table border=\"1\" class=\"dataframe\">\n",
       "  <thead>\n",
       "    <tr style=\"text-align: right;\">\n",
       "      <th></th>\n",
       "      <th>video_id</th>\n",
       "      <th>start_time</th>\n",
       "      <th>end_time</th>\n",
       "      <th>text</th>\n",
       "    </tr>\n",
       "  </thead>\n",
       "  <tbody>\n",
       "    <tr>\n",
       "      <th>0</th>\n",
       "      <td>ZyghXM2t1CM</td>\n",
       "      <td>685</td>\n",
       "      <td>692</td>\n",
       "      <td>porque lo tienes todo pero a la vez es como qu...</td>\n",
       "    </tr>\n",
       "    <tr>\n",
       "      <th>1</th>\n",
       "      <td>ujmlPjCimbM</td>\n",
       "      <td>1795</td>\n",
       "      <td>1801</td>\n",
       "      <td>aquí yo no lo voy a hacer porque lo voy a hace...</td>\n",
       "    </tr>\n",
       "    <tr>\n",
       "      <th>2</th>\n",
       "      <td>MeAGI1vCdN4</td>\n",
       "      <td>155</td>\n",
       "      <td>161</td>\n",
       "      <td>mucho más o menos así más pero que están muy b...</td>\n",
       "    </tr>\n",
       "    <tr>\n",
       "      <th>3</th>\n",
       "      <td>XEsfzSBTXMI</td>\n",
       "      <td>2583</td>\n",
       "      <td>2592</td>\n",
       "      <td>que yo tengo entonces por eso no se puede o se...</td>\n",
       "    </tr>\n",
       "    <tr>\n",
       "      <th>4</th>\n",
       "      <td>rlVCOWvwzpw</td>\n",
       "      <td>582</td>\n",
       "      <td>589</td>\n",
       "      <td>así así que bueno si estás aquí hace tiempo ya...</td>\n",
       "    </tr>\n",
       "    <tr>\n",
       "      <th>...</th>\n",
       "      <td>...</td>\n",
       "      <td>...</td>\n",
       "      <td>...</td>\n",
       "      <td>...</td>\n",
       "    </tr>\n",
       "    <tr>\n",
       "      <th>209</th>\n",
       "      <td>BaN87C1pLlk</td>\n",
       "      <td>548</td>\n",
       "      <td>552</td>\n",
       "      <td>es bueno porque si eres como yo tienes un</td>\n",
       "    </tr>\n",
       "    <tr>\n",
       "      <th>210</th>\n",
       "      <td>aJRgQZtIxYQ</td>\n",
       "      <td>194</td>\n",
       "      <td>198</td>\n",
       "      <td>esto lo otro y lo otro de todo un poco te</td>\n",
       "    </tr>\n",
       "    <tr>\n",
       "      <th>211</th>\n",
       "      <td>ZpZUcyDxUxk</td>\n",
       "      <td>533</td>\n",
       "      <td>538</td>\n",
       "      <td>pero es lo mejor porque ahí está todo muy</td>\n",
       "    </tr>\n",
       "    <tr>\n",
       "      <th>212</th>\n",
       "      <td>ZemxOoEqhtg</td>\n",
       "      <td>186</td>\n",
       "      <td>190</td>\n",
       "      <td>porque gracias a ti estamos donde estamos</td>\n",
       "    </tr>\n",
       "    <tr>\n",
       "      <th>213</th>\n",
       "      <td>199jjBWDhdk</td>\n",
       "      <td>317</td>\n",
       "      <td>320</td>\n",
       "      <td>mucho tiempo si has hecho bien el trabajo</td>\n",
       "    </tr>\n",
       "  </tbody>\n",
       "</table>\n",
       "<p>214 rows × 4 columns</p>\n",
       "</div>"
      ],
      "text/plain": [
       "        video_id  start_time  end_time  \\\n",
       "0    ZyghXM2t1CM         685       692   \n",
       "1    ujmlPjCimbM        1795      1801   \n",
       "2    MeAGI1vCdN4         155       161   \n",
       "3    XEsfzSBTXMI        2583      2592   \n",
       "4    rlVCOWvwzpw         582       589   \n",
       "..           ...         ...       ...   \n",
       "209  BaN87C1pLlk         548       552   \n",
       "210  aJRgQZtIxYQ         194       198   \n",
       "211  ZpZUcyDxUxk         533       538   \n",
       "212  ZemxOoEqhtg         186       190   \n",
       "213  199jjBWDhdk         317       320   \n",
       "\n",
       "                                                  text  \n",
       "0    porque lo tienes todo pero a la vez es como qu...  \n",
       "1    aquí yo no lo voy a hacer porque lo voy a hace...  \n",
       "2    mucho más o menos así más pero que están muy b...  \n",
       "3    que yo tengo entonces por eso no se puede o se...  \n",
       "4    así así que bueno si estás aquí hace tiempo ya...  \n",
       "..                                                 ...  \n",
       "209          es bueno porque si eres como yo tienes un  \n",
       "210          esto lo otro y lo otro de todo un poco te  \n",
       "211          pero es lo mejor porque ahí está todo muy  \n",
       "212          porque gracias a ti estamos donde estamos  \n",
       "213          mucho tiempo si has hecho bien el trabajo  \n",
       "\n",
       "[214 rows x 4 columns]"
      ]
     },
     "execution_count": 10,
     "metadata": {},
     "output_type": "execute_result"
    }
   ],
   "source": [
    "#df_200 = pd.read_csv(f\"{parent_folder_path}/{lang_folder.capitalize()}_Word_Group_Max_In_Youtube_Sentence_200_Word{file_ext}.csv\")\n",
    "df_200 = pd.read_excel(f\"{parent_folder_path}/{lang_folder.capitalize()}_Word_Group_Max_In_Youtube_Sentence_200_Word{file_ext}.xlsx\")\n",
    "df_200 = df_200.head(sending_sample_num)\n",
    "df_200"
   ]
  },
  {
   "cell_type": "code",
   "execution_count": 11,
   "metadata": {},
   "outputs": [
    {
     "data": {
      "text/html": [
       "<div>\n",
       "<style scoped>\n",
       "    .dataframe tbody tr th:only-of-type {\n",
       "        vertical-align: middle;\n",
       "    }\n",
       "\n",
       "    .dataframe tbody tr th {\n",
       "        vertical-align: top;\n",
       "    }\n",
       "\n",
       "    .dataframe thead th {\n",
       "        text-align: right;\n",
       "    }\n",
       "</style>\n",
       "<table border=\"1\" class=\"dataframe\">\n",
       "  <thead>\n",
       "    <tr style=\"text-align: right;\">\n",
       "      <th></th>\n",
       "      <th>video_id</th>\n",
       "      <th>start_time</th>\n",
       "      <th>end_time</th>\n",
       "      <th>text</th>\n",
       "    </tr>\n",
       "  </thead>\n",
       "  <tbody>\n",
       "    <tr>\n",
       "      <th>0</th>\n",
       "      <td>QGlH1rRdROo</td>\n",
       "      <td>250</td>\n",
       "      <td>256</td>\n",
       "      <td>también dice que se siente solo porque no tien...</td>\n",
       "    </tr>\n",
       "    <tr>\n",
       "      <th>1</th>\n",
       "      <td>O0rkwLyf3BA</td>\n",
       "      <td>1122</td>\n",
       "      <td>1129</td>\n",
       "      <td>así que creo que todavía hay algunas preguntas...</td>\n",
       "    </tr>\n",
       "    <tr>\n",
       "      <th>2</th>\n",
       "      <td>fl70SaNinZs</td>\n",
       "      <td>744</td>\n",
       "      <td>751</td>\n",
       "      <td>el problema es que tienen la mejor arma del mu...</td>\n",
       "    </tr>\n",
       "    <tr>\n",
       "      <th>3</th>\n",
       "      <td>NWsd2DM3akQ</td>\n",
       "      <td>436</td>\n",
       "      <td>443</td>\n",
       "      <td>si tienes razón pero en realidad te lo dice po...</td>\n",
       "    </tr>\n",
       "    <tr>\n",
       "      <th>4</th>\n",
       "      <td>DlUnYlm_NvA</td>\n",
       "      <td>101</td>\n",
       "      <td>107</td>\n",
       "      <td>que además lo único que quería era información...</td>\n",
       "    </tr>\n",
       "    <tr>\n",
       "      <th>...</th>\n",
       "      <td>...</td>\n",
       "      <td>...</td>\n",
       "      <td>...</td>\n",
       "      <td>...</td>\n",
       "    </tr>\n",
       "    <tr>\n",
       "      <th>204</th>\n",
       "      <td>QJBbHXJPyvk</td>\n",
       "      <td>278</td>\n",
       "      <td>283</td>\n",
       "      <td>con la comida no me quiero sentir mal tampoco ...</td>\n",
       "    </tr>\n",
       "    <tr>\n",
       "      <th>205</th>\n",
       "      <td>0TnHJEbN6Hg</td>\n",
       "      <td>41</td>\n",
       "      <td>49</td>\n",
       "      <td>sino es como empezar el viaje con tu amor esa ...</td>\n",
       "    </tr>\n",
       "    <tr>\n",
       "      <th>206</th>\n",
       "      <td>ZgqzZQa6gQM</td>\n",
       "      <td>3606</td>\n",
       "      <td>3613</td>\n",
       "      <td>bueno aquí está la parte porque está como en o...</td>\n",
       "    </tr>\n",
       "    <tr>\n",
       "      <th>207</th>\n",
       "      <td>EMMIZWcQSEw</td>\n",
       "      <td>1644</td>\n",
       "      <td>1652</td>\n",
       "      <td>estamos bien tenemos vino suficiente con nuest...</td>\n",
       "    </tr>\n",
       "    <tr>\n",
       "      <th>208</th>\n",
       "      <td>HXxcSn7zmMc</td>\n",
       "      <td>225</td>\n",
       "      <td>231</td>\n",
       "      <td>la cámara lo estoy haciendo con una sola mano ...</td>\n",
       "    </tr>\n",
       "  </tbody>\n",
       "</table>\n",
       "<p>209 rows × 4 columns</p>\n",
       "</div>"
      ],
      "text/plain": [
       "        video_id  start_time  end_time  \\\n",
       "0    QGlH1rRdROo         250       256   \n",
       "1    O0rkwLyf3BA        1122      1129   \n",
       "2    fl70SaNinZs         744       751   \n",
       "3    NWsd2DM3akQ         436       443   \n",
       "4    DlUnYlm_NvA         101       107   \n",
       "..           ...         ...       ...   \n",
       "204  QJBbHXJPyvk         278       283   \n",
       "205  0TnHJEbN6Hg          41        49   \n",
       "206  ZgqzZQa6gQM        3606      3613   \n",
       "207  EMMIZWcQSEw        1644      1652   \n",
       "208  HXxcSn7zmMc         225       231   \n",
       "\n",
       "                                                  text  \n",
       "0    también dice que se siente solo porque no tien...  \n",
       "1    así que creo que todavía hay algunas preguntas...  \n",
       "2    el problema es que tienen la mejor arma del mu...  \n",
       "3    si tienes razón pero en realidad te lo dice po...  \n",
       "4    que además lo único que quería era información...  \n",
       "..                                                 ...  \n",
       "204  con la comida no me quiero sentir mal tampoco ...  \n",
       "205  sino es como empezar el viaje con tu amor esa ...  \n",
       "206  bueno aquí está la parte porque está como en o...  \n",
       "207  estamos bien tenemos vino suficiente con nuest...  \n",
       "208  la cámara lo estoy haciendo con una sola mano ...  \n",
       "\n",
       "[209 rows x 4 columns]"
      ]
     },
     "execution_count": 11,
     "metadata": {},
     "output_type": "execute_result"
    }
   ],
   "source": [
    "#df_1000 = pd.read_csv(f\"{parent_folder_path}/{lang_folder.capitalize()}_Word_Group_Max_In_Youtube_Sentence_1000_Word{file_ext}.csv\")\n",
    "df_1000 = pd.read_excel(f\"{parent_folder_path}/{lang_folder.capitalize()}_Word_Group_Max_In_Youtube_Sentence_1000_Word{file_ext}.xlsx\")\n",
    "df_1000 = df_1000.head(sending_sample_num)\n",
    "df_1000"
   ]
  },
  {
   "cell_type": "code",
   "execution_count": 12,
   "metadata": {},
   "outputs": [
    {
     "data": {
      "text/html": [
       "<div>\n",
       "<style scoped>\n",
       "    .dataframe tbody tr th:only-of-type {\n",
       "        vertical-align: middle;\n",
       "    }\n",
       "\n",
       "    .dataframe tbody tr th {\n",
       "        vertical-align: top;\n",
       "    }\n",
       "\n",
       "    .dataframe thead th {\n",
       "        text-align: right;\n",
       "    }\n",
       "</style>\n",
       "<table border=\"1\" class=\"dataframe\">\n",
       "  <thead>\n",
       "    <tr style=\"text-align: right;\">\n",
       "      <th></th>\n",
       "      <th>video_id</th>\n",
       "      <th>start_time</th>\n",
       "      <th>end_time</th>\n",
       "      <th>text</th>\n",
       "    </tr>\n",
       "  </thead>\n",
       "  <tbody>\n",
       "    <tr>\n",
       "      <th>0</th>\n",
       "      <td>wFEtvZmaNwQ</td>\n",
       "      <td>207</td>\n",
       "      <td>219</td>\n",
       "      <td>y además cómo sabría el tipo cuándo ha cumplid...</td>\n",
       "    </tr>\n",
       "    <tr>\n",
       "      <th>1</th>\n",
       "      <td>fcxTPwMyaNs</td>\n",
       "      <td>490</td>\n",
       "      <td>501</td>\n",
       "      <td>por lo tanto desea comenzar a hacer cosas con ...</td>\n",
       "    </tr>\n",
       "    <tr>\n",
       "      <th>2</th>\n",
       "      <td>zTxdXfa8zlA</td>\n",
       "      <td>196</td>\n",
       "      <td>206</td>\n",
       "      <td>y como la tiene en su poder se la vende a max ...</td>\n",
       "    </tr>\n",
       "    <tr>\n",
       "      <th>3</th>\n",
       "      <td>Jw5JFE_7icI</td>\n",
       "      <td>425</td>\n",
       "      <td>433</td>\n",
       "      <td>desde luego no es mala idea porque él no está ...</td>\n",
       "    </tr>\n",
       "    <tr>\n",
       "      <th>4</th>\n",
       "      <td>NzYHZFCpNag</td>\n",
       "      <td>479</td>\n",
       "      <td>490</td>\n",
       "      <td>la casa es donde está el corazón espero que us...</td>\n",
       "    </tr>\n",
       "    <tr>\n",
       "      <th>...</th>\n",
       "      <td>...</td>\n",
       "      <td>...</td>\n",
       "      <td>...</td>\n",
       "      <td>...</td>\n",
       "    </tr>\n",
       "    <tr>\n",
       "      <th>199</th>\n",
       "      <td>INSqDuzs3eM</td>\n",
       "      <td>2453</td>\n",
       "      <td>2461</td>\n",
       "      <td>eso no puede seguir pasando tus bienes más me ...</td>\n",
       "    </tr>\n",
       "    <tr>\n",
       "      <th>200</th>\n",
       "      <td>mT_NPaMsJfQ</td>\n",
       "      <td>1137</td>\n",
       "      <td>1144</td>\n",
       "      <td>como tú puedes ver estoy vivo eso es porque us...</td>\n",
       "    </tr>\n",
       "    <tr>\n",
       "      <th>201</th>\n",
       "      <td>u64WPiPzmfo</td>\n",
       "      <td>108</td>\n",
       "      <td>117</td>\n",
       "      <td>para ustedes sino para cada mismo para mí mism...</td>\n",
       "    </tr>\n",
       "    <tr>\n",
       "      <th>202</th>\n",
       "      <td>HYlTJhI9Xng</td>\n",
       "      <td>791</td>\n",
       "      <td>799</td>\n",
       "      <td>le llevamos tres puntos al segundo aunque nos ...</td>\n",
       "    </tr>\n",
       "    <tr>\n",
       "      <th>203</th>\n",
       "      <td>VliJEkV937w</td>\n",
       "      <td>1559</td>\n",
       "      <td>1565</td>\n",
       "      <td>ti es decir claro tú lo ves muy sencillo desde...</td>\n",
       "    </tr>\n",
       "  </tbody>\n",
       "</table>\n",
       "<p>204 rows × 4 columns</p>\n",
       "</div>"
      ],
      "text/plain": [
       "        video_id  start_time  end_time  \\\n",
       "0    wFEtvZmaNwQ         207       219   \n",
       "1    fcxTPwMyaNs         490       501   \n",
       "2    zTxdXfa8zlA         196       206   \n",
       "3    Jw5JFE_7icI         425       433   \n",
       "4    NzYHZFCpNag         479       490   \n",
       "..           ...         ...       ...   \n",
       "199  INSqDuzs3eM        2453      2461   \n",
       "200  mT_NPaMsJfQ        1137      1144   \n",
       "201  u64WPiPzmfo         108       117   \n",
       "202  HYlTJhI9Xng         791       799   \n",
       "203  VliJEkV937w        1559      1565   \n",
       "\n",
       "                                                  text  \n",
       "0    y además cómo sabría el tipo cuándo ha cumplid...  \n",
       "1    por lo tanto desea comenzar a hacer cosas con ...  \n",
       "2    y como la tiene en su poder se la vende a max ...  \n",
       "3    desde luego no es mala idea porque él no está ...  \n",
       "4    la casa es donde está el corazón espero que us...  \n",
       "..                                                 ...  \n",
       "199  eso no puede seguir pasando tus bienes más me ...  \n",
       "200  como tú puedes ver estoy vivo eso es porque us...  \n",
       "201  para ustedes sino para cada mismo para mí mism...  \n",
       "202  le llevamos tres puntos al segundo aunque nos ...  \n",
       "203  ti es decir claro tú lo ves muy sencillo desde...  \n",
       "\n",
       "[204 rows x 4 columns]"
      ]
     },
     "execution_count": 12,
     "metadata": {},
     "output_type": "execute_result"
    }
   ],
   "source": [
    "#df_5000 = pd.read_csv(f\"{parent_folder_path}/{lang_folder.capitalize()}_Word_Group_Max_In_Youtube_Sentence_5000_Word{file_ext}.csv\")\n",
    "df_5000 = pd.read_excel(f\"{parent_folder_path}/{lang_folder.capitalize()}_Word_Group_Max_In_Youtube_Sentence_5000_Word{file_ext}.xlsx\")\n",
    "df_5000 = df_5000.head(sending_sample_num)\n",
    "df_5000"
   ]
  },
  {
   "cell_type": "code",
   "execution_count": 13,
   "metadata": {},
   "outputs": [
    {
     "data": {
      "text/html": [
       "<div>\n",
       "<style scoped>\n",
       "    .dataframe tbody tr th:only-of-type {\n",
       "        vertical-align: middle;\n",
       "    }\n",
       "\n",
       "    .dataframe tbody tr th {\n",
       "        vertical-align: top;\n",
       "    }\n",
       "\n",
       "    .dataframe thead th {\n",
       "        text-align: right;\n",
       "    }\n",
       "</style>\n",
       "<table border=\"1\" class=\"dataframe\">\n",
       "  <thead>\n",
       "    <tr style=\"text-align: right;\">\n",
       "      <th></th>\n",
       "      <th>video_id</th>\n",
       "      <th>start_time</th>\n",
       "      <th>end_time</th>\n",
       "      <th>text</th>\n",
       "    </tr>\n",
       "  </thead>\n",
       "  <tbody>\n",
       "    <tr>\n",
       "      <th>0</th>\n",
       "      <td>xqr2skItS3E</td>\n",
       "      <td>116</td>\n",
       "      <td>127</td>\n",
       "      <td>justamente debajo y para más casualidad termin...</td>\n",
       "    </tr>\n",
       "    <tr>\n",
       "      <th>1</th>\n",
       "      <td>zTxdXfa8zlA</td>\n",
       "      <td>461</td>\n",
       "      <td>471</td>\n",
       "      <td>pero sí es cierto que si hubiese cables por en...</td>\n",
       "    </tr>\n",
       "    <tr>\n",
       "      <th>2</th>\n",
       "      <td>3dc1Dwjlwys</td>\n",
       "      <td>84</td>\n",
       "      <td>93</td>\n",
       "      <td>qué pasa el chaval jamás hasta ese momento ha ...</td>\n",
       "    </tr>\n",
       "    <tr>\n",
       "      <th>3</th>\n",
       "      <td>Jw5JFE_7icI</td>\n",
       "      <td>425</td>\n",
       "      <td>433</td>\n",
       "      <td>desde luego no es mala idea porque él no está ...</td>\n",
       "    </tr>\n",
       "    <tr>\n",
       "      <th>4</th>\n",
       "      <td>NzYHZFCpNag</td>\n",
       "      <td>479</td>\n",
       "      <td>490</td>\n",
       "      <td>la casa es donde está el corazón espero que us...</td>\n",
       "    </tr>\n",
       "    <tr>\n",
       "      <th>...</th>\n",
       "      <td>...</td>\n",
       "      <td>...</td>\n",
       "      <td>...</td>\n",
       "      <td>...</td>\n",
       "    </tr>\n",
       "    <tr>\n",
       "      <th>206</th>\n",
       "      <td>AlgbfFcPWsg</td>\n",
       "      <td>211</td>\n",
       "      <td>218</td>\n",
       "      <td>dientes aquí por donde van esos cinco dientes ...</td>\n",
       "    </tr>\n",
       "    <tr>\n",
       "      <th>207</th>\n",
       "      <td>I4tf0f4vmRI</td>\n",
       "      <td>462</td>\n",
       "      <td>468</td>\n",
       "      <td>cuántos tubos necesitaré para tocar una canció...</td>\n",
       "    </tr>\n",
       "    <tr>\n",
       "      <th>208</th>\n",
       "      <td>mT_NPaMsJfQ</td>\n",
       "      <td>714</td>\n",
       "      <td>721</td>\n",
       "      <td>dicen vosotros todos parados ahora pero aquí m...</td>\n",
       "    </tr>\n",
       "    <tr>\n",
       "      <th>209</th>\n",
       "      <td>K_JWIUtTyO8</td>\n",
       "      <td>259</td>\n",
       "      <td>267</td>\n",
       "      <td>muy interesante pensar como cualquier realidad...</td>\n",
       "    </tr>\n",
       "    <tr>\n",
       "      <th>210</th>\n",
       "      <td>7t8XFOLpFIo</td>\n",
       "      <td>301</td>\n",
       "      <td>309</td>\n",
       "      <td>bueno pues con una condición es bastante fácil...</td>\n",
       "    </tr>\n",
       "  </tbody>\n",
       "</table>\n",
       "<p>211 rows × 4 columns</p>\n",
       "</div>"
      ],
      "text/plain": [
       "        video_id  start_time  end_time  \\\n",
       "0    xqr2skItS3E         116       127   \n",
       "1    zTxdXfa8zlA         461       471   \n",
       "2    3dc1Dwjlwys          84        93   \n",
       "3    Jw5JFE_7icI         425       433   \n",
       "4    NzYHZFCpNag         479       490   \n",
       "..           ...         ...       ...   \n",
       "206  AlgbfFcPWsg         211       218   \n",
       "207  I4tf0f4vmRI         462       468   \n",
       "208  mT_NPaMsJfQ         714       721   \n",
       "209  K_JWIUtTyO8         259       267   \n",
       "210  7t8XFOLpFIo         301       309   \n",
       "\n",
       "                                                  text  \n",
       "0    justamente debajo y para más casualidad termin...  \n",
       "1    pero sí es cierto que si hubiese cables por en...  \n",
       "2    qué pasa el chaval jamás hasta ese momento ha ...  \n",
       "3    desde luego no es mala idea porque él no está ...  \n",
       "4    la casa es donde está el corazón espero que us...  \n",
       "..                                                 ...  \n",
       "206  dientes aquí por donde van esos cinco dientes ...  \n",
       "207  cuántos tubos necesitaré para tocar una canció...  \n",
       "208  dicen vosotros todos parados ahora pero aquí m...  \n",
       "209  muy interesante pensar como cualquier realidad...  \n",
       "210  bueno pues con una condición es bastante fácil...  \n",
       "\n",
       "[211 rows x 4 columns]"
      ]
     },
     "execution_count": 13,
     "metadata": {},
     "output_type": "execute_result"
    }
   ],
   "source": [
    "#df_10000 = pd.read_csv(f\"{parent_folder_path}/{lang_folder.capitalize()}_Word_Group_Max_In_Youtube_Sentence_10000_Word{file_ext}.csv\")\n",
    "df_10000 = pd.read_excel(f\"{parent_folder_path}/{lang_folder.capitalize()}_Word_Group_Max_In_Youtube_Sentence_10000_Word{file_ext}.xlsx\")\n",
    "df_10000 = df_10000.head(sending_sample_num)\n",
    "df_10000"
   ]
  },
  {
   "cell_type": "code",
   "execution_count": 14,
   "metadata": {},
   "outputs": [
    {
     "data": {
      "text/html": [
       "<div>\n",
       "<style scoped>\n",
       "    .dataframe tbody tr th:only-of-type {\n",
       "        vertical-align: middle;\n",
       "    }\n",
       "\n",
       "    .dataframe tbody tr th {\n",
       "        vertical-align: top;\n",
       "    }\n",
       "\n",
       "    .dataframe thead th {\n",
       "        text-align: right;\n",
       "    }\n",
       "</style>\n",
       "<table border=\"1\" class=\"dataframe\">\n",
       "  <thead>\n",
       "    <tr style=\"text-align: right;\">\n",
       "      <th></th>\n",
       "      <th>video_id</th>\n",
       "      <th>start_time</th>\n",
       "      <th>end_time</th>\n",
       "      <th>text</th>\n",
       "    </tr>\n",
       "  </thead>\n",
       "  <tbody>\n",
       "    <tr>\n",
       "      <th>0</th>\n",
       "      <td>Ur8vnsSGa7U</td>\n",
       "      <td>398</td>\n",
       "      <td>410</td>\n",
       "      <td>pero es que si ese era tu plan para qué dejas ...</td>\n",
       "    </tr>\n",
       "    <tr>\n",
       "      <th>1</th>\n",
       "      <td>ZCGlkmnwFaE</td>\n",
       "      <td>70</td>\n",
       "      <td>82</td>\n",
       "      <td>todos estos cortes se pueden hacer usando una ...</td>\n",
       "    </tr>\n",
       "    <tr>\n",
       "      <th>2</th>\n",
       "      <td>oLuBvogL88U</td>\n",
       "      <td>218</td>\n",
       "      <td>232</td>\n",
       "      <td>incluso después de la muerte el cuerpo humano ...</td>\n",
       "    </tr>\n",
       "    <tr>\n",
       "      <th>3</th>\n",
       "      <td>Xq64fmkeETo</td>\n",
       "      <td>296</td>\n",
       "      <td>307</td>\n",
       "      <td>pero todavía podría usarla si cree que su pilo...</td>\n",
       "    </tr>\n",
       "    <tr>\n",
       "      <th>4</th>\n",
       "      <td>O0rkwLyf3BA</td>\n",
       "      <td>745</td>\n",
       "      <td>756</td>\n",
       "      <td>las cosas han avanzado en términos de tecnolog...</td>\n",
       "    </tr>\n",
       "    <tr>\n",
       "      <th>...</th>\n",
       "      <td>...</td>\n",
       "      <td>...</td>\n",
       "      <td>...</td>\n",
       "      <td>...</td>\n",
       "    </tr>\n",
       "    <tr>\n",
       "      <th>208</th>\n",
       "      <td>WoRZzcEpZnw</td>\n",
       "      <td>412</td>\n",
       "      <td>419</td>\n",
       "      <td>porque ya no está incluida dentro del precio n...</td>\n",
       "    </tr>\n",
       "    <tr>\n",
       "      <th>209</th>\n",
       "      <td>ulIMb24WRyY</td>\n",
       "      <td>327</td>\n",
       "      <td>338</td>\n",
       "      <td>para mejorar algunos controles sobre bancos pe...</td>\n",
       "    </tr>\n",
       "    <tr>\n",
       "      <th>210</th>\n",
       "      <td>qFkOQTtt7yY</td>\n",
       "      <td>465</td>\n",
       "      <td>472</td>\n",
       "      <td>si queréis os enseñan unos ejercicios iguales ...</td>\n",
       "    </tr>\n",
       "    <tr>\n",
       "      <th>211</th>\n",
       "      <td>NDfBwFFQvC8</td>\n",
       "      <td>124</td>\n",
       "      <td>130</td>\n",
       "      <td>nuestra mente se vuelve menos eficiente pero c...</td>\n",
       "    </tr>\n",
       "    <tr>\n",
       "      <th>212</th>\n",
       "      <td>UsMmb6j7LJI</td>\n",
       "      <td>347</td>\n",
       "      <td>354</td>\n",
       "      <td>canela ni siquiera hace falta azúcar era perfe...</td>\n",
       "    </tr>\n",
       "  </tbody>\n",
       "</table>\n",
       "<p>213 rows × 4 columns</p>\n",
       "</div>"
      ],
      "text/plain": [
       "        video_id  start_time  end_time  \\\n",
       "0    Ur8vnsSGa7U         398       410   \n",
       "1    ZCGlkmnwFaE          70        82   \n",
       "2    oLuBvogL88U         218       232   \n",
       "3    Xq64fmkeETo         296       307   \n",
       "4    O0rkwLyf3BA         745       756   \n",
       "..           ...         ...       ...   \n",
       "208  WoRZzcEpZnw         412       419   \n",
       "209  ulIMb24WRyY         327       338   \n",
       "210  qFkOQTtt7yY         465       472   \n",
       "211  NDfBwFFQvC8         124       130   \n",
       "212  UsMmb6j7LJI         347       354   \n",
       "\n",
       "                                                  text  \n",
       "0    pero es que si ese era tu plan para qué dejas ...  \n",
       "1    todos estos cortes se pueden hacer usando una ...  \n",
       "2    incluso después de la muerte el cuerpo humano ...  \n",
       "3    pero todavía podría usarla si cree que su pilo...  \n",
       "4    las cosas han avanzado en términos de tecnolog...  \n",
       "..                                                 ...  \n",
       "208  porque ya no está incluida dentro del precio n...  \n",
       "209  para mejorar algunos controles sobre bancos pe...  \n",
       "210  si queréis os enseñan unos ejercicios iguales ...  \n",
       "211  nuestra mente se vuelve menos eficiente pero c...  \n",
       "212  canela ni siquiera hace falta azúcar era perfe...  \n",
       "\n",
       "[213 rows x 4 columns]"
      ]
     },
     "execution_count": 14,
     "metadata": {},
     "output_type": "execute_result"
    }
   ],
   "source": [
    "#df_20000 = pd.read_csv(f\"{parent_folder_path}/{lang_folder.capitalize()}_Word_Group_Max_In_Youtube_Sentence_20000_Word{file_ext}.csv\")\n",
    "df_20000 = pd.read_excel(f\"{parent_folder_path}/{lang_folder.capitalize()}_Word_Group_Max_In_Youtube_Sentence_20000_Word{file_ext}.xlsx\")\n",
    "df_20000 = df_20000.head(sending_sample_num)\n",
    "df_20000"
   ]
  },
  {
   "cell_type": "code",
   "execution_count": 15,
   "metadata": {},
   "outputs": [
    {
     "data": {
      "text/html": [
       "<div>\n",
       "<style scoped>\n",
       "    .dataframe tbody tr th:only-of-type {\n",
       "        vertical-align: middle;\n",
       "    }\n",
       "\n",
       "    .dataframe tbody tr th {\n",
       "        vertical-align: top;\n",
       "    }\n",
       "\n",
       "    .dataframe thead th {\n",
       "        text-align: right;\n",
       "    }\n",
       "</style>\n",
       "<table border=\"1\" class=\"dataframe\">\n",
       "  <thead>\n",
       "    <tr style=\"text-align: right;\">\n",
       "      <th></th>\n",
       "      <th>video_id</th>\n",
       "      <th>start_time</th>\n",
       "      <th>end_time</th>\n",
       "      <th>text</th>\n",
       "    </tr>\n",
       "  </thead>\n",
       "  <tbody>\n",
       "    <tr>\n",
       "      <th>0</th>\n",
       "      <td>haz50gsL2G4</td>\n",
       "      <td>438</td>\n",
       "      <td>452</td>\n",
       "      <td>o por qué no fabricar una bomba propia si tien...</td>\n",
       "    </tr>\n",
       "    <tr>\n",
       "      <th>1</th>\n",
       "      <td>Ur8vnsSGa7U</td>\n",
       "      <td>398</td>\n",
       "      <td>410</td>\n",
       "      <td>pero es que si ese era tu plan para qué dejas ...</td>\n",
       "    </tr>\n",
       "    <tr>\n",
       "      <th>2</th>\n",
       "      <td>haz50gsL2G4</td>\n",
       "      <td>385</td>\n",
       "      <td>396</td>\n",
       "      <td>no hay ninguna seguridad más porque conseguir ...</td>\n",
       "    </tr>\n",
       "    <tr>\n",
       "      <th>3</th>\n",
       "      <td>danPB1e3MhA</td>\n",
       "      <td>548</td>\n",
       "      <td>561</td>\n",
       "      <td>dependiendo del tipo de clip seleccionado en l...</td>\n",
       "    </tr>\n",
       "    <tr>\n",
       "      <th>4</th>\n",
       "      <td>30pBgk4cZU8</td>\n",
       "      <td>449</td>\n",
       "      <td>462</td>\n",
       "      <td>en la parte incorrecta del motor lo que causa ...</td>\n",
       "    </tr>\n",
       "    <tr>\n",
       "      <th>...</th>\n",
       "      <td>...</td>\n",
       "      <td>...</td>\n",
       "      <td>...</td>\n",
       "      <td>...</td>\n",
       "    </tr>\n",
       "    <tr>\n",
       "      <th>239</th>\n",
       "      <td>1mSvyIZyLXA</td>\n",
       "      <td>269</td>\n",
       "      <td>277</td>\n",
       "      <td>américa licencia vemos acá colombia también es...</td>\n",
       "    </tr>\n",
       "    <tr>\n",
       "      <th>240</th>\n",
       "      <td>A21lPWo9YNw</td>\n",
       "      <td>36</td>\n",
       "      <td>44</td>\n",
       "      <td>colombiana pero me estoy conectando desde pana...</td>\n",
       "    </tr>\n",
       "    <tr>\n",
       "      <th>241</th>\n",
       "      <td>QxKOJ0ywq4o</td>\n",
       "      <td>276</td>\n",
       "      <td>284</td>\n",
       "      <td>una estrategia similar aunque tomemos infinita...</td>\n",
       "    </tr>\n",
       "    <tr>\n",
       "      <th>242</th>\n",
       "      <td>n1RvthD0f04</td>\n",
       "      <td>401</td>\n",
       "      <td>405</td>\n",
       "      <td>puede aportar o si tiene alguna prueba gratuit...</td>\n",
       "    </tr>\n",
       "    <tr>\n",
       "      <th>243</th>\n",
       "      <td>mGAKKbMmKzw</td>\n",
       "      <td>477</td>\n",
       "      <td>482</td>\n",
       "      <td>una reflexión mía personal he decidido compart...</td>\n",
       "    </tr>\n",
       "  </tbody>\n",
       "</table>\n",
       "<p>244 rows × 4 columns</p>\n",
       "</div>"
      ],
      "text/plain": [
       "        video_id  start_time  end_time  \\\n",
       "0    haz50gsL2G4         438       452   \n",
       "1    Ur8vnsSGa7U         398       410   \n",
       "2    haz50gsL2G4         385       396   \n",
       "3    danPB1e3MhA         548       561   \n",
       "4    30pBgk4cZU8         449       462   \n",
       "..           ...         ...       ...   \n",
       "239  1mSvyIZyLXA         269       277   \n",
       "240  A21lPWo9YNw          36        44   \n",
       "241  QxKOJ0ywq4o         276       284   \n",
       "242  n1RvthD0f04         401       405   \n",
       "243  mGAKKbMmKzw         477       482   \n",
       "\n",
       "                                                  text  \n",
       "0    o por qué no fabricar una bomba propia si tien...  \n",
       "1    pero es que si ese era tu plan para qué dejas ...  \n",
       "2    no hay ninguna seguridad más porque conseguir ...  \n",
       "3    dependiendo del tipo de clip seleccionado en l...  \n",
       "4    en la parte incorrecta del motor lo que causa ...  \n",
       "..                                                 ...  \n",
       "239  américa licencia vemos acá colombia también es...  \n",
       "240  colombiana pero me estoy conectando desde pana...  \n",
       "241  una estrategia similar aunque tomemos infinita...  \n",
       "242  puede aportar o si tiene alguna prueba gratuit...  \n",
       "243  una reflexión mía personal he decidido compart...  \n",
       "\n",
       "[244 rows x 4 columns]"
      ]
     },
     "execution_count": 15,
     "metadata": {},
     "output_type": "execute_result"
    }
   ],
   "source": [
    "#df_40000 = pd.read_csv(f\"{parent_folder_path}/{lang_folder.capitalize()}_Word_Group_Max_In_Youtube_Sentence_40000_Word{file_ext}.csv\")\n",
    "df_40000 = pd.read_excel(f\"{parent_folder_path}/{lang_folder.capitalize()}_Word_Group_Max_In_Youtube_Sentence_40000_Word{file_ext}.xlsx\")\n",
    "df_40000 = df_40000.head(sending_sample_num)\n",
    "df_40000"
   ]
  },
  {
   "cell_type": "code",
   "execution_count": null,
   "metadata": {},
   "outputs": [],
   "source": []
  },
  {
   "attachments": {},
   "cell_type": "markdown",
   "metadata": {},
   "source": [
    "##### Calculate Speech Time Mean"
   ]
  },
  {
   "cell_type": "code",
   "execution_count": 16,
   "metadata": {},
   "outputs": [
    {
     "data": {
      "text/plain": [
       "2.493150684931507"
      ]
     },
     "execution_count": 16,
     "metadata": {},
     "output_type": "execute_result"
    }
   ],
   "source": [
    "(df_28[\"end_time\"] - df_28[\"start_time\"]).mean()"
   ]
  },
  {
   "cell_type": "code",
   "execution_count": 17,
   "metadata": {},
   "outputs": [
    {
     "data": {
      "text/plain": [
       "5.093457943925234"
      ]
     },
     "execution_count": 17,
     "metadata": {},
     "output_type": "execute_result"
    }
   ],
   "source": [
    "(df_200[\"end_time\"] - df_200[\"start_time\"]).mean()"
   ]
  },
  {
   "cell_type": "code",
   "execution_count": 18,
   "metadata": {},
   "outputs": [
    {
     "data": {
      "text/plain": [
       "6.937799043062201"
      ]
     },
     "execution_count": 18,
     "metadata": {},
     "output_type": "execute_result"
    }
   ],
   "source": [
    "(df_1000[\"end_time\"] - df_1000[\"start_time\"]).mean()"
   ]
  },
  {
   "cell_type": "code",
   "execution_count": 19,
   "metadata": {},
   "outputs": [
    {
     "data": {
      "text/plain": [
       "7.416666666666667"
      ]
     },
     "execution_count": 19,
     "metadata": {},
     "output_type": "execute_result"
    }
   ],
   "source": [
    "(df_5000[\"end_time\"] - df_5000[\"start_time\"]).mean()"
   ]
  },
  {
   "cell_type": "code",
   "execution_count": 20,
   "metadata": {},
   "outputs": [
    {
     "data": {
      "text/plain": [
       "7.815165876777251"
      ]
     },
     "execution_count": 20,
     "metadata": {},
     "output_type": "execute_result"
    }
   ],
   "source": [
    "(df_10000[\"end_time\"] - df_10000[\"start_time\"]).mean()"
   ]
  },
  {
   "cell_type": "code",
   "execution_count": 21,
   "metadata": {},
   "outputs": [
    {
     "data": {
      "text/plain": [
       "8.103286384976526"
      ]
     },
     "execution_count": 21,
     "metadata": {},
     "output_type": "execute_result"
    }
   ],
   "source": [
    "(df_20000[\"end_time\"] - df_20000[\"start_time\"]).mean()"
   ]
  },
  {
   "cell_type": "code",
   "execution_count": 22,
   "metadata": {},
   "outputs": [
    {
     "data": {
      "text/plain": [
       "8.55327868852459"
      ]
     },
     "execution_count": 22,
     "metadata": {},
     "output_type": "execute_result"
    }
   ],
   "source": [
    "(df_40000[\"end_time\"] - df_40000[\"start_time\"]).mean()"
   ]
  },
  {
   "cell_type": "code",
   "execution_count": null,
   "metadata": {},
   "outputs": [],
   "source": []
  },
  {
   "attachments": {},
   "cell_type": "markdown",
   "metadata": {},
   "source": [
    "#### Sending Data To Firestore"
   ]
  },
  {
   "cell_type": "code",
   "execution_count": 23,
   "metadata": {},
   "outputs": [],
   "source": [
    "cred = credentials.Certificate(\"/home/kurubal/Documents/Firebase/Language Level/Api Key/language-levels-firebase-adminsdk-u1m3n-87de34db73.json\")  # Language Level\n",
    "app = firebase_admin.initialize_app(cred)"
   ]
  },
  {
   "cell_type": "code",
   "execution_count": 24,
   "metadata": {},
   "outputs": [],
   "source": [
    "fire_db = firestore.client()"
   ]
  },
  {
   "attachments": {},
   "cell_type": "markdown",
   "metadata": {},
   "source": [
    "##### Language Data"
   ]
  },
  {
   "cell_type": "code",
   "execution_count": 25,
   "metadata": {},
   "outputs": [],
   "source": [
    "language_data = {\"languages\":[{\"id\":1, \"name\":\"English\"},{\"id\":2, \"name\":\"Turkish\"},{\"id\":3, \"name\":\"French\"},\n",
    "                              {\"id\":4,\"name\":\"Spanish\"},{\"id\":5, \"name\":\"Portuguese\"},{\"id\":6, \"name\":\"Dutch\"},\n",
    "                              {\"id\":7, \"name\":\"Italian\"},{\"id\":8, \"name\":\"German\"},{\"id\":9, \"name\":\"Arabic\"}]}"
   ]
  },
  {
   "cell_type": "code",
   "execution_count": 26,
   "metadata": {},
   "outputs": [],
   "source": [
    "#fire_db.collection(\"language-data\").document(\"languages\").set(language_data)"
   ]
  },
  {
   "attachments": {},
   "cell_type": "markdown",
   "metadata": {},
   "source": [
    "##### Language Detail"
   ]
  },
  {
   "attachments": {},
   "cell_type": "markdown",
   "metadata": {},
   "source": [
    "##### Absolute Beginner"
   ]
  },
  {
   "cell_type": "code",
   "execution_count": 27,
   "metadata": {},
   "outputs": [],
   "source": [
    "# Absolute Beginner Data\n",
    "end_time_list = df_28[\"end_time\"].to_list()\n",
    "video_id_list = df_28[\"video_id\"].to_list()\n",
    "start_time_list = df_28[\"start_time\"].to_list()"
   ]
  },
  {
   "cell_type": "code",
   "execution_count": 28,
   "metadata": {},
   "outputs": [],
   "source": [
    "firestore_beginner_data = zip(end_time_list,video_id_list,start_time_list)\n",
    "beginner_description_text = \"description\""
   ]
  },
  {
   "cell_type": "code",
   "execution_count": 29,
   "metadata": {},
   "outputs": [],
   "source": [
    "beginner_data_list = []\n",
    "for endtime, videoid, starttime in firestore_beginner_data:\n",
    "    data = {\"endTime\":endtime,\n",
    "            \"id\":videoid,\n",
    "            \"startTime\":starttime}\n",
    "    beginner_data_list.append(data)\n",
    "    \n",
    "#beginner_data_list   "
   ]
  },
  {
   "cell_type": "code",
   "execution_count": 30,
   "metadata": {},
   "outputs": [],
   "source": [
    "data_beginner = {\"description\":f\"{beginner_description_text}\", \"level\":0, \"levelName\":\"Absolute Beginner\", \"videos\":beginner_data_list}\n",
    "#data_beginner"
   ]
  },
  {
   "cell_type": "code",
   "execution_count": 31,
   "metadata": {},
   "outputs": [],
   "source": [
    "#fire_db.collection(\"language-detail-data\").document(f\"{lang_id}\").set(data_beginner)"
   ]
  },
  {
   "cell_type": "code",
   "execution_count": null,
   "metadata": {},
   "outputs": [],
   "source": []
  },
  {
   "attachments": {},
   "cell_type": "markdown",
   "metadata": {},
   "source": [
    "##### A1 Level"
   ]
  },
  {
   "cell_type": "code",
   "execution_count": 32,
   "metadata": {},
   "outputs": [],
   "source": [
    "# A1 Level Data\n",
    "end_time_list = df_200[\"end_time\"].to_list()\n",
    "video_id_list = df_200[\"video_id\"].to_list()\n",
    "start_time_list = df_200[\"start_time\"].to_list()"
   ]
  },
  {
   "cell_type": "code",
   "execution_count": 33,
   "metadata": {},
   "outputs": [],
   "source": [
    "firestore_A1_data = zip(end_time_list,video_id_list,start_time_list)\n",
    "A1_description_text = \"A1 level description\""
   ]
  },
  {
   "cell_type": "code",
   "execution_count": 34,
   "metadata": {},
   "outputs": [],
   "source": [
    "A1_data_list = []\n",
    "for endtime, videoid, starttime in firestore_A1_data:\n",
    "    data = {\"endTime\":endtime,\n",
    "            \"id\":videoid,\n",
    "            \"startTime\":starttime}\n",
    "    A1_data_list.append(data)\n",
    "\n",
    "#A1_data_list   "
   ]
  },
  {
   "cell_type": "code",
   "execution_count": 35,
   "metadata": {},
   "outputs": [],
   "source": [
    "data_A1 = {\"description\":f\"{A1_description_text}\", \"level\":1, \"levelName\":\"A1\", \"videos\":A1_data_list}\n",
    "#data_A1"
   ]
  },
  {
   "cell_type": "code",
   "execution_count": null,
   "metadata": {},
   "outputs": [],
   "source": []
  },
  {
   "attachments": {},
   "cell_type": "markdown",
   "metadata": {},
   "source": [
    "##### A2 Level"
   ]
  },
  {
   "cell_type": "code",
   "execution_count": 36,
   "metadata": {},
   "outputs": [],
   "source": [
    "# A2 Level Data\n",
    "end_time_list = df_1000[\"end_time\"].to_list()\n",
    "video_id_list = df_1000[\"video_id\"].to_list()\n",
    "start_time_list = df_1000[\"start_time\"].to_list()"
   ]
  },
  {
   "cell_type": "code",
   "execution_count": 37,
   "metadata": {},
   "outputs": [],
   "source": [
    "firestore_A2_data = zip(end_time_list,video_id_list,start_time_list)\n",
    "A2_description_text = \"A2 level description\""
   ]
  },
  {
   "cell_type": "code",
   "execution_count": 38,
   "metadata": {},
   "outputs": [],
   "source": [
    "A2_data_list = []\n",
    "for endtime, videoid, starttime in firestore_A2_data:\n",
    "    data = {\"endTime\":endtime,\n",
    "            \"id\":videoid,\n",
    "            \"startTime\":starttime}\n",
    "    A2_data_list.append(data)\n",
    "\n",
    "#A2_data_list   "
   ]
  },
  {
   "cell_type": "code",
   "execution_count": 39,
   "metadata": {},
   "outputs": [],
   "source": [
    "data_A2 = {\"description\":f\"{A2_description_text}\", \"level\":2, \"levelName\":\"A2\", \"videos\":A2_data_list}\n",
    "#data_A2"
   ]
  },
  {
   "cell_type": "code",
   "execution_count": null,
   "metadata": {},
   "outputs": [],
   "source": []
  },
  {
   "attachments": {},
   "cell_type": "markdown",
   "metadata": {},
   "source": [
    "##### B1 Level"
   ]
  },
  {
   "cell_type": "code",
   "execution_count": 40,
   "metadata": {},
   "outputs": [],
   "source": [
    "# B1 Level Data\n",
    "end_time_list = df_5000[\"end_time\"].to_list()\n",
    "video_id_list = df_5000[\"video_id\"].to_list()\n",
    "start_time_list = df_5000[\"start_time\"].to_list()"
   ]
  },
  {
   "cell_type": "code",
   "execution_count": 41,
   "metadata": {},
   "outputs": [],
   "source": [
    "firestore_B1_data = zip(end_time_list,video_id_list,start_time_list)\n",
    "B1_description_text = \"B1 level description\""
   ]
  },
  {
   "cell_type": "code",
   "execution_count": 42,
   "metadata": {},
   "outputs": [],
   "source": [
    "B1_data_list = []\n",
    "for endtime, videoid, starttime in firestore_B1_data:\n",
    "    data = {\"endTime\":endtime,\n",
    "            \"id\":videoid,\n",
    "            \"startTime\":starttime}\n",
    "    B1_data_list.append(data)\n",
    "\n",
    "#B1_data_list   "
   ]
  },
  {
   "cell_type": "code",
   "execution_count": 43,
   "metadata": {},
   "outputs": [],
   "source": [
    "data_B1 = {\"description\":f\"{B1_description_text}\", \"level\":3, \"levelName\":\"B1\", \"videos\":B1_data_list}\n",
    "#data_B1"
   ]
  },
  {
   "cell_type": "code",
   "execution_count": null,
   "metadata": {},
   "outputs": [],
   "source": []
  },
  {
   "attachments": {},
   "cell_type": "markdown",
   "metadata": {},
   "source": [
    "##### B2 Level"
   ]
  },
  {
   "cell_type": "code",
   "execution_count": 44,
   "metadata": {},
   "outputs": [],
   "source": [
    "# B2 Level Data\n",
    "end_time_list = df_10000[\"end_time\"].to_list()\n",
    "video_id_list = df_10000[\"video_id\"].to_list()\n",
    "start_time_list = df_10000[\"start_time\"].to_list()"
   ]
  },
  {
   "cell_type": "code",
   "execution_count": 45,
   "metadata": {},
   "outputs": [],
   "source": [
    "firestore_B2_data = zip(end_time_list,video_id_list,start_time_list)\n",
    "B2_description_text = \"B2 level description\""
   ]
  },
  {
   "cell_type": "code",
   "execution_count": 46,
   "metadata": {},
   "outputs": [],
   "source": [
    "B2_data_list = []\n",
    "for endtime, videoid, starttime in firestore_B2_data:\n",
    "    data = {\"endTime\":endtime,\n",
    "            \"id\":videoid,\n",
    "            \"startTime\":starttime}\n",
    "    B2_data_list.append(data)\n",
    "\n",
    "#B2_data_list   "
   ]
  },
  {
   "cell_type": "code",
   "execution_count": 47,
   "metadata": {},
   "outputs": [],
   "source": [
    "data_B2 = {\"description\":f\"{B2_description_text}\", \"level\":4, \"levelName\":\"B2\", \"videos\":B2_data_list}\n",
    "#data_B2"
   ]
  },
  {
   "cell_type": "code",
   "execution_count": null,
   "metadata": {},
   "outputs": [],
   "source": []
  },
  {
   "attachments": {},
   "cell_type": "markdown",
   "metadata": {},
   "source": [
    "##### C1 Level"
   ]
  },
  {
   "cell_type": "code",
   "execution_count": 48,
   "metadata": {},
   "outputs": [],
   "source": [
    "# C1 Level Data\n",
    "video_id_list = df_20000[\"video_id\"].to_list()\n",
    "end_time_list = df_20000[\"end_time\"].to_list()\n",
    "start_time_list = df_20000[\"start_time\"].to_list()"
   ]
  },
  {
   "cell_type": "code",
   "execution_count": 49,
   "metadata": {},
   "outputs": [],
   "source": [
    "firestore_C1_data = zip(end_time_list,video_id_list,start_time_list)\n",
    "C1_description_text = \"C1 level description\""
   ]
  },
  {
   "cell_type": "code",
   "execution_count": 50,
   "metadata": {},
   "outputs": [],
   "source": [
    "C1_data_list = []\n",
    "for endtime, videoid, starttime in firestore_C1_data:\n",
    "    data = {\"endTime\":endtime,\n",
    "            \"id\":videoid,\n",
    "            \"startTime\":starttime}\n",
    "    C1_data_list.append(data)\n",
    "\n",
    "#C1_data_list   "
   ]
  },
  {
   "cell_type": "code",
   "execution_count": 51,
   "metadata": {},
   "outputs": [],
   "source": [
    "data_C1 = {\"description\":f\"{C1_description_text}\", \"level\":5, \"levelName\":\"C1\", \"videos\":C1_data_list}\n",
    "#data_C1"
   ]
  },
  {
   "cell_type": "code",
   "execution_count": null,
   "metadata": {},
   "outputs": [],
   "source": []
  },
  {
   "attachments": {},
   "cell_type": "markdown",
   "metadata": {},
   "source": [
    "##### C2 Level"
   ]
  },
  {
   "cell_type": "code",
   "execution_count": 52,
   "metadata": {},
   "outputs": [],
   "source": [
    "# C2 Level Data\n",
    "video_id_list = df_40000[\"video_id\"].to_list()\n",
    "end_time_list = df_40000[\"end_time\"].to_list()\n",
    "start_time_list = df_40000[\"start_time\"].to_list()"
   ]
  },
  {
   "cell_type": "code",
   "execution_count": 53,
   "metadata": {},
   "outputs": [],
   "source": [
    "firestore_C2_data = zip(end_time_list,video_id_list,start_time_list)\n",
    "C2_description_text = \"C2 level description\""
   ]
  },
  {
   "cell_type": "code",
   "execution_count": 54,
   "metadata": {},
   "outputs": [],
   "source": [
    "C2_data_list = []\n",
    "for endtime, videoid, starttime in firestore_C2_data:\n",
    "    data = {\"endTime\":endtime,\n",
    "            \"id\":videoid,\n",
    "            \"startTime\":starttime}\n",
    "    C2_data_list.append(data)\n",
    "\n",
    "#C2_data_list   "
   ]
  },
  {
   "cell_type": "code",
   "execution_count": 55,
   "metadata": {},
   "outputs": [],
   "source": [
    "data_C2 = {\"description\":f\"{C2_description_text}\", \"level\":6, \"levelName\":\"C2\", \"videos\":C2_data_list}\n",
    "#data_C2"
   ]
  },
  {
   "cell_type": "code",
   "execution_count": null,
   "metadata": {},
   "outputs": [],
   "source": []
  },
  {
   "attachments": {},
   "cell_type": "markdown",
   "metadata": {},
   "source": [
    "##### All Data Sending"
   ]
  },
  {
   "cell_type": "code",
   "execution_count": 56,
   "metadata": {},
   "outputs": [],
   "source": [
    "data_all = {\"datas\":[data_beginner, data_A1, data_A2, data_B1, data_B2, data_C1, data_C2]}\n",
    "#data_all"
   ]
  },
  {
   "cell_type": "code",
   "execution_count": 57,
   "metadata": {},
   "outputs": [
    {
     "data": {
      "text/plain": [
       "update_time {\n",
       "  seconds: 1685372338\n",
       "  nanos: 808819000\n",
       "}"
      ]
     },
     "execution_count": 57,
     "metadata": {},
     "output_type": "execute_result"
    }
   ],
   "source": [
    "fire_db.collection(\"language-detail-data\").document(f\"{lang_id}\").set(data_all)"
   ]
  },
  {
   "cell_type": "code",
   "execution_count": null,
   "metadata": {},
   "outputs": [],
   "source": []
  },
  {
   "cell_type": "code",
   "execution_count": null,
   "metadata": {},
   "outputs": [],
   "source": []
  },
  {
   "cell_type": "code",
   "execution_count": null,
   "metadata": {},
   "outputs": [],
   "source": []
  }
 ],
 "metadata": {
  "kernelspec": {
   "display_name": "Python 3.9.5 ('py39')",
   "language": "python",
   "name": "python3"
  },
  "language_info": {
   "codemirror_mode": {
    "name": "ipython",
    "version": 3
   },
   "file_extension": ".py",
   "mimetype": "text/x-python",
   "name": "python",
   "nbconvert_exporter": "python",
   "pygments_lexer": "ipython3",
   "version": "3.9.5"
  },
  "orig_nbformat": 4,
  "vscode": {
   "interpreter": {
    "hash": "651d507d70892fab0fc6529d935cd476f6e2eb1791525b76da6cc8da34bc0503"
   }
  }
 },
 "nbformat": 4,
 "nbformat_minor": 2
}
