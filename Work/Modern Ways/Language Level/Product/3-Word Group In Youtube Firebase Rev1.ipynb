{
 "cells": [
  {
   "attachments": {},
   "cell_type": "markdown",
   "metadata": {},
   "source": [
    "### Word Group In Youtube Firebase"
   ]
  },
  {
   "cell_type": "code",
   "execution_count": 1,
   "metadata": {},
   "outputs": [],
   "source": [
    "import firebase_admin\n",
    "from firebase_admin import credentials, firestore, storage"
   ]
  },
  {
   "cell_type": "code",
   "execution_count": 2,
   "metadata": {},
   "outputs": [],
   "source": [
    "import os\n",
    "import multiprocessing\n",
    "#import multiprocessing as mp\n",
    "from multiprocessing import Process, Manager, Pool, Queue\n",
    "from itertools import islice\n",
    "from collections import Counter\n",
    "import re\n",
    "import pandas as pd\n",
    "import numpy as np\n",
    "import glob\n",
    "import nltk\n",
    "from nltk import word_tokenize\n",
    "from functools import reduce\n",
    "from pathlib import Path\n",
    "import shutil"
   ]
  },
  {
   "cell_type": "code",
   "execution_count": 3,
   "metadata": {},
   "outputs": [
    {
     "name": "stdout",
     "output_type": "stream",
     "text": [
      "Number of CPU cores: 16\n"
     ]
    }
   ],
   "source": [
    "nprocs = multiprocessing.cpu_count()\n",
    "print(f\"Number of CPU cores: {nprocs}\")"
   ]
  },
  {
   "cell_type": "code",
   "execution_count": 4,
   "metadata": {},
   "outputs": [
    {
     "name": "stdout",
     "output_type": "stream",
     "text": [
      "Language = French\n",
      "Lang Id = 3\n",
      "File Extention = 6\n"
     ]
    }
   ],
   "source": [
    "# language pair\n",
    "lang_folder = \"French\"  # Arabic, English, French, German, Turkish, Spanish, Portuguese, Dutch, Italian\n",
    "\n",
    "# language detail num\n",
    "if lang_folder == \"English\":\n",
    "    lang_id = \"1\"\n",
    "elif lang_folder == \"Turkish\":\n",
    "    lang_id = \"2\"\n",
    "elif lang_folder == \"French\":\n",
    "    lang_id = \"3\"\n",
    "elif lang_folder == \"Spanish\":\n",
    "    lang_id = \"4\"\n",
    "elif lang_folder == \"Portuguese\":\n",
    "    lang_id = \"5\"\n",
    "elif lang_folder == \"Dutch\":\n",
    "    lang_id = \"6\"\n",
    "elif lang_folder == \"Italian\":\n",
    "    lang_id = \"7\"\n",
    "elif lang_folder == \"German\":\n",
    "    lang_id = \"8\"\n",
    "elif lang_folder == \"Arabic\":\n",
    "    lang_id = \"9\"\n",
    "else:\n",
    "    pass\n",
    "\n",
    "# prefix suffix file\n",
    "prefix_suffix = False  # True, False  # True for adding prefix suffix word\n",
    "native_word = True # True for adding native word\n",
    "\n",
    "# sample num\n",
    "sending_sample_num = 400  # 150,200,300,500\n",
    "\n",
    "# adding output file extention\n",
    "if prefix_suffix & native_word:\n",
    "    file_ext = \"5\"\n",
    "elif (not prefix_suffix) & native_word:\n",
    "    file_ext = \"6\"\n",
    "else:\n",
    "    file_ext = \"7\"              \n",
    "\n",
    "# 5 => for only native word with prefix suffix.\n",
    "# 6 => for only native word without prefix suffix.\n",
    "\n",
    "print(f\"Language = {lang_folder}\\nLang Id = {lang_id}\\nFile Extention = {file_ext}\")"
   ]
  },
  {
   "cell_type": "code",
   "execution_count": 5,
   "metadata": {},
   "outputs": [],
   "source": [
    "path = f\"/media/kurubal/SSD/Data Scientist/Work/Modern Ways/Project/{lang_folder.capitalize()}/\\\n",
    "Language Level/Result/3-Word Group In Youtube Sentence Firebase\"\n",
    "\n",
    "#Path(path).mkdir(parents=True, exist_ok=True)"
   ]
  },
  {
   "cell_type": "code",
   "execution_count": 6,
   "metadata": {},
   "outputs": [],
   "source": [
    "##cred = credentials.Certificate(\"/home/kurubal/Documents/Firebase/Flash Card/Api Key/flashcard-1c46e-firebase-adminsdk-b4kn5-5ddbde56b3.json\")  # Flash Card\n",
    "#cred = credentials.Certificate(\"/home/kurubal/Documents/Firebase/Language Level/Api Key/language-levels-firebase-adminsdk-u1m3n-87de34db73.json\")  # Language Level\n",
    "#app = firebase_admin.initialize_app(cred)"
   ]
  },
  {
   "cell_type": "code",
   "execution_count": 7,
   "metadata": {},
   "outputs": [],
   "source": [
    "#fire_db = firestore.client()"
   ]
  },
  {
   "cell_type": "code",
   "execution_count": null,
   "metadata": {},
   "outputs": [],
   "source": []
  },
  {
   "attachments": {},
   "cell_type": "markdown",
   "metadata": {},
   "source": [
    "#### Read Data"
   ]
  },
  {
   "cell_type": "code",
   "execution_count": 8,
   "metadata": {},
   "outputs": [],
   "source": [
    "#parent_folder_path = f\"/media/kurubal/SSD/Data Scientist/Work/Modern Ways/Project/{lang_folder.capitalize()}/Language Level/Data/1-Word Group In Youtube Sentence\"\n",
    "parent_folder_path = f\"/media/kurubal/SSD/Data Scientist/Work/Modern Ways/Project/{lang_folder.capitalize()}/Language Level/Result/2-Word Group Prepare For Youtube Tool\""
   ]
  },
  {
   "cell_type": "code",
   "execution_count": 9,
   "metadata": {},
   "outputs": [
    {
     "data": {
      "text/html": [
       "<div>\n",
       "<style scoped>\n",
       "    .dataframe tbody tr th:only-of-type {\n",
       "        vertical-align: middle;\n",
       "    }\n",
       "\n",
       "    .dataframe tbody tr th {\n",
       "        vertical-align: top;\n",
       "    }\n",
       "\n",
       "    .dataframe thead th {\n",
       "        text-align: right;\n",
       "    }\n",
       "</style>\n",
       "<table border=\"1\" class=\"dataframe\">\n",
       "  <thead>\n",
       "    <tr style=\"text-align: right;\">\n",
       "      <th></th>\n",
       "      <th>video_id</th>\n",
       "      <th>start_time</th>\n",
       "      <th>end_time</th>\n",
       "      <th>text</th>\n",
       "    </tr>\n",
       "  </thead>\n",
       "  <tbody>\n",
       "    <tr>\n",
       "      <th>0</th>\n",
       "      <td>YuxMdNbmxzM</td>\n",
       "      <td>1180</td>\n",
       "      <td>1182</td>\n",
       "      <td>mais cest pas pour ça que ça</td>\n",
       "    </tr>\n",
       "    <tr>\n",
       "      <th>1</th>\n",
       "      <td>aDBLqp0bIPw</td>\n",
       "      <td>672</td>\n",
       "      <td>673</td>\n",
       "      <td>cest pour ça que je vous le</td>\n",
       "    </tr>\n",
       "    <tr>\n",
       "      <th>2</th>\n",
       "      <td>GWSsZ6KCuJI</td>\n",
       "      <td>3402</td>\n",
       "      <td>3404</td>\n",
       "      <td>et cest pour ça que dans ce</td>\n",
       "    </tr>\n",
       "    <tr>\n",
       "      <th>3</th>\n",
       "      <td>KAgyTxbTNxw</td>\n",
       "      <td>926</td>\n",
       "      <td>929</td>\n",
       "      <td>cest pour ça que jai pas de</td>\n",
       "    </tr>\n",
       "    <tr>\n",
       "      <th>4</th>\n",
       "      <td>gpF9Kb4EC4M</td>\n",
       "      <td>1643</td>\n",
       "      <td>1646</td>\n",
       "      <td>cest pour ça que nous on en</td>\n",
       "    </tr>\n",
       "    <tr>\n",
       "      <th>...</th>\n",
       "      <td>...</td>\n",
       "      <td>...</td>\n",
       "      <td>...</td>\n",
       "      <td>...</td>\n",
       "    </tr>\n",
       "    <tr>\n",
       "      <th>395</th>\n",
       "      <td>LTRdb7Tvkbg</td>\n",
       "      <td>47</td>\n",
       "      <td>49</td>\n",
       "      <td>qui ça</td>\n",
       "    </tr>\n",
       "    <tr>\n",
       "      <th>396</th>\n",
       "      <td>RFRjqItUkqg</td>\n",
       "      <td>246</td>\n",
       "      <td>251</td>\n",
       "      <td>jai le</td>\n",
       "    </tr>\n",
       "    <tr>\n",
       "      <th>397</th>\n",
       "      <td>rAUkhIdYV_A</td>\n",
       "      <td>94</td>\n",
       "      <td>98</td>\n",
       "      <td>un des</td>\n",
       "    </tr>\n",
       "    <tr>\n",
       "      <th>398</th>\n",
       "      <td>s2l896FEzKc</td>\n",
       "      <td>315</td>\n",
       "      <td>317</td>\n",
       "      <td>on en</td>\n",
       "    </tr>\n",
       "    <tr>\n",
       "      <th>399</th>\n",
       "      <td>freq9AFp3gI</td>\n",
       "      <td>16</td>\n",
       "      <td>20</td>\n",
       "      <td>de la</td>\n",
       "    </tr>\n",
       "  </tbody>\n",
       "</table>\n",
       "<p>400 rows × 4 columns</p>\n",
       "</div>"
      ],
      "text/plain": [
       "        video_id  start_time  end_time                          text\n",
       "0    YuxMdNbmxzM        1180      1182  mais cest pas pour ça que ça\n",
       "1    aDBLqp0bIPw         672       673   cest pour ça que je vous le\n",
       "2    GWSsZ6KCuJI        3402      3404   et cest pour ça que dans ce\n",
       "3    KAgyTxbTNxw         926       929   cest pour ça que jai pas de\n",
       "4    gpF9Kb4EC4M        1643      1646   cest pour ça que nous on en\n",
       "..           ...         ...       ...                           ...\n",
       "395  LTRdb7Tvkbg          47        49                        qui ça\n",
       "396  RFRjqItUkqg         246       251                        jai le\n",
       "397  rAUkhIdYV_A          94        98                        un des\n",
       "398  s2l896FEzKc         315       317                         on en\n",
       "399  freq9AFp3gI          16        20                         de la\n",
       "\n",
       "[400 rows x 4 columns]"
      ]
     },
     "execution_count": 9,
     "metadata": {},
     "output_type": "execute_result"
    }
   ],
   "source": [
    "#df_28 = pd.read_csv(f\"{parent_folder_path}/{lang_folder.capitalize()}_Word_Group_Max_In_Youtube_Sentence_28_Word{file_ext}.csv\")\n",
    "df_28 = pd.read_excel(f\"{parent_folder_path}/{lang_folder.capitalize()}_Word_Group_Max_In_Youtube_Sentence_28_Word{file_ext}.xlsx\")\n",
    "df_28 = df_28.head(sending_sample_num)\n",
    "df_28"
   ]
  },
  {
   "cell_type": "code",
   "execution_count": 10,
   "metadata": {},
   "outputs": [
    {
     "data": {
      "text/html": [
       "<div>\n",
       "<style scoped>\n",
       "    .dataframe tbody tr th:only-of-type {\n",
       "        vertical-align: middle;\n",
       "    }\n",
       "\n",
       "    .dataframe tbody tr th {\n",
       "        vertical-align: top;\n",
       "    }\n",
       "\n",
       "    .dataframe thead th {\n",
       "        text-align: right;\n",
       "    }\n",
       "</style>\n",
       "<table border=\"1\" class=\"dataframe\">\n",
       "  <thead>\n",
       "    <tr style=\"text-align: right;\">\n",
       "      <th></th>\n",
       "      <th>video_id</th>\n",
       "      <th>start_time</th>\n",
       "      <th>end_time</th>\n",
       "      <th>text</th>\n",
       "    </tr>\n",
       "  </thead>\n",
       "  <tbody>\n",
       "    <tr>\n",
       "      <th>0</th>\n",
       "      <td>8ywehhHHhrU</td>\n",
       "      <td>618</td>\n",
       "      <td>624</td>\n",
       "      <td>dans la vie quand tout va bien mais aussi quan...</td>\n",
       "    </tr>\n",
       "    <tr>\n",
       "      <th>1</th>\n",
       "      <td>6NIUzeuw6Lk</td>\n",
       "      <td>951</td>\n",
       "      <td>960</td>\n",
       "      <td>je lui dis que je vais bien que voilà cest la ...</td>\n",
       "    </tr>\n",
       "    <tr>\n",
       "      <th>2</th>\n",
       "      <td>4YJSOd91bz4</td>\n",
       "      <td>775</td>\n",
       "      <td>779</td>\n",
       "      <td>donc là ce avait un peu de temps je sais pas p...</td>\n",
       "    </tr>\n",
       "    <tr>\n",
       "      <th>3</th>\n",
       "      <td>0_sv895JPlc</td>\n",
       "      <td>157</td>\n",
       "      <td>163</td>\n",
       "      <td>quand même quoi donc parce que voilà cest fait...</td>\n",
       "    </tr>\n",
       "    <tr>\n",
       "      <th>4</th>\n",
       "      <td>qTvOYQ_HMCA</td>\n",
       "      <td>159</td>\n",
       "      <td>165</td>\n",
       "      <td>là tu ne fais pas pour toi tu le fais parce qu...</td>\n",
       "    </tr>\n",
       "    <tr>\n",
       "      <th>...</th>\n",
       "      <td>...</td>\n",
       "      <td>...</td>\n",
       "      <td>...</td>\n",
       "      <td>...</td>\n",
       "    </tr>\n",
       "    <tr>\n",
       "      <th>286</th>\n",
       "      <td>f1JUZAXUzK4</td>\n",
       "      <td>34</td>\n",
       "      <td>37</td>\n",
       "      <td>en fait ils sont là avant nous donc nous on est</td>\n",
       "    </tr>\n",
       "    <tr>\n",
       "      <th>287</th>\n",
       "      <td>l6jmQ5_qrfs</td>\n",
       "      <td>2135</td>\n",
       "      <td>2138</td>\n",
       "      <td>alors dans un monde où tout est toujours un peu</td>\n",
       "    </tr>\n",
       "    <tr>\n",
       "      <th>288</th>\n",
       "      <td>Y1G3Uq7ytaw</td>\n",
       "      <td>313</td>\n",
       "      <td>318</td>\n",
       "      <td>besoin ils sont toujours là si jamais pour nous</td>\n",
       "    </tr>\n",
       "    <tr>\n",
       "      <th>289</th>\n",
       "      <td>okzZSymbYyY</td>\n",
       "      <td>2314</td>\n",
       "      <td>2317</td>\n",
       "      <td>comment vous avez fait en fait pour faire cette</td>\n",
       "    </tr>\n",
       "    <tr>\n",
       "      <th>290</th>\n",
       "      <td>R5_YsIJKGW4</td>\n",
       "      <td>248</td>\n",
       "      <td>252</td>\n",
       "      <td>maintenant quil ne faut plus dire tout le temps</td>\n",
       "    </tr>\n",
       "  </tbody>\n",
       "</table>\n",
       "<p>291 rows × 4 columns</p>\n",
       "</div>"
      ],
      "text/plain": [
       "        video_id  start_time  end_time  \\\n",
       "0    8ywehhHHhrU         618       624   \n",
       "1    6NIUzeuw6Lk         951       960   \n",
       "2    4YJSOd91bz4         775       779   \n",
       "3    0_sv895JPlc         157       163   \n",
       "4    qTvOYQ_HMCA         159       165   \n",
       "..           ...         ...       ...   \n",
       "286  f1JUZAXUzK4          34        37   \n",
       "287  l6jmQ5_qrfs        2135      2138   \n",
       "288  Y1G3Uq7ytaw         313       318   \n",
       "289  okzZSymbYyY        2314      2317   \n",
       "290  R5_YsIJKGW4         248       252   \n",
       "\n",
       "                                                  text  \n",
       "0    dans la vie quand tout va bien mais aussi quan...  \n",
       "1    je lui dis que je vais bien que voilà cest la ...  \n",
       "2    donc là ce avait un peu de temps je sais pas p...  \n",
       "3    quand même quoi donc parce que voilà cest fait...  \n",
       "4    là tu ne fais pas pour toi tu le fais parce qu...  \n",
       "..                                                 ...  \n",
       "286    en fait ils sont là avant nous donc nous on est  \n",
       "287    alors dans un monde où tout est toujours un peu  \n",
       "288    besoin ils sont toujours là si jamais pour nous  \n",
       "289    comment vous avez fait en fait pour faire cette  \n",
       "290    maintenant quil ne faut plus dire tout le temps  \n",
       "\n",
       "[291 rows x 4 columns]"
      ]
     },
     "execution_count": 10,
     "metadata": {},
     "output_type": "execute_result"
    }
   ],
   "source": [
    "#df_200 = pd.read_csv(f\"{parent_folder_path}/{lang_folder.capitalize()}_Word_Group_Max_In_Youtube_Sentence_200_Word{file_ext}.csv\")\n",
    "df_200 = pd.read_excel(f\"{parent_folder_path}/{lang_folder.capitalize()}_Word_Group_Max_In_Youtube_Sentence_200_Word{file_ext}.xlsx\")\n",
    "df_200 = df_200.head(sending_sample_num)\n",
    "df_200"
   ]
  },
  {
   "cell_type": "code",
   "execution_count": 11,
   "metadata": {},
   "outputs": [
    {
     "data": {
      "text/html": [
       "<div>\n",
       "<style scoped>\n",
       "    .dataframe tbody tr th:only-of-type {\n",
       "        vertical-align: middle;\n",
       "    }\n",
       "\n",
       "    .dataframe tbody tr th {\n",
       "        vertical-align: top;\n",
       "    }\n",
       "\n",
       "    .dataframe thead th {\n",
       "        text-align: right;\n",
       "    }\n",
       "</style>\n",
       "<table border=\"1\" class=\"dataframe\">\n",
       "  <thead>\n",
       "    <tr style=\"text-align: right;\">\n",
       "      <th></th>\n",
       "      <th>video_id</th>\n",
       "      <th>start_time</th>\n",
       "      <th>end_time</th>\n",
       "      <th>text</th>\n",
       "    </tr>\n",
       "  </thead>\n",
       "  <tbody>\n",
       "    <tr>\n",
       "      <th>0</th>\n",
       "      <td>mEwv2MslK10</td>\n",
       "      <td>386</td>\n",
       "      <td>391</td>\n",
       "      <td>pour le coup si tu comprends pas que tu peux p...</td>\n",
       "    </tr>\n",
       "    <tr>\n",
       "      <th>1</th>\n",
       "      <td>Tndgvn3FoZU</td>\n",
       "      <td>5913</td>\n",
       "      <td>5921</td>\n",
       "      <td>voilà oui on pourrait passer encore beaucoup p...</td>\n",
       "    </tr>\n",
       "    <tr>\n",
       "      <th>2</th>\n",
       "      <td>v0oH5e92pO0</td>\n",
       "      <td>3757</td>\n",
       "      <td>3763</td>\n",
       "      <td>bon moi je travaille tous les jours aujourdhui...</td>\n",
       "    </tr>\n",
       "    <tr>\n",
       "      <th>3</th>\n",
       "      <td>KZPJU5ggkJk</td>\n",
       "      <td>732</td>\n",
       "      <td>738</td>\n",
       "      <td>cest que cest pas pour tout de suite parce quà...</td>\n",
       "    </tr>\n",
       "    <tr>\n",
       "      <th>4</th>\n",
       "      <td>lMUZkh7Cbwc</td>\n",
       "      <td>1397</td>\n",
       "      <td>1403</td>\n",
       "      <td>la question je lui dis mais dis moi tu pourrai...</td>\n",
       "    </tr>\n",
       "    <tr>\n",
       "      <th>...</th>\n",
       "      <td>...</td>\n",
       "      <td>...</td>\n",
       "      <td>...</td>\n",
       "      <td>...</td>\n",
       "    </tr>\n",
       "    <tr>\n",
       "      <th>283</th>\n",
       "      <td>vfVZmKuBai0</td>\n",
       "      <td>972</td>\n",
       "      <td>976</td>\n",
       "      <td>avait des gens qui étaient là mais ils ont fai...</td>\n",
       "    </tr>\n",
       "    <tr>\n",
       "      <th>284</th>\n",
       "      <td>w7nvUyZUzc0</td>\n",
       "      <td>387</td>\n",
       "      <td>392</td>\n",
       "      <td>ce qui avait pu lui arriver elle avait tout au...</td>\n",
       "    </tr>\n",
       "    <tr>\n",
       "      <th>285</th>\n",
       "      <td>uo73C2ck1aU</td>\n",
       "      <td>476</td>\n",
       "      <td>480</td>\n",
       "      <td>est plus là pourquoi parce quils sont sur un a...</td>\n",
       "    </tr>\n",
       "    <tr>\n",
       "      <th>286</th>\n",
       "      <td>DLBcQ9pbYx0</td>\n",
       "      <td>8</td>\n",
       "      <td>12</td>\n",
       "      <td>suis dit quil fallait absolument faire un poin...</td>\n",
       "    </tr>\n",
       "    <tr>\n",
       "      <th>287</th>\n",
       "      <td>E02JFHVzTto</td>\n",
       "      <td>75</td>\n",
       "      <td>79</td>\n",
       "      <td>avant mon accident elle sest dit il faut vraim...</td>\n",
       "    </tr>\n",
       "  </tbody>\n",
       "</table>\n",
       "<p>288 rows × 4 columns</p>\n",
       "</div>"
      ],
      "text/plain": [
       "        video_id  start_time  end_time  \\\n",
       "0    mEwv2MslK10         386       391   \n",
       "1    Tndgvn3FoZU        5913      5921   \n",
       "2    v0oH5e92pO0        3757      3763   \n",
       "3    KZPJU5ggkJk         732       738   \n",
       "4    lMUZkh7Cbwc        1397      1403   \n",
       "..           ...         ...       ...   \n",
       "283  vfVZmKuBai0         972       976   \n",
       "284  w7nvUyZUzc0         387       392   \n",
       "285  uo73C2ck1aU         476       480   \n",
       "286  DLBcQ9pbYx0           8        12   \n",
       "287  E02JFHVzTto          75        79   \n",
       "\n",
       "                                                  text  \n",
       "0    pour le coup si tu comprends pas que tu peux p...  \n",
       "1    voilà oui on pourrait passer encore beaucoup p...  \n",
       "2    bon moi je travaille tous les jours aujourdhui...  \n",
       "3    cest que cest pas pour tout de suite parce quà...  \n",
       "4    la question je lui dis mais dis moi tu pourrai...  \n",
       "..                                                 ...  \n",
       "283  avait des gens qui étaient là mais ils ont fai...  \n",
       "284  ce qui avait pu lui arriver elle avait tout au...  \n",
       "285  est plus là pourquoi parce quils sont sur un a...  \n",
       "286  suis dit quil fallait absolument faire un poin...  \n",
       "287  avant mon accident elle sest dit il faut vraim...  \n",
       "\n",
       "[288 rows x 4 columns]"
      ]
     },
     "execution_count": 11,
     "metadata": {},
     "output_type": "execute_result"
    }
   ],
   "source": [
    "#df_1000 = pd.read_csv(f\"{parent_folder_path}/{lang_folder.capitalize()}_Word_Group_Max_In_Youtube_Sentence_1000_Word{file_ext}.csv\")\n",
    "df_1000 = pd.read_excel(f\"{parent_folder_path}/{lang_folder.capitalize()}_Word_Group_Max_In_Youtube_Sentence_1000_Word{file_ext}.xlsx\")\n",
    "df_1000 = df_1000.head(sending_sample_num)\n",
    "df_1000"
   ]
  },
  {
   "cell_type": "code",
   "execution_count": 12,
   "metadata": {},
   "outputs": [
    {
     "data": {
      "text/html": [
       "<div>\n",
       "<style scoped>\n",
       "    .dataframe tbody tr th:only-of-type {\n",
       "        vertical-align: middle;\n",
       "    }\n",
       "\n",
       "    .dataframe tbody tr th {\n",
       "        vertical-align: top;\n",
       "    }\n",
       "\n",
       "    .dataframe thead th {\n",
       "        text-align: right;\n",
       "    }\n",
       "</style>\n",
       "<table border=\"1\" class=\"dataframe\">\n",
       "  <thead>\n",
       "    <tr style=\"text-align: right;\">\n",
       "      <th></th>\n",
       "      <th>video_id</th>\n",
       "      <th>start_time</th>\n",
       "      <th>end_time</th>\n",
       "      <th>text</th>\n",
       "    </tr>\n",
       "  </thead>\n",
       "  <tbody>\n",
       "    <tr>\n",
       "      <th>0</th>\n",
       "      <td>oig_hpR47OM</td>\n",
       "      <td>314</td>\n",
       "      <td>321</td>\n",
       "      <td>ah aussi je voulais vous dire je vais faire un...</td>\n",
       "    </tr>\n",
       "    <tr>\n",
       "      <th>1</th>\n",
       "      <td>sH7T97l3Bvo</td>\n",
       "      <td>238</td>\n",
       "      <td>245</td>\n",
       "      <td>femme mais non cest pas grave écoute de un ell...</td>\n",
       "    </tr>\n",
       "    <tr>\n",
       "      <th>2</th>\n",
       "      <td>8Kn1XH8MHsQ</td>\n",
       "      <td>14</td>\n",
       "      <td>26</td>\n",
       "      <td>faire le point puisque nous sommes bientôt fin...</td>\n",
       "    </tr>\n",
       "    <tr>\n",
       "      <th>3</th>\n",
       "      <td>5YPMBr4Nngg</td>\n",
       "      <td>985</td>\n",
       "      <td>997</td>\n",
       "      <td>ça jai pas de questions làdessus en revanche c...</td>\n",
       "    </tr>\n",
       "    <tr>\n",
       "      <th>4</th>\n",
       "      <td>_OfVDjtC93Y</td>\n",
       "      <td>486</td>\n",
       "      <td>501</td>\n",
       "      <td>si cest dangereux ou si elle perd le contrôle ...</td>\n",
       "    </tr>\n",
       "    <tr>\n",
       "      <th>...</th>\n",
       "      <td>...</td>\n",
       "      <td>...</td>\n",
       "      <td>...</td>\n",
       "      <td>...</td>\n",
       "    </tr>\n",
       "    <tr>\n",
       "      <th>182</th>\n",
       "      <td>NqpTyx9uRlg</td>\n",
       "      <td>133</td>\n",
       "      <td>138</td>\n",
       "      <td>sans même avoir essayé parce quen réalité il f...</td>\n",
       "    </tr>\n",
       "    <tr>\n",
       "      <th>183</th>\n",
       "      <td>lYwbO55v7TU</td>\n",
       "      <td>495</td>\n",
       "      <td>501</td>\n",
       "      <td>cest tout simplement une petite chanson pour s...</td>\n",
       "    </tr>\n",
       "    <tr>\n",
       "      <th>184</th>\n",
       "      <td>JzYwARg0NAg</td>\n",
       "      <td>1052</td>\n",
       "      <td>1058</td>\n",
       "      <td>cest la principale raison pour laquelle les ru...</td>\n",
       "    </tr>\n",
       "    <tr>\n",
       "      <th>185</th>\n",
       "      <td>CN50AFaGVN8</td>\n",
       "      <td>431</td>\n",
       "      <td>437</td>\n",
       "      <td>qui lui aussi avait rentré tous les livres dan...</td>\n",
       "    </tr>\n",
       "    <tr>\n",
       "      <th>186</th>\n",
       "      <td>AKpr8FoTzmg</td>\n",
       "      <td>437</td>\n",
       "      <td>444</td>\n",
       "      <td>trop bien avec lui cétait vraiment un super pa...</td>\n",
       "    </tr>\n",
       "  </tbody>\n",
       "</table>\n",
       "<p>187 rows × 4 columns</p>\n",
       "</div>"
      ],
      "text/plain": [
       "        video_id  start_time  end_time  \\\n",
       "0    oig_hpR47OM         314       321   \n",
       "1    sH7T97l3Bvo         238       245   \n",
       "2    8Kn1XH8MHsQ          14        26   \n",
       "3    5YPMBr4Nngg         985       997   \n",
       "4    _OfVDjtC93Y         486       501   \n",
       "..           ...         ...       ...   \n",
       "182  NqpTyx9uRlg         133       138   \n",
       "183  lYwbO55v7TU         495       501   \n",
       "184  JzYwARg0NAg        1052      1058   \n",
       "185  CN50AFaGVN8         431       437   \n",
       "186  AKpr8FoTzmg         437       444   \n",
       "\n",
       "                                                  text  \n",
       "0    ah aussi je voulais vous dire je vais faire un...  \n",
       "1    femme mais non cest pas grave écoute de un ell...  \n",
       "2    faire le point puisque nous sommes bientôt fin...  \n",
       "3    ça jai pas de questions làdessus en revanche c...  \n",
       "4    si cest dangereux ou si elle perd le contrôle ...  \n",
       "..                                                 ...  \n",
       "182  sans même avoir essayé parce quen réalité il f...  \n",
       "183  cest tout simplement une petite chanson pour s...  \n",
       "184  cest la principale raison pour laquelle les ru...  \n",
       "185  qui lui aussi avait rentré tous les livres dan...  \n",
       "186  trop bien avec lui cétait vraiment un super pa...  \n",
       "\n",
       "[187 rows x 4 columns]"
      ]
     },
     "execution_count": 12,
     "metadata": {},
     "output_type": "execute_result"
    }
   ],
   "source": [
    "#df_5000 = pd.read_csv(f\"{parent_folder_path}/{lang_folder.capitalize()}_Word_Group_Max_In_Youtube_Sentence_5000_Word{file_ext}.csv\")\n",
    "df_5000 = pd.read_excel(f\"{parent_folder_path}/{lang_folder.capitalize()}_Word_Group_Max_In_Youtube_Sentence_5000_Word{file_ext}.xlsx\")\n",
    "df_5000 = df_5000.head(sending_sample_num)\n",
    "df_5000"
   ]
  },
  {
   "cell_type": "code",
   "execution_count": 13,
   "metadata": {},
   "outputs": [
    {
     "data": {
      "text/html": [
       "<div>\n",
       "<style scoped>\n",
       "    .dataframe tbody tr th:only-of-type {\n",
       "        vertical-align: middle;\n",
       "    }\n",
       "\n",
       "    .dataframe tbody tr th {\n",
       "        vertical-align: top;\n",
       "    }\n",
       "\n",
       "    .dataframe thead th {\n",
       "        text-align: right;\n",
       "    }\n",
       "</style>\n",
       "<table border=\"1\" class=\"dataframe\">\n",
       "  <thead>\n",
       "    <tr style=\"text-align: right;\">\n",
       "      <th></th>\n",
       "      <th>video_id</th>\n",
       "      <th>start_time</th>\n",
       "      <th>end_time</th>\n",
       "      <th>text</th>\n",
       "    </tr>\n",
       "  </thead>\n",
       "  <tbody>\n",
       "    <tr>\n",
       "      <th>0</th>\n",
       "      <td>YypPgUlKJt4</td>\n",
       "      <td>452</td>\n",
       "      <td>467</td>\n",
       "      <td>passé des moments heureux dans cette maison av...</td>\n",
       "    </tr>\n",
       "    <tr>\n",
       "      <th>1</th>\n",
       "      <td>oig_hpR47OM</td>\n",
       "      <td>314</td>\n",
       "      <td>321</td>\n",
       "      <td>ah aussi je voulais vous dire je vais faire un...</td>\n",
       "    </tr>\n",
       "    <tr>\n",
       "      <th>2</th>\n",
       "      <td>h6VaYkFE4yw</td>\n",
       "      <td>720</td>\n",
       "      <td>733</td>\n",
       "      <td>un coeur très différent et on ne peut pas amen...</td>\n",
       "    </tr>\n",
       "    <tr>\n",
       "      <th>3</th>\n",
       "      <td>eXE0dzAXErg</td>\n",
       "      <td>345</td>\n",
       "      <td>354</td>\n",
       "      <td>même si le meilleur moyen de réduire nos déche...</td>\n",
       "    </tr>\n",
       "    <tr>\n",
       "      <th>4</th>\n",
       "      <td>6Oissu5t7uE</td>\n",
       "      <td>78</td>\n",
       "      <td>87</td>\n",
       "      <td>pas remarqué alors pour le coup cest un person...</td>\n",
       "    </tr>\n",
       "    <tr>\n",
       "      <th>...</th>\n",
       "      <td>...</td>\n",
       "      <td>...</td>\n",
       "      <td>...</td>\n",
       "      <td>...</td>\n",
       "    </tr>\n",
       "    <tr>\n",
       "      <th>207</th>\n",
       "      <td>CUPmQSuh7Uo</td>\n",
       "      <td>4166</td>\n",
       "      <td>4172</td>\n",
       "      <td>pour certains mais ça changera rien récemment ...</td>\n",
       "    </tr>\n",
       "    <tr>\n",
       "      <th>208</th>\n",
       "      <td>FnHvNYsuCLE</td>\n",
       "      <td>12</td>\n",
       "      <td>16</td>\n",
       "      <td>au départ jy prête pas vraiment attention jai ...</td>\n",
       "    </tr>\n",
       "    <tr>\n",
       "      <th>209</th>\n",
       "      <td>hRF_qePrIUk</td>\n",
       "      <td>1516</td>\n",
       "      <td>1523</td>\n",
       "      <td>il faudrait pas quand même quune femme non mar...</td>\n",
       "    </tr>\n",
       "    <tr>\n",
       "      <th>210</th>\n",
       "      <td>4r44LGOIB5Q</td>\n",
       "      <td>415</td>\n",
       "      <td>423</td>\n",
       "      <td>si tout va bien leslie pourra se mettre debout...</td>\n",
       "    </tr>\n",
       "    <tr>\n",
       "      <th>211</th>\n",
       "      <td>INUjayem_3M</td>\n",
       "      <td>342</td>\n",
       "      <td>348</td>\n",
       "      <td>ah oui par contre il faut faire attention il m...</td>\n",
       "    </tr>\n",
       "  </tbody>\n",
       "</table>\n",
       "<p>212 rows × 4 columns</p>\n",
       "</div>"
      ],
      "text/plain": [
       "        video_id  start_time  end_time  \\\n",
       "0    YypPgUlKJt4         452       467   \n",
       "1    oig_hpR47OM         314       321   \n",
       "2    h6VaYkFE4yw         720       733   \n",
       "3    eXE0dzAXErg         345       354   \n",
       "4    6Oissu5t7uE          78        87   \n",
       "..           ...         ...       ...   \n",
       "207  CUPmQSuh7Uo        4166      4172   \n",
       "208  FnHvNYsuCLE          12        16   \n",
       "209  hRF_qePrIUk        1516      1523   \n",
       "210  4r44LGOIB5Q         415       423   \n",
       "211  INUjayem_3M         342       348   \n",
       "\n",
       "                                                  text  \n",
       "0    passé des moments heureux dans cette maison av...  \n",
       "1    ah aussi je voulais vous dire je vais faire un...  \n",
       "2    un coeur très différent et on ne peut pas amen...  \n",
       "3    même si le meilleur moyen de réduire nos déche...  \n",
       "4    pas remarqué alors pour le coup cest un person...  \n",
       "..                                                 ...  \n",
       "207  pour certains mais ça changera rien récemment ...  \n",
       "208  au départ jy prête pas vraiment attention jai ...  \n",
       "209  il faudrait pas quand même quune femme non mar...  \n",
       "210  si tout va bien leslie pourra se mettre debout...  \n",
       "211  ah oui par contre il faut faire attention il m...  \n",
       "\n",
       "[212 rows x 4 columns]"
      ]
     },
     "execution_count": 13,
     "metadata": {},
     "output_type": "execute_result"
    }
   ],
   "source": [
    "#df_10000 = pd.read_csv(f\"{parent_folder_path}/{lang_folder.capitalize()}_Word_Group_Max_In_Youtube_Sentence_10000_Word{file_ext}.csv\")\n",
    "df_10000 = pd.read_excel(f\"{parent_folder_path}/{lang_folder.capitalize()}_Word_Group_Max_In_Youtube_Sentence_10000_Word{file_ext}.xlsx\")\n",
    "df_10000 = df_10000.head(sending_sample_num)\n",
    "df_10000"
   ]
  },
  {
   "cell_type": "code",
   "execution_count": 14,
   "metadata": {},
   "outputs": [
    {
     "data": {
      "text/html": [
       "<div>\n",
       "<style scoped>\n",
       "    .dataframe tbody tr th:only-of-type {\n",
       "        vertical-align: middle;\n",
       "    }\n",
       "\n",
       "    .dataframe tbody tr th {\n",
       "        vertical-align: top;\n",
       "    }\n",
       "\n",
       "    .dataframe thead th {\n",
       "        text-align: right;\n",
       "    }\n",
       "</style>\n",
       "<table border=\"1\" class=\"dataframe\">\n",
       "  <thead>\n",
       "    <tr style=\"text-align: right;\">\n",
       "      <th></th>\n",
       "      <th>video_id</th>\n",
       "      <th>start_time</th>\n",
       "      <th>end_time</th>\n",
       "      <th>text</th>\n",
       "    </tr>\n",
       "  </thead>\n",
       "  <tbody>\n",
       "    <tr>\n",
       "      <th>0</th>\n",
       "      <td>eXE0dzAXErg</td>\n",
       "      <td>345</td>\n",
       "      <td>354</td>\n",
       "      <td>même si le meilleur moyen de réduire nos déche...</td>\n",
       "    </tr>\n",
       "    <tr>\n",
       "      <th>1</th>\n",
       "      <td>8Kn1XH8MHsQ</td>\n",
       "      <td>14</td>\n",
       "      <td>26</td>\n",
       "      <td>faire le point puisque nous sommes bientôt fin...</td>\n",
       "    </tr>\n",
       "    <tr>\n",
       "      <th>2</th>\n",
       "      <td>Cr9pam0A_O0</td>\n",
       "      <td>326</td>\n",
       "      <td>337</td>\n",
       "      <td>javais envie de javais besoin dexprimer au tra...</td>\n",
       "    </tr>\n",
       "    <tr>\n",
       "      <th>3</th>\n",
       "      <td>JwbVn3tYo8s</td>\n",
       "      <td>1183</td>\n",
       "      <td>1191</td>\n",
       "      <td>et nous voilà enfin devant théo pour la finale...</td>\n",
       "    </tr>\n",
       "    <tr>\n",
       "      <th>4</th>\n",
       "      <td>YypPgUlKJt4</td>\n",
       "      <td>418</td>\n",
       "      <td>429</td>\n",
       "      <td>cest tout ce que valent ces souvenirs cette po...</td>\n",
       "    </tr>\n",
       "    <tr>\n",
       "      <th>...</th>\n",
       "      <td>...</td>\n",
       "      <td>...</td>\n",
       "      <td>...</td>\n",
       "      <td>...</td>\n",
       "    </tr>\n",
       "    <tr>\n",
       "      <th>201</th>\n",
       "      <td>GWcvS_OswzQ</td>\n",
       "      <td>270</td>\n",
       "      <td>277</td>\n",
       "      <td>on est venu en cuisine on va bientôt les faire...</td>\n",
       "    </tr>\n",
       "    <tr>\n",
       "      <th>202</th>\n",
       "      <td>Cs4IoieomUc</td>\n",
       "      <td>1468</td>\n",
       "      <td>1475</td>\n",
       "      <td>alors on se dit pourquoi pas nous ce serait vr...</td>\n",
       "    </tr>\n",
       "    <tr>\n",
       "      <th>203</th>\n",
       "      <td>yzkU1NB2Rx4</td>\n",
       "      <td>901</td>\n",
       "      <td>908</td>\n",
       "      <td>un diagnostic plus poussé sera nécessaire ne r...</td>\n",
       "    </tr>\n",
       "    <tr>\n",
       "      <th>204</th>\n",
       "      <td>NqpTyx9uRlg</td>\n",
       "      <td>133</td>\n",
       "      <td>139</td>\n",
       "      <td>ou ignorer sans même avoir essayé parce quen r...</td>\n",
       "    </tr>\n",
       "    <tr>\n",
       "      <th>205</th>\n",
       "      <td>XIZ34oWQamQ</td>\n",
       "      <td>150</td>\n",
       "      <td>156</td>\n",
       "      <td>les premiers épisodes vous allez être un petit...</td>\n",
       "    </tr>\n",
       "  </tbody>\n",
       "</table>\n",
       "<p>206 rows × 4 columns</p>\n",
       "</div>"
      ],
      "text/plain": [
       "        video_id  start_time  end_time  \\\n",
       "0    eXE0dzAXErg         345       354   \n",
       "1    8Kn1XH8MHsQ          14        26   \n",
       "2    Cr9pam0A_O0         326       337   \n",
       "3    JwbVn3tYo8s        1183      1191   \n",
       "4    YypPgUlKJt4         418       429   \n",
       "..           ...         ...       ...   \n",
       "201  GWcvS_OswzQ         270       277   \n",
       "202  Cs4IoieomUc        1468      1475   \n",
       "203  yzkU1NB2Rx4         901       908   \n",
       "204  NqpTyx9uRlg         133       139   \n",
       "205  XIZ34oWQamQ         150       156   \n",
       "\n",
       "                                                  text  \n",
       "0    même si le meilleur moyen de réduire nos déche...  \n",
       "1    faire le point puisque nous sommes bientôt fin...  \n",
       "2    javais envie de javais besoin dexprimer au tra...  \n",
       "3    et nous voilà enfin devant théo pour la finale...  \n",
       "4    cest tout ce que valent ces souvenirs cette po...  \n",
       "..                                                 ...  \n",
       "201  on est venu en cuisine on va bientôt les faire...  \n",
       "202  alors on se dit pourquoi pas nous ce serait vr...  \n",
       "203  un diagnostic plus poussé sera nécessaire ne r...  \n",
       "204  ou ignorer sans même avoir essayé parce quen r...  \n",
       "205  les premiers épisodes vous allez être un petit...  \n",
       "\n",
       "[206 rows x 4 columns]"
      ]
     },
     "execution_count": 14,
     "metadata": {},
     "output_type": "execute_result"
    }
   ],
   "source": [
    "#df_20000 = pd.read_csv(f\"{parent_folder_path}/{lang_folder.capitalize()}_Word_Group_Max_In_Youtube_Sentence_20000_Word{file_ext}.csv\")\n",
    "df_20000 = pd.read_excel(f\"{parent_folder_path}/{lang_folder.capitalize()}_Word_Group_Max_In_Youtube_Sentence_20000_Word{file_ext}.xlsx\")\n",
    "df_20000 = df_20000.head(sending_sample_num)\n",
    "df_20000"
   ]
  },
  {
   "cell_type": "code",
   "execution_count": 15,
   "metadata": {},
   "outputs": [
    {
     "data": {
      "text/html": [
       "<div>\n",
       "<style scoped>\n",
       "    .dataframe tbody tr th:only-of-type {\n",
       "        vertical-align: middle;\n",
       "    }\n",
       "\n",
       "    .dataframe tbody tr th {\n",
       "        vertical-align: top;\n",
       "    }\n",
       "\n",
       "    .dataframe thead th {\n",
       "        text-align: right;\n",
       "    }\n",
       "</style>\n",
       "<table border=\"1\" class=\"dataframe\">\n",
       "  <thead>\n",
       "    <tr style=\"text-align: right;\">\n",
       "      <th></th>\n",
       "      <th>video_id</th>\n",
       "      <th>start_time</th>\n",
       "      <th>end_time</th>\n",
       "      <th>text</th>\n",
       "    </tr>\n",
       "  </thead>\n",
       "  <tbody>\n",
       "    <tr>\n",
       "      <th>0</th>\n",
       "      <td>fcdtNH07Ip0</td>\n",
       "      <td>353</td>\n",
       "      <td>371</td>\n",
       "      <td>ils ne respectent pas toujours la réglementati...</td>\n",
       "    </tr>\n",
       "    <tr>\n",
       "      <th>1</th>\n",
       "      <td>OGkVgSZI8f8</td>\n",
       "      <td>641</td>\n",
       "      <td>662</td>\n",
       "      <td>arriver mathieu ne néglige rien il vise lexcel...</td>\n",
       "    </tr>\n",
       "    <tr>\n",
       "      <th>2</th>\n",
       "      <td>e2ITAibdtWo</td>\n",
       "      <td>365</td>\n",
       "      <td>377</td>\n",
       "      <td>mais comme toujours ce matériau nest pas parfa...</td>\n",
       "    </tr>\n",
       "    <tr>\n",
       "      <th>3</th>\n",
       "      <td>2T4jG33szys</td>\n",
       "      <td>50</td>\n",
       "      <td>62</td>\n",
       "      <td>jai mis dautres choses en place de lhypnose de...</td>\n",
       "    </tr>\n",
       "    <tr>\n",
       "      <th>4</th>\n",
       "      <td>NRAMYjBJ8Q4</td>\n",
       "      <td>89</td>\n",
       "      <td>102</td>\n",
       "      <td>choses ce que vous voulez et moi ici jai aussi...</td>\n",
       "    </tr>\n",
       "    <tr>\n",
       "      <th>...</th>\n",
       "      <td>...</td>\n",
       "      <td>...</td>\n",
       "      <td>...</td>\n",
       "      <td>...</td>\n",
       "    </tr>\n",
       "    <tr>\n",
       "      <th>208</th>\n",
       "      <td>ON4k3iaTOk8</td>\n",
       "      <td>628</td>\n",
       "      <td>633</td>\n",
       "      <td>si cest elle ce soir vous vous dites donc quel...</td>\n",
       "    </tr>\n",
       "    <tr>\n",
       "      <th>209</th>\n",
       "      <td>77BMeRZ9tZA</td>\n",
       "      <td>156</td>\n",
       "      <td>161</td>\n",
       "      <td>christophe cest différent en fait par exemple ...</td>\n",
       "    </tr>\n",
       "    <tr>\n",
       "      <th>210</th>\n",
       "      <td>g8FyvTePDIk</td>\n",
       "      <td>754</td>\n",
       "      <td>762</td>\n",
       "      <td>en disant mais ce nest pas possible quil ait c...</td>\n",
       "    </tr>\n",
       "    <tr>\n",
       "      <th>211</th>\n",
       "      <td>TacMMr3bieg</td>\n",
       "      <td>194</td>\n",
       "      <td>201</td>\n",
       "      <td>on est sur une bonne grosse boulette effective...</td>\n",
       "    </tr>\n",
       "    <tr>\n",
       "      <th>212</th>\n",
       "      <td>W5t9VyBHj0I</td>\n",
       "      <td>545</td>\n",
       "      <td>553</td>\n",
       "      <td>consciencieux ni excuser normalement je devrai...</td>\n",
       "    </tr>\n",
       "  </tbody>\n",
       "</table>\n",
       "<p>213 rows × 4 columns</p>\n",
       "</div>"
      ],
      "text/plain": [
       "        video_id  start_time  end_time  \\\n",
       "0    fcdtNH07Ip0         353       371   \n",
       "1    OGkVgSZI8f8         641       662   \n",
       "2    e2ITAibdtWo         365       377   \n",
       "3    2T4jG33szys          50        62   \n",
       "4    NRAMYjBJ8Q4          89       102   \n",
       "..           ...         ...       ...   \n",
       "208  ON4k3iaTOk8         628       633   \n",
       "209  77BMeRZ9tZA         156       161   \n",
       "210  g8FyvTePDIk         754       762   \n",
       "211  TacMMr3bieg         194       201   \n",
       "212  W5t9VyBHj0I         545       553   \n",
       "\n",
       "                                                  text  \n",
       "0    ils ne respectent pas toujours la réglementati...  \n",
       "1    arriver mathieu ne néglige rien il vise lexcel...  \n",
       "2    mais comme toujours ce matériau nest pas parfa...  \n",
       "3    jai mis dautres choses en place de lhypnose de...  \n",
       "4    choses ce que vous voulez et moi ici jai aussi...  \n",
       "..                                                 ...  \n",
       "208  si cest elle ce soir vous vous dites donc quel...  \n",
       "209  christophe cest différent en fait par exemple ...  \n",
       "210  en disant mais ce nest pas possible quil ait c...  \n",
       "211  on est sur une bonne grosse boulette effective...  \n",
       "212  consciencieux ni excuser normalement je devrai...  \n",
       "\n",
       "[213 rows x 4 columns]"
      ]
     },
     "execution_count": 15,
     "metadata": {},
     "output_type": "execute_result"
    }
   ],
   "source": [
    "#df_40000 = pd.read_csv(f\"{parent_folder_path}/{lang_folder.capitalize()}_Word_Group_Max_In_Youtube_Sentence_40000_Word{file_ext}.csv\")\n",
    "df_40000 = pd.read_excel(f\"{parent_folder_path}/{lang_folder.capitalize()}_Word_Group_Max_In_Youtube_Sentence_40000_Word{file_ext}.xlsx\")\n",
    "df_40000 = df_40000.head(sending_sample_num)\n",
    "df_40000"
   ]
  },
  {
   "cell_type": "code",
   "execution_count": null,
   "metadata": {},
   "outputs": [],
   "source": []
  },
  {
   "attachments": {},
   "cell_type": "markdown",
   "metadata": {},
   "source": [
    "##### Calculate Speech Time Mean"
   ]
  },
  {
   "cell_type": "code",
   "execution_count": 16,
   "metadata": {},
   "outputs": [
    {
     "data": {
      "text/plain": [
       "2.3575"
      ]
     },
     "execution_count": 16,
     "metadata": {},
     "output_type": "execute_result"
    }
   ],
   "source": [
    "(df_28[\"end_time\"] - df_28[\"start_time\"]).mean()"
   ]
  },
  {
   "cell_type": "code",
   "execution_count": 17,
   "metadata": {},
   "outputs": [
    {
     "data": {
      "text/plain": [
       "4.635738831615121"
      ]
     },
     "execution_count": 17,
     "metadata": {},
     "output_type": "execute_result"
    }
   ],
   "source": [
    "(df_200[\"end_time\"] - df_200[\"start_time\"]).mean()"
   ]
  },
  {
   "cell_type": "code",
   "execution_count": 18,
   "metadata": {},
   "outputs": [
    {
     "data": {
      "text/plain": [
       "6.072916666666667"
      ]
     },
     "execution_count": 18,
     "metadata": {},
     "output_type": "execute_result"
    }
   ],
   "source": [
    "(df_1000[\"end_time\"] - df_1000[\"start_time\"]).mean()"
   ]
  },
  {
   "cell_type": "code",
   "execution_count": 19,
   "metadata": {},
   "outputs": [
    {
     "data": {
      "text/plain": [
       "7.021390374331551"
      ]
     },
     "execution_count": 19,
     "metadata": {},
     "output_type": "execute_result"
    }
   ],
   "source": [
    "(df_5000[\"end_time\"] - df_5000[\"start_time\"]).mean()"
   ]
  },
  {
   "cell_type": "code",
   "execution_count": 20,
   "metadata": {},
   "outputs": [
    {
     "data": {
      "text/plain": [
       "7.589622641509434"
      ]
     },
     "execution_count": 20,
     "metadata": {},
     "output_type": "execute_result"
    }
   ],
   "source": [
    "(df_10000[\"end_time\"] - df_10000[\"start_time\"]).mean()"
   ]
  },
  {
   "cell_type": "code",
   "execution_count": 21,
   "metadata": {},
   "outputs": [
    {
     "data": {
      "text/plain": [
       "7.825242718446602"
      ]
     },
     "execution_count": 21,
     "metadata": {},
     "output_type": "execute_result"
    }
   ],
   "source": [
    "(df_20000[\"end_time\"] - df_20000[\"start_time\"]).mean()"
   ]
  },
  {
   "cell_type": "code",
   "execution_count": 22,
   "metadata": {},
   "outputs": [
    {
     "data": {
      "text/plain": [
       "8.2018779342723"
      ]
     },
     "execution_count": 22,
     "metadata": {},
     "output_type": "execute_result"
    }
   ],
   "source": [
    "(df_40000[\"end_time\"] - df_40000[\"start_time\"]).mean()"
   ]
  },
  {
   "cell_type": "code",
   "execution_count": null,
   "metadata": {},
   "outputs": [],
   "source": []
  },
  {
   "attachments": {},
   "cell_type": "markdown",
   "metadata": {},
   "source": [
    "#### Sending Data To Firestore"
   ]
  },
  {
   "cell_type": "code",
   "execution_count": 23,
   "metadata": {},
   "outputs": [],
   "source": [
    "cred = credentials.Certificate(\"/home/kurubal/Documents/Firebase/Language Level/Api Key/language-levels-firebase-adminsdk-u1m3n-87de34db73.json\")  # Language Level\n",
    "app = firebase_admin.initialize_app(cred)"
   ]
  },
  {
   "cell_type": "code",
   "execution_count": 24,
   "metadata": {},
   "outputs": [],
   "source": [
    "fire_db = firestore.client()"
   ]
  },
  {
   "attachments": {},
   "cell_type": "markdown",
   "metadata": {},
   "source": [
    "##### Language Data"
   ]
  },
  {
   "cell_type": "code",
   "execution_count": 25,
   "metadata": {},
   "outputs": [],
   "source": [
    "language_data = {\"languages\":[{\"id\":1, \"name\":\"English\"},{\"id\":2, \"name\":\"Turkish\"},{\"id\":3, \"name\":\"French\"},\n",
    "                              {\"id\":4,\"name\":\"Spanish\"},{\"id\":5, \"name\":\"Portuguese\"},{\"id\":6, \"name\":\"Dutch\"},\n",
    "                              {\"id\":7, \"name\":\"Italian\"},{\"id\":8, \"name\":\"German\"},{\"id\":9, \"name\":\"Arabic\"}]}"
   ]
  },
  {
   "cell_type": "code",
   "execution_count": 26,
   "metadata": {},
   "outputs": [],
   "source": [
    "#fire_db.collection(\"language-data\").document(\"languages\").set(language_data)"
   ]
  },
  {
   "attachments": {},
   "cell_type": "markdown",
   "metadata": {},
   "source": [
    "##### Language Detail"
   ]
  },
  {
   "attachments": {},
   "cell_type": "markdown",
   "metadata": {},
   "source": [
    "##### Absolute Beginner"
   ]
  },
  {
   "cell_type": "code",
   "execution_count": 27,
   "metadata": {},
   "outputs": [],
   "source": [
    "# Absolute Beginner Data\n",
    "end_time_list = df_28[\"end_time\"].to_list()\n",
    "video_id_list = df_28[\"video_id\"].to_list()\n",
    "start_time_list = df_28[\"start_time\"].to_list()"
   ]
  },
  {
   "cell_type": "code",
   "execution_count": 28,
   "metadata": {},
   "outputs": [],
   "source": [
    "firestore_beginner_data = zip(end_time_list,video_id_list,start_time_list)\n",
    "beginner_description_text = \"description\""
   ]
  },
  {
   "cell_type": "code",
   "execution_count": 29,
   "metadata": {},
   "outputs": [],
   "source": [
    "beginner_data_list = []\n",
    "for endtime, videoid, starttime in firestore_beginner_data:\n",
    "    data = {\"endTime\":endtime,\n",
    "            \"id\":videoid,\n",
    "            \"startTime\":starttime}\n",
    "    beginner_data_list.append(data)\n",
    "    \n",
    "#beginner_data_list   "
   ]
  },
  {
   "cell_type": "code",
   "execution_count": 30,
   "metadata": {},
   "outputs": [],
   "source": [
    "data_beginner = {\"description\":f\"{beginner_description_text}\", \"level\":0, \"levelName\":\"Absolute Beginner\", \"videos\":beginner_data_list}\n",
    "#data_beginner"
   ]
  },
  {
   "cell_type": "code",
   "execution_count": 31,
   "metadata": {},
   "outputs": [],
   "source": [
    "#fire_db.collection(\"language-detail-data\").document(f\"{lang_id}\").set(data_beginner)"
   ]
  },
  {
   "cell_type": "code",
   "execution_count": null,
   "metadata": {},
   "outputs": [],
   "source": []
  },
  {
   "attachments": {},
   "cell_type": "markdown",
   "metadata": {},
   "source": [
    "##### A1 Level"
   ]
  },
  {
   "cell_type": "code",
   "execution_count": 32,
   "metadata": {},
   "outputs": [],
   "source": [
    "# A1 Level Data\n",
    "end_time_list = df_200[\"end_time\"].to_list()\n",
    "video_id_list = df_200[\"video_id\"].to_list()\n",
    "start_time_list = df_200[\"start_time\"].to_list()"
   ]
  },
  {
   "cell_type": "code",
   "execution_count": 33,
   "metadata": {},
   "outputs": [],
   "source": [
    "firestore_A1_data = zip(end_time_list,video_id_list,start_time_list)\n",
    "A1_description_text = \"A1 level description\""
   ]
  },
  {
   "cell_type": "code",
   "execution_count": 34,
   "metadata": {},
   "outputs": [],
   "source": [
    "A1_data_list = []\n",
    "for endtime, videoid, starttime in firestore_A1_data:\n",
    "    data = {\"endTime\":endtime,\n",
    "            \"id\":videoid,\n",
    "            \"startTime\":starttime}\n",
    "    A1_data_list.append(data)\n",
    "\n",
    "#A1_data_list   "
   ]
  },
  {
   "cell_type": "code",
   "execution_count": 35,
   "metadata": {},
   "outputs": [],
   "source": [
    "data_A1 = {\"description\":f\"{A1_description_text}\", \"level\":1, \"levelName\":\"A1\", \"videos\":A1_data_list}\n",
    "#data_A1"
   ]
  },
  {
   "cell_type": "code",
   "execution_count": null,
   "metadata": {},
   "outputs": [],
   "source": []
  },
  {
   "attachments": {},
   "cell_type": "markdown",
   "metadata": {},
   "source": [
    "##### A2 Level"
   ]
  },
  {
   "cell_type": "code",
   "execution_count": 36,
   "metadata": {},
   "outputs": [],
   "source": [
    "# A2 Level Data\n",
    "end_time_list = df_1000[\"end_time\"].to_list()\n",
    "video_id_list = df_1000[\"video_id\"].to_list()\n",
    "start_time_list = df_1000[\"start_time\"].to_list()"
   ]
  },
  {
   "cell_type": "code",
   "execution_count": 37,
   "metadata": {},
   "outputs": [],
   "source": [
    "firestore_A2_data = zip(end_time_list,video_id_list,start_time_list)\n",
    "A2_description_text = \"A2 level description\""
   ]
  },
  {
   "cell_type": "code",
   "execution_count": 38,
   "metadata": {},
   "outputs": [],
   "source": [
    "A2_data_list = []\n",
    "for endtime, videoid, starttime in firestore_A2_data:\n",
    "    data = {\"endTime\":endtime,\n",
    "            \"id\":videoid,\n",
    "            \"startTime\":starttime}\n",
    "    A2_data_list.append(data)\n",
    "\n",
    "#A2_data_list   "
   ]
  },
  {
   "cell_type": "code",
   "execution_count": 39,
   "metadata": {},
   "outputs": [],
   "source": [
    "data_A2 = {\"description\":f\"{A2_description_text}\", \"level\":2, \"levelName\":\"A2\", \"videos\":A2_data_list}\n",
    "#data_A2"
   ]
  },
  {
   "cell_type": "code",
   "execution_count": null,
   "metadata": {},
   "outputs": [],
   "source": []
  },
  {
   "attachments": {},
   "cell_type": "markdown",
   "metadata": {},
   "source": [
    "##### B1 Level"
   ]
  },
  {
   "cell_type": "code",
   "execution_count": 40,
   "metadata": {},
   "outputs": [],
   "source": [
    "# B1 Level Data\n",
    "end_time_list = df_5000[\"end_time\"].to_list()\n",
    "video_id_list = df_5000[\"video_id\"].to_list()\n",
    "start_time_list = df_5000[\"start_time\"].to_list()"
   ]
  },
  {
   "cell_type": "code",
   "execution_count": 41,
   "metadata": {},
   "outputs": [],
   "source": [
    "firestore_B1_data = zip(end_time_list,video_id_list,start_time_list)\n",
    "B1_description_text = \"B1 level description\""
   ]
  },
  {
   "cell_type": "code",
   "execution_count": 42,
   "metadata": {},
   "outputs": [],
   "source": [
    "B1_data_list = []\n",
    "for endtime, videoid, starttime in firestore_B1_data:\n",
    "    data = {\"endTime\":endtime,\n",
    "            \"id\":videoid,\n",
    "            \"startTime\":starttime}\n",
    "    B1_data_list.append(data)\n",
    "\n",
    "#B1_data_list   "
   ]
  },
  {
   "cell_type": "code",
   "execution_count": 43,
   "metadata": {},
   "outputs": [],
   "source": [
    "data_B1 = {\"description\":f\"{B1_description_text}\", \"level\":3, \"levelName\":\"B1\", \"videos\":B1_data_list}\n",
    "#data_B1"
   ]
  },
  {
   "cell_type": "code",
   "execution_count": null,
   "metadata": {},
   "outputs": [],
   "source": []
  },
  {
   "attachments": {},
   "cell_type": "markdown",
   "metadata": {},
   "source": [
    "##### B2 Level"
   ]
  },
  {
   "cell_type": "code",
   "execution_count": 44,
   "metadata": {},
   "outputs": [],
   "source": [
    "# B2 Level Data\n",
    "end_time_list = df_10000[\"end_time\"].to_list()\n",
    "video_id_list = df_10000[\"video_id\"].to_list()\n",
    "start_time_list = df_10000[\"start_time\"].to_list()"
   ]
  },
  {
   "cell_type": "code",
   "execution_count": 45,
   "metadata": {},
   "outputs": [],
   "source": [
    "firestore_B2_data = zip(end_time_list,video_id_list,start_time_list)\n",
    "B2_description_text = \"B2 level description\""
   ]
  },
  {
   "cell_type": "code",
   "execution_count": 46,
   "metadata": {},
   "outputs": [],
   "source": [
    "B2_data_list = []\n",
    "for endtime, videoid, starttime in firestore_B2_data:\n",
    "    data = {\"endTime\":endtime,\n",
    "            \"id\":videoid,\n",
    "            \"startTime\":starttime}\n",
    "    B2_data_list.append(data)\n",
    "\n",
    "#B2_data_list   "
   ]
  },
  {
   "cell_type": "code",
   "execution_count": 47,
   "metadata": {},
   "outputs": [],
   "source": [
    "data_B2 = {\"description\":f\"{B2_description_text}\", \"level\":4, \"levelName\":\"B2\", \"videos\":B2_data_list}\n",
    "#data_B2"
   ]
  },
  {
   "cell_type": "code",
   "execution_count": null,
   "metadata": {},
   "outputs": [],
   "source": []
  },
  {
   "attachments": {},
   "cell_type": "markdown",
   "metadata": {},
   "source": [
    "##### C1 Level"
   ]
  },
  {
   "cell_type": "code",
   "execution_count": 48,
   "metadata": {},
   "outputs": [],
   "source": [
    "# C1 Level Data\n",
    "video_id_list = df_20000[\"video_id\"].to_list()\n",
    "end_time_list = df_20000[\"end_time\"].to_list()\n",
    "start_time_list = df_20000[\"start_time\"].to_list()"
   ]
  },
  {
   "cell_type": "code",
   "execution_count": 49,
   "metadata": {},
   "outputs": [],
   "source": [
    "firestore_C1_data = zip(end_time_list,video_id_list,start_time_list)\n",
    "C1_description_text = \"C1 level description\""
   ]
  },
  {
   "cell_type": "code",
   "execution_count": 50,
   "metadata": {},
   "outputs": [],
   "source": [
    "C1_data_list = []\n",
    "for endtime, videoid, starttime in firestore_C1_data:\n",
    "    data = {\"endTime\":endtime,\n",
    "            \"id\":videoid,\n",
    "            \"startTime\":starttime}\n",
    "    C1_data_list.append(data)\n",
    "\n",
    "#C1_data_list   "
   ]
  },
  {
   "cell_type": "code",
   "execution_count": 51,
   "metadata": {},
   "outputs": [],
   "source": [
    "data_C1 = {\"description\":f\"{C1_description_text}\", \"level\":5, \"levelName\":\"C1\", \"videos\":C1_data_list}\n",
    "#data_C1"
   ]
  },
  {
   "cell_type": "code",
   "execution_count": null,
   "metadata": {},
   "outputs": [],
   "source": []
  },
  {
   "attachments": {},
   "cell_type": "markdown",
   "metadata": {},
   "source": [
    "##### C2 Level"
   ]
  },
  {
   "cell_type": "code",
   "execution_count": 52,
   "metadata": {},
   "outputs": [],
   "source": [
    "# C2 Level Data\n",
    "video_id_list = df_40000[\"video_id\"].to_list()\n",
    "end_time_list = df_40000[\"end_time\"].to_list()\n",
    "start_time_list = df_40000[\"start_time\"].to_list()"
   ]
  },
  {
   "cell_type": "code",
   "execution_count": 53,
   "metadata": {},
   "outputs": [],
   "source": [
    "firestore_C2_data = zip(end_time_list,video_id_list,start_time_list)\n",
    "C2_description_text = \"C2 level description\""
   ]
  },
  {
   "cell_type": "code",
   "execution_count": 54,
   "metadata": {},
   "outputs": [],
   "source": [
    "C2_data_list = []\n",
    "for endtime, videoid, starttime in firestore_C2_data:\n",
    "    data = {\"endTime\":endtime,\n",
    "            \"id\":videoid,\n",
    "            \"startTime\":starttime}\n",
    "    C2_data_list.append(data)\n",
    "\n",
    "#C2_data_list   "
   ]
  },
  {
   "cell_type": "code",
   "execution_count": 55,
   "metadata": {},
   "outputs": [],
   "source": [
    "data_C2 = {\"description\":f\"{C2_description_text}\", \"level\":6, \"levelName\":\"C2\", \"videos\":C2_data_list}\n",
    "#data_C2"
   ]
  },
  {
   "cell_type": "code",
   "execution_count": null,
   "metadata": {},
   "outputs": [],
   "source": []
  },
  {
   "attachments": {},
   "cell_type": "markdown",
   "metadata": {},
   "source": [
    "##### All Data Sending"
   ]
  },
  {
   "cell_type": "code",
   "execution_count": 56,
   "metadata": {},
   "outputs": [],
   "source": [
    "data_all = {\"datas\":[data_beginner, data_A1, data_A2, data_B1, data_B2, data_C1, data_C2]}\n",
    "#data_all"
   ]
  },
  {
   "cell_type": "code",
   "execution_count": 57,
   "metadata": {},
   "outputs": [
    {
     "data": {
      "text/plain": [
       "update_time {\n",
       "  seconds: 1684521421\n",
       "  nanos: 108930000\n",
       "}"
      ]
     },
     "execution_count": 57,
     "metadata": {},
     "output_type": "execute_result"
    }
   ],
   "source": [
    "fire_db.collection(\"language-detail-data\").document(f\"{lang_id}\").set(data_all)"
   ]
  },
  {
   "cell_type": "code",
   "execution_count": null,
   "metadata": {},
   "outputs": [],
   "source": []
  },
  {
   "cell_type": "code",
   "execution_count": null,
   "metadata": {},
   "outputs": [],
   "source": []
  },
  {
   "cell_type": "code",
   "execution_count": null,
   "metadata": {},
   "outputs": [],
   "source": []
  }
 ],
 "metadata": {
  "kernelspec": {
   "display_name": "Python 3.9.5 ('py39')",
   "language": "python",
   "name": "python3"
  },
  "language_info": {
   "codemirror_mode": {
    "name": "ipython",
    "version": 3
   },
   "file_extension": ".py",
   "mimetype": "text/x-python",
   "name": "python",
   "nbconvert_exporter": "python",
   "pygments_lexer": "ipython3",
   "version": "3.9.5"
  },
  "orig_nbformat": 4,
  "vscode": {
   "interpreter": {
    "hash": "651d507d70892fab0fc6529d935cd476f6e2eb1791525b76da6cc8da34bc0503"
   }
  }
 },
 "nbformat": 4,
 "nbformat_minor": 2
}
