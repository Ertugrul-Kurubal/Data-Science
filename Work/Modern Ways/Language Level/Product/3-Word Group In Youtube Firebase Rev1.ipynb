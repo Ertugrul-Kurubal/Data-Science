{
 "cells": [
  {
   "attachments": {},
   "cell_type": "markdown",
   "metadata": {},
   "source": [
    "### Word Group In Youtube Firebase"
   ]
  },
  {
   "cell_type": "code",
   "execution_count": 1,
   "metadata": {},
   "outputs": [],
   "source": [
    "import firebase_admin\n",
    "from firebase_admin import credentials, firestore, storage"
   ]
  },
  {
   "cell_type": "code",
   "execution_count": 2,
   "metadata": {},
   "outputs": [],
   "source": [
    "import os\n",
    "import multiprocessing\n",
    "#import multiprocessing as mp\n",
    "from multiprocessing import Process, Manager, Pool, Queue\n",
    "from itertools import islice\n",
    "from collections import Counter\n",
    "import re\n",
    "import pandas as pd\n",
    "import numpy as np\n",
    "import glob\n",
    "import nltk\n",
    "from nltk import word_tokenize\n",
    "from functools import reduce\n",
    "from pathlib import Path\n",
    "import shutil"
   ]
  },
  {
   "cell_type": "code",
   "execution_count": 3,
   "metadata": {},
   "outputs": [
    {
     "name": "stdout",
     "output_type": "stream",
     "text": [
      "Number of CPU cores: 16\n"
     ]
    }
   ],
   "source": [
    "nprocs = multiprocessing.cpu_count()\n",
    "print(f\"Number of CPU cores: {nprocs}\")"
   ]
  },
  {
   "cell_type": "code",
   "execution_count": 4,
   "metadata": {},
   "outputs": [
    {
     "name": "stdout",
     "output_type": "stream",
     "text": [
      "Language = Turkish\n",
      "Lang Id = 2\n",
      "File Extention = 6\n"
     ]
    }
   ],
   "source": [
    "# language pair\n",
    "lang_folder = \"Turkish\"  # Arabic, English, French, German, Turkish, Spanish, Portuguese, Dutch, Italian\n",
    "\n",
    "# language detail num\n",
    "if lang_folder == \"English\":\n",
    "    lang_id = \"1\"\n",
    "elif lang_folder == \"Turkish\":\n",
    "    lang_id = \"2\"\n",
    "elif lang_folder == \"French\":\n",
    "    lang_id = \"3\"\n",
    "elif lang_folder == \"Spanish\":\n",
    "    lang_id = \"4\"\n",
    "elif lang_folder == \"Portuguese\":\n",
    "    lang_id = \"5\"\n",
    "elif lang_folder == \"Dutch\":\n",
    "    lang_id = \"6\"\n",
    "elif lang_folder == \"Italian\":\n",
    "    lang_id = \"7\"\n",
    "elif lang_folder == \"German\":\n",
    "    lang_id = \"8\"\n",
    "elif lang_folder == \"Arabic\":\n",
    "    lang_id = \"9\"\n",
    "else:\n",
    "    pass\n",
    "\n",
    "# prefix suffix file\n",
    "prefix_suffix = False  # True, False  # True for adding prefix suffix word\n",
    "native_word = True # True for adding native word\n",
    "\n",
    "# sample num\n",
    "sending_sample_num = 400  # 150,200,300,500\n",
    "\n",
    "# adding output file extention\n",
    "if prefix_suffix & native_word:\n",
    "    file_ext = \"5\"\n",
    "elif (not prefix_suffix) & native_word:\n",
    "    file_ext = \"6\"\n",
    "else:\n",
    "    file_ext = \"7\"              \n",
    "\n",
    "# 5 => for only native word with prefix suffix.\n",
    "# 6 => for only native word without prefix suffix.\n",
    "\n",
    "print(f\"Language = {lang_folder}\\nLang Id = {lang_id}\\nFile Extention = {file_ext}\")"
   ]
  },
  {
   "cell_type": "code",
   "execution_count": 5,
   "metadata": {},
   "outputs": [],
   "source": [
    "path = f\"/media/kurubal/SSD/Data Scientist/Work/Modern Ways/Project/{lang_folder.capitalize()}/\\\n",
    "Language Level/Result/3-Word Group In Youtube Sentence Firebase\"\n",
    "\n",
    "#Path(path).mkdir(parents=True, exist_ok=True)"
   ]
  },
  {
   "cell_type": "code",
   "execution_count": 6,
   "metadata": {},
   "outputs": [],
   "source": [
    "##cred = credentials.Certificate(\"/home/kurubal/Documents/Firebase/Flash Card/Api Key/flashcard-1c46e-firebase-adminsdk-b4kn5-5ddbde56b3.json\")  # Flash Card\n",
    "#cred = credentials.Certificate(\"/home/kurubal/Documents/Firebase/Language Level/Api Key/language-levels-firebase-adminsdk-u1m3n-87de34db73.json\")  # Language Level\n",
    "#app = firebase_admin.initialize_app(cred)"
   ]
  },
  {
   "cell_type": "code",
   "execution_count": 7,
   "metadata": {},
   "outputs": [],
   "source": [
    "#fire_db = firestore.client()"
   ]
  },
  {
   "cell_type": "code",
   "execution_count": null,
   "metadata": {},
   "outputs": [],
   "source": []
  },
  {
   "attachments": {},
   "cell_type": "markdown",
   "metadata": {},
   "source": [
    "#### Read Data"
   ]
  },
  {
   "cell_type": "code",
   "execution_count": 8,
   "metadata": {},
   "outputs": [],
   "source": [
    "#parent_folder_path = f\"/media/kurubal/SSD/Data Scientist/Work/Modern Ways/Project/{lang_folder.capitalize()}/Language Level/Data/1-Word Group In Youtube Sentence\"\n",
    "parent_folder_path = f\"/media/kurubal/SSD/Data Scientist/Work/Modern Ways/Project/{lang_folder.capitalize()}/Language Level/Result/2-Word Group Prepare For Youtube Tool\""
   ]
  },
  {
   "cell_type": "code",
   "execution_count": 9,
   "metadata": {},
   "outputs": [
    {
     "data": {
      "text/html": [
       "<div>\n",
       "<style scoped>\n",
       "    .dataframe tbody tr th:only-of-type {\n",
       "        vertical-align: middle;\n",
       "    }\n",
       "\n",
       "    .dataframe tbody tr th {\n",
       "        vertical-align: top;\n",
       "    }\n",
       "\n",
       "    .dataframe thead th {\n",
       "        text-align: right;\n",
       "    }\n",
       "</style>\n",
       "<table border=\"1\" class=\"dataframe\">\n",
       "  <thead>\n",
       "    <tr style=\"text-align: right;\">\n",
       "      <th></th>\n",
       "      <th>video_id</th>\n",
       "      <th>start_time</th>\n",
       "      <th>end_time</th>\n",
       "      <th>text</th>\n",
       "    </tr>\n",
       "  </thead>\n",
       "  <tbody>\n",
       "    <tr>\n",
       "      <th>0</th>\n",
       "      <td>IGJVw1HjIHc</td>\n",
       "      <td>4266</td>\n",
       "      <td>4269</td>\n",
       "      <td>yok çok değil o kadar da değil</td>\n",
       "    </tr>\n",
       "    <tr>\n",
       "      <th>1</th>\n",
       "      <td>YedJhuZQqpI</td>\n",
       "      <td>6690</td>\n",
       "      <td>6693</td>\n",
       "      <td>hayır hayır bir ama ben sen</td>\n",
       "    </tr>\n",
       "    <tr>\n",
       "      <th>2</th>\n",
       "      <td>pvsImT6E4yM</td>\n",
       "      <td>6351</td>\n",
       "      <td>6354</td>\n",
       "      <td>ama bu kadar bir şey yok da</td>\n",
       "    </tr>\n",
       "    <tr>\n",
       "      <th>3</th>\n",
       "      <td>FzHO9BqY_Vc</td>\n",
       "      <td>50</td>\n",
       "      <td>53</td>\n",
       "      <td>yok yok ben de bir şey yok</td>\n",
       "    </tr>\n",
       "    <tr>\n",
       "      <th>4</th>\n",
       "      <td>4LtEd0U7rOw</td>\n",
       "      <td>297</td>\n",
       "      <td>299</td>\n",
       "      <td>yok bu değil de o da değil</td>\n",
       "    </tr>\n",
       "    <tr>\n",
       "      <th>...</th>\n",
       "      <td>...</td>\n",
       "      <td>...</td>\n",
       "      <td>...</td>\n",
       "      <td>...</td>\n",
       "    </tr>\n",
       "    <tr>\n",
       "      <th>123</th>\n",
       "      <td>KgFHQZj1CLw</td>\n",
       "      <td>99</td>\n",
       "      <td>100</td>\n",
       "      <td>bana mı var</td>\n",
       "    </tr>\n",
       "    <tr>\n",
       "      <th>124</th>\n",
       "      <td>WspUg4WmNHI</td>\n",
       "      <td>232</td>\n",
       "      <td>234</td>\n",
       "      <td>ama ben var</td>\n",
       "    </tr>\n",
       "    <tr>\n",
       "      <th>125</th>\n",
       "      <td>cslXqrcH5qg</td>\n",
       "      <td>3896</td>\n",
       "      <td>3897</td>\n",
       "      <td>ne kadar bu</td>\n",
       "    </tr>\n",
       "    <tr>\n",
       "      <th>126</th>\n",
       "      <td>eQZssVr1Y64</td>\n",
       "      <td>1300</td>\n",
       "      <td>1302</td>\n",
       "      <td>ben de evet</td>\n",
       "    </tr>\n",
       "    <tr>\n",
       "      <th>127</th>\n",
       "      <td>Zh3OubDNNXA</td>\n",
       "      <td>558</td>\n",
       "      <td>559</td>\n",
       "      <td>ve ben bunu</td>\n",
       "    </tr>\n",
       "  </tbody>\n",
       "</table>\n",
       "<p>128 rows × 4 columns</p>\n",
       "</div>"
      ],
      "text/plain": [
       "        video_id  start_time  end_time                            text\n",
       "0    IGJVw1HjIHc        4266      4269  yok çok değil o kadar da değil\n",
       "1    YedJhuZQqpI        6690      6693     hayır hayır bir ama ben sen\n",
       "2    pvsImT6E4yM        6351      6354     ama bu kadar bir şey yok da\n",
       "3    FzHO9BqY_Vc          50        53      yok yok ben de bir şey yok\n",
       "4    4LtEd0U7rOw         297       299      yok bu değil de o da değil\n",
       "..           ...         ...       ...                             ...\n",
       "123  KgFHQZj1CLw          99       100                     bana mı var\n",
       "124  WspUg4WmNHI         232       234                     ama ben var\n",
       "125  cslXqrcH5qg        3896      3897                     ne kadar bu\n",
       "126  eQZssVr1Y64        1300      1302                     ben de evet\n",
       "127  Zh3OubDNNXA         558       559                     ve ben bunu\n",
       "\n",
       "[128 rows x 4 columns]"
      ]
     },
     "execution_count": 9,
     "metadata": {},
     "output_type": "execute_result"
    }
   ],
   "source": [
    "#df_28 = pd.read_csv(f\"{parent_folder_path}/{lang_folder.capitalize()}_Word_Group_Max_In_Youtube_Sentence_28_Word{file_ext}.csv\")\n",
    "df_28 = pd.read_excel(f\"{parent_folder_path}/{lang_folder.capitalize()}_Word_Group_Max_In_Youtube_Sentence_28_Word{file_ext}.xlsx\")\n",
    "df_28 = df_28.head(sending_sample_num)\n",
    "df_28"
   ]
  },
  {
   "cell_type": "code",
   "execution_count": 10,
   "metadata": {},
   "outputs": [
    {
     "data": {
      "text/html": [
       "<div>\n",
       "<style scoped>\n",
       "    .dataframe tbody tr th:only-of-type {\n",
       "        vertical-align: middle;\n",
       "    }\n",
       "\n",
       "    .dataframe tbody tr th {\n",
       "        vertical-align: top;\n",
       "    }\n",
       "\n",
       "    .dataframe thead th {\n",
       "        text-align: right;\n",
       "    }\n",
       "</style>\n",
       "<table border=\"1\" class=\"dataframe\">\n",
       "  <thead>\n",
       "    <tr style=\"text-align: right;\">\n",
       "      <th></th>\n",
       "      <th>video_id</th>\n",
       "      <th>start_time</th>\n",
       "      <th>end_time</th>\n",
       "      <th>text</th>\n",
       "    </tr>\n",
       "  </thead>\n",
       "  <tbody>\n",
       "    <tr>\n",
       "      <th>0</th>\n",
       "      <td>ZdeFof81xKs</td>\n",
       "      <td>720</td>\n",
       "      <td>725</td>\n",
       "      <td>bilmiyorum sen ne demek istiyorsun ben de onu ...</td>\n",
       "    </tr>\n",
       "    <tr>\n",
       "      <th>1</th>\n",
       "      <td>zgQbOmPp9pk</td>\n",
       "      <td>7920</td>\n",
       "      <td>7926</td>\n",
       "      <td>var da bu bir sorun olur mu benim için ben bun...</td>\n",
       "    </tr>\n",
       "    <tr>\n",
       "      <th>2</th>\n",
       "      <td>f8iA6v4mRAY</td>\n",
       "      <td>394</td>\n",
       "      <td>400</td>\n",
       "      <td>o çok güzel oldu gerçekten herkes gibi oldu ge...</td>\n",
       "    </tr>\n",
       "    <tr>\n",
       "      <th>3</th>\n",
       "      <td>GZG9nDbIgXM</td>\n",
       "      <td>1827</td>\n",
       "      <td>1831</td>\n",
       "      <td>evet ben tabii onları bilmiyorum onlar daha şe...</td>\n",
       "    </tr>\n",
       "    <tr>\n",
       "      <th>4</th>\n",
       "      <td>MvUL_IHyESU</td>\n",
       "      <td>17</td>\n",
       "      <td>23</td>\n",
       "      <td>olarak da çok daha büyük şimdi buna bakalım ge...</td>\n",
       "    </tr>\n",
       "    <tr>\n",
       "      <th>...</th>\n",
       "      <td>...</td>\n",
       "      <td>...</td>\n",
       "      <td>...</td>\n",
       "      <td>...</td>\n",
       "    </tr>\n",
       "    <tr>\n",
       "      <th>183</th>\n",
       "      <td>XnakBVeh0n4</td>\n",
       "      <td>1891</td>\n",
       "      <td>1893</td>\n",
       "      <td>ya bilmiyorum çok fazla mı ben böyle</td>\n",
       "    </tr>\n",
       "    <tr>\n",
       "      <th>184</th>\n",
       "      <td>h57En60xdPk</td>\n",
       "      <td>411</td>\n",
       "      <td>415</td>\n",
       "      <td>kadar buraya geldi daha sonra tekrar</td>\n",
       "    </tr>\n",
       "    <tr>\n",
       "      <th>185</th>\n",
       "      <td>9NguZ1ukR5E</td>\n",
       "      <td>403</td>\n",
       "      <td>408</td>\n",
       "      <td>böyle şeyler çünkü bilmiyorum bence</td>\n",
       "    </tr>\n",
       "    <tr>\n",
       "      <th>186</th>\n",
       "      <td>6TOnCfxXzyU</td>\n",
       "      <td>1173</td>\n",
       "      <td>1175</td>\n",
       "      <td>tabii ne kadar doğru bilmiyorum ama</td>\n",
       "    </tr>\n",
       "    <tr>\n",
       "      <th>187</th>\n",
       "      <td>Ssg7vpw8Zb4</td>\n",
       "      <td>1786</td>\n",
       "      <td>1789</td>\n",
       "      <td>çok teşekkürler ben teşekkür ederim</td>\n",
       "    </tr>\n",
       "  </tbody>\n",
       "</table>\n",
       "<p>188 rows × 4 columns</p>\n",
       "</div>"
      ],
      "text/plain": [
       "        video_id  start_time  end_time  \\\n",
       "0    ZdeFof81xKs         720       725   \n",
       "1    zgQbOmPp9pk        7920      7926   \n",
       "2    f8iA6v4mRAY         394       400   \n",
       "3    GZG9nDbIgXM        1827      1831   \n",
       "4    MvUL_IHyESU          17        23   \n",
       "..           ...         ...       ...   \n",
       "183  XnakBVeh0n4        1891      1893   \n",
       "184  h57En60xdPk         411       415   \n",
       "185  9NguZ1ukR5E         403       408   \n",
       "186  6TOnCfxXzyU        1173      1175   \n",
       "187  Ssg7vpw8Zb4        1786      1789   \n",
       "\n",
       "                                                  text  \n",
       "0    bilmiyorum sen ne demek istiyorsun ben de onu ...  \n",
       "1    var da bu bir sorun olur mu benim için ben bun...  \n",
       "2    o çok güzel oldu gerçekten herkes gibi oldu ge...  \n",
       "3    evet ben tabii onları bilmiyorum onlar daha şe...  \n",
       "4    olarak da çok daha büyük şimdi buna bakalım ge...  \n",
       "..                                                 ...  \n",
       "183               ya bilmiyorum çok fazla mı ben böyle  \n",
       "184               kadar buraya geldi daha sonra tekrar  \n",
       "185                böyle şeyler çünkü bilmiyorum bence  \n",
       "186                tabii ne kadar doğru bilmiyorum ama  \n",
       "187                çok teşekkürler ben teşekkür ederim  \n",
       "\n",
       "[188 rows x 4 columns]"
      ]
     },
     "execution_count": 10,
     "metadata": {},
     "output_type": "execute_result"
    }
   ],
   "source": [
    "#df_200 = pd.read_csv(f\"{parent_folder_path}/{lang_folder.capitalize()}_Word_Group_Max_In_Youtube_Sentence_200_Word{file_ext}.csv\")\n",
    "df_200 = pd.read_excel(f\"{parent_folder_path}/{lang_folder.capitalize()}_Word_Group_Max_In_Youtube_Sentence_200_Word{file_ext}.xlsx\")\n",
    "df_200 = df_200.head(sending_sample_num)\n",
    "df_200"
   ]
  },
  {
   "cell_type": "code",
   "execution_count": 11,
   "metadata": {},
   "outputs": [
    {
     "data": {
      "text/html": [
       "<div>\n",
       "<style scoped>\n",
       "    .dataframe tbody tr th:only-of-type {\n",
       "        vertical-align: middle;\n",
       "    }\n",
       "\n",
       "    .dataframe tbody tr th {\n",
       "        vertical-align: top;\n",
       "    }\n",
       "\n",
       "    .dataframe thead th {\n",
       "        text-align: right;\n",
       "    }\n",
       "</style>\n",
       "<table border=\"1\" class=\"dataframe\">\n",
       "  <thead>\n",
       "    <tr style=\"text-align: right;\">\n",
       "      <th></th>\n",
       "      <th>video_id</th>\n",
       "      <th>start_time</th>\n",
       "      <th>end_time</th>\n",
       "      <th>text</th>\n",
       "    </tr>\n",
       "  </thead>\n",
       "  <tbody>\n",
       "    <tr>\n",
       "      <th>0</th>\n",
       "      <td>KsZ_8oIQsv4</td>\n",
       "      <td>318</td>\n",
       "      <td>325</td>\n",
       "      <td>başka biriyle herhangi bir şey yaşıyor musun k...</td>\n",
       "    </tr>\n",
       "    <tr>\n",
       "      <th>1</th>\n",
       "      <td>cUAQrHbbpZ8</td>\n",
       "      <td>4774</td>\n",
       "      <td>4781</td>\n",
       "      <td>bir şekilde söylüyorum ve o zaman eminim ki ço...</td>\n",
       "    </tr>\n",
       "    <tr>\n",
       "      <th>2</th>\n",
       "      <td>Mh3bgDLKt2o</td>\n",
       "      <td>603</td>\n",
       "      <td>612</td>\n",
       "      <td>sıcak mı evet böyle işte tamam bir şey yok ora...</td>\n",
       "    </tr>\n",
       "    <tr>\n",
       "      <th>3</th>\n",
       "      <td>sHnvEDmE3so</td>\n",
       "      <td>272</td>\n",
       "      <td>277</td>\n",
       "      <td>benim burada ne işim var neden bunu yapıyorum ...</td>\n",
       "    </tr>\n",
       "    <tr>\n",
       "      <th>4</th>\n",
       "      <td>zgQbOmPp9pk</td>\n",
       "      <td>5380</td>\n",
       "      <td>5389</td>\n",
       "      <td>bu işi yaparım dedim o zaman süper dedi bitti ...</td>\n",
       "    </tr>\n",
       "    <tr>\n",
       "      <th>...</th>\n",
       "      <td>...</td>\n",
       "      <td>...</td>\n",
       "      <td>...</td>\n",
       "      <td>...</td>\n",
       "    </tr>\n",
       "    <tr>\n",
       "      <th>230</th>\n",
       "      <td>h93wXNLXmYU</td>\n",
       "      <td>898</td>\n",
       "      <td>901</td>\n",
       "      <td>şimdi diyorum ki söz verdim insanlar beni bekl...</td>\n",
       "    </tr>\n",
       "    <tr>\n",
       "      <th>231</th>\n",
       "      <td>V9n8LpTPcfM</td>\n",
       "      <td>44</td>\n",
       "      <td>47</td>\n",
       "      <td>beni hep al yani ona seviyorum tamam tamam o g...</td>\n",
       "    </tr>\n",
       "    <tr>\n",
       "      <th>232</th>\n",
       "      <td>ry0hEicwuhQ</td>\n",
       "      <td>852</td>\n",
       "      <td>856</td>\n",
       "      <td>en yakın arkadaşım dedi ki senin kızın olacak ...</td>\n",
       "    </tr>\n",
       "    <tr>\n",
       "      <th>233</th>\n",
       "      <td>nYNwFO8hA2g</td>\n",
       "      <td>56</td>\n",
       "      <td>60</td>\n",
       "      <td>daha kolay ve hızlı ilk olarak bunu kabul ediy...</td>\n",
       "    </tr>\n",
       "    <tr>\n",
       "      <th>234</th>\n",
       "      <td>Yr2ZLfWT0i8</td>\n",
       "      <td>1380</td>\n",
       "      <td>1384</td>\n",
       "      <td>onu verir misin yapar mısın diye böyle yap diy...</td>\n",
       "    </tr>\n",
       "  </tbody>\n",
       "</table>\n",
       "<p>235 rows × 4 columns</p>\n",
       "</div>"
      ],
      "text/plain": [
       "        video_id  start_time  end_time  \\\n",
       "0    KsZ_8oIQsv4         318       325   \n",
       "1    cUAQrHbbpZ8        4774      4781   \n",
       "2    Mh3bgDLKt2o         603       612   \n",
       "3    sHnvEDmE3so         272       277   \n",
       "4    zgQbOmPp9pk        5380      5389   \n",
       "..           ...         ...       ...   \n",
       "230  h93wXNLXmYU         898       901   \n",
       "231  V9n8LpTPcfM          44        47   \n",
       "232  ry0hEicwuhQ         852       856   \n",
       "233  nYNwFO8hA2g          56        60   \n",
       "234  Yr2ZLfWT0i8        1380      1384   \n",
       "\n",
       "                                                  text  \n",
       "0    başka biriyle herhangi bir şey yaşıyor musun k...  \n",
       "1    bir şekilde söylüyorum ve o zaman eminim ki ço...  \n",
       "2    sıcak mı evet böyle işte tamam bir şey yok ora...  \n",
       "3    benim burada ne işim var neden bunu yapıyorum ...  \n",
       "4    bu işi yaparım dedim o zaman süper dedi bitti ...  \n",
       "..                                                 ...  \n",
       "230  şimdi diyorum ki söz verdim insanlar beni bekl...  \n",
       "231  beni hep al yani ona seviyorum tamam tamam o g...  \n",
       "232  en yakın arkadaşım dedi ki senin kızın olacak ...  \n",
       "233  daha kolay ve hızlı ilk olarak bunu kabul ediy...  \n",
       "234  onu verir misin yapar mısın diye böyle yap diy...  \n",
       "\n",
       "[235 rows x 4 columns]"
      ]
     },
     "execution_count": 11,
     "metadata": {},
     "output_type": "execute_result"
    }
   ],
   "source": [
    "#df_1000 = pd.read_csv(f\"{parent_folder_path}/{lang_folder.capitalize()}_Word_Group_Max_In_Youtube_Sentence_1000_Word{file_ext}.csv\")\n",
    "df_1000 = pd.read_excel(f\"{parent_folder_path}/{lang_folder.capitalize()}_Word_Group_Max_In_Youtube_Sentence_1000_Word{file_ext}.xlsx\")\n",
    "df_1000 = df_1000.head(sending_sample_num)\n",
    "df_1000"
   ]
  },
  {
   "cell_type": "code",
   "execution_count": 12,
   "metadata": {},
   "outputs": [
    {
     "data": {
      "text/html": [
       "<div>\n",
       "<style scoped>\n",
       "    .dataframe tbody tr th:only-of-type {\n",
       "        vertical-align: middle;\n",
       "    }\n",
       "\n",
       "    .dataframe tbody tr th {\n",
       "        vertical-align: top;\n",
       "    }\n",
       "\n",
       "    .dataframe thead th {\n",
       "        text-align: right;\n",
       "    }\n",
       "</style>\n",
       "<table border=\"1\" class=\"dataframe\">\n",
       "  <thead>\n",
       "    <tr style=\"text-align: right;\">\n",
       "      <th></th>\n",
       "      <th>video_id</th>\n",
       "      <th>start_time</th>\n",
       "      <th>end_time</th>\n",
       "      <th>text</th>\n",
       "    </tr>\n",
       "  </thead>\n",
       "  <tbody>\n",
       "    <tr>\n",
       "      <th>0</th>\n",
       "      <td>MQ_nenSkjbo</td>\n",
       "      <td>380</td>\n",
       "      <td>395</td>\n",
       "      <td>şimdi ben seni tabii hem kişisel olarak hem de...</td>\n",
       "    </tr>\n",
       "    <tr>\n",
       "      <th>1</th>\n",
       "      <td>dhV8ToP5VTQ</td>\n",
       "      <td>399</td>\n",
       "      <td>407</td>\n",
       "      <td>ama ben kimseye durup da spor yapmak isteyen i...</td>\n",
       "    </tr>\n",
       "    <tr>\n",
       "      <th>2</th>\n",
       "      <td>SgYj1SsG1LQ</td>\n",
       "      <td>1638</td>\n",
       "      <td>1647</td>\n",
       "      <td>daha ciddi bir şey hak ettiğini biliyor ve bun...</td>\n",
       "    </tr>\n",
       "    <tr>\n",
       "      <th>3</th>\n",
       "      <td>3mpFwkjir0A</td>\n",
       "      <td>1629</td>\n",
       "      <td>1637</td>\n",
       "      <td>böyle karmaşık birileri hava atıyor biri karı ...</td>\n",
       "    </tr>\n",
       "    <tr>\n",
       "      <th>4</th>\n",
       "      <td>GimA7_uhyWg</td>\n",
       "      <td>811</td>\n",
       "      <td>820</td>\n",
       "      <td>ve bir şansın olsa belki de bazı şeyleri daha ...</td>\n",
       "    </tr>\n",
       "    <tr>\n",
       "      <th>...</th>\n",
       "      <td>...</td>\n",
       "      <td>...</td>\n",
       "      <td>...</td>\n",
       "      <td>...</td>\n",
       "    </tr>\n",
       "    <tr>\n",
       "      <th>395</th>\n",
       "      <td>f8iA6v4mRAY</td>\n",
       "      <td>1369</td>\n",
       "      <td>1378</td>\n",
       "      <td>arkadaşlarım tatlı evet şimdi sıra geldi şu pa...</td>\n",
       "    </tr>\n",
       "    <tr>\n",
       "      <th>396</th>\n",
       "      <td>Mh8BTIbj5K8</td>\n",
       "      <td>910</td>\n",
       "      <td>916</td>\n",
       "      <td>sevgili dostlar burada başarısız olduğunuz maa...</td>\n",
       "    </tr>\n",
       "    <tr>\n",
       "      <th>397</th>\n",
       "      <td>kSlAhrlx1lw</td>\n",
       "      <td>2369</td>\n",
       "      <td>2376</td>\n",
       "      <td>biz gidiyoruz ama gitme diyor bize ya burası r...</td>\n",
       "    </tr>\n",
       "    <tr>\n",
       "      <th>398</th>\n",
       "      <td>L4ed7PRsvxE</td>\n",
       "      <td>613</td>\n",
       "      <td>619</td>\n",
       "      <td>gelirim herhalde buraya devamlı bakalım daha b...</td>\n",
       "    </tr>\n",
       "    <tr>\n",
       "      <th>399</th>\n",
       "      <td>r9ZNZ4W1eNI</td>\n",
       "      <td>369</td>\n",
       "      <td>376</td>\n",
       "      <td>arkadaşlar için geleceği bilmek biz insanlar ö...</td>\n",
       "    </tr>\n",
       "  </tbody>\n",
       "</table>\n",
       "<p>400 rows × 4 columns</p>\n",
       "</div>"
      ],
      "text/plain": [
       "        video_id  start_time  end_time  \\\n",
       "0    MQ_nenSkjbo         380       395   \n",
       "1    dhV8ToP5VTQ         399       407   \n",
       "2    SgYj1SsG1LQ        1638      1647   \n",
       "3    3mpFwkjir0A        1629      1637   \n",
       "4    GimA7_uhyWg         811       820   \n",
       "..           ...         ...       ...   \n",
       "395  f8iA6v4mRAY        1369      1378   \n",
       "396  Mh8BTIbj5K8         910       916   \n",
       "397  kSlAhrlx1lw        2369      2376   \n",
       "398  L4ed7PRsvxE         613       619   \n",
       "399  r9ZNZ4W1eNI         369       376   \n",
       "\n",
       "                                                  text  \n",
       "0    şimdi ben seni tabii hem kişisel olarak hem de...  \n",
       "1    ama ben kimseye durup da spor yapmak isteyen i...  \n",
       "2    daha ciddi bir şey hak ettiğini biliyor ve bun...  \n",
       "3    böyle karmaşık birileri hava atıyor biri karı ...  \n",
       "4    ve bir şansın olsa belki de bazı şeyleri daha ...  \n",
       "..                                                 ...  \n",
       "395  arkadaşlarım tatlı evet şimdi sıra geldi şu pa...  \n",
       "396  sevgili dostlar burada başarısız olduğunuz maa...  \n",
       "397  biz gidiyoruz ama gitme diyor bize ya burası r...  \n",
       "398  gelirim herhalde buraya devamlı bakalım daha b...  \n",
       "399  arkadaşlar için geleceği bilmek biz insanlar ö...  \n",
       "\n",
       "[400 rows x 4 columns]"
      ]
     },
     "execution_count": 12,
     "metadata": {},
     "output_type": "execute_result"
    }
   ],
   "source": [
    "#df_5000 = pd.read_csv(f\"{parent_folder_path}/{lang_folder.capitalize()}_Word_Group_Max_In_Youtube_Sentence_5000_Word{file_ext}.csv\")\n",
    "df_5000 = pd.read_excel(f\"{parent_folder_path}/{lang_folder.capitalize()}_Word_Group_Max_In_Youtube_Sentence_5000_Word{file_ext}.xlsx\")\n",
    "df_5000 = df_5000.head(sending_sample_num)\n",
    "df_5000"
   ]
  },
  {
   "cell_type": "code",
   "execution_count": 13,
   "metadata": {},
   "outputs": [
    {
     "data": {
      "text/html": [
       "<div>\n",
       "<style scoped>\n",
       "    .dataframe tbody tr th:only-of-type {\n",
       "        vertical-align: middle;\n",
       "    }\n",
       "\n",
       "    .dataframe tbody tr th {\n",
       "        vertical-align: top;\n",
       "    }\n",
       "\n",
       "    .dataframe thead th {\n",
       "        text-align: right;\n",
       "    }\n",
       "</style>\n",
       "<table border=\"1\" class=\"dataframe\">\n",
       "  <thead>\n",
       "    <tr style=\"text-align: right;\">\n",
       "      <th></th>\n",
       "      <th>video_id</th>\n",
       "      <th>start_time</th>\n",
       "      <th>end_time</th>\n",
       "      <th>text</th>\n",
       "    </tr>\n",
       "  </thead>\n",
       "  <tbody>\n",
       "    <tr>\n",
       "      <th>0</th>\n",
       "      <td>LPrMSJHDDcA</td>\n",
       "      <td>678</td>\n",
       "      <td>690</td>\n",
       "      <td>on tane geliyor haftada üç dört kere şeye çıkı...</td>\n",
       "    </tr>\n",
       "    <tr>\n",
       "      <th>1</th>\n",
       "      <td>FIcnpr3UtaQ</td>\n",
       "      <td>696</td>\n",
       "      <td>705</td>\n",
       "      <td>okulun ilk günü ne yapacağımızı bilmiyorduk bi...</td>\n",
       "    </tr>\n",
       "    <tr>\n",
       "      <th>2</th>\n",
       "      <td>MQ_nenSkjbo</td>\n",
       "      <td>380</td>\n",
       "      <td>395</td>\n",
       "      <td>şimdi ben seni tabii hem kişisel olarak hem de...</td>\n",
       "    </tr>\n",
       "    <tr>\n",
       "      <th>3</th>\n",
       "      <td>ywf4HpQKuf0</td>\n",
       "      <td>110</td>\n",
       "      <td>119</td>\n",
       "      <td>o yüzden aslında hep sosyal medya ile bir şeki...</td>\n",
       "    </tr>\n",
       "    <tr>\n",
       "      <th>4</th>\n",
       "      <td>nB0Q5v1_kUs</td>\n",
       "      <td>362</td>\n",
       "      <td>371</td>\n",
       "      <td>ve bu gözle gelecek olan ikinci karakteri ki ö...</td>\n",
       "    </tr>\n",
       "    <tr>\n",
       "      <th>...</th>\n",
       "      <td>...</td>\n",
       "      <td>...</td>\n",
       "      <td>...</td>\n",
       "      <td>...</td>\n",
       "    </tr>\n",
       "    <tr>\n",
       "      <th>395</th>\n",
       "      <td>AvfpnsqaWw4</td>\n",
       "      <td>895</td>\n",
       "      <td>901</td>\n",
       "      <td>istiyorsanız koyun en azından neden olduğunu b...</td>\n",
       "    </tr>\n",
       "    <tr>\n",
       "      <th>396</th>\n",
       "      <td>_Xtfh7OGcGM</td>\n",
       "      <td>231</td>\n",
       "      <td>238</td>\n",
       "      <td>olan yer ya orası bayağı yani insanlar geliyor...</td>\n",
       "    </tr>\n",
       "    <tr>\n",
       "      <th>397</th>\n",
       "      <td>rMxxGQVkczU</td>\n",
       "      <td>892</td>\n",
       "      <td>899</td>\n",
       "      <td>en mutlu insanı olacağım babacığım seni sabah ...</td>\n",
       "    </tr>\n",
       "    <tr>\n",
       "      <th>398</th>\n",
       "      <td>TvLxPsIHAEk</td>\n",
       "      <td>5380</td>\n",
       "      <td>5386</td>\n",
       "      <td>kaynakları kişi o benim arkadaşım zaten berabe...</td>\n",
       "    </tr>\n",
       "    <tr>\n",
       "      <th>399</th>\n",
       "      <td>YFCPkSyZziU</td>\n",
       "      <td>924</td>\n",
       "      <td>931</td>\n",
       "      <td>şu son kısmı göstereyim bakın burada bitirdik ...</td>\n",
       "    </tr>\n",
       "  </tbody>\n",
       "</table>\n",
       "<p>400 rows × 4 columns</p>\n",
       "</div>"
      ],
      "text/plain": [
       "        video_id  start_time  end_time  \\\n",
       "0    LPrMSJHDDcA         678       690   \n",
       "1    FIcnpr3UtaQ         696       705   \n",
       "2    MQ_nenSkjbo         380       395   \n",
       "3    ywf4HpQKuf0         110       119   \n",
       "4    nB0Q5v1_kUs         362       371   \n",
       "..           ...         ...       ...   \n",
       "395  AvfpnsqaWw4         895       901   \n",
       "396  _Xtfh7OGcGM         231       238   \n",
       "397  rMxxGQVkczU         892       899   \n",
       "398  TvLxPsIHAEk        5380      5386   \n",
       "399  YFCPkSyZziU         924       931   \n",
       "\n",
       "                                                  text  \n",
       "0    on tane geliyor haftada üç dört kere şeye çıkı...  \n",
       "1    okulun ilk günü ne yapacağımızı bilmiyorduk bi...  \n",
       "2    şimdi ben seni tabii hem kişisel olarak hem de...  \n",
       "3    o yüzden aslında hep sosyal medya ile bir şeki...  \n",
       "4    ve bu gözle gelecek olan ikinci karakteri ki ö...  \n",
       "..                                                 ...  \n",
       "395  istiyorsanız koyun en azından neden olduğunu b...  \n",
       "396  olan yer ya orası bayağı yani insanlar geliyor...  \n",
       "397  en mutlu insanı olacağım babacığım seni sabah ...  \n",
       "398  kaynakları kişi o benim arkadaşım zaten berabe...  \n",
       "399  şu son kısmı göstereyim bakın burada bitirdik ...  \n",
       "\n",
       "[400 rows x 4 columns]"
      ]
     },
     "execution_count": 13,
     "metadata": {},
     "output_type": "execute_result"
    }
   ],
   "source": [
    "#df_10000 = pd.read_csv(f\"{parent_folder_path}/{lang_folder.capitalize()}_Word_Group_Max_In_Youtube_Sentence_10000_Word{file_ext}.csv\")\n",
    "df_10000 = pd.read_excel(f\"{parent_folder_path}/{lang_folder.capitalize()}_Word_Group_Max_In_Youtube_Sentence_10000_Word{file_ext}.xlsx\")\n",
    "df_10000 = df_10000.head(sending_sample_num)\n",
    "df_10000"
   ]
  },
  {
   "cell_type": "code",
   "execution_count": 14,
   "metadata": {},
   "outputs": [
    {
     "data": {
      "text/html": [
       "<div>\n",
       "<style scoped>\n",
       "    .dataframe tbody tr th:only-of-type {\n",
       "        vertical-align: middle;\n",
       "    }\n",
       "\n",
       "    .dataframe tbody tr th {\n",
       "        vertical-align: top;\n",
       "    }\n",
       "\n",
       "    .dataframe thead th {\n",
       "        text-align: right;\n",
       "    }\n",
       "</style>\n",
       "<table border=\"1\" class=\"dataframe\">\n",
       "  <thead>\n",
       "    <tr style=\"text-align: right;\">\n",
       "      <th></th>\n",
       "      <th>video_id</th>\n",
       "      <th>start_time</th>\n",
       "      <th>end_time</th>\n",
       "      <th>text</th>\n",
       "    </tr>\n",
       "  </thead>\n",
       "  <tbody>\n",
       "    <tr>\n",
       "      <th>0</th>\n",
       "      <td>LOQOS5IJtlM</td>\n",
       "      <td>3834</td>\n",
       "      <td>3843</td>\n",
       "      <td>oradaki sadece şu çok önemliydi dört kere geld...</td>\n",
       "    </tr>\n",
       "    <tr>\n",
       "      <th>1</th>\n",
       "      <td>aAa2PRgjkcg</td>\n",
       "      <td>238</td>\n",
       "      <td>250</td>\n",
       "      <td>yeni yılda eve şans gelmesi için gece yarısınd...</td>\n",
       "    </tr>\n",
       "    <tr>\n",
       "      <th>2</th>\n",
       "      <td>9eYN0BDyLFM</td>\n",
       "      <td>503</td>\n",
       "      <td>511</td>\n",
       "      <td>şahin bu sene üniversiteye başlayacağım ama di...</td>\n",
       "    </tr>\n",
       "    <tr>\n",
       "      <th>3</th>\n",
       "      <td>MQ_nenSkjbo</td>\n",
       "      <td>380</td>\n",
       "      <td>395</td>\n",
       "      <td>şimdi ben seni tabii hem kişisel olarak hem de...</td>\n",
       "    </tr>\n",
       "    <tr>\n",
       "      <th>4</th>\n",
       "      <td>it2FXAAbs88</td>\n",
       "      <td>758</td>\n",
       "      <td>767</td>\n",
       "      <td>aynısı aynısı ya çünkü niye sordum bana da çok...</td>\n",
       "    </tr>\n",
       "    <tr>\n",
       "      <th>...</th>\n",
       "      <td>...</td>\n",
       "      <td>...</td>\n",
       "      <td>...</td>\n",
       "      <td>...</td>\n",
       "    </tr>\n",
       "    <tr>\n",
       "      <th>395</th>\n",
       "      <td>jdpYInLk2Ow</td>\n",
       "      <td>1192</td>\n",
       "      <td>1197</td>\n",
       "      <td>içinde döner misin hocam hemen diyorum ki nedi...</td>\n",
       "    </tr>\n",
       "    <tr>\n",
       "      <th>396</th>\n",
       "      <td>mYdU9NOn2AY</td>\n",
       "      <td>231</td>\n",
       "      <td>237</td>\n",
       "      <td>alıyorum çünkü bunlar biraz daha kısa o yüzden...</td>\n",
       "    </tr>\n",
       "    <tr>\n",
       "      <th>397</th>\n",
       "      <td>gYoIugaLSJw</td>\n",
       "      <td>580</td>\n",
       "      <td>586</td>\n",
       "      <td>zaman kendini rahatsız huzursuz hissediyorsun ...</td>\n",
       "    </tr>\n",
       "    <tr>\n",
       "      <th>398</th>\n",
       "      <td>lG7qPNPsumU</td>\n",
       "      <td>41</td>\n",
       "      <td>47</td>\n",
       "      <td>için her türlü oyunu yapmaya hazırlar ne yazık...</td>\n",
       "    </tr>\n",
       "    <tr>\n",
       "      <th>399</th>\n",
       "      <td>ebP0C2MSwgw</td>\n",
       "      <td>1129</td>\n",
       "      <td>1135</td>\n",
       "      <td>zaten teşekkür ediyorum yani şimdi bana desen ...</td>\n",
       "    </tr>\n",
       "  </tbody>\n",
       "</table>\n",
       "<p>400 rows × 4 columns</p>\n",
       "</div>"
      ],
      "text/plain": [
       "        video_id  start_time  end_time  \\\n",
       "0    LOQOS5IJtlM        3834      3843   \n",
       "1    aAa2PRgjkcg         238       250   \n",
       "2    9eYN0BDyLFM         503       511   \n",
       "3    MQ_nenSkjbo         380       395   \n",
       "4    it2FXAAbs88         758       767   \n",
       "..           ...         ...       ...   \n",
       "395  jdpYInLk2Ow        1192      1197   \n",
       "396  mYdU9NOn2AY         231       237   \n",
       "397  gYoIugaLSJw         580       586   \n",
       "398  lG7qPNPsumU          41        47   \n",
       "399  ebP0C2MSwgw        1129      1135   \n",
       "\n",
       "                                                  text  \n",
       "0    oradaki sadece şu çok önemliydi dört kere geld...  \n",
       "1    yeni yılda eve şans gelmesi için gece yarısınd...  \n",
       "2    şahin bu sene üniversiteye başlayacağım ama di...  \n",
       "3    şimdi ben seni tabii hem kişisel olarak hem de...  \n",
       "4    aynısı aynısı ya çünkü niye sordum bana da çok...  \n",
       "..                                                 ...  \n",
       "395  içinde döner misin hocam hemen diyorum ki nedi...  \n",
       "396  alıyorum çünkü bunlar biraz daha kısa o yüzden...  \n",
       "397  zaman kendini rahatsız huzursuz hissediyorsun ...  \n",
       "398  için her türlü oyunu yapmaya hazırlar ne yazık...  \n",
       "399  zaten teşekkür ediyorum yani şimdi bana desen ...  \n",
       "\n",
       "[400 rows x 4 columns]"
      ]
     },
     "execution_count": 14,
     "metadata": {},
     "output_type": "execute_result"
    }
   ],
   "source": [
    "#df_20000 = pd.read_csv(f\"{parent_folder_path}/{lang_folder.capitalize()}_Word_Group_Max_In_Youtube_Sentence_20000_Word{file_ext}.csv\")\n",
    "df_20000 = pd.read_excel(f\"{parent_folder_path}/{lang_folder.capitalize()}_Word_Group_Max_In_Youtube_Sentence_20000_Word{file_ext}.xlsx\")\n",
    "df_20000 = df_20000.head(sending_sample_num)\n",
    "df_20000"
   ]
  },
  {
   "cell_type": "code",
   "execution_count": 15,
   "metadata": {},
   "outputs": [
    {
     "data": {
      "text/html": [
       "<div>\n",
       "<style scoped>\n",
       "    .dataframe tbody tr th:only-of-type {\n",
       "        vertical-align: middle;\n",
       "    }\n",
       "\n",
       "    .dataframe tbody tr th {\n",
       "        vertical-align: top;\n",
       "    }\n",
       "\n",
       "    .dataframe thead th {\n",
       "        text-align: right;\n",
       "    }\n",
       "</style>\n",
       "<table border=\"1\" class=\"dataframe\">\n",
       "  <thead>\n",
       "    <tr style=\"text-align: right;\">\n",
       "      <th></th>\n",
       "      <th>video_id</th>\n",
       "      <th>start_time</th>\n",
       "      <th>end_time</th>\n",
       "      <th>text</th>\n",
       "    </tr>\n",
       "  </thead>\n",
       "  <tbody>\n",
       "    <tr>\n",
       "      <th>0</th>\n",
       "      <td>CULrx3yerE8</td>\n",
       "      <td>409</td>\n",
       "      <td>425</td>\n",
       "      <td>baktığınızda aynı fikirde misiniz çoğunlukla h...</td>\n",
       "    </tr>\n",
       "    <tr>\n",
       "      <th>1</th>\n",
       "      <td>LPrMSJHDDcA</td>\n",
       "      <td>679</td>\n",
       "      <td>690</td>\n",
       "      <td>on tane geliyor haftada üç dört kere şeye çıkı...</td>\n",
       "    </tr>\n",
       "    <tr>\n",
       "      <th>2</th>\n",
       "      <td>aAa2PRgjkcg</td>\n",
       "      <td>238</td>\n",
       "      <td>251</td>\n",
       "      <td>yeni yılda eve şans gelmesi için gece yarısınd...</td>\n",
       "    </tr>\n",
       "    <tr>\n",
       "      <th>3</th>\n",
       "      <td>bwEEzF905Gk</td>\n",
       "      <td>587</td>\n",
       "      <td>595</td>\n",
       "      <td>bir sürü kızla çıkmış bir çocuk kızları düşünü...</td>\n",
       "    </tr>\n",
       "    <tr>\n",
       "      <th>4</th>\n",
       "      <td>LPrMSJHDDcA</td>\n",
       "      <td>333</td>\n",
       "      <td>345</td>\n",
       "      <td>cumartesi bildiğin iki saat aralıksız dört far...</td>\n",
       "    </tr>\n",
       "    <tr>\n",
       "      <th>...</th>\n",
       "      <td>...</td>\n",
       "      <td>...</td>\n",
       "      <td>...</td>\n",
       "      <td>...</td>\n",
       "    </tr>\n",
       "    <tr>\n",
       "      <th>395</th>\n",
       "      <td>ebVNk98rGzs</td>\n",
       "      <td>2195</td>\n",
       "      <td>2202</td>\n",
       "      <td>ne malzemeler kullandık hangi malzemelerin ark...</td>\n",
       "    </tr>\n",
       "    <tr>\n",
       "      <th>396</th>\n",
       "      <td>Fn4Fe0zm2xM</td>\n",
       "      <td>171</td>\n",
       "      <td>177</td>\n",
       "      <td>örneğin çocuğunuz dışarı çıkmak istiyor siz is...</td>\n",
       "    </tr>\n",
       "    <tr>\n",
       "      <th>397</th>\n",
       "      <td>_xfa4TEyUOo</td>\n",
       "      <td>366</td>\n",
       "      <td>372</td>\n",
       "      <td>fabrikada emir komuta tamamen katar ordusuna v...</td>\n",
       "    </tr>\n",
       "    <tr>\n",
       "      <th>398</th>\n",
       "      <td>1iByM08MvqU</td>\n",
       "      <td>1718</td>\n",
       "      <td>1724</td>\n",
       "      <td>anlayamadım telefonla ilgili bağlantıyı biraz ...</td>\n",
       "    </tr>\n",
       "    <tr>\n",
       "      <th>399</th>\n",
       "      <td>5KiRW2zXunQ</td>\n",
       "      <td>100</td>\n",
       "      <td>110</td>\n",
       "      <td>biz kurumsal danışmanlık yaparak başlamıştık b...</td>\n",
       "    </tr>\n",
       "  </tbody>\n",
       "</table>\n",
       "<p>400 rows × 4 columns</p>\n",
       "</div>"
      ],
      "text/plain": [
       "        video_id  start_time  end_time  \\\n",
       "0    CULrx3yerE8         409       425   \n",
       "1    LPrMSJHDDcA         679       690   \n",
       "2    aAa2PRgjkcg         238       251   \n",
       "3    bwEEzF905Gk         587       595   \n",
       "4    LPrMSJHDDcA         333       345   \n",
       "..           ...         ...       ...   \n",
       "395  ebVNk98rGzs        2195      2202   \n",
       "396  Fn4Fe0zm2xM         171       177   \n",
       "397  _xfa4TEyUOo         366       372   \n",
       "398  1iByM08MvqU        1718      1724   \n",
       "399  5KiRW2zXunQ         100       110   \n",
       "\n",
       "                                                  text  \n",
       "0    baktığınızda aynı fikirde misiniz çoğunlukla h...  \n",
       "1    on tane geliyor haftada üç dört kere şeye çıkı...  \n",
       "2    yeni yılda eve şans gelmesi için gece yarısınd...  \n",
       "3    bir sürü kızla çıkmış bir çocuk kızları düşünü...  \n",
       "4    cumartesi bildiğin iki saat aralıksız dört far...  \n",
       "..                                                 ...  \n",
       "395  ne malzemeler kullandık hangi malzemelerin ark...  \n",
       "396  örneğin çocuğunuz dışarı çıkmak istiyor siz is...  \n",
       "397  fabrikada emir komuta tamamen katar ordusuna v...  \n",
       "398  anlayamadım telefonla ilgili bağlantıyı biraz ...  \n",
       "399  biz kurumsal danışmanlık yaparak başlamıştık b...  \n",
       "\n",
       "[400 rows x 4 columns]"
      ]
     },
     "execution_count": 15,
     "metadata": {},
     "output_type": "execute_result"
    }
   ],
   "source": [
    "#df_40000 = pd.read_csv(f\"{parent_folder_path}/{lang_folder.capitalize()}_Word_Group_Max_In_Youtube_Sentence_40000_Word{file_ext}.csv\")\n",
    "df_40000 = pd.read_excel(f\"{parent_folder_path}/{lang_folder.capitalize()}_Word_Group_Max_In_Youtube_Sentence_40000_Word{file_ext}.xlsx\")\n",
    "df_40000 = df_40000.head(sending_sample_num)\n",
    "df_40000"
   ]
  },
  {
   "cell_type": "code",
   "execution_count": null,
   "metadata": {},
   "outputs": [],
   "source": []
  },
  {
   "attachments": {},
   "cell_type": "markdown",
   "metadata": {},
   "source": [
    "##### Calculate Speech Time Mean"
   ]
  },
  {
   "cell_type": "code",
   "execution_count": 16,
   "metadata": {},
   "outputs": [
    {
     "data": {
      "text/plain": [
       "1.890625"
      ]
     },
     "execution_count": 16,
     "metadata": {},
     "output_type": "execute_result"
    }
   ],
   "source": [
    "(df_28[\"end_time\"] - df_28[\"start_time\"]).mean()"
   ]
  },
  {
   "cell_type": "code",
   "execution_count": 17,
   "metadata": {},
   "outputs": [
    {
     "data": {
      "text/plain": [
       "3.404255319148936"
      ]
     },
     "execution_count": 17,
     "metadata": {},
     "output_type": "execute_result"
    }
   ],
   "source": [
    "(df_200[\"end_time\"] - df_200[\"start_time\"]).mean()"
   ]
  },
  {
   "cell_type": "code",
   "execution_count": 18,
   "metadata": {},
   "outputs": [
    {
     "data": {
      "text/plain": [
       "5.3319148936170215"
      ]
     },
     "execution_count": 18,
     "metadata": {},
     "output_type": "execute_result"
    }
   ],
   "source": [
    "(df_1000[\"end_time\"] - df_1000[\"start_time\"]).mean()"
   ]
  },
  {
   "cell_type": "code",
   "execution_count": 19,
   "metadata": {},
   "outputs": [
    {
     "data": {
      "text/plain": [
       "7.3525"
      ]
     },
     "execution_count": 19,
     "metadata": {},
     "output_type": "execute_result"
    }
   ],
   "source": [
    "(df_5000[\"end_time\"] - df_5000[\"start_time\"]).mean()"
   ]
  },
  {
   "cell_type": "code",
   "execution_count": 20,
   "metadata": {},
   "outputs": [
    {
     "data": {
      "text/plain": [
       "7.9325"
      ]
     },
     "execution_count": 20,
     "metadata": {},
     "output_type": "execute_result"
    }
   ],
   "source": [
    "(df_10000[\"end_time\"] - df_10000[\"start_time\"]).mean()"
   ]
  },
  {
   "cell_type": "code",
   "execution_count": 21,
   "metadata": {},
   "outputs": [
    {
     "data": {
      "text/plain": [
       "8.09"
      ]
     },
     "execution_count": 21,
     "metadata": {},
     "output_type": "execute_result"
    }
   ],
   "source": [
    "(df_20000[\"end_time\"] - df_20000[\"start_time\"]).mean()"
   ]
  },
  {
   "cell_type": "code",
   "execution_count": 22,
   "metadata": {},
   "outputs": [
    {
     "data": {
      "text/plain": [
       "8.36"
      ]
     },
     "execution_count": 22,
     "metadata": {},
     "output_type": "execute_result"
    }
   ],
   "source": [
    "(df_40000[\"end_time\"] - df_40000[\"start_time\"]).mean()"
   ]
  },
  {
   "cell_type": "code",
   "execution_count": null,
   "metadata": {},
   "outputs": [],
   "source": []
  },
  {
   "attachments": {},
   "cell_type": "markdown",
   "metadata": {},
   "source": [
    "#### Sending Data To Firestore"
   ]
  },
  {
   "cell_type": "code",
   "execution_count": 23,
   "metadata": {},
   "outputs": [],
   "source": [
    "cred = credentials.Certificate(\"/home/kurubal/Documents/Firebase/Language Level/Api Key/language-levels-firebase-adminsdk-u1m3n-87de34db73.json\")  # Language Level\n",
    "app = firebase_admin.initialize_app(cred)"
   ]
  },
  {
   "cell_type": "code",
   "execution_count": 24,
   "metadata": {},
   "outputs": [],
   "source": [
    "fire_db = firestore.client()"
   ]
  },
  {
   "attachments": {},
   "cell_type": "markdown",
   "metadata": {},
   "source": [
    "##### Language Data"
   ]
  },
  {
   "cell_type": "code",
   "execution_count": 25,
   "metadata": {},
   "outputs": [],
   "source": [
    "language_data = {\"languages\":[{\"id\":1, \"name\":\"English\"},{\"id\":2, \"name\":\"Turkish\"},{\"id\":3, \"name\":\"French\"},\n",
    "                              {\"id\":4,\"name\":\"Spanish\"},{\"id\":5, \"name\":\"Portuguese\"},{\"id\":6, \"name\":\"Dutch\"},\n",
    "                              {\"id\":7, \"name\":\"Italian\"},{\"id\":8, \"name\":\"German\"},{\"id\":9, \"name\":\"Arabic\"}]}"
   ]
  },
  {
   "cell_type": "code",
   "execution_count": 26,
   "metadata": {},
   "outputs": [],
   "source": [
    "#fire_db.collection(\"language-data\").document(\"languages\").set(language_data)"
   ]
  },
  {
   "attachments": {},
   "cell_type": "markdown",
   "metadata": {},
   "source": [
    "##### Language Detail"
   ]
  },
  {
   "attachments": {},
   "cell_type": "markdown",
   "metadata": {},
   "source": [
    "##### Absolute Beginner"
   ]
  },
  {
   "cell_type": "code",
   "execution_count": 27,
   "metadata": {},
   "outputs": [],
   "source": [
    "# Absolute Beginner Data\n",
    "end_time_list = df_28[\"end_time\"].to_list()\n",
    "video_id_list = df_28[\"video_id\"].to_list()\n",
    "start_time_list = df_28[\"start_time\"].to_list()"
   ]
  },
  {
   "cell_type": "code",
   "execution_count": 28,
   "metadata": {},
   "outputs": [],
   "source": [
    "firestore_beginner_data = zip(end_time_list,video_id_list,start_time_list)\n",
    "beginner_description_text = \"description\""
   ]
  },
  {
   "cell_type": "code",
   "execution_count": 29,
   "metadata": {},
   "outputs": [],
   "source": [
    "beginner_data_list = []\n",
    "for endtime, videoid, starttime in firestore_beginner_data:\n",
    "    data = {\"endTime\":endtime,\n",
    "            \"id\":videoid,\n",
    "            \"startTime\":starttime}\n",
    "    beginner_data_list.append(data)\n",
    "    \n",
    "#beginner_data_list   "
   ]
  },
  {
   "cell_type": "code",
   "execution_count": 30,
   "metadata": {},
   "outputs": [],
   "source": [
    "data_beginner = {\"description\":f\"{beginner_description_text}\", \"level\":0, \"levelName\":\"Absolute Beginner\", \"videos\":beginner_data_list}\n",
    "#data_beginner"
   ]
  },
  {
   "cell_type": "code",
   "execution_count": 31,
   "metadata": {},
   "outputs": [],
   "source": [
    "#fire_db.collection(\"language-detail-data\").document(f\"{lang_id}\").set(data_beginner)"
   ]
  },
  {
   "cell_type": "code",
   "execution_count": null,
   "metadata": {},
   "outputs": [],
   "source": []
  },
  {
   "attachments": {},
   "cell_type": "markdown",
   "metadata": {},
   "source": [
    "##### A1 Level"
   ]
  },
  {
   "cell_type": "code",
   "execution_count": 32,
   "metadata": {},
   "outputs": [],
   "source": [
    "# A1 Level Data\n",
    "end_time_list = df_200[\"end_time\"].to_list()\n",
    "video_id_list = df_200[\"video_id\"].to_list()\n",
    "start_time_list = df_200[\"start_time\"].to_list()"
   ]
  },
  {
   "cell_type": "code",
   "execution_count": 33,
   "metadata": {},
   "outputs": [],
   "source": [
    "firestore_A1_data = zip(end_time_list,video_id_list,start_time_list)\n",
    "A1_description_text = \"A1 level description\""
   ]
  },
  {
   "cell_type": "code",
   "execution_count": 34,
   "metadata": {},
   "outputs": [],
   "source": [
    "A1_data_list = []\n",
    "for endtime, videoid, starttime in firestore_A1_data:\n",
    "    data = {\"endTime\":endtime,\n",
    "            \"id\":videoid,\n",
    "            \"startTime\":starttime}\n",
    "    A1_data_list.append(data)\n",
    "\n",
    "#A1_data_list   "
   ]
  },
  {
   "cell_type": "code",
   "execution_count": 35,
   "metadata": {},
   "outputs": [],
   "source": [
    "data_A1 = {\"description\":f\"{A1_description_text}\", \"level\":1, \"levelName\":\"A1\", \"videos\":A1_data_list}\n",
    "#data_A1"
   ]
  },
  {
   "cell_type": "code",
   "execution_count": null,
   "metadata": {},
   "outputs": [],
   "source": []
  },
  {
   "attachments": {},
   "cell_type": "markdown",
   "metadata": {},
   "source": [
    "##### A2 Level"
   ]
  },
  {
   "cell_type": "code",
   "execution_count": 36,
   "metadata": {},
   "outputs": [],
   "source": [
    "# A2 Level Data\n",
    "end_time_list = df_1000[\"end_time\"].to_list()\n",
    "video_id_list = df_1000[\"video_id\"].to_list()\n",
    "start_time_list = df_1000[\"start_time\"].to_list()"
   ]
  },
  {
   "cell_type": "code",
   "execution_count": 37,
   "metadata": {},
   "outputs": [],
   "source": [
    "firestore_A2_data = zip(end_time_list,video_id_list,start_time_list)\n",
    "A2_description_text = \"A2 level description\""
   ]
  },
  {
   "cell_type": "code",
   "execution_count": 38,
   "metadata": {},
   "outputs": [],
   "source": [
    "A2_data_list = []\n",
    "for endtime, videoid, starttime in firestore_A2_data:\n",
    "    data = {\"endTime\":endtime,\n",
    "            \"id\":videoid,\n",
    "            \"startTime\":starttime}\n",
    "    A2_data_list.append(data)\n",
    "\n",
    "#A2_data_list   "
   ]
  },
  {
   "cell_type": "code",
   "execution_count": 39,
   "metadata": {},
   "outputs": [],
   "source": [
    "data_A2 = {\"description\":f\"{A2_description_text}\", \"level\":2, \"levelName\":\"A2\", \"videos\":A2_data_list}\n",
    "#data_A2"
   ]
  },
  {
   "cell_type": "code",
   "execution_count": null,
   "metadata": {},
   "outputs": [],
   "source": []
  },
  {
   "attachments": {},
   "cell_type": "markdown",
   "metadata": {},
   "source": [
    "##### B1 Level"
   ]
  },
  {
   "cell_type": "code",
   "execution_count": 40,
   "metadata": {},
   "outputs": [],
   "source": [
    "# B1 Level Data\n",
    "end_time_list = df_5000[\"end_time\"].to_list()\n",
    "video_id_list = df_5000[\"video_id\"].to_list()\n",
    "start_time_list = df_5000[\"start_time\"].to_list()"
   ]
  },
  {
   "cell_type": "code",
   "execution_count": 41,
   "metadata": {},
   "outputs": [],
   "source": [
    "firestore_B1_data = zip(end_time_list,video_id_list,start_time_list)\n",
    "B1_description_text = \"B1 level description\""
   ]
  },
  {
   "cell_type": "code",
   "execution_count": 42,
   "metadata": {},
   "outputs": [],
   "source": [
    "B1_data_list = []\n",
    "for endtime, videoid, starttime in firestore_B1_data:\n",
    "    data = {\"endTime\":endtime,\n",
    "            \"id\":videoid,\n",
    "            \"startTime\":starttime}\n",
    "    B1_data_list.append(data)\n",
    "\n",
    "#B1_data_list   "
   ]
  },
  {
   "cell_type": "code",
   "execution_count": 43,
   "metadata": {},
   "outputs": [],
   "source": [
    "data_B1 = {\"description\":f\"{B1_description_text}\", \"level\":3, \"levelName\":\"B1\", \"videos\":B1_data_list}\n",
    "#data_B1"
   ]
  },
  {
   "cell_type": "code",
   "execution_count": null,
   "metadata": {},
   "outputs": [],
   "source": []
  },
  {
   "attachments": {},
   "cell_type": "markdown",
   "metadata": {},
   "source": [
    "##### B2 Level"
   ]
  },
  {
   "cell_type": "code",
   "execution_count": 44,
   "metadata": {},
   "outputs": [],
   "source": [
    "# B2 Level Data\n",
    "end_time_list = df_10000[\"end_time\"].to_list()\n",
    "video_id_list = df_10000[\"video_id\"].to_list()\n",
    "start_time_list = df_10000[\"start_time\"].to_list()"
   ]
  },
  {
   "cell_type": "code",
   "execution_count": 45,
   "metadata": {},
   "outputs": [],
   "source": [
    "firestore_B2_data = zip(end_time_list,video_id_list,start_time_list)\n",
    "B2_description_text = \"B2 level description\""
   ]
  },
  {
   "cell_type": "code",
   "execution_count": 46,
   "metadata": {},
   "outputs": [],
   "source": [
    "B2_data_list = []\n",
    "for endtime, videoid, starttime in firestore_B2_data:\n",
    "    data = {\"endTime\":endtime,\n",
    "            \"id\":videoid,\n",
    "            \"startTime\":starttime}\n",
    "    B2_data_list.append(data)\n",
    "\n",
    "#B2_data_list   "
   ]
  },
  {
   "cell_type": "code",
   "execution_count": 47,
   "metadata": {},
   "outputs": [],
   "source": [
    "data_B2 = {\"description\":f\"{B2_description_text}\", \"level\":4, \"levelName\":\"B2\", \"videos\":B2_data_list}\n",
    "#data_B2"
   ]
  },
  {
   "cell_type": "code",
   "execution_count": null,
   "metadata": {},
   "outputs": [],
   "source": []
  },
  {
   "attachments": {},
   "cell_type": "markdown",
   "metadata": {},
   "source": [
    "##### C1 Level"
   ]
  },
  {
   "cell_type": "code",
   "execution_count": 48,
   "metadata": {},
   "outputs": [],
   "source": [
    "# C1 Level Data\n",
    "video_id_list = df_20000[\"video_id\"].to_list()\n",
    "end_time_list = df_20000[\"end_time\"].to_list()\n",
    "start_time_list = df_20000[\"start_time\"].to_list()"
   ]
  },
  {
   "cell_type": "code",
   "execution_count": 49,
   "metadata": {},
   "outputs": [],
   "source": [
    "firestore_C1_data = zip(end_time_list,video_id_list,start_time_list)\n",
    "C1_description_text = \"C1 level description\""
   ]
  },
  {
   "cell_type": "code",
   "execution_count": 50,
   "metadata": {},
   "outputs": [],
   "source": [
    "C1_data_list = []\n",
    "for endtime, videoid, starttime in firestore_C1_data:\n",
    "    data = {\"endTime\":endtime,\n",
    "            \"id\":videoid,\n",
    "            \"startTime\":starttime}\n",
    "    C1_data_list.append(data)\n",
    "\n",
    "#C1_data_list   "
   ]
  },
  {
   "cell_type": "code",
   "execution_count": 51,
   "metadata": {},
   "outputs": [],
   "source": [
    "data_C1 = {\"description\":f\"{C1_description_text}\", \"level\":5, \"levelName\":\"C1\", \"videos\":C1_data_list}\n",
    "#data_C1"
   ]
  },
  {
   "cell_type": "code",
   "execution_count": null,
   "metadata": {},
   "outputs": [],
   "source": []
  },
  {
   "attachments": {},
   "cell_type": "markdown",
   "metadata": {},
   "source": [
    "##### C2 Level"
   ]
  },
  {
   "cell_type": "code",
   "execution_count": 52,
   "metadata": {},
   "outputs": [],
   "source": [
    "# C2 Level Data\n",
    "video_id_list = df_40000[\"video_id\"].to_list()\n",
    "end_time_list = df_40000[\"end_time\"].to_list()\n",
    "start_time_list = df_40000[\"start_time\"].to_list()"
   ]
  },
  {
   "cell_type": "code",
   "execution_count": 53,
   "metadata": {},
   "outputs": [],
   "source": [
    "firestore_C2_data = zip(end_time_list,video_id_list,start_time_list)\n",
    "C2_description_text = \"C2 level description\""
   ]
  },
  {
   "cell_type": "code",
   "execution_count": 54,
   "metadata": {},
   "outputs": [],
   "source": [
    "C2_data_list = []\n",
    "for endtime, videoid, starttime in firestore_C2_data:\n",
    "    data = {\"endTime\":endtime,\n",
    "            \"id\":videoid,\n",
    "            \"startTime\":starttime}\n",
    "    C2_data_list.append(data)\n",
    "\n",
    "#C2_data_list   "
   ]
  },
  {
   "cell_type": "code",
   "execution_count": 55,
   "metadata": {},
   "outputs": [],
   "source": [
    "data_C2 = {\"description\":f\"{C2_description_text}\", \"level\":6, \"levelName\":\"C2\", \"videos\":C2_data_list}\n",
    "#data_C2"
   ]
  },
  {
   "cell_type": "code",
   "execution_count": null,
   "metadata": {},
   "outputs": [],
   "source": []
  },
  {
   "attachments": {},
   "cell_type": "markdown",
   "metadata": {},
   "source": [
    "##### All Data Sending"
   ]
  },
  {
   "cell_type": "code",
   "execution_count": 56,
   "metadata": {},
   "outputs": [],
   "source": [
    "data_all = {\"datas\":[data_beginner, data_A1, data_A2, data_B1, data_B2, data_C1, data_C2]}\n",
    "#data_all"
   ]
  },
  {
   "cell_type": "code",
   "execution_count": 57,
   "metadata": {},
   "outputs": [
    {
     "data": {
      "text/plain": [
       "update_time {\n",
       "  seconds: 1683640524\n",
       "  nanos: 931072000\n",
       "}"
      ]
     },
     "execution_count": 57,
     "metadata": {},
     "output_type": "execute_result"
    }
   ],
   "source": [
    "fire_db.collection(\"language-detail-data\").document(f\"{lang_id}\").set(data_all)"
   ]
  },
  {
   "cell_type": "code",
   "execution_count": null,
   "metadata": {},
   "outputs": [],
   "source": []
  },
  {
   "cell_type": "code",
   "execution_count": null,
   "metadata": {},
   "outputs": [],
   "source": []
  },
  {
   "cell_type": "code",
   "execution_count": null,
   "metadata": {},
   "outputs": [],
   "source": []
  }
 ],
 "metadata": {
  "kernelspec": {
   "display_name": "Python 3.9.5 ('py39')",
   "language": "python",
   "name": "python3"
  },
  "language_info": {
   "codemirror_mode": {
    "name": "ipython",
    "version": 3
   },
   "file_extension": ".py",
   "mimetype": "text/x-python",
   "name": "python",
   "nbconvert_exporter": "python",
   "pygments_lexer": "ipython3",
   "version": "3.9.5"
  },
  "orig_nbformat": 4,
  "vscode": {
   "interpreter": {
    "hash": "651d507d70892fab0fc6529d935cd476f6e2eb1791525b76da6cc8da34bc0503"
   }
  }
 },
 "nbformat": 4,
 "nbformat_minor": 2
}
