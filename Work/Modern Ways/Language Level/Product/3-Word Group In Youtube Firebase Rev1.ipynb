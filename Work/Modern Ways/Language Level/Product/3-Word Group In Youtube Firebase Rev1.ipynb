{
 "cells": [
  {
   "cell_type": "markdown",
   "metadata": {},
   "source": [
    "### Word Group In Youtube Firebase"
   ]
  },
  {
   "cell_type": "code",
   "execution_count": null,
   "metadata": {},
   "outputs": [],
   "source": [
    "import firebase_admin\n",
    "from firebase_admin import credentials, firestore, storage"
   ]
  },
  {
   "cell_type": "code",
   "execution_count": null,
   "metadata": {},
   "outputs": [],
   "source": [
    "import os\n",
    "import multiprocessing\n",
    "#import multiprocessing as mp\n",
    "from multiprocessing import Process, Manager, Pool, Queue\n",
    "from itertools import islice\n",
    "from collections import Counter\n",
    "import re\n",
    "import pandas as pd\n",
    "import numpy as np\n",
    "import glob\n",
    "import nltk\n",
    "from nltk import word_tokenize\n",
    "from functools import reduce\n",
    "from pathlib import Path\n",
    "import shutil"
   ]
  },
  {
   "cell_type": "code",
   "execution_count": null,
   "metadata": {},
   "outputs": [],
   "source": [
    "nprocs = multiprocessing.cpu_count()\n",
    "print(f\"Number of CPU cores: {nprocs}\")"
   ]
  },
  {
   "cell_type": "code",
   "execution_count": null,
   "metadata": {},
   "outputs": [],
   "source": [
    "# language pair\n",
    "lang_folder = \"French\"  # Arabic, English, French, German, Turkish, Spanish, Portuguese, Dutch, Italian ==> target language for learner\n",
    "#lang_pair = \"English\"  # Arabic, English, French, German, Turkish, Spanish, Portuguese, Dutch, Italian ==> native language\n",
    "\n",
    "# language detail num\n",
    "if lang_folder == \"English\":\n",
    "    lang_id = \"1\"\n",
    "elif lang_folder == \"Turkish\":\n",
    "    lang_id = \"2\"\n",
    "elif lang_folder == \"French\":\n",
    "    lang_id = \"3\"\n",
    "elif lang_folder == \"Spanish\":\n",
    "    lang_id = \"4\"\n",
    "elif lang_folder == \"Portuguese\":\n",
    "    lang_id = \"5\"\n",
    "elif lang_folder == \"Dutch\":\n",
    "    lang_id = \"6\"\n",
    "elif lang_folder == \"Italian\":\n",
    "    lang_id = \"7\"\n",
    "elif lang_folder == \"German\":\n",
    "    lang_id = \"8\"\n",
    "elif lang_folder == \"Arabic\":\n",
    "    lang_id = \"9\"\n",
    "else:\n",
    "    pass\n",
    "\n",
    "# prefix suffix file\n",
    "prefix_suffix = False  # True, False  # True for adding prefix suffix word\n",
    "native_word = True # True for adding native word\n",
    "\n",
    "# adding output file extention\n",
    "if prefix_suffix & native_word:\n",
    "    file_ext = \"5\"\n",
    "elif (not prefix_suffix) & native_word:\n",
    "    file_ext = \"6\"\n",
    "else:\n",
    "    file_ext = \"7\"              \n",
    "\n",
    "# 5 => for only native word with prefix suffix.\n",
    "# 6 => for only native word without prefix suffix.\n",
    "\n",
    "print(f\"Language = {lang_folder}\\nLang Id = {lang_id}\\nFile Extention = {file_ext}\")"
   ]
  },
  {
   "cell_type": "code",
   "execution_count": null,
   "metadata": {},
   "outputs": [],
   "source": [
    "path = f\"/media/kurubal/SSD/Data Scientist/Work/Modern Ways/Project/{lang_folder.capitalize()}/\\\n",
    "Language Level/Result/3-Word Group In Youtube Sentence Firebase\"\n",
    "\n",
    "#Path(path).mkdir(parents=True, exist_ok=True)"
   ]
  },
  {
   "cell_type": "code",
   "execution_count": null,
   "metadata": {},
   "outputs": [],
   "source": [
    "#cred = credentials.Certificate(\"/home/kurubal/Documents/Firebase/Flash Card/Api Key/flashcard-1c46e-firebase-adminsdk-b4kn5-5ddbde56b3.json\")  # Flash Card\n",
    "cred = credentials.Certificate(\"/home/kurubal/Documents/Firebase/Language Level/Api Key/language-levels-firebase-adminsdk-u1m3n-87de34db73.json\")  # Language Level\n",
    "app = firebase_admin.initialize_app(cred)"
   ]
  },
  {
   "cell_type": "code",
   "execution_count": null,
   "metadata": {},
   "outputs": [],
   "source": [
    "fire_db = firestore.client()"
   ]
  },
  {
   "cell_type": "markdown",
   "metadata": {},
   "source": [
    "#### Read Data"
   ]
  },
  {
   "cell_type": "code",
   "execution_count": null,
   "metadata": {},
   "outputs": [],
   "source": [
    "#parent_folder_path = f\"/media/kurubal/SSD/Data Scientist/Work/Modern Ways/Project/{lang_folder.capitalize()}/Language Level/Data/1-Word Group In Youtube Sentence\"\n",
    "parent_folder_path = f\"/media/kurubal/SSD/Data Scientist/Work/Modern Ways/Project/{lang_folder.capitalize()}/Language Level/Result/2-Word Group Prepare For Youtube Tool\""
   ]
  },
  {
   "cell_type": "code",
   "execution_count": null,
   "metadata": {},
   "outputs": [],
   "source": [
    "#df_28 = pd.read_csv(f\"{parent_folder_path}/{lang_folder.capitalize()}_Word_Group_Max_In_Youtube_Sentence_28_Word{file_ext}.csv\")\n",
    "df_28 = pd.read_excel(f\"{parent_folder_path}/{lang_folder.capitalize()}_Word_Group_Max_In_Youtube_Sentence_28_Word{file_ext}.xlsx\")\n",
    "df_28 = df_28.head(200)\n",
    "df_28"
   ]
  },
  {
   "cell_type": "code",
   "execution_count": null,
   "metadata": {},
   "outputs": [],
   "source": [
    "#df_200 = pd.read_csv(f\"{parent_folder_path}/{lang_folder.capitalize()}_Word_Group_Max_In_Youtube_Sentence_200_Word{file_ext}.csv\")\n",
    "df_200 = pd.read_excel(f\"{parent_folder_path}/{lang_folder.capitalize()}_Word_Group_Max_In_Youtube_Sentence_200_Word{file_ext}.xlsx\")\n",
    "df_200 = df_200.head(200)\n",
    "df_200"
   ]
  },
  {
   "cell_type": "code",
   "execution_count": null,
   "metadata": {},
   "outputs": [],
   "source": [
    "#df_1000 = pd.read_csv(f\"{parent_folder_path}/{lang_folder.capitalize()}_Word_Group_Max_In_Youtube_Sentence_1000_Word{file_ext}.csv\")\n",
    "df_1000 = pd.read_excel(f\"{parent_folder_path}/{lang_folder.capitalize()}_Word_Group_Max_In_Youtube_Sentence_1000_Word{file_ext}.xlsx\")\n",
    "df_1000 = df_1000.head(200)\n",
    "df_1000"
   ]
  },
  {
   "cell_type": "code",
   "execution_count": null,
   "metadata": {},
   "outputs": [],
   "source": [
    "#df_5000 = pd.read_csv(f\"{parent_folder_path}/{lang_folder.capitalize()}_Word_Group_Max_In_Youtube_Sentence_5000_Word{file_ext}.csv\")\n",
    "df_5000 = pd.read_excel(f\"{parent_folder_path}/{lang_folder.capitalize()}_Word_Group_Max_In_Youtube_Sentence_5000_Word{file_ext}.xlsx\")\n",
    "df_5000 = df_5000.head(200)\n",
    "df_5000"
   ]
  },
  {
   "cell_type": "code",
   "execution_count": null,
   "metadata": {},
   "outputs": [],
   "source": [
    "#df_10000 = pd.read_csv(f\"{parent_folder_path}/{lang_folder.capitalize()}_Word_Group_Max_In_Youtube_Sentence_10000_Word{file_ext}.csv\")\n",
    "df_10000 = pd.read_excel(f\"{parent_folder_path}/{lang_folder.capitalize()}_Word_Group_Max_In_Youtube_Sentence_10000_Word{file_ext}.xlsx\")\n",
    "df_10000 = df_10000.head(200)\n",
    "df_10000"
   ]
  },
  {
   "cell_type": "code",
   "execution_count": null,
   "metadata": {},
   "outputs": [],
   "source": [
    "#df_20000 = pd.read_csv(f\"{parent_folder_path}/{lang_folder.capitalize()}_Word_Group_Max_In_Youtube_Sentence_20000_Word{file_ext}.csv\")\n",
    "df_20000 = pd.read_excel(f\"{parent_folder_path}/{lang_folder.capitalize()}_Word_Group_Max_In_Youtube_Sentence_20000_Word{file_ext}.xlsx\")\n",
    "df_20000 = df_20000.head(200)\n",
    "df_20000"
   ]
  },
  {
   "cell_type": "code",
   "execution_count": null,
   "metadata": {},
   "outputs": [],
   "source": [
    "#df_40000 = pd.read_csv(f\"{parent_folder_path}/{lang_folder.capitalize()}_Word_Group_Max_In_Youtube_Sentence_40000_Word{file_ext}.csv\")\n",
    "df_40000 = pd.read_excel(f\"{parent_folder_path}/{lang_folder.capitalize()}_Word_Group_Max_In_Youtube_Sentence_40000_Word{file_ext}.xlsx\")\n",
    "df_40000 = df_40000.head(200)\n",
    "df_40000"
   ]
  },
  {
   "cell_type": "code",
   "execution_count": null,
   "metadata": {},
   "outputs": [],
   "source": []
  },
  {
   "cell_type": "markdown",
   "metadata": {},
   "source": [
    "#### Sending Data To Firestore"
   ]
  },
  {
   "cell_type": "markdown",
   "metadata": {},
   "source": [
    "##### Language Data"
   ]
  },
  {
   "cell_type": "code",
   "execution_count": null,
   "metadata": {},
   "outputs": [],
   "source": [
    "language_data = {\"languages\":[{\"id\":1, \"name\":\"English\"},{\"id\":2, \"name\":\"Turkish\"},{\"id\":3, \"name\":\"French\"},\n",
    "                              {\"id\":4,\"name\":\"Spanish\"},{\"id\":5, \"name\":\"Portuguese\"},{\"id\":6, \"name\":\"Dutch\"},\n",
    "                              {\"id\":7, \"name\":\"Italian\"},{\"id\":8, \"name\":\"German\"},{\"id\":9, \"name\":\"Arabic\"}]}"
   ]
  },
  {
   "cell_type": "code",
   "execution_count": null,
   "metadata": {},
   "outputs": [],
   "source": [
    "#fire_db.collection(\"language-data\").document(\"languages\").set(language_data)"
   ]
  },
  {
   "cell_type": "markdown",
   "metadata": {},
   "source": [
    "##### Language Detail"
   ]
  },
  {
   "cell_type": "markdown",
   "metadata": {},
   "source": [
    "##### Absolute Beginner"
   ]
  },
  {
   "cell_type": "code",
   "execution_count": null,
   "metadata": {},
   "outputs": [],
   "source": [
    "# Absolute Beginner Data\n",
    "end_time_list = df_28[\"end_time\"].to_list()\n",
    "video_id_list = df_28[\"video_id\"].to_list()\n",
    "start_time_list = df_28[\"start_time\"].to_list()"
   ]
  },
  {
   "cell_type": "code",
   "execution_count": null,
   "metadata": {},
   "outputs": [],
   "source": [
    "firestore_beginner_data = zip(end_time_list,video_id_list,start_time_list)\n",
    "beginner_description_text = \"description\""
   ]
  },
  {
   "cell_type": "code",
   "execution_count": null,
   "metadata": {},
   "outputs": [],
   "source": [
    "beginner_data_list = []\n",
    "for endtime, videoid, starttime in firestore_beginner_data:\n",
    "    data = {\"endTime\":endtime,\n",
    "            \"id\":videoid,\n",
    "            \"startTime\":starttime}\n",
    "    beginner_data_list.append(data)\n",
    "    \n",
    "#beginner_data_list   "
   ]
  },
  {
   "cell_type": "code",
   "execution_count": null,
   "metadata": {},
   "outputs": [],
   "source": [
    "data_beginner = {\"description\":f\"{beginner_description_text}\", \"level\":0, \"levelName\":\"Absolute Beginner\", \"videos\":beginner_data_list}\n",
    "#data_beginner"
   ]
  },
  {
   "cell_type": "code",
   "execution_count": null,
   "metadata": {},
   "outputs": [],
   "source": [
    "#fire_db.collection(\"language-detail-data\").document(f\"{lang_id}\").set(data_beginner)"
   ]
  },
  {
   "cell_type": "code",
   "execution_count": null,
   "metadata": {},
   "outputs": [],
   "source": []
  },
  {
   "cell_type": "markdown",
   "metadata": {},
   "source": [
    "##### A1 Level"
   ]
  },
  {
   "cell_type": "code",
   "execution_count": null,
   "metadata": {},
   "outputs": [],
   "source": [
    "# A1 Level Data\n",
    "end_time_list = df_200[\"end_time\"].to_list()\n",
    "video_id_list = df_200[\"video_id\"].to_list()\n",
    "start_time_list = df_200[\"start_time\"].to_list()"
   ]
  },
  {
   "cell_type": "code",
   "execution_count": null,
   "metadata": {},
   "outputs": [],
   "source": [
    "firestore_A1_data = zip(end_time_list,video_id_list,start_time_list)\n",
    "A1_description_text = \"A1 level description\""
   ]
  },
  {
   "cell_type": "code",
   "execution_count": null,
   "metadata": {},
   "outputs": [],
   "source": [
    "A1_data_list = []\n",
    "for endtime, videoid, starttime in firestore_A1_data:\n",
    "    data = {\"endTime\":endtime,\n",
    "            \"id\":videoid,\n",
    "            \"startTime\":starttime}\n",
    "    A1_data_list.append(data)\n",
    "\n",
    "#A1_data_list   "
   ]
  },
  {
   "cell_type": "code",
   "execution_count": null,
   "metadata": {},
   "outputs": [],
   "source": [
    "data_A1 = {\"description\":f\"{A1_description_text}\", \"level\":1, \"levelName\":\"A1\", \"videos\":A1_data_list}\n",
    "#data_A1"
   ]
  },
  {
   "cell_type": "code",
   "execution_count": null,
   "metadata": {},
   "outputs": [],
   "source": []
  },
  {
   "cell_type": "markdown",
   "metadata": {},
   "source": [
    "##### A2 Level"
   ]
  },
  {
   "cell_type": "code",
   "execution_count": null,
   "metadata": {},
   "outputs": [],
   "source": [
    "# A2 Level Data\n",
    "end_time_list = df_1000[\"end_time\"].to_list()\n",
    "video_id_list = df_1000[\"video_id\"].to_list()\n",
    "start_time_list = df_1000[\"start_time\"].to_list()"
   ]
  },
  {
   "cell_type": "code",
   "execution_count": null,
   "metadata": {},
   "outputs": [],
   "source": [
    "firestore_A2_data = zip(end_time_list,video_id_list,start_time_list)\n",
    "A2_description_text = \"A2 level description\""
   ]
  },
  {
   "cell_type": "code",
   "execution_count": null,
   "metadata": {},
   "outputs": [],
   "source": [
    "A2_data_list = []\n",
    "for endtime, videoid, starttime in firestore_A2_data:\n",
    "    data = {\"endTime\":endtime,\n",
    "            \"id\":videoid,\n",
    "            \"startTime\":starttime}\n",
    "    A2_data_list.append(data)\n",
    "\n",
    "#A2_data_list   "
   ]
  },
  {
   "cell_type": "code",
   "execution_count": null,
   "metadata": {},
   "outputs": [],
   "source": [
    "data_A2 = {\"description\":f\"{A2_description_text}\", \"level\":2, \"levelName\":\"A2\", \"videos\":A2_data_list}\n",
    "#data_A2"
   ]
  },
  {
   "cell_type": "code",
   "execution_count": null,
   "metadata": {},
   "outputs": [],
   "source": []
  },
  {
   "cell_type": "markdown",
   "metadata": {},
   "source": [
    "##### B1 Level"
   ]
  },
  {
   "cell_type": "code",
   "execution_count": null,
   "metadata": {},
   "outputs": [],
   "source": [
    "# B1 Level Data\n",
    "end_time_list = df_5000[\"end_time\"].to_list()\n",
    "video_id_list = df_5000[\"video_id\"].to_list()\n",
    "start_time_list = df_5000[\"start_time\"].to_list()"
   ]
  },
  {
   "cell_type": "code",
   "execution_count": null,
   "metadata": {},
   "outputs": [],
   "source": [
    "firestore_B1_data = zip(end_time_list,video_id_list,start_time_list)\n",
    "B1_description_text = \"B1 level description\""
   ]
  },
  {
   "cell_type": "code",
   "execution_count": null,
   "metadata": {},
   "outputs": [],
   "source": [
    "B1_data_list = []\n",
    "for endtime, videoid, starttime in firestore_B1_data:\n",
    "    data = {\"endTime\":endtime,\n",
    "            \"id\":videoid,\n",
    "            \"startTime\":starttime}\n",
    "    B1_data_list.append(data)\n",
    "\n",
    "#B1_data_list   "
   ]
  },
  {
   "cell_type": "code",
   "execution_count": null,
   "metadata": {},
   "outputs": [],
   "source": [
    "data_B1 = {\"description\":f\"{B1_description_text}\", \"level\":3, \"levelName\":\"B1\", \"videos\":B1_data_list}\n",
    "#data_B1"
   ]
  },
  {
   "cell_type": "code",
   "execution_count": null,
   "metadata": {},
   "outputs": [],
   "source": []
  },
  {
   "cell_type": "markdown",
   "metadata": {},
   "source": [
    "##### B2 Level"
   ]
  },
  {
   "cell_type": "code",
   "execution_count": null,
   "metadata": {},
   "outputs": [],
   "source": [
    "# B2 Level Data\n",
    "end_time_list = df_10000[\"end_time\"].to_list()\n",
    "video_id_list = df_10000[\"video_id\"].to_list()\n",
    "start_time_list = df_10000[\"start_time\"].to_list()"
   ]
  },
  {
   "cell_type": "code",
   "execution_count": null,
   "metadata": {},
   "outputs": [],
   "source": [
    "firestore_B2_data = zip(end_time_list,video_id_list,start_time_list)\n",
    "B2_description_text = \"B2 level description\""
   ]
  },
  {
   "cell_type": "code",
   "execution_count": null,
   "metadata": {},
   "outputs": [],
   "source": [
    "B2_data_list = []\n",
    "for endtime, videoid, starttime in firestore_B2_data:\n",
    "    data = {\"endTime\":endtime,\n",
    "            \"id\":videoid,\n",
    "            \"startTime\":starttime}\n",
    "    B2_data_list.append(data)\n",
    "\n",
    "#B2_data_list   "
   ]
  },
  {
   "cell_type": "code",
   "execution_count": null,
   "metadata": {},
   "outputs": [],
   "source": [
    "data_B2 = {\"description\":f\"{B2_description_text}\", \"level\":4, \"levelName\":\"B2\", \"videos\":B2_data_list}\n",
    "#data_B2"
   ]
  },
  {
   "cell_type": "code",
   "execution_count": null,
   "metadata": {},
   "outputs": [],
   "source": []
  },
  {
   "cell_type": "markdown",
   "metadata": {},
   "source": [
    "##### C1 Level"
   ]
  },
  {
   "cell_type": "code",
   "execution_count": null,
   "metadata": {},
   "outputs": [],
   "source": [
    "# C1 Level Data\n",
    "video_id_list = df_20000[\"video_id\"].to_list()\n",
    "end_time_list = df_20000[\"end_time\"].to_list()\n",
    "start_time_list = df_20000[\"start_time\"].to_list()"
   ]
  },
  {
   "cell_type": "code",
   "execution_count": null,
   "metadata": {},
   "outputs": [],
   "source": [
    "firestore_C1_data = zip(end_time_list,video_id_list,start_time_list)\n",
    "C1_description_text = \"C1 level description\""
   ]
  },
  {
   "cell_type": "code",
   "execution_count": null,
   "metadata": {},
   "outputs": [],
   "source": [
    "C1_data_list = []\n",
    "for endtime, videoid, starttime in firestore_C1_data:\n",
    "    data = {\"endTime\":endtime,\n",
    "            \"id\":videoid,\n",
    "            \"startTime\":starttime}\n",
    "    C1_data_list.append(data)\n",
    "\n",
    "#C1_data_list   "
   ]
  },
  {
   "cell_type": "code",
   "execution_count": null,
   "metadata": {},
   "outputs": [],
   "source": [
    "data_C1 = {\"description\":f\"{C1_description_text}\", \"level\":5, \"levelName\":\"C1\", \"videos\":C1_data_list}\n",
    "#data_C1"
   ]
  },
  {
   "cell_type": "code",
   "execution_count": null,
   "metadata": {},
   "outputs": [],
   "source": []
  },
  {
   "cell_type": "markdown",
   "metadata": {},
   "source": [
    "##### C2 Level"
   ]
  },
  {
   "cell_type": "code",
   "execution_count": null,
   "metadata": {},
   "outputs": [],
   "source": [
    "# C2 Level Data\n",
    "video_id_list = df_40000[\"video_id\"].to_list()\n",
    "end_time_list = df_40000[\"end_time\"].to_list()\n",
    "start_time_list = df_40000[\"start_time\"].to_list()"
   ]
  },
  {
   "cell_type": "code",
   "execution_count": null,
   "metadata": {},
   "outputs": [],
   "source": [
    "firestore_C2_data = zip(end_time_list,video_id_list,start_time_list)\n",
    "C2_description_text = \"C2 level description\""
   ]
  },
  {
   "cell_type": "code",
   "execution_count": null,
   "metadata": {},
   "outputs": [],
   "source": [
    "C2_data_list = []\n",
    "for endtime, videoid, starttime in firestore_C2_data:\n",
    "    data = {\"endTime\":endtime,\n",
    "            \"id\":videoid,\n",
    "            \"startTime\":starttime}\n",
    "    C2_data_list.append(data)\n",
    "\n",
    "#C2_data_list   "
   ]
  },
  {
   "cell_type": "code",
   "execution_count": null,
   "metadata": {},
   "outputs": [],
   "source": [
    "data_C2 = {\"description\":f\"{C2_description_text}\", \"level\":6, \"levelName\":\"C2\", \"videos\":C2_data_list}\n",
    "#data_C2"
   ]
  },
  {
   "cell_type": "code",
   "execution_count": null,
   "metadata": {},
   "outputs": [],
   "source": []
  },
  {
   "cell_type": "markdown",
   "metadata": {},
   "source": [
    "##### All Data Sending"
   ]
  },
  {
   "cell_type": "code",
   "execution_count": null,
   "metadata": {},
   "outputs": [],
   "source": [
    "data_all = {\"datas\":[data_beginner, data_A1, data_A2, data_B1, data_B2, data_C1, data_C2]}\n",
    "#data_all"
   ]
  },
  {
   "cell_type": "code",
   "execution_count": null,
   "metadata": {},
   "outputs": [],
   "source": [
    "fire_db.collection(\"language-detail-data\").document(f\"{lang_id}\").set(data_all)"
   ]
  },
  {
   "cell_type": "code",
   "execution_count": null,
   "metadata": {},
   "outputs": [],
   "source": []
  },
  {
   "cell_type": "code",
   "execution_count": null,
   "metadata": {},
   "outputs": [],
   "source": []
  },
  {
   "cell_type": "code",
   "execution_count": null,
   "metadata": {},
   "outputs": [],
   "source": []
  }
 ],
 "metadata": {
  "kernelspec": {
   "display_name": "Python 3.9.5 ('py39')",
   "language": "python",
   "name": "python3"
  },
  "language_info": {
   "codemirror_mode": {
    "name": "ipython",
    "version": 3
   },
   "file_extension": ".py",
   "mimetype": "text/x-python",
   "name": "python",
   "nbconvert_exporter": "python",
   "pygments_lexer": "ipython3",
   "version": "3.9.5"
  },
  "orig_nbformat": 4,
  "vscode": {
   "interpreter": {
    "hash": "651d507d70892fab0fc6529d935cd476f6e2eb1791525b76da6cc8da34bc0503"
   }
  }
 },
 "nbformat": 4,
 "nbformat_minor": 2
}
