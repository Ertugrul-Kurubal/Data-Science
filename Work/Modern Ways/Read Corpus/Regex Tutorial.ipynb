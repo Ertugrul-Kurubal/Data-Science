{
 "cells": [
  {
   "cell_type": "code",
   "execution_count": 1,
   "metadata": {},
   "outputs": [],
   "source": [
    "import numpy as np\n",
    "import pandas as pd\n",
    "import matplotlib.pyplot as plt\n",
    "import seaborn as sns\n",
    "import re"
   ]
  },
  {
   "cell_type": "markdown",
   "metadata": {},
   "source": [
    "#### Sub"
   ]
  },
  {
   "cell_type": "code",
   "execution_count": 2,
   "metadata": {},
   "outputs": [
    {
     "name": "stdout",
     "output_type": "stream",
     "text": [
      "There is not such a file  or path is incorrect\n"
     ]
    }
   ],
   "source": [
    "# try:\n",
    "#   with open(\"af.txt\", \"r\", encoding=\"utf-8\") as file:\n",
    "#     text_data = file.read() # Plain text\n",
    "#     print(text_data)\n",
    "# except:\n",
    "#   print(\"There is not such a file  or path is incorrect\")"
   ]
  },
  {
   "cell_type": "code",
   "execution_count": 18,
   "metadata": {},
   "outputs": [
    {
     "name": "stdout",
     "output_type": "stream",
     "text": [
      "['Is u nog daar, Graaf Andrassy?\\n', 'Ja, U Majesteit\\n', '- Waarnatoe gaan ons nou?\\n', '- ek dink hiernatoe\\n', 'Nee, ek dink hierheen\\n', 'Ek dink ons is verdwaal\\n', 'Ek is bevrees u is reg, ons moet omdraai\\n', \"Nee, ek hou nie van verloor nie, kom ons rus 'n rukkie\\n\", 'Graag, U Majesteit\\n', 'Hier, U Majesteit\\n', 'Dankie\\n', 'Hulle sal wonder waar ons is\\n', 'Hulle sal bly wees dat ons verdwaal het\\n', 'Ons is gewoonlik eerste\\n', 'Graaf Andrassy, ek kan jou nie vertel hoe gelukkig ek in Hongarye is nie\\n', 'Ek is bly, U Majesteit\\n', 'Hier voel ek so vry soos in Possenhofen\\n', 'In Oostenryk, sou dit vir my onmoontlik wees om onbeskermd te ry, daar sou ten minste 20 geheime polisie wees agter die bome en bosse, wat sekermaak niks sleg gebeur nie\\n', 'Hier is U Majesteit onder my persoonlike beskerming\\n', 'Ja, maar dis nie net hierdie gevoel van vryheid wat Hongarye so lekker maak nie;\\n', 'Hier het ek my kind net vir myself\\n', \"Die kleintjie praat al 'n paar woorde Hongaars\\n\", 'Ek het dit verneem\\n', 'Kom ons gaan stap bietjie\\n', 'U perd het mooi gespring\\n', 'Uitstekend!\\n', 'Baie goed!\\n', 'Het Graaf Batthyani homself verskoon van die jag?\\n']\n"
     ]
    }
   ],
   "source": [
    "try:\n",
    "  with open(\"af.txt\", \"r\", encoding=\"utf-8\") as file:\n",
    "    text_data = file.readlines(1000) # As list \n",
    "    print(text_data)\n",
    "except:\n",
    "  print(\"There is not such a file  or path is incorrect\")"
   ]
  },
  {
   "cell_type": "code",
   "execution_count": 19,
   "metadata": {},
   "outputs": [
    {
     "data": {
      "text/plain": [
       "\"Is u nog daar, Graaf Andrassy?  Ja, U Majesteit  - Waarnatoe gaan ons nou?  - ek dink hiernatoe  Nee, ek dink hierheen  Ek dink ons is verdwaal  Ek is bevrees u is reg, ons moet omdraai  Nee, ek hou nie van verloor nie, kom ons rus 'n rukkie  Graag, U Majesteit  Hier, U Majesteit  Dankie  Hulle sal wonder waar ons is  Hulle sal bly wees dat ons verdwaal het  Ons is gewoonlik eerste  Graaf Andrassy, ek kan jou nie vertel hoe gelukkig ek in Hongarye is nie  Ek is bly, U Majesteit  Hier voel ek so vry soos in Possenhofen  In Oostenryk, sou dit vir my onmoontlik wees om onbeskermd te ry, daar sou ten minste 20 geheime polisie wees agter die bome en bosse, wat sekermaak niks sleg gebeur nie  Hier is U Majesteit onder my persoonlike beskerming  Ja, maar dis nie net hierdie gevoel van vryheid wat Hongarye so lekker maak nie;  Hier het ek my kind net vir myself  Die kleintjie praat al 'n paar woorde Hongaars  Ek het dit verneem  Kom ons gaan stap bietjie  U perd het mooi gespring  Uitstekend!  Baie goed!  Het Graaf Batthyani homself verskoon van die jag? \""
      ]
     },
     "execution_count": 19,
     "metadata": {},
     "output_type": "execute_result"
    }
   ],
   "source": [
    "text_data = \" \".join(text_data)\n",
    "text_data = text_data.split(\"\\n\") # Remove \"\\n\"\n",
    "text_data = \" \".join(text_data)\n",
    "text_data"
   ]
  },
  {
   "cell_type": "code",
   "execution_count": 20,
   "metadata": {},
   "outputs": [
    {
     "data": {
      "text/plain": [
       "'Is u nog daar Graaf Andrassy  Ja U Majesteit   Waarnatoe gaan ons nou   ek dink hiernatoe  Nee ek dink hierheen  Ek dink ons is verdwaal  Ek is bevrees u is reg ons moet omdraai  Nee ek hou nie van verloor nie kom ons rus n rukkie  Graag U Majesteit  Hier U Majesteit  Dankie  Hulle sal wonder waar ons is  Hulle sal bly wees dat ons verdwaal het  Ons is gewoonlik eerste  Graaf Andrassy ek kan jou nie vertel hoe gelukkig ek in Hongarye is nie  Ek is bly U Majesteit  Hier voel ek so vry soos in Possenhofen  In Oostenryk sou dit vir my onmoontlik wees om onbeskermd te ry daar sou ten minste 20 geheime polisie wees agter die bome en bosse wat sekermaak niks sleg gebeur nie  Hier is U Majesteit onder my persoonlike beskerming  Ja maar dis nie net hierdie gevoel van vryheid wat Hongarye so lekker maak nie  Hier het ek my kind net vir myself  Die kleintjie praat al n paar woorde Hongaars  Ek het dit verneem  Kom ons gaan stap bietjie  U perd het mooi gespring  Uitstekend  Baie goed  Het Graaf Batthyani homself verskoon van die jag '"
      ]
     },
     "execution_count": 20,
     "metadata": {},
     "output_type": "execute_result"
    }
   ],
   "source": [
    "re.sub(pattern=\"[^\\w\\s]\", repl=\"\", string=text_data)"
   ]
  },
  {
   "cell_type": "code",
   "execution_count": 33,
   "metadata": {},
   "outputs": [
    {
     "data": {
      "text/plain": [
       "\"Is u nog daar, Graaf Andrassy?  Ja, U Majesteit  - Waarnatoe gaan ons nou?  - ek dink hiernatoe  Nee, ek dink hierheen  Ek dink ons is verdwaal  Ek is bevrees u is reg, ons moet omdraai  Nee, ek hou nie van verloor nie, kom ons rus 'n rukkie  Graag, U Majesteit  Hier, U Majesteit  Dankie  Hulle sal wonder waar ons is  Hulle sal bly wees dat ons verdwaal het  Ons is gewoonlik eerste  Graaf Andrassy, ek kan jou nie vertel hoe gelukkig ek in Hongarye is nie  Ek is bly, U Majesteit  Hier voel ek so vry soos in Possenhofen  In Oostenryk, sou dit vir my onmoontlik wees om onbeskermd te ry, daar sou ten minste 20 geheime polisie wees agter die bome en bosse, wat sekermaak niks sleg gebeur nie  Hier is U Majesteit onder my persoonlike beskerming  Ja, maar dis nie net hierdie gevoel van vryheid wat Hongarye so lekker maak nie;  Hier het ek my kind net vir myself  Die kleintjie praat al 'n paar woorde Hongaars  Ek het dit verneem  Kom ons gaan stap bietjie  U perd het mooi gespring  Uitstekend!  Baie goed!  Het Graaf Batthyani homself verskoon van die jag? \""
      ]
     },
     "execution_count": 33,
     "metadata": {},
     "output_type": "execute_result"
    }
   ],
   "source": [
    "re.sub(pattern=\"[\\$]\", repl=\"\", string=text_data)"
   ]
  },
  {
   "cell_type": "code",
   "execution_count": null,
   "metadata": {},
   "outputs": [],
   "source": []
  },
  {
   "cell_type": "markdown",
   "metadata": {},
   "source": [
    "#### Findall"
   ]
  },
  {
   "cell_type": "code",
   "execution_count": null,
   "metadata": {},
   "outputs": [],
   "source": [
    "test_text = \"ali  eve gelali Istanbul Bogazının KRALI alinin Emele düğünü Ali'den Bogazindan daliye Mahmut Efendi MAHSUN\""
   ]
  },
  {
   "cell_type": "code",
   "execution_count": null,
   "metadata": {},
   "outputs": [],
   "source": [
    "re.findall(f\"(?:\\s|^)ali+.\", test_text, flags=re.IGNORECASE)"
   ]
  },
  {
   "cell_type": "code",
   "execution_count": null,
   "metadata": {},
   "outputs": [],
   "source": [
    "list_1 =  test_text.split()"
   ]
  },
  {
   "cell_type": "code",
   "execution_count": null,
   "metadata": {},
   "outputs": [],
   "source": [
    "list_1"
   ]
  },
  {
   "cell_type": "code",
   "execution_count": null,
   "metadata": {},
   "outputs": [],
   "source": [
    "re.findall(f\"(?:\\s|^)[A-Z]+[a-z]+\", test_text,flags=re.UNICODE) # Finding capital letter word"
   ]
  },
  {
   "cell_type": "code",
   "execution_count": null,
   "metadata": {},
   "outputs": [],
   "source": [
    "re.findall(f\"(?:\\s|^)[A-Z]+[a-z]+|[A-Z]+\", test_text,flags=re.UNICODE) # Finding capital letter word or UPPER letter"
   ]
  },
  {
   "cell_type": "code",
   "execution_count": null,
   "metadata": {},
   "outputs": [],
   "source": []
  }
 ],
 "metadata": {
  "interpreter": {
   "hash": "43a9cd95aa030499ef934e4da31e07dde54f3fc3a1fd0cc4aeef7f16459ee2ac"
  },
  "kernelspec": {
   "display_name": "Python 3.9.0 64-bit (system)",
   "name": "python3"
  },
  "language_info": {
   "codemirror_mode": {
    "name": "ipython",
    "version": 3
   },
   "file_extension": ".py",
   "mimetype": "text/x-python",
   "name": "python",
   "nbconvert_exporter": "python",
   "pygments_lexer": "ipython3",
   "version": "3.9.0"
  },
  "orig_nbformat": 4
 },
 "nbformat": 4,
 "nbformat_minor": 2
}
