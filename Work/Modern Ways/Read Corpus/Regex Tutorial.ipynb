{
 "cells": [
  {
   "cell_type": "code",
   "execution_count": 1,
   "metadata": {},
   "outputs": [],
   "source": [
    "import numpy as np\n",
    "import pandas as pd\n",
    "import matplotlib.pyplot as plt\n",
    "import seaborn as sns\n",
    "import re"
   ]
  },
  {
   "cell_type": "markdown",
   "metadata": {},
   "source": [
    "#### Sub"
   ]
  },
  {
   "cell_type": "code",
   "execution_count": 2,
   "metadata": {},
   "outputs": [
    {
     "name": "stdout",
     "output_type": "stream",
     "text": [
      "There is not such a file  or path is incorrect\n"
     ]
    }
   ],
   "source": [
    "# try:\n",
    "#   with open(\"af.txt\", \"r\", encoding=\"utf-8\") as file:\n",
    "#     text_data = file.read() # Plain text\n",
    "#     print(text_data)\n",
    "# except:\n",
    "#   print(\"There is not such a file  or path is incorrect\")"
   ]
  },
  {
   "cell_type": "code",
   "execution_count": 18,
   "metadata": {},
   "outputs": [
    {
     "name": "stdout",
     "output_type": "stream",
     "text": [
      "['Is u nog daar, Graaf Andrassy?\\n', 'Ja, U Majesteit\\n', '- Waarnatoe gaan ons nou?\\n', '- ek dink hiernatoe\\n', 'Nee, ek dink hierheen\\n', 'Ek dink ons is verdwaal\\n', 'Ek is bevrees u is reg, ons moet omdraai\\n', \"Nee, ek hou nie van verloor nie, kom ons rus 'n rukkie\\n\", 'Graag, U Majesteit\\n', 'Hier, U Majesteit\\n', 'Dankie\\n', 'Hulle sal wonder waar ons is\\n', 'Hulle sal bly wees dat ons verdwaal het\\n', 'Ons is gewoonlik eerste\\n', 'Graaf Andrassy, ek kan jou nie vertel hoe gelukkig ek in Hongarye is nie\\n', 'Ek is bly, U Majesteit\\n', 'Hier voel ek so vry soos in Possenhofen\\n', 'In Oostenryk, sou dit vir my onmoontlik wees om onbeskermd te ry, daar sou ten minste 20 geheime polisie wees agter die bome en bosse, wat sekermaak niks sleg gebeur nie\\n', 'Hier is U Majesteit onder my persoonlike beskerming\\n', 'Ja, maar dis nie net hierdie gevoel van vryheid wat Hongarye so lekker maak nie;\\n', 'Hier het ek my kind net vir myself\\n', \"Die kleintjie praat al 'n paar woorde Hongaars\\n\", 'Ek het dit verneem\\n', 'Kom ons gaan stap bietjie\\n', 'U perd het mooi gespring\\n', 'Uitstekend!\\n', 'Baie goed!\\n', 'Het Graaf Batthyani homself verskoon van die jag?\\n']\n"
     ]
    }
   ],
   "source": [
    "try:\n",
    "  with open(\"af.txt\", \"r\", encoding=\"utf-8\") as file:\n",
    "    text_data = file.readlines(1000) # As list \n",
    "    print(text_data)\n",
    "except:\n",
    "  print(\"There is not such a file  or path is incorrect\")"
   ]
  },
  {
   "cell_type": "code",
   "execution_count": 19,
   "metadata": {},
   "outputs": [
    {
     "data": {
      "text/plain": [
       "\"Is u nog daar, Graaf Andrassy?  Ja, U Majesteit  - Waarnatoe gaan ons nou?  - ek dink hiernatoe  Nee, ek dink hierheen  Ek dink ons is verdwaal  Ek is bevrees u is reg, ons moet omdraai  Nee, ek hou nie van verloor nie, kom ons rus 'n rukkie  Graag, U Majesteit  Hier, U Majesteit  Dankie  Hulle sal wonder waar ons is  Hulle sal bly wees dat ons verdwaal het  Ons is gewoonlik eerste  Graaf Andrassy, ek kan jou nie vertel hoe gelukkig ek in Hongarye is nie  Ek is bly, U Majesteit  Hier voel ek so vry soos in Possenhofen  In Oostenryk, sou dit vir my onmoontlik wees om onbeskermd te ry, daar sou ten minste 20 geheime polisie wees agter die bome en bosse, wat sekermaak niks sleg gebeur nie  Hier is U Majesteit onder my persoonlike beskerming  Ja, maar dis nie net hierdie gevoel van vryheid wat Hongarye so lekker maak nie;  Hier het ek my kind net vir myself  Die kleintjie praat al 'n paar woorde Hongaars  Ek het dit verneem  Kom ons gaan stap bietjie  U perd het mooi gespring  Uitstekend!  Baie goed!  Het Graaf Batthyani homself verskoon van die jag? \""
      ]
     },
     "execution_count": 19,
     "metadata": {},
     "output_type": "execute_result"
    }
   ],
   "source": [
    "text_data = \" \".join(text_data)\n",
    "text_data = text_data.split(\"\\n\") # Remove \"\\n\"\n",
    "text_data = \" \".join(text_data)\n",
    "text_data"
   ]
  },
  {
   "cell_type": "code",
   "execution_count": 20,
   "metadata": {},
   "outputs": [
    {
     "data": {
      "text/plain": [
       "'Is u nog daar Graaf Andrassy  Ja U Majesteit   Waarnatoe gaan ons nou   ek dink hiernatoe  Nee ek dink hierheen  Ek dink ons is verdwaal  Ek is bevrees u is reg ons moet omdraai  Nee ek hou nie van verloor nie kom ons rus n rukkie  Graag U Majesteit  Hier U Majesteit  Dankie  Hulle sal wonder waar ons is  Hulle sal bly wees dat ons verdwaal het  Ons is gewoonlik eerste  Graaf Andrassy ek kan jou nie vertel hoe gelukkig ek in Hongarye is nie  Ek is bly U Majesteit  Hier voel ek so vry soos in Possenhofen  In Oostenryk sou dit vir my onmoontlik wees om onbeskermd te ry daar sou ten minste 20 geheime polisie wees agter die bome en bosse wat sekermaak niks sleg gebeur nie  Hier is U Majesteit onder my persoonlike beskerming  Ja maar dis nie net hierdie gevoel van vryheid wat Hongarye so lekker maak nie  Hier het ek my kind net vir myself  Die kleintjie praat al n paar woorde Hongaars  Ek het dit verneem  Kom ons gaan stap bietjie  U perd het mooi gespring  Uitstekend  Baie goed  Het Graaf Batthyani homself verskoon van die jag '"
      ]
     },
     "execution_count": 20,
     "metadata": {},
     "output_type": "execute_result"
    }
   ],
   "source": [
    "re.sub(pattern=\"[^\\w\\s]\", repl=\"\", string=text_data)"
   ]
  },
  {
   "cell_type": "code",
   "execution_count": 33,
   "metadata": {},
   "outputs": [
    {
     "data": {
      "text/plain": [
       "\"Is u nog daar, Graaf Andrassy?  Ja, U Majesteit  - Waarnatoe gaan ons nou?  - ek dink hiernatoe  Nee, ek dink hierheen  Ek dink ons is verdwaal  Ek is bevrees u is reg, ons moet omdraai  Nee, ek hou nie van verloor nie, kom ons rus 'n rukkie  Graag, U Majesteit  Hier, U Majesteit  Dankie  Hulle sal wonder waar ons is  Hulle sal bly wees dat ons verdwaal het  Ons is gewoonlik eerste  Graaf Andrassy, ek kan jou nie vertel hoe gelukkig ek in Hongarye is nie  Ek is bly, U Majesteit  Hier voel ek so vry soos in Possenhofen  In Oostenryk, sou dit vir my onmoontlik wees om onbeskermd te ry, daar sou ten minste 20 geheime polisie wees agter die bome en bosse, wat sekermaak niks sleg gebeur nie  Hier is U Majesteit onder my persoonlike beskerming  Ja, maar dis nie net hierdie gevoel van vryheid wat Hongarye so lekker maak nie;  Hier het ek my kind net vir myself  Die kleintjie praat al 'n paar woorde Hongaars  Ek het dit verneem  Kom ons gaan stap bietjie  U perd het mooi gespring  Uitstekend!  Baie goed!  Het Graaf Batthyani homself verskoon van die jag? \""
      ]
     },
     "execution_count": 33,
     "metadata": {},
     "output_type": "execute_result"
    }
   ],
   "source": [
    "re.sub(pattern=\"[\\$]\", repl=\"\", string=text_data)"
   ]
  },
  {
   "cell_type": "code",
   "execution_count": null,
   "metadata": {},
   "outputs": [],
   "source": []
  },
  {
   "cell_type": "markdown",
   "metadata": {},
   "source": [
    "#### Findall"
   ]
  },
  {
   "cell_type": "code",
   "execution_count": 2,
   "metadata": {},
   "outputs": [],
   "source": [
    "test_text = \"ali  eve gelali Istanbul Bogazının KRALI alinin Emele düğünü Ali'den Bogazindan daliye Mahmut Efendi MAHSUN\""
   ]
  },
  {
   "cell_type": "code",
   "execution_count": 3,
   "metadata": {},
   "outputs": [
    {
     "data": {
      "text/plain": [
       "['ali ', ' alin', \" Ali'\"]"
      ]
     },
     "execution_count": 3,
     "metadata": {},
     "output_type": "execute_result"
    }
   ],
   "source": [
    "re.findall(f\"(?:\\s|^)ali+.\", test_text, flags=re.IGNORECASE)"
   ]
  },
  {
   "cell_type": "code",
   "execution_count": 4,
   "metadata": {},
   "outputs": [],
   "source": [
    "list_1 =  test_text.split()"
   ]
  },
  {
   "cell_type": "code",
   "execution_count": 5,
   "metadata": {},
   "outputs": [
    {
     "data": {
      "text/plain": [
       "['ali',\n",
       " 'eve',\n",
       " 'gelali',\n",
       " 'Istanbul',\n",
       " 'Bogazının',\n",
       " 'KRALI',\n",
       " 'alinin',\n",
       " 'Emele',\n",
       " 'düğünü',\n",
       " \"Ali'den\",\n",
       " 'Bogazindan',\n",
       " 'daliye',\n",
       " 'Mahmut',\n",
       " 'Efendi',\n",
       " 'MAHSUN']"
      ]
     },
     "execution_count": 5,
     "metadata": {},
     "output_type": "execute_result"
    }
   ],
   "source": [
    "list_1"
   ]
  },
  {
   "cell_type": "code",
   "execution_count": 6,
   "metadata": {},
   "outputs": [
    {
     "data": {
      "text/plain": [
       "[' Istanbul', ' Bogaz', ' Emele', ' Ali', ' Bogazindan', ' Mahmut', ' Efendi']"
      ]
     },
     "execution_count": 6,
     "metadata": {},
     "output_type": "execute_result"
    }
   ],
   "source": [
    "re.findall(f\"(?:\\s|^)[A-Z]+[a-z]+\", test_text,flags=re.UNICODE) # Finding capital letter word"
   ]
  },
  {
   "cell_type": "code",
   "execution_count": 7,
   "metadata": {},
   "outputs": [
    {
     "data": {
      "text/plain": [
       "[' Istanbul',\n",
       " ' Bogaz',\n",
       " 'KRALI',\n",
       " ' Emele',\n",
       " ' Ali',\n",
       " ' Bogazindan',\n",
       " ' Mahmut',\n",
       " ' Efendi',\n",
       " 'MAHSUN']"
      ]
     },
     "execution_count": 7,
     "metadata": {},
     "output_type": "execute_result"
    }
   ],
   "source": [
    "re.findall(f\"(?:\\s|^)[A-Z]+[a-z]+|[A-Z]+\", test_text,flags=re.UNICODE) # Finding capital letter word or UPPER letter"
   ]
  },
  {
   "cell_type": "code",
   "execution_count": 8,
   "metadata": {},
   "outputs": [],
   "source": [
    "with open(\"/media/kurubal/SSD/Data Scientist/Work/Modern Ways/Project/Pyspark/Temp/xaa.tr\", \"r\",encoding=\"latin1\") as file:\n",
    "    text = file.read()"
   ]
  },
  {
   "cell_type": "code",
   "execution_count": 9,
   "metadata": {},
   "outputs": [],
   "source": [
    "capital_letter_word = re.findall(f\"(?:\\s|^)[A-Z]+[a-z]+|[A-Z]+\", text,flags=re.UNICODE)"
   ]
  },
  {
   "cell_type": "code",
   "execution_count": 11,
   "metadata": {},
   "outputs": [
    {
     "data": {
      "text/html": [
       "<div>\n",
       "<style scoped>\n",
       "    .dataframe tbody tr th:only-of-type {\n",
       "        vertical-align: middle;\n",
       "    }\n",
       "\n",
       "    .dataframe tbody tr th {\n",
       "        vertical-align: top;\n",
       "    }\n",
       "\n",
       "    .dataframe thead th {\n",
       "        text-align: right;\n",
       "    }\n",
       "</style>\n",
       "<table border=\"1\" class=\"dataframe\">\n",
       "  <thead>\n",
       "    <tr style=\"text-align: right;\">\n",
       "      <th></th>\n",
       "      <th>0</th>\n",
       "    </tr>\n",
       "  </thead>\n",
       "  <tbody>\n",
       "    <tr>\n",
       "      <th>0</th>\n",
       "      <td>\\nHer</td>\n",
       "    </tr>\n",
       "    <tr>\n",
       "      <th>1</th>\n",
       "      <td>T</td>\n",
       "    </tr>\n",
       "    <tr>\n",
       "      <th>2</th>\n",
       "      <td>RK</td>\n",
       "    </tr>\n",
       "    <tr>\n",
       "      <th>3</th>\n",
       "      <td>TUTKUSU</td>\n",
       "    </tr>\n",
       "    <tr>\n",
       "      <th>4</th>\n",
       "      <td>\\nMemnun</td>\n",
       "    </tr>\n",
       "    <tr>\n",
       "      <th>...</th>\n",
       "      <td>...</td>\n",
       "    </tr>\n",
       "    <tr>\n",
       "      <th>1818841</th>\n",
       "      <td>\\nNe</td>\n",
       "    </tr>\n",
       "    <tr>\n",
       "      <th>1818842</th>\n",
       "      <td>\\nNedir</td>\n",
       "    </tr>\n",
       "    <tr>\n",
       "      <th>1818843</th>\n",
       "      <td>\\nDualar</td>\n",
       "    </tr>\n",
       "    <tr>\n",
       "      <th>1818844</th>\n",
       "      <td>\\nHat</td>\n",
       "    </tr>\n",
       "    <tr>\n",
       "      <th>1818845</th>\n",
       "      <td>\\nKonu</td>\n",
       "    </tr>\n",
       "  </tbody>\n",
       "</table>\n",
       "<p>1818846 rows × 1 columns</p>\n",
       "</div>"
      ],
      "text/plain": [
       "                0\n",
       "0           \\nHer\n",
       "1               T\n",
       "2              RK\n",
       "3         TUTKUSU\n",
       "4        \\nMemnun\n",
       "...           ...\n",
       "1818841      \\nNe\n",
       "1818842   \\nNedir\n",
       "1818843  \\nDualar\n",
       "1818844     \\nHat\n",
       "1818845    \\nKonu\n",
       "\n",
       "[1818846 rows x 1 columns]"
      ]
     },
     "execution_count": 11,
     "metadata": {},
     "output_type": "execute_result"
    }
   ],
   "source": [
    "pd.DataFrame(capital_letter_word)"
   ]
  },
  {
   "cell_type": "code",
   "execution_count": null,
   "metadata": {},
   "outputs": [],
   "source": []
  },
  {
   "cell_type": "code",
   "execution_count": 2,
   "metadata": {},
   "outputs": [],
   "source": [
    "text3 = \"ali? 15 april\""
   ]
  },
  {
   "cell_type": "code",
   "execution_count": 3,
   "metadata": {},
   "outputs": [
    {
     "data": {
      "text/plain": [
       "['ali?', '15 ', 'april']"
      ]
     },
     "execution_count": 3,
     "metadata": {},
     "output_type": "execute_result"
    }
   ],
   "source": [
    "text_list = re.findall(\"\\w+.\", text3)\n",
    "text_list"
   ]
  },
  {
   "cell_type": "code",
   "execution_count": 4,
   "metadata": {},
   "outputs": [
    {
     "data": {
      "text/plain": [
       "['ali', '15', 'april']"
      ]
     },
     "execution_count": 4,
     "metadata": {},
     "output_type": "execute_result"
    }
   ],
   "source": [
    "text_list2 = re.findall(\"\\w+\", text3)\n",
    "text_list2"
   ]
  },
  {
   "cell_type": "code",
   "execution_count": null,
   "metadata": {},
   "outputs": [],
   "source": []
  }
 ],
 "metadata": {
  "interpreter": {
   "hash": "43a9cd95aa030499ef934e4da31e07dde54f3fc3a1fd0cc4aeef7f16459ee2ac"
  },
  "kernelspec": {
   "display_name": "Python 3.9.0 64-bit (system)",
   "name": "python3"
  },
  "language_info": {
   "codemirror_mode": {
    "name": "ipython",
    "version": 3
   },
   "file_extension": ".py",
   "mimetype": "text/x-python",
   "name": "python",
   "nbconvert_exporter": "python",
   "pygments_lexer": "ipython3",
   "version": "3.9.5"
  },
  "orig_nbformat": 4
 },
 "nbformat": 4,
 "nbformat_minor": 2
}
