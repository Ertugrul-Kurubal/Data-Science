{
 "cells": [
  {
   "cell_type": "markdown",
   "metadata": {},
   "source": [
    "### Data Anaysis"
   ]
  },
  {
   "cell_type": "code",
   "execution_count": 1,
   "metadata": {},
   "outputs": [],
   "source": [
    "import pandas as pd\n",
    "import numpy as np\n",
    "import matplotlib.pyplot as plt\n",
    "import seaborn as sns\n",
    "import json\n",
    "import datetime as dt"
   ]
  },
  {
   "cell_type": "code",
   "execution_count": 2,
   "metadata": {},
   "outputs": [
    {
     "data": {
      "text/html": [
       "<div>\n",
       "<style scoped>\n",
       "    .dataframe tbody tr th:only-of-type {\n",
       "        vertical-align: middle;\n",
       "    }\n",
       "\n",
       "    .dataframe tbody tr th {\n",
       "        vertical-align: top;\n",
       "    }\n",
       "\n",
       "    .dataframe thead th {\n",
       "        text-align: right;\n",
       "    }\n",
       "</style>\n",
       "<table border=\"1\" class=\"dataframe\">\n",
       "  <thead>\n",
       "    <tr style=\"text-align: right;\">\n",
       "      <th></th>\n",
       "      <th>time</th>\n",
       "      <th>remote_ip</th>\n",
       "      <th>remote_user</th>\n",
       "      <th>request</th>\n",
       "      <th>response</th>\n",
       "      <th>bytes</th>\n",
       "      <th>referrer</th>\n",
       "      <th>agent</th>\n",
       "    </tr>\n",
       "  </thead>\n",
       "  <tbody>\n",
       "    <tr>\n",
       "      <th>0</th>\n",
       "      <td>17/May/2015:08:05:32 +0000</td>\n",
       "      <td>93.180.71.3</td>\n",
       "      <td>-</td>\n",
       "      <td>GET /downloads/gislaved-ultra-speed-2-215-55-r...</td>\n",
       "      <td>304</td>\n",
       "      <td>0</td>\n",
       "      <td>-</td>\n",
       "      <td>Debian APT-HTTP/1.3 (0.8.16~exp12ubuntu10.21)</td>\n",
       "    </tr>\n",
       "    <tr>\n",
       "      <th>1</th>\n",
       "      <td>17/May/2015:08:05:23 +0000</td>\n",
       "      <td>93.180.71.3</td>\n",
       "      <td>-</td>\n",
       "      <td>GET /downloads/bridgestone-turanza-er300-275-4...</td>\n",
       "      <td>304</td>\n",
       "      <td>0</td>\n",
       "      <td>-</td>\n",
       "      <td>Debian APT-HTTP/1.3 (0.8.16~exp12ubuntu10.21)</td>\n",
       "    </tr>\n",
       "    <tr>\n",
       "      <th>2</th>\n",
       "      <td>17/May/2015:08:05:24 +0000</td>\n",
       "      <td>80.91.33.133</td>\n",
       "      <td>-</td>\n",
       "      <td>GET /downloads/kumho-ecsta-ps71-215-45-zr18-93...</td>\n",
       "      <td>304</td>\n",
       "      <td>0</td>\n",
       "      <td>-</td>\n",
       "      <td>Debian APT-HTTP/1.3 (0.8.16~exp12ubuntu10.17)</td>\n",
       "    </tr>\n",
       "    <tr>\n",
       "      <th>3</th>\n",
       "      <td>17/May/2015:08:05:34 +0000</td>\n",
       "      <td>217.168.17.5</td>\n",
       "      <td>-</td>\n",
       "      <td>GET /downloads/bridgestone-turanza-er300-rft-2...</td>\n",
       "      <td>200</td>\n",
       "      <td>490</td>\n",
       "      <td>-</td>\n",
       "      <td>Debian APT-HTTP/1.3 (0.8.10.3)</td>\n",
       "    </tr>\n",
       "    <tr>\n",
       "      <th>4</th>\n",
       "      <td>17/May/2015:08:05:09 +0000</td>\n",
       "      <td>217.168.17.5</td>\n",
       "      <td>-</td>\n",
       "      <td>GET /downloads/pirelli-scorpion-sealinside-ao-...</td>\n",
       "      <td>200</td>\n",
       "      <td>490</td>\n",
       "      <td>-</td>\n",
       "      <td>Debian APT-HTTP/1.3 (0.8.10.3)</td>\n",
       "    </tr>\n",
       "    <tr>\n",
       "      <th>...</th>\n",
       "      <td>...</td>\n",
       "      <td>...</td>\n",
       "      <td>...</td>\n",
       "      <td>...</td>\n",
       "      <td>...</td>\n",
       "      <td>...</td>\n",
       "      <td>...</td>\n",
       "      <td>...</td>\n",
       "    </tr>\n",
       "    <tr>\n",
       "      <th>51457</th>\n",
       "      <td>04/Jun/2015:07:06:04 +0000</td>\n",
       "      <td>173.255.199.22</td>\n",
       "      <td>-</td>\n",
       "      <td>GET /downloads/kumho-ecsta-ps71-215-45-zr18-93...</td>\n",
       "      <td>404</td>\n",
       "      <td>339</td>\n",
       "      <td>-</td>\n",
       "      <td>Debian APT-HTTP/1.3 (0.8.10.3)</td>\n",
       "    </tr>\n",
       "    <tr>\n",
       "      <th>51458</th>\n",
       "      <td>04/Jun/2015:07:06:05 +0000</td>\n",
       "      <td>54.186.10.255</td>\n",
       "      <td>-</td>\n",
       "      <td>GET /downloads/michelin-alpin-5-zp-n0-225-45-r...</td>\n",
       "      <td>200</td>\n",
       "      <td>2582</td>\n",
       "      <td>-</td>\n",
       "      <td>urlgrabber/3.9.1 yum/3.4.3</td>\n",
       "    </tr>\n",
       "    <tr>\n",
       "      <th>51459</th>\n",
       "      <td>04/Jun/2015:07:06:16 +0000</td>\n",
       "      <td>80.91.33.133</td>\n",
       "      <td>-</td>\n",
       "      <td>GET /downloads/pirelli-scorpion-sealinside-ao-...</td>\n",
       "      <td>304</td>\n",
       "      <td>0</td>\n",
       "      <td>-</td>\n",
       "      <td>Debian APT-HTTP/1.3 (0.8.16~exp12ubuntu10.16)</td>\n",
       "    </tr>\n",
       "    <tr>\n",
       "      <th>51460</th>\n",
       "      <td>04/Jun/2015:07:06:05 +0000</td>\n",
       "      <td>144.76.151.58</td>\n",
       "      <td>-</td>\n",
       "      <td>GET /downloads/kumho-ecsta-ps71-215-45-zr18-93...</td>\n",
       "      <td>304</td>\n",
       "      <td>0</td>\n",
       "      <td>-</td>\n",
       "      <td>Debian APT-HTTP/1.3 (0.9.7.9)</td>\n",
       "    </tr>\n",
       "    <tr>\n",
       "      <th>51461</th>\n",
       "      <td>04/Jun/2015:07:06:35 +0000</td>\n",
       "      <td>79.136.114.202</td>\n",
       "      <td>-</td>\n",
       "      <td>GET /downloads/michelin-alpin-5-zp-n0-295-45-r...</td>\n",
       "      <td>404</td>\n",
       "      <td>334</td>\n",
       "      <td>-</td>\n",
       "      <td>Debian APT-HTTP/1.3 (0.8.16~exp12ubuntu10.22)</td>\n",
       "    </tr>\n",
       "  </tbody>\n",
       "</table>\n",
       "<p>51462 rows × 8 columns</p>\n",
       "</div>"
      ],
      "text/plain": [
       "                             time       remote_ip remote_user  \\\n",
       "0      17/May/2015:08:05:32 +0000     93.180.71.3           -   \n",
       "1      17/May/2015:08:05:23 +0000     93.180.71.3           -   \n",
       "2      17/May/2015:08:05:24 +0000    80.91.33.133           -   \n",
       "3      17/May/2015:08:05:34 +0000    217.168.17.5           -   \n",
       "4      17/May/2015:08:05:09 +0000    217.168.17.5           -   \n",
       "...                           ...             ...         ...   \n",
       "51457  04/Jun/2015:07:06:04 +0000  173.255.199.22           -   \n",
       "51458  04/Jun/2015:07:06:05 +0000   54.186.10.255           -   \n",
       "51459  04/Jun/2015:07:06:16 +0000    80.91.33.133           -   \n",
       "51460  04/Jun/2015:07:06:05 +0000   144.76.151.58           -   \n",
       "51461  04/Jun/2015:07:06:35 +0000  79.136.114.202           -   \n",
       "\n",
       "                                                 request  response  bytes  \\\n",
       "0      GET /downloads/gislaved-ultra-speed-2-215-55-r...       304      0   \n",
       "1      GET /downloads/bridgestone-turanza-er300-275-4...       304      0   \n",
       "2      GET /downloads/kumho-ecsta-ps71-215-45-zr18-93...       304      0   \n",
       "3      GET /downloads/bridgestone-turanza-er300-rft-2...       200    490   \n",
       "4      GET /downloads/pirelli-scorpion-sealinside-ao-...       200    490   \n",
       "...                                                  ...       ...    ...   \n",
       "51457  GET /downloads/kumho-ecsta-ps71-215-45-zr18-93...       404    339   \n",
       "51458  GET /downloads/michelin-alpin-5-zp-n0-225-45-r...       200   2582   \n",
       "51459  GET /downloads/pirelli-scorpion-sealinside-ao-...       304      0   \n",
       "51460  GET /downloads/kumho-ecsta-ps71-215-45-zr18-93...       304      0   \n",
       "51461  GET /downloads/michelin-alpin-5-zp-n0-295-45-r...       404    334   \n",
       "\n",
       "      referrer                                          agent  \n",
       "0            -  Debian APT-HTTP/1.3 (0.8.16~exp12ubuntu10.21)  \n",
       "1            -  Debian APT-HTTP/1.3 (0.8.16~exp12ubuntu10.21)  \n",
       "2            -  Debian APT-HTTP/1.3 (0.8.16~exp12ubuntu10.17)  \n",
       "3            -                 Debian APT-HTTP/1.3 (0.8.10.3)  \n",
       "4            -                 Debian APT-HTTP/1.3 (0.8.10.3)  \n",
       "...        ...                                            ...  \n",
       "51457        -                 Debian APT-HTTP/1.3 (0.8.10.3)  \n",
       "51458        -                     urlgrabber/3.9.1 yum/3.4.3  \n",
       "51459        -  Debian APT-HTTP/1.3 (0.8.16~exp12ubuntu10.16)  \n",
       "51460        -                  Debian APT-HTTP/1.3 (0.9.7.9)  \n",
       "51461        -  Debian APT-HTTP/1.3 (0.8.16~exp12ubuntu10.22)  \n",
       "\n",
       "[51462 rows x 8 columns]"
      ]
     },
     "execution_count": 2,
     "metadata": {},
     "output_type": "execute_result"
    }
   ],
   "source": [
    "df = pd.read_json(r\"C:\\Users\\Ertuğrul\\Downloads\\updated_dataset.json\", lines=True)\n",
    "df"
   ]
  },
  {
   "cell_type": "code",
   "execution_count": 3,
   "metadata": {},
   "outputs": [
    {
     "name": "stdout",
     "output_type": "stream",
     "text": [
      "<class 'pandas.core.frame.DataFrame'>\n",
      "RangeIndex: 51462 entries, 0 to 51461\n",
      "Data columns (total 8 columns):\n",
      " #   Column       Non-Null Count  Dtype \n",
      "---  ------       --------------  ----- \n",
      " 0   time         51462 non-null  object\n",
      " 1   remote_ip    51462 non-null  object\n",
      " 2   remote_user  51462 non-null  object\n",
      " 3   request      51462 non-null  object\n",
      " 4   response     51462 non-null  int64 \n",
      " 5   bytes        51462 non-null  int64 \n",
      " 6   referrer     51462 non-null  object\n",
      " 7   agent        51462 non-null  object\n",
      "dtypes: int64(2), object(6)\n",
      "memory usage: 3.1+ MB\n"
     ]
    }
   ],
   "source": [
    "df.info()"
   ]
  },
  {
   "cell_type": "code",
   "execution_count": 4,
   "metadata": {},
   "outputs": [],
   "source": [
    "df['time'] = pd.to_datetime(df['time'], format='%d/%b/%Y:%H:%M:%S %z')"
   ]
  },
  {
   "cell_type": "code",
   "execution_count": 5,
   "metadata": {},
   "outputs": [
    {
     "name": "stdout",
     "output_type": "stream",
     "text": [
      "<class 'pandas.core.frame.DataFrame'>\n",
      "RangeIndex: 51462 entries, 0 to 51461\n",
      "Data columns (total 8 columns):\n",
      " #   Column       Non-Null Count  Dtype              \n",
      "---  ------       --------------  -----              \n",
      " 0   time         51462 non-null  datetime64[ns, UTC]\n",
      " 1   remote_ip    51462 non-null  object             \n",
      " 2   remote_user  51462 non-null  object             \n",
      " 3   request      51462 non-null  object             \n",
      " 4   response     51462 non-null  int64              \n",
      " 5   bytes        51462 non-null  int64              \n",
      " 6   referrer     51462 non-null  object             \n",
      " 7   agent        51462 non-null  object             \n",
      "dtypes: datetime64[ns, UTC](1), int64(2), object(5)\n",
      "memory usage: 3.1+ MB\n"
     ]
    }
   ],
   "source": [
    "df.info()"
   ]
  },
  {
   "cell_type": "code",
   "execution_count": 6,
   "metadata": {},
   "outputs": [
    {
     "data": {
      "text/plain": [
       "0        17\n",
       "1        17\n",
       "2        17\n",
       "3        17\n",
       "4        17\n",
       "         ..\n",
       "51457     4\n",
       "51458     4\n",
       "51459     4\n",
       "51460     4\n",
       "51461     4\n",
       "Name: time, Length: 51462, dtype: int64"
      ]
     },
     "execution_count": 6,
     "metadata": {},
     "output_type": "execute_result"
    }
   ],
   "source": [
    "df[\"time\"].dt.day"
   ]
  },
  {
   "cell_type": "code",
   "execution_count": 7,
   "metadata": {},
   "outputs": [
    {
     "data": {
      "text/plain": [
       "0        8\n",
       "1        8\n",
       "2        8\n",
       "3        8\n",
       "4        8\n",
       "        ..\n",
       "51457    7\n",
       "51458    7\n",
       "51459    7\n",
       "51460    7\n",
       "51461    7\n",
       "Name: time, Length: 51462, dtype: int64"
      ]
     },
     "execution_count": 7,
     "metadata": {},
     "output_type": "execute_result"
    }
   ],
   "source": [
    "df[\"time\"].dt.hour"
   ]
  },
  {
   "cell_type": "code",
   "execution_count": 8,
   "metadata": {},
   "outputs": [
    {
     "data": {
      "text/plain": [
       "Timestamp('2015-05-17 08:05:32+0000', tz='UTC')"
      ]
     },
     "execution_count": 8,
     "metadata": {},
     "output_type": "execute_result"
    }
   ],
   "source": [
    "df.iloc[0,0]"
   ]
  },
  {
   "cell_type": "code",
   "execution_count": 9,
   "metadata": {},
   "outputs": [
    {
     "data": {
      "text/plain": [
       "-                                                             51449\n",
       "http://www.elasticsearch.org/overview/elkdownloads/               6\n",
       "http://logstash.net/                                              2\n",
       "http://logstash.net/docs/1.3.3/                                   1\n",
       "http://www.elasticsearch.org/downloads/1-3-5/                     1\n",
       "http://www.elasticsearch.org/downloads/1-4-1/                     1\n",
       "http://www.elasticsearch.org/overview/kibana/installation/        1\n",
       "http://www.logstash.net/                                          1\n",
       "Name: referrer, dtype: int64"
      ]
     },
     "execution_count": 9,
     "metadata": {},
     "output_type": "execute_result"
    }
   ],
   "source": [
    "df[\"referrer\"].value_counts()"
   ]
  },
  {
   "cell_type": "code",
   "execution_count": 10,
   "metadata": {},
   "outputs": [
    {
     "data": {
      "image/png": "[encoded data removed]",
      "text/plain": [
       "<Figure size 864x576 with 1 Axes>"
      ]
     },
     "metadata": {
      "needs_background": "light"
     },
     "output_type": "display_data"
    }
   ],
   "source": [
    "plt.figure(figsize=(12,8))\n",
    "sns.countplot(x=\"response\",data=df);"
   ]
  },
  {
   "cell_type": "code",
   "execution_count": null,
   "metadata": {},
   "outputs": [],
   "source": []
  },
  {
   "cell_type": "code",
   "execution_count": null,
   "metadata": {},
   "outputs": [],
   "source": []
  },
  {
   "cell_type": "code",
   "execution_count": null,
   "metadata": {},
   "outputs": [],
   "source": []
  },
  {
   "cell_type": "code",
   "execution_count": null,
   "metadata": {},
   "outputs": [],
   "source": []
  },
  {
   "cell_type": "code",
   "execution_count": null,
   "metadata": {},
   "outputs": [],
   "source": []
  },
  {
   "cell_type": "code",
   "execution_count": null,
   "metadata": {},
   "outputs": [],
   "source": []
  },
  {
   "cell_type": "code",
   "execution_count": null,
   "metadata": {},
   "outputs": [],
   "source": [
    "import pandas as pd\n",
    "\n",
    "# Örnek veri\n",
    "date_string = \"17/May/2015:08:05:32 +0000\"\n",
    "\n",
    "# Tarih ve saat formatını belirtin\n",
    "datetime_format = \"%d/%b/%Y:%H:%M:%S %z\"\n",
    "\n",
    "# datetime formatına dönüştürün\n",
    "datetime_obj = pd.to_datetime(date_string, format=datetime_format)\n",
    "\n",
    "print(datetime_obj)"
   ]
  },
  {
   "cell_type": "code",
   "execution_count": null,
   "metadata": {},
   "outputs": [],
   "source": [
    "from dateutil import parser\n",
    "import datetime\n",
    "# Tail from actual nginx access.log\n",
    "from sys import stdin\n",
    "        \n",
    "#lines = [\n",
    "#  '93.180.71.3 - - [17/May/2015:08:05:32 +0000] \"GET /downloads/product_1 HTTP/1.1\" 502 0 \"-\" \"Debian APT-HTTP/1.3 (0.8.16~exp12ubuntu10.21)',\n",
    "#  '93.180.71.3 - - [17/May/2015:08:05:23 +0000] \"GET /downloads/product_1 HTTP/1.1\" 304 0 \"-\" \"Debian APT-HTTP/1.3 (0.8.16~exp12ubuntu10.21)',\n",
    "#  '80.91.33.133 - - [17/May/2015:08:05:24 +0000] \"GET /downloads/product_1 HTTP/1.1\" 502 0 \"-\" \"Debian APT-HTTP/1.3 (0.8.16~exp12ubuntu10.17)',\n",
    "#  '217.168.17.5 - - [17/May/2015:08:05:34 +0000] \"GET /downloads/product_1 HTTP/1.1\" 200 490 \"-\" \"Debian APT-HTTP/1.3 (0.8.10.3)',\n",
    "#  '217.168.17.5 - - [17/May/2015:08:40:09 +0000] \"GET /downloads/product_2 HTTP/1.1\" 500 490 \"-\" \"Debian APT-HTTP/1.3 (0.8.10.3)' \n",
    "#]\n",
    "\n",
    "lines = [\n",
    "  '93.180.71.3 - - [17/May/2015:08:05:32 +0000] \"GET /downloads/gislaved-ultra-speed-2-215-55-r17-98w-xl-2023 HTTP/1.1\" 304 0 \"-\" \"Debian APT-HTTP/1.3 (0.8.16~exp12ubuntu10.21)',\n",
    "  '93.180.71.3 - - [17/May/2015:08:05:23 +0000] \"request\": \"GET /downloads/bridgestone-turanza-er300-275-45-r19-109w-2023 HTTP/1.1\" 304 0 \"-\" \"Debian APT-HTTP/1.3 (0.8.16~exp12ubuntu10.21)' \n",
    "]\n",
    "\n",
    "class NginxParser(object):\n",
    "\n",
    "    MIN = 20\n",
    "    MAX_NUMBER_OF_ERRORS = 1\n",
    "\n",
    "    def __init__(self):\n",
    "        self.status = {}\n",
    "        self.first_error_time = None\n",
    "    \n",
    "    def parse_nginx_log(self, line):\n",
    "\n",
    "        parts = line.split()\n",
    "        return_code = parts[8]\n",
    "        time_stamp = parts[3].replace(\"[\", \"\")\n",
    "        date_time = parser.parse(time_stamp, fuzzy=True)\n",
    "\n",
    "        if return_code.startswith(\"5\"):\n",
    "\n",
    "          if '500_error' not in self.status:\n",
    "            self.status['500_error'] = 1\n",
    "            self.first_error_time = date_time\n",
    "          else:\n",
    "            self.status['500_error'] +=1\n",
    "            if self.status['500_error'] >= self.MAX_NUMBER_OF_ERRORS:\n",
    "                if date_time - self.first_error_time > datetime.timedelta(minutes=self.MIN):\n",
    "                  print(self.status)\n",
    "                  self.status.pop('500_error', None)\n",
    "\n",
    "    def read_nginx_log(self):\n",
    "        # can be made to read from sys.stdin\n",
    "        for line in lines:\n",
    "           self.parse_nginx_log(line)\n",
    "\n",
    "if __name__ == '__main__':\n",
    "    parse = NginxParser()\n",
    "    parse.read_nginx_log()"
   ]
  },
  {
   "cell_type": "code",
   "execution_count": null,
   "metadata": {},
   "outputs": [],
   "source": []
  },
  {
   "cell_type": "code",
   "execution_count": null,
   "metadata": {},
   "outputs": [],
   "source": []
  },
  {
   "cell_type": "code",
   "execution_count": null,
   "metadata": {},
   "outputs": [],
   "source": []
  }
 ],
 "metadata": {
  "kernelspec": {
   "display_name": "Python 3",
   "language": "python",
   "name": "python3"
  },
  "language_info": {
   "codemirror_mode": {
    "name": "ipython",
    "version": 3
   },
   "file_extension": ".py",
   "mimetype": "text/x-python",
   "name": "python",
   "nbconvert_exporter": "python",
   "pygments_lexer": "ipython3",
   "version": "3.9.0"
  }
 },
 "nbformat": 4,
 "nbformat_minor": 2
}
