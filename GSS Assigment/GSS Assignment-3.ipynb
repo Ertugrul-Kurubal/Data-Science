{
 "metadata": {
  "language_info": {
   "codemirror_mode": {
    "name": "ipython",
    "version": 3
   },
   "file_extension": ".py",
   "mimetype": "text/x-python",
   "name": "python",
   "nbconvert_exporter": "python",
   "pygments_lexer": "ipython3",
   "version": "3.9.0-final"
  },
  "orig_nbformat": 2,
  "kernelspec": {
   "name": "python390jvsc74a57bd043a9cd95aa030499ef934e4da31e07dde54f3fc3a1fd0cc4aeef7f16459ee2ac",
   "display_name": "Python 3.9.0 64-bit"
  }
 },
 "nbformat": 4,
 "nbformat_minor": 2,
 "cells": [
  {
   "cell_type": "code",
   "execution_count": 1,
   "metadata": {},
   "outputs": [],
   "source": [
    "import pandas as pd \n",
    "import numpy as np"
   ]
  },
  {
   "cell_type": "code",
   "execution_count": 2,
   "metadata": {},
   "outputs": [],
   "source": [
    "df = pd.read_csv(\"time_to_text_converting.csv\")"
   ]
  },
  {
   "cell_type": "code",
   "execution_count": 3,
   "metadata": {},
   "outputs": [
    {
     "output_type": "execute_result",
     "data": {
      "text/plain": [
       "     Time in ms Time in Text\n",
       "0        716865         12 m\n",
       "1      18006546          5 h\n",
       "2       4845998     1 h 21 m\n",
       "3       5360399     1 h 29 m\n",
       "4        481841          8 m\n",
       "..          ...          ...\n",
       "250     6588941     1 h 50 m\n",
       "251     1149649         19 m\n",
       "252     5910142     1 h 39 m\n",
       "253      378920          6 m\n",
       "254     7689160      2 h 8 m\n",
       "\n",
       "[255 rows x 2 columns]"
      ],
      "text/html": "<div>\n<style scoped>\n    .dataframe tbody tr th:only-of-type {\n        vertical-align: middle;\n    }\n\n    .dataframe tbody tr th {\n        vertical-align: top;\n    }\n\n    .dataframe thead th {\n        text-align: right;\n    }\n</style>\n<table border=\"1\" class=\"dataframe\">\n  <thead>\n    <tr style=\"text-align: right;\">\n      <th></th>\n      <th>Time in ms</th>\n      <th>Time in Text</th>\n    </tr>\n  </thead>\n  <tbody>\n    <tr>\n      <th>0</th>\n      <td>716865</td>\n      <td>12 m</td>\n    </tr>\n    <tr>\n      <th>1</th>\n      <td>18006546</td>\n      <td>5 h</td>\n    </tr>\n    <tr>\n      <th>2</th>\n      <td>4845998</td>\n      <td>1 h 21 m</td>\n    </tr>\n    <tr>\n      <th>3</th>\n      <td>5360399</td>\n      <td>1 h 29 m</td>\n    </tr>\n    <tr>\n      <th>4</th>\n      <td>481841</td>\n      <td>8 m</td>\n    </tr>\n    <tr>\n      <th>...</th>\n      <td>...</td>\n      <td>...</td>\n    </tr>\n    <tr>\n      <th>250</th>\n      <td>6588941</td>\n      <td>1 h 50 m</td>\n    </tr>\n    <tr>\n      <th>251</th>\n      <td>1149649</td>\n      <td>19 m</td>\n    </tr>\n    <tr>\n      <th>252</th>\n      <td>5910142</td>\n      <td>1 h 39 m</td>\n    </tr>\n    <tr>\n      <th>253</th>\n      <td>378920</td>\n      <td>6 m</td>\n    </tr>\n    <tr>\n      <th>254</th>\n      <td>7689160</td>\n      <td>2 h 8 m</td>\n    </tr>\n  </tbody>\n</table>\n<p>255 rows × 2 columns</p>\n</div>"
     },
     "metadata": {},
     "execution_count": 3
    }
   ],
   "source": [
    "df"
   ]
  },
  {
   "cell_type": "code",
   "execution_count": 5,
   "metadata": {},
   "outputs": [
    {
     "output_type": "execute_result",
     "data": {
      "text/plain": [
       "0        716865\n",
       "1      18006546\n",
       "2       4845998\n",
       "3       5360399\n",
       "4        481841\n",
       "         ...   \n",
       "250     6588941\n",
       "251     1149649\n",
       "252     5910142\n",
       "253      378920\n",
       "254     7689160\n",
       "Name: Time in ms, Length: 255, dtype: int64"
      ]
     },
     "metadata": {},
     "execution_count": 5
    }
   ],
   "source": [
    "df[\"Time in ms\"]"
   ]
  },
  {
   "cell_type": "code",
   "execution_count": null,
   "metadata": {},
   "outputs": [],
   "source": [
    "convert = []\n",
    "for i in df[\"Time in ms\"]:\n",
    "    s = i/1000"
   ]
  }
 ]
}