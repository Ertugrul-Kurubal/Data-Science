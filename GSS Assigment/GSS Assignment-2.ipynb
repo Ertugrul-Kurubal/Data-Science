{
 "metadata": {
  "language_info": {
   "codemirror_mode": {
    "name": "ipython",
    "version": 3
   },
   "file_extension": ".py",
   "mimetype": "text/x-python",
   "name": "python",
   "nbconvert_exporter": "python",
   "pygments_lexer": "ipython3",
   "version": "3.9.0-final"
  },
  "orig_nbformat": 2,
  "kernelspec": {
   "name": "python390jvsc74a57bd043a9cd95aa030499ef934e4da31e07dde54f3fc3a1fd0cc4aeef7f16459ee2ac",
   "display_name": "Python 3.9.0 64-bit"
  }
 },
 "nbformat": 4,
 "nbformat_minor": 2,
 "cells": [
  {
   "cell_type": "code",
   "execution_count": 1,
   "metadata": {},
   "outputs": [],
   "source": [
    "import pandas as pd \n",
    "import numpy as np \n",
    "import matplotlib.pyplot as plt \n",
    "import seaborn as sns"
   ]
  },
  {
   "cell_type": "code",
   "execution_count": 2,
   "metadata": {},
   "outputs": [],
   "source": [
    "df = pd.read_csv(\"bar_data.csv\")"
   ]
  },
  {
   "cell_type": "code",
   "execution_count": 3,
   "metadata": {},
   "outputs": [
    {
     "output_type": "execute_result",
     "data": {
      "text/plain": [
       "   Responder_id                          LanguagesWorkedWith\n",
       "0             1              HTML/CSS;Java;JavaScript;Python\n",
       "1             2                          C++;HTML/CSS;Python\n",
       "2             3                                     HTML/CSS\n",
       "3             4                          C;C++;C#;Python;SQL\n",
       "4             5  C++;HTML/CSS;Java;JavaScript;Python;SQL;VBA"
      ],
      "text/html": "<div>\n<style scoped>\n    .dataframe tbody tr th:only-of-type {\n        vertical-align: middle;\n    }\n\n    .dataframe tbody tr th {\n        vertical-align: top;\n    }\n\n    .dataframe thead th {\n        text-align: right;\n    }\n</style>\n<table border=\"1\" class=\"dataframe\">\n  <thead>\n    <tr style=\"text-align: right;\">\n      <th></th>\n      <th>Responder_id</th>\n      <th>LanguagesWorkedWith</th>\n    </tr>\n  </thead>\n  <tbody>\n    <tr>\n      <th>0</th>\n      <td>1</td>\n      <td>HTML/CSS;Java;JavaScript;Python</td>\n    </tr>\n    <tr>\n      <th>1</th>\n      <td>2</td>\n      <td>C++;HTML/CSS;Python</td>\n    </tr>\n    <tr>\n      <th>2</th>\n      <td>3</td>\n      <td>HTML/CSS</td>\n    </tr>\n    <tr>\n      <th>3</th>\n      <td>4</td>\n      <td>C;C++;C#;Python;SQL</td>\n    </tr>\n    <tr>\n      <th>4</th>\n      <td>5</td>\n      <td>C++;HTML/CSS;Java;JavaScript;Python;SQL;VBA</td>\n    </tr>\n  </tbody>\n</table>\n</div>"
     },
     "metadata": {},
     "execution_count": 3
    }
   ],
   "source": [
    "df.head()"
   ]
  },
  {
   "cell_type": "code",
   "execution_count": 4,
   "metadata": {},
   "outputs": [
    {
     "output_type": "execute_result",
     "data": {
      "text/plain": [
       "0                HTML/CSS;Java;JavaScript;Python\n",
       "1                            C++;HTML/CSS;Python\n",
       "2                                       HTML/CSS\n",
       "3                            C;C++;C#;Python;SQL\n",
       "4    C++;HTML/CSS;Java;JavaScript;Python;SQL;VBA\n",
       "Name: LanguagesWorkedWith, dtype: object"
      ]
     },
     "metadata": {},
     "execution_count": 4
    }
   ],
   "source": [
    "df.LanguagesWorkedWith.head()"
   ]
  },
  {
   "cell_type": "code",
   "execution_count": 5,
   "metadata": {},
   "outputs": [
    {
     "output_type": "execute_result",
     "data": {
      "text/plain": [
       "'HTML/CSS;Java;JavaScript;Python'"
      ]
     },
     "metadata": {},
     "execution_count": 5
    }
   ],
   "source": [
    "df.iloc[0][\"LanguagesWorkedWith\"]"
   ]
  },
  {
   "cell_type": "code",
   "execution_count": 6,
   "metadata": {},
   "outputs": [
    {
     "output_type": "execute_result",
     "data": {
      "text/plain": [
       "'HTML/CSS;Java;JavaScript;Python'"
      ]
     },
     "metadata": {},
     "execution_count": 6
    }
   ],
   "source": [
    "df.LanguagesWorkedWith.iloc[0]"
   ]
  },
  {
   "cell_type": "code",
   "execution_count": 7,
   "metadata": {},
   "outputs": [
    {
     "output_type": "execute_result",
     "data": {
      "text/plain": [
       "['HTML/CSS', 'Java', 'JavaScript', 'Python']"
      ]
     },
     "metadata": {},
     "execution_count": 7
    }
   ],
   "source": [
    "df.LanguagesWorkedWith.iloc[0].split(\";\")"
   ]
  },
  {
   "cell_type": "code",
   "execution_count": 8,
   "metadata": {},
   "outputs": [],
   "source": [
    "single_row = []\n",
    "for i in df.LanguagesWorkedWith.iloc[0].split(\";\"): # Selected 1 row\n",
    "    single_row.append(i)"
   ]
  },
  {
   "cell_type": "code",
   "execution_count": 9,
   "metadata": {},
   "outputs": [
    {
     "output_type": "execute_result",
     "data": {
      "text/plain": [
       "['HTML/CSS', 'Java', 'JavaScript', 'Python']"
      ]
     },
     "metadata": {},
     "execution_count": 9
    }
   ],
   "source": [
    "single_row"
   ]
  },
  {
   "cell_type": "code",
   "execution_count": 41,
   "metadata": {},
   "outputs": [],
   "source": [
    "multi_values = []\n",
    "a = 0\n",
    "for i in df.LanguagesWorkedWith.iloc[a].split(\";\"): # Selected all row\n",
    "    multi_values.append(i)\n",
    "    a = a + 1\n",
    "    #for j in i:\n",
    "        #multi_values.append(j)\n",
    "        #multi_values.append(j.split(\";\"))"
   ]
  },
  {
   "cell_type": "code",
   "execution_count": null,
   "metadata": {},
   "outputs": [],
   "source": [
    "multi_values = []\n",
    "a = 0\n",
    "for i in df.LanguagesWorkedWith.iloc[a].split(\";\"): # Selected all row\n",
    "    multi_values.append(i)\n",
    "    a = a + 1"
   ]
  },
  {
   "cell_type": "code",
   "execution_count": 10,
   "metadata": {},
   "outputs": [
    {
     "output_type": "execute_result",
     "data": {
      "text/plain": [
       "87569"
      ]
     },
     "metadata": {},
     "execution_count": 10
    }
   ],
   "source": [
    "len(df.LanguagesWorkedWith)"
   ]
  },
  {
   "cell_type": "code",
   "execution_count": 42,
   "metadata": {},
   "outputs": [
    {
     "output_type": "execute_result",
     "data": {
      "text/plain": [
       "['HTML/CSS', 'Java', 'JavaScript', 'Python']"
      ]
     },
     "metadata": {},
     "execution_count": 42
    }
   ],
   "source": [
    "multi_values"
   ]
  },
  {
   "cell_type": "code",
   "execution_count": 32,
   "metadata": {},
   "outputs": [
    {
     "output_type": "execute_result",
     "data": {
      "text/plain": [
       "0"
      ]
     },
     "metadata": {},
     "execution_count": 32
    }
   ],
   "source": [
    "b.count(\"Python\")"
   ]
  },
  {
   "cell_type": "code",
   "execution_count": 36,
   "metadata": {},
   "outputs": [
    {
     "output_type": "execute_result",
     "data": {
      "text/plain": [
       "0                          HTML/CSS;Java;JavaScript;Python\n",
       "1                                      C++;HTML/CSS;Python\n",
       "2                                                 HTML/CSS\n",
       "3                                      C;C++;C#;Python;SQL\n",
       "4              C++;HTML/CSS;Java;JavaScript;Python;SQL;VBA\n",
       "                               ...                        \n",
       "87564                             HTML/CSS;Java;JavaScript\n",
       "87565                           HTML/CSS;JavaScript;Python\n",
       "87566    Bash/Shell/PowerShell;Go;HTML/CSS;JavaScript;W...\n",
       "87567                        HTML/CSS;JavaScript;Other(s):\n",
       "87568    Bash/Shell/PowerShell;HTML/CSS;Java;JavaScript...\n",
       "Name: LanguagesWorkedWith, Length: 87569, dtype: object"
      ]
     },
     "metadata": {},
     "execution_count": 36
    }
   ],
   "source": [
    "df.LanguagesWorkedWith"
   ]
  },
  {
   "cell_type": "code",
   "execution_count": 33,
   "metadata": {},
   "outputs": [
    {
     "output_type": "execute_result",
     "data": {
      "text/plain": [
       "['HTML/CSS', 'Java', 'JavaScript', 'Python']"
      ]
     },
     "metadata": {},
     "execution_count": 33
    }
   ],
   "source": [
    "a = 0\n",
    "df.LanguagesWorkedWith.iloc[a].split(\";\")"
   ]
  },
  {
   "cell_type": "code",
   "execution_count": null,
   "metadata": {},
   "outputs": [],
   "source": []
  }
 ]
}