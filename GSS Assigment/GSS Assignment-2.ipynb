{
 "metadata": {
  "language_info": {
   "codemirror_mode": {
    "name": "ipython",
    "version": 3
   },
   "file_extension": ".py",
   "mimetype": "text/x-python",
   "name": "python",
   "nbconvert_exporter": "python",
   "pygments_lexer": "ipython3",
   "version": "3.9.0-final"
  },
  "orig_nbformat": 2,
  "kernelspec": {
   "name": "python390jvsc74a57bd043a9cd95aa030499ef934e4da31e07dde54f3fc3a1fd0cc4aeef7f16459ee2ac",
   "display_name": "Python 3.9.0 64-bit"
  }
 },
 "nbformat": 4,
 "nbformat_minor": 2,
 "cells": [
  {
   "cell_type": "code",
   "execution_count": 2,
   "metadata": {},
   "outputs": [],
   "source": [
    "import pandas as pd \n",
    "import numpy as np \n",
    "import matplotlib.pyplot as plt \n",
    "import seaborn as sns"
   ]
  },
  {
   "cell_type": "code",
   "execution_count": 3,
   "metadata": {},
   "outputs": [],
   "source": [
    "df = pd.read_csv(\"bar_data.csv\")"
   ]
  },
  {
   "cell_type": "code",
   "execution_count": 4,
   "metadata": {},
   "outputs": [
    {
     "output_type": "execute_result",
     "data": {
      "text/plain": [
       "       Responder_id                                LanguagesWorkedWith\n",
       "0                 1                    HTML/CSS;Java;JavaScript;Python\n",
       "1                 2                                C++;HTML/CSS;Python\n",
       "2                 3                                           HTML/CSS\n",
       "3                 4                                C;C++;C#;Python;SQL\n",
       "4                 5        C++;HTML/CSS;Java;JavaScript;Python;SQL;VBA\n",
       "...             ...                                                ...\n",
       "87564         88182                           HTML/CSS;Java;JavaScript\n",
       "87565         88212                         HTML/CSS;JavaScript;Python\n",
       "87566         88282  Bash/Shell/PowerShell;Go;HTML/CSS;JavaScript;W...\n",
       "87567         88377                      HTML/CSS;JavaScript;Other(s):\n",
       "87568         88863  Bash/Shell/PowerShell;HTML/CSS;Java;JavaScript...\n",
       "\n",
       "[87569 rows x 2 columns]"
      ],
      "text/html": "<div>\n<style scoped>\n    .dataframe tbody tr th:only-of-type {\n        vertical-align: middle;\n    }\n\n    .dataframe tbody tr th {\n        vertical-align: top;\n    }\n\n    .dataframe thead th {\n        text-align: right;\n    }\n</style>\n<table border=\"1\" class=\"dataframe\">\n  <thead>\n    <tr style=\"text-align: right;\">\n      <th></th>\n      <th>Responder_id</th>\n      <th>LanguagesWorkedWith</th>\n    </tr>\n  </thead>\n  <tbody>\n    <tr>\n      <th>0</th>\n      <td>1</td>\n      <td>HTML/CSS;Java;JavaScript;Python</td>\n    </tr>\n    <tr>\n      <th>1</th>\n      <td>2</td>\n      <td>C++;HTML/CSS;Python</td>\n    </tr>\n    <tr>\n      <th>2</th>\n      <td>3</td>\n      <td>HTML/CSS</td>\n    </tr>\n    <tr>\n      <th>3</th>\n      <td>4</td>\n      <td>C;C++;C#;Python;SQL</td>\n    </tr>\n    <tr>\n      <th>4</th>\n      <td>5</td>\n      <td>C++;HTML/CSS;Java;JavaScript;Python;SQL;VBA</td>\n    </tr>\n    <tr>\n      <th>...</th>\n      <td>...</td>\n      <td>...</td>\n    </tr>\n    <tr>\n      <th>87564</th>\n      <td>88182</td>\n      <td>HTML/CSS;Java;JavaScript</td>\n    </tr>\n    <tr>\n      <th>87565</th>\n      <td>88212</td>\n      <td>HTML/CSS;JavaScript;Python</td>\n    </tr>\n    <tr>\n      <th>87566</th>\n      <td>88282</td>\n      <td>Bash/Shell/PowerShell;Go;HTML/CSS;JavaScript;W...</td>\n    </tr>\n    <tr>\n      <th>87567</th>\n      <td>88377</td>\n      <td>HTML/CSS;JavaScript;Other(s):</td>\n    </tr>\n    <tr>\n      <th>87568</th>\n      <td>88863</td>\n      <td>Bash/Shell/PowerShell;HTML/CSS;Java;JavaScript...</td>\n    </tr>\n  </tbody>\n</table>\n<p>87569 rows × 2 columns</p>\n</div>"
     },
     "metadata": {},
     "execution_count": 4
    }
   ],
   "source": [
    "df"
   ]
  },
  {
   "cell_type": "code",
   "execution_count": 5,
   "metadata": {},
   "outputs": [
    {
     "output_type": "execute_result",
     "data": {
      "text/plain": [
       "0                          HTML/CSS;Java;JavaScript;Python\n",
       "1                                      C++;HTML/CSS;Python\n",
       "2                                                 HTML/CSS\n",
       "3                                      C;C++;C#;Python;SQL\n",
       "4              C++;HTML/CSS;Java;JavaScript;Python;SQL;VBA\n",
       "                               ...                        \n",
       "87564                             HTML/CSS;Java;JavaScript\n",
       "87565                           HTML/CSS;JavaScript;Python\n",
       "87566    Bash/Shell/PowerShell;Go;HTML/CSS;JavaScript;W...\n",
       "87567                        HTML/CSS;JavaScript;Other(s):\n",
       "87568    Bash/Shell/PowerShell;HTML/CSS;Java;JavaScript...\n",
       "Name: LanguagesWorkedWith, Length: 87569, dtype: object"
      ]
     },
     "metadata": {},
     "execution_count": 5
    }
   ],
   "source": [
    "df.LanguagesWorkedWith"
   ]
  },
  {
   "cell_type": "code",
   "execution_count": null,
   "metadata": {},
   "outputs": [],
   "source": []
  }
 ]
}